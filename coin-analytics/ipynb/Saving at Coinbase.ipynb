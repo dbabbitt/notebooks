{
 "cells": [
  {
   "cell_type": "code",
   "execution_count": 1,
   "metadata": {},
   "outputs": [],
   "source": [
    "\n",
    "%run ../../load_magic/storage\n",
    "s = Storage()"
   ]
  },
  {
   "cell_type": "code",
   "execution_count": 12,
   "metadata": {
    "tags": []
   },
   "outputs": [],
   "source": [
    "\n",
    "# Download CoinBase prices\n",
    "from urllib.request import urlretrieve\n",
    "import gzip\n",
    "import os\n",
    "import numpy as np\n",
    "from datetime import datetime"
   ]
  },
  {
   "cell_type": "code",
   "execution_count": 20,
   "metadata": {
    "tags": []
   },
   "outputs": [],
   "source": [
    "\n",
    "# http://api.bitcoincharts.com/v1/csv/\n",
    "def get_price_data(price_history_name, price_history_url, column_list):\n",
    "    frame_name = str(price_history_name) + '_df'\n",
    "    pickle_path = s.saves_folder + 'pickle/' + frame_name + '.pickle'\n",
    "    if not os.path.isfile(pickle_path):\n",
    "        \n",
    "        csv_path = s.data_folder + 'csv/' + frame_name + '.csv'\n",
    "        if not os.path.isfile(csv_path):\n",
    "\n",
    "            out_file_path = s.data_folder + 'csv/' + str(price_history_name) + '.csv'\n",
    "            if not os.path.isfile(out_file_path):\n",
    "                print('Retrieving ' + price_history_url)\n",
    "                local_filename, headers = urlretrieve(price_history_url)\n",
    "                print('Decompressing ' + local_filename)\n",
    "                with gzip.open(local_filename, 'rb') as f:\n",
    "                    price_history_decompressed = f.read()\n",
    "                print('Decoding to ' + out_file_path)\n",
    "                with open(out_file_path, 'w') as output:\n",
    "                    size = output.write(price_history_decompressed.decode())\n",
    "            \n",
    "            print('Converting ' + out_file_path)\n",
    "            price_history_df = pd.read_csv(out_file_path, encoding=s.encoding_type, header=None)\n",
    "\n",
    "            price_history_df.columns = column_list\n",
    "            if 'time_stamp' in column_list:\n",
    "                price_history_df['date'] = price_history_df['time_stamp'].map(lambda x: pd.to_datetime(x, unit='s'))\n",
    "            else:\n",
    "                price_history_df['date'] = price_history_df['date'].map(lambda x: datetime.strptime(str(x).strip(), '%x'))\n",
    "            price_history_df = price_history_df.sort_values('date')\n",
    "            price_history_df['year'] = price_history_df['date'].map(lambda x: x.year)\n",
    "            price_history_df['month'] = price_history_df['date'].map(lambda x: x.month)\n",
    "            price_history_df['day'] = price_history_df['date'].map(lambda x: x.day)\n",
    "            price_history_df['week_day'] = price_history_df['date'].map(lambda x: x.weekday())\n",
    "            hard_date = price_history_df ['date'].min()\n",
    "            price_history_df['days_from'] = price_history_df ['date'].map(lambda x: (x - hard_date).days)\n",
    "            price_history_df['log_price'] = price_history_df['price'].map(lambda x: np.log(x))\n",
    "            price_history_df['price_diff'] = price_history_df['price'].diff()\n",
    "            price_history_df['log_diff'] = price_history_df['log_price'].diff()\n",
    "\n",
    "            match_series = (price_history_df['log_price'] <= 0)\n",
    "            price_history_df = price_history_df[~match_series]\n",
    "            \n",
    "            print('Now saving as a csv.')\n",
    "            price_history_df.to_csv(csv_path, sep=',', encoding=s.encoding_type, index=False)\n",
    "                \n",
    "        else:\n",
    "            print('Loading ' + frame_name + ' from csv')\n",
    "            price_history_df = load_csv(frame_name, folder_path=saves_folder)\n",
    "            price_history_df['date'] = price_history_df['date'].map(lambda x: pd.to_datetime(x))\n",
    "\n",
    "    else:\n",
    "        print('Loading ' + frame_name + ' from pickle')\n",
    "        price_history_df = load_object(frame_name)\n",
    "    \n",
    "    return price_history_df"
   ]
  },
  {
   "cell_type": "code",
   "execution_count": null,
   "metadata": {},
   "outputs": [
    {
     "name": "stdout",
     "output_type": "stream",
     "text": [
      "Converting ../data/csv/coinbaseUSD.csv\n"
     ]
    }
   ],
   "source": [
    "\n",
    "# Validates with https://en.wikipedia.org/wiki/History_of_bitcoin\n",
    "price_history_url = 'http://api.bitcoincharts.com/v1/csv/coinbaseUSD.csv.gz'\n",
    "column_list = ['time_stamp', 'price', 'idono']\n",
    "coinbaseUSD_df = get_price_data('coinbaseUSD', price_history_url, column_list)\n",
    "coinbaseUSD_df.head()"
   ]
  },
  {
   "cell_type": "code",
   "execution_count": null,
   "metadata": {},
   "outputs": [],
   "source": [
    "\n",
    "hard_date = coinbaseUSD_df ['date'].min()\n",
    "coinbaseUSD_df['days_from'] = coinbaseUSD_df ['date'].map(lambda x: (x - hard_date).days)\n",
    "coinbaseUSD_df['price_diff'] = coinbaseUSD_df.sort_values('date')['price'].diff()\n",
    "coinbaseUSD_df['log_price'] = coinbaseUSD_df['price'].map(lambda x: np.log(x))\n",
    "coinbaseUSD_df['log_diff'] = coinbaseUSD_df.sort_values('date')['log_price'].diff()\n",
    "coinbaseUSD_df.head()"
   ]
  },
  {
   "cell_type": "code",
   "execution_count": 6,
   "metadata": {},
   "outputs": [
    {
     "name": "stdout",
     "output_type": "stream",
     "text": [
      "Pickling to ../saves/pickle/coinbaseUSD_df.pickle\n",
      "[Errno 22] Invalid argument : Couldn't save 315,429,708 cells as a pickle.\n",
      "Now saving as a csv.\n"
     ]
    },
    {
     "data": {
      "text/html": [
       "<div>\n",
       "<style>\n",
       "    .dataframe thead tr:only-child th {\n",
       "        text-align: right;\n",
       "    }\n",
       "\n",
       "    .dataframe thead th {\n",
       "        text-align: left;\n",
       "    }\n",
       "\n",
       "    .dataframe tbody tr th {\n",
       "        vertical-align: top;\n",
       "    }\n",
       "</style>\n",
       "<table border=\"1\" class=\"dataframe\">\n",
       "  <thead>\n",
       "    <tr style=\"text-align: right;\">\n",
       "      <th></th>\n",
       "      <th>time_stamp</th>\n",
       "      <th>price</th>\n",
       "      <th>idono</th>\n",
       "      <th>date</th>\n",
       "      <th>year</th>\n",
       "      <th>month</th>\n",
       "      <th>day</th>\n",
       "      <th>week_day</th>\n",
       "      <th>log_price</th>\n",
       "      <th>log_diff</th>\n",
       "      <th>days_from</th>\n",
       "      <th>price_diff</th>\n",
       "    </tr>\n",
       "  </thead>\n",
       "  <tbody>\n",
       "    <tr>\n",
       "      <th>0</th>\n",
       "      <td>1417412036</td>\n",
       "      <td>300.0</td>\n",
       "      <td>0.010000</td>\n",
       "      <td>2014-12-01 05:33:56</td>\n",
       "      <td>2014</td>\n",
       "      <td>12</td>\n",
       "      <td>1</td>\n",
       "      <td>0</td>\n",
       "      <td>5.703782</td>\n",
       "      <td>NaN</td>\n",
       "      <td>0</td>\n",
       "      <td>NaN</td>\n",
       "    </tr>\n",
       "    <tr>\n",
       "      <th>1</th>\n",
       "      <td>1417412423</td>\n",
       "      <td>300.0</td>\n",
       "      <td>0.010000</td>\n",
       "      <td>2014-12-01 05:40:23</td>\n",
       "      <td>2014</td>\n",
       "      <td>12</td>\n",
       "      <td>1</td>\n",
       "      <td>0</td>\n",
       "      <td>5.703782</td>\n",
       "      <td>0.000000</td>\n",
       "      <td>0</td>\n",
       "      <td>0.0</td>\n",
       "    </tr>\n",
       "    <tr>\n",
       "      <th>2</th>\n",
       "      <td>1417415048</td>\n",
       "      <td>370.0</td>\n",
       "      <td>0.010000</td>\n",
       "      <td>2014-12-01 06:24:08</td>\n",
       "      <td>2014</td>\n",
       "      <td>12</td>\n",
       "      <td>1</td>\n",
       "      <td>0</td>\n",
       "      <td>5.913503</td>\n",
       "      <td>0.209721</td>\n",
       "      <td>0</td>\n",
       "      <td>70.0</td>\n",
       "    </tr>\n",
       "    <tr>\n",
       "      <th>3</th>\n",
       "      <td>1417416612</td>\n",
       "      <td>370.0</td>\n",
       "      <td>0.026556</td>\n",
       "      <td>2014-12-01 06:50:12</td>\n",
       "      <td>2014</td>\n",
       "      <td>12</td>\n",
       "      <td>1</td>\n",
       "      <td>0</td>\n",
       "      <td>5.913503</td>\n",
       "      <td>0.000000</td>\n",
       "      <td>0</td>\n",
       "      <td>0.0</td>\n",
       "    </tr>\n",
       "    <tr>\n",
       "      <th>4</th>\n",
       "      <td>1417498166</td>\n",
       "      <td>377.0</td>\n",
       "      <td>0.010000</td>\n",
       "      <td>2014-12-02 05:29:26</td>\n",
       "      <td>2014</td>\n",
       "      <td>12</td>\n",
       "      <td>2</td>\n",
       "      <td>1</td>\n",
       "      <td>5.932245</td>\n",
       "      <td>0.018742</td>\n",
       "      <td>0</td>\n",
       "      <td>7.0</td>\n",
       "    </tr>\n",
       "  </tbody>\n",
       "</table>\n",
       "</div>"
      ],
      "text/plain": [
       "   time_stamp  price     idono                date  year  month  day  \\\n",
       "0  1417412036  300.0  0.010000 2014-12-01 05:33:56  2014     12    1   \n",
       "1  1417412423  300.0  0.010000 2014-12-01 05:40:23  2014     12    1   \n",
       "2  1417415048  370.0  0.010000 2014-12-01 06:24:08  2014     12    1   \n",
       "3  1417416612  370.0  0.026556 2014-12-01 06:50:12  2014     12    1   \n",
       "4  1417498166  377.0  0.010000 2014-12-02 05:29:26  2014     12    2   \n",
       "\n",
       "   week_day  log_price  log_diff  days_from  price_diff  \n",
       "0         0   5.703782       NaN          0         NaN  \n",
       "1         0   5.703782  0.000000          0         0.0  \n",
       "2         0   5.913503  0.209721          0        70.0  \n",
       "3         0   5.913503  0.000000          0         0.0  \n",
       "4         1   5.932245  0.018742          0         7.0  "
      ]
     },
     "execution_count": 6,
     "metadata": {},
     "output_type": "execute_result"
    }
   ],
   "source": [
    "\n",
    "pickle_path = saves_folder + 'pickle/coinbaseUSD_df.pickle'\n",
    "try:\n",
    "    attempt_to_pickle(coinbaseUSD_df, pickle_path, raise_exception=True)\n",
    "except:\n",
    "    print('Now saving as a csv.')\n",
    "    csv_path = data_folder + 'csv/coinbaseUSD_df.csv'\n",
    "    coinbaseUSD_df.to_csv(csv_path, sep=',', encoding=encoding, index=False)\n",
    "coinbaseUSD_df.head()"
   ]
  },
  {
   "cell_type": "code",
   "execution_count": 7,
   "metadata": {},
   "outputs": [
    {
     "data": {
      "image/png": "[encoded data removed]",
      "text/plain": [
       "<matplotlib.figure.Figure at 0x10565ed68>"
      ]
     },
     "metadata": {},
     "output_type": "display_data"
    }
   ],
   "source": [
    "\n",
    "%matplotlib inline\n",
    "from matplotlib import pyplot as plt\n",
    "from pyhsmm.util.plot import pca_project_data\n",
    "\n",
    "column_list = ['days_from', 'price']\n",
    "line_2d = plt.plot(pca_project_data(coinbaseUSD_df[column_list].as_matrix(), 2))"
   ]
  },
  {
   "cell_type": "code",
   "execution_count": 8,
   "metadata": {
    "collapsed": true,
    "jupyter": {
     "outputs_hidden": true
    }
   },
   "outputs": [],
   "source": [
    "\n",
    "def get_min_max(df, column_name, circle_min=5, circle_max=500):\n",
    "    min_max_scaler = MinMaxScaler(feature_range=(circle_min, circle_max))\n",
    "    min_max = min_max_scaler.fit_transform(df[column_name].values.reshape(-1, 1))\n",
    "    \n",
    "    return min_max"
   ]
  },
  {
   "cell_type": "code",
   "execution_count": 9,
   "metadata": {},
   "outputs": [
    {
     "data": {
      "text/html": [
       "<div>\n",
       "<style>\n",
       "    .dataframe thead tr:only-child th {\n",
       "        text-align: right;\n",
       "    }\n",
       "\n",
       "    .dataframe thead th {\n",
       "        text-align: left;\n",
       "    }\n",
       "\n",
       "    .dataframe tbody tr th {\n",
       "        vertical-align: top;\n",
       "    }\n",
       "</style>\n",
       "<table border=\"1\" class=\"dataframe\">\n",
       "  <thead>\n",
       "    <tr style=\"text-align: right;\">\n",
       "      <th></th>\n",
       "      <th>7371701</th>\n",
       "      <th>19520476</th>\n",
       "      <th>15156102</th>\n",
       "      <th>22231761</th>\n",
       "      <th>9469035</th>\n",
       "    </tr>\n",
       "  </thead>\n",
       "  <tbody>\n",
       "    <tr>\n",
       "      <th>week_day</th>\n",
       "      <td>6.00</td>\n",
       "      <td>5.00</td>\n",
       "      <td>3.00</td>\n",
       "      <td>4.00</td>\n",
       "      <td>1.00</td>\n",
       "    </tr>\n",
       "    <tr>\n",
       "      <th>price_diff</th>\n",
       "      <td>0.01</td>\n",
       "      <td>-0.31</td>\n",
       "      <td>-0.03</td>\n",
       "      <td>0.00</td>\n",
       "      <td>0.04</td>\n",
       "    </tr>\n",
       "    <tr>\n",
       "      <th>price</th>\n",
       "      <td>413.47</td>\n",
       "      <td>4140.88</td>\n",
       "      <td>1864.40</td>\n",
       "      <td>5707.75</td>\n",
       "      <td>688.00</td>\n",
       "    </tr>\n",
       "    <tr>\n",
       "      <th>month</th>\n",
       "      <td>3.00</td>\n",
       "      <td>8.00</td>\n",
       "      <td>5.00</td>\n",
       "      <td>10.00</td>\n",
       "      <td>6.00</td>\n",
       "    </tr>\n",
       "  </tbody>\n",
       "</table>\n",
       "</div>"
      ],
      "text/plain": [
       "            7371701   19520476  15156102  22231761  9469035 \n",
       "week_day        6.00      5.00      3.00      4.00      1.00\n",
       "price_diff      0.01     -0.31     -0.03      0.00      0.04\n",
       "price         413.47   4140.88   1864.40   5707.75    688.00\n",
       "month           3.00      8.00      5.00     10.00      6.00"
      ]
     },
     "execution_count": 9,
     "metadata": {},
     "output_type": "execute_result"
    }
   ],
   "source": [
    "\n",
    "%matplotlib inline\n",
    "import random\n",
    "import matplotlib.pyplot as plt\n",
    "from sklearn.cluster import DBSCAN\n",
    "\n",
    "numeric_list = ['price', 'year', 'month', 'day', 'week_day', 'log_price', 'price_diff', 'log_diff']\n",
    "column_list = random.sample(numeric_list, 4)\n",
    "df = coinbaseUSD_df[column_list].dropna()\n",
    "df.sample(5).T"
   ]
  },
  {
   "cell_type": "code",
   "execution_count": null,
   "metadata": {
    "collapsed": true,
    "jupyter": {
     "outputs_hidden": true
    }
   },
   "outputs": [],
   "source": [
    "\n",
    "c_column_name = column_list.pop()\n",
    "s_column_name = column_list.pop()\n",
    "df_matrix = df[column_list].as_matrix()\n",
    "y_column_name = column_list.pop()\n",
    "x_column_name = column_list.pop()\n",
    "cmap = plt.get_cmap('viridis_r')"
   ]
  },
  {
   "cell_type": "code",
   "execution_count": null,
   "metadata": {
    "collapsed": true,
    "jupyter": {
     "outputs_hidden": true
    }
   },
   "outputs": [],
   "source": [
    "\n",
    "from sklearn.cluster import DBSCAN\n",
    "\n",
    "# Compute DBSCAN\n",
    "db_DBSCAN = DBSCAN().fit(df_matrix)"
   ]
  },
  {
   "cell_type": "code",
   "execution_count": null,
   "metadata": {
    "collapsed": true,
    "jupyter": {
     "outputs_hidden": true
    }
   },
   "outputs": [],
   "source": [
    "\n",
    "# Don't want to fit this puppy again\n",
    "store_objects(db_DBSCAN=db_DBSCAN)"
   ]
  },
  {
   "cell_type": "code",
   "execution_count": null,
   "metadata": {
    "collapsed": true,
    "jupyter": {
     "outputs_hidden": true
    }
   },
   "outputs": [],
   "source": [
    "\n",
    "fig = plt.figure(figsize=(13, 13))\n",
    "ax = fig.add_subplot(111, autoscale_on=True)\n",
    "path_collection = ax.scatter(df_matrix[:, 0], df_matrix[:, 1],\n",
    "                             s=get_min_max(df, s_column_name),\n",
    "                             c=get_min_max(df, c_column_name),\n",
    "                             edgecolors=(0, 0, 0), cmap=cmap)\n",
    "title_text = ('Scatterplot of the Coinbase ' +\n",
    "              x_column_name + ' and ' +\n",
    "              y_column_name + ' Fields with ' +\n",
    "              s_column_name + ' as the Size and ' +\n",
    "              c_column_name + ' as the Color')\n",
    "text = plt.title(title_text)"
   ]
  },
  {
   "cell_type": "code",
   "execution_count": null,
   "metadata": {
    "collapsed": true,
    "jupyter": {
     "outputs_hidden": true
    }
   },
   "outputs": [],
   "source": [
    "\n",
    "coinbaseUSD_df.loc[coinbaseUSD_df.shape[0]-1]"
   ]
  },
  {
   "cell_type": "markdown",
   "metadata": {},
   "source": [
    "\n",
    "## Buying Digital Currency\n",
    "\n",
    "Fees are added to the amount entered to arrive at the total for the order. For example, if you enter \\$100 USD as the amount of BTC to buy, and the fee is 1.49%, your total will be \\$101.49. That total will be charged to your payment method and you will receive \\$100 worth of BTC."
   ]
  },
  {
   "cell_type": "code",
   "execution_count": null,
   "metadata": {
    "collapsed": true,
    "jupyter": {
     "outputs_hidden": true
    }
   },
   "outputs": [],
   "source": [
    "\n",
    "coinbaseUSD_df['date'].dtype"
   ]
  },
  {
   "cell_type": "code",
   "execution_count": null,
   "metadata": {
    "collapsed": true,
    "jupyter": {
     "outputs_hidden": true
    }
   },
   "outputs": [],
   "source": [
    "\n",
    "groupby_list = ['year', 'month', 'day']\n",
    "monday_price_df = coinbaseUSD_df.groupby(groupby_list,\n",
    "                                         as_index=False).apply(lambda x: x.loc[[x.date.idxmax()]]).copy()\n",
    "match_series = (monday_price_df['week_day'] == 0)\n",
    "monday_price_df = monday_price_df[match_series].reset_index(drop=True)"
   ]
  },
  {
   "cell_type": "code",
   "execution_count": null,
   "metadata": {
    "collapsed": true,
    "jupyter": {
     "outputs_hidden": true
    }
   },
   "outputs": [],
   "source": [
    "\n",
    "from datetime import datetime\n",
    "import pandas as pd\n",
    "\n",
    "trading_fee = 0.0149\n",
    "weekly_budget = 5.0\n",
    "latest_price = coinbaseUSD_df.loc[coinbaseUSD_df.shape[0]-1]['price']\n",
    "def total_saved(weekly_budget, format_result=True):\n",
    "    weekly_amount = weekly_budget - weekly_budget*trading_fee\n",
    "    column_list = ['date_time', 'shares_added']\n",
    "    rows_list = []\n",
    "    trading_date = datetime(monday_price_df.loc[0, 'year'].squeeze(),\n",
    "                            monday_price_df.loc[0, 'month'].squeeze(),\n",
    "                            monday_price_df.loc[0, 'day'].squeeze())\n",
    "    for row_index, row_series in monday_price_df.iterrows():\n",
    "        row_dict = {}\n",
    "        row_dict['date_time'] = row_series['date']\n",
    "        row_dict['shares_added'] = weekly_amount/row_series['price']\n",
    "        rows_list.append(row_dict)\n",
    "\n",
    "    weekly_amount_df = pd.DataFrame(rows_list, columns=column_list)\n",
    "    total_amount = weekly_amount_df['shares_added'].sum()*latest_price\n",
    "    if format_result:\n",
    "        total_amount = '${:,.2f}'.format(total_amount)\n",
    "    \n",
    "    return total_amount"
   ]
  },
  {
   "cell_type": "code",
   "execution_count": null,
   "metadata": {
    "collapsed": true,
    "jupyter": {
     "outputs_hidden": true
    }
   },
   "outputs": [],
   "source": [
    "\n",
    "print(total_saved(10.))"
   ]
  },
  {
   "cell_type": "code",
   "execution_count": null,
   "metadata": {
    "collapsed": true,
    "jupyter": {
     "outputs_hidden": true
    }
   },
   "outputs": [],
   "source": [
    "\n",
    "import statsmodels.formula.api as smf\n",
    "\n",
    "# Use ols function for calculating the F-statistic and associated p value\n",
    "price_history_ols = smf.ols(formula='log_price ~ time_stamp', data=coinbaseUSD_df)\n",
    "price_history_fitted = price_history_ols.fit()\n",
    "price_history_fitted.summary()"
   ]
  },
  {
   "cell_type": "code",
   "execution_count": null,
   "metadata": {
    "collapsed": true,
    "jupyter": {
     "outputs_hidden": true
    }
   },
   "outputs": [],
   "source": [
    "\n",
    "params_series = price_history_fitted.params\n",
    "\n",
    "def date_when(amount):\n",
    "    time_stamp = (np.log(amount)-params_series.loc['Intercept'])/params_series.loc['time_stamp']\n",
    "    date_time = pd.to_datetime(time_stamp, unit='s')\n",
    "    \n",
    "    return date_time.strftime('%Y-%m-%d')"
   ]
  },
  {
   "cell_type": "code",
   "execution_count": null,
   "metadata": {
    "collapsed": true,
    "jupyter": {
     "outputs_hidden": true
    }
   },
   "outputs": [],
   "source": [
    "\n",
    "date_when(110000)"
   ]
  },
  {
   "cell_type": "code",
   "execution_count": null,
   "metadata": {
    "collapsed": true,
    "jupyter": {
     "outputs_hidden": true
    }
   },
   "outputs": [],
   "source": [
    "\n",
    "%matplotlib inline\n",
    "\n",
    "axes_sub_plot = coinbaseUSD_df.plot(x='date', y='price', kind='line', figsize=(15, 5), logy=True)"
   ]
  },
  {
   "cell_type": "code",
   "execution_count": null,
   "metadata": {
    "collapsed": true,
    "jupyter": {
     "outputs_hidden": true
    }
   },
   "outputs": [],
   "source": [
    "\n",
    "# How do you add a second line to the plot?\n",
    "axes_sub_plot.plot(x=coinbaseUSD_df['date'], y=np.exp(params_series.loc['Intercept']+coinbaseUSD_df['log_price']*params_series.loc['time_stamp']),\n",
    "                   kind='line', figsize=(15, 5), logy=True)"
   ]
  },
  {
   "cell_type": "code",
   "execution_count": null,
   "metadata": {
    "collapsed": true,
    "jupyter": {
     "outputs_hidden": true
    }
   },
   "outputs": [],
   "source": [
    "\n",
    "coinbaseUSD_df.loc[0, 'date']"
   ]
  },
  {
   "cell_type": "code",
   "execution_count": null,
   "metadata": {
    "collapsed": true,
    "jupyter": {
     "outputs_hidden": true
    }
   },
   "outputs": [],
   "source": [
    "\n",
    "column_list = ['amount_per_week', 'total_saved']\n",
    "amount_per_week = range(0, 500)\n",
    "amount_saved = [total_saved(amount, format_result=False) for amount in amount_per_week]\n",
    "rows_list = [dict(zip(column_list, [w, s])) for w, s in zip(amount_per_week, amount_saved)]\n",
    "weekly_amount_df = pd.DataFrame(rows_list, columns=column_list)\n",
    "axes_sub_plot = weekly_amount_df.plot(x='amount_per_week', y='total_saved', kind='line', figsize=(15, 5), logy=False)"
   ]
  },
  {
   "cell_type": "code",
   "execution_count": null,
   "metadata": {
    "collapsed": true,
    "jupyter": {
     "outputs_hidden": true
    }
   },
   "outputs": [],
   "source": [
    "\n",
    "price_history_url = None\n",
    "column_list = ['date', 'close', 'volume', 'price', 'high', 'low']\n",
    "WMT_df = get_price_data('WMT', price_history_url, column_list)\n",
    "WMT_df.head()"
   ]
  },
  {
   "cell_type": "code",
   "execution_count": null,
   "metadata": {
    "collapsed": true,
    "jupyter": {
     "outputs_hidden": true
    }
   },
   "outputs": [],
   "source": [
    "\n",
    "coinbaseUSD_df['log_diff'].std()"
   ]
  },
  {
   "cell_type": "code",
   "execution_count": null,
   "metadata": {
    "collapsed": true,
    "jupyter": {
     "outputs_hidden": true
    }
   },
   "outputs": [],
   "source": [
    "\n",
    "match_series = (WMT_df['date'] < coinbaseUSD_df.loc[0, 'date'])\n",
    "WMT_df[~match_series]['log_diff'].std()"
   ]
  },
  {
   "cell_type": "code",
   "execution_count": null,
   "metadata": {
    "collapsed": true,
    "jupyter": {
     "outputs_hidden": true
    }
   },
   "outputs": [],
   "source": [
    "\n",
    "coinbaseUSD_df.shape"
   ]
  },
  {
   "cell_type": "code",
   "execution_count": 3,
   "metadata": {},
   "outputs": [
    {
     "ename": "ImportError",
     "evalue": "lxml not found, please install it",
     "output_type": "error",
     "traceback": [
      "\u001b[0;31m---------------------------------------------------------------------------\u001b[0m",
      "\u001b[0;31mImportError\u001b[0m                               Traceback (most recent call last)",
      "\u001b[0;32m<ipython-input-3-5d235636b762>\u001b[0m in \u001b[0;36m<module>\u001b[0;34m()\u001b[0m\n\u001b[1;32m      1\u001b[0m \u001b[0;34m\u001b[0m\u001b[0m\n\u001b[0;32m----> 2\u001b[0;31m \u001b[0mSaP_df\u001b[0m \u001b[0;34m=\u001b[0m \u001b[0mpd\u001b[0m\u001b[0;34m.\u001b[0m\u001b[0mread_html\u001b[0m\u001b[0;34m(\u001b[0m\u001b[0mdata_folder\u001b[0m \u001b[0;34m+\u001b[0m \u001b[0;34m'html/S_and_P_500_by_month.html'\u001b[0m\u001b[0;34m)\u001b[0m\u001b[0;34m[\u001b[0m\u001b[0;36m0\u001b[0m\u001b[0;34m]\u001b[0m\u001b[0;34m\u001b[0m\u001b[0m\n\u001b[0m",
      "\u001b[0;32m/usr/local/lib/python3.6/site-packages/pandas/io/html.py\u001b[0m in \u001b[0;36mread_html\u001b[0;34m(io, match, flavor, header, index_col, skiprows, attrs, parse_dates, tupleize_cols, thousands, encoding, decimal, converters, na_values, keep_default_na)\u001b[0m\n\u001b[1;32m    913\u001b[0m                   \u001b[0mthousands\u001b[0m\u001b[0;34m=\u001b[0m\u001b[0mthousands\u001b[0m\u001b[0;34m,\u001b[0m \u001b[0mattrs\u001b[0m\u001b[0;34m=\u001b[0m\u001b[0mattrs\u001b[0m\u001b[0;34m,\u001b[0m \u001b[0mencoding\u001b[0m\u001b[0;34m=\u001b[0m\u001b[0mencoding\u001b[0m\u001b[0;34m,\u001b[0m\u001b[0;34m\u001b[0m\u001b[0m\n\u001b[1;32m    914\u001b[0m                   \u001b[0mdecimal\u001b[0m\u001b[0;34m=\u001b[0m\u001b[0mdecimal\u001b[0m\u001b[0;34m,\u001b[0m \u001b[0mconverters\u001b[0m\u001b[0;34m=\u001b[0m\u001b[0mconverters\u001b[0m\u001b[0;34m,\u001b[0m \u001b[0mna_values\u001b[0m\u001b[0;34m=\u001b[0m\u001b[0mna_values\u001b[0m\u001b[0;34m,\u001b[0m\u001b[0;34m\u001b[0m\u001b[0m\n\u001b[0;32m--> 915\u001b[0;31m                   keep_default_na=keep_default_na)\n\u001b[0m",
      "\u001b[0;32m/usr/local/lib/python3.6/site-packages/pandas/io/html.py\u001b[0m in \u001b[0;36m_parse\u001b[0;34m(flavor, io, match, attrs, encoding, **kwargs)\u001b[0m\n\u001b[1;32m    737\u001b[0m     \u001b[0mretained\u001b[0m \u001b[0;34m=\u001b[0m \u001b[0;32mNone\u001b[0m\u001b[0;34m\u001b[0m\u001b[0m\n\u001b[1;32m    738\u001b[0m     \u001b[0;32mfor\u001b[0m \u001b[0mflav\u001b[0m \u001b[0;32min\u001b[0m \u001b[0mflavor\u001b[0m\u001b[0;34m:\u001b[0m\u001b[0;34m\u001b[0m\u001b[0m\n\u001b[0;32m--> 739\u001b[0;31m         \u001b[0mparser\u001b[0m \u001b[0;34m=\u001b[0m \u001b[0m_parser_dispatch\u001b[0m\u001b[0;34m(\u001b[0m\u001b[0mflav\u001b[0m\u001b[0;34m)\u001b[0m\u001b[0;34m\u001b[0m\u001b[0m\n\u001b[0m\u001b[1;32m    740\u001b[0m         \u001b[0mp\u001b[0m \u001b[0;34m=\u001b[0m \u001b[0mparser\u001b[0m\u001b[0;34m(\u001b[0m\u001b[0mio\u001b[0m\u001b[0;34m,\u001b[0m \u001b[0mcompiled_match\u001b[0m\u001b[0;34m,\u001b[0m \u001b[0mattrs\u001b[0m\u001b[0;34m,\u001b[0m \u001b[0mencoding\u001b[0m\u001b[0;34m)\u001b[0m\u001b[0;34m\u001b[0m\u001b[0m\n\u001b[1;32m    741\u001b[0m \u001b[0;34m\u001b[0m\u001b[0m\n",
      "\u001b[0;32m/usr/local/lib/python3.6/site-packages/pandas/io/html.py\u001b[0m in \u001b[0;36m_parser_dispatch\u001b[0;34m(flavor)\u001b[0m\n\u001b[1;32m    695\u001b[0m     \u001b[0;32melse\u001b[0m\u001b[0;34m:\u001b[0m\u001b[0;34m\u001b[0m\u001b[0m\n\u001b[1;32m    696\u001b[0m         \u001b[0;32mif\u001b[0m \u001b[0;32mnot\u001b[0m \u001b[0m_HAS_LXML\u001b[0m\u001b[0;34m:\u001b[0m\u001b[0;34m\u001b[0m\u001b[0m\n\u001b[0;32m--> 697\u001b[0;31m             \u001b[0;32mraise\u001b[0m \u001b[0mImportError\u001b[0m\u001b[0;34m(\u001b[0m\u001b[0;34m\"lxml not found, please install it\"\u001b[0m\u001b[0;34m)\u001b[0m\u001b[0;34m\u001b[0m\u001b[0m\n\u001b[0m\u001b[1;32m    698\u001b[0m     \u001b[0;32mreturn\u001b[0m \u001b[0m_valid_parsers\u001b[0m\u001b[0;34m[\u001b[0m\u001b[0mflavor\u001b[0m\u001b[0;34m]\u001b[0m\u001b[0;34m\u001b[0m\u001b[0m\n\u001b[1;32m    699\u001b[0m \u001b[0;34m\u001b[0m\u001b[0m\n",
      "\u001b[0;31mImportError\u001b[0m: lxml not found, please install it"
     ]
    }
   ],
   "source": [
    "\n",
    "SaP_df = pd.read_html(data_folder + 'html/S_and_P_500_by_month.html')[0]"
   ]
  },
  {
   "cell_type": "code",
   "execution_count": null,
   "metadata": {
    "collapsed": true,
    "jupyter": {
     "outputs_hidden": true
    }
   },
   "outputs": [],
   "source": [
    "\n",
    "SaP_df.columns = ['date', 'price']\n",
    "SaP_df = SaP_df.reindex(SaP_df.index.drop(0))\n",
    "SaP_df['date'] = SaP_df['date'].map(lambda x: pd.to_datetime(x.strip()))\n",
    "match_series = (SaP_df['date'] < coinbaseUSD_df.loc[0, 'date'])\n",
    "SaP_df = SaP_df[~match_series]\n",
    "SaP_df['price'] = SaP_df['price'].map(lambda x: float(x))\n",
    "SaP_df['year'] = SaP_df['date'].map(lambda x: x.year)\n",
    "SaP_df['month'] = SaP_df['date'].map(lambda x: x.month)\n",
    "SaP_df['day'] = SaP_df['date'].map(lambda x: x.day)\n",
    "SaP_df['week_day'] = SaP_df['date'].map(lambda x: x.weekday())\n",
    "SaP_df['log_price'] = SaP_df['price'].map(lambda x: np.log(x))\n",
    "SaP_df['log_diff'] = SaP_df.sort_values('date')['price'].diff()\n",
    "SaP_df.sort_values('log_diff', ascending=False).head()"
   ]
  },
  {
   "cell_type": "code",
   "execution_count": null,
   "metadata": {
    "collapsed": true,
    "jupyter": {
     "outputs_hidden": true
    }
   },
   "outputs": [],
   "source": [
    "\n",
    "# Why is the S&P 500 volatility so much greater than Coinbase?\n",
    "match_series = (SaP_df['date'] < coinbaseUSD_df.loc[0, 'date'])\n",
    "SaP_df[~match_series]['log_diff'].std()"
   ]
  },
  {
   "cell_type": "code",
   "execution_count": null,
   "metadata": {
    "collapsed": true,
    "jupyter": {
     "outputs_hidden": true
    }
   },
   "outputs": [],
   "source": [
    "\n",
    "# From https://www.investopedia.com/ask/answers/021015/what-best-measure-given-stocks-volatility.asp"
   ]
  },
  {
   "cell_type": "markdown",
   "metadata": {},
   "source": [
    "\n",
    "When selecting a security for investment, traders look at its historical volatility to help determine the relative risk of a potential trade. There are numerous metrics that measure volatility in differing contexts, and each trader has favorites. Regardless of which metric you utilize, a firm understanding of the concept of volatility and how it is measured is essential to successful investing. Simply put, volatility is a reflection of the degree to which price moves. A stock with a price that fluctuates wildly, hits new highs and lows or moves erratically is considered highly volatile. A stock that maintains a relatively stable price has low volatility. A highly volatile stock is inherently riskier, but that risk cuts both ways. When investing in a volatile security, the risk of success is increased just as much as the risk of failure. For this reason, many traders with a high risk tolerance look to multiple measures of volatility to help inform their trade strategies.\n",
    "\n",
    "The primary measure of volatility used by traders and analysts is standard deviation. This metric reflects the average amount a stock's price has differed from the mean over a period of time. It is calculated by determining the mean price for the established period and then subtracting this figure from each price point. The differences are then squared, summed and averaged to produce the variance. Because the variance is the product of squares, it is no longer in the original unit of measure. Since price is measured in dollars, a metric that uses dollars squared is not very easy to interpret. Therefore, standard deviation is calculated by taking the square root of the variance, which brings it back to the same unit of measure as the underlying data set.\n",
    "\n",
    "Chartists use a technical indicator called Bollinger Bands to analyze standard deviation over time. Bollinger Bands are comprised of three lines: the simple moving average (SMA) and two bands placed one standard deviation above and below the SMA. The SMA is a moving average that changes with each session to incorporate that day's changes, and the outer bands mirror that change to reflect the corresponding adjustment to the standard deviation. Standard deviation is reflected by the width of the Bollinger Bands. The wider the Bollinger Bands, the more volatile a stock's price within the given period. A stock with low volatility has very narrow Bollinger Bands that sit close to the SMA.\n",
    "\n",
    "For a more comprehensive assessment of risk, measure multiple forms of volatility. Where standard deviation measures a security's price movements compared to its average over time, beta measures a security's volatility relative to that of the wider market. A beta of 1 means the security has volatility that mirrors the degree and direction of the market as a whole. This means that if the S&P 500 takes a sharp dip, the stock in question is likely to follow suit. Relatively stable securities, such as utilities, have beta values of less than 1, reflecting their lower volatility. Stocks in rapidly changing fields, especially in the technology sector, have beta values of more than 1. A beta of 0 indicates the underlying security has no volatility. Cash is an excellent example, if no inflation is assumed."
   ]
  },
  {
   "cell_type": "code",
   "execution_count": null,
   "metadata": {
    "collapsed": true,
    "jupyter": {
     "outputs_hidden": true
    }
   },
   "outputs": [],
   "source": []
  }
 ],
 "metadata": {
  "anaconda-cloud": {},
  "kernelspec": {
   "display_name": "Python 3",
   "language": "python",
   "name": "python3"
  },
  "language_info": {
   "codemirror_mode": {
    "name": "ipython",
    "version": 3
   },
   "file_extension": ".py",
   "mimetype": "text/x-python",
   "name": "python",
   "nbconvert_exporter": "python",
   "pygments_lexer": "ipython3",
   "version": "3.8.8"
  }
 },
 "nbformat": 4,
 "nbformat_minor": 4
}
