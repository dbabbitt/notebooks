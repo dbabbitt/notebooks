{
 "cells": [
  {
   "cell_type": "code",
   "execution_count": null,
   "metadata": {},
   "outputs": [],
   "source": []
  },
  {
   "cell_type": "code",
   "execution_count": 1,
   "metadata": {},
   "outputs": [
    {
     "name": "stdout",
     "output_type": "stream",
     "text": [
      "C:\\Users\\577342\\AppData\\Local\\Continuum\\anaconda3\\python.exe -m pip install --upgrade pandasvault\n",
      "Processing c:\\users\\577342\\appdata\\local\\pip\\cache\\wheels\\e6\\69\\47\\fb358c31db1db42ec12c62098d21167b444fe5d56d6c0fb06e\\pandasvault-0.0.3-py3-none-any.whl\n",
      "Requirement already satisfied, skipping upgrade: sklearn in c:\\users\\577342\\appdata\\local\\continuum\\anaconda3\\lib\\site-packages (from pandasvault) (0.0)\n",
      "Requirement already satisfied, skipping upgrade: pandas in c:\\users\\577342\\appdata\\local\\continuum\\anaconda3\\lib\\site-packages (from pandasvault) (1.0.3)\n",
      "Requirement already satisfied, skipping upgrade: numpy in c:\\users\\577342\\appdata\\local\\continuum\\anaconda3\\lib\\site-packages (from pandasvault) (1.18.2)\n",
      "Requirement already satisfied, skipping upgrade: scikit-learn in c:\\users\\577342\\appdata\\local\\continuum\\anaconda3\\lib\\site-packages (from sklearn->pandasvault) (0.22.1)\n",
      "Requirement already satisfied, skipping upgrade: pytz>=2017.2 in c:\\users\\577342\\appdata\\local\\continuum\\anaconda3\\lib\\site-packages (from pandas->pandasvault) (2019.3)\n",
      "Requirement already satisfied, skipping upgrade: python-dateutil>=2.6.1 in c:\\users\\577342\\appdata\\local\\continuum\\anaconda3\\lib\\site-packages (from pandas->pandasvault) (2.8.1)\n",
      "Requirement already satisfied, skipping upgrade: scipy>=0.17.0 in c:\\users\\577342\\appdata\\local\\continuum\\anaconda3\\lib\\site-packages (from scikit-learn->sklearn->pandasvault) (1.4.1)\n",
      "Requirement already satisfied, skipping upgrade: joblib>=0.11 in c:\\users\\577342\\appdata\\local\\continuum\\anaconda3\\lib\\site-packages (from scikit-learn->sklearn->pandasvault) (0.14.1)\n",
      "Requirement already satisfied, skipping upgrade: six>=1.5 in c:\\users\\577342\\appdata\\local\\continuum\\anaconda3\\lib\\site-packages (from python-dateutil>=2.6.1->pandas->pandasvault) (1.14.0)\n",
      "Installing collected packages: pandasvault\n",
      "Successfully installed pandasvault-0.0.3\n"
     ]
    }
   ],
   "source": [
    "\n",
    "import sys\n",
    "\n",
    "command_str = '{sys.executable} -m pip install --upgrade pandasvault'.format(sys=sys)\n",
    "print(command_str)\n",
    "!{command_str}"
   ]
  },
  {
   "cell_type": "code",
   "execution_count": 2,
   "metadata": {},
   "outputs": [],
   "source": [
    "\n",
    "import pandas as pd\n",
    "import numpy as np\n",
    "import pandasvault as pv"
   ]
  },
  {
   "cell_type": "code",
   "execution_count": 3,
   "metadata": {},
   "outputs": [
    {
     "name": "stdout",
     "output_type": "stream",
     "text": [
      "['pv.IncrementalPCA', 'pv.MinMaxScaler', 'pv.PCA', 'pv.StandardScaler', 'pv.accuracy_score', 'pv.atan2', 'pv.auto_dummy', 'pv.average_precision_score', 'pv.binarise_empty', 'pv.brier_score_loss', 'pv.classification_scores', 'pv.confusion_matrix', 'pv.constant_feature_detect', 'pv.corr_list', 'pv.cos', 'pv.date_features', 'pv.drop_corr', 'pv.gc', 'pv.haversine_distance', 'pv.impute_null_with_tail', 'pv.impute_outlier', 'pv.list_shuff', 'pv.log_loss', 'pv.missing_data', 'pv.multiple_lags', 'pv.multiple_rolling', 'pv.np', 'pv.outlier_detect', 'pv.pca_feature', 'pv.pd', 'pv.pd_config', 'pv.polynomials', 'pv.radians', 'pv.reduce_mem_usage', 'pv.replace_small_cat', 'pv.roc_auc_score', 'pv.scaler', 'pv.sin', 'pv.sqrt', 'pv.transformations', 'pv.windsorization']\n"
     ]
    }
   ],
   "source": [
    "\n",
    "print(['pv.{}'.format(fn) for fn in dir(pv) if not fn.startswith('_')])"
   ]
  },
  {
   "cell_type": "code",
   "execution_count": 4,
   "metadata": {},
   "outputs": [
    {
     "data": {
      "text/plain": [
       "\u001b[1;31mSignature:\u001b[0m \u001b[0mpv\u001b[0m\u001b[1;33m.\u001b[0m\u001b[0mimpute_outlier\u001b[0m\u001b[1;33m(\u001b[0m\u001b[0mdata\u001b[0m\u001b[1;33m,\u001b[0m \u001b[0mcol\u001b[0m\u001b[1;33m,\u001b[0m \u001b[0moutlier_index\u001b[0m\u001b[1;33m,\u001b[0m \u001b[0mstrategy\u001b[0m\u001b[1;33m=\u001b[0m\u001b[1;34m'mean'\u001b[0m\u001b[1;33m)\u001b[0m\u001b[1;33m\u001b[0m\u001b[1;33m\u001b[0m\u001b[0m\n",
       "\u001b[1;31mDocstring:\u001b[0m impute outlier with mean/median/most frequent values of that variable.\n",
       "\u001b[1;31mFile:\u001b[0m      c:\\users\\577342\\appdata\\local\\continuum\\anaconda3\\lib\\site-packages\\pandasvault\\__init__.py\n",
       "\u001b[1;31mType:\u001b[0m      function\n"
      ]
     },
     "metadata": {},
     "output_type": "display_data"
    }
   ],
   "source": [
    "\n",
    "pv.impute_outlier?"
   ]
  },
  {
   "cell_type": "code",
   "execution_count": null,
   "metadata": {},
   "outputs": [],
   "source": []
  }
 ],
 "metadata": {
  "kernelspec": {
   "display_name": "Python 3",
   "language": "python",
   "name": "python3"
  },
  "language_info": {
   "codemirror_mode": {
    "name": "ipython",
    "version": 3
   },
   "file_extension": ".py",
   "mimetype": "text/x-python",
   "name": "python",
   "nbconvert_exporter": "python",
   "pygments_lexer": "ipython3",
   "version": "3.7.7"
  }
 },
 "nbformat": 4,
 "nbformat_minor": 4
}
