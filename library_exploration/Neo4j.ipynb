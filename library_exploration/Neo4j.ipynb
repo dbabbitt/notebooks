{
 "cells": [
  {
   "cell_type": "code",
   "execution_count": 44,
   "metadata": {},
   "outputs": [],
   "source": [
    "from neo4j.v1 import GraphDatabase, basic_auth\n",
    "import random"
   ]
  },
  {
   "cell_type": "code",
   "execution_count": 45,
   "metadata": {},
   "outputs": [],
   "source": [
    "driver = GraphDatabase.driver(\"bolt://localhost\", auth=basic_auth(\"neo4j\", \"neo4j@WSXcde3\"))"
   ]
  },
  {
   "cell_type": "code",
   "execution_count": 46,
   "metadata": {},
   "outputs": [],
   "source": [
    "session = driver.session()\n",
    "for i in range(300):\n",
    "    session.run(\"CREATE (p\" + str(i) + \":Person { name: 'Person\" + str(i) + \"' })\")\n",
    "session.close()"
   ]
  },
  {
   "cell_type": "code",
   "execution_count": 47,
   "metadata": {},
   "outputs": [],
   "source": [
    "session = driver.session()\n",
    "session.run(\"CREATE INDEX ON :Person(name)\")\n",
    "session.close()"
   ]
  },
  {
   "cell_type": "code",
   "execution_count": 50,
   "metadata": {},
   "outputs": [],
   "source": [
    "for i in range(300):\n",
    "    session = driver.session()\n",
    "    command = \"START n=node(*), m=node(*) where n.name='Person\"\n",
    "    command += str(random.randint(0, 299))\n",
    "    command += \"' and m.name='Person\"\n",
    "    command += str(random.randint(0, 299))\n",
    "    command += \"' create (n)-[:KNOWS]->(m)\"\n",
    "    session.run(command)\n",
    "    session.close()"
   ]
  },
  {
   "cell_type": "code",
   "execution_count": null,
   "metadata": {
    "collapsed": true
   },
   "outputs": [],
   "source": []
  }
 ],
 "metadata": {
  "kernelspec": {
   "display_name": "Python 3",
   "language": "python",
   "name": "python3"
  },
  "language_info": {
   "codemirror_mode": {
    "name": "ipython",
    "version": 3
   },
   "file_extension": ".py",
   "mimetype": "text/x-python",
   "name": "python",
   "nbconvert_exporter": "python",
   "pygments_lexer": "ipython3",
   "version": "3.6.8"
  }
 },
 "nbformat": 4,
 "nbformat_minor": 1
}
