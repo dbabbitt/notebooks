{
 "cells": [
  {
   "cell_type": "code",
   "execution_count": null,
   "id": "255f411d-1a27-4211-b3ee-f7c816c57ff4",
   "metadata": {},
   "outputs": [],
   "source": [
    "\n",
    "secrets_path = '../data/json/secrets.json'\n",
    "with open(secrets_path) as f:\n",
    "    secrets_dict = json.loads(f.read())\n",
    "email_address = secrets_dict['google']['email_address']\n",
    "email_password = secrets_dict['google']['email_password']"
   ]
  },
  {
   "cell_type": "code",
   "execution_count": null,
   "id": "6e46976b-2080-4348-8871-cccab456ed18",
   "metadata": {},
   "outputs": [],
   "source": [
    "\n",
    "import imaplib\n",
    "import email\n",
    "\n",
    "mail = imaplib.IMAP4_SSL('imap.gmail.com')\n",
    "mail.login(email_address, email_password)\n",
    "mail.list() \n",
    "mail.select('inbox')\n",
    "\n",
    "result, data = mail.uid('search', None, 'ALL')\n",
    "i = len(data[0].split())\n",
    "for x in range(i):\n",
    "    latest_email_uid = data[0].split()[x]\n",
    "    result, email_data = mail.uid('fetch', latest_email_uid, '(RFC822)')\n",
    "    raw_email = email_data[0][1]\n",
    "\n",
    "    raw_email_string = raw_email.decode('utf-8')\n",
    "    email_message = email.message_from_string(raw_email_string)\n",
    "for part in email_message.walk():\n",
    "    if part.get_content_type() == 'text/plain':\n",
    "        body = part.get_payload(decode=True)\n",
    "        save_string = '../saves/txt/email_' + str(x) + '.txt'\n",
    "        myfile = open(save_string, 'a')\n",
    "        myfile.write(str(body))\n",
    "        myfile.close()\n",
    "    else:\n",
    "        continue"
   ]
  },
  {
   "cell_type": "code",
   "execution_count": null,
   "id": "cb8c35a2-d16c-421e-9b90-af7012c7470e",
   "metadata": {},
   "outputs": [],
   "source": []
  }
 ],
 "metadata": {
  "kernelspec": {
   "display_name": "Python 3 (ipykernel)",
   "language": "python",
   "name": "python3"
  },
  "language_info": {
   "codemirror_mode": {
    "name": "ipython",
    "version": 3
   },
   "file_extension": ".py",
   "mimetype": "text/x-python",
   "name": "python",
   "nbconvert_exporter": "python",
   "pygments_lexer": "ipython3",
   "version": "3.9.16"
  }
 },
 "nbformat": 4,
 "nbformat_minor": 5
}
