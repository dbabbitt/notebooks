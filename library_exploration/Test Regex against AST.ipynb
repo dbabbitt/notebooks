{
 "cells": [
  {
   "cell_type": "raw",
   "metadata": {},
   "source": [
    "\n",
    "PS C:\\Users\\daveb> flake8-nb --notebook-cell-format 'In[{code_cell_count}]' --ignore=E231,E303,E401,E402,E501,E701,E702,W293 \"C:\\Users\\daveb\\OneDrive\\Documents\\GitHub\\notebooks\\library_exploration\\Test Regex against AST.ipynb\"\n",
    "PS C:\\Users\\daveb>"
   ]
  },
  {
   "cell_type": "code",
   "execution_count": 1,
   "metadata": {},
   "outputs": [
    {
     "name": "stdout",
     "output_type": "stream",
     "text": [
      "Pretty printing has been turned OFF\n"
     ]
    }
   ],
   "source": [
    "\n",
    "# Set up notebook\n",
    "%pprint\n",
    "%matplotlib inline\n",
    "import sys\n",
    "import os.path as osp, os as os\n",
    "\n",
    "executable_path = sys.executable\n",
    "scripts_folder = osp.join(osp.dirname(executable_path), 'Scripts'); assert osp.exists(scripts_folder)\n",
    "py_folder = osp.abspath(osp.join(os.pardir, 'py')); assert osp.exists(py_folder), \"Create the py folder\"\n",
    "ffmpeg_folder = r'C:\\ffmpeg\\bin'; assert osp.exists(ffmpeg_folder)\n",
    "shared_folder = osp.abspath(osp.join(os.pardir, 'share')); assert osp.exists(shared_folder)\n",
    "\n",
    "if (scripts_folder not in sys.path): sys.path.insert(1, scripts_folder)\n",
    "if (py_folder not in sys.path): sys.path.insert(1, py_folder)\n",
    "if (ffmpeg_folder not in sys.path): sys.path.insert(1, ffmpeg_folder)\n",
    "if shared_folder not in sys.path: sys.path.insert(1, shared_folder)\n",
    "\n",
    "from notebook_utils import NotebookUtilities\n",
    "nu = NotebookUtilities(\n",
    "    data_folder_path=osp.abspath(osp.join(os.pardir, 'data')),\n",
    "    saves_folder_path=osp.abspath(osp.join(os.pardir, 'saves'))\n",
    ")\n",
    "nu.delete_ipynb_checkpoint_folders()\n",
    "\n",
    "# Import needed libraries\n",
    "import ast\n",
    "import pkgutil\n",
    "import re"
   ]
  },
  {
   "cell_type": "code",
   "execution_count": 2,
   "metadata": {},
   "outputs": [],
   "source": [
    "\n",
    "def find_imports_in_file(filepath):\n",
    "    \"\"\"Parses a Python file with the AST module and regex to find all import statements.\"\"\"\n",
    "    with open(filepath, \"r\", encoding=nu.encoding_type) as f:\n",
    "        file_content = f.read()\n",
    "\n",
    "    # Get imports from regex\n",
    "    regex_imports = []\n",
    "    for regex_str in IMPORTS_REGEX.findall(file_content):\n",
    "        parens_list = re.split(\"[)(]\", regex_str.strip(), 0)\n",
    "        if len(parens_list) > 1:\n",
    "            prefix = parens_list[0].strip()\n",
    "            commas_list = [s.strip() for s in re.split(r\"\\s*,\\s*\", parens_list[1].strip(), 0) if s.strip()]\n",
    "            for comma_str in commas_list:\n",
    "                regex_imports.append(prefix + ' ' + comma_str)\n",
    "        elif len(parens_list) == 1:\n",
    "            imports_list = [s.strip() for s in re.split(r\"(from\\s+[\\w.]+\\s+import)\\s+\", parens_list[0].strip(), 0) if s.strip()]\n",
    "            if len(imports_list) > 1:\n",
    "                prefix = imports_list[0]\n",
    "                commas_list = [s.strip() for s in re.split(r\"\\s*,\\s*\", imports_list[1], 0) if s.strip()]\n",
    "                for comma_str in commas_list:\n",
    "                    regex_imports.append(prefix + ' ' + comma_str)\n",
    "            elif len(imports_list) == 1:\n",
    "                regex_imports.append(imports_list[0].strip())\n",
    "\n",
    "    # Get imports from ast\n",
    "    ast_imports = []\n",
    "    try:\n",
    "        root = ast.parse(file_content, filename=filepath)\n",
    "    \n",
    "    # If there's a syntax error in the file, return ast_imports as empty\n",
    "    except SyntaxError:\n",
    "        return ast_imports, regex_imports\n",
    "\n",
    "    for node in ast.walk(root):\n",
    "        \n",
    "        # Collect statements like \"import math, sys\"\n",
    "        if isinstance(node, ast.Import):\n",
    "            for alias in node.names:\n",
    "                statement = f\"import {alias.name}\"\n",
    "                if alias.asname:\n",
    "                    statement += f\" as {alias.asname}\"\n",
    "                ast_imports.append(statement)\n",
    "        \n",
    "        # Collect statements like \"from x import y as z\"\n",
    "        elif isinstance(node, ast.ImportFrom):\n",
    "            for alias in node.names:\n",
    "                module = node.module if node.module else \"\"\n",
    "                statement = f\"from {module} import {alias.name}\"\n",
    "                if alias.asname:\n",
    "                    statement += f\" as {alias.asname}\"\n",
    "                ast_imports.append(statement)\n",
    "\n",
    "    return ast_imports, regex_imports"
   ]
  },
  {
   "cell_type": "code",
   "execution_count": 3,
   "metadata": {},
   "outputs": [],
   "source": [
    "\n",
    "def scan_all_imports_in_folder(folder):\n",
    "    \"\"\"Recursively scans all .py files in a folder for import statements.\"\"\"\n",
    "    ast_all_imports = {}\n",
    "    regex_all_imports = {}\n",
    "    for root, _, files in os.walk(folder):\n",
    "        for filename in files:\n",
    "            if filename.endswith(\".py\"):\n",
    "                filepath = osp.join(root, filename)\n",
    "                ast_file_imports, regex_file_imports = find_imports_in_file(filepath)\n",
    "                ast_all_imports[filepath] = ast_file_imports\n",
    "                regex_all_imports[filepath] = regex_file_imports\n",
    "    return ast_all_imports, regex_all_imports"
   ]
  },
  {
   "cell_type": "code",
   "execution_count": 4,
   "metadata": {},
   "outputs": [],
   "source": [
    "\n",
    "# Get built-in module names\n",
    "built_in_modules = set(sys.builtin_module_names)\n",
    "\n",
    "# Get pure Python modules from the standard library\n",
    "std_lib_path = os.path.dirname(os.__file__)\n",
    "std_lib_modules = set([\n",
    "    module_info.name\n",
    "    for module_info in pkgutil.iter_modules([std_lib_path])\n",
    "])\n",
    "\n",
    "# Combine both lists\n",
    "standard_library_modules = built_in_modules | std_lib_modules\n",
    "\n",
    "# Sort the list for easier reading\n",
    "standard_library_modules = sorted(standard_library_modules)"
   ]
  },
  {
   "cell_type": "code",
   "execution_count": 5,
   "metadata": {},
   "outputs": [
    {
     "name": "stdout",
     "output_type": "stream",
     "text": [
      "\n",
      "File: C:\\Users\\daveb\\OneDrive\\Documents\\GitHub\\notebooks\\share\\base_config.py\n",
      "Imports only in ast: set()\n",
      "Imports only in regex: set()\n",
      "\n",
      "File: C:\\Users\\daveb\\OneDrive\\Documents\\GitHub\\notebooks\\share\\data_analysis.py\n",
      "Imports only in ast: set()\n",
      "Imports only in regex: set()\n",
      "\n",
      "File: C:\\Users\\daveb\\OneDrive\\Documents\\GitHub\\notebooks\\share\\data_preparation.py\n",
      "Imports only in ast: set()\n",
      "Imports only in regex: {'from notebook_utils import NotebookUtilities'}\n",
      "\n",
      "File: C:\\Users\\daveb\\OneDrive\\Documents\\GitHub\\notebooks\\share\\data_validation.py\n",
      "Imports only in ast: set()\n",
      "Imports only in regex: set()\n",
      "\n",
      "File: C:\\Users\\daveb\\OneDrive\\Documents\\GitHub\\notebooks\\share\\file_operations.py\n",
      "Imports only in ast: set()\n",
      "Imports only in regex: set()\n",
      "\n",
      "File: C:\\Users\\daveb\\OneDrive\\Documents\\GitHub\\notebooks\\share\\notebook_utils.py\n",
      "Imports only in ast: set()\n",
      "Imports only in regex: {'from notebook_utils import NotebookUtilities', 'import os.path as osp, os as os', 'import sys'}\n",
      "\n",
      "File: C:\\Users\\daveb\\OneDrive\\Documents\\GitHub\\notebooks\\share\\notebook_utils_old.py\n",
      "Imports only in ast: set()\n",
      "Imports only in regex: {'from notebook_utils import NotebookUtilities', 'import os.path as osp, os as os'}\n",
      "\n",
      "File: C:\\Users\\daveb\\OneDrive\\Documents\\GitHub\\notebooks\\share\\uncategorized.py\n",
      "Imports only in ast: set()\n",
      "Imports only in regex: set()\n"
     ]
    }
   ],
   "source": [
    "\n",
    "IMPORTS_REGEX = re.compile(r\"^\\s*(?:import\\s+[\\w.]+(?:\\s+as\\s+\\w+)?(?:\\s*,\\s*[\\w.]+(?:\\s+as\\s+\\w+)?)*|from\\s+[\\w.]+\\s+import\\s+(?:[\\w.]+(?:\\s+as\\s+\\w+)?(?:\\s*,\\s*[\\w.]+(?:\\s+as\\s+\\w+)?)*|\\(\\s*[\\w.]+(?:\\s+as\\s+\\w+)?(?:\\s*,\\s*[\\w.]+(?:\\s+as\\s+\\w+)?)*,?\\s*\\)))\", re.MULTILINE)\n",
    "\n",
    "ast_results, regex_results = scan_all_imports_in_folder(shared_folder)\n",
    "filepaths = sorted(set(ast_results.keys()).union(set(regex_results.keys())))\n",
    "for filepath in filepaths:\n",
    "    print()\n",
    "    print(f\"File: {filepath}\")\n",
    "    ast_set = set(ast_results[filepath])\n",
    "    regex_set = set(regex_results[filepath])\n",
    "    print(f'Imports only in ast: {ast_set.difference(regex_set)}')\n",
    "    print(f'Imports only in regex: {regex_set.difference(ast_set)}')"
   ]
  },
  {
   "cell_type": "markdown",
   "metadata": {},
   "source": [
    "\n",
    "The \"Imports only in regex\" are from the examples in the docstrings. It's not worth the trouble to craft a regex and then loop through all the edge cases."
   ]
  },
  {
   "cell_type": "code",
   "execution_count": null,
   "metadata": {},
   "outputs": [],
   "source": []
  }
 ],
 "metadata": {
  "kernelspec": {
   "display_name": "Python 3 (ipykernel)",
   "language": "python",
   "name": "python3"
  },
  "language_info": {
   "codemirror_mode": {
    "name": "ipython",
    "version": 3
   },
   "file_extension": ".py",
   "mimetype": "text/x-python",
   "name": "python",
   "nbconvert_exporter": "python",
   "pygments_lexer": "ipython3",
   "version": "3.12.7"
  }
 },
 "nbformat": 4,
 "nbformat_minor": 4
}
