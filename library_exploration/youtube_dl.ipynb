{
 "cells": [
  {
   "cell_type": "code",
   "execution_count": 9,
   "metadata": {},
   "outputs": [
    {
     "data": {
      "text/plain": [
       "CompletedProcess(args=['ffmpeg', '-i', 'C:\\\\Users\\\\daveb\\\\OneDrive\\\\Documents\\\\GitHub\\\\notebooks\\\\data\\\\mp4\\\\Curt_Doolittle_on_Religion_Christianity_Christians_the_Church.mp4', '-vn', 'C:\\\\Users\\\\daveb\\\\OneDrive\\\\Documents\\\\GitHub\\\\notebooks\\\\saves\\\\mp3\\\\Curt_Doolittle_on_Religion_Christianity_Christians_the_Church.mp3'], returncode=0)"
      ]
     },
     "execution_count": 9,
     "metadata": {},
     "output_type": "execute_result"
    }
   ],
   "source": [
    "\n",
    "# Convert video to audio\n",
    "import subprocess\n",
    "from os import path as osp, remove as remove\n",
    "\n",
    "# Path to your video file\n",
    "video_file = '../data/mp4/Curt_Doolittle_on_Religion_Christianity_Christians_the_Church.mp4'\n",
    "\n",
    "# Path to save the audio file (change .mp3 to your desired format)\n",
    "audio_file = '../saves/mp3/Curt_Doolittle_on_Religion_Christianity_Christians_the_Church.mp3'\n",
    "\n",
    "# Delete the audio file if it already exists\n",
    "if osp.exists(audio_file): remove(audio_file)\n",
    "\n",
    "# Command to extract audio using ffmpeg\n",
    "command = ['ffmpeg', '-i', osp.abspath(video_file), '-vn', osp.abspath(audio_file)]\n",
    "subprocess.run(command, check=True)"
   ]
  },
  {
   "cell_type": "code",
   "execution_count": null,
   "metadata": {},
   "outputs": [],
   "source": [
    "\n",
    "# Delete the audio file if it already exists\n",
    "if osp.exists(audio_file): remove(audio_file)\n",
    "\n",
    "!ffmpeg -i {osp.abspath(video_file)} -vn {osp.abspath(audio_file)}"
   ]
  },
  {
   "cell_type": "code",
   "execution_count": 1,
   "metadata": {},
   "outputs": [
    {
     "name": "stdout",
     "output_type": "stream",
     "text": [
      "Requirement already satisfied: youtube_dl in c:\\programdata\\anaconda3\\lib\\site-packages\n"
     ]
    }
   ],
   "source": [
    "\n",
    "# Install a pip package in the current Jupyter kernel\n",
    "import sys\n",
    "\n",
    "!{sys.executable} -m pip install youtube_dl"
   ]
  },
  {
   "cell_type": "code",
   "execution_count": 2,
   "metadata": {},
   "outputs": [
    {
     "name": "stdout",
     "output_type": "stream",
     "text": [
      "Requirement already satisfied: ffprobe in c:\\programdata\\anaconda3\\lib\\site-packages\n"
     ]
    }
   ],
   "source": [
    "\n",
    "# Install a pip package in the current Jupyter kernel\n",
    "import sys\n",
    "\n",
    "!{sys.executable} -m pip install ffprobe"
   ]
  },
  {
   "cell_type": "code",
   "execution_count": 1,
   "metadata": {},
   "outputs": [
    {
     "name": "stdout",
     "output_type": "stream",
     "text": [
      "[youtube] Nyw4rTywyY0: Downloading webpage\n",
      "[youtube] Nyw4rTywyY0: Downloading video info webpage\n",
      "[youtube] Nyw4rTywyY0: Extracting video information\n",
      "[download] Destination: C:\\Users\\577342\\Downloads\\2017_06_15 - 12 principles for a 21st century conservatism-Nyw4rTywyY0.m4a\n",
      "[download] 100% of 110.73MiB in 00:13                          \n",
      "[ffmpeg] Correcting container in \"C:\\Users\\577342\\Downloads\\2017_06_15 - 12 principles for a 21st century conservatism-Nyw4rTywyY0.m4a\"\n",
      "[ffmpeg] Destination: C:\\Users\\577342\\Downloads\\2017_06_15 - 12 principles for a 21st century conservatism-Nyw4rTywyY0.mp3\n",
      "Deleting original file C:\\Users\\577342\\Downloads\\2017_06_15 - 12 principles for a 21st century conservatism-Nyw4rTywyY0.m4a (pass -k to keep)\n"
     ]
    }
   ],
   "source": [
    "\n",
    "import youtube_dl\n",
    "\n",
    "ydl_opts = {\n",
    "    'format': 'bestaudio/best',\n",
    "    'nocheckcertificate': False,\n",
    "    'outtmpl': 'C:\\\\Users\\\\577342\\\\Downloads\\\\'+youtube_dl.DEFAULT_OUTTMPL,\n",
    "    'postprocessors': [{'key': 'FFmpegExtractAudio',\n",
    "                       'preferredcodec': 'mp3',\n",
    "                       'preferredquality': '192'}],\n",
    "    'verbose': False,\n",
    "    }\n",
    "with youtube_dl.YoutubeDL(ydl_opts) as ydl:\n",
    "    result = ydl.download(['https://www.youtube.com/watch?v=Nyw4rTywyY0'])"
   ]
  },
  {
   "cell_type": "code",
   "execution_count": null,
   "metadata": {
    "collapsed": true,
    "jupyter": {
     "outputs_hidden": true
    }
   },
   "outputs": [],
   "source": []
  }
 ],
 "metadata": {
  "anaconda-cloud": {},
  "kernelspec": {
   "display_name": "Python 3 (ipykernel)",
   "language": "python",
   "name": "python3"
  },
  "language_info": {
   "codemirror_mode": {
    "name": "ipython",
    "version": 3
   },
   "file_extension": ".py",
   "mimetype": "text/x-python",
   "name": "python",
   "nbconvert_exporter": "python",
   "pygments_lexer": "ipython3",
   "version": "3.9.18"
  }
 },
 "nbformat": 4,
 "nbformat_minor": 4
}
