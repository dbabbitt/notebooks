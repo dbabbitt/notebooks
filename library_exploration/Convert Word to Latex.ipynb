{
 "cells": [
  {
   "cell_type": "code",
   "execution_count": 1,
   "id": "ffb4f309-f037-44f8-a4e2-7b8a98f055ac",
   "metadata": {},
   "outputs": [
    {
     "name": "stdout",
     "output_type": "stream",
     "text": [
      "Pretty printing has been turned OFF\n"
     ]
    }
   ],
   "source": [
    "\n",
    "%pprint\n",
    "import sys\n",
    "sys.path.insert(1, '../py')"
   ]
  },
  {
   "cell_type": "code",
   "execution_count": 2,
   "id": "d99ebf24-a32a-402f-8edc-0a5fb69f043f",
   "metadata": {},
   "outputs": [],
   "source": [
    "\n",
    "from notebook_utils import NotebookUtilities\n",
    "import os.path as osp\n",
    "import os, re\n",
    "import pandas as pd\n",
    "\n",
    "nu = NotebookUtilities(data_folder_path=osp.abspath('../data'), saves_folder_path=osp.abspath('../saves'))"
   ]
  },
  {
   "cell_type": "code",
   "execution_count": 20,
   "id": "5fa3646c-1d7b-426c-a933-eeb500b47d29",
   "metadata": {},
   "outputs": [
    {
     "data": {
      "text/plain": [
       "'C:\\\\Users\\\\daveb\\\\OneDrive\\\\Documents\\\\GitHub\\\\notebooks\\\\saves\\\\tex\\\\Dave_Babbitt_Resume.tex'"
      ]
     },
     "execution_count": 20,
     "metadata": {},
     "output_type": "execute_result"
    }
   ],
   "source": [
    "\n",
    "import subprocess\n",
    "import shutil\n",
    "\n",
    "# Get the path to the bash script and the arguments: ./d2t [options ...] myfile.docx\n",
    "batch_script_path = r'C:\\Users\\daveb\\OneDrive\\Documents\\GitHub\\docx2tex\\d2t.bat'\n",
    "job_hunting_dir = r'C:\\Users\\daveb\\OneDrive\\Documents\\Google Drive\\Other\\Job Hunting'\n",
    "input_file_path = osp.abspath(osp.join(job_hunting_dir, 'Dave_Babbitt_Resume.docx'))\n",
    "old_file_path = osp.abspath(osp.join(job_hunting_dir, 'Dave_Babbitt_Resume.tex'))\n",
    "new_file_path = osp.abspath(osp.join(nu.saves_folder, 'tex', 'Dave_Babbitt_Resume.tex'))\n",
    "batch_script_args = [input_file_path]\n",
    "\n",
    "# Run the batch script using Windows\n",
    "subprocess.run([batch_script_path] + batch_script_args)\n",
    "\n",
    "# Move the file\n",
    "shutil.move(old_file_path, new_file_path)"
   ]
  },
  {
   "cell_type": "code",
   "execution_count": 16,
   "id": "d4692312-7a0a-45aa-a56a-7f539b3d491c",
   "metadata": {},
   "outputs": [
    {
     "data": {
      "text/plain": [
       "CompletedProcess(args=['wsl', 'C:\\\\Users\\\\daveb\\\\OneDrive\\\\Documents\\\\GitHub\\\\docx2tex\\\\d2t', '-o', 'C:\\\\Users\\\\daveb\\\\OneDrive\\\\Documents\\\\GitHub\\\\notebooks\\\\saves\\\\tex\\\\Dave_Babbitt_Resume.tex', 'C:\\\\Users\\\\daveb\\\\OneDrive\\\\Documents\\\\Google Drive\\\\Other\\\\Job Hunting\\\\Dave_Babbitt_Resume.docx'], returncode=127)"
      ]
     },
     "execution_count": 16,
     "metadata": {},
     "output_type": "execute_result"
    }
   ],
   "source": [
    "\n",
    "import subprocess\n",
    "\n",
    "# Get the path to the bash script and the arguments: ./d2t [options ...] myfile.docx\n",
    "bash_script_path = r'C:\\Users\\daveb\\OneDrive\\Documents\\GitHub\\docx2tex\\d2t'\n",
    "output_file_path = osp.abspath(osp.join(nu.saves_folder, 'tex', 'Dave_Babbitt_Resume.tex'))\n",
    "input_file_path = r'C:\\Users\\daveb\\OneDrive\\Documents\\Google Drive\\Other\\Job Hunting\\Dave_Babbitt_Resume.docx'\n",
    "bash_script_args = ['-o', output_file_path, input_file_path]\n",
    "\n",
    "# Run the bash script using WSL\n",
    "subprocess.run(['wsl', bash_script_path] + bash_script_args)"
   ]
  },
  {
   "cell_type": "code",
   "execution_count": null,
   "id": "a39109ef-ba9e-49b5-bd96-24df43d522e6",
   "metadata": {},
   "outputs": [],
   "source": []
  }
 ],
 "metadata": {
  "kernelspec": {
   "display_name": "GPT Stuff (Python 3.10.10)",
   "language": "python",
   "name": "gs_env"
  },
  "language_info": {
   "codemirror_mode": {
    "name": "ipython",
    "version": 3
   },
   "file_extension": ".py",
   "mimetype": "text/x-python",
   "name": "python",
   "nbconvert_exporter": "python",
   "pygments_lexer": "ipython3",
   "version": "3.10.10"
  }
 },
 "nbformat": 4,
 "nbformat_minor": 5
}
