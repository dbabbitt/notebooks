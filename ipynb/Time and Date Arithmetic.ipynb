{
 "cells": [
  {
   "cell_type": "code",
   "execution_count": 1,
   "metadata": {},
   "outputs": [
    {
     "name": "stdout",
     "output_type": "stream",
     "text": [
      "40 weeks gone from the beginning of the year\n",
      "11 weeks left until the end of the year\n",
      "You need to get ready by 12:24:00\n"
     ]
    }
   ],
   "source": [
    "\n",
    "from datetime import datetime, timedelta, date\n",
    "from pandas.tseries import offsets\n",
    "\n",
    "today = date.today()\n",
    "year_begin_date = (today - offsets.YearBegin()).date()\n",
    "year_end_date = (today + offsets.YearEnd()).date()\n",
    "\n",
    "# Get integer number of dates until year end\n",
    "days_gone = (today-year_begin_date).days\n",
    "print(days_gone//7, 'weeks gone from the beginning of the year')\n",
    "days_left = (year_end_date-today).days\n",
    "print(days_left//7, 'weeks left until the end of the year')\n",
    "\n",
    "now = datetime.now()\n",
    "date_obj = datetime.strptime('2PM', '%I%p').replace(year=now.year, month=now.month, day=now.day)\n",
    "print('You need to get ready by', (date_obj - timedelta(minutes=36) - timedelta(hours=1)).strftime('%X'))"
   ]
  },
  {
   "cell_type": "code",
   "execution_count": null,
   "metadata": {
    "colab": {
     "background_save": true,
     "base_uri": "https://localhost:8080/"
    },
    "executionInfo": {
     "elapsed": 4498,
     "status": "ok",
     "timestamp": 1639521699817,
     "user": {
      "displayName": "KARINE ISABELLE MARINS",
      "photoUrl": "https://lh3.googleusercontent.com/a-/AOh14GgAYb6DJWeEqvjEo2jzR0yWwgMeuR9VTzjehhxs6w=s64",
      "userId": "09206648512635347791"
     },
     "user_tz": 180
    },
    "id": "u-I02kpN7pWh",
    "outputId": "ae7f7a03-4d5a-4dff-cb1b-6e3fe47b6755"
   },
   "outputs": [
    {
     "name": "stdout",
     "output_type": "stream",
     "text": [
      "Requirement already satisfied: fsspec>=0.3.3 in /usr/local/lib/python3.7/dist-packages (2021.11.1)\n"
     ]
    }
   ],
   "source": [
    " !pip install 'fsspec>=0.3.3'"
   ]
  },
  {
   "cell_type": "code",
   "execution_count": null,
   "metadata": {},
   "outputs": [],
   "source": []
  },
  {
   "cell_type": "markdown",
   "metadata": {
    "id": "7Ql2q4GxJLxd"
   },
   "source": [
    "##Importando Bibliotecas e arquivos do drive"
   ]
  },
  {
   "cell_type": "code",
   "execution_count": null,
   "metadata": {
    "id": "hZf4RcQC7VQC"
   },
   "outputs": [],
   "source": [
    "import dask.dataframe as dd\n",
    "import plotly.express as px"
   ]
  },
  {
   "cell_type": "code",
   "execution_count": null,
   "metadata": {
    "id": "VWygG0Z78gNZ"
   },
   "outputs": [],
   "source": [
    "import pandas as pd"
   ]
  },
  {
   "cell_type": "code",
   "execution_count": null,
   "metadata": {
    "colab": {
     "base_uri": "https://localhost:8080/"
    },
    "executionInfo": {
     "elapsed": 58424,
     "status": "ok",
     "timestamp": 1639742760853,
     "user": {
      "displayName": "KARINE ISABELLE MARINS",
      "photoUrl": "https://lh3.googleusercontent.com/a-/AOh14GgAYb6DJWeEqvjEo2jzR0yWwgMeuR9VTzjehhxs6w=s64",
      "userId": "09206648512635347791"
     },
     "user_tz": 180
    },
    "id": "yVsCfJCo731-",
    "outputId": "09fe9a1d-58ba-496d-bb53-0ac9b042cb26"
   },
   "outputs": [
    {
     "name": "stdout",
     "output_type": "stream",
     "text": [
      "Mounted at /content/drive\n"
     ]
    }
   ],
   "source": [
    "from google.colab import drive\n",
    "drive.mount('/content/drive')"
   ]
  },
  {
   "cell_type": "code",
   "execution_count": null,
   "metadata": {
    "colab": {
     "base_uri": "https://localhost:8080/"
    },
    "executionInfo": {
     "elapsed": 81,
     "status": "ok",
     "timestamp": 1639742760855,
     "user": {
      "displayName": "KARINE ISABELLE MARINS",
      "photoUrl": "https://lh3.googleusercontent.com/a-/AOh14GgAYb6DJWeEqvjEo2jzR0yWwgMeuR9VTzjehhxs6w=s64",
      "userId": "09206648512635347791"
     },
     "user_tz": 180
    },
    "id": "A5n74cpO7vAF",
    "outputId": "620bd570-b815-44c0-c6e1-da33087d8faf"
   },
   "outputs": [
    {
     "name": "stdout",
     "output_type": "stream",
     "text": [
      " bcc201.pdf\n",
      " Classroom\n",
      "'Colab Notebooks'\n",
      " Estudos.pdf\n",
      " ImersaoDev_Alura\n",
      "'Iniciação Científica'\n",
      "'karinemarins_historicoescolar (1).pdf'\n",
      "'karinemarins_historicoescolar (2).pdf'\n",
      " karinemarins_historicoescolar.pdf\n",
      " Modelo_Plano_de_Ensino_BCC221-2021-1.pdf\n",
      "'MTM112 T81T85T86 professor Isaque Viza de Souza.pdf'\n",
      " Obra\n",
      "'PlanoEnsRemoto Fundamentos GeaCV (1)-convertido.pdf'\n",
      "'Relatorio TP1 - ED2.gdoc'\n",
      " UFOP\n",
      "'Voluta '\n",
      " Wizard\n"
     ]
    }
   ],
   "source": [
    "!ls \"/content/drive/My Drive\""
   ]
  },
  {
   "cell_type": "markdown",
   "metadata": {
    "id": "Jb5loIqTJbEx"
   },
   "source": [
    "##Lendo os dados"
   ]
  },
  {
   "cell_type": "code",
   "execution_count": null,
   "metadata": {
    "id": "2oMfv2IK7VQL"
   },
   "outputs": [],
   "source": [
    "df = dd.read_csv('/content/drive/MyDrive/Colab Notebooks/IC/eccomerce/database/olist_geolocated_transactions.csv')"
   ]
  },
  {
   "cell_type": "code",
   "execution_count": null,
   "metadata": {
    "id": "Wv0bLiKf7VQM"
   },
   "outputs": [],
   "source": [
    "df.columns"
   ]
  },
  {
   "cell_type": "code",
   "execution_count": null,
   "metadata": {
    "id": "bXADZ4NA7VQM"
   },
   "outputs": [],
   "source": [
    "df = df.compute()"
   ]
  },
  {
   "cell_type": "code",
   "execution_count": null,
   "metadata": {
    "id": "72TVh_wnJ-3J"
   },
   "outputs": [],
   "source": [
    "df.info()"
   ]
  },
  {
   "cell_type": "code",
   "execution_count": null,
   "metadata": {
    "id": "GwUZPMMwKBYE"
   },
   "outputs": [],
   "source": [
    "df.head(10)"
   ]
  },
  {
   "cell_type": "markdown",
   "metadata": {
    "id": "-DYILnNB7VQN"
   },
   "source": [
    "##Visualizações para seller \n",
    "\n",
    "\n"
   ]
  },
  {
   "cell_type": "code",
   "execution_count": null,
   "metadata": {
    "id": "16CxciDg7VQP"
   },
   "outputs": [],
   "source": [
    "fig = px.scatter_mapbox(df, lat='seller_lat', lon='seller_lng',\n",
    "                        color_discrete_sequence=[\"fuchsia\"], zoom=3, height=1000)\n",
    "fig.update_layout(mapbox_style=\"open-street-map\")\n",
    "fig.update_layout(margin={\"r\":0,\"t\":0,\"l\":0,\"b\":0})\n",
    "fig.show()"
   ]
  },
  {
   "cell_type": "markdown",
   "metadata": {
    "id": "2N0gSoEVG8FC"
   },
   "source": [
    "###Price\n"
   ]
  },
  {
   "cell_type": "code",
   "execution_count": null,
   "metadata": {
    "id": "cv_0IEgX7VQQ"
   },
   "outputs": [],
   "source": [
    "fig = px.density_mapbox(df, lat='seller_lat', lon='seller_lng', z='price', radius=10,\n",
    "                        center=dict(lat=0, lon=180), zoom=0, height=800,\n",
    "                        mapbox_style=\"stamen-terrain\")\n",
    "fig.show()"
   ]
  },
  {
   "cell_type": "markdown",
   "metadata": {
    "id": "8SnDOdpmIsYg"
   },
   "source": [
    "###Freight Value"
   ]
  },
  {
   "cell_type": "code",
   "execution_count": null,
   "metadata": {
    "id": "UCS-pSJD-XVX"
   },
   "outputs": [],
   "source": [
    "fig = px.density_mapbox(df, lat='seller_lat', lon='seller_lng', z='freight_value', radius=10,\n",
    "                        center=dict(lat=0, lon=180), zoom=0, height=800,\n",
    "                        mapbox_style=\"stamen-terrain\")\n",
    "fig.show()"
   ]
  },
  {
   "cell_type": "markdown",
   "metadata": {
    "id": "MjEgCQhFL_KP"
   },
   "source": [
    "###Payment Sequential"
   ]
  },
  {
   "cell_type": "code",
   "execution_count": null,
   "metadata": {
    "id": "fOEymtIz_uyp"
   },
   "outputs": [],
   "source": [
    "fig = px.density_mapbox(df, lat='seller_lat', lon='seller_lng', z='payment_sequential', radius=10,\n",
    "                        center=dict(lat=0, lon=180), zoom=0, height=800,\n",
    "                        mapbox_style=\"stamen-terrain\")\n",
    "fig.show()"
   ]
  },
  {
   "cell_type": "markdown",
   "metadata": {
    "id": "zM9zceiQMEtQ"
   },
   "source": [
    "###Payment installments"
   ]
  },
  {
   "cell_type": "code",
   "execution_count": null,
   "metadata": {
    "colab": {
     "background_save": true,
     "output_embedded_package_id": "191FmDaPgrDakJPxoEN2pQ4ylgI_bGwCm"
    },
    "id": "2vqqTwC2-530",
    "outputId": "1a04bb1b-2234-4443-b786-174685e97a6d"
   },
   "outputs": [
    {
     "data": {
      "text/plain": [
       "Output hidden; open in https://colab.research.google.com to view."
      ]
     },
     "metadata": {},
     "output_type": "display_data"
    }
   ],
   "source": [
    "fig = px.density_mapbox(df, lat='seller_lat', lon='seller_lng', z='payment_installments', radius=10,\n",
    "                        center=dict(lat=0, lon=180), zoom=0, height=800,\n",
    "                        mapbox_style=\"stamen-terrain\")\n",
    "fig.show()"
   ]
  },
  {
   "cell_type": "markdown",
   "metadata": {
    "id": "i9ndpR86MUu_"
   },
   "source": [
    "###Payment Value"
   ]
  },
  {
   "cell_type": "code",
   "execution_count": null,
   "metadata": {
    "colab": {
     "background_save": true,
     "output_embedded_package_id": "1RSBKictwQqXPEz10Dhjmq-pOnm36FEqv"
    },
    "id": "zdhqgirf8mnL",
    "outputId": "f5b4bff4-b12a-4ddb-a471-0b2b2c5acc8d"
   },
   "outputs": [
    {
     "data": {
      "text/plain": [
       "Output hidden; open in https://colab.research.google.com to view."
      ]
     },
     "metadata": {},
     "output_type": "display_data"
    }
   ],
   "source": [
    "fig = px.density_mapbox(df, lat='seller_lat', lon='seller_lng', z='payment_value', radius=10,\n",
    "                        center=dict(lat=0, lon=180), zoom=0, height=800,\n",
    "                        mapbox_style=\"stamen-terrain\")\n",
    "fig.show()"
   ]
  },
  {
   "cell_type": "markdown",
   "metadata": {
    "id": "iwQ4NHYtNrXC"
   },
   "source": [
    "###Review Score"
   ]
  },
  {
   "cell_type": "code",
   "execution_count": null,
   "metadata": {
    "colab": {
     "background_save": true,
     "output_embedded_package_id": "1Bd42oTF_JX2rOB-tYc4Qkk0BUKOF7GUE"
    },
    "id": "5GqYv7EXNv5X",
    "outputId": "f9141d68-44bf-44fa-8f71-97019ef9702c"
   },
   "outputs": [
    {
     "data": {
      "text/plain": [
       "Output hidden; open in https://colab.research.google.com to view."
      ]
     },
     "metadata": {},
     "output_type": "display_data"
    }
   ],
   "source": [
    "fig = px.density_mapbox(df, lat='seller_lat', lon='seller_lng', z='review_score', radius=10,\n",
    "                        center=dict(lat=0, lon=180), zoom=0, height=800,\n",
    "                        mapbox_style=\"stamen-terrain\")\n",
    "fig.show()"
   ]
  },
  {
   "cell_type": "markdown",
   "metadata": {
    "id": "dcueI3QOPPjU"
   },
   "source": [
    "##Analises para os produtos: altura, largura e etx"
   ]
  },
  {
   "cell_type": "markdown",
   "metadata": {
    "id": "fbYKxFoMXPzW"
   },
   "source": [
    "###Description lenght"
   ]
  },
  {
   "cell_type": "code",
   "execution_count": null,
   "metadata": {
    "colab": {
     "background_save": true,
     "output_embedded_package_id": "1KfPg9EdJ2JJRNEa6bOFDOAr7Y7JyXHxQ"
    },
    "id": "7pvpMvViPVrG",
    "outputId": "3446a827-7107-4aa5-8b4a-0c1ab18c5022"
   },
   "outputs": [
    {
     "data": {
      "text/plain": [
       "Output hidden; open in https://colab.research.google.com to view."
      ]
     },
     "metadata": {},
     "output_type": "display_data"
    }
   ],
   "source": [
    "fig = px.density_mapbox(df, lat='seller_lat', lon='seller_lng', z='product_description_lenght', radius=10,\n",
    "                        center=dict(lat=0, lon=180), zoom=0, height=800,\n",
    "                        mapbox_style=\"stamen-terrain\")\n",
    "fig.show()"
   ]
  },
  {
   "cell_type": "markdown",
   "metadata": {
    "id": "B8WUxaP9ZaOO"
   },
   "source": [
    "###Photos"
   ]
  },
  {
   "cell_type": "code",
   "execution_count": null,
   "metadata": {
    "colab": {
     "background_save": true,
     "output_embedded_package_id": "1CBdGDzRYdO-wnp90D02t5K7u9623bdBN"
    },
    "id": "J4UIEhHgZgU1",
    "outputId": "8af589eb-112a-43b3-b21f-88707f1a0c2a"
   },
   "outputs": [
    {
     "data": {
      "text/plain": [
       "Output hidden; open in https://colab.research.google.com to view."
      ]
     },
     "metadata": {},
     "output_type": "display_data"
    }
   ],
   "source": [
    "fig = px.density_mapbox(df, lat='seller_lat', lon='seller_lng', z='product_photos_qty', radius=10,\n",
    "                        center=dict(lat=0, lon=180), zoom=0, height=800,\n",
    "                        mapbox_style=\"stamen-terrain\")\n",
    "fig.show()"
   ]
  },
  {
   "cell_type": "markdown",
   "metadata": {
    "id": "2BFhItvoZpLT"
   },
   "source": [
    "###Weight"
   ]
  },
  {
   "cell_type": "code",
   "execution_count": null,
   "metadata": {
    "colab": {
     "background_save": true,
     "output_embedded_package_id": "1-rQ_yDlEhwzPdTwxeo4o7124DwHWW1Qm"
    },
    "id": "gqH20n6KZuJY",
    "outputId": "57b71224-e2d9-445d-bdd6-3e2d2b48a828"
   },
   "outputs": [
    {
     "data": {
      "text/plain": [
       "Output hidden; open in https://colab.research.google.com to view."
      ]
     },
     "metadata": {},
     "output_type": "display_data"
    }
   ],
   "source": [
    "fig = px.density_mapbox(df, lat='seller_lat', lon='seller_lng', z='product_weight_g', radius=10,\n",
    "                        center=dict(lat=0, lon=180), zoom=0, height=800,\n",
    "                        mapbox_style=\"stamen-terrain\")\n",
    "fig.show()"
   ]
  },
  {
   "cell_type": "markdown",
   "metadata": {
    "id": "tNODYppgZu9l"
   },
   "source": [
    "###Lenght"
   ]
  },
  {
   "cell_type": "code",
   "execution_count": null,
   "metadata": {
    "colab": {
     "base_uri": "https://localhost:8080/",
     "height": 817,
     "output_embedded_package_id": "1FfkJrq2tGXOh9VHJSydliSOKY4ZH1zDm"
    },
    "executionInfo": {
     "elapsed": 2141,
     "status": "ok",
     "timestamp": 1639523802942,
     "user": {
      "displayName": "KARINE ISABELLE MARINS",
      "photoUrl": "https://lh3.googleusercontent.com/a-/AOh14GgAYb6DJWeEqvjEo2jzR0yWwgMeuR9VTzjehhxs6w=s64",
      "userId": "09206648512635347791"
     },
     "user_tz": 180
    },
    "id": "g5bnDyYpZ4tF",
    "outputId": "c57009e4-dbe2-4aa7-cab6-883c1348bed4"
   },
   "outputs": [
    {
     "data": {
      "text/plain": [
       "Output hidden; open in https://colab.research.google.com to view."
      ]
     },
     "metadata": {},
     "output_type": "display_data"
    }
   ],
   "source": [
    "fig = px.density_mapbox(df, lat='seller_lat', lon='seller_lng', z='product_length_cm', radius=10,\n",
    "                        center=dict(lat=0, lon=180), zoom=0, height=800,\n",
    "                        mapbox_style=\"stamen-terrain\")\n",
    "fig.show()"
   ]
  },
  {
   "cell_type": "markdown",
   "metadata": {
    "id": "Vxdqu9cZZ7tc"
   },
   "source": [
    "###Height"
   ]
  },
  {
   "cell_type": "code",
   "execution_count": null,
   "metadata": {
    "colab": {
     "base_uri": "https://localhost:8080/",
     "height": 817,
     "output_embedded_package_id": "1eiMAZYGjuuMR5FQFjGfxyuRpEBIZp8eY"
    },
    "executionInfo": {
     "elapsed": 2428,
     "status": "ok",
     "timestamp": 1639524650552,
     "user": {
      "displayName": "KARINE ISABELLE MARINS",
      "photoUrl": "https://lh3.googleusercontent.com/a-/AOh14GgAYb6DJWeEqvjEo2jzR0yWwgMeuR9VTzjehhxs6w=s64",
      "userId": "09206648512635347791"
     },
     "user_tz": 180
    },
    "id": "F9vXgeNFZ-9k",
    "outputId": "344d132b-4b7a-4dec-fd61-6fd5c806f8f3"
   },
   "outputs": [
    {
     "data": {
      "text/plain": [
       "Output hidden; open in https://colab.research.google.com to view."
      ]
     },
     "metadata": {},
     "output_type": "display_data"
    }
   ],
   "source": [
    "fig = px.density_mapbox(df, lat='seller_lat', lon='seller_lng', z='product_height_cm', radius=10,\n",
    "                        center=dict(lat=0, lon=180), zoom=0, height=800,\n",
    "                        mapbox_style=\"stamen-terrain\")\n",
    "fig.show()"
   ]
  },
  {
   "cell_type": "markdown",
   "metadata": {
    "id": "g9X8IPCpaBu6"
   },
   "source": [
    "###Width\n",
    "\n"
   ]
  },
  {
   "cell_type": "code",
   "execution_count": null,
   "metadata": {
    "colab": {
     "base_uri": "https://localhost:8080/",
     "height": 817,
     "output_embedded_package_id": "1NMd8dKoXtyEUUmVpcM8p_tWwk0jld3WN"
    },
    "executionInfo": {
     "elapsed": 2402,
     "status": "ok",
     "timestamp": 1639524801228,
     "user": {
      "displayName": "KARINE ISABELLE MARINS",
      "photoUrl": "https://lh3.googleusercontent.com/a-/AOh14GgAYb6DJWeEqvjEo2jzR0yWwgMeuR9VTzjehhxs6w=s64",
      "userId": "09206648512635347791"
     },
     "user_tz": 180
    },
    "id": "Fenbm720aHv3",
    "outputId": "ead54f73-d1e9-47c2-8af1-d5df11b204f0"
   },
   "outputs": [
    {
     "data": {
      "text/plain": [
       "Output hidden; open in https://colab.research.google.com to view."
      ]
     },
     "metadata": {},
     "output_type": "display_data"
    }
   ],
   "source": [
    "fig = px.density_mapbox(df, lat='seller_lat', lon='seller_lng', z='product_width_cm', radius=10,\n",
    "                        center=dict(lat=0, lon=180), zoom=0, height=800,\n",
    "                        mapbox_style=\"stamen-terrain\")\n",
    "fig.show()"
   ]
  },
  {
   "cell_type": "markdown",
   "metadata": {
    "id": "3rAdO_EvJXBc"
   },
   "source": [
    "##Com as variaveis codificadas"
   ]
  },
  {
   "cell_type": "code",
   "execution_count": null,
   "metadata": {
    "id": "aXB2ImGWPe0P"
   },
   "outputs": [],
   "source": [
    "df_codificado = dd.read_csv('/content/drive/MyDrive/Colab Notebooks/IC/eccomerce/database/olist_geoleocated_encoder.csv')"
   ]
  },
  {
   "cell_type": "code",
   "execution_count": null,
   "metadata": {
    "id": "RXcjujL5Pg7K"
   },
   "outputs": [],
   "source": [
    "df_codificado = df_codificado.compute()"
   ]
  },
  {
   "cell_type": "markdown",
   "metadata": {
    "id": "YMLEqSC5PnwF"
   },
   "source": [
    "##Product Category Name"
   ]
  },
  {
   "cell_type": "code",
   "execution_count": null,
   "metadata": {
    "colab": {
     "base_uri": "https://localhost:8080/",
     "height": 1000,
     "output_embedded_package_id": "13R4tQuSVzIaZFM9Yr5CfE3Kmypm0c1LJ"
    },
    "executionInfo": {
     "elapsed": 3273,
     "status": "ok",
     "timestamp": 1639742798694,
     "user": {
      "displayName": "KARINE ISABELLE MARINS",
      "photoUrl": "https://lh3.googleusercontent.com/a-/AOh14GgAYb6DJWeEqvjEo2jzR0yWwgMeuR9VTzjehhxs6w=s64",
      "userId": "09206648512635347791"
     },
     "user_tz": 180
    },
    "id": "tmSDW1KjPttS",
    "outputId": "62baa056-1b90-48d3-95fd-d7c245cf68f2"
   },
   "outputs": [
    {
     "data": {
      "text/plain": [
       "Output hidden; open in https://colab.research.google.com to view."
      ]
     },
     "metadata": {},
     "output_type": "display_data"
    }
   ],
   "source": [
    "fig = px.density_mapbox(df_codificado, lat='seller_lat', lon='seller_lng', z='product_category_name', radius=10,\n",
    "                        center=dict(lat=0, lon=180), zoom=0, height=1000,\n",
    "                        mapbox_style=\"stamen-terrain\")\n",
    "fig.show()"
   ]
  },
  {
   "cell_type": "markdown",
   "metadata": {
    "id": "5O5M6A1uPyr8"
   },
   "source": [
    "##Payment Type"
   ]
  },
  {
   "cell_type": "code",
   "execution_count": null,
   "metadata": {
    "colab": {
     "base_uri": "https://localhost:8080/",
     "height": 1000,
     "output_embedded_package_id": "1F_WrfyGwf5RBSsRcMxf--6fh-Y6rMPRw"
    },
    "executionInfo": {
     "elapsed": 2509,
     "status": "ok",
     "timestamp": 1639742923921,
     "user": {
      "displayName": "KARINE ISABELLE MARINS",
      "photoUrl": "https://lh3.googleusercontent.com/a-/AOh14GgAYb6DJWeEqvjEo2jzR0yWwgMeuR9VTzjehhxs6w=s64",
      "userId": "09206648512635347791"
     },
     "user_tz": 180
    },
    "id": "m5Ofa9dxP6Ac",
    "outputId": "fdffff2c-5d48-4b78-a20d-5a7bf751129d"
   },
   "outputs": [
    {
     "data": {
      "text/plain": [
       "Output hidden; open in https://colab.research.google.com to view."
      ]
     },
     "metadata": {},
     "output_type": "display_data"
    }
   ],
   "source": [
    "fig = px.density_mapbox(df_codificado, lat='seller_lat', lon='seller_lng', z='payment_type', radius=10,\n",
    "                        center=dict(lat=0, lon=180), zoom=0, height=1000,\n",
    "                        mapbox_style=\"stamen-terrain\")\n",
    "fig.show()"
   ]
  },
  {
   "cell_type": "markdown",
   "metadata": {
    "id": "lZIpeFBMQBcj"
   },
   "source": [
    "##Order Status"
   ]
  },
  {
   "cell_type": "code",
   "execution_count": null,
   "metadata": {
    "colab": {
     "base_uri": "https://localhost:8080/",
     "height": 1000,
     "output_embedded_package_id": "1Upz1LFXMVAea5QAiMyc7o5LdBcDowC4b"
    },
    "executionInfo": {
     "elapsed": 53243,
     "status": "ok",
     "timestamp": 1639742981409,
     "user": {
      "displayName": "KARINE ISABELLE MARINS",
      "photoUrl": "https://lh3.googleusercontent.com/a-/AOh14GgAYb6DJWeEqvjEo2jzR0yWwgMeuR9VTzjehhxs6w=s64",
      "userId": "09206648512635347791"
     },
     "user_tz": 180
    },
    "id": "JJt9i2FwQZCb",
    "outputId": "e89cfc70-9f1b-4a6e-efac-1e881e6f3ca3"
   },
   "outputs": [
    {
     "data": {
      "text/plain": [
       "Output hidden; open in https://colab.research.google.com to view."
      ]
     },
     "metadata": {},
     "output_type": "display_data"
    }
   ],
   "source": [
    "fig = px.density_mapbox(df_codificado, lat='seller_lat', lon='seller_lng', z='order_status', radius=10,\n",
    "                        center=dict(lat=0, lon=180), zoom=0, height=1000,\n",
    "                        mapbox_style=\"stamen-terrain\")\n",
    "fig.show()"
   ]
  }
 ],
 "metadata": {
  "colab": {
   "collapsed_sections": [
    "UzrH5sueIRoT",
    "2N0gSoEVG8FC",
    "8SnDOdpmIsYg",
    "tNODYppgZu9l",
    "Vxdqu9cZZ7tc",
    "g9X8IPCpaBu6"
   ],
   "name": "visualization_seller.ipynb",
   "provenance": [
    {
     "file_id": "1HAoE4kUg24-hrAsQ7xrUPUcF1fhuFEGI",
     "timestamp": 1638973129421
    }
   ]
  },
  "interpreter": {
   "hash": "31f2aee4e71d21fbe5cf8b01ff0e069b9275f58929596ceb00d14d90e3e16cd6"
  },
  "kernelspec": {
   "display_name": "Python 3 (ipykernel)",
   "language": "python",
   "name": "python3"
  },
  "language_info": {
   "codemirror_mode": {
    "name": "ipython",
    "version": 3
   },
   "file_extension": ".py",
   "mimetype": "text/x-python",
   "name": "python",
   "nbconvert_exporter": "python",
   "pygments_lexer": "ipython3",
   "version": "3.9.7"
  }
 },
 "nbformat": 4,
 "nbformat_minor": 4
}
