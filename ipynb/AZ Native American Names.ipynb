{
 "cells": [
  {
   "cell_type": "code",
   "execution_count": 1,
   "id": "0b588171-fbec-4e39-923e-ac5edf3ead0b",
   "metadata": {},
   "outputs": [],
   "source": [
    "\n",
    "%run ../load_magic/soup.py\n",
    "\n",
    "page_url = 'https://statemuseum.arizona.edu/programs/american-indian-relations/tribes-arizona'\n",
    "page_soup = get_page_soup(page_url)"
   ]
  },
  {
   "cell_type": "code",
   "execution_count": 12,
   "id": "adbbd297-b11a-4b03-986d-47c99da574f3",
   "metadata": {},
   "outputs": [],
   "source": [
    "\n",
    "items_div = page_soup.select('div[class=\"entity entity-paragraphs-item paragraphs-item-uaqs-headed-text mb-4\"]')[0]\n",
    "tribe_regex = re.compile(r'^\\n?\\d+\\. (.+)$')\n",
    "suffix_regex = re.compile(' (Indian|Tribes?|Community|Nation)')\n",
    "tribes_list = []\n",
    "for list_item in list(items_div.select('p')[1].children)[0::2]:\n",
    "    match_obj = tribe_regex.search(list_item)\n",
    "    if match_obj:\n",
    "        tribe_str = match_obj.group(1).replace('\\xa0', ' ').rstrip('*')\n",
    "        tribe_str = suffix_regex.sub('', tribe_str)\n",
    "        tribes_list.append(tribe_str)"
   ]
  },
  {
   "cell_type": "code",
   "execution_count": null,
   "id": "20cea85d-6a97-4c68-a194-167851a5cd6c",
   "metadata": {},
   "outputs": [],
   "source": []
  }
 ],
 "metadata": {
  "kernelspec": {
   "display_name": "Python 3",
   "language": "python",
   "name": "python3"
  },
  "language_info": {
   "codemirror_mode": {
    "name": "ipython",
    "version": 3
   },
   "file_extension": ".py",
   "mimetype": "text/x-python",
   "name": "python",
   "nbconvert_exporter": "python",
   "pygments_lexer": "ipython3",
   "version": "3.8.10"
  }
 },
 "nbformat": 4,
 "nbformat_minor": 5
}
