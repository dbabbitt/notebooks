{
 "cells": [
  {
   "cell_type": "code",
   "execution_count": null,
   "metadata": {},
   "outputs": [],
   "source": []
  },
  {
   "cell_type": "code",
   "execution_count": 17,
   "metadata": {},
   "outputs": [],
   "source": [
    "\n",
    "import re\n",
    "import os\n",
    "import pandas as pd\n",
    "\n",
    "popen_list = os.popen('conda list').read().split('\\n')\n",
    "packages_list = popen_list[3:-1]\n",
    "ws_regex = re.compile('\\s+')\n",
    "columns_list = ws_regex.split(popen_list[2])[1:]\n",
    "rows_list = []\n",
    "for package_str in packages_list:\n",
    "    row_dict = {cv: cn for cn, cv in zip(ws_regex.split(package_str), columns_list)}\n",
    "    rows_list.append(row_dict)\n",
    "df = pd.DataFrame(rows_list, columns=columns_list)"
   ]
  },
  {
   "cell_type": "code",
   "execution_count": 19,
   "metadata": {},
   "outputs": [
    {
     "data": {
      "text/plain": [
       "conda-forge    282\n",
       "pypi            78\n",
       "                61\n",
       "Name: Channel, dtype: int64"
      ]
     },
     "execution_count": 19,
     "metadata": {},
     "output_type": "execute_result"
    }
   ],
   "source": [
    "\n",
    "df.Channel.value_counts()"
   ]
  }
 ],
 "metadata": {
  "kernelspec": {
   "display_name": "Python 3",
   "language": "python",
   "name": "python3"
  },
  "language_info": {
   "codemirror_mode": {
    "name": "ipython",
    "version": 3
   },
   "file_extension": ".py",
   "mimetype": "text/x-python",
   "name": "python",
   "nbconvert_exporter": "python",
   "pygments_lexer": "ipython3",
   "version": "3.8.6"
  }
 },
 "nbformat": 4,
 "nbformat_minor": 4
}
