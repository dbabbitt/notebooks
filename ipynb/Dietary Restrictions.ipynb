{
 "cells": [
  {
   "cell_type": "code",
   "execution_count": null,
   "metadata": {},
   "outputs": [],
   "source": []
  },
  {
   "cell_type": "code",
   "execution_count": 1,
   "metadata": {},
   "outputs": [
    {
     "name": "stdout",
     "output_type": "stream",
     "text": [
      "C:\\Users\\dev\\Documents\\repositories\\notebooks\\Miscellaneous\\ipynb\\Untitled.ipynb\n",
      "data_folder: ../data/\n",
      "saves_folder: ../saves/\n",
      "['attempt_to_pickle', 'data_csv_folder', 'data_folder', 'encoding_type', 'load_csv', 'load_dataframes', 'load_object', 'save_dataframes', 'saves_csv_folder', 'saves_folder', 'saves_pickle_folder', 'store_objects']\n",
      "Pretty printing has been turned OFF\n",
      "SequenceMatcher\t Storage\t bs\t check_4_doubles\t check_for_typos\t conjunctify_nouns\t copy_all_notebooks_from_the_repositories\t copyfile\t csv\t \n",
      "encoding\t example_iterrows\t get_column_descriptions\t get_git_lfs_track_commands\t get_max_rsquared_adj\t get_module_version\t get_notebook_path\t get_page_tables\t get_specific_gitignore_files\t \n",
      "humanize_bytes\t ipykernel\t json\t math\t notebook_path\t notebookapp\t nx\t os\t pd\t \n",
      "pickle\t print_all_files_ending_starting_with\t print_all_files_ending_with\t print_all_files_starting_with\t re\t remove_empty_folders\t s\t similar\t sm\t \n",
      "subprocess\t sys\t time\t urllib\t where_are_any_wav_files\t \n"
     ]
    }
   ],
   "source": [
    "\n",
    "%run ../../load_magic/storage.py\n",
    "%run ../../load_magic/paths.py\n",
    "%run ../../load_magic/lists.py\n",
    "%run ../../load_magic/environment.py\n",
    "%run ../../load_magic/dataframes.py\n",
    "\n",
    "from bs4 import BeautifulSoup as bs\n",
    "import networkx as nx\n",
    "import re\n",
    "import urllib.request\n",
    "\n",
    "notebook_path = get_notebook_path()\n",
    "print(notebook_path)\n",
    "s = Storage()\n",
    "print([fn for fn in dir(s) if not fn.startswith('_')])\n",
    "\n",
    "%pprint\n",
    "%who"
   ]
  },
  {
   "cell_type": "code",
   "execution_count": 2,
   "metadata": {},
   "outputs": [],
   "source": [
    "\n",
    "def get_page_soup(page_url):\n",
    "    with urllib.request.urlopen(page_url) as response:\n",
    "        page_html = response.read()\n",
    "    page_soup = bs(page_html, 'html.parser')\n",
    "    \n",
    "    return page_soup"
   ]
  },
  {
   "cell_type": "code",
   "execution_count": 5,
   "metadata": {},
   "outputs": [
    {
     "name": "stdout",
     "output_type": "stream",
     "text": [
      "[(0, (13, 5))]\n"
     ]
    }
   ],
   "source": [
    "\n",
    "tables_url = 'https://factvsfitness.com/histamine-intolerance-food-list/'\n",
    "hystamine_path = os.path.join(s.data_folder, 'html', 'low_hystamine_diet.html')\n",
    "#page_soup = get_page_soup(tables_url)\n",
    "tables_list = get_page_tables(hystamine_path)"
   ]
  },
  {
   "cell_type": "code",
   "execution_count": 6,
   "metadata": {},
   "outputs": [],
   "source": [
    "\n",
    "#itertools.combinations(iterable, r)\n",
    "with open(hystamine_path, 'r', encoding=s.encoding_type) as f:\n",
    "    html_str = f.read()\n",
    "strong_li_list = re.split('<[^>]+data-th=\"([^\"]+)\">', html_str, 0)\n",
    "strong_li_list = [re.sub(r'>\\s+', '>', re.sub(r'\\s+<', '<', s)) for s in strong_li_list[1:]]\n",
    "n = len(strong_li_list)"
   ]
  },
  {
   "cell_type": "code",
   "execution_count": 7,
   "metadata": {},
   "outputs": [
    {
     "name": "stdout",
     "output_type": "stream",
     "text": [
      "Pickling to C:\\Users\\dev\\Documents\\repositories\\notebooks\\Miscellaneous\\saves\\pickle\\hystamine_df.pickle\n"
     ]
    },
    {
     "data": {
      "text/html": [
       "<div>\n",
       "<style scoped>\n",
       "    .dataframe tbody tr th:only-of-type {\n",
       "        vertical-align: middle;\n",
       "    }\n",
       "\n",
       "    .dataframe tbody tr th {\n",
       "        vertical-align: top;\n",
       "    }\n",
       "\n",
       "    .dataframe thead th {\n",
       "        text-align: right;\n",
       "    }\n",
       "</style>\n",
       "<table border=\"1\" class=\"dataframe\">\n",
       "  <thead>\n",
       "    <tr style=\"text-align: right;\">\n",
       "      <th></th>\n",
       "      <th>food_group</th>\n",
       "      <th>is_restricted</th>\n",
       "      <th>food_name</th>\n",
       "    </tr>\n",
       "  </thead>\n",
       "  <tbody>\n",
       "    <tr>\n",
       "      <th>0</th>\n",
       "      <td>Vegetables</td>\n",
       "      <td>False</td>\n",
       "      <td>All fresh vegetables except those listed opposite</td>\n",
       "    </tr>\n",
       "    <tr>\n",
       "      <th>1</th>\n",
       "      <td>Vegetables</td>\n",
       "      <td>True</td>\n",
       "      <td>Eggplant</td>\n",
       "    </tr>\n",
       "  </tbody>\n",
       "</table>\n",
       "</div>"
      ],
      "text/plain": [
       "   food_group  is_restricted  \\\n",
       "0  Vegetables          False   \n",
       "1  Vegetables           True   \n",
       "\n",
       "                                           food_name  \n",
       "0  All fresh vegetables except those listed opposite  \n",
       "1                                           Eggplant  "
      ]
     },
     "execution_count": 7,
     "metadata": {},
     "output_type": "execute_result"
    }
   ],
   "source": [
    "\n",
    "rows_list = []\n",
    "row_dict = {}\n",
    "for i in range(0, n, 2):\n",
    "    strong_li_str = strong_li_list[i+1]\n",
    "    allowed_restricted = strong_li_list[i]\n",
    "    if allowed_restricted == 'ALLOWED':\n",
    "        row_dict['is_restricted'] = False\n",
    "    elif allowed_restricted == 'RESTRICTED':\n",
    "        row_dict['is_restricted'] = True\n",
    "    for match_obj in re.finditer(r'<(strong|li)>([^<]+)</\\1>', strong_li_str):\n",
    "        #print(match_obj.group(1), match_obj.group(2))\n",
    "        if match_obj.group(1) == 'strong':\n",
    "            row_dict['food_group'] = match_obj.group(2)\n",
    "        elif match_obj.group(1) == 'li':\n",
    "            row_dict['food_name'] = match_obj.group(2)\n",
    "            #print(row_dict)\n",
    "            rows_list.append(row_dict.copy())\n",
    "    #print(allowed_restricted, strong_li_str)\n",
    "hystamine_df = pd.DataFrame(rows_list)\n",
    "columns_list = ['is_restricted']\n",
    "#[fn for fn in dir(hystamine_df) if 'dup' in fn.lower()]\n",
    "s.store_objects(hystamine_df=hystamine_df)\n",
    "hystamine_df.drop_duplicates(subset=columns_list)"
   ]
  },
  {
   "cell_type": "code",
   "execution_count": 8,
   "metadata": {},
   "outputs": [],
   "source": [
    "\n",
    "mask_series = hystamine_df['is_restricted']\n",
    "restricted_list = hystamine_df[mask_series]['food_name'].tolist()\n",
    "unrestricted_list = hystamine_df[~mask_series]['food_name'].tolist()"
   ]
  },
  {
   "cell_type": "code",
   "execution_count": 9,
   "metadata": {},
   "outputs": [
    {
     "data": {
      "text/plain": [
       "['Eggplant', 'Pumpkin', 'Sauerkraut', 'Spinach', 'Tomato', 'Avocado', 'Olives', 'Pickled', 'vegetables', 'Citrus fruits', 'Banana', 'Cherry', 'Cranberry', 'Currant', 'Date', 'Loganberry', 'Nectarine', 'Orange', 'Papaya', 'Peach', 'Pineapple', 'Prunes', 'Plums', 'Raisins', 'Raspberries', 'Strawberries', 'Fruit dishes,jams, juices made with restricted ingredients', 'All fish (unless fresh caught)', 'All shellfish', 'Leftover/refrigerated meats', 'Processed, cured or smoked meats', 'Raw egg whites (as in some eggnog, hollandaise sauce, milk shakes)', 'All fats and oils with colours or preservatives', 'Prepared gravy', 'Commercial salad dressings', 'Hydrolyzed lecithin', 'Anise', 'Cinnamon', 'Cloves', 'Curry powder', 'Paprika/cayenne', 'Nutmeg', 'Seasoning packets with restricted ingredients', 'Foods labeled “with spices”', 'Walnuts', 'Cashews', 'Soy', 'Lentils', 'Beans', 'Peanuts', 'Foods cooked in oils containing hydrolyzed lecithin, BHA or BHT Baking Mixes', 'Dry dessert mixes', 'All cheese', 'All buttermilk', 'Flavored syrups', 'Prepared dessert fillings', 'Prepared icings/frostings', 'Spreads with restricted ingredients', 'Cake decorations', 'Confectionary', 'Commercial candies', 'All processed sugars', 'All artificial sweeteners', 'All chocolate, cocoa and carob', 'All products made with artificial flavors or preservatives', 'Artificial colourings, especially tartazine (also found in medications and supplements)', 'Hydrolyzed lecithin', 'BHA, BHT', 'Flavored gelatin', 'Mincemeat', 'Prepared relishes and olives', 'Soy sauce', 'Miso Commercial ketchup', 'Canned foods and ready meals', 'Pickled and fermented foods', 'Vinegar', 'Yeast and yeast extracts', 'Benzoates (also found in cosmetics), sulphites, nitrites, glutamate, food dyes', 'Soda and carbonated drinks', 'All tea (including green, black and mate)', 'All other alcoholic beverages']"
      ]
     },
     "execution_count": 9,
     "metadata": {},
     "output_type": "execute_result"
    }
   ],
   "source": [
    "\n",
    "restricted_list"
   ]
  },
  {
   "cell_type": "code",
   "execution_count": 10,
   "metadata": {},
   "outputs": [
    {
     "data": {
      "text/plain": [
       "['All fresh vegetables except those listed opposite', 'Apple', 'Cantaloupe', 'Figs', 'Grapefruit', 'Grapes', 'Honeydew', 'Mango', 'Pear', 'Rhubarb', 'Lychee', 'Persimmon', 'Blackberries', 'Blueberries', 'Watermelon', 'Coconut', 'All fresh meat and poultry. Must be bought and cooked fresh.', 'Plain eggs (ensure whites are fully cooked)', 'Pure butter', 'All vegetable oils and oils of allowed', 'foods which contain no additives', 'Coconut oil', 'Meat drippings and fat', 'Homemade gravy', 'Homemade salad dressings with allowed ingredients', 'All fresh herbs and spices except those listed opposite', 'All nuts should be eliminated for the first two weeks on the diet. After this period, nuts aside from those listed opposite may be reintroduced individually to examine tolerance. Begin with macadamias and chestnuts.', 'All legumes should be eliminated for the first two weeks on the diet. After this period, legumes aside from those listed opposite may be reintroduced individually to examine tolerance. Even if tolerable, a maximum consumption of ½ cup legumes per day is recommended.', 'Total of ½ cup per day maximum of the following: Any plain, gluten-free breads, gluten-free oats, gluten-free pasta or other gluten-free grains with allowed ingredients only.', 'After two weeks on this diet, plain milk can be reintroduced if tolerable', 'Recommended to only use when necessary and in minimal amounts:', 'Honey', 'Molasses', 'Maple Syrup', 'Pure jams and jellies', 'Homemade desserts with allowed ingredients', 'Apple cider vinegar', 'Baking soda', 'Plain gelatin', 'Corn starch', 'Gluten-free baking powder', 'Coffee', 'Still and carbonated mineral water', 'Tea made with fresh sliced ginger and hot water only (helps degrade histamine)', 'Alcohol is recommended to be consumed in minimal amounts, if at all. However, when necessary, plain vodka, gin and white rum are the best choices on this diet.']"
      ]
     },
     "execution_count": 10,
     "metadata": {},
     "output_type": "execute_result"
    }
   ],
   "source": [
    "\n",
    "unrestricted_list"
   ]
  },
  {
   "cell_type": "code",
   "execution_count": 11,
   "metadata": {},
   "outputs": [
    {
     "data": {
      "text/html": [
       "<div>\n",
       "<style scoped>\n",
       "    .dataframe tbody tr th:only-of-type {\n",
       "        vertical-align: middle;\n",
       "    }\n",
       "\n",
       "    .dataframe tbody tr th {\n",
       "        vertical-align: top;\n",
       "    }\n",
       "\n",
       "    .dataframe thead th {\n",
       "        text-align: right;\n",
       "    }\n",
       "</style>\n",
       "<table border=\"1\" class=\"dataframe\">\n",
       "  <thead>\n",
       "    <tr style=\"text-align: right;\">\n",
       "      <th></th>\n",
       "      <th>FOOD GROUP</th>\n",
       "      <th>ALLOWED</th>\n",
       "      <th>ALLOWED.1</th>\n",
       "      <th>RESTRICTED</th>\n",
       "      <th>RESTRICTED.1</th>\n",
       "    </tr>\n",
       "  </thead>\n",
       "  <tbody>\n",
       "    <tr>\n",
       "      <th>0</th>\n",
       "      <td>Vegetables</td>\n",
       "      <td>All fresh vegetables except those listed opposite</td>\n",
       "      <td>All fresh vegetables except those listed opposite</td>\n",
       "      <td>Eggplant  Pumpkin  Sauerkraut  Spinach  Tomato</td>\n",
       "      <td>Avocado  Olives  Pickled  vegetables</td>\n",
       "    </tr>\n",
       "    <tr>\n",
       "      <th>1</th>\n",
       "      <td>Fruits</td>\n",
       "      <td>Apple  Cantaloupe  Figs  Grapefruit  Grapes  H...</td>\n",
       "      <td>Rhubarb  Lychee  Persimmon  Blackberries  Blue...</td>\n",
       "      <td>Citrus fruits  Banana  Cherry  Cranberry  Curr...</td>\n",
       "      <td>Pineapple  Prunes  Plums  Raisins  Raspberries...</td>\n",
       "    </tr>\n",
       "    <tr>\n",
       "      <th>2</th>\n",
       "      <td>Meat, Poultry and Fish</td>\n",
       "      <td>All fresh meat and poultry. Must be bought and...</td>\n",
       "      <td>All fresh meat and poultry. Must be bought and...</td>\n",
       "      <td>All fish (unless fresh caught)  All shellfish ...</td>\n",
       "      <td>All fish (unless fresh caught)  All shellfish ...</td>\n",
       "    </tr>\n",
       "    <tr>\n",
       "      <th>3</th>\n",
       "      <td>Eggs</td>\n",
       "      <td>Plain eggs (ensure whites are fully cooked)</td>\n",
       "      <td>Plain eggs (ensure whites are fully cooked)</td>\n",
       "      <td>Raw egg whites (as in some eggnog, hollandaise...</td>\n",
       "      <td>Raw egg whites (as in some eggnog, hollandaise...</td>\n",
       "    </tr>\n",
       "    <tr>\n",
       "      <th>4</th>\n",
       "      <td>Fats and Oils</td>\n",
       "      <td>Pure butter  All vegetable oils and oils of al...</td>\n",
       "      <td>Pure butter  All vegetable oils and oils of al...</td>\n",
       "      <td>All fats and oils with colours or preservative...</td>\n",
       "      <td>All fats and oils with colours or preservative...</td>\n",
       "    </tr>\n",
       "    <tr>\n",
       "      <th>5</th>\n",
       "      <td>Spices and Herbs</td>\n",
       "      <td>All fresh herbs and spices except those listed...</td>\n",
       "      <td>All fresh herbs and spices except those listed...</td>\n",
       "      <td>Anise  Cinnamon  Cloves  Curry powder  Paprika...</td>\n",
       "      <td>Anise  Cinnamon  Cloves  Curry powder  Paprika...</td>\n",
       "    </tr>\n",
       "    <tr>\n",
       "      <th>6</th>\n",
       "      <td>Nuts and seeds</td>\n",
       "      <td>All nuts should be eliminated for the first tw...</td>\n",
       "      <td>All nuts should be eliminated for the first tw...</td>\n",
       "      <td>Walnuts  Cashews</td>\n",
       "      <td>Walnuts  Cashews</td>\n",
       "    </tr>\n",
       "    <tr>\n",
       "      <th>7</th>\n",
       "      <td>Legumes*</td>\n",
       "      <td>All legumes should be eliminated for the first...</td>\n",
       "      <td>All legumes should be eliminated for the first...</td>\n",
       "      <td>Soy  Lentils  Beans  Peanuts</td>\n",
       "      <td>Soy  Lentils  Beans  Peanuts</td>\n",
       "    </tr>\n",
       "    <tr>\n",
       "      <th>8</th>\n",
       "      <td>Breads and Cereals*</td>\n",
       "      <td>Total of Â½ cup per day maximum of the followi...</td>\n",
       "      <td>Total of Â½ cup per day maximum of the followi...</td>\n",
       "      <td>Foods cooked in oils containing hydrolyzed lec...</td>\n",
       "      <td>Foods cooked in oils containing hydrolyzed lec...</td>\n",
       "    </tr>\n",
       "    <tr>\n",
       "      <th>9</th>\n",
       "      <td>Milk and Dairy*</td>\n",
       "      <td>After two weeks on this diet, plain milk can b...</td>\n",
       "      <td>After two weeks on this diet, plain milk can b...</td>\n",
       "      <td>All cheese  All yogurt (unless specifically cu...</td>\n",
       "      <td>All cheese  All yogurt (unless specifically cu...</td>\n",
       "    </tr>\n",
       "    <tr>\n",
       "      <th>10</th>\n",
       "      <td>Sweeteners*</td>\n",
       "      <td>Recommended to only use when necessary and in ...</td>\n",
       "      <td>Recommended to only use when necessary and in ...</td>\n",
       "      <td>Flavored syrups  Prepared dessert fillings  Pr...</td>\n",
       "      <td>Flavored syrups  Prepared dessert fillings  Pr...</td>\n",
       "    </tr>\n",
       "    <tr>\n",
       "      <th>11</th>\n",
       "      <td>Other</td>\n",
       "      <td>Apple cider vinegar  Baking soda  Plain gelati...</td>\n",
       "      <td>Apple cider vinegar  Baking soda  Plain gelati...</td>\n",
       "      <td>All chocolate, cocoa and carob  All products m...</td>\n",
       "      <td>All chocolate, cocoa and carob  All products m...</td>\n",
       "    </tr>\n",
       "    <tr>\n",
       "      <th>12</th>\n",
       "      <td>Beverages</td>\n",
       "      <td>Coffee  Still and carbonated mineral water  Te...</td>\n",
       "      <td>Coffee  Still and carbonated mineral water  Te...</td>\n",
       "      <td>Soda and carbonated drinks  All tea (including...</td>\n",
       "      <td>Soda and carbonated drinks  All tea (including...</td>\n",
       "    </tr>\n",
       "  </tbody>\n",
       "</table>\n",
       "</div>"
      ],
      "text/plain": [
       "                FOOD GROUP                                            ALLOWED  \\\n",
       "0               Vegetables  All fresh vegetables except those listed opposite   \n",
       "1                   Fruits  Apple  Cantaloupe  Figs  Grapefruit  Grapes  H...   \n",
       "2   Meat, Poultry and Fish  All fresh meat and poultry. Must be bought and...   \n",
       "3                     Eggs        Plain eggs (ensure whites are fully cooked)   \n",
       "4            Fats and Oils  Pure butter  All vegetable oils and oils of al...   \n",
       "5         Spices and Herbs  All fresh herbs and spices except those listed...   \n",
       "6           Nuts and seeds  All nuts should be eliminated for the first tw...   \n",
       "7                 Legumes*  All legumes should be eliminated for the first...   \n",
       "8      Breads and Cereals*  Total of Â½ cup per day maximum of the followi...   \n",
       "9          Milk and Dairy*  After two weeks on this diet, plain milk can b...   \n",
       "10             Sweeteners*  Recommended to only use when necessary and in ...   \n",
       "11                   Other  Apple cider vinegar  Baking soda  Plain gelati...   \n",
       "12               Beverages  Coffee  Still and carbonated mineral water  Te...   \n",
       "\n",
       "                                            ALLOWED.1  \\\n",
       "0   All fresh vegetables except those listed opposite   \n",
       "1   Rhubarb  Lychee  Persimmon  Blackberries  Blue...   \n",
       "2   All fresh meat and poultry. Must be bought and...   \n",
       "3         Plain eggs (ensure whites are fully cooked)   \n",
       "4   Pure butter  All vegetable oils and oils of al...   \n",
       "5   All fresh herbs and spices except those listed...   \n",
       "6   All nuts should be eliminated for the first tw...   \n",
       "7   All legumes should be eliminated for the first...   \n",
       "8   Total of Â½ cup per day maximum of the followi...   \n",
       "9   After two weeks on this diet, plain milk can b...   \n",
       "10  Recommended to only use when necessary and in ...   \n",
       "11  Apple cider vinegar  Baking soda  Plain gelati...   \n",
       "12  Coffee  Still and carbonated mineral water  Te...   \n",
       "\n",
       "                                           RESTRICTED  \\\n",
       "0      Eggplant  Pumpkin  Sauerkraut  Spinach  Tomato   \n",
       "1   Citrus fruits  Banana  Cherry  Cranberry  Curr...   \n",
       "2   All fish (unless fresh caught)  All shellfish ...   \n",
       "3   Raw egg whites (as in some eggnog, hollandaise...   \n",
       "4   All fats and oils with colours or preservative...   \n",
       "5   Anise  Cinnamon  Cloves  Curry powder  Paprika...   \n",
       "6                                    Walnuts  Cashews   \n",
       "7                        Soy  Lentils  Beans  Peanuts   \n",
       "8   Foods cooked in oils containing hydrolyzed lec...   \n",
       "9   All cheese  All yogurt (unless specifically cu...   \n",
       "10  Flavored syrups  Prepared dessert fillings  Pr...   \n",
       "11  All chocolate, cocoa and carob  All products m...   \n",
       "12  Soda and carbonated drinks  All tea (including...   \n",
       "\n",
       "                                         RESTRICTED.1  \n",
       "0                Avocado  Olives  Pickled  vegetables  \n",
       "1   Pineapple  Prunes  Plums  Raisins  Raspberries...  \n",
       "2   All fish (unless fresh caught)  All shellfish ...  \n",
       "3   Raw egg whites (as in some eggnog, hollandaise...  \n",
       "4   All fats and oils with colours or preservative...  \n",
       "5   Anise  Cinnamon  Cloves  Curry powder  Paprika...  \n",
       "6                                    Walnuts  Cashews  \n",
       "7                        Soy  Lentils  Beans  Peanuts  \n",
       "8   Foods cooked in oils containing hydrolyzed lec...  \n",
       "9   All cheese  All yogurt (unless specifically cu...  \n",
       "10  Flavored syrups  Prepared dessert fillings  Pr...  \n",
       "11  All chocolate, cocoa and carob  All products m...  \n",
       "12  Soda and carbonated drinks  All tea (including...  "
      ]
     },
     "execution_count": 11,
     "metadata": {},
     "output_type": "execute_result"
    }
   ],
   "source": [
    "\n",
    "tables_list[0]"
   ]
  },
  {
   "cell_type": "code",
   "execution_count": 25,
   "metadata": {},
   "outputs": [
    {
     "name": "stdout",
     "output_type": "stream",
     "text": [
      "Pickling to C:\\Users\\dev\\Documents\\repositories\\notebooks\\Miscellaneous\\saves\\pickle\\btvc_legalillegal_df.pickle\n"
     ]
    },
    {
     "data": {
      "text/html": [
       "<div>\n",
       "<style scoped>\n",
       "    .dataframe tbody tr th:only-of-type {\n",
       "        vertical-align: middle;\n",
       "    }\n",
       "\n",
       "    .dataframe tbody tr th {\n",
       "        vertical-align: top;\n",
       "    }\n",
       "\n",
       "    .dataframe thead th {\n",
       "        text-align: right;\n",
       "    }\n",
       "</style>\n",
       "<table border=\"1\" class=\"dataframe\">\n",
       "  <thead>\n",
       "    <tr style=\"text-align: right;\">\n",
       "      <th></th>\n",
       "      <th>item_name</th>\n",
       "      <th>legal_illegal</th>\n",
       "      <th>additional_information</th>\n",
       "    </tr>\n",
       "  </thead>\n",
       "  <tbody>\n",
       "    <tr>\n",
       "      <th>0</th>\n",
       "      <td>Acorn Squash</td>\n",
       "      <td>Legal</td>\n",
       "      <td>NaN</td>\n",
       "    </tr>\n",
       "    <tr>\n",
       "      <th>1</th>\n",
       "      <td>Agar-agar</td>\n",
       "      <td>Illegal</td>\n",
       "      <td>Contains polysaccharides. See wikipedia:agaragar</td>\n",
       "    </tr>\n",
       "    <tr>\n",
       "      <th>2</th>\n",
       "      <td>Agave syrup</td>\n",
       "      <td>Illegal</td>\n",
       "      <td>NaN</td>\n",
       "    </tr>\n",
       "    <tr>\n",
       "      <th>3</th>\n",
       "      <td>Algae</td>\n",
       "      <td>Illegal</td>\n",
       "      <td>We do not use algae (Spirulina) because IBD in...</td>\n",
       "    </tr>\n",
       "    <tr>\n",
       "      <th>4</th>\n",
       "      <td>Allspice</td>\n",
       "      <td>Legal</td>\n",
       "      <td>As long as you're just using Allspice as a coo...</td>\n",
       "    </tr>\n",
       "    <tr>\n",
       "      <th>...</th>\n",
       "      <td>...</td>\n",
       "      <td>...</td>\n",
       "      <td>...</td>\n",
       "    </tr>\n",
       "    <tr>\n",
       "      <th>429</th>\n",
       "      <td>Yams</td>\n",
       "      <td>Illegal</td>\n",
       "      <td>NaN</td>\n",
       "    </tr>\n",
       "    <tr>\n",
       "      <th>430</th>\n",
       "      <td>Yoghurt (commercial)</td>\n",
       "      <td>Illegal</td>\n",
       "      <td>Eating commercial yoghurt is not permitted. Co...</td>\n",
       "    </tr>\n",
       "    <tr>\n",
       "      <th>431</th>\n",
       "      <td>Yoghurt (homemade)</td>\n",
       "      <td>Legal</td>\n",
       "      <td>See, yoghurt in the Knowledge Base section for...</td>\n",
       "    </tr>\n",
       "    <tr>\n",
       "      <th>432</th>\n",
       "      <td>Yucca Root</td>\n",
       "      <td>Illegal</td>\n",
       "      <td>NaN</td>\n",
       "    </tr>\n",
       "    <tr>\n",
       "      <th>433</th>\n",
       "      <td>Zucchini</td>\n",
       "      <td>Legal</td>\n",
       "      <td>Also known as Courgette</td>\n",
       "    </tr>\n",
       "  </tbody>\n",
       "</table>\n",
       "<p>434 rows × 3 columns</p>\n",
       "</div>"
      ],
      "text/plain": [
       "                item_name legal_illegal  \\\n",
       "0            Acorn Squash         Legal   \n",
       "1               Agar-agar       Illegal   \n",
       "2             Agave syrup       Illegal   \n",
       "3                   Algae       Illegal   \n",
       "4                Allspice         Legal   \n",
       "..                    ...           ...   \n",
       "429                  Yams       Illegal   \n",
       "430  Yoghurt (commercial)       Illegal   \n",
       "431    Yoghurt (homemade)         Legal   \n",
       "432            Yucca Root       Illegal   \n",
       "433              Zucchini         Legal   \n",
       "\n",
       "                                additional_information  \n",
       "0                                                  NaN  \n",
       "1     Contains polysaccharides. See wikipedia:agaragar  \n",
       "2                                                  NaN  \n",
       "3    We do not use algae (Spirulina) because IBD in...  \n",
       "4    As long as you're just using Allspice as a coo...  \n",
       "..                                                 ...  \n",
       "429                                                NaN  \n",
       "430  Eating commercial yoghurt is not permitted. Co...  \n",
       "431  See, yoghurt in the Knowledge Base section for...  \n",
       "432                                                NaN  \n",
       "433                            Also known as Courgette  \n",
       "\n",
       "[434 rows x 3 columns]"
      ]
     },
     "execution_count": 25,
     "metadata": {},
     "output_type": "execute_result"
    }
   ],
   "source": [
    "\n",
    "#s.load_csv(csv_name='btvc_legalillegal_list')\n",
    "csv_path = os.path.join(s.data_csv_folder, 'btvc_legalillegal_list.csv')\n",
    "btvc_legalillegal_df = pd.read_csv(csv_path, encoding=s.encoding_type, delimiter='|')\n",
    "s.store_objects(btvc_legalillegal_df=btvc_legalillegal_df)\n",
    "btvc_legalillegal_df"
   ]
  },
  {
   "cell_type": "code",
   "execution_count": 27,
   "metadata": {},
   "outputs": [
    {
     "data": {
      "text/plain": [
       "['Acorn Squash', 'Allspice', 'Almond butter', 'Almond milk', 'Almond oil', 'Almonds', 'Anchovies', 'Apple Cider', 'Apples', 'Apricots', 'Artichokes (French)', 'Ascorbic acid', 'Asiago cheese', 'Asparagus', 'Aspartame', 'Aspartic acid', 'Avocado oil', 'Avocadoes', 'Bacon', 'Baking soda', 'Bananas', 'Basil', 'Bay Leaf', 'Beef', 'Beets', 'Berries', 'Black beans', 'Black radish', 'Blue cheese', 'Bok Choy', 'Bourbon', 'Brazil nuts', 'Brick cheese', 'Brie cheese', 'Broccoli', 'Brussell sprouts', 'Butter', 'Butternut squash', 'Cabbage', 'Camembert cheese', 'Canned fish', 'Canola oil', 'Cantaloupe', 'Capers', 'Carrots', 'Cashews', 'Cauliflower', 'Celeriac /celery root', 'Celery', 'Cellulose (in supplements)', 'Chard', 'Cheddar cheese', 'Cheese', 'Cherimoya', 'Cherries', 'Chestnuts', 'Cilantro', 'Cinnamon', 'Citric Acid', 'Club soda', 'Coconut', 'Coconut milk', 'Coconut oil', 'Coffee', 'Colby cheese', 'Collard greens', 'Corn oil', 'Courgette', 'Cranberry juice', 'Cucumbers', 'Custard apple', 'Cyclamate', 'Dates', 'Dry Curd Cottage Cheese (DCCC)', 'Echinacea', 'Edam cheese', 'Eggplant', 'Eggs', 'Ethanol', 'Figs', 'Filberts (hazelnuts)', 'Fish', 'Flax seed oil', 'Fowl', 'Fruits (canned)', 'Garlic', 'Gelatin (unflavored)', 'Ghee', 'Gin', 'Ginger', 'Glycerin', 'Glycerol', 'Gorgonzola cheese', 'Gouda cheese', 'Grape juice', 'Grapefruit', 'Grapes', 'Grapeseed oil', 'Green tea', 'Gruyere cheese', 'Ham', 'Haricot beans', 'Havarti cheese', 'Hazelnuts (filberts)', 'HN-Zyme', 'Homemade yogurt', 'Honey', 'Horseradish sauce', 'Jalapenos', 'Kale', 'Kidney beans', 'Kimchi', 'Kiwi fruit', 'Kumquats', 'L-Theanine', 'Lamb', 'Lecithin', 'Leek', 'Lemons', 'Lentils', 'Lettuce', 'Leucine', 'Lima beans', 'Limburger cheese', 'Limes', 'Macadamia nuts', 'Macadamia oil', 'Magnesium citrate', 'Magnesium Stearate', 'Manchego Cheese', 'Mangoes', 'Meats', 'Melon', 'Monterey Jack cheese', 'Muenster cheese', 'Mushrooms', 'Mustard (plain)', 'Natural cheeses', 'Navy beans', 'Nectarines', 'Nutmeg', 'Olive oil', 'Olives', 'Onions', 'Orange juice', 'Oranges', 'Oregano', 'Papayas', 'Paprika', 'Parmesan cheese', 'Parsley', 'Passion Fruit', 'Peaches', 'Peanut butter', 'Peanut Oil', 'Peanuts', 'Pears', 'Peas', 'Pecans', 'Peppermint tea', 'Peppers', 'Peptizyde', 'Persimmons', 'Phosphatidylcholine', 'Pickles (dill)', 'Pine nuts', 'Pineapple', 'Pistachio nuts', 'Plums', 'Pork', 'Pork Rinds', 'Port du Salut cheese', 'Potassium Sorbate', 'Poultry', 'Provolone cheese', 'Prunes', 'Pumpkin', 'Raisins', 'Rhubarb', 'Romano cheese', 'Roquefort cheese', 'Rosemary', 'Rutabaga', 'Saccharine', 'Safflower oil', 'Sage', 'Salt', 'Sashimi', 'saukerkraut', 'Seeds', 'Sesame oil', 'Sharifa', 'Shellfish', 'Silica', 'Silicon Dioxide', 'Sodium Benzoate', 'Soy Lecithin', 'Spearmint Tea', 'Spices', 'Spinach', 'Split peas', 'Squash', 'Stilton cheese', 'String beans', 'Sulphites', 'Sunflower oil', 'Swede', 'Swiss cheese', 'Tangerines', 'Tarragon', 'Tea', 'Thyme', 'tomato', 'Tomato juice (canned)', 'Vanillin', 'Vegetable stearate', 'Vinegar', 'Vodka', 'Walnut oil', 'Walnuts', 'Wasabi', 'Watercress', 'Watermelon', 'whisky', 'Wine', 'Yoghurt (homemade)', 'Zucchini']"
      ]
     },
     "execution_count": 27,
     "metadata": {},
     "output_type": "execute_result"
    }
   ],
   "source": [
    "\n",
    "mask_series = (btvc_legalillegal_df.legal_illegal == 'Legal')\n",
    "btvc_legalillegal_df[mask_series]['item_name'].tolist()"
   ]
  },
  {
   "cell_type": "code",
   "execution_count": null,
   "metadata": {},
   "outputs": [],
   "source": []
  }
 ],
 "metadata": {
  "kernelspec": {
   "display_name": "Python 3",
   "language": "python",
   "name": "python3"
  },
  "language_info": {
   "codemirror_mode": {
    "name": "ipython",
    "version": 3
   },
   "file_extension": ".py",
   "mimetype": "text/x-python",
   "name": "python",
   "nbconvert_exporter": "python",
   "pygments_lexer": "ipython3",
   "version": "3.6.8"
  }
 },
 "nbformat": 4,
 "nbformat_minor": 2
}
