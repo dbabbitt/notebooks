{
 "cells": [
  {
   "cell_type": "code",
   "execution_count": null,
   "metadata": {},
   "outputs": [],
   "source": []
  },
  {
   "cell_type": "code",
   "execution_count": null,
   "metadata": {},
   "outputs": [
    {
     "name": "stdout",
     "output_type": "stream",
     "text": [
      "C:\\\\OSGeo4W64\\apps\\msys\\bin\\wc.exe\n",
      "C:\\\\Program Files\\Git\\usr\\bin\\wc.exe\n",
      "C:\\\\Program Files (x86)\\Gow\\bin\\wc.exe\n",
      "C:\\\\Program Files (x86)\\Microsoft Visual Studio\\2017\\Community\\Common7\\IDE\\CommonExtensions\\Microsoft\\TeamFoundation\\Team Explorer\\Git\\usr\\bin\\wc.exe\n",
      "C:\\\\Program Files (x86)\\Microsoft Visual Studio\\2019\\Community\\Common7\\IDE\\CommonExtensions\\Microsoft\\TeamFoundation\\Team Explorer\\Git\\usr\\bin\\wc.exe\n",
      "C:\\\\rtools40\\usr\\bin\\wc.exe\n",
      "C:\\\\Users\\dev\\AppData\\Local\\GitHubDesktop\\app-2.6.1\\resources\\app\\git\\usr\\bin\\wc.exe\n",
      "C:\\\\Users\\dev\\AppData\\Local\\GitHubDesktop\\app-2.6.2\\resources\\app\\git\\usr\\bin\\wc.exe\n",
      "C:\\\\Users\\dev\\AppData\\Local\\SquirrelTemp\\tempb\\lib\\net45\\resources\\app\\git\\usr\\bin\\wc.exe\n",
      "C:\\\\Users\\dev\\AppData\\Local\\SquirrelTemp\\tempd\\lib\\net45\\resources\\app\\git\\usr\\bin\\wc.exe\n"
     ]
    }
   ],
   "source": [
    "\n",
    "import os\n",
    "\n",
    "exe_list = ['wc', 'gvpr']\n",
    "for sub_directory, directories_list, files_list in os.walk(r'C:\\\\'):\n",
    "    for file_name in files_list:\n",
    "        if any(map(lambda x: file_name == f'{x}.exe', exe_list)):\n",
    "            file_path = os.path.join(sub_directory, file_name)\n",
    "            print(f'{file_path}')"
   ]
  },
  {
   "cell_type": "code",
   "execution_count": null,
   "metadata": {},
   "outputs": [],
   "source": [
    "\n",
    "%run ../load_magic/storage.py\n",
    "%run ../load_magic/dataframes.py\n",
    "%run ../load_magic/paths.py\n",
    "%run ../load_magic/lists.py\n",
    "%run ../load_magic/environment.py\n",
    "%pprint\n",
    "notebook_path = get_notebook_path()\n",
    "print(notebook_path)\n",
    "s = Storage()\n",
    "print(['s.{}'.format(fn) for fn in dir(s) if not fn.startswith('_')])\n",
    "[fn for fn in dir() if not fn.startswith('_')]"
   ]
  },
  {
   "cell_type": "code",
   "execution_count": null,
   "metadata": {},
   "outputs": [],
   "source": []
  }
 ],
 "metadata": {
  "kernelspec": {
   "display_name": "Python 3",
   "language": "python",
   "name": "python3"
  },
  "language_info": {
   "codemirror_mode": {
    "name": "ipython",
    "version": 3
   },
   "file_extension": ".py",
   "mimetype": "text/x-python",
   "name": "python",
   "nbconvert_exporter": "python",
   "pygments_lexer": "ipython3",
   "version": "3.7.9"
  }
 },
 "nbformat": 4,
 "nbformat_minor": 4
}
