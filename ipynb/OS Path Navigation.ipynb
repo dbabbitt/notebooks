{
 "cells": [
  {
   "cell_type": "raw",
   "metadata": {},
   "source": [
    "\n",
    "PS C:\\Users\\daveb> flake8-nb --notebook-cell-format 'In[{code_cell_count}]' --ignore=E231,E303,E401,E402,E501,E701,E702 \"C:\\Users\\daveb\\OneDrive\\Documents\\GitHub\\notebooks\\ipynb\\OS Path Navigation.ipynb\"\n",
    "PS C:\\Users\\daveb>"
   ]
  },
  {
   "cell_type": "code",
   "execution_count": 1,
   "metadata": {},
   "outputs": [
    {
     "name": "stdout",
     "output_type": "stream",
     "text": [
      "Pretty printing has been turned OFF\n"
     ]
    }
   ],
   "source": [
    "\n",
    "%pprint\n",
    "%matplotlib inline\n",
    "import sys\n",
    "import os.path as osp, os as os\n",
    "\n",
    "executable_path = sys.executable\n",
    "scripts_folder = osp.join(osp.dirname(executable_path), 'Scripts'); assert osp.exists(scripts_folder)\n",
    "py_folder = osp.abspath(osp.join(os.pardir, 'py')); assert osp.exists(py_folder), \"Create the py folder\"\n",
    "ffmpeg_folder = r'C:\\ffmpeg\\bin'; assert osp.exists(ffmpeg_folder)\n",
    "shared_folder = osp.abspath(osp.join(os.pardir, 'share')); assert osp.exists(shared_folder)\n",
    "\n",
    "if (scripts_folder not in sys.path): sys.path.insert(1, scripts_folder)\n",
    "if (py_folder not in sys.path): sys.path.insert(1, py_folder)\n",
    "if (ffmpeg_folder not in sys.path): sys.path.insert(1, ffmpeg_folder)\n",
    "if shared_folder not in sys.path: sys.path.insert(1, shared_folder)\n",
    "\n",
    "from notebook_utils import NotebookUtilities\n",
    "nu = NotebookUtilities(\n",
    "    data_folder_path=osp.abspath(osp.join(os.pardir, 'data')),\n",
    "    saves_folder_path=osp.abspath(osp.join(os.pardir, 'saves'))\n",
    ")\n",
    "\n",
    "# Import needed libraries\n",
    "import re\n",
    "import pandas as pd\n",
    "import pyperclip\n",
    "import ipywidgets as widgets\n",
    "from IPython.display import display\n",
    "import inspect"
   ]
  },
  {
   "cell_type": "code",
   "execution_count": null,
   "metadata": {},
   "outputs": [],
   "source": [
    "\n",
    "import glob\n",
    "\n",
    "# Use the glob function with a recursive pattern to gather all the notebook_utils.py files\n",
    "# in all the \"share\" folders in all the repo directories in the grandparent directory\n",
    "file_paths = []\n",
    "for file_path in [osp.abspath(f) for f in glob.glob('../../*/share/notebook_utils.py', recursive=True)]:\n",
    "    print(file_path)\n",
    "    # os.remove(file_path)"
   ]
  },
  {
   "cell_type": "code",
   "execution_count": 12,
   "metadata": {},
   "outputs": [
    {
     "name": "stdout",
     "output_type": "stream",
     "text": [
      "['osp.relpath']\n"
     ]
    }
   ],
   "source": [
    "\n",
    "print([f'osp.{fn}' for fn in dir(osp) if 'rel' in fn])"
   ]
  },
  {
   "cell_type": "code",
   "execution_count": 33,
   "metadata": {},
   "outputs": [
    {
     "name": "stdout",
     "output_type": "stream",
     "text": [
      "['os._get_exports_list', 'os.listdir']\n"
     ]
    }
   ],
   "source": [
    "\n",
    "print([f'os.{fn}' for fn in dir(os) if 'list' in fn])"
   ]
  },
  {
   "cell_type": "code",
   "execution_count": 35,
   "metadata": {},
   "outputs": [
    {
     "name": "stdout",
     "output_type": "stream",
     "text": [
      "C:\\Users\\daveb\\OneDrive\\Documents\\GitHub\\covid19\\ipynb\\OS Path Navigation.ipynb\n",
      "C:\\Users\\daveb\\OneDrive\\Documents\\GitHub\\itm-analysis-reporting-1\\ipynb\\OS Path Navigation.ipynb\n",
      "C:\\Users\\daveb\\OneDrive\\Documents\\GitHub\\job-hunting\\ipynb\\OS Path Navigation.ipynb\n",
      "C:\\Users\\daveb\\OneDrive\\Documents\\GitHub\\mimetic_tribes\\ipynb\\OS Path Navigation.ipynb\n",
      "C:\\Users\\daveb\\OneDrive\\Documents\\GitHub\\notebooks\\ipynb\\OS Path Navigation.ipynb\n",
      "C:\\Users\\daveb\\OneDrive\\Documents\\GitHub\\rpc\\ipynb\\OS Path Navigation.ipynb\n",
      "C:\\Users\\daveb\\OneDrive\\Documents\\GitHub\\StatsByCountry\\ipynb\\OS Path Navigation.ipynb\n",
      "C:\\Users\\daveb\\OneDrive\\Documents\\GitHub\\StatsByUSState\\ipynb\\OS Path Navigation.ipynb\n",
      "C:\\Users\\daveb\\OneDrive\\Documents\\GitHub\\Strauss-Howe\\ipynb\\OS Path Navigation.ipynb\n",
      "C:\\Users\\daveb\\OneDrive\\Documents\\GitHub\\transcriptions-notebook\\ipynb\\OS Path Navigation.ipynb\n"
     ]
    }
   ],
   "source": [
    "\n",
    "# Find all the OS Path Navigation notebook files in the ipynb folders of my repos\n",
    "pushables_list = nu.load_object('pushables_list')\n",
    "ipynb_paths = [osp.join(file_path, 'ipynb') for file_path in pushables_list]\n",
    "file_name = 'OS Path Navigation.ipynb'\n",
    "file_paths_list = []\n",
    "for parent_directory in ipynb_paths:\n",
    "    if osp.isdir(parent_directory):\n",
    "        for old_file_name in os.listdir(parent_directory):\n",
    "            if old_file_name == file_name:\n",
    "                old_file_path = os.path.join(parent_directory, old_file_name)\n",
    "                file_paths_list.append(old_file_path)\n",
    "for file_path in file_paths_list:\n",
    "    print(file_path)"
   ]
  },
  {
   "cell_type": "code",
   "execution_count": 27,
   "metadata": {},
   "outputs": [
    {
     "name": "stdout",
     "output_type": "stream",
     "text": [
      "['os._fspath', 'os.defpath', 'os.fspath', 'os.path', 'os.pathsep']\n",
      "[]\n",
      "C:\\Users\\daveb\\OneDrive\\Documents\\GitHub\n",
      "C:\\Users\\daveb\\OneDrive\\Documents\\GitHub\n",
      "C:\\Users\\daveb\\OneDrive\\Documents\\GitHub\n",
      "C:\\Users\\daveb\\OneDrive\\Documents\\GitHub\n"
     ]
    }
   ],
   "source": [
    "\n",
    "# Get the repositories directory by various means, with increasing conciseness\n",
    "print([f'os.{fn}' for fn in dir(os) if ('path' in fn) and (len(f'os.{fn}') < len('osp.abspath'))])\n",
    "print([f'osp.{fn}' for fn in dir(osp) if ('path' in fn) and (len(f'osp.{fn}') < len('osp.abspath'))])\n",
    "print(osp.abspath(osp.join(os.curdir, os.pardir, os.pardir)))\n",
    "print(osp.abspath(osp.join(nu.github_folder, os.pardir)))\n",
    "print(osp.dirname(osp.dirname(osp.abspath(os.curdir))))\n",
    "print(osp.dirname(nu.github_folder))"
   ]
  },
  {
   "cell_type": "code",
   "execution_count": 15,
   "metadata": {},
   "outputs": [],
   "source": [
    "\n",
    "# Find all the notebook files with the word \"color\" in their name\n",
    "black_list = ['.ipynb_checkpoints', '$Recycle.Bin']\n",
    "folder_path = '../../color/ipynb'\n",
    "ascii_regex = re.compile(r'[^A-Za-z0-9]+')\n",
    "file_ending = '.ipynb'\n",
    "file_paths_list = []\n",
    "for root_dir in ['C:\\\\', 'D:\\\\']:\n",
    "    for parent_directory, child_directories, files_list in os.walk(root_dir):\n",
    "        if all(map(lambda x: x not in parent_directory, black_list)):\n",
    "            for old_file_name in files_list:\n",
    "                if old_file_name.endswith(file_ending) and ('color' in old_file_name.lower()):\n",
    "                    old_file_path = os.path.join(parent_directory, old_file_name)\n",
    "                    file_paths_list.append(old_file_path)"
   ]
  },
  {
   "cell_type": "code",
   "execution_count": 24,
   "metadata": {},
   "outputs": [],
   "source": [
    "\n",
    "# Copy all the notebook files with the word \"color\" in their name to the color repo\n",
    "import shutil\n",
    "\n",
    "for old_file_path in file_paths_list:\n",
    "    new_file_name = ascii_regex.sub('_', osp.relpath(old_file_path, osp.abspath(folder_path)).replace(file_ending, '').lstrip('.\\\\')) + file_ending\n",
    "    new_file_path = osp.abspath(osp.join(folder_path, new_file_name))\n",
    "    shutil.copy(old_file_path, new_file_path)"
   ]
  },
  {
   "cell_type": "code",
   "execution_count": null,
   "metadata": {},
   "outputs": [],
   "source": []
  },
  {
   "cell_type": "code",
   "execution_count": 9,
   "metadata": {},
   "outputs": [
    {
     "name": "stdout",
     "output_type": "stream",
     "text": [
      "\n",
      "# Exclude everything except text-based OC or personal directories\n",
      "/*\n",
      "!/algorithms\n",
      "!/builders\n",
      "!/cell_techniques\n",
      "!/coin-analytics\n",
      "!/curve_fitting\n",
      "!/ipynb\n",
      "!/json\n",
      "!/library_exploration\n",
      "!/load_magic\n",
      "!/log\n",
      "!/maintenance\n",
      "!/mathematics\n",
      "!/programming_languages\n",
      "!/ps1\n",
      "!/py\n",
      "!/r_programming_language\n",
      "!/statistics\n",
      "!/tests\n",
      "!/text_manipulation\n",
      "!/visualizations\n",
      "!/wheels\n"
     ]
    }
   ],
   "source": [
    "\n",
    "print_strs_list = ['']\n",
    "print_strs_list.append('# Exclude everything except text-based OC or personal directories')\n",
    "print_strs_list.append('/*')\n",
    "github_folder = osp.dirname(osp.abspath(osp.curdir))\n",
    "# print(github_folder)\n",
    "\n",
    "# Get the list of all items in the parent folder and filter in only the directories\n",
    "black_list = ['.ipynb_checkpoints', '$Recycle.Bin', '.git', 'data', 'saves', '__pycache__', 'LEET-CODE']\n",
    "for parent_directory in os.listdir(github_folder):\n",
    "    if all(map(lambda x: x not in parent_directory, black_list)) and osp.isdir(osp.join(github_folder, parent_directory)):\n",
    "        print_strs_list.append(f'!/{parent_directory}')\n",
    "print('\\n'.join(print_strs_list))"
   ]
  },
  {
   "cell_type": "code",
   "execution_count": null,
   "metadata": {},
   "outputs": [],
   "source": [
    "\n",
    "file_path = '../data/txt/resume.txt'\n",
    "nu.open_path_in_notepad(file_path)"
   ]
  },
  {
   "cell_type": "code",
   "execution_count": null,
   "metadata": {},
   "outputs": [],
   "source": [
    "\n",
    "black_list = ['.ipynb_checkpoints', '$Recycle.Bin']\n",
    "# walk_folder = osp.dirname(nu.github_folder)\n",
    "for parent_directory, child_directories, files_list in os.walk('C:\\\\'):\n",
    "    if all(map(lambda x: x not in parent_directory, black_list)):\n",
    "        for file_name in files_list:\n",
    "            if ('hair' in file_name):\n",
    "                file_path = osp.join(parent_directory, file_name)\n",
    "                print(file_path)"
   ]
  },
  {
   "cell_type": "code",
   "execution_count": 4,
   "metadata": {},
   "outputs": [
    {
     "name": "stdout",
     "output_type": "stream",
     "text": [
      "C:\\Users\\daveb\\OneDrive\\Documents\\Babbitt Stuff\\Jay_s Junk\\Jay-Babbitt_Resume.docx\n",
      "C:\\Users\\daveb\\OneDrive\\Documents\\Google Drive\\Other\\Job Hunting\\Dave_Babbitt_Resume (1).docx\n",
      "C:\\Users\\daveb\\OneDrive\\Documents\\Google Drive\\Other\\Job Hunting\\Dave_Babbitt_Resume.docx\n",
      "C:\\Users\\daveb\\OneDrive\\Documents\\Google Drive\\Other\\Job Hunting\\Dave_Babbitt_Resume_Cold_Fusion_Developer.docx\n",
      "C:\\Users\\daveb\\OneDrive\\Documents\\Google Drive\\Other\\Job Hunting\\Dave_Babbitt_Resume_Delivery_Driver.docx\n",
      "C:\\Users\\daveb\\OneDrive\\Documents\\Google Drive\\Other\\Job Hunting\\Dave_Babbitt_Resume_Jr._Java_Developer.docx\n",
      "C:\\Users\\daveb\\OneDrive\\Documents\\Google Drive\\Other\\Job Hunting\\Dave_Babbitt_Resume_Predictive_Analyst.docx\n",
      "C:\\Users\\daveb\\OneDrive\\Documents\\Google Drive\\Other\\Job Hunting\\Dave_Babbitt_Resume_QA_Tester.docx\n",
      "C:\\Users\\daveb\\OneDrive\\Documents\\Google Drive\\Other\\Job Hunting\\Dave_Babbitt_Resume_Reactor_Operator.docx\n",
      "C:\\Users\\daveb\\OneDrive\\Documents\\Google Drive\\Other\\Job Hunting\\Dave_Babbitt_Resume_Research_Analyst.docx\n",
      "C:\\Users\\daveb\\OneDrive\\Documents\\Google Drive\\School\\Predictive Analytics\\Dave_Babbitt_Resume.docx\n",
      "C:\\Users\\daveb\\OneDrive\\Documents\\Google Drive\\Work\\Job Hunting\\Dave_Babbitt_Resume_Predictive_Analyst.docx\n",
      "C:\\Users\\daveb\\OneDrive\\Documents\\Google Drive\\Work\\Job Hunting\\Dave_Babbitt_Resume_Web_Developer.docx\n",
      "C:\\Users\\daveb\\OneDrive\\Documents\\Job Hunting\\Old Resumes\\Dave Babbitt - Tailored Resume for CVS Health Senior Data Scientist Position.docx\n",
      "C:\\Users\\daveb\\OneDrive\\Documents\\Job Hunting\\Old Resumes\\Dave_Babbitt_Resume_Associate_Operations_Research_Engineer.docx\n",
      "C:\\Users\\daveb\\OneDrive\\Documents\\Job Hunting\\Old Resumes\\Dave_Babbitt_Resume_Data_Scientist.docx\n",
      "C:\\Users\\daveb\\OneDrive\\Documents\\Job Hunting\\Old Resumes\\Dave_Babbitt_Resume_Data_Scientist_or_Sr._Data Scientist.docx\n",
      "C:\\Users\\daveb\\OneDrive\\Documents\\Job Hunting\\Old Resumes\\Dave_Babbitt_Resume_Jr_Data_Scientist.docx\n",
      "C:\\Users\\daveb\\OneDrive\\Documents\\Job Hunting\\Old Resumes\\Dave_Babbitt_Resume_Machine_Learning_Engineer.docx\n",
      "C:\\Users\\daveb\\OneDrive\\Documents\\Job Hunting\\Old Resumes\\Dave_Babbitt_Resume_Predictive_Analyst.docx\n",
      "C:\\Users\\daveb\\OneDrive\\Documents\\Job Hunting\\Old Resumes\\hha_resume.docx\n",
      "C:\\Users\\daveb\\OneDrive\\Documents\\Job Hunting\\Old Resumes\\hha_resume.html.docx\n",
      "C:\\Users\\daveb\\OneDrive\\Documents\\Job Hunting\\Old Resumes\\Machine Learning Resume.docx\n",
      "C:\\Users\\daveb\\OneDrive\\Documents\\Job Hunting\\Old Resumes\\resume_header.docx\n"
     ]
    }
   ],
   "source": [
    "\n",
    "for parent_directory, child_directories, files_list in os.walk('C:\\\\'):\n",
    "    for file_name in files_list:\n",
    "        if file_name.endswith('.docx') and ('resume' in file_name.lower()):\n",
    "            file_path = osp.join(parent_directory, file_name)\n",
    "            if osp.isfile(file_path):\n",
    "                print(f'{file_path}')"
   ]
  },
  {
   "cell_type": "code",
   "execution_count": 7,
   "metadata": {},
   "outputs": [
    {
     "name": "stdout",
     "output_type": "stream",
     "text": [
      "D:\\\\Geek Squad Data Backup\\HDD\\Documents\\GitHub\\notebooks_old\\political_triangle\\svg\\nick_land_comments.svg\n",
      "D:\\\\Geek Squad Data Backup\\HDD\\Documents\\GitHub\\notebooks_old\\political_triangle\\svg\\nick_land_comments_copy.svg\n",
      "D:\\\\Geek Squad Data Backup\\HDD\\Documents\\GitHub\\notebooks_old\\political_triangle\\svg\\nick_land_comments_optimized.svg\n",
      "D:\\\\Geek Squad Data Backup\\HDD\\Documents\\GitHub\\notebooks_old\\political_triangle\\svg\\nick_land_comments_plain.svg\n",
      "D:\\\\Geek Squad Data Backup\\HDD\\Documents\\GitHub\\notebooks_old\\political_triangle\\svg\\.ipynb_checkpoints\\nick_land_comments_optimized-checkpoint.svg\n"
     ]
    }
   ],
   "source": [
    "\n",
    "import os\n",
    "\n",
    "for parent_directory, child_directories, files_list in os.walk(r'D:\\\\'):\n",
    "    for file_name in files_list:\n",
    "        if file_name.endswith('.svg'):\n",
    "            file_path = osp.join(parent_directory, file_name)\n",
    "            if osp.isfile(file_path):\n",
    "                with open(file_path, 'r', errors='ignore') as file:\n",
    "                    data = file.read()\n",
    "                    if 'Retarded' in data:\n",
    "                        print(f'{file_path}')"
   ]
  },
  {
   "cell_type": "code",
   "execution_count": null,
   "metadata": {},
   "outputs": [],
   "source": []
  },
  {
   "cell_type": "code",
   "execution_count": null,
   "metadata": {},
   "outputs": [],
   "source": []
  }
 ],
 "metadata": {
  "kernelspec": {
   "display_name": "Python 3 (ipykernel)",
   "language": "python",
   "name": "python3"
  },
  "language_info": {
   "codemirror_mode": {
    "name": "ipython",
    "version": 3
   },
   "file_extension": ".py",
   "mimetype": "text/x-python",
   "name": "python",
   "nbconvert_exporter": "python",
   "pygments_lexer": "ipython3",
   "version": "3.12.7"
  }
 },
 "nbformat": 4,
 "nbformat_minor": 4
}
