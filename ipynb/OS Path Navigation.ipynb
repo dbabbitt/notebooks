{
 "cells": [
  {
   "cell_type": "raw",
   "metadata": {},
   "source": [
    "\n",
    "PS C:\\Users\\daveb> flake8-nb --notebook-cell-format 'In[{code_cell_count}]' --ignore=E231,E303,E401,E402,E501,E701,E702 \"C:\\Users\\daveb\\OneDrive\\Documents\\GitHub\\notebooks\\ipynb\\OS Path Navigation.ipynb\"\n",
    "PS C:\\Users\\daveb>"
   ]
  },
  {
   "cell_type": "code",
   "execution_count": 1,
   "metadata": {},
   "outputs": [
    {
     "name": "stdout",
     "output_type": "stream",
     "text": [
      "Pretty printing has been turned OFF\n"
     ]
    }
   ],
   "source": [
    "\n",
    "# Set up notebook\n",
    "%pprint\n",
    "%matplotlib inline\n",
    "import sys\n",
    "import os.path as osp, os as os\n",
    "\n",
    "executable_path = sys.executable\n",
    "scripts_folder = osp.join(osp.dirname(executable_path), 'Scripts'); assert osp.exists(scripts_folder)\n",
    "py_folder = osp.abspath(osp.join(os.pardir, 'py')); assert osp.exists(py_folder), \"Create the py folder\"\n",
    "ffmpeg_folder = r'C:\\ffmpeg\\bin'; assert osp.exists(ffmpeg_folder)\n",
    "shared_folder = osp.abspath(osp.join(os.pardir, 'share')); assert osp.exists(shared_folder)\n",
    "\n",
    "if (scripts_folder not in sys.path): sys.path.insert(1, scripts_folder)\n",
    "if (py_folder not in sys.path): sys.path.insert(1, py_folder)\n",
    "if (ffmpeg_folder not in sys.path): sys.path.insert(1, ffmpeg_folder)\n",
    "if shared_folder not in sys.path: sys.path.insert(1, shared_folder)\n",
    "\n",
    "from notebook_utils import NotebookUtilities\n",
    "nu = NotebookUtilities(\n",
    "    data_folder_path=osp.abspath(osp.join(os.pardir, 'data')),\n",
    "    saves_folder_path=osp.abspath(osp.join(os.pardir, 'saves'))\n",
    ")\n",
    "\n",
    "# Import needed libraries\n",
    "import re\n",
    "import pandas as pd\n",
    "import pyperclip\n",
    "import ipywidgets as widgets\n",
    "from IPython.display import display\n",
    "import inspect"
   ]
  },
  {
   "cell_type": "code",
   "execution_count": 4,
   "metadata": {},
   "outputs": [
    {
     "data": {
      "text/plain": [
       "['nu.encode', 'nu.encoding_error', 'nu.encoding_errors_list', 'nu.encoding_type', 'nu.encoding_types_list', 'nu.one_hot_encode']"
      ]
     },
     "execution_count": 4,
     "metadata": {},
     "output_type": "execute_result"
    }
   ],
   "source": [
    "\n",
    "[f'nu.{fn}' for fn in dir(nu) if 'encod' in fn]"
   ]
  },
  {
   "cell_type": "code",
   "execution_count": 21,
   "metadata": {},
   "outputs": [
    {
     "name": "stdout",
     "output_type": "stream",
     "text": [
      "['__future__', '__hello__', '__phello__', '_abc', '_aix_support', '_ast', '_bisect', '_blake2', '_codecs', '_codecs_cn', '_codecs_hk', '_codecs_iso2022', '_codecs_jp', '_codecs_kr', '_codecs_tw', '_collections', '_collections_abc', '_compat_pickle', '_compression', '_contextvars', '_csv', '_datetime', '_functools', '_heapq', '_imp', '_io', '_json', '_locale', '_lsprof', '_markupbase', '_md5', '_multibytecodec', '_nsis', '_opcode', '_operator', '_osx_support', '_pickle', '_py_abc', '_pydatetime', '_pydecimal', '_pyio', '_pylong', '_random', '_sha1', '_sha2', '_sha3', '_signal', '_sitebuiltins', '_sre', '_stat', '_statistics', '_string', '_strptime', '_struct', '_symtable', '_system_path', '_thread', '_threading_local', '_tokenize', '_tracemalloc', '_typing', '_warnings', '_weakref', '_weakrefset', '_winapi', '_xxinterpchannels', '_xxsubinterpreters', 'abc', 'aifc', 'antigravity', 'argparse', 'array', 'ast', 'asyncio', 'atexit', 'audioop', 'base64', 'bdb', 'binascii', 'bisect', 'builtins', 'bz2', 'cProfile', 'calendar', 'cgi', 'cgitb', 'chunk', 'cmath', 'cmd', 'code', 'codecs', 'codeop', 'collections', 'colorsys', 'compileall', 'concurrent', 'configparser', 'contextlib', 'contextvars', 'copy', 'copyreg', 'crypt', 'csv', 'ctypes', 'curses', 'dataclasses', 'datetime', 'dbm', 'decimal', 'difflib', 'dis', 'doctest', 'email', 'encodings', 'ensurepip', 'enum', 'errno', 'faulthandler', 'filecmp', 'fileinput', 'fnmatch', 'fractions', 'ftplib', 'functools', 'gc', 'genericpath', 'getopt', 'getpass', 'gettext', 'glob', 'graphlib', 'gzip', 'hashlib', 'heapq', 'hmac', 'html', 'http', 'idlelib', 'imaplib', 'imghdr', 'importlib', 'inspect', 'io', 'ipaddress', 'itertools', 'json', 'keyword', 'lib2to3', 'linecache', 'locale', 'logging', 'lzma', 'mailbox', 'mailcap', 'marshal', 'math', 'mimetypes', 'mmap', 'modulefinder', 'msilib', 'msvcrt', 'multiprocessing', 'netrc', 'nntplib', 'nt', 'ntpath', 'nturl2path', 'numbers', 'opcode', 'operator', 'optparse', 'os', 'pathlib', 'pdb', 'pickle', 'pickletools', 'pipes', 'pkgutil', 'platform', 'plistlib', 'poplib', 'posixpath', 'pprint', 'profile', 'pstats', 'pty', 'py_compile', 'pyclbr', 'pydoc', 'pydoc_data', 'queue', 'quopri', 'random', 're', 'reprlib', 'rlcompleter', 'runpy', 'sched', 'secrets', 'selectors', 'shelve', 'shlex', 'shutil', 'signal', 'site', 'smtplib', 'sndhdr', 'socket', 'socketserver', 'sqlite3', 'sre_compile', 'sre_constants', 'sre_parse', 'ssl', 'stat', 'statistics', 'string', 'stringprep', 'struct', 'subprocess', 'sunau', 'symtable', 'sys', 'sysconfig', 'tabnanny', 'tarfile', 'telnetlib', 'tempfile', 'test', 'textwrap', 'this', 'threading', 'time', 'timeit', 'tkinter', 'token', 'tokenize', 'tomllib', 'trace', 'traceback', 'tracemalloc', 'tty', 'turtle', 'turtledemo', 'types', 'typing', 'unittest', 'urllib', 'uu', 'uuid', 'venv', 'warnings', 'wave', 'weakref', 'webbrowser', 'winreg', 'wsgiref', 'xdrlib', 'xml', 'xmlrpc', 'xxsubtype', 'zipapp', 'zipfile', 'zipimport', 'zlib', 'zoneinfo']\n"
     ]
    }
   ],
   "source": [
    "\n",
    "import pkgutil\n",
    "\n",
    "# Get built-in module names\n",
    "built_in_modules = set(sys.builtin_module_names)\n",
    "\n",
    "# Get pure Python modules from the standard library\n",
    "std_lib_path = os.path.dirname(os.__file__)\n",
    "std_lib_modules = set([\n",
    "    module_info.name\n",
    "    for module_info in pkgutil.iter_modules([std_lib_path])\n",
    "])\n",
    "\n",
    "# Combine both lists\n",
    "standard_library_modules = built_in_modules | std_lib_modules\n",
    "\n",
    "# Sort the list for easier reading\n",
    "standard_library_modules = sorted(standard_library_modules)\n",
    "\n",
    "print(standard_library_modules)"
   ]
  },
  {
   "cell_type": "code",
   "execution_count": 19,
   "metadata": {},
   "outputs": [
    {
     "name": "stdout",
     "output_type": "stream",
     "text": [
      "\n",
      "File: C:\\Users\\daveb\\OneDrive\\Documents\\GitHub\\notebooks\\share\\base_config.py\n",
      "Imports only in ast: set()\n",
      "Imports only in regex: set()\n",
      "\n",
      "File: C:\\Users\\daveb\\OneDrive\\Documents\\GitHub\\notebooks\\share\\data_analysis.py\n",
      "Imports only in ast: set()\n",
      "Imports only in regex: set()\n",
      "\n",
      "File: C:\\Users\\daveb\\OneDrive\\Documents\\GitHub\\notebooks\\share\\data_preparation.py\n",
      "Imports only in ast: set()\n",
      "Imports only in regex: {'from notebook_utils import NotebookUtilities'}\n",
      "\n",
      "File: C:\\Users\\daveb\\OneDrive\\Documents\\GitHub\\notebooks\\share\\data_validation.py\n",
      "Imports only in ast: set()\n",
      "Imports only in regex: set()\n",
      "\n",
      "File: C:\\Users\\daveb\\OneDrive\\Documents\\GitHub\\notebooks\\share\\file_operations.py\n",
      "Imports only in ast: set()\n",
      "Imports only in regex: set()\n",
      "\n",
      "File: C:\\Users\\daveb\\OneDrive\\Documents\\GitHub\\notebooks\\share\\notebook_utils.py\n",
      "Imports only in ast: set()\n",
      "Imports only in regex: {'from notebook_utils import NotebookUtilities', 'import sys', 'import os.path as osp, os as os'}\n",
      "\n",
      "File: C:\\Users\\daveb\\OneDrive\\Documents\\GitHub\\notebooks\\share\\notebook_utils_old.py\n",
      "Imports only in ast: set()\n",
      "Imports only in regex: {'from notebook_utils import NotebookUtilities', 'import os.path as osp, os as os'}\n",
      "\n",
      "File: C:\\Users\\daveb\\OneDrive\\Documents\\GitHub\\notebooks\\share\\uncategorized.py\n",
      "Imports only in ast: set()\n",
      "Imports only in regex: set()\n"
     ]
    }
   ],
   "source": [
    "\n",
    "import ast\n",
    "import re\n",
    "\n",
    "IMPORTS_REGEX = re.compile(r\"^\\s*(?:import\\s+[\\w.]+(?:\\s+as\\s+\\w+)?(?:\\s*,\\s*[\\w.]+(?:\\s+as\\s+\\w+)?)*|from\\s+[\\w.]+\\s+import\\s+(?:[\\w.]+(?:\\s+as\\s+\\w+)?(?:\\s*,\\s*[\\w.]+(?:\\s+as\\s+\\w+)?)*|\\(\\s*[\\w.]+(?:\\s+as\\s+\\w+)?(?:\\s*,\\s*[\\w.]+(?:\\s+as\\s+\\w+)?)*,?\\s*\\)))\", re.MULTILINE)\n",
    "def find_imports_in_file(filepath):\n",
    "    \"\"\"Parses a Python file with the AST module and regex to find all import statements.\"\"\"\n",
    "    with open(filepath, \"r\", encoding=nu.encoding_type) as f:\n",
    "        file_content = f.read()\n",
    "\n",
    "    # Get imports from regex\n",
    "    regex_imports = []\n",
    "    for regex_str in IMPORTS_REGEX.findall(file_content):\n",
    "        parens_list = re.split(\"[)(]\", regex_str.strip(), 0)\n",
    "        if len(parens_list) > 1:\n",
    "            prefix = parens_list[0].strip()\n",
    "            commas_list = [s.strip() for s in re.split(r\"\\s*,\\s*\", parens_list[1].strip(), 0) if s.strip()]\n",
    "            for comma_str in commas_list:\n",
    "                regex_imports.append(prefix + ' ' + comma_str)\n",
    "        elif len(parens_list) == 1:\n",
    "            imports_list = [s.strip() for s in re.split(r\"(from\\s+[\\w.]+\\s+import)\\s+\", parens_list[0].strip(), 0) if s.strip()]\n",
    "            if len(imports_list) > 1:\n",
    "                prefix = imports_list[0]\n",
    "                commas_list = [s.strip() for s in re.split(r\"\\s*,\\s*\", imports_list[1], 0) if s.strip()]\n",
    "                for comma_str in commas_list:\n",
    "                    regex_imports.append(prefix + ' ' + comma_str)\n",
    "            elif len(imports_list) == 1:\n",
    "                regex_imports.append(imports_list[0].strip())\n",
    "\n",
    "    # Get imports from ast\n",
    "    ast_imports = []\n",
    "    try:\n",
    "        root = ast.parse(file_content, filename=filepath)\n",
    "    \n",
    "    # If there's a syntax error in the file, return ast_imports as empty\n",
    "    except SyntaxError:\n",
    "        return ast_imports, regex_imports\n",
    "\n",
    "    for node in ast.walk(root):\n",
    "        \n",
    "        # Collect statements like \"import math, sys\"\n",
    "        if isinstance(node, ast.Import):\n",
    "            for alias in node.names:\n",
    "                statement = f\"import {alias.name}\"\n",
    "                if alias.asname:\n",
    "                    statement += f\" as {alias.asname}\"\n",
    "                ast_imports.append(statement)\n",
    "        \n",
    "        # Collect statements like \"from x import y as z\"\n",
    "        elif isinstance(node, ast.ImportFrom):\n",
    "            for alias in node.names:\n",
    "                module = node.module if node.module else \"\"\n",
    "                statement = f\"from {module} import {alias.name}\"\n",
    "                if alias.asname:\n",
    "                    statement += f\" as {alias.asname}\"\n",
    "                ast_imports.append(statement)\n",
    "\n",
    "    return ast_imports, regex_imports\n",
    "\n",
    "def scan_all_imports_in_folder(folder):\n",
    "    \"\"\"Recursively scans all .py files in a folder for import statements.\"\"\"\n",
    "    ast_all_imports = {}\n",
    "    regex_all_imports = {}\n",
    "    for root, _, files in os.walk(folder):\n",
    "        for filename in files:\n",
    "            if filename.endswith(\".py\"):\n",
    "                filepath = osp.join(root, filename)\n",
    "                ast_file_imports, regex_file_imports = find_imports_in_file(filepath)\n",
    "                ast_all_imports[filepath] = ast_file_imports\n",
    "                regex_all_imports[filepath] = regex_file_imports\n",
    "    return ast_all_imports, regex_all_imports\n",
    "\n",
    "ast_results, regex_results = scan_all_imports_in_folder(shared_folder)\n",
    "filepaths = sorted(set(ast_results.keys()).union(set(regex_results.keys())))\n",
    "for filepath in filepaths:\n",
    "    print()\n",
    "    print(f\"File: {filepath}\")\n",
    "    ast_set = set(ast_results[filepath])\n",
    "    regex_set = set(regex_results[filepath])\n",
    "    print(f'Imports only in ast: {ast_set.difference(regex_set)}')\n",
    "    print(f'Imports only in regex: {regex_set.difference(ast_set)}')"
   ]
  },
  {
   "cell_type": "code",
   "execution_count": 4,
   "metadata": {},
   "outputs": [
    {
     "data": {
      "text/plain": [
       "['__and__', '__class__', '__class_getitem__', '__contains__', '__delattr__', '__dir__', '__doc__', '__eq__', '__format__', '__ge__', '__getattribute__', '__getstate__', '__gt__', '__hash__', '__iand__', '__init__', '__init_subclass__', '__ior__', '__isub__', '__iter__', '__ixor__', '__le__', '__len__', '__lt__', '__ne__', '__new__', '__or__', '__rand__', '__reduce__', '__reduce_ex__', '__repr__', '__ror__', '__rsub__', '__rxor__', '__setattr__', '__sizeof__', '__str__', '__sub__', '__subclasshook__', '__xor__', 'add', 'clear', 'copy', 'difference', 'difference_update', 'discard', 'intersection', 'intersection_update', 'isdisjoint', 'issubset', 'issuperset', 'pop', 'remove', 'symmetric_difference', 'symmetric_difference_update', 'union', 'update']"
      ]
     },
     "execution_count": 4,
     "metadata": {},
     "output_type": "execute_result"
    }
   ],
   "source": [
    "\n",
    "dir(set)"
   ]
  },
  {
   "cell_type": "code",
   "execution_count": 6,
   "metadata": {},
   "outputs": [
    {
     "data": {
      "text/plain": [
       "set()"
      ]
     },
     "execution_count": 6,
     "metadata": {},
     "output_type": "execute_result"
    }
   ],
   "source": [
    "\n",
    "set([f'nu.{fn}' for fn in dir(nu.uncategorized) if any(map(lambda x: x in fn, ['folder', 'dir']))]).difference(\n",
    "    set([f'nu.{fn}' for fn in dir(nu) if any(map(lambda x: x in fn, ['folder', 'dir']))])\n",
    ")"
   ]
  },
  {
   "cell_type": "code",
   "execution_count": 7,
   "metadata": {},
   "outputs": [
    {
     "data": {
      "text/plain": [
       "{'nu.list_dfs_in_folder', 'nu.delete_ipynb_checkpoint_folders', 'nu.get_dir_tree'}"
      ]
     },
     "execution_count": 7,
     "metadata": {},
     "output_type": "execute_result"
    }
   ],
   "source": [
    "\n",
    "set([f'nu.{fn}' for fn in dir(nu) if any(map(lambda x: x in fn, ['folder', 'dir']))]).difference(\n",
    "    set([f'nu.{fn}' for fn in dir(nu.uncategorized) if any(map(lambda x: x in fn, ['folder', 'dir']))])\n",
    ")"
   ]
  },
  {
   "cell_type": "code",
   "execution_count": 8,
   "metadata": {},
   "outputs": [
    {
     "data": {
      "text/plain": [
       "['__add__', '__class__', '__contains__', '__delattr__', '__dict__', '__dir__', '__doc__', '__eq__', '__format__', '__ge__', '__getattr__', '__getattribute__', '__getitem__', '__getnewargs__', '__getstate__', '__gt__', '__hash__', '__init__', '__init_subclass__', '__iter__', '__le__', '__len__', '__lt__', '__mod__', '__module__', '__mul__', '__ne__', '__new__', '__reduce__', '__reduce_ex__', '__repr__', '__rmod__', '__rmul__', '__setattr__', '__sizeof__', '__str__', '__subclasshook__', '__weakref__', 'add_staticmethod_decorations', 'anaconda_folder', 'apply_multilevel_numbering', 'attempt_to_pickle', 'bin_folder', 'cache_folder', 'capitalize', 'casefold', 'center', 'check_4_doubles', 'check_for_typos', 'color_distance_from', 'comment_regex', 'compute_similarity', 'conjunctify_nouns', 'convert_strings_to_integers', 'convert_to_data_frame', 'convert_to_df', 'count', 'count_ngrams', 'count_swaps_to_perfect_order', 'csv_exists', 'data_analysis', 'data_csv_folder', 'data_folder', 'data_models_folder', 'data_preparation', 'data_validation', 'db_folder', 'decoding_error', 'decoding_errors_list', 'decoding_type', 'decoding_types_list', 'delete_ipynb_checkpoint_folders', 'describe_procedure', 'download_file', 'encode', 'encoding_error', 'encoding_errors_list', 'encoding_type', 'encoding_types_list', 'endswith', 'ensure_module_installed', 'expandtabs', 'extract_comments', 'facebook_aspect_ratio', 'file_operations', 'filepath_regex', 'find', 'first_order_linear_scatterplot', 'float_to_ratio', 'format', 'format_map', 'format_timedelta', 'get_all_directories_containing', 'get_all_directories_named', 'get_alphabet', 'get_color_cycled_list', 'get_color_cycler', 'get_column_descriptions', 'get_coordinates', 'get_dir_tree', 'get_euclidean_distance', 'get_evaluations', 'get_filename_from_url', 'get_first_year_element', 'get_flattened_dictionary', 'get_function_file_path', 'get_function_in_its_class', 'get_git_lfs_track_commands', 'get_inf_nan_mask', 'get_jitter_list', 'get_library_names', 'get_minority_combinations', 'get_ndistinct_subsequences', 'get_nearest_neighbor', 'get_notebook_functions_dictionary', 'get_notebook_functions_set', 'get_numbered_text', 'get_numeric_columns', 'get_page_soup', 'get_page_tables', 'get_r_squared_value_latex', 'get_random_function', 'get_random_py_file', 'get_random_subdictionary', 'get_regexed_columns', 'get_regexed_dataframe', 'get_relative_position', 'get_sequences_by_count', 'get_shape', 'get_spearman_rho_value_latex', 'get_specific_gitignore_files', 'get_statistics', 'get_style_column', 'get_td_parent', 'get_text_color', 'get_top_level_folder_paths', 'get_turbulence', 'get_utility_file_functions', 'get_wiki_infobox_data_frame', 'get_wiki_tables', 'github_folder', 'graphs_folder', 'index', 'indices_folder', 'instance_defs_regex', 'ipynb_defs_regex', 'isalnum', 'isalpha', 'isascii', 'isdecimal', 'isdigit', 'isidentifier', 'islower', 'isnumeric', 'isprintable', 'isspace', 'istitle', 'isupper', 'join', 'list_dfs_in_folder', 'ljust', 'load_csv', 'load_data_frames', 'load_object', 'lower', 'lower_ascii_regex', 'lstrip', 'maketrans', 'modalize_columns', 'modify_inkscape_labels', 'object_evaluators', 'one_hot_encode', 'open_path_in_notepad', 'partition', 'pickle_exists', 'pip_command_str', 'plot_grouped_box_and_whiskers', 'plot_grouped_pie_chart', 'plot_histogram', 'plot_inauguration_age', 'plot_line_with_error_bars', 'plot_right_circles', 'plot_semantic_distances_dendogram', 'plot_sequence', 'plot_sequences', 'print_all_files_ending_starting_with', 'print_all_files_ending_with', 'print_all_files_starting_with', 'rebalance_data', 'remove_empty_folders', 'removeprefix', 'removesuffix', 'replace', 'replace_consecutive_elements', 'replace_consecutive_rows', 'rfind', 'rindex', 'rjust', 'rpartition', 'rsplit', 'rstrip', 'save_data_frames', 'saves_csv_folder', 'saves_folder', 'saves_mp3_folder', 'saves_pickle_folder', 'saves_png_folder', 'saves_text_folder', 'saves_wav_folder', 'scripts_folder', 'self_regex', 'show_dupl_fn_defs_search_string', 'show_duplicated_util_fns_search_string', 'show_subgraph', 'show_time_statistics', 'simple_defs_regex', 'split', 'split_df_by_iloc', 'split_df_by_indices', 'split_list_by_exclusion', 'split_list_by_gap', 'splitlines', 'standard_lib_modules', 'startswith', 'store_objects', 'strip', 'swapcase', 'title', 'translate', 'twitter_aspect_ratio', 'txt_folder', 'uncategorized', 'update_modules_list', 'upper', 'url_regex', 'zfill']"
      ]
     },
     "execution_count": 8,
     "metadata": {},
     "output_type": "execute_result"
    }
   ],
   "source": [
    "\n",
    "nu.__dir__()"
   ]
  },
  {
   "cell_type": "code",
   "execution_count": 20,
   "metadata": {},
   "outputs": [
    {
     "data": {
      "text/plain": [
       "'C:\\\\Users\\\\daveb\\\\OneDrive\\\\Documents\\\\GitHub\\\\share\\\\requirements.txt'"
      ]
     },
     "execution_count": 20,
     "metadata": {},
     "output_type": "execute_result"
    }
   ],
   "source": [
    "\n",
    "# Show the requirements.txt path\n",
    "osp.abspath(osp.join(nu.github_folder, os.pardir, 'share', 'requirements.txt'))"
   ]
  },
  {
   "cell_type": "code",
   "execution_count": null,
   "metadata": {},
   "outputs": [],
   "source": [
    "\n",
    "import glob\n",
    "\n",
    "# Use the glob function with a recursive pattern to gather all the notebook_utils.py files\n",
    "# in all the \"share\" folders in all the repo directories in the grandparent directory\n",
    "file_paths = []\n",
    "for file_path in [osp.abspath(f) for f in glob.glob('../../*/share/notebook_utils.py', recursive=True)]:\n",
    "    print(file_path)\n",
    "    # os.remove(file_path)"
   ]
  },
  {
   "cell_type": "code",
   "execution_count": 33,
   "metadata": {},
   "outputs": [
    {
     "name": "stdout",
     "output_type": "stream",
     "text": [
      "['os._get_exports_list', 'os.listdir']\n"
     ]
    }
   ],
   "source": [
    "\n",
    "print([f'os.{fn}' for fn in dir(os) if 'list' in fn])"
   ]
  },
  {
   "cell_type": "code",
   "execution_count": 35,
   "metadata": {},
   "outputs": [
    {
     "name": "stdout",
     "output_type": "stream",
     "text": [
      "C:\\Users\\daveb\\OneDrive\\Documents\\GitHub\\covid19\\ipynb\\OS Path Navigation.ipynb\n",
      "C:\\Users\\daveb\\OneDrive\\Documents\\GitHub\\itm-analysis-reporting-1\\ipynb\\OS Path Navigation.ipynb\n",
      "C:\\Users\\daveb\\OneDrive\\Documents\\GitHub\\job-hunting\\ipynb\\OS Path Navigation.ipynb\n",
      "C:\\Users\\daveb\\OneDrive\\Documents\\GitHub\\mimetic_tribes\\ipynb\\OS Path Navigation.ipynb\n",
      "C:\\Users\\daveb\\OneDrive\\Documents\\GitHub\\notebooks\\ipynb\\OS Path Navigation.ipynb\n",
      "C:\\Users\\daveb\\OneDrive\\Documents\\GitHub\\rpc\\ipynb\\OS Path Navigation.ipynb\n",
      "C:\\Users\\daveb\\OneDrive\\Documents\\GitHub\\StatsByCountry\\ipynb\\OS Path Navigation.ipynb\n",
      "C:\\Users\\daveb\\OneDrive\\Documents\\GitHub\\StatsByUSState\\ipynb\\OS Path Navigation.ipynb\n",
      "C:\\Users\\daveb\\OneDrive\\Documents\\GitHub\\Strauss-Howe\\ipynb\\OS Path Navigation.ipynb\n",
      "C:\\Users\\daveb\\OneDrive\\Documents\\GitHub\\transcriptions-notebook\\ipynb\\OS Path Navigation.ipynb\n"
     ]
    }
   ],
   "source": [
    "\n",
    "# Find all the OS Path Navigation notebooks in the ipynb folders of my repos\n",
    "pushables_list = nu.load_object('pushables_list')\n",
    "ipynb_paths = [osp.join(file_path, 'ipynb') for file_path in pushables_list]\n",
    "file_name = 'OS Path Navigation.ipynb'\n",
    "file_paths_list = []\n",
    "for parent_directory in ipynb_paths:\n",
    "    if osp.isdir(parent_directory):\n",
    "        for old_file_name in os.listdir(parent_directory):\n",
    "            if old_file_name == file_name:\n",
    "                old_file_path = os.path.join(parent_directory, old_file_name)\n",
    "                file_paths_list.append(old_file_path)\n",
    "for file_path in file_paths_list:\n",
    "    print(file_path)"
   ]
  },
  {
   "cell_type": "code",
   "execution_count": 27,
   "metadata": {},
   "outputs": [
    {
     "name": "stdout",
     "output_type": "stream",
     "text": [
      "['os._fspath', 'os.defpath', 'os.fspath', 'os.path', 'os.pathsep']\n",
      "[]\n",
      "C:\\Users\\daveb\\OneDrive\\Documents\\GitHub\n",
      "C:\\Users\\daveb\\OneDrive\\Documents\\GitHub\n",
      "C:\\Users\\daveb\\OneDrive\\Documents\\GitHub\n",
      "C:\\Users\\daveb\\OneDrive\\Documents\\GitHub\n"
     ]
    }
   ],
   "source": [
    "\n",
    "# Get the repositories directory by various means, with increasing conciseness\n",
    "print([f'os.{fn}' for fn in dir(os) if ('path' in fn) and (len(f'os.{fn}') < len('osp.abspath'))])\n",
    "print([f'osp.{fn}' for fn in dir(osp) if ('path' in fn) and (len(f'osp.{fn}') < len('osp.abspath'))])\n",
    "print(osp.abspath(osp.join(os.curdir, os.pardir, os.pardir)))\n",
    "print(osp.abspath(osp.join(nu.github_folder, os.pardir)))\n",
    "print(osp.dirname(osp.dirname(osp.abspath(os.curdir))))\n",
    "print(osp.dirname(nu.github_folder))"
   ]
  },
  {
   "cell_type": "code",
   "execution_count": 15,
   "metadata": {},
   "outputs": [],
   "source": [
    "\n",
    "# Find all the notebooks with the word \"color\" in their file name\n",
    "black_list = ['.ipynb_checkpoints', '$Recycle.Bin']\n",
    "folder_path = '../../color/ipynb'\n",
    "ascii_regex = re.compile(r'[^A-Za-z0-9]+')\n",
    "file_ending = '.ipynb'\n",
    "file_paths_list = []\n",
    "for root_dir in ['C:\\\\', 'D:\\\\']:\n",
    "    for parent_directory, child_directories, files_list in os.walk(root_dir):\n",
    "        if all(map(lambda x: x not in parent_directory, black_list)):\n",
    "            for old_file_name in files_list:\n",
    "                if old_file_name.endswith(file_ending) and ('color' in old_file_name.lower()):\n",
    "                    old_file_path = os.path.join(parent_directory, old_file_name)\n",
    "                    file_paths_list.append(old_file_path)"
   ]
  },
  {
   "cell_type": "code",
   "execution_count": 24,
   "metadata": {},
   "outputs": [],
   "source": [
    "\n",
    "# Copy all the notebook files with the word \"color\" in their name to the color repo\n",
    "import shutil\n",
    "\n",
    "for old_file_path in file_paths_list:\n",
    "    new_file_name = ascii_regex.sub('_', osp.relpath(old_file_path, osp.abspath(folder_path)).replace(file_ending, '').lstrip('.\\\\')) + file_ending\n",
    "    new_file_path = osp.abspath(osp.join(folder_path, new_file_name))\n",
    "    # shutil.copy(old_file_path, new_file_path)"
   ]
  },
  {
   "cell_type": "code",
   "execution_count": null,
   "metadata": {},
   "outputs": [],
   "source": [
    "\n",
    "# Open a file with a relative path in Notepad++\n",
    "file_path = '../data/txt/resume.txt'\n",
    "nu.open_path_in_notepad(file_path)"
   ]
  },
  {
   "cell_type": "code",
   "execution_count": null,
   "metadata": {},
   "outputs": [],
   "source": [
    "\n",
    "# Show the location of all the files with \"hair\" in the name\n",
    "black_list = ['.ipynb_checkpoints', '$Recycle.Bin']\n",
    "# walk_folder = osp.dirname(nu.github_folder)\n",
    "for parent_directory, child_directories, files_list in os.walk('C:\\\\'):\n",
    "    if all(map(lambda x: x not in parent_directory, black_list)):\n",
    "        for file_name in files_list:\n",
    "            if ('hair' in file_name):\n",
    "                file_path = osp.join(parent_directory, file_name)\n",
    "                print(file_path)"
   ]
  },
  {
   "cell_type": "code",
   "execution_count": 4,
   "metadata": {},
   "outputs": [
    {
     "name": "stdout",
     "output_type": "stream",
     "text": [
      "C:\\Users\\daveb\\OneDrive\\Documents\\Babbitt Stuff\\Jay_s Junk\\Jay-Babbitt_Resume.docx\n",
      "C:\\Users\\daveb\\OneDrive\\Documents\\Google Drive\\Other\\Job Hunting\\Dave_Babbitt_Resume (1).docx\n",
      "C:\\Users\\daveb\\OneDrive\\Documents\\Google Drive\\Other\\Job Hunting\\Dave_Babbitt_Resume.docx\n",
      "C:\\Users\\daveb\\OneDrive\\Documents\\Google Drive\\Other\\Job Hunting\\Dave_Babbitt_Resume_Cold_Fusion_Developer.docx\n",
      "C:\\Users\\daveb\\OneDrive\\Documents\\Google Drive\\Other\\Job Hunting\\Dave_Babbitt_Resume_Delivery_Driver.docx\n",
      "C:\\Users\\daveb\\OneDrive\\Documents\\Google Drive\\Other\\Job Hunting\\Dave_Babbitt_Resume_Jr._Java_Developer.docx\n",
      "C:\\Users\\daveb\\OneDrive\\Documents\\Google Drive\\Other\\Job Hunting\\Dave_Babbitt_Resume_Predictive_Analyst.docx\n",
      "C:\\Users\\daveb\\OneDrive\\Documents\\Google Drive\\Other\\Job Hunting\\Dave_Babbitt_Resume_QA_Tester.docx\n",
      "C:\\Users\\daveb\\OneDrive\\Documents\\Google Drive\\Other\\Job Hunting\\Dave_Babbitt_Resume_Reactor_Operator.docx\n",
      "C:\\Users\\daveb\\OneDrive\\Documents\\Google Drive\\Other\\Job Hunting\\Dave_Babbitt_Resume_Research_Analyst.docx\n",
      "C:\\Users\\daveb\\OneDrive\\Documents\\Google Drive\\School\\Predictive Analytics\\Dave_Babbitt_Resume.docx\n",
      "C:\\Users\\daveb\\OneDrive\\Documents\\Google Drive\\Work\\Job Hunting\\Dave_Babbitt_Resume_Predictive_Analyst.docx\n",
      "C:\\Users\\daveb\\OneDrive\\Documents\\Google Drive\\Work\\Job Hunting\\Dave_Babbitt_Resume_Web_Developer.docx\n",
      "C:\\Users\\daveb\\OneDrive\\Documents\\Job Hunting\\Old Resumes\\Dave Babbitt - Tailored Resume for CVS Health Senior Data Scientist Position.docx\n",
      "C:\\Users\\daveb\\OneDrive\\Documents\\Job Hunting\\Old Resumes\\Dave_Babbitt_Resume_Associate_Operations_Research_Engineer.docx\n",
      "C:\\Users\\daveb\\OneDrive\\Documents\\Job Hunting\\Old Resumes\\Dave_Babbitt_Resume_Data_Scientist.docx\n",
      "C:\\Users\\daveb\\OneDrive\\Documents\\Job Hunting\\Old Resumes\\Dave_Babbitt_Resume_Data_Scientist_or_Sr._Data Scientist.docx\n",
      "C:\\Users\\daveb\\OneDrive\\Documents\\Job Hunting\\Old Resumes\\Dave_Babbitt_Resume_Jr_Data_Scientist.docx\n",
      "C:\\Users\\daveb\\OneDrive\\Documents\\Job Hunting\\Old Resumes\\Dave_Babbitt_Resume_Machine_Learning_Engineer.docx\n",
      "C:\\Users\\daveb\\OneDrive\\Documents\\Job Hunting\\Old Resumes\\Dave_Babbitt_Resume_Predictive_Analyst.docx\n",
      "C:\\Users\\daveb\\OneDrive\\Documents\\Job Hunting\\Old Resumes\\hha_resume.docx\n",
      "C:\\Users\\daveb\\OneDrive\\Documents\\Job Hunting\\Old Resumes\\hha_resume.html.docx\n",
      "C:\\Users\\daveb\\OneDrive\\Documents\\Job Hunting\\Old Resumes\\Machine Learning Resume.docx\n",
      "C:\\Users\\daveb\\OneDrive\\Documents\\Job Hunting\\Old Resumes\\resume_header.docx\n"
     ]
    }
   ],
   "source": [
    "\n",
    "# Show the location of all the resume in Microsoft Word form\n",
    "for parent_directory, child_directories, files_list in os.walk('C:\\\\'):\n",
    "    for file_name in files_list:\n",
    "        if file_name.endswith('.docx') and ('resume' in file_name.lower()):\n",
    "            file_path = osp.join(parent_directory, file_name)\n",
    "            if osp.isfile(file_path):\n",
    "                print(f'{file_path}')"
   ]
  }
 ],
 "metadata": {
  "kernelspec": {
   "display_name": "Python 3 (ipykernel)",
   "language": "python",
   "name": "python3"
  },
  "language_info": {
   "codemirror_mode": {
    "name": "ipython",
    "version": 3
   },
   "file_extension": ".py",
   "mimetype": "text/x-python",
   "name": "python",
   "nbconvert_exporter": "python",
   "pygments_lexer": "ipython3",
   "version": "3.12.7"
  }
 },
 "nbformat": 4,
 "nbformat_minor": 4
}
