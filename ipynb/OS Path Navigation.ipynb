{
 "cells": [
  {
   "cell_type": "code",
   "execution_count": 1,
   "metadata": {},
   "outputs": [
    {
     "name": "stdout",
     "output_type": "stream",
     "text": [
      "Pretty printing has been turned OFF\n"
     ]
    }
   ],
   "source": [
    "\n",
    "%pprint\n",
    "%matplotlib inline\n",
    "import sys\n",
    "import os.path as osp\n",
    "\n",
    "executable_path = sys.executable\n",
    "scripts_folder = osp.join(osp.dirname(executable_path), 'Scripts'); assert osp.exists(scripts_folder)\n",
    "py_folder = osp.abspath(osp.join('..', 'py')); assert osp.exists(py_folder), \"Create the py folder\"\n",
    "ffmpeg_folder = r'C:\\ffmpeg\\bin'; assert osp.exists(ffmpeg_folder)\n",
    "shared_folder = osp.abspath(osp.join('..', 'share')); assert osp.exists(shared_folder)\n",
    "\n",
    "if (scripts_folder not in sys.path): sys.path.insert(1, scripts_folder)\n",
    "if (py_folder not in sys.path): sys.path.insert(1, py_folder)\n",
    "if (ffmpeg_folder not in sys.path): sys.path.insert(1, ffmpeg_folder)\n",
    "if shared_folder not in sys.path: sys.path.insert(1, shared_folder)\n",
    "    \n",
    "from notebook_utils import NotebookUtilities\n",
    "nu = NotebookUtilities(\n",
    "    data_folder_path=osp.abspath(osp.join('..', 'data')),\n",
    "    saves_folder_path=osp.abspath(osp.join('..', 'saves'))\n",
    ")\n",
    "\n",
    "# Import needed libraries\n",
    "import os, re\n",
    "import pandas as pd\n",
    "import pyperclip\n",
    "import ipywidgets as widgets\n",
    "from IPython.display import display"
   ]
  },
  {
   "cell_type": "code",
   "execution_count": 4,
   "metadata": {},
   "outputs": [
    {
     "name": "stdout",
     "output_type": "stream",
     "text": [
      "['osp.relpath']\n"
     ]
    }
   ],
   "source": [
    "\n",
    "print([f'osp.{fn}' for fn in dir(osp) if 'rel' in fn])"
   ]
  },
  {
   "cell_type": "code",
   "execution_count": 15,
   "metadata": {},
   "outputs": [],
   "source": [
    "\n",
    "# Find all the notebook files with the word \"color\" in their name\n",
    "black_list = ['.ipynb_checkpoints', '$Recycle.Bin']\n",
    "folder_path = '../../color/ipynb'\n",
    "ascii_regex = re.compile(r'[^A-Za-z0-9]+')\n",
    "file_ending = '.ipynb'\n",
    "file_paths_list = []\n",
    "for root_dir in ['C:\\\\', 'D:\\\\']:\n",
    "    for parent_directory, child_directories, files_list in os.walk(root_dir):\n",
    "        if all(map(lambda x: x not in parent_directory, black_list)):\n",
    "            for old_file_name in files_list:\n",
    "                if old_file_name.endswith(file_ending) and ('color' in old_file_name.lower()):\n",
    "                    old_file_path = os.path.join(parent_directory, old_file_name)\n",
    "                    file_paths_list.append(old_file_path)"
   ]
  },
  {
   "cell_type": "code",
   "execution_count": 24,
   "metadata": {},
   "outputs": [],
   "source": [
    "\n",
    "# Copy all the notebook files with the word \"color\" in their name to the color repo\n",
    "import shutil\n",
    "\n",
    "for old_file_path in file_paths_list:\n",
    "    new_file_name = ascii_regex.sub('_', osp.relpath(old_file_path, osp.abspath(folder_path)).replace(file_ending, '').lstrip('.\\\\')) + file_ending\n",
    "    new_file_path = osp.abspath(osp.join(folder_path, new_file_name))\n",
    "    shutil.copy(old_file_path, new_file_path)"
   ]
  },
  {
   "cell_type": "code",
   "execution_count": null,
   "metadata": {},
   "outputs": [],
   "source": []
  },
  {
   "cell_type": "code",
   "execution_count": 9,
   "metadata": {},
   "outputs": [
    {
     "name": "stdout",
     "output_type": "stream",
     "text": [
      "\n",
      "# Exclude everything except text-based OC or personal directories\n",
      "/*\n",
      "!/algorithms\n",
      "!/builders\n",
      "!/cell_techniques\n",
      "!/coin-analytics\n",
      "!/curve_fitting\n",
      "!/ipynb\n",
      "!/json\n",
      "!/library_exploration\n",
      "!/load_magic\n",
      "!/log\n",
      "!/maintenance\n",
      "!/mathematics\n",
      "!/programming_languages\n",
      "!/ps1\n",
      "!/py\n",
      "!/r_programming_language\n",
      "!/statistics\n",
      "!/tests\n",
      "!/text_manipulation\n",
      "!/visualizations\n",
      "!/wheels\n"
     ]
    }
   ],
   "source": [
    "\n",
    "print_strs_list = ['']\n",
    "print_strs_list.append('# Exclude everything except text-based OC or personal directories')\n",
    "print_strs_list.append('/*')\n",
    "github_folder = osp.dirname(osp.abspath(osp.curdir))\n",
    "# print(github_folder)\n",
    "\n",
    "# Get the list of all items in the parent folder and filter in only the directories\n",
    "black_list = ['.ipynb_checkpoints', '$Recycle.Bin', '.git', 'data', 'saves', '__pycache__', 'LEET-CODE']\n",
    "for parent_directory in os.listdir(github_folder):\n",
    "    if all(map(lambda x: x not in parent_directory, black_list)) and osp.isdir(osp.join(github_folder, parent_directory)):\n",
    "        print_strs_list.append(f'!/{parent_directory}')\n",
    "print('\\n'.join(print_strs_list))"
   ]
  },
  {
   "cell_type": "code",
   "execution_count": null,
   "metadata": {},
   "outputs": [],
   "source": [
    "\n",
    "file_path = '../data/txt/resume.txt'\n",
    "nu.open_path_in_notepad(file_path)"
   ]
  },
  {
   "cell_type": "code",
   "execution_count": null,
   "metadata": {},
   "outputs": [],
   "source": [
    "\n",
    "black_list = ['.ipynb_checkpoints', '$Recycle.Bin']\n",
    "# walk_folder = osp.dirname(nu.github_folder)\n",
    "for parent_directory, child_directories, files_list in os.walk('C:\\\\'):\n",
    "    if all(map(lambda x: x not in parent_directory, black_list)):\n",
    "        for file_name in files_list:\n",
    "            if ('hair' in file_name):\n",
    "                file_path = osp.join(parent_directory, file_name)\n",
    "                print(file_path)"
   ]
  },
  {
   "cell_type": "code",
   "execution_count": 4,
   "metadata": {},
   "outputs": [
    {
     "name": "stdout",
     "output_type": "stream",
     "text": [
      "C:\\Users\\daveb\\OneDrive\\Documents\\Babbitt Stuff\\Jay_s Junk\\Jay-Babbitt_Resume.docx\n",
      "C:\\Users\\daveb\\OneDrive\\Documents\\Google Drive\\Other\\Job Hunting\\Dave_Babbitt_Resume (1).docx\n",
      "C:\\Users\\daveb\\OneDrive\\Documents\\Google Drive\\Other\\Job Hunting\\Dave_Babbitt_Resume.docx\n",
      "C:\\Users\\daveb\\OneDrive\\Documents\\Google Drive\\Other\\Job Hunting\\Dave_Babbitt_Resume_Cold_Fusion_Developer.docx\n",
      "C:\\Users\\daveb\\OneDrive\\Documents\\Google Drive\\Other\\Job Hunting\\Dave_Babbitt_Resume_Delivery_Driver.docx\n",
      "C:\\Users\\daveb\\OneDrive\\Documents\\Google Drive\\Other\\Job Hunting\\Dave_Babbitt_Resume_Jr._Java_Developer.docx\n",
      "C:\\Users\\daveb\\OneDrive\\Documents\\Google Drive\\Other\\Job Hunting\\Dave_Babbitt_Resume_Predictive_Analyst.docx\n",
      "C:\\Users\\daveb\\OneDrive\\Documents\\Google Drive\\Other\\Job Hunting\\Dave_Babbitt_Resume_QA_Tester.docx\n",
      "C:\\Users\\daveb\\OneDrive\\Documents\\Google Drive\\Other\\Job Hunting\\Dave_Babbitt_Resume_Reactor_Operator.docx\n",
      "C:\\Users\\daveb\\OneDrive\\Documents\\Google Drive\\Other\\Job Hunting\\Dave_Babbitt_Resume_Research_Analyst.docx\n",
      "C:\\Users\\daveb\\OneDrive\\Documents\\Google Drive\\School\\Predictive Analytics\\Dave_Babbitt_Resume.docx\n",
      "C:\\Users\\daveb\\OneDrive\\Documents\\Google Drive\\Work\\Job Hunting\\Dave_Babbitt_Resume_Predictive_Analyst.docx\n",
      "C:\\Users\\daveb\\OneDrive\\Documents\\Google Drive\\Work\\Job Hunting\\Dave_Babbitt_Resume_Web_Developer.docx\n",
      "C:\\Users\\daveb\\OneDrive\\Documents\\Job Hunting\\Old Resumes\\Dave Babbitt - Tailored Resume for CVS Health Senior Data Scientist Position.docx\n",
      "C:\\Users\\daveb\\OneDrive\\Documents\\Job Hunting\\Old Resumes\\Dave_Babbitt_Resume_Associate_Operations_Research_Engineer.docx\n",
      "C:\\Users\\daveb\\OneDrive\\Documents\\Job Hunting\\Old Resumes\\Dave_Babbitt_Resume_Data_Scientist.docx\n",
      "C:\\Users\\daveb\\OneDrive\\Documents\\Job Hunting\\Old Resumes\\Dave_Babbitt_Resume_Data_Scientist_or_Sr._Data Scientist.docx\n",
      "C:\\Users\\daveb\\OneDrive\\Documents\\Job Hunting\\Old Resumes\\Dave_Babbitt_Resume_Jr_Data_Scientist.docx\n",
      "C:\\Users\\daveb\\OneDrive\\Documents\\Job Hunting\\Old Resumes\\Dave_Babbitt_Resume_Machine_Learning_Engineer.docx\n",
      "C:\\Users\\daveb\\OneDrive\\Documents\\Job Hunting\\Old Resumes\\Dave_Babbitt_Resume_Predictive_Analyst.docx\n",
      "C:\\Users\\daveb\\OneDrive\\Documents\\Job Hunting\\Old Resumes\\hha_resume.docx\n",
      "C:\\Users\\daveb\\OneDrive\\Documents\\Job Hunting\\Old Resumes\\hha_resume.html.docx\n",
      "C:\\Users\\daveb\\OneDrive\\Documents\\Job Hunting\\Old Resumes\\Machine Learning Resume.docx\n",
      "C:\\Users\\daveb\\OneDrive\\Documents\\Job Hunting\\Old Resumes\\resume_header.docx\n"
     ]
    }
   ],
   "source": [
    "\n",
    "for parent_directory, child_directories, files_list in os.walk('C:\\\\'):\n",
    "    for file_name in files_list:\n",
    "        if file_name.endswith('.docx') and ('resume' in file_name.lower()):\n",
    "            file_path = osp.join(parent_directory, file_name)\n",
    "            if osp.isfile(file_path):\n",
    "                print(f'{file_path}')"
   ]
  },
  {
   "cell_type": "code",
   "execution_count": 13,
   "metadata": {},
   "outputs": [],
   "source": [
    "\n",
    "# Get a list of rogue functions already in scraping utilities\n",
    "scraping_utils_set = nu.get_utility_file_functions(util_path='../py/scraping_utils.py')\n",
    "\n",
    "# Make a set of rogue su functions\n",
    "fn_regex = re.compile(r'\\s+\"def ([a-z0-9_]+)\\(')\n",
    "black_list = ['.ipynb_checkpoints', '$Recycle.Bin']\n",
    "rows_list = []\n",
    "walk_folder = osp.dirname(osp.abspath(osp.curdir))\n",
    "rogue_su_fns_set = set()\n",
    "for parent_directory, child_directories, files_list in os.walk(walk_folder):\n",
    "    if all(map(lambda x: x not in parent_directory, black_list)):\n",
    "        for file_name in files_list:\n",
    "            if file_name.endswith('.ipynb'):\n",
    "                file_path = osp.join(parent_directory, file_name)\n",
    "                with open(file_path, 'r', encoding='utf-8') as f:\n",
    "                    lines_list = f.readlines()\n",
    "                    for line in lines_list:\n",
    "                        match_obj = fn_regex.search(line)\n",
    "                        if match_obj:\n",
    "                            fn = match_obj.group(1)\n",
    "                            if fn in scraping_utils_set: rogue_su_fns_set.add(fn)\n",
    "if rogue_su_fns_set:\n",
    "    print(f'Search for *.ipynb; file masks in the {walk_folder} folder for this pattern:')\n",
    "    print('\\\\s+\"def (' + '|'.join(rogue_su_fns_set) + ')\\(')\n",
    "    print('Replace each of the calls to these definitions with calls the the su. equivalent (and delete the definitions).')"
   ]
  },
  {
   "cell_type": "code",
   "execution_count": 12,
   "metadata": {},
   "outputs": [],
   "source": [
    "\n",
    "# Get a list of multi-notebook functions as notebook utilities candidates\n",
    "fn_regex = re.compile(r'\\s+\"def ([a-z0-9_]+)\\(')\n",
    "black_list = ['.ipynb_checkpoints', '$Recycle.Bin']\n",
    "rows_list = []\n",
    "walk_folder = osp.dirname(osp.abspath(osp.curdir))\n",
    "for parent_directory, child_directories, files_list in os.walk(walk_folder):\n",
    "    if all(map(lambda x: x not in parent_directory, black_list)):\n",
    "        for file_name in files_list:\n",
    "            if file_name.endswith('.ipynb'):\n",
    "                file_path = osp.join(parent_directory, file_name)\n",
    "                with open(file_path, 'r', encoding='utf-8') as f:\n",
    "                    lines_list = f.readlines()\n",
    "                    fns_set = set()\n",
    "                    for line in lines_list:\n",
    "                        match_obj = fn_regex.search(line)\n",
    "                        if match_obj:\n",
    "                            fn = match_obj.group(1)\n",
    "                            fns_set.add(fn)\n",
    "                    for fn in fns_set:\n",
    "                        row_dict = {}\n",
    "                        row_dict['file_name'] = file_name\n",
    "                        row_dict['function_name'] = fn\n",
    "                        rows_list.append(row_dict)\n",
    "function_names_df = pd.DataFrame(rows_list)\n",
    "df = function_names_df.groupby('function_name').count().sort_values('file_name', ascending=False)\n",
    "mask_series = (df.file_name > 1) & df.index.map(lambda x: len(x) > 4)\n",
    "fns_list = df[mask_series].index.tolist()\n",
    "if fns_list:\n",
    "    print(f'Search for *.ipynb; file masks in the {walk_folder} folder for this pattern:')\n",
    "    print('\\\\s+\"def (' + '|'.join(fns_list) + ')\\(')\n",
    "    print('Find a way to get rid of these definition duplicates.')"
   ]
  },
  {
   "cell_type": "code",
   "execution_count": 7,
   "metadata": {},
   "outputs": [
    {
     "name": "stdout",
     "output_type": "stream",
     "text": [
      "D:\\\\Geek Squad Data Backup\\HDD\\Documents\\GitHub\\notebooks_old\\political_triangle\\svg\\nick_land_comments.svg\n",
      "D:\\\\Geek Squad Data Backup\\HDD\\Documents\\GitHub\\notebooks_old\\political_triangle\\svg\\nick_land_comments_copy.svg\n",
      "D:\\\\Geek Squad Data Backup\\HDD\\Documents\\GitHub\\notebooks_old\\political_triangle\\svg\\nick_land_comments_optimized.svg\n",
      "D:\\\\Geek Squad Data Backup\\HDD\\Documents\\GitHub\\notebooks_old\\political_triangle\\svg\\nick_land_comments_plain.svg\n",
      "D:\\\\Geek Squad Data Backup\\HDD\\Documents\\GitHub\\notebooks_old\\political_triangle\\svg\\.ipynb_checkpoints\\nick_land_comments_optimized-checkpoint.svg\n"
     ]
    }
   ],
   "source": [
    "\n",
    "import os\n",
    "\n",
    "for parent_directory, child_directories, files_list in os.walk(r'D:\\\\'):\n",
    "    for file_name in files_list:\n",
    "        if file_name.endswith('.svg'):\n",
    "            file_path = osp.join(parent_directory, file_name)\n",
    "            if osp.isfile(file_path):\n",
    "                with open(file_path, 'r', errors='ignore') as file:\n",
    "                    data = file.read()\n",
    "                    if 'Retarded' in data:\n",
    "                        print(f'{file_path}')"
   ]
  },
  {
   "cell_type": "code",
   "execution_count": null,
   "metadata": {},
   "outputs": [],
   "source": []
  }
 ],
 "metadata": {
  "kernelspec": {
   "display_name": "GPT Stuff (Python 3.10.10)",
   "language": "python",
   "name": "gs_env"
  },
  "language_info": {
   "codemirror_mode": {
    "name": "ipython",
    "version": 3
   },
   "file_extension": ".py",
   "mimetype": "text/x-python",
   "name": "python",
   "nbconvert_exporter": "python",
   "pygments_lexer": "ipython3",
   "version": "3.10.10"
  }
 },
 "nbformat": 4,
 "nbformat_minor": 4
}
