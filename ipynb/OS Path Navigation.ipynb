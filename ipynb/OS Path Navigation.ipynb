{
 "cells": [
  {
   "cell_type": "code",
   "execution_count": null,
   "metadata": {},
   "outputs": [],
   "source": []
  },
  {
   "cell_type": "code",
   "execution_count": 3,
   "metadata": {},
   "outputs": [],
   "source": [
    "\n",
    "import os\n",
    "\n",
    "for sub_directory, directories_list, files_list in os.walk(r'C:\\\\'):\n",
    "    for file_name in files_list:\n",
    "        if file_name == '1971-1979.png':\n",
    "            file_path = os.path.join(sub_directory, file_name)\n",
    "            if os.path.isfile(file_path):\n",
    "                print(f'{file_path}')"
   ]
  },
  {
   "cell_type": "code",
   "execution_count": 7,
   "metadata": {},
   "outputs": [
    {
     "name": "stdout",
     "output_type": "stream",
     "text": [
      "D:\\\\Geek Squad Data Backup\\HDD\\Documents\\GitHub\\notebooks_old\\political_triangle\\svg\\nick_land_comments.svg\n",
      "D:\\\\Geek Squad Data Backup\\HDD\\Documents\\GitHub\\notebooks_old\\political_triangle\\svg\\nick_land_comments_copy.svg\n",
      "D:\\\\Geek Squad Data Backup\\HDD\\Documents\\GitHub\\notebooks_old\\political_triangle\\svg\\nick_land_comments_optimized.svg\n",
      "D:\\\\Geek Squad Data Backup\\HDD\\Documents\\GitHub\\notebooks_old\\political_triangle\\svg\\nick_land_comments_plain.svg\n",
      "D:\\\\Geek Squad Data Backup\\HDD\\Documents\\GitHub\\notebooks_old\\political_triangle\\svg\\.ipynb_checkpoints\\nick_land_comments_optimized-checkpoint.svg\n"
     ]
    }
   ],
   "source": [
    "\n",
    "import os\n",
    "\n",
    "for sub_directory, directories_list, files_list in os.walk(r'D:\\\\'):\n",
    "    for file_name in files_list:\n",
    "        if file_name.endswith('.svg'):\n",
    "            file_path = os.path.join(sub_directory, file_name)\n",
    "            if os.path.isfile(file_path):\n",
    "                with open(file_path, 'r', errors='ignore') as file:\n",
    "                    data = file.read()\n",
    "                    if 'Retarded' in data:\n",
    "                        print(f'{file_path}')"
   ]
  },
  {
   "cell_type": "code",
   "execution_count": null,
   "metadata": {},
   "outputs": [],
   "source": [
    "\n",
    "import os\n",
    "\n",
    "exe_list = ['wc', 'gvpr']\n",
    "for sub_directory, directories_list, files_list in os.walk(r'D:\\\\'):\n",
    "    for file_name in files_list:\n",
    "        if any(map(lambda x: file_name == f'{x}.exe', exe_list)):\n",
    "            file_path = os.path.join(sub_directory, file_name)\n",
    "            print(f'{file_path}')"
   ]
  },
  {
   "cell_type": "code",
   "execution_count": null,
   "metadata": {},
   "outputs": [],
   "source": [
    "\n",
    "%run ../load_magic/storage.py\n",
    "%run ../load_magic/dataframes.py\n",
    "%run ../load_magic/paths.py\n",
    "%run ../load_magic/lists.py\n",
    "%run ../load_magic/environment.py\n",
    "%pprint\n",
    "notebook_path = get_notebook_path()\n",
    "print(notebook_path)\n",
    "s = Storage()\n",
    "print(['s.{}'.format(fn) for fn in dir(s) if not fn.startswith('_')])\n",
    "[fn for fn in dir() if not fn.startswith('_')]"
   ]
  },
  {
   "cell_type": "code",
   "execution_count": null,
   "metadata": {},
   "outputs": [],
   "source": []
  }
 ],
 "metadata": {
  "kernelspec": {
   "display_name": "Python 3 (ipykernel)",
   "language": "python",
   "name": "python3"
  },
  "language_info": {
   "codemirror_mode": {
    "name": "ipython",
    "version": 3
   },
   "file_extension": ".py",
   "mimetype": "text/x-python",
   "name": "python",
   "nbconvert_exporter": "python",
   "pygments_lexer": "ipython3",
   "version": "3.9.7"
  }
 },
 "nbformat": 4,
 "nbformat_minor": 4
}
