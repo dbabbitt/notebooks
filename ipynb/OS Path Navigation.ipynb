{
 "cells": [
  {
   "cell_type": "code",
   "execution_count": 1,
   "metadata": {},
   "outputs": [
    {
     "name": "stdout",
     "output_type": "stream",
     "text": [
      "Pretty printing has been turned OFF\n"
     ]
    }
   ],
   "source": [
    "\n",
    "%pprint\n",
    "%matplotlib inline\n",
    "import sys\n",
    "import os.path as osp, os as os\n",
    "\n",
    "executable_path = sys.executable\n",
    "scripts_folder = osp.join(osp.dirname(executable_path), 'Scripts'); assert osp.exists(scripts_folder)\n",
    "py_folder = osp.abspath(osp.join(os.pardir, 'py')); assert osp.exists(py_folder), \"Create the py folder\"\n",
    "ffmpeg_folder = r'C:\\ffmpeg\\bin'; assert osp.exists(ffmpeg_folder)\n",
    "shared_folder = osp.abspath(osp.join(os.pardir, 'share')); assert osp.exists(shared_folder)\n",
    "\n",
    "if (scripts_folder not in sys.path): sys.path.insert(1, scripts_folder)\n",
    "if (py_folder not in sys.path): sys.path.insert(1, py_folder)\n",
    "if (ffmpeg_folder not in sys.path): sys.path.insert(1, ffmpeg_folder)\n",
    "if shared_folder not in sys.path: sys.path.insert(1, shared_folder)\n",
    "\n",
    "from notebook_utils import NotebookUtilities\n",
    "nu = NotebookUtilities(\n",
    "    data_folder_path=osp.abspath(osp.join(os.pardir, 'data')),\n",
    "    saves_folder_path=osp.abspath(osp.join(os.pardir, 'saves'))\n",
    ")\n",
    "\n",
    "# Import needed libraries\n",
    "import re\n",
    "import pandas as pd\n",
    "import pyperclip\n",
    "import ipywidgets as widgets\n",
    "from IPython.display import display"
   ]
  },
  {
   "cell_type": "code",
   "execution_count": 3,
   "metadata": {},
   "outputs": [
    {
     "name": "stdout",
     "output_type": "stream",
     "text": [
      "The procedure to generate a step-by-step description of how to perform a function by hand from its comments is as follows:\n",
      "    A. Check if the function object is any kind of function or method.\n",
      "        1. Extract the source code and initialize the comments list.\n",
      "        2. Split the source code to separate docstring and function body.\n",
      "            i) Clean the docstring part so that only the top one-sentence paragraph is included.\n",
      "            ii) Add this description header (with prefix) to the list.\n",
      "            iii) Extract the comments which are not debug statements and add them to the list (prefixed with Roman numerals).\n",
      "            iv) If there are any comments in the list, print its procedure description and comments on their own lines.\n"
     ]
    }
   ],
   "source": [
    "\n",
    "nu.describe_procedure(nu.describe_procedure)"
   ]
  },
  {
   "cell_type": "code",
   "execution_count": 2,
   "metadata": {},
   "outputs": [
    {
     "name": "stdout",
     "output_type": "stream",
     "text": [
      "The procedure to introspect a python module to discover available functions and classes programmatically is as follows:\n",
      "    A. Try to get the module object by first importing it.\n",
      "    B. Iterate over the attributes of the module, excluding standard and built-in modules.\n",
      "        1. Construct the full attribute name.\n",
      "        2. Evaluate the function or class.\n",
      "        3. Get evaluations of the object from the inspect library.\n",
      "        4. Recursively explore classes if specified.\n",
      "        5. Recursively explore modules if specified.\n",
      "    C. Apply filtering criteria if provided.\n",
      "    D. Return a sorted list of unique function calls.\n"
     ]
    }
   ],
   "source": [
    "\n",
    "nu.describe_procedure(nu.get_dir_tree)"
   ]
  },
  {
   "cell_type": "code",
   "execution_count": 2,
   "metadata": {},
   "outputs": [],
   "source": [
    "\n",
    "module_name = 'choropleth_utils'\n",
    "cu_functions = nu.get_dir_tree(module_name, recurse_modules=True, verbose=False)"
   ]
  },
  {
   "cell_type": "code",
   "execution_count": null,
   "metadata": {},
   "outputs": [],
   "source": [
    "\n",
    "module_name = 'nu'\n",
    "nu_functions = nu.get_dir_tree(module_name, function_calls=[], import_call='''\n",
    "from notebook_utils import NotebookUtilities\n",
    "nu = NotebookUtilities(\n",
    "    data_folder_path=osp.abspath(osp.join(os.pardir, 'data')),\n",
    "    saves_folder_path=osp.abspath(osp.join(os.pardir, 'saves'))\n",
    ")''', verbose=False)"
   ]
  },
  {
   "cell_type": "code",
   "execution_count": null,
   "metadata": {},
   "outputs": [],
   "source": [
    "\n",
    "import random\n",
    "\n",
    "random_function = eval(random.choice(nu_functions))\n",
    "nu.describe_procedure(random_function)"
   ]
  },
  {
   "cell_type": "code",
   "execution_count": 3,
   "metadata": {},
   "outputs": [],
   "source": [
    "\n",
    "random_py_file, random_function = nu.get_random_function(py_folder='../py', verbose=False)"
   ]
  },
  {
   "cell_type": "code",
   "execution_count": 4,
   "metadata": {},
   "outputs": [],
   "source": [
    "\n",
    "nu.describe_procedure(random_function)"
   ]
  },
  {
   "cell_type": "code",
   "execution_count": 12,
   "metadata": {},
   "outputs": [
    {
     "name": "stdout",
     "output_type": "stream",
     "text": [
      "['osp.relpath']\n"
     ]
    }
   ],
   "source": [
    "\n",
    "eval(str([f'{library_name}.{fn}' for fn in dir(library_name) if 'rel' in fn]))"
   ]
  },
  {
   "cell_type": "code",
   "execution_count": 12,
   "metadata": {},
   "outputs": [
    {
     "name": "stdout",
     "output_type": "stream",
     "text": [
      "['osp.relpath']\n"
     ]
    }
   ],
   "source": [
    "\n",
    "print([f'osp.{fn}' for fn in dir(osp) if 'rel' in fn])"
   ]
  },
  {
   "cell_type": "code",
   "execution_count": 26,
   "metadata": {},
   "outputs": [
    {
     "name": "stdout",
     "output_type": "stream",
     "text": [
      "C:\\Users\\daveb\\OneDrive\\Documents\\GitHub\\covid19\\py\\storage.py\n",
      "C:\\Users\\daveb\\OneDrive\\Documents\\GitHub\\gpt-stuff\\py\\storage.py\n",
      "C:\\Users\\daveb\\OneDrive\\Documents\\GitHub\\job-hunting\\py\\storage.py\n",
      "C:\\Users\\daveb\\OneDrive\\Documents\\GitHub\\mimetic_tribes\\py\\storage.py\n",
      "C:\\Users\\daveb\\OneDrive\\Documents\\GitHub\\MineCraft\\py\\storage.py\n",
      "C:\\Users\\daveb\\OneDrive\\Documents\\GitHub\\notebooks\\py\\storage.py\n",
      "C:\\Users\\daveb\\OneDrive\\Documents\\GitHub\\rpc\\py\\storage.py\n",
      "C:\\Users\\daveb\\OneDrive\\Documents\\GitHub\\technical-interview-challenges\\py\\storage.py\n",
      "C:\\Users\\daveb\\OneDrive\\Documents\\GitHub\\Wordle\\py\\storage.py\n"
     ]
    }
   ],
   "source": [
    "\n",
    "import glob\n",
    "\n",
    "# Use the glob function with a recursive pattern to remove all the storage.py files\n",
    "# in all the \"py\" folders in all the repo directories in the grandparent directory\n",
    "for file_path in [osp.abspath(f) for f in glob.glob('../../*/py/storage.py', recursive=True)]:\n",
    "    print(file_path)\n",
    "    # os.remove(file_path)"
   ]
  },
  {
   "cell_type": "code",
   "execution_count": null,
   "metadata": {},
   "outputs": [],
   "source": [
    "\n",
    "import inspect\n",
    "\n",
    "for cn in anova_df.columns:\n",
    "    if any(map(lambda x: cn.startswith(x), ['mean_', 'sum_'])):\n",
    "        function_call = 'fu.get_' + '_'.join(cn.split('_')[1:])\n",
    "        try:\n",
    "            nu.describe_procedure(eval(function_call))\n",
    "        except Exception as e:\n",
    "            print(function_call)"
   ]
  },
  {
   "cell_type": "code",
   "execution_count": 33,
   "metadata": {},
   "outputs": [
    {
     "name": "stdout",
     "output_type": "stream",
     "text": [
      "['os._get_exports_list', 'os.listdir']\n"
     ]
    }
   ],
   "source": [
    "\n",
    "print([f'os.{fn}' for fn in dir(os) if 'list' in fn])"
   ]
  },
  {
   "cell_type": "code",
   "execution_count": 35,
   "metadata": {},
   "outputs": [
    {
     "name": "stdout",
     "output_type": "stream",
     "text": [
      "C:\\Users\\daveb\\OneDrive\\Documents\\GitHub\\covid19\\ipynb\\OS Path Navigation.ipynb\n",
      "C:\\Users\\daveb\\OneDrive\\Documents\\GitHub\\itm-analysis-reporting-1\\ipynb\\OS Path Navigation.ipynb\n",
      "C:\\Users\\daveb\\OneDrive\\Documents\\GitHub\\job-hunting\\ipynb\\OS Path Navigation.ipynb\n",
      "C:\\Users\\daveb\\OneDrive\\Documents\\GitHub\\mimetic_tribes\\ipynb\\OS Path Navigation.ipynb\n",
      "C:\\Users\\daveb\\OneDrive\\Documents\\GitHub\\notebooks\\ipynb\\OS Path Navigation.ipynb\n",
      "C:\\Users\\daveb\\OneDrive\\Documents\\GitHub\\rpc\\ipynb\\OS Path Navigation.ipynb\n",
      "C:\\Users\\daveb\\OneDrive\\Documents\\GitHub\\StatsByCountry\\ipynb\\OS Path Navigation.ipynb\n",
      "C:\\Users\\daveb\\OneDrive\\Documents\\GitHub\\StatsByUSState\\ipynb\\OS Path Navigation.ipynb\n",
      "C:\\Users\\daveb\\OneDrive\\Documents\\GitHub\\Strauss-Howe\\ipynb\\OS Path Navigation.ipynb\n",
      "C:\\Users\\daveb\\OneDrive\\Documents\\GitHub\\transcriptions-notebook\\ipynb\\OS Path Navigation.ipynb\n"
     ]
    }
   ],
   "source": [
    "\n",
    "# Find all the OS Path Navigation notebook files in the ipynb folders of my repos\n",
    "pushables_list = nu.load_object('pushables_list')\n",
    "ipynb_paths = [osp.join(file_path, 'ipynb') for file_path in pushables_list]\n",
    "file_name = 'OS Path Navigation.ipynb'\n",
    "file_paths_list = []\n",
    "for parent_directory in ipynb_paths:\n",
    "    if osp.isdir(parent_directory):\n",
    "        for old_file_name in os.listdir(parent_directory):\n",
    "            if old_file_name == file_name:\n",
    "                old_file_path = os.path.join(parent_directory, old_file_name)\n",
    "                file_paths_list.append(old_file_path)\n",
    "for file_path in file_paths_list:\n",
    "    print(file_path)"
   ]
  },
  {
   "cell_type": "code",
   "execution_count": 27,
   "metadata": {},
   "outputs": [
    {
     "name": "stdout",
     "output_type": "stream",
     "text": [
      "['os._fspath', 'os.defpath', 'os.fspath', 'os.path', 'os.pathsep']\n",
      "[]\n",
      "C:\\Users\\daveb\\OneDrive\\Documents\\GitHub\n",
      "C:\\Users\\daveb\\OneDrive\\Documents\\GitHub\n",
      "C:\\Users\\daveb\\OneDrive\\Documents\\GitHub\n",
      "C:\\Users\\daveb\\OneDrive\\Documents\\GitHub\n"
     ]
    }
   ],
   "source": [
    "\n",
    "# Get the repositories directory by various means, with increasing conciseness\n",
    "print([f'os.{fn}' for fn in dir(os) if ('path' in fn) and (len(f'os.{fn}') < len('osp.abspath'))])\n",
    "print([f'osp.{fn}' for fn in dir(osp) if ('path' in fn) and (len(f'osp.{fn}') < len('osp.abspath'))])\n",
    "print(osp.abspath(osp.join(os.curdir, os.pardir, os.pardir)))\n",
    "print(osp.abspath(osp.join(nu.github_folder, os.pardir)))\n",
    "print(osp.dirname(osp.dirname(osp.abspath(os.curdir))))\n",
    "print(osp.dirname(nu.github_folder))"
   ]
  },
  {
   "cell_type": "code",
   "execution_count": 15,
   "metadata": {},
   "outputs": [],
   "source": [
    "\n",
    "# Find all the notebook files with the word \"color\" in their name\n",
    "black_list = ['.ipynb_checkpoints', '$Recycle.Bin']\n",
    "folder_path = '../../color/ipynb'\n",
    "ascii_regex = re.compile(r'[^A-Za-z0-9]+')\n",
    "file_ending = '.ipynb'\n",
    "file_paths_list = []\n",
    "for root_dir in ['C:\\\\', 'D:\\\\']:\n",
    "    for parent_directory, child_directories, files_list in os.walk(root_dir):\n",
    "        if all(map(lambda x: x not in parent_directory, black_list)):\n",
    "            for old_file_name in files_list:\n",
    "                if old_file_name.endswith(file_ending) and ('color' in old_file_name.lower()):\n",
    "                    old_file_path = os.path.join(parent_directory, old_file_name)\n",
    "                    file_paths_list.append(old_file_path)"
   ]
  },
  {
   "cell_type": "code",
   "execution_count": 24,
   "metadata": {},
   "outputs": [],
   "source": [
    "\n",
    "# Copy all the notebook files with the word \"color\" in their name to the color repo\n",
    "import shutil\n",
    "\n",
    "for old_file_path in file_paths_list:\n",
    "    new_file_name = ascii_regex.sub('_', osp.relpath(old_file_path, osp.abspath(folder_path)).replace(file_ending, '').lstrip('.\\\\')) + file_ending\n",
    "    new_file_path = osp.abspath(osp.join(folder_path, new_file_name))\n",
    "    shutil.copy(old_file_path, new_file_path)"
   ]
  },
  {
   "cell_type": "code",
   "execution_count": null,
   "metadata": {},
   "outputs": [],
   "source": []
  },
  {
   "cell_type": "code",
   "execution_count": 9,
   "metadata": {},
   "outputs": [
    {
     "name": "stdout",
     "output_type": "stream",
     "text": [
      "\n",
      "# Exclude everything except text-based OC or personal directories\n",
      "/*\n",
      "!/algorithms\n",
      "!/builders\n",
      "!/cell_techniques\n",
      "!/coin-analytics\n",
      "!/curve_fitting\n",
      "!/ipynb\n",
      "!/json\n",
      "!/library_exploration\n",
      "!/load_magic\n",
      "!/log\n",
      "!/maintenance\n",
      "!/mathematics\n",
      "!/programming_languages\n",
      "!/ps1\n",
      "!/py\n",
      "!/r_programming_language\n",
      "!/statistics\n",
      "!/tests\n",
      "!/text_manipulation\n",
      "!/visualizations\n",
      "!/wheels\n"
     ]
    }
   ],
   "source": [
    "\n",
    "print_strs_list = ['']\n",
    "print_strs_list.append('# Exclude everything except text-based OC or personal directories')\n",
    "print_strs_list.append('/*')\n",
    "github_folder = osp.dirname(osp.abspath(osp.curdir))\n",
    "# print(github_folder)\n",
    "\n",
    "# Get the list of all items in the parent folder and filter in only the directories\n",
    "black_list = ['.ipynb_checkpoints', '$Recycle.Bin', '.git', 'data', 'saves', '__pycache__', 'LEET-CODE']\n",
    "for parent_directory in os.listdir(github_folder):\n",
    "    if all(map(lambda x: x not in parent_directory, black_list)) and osp.isdir(osp.join(github_folder, parent_directory)):\n",
    "        print_strs_list.append(f'!/{parent_directory}')\n",
    "print('\\n'.join(print_strs_list))"
   ]
  },
  {
   "cell_type": "code",
   "execution_count": null,
   "metadata": {},
   "outputs": [],
   "source": [
    "\n",
    "file_path = '../data/txt/resume.txt'\n",
    "nu.open_path_in_notepad(file_path)"
   ]
  },
  {
   "cell_type": "code",
   "execution_count": null,
   "metadata": {},
   "outputs": [],
   "source": [
    "\n",
    "black_list = ['.ipynb_checkpoints', '$Recycle.Bin']\n",
    "# walk_folder = osp.dirname(nu.github_folder)\n",
    "for parent_directory, child_directories, files_list in os.walk('C:\\\\'):\n",
    "    if all(map(lambda x: x not in parent_directory, black_list)):\n",
    "        for file_name in files_list:\n",
    "            if ('hair' in file_name):\n",
    "                file_path = osp.join(parent_directory, file_name)\n",
    "                print(file_path)"
   ]
  },
  {
   "cell_type": "code",
   "execution_count": 4,
   "metadata": {},
   "outputs": [
    {
     "name": "stdout",
     "output_type": "stream",
     "text": [
      "C:\\Users\\daveb\\OneDrive\\Documents\\Babbitt Stuff\\Jay_s Junk\\Jay-Babbitt_Resume.docx\n",
      "C:\\Users\\daveb\\OneDrive\\Documents\\Google Drive\\Other\\Job Hunting\\Dave_Babbitt_Resume (1).docx\n",
      "C:\\Users\\daveb\\OneDrive\\Documents\\Google Drive\\Other\\Job Hunting\\Dave_Babbitt_Resume.docx\n",
      "C:\\Users\\daveb\\OneDrive\\Documents\\Google Drive\\Other\\Job Hunting\\Dave_Babbitt_Resume_Cold_Fusion_Developer.docx\n",
      "C:\\Users\\daveb\\OneDrive\\Documents\\Google Drive\\Other\\Job Hunting\\Dave_Babbitt_Resume_Delivery_Driver.docx\n",
      "C:\\Users\\daveb\\OneDrive\\Documents\\Google Drive\\Other\\Job Hunting\\Dave_Babbitt_Resume_Jr._Java_Developer.docx\n",
      "C:\\Users\\daveb\\OneDrive\\Documents\\Google Drive\\Other\\Job Hunting\\Dave_Babbitt_Resume_Predictive_Analyst.docx\n",
      "C:\\Users\\daveb\\OneDrive\\Documents\\Google Drive\\Other\\Job Hunting\\Dave_Babbitt_Resume_QA_Tester.docx\n",
      "C:\\Users\\daveb\\OneDrive\\Documents\\Google Drive\\Other\\Job Hunting\\Dave_Babbitt_Resume_Reactor_Operator.docx\n",
      "C:\\Users\\daveb\\OneDrive\\Documents\\Google Drive\\Other\\Job Hunting\\Dave_Babbitt_Resume_Research_Analyst.docx\n",
      "C:\\Users\\daveb\\OneDrive\\Documents\\Google Drive\\School\\Predictive Analytics\\Dave_Babbitt_Resume.docx\n",
      "C:\\Users\\daveb\\OneDrive\\Documents\\Google Drive\\Work\\Job Hunting\\Dave_Babbitt_Resume_Predictive_Analyst.docx\n",
      "C:\\Users\\daveb\\OneDrive\\Documents\\Google Drive\\Work\\Job Hunting\\Dave_Babbitt_Resume_Web_Developer.docx\n",
      "C:\\Users\\daveb\\OneDrive\\Documents\\Job Hunting\\Old Resumes\\Dave Babbitt - Tailored Resume for CVS Health Senior Data Scientist Position.docx\n",
      "C:\\Users\\daveb\\OneDrive\\Documents\\Job Hunting\\Old Resumes\\Dave_Babbitt_Resume_Associate_Operations_Research_Engineer.docx\n",
      "C:\\Users\\daveb\\OneDrive\\Documents\\Job Hunting\\Old Resumes\\Dave_Babbitt_Resume_Data_Scientist.docx\n",
      "C:\\Users\\daveb\\OneDrive\\Documents\\Job Hunting\\Old Resumes\\Dave_Babbitt_Resume_Data_Scientist_or_Sr._Data Scientist.docx\n",
      "C:\\Users\\daveb\\OneDrive\\Documents\\Job Hunting\\Old Resumes\\Dave_Babbitt_Resume_Jr_Data_Scientist.docx\n",
      "C:\\Users\\daveb\\OneDrive\\Documents\\Job Hunting\\Old Resumes\\Dave_Babbitt_Resume_Machine_Learning_Engineer.docx\n",
      "C:\\Users\\daveb\\OneDrive\\Documents\\Job Hunting\\Old Resumes\\Dave_Babbitt_Resume_Predictive_Analyst.docx\n",
      "C:\\Users\\daveb\\OneDrive\\Documents\\Job Hunting\\Old Resumes\\hha_resume.docx\n",
      "C:\\Users\\daveb\\OneDrive\\Documents\\Job Hunting\\Old Resumes\\hha_resume.html.docx\n",
      "C:\\Users\\daveb\\OneDrive\\Documents\\Job Hunting\\Old Resumes\\Machine Learning Resume.docx\n",
      "C:\\Users\\daveb\\OneDrive\\Documents\\Job Hunting\\Old Resumes\\resume_header.docx\n"
     ]
    }
   ],
   "source": [
    "\n",
    "for parent_directory, child_directories, files_list in os.walk('C:\\\\'):\n",
    "    for file_name in files_list:\n",
    "        if file_name.endswith('.docx') and ('resume' in file_name.lower()):\n",
    "            file_path = osp.join(parent_directory, file_name)\n",
    "            if osp.isfile(file_path):\n",
    "                print(f'{file_path}')"
   ]
  },
  {
   "cell_type": "code",
   "execution_count": 13,
   "metadata": {},
   "outputs": [],
   "source": [
    "\n",
    "# Get a list of rogue functions already in scraping utilities\n",
    "scraping_utils_set = nu.get_utility_file_functions(util_path='../py/scraping_utils.py')\n",
    "\n",
    "# Make a set of rogue su functions\n",
    "fn_regex = re.compile(r'\\s+\"def ([a-z0-9_]+)\\(')\n",
    "black_list = ['.ipynb_checkpoints', '$Recycle.Bin']\n",
    "rows_list = []\n",
    "walk_folder = osp.dirname(osp.abspath(osp.curdir))\n",
    "rogue_su_fns_set = set()\n",
    "for parent_directory, child_directories, files_list in os.walk(walk_folder):\n",
    "    if all(map(lambda x: x not in parent_directory, black_list)):\n",
    "        for file_name in files_list:\n",
    "            if file_name.endswith('.ipynb'):\n",
    "                file_path = osp.join(parent_directory, file_name)\n",
    "                with open(file_path, 'r', encoding='utf-8') as f:\n",
    "                    lines_list = f.readlines()\n",
    "                    for line in lines_list:\n",
    "                        match_obj = fn_regex.search(line)\n",
    "                        if match_obj:\n",
    "                            fn = match_obj.group(1)\n",
    "                            if fn in scraping_utils_set: rogue_su_fns_set.add(fn)\n",
    "if rogue_su_fns_set:\n",
    "    print(f'Search for *.ipynb; file masks in the {walk_folder} folder for this pattern:')\n",
    "    print('\\\\s+\"def (' + '|'.join(rogue_su_fns_set) + ')\\(')\n",
    "    print('Replace each of the calls to these definitions with calls the the su. equivalent (and delete the definitions).')"
   ]
  },
  {
   "cell_type": "code",
   "execution_count": 12,
   "metadata": {},
   "outputs": [],
   "source": [
    "\n",
    "# Get a list of multi-notebook functions as notebook utilities candidates\n",
    "fn_regex = re.compile(r'\\s+\"def ([a-z0-9_]+)\\(')\n",
    "black_list = ['.ipynb_checkpoints', '$Recycle.Bin']\n",
    "rows_list = []\n",
    "walk_folder = osp.dirname(osp.abspath(osp.curdir))\n",
    "for parent_directory, child_directories, files_list in os.walk(walk_folder):\n",
    "    if all(map(lambda x: x not in parent_directory, black_list)):\n",
    "        for file_name in files_list:\n",
    "            if file_name.endswith('.ipynb'):\n",
    "                file_path = osp.join(parent_directory, file_name)\n",
    "                with open(file_path, 'r', encoding='utf-8') as f:\n",
    "                    lines_list = f.readlines()\n",
    "                    fns_set = set()\n",
    "                    for line in lines_list:\n",
    "                        match_obj = fn_regex.search(line)\n",
    "                        if match_obj:\n",
    "                            fn = match_obj.group(1)\n",
    "                            fns_set.add(fn)\n",
    "                    for fn in fns_set:\n",
    "                        row_dict = {}\n",
    "                        row_dict['file_name'] = file_name\n",
    "                        row_dict['function_name'] = fn\n",
    "                        rows_list.append(row_dict)\n",
    "function_names_df = pd.DataFrame(rows_list)\n",
    "df = function_names_df.groupby('function_name').count().sort_values('file_name', ascending=False)\n",
    "mask_series = (df.file_name > 1) & df.index.map(lambda x: len(x) > 4)\n",
    "fns_list = df[mask_series].index.tolist()\n",
    "if fns_list:\n",
    "    print(f'Search for *.ipynb; file masks in the {walk_folder} folder for this pattern:')\n",
    "    print('\\\\s+\"def (' + '|'.join(fns_list) + ')\\(')\n",
    "    print('Find a way to get rid of these definition duplicates.')"
   ]
  },
  {
   "cell_type": "code",
   "execution_count": 7,
   "metadata": {},
   "outputs": [
    {
     "name": "stdout",
     "output_type": "stream",
     "text": [
      "D:\\\\Geek Squad Data Backup\\HDD\\Documents\\GitHub\\notebooks_old\\political_triangle\\svg\\nick_land_comments.svg\n",
      "D:\\\\Geek Squad Data Backup\\HDD\\Documents\\GitHub\\notebooks_old\\political_triangle\\svg\\nick_land_comments_copy.svg\n",
      "D:\\\\Geek Squad Data Backup\\HDD\\Documents\\GitHub\\notebooks_old\\political_triangle\\svg\\nick_land_comments_optimized.svg\n",
      "D:\\\\Geek Squad Data Backup\\HDD\\Documents\\GitHub\\notebooks_old\\political_triangle\\svg\\nick_land_comments_plain.svg\n",
      "D:\\\\Geek Squad Data Backup\\HDD\\Documents\\GitHub\\notebooks_old\\political_triangle\\svg\\.ipynb_checkpoints\\nick_land_comments_optimized-checkpoint.svg\n"
     ]
    }
   ],
   "source": [
    "\n",
    "import os\n",
    "\n",
    "for parent_directory, child_directories, files_list in os.walk(r'D:\\\\'):\n",
    "    for file_name in files_list:\n",
    "        if file_name.endswith('.svg'):\n",
    "            file_path = osp.join(parent_directory, file_name)\n",
    "            if osp.isfile(file_path):\n",
    "                with open(file_path, 'r', errors='ignore') as file:\n",
    "                    data = file.read()\n",
    "                    if 'Retarded' in data:\n",
    "                        print(f'{file_path}')"
   ]
  },
  {
   "cell_type": "code",
   "execution_count": null,
   "metadata": {},
   "outputs": [],
   "source": []
  },
  {
   "cell_type": "code",
   "execution_count": null,
   "metadata": {},
   "outputs": [],
   "source": []
  }
 ],
 "metadata": {
  "kernelspec": {
   "display_name": "Python 3 (ipykernel)",
   "language": "python",
   "name": "python3"
  },
  "language_info": {
   "codemirror_mode": {
    "name": "ipython",
    "version": 3
   },
   "file_extension": ".py",
   "mimetype": "text/x-python",
   "name": "python",
   "nbconvert_exporter": "python",
   "pygments_lexer": "ipython3",
   "version": "3.12.7"
  }
 },
 "nbformat": 4,
 "nbformat_minor": 4
}
