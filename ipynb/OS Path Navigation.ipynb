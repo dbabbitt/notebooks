{
 "cells": [
  {
   "cell_type": "raw",
   "metadata": {},
   "source": [
    "\n",
    "PS C:\\Users\\daveb> flake8-nb --notebook-cell-format 'In[{code_cell_count}]' --ignore=E231,E303,E401,E402,E501,E701,E702 \"C:\\Users\\daveb\\OneDrive\\Documents\\GitHub\\notebooks\\ipynb\\OS Path Navigation.ipynb\"\n",
    "PS C:\\Users\\daveb>"
   ]
  },
  {
   "cell_type": "code",
   "execution_count": 1,
   "metadata": {},
   "outputs": [
    {
     "name": "stdout",
     "output_type": "stream",
     "text": [
      "Pretty printing has been turned OFF\n",
      "\\b(BaseConfig|SequenceAnalysis|Series|__builtins__|__cached__|__doc__|__file__|__loader__|__name__|__package__|__spec__|display|makedirs|np|os|osp|pd|plt|sub)\\b\n"
     ]
    }
   ],
   "source": [
    "\n",
    "# Set up notebook\n",
    "%pprint\n",
    "%matplotlib inline\n",
    "import sys\n",
    "import os.path as osp, os as os\n",
    "\n",
    "executable_path = sys.executable\n",
    "scripts_folder = osp.join(osp.dirname(executable_path), 'Scripts'); assert osp.exists(scripts_folder)\n",
    "py_folder = osp.abspath(osp.join(os.pardir, 'py')); assert osp.exists(py_folder), \"Create the py folder\"\n",
    "ffmpeg_folder = r'C:\\ffmpeg\\bin'; assert osp.exists(ffmpeg_folder)\n",
    "shared_folder = osp.abspath(osp.join(os.pardir, 'share')); assert osp.exists(shared_folder)\n",
    "\n",
    "if (scripts_folder not in sys.path): sys.path.insert(1, scripts_folder)\n",
    "if (py_folder not in sys.path): sys.path.insert(1, py_folder)\n",
    "if (ffmpeg_folder not in sys.path): sys.path.insert(1, ffmpeg_folder)\n",
    "if shared_folder not in sys.path: sys.path.insert(1, shared_folder)\n",
    "\n",
    "from notebook_utils import NotebookUtilities\n",
    "nu = NotebookUtilities(\n",
    "    data_folder_path=osp.abspath(osp.join(os.pardir, 'data')),\n",
    "    saves_folder_path=osp.abspath(osp.join(os.pardir, 'saves'))\n",
    ")\n",
    "nu.delete_ipynb_checkpoint_folders()\n",
    "\n",
    "# Import needed libraries\n",
    "import re\n",
    "import pandas as pd\n",
    "import pyperclip\n",
    "import ipywidgets as widgets\n",
    "from IPython.display import display\n",
    "import inspect"
   ]
  },
  {
   "cell_type": "code",
   "execution_count": 3,
   "metadata": {},
   "outputs": [
    {
     "data": {
      "image/png": "[encoded data removed]",
      "text/plain": [
       "<Figure size 420x180 with 1 Axes>"
      ]
     },
     "metadata": {},
     "output_type": "display_data"
    }
   ],
   "source": [
    "\n",
    "# Create a standard sequence plot where each element corresponds to a position on the y-axis\n",
    "import matplotlib.pyplot as plt\n",
    "import random\n",
    "\n",
    "# Define the sequence of user actions\n",
    "sequence = [\"SESSION_START\", \"LOGIN\", \"VIEW_PRODUCT\"]\n",
    "\n",
    "# Generate more shopping elements\n",
    "for _ in range(9):\n",
    "    if sequence[-1] != 'ADD_TO_CART':\n",
    "        sequence.append(random.choice(['VIEW_PRODUCT', 'ADD_TO_CART']))\n",
    "    else:\n",
    "        sequence.append('VIEW_PRODUCT')\n",
    "\n",
    "# Finish up the shopping\n",
    "sequence += [\"LOGOUT\", \"SESSION_END\"]\n",
    "\n",
    "# Define n-grams to highlight\n",
    "highlighted_ngrams = [[\"VIEW_PRODUCT\", \"ADD_TO_CART\"]]\n",
    "\n",
    "# Define a custom color dictionary for the actions\n",
    "color_dict = {\n",
    "    \"SESSION_START\": \"green\",\n",
    "    \"LOGIN\": \"blue\",\n",
    "    \"VIEW_PRODUCT\": \"orange\",\n",
    "    \"ADD_TO_CART\": \"purple\",\n",
    "    \"LOGOUT\": \"red\",\n",
    "    \"SESSION_END\": \"black\"\n",
    "}\n",
    "\n",
    "# Plot the sequence\n",
    "fig, ax = nu.plot_sequence(\n",
    "    sequence=sequence,\n",
    "    highlighted_ngrams=highlighted_ngrams,\n",
    "    color_dict=color_dict,\n",
    "    suptitle=\"User Session Sequence\",\n",
    "    verbose=False\n",
    ")\n",
    "\n",
    "# Show the plot\n",
    "plt.show()"
   ]
  },
  {
   "cell_type": "code",
   "execution_count": 7,
   "metadata": {},
   "outputs": [
    {
     "data": {
      "text/plain": [
       "['ADD_TO_CART', 'ADD_TO_CART', 'VIEW_PRODUCT', 'ADD_TO_CART', 'ADD_TO_CART', 'ADD_TO_CART', 'ADD_TO_CART', 'ADD_TO_CART', 'ADD_TO_CART']"
      ]
     },
     "execution_count": 7,
     "metadata": {},
     "output_type": "execute_result"
    }
   ],
   "source": [
    "\n",
    "import random\n",
    "\n",
    "random.choices(['ADD_TO_CART', 'VIEW_PRODUCT'], k=9)"
   ]
  },
  {
   "cell_type": "code",
   "execution_count": 62,
   "metadata": {},
   "outputs": [
    {
     "data": {
      "text/plain": [
       "['C:\\\\Users\\\\daveb\\\\OneDrive\\\\Documents\\\\GitHub\\\\MineCraft\\\\load_magic\\\\s_dir.txt', 'C:\\\\Users\\\\daveb\\\\OneDrive\\\\Documents\\\\GitHub\\\\notebooks\\\\load_magic\\\\s_dir.txt', 'C:\\\\Users\\\\daveb\\\\OneDrive\\\\Documents\\\\GitHub\\\\rpc\\\\load_magic\\\\s_dir.txt', 'C:\\\\Users\\\\daveb\\\\OneDrive\\\\Documents\\\\GitHub\\\\Strauss-Howe\\\\load_magic\\\\s_dir.txt', 'C:\\\\Users\\\\daveb\\\\OneDrive\\\\Documents\\\\GitHub\\\\Twitter\\\\load_magic\\\\s_dir.txt']"
      ]
     },
     "execution_count": 62,
     "metadata": {},
     "output_type": "execute_result"
    }
   ],
   "source": [
    "\n",
    "# Standardize all the various load magics in the GitHub folder\n",
    "from itertools import combinations\n",
    "import subprocess\n",
    "import glob\n",
    "\n",
    "paths_list = [osp.abspath(f) for f in glob.glob('../../*/load_magic/s_dir.txt', recursive=True)]\n",
    "paths_list"
   ]
  },
  {
   "cell_type": "code",
   "execution_count": 56,
   "metadata": {},
   "outputs": [],
   "source": [
    "\n",
    "# Get all unique pairs (order doesn't matter)\n",
    "pairs = combinations(paths_list, 2)\n",
    "\n",
    "# Iterate through pairs and compare them\n",
    "comparator_path = r\"C:\\Program Files (x86)\\Compare It!\\wincmp3.exe\"\n",
    "for pair in pairs:\n",
    "    # print(pair)\n",
    "    subprocess.run([comparator_path, pair[0], pair[1]])"
   ]
  },
  {
   "cell_type": "code",
   "execution_count": 63,
   "metadata": {},
   "outputs": [
    {
     "name": "stdout",
     "output_type": "stream",
     "text": [
      "C:\\Users\\daveb\\OneDrive\\Documents\\GitHub\\MineCraft\\load_magic\\s_dir.txt\n",
      "C:\\Users\\daveb\\OneDrive\\Documents\\GitHub\\notebooks\\load_magic\\s_dir.txt\n",
      "C:\\Users\\daveb\\OneDrive\\Documents\\GitHub\\rpc\\load_magic\\s_dir.txt\n",
      "C:\\Users\\daveb\\OneDrive\\Documents\\GitHub\\Strauss-Howe\\load_magic\\s_dir.txt\n",
      "C:\\Users\\daveb\\OneDrive\\Documents\\GitHub\\Twitter\\load_magic\\s_dir.txt\n"
     ]
    }
   ],
   "source": [
    "\n",
    "for file_path in paths_list:\n",
    "    print(file_path)\n",
    "    os.remove(file_path)"
   ]
  },
  {
   "cell_type": "code",
   "execution_count": 35,
   "metadata": {},
   "outputs": [
    {
     "name": "stdout",
     "output_type": "stream",
     "text": [
      "C:\\Users\\daveb\\OneDrive\\Documents\\GitHub\\covid19\\ipynb\\OS Path Navigation.ipynb\n",
      "C:\\Users\\daveb\\OneDrive\\Documents\\GitHub\\itm-analysis-reporting-1\\ipynb\\OS Path Navigation.ipynb\n",
      "C:\\Users\\daveb\\OneDrive\\Documents\\GitHub\\job-hunting\\ipynb\\OS Path Navigation.ipynb\n",
      "C:\\Users\\daveb\\OneDrive\\Documents\\GitHub\\mimetic_tribes\\ipynb\\OS Path Navigation.ipynb\n",
      "C:\\Users\\daveb\\OneDrive\\Documents\\GitHub\\notebooks\\ipynb\\OS Path Navigation.ipynb\n",
      "C:\\Users\\daveb\\OneDrive\\Documents\\GitHub\\rpc\\ipynb\\OS Path Navigation.ipynb\n",
      "C:\\Users\\daveb\\OneDrive\\Documents\\GitHub\\StatsByCountry\\ipynb\\OS Path Navigation.ipynb\n",
      "C:\\Users\\daveb\\OneDrive\\Documents\\GitHub\\StatsByUSState\\ipynb\\OS Path Navigation.ipynb\n",
      "C:\\Users\\daveb\\OneDrive\\Documents\\GitHub\\Strauss-Howe\\ipynb\\OS Path Navigation.ipynb\n",
      "C:\\Users\\daveb\\OneDrive\\Documents\\GitHub\\transcriptions-notebook\\ipynb\\OS Path Navigation.ipynb\n"
     ]
    }
   ],
   "source": [
    "\n",
    "# Find all the OS Path Navigation notebooks in the ipynb folders of my repos\n",
    "pushables_list = nu.load_object('pushables_list')\n",
    "ipynb_paths = [osp.join(file_path, 'ipynb') for file_path in pushables_list]\n",
    "file_name = 'OS Path Navigation.ipynb'\n",
    "file_paths_list = []\n",
    "for parent_directory in ipynb_paths:\n",
    "    if osp.isdir(parent_directory):\n",
    "        for old_file_name in os.listdir(parent_directory):\n",
    "            if old_file_name == file_name:\n",
    "                old_file_path = os.path.join(parent_directory, old_file_name)\n",
    "                file_paths_list.append(old_file_path)\n",
    "for file_path in file_paths_list:\n",
    "    print(file_path)"
   ]
  },
  {
   "cell_type": "code",
   "execution_count": 4,
   "metadata": {},
   "outputs": [
    {
     "data": {
      "text/plain": [
       "['nu.encode', 'nu.encoding_error', 'nu.encoding_errors_list', 'nu.encoding_type', 'nu.encoding_types_list', 'nu.one_hot_encode']"
      ]
     },
     "execution_count": 4,
     "metadata": {},
     "output_type": "execute_result"
    }
   ],
   "source": [
    "\n",
    "[f'nu.{fn}' for fn in dir(nu) if 'encod' in fn]"
   ]
  },
  {
   "cell_type": "code",
   "execution_count": 6,
   "metadata": {},
   "outputs": [
    {
     "data": {
      "text/plain": [
       "set()"
      ]
     },
     "execution_count": 6,
     "metadata": {},
     "output_type": "execute_result"
    }
   ],
   "source": [
    "\n",
    "set([f'nu.{fn}' for fn in dir(nu.uncategorized) if any(map(lambda x: x in fn, ['folder', 'dir']))]).difference(\n",
    "    set([f'nu.{fn}' for fn in dir(nu) if any(map(lambda x: x in fn, ['folder', 'dir']))])\n",
    ")"
   ]
  },
  {
   "cell_type": "code",
   "execution_count": 7,
   "metadata": {},
   "outputs": [
    {
     "data": {
      "text/plain": [
       "{'nu.list_dfs_in_folder', 'nu.delete_ipynb_checkpoint_folders', 'nu.get_dir_tree'}"
      ]
     },
     "execution_count": 7,
     "metadata": {},
     "output_type": "execute_result"
    }
   ],
   "source": [
    "\n",
    "set([f'nu.{fn}' for fn in dir(nu) if any(map(lambda x: x in fn, ['folder', 'dir']))]).difference(\n",
    "    set([f'nu.{fn}' for fn in dir(nu.uncategorized) if any(map(lambda x: x in fn, ['folder', 'dir']))])\n",
    ")"
   ]
  },
  {
   "cell_type": "code",
   "execution_count": 8,
   "metadata": {},
   "outputs": [
    {
     "data": {
      "text/plain": [
       "['__add__', '__class__', '__contains__', '__delattr__', '__dict__', '__dir__', '__doc__', '__eq__', '__format__', '__ge__', '__getattr__', '__getattribute__', '__getitem__', '__getnewargs__', '__getstate__', '__gt__', '__hash__', '__init__', '__init_subclass__', '__iter__', '__le__', '__len__', '__lt__', '__mod__', '__module__', '__mul__', '__ne__', '__new__', '__reduce__', '__reduce_ex__', '__repr__', '__rmod__', '__rmul__', '__setattr__', '__sizeof__', '__str__', '__subclasshook__', '__weakref__', 'add_staticmethod_decorations', 'anaconda_folder', 'apply_multilevel_numbering', 'attempt_to_pickle', 'bin_folder', 'cache_folder', 'capitalize', 'casefold', 'center', 'check_4_doubles', 'check_for_typos', 'color_distance_from', 'comment_regex', 'compute_similarity', 'conjunctify_nouns', 'convert_strings_to_integers', 'convert_to_data_frame', 'convert_to_df', 'count', 'count_ngrams', 'count_swaps_to_perfect_order', 'csv_exists', 'data_analysis', 'data_csv_folder', 'data_folder', 'data_models_folder', 'data_preparation', 'data_validation', 'db_folder', 'decoding_error', 'decoding_errors_list', 'decoding_type', 'decoding_types_list', 'delete_ipynb_checkpoint_folders', 'describe_procedure', 'download_file', 'encode', 'encoding_error', 'encoding_errors_list', 'encoding_type', 'encoding_types_list', 'endswith', 'ensure_module_installed', 'expandtabs', 'extract_comments', 'facebook_aspect_ratio', 'file_operations', 'filepath_regex', 'find', 'first_order_linear_scatterplot', 'float_to_ratio', 'format', 'format_map', 'format_timedelta', 'get_all_directories_containing', 'get_all_directories_named', 'get_alphabet', 'get_color_cycled_list', 'get_color_cycler', 'get_column_descriptions', 'get_coordinates', 'get_dir_tree', 'get_euclidean_distance', 'get_evaluations', 'get_filename_from_url', 'get_first_year_element', 'get_flattened_dictionary', 'get_function_file_path', 'get_function_in_its_class', 'get_git_lfs_track_commands', 'get_inf_nan_mask', 'get_jitter_list', 'get_library_names', 'get_minority_combinations', 'get_ndistinct_subsequences', 'get_nearest_neighbor', 'get_notebook_functions_dictionary', 'get_notebook_functions_set', 'get_numbered_text', 'get_numeric_columns', 'get_page_soup', 'get_page_tables', 'get_r_squared_value_latex', 'get_random_function', 'get_random_py_file', 'get_random_subdictionary', 'get_regexed_columns', 'get_regexed_dataframe', 'get_relative_position', 'get_sequences_by_count', 'get_shape', 'get_spearman_rho_value_latex', 'get_specific_gitignore_files', 'get_statistics', 'get_style_column', 'get_td_parent', 'get_text_color', 'get_top_level_folder_paths', 'get_turbulence', 'get_utility_file_functions', 'get_wiki_infobox_data_frame', 'get_wiki_tables', 'github_folder', 'graphs_folder', 'index', 'indices_folder', 'instance_defs_regex', 'ipynb_defs_regex', 'isalnum', 'isalpha', 'isascii', 'isdecimal', 'isdigit', 'isidentifier', 'islower', 'isnumeric', 'isprintable', 'isspace', 'istitle', 'isupper', 'join', 'list_dfs_in_folder', 'ljust', 'load_csv', 'load_data_frames', 'load_object', 'lower', 'lower_ascii_regex', 'lstrip', 'maketrans', 'modalize_columns', 'modify_inkscape_labels', 'object_evaluators', 'one_hot_encode', 'open_path_in_notepad', 'partition', 'pickle_exists', 'pip_command_str', 'plot_grouped_box_and_whiskers', 'plot_grouped_pie_chart', 'plot_histogram', 'plot_inauguration_age', 'plot_line_with_error_bars', 'plot_right_circles', 'plot_semantic_distances_dendogram', 'plot_sequence', 'plot_sequences', 'print_all_files_ending_starting_with', 'print_all_files_ending_with', 'print_all_files_starting_with', 'rebalance_data', 'remove_empty_folders', 'removeprefix', 'removesuffix', 'replace', 'replace_consecutive_elements', 'replace_consecutive_rows', 'rfind', 'rindex', 'rjust', 'rpartition', 'rsplit', 'rstrip', 'save_data_frames', 'saves_csv_folder', 'saves_folder', 'saves_mp3_folder', 'saves_pickle_folder', 'saves_png_folder', 'saves_text_folder', 'saves_wav_folder', 'scripts_folder', 'self_regex', 'show_dupl_fn_defs_search_string', 'show_duplicated_util_fns_search_string', 'show_subgraph', 'show_time_statistics', 'simple_defs_regex', 'split', 'split_df_by_iloc', 'split_df_by_indices', 'split_list_by_exclusion', 'split_list_by_gap', 'splitlines', 'standard_lib_modules', 'startswith', 'store_objects', 'strip', 'swapcase', 'title', 'translate', 'twitter_aspect_ratio', 'txt_folder', 'uncategorized', 'update_modules_list', 'upper', 'url_regex', 'zfill']"
      ]
     },
     "execution_count": 8,
     "metadata": {},
     "output_type": "execute_result"
    }
   ],
   "source": [
    "\n",
    "nu.__dir__()"
   ]
  },
  {
   "cell_type": "code",
   "execution_count": 20,
   "metadata": {},
   "outputs": [
    {
     "data": {
      "text/plain": [
       "'C:\\\\Users\\\\daveb\\\\OneDrive\\\\Documents\\\\GitHub\\\\share\\\\requirements.txt'"
      ]
     },
     "execution_count": 20,
     "metadata": {},
     "output_type": "execute_result"
    }
   ],
   "source": [
    "\n",
    "# Show the requirements.txt path\n",
    "osp.abspath(osp.join(nu.github_folder, os.pardir, 'share', 'requirements.txt'))"
   ]
  },
  {
   "cell_type": "code",
   "execution_count": 33,
   "metadata": {},
   "outputs": [
    {
     "name": "stdout",
     "output_type": "stream",
     "text": [
      "['os._get_exports_list', 'os.listdir']\n"
     ]
    }
   ],
   "source": [
    "\n",
    "print([f'os.{fn}' for fn in dir(os) if 'list' in fn])"
   ]
  },
  {
   "cell_type": "code",
   "execution_count": 27,
   "metadata": {},
   "outputs": [
    {
     "name": "stdout",
     "output_type": "stream",
     "text": [
      "['os._fspath', 'os.defpath', 'os.fspath', 'os.path', 'os.pathsep']\n",
      "[]\n",
      "C:\\Users\\daveb\\OneDrive\\Documents\\GitHub\n",
      "C:\\Users\\daveb\\OneDrive\\Documents\\GitHub\n",
      "C:\\Users\\daveb\\OneDrive\\Documents\\GitHub\n",
      "C:\\Users\\daveb\\OneDrive\\Documents\\GitHub\n"
     ]
    }
   ],
   "source": [
    "\n",
    "# Get the repositories directory by various means, with increasing conciseness\n",
    "print([f'os.{fn}' for fn in dir(os) if ('path' in fn) and (len(f'os.{fn}') < len('osp.abspath'))])\n",
    "print([f'osp.{fn}' for fn in dir(osp) if ('path' in fn) and (len(f'osp.{fn}') < len('osp.abspath'))])\n",
    "print(osp.abspath(osp.join(os.curdir, os.pardir, os.pardir)))\n",
    "print(osp.abspath(osp.join(nu.github_folder, os.pardir)))\n",
    "print(osp.dirname(osp.dirname(osp.abspath(os.curdir))))\n",
    "print(osp.dirname(nu.github_folder))"
   ]
  },
  {
   "cell_type": "code",
   "execution_count": 15,
   "metadata": {},
   "outputs": [],
   "source": [
    "\n",
    "# Find all the notebooks with the word \"color\" in their file name\n",
    "black_list = ['.ipynb_checkpoints', '$Recycle.Bin']\n",
    "folder_path = '../../color/ipynb'\n",
    "ascii_regex = re.compile(r'[^A-Za-z0-9]+')\n",
    "file_ending = '.ipynb'\n",
    "file_paths_list = []\n",
    "for root_dir in ['C:\\\\', 'D:\\\\']:\n",
    "    for parent_directory, child_directories, files_list in os.walk(root_dir):\n",
    "        if all(map(lambda x: x not in parent_directory, black_list)):\n",
    "            for old_file_name in files_list:\n",
    "                if old_file_name.endswith(file_ending) and ('color' in old_file_name.lower()):\n",
    "                    old_file_path = os.path.join(parent_directory, old_file_name)\n",
    "                    file_paths_list.append(old_file_path)"
   ]
  },
  {
   "cell_type": "code",
   "execution_count": 24,
   "metadata": {},
   "outputs": [],
   "source": [
    "\n",
    "# Copy all the notebook files with the word \"color\" in their name to the color repo\n",
    "import shutil\n",
    "\n",
    "for old_file_path in file_paths_list:\n",
    "    new_file_name = ascii_regex.sub('_', osp.relpath(old_file_path, osp.abspath(folder_path)).replace(file_ending, '').lstrip('.\\\\')) + file_ending\n",
    "    new_file_path = osp.abspath(osp.join(folder_path, new_file_name))\n",
    "    # shutil.copy(old_file_path, new_file_path)"
   ]
  },
  {
   "cell_type": "code",
   "execution_count": null,
   "metadata": {},
   "outputs": [],
   "source": [
    "\n",
    "# Open a file with a relative path in Notepad++\n",
    "file_path = '../data/txt/resume.txt'\n",
    "nu.open_path_in_notepad(file_path)"
   ]
  },
  {
   "cell_type": "code",
   "execution_count": null,
   "metadata": {},
   "outputs": [],
   "source": [
    "\n",
    "# Show the location of all the files with \"hair\" in the name\n",
    "black_list = ['.ipynb_checkpoints', '$Recycle.Bin']\n",
    "# walk_folder = osp.dirname(nu.github_folder)\n",
    "for parent_directory, child_directories, files_list in os.walk('C:\\\\'):\n",
    "    if all(map(lambda x: x not in parent_directory, black_list)):\n",
    "        for file_name in files_list:\n",
    "            if ('hair' in file_name):\n",
    "                file_path = osp.join(parent_directory, file_name)\n",
    "                print(file_path)"
   ]
  },
  {
   "cell_type": "code",
   "execution_count": 4,
   "metadata": {},
   "outputs": [
    {
     "name": "stdout",
     "output_type": "stream",
     "text": [
      "C:\\Users\\daveb\\OneDrive\\Documents\\Babbitt Stuff\\Jay_s Junk\\Jay-Babbitt_Resume.docx\n",
      "C:\\Users\\daveb\\OneDrive\\Documents\\Google Drive\\Other\\Job Hunting\\Dave_Babbitt_Resume (1).docx\n",
      "C:\\Users\\daveb\\OneDrive\\Documents\\Google Drive\\Other\\Job Hunting\\Dave_Babbitt_Resume.docx\n",
      "C:\\Users\\daveb\\OneDrive\\Documents\\Google Drive\\Other\\Job Hunting\\Dave_Babbitt_Resume_Cold_Fusion_Developer.docx\n",
      "C:\\Users\\daveb\\OneDrive\\Documents\\Google Drive\\Other\\Job Hunting\\Dave_Babbitt_Resume_Delivery_Driver.docx\n",
      "C:\\Users\\daveb\\OneDrive\\Documents\\Google Drive\\Other\\Job Hunting\\Dave_Babbitt_Resume_Jr._Java_Developer.docx\n",
      "C:\\Users\\daveb\\OneDrive\\Documents\\Google Drive\\Other\\Job Hunting\\Dave_Babbitt_Resume_Predictive_Analyst.docx\n",
      "C:\\Users\\daveb\\OneDrive\\Documents\\Google Drive\\Other\\Job Hunting\\Dave_Babbitt_Resume_QA_Tester.docx\n",
      "C:\\Users\\daveb\\OneDrive\\Documents\\Google Drive\\Other\\Job Hunting\\Dave_Babbitt_Resume_Reactor_Operator.docx\n",
      "C:\\Users\\daveb\\OneDrive\\Documents\\Google Drive\\Other\\Job Hunting\\Dave_Babbitt_Resume_Research_Analyst.docx\n",
      "C:\\Users\\daveb\\OneDrive\\Documents\\Google Drive\\School\\Predictive Analytics\\Dave_Babbitt_Resume.docx\n",
      "C:\\Users\\daveb\\OneDrive\\Documents\\Google Drive\\Work\\Job Hunting\\Dave_Babbitt_Resume_Predictive_Analyst.docx\n",
      "C:\\Users\\daveb\\OneDrive\\Documents\\Google Drive\\Work\\Job Hunting\\Dave_Babbitt_Resume_Web_Developer.docx\n",
      "C:\\Users\\daveb\\OneDrive\\Documents\\Job Hunting\\Old Resumes\\Dave Babbitt - Tailored Resume for CVS Health Senior Data Scientist Position.docx\n",
      "C:\\Users\\daveb\\OneDrive\\Documents\\Job Hunting\\Old Resumes\\Dave_Babbitt_Resume_Associate_Operations_Research_Engineer.docx\n",
      "C:\\Users\\daveb\\OneDrive\\Documents\\Job Hunting\\Old Resumes\\Dave_Babbitt_Resume_Data_Scientist.docx\n",
      "C:\\Users\\daveb\\OneDrive\\Documents\\Job Hunting\\Old Resumes\\Dave_Babbitt_Resume_Data_Scientist_or_Sr._Data Scientist.docx\n",
      "C:\\Users\\daveb\\OneDrive\\Documents\\Job Hunting\\Old Resumes\\Dave_Babbitt_Resume_Jr_Data_Scientist.docx\n",
      "C:\\Users\\daveb\\OneDrive\\Documents\\Job Hunting\\Old Resumes\\Dave_Babbitt_Resume_Machine_Learning_Engineer.docx\n",
      "C:\\Users\\daveb\\OneDrive\\Documents\\Job Hunting\\Old Resumes\\Dave_Babbitt_Resume_Predictive_Analyst.docx\n",
      "C:\\Users\\daveb\\OneDrive\\Documents\\Job Hunting\\Old Resumes\\hha_resume.docx\n",
      "C:\\Users\\daveb\\OneDrive\\Documents\\Job Hunting\\Old Resumes\\hha_resume.html.docx\n",
      "C:\\Users\\daveb\\OneDrive\\Documents\\Job Hunting\\Old Resumes\\Machine Learning Resume.docx\n",
      "C:\\Users\\daveb\\OneDrive\\Documents\\Job Hunting\\Old Resumes\\resume_header.docx\n"
     ]
    }
   ],
   "source": [
    "\n",
    "# Show the location of all the resume in Microsoft Word form\n",
    "for parent_directory, child_directories, files_list in os.walk('C:\\\\'):\n",
    "    for file_name in files_list:\n",
    "        if file_name.endswith('.docx') and ('resume' in file_name.lower()):\n",
    "            file_path = osp.join(parent_directory, file_name)\n",
    "            if osp.isfile(file_path):\n",
    "                print(f'{file_path}')"
   ]
  }
 ],
 "metadata": {
  "kernelspec": {
   "display_name": "Python 3 (ipykernel)",
   "language": "python",
   "name": "python3"
  },
  "language_info": {
   "codemirror_mode": {
    "name": "ipython",
    "version": 3
   },
   "file_extension": ".py",
   "mimetype": "text/x-python",
   "name": "python",
   "nbconvert_exporter": "python",
   "pygments_lexer": "ipython3",
   "version": "3.12.3"
  }
 },
 "nbformat": 4,
 "nbformat_minor": 4
}
