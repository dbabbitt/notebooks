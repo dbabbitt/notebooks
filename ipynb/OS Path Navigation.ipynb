{
 "cells": [
  {
   "cell_type": "code",
   "execution_count": 1,
   "metadata": {},
   "outputs": [
    {
     "name": "stdout",
     "output_type": "stream",
     "text": [
      "Pretty printing has been turned OFF\n"
     ]
    }
   ],
   "source": [
    "\n",
    "%pprint\n",
    "import os.path as osp\n",
    "import os, re\n",
    "import pandas as pd"
   ]
  },
  {
   "cell_type": "code",
   "execution_count": 13,
   "metadata": {},
   "outputs": [],
   "source": [
    "\n",
    "# Get a list of rogue functions already in scraping utilities\n",
    "file_path = '../py/scraping_utils.py'\n",
    "scraping_utils_regex = re.compile(r'def ([a-z0-9_]+)\\(')\n",
    "with open(file_path, 'r', encoding='utf-8') as f:\n",
    "    lines_list = f.readlines()\n",
    "    scraping_utils_set = set()\n",
    "    for line in lines_list:\n",
    "        match_obj = scraping_utils_regex.search(line)\n",
    "        if match_obj:\n",
    "            scraping_util = match_obj.group(1)\n",
    "            scraping_utils_set.add(scraping_util)\n",
    "    # print(scraping_utils_set)\n",
    "\n",
    "# Make a set of rogue su functions\n",
    "fn_regex = re.compile(r'\\s+\"def ([a-z0-9_]+)\\(')\n",
    "black_list = ['.ipynb_checkpoints', '$Recycle.Bin']\n",
    "rows_list = []\n",
    "this_folder = osp.dirname(osp.abspath(osp.curdir))\n",
    "rogue_su_fns_set = set()\n",
    "for sub_directory, directories_list, files_list in os.walk(this_folder):\n",
    "    if all(map(lambda x: x not in sub_directory, black_list)):\n",
    "        for file_name in files_list:\n",
    "            if file_name.endswith('.ipynb'):\n",
    "                file_path = osp.join(sub_directory, file_name)\n",
    "                with open(file_path, 'r', encoding='utf-8') as f:\n",
    "                    lines_list = f.readlines()\n",
    "                    for line in lines_list:\n",
    "                        match_obj = fn_regex.search(line)\n",
    "                        if match_obj:\n",
    "                            fn = match_obj.group(1)\n",
    "                            if fn in scraping_utils_set: rogue_su_fns_set.add(fn)\n",
    "if rogue_su_fns_set:\n",
    "    print(f'Search for *.ipynb; file masks in the {this_folder} folder for this pattern:')\n",
    "    print('\\\\s+\"def (' + '|'.join(rogue_su_fns_set) + ')\\(')\n",
    "    print('Replace each of the calls to these definitions with calls the the su. equivalent (and delete the definitions).')"
   ]
  },
  {
   "cell_type": "code",
   "execution_count": 12,
   "metadata": {},
   "outputs": [],
   "source": [
    "\n",
    "# Get a list of multi-notebook functions as notebook utilities candidates\n",
    "fn_regex = re.compile(r'\\s+\"def ([a-z0-9_]+)\\(')\n",
    "black_list = ['.ipynb_checkpoints', '$Recycle.Bin']\n",
    "rows_list = []\n",
    "this_folder = osp.dirname(osp.abspath(osp.curdir))\n",
    "for sub_directory, directories_list, files_list in os.walk(this_folder):\n",
    "    if all(map(lambda x: x not in sub_directory, black_list)):\n",
    "        for file_name in files_list:\n",
    "            if file_name.endswith('.ipynb'):\n",
    "                file_path = osp.join(sub_directory, file_name)\n",
    "                with open(file_path, 'r', encoding='utf-8') as f:\n",
    "                    lines_list = f.readlines()\n",
    "                    fns_set = set()\n",
    "                    for line in lines_list:\n",
    "                        match_obj = fn_regex.search(line)\n",
    "                        if match_obj:\n",
    "                            fn = match_obj.group(1)\n",
    "                            fns_set.add(fn)\n",
    "                    for fn in fns_set:\n",
    "                        row_dict = {}\n",
    "                        row_dict['file_name'] = file_name\n",
    "                        row_dict['function_name'] = fn\n",
    "                        rows_list.append(row_dict)\n",
    "function_names_df = pd.DataFrame(rows_list)\n",
    "df = function_names_df.groupby('function_name').count().sort_values('file_name', ascending=False)\n",
    "mask_series = (df.file_name > 1) & df.index.map(lambda x: len(x) > 4)\n",
    "fns_list = df[mask_series].index.tolist()\n",
    "if fns_list:\n",
    "    print(f'Search for *.ipynb; file masks in the {this_folder} folder for this pattern:')\n",
    "    print('\\\\s+\"def (' + '|'.join(fns_list) + ')\\(')\n",
    "    print('Find a way to get rid of these definition duplicates.')"
   ]
  },
  {
   "cell_type": "code",
   "execution_count": 3,
   "metadata": {},
   "outputs": [],
   "source": [
    "\n",
    "import os\n",
    "\n",
    "for sub_directory, directories_list, files_list in os.walk(r'C:\\\\'):\n",
    "    for file_name in files_list:\n",
    "        if file_name == '1971-1979.png':\n",
    "            file_path = os.path.join(sub_directory, file_name)\n",
    "            if os.path.isfile(file_path):\n",
    "                print(f'{file_path}')"
   ]
  },
  {
   "cell_type": "code",
   "execution_count": 7,
   "metadata": {},
   "outputs": [
    {
     "name": "stdout",
     "output_type": "stream",
     "text": [
      "D:\\\\Geek Squad Data Backup\\HDD\\Documents\\GitHub\\notebooks_old\\political_triangle\\svg\\nick_land_comments.svg\n",
      "D:\\\\Geek Squad Data Backup\\HDD\\Documents\\GitHub\\notebooks_old\\political_triangle\\svg\\nick_land_comments_copy.svg\n",
      "D:\\\\Geek Squad Data Backup\\HDD\\Documents\\GitHub\\notebooks_old\\political_triangle\\svg\\nick_land_comments_optimized.svg\n",
      "D:\\\\Geek Squad Data Backup\\HDD\\Documents\\GitHub\\notebooks_old\\political_triangle\\svg\\nick_land_comments_plain.svg\n",
      "D:\\\\Geek Squad Data Backup\\HDD\\Documents\\GitHub\\notebooks_old\\political_triangle\\svg\\.ipynb_checkpoints\\nick_land_comments_optimized-checkpoint.svg\n"
     ]
    }
   ],
   "source": [
    "\n",
    "import os\n",
    "\n",
    "for sub_directory, directories_list, files_list in os.walk(r'D:\\\\'):\n",
    "    for file_name in files_list:\n",
    "        if file_name.endswith('.svg'):\n",
    "            file_path = os.path.join(sub_directory, file_name)\n",
    "            if os.path.isfile(file_path):\n",
    "                with open(file_path, 'r', errors='ignore') as file:\n",
    "                    data = file.read()\n",
    "                    if 'Retarded' in data:\n",
    "                        print(f'{file_path}')"
   ]
  },
  {
   "cell_type": "code",
   "execution_count": null,
   "metadata": {},
   "outputs": [],
   "source": [
    "\n",
    "import os\n",
    "\n",
    "exe_list = ['wc', 'gvpr']\n",
    "for sub_directory, directories_list, files_list in os.walk(r'D:\\\\'):\n",
    "    for file_name in files_list:\n",
    "        if any(map(lambda x: file_name == f'{x}.exe', exe_list)):\n",
    "            file_path = os.path.join(sub_directory, file_name)\n",
    "            print(f'{file_path}')"
   ]
  },
  {
   "cell_type": "code",
   "execution_count": null,
   "metadata": {},
   "outputs": [],
   "source": [
    "\n",
    "%run ../load_magic/storage.py\n",
    "%run ../load_magic/dataframes.py\n",
    "%run ../load_magic/paths.py\n",
    "%run ../load_magic/lists.py\n",
    "%run ../load_magic/environment.py\n",
    "%pprint\n",
    "notebook_path = get_notebook_path()\n",
    "print(notebook_path)\n",
    "s = Storage()\n",
    "print(['s.{}'.format(fn) for fn in dir(s) if not fn.startswith('_')])\n",
    "[fn for fn in dir() if not fn.startswith('_')]"
   ]
  },
  {
   "cell_type": "code",
   "execution_count": null,
   "metadata": {},
   "outputs": [],
   "source": []
  }
 ],
 "metadata": {
  "kernelspec": {
   "display_name": "Python 3 (ipykernel)",
   "language": "python",
   "name": "python3"
  },
  "language_info": {
   "codemirror_mode": {
    "name": "ipython",
    "version": 3
   },
   "file_extension": ".py",
   "mimetype": "text/x-python",
   "name": "python",
   "nbconvert_exporter": "python",
   "pygments_lexer": "ipython3",
   "version": "3.9.16"
  }
 },
 "nbformat": 4,
 "nbformat_minor": 4
}
