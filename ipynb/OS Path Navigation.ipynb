{
 "cells": [
  {
   "cell_type": "code",
   "execution_count": 1,
   "metadata": {},
   "outputs": [
    {
     "name": "stdout",
     "output_type": "stream",
     "text": [
      "Pretty printing has been turned OFF\n"
     ]
    }
   ],
   "source": [
    "\n",
    "%pprint\n",
    "%matplotlib inline\n",
    "import sys\n",
    "import os.path as osp, os as os\n",
    "\n",
    "executable_path = sys.executable\n",
    "scripts_folder = osp.join(osp.dirname(executable_path), 'Scripts'); assert osp.exists(scripts_folder)\n",
    "py_folder = osp.abspath(osp.join(os.pardir, 'py')); assert osp.exists(py_folder), \"Create the py folder\"\n",
    "ffmpeg_folder = r'C:\\ffmpeg\\bin'; assert osp.exists(ffmpeg_folder)\n",
    "shared_folder = osp.abspath(osp.join(os.pardir, 'share')); assert osp.exists(shared_folder)\n",
    "\n",
    "if (scripts_folder not in sys.path): sys.path.insert(1, scripts_folder)\n",
    "if (py_folder not in sys.path): sys.path.insert(1, py_folder)\n",
    "if (ffmpeg_folder not in sys.path): sys.path.insert(1, ffmpeg_folder)\n",
    "if shared_folder not in sys.path: sys.path.insert(1, shared_folder)\n",
    "    \n",
    "from notebook_utils import NotebookUtilities\n",
    "nu = NotebookUtilities(\n",
    "    data_folder_path=osp.abspath(osp.join(os.pardir, 'data')),\n",
    "    saves_folder_path=osp.abspath(osp.join(os.pardir, 'saves'))\n",
    ")\n",
    "\n",
    "# Import needed libraries\n",
    "import os, re\n",
    "import pandas as pd\n",
    "import pyperclip\n",
    "import ipywidgets as widgets\n",
    "from IPython.display import display"
   ]
  },
  {
   "cell_type": "code",
   "execution_count": 2,
   "metadata": {},
   "outputs": [],
   "source": [
    "\n",
    "import random\n",
    "\n",
    "def get_random_py_file(py_folder):\n",
    "    \"\"\"\n",
    "    Walks through the specified folder and collects all .py files.\n",
    "    Returns the path of a randomly selected .py file.\n",
    "    \n",
    "    Args:\n",
    "        py_folder (str): Path to the folder to search for .py files.\n",
    "\n",
    "    Returns:\n",
    "        str: The path to a randomly selected .py file, or None if no .py files are found.\n",
    "    \"\"\"\n",
    "    # List to store paths of .py files\n",
    "    py_files = []\n",
    "    \n",
    "    # Walk through the folder structure\n",
    "    black_list = ['.ipynb_checkpoints', '$Recycle.Bin']\n",
    "    for parent_directory, _, files in os.walk(py_folder):\n",
    "        if all(map(lambda x: x not in parent_directory, black_list)):\n",
    "            for file in files:\n",
    "                \n",
    "                # Check if the file has a .py extension\n",
    "                if file.endswith('.py'):\n",
    "                    py_files.append(os.path.join(parent_directory, file))\n",
    "    \n",
    "    # If no .py files are found, return None\n",
    "    if not py_files:\n",
    "        return None\n",
    "    \n",
    "    # Randomly select and return one .py file\n",
    "    return random.choice(py_files)"
   ]
  },
  {
   "cell_type": "code",
   "execution_count": 43,
   "metadata": {},
   "outputs": [],
   "source": [
    "\n",
    "def get_random_function(verbose=True):\n",
    "    function_objs_list = []\n",
    "    while not function_objs_list:\n",
    "        while True:\n",
    "            try:\n",
    "                random_py_file = get_random_py_file(py_folder)\n",
    "                library_name = osp.relpath(random_py_file, py_folder).replace('.py', '')\n",
    "                import_call = 'import ' + library_name\n",
    "                if verbose: print(import_call)\n",
    "                exec(import_call)\n",
    "                break\n",
    "            except (SyntaxError, ImportError, ValueError) as e:\n",
    "                # nu.open_path_in_notepad(random_py_file)\n",
    "                pass\n",
    "        possible_attributes = [f'{library_name}.{fn}' for fn in dir(eval(library_name)) if not fn.startswith('_')]\n",
    "        if verbose: print(possible_attributes)\n",
    "        utils_list = [f'{library_name}.{fn}' for fn in nu.get_utility_file_functions(util_path=random_py_file) if not fn.startswith('_')]\n",
    "        if verbose: print(utils_list)\n",
    "        possible_functions = sorted(set(possible_attributes).intersection(set(utils_list)))\n",
    "        if verbose: print(possible_functions)\n",
    "        for possible_function in possible_functions:\n",
    "            try:\n",
    "                if verbose: print(possible_function)\n",
    "                function_obj = eval(possible_function)\n",
    "                if callable(function_obj):\n",
    "                    function_objs_list.append(function_obj)\n",
    "            except:\n",
    "                continue\n",
    "    random_function = random.choice(function_objs_list)\n",
    "    \n",
    "    return random_py_file, random_function, function_objs_list"
   ]
  },
  {
   "cell_type": "code",
   "execution_count": 55,
   "metadata": {},
   "outputs": [
    {
     "name": "stdout",
     "output_type": "stream",
     "text": [
      "{'math'}\n",
      "{'textwrap', 'os', 'webcolors', 'xml', 're', 'pyphen', 'pylab', 'warnings'}\n",
      "choropleth_utils.ChoroplethUtilities is a class.\n",
      "choropleth_utils.Element is a class.\n",
      "choropleth_utils.TfidfVectorizer is a class.\n",
      "choropleth_utils.__builtins__ is not a class or a function.\n",
      "choropleth_utils.__cached__ is not a class or a function.\n",
      "choropleth_utils.__doc__ is not a class or a function.\n",
      "choropleth_utils.__file__ is not a class or a function.\n",
      "choropleth_utils.__loader__ is not a class or a function.\n",
      "choropleth_utils.__name__ is not a class or a function.\n",
      "choropleth_utils.__package__ is not a class or a function.\n",
      "choropleth_utils.__spec__ is not a class or a function.\n",
      "choropleth_utils.cm is not a class or a function.\n",
      "choropleth_utils.copyfile is a function.\n",
      "choropleth_utils.escape is a function.\n",
      "choropleth_utils.et is not a class or a function.\n",
      "choropleth_utils.mpl is not a class or a function.\n",
      "choropleth_utils.np is not a class or a function.\n",
      "choropleth_utils.osp is not a class or a function.\n",
      "choropleth_utils.pd is not a class or a function.\n",
      "choropleth_utils.plt is not a class or a function.\n",
      "choropleth_utils.sqrt is not a class or a function.\n"
     ]
    }
   ],
   "source": [
    "\n",
    "import pkgutil\n",
    "import inspect\n",
    "\n",
    "standard_lib_modules = sorted([module_info.name for module_info in pkgutil.iter_modules()])\n",
    "print(set(sys.builtin_module_names).intersection(set(dir(choropleth_utils))))\n",
    "print(set(dir(choropleth_utils)).intersection(set(standard_lib_modules)))\n",
    "for library_name in sorted(set(dir(choropleth_utils)).difference(set(standard_lib_modules)).difference(sys.builtin_module_names)):\n",
    "    obj = eval(f'choropleth_utils.{library_name}')\n",
    "    if isinstance(obj, type):\n",
    "        print(f'choropleth_utils.{library_name} is a class.')\n",
    "    elif inspect.isfunction(obj):\n",
    "        print(f'choropleth_utils.{library_name} is a function.')\n",
    "    else:\n",
    "        print(f'choropleth_utils.{library_name} is not a class or a function.')"
   ]
  },
  {
   "cell_type": "code",
   "execution_count": 85,
   "metadata": {},
   "outputs": [
    {
     "name": "stdout",
     "output_type": "stream",
     "text": [
      "ChoroplethUtilities\n",
      "choropleth_utils.ChoroplethUtilities ['class']\n",
      "__class__\n",
      "__delattr__\n",
      "__dict__\n",
      "__dir__\n",
      "__doc__\n",
      "__eq__\n",
      "__format__\n",
      "__ge__\n",
      "__getattribute__\n",
      "__getstate__\n",
      "__gt__\n",
      "__hash__\n",
      "__init__\n",
      "__init_subclass__\n",
      "__le__\n",
      "__lt__\n",
      "__module__\n",
      "__ne__\n",
      "__new__\n",
      "__reduce__\n",
      "__reduce_ex__\n",
      "__repr__\n",
      "__setattr__\n",
      "__sizeof__\n",
      "__str__\n",
      "__subclasshook__\n",
      "__weakref__\n",
      "add_docname\n",
      "choropleth_utils.ChoroplethUtilities.add_docname ['function', 'routine']\n"
     ]
    },
    {
     "data": {
      "text/plain": [
       "['choropleth_utils.ChoroplethUtilities', 'choropleth_utils.ChoroplethUtilities.add_docname']"
      ]
     },
     "execution_count": 85,
     "metadata": {},
     "output_type": "execute_result"
    }
   ],
   "source": [
    "\n",
    "import importlib\n",
    "\n",
    "evaluators = [fn for fn in dir(inspect) if fn.startswith('is')]\n",
    "def get_dir_tree(module_name, function_calls=[]):\n",
    "    try:\n",
    "        module_obj = importlib.import_module(module_name)\n",
    "    except:\n",
    "        module_obj = eval(module_name)\n",
    "    for library_name in sorted(set(dir(module_obj)).difference(set(standard_lib_modules)).difference(sys.builtin_module_names)):\n",
    "        print(library_name)\n",
    "        if library_name.startswith('__'):\n",
    "            continue\n",
    "        function_call = f'{module_name}.{library_name}'\n",
    "        try:\n",
    "            obj = eval(function_call)\n",
    "            evaluations_list = []\n",
    "            for evaluator in evaluators:\n",
    "                try:\n",
    "                    evaluation = eval(f'inspect.{evaluator}(obj)')\n",
    "                    if evaluation:\n",
    "                        evaluations_list.append(evaluator[2:])\n",
    "                except:\n",
    "                    continue\n",
    "            if evaluations_list:\n",
    "                function_calls.append(function_call)\n",
    "            print(function_call, evaluations_list)\n",
    "            if 'class' in evaluations_list:\n",
    "                function_calls = get_dir_tree(function_call, function_calls)\n",
    "        except:\n",
    "            continue\n",
    "\n",
    "        return function_calls\n",
    "module_name = 'choropleth_utils'\n",
    "get_dir_tree(module_name)"
   ]
  },
  {
   "cell_type": "code",
   "execution_count": 74,
   "metadata": {},
   "outputs": [
    {
     "data": {
      "text/plain": [
       "\u001b[1;31mSignature:\u001b[0m \u001b[0minspect\u001b[0m\u001b[1;33m.\u001b[0m\u001b[0misclass\u001b[0m\u001b[1;33m(\u001b[0m\u001b[0mobject\u001b[0m\u001b[1;33m)\u001b[0m\u001b[1;33m\u001b[0m\u001b[1;33m\u001b[0m\u001b[0m\n",
       "\u001b[1;31mDocstring:\u001b[0m Return true if the object is a class.\n",
       "\u001b[1;31mFile:\u001b[0m      c:\\programdata\\anaconda3\\lib\\inspect.py\n",
       "\u001b[1;31mType:\u001b[0m      function"
      ]
     },
     "metadata": {},
     "output_type": "display_data"
    }
   ],
   "source": [
    "\n",
    "inspect.isclass?"
   ]
  },
  {
   "cell_type": "code",
   "execution_count": 65,
   "metadata": {},
   "outputs": [
    {
     "data": {
      "text/plain": [
       "('choropleth_utils.__builtins__', 'inspect.iskeyword(obj)')"
      ]
     },
     "execution_count": 65,
     "metadata": {},
     "output_type": "execute_result"
    }
   ],
   "source": [
    "\n",
    "f'choropleth_utils.{library_name}', f'{evaluator}(obj)'"
   ]
  },
  {
   "cell_type": "code",
   "execution_count": 44,
   "metadata": {},
   "outputs": [
    {
     "name": "stdout",
     "output_type": "stream",
     "text": [
      "import user-config\n",
      "import dataframes\n",
      "import tribes_layout\n",
      "['tribes_layout.canvas_height', 'tribes_layout.canvas_width', 'tribes_layout.layout_df', 'tribes_layout.pd', 'tribes_layout.row_dict', 'tribes_layout.rows_list']\n",
      "[]\n",
      "[]\n",
      "import dataframes\n",
      "import dataframes\n",
      "import environment\n",
      "import penalty_elasticnet\n",
      "import junk\n",
      "[]\n",
      "[]\n",
      "[]\n",
      "import environment\n",
      "import Wordle\n",
      "import penalty_elasticnet\n",
      "import choropleth_utils\n",
      "['choropleth_utils.ChoroplethUtilities', 'choropleth_utils.Element', 'choropleth_utils.TfidfVectorizer', 'choropleth_utils.cm', 'choropleth_utils.copyfile', 'choropleth_utils.escape', 'choropleth_utils.et', 'choropleth_utils.math', 'choropleth_utils.mpl', 'choropleth_utils.np', 'choropleth_utils.os', 'choropleth_utils.osp', 'choropleth_utils.pd', 'choropleth_utils.plt', 'choropleth_utils.pylab', 'choropleth_utils.pyphen', 'choropleth_utils.re', 'choropleth_utils.sqrt', 'choropleth_utils.textwrap', 'choropleth_utils.warnings', 'choropleth_utils.webcolors', 'choropleth_utils.xml']\n",
      "['choropleth_utils.show_colorbar', 'choropleth_utils.create_suggestion_list_dictionary', 'choropleth_utils.has_no_limitxx', 'choropleth_utils.get_colorbar_xml', 'choropleth_utils.create_district_first_dict', 'choropleth_utils.get_fill_color_rgb', 'choropleth_utils.indexize_string', 'choropleth_utils.create_country_colored_labeled_map', 'choropleth_utils.create_country_colored_map', 'choropleth_utils.possibly_raise_exceptions', 'choropleth_utils.strip_namespaces', 'choropleth_utils.edit_and_display_svg', 'choropleth_utils.get_google_suggestion_list', 'choropleth_utils.get_legend_xml', 'choropleth_utils.get_tfidf_lists', 'choropleth_utils.get_fill_color', 'choropleth_utils.create_us_google_suggest_labeled_map', 'choropleth_utils.hyphenate_words', 'choropleth_utils.color_distance_from', 'choropleth_utils.create_svg_file_beginning', 'choropleth_utils.get_column_description', 'choropleth_utils.scrape_suggestion_list_dictionary', 'choropleth_utils.create_label_line_file', 'choropleth_utils.clean_up_district_unique_dict', 'choropleth_utils.get_greatest_area', 'choropleth_utils.path_to_poly', 'choropleth_utils.create_country_labeled_map', 'choropleth_utils.clean_up_district_merge_dataframe', 'choropleth_utils.trim_d_path', 'choropleth_utils.get_style_list', 'choropleth_utils.add_docname', 'choropleth_utils.clean_up_suggestion_list_dict', 'choropleth_utils.get_tspan_list', 'choropleth_utils.clean_up_district_common_dict', 'choropleth_utils.convert_svg_to_dataframe', 'choropleth_utils.create_text_tag_xml']\n",
      "[]\n",
      "import choropleth_utils\n",
      "['choropleth_utils.ChoroplethUtilities', 'choropleth_utils.Element', 'choropleth_utils.TfidfVectorizer', 'choropleth_utils.cm', 'choropleth_utils.copyfile', 'choropleth_utils.escape', 'choropleth_utils.et', 'choropleth_utils.math', 'choropleth_utils.mpl', 'choropleth_utils.np', 'choropleth_utils.os', 'choropleth_utils.osp', 'choropleth_utils.pd', 'choropleth_utils.plt', 'choropleth_utils.pylab', 'choropleth_utils.pyphen', 'choropleth_utils.re', 'choropleth_utils.sqrt', 'choropleth_utils.textwrap', 'choropleth_utils.warnings', 'choropleth_utils.webcolors', 'choropleth_utils.xml']\n",
      "['choropleth_utils.show_colorbar', 'choropleth_utils.create_suggestion_list_dictionary', 'choropleth_utils.has_no_limitxx', 'choropleth_utils.get_colorbar_xml', 'choropleth_utils.create_district_first_dict', 'choropleth_utils.get_fill_color_rgb', 'choropleth_utils.indexize_string', 'choropleth_utils.create_country_colored_labeled_map', 'choropleth_utils.create_country_colored_map', 'choropleth_utils.possibly_raise_exceptions', 'choropleth_utils.strip_namespaces', 'choropleth_utils.edit_and_display_svg', 'choropleth_utils.get_google_suggestion_list', 'choropleth_utils.get_legend_xml', 'choropleth_utils.get_tfidf_lists', 'choropleth_utils.get_fill_color', 'choropleth_utils.create_us_google_suggest_labeled_map', 'choropleth_utils.hyphenate_words', 'choropleth_utils.color_distance_from', 'choropleth_utils.create_svg_file_beginning', 'choropleth_utils.get_column_description', 'choropleth_utils.scrape_suggestion_list_dictionary', 'choropleth_utils.create_label_line_file', 'choropleth_utils.clean_up_district_unique_dict', 'choropleth_utils.get_greatest_area', 'choropleth_utils.path_to_poly', 'choropleth_utils.create_country_labeled_map', 'choropleth_utils.clean_up_district_merge_dataframe', 'choropleth_utils.trim_d_path', 'choropleth_utils.get_style_list', 'choropleth_utils.add_docname', 'choropleth_utils.clean_up_suggestion_list_dict', 'choropleth_utils.get_tspan_list', 'choropleth_utils.clean_up_district_common_dict', 'choropleth_utils.convert_svg_to_dataframe', 'choropleth_utils.create_text_tag_xml']\n",
      "[]\n",
      "import choropleth_utils\n",
      "['choropleth_utils.ChoroplethUtilities', 'choropleth_utils.Element', 'choropleth_utils.TfidfVectorizer', 'choropleth_utils.cm', 'choropleth_utils.copyfile', 'choropleth_utils.escape', 'choropleth_utils.et', 'choropleth_utils.math', 'choropleth_utils.mpl', 'choropleth_utils.np', 'choropleth_utils.os', 'choropleth_utils.osp', 'choropleth_utils.pd', 'choropleth_utils.plt', 'choropleth_utils.pylab', 'choropleth_utils.pyphen', 'choropleth_utils.re', 'choropleth_utils.sqrt', 'choropleth_utils.textwrap', 'choropleth_utils.warnings', 'choropleth_utils.webcolors', 'choropleth_utils.xml']\n",
      "['choropleth_utils.show_colorbar', 'choropleth_utils.create_suggestion_list_dictionary', 'choropleth_utils.has_no_limitxx', 'choropleth_utils.get_colorbar_xml', 'choropleth_utils.create_district_first_dict', 'choropleth_utils.get_fill_color_rgb', 'choropleth_utils.indexize_string', 'choropleth_utils.create_country_colored_labeled_map', 'choropleth_utils.create_country_colored_map', 'choropleth_utils.possibly_raise_exceptions', 'choropleth_utils.strip_namespaces', 'choropleth_utils.edit_and_display_svg', 'choropleth_utils.get_google_suggestion_list', 'choropleth_utils.get_legend_xml', 'choropleth_utils.get_tfidf_lists', 'choropleth_utils.get_fill_color', 'choropleth_utils.create_us_google_suggest_labeled_map', 'choropleth_utils.hyphenate_words', 'choropleth_utils.color_distance_from', 'choropleth_utils.create_svg_file_beginning', 'choropleth_utils.get_column_description', 'choropleth_utils.scrape_suggestion_list_dictionary', 'choropleth_utils.create_label_line_file', 'choropleth_utils.clean_up_district_unique_dict', 'choropleth_utils.get_greatest_area', 'choropleth_utils.path_to_poly', 'choropleth_utils.create_country_labeled_map', 'choropleth_utils.clean_up_district_merge_dataframe', 'choropleth_utils.trim_d_path', 'choropleth_utils.get_style_list', 'choropleth_utils.add_docname', 'choropleth_utils.clean_up_suggestion_list_dict', 'choropleth_utils.get_tspan_list', 'choropleth_utils.clean_up_district_common_dict', 'choropleth_utils.convert_svg_to_dataframe', 'choropleth_utils.create_text_tag_xml']\n",
      "[]\n",
      "import penalty_l2_fit_intercept_False\n",
      "import upload\n",
      "import dataframes\n",
      "import user-password\n",
      "import choropleth_utils\n",
      "['choropleth_utils.ChoroplethUtilities', 'choropleth_utils.Element', 'choropleth_utils.TfidfVectorizer', 'choropleth_utils.cm', 'choropleth_utils.copyfile', 'choropleth_utils.escape', 'choropleth_utils.et', 'choropleth_utils.math', 'choropleth_utils.mpl', 'choropleth_utils.np', 'choropleth_utils.os', 'choropleth_utils.osp', 'choropleth_utils.pd', 'choropleth_utils.plt', 'choropleth_utils.pylab', 'choropleth_utils.pyphen', 'choropleth_utils.re', 'choropleth_utils.sqrt', 'choropleth_utils.textwrap', 'choropleth_utils.warnings', 'choropleth_utils.webcolors', 'choropleth_utils.xml']\n",
      "['choropleth_utils.show_colorbar', 'choropleth_utils.create_suggestion_list_dictionary', 'choropleth_utils.has_no_limitxx', 'choropleth_utils.get_colorbar_xml', 'choropleth_utils.create_district_first_dict', 'choropleth_utils.get_fill_color_rgb', 'choropleth_utils.indexize_string', 'choropleth_utils.create_country_colored_labeled_map', 'choropleth_utils.create_country_colored_map', 'choropleth_utils.possibly_raise_exceptions', 'choropleth_utils.strip_namespaces', 'choropleth_utils.edit_and_display_svg', 'choropleth_utils.get_google_suggestion_list', 'choropleth_utils.get_legend_xml', 'choropleth_utils.get_tfidf_lists', 'choropleth_utils.get_fill_color', 'choropleth_utils.create_us_google_suggest_labeled_map', 'choropleth_utils.hyphenate_words', 'choropleth_utils.color_distance_from', 'choropleth_utils.create_svg_file_beginning', 'choropleth_utils.get_column_description', 'choropleth_utils.scrape_suggestion_list_dictionary', 'choropleth_utils.create_label_line_file', 'choropleth_utils.clean_up_district_unique_dict', 'choropleth_utils.get_greatest_area', 'choropleth_utils.path_to_poly', 'choropleth_utils.create_country_labeled_map', 'choropleth_utils.clean_up_district_merge_dataframe', 'choropleth_utils.trim_d_path', 'choropleth_utils.get_style_list', 'choropleth_utils.add_docname', 'choropleth_utils.clean_up_suggestion_list_dict', 'choropleth_utils.get_tspan_list', 'choropleth_utils.clean_up_district_common_dict', 'choropleth_utils.convert_svg_to_dataframe', 'choropleth_utils.create_text_tag_xml']\n",
      "[]\n",
      "import speedtest.net_results\n",
      "import dataframes\n",
      "import tribes_layout\n",
      "['tribes_layout.canvas_height', 'tribes_layout.canvas_width', 'tribes_layout.layout_df', 'tribes_layout.pd', 'tribes_layout.row_dict', 'tribes_layout.rows_list']\n",
      "[]\n",
      "[]\n",
      "import speedtest.net_results\n",
      "import scraping_utils\n",
      "import junk\n",
      "[]\n",
      "[]\n",
      "[]\n",
      "import dataframes\n",
      "import dataframes\n",
      "import junk\n",
      "[]\n",
      "[]\n",
      "[]\n",
      "import environment\n",
      "import junk\n",
      "[]\n",
      "[]\n",
      "[]\n",
      "import svg\n",
      "import svg\n",
      "import user-config\n",
      "import dataframes\n",
      "import junk\n",
      "[]\n",
      "[]\n",
      "[]\n",
      "import penalty_l2_fit_intercept_False\n",
      "import speedtest.net_results\n",
      "import user-config\n",
      "import geometry\n",
      "['geometry.Angle', 'geometry.Bezier', 'geometry.MoveTo', 'geometry.Point', 'geometry.Segment', 'geometry.math', 'geometry.numbers', 'geometry.operator', 'geometry.simplify_segment']\n",
      "['geometry.scale', 'geometry.bbox', 'geometry.control_point', 'geometry.segments', 'geometry.rotate', 'geometry.translate', 'geometry.coord', 'geometry.rot', 'geometry.rlength', 'geometry.rbbox', 'geometry.transform', 'geometry.simplify_segment', 'geometry.length', 'geometry.pdistance']\n",
      "['geometry.simplify_segment']\n",
      "geometry.simplify_segment\n"
     ]
    }
   ],
   "source": [
    "\n",
    "random_py_file, random_function, function_objs_list = get_random_function()"
   ]
  },
  {
   "cell_type": "code",
   "execution_count": 45,
   "metadata": {},
   "outputs": [],
   "source": [
    "\n",
    "nu.describe_procedure(random_function)"
   ]
  },
  {
   "cell_type": "code",
   "execution_count": 46,
   "metadata": {},
   "outputs": [
    {
     "data": {
      "text/plain": [
       "<function simplify_segment at 0x000002A645D86AC0>"
      ]
     },
     "execution_count": 46,
     "metadata": {},
     "output_type": "execute_result"
    }
   ],
   "source": [
    "\n",
    "random_function"
   ]
  },
  {
   "cell_type": "code",
   "execution_count": 12,
   "metadata": {},
   "outputs": [
    {
     "name": "stdout",
     "output_type": "stream",
     "text": [
      "['osp.relpath']\n"
     ]
    }
   ],
   "source": [
    "\n",
    "eval(str([f'{library_name}.{fn}' for fn in dir(library_name) if 'rel' in fn]))"
   ]
  },
  {
   "cell_type": "code",
   "execution_count": 12,
   "metadata": {},
   "outputs": [
    {
     "name": "stdout",
     "output_type": "stream",
     "text": [
      "['osp.relpath']\n"
     ]
    }
   ],
   "source": [
    "\n",
    "print([f'osp.{fn}' for fn in dir(osp) if 'rel' in fn])"
   ]
  },
  {
   "cell_type": "code",
   "execution_count": 26,
   "metadata": {},
   "outputs": [
    {
     "name": "stdout",
     "output_type": "stream",
     "text": [
      "C:\\Users\\daveb\\OneDrive\\Documents\\GitHub\\covid19\\py\\storage.py\n",
      "C:\\Users\\daveb\\OneDrive\\Documents\\GitHub\\gpt-stuff\\py\\storage.py\n",
      "C:\\Users\\daveb\\OneDrive\\Documents\\GitHub\\job-hunting\\py\\storage.py\n",
      "C:\\Users\\daveb\\OneDrive\\Documents\\GitHub\\mimetic_tribes\\py\\storage.py\n",
      "C:\\Users\\daveb\\OneDrive\\Documents\\GitHub\\MineCraft\\py\\storage.py\n",
      "C:\\Users\\daveb\\OneDrive\\Documents\\GitHub\\notebooks\\py\\storage.py\n",
      "C:\\Users\\daveb\\OneDrive\\Documents\\GitHub\\rpc\\py\\storage.py\n",
      "C:\\Users\\daveb\\OneDrive\\Documents\\GitHub\\technical-interview-challenges\\py\\storage.py\n",
      "C:\\Users\\daveb\\OneDrive\\Documents\\GitHub\\Wordle\\py\\storage.py\n"
     ]
    }
   ],
   "source": [
    "\n",
    "import glob\n",
    "\n",
    "# Use the glob function with a recursive pattern to remove all the storage.py files\n",
    "# in all the \"py\" folders in all the repo directories in the grandparent directory\n",
    "for file_path in [osp.abspath(f) for f in glob.glob('../../*/py/storage.py', recursive=True)]:\n",
    "    print(file_path)\n",
    "    # os.remove(file_path)"
   ]
  },
  {
   "cell_type": "code",
   "execution_count": null,
   "metadata": {},
   "outputs": [],
   "source": [
    "\n",
    "import inspect\n",
    "\n",
    "for cn in anova_df.columns:\n",
    "    if any(map(lambda x: cn.startswith(x), ['mean_', 'sum_'])):\n",
    "        function_call = 'fu.get_' + '_'.join(cn.split('_')[1:])\n",
    "        try:\n",
    "            nu.describe_procedure(eval(function_call))\n",
    "        except Exception as e:\n",
    "            print(function_call)"
   ]
  },
  {
   "cell_type": "code",
   "execution_count": 33,
   "metadata": {},
   "outputs": [
    {
     "name": "stdout",
     "output_type": "stream",
     "text": [
      "['os._get_exports_list', 'os.listdir']\n"
     ]
    }
   ],
   "source": [
    "\n",
    "print([f'os.{fn}' for fn in dir(os) if 'list' in fn])"
   ]
  },
  {
   "cell_type": "code",
   "execution_count": 35,
   "metadata": {},
   "outputs": [
    {
     "name": "stdout",
     "output_type": "stream",
     "text": [
      "C:\\Users\\daveb\\OneDrive\\Documents\\GitHub\\covid19\\ipynb\\OS Path Navigation.ipynb\n",
      "C:\\Users\\daveb\\OneDrive\\Documents\\GitHub\\itm-analysis-reporting-1\\ipynb\\OS Path Navigation.ipynb\n",
      "C:\\Users\\daveb\\OneDrive\\Documents\\GitHub\\job-hunting\\ipynb\\OS Path Navigation.ipynb\n",
      "C:\\Users\\daveb\\OneDrive\\Documents\\GitHub\\mimetic_tribes\\ipynb\\OS Path Navigation.ipynb\n",
      "C:\\Users\\daveb\\OneDrive\\Documents\\GitHub\\notebooks\\ipynb\\OS Path Navigation.ipynb\n",
      "C:\\Users\\daveb\\OneDrive\\Documents\\GitHub\\rpc\\ipynb\\OS Path Navigation.ipynb\n",
      "C:\\Users\\daveb\\OneDrive\\Documents\\GitHub\\StatsByCountry\\ipynb\\OS Path Navigation.ipynb\n",
      "C:\\Users\\daveb\\OneDrive\\Documents\\GitHub\\StatsByUSState\\ipynb\\OS Path Navigation.ipynb\n",
      "C:\\Users\\daveb\\OneDrive\\Documents\\GitHub\\Strauss-Howe\\ipynb\\OS Path Navigation.ipynb\n",
      "C:\\Users\\daveb\\OneDrive\\Documents\\GitHub\\transcriptions-notebook\\ipynb\\OS Path Navigation.ipynb\n"
     ]
    }
   ],
   "source": [
    "\n",
    "# Find all the OS Path Navigation notebook files in the ipynb folders of my repos\n",
    "pushables_list = nu.load_object('pushables_list')\n",
    "ipynb_paths = [osp.join(file_path, 'ipynb') for file_path in pushables_list]\n",
    "file_name = 'OS Path Navigation.ipynb'\n",
    "file_paths_list = []\n",
    "for parent_directory in ipynb_paths:\n",
    "    if osp.isdir(parent_directory):\n",
    "        for old_file_name in os.listdir(parent_directory):\n",
    "            if old_file_name == file_name:\n",
    "                old_file_path = os.path.join(parent_directory, old_file_name)\n",
    "                file_paths_list.append(old_file_path)\n",
    "for file_path in file_paths_list:\n",
    "    print(file_path)"
   ]
  },
  {
   "cell_type": "code",
   "execution_count": 27,
   "metadata": {},
   "outputs": [
    {
     "name": "stdout",
     "output_type": "stream",
     "text": [
      "['os._fspath', 'os.defpath', 'os.fspath', 'os.path', 'os.pathsep']\n",
      "[]\n",
      "C:\\Users\\daveb\\OneDrive\\Documents\\GitHub\n",
      "C:\\Users\\daveb\\OneDrive\\Documents\\GitHub\n",
      "C:\\Users\\daveb\\OneDrive\\Documents\\GitHub\n",
      "C:\\Users\\daveb\\OneDrive\\Documents\\GitHub\n"
     ]
    }
   ],
   "source": [
    "\n",
    "# Get the repositories directory by various means, with increasing conciseness\n",
    "print([f'os.{fn}' for fn in dir(os) if ('path' in fn) and (len(f'os.{fn}') < len('osp.abspath'))])\n",
    "print([f'osp.{fn}' for fn in dir(osp) if ('path' in fn) and (len(f'osp.{fn}') < len('osp.abspath'))])\n",
    "print(osp.abspath(osp.join(os.curdir, os.pardir, os.pardir)))\n",
    "print(osp.abspath(osp.join(nu.github_folder, os.pardir)))\n",
    "print(osp.dirname(osp.dirname(osp.abspath(os.curdir))))\n",
    "print(osp.dirname(nu.github_folder))"
   ]
  },
  {
   "cell_type": "code",
   "execution_count": 15,
   "metadata": {},
   "outputs": [],
   "source": [
    "\n",
    "# Find all the notebook files with the word \"color\" in their name\n",
    "black_list = ['.ipynb_checkpoints', '$Recycle.Bin']\n",
    "folder_path = '../../color/ipynb'\n",
    "ascii_regex = re.compile(r'[^A-Za-z0-9]+')\n",
    "file_ending = '.ipynb'\n",
    "file_paths_list = []\n",
    "for root_dir in ['C:\\\\', 'D:\\\\']:\n",
    "    for parent_directory, child_directories, files_list in os.walk(root_dir):\n",
    "        if all(map(lambda x: x not in parent_directory, black_list)):\n",
    "            for old_file_name in files_list:\n",
    "                if old_file_name.endswith(file_ending) and ('color' in old_file_name.lower()):\n",
    "                    old_file_path = os.path.join(parent_directory, old_file_name)\n",
    "                    file_paths_list.append(old_file_path)"
   ]
  },
  {
   "cell_type": "code",
   "execution_count": 24,
   "metadata": {},
   "outputs": [],
   "source": [
    "\n",
    "# Copy all the notebook files with the word \"color\" in their name to the color repo\n",
    "import shutil\n",
    "\n",
    "for old_file_path in file_paths_list:\n",
    "    new_file_name = ascii_regex.sub('_', osp.relpath(old_file_path, osp.abspath(folder_path)).replace(file_ending, '').lstrip('.\\\\')) + file_ending\n",
    "    new_file_path = osp.abspath(osp.join(folder_path, new_file_name))\n",
    "    shutil.copy(old_file_path, new_file_path)"
   ]
  },
  {
   "cell_type": "code",
   "execution_count": null,
   "metadata": {},
   "outputs": [],
   "source": []
  },
  {
   "cell_type": "code",
   "execution_count": 9,
   "metadata": {},
   "outputs": [
    {
     "name": "stdout",
     "output_type": "stream",
     "text": [
      "\n",
      "# Exclude everything except text-based OC or personal directories\n",
      "/*\n",
      "!/algorithms\n",
      "!/builders\n",
      "!/cell_techniques\n",
      "!/coin-analytics\n",
      "!/curve_fitting\n",
      "!/ipynb\n",
      "!/json\n",
      "!/library_exploration\n",
      "!/load_magic\n",
      "!/log\n",
      "!/maintenance\n",
      "!/mathematics\n",
      "!/programming_languages\n",
      "!/ps1\n",
      "!/py\n",
      "!/r_programming_language\n",
      "!/statistics\n",
      "!/tests\n",
      "!/text_manipulation\n",
      "!/visualizations\n",
      "!/wheels\n"
     ]
    }
   ],
   "source": [
    "\n",
    "print_strs_list = ['']\n",
    "print_strs_list.append('# Exclude everything except text-based OC or personal directories')\n",
    "print_strs_list.append('/*')\n",
    "github_folder = osp.dirname(osp.abspath(osp.curdir))\n",
    "# print(github_folder)\n",
    "\n",
    "# Get the list of all items in the parent folder and filter in only the directories\n",
    "black_list = ['.ipynb_checkpoints', '$Recycle.Bin', '.git', 'data', 'saves', '__pycache__', 'LEET-CODE']\n",
    "for parent_directory in os.listdir(github_folder):\n",
    "    if all(map(lambda x: x not in parent_directory, black_list)) and osp.isdir(osp.join(github_folder, parent_directory)):\n",
    "        print_strs_list.append(f'!/{parent_directory}')\n",
    "print('\\n'.join(print_strs_list))"
   ]
  },
  {
   "cell_type": "code",
   "execution_count": null,
   "metadata": {},
   "outputs": [],
   "source": [
    "\n",
    "file_path = '../data/txt/resume.txt'\n",
    "nu.open_path_in_notepad(file_path)"
   ]
  },
  {
   "cell_type": "code",
   "execution_count": null,
   "metadata": {},
   "outputs": [],
   "source": [
    "\n",
    "black_list = ['.ipynb_checkpoints', '$Recycle.Bin']\n",
    "# walk_folder = osp.dirname(nu.github_folder)\n",
    "for parent_directory, child_directories, files_list in os.walk('C:\\\\'):\n",
    "    if all(map(lambda x: x not in parent_directory, black_list)):\n",
    "        for file_name in files_list:\n",
    "            if ('hair' in file_name):\n",
    "                file_path = osp.join(parent_directory, file_name)\n",
    "                print(file_path)"
   ]
  },
  {
   "cell_type": "code",
   "execution_count": 4,
   "metadata": {},
   "outputs": [
    {
     "name": "stdout",
     "output_type": "stream",
     "text": [
      "C:\\Users\\daveb\\OneDrive\\Documents\\Babbitt Stuff\\Jay_s Junk\\Jay-Babbitt_Resume.docx\n",
      "C:\\Users\\daveb\\OneDrive\\Documents\\Google Drive\\Other\\Job Hunting\\Dave_Babbitt_Resume (1).docx\n",
      "C:\\Users\\daveb\\OneDrive\\Documents\\Google Drive\\Other\\Job Hunting\\Dave_Babbitt_Resume.docx\n",
      "C:\\Users\\daveb\\OneDrive\\Documents\\Google Drive\\Other\\Job Hunting\\Dave_Babbitt_Resume_Cold_Fusion_Developer.docx\n",
      "C:\\Users\\daveb\\OneDrive\\Documents\\Google Drive\\Other\\Job Hunting\\Dave_Babbitt_Resume_Delivery_Driver.docx\n",
      "C:\\Users\\daveb\\OneDrive\\Documents\\Google Drive\\Other\\Job Hunting\\Dave_Babbitt_Resume_Jr._Java_Developer.docx\n",
      "C:\\Users\\daveb\\OneDrive\\Documents\\Google Drive\\Other\\Job Hunting\\Dave_Babbitt_Resume_Predictive_Analyst.docx\n",
      "C:\\Users\\daveb\\OneDrive\\Documents\\Google Drive\\Other\\Job Hunting\\Dave_Babbitt_Resume_QA_Tester.docx\n",
      "C:\\Users\\daveb\\OneDrive\\Documents\\Google Drive\\Other\\Job Hunting\\Dave_Babbitt_Resume_Reactor_Operator.docx\n",
      "C:\\Users\\daveb\\OneDrive\\Documents\\Google Drive\\Other\\Job Hunting\\Dave_Babbitt_Resume_Research_Analyst.docx\n",
      "C:\\Users\\daveb\\OneDrive\\Documents\\Google Drive\\School\\Predictive Analytics\\Dave_Babbitt_Resume.docx\n",
      "C:\\Users\\daveb\\OneDrive\\Documents\\Google Drive\\Work\\Job Hunting\\Dave_Babbitt_Resume_Predictive_Analyst.docx\n",
      "C:\\Users\\daveb\\OneDrive\\Documents\\Google Drive\\Work\\Job Hunting\\Dave_Babbitt_Resume_Web_Developer.docx\n",
      "C:\\Users\\daveb\\OneDrive\\Documents\\Job Hunting\\Old Resumes\\Dave Babbitt - Tailored Resume for CVS Health Senior Data Scientist Position.docx\n",
      "C:\\Users\\daveb\\OneDrive\\Documents\\Job Hunting\\Old Resumes\\Dave_Babbitt_Resume_Associate_Operations_Research_Engineer.docx\n",
      "C:\\Users\\daveb\\OneDrive\\Documents\\Job Hunting\\Old Resumes\\Dave_Babbitt_Resume_Data_Scientist.docx\n",
      "C:\\Users\\daveb\\OneDrive\\Documents\\Job Hunting\\Old Resumes\\Dave_Babbitt_Resume_Data_Scientist_or_Sr._Data Scientist.docx\n",
      "C:\\Users\\daveb\\OneDrive\\Documents\\Job Hunting\\Old Resumes\\Dave_Babbitt_Resume_Jr_Data_Scientist.docx\n",
      "C:\\Users\\daveb\\OneDrive\\Documents\\Job Hunting\\Old Resumes\\Dave_Babbitt_Resume_Machine_Learning_Engineer.docx\n",
      "C:\\Users\\daveb\\OneDrive\\Documents\\Job Hunting\\Old Resumes\\Dave_Babbitt_Resume_Predictive_Analyst.docx\n",
      "C:\\Users\\daveb\\OneDrive\\Documents\\Job Hunting\\Old Resumes\\hha_resume.docx\n",
      "C:\\Users\\daveb\\OneDrive\\Documents\\Job Hunting\\Old Resumes\\hha_resume.html.docx\n",
      "C:\\Users\\daveb\\OneDrive\\Documents\\Job Hunting\\Old Resumes\\Machine Learning Resume.docx\n",
      "C:\\Users\\daveb\\OneDrive\\Documents\\Job Hunting\\Old Resumes\\resume_header.docx\n"
     ]
    }
   ],
   "source": [
    "\n",
    "for parent_directory, child_directories, files_list in os.walk('C:\\\\'):\n",
    "    for file_name in files_list:\n",
    "        if file_name.endswith('.docx') and ('resume' in file_name.lower()):\n",
    "            file_path = osp.join(parent_directory, file_name)\n",
    "            if osp.isfile(file_path):\n",
    "                print(f'{file_path}')"
   ]
  },
  {
   "cell_type": "code",
   "execution_count": 13,
   "metadata": {},
   "outputs": [],
   "source": [
    "\n",
    "# Get a list of rogue functions already in scraping utilities\n",
    "scraping_utils_set = nu.get_utility_file_functions(util_path='../py/scraping_utils.py')\n",
    "\n",
    "# Make a set of rogue su functions\n",
    "fn_regex = re.compile(r'\\s+\"def ([a-z0-9_]+)\\(')\n",
    "black_list = ['.ipynb_checkpoints', '$Recycle.Bin']\n",
    "rows_list = []\n",
    "walk_folder = osp.dirname(osp.abspath(osp.curdir))\n",
    "rogue_su_fns_set = set()\n",
    "for parent_directory, child_directories, files_list in os.walk(walk_folder):\n",
    "    if all(map(lambda x: x not in parent_directory, black_list)):\n",
    "        for file_name in files_list:\n",
    "            if file_name.endswith('.ipynb'):\n",
    "                file_path = osp.join(parent_directory, file_name)\n",
    "                with open(file_path, 'r', encoding='utf-8') as f:\n",
    "                    lines_list = f.readlines()\n",
    "                    for line in lines_list:\n",
    "                        match_obj = fn_regex.search(line)\n",
    "                        if match_obj:\n",
    "                            fn = match_obj.group(1)\n",
    "                            if fn in scraping_utils_set: rogue_su_fns_set.add(fn)\n",
    "if rogue_su_fns_set:\n",
    "    print(f'Search for *.ipynb; file masks in the {walk_folder} folder for this pattern:')\n",
    "    print('\\\\s+\"def (' + '|'.join(rogue_su_fns_set) + ')\\(')\n",
    "    print('Replace each of the calls to these definitions with calls the the su. equivalent (and delete the definitions).')"
   ]
  },
  {
   "cell_type": "code",
   "execution_count": 12,
   "metadata": {},
   "outputs": [],
   "source": [
    "\n",
    "# Get a list of multi-notebook functions as notebook utilities candidates\n",
    "fn_regex = re.compile(r'\\s+\"def ([a-z0-9_]+)\\(')\n",
    "black_list = ['.ipynb_checkpoints', '$Recycle.Bin']\n",
    "rows_list = []\n",
    "walk_folder = osp.dirname(osp.abspath(osp.curdir))\n",
    "for parent_directory, child_directories, files_list in os.walk(walk_folder):\n",
    "    if all(map(lambda x: x not in parent_directory, black_list)):\n",
    "        for file_name in files_list:\n",
    "            if file_name.endswith('.ipynb'):\n",
    "                file_path = osp.join(parent_directory, file_name)\n",
    "                with open(file_path, 'r', encoding='utf-8') as f:\n",
    "                    lines_list = f.readlines()\n",
    "                    fns_set = set()\n",
    "                    for line in lines_list:\n",
    "                        match_obj = fn_regex.search(line)\n",
    "                        if match_obj:\n",
    "                            fn = match_obj.group(1)\n",
    "                            fns_set.add(fn)\n",
    "                    for fn in fns_set:\n",
    "                        row_dict = {}\n",
    "                        row_dict['file_name'] = file_name\n",
    "                        row_dict['function_name'] = fn\n",
    "                        rows_list.append(row_dict)\n",
    "function_names_df = pd.DataFrame(rows_list)\n",
    "df = function_names_df.groupby('function_name').count().sort_values('file_name', ascending=False)\n",
    "mask_series = (df.file_name > 1) & df.index.map(lambda x: len(x) > 4)\n",
    "fns_list = df[mask_series].index.tolist()\n",
    "if fns_list:\n",
    "    print(f'Search for *.ipynb; file masks in the {walk_folder} folder for this pattern:')\n",
    "    print('\\\\s+\"def (' + '|'.join(fns_list) + ')\\(')\n",
    "    print('Find a way to get rid of these definition duplicates.')"
   ]
  },
  {
   "cell_type": "code",
   "execution_count": 7,
   "metadata": {},
   "outputs": [
    {
     "name": "stdout",
     "output_type": "stream",
     "text": [
      "D:\\\\Geek Squad Data Backup\\HDD\\Documents\\GitHub\\notebooks_old\\political_triangle\\svg\\nick_land_comments.svg\n",
      "D:\\\\Geek Squad Data Backup\\HDD\\Documents\\GitHub\\notebooks_old\\political_triangle\\svg\\nick_land_comments_copy.svg\n",
      "D:\\\\Geek Squad Data Backup\\HDD\\Documents\\GitHub\\notebooks_old\\political_triangle\\svg\\nick_land_comments_optimized.svg\n",
      "D:\\\\Geek Squad Data Backup\\HDD\\Documents\\GitHub\\notebooks_old\\political_triangle\\svg\\nick_land_comments_plain.svg\n",
      "D:\\\\Geek Squad Data Backup\\HDD\\Documents\\GitHub\\notebooks_old\\political_triangle\\svg\\.ipynb_checkpoints\\nick_land_comments_optimized-checkpoint.svg\n"
     ]
    }
   ],
   "source": [
    "\n",
    "import os\n",
    "\n",
    "for parent_directory, child_directories, files_list in os.walk(r'D:\\\\'):\n",
    "    for file_name in files_list:\n",
    "        if file_name.endswith('.svg'):\n",
    "            file_path = osp.join(parent_directory, file_name)\n",
    "            if osp.isfile(file_path):\n",
    "                with open(file_path, 'r', errors='ignore') as file:\n",
    "                    data = file.read()\n",
    "                    if 'Retarded' in data:\n",
    "                        print(f'{file_path}')"
   ]
  },
  {
   "cell_type": "code",
   "execution_count": null,
   "metadata": {},
   "outputs": [],
   "source": []
  }
 ],
 "metadata": {
  "kernelspec": {
   "display_name": "Python 3 (ipykernel)",
   "language": "python",
   "name": "python3"
  },
  "language_info": {
   "codemirror_mode": {
    "name": "ipython",
    "version": 3
   },
   "file_extension": ".py",
   "mimetype": "text/x-python",
   "name": "python",
   "nbconvert_exporter": "python",
   "pygments_lexer": "ipython3",
   "version": "3.12.7"
  }
 },
 "nbformat": 4,
 "nbformat_minor": 4
}
