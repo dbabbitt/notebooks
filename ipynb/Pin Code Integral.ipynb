{
 "cells": [
  {
   "cell_type": "markdown",
   "metadata": {},
   "source": [
    "\n",
    "Here is my attempt to solve this equation:<img src='https://scontent-iad3-1.xx.fbcdn.net/v/t1.0-9/43348558_2139301209424721_2004461078129410048_n.jpg?_nc_cat=111&oh=beb80ddce7e2eb8990d5abb90e619310&oe=5C546A73' style='width:75%' />"
   ]
  },
  {
   "cell_type": "code",
   "execution_count": 24,
   "metadata": {},
   "outputs": [
    {
     "data": {
      "text/latex": [
       "$$\\int_0^1 \\frac{(3x^3-x^2+2x-4)}{\\sqrt{x^2-3x+2}} dx$$"
      ],
      "text/plain": [
       "<IPython.core.display.Math object>"
      ]
     },
     "execution_count": 24,
     "metadata": {},
     "output_type": "execute_result"
    }
   ],
   "source": [
    "\n",
    "from IPython.display import Math\n",
    "\n",
    "Math(r'\\int_0^1 \\frac{(3x^3-x^2+2x-4)}{\\sqrt{x^2-3x+2}} dx')"
   ]
  },
  {
   "cell_type": "code",
   "execution_count": 22,
   "metadata": {},
   "outputs": [
    {
     "name": "stdout",
     "output_type": "stream",
     "text": [
      "The sympyprinting extension is already loaded. To reload it, use:\n",
      "  %reload_ext sympyprinting\n",
      "Populating the interactive namespace from numpy and matplotlib\n"
     ]
    },
    {
     "data": {
      "text/plain": [
       "Integral((x - 1)*(3*x**2 + 2*x + 4)/sqrt((x - 2)*(x - 1)), (x, 0, 1))"
      ]
     },
     "execution_count": 22,
     "metadata": {},
     "output_type": "execute_result"
    }
   ],
   "source": [
    "\n",
    "%load_ext sympyprinting\n",
    "%pylab inline\n",
    "\n",
    "from sympy import symbols, integrate, sqrt\n",
    "\n",
    "x = symbols('x')\n",
    "integrate((3*x**3 - x**2 + 2*x - 4) / sqrt(x**2 - 3*x + 2), (x, 0, 1))"
   ]
  },
  {
   "cell_type": "code",
   "execution_count": 31,
   "metadata": {},
   "outputs": [
    {
     "data": {
      "text/plain": [
       "Integral((x - 1)*(3*x**2 + 2*x + 4)/sqrt((x - 2)*(x - 1)), (x, 0, 1))"
      ]
     },
     "execution_count": 31,
     "metadata": {},
     "output_type": "execute_result"
    }
   ],
   "source": [
    "\n",
    "integrate((x - 1)*(3*x**2 + 2*x + 4)/sqrt((x - 2)*(x - 1)), (x, 0, 1))"
   ]
  },
  {
   "cell_type": "code",
   "execution_count": 30,
   "metadata": {},
   "outputs": [
    {
     "data": {
      "text/latex": [
       "$$\\int_0^1 \\frac{(x - 1)(3x^2 + 2x + 4)}{\\sqrt{(x - 2)(x - 1)}} dx$$"
      ],
      "text/plain": [
       "<IPython.core.display.Math object>"
      ]
     },
     "execution_count": 30,
     "metadata": {},
     "output_type": "execute_result"
    }
   ],
   "source": [
    "\n",
    "Math(r'\\int_0^1 \\frac{(x - 1)(3x^2 + 2x + 4)}{\\sqrt{(x - 2)(x - 1)}} dx')"
   ]
  },
  {
   "cell_type": "code",
   "execution_count": null,
   "metadata": {},
   "outputs": [],
   "source": []
  }
 ],
 "metadata": {
  "kernelspec": {
   "display_name": "Python 3",
   "language": "python",
   "name": "python3"
  },
  "language_info": {
   "codemirror_mode": {
    "name": "ipython",
    "version": 3
   },
   "file_extension": ".py",
   "mimetype": "text/x-python",
   "name": "python",
   "nbconvert_exporter": "python",
   "pygments_lexer": "ipython3",
   "version": "3.6.4"
  }
 },
 "nbformat": 4,
 "nbformat_minor": 2
}
