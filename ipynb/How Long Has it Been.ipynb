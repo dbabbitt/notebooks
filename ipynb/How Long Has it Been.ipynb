{
 "cells": [
  {
   "cell_type": "code",
   "execution_count": null,
   "id": "43a39be1-37eb-4fdf-af7d-8ca6264698d2",
   "metadata": {},
   "outputs": [],
   "source": []
  },
  {
   "cell_type": "code",
   "execution_count": 17,
   "id": "9fb4e973-ad80-4cd2-9458-b272bfbf9814",
   "metadata": {},
   "outputs": [
    {
     "data": {
      "text/plain": [
       "datetime.datetime(2022, 11, 13, 11, 31, 3, 736582, tzinfo=datetime.timezone(datetime.timedelta(days=-1, seconds=68400), 'Eastern Standard Time'))"
      ]
     },
     "execution_count": 17,
     "metadata": {},
     "output_type": "execute_result"
    }
   ],
   "source": [
    "\n",
    "from datetime import date, datetime, timedelta\n",
    "from zoneinfo import ZoneInfo\n",
    "\n",
    "today = date.today()\n",
    "tzinfo = ZoneInfo('America/New_York')\n",
    "now = datetime.now().astimezone()\n",
    "now + timedelta(days=6, hours=18, minutes=51)"
   ]
  },
  {
   "cell_type": "markdown",
   "id": "2f37c08d-02ee-4e63-b013-c46474c985a2",
   "metadata": {},
   "source": [
    "\n",
    "# Get list of most popular songs by year, month, and day"
   ]
  },
  {
   "cell_type": "code",
   "execution_count": 11,
   "id": "3e6712d0-5258-43d9-afe1-7deed32d5d1c",
   "metadata": {},
   "outputs": [
    {
     "name": "stdout",
     "output_type": "stream",
     "text": [
      "[(0, (76, 7)), (1, (5, 2))]\n"
     ]
    }
   ],
   "source": [
    "\n",
    "%run ../load_magic/soup.py\n",
    "\n",
    "page_url = 'https://en.wikipedia.org/wiki/List_of_Billboard_Year-End_number-one_singles_and_albums'\n",
    "table_dfs_list = get_wiki_tables(page_url)"
   ]
  },
  {
   "cell_type": "code",
   "execution_count": 19,
   "id": "a746d240-48b1-4730-b312-971a362b8220",
   "metadata": {},
   "outputs": [
    {
     "name": "stdout",
     "output_type": "stream",
     "text": [
      "1946 2021\n"
     ]
    },
    {
     "data": {
      "text/html": [
       "<div>\n",
       "<style scoped>\n",
       "    .dataframe tbody tr th:only-of-type {\n",
       "        vertical-align: middle;\n",
       "    }\n",
       "\n",
       "    .dataframe tbody tr th {\n",
       "        vertical-align: top;\n",
       "    }\n",
       "\n",
       "    .dataframe thead th {\n",
       "        text-align: right;\n",
       "    }\n",
       "</style>\n",
       "<table border=\"1\" class=\"dataframe\">\n",
       "  <thead>\n",
       "    <tr style=\"text-align: right;\">\n",
       "      <th></th>\n",
       "      <th>Year</th>\n",
       "      <th>Pop Single</th>\n",
       "      <th>pop_single_song_name</th>\n",
       "      <th>pop_single_artist_name</th>\n",
       "    </tr>\n",
       "  </thead>\n",
       "  <tbody>\n",
       "    <tr>\n",
       "      <th>38</th>\n",
       "      <td>1984</td>\n",
       "      <td>\"When Doves Cry\"[185] Prince</td>\n",
       "      <td>When Doves Cry</td>\n",
       "      <td>Prince</td>\n",
       "    </tr>\n",
       "    <tr>\n",
       "      <th>59</th>\n",
       "      <td>2005</td>\n",
       "      <td>\"We Belong Together\"[311] Mariah Carey</td>\n",
       "      <td>We Belong Together</td>\n",
       "      <td>Mariah Carey</td>\n",
       "    </tr>\n",
       "    <tr>\n",
       "      <th>61</th>\n",
       "      <td>2007</td>\n",
       "      <td>\"Irreplaceable\"[322] Beyoncé</td>\n",
       "      <td>Irreplaceable</td>\n",
       "      <td>Beyoncé</td>\n",
       "    </tr>\n",
       "    <tr>\n",
       "      <th>27</th>\n",
       "      <td>1973</td>\n",
       "      <td>\"Tie a Yellow Ribbon 'Round the Ole Oak Tree\"[...</td>\n",
       "      <td>Tie a Yellow Ribbon 'Round the Ole Oak Tree</td>\n",
       "      <td>Tony Orlando and Dawn</td>\n",
       "    </tr>\n",
       "    <tr>\n",
       "      <th>43</th>\n",
       "      <td>1989</td>\n",
       "      <td>\"Look Away\"[215] Chicago</td>\n",
       "      <td>Look Away</td>\n",
       "      <td>Chicago</td>\n",
       "    </tr>\n",
       "    <tr>\n",
       "      <th>75</th>\n",
       "      <td>2021</td>\n",
       "      <td>\"Levitating\"[404] Dua Lipa</td>\n",
       "      <td>Levitating</td>\n",
       "      <td>Dua Lipa</td>\n",
       "    </tr>\n",
       "    <tr>\n",
       "      <th>33</th>\n",
       "      <td>1979</td>\n",
       "      <td>\"My Sharona\"[155] The Knack</td>\n",
       "      <td>My Sharona</td>\n",
       "      <td>The Knack</td>\n",
       "    </tr>\n",
       "    <tr>\n",
       "      <th>44</th>\n",
       "      <td>1990</td>\n",
       "      <td>\"Hold On\"[221] Wilson Phillips</td>\n",
       "      <td>Hold On</td>\n",
       "      <td>Wilson Phillips</td>\n",
       "    </tr>\n",
       "    <tr>\n",
       "      <th>3</th>\n",
       "      <td>1949</td>\n",
       "      <td>\"Riders in the Sky\"[10] Vaughn Monroe Orchestra</td>\n",
       "      <td>Riders in the Sky</td>\n",
       "      <td>Vaughn Monroe Orchestra</td>\n",
       "    </tr>\n",
       "    <tr>\n",
       "      <th>58</th>\n",
       "      <td>2004</td>\n",
       "      <td>\"Yeah!\"[305] Usher featuring Lil Jon and Ludacris</td>\n",
       "      <td>Yeah!</td>\n",
       "      <td>Usher featuring Lil Jon and Ludacris</td>\n",
       "    </tr>\n",
       "    <tr>\n",
       "      <th>0</th>\n",
       "      <td>1946</td>\n",
       "      <td>\"Prisoner of Love\"[1] Perry Como</td>\n",
       "      <td>Prisoner of Love</td>\n",
       "      <td>Perry Como</td>\n",
       "    </tr>\n",
       "    <tr>\n",
       "      <th>60</th>\n",
       "      <td>2006</td>\n",
       "      <td>\"Bad Day\"[317] Daniel Powter</td>\n",
       "      <td>Bad Day</td>\n",
       "      <td>Daniel Powter</td>\n",
       "    </tr>\n",
       "    <tr>\n",
       "      <th>48</th>\n",
       "      <td>1994</td>\n",
       "      <td>\"The Sign\"[245] Ace of Base</td>\n",
       "      <td>The Sign</td>\n",
       "      <td>Ace of Base</td>\n",
       "    </tr>\n",
       "    <tr>\n",
       "      <th>55</th>\n",
       "      <td>2001</td>\n",
       "      <td>\"Hanging by a Moment\"[287] Lifehouse</td>\n",
       "      <td>Hanging by a Moment</td>\n",
       "      <td>Lifehouse</td>\n",
       "    </tr>\n",
       "    <tr>\n",
       "      <th>8</th>\n",
       "      <td>1954</td>\n",
       "      <td>\"Little Things Mean a Lot\"[25] Kitty Kallen</td>\n",
       "      <td>Little Things Mean a Lot</td>\n",
       "      <td>Kitty Kallen</td>\n",
       "    </tr>\n",
       "    <tr>\n",
       "      <th>41</th>\n",
       "      <td>1987</td>\n",
       "      <td>\"Walk Like an Egyptian\"[203] The Bangles</td>\n",
       "      <td>Walk Like an Egyptian</td>\n",
       "      <td>The Bangles</td>\n",
       "    </tr>\n",
       "    <tr>\n",
       "      <th>5</th>\n",
       "      <td>1951</td>\n",
       "      <td>\"Too Young\"[16] Nat King Cole</td>\n",
       "      <td>Too Young</td>\n",
       "      <td>Nat King Cole</td>\n",
       "    </tr>\n",
       "    <tr>\n",
       "      <th>63</th>\n",
       "      <td>2009</td>\n",
       "      <td>\"Boom Boom Pow\"[332] The Black Eyed Peas</td>\n",
       "      <td>Boom Boom Pow</td>\n",
       "      <td>The Black Eyed Peas</td>\n",
       "    </tr>\n",
       "    <tr>\n",
       "      <th>2</th>\n",
       "      <td>1948</td>\n",
       "      <td>\"Twelfth Street Rag\"[7] Pee Wee Hunt</td>\n",
       "      <td>Twelfth Street Rag</td>\n",
       "      <td>Pee Wee Hunt</td>\n",
       "    </tr>\n",
       "    <tr>\n",
       "      <th>4</th>\n",
       "      <td>1950</td>\n",
       "      <td>\"Goodnight, Irene\"[13] Gordon Jenkins and The ...</td>\n",
       "      <td>Goodnight, Irene</td>\n",
       "      <td>Gordon Jenkins and The Weavers</td>\n",
       "    </tr>\n",
       "  </tbody>\n",
       "</table>\n",
       "</div>"
      ],
      "text/plain": [
       "    Year                                         Pop Single  \\\n",
       "38  1984                       \"When Doves Cry\"[185] Prince   \n",
       "59  2005             \"We Belong Together\"[311] Mariah Carey   \n",
       "61  2007                       \"Irreplaceable\"[322] Beyoncé   \n",
       "27  1973  \"Tie a Yellow Ribbon 'Round the Ole Oak Tree\"[...   \n",
       "43  1989                           \"Look Away\"[215] Chicago   \n",
       "75  2021                         \"Levitating\"[404] Dua Lipa   \n",
       "33  1979                        \"My Sharona\"[155] The Knack   \n",
       "44  1990                     \"Hold On\"[221] Wilson Phillips   \n",
       "3   1949    \"Riders in the Sky\"[10] Vaughn Monroe Orchestra   \n",
       "58  2004  \"Yeah!\"[305] Usher featuring Lil Jon and Ludacris   \n",
       "0   1946                   \"Prisoner of Love\"[1] Perry Como   \n",
       "60  2006                       \"Bad Day\"[317] Daniel Powter   \n",
       "48  1994                        \"The Sign\"[245] Ace of Base   \n",
       "55  2001               \"Hanging by a Moment\"[287] Lifehouse   \n",
       "8   1954        \"Little Things Mean a Lot\"[25] Kitty Kallen   \n",
       "41  1987           \"Walk Like an Egyptian\"[203] The Bangles   \n",
       "5   1951                      \"Too Young\"[16] Nat King Cole   \n",
       "63  2009           \"Boom Boom Pow\"[332] The Black Eyed Peas   \n",
       "2   1948               \"Twelfth Street Rag\"[7] Pee Wee Hunt   \n",
       "4   1950  \"Goodnight, Irene\"[13] Gordon Jenkins and The ...   \n",
       "\n",
       "                           pop_single_song_name  \\\n",
       "38                               When Doves Cry   \n",
       "59                           We Belong Together   \n",
       "61                                Irreplaceable   \n",
       "27  Tie a Yellow Ribbon 'Round the Ole Oak Tree   \n",
       "43                                    Look Away   \n",
       "75                                   Levitating   \n",
       "33                                   My Sharona   \n",
       "44                                      Hold On   \n",
       "3                             Riders in the Sky   \n",
       "58                                        Yeah!   \n",
       "0                              Prisoner of Love   \n",
       "60                                      Bad Day   \n",
       "48                                     The Sign   \n",
       "55                          Hanging by a Moment   \n",
       "8                      Little Things Mean a Lot   \n",
       "41                        Walk Like an Egyptian   \n",
       "5                                     Too Young   \n",
       "63                                Boom Boom Pow   \n",
       "2                            Twelfth Street Rag   \n",
       "4                              Goodnight, Irene   \n",
       "\n",
       "                  pop_single_artist_name  \n",
       "38                                Prince  \n",
       "59                          Mariah Carey  \n",
       "61                               Beyoncé  \n",
       "27                 Tony Orlando and Dawn  \n",
       "43                               Chicago  \n",
       "75                              Dua Lipa  \n",
       "33                             The Knack  \n",
       "44                       Wilson Phillips  \n",
       "3                Vaughn Monroe Orchestra  \n",
       "58  Usher featuring Lil Jon and Ludacris  \n",
       "0                             Perry Como  \n",
       "60                         Daniel Powter  \n",
       "48                           Ace of Base  \n",
       "55                             Lifehouse  \n",
       "8                           Kitty Kallen  \n",
       "41                           The Bangles  \n",
       "5                          Nat King Cole  \n",
       "63                   The Black Eyed Peas  \n",
       "2                           Pee Wee Hunt  \n",
       "4         Gordon Jenkins and The Weavers  "
      ]
     },
     "execution_count": 19,
     "metadata": {},
     "output_type": "execute_result"
    }
   ],
   "source": [
    "\n",
    "df = table_dfs_list[0].copy().replace('—', np.nan)\n",
    "df.columns = ['Year', 'Pop Single', 'Pop Album', 'R&B/Soul/Hip-hop Single', 'R&B/Soul/Hip-hop Album', 'Country Single', 'Country Album']\n",
    "df['pop_single_song_name'] = df['Pop Single'].map(lambda x: str(x).split('[')[0].replace('\"', '').strip())\n",
    "df['pop_single_artist_name'] = df['Pop Single'].map(lambda x: str(x).split(']')[1].strip())\n",
    "print(df.Year.min(), df.Year.max())\n",
    "columns_list = ['Year', 'Pop Single', 'pop_single_song_name', 'pop_single_artist_name']\n",
    "df[columns_list].sample(20)"
   ]
  },
  {
   "cell_type": "code",
   "execution_count": 20,
   "id": "21d2ba75-ccd3-4bb3-a80f-a7d3bd1284d1",
   "metadata": {},
   "outputs": [
    {
     "name": "stdout",
     "output_type": "stream",
     "text": [
      "Pickling to C:\\Users\\daveb\\OneDrive\\Documents\\GitHub\\notebooks\\saves\\pkl\\Billboard_Year_End_number_one_singles_df.pkl\n"
     ]
    }
   ],
   "source": [
    "\n",
    "%run ../load_magic/storage.py\n",
    "\n",
    "s = Storage()\n",
    "s.store_objects(Billboard_Year_End_number_one_singles_df=df)"
   ]
  },
  {
   "cell_type": "code",
   "execution_count": 28,
   "id": "bb76f0e1-d539-49b0-a75d-fa746b737130",
   "metadata": {},
   "outputs": [],
   "source": [
    "\n",
    "import webbrowser\n",
    "\n",
    "url_prefix = 'https://en.wikipedia.org'\n",
    "page_url = url_prefix + '/wiki/List_of_Billboard_number-one_singles'\n",
    "page_soup = get_page_soup(page_url)\n",
    "links_list = page_soup.find_all(name='a')\n",
    "billboard_dict = {}\n",
    "for link_soup in links_list:\n",
    "    link_str = link_soup.text\n",
    "    if link_str.isnumeric():\n",
    "        year_number = int(link_str)\n",
    "        if year_number not in billboard_dict:\n",
    "            href = link_soup['href']\n",
    "            billboard_dict[year_number] = url_prefix + href\n",
    "            # print(dir(link_soup))\n",
    "            # break"
   ]
  },
  {
   "cell_type": "code",
   "execution_count": 79,
   "id": "c9277b9e-761e-4c20-9aa3-9c7d54b527c7",
   "metadata": {},
   "outputs": [],
   "source": [
    "\n",
    "from datetime import datetime\n",
    "\n",
    "# webbrowser.open(billboard_dict[1940], new=2)\n",
    "date_format = '%B %d, %Y'\n",
    "billboard_columns = ['issue_date', 'song_name', 'artist_name']\n",
    "billboard_df = pd.DataFrame([], columns=billboard_columns)\n",
    "for year in range(1940, 2023):\n",
    "    tables_df_list = pd.read_html(billboard_dict[year])\n",
    "    idx = sorted([(i, df.shape) for (i, df) in enumerate(tables_df_list)], key=lambda x: x[1][0]*x[1][1], reverse=True)[0][0]\n",
    "    df = tables_df_list[idx].copy().replace('—', np.nan).replace('-', np.nan).replace('Chart discontinued', np.nan)\n",
    "    if ('Issue date' not in df.columns):\n",
    "        df.rename(columns={'Issue date[1]': 'issue_date'}, inplace=True)\n",
    "    else:\n",
    "        df.rename(columns={'Issue date': 'issue_date'}, inplace=True)\n",
    "    df.issue_date = df.issue_date.map(lambda x: datetime.strptime(f'{x}, {year}', date_format))\n",
    "    if ('Song' not in df.columns) and ('Artist(s)' not in df.columns):\n",
    "        if ('Most Played Juke Box Records' not in df.columns):\n",
    "            if ('Most-Played Juke Box Records' not in df.columns):\n",
    "                if ('Most Played in Jukeboxes' not in df.columns):\n",
    "                    if ('Top 100' not in df.columns):\n",
    "                        \n",
    "                        # Fill the nans from the left with fillna, then get the leftmost column\n",
    "                        columns_list = ['Top 100[2]', 'Best Sellers in Stores[2]', 'Most Played by Jockeys[3]']\n",
    "                        df['song_artist'] = df[columns_list].fillna(method='bfill', axis=1).iloc[:, 0]\n",
    "                        \n",
    "                    else:\n",
    "                        df.rename(columns={'Top 100': 'song_artist'}, inplace=True)\n",
    "                    df['song_name'] = df.song_artist.map(lambda x: str(x).split('\"')[1].strip())\n",
    "                    df['artist_name'] = df.song_artist.map(lambda x: str(x).split('\"')[2].strip())\n",
    "                else:\n",
    "                    \n",
    "                    # Fill the nans from the left with fillna, then get the leftmost column\n",
    "                    columns_list = ['Most Played in Jukeboxes', 'Best Sellers in Stores', 'Most Played by Jockeys']\n",
    "                    df['song_artist'] = df[columns_list].fillna(method='bfill', axis=1).iloc[:, 0]\n",
    "                    \n",
    "                    df['song_name'] = df.song_artist.map(lambda x: str(x).split('\"')[1].strip())\n",
    "                    df['artist_name'] = df.song_artist.map(lambda x: str(x).split('\"')[2].strip())\n",
    "            else:\n",
    "                \n",
    "                # Fill the nans from the left with fillna, then get the leftmost column\n",
    "                columns_list = ['Most-Played Juke Box Records', 'Best-Selling Popular Retail Records', 'Records Most-Played on the Air']\n",
    "                df['song_artist'] = df[columns_list].fillna(method='bfill', axis=1).iloc[:, 0]\n",
    "                \n",
    "                df['song_name'] = df.song_artist.map(lambda x: str(x).split('\"')[1].strip())\n",
    "                df['artist_name'] = df.song_artist.map(lambda x: str(x).split('\"')[2].strip())\n",
    "        else:\n",
    "            \n",
    "            # Fill the nans from the left with fillna, then get the leftmost column\n",
    "            columns_list = ['Most Played Juke Box Records', 'National Best Selling Retail Records']\n",
    "            df['song_artist'] = df[columns_list].fillna(method='bfill', axis=1).iloc[:, 0]\n",
    "            \n",
    "            df['song_name'] = df.song_artist.map(lambda x: str(x).split('\"')[1].strip())\n",
    "            df['artist_name'] = df.song_artist.map(lambda x: str(x).split('\"')[2].strip())\n",
    "    else:\n",
    "        df.rename(columns={'Song': 'song_name', 'Artist(s)': 'artist_name'}, inplace=True)\n",
    "    billboard_df = pd.concat([billboard_df, df[billboard_columns]], ignore_index=True)\n",
    "billboard_df.song_name = billboard_df.song_name.map(lambda x: str(x).replace('\"', ''))"
   ]
  },
  {
   "cell_type": "code",
   "execution_count": 84,
   "id": "f6c4f4c3-14d7-43eb-81d5-79cfee47143d",
   "metadata": {},
   "outputs": [
    {
     "data": {
      "text/html": [
       "<div>\n",
       "<style scoped>\n",
       "    .dataframe tbody tr th:only-of-type {\n",
       "        vertical-align: middle;\n",
       "    }\n",
       "\n",
       "    .dataframe tbody tr th {\n",
       "        vertical-align: top;\n",
       "    }\n",
       "\n",
       "    .dataframe thead th {\n",
       "        text-align: right;\n",
       "    }\n",
       "</style>\n",
       "<table border=\"1\" class=\"dataframe\">\n",
       "  <thead>\n",
       "    <tr style=\"text-align: right;\">\n",
       "      <th></th>\n",
       "      <th>issue_date</th>\n",
       "      <th>song_name</th>\n",
       "      <th>artist_name</th>\n",
       "    </tr>\n",
       "  </thead>\n",
       "  <tbody>\n",
       "    <tr>\n",
       "      <th>2194</th>\n",
       "      <td>1982-09-04</td>\n",
       "      <td>Abracadabra</td>\n",
       "      <td>Steve Miller Band</td>\n",
       "    </tr>\n",
       "    <tr>\n",
       "      <th>1749</th>\n",
       "      <td>1974-02-23</td>\n",
       "      <td>The Way We Were</td>\n",
       "      <td>Barbra Streisand</td>\n",
       "    </tr>\n",
       "    <tr>\n",
       "      <th>1304</th>\n",
       "      <td>1965-08-14</td>\n",
       "      <td>I Got You Babe</td>\n",
       "      <td>Sonny &amp; Cher</td>\n",
       "    </tr>\n",
       "    <tr>\n",
       "      <th>2070</th>\n",
       "      <td>1980-04-19</td>\n",
       "      <td>Call Me</td>\n",
       "      <td>Blondie</td>\n",
       "    </tr>\n",
       "    <tr>\n",
       "      <th>3868</th>\n",
       "      <td>2014-10-04</td>\n",
       "      <td>All About That Bass</td>\n",
       "      <td>Meghan Trainor</td>\n",
       "    </tr>\n",
       "    <tr>\n",
       "      <th>1548</th>\n",
       "      <td>1970-04-18</td>\n",
       "      <td>Let It Be</td>\n",
       "      <td>The Beatles</td>\n",
       "    </tr>\n",
       "    <tr>\n",
       "      <th>2188</th>\n",
       "      <td>1982-07-24</td>\n",
       "      <td>Eye of the Tiger</td>\n",
       "      <td>Survivor</td>\n",
       "    </tr>\n",
       "    <tr>\n",
       "      <th>2349</th>\n",
       "      <td>1985-08-24</td>\n",
       "      <td>The Power of Love</td>\n",
       "      <td>Huey Lewis and the News</td>\n",
       "    </tr>\n",
       "    <tr>\n",
       "      <th>2054</th>\n",
       "      <td>1979-12-29</td>\n",
       "      <td>Escape (The Piña Colada Song)</td>\n",
       "      <td>Rupert Holmes</td>\n",
       "    </tr>\n",
       "    <tr>\n",
       "      <th>1487</th>\n",
       "      <td>1969-02-15</td>\n",
       "      <td>Everyday People</td>\n",
       "      <td>Sly &amp; the Family Stone</td>\n",
       "    </tr>\n",
       "    <tr>\n",
       "      <th>2647</th>\n",
       "      <td>1991-05-11</td>\n",
       "      <td>Joyride</td>\n",
       "      <td>Roxette</td>\n",
       "    </tr>\n",
       "    <tr>\n",
       "      <th>2551</th>\n",
       "      <td>1989-07-08</td>\n",
       "      <td>Good Thing</td>\n",
       "      <td>Fine Young Cannibals</td>\n",
       "    </tr>\n",
       "    <tr>\n",
       "      <th>1491</th>\n",
       "      <td>1969-03-15</td>\n",
       "      <td>Dizzy</td>\n",
       "      <td>Tommy Roe</td>\n",
       "    </tr>\n",
       "    <tr>\n",
       "      <th>3547</th>\n",
       "      <td>2008-08-09</td>\n",
       "      <td>I Kissed a Girl</td>\n",
       "      <td>Katy Perry</td>\n",
       "    </tr>\n",
       "    <tr>\n",
       "      <th>1372</th>\n",
       "      <td>1966-12-03</td>\n",
       "      <td>Winchester Cathedral</td>\n",
       "      <td>The New Vaudeville Band</td>\n",
       "    </tr>\n",
       "    <tr>\n",
       "      <th>1270</th>\n",
       "      <td>1964-12-19</td>\n",
       "      <td>Come See About Me</td>\n",
       "      <td>The Supremes</td>\n",
       "    </tr>\n",
       "    <tr>\n",
       "      <th>2130</th>\n",
       "      <td>1981-06-13</td>\n",
       "      <td>Bette Davis Eyes</td>\n",
       "      <td>Kim Carnes</td>\n",
       "    </tr>\n",
       "    <tr>\n",
       "      <th>1002</th>\n",
       "      <td>1959-10-26</td>\n",
       "      <td>Mack the Knife</td>\n",
       "      <td>Bobby Darin</td>\n",
       "    </tr>\n",
       "    <tr>\n",
       "      <th>3230</th>\n",
       "      <td>2002-07-13</td>\n",
       "      <td>Hot in Herre</td>\n",
       "      <td>Nelly</td>\n",
       "    </tr>\n",
       "    <tr>\n",
       "      <th>1127</th>\n",
       "      <td>1962-03-24</td>\n",
       "      <td>Hey! Baby</td>\n",
       "      <td>Bruce Channel</td>\n",
       "    </tr>\n",
       "  </tbody>\n",
       "</table>\n",
       "</div>"
      ],
      "text/plain": [
       "     issue_date                      song_name              artist_name\n",
       "2194 1982-09-04                    Abracadabra        Steve Miller Band\n",
       "1749 1974-02-23                The Way We Were         Barbra Streisand\n",
       "1304 1965-08-14                 I Got You Babe             Sonny & Cher\n",
       "2070 1980-04-19                        Call Me                  Blondie\n",
       "3868 2014-10-04            All About That Bass           Meghan Trainor\n",
       "1548 1970-04-18                      Let It Be              The Beatles\n",
       "2188 1982-07-24               Eye of the Tiger                 Survivor\n",
       "2349 1985-08-24              The Power of Love  Huey Lewis and the News\n",
       "2054 1979-12-29  Escape (The Piña Colada Song)            Rupert Holmes\n",
       "1487 1969-02-15                Everyday People   Sly & the Family Stone\n",
       "2647 1991-05-11                        Joyride                  Roxette\n",
       "2551 1989-07-08                     Good Thing     Fine Young Cannibals\n",
       "1491 1969-03-15                          Dizzy                Tommy Roe\n",
       "3547 2008-08-09                I Kissed a Girl               Katy Perry\n",
       "1372 1966-12-03           Winchester Cathedral  The New Vaudeville Band\n",
       "1270 1964-12-19              Come See About Me             The Supremes\n",
       "2130 1981-06-13               Bette Davis Eyes               Kim Carnes\n",
       "1002 1959-10-26                 Mack the Knife              Bobby Darin\n",
       "3230 2002-07-13                   Hot in Herre                    Nelly\n",
       "1127 1962-03-24                      Hey! Baby            Bruce Channel"
      ]
     },
     "execution_count": 84,
     "metadata": {},
     "output_type": "execute_result"
    }
   ],
   "source": [
    "\n",
    "billboard_df.sample(20)"
   ]
  },
  {
   "cell_type": "code",
   "execution_count": 85,
   "id": "1ed03046-d7ce-4d00-a8ff-7a0812c6f8c5",
   "metadata": {},
   "outputs": [
    {
     "name": "stdout",
     "output_type": "stream",
     "text": [
      "Pickling to C:\\Users\\daveb\\OneDrive\\Documents\\GitHub\\notebooks\\saves\\pkl\\Billboard_number_one_singles_dict.pkl\n",
      "Pickling to C:\\Users\\daveb\\OneDrive\\Documents\\GitHub\\notebooks\\saves\\pkl\\billboard_df.pkl\n"
     ]
    }
   ],
   "source": [
    "\n",
    "s.store_objects(Billboard_number_one_singles_dict=billboard_dict, billboard_df=billboard_df)"
   ]
  },
  {
   "cell_type": "code",
   "execution_count": 94,
   "id": "1c454bc0-e5cf-41c0-b60d-f072279ec21c",
   "metadata": {},
   "outputs": [],
   "source": [
    "\n",
    "import json\n",
    "\n",
    "secrets_path = '../data/json/secrets.json'\n",
    "with open(secrets_path) as f:\n",
    "    secrets_dict = json.loads(f.read())\n",
    "date_format = '%B %d, %Y'\n",
    "motherz_birthdate = datetime.strptime(secrets_dict['motherz_birthdate'], date_format)\n",
    "malcomz_birthdate = datetime.strptime(secrets_dict['malcomz_birthdate'], date_format)\n",
    "mickey_joe_married = datetime.strptime(secrets_dict['mickey_joe_married'], date_format)"
   ]
  },
  {
   "cell_type": "code",
   "execution_count": 13,
   "id": "3db6ec3d-830b-4f81-9e9e-0c550eaeaef0",
   "metadata": {},
   "outputs": [
    {
     "name": "stdout",
     "output_type": "stream",
     "text": [
      "Mother was born September 23, 1934, so she had been a teenager for 2 years and 1 months when Malcom was born, and he was 4 years and 11 months old when Mother stopped being a teenager.\n"
     ]
    }
   ],
   "source": [
    "\n",
    "from datetime import timedelta\n",
    "import humanize\n",
    "\n",
    "motherz_teenage_firstday = motherz_birthdate.replace(year=motherz_birthdate.year+13)\n",
    "motherz_teenage_lastday = motherz_birthdate.replace(year=motherz_birthdate.year+20) - timedelta(days=1)\n",
    "malcomz_start_day = wsasasasasasasasasasasasasasasasasaqedwssssssss(motherz_teenage_firstday - malcomz_birthdate, suppress=[], minimum_unit='months', format='%0.0f')\n",
    "malcomz_stop_day = humanize.precisedelta(motherz_teenage_lastday - malcomz_birthdate, suppress=[], minimum_unit='months', format='%0.0f')\n",
    "print_str = f\"Mother was born {motherz_birthdate.strftime(date_format)},\"\n",
    "print_str += f\" so she had been a teenager for {malcomz_start_day} when Malcom was born,\"\n",
    "print_str += f\" and he was {malcomz_stop_day} old when Mother stopped being a teenager.\"\n",
    "print(print_str)"
   ]
  },
  {
   "cell_type": "code",
   "execution_count": 17,
   "id": "a80b29cf-114a-47f5-b502-96036c28bb01",
   "metadata": {},
   "outputs": [
    {
     "name": "stdout",
     "output_type": "stream",
     "text": [
      "She married Dad on September 13, 1955, when Malcolm was 5 years and 11 months old.\n"
     ]
    }
   ],
   "source": [
    "\n",
    "malcomz_ring_delta = humanize.precisedelta(mickey_joe_married - malcomz_birthdate, suppress=[], minimum_unit='months', format='%0.0f')\n",
    "print_str = f\"She married Dad on {mickey_joe_married.strftime(date_format)}, when Malcolm was {malcomz_ring_delta} old.\"\n",
    "print(print_str)"
   ]
  },
  {
   "cell_type": "code",
   "execution_count": 18,
   "id": "a3e55082-2ed5-4e87-b063-47000346eb4a",
   "metadata": {},
   "outputs": [
    {
     "name": "stdout",
     "output_type": "stream",
     "text": [
      "['date.ctime', 'date.day', 'date.fromisocalendar', 'date.fromisoformat', 'date.fromordinal', 'date.fromtimestamp', 'date.isocalendar', 'date.isoformat', 'date.isoweekday', 'date.max', 'date.min', 'date.month', 'date.replace', 'date.resolution', 'date.strftime', 'date.timetuple', 'date.today', 'date.toordinal', 'date.weekday', 'date.year']\n",
      "['humanize.activate', 'humanize.apnumber', 'humanize.clamp', 'humanize.deactivate', 'humanize.filesize', 'humanize.fractional', 'humanize.i18n', 'humanize.importlib_metadata', 'humanize.intcomma', 'humanize.intword', 'humanize.naturaldate', 'humanize.naturalday', 'humanize.naturaldelta', 'humanize.naturalsize', 'humanize.naturaltime', 'humanize.number', 'humanize.ordinal', 'humanize.precisedelta', 'humanize.scientific', 'humanize.thousands_separator', 'humanize.time']\n"
     ]
    }
   ],
   "source": [
    "\n",
    "from datetime import date\n",
    "\n",
    "print(['date.{}'.format(fn) for fn in dir(date) if not fn.startswith('_')])\n",
    "print(['humanize.{}'.format(fn) for fn in dir(humanize) if not fn.startswith('_')])"
   ]
  },
  {
   "cell_type": "code",
   "execution_count": 40,
   "id": "f9cb8cee-32ce-42fc-8d11-43343fbb5360",
   "metadata": {},
   "outputs": [
    {
     "data": {
      "text/plain": [
       "'1,000'"
      ]
     },
     "execution_count": 40,
     "metadata": {},
     "output_type": "execute_result"
    }
   ],
   "source": [
    "\n",
    "humanize.intcomma(humanize.apnumber(1_000))"
   ]
  },
  {
   "cell_type": "code",
   "execution_count": 43,
   "id": "b911ebab-9963-4446-ad18-e61787d0f130",
   "metadata": {},
   "outputs": [
    {
     "data": {
      "text/plain": [
       "'nine'"
      ]
     },
     "execution_count": 43,
     "metadata": {},
     "output_type": "execute_result"
    }
   ],
   "source": [
    "\n",
    "humanize.intcomma(humanize.apnumber(9))"
   ]
  },
  {
   "cell_type": "code",
   "execution_count": 72,
   "id": "fe531bc8-f085-4d53-ac77-168259220aaa",
   "metadata": {},
   "outputs": [
    {
     "data": {
      "text/plain": [
       "'14 minutes and 46.96 seconds'"
      ]
     },
     "execution_count": 72,
     "metadata": {},
     "output_type": "execute_result"
    }
   ],
   "source": [
    "\n",
    "# Return a natural representation of a timedelta or number of seconds.\n",
    "from datetime import timedelta\n",
    "\n",
    "humanize.precisedelta(timedelta(minutes=(140+30)/11.5))"
   ]
  },
  {
   "cell_type": "code",
   "execution_count": 63,
   "id": "680f4098-b1ba-4a77-87a7-a757f9b56cf1",
   "metadata": {},
   "outputs": [
    {
     "data": {
      "text/plain": [
       "'2 hours ago'"
      ]
     },
     "execution_count": 63,
     "metadata": {},
     "output_type": "execute_result"
    }
   ],
   "source": [
    "\n",
    "# Return a natural representation of a time in a resolution that makes sense.\n",
    "\n",
    "humanize.naturaltime(timedelta(minutes=120))"
   ]
  },
  {
   "cell_type": "code",
   "execution_count": 52,
   "id": "7c626332-51af-4a39-a272-f155c3a6df9f",
   "metadata": {},
   "outputs": [
    {
     "data": {
      "text/plain": [
       "'yesterday'"
      ]
     },
     "execution_count": 52,
     "metadata": {},
     "output_type": "execute_result"
    }
   ],
   "source": [
    "\n",
    "# Return a natural day.\n",
    "# For date values that are tomorrow, today or yesterday compared to\n",
    "# present day return representing string. Otherwise, return a string\n",
    "# formatted according to `format`.\n",
    "from datetime import timedelta\n",
    "\n",
    "date_obj = date.today() - timedelta(days=1)\n",
    "humanize.naturalday(date_obj)"
   ]
  },
  {
   "cell_type": "code",
   "execution_count": 49,
   "id": "b3855286-daac-4775-9b74-3d529d5ac282",
   "metadata": {},
   "outputs": [
    {
     "data": {
      "text/plain": [
       "'Oct 06 2022'"
      ]
     },
     "execution_count": 49,
     "metadata": {},
     "output_type": "execute_result"
    }
   ],
   "source": [
    "\n",
    "# Like `naturalday`, but append a year for dates more than ~five months away.\n",
    "from datetime import timedelta\n",
    "\n",
    "date_obj = date.today() + timedelta(days=6*30)\n",
    "humanize.naturaldate(date_obj)"
   ]
  },
  {
   "cell_type": "code",
   "execution_count": 76,
   "id": "df14659e-f248-4f01-8269-85e6914285e3",
   "metadata": {},
   "outputs": [
    {
     "name": "stdout",
     "output_type": "stream",
     "text": [
      "['humanize.time.Enum', 'humanize.time.Unit', 'humanize.time.dt', 'humanize.time.intcomma', 'humanize.time.math', 'humanize.time.naturaldate', 'humanize.time.naturalday', 'humanize.time.naturaldelta', 'humanize.time.naturaltime', 'humanize.time.precisedelta', 'humanize.time.total_ordering']\n"
     ]
    }
   ],
   "source": [
    "\n",
    "print(['humanize.time.{}'.format(fn) for fn in dir(humanize.time) if not fn.startswith('_')])"
   ]
  },
  {
   "cell_type": "code",
   "execution_count": 77,
   "id": "4105c24a-894d-4a00-98c6-4fdd6aad67bb",
   "metadata": {},
   "outputs": [
    {
     "data": {
      "text/plain": [
       "\u001b[1;31mSignature:\u001b[0m \u001b[0mhumanize\u001b[0m\u001b[1;33m.\u001b[0m\u001b[0mtime\u001b[0m\u001b[1;33m.\u001b[0m\u001b[0mtotal_ordering\u001b[0m\u001b[1;33m(\u001b[0m\u001b[0mcls\u001b[0m\u001b[1;33m)\u001b[0m\u001b[1;33m\u001b[0m\u001b[1;33m\u001b[0m\u001b[0m\n",
       "\u001b[1;31mDocstring:\u001b[0m Class decorator that fills in missing ordering methods\n",
       "\u001b[1;31mFile:\u001b[0m      c:\\programdata\\anaconda3\\lib\\functools.py\n",
       "\u001b[1;31mType:\u001b[0m      function\n"
      ]
     },
     "metadata": {},
     "output_type": "display_data"
    }
   ],
   "source": [
    "\n",
    "humanize.time.total_ordering?"
   ]
  },
  {
   "cell_type": "code",
   "execution_count": 32,
   "id": "aee3e086-2ac1-429f-82c8-972319e9eabd",
   "metadata": {},
   "outputs": [
    {
     "name": "stdout",
     "output_type": "stream",
     "text": [
      "['humanize.filesize.naturalsize', 'humanize.filesize.suffixes']\n"
     ]
    }
   ],
   "source": [
    "\n",
    "print(['humanize.filesize.{}'.format(fn) for fn in dir(humanize.filesize) if not fn.startswith('_')])"
   ]
  },
  {
   "cell_type": "code",
   "execution_count": 31,
   "id": "38a9603d-ea3b-4184-a309-4229aaa126b1",
   "metadata": {},
   "outputs": [
    {
     "name": "stdout",
     "output_type": "stream",
     "text": [
      "['humanize.i18n.activate', 'humanize.i18n.deactivate', 'humanize.i18n.get_translation', 'humanize.i18n.gettext_module', 'humanize.i18n.local', 'humanize.i18n.os', 'humanize.i18n.thousands_separator']\n"
     ]
    }
   ],
   "source": [
    "\n",
    "print(['humanize.i18n.{}'.format(fn) for fn in dir(humanize.i18n) if not fn.startswith('_')])"
   ]
  },
  {
   "cell_type": "code",
   "execution_count": 37,
   "id": "13adc450-7769-44ab-b507-79ad53e7a106",
   "metadata": {},
   "outputs": [
    {
     "name": "stdout",
     "output_type": "stream",
     "text": [
      "['humanize.importlib_metadata.ConfigParser', 'humanize.importlib_metadata.Distribution', 'humanize.importlib_metadata.DistributionFinder', 'humanize.importlib_metadata.EntryPoint', 'humanize.importlib_metadata.FastPath', 'humanize.importlib_metadata.FileHash', 'humanize.importlib_metadata.MetaPathFinder', 'humanize.importlib_metadata.MetadataPathFinder', 'humanize.importlib_metadata.PackageNotFoundError', 'humanize.importlib_metadata.PackagePath', 'humanize.importlib_metadata.PathDistribution', 'humanize.importlib_metadata.Prepared', 'humanize.importlib_metadata.abc', 'humanize.importlib_metadata.collections', 'humanize.importlib_metadata.csv', 'humanize.importlib_metadata.distribution', 'humanize.importlib_metadata.distributions', 'humanize.importlib_metadata.email', 'humanize.importlib_metadata.entry_points', 'humanize.importlib_metadata.files', 'humanize.importlib_metadata.functools', 'humanize.importlib_metadata.import_module', 'humanize.importlib_metadata.io', 'humanize.importlib_metadata.itertools', 'humanize.importlib_metadata.metadata', 'humanize.importlib_metadata.operator', 'humanize.importlib_metadata.os', 'humanize.importlib_metadata.pathlib', 'humanize.importlib_metadata.posixpath', 'humanize.importlib_metadata.re', 'humanize.importlib_metadata.requires', 'humanize.importlib_metadata.starmap', 'humanize.importlib_metadata.suppress', 'humanize.importlib_metadata.sys', 'humanize.importlib_metadata.version', 'humanize.importlib_metadata.zipfile']\n"
     ]
    }
   ],
   "source": [
    "\n",
    "print(['humanize.importlib_metadata.{}'.format(fn) for fn in dir(humanize.importlib_metadata) if not fn.startswith('_')])"
   ]
  },
  {
   "cell_type": "code",
   "execution_count": 35,
   "id": "27629b12-6fb5-4b96-8e9e-2efb3ca601fb",
   "metadata": {},
   "outputs": [
    {
     "data": {
      "text/plain": [
       "','"
      ]
     },
     "execution_count": 35,
     "metadata": {},
     "output_type": "execute_result"
    }
   ],
   "source": [
    "\n",
    "humanize.i18n.thousands_separator()"
   ]
  },
  {
   "cell_type": "code",
   "execution_count": 67,
   "id": "bfb73385-7d8f-4bf2-b4f1-2f8f3ac27f79",
   "metadata": {},
   "outputs": [
    {
     "name": "stdout",
     "output_type": "stream",
     "text": [
      "['humanize.number.Fraction', 'humanize.number.NS_', 'humanize.number.P_', 'humanize.number.apnumber', 'humanize.number.clamp', 'humanize.number.fractional', 'humanize.number.human_powers', 'humanize.number.intcomma', 'humanize.number.intword', 'humanize.number.math', 'humanize.number.ordinal', 'humanize.number.powers', 'humanize.number.re', 'humanize.number.scientific', 'humanize.number.thousands_separator']\n"
     ]
    }
   ],
   "source": [
    "\n",
    "print(['humanize.number.{}'.format(fn) for fn in dir(humanize.number) if not fn.startswith('_')])"
   ]
  },
  {
   "cell_type": "code",
   "execution_count": 69,
   "id": "4f1b6d90-58fc-4c5e-b03f-23b229645bfe",
   "metadata": {},
   "outputs": [
    {
     "data": {
      "text/plain": [
       "\u001b[1;31mSignature:\u001b[0m \u001b[0mhumanize\u001b[0m\u001b[1;33m.\u001b[0m\u001b[0mnumber\u001b[0m\u001b[1;33m.\u001b[0m\u001b[0mscientific\u001b[0m\u001b[1;33m(\u001b[0m\u001b[0mvalue\u001b[0m\u001b[1;33m,\u001b[0m \u001b[0mprecision\u001b[0m\u001b[1;33m=\u001b[0m\u001b[1;36m2\u001b[0m\u001b[1;33m)\u001b[0m\u001b[1;33m\u001b[0m\u001b[1;33m\u001b[0m\u001b[0m\n",
       "\u001b[1;31mDocstring:\u001b[0m\n",
       "Return number in string scientific notation z.wq x 10ⁿ.\n",
       "\n",
       "Examples:\n",
       "    ```pycon\n",
       "    >>> scientific(float(0.3))\n",
       "    '3.00 x 10⁻¹'\n",
       "    >>> scientific(int(500))\n",
       "    '5.00 x 10²'\n",
       "    >>> scientific(-1000)\n",
       "    '1.00 x 10⁻³'\n",
       "    >>> scientific(1000, 1)\n",
       "    '1.0 x 10³'\n",
       "    >>> scientific(1000, 3)\n",
       "    '1.000 x 10³'\n",
       "    >>> scientific(\"99\")\n",
       "    '9.90 x 10¹'\n",
       "    >>> scientific(\"foo\")\n",
       "    'foo'\n",
       "    >>> scientific(None) is None\n",
       "    True\n",
       "\n",
       "    ```\n",
       "\n",
       "Args:\n",
       "    value (int, float, str): Input number.\n",
       "    precision (int): Number of decimal for first part of the number.\n",
       "\n",
       "Returns:\n",
       "    str: Number in scientific notation z.wq x 10ⁿ.\n",
       "\u001b[1;31mFile:\u001b[0m      c:\\programdata\\anaconda3\\lib\\site-packages\\humanize\\number.py\n",
       "\u001b[1;31mType:\u001b[0m      function\n"
      ]
     },
     "metadata": {},
     "output_type": "display_data"
    }
   ],
   "source": [
    "\n",
    "humanize.number.scientific?"
   ]
  },
  {
   "cell_type": "code",
   "execution_count": 17,
   "id": "a0c5b244-6114-4dfa-8a2a-8c90b5253001",
   "metadata": {},
   "outputs": [],
   "source": [
    "\n",
    "# print(['datetime.{}'.format(fn) for fn in dir(datetime) if not fn.startswith('_')])\n",
    "def how_long_its_been(from_date_str, to_date_str=None, suppress=[]):\n",
    "    from_datetime_obj = datetime.strptime(from_date_str, '%B %d, %Y')\n",
    "    if to_date_str is None:\n",
    "        to_datetime_obj = datetime.now()\n",
    "    else:\n",
    "        to_datetime_obj = datetime.strptime(to_date_str, '%B %d, %Y')\n",
    "    how_long_str = humanize.precisedelta(to_datetime_obj - from_datetime_obj, suppress=suppress,\n",
    "                                         minimum_unit='days', format='%0.0f')\n",
    "    \n",
    "    return how_long_str"
   ]
  },
  {
   "cell_type": "code",
   "execution_count": 22,
   "id": "bf5df6d1-635d-4c9f-ac30-f958a787b960",
   "metadata": {},
   "outputs": [
    {
     "data": {
      "text/plain": [
       "'14 minutes'"
      ]
     },
     "execution_count": 22,
     "metadata": {},
     "output_type": "execute_result"
    }
   ],
   "source": [
    "\n",
    "secs_float = 819.4461708068848\n",
    "humanize.precisedelta(secs_float, minimum_unit='minutes', format='%0.0f')"
   ]
  },
  {
   "cell_type": "code",
   "execution_count": 18,
   "id": "ee3ebac2-d6ce-4d6c-b1ff-17db8e3e108d",
   "metadata": {},
   "outputs": [
    {
     "data": {
      "text/plain": [
       "'303 days'"
      ]
     },
     "execution_count": 18,
     "metadata": {},
     "output_type": "execute_result"
    }
   ],
   "source": [
    "\n",
    "starting_date = 'January 1, 2011'\n",
    "ending_date = 'October 31, 2011'\n",
    "how_long_its_been(starting_date, ending_date, suppress=['months'])"
   ]
  },
  {
   "cell_type": "code",
   "execution_count": 19,
   "id": "26623ca6-746c-47b6-b693-d5b1c8dad181",
   "metadata": {},
   "outputs": [
    {
     "data": {
      "text/plain": [
       "'35 years, 10 months and 1 days'"
      ]
     },
     "execution_count": 19,
     "metadata": {},
     "output_type": "execute_result"
    }
   ],
   "source": [
    "\n",
    "marriage_date = 'June 14, 1986'\n",
    "how_long_its_been(marriage_date)"
   ]
  },
  {
   "cell_type": "code",
   "execution_count": 20,
   "id": "a2a7e529-937d-4cca-a320-b654328de1aa",
   "metadata": {},
   "outputs": [
    {
     "data": {
      "text/plain": [
       "'31 years, 5 months and 8 days'"
      ]
     },
     "execution_count": 20,
     "metadata": {},
     "output_type": "execute_result"
    }
   ],
   "source": [
    "\n",
    "steves_birth_date = 'November 5, 1990'\n",
    "how_long_its_been(steves_birth_date)"
   ]
  },
  {
   "cell_type": "code",
   "execution_count": 21,
   "id": "d49dcf99-1f5a-47a9-9ac3-38b8eb138390",
   "metadata": {},
   "outputs": [
    {
     "data": {
      "text/plain": [
       "'25 years, 6 months and 12 days'"
      ]
     },
     "execution_count": 21,
     "metadata": {},
     "output_type": "execute_result"
    }
   ],
   "source": [
    "\n",
    "jays_birth_date = 'September 30, 1996'\n",
    "how_long_its_been(jays_birth_date)"
   ]
  },
  {
   "cell_type": "code",
   "execution_count": 19,
   "id": "896e6de3-7219-41bc-82c8-47505a2e53e9",
   "metadata": {},
   "outputs": [
    {
     "data": {
      "text/plain": [
       "datetime.date(2019, 4, 2)"
      ]
     },
     "execution_count": 19,
     "metadata": {},
     "output_type": "execute_result"
    }
   ],
   "source": [
    "\n",
    "from datetime import timedelta\n",
    "\n",
    "date.today() - timedelta(days=3*365)"
   ]
  },
  {
   "cell_type": "code",
   "execution_count": null,
   "id": "ddb87113-6bf3-41f1-850f-00f576e52376",
   "metadata": {},
   "outputs": [],
   "source": []
  }
 ],
 "metadata": {
  "kernelspec": {
   "display_name": "Python 3 (ipykernel)",
   "language": "python",
   "name": "python3"
  },
  "language_info": {
   "codemirror_mode": {
    "name": "ipython",
    "version": 3
   },
   "file_extension": ".py",
   "mimetype": "text/x-python",
   "name": "python",
   "nbconvert_exporter": "python",
   "pygments_lexer": "ipython3",
   "version": "3.9.7"
  }
 },
 "nbformat": 4,
 "nbformat_minor": 5
}
