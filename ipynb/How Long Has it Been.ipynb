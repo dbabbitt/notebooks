{
 "cells": [
  {
   "cell_type": "code",
   "execution_count": null,
   "id": "43a39be1-37eb-4fdf-af7d-8ca6264698d2",
   "metadata": {},
   "outputs": [],
   "source": []
  },
  {
   "cell_type": "code",
   "execution_count": 3,
   "id": "a3e55082-2ed5-4e87-b063-47000346eb4a",
   "metadata": {},
   "outputs": [
    {
     "name": "stdout",
     "output_type": "stream",
     "text": [
      "['date.ctime', 'date.day', 'date.fromisocalendar', 'date.fromisoformat', 'date.fromordinal', 'date.fromtimestamp', 'date.isocalendar', 'date.isoformat', 'date.isoweekday', 'date.max', 'date.min', 'date.month', 'date.replace', 'date.resolution', 'date.strftime', 'date.timetuple', 'date.today', 'date.toordinal', 'date.weekday', 'date.year']\n",
      "['humanize.activate', 'humanize.apnumber', 'humanize.clamp', 'humanize.deactivate', 'humanize.filesize', 'humanize.fractional', 'humanize.i18n', 'humanize.importlib_metadata', 'humanize.intcomma', 'humanize.intword', 'humanize.naturaldate', 'humanize.naturalday', 'humanize.naturaldelta', 'humanize.naturalsize', 'humanize.naturaltime', 'humanize.number', 'humanize.ordinal', 'humanize.precisedelta', 'humanize.scientific', 'humanize.thousands_separator', 'humanize.time']\n"
     ]
    }
   ],
   "source": [
    "\n",
    "from datetime import date\n",
    "import humanize\n",
    "\n",
    "print(['date.{}'.format(fn) for fn in dir(date) if not fn.startswith('_')])\n",
    "print(['humanize.{}'.format(fn) for fn in dir(humanize) if not fn.startswith('_')])"
   ]
  },
  {
   "cell_type": "code",
   "execution_count": 40,
   "id": "f9cb8cee-32ce-42fc-8d11-43343fbb5360",
   "metadata": {},
   "outputs": [
    {
     "data": {
      "text/plain": [
       "'1,000'"
      ]
     },
     "execution_count": 40,
     "metadata": {},
     "output_type": "execute_result"
    }
   ],
   "source": [
    "\n",
    "humanize.intcomma(humanize.apnumber(1_000))"
   ]
  },
  {
   "cell_type": "code",
   "execution_count": 43,
   "id": "b911ebab-9963-4446-ad18-e61787d0f130",
   "metadata": {},
   "outputs": [
    {
     "data": {
      "text/plain": [
       "'nine'"
      ]
     },
     "execution_count": 43,
     "metadata": {},
     "output_type": "execute_result"
    }
   ],
   "source": [
    "\n",
    "humanize.intcomma(humanize.apnumber(9))"
   ]
  },
  {
   "cell_type": "code",
   "execution_count": 72,
   "id": "fe531bc8-f085-4d53-ac77-168259220aaa",
   "metadata": {},
   "outputs": [
    {
     "data": {
      "text/plain": [
       "'14 minutes and 46.96 seconds'"
      ]
     },
     "execution_count": 72,
     "metadata": {},
     "output_type": "execute_result"
    }
   ],
   "source": [
    "\n",
    "# Return a natural representation of a timedelta or number of seconds.\n",
    "from datetime import timedelta\n",
    "\n",
    "humanize.precisedelta(timedelta(minutes=(140+30)/11.5))"
   ]
  },
  {
   "cell_type": "code",
   "execution_count": 63,
   "id": "680f4098-b1ba-4a77-87a7-a757f9b56cf1",
   "metadata": {},
   "outputs": [
    {
     "data": {
      "text/plain": [
       "'2 hours ago'"
      ]
     },
     "execution_count": 63,
     "metadata": {},
     "output_type": "execute_result"
    }
   ],
   "source": [
    "\n",
    "# Return a natural representation of a time in a resolution that makes sense.\n",
    "from datetime import timedelta\n",
    "\n",
    "humanize.naturaltime(timedelta(minutes=120))"
   ]
  },
  {
   "cell_type": "code",
   "execution_count": 52,
   "id": "7c626332-51af-4a39-a272-f155c3a6df9f",
   "metadata": {},
   "outputs": [
    {
     "data": {
      "text/plain": [
       "'yesterday'"
      ]
     },
     "execution_count": 52,
     "metadata": {},
     "output_type": "execute_result"
    }
   ],
   "source": [
    "\n",
    "# Return a natural day.\n",
    "# For date values that are tomorrow, today or yesterday compared to\n",
    "# present day return representing string. Otherwise, return a string\n",
    "# formatted according to `format`.\n",
    "from datetime import timedelta\n",
    "\n",
    "date_obj = date.today() - timedelta(days=1)\n",
    "humanize.naturalday(date_obj)"
   ]
  },
  {
   "cell_type": "code",
   "execution_count": 49,
   "id": "b3855286-daac-4775-9b74-3d529d5ac282",
   "metadata": {},
   "outputs": [
    {
     "data": {
      "text/plain": [
       "'Oct 06 2022'"
      ]
     },
     "execution_count": 49,
     "metadata": {},
     "output_type": "execute_result"
    }
   ],
   "source": [
    "\n",
    "# Like `naturalday`, but append a year for dates more than ~five months away.\n",
    "from datetime import timedelta\n",
    "\n",
    "date_obj = date.today() + timedelta(days=6*30)\n",
    "humanize.naturaldate(date_obj)"
   ]
  },
  {
   "cell_type": "code",
   "execution_count": 76,
   "id": "df14659e-f248-4f01-8269-85e6914285e3",
   "metadata": {},
   "outputs": [
    {
     "name": "stdout",
     "output_type": "stream",
     "text": [
      "['humanize.time.Enum', 'humanize.time.Unit', 'humanize.time.dt', 'humanize.time.intcomma', 'humanize.time.math', 'humanize.time.naturaldate', 'humanize.time.naturalday', 'humanize.time.naturaldelta', 'humanize.time.naturaltime', 'humanize.time.precisedelta', 'humanize.time.total_ordering']\n"
     ]
    }
   ],
   "source": [
    "\n",
    "print(['humanize.time.{}'.format(fn) for fn in dir(humanize.time) if not fn.startswith('_')])"
   ]
  },
  {
   "cell_type": "code",
   "execution_count": 77,
   "id": "4105c24a-894d-4a00-98c6-4fdd6aad67bb",
   "metadata": {},
   "outputs": [
    {
     "data": {
      "text/plain": [
       "\u001b[1;31mSignature:\u001b[0m \u001b[0mhumanize\u001b[0m\u001b[1;33m.\u001b[0m\u001b[0mtime\u001b[0m\u001b[1;33m.\u001b[0m\u001b[0mtotal_ordering\u001b[0m\u001b[1;33m(\u001b[0m\u001b[0mcls\u001b[0m\u001b[1;33m)\u001b[0m\u001b[1;33m\u001b[0m\u001b[1;33m\u001b[0m\u001b[0m\n",
       "\u001b[1;31mDocstring:\u001b[0m Class decorator that fills in missing ordering methods\n",
       "\u001b[1;31mFile:\u001b[0m      c:\\programdata\\anaconda3\\lib\\functools.py\n",
       "\u001b[1;31mType:\u001b[0m      function\n"
      ]
     },
     "metadata": {},
     "output_type": "display_data"
    }
   ],
   "source": [
    "\n",
    "humanize.time.total_ordering?"
   ]
  },
  {
   "cell_type": "code",
   "execution_count": 32,
   "id": "aee3e086-2ac1-429f-82c8-972319e9eabd",
   "metadata": {},
   "outputs": [
    {
     "name": "stdout",
     "output_type": "stream",
     "text": [
      "['humanize.filesize.naturalsize', 'humanize.filesize.suffixes']\n"
     ]
    }
   ],
   "source": [
    "\n",
    "print(['humanize.filesize.{}'.format(fn) for fn in dir(humanize.filesize) if not fn.startswith('_')])"
   ]
  },
  {
   "cell_type": "code",
   "execution_count": 31,
   "id": "38a9603d-ea3b-4184-a309-4229aaa126b1",
   "metadata": {},
   "outputs": [
    {
     "name": "stdout",
     "output_type": "stream",
     "text": [
      "['humanize.i18n.activate', 'humanize.i18n.deactivate', 'humanize.i18n.get_translation', 'humanize.i18n.gettext_module', 'humanize.i18n.local', 'humanize.i18n.os', 'humanize.i18n.thousands_separator']\n"
     ]
    }
   ],
   "source": [
    "\n",
    "print(['humanize.i18n.{}'.format(fn) for fn in dir(humanize.i18n) if not fn.startswith('_')])"
   ]
  },
  {
   "cell_type": "code",
   "execution_count": 37,
   "id": "13adc450-7769-44ab-b507-79ad53e7a106",
   "metadata": {},
   "outputs": [
    {
     "name": "stdout",
     "output_type": "stream",
     "text": [
      "['humanize.importlib_metadata.ConfigParser', 'humanize.importlib_metadata.Distribution', 'humanize.importlib_metadata.DistributionFinder', 'humanize.importlib_metadata.EntryPoint', 'humanize.importlib_metadata.FastPath', 'humanize.importlib_metadata.FileHash', 'humanize.importlib_metadata.MetaPathFinder', 'humanize.importlib_metadata.MetadataPathFinder', 'humanize.importlib_metadata.PackageNotFoundError', 'humanize.importlib_metadata.PackagePath', 'humanize.importlib_metadata.PathDistribution', 'humanize.importlib_metadata.Prepared', 'humanize.importlib_metadata.abc', 'humanize.importlib_metadata.collections', 'humanize.importlib_metadata.csv', 'humanize.importlib_metadata.distribution', 'humanize.importlib_metadata.distributions', 'humanize.importlib_metadata.email', 'humanize.importlib_metadata.entry_points', 'humanize.importlib_metadata.files', 'humanize.importlib_metadata.functools', 'humanize.importlib_metadata.import_module', 'humanize.importlib_metadata.io', 'humanize.importlib_metadata.itertools', 'humanize.importlib_metadata.metadata', 'humanize.importlib_metadata.operator', 'humanize.importlib_metadata.os', 'humanize.importlib_metadata.pathlib', 'humanize.importlib_metadata.posixpath', 'humanize.importlib_metadata.re', 'humanize.importlib_metadata.requires', 'humanize.importlib_metadata.starmap', 'humanize.importlib_metadata.suppress', 'humanize.importlib_metadata.sys', 'humanize.importlib_metadata.version', 'humanize.importlib_metadata.zipfile']\n"
     ]
    }
   ],
   "source": [
    "\n",
    "print(['humanize.importlib_metadata.{}'.format(fn) for fn in dir(humanize.importlib_metadata) if not fn.startswith('_')])"
   ]
  },
  {
   "cell_type": "code",
   "execution_count": 35,
   "id": "27629b12-6fb5-4b96-8e9e-2efb3ca601fb",
   "metadata": {},
   "outputs": [
    {
     "data": {
      "text/plain": [
       "','"
      ]
     },
     "execution_count": 35,
     "metadata": {},
     "output_type": "execute_result"
    }
   ],
   "source": [
    "\n",
    "humanize.i18n.thousands_separator()"
   ]
  },
  {
   "cell_type": "code",
   "execution_count": 67,
   "id": "bfb73385-7d8f-4bf2-b4f1-2f8f3ac27f79",
   "metadata": {},
   "outputs": [
    {
     "name": "stdout",
     "output_type": "stream",
     "text": [
      "['humanize.number.Fraction', 'humanize.number.NS_', 'humanize.number.P_', 'humanize.number.apnumber', 'humanize.number.clamp', 'humanize.number.fractional', 'humanize.number.human_powers', 'humanize.number.intcomma', 'humanize.number.intword', 'humanize.number.math', 'humanize.number.ordinal', 'humanize.number.powers', 'humanize.number.re', 'humanize.number.scientific', 'humanize.number.thousands_separator']\n"
     ]
    }
   ],
   "source": [
    "\n",
    "print(['humanize.number.{}'.format(fn) for fn in dir(humanize.number) if not fn.startswith('_')])"
   ]
  },
  {
   "cell_type": "code",
   "execution_count": 69,
   "id": "4f1b6d90-58fc-4c5e-b03f-23b229645bfe",
   "metadata": {},
   "outputs": [
    {
     "data": {
      "text/plain": [
       "\u001b[1;31mSignature:\u001b[0m \u001b[0mhumanize\u001b[0m\u001b[1;33m.\u001b[0m\u001b[0mnumber\u001b[0m\u001b[1;33m.\u001b[0m\u001b[0mscientific\u001b[0m\u001b[1;33m(\u001b[0m\u001b[0mvalue\u001b[0m\u001b[1;33m,\u001b[0m \u001b[0mprecision\u001b[0m\u001b[1;33m=\u001b[0m\u001b[1;36m2\u001b[0m\u001b[1;33m)\u001b[0m\u001b[1;33m\u001b[0m\u001b[1;33m\u001b[0m\u001b[0m\n",
       "\u001b[1;31mDocstring:\u001b[0m\n",
       "Return number in string scientific notation z.wq x 10ⁿ.\n",
       "\n",
       "Examples:\n",
       "    ```pycon\n",
       "    >>> scientific(float(0.3))\n",
       "    '3.00 x 10⁻¹'\n",
       "    >>> scientific(int(500))\n",
       "    '5.00 x 10²'\n",
       "    >>> scientific(-1000)\n",
       "    '1.00 x 10⁻³'\n",
       "    >>> scientific(1000, 1)\n",
       "    '1.0 x 10³'\n",
       "    >>> scientific(1000, 3)\n",
       "    '1.000 x 10³'\n",
       "    >>> scientific(\"99\")\n",
       "    '9.90 x 10¹'\n",
       "    >>> scientific(\"foo\")\n",
       "    'foo'\n",
       "    >>> scientific(None) is None\n",
       "    True\n",
       "\n",
       "    ```\n",
       "\n",
       "Args:\n",
       "    value (int, float, str): Input number.\n",
       "    precision (int): Number of decimal for first part of the number.\n",
       "\n",
       "Returns:\n",
       "    str: Number in scientific notation z.wq x 10ⁿ.\n",
       "\u001b[1;31mFile:\u001b[0m      c:\\programdata\\anaconda3\\lib\\site-packages\\humanize\\number.py\n",
       "\u001b[1;31mType:\u001b[0m      function\n"
      ]
     },
     "metadata": {},
     "output_type": "display_data"
    }
   ],
   "source": [
    "\n",
    "humanize.number.scientific?"
   ]
  },
  {
   "cell_type": "code",
   "execution_count": 17,
   "id": "a0c5b244-6114-4dfa-8a2a-8c90b5253001",
   "metadata": {},
   "outputs": [],
   "source": [
    "\n",
    "from datetime import datetime\n",
    "\n",
    "# print(['datetime.{}'.format(fn) for fn in dir(datetime) if not fn.startswith('_')])\n",
    "def how_long_its_been(from_date_str, to_date_str=None, suppress=[]):\n",
    "    from_datetime_obj = datetime.strptime(from_date_str, '%B %d, %Y')\n",
    "    if to_date_str is None:\n",
    "        to_datetime_obj = datetime.now()\n",
    "    else:\n",
    "        to_datetime_obj = datetime.strptime(to_date_str, '%B %d, %Y')\n",
    "    how_long_str = humanize.precisedelta(to_datetime_obj - from_datetime_obj, suppress=suppress,\n",
    "                                         minimum_unit='days', format='%0.0f')\n",
    "    \n",
    "    return how_long_str"
   ]
  },
  {
   "cell_type": "code",
   "execution_count": 22,
   "id": "bf5df6d1-635d-4c9f-ac30-f958a787b960",
   "metadata": {},
   "outputs": [
    {
     "data": {
      "text/plain": [
       "'14 minutes'"
      ]
     },
     "execution_count": 22,
     "metadata": {},
     "output_type": "execute_result"
    }
   ],
   "source": [
    "\n",
    "secs_float = 819.4461708068848\n",
    "humanize.precisedelta(secs_float, minimum_unit='minutes', format='%0.0f')"
   ]
  },
  {
   "cell_type": "code",
   "execution_count": 18,
   "id": "ee3ebac2-d6ce-4d6c-b1ff-17db8e3e108d",
   "metadata": {},
   "outputs": [
    {
     "data": {
      "text/plain": [
       "'303 days'"
      ]
     },
     "execution_count": 18,
     "metadata": {},
     "output_type": "execute_result"
    }
   ],
   "source": [
    "\n",
    "starting_date = 'January 1, 2011'\n",
    "ending_date = 'October 31, 2011'\n",
    "how_long_its_been(starting_date, ending_date, suppress=['months'])"
   ]
  },
  {
   "cell_type": "code",
   "execution_count": 19,
   "id": "26623ca6-746c-47b6-b693-d5b1c8dad181",
   "metadata": {},
   "outputs": [
    {
     "data": {
      "text/plain": [
       "'35 years, 10 months and 1 days'"
      ]
     },
     "execution_count": 19,
     "metadata": {},
     "output_type": "execute_result"
    }
   ],
   "source": [
    "\n",
    "marriage_date = 'June 14, 1986'\n",
    "how_long_its_been(marriage_date)"
   ]
  },
  {
   "cell_type": "code",
   "execution_count": 20,
   "id": "a2a7e529-937d-4cca-a320-b654328de1aa",
   "metadata": {},
   "outputs": [
    {
     "data": {
      "text/plain": [
       "'31 years, 5 months and 8 days'"
      ]
     },
     "execution_count": 20,
     "metadata": {},
     "output_type": "execute_result"
    }
   ],
   "source": [
    "\n",
    "steves_birth_date = 'November 5, 1990'\n",
    "how_long_its_been(steves_birth_date)"
   ]
  },
  {
   "cell_type": "code",
   "execution_count": 21,
   "id": "d49dcf99-1f5a-47a9-9ac3-38b8eb138390",
   "metadata": {},
   "outputs": [
    {
     "data": {
      "text/plain": [
       "'25 years, 6 months and 12 days'"
      ]
     },
     "execution_count": 21,
     "metadata": {},
     "output_type": "execute_result"
    }
   ],
   "source": [
    "\n",
    "jays_birth_date = 'September 30, 1996'\n",
    "how_long_its_been(jays_birth_date)"
   ]
  },
  {
   "cell_type": "code",
   "execution_count": 19,
   "id": "896e6de3-7219-41bc-82c8-47505a2e53e9",
   "metadata": {},
   "outputs": [
    {
     "data": {
      "text/plain": [
       "datetime.date(2019, 4, 2)"
      ]
     },
     "execution_count": 19,
     "metadata": {},
     "output_type": "execute_result"
    }
   ],
   "source": [
    "\n",
    "from datetime import timedelta\n",
    "\n",
    "date.today() - timedelta(days=3*365)"
   ]
  },
  {
   "cell_type": "code",
   "execution_count": null,
   "id": "ddb87113-6bf3-41f1-850f-00f576e52376",
   "metadata": {},
   "outputs": [],
   "source": []
  }
 ],
 "metadata": {
  "kernelspec": {
   "display_name": "Python 3 (ipykernel)",
   "language": "python",
   "name": "python3"
  },
  "language_info": {
   "codemirror_mode": {
    "name": "ipython",
    "version": 3
   },
   "file_extension": ".py",
   "mimetype": "text/x-python",
   "name": "python",
   "nbconvert_exporter": "python",
   "pygments_lexer": "ipython3",
   "version": "3.9.7"
  }
 },
 "nbformat": 4,
 "nbformat_minor": 5
}
