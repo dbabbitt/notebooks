{
 "cells": [
  {
   "cell_type": "code",
   "execution_count": 1,
   "id": "original-semiconductor",
   "metadata": {},
   "outputs": [
    {
     "name": "stdout",
     "output_type": "stream",
     "text": [
      "C:\\Program Files\\Graphviz\\bin\\neato.exe\n",
      "C:\\Program Files\\Graphviz\\bin\\dot.exe\n",
      "C:\\Program Files\\Graphviz\\bin\\twopi.exe\n",
      "C:\\Program Files\\Graphviz\\bin\\circo.exe\n",
      "C:\\Program Files\\Graphviz\\bin\\fdp.exe\n",
      "C:\\Program Files\\Graphviz\\bin\\nop.exe\n",
      "C:\\Program Files (x86)\\Gow\\bin\\wc.exe\n",
      "C:\\Program Files\\Graphviz\\bin\\acyclic.exe\n",
      "C:\\Program Files\\Graphviz\\bin\\gvpr.exe\n",
      "C:\\Program Files\\Graphviz\\bin\\gvcolor.exe\n",
      "C:\\Program Files\\Graphviz\\bin\\ccomps.exe\n",
      "C:\\Program Files\\Graphviz\\bin\\sccmap.exe\n",
      "C:\\Program Files\\Graphviz\\bin\\tred.exe\n",
      "C:\\Program Files\\Graphviz\\bin\\sfdp.exe\n",
      "C:\\Program Files\\Graphviz\\bin\\unflatten.exe\n"
     ]
    }
   ],
   "source": [
    "\n",
    "# Get paths of graphviz programs\n",
    "import pygraphviz as pgv\n",
    "\n",
    "A = pgv.AGraph()\n",
    "progs_list = ['neato', 'dot', 'twopi', 'circo', 'fdp', 'nop', 'wc', 'acyclic', 'gvpr', 'gvcolor',\n",
    "              'ccomps', 'sccmap', 'tred', 'sfdp', 'unflatten']\n",
    "for prog in progs_list:\n",
    "    try:\n",
    "        runprog = A._get_prog(prog)\n",
    "        print(f'{runprog}')\n",
    "    except ValueError as e:\n",
    "        print(f'{prog} gets this error: {str(e).strip()}')"
   ]
  },
  {
   "cell_type": "code",
   "execution_count": null,
   "id": "moderate-island",
   "metadata": {},
   "outputs": [],
   "source": []
  }
 ],
 "metadata": {
  "kernelspec": {
   "display_name": "Python 3",
   "language": "python",
   "name": "python3"
  },
  "language_info": {
   "codemirror_mode": {
    "name": "ipython",
    "version": 3
   },
   "file_extension": ".py",
   "mimetype": "text/x-python",
   "name": "python",
   "nbconvert_exporter": "python",
   "pygments_lexer": "ipython3",
   "version": "3.7.9"
  }
 },
 "nbformat": 4,
 "nbformat_minor": 5
}
