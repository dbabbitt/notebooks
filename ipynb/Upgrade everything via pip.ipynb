{
 "cells": [
  {
   "cell_type": "code",
   "execution_count": 2,
   "metadata": {},
   "outputs": [
    {
     "name": "stdout",
     "output_type": "stream",
     "text": [
      "Pretty printing has been turned ON\n",
      "C:\\Users\\577342\\AppData\\Local\\Continuum\\anaconda3\\Scripts\\pip.exe install --upgrade --ignore-installed sphinxcontrib-fulltoc six setuptools seaborn scipy PyYAML pytz python-dateutil pytest pyparsing pycparser py pluggy pandas palettable nxviz numpy networkx more-itertools matplotlib kiwisolver idna hypothesis decorator cycler cryptography coverage colorama cffi attrs atomicwrites asn1crypto zict xmltodict xlwt xlwings XlsxWriter xlrd wrapt wincertstore win-unicode-console win-inet-pton widgetsnbextension wheel Werkzeug webencodings wcwidth urllib3 unicodecsv typing traitlets tornado toolz testpath terminado termcolor tensorflow tensorflow-gpu tensorboard tblib tables sympy statsmodels SQLAlchemy spyder sphinxcontrib-websupport Sphinx sortedcontainers sortedcollections snowballstemmer singledispatch simplegeneric Send2Trash scikit-learn scikit-image ruamel-yaml rope requests QtPy qtconsole QtAwesome pyzmq pywinpty pywin32 PyWavelets pytest-remotedata pytest-openfiles pytest-doctestplus pytest-astropy pytest-arraydiff PySocks pyOpenSSL PyOpenGL pyodbc pylint Pygments pyflakes pydotplus pydot2 pycurl pycrypto pycosat pycodestyle psutil protobuf prompt-toolkit ply pkginfo pip Pillow pickleshare pep8 patsy pathlib2 path.py partd parso pandocfilters packaging openpyxl olefile odo numpydoc numexpr numba notebook nose nltk nbformat nbconvert navigator-updater multipledispatch msgpack msgpack-python mpmath mkl-random mkl-fft mistune menuinst mcpi mccabe MarkupSafe Markdown lxml lucid locket llvmlite lazy-object-proxy Keras-Preprocessing Keras-Applications jupyterlab jupyterlab-launcher jupyter jupyter-core jupyter-console jupyter-client jsonschema Jinja2 jedi jdcal itsdangerous isort ipywidgets ipython ipython-genutils ipykernel imagesize imageio html5lib heapdict h5py grpcio greenlet graphviz glob2 gevent gast future Flask Flask-Cors filelock fastcache et-xmlfile entrypoints elasticsearch docutils distributed datashape dask cytoolz Cython contextlib2 conda conda-verify conda-build comtypes clyent cloudpickle click chardet certifi Bottleneck boto bokeh bleach blaze bkcharts bitarray beautifulsoup4 backports.shutil-get-terminal-size backports.functools-lru-cache backports-abc backcall Babel astropy astroid astor anaconda-project anaconda-navigator anaconda-client alabaster absl-py\n"
     ]
    }
   ],
   "source": [
    "\n",
    "import sys\n",
    "import os\n",
    "import pkg_resources\n",
    "from subprocess import call\n",
    "%pprint\n",
    "\n",
    "python_path = sys.executable\n",
    "pip_path = os.path.realpath(os.path.join(python_path, os.path.pardir, 'Scripts', 'pip.exe'))\n",
    "packages = [dist.project_name for dist in pkg_resources.working_set]\n",
    "print('{} install --upgrade --ignore-installed '.format(pip_path) + ' '.join(packages))"
   ]
  },
  {
   "cell_type": "code",
   "execution_count": null,
   "metadata": {},
   "outputs": [],
   "source": [
    "\n"
   ]
  },
  {
   "cell_type": "code",
   "execution_count": null,
   "metadata": {},
   "outputs": [],
   "source": [
    "\n",
    "# Not for Windows\n",
    "call_str = \"{} list --outdated --format=freeze | grep -v '^\\-e' | cut -d = -f 1  | xargs -n1 {} install -U\"\n",
    "call(call_str.format(pip_path, pip_path), shell=True)"
   ]
  },
  {
   "cell_type": "code",
   "execution_count": null,
   "metadata": {
    "scrolled": true
   },
   "outputs": [],
   "source": [
    "\n",
    "# Windows example\n",
    "!C:\\\\Users\\\\577342\\\\AppData\\\\Local\\\\Continuum\\\\anaconda3\\\\envs\\\\Python27\\\\Scripts\\\\pip.exe list --outdated --format=freeze"
   ]
  },
  {
   "cell_type": "code",
   "execution_count": 2,
   "metadata": {},
   "outputs": [
    {
     "name": "stdout",
     "output_type": "stream",
     "text": [
      "C:\\Users\\577342\\AppData\\Local\\Continuum\\anaconda3\\Scripts\\pip.exe\n"
     ]
    }
   ],
   "source": [
    "\n",
    "!where pip"
   ]
  },
  {
   "cell_type": "code",
   "execution_count": 3,
   "metadata": {},
   "outputs": [
    {
     "data": {
      "text/plain": [
       "0"
      ]
     },
     "execution_count": 3,
     "metadata": {},
     "output_type": "execute_result"
    }
   ],
   "source": [
    "\n",
    "call('where pip')"
   ]
  },
  {
   "cell_type": "code",
   "execution_count": null,
   "metadata": {},
   "outputs": [],
   "source": []
  }
 ],
 "metadata": {
  "kernelspec": {
   "display_name": "Python 3",
   "language": "python",
   "name": "python3"
  },
  "language_info": {
   "codemirror_mode": {
    "name": "ipython",
    "version": 3
   },
   "file_extension": ".py",
   "mimetype": "text/x-python",
   "name": "python",
   "nbconvert_exporter": "python",
   "pygments_lexer": "ipython3",
   "version": "3.6.5"
  }
 },
 "nbformat": 4,
 "nbformat_minor": 2
}
