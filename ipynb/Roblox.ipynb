{
 "cells": [
  {
   "cell_type": "code",
   "execution_count": null,
   "metadata": {},
   "outputs": [],
   "source": [
    "\n",
    "import sys\n",
    "\n",
    "# robloxapi\n",
    "print('{} -m pip install --upgrade robloxapi'.format(sys.executable))\n",
    "!{sys.executable} -m pip install --upgrade robloxapi"
   ]
  },
  {
   "cell_type": "code",
   "execution_count": null,
   "metadata": {},
   "outputs": [],
   "source": [
    "\n",
    "import sys\n",
    "\n",
    "# http3\n",
    "print('{} -m pip install --upgrade http3'.format(sys.executable))\n",
    "!{sys.executable} -m pip install --upgrade http3"
   ]
  },
  {
   "cell_type": "code",
   "execution_count": 7,
   "metadata": {},
   "outputs": [
    {
     "name": "stdout",
     "output_type": "stream",
     "text": [
      "Pretty printing has been turned OFF\n",
      "C:\\Users\\dev\\Documents\\repositories\\notebooks\\Miscellaneous\\ipynb\\Roblox.ipynb\n",
      "data_folder: ../data/\n",
      "saves_folder: ../saves/\n",
      "['s.attempt_to_pickle', 's.data_csv_folder', 's.data_folder', 's.encoding_type', 's.load_csv', 's.load_dataframes', 's.load_object', 's.save_dataframes', 's.saves_csv_folder', 's.saves_folder', 's.saves_pickle_folder', 's.store_objects']\n"
     ]
    },
    {
     "data": {
      "text/plain": [
       "['Config', 'In', 'Out', 'SequenceMatcher', 'Storage', '_', '_6', '__', '___', '__builtin__', '__builtins__', '__doc__', '__loader__', '__name__', '__nonzero__', '__package__', '__spec__', '_dh', '_i', '_i1', '_i2', '_i3', '_i4', '_i5', '_i6', '_i7', '_ih', '_ii', '_iii', '_oh', 'check_4_doubles', 'check_for_typos', 'conjunctify_list', 'copyfile', 'csv', 'encoding', 'exit', 'get_git_lfs_track_commands', 'get_ipython', 'get_module_version', 'get_notebook_path', 'get_specific_gitignore_files', 'humanize_bytes', 'ipykernel', 'json', 'jupyter_config_dir', 'notebook_path', 'notebookapp', 'os', 'pd', 'pickle', 'print_all_files_ending_starting_with', 'print_all_files_ending_with', 'print_all_files_starting_with', 'quit', 're', 'remove_empty_folders', 'requests', 'robloxapi', 's', 'similar', 'subprocess', 'sys', 'time', 'urllib']"
      ]
     },
     "execution_count": 7,
     "metadata": {},
     "output_type": "execute_result"
    }
   ],
   "source": [
    "\n",
    "%run ../../load_magic/storage.py\n",
    "%run ../../load_magic/paths.py\n",
    "%run ../../load_magic/lists.py\n",
    "%run ../../load_magic/environment.py\n",
    "%pprint\n",
    "notebook_path = get_notebook_path()\n",
    "print(notebook_path)\n",
    "s = Storage()\n",
    "print(['s.{}'.format(fn) for fn in dir(s) if not fn.startswith('_')])\n",
    "dir()"
   ]
  },
  {
   "cell_type": "code",
   "execution_count": 1,
   "metadata": {},
   "outputs": [
    {
     "name": "stdout",
     "output_type": "stream",
     "text": [
      "['robloxapi.Client', 'robloxapi.client', 'robloxapi.group', 'robloxapi.groupmember', 'robloxapi.joinrequest', 'robloxapi.traderequest', 'robloxapi.user', 'robloxapi.utils']\n"
     ]
    }
   ],
   "source": [
    "\n",
    "import robloxapi\n",
    "\n",
    "print(['robloxapi.{}'.format(fn) for fn in dir(robloxapi) if not fn.startswith('_')])"
   ]
  },
  {
   "cell_type": "code",
   "execution_count": 9,
   "metadata": {},
   "outputs": [],
   "source": [
    "\n",
    "roblox_cookie = s.load_object('roblox_cookie')\n",
    "roblox_client = robloxapi.Client(cookie=roblox_cookie)"
   ]
  },
  {
   "cell_type": "code",
   "execution_count": 11,
   "metadata": {},
   "outputs": [
    {
     "data": {
      "text/plain": [
       "['__class__', '__delattr__', '__dict__', '__dir__', '__doc__', '__eq__', '__format__', '__ge__', '__getattribute__', '__gt__', '__hash__', '__init__', '__init_subclass__', '__le__', '__lt__', '__module__', '__ne__', '__new__', '__reduce__', '__reduce_ex__', '__repr__', '__setattr__', '__sizeof__', '__str__', '__subclasshook__', '__weakref__', 'change_status', 'get_group', 'get_trades', 'get_user', 'get_user_by_id', 'get_user_by_username']"
      ]
     },
     "execution_count": 11,
     "metadata": {},
     "output_type": "execute_result"
    }
   ],
   "source": [
    "\n",
    "eval('dir({})'.format('robloxapi.Client'))"
   ]
  },
  {
   "cell_type": "code",
   "execution_count": 25,
   "metadata": {},
   "outputs": [],
   "source": [
    "\n",
    "def get_dir_tree(module_name, max_levels=2):\n",
    "    if max_levels < 1:\n",
    "        return None\n",
    "    dir_list = eval(\"['{}.{{}}'.format(fn) for fn in dir({}) if not fn.startswith('_')]\".format(module_name, module_name))\n",
    "    if len(dir_list):\n",
    "        print()\n",
    "        print(module_name)\n",
    "        print(dir_list)\n",
    "        for m in dir_list:\n",
    "            get_dir_tree(m, max_levels=max_levels-1)"
   ]
  },
  {
   "cell_type": "code",
   "execution_count": 24,
   "metadata": {},
   "outputs": [
    {
     "name": "stdout",
     "output_type": "stream",
     "text": [
      "\n",
      "robloxapi\n",
      "['robloxapi.Client', 'robloxapi.client', 'robloxapi.group', 'robloxapi.groupmember', 'robloxapi.joinrequest', 'robloxapi.traderequest', 'robloxapi.user', 'robloxapi.utils']\n",
      "\n",
      "robloxapi.Client\n",
      "['robloxapi.Client.change_status', 'robloxapi.Client.get_group', 'robloxapi.Client.get_trades', 'robloxapi.Client.get_user', 'robloxapi.Client.get_user_by_id', 'robloxapi.Client.get_user_by_username']\n",
      "\n",
      "robloxapi.client\n",
      "['robloxapi.client.BadStatus', 'robloxapi.client.BeautifulSoup', 'robloxapi.client.Client', 'robloxapi.client.Group', 'robloxapi.client.GroupMember', 'robloxapi.client.JoinRequest', 'robloxapi.client.Message', 'robloxapi.client.NotAuthenticated', 'robloxapi.client.NotFound', 'robloxapi.client.Request', 'robloxapi.client.Role', 'robloxapi.client.RoleError', 'robloxapi.client.Shout', 'robloxapi.client.TradeRequest', 'robloxapi.client.User', 'robloxapi.client.asyncio', 'robloxapi.client.http3', 'robloxapi.client.json', 'robloxapi.client.logging', 'robloxapi.client.re', 'robloxapi.client.requests']\n",
      "\n",
      "robloxapi.group\n",
      "['robloxapi.group.BadStatus', 'robloxapi.group.BeautifulSoup', 'robloxapi.group.Group', 'robloxapi.group.GroupMember', 'robloxapi.group.JoinRequest', 'robloxapi.group.Message', 'robloxapi.group.NotAuthenticated', 'robloxapi.group.NotFound', 'robloxapi.group.Role', 'robloxapi.group.RoleError', 'robloxapi.group.Shout', 'robloxapi.group.User', 'robloxapi.group.json', 'robloxapi.group.logging', 'robloxapi.group.re']\n",
      "\n",
      "robloxapi.groupmember\n",
      "['robloxapi.groupmember.BadStatus', 'robloxapi.groupmember.BeautifulSoup', 'robloxapi.groupmember.GroupMember', 'robloxapi.groupmember.Message', 'robloxapi.groupmember.NotAuthenticated', 'robloxapi.groupmember.NotFound', 'robloxapi.groupmember.Role', 'robloxapi.groupmember.RoleError', 'robloxapi.groupmember.Shout', 'robloxapi.groupmember.json']\n",
      "\n",
      "robloxapi.joinrequest\n",
      "['robloxapi.joinrequest.BadStatus', 'robloxapi.joinrequest.JoinRequest', 'robloxapi.joinrequest.Message', 'robloxapi.joinrequest.NotAuthenticated', 'robloxapi.joinrequest.NotFound', 'robloxapi.joinrequest.Role', 'robloxapi.joinrequest.RoleError', 'robloxapi.joinrequest.Shout', 'robloxapi.joinrequest.User', 'robloxapi.joinrequest.json']\n",
      "\n",
      "robloxapi.traderequest\n",
      "['robloxapi.traderequest.BadStatus', 'robloxapi.traderequest.Message', 'robloxapi.traderequest.NotAuthenticated', 'robloxapi.traderequest.NotFound', 'robloxapi.traderequest.Role', 'robloxapi.traderequest.RoleError', 'robloxapi.traderequest.Shout', 'robloxapi.traderequest.TradeRequest', 'robloxapi.traderequest.User', 'robloxapi.traderequest.json']\n",
      "\n",
      "robloxapi.user\n",
      "['robloxapi.user.BadStatus', 'robloxapi.user.Message', 'robloxapi.user.NotAuthenticated', 'robloxapi.user.NotFound', 'robloxapi.user.Role', 'robloxapi.user.RoleError', 'robloxapi.user.Shout', 'robloxapi.user.User', 'robloxapi.user.json']\n",
      "\n",
      "robloxapi.utils\n",
      "['robloxapi.utils.classes', 'robloxapi.utils.errors', 'robloxapi.utils.request']\n"
     ]
    }
   ],
   "source": [
    "\n",
    "get_dir_tree('robloxapi', max_levels=2)"
   ]
  },
  {
   "cell_type": "code",
   "execution_count": null,
   "metadata": {},
   "outputs": [],
   "source": []
  }
 ],
 "metadata": {
  "kernelspec": {
   "display_name": "Python 3",
   "language": "python",
   "name": "python3"
  },
  "language_info": {
   "codemirror_mode": {
    "name": "ipython",
    "version": 3
   },
   "file_extension": ".py",
   "mimetype": "text/x-python",
   "name": "python",
   "nbconvert_exporter": "python",
   "pygments_lexer": "ipython3",
   "version": "3.6.8"
  }
 },
 "nbformat": 4,
 "nbformat_minor": 2
}
