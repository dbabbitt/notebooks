{
 "cells": [
  {
   "cell_type": "code",
   "execution_count": null,
   "id": "09bb3bf6-21d6-43b4-93bf-5ae03e6e92ba",
   "metadata": {},
   "outputs": [],
   "source": []
  },
  {
   "cell_type": "code",
   "execution_count": 20,
   "id": "776c665e-653a-4fad-8de9-a644577fe329",
   "metadata": {},
   "outputs": [
    {
     "name": "stdout",
     "output_type": "stream",
     "text": [
      "C:\\ProgramData\\Anaconda3\\python.exe -m pip install --upgrade geoplot\n",
      "Collecting geoplot\n",
      "  Using cached geoplot-0.5.1-py3-none-any.whl (28 kB)\n",
      "Collecting contextily>=1.0.0\n",
      "  Using cached contextily-1.2.0-py3-none-any.whl (16 kB)\n",
      "Requirement already satisfied: cartopy in c:\\programdata\\anaconda3\\lib\\site-packages (from geoplot) (0.20.2)\n",
      "Requirement already satisfied: mapclassify>=2.1 in c:\\programdata\\anaconda3\\lib\\site-packages (from geoplot) (2.4.3)\n",
      "Requirement already satisfied: geopandas>=0.9.0 in c:\\programdata\\anaconda3\\lib\\site-packages (from geoplot) (0.10.2)\n",
      "Requirement already satisfied: pandas in c:\\programdata\\anaconda3\\lib\\site-packages (from geoplot) (1.4.1)\n",
      "Requirement already satisfied: seaborn in c:\\programdata\\anaconda3\\lib\\site-packages (from geoplot) (0.11.2)\n",
      "Requirement already satisfied: matplotlib>=3.1.2 in c:\\programdata\\anaconda3\\lib\\site-packages (from geoplot) (3.5.1)\n",
      "Requirement already satisfied: geopy in c:\\programdata\\anaconda3\\lib\\site-packages (from contextily>=1.0.0->geoplot) (2.2.0)\n",
      "Requirement already satisfied: joblib in c:\\programdata\\anaconda3\\lib\\site-packages (from contextily>=1.0.0->geoplot) (1.1.0)\n",
      "Requirement already satisfied: requests in c:\\programdata\\anaconda3\\lib\\site-packages (from contextily>=1.0.0->geoplot) (2.27.1)\n",
      "Requirement already satisfied: pillow in c:\\programdata\\anaconda3\\lib\\site-packages (from contextily>=1.0.0->geoplot) (9.1.0)\n",
      "Requirement already satisfied: rasterio in c:\\programdata\\anaconda3\\lib\\site-packages (from contextily>=1.0.0->geoplot) (1.2.10)\n",
      "Collecting mercantile\n",
      "  Using cached mercantile-1.2.1-py3-none-any.whl (14 kB)\n",
      "Requirement already satisfied: xyzservices in c:\\programdata\\anaconda3\\lib\\site-packages (from contextily>=1.0.0->geoplot) (2022.2.0)\n",
      "Requirement already satisfied: shapely>=1.6 in c:\\programdata\\anaconda3\\lib\\site-packages (from geopandas>=0.9.0->geoplot) (1.8.2)\n",
      "Requirement already satisfied: pyproj>=2.2.0 in c:\\programdata\\anaconda3\\lib\\site-packages (from geopandas>=0.9.0->geoplot) (3.3.1)\n",
      "Requirement already satisfied: fiona>=1.8 in c:\\programdata\\anaconda3\\lib\\site-packages (from geopandas>=0.9.0->geoplot) (1.8.13.post1)\n",
      "Requirement already satisfied: attrs>=17 in c:\\programdata\\anaconda3\\lib\\site-packages (from fiona>=1.8->geopandas>=0.9.0->geoplot) (21.4.0)\n",
      "Requirement already satisfied: click<8,>=4.0 in c:\\programdata\\anaconda3\\lib\\site-packages (from fiona>=1.8->geopandas>=0.9.0->geoplot) (7.1.2)\n",
      "Requirement already satisfied: cligj>=0.5 in c:\\programdata\\anaconda3\\lib\\site-packages (from fiona>=1.8->geopandas>=0.9.0->geoplot) (0.7.2)\n",
      "Requirement already satisfied: click-plugins>=1.0 in c:\\programdata\\anaconda3\\lib\\site-packages (from fiona>=1.8->geopandas>=0.9.0->geoplot) (1.1.1)\n",
      "Requirement already satisfied: six>=1.7 in c:\\programdata\\anaconda3\\lib\\site-packages (from fiona>=1.8->geopandas>=0.9.0->geoplot) (1.16.0)\n",
      "Requirement already satisfied: munch in c:\\programdata\\anaconda3\\lib\\site-packages (from fiona>=1.8->geopandas>=0.9.0->geoplot) (2.5.0)\n",
      "Requirement already satisfied: scipy>=1.0 in c:\\programdata\\anaconda3\\lib\\site-packages (from mapclassify>=2.1->geoplot) (1.7.3)\n",
      "Requirement already satisfied: scikit-learn in c:\\programdata\\anaconda3\\lib\\site-packages (from mapclassify>=2.1->geoplot) (1.0.2)\n",
      "Requirement already satisfied: networkx in c:\\programdata\\anaconda3\\lib\\site-packages (from mapclassify>=2.1->geoplot) (2.7.1)\n",
      "Requirement already satisfied: numpy>=1.3 in c:\\programdata\\anaconda3\\lib\\site-packages (from mapclassify>=2.1->geoplot) (1.22.3)\n",
      "Requirement already satisfied: pyparsing>=2.2.1 in c:\\programdata\\anaconda3\\lib\\site-packages (from matplotlib>=3.1.2->geoplot) (3.0.4)\n",
      "Requirement already satisfied: python-dateutil>=2.7 in c:\\programdata\\anaconda3\\lib\\site-packages (from matplotlib>=3.1.2->geoplot) (2.8.2)\n",
      "Requirement already satisfied: fonttools>=4.22.0 in c:\\programdata\\anaconda3\\lib\\site-packages (from matplotlib>=3.1.2->geoplot) (4.25.0)\n",
      "Requirement already satisfied: packaging>=20.0 in c:\\programdata\\anaconda3\\lib\\site-packages (from matplotlib>=3.1.2->geoplot) (21.3)\n",
      "Requirement already satisfied: kiwisolver>=1.0.1 in c:\\programdata\\anaconda3\\lib\\site-packages (from matplotlib>=3.1.2->geoplot) (1.3.2)\n",
      "Requirement already satisfied: cycler>=0.10 in c:\\programdata\\anaconda3\\lib\\site-packages (from matplotlib>=3.1.2->geoplot) (0.11.0)\n",
      "Requirement already satisfied: pytz>=2020.1 in c:\\programdata\\anaconda3\\lib\\site-packages (from pandas->geoplot) (2021.3)\n",
      "Requirement already satisfied: certifi in c:\\programdata\\anaconda3\\lib\\site-packages (from pyproj>=2.2.0->geopandas>=0.9.0->geoplot) (2021.10.8)\n",
      "Requirement already satisfied: pyshp>=2.1 in c:\\programdata\\anaconda3\\lib\\site-packages (from cartopy->geoplot) (2.3.0)\n",
      "Requirement already satisfied: geographiclib<2,>=1.49 in c:\\programdata\\anaconda3\\lib\\site-packages (from geopy->contextily>=1.0.0->geoplot) (1.52)\n",
      "Requirement already satisfied: affine in c:\\programdata\\anaconda3\\lib\\site-packages (from rasterio->contextily>=1.0.0->geoplot) (2.3.1)\n",
      "Requirement already satisfied: gdal~=3.4.1 in c:\\programdata\\anaconda3\\lib\\site-packages (from rasterio->contextily>=1.0.0->geoplot) (3.4.2)\n",
      "Requirement already satisfied: setuptools in c:\\programdata\\anaconda3\\lib\\site-packages (from rasterio->contextily>=1.0.0->geoplot) (61.2.0)\n",
      "Requirement already satisfied: snuggs>=1.4.1 in c:\\programdata\\anaconda3\\lib\\site-packages (from rasterio->contextily>=1.0.0->geoplot) (1.4.7)\n",
      "Requirement already satisfied: urllib3<1.27,>=1.21.1 in c:\\programdata\\anaconda3\\lib\\site-packages (from requests->contextily>=1.0.0->geoplot) (1.26.8)\n",
      "Requirement already satisfied: idna<4,>=2.5 in c:\\programdata\\anaconda3\\lib\\site-packages (from requests->contextily>=1.0.0->geoplot) (3.3)\n",
      "Requirement already satisfied: charset-normalizer~=2.0.0 in c:\\programdata\\anaconda3\\lib\\site-packages (from requests->contextily>=1.0.0->geoplot) (2.0.4)\n",
      "Requirement already satisfied: threadpoolctl>=2.0.0 in c:\\programdata\\anaconda3\\lib\\site-packages (from scikit-learn->mapclassify>=2.1->geoplot) (2.2.0)\n",
      "Installing collected packages: mercantile, contextily, geoplot\n",
      "Successfully installed contextily-1.2.0 geoplot-0.5.1 mercantile-1.2.1\n"
     ]
    },
    {
     "name": "stderr",
     "output_type": "stream",
     "text": [
      "WARNING: Ignoring invalid distribution -ffi (c:\\programdata\\anaconda3\\lib\\site-packages)\n",
      "WARNING: Ignoring invalid distribution -atplotlib (c:\\programdata\\anaconda3\\lib\\site-packages)\n",
      "WARNING: Ignoring invalid distribution -ffi (c:\\programdata\\anaconda3\\lib\\site-packages)\n",
      "WARNING: Ignoring invalid distribution -atplotlib (c:\\programdata\\anaconda3\\lib\\site-packages)\n",
      "WARNING: Ignoring invalid distribution -ffi (c:\\programdata\\anaconda3\\lib\\site-packages)\n",
      "WARNING: Ignoring invalid distribution -atplotlib (c:\\programdata\\anaconda3\\lib\\site-packages)\n",
      "WARNING: Ignoring invalid distribution -ffi (c:\\programdata\\anaconda3\\lib\\site-packages)\n",
      "WARNING: Ignoring invalid distribution -atplotlib (c:\\programdata\\anaconda3\\lib\\site-packages)\n",
      "WARNING: Ignoring invalid distribution -ffi (c:\\programdata\\anaconda3\\lib\\site-packages)\n",
      "WARNING: Ignoring invalid distribution -atplotlib (c:\\programdata\\anaconda3\\lib\\site-packages)\n",
      "WARNING: Ignoring invalid distribution -ffi (c:\\programdata\\anaconda3\\lib\\site-packages)\n",
      "WARNING: Ignoring invalid distribution -atplotlib (c:\\programdata\\anaconda3\\lib\\site-packages)\n",
      "WARNING: Ignoring invalid distribution -ffi (c:\\programdata\\anaconda3\\lib\\site-packages)\n",
      "WARNING: Ignoring invalid distribution -atplotlib (c:\\programdata\\anaconda3\\lib\\site-packages)\n",
      "WARNING: Ignoring invalid distribution -ffi (c:\\programdata\\anaconda3\\lib\\site-packages)\n",
      "WARNING: Ignoring invalid distribution -atplotlib (c:\\programdata\\anaconda3\\lib\\site-packages)\n",
      "WARNING: Ignoring invalid distribution -ffi (c:\\programdata\\anaconda3\\lib\\site-packages)\n",
      "WARNING: Ignoring invalid distribution -atplotlib (c:\\programdata\\anaconda3\\lib\\site-packages)\n"
     ]
    }
   ],
   "source": [
    "\n",
    "import sys\n",
    "\n",
    "command_str = f'{sys.executable} -m pip install --upgrade geoplot'\n",
    "print(command_str)\n",
    "!{command_str}"
   ]
  },
  {
   "cell_type": "code",
   "execution_count": 1,
   "id": "latin-ability",
   "metadata": {},
   "outputs": [
    {
     "name": "stdout",
     "output_type": "stream",
     "text": [
      "C:\\ProgramData\\Anaconda3\\python.exe -m pip uninstall GDAL --yes\n",
      "Found existing installation: GDAL 3.4.2\n",
      "Uninstalling GDAL-3.4.2:\n",
      "  Successfully uninstalled GDAL-3.4.2\n"
     ]
    },
    {
     "name": "stderr",
     "output_type": "stream",
     "text": [
      "WARNING: Ignoring invalid distribution -ffi (c:\\programdata\\anaconda3\\lib\\site-packages)\n",
      "WARNING: Ignoring invalid distribution -atplotlib (c:\\programdata\\anaconda3\\lib\\site-packages)\n",
      "WARNING: Ignoring invalid distribution -ffi (c:\\programdata\\anaconda3\\lib\\site-packages)\n",
      "WARNING: Ignoring invalid distribution -atplotlib (c:\\programdata\\anaconda3\\lib\\site-packages)\n"
     ]
    }
   ],
   "source": [
    "# %load ../load_magic/pip_install.txt\n",
    "\n",
    "import sys\n",
    "\n",
    "command_str = rf'{sys.executable} -m pip uninstall GDAL --yes'\n",
    "print(command_str)\n",
    "!{command_str}"
   ]
  },
  {
   "cell_type": "code",
   "execution_count": 4,
   "id": "5a405945-2475-4298-82fa-5827884b05dd",
   "metadata": {},
   "outputs": [
    {
     "name": "stdout",
     "output_type": "stream",
     "text": [
      "C:\\ProgramData\\Anaconda3\\python.exe -m pip install \"C:\\Users\\daveb\\Downloads\\GDAL-3.4.2-cp39-cp39-win_amd64.whl\"\n",
      "Processing c:\\users\\daveb\\downloads\\gdal-3.4.2-cp39-cp39-win_amd64.whl\n",
      "Installing collected packages: GDAL\n",
      "Successfully installed GDAL-3.4.2\n"
     ]
    },
    {
     "name": "stderr",
     "output_type": "stream",
     "text": [
      "WARNING: Ignoring invalid distribution -ffi (c:\\programdata\\anaconda3\\lib\\site-packages)\n",
      "WARNING: Ignoring invalid distribution -atplotlib (c:\\programdata\\anaconda3\\lib\\site-packages)\n",
      "WARNING: Ignoring invalid distribution -ffi (c:\\programdata\\anaconda3\\lib\\site-packages)\n",
      "WARNING: Ignoring invalid distribution -atplotlib (c:\\programdata\\anaconda3\\lib\\site-packages)\n",
      "WARNING: Ignoring invalid distribution -ffi (c:\\programdata\\anaconda3\\lib\\site-packages)\n",
      "WARNING: Ignoring invalid distribution -atplotlib (c:\\programdata\\anaconda3\\lib\\site-packages)\n",
      "WARNING: Ignoring invalid distribution -ffi (c:\\programdata\\anaconda3\\lib\\site-packages)\n",
      "WARNING: Ignoring invalid distribution -atplotlib (c:\\programdata\\anaconda3\\lib\\site-packages)\n",
      "WARNING: Ignoring invalid distribution -ffi (c:\\programdata\\anaconda3\\lib\\site-packages)\n",
      "WARNING: Ignoring invalid distribution -atplotlib (c:\\programdata\\anaconda3\\lib\\site-packages)\n",
      "WARNING: Ignoring invalid distribution -ffi (c:\\programdata\\anaconda3\\lib\\site-packages)\n",
      "WARNING: Ignoring invalid distribution -atplotlib (c:\\programdata\\anaconda3\\lib\\site-packages)\n",
      "WARNING: Ignoring invalid distribution -ffi (c:\\programdata\\anaconda3\\lib\\site-packages)\n",
      "WARNING: Ignoring invalid distribution -atplotlib (c:\\programdata\\anaconda3\\lib\\site-packages)\n"
     ]
    }
   ],
   "source": [
    "# %load ../load_magic/pip_install.txt\n",
    "\n",
    "import sys\n",
    "\n",
    "command_str = rf'{sys.executable} -m pip install \"C:\\Users\\daveb\\Downloads\\GDAL-3.4.2-cp39-cp39-win_amd64.whl\"'\n",
    "print(command_str)\n",
    "!{command_str}"
   ]
  },
  {
   "cell_type": "code",
   "execution_count": 2,
   "id": "65392fd5-2140-433a-af8e-8423ef7a8de6",
   "metadata": {},
   "outputs": [
    {
     "name": "stdout",
     "output_type": "stream",
     "text": [
      "C:\\ProgramData\\Anaconda3\\python.exe -m pip uninstall rasterio --yes\n",
      "Found existing installation: rasterio 1.2.10\n",
      "Uninstalling rasterio-1.2.10:\n",
      "  Successfully uninstalled rasterio-1.2.10\n"
     ]
    },
    {
     "name": "stderr",
     "output_type": "stream",
     "text": [
      "WARNING: Ignoring invalid distribution -ffi (c:\\programdata\\anaconda3\\lib\\site-packages)\n",
      "WARNING: Ignoring invalid distribution -atplotlib (c:\\programdata\\anaconda3\\lib\\site-packages)\n",
      "WARNING: Ignoring invalid distribution -ffi (c:\\programdata\\anaconda3\\lib\\site-packages)\n",
      "WARNING: Ignoring invalid distribution -atplotlib (c:\\programdata\\anaconda3\\lib\\site-packages)\n"
     ]
    }
   ],
   "source": [
    "# %load ../load_magic/pip_install.txt\n",
    "\n",
    "import sys\n",
    "\n",
    "command_str = rf'{sys.executable} -m pip uninstall rasterio --yes'\n",
    "print(command_str)\n",
    "!{command_str}"
   ]
  },
  {
   "cell_type": "code",
   "execution_count": 5,
   "id": "ea7238ac-b424-4a5b-a94e-a5de7a42fa31",
   "metadata": {},
   "outputs": [
    {
     "name": "stdout",
     "output_type": "stream",
     "text": [
      "C:\\ProgramData\\Anaconda3\\python.exe -m pip install \"C:\\Users\\daveb\\Downloads\\rasterio-1.2.10-cp39-cp39-win_amd64.whl\"\n",
      "Processing c:\\users\\daveb\\downloads\\rasterio-1.2.10-cp39-cp39-win_amd64.whl\n",
      "Requirement already satisfied: numpy in c:\\programdata\\anaconda3\\lib\\site-packages (from rasterio==1.2.10) (1.22.3)\n",
      "Requirement already satisfied: click>=4.0 in c:\\programdata\\anaconda3\\lib\\site-packages (from rasterio==1.2.10) (8.0.4)\n",
      "Requirement already satisfied: setuptools in c:\\programdata\\anaconda3\\lib\\site-packages (from rasterio==1.2.10) (61.2.0)\n",
      "Collecting click-plugins\n",
      "  Using cached click_plugins-1.1.1-py2.py3-none-any.whl (7.5 kB)\n",
      "Requirement already satisfied: snuggs>=1.4.1 in c:\\programdata\\anaconda3\\lib\\site-packages (from rasterio==1.2.10) (1.4.7)\n",
      "Requirement already satisfied: gdal~=3.4.1 in c:\\programdata\\anaconda3\\lib\\site-packages (from rasterio==1.2.10) (3.4.2)\n",
      "Requirement already satisfied: attrs in c:\\programdata\\anaconda3\\lib\\site-packages (from rasterio==1.2.10) (21.4.0)\n",
      "Requirement already satisfied: cligj>=0.5 in c:\\programdata\\anaconda3\\lib\\site-packages (from rasterio==1.2.10) (0.7.2)\n",
      "Requirement already satisfied: certifi in c:\\programdata\\anaconda3\\lib\\site-packages (from rasterio==1.2.10) (2021.10.8)\n",
      "Requirement already satisfied: affine in c:\\programdata\\anaconda3\\lib\\site-packages (from rasterio==1.2.10) (2.3.1)\n",
      "Requirement already satisfied: colorama in c:\\programdata\\anaconda3\\lib\\site-packages (from click>=4.0->rasterio==1.2.10) (0.4.4)\n",
      "Requirement already satisfied: pyparsing>=2.1.6 in c:\\programdata\\anaconda3\\lib\\site-packages (from snuggs>=1.4.1->rasterio==1.2.10) (3.0.4)\n",
      "Installing collected packages: click-plugins, rasterio\n",
      "Successfully installed click-plugins-1.1.1 rasterio-1.2.10\n"
     ]
    },
    {
     "name": "stderr",
     "output_type": "stream",
     "text": [
      "WARNING: Ignoring invalid distribution -ffi (c:\\programdata\\anaconda3\\lib\\site-packages)\n",
      "WARNING: Ignoring invalid distribution -atplotlib (c:\\programdata\\anaconda3\\lib\\site-packages)\n",
      "WARNING: Ignoring invalid distribution -ffi (c:\\programdata\\anaconda3\\lib\\site-packages)\n",
      "WARNING: Ignoring invalid distribution -atplotlib (c:\\programdata\\anaconda3\\lib\\site-packages)\n",
      "WARNING: Ignoring invalid distribution -ffi (c:\\programdata\\anaconda3\\lib\\site-packages)\n",
      "WARNING: Ignoring invalid distribution -atplotlib (c:\\programdata\\anaconda3\\lib\\site-packages)\n",
      "WARNING: Ignoring invalid distribution -ffi (c:\\programdata\\anaconda3\\lib\\site-packages)\n",
      "WARNING: Ignoring invalid distribution -atplotlib (c:\\programdata\\anaconda3\\lib\\site-packages)\n",
      "WARNING: Ignoring invalid distribution -ffi (c:\\programdata\\anaconda3\\lib\\site-packages)\n",
      "WARNING: Ignoring invalid distribution -atplotlib (c:\\programdata\\anaconda3\\lib\\site-packages)\n",
      "WARNING: Ignoring invalid distribution -ffi (c:\\programdata\\anaconda3\\lib\\site-packages)\n",
      "WARNING: Ignoring invalid distribution -atplotlib (c:\\programdata\\anaconda3\\lib\\site-packages)\n",
      "WARNING: Ignoring invalid distribution -ffi (c:\\programdata\\anaconda3\\lib\\site-packages)\n",
      "WARNING: Ignoring invalid distribution -atplotlib (c:\\programdata\\anaconda3\\lib\\site-packages)\n",
      "WARNING: Ignoring invalid distribution -ffi (c:\\programdata\\anaconda3\\lib\\site-packages)\n",
      "WARNING: Ignoring invalid distribution -atplotlib (c:\\programdata\\anaconda3\\lib\\site-packages)\n"
     ]
    }
   ],
   "source": [
    "# %load ../load_magic/pip_install.txt\n",
    "\n",
    "import sys\n",
    "\n",
    "command_str = rf'{sys.executable} -m pip install \"C:\\Users\\daveb\\Downloads\\rasterio-1.2.10-cp39-cp39-win_amd64.whl\"'\n",
    "print(command_str)\n",
    "!{command_str}"
   ]
  },
  {
   "cell_type": "code",
   "execution_count": 19,
   "id": "f906872a-1239-4097-8d7c-c271d260f364",
   "metadata": {},
   "outputs": [
    {
     "name": "stdout",
     "output_type": "stream",
     "text": [
      "C:\\ProgramData\\Anaconda3\\python.exe -m pip install \"C:\\Users\\daveb\\Downloads\\Cartopy-0.20.2-cp39-cp39-win_amd64.whl\"\n",
      "Processing c:\\users\\daveb\\downloads\\cartopy-0.20.2-cp39-cp39-win_amd64.whl\n",
      "Requirement already satisfied: pyproj>=3.0.0 in c:\\programdata\\anaconda3\\lib\\site-packages (from Cartopy==0.20.2) (3.3.1)\n",
      "Requirement already satisfied: matplotlib>=3.1 in c:\\programdata\\anaconda3\\lib\\site-packages (from Cartopy==0.20.2) (3.5.1)\n",
      "Requirement already satisfied: numpy>=1.18 in c:\\programdata\\anaconda3\\lib\\site-packages (from Cartopy==0.20.2) (1.22.3)\n",
      "Collecting pyshp>=2.1\n",
      "  Using cached pyshp-2.3.0-py2.py3-none-any.whl (46 kB)\n",
      "Requirement already satisfied: shapely>=1.6.4 in c:\\programdata\\anaconda3\\lib\\site-packages (from Cartopy==0.20.2) (1.8.2)\n",
      "Requirement already satisfied: python-dateutil>=2.7 in c:\\programdata\\anaconda3\\lib\\site-packages (from matplotlib>=3.1->Cartopy==0.20.2) (2.8.2)\n",
      "Requirement already satisfied: cycler>=0.10 in c:\\programdata\\anaconda3\\lib\\site-packages (from matplotlib>=3.1->Cartopy==0.20.2) (0.11.0)\n",
      "Requirement already satisfied: packaging>=20.0 in c:\\programdata\\anaconda3\\lib\\site-packages (from matplotlib>=3.1->Cartopy==0.20.2) (21.3)\n",
      "Requirement already satisfied: pyparsing>=2.2.1 in c:\\programdata\\anaconda3\\lib\\site-packages (from matplotlib>=3.1->Cartopy==0.20.2) (3.0.4)\n",
      "Requirement already satisfied: fonttools>=4.22.0 in c:\\programdata\\anaconda3\\lib\\site-packages (from matplotlib>=3.1->Cartopy==0.20.2) (4.25.0)\n",
      "Requirement already satisfied: pillow>=6.2.0 in c:\\programdata\\anaconda3\\lib\\site-packages (from matplotlib>=3.1->Cartopy==0.20.2) (9.1.0)\n",
      "Requirement already satisfied: kiwisolver>=1.0.1 in c:\\programdata\\anaconda3\\lib\\site-packages (from matplotlib>=3.1->Cartopy==0.20.2) (1.3.2)\n",
      "Requirement already satisfied: certifi in c:\\programdata\\anaconda3\\lib\\site-packages (from pyproj>=3.0.0->Cartopy==0.20.2) (2021.10.8)\n",
      "Requirement already satisfied: six>=1.5 in c:\\programdata\\anaconda3\\lib\\site-packages (from python-dateutil>=2.7->matplotlib>=3.1->Cartopy==0.20.2) (1.16.0)\n",
      "Installing collected packages: pyshp, Cartopy\n",
      "Successfully installed Cartopy-0.20.2 pyshp-2.3.0\n"
     ]
    },
    {
     "name": "stderr",
     "output_type": "stream",
     "text": [
      "WARNING: Ignoring invalid distribution -ffi (c:\\programdata\\anaconda3\\lib\\site-packages)\n",
      "WARNING: Ignoring invalid distribution -atplotlib (c:\\programdata\\anaconda3\\lib\\site-packages)\n",
      "WARNING: Ignoring invalid distribution -ffi (c:\\programdata\\anaconda3\\lib\\site-packages)\n",
      "WARNING: Ignoring invalid distribution -atplotlib (c:\\programdata\\anaconda3\\lib\\site-packages)\n",
      "WARNING: Ignoring invalid distribution -ffi (c:\\programdata\\anaconda3\\lib\\site-packages)\n",
      "WARNING: Ignoring invalid distribution -atplotlib (c:\\programdata\\anaconda3\\lib\\site-packages)\n",
      "WARNING: Ignoring invalid distribution -ffi (c:\\programdata\\anaconda3\\lib\\site-packages)\n",
      "WARNING: Ignoring invalid distribution -atplotlib (c:\\programdata\\anaconda3\\lib\\site-packages)\n",
      "WARNING: Ignoring invalid distribution -ffi (c:\\programdata\\anaconda3\\lib\\site-packages)\n",
      "WARNING: Ignoring invalid distribution -atplotlib (c:\\programdata\\anaconda3\\lib\\site-packages)\n",
      "WARNING: Ignoring invalid distribution -ffi (c:\\programdata\\anaconda3\\lib\\site-packages)\n",
      "WARNING: Ignoring invalid distribution -atplotlib (c:\\programdata\\anaconda3\\lib\\site-packages)\n",
      "WARNING: Ignoring invalid distribution -ffi (c:\\programdata\\anaconda3\\lib\\site-packages)\n",
      "WARNING: Ignoring invalid distribution -atplotlib (c:\\programdata\\anaconda3\\lib\\site-packages)\n",
      "WARNING: Ignoring invalid distribution -ffi (c:\\programdata\\anaconda3\\lib\\site-packages)\n",
      "WARNING: Ignoring invalid distribution -atplotlib (c:\\programdata\\anaconda3\\lib\\site-packages)\n"
     ]
    }
   ],
   "source": [
    "# %load ../load_magic/pip_install.txt\n",
    "\n",
    "import sys\n",
    "\n",
    "command_str = rf'{sys.executable} -m pip install \"C:\\Users\\daveb\\Downloads\\Cartopy-0.20.2-cp39-cp39-win_amd64.whl\"'\n",
    "print(command_str)\n",
    "!{command_str}"
   ]
  },
  {
   "cell_type": "code",
   "execution_count": null,
   "id": "driven-munich",
   "metadata": {},
   "outputs": [],
   "source": []
  }
 ],
 "metadata": {
  "kernelspec": {
   "display_name": "Python 3 (ipykernel)",
   "language": "python",
   "name": "python3"
  },
  "language_info": {
   "codemirror_mode": {
    "name": "ipython",
    "version": 3
   },
   "file_extension": ".py",
   "mimetype": "text/x-python",
   "name": "python",
   "nbconvert_exporter": "python",
   "pygments_lexer": "ipython3",
   "version": "3.9.7"
  }
 },
 "nbformat": 4,
 "nbformat_minor": 5
}
