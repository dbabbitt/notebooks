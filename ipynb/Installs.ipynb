{
 "cells": [
  {
   "cell_type": "raw",
   "id": "c93c518b-b210-4844-8e97-e33a85380fbf",
   "metadata": {},
   "source": [
    "\n",
    "PS C:\\Users\\daveb> flake8-nb --ignore=E231,E303,E401,E402,E501,E701,E702 --notebook-cell-format 'In[{code_cell_count}]' \"C:\\Users\\daveb\\OneDrive\\Documents\\GitHub\\notebooks\\ipynb\\Installs.ipynb\"\n",
    "PS C:\\Users\\daveb>"
   ]
  },
  {
   "cell_type": "code",
   "execution_count": 3,
   "id": "776c665e-653a-4fad-8de9-a644577fe329",
   "metadata": {
    "scrolled": true
   },
   "outputs": [
    {
     "name": "stdout",
     "output_type": "stream",
     "text": [
      "C:\\ProgramData\\anaconda3\\python.exe -m pip install imblearn --upgrade\n",
      "Defaulting to user installation because normal site-packages is not writeable\n",
      "Collecting imblearn\n",
      "  Downloading imblearn-0.0-py2.py3-none-any.whl.metadata (355 bytes)\n",
      "Requirement already satisfied: imbalanced-learn in c:\\programdata\\anaconda3\\lib\\site-packages (from imblearn) (0.12.3)\n",
      "Requirement already satisfied: numpy>=1.17.3 in c:\\programdata\\anaconda3\\lib\\site-packages (from imbalanced-learn->imblearn) (1.26.4)\n",
      "Requirement already satisfied: scipy>=1.5.0 in c:\\programdata\\anaconda3\\lib\\site-packages (from imbalanced-learn->imblearn) (1.13.1)\n",
      "Requirement already satisfied: scikit-learn>=1.0.2 in c:\\programdata\\anaconda3\\lib\\site-packages (from imbalanced-learn->imblearn) (1.5.1)\n",
      "Requirement already satisfied: joblib>=1.1.1 in c:\\programdata\\anaconda3\\lib\\site-packages (from imbalanced-learn->imblearn) (1.4.2)\n",
      "Requirement already satisfied: threadpoolctl>=2.0.0 in c:\\programdata\\anaconda3\\lib\\site-packages (from imbalanced-learn->imblearn) (3.5.0)\n",
      "Downloading imblearn-0.0-py2.py3-none-any.whl (1.9 kB)\n",
      "Installing collected packages: imblearn\n",
      "Successfully installed imblearn-0.0\n"
     ]
    }
   ],
   "source": [
    "\n",
    "import sys\n",
    "import os.path as osp\n",
    "\n",
    "executable_path = sys.executable; scripts_folder = osp.join(osp.dirname(executable_path), 'Scripts')\n",
    "if (scripts_folder not in sys.path): sys.path.insert(1, scripts_folder)\n",
    "command_str = f'{executable_path} -m pip install imblearn --upgrade'  # --quiet\n",
    "print(command_str)\n",
    "!{command_str}"
   ]
  },
  {
   "cell_type": "code",
   "execution_count": null,
   "id": "b8605721-f64a-4e76-9b55-23302c04e866",
   "metadata": {},
   "outputs": [],
   "source": [
    "\n",
    "command_str = f'{executable_path} -m pip show typing_extensions'\n",
    "print(command_str)\n",
    "!{command_str}"
   ]
  },
  {
   "cell_type": "code",
   "execution_count": null,
   "id": "latin-ability",
   "metadata": {},
   "outputs": [],
   "source": [
    "\n",
    "command_str = f'{executable_path} -m pip uninstall typing_extensions --yes'\n",
    "print(command_str)\n",
    "!{command_str}"
   ]
  },
  {
   "cell_type": "code",
   "execution_count": null,
   "id": "5a405945-2475-4298-82fa-5827884b05dd",
   "metadata": {},
   "outputs": [],
   "source": [
    "\n",
    "command_str = rf'{sys.executable} -m pip install \"C:\\Users\\daveb\\Downloads\\GDAL-3.4.2-cp39-cp39-win_amd64.whl\"'\n",
    "print(command_str)\n",
    "!{command_str}"
   ]
  },
  {
   "cell_type": "code",
   "execution_count": null,
   "id": "driven-munich",
   "metadata": {},
   "outputs": [],
   "source": []
  }
 ],
 "metadata": {
  "kernelspec": {
   "display_name": "Python 3 (ipykernel)",
   "language": "python",
   "name": "python3"
  },
  "language_info": {
   "codemirror_mode": {
    "name": "ipython",
    "version": 3
   },
   "file_extension": ".py",
   "mimetype": "text/x-python",
   "name": "python",
   "nbconvert_exporter": "python",
   "pygments_lexer": "ipython3",
   "version": "3.12.7"
  }
 },
 "nbformat": 4,
 "nbformat_minor": 5
}
