{
 "cells": [
  {
   "cell_type": "code",
   "execution_count": 1,
   "id": "776c665e-653a-4fad-8de9-a644577fe329",
   "metadata": {},
   "outputs": [
    {
     "name": "stdout",
     "output_type": "stream",
     "text": [
      "C:\\ProgramData\\anaconda3\\python.exe -m pip install flake8-nb --upgrade\n",
      "Defaulting to user installation because normal site-packages is not writeable\n",
      "Requirement already satisfied: flake8-nb in c:\\users\\daveb\\appdata\\roaming\\python\\python312\\site-packages (0.5.3)\n",
      "Requirement already satisfied: flake8<5.0.5,>=3.8.0 in c:\\users\\daveb\\appdata\\roaming\\python\\python312\\site-packages (from flake8-nb) (5.0.4)\n",
      "Requirement already satisfied: ipython>=7.8.0 in c:\\programdata\\anaconda3\\lib\\site-packages (from flake8-nb) (8.27.0)\n",
      "Requirement already satisfied: nbconvert>=5.6.0 in c:\\programdata\\anaconda3\\lib\\site-packages (from flake8-nb) (7.16.4)\n",
      "Requirement already satisfied: mccabe<0.8.0,>=0.7.0 in c:\\programdata\\anaconda3\\lib\\site-packages (from flake8<5.0.5,>=3.8.0->flake8-nb) (0.7.0)\n",
      "Requirement already satisfied: pycodestyle<2.10.0,>=2.9.0 in c:\\users\\daveb\\appdata\\roaming\\python\\python312\\site-packages (from flake8<5.0.5,>=3.8.0->flake8-nb) (2.9.1)\n",
      "Requirement already satisfied: pyflakes<2.6.0,>=2.5.0 in c:\\users\\daveb\\appdata\\roaming\\python\\python312\\site-packages (from flake8<5.0.5,>=3.8.0->flake8-nb) (2.5.0)\n",
      "Requirement already satisfied: decorator in c:\\programdata\\anaconda3\\lib\\site-packages (from ipython>=7.8.0->flake8-nb) (5.1.1)\n",
      "Requirement already satisfied: jedi>=0.16 in c:\\programdata\\anaconda3\\lib\\site-packages (from ipython>=7.8.0->flake8-nb) (0.19.1)\n",
      "Requirement already satisfied: matplotlib-inline in c:\\programdata\\anaconda3\\lib\\site-packages (from ipython>=7.8.0->flake8-nb) (0.1.6)\n",
      "Requirement already satisfied: prompt-toolkit<3.1.0,>=3.0.41 in c:\\programdata\\anaconda3\\lib\\site-packages (from ipython>=7.8.0->flake8-nb) (3.0.43)\n",
      "Requirement already satisfied: pygments>=2.4.0 in c:\\programdata\\anaconda3\\lib\\site-packages (from ipython>=7.8.0->flake8-nb) (2.15.1)\n",
      "Requirement already satisfied: stack-data in c:\\programdata\\anaconda3\\lib\\site-packages (from ipython>=7.8.0->flake8-nb) (0.2.0)\n",
      "Requirement already satisfied: traitlets>=5.13.0 in c:\\programdata\\anaconda3\\lib\\site-packages (from ipython>=7.8.0->flake8-nb) (5.14.3)\n",
      "Requirement already satisfied: colorama in c:\\programdata\\anaconda3\\lib\\site-packages (from ipython>=7.8.0->flake8-nb) (0.4.6)\n",
      "Requirement already satisfied: beautifulsoup4 in c:\\programdata\\anaconda3\\lib\\site-packages (from nbconvert>=5.6.0->flake8-nb) (4.12.3)\n",
      "Requirement already satisfied: bleach!=5.0.0 in c:\\programdata\\anaconda3\\lib\\site-packages (from nbconvert>=5.6.0->flake8-nb) (4.1.0)\n",
      "Requirement already satisfied: defusedxml in c:\\programdata\\anaconda3\\lib\\site-packages (from nbconvert>=5.6.0->flake8-nb) (0.7.1)\n",
      "Requirement already satisfied: jinja2>=3.0 in c:\\programdata\\anaconda3\\lib\\site-packages (from nbconvert>=5.6.0->flake8-nb) (3.1.4)\n",
      "Requirement already satisfied: jupyter-core>=4.7 in c:\\programdata\\anaconda3\\lib\\site-packages (from nbconvert>=5.6.0->flake8-nb) (5.7.2)\n",
      "Requirement already satisfied: jupyterlab-pygments in c:\\programdata\\anaconda3\\lib\\site-packages (from nbconvert>=5.6.0->flake8-nb) (0.1.2)\n",
      "Requirement already satisfied: markupsafe>=2.0 in c:\\programdata\\anaconda3\\lib\\site-packages (from nbconvert>=5.6.0->flake8-nb) (2.1.3)\n",
      "Requirement already satisfied: mistune<4,>=2.0.3 in c:\\programdata\\anaconda3\\lib\\site-packages (from nbconvert>=5.6.0->flake8-nb) (2.0.4)\n",
      "Requirement already satisfied: nbclient>=0.5.0 in c:\\programdata\\anaconda3\\lib\\site-packages (from nbconvert>=5.6.0->flake8-nb) (0.8.0)\n",
      "Requirement already satisfied: nbformat>=5.7 in c:\\programdata\\anaconda3\\lib\\site-packages (from nbconvert>=5.6.0->flake8-nb) (5.10.4)\n",
      "Requirement already satisfied: packaging in c:\\programdata\\anaconda3\\lib\\site-packages (from nbconvert>=5.6.0->flake8-nb) (24.1)\n",
      "Requirement already satisfied: pandocfilters>=1.4.1 in c:\\programdata\\anaconda3\\lib\\site-packages (from nbconvert>=5.6.0->flake8-nb) (1.5.0)\n",
      "Requirement already satisfied: tinycss2 in c:\\programdata\\anaconda3\\lib\\site-packages (from nbconvert>=5.6.0->flake8-nb) (1.2.1)\n",
      "Requirement already satisfied: six>=1.9.0 in c:\\programdata\\anaconda3\\lib\\site-packages (from bleach!=5.0.0->nbconvert>=5.6.0->flake8-nb) (1.16.0)\n",
      "Requirement already satisfied: webencodings in c:\\programdata\\anaconda3\\lib\\site-packages (from bleach!=5.0.0->nbconvert>=5.6.0->flake8-nb) (0.5.1)\n",
      "Requirement already satisfied: parso<0.9.0,>=0.8.3 in c:\\programdata\\anaconda3\\lib\\site-packages (from jedi>=0.16->ipython>=7.8.0->flake8-nb) (0.8.3)\n",
      "Requirement already satisfied: platformdirs>=2.5 in c:\\programdata\\anaconda3\\lib\\site-packages (from jupyter-core>=4.7->nbconvert>=5.6.0->flake8-nb) (3.10.0)\n",
      "Requirement already satisfied: pywin32>=300 in c:\\programdata\\anaconda3\\lib\\site-packages (from jupyter-core>=4.7->nbconvert>=5.6.0->flake8-nb) (305.1)\n",
      "Requirement already satisfied: jupyter-client>=6.1.12 in c:\\programdata\\anaconda3\\lib\\site-packages (from nbclient>=0.5.0->nbconvert>=5.6.0->flake8-nb) (8.6.0)\n",
      "Requirement already satisfied: fastjsonschema>=2.15 in c:\\programdata\\anaconda3\\lib\\site-packages (from nbformat>=5.7->nbconvert>=5.6.0->flake8-nb) (2.16.2)\n",
      "Requirement already satisfied: jsonschema>=2.6 in c:\\programdata\\anaconda3\\lib\\site-packages (from nbformat>=5.7->nbconvert>=5.6.0->flake8-nb) (4.23.0)\n",
      "Requirement already satisfied: wcwidth in c:\\programdata\\anaconda3\\lib\\site-packages (from prompt-toolkit<3.1.0,>=3.0.41->ipython>=7.8.0->flake8-nb) (0.2.5)\n",
      "Requirement already satisfied: soupsieve>1.2 in c:\\programdata\\anaconda3\\lib\\site-packages (from beautifulsoup4->nbconvert>=5.6.0->flake8-nb) (2.5)\n",
      "Requirement already satisfied: executing in c:\\programdata\\anaconda3\\lib\\site-packages (from stack-data->ipython>=7.8.0->flake8-nb) (0.8.3)\n",
      "Requirement already satisfied: asttokens in c:\\programdata\\anaconda3\\lib\\site-packages (from stack-data->ipython>=7.8.0->flake8-nb) (2.0.5)\n",
      "Requirement already satisfied: pure-eval in c:\\programdata\\anaconda3\\lib\\site-packages (from stack-data->ipython>=7.8.0->flake8-nb) (0.2.2)\n",
      "Requirement already satisfied: attrs>=22.2.0 in c:\\users\\daveb\\appdata\\roaming\\python\\python312\\site-packages (from jsonschema>=2.6->nbformat>=5.7->nbconvert>=5.6.0->flake8-nb) (24.2.0)\n",
      "Requirement already satisfied: jsonschema-specifications>=2023.03.6 in c:\\programdata\\anaconda3\\lib\\site-packages (from jsonschema>=2.6->nbformat>=5.7->nbconvert>=5.6.0->flake8-nb) (2023.7.1)\n",
      "Requirement already satisfied: referencing>=0.28.4 in c:\\programdata\\anaconda3\\lib\\site-packages (from jsonschema>=2.6->nbformat>=5.7->nbconvert>=5.6.0->flake8-nb) (0.30.2)\n",
      "Requirement already satisfied: rpds-py>=0.7.1 in c:\\programdata\\anaconda3\\lib\\site-packages (from jsonschema>=2.6->nbformat>=5.7->nbconvert>=5.6.0->flake8-nb) (0.10.6)\n",
      "Requirement already satisfied: python-dateutil>=2.8.2 in c:\\programdata\\anaconda3\\lib\\site-packages (from jupyter-client>=6.1.12->nbclient>=0.5.0->nbconvert>=5.6.0->flake8-nb) (2.9.0.post0)\n",
      "Requirement already satisfied: pyzmq>=23.0 in c:\\programdata\\anaconda3\\lib\\site-packages (from jupyter-client>=6.1.12->nbclient>=0.5.0->nbconvert>=5.6.0->flake8-nb) (25.1.2)\n",
      "Requirement already satisfied: tornado>=6.2 in c:\\programdata\\anaconda3\\lib\\site-packages (from jupyter-client>=6.1.12->nbclient>=0.5.0->nbconvert>=5.6.0->flake8-nb) (6.4.1)\n"
     ]
    }
   ],
   "source": [
    "\n",
    "import sys\n",
    "import os.path as osp, os as os\n",
    "\n",
    "executable_path = sys.executable; scripts_folder = osp.join(osp.dirname(executable_path), 'Scripts')\n",
    "if (scripts_folder not in sys.path): sys.path.insert(1, scripts_folder)\n",
    "command_str = f'{executable_path} -m pip install flake8-nb --upgrade'# --quiet\n",
    "print(command_str)\n",
    "!{command_str}"
   ]
  },
  {
   "cell_type": "code",
   "execution_count": null,
   "id": "b41cefa2-6936-4741-9e29-2d9a58e2ced0",
   "metadata": {},
   "outputs": [],
   "source": [
    "\n",
    "command_str = f'{executable_path} -m pip show typing_extensions'\n",
    "print(command_str)\n",
    "!{command_str}"
   ]
  },
  {
   "cell_type": "code",
   "execution_count": 26,
   "id": "latin-ability",
   "metadata": {},
   "outputs": [
    {
     "name": "stdout",
     "output_type": "stream",
     "text": [
      "C:\\Users\\daveb\\OneDrive\\Documents\\GitHub\\rpc\\rpc_env\\python.exe -m pip uninstall typing_extensions --yes\n",
      "Found existing installation: typing-extensions 4.12.2\n",
      "Uninstalling typing-extensions-4.12.2:\n",
      "  Successfully uninstalled typing-extensions-4.12.2\n"
     ]
    }
   ],
   "source": [
    "\n",
    "command_str = f'{executable_path} -m pip uninstall typing_extensions --yes'\n",
    "print(command_str)\n",
    "!{command_str}"
   ]
  },
  {
   "cell_type": "code",
   "execution_count": 2,
   "id": "35485ede-bd30-4e5f-92a7-519dc8055907",
   "metadata": {},
   "outputs": [
    {
     "name": "stdout",
     "output_type": "stream",
     "text": [
      "As of 2024-01-15, Django version: 5.0.1\n"
     ]
    }
   ],
   "source": [
    "\n",
    "from datetime import date\n",
    "import django\n",
    "\n",
    "print(f\"As of {date.today()}, Django version: {django.get_version()}\")"
   ]
  },
  {
   "cell_type": "code",
   "execution_count": null,
   "id": "5a405945-2475-4298-82fa-5827884b05dd",
   "metadata": {},
   "outputs": [],
   "source": [
    "# %load ../load_magic/pip_install.txt\n",
    "\n",
    "import sys\n",
    "\n",
    "command_str = rf'{sys.executable} -m pip install \"C:\\Users\\daveb\\Downloads\\GDAL-3.4.2-cp39-cp39-win_amd64.whl\"'\n",
    "print(command_str)\n",
    "!{command_str}"
   ]
  },
  {
   "cell_type": "code",
   "execution_count": null,
   "id": "driven-munich",
   "metadata": {},
   "outputs": [],
   "source": []
  }
 ],
 "metadata": {
  "kernelspec": {
   "display_name": "Python 3 (ipykernel)",
   "language": "python",
   "name": "python3"
  },
  "language_info": {
   "codemirror_mode": {
    "name": "ipython",
    "version": 3
   },
   "file_extension": ".py",
   "mimetype": "text/x-python",
   "name": "python",
   "nbconvert_exporter": "python",
   "pygments_lexer": "ipython3",
   "version": "3.12.7"
  }
 },
 "nbformat": 4,
 "nbformat_minor": 5
}
