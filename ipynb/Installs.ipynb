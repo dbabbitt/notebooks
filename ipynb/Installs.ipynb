{
 "cells": [
  {
   "cell_type": "code",
   "execution_count": 3,
   "id": "776c665e-653a-4fad-8de9-a644577fe329",
   "metadata": {},
   "outputs": [
    {
     "name": "stdout",
     "output_type": "stream",
     "text": [
      "C:\\Users\\daveb\\OneDrive\\Documents\\GitHub\\job-hunting\\jh_env\\python.exe -m pip install umap-learn scikit-learn matplotlib --upgrade\n",
      "Collecting umap-learn\n",
      "  Using cached umap_learn-0.5.7-py3-none-any.whl.metadata (21 kB)\n",
      "Requirement already satisfied: scikit-learn in c:\\users\\daveb\\onedrive\\documents\\github\\job-hunting\\jh_env\\lib\\site-packages (1.5.2)\n",
      "Requirement already satisfied: matplotlib in c:\\users\\daveb\\onedrive\\documents\\github\\job-hunting\\jh_env\\lib\\site-packages (3.7.0)\n",
      "Collecting matplotlib\n",
      "  Using cached matplotlib-3.9.3-cp310-cp310-win_amd64.whl.metadata (11 kB)\n",
      "Requirement already satisfied: numpy>=1.17 in c:\\users\\daveb\\onedrive\\documents\\github\\job-hunting\\jh_env\\lib\\site-packages (from umap-learn) (1.24.2)\n",
      "Requirement already satisfied: scipy>=1.3.1 in c:\\users\\daveb\\onedrive\\documents\\github\\job-hunting\\jh_env\\lib\\site-packages (from umap-learn) (1.10.1)\n",
      "Requirement already satisfied: numba>=0.51.2 in c:\\users\\daveb\\onedrive\\documents\\github\\job-hunting\\jh_env\\lib\\site-packages (from umap-learn) (0.60.0)\n",
      "Collecting pynndescent>=0.5 (from umap-learn)\n",
      "  Using cached pynndescent-0.5.13-py3-none-any.whl.metadata (6.8 kB)\n",
      "Requirement already satisfied: tqdm in c:\\users\\daveb\\onedrive\\documents\\github\\job-hunting\\jh_env\\lib\\site-packages (from umap-learn) (4.64.1)\n",
      "Requirement already satisfied: joblib>=1.2.0 in c:\\users\\daveb\\onedrive\\documents\\github\\job-hunting\\jh_env\\lib\\site-packages (from scikit-learn) (1.2.0)\n",
      "Requirement already satisfied: threadpoolctl>=3.1.0 in c:\\users\\daveb\\onedrive\\documents\\github\\job-hunting\\jh_env\\lib\\site-packages (from scikit-learn) (3.1.0)\n",
      "Requirement already satisfied: contourpy>=1.0.1 in c:\\users\\daveb\\onedrive\\documents\\github\\job-hunting\\jh_env\\lib\\site-packages (from matplotlib) (1.0.7)\n",
      "Requirement already satisfied: cycler>=0.10 in c:\\users\\daveb\\onedrive\\documents\\github\\job-hunting\\jh_env\\lib\\site-packages (from matplotlib) (0.11.0)\n",
      "Requirement already satisfied: fonttools>=4.22.0 in c:\\users\\daveb\\onedrive\\documents\\github\\job-hunting\\jh_env\\lib\\site-packages (from matplotlib) (4.38.0)\n",
      "Requirement already satisfied: kiwisolver>=1.3.1 in c:\\users\\daveb\\onedrive\\documents\\github\\job-hunting\\jh_env\\lib\\site-packages (from matplotlib) (1.4.4)\n",
      "Requirement already satisfied: packaging>=20.0 in c:\\users\\daveb\\onedrive\\documents\\github\\job-hunting\\jh_env\\lib\\site-packages (from matplotlib) (22.0)\n",
      "Requirement already satisfied: pillow>=8 in c:\\users\\daveb\\onedrive\\documents\\github\\job-hunting\\jh_env\\lib\\site-packages (from matplotlib) (9.4.0)\n",
      "Requirement already satisfied: pyparsing>=2.3.1 in c:\\users\\daveb\\onedrive\\documents\\github\\job-hunting\\jh_env\\lib\\site-packages (from matplotlib) (3.0.9)\n",
      "Requirement already satisfied: python-dateutil>=2.7 in c:\\users\\daveb\\appdata\\roaming\\python\\python310\\site-packages (from matplotlib) (2.8.2)\n",
      "Requirement already satisfied: llvmlite<0.44,>=0.43.0dev0 in c:\\users\\daveb\\onedrive\\documents\\github\\job-hunting\\jh_env\\lib\\site-packages (from numba>=0.51.2->umap-learn) (0.43.0)\n",
      "Requirement already satisfied: six>=1.5 in c:\\users\\daveb\\appdata\\roaming\\python\\python310\\site-packages (from python-dateutil>=2.7->matplotlib) (1.16.0)\n",
      "Requirement already satisfied: colorama in c:\\users\\daveb\\appdata\\roaming\\python\\python310\\site-packages (from tqdm->umap-learn) (0.4.6)\n",
      "Using cached umap_learn-0.5.7-py3-none-any.whl (88 kB)\n",
      "Using cached matplotlib-3.9.3-cp310-cp310-win_amd64.whl (7.8 MB)\n",
      "Using cached pynndescent-0.5.13-py3-none-any.whl (56 kB)\n",
      "Installing collected packages: matplotlib, pynndescent, umap-learn\n",
      "  Attempting uninstall: matplotlib\n",
      "    Found existing installation: matplotlib 3.7.0\n"
     ]
    },
    {
     "name": "stderr",
     "output_type": "stream",
     "text": [
      "ERROR: Could not install packages due to an OSError: [Errno 22] Invalid argument\n",
      "\n"
     ]
    }
   ],
   "source": [
    "\n",
    "import sys\n",
    "\n",
    "command_str = f'{sys.executable} -m pip install umap-learn scikit-learn matplotlib --upgrade'# --quiet\n",
    "print(command_str)\n",
    "!{command_str}"
   ]
  },
  {
   "cell_type": "code",
   "execution_count": 2,
   "id": "35485ede-bd30-4e5f-92a7-519dc8055907",
   "metadata": {},
   "outputs": [
    {
     "name": "stdout",
     "output_type": "stream",
     "text": [
      "As of 2024-01-15, Django version: 5.0.1\n"
     ]
    }
   ],
   "source": [
    "\n",
    "from datetime import date\n",
    "import django\n",
    "\n",
    "print(f\"As of {date.today()}, Django version: {django.get_version()}\")"
   ]
  },
  {
   "cell_type": "code",
   "execution_count": 21,
   "id": "latin-ability",
   "metadata": {},
   "outputs": [
    {
     "name": "stdout",
     "output_type": "stream",
     "text": [
      "C:\\ProgramData\\Anaconda3\\python.exe -m pip uninstall pyproj --yes\n",
      "Found existing installation: pyproj 3.3.1\n",
      "Uninstalling pyproj-3.3.1:\n",
      "  Successfully uninstalled pyproj-3.3.1\n"
     ]
    }
   ],
   "source": [
    "# %load ../load_magic/pip_install.txt\n",
    "\n",
    "import sys\n",
    "\n",
    "command_str = rf'{sys.executable} -m pip uninstall pyproj --yes'\n",
    "print(command_str)\n",
    "!{command_str}"
   ]
  },
  {
   "cell_type": "code",
   "execution_count": null,
   "id": "5a405945-2475-4298-82fa-5827884b05dd",
   "metadata": {},
   "outputs": [],
   "source": [
    "# %load ../load_magic/pip_install.txt\n",
    "\n",
    "import sys\n",
    "\n",
    "command_str = rf'{sys.executable} -m pip install \"C:\\Users\\daveb\\Downloads\\GDAL-3.4.2-cp39-cp39-win_amd64.whl\"'\n",
    "print(command_str)\n",
    "!{command_str}"
   ]
  },
  {
   "cell_type": "code",
   "execution_count": null,
   "id": "driven-munich",
   "metadata": {},
   "outputs": [],
   "source": []
  }
 ],
 "metadata": {
  "kernelspec": {
   "display_name": "Job Hunting (Python 3.10.9)",
   "language": "python",
   "name": "jh_env"
  },
  "language_info": {
   "codemirror_mode": {
    "name": "ipython",
    "version": 3
   },
   "file_extension": ".py",
   "mimetype": "text/x-python",
   "name": "python",
   "nbconvert_exporter": "python",
   "pygments_lexer": "ipython3",
   "version": "3.10.9"
  }
 },
 "nbformat": 4,
 "nbformat_minor": 5
}
