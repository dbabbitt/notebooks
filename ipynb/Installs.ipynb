{
 "cells": [
  {
   "cell_type": "code",
   "execution_count": null,
   "id": "09bb3bf6-21d6-43b4-93bf-5ae03e6e92ba",
   "metadata": {},
   "outputs": [],
   "source": []
  },
  {
   "cell_type": "code",
   "execution_count": 1,
   "id": "776c665e-653a-4fad-8de9-a644577fe329",
   "metadata": {},
   "outputs": [
    {
     "name": "stdout",
     "output_type": "stream",
     "text": [
      "C:\\ProgramData\\Anaconda3\\python.exe -m pip install --upgrade tzdata\n",
      "Collecting tzdata\n",
      "  Downloading tzdata-2022.6-py2.py3-none-any.whl (338 kB)\n",
      "Installing collected packages: tzdata\n",
      "Successfully installed tzdata-2022.6\n"
     ]
    }
   ],
   "source": [
    "\n",
    "import sys\n",
    "\n",
    "command_str = f'{sys.executable} -m pip install --upgrade tzdata'\n",
    "print(command_str)\n",
    "!{command_str}"
   ]
  },
  {
   "cell_type": "code",
   "execution_count": 4,
   "id": "35485ede-bd30-4e5f-92a7-519dc8055907",
   "metadata": {},
   "outputs": [
    {
     "name": "stdout",
     "output_type": "stream",
     "text": [
      "As of 2022-10-21, pandas version: 1.5.1\n"
     ]
    }
   ],
   "source": [
    "\n",
    "import pandas as pd\n",
    "from datetime import date\n",
    "import json\n",
    "\n",
    "# versions_json = pd.show_versions(as_json=True); version_str = versions_json['dependencies']['pandas']\n",
    "print(f\"As of {date.today()}, pandas version: {pd.__version__}\")"
   ]
  },
  {
   "cell_type": "code",
   "execution_count": 21,
   "id": "latin-ability",
   "metadata": {},
   "outputs": [
    {
     "name": "stdout",
     "output_type": "stream",
     "text": [
      "C:\\ProgramData\\Anaconda3\\python.exe -m pip uninstall pyproj --yes\n",
      "Found existing installation: pyproj 3.3.1\n",
      "Uninstalling pyproj-3.3.1:\n",
      "  Successfully uninstalled pyproj-3.3.1\n"
     ]
    }
   ],
   "source": [
    "# %load ../load_magic/pip_install.txt\n",
    "\n",
    "import sys\n",
    "\n",
    "command_str = rf'{sys.executable} -m pip uninstall pyproj --yes'\n",
    "print(command_str)\n",
    "!{command_str}"
   ]
  },
  {
   "cell_type": "code",
   "execution_count": 18,
   "id": "1d5e743d-8c02-4964-aa4e-e465bbc5dc24",
   "metadata": {},
   "outputs": [
    {
     "name": "stdout",
     "output_type": "stream",
     "text": [
      "C:\\ProgramData\\Anaconda3\\python.exe -m pip install \"C:\\Users\\daveb\\Downloads\\Fiona-1.8.21-cp39-cp39-win_amd64.whl\"\n",
      "Processing c:\\users\\daveb\\downloads\\fiona-1.8.21-cp39-cp39-win_amd64.whl\n",
      "Requirement already satisfied: gdal~=3.4.1 in c:\\programdata\\anaconda3\\lib\\site-packages (from Fiona==1.8.21) (3.4.2)\n",
      "Requirement already satisfied: certifi in c:\\programdata\\anaconda3\\lib\\site-packages (from Fiona==1.8.21) (2021.10.8)\n",
      "Requirement already satisfied: click-plugins>=1.0 in c:\\programdata\\anaconda3\\lib\\site-packages (from Fiona==1.8.21) (1.1.1)\n",
      "Requirement already satisfied: six>=1.7 in c:\\programdata\\anaconda3\\lib\\site-packages (from Fiona==1.8.21) (1.16.0)\n",
      "Requirement already satisfied: setuptools in c:\\programdata\\anaconda3\\lib\\site-packages (from Fiona==1.8.21) (61.2.0)\n",
      "Requirement already satisfied: click>=4.0 in c:\\programdata\\anaconda3\\lib\\site-packages (from Fiona==1.8.21) (8.0.4)\n",
      "Requirement already satisfied: munch in c:\\programdata\\anaconda3\\lib\\site-packages (from Fiona==1.8.21) (2.5.0)\n",
      "Requirement already satisfied: attrs>=17 in c:\\programdata\\anaconda3\\lib\\site-packages (from Fiona==1.8.21) (21.4.0)\n",
      "Requirement already satisfied: cligj>=0.5 in c:\\programdata\\anaconda3\\lib\\site-packages (from Fiona==1.8.21) (0.7.2)\n",
      "Requirement already satisfied: colorama in c:\\programdata\\anaconda3\\lib\\site-packages (from click>=4.0->Fiona==1.8.21) (0.4.4)\n",
      "Fiona is already installed with the same version as the provided wheel. Use --force-reinstall to force an installation of the wheel.\n"
     ]
    }
   ],
   "source": [
    "\n",
    "import sys\n",
    "\n",
    "command_str = rf'{sys.executable} -m pip install \"C:\\Users\\daveb\\Downloads\\Fiona-1.8.21-cp39-cp39-win_amd64.whl\"'\n",
    "print(command_str)\n",
    "!{command_str}"
   ]
  },
  {
   "cell_type": "code",
   "execution_count": 20,
   "id": "e716bbd0-db6a-47d4-85b8-4374b9c31e5f",
   "metadata": {},
   "outputs": [
    {
     "name": "stdout",
     "output_type": "stream",
     "text": [
      "C:\\ProgramData\\Anaconda3\\python.exe -m pip install --upgrade geopandas\n",
      "Requirement already satisfied: geopandas in c:\\programdata\\anaconda3\\lib\\site-packages (0.10.2)\n",
      "Requirement already satisfied: pandas>=0.25.0 in c:\\programdata\\anaconda3\\lib\\site-packages (from geopandas) (1.4.2)\n",
      "Requirement already satisfied: pyproj>=2.2.0 in c:\\programdata\\anaconda3\\lib\\site-packages (from geopandas) (3.3.1)\n",
      "Requirement already satisfied: shapely>=1.6 in c:\\programdata\\anaconda3\\lib\\site-packages (from geopandas) (1.8.2)\n",
      "Requirement already satisfied: fiona>=1.8 in c:\\programdata\\anaconda3\\lib\\site-packages (from geopandas) (1.8.21)\n",
      "Requirement already satisfied: click>=4.0 in c:\\programdata\\anaconda3\\lib\\site-packages (from fiona>=1.8->geopandas) (8.0.4)\n",
      "Requirement already satisfied: six>=1.7 in c:\\programdata\\anaconda3\\lib\\site-packages (from fiona>=1.8->geopandas) (1.16.0)\n",
      "Requirement already satisfied: gdal~=3.4.1 in c:\\programdata\\anaconda3\\lib\\site-packages (from fiona>=1.8->geopandas) (3.4.2)\n",
      "Requirement already satisfied: certifi in c:\\programdata\\anaconda3\\lib\\site-packages (from fiona>=1.8->geopandas) (2021.10.8)\n",
      "Requirement already satisfied: attrs>=17 in c:\\programdata\\anaconda3\\lib\\site-packages (from fiona>=1.8->geopandas) (21.4.0)\n",
      "Requirement already satisfied: munch in c:\\programdata\\anaconda3\\lib\\site-packages (from fiona>=1.8->geopandas) (2.5.0)\n",
      "Requirement already satisfied: cligj>=0.5 in c:\\programdata\\anaconda3\\lib\\site-packages (from fiona>=1.8->geopandas) (0.7.2)\n",
      "Requirement already satisfied: click-plugins>=1.0 in c:\\programdata\\anaconda3\\lib\\site-packages (from fiona>=1.8->geopandas) (1.1.1)\n",
      "Requirement already satisfied: setuptools in c:\\programdata\\anaconda3\\lib\\site-packages (from fiona>=1.8->geopandas) (61.2.0)\n",
      "Requirement already satisfied: colorama in c:\\programdata\\anaconda3\\lib\\site-packages (from click>=4.0->fiona>=1.8->geopandas) (0.4.4)\n",
      "Requirement already satisfied: numpy>=1.18.5 in c:\\programdata\\anaconda3\\lib\\site-packages (from pandas>=0.25.0->geopandas) (1.22.3)\n",
      "Requirement already satisfied: python-dateutil>=2.8.1 in c:\\programdata\\anaconda3\\lib\\site-packages (from pandas>=0.25.0->geopandas) (2.8.2)\n",
      "Requirement already satisfied: pytz>=2020.1 in c:\\programdata\\anaconda3\\lib\\site-packages (from pandas>=0.25.0->geopandas) (2021.3)\n"
     ]
    }
   ],
   "source": [
    "\n",
    "import sys\n",
    "\n",
    "command_str = f'{sys.executable} -m pip install --upgrade geopandas'\n",
    "print(command_str)\n",
    "!{command_str}"
   ]
  },
  {
   "cell_type": "code",
   "execution_count": 8,
   "id": "5a405945-2475-4298-82fa-5827884b05dd",
   "metadata": {},
   "outputs": [
    {
     "name": "stdout",
     "output_type": "stream",
     "text": [
      "C:\\ProgramData\\Anaconda3\\python.exe -m pip install \"C:\\Users\\daveb\\Downloads\\GDAL-3.4.2-cp39-cp39-win_amd64.whl\"\n",
      "Processing c:\\users\\daveb\\downloads\\gdal-3.4.2-cp39-cp39-win_amd64.whl\n",
      "GDAL is already installed with the same version as the provided wheel. Use --force-reinstall to force an installation of the wheel.\n"
     ]
    }
   ],
   "source": [
    "# %load ../load_magic/pip_install.txt\n",
    "\n",
    "import sys\n",
    "\n",
    "command_str = rf'{sys.executable} -m pip install \"C:\\Users\\daveb\\Downloads\\GDAL-3.4.2-cp39-cp39-win_amd64.whl\"'\n",
    "print(command_str)\n",
    "!{command_str}"
   ]
  },
  {
   "cell_type": "code",
   "execution_count": 2,
   "id": "65392fd5-2140-433a-af8e-8423ef7a8de6",
   "metadata": {},
   "outputs": [
    {
     "name": "stdout",
     "output_type": "stream",
     "text": [
      "C:\\ProgramData\\Anaconda3\\python.exe -m pip uninstall rasterio --yes\n",
      "Found existing installation: rasterio 1.2.10\n",
      "Uninstalling rasterio-1.2.10:\n",
      "  Successfully uninstalled rasterio-1.2.10\n"
     ]
    },
    {
     "name": "stderr",
     "output_type": "stream",
     "text": [
      "WARNING: Ignoring invalid distribution -ffi (c:\\programdata\\anaconda3\\lib\\site-packages)\n",
      "WARNING: Ignoring invalid distribution -atplotlib (c:\\programdata\\anaconda3\\lib\\site-packages)\n",
      "WARNING: Ignoring invalid distribution -ffi (c:\\programdata\\anaconda3\\lib\\site-packages)\n",
      "WARNING: Ignoring invalid distribution -atplotlib (c:\\programdata\\anaconda3\\lib\\site-packages)\n"
     ]
    }
   ],
   "source": [
    "# %load ../load_magic/pip_install.txt\n",
    "\n",
    "import sys\n",
    "\n",
    "command_str = rf'{sys.executable} -m pip uninstall rasterio --yes'\n",
    "print(command_str)\n",
    "!{command_str}"
   ]
  },
  {
   "cell_type": "code",
   "execution_count": 5,
   "id": "ea7238ac-b424-4a5b-a94e-a5de7a42fa31",
   "metadata": {},
   "outputs": [
    {
     "name": "stdout",
     "output_type": "stream",
     "text": [
      "C:\\ProgramData\\Anaconda3\\python.exe -m pip install \"C:\\Users\\daveb\\Downloads\\rasterio-1.2.10-cp39-cp39-win_amd64.whl\"\n",
      "Processing c:\\users\\daveb\\downloads\\rasterio-1.2.10-cp39-cp39-win_amd64.whl\n",
      "Requirement already satisfied: numpy in c:\\programdata\\anaconda3\\lib\\site-packages (from rasterio==1.2.10) (1.22.3)\n",
      "Requirement already satisfied: click>=4.0 in c:\\programdata\\anaconda3\\lib\\site-packages (from rasterio==1.2.10) (8.0.4)\n",
      "Requirement already satisfied: setuptools in c:\\programdata\\anaconda3\\lib\\site-packages (from rasterio==1.2.10) (61.2.0)\n",
      "Collecting click-plugins\n",
      "  Using cached click_plugins-1.1.1-py2.py3-none-any.whl (7.5 kB)\n",
      "Requirement already satisfied: snuggs>=1.4.1 in c:\\programdata\\anaconda3\\lib\\site-packages (from rasterio==1.2.10) (1.4.7)\n",
      "Requirement already satisfied: gdal~=3.4.1 in c:\\programdata\\anaconda3\\lib\\site-packages (from rasterio==1.2.10) (3.4.2)\n",
      "Requirement already satisfied: attrs in c:\\programdata\\anaconda3\\lib\\site-packages (from rasterio==1.2.10) (21.4.0)\n",
      "Requirement already satisfied: cligj>=0.5 in c:\\programdata\\anaconda3\\lib\\site-packages (from rasterio==1.2.10) (0.7.2)\n",
      "Requirement already satisfied: certifi in c:\\programdata\\anaconda3\\lib\\site-packages (from rasterio==1.2.10) (2021.10.8)\n",
      "Requirement already satisfied: affine in c:\\programdata\\anaconda3\\lib\\site-packages (from rasterio==1.2.10) (2.3.1)\n",
      "Requirement already satisfied: colorama in c:\\programdata\\anaconda3\\lib\\site-packages (from click>=4.0->rasterio==1.2.10) (0.4.4)\n",
      "Requirement already satisfied: pyparsing>=2.1.6 in c:\\programdata\\anaconda3\\lib\\site-packages (from snuggs>=1.4.1->rasterio==1.2.10) (3.0.4)\n",
      "Installing collected packages: click-plugins, rasterio\n",
      "Successfully installed click-plugins-1.1.1 rasterio-1.2.10\n"
     ]
    },
    {
     "name": "stderr",
     "output_type": "stream",
     "text": [
      "WARNING: Ignoring invalid distribution -ffi (c:\\programdata\\anaconda3\\lib\\site-packages)\n",
      "WARNING: Ignoring invalid distribution -atplotlib (c:\\programdata\\anaconda3\\lib\\site-packages)\n",
      "WARNING: Ignoring invalid distribution -ffi (c:\\programdata\\anaconda3\\lib\\site-packages)\n",
      "WARNING: Ignoring invalid distribution -atplotlib (c:\\programdata\\anaconda3\\lib\\site-packages)\n",
      "WARNING: Ignoring invalid distribution -ffi (c:\\programdata\\anaconda3\\lib\\site-packages)\n",
      "WARNING: Ignoring invalid distribution -atplotlib (c:\\programdata\\anaconda3\\lib\\site-packages)\n",
      "WARNING: Ignoring invalid distribution -ffi (c:\\programdata\\anaconda3\\lib\\site-packages)\n",
      "WARNING: Ignoring invalid distribution -atplotlib (c:\\programdata\\anaconda3\\lib\\site-packages)\n",
      "WARNING: Ignoring invalid distribution -ffi (c:\\programdata\\anaconda3\\lib\\site-packages)\n",
      "WARNING: Ignoring invalid distribution -atplotlib (c:\\programdata\\anaconda3\\lib\\site-packages)\n",
      "WARNING: Ignoring invalid distribution -ffi (c:\\programdata\\anaconda3\\lib\\site-packages)\n",
      "WARNING: Ignoring invalid distribution -atplotlib (c:\\programdata\\anaconda3\\lib\\site-packages)\n",
      "WARNING: Ignoring invalid distribution -ffi (c:\\programdata\\anaconda3\\lib\\site-packages)\n",
      "WARNING: Ignoring invalid distribution -atplotlib (c:\\programdata\\anaconda3\\lib\\site-packages)\n",
      "WARNING: Ignoring invalid distribution -ffi (c:\\programdata\\anaconda3\\lib\\site-packages)\n",
      "WARNING: Ignoring invalid distribution -atplotlib (c:\\programdata\\anaconda3\\lib\\site-packages)\n"
     ]
    }
   ],
   "source": [
    "# %load ../load_magic/pip_install.txt\n",
    "\n",
    "import sys\n",
    "\n",
    "command_str = rf'{sys.executable} -m pip install \"C:\\Users\\daveb\\Downloads\\rasterio-1.2.10-cp39-cp39-win_amd64.whl\"'\n",
    "print(command_str)\n",
    "!{command_str}"
   ]
  },
  {
   "cell_type": "code",
   "execution_count": 19,
   "id": "f906872a-1239-4097-8d7c-c271d260f364",
   "metadata": {},
   "outputs": [
    {
     "name": "stdout",
     "output_type": "stream",
     "text": [
      "C:\\ProgramData\\Anaconda3\\python.exe -m pip install \"C:\\Users\\daveb\\Downloads\\Cartopy-0.20.2-cp39-cp39-win_amd64.whl\"\n",
      "Processing c:\\users\\daveb\\downloads\\cartopy-0.20.2-cp39-cp39-win_amd64.whl\n",
      "Requirement already satisfied: pyproj>=3.0.0 in c:\\programdata\\anaconda3\\lib\\site-packages (from Cartopy==0.20.2) (3.3.1)\n",
      "Requirement already satisfied: matplotlib>=3.1 in c:\\programdata\\anaconda3\\lib\\site-packages (from Cartopy==0.20.2) (3.5.1)\n",
      "Requirement already satisfied: numpy>=1.18 in c:\\programdata\\anaconda3\\lib\\site-packages (from Cartopy==0.20.2) (1.22.3)\n",
      "Collecting pyshp>=2.1\n",
      "  Using cached pyshp-2.3.0-py2.py3-none-any.whl (46 kB)\n",
      "Requirement already satisfied: shapely>=1.6.4 in c:\\programdata\\anaconda3\\lib\\site-packages (from Cartopy==0.20.2) (1.8.2)\n",
      "Requirement already satisfied: python-dateutil>=2.7 in c:\\programdata\\anaconda3\\lib\\site-packages (from matplotlib>=3.1->Cartopy==0.20.2) (2.8.2)\n",
      "Requirement already satisfied: cycler>=0.10 in c:\\programdata\\anaconda3\\lib\\site-packages (from matplotlib>=3.1->Cartopy==0.20.2) (0.11.0)\n",
      "Requirement already satisfied: packaging>=20.0 in c:\\programdata\\anaconda3\\lib\\site-packages (from matplotlib>=3.1->Cartopy==0.20.2) (21.3)\n",
      "Requirement already satisfied: pyparsing>=2.2.1 in c:\\programdata\\anaconda3\\lib\\site-packages (from matplotlib>=3.1->Cartopy==0.20.2) (3.0.4)\n",
      "Requirement already satisfied: fonttools>=4.22.0 in c:\\programdata\\anaconda3\\lib\\site-packages (from matplotlib>=3.1->Cartopy==0.20.2) (4.25.0)\n",
      "Requirement already satisfied: pillow>=6.2.0 in c:\\programdata\\anaconda3\\lib\\site-packages (from matplotlib>=3.1->Cartopy==0.20.2) (9.1.0)\n",
      "Requirement already satisfied: kiwisolver>=1.0.1 in c:\\programdata\\anaconda3\\lib\\site-packages (from matplotlib>=3.1->Cartopy==0.20.2) (1.3.2)\n",
      "Requirement already satisfied: certifi in c:\\programdata\\anaconda3\\lib\\site-packages (from pyproj>=3.0.0->Cartopy==0.20.2) (2021.10.8)\n",
      "Requirement already satisfied: six>=1.5 in c:\\programdata\\anaconda3\\lib\\site-packages (from python-dateutil>=2.7->matplotlib>=3.1->Cartopy==0.20.2) (1.16.0)\n",
      "Installing collected packages: pyshp, Cartopy\n",
      "Successfully installed Cartopy-0.20.2 pyshp-2.3.0\n"
     ]
    },
    {
     "name": "stderr",
     "output_type": "stream",
     "text": [
      "WARNING: Ignoring invalid distribution -ffi (c:\\programdata\\anaconda3\\lib\\site-packages)\n",
      "WARNING: Ignoring invalid distribution -atplotlib (c:\\programdata\\anaconda3\\lib\\site-packages)\n",
      "WARNING: Ignoring invalid distribution -ffi (c:\\programdata\\anaconda3\\lib\\site-packages)\n",
      "WARNING: Ignoring invalid distribution -atplotlib (c:\\programdata\\anaconda3\\lib\\site-packages)\n",
      "WARNING: Ignoring invalid distribution -ffi (c:\\programdata\\anaconda3\\lib\\site-packages)\n",
      "WARNING: Ignoring invalid distribution -atplotlib (c:\\programdata\\anaconda3\\lib\\site-packages)\n",
      "WARNING: Ignoring invalid distribution -ffi (c:\\programdata\\anaconda3\\lib\\site-packages)\n",
      "WARNING: Ignoring invalid distribution -atplotlib (c:\\programdata\\anaconda3\\lib\\site-packages)\n",
      "WARNING: Ignoring invalid distribution -ffi (c:\\programdata\\anaconda3\\lib\\site-packages)\n",
      "WARNING: Ignoring invalid distribution -atplotlib (c:\\programdata\\anaconda3\\lib\\site-packages)\n",
      "WARNING: Ignoring invalid distribution -ffi (c:\\programdata\\anaconda3\\lib\\site-packages)\n",
      "WARNING: Ignoring invalid distribution -atplotlib (c:\\programdata\\anaconda3\\lib\\site-packages)\n",
      "WARNING: Ignoring invalid distribution -ffi (c:\\programdata\\anaconda3\\lib\\site-packages)\n",
      "WARNING: Ignoring invalid distribution -atplotlib (c:\\programdata\\anaconda3\\lib\\site-packages)\n",
      "WARNING: Ignoring invalid distribution -ffi (c:\\programdata\\anaconda3\\lib\\site-packages)\n",
      "WARNING: Ignoring invalid distribution -atplotlib (c:\\programdata\\anaconda3\\lib\\site-packages)\n"
     ]
    }
   ],
   "source": [
    "# %load ../load_magic/pip_install.txt\n",
    "\n",
    "import sys\n",
    "\n",
    "command_str = rf'{sys.executable} -m pip install \"C:\\Users\\daveb\\Downloads\\Cartopy-0.20.2-cp39-cp39-win_amd64.whl\"'\n",
    "print(command_str)\n",
    "!{command_str}"
   ]
  },
  {
   "cell_type": "code",
   "execution_count": null,
   "id": "driven-munich",
   "metadata": {},
   "outputs": [],
   "source": []
  }
 ],
 "metadata": {
  "kernelspec": {
   "display_name": "Python 3 (ipykernel)",
   "language": "python",
   "name": "python3"
  },
  "language_info": {
   "codemirror_mode": {
    "name": "ipython",
    "version": 3
   },
   "file_extension": ".py",
   "mimetype": "text/x-python",
   "name": "python",
   "nbconvert_exporter": "python",
   "pygments_lexer": "ipython3",
   "version": "3.9.7"
  }
 },
 "nbformat": 4,
 "nbformat_minor": 5
}
