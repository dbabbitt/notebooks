{
 "cells": [
  {
   "cell_type": "code",
   "execution_count": 5,
   "id": "latin-ability",
   "metadata": {},
   "outputs": [
    {
     "name": "stdout",
     "output_type": "stream",
     "text": [
      "C:\\Users\\dev\\anaconda3\\python.exe -m pip install --upgrade PuLP\n",
      "Requirement already satisfied: PuLP in c:\\users\\dev\\anaconda3\\lib\\site-packages (2.4)\n",
      "Requirement already satisfied: amply>=0.1.2 in c:\\users\\dev\\anaconda3\\lib\\site-packages (from PuLP) (0.1.4)\n",
      "Requirement already satisfied: pyparsing in c:\\users\\dev\\anaconda3\\lib\\site-packages (from amply>=0.1.2->PuLP) (2.4.7)\n",
      "Requirement already satisfied: docutils>=0.3 in c:\\users\\dev\\anaconda3\\lib\\site-packages (from amply>=0.1.2->PuLP) (0.16)\n"
     ]
    }
   ],
   "source": [
    "# %load ../load_magic/pip_install.txt\n",
    "\n",
    "import sys\n",
    "\n",
    "command_str = f'{sys.executable} -m pip install --upgrade PuLP'\n",
    "print(command_str)\n",
    "!{command_str}"
   ]
  },
  {
   "cell_type": "code",
   "execution_count": null,
   "id": "driven-munich",
   "metadata": {},
   "outputs": [],
   "source": []
  }
 ],
 "metadata": {
  "kernelspec": {
   "display_name": "Python 3",
   "language": "python",
   "name": "python3"
  },
  "language_info": {
   "codemirror_mode": {
    "name": "ipython",
    "version": 3
   },
   "file_extension": ".py",
   "mimetype": "text/x-python",
   "name": "python",
   "nbconvert_exporter": "python",
   "pygments_lexer": "ipython3",
   "version": "3.7.9"
  }
 },
 "nbformat": 4,
 "nbformat_minor": 5
}
