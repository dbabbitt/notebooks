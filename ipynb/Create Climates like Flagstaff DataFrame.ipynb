{
 "cells": [
  {
   "cell_type": "code",
   "execution_count": 1,
   "id": "423d4ecc-c2e8-4489-89bd-26300ae631aa",
   "metadata": {},
   "outputs": [
    {
     "name": "stdout",
     "output_type": "stream",
     "text": [
      "Pretty printing has been turned OFF\n"
     ]
    }
   ],
   "source": [
    "\n",
    "%pprint"
   ]
  },
  {
   "cell_type": "code",
   "execution_count": 3,
   "id": "f1a8b1cd-b231-4523-ae18-f78cbad4e992",
   "metadata": {},
   "outputs": [
    {
     "name": "stdout",
     "output_type": "stream",
     "text": [
      "Pickling to D:\\Documents\\GitHub\\notebooks\\saves\\pickle\\climates_df.pickle\n"
     ]
    }
   ],
   "source": [
    "\n",
    "%run ../load_magic/storage.py\n",
    "\n",
    "s = Storage()\n",
    "climates_df = pd.concat(map(pd.read_csv, [os.path.join(s.data_csv_folder, f) for f in os.listdir(s.data_csv_folder) if f.endswith('.csv')]))\n",
    "s.store_objects(climates_df=climates_df)"
   ]
  },
  {
   "cell_type": "code",
   "execution_count": null,
   "id": "3f367fbc-05cd-4428-acd7-1abd0b40d1a1",
   "metadata": {},
   "outputs": [],
   "source": []
  }
 ],
 "metadata": {
  "kernelspec": {
   "display_name": "Python 3",
   "language": "python",
   "name": "python3"
  },
  "language_info": {
   "codemirror_mode": {
    "name": "ipython",
    "version": 3
   },
   "file_extension": ".py",
   "mimetype": "text/x-python",
   "name": "python",
   "nbconvert_exporter": "python",
   "pygments_lexer": "ipython3",
   "version": "3.8.10"
  }
 },
 "nbformat": 4,
 "nbformat_minor": 5
}
