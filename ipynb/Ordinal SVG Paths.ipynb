{
 "cells": [
  {
   "cell_type": "code",
   "execution_count": 3,
   "id": "105b0283-34ee-4ac3-a926-9998fededc01",
   "metadata": {},
   "outputs": [
    {
     "name": "stdout",
     "output_type": "stream",
     "text": [
      "Pretty printing has been turned OFF\n"
     ]
    }
   ],
   "source": [
    "\n",
    "%pprint"
   ]
  },
  {
   "cell_type": "code",
   "execution_count": 4,
   "id": "0d84c702-29bd-42f7-8ad5-d9d1e82f37cd",
   "metadata": {},
   "outputs": [
    {
     "data": {
      "text/plain": [
       "['num2words.CONVERTER_CLASSES', 'num2words.CONVERTES_TYPES', 'num2words.base', 'num2words.compat', 'num2words.currency', 'num2words.lang_AR', 'num2words.lang_CZ', 'num2words.lang_DE', 'num2words.lang_DK', 'num2words.lang_EN', 'num2words.lang_EN_IN', 'num2words.lang_ES', 'num2words.lang_ES_CO', 'num2words.lang_ES_VE', 'num2words.lang_EU', 'num2words.lang_FI', 'num2words.lang_FR', 'num2words.lang_FR_BE', 'num2words.lang_FR_CH', 'num2words.lang_FR_DZ', 'num2words.lang_HE', 'num2words.lang_ID', 'num2words.lang_IT', 'num2words.lang_JA', 'num2words.lang_KN', 'num2words.lang_KO', 'num2words.lang_LT', 'num2words.lang_LV', 'num2words.lang_NL', 'num2words.lang_NO', 'num2words.lang_PL', 'num2words.lang_PT', 'num2words.lang_PT_BR', 'num2words.lang_RO', 'num2words.lang_RU', 'num2words.lang_SL', 'num2words.lang_SR', 'num2words.lang_TH', 'num2words.lang_TR', 'num2words.lang_UK', 'num2words.lang_VI', 'num2words.num2words', 'num2words.unicode_literals', 'num2words.utils']"
      ]
     },
     "execution_count": 4,
     "metadata": {},
     "output_type": "execute_result"
    }
   ],
   "source": [
    "\n",
    "import num2words\n",
    "\n",
    "[f'num2words.{fn}' for fn in dir(num2words) if not fn.startswith('_')]"
   ]
  },
  {
   "cell_type": "code",
   "execution_count": 8,
   "id": "2b83e551-2786-4c7f-b842-4457606bdd97",
   "metadata": {},
   "outputs": [
    {
     "data": {
      "text/plain": [
       "['Num2Word_EN_obj.CURRENCY_ADJECTIVES', 'Num2Word_EN_obj.CURRENCY_FORMS', 'Num2Word_EN_obj.GIGA_SUFFIX', 'Num2Word_EN_obj.MAXVAL', 'Num2Word_EN_obj.MEGA_SUFFIX', 'Num2Word_EN_obj.cards', 'Num2Word_EN_obj.clean', 'Num2Word_EN_obj.errmsg_floatord', 'Num2Word_EN_obj.errmsg_negord', 'Num2Word_EN_obj.errmsg_nonnum', 'Num2Word_EN_obj.errmsg_toobig', 'Num2Word_EN_obj.exclude_title', 'Num2Word_EN_obj.float2tuple', 'Num2Word_EN_obj.gen_high_numwords', 'Num2Word_EN_obj.high_numwords', 'Num2Word_EN_obj.inflect', 'Num2Word_EN_obj.is_title', 'Num2Word_EN_obj.low_numwords', 'Num2Word_EN_obj.merge', 'Num2Word_EN_obj.mid_numwords', 'Num2Word_EN_obj.negword', 'Num2Word_EN_obj.ords', 'Num2Word_EN_obj.parse_minus', 'Num2Word_EN_obj.pluralize', 'Num2Word_EN_obj.pointword', 'Num2Word_EN_obj.precision', 'Num2Word_EN_obj.set_high_numwords', 'Num2Word_EN_obj.set_low_numwords', 'Num2Word_EN_obj.set_mid_numwords', 'Num2Word_EN_obj.set_numwords', 'Num2Word_EN_obj.setup', 'Num2Word_EN_obj.splitnum', 'Num2Word_EN_obj.str_to_number', 'Num2Word_EN_obj.title', 'Num2Word_EN_obj.to_cardinal', 'Num2Word_EN_obj.to_cardinal_float', 'Num2Word_EN_obj.to_currency', 'Num2Word_EN_obj.to_ordinal', 'Num2Word_EN_obj.to_ordinal_num', 'Num2Word_EN_obj.to_splitnum', 'Num2Word_EN_obj.to_year', 'Num2Word_EN_obj.verify_ordinal']"
      ]
     },
     "execution_count": 8,
     "metadata": {},
     "output_type": "execute_result"
    }
   ],
   "source": [
    "\n",
    "Num2Word_EN_obj = num2words.CONVERTER_CLASSES['en']\n",
    "[f'Num2Word_EN_obj.{fn}' for fn in dir(Num2Word_EN_obj) if not fn.startswith('_')]"
   ]
  },
  {
   "cell_type": "code",
   "execution_count": 9,
   "id": "95d6e4c2-12e4-47ef-94ff-6d5bc8ccef65",
   "metadata": {},
   "outputs": [
    {
     "data": {
      "text/plain": [
       "['cardinal', 'ordinal', 'ordinal_num', 'year', 'currency']"
      ]
     },
     "execution_count": 9,
     "metadata": {},
     "output_type": "execute_result"
    }
   ],
   "source": [
    "\n",
    "num2words.CONVERTES_TYPES"
   ]
  },
  {
   "cell_type": "code",
   "execution_count": 23,
   "id": "fce819d8-8ce9-48e2-8b1c-fa856baefa5c",
   "metadata": {},
   "outputs": [
    {
     "name": "stdout",
     "output_type": "stream",
     "text": [
      "\n",
      "  <path\n",
      "     id=\"sunday-ninth-path\"\n",
      "     class=\"stroke-style line-style\"\n",
      "     d=\"m -203.39999,-26 h 16.5\" />\n",
      "  <path\n",
      "     id=\"sunday-tenth-path\"\n",
      "     class=\"stroke-style line-style\"\n",
      "     d=\"m -203.39999,-22 h 16.5\" />\n",
      "  <path\n",
      "     id=\"sunday-eleventh-path\"\n",
      "     class=\"stroke-style line-style\"\n",
      "     d=\"m -203.39999,-18 h 16.5\" />\n"
     ]
    }
   ],
   "source": [
    "\n",
    "from num2words import num2words\n",
    "\n",
    "y = -26\n",
    "ordinal = 8\n",
    "print()\n",
    "while y < -16:\n",
    "    ordinal += 1\n",
    "    print(f'''  <path\n",
    "     id=\"sunday-{num2words(ordinal, to='ordinal')}-path\"\n",
    "     class=\"stroke-style line-style\"\n",
    "     d=\"m -203.39999,{y} h 16.5\" />''')\n",
    "    y += 4"
   ]
  },
  {
   "cell_type": "code",
   "execution_count": null,
   "id": "a98ce5a0-66ff-408e-a3ac-f0d31232b2dc",
   "metadata": {},
   "outputs": [],
   "source": []
  }
 ],
 "metadata": {
  "kernelspec": {
   "display_name": "Python 3",
   "language": "python",
   "name": "python3"
  },
  "language_info": {
   "codemirror_mode": {
    "name": "ipython",
    "version": 3
   },
   "file_extension": ".py",
   "mimetype": "text/x-python",
   "name": "python",
   "nbconvert_exporter": "python",
   "pygments_lexer": "ipython3",
   "version": "3.8.10"
  }
 },
 "nbformat": 4,
 "nbformat_minor": 5
}
