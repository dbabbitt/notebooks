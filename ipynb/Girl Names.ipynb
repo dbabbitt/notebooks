{
 "cells": [
  {
   "cell_type": "code",
   "execution_count": 10,
   "id": "7c502962-bdd5-4414-8bde-dc49ae725c91",
   "metadata": {},
   "outputs": [
    {
     "name": "stdout",
     "output_type": "stream",
     "text": [
      "['In', 'Out', 'SequenceMatcher', 'Storage', 'check_4_doubles', 'check_for_typos', 'conjunctify_nouns', 'csv', 'encoding', 'exit', 'f', 'file_path', 'get_ipython', 'names_list', 'os', 'pd', 'pickle', 'quit', 's', 'similar', 'sys', 'time', 'txt_dir', 'txt_str']\n"
     ]
    }
   ],
   "source": [
    "\n",
    "%run ../load_magic/storage.py\n",
    "%run ../load_magic/lists.py\n",
    "\n",
    "s = Storage()\n",
    "# print([fn for fn in dir(s) if not fn.startswith('_')])\n",
    "txt_dir = os.path.join(s.data_folder, 'txt')\n",
    "file_path = os.path.join(txt_dir, 'female_first_names.txt')\n",
    "with open(file_path, 'r', encoding=s.encoding_type) as f:\n",
    "    txt_str = f.read()\n",
    "names_list = txt_str.split('\\n\\n')[1].split('\\n')\n",
    "print([fn for fn in dir() if not fn.startswith('_')])"
   ]
  },
  {
   "cell_type": "code",
   "execution_count": 13,
   "id": "8e07e4c6-8a0d-466d-90d3-6faae6e50297",
   "metadata": {},
   "outputs": [
    {
     "name": "stdout",
     "output_type": "stream",
     "text": [
      "Becca, Becka, Belia, Bella, Belva, Berna, Berta, Betta, Celia, Cesya, Deana, Debra, Dedra, Deena, Deina, Delia, Della, Denna, Geeta, Gelya, Genia, Genna, Gerda, Gerta, Hedda, Heida, Helga, Helsa, Henka, Herta, Jeana, Jenda, Jenna, Jessa, Kenna, Leela, Leena, Leesa, Legra, Leila, Lelia, Lenka, Lenna, Leola, Leona, Leora, Lesya, Letta, Leyla, Meara, Meira, Melba, Mella, Melva, Merla, Merna, Neala, Nedda, Neila, Nelia, Nerta, Nessa, Nesta, Netta, Nevsa, Neysa, Peria, Perla, Petra, Reeba, Reena, Reeta, Reeva, Reina, Retha, Reyna, Seana, Selia, Sella, Selma, Tedda, Tedra, Teena, Tella, Terra, Terza, Tessa, Velma, Verla, Verna, Wenda, Xenia, Yetta, Zelda, Zelma, and Zenia\n"
     ]
    }
   ],
   "source": [
    "\n",
    "# girl names be like ‘_ e _ _ a’\n",
    "be_like_list = []\n",
    "for name_txt in sorted(names_list):\n",
    "    if (len(name_txt) == len('_e__a')) and (name_txt[1] == 'e') and (name_txt[-1] == 'a'):\n",
    "        be_like_list.append(name_txt)\n",
    "print(conjunctify_nouns(be_like_list))"
   ]
  },
  {
   "cell_type": "code",
   "execution_count": null,
   "id": "edfac6f9-167e-49de-80d2-c4fef3b5177b",
   "metadata": {},
   "outputs": [],
   "source": []
  }
 ],
 "metadata": {
  "kernelspec": {
   "display_name": "RPC (Python 3.8.6)",
   "language": "python",
   "name": "rpc_env"
  },
  "language_info": {
   "codemirror_mode": {
    "name": "ipython",
    "version": 3
   },
   "file_extension": ".py",
   "mimetype": "text/x-python",
   "name": "python",
   "nbconvert_exporter": "python",
   "pygments_lexer": "ipython3",
   "version": "3.8.6"
  }
 },
 "nbformat": 4,
 "nbformat_minor": 5
}
