{
 "cells": [
  {
   "cell_type": "code",
   "execution_count": null,
   "metadata": {},
   "outputs": [],
   "source": []
  },
  {
   "cell_type": "code",
   "execution_count": 12,
   "metadata": {},
   "outputs": [],
   "source": [
    "\n",
    "import random\n",
    "\n",
    "words_list = ['apothecary', 'barter', 'blacksmith', 'cobbler', 'colonial days', 'colonist', 'colony', 'cooper', 'hornbook', 'joiner', 'maple syrup', 'schoolmaster',\n",
    "              'silversmith', 'whitesmith', 'New England Primer']"
   ]
  },
  {
   "cell_type": "code",
   "execution_count": 13,
   "metadata": {},
   "outputs": [
    {
     "name": "stdout",
     "output_type": "stream",
     "text": [
      "New England Primer\n",
      "apothecary\n",
      "barter\n",
      "blacksmith\n",
      "cobbler\n",
      "colonial days\n",
      "colonist\n",
      "colony\n",
      "cooper\n",
      "hornbook\n",
      "joiner\n",
      "maple syrup\n",
      "schoolmaster\n",
      "silversmith\n",
      "whitesmith\n"
     ]
    }
   ],
   "source": [
    "\n",
    "blanks_list = ['A ______ is a land that is ruled by another country.', 'A person who lived in the American colonies under the rule of the English was called a ________.',\n",
    "               'The years that England ruled the thirteen colonies in America are called ________ ____.',\n",
    "               \"A ___________'s shop might remind you of a jewelry store.\", 'With a heavy hammer, the __________ pounds the hot iron into horseshoes.',\n",
    "               'The ______, or cabinetmaker, makes beautiful desks and chairs by hand.', 'The ______ makes and mends shoes.',\n",
    "               \"At the __________'s shop, you could buy things, like cups, made of tin.\", 'You could buy barrels for storing fish or molasses from the ______.',\n",
    "               \"The __________'s shop sold mixtures of spices and herbs for medicines, like a pharmacy.\",\n",
    "               'A colonist without money could ______ or trade for something he wanted to buy.', 'Because sugar was expensive, colonists used _____ _____ instead.',\n",
    "               'In most colonial schoolhouses, a man called the ____________ was the teacher.',\n",
    "               'A special book-like device – a piece of paper on a piece of wood covered with a thin sheet of animal horn – was called a ________.',\n",
    "               'The most popular schoolbook – the ___ _______ ______ – taught the alphabet using Bible rhymes.']\n",
    "for term in sorted(words_list):\n",
    "    print(term)"
   ]
  },
  {
   "cell_type": "code",
   "execution_count": 15,
   "metadata": {},
   "outputs": [
    {
     "name": "stdout",
     "output_type": "stream",
     "text": [
      "With a heavy hammer, the __________ pounds the hot iron into horseshoes.\n",
      "A person who lived in the American colonies under the rule of the English was called a ________.\n",
      "The years that England ruled the thirteen colonies in America are called ________ ____.\n",
      "The ______ makes and mends shoes.\n",
      "The most popular schoolbook – the ___ _______ ______ – taught the alphabet using Bible rhymes.\n",
      "A colonist without money could ______ or trade for something he wanted to buy.\n",
      "A ___________'s shop might remind you of a jewelry store.\n",
      "At the __________'s shop, you could buy things, like cups, made of tin.\n",
      "A special book-like device – a piece of paper on a piece of wood covered with a thin sheet of animal horn – was called a ________.\n",
      "You could buy barrels for storing fish or molasses from the ______.\n",
      "The __________'s shop sold mixtures of spices and herbs for medicines, like a pharmacy.\n",
      "In most colonial schoolhouses, a man called the ____________ was the teacher.\n",
      "The ______, or cabinetmaker, makes beautiful desks and chairs by hand.\n",
      "Because sugar was expensive, colonists used _____ _____ instead.\n",
      "A ______ is a land that is ruled by another country.\n"
     ]
    }
   ],
   "source": [
    "\n",
    "random.shuffle(blanks_list)\n",
    "for term in blanks_list:\n",
    "    print(term)"
   ]
  },
  {
   "cell_type": "code",
   "execution_count": null,
   "metadata": {},
   "outputs": [],
   "source": []
  }
 ],
 "metadata": {
  "kernelspec": {
   "display_name": "Python 3 (ipykernel)",
   "language": "python",
   "name": "python3"
  },
  "language_info": {
   "codemirror_mode": {
    "name": "ipython",
    "version": 3
   },
   "file_extension": ".py",
   "mimetype": "text/x-python",
   "name": "python",
   "nbconvert_exporter": "python",
   "pygments_lexer": "ipython3",
   "version": "3.9.7"
  }
 },
 "nbformat": 4,
 "nbformat_minor": 4
}
