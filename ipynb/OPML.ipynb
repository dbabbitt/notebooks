{
 "cells": [
  {
   "cell_type": "code",
   "execution_count": null,
   "metadata": {},
   "outputs": [],
   "source": []
  },
  {
   "cell_type": "code",
   "execution_count": 2,
   "metadata": {},
   "outputs": [
    {
     "name": "stdout",
     "output_type": "stream",
     "text": [
      "/opt/conda/bin/python -m pip install --upgrade opml\n",
      "Collecting opml\n",
      "  Downloading opml-0.5.tar.gz (4.9 kB)\n",
      "Requirement already satisfied, skipping upgrade: setuptools in /opt/conda/lib/python3.7/site-packages (from opml) (47.3.1.post20200616)\n",
      "Collecting lxml\n",
      "  Downloading lxml-4.5.1-cp37-cp37m-manylinux1_x86_64.whl (5.5 MB)\n",
      "\u001b[K     |████████████████████████████████| 5.5 MB 2.6 MB/s eta 0:00:01\n",
      "\u001b[?25hBuilding wheels for collected packages: opml\n",
      "  Building wheel for opml (setup.py) ... \u001b[?25ldone\n",
      "\u001b[?25h  Created wheel for opml: filename=opml-0.5-py3-none-any.whl size=3630 sha256=ec8d1c53ca632d6ae13ee89da2e975aee89a806765de06fc80c944aa8153a5ba\n",
      "  Stored in directory: /home/jovyan/.cache/pip/wheels/4f/03/39/0af4ed154121308f63ae1be1d51a3042cdccfcfdac7588b350\n",
      "Successfully built opml\n",
      "Installing collected packages: lxml, opml\n",
      "Successfully installed lxml-4.5.1 opml-0.5\n"
     ]
    }
   ],
   "source": [
    "\n",
    "import sys\n",
    "\n",
    "command_str = '{sys.executable} -m pip install --upgrade opml'.format(sys=sys)\n",
    "print(command_str)\n",
    "!{command_str}"
   ]
  },
  {
   "cell_type": "code",
   "execution_count": 3,
   "metadata": {},
   "outputs": [
    {
     "name": "stdout",
     "output_type": "stream",
     "text": [
      "['opml.Opml', 'opml.OutlineElement', 'opml.from_string', 'opml.lxml', 'opml.parse']\n"
     ]
    }
   ],
   "source": [
    "\n",
    "import opml\n",
    "\n",
    "print(['opml.{}'.format(fn) for fn in dir(opml) if not fn.startswith('_')])"
   ]
  },
  {
   "cell_type": "code",
   "execution_count": 10,
   "metadata": {},
   "outputs": [
    {
     "name": "stdout",
     "output_type": "stream",
     "text": [
      "[]\n"
     ]
    }
   ],
   "source": [
    "\n",
    "networth_opml = opml.parse('../data/opml/Net_Worth_by_Date.opml')\n",
    "print(['networth_opml.{}'.format(fn) for fn in dir(networth_opml) if not fn.startswith('_')])"
   ]
  },
  {
   "cell_type": "code",
   "execution_count": 32,
   "metadata": {},
   "outputs": [
    {
     "data": {
      "image/png": "[encoded data removed]",
      "text/plain": [
       "<Figure size 432x288 with 1 Axes>"
      ]
     },
     "metadata": {
      "needs_background": "light"
     },
     "output_type": "display_data"
    }
   ],
   "source": [
    "\n",
    "from datetime import datetime\n",
    "import re\n",
    "import pandas as pd\n",
    "\n",
    "format_str = '%A, %B %d, %Y'\n",
    "rows_list = []\n",
    "for el in networth_opml:\n",
    "    row_dict = {}\n",
    "    date_str = el.text\n",
    "    networth_datetime = datetime.strptime(date_str, format_str)\n",
    "    row_dict['networth_datetime'] = networth_datetime\n",
    "    dollar_str = el._note\n",
    "    dollar_amount = float(re.sub('[$,]+', '', dollar_str))\n",
    "    row_dict['dollar_amount'] = dollar_amount\n",
    "    rows_list.append(row_dict.copy())\n",
    "networth_df = pd.DataFrame(rows_list)\n",
    "networth_df.plot.line(x='networth_datetime', y='dollar_amount');"
   ]
  },
  {
   "cell_type": "code",
   "execution_count": null,
   "metadata": {},
   "outputs": [],
   "source": []
  }
 ],
 "metadata": {
  "kernelspec": {
   "display_name": "Python 3",
   "language": "python",
   "name": "python3"
  },
  "language_info": {
   "codemirror_mode": {
    "name": "ipython",
    "version": 3
   },
   "file_extension": ".py",
   "mimetype": "text/x-python",
   "name": "python",
   "nbconvert_exporter": "python",
   "pygments_lexer": "ipython3",
   "version": "3.7.6"
  }
 },
 "nbformat": 4,
 "nbformat_minor": 4
}
