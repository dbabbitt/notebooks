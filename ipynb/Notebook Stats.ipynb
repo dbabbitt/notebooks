{
 "cells": [
  {
   "cell_type": "code",
   "execution_count": 9,
   "metadata": {
    "collapsed": false
   },
   "outputs": [],
   "source": [
    "\n",
    "!findstr /s /N cell_type \"C:\\Users\\Dave\\Documents\\Jupyter Notebooks\\*.ipynb\" > \"C:\\Users\\Dave\\Documents\\Jupyter Notebooks\\Miscellaneous\\cell_type.txt\" 2>&1"
   ]
  },
  {
   "cell_type": "code",
   "execution_count": 4,
   "metadata": {
    "collapsed": false
   },
   "outputs": [
    {
     "name": "stdout",
     "output_type": "stream",
     "text": [
      "Searches for strings in files.\n",
      "\n",
      "FINDSTR [/B] [/E] [/L] [/R] [/S] [/I] [/X] [/V] [/N] [/M] [/O] [/P] [/F:file]\n",
      "        [/C:string] [/G:file] [/D:dir list] [/A:color attributes] [/OFF[LINE]]\n",
      "        strings [[drive:][path]filename[ ...]]\n",
      "\n",
      "  /B         Matches pattern if at the beginning of a line.\n",
      "  /E         Matches pattern if at the end of a line.\n",
      "  /L         Uses search strings literally.\n",
      "  /R         Uses search strings as regular expressions.\n",
      "  /S         Searches for matching files in the current directory and all\n",
      "             subdirectories.\n",
      "  /I         Specifies that the search is not to be case-sensitive.\n",
      "  /X         Prints lines that match exactly.\n",
      "  /V         Prints only lines that do not contain a match.\n",
      "  /N         Prints the line number before each line that matches.\n",
      "  /M         Prints only the filename if a file contains a match.\n",
      "  /O         Prints character offset before each matching line.\n",
      "  /P         Skip files with non-printable characters.\n",
      "  /OFF[LINE] Do not skip files with offline attribute set.\n",
      "  /A:attr    Specifies color attribute with two hex digits. See \"color /?\"\n",
      "  /F:file    Reads file list from the specified file(/ stands for console).\n",
      "  /C:string  Uses specified string as a literal search string.\n",
      "  /G:file    Gets search strings from the specified file(/ stands for console).\n",
      "  /D:dir     Search a semicolon delimited list of directories\n",
      "  strings    Text to be searched for.\n",
      "  [drive:][path]filename\n",
      "             Specifies a file or files to search.\n",
      "\n",
      "Use spaces to separate multiple search strings unless the argument is prefixed\n",
      "with /C.  For example, 'FINDSTR \"hello there\" x.y' searches for \"hello\" or\n",
      "\"there\" in file x.y.  'FINDSTR /C:\"hello there\" x.y' searches for\n",
      "\"hello there\" in file x.y.\n",
      "\n",
      "Regular expression quick reference:\n",
      "  .        Wildcard: any character\n",
      "  *        Repeat: zero or more occurrences of previous character or class\n",
      "  ^        Line position: beginning of line\n",
      "  $        Line position: end of line\n",
      "  [class]  Character class: any one character in set\n",
      "  [^class] Inverse class: any one character not in set\n",
      "  [x-y]    Range: any characters within the specified range\n",
      "  \\x       Escape: literal use of metacharacter x\n",
      "  \\<xyz    Word position: beginning of word\n",
      "  xyz\\>    Word position: end of word\n",
      "\n",
      "For full information on FINDSTR regular expressions refer to the online Command\n",
      "Reference.\n"
     ]
    }
   ],
   "source": [
    "\n",
    "!findstr /?"
   ]
  },
  {
   "cell_type": "code",
   "execution_count": 8,
   "metadata": {
    "collapsed": false
   },
   "outputs": [
    {
     "name": "stdout",
     "output_type": "stream",
     "text": [
      "C:\\Users\\Dave\\Documents\\Jupyter Notebooks\\Miscellaneous\n"
     ]
    }
   ],
   "source": [
    "\n",
    "!cd"
   ]
  },
  {
   "cell_type": "code",
   "execution_count": null,
   "metadata": {
    "collapsed": true
   },
   "outputs": [],
   "source": []
  }
 ],
 "metadata": {
  "anaconda-cloud": {},
  "kernelspec": {
   "display_name": "Python 3",
   "language": "python",
   "name": "python3"
  },
  "language_info": {
   "codemirror_mode": {
    "name": "ipython",
    "version": 3
   },
   "file_extension": ".py",
   "mimetype": "text/x-python",
   "name": "python",
   "nbconvert_exporter": "python",
   "pygments_lexer": "ipython3",
   "version": "3.5.2"
  }
 },
 "nbformat": 4,
 "nbformat_minor": 2
}
