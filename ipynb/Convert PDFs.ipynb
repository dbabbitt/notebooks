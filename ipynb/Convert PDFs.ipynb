{
 "cells": [
  {
   "cell_type": "code",
   "execution_count": 4,
   "metadata": {},
   "outputs": [
    {
     "name": "stdout",
     "output_type": "stream",
     "text": [
      "C:\\Users\\577342\\AppData\\Local\\Continuum\\anaconda3\\python.exe -m pip install --upgrade pdfminer\n",
      "Requirement already up-to-date: pdfminer in c:\\users\\577342\\appdata\\local\\continuum\\anaconda3\\lib\\site-packages (20191125)\n",
      "Requirement already satisfied, skipping upgrade: pycryptodome in c:\\users\\577342\\appdata\\local\\continuum\\anaconda3\\lib\\site-packages (from pdfminer) (3.9.7)\n"
     ]
    }
   ],
   "source": [
    "\n",
    "import sys\n",
    "\n",
    "command_str = '{sys.executable} -m pip install --upgrade pdfminer'.format(sys=sys)\n",
    "print(command_str)\n",
    "!{command_str}"
   ]
  },
  {
   "cell_type": "code",
   "execution_count": 5,
   "metadata": {},
   "outputs": [
    {
     "name": "stdout",
     "output_type": "stream",
     "text": [
      "Pretty printing has been turned OFF\n",
      "D:\\Documents\\Repositories\\notebooks\\Miscellaneous\\ipynb\\Convert PDFs.ipynb\n",
      "['s.attempt_to_pickle', 's.data_csv_folder', 's.data_folder', 's.encoding_type', 's.load_csv', 's.load_dataframes', 's.load_object', 's.save_dataframes', 's.saves_csv_folder', 's.saves_folder', 's.saves_pickle_folder', 's.store_objects']\n"
     ]
    },
    {
     "data": {
      "text/plain": [
       "['Config', 'HTMLConverter', 'In', 'LAParams', 'Out', 'PDFPage', 'PDFPageInterpreter', 'PDFResourceManager', 'RandomForestClassifier', 'SequenceMatcher', 'Storage', 'TextConverter', 'XMLConverter', '_', '__', '___', '__builtin__', '__builtins__', '__doc__', '__loader__', '__name__', '__nonzero__', '__package__', '__spec__', '_dh', '_exit_code', '_i', '_i1', '_i2', '_i3', '_i4', '_i5', '_ih', '_ii', '_iii', '_oh', 'check_4_doubles', 'check_for_typos', 'command_str', 'conjunctify_list', 'convert_pdf_folder_to_txt', 'copyfile', 'csv', 'encoding', 'exit', 'get_classifier', 'get_data_structs_dataframe', 'get_datastructure_prediction', 'get_dir_tree', 'get_git_lfs_track_commands', 'get_importances', 'get_input_sample', 'get_ipython', 'get_module_version', 'get_notebook_path', 'get_specific_gitignore_files', 'get_struct_name', 'humanize_bytes', 'io', 'ipykernel', 'json', 'jupyter_config_dir', 'notebook_path', 'notebookapp', 'os', 'pd', 'pickle', 'preprocess_data', 'print_all_files_ending_starting_with', 'print_all_files_ending_with', 'print_all_files_starting_with', 'quit', 're', 'remove_empty_folders', 's', 'similar', 'subprocess', 'sys', 'time', 'unicodedata', 'urllib']"
      ]
     },
     "execution_count": 5,
     "metadata": {},
     "output_type": "execute_result"
    }
   ],
   "source": [
    "# %load ../../load_magic/pdfs.py\n",
    "\n",
    "#!/usr/bin/env python\n",
    "# Utility Functions to convert PDFs.\n",
    "# Dave Babbitt <dave.babbitt@gmail.com>\n",
    "# Author: Dave Babbitt, Data Scientist\n",
    "# coding: utf-8\n",
    "\"\"\"\n",
    "A set of utility functions specific to convert PDFs %load ../../load_magic/pdfs.py only\n",
    "\"\"\"\n",
    "from pdfminer.converter import XMLConverter, HTMLConverter, TextConverter\n",
    "from pdfminer.layout import LAParams\n",
    "from pdfminer.pdfinterp import PDFResourceManager, PDFPageInterpreter\n",
    "from pdfminer.pdfpage import PDFPage\n",
    "import io\n",
    "import os\n",
    "import unicodedata\n",
    "%run ../../load_magic/storage.py\n",
    "%run ../../load_magic/paths.py\n",
    "%run ../../load_magic/lists.py\n",
    "%run ../../load_magic/environment.py\n",
    "%pprint\n",
    "notebook_path = get_notebook_path()\n",
    "print(notebook_path)\n",
    "s = Storage()\n",
    "print(['s.{}'.format(fn) for fn in dir(s) if not fn.startswith('_')])\n",
    " \n",
    "def convert_pdf_folder_to_txt(pdf_folder, txt_folder=None):\n",
    "    text_editor_path = r'C:\\Program Files\\Notepad++\\notepad++.exe'\n",
    "    for file_name in os.listdir(pdf_folder):\n",
    "        if file_name.endswith('.pdf'):\n",
    "            txt_file_name = '{}.txt'.format('.'.join(file_name.split('.')[:-1]))\n",
    "            if txt_folder is None:\n",
    "                txt_file_path = os.path.join(pdf_folder, txt_file_name)\n",
    "            else:\n",
    "                txt_file_path = os.path.join(txt_folder, txt_file_name)\n",
    "            if not os.path.isfile(txt_file_path):\n",
    "                data_str = ''\n",
    "                pdf_file_path = os.path.join(pdf_folder, file_name)\n",
    "                rsrcmgr = PDFResourceManager()\n",
    "                retstr = io.StringIO()\n",
    "                laparams = LAParams()\n",
    "                device = TextConverter(rsrcmgr=rsrcmgr, outfp=retstr, pageno=1, laparams=laparams, showpageno=False, imagewriter=None)\n",
    " \n",
    "                # Create a PDF interpreter object.\n",
    "                interpreter = PDFPageInterpreter(rsrcmgr, device)\n",
    " \n",
    "                # Process each page contained in the document.\n",
    "                page_str_set = set()\n",
    "                with open(pdf_file_path, 'rb') as fp:\n",
    "                    for page in PDFPage.get_pages(fp):\n",
    "                        interpreter.process_page(page)\n",
    "                        page_str = retstr.getvalue().encode('ascii', 'ignore').decode(s.encoding_type)\n",
    "                        if page_str not in page_str_set:\n",
    "                            data_str += page_str\n",
    "                            page_str_set.add(page_str)\n",
    " \n",
    "                    control_chars = ''.join(map(chr, list(range(0, 10)) + list(range(11, 32)) + list(range(127, 160))))\n",
    "                    control_char_re = re.compile('[{}]'.format(re.escape(control_chars)))\n",
    "                    data_str = control_char_re.sub('', data_str)\n",
    "                    with open(txt_file_path, 'w') as f:\n",
    "                        print(data_str, file=f)\n",
    "                        !\"{text_editor_path}\" \"{txt_file_path}\"\n",
    "dir()"
   ]
  },
  {
   "cell_type": "code",
   "execution_count": 4,
   "metadata": {},
   "outputs": [],
   "source": [
    "\n",
    "pdf_folder = r'C:\\Users\\dev\\Downloads\\Packet_7-PDFDocuments'\n",
    "convert_pdf_folder_to_txt(pdf_folder=pdf_folder, txt_folder=None)"
   ]
  },
  {
   "cell_type": "code",
   "execution_count": 10,
   "metadata": {},
   "outputs": [],
   "source": [
    "\n",
    "%gui qt\n",
    "\n",
    "from PyQt5.QtWidgets import QFileDialog\n",
    "\n",
    "def gui_fname(dir=None):\n",
    "    \"\"\"Select a file via a dialog and return the file name.\"\"\"\n",
    "    if dir is None: dir ='./'\n",
    "    fname = QFileDialog.getOpenFileName(None, \"Select data file...\", \n",
    "                dir, filter=\"All files (*);; Python Files (*.py);; iPython Notebooks (*.ipynb)\")\n",
    "    return fname[0]"
   ]
  },
  {
   "cell_type": "code",
   "execution_count": 11,
   "metadata": {},
   "outputs": [
    {
     "data": {
      "text/plain": [
       "'C:/Users/dev/Documents/repositories/notebooks/Miscellaneous/ipynb/Convert PDFs.ipynb'"
      ]
     },
     "execution_count": 11,
     "metadata": {},
     "output_type": "execute_result"
    }
   ],
   "source": [
    "\n",
    "gui_fname()"
   ]
  },
  {
   "cell_type": "code",
   "execution_count": 39,
   "metadata": {},
   "outputs": [],
   "source": [
    "\n",
    "%gui qt\n",
    "\n",
    "from PyQt5.QtWidgets import QFileDialog\n",
    "\n",
    "def gui_dname(dir=None):\n",
    "    \"\"\"Select a file via a dialog and return the file name.\"\"\"\n",
    "    if dir is None: dir ='./'\n",
    "    fname = QFileDialog.getExistingDirectory(parent=None, caption=\"Select data folder...\",\n",
    "                                             directory=dir, options=QFileDialog.DirectoryOnly)\n",
    "    return fname[0]"
   ]
  },
  {
   "cell_type": "code",
   "execution_count": 40,
   "metadata": {},
   "outputs": [
    {
     "ename": "TypeError",
     "evalue": "getExistingDirectory(parent: QWidget = None, caption: str = '', directory: str = '', options: Union[QFileDialog.Options, QFileDialog.Option] = QFileDialog.ShowDirsOnly): argument 'options' has unexpected type 'FileMode'",
     "output_type": "error",
     "traceback": [
      "\u001b[1;31m---------------------------------------------------------------------------\u001b[0m",
      "\u001b[1;31mTypeError\u001b[0m                                 Traceback (most recent call last)",
      "\u001b[1;32m<ipython-input-40-1031a1102f28>\u001b[0m in \u001b[0;36m<module>\u001b[1;34m\u001b[0m\n\u001b[0;32m      1\u001b[0m \u001b[1;33m\u001b[0m\u001b[0m\n\u001b[1;32m----> 2\u001b[1;33m \u001b[0mgui_dname\u001b[0m\u001b[1;33m(\u001b[0m\u001b[0mos\u001b[0m\u001b[1;33m.\u001b[0m\u001b[0mpath\u001b[0m\u001b[1;33m.\u001b[0m\u001b[0mabspath\u001b[0m\u001b[1;33m(\u001b[0m\u001b[0mos\u001b[0m\u001b[1;33m.\u001b[0m\u001b[0mpath\u001b[0m\u001b[1;33m.\u001b[0m\u001b[0mjoin\u001b[0m\u001b[1;33m(\u001b[0m\u001b[1;34m'../'\u001b[0m\u001b[1;33m,\u001b[0m \u001b[0mgui_fname\u001b[0m\u001b[1;33m(\u001b[0m\u001b[1;33m)\u001b[0m\u001b[1;33m)\u001b[0m\u001b[1;33m)\u001b[0m\u001b[1;33m)\u001b[0m\u001b[1;33m\u001b[0m\u001b[1;33m\u001b[0m\u001b[0m\n\u001b[0m",
      "\u001b[1;32m<ipython-input-39-448dba03f46f>\u001b[0m in \u001b[0;36mgui_dname\u001b[1;34m(dir)\u001b[0m\n\u001b[0;32m      8\u001b[0m     \u001b[1;32mif\u001b[0m \u001b[0mdir\u001b[0m \u001b[1;32mis\u001b[0m \u001b[1;32mNone\u001b[0m\u001b[1;33m:\u001b[0m \u001b[0mdir\u001b[0m \u001b[1;33m=\u001b[0m\u001b[1;34m'./'\u001b[0m\u001b[1;33m\u001b[0m\u001b[1;33m\u001b[0m\u001b[0m\n\u001b[0;32m      9\u001b[0m     fname = QFileDialog.getExistingDirectory(parent=None, caption=\"Select data folder...\",\n\u001b[1;32m---> 10\u001b[1;33m                                              directory=dir, options=QFileDialog.DirectoryOnly)\n\u001b[0m\u001b[0;32m     11\u001b[0m     \u001b[1;32mreturn\u001b[0m \u001b[0mfname\u001b[0m\u001b[1;33m[\u001b[0m\u001b[1;36m0\u001b[0m\u001b[1;33m]\u001b[0m\u001b[1;33m\u001b[0m\u001b[1;33m\u001b[0m\u001b[0m\n",
      "\u001b[1;31mTypeError\u001b[0m: getExistingDirectory(parent: QWidget = None, caption: str = '', directory: str = '', options: Union[QFileDialog.Options, QFileDialog.Option] = QFileDialog.ShowDirsOnly): argument 'options' has unexpected type 'FileMode'"
     ]
    }
   ],
   "source": [
    "\n",
    "gui_dname(os.path.abspath(os.path.join('../', gui_fname())))"
   ]
  },
  {
   "cell_type": "code",
   "execution_count": 42,
   "metadata": {},
   "outputs": [
    {
     "name": "stdout",
     "output_type": "stream",
     "text": [
      "['QFileDialog.Option.__abs__', 'QFileDialog.Option.__add__', 'QFileDialog.Option.__and__', 'QFileDialog.Option.__bool__', 'QFileDialog.Option.__ceil__', 'QFileDialog.Option.__class__', 'QFileDialog.Option.__delattr__', 'QFileDialog.Option.__dict__', 'QFileDialog.Option.__dir__', 'QFileDialog.Option.__divmod__', 'QFileDialog.Option.__doc__', 'QFileDialog.Option.__eq__', 'QFileDialog.Option.__float__', 'QFileDialog.Option.__floor__', 'QFileDialog.Option.__floordiv__', 'QFileDialog.Option.__format__', 'QFileDialog.Option.__ge__', 'QFileDialog.Option.__getattribute__', 'QFileDialog.Option.__getnewargs__', 'QFileDialog.Option.__gt__', 'QFileDialog.Option.__hash__', 'QFileDialog.Option.__index__', 'QFileDialog.Option.__init__', 'QFileDialog.Option.__init_subclass__', 'QFileDialog.Option.__int__', 'QFileDialog.Option.__invert__', 'QFileDialog.Option.__le__', 'QFileDialog.Option.__lshift__', 'QFileDialog.Option.__lt__', 'QFileDialog.Option.__mod__', 'QFileDialog.Option.__module__', 'QFileDialog.Option.__mul__', 'QFileDialog.Option.__ne__', 'QFileDialog.Option.__neg__', 'QFileDialog.Option.__new__', 'QFileDialog.Option.__or__', 'QFileDialog.Option.__pos__', 'QFileDialog.Option.__pow__', 'QFileDialog.Option.__radd__', 'QFileDialog.Option.__rand__', 'QFileDialog.Option.__rdivmod__', 'QFileDialog.Option.__reduce__', 'QFileDialog.Option.__reduce_ex__', 'QFileDialog.Option.__repr__', 'QFileDialog.Option.__rfloordiv__', 'QFileDialog.Option.__rlshift__', 'QFileDialog.Option.__rmod__', 'QFileDialog.Option.__rmul__', 'QFileDialog.Option.__ror__', 'QFileDialog.Option.__round__', 'QFileDialog.Option.__rpow__', 'QFileDialog.Option.__rrshift__', 'QFileDialog.Option.__rshift__', 'QFileDialog.Option.__rsub__', 'QFileDialog.Option.__rtruediv__', 'QFileDialog.Option.__rxor__', 'QFileDialog.Option.__setattr__', 'QFileDialog.Option.__sizeof__', 'QFileDialog.Option.__str__', 'QFileDialog.Option.__sub__', 'QFileDialog.Option.__subclasshook__', 'QFileDialog.Option.__truediv__', 'QFileDialog.Option.__trunc__', 'QFileDialog.Option.__xor__', 'QFileDialog.Option.bit_length', 'QFileDialog.Option.conjugate', 'QFileDialog.Option.denominator', 'QFileDialog.Option.from_bytes', 'QFileDialog.Option.imag', 'QFileDialog.Option.numerator', 'QFileDialog.Option.real', 'QFileDialog.Option.to_bytes']\n"
     ]
    }
   ],
   "source": [
    "\n",
    "print(['QFileDialog.Option.{}'.format(fn) for fn in dir(QFileDialog.Option)])"
   ]
  },
  {
   "cell_type": "code",
   "execution_count": 26,
   "metadata": {},
   "outputs": [
    {
     "data": {
      "text/plain": [
       "\u001b[1;31mDocstring:\u001b[0m getExistingDirectory(parent: QWidget = None, caption: str = '', directory: str = '', options: Union[QFileDialog.Options, QFileDialog.Option] = QFileDialog.ShowDirsOnly) -> str\n",
       "\u001b[1;31mType:\u001b[0m      builtin_function_or_method\n"
      ]
     },
     "metadata": {},
     "output_type": "display_data"
    }
   ],
   "source": [
    "\n",
    "QFileDialog.getExistingDirectory?"
   ]
  },
  {
   "cell_type": "code",
   "execution_count": 28,
   "metadata": {},
   "outputs": [
    {
     "data": {
      "text/plain": [
       "\u001b[1;31mInit signature:\u001b[0m \u001b[0mQFileDialog\u001b[0m\u001b[1;33m.\u001b[0m\u001b[0mOptions\u001b[0m\u001b[1;33m(\u001b[0m\u001b[0mself\u001b[0m\u001b[1;33m,\u001b[0m \u001b[1;33m/\u001b[0m\u001b[1;33m,\u001b[0m \u001b[1;33m*\u001b[0m\u001b[0margs\u001b[0m\u001b[1;33m,\u001b[0m \u001b[1;33m**\u001b[0m\u001b[0mkwargs\u001b[0m\u001b[1;33m)\u001b[0m\u001b[1;33m\u001b[0m\u001b[1;33m\u001b[0m\u001b[0m\n",
       "\u001b[1;31mDocstring:\u001b[0m     \n",
       "QFileDialog.Options()\n",
       "QFileDialog.Options(Union[QFileDialog.Options, QFileDialog.Option])\n",
       "QFileDialog.Options(QFileDialog.Options)\n",
       "\u001b[1;31mFile:\u001b[0m           c:\\users\\dev\\anaconda3\\lib\\site-packages\\pyqt5\\qtwidgets.pyd\n",
       "\u001b[1;31mType:\u001b[0m           wrappertype\n",
       "\u001b[1;31mSubclasses:\u001b[0m     \n"
      ]
     },
     "metadata": {},
     "output_type": "display_data"
    }
   ],
   "source": [
    "\n",
    "QFileDialog.Options?"
   ]
  },
  {
   "cell_type": "code",
   "execution_count": 14,
   "metadata": {},
   "outputs": [
    {
     "name": "stdout",
     "output_type": "stream",
     "text": [
      "['QFileDialog.getContentsMargins', 'QFileDialog.getExistingDirectory', 'QFileDialog.getExistingDirectoryUrl', 'QFileDialog.getOpenFileName', 'QFileDialog.getOpenFileNames', 'QFileDialog.getOpenFileUrl', 'QFileDialog.getOpenFileUrls', 'QFileDialog.getSaveFileName', 'QFileDialog.getSaveFileUrl']\n"
     ]
    }
   ],
   "source": [
    "\n",
    "print(['QFileDialog.{}'.format(fn) for fn in dir(QFileDialog) if fn.startswith('get')])"
   ]
  },
  {
   "cell_type": "code",
   "execution_count": 22,
   "metadata": {},
   "outputs": [
    {
     "name": "stdout",
     "output_type": "stream",
     "text": [
      "['QFileDialog.Directory', 'QFileDialog.DirectoryOnly', 'QFileDialog.DontUseCustomDirectoryIcons', 'QFileDialog.directory', 'QFileDialog.directoryEntered', 'QFileDialog.directoryUrl', 'QFileDialog.directoryUrlEntered', 'QFileDialog.getExistingDirectory', 'QFileDialog.getExistingDirectoryUrl', 'QFileDialog.setDirectory', 'QFileDialog.setDirectoryUrl']\n"
     ]
    }
   ],
   "source": [
    "\n",
    "print(['QFileDialog.{}'.format(fn) for fn in dir(QFileDialog) if 'directory' in fn.lower()])"
   ]
  },
  {
   "cell_type": "code",
   "execution_count": 20,
   "metadata": {},
   "outputs": [
    {
     "name": "stdout",
     "output_type": "stream",
     "text": [
      "['PyQt5.QtWidgets.QColorDialog', 'PyQt5.QtWidgets.QDialog', 'PyQt5.QtWidgets.QDialogButtonBox', 'PyQt5.QtWidgets.QFileDialog', 'PyQt5.QtWidgets.QFontDialog', 'PyQt5.QtWidgets.QInputDialog', 'PyQt5.QtWidgets.QProgressDialog']\n"
     ]
    }
   ],
   "source": [
    "\n",
    "import PyQt5.QtWidgets\n",
    "\n",
    "print(['PyQt5.QtWidgets.{}'.format(fn) for fn in dir(PyQt5.QtWidgets) if 'dialog' in fn.lower()])"
   ]
  },
  {
   "cell_type": "code",
   "execution_count": null,
   "metadata": {},
   "outputs": [],
   "source": []
  }
 ],
 "metadata": {
  "kernelspec": {
   "display_name": "Python 3",
   "language": "python",
   "name": "python3"
  },
  "language_info": {
   "codemirror_mode": {
    "name": "ipython",
    "version": 3
   },
   "file_extension": ".py",
   "mimetype": "text/x-python",
   "name": "python",
   "nbconvert_exporter": "python",
   "pygments_lexer": "ipython3",
   "version": "3.7.6"
  }
 },
 "nbformat": 4,
 "nbformat_minor": 4
}
