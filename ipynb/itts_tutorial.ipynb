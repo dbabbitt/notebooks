{
	"cells": [{
			"cell_type": "markdown",
			"metadata": {},
			"source": ["The voices are from [RHVoice](https://github.com/Olga-Yakovleva/RHVoice).\n", "The magic commands are automatically generated from speechd.Client properties and methods.\n", "Commands beginning with `set_` and `get_` have their prefixes removed: if you omit the value `get_` is called, otherwise `set_` is."]
		}, {
			"cell_type": "markdown",
			"metadata": {},
			"source": ["In the next cell we set the engine using [`spd_set_output_module`](https://freebsoft.org/doc/speechd/speech-dispatcher.html#spd_005fset_005foutput_005fmodule), language using [`set_language`](https://freebsoft.org/doc/speechd/speech-dispatcher.html#index-spd_005fset_005flanguage_0028_0029) and voice ([`set_voice`](https://freebsoft.org/doc/speechd/speech-dispatcher.html#spd_005fset_005fvoice_005ftype) doesn't set exact voice, it sets a generic one) using [`set_synthesis_voice`](https://freebsoft.org/doc/speechd/speech-dispatcher.html#spd_005fset_005fsynthesis_005fvoice) API of speech-dispatcher."]
		}, {
			"cell_type": "code",
			"execution_count": 1,
			"metadata": {},
			"outputs": [],
			"source": ["%output_module rhvoice\n", "%language ru\n", "%synthesis_voice elena"]
		}, {
			"cell_type": "markdown",
			"metadata": {},
			"source": ["Now we get some of the set values (some cannot be got)."]
		}, {
			"cell_type": "code",
			"execution_count": 2,
			"metadata": {},
			"outputs": [{
					"data": {
						"text/plain": ["'rhvoice'"]
					},
					"execution_count": 2,
					"metadata": {},
					"output_type": "execute_result"
				}, {
					"data": {
						"text/plain": ["'ru'"]
					},
					"execution_count": 2,
					"metadata": {},
					"output_type": "execute_result"
				}
			],
			"source": ["%output_module\n", "%language"]
		}, {
			"cell_type": "code",
			"execution_count": 3,
			"metadata": {},
			"outputs": [{
					"data": {
						"text/plain": ["(225, 'OK MESSAGE QUEUED', ('4',))"]
					},
					"execution_count": 3,
					"metadata": {},
					"output_type": "execute_result"
				}
			],
			"source": ["%synthesis_voice elena\n", "Проверка связи"]
		}, {
			"cell_type": "code",
			"execution_count": 4,
			"metadata": {},
			"outputs": [{
					"data": {
						"text/plain": ["(225, 'OK MESSAGE QUEUED', ('5',))"]
					},
					"execution_count": 4,
					"metadata": {},
					"output_type": "execute_result"
				}
			],
			"source": ["%synthesis_voice aleksandr\n", "Проверка связи"]
		}, {
			"cell_type": "code",
			"execution_count": 5,
			"metadata": {},
			"outputs": [{
					"data": {
						"text/plain": ["(225, 'OK MESSAGE QUEUED', ('6',))"]
					},
					"execution_count": 5,
					"metadata": {},
					"output_type": "execute_result"
				}
			],
			"source": ["%synthesis_voice irina\n", "Проверка связи"]
		}, {
			"cell_type": "code",
			"execution_count": 6,
			"metadata": {},
			"outputs": [{
					"data": {
						"text/plain": ["(225, 'OK MESSAGE QUEUED', ('7',))"]
					},
					"execution_count": 6,
					"metadata": {},
					"output_type": "execute_result"
				}
			],
			"source": ["%synthesis_voice alan\n", "Yo, dawg, we heard you like TTS and Jupyter so we put TTS into Jupyter so you can speak while you typing"]
		}, {
			"cell_type": "code",
			"execution_count": 7,
			"metadata": {},
			"outputs": [{
					"data": {
						"text/plain": ["(225, 'OK MESSAGE QUEUED', ('8',))"]
					},
					"execution_count": 7,
					"metadata": {},
					"output_type": "execute_result"
				}
			],
			"source": ["%synthesis_voice anatol\n", "Превед"]
		}, {
			"cell_type": "code",
			"execution_count": null,
			"metadata": {},
			"outputs": [],
			"source": []
		}
	],
	"metadata": {
		"kernelspec": {
			"display_name": "iTTS",
			"language": "plain",
			"name": "itts"
		},
		"language_info": {
			"file_extension": ".txt",
			"mimetype": "text/plain",
			"name": "",
			"version": "0.1"
		}
	},
	"nbformat": 4,
	"nbformat_minor": 4
}
