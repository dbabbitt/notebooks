{
 "cells": [
  {
   "cell_type": "code",
   "execution_count": 1,
   "metadata": {},
   "outputs": [
    {
     "name": "stdout",
     "output_type": "stream",
     "text": [
      "Pretty printing has been turned OFF\n",
      "C:\\Users\\dev\\Documents\\repositories\\notebooks\\Miscellaneous\\ipynb\\Internet Speeds.ipynb\n",
      "['s.attempt_to_pickle', 's.data_csv_folder', 's.data_folder', 's.encoding_type', 's.load_csv', 's.load_dataframes', 's.load_object', 's.save_dataframes', 's.saves_csv_folder', 's.saves_folder', 's.saves_pickle_folder', 's.store_objects']\n"
     ]
    },
    {
     "data": {
      "text/plain": [
       "['Config', 'In', 'Out', 'Storage', '_', '__', '___', '__builtin__', '__builtins__', '__doc__', '__loader__', '__name__', '__nonzero__', '__package__', '__spec__', '_dh', '_i', '_i1', '_ih', '_ii', '_iii', '_oh', 'csv', 'example_iterrows', 'exit', 'get_column_descriptions', 'get_dir_tree', 'get_ipython', 'get_max_rsquared_adj', 'get_module_version', 'get_notebook_path', 'get_page_tables', 'ipykernel', 'json', 'jupyter_config_dir', 'math', 'notebook_path', 'notebookapp', 'os', 'pd', 'pickle', 'plt', 'quit', 's', 'sm', 'sns', 'stats', 'sys', 'urllib']"
      ]
     },
     "execution_count": 1,
     "metadata": {},
     "output_type": "execute_result"
    }
   ],
   "source": [
    "\n",
    "%run ../../load_magic/storage.py\n",
    "%run ../../load_magic/dataframes.py\n",
    "%run ../../load_magic/environment.py\n",
    "%pprint\n",
    "pd.options.display.float_format = '{:20,.2f}'.format\n",
    "notebook_path = get_notebook_path()\n",
    "print(notebook_path)\n",
    "s = Storage()\n",
    "print(['s.{}'.format(fn) for fn in dir(s) if not fn.startswith('_')])\n",
    "dir()"
   ]
  },
  {
   "cell_type": "code",
   "execution_count": 2,
   "metadata": {},
   "outputs": [],
   "source": [
    "\n",
    "tables_url = 'http://xahlee.info/comp/bandwidth.html'"
   ]
  },
  {
   "cell_type": "code",
   "execution_count": 3,
   "metadata": {},
   "outputs": [
    {
     "name": "stdout",
     "output_type": "stream",
     "text": [
      "[(0, (16, 2)), (1, (16, 3))]\n"
     ]
    }
   ],
   "source": [
    "\n",
    "dfs_list = get_page_tables(tables_url)"
   ]
  },
  {
   "cell_type": "code",
   "execution_count": 6,
   "metadata": {},
   "outputs": [],
   "source": [
    "\n",
    "from datetime import datetime, date\n",
    "import re\n",
    "%matplotlib inline\n",
    "\n",
    "def fix_year(x):\n",
    "    x = str(x)\n",
    "    try:\n",
    "        year = int(x)\n",
    "        test_date = date(year, month=1, day=1)\n",
    "    except:\n",
    "        date_format = '%Y-%m'\n",
    "        test_date = datetime.strptime(x, date_format)\n",
    "    \n",
    "    return test_date"
   ]
  },
  {
   "cell_type": "code",
   "execution_count": 7,
   "metadata": {},
   "outputs": [
    {
     "data": {
      "text/plain": [
       "0                    1.20\n",
       "1                    2.70\n",
       "2                    6.08\n",
       "3                   13.67\n",
       "4                   30.75\n",
       "5                   69.20\n",
       "6                  155.70\n",
       "7                  350.32\n",
       "8                  788.21\n",
       "9                1,773.47\n",
       "10               3,990.31\n",
       "11               8,978.19\n",
       "12              20,200.93\n",
       "13              45,452.10\n",
       "14             102,267.23\n",
       "15             230,101.27\n",
       "Name: test_date, dtype: float64"
      ]
     },
     "execution_count": 7,
     "metadata": {},
     "output_type": "execute_result"
    }
   ],
   "source": [
    "\n",
    "theory_df = dfs_list[0].copy()\n",
    "theory_df.columns = ['test_date', 'theoretical_download_speed']\n",
    "theory_df.test_date = theory_df.test_date.map(fix_year)\n",
    "theory_df.test_date.map(lambda x: 1.2*1.5**(x.year-1990))"
   ]
  },
  {
   "cell_type": "code",
   "execution_count": 8,
   "metadata": {},
   "outputs": [],
   "source": [
    "\n",
    "actual_df = dfs_list[1].copy()\n",
    "\n",
    "actual_df.Year = actual_df.Year.map(fix_year)\n",
    "actual_df['download_speed'] = actual_df['Speed download•upload•ping'].map(lambda x: str(x).split('•')[0])\n",
    "actual_df['upload_speed'] = actual_df['Speed download•upload•ping'].map(lambda x: str(x).split('•')[1])\n",
    "\n",
    "def g(x):\n",
    "    ping_list = str(x).split('•')\n",
    "    if len(ping_list) < 3:\n",
    "        ping_duration = pd.np.nan\n",
    "    else:\n",
    "        ping_duration = ping_list[2]\n",
    "    \n",
    "    return ping_duration\n",
    "\n",
    "actual_df['ping_duration'] = actual_df['Speed download•upload•ping'].map(g)\n",
    "actual_df.columns = ['test_date', 'Speed download•upload•ping', 'connection_type', 'download_speed',\n",
    "                     'upload_speed', 'ping_duration']\n",
    "columns_list = ['test_date', 'download_speed', 'upload_speed', 'ping_duration', 'connection_type']\n",
    "actual_df = actual_df[columns_list]\n",
    "\n",
    "speed_regex = re.compile(r'([\\d.]+)(k|M)bps')\n",
    "def f(x):\n",
    "    speed_value = pd.np.nan\n",
    "    match_obj = speed_regex.search(x)\n",
    "    if match_obj:\n",
    "        speed_value = float(match_obj.group(1))\n",
    "        korm_str = match_obj.group(2)\n",
    "        if korm_str == 'M':\n",
    "            speed_value *= 1000\n",
    "    \n",
    "    return speed_value\n",
    "\n",
    "actual_df.download_speed = actual_df.download_speed.map(f)\n",
    "actual_df.upload_speed = actual_df.upload_speed.map(f).tolist()\n",
    "\n",
    "duration_regex = re.compile(r'(\\d+)ms')\n",
    "def g(x):\n",
    "    duration_value = pd.np.nan\n",
    "    match_obj = duration_regex.search(str(x))\n",
    "    if match_obj:\n",
    "        duration_value = int(match_obj.group(1))\n",
    "    \n",
    "    return duration_value\n",
    "\n",
    "actual_df.ping_duration = actual_df.ping_duration.map(g)\n",
    "actual_df['theoretical_download_speed'] = actual_df.test_date.map(lambda x: 1.2*1.5**(x.year-1991))\n",
    "actual_df.set_index('test_date', inplace=True)"
   ]
  },
  {
   "cell_type": "code",
   "execution_count": 9,
   "metadata": {},
   "outputs": [
    {
     "data": {
      "image/png": "[encoded data removed]",
      "text/plain": [
       "<Figure size 432x288 with 1 Axes>"
      ]
     },
     "metadata": {
      "needs_background": "light"
     },
     "output_type": "display_data"
    }
   ],
   "source": [
    "\n",
    "columns_list = ['download_speed', 'theoretical_download_speed']\n",
    "AxesSubplot_obj = actual_df[columns_list].plot.line()"
   ]
  },
  {
   "cell_type": "code",
   "execution_count": null,
   "metadata": {},
   "outputs": [],
   "source": []
  }
 ],
 "metadata": {
  "kernelspec": {
   "display_name": "Python 3",
   "language": "python",
   "name": "python3"
  },
  "language_info": {
   "codemirror_mode": {
    "name": "ipython",
    "version": 3
   },
   "file_extension": ".py",
   "mimetype": "text/x-python",
   "name": "python",
   "nbconvert_exporter": "python",
   "pygments_lexer": "ipython3",
   "version": "3.6.8"
  }
 },
 "nbformat": 4,
 "nbformat_minor": 2
}
