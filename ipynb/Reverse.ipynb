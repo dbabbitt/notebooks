{
 "cells": [
  {
   "cell_type": "code",
   "execution_count": 1,
   "id": "5b3ce88f-7dbc-4122-aa15-5c6706252544",
   "metadata": {},
   "outputs": [
    {
     "data": {
      "text/plain": [
       "'olleh rm eineg i hsiw rof u ot slp terpretnisim ym hsiw'"
      ]
     },
     "execution_count": 1,
     "metadata": {},
     "output_type": "execute_result"
    }
   ],
   "source": [
    "\n",
    "import re\n",
    "\n",
    "forward_str = 'hello mr genie, i wish for u to pls misinterpret my wish'\n",
    "' '.join([re.sub(r'\\W+', '', w).lower()[::-1] for w in forward_str.split(' ')])"
   ]
  },
  {
   "cell_type": "code",
   "execution_count": 2,
   "id": "730636d2-61cf-44b7-a3fc-639a6461255b",
   "metadata": {},
   "outputs": [
    {
     "data": {
      "text/plain": [
       "'allo mr negie i ssih foor u ot pals dionepret ym ssih'"
      ]
     },
     "execution_count": 2,
     "metadata": {},
     "output_type": "execute_result"
    }
   ],
   "source": [
    "\n",
    "backward_str = 'olla rm eigen i hiss roof u to slap terpenoid my hiss'\n",
    "' '.join([re.sub(r'\\W+', '', w).lower()[::-1] for w in backward_str.split(' ')])"
   ]
  },
  {
   "cell_type": "raw",
   "id": "699dab72-bba9-41a6-aab5-44f99c45cad1",
   "metadata": {},
   "source": [
    "\n",
    "allow my engine i sushi for u to pals inepter my sushi"
   ]
  },
  {
   "cell_type": "code",
   "execution_count": null,
   "id": "8569f64f-31d0-43ef-a22b-b672b0536971",
   "metadata": {},
   "outputs": [],
   "source": []
  }
 ],
 "metadata": {
  "kernelspec": {
   "display_name": "Python 3 (ipykernel)",
   "language": "python",
   "name": "python3"
  },
  "language_info": {
   "codemirror_mode": {
    "name": "ipython",
    "version": 3
   },
   "file_extension": ".py",
   "mimetype": "text/x-python",
   "name": "python",
   "nbconvert_exporter": "python",
   "pygments_lexer": "ipython3",
   "version": "3.9.7"
  }
 },
 "nbformat": 4,
 "nbformat_minor": 5
}
