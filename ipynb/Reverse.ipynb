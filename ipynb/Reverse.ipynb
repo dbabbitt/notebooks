{
 "cells": [
  {
   "cell_type": "code",
   "execution_count": 7,
   "id": "5b3ce88f-7dbc-4122-aa15-5c6706252544",
   "metadata": {},
   "outputs": [
    {
     "data": {
      "text/plain": [
       "'stoidi time snogob gnisuac yrenihcam ot noitcnuflam ni rieht ecneserp metsys srotartsinimda brosba snogob gnittel yrenihcam krow niaga'"
      ]
     },
     "execution_count": 7,
     "metadata": {},
     "output_type": "execute_result"
    }
   ],
   "source": [
    "\n",
    "import re\n",
    "\n",
    "forward_str = 'Idiots emit bogons, causing machinery to malfunction in their presence. System administrators absorb bogons, '\n",
    "forward_str += 'letting machinery work again'\n",
    "' '.join([re.sub(r'\\W+', '', w).lower()[::-1] for w in forward_str.split(' ')])"
   ]
  },
  {
   "cell_type": "code",
   "execution_count": 8,
   "id": "730636d2-61cf-44b7-a3fc-639a6461255b",
   "metadata": {},
   "outputs": [
    {
     "data": {
      "text/plain": [
       "'dilots emit poons causing lacinori ot ralubutnon ni thgir resacne yssem administrators daorb bons latineg lacinori wonk arian'"
      ]
     },
     "execution_count": 8,
     "metadata": {},
     "output_type": "execute_result"
    }
   ],
   "source": [
    "\n",
    "backward_str = 'stolid time snoop gnisuac ironical to nontubular in right encaser messy srotartsinimda broad snob genital ironical know naira'\n",
    "' '.join([re.sub(r'\\W+', '', w).lower()[::-1] for w in backward_str.split(' ')])"
   ]
  },
  {
   "cell_type": "code",
   "execution_count": null,
   "id": "21d051fc-7fc0-430e-903e-7dea2d47c89a",
   "metadata": {},
   "outputs": [],
   "source": [
    "\n",
    "Diglots emit pools, causing lacunar to rebutton in their rescans. System administrators adsorb pools, lasting lacunar wonk arenas."
   ]
  }
 ],
 "metadata": {
  "kernelspec": {
   "display_name": "Python 3 (ipykernel)",
   "language": "python",
   "name": "python3"
  },
  "language_info": {
   "codemirror_mode": {
    "name": "ipython",
    "version": 3
   },
   "file_extension": ".py",
   "mimetype": "text/x-python",
   "name": "python",
   "nbconvert_exporter": "python",
   "pygments_lexer": "ipython3",
   "version": "3.9.7"
  }
 },
 "nbformat": 4,
 "nbformat_minor": 5
}
