{
 "cells": [
  {
   "cell_type": "code",
   "execution_count": 1,
   "metadata": {
    "collapsed": false
   },
   "outputs": [],
   "source": [
    "package_names = ['abind', 'acepack', 'ada', 'akima', 'amap', 'animation', \n",
    "                 'ape', 'arules', 'assertthat', 'base64enc', 'BH', 'BHH2', \n",
    "                 'bit', 'bit64', 'bestglm', 'bitops', 'brew', 'cairoDevice', \n",
    "                 'car', 'caret', 'caTools', 'cem', 'chron', 'CircStats', \n",
    "                 'coda', 'coin', 'colorspace', 'combinat', 'corpcor', 'crayon', \n",
    "                 'curl', 'd3Network', 'data.table', 'DBI', 'DEoptimR', \n",
    "                 'devtools', 'dichromat', 'digest', 'diptest', 'dplyr', 'dtw', \n",
    "                 'e1071', 'ellipse', 'ergm', 'evaluate', 'fBasics', 'fdrtool', \n",
    "                 'fields', 'flexmix', 'flux', 'foreach', 'formatR', 'Formula', \n",
    "                 'fpc', 'gbm', 'gdata', 'gender', 'GGally', 'ggdendro', 'ggm', \n",
    "                 'ggplot2', 'git2r', 'glasso', 'glmnet', 'GPArotation', \n",
    "                 'gplots', 'gridExtra', 'gss', 'gtable', 'gtools', 'hflights', \n",
    "                 'highr', 'Hmisc', 'htmltools', 'htmlwidgets', 'httr', 'huge', \n",
    "                 'ISLR', 'igraph', 'igraphdata', 'igraphtosonia', 'installr', \n",
    "                 'iterators', 'jpeg', 'jsonlite', 'kernlab', 'knitr', \n",
    "                 'labeling', 'lasso2', 'latentnet', 'latticeExtra', 'lavaan', \n",
    "                 'lazyeval', 'leaps', 'lme4', 'LowRankQP', 'lpSolve', \n",
    "                 'magrittr', 'manipulate', 'maps', 'markdown', 'Matching', \n",
    "                 'MatchIt', 'matrixcalc', 'mclust', 'memoise', 'mice', 'mime', \n",
    "                 'minqa', 'mnormt', 'modeltools', 'multcomp', 'munsell', \n",
    "                 'mvtnorm', 'NetCluster', 'NetData', 'network', 'neuralnet', \n",
    "                 'nFactors', 'nloptr', 'NLP', 'numDeriv', 'nycflights13', \n",
    "                 'openintro', 'openNLP', 'openNLPdata', 'openNLPmodels.en', \n",
    "                 'optmatch', 'pbivnorm', 'pbkrtest', 'pixmap', 'plotly', \n",
    "                 'plotrix', 'pls', 'plyr', 'png', 'polspline', 'prabclus', \n",
    "                 'pROC', 'proto', 'proxy', 'psych', 'qdap', 'qdapDictionaries', \n",
    "                 'qdapRegex', 'qdapTools', 'qgraph', 'quadprog', 'quantreg', \n",
    "                 'R.methodsS3', 'R.oo', 'R.utils', 'R6', 'randomForest', \n",
    "                 'rattle', 'RColorBrewer', 'Rcpp', 'RcppEigen', 'Rcsdp', \n",
    "                 'RCurl', 'readr', 'readxl', 'reports', 'reshape', 'reshape2', \n",
    "                 'rgl', 'Rglpk', 'RGtk2', 'rJava', 'rjson', 'RJSONIO', \n",
    "                 'rmarkdown', 'RMongo', 'rmongodb', 'rms', 'ROAuth', \n",
    "                 'robustbase', 'ROCR', 'roxygen2', 'rpart.plot', 'RSQLite', \n",
    "                 'rstudio', 'rstudioapi', 'rtiff', 'rversions', 'rvest', \n",
    "                 'RWeka', 'RWekajars', 'sandwich', 'Scale', 'scales', \n",
    "                 'selectr', 'sem', 'sendplot', 'shiny', 'slam', 'sna', \n",
    "                 'SnowballC', 'sos', 'sp', 'spam', 'SparseM', 'stabledist', \n",
    "                 'statnet.common', 'stringdist', 'stringi', 'stringr', \n",
    "                 'swirl', 'tables', 'testit', 'testthat', 'TH.data', 'tidyr', \n",
    "                 'timeDate', 'timeSeries', 'tm', 'translations', 'tree', \n",
    "                 'trimcluster', 'trust', 'twitteR', 'Unicode', 'vcd', \n",
    "                 'venneuler', 'verification', 'viridis', 'WhatIf', 'whisker', \n",
    "                 'wordcloud', 'xlsx', 'xlsxjars', 'XML', 'xml2', 'xtable', \n",
    "                 'xts', 'yaml', 'ZillowR', 'zoo']\n",
    "\n",
    "for package_name in package_names:\n",
    "    package_url = r'https://cran.r-project.org/web/packages/'\n",
    "    package_url += package_name + '/index.html'"
   ]
  },
  {
   "cell_type": "code",
   "execution_count": 2,
   "metadata": {
    "collapsed": false
   },
   "outputs": [],
   "source": [
    "#import the library used to query a website\n",
    "import requests"
   ]
  },
  {
   "cell_type": "code",
   "execution_count": 3,
   "metadata": {
    "collapsed": false
   },
   "outputs": [
    {
     "name": "stdout",
     "output_type": "stream",
     "text": [
      "<Response [200]>\n"
     ]
    }
   ],
   "source": [
    "html = requests.get(\"http://www.boursorama.com/includes/cours/last_transactions.phtml?symbole=1xEURUS\")\n",
    "print (html)"
   ]
  },
  {
   "cell_type": "code",
   "execution_count": 10,
   "metadata": {
    "collapsed": false
   },
   "outputs": [
    {
     "ename": "AttributeError",
     "evalue": "module 'urllib' has no attribute 'urlopen'",
     "output_type": "error",
     "traceback": [
      "\u001b[1;31m---------------------------------------------------------------------------\u001b[0m",
      "\u001b[1;31mAttributeError\u001b[0m                            Traceback (most recent call last)",
      "\u001b[1;32m<ipython-input-10-16fbe4470e74>\u001b[0m in \u001b[0;36m<module>\u001b[1;34m()\u001b[0m\n\u001b[0;32m      1\u001b[0m \u001b[0murl\u001b[0m \u001b[1;33m=\u001b[0m \u001b[1;34m'http://www.boursorama.com/includes/cours/last_transactions.phtml?symbole=1xEURUS'\u001b[0m\u001b[1;33m\u001b[0m\u001b[0m\n\u001b[1;32m----> 2\u001b[1;33m \u001b[0msock\u001b[0m \u001b[1;33m=\u001b[0m \u001b[0murllib\u001b[0m\u001b[1;33m.\u001b[0m\u001b[0murlopen\u001b[0m\u001b[1;33m(\u001b[0m\u001b[0murl\u001b[0m\u001b[1;33m)\u001b[0m\u001b[1;33m\u001b[0m\u001b[0m\n\u001b[0m\u001b[0;32m      3\u001b[0m \u001b[0mcontent\u001b[0m \u001b[1;33m=\u001b[0m \u001b[0msock\u001b[0m\u001b[1;33m.\u001b[0m\u001b[0mread\u001b[0m\u001b[1;33m(\u001b[0m\u001b[1;33m)\u001b[0m\u001b[1;33m\u001b[0m\u001b[0m\n\u001b[0;32m      4\u001b[0m \u001b[0msock\u001b[0m\u001b[1;33m.\u001b[0m\u001b[0mclose\u001b[0m\u001b[1;33m(\u001b[0m\u001b[1;33m)\u001b[0m\u001b[1;33m\u001b[0m\u001b[0m\n\u001b[0;32m      5\u001b[0m \u001b[1;33m\u001b[0m\u001b[0m\n",
      "\u001b[1;31mAttributeError\u001b[0m: module 'urllib' has no attribute 'urlopen'"
     ]
    }
   ],
   "source": [
    "url = 'http://www.boursorama.com/includes/cours/last_transactions.phtml?symbole=1xEURUS'\n",
    "sock = urllib.urlopen(url)\n",
    "content = sock.read() \n",
    "sock.close()\n",
    "\n",
    "print(content)"
   ]
  },
  {
   "cell_type": "code",
   "execution_count": null,
   "metadata": {
    "collapsed": true
   },
   "outputs": [],
   "source": []
  }
 ],
 "metadata": {
  "kernelspec": {
   "display_name": "Python [Root]",
   "language": "python",
   "name": "Python [Root]"
  },
  "language_info": {
   "codemirror_mode": {
    "name": "ipython",
    "version": 3
   },
   "file_extension": ".py",
   "mimetype": "text/x-python",
   "name": "python",
   "nbconvert_exporter": "python",
   "pygments_lexer": "ipython3",
   "version": "3.5.2"
  }
 },
 "nbformat": 4,
 "nbformat_minor": 0
}
