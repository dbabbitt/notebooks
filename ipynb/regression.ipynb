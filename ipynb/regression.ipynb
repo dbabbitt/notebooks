{
 "cells": [
  {
   "cell_type": "code",
   "execution_count": 1,
   "metadata": {
    "collapsed": false
   },
   "outputs": [],
   "source": [
    "import numpy as np\n",
    "import matplotlib.pyplot as plt\n",
    "\n",
    "# Use the following only if you are on a high definition device\n",
    "from IPython.display import set_matplotlib_formats\n",
    "set_matplotlib_formats('retina')\n",
    "\n",
    "%matplotlib inline"
   ]
  },
  {
   "cell_type": "code",
   "execution_count": 2,
   "metadata": {
    "collapsed": false
   },
   "outputs": [],
   "source": [
    "# Generation of our dataset (sine)\n",
    "n = 10 # Number of points generated\n",
    "x = np.linspace(0., 1., n)\n",
    "s = np.sin(2. * np.pi * x)\n",
    "# adding noise\n",
    "t = s + np.random.normal(0.0, 0.15, n)\n",
    "\n",
    "# HD curve for plotting smooth curves\n",
    "hdn = 100\n",
    "hdx = np.linspace(0., 1., hdn)\n",
    "hds = np.sin(2. * np.pi * hdx)"
   ]
  },
  {
   "cell_type": "code",
   "execution_count": 3,
   "metadata": {
    "collapsed": false
   },
   "outputs": [
    {
     "data": {
      "image/png": "[encoded data removed]",
      "text/plain": [
       "<matplotlib.figure.Figure at 0x1ea68e2c710>"
      ]
     },
     "metadata": {},
     "output_type": "display_data"
    }
   ],
   "source": [
    "# Let's plot the sine curve plus our noisy dataset\n",
    "plt.plot(hdx, hds)\n",
    "plt.scatter(x, t)\n",
    "plt.show()"
   ]
  },
  {
   "cell_type": "code",
   "execution_count": 4,
   "metadata": {
    "collapsed": false
   },
   "outputs": [],
   "source": [
    "# Compute the y of a polynomial function according to the weights\n",
    "def poly(W, x):\n",
    "    y = 0.\n",
    "    px = 1.\n",
    "    for i in range(len(W)):\n",
    "        y = y + W[i] * px\n",
    "        px = px * x\n",
    "    return y\n",
    "# Compute the cost function\n",
    "# Mean Squarred Error\n",
    "def mse(W, X, T):\n",
    "    s = 0.\n",
    "    for x, t in zip(X, T):\n",
    "        s = s + (poly(W, x) - t)**2\n",
    "    return s / 2."
   ]
  },
  {
   "cell_type": "code",
   "execution_count": 5,
   "metadata": {
    "collapsed": false
   },
   "outputs": [
    {
     "name": "stdout",
     "output_type": "stream",
     "text": [
      "[ 73.06620379  51.0745432   41.71824389  35.97564577  32.06076127]\n",
      "[ 73.06120379  51.07278394  41.7170754   35.97472525  32.05997455]\n"
     ]
    }
   ],
   "source": [
    "# Derivative parts\n",
    "W = [3, 2, 3, 4, 5]\n",
    "\n",
    "# Manual derivatives\n",
    "h = 0.001\n",
    "mdmse = np.array([\n",
    "    (mse([3+h, 2, 3, 4, 5], x, t) - mse(W, x, t)) / h,\n",
    "    (mse([3, 2+h, 3, 4, 5], x, t) - mse(W, x, t)) / h,\n",
    "    (mse([3, 2, 3+h, 4, 5], x, t) - mse(W, x, t)) / h,\n",
    "    (mse([3, 2, 3, 4+h, 5], x, t) - mse(W, x, t)) / h,\n",
    "    (mse([3, 2, 3, 4, 5+h], x, t) - mse(W, x, t)) / h,\n",
    "])\n",
    "\n",
    "'''\n",
    "q = d*xi**3 + c*xi**2 + b*xi + a\n",
    "r = q - ti\n",
    "s = ∑1/2*r**2\n",
    "\n",
    "ds = 1\n",
    "dr = r * ds\n",
    "dq = 1 * dr\n",
    "da = 1 * dq\n",
    "db = xi * dq\n",
    "dc = xi**2 * dq\n",
    "dd = xi**3 * dq\n",
    "'''\n",
    "# derivative of mse\n",
    "def msed(w, x, t, i):\n",
    "    q = poly(w, x[i])\n",
    "    r = q - t[i]\n",
    "    \n",
    "    ds = 1.\n",
    "    dr = r * ds\n",
    "    dq = 1. * dr\n",
    "    dw = np.zeros_like(w, float)\n",
    "    for j in range(len(w)):\n",
    "        dw[j] = x[i]**j * dq\n",
    "    return dw\n",
    "# summed derivative of mse\n",
    "def smsed(w, x, t, l = None):\n",
    "    dmse = np.zeros_like(w, float)\n",
    "    for i in range(len(x)):\n",
    "        dmse += msed(w, x, t, i)\n",
    "    return dmse\n",
    "\n",
    "# We just need matching derivatives\n",
    "print(mdmse)\n",
    "print(smsed(W, x, t))"
   ]
  },
  {
   "cell_type": "code",
   "execution_count": 6,
   "metadata": {
    "collapsed": false
   },
   "outputs": [
    {
     "name": "stdout",
     "output_type": "stream",
     "text": [
      "2.59923521592\n"
     ]
    },
    {
     "ename": "NameError",
     "evalue": "name 'l' is not defined",
     "output_type": "error",
     "traceback": [
      "\u001b[0;31m---------------------------------------------------------------------------\u001b[0m",
      "\u001b[0;31mNameError\u001b[0m                                 Traceback (most recent call last)",
      "\u001b[0;32m<ipython-input-6-5742985efd60>\u001b[0m in \u001b[0;36m<module>\u001b[0;34m()\u001b[0m\n\u001b[1;32m      6\u001b[0m     \u001b[0mW\u001b[0m \u001b[1;33m=\u001b[0m \u001b[0mW\u001b[0m \u001b[1;33m-\u001b[0m \u001b[0mlearning_rate\u001b[0m \u001b[1;33m*\u001b[0m \u001b[0msmsed\u001b[0m\u001b[1;33m(\u001b[0m\u001b[0mW\u001b[0m\u001b[1;33m,\u001b[0m \u001b[0mx\u001b[0m\u001b[1;33m,\u001b[0m \u001b[0mt\u001b[0m\u001b[1;33m)\u001b[0m\u001b[1;33m\u001b[0m\u001b[0m\n\u001b[1;32m      7\u001b[0m     \u001b[1;31m#print(mse(W, x, t))\u001b[0m\u001b[1;33m\u001b[0m\u001b[1;33m\u001b[0m\u001b[0m\n\u001b[0;32m----> 8\u001b[0;31m \u001b[0mprint\u001b[0m\u001b[1;33m(\u001b[0m\u001b[0mmse\u001b[0m\u001b[1;33m(\u001b[0m\u001b[0mW\u001b[0m\u001b[1;33m,\u001b[0m \u001b[0mx\u001b[0m\u001b[1;33m,\u001b[0m \u001b[0mt\u001b[0m\u001b[1;33m,\u001b[0m \u001b[0ml\u001b[0m\u001b[1;33m)\u001b[0m\u001b[1;33m)\u001b[0m\u001b[1;33m\u001b[0m\u001b[0m\n\u001b[0m",
      "\u001b[0;31mNameError\u001b[0m: name 'l' is not defined"
     ]
    }
   ],
   "source": [
    "# Learning\n",
    "W = np.zeros(10)\n",
    "learning_rate = 0.01\n",
    "print(mse(W, x, t))\n",
    "for i in range(100000):\n",
    "    W = W - learning_rate * smsed(W, x, t)\n",
    "    #print(mse(W, x, t))\n",
    "print(mse(W, x, t, l))"
   ]
  },
  {
   "cell_type": "code",
   "execution_count": 7,
   "metadata": {
    "collapsed": false
   },
   "outputs": [
    {
     "name": "stdout",
     "output_type": "stream",
     "text": [
      "Poly. weigths: [ -0.10073918   8.09322733 -13.93301812  -5.7732977    2.49259454\n",
      "   6.07783936   5.7967159    3.15565505  -0.67309201  -4.93351656]\n"
     ]
    }
   ],
   "source": [
    "hdp = [ poly(W, i) for i in hdx ]\n",
    "print(\"Poly. weigths:\", W)"
   ]
  },
  {
   "cell_type": "code",
   "execution_count": 8,
   "metadata": {
    "collapsed": false
   },
   "outputs": [
    {
     "data": {
      "image/png": "[encoded data removed]",
      "text/plain": [
       "<matplotlib.figure.Figure at 0x1ea6a76b3c8>"
      ]
     },
     "metadata": {},
     "output_type": "display_data"
    }
   ],
   "source": [
    "# Let's see the result\n",
    "plt.plot(hdx, hds)\n",
    "plt.plot(hdx, hdp)\n",
    "plt.scatter(x, t)\n",
    "plt.show()"
   ]
  },
  {
   "cell_type": "code",
   "execution_count": 1,
   "metadata": {
    "collapsed": false
   },
   "outputs": [
    {
     "data": {
      "text/plain": [
       "1.000000000000001"
      ]
     },
     "execution_count": 1,
     "metadata": {},
     "output_type": "execute_result"
    }
   ],
   "source": [
    "\n",
    "from scipy import stats\n",
    "stats.norm.expect(lambda x: x**2)"
   ]
  },
  {
   "cell_type": "code",
   "execution_count": null,
   "metadata": {
    "collapsed": true
   },
   "outputs": [],
   "source": []
  }
 ],
 "metadata": {
  "anaconda-cloud": {},
  "kernelspec": {
   "display_name": "Python [default]",
   "language": "python",
   "name": "python3"
  },
  "language_info": {
   "codemirror_mode": {
    "name": "ipython",
    "version": 3
   },
   "file_extension": ".py",
   "mimetype": "text/x-python",
   "name": "python",
   "nbconvert_exporter": "python",
   "pygments_lexer": "ipython3",
   "version": "3.5.2"
  }
 },
 "nbformat": 4,
 "nbformat_minor": 1
}
