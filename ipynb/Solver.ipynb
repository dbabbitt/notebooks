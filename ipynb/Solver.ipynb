{
 "cells": [
  {
   "cell_type": "code",
   "execution_count": null,
   "metadata": {},
   "outputs": [],
   "source": []
  },
  {
   "cell_type": "code",
   "execution_count": 1,
   "metadata": {},
   "outputs": [
    {
     "name": "stdout",
     "output_type": "stream",
     "text": [
      "C:\\Users\\577342\\AppData\\Local\\Continuum\\anaconda3\\python.exe -m pip install --upgrade Z3\n"
     ]
    }
   ],
   "source": [
    "\n",
    "import sys\n",
    "\n",
    "# Using Z3Py Locally\n",
    "command_str = '{sys.executable} -m pip install --upgrade Z3'.format(sys=sys)\n",
    "print(command_str)\n",
    "#!{command_str}"
   ]
  },
  {
   "cell_type": "code",
   "execution_count": 2,
   "metadata": {},
   "outputs": [
    {
     "name": "stdout",
     "output_type": "stream",
     "text": [
      "[]\n"
     ]
    }
   ],
   "source": [
    "\n",
    "import pkg_resources\n",
    "\n",
    "installed_packages_list = [(d.project_name, d.version) for d in pkg_resources.working_set if 'z3' in d.project_name.lower()]\n",
    "print(installed_packages_list)"
   ]
  },
  {
   "cell_type": "code",
   "execution_count": 3,
   "metadata": {},
   "outputs": [
    {
     "name": "stdout",
     "output_type": "stream",
     "text": [
      "True\n",
      "True\n",
      "True\n",
      "['z3.PYFUNCTYPE', 'z3.PyDLL', 'z3.copy', 'z3.py_object', 'z3.pydll', 'z3.pythonapi']\n",
      "[]\n"
     ]
    }
   ],
   "source": [
    "\n",
    "import builtins\n",
    "import os\n",
    "\n",
    "libz3_path = r'D:\\z3py\\bin'\n",
    "builtins.Z3_LIB_DIRS = [libz3_path]\n",
    "\n",
    "print(libz3_path in os.getenv('PATH'))\n",
    "print(libz3_path in os.getenv('Z3_LIBRARY_PATH'))\n",
    "print(libz3_path in builtins.Z3_LIB_DIRS)\n",
    "\n",
    "import z3\n",
    "from z3 import *\n",
    "\n",
    "print(['z3.{}'.format(fn) for fn in dir(z3) if 'py' in fn.lower()])\n",
    "print(['{}'.format(fn) for fn in dir() if 'z3py' in fn.lower()])"
   ]
  },
  {
   "cell_type": "code",
   "execution_count": 14,
   "metadata": {},
   "outputs": [
    {
     "data": {
      "text/plain": [
       "\u001b[1;31mInit signature:\u001b[0m \u001b[0mz3\u001b[0m\u001b[1;33m.\u001b[0m\u001b[0mz3\u001b[0m\u001b[1;33m.\u001b[0m\u001b[0mCheckSatResult\u001b[0m\u001b[1;33m(\u001b[0m\u001b[0mr\u001b[0m\u001b[1;33m)\u001b[0m\u001b[1;33m\u001b[0m\u001b[1;33m\u001b[0m\u001b[0m\n",
       "\u001b[1;31mDocstring:\u001b[0m     \n",
       "Represents the result of a satisfiability check: sat, unsat, unknown.\n",
       "\n",
       ">>> s = Solver()\n",
       ">>> s.check()\n",
       "sat\n",
       ">>> r = s.check()\n",
       ">>> isinstance(r, CheckSatResult)\n",
       "True\n",
       "\u001b[1;31mFile:\u001b[0m           d:\\z3py\\bin\\python\\z3\\z3.py\n",
       "\u001b[1;31mType:\u001b[0m           type\n",
       "\u001b[1;31mSubclasses:\u001b[0m     \n"
      ]
     },
     "metadata": {},
     "output_type": "display_data"
    }
   ],
   "source": [
    "\n",
    "z3.z3.CheckSatResult?"
   ]
  },
  {
   "cell_type": "code",
   "execution_count": 7,
   "metadata": {},
   "outputs": [
    {
     "data": {
      "text/plain": [
       "unsat"
      ]
     },
     "execution_count": 7,
     "metadata": {},
     "output_type": "execute_result"
    }
   ],
   "source": [
    "\n",
    "from z3 import Solver, Ints\n",
    "\n",
    "s = Solver()\n",
    "Strawberry, Apple, Lemon = Ints('Strawberry Apple Lemon')\n",
    "s.add((Strawberry / (Apple + Lemon) +\n",
    "       Apple / (Strawberry + Lemon) +\n",
    "       Lemon / (Strawberry + Apple)) == 4)\n",
    "s.add(Strawberry % (Apple + Lemon) == 0)\n",
    "s.add(Apple % (Strawberry + Lemon) == 0)\n",
    "s.add(Lemon % (Strawberry + Apple) == 0)\n",
    "s.add(Lemon > 0)\n",
    "s.add(Apple > 0)\n",
    "s.add(Strawberry > 0)\n",
    "s.check()"
   ]
  },
  {
   "cell_type": "code",
   "execution_count": null,
   "metadata": {},
   "outputs": [],
   "source": [
    "\n",
    "from z3 import Solver, Ints\n",
    "\n",
    "s = Solver()\n",
    "Strawberry, Apple, Lemon = Ints('Strawberry Apple Lemon')\n",
    "s.add(Strawberry * (Strawberry + Lemon) * (Strawberry + Apple) +\n",
    "      Apple * (Apple + Lemon) * (Strawberry + Apple) +\n",
    "      Lemon * (Apple + Lemon) * (Strawberry + Lemon) == 4 * (Apple + Lemon) * (Strawberry + Lemon) * (Strawberry + Apple))\n",
    "s.add(Lemon > 0)\n",
    "s.add(Apple > 0)\n",
    "s.add(Strawberry > 0)\n",
    "r = s.check()\n",
    "if (r == sat):\n",
    "    print(s.model())"
   ]
  },
  {
   "cell_type": "code",
   "execution_count": null,
   "metadata": {},
   "outputs": [],
   "source": []
  },
  {
   "cell_type": "code",
   "execution_count": 5,
   "metadata": {},
   "outputs": [
    {
     "name": "stdout",
     "output_type": "stream",
     "text": [
      "[Lemon = 1, Apple = 1, Strawberry = 8]\n"
     ]
    }
   ],
   "source": [
    "\n",
    "from z3 import Solver, Ints\n",
    "\n",
    "s = Solver()\n",
    "Strawberry, Apple, Lemon = Ints('Strawberry Apple Lemon')\n",
    "s.add((Strawberry / (Apple + Lemon) +\n",
    "       Apple / (Strawberry + Lemon) +\n",
    "       Lemon / (Strawberry + Apple)) == 4)\n",
    "s.add(Lemon > 0)\n",
    "s.add(Apple > 0)\n",
    "s.add(Strawberry > 0)\n",
    "r = s.check()\n",
    "if (r == sat):\n",
    "    print(s.model())"
   ]
  },
  {
   "cell_type": "code",
   "execution_count": null,
   "metadata": {},
   "outputs": [],
   "source": []
  }
 ],
 "metadata": {
  "kernelspec": {
   "display_name": "Python 3",
   "language": "python",
   "name": "python3"
  },
  "language_info": {
   "codemirror_mode": {
    "name": "ipython",
    "version": 3
   },
   "file_extension": ".py",
   "mimetype": "text/x-python",
   "name": "python",
   "nbconvert_exporter": "python",
   "pygments_lexer": "ipython3",
   "version": "3.7.7"
  }
 },
 "nbformat": 4,
 "nbformat_minor": 4
}
