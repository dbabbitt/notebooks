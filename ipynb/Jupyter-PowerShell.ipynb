{
 "cells": [
  {
   "cell_type": "markdown",
   "metadata": {
    "collapsed": true
   },
   "source": [
    "# A [Jupyter](https://jupyter.org/) Kernel for [PowerShell](https://github.com/PowerShell/PowerShell)\n",
    "\n",
    "This kernel is being written in C#, and in the process, I've taken some messaging code from the [iCSharp kernel](https://github.com/zabirauf/icsharp) and made a generic library for .Net with a re-usable core for anyone who needs to create [Jupyter](https://jupyter.org/) kernels in .Net languages -- so feel free to borrow that if you like (it's under the Apache license).\n",
    "\n",
    "## Install\n",
    "\n",
    "I am finally doing a preliminary release: you can download from the releases link, unzip it somewhere, and run the `Install.ps1` script. Note that if you run this on Linux or OS X you should expect to see only \"PowerShell (Core)\" but on Windows you'll see both -- but only the \"PowerShell (Full)\" will actually work unless you have PowerShell Core installed in your PATH and working.\n",
    "\n",
    "## Current Status\n",
    "\n",
    "So far, I am only handling two messages:\n",
    "\n",
    "* KernelInfo request\n",
    "* Execute request\n",
    "\n",
    "The PowerShell kernel is _working_, and returning text output _and errors_ as on the console (see examples below)."
   ]
  },
  {
   "cell_type": "markdown",
   "metadata": {},
   "source": [
    "## PowerShell Core *and Full*\n",
    "\n",
    "In order to get cross-platform support, this kernel is using [PowerShell Core](https://github.com/PowerShell/PowerShell), which means you'll want to have PowerShell 6 Beta 3 installed to try it out. As of today, it also builds for \"Full Framework\" Windows PowerShell!\n",
    "\n",
    "To build it yourself --or to run the \"PowerShell (Core)\" kernel-- you need [dotnet core 2 preview](https://www.microsoft.com/net/core/preview).  You can build it by running `dotnet restore; dotnet build` from the root. If you want to contribute --and want to build it in Visual Studio-- you need [VS 2017 Preview version 15.3](https://www.visualstudio.com/vs/preview/)."
   ]
  },
  {
   "cell_type": "code",
   "execution_count": 1,
   "metadata": {},
   "outputs": [
    {
     "data": {
      "text/plain": [
       "Name                           Value                                                                                    \r\n",
       "----                           -----                                                                                    \r\n",
       "PSVersion                      5.1.16215.1000                                                                           \r\n",
       "PSEdition                      Desktop                                                                                  \r\n",
       "PSCompatibleVersions           {1.0, 2.0, 3.0, 4.0...}                                                                  \r\n",
       "BuildVersion                   10.0.16215.1000                                                                          \r\n",
       "CLRVersion                     4.0.30319.42000                                                                          \r\n",
       "WSManStackVersion              3.0                                                                                      \r\n",
       "PSRemotingProtocolVersion      2.3                                                                                      \r\n",
       "SerializationVersion           1.1.0.1"
      ]
     },
     "execution_count": 1,
     "metadata": {},
     "output_type": "execute_result"
    }
   ],
   "source": [
    "$PSVersionTable"
   ]
  },
  {
   "cell_type": "markdown",
   "metadata": {},
   "source": [
    "If we ran that same command in the \"PowerShell (Core)\" engine, you would see a different, result of course. Incidentally, I don't have any idea what the deal with the \"GitCommitId\" is -- I need to file a bug on the PowerShell repo about that."
   ]
  },
  {
   "cell_type": "code",
   "execution_count": 1,
   "metadata": {},
   "outputs": [
    {
     "data": {
      "application/json": {
       "output": [
        {
         "GitCommitId": "Could not find file 'C:\\Users\\Joel\\.nuget\\packages\\system.management.automation\\6.0.0-beta.3\\lib\\netcoreapp2.0\\powershell.version'.",
         "OS": "Microsoft Windows 10.0.16215 ",
         "PSCompatibleVersions": [
          {
           "Build": -1,
           "Major": 1,
           "MajorRevision": -1,
           "Minor": 0,
           "MinorRevision": -1,
           "Revision": -1
          },
          {
           "Build": -1,
           "Major": 2,
           "MajorRevision": -1,
           "Minor": 0,
           "MinorRevision": -1,
           "Revision": -1
          },
          {
           "Build": -1,
           "Major": 3,
           "MajorRevision": -1,
           "Minor": 0,
           "MinorRevision": -1,
           "Revision": -1
          },
          {
           "Build": -1,
           "Major": 4,
           "MajorRevision": -1,
           "Minor": 0,
           "MinorRevision": -1,
           "Revision": -1
          },
          {
           "Build": -1,
           "Major": 5,
           "MajorRevision": -1,
           "Minor": 0,
           "MinorRevision": -1,
           "Revision": -1
          },
          {
           "Build": 10032,
           "Major": 5,
           "MajorRevision": 0,
           "Minor": 1,
           "MinorRevision": 0,
           "Revision": 0
          },
          {
           "Build": 0,
           "Major": 6,
           "MajorRevision": -1,
           "Minor": 0,
           "MinorRevision": -1,
           "Revision": -1
          }
         ],
         "PSEdition": "Core",
         "PSRemotingProtocolVersion": {
          "Build": -1,
          "Major": 2,
          "MajorRevision": -1,
          "Minor": 3,
          "MinorRevision": -1,
          "Revision": -1
         },
         "PSVersion": {
          "Label": "beta",
          "Major": 6,
          "Minor": 0,
          "Patch": 0
         },
         "Platform": "Win32NT",
         "SerializationVersion": {
          "Build": 0,
          "Major": 1,
          "MajorRevision": 0,
          "Minor": 1,
          "MinorRevision": 1,
          "Revision": 1
         },
         "WSManStackVersion": {
          "Build": -1,
          "Major": 3,
          "MajorRevision": -1,
          "Minor": 0,
          "MinorRevision": -1,
          "Revision": -1
         }
        }
       ]
      },
      "text/plain": [
       "Name                           Value                                                                                    \r\n",
       "----                           -----                                                                                    \r\n",
       "PSVersion                      6.0.0-beta                                                                               \r\n",
       "PSEdition                      Core                                                                                     \r\n",
       "GitCommitId                    Could not find file 'C:\\Users\\Joel\\.nuget\\packages\\system.management.automation\\6.0.0-...\r\n",
       "OS                             Microsoft Windows 10.0.16215                                                             \r\n",
       "Platform                       Win32NT                                                                                  \r\n",
       "PSCompatibleVersions           {1.0, 2.0, 3.0, 4.0...}                                                                  \r\n",
       "PSRemotingProtocolVersion      2.3                                                                                      \r\n",
       "SerializationVersion           1.1.0.1                                                                                  \r\n",
       "WSManStackVersion              3.0"
      ]
     },
     "execution_count": 1,
     "metadata": {},
     "output_type": "execute_result"
    }
   ],
   "source": [
    "$PSVersionTable"
   ]
  },
  {
   "cell_type": "markdown",
   "metadata": {},
   "source": [
    "The rest of these examples actually output the same things regardless of whether you run them in PowerShell (Full) or PowerShell (Core). And I think I will probably rename \"PowerShell (Full)\" after I sleep on it ..."
   ]
  },
  {
   "cell_type": "markdown",
   "metadata": {},
   "source": [
    "## Feature Notes\n",
    "\n",
    "* Basic PowerShell stuff works. There's no interactive stuff yet (I.e.: `Read-Host` and `Get-Credential` **will fail**).\n",
    "* `Write-Jupyter` command allows you to customize output by specifying the mime type.\n",
    "* There's a config option (in `PowerShell-Kernel.Config.json`) to turn on debug output and even break into a debugger on startup."
   ]
  },
  {
   "cell_type": "code",
   "execution_count": 2,
   "metadata": {},
   "outputs": [],
   "source": [
    "$Files = Get-ChildItem -File"
   ]
  },
  {
   "cell_type": "markdown",
   "metadata": {},
   "source": [
    "### Currently there's no indicator for no output.\n",
    "\n",
    "The IPython shell returns `null` when there's no output so you can see _something_, but I'm not sure I see value in that yet.\n",
    "\n",
    "All commands are run in an ongoing session like a regular shell, so you can run multiple commands to capture, transform and output.\n",
    "\n",
    "That means you can use this to do exploration and investigations, and literate DevOps..."
   ]
  },
  {
   "cell_type": "code",
   "execution_count": 3,
   "metadata": {},
   "outputs": [
    {
     "data": {
      "text/plain": [
       "Directory: C:\\Users\\Joel\\Projects\\Jupyter\\Jupyter-PowerShell\r\n",
       "\r\n",
       "\r\n",
       "Mode                LastWriteTime         Length Name                                                                   \r\n",
       "----                -------------         ------ ----                                                                   \r\n",
       "-a----        7/12/2017   1:48 AM          93849 ReadMe.ipynb                                                           \r\n",
       "-a----        7/12/2017   1:12 AM           5035 Release.ipynb                                                          \r\n",
       "-a----        7/12/2017  12:52 AM          10113 null                                                                   \r\n",
       "-a----        7/12/2017  12:46 AM            352 nuget.config                                                           \r\n",
       "-a----         7/3/2017   1:54 AM           5906 Install.ps1                                                            \r\n",
       "-a----        6/28/2017   1:27 AM           2540 ReadMe.md                                                              \r\n",
       "-a----        6/28/2017   1:04 AM           4597 .gitignore                                                             \r\n",
       "-a----        6/27/2017   9:38 PM           1903 Jupyter-PowerShell.sln                                                 \r\n",
       "-a----        6/26/2017   1:54 PM            289 kernel.json                                                            \r\n",
       "-a----        6/24/2017   3:07 AM           1140 LICENSE.md                                                             \r\n",
       "-a----        6/16/2017  11:57 PM           2581 .gitattributes"
      ]
     },
     "execution_count": 3,
     "metadata": {},
     "output_type": "execute_result"
    }
   ],
   "source": [
    "$Files | Sort LastWriteTime -Descending"
   ]
  },
  {
   "cell_type": "markdown",
   "metadata": {},
   "source": [
    "### Write-Jupyter\n",
    "\n",
    "With the `Write-Jupyter` command, you can output HTML or Markdown, even using PowerShell's built-in ConvertTo-Html. You can either specify the Mimetype and pass in a string (or byte array for image types) like this:"
   ]
  },
  {
   "cell_type": "code",
   "execution_count": 5,
   "metadata": {
    "scrolled": true
   },
   "outputs": [
    {
     "data": {
      "text/html": [
       "<table><colgroup><col/><col/><col/><col/></colgroup><tr><th>Mode</th><th>LastWriteTime</th><th>Name</th><th>Length</th></tr><tr><td>-a----</td><td>6/16/2017 11:57:42 PM</td><td>.gitattributes</td><td>2581</td></tr><tr><td>-a----</td><td>6/28/2017 1:04:01 AM</td><td>.gitignore</td><td>4597</td></tr><tr><td>-a----</td><td>7/3/2017 1:54:06 AM</td><td>Install.ps1</td><td>5906</td></tr><tr><td>-a----</td><td>6/27/2017 9:38:09 PM</td><td>Jupyter-PowerShell.sln</td><td>1903</td></tr><tr><td>-a----</td><td>6/26/2017 1:54:08 PM</td><td>kernel.json</td><td>289</td></tr><tr><td>-a----</td><td>6/24/2017 3:07:27 AM</td><td>LICENSE.md</td><td>1140</td></tr><tr><td>-a----</td><td>7/12/2017 12:46:59 AM</td><td>nuget.config</td><td>352</td></tr><tr><td>-a----</td><td>7/12/2017 12:52:55 AM</td><td>null</td><td>10113</td></tr><tr><td>-a----</td><td>7/12/2017 1:48:29 AM</td><td>ReadMe.ipynb</td><td>93849</td></tr><tr><td>-a----</td><td>6/28/2017 1:27:51 AM</td><td>ReadMe.md</td><td>2540</td></tr><tr><td>-a----</td><td>7/12/2017 1:12:17 AM</td><td>Release.ipynb</td><td>5035</td></tr></table>"
      ]
     },
     "metadata": {},
     "output_type": "display_data"
    }
   ],
   "source": [
    "($Files | ConvertTo-Html Mode, LastWriteTime, Name, Length -Fragment) -Join \"\" | Write-Jupyter -MimeType html"
   ]
  },
  {
   "cell_type": "markdown",
   "metadata": {},
   "source": [
    "Or you can create an object with the mimetype as the property name, and the content as the value:"
   ]
  },
  {
   "cell_type": "code",
   "execution_count": 9,
   "metadata": {},
   "outputs": [
    {
     "data": {
      "text/html": [
       "<!DOCTYPE html PUBLIC \"-//W3C//DTD XHTML 1.0 Strict//EN\"  \"http://www.w3.org/TR/xhtml1/DTD/xhtml1-strict.dtd\">\r\n",
       "<html xmlns=\"http://www.w3.org/1999/xhtml\">\r\n",
       "<head>\r\n",
       "<title>HTML TABLE</title>\r\n",
       "</head><body>\r\n",
       "<table>\r\n",
       "<colgroup><col/><col/><col/><col/></colgroup>\r\n",
       "<tr><th>Mode</th><th>LastWriteTime</th><th>Name</th><th>Length</th></tr>\r\n",
       "<tr><td>-a----</td><td>6/16/2017 11:57:42 PM</td><td>.gitattributes</td><td>2581</td></tr>\r\n",
       "<tr><td>-a----</td><td>6/28/2017 1:04:01 AM</td><td>.gitignore</td><td>4597</td></tr>\r\n",
       "<tr><td>-a----</td><td>7/3/2017 1:54:06 AM</td><td>Install.ps1</td><td>5906</td></tr>\r\n",
       "<tr><td>-a----</td><td>6/27/2017 9:38:09 PM</td><td>Jupyter-PowerShell.sln</td><td>1903</td></tr>\r\n",
       "<tr><td>-a----</td><td>6/26/2017 1:54:08 PM</td><td>kernel.json</td><td>289</td></tr>\r\n",
       "<tr><td>-a----</td><td>6/24/2017 3:07:27 AM</td><td>LICENSE.md</td><td>1140</td></tr>\r\n",
       "<tr><td>-a----</td><td>7/12/2017 12:46:59 AM</td><td>nuget.config</td><td>352</td></tr>\r\n",
       "<tr><td>-a----</td><td>7/12/2017 12:52:55 AM</td><td>null</td><td>10113</td></tr>\r\n",
       "<tr><td>-a----</td><td>7/12/2017 1:48:29 AM</td><td>ReadMe.ipynb</td><td>93849</td></tr>\r\n",
       "<tr><td>-a----</td><td>6/28/2017 1:27:51 AM</td><td>ReadMe.md</td><td>2540</td></tr>\r\n",
       "<tr><td>-a----</td><td>7/12/2017 1:12:17 AM</td><td>Release.ipynb</td><td>5035</td></tr>\r\n",
       "</table>\r\n",
       "</body></html>"
      ]
     },
     "metadata": {},
     "output_type": "display_data"
    }
   ],
   "source": [
    "@{ \"html\" = $Files | ConvertTo-Html Mode, LastWriteTime, Name, Length } | Write-Jupyter"
   ]
  },
  {
   "attachments": {
    "HappyBirthday.png": {
     "image/png": "[encoded data removed]"
    }
   },
   "cell_type": "markdown",
   "metadata": {},
   "source": [
    "You can embed images into markdown by just dragging them onto the box. It'll create an attachment which will render as a data block, like this: ![HappyBirthday.png](attachment:HappyBirthday.png)\n",
    "\n",
    "You can also specify them by linking to them with HTML code, or outputting the bytes from a script command as in the following examples:"
   ]
  },
  {
   "cell_type": "code",
   "execution_count": 13,
   "metadata": {},
   "outputs": [
    {
     "data": {
      "text/html": [
       "<img src='https://upload.wikimedia.org/wikipedia/commons/2/2f/PowerShell_5.0_icon.png' width='128' />"
      ]
     },
     "metadata": {},
     "output_type": "display_data"
    }
   ],
   "source": [
    "$imageUrl = 'https://upload.wikimedia.org/wikipedia/commons/2/2f/PowerShell_5.0_icon.png'\n",
    "@{ \"html\" = \"<img src='$imageUrl' width='128' />\" } | Write-Jupyter"
   ]
  },
  {
   "cell_type": "code",
   "execution_count": 12,
   "metadata": {
    "inputHidden": false,
    "outputHidden": false
   },
   "outputs": [
    {
     "data": {
      "image/png": "[encoded data removed]"
     },
     "metadata": {
      "image/png": {
       "width": 32
      }
     },
     "output_type": "display_data"
    },
    {
     "data": {
      "image/png": "[encoded data removed]"
     },
     "metadata": {
      "image/png": {
       "width": 64
      }
     },
     "output_type": "display_data"
    },
    {
     "data": {
      "text/plain": [
       "Name                           Value                                                                                    \r\n",
       "----                           -----                                                                                    \r\n",
       "png                            {137, 80, 78, 71...}"
      ]
     },
     "execution_count": 12,
     "metadata": {},
     "output_type": "execute_result"
    }
   ],
   "source": [
    "$ImageData = @{ \"png\" = (Invoke-WebRequest $imageUrl -UseBasicParsing).RawContentStream.GetBuffer() }\n",
    "$ImageData\n",
    "\n",
    "Write-Jupyter -InputObject $ImageData -Metadata @{ \"image/png\" = @{ 'width' = 32 } }\n",
    "Write-Jupyter -InputObject $ImageData -Metadata @{ \"image/png\" = @{ 'width' = 64 } }"
   ]
  },
  {
   "cell_type": "code",
   "execution_count": 11,
   "metadata": {},
   "outputs": [
    {
     "data": {
      "text/html": [
       "<table>\r\n",
       "<colgroup><col/><col/><col/><col/></colgroup>\r\n",
       "<tr><th>Mode</th><th>LastWriteTime</th><th>Name</th><th>Length</th></tr>\r\n",
       "<tr><td>-a----</td><td>6/16/2017 11:57:42 PM</td><td>.gitattributes</td><td>2581</td></tr>\r\n",
       "</table>"
      ]
     },
     "metadata": {},
     "output_type": "display_data"
    },
    {
     "data": {
      "text/html": [
       "<table>\r\n",
       "<colgroup><col/><col/><col/><col/></colgroup>\r\n",
       "<tr><th>Mode</th><th>LastWriteTime</th><th>Name</th><th>Length</th></tr>\r\n",
       "<tr><td>-a----</td><td>6/28/2017 1:04:01 AM</td><td>.gitignore</td><td>4597</td></tr>\r\n",
       "</table>"
      ]
     },
     "metadata": {},
     "output_type": "display_data"
    },
    {
     "data": {
      "text/html": [
       "<table>\r\n",
       "<colgroup><col/><col/><col/><col/></colgroup>\r\n",
       "<tr><th>Mode</th><th>LastWriteTime</th><th>Name</th><th>Length</th></tr>\r\n",
       "<tr><td>-a----</td><td>7/3/2017 1:54:06 AM</td><td>Install.ps1</td><td>5906</td></tr>\r\n",
       "</table>"
      ]
     },
     "metadata": {},
     "output_type": "display_data"
    },
    {
     "data": {
      "text/html": [
       "<table>\r\n",
       "<colgroup><col/><col/><col/><col/></colgroup>\r\n",
       "<tr><th>Mode</th><th>LastWriteTime</th><th>Name</th><th>Length</th></tr>\r\n",
       "<tr><td>-a----</td><td>6/27/2017 9:38:09 PM</td><td>Jupyter-PowerShell.sln</td><td>1903</td></tr>\r\n",
       "</table>"
      ]
     },
     "metadata": {},
     "output_type": "display_data"
    },
    {
     "data": {
      "text/html": [
       "<table>\r\n",
       "<colgroup><col/><col/><col/><col/></colgroup>\r\n",
       "<tr><th>Mode</th><th>LastWriteTime</th><th>Name</th><th>Length</th></tr>\r\n",
       "<tr><td>-a----</td><td>6/26/2017 1:54:08 PM</td><td>kernel.json</td><td>289</td></tr>\r\n",
       "</table>"
      ]
     },
     "metadata": {},
     "output_type": "display_data"
    },
    {
     "data": {
      "text/html": [
       "<table>\r\n",
       "<colgroup><col/><col/><col/><col/></colgroup>\r\n",
       "<tr><th>Mode</th><th>LastWriteTime</th><th>Name</th><th>Length</th></tr>\r\n",
       "<tr><td>-a----</td><td>6/24/2017 3:07:27 AM</td><td>LICENSE.md</td><td>1140</td></tr>\r\n",
       "</table>"
      ]
     },
     "metadata": {},
     "output_type": "display_data"
    },
    {
     "data": {
      "text/html": [
       "<table>\r\n",
       "<colgroup><col/><col/><col/><col/></colgroup>\r\n",
       "<tr><th>Mode</th><th>LastWriteTime</th><th>Name</th><th>Length</th></tr>\r\n",
       "<tr><td>-a----</td><td>7/12/2017 12:46:59 AM</td><td>nuget.config</td><td>352</td></tr>\r\n",
       "</table>"
      ]
     },
     "metadata": {},
     "output_type": "display_data"
    },
    {
     "data": {
      "text/html": [
       "<table>\r\n",
       "<colgroup><col/><col/><col/><col/></colgroup>\r\n",
       "<tr><th>Mode</th><th>LastWriteTime</th><th>Name</th><th>Length</th></tr>\r\n",
       "<tr><td>-a----</td><td>7/12/2017 12:52:55 AM</td><td>null</td><td>10113</td></tr>\r\n",
       "</table>"
      ]
     },
     "metadata": {},
     "output_type": "display_data"
    },
    {
     "data": {
      "text/html": [
       "<table>\r\n",
       "<colgroup><col/><col/><col/><col/></colgroup>\r\n",
       "<tr><th>Mode</th><th>LastWriteTime</th><th>Name</th><th>Length</th></tr>\r\n",
       "<tr><td>-a----</td><td>7/12/2017 1:48:29 AM</td><td>ReadMe.ipynb</td><td>93849</td></tr>\r\n",
       "</table>"
      ]
     },
     "metadata": {},
     "output_type": "display_data"
    },
    {
     "data": {
      "text/html": [
       "<table>\r\n",
       "<colgroup><col/><col/><col/><col/></colgroup>\r\n",
       "<tr><th>Mode</th><th>LastWriteTime</th><th>Name</th><th>Length</th></tr>\r\n",
       "<tr><td>-a----</td><td>6/28/2017 1:27:51 AM</td><td>ReadMe.md</td><td>2540</td></tr>\r\n",
       "</table>"
      ]
     },
     "metadata": {},
     "output_type": "display_data"
    },
    {
     "data": {
      "text/html": [
       "<table>\r\n",
       "<colgroup><col/><col/><col/><col/></colgroup>\r\n",
       "<tr><th>Mode</th><th>LastWriteTime</th><th>Name</th><th>Length</th></tr>\r\n",
       "<tr><td>-a----</td><td>7/12/2017 1:12:17 AM</td><td>Release.ipynb</td><td>5035</td></tr>\r\n",
       "</table>"
      ]
     },
     "metadata": {},
     "output_type": "display_data"
    }
   ],
   "source": [
    "# You can add rendering properties to objects: text, html, markdown, latex, json, javascript, png, jpeg, svg ...\n",
    "$Files | Add-Member ScriptProperty html {$this | ConvertTo-Html Mode, LastWriteTime, Name, Length -Fragment } -Force\n",
    "$Files | Write-Jupyter"
   ]
  },
  {
   "cell_type": "code",
   "execution_count": 10,
   "metadata": {
    "scrolled": true
   },
   "outputs": [
    {
     "data": {
      "application/json": [
       {
        "Attributes": 32,
        "BaseName": "",
        "CreationTime": "2017-06-17T03:57:42.671Z",
        "CreationTimeUtc": "2017-06-17T03:57:42.671Z",
        "Directory": {
         "Attributes": 16,
         "CreationTime": "2017-06-17T03:57:32.937Z",
         "CreationTimeUtc": "2017-06-17T03:57:32.937Z",
         "Exists": true,
         "Extension": "",
         "FullName": "C:\\Users\\Joel\\Projects\\Jupyter\\Jupyter-PowerShell",
         "LastAccessTime": "2017-07-12T05:58:29.597Z",
         "LastAccessTimeUtc": "2017-07-12T05:58:29.597Z",
         "LastWriteTime": "2017-07-12T05:58:29.597Z",
         "LastWriteTimeUtc": "2017-07-12T05:58:29.597Z",
         "Name": "Jupyter-PowerShell",
         "Parent": "Jupyter",
         "Root": "C:\\"
        },
        "DirectoryName": "C:\\Users\\Joel\\Projects\\Jupyter\\Jupyter-PowerShell",
        "Exists": true,
        "Extension": ".gitattributes",
        "FullName": "C:\\Users\\Joel\\Projects\\Jupyter\\Jupyter-PowerShell\\.gitattributes",
        "IsReadOnly": false,
        "LastAccessTime": "2017-06-17T03:57:42.671Z",
        "LastAccessTimeUtc": "2017-06-17T03:57:42.671Z",
        "LastWriteTime": "2017-06-17T03:57:42.676Z",
        "LastWriteTimeUtc": "2017-06-17T03:57:42.676Z",
        "Length": 2581,
        "LinkType": null,
        "Mode": "-a----",
        "Name": ".gitattributes",
        "PSChildName": ".gitattributes",
        "PSDrive": {
         "Credential": "System.Management.Automation.PSCredential",
         "CurrentLocation": "Users\\Joel\\Projects\\Jupyter\\Jupyter-PowerShell",
         "Description": "Crucial",
         "DisplayRoot": null,
         "MaximumSize": null,
         "Name": "C",
         "Provider": "Microsoft.PowerShell.Core\\FileSystem",
         "Root": "C:\\"
        },
        "PSIsContainer": false,
        "PSParentPath": "Microsoft.PowerShell.Core\\FileSystem::C:\\Users\\Joel\\Projects\\Jupyter\\Jupyter-PowerShell",
        "PSPath": "Microsoft.PowerShell.Core\\FileSystem::C:\\Users\\Joel\\Projects\\Jupyter\\Jupyter-PowerShell\\.gitattributes",
        "PSProvider": {
         "Capabilities": 52,
         "Description": "",
         "Drives": "C D E L F G H I J K",
         "HelpFile": "System.Management.Automation.dll-Help.xml",
         "Home": "C:\\Users\\Joel",
         "ImplementingType": "Microsoft.PowerShell.Commands.FileSystemProvider",
         "Module": null,
         "ModuleName": "Microsoft.PowerShell.Core",
         "Name": "FileSystem",
         "PSSnapIn": "Microsoft.PowerShell.Core"
        },
        "Target": [],
        "VersionInfo": {
         "Comments": null,
         "CompanyName": null,
         "FileBuildPart": 0,
         "FileDescription": null,
         "FileMajorPart": 0,
         "FileMinorPart": 0,
         "FileName": "C:\\Users\\Joel\\Projects\\Jupyter\\Jupyter-PowerShell\\.gitattributes",
         "FilePrivatePart": 0,
         "FileVersion": null,
         "FileVersionRaw": "0.0.0.0",
         "InternalName": null,
         "IsDebug": false,
         "IsPatched": false,
         "IsPreRelease": false,
         "IsPrivateBuild": false,
         "IsSpecialBuild": false,
         "Language": null,
         "LegalCopyright": null,
         "LegalTrademarks": null,
         "OriginalFilename": null,
         "PrivateBuild": null,
         "ProductBuildPart": 0,
         "ProductMajorPart": 0,
         "ProductMinorPart": 0,
         "ProductName": null,
         "ProductPrivatePart": 0,
         "ProductVersion": null,
         "ProductVersionRaw": "0.0.0.0",
         "SpecialBuild": null
        }
       },
       {
        "Attributes": 32,
        "BaseName": "",
        "CreationTime": "2017-06-17T03:57:42.677Z",
        "CreationTimeUtc": "2017-06-17T03:57:42.677Z",
        "Directory": {
         "Attributes": 16,
         "CreationTime": "2017-06-17T03:57:32.937Z",
         "CreationTimeUtc": "2017-06-17T03:57:32.937Z",
         "Exists": true,
         "Extension": "",
         "FullName": "C:\\Users\\Joel\\Projects\\Jupyter\\Jupyter-PowerShell",
         "LastAccessTime": "2017-07-12T05:58:29.597Z",
         "LastAccessTimeUtc": "2017-07-12T05:58:29.597Z",
         "LastWriteTime": "2017-07-12T05:58:29.597Z",
         "LastWriteTimeUtc": "2017-07-12T05:58:29.597Z",
         "Name": "Jupyter-PowerShell",
         "Parent": "Jupyter",
         "Root": "C:\\"
        },
        "DirectoryName": "C:\\Users\\Joel\\Projects\\Jupyter\\Jupyter-PowerShell",
        "Exists": true,
        "Extension": ".gitignore",
        "FullName": "C:\\Users\\Joel\\Projects\\Jupyter\\Jupyter-PowerShell\\.gitignore",
        "IsReadOnly": false,
        "LastAccessTime": "2017-06-17T03:57:42.677Z",
        "LastAccessTimeUtc": "2017-06-17T03:57:42.677Z",
        "LastWriteTime": "2017-06-28T05:04:01.965Z",
        "LastWriteTimeUtc": "2017-06-28T05:04:01.965Z",
        "Length": 4597,
        "LinkType": null,
        "Mode": "-a----",
        "Name": ".gitignore",
        "PSChildName": ".gitignore",
        "PSDrive": {
         "Credential": "System.Management.Automation.PSCredential",
         "CurrentLocation": "Users\\Joel\\Projects\\Jupyter\\Jupyter-PowerShell",
         "Description": "Crucial",
         "DisplayRoot": null,
         "MaximumSize": null,
         "Name": "C",
         "Provider": "Microsoft.PowerShell.Core\\FileSystem",
         "Root": "C:\\"
        },
        "PSIsContainer": false,
        "PSParentPath": "Microsoft.PowerShell.Core\\FileSystem::C:\\Users\\Joel\\Projects\\Jupyter\\Jupyter-PowerShell",
        "PSPath": "Microsoft.PowerShell.Core\\FileSystem::C:\\Users\\Joel\\Projects\\Jupyter\\Jupyter-PowerShell\\.gitignore",
        "PSProvider": {
         "Capabilities": 52,
         "Description": "",
         "Drives": "C D E L F G H I J K",
         "HelpFile": "System.Management.Automation.dll-Help.xml",
         "Home": "C:\\Users\\Joel",
         "ImplementingType": "Microsoft.PowerShell.Commands.FileSystemProvider",
         "Module": null,
         "ModuleName": "Microsoft.PowerShell.Core",
         "Name": "FileSystem",
         "PSSnapIn": "Microsoft.PowerShell.Core"
        },
        "Target": [],
        "VersionInfo": {
         "Comments": null,
         "CompanyName": null,
         "FileBuildPart": 0,
         "FileDescription": null,
         "FileMajorPart": 0,
         "FileMinorPart": 0,
         "FileName": "C:\\Users\\Joel\\Projects\\Jupyter\\Jupyter-PowerShell\\.gitignore",
         "FilePrivatePart": 0,
         "FileVersion": null,
         "FileVersionRaw": "0.0.0.0",
         "InternalName": null,
         "IsDebug": false,
         "IsPatched": false,
         "IsPreRelease": false,
         "IsPrivateBuild": false,
         "IsSpecialBuild": false,
         "Language": null,
         "LegalCopyright": null,
         "LegalTrademarks": null,
         "OriginalFilename": null,
         "PrivateBuild": null,
         "ProductBuildPart": 0,
         "ProductMajorPart": 0,
         "ProductMinorPart": 0,
         "ProductName": null,
         "ProductPrivatePart": 0,
         "ProductVersion": null,
         "ProductVersionRaw": "0.0.0.0",
         "SpecialBuild": null
        }
       },
       {
        "Attributes": 32,
        "BaseName": "Install",
        "CreationTime": "2017-06-27T05:56:20.569Z",
        "CreationTimeUtc": "2017-06-27T05:56:20.569Z",
        "Directory": {
         "Attributes": 16,
         "CreationTime": "2017-06-17T03:57:32.937Z",
         "CreationTimeUtc": "2017-06-17T03:57:32.937Z",
         "Exists": true,
         "Extension": "",
         "FullName": "C:\\Users\\Joel\\Projects\\Jupyter\\Jupyter-PowerShell",
         "LastAccessTime": "2017-07-12T05:58:29.597Z",
         "LastAccessTimeUtc": "2017-07-12T05:58:29.597Z",
         "LastWriteTime": "2017-07-12T05:58:29.597Z",
         "LastWriteTimeUtc": "2017-07-12T05:58:29.597Z",
         "Name": "Jupyter-PowerShell",
         "Parent": "Jupyter",
         "Root": "C:\\"
        },
        "DirectoryName": "C:\\Users\\Joel\\Projects\\Jupyter\\Jupyter-PowerShell",
        "Exists": true,
        "Extension": ".ps1",
        "FullName": "C:\\Users\\Joel\\Projects\\Jupyter\\Jupyter-PowerShell\\Install.ps1",
        "IsReadOnly": false,
        "LastAccessTime": "2017-07-03T05:54:06.369Z",
        "LastAccessTimeUtc": "2017-07-03T05:54:06.369Z",
        "LastWriteTime": "2017-07-03T05:54:06.377Z",
        "LastWriteTimeUtc": "2017-07-03T05:54:06.377Z",
        "Length": 5906,
        "LinkType": null,
        "Mode": "-a----",
        "Name": "Install.ps1",
        "PSChildName": "Install.ps1",
        "PSDrive": {
         "Credential": "System.Management.Automation.PSCredential",
         "CurrentLocation": "Users\\Joel\\Projects\\Jupyter\\Jupyter-PowerShell",
         "Description": "Crucial",
         "DisplayRoot": null,
         "MaximumSize": null,
         "Name": "C",
         "Provider": "Microsoft.PowerShell.Core\\FileSystem",
         "Root": "C:\\"
        },
        "PSIsContainer": false,
        "PSParentPath": "Microsoft.PowerShell.Core\\FileSystem::C:\\Users\\Joel\\Projects\\Jupyter\\Jupyter-PowerShell",
        "PSPath": "Microsoft.PowerShell.Core\\FileSystem::C:\\Users\\Joel\\Projects\\Jupyter\\Jupyter-PowerShell\\Install.ps1",
        "PSProvider": {
         "Capabilities": 52,
         "Description": "",
         "Drives": "C D E L F G H I J K",
         "HelpFile": "System.Management.Automation.dll-Help.xml",
         "Home": "C:\\Users\\Joel",
         "ImplementingType": "Microsoft.PowerShell.Commands.FileSystemProvider",
         "Module": null,
         "ModuleName": "Microsoft.PowerShell.Core",
         "Name": "FileSystem",
         "PSSnapIn": "Microsoft.PowerShell.Core"
        },
        "Target": [],
        "VersionInfo": {
         "Comments": null,
         "CompanyName": null,
         "FileBuildPart": 0,
         "FileDescription": null,
         "FileMajorPart": 0,
         "FileMinorPart": 0,
         "FileName": "C:\\Users\\Joel\\Projects\\Jupyter\\Jupyter-PowerShell\\Install.ps1",
         "FilePrivatePart": 0,
         "FileVersion": null,
         "FileVersionRaw": "0.0.0.0",
         "InternalName": null,
         "IsDebug": false,
         "IsPatched": false,
         "IsPreRelease": false,
         "IsPrivateBuild": false,
         "IsSpecialBuild": false,
         "Language": null,
         "LegalCopyright": null,
         "LegalTrademarks": null,
         "OriginalFilename": null,
         "PrivateBuild": null,
         "ProductBuildPart": 0,
         "ProductMajorPart": 0,
         "ProductMinorPart": 0,
         "ProductName": null,
         "ProductPrivatePart": 0,
         "ProductVersion": null,
         "ProductVersionRaw": "0.0.0.0",
         "SpecialBuild": null
        }
       },
       {
        "Attributes": 32,
        "BaseName": "Jupyter-PowerShell",
        "CreationTime": "2017-06-17T03:57:33.887Z",
        "CreationTimeUtc": "2017-06-17T03:57:33.887Z",
        "Directory": {
         "Attributes": 16,
         "CreationTime": "2017-06-17T03:57:32.937Z",
         "CreationTimeUtc": "2017-06-17T03:57:32.937Z",
         "Exists": true,
         "Extension": "",
         "FullName": "C:\\Users\\Joel\\Projects\\Jupyter\\Jupyter-PowerShell",
         "LastAccessTime": "2017-07-12T05:58:29.597Z",
         "LastAccessTimeUtc": "2017-07-12T05:58:29.597Z",
         "LastWriteTime": "2017-07-12T05:58:29.597Z",
         "LastWriteTimeUtc": "2017-07-12T05:58:29.597Z",
         "Name": "Jupyter-PowerShell",
         "Parent": "Jupyter",
         "Root": "C:\\"
        },
        "DirectoryName": "C:\\Users\\Joel\\Projects\\Jupyter\\Jupyter-PowerShell",
        "Exists": true,
        "Extension": ".sln",
        "FullName": "C:\\Users\\Joel\\Projects\\Jupyter\\Jupyter-PowerShell\\Jupyter-PowerShell.sln",
        "IsReadOnly": false,
        "LastAccessTime": "2017-06-26T17:54:08.461Z",
        "LastAccessTimeUtc": "2017-06-26T17:54:08.461Z",
        "LastWriteTime": "2017-06-28T01:38:09.843Z",
        "LastWriteTimeUtc": "2017-06-28T01:38:09.843Z",
        "Length": 1903,
        "LinkType": null,
        "Mode": "-a----",
        "Name": "Jupyter-PowerShell.sln",
        "PSChildName": "Jupyter-PowerShell.sln",
        "PSDrive": {
         "Credential": "System.Management.Automation.PSCredential",
         "CurrentLocation": "Users\\Joel\\Projects\\Jupyter\\Jupyter-PowerShell",
         "Description": "Crucial",
         "DisplayRoot": null,
         "MaximumSize": null,
         "Name": "C",
         "Provider": "Microsoft.PowerShell.Core\\FileSystem",
         "Root": "C:\\"
        },
        "PSIsContainer": false,
        "PSParentPath": "Microsoft.PowerShell.Core\\FileSystem::C:\\Users\\Joel\\Projects\\Jupyter\\Jupyter-PowerShell",
        "PSPath": "Microsoft.PowerShell.Core\\FileSystem::C:\\Users\\Joel\\Projects\\Jupyter\\Jupyter-PowerShell\\Jupyter-PowerShell.sln",
        "PSProvider": {
         "Capabilities": 52,
         "Description": "",
         "Drives": "C D E L F G H I J K",
         "HelpFile": "System.Management.Automation.dll-Help.xml",
         "Home": "C:\\Users\\Joel",
         "ImplementingType": "Microsoft.PowerShell.Commands.FileSystemProvider",
         "Module": null,
         "ModuleName": "Microsoft.PowerShell.Core",
         "Name": "FileSystem",
         "PSSnapIn": "Microsoft.PowerShell.Core"
        },
        "Target": [],
        "VersionInfo": {
         "Comments": null,
         "CompanyName": null,
         "FileBuildPart": 0,
         "FileDescription": null,
         "FileMajorPart": 0,
         "FileMinorPart": 0,
         "FileName": "C:\\Users\\Joel\\Projects\\Jupyter\\Jupyter-PowerShell\\Jupyter-PowerShell.sln",
         "FilePrivatePart": 0,
         "FileVersion": null,
         "FileVersionRaw": "0.0.0.0",
         "InternalName": null,
         "IsDebug": false,
         "IsPatched": false,
         "IsPreRelease": false,
         "IsPrivateBuild": false,
         "IsSpecialBuild": false,
         "Language": null,
         "LegalCopyright": null,
         "LegalTrademarks": null,
         "OriginalFilename": null,
         "PrivateBuild": null,
         "ProductBuildPart": 0,
         "ProductMajorPart": 0,
         "ProductMinorPart": 0,
         "ProductName": null,
         "ProductPrivatePart": 0,
         "ProductVersion": null,
         "ProductVersionRaw": "0.0.0.0",
         "SpecialBuild": null
        }
       },
       {
        "Attributes": 32,
        "BaseName": "kernel",
        "CreationTime": "2017-06-23T04:47:26.646Z",
        "CreationTimeUtc": "2017-06-23T04:47:26.646Z",
        "Directory": {
         "Attributes": 16,
         "CreationTime": "2017-06-17T03:57:32.937Z",
         "CreationTimeUtc": "2017-06-17T03:57:32.937Z",
         "Exists": true,
         "Extension": "",
         "FullName": "C:\\Users\\Joel\\Projects\\Jupyter\\Jupyter-PowerShell",
         "LastAccessTime": "2017-07-12T05:58:29.597Z",
         "LastAccessTimeUtc": "2017-07-12T05:58:29.597Z",
         "LastWriteTime": "2017-07-12T05:58:29.597Z",
         "LastWriteTimeUtc": "2017-07-12T05:58:29.597Z",
         "Name": "Jupyter-PowerShell",
         "Parent": "Jupyter",
         "Root": "C:\\"
        },
        "DirectoryName": "C:\\Users\\Joel\\Projects\\Jupyter\\Jupyter-PowerShell",
        "Exists": true,
        "Extension": ".json",
        "FullName": "C:\\Users\\Joel\\Projects\\Jupyter\\Jupyter-PowerShell\\kernel.json",
        "IsReadOnly": false,
        "LastAccessTime": "2017-06-26T17:54:08.399Z",
        "LastAccessTimeUtc": "2017-06-26T17:54:08.399Z",
        "LastWriteTime": "2017-06-26T17:54:08.4Z",
        "LastWriteTimeUtc": "2017-06-26T17:54:08.4Z",
        "Length": 289,
        "LinkType": null,
        "Mode": "-a----",
        "Name": "kernel.json",
        "PSChildName": "kernel.json",
        "PSDrive": {
         "Credential": "System.Management.Automation.PSCredential",
         "CurrentLocation": "Users\\Joel\\Projects\\Jupyter\\Jupyter-PowerShell",
         "Description": "Crucial",
         "DisplayRoot": null,
         "MaximumSize": null,
         "Name": "C",
         "Provider": "Microsoft.PowerShell.Core\\FileSystem",
         "Root": "C:\\"
        },
        "PSIsContainer": false,
        "PSParentPath": "Microsoft.PowerShell.Core\\FileSystem::C:\\Users\\Joel\\Projects\\Jupyter\\Jupyter-PowerShell",
        "PSPath": "Microsoft.PowerShell.Core\\FileSystem::C:\\Users\\Joel\\Projects\\Jupyter\\Jupyter-PowerShell\\kernel.json",
        "PSProvider": {
         "Capabilities": 52,
         "Description": "",
         "Drives": "C D E L F G H I J K",
         "HelpFile": "System.Management.Automation.dll-Help.xml",
         "Home": "C:\\Users\\Joel",
         "ImplementingType": "Microsoft.PowerShell.Commands.FileSystemProvider",
         "Module": null,
         "ModuleName": "Microsoft.PowerShell.Core",
         "Name": "FileSystem",
         "PSSnapIn": "Microsoft.PowerShell.Core"
        },
        "Target": [],
        "VersionInfo": {
         "Comments": null,
         "CompanyName": null,
         "FileBuildPart": 0,
         "FileDescription": null,
         "FileMajorPart": 0,
         "FileMinorPart": 0,
         "FileName": "C:\\Users\\Joel\\Projects\\Jupyter\\Jupyter-PowerShell\\kernel.json",
         "FilePrivatePart": 0,
         "FileVersion": null,
         "FileVersionRaw": "0.0.0.0",
         "InternalName": null,
         "IsDebug": false,
         "IsPatched": false,
         "IsPreRelease": false,
         "IsPrivateBuild": false,
         "IsSpecialBuild": false,
         "Language": null,
         "LegalCopyright": null,
         "LegalTrademarks": null,
         "OriginalFilename": null,
         "PrivateBuild": null,
         "ProductBuildPart": 0,
         "ProductMajorPart": 0,
         "ProductMinorPart": 0,
         "ProductName": null,
         "ProductPrivatePart": 0,
         "ProductVersion": null,
         "ProductVersionRaw": "0.0.0.0",
         "SpecialBuild": null
        }
       },
       {
        "Attributes": 32,
        "BaseName": "LICENSE",
        "CreationTime": "2017-06-24T07:06:41.906Z",
        "CreationTimeUtc": "2017-06-24T07:06:41.906Z",
        "Directory": {
         "Attributes": 16,
         "CreationTime": "2017-06-17T03:57:32.937Z",
         "CreationTimeUtc": "2017-06-17T03:57:32.937Z",
         "Exists": true,
         "Extension": "",
         "FullName": "C:\\Users\\Joel\\Projects\\Jupyter\\Jupyter-PowerShell",
         "LastAccessTime": "2017-07-12T05:58:29.597Z",
         "LastAccessTimeUtc": "2017-07-12T05:58:29.597Z",
         "LastWriteTime": "2017-07-12T05:58:29.597Z",
         "LastWriteTimeUtc": "2017-07-12T05:58:29.597Z",
         "Name": "Jupyter-PowerShell",
         "Parent": "Jupyter",
         "Root": "C:\\"
        },
        "DirectoryName": "C:\\Users\\Joel\\Projects\\Jupyter\\Jupyter-PowerShell",
        "Exists": true,
        "Extension": ".md",
        "FullName": "C:\\Users\\Joel\\Projects\\Jupyter\\Jupyter-PowerShell\\LICENSE.md",
        "IsReadOnly": false,
        "LastAccessTime": "2017-06-24T07:07:27.831Z",
        "LastAccessTimeUtc": "2017-06-24T07:07:27.831Z",
        "LastWriteTime": "2017-06-24T07:07:27.836Z",
        "LastWriteTimeUtc": "2017-06-24T07:07:27.836Z",
        "Length": 1140,
        "LinkType": null,
        "Mode": "-a----",
        "Name": "LICENSE.md",
        "PSChildName": "LICENSE.md",
        "PSDrive": {
         "Credential": "System.Management.Automation.PSCredential",
         "CurrentLocation": "Users\\Joel\\Projects\\Jupyter\\Jupyter-PowerShell",
         "Description": "Crucial",
         "DisplayRoot": null,
         "MaximumSize": null,
         "Name": "C",
         "Provider": "Microsoft.PowerShell.Core\\FileSystem",
         "Root": "C:\\"
        },
        "PSIsContainer": false,
        "PSParentPath": "Microsoft.PowerShell.Core\\FileSystem::C:\\Users\\Joel\\Projects\\Jupyter\\Jupyter-PowerShell",
        "PSPath": "Microsoft.PowerShell.Core\\FileSystem::C:\\Users\\Joel\\Projects\\Jupyter\\Jupyter-PowerShell\\LICENSE.md",
        "PSProvider": {
         "Capabilities": 52,
         "Description": "",
         "Drives": "C D E L F G H I J K",
         "HelpFile": "System.Management.Automation.dll-Help.xml",
         "Home": "C:\\Users\\Joel",
         "ImplementingType": "Microsoft.PowerShell.Commands.FileSystemProvider",
         "Module": null,
         "ModuleName": "Microsoft.PowerShell.Core",
         "Name": "FileSystem",
         "PSSnapIn": "Microsoft.PowerShell.Core"
        },
        "Target": [],
        "VersionInfo": {
         "Comments": null,
         "CompanyName": null,
         "FileBuildPart": 0,
         "FileDescription": null,
         "FileMajorPart": 0,
         "FileMinorPart": 0,
         "FileName": "C:\\Users\\Joel\\Projects\\Jupyter\\Jupyter-PowerShell\\LICENSE.md",
         "FilePrivatePart": 0,
         "FileVersion": null,
         "FileVersionRaw": "0.0.0.0",
         "InternalName": null,
         "IsDebug": false,
         "IsPatched": false,
         "IsPreRelease": false,
         "IsPrivateBuild": false,
         "IsSpecialBuild": false,
         "Language": null,
         "LegalCopyright": null,
         "LegalTrademarks": null,
         "OriginalFilename": null,
         "PrivateBuild": null,
         "ProductBuildPart": 0,
         "ProductMajorPart": 0,
         "ProductMinorPart": 0,
         "ProductName": null,
         "ProductPrivatePart": 0,
         "ProductVersion": null,
         "ProductVersionRaw": "0.0.0.0",
         "SpecialBuild": null
        }
       },
       {
        "Attributes": 32,
        "BaseName": "nuget",
        "CreationTime": "2017-07-12T04:46:59.999Z",
        "CreationTimeUtc": "2017-07-12T04:46:59.999Z",
        "Directory": {
         "Attributes": 16,
         "CreationTime": "2017-06-17T03:57:32.937Z",
         "CreationTimeUtc": "2017-06-17T03:57:32.937Z",
         "Exists": true,
         "Extension": "",
         "FullName": "C:\\Users\\Joel\\Projects\\Jupyter\\Jupyter-PowerShell",
         "LastAccessTime": "2017-07-12T05:58:29.597Z",
         "LastAccessTimeUtc": "2017-07-12T05:58:29.597Z",
         "LastWriteTime": "2017-07-12T05:58:29.597Z",
         "LastWriteTimeUtc": "2017-07-12T05:58:29.597Z",
         "Name": "Jupyter-PowerShell",
         "Parent": "Jupyter",
         "Root": "C:\\"
        },
        "DirectoryName": "C:\\Users\\Joel\\Projects\\Jupyter\\Jupyter-PowerShell",
        "Exists": true,
        "Extension": ".config",
        "FullName": "C:\\Users\\Joel\\Projects\\Jupyter\\Jupyter-PowerShell\\nuget.config",
        "IsReadOnly": false,
        "LastAccessTime": "2017-07-12T04:46:59.999Z",
        "LastAccessTimeUtc": "2017-07-12T04:46:59.999Z",
        "LastWriteTime": "2017-07-12T04:46:59.999Z",
        "LastWriteTimeUtc": "2017-07-12T04:46:59.999Z",
        "Length": 352,
        "LinkType": null,
        "Mode": "-a----",
        "Name": "nuget.config",
        "PSChildName": "nuget.config",
        "PSDrive": {
         "Credential": "System.Management.Automation.PSCredential",
         "CurrentLocation": "Users\\Joel\\Projects\\Jupyter\\Jupyter-PowerShell",
         "Description": "Crucial",
         "DisplayRoot": null,
         "MaximumSize": null,
         "Name": "C",
         "Provider": "Microsoft.PowerShell.Core\\FileSystem",
         "Root": "C:\\"
        },
        "PSIsContainer": false,
        "PSParentPath": "Microsoft.PowerShell.Core\\FileSystem::C:\\Users\\Joel\\Projects\\Jupyter\\Jupyter-PowerShell",
        "PSPath": "Microsoft.PowerShell.Core\\FileSystem::C:\\Users\\Joel\\Projects\\Jupyter\\Jupyter-PowerShell\\nuget.config",
        "PSProvider": {
         "Capabilities": 52,
         "Description": "",
         "Drives": "C D E L F G H I J K",
         "HelpFile": "System.Management.Automation.dll-Help.xml",
         "Home": "C:\\Users\\Joel",
         "ImplementingType": "Microsoft.PowerShell.Commands.FileSystemProvider",
         "Module": null,
         "ModuleName": "Microsoft.PowerShell.Core",
         "Name": "FileSystem",
         "PSSnapIn": "Microsoft.PowerShell.Core"
        },
        "Target": [],
        "VersionInfo": {
         "Comments": null,
         "CompanyName": null,
         "FileBuildPart": 0,
         "FileDescription": null,
         "FileMajorPart": 0,
         "FileMinorPart": 0,
         "FileName": "C:\\Users\\Joel\\Projects\\Jupyter\\Jupyter-PowerShell\\nuget.config",
         "FilePrivatePart": 0,
         "FileVersion": null,
         "FileVersionRaw": "0.0.0.0",
         "InternalName": null,
         "IsDebug": false,
         "IsPatched": false,
         "IsPreRelease": false,
         "IsPrivateBuild": false,
         "IsSpecialBuild": false,
         "Language": null,
         "LegalCopyright": null,
         "LegalTrademarks": null,
         "OriginalFilename": null,
         "PrivateBuild": null,
         "ProductBuildPart": 0,
         "ProductMajorPart": 0,
         "ProductMinorPart": 0,
         "ProductName": null,
         "ProductPrivatePart": 0,
         "ProductVersion": null,
         "ProductVersionRaw": "0.0.0.0",
         "SpecialBuild": null
        }
       },
       {
        "Attributes": 32,
        "BaseName": "null",
        "CreationTime": "2017-07-12T04:52:35.671Z",
        "CreationTimeUtc": "2017-07-12T04:52:35.671Z",
        "Directory": {
         "Attributes": 16,
         "CreationTime": "2017-06-17T03:57:32.937Z",
         "CreationTimeUtc": "2017-06-17T03:57:32.937Z",
         "Exists": true,
         "Extension": "",
         "FullName": "C:\\Users\\Joel\\Projects\\Jupyter\\Jupyter-PowerShell",
         "LastAccessTime": "2017-07-12T05:58:29.597Z",
         "LastAccessTimeUtc": "2017-07-12T05:58:29.597Z",
         "LastWriteTime": "2017-07-12T05:58:29.597Z",
         "LastWriteTimeUtc": "2017-07-12T05:58:29.597Z",
         "Name": "Jupyter-PowerShell",
         "Parent": "Jupyter",
         "Root": "C:\\"
        },
        "DirectoryName": "C:\\Users\\Joel\\Projects\\Jupyter\\Jupyter-PowerShell",
        "Exists": true,
        "Extension": "",
        "FullName": "C:\\Users\\Joel\\Projects\\Jupyter\\Jupyter-PowerShell\\null",
        "IsReadOnly": false,
        "LastAccessTime": "2017-07-12T04:52:35.671Z",
        "LastAccessTimeUtc": "2017-07-12T04:52:35.671Z",
        "LastWriteTime": "2017-07-12T04:52:55.853Z",
        "LastWriteTimeUtc": "2017-07-12T04:52:55.853Z",
        "Length": 10113,
        "LinkType": null,
        "Mode": "-a----",
        "Name": "null",
        "PSChildName": "null",
        "PSDrive": {
         "Credential": "System.Management.Automation.PSCredential",
         "CurrentLocation": "Users\\Joel\\Projects\\Jupyter\\Jupyter-PowerShell",
         "Description": "Crucial",
         "DisplayRoot": null,
         "MaximumSize": null,
         "Name": "C",
         "Provider": "Microsoft.PowerShell.Core\\FileSystem",
         "Root": "C:\\"
        },
        "PSIsContainer": false,
        "PSParentPath": "Microsoft.PowerShell.Core\\FileSystem::C:\\Users\\Joel\\Projects\\Jupyter\\Jupyter-PowerShell",
        "PSPath": "Microsoft.PowerShell.Core\\FileSystem::C:\\Users\\Joel\\Projects\\Jupyter\\Jupyter-PowerShell\\null",
        "PSProvider": {
         "Capabilities": 52,
         "Description": "",
         "Drives": "C D E L F G H I J K",
         "HelpFile": "System.Management.Automation.dll-Help.xml",
         "Home": "C:\\Users\\Joel",
         "ImplementingType": "Microsoft.PowerShell.Commands.FileSystemProvider",
         "Module": null,
         "ModuleName": "Microsoft.PowerShell.Core",
         "Name": "FileSystem",
         "PSSnapIn": "Microsoft.PowerShell.Core"
        },
        "Target": [],
        "VersionInfo": {
         "Comments": null,
         "CompanyName": null,
         "FileBuildPart": 0,
         "FileDescription": null,
         "FileMajorPart": 0,
         "FileMinorPart": 0,
         "FileName": "C:\\Users\\Joel\\Projects\\Jupyter\\Jupyter-PowerShell\\null",
         "FilePrivatePart": 0,
         "FileVersion": null,
         "FileVersionRaw": "0.0.0.0",
         "InternalName": null,
         "IsDebug": false,
         "IsPatched": false,
         "IsPreRelease": false,
         "IsPrivateBuild": false,
         "IsSpecialBuild": false,
         "Language": null,
         "LegalCopyright": null,
         "LegalTrademarks": null,
         "OriginalFilename": null,
         "PrivateBuild": null,
         "ProductBuildPart": 0,
         "ProductMajorPart": 0,
         "ProductMinorPart": 0,
         "ProductName": null,
         "ProductPrivatePart": 0,
         "ProductVersion": null,
         "ProductVersionRaw": "0.0.0.0",
         "SpecialBuild": null
        }
       },
       {
        "Attributes": 32,
        "BaseName": "ReadMe",
        "CreationTime": "2017-06-25T04:18:58.869Z",
        "CreationTimeUtc": "2017-06-25T04:18:58.869Z",
        "Directory": {
         "Attributes": 16,
         "CreationTime": "2017-06-17T03:57:32.937Z",
         "CreationTimeUtc": "2017-06-17T03:57:32.937Z",
         "Exists": true,
         "Extension": "",
         "FullName": "C:\\Users\\Joel\\Projects\\Jupyter\\Jupyter-PowerShell",
         "LastAccessTime": "2017-07-12T05:58:29.597Z",
         "LastAccessTimeUtc": "2017-07-12T05:58:29.597Z",
         "LastWriteTime": "2017-07-12T05:58:29.597Z",
         "LastWriteTimeUtc": "2017-07-12T05:58:29.597Z",
         "Name": "Jupyter-PowerShell",
         "Parent": "Jupyter",
         "Root": "C:\\"
        },
        "DirectoryName": "C:\\Users\\Joel\\Projects\\Jupyter\\Jupyter-PowerShell",
        "Exists": true,
        "Extension": ".ipynb",
        "FullName": "C:\\Users\\Joel\\Projects\\Jupyter\\Jupyter-PowerShell\\ReadMe.ipynb",
        "IsReadOnly": false,
        "LastAccessTime": "2017-07-04T06:53:22.917Z",
        "LastAccessTimeUtc": "2017-07-04T06:53:22.917Z",
        "LastWriteTime": "2017-07-12T05:48:29.571Z",
        "LastWriteTimeUtc": "2017-07-12T05:48:29.571Z",
        "Length": 93849,
        "LinkType": null,
        "Mode": "-a----",
        "Name": "ReadMe.ipynb",
        "PSChildName": "ReadMe.ipynb",
        "PSDrive": {
         "Credential": "System.Management.Automation.PSCredential",
         "CurrentLocation": "Users\\Joel\\Projects\\Jupyter\\Jupyter-PowerShell",
         "Description": "Crucial",
         "DisplayRoot": null,
         "MaximumSize": null,
         "Name": "C",
         "Provider": "Microsoft.PowerShell.Core\\FileSystem",
         "Root": "C:\\"
        },
        "PSIsContainer": false,
        "PSParentPath": "Microsoft.PowerShell.Core\\FileSystem::C:\\Users\\Joel\\Projects\\Jupyter\\Jupyter-PowerShell",
        "PSPath": "Microsoft.PowerShell.Core\\FileSystem::C:\\Users\\Joel\\Projects\\Jupyter\\Jupyter-PowerShell\\ReadMe.ipynb",
        "PSProvider": {
         "Capabilities": 52,
         "Description": "",
         "Drives": "C D E L F G H I J K",
         "HelpFile": "System.Management.Automation.dll-Help.xml",
         "Home": "C:\\Users\\Joel",
         "ImplementingType": "Microsoft.PowerShell.Commands.FileSystemProvider",
         "Module": null,
         "ModuleName": "Microsoft.PowerShell.Core",
         "Name": "FileSystem",
         "PSSnapIn": "Microsoft.PowerShell.Core"
        },
        "Target": [],
        "VersionInfo": {
         "Comments": null,
         "CompanyName": null,
         "FileBuildPart": 0,
         "FileDescription": null,
         "FileMajorPart": 0,
         "FileMinorPart": 0,
         "FileName": "C:\\Users\\Joel\\Projects\\Jupyter\\Jupyter-PowerShell\\ReadMe.ipynb",
         "FilePrivatePart": 0,
         "FileVersion": null,
         "FileVersionRaw": "0.0.0.0",
         "InternalName": null,
         "IsDebug": false,
         "IsPatched": false,
         "IsPreRelease": false,
         "IsPrivateBuild": false,
         "IsSpecialBuild": false,
         "Language": null,
         "LegalCopyright": null,
         "LegalTrademarks": null,
         "OriginalFilename": null,
         "PrivateBuild": null,
         "ProductBuildPart": 0,
         "ProductMajorPart": 0,
         "ProductMinorPart": 0,
         "ProductName": null,
         "ProductPrivatePart": 0,
         "ProductVersion": null,
         "ProductVersionRaw": "0.0.0.0",
         "SpecialBuild": null
        }
       },
       {
        "Attributes": 32,
        "BaseName": "ReadMe",
        "CreationTime": "2017-06-24T06:54:59.349Z",
        "CreationTimeUtc": "2017-06-24T06:54:59.349Z",
        "Directory": {
         "Attributes": 16,
         "CreationTime": "2017-06-17T03:57:32.937Z",
         "CreationTimeUtc": "2017-06-17T03:57:32.937Z",
         "Exists": true,
         "Extension": "",
         "FullName": "C:\\Users\\Joel\\Projects\\Jupyter\\Jupyter-PowerShell",
         "LastAccessTime": "2017-07-12T05:58:29.597Z",
         "LastAccessTimeUtc": "2017-07-12T05:58:29.597Z",
         "LastWriteTime": "2017-07-12T05:58:29.597Z",
         "LastWriteTimeUtc": "2017-07-12T05:58:29.597Z",
         "Name": "Jupyter-PowerShell",
         "Parent": "Jupyter",
         "Root": "C:\\"
        },
        "DirectoryName": "C:\\Users\\Joel\\Projects\\Jupyter\\Jupyter-PowerShell",
        "Exists": true,
        "Extension": ".md",
        "FullName": "C:\\Users\\Joel\\Projects\\Jupyter\\Jupyter-PowerShell\\ReadMe.md",
        "IsReadOnly": false,
        "LastAccessTime": "2017-06-28T05:27:51.349Z",
        "LastAccessTimeUtc": "2017-06-28T05:27:51.349Z",
        "LastWriteTime": "2017-06-28T05:27:51.365Z",
        "LastWriteTimeUtc": "2017-06-28T05:27:51.365Z",
        "Length": 2540,
        "LinkType": null,
        "Mode": "-a----",
        "Name": "ReadMe.md",
        "PSChildName": "ReadMe.md",
        "PSDrive": {
         "Credential": "System.Management.Automation.PSCredential",
         "CurrentLocation": "Users\\Joel\\Projects\\Jupyter\\Jupyter-PowerShell",
         "Description": "Crucial",
         "DisplayRoot": null,
         "MaximumSize": null,
         "Name": "C",
         "Provider": "Microsoft.PowerShell.Core\\FileSystem",
         "Root": "C:\\"
        },
        "PSIsContainer": false,
        "PSParentPath": "Microsoft.PowerShell.Core\\FileSystem::C:\\Users\\Joel\\Projects\\Jupyter\\Jupyter-PowerShell",
        "PSPath": "Microsoft.PowerShell.Core\\FileSystem::C:\\Users\\Joel\\Projects\\Jupyter\\Jupyter-PowerShell\\ReadMe.md",
        "PSProvider": {
         "Capabilities": 52,
         "Description": "",
         "Drives": "C D E L F G H I J K",
         "HelpFile": "System.Management.Automation.dll-Help.xml",
         "Home": "C:\\Users\\Joel",
         "ImplementingType": "Microsoft.PowerShell.Commands.FileSystemProvider",
         "Module": null,
         "ModuleName": "Microsoft.PowerShell.Core",
         "Name": "FileSystem",
         "PSSnapIn": "Microsoft.PowerShell.Core"
        },
        "Target": [],
        "VersionInfo": {
         "Comments": null,
         "CompanyName": null,
         "FileBuildPart": 0,
         "FileDescription": null,
         "FileMajorPart": 0,
         "FileMinorPart": 0,
         "FileName": "C:\\Users\\Joel\\Projects\\Jupyter\\Jupyter-PowerShell\\ReadMe.md",
         "FilePrivatePart": 0,
         "FileVersion": null,
         "FileVersionRaw": "0.0.0.0",
         "InternalName": null,
         "IsDebug": false,
         "IsPatched": false,
         "IsPreRelease": false,
         "IsPrivateBuild": false,
         "IsSpecialBuild": false,
         "Language": null,
         "LegalCopyright": null,
         "LegalTrademarks": null,
         "OriginalFilename": null,
         "PrivateBuild": null,
         "ProductBuildPart": 0,
         "ProductMajorPart": 0,
         "ProductMinorPart": 0,
         "ProductName": null,
         "ProductPrivatePart": 0,
         "ProductVersion": null,
         "ProductVersionRaw": "0.0.0.0",
         "SpecialBuild": null
        }
       },
       {
        "Attributes": 32,
        "BaseName": "Release",
        "CreationTime": "2017-06-29T06:55:04.903Z",
        "CreationTimeUtc": "2017-06-29T06:55:04.903Z",
        "Directory": {
         "Attributes": 16,
         "CreationTime": "2017-06-17T03:57:32.937Z",
         "CreationTimeUtc": "2017-06-17T03:57:32.937Z",
         "Exists": true,
         "Extension": "",
         "FullName": "C:\\Users\\Joel\\Projects\\Jupyter\\Jupyter-PowerShell",
         "LastAccessTime": "2017-07-12T05:58:29.597Z",
         "LastAccessTimeUtc": "2017-07-12T05:58:29.597Z",
         "LastWriteTime": "2017-07-12T05:58:29.597Z",
         "LastWriteTimeUtc": "2017-07-12T05:58:29.597Z",
         "Name": "Jupyter-PowerShell",
         "Parent": "Jupyter",
         "Root": "C:\\"
        },
        "DirectoryName": "C:\\Users\\Joel\\Projects\\Jupyter\\Jupyter-PowerShell",
        "Exists": true,
        "Extension": ".ipynb",
        "FullName": "C:\\Users\\Joel\\Projects\\Jupyter\\Jupyter-PowerShell\\Release.ipynb",
        "IsReadOnly": false,
        "LastAccessTime": "2017-07-04T06:53:22.919Z",
        "LastAccessTimeUtc": "2017-07-04T06:53:22.919Z",
        "LastWriteTime": "2017-07-12T05:12:17.369Z",
        "LastWriteTimeUtc": "2017-07-12T05:12:17.369Z",
        "Length": 5035,
        "LinkType": null,
        "Mode": "-a----",
        "Name": "Release.ipynb",
        "PSChildName": "Release.ipynb",
        "PSDrive": {
         "Credential": "System.Management.Automation.PSCredential",
         "CurrentLocation": "Users\\Joel\\Projects\\Jupyter\\Jupyter-PowerShell",
         "Description": "Crucial",
         "DisplayRoot": null,
         "MaximumSize": null,
         "Name": "C",
         "Provider": "Microsoft.PowerShell.Core\\FileSystem",
         "Root": "C:\\"
        },
        "PSIsContainer": false,
        "PSParentPath": "Microsoft.PowerShell.Core\\FileSystem::C:\\Users\\Joel\\Projects\\Jupyter\\Jupyter-PowerShell",
        "PSPath": "Microsoft.PowerShell.Core\\FileSystem::C:\\Users\\Joel\\Projects\\Jupyter\\Jupyter-PowerShell\\Release.ipynb",
        "PSProvider": {
         "Capabilities": 52,
         "Description": "",
         "Drives": "C D E L F G H I J K",
         "HelpFile": "System.Management.Automation.dll-Help.xml",
         "Home": "C:\\Users\\Joel",
         "ImplementingType": "Microsoft.PowerShell.Commands.FileSystemProvider",
         "Module": null,
         "ModuleName": "Microsoft.PowerShell.Core",
         "Name": "FileSystem",
         "PSSnapIn": "Microsoft.PowerShell.Core"
        },
        "Target": [],
        "VersionInfo": {
         "Comments": null,
         "CompanyName": null,
         "FileBuildPart": 0,
         "FileDescription": null,
         "FileMajorPart": 0,
         "FileMinorPart": 0,
         "FileName": "C:\\Users\\Joel\\Projects\\Jupyter\\Jupyter-PowerShell\\Release.ipynb",
         "FilePrivatePart": 0,
         "FileVersion": null,
         "FileVersionRaw": "0.0.0.0",
         "InternalName": null,
         "IsDebug": false,
         "IsPatched": false,
         "IsPreRelease": false,
         "IsPrivateBuild": false,
         "IsSpecialBuild": false,
         "Language": null,
         "LegalCopyright": null,
         "LegalTrademarks": null,
         "OriginalFilename": null,
         "PrivateBuild": null,
         "ProductBuildPart": 0,
         "ProductMajorPart": 0,
         "ProductMinorPart": 0,
         "ProductName": null,
         "ProductPrivatePart": 0,
         "ProductVersion": null,
         "ProductVersionRaw": "0.0.0.0",
         "SpecialBuild": null
        }
       }
      ]
     },
     "metadata": {},
     "output_type": "display_data"
    }
   ],
   "source": [
    "# TODO: fix double-json encoding\n",
    "@{\"json\" = $Files | ConvertTo-Json} | Write-Jupyter"
   ]
  },
  {
   "cell_type": "markdown",
   "metadata": {},
   "source": [
    "### I fixed [3](https://github.com/Jaykul/Jupyter-PowerShell/issues/3) so errors show up:"
   ]
  },
  {
   "cell_type": "code",
   "execution_count": null,
   "metadata": {
    "scrolled": true
   },
   "outputs": [
    {
     "name": "stderr",
     "output_type": "stream",
     "text": [
      "Get-ChildItem : Cannot find path 'C:\\Users\\Joel\\Projects\\Jupyter\\Jupyter-PowerShell\\PowerShell-Kernel\\nosuchfile' because it does not exist.\r\n"
     ]
    },
    {
     "ename": "PathNotFound,Microsoft.PowerShell.Commands.GetChildItemCommand",
     "evalue": "Get-ChildItem : Cannot find path 'C:\\Users\\Joel\\Projects\\Jupyter\\Jupyter-PowerShell\\PowerShell-Kernel\\nosuchfile' because it does not exist.\r\n",
     "output_type": "error",
     "traceback": [
      "At line:1 char:1\n+ Get-ChildItem nosuchfile\r\n+ ~~~~~~~~~~~~~~~~~~~~~~~~",
      "CategoryInfo          : ObjectNotFound: (C:\\Users\\Joel\\P...rnel\\nosuchfile:String) [Get-ChildItem], ItemNotFoundException",
      "FullyQualifiedErrorId : PathNotFound,Microsoft.PowerShell.Commands.GetChildItemCommand"
     ]
    }
   ],
   "source": [
    "Get-ChildItem nosuchfile"
   ]
  },
  {
   "cell_type": "code",
   "execution_count": null,
   "metadata": {},
   "outputs": [
    {
     "name": "stderr",
     "output_type": "stream",
     "text": [
      "iwr : <!DOCTYPE HTML PUBLIC \"-//IETF//DTD HTML 2.0//EN\">\n",
      "<html><head>\n",
      "<title>401 Unauthorized</title>\n",
      "</head><body>\n",
      "<h1>Unauthorized</h1>\n",
      "<p>This server could not verify that you\n",
      "are authorized to access the document\n",
      "requested.  Either you supplied the wrong\n",
      "credentials (e.g., bad password), or your\n",
      "browser doesn't understand how to supply\n",
      "the credentials required.</p>\n",
      "<hr>\n",
      "<address>Apache/2.4.10 (Debian) Server at natas2.natas.labs.overthewire.org Port 80</address>\n",
      "</body></html>\n",
      "\r\n"
     ]
    },
    {
     "ename": "WebCmdletWebResponseException,Microsoft.PowerShell.Commands.InvokeWebRequestCommand",
     "evalue": "iwr : <!DOCTYPE HTML PUBLIC \"-//IETF//DTD HTML 2.0//EN\">\n<html><head>\n<title>401 Unauthorized</title>\n</head><body>\n<h1>Unauthorized</h1>\n<p>This server could not verify that you\nare authorized to access the document\nrequested.  Either you supplied the wrong\ncredentials (e.g., bad password), or your\nbrowser doesn't understand how to supply\nthe credentials required.</p>\n<hr>\n<address>Apache/2.4.10 (Debian) Server at natas2.natas.labs.overthewire.org Port 80</address>\n</body></html>\n\r\n",
     "output_type": "error",
     "traceback": [
      "At line:1 char:1\r\n+ iwr natas2.natas.labs.overthewire.org\r\n+ ~~~~~~~~~~~~~~~~~~~~~~~~~~~~~~~~~~~~~",
      "CategoryInfo          : InvalidOperation: (System.Net.HttpWebRequest:HttpWebRequest) [Invoke-WebRequest], WebException",
      "FullyQualifiedErrorId : WebCmdletWebResponseException,Microsoft.PowerShell.Commands.InvokeWebRequestCommand"
     ]
    }
   ],
   "source": [
    "iwr natas2.natas.labs.overthewire.org"
   ]
  },
  {
   "cell_type": "code",
   "execution_count": null,
   "metadata": {},
   "outputs": [
    {
     "name": "stderr",
     "output_type": "stream",
     "text": [
      " : A parameter cannot be found that matches parameter name 'Message'.\r\n"
     ]
    },
    {
     "ename": "NamedParameterNotFound,Get-Credential",
     "evalue": " : A parameter cannot be found that matches parameter name 'Message'.\r\n",
     "output_type": "error",
     "traceback": [
      "At line:1 char:31\r\n+ Get-Credential -UserName Joel -Message \"Type 'Password'\"\r\n+                               ~~~~~~~~",
      "CategoryInfo          : InvalidArgument: (:) [Get-Credential], ParentContainsErrorRecordException",
      "FullyQualifiedErrorId : NamedParameterNotFound,Get-Credential"
     ]
    }
   ],
   "source": [
    "Get-Credential -UserName Joel -Message \"Type 'Password'\""
   ]
  },
  {
   "cell_type": "code",
   "execution_count": null,
   "metadata": {
    "collapsed": true
   },
   "outputs": [],
   "source": []
  }
 ],
 "metadata": {
  "anaconda-cloud": {},
  "kernel_info": {
   "name": "PowerShell-Full"
  },
  "kernelspec": {
   "display_name": "PowerShell (Full)",
   "language": "PowerShell",
   "name": "powershell-full"
  },
  "language_info": {
   "codemirror_mode": "powershell",
   "file_extension": ".ps1",
   "mimetype": "text/powershell",
   "name": "PowerShell",
   "nbconvert_exporter": null,
   "pygments_lexer": "powershell",
   "version": "5.0"
  }
 },
 "nbformat": 4,
 "nbformat_minor": 1
}
