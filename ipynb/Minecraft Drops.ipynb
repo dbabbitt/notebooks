{
 "cells": [
  {
   "cell_type": "code",
   "execution_count": 1,
   "id": "779570b3-09d8-4640-97b1-bde7872fdb89",
   "metadata": {},
   "outputs": [
    {
     "name": "stdout",
     "output_type": "stream",
     "text": [
      "Pretty printing has been turned OFF\n"
     ]
    }
   ],
   "source": [
    "\n",
    "%pprint"
   ]
  },
  {
   "cell_type": "code",
   "execution_count": 2,
   "id": "a846d581-d5f2-4630-9892-ae9130111c33",
   "metadata": {},
   "outputs": [
    {
     "name": "stdout",
     "output_type": "stream",
     "text": [
      "[(1, (67, 7)), (4, (72, 6)), (3, (56, 6)), (2, (17, 3)), (0, (3, 5))]\n"
     ]
    }
   ],
   "source": [
    "\n",
    "%run ../load_magic/dataframes.py\n",
    "tables_url = 'https://minecraft.fandom.com/wiki/Drops'\n",
    "page_tables_list = get_page_tables(tables_url)"
   ]
  },
  {
   "cell_type": "code",
   "execution_count": 3,
   "id": "94ee16ec-b234-4b1c-8596-afef3e3b475a",
   "metadata": {},
   "outputs": [
    {
     "data": {
      "text/plain": [
       "MultiIndex([(                                'Mob', 'Animals'),\n",
       "            (                                'Exp', 'Animals'),\n",
       "            (                       'Common drops', 'Animals'),\n",
       "            (                         'Rare drops', 'Animals'),\n",
       "            (            'Equipped and worn items', 'Animals'),\n",
       "            (                              'Notes', 'Animals'),\n",
       "            ('Affected by the Looting enchantment', 'Animals')],\n",
       "           )"
      ]
     },
     "execution_count": 3,
     "metadata": {},
     "output_type": "execute_result"
    }
   ],
   "source": [
    "\n",
    "drops_df = page_tables_list[1]\n",
    "drops_df.columns"
   ]
  },
  {
   "cell_type": "code",
   "execution_count": 4,
   "id": "6aa6d4ab-6773-4f44-92a5-65d1e76321cf",
   "metadata": {},
   "outputs": [],
   "source": [
    "\n",
    "drops_df.columns = drops_df.columns.get_level_values(0)"
   ]
  },
  {
   "cell_type": "code",
   "execution_count": 6,
   "id": "e1b2d325-abee-497a-9a64-d23d1c43213e",
   "metadata": {},
   "outputs": [],
   "source": [
    "\n",
    "drops_list = drops_df['Common drops'].tolist()\n",
    "drops_regex = re.compile(r'(\\u200c\\[[^]]+\\]|\\s*[0-9–]+\\s*|\\s*or\\s*| if [^\\u200c\\d]+|\\s*\\([^\\)]+\\)\\s*)')\n",
    "drops_lists_list = [re.split(drops_regex, subject, 0) for subject in drops_list]\n",
    "drops_set = set()\n",
    "for drops_list in drops_lists_list:\n",
    "    for drop_str in drops_list:\n",
    "        match = drops_regex.search(drop_str)\n",
    "        if (drop_str not in ['None', '-']) and len(drop_str.strip()) and (drop_str[0].upper() == drop_str[0]) and not match:\n",
    "            drops_set.add(drop_str)"
   ]
  },
  {
   "cell_type": "code",
   "execution_count": 7,
   "id": "0aea7da1-34ef-40da-9cb0-aa64082c7d41",
   "metadata": {},
   "outputs": [
    {
     "data": {
      "text/plain": [
       "['Wet Sponge', 'Feather', 'Arrow of Slowness', 'Glass Bottle', 'Bone', 'Arrow', 'Slimeball', 'Tropical Fish', 'Nether Star', 'Prismarine Crystals', 'Cooked Chicken', 'Stick', 'Seagrass', 'Utility Mobs', 'Blaze Rod', 'Raw Cod', 'Spider Eye', 'Ender Pearl', 'Bamboo', 'Music Discs', 'Saddle', 'Bone Wither Skeleton Skull', 'Ghast Tear', 'Ink Sac', 'Creeper Head', 'Gunpowder', 'Sugar', 'Magma Cream', 'Leather', 'Steak', 'Rabbit Hide', 'Raw Mutton', 'Skeleton Skull', 'Raw Salmon', 'Zombie Head', 'Snowball', 'Coal', 'Raw Rabbit', 'Potion', 'Shulker Shell', 'Gold Nugget', 'Prismarine Shard', 'Cooked P', 'Wool', 'Milk', 'Glowstone Dust', 'Totem of Undying', 'Rotten Flesh', 'String', 'Cooked Salmon', 'Cooked Cod', 'Redstone', 'Emerald', 'Pufferfish', 'Raw Chicken', 'Cooked Mutton', 'Raw Beef', 'Cooked Rabbit', 'Poppy', 'Monsters', 'Raw P', 'NPCs', 'Iron Ingot', 'Phantom Membrane']"
      ]
     },
     "execution_count": 7,
     "metadata": {},
     "output_type": "execute_result"
    }
   ],
   "source": [
    "\n",
    "list(drops_set)"
   ]
  },
  {
   "cell_type": "code",
   "execution_count": 8,
   "id": "1724c340-290b-421b-8834-25dee88876e9",
   "metadata": {},
   "outputs": [
    {
     "data": {
      "text/html": [
       "<div>\n",
       "<style scoped>\n",
       "    .dataframe tbody tr th:only-of-type {\n",
       "        vertical-align: middle;\n",
       "    }\n",
       "\n",
       "    .dataframe tbody tr th {\n",
       "        vertical-align: top;\n",
       "    }\n",
       "\n",
       "    .dataframe thead th {\n",
       "        text-align: right;\n",
       "    }\n",
       "</style>\n",
       "<table border=\"1\" class=\"dataframe\">\n",
       "  <thead>\n",
       "    <tr style=\"text-align: right;\">\n",
       "      <th></th>\n",
       "      <th>Mob</th>\n",
       "      <th>Exp</th>\n",
       "      <th>Common drops</th>\n",
       "      <th>Rare drops</th>\n",
       "      <th>Equipped and worn items</th>\n",
       "      <th>Notes</th>\n",
       "      <th>Affected by the Looting enchantment</th>\n",
       "    </tr>\n",
       "  </thead>\n",
       "  <tbody>\n",
       "    <tr>\n",
       "      <th>0</th>\n",
       "      <td>Bat</td>\n",
       "      <td>0</td>\n",
       "      <td>None</td>\n",
       "      <td>None</td>\n",
       "      <td>None</td>\n",
       "      <td>NaN</td>\n",
       "      <td>NaN</td>\n",
       "    </tr>\n",
       "    <tr>\n",
       "      <th>1</th>\n",
       "      <td>Bee</td>\n",
       "      <td>1–3</td>\n",
       "      <td>None</td>\n",
       "      <td>None</td>\n",
       "      <td>None</td>\n",
       "      <td>NaN</td>\n",
       "      <td>NaN</td>\n",
       "    </tr>\n",
       "    <tr>\n",
       "      <th>2</th>\n",
       "      <td>Mooshroom</td>\n",
       "      <td>1–3</td>\n",
       "      <td>0–2 Leather1–3 Raw Beef or 1–3 Steak</td>\n",
       "      <td>None</td>\n",
       "      <td>None</td>\n",
       "      <td>Meat is cooked if killed while on fire.Shearin...</td>\n",
       "      <td>Yes</td>\n",
       "    </tr>\n",
       "    <tr>\n",
       "      <th>3</th>\n",
       "      <td>Cat</td>\n",
       "      <td>1-3</td>\n",
       "      <td>0-2 String</td>\n",
       "      <td>None</td>\n",
       "      <td>None</td>\n",
       "      <td>Tamed cat can also give player gift at morning...</td>\n",
       "      <td>Yes</td>\n",
       "    </tr>\n",
       "    <tr>\n",
       "      <th>4</th>\n",
       "      <td>Chicken</td>\n",
       "      <td>1–3</td>\n",
       "      <td>0–2 Feather1 Raw Chicken or 1 Cooked Chicken</td>\n",
       "      <td>None</td>\n",
       "      <td>None</td>\n",
       "      <td>Meat is cooked if killed while on fire.Feather...</td>\n",
       "      <td>Yes</td>\n",
       "    </tr>\n",
       "    <tr>\n",
       "      <th>...</th>\n",
       "      <td>...</td>\n",
       "      <td>...</td>\n",
       "      <td>...</td>\n",
       "      <td>...</td>\n",
       "      <td>...</td>\n",
       "      <td>...</td>\n",
       "      <td>...</td>\n",
       "    </tr>\n",
       "    <tr>\n",
       "      <th>62</th>\n",
       "      <td>NPCs</td>\n",
       "      <td>NPCs</td>\n",
       "      <td>NPCs</td>\n",
       "      <td>NPCs</td>\n",
       "      <td>NPCs</td>\n",
       "      <td>NPCs</td>\n",
       "      <td>NPCs</td>\n",
       "    </tr>\n",
       "    <tr>\n",
       "      <th>63</th>\n",
       "      <td>Agent‌[Bedrock and Education editions only]</td>\n",
       "      <td>0</td>\n",
       "      <td>None</td>\n",
       "      <td>None</td>\n",
       "      <td>None</td>\n",
       "      <td>NaN</td>\n",
       "      <td>NaN</td>\n",
       "    </tr>\n",
       "    <tr>\n",
       "      <th>64</th>\n",
       "      <td>NPC‌[Bedrock and Education editions only]</td>\n",
       "      <td>0</td>\n",
       "      <td>None</td>\n",
       "      <td>None</td>\n",
       "      <td>None</td>\n",
       "      <td>NaN</td>\n",
       "      <td>NaN</td>\n",
       "    </tr>\n",
       "    <tr>\n",
       "      <th>65</th>\n",
       "      <td>Villager</td>\n",
       "      <td>0</td>\n",
       "      <td>None</td>\n",
       "      <td>None</td>\n",
       "      <td>None</td>\n",
       "      <td>A villager can throw food to other villagers w...</td>\n",
       "      <td>No</td>\n",
       "    </tr>\n",
       "    <tr>\n",
       "      <th>66</th>\n",
       "      <td>Wandering Trader</td>\n",
       "      <td>0</td>\n",
       "      <td>1 Potion or Milk‌[Java Edition only] if drinki...</td>\n",
       "      <td>None</td>\n",
       "      <td>Potion of InvisibilityMilk‌[Java Edition only]...</td>\n",
       "      <td>Potion and milk can be obtained only by killin...</td>\n",
       "      <td>Increases chance of drop</td>\n",
       "    </tr>\n",
       "  </tbody>\n",
       "</table>\n",
       "<p>67 rows × 7 columns</p>\n",
       "</div>"
      ],
      "text/plain": [
       "                                            Mob   Exp  \\\n",
       "0                                           Bat     0   \n",
       "1                                           Bee   1–3   \n",
       "2                                     Mooshroom   1–3   \n",
       "3                                           Cat   1-3   \n",
       "4                                       Chicken   1–3   \n",
       "..                                          ...   ...   \n",
       "62                                         NPCs  NPCs   \n",
       "63  Agent‌[Bedrock and Education editions only]     0   \n",
       "64    NPC‌[Bedrock and Education editions only]     0   \n",
       "65                                     Villager     0   \n",
       "66                             Wandering Trader     0   \n",
       "\n",
       "                                         Common drops Rare drops  \\\n",
       "0                                                None       None   \n",
       "1                                                None       None   \n",
       "2                0–2 Leather1–3 Raw Beef or 1–3 Steak       None   \n",
       "3                                          0-2 String       None   \n",
       "4        0–2 Feather1 Raw Chicken or 1 Cooked Chicken       None   \n",
       "..                                                ...        ...   \n",
       "62                                               NPCs       NPCs   \n",
       "63                                               None       None   \n",
       "64                                               None       None   \n",
       "65                                               None       None   \n",
       "66  1 Potion or Milk‌[Java Edition only] if drinki...       None   \n",
       "\n",
       "                              Equipped and worn items  \\\n",
       "0                                                None   \n",
       "1                                                None   \n",
       "2                                                None   \n",
       "3                                                None   \n",
       "4                                                None   \n",
       "..                                                ...   \n",
       "62                                               NPCs   \n",
       "63                                               None   \n",
       "64                                               None   \n",
       "65                                               None   \n",
       "66  Potion of InvisibilityMilk‌[Java Edition only]...   \n",
       "\n",
       "                                                Notes  \\\n",
       "0                                                 NaN   \n",
       "1                                                 NaN   \n",
       "2   Meat is cooked if killed while on fire.Shearin...   \n",
       "3   Tamed cat can also give player gift at morning...   \n",
       "4   Meat is cooked if killed while on fire.Feather...   \n",
       "..                                                ...   \n",
       "62                                               NPCs   \n",
       "63                                                NaN   \n",
       "64                                                NaN   \n",
       "65  A villager can throw food to other villagers w...   \n",
       "66  Potion and milk can be obtained only by killin...   \n",
       "\n",
       "   Affected by the Looting enchantment  \n",
       "0                                  NaN  \n",
       "1                                  NaN  \n",
       "2                                  Yes  \n",
       "3                                  Yes  \n",
       "4                                  Yes  \n",
       "..                                 ...  \n",
       "62                                NPCs  \n",
       "63                                 NaN  \n",
       "64                                 NaN  \n",
       "65                                  No  \n",
       "66            Increases chance of drop  \n",
       "\n",
       "[67 rows x 7 columns]"
      ]
     },
     "execution_count": 8,
     "metadata": {},
     "output_type": "execute_result"
    }
   ],
   "source": [
    "\n",
    "drops_df"
   ]
  },
  {
   "cell_type": "code",
   "execution_count": null,
   "id": "fc97fffa-70e0-464c-afe3-b1bf6c0b6e2f",
   "metadata": {},
   "outputs": [],
   "source": []
  }
 ],
 "metadata": {
  "kernelspec": {
   "display_name": "Python 3",
   "language": "python",
   "name": "python3"
  },
  "language_info": {
   "codemirror_mode": {
    "name": "ipython",
    "version": 3
   },
   "file_extension": ".py",
   "mimetype": "text/x-python",
   "name": "python",
   "nbconvert_exporter": "python",
   "pygments_lexer": "ipython3",
   "version": "3.8.10"
  }
 },
 "nbformat": 4,
 "nbformat_minor": 5
}
