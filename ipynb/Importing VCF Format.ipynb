{
 "cells": [
  {
   "cell_type": "code",
   "execution_count": 1,
   "id": "dd48d481-faa0-41b3-803f-e1c689bec2be",
   "metadata": {},
   "outputs": [
    {
     "name": "stdout",
     "output_type": "stream",
     "text": [
      "##fileformat=VCFv4.1\n",
      "##FORMAT=<ID=GT,Number=1,Type=String,Description=\"Genotype\">\n",
      "##GATKCommandLine=<ID=CombineVariants,Version=3.2-2-gec30cee,Date=\"Sun Sep 21 20:02:54 PDT 2014\",Epoch=1411354974729,CommandLineOptions=\"analysis_type=CombineVariants input_file=[] showFullBamList=false read_buffer_size=null phone_home=AWS gatk_key=null tag=NA read_filter=[] intervals=null excludeIntervals=null interval_set_rule=UNION interval_merging=ALL interval_padding=0 reference_sequence=/home/armartin/bustamante/genomes/hg19/1KG_v37/human_g1k_v37.fa nonDeterministicRandomSeed=false disableDithering=false maxRuntime=-1 maxRuntimeUnits=MINUTES downsampling_type=BY_SAMPLE downsample_to_fraction=null downsample_to_coverage=1000 baq=OFF baqGapOpenPenalty=40.0 refactor_NDN_cigar_string=false fix_misencoded_quality_scores=false allow_potentially_misencoded_quality_scores=false useOriginalQualities=false defaultBaseQualities=-1 performanceLog=null BQSR=null quantize_quals=0 disable_indel_quals=false emit_or\n"
     ]
    }
   ],
   "source": [
    "\n",
    "# http://ftp.1000genomes.ebi.ac.uk/vol1/ftp/release/20130502/supporting/hd_genotype_chip/\n",
    "import os\n",
    "\n",
    "vcf_dir = '../data/vcf'\n",
    "file_name = 'ALL.wgs.nhgri_coriell_affy_6.20140825.genotypes_no_ped.vcf'\n",
    "file_path = os.path.join(vcf_dir, file_name)\n",
    "with open(file_path, mode='r') as vcf:\n",
    "    print(vcf.read()[:1000])"
   ]
  },
  {
   "cell_type": "code",
   "execution_count": 2,
   "id": "a178277b-f6ab-4619-950c-5e481cc01588",
   "metadata": {},
   "outputs": [
    {
     "name": "stdout",
     "output_type": "stream",
     "text": [
      "1.3.5\n"
     ]
    }
   ],
   "source": [
    "\n",
    "# import scikit-allel\n",
    "import allel\n",
    "\n",
    "# check which version is installed\n",
    "print(allel.__version__)"
   ]
  },
  {
   "cell_type": "code",
   "execution_count": 3,
   "id": "066d2c8b-4d93-4e6d-bbad-59f295de78e9",
   "metadata": {},
   "outputs": [
    {
     "data": {
      "text/plain": [
       "dict_keys(['samples', 'calldata/GT', 'variants/ALT', 'variants/CHROM', 'variants/FILTER_PASS', 'variants/ID', 'variants/POS', 'variants/QUAL', 'variants/REF'])"
      ]
     },
     "execution_count": 3,
     "metadata": {},
     "output_type": "execute_result"
    }
   ],
   "source": [
    "\n",
    "callset_dict = allel.read_vcf(file_path)\n",
    "callset_dict.keys()"
   ]
  },
  {
   "cell_type": "code",
   "execution_count": 4,
   "id": "b3a33049-e40a-4a7c-87a5-16ee13139a9c",
   "metadata": {},
   "outputs": [
    {
     "data": {
      "text/plain": [
       "array(['HG00279', 'HG00283', 'HG00291', 'HG00293', 'HG00294', 'HG00296',\n",
       "       'HG00297', 'HG00298', 'HG00299', 'HG00301', 'HG00305', 'HG00348',\n",
       "       'HG00680', 'HG00681', 'HG00713', 'HG00714', 'HG00725', 'HG00726',\n",
       "       'HG01146', 'HG01244', 'HG01268', 'HG01289', 'HG01290', 'HG01380',\n",
       "       'HG01408', 'HG01418', 'HG01419', 'HG01421', 'HG01449', 'HG01450',\n",
       "       'HG01451', 'HG01534', 'HG01535', 'HG01688', 'HG01689', 'HG01692',\n",
       "       'HG01693', 'HG01712', 'HG01714', 'HG01749', 'HG01750', 'HG01751',\n",
       "       'HG01752', 'HG01753', 'HG01754', 'HG01760', 'HG02167', 'HG02226',\n",
       "       'HG02227', 'HG02228', 'HG02247', 'HG02248', 'HG02249', 'HG02289',\n",
       "       'HG02357', 'HG02411', 'HG02440', 'HG02458', 'HG02459', 'HG02460',\n",
       "       'HG02467', 'HG02468', 'HG02469', 'HG02564', 'HG02565', 'HG02566',\n",
       "       'HG02576', 'HG02591', 'HG02592', 'HG02593', 'HG02616', 'HG02617',\n",
       "       'HG02618', 'HG02619', 'HG02631', 'HG02633', 'HG02637', 'HG02639',\n",
       "       'HG02640', 'HG02641', 'HG02663', 'HG02664', 'HG02665', 'HG02669',\n",
       "       'HG02670', 'HG02671', 'HG02672', 'HG02674', 'HG02693', 'HG02705',\n",
       "       'HG02707', 'HG02708', 'HG02709', 'HG02710', 'HG02711', 'HG02712',\n",
       "       'HG02713', 'HG02714', 'HG02732', 'HG02765'], dtype=object)"
      ]
     },
     "execution_count": 4,
     "metadata": {},
     "output_type": "execute_result"
    }
   ],
   "source": [
    "\n",
    "# The ‘samples’ array contains sample identifiers extracted from the header line in the VCF file\n",
    "callset_dict['samples'][:100]"
   ]
  },
  {
   "cell_type": "code",
   "execution_count": 5,
   "id": "c9132893-a210-40e5-8240-f6ef6d3bff71",
   "metadata": {},
   "outputs": [
    {
     "name": "stdout",
     "output_type": "stream",
     "text": [
      "variants/ALT\n",
      "variants/CHROM\n",
      "variants/FILTER_PASS\n",
      "variants/ID\n",
      "variants/POS\n",
      "variants/QUAL\n",
      "variants/REF\n"
     ]
    }
   ],
   "source": [
    "\n",
    "# All arrays with keys beginning ‘variants/’ come from the fixed fields in the VCF file\n",
    "for key_str in callset_dict.keys():\n",
    "    if 'variants/' in key_str:\n",
    "        print(key_str)"
   ]
  },
  {
   "cell_type": "code",
   "execution_count": 6,
   "id": "0152d902-fda6-4da3-8628-f5eaaa23d8c2",
   "metadata": {},
   "outputs": [
    {
     "data": {
      "text/plain": [
       "array(['1', '1', '1', '1', '1', '1', '1', '1', '1', '1', '1', '1', '1',\n",
       "       '1', '1', '1', '1', '1', '1', '1', '1', '1', '1', '1', '1', '1',\n",
       "       '1', '1', '1', '1', '1', '1', '1', '1', '1', '1', '1', '1', '1',\n",
       "       '1', '1', '1', '1', '1', '1', '1', '1', '1', '1', '1', '1', '1',\n",
       "       '1', '1', '1', '1', '1', '1', '1', '1', '1', '1', '1', '1', '1',\n",
       "       '1', '1', '1', '1', '1', '1', '1', '1', '1', '1', '1', '1', '1',\n",
       "       '1', '1', '1', '1', '1', '1', '1', '1', '1', '1', '1', '1', '1',\n",
       "       '1', '1', '1', '1', '1', '1', '1', '1', '1'], dtype=object)"
      ]
     },
     "execution_count": 6,
     "metadata": {},
     "output_type": "execute_result"
    }
   ],
   "source": [
    "\n",
    "callset_dict['variants/CHROM'][:100]"
   ]
  },
  {
   "cell_type": "code",
   "execution_count": 7,
   "id": "57318944-24e7-4b68-84bf-315d22f6f689",
   "metadata": {},
   "outputs": [
    {
     "data": {
      "text/plain": [
       "array([ 564621,  564773,  721290,  740857,  752566,  761732,  765269,\n",
       "        777122,  785989,  792480,  798959,  799463,  888659,  918573,\n",
       "        926431,  947034,  949608,  990417,  990517,  990839, 1003629,\n",
       "       1017216, 1018704, 1039098, 1041700, 1048955, 1089699, 1097335,\n",
       "       1129672, 1130727, 1156131, 1158277, 1158631, 1165310, 1186502,\n",
       "       1195690, 1196471, 1198618, 1211292, 1217058, 1218086, 1242215,\n",
       "       1242468, 1268847, 1297065, 1297422, 1311716, 1333436, 1365570,\n",
       "       1411876, 1421531, 1462766, 1467485, 1478153, 1498152, 1500941,\n",
       "       1506035, 1510801, 1647686, 1663831, 1688192, 1692321, 1711414,\n",
       "       1721479, 1722932, 1746694, 1759026, 1759054, 1778090, 1783201,\n",
       "       1793786, 1804302, 1812688, 1823922, 1829482, 1871337, 1888193,\n",
       "       1888369, 1903712, 1930754, 1948400, 1972462, 2024064, 2027901,\n",
       "       2028737, 2033256, 2040763, 2040898, 2047584, 2056735, 2061969,\n",
       "       2069681, 2071738, 2074104, 2075068, 2077409, 2081642, 2082489,\n",
       "       2082566, 2082814])"
      ]
     },
     "execution_count": 7,
     "metadata": {},
     "output_type": "execute_result"
    }
   ],
   "source": [
    "\n",
    "callset_dict['variants/POS'][:100]"
   ]
  },
  {
   "cell_type": "code",
   "execution_count": 8,
   "id": "cf1531ce-5d3b-4457-84d9-328a634eb13d",
   "metadata": {},
   "outputs": [
    {
     "data": {
      "text/plain": [
       "array([nan, nan, nan, nan, nan, nan, nan, nan, nan, nan, nan, nan, nan,\n",
       "       nan, nan, nan, nan, nan, nan, nan, nan, nan, nan, nan, nan, nan,\n",
       "       nan, nan, nan, nan, nan, nan, nan, nan, nan, nan, nan, nan, nan,\n",
       "       nan, nan, nan, nan, nan, nan, nan, nan, nan, nan, nan, nan, nan,\n",
       "       nan, nan, nan, nan, nan, nan, nan, nan, nan, nan, nan, nan, nan,\n",
       "       nan, nan, nan, nan, nan, nan, nan, nan, nan, nan, nan, nan, nan,\n",
       "       nan, nan, nan, nan, nan, nan, nan, nan, nan, nan, nan, nan, nan,\n",
       "       nan, nan, nan, nan, nan, nan, nan, nan, nan], dtype=float32)"
      ]
     },
     "execution_count": 8,
     "metadata": {},
     "output_type": "execute_result"
    }
   ],
   "source": [
    "\n",
    "callset_dict['variants/QUAL'][:100]"
   ]
  },
  {
   "cell_type": "code",
   "execution_count": 9,
   "id": "b9a23f03-8449-412f-a662-ac408c2d3ec9",
   "metadata": {},
   "outputs": [
    {
     "name": "stdout",
     "output_type": "stream",
     "text": [
      "calldata/GT\n"
     ]
    }
   ],
   "source": [
    "\n",
    "# All arrays with keys beginning ‘calldata/’ come from the sample fields in the VCF file\n",
    "for key_str in callset_dict.keys():\n",
    "    if 'calldata/' in key_str:\n",
    "        print(key_str)"
   ]
  },
  {
   "cell_type": "code",
   "execution_count": 10,
   "id": "3e45ed72-e3e5-49e0-bddb-9f3927faf9e2",
   "metadata": {},
   "outputs": [
    {
     "data": {
      "text/plain": [
       "array([[[ 0,  0],\n",
       "        [ 0,  0],\n",
       "        [ 0,  0],\n",
       "        ...,\n",
       "        [ 0,  0],\n",
       "        [ 0,  0],\n",
       "        [ 0,  0]],\n",
       "\n",
       "       [[ 0,  0],\n",
       "        [ 0,  0],\n",
       "        [-1, -1],\n",
       "        ...,\n",
       "        [ 0,  0],\n",
       "        [ 0,  0],\n",
       "        [ 0,  0]],\n",
       "\n",
       "       [[ 0,  0],\n",
       "        [ 0,  0],\n",
       "        [ 0,  0],\n",
       "        ...,\n",
       "        [ 0,  0],\n",
       "        [ 0,  0],\n",
       "        [ 0,  0]],\n",
       "\n",
       "       ...,\n",
       "\n",
       "       [[ 0,  0],\n",
       "        [ 0,  0],\n",
       "        [ 0,  1],\n",
       "        ...,\n",
       "        [ 0,  1],\n",
       "        [ 0,  0],\n",
       "        [ 0,  1]],\n",
       "\n",
       "       [[ 0,  1],\n",
       "        [ 0,  0],\n",
       "        [ 0,  1],\n",
       "        ...,\n",
       "        [ 0,  1],\n",
       "        [ 0,  0],\n",
       "        [ 1,  1]],\n",
       "\n",
       "       [[ 0,  0],\n",
       "        [ 0,  0],\n",
       "        [ 0,  0],\n",
       "        ...,\n",
       "        [ 0,  0],\n",
       "        [ 0,  0],\n",
       "        [ 0,  0]]], dtype=int8)"
      ]
     },
     "execution_count": 10,
     "metadata": {},
     "output_type": "execute_result"
    }
   ],
   "source": [
    "\n",
    "# Note the -1 values for one of the genotype calls\n",
    "# By default scikit-allel uses -1 to indicate a missing value for any array with a signed integer data type\n",
    "callset_dict['calldata/GT'][:100]"
   ]
  },
  {
   "cell_type": "markdown",
   "id": "403bd86d-f5e6-4d8a-9d94-72ea9f312931",
   "metadata": {},
   "source": [
    "\n",
    "## Aside: genotype arrays"
   ]
  },
  {
   "cell_type": "code",
   "execution_count": 11,
   "id": "f54b875c-b0f2-4857-a6cf-9cc3fee9acdf",
   "metadata": {},
   "outputs": [
    {
     "data": {
      "text/html": [
       "<div class=\"allel allel-DisplayAs2D\"><span>&lt;GenotypeArray shape=(905788, 355, 2) dtype=int8&gt;</span><table><thead><tr><th></th><th style=\"text-align: center\">0</th><th style=\"text-align: center\">1</th><th style=\"text-align: center\">2</th><th style=\"text-align: center\">3</th><th style=\"text-align: center\">4</th><th style=\"text-align: center\">...</th><th style=\"text-align: center\">350</th><th style=\"text-align: center\">351</th><th style=\"text-align: center\">352</th><th style=\"text-align: center\">353</th><th style=\"text-align: center\">354</th></tr></thead><tbody><tr><th style=\"text-align: center; background-color: white; border-right: 1px solid black; \">0</th><td style=\"text-align: center\">0/0</td><td style=\"text-align: center\">0/0</td><td style=\"text-align: center\">0/0</td><td style=\"text-align: center\">0/0</td><td style=\"text-align: center\">0/0</td><td style=\"text-align: center\">...</td><td style=\"text-align: center\">0/0</td><td style=\"text-align: center\">0/0</td><td style=\"text-align: center\">0/0</td><td style=\"text-align: center\">0/0</td><td style=\"text-align: center\">0/0</td></tr><tr><th style=\"text-align: center; background-color: white; border-right: 1px solid black; \">1</th><td style=\"text-align: center\">0/0</td><td style=\"text-align: center\">0/0</td><td style=\"text-align: center\">./.</td><td style=\"text-align: center\">0/0</td><td style=\"text-align: center\">0/0</td><td style=\"text-align: center\">...</td><td style=\"text-align: center\">0/0</td><td style=\"text-align: center\">0/0</td><td style=\"text-align: center\">0/0</td><td style=\"text-align: center\">0/0</td><td style=\"text-align: center\">0/0</td></tr><tr><th style=\"text-align: center; background-color: white; border-right: 1px solid black; \">2</th><td style=\"text-align: center\">0/0</td><td style=\"text-align: center\">0/0</td><td style=\"text-align: center\">0/0</td><td style=\"text-align: center\">0/0</td><td style=\"text-align: center\">0/1</td><td style=\"text-align: center\">...</td><td style=\"text-align: center\">0/0</td><td style=\"text-align: center\">0/0</td><td style=\"text-align: center\">0/0</td><td style=\"text-align: center\">0/0</td><td style=\"text-align: center\">0/0</td></tr><tr><th style=\"text-align: center; background-color: white; border-right: 1px solid black; \">...</th><td style=\"text-align: center\" colspan=\"12\">...</td></tr><tr><th style=\"text-align: center; background-color: white; border-right: 1px solid black; \">905785</th><td style=\"text-align: center\">0/.</td><td style=\"text-align: center\">0/.</td><td style=\"text-align: center\">0/.</td><td style=\"text-align: center\">0/.</td><td style=\"text-align: center\">0/.</td><td style=\"text-align: center\">...</td><td style=\"text-align: center\">0/.</td><td style=\"text-align: center\">0/.</td><td style=\"text-align: center\">0/.</td><td style=\"text-align: center\">0/.</td><td style=\"text-align: center\">0/.</td></tr><tr><th style=\"text-align: center; background-color: white; border-right: 1px solid black; \">905786</th><td style=\"text-align: center\">1/.</td><td style=\"text-align: center\">1/.</td><td style=\"text-align: center\">1/.</td><td style=\"text-align: center\">1/.</td><td style=\"text-align: center\">1/.</td><td style=\"text-align: center\">...</td><td style=\"text-align: center\">1/.</td><td style=\"text-align: center\">1/.</td><td style=\"text-align: center\">0/.</td><td style=\"text-align: center\">1/.</td><td style=\"text-align: center\">1/.</td></tr><tr><th style=\"text-align: center; background-color: white; border-right: 1px solid black; \">905787</th><td style=\"text-align: center\">0/.</td><td style=\"text-align: center\">0/.</td><td style=\"text-align: center\">0/.</td><td style=\"text-align: center\">0/.</td><td style=\"text-align: center\">0/.</td><td style=\"text-align: center\">...</td><td style=\"text-align: center\">0/.</td><td style=\"text-align: center\">0/.</td><td style=\"text-align: center\">0/.</td><td style=\"text-align: center\">0/.</td><td style=\"text-align: center\">0/.</td></tr></tbody></table></div>"
      ],
      "text/plain": [
       "<GenotypeArray shape=(905788, 355, 2) dtype=int8>\n",
       "0/0 0/0 0/0 0/0 0/0 ... 0/0 0/0 0/0 0/0 0/0\n",
       "0/0 0/0 ./. 0/0 0/0 ... 0/0 0/0 0/0 0/0 0/0\n",
       "0/0 0/0 0/0 0/0 0/1 ... 0/0 0/0 0/0 0/0 0/0\n",
       "...\n",
       "0/. 0/. 0/. 0/. 0/. ... 0/. 0/. 0/. 0/. 0/.\n",
       "1/. 1/. 1/. 1/. 1/. ... 1/. 1/. 0/. 1/. 1/.\n",
       "0/. 0/. 0/. 0/. 0/. ... 0/. 0/. 0/. 0/. 0/."
      ]
     },
     "execution_count": 11,
     "metadata": {},
     "output_type": "execute_result"
    }
   ],
   "source": [
    "\n",
    "# Because working with genotype calls is a very common task,\n",
    "# scikit-allel has a GenotypeArray class which adds some\n",
    "# convenient functionality to an array of genotype calls\n",
    "gt = allel.GenotypeArray(callset_dict['calldata/GT'])\n",
    "gt"
   ]
  },
  {
   "cell_type": "code",
   "execution_count": 12,
   "id": "f68e62e1-1103-4f83-88b5-056e326151e4",
   "metadata": {},
   "outputs": [
    {
     "data": {
      "text/plain": [
       "array([[False, False, False, ..., False, False, False],\n",
       "       [False, False, False, ..., False, False, False],\n",
       "       [False, False, False, ..., False, False, False],\n",
       "       ...,\n",
       "       [False, False, False, ..., False, False, False],\n",
       "       [False, False, False, ..., False, False, False],\n",
       "       [False, False, False, ..., False, False, False]])"
      ]
     },
     "execution_count": 12,
     "metadata": {},
     "output_type": "execute_result"
    }
   ],
   "source": [
    "\n",
    "# One of the things that the GenotypeArray class does is provide a\n",
    "# slightly more visually-appealing representation when used in a Jupyter notebook,\n",
    "# as can be seen above.\n",
    "# There are also methods for making various computations over the genotype calls.\n",
    "# For example, the is_het() method locates all heterozygous genotype calls\n",
    "gt.is_het()"
   ]
  },
  {
   "cell_type": "code",
   "execution_count": 13,
   "id": "28df2361-a836-466b-9f49-11ce28d2f6b4",
   "metadata": {},
   "outputs": [
    {
     "data": {
      "text/plain": [
       "array([ 0, 13, 23, ...,  0,  0,  0])"
      ]
     },
     "execution_count": 13,
     "metadata": {},
     "output_type": "execute_result"
    }
   ],
   "source": [
    "\n",
    "# To give another example,\n",
    "# the count_het() method will count heterozygous calls,\n",
    "# summing over variants (axis=0) or samples (axis=1) if requested.\n",
    "# E.g., to count the number of het calls per variant:\n",
    "gt.count_het(axis=1)"
   ]
  },
  {
   "cell_type": "code",
   "execution_count": 14,
   "id": "faaf6756-3ae5-4f34-99fe-17c99b2db48a",
   "metadata": {},
   "outputs": [
    {
     "data": {
      "text/html": [
       "<div class=\"allel allel-DisplayAs2D\"><span>&lt;AlleleCountsArray shape=(905788, 2) dtype=int32&gt;</span><table><thead><tr><th></th><th style=\"text-align: center\">0</th><th style=\"text-align: center\">1</th></tr></thead><tbody><tr><th style=\"text-align: center; background-color: white; border-right: 1px solid black; \">0</th><td style=\"text-align: center\">710</td><td style=\"text-align: center\">  0</td></tr><tr><th style=\"text-align: center; background-color: white; border-right: 1px solid black; \">1</th><td style=\"text-align: center\">661</td><td style=\"text-align: center\"> 13</td></tr><tr><th style=\"text-align: center; background-color: white; border-right: 1px solid black; \">2</th><td style=\"text-align: center\">687</td><td style=\"text-align: center\"> 23</td></tr><tr><th style=\"text-align: center; background-color: white; border-right: 1px solid black; \">...</th><td style=\"text-align: center\" colspan=\"3\">...</td></tr><tr><th style=\"text-align: center; background-color: white; border-right: 1px solid black; \">905785</th><td style=\"text-align: center\">346</td><td style=\"text-align: center\">  9</td></tr><tr><th style=\"text-align: center; background-color: white; border-right: 1px solid black; \">905786</th><td style=\"text-align: center\"> 42</td><td style=\"text-align: center\">313</td></tr><tr><th style=\"text-align: center; background-color: white; border-right: 1px solid black; \">905787</th><td style=\"text-align: center\">347</td><td style=\"text-align: center\">  7</td></tr></tbody></table></div>"
      ],
      "text/plain": [
       "<AlleleCountsArray shape=(905788, 2) dtype=int32>\n",
       "710   0\n",
       "661  13\n",
       "687  23\n",
       "...\n",
       "346   9\n",
       " 42 313\n",
       "347   7"
      ]
     },
     "execution_count": 14,
     "metadata": {},
     "output_type": "execute_result"
    }
   ],
   "source": [
    "\n",
    "# One more example,\n",
    "# here is how to perform an allele count, i.e.,\n",
    "# count the number times each allele\n",
    "# (0=reference, 1=first alternate, 2=second alternate, etc.)\n",
    "# is observed for each variant:\n",
    "ac = gt.count_alleles()\n",
    "ac"
   ]
  },
  {
   "cell_type": "markdown",
   "id": "c955bdd2-0147-4c06-b125-99cd71041287",
   "metadata": {},
   "source": [
    "\n",
    "## Fields"
   ]
  },
  {
   "cell_type": "code",
   "execution_count": 15,
   "id": "1696c5e1-730c-4ef1-bc0f-997381b80dbe",
   "metadata": {},
   "outputs": [
    {
     "data": {
      "text/plain": [
       "['calldata/GT',\n",
       " 'samples',\n",
       " 'variants/AC',\n",
       " 'variants/AF',\n",
       " 'variants/ALT',\n",
       " 'variants/AN',\n",
       " 'variants/CHROM',\n",
       " 'variants/DB',\n",
       " 'variants/FILTER_PASS',\n",
       " 'variants/ID',\n",
       " 'variants/NS',\n",
       " 'variants/POS',\n",
       " 'variants/QUAL',\n",
       " 'variants/REF',\n",
       " 'variants/SF',\n",
       " 'variants/altlen',\n",
       " 'variants/is_snp',\n",
       " 'variants/numalt',\n",
       " 'variants/set']"
      ]
     },
     "execution_count": 15,
     "metadata": {},
     "output_type": "execute_result"
    }
   ],
   "source": [
    "\n",
    "# If you want to extract absolutely everything from a VCF file,\n",
    "# then you can provide a special value '*' as the fields parameter:\n",
    "callset_dict = allel.read_vcf(file_path, fields='*')\n",
    "sorted(callset_dict.keys())"
   ]
  },
  {
   "cell_type": "code",
   "execution_count": 22,
   "id": "083e04a8-6043-431a-810b-bda95b8f1269",
   "metadata": {},
   "outputs": [
    {
     "data": {
      "text/html": [
       "<div>\n",
       "<style scoped>\n",
       "    .dataframe tbody tr th:only-of-type {\n",
       "        vertical-align: middle;\n",
       "    }\n",
       "\n",
       "    .dataframe tbody tr th {\n",
       "        vertical-align: top;\n",
       "    }\n",
       "\n",
       "    .dataframe thead th {\n",
       "        text-align: right;\n",
       "    }\n",
       "</style>\n",
       "<table border=\"1\" class=\"dataframe\">\n",
       "  <thead>\n",
       "    <tr style=\"text-align: right;\">\n",
       "      <th></th>\n",
       "      <th>CHROM</th>\n",
       "      <th>POS</th>\n",
       "      <th>ID</th>\n",
       "      <th>REF</th>\n",
       "      <th>ALT</th>\n",
       "      <th>AC</th>\n",
       "      <th>AN</th>\n",
       "      <th>DB</th>\n",
       "      <th>NS</th>\n",
       "      <th>FILTER_PASS</th>\n",
       "      <th>numalt</th>\n",
       "      <th>altlen</th>\n",
       "      <th>is_snp</th>\n",
       "    </tr>\n",
       "  </thead>\n",
       "  <tbody>\n",
       "    <tr>\n",
       "      <th>0</th>\n",
       "      <td>1</td>\n",
       "      <td>564621</td>\n",
       "      <td>rs10458597</td>\n",
       "      <td>C</td>\n",
       "      <td>T</td>\n",
       "      <td>-1</td>\n",
       "      <td>-1</td>\n",
       "      <td>False</td>\n",
       "      <td>-1</td>\n",
       "      <td>False</td>\n",
       "      <td>1</td>\n",
       "      <td>0</td>\n",
       "      <td>True</td>\n",
       "    </tr>\n",
       "    <tr>\n",
       "      <th>1</th>\n",
       "      <td>1</td>\n",
       "      <td>564773</td>\n",
       "      <td>.</td>\n",
       "      <td>C</td>\n",
       "      <td>T</td>\n",
       "      <td>-1</td>\n",
       "      <td>-1</td>\n",
       "      <td>False</td>\n",
       "      <td>-1</td>\n",
       "      <td>False</td>\n",
       "      <td>1</td>\n",
       "      <td>0</td>\n",
       "      <td>True</td>\n",
       "    </tr>\n",
       "    <tr>\n",
       "      <th>2</th>\n",
       "      <td>1</td>\n",
       "      <td>721290</td>\n",
       "      <td>rs12565286</td>\n",
       "      <td>G</td>\n",
       "      <td>C</td>\n",
       "      <td>-1</td>\n",
       "      <td>-1</td>\n",
       "      <td>False</td>\n",
       "      <td>-1</td>\n",
       "      <td>False</td>\n",
       "      <td>1</td>\n",
       "      <td>0</td>\n",
       "      <td>True</td>\n",
       "    </tr>\n",
       "    <tr>\n",
       "      <th>3</th>\n",
       "      <td>1</td>\n",
       "      <td>740857</td>\n",
       "      <td>rs12082473</td>\n",
       "      <td>G</td>\n",
       "      <td>A</td>\n",
       "      <td>-1</td>\n",
       "      <td>-1</td>\n",
       "      <td>False</td>\n",
       "      <td>-1</td>\n",
       "      <td>False</td>\n",
       "      <td>1</td>\n",
       "      <td>0</td>\n",
       "      <td>True</td>\n",
       "    </tr>\n",
       "    <tr>\n",
       "      <th>4</th>\n",
       "      <td>1</td>\n",
       "      <td>752566</td>\n",
       "      <td>rs3094315</td>\n",
       "      <td>G</td>\n",
       "      <td>A</td>\n",
       "      <td>-1</td>\n",
       "      <td>-1</td>\n",
       "      <td>False</td>\n",
       "      <td>-1</td>\n",
       "      <td>False</td>\n",
       "      <td>1</td>\n",
       "      <td>0</td>\n",
       "      <td>True</td>\n",
       "    </tr>\n",
       "    <tr>\n",
       "      <th>...</th>\n",
       "      <td>...</td>\n",
       "      <td>...</td>\n",
       "      <td>...</td>\n",
       "      <td>...</td>\n",
       "      <td>...</td>\n",
       "      <td>...</td>\n",
       "      <td>...</td>\n",
       "      <td>...</td>\n",
       "      <td>...</td>\n",
       "      <td>...</td>\n",
       "      <td>...</td>\n",
       "      <td>...</td>\n",
       "      <td>...</td>\n",
       "    </tr>\n",
       "    <tr>\n",
       "      <th>53815</th>\n",
       "      <td>MT</td>\n",
       "      <td>15453</td>\n",
       "      <td>.</td>\n",
       "      <td>C</td>\n",
       "      <td>A</td>\n",
       "      <td>-1</td>\n",
       "      <td>-1</td>\n",
       "      <td>False</td>\n",
       "      <td>-1</td>\n",
       "      <td>False</td>\n",
       "      <td>1</td>\n",
       "      <td>0</td>\n",
       "      <td>True</td>\n",
       "    </tr>\n",
       "    <tr>\n",
       "      <th>53816</th>\n",
       "      <td>MT</td>\n",
       "      <td>15607</td>\n",
       "      <td>rs28357372</td>\n",
       "      <td>A</td>\n",
       "      <td>G</td>\n",
       "      <td>-1</td>\n",
       "      <td>-1</td>\n",
       "      <td>False</td>\n",
       "      <td>-1</td>\n",
       "      <td>False</td>\n",
       "      <td>1</td>\n",
       "      <td>0</td>\n",
       "      <td>True</td>\n",
       "    </tr>\n",
       "    <tr>\n",
       "      <th>53817</th>\n",
       "      <td>MT</td>\n",
       "      <td>15630</td>\n",
       "      <td>.</td>\n",
       "      <td>T</td>\n",
       "      <td>C</td>\n",
       "      <td>-1</td>\n",
       "      <td>-1</td>\n",
       "      <td>False</td>\n",
       "      <td>-1</td>\n",
       "      <td>False</td>\n",
       "      <td>1</td>\n",
       "      <td>0</td>\n",
       "      <td>True</td>\n",
       "    </tr>\n",
       "    <tr>\n",
       "      <th>53818</th>\n",
       "      <td>MT</td>\n",
       "      <td>15784</td>\n",
       "      <td>rs28357375</td>\n",
       "      <td>C</td>\n",
       "      <td>T</td>\n",
       "      <td>-1</td>\n",
       "      <td>-1</td>\n",
       "      <td>False</td>\n",
       "      <td>-1</td>\n",
       "      <td>False</td>\n",
       "      <td>1</td>\n",
       "      <td>0</td>\n",
       "      <td>True</td>\n",
       "    </tr>\n",
       "    <tr>\n",
       "      <th>53819</th>\n",
       "      <td>MT</td>\n",
       "      <td>16148</td>\n",
       "      <td>rs2854125</td>\n",
       "      <td>C</td>\n",
       "      <td>T</td>\n",
       "      <td>-1</td>\n",
       "      <td>-1</td>\n",
       "      <td>False</td>\n",
       "      <td>-1</td>\n",
       "      <td>False</td>\n",
       "      <td>1</td>\n",
       "      <td>0</td>\n",
       "      <td>True</td>\n",
       "    </tr>\n",
       "  </tbody>\n",
       "</table>\n",
       "<p>905788 rows × 13 columns</p>\n",
       "</div>"
      ],
      "text/plain": [
       "      CHROM     POS          ID REF ALT  AC  AN     DB  NS  FILTER_PASS  \\\n",
       "0         1  564621  rs10458597   C   T  -1  -1  False  -1        False   \n",
       "1         1  564773           .   C   T  -1  -1  False  -1        False   \n",
       "2         1  721290  rs12565286   G   C  -1  -1  False  -1        False   \n",
       "3         1  740857  rs12082473   G   A  -1  -1  False  -1        False   \n",
       "4         1  752566   rs3094315   G   A  -1  -1  False  -1        False   \n",
       "...     ...     ...         ...  ..  ..  ..  ..    ...  ..          ...   \n",
       "53815    MT   15453           .   C   A  -1  -1  False  -1        False   \n",
       "53816    MT   15607  rs28357372   A   G  -1  -1  False  -1        False   \n",
       "53817    MT   15630           .   T   C  -1  -1  False  -1        False   \n",
       "53818    MT   15784  rs28357375   C   T  -1  -1  False  -1        False   \n",
       "53819    MT   16148   rs2854125   C   T  -1  -1  False  -1        False   \n",
       "\n",
       "       numalt  altlen  is_snp  \n",
       "0           1       0    True  \n",
       "1           1       0    True  \n",
       "2           1       0    True  \n",
       "3           1       0    True  \n",
       "4           1       0    True  \n",
       "...       ...     ...     ...  \n",
       "53815       1       0    True  \n",
       "53816       1       0    True  \n",
       "53817       1       0    True  \n",
       "53818       1       0    True  \n",
       "53819       1       0    True  \n",
       "\n",
       "[905788 rows x 13 columns]"
      ]
     },
     "execution_count": 22,
     "metadata": {},
     "output_type": "execute_result"
    }
   ],
   "source": [
    "\n",
    "# For some analyses it can be useful to think of the data in a VCF file as a table or data frame,\n",
    "# especially if you are only analysing data from the fixed fields and\n",
    "# don’t need the genotype calls or any other call data\n",
    "df = allel.vcf_to_dataframe(file_path, fields='*', alt_number=1).dropna(axis='columns', how='all')\n",
    "df"
   ]
  },
  {
   "cell_type": "code",
   "execution_count": null,
   "id": "6302dd04-0bb4-4d59-85c7-f79198434261",
   "metadata": {},
   "outputs": [],
   "source": []
  }
 ],
 "metadata": {
  "kernelspec": {
   "display_name": "Python 3",
   "language": "python",
   "name": "python3"
  },
  "language_info": {
   "codemirror_mode": {
    "name": "ipython",
    "version": 3
   },
   "file_extension": ".py",
   "mimetype": "text/x-python",
   "name": "python",
   "nbconvert_exporter": "python",
   "pygments_lexer": "ipython3",
   "version": "3.8.10"
  }
 },
 "nbformat": 4,
 "nbformat_minor": 5
}
