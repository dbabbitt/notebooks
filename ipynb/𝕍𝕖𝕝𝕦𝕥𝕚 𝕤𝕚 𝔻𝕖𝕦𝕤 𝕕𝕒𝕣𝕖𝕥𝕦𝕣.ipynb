{
 "cells": [
  {
   "cell_type": "code",
   "execution_count": 4,
   "metadata": {},
   "outputs": [
    {
     "data": {
      "text/plain": [
       "'240-157-149-167'"
      ]
     },
     "execution_count": 4,
     "metadata": {},
     "output_type": "execute_result"
    }
   ],
   "source": [
    "\n",
    "# Handy list of the different types of encodings\n",
    "encoding = ['latin1', 'iso8859-1', 'utf-8'][2]\n",
    "text_str = '𝕧𝕖𝕣𝕤 𝕝𝕒 𝕃𝕦𝕟𝕖'\n",
    "text_bytes = '-'.join(str(x) for x in bytearray(str(text_str), encoding=encoding, errors=\"replace\"))\n",
    "text_bytes"
   ]
  },
  {
   "cell_type": "code",
   "execution_count": 17,
   "metadata": {},
   "outputs": [
    {
     "name": "stdout",
     "output_type": "stream",
     "text": [
      "𝕃: 120131\n",
      "𝕒: 120146\n",
      "𝕖: 120150\n",
      "𝕝: 120157\n",
      "𝕟: 120159\n",
      "𝕣: 120163\n",
      "𝕤: 120164\n",
      "𝕦: 120166\n",
      "𝕧: 120167\n"
     ]
    }
   ],
   "source": [
    "\n",
    "text_str = '𝕧𝕖𝕣𝕤𝕝𝕒𝕃𝕦𝕟'\n",
    "for char in sorted(list(text_str)):\n",
    "    print(f'{char}: {ord(char)}')"
   ]
  },
  {
   "cell_type": "code",
   "execution_count": 19,
   "metadata": {},
   "outputs": [
    {
     "data": {
      "text/plain": [
       "120172"
      ]
     },
     "execution_count": 19,
     "metadata": {},
     "output_type": "execute_result"
    }
   ],
   "source": [
    "\n",
    "120167 + 5"
   ]
  },
  {
   "cell_type": "code",
   "execution_count": 18,
   "metadata": {},
   "outputs": [
    {
     "data": {
      "text/plain": [
       "120120"
      ]
     },
     "execution_count": 18,
     "metadata": {},
     "output_type": "execute_result"
    }
   ],
   "source": [
    "\n",
    "120131 - (120157 - 120146)"
   ]
  },
  {
   "cell_type": "code",
   "execution_count": 20,
   "metadata": {},
   "outputs": [
    {
     "name": "stdout",
     "output_type": "stream",
     "text": [
      "120120: 𝔸\n",
      "120121: 𝔹\n",
      "120122: 𝔺\n",
      "120123: 𝔻\n",
      "120124: 𝔼\n",
      "120125: 𝔽\n",
      "120126: 𝔾\n",
      "120127: 𝔿\n",
      "120128: 𝕀\n",
      "120129: 𝕁\n",
      "120130: 𝕂\n",
      "120131: 𝕃\n",
      "120132: 𝕄\n",
      "120133: 𝕅\n",
      "120134: 𝕆\n",
      "120135: 𝕇\n",
      "120136: 𝕈\n",
      "120137: 𝕉\n",
      "120138: 𝕊\n",
      "120139: 𝕋\n",
      "120140: 𝕌\n",
      "120141: 𝕍\n",
      "120142: 𝕎\n",
      "120143: 𝕏\n",
      "120144: 𝕐\n",
      "120145: 𝕑\n",
      "120146: 𝕒\n",
      "120147: 𝕓\n",
      "120148: 𝕔\n",
      "120149: 𝕕\n",
      "120150: 𝕖\n",
      "120151: 𝕗\n",
      "120152: 𝕘\n",
      "120153: 𝕙\n",
      "120154: 𝕚\n",
      "120155: 𝕛\n",
      "120156: 𝕜\n",
      "120157: 𝕝\n",
      "120158: 𝕞\n",
      "120159: 𝕟\n",
      "120160: 𝕠\n",
      "120161: 𝕡\n",
      "120162: 𝕢\n",
      "120163: 𝕣\n",
      "120164: 𝕤\n",
      "120165: 𝕥\n",
      "120166: 𝕦\n",
      "120167: 𝕧\n",
      "120168: 𝕨\n",
      "120169: 𝕩\n",
      "120170: 𝕪\n",
      "120171: 𝕫\n"
     ]
    }
   ],
   "source": [
    "\n",
    "for i in range(120120, 120172):\n",
    "    print(f'{i}: {chr(i)}')"
   ]
  },
  {
   "cell_type": "code",
   "execution_count": 22,
   "metadata": {},
   "outputs": [
    {
     "name": "stdout",
     "output_type": "stream",
     "text": [
      "A: 65\n",
      " : 32\n",
      "Z: 90\n",
      " : 32\n",
      "a: 97\n",
      " : 32\n",
      "z: 122\n"
     ]
    }
   ],
   "source": [
    "\n",
    "text_str = 'A Z a z'\n",
    "for char in list(text_str):\n",
    "    print(f'{char}: {ord(char)}')"
   ]
  },
  {
   "cell_type": "code",
   "execution_count": 28,
   "metadata": {},
   "outputs": [
    {
     "data": {
      "text/plain": [
       "(120055, 120049)"
      ]
     },
     "execution_count": 28,
     "metadata": {},
     "output_type": "execute_result"
    }
   ],
   "source": [
    "\n",
    "(ord('𝔸') - ord('A')), (ord('𝕒') - ord('a'))"
   ]
  },
  {
   "cell_type": "code",
   "execution_count": 32,
   "metadata": {},
   "outputs": [],
   "source": [
    "\n",
    "def outline_chars(text_str):\n",
    "    ord_list = []\n",
    "    for char in list(text_str):\n",
    "        i = ord(char)\n",
    "        if i >= ord('a'):\n",
    "            i += (ord('𝕒') - ord('a'))\n",
    "        elif i >= ord('A'):\n",
    "            i += (ord('𝔸') - ord('A'))\n",
    "        #print(f'{char} or {ord(char)}: {i} or {chr(i)}')\n",
    "        ord_list.append(i)\n",
    "        \n",
    "    return ''.join([chr(i) for i in ord_list])"
   ]
  },
  {
   "cell_type": "code",
   "execution_count": 33,
   "metadata": {},
   "outputs": [
    {
     "data": {
      "text/plain": [
       "'𝕍𝕖𝕝𝕦𝕥𝕚 𝕤𝕚 𝔻𝕖𝕦𝕤 𝕕𝕒𝕣𝕖𝕥𝕦𝕣'"
      ]
     },
     "execution_count": 33,
     "metadata": {},
     "output_type": "execute_result"
    }
   ],
   "source": [
    "\n",
    "text_str = 'Veluti si Deus daretur'\n",
    "outline_chars(text_str)"
   ]
  },
  {
   "cell_type": "code",
   "execution_count": null,
   "metadata": {},
   "outputs": [],
   "source": []
  }
 ],
 "metadata": {
  "kernelspec": {
   "display_name": "Python 3",
   "language": "python",
   "name": "python3"
  },
  "language_info": {
   "codemirror_mode": {
    "name": "ipython",
    "version": 3
   },
   "file_extension": ".py",
   "mimetype": "text/x-python",
   "name": "python",
   "nbconvert_exporter": "python",
   "pygments_lexer": "ipython3",
   "version": "3.7.6"
  }
 },
 "nbformat": 4,
 "nbformat_minor": 4
}
