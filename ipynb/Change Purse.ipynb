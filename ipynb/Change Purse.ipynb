{
 "cells": [
  {
   "cell_type": "code",
   "execution_count": null,
   "id": "e029159c-57ee-4d8c-b02b-c71fe56394eb",
   "metadata": {},
   "outputs": [],
   "source": []
  },
  {
   "cell_type": "code",
   "execution_count": 1,
   "id": "ffc9fc32-ea5c-4ab7-8998-9db37e67ca9b",
   "metadata": {},
   "outputs": [
    {
     "name": "stdout",
     "output_type": "stream",
     "text": [
      "How about 1 dimes, 10 nickels, and 1 pennies? That's 61 cents total.\n"
     ]
    }
   ],
   "source": [
    "\n",
    "import random\n",
    "\n",
    "DIME_VALUE = 10\n",
    "NICKEL_VALUE = 5\n",
    "PENNY_VALUE = 1\n",
    "\n",
    "DIME_MAX = 100//DIME_VALUE\n",
    "NICKEL_MAX = 100//NICKEL_VALUE\n",
    "PENNY_MAX = 100//PENNY_VALUE\n",
    "\n",
    "def get_counts():\n",
    "    dime_count = random.randint(1, DIME_MAX)\n",
    "    nickel_count = random.randint(1, NICKEL_MAX)\n",
    "    penny_count = random.randint(1, PENNY_MAX)\n",
    "    total_change = (dime_count * DIME_VALUE) + (nickel_count * NICKEL_VALUE) + (penny_count * PENNY_VALUE)\n",
    "\n",
    "    return dime_count, nickel_count, penny_count, total_change\n",
    "\n",
    "dime_count, nickel_count, penny_count, total_change = get_counts()\n",
    "\n",
    "# A dollar or less of change. Don't put in more dimes than nickels, and make the pennies 10 or less.\n",
    "# Just do 11 nickels at most, but no less than 3\n",
    "while (total_change > 100) or (dime_count > nickel_count) or (penny_count >= 10) or (nickel_count > 11) or (nickel_count <= 3):\n",
    "    dime_count, nickel_count, penny_count, total_change = get_counts()\n",
    "\n",
    "text_str = f\"How about {dime_count} dimes, {nickel_count} nickels, and {penny_count} pennies? That's {total_change} cents total.\"\n",
    "print(text_str)"
   ]
  },
  {
   "cell_type": "code",
   "execution_count": 2,
   "id": "0a11f758-1878-4d06-8207-9763386138c7",
   "metadata": {},
   "outputs": [
    {
     "name": "stdout",
     "output_type": "stream",
     "text": [
      "C:\\ProgramData\\Anaconda3\\python.exe -m pip install --upgrade plivo\n",
      "Requirement already satisfied: plivo in c:\\programdata\\anaconda3\\lib\\site-packages (4.27.0)\n",
      "Requirement already satisfied: lxml<5,>=3 in c:\\programdata\\anaconda3\\lib\\site-packages (from plivo) (4.8.0)\n",
      "Requirement already satisfied: PyJWT in c:\\programdata\\anaconda3\\lib\\site-packages (from plivo) (2.1.0)\n",
      "Requirement already satisfied: decorator<5,>=4 in c:\\programdata\\anaconda3\\lib\\site-packages (from plivo) (4.4.2)\n",
      "Requirement already satisfied: requests<3,>=2 in c:\\programdata\\anaconda3\\lib\\site-packages (from plivo) (2.21.0)\n",
      "Requirement already satisfied: six<2,>=1 in c:\\programdata\\anaconda3\\lib\\site-packages (from plivo) (1.12.0)\n",
      "Requirement already satisfied: urllib3<1.25,>=1.21.1 in c:\\programdata\\anaconda3\\lib\\site-packages (from requests<3,>=2->plivo) (1.24.3)\n",
      "Requirement already satisfied: chardet<3.1.0,>=3.0.2 in c:\\programdata\\anaconda3\\lib\\site-packages (from requests<3,>=2->plivo) (3.0.4)\n",
      "Requirement already satisfied: idna<2.9,>=2.5 in c:\\programdata\\anaconda3\\lib\\site-packages (from requests<3,>=2->plivo) (2.8)\n",
      "Requirement already satisfied: certifi>=2017.4.17 in c:\\programdata\\anaconda3\\lib\\site-packages (from requests<3,>=2->plivo) (2021.10.8)\n"
     ]
    }
   ],
   "source": [
    "\n",
    "import sys\n",
    "\n",
    "command_str = f'{sys.executable} -m pip install --upgrade plivo'\n",
    "print(command_str)\n",
    "!{command_str}"
   ]
  },
  {
   "cell_type": "code",
   "execution_count": 3,
   "id": "eea1cb1b-04b9-438d-8ee8-ee5350e8e28d",
   "metadata": {},
   "outputs": [],
   "source": [
    "\n",
    "import json\n",
    "\n",
    "# https://console.plivo.com/sms/reporting/\n",
    "secrets_path = '../data/json/secrets.json'\n",
    "with open(secrets_path) as f:\n",
    "    secrets_dict = json.loads(f.read())\n",
    "auth_id = secrets_dict['plivo_auth_id']\n",
    "auth_token = secrets_dict['plivo_auth_token']"
   ]
  },
  {
   "cell_type": "code",
   "execution_count": 4,
   "id": "5f3708dd-43fc-4c3b-8a40-abdfba67e64a",
   "metadata": {},
   "outputs": [
    {
     "name": "stdout",
     "output_type": "stream",
     "text": [
      "Invalid auth_id supplied:  MAMMM4NGUZM2RMYTM5NZ\n"
     ]
    }
   ],
   "source": [
    "\n",
    "import plivo\n",
    "from plivo.exceptions import AuthenticationError\n",
    "\n",
    "FROM_NUMBER = 4132449949\n",
    "TO_NUMBER = 7575855330\n",
    "try:\n",
    "    client = plivo.RestClient(auth_id, auth_token)\n",
    "    message_created = client.messages.create(\n",
    "        src=FROM_NUMBER,\n",
    "        dst=FROM_NUMBER,\n",
    "        text=text_str\n",
    "    )\n",
    "except AuthenticationError as e:\n",
    "    print(str(e).strip())"
   ]
  },
  {
   "cell_type": "code",
   "execution_count": null,
   "id": "32733bce-222a-4201-9b21-8fdadfcde56f",
   "metadata": {},
   "outputs": [],
   "source": []
  }
 ],
 "metadata": {
  "kernelspec": {
   "display_name": "Python 3 (ipykernel)",
   "language": "python",
   "name": "python3"
  },
  "language_info": {
   "codemirror_mode": {
    "name": "ipython",
    "version": 3
   },
   "file_extension": ".py",
   "mimetype": "text/x-python",
   "name": "python",
   "nbconvert_exporter": "python",
   "pygments_lexer": "ipython3",
   "version": "3.9.7"
  }
 },
 "nbformat": 4,
 "nbformat_minor": 5
}
