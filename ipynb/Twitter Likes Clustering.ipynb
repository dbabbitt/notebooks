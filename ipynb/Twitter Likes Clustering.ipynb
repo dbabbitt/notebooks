{
 "cells": [
  {
   "cell_type": "code",
   "execution_count": 1,
   "metadata": {},
   "outputs": [],
   "source": [
    "\n",
    "# Run these in the RGui first\n",
    "# install.packages(\"devtools\")\n",
    "# library(devtools)\n",
    "# install.packages(\"Rcpp\")\n",
    "# devtools::install_github(\"mkearney/rtweet\")\n",
    "library(rtweet)"
   ]
  },
  {
   "cell_type": "code",
   "execution_count": 3,
   "metadata": {},
   "outputs": [
    {
     "name": "stderr",
     "output_type": "stream",
     "text": [
      "-- \u001b[1mAttaching packages\u001b[22m ------------------------------------------------------------------------------- tidyverse 1.3.0 --\n",
      "\n",
      "\u001b[32mv\u001b[39m \u001b[34mggplot2\u001b[39m 3.3.3     \u001b[32mv\u001b[39m \u001b[34mpurrr  \u001b[39m 0.3.4\n",
      "\u001b[32mv\u001b[39m \u001b[34mtibble \u001b[39m 3.0.5     \u001b[32mv\u001b[39m \u001b[34mdplyr  \u001b[39m 1.0.3\n",
      "\u001b[32mv\u001b[39m \u001b[34mtidyr  \u001b[39m 1.1.2     \u001b[32mv\u001b[39m \u001b[34mstringr\u001b[39m 1.4.0\n",
      "\u001b[32mv\u001b[39m \u001b[34mreadr  \u001b[39m 1.4.0     \u001b[32mv\u001b[39m \u001b[34mforcats\u001b[39m 0.5.0\n",
      "\n",
      "-- \u001b[1mConflicts\u001b[22m ---------------------------------------------------------------------------------- tidyverse_conflicts() --\n",
      "\u001b[31mx\u001b[39m \u001b[34mdplyr\u001b[39m::\u001b[32mfilter()\u001b[39m  masks \u001b[34mstats\u001b[39m::filter()\n",
      "\u001b[31mx\u001b[39m \u001b[34mpurrr\u001b[39m::\u001b[32mflatten()\u001b[39m masks \u001b[34mrtweet\u001b[39m::flatten()\n",
      "\u001b[31mx\u001b[39m \u001b[34mdplyr\u001b[39m::\u001b[32mlag()\u001b[39m     masks \u001b[34mstats\u001b[39m::lag()\n",
      "\n"
     ]
    }
   ],
   "source": [
    "\n",
    "# Run this in the RGui first\n",
    "# install.packages(\"tidyverse\")\n",
    "library(tidyverse)"
   ]
  },
  {
   "cell_type": "code",
   "execution_count": 5,
   "metadata": {},
   "outputs": [
    {
     "name": "stderr",
     "output_type": "stream",
     "text": [
      "Loading required package: permute\n",
      "\n",
      "Loading required package: lattice\n",
      "\n",
      "This is vegan 2.5-7\n",
      "\n"
     ]
    }
   ],
   "source": [
    "\n",
    "# Run this in the RGui first\n",
    "# install.packages(\"vegan\")\n",
    "library(vegan)"
   ]
  },
  {
   "cell_type": "code",
   "execution_count": 7,
   "metadata": {},
   "outputs": [],
   "source": [
    "\n",
    "# Run this in the RGui first\n",
    "# install.packages(\"Rtsne\")\n",
    "library(Rtsne)"
   ]
  },
  {
   "cell_type": "code",
   "execution_count": 9,
   "metadata": {},
   "outputs": [],
   "source": [
    "\n",
    "source(\"../R/FastPCA.R\")"
   ]
  },
  {
   "cell_type": "code",
   "execution_count": 10,
   "metadata": {},
   "outputs": [
    {
     "name": "stderr",
     "output_type": "stream",
     "text": [
      "\n",
      "Attaching package: 'fastcluster'\n",
      "\n",
      "\n",
      "The following object is masked from 'package:stats':\n",
      "\n",
      "    hclust\n",
      "\n",
      "\n"
     ]
    }
   ],
   "source": [
    "\n",
    "# Run this in the RGui first\n",
    "# install.packages(\"fastcluster\")\n",
    "library(fastcluster)"
   ]
  },
  {
   "cell_type": "code",
   "execution_count": 12,
   "metadata": {},
   "outputs": [
    {
     "name": "stderr",
     "output_type": "stream",
     "text": [
      "Registered S3 method overwritten by 'dendextend':\n",
      "  method     from \n",
      "  rev.hclust vegan\n",
      "\n",
      "\n",
      "---------------------\n",
      "Welcome to dendextend version 1.14.0\n",
      "Type citation('dendextend') for how to cite the package.\n",
      "\n",
      "Type browseVignettes(package = 'dendextend') for the package vignette.\n",
      "The github page is: https://github.com/talgalili/dendextend/\n",
      "\n",
      "Suggestions and bug-reports can be submitted at: https://github.com/talgalili/dendextend/issues\n",
      "Or contact: <tal.galili@gmail.com>\n",
      "\n",
      "\tTo suppress this message use:  suppressPackageStartupMessages(library(dendextend))\n",
      "---------------------\n",
      "\n",
      "\n",
      "\n",
      "Attaching package: 'dendextend'\n",
      "\n",
      "\n",
      "The following object is masked from 'package:permute':\n",
      "\n",
      "    shuffle\n",
      "\n",
      "\n",
      "The following object is masked from 'package:stats':\n",
      "\n",
      "    cutree\n",
      "\n",
      "\n"
     ]
    }
   ],
   "source": [
    "\n",
    "# Run this in the RGui first\n",
    "# install.packages(\"dendextend\")\n",
    "library(dendextend)"
   ]
  },
  {
   "cell_type": "code",
   "execution_count": 13,
   "metadata": {},
   "outputs": [],
   "source": [
    "\n",
    "# ggplot2 colors\n",
    "gg_color_hue <- function(n) {\n",
    "  hues = seq(15, 375, length = n + 1)\n",
    "  hcl(h = hues, l = 65, c = 100)[1:n]\n",
    "}\n",
    "\n",
    "# Turn off annoying warning\n",
    "options(dplyr.summarise.inform=F)"
   ]
  },
  {
   "cell_type": "code",
   "execution_count": 28,
   "metadata": {},
   "outputs": [],
   "source": [
    "\n",
    "require(jsonlite)\n",
    "filepath<-\"../data/secrets/client_secrets.json\"\n",
    "json_data <- fromJSON(paste(readLines(filepath), collapse=\"\"))"
   ]
  },
  {
   "cell_type": "code",
   "execution_count": 29,
   "metadata": {},
   "outputs": [
    {
     "data": {
      "text/plain": [
       "<Token>\n",
       "<oauth_endpoint>\n",
       " request:   https://api.twitter.com/oauth/request_token\n",
       " authorize: https://api.twitter.com/oauth/authenticate\n",
       " access:    https://api.twitter.com/oauth/access_token\n",
       "<oauth_app> texasflooding\n",
       "  key:    528AVTndAszHfs4AElFBO23do\n",
       "  secret: <hidden>\n",
       "<credentials> oauth_token, oauth_token_secret\n",
       "---"
      ]
     },
     "metadata": {},
     "output_type": "display_data"
    }
   ],
   "source": [
    "\n",
    "# Twitter API authorization\n",
    "api_key = json_data$twitter$api_key\n",
    "api_secret = json_data$twitter$api_secret\n",
    "access_token = json_data$twitter$access_token\n",
    "access_secret = json_data$twitter$access_secret\n",
    "app_name = json_data$twitter$app_name\n",
    "\n",
    "create_token(\n",
    "  app = app_name,\n",
    "  consumer_key = api_key,\n",
    "  consumer_secret = api_secret,\n",
    "  access_token = access_token,\n",
    "  access_secret = access_secret\n",
    ")"
   ]
  },
  {
   "cell_type": "code",
   "execution_count": 31,
   "metadata": {},
   "outputs": [
    {
     "ename": "ERROR",
     "evalue": "Error: Not a valid access token.\n",
     "output_type": "error",
     "traceback": [
      "Error: Not a valid access token.\nTraceback:\n",
      "1. get_favorites(twuser, n = 3000)",
      "2. do.call(\"get_favorites_call\", args)",
      "3. get_favorites_call(user = \"dbabbitt\", n = 3000, since_id = NULL, \n .     max_id = NULL, parse = TRUE, token = NULL)",
      "4. check_token(token)",
      "5. stop(\"Not a valid access token.\", call. = FALSE)"
     ]
    }
   ],
   "source": [
    "\n",
    "# Start collecting data\n",
    "fuser.favs = list()\n",
    "\n",
    "twuser = \"dbabbitt\" # User around which to collect neighborhood\n",
    "fuser.favs[[twuser]] = get_favorites(twuser, n=3000)\n",
    "fuser.data = users_data(fuser.favs[[twuser]])\n",
    "\n",
    "i=1\n",
    "fusers = unique(fuser.favs[[twuser]]$screen_name)"
   ]
  },
  {
   "cell_type": "code",
   "execution_count": null,
   "metadata": {},
   "outputs": [],
   "source": [
    "\n",
    "while(i <= length(fusers)) {\n",
    "  \n",
    "  fuser = fusers[i]\n",
    "  if(fuser %in% names(fuser.favs)) { i = i+1; next }\n",
    "  print(fuser)\n",
    "  \n",
    "  # get data from twitter API\n",
    "  tmp.favs = tibble()\n",
    "  tc = try({\n",
    "    tmp.favs = get_favorites(fuser, n=3000)\n",
    "  })\n",
    "\n",
    "  # inelegant way to retry when API limits exceeded\n",
    "  if((class(tc)[1] != \"try-error\") & (class(tc)[1] != \"try-warning\")) {\n",
    "    # add to dataset\n",
    "    fuser.favs[[fuser]] = tmp.favs\n",
    "    i = i + 1\n",
    "    \n",
    "    # reformat data\n",
    "    fu.all = tibble()\n",
    "    for(fu in names(fuser.favs)) {\n",
    "      if(nrow(fuser.favs[[fu]]) == 0) next\n",
    "      fu.grp = fuser.favs[[fu]] %>%\n",
    "        group_by(screen_name) %>%\n",
    "        summarise(n = n())\n",
    "      fu.grp$user = fu\n",
    "      fu.all = bind_rows(fu.all,fu.grp)\n",
    "    }\n",
    "    \n",
    "    fu.mat = fu.all %>% pivot_wider(names_from = user, values_from = n, values_fn = list(n = sum))\n",
    "    fu.mat[is.na(fu.mat)] = 0\n",
    "    fu.df = as.data.frame(fu.mat)\n",
    "    rownames(fu.df) = fu.df[,1]\n",
    "    fu.df$screen_name = NULL\n",
    "    fu.m = as.matrix(fu.df)\n",
    "    \n",
    "    # clustering based on who likes users\n",
    "    # fu.m = fu.m[rowSums(fu.m>0)>30,colSums(fu.m>0)>5]\n",
    "    # fu.m = fu.m[rowSums(fu.m>0)>30,colSums(fu.m>0)>5]\n",
    "    # fu.m = fu.m[rowSums(fu.m>0)>30,colSums(fu.m>0)>5]\n",
    "    # fu.m = fu.m[rowSums(fu.m>0)>30,colSums(fu.m>0)>5]\n",
    "    # fu.dist = as.matrix(vegdist((fu.m),method=\"jaccard\"))\n",
    "    \n",
    "    # clustered based on who users like\n",
    "    # fu.m = fu.m[rowSums(fu.m>0)>5,colSums(fu.m>0)>5]\n",
    "    # fu.m = fu.m[rowSums(fu.m>0)>5,colSums(fu.m>0)>5]\n",
    "    # fu.m = fu.m[rowSums(fu.m>0)>5,colSums(fu.m>0)>5]\n",
    "    # fu.m = fu.m[rowSums(fu.m>0)>5,colSums(fu.m>0)>5]\n",
    "    fu.m = fu.m[intersect(colnames(fu.m),rownames(fu.m)),intersect(colnames(fu.m),rownames(fu.m))]\n",
    "    fu.m = fu.m + t(fu.m)\n",
    "\n",
    "    # clustering    \n",
    "    fu.dist = as.matrix(vegdist(t(fu.m),method=\"jaccard\"))\n",
    "    fu.pca = FastPCA(fu.dist, top.k = 50)\n",
    "    fu.tsne = Rtsne(fu.pca$x, pca = FALSE, is_distance = F, verbose = T, check_duplicates = F, perplexity = 30, max_iter = 5000)\n",
    "    fu.hclust = hclust(dist(fu.tsne$Y),method=\"single\")\n",
    "\n",
    "    # k is the number of clusters to use\n",
    "    fu.cut = cutree(fu.hclust, k=16)\n",
    "    \n",
    "    if(length(fuser.favs)>2) {\n",
    "      pdf(file=\"twitter-ecology.pdf\",width=32,height=32)\n",
    "      # heatmap\n",
    "      heatmap(fu.dist,hclustfun = function(x) hclust(x,method = \"ward.D\"),cexRow=0.1,cexCol=0.1)\n",
    "\n",
    "      # circles sized to number of likes found per user\n",
    "      plot(fu.tsne$Y,pch=21,bg=rgb(0,0,1,0.3),col=NULL,cex=0.002*((colSums(fu.m))))\n",
    "      text(fu.tsne$Y, labels = colnames(fu.m),cex = 0.5)\n",
    "      \n",
    "      # circles sized to like count\n",
    "      plot(fu.tsne$Y,pch=21,bg=alpha(gg_color_hue(max(fu.cut))[fu.cut],0.3),col=NULL,cex=0.3*sqrt(rowSums(fu.m)[colnames(fu.m)]), bty=\"n\", axes=F, xaxt='n', yaxt='n')\n",
    "      text(fu.tsne$Y, labels = colnames(fu.m),cex = 0.4)\n",
    "      \n",
    "      # circles sized to follower count\n",
    "      plot(fu.tsne$Y,pch=21,bg=rgb(0,0,1,0.3),col=NULL,cex=0.7*sqrt(sqrt(fuser.data$followers_count[match(colnames(fu.m),fuser.data$screen_name)])))\n",
    "      text(fu.tsne$Y, labels = colnames(fu.m),cex = 0.5)\n",
    "      dev.off()\n",
    "    }\n",
    "    \n",
    "    # add new users who have at least 200 likes from the group\n",
    "    addusers = fu.df[order(rowSums(fu.df),decreasing=T),]\n",
    "    fusers = union(fusers,rownames(addusers)[rowSums(addusers)>200])\n",
    "\n",
    "  } else { print(\"sleeping\"); Sys.sleep(60) }\n",
    "}"
   ]
  }
 ],
 "metadata": {
  "kernelspec": {
   "display_name": "R 4.0.3",
   "language": "R",
   "name": "ir"
  },
  "language_info": {
   "codemirror_mode": "r",
   "file_extension": ".r",
   "mimetype": "text/x-r-source",
   "name": "R",
   "pygments_lexer": "r",
   "version": "4.0.3"
  }
 },
 "nbformat": 4,
 "nbformat_minor": 4
}
