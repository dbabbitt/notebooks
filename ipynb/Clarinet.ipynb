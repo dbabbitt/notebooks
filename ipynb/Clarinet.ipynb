{
 "cells": [
  {
   "cell_type": "code",
   "execution_count": 2,
   "id": "03501da0-048e-49be-8768-884d331e761b",
   "metadata": {},
   "outputs": [
    {
     "name": "stdout",
     "output_type": "stream",
     "text": [
      "Pretty printing has been turned OFF\n"
     ]
    }
   ],
   "source": [
    "\n",
    "%pprint\n",
    "\n",
    "import scamp"
   ]
  },
  {
   "cell_type": "code",
   "execution_count": 3,
   "id": "5771ea03-6222-496a-8bc2-05a4a29ccd36",
   "metadata": {},
   "outputs": [
    {
     "data": {
      "text/plain": [
       "['BeatQuantizationScheme', 'ChangePedal', 'ChordHandle', 'Clock', 'Ensemble', 'Envelope', 'EnvelopeSegment', 'MIDIStreamPlaybackImplementation', 'Measure', 'MeasureQuantizationScheme', 'MetricPhaseTarget', 'NoteHandle', 'NoteLike', 'NotePlaybackAdjustment', 'NoteProperties', 'OSCPlaybackImplementation', 'ParamPlaybackAdjustment', 'Performance', 'PerformanceNote', 'PerformancePart', 'PlaybackImplementation', 'QuantizationScheme', 'ScampInstrument', 'Score', 'Session', 'SoundfontPlaybackImplementation', 'SpellingPolicy', 'Staff', 'StaffGroup', 'StaffText', 'StartBracket', 'StartDashes', 'StartHairpin', 'StartPedal', 'StartPhrasingSlur', 'StartSlur', 'StartTrill', 'StopBracket', 'StopDashes', 'StopHairpin', 'StopPedal', 'StopPhrasingSlur', 'StopSlur', 'StopTrill', 'TempoEnvelope', 'TimeSignature', 'Transcriber', 'Tuplet', 'Voice', '__author__', '__builtins__', '__cached__', '__doc__', '__file__', '__loader__', '__name__', '__package__', '__path__', '__spec__', '__version__', '_dependencies', '_engraving_translations', '_metric_structure', '_midi', '_package_info', '_parsing', '_soundfont_host', '_thirdparty', 'current_clock', 'engraving_settings', 'fork', 'fork_unsynchronized', 'get_available_midi_input_devices', 'get_available_midi_output_devices', 'get_port_number_of_midi_device', 'instruments', 'note_properties', 'performance', 'playback_adjustments', 'playback_implementations', 'playback_settings', 'print_available_midi_input_devices', 'print_available_midi_output_devices', 'quantization', 'quantization_settings', 'score', 'session', 'settings', 'spanners', 'spelling', 'text', 'transcriber', 'utilities', 'wait', 'wait_for_children_to_finish', 'wait_forever']"
      ]
     },
     "execution_count": 3,
     "metadata": {},
     "output_type": "execute_result"
    }
   ],
   "source": [
    "\n",
    "dir(scamp)"
   ]
  },
  {
   "cell_type": "code",
   "execution_count": 4,
   "id": "61c2c873-429d-45bb-a70d-5759ea9f0c2b",
   "metadata": {},
   "outputs": [
    {
     "data": {
      "text/plain": [
       "['__abstractmethods__', '__class__', '__delattr__', '__dict__', '__dir__', '__doc__', '__eq__', '__format__', '__ge__', '__getattribute__', '__gt__', '__hash__', '__init__', '__init_subclass__', '__le__', '__lt__', '__module__', '__ne__', '__new__', '__reduce__', '__reduce_ex__', '__repr__', '__setattr__', '__sizeof__', '__str__', '__subclasshook__', '__weakref__', '_abc_impl', '_advance_tempo_map_to_beat', '_apply_tempo_function', '_catch_up_children', '_child_tree_string', '_children', '_complete_timestamp_data', '_decoder_object_hook', '_default_spelling_policy', '_dormant', '_encoder_default', '_envelope_loop_or_function', '_extend_looping_envelopes_if_needed', '_fast_forward_goal', '_from_dict', '_get_absolute_time_increments_from_beat_increments', '_get_part_name_count', '_get_time_increments_from_beat_increments', '_get_wait_end_beat', '_handle_next_wakeup_call', '_instruments', '_killed', '_last_sleep_time', '_listeners', '_log_processing_time', '_loop_segments', '_name_and_number_from_key', '_name_to_js_key_code', '_pool', '_pool_semaphore', '_priority_counter', '_queue', '_queue_has_wakeup_call', '_queue_lock', '_remove_wakeup_call_from_parent_queue', '_resolve_preset_from_name', '_resolve_synchronization_policy', '_resolve_time_stamp', '_run_in_pool', '_running_behind_warning_count', '_start_time', '_synchronization_policy', '_synchronize_children', '_timing_policy', '_to_dict', '_transcriptions_in_progress', '_uppers_to_lowers', '_wait_event', '_wait_for_child_to_finish_processing', '_wait_for_children_to_finish_processing', '_wait_in_parent', '_wait_keeper', '_woken_early', 'absolute_beat_length', 'absolute_rate', 'absolute_tempo', 'add_instrument', 'alive', 'apply_beat_length_function', 'apply_rate_function', 'apply_tempo_function', 'beat', 'beat_length', 'children', 'default_audio_driver', 'default_soundfont', 'default_spelling_policy', 'descendants', 'duplicate', 'extract_absolute_tempo_envelope', 'fast_forward_in_beats', 'fast_forward_in_time', 'fast_forward_to_beat', 'fast_forward_to_time', 'fork', 'fork_unsynchronized', 'get_available_midi_input_devices', 'get_available_midi_output_devices', 'get_instrument_by_name', 'inheritance', 'instruments', 'is_fast_forwarding', 'is_master', 'is_transcribing', 'iterate_all_relatives', 'iterate_descendants', 'iterate_inheritance', 'json_dumps', 'json_loads', 'kill', 'load_from_json', 'log_processing_time', 'master', 'name', 'new_midi_part', 'new_osc_part', 'new_part', 'new_silent_part', 'parent', 'parent_offset', 'pop_instrument', 'print_available_midi_input_devices', 'print_available_midi_output_devices', 'print_default_soundfont_presets', 'print_family_tree', 'priority', 'rate', 'register_keyboard_listener', 'register_midi_listener', 'register_mouse_listener', 'register_note', 'register_osc_listener', 'release_from_suspension', 'remove_keyboard_listener', 'remove_midi_listener', 'remove_mouse_listener', 'remove_osc_listener', 'rouse_and_hold', 'run_as_server', 'save_to_json', 'set_beat_length_target', 'set_beat_length_targets', 'set_rate_target', 'set_rate_targets', 'set_tempo_target', 'set_tempo_targets', 'start_transcribing', 'stop_logging_processing_time', 'stop_tempo_loop_or_function', 'stop_transcribing', 'synchronization_policy', 'tempo', 'tempo_history', 'time', 'time_in_master', 'time_stamp_data', 'timing_policy', 'transcriptions_in_progress', 'use_absolute_timing_policy', 'use_mixed_timing_policy', 'use_relative_timing_policy', 'wait', 'wait_for_children_to_finish', 'wait_forever']"
      ]
     },
     "execution_count": 4,
     "metadata": {},
     "output_type": "execute_result"
    }
   ],
   "source": [
    "\n",
    "s = scamp.Session()\n",
    "dir(s)"
   ]
  },
  {
   "cell_type": "code",
   "execution_count": 5,
   "id": "ece92c31-979e-429a-9351-d980bdc3baa4",
   "metadata": {},
   "outputs": [
    {
     "name": "stdout",
     "output_type": "stream",
     "text": [
      "Using preset Clarinet for clarinet\n"
     ]
    },
    {
     "data": {
      "text/plain": [
       "['__abstractmethods__', '__class__', '__delattr__', '__dict__', '__dir__', '__doc__', '__eq__', '__format__', '__ge__', '__getattribute__', '__gt__', '__hash__', '__init__', '__init_subclass__', '__le__', '__lt__', '__module__', '__ne__', '__new__', '__reduce__', '__reduce_ex__', '__repr__', '__setattr__', '__sizeof__', '__str__', '__subclasshook__', '__weakref__', '_abc_impl', '_change_param_call_counter', '_clef_preference', '_decoder_object_hook', '_default_spelling_policy', '_do_play_note', '_encoder_default', '_export_as_stand_alone', '_from_dict', '_normalize_envelopes', '_note_id_generator', '_note_info_by_id', '_note_info_lock', '_resolve_clock', '_resolve_spelling_policies', '_to_dict', '_transcribers_to_notify', 'add_osc_playback', 'add_soundfont_playback', 'add_streaming_midi_playback', 'change_note_parameter', 'change_note_pitch', 'change_note_volume', 'clef_preference', 'default_spelling_policy', 'duplicate', 'end_all_notes', 'end_note', 'ensemble', 'json_dumps', 'json_loads', 'load_from_json', 'name', 'name_count', 'note_info_by_id', 'num_notes_playing', 'play_chord', 'play_note', 'playback_implementations', 'remove_osc_playback', 'remove_soundfont_playback', 'remove_streaming_midi_playback', 'resolve_clef_preference', 'save_to_json', 'send_midi_cc', 'set_ensemble', 'set_max_pitch_bend', 'split_note', 'start_chord', 'start_note']"
      ]
     },
     "execution_count": 5,
     "metadata": {},
     "output_type": "execute_result"
    }
   ],
   "source": [
    "\n",
    "clarinet = s.new_part('clarinet')\n",
    "dir(clarinet)"
   ]
  },
  {
   "cell_type": "code",
   "execution_count": null,
   "id": "1fd0b3fe-e40a-4291-a474-09efb92e0446",
   "metadata": {},
   "outputs": [],
   "source": []
  }
 ],
 "metadata": {
  "kernelspec": {
   "display_name": "Python 3 (ipykernel)",
   "language": "python",
   "name": "python3"
  },
  "language_info": {
   "codemirror_mode": {
    "name": "ipython",
    "version": 3
   },
   "file_extension": ".py",
   "mimetype": "text/x-python",
   "name": "python",
   "nbconvert_exporter": "python",
   "pygments_lexer": "ipython3",
   "version": "3.9.7"
  }
 },
 "nbformat": 4,
 "nbformat_minor": 5
}
