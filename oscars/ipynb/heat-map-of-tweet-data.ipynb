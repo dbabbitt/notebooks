{
 "cells": [
  {
   "cell_type": "code",
   "execution_count": 2,
   "metadata": {
    "collapsed": false
   },
   "outputs": [
    {
     "name": "stderr",
     "output_type": "stream",
     "text": [
      "Loading required package: akima\n",
      "Warning message in library(package, lib.loc = lib.loc, character.only = TRUE, logical.return = TRUE, :\n",
      "\"there is no package called 'akima'\""
     ]
    },
    {
     "name": "stdout",
     "output_type": "stream",
     "text": [
      "package 'akima' successfully unpacked and MD5 sums checked\n",
      "\n",
      "The downloaded binary packages are in\n",
      "\tC:\\Users\\Dave\\AppData\\Local\\Temp\\RtmpqE3Bq0\\downloaded_packages\n"
     ]
    },
    {
     "name": "stderr",
     "output_type": "stream",
     "text": [
      "Loading required package: akima\n",
      "Warning message:\n",
      "\"package 'akima' was built under R version 3.3.3\""
     ]
    }
   ],
   "source": [
    "\n",
    "if (!require('akima')) install.packages('akima', repos = 'http://cran.us.r-project.org'); require('akima')"
   ]
  },
  {
   "cell_type": "code",
   "execution_count": null,
   "metadata": {
    "collapsed": true
   },
   "outputs": [],
   "source": [
    "\n",
    "install.packages(path_to_file, repos = NULL, type=\"source\")"
   ]
  },
  {
   "cell_type": "code",
   "execution_count": null,
   "metadata": {
    "collapsed": true
   },
   "outputs": [],
   "source": [
    "\n",
    "# From https://stackoverflow.com/questions/11531059/creating-a-continuous-heat-map-in-r\n",
    "data <- data.frame(x=c(1,1,2,2,3,4,5,6,7,7,8,9),\n",
    "                   y=c(2,4,5,1,3,8,4,8,1,1,6,9),\n",
    "                   distance=c(66,84,93,76,104,29,70,19,60,50,46,36))\n",
    "resolution <- 0.001 # you can increase the resolution by decreasing this number\n",
    "# (warning: the resulting dataframe size increase very quickly)\n",
    "a <- interp(x=data$x, y=data$y, z=data$distance, \n",
    "            xo=seq(min(data$x),max(data$x),by=resolution), \n",
    "            yo=seq(min(data$y),max(data$y),by=resolution), duplicate='mean')\n",
    "image(a) #you can of course modify the color palette and the color categories. See ?image for more explanation"
   ]
  },
  {
   "cell_type": "code",
   "execution_count": 8,
   "metadata": {
    "collapsed": false
   },
   "outputs": [
    {
     "data": {
      "image/png": "[encoded data removed]",
      "text/plain": [
       "plot without title"
      ]
     },
     "metadata": {},
     "output_type": "display_data"
    },
    {
     "data": {
      "image/png": "[encoded data removed]",
      "text/plain": [
       "Plot with title \"\""
      ]
     },
     "metadata": {},
     "output_type": "display_data"
    }
   ],
   "source": [
    "\n",
    "filled.contour(a, color.palette=heat.colors)"
   ]
  },
  {
   "cell_type": "code",
   "execution_count": 29,
   "metadata": {
    "collapsed": false
   },
   "outputs": [],
   "source": [
    "\n",
    "tweets.csv <- read.csv('../data/csv/tweets.csv', na.strings = c('.', 'NA', '', '?'),\n",
    "                       strip.white = TRUE, encoding = 'Latin1', stringsAsFactors = FALSE)\n",
    "colnames(tweets.csv) <- c('tweetID', 'tweetTime', 'tweetAuthor', 'tweetText')"
   ]
  },
  {
   "cell_type": "code",
   "execution_count": 41,
   "metadata": {
    "collapsed": false
   },
   "outputs": [
    {
     "data": {
      "text/html": [
       "'double'"
      ],
      "text/latex": [
       "'double'"
      ],
      "text/markdown": [
       "'double'"
      ],
      "text/plain": [
       "[1] \"double\""
      ]
     },
     "metadata": {},
     "output_type": "display_data"
    }
   ],
   "source": [
    "\n",
    "if (!require('chron')) install.packages('chron', repos = 'http://cran.us.r-project.org'); require('chron')\n",
    "dtparts <- t(as.data.frame(strsplit(tweets.csv$tweetTime,' ')))\n",
    "row.names(dtparts) <- NULL"
   ]
  },
  {
   "cell_type": "code",
   "execution_count": 43,
   "metadata": {
    "collapsed": false,
    "scrolled": true
   },
   "outputs": [],
   "source": [
    "\n",
    "tweets.csv$tweetTime <- as.POSIXct(chron(dates = dtparts[, 1], times = dtparts[, 2], format = c('y-m-d', 'h:m:s')))"
   ]
  },
  {
   "cell_type": "code",
   "execution_count": 44,
   "metadata": {
    "collapsed": false,
    "scrolled": true
   },
   "outputs": [
    {
     "data": {
      "text/plain": [
       "[1] \"2014-08-12 19:25:07 CDT\""
      ]
     },
     "metadata": {},
     "output_type": "display_data"
    }
   ],
   "source": [
    "\n",
    "tweets.csv$tweetTime[1]"
   ]
  },
  {
   "cell_type": "code",
   "execution_count": 45,
   "metadata": {
    "collapsed": true
   },
   "outputs": [],
   "source": [
    "\n",
    "# Save a copy to manipulate in Excel\n",
    "write.csv(tweets.csv, file = '../saves/csv/tweets.csv', row.names = FALSE)"
   ]
  },
  {
   "cell_type": "code",
   "execution_count": 46,
   "metadata": {
    "collapsed": false
   },
   "outputs": [
    {
     "data": {
      "text/html": [
       "'19:46'"
      ],
      "text/latex": [
       "'19:46'"
      ],
      "text/markdown": [
       "'19:46'"
      ],
      "text/plain": [
       "[1] \"19:46\""
      ]
     },
     "metadata": {},
     "output_type": "display_data"
    }
   ],
   "source": [
    "\n",
    "# aggregate POSIXct seconds data every 10 minutes\n",
    "if (!require('zoo')) install.packages('zoo', repos = 'http://cran.us.r-project.org'); require('zoo')\n",
    "x <- zoo(tweets.csv$tweetTime)\n",
    "x.agg <- aggregate(x, time(x) - as.numeric(time(x)) %% 600, mean)\n",
    "max(strftime(tweets.csv$tweetTime, format = '%H:%M'))"
   ]
  },
  {
   "cell_type": "code",
   "execution_count": 53,
   "metadata": {
    "collapsed": false
   },
   "outputs": [
    {
     "data": {
      "text/html": [
       "<ol class=list-inline>\n",
       "\t<li>1165</li>\n",
       "\t<li>1166</li>\n",
       "\t<li>1167</li>\n",
       "\t<li>1168</li>\n",
       "\t<li>1169</li>\n",
       "\t<li>1170</li>\n",
       "\t<li>1171</li>\n",
       "\t<li>1172</li>\n",
       "\t<li>1173</li>\n",
       "\t<li>1174</li>\n",
       "\t<li>1175</li>\n",
       "\t<li>1176</li>\n",
       "\t<li>1177</li>\n",
       "\t<li>1178</li>\n",
       "\t<li>1179</li>\n",
       "\t<li>1180</li>\n",
       "\t<li>1181</li>\n",
       "\t<li>1182</li>\n",
       "\t<li>1183</li>\n",
       "\t<li>1184</li>\n",
       "\t<li>1185</li>\n",
       "\t<li>1186</li>\n",
       "</ol>\n"
      ],
      "text/latex": [
       "\\begin{enumerate*}\n",
       "\\item 1165\n",
       "\\item 1166\n",
       "\\item 1167\n",
       "\\item 1168\n",
       "\\item 1169\n",
       "\\item 1170\n",
       "\\item 1171\n",
       "\\item 1172\n",
       "\\item 1173\n",
       "\\item 1174\n",
       "\\item 1175\n",
       "\\item 1176\n",
       "\\item 1177\n",
       "\\item 1178\n",
       "\\item 1179\n",
       "\\item 1180\n",
       "\\item 1181\n",
       "\\item 1182\n",
       "\\item 1183\n",
       "\\item 1184\n",
       "\\item 1185\n",
       "\\item 1186\n",
       "\\end{enumerate*}\n"
      ],
      "text/markdown": [
       "1. 1165\n",
       "2. 1166\n",
       "3. 1167\n",
       "4. 1168\n",
       "5. 1169\n",
       "6. 1170\n",
       "7. 1171\n",
       "8. 1172\n",
       "9. 1173\n",
       "10. 1174\n",
       "11. 1175\n",
       "12. 1176\n",
       "13. 1177\n",
       "14. 1178\n",
       "15. 1179\n",
       "16. 1180\n",
       "17. 1181\n",
       "18. 1182\n",
       "19. 1183\n",
       "20. 1184\n",
       "21. 1185\n",
       "22. 1186\n",
       "\n",
       "\n"
      ],
      "text/plain": [
       " [1] 1165 1166 1167 1168 1169 1170 1171 1172 1173 1174 1175 1176 1177 1178 1179\n",
       "[16] 1180 1181 1182 1183 1184 1185 1186"
      ]
     },
     "metadata": {},
     "output_type": "display_data"
    }
   ],
   "source": [
    "\n",
    "x.min <- min(strftime(tweets.csv$tweetTime, format = '%H:%M'))\n",
    "x.min <- as.numeric(strftime(as.POSIXct(x.min, format = '%H:%M'),\n",
    "                             format = '%H'))*60 + as.numeric(strftime(as.POSIXct(x.min, format = '%H:%M'), format = '%M'))\n",
    "x.max <- max(strftime(tweets.csv$tweetTime, format = '%H:%M'))\n",
    "x.max <- as.numeric(strftime(as.POSIXct(x.max, format = '%H:%M'),\n",
    "                             format = '%H'))*60 + as.numeric(strftime(as.POSIXct(x.max, format = '%H:%M'), format = '%M'))\n",
    "seq(x.min, x.max)"
   ]
  },
  {
   "cell_type": "code",
   "execution_count": 54,
   "metadata": {
    "collapsed": false
   },
   "outputs": [
    {
     "data": {
      "text/html": [
       "2"
      ],
      "text/latex": [
       "2"
      ],
      "text/markdown": [
       "2"
      ],
      "text/plain": [
       "[1] 2"
      ]
     },
     "metadata": {},
     "output_type": "display_data"
    }
   ],
   "source": [
    "\n",
    "# %U is Decimal week of the year (starting on Sunday)\n",
    "y.min <- as.numeric(min(strftime(tweets.csv$tweetTime, format = '%u')))\n",
    "y.max <- as.numeric(max(strftime(tweets.csv$tweetTime, format = '%u')))\n",
    "seq(y.min, y.max)"
   ]
  },
  {
   "cell_type": "code",
   "execution_count": 48,
   "metadata": {
    "collapsed": true
   },
   "outputs": [],
   "source": [
    "\n",
    "data <- data.frame(x = seq(x.min, x.max),\n",
    "                   y = rep(y.min:y.max, each = x.max-x.min+1),\n",
    "                   z = 0,\n",
    "                   stringsAsFactors = FALSE)"
   ]
  },
  {
   "cell_type": "code",
   "execution_count": 49,
   "metadata": {
    "collapsed": true
   },
   "outputs": [],
   "source": [
    "\n",
    "# Loop through all the tweets and tally the minutes\n",
    "for(i in 1:nrow(tweets.csv)) {\n",
    "    x <- as.numeric(strftime(tweets.csv[i, 'tweetTime'],\n",
    "                             format = '%H'))*60 + as.numeric(strftime(tweets.csv[i, 'tweetTime'], format = '%M'))\n",
    "    \n",
    "    # %U is Decimal week of the year (starting on Sunday)\n",
    "    y <- as.numeric(strftime(tweets.csv[i, 'tweetTime'], format = '%u'))\n",
    "    \n",
    "    row <- which(data$x == x & data$y == y)\n",
    "    data[row, 'z'] <- data[row, 'z'] + 1\n",
    "}"
   ]
  },
  {
   "cell_type": "code",
   "execution_count": 52,
   "metadata": {
    "collapsed": false
   },
   "outputs": [
    {
     "data": {
      "text/html": [
       "<table>\n",
       "<thead><tr><th scope=col>x</th><th scope=col>y</th><th scope=col>z</th></tr></thead>\n",
       "<tbody>\n",
       "\t<tr><td>1165</td><td>2   </td><td>2895</td></tr>\n",
       "\t<tr><td>1166</td><td>2   </td><td>3333</td></tr>\n",
       "\t<tr><td>1167</td><td>2   </td><td>3396</td></tr>\n",
       "\t<tr><td>1168</td><td>2   </td><td>3292</td></tr>\n",
       "\t<tr><td>1169</td><td>2   </td><td>3196</td></tr>\n",
       "\t<tr><td>1170</td><td>2   </td><td>3672</td></tr>\n",
       "\t<tr><td>1171</td><td>2   </td><td>3434</td></tr>\n",
       "\t<tr><td>1172</td><td>2   </td><td>3357</td></tr>\n",
       "\t<tr><td>1173</td><td>2   </td><td>3334</td></tr>\n",
       "\t<tr><td>1174</td><td>2   </td><td>3148</td></tr>\n",
       "\t<tr><td>1175</td><td>2   </td><td>3326</td></tr>\n",
       "\t<tr><td>1176</td><td>2   </td><td>3285</td></tr>\n",
       "\t<tr><td>1177</td><td>2   </td><td>3296</td></tr>\n",
       "\t<tr><td>1178</td><td>2   </td><td>3479</td></tr>\n",
       "\t<tr><td>1179</td><td>2   </td><td>3376</td></tr>\n",
       "\t<tr><td>1180</td><td>2   </td><td>3402</td></tr>\n",
       "\t<tr><td>1181</td><td>2   </td><td>3316</td></tr>\n",
       "\t<tr><td>1182</td><td>2   </td><td>3482</td></tr>\n",
       "\t<tr><td>1183</td><td>2   </td><td>3596</td></tr>\n",
       "\t<tr><td>1184</td><td>2   </td><td>3380</td></tr>\n",
       "\t<tr><td>1185</td><td>2   </td><td>3503</td></tr>\n",
       "\t<tr><td>1186</td><td>2   </td><td>2211</td></tr>\n",
       "</tbody>\n",
       "</table>\n"
      ],
      "text/latex": [
       "\\begin{tabular}{r|lll}\n",
       " x & y & z\\\\\n",
       "\\hline\n",
       "\t 1165 & 2    & 2895\\\\\n",
       "\t 1166 & 2    & 3333\\\\\n",
       "\t 1167 & 2    & 3396\\\\\n",
       "\t 1168 & 2    & 3292\\\\\n",
       "\t 1169 & 2    & 3196\\\\\n",
       "\t 1170 & 2    & 3672\\\\\n",
       "\t 1171 & 2    & 3434\\\\\n",
       "\t 1172 & 2    & 3357\\\\\n",
       "\t 1173 & 2    & 3334\\\\\n",
       "\t 1174 & 2    & 3148\\\\\n",
       "\t 1175 & 2    & 3326\\\\\n",
       "\t 1176 & 2    & 3285\\\\\n",
       "\t 1177 & 2    & 3296\\\\\n",
       "\t 1178 & 2    & 3479\\\\\n",
       "\t 1179 & 2    & 3376\\\\\n",
       "\t 1180 & 2    & 3402\\\\\n",
       "\t 1181 & 2    & 3316\\\\\n",
       "\t 1182 & 2    & 3482\\\\\n",
       "\t 1183 & 2    & 3596\\\\\n",
       "\t 1184 & 2    & 3380\\\\\n",
       "\t 1185 & 2    & 3503\\\\\n",
       "\t 1186 & 2    & 2211\\\\\n",
       "\\end{tabular}\n"
      ],
      "text/markdown": [
       "\n",
       "x | y | z | \n",
       "|---|---|---|---|---|---|---|---|---|---|---|---|---|---|---|---|---|---|---|---|---|---|\n",
       "| 1165 | 2    | 2895 | \n",
       "| 1166 | 2    | 3333 | \n",
       "| 1167 | 2    | 3396 | \n",
       "| 1168 | 2    | 3292 | \n",
       "| 1169 | 2    | 3196 | \n",
       "| 1170 | 2    | 3672 | \n",
       "| 1171 | 2    | 3434 | \n",
       "| 1172 | 2    | 3357 | \n",
       "| 1173 | 2    | 3334 | \n",
       "| 1174 | 2    | 3148 | \n",
       "| 1175 | 2    | 3326 | \n",
       "| 1176 | 2    | 3285 | \n",
       "| 1177 | 2    | 3296 | \n",
       "| 1178 | 2    | 3479 | \n",
       "| 1179 | 2    | 3376 | \n",
       "| 1180 | 2    | 3402 | \n",
       "| 1181 | 2    | 3316 | \n",
       "| 1182 | 2    | 3482 | \n",
       "| 1183 | 2    | 3596 | \n",
       "| 1184 | 2    | 3380 | \n",
       "| 1185 | 2    | 3503 | \n",
       "| 1186 | 2    | 2211 | \n",
       "\n",
       "\n"
      ],
      "text/plain": [
       "   x    y z   \n",
       "1  1165 2 2895\n",
       "2  1166 2 3333\n",
       "3  1167 2 3396\n",
       "4  1168 2 3292\n",
       "5  1169 2 3196\n",
       "6  1170 2 3672\n",
       "7  1171 2 3434\n",
       "8  1172 2 3357\n",
       "9  1173 2 3334\n",
       "10 1174 2 3148\n",
       "11 1175 2 3326\n",
       "12 1176 2 3285\n",
       "13 1177 2 3296\n",
       "14 1178 2 3479\n",
       "15 1179 2 3376\n",
       "16 1180 2 3402\n",
       "17 1181 2 3316\n",
       "18 1182 2 3482\n",
       "19 1183 2 3596\n",
       "20 1184 2 3380\n",
       "21 1185 2 3503\n",
       "22 1186 2 2211"
      ]
     },
     "metadata": {},
     "output_type": "display_data"
    }
   ],
   "source": [
    "\n",
    "data"
   ]
  },
  {
   "cell_type": "code",
   "execution_count": 51,
   "metadata": {
    "collapsed": false
   },
   "outputs": [
    {
     "ename": "ERROR",
     "evalue": "Error in interp.old(x, y, z, xo, yo, ncp = 0, extrap = FALSE, duplicate = duplicate, : all data collinear\n",
     "output_type": "error",
     "traceback": [
      "Error in interp.old(x, y, z, xo, yo, ncp = 0, extrap = FALSE, duplicate = duplicate, : all data collinear\nTraceback:\n",
      "1. interp(x = data$x, y = data$y, z = data$z)",
      "2. interp.old(x, y, z, xo, yo, ncp = 0, extrap = FALSE, duplicate = duplicate, \n .     dupfun = dupfun)",
      "3. stop(\"all data collinear\")"
     ]
    }
   ],
   "source": [
    "\n",
    "resolution <- 0.1 # you can increase the resolution by decreasing this number\n",
    "a <- interp(x = data$x, y = data$y, z = data$z, \n",
    "            xo = seq(min(data$x), max(data$x), by = resolution), \n",
    "            yo = seq(min(data$y), max(data$y), by = resolution), duplicate = 'mean')\n",
    "a <- interp(x = data$x, y = data$y, z = data$z)\n",
    "image(a) #you can of course modify the color palette and the color categories. See ?image for more explanation"
   ]
  },
  {
   "cell_type": "code",
   "execution_count": null,
   "metadata": {
    "collapsed": true
   },
   "outputs": [],
   "source": [
    "\n",
    "filled.contour(a, color.palette = heat.colors, plot.axes = { axis(1, seq(x.min, x.max, by = 60))\n",
    "                                                         axis(2, y.min:y.max)})"
   ]
  },
  {
   "cell_type": "code",
   "execution_count": null,
   "metadata": {
    "collapsed": true
   },
   "outputs": [],
   "source": []
  }
 ],
 "metadata": {
  "anaconda-cloud": {},
  "kernelspec": {
   "display_name": "R",
   "language": "R",
   "name": "ir"
  },
  "language_info": {
   "codemirror_mode": "r",
   "file_extension": ".r",
   "mimetype": "text/x-r-source",
   "name": "R",
   "pygments_lexer": "r",
   "version": "3.3.2"
  }
 },
 "nbformat": 4,
 "nbformat_minor": 2
}
