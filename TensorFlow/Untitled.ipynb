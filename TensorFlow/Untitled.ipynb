{
 "cells": [
  {
   "cell_type": "code",
   "execution_count": 1,
   "metadata": {},
   "outputs": [
    {
     "name": "stdout",
     "output_type": "stream",
     "text": [
      "Collecting tensorflow\n",
      "  Downloading https://files.pythonhosted.org/packages/05/cd/c171d2e33c0192b04560ce864c26eba83fed888fe5cd9ded661b2702f2ae/tensorflow-1.12.0-cp36-cp36m-win_amd64.whl (45.9MB)\n",
      "Requirement already satisfied, skipping upgrade: gast>=0.2.0 in c:\\users\\577342\\appdata\\local\\continuum\\anaconda3\\lib\\site-packages (from tensorflow) (0.2.0)\n",
      "Collecting tensorboard<1.13.0,>=1.12.0 (from tensorflow)\n",
      "  Downloading https://files.pythonhosted.org/packages/07/53/8d32ce9471c18f8d99028b7cef2e5b39ea8765bd7ef250ca05b490880971/tensorboard-1.12.2-py3-none-any.whl (3.0MB)\n",
      "Requirement already satisfied, skipping upgrade: termcolor>=1.1.0 in c:\\users\\577342\\appdata\\local\\continuum\\anaconda3\\lib\\site-packages (from tensorflow) (1.1.0)\n",
      "Requirement already satisfied, skipping upgrade: wheel>=0.26 in c:\\users\\577342\\appdata\\local\\continuum\\anaconda3\\lib\\site-packages (from tensorflow) (0.31.1)\n",
      "Requirement already satisfied, skipping upgrade: keras-applications>=1.0.6 in c:\\users\\577342\\appdata\\local\\continuum\\anaconda3\\lib\\site-packages (from tensorflow) (1.0.6)\n",
      "Requirement already satisfied, skipping upgrade: astor>=0.6.0 in c:\\users\\577342\\appdata\\local\\continuum\\anaconda3\\lib\\site-packages (from tensorflow) (0.7.1)\n",
      "Requirement already satisfied, skipping upgrade: numpy>=1.13.3 in c:\\users\\577342\\appdata\\roaming\\python\\python36\\site-packages (from tensorflow) (1.15.0)\n",
      "Requirement already satisfied, skipping upgrade: six>=1.10.0 in c:\\users\\577342\\appdata\\roaming\\python\\python36\\site-packages (from tensorflow) (1.11.0)\n",
      "Requirement already satisfied, skipping upgrade: protobuf>=3.6.1 in c:\\users\\577342\\appdata\\local\\continuum\\anaconda3\\lib\\site-packages (from tensorflow) (3.6.1)\n",
      "Requirement already satisfied, skipping upgrade: grpcio>=1.8.6 in c:\\users\\577342\\appdata\\local\\continuum\\anaconda3\\lib\\site-packages (from tensorflow) (1.15.0)\n",
      "Requirement already satisfied, skipping upgrade: absl-py>=0.1.6 in c:\\users\\577342\\appdata\\local\\continuum\\anaconda3\\lib\\site-packages (from tensorflow) (0.5.0)\n",
      "Requirement already satisfied, skipping upgrade: keras-preprocessing>=1.0.5 in c:\\users\\577342\\appdata\\local\\continuum\\anaconda3\\lib\\site-packages (from tensorflow) (1.0.5)\n",
      "Requirement already satisfied, skipping upgrade: markdown>=2.6.8 in c:\\users\\577342\\appdata\\local\\continuum\\anaconda3\\lib\\site-packages (from tensorboard<1.13.0,>=1.12.0->tensorflow) (2.6.11)\n",
      "Requirement already satisfied, skipping upgrade: werkzeug>=0.11.10 in c:\\users\\577342\\appdata\\local\\continuum\\anaconda3\\lib\\site-packages (from tensorboard<1.13.0,>=1.12.0->tensorflow) (0.14.1)\n",
      "Requirement already satisfied, skipping upgrade: h5py in c:\\users\\577342\\appdata\\local\\continuum\\anaconda3\\lib\\site-packages (from keras-applications>=1.0.6->tensorflow) (2.7.1)\n",
      "Requirement already satisfied, skipping upgrade: setuptools in c:\\users\\577342\\appdata\\roaming\\python\\python36\\site-packages (from protobuf>=3.6.1->tensorflow) (40.0.0)\n",
      "Installing collected packages: tensorboard, tensorflow\n",
      "  Found existing installation: tensorboard 1.11.0\n",
      "    Uninstalling tensorboard-1.11.0:\n",
      "      Successfully uninstalled tensorboard-1.11.0\n",
      "  Found existing installation: tensorflow 1.11.0\n",
      "    Uninstalling tensorflow-1.11.0:\n",
      "      Successfully uninstalled tensorflow-1.11.0\n"
     ]
    },
    {
     "name": "stderr",
     "output_type": "stream",
     "text": [
      "tensorflow-gpu 1.10.0 has requirement numpy<=1.14.5,>=1.13.3, but you'll have numpy 1.15.0 which is incompatible.\n",
      "tensorflow-gpu 1.10.0 has requirement setuptools<=39.1.0, but you'll have setuptools 40.0.0 which is incompatible.\n",
      "tensorflow-gpu 1.10.0 has requirement tensorboard<1.11.0,>=1.10.0, but you'll have tensorboard 1.12.2 which is incompatible.\n",
      "Could not install packages due to an EnvironmentError: [WinError 5] Access is denied: 'C:\\\\Users\\\\577342\\\\AppData\\\\Local\\\\Temp\\\\pip-uninstall-6ey1iglg\\\\users\\\\577342\\\\appdata\\\\local\\\\continuum\\\\anaconda3\\\\lib\\\\site-packages\\\\tensorflow\\\\contrib\\\\coder\\\\python\\\\ops\\\\_coder_ops.so'\n",
      "Consider using the `--user` option or check the permissions.\n",
      "\n"
     ]
    }
   ],
   "source": [
    "\n",
    "import sys\n",
    "\n",
    "!{sys.executable} -m pip install --upgrade tensorflow"
   ]
  },
  {
   "cell_type": "code",
   "execution_count": null,
   "metadata": {
    "collapsed": true
   },
   "outputs": [],
   "source": []
  }
 ],
 "metadata": {
  "kernelspec": {
   "display_name": "Python 3",
   "language": "python",
   "name": "python3"
  },
  "language_info": {
   "codemirror_mode": {
    "name": "ipython",
    "version": 3
   },
   "file_extension": ".py",
   "mimetype": "text/x-python",
   "name": "python",
   "nbconvert_exporter": "python",
   "pygments_lexer": "ipython3",
   "version": "3.6.5"
  }
 },
 "nbformat": 4,
 "nbformat_minor": 2
}
