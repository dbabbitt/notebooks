{
 "cells": [
  {
   "cell_type": "code",
   "execution_count": null,
   "metadata": {},
   "outputs": [],
   "source": [
    "\n",
    "import os\n",
    "import subprocess\n",
    "import sys\n",
    "%pprint"
   ]
  },
  {
   "cell_type": "code",
   "execution_count": null,
   "metadata": {},
   "outputs": [],
   "source": [
    "\n",
    "for root_dir in ['C:\\\\', 'E:\\\\']:\n",
    "    for sub_directory, directories_list, files_list in os.walk(root_dir):\n",
    "        for file_name in files_list:\n",
    "            if ('label_arc' in file_name.lower()):\n",
    "                file_path = os.path.join(sub_directory, file_name)\n",
    "                print(file_path)"
   ]
  },
  {
   "cell_type": "code",
   "execution_count": null,
   "metadata": {},
   "outputs": [],
   "source": [
    "\n",
    "def removeEmptyFolders(path, removeRoot=True):\n",
    "    '''Function to remove empty folders'''\n",
    "    if not os.path.isdir(path):\n",
    "        \n",
    "        return\n",
    "\n",
    "    # Remove empty subfolders\n",
    "    files = os.listdir(path)\n",
    "    if len(files):\n",
    "        for f in files:\n",
    "            fullpath = os.path.join(path, f)\n",
    "            if os.path.isdir(fullpath):\n",
    "                removeEmptyFolders(fullpath)\n",
    "\n",
    "    # If folder empty, delete it\n",
    "    files = os.listdir(path)\n",
    "    if len(files) == 0 and removeRoot:\n",
    "        print('Removing empty folder: {}'.format(path))\n",
    "        os.rmdir(path)"
   ]
  },
  {
   "cell_type": "code",
   "execution_count": null,
   "metadata": {},
   "outputs": [],
   "source": [
    "\n",
    "import re\n",
    "\n",
    "files_list = os.listdir(r'C:\\Users\\577342\\Downloads')\n",
    "for file_name in files_list:\n",
    "    if file_name.endswith('.mp3'):\n",
    "        file_name = re.sub(r'-[A-Z0-9a-z-_]{11}\\.mp3', '.mp3', file_name)\n",
    "        print(file_name)"
   ]
  },
  {
   "cell_type": "code",
   "execution_count": null,
   "metadata": {},
   "outputs": [],
   "source": [
    "\n",
    "import sys\n",
    "\n",
    "history_path = r'C:\\Users\\dev\\Documents\\repositories\\notebooks\\Miscellaneous\\data\\Takeout\\Location History\\Location History.json'\n",
    "repo_folder = r'C:\\Users\\dev\\Documents\\repositories\\geo-heatmap'\n",
    "print(r'{} -m pip install -r {}\\requirements.txt'.format(sys.executable, repo_folder))\n",
    "print('cd {}'.format(repo_folder))\n",
    "print('{} geo_heatmap.py \"{}\"'.format(sys.executable, history_path))"
   ]
  },
  {
   "cell_type": "code",
   "execution_count": null,
   "metadata": {},
   "outputs": [],
   "source": [
    "\n",
    "for sub_directory, directories_list, files_list in os.walk(r'c:\\users\\dev\\anaconda3'):\n",
    "    for file_name in files_list:\n",
    "        if ('pip' in file_name.lower()) and file_name.endswith('.exe'):\n",
    "            file_path = os.path.join(sub_directory, file_name)\n",
    "            print(file_path)"
   ]
  },
  {
   "cell_type": "code",
   "execution_count": null,
   "metadata": {},
   "outputs": [],
   "source": [
    "\n",
    "print('{} -m pip install --upgrade jep jedi pyspark virtualenv pyspark numpy pandas'.format(sys.executable))\n",
    "!{sys.executable} -m pip install --upgrade --quiet jep jedi pyspark virtualenv pyspark numpy pandas"
   ]
  },
  {
   "cell_type": "code",
   "execution_count": null,
   "metadata": {},
   "outputs": [],
   "source": [
    "\n",
    "for root_dir in [r'C:\\Users\\dev\\Documents\\repositories\\notebooks']:\n",
    "    for sub_directory, directories_list, files_list in os.walk(root_dir):\n",
    "        for file_name in files_list:\n",
    "            if 'stop' in file_name:\n",
    "                file_path = os.path.join(sub_directory, file_name)\n",
    "                print(file_path)"
   ]
  },
  {
   "cell_type": "code",
   "execution_count": null,
   "metadata": {},
   "outputs": [],
   "source": [
    "\n",
    "file_path = r'C:\\Users\\dev\\Documents\\repositories\\notebooks\\courses-master\\databases-2015\\stoplist-multilingual'\n",
    "stop_word_list = [i.strip() for i in open(file_path).readlines()]"
   ]
  },
  {
   "cell_type": "code",
   "execution_count": null,
   "metadata": {},
   "outputs": [],
   "source": [
    "\n",
    "'In computing, Puppet is an open-core software configuration manag'.split()"
   ]
  },
  {
   "cell_type": "code",
   "execution_count": null,
   "metadata": {},
   "outputs": [],
   "source": [
    "\n",
    "import sys\n",
    "\n",
    "'using Pkg; ENV[\"PYTHON\"] = \"{}\"; Pkg.build(\"PyCall\"); Pkg.add(\"PyCall\"); Pkg.resolve();'.format(sys.executable)"
   ]
  },
  {
   "cell_type": "code",
   "execution_count": null,
   "metadata": {},
   "outputs": [],
   "source": [
    "\n",
    "import sys\n",
    "\n",
    "# tensorflow.nn\n",
    "print('{} -m pip install --upgrade tensorflow'.format(sys.executable))"
   ]
  },
  {
   "cell_type": "code",
   "execution_count": null,
   "metadata": {},
   "outputs": [],
   "source": [
    "\n",
    "# Ignore big files (GitHub will warn you when pushing files larger than 50 MB.\n",
    "# You will not be allowed to push files larger than 100 MB.)\n",
    "# Tip: If you regularly push large files to GitHub, consider introducing Git Large File Storage (Git LFS)\n",
    "# as part of your workflow.\n",
    "repository_dir = r'C:\\Users\\dev\\Documents\\repositories'\n",
    "def get_specific_gitignore_files(repository_name):\n",
    "    print('''# Ignore big files (GitHub will warn you when pushing files larger than\n",
    "# 50 MB. You will not be allowed to push files larger than 100 MB.)''')\n",
    "    repository_path = os.path.join(repository_dir, repository_name)\n",
    "    black_list = [os.path.join(repository_path, '.git')]\n",
    "    for sub_directory, directories_list, files_list in os.walk(repository_path):\n",
    "            if all(map(lambda x: x not in sub_directory, black_list)):\n",
    "                for file_name in files_list:\n",
    "                    file_path = os.path.join(sub_directory, file_name)\n",
    "                    bytes_count = os.path.getsize(file_path)\n",
    "                    if bytes_count > 50000000:\n",
    "                        print('/'.join(os.path.relpath(file_path, repository_path).split(os.sep)))\n",
    "    file_path = os.path.join(repository_dir, repository_name, '.gitignore')\n",
    "    get_ipython().system(r'\"C:\\Program Files\\Notepad++\\notepad++.exe\" \"{}\"'.format(os.path.abspath(file_path)))"
   ]
  },
  {
   "cell_type": "code",
   "execution_count": null,
   "metadata": {
    "scrolled": false
   },
   "outputs": [],
   "source": [
    "\n",
    "get_specific_gitignore_files('notebooks')"
   ]
  },
  {
   "cell_type": "code",
   "execution_count": null,
   "metadata": {},
   "outputs": [],
   "source": [
    "\n",
    "%who"
   ]
  },
  {
   "cell_type": "code",
   "execution_count": null,
   "metadata": {},
   "outputs": [],
   "source": []
  }
 ],
 "metadata": {
  "kernelspec": {
   "display_name": "Python 3",
   "language": "python",
   "name": "python3"
  },
  "language_info": {
   "codemirror_mode": {
    "name": "ipython",
    "version": 3
   },
   "file_extension": ".py",
   "mimetype": "text/x-python",
   "name": "python",
   "nbconvert_exporter": "python",
   "pygments_lexer": "ipython3",
   "version": "3.6.8"
  }
 },
 "nbformat": 4,
 "nbformat_minor": 2
}
