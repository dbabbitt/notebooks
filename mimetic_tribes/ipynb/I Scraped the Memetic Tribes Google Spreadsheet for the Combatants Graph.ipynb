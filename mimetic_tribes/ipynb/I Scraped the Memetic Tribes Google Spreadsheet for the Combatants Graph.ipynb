{
 "cells": [
  {
   "cell_type": "markdown",
   "metadata": {},
   "source": [
    "\n",
    "In <a href='https://medium.com/intellectual-explorers-club/memetic-tribes-and-culture-war-2-0-14705c43f6bb' target='_blank'>Memetic Tribes and Culture War 2.0</a>, Peter Limberg and Conor Barnes reference a Google Spreadsheet where they are compiling their data.\n",
    "\n",
    "<figure name=\"7247\" id=\"7247\" class=\"graf graf--figure graf--layoutOutsetCenter graf-after--p\" data-scroll=\"native\">\n",
    "    <img src=\"https://cdn-images-1.medium.com/max/1000/1*k3zWQFbKT51T96AAMdfKdA.png\">\n",
    "    <figcaption class=\"imageCaption\">\n",
    "        Click <a href=\"https://docs.google.com/spreadsheets/d/11Ov1Y1xM-LCeYSSBYZ7yPXJah2ldgFX4oIlDtdd7-Qw/edit?usp=sharing\" target=\"_blank\">here</a> to view the full chart.\n",
    "    </figcaption>\n",
    "</figure>\n",
    "\n",
    "One of the columns contains lists of records from another column. I am going to convert this into a directed graph using <code>pandas</code> and <code>networkx</code>.\n",
    "\n",
    "The easiest way to get data out of html tables on the web is to use <code>pandas</code> <code>read_html</code> function, but you have to pick through the tables in the list to see which one contains the data you want."
   ]
  },
  {
   "cell_type": "code",
   "execution_count": 108,
   "metadata": {},
   "outputs": [
    {
     "name": "stdout",
     "output_type": "stream",
     "text": [
      "Pretty printing has been turned OFF\n"
     ]
    }
   ],
   "source": [
    "\n",
    "%pprint"
   ]
  },
  {
   "cell_type": "code",
   "execution_count": 1,
   "metadata": {},
   "outputs": [
    {
     "name": "stdout",
     "output_type": "stream",
     "text": [
      "2\n"
     ]
    }
   ],
   "source": [
    "\n",
    "import pandas as pd\n",
    "\n",
    "tables_url = r'https://docs.google.com/spreadsheets/d/11Ov1Y1xM-LCeYSSBYZ7yPXJah2ldgFX4oIlDtdd7-Qw'\n",
    "tribes_df_list = pd.read_html(tables_url)\n",
    "print(len(tribes_df_list))"
   ]
  },
  {
   "cell_type": "markdown",
   "metadata": {},
   "source": [
    "\n",
    "I had to perform a lot of <a href='https://secure.i.telegraph.co.uk/multimedia/archive/02152/panda-upside-down_2152868i.jpg' target='_blank'>panda gymnastics</a> in order to clean off the husk of the Google table and get the data into a compact space."
   ]
  },
  {
   "cell_type": "code",
   "execution_count": 2,
   "metadata": {},
   "outputs": [
    {
     "data": {
      "text/html": [
       "<div>\n",
       "<style scoped>\n",
       "    .dataframe tbody tr th:only-of-type {\n",
       "        vertical-align: middle;\n",
       "    }\n",
       "\n",
       "    .dataframe tbody tr th {\n",
       "        vertical-align: top;\n",
       "    }\n",
       "\n",
       "    .dataframe thead th {\n",
       "        text-align: right;\n",
       "    }\n",
       "</style>\n",
       "<table border=\"1\" class=\"dataframe\">\n",
       "  <thead>\n",
       "    <tr style=\"text-align: right;\">\n",
       "      <th></th>\n",
       "      <th>MASTER STATUS</th>\n",
       "      <th>CHIEFTAINS</th>\n",
       "      <th>FOREBEARS</th>\n",
       "      <th>SACRED VALUES</th>\n",
       "      <th>EXISTENTIAL THREATS</th>\n",
       "      <th>COMBATANTS</th>\n",
       "    </tr>\n",
       "    <tr>\n",
       "      <th>MEMETIC TRIBE</th>\n",
       "      <th></th>\n",
       "      <th></th>\n",
       "      <th></th>\n",
       "      <th></th>\n",
       "      <th></th>\n",
       "      <th></th>\n",
       "    </tr>\n",
       "  </thead>\n",
       "  <tbody>\n",
       "    <tr>\n",
       "      <th>DSA (Democratic Socialists of America)</th>\n",
       "      <td>Democratic Socialist</td>\n",
       "      <td>Alexandria Oscasio-Cortez, Julia Salazar, Bern...</td>\n",
       "      <td>Michael Harrington, Jeremy Corbyn, Bernie Bros</td>\n",
       "      <td>Economic Justice, Progress</td>\n",
       "      <td>Neoliberalism</td>\n",
       "      <td>Establishment Left, Establishment Right, Trump...</td>\n",
       "    </tr>\n",
       "    <tr>\n",
       "      <th>Occupy</th>\n",
       "      <td>Protester</td>\n",
       "      <td>Kalle Lasn, Naomi Klein, David Graeber</td>\n",
       "      <td>Adbusters, Arab Spring</td>\n",
       "      <td>Economic Justice</td>\n",
       "      <td>Police crackdown</td>\n",
       "      <td>Establishment Left, Establishment Right</td>\n",
       "    </tr>\n",
       "    <tr>\n",
       "      <th>Gender-Critical Feminists</th>\n",
       "      <td>Liberated (biological) woman</td>\n",
       "      <td>Meghan Murphy, Germaine Greer, Sheilay Jeffreys</td>\n",
       "      <td>Janice Raymond</td>\n",
       "      <td>Gender Equality</td>\n",
       "      <td>Continued Patriarchy</td>\n",
       "      <td>SJA, MRA</td>\n",
       "    </tr>\n",
       "  </tbody>\n",
       "</table>\n",
       "</div>"
      ],
      "text/plain": [
       "0                                                      MASTER STATUS  \\\n",
       "MEMETIC TRIBE                                                          \n",
       "DSA (Democratic Socialists of America)          Democratic Socialist   \n",
       "Occupy                                                     Protester   \n",
       "Gender-Critical Feminists               Liberated (biological) woman   \n",
       "\n",
       "0                                                                              CHIEFTAINS  \\\n",
       "MEMETIC TRIBE                                                                               \n",
       "DSA (Democratic Socialists of America)  Alexandria Oscasio-Cortez, Julia Salazar, Bern...   \n",
       "Occupy                                             Kalle Lasn, Naomi Klein, David Graeber   \n",
       "Gender-Critical Feminists                 Meghan Murphy, Germaine Greer, Sheilay Jeffreys   \n",
       "\n",
       "0                                                                            FOREBEARS  \\\n",
       "MEMETIC TRIBE                                                                            \n",
       "DSA (Democratic Socialists of America)  Michael Harrington, Jeremy Corbyn, Bernie Bros   \n",
       "Occupy                                                          Adbusters, Arab Spring   \n",
       "Gender-Critical Feminists                                               Janice Raymond   \n",
       "\n",
       "0                                                    SACRED VALUES  \\\n",
       "MEMETIC TRIBE                                                        \n",
       "DSA (Democratic Socialists of America)  Economic Justice, Progress   \n",
       "Occupy                                            Economic Justice   \n",
       "Gender-Critical Feminists                          Gender Equality   \n",
       "\n",
       "0                                        EXISTENTIAL THREATS  \\\n",
       "MEMETIC TRIBE                                                  \n",
       "DSA (Democratic Socialists of America)         Neoliberalism   \n",
       "Occupy                                      Police crackdown   \n",
       "Gender-Critical Feminists               Continued Patriarchy   \n",
       "\n",
       "0                                                                              COMBATANTS  \n",
       "MEMETIC TRIBE                                                                              \n",
       "DSA (Democratic Socialists of America)  Establishment Left, Establishment Right, Trump...  \n",
       "Occupy                                            Establishment Left, Establishment Right  \n",
       "Gender-Critical Feminists                                                        SJA, MRA  "
      ]
     },
     "execution_count": 2,
     "metadata": {},
     "output_type": "execute_result"
    }
   ],
   "source": [
    "\n",
    "tribes_df = tribes_df_list[0].dropna(axis=0, how='all').dropna(axis=1, how='all').iloc[:, 1:]\n",
    "tribes_df.columns = tribes_df.iloc[0]\n",
    "tribes_df = tribes_df.iloc[1:].T\n",
    "tribes_df.columns = tribes_df.iloc[0]\n",
    "tribes_df = tribes_df.iloc[1:].T\n",
    "tribes_df.sample(3).T.sample(6).T"
   ]
  },
  {
   "cell_type": "markdown",
   "metadata": {},
   "source": [
    "\n",
    "It's an easy matter to add the tribes into a directional graph."
   ]
  },
  {
   "cell_type": "code",
   "execution_count": 3,
   "metadata": {},
   "outputs": [],
   "source": [
    "\n",
    "import networkx as nx\n",
    "\n",
    "tribes_digraph = nx.DiGraph()\n",
    "tribes_digraph.add_nodes_from(tribes_df.T.to_dict())"
   ]
  },
  {
   "cell_type": "markdown",
   "metadata": {},
   "source": [
    "\n",
    "Next is figuring out, from the combatant lists, where the edges are."
   ]
  },
  {
   "cell_type": "code",
   "execution_count": 4,
   "metadata": {},
   "outputs": [],
   "source": [
    "\n",
    "from difflib import SequenceMatcher\n",
    "\n",
    "def similar(a, b):\n",
    "    return SequenceMatcher(None, a, b).ratio()\n",
    "\n",
    "tribe_list = tribes_df.index.tolist()\n",
    "for row_index, row_value in tribes_df['COMBATANTS'].iteritems():\n",
    "    combatant_list = row_value.split(', ')\n",
    "    for combatant in combatant_list:\n",
    "        if combatant != 'None':\n",
    "            \n",
    "            # The combatants are in slightly differing spellings,\n",
    "            # so I need to just guess which one I mean\n",
    "            this_tribe = sorted(tribe_list,\n",
    "                                key=lambda tribe: similar(combatant, tribe.split(' (')[0]))[-1]\n",
    "            \n",
    "            tribes_digraph.add_edge(row_index, this_tribe)"
   ]
  },
  {
   "cell_type": "markdown",
   "metadata": {},
   "source": [
    "\n",
    "I have to use Gephi to get every node away from the other edges because `networkx` doesn't do that well enough."
   ]
  },
  {
   "cell_type": "code",
   "execution_count": 5,
   "metadata": {},
   "outputs": [
    {
     "name": "stdout",
     "output_type": "stream",
     "text": [
      "\n",
      "1) Launch Gephi\n",
      "2) In the File menu, open D:\\Documents\\Repositories\\notebooks\\Miscellaneous\\saves\\gexf\\tribes_digraph.gexf\n",
      "3) Select and run the Fruchterman Reingold layout\n",
      "4) Select and run the Label Adjust layout\n",
      "5) In the File/Export submenu, select Graph file... and overwrite the old tribes_digraph.gexf\n",
      "6) Repeat 2) through 5) as necessary\n",
      "\n"
     ]
    }
   ],
   "source": [
    "\n",
    "import os\n",
    "\n",
    "# Export the graph into Gephi\n",
    "SAVES_FOLDER = '../saves/'\n",
    "gexf_dir = os.path.join(SAVES_FOLDER, 'gexf')\n",
    "os.makedirs(name=gexf_dir, exist_ok=True)\n",
    "file_name = 'tribes_digraph.gexf'\n",
    "file_path = os.path.join(gexf_dir, file_name)\n",
    "nx.write_gexf(tribes_digraph, file_path)\n",
    "message_str = '''\n",
    "1) Launch Gephi\n",
    "2) In the File menu, open {}\n",
    "3) Select and run the Fruchterman Reingold layout\n",
    "4) Select and run the Label Adjust layout\n",
    "5) In the File/Export submenu, select Graph file... and overwrite the old {}\n",
    "6) Repeat 2) through 5) as necessary\n",
    "'''\n",
    "print(message_str.format(os.path.abspath(file_path), file_name))"
   ]
  },
  {
   "cell_type": "markdown",
   "metadata": {},
   "source": [
    "\n",
    "I have decided to color the mutual combatants' edge red. For this I need a list of edges that have arrows pointing both ways."
   ]
  },
  {
   "cell_type": "code",
   "execution_count": 6,
   "metadata": {},
   "outputs": [],
   "source": [
    "\n",
    "full_edge_list = list(tribes_digraph.edges())\n",
    "double_edge_list = []\n",
    "while len(full_edge_list) > 0:\n",
    "    edge_tuple = full_edge_list.pop()\n",
    "    doubled_tuple = (edge_tuple[1], edge_tuple[0])\n",
    "    if doubled_tuple in full_edge_list:\n",
    "        double_edge_list.append(edge_tuple)\n",
    "        double_edge_list.append(doubled_tuple)"
   ]
  },
  {
   "cell_type": "code",
   "execution_count": 7,
   "metadata": {},
   "outputs": [],
   "source": [
    "\n",
    "single_edge_list = []\n",
    "full_edge_list = list(tribes_digraph.edges())\n",
    "for edge_tuple in full_edge_list:\n",
    "    if edge_tuple not in double_edge_list:\n",
    "        single_edge_list.append(edge_tuple)"
   ]
  },
  {
   "cell_type": "code",
   "execution_count": 9,
   "metadata": {},
   "outputs": [
    {
     "name": "stdout",
     "output_type": "stream",
     "text": [
      "Collecting xmltodict\n",
      "  Downloading https://files.pythonhosted.org/packages/28/fd/30d5c1d3ac29ce229f6bdc40bbc20b28f716e8b363140c26eff19122d8a5/xmltodict-0.12.0-py2.py3-none-any.whl\n",
      "Installing collected packages: xmltodict\n",
      "Successfully installed xmltodict-0.12.0\n"
     ]
    }
   ],
   "source": [
    "\n",
    "import sys\n",
    "\n",
    "!{sys.executable} -m pip install xmltodict"
   ]
  },
  {
   "cell_type": "code",
   "execution_count": 15,
   "metadata": {},
   "outputs": [
    {
     "data": {
      "image/png": "[encoded data removed]",
      "text/plain": [
       "<Figure size 1296x648 with 1 Axes>"
      ]
     },
     "metadata": {},
     "output_type": "display_data"
    }
   ],
   "source": [
    "\n",
    "import xmltodict\n",
    "import numpy as np\n",
    "import matplotlib.patches as mpatches\n",
    "import matplotlib.pyplot as plt\n",
    "%matplotlib inline\n",
    "\n",
    "# Import from Gephi\n",
    "with open(file_path, 'r') as fid:\n",
    "    tribal_xml = fid.read()\n",
    "tribal_tree = xmltodict.parse(tribal_xml)\n",
    "\n",
    "# Get the position dictionary for the GEXF saved from Gephi\n",
    "node_dict_list = tribal_tree['gexf']['graph']['nodes']['node']\n",
    "tribal_layout_dict = {node_dict['@id']: np.array([float(node_dict['viz:position']['@x']),\n",
    "                                                  float(node_dict['viz:position']['@y'])])\n",
    "                      for node_dict in node_dict_list}\n",
    "\n",
    "# Draw the graph using the gephi layout\n",
    "tribal_fig = plt.figure(figsize=(18, 9))\n",
    "ax = tribal_fig.add_subplot(111)\n",
    "plt.axis('off')\n",
    "plt.xticks([], [])\n",
    "plt.yticks([], [])\n",
    "tribal_fig.suptitle('The Brawl', fontsize=24)\n",
    "\n",
    "# Make fat arrows\n",
    "arrowstyle = mpatches.ArrowStyle.Simple(head_length=2., head_width=1.5, tail_width=0.05)\n",
    "\n",
    "# Make the nodes blue so you can make the double edges red\n",
    "node_collection = nx.draw_networkx_nodes(G=tribes_digraph, pos=tribal_layout_dict, alpha=0.25,\n",
    "                                         node_color='b', node_size=150)\n",
    "\n",
    "# Get the double-edged edge list in red\n",
    "edge_collection = nx.draw_networkx_edges(G=tribes_digraph, pos=tribal_layout_dict, alpha=0.25,\n",
    "                                         arrowstyle=arrowstyle, edgelist=single_edge_list)\n",
    "edge_collection = nx.draw_networkx_edges(G=tribes_digraph, pos=tribal_layout_dict, alpha=0.25,\n",
    "                                         arrowstyle=arrowstyle, edgelist=double_edge_list,\n",
    "                                         edge_color='r')\n",
    "\n",
    "labels_collection = nx.draw_networkx_labels(G=tribes_digraph, pos=tribal_layout_dict, font_size=12)\n",
    "axes_subplot = tribal_fig.get_axes()[0]\n",
    "xlim_tuple = axes_subplot.set_xlim(left=-1500, right=1500)"
   ]
  },
  {
   "cell_type": "code",
   "execution_count": 23,
   "metadata": {},
   "outputs": [
    {
     "data": {
      "text/plain": [
       "AdjacencyView({'SJAs (Social Justice Activists)': {'Alt-Lite': {}, 'Alt-Right': {}, 'Sorters': {}, 'Trumpists': {}}, 'Black Lives Matter': {'Alt-Lite': {}, 'Alt-Right': {}, 'Trumpists': {}, 'Establishment Right': {}}, '#MeToo': {'Alt-Lite': {}, 'MRA (Mens Right Advocates)': {}, 'Manosphere': {}, 'Incels': {}}, 'Gender-Critical Feminists': {'SJAs (Social Justice Activists)': {}, 'MRA (Mens Right Advocates)': {}}, 'Modern Neo-Marxists': {'Establishment Left': {}, 'Establishment Right': {}}, 'Antifa': {'Alt-Right': {}, 'Alt-Lite': {}, 'Modern Neo-Nazis': {}, 'Trumpists': {}}, 'Occupy': {'Establishment Left': {}, 'Establishment Right': {}}, 'Dirtbag Left': {'SJAs (Social Justice Activists)': {}, 'Alt-Right': {}, 'Establishment Left': {}}, 'DSA (Democratic Socialists of America)': {'Establishment Left': {}, 'Establishment Right': {}, 'Trumpists': {}, 'Alt-Right': {}}, 'Establishment Left': {'Establishment Right': {}, 'DSA (Democratic Socialists of America)': {}, 'Dirtbag Left': {}}, 'Optimists': {'Trumpists': {}, 'Neoreactionaries': {}, 'Alt-Right': {}, 'SJAs (Social Justice Activists)': {}}, 'New Atheists': {'Christian Right': {}, 'Sorters': {}}, 'Street Epistemologists': {'Christian Right': {}, 'Sorters': {}}, 'Rationalist Diaspora': {'SJAs (Social Justice Activists)': {}, 'Neoreactionaries': {}}, 'Post-Rationalists': {}, 'Integral Theorists': {}, 'Sorters': {'SJAs (Social Justice Activists)': {}, '#MeToo': {}}, 'Intellectual Dark Web': {'SJAs (Social Justice Activists)': {}}, 'Benedictines': {'SJAs (Social Justice Activists)': {}, 'New Atheists': {}}, 'Christian Right': {'Establishment Left': {}, 'New Atheists': {}, 'Street Epistemologists': {}}, 'Establishment Right': {'Establishment Left': {}, 'Trumpists': {}, 'Alt-Right': {}}, 'Tea Party': {'Establishment Left': {}, 'Establishment Right': {}}, 'Trumpists': {'Establishment Left': {}, 'Establishment Right': {}, 'SJAs (Social Justice Activists)': {}, 'Antifa': {}}, 'InfoWarriors': {'Establishment Left': {}, 'Establishment Right': {}}, 'QAnoners': {'Establishment Left': {}, 'Establishment Right': {}}, 'Alt-Lite': {'SJAs (Social Justice Activists)': {}, '#MeToo': {}, 'Black Lives Matter': {}, 'Antifa': {}}, 'Alt-Right': {'Antifa': {}, 'SJAs (Social Justice Activists)': {}, 'Black Lives Matter': {}, 'Establishment Right': {}, 'Alt-Lite': {}}, 'Modern Neo-Nazis': {'Antifa': {}, 'SJAs (Social Justice Activists)': {}, 'Establishment Left': {}, 'Establishment Right': {}}, 'Neoreactionaries': {'SJAs (Social Justice Activists)': {}, 'Rationalist Diaspora': {}}, 'MRA (Mens Right Advocates)': {'SJAs (Social Justice Activists)': {}, '#MeToo': {}, 'Gender-Critical Feminists': {}}, 'Manosphere': {'SJAs (Social Justice Activists)': {}, '#MeToo': {}, 'Gender-Critical Feminists': {}}, 'MGTOW (Men Going Their Own Way)': {'Manosphere': {}, 'SJAs (Social Justice Activists)': {}, 'Gender-Critical Feminists': {}}, 'Incels': {'SJAs (Social Justice Activists)': {}, '#MeToo': {}}})"
      ]
     },
     "execution_count": 23,
     "metadata": {},
     "output_type": "execute_result"
    }
   ],
   "source": [
    "\n",
    "tribes_digraph.adj"
   ]
  },
  {
   "cell_type": "code",
   "execution_count": 20,
   "metadata": {},
   "outputs": [
    {
     "data": {
      "text/plain": [
       "{'SJAs (Social Justice Activists)': 0.2857142857142857,\n",
       " 'Black Lives Matter': 0.4,\n",
       " '#MeToo': 0.6363636363636364,\n",
       " 'Gender-Critical Feminists': 0.0,\n",
       " 'Modern Neo-Marxists': 0.0,\n",
       " 'Antifa': 0.4782608695652174,\n",
       " 'Occupy': 0.0,\n",
       " 'Dirtbag Left': 0.15384615384615385,\n",
       " 'DSA (Democratic Socialists of America)': 0.4,\n",
       " 'Establishment Left': 0.5714285714285714,\n",
       " 'Optimists': 0.5,\n",
       " 'New Atheists': 0.0,\n",
       " 'Street Epistemologists': 0.0,\n",
       " 'Rationalist Diaspora': 0.0,\n",
       " 'Post-Rationalists': 0,\n",
       " 'Integral Theorists': 0,\n",
       " 'Sorters': 0.2,\n",
       " 'Intellectual Dark Web': 0,\n",
       " 'Benedictines': 1.0,\n",
       " 'Christian Right': 0.2,\n",
       " 'Establishment Right': 0.1111111111111111,\n",
       " 'Tea Party': 0.0,\n",
       " 'Trumpists': 0.18181818181818182,\n",
       " 'InfoWarriors': 0.0,\n",
       " 'QAnoners': 0.0,\n",
       " 'Alt-Lite': 0.16666666666666666,\n",
       " 'Alt-Right': 0.2647058823529412,\n",
       " 'Modern Neo-Nazis': 0.35,\n",
       " 'Neoreactionaries': 0.0,\n",
       " 'MRA (Mens Right Advocates)': 0.09090909090909091,\n",
       " 'Manosphere': 0.2222222222222222,\n",
       " 'MGTOW (Men Going Their Own Way)': 0.16666666666666666,\n",
       " 'Incels': 0.2}"
      ]
     },
     "execution_count": 20,
     "metadata": {},
     "output_type": "execute_result"
    }
   ],
   "source": [
    "\n",
    "nx.square_clustering(tribes_digraph)"
   ]
  },
  {
   "cell_type": "code",
   "execution_count": 19,
   "metadata": {},
   "outputs": [
    {
     "data": {
      "text/plain": [
       "0.2870407465348815"
      ]
     },
     "execution_count": 19,
     "metadata": {},
     "output_type": "execute_result"
    }
   ],
   "source": [
    "\n",
    "nx.average_clustering(tribes_digraph)"
   ]
  },
  {
   "cell_type": "code",
   "execution_count": 18,
   "metadata": {},
   "outputs": [
    {
     "data": {
      "text/plain": [
       "{'SJAs (Social Justice Activists)': 0.04838709677419355,\n",
       " 'Black Lives Matter': 0.38461538461538464,\n",
       " '#MeToo': 0,\n",
       " 'Gender-Critical Feminists': 0.2777777777777778,\n",
       " 'Modern Neo-Marxists': 1.0,\n",
       " 'Antifa': 0.08333333333333333,\n",
       " 'Occupy': 1.0,\n",
       " 'Dirtbag Left': 0.2,\n",
       " 'DSA (Democratic Socialists of America)': 0.5555555555555556,\n",
       " 'Establishment Left': 0.125,\n",
       " 'Optimists': 0.4166666666666667,\n",
       " 'New Atheists': 0,\n",
       " 'Street Epistemologists': 0,\n",
       " 'Rationalist Diaspora': 0.5,\n",
       " 'Post-Rationalists': 0,\n",
       " 'Integral Theorists': 0,\n",
       " 'Sorters': 0,\n",
       " 'Intellectual Dark Web': 0,\n",
       " 'Benedictines': 0,\n",
       " 'Christian Right': 0,\n",
       " 'Establishment Right': 0.17045454545454544,\n",
       " 'Tea Party': 1.0,\n",
       " 'Trumpists': 0.14285714285714285,\n",
       " 'InfoWarriors': 1.0,\n",
       " 'QAnoners': 1.0,\n",
       " 'Alt-Lite': 0.1875,\n",
       " 'Alt-Right': 0.1774193548387097,\n",
       " 'Modern Neo-Nazis': 0.1111111111111111,\n",
       " 'Neoreactionaries': 0.3,\n",
       " 'MRA (Mens Right Advocates)': 0.125,\n",
       " 'Manosphere': 0.16666666666666666,\n",
       " 'MGTOW (Men Going Their Own Way)': 0.5,\n",
       " 'Incels': 0}"
      ]
     },
     "execution_count": 18,
     "metadata": {},
     "output_type": "execute_result"
    }
   ],
   "source": [
    "\n",
    "nx.clustering(tribes_digraph)"
   ]
  },
  {
   "cell_type": "code",
   "execution_count": 28,
   "metadata": {},
   "outputs": [
    {
     "data": {
      "text/plain": [
       "{'SJAs (Social Justice Activists)': 'Essentialism, Normativity, Intersectionality',\n",
       " 'Black Lives Matter': 'Black Bodies, Reparations, Cultural Appropriations',\n",
       " '#MeToo': 'Toxic Masculinity, Rape Culture, Pay Gap',\n",
       " 'Gender-Critical Feminists': 'Rapid-Onset Gender Dysphoria, Womyn-born Womyn',\n",
       " 'Modern Neo-Marxists': 'Hauntology, Capitalist Realism, Spectre of Ideology',\n",
       " 'Antifa': 'Direct Action, Diversity of Tactics, No Platforming',\n",
       " 'Occupy': 'The 99%, Culture Jamming, Crony Capitalism',\n",
       " 'Dirtbag Left': 'The Ratio, Milkshake Duck, Tankie',\n",
       " 'DSA (Democratic Socialists of America)': 'Social dividend, Calculation in kind, Cooperative',\n",
       " 'Establishment Left': 'Welfare state, Pro-choice, Gun Control',\n",
       " 'Optimists': 'Skepticism, Scientific Method',\n",
       " 'New Atheists': 'Spectrum of Theistic Probability, Logical Fallacies',\n",
       " 'Street Epistemologists': 'Doxastic Openness/Closure\\u200b, Socratic Method, Aporia',\n",
       " 'Rationalist Diaspora': 'Bayes Theorem, Effective Altrusim, Cognitive Biases',\n",
       " 'Post-Rationalists': 'Weirding, Meaningness, Gervais Principle',\n",
       " 'Integral Theorists': 'AQAL, Spiral Dynamics, Holons',\n",
       " 'Sorters': 'Dominance Hierarchies, Sort Yourself Out, Meta-Hero',\n",
       " 'Intellectual Dark Web': 'Viewpoint Diversity, Intellectual Humility, Tribalism',\n",
       " 'Benedictines': 'Benedict Option, Liquid Modernity, Moralistic Therapeutic Deism',\n",
       " 'Christian Right': 'Moral Majority, Rapture, Family Values',\n",
       " 'Establishment Right': 'School Choice, Pro-Life, Just Say No',\n",
       " 'Tea Party': \"Lamestream Media, Don't Tread on Me, Moneybombing\",\n",
       " 'Trumpists': 'MAGA, Fake News, The Swamp',\n",
       " 'InfoWarriors': 'Deep State, Crisis Actor, False Flag',\n",
       " 'QAnoners': 'The Storm, Double Meanings, Pedogate',\n",
       " 'Alt-Lite': 'Virtue Signalling, SJWs',\n",
       " 'Alt-Right': 'Cuckservatives, (((Echo))), Race Realism',\n",
       " 'Modern Neo-Nazis': 'ZOG, RaHoWa',\n",
       " 'Neoreactionaries': 'The Catherdal, GNON, Cthulhu only swims left',\n",
       " 'MRA (Mens Right Advocates)': 'Gynarchy, Boy Crisis, Male Expendability',\n",
       " 'Manosphere': 'Game, Alpha/Beat, Rationalization Hamster',\n",
       " 'MGTOW (Men Going Their Own Way)': 'NAWALT, Hypergamy',\n",
       " 'Incels': 'Normies, Chads/Stacys, Femoids'}"
      ]
     },
     "execution_count": 28,
     "metadata": {},
     "output_type": "execute_result"
    }
   ],
   "source": [
    "\n",
    "tribes_df['MENTAL MODELS'].to_dict()"
   ]
  },
  {
   "cell_type": "code",
   "execution_count": 29,
   "metadata": {},
   "outputs": [
    {
     "data": {
      "text/plain": [
       "{'SJAs (Social Justice Activists)': 'Judith Butler, Kimberle Crenshaw, New Left',\n",
       " 'Black Lives Matter': 'Audre Lorde, Franz Fanon, Malcolm X',\n",
       " '#MeToo': 'Second and Third Wave Feminists',\n",
       " 'Gender-Critical Feminists': 'Janice Raymond',\n",
       " 'Modern Neo-Marxists': 'Marxism, Situationist International, Frankfurt School',\n",
       " 'Antifa': 'Anti-Racist Action, Antifaschistische Aktion',\n",
       " 'Occupy': 'Adbusters, Arab Spring',\n",
       " 'Dirtbag Left': 'Bernie Bros',\n",
       " 'DSA (Democratic Socialists of America)': 'Michael Harrington, Jeremy Corbyn, Bernie Bros',\n",
       " 'Establishment Left': 'Jimmy Carter, MLK, JFK',\n",
       " 'Optimists': 'UN',\n",
       " 'New Atheists': 'Bertrand Russell, Charles Darwin',\n",
       " 'Street Epistemologists': 'Richard Dawkins, Sam Harris',\n",
       " 'Rationalist Diaspora': 'Thomas Bayes, I. J. Good',\n",
       " 'Post-Rationalists': 'James Carse, George Lakoff, Keith Johnstone',\n",
       " 'Integral Theorists': 'Sri Aurobindo, Pierre Teilhard de Chardin',\n",
       " 'Sorters': 'Carl Jung, Aleksandr Solzhenitsyn, Jean Piaget',\n",
       " 'Intellectual Dark Web': 'Heterodox Academy',\n",
       " 'Benedictines': 'St. Benedict of Nur\\xadsia, Alasdair MacIntyre',\n",
       " 'Christian Right': 'Evangelists, Baptists',\n",
       " 'Establishment Right': 'William F. Buckley Jr.',\n",
       " 'Tea Party': 'Ron Paul',\n",
       " 'Trumpists': 'Pat Buchanan',\n",
       " 'InfoWarriors': 'Gary Allen',\n",
       " 'QAnoners': 'FBI Anon',\n",
       " 'Alt-Lite': 'Cultural Libertarianism',\n",
       " 'Alt-Right': 'Nouvelle Droite, Identitarians',\n",
       " 'Modern Neo-Nazis': 'Ku Klux Klan, Skinheads, Nazis',\n",
       " 'Neoreactionaries': 'Thomas Carlyle, Hans-Hermann Hoppe, Peter Thiel',\n",
       " 'MRA (Mens Right Advocates)': \"Men's liberation movement, Mythopoetic men's movement\",\n",
       " 'Manosphere': 'Pick Up Artists, F. Roger Devlin',\n",
       " 'MGTOW (Men Going Their Own Way)': 'Esther Vilar',\n",
       " 'Incels': 'Brian Gilmartin'}"
      ]
     },
     "execution_count": 29,
     "metadata": {},
     "output_type": "execute_result"
    }
   ],
   "source": [
    "\n",
    "tribes_df['FOREBEARS'].to_dict()"
   ]
  },
  {
   "cell_type": "code",
   "execution_count": 45,
   "metadata": {},
   "outputs": [],
   "source": [
    "\n",
    "sacred_dict = tribes_df['SACRED VALUES'].to_dict()\n",
    "\n",
    "values_dict = {column_name: [key for key, value in sacred_dict.items() if column_name in value] for column_name,\n",
    "               column_value in pd.Series(', '.join(sacred_dict.values()).split(', ')).value_counts().iteritems()}"
   ]
  },
  {
   "cell_type": "code",
   "execution_count": 151,
   "metadata": {},
   "outputs": [
    {
     "data": {
      "text/plain": [
       "{'SJAs (Social Justice Activists)': 'Social Justice', 'Black Lives Matter': 'Restorative Justice', '#MeToo': 'Empowerment, Social Justice', 'Gender-Critical Feminists': 'Gender Equality', 'Modern Neo-Marxists': 'Class Consciousness', 'Antifa': 'Freedom (from fascism)', 'Occupy': 'Economic Justice', 'Dirtbag Left': 'Economic Justice, Progress', 'DSA (Democratic Socialists of America)': 'Economic Justice, Progress', 'Establishment Left': 'Equality, Progress', 'Optimists': 'Reason, Science, Progress', 'New Atheists': 'Objectivity, Secularity, Freethought', 'Street Epistemologists': 'Objectivity, Doxastic Openess', 'Rationalist Diaspora': 'Rationality', 'Post-Rationalists': 'Insight, Interestingness', 'Integral Theorists': 'Wisdom, Holism', 'Sorters': 'Free Speech, Responsibility, Truth', 'Intellectual Dark Web': 'Free Speech, Viewpoint Diversity, Intellectual Humility', 'Benedictines': 'Christian Faith', 'Christian Right': 'Christian Nationalism, Christian Faith', 'Establishment Right': 'American Tradition, Meritocracy', 'Tea Party': 'Fiscal Responsibility, Freedom (from government)', 'Trumpists': 'American Exceptionalism', 'InfoWarriors': 'Freedom (from elites)', 'QAnoners': 'Retribution', 'Alt-Lite': 'Free Speech, Western Monoculturism', 'Alt-Right': 'White Ethnic Survival', 'Modern Neo-Nazis': 'White Ethnic Survival', 'Neoreactionaries': 'Natural Order, Civilization', 'MRA (Mens Right Advocates)': 'Gender Equality', 'Manosphere': 'Masculinity', 'MGTOW (Men Going Their Own Way)': 'Freedom (from women)', 'Incels': 'Sexual Retribution'}"
      ]
     },
     "execution_count": 151,
     "metadata": {},
     "output_type": "execute_result"
    }
   ],
   "source": [
    "\n",
    "sacred_dict"
   ]
  },
  {
   "cell_type": "code",
   "execution_count": 48,
   "metadata": {},
   "outputs": [
    {
     "name": "stdout",
     "output_type": "stream",
     "text": [
      "Requirement already satisfied: matplotlib_venn in c:\\programdata\\anaconda3\\lib\\site-packages (0.11.5)\n",
      "Requirement already satisfied: matplotlib in c:\\programdata\\anaconda3\\lib\\site-packages (from matplotlib_venn) (3.1.1)\n",
      "Requirement already satisfied: numpy in c:\\programdata\\anaconda3\\lib\\site-packages (from matplotlib_venn) (1.16.4)\n",
      "Requirement already satisfied: scipy in c:\\programdata\\anaconda3\\lib\\site-packages (from matplotlib_venn) (1.2.1)\n",
      "Requirement already satisfied: kiwisolver>=1.0.1 in c:\\programdata\\anaconda3\\lib\\site-packages (from matplotlib->matplotlib_venn) (1.1.0)\n",
      "Requirement already satisfied: python-dateutil>=2.1 in c:\\programdata\\anaconda3\\lib\\site-packages (from matplotlib->matplotlib_venn) (2.8.0)\n",
      "Requirement already satisfied: pyparsing!=2.0.4,!=2.1.2,!=2.1.6,>=2.0.1 in c:\\programdata\\anaconda3\\lib\\site-packages (from matplotlib->matplotlib_venn) (2.4.0)\n",
      "Requirement already satisfied: cycler>=0.10 in c:\\programdata\\anaconda3\\lib\\site-packages (from matplotlib->matplotlib_venn) (0.10.0)\n",
      "Requirement already satisfied: setuptools in c:\\programdata\\anaconda3\\lib\\site-packages (from kiwisolver>=1.0.1->matplotlib->matplotlib_venn) (41.0.1)\n",
      "Requirement already satisfied: six>=1.5 in c:\\programdata\\anaconda3\\lib\\site-packages (from python-dateutil>=2.1->matplotlib->matplotlib_venn) (1.12.0)\n"
     ]
    }
   ],
   "source": [
    "\n",
    "import sys\n",
    "\n",
    "!{sys.executable} -m pip install matplotlib_venn"
   ]
  },
  {
   "cell_type": "code",
   "execution_count": 111,
   "metadata": {},
   "outputs": [],
   "source": [
    "\n",
    "import pylab as plt\n",
    "from matplotlib_venn import venn3, venn3_circles"
   ]
  },
  {
   "cell_type": "code",
   "execution_count": 54,
   "metadata": {},
   "outputs": [
    {
     "data": {
      "image/png": "[encoded data removed]",
      "text/plain": [
       "<Figure size 432x288 with 1 Axes>"
      ]
     },
     "metadata": {},
     "output_type": "display_data"
    }
   ],
   "source": [
    "\n",
    "v = venn3(subsets=(1, 1, 1, 1, 1, 1, 1), set_labels = ('A', 'B', 'C'))\n",
    "c = venn3_circles(subsets=(1, 1, 1, 1, 1, 1, 1), linestyle='dashed')\n",
    "v.get_patch_by_id('100').set_alpha(1.0)\n",
    "v.get_patch_by_id('100').set_color('white')\n",
    "v.get_label_by_id('100').set_text('Unknwn')\n",
    "v.get_label_by_id('C').set_text('Set C')"
   ]
  },
  {
   "cell_type": "code",
   "execution_count": 147,
   "metadata": {},
   "outputs": [
    {
     "data": {
      "image/png": "[encoded data removed]",
      "text/plain": [
       "<Figure size 288x288 with 1 Axes>"
      ]
     },
     "metadata": {},
     "output_type": "display_data"
    }
   ],
   "source": [
    "\n",
    "from matplotlib import pyplot as plt\n",
    "import numpy as np\n",
    "from matplotlib_venn import venn3, venn3_circles\n",
    "\n",
    "plt.figure(figsize=(4,4))\n",
    "v = venn3(subsets=(1, 1, 1, 1, 1, 1, 1), set_labels = ('A', 'B', 'C'))\n",
    "v.get_patch_by_id('100').set_alpha(1.0)\n",
    "v.get_patch_by_id('100').set_color('white')\n",
    "v.get_label_by_id('100').set_position((-0.392934081494065, 0.24995460849196174))\n",
    "v.get_label_by_id('100').set_text('Unknown')\n",
    "v.get_label_by_id('A').set_text('Set \"A\"')\n",
    "c = venn3_circles(subsets=(1, 1, 1, 1, 1, 1, 1), linestyle='dashed')\n",
    "c[0].set_lw(1.0)\n",
    "c[0].set_ls('dotted')\n",
    "plt.title(\"Sample Venn diagram\")\n",
    "ann_text = plt.annotate('Unknown set', xy=v.get_label_by_id('100').get_position() - np.array([0, 0.05]), xytext=(-70,-70),\n",
    "                        ha='center', textcoords='offset points', bbox=dict(boxstyle='round,pad=0.5', fc='gray', alpha=0.1),\n",
    "                        arrowprops=dict(arrowstyle='->', connectionstyle='arc3,rad=0.5',color='gray'))"
   ]
  },
  {
   "cell_type": "code",
   "execution_count": 142,
   "metadata": {},
   "outputs": [
    {
     "data": {
      "text/plain": [
       "\u001b[1;31mType:\u001b[0m        VennDiagram\n",
       "\u001b[1;31mString form:\u001b[0m <matplotlib_venn._common.VennDiagram object at 0x000001E5A31D32E8>\n",
       "\u001b[1;31mFile:\u001b[0m        c:\\programdata\\anaconda3\\lib\\site-packages\\matplotlib_venn\\_common.py\n",
       "\u001b[1;31mDocstring:\u001b[0m  \n",
       "A container for a set of patches and patch labels and set labels, which make up the rendered venn diagram.\n",
       "This object is returned by a venn2 or venn3 function call.\n"
      ]
     },
     "metadata": {},
     "output_type": "display_data"
    }
   ],
   "source": [
    "\n",
    "v?"
   ]
  },
  {
   "cell_type": "code",
   "execution_count": 62,
   "metadata": {},
   "outputs": [
    {
     "data": {
      "text/plain": [
       "\u001b[1;31mSignature:\u001b[0m \u001b[0mv\u001b[0m\u001b[1;33m.\u001b[0m\u001b[0mget_label_by_id\u001b[0m\u001b[1;33m(\u001b[0m\u001b[0mid\u001b[0m\u001b[1;33m)\u001b[0m\u001b[1;33m\u001b[0m\u001b[1;33m\u001b[0m\u001b[0m\n",
       "\u001b[1;31mDocstring:\u001b[0m\n",
       "Returns a subset label by a \"region id\". \n",
       "A region id is a string '10', '01' or '11' for 2-circle diagram or a \n",
       "string like '001', '010', etc, for 3-circle diagram.\n",
       "Alternatively, if the string 'A', 'B'  (or 'C' for 3-circle diagram) is given, the label of the\n",
       "corresponding set is returned (or None).\n",
       "\u001b[1;31mFile:\u001b[0m      c:\\programdata\\anaconda3\\lib\\site-packages\\matplotlib_venn\\_common.py\n",
       "\u001b[1;31mType:\u001b[0m      method\n"
      ]
     },
     "metadata": {},
     "output_type": "display_data"
    }
   ],
   "source": [
    "\n",
    "v.get_label_by_id?"
   ]
  },
  {
   "cell_type": "code",
   "execution_count": 119,
   "metadata": {},
   "outputs": [],
   "source": [
    "\n",
    "tuples_list = sorted(values_dict.items(), key=lambda kv: len(kv[1]), reverse=True)\n",
    "def show_values_venn(triples_list):\n",
    "    subset_list = [set(t[1]) for t in triples_list]\n",
    "    labels_list = tuple('\\n'.join(t[0].split(' ')) for t in triples_list)\n",
    "    venn_diagram = venn3(subsets=subset_list, set_labels=labels_list)\n",
    "    circle_list = venn3_circles(subsets=subset_list)\n",
    "    title_text = plt.title('Sacred Values Venn diagram')\n",
    "    \n",
    "    return circle_list, venn_diagram"
   ]
  },
  {
   "cell_type": "code",
   "execution_count": 140,
   "metadata": {},
   "outputs": [
    {
     "data": {
      "image/png": "[encoded data removed]",
      "text/plain": [
       "<Figure size 432x288 with 1 Axes>"
      ]
     },
     "metadata": {},
     "output_type": "display_data"
    }
   ],
   "source": [
    "\n",
    "triples_list = tuples_list[:3]\n",
    "circle_list, venn_diagram = show_values_venn(triples_list)\n",
    "venn_diagram.get_label_by_id('100').set_text('Establ.\\nLeft,\\nOptimists')\n",
    "venn_diagram.get_label_by_id('010').set_text('Occ\\nupy')\n",
    "venn_diagram.get_label_by_id('110').set_text('Dirtbag Left,\\nDSA')\n",
    "venn_diagram.get_label_by_id('001').set_text('Sorters,\\nIntellectual Dark Web,\\nAlt-Lite')\n",
    "venn_diagram.get_label_by_id('B').set_position((-0.00968294436421356, -0.3951804571871522))"
   ]
  },
  {
   "cell_type": "code",
   "execution_count": 141,
   "metadata": {},
   "outputs": [
    {
     "data": {
      "image/png": "[encoded data removed]",
      "text/plain": [
       "<Figure size 432x288 with 1 Axes>"
      ]
     },
     "metadata": {},
     "output_type": "display_data"
    }
   ],
   "source": [
    "\n",
    "triples_list = tuples_list[3:6]\n",
    "circle_list, venn_diagram = show_values_venn(triples_list)\n",
    "venn_diagram.get_label_by_id('100').set_text('Est\\nLeft')\n",
    "venn_diagram.get_label_by_id('110').set_text('Gender-Critical\\nFeminists,\\nMRA')\n",
    "venn_diagram.get_label_by_id('001').set_text('SJAs,\\n#MeToo')\n",
    "venn_diagram.get_label_by_id('B').set_position((0.07968294436421356, -0.3951804571871522))"
   ]
  },
  {
   "cell_type": "code",
   "execution_count": 132,
   "metadata": {},
   "outputs": [
    {
     "data": {
      "text/plain": [
       "\u001b[1;31mSignature:\u001b[0m \u001b[0mb_circle_label\u001b[0m\u001b[1;33m.\u001b[0m\u001b[0mset_position\u001b[0m\u001b[1;33m(\u001b[0m\u001b[0mxy\u001b[0m\u001b[1;33m)\u001b[0m\u001b[1;33m\u001b[0m\u001b[1;33m\u001b[0m\u001b[0m\n",
       "\u001b[1;31mDocstring:\u001b[0m\n",
       "Set the (*x*, *y*) position of the text.\n",
       "\n",
       "Parameters\n",
       "----------\n",
       "xy : (float, float)\n",
       "\u001b[1;31mFile:\u001b[0m      c:\\programdata\\anaconda3\\lib\\site-packages\\matplotlib\\text.py\n",
       "\u001b[1;31mType:\u001b[0m      method\n"
      ]
     },
     "metadata": {},
     "output_type": "display_data"
    }
   ],
   "source": [
    "\n",
    "b_circle_label = venn_diagram.get_label_by_id('B')\n",
    "b_circle_label.set_position?"
   ]
  },
  {
   "cell_type": "code",
   "execution_count": 118,
   "metadata": {},
   "outputs": [
    {
     "data": {
      "image/png": "[encoded data removed]",
      "text/plain": [
       "<Figure size 432x288 with 1 Axes>"
      ]
     },
     "metadata": {},
     "output_type": "display_data"
    }
   ],
   "source": [
    "\n",
    "triples_list = tuples_list[6:9]\n",
    "circle_list, venn_diagram = show_values_venn(triples_list)\n",
    "venn_diagram.get_label_by_id('100').set_text('Alt-Right,\\nModern Neo-Nazis')\n",
    "venn_diagram.get_label_by_id('010').set_text('New Atheists,\\nStreet\\nEpistemologists')\n",
    "venn_diagram.get_label_by_id('001').set_text('Benedictines,\\nChristian Right')"
   ]
  },
  {
   "cell_type": "code",
   "execution_count": 150,
   "metadata": {},
   "outputs": [
    {
     "data": {
      "image/png": "[encoded data removed]",
      "text/plain": [
       "<Figure size 432x288 with 1 Axes>"
      ]
     },
     "metadata": {},
     "output_type": "display_data"
    }
   ],
   "source": [
    "\n",
    "triples_list = tuples_list[9:12]\n",
    "circle_list, venn_diagram = show_values_venn(triples_list)\n",
    "venn_diagram.get_label_by_id('100').set_text('QAnoners,\\nIncels')\n",
    "venn_diagram.get_label_by_id('010').set_text('Sorters,\\nTea Party')\n",
    "venn_diagram.get_label_by_id('001').set_text('Neo\\nreactionaries')"
   ]
  },
  {
   "cell_type": "code",
   "execution_count": 103,
   "metadata": {},
   "outputs": [
    {
     "data": {
      "text/plain": [
       "[('White Ethnic Survival', ['Alt-Right', 'Modern Neo-Nazis']),\n",
       " ('Objectivity', ['New Atheists', 'Street Epistemologists']),\n",
       " ('Christian Faith', ['Benedictines', 'Christian Right'])]"
      ]
     },
     "execution_count": 103,
     "metadata": {},
     "output_type": "execute_result"
    }
   ],
   "source": [
    "\n",
    "triples_list"
   ]
  },
  {
   "cell_type": "code",
   "execution_count": 91,
   "metadata": {},
   "outputs": [
    {
     "data": {
      "text/plain": [
       "[('Progress',\n",
       "  ['Dirtbag Left',\n",
       "   'DSA (Democratic Socialists of America)',\n",
       "   'Establishment Left',\n",
       "   'Optimists']),\n",
       " ('Economic Justice',\n",
       "  ['Occupy', 'Dirtbag Left', 'DSA (Democratic Socialists of America)']),\n",
       " ('Free Speech', ['Sorters', 'Intellectual Dark Web', 'Alt-Lite']),\n",
       " ('Equality',\n",
       "  ['Gender-Critical Feminists',\n",
       "   'Establishment Left',\n",
       "   'MRA (Mens Right Advocates)']),\n",
       " ('Gender Equality',\n",
       "  ['Gender-Critical Feminists', 'MRA (Mens Right Advocates)']),\n",
       " ('Social Justice', ['SJAs (Social Justice Activists)', '#MeToo']),\n",
       " ('White Ethnic Survival', ['Alt-Right', 'Modern Neo-Nazis']),\n",
       " ('Objectivity', ['New Atheists', 'Street Epistemologists']),\n",
       " ('Christian Faith', ['Benedictines', 'Christian Right']),\n",
       " ('Retribution', ['QAnoners', 'Incels']),\n",
       " ('Responsibility', ['Sorters', 'Tea Party']),\n",
       " ('Civilization', ['Neoreactionaries']),\n",
       " ('Class Consciousness', ['Modern Neo-Marxists']),\n",
       " ('Sexual Retribution', ['Incels']),\n",
       " ('Intellectual Humility', ['Intellectual Dark Web']),\n",
       " ('Reason', ['Optimists']),\n",
       " ('Rationality', ['Rationalist Diaspora']),\n",
       " ('Natural Order', ['Neoreactionaries']),\n",
       " ('Doxastic Openess', ['Street Epistemologists']),\n",
       " ('Viewpoint Diversity', ['Intellectual Dark Web']),\n",
       " ('Meritocracy', ['Establishment Right']),\n",
       " ('Freedom (from government)', ['Tea Party']),\n",
       " ('Christian Nationalism', ['Christian Right']),\n",
       " ('Freedom (from women)', ['MGTOW (Men Going Their Own Way)']),\n",
       " ('Truth', ['Sorters']),\n",
       " ('Empowerment', ['#MeToo']),\n",
       " ('Holism', ['Integral Theorists']),\n",
       " ('Freedom (from fascism)', ['Antifa']),\n",
       " ('Science', ['Optimists']),\n",
       " ('American Exceptionalism', ['Trumpists']),\n",
       " ('Insight', ['Post-Rationalists']),\n",
       " ('Freedom (from elites)', ['InfoWarriors']),\n",
       " ('Restorative Justice', ['Black Lives Matter']),\n",
       " ('Western Monoculturism', ['Alt-Lite']),\n",
       " ('Masculinity', ['Manosphere']),\n",
       " ('Secularity', ['New Atheists']),\n",
       " ('Freethought', ['New Atheists']),\n",
       " ('Wisdom', ['Integral Theorists']),\n",
       " ('American Tradition', ['Establishment Right']),\n",
       " ('Interestingness', ['Post-Rationalists']),\n",
       " ('Fiscal Responsibility', ['Tea Party'])]"
      ]
     },
     "execution_count": 91,
     "metadata": {},
     "output_type": "execute_result"
    }
   ],
   "source": [
    "\n",
    "tuples_list"
   ]
  },
  {
   "cell_type": "code",
   "execution_count": 24,
   "metadata": {},
   "outputs": [
    {
     "data": {
      "text/html": [
       "<div>\n",
       "<style scoped>\n",
       "    .dataframe tbody tr th:only-of-type {\n",
       "        vertical-align: middle;\n",
       "    }\n",
       "\n",
       "    .dataframe tbody tr th {\n",
       "        vertical-align: top;\n",
       "    }\n",
       "\n",
       "    .dataframe thead th {\n",
       "        text-align: right;\n",
       "    }\n",
       "</style>\n",
       "<table border=\"1\" class=\"dataframe\">\n",
       "  <thead>\n",
       "    <tr style=\"text-align: right;\">\n",
       "      <th></th>\n",
       "      <th>TELOS</th>\n",
       "      <th>SACRED VALUES</th>\n",
       "      <th>MASTER STATUS</th>\n",
       "      <th>EXISTENTIAL THREATS</th>\n",
       "      <th>COMBATANTS</th>\n",
       "      <th>CAMPFIRE</th>\n",
       "      <th>CHIEFTAINS</th>\n",
       "      <th>MENTAL MODELS</th>\n",
       "      <th>FOREBEARS</th>\n",
       "    </tr>\n",
       "    <tr>\n",
       "      <th>MEMETIC TRIBE</th>\n",
       "      <th></th>\n",
       "      <th></th>\n",
       "      <th></th>\n",
       "      <th></th>\n",
       "      <th></th>\n",
       "      <th></th>\n",
       "      <th></th>\n",
       "      <th></th>\n",
       "      <th></th>\n",
       "    </tr>\n",
       "  </thead>\n",
       "  <tbody>\n",
       "    <tr>\n",
       "      <th>SJAs (Social Justice Activists)</th>\n",
       "      <td>End social oppression</td>\n",
       "      <td>Social Justice</td>\n",
       "      <td>Social Activist</td>\n",
       "      <td>Kyriarchy</td>\n",
       "      <td>Alt-Lite, Alt-Right, Sorters, Trumpists</td>\n",
       "      <td>Campuses, Tumblr, Twitter</td>\n",
       "      <td>Brianna Wu, Laurie Penny, Arthur Chu</td>\n",
       "      <td>Essentialism, Normativity, Intersectionality</td>\n",
       "      <td>Judith Butler, Kimberle Crenshaw, New Left</td>\n",
       "    </tr>\n",
       "    <tr>\n",
       "      <th>Black Lives Matter</th>\n",
       "      <td>Justice for racialized people</td>\n",
       "      <td>Restorative Justice</td>\n",
       "      <td>African American</td>\n",
       "      <td>Systemic racism</td>\n",
       "      <td>Alt-Lite, Alt-Right, Trumpists, Establishment ...</td>\n",
       "      <td>Protests, Campuses, Twitter</td>\n",
       "      <td>Alicia Garza, DeRay Mckesson, Ta Nehisi Coates</td>\n",
       "      <td>Black Bodies, Reparations, Cultural Appropriat...</td>\n",
       "      <td>Audre Lorde, Franz Fanon, Malcolm X</td>\n",
       "    </tr>\n",
       "    <tr>\n",
       "      <th>#MeToo</th>\n",
       "      <td>End sexual harassment</td>\n",
       "      <td>Empowerment, Social Justice</td>\n",
       "      <td>Empowered Woman / Ally</td>\n",
       "      <td>Weinstein level abuse</td>\n",
       "      <td>Alt-Lite, MRA, Manosphere, Incels</td>\n",
       "      <td>Hollywood, MSM, Pop Culture</td>\n",
       "      <td>Tarana Burke, Oprah Winfrey, Alyssa Milano</td>\n",
       "      <td>Toxic Masculinity, Rape Culture, Pay Gap</td>\n",
       "      <td>Second and Third Wave Feminists</td>\n",
       "    </tr>\n",
       "    <tr>\n",
       "      <th>Gender-Critical Feminists</th>\n",
       "      <td>End patriarchy</td>\n",
       "      <td>Gender Equality</td>\n",
       "      <td>Liberated (biological) woman</td>\n",
       "      <td>Continued Patriarchy</td>\n",
       "      <td>SJA, MRA</td>\n",
       "      <td>Speaking Tours, Twitter</td>\n",
       "      <td>Meghan Murphy, Germaine Greer, Sheilay Jeffreys</td>\n",
       "      <td>Rapid-Onset Gender Dysphoria, Womyn-born Womyn</td>\n",
       "      <td>Janice Raymond</td>\n",
       "    </tr>\n",
       "    <tr>\n",
       "      <th>Modern Neo-Marxists</th>\n",
       "      <td>Destruction of false consciousness</td>\n",
       "      <td>Class Consciousness</td>\n",
       "      <td>Revolutionary</td>\n",
       "      <td>Recuperation</td>\n",
       "      <td>Establishment Left, Establishment Right</td>\n",
       "      <td>Student groups, Zero Books, Libcom</td>\n",
       "      <td>Douglas Lain, Mark Fisher, Slavoj Zizek</td>\n",
       "      <td>Hauntology, Capitalist Realism, Spectre of Ide...</td>\n",
       "      <td>Marxism, Situationist International, Frankfurt...</td>\n",
       "    </tr>\n",
       "    <tr>\n",
       "      <th>Antifa</th>\n",
       "      <td>End fascism</td>\n",
       "      <td>Freedom (from fascism)</td>\n",
       "      <td>Militant</td>\n",
       "      <td>Fascism</td>\n",
       "      <td>Alt-Right, Alt-Lite, Neo-Nazis, Trumpists</td>\n",
       "      <td>Protests, It's Going Down, Crimethinc</td>\n",
       "      <td>Mark Bray, Natasha Lennard, Scott Crow</td>\n",
       "      <td>Direct Action, Diversity of Tactics, No Platfo...</td>\n",
       "      <td>Anti-Racist Action, Antifaschistische Aktion</td>\n",
       "    </tr>\n",
       "    <tr>\n",
       "      <th>Occupy</th>\n",
       "      <td>Remove the 1% from power</td>\n",
       "      <td>Economic Justice</td>\n",
       "      <td>Protester</td>\n",
       "      <td>Police crackdown</td>\n",
       "      <td>Establishment Left, Establishment Right</td>\n",
       "      <td>Protests, Student groups, zines</td>\n",
       "      <td>Kalle Lasn, Naomi Klein, David Graeber</td>\n",
       "      <td>The 99%, Culture Jamming, Crony Capitalism</td>\n",
       "      <td>Adbusters, Arab Spring</td>\n",
       "    </tr>\n",
       "    <tr>\n",
       "      <th>Dirtbag Left</th>\n",
       "      <td>Overtake and revitalize the left</td>\n",
       "      <td>Economic Justice, Progress</td>\n",
       "      <td>Unapologetic Socialist</td>\n",
       "      <td>Maintenance of pragamtic and centrist liberial...</td>\n",
       "      <td>SJA, Alt-Right, Establishment Left</td>\n",
       "      <td>Weird Twitter, Chapo Trap House</td>\n",
       "      <td>Will Menaker, Matt Christman, Felix Biederman</td>\n",
       "      <td>The Ratio, Milkshake Duck, Tankie</td>\n",
       "      <td>Bernie Bros</td>\n",
       "    </tr>\n",
       "    <tr>\n",
       "      <th>DSA (Democratic Socialists of America)</th>\n",
       "      <td>A democratically elected socialist state</td>\n",
       "      <td>Economic Justice, Progress</td>\n",
       "      <td>Democratic Socialist</td>\n",
       "      <td>Neoliberalism</td>\n",
       "      <td>Establishment Left, Establishment Right, Trump...</td>\n",
       "      <td>Twitter, Jacobin, Local chapters</td>\n",
       "      <td>Alexandria Oscasio-Cortez, Julia Salazar, Bern...</td>\n",
       "      <td>Social dividend, Calculation in kind, Cooperative</td>\n",
       "      <td>Michael Harrington, Jeremy Corbyn, Bernie Bros</td>\n",
       "    </tr>\n",
       "    <tr>\n",
       "      <th>Establishment Left</th>\n",
       "      <td>Achieve social and economic equality</td>\n",
       "      <td>Equality, Progress</td>\n",
       "      <td>Liberal</td>\n",
       "      <td>Inequality</td>\n",
       "      <td>Establishment Right, DSA, Dirtbag Left</td>\n",
       "      <td>CNN, The New Yorker, Harvard</td>\n",
       "      <td>The Clintons, Barack Obama</td>\n",
       "      <td>Welfare state, Pro-choice, Gun Control</td>\n",
       "      <td>Jimmy Carter, MLK, JFK</td>\n",
       "    </tr>\n",
       "    <tr>\n",
       "      <th>Optimists</th>\n",
       "      <td>\"Enlightenment Now\" (e.g. continual progress t...</td>\n",
       "      <td>Reason, Science, Progress</td>\n",
       "      <td>Global citizen</td>\n",
       "      <td>A societal retreat to populism and fundamentalism</td>\n",
       "      <td>Trumpists, Neoreactionaries, Alt-Right, SJAs</td>\n",
       "      <td>Davos, Governments</td>\n",
       "      <td>Steven Pinker, Hans Rosling, Bill Gates</td>\n",
       "      <td>Skepticism, Scientific Method</td>\n",
       "      <td>UN</td>\n",
       "    </tr>\n",
       "    <tr>\n",
       "      <th>New Atheists</th>\n",
       "      <td>Objective truth in a post-religious world</td>\n",
       "      <td>Objectivity, Secularity, Freethought</td>\n",
       "      <td>Atheist</td>\n",
       "      <td>Reemergence and dominance of religiosity and i...</td>\n",
       "      <td>Christian Right, Sorters</td>\n",
       "      <td>Debates, YouTube</td>\n",
       "      <td>Richard Dawkins, Sam Harris, Christopher Hitchens</td>\n",
       "      <td>Spectrum of Theistic Probability, Logical Fall...</td>\n",
       "      <td>Bertrand Russell, Charles Darwin</td>\n",
       "    </tr>\n",
       "    <tr>\n",
       "      <th>Street Epistemologists</th>\n",
       "      <td>Spread the correct epistemic method amongst th...</td>\n",
       "      <td>Objectivity, Doxastic Openess</td>\n",
       "      <td>Atheist activist</td>\n",
       "      <td>Backfire effect when being too aggressive with...</td>\n",
       "      <td>Christian Right, Sorters</td>\n",
       "      <td>Streets, YouTube</td>\n",
       "      <td>Peter Boghossian, Anthony Magnabosco</td>\n",
       "      <td>Doxastic Openness/Closure​, Socratic Method, A...</td>\n",
       "      <td>Richard Dawkins, Sam Harris</td>\n",
       "    </tr>\n",
       "    <tr>\n",
       "      <th>Rationalist Diaspora</th>\n",
       "      <td>Overcoming bias</td>\n",
       "      <td>Rationality</td>\n",
       "      <td>Applied Rationalist</td>\n",
       "      <td>Unfriendly AI</td>\n",
       "      <td>SJA, Neoreactionaries</td>\n",
       "      <td>LessWrong, Slate Star Codex, Meetups</td>\n",
       "      <td>Eliezer Yudkowsky, Scott Alexander, Robin Hanson</td>\n",
       "      <td>Bayes Theorem, Effective Altrusim, Cognitive B...</td>\n",
       "      <td>Thomas Bayes, I. J. Good</td>\n",
       "    </tr>\n",
       "    <tr>\n",
       "      <th>Post-Rationalists</th>\n",
       "      <td>Refactoring perception</td>\n",
       "      <td>Insight, Interestingness</td>\n",
       "      <td>Insight Pornographer</td>\n",
       "      <td>The Uninterestingness of Eternalist or Nihilis...</td>\n",
       "      <td>None</td>\n",
       "      <td>Ribbonfarm, Twitter</td>\n",
       "      <td>Venkatesh Rao, Sarah Perry, David Chapman</td>\n",
       "      <td>Weirding, Meaningness, Gervais Principle</td>\n",
       "      <td>James Carse, George Lakoff, Keith Johnstone</td>\n",
       "    </tr>\n",
       "    <tr>\n",
       "      <th>Integral Theorists</th>\n",
       "      <td>\"Waking Up, Growing Up, Cleaning Up\"</td>\n",
       "      <td>Wisdom, Holism</td>\n",
       "      <td>Tier 2 consciousness</td>\n",
       "      <td>Humanity stuck in Tier 1 consciousness</td>\n",
       "      <td>None</td>\n",
       "      <td>We Spaces, Integral Life</td>\n",
       "      <td>Ken Wilber, Jeff Salzman</td>\n",
       "      <td>AQAL, Spiral Dynamics, Holons</td>\n",
       "      <td>Sri Aurobindo, Pierre Teilhard de Chardin</td>\n",
       "    </tr>\n",
       "    <tr>\n",
       "      <th>Sorters</th>\n",
       "      <td>Aim towards the highest good</td>\n",
       "      <td>Free Speech, Responsibility, Truth</td>\n",
       "      <td>An Individual</td>\n",
       "      <td>Loss of free speech</td>\n",
       "      <td>SJA, #MeToo</td>\n",
       "      <td>Twitter, Facebook, Reddit, Campuses</td>\n",
       "      <td>Jordan Peterson</td>\n",
       "      <td>Dominance Hierarchies, Sort Yourself Out, Meta...</td>\n",
       "      <td>Carl Jung, Aleksandr Solzhenitsyn, Jean Piaget</td>\n",
       "    </tr>\n",
       "    <tr>\n",
       "      <th>Intellectual Dark Web</th>\n",
       "      <td>Considered free speech</td>\n",
       "      <td>Free Speech, Viewpoint Diversity, Intellectual...</td>\n",
       "      <td>Intellectual heterodox</td>\n",
       "      <td>Intellectual orthodoxy</td>\n",
       "      <td>SJA</td>\n",
       "      <td>Twitter, Quillette, Podcasts</td>\n",
       "      <td>Bret Weinstein, David Rubin, Claire Lehmann</td>\n",
       "      <td>Viewpoint Diversity, Intellectual Humility, Tr...</td>\n",
       "      <td>Heterodox Academy</td>\n",
       "    </tr>\n",
       "    <tr>\n",
       "      <th>Benedictines</th>\n",
       "      <td>Strategetic segregation from mainstream cultur...</td>\n",
       "      <td>Christian Faith</td>\n",
       "      <td>Traditionalist Christian</td>\n",
       "      <td>Complete dissolution of Christianity</td>\n",
       "      <td>SJAs, New Atheists</td>\n",
       "      <td>The American Conservative, Churches</td>\n",
       "      <td>Rod Dreher, Anthony Esolen, John Horvat II</td>\n",
       "      <td>Benedict Option, Liquid Modernity, Moralistic ...</td>\n",
       "      <td>St. Benedict of Nur­sia, Alasdair MacIntyre</td>\n",
       "    </tr>\n",
       "    <tr>\n",
       "      <th>Christian Right</th>\n",
       "      <td>A Christian nation</td>\n",
       "      <td>Christian Nationalism, Christian Faith</td>\n",
       "      <td>True Christian</td>\n",
       "      <td>Losing the \"soul\" of America</td>\n",
       "      <td>Establishment Left, New Atheists, Street Epist...</td>\n",
       "      <td>Churches, Christian Broadcasting Network</td>\n",
       "      <td>Jerry Falwell, Pat Robertson</td>\n",
       "      <td>Moral Majority, Rapture, Family Values</td>\n",
       "      <td>Evangelists, Baptists</td>\n",
       "    </tr>\n",
       "    <tr>\n",
       "      <th>Establishment Right</th>\n",
       "      <td>Uphold traditional values in a free market soc...</td>\n",
       "      <td>American Tradition, Meritocracy</td>\n",
       "      <td>Conservative</td>\n",
       "      <td>Loss of traditional values and economic collapse</td>\n",
       "      <td>Establishment Left, Trumpists, Alt-Right</td>\n",
       "      <td>Fox News, National Review, PragerU</td>\n",
       "      <td>The Bushes, John McCain</td>\n",
       "      <td>School Choice, Pro-Life, Just Say No</td>\n",
       "      <td>William F. Buckley Jr.</td>\n",
       "    </tr>\n",
       "    <tr>\n",
       "      <th>Tea Party</th>\n",
       "      <td>Reduce national debt and government spending.</td>\n",
       "      <td>Fiscal Responsibility, Freedom (from government)</td>\n",
       "      <td>Patriot</td>\n",
       "      <td>Debt crisis</td>\n",
       "      <td>Establishment Left, Establishment Right</td>\n",
       "      <td>Rallies</td>\n",
       "      <td>Sarah Palin, Glenn Beck, Amy Kremer</td>\n",
       "      <td>Lamestream Media, Don't Tread on Me, Moneybombing</td>\n",
       "      <td>Ron Paul</td>\n",
       "    </tr>\n",
       "    <tr>\n",
       "      <th>Trumpists</th>\n",
       "      <td>\"Make America Great Again\"</td>\n",
       "      <td>American Exceptionalism</td>\n",
       "      <td>True American</td>\n",
       "      <td>Immigration</td>\n",
       "      <td>Establishment Left, Establishment Right, SJA, ...</td>\n",
       "      <td>Rallies, /r/The_Donald/</td>\n",
       "      <td>Donald Trump, Steve Bannon, Candace Owens</td>\n",
       "      <td>MAGA, Fake News, The Swamp</td>\n",
       "      <td>Pat Buchanan</td>\n",
       "    </tr>\n",
       "    <tr>\n",
       "      <th>InfoWarriors</th>\n",
       "      <td>Exposing and overthrowing the globalist world ...</td>\n",
       "      <td>Freedom (from elites)</td>\n",
       "      <td>Exposers of Truth</td>\n",
       "      <td>Complete domination of the New World Order</td>\n",
       "      <td>Establishment Left, Establishment Right</td>\n",
       "      <td>InfoWars</td>\n",
       "      <td>Alex Jones, Paul Joseph Watson</td>\n",
       "      <td>Deep State, Crisis Actor, False Flag</td>\n",
       "      <td>Gary Allen</td>\n",
       "    </tr>\n",
       "    <tr>\n",
       "      <th>QAnoners</th>\n",
       "      <td>\"The Great Awakening\"</td>\n",
       "      <td>Retribution</td>\n",
       "      <td>Revolutionary Patriot</td>\n",
       "      <td>Donald Trump defeated by a cabal of elite glob...</td>\n",
       "      <td>Establishment Left, Establishment Right</td>\n",
       "      <td>/pol/, Reddit, twitter, rallies</td>\n",
       "      <td>Qanon</td>\n",
       "      <td>The Storm, Double Meanings, Pedogate</td>\n",
       "      <td>FBI Anon</td>\n",
       "    </tr>\n",
       "    <tr>\n",
       "      <th>Alt-Lite</th>\n",
       "      <td>Unapologetic free speech</td>\n",
       "      <td>Free Speech, Western Monoculturism</td>\n",
       "      <td>Western Chauvinist</td>\n",
       "      <td>Death of Western Civilization</td>\n",
       "      <td>SJAs, #MeToo, Black Lives Matter, Antifa</td>\n",
       "      <td>Twitter, Gabber, Reddit</td>\n",
       "      <td>Gavin McInnes, Mike Cernovich, Milo Yiannopoulos</td>\n",
       "      <td>Virtue Signalling, SJWs</td>\n",
       "      <td>Cultural Libertarianism</td>\n",
       "    </tr>\n",
       "    <tr>\n",
       "      <th>Alt-Right</th>\n",
       "      <td>White Ethno-State</td>\n",
       "      <td>White Ethnic Survival</td>\n",
       "      <td>White Nationalist</td>\n",
       "      <td>The Great Replacement</td>\n",
       "      <td>Antifa, SJAs, Black Lives Matter, Establishmen...</td>\n",
       "      <td>Twitter, Gabber, /pol/</td>\n",
       "      <td>Richard Spencer, Jared Taylor, Kevin B. MacDonald</td>\n",
       "      <td>Cuckservatives, (((Echo))), Race Realism</td>\n",
       "      <td>Nouvelle Droite, Identitarians</td>\n",
       "    </tr>\n",
       "    <tr>\n",
       "      <th>Modern Neo-Nazis</th>\n",
       "      <td>14/88</td>\n",
       "      <td>White Ethnic Survival</td>\n",
       "      <td>White Suprematist</td>\n",
       "      <td>White Genocide</td>\n",
       "      <td>Antifa, SJAs, Establishment Left, Establishmen...</td>\n",
       "      <td>Stormfront, The Daily Stormer</td>\n",
       "      <td>David Duke, David Lane, Andrew Anglin</td>\n",
       "      <td>ZOG, RaHoWa</td>\n",
       "      <td>Ku Klux Klan, Skinheads, Nazis</td>\n",
       "    </tr>\n",
       "    <tr>\n",
       "      <th>Neoreactionaries</th>\n",
       "      <td>Restoration</td>\n",
       "      <td>Natural Order, Civilization</td>\n",
       "      <td>Reactionary</td>\n",
       "      <td>Unrecoverable Social Degeneracy</td>\n",
       "      <td>SJAs, Rationalist Diaspora</td>\n",
       "      <td>Blogosphere, Hestia Society, Unqualified Reser...</td>\n",
       "      <td>Mencius Moldbug, Nick Land, Michael Anissimov</td>\n",
       "      <td>The Catherdal, GNON, Cthulhu only swims left</td>\n",
       "      <td>Thomas Carlyle, Hans-Hermann Hoppe, Peter Thiel</td>\n",
       "    </tr>\n",
       "    <tr>\n",
       "      <th>MRA (Mens Right Advocates)</th>\n",
       "      <td>Social and legal equality for men</td>\n",
       "      <td>Gender Equality</td>\n",
       "      <td>Mens Advocate</td>\n",
       "      <td>Biased legal system against men</td>\n",
       "      <td>SJA, #MeToo, Gender-Critical Feminists</td>\n",
       "      <td>A Voice for Men</td>\n",
       "      <td>Warren Farrell, Paul Elam</td>\n",
       "      <td>Gynarchy, Boy Crisis, Male Expendability</td>\n",
       "      <td>Men's liberation movement, Mythopoetic men's m...</td>\n",
       "    </tr>\n",
       "    <tr>\n",
       "      <th>Manosphere</th>\n",
       "      <td>A \"Return of Kings\" (e.g. a return of patriarc...</td>\n",
       "      <td>Masculinity</td>\n",
       "      <td>Neomasculinist</td>\n",
       "      <td>Cultural enforced emasculation</td>\n",
       "      <td>SJA, #MeToo, Gender-Critical Feminists</td>\n",
       "      <td>Return of Kings, Roosh V Forum, Red Pill Reddit</td>\n",
       "      <td>Roosh V, Heartiste, Rollo Tomassi</td>\n",
       "      <td>Game, Alpha/Beat, Rationalization Hamster</td>\n",
       "      <td>Pick Up Artists, F. Roger Devlin</td>\n",
       "    </tr>\n",
       "    <tr>\n",
       "      <th>MGTOW (Men Going Their Own Way)</th>\n",
       "      <td>Societal and relational disengagement</td>\n",
       "      <td>Freedom (from women)</td>\n",
       "      <td>Detached Man</td>\n",
       "      <td>Gynocentrism</td>\n",
       "      <td>Manosphere, SJA, Gender-Critical Feminists</td>\n",
       "      <td>MGTOW Central</td>\n",
       "      <td>Bernard Chapin</td>\n",
       "      <td>NAWALT, Hypergamy</td>\n",
       "      <td>Esther Vilar</td>\n",
       "    </tr>\n",
       "    <tr>\n",
       "      <th>Incels</th>\n",
       "      <td>Enforced monogamy through a \"Beta Uprising\"</td>\n",
       "      <td>Sexual Retribution</td>\n",
       "      <td>Inceldom</td>\n",
       "      <td>Black pilling murder–suicide</td>\n",
       "      <td>SJA, #MeToo</td>\n",
       "      <td>/pol/, Reddit, incel.me</td>\n",
       "      <td>Alana, Elliot Rodgers</td>\n",
       "      <td>Normies, Chads/Stacys, Femoids</td>\n",
       "      <td>Brian Gilmartin</td>\n",
       "    </tr>\n",
       "  </tbody>\n",
       "</table>\n",
       "</div>"
      ],
      "text/plain": [
       "0                                                                                   TELOS  \\\n",
       "MEMETIC TRIBE                                                                               \n",
       "SJAs (Social Justice Activists)                                     End social oppression   \n",
       "Black Lives Matter                                          Justice for racialized people   \n",
       "#MeToo                                                              End sexual harassment   \n",
       "Gender-Critical Feminists                                                  End patriarchy   \n",
       "Modern Neo-Marxists                                    Destruction of false consciousness   \n",
       "Antifa                                                                        End fascism   \n",
       "Occupy                                                           Remove the 1% from power   \n",
       "Dirtbag Left                                             Overtake and revitalize the left   \n",
       "DSA (Democratic Socialists of America)           A democratically elected socialist state   \n",
       "Establishment Left                                   Achieve social and economic equality   \n",
       "Optimists                               \"Enlightenment Now\" (e.g. continual progress t...   \n",
       "New Atheists                                    Objective truth in a post-religious world   \n",
       "Street Epistemologists                  Spread the correct epistemic method amongst th...   \n",
       "Rationalist Diaspora                                                      Overcoming bias   \n",
       "Post-Rationalists                                                  Refactoring perception   \n",
       "Integral Theorists                                   \"Waking Up, Growing Up, Cleaning Up\"   \n",
       "Sorters                                                      Aim towards the highest good   \n",
       "Intellectual Dark Web                                              Considered free speech   \n",
       "Benedictines                            Strategetic segregation from mainstream cultur...   \n",
       "Christian Right                                                        A Christian nation   \n",
       "Establishment Right                     Uphold traditional values in a free market soc...   \n",
       "Tea Party                                   Reduce national debt and government spending.   \n",
       "Trumpists                                                      \"Make America Great Again\"   \n",
       "InfoWarriors                            Exposing and overthrowing the globalist world ...   \n",
       "QAnoners                                                            \"The Great Awakening\"   \n",
       "Alt-Lite                                                         Unapologetic free speech   \n",
       "Alt-Right                                                               White Ethno-State   \n",
       "Modern Neo-Nazis                                                                    14/88   \n",
       "Neoreactionaries                                                              Restoration   \n",
       "MRA (Mens Right Advocates)                              Social and legal equality for men   \n",
       "Manosphere                              A \"Return of Kings\" (e.g. a return of patriarc...   \n",
       "MGTOW (Men Going Their Own Way)                     Societal and relational disengagement   \n",
       "Incels                                        Enforced monogamy through a \"Beta Uprising\"   \n",
       "\n",
       "0                                                                           SACRED VALUES  \\\n",
       "MEMETIC TRIBE                                                                               \n",
       "SJAs (Social Justice Activists)                                            Social Justice   \n",
       "Black Lives Matter                                                    Restorative Justice   \n",
       "#MeToo                                                        Empowerment, Social Justice   \n",
       "Gender-Critical Feminists                                                 Gender Equality   \n",
       "Modern Neo-Marxists                                                   Class Consciousness   \n",
       "Antifa                                                             Freedom (from fascism)   \n",
       "Occupy                                                                   Economic Justice   \n",
       "Dirtbag Left                                                   Economic Justice, Progress   \n",
       "DSA (Democratic Socialists of America)                         Economic Justice, Progress   \n",
       "Establishment Left                                                     Equality, Progress   \n",
       "Optimists                                                       Reason, Science, Progress   \n",
       "New Atheists                                         Objectivity, Secularity, Freethought   \n",
       "Street Epistemologists                                      Objectivity, Doxastic Openess   \n",
       "Rationalist Diaspora                                                          Rationality   \n",
       "Post-Rationalists                                                Insight, Interestingness   \n",
       "Integral Theorists                                                         Wisdom, Holism   \n",
       "Sorters                                                Free Speech, Responsibility, Truth   \n",
       "Intellectual Dark Web                   Free Speech, Viewpoint Diversity, Intellectual...   \n",
       "Benedictines                                                              Christian Faith   \n",
       "Christian Right                                    Christian Nationalism, Christian Faith   \n",
       "Establishment Right                                       American Tradition, Meritocracy   \n",
       "Tea Party                                Fiscal Responsibility, Freedom (from government)   \n",
       "Trumpists                                                         American Exceptionalism   \n",
       "InfoWarriors                                                        Freedom (from elites)   \n",
       "QAnoners                                                                      Retribution   \n",
       "Alt-Lite                                               Free Speech, Western Monoculturism   \n",
       "Alt-Right                                                           White Ethnic Survival   \n",
       "Modern Neo-Nazis                                                    White Ethnic Survival   \n",
       "Neoreactionaries                                              Natural Order, Civilization   \n",
       "MRA (Mens Right Advocates)                                                Gender Equality   \n",
       "Manosphere                                                                    Masculinity   \n",
       "MGTOW (Men Going Their Own Way)                                      Freedom (from women)   \n",
       "Incels                                                                 Sexual Retribution   \n",
       "\n",
       "0                                                      MASTER STATUS  \\\n",
       "MEMETIC TRIBE                                                          \n",
       "SJAs (Social Justice Activists)                      Social Activist   \n",
       "Black Lives Matter                                  African American   \n",
       "#MeToo                                        Empowered Woman / Ally   \n",
       "Gender-Critical Feminists               Liberated (biological) woman   \n",
       "Modern Neo-Marxists                                    Revolutionary   \n",
       "Antifa                                                      Militant   \n",
       "Occupy                                                     Protester   \n",
       "Dirtbag Left                                  Unapologetic Socialist   \n",
       "DSA (Democratic Socialists of America)          Democratic Socialist   \n",
       "Establishment Left                                           Liberal   \n",
       "Optimists                                             Global citizen   \n",
       "New Atheists                                                 Atheist   \n",
       "Street Epistemologists                              Atheist activist   \n",
       "Rationalist Diaspora                             Applied Rationalist   \n",
       "Post-Rationalists                               Insight Pornographer   \n",
       "Integral Theorists                              Tier 2 consciousness   \n",
       "Sorters                                                An Individual   \n",
       "Intellectual Dark Web                         Intellectual heterodox   \n",
       "Benedictines                                Traditionalist Christian   \n",
       "Christian Right                                       True Christian   \n",
       "Establishment Right                                     Conservative   \n",
       "Tea Party                                                    Patriot   \n",
       "Trumpists                                              True American   \n",
       "InfoWarriors                                       Exposers of Truth   \n",
       "QAnoners                                       Revolutionary Patriot   \n",
       "Alt-Lite                                          Western Chauvinist   \n",
       "Alt-Right                                          White Nationalist   \n",
       "Modern Neo-Nazis                                   White Suprematist   \n",
       "Neoreactionaries                                         Reactionary   \n",
       "MRA (Mens Right Advocates)                             Mens Advocate   \n",
       "Manosphere                                            Neomasculinist   \n",
       "MGTOW (Men Going Their Own Way)                         Detached Man   \n",
       "Incels                                                      Inceldom   \n",
       "\n",
       "0                                                                     EXISTENTIAL THREATS  \\\n",
       "MEMETIC TRIBE                                                                               \n",
       "SJAs (Social Justice Activists)                                                 Kyriarchy   \n",
       "Black Lives Matter                                                        Systemic racism   \n",
       "#MeToo                                                              Weinstein level abuse   \n",
       "Gender-Critical Feminists                                            Continued Patriarchy   \n",
       "Modern Neo-Marxists                                                          Recuperation   \n",
       "Antifa                                                                            Fascism   \n",
       "Occupy                                                                   Police crackdown   \n",
       "Dirtbag Left                            Maintenance of pragamtic and centrist liberial...   \n",
       "DSA (Democratic Socialists of America)                                      Neoliberalism   \n",
       "Establishment Left                                                             Inequality   \n",
       "Optimists                               A societal retreat to populism and fundamentalism   \n",
       "New Atheists                            Reemergence and dominance of religiosity and i...   \n",
       "Street Epistemologists                  Backfire effect when being too aggressive with...   \n",
       "Rationalist Diaspora                                                        Unfriendly AI   \n",
       "Post-Rationalists                       The Uninterestingness of Eternalist or Nihilis...   \n",
       "Integral Theorists                                 Humanity stuck in Tier 1 consciousness   \n",
       "Sorters                                                               Loss of free speech   \n",
       "Intellectual Dark Web                                              Intellectual orthodoxy   \n",
       "Benedictines                                         Complete dissolution of Christianity   \n",
       "Christian Right                                              Losing the \"soul\" of America   \n",
       "Establishment Right                      Loss of traditional values and economic collapse   \n",
       "Tea Party                                                                     Debt crisis   \n",
       "Trumpists                                                                     Immigration   \n",
       "InfoWarriors                                   Complete domination of the New World Order   \n",
       "QAnoners                                Donald Trump defeated by a cabal of elite glob...   \n",
       "Alt-Lite                                                    Death of Western Civilization   \n",
       "Alt-Right                                                           The Great Replacement   \n",
       "Modern Neo-Nazis                                                           White Genocide   \n",
       "Neoreactionaries                                          Unrecoverable Social Degeneracy   \n",
       "MRA (Mens Right Advocates)                                Biased legal system against men   \n",
       "Manosphere                                                 Cultural enforced emasculation   \n",
       "MGTOW (Men Going Their Own Way)                                              Gynocentrism   \n",
       "Incels                                                       Black pilling murder–suicide   \n",
       "\n",
       "0                                                                              COMBATANTS  \\\n",
       "MEMETIC TRIBE                                                                               \n",
       "SJAs (Social Justice Activists)                   Alt-Lite, Alt-Right, Sorters, Trumpists   \n",
       "Black Lives Matter                      Alt-Lite, Alt-Right, Trumpists, Establishment ...   \n",
       "#MeToo                                                  Alt-Lite, MRA, Manosphere, Incels   \n",
       "Gender-Critical Feminists                                                        SJA, MRA   \n",
       "Modern Neo-Marxists                               Establishment Left, Establishment Right   \n",
       "Antifa                                          Alt-Right, Alt-Lite, Neo-Nazis, Trumpists   \n",
       "Occupy                                            Establishment Left, Establishment Right   \n",
       "Dirtbag Left                                           SJA, Alt-Right, Establishment Left   \n",
       "DSA (Democratic Socialists of America)  Establishment Left, Establishment Right, Trump...   \n",
       "Establishment Left                                 Establishment Right, DSA, Dirtbag Left   \n",
       "Optimists                                    Trumpists, Neoreactionaries, Alt-Right, SJAs   \n",
       "New Atheists                                                     Christian Right, Sorters   \n",
       "Street Epistemologists                                           Christian Right, Sorters   \n",
       "Rationalist Diaspora                                                SJA, Neoreactionaries   \n",
       "Post-Rationalists                                                                    None   \n",
       "Integral Theorists                                                                   None   \n",
       "Sorters                                                                       SJA, #MeToo   \n",
       "Intellectual Dark Web                                                                 SJA   \n",
       "Benedictines                                                           SJAs, New Atheists   \n",
       "Christian Right                         Establishment Left, New Atheists, Street Epist...   \n",
       "Establishment Right                              Establishment Left, Trumpists, Alt-Right   \n",
       "Tea Party                                         Establishment Left, Establishment Right   \n",
       "Trumpists                               Establishment Left, Establishment Right, SJA, ...   \n",
       "InfoWarriors                                      Establishment Left, Establishment Right   \n",
       "QAnoners                                          Establishment Left, Establishment Right   \n",
       "Alt-Lite                                         SJAs, #MeToo, Black Lives Matter, Antifa   \n",
       "Alt-Right                               Antifa, SJAs, Black Lives Matter, Establishmen...   \n",
       "Modern Neo-Nazis                        Antifa, SJAs, Establishment Left, Establishmen...   \n",
       "Neoreactionaries                                               SJAs, Rationalist Diaspora   \n",
       "MRA (Mens Right Advocates)                         SJA, #MeToo, Gender-Critical Feminists   \n",
       "Manosphere                                         SJA, #MeToo, Gender-Critical Feminists   \n",
       "MGTOW (Men Going Their Own Way)                Manosphere, SJA, Gender-Critical Feminists   \n",
       "Incels                                                                        SJA, #MeToo   \n",
       "\n",
       "0                                                                                CAMPFIRE  \\\n",
       "MEMETIC TRIBE                                                                               \n",
       "SJAs (Social Justice Activists)                                 Campuses, Tumblr, Twitter   \n",
       "Black Lives Matter                                            Protests, Campuses, Twitter   \n",
       "#MeToo                                                        Hollywood, MSM, Pop Culture   \n",
       "Gender-Critical Feminists                                         Speaking Tours, Twitter   \n",
       "Modern Neo-Marxists                                    Student groups, Zero Books, Libcom   \n",
       "Antifa                                              Protests, It's Going Down, Crimethinc   \n",
       "Occupy                                                    Protests, Student groups, zines   \n",
       "Dirtbag Left                                              Weird Twitter, Chapo Trap House   \n",
       "DSA (Democratic Socialists of America)                   Twitter, Jacobin, Local chapters   \n",
       "Establishment Left                                           CNN, The New Yorker, Harvard   \n",
       "Optimists                                                              Davos, Governments   \n",
       "New Atheists                                                             Debates, YouTube   \n",
       "Street Epistemologists                                                   Streets, YouTube   \n",
       "Rationalist Diaspora                                 LessWrong, Slate Star Codex, Meetups   \n",
       "Post-Rationalists                                                     Ribbonfarm, Twitter   \n",
       "Integral Theorists                                               We Spaces, Integral Life   \n",
       "Sorters                                               Twitter, Facebook, Reddit, Campuses   \n",
       "Intellectual Dark Web                                        Twitter, Quillette, Podcasts   \n",
       "Benedictines                                          The American Conservative, Churches   \n",
       "Christian Right                                  Churches, Christian Broadcasting Network   \n",
       "Establishment Right                                    Fox News, National Review, PragerU   \n",
       "Tea Party                                                                         Rallies   \n",
       "Trumpists                                                         Rallies, /r/The_Donald/   \n",
       "InfoWarriors                                                                     InfoWars   \n",
       "QAnoners                                                  /pol/, Reddit, twitter, rallies   \n",
       "Alt-Lite                                                          Twitter, Gabber, Reddit   \n",
       "Alt-Right                                                          Twitter, Gabber, /pol/   \n",
       "Modern Neo-Nazis                                            Stormfront, The Daily Stormer   \n",
       "Neoreactionaries                        Blogosphere, Hestia Society, Unqualified Reser...   \n",
       "MRA (Mens Right Advocates)                                                A Voice for Men   \n",
       "Manosphere                                Return of Kings, Roosh V Forum, Red Pill Reddit   \n",
       "MGTOW (Men Going Their Own Way)                                             MGTOW Central   \n",
       "Incels                                                            /pol/, Reddit, incel.me   \n",
       "\n",
       "0                                                                              CHIEFTAINS  \\\n",
       "MEMETIC TRIBE                                                                               \n",
       "SJAs (Social Justice Activists)                      Brianna Wu, Laurie Penny, Arthur Chu   \n",
       "Black Lives Matter                         Alicia Garza, DeRay Mckesson, Ta Nehisi Coates   \n",
       "#MeToo                                         Tarana Burke, Oprah Winfrey, Alyssa Milano   \n",
       "Gender-Critical Feminists                 Meghan Murphy, Germaine Greer, Sheilay Jeffreys   \n",
       "Modern Neo-Marxists                               Douglas Lain, Mark Fisher, Slavoj Zizek   \n",
       "Antifa                                             Mark Bray, Natasha Lennard, Scott Crow   \n",
       "Occupy                                             Kalle Lasn, Naomi Klein, David Graeber   \n",
       "Dirtbag Left                                Will Menaker, Matt Christman, Felix Biederman   \n",
       "DSA (Democratic Socialists of America)  Alexandria Oscasio-Cortez, Julia Salazar, Bern...   \n",
       "Establishment Left                                             The Clintons, Barack Obama   \n",
       "Optimists                                         Steven Pinker, Hans Rosling, Bill Gates   \n",
       "New Atheists                            Richard Dawkins, Sam Harris, Christopher Hitchens   \n",
       "Street Epistemologists                               Peter Boghossian, Anthony Magnabosco   \n",
       "Rationalist Diaspora                     Eliezer Yudkowsky, Scott Alexander, Robin Hanson   \n",
       "Post-Rationalists                               Venkatesh Rao, Sarah Perry, David Chapman   \n",
       "Integral Theorists                                               Ken Wilber, Jeff Salzman   \n",
       "Sorters                                                                   Jordan Peterson   \n",
       "Intellectual Dark Web                         Bret Weinstein, David Rubin, Claire Lehmann   \n",
       "Benedictines                                   Rod Dreher, Anthony Esolen, John Horvat II   \n",
       "Christian Right                                              Jerry Falwell, Pat Robertson   \n",
       "Establishment Right                                               The Bushes, John McCain   \n",
       "Tea Party                                             Sarah Palin, Glenn Beck, Amy Kremer   \n",
       "Trumpists                                       Donald Trump, Steve Bannon, Candace Owens   \n",
       "InfoWarriors                                               Alex Jones, Paul Joseph Watson   \n",
       "QAnoners                                                                            Qanon   \n",
       "Alt-Lite                                 Gavin McInnes, Mike Cernovich, Milo Yiannopoulos   \n",
       "Alt-Right                               Richard Spencer, Jared Taylor, Kevin B. MacDonald   \n",
       "Modern Neo-Nazis                                    David Duke, David Lane, Andrew Anglin   \n",
       "Neoreactionaries                            Mencius Moldbug, Nick Land, Michael Anissimov   \n",
       "MRA (Mens Right Advocates)                                      Warren Farrell, Paul Elam   \n",
       "Manosphere                                              Roosh V, Heartiste, Rollo Tomassi   \n",
       "MGTOW (Men Going Their Own Way)                                            Bernard Chapin   \n",
       "Incels                                                              Alana, Elliot Rodgers   \n",
       "\n",
       "0                                                                           MENTAL MODELS  \\\n",
       "MEMETIC TRIBE                                                                               \n",
       "SJAs (Social Justice Activists)              Essentialism, Normativity, Intersectionality   \n",
       "Black Lives Matter                      Black Bodies, Reparations, Cultural Appropriat...   \n",
       "#MeToo                                           Toxic Masculinity, Rape Culture, Pay Gap   \n",
       "Gender-Critical Feminists                  Rapid-Onset Gender Dysphoria, Womyn-born Womyn   \n",
       "Modern Neo-Marxists                     Hauntology, Capitalist Realism, Spectre of Ide...   \n",
       "Antifa                                  Direct Action, Diversity of Tactics, No Platfo...   \n",
       "Occupy                                         The 99%, Culture Jamming, Crony Capitalism   \n",
       "Dirtbag Left                                            The Ratio, Milkshake Duck, Tankie   \n",
       "DSA (Democratic Socialists of America)  Social dividend, Calculation in kind, Cooperative   \n",
       "Establishment Left                                 Welfare state, Pro-choice, Gun Control   \n",
       "Optimists                                                   Skepticism, Scientific Method   \n",
       "New Atheists                            Spectrum of Theistic Probability, Logical Fall...   \n",
       "Street Epistemologists                  Doxastic Openness/Closure​, Socratic Method, A...   \n",
       "Rationalist Diaspora                    Bayes Theorem, Effective Altrusim, Cognitive B...   \n",
       "Post-Rationalists                                Weirding, Meaningness, Gervais Principle   \n",
       "Integral Theorists                                          AQAL, Spiral Dynamics, Holons   \n",
       "Sorters                                 Dominance Hierarchies, Sort Yourself Out, Meta...   \n",
       "Intellectual Dark Web                   Viewpoint Diversity, Intellectual Humility, Tr...   \n",
       "Benedictines                            Benedict Option, Liquid Modernity, Moralistic ...   \n",
       "Christian Right                                    Moral Majority, Rapture, Family Values   \n",
       "Establishment Right                                  School Choice, Pro-Life, Just Say No   \n",
       "Tea Party                               Lamestream Media, Don't Tread on Me, Moneybombing   \n",
       "Trumpists                                                      MAGA, Fake News, The Swamp   \n",
       "InfoWarriors                                         Deep State, Crisis Actor, False Flag   \n",
       "QAnoners                                             The Storm, Double Meanings, Pedogate   \n",
       "Alt-Lite                                                          Virtue Signalling, SJWs   \n",
       "Alt-Right                                        Cuckservatives, (((Echo))), Race Realism   \n",
       "Modern Neo-Nazis                                                              ZOG, RaHoWa   \n",
       "Neoreactionaries                             The Catherdal, GNON, Cthulhu only swims left   \n",
       "MRA (Mens Right Advocates)                       Gynarchy, Boy Crisis, Male Expendability   \n",
       "Manosphere                                      Game, Alpha/Beat, Rationalization Hamster   \n",
       "MGTOW (Men Going Their Own Way)                                         NAWALT, Hypergamy   \n",
       "Incels                                                     Normies, Chads/Stacys, Femoids   \n",
       "\n",
       "0                                                                               FOREBEARS  \n",
       "MEMETIC TRIBE                                                                              \n",
       "SJAs (Social Justice Activists)                Judith Butler, Kimberle Crenshaw, New Left  \n",
       "Black Lives Matter                                    Audre Lorde, Franz Fanon, Malcolm X  \n",
       "#MeToo                                                    Second and Third Wave Feminists  \n",
       "Gender-Critical Feminists                                                  Janice Raymond  \n",
       "Modern Neo-Marxists                     Marxism, Situationist International, Frankfurt...  \n",
       "Antifa                                       Anti-Racist Action, Antifaschistische Aktion  \n",
       "Occupy                                                             Adbusters, Arab Spring  \n",
       "Dirtbag Left                                                                  Bernie Bros  \n",
       "DSA (Democratic Socialists of America)     Michael Harrington, Jeremy Corbyn, Bernie Bros  \n",
       "Establishment Left                                                 Jimmy Carter, MLK, JFK  \n",
       "Optimists                                                                              UN  \n",
       "New Atheists                                             Bertrand Russell, Charles Darwin  \n",
       "Street Epistemologists                                        Richard Dawkins, Sam Harris  \n",
       "Rationalist Diaspora                                             Thomas Bayes, I. J. Good  \n",
       "Post-Rationalists                             James Carse, George Lakoff, Keith Johnstone  \n",
       "Integral Theorists                              Sri Aurobindo, Pierre Teilhard de Chardin  \n",
       "Sorters                                    Carl Jung, Aleksandr Solzhenitsyn, Jean Piaget  \n",
       "Intellectual Dark Web                                                   Heterodox Academy  \n",
       "Benedictines                                  St. Benedict of Nur­sia, Alasdair MacIntyre  \n",
       "Christian Right                                                     Evangelists, Baptists  \n",
       "Establishment Right                                                William F. Buckley Jr.  \n",
       "Tea Party                                                                        Ron Paul  \n",
       "Trumpists                                                                    Pat Buchanan  \n",
       "InfoWarriors                                                                   Gary Allen  \n",
       "QAnoners                                                                         FBI Anon  \n",
       "Alt-Lite                                                          Cultural Libertarianism  \n",
       "Alt-Right                                                  Nouvelle Droite, Identitarians  \n",
       "Modern Neo-Nazis                                           Ku Klux Klan, Skinheads, Nazis  \n",
       "Neoreactionaries                          Thomas Carlyle, Hans-Hermann Hoppe, Peter Thiel  \n",
       "MRA (Mens Right Advocates)              Men's liberation movement, Mythopoetic men's m...  \n",
       "Manosphere                                               Pick Up Artists, F. Roger Devlin  \n",
       "MGTOW (Men Going Their Own Way)                                              Esther Vilar  \n",
       "Incels                                                                    Brian Gilmartin  "
      ]
     },
     "execution_count": 24,
     "metadata": {},
     "output_type": "execute_result"
    }
   ],
   "source": [
    "\n",
    "tribes_df"
   ]
  },
  {
   "cell_type": "code",
   "execution_count": 9,
   "metadata": {},
   "outputs": [
    {
     "data": {
      "application/javascript": [
       "var kernel = IPython.notebook.kernel;\n",
       "var body = document.body,  \n",
       "    attribs = body.attributes;\n",
       "var command = \"notebook_path = \" + \"'\"+attribs['data-notebook-path'].value+\"'\";\n",
       "kernel.execute(command);\n"
      ],
      "text/plain": [
       "<IPython.core.display.Javascript object>"
      ]
     },
     "metadata": {},
     "output_type": "display_data"
    }
   ],
   "source": [
    "%%javascript\n",
    "var kernel = IPython.notebook.kernel;\n",
    "var body = document.body,  \n",
    "    attribs = body.attributes;\n",
    "var command = \"notebook_path = \" + \"'\"+attribs['data-notebook-path'].value+\"'\";\n",
    "kernel.execute(command);"
   ]
  },
  {
   "cell_type": "code",
   "execution_count": 11,
   "metadata": {},
   "outputs": [
    {
     "data": {
      "text/html": [
       "Click\n",
       "    <a href=\"https://nbviewer.jupyter.org/github/dbabbitt/notebooks/blob/master/Miscellaneous/ipynb/I%20Scraped%20the%20Memetic%20Tribes%20Google%20Spreadsheet%20for%20the%20Combatants%20Graph.ipynb\" target=\"_blank\">here</a>\n",
       "to view notebook in nbviewer."
      ],
      "text/plain": [
       "<IPython.core.display.HTML object>"
      ]
     },
     "execution_count": 11,
     "metadata": {},
     "output_type": "execute_result"
    }
   ],
   "source": [
    "# %load ../../load_magic/nbviewer.py\n",
    "\n",
    "from IPython.display import HTML\n",
    "\n",
    "notebook_viewer_url = 'https://nbviewer.jupyter.org/github/dbabbitt/notebooks/blob/master/'\n",
    "notebook_viewer_url += '/'.join(notebook_path.split('/')[1:])\n",
    "html_str = '''Click\n",
    "    <a href=\"{}\" target=\"_blank\">here</a>\n",
    "to view notebook in nbviewer.'''.format(notebook_viewer_url)\n",
    "HTML(html_str)"
   ]
  },
  {
   "cell_type": "code",
   "execution_count": null,
   "metadata": {},
   "outputs": [],
   "source": []
  }
 ],
 "metadata": {
  "kernelspec": {
   "display_name": "Python 3",
   "language": "python",
   "name": "python3"
  },
  "language_info": {
   "codemirror_mode": {
    "name": "ipython",
    "version": 3
   },
   "file_extension": ".py",
   "mimetype": "text/x-python",
   "name": "python",
   "nbconvert_exporter": "python",
   "pygments_lexer": "ipython3",
   "version": "3.7.7"
  }
 },
 "nbformat": 4,
 "nbformat_minor": 4
}
