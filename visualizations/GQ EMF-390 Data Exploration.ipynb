{
 "cells": [
  {
   "cell_type": "code",
   "execution_count": 1,
   "metadata": {},
   "outputs": [
    {
     "name": "stdout",
     "output_type": "stream",
     "text": [
      "Pretty printing has been turned OFF\n"
     ]
    }
   ],
   "source": [
    "\n",
    "%pprint"
   ]
  },
  {
   "cell_type": "code",
   "execution_count": 2,
   "metadata": {},
   "outputs": [],
   "source": [
    "\n",
    "import sys\n",
    "\n",
    "# Insert at 1, 0 is the script path (or '' in REPL)\n",
    "sys.path.insert(1, '../py')"
   ]
  },
  {
   "cell_type": "code",
   "execution_count": 3,
   "metadata": {},
   "outputs": [],
   "source": [
    "\n",
    "%run ../load_magic/dataframes.py\n",
    "from storage import Storage\n",
    "from datetime import datetime\n",
    "\n",
    "s = Storage()"
   ]
  },
  {
   "cell_type": "code",
   "execution_count": 4,
   "metadata": {},
   "outputs": [],
   "source": [
    "\n",
    "root_dir = r'C:\\Users\\daveb\\OneDrive\\Documents\\GitHub\\notebooks\\data\\csv'\n",
    "# !start %windir%\\\\explorer.exe \"{root_dir}\"\n",
    "columns_list = ['Date_Time', 'mG', 'V_m', 'mW_m2', 'mW_cm2', 'pW_cm2', 'Possible_Source']\n",
    "gq_emf390_df = pd.DataFrame([], columns=columns_list)\n",
    "for sub_directory, directories_list, files_list in os.walk(root_dir):\n",
    "    for file_name in files_list:\n",
    "        if file_name.startswith('emfhistory_') and file_name.endswith('.csv'):\n",
    "            csv_path = os.path.join(sub_directory, file_name)\n",
    "            df = pd.read_csv(os.path.abspath(csv_path), sep=',', skiprows=[0, 1], encoding=s.encoding_type)\n",
    "            df.columns = columns_list\n",
    "            df.Date_Time = pd.to_datetime(df.Date_Time)\n",
    "            gq_emf390_df = pd.concat([gq_emf390_df, df], join='inner')\n",
    "gq_emf390_df = gq_emf390_df.drop_duplicates(subset='Date_Time')\n",
    "gq_emf390_df.Date_Time = pd.to_datetime(gq_emf390_df.Date_Time)\n",
    "gq_emf390_df = gq_emf390_df.set_index('Date_Time')"
   ]
  },
  {
   "cell_type": "code",
   "execution_count": 29,
   "metadata": {},
   "outputs": [
    {
     "name": "stdout",
     "output_type": "stream",
     "text": [
      "C:\\Users\\daveb\\OneDrive\\Documents\\GitHub\\notebooks\\data\\xlsx\\mimiz_symptoms_journal.xlsx\n"
     ]
    }
   ],
   "source": [
    "\n",
    "# Extract data from Mimi's journal\n",
    "workbook_name = 'mimiz_symptoms_journal'\n",
    "try:\n",
    "    xlsx_folder = os.path.join(s.data_folder, 'xlsx')\n",
    "    file_path = os.path.join(xlsx_folder, f'{workbook_name}.xlsx')\n",
    "    print(os.path.abspath(file_path))\n",
    "    mimiz_symptoms_journal_df = pd.read_excel(file_path).fillna(0)\n",
    "except Exception as e:\n",
    "    print(f'{e.__class__.__name__} error: {str(e).strip()}')\n",
    "    if s.csv_exists(workbook_name, folder_path=s.data_csv_folder):\n",
    "        mimiz_symptoms_journal_df = s.load_csv(workbook_name).fillna(0)\n",
    "def f(row_series):\n",
    "    year = int(row_series.year)\n",
    "    month = int(row_series.month)\n",
    "    day = int(row_series.day)\n",
    "    hour = int(row_series.hour)\n",
    "    minute = int(row_series.minute)\n",
    "    # print(year, month, day, hour, minute)\n",
    "    datetime_obj = datetime(year, month, day, hour=hour, minute=minute)\n",
    "    \n",
    "    return datetime_obj\n",
    "mask_series = (mimiz_symptoms_journal_df.year > 0)\n",
    "mimiz_symptoms_journal_df.loc[mask_series, 'datetime'] = mimiz_symptoms_journal_df[mask_series].apply(f, axis='columns')"
   ]
  },
  {
   "cell_type": "code",
   "execution_count": 31,
   "metadata": {},
   "outputs": [
    {
     "data": {
      "text/html": [
       "<div>\n",
       "<style scoped>\n",
       "    .dataframe tbody tr th:only-of-type {\n",
       "        vertical-align: middle;\n",
       "    }\n",
       "\n",
       "    .dataframe tbody tr th {\n",
       "        vertical-align: top;\n",
       "    }\n",
       "\n",
       "    .dataframe thead th {\n",
       "        text-align: right;\n",
       "    }\n",
       "</style>\n",
       "<table border=\"1\" class=\"dataframe\">\n",
       "  <thead>\n",
       "    <tr style=\"text-align: right;\">\n",
       "      <th></th>\n",
       "      <th>year</th>\n",
       "      <th>month</th>\n",
       "      <th>day</th>\n",
       "      <th>hour</th>\n",
       "      <th>minute</th>\n",
       "      <th>note</th>\n",
       "      <th>comments</th>\n",
       "      <th>datetime</th>\n",
       "    </tr>\n",
       "  </thead>\n",
       "  <tbody>\n",
       "    <tr>\n",
       "      <th>0</th>\n",
       "      <td>2022.0</td>\n",
       "      <td>6.0</td>\n",
       "      <td>20.0</td>\n",
       "      <td>0.0</td>\n",
       "      <td>0.0</td>\n",
       "      <td>woke up two times to use bathroom. Restless bo...</td>\n",
       "      <td>0</td>\n",
       "      <td>2022-06-20 00:00:00</td>\n",
       "    </tr>\n",
       "    <tr>\n",
       "      <th>29</th>\n",
       "      <td>2022.0</td>\n",
       "      <td>6.0</td>\n",
       "      <td>20.0</td>\n",
       "      <td>0.0</td>\n",
       "      <td>0.0</td>\n",
       "      <td>migraine while in car</td>\n",
       "      <td>0</td>\n",
       "      <td>2022-06-20 00:00:00</td>\n",
       "    </tr>\n",
       "    <tr>\n",
       "      <th>28</th>\n",
       "      <td>2022.0</td>\n",
       "      <td>6.0</td>\n",
       "      <td>20.0</td>\n",
       "      <td>0.0</td>\n",
       "      <td>0.0</td>\n",
       "      <td>right elbow hurts at times when used</td>\n",
       "      <td>0</td>\n",
       "      <td>2022-06-20 00:00:00</td>\n",
       "    </tr>\n",
       "    <tr>\n",
       "      <th>27</th>\n",
       "      <td>2022.0</td>\n",
       "      <td>6.0</td>\n",
       "      <td>20.0</td>\n",
       "      <td>0.0</td>\n",
       "      <td>0.0</td>\n",
       "      <td>left hand hurts</td>\n",
       "      <td>0</td>\n",
       "      <td>2022-06-20 00:00:00</td>\n",
       "    </tr>\n",
       "    <tr>\n",
       "      <th>26</th>\n",
       "      <td>2022.0</td>\n",
       "      <td>6.0</td>\n",
       "      <td>20.0</td>\n",
       "      <td>0.0</td>\n",
       "      <td>0.0</td>\n",
       "      <td>catching a deep breath here and there</td>\n",
       "      <td>0</td>\n",
       "      <td>2022-06-20 00:00:00</td>\n",
       "    </tr>\n",
       "    <tr>\n",
       "      <th>...</th>\n",
       "      <td>...</td>\n",
       "      <td>...</td>\n",
       "      <td>...</td>\n",
       "      <td>...</td>\n",
       "      <td>...</td>\n",
       "      <td>...</td>\n",
       "      <td>...</td>\n",
       "      <td>...</td>\n",
       "    </tr>\n",
       "    <tr>\n",
       "      <th>194</th>\n",
       "      <td>2022.0</td>\n",
       "      <td>7.0</td>\n",
       "      <td>16.0</td>\n",
       "      <td>0.0</td>\n",
       "      <td>0.0</td>\n",
       "      <td>woke up with neckache on right</td>\n",
       "      <td>0</td>\n",
       "      <td>2022-07-16 00:00:00</td>\n",
       "    </tr>\n",
       "    <tr>\n",
       "      <th>202</th>\n",
       "      <td>2022.0</td>\n",
       "      <td>7.0</td>\n",
       "      <td>16.0</td>\n",
       "      <td>11.0</td>\n",
       "      <td>50.0</td>\n",
       "      <td>getting ready to go shopping</td>\n",
       "      <td>0</td>\n",
       "      <td>2022-07-16 11:50:00</td>\n",
       "    </tr>\n",
       "    <tr>\n",
       "      <th>203</th>\n",
       "      <td>2022.0</td>\n",
       "      <td>7.0</td>\n",
       "      <td>16.0</td>\n",
       "      <td>12.0</td>\n",
       "      <td>43.0</td>\n",
       "      <td>going shopping; phone on</td>\n",
       "      <td>0</td>\n",
       "      <td>2022-07-16 12:43:00</td>\n",
       "    </tr>\n",
       "    <tr>\n",
       "      <th>205</th>\n",
       "      <td>2022.0</td>\n",
       "      <td>7.0</td>\n",
       "      <td>16.0</td>\n",
       "      <td>19.0</td>\n",
       "      <td>0.0</td>\n",
       "      <td>home again</td>\n",
       "      <td>0</td>\n",
       "      <td>2022-07-16 19:00:00</td>\n",
       "    </tr>\n",
       "    <tr>\n",
       "      <th>206</th>\n",
       "      <td>2022.0</td>\n",
       "      <td>7.0</td>\n",
       "      <td>16.0</td>\n",
       "      <td>20.0</td>\n",
       "      <td>0.0</td>\n",
       "      <td>downloading data</td>\n",
       "      <td>0</td>\n",
       "      <td>2022-07-16 20:00:00</td>\n",
       "    </tr>\n",
       "  </tbody>\n",
       "</table>\n",
       "<p>216 rows × 8 columns</p>\n",
       "</div>"
      ],
      "text/plain": [
       "       year  month   day  hour  minute  \\\n",
       "0    2022.0    6.0  20.0   0.0     0.0   \n",
       "29   2022.0    6.0  20.0   0.0     0.0   \n",
       "28   2022.0    6.0  20.0   0.0     0.0   \n",
       "27   2022.0    6.0  20.0   0.0     0.0   \n",
       "26   2022.0    6.0  20.0   0.0     0.0   \n",
       "..      ...    ...   ...   ...     ...   \n",
       "194  2022.0    7.0  16.0   0.0     0.0   \n",
       "202  2022.0    7.0  16.0  11.0    50.0   \n",
       "203  2022.0    7.0  16.0  12.0    43.0   \n",
       "205  2022.0    7.0  16.0  19.0     0.0   \n",
       "206  2022.0    7.0  16.0  20.0     0.0   \n",
       "\n",
       "                                                  note comments  \\\n",
       "0    woke up two times to use bathroom. Restless bo...        0   \n",
       "29                               migraine while in car        0   \n",
       "28                right elbow hurts at times when used        0   \n",
       "27                                     left hand hurts        0   \n",
       "26               catching a deep breath here and there        0   \n",
       "..                                                 ...      ...   \n",
       "194                     woke up with neckache on right        0   \n",
       "202                       getting ready to go shopping        0   \n",
       "203                           going shopping; phone on        0   \n",
       "205                                         home again        0   \n",
       "206                                   downloading data        0   \n",
       "\n",
       "               datetime  \n",
       "0   2022-06-20 00:00:00  \n",
       "29  2022-06-20 00:00:00  \n",
       "28  2022-06-20 00:00:00  \n",
       "27  2022-06-20 00:00:00  \n",
       "26  2022-06-20 00:00:00  \n",
       "..                  ...  \n",
       "194 2022-07-16 00:00:00  \n",
       "202 2022-07-16 11:50:00  \n",
       "203 2022-07-16 12:43:00  \n",
       "205 2022-07-16 19:00:00  \n",
       "206 2022-07-16 20:00:00  \n",
       "\n",
       "[216 rows x 8 columns]"
      ]
     },
     "execution_count": 31,
     "metadata": {},
     "output_type": "execute_result"
    }
   ],
   "source": [
    "\n",
    "mask_series = (mimiz_symptoms_journal_df.year > 0)\n",
    "mimiz_symptoms_journal_df[mask_series].sort_values('datetime')"
   ]
  },
  {
   "cell_type": "code",
   "execution_count": 34,
   "metadata": {},
   "outputs": [],
   "source": [
    "\n",
    "# V/m is electrical\n",
    "# mW/m2 is radio\n",
    "journal_min = datetime(2022, 7, 16, hour=0, minute=0)\n",
    "journal_max = mimiz_symptoms_journal_df.datetime.max()\n",
    "mask_series = (gq_emf390_df.index >= journal_min)\n",
    "mask_series = mask_series & (gq_emf390_df.index <= journal_max)\n",
    "# mask_series = mask_series & (gq_emf390_df.Possible_Source == 'Mixed')\n",
    "df = gq_emf390_df[mask_series].reset_index().groupby('Date_Time').sum()\n",
    "x = df.index.tolist()\n",
    "y = df.mW_m2.tolist()"
   ]
  },
  {
   "cell_type": "code",
   "execution_count": 35,
   "metadata": {},
   "outputs": [
    {
     "data": {
      "image/png": "[encoded data removed]",
      "text/plain": [
       "<Figure size 1296x576 with 1 Axes>"
      ]
     },
     "metadata": {
      "needs_background": "light"
     },
     "output_type": "display_data"
    }
   ],
   "source": [
    "\n",
    "fig, ax = plt.subplots(figsize=(18, 8))\n",
    "Line2D_obj = ax.plot(x, y)[0]\n",
    "y_max = df.mW_m2.max()\n",
    "def f(df):\n",
    "    notes_list = df.note.tolist()\n",
    "    \n",
    "    return [str(note) for note in notes_list]\n",
    "for datetime_obj, notes_list in mimiz_symptoms_journal_df.groupby('datetime').apply(f).iteritems():\n",
    "    annotation = plt.annotate('\\n'.join(notes_list), xy=(datetime_obj, y_max), rotation=-90, rotation_mode='anchor')"
   ]
  },
  {
   "cell_type": "code",
   "execution_count": 36,
   "metadata": {},
   "outputs": [
    {
     "data": {
      "text/html": [
       "<div>\n",
       "<style scoped>\n",
       "    .dataframe tbody tr th:only-of-type {\n",
       "        vertical-align: middle;\n",
       "    }\n",
       "\n",
       "    .dataframe tbody tr th {\n",
       "        vertical-align: top;\n",
       "    }\n",
       "\n",
       "    .dataframe thead th {\n",
       "        text-align: right;\n",
       "    }\n",
       "</style>\n",
       "<table border=\"1\" class=\"dataframe\">\n",
       "  <thead>\n",
       "    <tr style=\"text-align: right;\">\n",
       "      <th></th>\n",
       "      <th>mG</th>\n",
       "      <th>V_m</th>\n",
       "      <th>mW_m2</th>\n",
       "      <th>mW_cm2</th>\n",
       "      <th>pW_cm2</th>\n",
       "    </tr>\n",
       "    <tr>\n",
       "      <th>Possible_Source</th>\n",
       "      <th></th>\n",
       "      <th></th>\n",
       "      <th></th>\n",
       "      <th></th>\n",
       "      <th></th>\n",
       "    </tr>\n",
       "  </thead>\n",
       "  <tbody>\n",
       "    <tr>\n",
       "      <th>AC EF</th>\n",
       "      <td>4.7</td>\n",
       "      <td>1010.5</td>\n",
       "      <td>1113.991</td>\n",
       "      <td>0.111</td>\n",
       "      <td>1.113991e+08</td>\n",
       "    </tr>\n",
       "    <tr>\n",
       "      <th>Cell Tower</th>\n",
       "      <td>10.8</td>\n",
       "      <td>78.2</td>\n",
       "      <td>59.242</td>\n",
       "      <td>0.006</td>\n",
       "      <td>5.924150e+06</td>\n",
       "    </tr>\n",
       "    <tr>\n",
       "      <th>Mixed</th>\n",
       "      <td>22.5</td>\n",
       "      <td>1017.0</td>\n",
       "      <td>1122.603</td>\n",
       "      <td>0.112</td>\n",
       "      <td>1.122603e+08</td>\n",
       "    </tr>\n",
       "    <tr>\n",
       "      <th>Power Line</th>\n",
       "      <td>15.7</td>\n",
       "      <td>953.5</td>\n",
       "      <td>992.466</td>\n",
       "      <td>0.099</td>\n",
       "      <td>9.924665e+07</td>\n",
       "    </tr>\n",
       "    <tr>\n",
       "      <th>Smart Meter</th>\n",
       "      <td>2.4</td>\n",
       "      <td>1028.0</td>\n",
       "      <td>984.853</td>\n",
       "      <td>0.098</td>\n",
       "      <td>9.848531e+07</td>\n",
       "    </tr>\n",
       "    <tr>\n",
       "      <th>Static</th>\n",
       "      <td>0.0</td>\n",
       "      <td>237.2</td>\n",
       "      <td>17.543</td>\n",
       "      <td>0.002</td>\n",
       "      <td>1.754255e+06</td>\n",
       "    </tr>\n",
       "    <tr>\n",
       "      <th>WiFi/Phone</th>\n",
       "      <td>16.9</td>\n",
       "      <td>29.8</td>\n",
       "      <td>1140.027</td>\n",
       "      <td>0.114</td>\n",
       "      <td>1.140027e+08</td>\n",
       "    </tr>\n",
       "  </tbody>\n",
       "</table>\n",
       "</div>"
      ],
      "text/plain": [
       "                   mG     V_m     mW_m2  mW_cm2        pW_cm2\n",
       "Possible_Source                                              \n",
       "AC EF             4.7  1010.5  1113.991   0.111  1.113991e+08\n",
       "Cell Tower       10.8    78.2    59.242   0.006  5.924150e+06\n",
       "Mixed            22.5  1017.0  1122.603   0.112  1.122603e+08\n",
       "Power Line       15.7   953.5   992.466   0.099  9.924665e+07\n",
       "Smart Meter       2.4  1028.0   984.853   0.098  9.848531e+07\n",
       "Static            0.0   237.2    17.543   0.002  1.754255e+06\n",
       "WiFi/Phone       16.9    29.8  1140.027   0.114  1.140027e+08"
      ]
     },
     "execution_count": 36,
     "metadata": {},
     "output_type": "execute_result"
    }
   ],
   "source": [
    "\n",
    "df.groupby('Possible_Source').max()"
   ]
  },
  {
   "cell_type": "markdown",
   "metadata": {},
   "source": [
    "\n",
    "----"
   ]
  },
  {
   "cell_type": "code",
   "execution_count": null,
   "metadata": {},
   "outputs": [],
   "source": [
    "\n",
    "# 3:30to 6:30\n",
    "mask_series = (gq_emf390_df.index >= datetime(2022, 7, 2, hour=8, minute=30))\n",
    "mask_series = mask_series & (gq_emf390_df.index <= datetime(2022, 7, 2, hour=13, minute=0))\n",
    "gq_emf390_df[mask_series].V_m.plot.line();"
   ]
  },
  {
   "cell_type": "code",
   "execution_count": 70,
   "metadata": {},
   "outputs": [
    {
     "data": {
      "text/plain": [
       "datetime.datetime(2022, 7, 7, 18, 40, 30, 466006)"
      ]
     },
     "execution_count": 70,
     "metadata": {},
     "output_type": "execute_result"
    }
   ],
   "source": [
    "\n",
    "datetime.today()"
   ]
  },
  {
   "cell_type": "code",
   "execution_count": null,
   "metadata": {},
   "outputs": [],
   "source": [
    "\n",
    "gq_emf390_df.V_m.plot?"
   ]
  },
  {
   "cell_type": "code",
   "execution_count": 37,
   "metadata": {},
   "outputs": [
    {
     "data": {
      "image/png": "[encoded data removed]",
      "text/plain": [
       "<Figure size 1296x576 with 7 Axes>"
      ]
     },
     "metadata": {
      "needs_background": "light"
     },
     "output_type": "display_data"
    }
   ],
   "source": [
    "\n",
    "pd.pivot_table(df.reset_index(), index='Date_Time', columns='Possible_Source',\n",
    "               values='V_m').plot(subplots=True, figsize=(18, 8),\n",
    "                                  layout=(len(df.Possible_Source.unique()), 1));"
   ]
  },
  {
   "cell_type": "code",
   "execution_count": 38,
   "metadata": {},
   "outputs": [
    {
     "data": {
      "image/png": "[encoded data removed]",
      "text/plain": [
       "<Figure size 1296x576 with 7 Axes>"
      ]
     },
     "metadata": {
      "needs_background": "light"
     },
     "output_type": "display_data"
    }
   ],
   "source": [
    "\n",
    "pd.pivot_table(df.reset_index(), index='Date_Time', columns='Possible_Source',\n",
    "               values='mW_m2').plot(subplots=True, figsize=(18, 8),\n",
    "                                  layout=(len(df.Possible_Source.unique()), 1));"
   ]
  },
  {
   "cell_type": "code",
   "execution_count": null,
   "metadata": {},
   "outputs": [],
   "source": [
    "\n",
    "mask_series = (gq_emf390_df.index >= datetime(2022, 7, 2, hour=8, minute=30))\n",
    "mask_series = mask_series & (gq_emf390_df.index <= datetime(2022, 7, 2, hour=13, minute=0))\n",
    "pd.pivot_table(gq_emf390_df[mask_series].reset_index(), index='Date_Time', columns='Possible_Source',\n",
    "               values='mW_m2').plot(subplots=True, figsize=(18, 8),\n",
    "                                  layout=(len(gq_emf390_df.Possible_Source.unique()), 1));"
   ]
  },
  {
   "cell_type": "code",
   "execution_count": 39,
   "metadata": {},
   "outputs": [
    {
     "data": {
      "image/png": "[encoded data removed]",
      "text/plain": [
       "<Figure size 1296x576 with 7 Axes>"
      ]
     },
     "metadata": {
      "needs_background": "light"
     },
     "output_type": "display_data"
    }
   ],
   "source": [
    "\n",
    "pd.pivot_table(df.reset_index(), index='Date_Time', columns='Possible_Source',\n",
    "               values='mG').plot(subplots=True, figsize=(18, 8),\n",
    "                                  layout=(len(df.Possible_Source.unique()), 1));"
   ]
  },
  {
   "cell_type": "code",
   "execution_count": null,
   "metadata": {},
   "outputs": [],
   "source": [
    "\n",
    "mask_series = (gq_emf390_df.index >= datetime(2022, 7, 2, hour=8, minute=30))\n",
    "mask_series = mask_series & (gq_emf390_df.index <= datetime(2022, 7, 2, hour=13, minute=0))\n",
    "pd.pivot_table(gq_emf390_df[mask_series].reset_index(), index='Date_Time', columns='Possible_Source',\n",
    "               values='mG').plot(subplots=True, figsize=(18, 8),\n",
    "                                  layout=(len(gq_emf390_df.Possible_Source.unique()), 1));"
   ]
  },
  {
   "cell_type": "code",
   "execution_count": 17,
   "metadata": {},
   "outputs": [
    {
     "data": {
      "text/html": [
       "<div>\n",
       "<style scoped>\n",
       "    .dataframe tbody tr th:only-of-type {\n",
       "        vertical-align: middle;\n",
       "    }\n",
       "\n",
       "    .dataframe tbody tr th {\n",
       "        vertical-align: top;\n",
       "    }\n",
       "\n",
       "    .dataframe thead th {\n",
       "        text-align: right;\n",
       "    }\n",
       "</style>\n",
       "<table border=\"1\" class=\"dataframe\">\n",
       "  <thead>\n",
       "    <tr style=\"text-align: right;\">\n",
       "      <th></th>\n",
       "      <th>mG</th>\n",
       "      <th>V_m</th>\n",
       "      <th>mW_m2</th>\n",
       "      <th>mW_cm2</th>\n",
       "      <th>pW_cm2</th>\n",
       "    </tr>\n",
       "    <tr>\n",
       "      <th>Possible_Source</th>\n",
       "      <th></th>\n",
       "      <th></th>\n",
       "      <th></th>\n",
       "      <th></th>\n",
       "      <th></th>\n",
       "    </tr>\n",
       "  </thead>\n",
       "  <tbody>\n",
       "    <tr>\n",
       "      <th>AC EF</th>\n",
       "      <td>9.7</td>\n",
       "      <td>170.2</td>\n",
       "      <td>0.012</td>\n",
       "      <td>0.000</td>\n",
       "      <td>1.152557e+03</td>\n",
       "    </tr>\n",
       "    <tr>\n",
       "      <th>Cell Tower</th>\n",
       "      <td>3.4</td>\n",
       "      <td>12.5</td>\n",
       "      <td>16.117</td>\n",
       "      <td>0.002</td>\n",
       "      <td>1.611719e+06</td>\n",
       "    </tr>\n",
       "    <tr>\n",
       "      <th>Mixed</th>\n",
       "      <td>29.0</td>\n",
       "      <td>836.0</td>\n",
       "      <td>1088.551</td>\n",
       "      <td>0.109</td>\n",
       "      <td>1.088551e+08</td>\n",
       "    </tr>\n",
       "    <tr>\n",
       "      <th>Power Line</th>\n",
       "      <td>21.9</td>\n",
       "      <td>99.8</td>\n",
       "      <td>515.752</td>\n",
       "      <td>0.052</td>\n",
       "      <td>5.157522e+07</td>\n",
       "    </tr>\n",
       "    <tr>\n",
       "      <th>Static</th>\n",
       "      <td>0.0</td>\n",
       "      <td>15.5</td>\n",
       "      <td>0.016</td>\n",
       "      <td>0.000</td>\n",
       "      <td>1.634011e+03</td>\n",
       "    </tr>\n",
       "    <tr>\n",
       "      <th>WiFi/Phone</th>\n",
       "      <td>51.5</td>\n",
       "      <td>26.0</td>\n",
       "      <td>685.779</td>\n",
       "      <td>0.069</td>\n",
       "      <td>6.857794e+07</td>\n",
       "    </tr>\n",
       "  </tbody>\n",
       "</table>\n",
       "</div>"
      ],
      "text/plain": [
       "                   mG    V_m     mW_m2  mW_cm2        pW_cm2\n",
       "Possible_Source                                             \n",
       "AC EF             9.7  170.2     0.012   0.000  1.152557e+03\n",
       "Cell Tower        3.4   12.5    16.117   0.002  1.611719e+06\n",
       "Mixed            29.0  836.0  1088.551   0.109  1.088551e+08\n",
       "Power Line       21.9   99.8   515.752   0.052  5.157522e+07\n",
       "Static            0.0   15.5     0.016   0.000  1.634011e+03\n",
       "WiFi/Phone       51.5   26.0   685.779   0.069  6.857794e+07"
      ]
     },
     "execution_count": 17,
     "metadata": {},
     "output_type": "execute_result"
    }
   ],
   "source": [
    "\n",
    "mask_series = (gq_emf390_df.index >= datetime(2022, 7, 2, hour=8, minute=30))\n",
    "mask_series = mask_series & (gq_emf390_df.index <= datetime(2022, 7, 2, hour=13, minute=0))\n",
    "gq_emf390_df[mask_series].groupby('Possible_Source').max()"
   ]
  },
  {
   "cell_type": "code",
   "execution_count": 76,
   "metadata": {},
   "outputs": [
    {
     "data": {
      "text/plain": [
       "['__class__', '__delattr__', '__dict__', '__dir__', '__doc__', '__eq__', '__format__', '__ge__', '__getattribute__', '__gt__', '__hash__', '__init__', '__init_subclass__', '__le__', '__lt__', '__module__', '__ne__', '__new__', '__reduce__', '__reduce_ex__', '__repr__', '__setattr__', '__sizeof__', '__str__', '__subclasshook__', '__weakref__', 'attempt_to_pickle', 'csv_exists', 'data_csv_folder', 'data_folder', 'encoding_type', 'load_csv', 'load_dataframes', 'load_object', 'pickle_exists', 'save_dataframes', 'saves_csv_folder', 'saves_folder', 'saves_pickle_folder', 'store_objects']"
      ]
     },
     "execution_count": 76,
     "metadata": {},
     "output_type": "execute_result"
    }
   ],
   "source": [
    "\n",
    "dir(s)"
   ]
  },
  {
   "cell_type": "code",
   "execution_count": 92,
   "metadata": {},
   "outputs": [
    {
     "data": {
      "image/png": "[encoded data removed]",
      "text/plain": [
       "<Figure size 1296x576 with 6 Axes>"
      ]
     },
     "metadata": {
      "needs_background": "light"
     },
     "output_type": "display_data"
    }
   ],
   "source": [
    "\n",
    "mask_series = (gq_emf390_df.index >= mimiz_symptoms_journal_df.index.min())\n",
    "mask_series = mask_series & (gq_emf390_df.index <= mimiz_symptoms_journal_df.index.max())\n",
    "pd.pivot_table(gq_emf390_df[mask_series].reset_index(), index='Date_Time', columns='Possible_Source',\n",
    "               values='V_m').plot(subplots=True, figsize=(18, 8),\n",
    "                                  layout=(len(gq_emf390_df[mask_series].Possible_Source.unique()), 1));"
   ]
  },
  {
   "cell_type": "code",
   "execution_count": 184,
   "metadata": {},
   "outputs": [
    {
     "data": {
      "text/html": [
       "<div>\n",
       "<style scoped>\n",
       "    .dataframe tbody tr th:only-of-type {\n",
       "        vertical-align: middle;\n",
       "    }\n",
       "\n",
       "    .dataframe tbody tr th {\n",
       "        vertical-align: top;\n",
       "    }\n",
       "\n",
       "    .dataframe thead th {\n",
       "        text-align: right;\n",
       "    }\n",
       "</style>\n",
       "<table border=\"1\" class=\"dataframe\">\n",
       "  <thead>\n",
       "    <tr style=\"text-align: right;\">\n",
       "      <th></th>\n",
       "      <th>mG</th>\n",
       "      <th>V_m</th>\n",
       "      <th>mW_m2</th>\n",
       "      <th>mW_cm2</th>\n",
       "      <th>pW_cm2</th>\n",
       "      <th>Possible_Source</th>\n",
       "    </tr>\n",
       "    <tr>\n",
       "      <th>Date_Time</th>\n",
       "      <th></th>\n",
       "      <th></th>\n",
       "      <th></th>\n",
       "      <th></th>\n",
       "      <th></th>\n",
       "      <th></th>\n",
       "    </tr>\n",
       "  </thead>\n",
       "  <tbody>\n",
       "    <tr>\n",
       "      <th>2022-06-22 11:46:17</th>\n",
       "      <td>0.6</td>\n",
       "      <td>1.4</td>\n",
       "      <td>0.001</td>\n",
       "      <td>0.0</td>\n",
       "      <td>75.992</td>\n",
       "      <td>Mixed</td>\n",
       "    </tr>\n",
       "    <tr>\n",
       "      <th>2022-06-22 11:46:18</th>\n",
       "      <td>0.7</td>\n",
       "      <td>1.6</td>\n",
       "      <td>0.001</td>\n",
       "      <td>0.0</td>\n",
       "      <td>88.036</td>\n",
       "      <td>Mixed</td>\n",
       "    </tr>\n",
       "    <tr>\n",
       "      <th>2022-06-22 11:46:19</th>\n",
       "      <td>0.7</td>\n",
       "      <td>1.6</td>\n",
       "      <td>0.001</td>\n",
       "      <td>0.0</td>\n",
       "      <td>88.036</td>\n",
       "      <td>Mixed</td>\n",
       "    </tr>\n",
       "    <tr>\n",
       "      <th>2022-06-22 11:46:20</th>\n",
       "      <td>0.7</td>\n",
       "      <td>1.6</td>\n",
       "      <td>0.001</td>\n",
       "      <td>0.0</td>\n",
       "      <td>88.036</td>\n",
       "      <td>Mixed</td>\n",
       "    </tr>\n",
       "    <tr>\n",
       "      <th>2022-06-22 11:46:21</th>\n",
       "      <td>0.7</td>\n",
       "      <td>1.6</td>\n",
       "      <td>0.001</td>\n",
       "      <td>0.0</td>\n",
       "      <td>88.036</td>\n",
       "      <td>Mixed</td>\n",
       "    </tr>\n",
       "    <tr>\n",
       "      <th>...</th>\n",
       "      <td>...</td>\n",
       "      <td>...</td>\n",
       "      <td>...</td>\n",
       "      <td>...</td>\n",
       "      <td>...</td>\n",
       "      <td>...</td>\n",
       "    </tr>\n",
       "    <tr>\n",
       "      <th>2022-07-09 08:07:18</th>\n",
       "      <td>0.6</td>\n",
       "      <td>1.2</td>\n",
       "      <td>0.001</td>\n",
       "      <td>0.0</td>\n",
       "      <td>75.992</td>\n",
       "      <td>Mixed</td>\n",
       "    </tr>\n",
       "    <tr>\n",
       "      <th>2022-07-09 08:07:19</th>\n",
       "      <td>0.6</td>\n",
       "      <td>1.2</td>\n",
       "      <td>0.001</td>\n",
       "      <td>0.0</td>\n",
       "      <td>75.992</td>\n",
       "      <td>Mixed</td>\n",
       "    </tr>\n",
       "    <tr>\n",
       "      <th>2022-07-09 08:07:20</th>\n",
       "      <td>0.6</td>\n",
       "      <td>1.0</td>\n",
       "      <td>0.001</td>\n",
       "      <td>0.0</td>\n",
       "      <td>75.992</td>\n",
       "      <td>Mixed</td>\n",
       "    </tr>\n",
       "    <tr>\n",
       "      <th>2022-07-09 08:07:21</th>\n",
       "      <td>0.6</td>\n",
       "      <td>1.4</td>\n",
       "      <td>0.001</td>\n",
       "      <td>0.0</td>\n",
       "      <td>64.132</td>\n",
       "      <td>Mixed</td>\n",
       "    </tr>\n",
       "    <tr>\n",
       "      <th>2022-07-09 08:07:22</th>\n",
       "      <td>0.6</td>\n",
       "      <td>1.4</td>\n",
       "      <td>0.001</td>\n",
       "      <td>0.0</td>\n",
       "      <td>64.132</td>\n",
       "      <td>Mixed</td>\n",
       "    </tr>\n",
       "  </tbody>\n",
       "</table>\n",
       "<p>587723 rows × 6 columns</p>\n",
       "</div>"
      ],
      "text/plain": [
       "                      mG  V_m  mW_m2 mW_cm2  pW_cm2 Possible_Source\n",
       "Date_Time                                                          \n",
       "2022-06-22 11:46:17  0.6  1.4  0.001    0.0  75.992           Mixed\n",
       "2022-06-22 11:46:18  0.7  1.6  0.001    0.0  88.036           Mixed\n",
       "2022-06-22 11:46:19  0.7  1.6  0.001    0.0  88.036           Mixed\n",
       "2022-06-22 11:46:20  0.7  1.6  0.001    0.0  88.036           Mixed\n",
       "2022-06-22 11:46:21  0.7  1.6  0.001    0.0  88.036           Mixed\n",
       "...                  ...  ...    ...    ...     ...             ...\n",
       "2022-07-09 08:07:18  0.6  1.2  0.001    0.0  75.992           Mixed\n",
       "2022-07-09 08:07:19  0.6  1.2  0.001    0.0  75.992           Mixed\n",
       "2022-07-09 08:07:20  0.6  1.0  0.001    0.0  75.992           Mixed\n",
       "2022-07-09 08:07:21  0.6  1.4  0.001    0.0  64.132           Mixed\n",
       "2022-07-09 08:07:22  0.6  1.4  0.001    0.0  64.132           Mixed\n",
       "\n",
       "[587723 rows x 6 columns]"
      ]
     },
     "execution_count": 184,
     "metadata": {},
     "output_type": "execute_result"
    }
   ],
   "source": [
    "\n",
    "gq_emf390_df"
   ]
  },
  {
   "cell_type": "code",
   "execution_count": 185,
   "metadata": {},
   "outputs": [
    {
     "data": {
      "text/plain": [
       "False"
      ]
     },
     "execution_count": 185,
     "metadata": {},
     "output_type": "execute_result"
    }
   ],
   "source": [
    "\n",
    "gq_emf390_df.index.has_duplicates"
   ]
  },
  {
   "cell_type": "code",
   "execution_count": 186,
   "metadata": {},
   "outputs": [
    {
     "data": {
      "image/png": "[encoded data removed]",
      "text/plain": [
       "<Figure size 432x288 with 1 Axes>"
      ]
     },
     "metadata": {
      "needs_background": "light"
     },
     "output_type": "display_data"
    }
   ],
   "source": [
    "\n",
    "# V/m is electrical\n",
    "gq_emf390_df.V_m.plot.line();"
   ]
  },
  {
   "cell_type": "code",
   "execution_count": 65,
   "metadata": {},
   "outputs": [
    {
     "data": {
      "text/plain": [
       "array(['Mixed', 'WiFi/Phone', 'Cell Tower', 'Static', '---', 'Power Line',\n",
       "       'Smart Meter', 'AC EF'], dtype=object)"
      ]
     },
     "execution_count": 65,
     "metadata": {},
     "output_type": "execute_result"
    }
   ],
   "source": [
    "\n",
    "gq_emf390_df.Possible_Source.unique()"
   ]
  },
  {
   "cell_type": "code",
   "execution_count": 66,
   "metadata": {},
   "outputs": [
    {
     "data": {
      "text/html": [
       "<div>\n",
       "<style scoped>\n",
       "    .dataframe tbody tr th:only-of-type {\n",
       "        vertical-align: middle;\n",
       "    }\n",
       "\n",
       "    .dataframe tbody tr th {\n",
       "        vertical-align: top;\n",
       "    }\n",
       "\n",
       "    .dataframe thead th {\n",
       "        text-align: right;\n",
       "    }\n",
       "</style>\n",
       "<table border=\"1\" class=\"dataframe\">\n",
       "  <thead>\n",
       "    <tr style=\"text-align: right;\">\n",
       "      <th></th>\n",
       "      <th>mG</th>\n",
       "      <th>V_m</th>\n",
       "      <th>mW_m2</th>\n",
       "      <th>mW_cm2</th>\n",
       "      <th>pW_cm2</th>\n",
       "      <th>Possible_Source</th>\n",
       "    </tr>\n",
       "    <tr>\n",
       "      <th>Date_Time</th>\n",
       "      <th></th>\n",
       "      <th></th>\n",
       "      <th></th>\n",
       "      <th></th>\n",
       "      <th></th>\n",
       "      <th></th>\n",
       "    </tr>\n",
       "  </thead>\n",
       "  <tbody>\n",
       "    <tr>\n",
       "      <th>2022-06-23 14:21:57</th>\n",
       "      <td>0.6</td>\n",
       "      <td>1.0</td>\n",
       "      <td>144.745</td>\n",
       "      <td>0.014</td>\n",
       "      <td>14474514.0</td>\n",
       "      <td>Smart Meter</td>\n",
       "    </tr>\n",
       "  </tbody>\n",
       "</table>\n",
       "</div>"
      ],
      "text/plain": [
       "                      mG  V_m    mW_m2 mW_cm2      pW_cm2 Possible_Source\n",
       "Date_Time                                                                \n",
       "2022-06-23 14:21:57  0.6  1.0  144.745  0.014  14474514.0     Smart Meter"
      ]
     },
     "execution_count": 66,
     "metadata": {},
     "output_type": "execute_result"
    }
   ],
   "source": [
    "\n",
    "mask_series = (gq_emf390_df.Possible_Source == 'Smart Meter')\n",
    "gq_emf390_df[mask_series]"
   ]
  },
  {
   "cell_type": "code",
   "execution_count": 67,
   "metadata": {},
   "outputs": [
    {
     "data": {
      "text/html": [
       "<div>\n",
       "<style scoped>\n",
       "    .dataframe tbody tr th:only-of-type {\n",
       "        vertical-align: middle;\n",
       "    }\n",
       "\n",
       "    .dataframe tbody tr th {\n",
       "        vertical-align: top;\n",
       "    }\n",
       "\n",
       "    .dataframe thead th {\n",
       "        text-align: right;\n",
       "    }\n",
       "</style>\n",
       "<table border=\"1\" class=\"dataframe\">\n",
       "  <thead>\n",
       "    <tr style=\"text-align: right;\">\n",
       "      <th></th>\n",
       "      <th>mG</th>\n",
       "      <th>V_m</th>\n",
       "      <th>mW_m2</th>\n",
       "      <th>mW_cm2</th>\n",
       "      <th>pW_cm2</th>\n",
       "    </tr>\n",
       "    <tr>\n",
       "      <th>Possible_Source</th>\n",
       "      <th></th>\n",
       "      <th></th>\n",
       "      <th></th>\n",
       "      <th></th>\n",
       "      <th></th>\n",
       "    </tr>\n",
       "  </thead>\n",
       "  <tbody>\n",
       "    <tr>\n",
       "      <th>---</th>\n",
       "      <td>0.0</td>\n",
       "      <td>0.2</td>\n",
       "      <td>0.001</td>\n",
       "      <td>0.000</td>\n",
       "      <td>8.199100e+01</td>\n",
       "    </tr>\n",
       "    <tr>\n",
       "      <th>AC EF</th>\n",
       "      <td>9.7</td>\n",
       "      <td>285.2</td>\n",
       "      <td>0.012</td>\n",
       "      <td>0.000</td>\n",
       "      <td>1.152557e+03</td>\n",
       "    </tr>\n",
       "    <tr>\n",
       "      <th>Cell Tower</th>\n",
       "      <td>7.9</td>\n",
       "      <td>72.4</td>\n",
       "      <td>117.571</td>\n",
       "      <td>0.012</td>\n",
       "      <td>1.175712e+07</td>\n",
       "    </tr>\n",
       "    <tr>\n",
       "      <th>Mixed</th>\n",
       "      <td>29.0</td>\n",
       "      <td>962.0</td>\n",
       "      <td>1105.446</td>\n",
       "      <td>0.111</td>\n",
       "      <td>1.105446e+08</td>\n",
       "    </tr>\n",
       "    <tr>\n",
       "      <th>Power Line</th>\n",
       "      <td>43.4</td>\n",
       "      <td>99.8</td>\n",
       "      <td>515.752</td>\n",
       "      <td>0.052</td>\n",
       "      <td>5.157522e+07</td>\n",
       "    </tr>\n",
       "    <tr>\n",
       "      <th>Smart Meter</th>\n",
       "      <td>0.6</td>\n",
       "      <td>1.0</td>\n",
       "      <td>144.745</td>\n",
       "      <td>0.014</td>\n",
       "      <td>1.447451e+07</td>\n",
       "    </tr>\n",
       "    <tr>\n",
       "      <th>Static</th>\n",
       "      <td>0.0</td>\n",
       "      <td>15.5</td>\n",
       "      <td>3.697</td>\n",
       "      <td>0.000</td>\n",
       "      <td>3.697266e+05</td>\n",
       "    </tr>\n",
       "    <tr>\n",
       "      <th>WiFi/Phone</th>\n",
       "      <td>51.5</td>\n",
       "      <td>72.9</td>\n",
       "      <td>1055.531</td>\n",
       "      <td>0.106</td>\n",
       "      <td>1.055531e+08</td>\n",
       "    </tr>\n",
       "  </tbody>\n",
       "</table>\n",
       "</div>"
      ],
      "text/plain": [
       "                   mG    V_m     mW_m2  mW_cm2        pW_cm2\n",
       "Possible_Source                                             \n",
       "---               0.0    0.2     0.001   0.000  8.199100e+01\n",
       "AC EF             9.7  285.2     0.012   0.000  1.152557e+03\n",
       "Cell Tower        7.9   72.4   117.571   0.012  1.175712e+07\n",
       "Mixed            29.0  962.0  1105.446   0.111  1.105446e+08\n",
       "Power Line       43.4   99.8   515.752   0.052  5.157522e+07\n",
       "Smart Meter       0.6    1.0   144.745   0.014  1.447451e+07\n",
       "Static            0.0   15.5     3.697   0.000  3.697266e+05\n",
       "WiFi/Phone       51.5   72.9  1055.531   0.106  1.055531e+08"
      ]
     },
     "execution_count": 67,
     "metadata": {},
     "output_type": "execute_result"
    }
   ],
   "source": [
    "\n",
    "gq_emf390_df.groupby('Possible_Source').max()"
   ]
  },
  {
   "cell_type": "code",
   "execution_count": 68,
   "metadata": {},
   "outputs": [
    {
     "data": {
      "text/html": [
       "<div>\n",
       "<style scoped>\n",
       "    .dataframe tbody tr th:only-of-type {\n",
       "        vertical-align: middle;\n",
       "    }\n",
       "\n",
       "    .dataframe tbody tr th {\n",
       "        vertical-align: top;\n",
       "    }\n",
       "\n",
       "    .dataframe thead th {\n",
       "        text-align: right;\n",
       "    }\n",
       "</style>\n",
       "<table border=\"1\" class=\"dataframe\">\n",
       "  <thead>\n",
       "    <tr style=\"text-align: right;\">\n",
       "      <th></th>\n",
       "      <th>mG</th>\n",
       "      <th>V_m</th>\n",
       "      <th>mW_m2</th>\n",
       "      <th>mW_cm2</th>\n",
       "      <th>pW_cm2</th>\n",
       "    </tr>\n",
       "    <tr>\n",
       "      <th>Possible_Source</th>\n",
       "      <th></th>\n",
       "      <th></th>\n",
       "      <th></th>\n",
       "      <th></th>\n",
       "      <th></th>\n",
       "    </tr>\n",
       "  </thead>\n",
       "  <tbody>\n",
       "    <tr>\n",
       "      <th>---</th>\n",
       "      <td>NaN</td>\n",
       "      <td>NaN</td>\n",
       "      <td>NaN</td>\n",
       "      <td>NaN</td>\n",
       "      <td>NaN</td>\n",
       "    </tr>\n",
       "    <tr>\n",
       "      <th>AC EF</th>\n",
       "      <td>3.162654</td>\n",
       "      <td>62.860693</td>\n",
       "      <td>0.003742</td>\n",
       "      <td>0.000000</td>\n",
       "      <td>3.658298e+02</td>\n",
       "    </tr>\n",
       "    <tr>\n",
       "      <th>Cell Tower</th>\n",
       "      <td>1.303901</td>\n",
       "      <td>18.972756</td>\n",
       "      <td>8.718489</td>\n",
       "      <td>0.000975</td>\n",
       "      <td>8.718496e+05</td>\n",
       "    </tr>\n",
       "    <tr>\n",
       "      <th>Mixed</th>\n",
       "      <td>0.344054</td>\n",
       "      <td>14.898269</td>\n",
       "      <td>16.160845</td>\n",
       "      <td>0.001618</td>\n",
       "      <td>1.616086e+06</td>\n",
       "    </tr>\n",
       "    <tr>\n",
       "      <th>Power Line</th>\n",
       "      <td>2.402394</td>\n",
       "      <td>10.074028</td>\n",
       "      <td>8.155212</td>\n",
       "      <td>0.000822</td>\n",
       "      <td>8.155222e+05</td>\n",
       "    </tr>\n",
       "    <tr>\n",
       "      <th>Smart Meter</th>\n",
       "      <td>NaN</td>\n",
       "      <td>NaN</td>\n",
       "      <td>NaN</td>\n",
       "      <td>NaN</td>\n",
       "      <td>NaN</td>\n",
       "    </tr>\n",
       "    <tr>\n",
       "      <th>Static</th>\n",
       "      <td>0.000000</td>\n",
       "      <td>2.866890</td>\n",
       "      <td>0.754389</td>\n",
       "      <td>0.000000</td>\n",
       "      <td>7.544503e+04</td>\n",
       "    </tr>\n",
       "    <tr>\n",
       "      <th>WiFi/Phone</th>\n",
       "      <td>1.158923</td>\n",
       "      <td>1.950271</td>\n",
       "      <td>43.642873</td>\n",
       "      <td>0.004383</td>\n",
       "      <td>4.364289e+06</td>\n",
       "    </tr>\n",
       "  </tbody>\n",
       "</table>\n",
       "</div>"
      ],
      "text/plain": [
       "                       mG        V_m      mW_m2    mW_cm2        pW_cm2\n",
       "Possible_Source                                                        \n",
       "---                   NaN        NaN        NaN       NaN           NaN\n",
       "AC EF            3.162654  62.860693   0.003742  0.000000  3.658298e+02\n",
       "Cell Tower       1.303901  18.972756   8.718489  0.000975  8.718496e+05\n",
       "Mixed            0.344054  14.898269  16.160845  0.001618  1.616086e+06\n",
       "Power Line       2.402394  10.074028   8.155212  0.000822  8.155222e+05\n",
       "Smart Meter           NaN        NaN        NaN       NaN           NaN\n",
       "Static           0.000000   2.866890   0.754389  0.000000  7.544503e+04\n",
       "WiFi/Phone       1.158923   1.950271  43.642873  0.004383  4.364289e+06"
      ]
     },
     "execution_count": 68,
     "metadata": {},
     "output_type": "execute_result"
    }
   ],
   "source": [
    "\n",
    "gq_emf390_df.groupby('Possible_Source').std()"
   ]
  },
  {
   "cell_type": "code",
   "execution_count": 60,
   "metadata": {},
   "outputs": [],
   "source": [
    "\n",
    "column_descriptions_df = get_column_descriptions(gq_emf390_df)"
   ]
  },
  {
   "cell_type": "code",
   "execution_count": 61,
   "metadata": {},
   "outputs": [
    {
     "data": {
      "text/html": [
       "<div>\n",
       "<style scoped>\n",
       "    .dataframe tbody tr th:only-of-type {\n",
       "        vertical-align: middle;\n",
       "    }\n",
       "\n",
       "    .dataframe tbody tr th {\n",
       "        vertical-align: top;\n",
       "    }\n",
       "\n",
       "    .dataframe thead th {\n",
       "        text-align: right;\n",
       "    }\n",
       "</style>\n",
       "<table border=\"1\" class=\"dataframe\">\n",
       "  <thead>\n",
       "    <tr style=\"text-align: right;\">\n",
       "      <th></th>\n",
       "      <th>column_name</th>\n",
       "      <th>dtype</th>\n",
       "      <th>count_blanks</th>\n",
       "      <th>count_uniques</th>\n",
       "      <th>count_zeroes</th>\n",
       "      <th>has_dates</th>\n",
       "      <th>min_value</th>\n",
       "      <th>max_value</th>\n",
       "      <th>only_integers</th>\n",
       "    </tr>\n",
       "  </thead>\n",
       "  <tbody>\n",
       "    <tr>\n",
       "      <th>0</th>\n",
       "      <td>mG</td>\n",
       "      <td>object</td>\n",
       "      <td>0</td>\n",
       "      <td>171</td>\n",
       "      <td>30</td>\n",
       "      <td>True</td>\n",
       "      <td>0.0</td>\n",
       "      <td>51.5</td>\n",
       "      <td>False</td>\n",
       "    </tr>\n",
       "    <tr>\n",
       "      <th>1</th>\n",
       "      <td>V_m</td>\n",
       "      <td>object</td>\n",
       "      <td>0</td>\n",
       "      <td>675</td>\n",
       "      <td>3724</td>\n",
       "      <td>True</td>\n",
       "      <td>0.0</td>\n",
       "      <td>962.0</td>\n",
       "      <td>False</td>\n",
       "    </tr>\n",
       "    <tr>\n",
       "      <th>2</th>\n",
       "      <td>mW_m2</td>\n",
       "      <td>object</td>\n",
       "      <td>0</td>\n",
       "      <td>1257</td>\n",
       "      <td>170</td>\n",
       "      <td>True</td>\n",
       "      <td>0.0</td>\n",
       "      <td>1105.446</td>\n",
       "      <td>False</td>\n",
       "    </tr>\n",
       "    <tr>\n",
       "      <th>3</th>\n",
       "      <td>mW_cm2</td>\n",
       "      <td>object</td>\n",
       "      <td>0</td>\n",
       "      <td>82</td>\n",
       "      <td>486416</td>\n",
       "      <td>True</td>\n",
       "      <td>0.0</td>\n",
       "      <td>0.111</td>\n",
       "      <td>False</td>\n",
       "    </tr>\n",
       "    <tr>\n",
       "      <th>4</th>\n",
       "      <td>pW_cm2</td>\n",
       "      <td>object</td>\n",
       "      <td>0</td>\n",
       "      <td>1507</td>\n",
       "      <td>26</td>\n",
       "      <td>True</td>\n",
       "      <td>0.0</td>\n",
       "      <td>110544576.0</td>\n",
       "      <td>False</td>\n",
       "    </tr>\n",
       "    <tr>\n",
       "      <th>5</th>\n",
       "      <td>Possible_Source</td>\n",
       "      <td>object</td>\n",
       "      <td>0</td>\n",
       "      <td>8</td>\n",
       "      <td>0</td>\n",
       "      <td>False</td>\n",
       "      <td>---</td>\n",
       "      <td>WiFi/Phone</td>\n",
       "      <td>NaN</td>\n",
       "    </tr>\n",
       "  </tbody>\n",
       "</table>\n",
       "</div>"
      ],
      "text/plain": [
       "       column_name   dtype  count_blanks  count_uniques  count_zeroes  \\\n",
       "0               mG  object             0            171            30   \n",
       "1              V_m  object             0            675          3724   \n",
       "2            mW_m2  object             0           1257           170   \n",
       "3           mW_cm2  object             0             82        486416   \n",
       "4           pW_cm2  object             0           1507            26   \n",
       "5  Possible_Source  object             0              8             0   \n",
       "\n",
       "   has_dates min_value    max_value only_integers  \n",
       "0       True       0.0         51.5         False  \n",
       "1       True       0.0        962.0         False  \n",
       "2       True       0.0     1105.446         False  \n",
       "3       True       0.0        0.111         False  \n",
       "4       True       0.0  110544576.0         False  \n",
       "5      False       ---   WiFi/Phone           NaN  "
      ]
     },
     "execution_count": 61,
     "metadata": {},
     "output_type": "execute_result"
    }
   ],
   "source": [
    "\n",
    "column_descriptions_df"
   ]
  },
  {
   "cell_type": "code",
   "execution_count": null,
   "metadata": {},
   "outputs": [],
   "source": [
    "\n",
    "for row_index, row_series in mimiz_symptoms_journal_df.iterrows():\n",
    "    datetime_obj = row_series.datetime\n",
    "    note_str = row_series.note\n",
    "    print(datetime_obj, note_str)"
   ]
  },
  {
   "cell_type": "code",
   "execution_count": 158,
   "metadata": {},
   "outputs": [
    {
     "data": {
      "text/plain": [
       "datetime.datetime(2022, 6, 22, 0, 0)"
      ]
     },
     "execution_count": 158,
     "metadata": {},
     "output_type": "execute_result"
    }
   ],
   "source": [
    "\n",
    "datetime(2022, 6, 22, hour=0, minute=0)"
   ]
  },
  {
   "cell_type": "code",
   "execution_count": null,
   "metadata": {},
   "outputs": [],
   "source": [
    "\n",
    "matplotlib.text.Text?"
   ]
  },
  {
   "cell_type": "code",
   "execution_count": 139,
   "metadata": {},
   "outputs": [
    {
     "data": {
      "text/plain": [
       "['matplotlib.transforms.Affine2D', 'matplotlib.transforms.Affine2DBase', 'matplotlib.transforms.AffineBase', 'matplotlib.transforms.AffineDeltaTransform', 'matplotlib.transforms.Bbox', 'matplotlib.transforms.BboxBase', 'matplotlib.transforms.BboxTransform', 'matplotlib.transforms.BboxTransformFrom', 'matplotlib.transforms.BboxTransformTo', 'matplotlib.transforms.BboxTransformToMaxOnly', 'matplotlib.transforms.BlendedAffine2D', 'matplotlib.transforms.BlendedGenericTransform', 'matplotlib.transforms.CompositeAffine2D', 'matplotlib.transforms.CompositeGenericTransform', 'matplotlib.transforms.DEBUG', 'matplotlib.transforms.IdentityTransform', 'matplotlib.transforms.LockableBbox', 'matplotlib.transforms.Path', 'matplotlib.transforms.ScaledTranslation', 'matplotlib.transforms.Transform', 'matplotlib.transforms.TransformNode', 'matplotlib.transforms.TransformWrapper', 'matplotlib.transforms.TransformedBbox', 'matplotlib.transforms.TransformedPatchPath', 'matplotlib.transforms.TransformedPath', 'matplotlib.transforms.affine_transform', 'matplotlib.transforms.blended_transform_factory', 'matplotlib.transforms.composite_transform_factory', 'matplotlib.transforms.copy', 'matplotlib.transforms.count_bboxes_overlapping_bbox', 'matplotlib.transforms.functools', 'matplotlib.transforms.interval_contains', 'matplotlib.transforms.interval_contains_open', 'matplotlib.transforms.inv', 'matplotlib.transforms.math', 'matplotlib.transforms.nonsingular', 'matplotlib.transforms.np', 'matplotlib.transforms.offset_copy', 'matplotlib.transforms.textwrap', 'matplotlib.transforms.update_path_extents', 'matplotlib.transforms.weakref']"
      ]
     },
     "execution_count": 139,
     "metadata": {},
     "output_type": "execute_result"
    }
   ],
   "source": [
    "\n",
    "[f'matplotlib.transforms.{fn}' for fn in dir(matplotlib.transforms) if not fn.startswith('_')]"
   ]
  },
  {
   "cell_type": "code",
   "execution_count": null,
   "metadata": {},
   "outputs": [],
   "source": [
    "\n",
    "plt.annotate?"
   ]
  },
  {
   "cell_type": "code",
   "execution_count": 119,
   "metadata": {},
   "outputs": [
    {
     "data": {
      "text/plain": [
       "DatetimeIndex(['2022-06-22 11:46:17', '2022-06-22 11:46:18',\n",
       "               '2022-06-22 11:46:19', '2022-06-22 11:46:20',\n",
       "               '2022-06-22 11:46:21', '2022-06-22 11:46:22',\n",
       "               '2022-06-22 11:46:23', '2022-06-22 11:46:24',\n",
       "               '2022-06-22 11:46:25', '2022-06-22 11:46:26',\n",
       "               ...\n",
       "               '2022-07-06 21:43:30', '2022-07-06 21:43:31',\n",
       "               '2022-07-06 21:43:32', '2022-07-06 21:43:33',\n",
       "               '2022-07-06 21:43:34', '2022-07-06 21:43:35',\n",
       "               '2022-07-06 21:43:36', '2022-07-06 21:43:37',\n",
       "               '2022-07-06 21:43:38', '2022-07-06 21:43:39'],\n",
       "              dtype='datetime64[ns]', name='Date_Time', length=513360, freq=None)"
      ]
     },
     "execution_count": 119,
     "metadata": {},
     "output_type": "execute_result"
    }
   ],
   "source": [
    "\n",
    "gq_emf390_df.index"
   ]
  },
  {
   "cell_type": "code",
   "execution_count": null,
   "metadata": {},
   "outputs": [],
   "source": []
  }
 ],
 "metadata": {
  "anaconda-cloud": {},
  "kernelspec": {
   "display_name": "Python 3 (ipykernel)",
   "language": "python",
   "name": "python3"
  },
  "language_info": {
   "codemirror_mode": {
    "name": "ipython",
    "version": 3
   },
   "file_extension": ".py",
   "mimetype": "text/x-python",
   "name": "python",
   "nbconvert_exporter": "python",
   "pygments_lexer": "ipython3",
   "version": "3.9.7"
  }
 },
 "nbformat": 4,
 "nbformat_minor": 4
}
