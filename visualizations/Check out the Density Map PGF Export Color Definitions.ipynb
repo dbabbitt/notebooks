{
 "cells": [
  {
   "cell_type": "code",
   "execution_count": 16,
   "metadata": {},
   "outputs": [],
   "source": []
  },
  {
   "cell_type": "code",
   "execution_count": null,
   "metadata": {},
   "outputs": [],
   "source": [
    "\n",
    "import sys\n",
    "\n",
    "command_str = '{sys.executable} -m pip install --upgrade scikit-image'.format(sys=sys)\n",
    "print(command_str)\n",
    "!{command_str}"
   ]
  },
  {
   "cell_type": "code",
   "execution_count": 82,
   "metadata": {},
   "outputs": [],
   "source": [
    "\n",
    "import numpy as np\n",
    "from skimage import io\n",
    "\n",
    "palette = np.array([[0.000000, 0.000000, 0.000000],\n",
    "                    [0.050654, 0.194444, 0.294118],\n",
    "                    [0.064837, 0.248889, 0.376471],\n",
    "                    [0.079020, 0.303333, 0.458824],\n",
    "                    [0.093203, 0.357778, 0.541176],\n",
    "                    [0.107386, 0.412222, 0.623529],\n",
    "                    [0.150000, 0.150000, 0.150000],\n",
    "                    [0.166617, 0.463708, 0.558119],\n",
    "                    [0.430983, 0.808473, 0.346476],\n",
    "                    [0.690196, 0.690196, 0.690196],\n",
    "                    [0.709898, 0.868751, 0.169257],\n",
    "                    [0.900000, 0.900000, 0.900000],\n",
    "                    [0.925000, 0.925000, 0.925000],\n",
    "                    [0.950000, 0.950000, 0.950000],\n",
    "                    [0.993248, 0.906157, 0.143936],\n",
    "                    [1.000000, 0.000000, 0.000000]], dtype=np.float32)"
   ]
  },
  {
   "cell_type": "code",
   "execution_count": 85,
   "metadata": {},
   "outputs": [
    {
     "name": "stdout",
     "output_type": "stream",
     "text": [
      "(16, 3)\n",
      "(4, 4, 3)\n"
     ]
    },
    {
     "data": {
      "image/png": "[encoded data removed]",
      "text/plain": [
       "<Figure size 432x288 with 2 Axes>"
      ]
     },
     "metadata": {
      "needs_background": "light"
     },
     "output_type": "display_data"
    }
   ],
   "source": [
    "\n",
    "print(palette.shape)\n",
    "ncols = int(np.floor(np.sqrt(palette.shape[0])))\n",
    "nrows = int(np.ceil(palette.shape[0]/ncols))\n",
    "shape_tuple = (nrows, ncols, 3)\n",
    "print(shape_tuple)\n",
    "while palette.shape[0] < nrows*ncols:\n",
    "    palette = np.concatenate((palette, palette[-1].reshape((1, 3))), axis=0)\n",
    "display_array = palette.reshape(shape_tuple) * 255\n",
    "AxesImage_obj = io.imshow(display_array.astype(int))"
   ]
  },
  {
   "cell_type": "code",
   "execution_count": 87,
   "metadata": {},
   "outputs": [
    {
     "data": {
      "text/plain": [
       "array([[[  0.      ,   0.      ,   0.      ],\n",
       "        [ 12.91677 ,  49.58322 ,  75.000084],\n",
       "        [ 16.533436,  63.466694,  96.00011 ],\n",
       "        [ 20.1501  ,  77.34992 , 117.00012 ]],\n",
       "\n",
       "       [[ 23.766766,  91.23339 , 137.99988 ],\n",
       "        [ 27.38343 , 105.11661 , 158.9999  ],\n",
       "        [ 38.25    ,  38.25    ,  38.25    ],\n",
       "        [ 42.487335, 118.245544, 142.32034 ]],\n",
       "\n",
       "       [[109.900665, 206.16061 ,  88.35138 ],\n",
       "        [175.99997 , 175.99997 , 175.99997 ],\n",
       "        [181.02399 , 221.53151 ,  43.160534],\n",
       "        [229.5     , 229.5     , 229.5     ]],\n",
       "\n",
       "       [[235.875   , 235.875   , 235.875   ],\n",
       "        [242.25    , 242.25    , 242.25    ],\n",
       "        [253.27823 , 231.07004 ,  36.70368 ],\n",
       "        [255.      ,   0.      ,   0.      ]]], dtype=float32)"
      ]
     },
     "execution_count": 87,
     "metadata": {},
     "output_type": "execute_result"
    }
   ],
   "source": [
    "\n",
    "display_array"
   ]
  }
 ],
 "metadata": {
  "kernelspec": {
   "display_name": "Python 3",
   "language": "python",
   "name": "python3"
  },
  "language_info": {
   "codemirror_mode": {
    "name": "ipython",
    "version": 3
   },
   "file_extension": ".py",
   "mimetype": "text/x-python",
   "name": "python",
   "nbconvert_exporter": "python",
   "pygments_lexer": "ipython3",
   "version": "3.7.7"
  }
 },
 "nbformat": 4,
 "nbformat_minor": 4
}
