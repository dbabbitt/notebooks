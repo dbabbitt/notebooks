{
 "cells": [
  {
   "cell_type": "code",
   "execution_count": null,
   "id": "938bd49c-f177-4a47-9b27-5acfa2ce1cbc",
   "metadata": {},
   "outputs": [],
   "source": []
  },
  {
   "cell_type": "code",
   "execution_count": 22,
   "id": "45e1cdaf-8020-4a58-91f5-70854e270887",
   "metadata": {},
   "outputs": [],
   "source": [
    "\n",
    "import matplotlib.pyplot as plt\n",
    "import numpy as np\n",
    "import pandas as pd\n",
    "import seaborn as sns\n",
    "from io import BytesIO\n",
    "import base64\n",
    "import random\n",
    "\n",
    "def sparkline(data, figsize=(2, 0.5), **kwargs):\n",
    "    fig, ax = plt.subplots(1, 1, figsize=figsize, **kwargs)\n",
    "    ax.scatter(range(len(data)), data, alpha=0.5, edgecolors='blue')\n",
    "    for k,v in ax.spines.items(): v.set_visible(False)\n",
    "    ax.set_xticks([]), ax.set_yticks([])\n",
    "    ax.set_ylim([min(data) - 0.25, max(data) + 0.25])\n",
    "    img = BytesIO()\n",
    "    plt.savefig(img, transparent=True)\n",
    "    img.seek(0)\n",
    "    plt.close()\n",
    "    return '<img src=\"data:image/png;base64,{}\"/>'.format(base64.b64encode(img.read()).decode())"
   ]
  },
  {
   "cell_type": "code",
   "execution_count": 29,
   "id": "a605bcad-a4d2-4c7b-b7a5-71ca0f60792a",
   "metadata": {},
   "outputs": [
    {
     "data": {
      "text/html": [
       "<style type=\"text/css\">\n",
       "</style>\n",
       "<table id=\"T_c7535\">\n",
       "  <thead>\n",
       "    <tr>\n",
       "      <th class=\"blank level0\" >&nbsp;</th>\n",
       "      <th id=\"T_c7535_level0_col0\" class=\"col_heading level0 col0\" >col_A</th>\n",
       "      <th id=\"T_c7535_level0_col1\" class=\"col_heading level0 col1\" >col_B</th>\n",
       "      <th id=\"T_c7535_level0_col2\" class=\"col_heading level0 col2\" >col_scatters</th>\n",
       "    </tr>\n",
       "  </thead>\n",
       "  <tbody>\n",
       "    <tr>\n",
       "      <th id=\"T_c7535_level0_row0\" class=\"row_heading level0 row0\" >0</th>\n",
       "      <td id=\"T_c7535_row0_col0\" class=\"data row0 col0\" >C</td>\n",
       "      <td id=\"T_c7535_row0_col1\" class=\"data row0 col1\" >0.302310</td>\n",
       "      <td id=\"T_c7535_row0_col2\" class=\"data row0 col2\" ><img src=\"data:image/png;base64,iVBORw0KGgoAAAANSUhEUgAAAJAAAAA2CAYAAAAoAxBLAAAAOXRFWHRTb2Z0d2FyZQBNYXRwbG90bGliIHZlcnNpb24zLjQuMywgaHR0cHM6Ly9tYXRwbG90bGliLm9yZy/MnkTPAAAACXBIWXMAAAsTAAALEwEAmpwYAAAESklEQVR4nO2cz2sTQRTHZ7Om27htspvS0EA1JRHqoQFB6MF/oCcRevfuVchdxGv/hf4LBY+eREGEnNToyTYYWohNaX410ebnekgL27hbZ/JmZmfr+1wKyyZ92ffd73vzZhPNcRyCILMSCToAJNyggBAQKCAEBAoIAYECQkCggBAQKCAEBAoIAYECQkCggBAQt4IOgBZNH+ejye62po8zzihSGdTNPWcUKQUd1/+OFoa9ME0f52O5WiG+WW4Y6WarV7US7WLW/n2Q2qEVEQpQDNIcCJLAaLK7Hd8sN+ZXG01CCJn8LZNhw9wmZPGf7zElwMNe1bLbxWxB0+kFKJMwiV2KgKAJ1PRxxkg3D93HjHSzpenjDM3/hwpQJmETuxQBQRPojCKVXtWyL19PCCG9qpVwRpEKzd0KFaBMwiR2QiStwi4S2HIfY0ngoG7utYtZ+/zItpyRpp0f2Va7mLUHp2YplqsVklsle+Xph8PkVsmO5WoFTR/n3a+/EGDCfexSgPBPxxfotZKNFAe6zkEoX1/S9NTOsGG6nWY3ukR3t14IsEBImbib8EHd3IV+Nt79Cuu1CrpfkiIgHgmcXJSrFm6sjJ/TlCY/AU6Oz54AEf0Ky7VSoV+S5UC+CQS+L/Xd6iVAaAJE9Css10qFfknaMt4rgVCgzsZhPEDdnLM4He21UmFxEJpJtBdQZ4MmgNYBRZUaaG/Jg1ALiBCYs0ETQOuAokqNyMUBLaEXEARoAmgdUFSpEdVbshC4gIJchvJIAI0Diiw1InpLFgLdTPXdJN1PvY4udfNh2AuigcdmsKoIERCtq8wtn71IbpWu3Jmt4lru/MfyRuLR/rubdLGDHviJgnsJY1lxePUGo7PYndi94zlIw6lisvxKjYqxssBdQCwrDq/eYNQxlufXTmru81gaThWms7SEKVY/RDgQ9YrDaxU0bMf6zlA/cp/H0nCqMJ2lRVSsMl2Nu4BYtxf+WgWdmq+631af6GbfmmVprcJ0lhYRsV7naoRMRMtTWNwFxDpb8d6jSn2fdWmtwnSW1gFExOrnav2f8WdzK+0F3uVShANJma34EfR0lqWvERGrn6tFjOHj+Gb5Pe9yKWSQGORwS9R0ltZVGBcR3GP1czUScYiIB9UCn0SLgLeAoaOJ6xLFO1Y/V3MG+sde1UrwLu03UkC8gY4mZPZgfq5GCCEiSjsKyIPpckU054GRbn5xn8MympC9Q+4/tORf2lFAU3iVq8bb+2u/9lMdc/344PI8ptEEpx1y6HxHRG+KAprCq1zdXq9+7Xy+u6Gb/dNZRxNQVJ1ao4Cm8GqC4w8r5c6nzEL9Tb4R1HM3qk7YUUBT+DXBmu586p8svgwqLlUn7PjzLlP4fomxbu4FGZej6JcjQ/HrHLJR8RELVR9KQwGFCCWFjQJCIGAPhIBAASEgUEAICBQQAgIFhIBAASEgUEAICBQQAgIFhID4A7mIrYN4WWYiAAAAAElFTkSuQmCC\"/></td>\n",
       "    </tr>\n",
       "    <tr>\n",
       "      <th id=\"T_c7535_level0_row1\" class=\"row_heading level0 row1\" >1</th>\n",
       "      <td id=\"T_c7535_row1_col0\" class=\"data row1 col0\" >C</td>\n",
       "      <td id=\"T_c7535_row1_col1\" class=\"data row1 col1\" >0.181221</td>\n",
       "      <td id=\"T_c7535_row1_col2\" class=\"data row1 col2\" ><img src=\"data:image/png;base64,iVBORw0KGgoAAAANSUhEUgAAAJAAAAA2CAYAAAAoAxBLAAAAOXRFWHRTb2Z0d2FyZQBNYXRwbG90bGliIHZlcnNpb24zLjQuMywgaHR0cHM6Ly9tYXRwbG90bGliLm9yZy/MnkTPAAAACXBIWXMAAAsTAAALEwEAmpwYAAAEJUlEQVR4nO2bMW/aQBTHn+1SoFbARi0qFVUkEqkTUieGTt0yRmLvN+jIXlXqmLFrvkKkdstWqWoHlkplqtoSRUGioi0GEhQosd0BIhFiC1/e3XEO77dEOoHt4/3v3v/eczTf94Egboq+6gcg4g0JiEBBAiJQkIAIFCQgAgUJiEBBAiJQkIAIFCQgAgUJiEBxZ9UPgEUzvHIiN6xqhrfpu/rxpGse+K7eWPVzyWLV89fi3AvTDK+c3urUMpWmkyz0+uO2lR3US/b5z/zeOohIhfkruQNFXVWJ3LCaqTSdVNHpAQBM/zbhwjGrABu3XkAqzF85AS2sqpNx27IH9VJNM66vKs3wNpOF3sn8WLLQ62uGt4l9hjikRVHzZ0E5AbGsKt/Vj8dty778LADAuG1lfVc/vun9WQTMA4xYWecvYmEoJyCWVTXpmgeDeqkG0IR5DzDpmvs3vT9rWggKyuV1lgUKK1aW+YtaGNIEFKb+xXHfNc7HbSsbZVVNv5/fu3DM+evuY34QFgEHBcX58OSNfteF7LMfR8sChfUwLPMX5ZekCChU/Xr+XXq7s7sQgGL/8zbANABLd5Xpj8XPMLKkhaCgJHLDfPJRD1JF58vlWFigeHiYqPMX5ZekCChM/RPHfJmpNL/Oj9vPvx39ef800T0sO7x2FRYY08K1oABASk+PrwyEBUqmhxHhFwHk7UDB6tfdYrLQ+7g4btybPB7/yr6W8WyLsKSFoKAAwMg7T175XFigZHoYEX4RQJKAQtXvGa2ofkcmUdNCUFAmXbPjnqUgcf/MWhYomR5GhF8EkCSgMPVf/DXfDuqlXd6rQhZhQQEAcE/TkQIl08Pw9osA8nagYPV7ekMz8t+jrApRxT3sdcODwjdQojwMllj0wkT1fFToJUVF1WdVrpAYhKgahsxeEo+dToSHwRILAbHm/6jBktVL4lUFFuFhsMRCQCz5nyVYsnwFj/YIi9BkNoNj8Ubi7BRnj1q25buaNmrZ1uy0drD42flgaYbvp4pOL1NpOoncsIq5LobZTtefH1vWHsntNOyHLz6d5HYadnqrU9MMrxzxXqjvsxKXHShy/mdJS7J8BbY9wuLLZL8jFAsBAUTP/6xpSYavwLZHWHyZ7HeEYiOgqIgq2WPAtkdYfJnsepGQOtCq3+hb9f0xYOs9sutF3AWkasErTsTpFMZdQHcfnL7K7TSubKGjlm11D8vOv98bK+mwE+LgfoxnObIS8Ye7iVa26RdjX6Qy3AWk4imIRyuBBBjMrTyFLYL1ZXQwCEdIHUi1ph+2uKbCf4CqSix6YVhmviw7P8biy+hgEM5aCAjbNMUK8DYTizcSeYDxZeSBwlkbAWFR7WCgCiQgAsVaeCBCHCQgAgUJiEBBAiJQkIAIFCQgAgUJiEBBAiJQkIAIFP8B/G6i8p9mvyQAAAAASUVORK5CYII=\"/></td>\n",
       "    </tr>\n",
       "    <tr>\n",
       "      <th id=\"T_c7535_level0_row2\" class=\"row_heading level0 row2\" >2</th>\n",
       "      <td id=\"T_c7535_row2_col0\" class=\"data row2 col0\" >A</td>\n",
       "      <td id=\"T_c7535_row2_col1\" class=\"data row2 col1\" >0.576702</td>\n",
       "      <td id=\"T_c7535_row2_col2\" class=\"data row2 col2\" ><img src=\"data:image/png;base64,iVBORw0KGgoAAAANSUhEUgAAAJAAAAA2CAYAAAAoAxBLAAAAOXRFWHRTb2Z0d2FyZQBNYXRwbG90bGliIHZlcnNpb24zLjQuMywgaHR0cHM6Ly9tYXRwbG90bGliLm9yZy/MnkTPAAAACXBIWXMAAAsTAAALEwEAmpwYAAADtUlEQVR4nO2cwUojQRCGuzMbo5tdMxMwKLgI8RzYk6/gcSH3fYvcfQFfwX2EwO477CXXXNdAiBAQySRxJYaYmT2oEJaOdltT1TWxvosQYtM1/FN/dVWrTtNUCcJbKfjegJBvREACCBGQAEIEJIAQAQkgREACCBGQAEIEJIAQAQkgREACiA++N2BCB0mjWL1r6iA5SpeF/mJUbqfLQtf3vjDIe6ya2yxMB0lj5/i6tXvSi0sH48l8GFamnXo0u6yd5+nB2rAJsbLLQMXqXXP3pBdvH8ZjpZR6/NlTD3G5qdTnXDxUWzYhVnYC0kFyVDoYD1Y/Kx2MJzpIjhzWsLYFnxaSRay+YVdEp8tCfz4MK6ufzYdhJV0W+ja//2wL1dNutP/996B62o12jq9bOkgakO9iAI2VA+wEtBiV29NOPbq/isJ0qfX9VRROO/VoMSq3bX5/1RZ0kKbbh/F496QXF6t3Tch3MYDGygF2FpYuC10d1M4f4vKqrVzY2oqLLWBZiK0tusbK8cTGTkBKPT7YtxaRT7YQPRemSq23BZfv2vLfyWowH4bRtFNv6cB8srKN1XVdKthZGBQXW8CwECxb9G2362CZgSC42ALULk0g2iLLE9vGCUgpNwuE2OWa9TK3Rcx1oWykgExQ9YaebLGlVE+tdpcXo/IFZP9Y60JhN8rAwGVkkMV4Aeu0JKcwT7iMDLIYL2Rti9jrQngXAspTb4jLurZs3DHehMvIAGO8gDUy8T2KUQpJQDpIGlt7t2el/cmPrb3bM8qATEhvCI/MLYxjx1R6Q3hkLiDqOy4uc6e89IYcYvLeG8rcwp7eisnqZ1hvBYcawAYXW3SJicM0P/MMRPlWUGY7yGnHxRZdYsKwW1cyFxBlx5SqBsiirnOYujvF5Ls3hJGByO64UGU7ykyHGRNGzwilkUh1x4Uq21GedrBiwjode+1EQ99sqhqAsq7Digkri5IJyJQ+t/acRgzG9EtRA1BPwjFiwsqiJAJalz4XN5/+zodh5bU323dz8qWs4HsWZcK0p2IVJ4uSCGhd+rz59bU47dSj195sDn+AZ8oKvoVtYt2eZn9qP6ed+ressyhVBjKmz+Dj4svs8nW/59CyN8FB2A57atg8a1dIBPRSEWrj9xxa9iY4CvulPWHUViTXOaAtdw4texMYVz/ytieyK63QYpNrscrtv2tQ7+ld3InGhKuwqfYkAhJAvIsrrQIeIiABhAhIACECEkCIgAQQIiABhAhIACECEkCIgAQQ/wC7D79nzKYf/gAAAABJRU5ErkJggg==\"/></td>\n",
       "    </tr>\n",
       "    <tr>\n",
       "      <th id=\"T_c7535_level0_row3\" class=\"row_heading level0 row3\" >3</th>\n",
       "      <td id=\"T_c7535_row3_col0\" class=\"data row3 col0\" >C</td>\n",
       "      <td id=\"T_c7535_row3_col1\" class=\"data row3 col1\" >0.700308</td>\n",
       "      <td id=\"T_c7535_row3_col2\" class=\"data row3 col2\" ><img src=\"data:image/png;base64,iVBORw0KGgoAAAANSUhEUgAAAJAAAAA2CAYAAAAoAxBLAAAAOXRFWHRTb2Z0d2FyZQBNYXRwbG90bGliIHZlcnNpb24zLjQuMywgaHR0cHM6Ly9tYXRwbG90bGliLm9yZy/MnkTPAAAACXBIWXMAAAsTAAALEwEAmpwYAAAEkElEQVR4nO2bv2/TQBTH7+Imaes2iUMbWhFUKUXAEomFDjCwIDoidWdh4g/ojhBr/wVY2COBxIKQYIEhEyKMSaBKpYQCcZISUte1j4G2mPSMktyd7+y+z1LJcq4vvu89v1/BhBAEAJMSk20AEG5AQAATICCACRAQwAQICGACBAQwAQICmAABAUyAgAAmpmQbIAKsucV4tr+BNXeFOLFtu62XiBOryLYriuCotTKw5hZnVnc3U2t1M7nc6VrNTLpXLhiDWm4LRMSfyHmgeLa/kVqrm9N5s4MQQn/+1tFBK/UgsejsglfiS+RiIKy5K8nlTtd7zf0VT8YXft7JrleMpXvvGtn1ijGzuruJNbcoy86oEDkBESe2bTUzae+1X9Xz12Yvt75P580O1giZzpud1FrdjGf7G7LsjAqRE5Dd1ku9csHY3zEyxMF4f8fI2O25heSF9gfvfcnlThdr7ookMyODkjEQSxZFnFgFa7mtQ1M/+Txx8CvXStgI9U/us5qZNHFi28K+xBlBuSxMRBYFmZk4lPNAflnUoalvIDQ/0WbTvJLd1p+MIx6oLdFRTkBHWVTDe41HvPJnsycT4JAHa1jNjNErFzaxBh5MOQEdZVHGsQdCSH68IsIrykCEF1UuC6NlUb1ywbDbekmWTbTaUtiyuGMvyrsWJt0DDZ8KhPTSoMYWr/BGRa84LqK8qFQB+cUWg1pu6+Db/KPhe2UFsUdecROhOvJmcXZbfxKW4FpUbClVQKOeCtlBrF8WhxBCYQmuRXlR2R5opFOhQhBLy+ISi3sPZds1Kv/zoizrShXQqKdClPtlRVW7aPCohdGQKqBRT4WqQayqdvnBUgvzQ7YHGulUiHK/rKhqV5Ao1wvzQ9VsR7Zd0v9/WAQkChEbIGpTT637Q6/MXNq9K7NJfKYFFKbOP21d883VW6m1+if9ytfa8X37O0bm+4tr8VgymPHdwGIg2a6Whoj5aR5r0p4Vbd2p1CCBp5w8QuhEQEfju7fTN6ovg6hNBSIg2YXA/9h1Kg1n3QDWNf2e1WFnNpVc7nz03qvNWd8Ou7M57zXv+C5C4mtTgTRTvadHpZlkEfPTrGv6PStCcHp4XW1+0BhUzx/IHN8NygMJK7ixvBppabjdnltIXa+/ntRW1jX9nhVycLdXLhjeda2dc+7+l4XHzt5MUdb4rhABDW8qcbSB1cykeRfcWF+NIuanWdf0K05ijXwY1HKlUzUzN1ZBaP5k1AVrbjHI2hR3AdE21Xx7Jd99fwmhG9XPPL8Ujx7ZcHWWxwaMsyYtNe+VC3dp945SSRbVsvCDexqfWNx7mF2v/HOCRKWWyaXu06V77xpY+/sliINx69nNi1YrfX/SdYOqDSH0Tzf/b8pfzT2Pn+sXef5/UYjwQNR3uDZrX7Ra6Ud+n5sEUb0oET2jMbv5xeF5KFXhnoXRshBRQZyK46/jEIVRWe4eKMgGY9Dve96ErZtPQ0grQ8Wqs4pE4QePZ7oXpgJhP2wgIIAJ5X4XBoQLEBDABAgIYAIEBDABAgKYAAEBTICAACZAQAATICCAid9AIEcFhQfDWgAAAABJRU5ErkJggg==\"/></td>\n",
       "    </tr>\n",
       "    <tr>\n",
       "      <th id=\"T_c7535_level0_row4\" class=\"row_heading level0 row4\" >4</th>\n",
       "      <td id=\"T_c7535_row4_col0\" class=\"data row4 col0\" >B</td>\n",
       "      <td id=\"T_c7535_row4_col1\" class=\"data row4 col1\" >0.179781</td>\n",
       "      <td id=\"T_c7535_row4_col2\" class=\"data row4 col2\" ><img src=\"data:image/png;base64,iVBORw0KGgoAAAANSUhEUgAAAJAAAAA2CAYAAAAoAxBLAAAAOXRFWHRTb2Z0d2FyZQBNYXRwbG90bGliIHZlcnNpb24zLjQuMywgaHR0cHM6Ly9tYXRwbG90bGliLm9yZy/MnkTPAAAACXBIWXMAAAsTAAALEwEAmpwYAAAEVElEQVR4nO2cS28SURTHz8xQaDstDGhRksaaalITJWliwldwZUz6KdyadGuMcduv0K/Awl1XJm5MWFXpshBJSdA+GKCtQHmMi1Yz0hngeuY+pj2/TZMJcC/n/u89j3uo5jgOEMT/osueABFuSEAEChIQgYIERKAgAREoSEAEChIQgYIERKAgAREoIrIngEUzhtmZ1PmGZgxXnIFe6dXNvDPQi7LndVvQwnyVoRnD7Nyjw814rmzHMo1mt2YlWoXVZLuU3pIpotskauknEMbYM6nzjXiubM8u2w0AgMu/Zejb5gbAopQFGxH1QbdmJVuF1U3NkCtqXkgVENbYmjFciWUaB+5nsUyjqRnDFX6zHo+KouaJ1CDabWzNcJzZZbsRz5XtmdT5xjTvdwZ6pVuzEu5n3ZqVcAZ6hc+MJ3Ml6qb7mWxR80SqgLDG7tXNfKuwmuxUk5Yz0LRONWm1CqvJXt3M85nxZFQUNU+kurArYyf/HPcAbMZ2BnpRM9Jbfdt0x1DbMmONK1FvApTBHdj36ub2tJ8RpiBcahamahaFxUsAAJcue5IowmYTYQLy21WidpvMXc0iiujS6bvUi+I/p3KnmrTqO1n74mjxvYj5siDEhU3OtvhmJ+PGB5juZMDAkpmpmFmOQ4iAZKe2fuNf/Ii/jt5vLfCu2bCIAhsXikbUCYTeVSwuaPS1oDnrsUzj2+j4eqz/Mp4rf+YtbBZRBBGEi0SIgLC7iqXg6PVa+9OTh7/202fm2s+Se3zQHRBRs2ERhYqZ5TiECAi7q1hcoNdr59dqe2dfHzwzzIsT9/hOz/jSrVkJ3u6CVRQscaHslF/UCcRkwGldkNdJ4eUu488r5bPdlYX6TtZ2jw8AIMpdBJEsXBPLiVmce3z4Sua9m7BC4rQGZHFBXieFn7vUDGfXKw0Oi7vwsctb82l1T+a9m/Tb+FFYXJDXScHqLkWUEYLAyy6ReDuqRQbLAPB3Y4lO+ZUTEIsL8jopeAWhsmMNL7sYC92jfnM+7X4mOuVXTkCsLsjnMwI9VVTo8fGyi7HYPmjv30tE06eWrJRfOQGpWAeRXQgF8LZLt3pn2Pl+98PgdC4rK4ZTTkAq1kHGFUJFuTZfuwz1IsCitPaVUPdEi8LvgvP44/qM6ypE+ZtzHnA5gWQHnEHj51a1yPBMtmtjgce6BC4gFQJOLNcKmWDm26Xr7iO6dPomlmkcu9/L844P+514rEvgAlIh4MTgZ+h2Kb01mgVGl8Td8WHhtS6B90SHvamcpdEf25ON/VEBC7zWJfATKGz9LKMw9u6gMkaRzWO81iVwAalYx2GB1dCYoiWvRfXuyeazLlzS+DBnYSKb2nmMNe4zAYJv36U6kAciN0DQY4luyleuEq0CIm/oOdzbCW3Kp/8PdMMQ/ctYEtANQ/TPvSkGuoEIjeFIQAQGcmEEChIQgYIERKAgAREoSEAEChIQgYIERKAgAREoSEAEit9kF3J6pdBNYgAAAABJRU5ErkJggg==\"/></td>\n",
       "    </tr>\n",
       "  </tbody>\n",
       "</table>\n"
      ],
      "text/plain": [
       "<pandas.io.formats.style.Styler object at 0x0000019D4A03FBE0>"
      ]
     },
     "execution_count": 29,
     "metadata": {},
     "output_type": "execute_result"
    }
   ],
   "source": [
    "\n",
    "df = pd.DataFrame({\n",
    "    'col_A': np.random.choice(['A', 'B', 'C'], 5),\n",
    "    'col_B': np.random.random(size=(5, ))})\n",
    "df.assign(col_scatters=pd.DataFrame(np.random.random(size=(20, 5))).apply(sparkline, figsize=(2, 0.75), axis=0).to_frame()).style"
   ]
  }
 ],
 "metadata": {
  "kernelspec": {
   "display_name": "Python 3 (ipykernel)",
   "language": "python",
   "name": "python3"
  },
  "language_info": {
   "codemirror_mode": {
    "name": "ipython",
    "version": 3
   },
   "file_extension": ".py",
   "mimetype": "text/x-python",
   "name": "python",
   "nbconvert_exporter": "python",
   "pygments_lexer": "ipython3",
   "version": "3.9.7"
  }
 },
 "nbformat": 4,
 "nbformat_minor": 5
}
