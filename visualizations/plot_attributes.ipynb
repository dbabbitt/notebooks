{
 "cells": [
  {
   "cell_type": "code",
   "execution_count": 1,
   "metadata": {
    "collapsed": false,
    "jupyter": {
     "outputs_hidden": false
    }
   },
   "outputs": [],
   "source": [
    "\n",
    "%matplotlib inline"
   ]
  },
  {
   "cell_type": "markdown",
   "metadata": {},
   "source": [
    "\n",
    "# Attributes\n",
    "\n",
    "Example illustrating how to set node, edge, and graph attributes for\n",
    "visualization.\n"
   ]
  },
  {
   "cell_type": "code",
   "execution_count": 2,
   "metadata": {
    "collapsed": false,
    "jupyter": {
     "outputs_hidden": false
    }
   },
   "outputs": [],
   "source": [
    "\n",
    "import pygraphviz as pgv\n",
    "\n",
    "# Strict (no parallel edges) digraph\n",
    "# with attribute rankdir set to 'LR'\n",
    "A = pgv.AGraph(directed=True, strict=True, rankdir='LR')\n",
    "\n",
    "# Add node 1 with color red\n",
    "A.add_node(1, color='red')\n",
    "A.add_node(5, color='blue')\n",
    "\n",
    "# Add some edges\n",
    "A.add_edge(1, 2, color='green')\n",
    "A.add_edge(2, 3)\n",
    "A.add_edge(1, 3)\n",
    "A.add_edge(3, 4)\n",
    "A.add_edge(3, 5)\n",
    "A.add_edge(3, 6)\n",
    "A.add_edge(4, 6)\n",
    "\n",
    "# Adjust a graph parameter\n",
    "A.graph_attr['epsilon'] = '0.001'"
   ]
  },
  {
   "cell_type": "code",
   "execution_count": 3,
   "metadata": {},
   "outputs": [],
   "source": [
    "\n",
    "A.layout('dot')"
   ]
  },
  {
   "cell_type": "code",
   "execution_count": 4,
   "metadata": {},
   "outputs": [],
   "source": [
    "\n",
    "A.draw('../saves/png/foo.png', prog='dot')  # write to file"
   ]
  },
  {
   "cell_type": "code",
   "execution_count": 5,
   "metadata": {},
   "outputs": [
    {
     "name": "stdout",
     "output_type": "stream",
     "text": [
      "strict digraph \"\" {\n",
      "\tgraph [bb=\"0,0,414,113\",\n",
      "\t\tepsilon=0.001,\n",
      "\t\trankdir=LR\n",
      "\t];\n",
      "\tnode [label=\"\\N\"];\n",
      "\t1\t[color=red,\n",
      "\t\theight=0.5,\n",
      "\t\tpos=\"27,41\",\n",
      "\t\twidth=0.75];\n",
      "\t2\t[height=0.5,\n",
      "\t\tpos=\"117,64\",\n",
      "\t\twidth=0.75];\n",
      "\t1 -> 2\t[color=green,\n",
      "\t\tpos=\"e,91.619,57.628 52.513,47.407 61.572,49.774 72.012,52.503 81.775,55.055\"];\n",
      "\t3\t[height=0.5,\n",
      "\t\tpos=\"207,41\",\n",
      "\t\twidth=0.75];\n",
      "\\1 -> 3\t[pos=\"e,180.08,38.954 53.925,38.954 65.026,38.174 78.141,37.382 90,37 113.99,36.227 120.01,36.227 144,37 152.43,37.272 161.5,37.751 170.02,\\\n",
      "38.285\"];\n",
      "\t2 -> 3\t[pos=\"e,181.62,47.372 142.51,57.593 151.57,55.226 162.01,52.497 171.78,49.945\"];\n",
      "\t5\t[color=blue,\n",
      "\t\theight=0.5,\n",
      "\t\tpos=\"297,95\",\n",
      "\t\twidth=0.75];\n",
      "\t3 -> 5\t[pos=\"e,276.52,83.049 227.53,52.984 239.38,60.255 254.7,69.656 267.84,77.721\"];\n",
      "\t4\t[height=0.5,\n",
      "\t\tpos=\"297,41\",\n",
      "\t\twidth=0.75];\n",
      "\t3 -> 4\t[pos=\"e,269.92,41 234.4,41 242.39,41 251.31,41 259.82,41\"];\n",
      "\t6\t[height=0.5,\n",
      "\t\tpos=\"387,18\",\n",
      "\t\twidth=0.75];\n",
      "\t3 -> 6\t[pos=\"e,360.36,13.649 228.24,29.658 240.03,23.709 255.4,17.04 270,14 296.52,8.4768 327.17,9.8563 350.3,12.413\"];\n",
      "\t4 -> 6\t[pos=\"e,361.62,24.372 322.51,34.593 331.57,32.226 342.01,29.497 351.78,26.945\"];\n",
      "}\n",
      "\n"
     ]
    }
   ],
   "source": [
    "\n",
    "print(A.string())  # print dot file to standard output"
   ]
  },
  {
   "cell_type": "code",
   "execution_count": 6,
   "metadata": {},
   "outputs": [
    {
     "data": {
      "image/png": "[encoded data removed]",
      "text/plain": [
       "<IPython.core.display.Image object>"
      ]
     },
     "execution_count": 6,
     "metadata": {},
     "output_type": "execute_result"
    }
   ],
   "source": [
    "\n",
    "from IPython.display import Image\n",
    "\n",
    "Image(filename='../saves/png/foo.png') "
   ]
  },
  {
   "cell_type": "code",
   "execution_count": 9,
   "metadata": {},
   "outputs": [],
   "source": [
    "\n",
    "import os\n",
    "\n",
    "fmt = 'svg'\n",
    "dir_path = os.path.join(os.pardir, 'saves', fmt)\n",
    "os.makedirs(name=dir_path, exist_ok=True)\n",
    "file_path = os.path.join(dir_path, f'foo.{fmt}')\n",
    "try:\n",
    "    A.draw(file_path, format=fmt, prog='dot')\n",
    "except Exception as e:\n",
    "    print(f'Got this when trying to save as {fmt}: {str(e).strip()[:80]}')"
   ]
  },
  {
   "cell_type": "code",
   "execution_count": null,
   "metadata": {},
   "outputs": [],
   "source": []
  }
 ],
 "metadata": {
  "kernelspec": {
   "display_name": "Python 3",
   "language": "python",
   "name": "python3"
  },
  "language_info": {
   "codemirror_mode": {
    "name": "ipython",
    "version": 3
   },
   "file_extension": ".py",
   "mimetype": "text/x-python",
   "name": "python",
   "nbconvert_exporter": "python",
   "pygments_lexer": "ipython3",
   "version": "3.7.9"
  }
 },
 "nbformat": 4,
 "nbformat_minor": 4
}
