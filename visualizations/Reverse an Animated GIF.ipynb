{
 "cells": [
  {
   "cell_type": "code",
   "execution_count": null,
   "metadata": {},
   "outputs": [],
   "source": [
    "\n",
    "import sys\n",
    "\n",
    "command_str = '{sys.executable} -m pip install --upgrade imageio-ffmpeg'.format(sys=sys)\n",
    "print(command_str)\n",
    "!{command_str}"
   ]
  },
  {
   "cell_type": "code",
   "execution_count": null,
   "metadata": {},
   "outputs": [],
   "source": [
    "\n",
    "%run ../../load_magic/storage.py\n",
    "%run ../../load_magic/environment.py\n",
    "%pprint\n",
    "notebook_path = get_notebook_path()\n",
    "print(notebook_path)\n",
    "from PIL import Image\n",
    "import sys\n",
    "import os\n",
    "import pylab\n",
    "import imageio\n",
    "import numpy as np\n",
    "from IPython.display import Image\n",
    "\n",
    "s = Storage()\n",
    "mp4_dir = os.path.join(s.saves_folder, 'mp4')\n",
    "gif_dir = os.path.join(s.saves_folder, 'gif')\n",
    "print(['s.{}'.format(fn) for fn in dir(s) if not fn.startswith('_')])\n",
    "dir()"
   ]
  },
  {
   "cell_type": "code",
   "execution_count": null,
   "metadata": {},
   "outputs": [],
   "source": [
    "\n",
    "def create_reverse_gif(file_path):\n",
    "    vid = imageio.get_reader(file_path, 'ffmpeg')\n",
    "    \n",
    "    # Get image count\n",
    "    meta_data_dict = vid.get_meta_data()\n",
    "    image_count = vid.get_length()\n",
    "    if image_count == np.inf:\n",
    "        image_count = int(meta_data_dict['fps'] * meta_data_dict['duration'])\n",
    "    \n",
    "    # Get images list\n",
    "    images_list = []\n",
    "    os.makedirs(name=gif_dir, exist_ok=True)\n",
    "    for i in range(image_count-1, -1, -1):\n",
    "        mp4_img = vid.get_data(i)\n",
    "        images_list.append(mp4_img)\n",
    "    \n",
    "    # Save GIF\n",
    "    file_name = '{}.gif'.format('.'.join(file_path.split(os.sep)[-1].split('.')[:-1]))\n",
    "    file_path = os.path.join(gif_dir, file_name)\n",
    "    imageio.mimsave(file_path, images_list)\n",
    "    \n",
    "    !start %windir%\\explorer.exe \"{os.path.abspath(gif_dir)}\""
   ]
  },
  {
   "cell_type": "code",
   "execution_count": 7,
   "metadata": {},
   "outputs": [],
   "source": [
    "\n",
    "file_path = r'C:\\Users\\577342\\Downloads\\Goodbye_Mr_Conway.mp4'\n",
    "create_reverse_gif(file_path)"
   ]
  },
  {
   "cell_type": "code",
   "execution_count": null,
   "metadata": {},
   "outputs": [],
   "source": [
    "\n",
    "file_path = os.path.join(mp4_dir, 'butter.mp4')\n",
    "create_reverse_gif(file_path)"
   ]
  },
  {
   "cell_type": "code",
   "execution_count": null,
   "metadata": {},
   "outputs": [],
   "source": []
  }
 ],
 "metadata": {
  "kernelspec": {
   "display_name": "Python 3",
   "language": "python",
   "name": "python3"
  },
  "language_info": {
   "codemirror_mode": {
    "name": "ipython",
    "version": 3
   },
   "file_extension": ".py",
   "mimetype": "text/x-python",
   "name": "python",
   "nbconvert_exporter": "python",
   "pygments_lexer": "ipython3",
   "version": "3.7.7"
  }
 },
 "nbformat": 4,
 "nbformat_minor": 4
}
