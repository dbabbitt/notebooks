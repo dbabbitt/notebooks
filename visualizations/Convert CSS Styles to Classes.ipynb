{
 "cells": [
  {
   "cell_type": "code",
   "execution_count": 1,
   "id": "5288c015-8ade-49ed-aaaa-8cc451d6836b",
   "metadata": {},
   "outputs": [
    {
     "name": "stdout",
     "output_type": "stream",
     "text": [
      "Pretty printing has been turned OFF\n",
      "['nu.get_page_soup']\n"
     ]
    }
   ],
   "source": [
    "\n",
    "import os.path as osp\n",
    "shared_folder = osp.abspath(osp.join('..', '..', 'share'))\n",
    "import sys\n",
    "if shared_folder not in sys.path: sys.path.insert(1, shared_folder)\n",
    "from notebook_utils import NotebookUtilities\n",
    "nu = NotebookUtilities(\n",
    "    data_folder_path=osp.abspath(osp.join('..', 'data')),\n",
    "    saves_folder_path=osp.abspath(osp.join('..', 'saves'))\n",
    ")\n",
    "\n",
    "# Import needed libraries\n",
    "%pprint\n",
    "%matplotlib inline\n",
    "\n",
    "executable_path = sys.executable; scripts_folder = osp.join(osp.dirname(executable_path), 'Scripts')\n",
    "py_folder = osp.abspath(osp.join('..', 'py'))\n",
    "if (scripts_folder not in sys.path): sys.path.insert(1, scripts_folder)\n",
    "if (py_folder not in sys.path): sys.path.insert(1, py_folder)\n",
    "\n",
    "print([f'nu.{fn}' for fn in dir(nu) if 'soup' in fn])\n",
    "\n",
    "import os\n",
    "from pandas import DataFrame, Series\n",
    "import re"
   ]
  },
  {
   "cell_type": "code",
   "execution_count": 2,
   "id": "adf729d2-7459-43e1-8af9-0dfa0eeef1b3",
   "metadata": {},
   "outputs": [],
   "source": [
    "\n",
    "import numpy as np\n",
    "import matplotlib.pyplot as plt\n",
    "from sklearn.decomposition import PCA\n",
    "from sklearn.feature_extraction.text import CountVectorizer\n",
    "from sklearn.cluster import KMeans\n",
    "from sklearn.preprocessing import LabelEncoder\n",
    "from collections import defaultdict\n",
    "import pandas as pd\n",
    "from sklearn.tree import DecisionTreeClassifier, export_text\n",
    "from sklearn.preprocessing import MultiLabelBinarizer"
   ]
  },
  {
   "cell_type": "markdown",
   "id": "06617ec3-0a9b-4946-948d-1885012ddb10",
   "metadata": {},
   "source": [
    "\n",
    "## Step 1: Load whatever CSS properties are left in the &lt;style&gt; tags in the SVG"
   ]
  },
  {
   "cell_type": "code",
   "execution_count": 4,
   "id": "e71c4b0b-77ed-497e-a2ad-1f2cb782be32",
   "metadata": {},
   "outputs": [],
   "source": [
    "\n",
    "file_path = osp.abspath('../data/svg/scratchpad.svg')\n",
    "# file_path = osp.abspath(r'C:\\Users\\daveb\\OneDrive\\Pictures\\Memes\\Demopublicans_switching_corners.svg')\n",
    "page_soup = nu.get_page_soup(file_path)\n",
    "styles = []\n",
    "labels = []\n",
    "for tag in page_soup.find_all(attrs={\"style\": True, 'id': True}):\n",
    "    \n",
    "    # List of CSS styles\n",
    "    tag_set = set([css_style.strip() for css_style in tag.get('style', '').split(';') if css_style.strip()])\n",
    "    styles.append(tag_set)\n",
    "    \n",
    "    # List of style identifiers\n",
    "    tag_id = tag.get('id', '').strip()\n",
    "    labels.append(tag_id)\n",
    "\n",
    "# Assertion to check if the lengths of both lists are equal\n",
    "assert len(styles) == len(labels), 'You need to figure out why your search results for style=\"[^\"]+\" don\\'t match up'\n",
    "assert labels, \"You need some labels to work with\""
   ]
  },
  {
   "cell_type": "markdown",
   "id": "26cd1612-189e-4c27-93ef-cd8a7e0c5513",
   "metadata": {},
   "source": [
    "\n",
    "----\n",
    "# Use a Decision Tree Classifier"
   ]
  },
  {
   "cell_type": "markdown",
   "id": "dae60625-80f5-4b13-8370-d63146392b6e",
   "metadata": {},
   "source": [
    "\n",
    "## Step 2: Prepare the data"
   ]
  },
  {
   "cell_type": "code",
   "execution_count": 166,
   "id": "5b46224b-b0e3-401f-bc0f-4021bc140175",
   "metadata": {},
   "outputs": [
    {
     "data": {
      "text/plain": [
       "array([], dtype=int64)"
      ]
     },
     "execution_count": 166,
     "metadata": {},
     "output_type": "execute_result"
    }
   ],
   "source": [
    "\n",
    "# Use MultiLabelBinarizer to one-hot encode the CSS properties\n",
    "mlb = MultiLabelBinarizer()\n",
    "X = mlb.fit_transform(styles)  # Features (one-hot encoded CSS properties)\n",
    "feature_names = mlb.classes_  # CSS property names\n",
    "\n",
    "# Create a target variable (y) for classification: encode the labels as integers\n",
    "# y, string_to_integer_map = nu.convert_strings_to_integers(labels)\n",
    "label_encoder = LabelEncoder()\n",
    "y = label_encoder.fit_transform(labels)"
   ]
  },
  {
   "cell_type": "markdown",
   "id": "cc096ca6-dad5-4700-9530-db01202a3349",
   "metadata": {},
   "source": [
    "\n",
    "## Step 3: Train the Decision Tree Classifier"
   ]
  },
  {
   "cell_type": "code",
   "execution_count": null,
   "id": "c9c9ce88-8c8c-4548-b2ad-e45f612e147e",
   "metadata": {},
   "outputs": [],
   "source": [
    "\n",
    "# Train the Decision Tree Classifier\n",
    "clf = DecisionTreeClassifier(criterion=\"entropy\", random_state=42)\n",
    "clf.fit(X, y)\n",
    "\n",
    "# Rename the classes as labels\n",
    "# integer_to_string_map = {v: k for k, v in string_to_integer_map.items()}\n",
    "# clf.classes_ = np.array([integer_to_string_map[i] for i in clf.classes_])\n",
    "clf.classes_ = np.array(labels)"
   ]
  },
  {
   "cell_type": "markdown",
   "id": "b6f25c19-9d21-4c99-83e0-c3703926a881",
   "metadata": {},
   "source": [
    "\n",
    "## Step 4: Create a class of the CSS properties that always appear along side the Most Important Feature"
   ]
  },
  {
   "cell_type": "code",
   "execution_count": null,
   "id": "fbf74b1a-9a69-4cdc-9eef-399f0f0281a6",
   "metadata": {},
   "outputs": [],
   "source": [
    "\n",
    "# Get the most important feature\n",
    "important_feature = max([(feature_name, importance) for feature_name, importance in zip(feature_names, clf.feature_importances_)], key=lambda x: x[1])[0]\n",
    "\n",
    "# Get the columns\n",
    "df = DataFrame(X, columns=feature_names, index=labels)\n",
    "mask_series = (df[important_feature] == 1)\n",
    "srs = df[mask_series].sum()\n",
    "max_count = srs.max() # Assume here that important_feature is among those features that have max count\n",
    "mask_series = (srs == max_count)\n",
    "columns_list = srs[mask_series].index.tolist()"
   ]
  },
  {
   "cell_type": "code",
   "execution_count": null,
   "id": "e5827865-1414-46d7-914a-89495b7929a1",
   "metadata": {},
   "outputs": [],
   "source": [
    "\n",
    "# Print out what goes in the <style> tag\n",
    "print()\n",
    "print('      .most-important-style {')\n",
    "for cn in columns_list:\n",
    "    print(f\"\"\"        {cn.replace(':', ': ')};\"\"\")\n",
    "print('      }')\n",
    "\n",
    "# Get the indices\n",
    "mask_series = True\n",
    "for cn in columns_list:\n",
    "    mask_series &= (df[cn] == 1)\n",
    "indices_list = df[mask_series].index.tolist()\n",
    "\n",
    "# Print out the class name and the regex to find the IDs\n",
    "print()\n",
    "labels_str = '|'.join(sorted(indices_list))\n",
    "print(r'id=\"(' + labels_str + r')\"')\n",
    "print()\n",
    "print('class=\"most-important-style\"')\n",
    "\n",
    "# Print out the delete-able CSS properties regex\n",
    "print()\n",
    "props_str = '|'.join([re.sub(r\"([]\\[{}()*+?.\\\\^$|])\", r\"\\\\\\g<1>\", cn) for cn in sorted(columns_list)])\n",
    "print(r'(' + props_str + r');?')"
   ]
  },
  {
   "cell_type": "markdown",
   "id": "b0edd1b6-a69b-4d6c-9892-96889617926b",
   "metadata": {},
   "source": [
    "\n",
    "## Bonus: Output the decision tree as text"
   ]
  },
  {
   "cell_type": "code",
   "execution_count": 7,
   "id": "384b2cb0-8c8c-4b49-980f-81daa52948b2",
   "metadata": {},
   "outputs": [
    {
     "data": {
      "text/plain": [
       "['color:#000000', 'display:inline', 'fill-opacity:0.75', 'fill-opacity:1', 'fill-rule:evenodd', 'fill-rule:nonzero', 'fill:#000000', 'fill:#2e3436', 'fill:#eeeeec', 'fill:#ffffff', 'fill:none', 'fill:url(#aigrd2-2)', 'fill:url(#linearGradient2132)', 'fill:url(#linearGradient2289)', 'fill:url(#linearGradient2343)', 'fill:url(#linearGradient2347)', 'fill:url(#linearGradient7678)', 'fill:url(#linearGradient7684)', 'fill:url(#linearGradient7686)', 'fill:url(#linearGradient7688)', 'fill:url(#radialGradient2297)', 'fill:url(#radialGradient2714)', 'fill:url(#radialGradient2714-0)', 'fill:url(#radialGradient3279)', 'fill:url(#radialGradient7780-8)', 'fill:url(#radialGradient7786-4)', 'fill:url(#radialGradient7790-7)', 'fill:url(#radialGradient7796-9)', 'marker-end:none', 'marker-mid:none', 'marker-start:none', 'marker:none', 'opacity:0.17525802', 'opacity:0.18181817', 'opacity:0.18539303', 'opacity:0.28089899', 'opacity:0.36000001', 'opacity:0.427778', 'opacity:0.43181823', 'opacity:0.5', 'opacity:0.52777866', 'opacity:0.64772728', 'opacity:0.67721522', 'opacity:1', 'overflow:visible', 'stop-color:#000000', 'stop-color:#730000', 'stop-color:#777777', 'stop-color:#be0000', 'stop-color:#c84a00', 'stop-color:#cc0000', 'stop-color:#cccccc', 'stop-color:#cecece', 'stop-color:#f2d565', 'stop-color:#f6e76a', 'stop-color:#ff0202', 'stop-color:#ffa107', 'stop-color:#ffb738', 'stop-color:#ffd93c', 'stop-color:#fffcde', 'stop-color:#ffffff', 'stop-opacity:0', 'stop-opacity:1', 'stop-opacity:1.0000000', 'stroke-dasharray:none', 'stroke-dashoffset:0', 'stroke-linecap:butt', 'stroke-linecap:round', 'stroke-linecap:square', 'stroke-linejoin:miter', 'stroke-linejoin:round', 'stroke-miterlimit:10', 'stroke-miterlimit:4', 'stroke-opacity:1', 'stroke-width:0.2', 'stroke-width:0.48004404', 'stroke-width:0.50510627', 'stroke-width:0.85807502', 'stroke-width:0.99999946', 'stroke-width:0.99999988', 'stroke-width:0.99999988px', 'stroke-width:0.99999994', 'stroke-width:1', 'stroke-width:1.00000012', 'stroke-width:1.00000024px', 'stroke-width:1.00000048px', 'stroke-width:1.0000006', 'stroke-width:1.287112', 'stroke-width:1.28711295', 'stroke-width:2.09155798', 'stroke:#000000', 'stroke:#2e3436', 'stroke:#673907', 'stroke:#888a85', 'stroke:#9c8c0a', 'stroke:#a40000', 'stroke:#ffffff', 'stroke:none', 'stroke:url(#linearGradient2112)', 'stroke:url(#linearGradient2116)', 'stroke:url(#linearGradient2120)', 'stroke:url(#linearGradient2317)', 'stroke:url(#linearGradient2325)', 'stroke:url(#linearGradient2327)', 'stroke:url(#linearGradient7680)', 'stroke:url(#linearGradient7682)', 'visibility:visible']"
      ]
     },
     "execution_count": 7,
     "metadata": {},
     "output_type": "execute_result"
    }
   ],
   "source": [
    "\n",
    "sorted(set.union(*styles))"
   ]
  },
  {
   "cell_type": "code",
   "execution_count": 8,
   "id": "27251adb-da9a-4743-9cee-fb33c4ea34a4",
   "metadata": {},
   "outputs": [
    {
     "name": "stdout",
     "output_type": "stream",
     "text": [
      "Decision Tree Rules:\n",
      "|--- color:#000000 <= 0.50\n",
      "|   |--- stroke-miterlimit:4 <= 0.50\n",
      "|   |   |--- stop-opacity:1.0000000 <= 0.50\n",
      "|   |   |   |--- stop-opacity:1 <= 0.50\n",
      "|   |   |   |   |--- stroke-linecap:square <= 0.50\n",
      "|   |   |   |   |   |--- opacity:0.5 <= 0.50\n",
      "|   |   |   |   |   |   |--- stop-opacity:0 <= 0.50\n",
      "|   |   |   |   |   |   |   |--- display:inline <= 0.50\n",
      "|   |   |   |   |   |   |   |   |--- class: path8616-4\n",
      "|   |   |   |   |   |   |   |--- display:inline >  0.50\n",
      "|   |   |   |   |   |   |   |   |--- class: stop3296\n",
      "|   |   |   |   |   |   |--- stop-opacity:0 >  0.50\n",
      "|   |   |   |   |   |   |   |--- stop-color:#f2d565 <= 0.50\n",
      "|   |   |   |   |   |   |   |   |--- class: path2096-4\n",
      "|   |   |   |   |   |   |   |--- stop-color:#f2d565 >  0.50\n",
      "|   |   |   |   |   |   |   |   |--- class: path2114\n",
      "|   |   |   |   |   |--- opacity:0.5 >  0.50\n",
      "|   |   |   |   |   |   |--- class: stop3292\n",
      "|   |   |   |   |--- stroke-linecap:square >  0.50\n",
      "|   |   |   |   |   |--- stroke-width:0.99999988px <= 0.50\n",
      "|   |   |   |   |   |   |--- stroke:url(#linearGradient2120) <= 0.50\n",
      "|   |   |   |   |   |   |   |--- class: stop2321\n",
      "|   |   |   |   |   |   |--- stroke:url(#linearGradient2120) >  0.50\n",
      "|   |   |   |   |   |   |   |--- class: stop2323\n",
      "|   |   |   |   |   |--- stroke-width:0.99999988px >  0.50\n",
      "|   |   |   |   |   |   |--- class: stop2295\n",
      "|   |   |   |--- stop-opacity:1 >  0.50\n",
      "|   |   |   |   |--- stop-color:#cc0000 <= 0.50\n",
      "|   |   |   |   |   |--- stop-color:#f2d565 <= 0.50\n",
      "|   |   |   |   |   |   |--- stop-color:#ffd93c <= 0.50\n",
      "|   |   |   |   |   |   |   |--- stop-color:#c84a00 <= 0.50\n",
      "|   |   |   |   |   |   |   |   |--- stop-color:#be0000 <= 0.50\n",
      "|   |   |   |   |   |   |   |   |   |--- stop-color:#730000 <= 0.50\n",
      "|   |   |   |   |   |   |   |   |   |   |--- stop-color:#ff0202 <= 0.50\n",
      "|   |   |   |   |   |   |   |   |   |   |   |--- class: path4322-0\n",
      "|   |   |   |   |   |   |   |   |   |   |--- stop-color:#ff0202 >  0.50\n",
      "|   |   |   |   |   |   |   |   |   |   |   |--- class: path4320-7\n",
      "|   |   |   |   |   |   |   |   |   |--- stop-color:#730000 >  0.50\n",
      "|   |   |   |   |   |   |   |   |   |   |--- class: path2281\n",
      "|   |   |   |   |   |   |   |   |--- stop-color:#be0000 >  0.50\n",
      "|   |   |   |   |   |   |   |   |   |--- class: path2756\n",
      "|   |   |   |   |   |   |   |--- stop-color:#c84a00 >  0.50\n",
      "|   |   |   |   |   |   |   |   |--- class: path2276\n",
      "|   |   |   |   |   |   |--- stop-color:#ffd93c >  0.50\n",
      "|   |   |   |   |   |   |   |--- class: path2094\n",
      "|   |   |   |   |   |--- stop-color:#f2d565 >  0.50\n",
      "|   |   |   |   |   |   |--- class: path2110-2\n",
      "|   |   |   |   |--- stop-color:#cc0000 >  0.50\n",
      "|   |   |   |   |   |--- class: path1364\n",
      "|   |   |--- stop-opacity:1.0000000 >  0.50\n",
      "|   |   |   |--- stop-color:#777777 <= 0.50\n",
      "|   |   |   |   |--- stop-color:#ffffff <= 0.50\n",
      "|   |   |   |   |   |--- stop-color:#cecece <= 0.50\n",
      "|   |   |   |   |   |   |--- stop-color:#ffb738 <= 0.50\n",
      "|   |   |   |   |   |   |   |--- stop-color:#fffcde <= 0.50\n",
      "|   |   |   |   |   |   |   |   |--- stop-color:#f6e76a <= 0.50\n",
      "|   |   |   |   |   |   |   |   |   |--- class: path2279\n",
      "|   |   |   |   |   |   |   |   |--- stop-color:#f6e76a >  0.50\n",
      "|   |   |   |   |   |   |   |   |   |--- class: path4322-2\n",
      "|   |   |   |   |   |   |   |--- stop-color:#fffcde >  0.50\n",
      "|   |   |   |   |   |   |   |   |--- class: path4320-4\n",
      "|   |   |   |   |   |   |--- stop-color:#ffb738 >  0.50\n",
      "|   |   |   |   |   |   |   |--- class: path2659-4\n",
      "|   |   |   |   |   |--- stop-color:#cecece >  0.50\n",
      "|   |   |   |   |   |   |--- class: path2299\n",
      "|   |   |   |   |--- stop-color:#ffffff >  0.50\n",
      "|   |   |   |   |   |--- class: path2301\n",
      "|   |   |   |--- stop-color:#777777 >  0.50\n",
      "|   |   |   |   |--- class: path8606-1\n",
      "|   |--- stroke-miterlimit:4 >  0.50\n",
      "|   |   |--- fill:#ffffff <= 0.50\n",
      "|   |   |   |--- fill:#000000 <= 0.50\n",
      "|   |   |   |   |--- fill-opacity:1 <= 0.50\n",
      "|   |   |   |   |   |--- fill:url(#aigrd2-2) <= 0.50\n",
      "|   |   |   |   |   |   |--- class: path4322\n",
      "|   |   |   |   |   |--- fill:url(#aigrd2-2) >  0.50\n",
      "|   |   |   |   |   |   |--- class: path4320\n",
      "|   |   |   |   |--- fill-opacity:1 >  0.50\n",
      "|   |   |   |   |   |--- class: stop8604-1\n",
      "|   |   |   |--- fill:#000000 >  0.50\n",
      "|   |   |   |   |--- class: path8612\n",
      "|   |   |--- fill:#ffffff >  0.50\n",
      "|   |   |   |--- class: path2659-9\n",
      "|--- color:#000000 >  0.50\n",
      "|   |--- stroke-linecap:round <= 0.50\n",
      "|   |   |--- overflow:visible <= 0.50\n",
      "|   |   |   |--- stroke-width:1.287112 <= 0.50\n",
      "|   |   |   |   |--- fill:#ffffff <= 0.50\n",
      "|   |   |   |   |   |--- fill:none <= 0.50\n",
      "|   |   |   |   |   |   |--- fill:url(#radialGradient7790-7) <= 0.50\n",
      "|   |   |   |   |   |   |   |--- stroke:#000000 <= 0.50\n",
      "|   |   |   |   |   |   |   |   |--- class: path6937-85-4\n",
      "|   |   |   |   |   |   |   |--- stroke:#000000 >  0.50\n",
      "|   |   |   |   |   |   |   |   |--- class: path6476-6-5\n",
      "|   |   |   |   |   |   |--- fill:url(#radialGradient7790-7) >  0.50\n",
      "|   |   |   |   |   |   |   |--- class: path6462-26-8\n",
      "|   |   |   |   |   |--- fill:none >  0.50\n",
      "|   |   |   |   |   |   |--- class: path6446-61-1\n",
      "|   |   |   |   |--- fill:#ffffff >  0.50\n",
      "|   |   |   |   |   |--- class: path6450-92-4\n",
      "|   |   |   |--- stroke-width:1.287112 >  0.50\n",
      "|   |   |   |   |--- stroke:#000000 <= 0.50\n",
      "|   |   |   |   |   |--- fill:url(#radialGradient7780-8) <= 0.50\n",
      "|   |   |   |   |   |   |--- fill:#eeeeec <= 0.50\n",
      "|   |   |   |   |   |   |   |--- class: path4219-2\n",
      "|   |   |   |   |   |   |--- fill:#eeeeec >  0.50\n",
      "|   |   |   |   |   |   |   |--- class: path6460-1-2\n",
      "|   |   |   |   |   |--- fill:url(#radialGradient7780-8) >  0.50\n",
      "|   |   |   |   |   |   |--- class: path8520-9-1\n",
      "|   |   |   |   |--- stroke:#000000 >  0.50\n",
      "|   |   |   |   |   |--- fill:url(#radialGradient7786-4) <= 0.50\n",
      "|   |   |   |   |   |   |--- class: path6464-8-7\n",
      "|   |   |   |   |   |--- fill:url(#radialGradient7786-4) >  0.50\n",
      "|   |   |   |   |   |   |--- class: path5198-2-2\n",
      "|   |   |--- overflow:visible >  0.50\n",
      "|   |   |   |--- opacity:0.36000001 <= 0.50\n",
      "|   |   |   |   |--- stroke-width:1.00000012 <= 0.50\n",
      "|   |   |   |   |   |--- fill:#000000 <= 0.50\n",
      "|   |   |   |   |   |   |--- class: stop2313\n",
      "|   |   |   |   |   |--- fill:#000000 >  0.50\n",
      "|   |   |   |   |   |   |--- class: stop8602-03\n",
      "|   |   |   |   |--- stroke-width:1.00000012 >  0.50\n",
      "|   |   |   |   |   |--- class: stop2293\n",
      "|   |   |   |--- opacity:0.36000001 >  0.50\n",
      "|   |   |   |   |--- class: stop2345\n",
      "|   |--- stroke-linecap:round >  0.50\n",
      "|   |   |--- stroke-dasharray:none <= 0.50\n",
      "|   |   |   |--- stroke-width:1.28711295 <= 0.50\n",
      "|   |   |   |   |--- fill-rule:evenodd <= 0.50\n",
      "|   |   |   |   |   |--- opacity:0.52777866 <= 0.50\n",
      "|   |   |   |   |   |   |--- opacity:0.427778 <= 0.50\n",
      "|   |   |   |   |   |   |   |--- class: path6935-7-6\n",
      "|   |   |   |   |   |   |--- opacity:0.427778 >  0.50\n",
      "|   |   |   |   |   |   |   |--- class: stop2285\n",
      "|   |   |   |   |   |--- opacity:0.52777866 >  0.50\n",
      "|   |   |   |   |   |   |--- class: path1571-1-6\n",
      "|   |   |   |   |--- fill-rule:evenodd >  0.50\n",
      "|   |   |   |   |   |--- stroke:#a40000 <= 0.50\n",
      "|   |   |   |   |   |   |--- class: stop3072\n",
      "|   |   |   |   |   |--- stroke:#a40000 >  0.50\n",
      "|   |   |   |   |   |   |--- class: stop3070\n",
      "|   |   |   |--- stroke-width:1.28711295 >  0.50\n",
      "|   |   |   |   |--- stroke:#673907 <= 0.50\n",
      "|   |   |   |   |   |--- stroke:#ffffff <= 0.50\n",
      "|   |   |   |   |   |   |--- class: path6933-90-2\n",
      "|   |   |   |   |   |--- stroke:#ffffff >  0.50\n",
      "|   |   |   |   |   |   |--- class: stop2315\n",
      "|   |   |   |   |--- stroke:#673907 >  0.50\n",
      "|   |   |   |   |   |--- class: path6971-7-6\n",
      "|   |   |--- stroke-dasharray:none >  0.50\n",
      "|   |   |   |--- fill:none <= 0.50\n",
      "|   |   |   |   |--- stroke:#a40000 <= 0.50\n",
      "|   |   |   |   |   |--- fill:url(#radialGradient2714-0) <= 0.50\n",
      "|   |   |   |   |   |   |--- fill:url(#linearGradient2289) <= 0.50\n",
      "|   |   |   |   |   |   |   |--- class: stop8602-0\n",
      "|   |   |   |   |   |   |--- fill:url(#linearGradient2289) >  0.50\n",
      "|   |   |   |   |   |   |   |--- class: stop3078\n",
      "|   |   |   |   |   |--- fill:url(#radialGradient2714-0) >  0.50\n",
      "|   |   |   |   |   |   |--- class: stop8604-4\n",
      "|   |   |   |   |--- stroke:#a40000 >  0.50\n",
      "|   |   |   |   |   |--- stroke-width:0.48004404 <= 0.50\n",
      "|   |   |   |   |   |   |--- class: stop3076\n",
      "|   |   |   |   |   |--- stroke-width:0.48004404 >  0.50\n",
      "|   |   |   |   |   |   |--- class: preferences\n",
      "|   |   |   |--- fill:none >  0.50\n",
      "|   |   |   |   |--- opacity:0.67721522 <= 0.50\n",
      "|   |   |   |   |   |--- stroke-width:0.99999946 <= 0.50\n",
      "|   |   |   |   |   |   |--- class: path4323-2-9\n",
      "|   |   |   |   |   |--- stroke-width:0.99999946 >  0.50\n",
      "|   |   |   |   |   |   |--- class: stop2339\n",
      "|   |   |   |   |--- opacity:0.67721522 >  0.50\n",
      "|   |   |   |   |   |--- class: gimp-prefs-icon-theme\n",
      "\n"
     ]
    }
   ],
   "source": [
    "\n",
    "# Ensure feature_names is a list of strings\n",
    "feature_names = list(feature_names)\n",
    "assert X.shape[1] == len(feature_names), \"Number of features in X does not match the number of feature names\"\n",
    "\n",
    "# Output the decision tree as text\n",
    "tree_rules = export_text(clf, feature_names=feature_names)\n",
    "print(\"Decision Tree Rules:\")\n",
    "print(tree_rules)"
   ]
  },
  {
   "cell_type": "code",
   "execution_count": 9,
   "id": "edbd6a06-b04f-4353-87b5-b319795d4701",
   "metadata": {
    "scrolled": true
   },
   "outputs": [
    {
     "data": {
      "text/html": [
       "<div>\n",
       "<style scoped>\n",
       "    .dataframe tbody tr th:only-of-type {\n",
       "        vertical-align: middle;\n",
       "    }\n",
       "\n",
       "    .dataframe tbody tr th {\n",
       "        vertical-align: top;\n",
       "    }\n",
       "\n",
       "    .dataframe thead th {\n",
       "        text-align: right;\n",
       "    }\n",
       "</style>\n",
       "<table border=\"1\" class=\"dataframe\">\n",
       "  <thead>\n",
       "    <tr style=\"text-align: right;\">\n",
       "      <th></th>\n",
       "      <th>css_property</th>\n",
       "      <th>occurences</th>\n",
       "    </tr>\n",
       "  </thead>\n",
       "  <tbody>\n",
       "    <tr>\n",
       "      <th>21</th>\n",
       "      <td>color:#000000</td>\n",
       "      <td>34</td>\n",
       "    </tr>\n",
       "    <tr>\n",
       "      <th>24</th>\n",
       "      <td>fill-rule:evenodd</td>\n",
       "      <td>27</td>\n",
       "    </tr>\n",
       "    <tr>\n",
       "      <th>65</th>\n",
       "      <td>stroke-miterlimit:4</td>\n",
       "      <td>26</td>\n",
       "    </tr>\n",
       "    <tr>\n",
       "      <th>59</th>\n",
       "      <td>stroke-opacity:1</td>\n",
       "      <td>21</td>\n",
       "    </tr>\n",
       "    <tr>\n",
       "      <th>63</th>\n",
       "      <td>stroke-dashoffset:0</td>\n",
       "      <td>18</td>\n",
       "    </tr>\n",
       "    <tr>\n",
       "      <th>19</th>\n",
       "      <td>display:inline</td>\n",
       "      <td>18</td>\n",
       "    </tr>\n",
       "    <tr>\n",
       "      <th>54</th>\n",
       "      <td>fill-opacity:1</td>\n",
       "      <td>18</td>\n",
       "    </tr>\n",
       "    <tr>\n",
       "      <th>42</th>\n",
       "      <td>stroke-linecap:round</td>\n",
       "      <td>17</td>\n",
       "    </tr>\n",
       "    <tr>\n",
       "      <th>58</th>\n",
       "      <td>visibility:visible</td>\n",
       "      <td>16</td>\n",
       "    </tr>\n",
       "    <tr>\n",
       "      <th>61</th>\n",
       "      <td>marker-start:none</td>\n",
       "      <td>16</td>\n",
       "    </tr>\n",
       "  </tbody>\n",
       "</table>\n",
       "</div>"
      ],
      "text/plain": [
       "            css_property  occurences\n",
       "21         color:#000000          34\n",
       "24     fill-rule:evenodd          27\n",
       "65   stroke-miterlimit:4          26\n",
       "59      stroke-opacity:1          21\n",
       "63   stroke-dashoffset:0          18\n",
       "19        display:inline          18\n",
       "54        fill-opacity:1          18\n",
       "42  stroke-linecap:round          17\n",
       "58    visibility:visible          16\n",
       "61     marker-start:none          16"
      ]
     },
     "execution_count": 9,
     "metadata": {},
     "output_type": "execute_result"
    }
   ],
   "source": [
    "\n",
    "# Check out the highest occurences\n",
    "from collections import Counter\n",
    "\n",
    "# Flatten all CSS properties into a single list\n",
    "all_properties = [prop for style_set in styles for prop in style_set]\n",
    "\n",
    "# Count the occurrences of each CSS property\n",
    "property_counts = Counter(all_properties)\n",
    "\n",
    "# Sort them in a data frame\n",
    "df = DataFrame([{'css_property': prop, 'occurences': count} for prop, count in property_counts.items()])\n",
    "df.sort_values('occurences', ascending=False).head(10)"
   ]
  },
  {
   "cell_type": "markdown",
   "id": "e6d6dac3-6ae7-4ea2-acae-3c4c2cba897b",
   "metadata": {},
   "source": [
    "\n",
    "----\n",
    "# Use Market Basket Analysis on the class attributes to see if any can be combined"
   ]
  },
  {
   "cell_type": "markdown",
   "id": "f5a75bf4-2496-4846-ab1f-9480e857203c",
   "metadata": {},
   "source": [
    "\n",
    "## Step 1: Load whatever classes are in the `class=` attributes in the SVG"
   ]
  },
  {
   "cell_type": "code",
   "execution_count": 6,
   "id": "8ab71ac8-9c4e-4045-9734-a2b348d35c71",
   "metadata": {},
   "outputs": [],
   "source": [
    "\n",
    "# file_path = osp.abspath('../data/svg/scratchpad.svg')\n",
    "file_path = osp.abspath(r'C:\\Users\\daveb\\OneDrive\\Pictures\\Memes\\Demopublicans_switching_corners.svg')\n",
    "page_soup = nu.get_page_soup(file_path)\n",
    "class_attributes_list = []\n",
    "for tag in page_soup.find_all(attrs={\"class\": True}):\n",
    "    \n",
    "    # List of CSS class_attributes_list\n",
    "    tag_set = set(tag.get('class', []))\n",
    "    class_attributes_list.append(tag_set)\n",
    "\n",
    "# Assertion to check if the length of the class_attributes_list lists is greater than zero\n",
    "assert class_attributes_list, \"You need some class_attributes_list to work with\""
   ]
  },
  {
   "cell_type": "code",
   "execution_count": 26,
   "id": "0f50df9a-40ca-47e3-b20a-4854c336bb38",
   "metadata": {},
   "outputs": [],
   "source": [
    "\n",
    "from mlxtend.frequent_patterns import apriori, association_rules\n",
    "from mlxtend.preprocessing import TransactionEncoder\n",
    "\n",
    "def analyze_class_combinations(class_attributes_list, min_support=0.1, min_confidence=0.5):\n",
    "    \"\"\"\n",
    "    Perform Market Basket Analysis on CSS class attributes to find frequent combinations.\n",
    "\n",
    "    Args:\n",
    "        class_attributes_list (list of sets): A list of sets, where each set contains CSS class attributes.\n",
    "        min_support (float): The minimum support threshold for frequent itemsets.\n",
    "        min_confidence (float): The minimum confidence threshold for association rules.\n",
    "\n",
    "    Returns:\n",
    "        dict: A dictionary containing:\n",
    "            - 'frequent_itemsets': A DataFrame of frequent itemsets with their support values.\n",
    "            - 'association_rules': A DataFrame of association rules with their metrics (confidence, lift, etc.).\n",
    "    \"\"\"\n",
    "    # Validate the input\n",
    "    if not class_attributes_list or not all(isinstance(item, set) for item in class_attributes_list):\n",
    "        raise ValueError(\"Input must be a non-empty list of sets containing CSS class attributes.\")\n",
    "    \n",
    "    # Encode the transactional data into a one-hot DataFrame\n",
    "    te = TransactionEncoder()\n",
    "    te_ary = te.fit(class_attributes_list).transform(class_attributes_list)\n",
    "    df = pd.DataFrame(te_ary, columns=te.columns_)\n",
    "    \n",
    "    # Find frequent itemsets using the Apriori algorithm\n",
    "    frequent_itemsets = apriori(df, min_support=min_support, use_colnames=True)\n",
    "    \n",
    "    # Generate association rules from the frequent itemsets\n",
    "    rules = association_rules(\n",
    "        frequent_itemsets,\n",
    "        metric=\"confidence\",\n",
    "        min_threshold=min_confidence,\n",
    "        num_itemsets=len(frequent_itemsets)\n",
    "    )\n",
    "    \n",
    "    return frequent_itemsets, rules\n",
    "\n",
    "frequent_itemsets_df, association_rules_df = analyze_class_combinations(class_attributes_list, min_support=0.01, min_confidence=0.01)"
   ]
  },
  {
   "cell_type": "code",
   "execution_count": 27,
   "id": "b6518f2b-da7b-405f-99fc-3193aaa55c06",
   "metadata": {},
   "outputs": [
    {
     "name": "stdout",
     "output_type": "stream",
     "text": [
      "Frequent Itemsets:\n"
     ]
    },
    {
     "data": {
      "text/html": [
       "<div>\n",
       "<style scoped>\n",
       "    .dataframe tbody tr th:only-of-type {\n",
       "        vertical-align: middle;\n",
       "    }\n",
       "\n",
       "    .dataframe tbody tr th {\n",
       "        vertical-align: top;\n",
       "    }\n",
       "\n",
       "    .dataframe thead th {\n",
       "        text-align: right;\n",
       "    }\n",
       "</style>\n",
       "<table border=\"1\" class=\"dataframe\">\n",
       "  <thead>\n",
       "    <tr style=\"text-align: right;\">\n",
       "      <th></th>\n",
       "      <th>support</th>\n",
       "      <th>itemsets</th>\n",
       "    </tr>\n",
       "  </thead>\n",
       "  <tbody>\n",
       "    <tr>\n",
       "      <th>2</th>\n",
       "      <td>0.222222</td>\n",
       "      <td>(candidate-font-style)</td>\n",
       "    </tr>\n",
       "    <tr>\n",
       "      <th>4</th>\n",
       "      <td>0.222222</td>\n",
       "      <td>(democrat-color-style)</td>\n",
       "    </tr>\n",
       "    <tr>\n",
       "      <th>13</th>\n",
       "      <td>0.222222</td>\n",
       "      <td>(republican-color-style)</td>\n",
       "    </tr>\n",
       "    <tr>\n",
       "      <th>17</th>\n",
       "      <td>0.222222</td>\n",
       "      <td>(year-font-style)</td>\n",
       "    </tr>\n",
       "    <tr>\n",
       "      <th>15</th>\n",
       "      <td>0.533333</td>\n",
       "      <td>(text-basics-style)</td>\n",
       "    </tr>\n",
       "  </tbody>\n",
       "</table>\n",
       "</div>"
      ],
      "text/plain": [
       "     support                  itemsets\n",
       "2   0.222222    (candidate-font-style)\n",
       "4   0.222222    (democrat-color-style)\n",
       "13  0.222222  (republican-color-style)\n",
       "17  0.222222         (year-font-style)\n",
       "15  0.533333       (text-basics-style)"
      ]
     },
     "metadata": {},
     "output_type": "display_data"
    }
   ],
   "source": [
    "\n",
    "print(\"Frequent Itemsets:\")\n",
    "display(frequent_itemsets_df.sort_values(['support', 'itemsets']).tail(5))"
   ]
  },
  {
   "cell_type": "markdown",
   "id": "30f1a22f-0b4b-44d7-ba30-ea8acec89293",
   "metadata": {},
   "source": [
    "\n",
    "When one class always appears with another (e.g., `A → B`), but not vice versa:\n",
    "- The confidence of the rule `A → B` will always be **1.0 (100%)**.\n",
    "- The confidence of the rule `B → A` will be **less than 1.0**, reflecting that `B` can appear without `A`.\n",
    "- The lift values will depend on the overall support of `A` and `B`. If one class (like `B`) is very frequent, the lift may be close to 1.0, indicating no strong association."
   ]
  },
  {
   "cell_type": "code",
   "execution_count": 36,
   "id": "281cfb2f-1bd0-41f2-a801-e39d4d2997c1",
   "metadata": {},
   "outputs": [
    {
     "name": "stdout",
     "output_type": "stream",
     "text": [
      "\n",
      "Association Rules:\n",
      "bold-font-style always appears with text-basics-style, but not vice versa\n",
      "candidate-font-style always appears with text-basics-style, but not vice versa\n",
      "dashed-axis-style always appears with figure-lines-style, but not vice versa\n",
      "dashed-axis-style always appears with guide-lines-style, but not vice versa\n",
      "democrat-color-style always appears with text-basics-style, but not vice versa\n",
      "democrat-lines-style always appears with figure-lines-style, but not vice versa\n",
      "democrat-lines-style always appears with plot-lines-style, but not vice versa\n",
      "guide-lines-style always appears with figure-lines-style, but not vice versa\n",
      "plot-lines-style always appears with figure-lines-style, but not vice versa\n",
      "republican-lines-style always appears with figure-lines-style, but not vice versa\n",
      "white-guides-style always appears with figure-lines-style, but not vice versa\n",
      "white-guides-style always appears with guide-lines-style, but not vice versa\n",
      "highlow-text-style always appears with text-basics-style, but not vice versa\n",
      "republican-lines-style always appears with plot-lines-style, but not vice versa\n",
      "republican-color-style always appears with text-basics-style, but not vice versa\n",
      "year-font-style always appears with text-basics-style, but not vice versa\n",
      "bold-font-style and highlow-text-style always appear with text-basics-style, but not vice versa\n",
      "democrat-color-style and candidate-font-style always appear with text-basics-style, but not vice versa\n",
      "republican-color-style and candidate-font-style always appear with text-basics-style, but not vice versa\n",
      "figure-lines-style and dashed-axis-style always appear with guide-lines-style, but not vice versa\n",
      "guide-lines-style and dashed-axis-style always appear with figure-lines-style, but not vice versa\n",
      "dashed-axis-style always appears with figure-lines-style and guide-lines-style, but not vice versa\n",
      "year-font-style and democrat-color-style always appear with text-basics-style, but not vice versa\n",
      "figure-lines-style and democrat-lines-style always appear with plot-lines-style, but not vice versa\n",
      "plot-lines-style and democrat-lines-style always appear with figure-lines-style, but not vice versa\n",
      "democrat-lines-style always appears with figure-lines-style and plot-lines-style, but not vice versa\n",
      "figure-lines-style and white-guides-style always appear with guide-lines-style, but not vice versa\n",
      "white-guides-style and guide-lines-style always appear with figure-lines-style, but not vice versa\n",
      "white-guides-style always appears with figure-lines-style and guide-lines-style, but not vice versa\n",
      "figure-lines-style and republican-lines-style always appear with plot-lines-style, but not vice versa\n",
      "plot-lines-style and republican-lines-style always appear with figure-lines-style, but not vice versa\n",
      "republican-lines-style always appears with figure-lines-style and plot-lines-style, but not vice versa\n",
      "year-font-style and republican-color-style always appear with text-basics-style, but not vice versa\n"
     ]
    }
   ],
   "source": [
    "\n",
    "print(\"\\nAssociation Rules:\")\n",
    "confidence_mask_series = (association_rules_df.confidence < 1.0)\n",
    "# display(association_rules_df[confidence_mask_series].T)\n",
    "mask_series = False\n",
    "for antecedents, consequents in zip(association_rules_df[confidence_mask_series].consequents, association_rules_df[confidence_mask_series].antecedents):\n",
    "    mask_series |= ((association_rules_df.antecedents == antecedents) & (association_rules_df.consequents == consequents))\n",
    "mask_series &= (association_rules_df.confidence == 1.0)\n",
    "# display(association_rules_df[mask_series].T)\n",
    "for antecedents, consequents in zip(association_rules_df[mask_series].antecedents, association_rules_df[mask_series].consequents):\n",
    "    print(f\"{nu.conjunctify_nouns(list(antecedents))} always appear{'' if len(antecedents) > 1 else 's'} with {nu.conjunctify_nouns(list(consequents))}, but not vice versa\")"
   ]
  },
  {
   "cell_type": "markdown",
   "id": "4b642683-459a-4cb8-9c43-f15eb8ae52d7",
   "metadata": {},
   "source": [
    "\n",
    "----\n",
    "# Try Clustering in Two Dimensions"
   ]
  },
  {
   "cell_type": "markdown",
   "id": "1ac517d0-e933-4520-8819-7710a7ddd12c",
   "metadata": {},
   "source": [
    "\n",
    "## Step 2: Preprocess the data"
   ]
  },
  {
   "cell_type": "code",
   "execution_count": 82,
   "id": "9893fae4-55ea-4776-9bda-f5a706803bef",
   "metadata": {},
   "outputs": [],
   "source": [
    "\n",
    "# Convert sets of styles into strings for vectorization\n",
    "styles_strings = [';'.join(sorted(style)) for style in styles]"
   ]
  },
  {
   "cell_type": "code",
   "execution_count": 83,
   "id": "346c1605-2e69-4e9a-adba-11431f0584ad",
   "metadata": {},
   "outputs": [],
   "source": [
    "\n",
    "# Use Bag of Words (CountVectorizer) to vectorize the styles\n",
    "vectorizer = CountVectorizer(tokenizer=lambda x: x.split(';'), binary=True)  # Binary Bag of Words\n",
    "X = vectorizer.fit_transform(styles_strings).toarray()"
   ]
  },
  {
   "cell_type": "markdown",
   "id": "6bff3b35-be77-428e-8e95-8081cfac32e5",
   "metadata": {},
   "source": [
    "\n",
    "## Step 3: Apply PCA for dimensionality reduction"
   ]
  },
  {
   "cell_type": "code",
   "execution_count": 85,
   "id": "49e3a608-d68a-46d4-8556-1cc80810cdf9",
   "metadata": {},
   "outputs": [],
   "source": [
    "\n",
    "# Reduce to 2 dimensions for visualization\n",
    "pca = PCA(n_components=2)\n",
    "X_pca = pca.fit_transform(X)"
   ]
  },
  {
   "cell_type": "markdown",
   "id": "4408eaea-976e-41aa-b185-008a9fb09ebe",
   "metadata": {},
   "source": [
    "\n",
    "## Step 4: Perform clustering (e.g., K-Means)"
   ]
  },
  {
   "cell_type": "code",
   "execution_count": 96,
   "id": "a03fcff6-52e3-4c77-b691-b55c3b25fdaa",
   "metadata": {},
   "outputs": [],
   "source": [
    "\n",
    "# It looks like 11 clusters\n",
    "kmeans = KMeans(n_clusters=11, random_state=42)\n",
    "y_kmeans = kmeans.fit_predict(X_pca)"
   ]
  },
  {
   "cell_type": "markdown",
   "id": "2b179a63-4550-4449-9756-4fbf80f01c48",
   "metadata": {},
   "source": [
    "\n",
    "## Step 5: Group labels by cluster"
   ]
  },
  {
   "cell_type": "code",
   "execution_count": 97,
   "id": "55747620-26d1-4768-8a33-417f7ac16dd5",
   "metadata": {},
   "outputs": [],
   "source": [
    "\n",
    "# Initialize a defaultdict to group labels by cluster\n",
    "clusters = defaultdict(list)\n",
    "for label, cluster in zip(labels, y_kmeans):\n",
    "    clusters[cluster].append(label)"
   ]
  },
  {
   "cell_type": "markdown",
   "id": "5f845c58-1846-4699-9715-04f471407902",
   "metadata": {},
   "source": [
    "\n",
    "## Step 6: Visualize the PCA-reduced data with clustering"
   ]
  },
  {
   "cell_type": "code",
   "execution_count": 98,
   "id": "886473e4-380a-4a9b-af41-a9776331c5d7",
   "metadata": {},
   "outputs": [
    {
     "data": {
      "image/png": "[encoded data removed]",
      "text/plain": [
       "<Figure size 1000x800 with 2 Axes>"
      ]
     },
     "metadata": {},
     "output_type": "display_data"
    }
   ],
   "source": [
    "\n",
    "# Make a scatter plot with the centroids labeled as big red Xs\n",
    "plt.figure(figsize=(10, 8))\n",
    "\n",
    "# Scatter plot of the data points\n",
    "scatter = plt.scatter(X_pca[:, 0], X_pca[:, 1], c=y_kmeans, cmap='viridis', s=100, alpha=0.7)\n",
    "\n",
    "# Scatter plot of the centroids\n",
    "plt.scatter(kmeans.cluster_centers_[:, 0], kmeans.cluster_centers_[:, 1], c='red', marker='X', s=200, alpha=0.7, label='Centroids')\n",
    "\n",
    "# Add cluster numbers on top of each centroid\n",
    "for i, (x, y) in enumerate(kmeans.cluster_centers_):\n",
    "    plt.text(x, y - 0.02, str(i), color='black', fontsize=11, ha='center', fontweight='bold')\n",
    "\n",
    "# Add plot details\n",
    "plt.title('2D Clustering Visualization with PCA (Bag of Words)')\n",
    "plt.xlabel('Principal Component 1')\n",
    "plt.ylabel('Principal Component 2')\n",
    "plt.legend()\n",
    "plt.colorbar(scatter, label='Cluster')\n",
    "plt.show()"
   ]
  },
  {
   "cell_type": "code",
   "execution_count": 99,
   "id": "3b562976-4a38-455d-bf9e-cd055e750b02",
   "metadata": {},
   "outputs": [],
   "source": [
    "\n",
    "# Associate the labels with the sets of CSS styles\n",
    "css_style_sets_dict = {label: style_set for label, style_set in zip(labels, styles)}\n",
    "\n",
    "# Find common CSS properties for each cluster\n",
    "common_properties = {}\n",
    "for cluster, labels in clusters.items():\n",
    "    \n",
    "    # Get the style sets for all labels in the cluster\n",
    "    style_sets = [css_style_sets_dict[label] for label in labels]\n",
    "    \n",
    "    # Find the intersection of all style sets in the cluster\n",
    "    common_properties[cluster] = set.intersection(*style_sets)"
   ]
  },
  {
   "cell_type": "code",
   "execution_count": 100,
   "id": "e1983949-5bbd-405b-a892-acb906a39a66",
   "metadata": {},
   "outputs": [
    {
     "name": "stdout",
     "output_type": "stream",
     "text": [
      "Common CSS properties for each cluster:\n",
      "\n",
      "    <style\n",
      "       type=\"text/css\"\n",
      "       id=\"style-wicked-elites\">\n",
      "      .cluster4-style {\n",
      "        -inkscape-font-specification: 'Ink Free, Normal';\n",
      "        font-family: 'Ink Free';\n",
      "        font-size: 21.3333px;\n",
      "        text-align: start;\n",
      "      }\n",
      "      .cluster9-style {\n",
      "        -inkscape-font-specification: 'Ink Free, Normal';\n",
      "        font-family: 'Ink Free';\n",
      "        text-align: center;\n",
      "      }\n",
      "      .cluster5-style {\n",
      "        stroke-dasharray: none;\n",
      "        stroke-miterlimit: 4;\n",
      "        stroke-width: 0.476692;\n",
      "      }\n",
      "      .cluster2-style {\n",
      "        fill-opacity: 1;\n",
      "        fill: #d0e095;\n",
      "        stroke-dasharray: 0.264583, 1.5875;\n",
      "        stroke-dashoffset: 0;\n",
      "        stroke-width: 0.264583;\n",
      "      }\n",
      "      .cluster8-style {\n",
      "        stroke-width: 0.264583px;\n",
      "      }\n",
      "      .cluster1-style {\n",
      "        -inkscape-font-specification: 'Ink Free, Normal';\n",
      "        font-family: 'Ink Free';\n",
      "        text-align: center;\n",
      "      }\n",
      "      .cluster3-style {\n",
      "        stroke-dasharray: none;\n",
      "      }\n",
      "      .cluster10-style {\n",
      "        display: none;\n",
      "        stroke-width: 0.264583px;\n",
      "      }\n",
      "      .cluster7-style {\n",
      "        fill: none;\n",
      "        stroke-dasharray: none;\n",
      "        stroke-width: 0.529167;\n",
      "      }\n",
      "      .cluster0-style {\n",
      "        display: none;\n",
      "        fill: none;\n",
      "        stroke-dasharray: none;\n",
      "        stroke-width: 0.529167;\n",
      "      }\n",
      "      .cluster6-style {\n",
      "        -inkscape-font-specification: 'Freestyle Script, Normal';\n",
      "        fill-opacity: 1;\n",
      "        fill: #000080;\n",
      "        font-family: 'Freestyle Script';\n",
      "        font-size: 21.3333px;\n",
      "        shape-inside: url(#rect-text-whole-of-society);\n",
      "        stroke-opacity: 1;\n",
      "        stroke: none;\n",
      "        text-align: center;\n",
      "      }\n",
      "    </style>\n"
     ]
    }
   ],
   "source": [
    "\n",
    "# Display the common CSS properties for each cluster\n",
    "print(\"Common CSS properties for each cluster:\")\n",
    "print('''\n",
    "    <style\n",
    "       type=\"text/css\"\n",
    "       id=\"style-wicked-elites\">''')\n",
    "for cluster, properties in common_properties.items():\n",
    "    print(f'''      .cluster{cluster}-style {{''')\n",
    "    for prop in sorted(properties):\n",
    "        print(f\"\"\"        {prop.replace(':', ': ')};\"\"\")\n",
    "    print('''      }''')\n",
    "print('''    </style>''')"
   ]
  },
  {
   "cell_type": "code",
   "execution_count": 101,
   "id": "2f97e90b-041a-406e-8a22-7cf9ec373437",
   "metadata": {},
   "outputs": [
    {
     "name": "stdout",
     "output_type": "stream",
     "text": [
      "Labels grouped by cluster:\n",
      "\n",
      "class=\"cluster4-style\"\n",
      "id=\"\\b(explanation-long-term|explanation-persecution)\\b\"\n",
      "\n",
      "class=\"cluster9-style\"\n",
      "id=\"\\b(explanation-blob|text-clientelism|text-doj|text-intimidation|text-long-term|text-persecution|text-short-term|text-swamp|text-the-admin-state)\\b\"\n",
      "\n",
      "class=\"cluster5-style\"\n",
      "id=\"\\b(path-long-term)\\b\"\n",
      "\n",
      "class=\"cluster2-style\"\n",
      "id=\"\\b(rect-intimidation)\\b\"\n",
      "\n",
      "class=\"cluster8-style\"\n",
      "id=\"\\b(path-blob|path-censorship|path-clientelism|path-persecution|path-politicians|path-propaganda)\\b\"\n",
      "\n",
      "class=\"cluster1-style\"\n",
      "id=\"\\b(text-blob|text-censorship|text-civil-society-institutions|text-media|text-politicians|text-private-corporations|text-propaganda)\\b\"\n",
      "\n",
      "class=\"cluster3-style\"\n",
      "id=\"\\b(circle-clientelism|circle-swamp|path-short-term)\\b\"\n",
      "\n",
      "class=\"cluster10-style\"\n",
      "id=\"\\b(path-civil-society-institutions)\\b\"\n",
      "\n",
      "class=\"cluster7-style\"\n",
      "id=\"\\b(circle-blob|circle-civil-society-institutions|circle-doj|circle-media|circle-politicians|circle-private-corporations|rect-the-admin-state)\\b\"\n",
      "\n",
      "class=\"cluster0-style\"\n",
      "id=\"\\b(circle-the-admin-state|rect-east|rect-north|rect-south|rect-west)\\b\"\n",
      "\n",
      "class=\"cluster6-style\"\n",
      "id=\"\\b(text-whole-of)\\b\"\n"
     ]
    }
   ],
   "source": [
    "\n",
    "# Print the labels regex grouped by cluster\n",
    "print(\"Labels grouped by cluster:\")\n",
    "for cluster, labels in clusters.items():\n",
    "    print()\n",
    "    print(f'class=\"cluster{cluster}-style\"')\n",
    "    labels_str = '|'.join(sorted(labels))\n",
    "    print(r'id=\"\\b(' + labels_str + r')\\b\"')"
   ]
  },
  {
   "cell_type": "code",
   "execution_count": 103,
   "id": "c9a70512-ac63-4eb6-bd3e-1bc03aedf3d6",
   "metadata": {},
   "outputs": [
    {
     "name": "stdout",
     "output_type": "stream",
     "text": [
      "\n",
      "class=\"cluster4-style\"\n",
      "(-inkscape-font-specification:'Ink Free, Normal'|font-family:'Ink Free'|font-size:21.3333px|text-align:start);?\n",
      "\n",
      "class=\"cluster9-style\"\n",
      "(-inkscape-font-specification:'Ink Free, Normal'|font-family:'Ink Free'|text-align:center);?\n",
      "\n",
      "class=\"cluster5-style\"\n",
      "(stroke-dasharray:none|stroke-miterlimit:4|stroke-width:0.476692);?\n",
      "\n",
      "class=\"cluster2-style\"\n",
      "(fill-opacity:1|fill:#d0e095|stroke-dasharray:0.264583, 1.5875|stroke-dashoffset:0|stroke-width:0.264583);?\n",
      "\n",
      "class=\"cluster8-style\"\n",
      "(stroke-width:0.264583px);?\n",
      "\n",
      "class=\"cluster1-style\"\n",
      "(-inkscape-font-specification:'Ink Free, Normal'|font-family:'Ink Free'|text-align:center);?\n",
      "\n",
      "class=\"cluster3-style\"\n",
      "(stroke-dasharray:none);?\n",
      "\n",
      "class=\"cluster10-style\"\n",
      "(display:none|stroke-width:0.264583px);?\n",
      "\n",
      "class=\"cluster7-style\"\n",
      "(fill:none|stroke-dasharray:none|stroke-width:0.529167);?\n",
      "\n",
      "class=\"cluster0-style\"\n",
      "(display:none|fill:none|stroke-dasharray:none|stroke-width:0.529167);?\n",
      "\n",
      "class=\"cluster6-style\"\n",
      "(-inkscape-font-specification:'Freestyle Script, Normal'|fill-opacity:1|fill:#000080|font-family:'Freestyle Script'|font-size:21.3333px|shape-inside:url(#rect-text-whole-of-society)|stroke-opacity:1|stroke:none|text-align:center);?\n"
     ]
    }
   ],
   "source": [
    "\n",
    "# Display the common CSS properties regex for each cluster\n",
    "for cluster, properties in common_properties.items():\n",
    "    print()\n",
    "    print(f'class=\"cluster{cluster}-style\"')\n",
    "    props_str = '|'.join(sorted(properties))\n",
    "    print(r'(' + props_str + r');?')"
   ]
  },
  {
   "cell_type": "code",
   "execution_count": 104,
   "id": "3284b799-ca4b-4073-b54e-5edb735b8f3e",
   "metadata": {},
   "outputs": [
    {
     "name": "stdout",
     "output_type": "stream",
     "text": [
      "Labels grouped by cluster:\n",
      "\n",
      "Cluster 4:\n",
      "  explanation-long-term\n",
      "  explanation-persecution\n",
      "\n",
      "Cluster 9:\n",
      "  explanation-blob\n",
      "  text-clientelism\n",
      "  text-doj\n",
      "  text-intimidation\n",
      "  text-long-term\n",
      "  text-persecution\n",
      "  text-short-term\n",
      "  text-swamp\n",
      "  text-the-admin-state\n",
      "\n",
      "Cluster 5:\n",
      "  path-long-term\n",
      "\n",
      "Cluster 2:\n",
      "  rect-intimidation\n",
      "\n",
      "Cluster 8:\n",
      "  path-blob\n",
      "  path-censorship\n",
      "  path-clientelism\n",
      "  path-persecution\n",
      "  path-politicians\n",
      "  path-propaganda\n",
      "\n",
      "Cluster 1:\n",
      "  text-blob\n",
      "  text-censorship\n",
      "  text-civil-society-institutions\n",
      "  text-media\n",
      "  text-politicians\n",
      "  text-private-corporations\n",
      "  text-propaganda\n",
      "\n",
      "Cluster 3:\n",
      "  circle-clientelism\n",
      "  circle-swamp\n",
      "  path-short-term\n",
      "\n",
      "Cluster 10:\n",
      "  path-civil-society-institutions\n",
      "\n",
      "Cluster 7:\n",
      "  circle-blob\n",
      "  circle-civil-society-institutions\n",
      "  circle-doj\n",
      "  circle-media\n",
      "  circle-politicians\n",
      "  circle-private-corporations\n",
      "  rect-the-admin-state\n",
      "\n",
      "Cluster 0:\n",
      "  circle-the-admin-state\n",
      "  rect-east\n",
      "  rect-north\n",
      "  rect-south\n",
      "  rect-west\n",
      "\n",
      "Cluster 6:\n",
      "  text-whole-of\n"
     ]
    }
   ],
   "source": [
    "\n",
    "# Print the labels grouped by cluster\n",
    "print(\"Labels grouped by cluster:\")\n",
    "for cluster, labels in clusters.items():\n",
    "    print()\n",
    "    print(f\"Cluster {cluster}:\")\n",
    "    for label in sorted(labels):\n",
    "        print(f\"  {label}\")"
   ]
  },
  {
   "cell_type": "markdown",
   "id": "18d2aedd-ef7f-4683-92ac-a7693d0ad531",
   "metadata": {},
   "source": [
    "\n",
    "----\n",
    "# Try t-SNE"
   ]
  },
  {
   "cell_type": "code",
   "execution_count": 11,
   "id": "94b69893-0700-426c-960e-f565b765a700",
   "metadata": {},
   "outputs": [
    {
     "data": {
      "image/png": "[encoded data removed]",
      "text/plain": [
       "<Figure size 640x480 with 1 Axes>"
      ]
     },
     "metadata": {},
     "output_type": "display_data"
    }
   ],
   "source": [
    "\n",
    "import numpy as np\n",
    "from sklearn.manifold import TSNE\n",
    "from sklearn.cluster import KMeans\n",
    "import matplotlib.pyplot as plt\n",
    "from sklearn.preprocessing import MultiLabelBinarizer\n",
    "\n",
    "# Convert the CSS styles into numerical data\n",
    "mlb = MultiLabelBinarizer()\n",
    "styles_data = mlb.fit_transform(styles)\n",
    "\n",
    "# Apply t-SNE\n",
    "tsne = TSNE(n_components=2, random_state=0)\n",
    "styles_2d = tsne.fit_transform(styles_data)\n",
    "\n",
    "# Cluster the data\n",
    "kmeans = KMeans(n_clusters=3, random_state=0)\n",
    "clusters = kmeans.fit_predict(styles_2d)\n",
    "\n",
    "# Create a 2D visualization of the clusters\n",
    "plt.scatter(styles_2d[:, 0], styles_2d[:, 1], c=clusters)\n",
    "plt.show()"
   ]
  },
  {
   "cell_type": "markdown",
   "id": "391ec26d-d953-4de9-975a-1d62cc8b0877",
   "metadata": {},
   "source": [
    "\n",
    "----\n",
    "# Try UMAP"
   ]
  },
  {
   "cell_type": "code",
   "execution_count": 6,
   "id": "087db5f7-12e2-4e8c-a065-7ce49d9514a4",
   "metadata": {},
   "outputs": [],
   "source": [
    "\n",
    "import numpy as np\n",
    "import matplotlib.pyplot as plt\n",
    "from sklearn.feature_extraction.text import CountVectorizer\n",
    "from sklearn.cluster import KMeans\n",
    "import umap"
   ]
  },
  {
   "cell_type": "markdown",
   "id": "30bfc689-41e7-4ce0-97ad-043a3c182d3c",
   "metadata": {},
   "source": [
    "\n",
    "## Step 1: Prepare the data"
   ]
  },
  {
   "cell_type": "code",
   "execution_count": 7,
   "id": "e03b18f1-d227-4137-9da2-925c1a48a65a",
   "metadata": {},
   "outputs": [],
   "source": [
    "\n",
    "# Convert the list of sets of CSS styles into strings for vectorization\n",
    "styles_strings = [';'.join(sorted(style)) for style in styles]\n",
    "\n",
    "# Use Bag of Words (CountVectorizer) to vectorize the CSS styles\n",
    "vectorizer = CountVectorizer(tokenizer=lambda x: x.split(';'), binary=True)\n",
    "X = vectorizer.fit_transform(styles_strings).toarray()"
   ]
  },
  {
   "cell_type": "markdown",
   "id": "f2966725-188f-4eca-af04-d376fda6f081",
   "metadata": {},
   "source": [
    "\n",
    "## Step 2: Apply UMAP for dimensionality reduction"
   ]
  },
  {
   "cell_type": "code",
   "execution_count": 8,
   "id": "59cd9c7d-bfad-4ac9-8429-a61e98a4fe5f",
   "metadata": {},
   "outputs": [],
   "source": [
    "\n",
    "reducer = umap.UMAP(n_neighbors=15, min_dist=0.1, n_components=2, random_state=42)\n",
    "X_umap = reducer.fit_transform(X)"
   ]
  },
  {
   "cell_type": "markdown",
   "id": "b3d5dcf9-5e89-47ce-ae1b-79580416c9a6",
   "metadata": {},
   "source": [
    "\n",
    "## Step 3: Perform clustering (e.g., K-Means)"
   ]
  },
  {
   "cell_type": "code",
   "execution_count": 9,
   "id": "9f57daee-86da-4e89-a78c-012dae6481c1",
   "metadata": {},
   "outputs": [],
   "source": [
    "\n",
    "# Adjust the number of clusters as needed\n",
    "n_clusters = 5\n",
    "kmeans = KMeans(n_clusters=n_clusters, random_state=42)\n",
    "y_kmeans = kmeans.fit_predict(X_umap)"
   ]
  },
  {
   "cell_type": "markdown",
   "id": "272ea9e3-fcc0-4f2b-8dc1-d88cffda33ce",
   "metadata": {},
   "source": [
    "\n",
    "## Step 4: Visualize the UMAP-reduced data with clustering"
   ]
  },
  {
   "cell_type": "code",
   "execution_count": 12,
   "id": "0d1e4dbc-43e6-4cf4-b31f-14a9a5e83894",
   "metadata": {},
   "outputs": [
    {
     "data": {
      "image/png": "[encoded data removed]",
      "text/plain": [
       "<Figure size 1200x800 with 2 Axes>"
      ]
     },
     "metadata": {},
     "output_type": "display_data"
    }
   ],
   "source": [
    "\n",
    "plt.figure(figsize=(12, 8))\n",
    "\n",
    "# Scatter plot of the UMAP-reduced data points\n",
    "scatter = plt.scatter(X_umap[:, 0], X_umap[:, 1], c=y_kmeans, cmap='viridis', s=100, alpha=0.7)\n",
    "\n",
    "# Scatter plot of the cluster centroids\n",
    "centroids = kmeans.cluster_centers_\n",
    "plt.scatter(centroids[:, 0], centroids[:, 1], c='red', marker='X', s=200, label='Centroids')\n",
    "\n",
    "# Add cluster numbers on top of each centroid\n",
    "for i, (x, y) in enumerate(kmeans.cluster_centers_):\n",
    "    plt.text(x, y - 0.025, str(i), color='black', fontsize=11, ha='center', fontweight='bold')\n",
    "\n",
    "# Add plot details\n",
    "plt.title('2D Clustering Visualization with UMAP (Bag of Words)')\n",
    "plt.xlabel('UMAP Dimension 1')\n",
    "plt.ylabel('UMAP Dimension 2')\n",
    "plt.legend()\n",
    "plt.colorbar(scatter, label='Cluster')\n",
    "plt.show()"
   ]
  },
  {
   "cell_type": "code",
   "execution_count": null,
   "id": "73597eab-e54c-4892-a304-b6f47101e2c3",
   "metadata": {},
   "outputs": [],
   "source": []
  }
 ],
 "metadata": {
  "kernelspec": {
   "display_name": "Job Hunting (Python 3.10.9)",
   "language": "python",
   "name": "jh_env"
  },
  "language_info": {
   "codemirror_mode": {
    "name": "ipython",
    "version": 3
   },
   "file_extension": ".py",
   "mimetype": "text/x-python",
   "name": "python",
   "nbconvert_exporter": "python",
   "pygments_lexer": "ipython3",
   "version": "3.10.9"
  }
 },
 "nbformat": 4,
 "nbformat_minor": 5
}
