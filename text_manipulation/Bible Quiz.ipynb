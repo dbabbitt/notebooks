{
 "cells": [
  {
   "cell_type": "code",
   "execution_count": 2,
   "id": "82251aa9-3102-46ea-9944-638e2caa8f0c",
   "metadata": {},
   "outputs": [],
   "source": [
    "\n",
    "from docx import Document\n",
    "\n",
    "# Create a new Document\n",
    "doc = Document()\n",
    "\n",
    "# Add text to the document\n",
    "underscores = '__________'\n",
    "doc.add_heading('Bible Quiz', level=1)\n",
    "doc.add_paragraph(\n",
    "    f'God called Abram to leave {underscores} and go to a {underscores} far away.', style='List Number'\n",
    ")\n",
    "doc.add_paragraph(\n",
    "    f'After Abram and Sarai reached the land of {underscores} they built an {underscores} and offered a {underscores} in worship to God.', style='List Number'\n",
    ")\n",
    "doc.add_paragraph(\n",
    "    f'Abram and Sarai went to {underscores} during the famine.', style='List Number'\n",
    ")\n",
    "doc.add_paragraph(\n",
    "    f'When Abram and Lot separated, Lot chose to go to the {underscores} where {underscores} and Gomorrah were located.', style='List Number'\n",
    ")\n",
    "doc.add_paragraph(\n",
    "    f'God promised Abram and Sarai they would have a {underscores} in their old age.', style='List Number'\n",
    ")\n",
    "doc.add_paragraph(\n",
    "    f'Abram had three visitors who came from {underscores}.', style='List Number'\n",
    ")\n",
    "doc.add_paragraph(\n",
    "    f'When Sarah heard a visitor tell Abraham she would bear a son, she {underscores}.', style='List Number'\n",
    ")\n",
    "doc.add_paragraph(\n",
    "    f'God told Abraham he was going to {underscores} Sodom and Gomorrah because the people were very {underscores}.', style='List Number'\n",
    ")\n",
    "doc.add_paragraph(\n",
    "    f'Lot and his {underscores} were saved from the destruction of the two cities.', style='List Number'\n",
    ")\n",
    "doc.add_paragraph(\n",
    "    f\"Lot's {underscores} became a {underscores} of {underscores} because she disobeyed and {underscores} back at the city.\", style='List Number'\n",
    ")\n",
    "\n",
    "# Save the document\n",
    "doc.save('../saves/docx/bible_quiz.docx')"
   ]
  },
  {
   "cell_type": "code",
   "execution_count": null,
   "id": "6820ce12-fd92-4b73-b299-38de8969c1fe",
   "metadata": {},
   "outputs": [],
   "source": []
  }
 ],
 "metadata": {
  "kernelspec": {
   "display_name": "Python 3 (ipykernel)",
   "language": "python",
   "name": "python3"
  },
  "language_info": {
   "codemirror_mode": {
    "name": "ipython",
    "version": 3
   },
   "file_extension": ".py",
   "mimetype": "text/x-python",
   "name": "python",
   "nbconvert_exporter": "python",
   "pygments_lexer": "ipython3",
   "version": "3.9.16"
  }
 },
 "nbformat": 4,
 "nbformat_minor": 5
}
