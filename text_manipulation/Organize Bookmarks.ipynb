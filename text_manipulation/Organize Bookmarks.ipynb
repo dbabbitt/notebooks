{
 "cells": [
  {
   "cell_type": "code",
   "execution_count": 1,
   "id": "c05c99ca-450c-478e-bdfa-567510409cc6",
   "metadata": {},
   "outputs": [
    {
     "name": "stdout",
     "output_type": "stream",
     "text": [
      "Pretty printing has been turned OFF\n"
     ]
    }
   ],
   "source": [
    "\n",
    "%pprint\n",
    "import sys\n",
    "import os.path as osp, os as os\n",
    "\n",
    "executable_path = sys.executable; scripts_folder = osp.join(osp.dirname(executable_path), 'Scripts')\n",
    "py_folder = osp.abspath(osp.join(os.pardir, 'py')); ffmpeg_folder = r'C:\\ffmpeg\\bin'\n",
    "if osp.exists(scripts_folder) and (scripts_folder not in sys.path): sys.path.insert(1, scripts_folder)\n",
    "if osp.exists(py_folder) and (py_folder not in sys.path): sys.path.insert(1, py_folder)\n",
    "if osp.exists(ffmpeg_folder) and (ffmpeg_folder not in sys.path): sys.path.insert(1, ffmpeg_folder)\n",
    "shared_folder = osp.abspath(osp.join(os.pardir, 'share'))\n",
    "if osp.exists(shared_folder) and (shared_folder not in sys.path): sys.path.insert(1, shared_folder)\n",
    "from notebook_utils import NotebookUtilities\n",
    "nu = NotebookUtilities(\n",
    "    data_folder_path=osp.abspath(osp.join(os.pardir, 'data')),\n",
    "    saves_folder_path=osp.abspath(osp.join(os.pardir, 'saves'))\n",
    ")"
   ]
  },
  {
   "cell_type": "code",
   "execution_count": 2,
   "id": "96532493-869c-42df-ae5f-dafd092ef39c",
   "metadata": {},
   "outputs": [
    {
     "name": "stdout",
     "output_type": "stream",
     "text": [
      "The bookmarks_df data frame contains about 4.2 thousand records and these columns: folder_add_date, folder_last_modified, folder_personal_toolbar_folder, link_href, link_add_date, and link_icon.\n",
      "The bookmarks_df data frame contains about 3.4 thousand non-working URLs.\n"
     ]
    }
   ],
   "source": [
    "\n",
    "import humanize\n",
    "\n",
    "# Load the bookmarks data frame\n",
    "bookmarks_df = nu.load_object('bookmarks_df')\n",
    "print(\n",
    "    f'The bookmarks_df data frame contains about {humanize.intword(bookmarks_df.shape[0])}'\n",
    "    f' records and these columns: {nu.conjunctify_nouns(bookmarks_df.columns)}.'\n",
    ")\n",
    "\n",
    "# Load progress if it exists, otherwise initialize\n",
    "progress = nu.load_object('progress') or {\n",
    "    'non_working_indices': [], 'processed_indices': set()\n",
    "}\n",
    "\n",
    "# Extract non-working indices\n",
    "non_working_indices = progress['non_working_indices']\n",
    "print(\n",
    "    f'The bookmarks_df data frame contains about {humanize.intword(len(non_working_indices))} non-working URLs.'\n",
    ")"
   ]
  },
  {
   "cell_type": "code",
   "execution_count": 3,
   "id": "bfc00bbc-85f2-4042-adaf-49cf4861a037",
   "metadata": {},
   "outputs": [
    {
     "name": "stdout",
     "output_type": "stream",
     "text": [
      "The filtered_bookmarks_df data frame contains about 793 records and these columns: folder_add_date, folder_last_modified, folder_personal_toolbar_folder, link_href, link_add_date, and link_icon.\n"
     ]
    }
   ],
   "source": [
    "\n",
    "# Remove non-working indices from the bookmarks_df\n",
    "filtered_bookmarks_df = bookmarks_df.drop(index=non_working_indices)\n",
    "print(\n",
    "    f'The filtered_bookmarks_df data frame contains about {humanize.intword(filtered_bookmarks_df.shape[0])}'\n",
    "    f' records and these columns: {nu.conjunctify_nouns(filtered_bookmarks_df.columns)}.'\n",
    ")"
   ]
  },
  {
   "cell_type": "code",
   "execution_count": 15,
   "id": "c6413b7b-060a-4787-a9db-bf5563242254",
   "metadata": {},
   "outputs": [
    {
     "name": "stdout",
     "output_type": "stream",
     "text": [
      "Bookmarks have been converted to JSON and saved to '../saves/json/bookmarks.json'.\n"
     ]
    }
   ],
   "source": [
    "\n",
    "import json\n",
    "from bs4 import BeautifulSoup\n",
    "import re\n",
    "\n",
    "def parse_bookmarks(file_path):\n",
    "    \n",
    "    # Open and parse the HTML file, removing <p> tags and closing the <DT> tags\n",
    "    with open(file_path, 'r', encoding='utf-8') as file:\n",
    "        page_html = file.read().replace('<p>', '')\n",
    "        h3_regex = re.compile('<DT><H3 ADD_DATE=\"([^\"]+)\" LAST_MODIFIED=\"([^\"]+)\">([^><]+)</H3>')\n",
    "        page_html = h3_regex.sub(r'<DT><H3 ADD_DATE=\"\\1\" LAST_MODIFIED=\"\\2\">\\3</H3></DT>', page_html)\n",
    "        a_icon_regex = re.compile('<DT><A HREF=\"([^\"]+)\" ADD_DATE=\"([^\"]+)\" ICON=\"([^\"]+)\">([^><]+)</A>')\n",
    "        page_html = a_icon_regex.sub(r'<DT><A HREF=\"\\1\" ADD_DATE=\"\\2\" ICON=\"(\\3\">\\4</A></DT>', page_html)\n",
    "        a_no_icon_regex = re.compile('<DT><A HREF=\"([^\"]+)\" ADD_DATE=\"([^\"]+)\">([^><]+)</A>')\n",
    "        page_html = a_no_icon_regex.sub(r'<DT><A HREF=\"\\1\" ADD_DATE=\"\\2\">\\3</A></DT>', page_html)\n",
    "        soup = BeautifulSoup(page_html, 'html.parser')\n",
    "\n",
    "    # Start parsing from the top-level <dl> tag\n",
    "    top_level_dl = soup.find('dl')\n",
    "    bookmarks = parse_folder(top_level_dl)\n",
    "\n",
    "    return bookmarks\n",
    "\n",
    "# Convert bookmarks.html to JSON\n",
    "def convert_to_json(input_file, output_file):\n",
    "    bookmarks = parse_bookmarks(input_file)\n",
    "    with open(output_file, 'w', encoding='utf-8') as json_file:\n",
    "        json.dump(bookmarks, json_file, indent=4, ensure_ascii=False)\n",
    "    print(f\"Bookmarks have been converted to JSON and saved to '{output_file}'.\")\n",
    "\n",
    "# Example usage\n",
    "input_html = '../saves/html/favorites_1_4_25.html'\n",
    "output_json = '../saves/json/bookmarks.json'\n",
    "convert_to_json(input_html, output_json)"
   ]
  },
  {
   "cell_type": "code",
   "execution_count": 30,
   "id": "ba47f440-3b89-4c76-af4d-453746acc5fa",
   "metadata": {},
   "outputs": [],
   "source": [
    "\n",
    "# Open and parse the HTML file, removing <p> tags and closing the <DT> tags\n",
    "input_html = '../saves/html/favorites_1_4_25.html'\n",
    "with open(input_html, 'r', encoding='utf-8') as file:\n",
    "    page_html = file.read().replace('<p>', '')\n",
    "    h3_regex = re.compile(r'<DT>\\s*<H3 ADD_DATE=\"([^\"]+)\" LAST_MODIFIED=\"([^\"]+)\">([^><]+)</H3>')\n",
    "    page_html = h3_regex.sub(r'<DT><H3 ADD_DATE=\"\\1\" LAST_MODIFIED=\"\\2\">\\3</H3></DT>', page_html)\n",
    "    a_icon_regex = re.compile(r'<DT>\\s*<A HREF=\"([^\"]+)\" ADD_DATE=\"([^\"]+)\" ICON=\"([^\"]+)\">([^><]+)</A>')\n",
    "    page_html = a_icon_regex.sub(r'<DT><A HREF=\"\\1\" ADD_DATE=\"\\2\" ICON=\"(\\3\">\\4</A></DT>', page_html)\n",
    "    a_no_icon_regex = re.compile(r'<DT>\\s*<A HREF=\"([^\"]+)\" ADD_DATE=\"([^\"]+)\">([^><]+)</A>')\n",
    "    page_html = a_no_icon_regex.sub(r'<DT><A HREF=\"\\1\" ADD_DATE=\"\\2\">\\3</A></DT>', page_html)\n",
    "    page_soup = BeautifulSoup(page_html, 'html.parser')"
   ]
  },
  {
   "cell_type": "code",
   "execution_count": 49,
   "id": "e852a131-51bc-430f-a60f-0e201be1cfb8",
   "metadata": {},
   "outputs": [
    {
     "name": "stdout",
     "output_type": "stream",
     "text": [
      "['Favorites bar', '', 'Tools', '', 'API Examples', '', 'About the Indicators API Documentation – World Bank Data Help Desk', 'API:Main page - MediaWiki']\n",
      "['Tools']\n"
     ]
    }
   ],
   "source": [
    "\n",
    "top_level_dl = page_soup.find('dl')\n",
    "dt_tag1 = top_level_dl.find_all(['dt'], recursive=False)[0]\n",
    "print(dt_tag1.text.split('\\n')[:8])\n",
    "dl_tag1 = dt_tag1.find_all(['dl'], recursive=False)[0]\n",
    "dt_tag2 = dl_tag1.find_all(['dt'], recursive=False)[0]\n",
    "print(dt_tag2.text.split('\\n')[:6])"
   ]
  },
  {
   "cell_type": "code",
   "execution_count": null,
   "id": "f9abdaef-e8de-4f8a-a0d8-823fea0e999b",
   "metadata": {},
   "outputs": [],
   "source": [
    "\n",
    "# Recursive function to parse the bookmarks\n",
    "def parse_folder(dl_tag):\n",
    "    folder = []\n",
    "    dt_tags = dl_tag.find_all(['dt'], recursive=False)\n",
    "    for dt_tag in dt_tags:\n",
    "        h3_tags = dt_tag.find_all(['h3'], recursive=False)\n",
    "        if h3_tags:  # Folder\n",
    "            h3_tag = h3_tags[0]\n",
    "            folder_name = h3_tag.text\n",
    "            add_date = h3_tag.get('add_date', None)\n",
    "            last_modified = h3_tag.get('last_modified', None)\n",
    "            subfolders = dt_tag.find_all(['dl'], recursive=False)\n",
    "            subfolder = subfolders[0] if subfolders else None\n",
    "            folder.append({\n",
    "                'type': 'folder',\n",
    "                'name': folder_name,\n",
    "                'add_date': add_date,\n",
    "                'last_modified': last_modified,\n",
    "                'children': parse_folder(subfolder) if subfolder else []\n",
    "            })\n",
    "        subdl_tags = dt_tag.find_all(['dl'], recursive=False)\n",
    "        if subdl_tags:\n",
    "            subdt_tags = subdl_tags[0].find_all(['dt'], recursive=False)\n",
    "            if subdt_tags:\n",
    "                a_tags = subdt_tags[0].find_all(['a'], recursive=True)  # Bookmarks\n",
    "                for link in a_tags:\n",
    "                    folder.append({\n",
    "                        'type': 'bookmark',\n",
    "                        'name': link.text,\n",
    "                        'href': link.get('href'),\n",
    "                        'add_date': link.get('add_date', None),\n",
    "                        'icon': link.get('icon', None)\n",
    "                    })\n",
    "    \n",
    "    return folder"
   ]
  },
  {
   "cell_type": "code",
   "execution_count": 47,
   "id": "6832b949-8d8f-4630-b7ff-24242cb43bf6",
   "metadata": {},
   "outputs": [
    {
     "data": {
      "text/plain": [
       "{'dt': 1}"
      ]
     },
     "execution_count": 47,
     "metadata": {},
     "output_type": "execute_result"
    }
   ],
   "source": [
    "\n",
    "from pandas import Series\n",
    "\n",
    "Series([c.name for c in top_level_dl.children]).value_counts().to_dict()"
   ]
  },
  {
   "cell_type": "code",
   "execution_count": 46,
   "id": "a0fd8992-c267-4ab9-9eca-fddeaa4c9a74",
   "metadata": {},
   "outputs": [
    {
     "name": "stdout",
     "output_type": "stream",
     "text": [
      "1\n"
     ]
    },
    {
     "data": {
      "text/plain": [
       "{'dt': 36, 'dl': 16, 'h3': 1}"
      ]
     },
     "metadata": {},
     "output_type": "display_data"
    },
    {
     "data": {
      "text/plain": [
       "dt    36\n",
       "dl    16\n",
       "h3     1\n",
       "Name: count, dtype: int64"
      ]
     },
     "execution_count": 46,
     "metadata": {},
     "output_type": "execute_result"
    }
   ],
   "source": [
    "\n",
    "dt_tags = top_level_dl.find_all(['dt'], recursive=False)\n",
    "print(len(dt_tags))\n",
    "for dt_tag in dt_tags:\n",
    "    display(Series([c.name for c in dt_tag.children]).value_counts().to_dict())"
   ]
  },
  {
   "cell_type": "code",
   "execution_count": 48,
   "id": "44b39d6c-d9b8-4d91-9805-859c66ca3603",
   "metadata": {},
   "outputs": [
    {
     "name": "stdout",
     "output_type": "stream",
     "text": [
      "1\n"
     ]
    },
    {
     "data": {
      "text/plain": [
       "{}"
      ]
     },
     "metadata": {},
     "output_type": "display_data"
    },
    {
     "data": {
      "text/plain": [
       "'Favorites bar'"
      ]
     },
     "metadata": {},
     "output_type": "display_data"
    }
   ],
   "source": [
    "\n",
    "dt_h3_tags = dt_tags[0].find_all(['h3'], recursive=False)\n",
    "print(len(dt_h3_tags))\n",
    "for dt_h3_tag in dt_h3_tags:\n",
    "    display(Series([c.name for c in dt_h3_tag.children]).value_counts().to_dict())\n",
    "    display(dt_h3_tag.text)"
   ]
  },
  {
   "cell_type": "code",
   "execution_count": 44,
   "id": "2c36cc48-0d20-4a9c-8372-f326dbbd6eb1",
   "metadata": {},
   "outputs": [
    {
     "name": "stdout",
     "output_type": "stream",
     "text": [
      "16\n"
     ]
    },
    {
     "data": {
      "text/plain": [
       "{'dt': 33, 'dl': 4}"
      ]
     },
     "metadata": {},
     "output_type": "display_data"
    },
    {
     "data": {
      "text/plain": [
       "{'dt': 3024}"
      ]
     },
     "metadata": {},
     "output_type": "display_data"
    },
    {
     "data": {
      "text/plain": [
       "{'dt': 25, 'dl': 1}"
      ]
     },
     "metadata": {},
     "output_type": "display_data"
    },
    {
     "data": {
      "text/plain": [
       "{'dt': 18}"
      ]
     },
     "metadata": {},
     "output_type": "display_data"
    },
    {
     "data": {
      "text/plain": [
       "{'dt': 3}"
      ]
     },
     "metadata": {},
     "output_type": "display_data"
    },
    {
     "data": {
      "text/plain": [
       "{'dt': 7, 'dl': 6}"
      ]
     },
     "metadata": {},
     "output_type": "display_data"
    },
    {
     "data": {
      "text/plain": [
       "{'dt': 14}"
      ]
     },
     "metadata": {},
     "output_type": "display_data"
    },
    {
     "data": {
      "text/plain": [
       "{'dt': 10, 'dl': 10}"
      ]
     },
     "metadata": {},
     "output_type": "display_data"
    },
    {
     "data": {
      "text/plain": [
       "{'dt': 31}"
      ]
     },
     "metadata": {},
     "output_type": "display_data"
    },
    {
     "data": {
      "text/plain": [
       "{'dt': 21}"
      ]
     },
     "metadata": {},
     "output_type": "display_data"
    },
    {
     "data": {
      "text/plain": [
       "{'dt': 9, 'dl': 6}"
      ]
     },
     "metadata": {},
     "output_type": "display_data"
    },
    {
     "data": {
      "text/plain": [
       "{'dt': 3}"
      ]
     },
     "metadata": {},
     "output_type": "display_data"
    },
    {
     "data": {
      "text/plain": [
       "{'dt': 1}"
      ]
     },
     "metadata": {},
     "output_type": "display_data"
    },
    {
     "data": {
      "text/plain": [
       "{'dt': 2}"
      ]
     },
     "metadata": {},
     "output_type": "display_data"
    },
    {
     "data": {
      "text/plain": [
       "{'dt': 28, 'dl': 13}"
      ]
     },
     "metadata": {},
     "output_type": "display_data"
    },
    {
     "data": {
      "text/plain": [
       "{'dt': 3}"
      ]
     },
     "metadata": {},
     "output_type": "display_data"
    }
   ],
   "source": [
    "\n",
    "dt_dl_tags = dt_tags[0].find_all(['dl'], recursive=False)\n",
    "print(len(dt_dl_tags))\n",
    "for dt_dl_tag in dt_dl_tags:\n",
    "    display(Series([c.name for c in dt_dl_tag.children]).value_counts().to_dict())\n",
    "    # print(dt_dl_tag)"
   ]
  },
  {
   "cell_type": "code",
   "execution_count": 43,
   "id": "7d8e622c-ecd0-40d5-922c-aa0181d0bd76",
   "metadata": {},
   "outputs": [
    {
     "name": "stdout",
     "output_type": "stream",
     "text": [
      "36\n"
     ]
    },
    {
     "data": {
      "text/plain": [
       "{'h3': 1}"
      ]
     },
     "metadata": {},
     "output_type": "display_data"
    },
    {
     "data": {
      "text/plain": [
       "{'h3': 1}"
      ]
     },
     "metadata": {},
     "output_type": "display_data"
    },
    {
     "data": {
      "text/plain": [
       "{'h3': 1}"
      ]
     },
     "metadata": {},
     "output_type": "display_data"
    },
    {
     "data": {
      "text/plain": [
       "{'h3': 1}"
      ]
     },
     "metadata": {},
     "output_type": "display_data"
    },
    {
     "data": {
      "text/plain": [
       "{'h3': 1}"
      ]
     },
     "metadata": {},
     "output_type": "display_data"
    },
    {
     "data": {
      "text/plain": [
       "{'h3': 1}"
      ]
     },
     "metadata": {},
     "output_type": "display_data"
    },
    {
     "data": {
      "text/plain": [
       "{'h3': 1}"
      ]
     },
     "metadata": {},
     "output_type": "display_data"
    },
    {
     "data": {
      "text/plain": [
       "{'h3': 1}"
      ]
     },
     "metadata": {},
     "output_type": "display_data"
    },
    {
     "data": {
      "text/plain": [
       "{'h3': 1}"
      ]
     },
     "metadata": {},
     "output_type": "display_data"
    },
    {
     "data": {
      "text/plain": [
       "{'h3': 1}"
      ]
     },
     "metadata": {},
     "output_type": "display_data"
    },
    {
     "data": {
      "text/plain": [
       "{'h3': 1}"
      ]
     },
     "metadata": {},
     "output_type": "display_data"
    },
    {
     "data": {
      "text/plain": [
       "{'h3': 1}"
      ]
     },
     "metadata": {},
     "output_type": "display_data"
    },
    {
     "data": {
      "text/plain": [
       "{'h3': 1}"
      ]
     },
     "metadata": {},
     "output_type": "display_data"
    },
    {
     "data": {
      "text/plain": [
       "{'a': 1}"
      ]
     },
     "metadata": {},
     "output_type": "display_data"
    },
    {
     "data": {
      "text/plain": [
       "{'a': 1}"
      ]
     },
     "metadata": {},
     "output_type": "display_data"
    },
    {
     "data": {
      "text/plain": [
       "{'a': 1}"
      ]
     },
     "metadata": {},
     "output_type": "display_data"
    },
    {
     "data": {
      "text/plain": [
       "{'a': 1}"
      ]
     },
     "metadata": {},
     "output_type": "display_data"
    },
    {
     "data": {
      "text/plain": [
       "{'a': 1}"
      ]
     },
     "metadata": {},
     "output_type": "display_data"
    },
    {
     "data": {
      "text/plain": [
       "{'a': 1}"
      ]
     },
     "metadata": {},
     "output_type": "display_data"
    },
    {
     "data": {
      "text/plain": [
       "{'a': 1}"
      ]
     },
     "metadata": {},
     "output_type": "display_data"
    },
    {
     "data": {
      "text/plain": [
       "{'a': 1}"
      ]
     },
     "metadata": {},
     "output_type": "display_data"
    },
    {
     "data": {
      "text/plain": [
       "{'a': 1}"
      ]
     },
     "metadata": {},
     "output_type": "display_data"
    },
    {
     "data": {
      "text/plain": [
       "{'a': 1}"
      ]
     },
     "metadata": {},
     "output_type": "display_data"
    },
    {
     "data": {
      "text/plain": [
       "{'a': 1}"
      ]
     },
     "metadata": {},
     "output_type": "display_data"
    },
    {
     "data": {
      "text/plain": [
       "{'a': 1}"
      ]
     },
     "metadata": {},
     "output_type": "display_data"
    },
    {
     "data": {
      "text/plain": [
       "{'a': 1}"
      ]
     },
     "metadata": {},
     "output_type": "display_data"
    },
    {
     "data": {
      "text/plain": [
       "{'a': 1}"
      ]
     },
     "metadata": {},
     "output_type": "display_data"
    },
    {
     "data": {
      "text/plain": [
       "{'a': 1}"
      ]
     },
     "metadata": {},
     "output_type": "display_data"
    },
    {
     "data": {
      "text/plain": [
       "{'a': 1}"
      ]
     },
     "metadata": {},
     "output_type": "display_data"
    },
    {
     "data": {
      "text/plain": [
       "{'a': 1}"
      ]
     },
     "metadata": {},
     "output_type": "display_data"
    },
    {
     "data": {
      "text/plain": [
       "{'a': 1}"
      ]
     },
     "metadata": {},
     "output_type": "display_data"
    },
    {
     "data": {
      "text/plain": [
       "{'a': 1}"
      ]
     },
     "metadata": {},
     "output_type": "display_data"
    },
    {
     "data": {
      "text/plain": [
       "{'a': 1}"
      ]
     },
     "metadata": {},
     "output_type": "display_data"
    },
    {
     "data": {
      "text/plain": [
       "{'a': 1}"
      ]
     },
     "metadata": {},
     "output_type": "display_data"
    },
    {
     "data": {
      "text/plain": [
       "{'h3': 1}"
      ]
     },
     "metadata": {},
     "output_type": "display_data"
    },
    {
     "data": {
      "text/plain": [
       "{'h3': 1}"
      ]
     },
     "metadata": {},
     "output_type": "display_data"
    }
   ],
   "source": [
    "\n",
    "dt_dt_tags = dt_tags[0].find_all(['dt'], recursive=False)\n",
    "print(len(dt_dt_tags))\n",
    "for dt_dt_tag in dt_dt_tags:\n",
    "    display(Series([c.name for c in dt_dt_tag.children]).value_counts().to_dict())\n",
    "    # print(dt_dt_tag)"
   ]
  },
  {
   "cell_type": "code",
   "execution_count": 9,
   "id": "f3172393-ff29-43a7-b733-8b43a62baa86",
   "metadata": {},
   "outputs": [],
   "source": [
    "\n",
    "import json\n",
    "\n",
    "rows_list = []\n",
    "output_json = '../saves/json/bookmarks.json'\n",
    "with open(output_json, 'r', encoding='utf-8') as json_file:\n",
    "    for row_dict in json.load(json_file):\n",
    "        flattened_dict = nu.get_flattened_dictionary(row_dict, key_prefix='top')\n",
    "        rows_list.append(flattened_dict)"
   ]
  },
  {
   "cell_type": "code",
   "execution_count": 10,
   "id": "cb988ec7-a15b-4fcc-8d73-2e0882761399",
   "metadata": {},
   "outputs": [],
   "source": [
    "\n",
    "from pandas import DataFrame\n",
    "\n",
    "df = DataFrame(rows_list)"
   ]
  },
  {
   "cell_type": "code",
   "execution_count": 11,
   "id": "867842d4-7e7d-4574-b4b7-54b14ca0e035",
   "metadata": {},
   "outputs": [
    {
     "data": {
      "text/plain": [
       "['top__type', 'top__name', 'top__add_date', 'top__last_modified', 'top__children00_type', 'top__children00_name', 'top__children00_add_date', 'top__children00_last_modified', 'top__children00_children0_type', 'top__children00_children0_name', 'top__children00_children0_add_date', 'top__children00_children0_last_modified', 'top__children00_children1_type', 'top__children00_children1_name', 'top__children00_children1_href', 'top__children00_children1_add_date', 'top__children00_children1_icon', 'top__children00_children2_type', 'top__children00_children2_name', 'top__children00_children2_href', 'top__children00_children2_add_date', 'top__children00_children2_icon', 'top__children00_children3_type', 'top__children00_children3_name', 'top__children00_children3_href', 'top__children00_children3_add_date', 'top__children00_children3_icon', 'top__children01_type', 'top__children01_name', 'top__children01_href', 'top__children01_add_date', 'top__children01_icon', 'top__children02_type', 'top__children02_name', 'top__children02_href', 'top__children02_add_date', 'top__children02_icon', 'top__children03_type', 'top__children03_name', 'top__children03_href', 'top__children03_add_date', 'top__children03_icon', 'top__children04_type', 'top__children04_name', 'top__children04_href', 'top__children04_add_date', 'top__children04_icon', 'top__children05_type', 'top__children05_name', 'top__children05_href', 'top__children05_add_date', 'top__children05_icon', 'top__children06_type', 'top__children06_name', 'top__children06_href', 'top__children06_add_date', 'top__children06_icon', 'top__children07_type', 'top__children07_name', 'top__children07_href', 'top__children07_add_date', 'top__children07_icon', 'top__children08_type', 'top__children08_name', 'top__children08_href', 'top__children08_add_date', 'top__children08_icon', 'top__children09_type', 'top__children09_name', 'top__children09_href', 'top__children09_add_date', 'top__children09_icon', 'top__children10_type', 'top__children10_name', 'top__children10_href', 'top__children10_add_date', 'top__children10_icon', 'top__children11_type', 'top__children11_name', 'top__children11_href', 'top__children11_add_date', 'top__children11_icon', 'top__children12_type', 'top__children12_name', 'top__children12_href', 'top__children12_add_date', 'top__children12_icon', 'top__children13_type', 'top__children13_name', 'top__children13_href', 'top__children13_add_date', 'top__children13_icon', 'top__children14_type', 'top__children14_name', 'top__children14_href', 'top__children14_add_date', 'top__children14_icon', 'top__children15_type', 'top__children15_name', 'top__children15_href']"
      ]
     },
     "execution_count": 11,
     "metadata": {},
     "output_type": "execute_result"
    }
   ],
   "source": [
    "\n",
    "df.columns.tolist()[:100]"
   ]
  },
  {
   "cell_type": "code",
   "execution_count": 13,
   "id": "3fe6303d-a235-42da-968d-7aa8ed8d9cfb",
   "metadata": {},
   "outputs": [
    {
     "data": {
      "text/plain": [
       "['Keeper Security GitHub Group']"
      ]
     },
     "execution_count": 13,
     "metadata": {},
     "output_type": "execute_result"
    }
   ],
   "source": [
    "\n",
    "df.top__name.unique().tolist()"
   ]
  },
  {
   "cell_type": "markdown",
   "id": "ffe2e7e6-4bc3-4b1b-937c-ba3373ab81e6",
   "metadata": {},
   "source": [
    "\n",
    "----"
   ]
  },
  {
   "cell_type": "code",
   "execution_count": 10,
   "id": "ae8b7a70-d57e-415c-8a59-e0720d955166",
   "metadata": {},
   "outputs": [],
   "source": [
    "\n",
    "html_prefix = '<!DOCTYPE NETSCAPE-Bookmark-file-1>\\n<!-- This is an automatically generated file.\\n'\n",
    "html_prefix += '     It will be read and overwritten.\\n     DO NOT EDIT! -->\\n<META HTTP-EQUIV=\"Content-Type\" CONTENT=\"text/html;'\n",
    "html_prefix += ' charset=UTF-8\">\\n<TITLE>Bookmarks</TITLE>\\n<H1>Bookmarks</H1>\\n<DL><p>'"
   ]
  },
  {
   "cell_type": "code",
   "execution_count": null,
   "id": "71b7cce3-6d31-45f9-9c33-0b05ac18aa18",
   "metadata": {},
   "outputs": [],
   "source": [
    "\n",
    "from datetime import datetime\n",
    "\n",
    "# Function to generate the Netscape Bookmark File Format\n",
    "def generate_bookmarks_html(dataframe, output_file):\n",
    "    \n",
    "    # Start the HTML file with the required Netscape Bookmark header\n",
    "    html_content = html_prefix + '\\n'\n",
    "\n",
    "    # Group bookmarks by folder\n",
    "    grouped = dataframe.groupby(['link_href', 'link_add_date', 'link_icon'])\n",
    "    for (link_href, link_add_date, link_icon), group in grouped:\n",
    "        # Add bookmarks directly\n",
    "        html_content += f'    <DT><A HREF=\"{link_href}\" ADD_DATE=\"{link_add_date}\" ICON=\"{link_icon}\">{row[\"link_title\"]}</A>\\n'\n",
    "\n",
    "    # Close the HTML structure\n",
    "    html_content += \"</DL><p>\\n\"\n",
    "\n",
    "    # Write the content to the output file\n",
    "    with open(output_file, 'w', encoding='utf-8') as file:\n",
    "        file.write(html_content)\n",
    "\n",
    "    print(f\"Bookmarks have been exported to '{output_file}'.\")\n",
    "\n",
    "# Filter the bookmarks_df to exclude non-working indices\n",
    "filtered_bookmarks_df = bookmarks_df.drop(index=non_working_indices)\n",
    "\n",
    "# Ensure the DataFrame has the necessary columns for the Netscape format\n",
    "# Required columns: 'link_href', 'link_add_date', 'link_title', and optionally 'link_icon' and 'folder'\n",
    "if not all(col in filtered_bookmarks_df.columns for col in ['link_href', 'link_add_date', 'link_title']):\n",
    "    raise ValueError(\"The DataFrame must contain 'link_href', 'link_add_date', and 'link_title' columns.\")\n",
    "\n",
    "# Generate the bookmarks.html file\n",
    "generate_bookmarks_html(filtered_bookmarks_df, 'bookmarks.html')"
   ]
  },
  {
   "cell_type": "code",
   "execution_count": 84,
   "id": "4dc72000-f77a-4bd9-b34b-71324239a777",
   "metadata": {},
   "outputs": [
    {
     "name": "stdout",
     "output_type": "stream",
     "text": [
      "['Favorites bar', '', 'Tools', '', 'API Examples', '', 'About the Indicators API Documentation – World Bank Data Help Desk', 'API:Main page - MediaWiki']\n",
      "['Tools', '', 'API Examples', '', 'About the Indicators API Documentation – World Bank Data Help Desk', 'API:Main page - MediaWiki']\n",
      "['API Examples', '', 'About the Indicators API Documentation – World Bank Data Help Desk', 'API:Main page - MediaWiki']\n",
      "['About the Indicators API Documentation – World Bank Data Help Desk', 'API:Main page - MediaWiki']\n"
     ]
    }
   ],
   "source": [
    "\n",
    "# Open and parse the HTML file, removing <p> tags\n",
    "with open(input_html, 'r', encoding='utf-8') as file:\n",
    "    page_html = file.read()\n",
    "    page_soup = BeautifulSoup(page_html.replace('<p>', ''), 'html.parser')\n",
    "top_level_dl = page_soup.find('dl')\n",
    "dt_tag1 = top_level_dl.find_all(['dt'], recursive=False)[0]\n",
    "print(dt_tag1.text.split('\\n')[:8])\n",
    "dl_tag1 = dt_tag1.find_all(['dl'], recursive=False)[0]\n",
    "dt_tag2 = dl_tag1.find_all(['dt'], recursive=False)[0]\n",
    "print(dt_tag2.text.split('\\n')[:6])\n",
    "dl_tag2 = dt_tag2.find_all(['dl'], recursive=False)[0]\n",
    "dt_tag3 = dl_tag2.find_all(['dt'], recursive=False)[0]\n",
    "print(dt_tag3.text.split('\\n')[:4])\n",
    "dl_tag3 = dt_tag3.find_all(['dl'], recursive=False)[0]\n",
    "dt_tag4 = dl_tag3.find_all(['dt'], recursive=False)[0]\n",
    "print(dt_tag4.text.split('\\n')[:2])"
   ]
  },
  {
   "cell_type": "code",
   "execution_count": 18,
   "id": "979249fc-5427-431c-8cdd-c409615222fd",
   "metadata": {},
   "outputs": [
    {
     "data": {
      "text/plain": [
       "['results.cancel_join_thread', 'results.close', 'results.empty', 'results.full', 'results.get', 'results.get_nowait', 'results.join_thread', 'results.put', 'results.put_nowait', 'results.qsize']"
      ]
     },
     "execution_count": 18,
     "metadata": {},
     "output_type": "execute_result"
    }
   ],
   "source": [
    "\n",
    "[f'results.{fn}' for fn in dir(results) if not fn.startswith('_')]"
   ]
  },
  {
   "cell_type": "code",
   "execution_count": 3,
   "id": "1b5f1400-1722-4c72-b075-a3623080db1b",
   "metadata": {},
   "outputs": [],
   "source": [
    "\n",
    "from pandas import DataFrame\n",
    "import pyperclip\n",
    "\n",
    "# Open and read the bookmarks.html file\n",
    "file_path = r\"C:\\Users\\daveb\\Downloads\\bookmarks_1_3_25.html\"\n",
    "with open(file_path, 'r', encoding='utf-8') as file:\n",
    "    html_content = file.read().replace('<p>', '')\n",
    "    pyperclip.copy(html_content)"
   ]
  },
  {
   "cell_type": "code",
   "execution_count": 62,
   "id": "4999f3d6-4212-4ff5-b708-512e7ac333ff",
   "metadata": {},
   "outputs": [
    {
     "name": "stdout",
     "output_type": "stream",
     "text": [
      "['srs.__delitem__', 'srs.__getitem__', 'srs.__setitem__', 'srs._check_setitem_copy', 'srs._clear_item_cache', 'srs._getitem_slice', 'srs._gotitem', 'srs._item_cache', 'srs.item', 'srs.items']\n"
     ]
    }
   ],
   "source": [
    "\n",
    "srs = bookmarks_df.link_href\n",
    "print([f'srs.{fn}' for fn in dir(srs) if 'item' in fn])"
   ]
  },
  {
   "cell_type": "code",
   "execution_count": 63,
   "id": "6548b844-c102-4cef-821c-231849b3f0fe",
   "metadata": {},
   "outputs": [
    {
     "data": {
      "text/plain": [
       "\u001b[1;31mSignature:\u001b[0m \u001b[0msrs\u001b[0m\u001b[1;33m.\u001b[0m\u001b[0mitems\u001b[0m\u001b[1;33m(\u001b[0m\u001b[1;33m)\u001b[0m \u001b[1;33m->\u001b[0m \u001b[1;34m'Iterable[tuple[Hashable, Any]]'\u001b[0m\u001b[1;33m\u001b[0m\u001b[1;33m\u001b[0m\u001b[0m\n",
       "\u001b[1;31mDocstring:\u001b[0m\n",
       "Lazily iterate over (index, value) tuples.\n",
       "\n",
       "This method returns an iterable tuple (index, value). This is\n",
       "convenient if you want to create a lazy iterator.\n",
       "\n",
       "Returns\n",
       "-------\n",
       "iterable\n",
       "    Iterable of tuples containing the (index, value) pairs from a\n",
       "    Series.\n",
       "\n",
       "See Also\n",
       "--------\n",
       "DataFrame.items : Iterate over (column name, Series) pairs.\n",
       "DataFrame.iterrows : Iterate over DataFrame rows as (index, Series) pairs.\n",
       "\n",
       "Examples\n",
       "--------\n",
       ">>> s = pd.Series(['A', 'B', 'C'])\n",
       ">>> for index, value in s.items():\n",
       "...     print(f\"Index : {index}, Value : {value}\")\n",
       "Index : 0, Value : A\n",
       "Index : 1, Value : B\n",
       "Index : 2, Value : C\n",
       "\u001b[1;31mFile:\u001b[0m      c:\\programdata\\anaconda3\\lib\\site-packages\\pandas\\core\\series.py\n",
       "\u001b[1;31mType:\u001b[0m      method"
      ]
     },
     "metadata": {},
     "output_type": "display_data"
    }
   ],
   "source": [
    "\n",
    "srs.items?"
   ]
  },
  {
   "cell_type": "code",
   "execution_count": null,
   "id": "e024181f-cfb2-46b5-ac6e-a2b1d8faf756",
   "metadata": {},
   "outputs": [],
   "source": []
  }
 ],
 "metadata": {
  "kernelspec": {
   "display_name": "Python 3 (ipykernel)",
   "language": "python",
   "name": "python3"
  },
  "language_info": {
   "codemirror_mode": {
    "name": "ipython",
    "version": 3
   },
   "file_extension": ".py",
   "mimetype": "text/x-python",
   "name": "python",
   "nbconvert_exporter": "python",
   "pygments_lexer": "ipython3",
   "version": "3.12.3"
  }
 },
 "nbformat": 4,
 "nbformat_minor": 5
}
