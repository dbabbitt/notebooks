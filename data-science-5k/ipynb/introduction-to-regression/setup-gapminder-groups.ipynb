{
 "cells": [
  {
   "cell_type": "code",
   "execution_count": 1,
   "metadata": {},
   "outputs": [
    {
     "name": "stdout",
     "output_type": "stream",
     "text": [
      "MinMaxScaler\t angle_between\t attempt_to_pickle\t conjunctify_list\t create_binned_categories\t data_folder\t data_provider_dict\t download_url\t encoding\t \n",
      "euclidean\t formal_name_dict\t gapminder_df\t get_min_max\t informal_name_dict\t load_object\t np\t number_column_list\t obj_path\t \n",
      "original_columns\t os\t pd\t pdist\t pickle\t round_down\t round_up\t saves_folder\t squareform\t \n",
      "store_objects\t unit_vector\t \n"
     ]
    }
   ],
   "source": [
    "\n",
    "%run ../data-visualization/load-gapminder_df.ipynb\n",
    "%who"
   ]
  },
  {
   "cell_type": "code",
   "execution_count": null,
   "metadata": {
    "collapsed": true
   },
   "outputs": [],
   "source": [
    "\n",
    "column_DBSCAN_dict = load_object('column_DBSCAN_dict')"
   ]
  },
  {
   "cell_type": "code",
   "execution_count": null,
   "metadata": {
    "collapsed": true
   },
   "outputs": [],
   "source": [
    "\n",
    "from sklearn.cluster import DBSCAN"
   ]
  },
  {
   "cell_type": "code",
   "execution_count": null,
   "metadata": {
    "collapsed": true
   },
   "outputs": [],
   "source": [
    "\n",
    "gapminder_df.columns\n",
    "column_DBSCAN_dict.items()"
   ]
  },
  {
   "cell_type": "code",
   "execution_count": null,
   "metadata": {
    "collapsed": true
   },
   "outputs": [],
   "source": [
    "\n",
    "at_least_two_categories_little_noise = dict(eps=1.70078125, min_samples=1)\n",
    "column_name = 'urban_rate'\n",
    "column_DBSCAN = DBSCAN(**at_least_two_categories_little_noise).fit(gapminder_df[column_name].dropna().as_matrix().reshape(-1, 1))\n",
    "pd.Series(column_DBSCAN.labels_).value_counts(sort=False).sort_index()"
   ]
  },
  {
   "cell_type": "code",
   "execution_count": null,
   "metadata": {
    "collapsed": true
   },
   "outputs": [],
   "source": [
    "\n",
    "column_DBSCAN_dict[column_name] = at_least_two_categories_little_noise\n",
    "store_objects(column_DBSCAN_dict=column_DBSCAN_dict)"
   ]
  },
  {
   "cell_type": "code",
   "execution_count": null,
   "metadata": {
    "collapsed": true,
    "scrolled": false
   },
   "outputs": [],
   "source": [
    "\n",
    "column_df = gapminder_df[column_name].dropna().to_frame()\n",
    "labels_df = pd.DataFrame(column_DBSCAN.labels_, index=column_df.index)\n",
    "labels_df.columns = [column_name+'_group']\n",
    "gapminder_df = pd.merge(gapminder_df, labels_df, how='left', left_index=True, right_index=True)"
   ]
  },
  {
   "cell_type": "code",
   "execution_count": null,
   "metadata": {
    "collapsed": true
   },
   "outputs": [],
   "source": [
    "\n",
    "original_shape = (289, 16)\n",
    "gapminder_df.shape\n",
    "match_series = gapminder_df.duplicated(subset='country_name', keep=False)\n",
    "gapminder_df[match_series].shape"
   ]
  },
  {
   "cell_type": "code",
   "execution_count": null,
   "metadata": {
    "collapsed": true
   },
   "outputs": [],
   "source": [
    "\n",
    "pickle_path = saves_folder + 'pickle/gapminder_df.pickle'\n",
    "try:\n",
    "    attempt_to_pickle(gapminder_df, pickle_path, raise_exception=True)\n",
    "except:\n",
    "    print('Now saving as a csv.')\n",
    "    csv_path = data_folder + 'csv/gapminder_df.csv'\n",
    "    coinbaseUSD_df.to_csv(csv_path, sep=',', encoding=encoding, index=False)"
   ]
  },
  {
   "cell_type": "code",
   "execution_count": null,
   "metadata": {
    "collapsed": true
   },
   "outputs": [],
   "source": []
  }
 ],
 "metadata": {
  "kernelspec": {
   "display_name": "Python 3",
   "language": "python",
   "name": "python3"
  },
  "language_info": {
   "codemirror_mode": {
    "name": "ipython",
    "version": 3
   },
   "file_extension": ".py",
   "mimetype": "text/x-python",
   "name": "python",
   "nbconvert_exporter": "python",
   "pygments_lexer": "ipython3",
   "version": "3.6.3"
  }
 },
 "nbformat": 4,
 "nbformat_minor": 2
}
