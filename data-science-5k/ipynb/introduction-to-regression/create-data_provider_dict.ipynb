{
 "cells": [
  {
   "cell_type": "code",
   "execution_count": 2,
   "metadata": {},
   "outputs": [
    {
     "name": "stdout",
     "output_type": "stream",
     "text": [
      "MinMaxScaler\t angle_between\t conjunctify_list\t create_binned_categories\t data_folder\t download_url\t encoding\t euclidean\t formal_name_dict\t \n",
      "gapminder_df\t get_min_max\t informal_name_dict\t load_object\t np\t number_column_list\t obj_path\t os\t pd\t \n",
      "pdist\t pickle\t round_down\t round_up\t saves_folder\t squareform\t store_objects\t unit_vector\t \n"
     ]
    }
   ],
   "source": [
    "\n",
    "%run ../data-visualization/load-gapminder_df.ipynb\n",
    "%who"
   ]
  },
  {
   "cell_type": "code",
   "execution_count": null,
   "metadata": {
    "collapsed": true
   },
   "outputs": [],
   "source": [
    "\n",
    "class Descriptions(object):\n",
    "\n",
    "    def __init__(self, df, **kwargs):\n",
    "        prop_defaults = {\n",
    "            'confounder1_category_count': 5,\n",
    "            'cc1_labels_list': ['Very Low', 'Low', 'Moderate', 'High', 'Very High'],\n",
    "            'verbose_html': '',\n",
    "            'cc1_informal_name': 'ethnic',\n",
    "        }\n",
    "\n",
    "        for (prop, default) in prop_defaults.items():\n",
    "            setattr(self, prop, kwargs.get(prop, default))\n",
    "        \n",
    "        self.df = df #.dropna(how='any', subset=self.subset_columns).copy()\n",
    "        self.row_count = self.df.shape[0]\n",
    "        \n",
    "        # Categorical Confounder\n",
    "        if 'cc1_categories' in self.df.columns:\n",
    "            self.cc1_list = sorted(self.df['cc1_categories'].astype('float64').unique().tolist())\n",
    "            self.cc1_labels_dict = dict(zip(self.cc1_list, self.cc1_labels_list))\n",
    "            self.confounder1_category_count = len(self.cc1_list)\n",
    "            self.confounder1_description_list = []\n",
    "            for group_label, group_count in self.df['cc1_categories'].value_counts().iteritems():\n",
    "\n",
    "                # African American (n = 414, 34.4%)\n",
    "                group_description = '{0} (n = {1:d}, {2:.2%})'.format(self.cc1_labels_dict[group_label],\n",
    "                                                                      group_count, group_count/self.row_count)\n",
    "\n",
    "                self.confounde1r_description_list.append(group_description)\n",
    "\n",
    "    def sample_description(self):\n",
    "        self.sample_description_html = ('The sample of ' +\n",
    "                                        self.row_count + ' countries was drawn from the GapMinder.org dataset. The ' +\n",
    "                                        self.cc1_informal_name + ' composition was ' + \n",
    "                                        conjunctify_list(self.confounder1_description_list) + '. The ' +\n",
    "                                        self.cc2_informal_name + ' composition was ' + \n",
    "                                        conjunctify_list(self.confounder2_description_list) + '. The ' +\n",
    "                                        self.cc3_informal_name + ' composition was ' + \n",
    "                                        conjunctify_list(self.confounder3_description_list) + '. The ' +\n",
    "                                        self.cc4_informal_name + ' composition was ' + \n",
    "                                        conjunctify_list(self.confounder4_description_list) + '.')\n",
    "\n",
    "    def procedures_description(self):\n",
    "        self.procedures_description_html = ('Random sampling was used to recruit participants for this study.' +\n",
    "                                            'Surveyors went to considerable lengths to secure a high completion rate,' +\n",
    "                                            'including up to four call-backs, letters, and monetary incentives.' +\n",
    "                                            'Trained researcher assistants conducted face-to-face interviews with all study participants.' +\n",
    "                                            'Sensitive questions about substance use and sexual behavior were asked using' +\n",
    "                                            'computer assisted interviewing to increase the reliability of responses.')\n",
    "\n",
    "    def measures_description(self):\n",
    "        self.measures_description_html = ('The measure of tuberculosis (TB) was drawn from country level surveillance data' +\n",
    "                                          'compiled by the World Health Organization in their Global Tuberculosis Database (' +\n",
    "                                          'www.who.int/globalatlas/dataQuery/default.asp' +\n",
    "                                          '), and made available for download through the Gapminder web site (www.gapminder.org).' +\n",
    "                                          'It measures the estimated number of new TB cases (all forms) among 100,000 residents' +\n",
    "                                          'in each country during 2008. For the current analysis, it was binned into four' +\n",
    "                                          'categories based on a quartile split.')"
   ]
  },
  {
   "cell_type": "code",
   "execution_count": 10,
   "metadata": {},
   "outputs": [
    {
     "data": {
      "text/plain": [
       "Index(['Indicator name', 'Data provider', 'Category', 'Subcategory',\n",
       "       'Download View Visualize'],\n",
       "      dtype='object')"
      ]
     },
     "execution_count": 10,
     "metadata": {},
     "output_type": "execute_result"
    }
   ],
   "source": [
    "\n",
    "file_path = data_folder + 'html/gapminder_codebook.html'\n",
    "gapminder_codebook_df = pd.read_html(file_path)[0]\n",
    "gapminder_codebook_df.columns"
   ]
  },
  {
   "cell_type": "code",
   "execution_count": 9,
   "metadata": {
    "collapsed": true
   },
   "outputs": [],
   "source": [
    "\n",
    "formal_name_list = []\n",
    "for column_name in gapminder_df.columns[1:]:\n",
    "    formal_name_list.append(formal_name_dict[column_name])"
   ]
  },
  {
   "cell_type": "code",
   "execution_count": 13,
   "metadata": {
    "collapsed": true
   },
   "outputs": [],
   "source": [
    "# %load ../../../load_magic/lists.py\n",
    "\n",
    "from difflib import SequenceMatcher\n",
    "import time\n",
    "import pandas as pd\n",
    "\n",
    "def check_4_doubles(item_list):\n",
    "    t0 = time.time()\n",
    "    rows_list = []\n",
    "    n = len(item_list)\n",
    "    for i in range(n-1):\n",
    "        first_item = item_list[i]\n",
    "        max_similarity = 0.0\n",
    "        max_item = first_item\n",
    "        for j in range(i+1, n):\n",
    "            second_item = item_list[j]\n",
    "\n",
    "            # Assume the first item is never identical to the second item\n",
    "            this_similarity = similar(str(first_item), str(second_item))\n",
    "            \n",
    "            if this_similarity > max_similarity:\n",
    "                max_similarity = this_similarity\n",
    "                max_item = second_item\n",
    "\n",
    "        # Get input row in dictionary format; key = col_name\n",
    "        row_dict = {}\n",
    "        row_dict['first_item'] = first_item\n",
    "        row_dict['second_item'] = max_item\n",
    "        row_dict['first_bytes'] = '-'.join(str(x) for x in bytearray(str(first_item),\n",
    "                                                                     encoding=encoding, errors=\"replace\"))\n",
    "        row_dict['second_bytes'] = '-'.join(str(x) for x in bytearray(str(max_item),\n",
    "                                                                      encoding=encoding, errors=\"replace\"))\n",
    "        row_dict['max_similarity'] = max_similarity\n",
    "\n",
    "        rows_list.append(row_dict)\n",
    "\n",
    "    column_list = ['first_item', 'second_item', 'first_bytes', 'second_bytes', 'max_similarity']\n",
    "    item_similarities_df = pd.DataFrame(rows_list, columns=column_list)\n",
    "    t1 = time.time()\n",
    "    print(t1-t0, time.ctime(t1))\n",
    "\n",
    "    return item_similarities_df\n",
    "\n",
    "def similar(a, b):\n",
    "    return SequenceMatcher(None, str(a), str(b)).ratio()\n",
    "\n",
    "#Check the closest names for typos\n",
    "def check_for_typos(left_list, right_list):\n",
    "    t0 = time.time()\n",
    "    rows_list = []\n",
    "    for left_item in left_list:\n",
    "        max_similarity = 0.0\n",
    "        max_item = left_item\n",
    "        for right_item in right_list:\n",
    "            this_similarity = similar(left_item, right_item)\n",
    "            if this_similarity > max_similarity:\n",
    "                max_similarity = this_similarity\n",
    "                max_item = right_item\n",
    "\n",
    "        # Get input row in dictionary format; key = col_name\n",
    "        row_dict = {}\n",
    "        row_dict['left_item'] = left_item\n",
    "        row_dict['right_item'] = max_item\n",
    "        row_dict['max_similarity'] = max_similarity\n",
    "\n",
    "        rows_list.append(row_dict)\n",
    "\n",
    "    column_list = ['left_item', 'right_item', 'max_similarity']\n",
    "    name_similarities_df = pd.DataFrame(rows_list, columns=column_list)\n",
    "    t1 = time.time()\n",
    "    print(t1-t0, time.ctime(t1))\n",
    "    \n",
    "    return name_similarities_df"
   ]
  },
  {
   "cell_type": "code",
   "execution_count": 14,
   "metadata": {},
   "outputs": [
    {
     "name": "stdout",
     "output_type": "stream",
     "text": [
      "1.1289007663726807 Tue Dec 26 17:47:59 2017\n"
     ]
    }
   ],
   "source": [
    "\n",
    "name_similarities_df = check_for_typos(formal_name_list, gapminder_codebook_df['Indicator name'])"
   ]
  },
  {
   "cell_type": "code",
   "execution_count": 37,
   "metadata": {},
   "outputs": [
    {
     "data": {
      "text/html": [
       "<div>\n",
       "<style>\n",
       "    .dataframe thead tr:only-child th {\n",
       "        text-align: right;\n",
       "    }\n",
       "\n",
       "    .dataframe thead th {\n",
       "        text-align: left;\n",
       "    }\n",
       "\n",
       "    .dataframe tbody tr th {\n",
       "        vertical-align: top;\n",
       "    }\n",
       "</style>\n",
       "<table border=\"1\" class=\"dataframe\">\n",
       "  <thead>\n",
       "    <tr style=\"text-align: right;\">\n",
       "      <th></th>\n",
       "      <th>left_item</th>\n",
       "      <th>right_item</th>\n",
       "      <th>max_similarity</th>\n",
       "    </tr>\n",
       "  </thead>\n",
       "  <tbody>\n",
       "    <tr>\n",
       "      <th>7</th>\n",
       "      <td>2010 Internet users per 100 people</td>\n",
       "      <td>Internet users (per 100 people)</td>\n",
       "      <td>0.892308</td>\n",
       "    </tr>\n",
       "    <tr>\n",
       "      <th>2</th>\n",
       "      <td>Armed forces personnel as a % of total labor f...</td>\n",
       "      <td>Armed forces personnel (% of labor force)</td>\n",
       "      <td>0.857143</td>\n",
       "    </tr>\n",
       "    <tr>\n",
       "      <th>1</th>\n",
       "      <td>2008 alcohol consumption per adult (age 15+) i...</td>\n",
       "      <td>Alcohol consumption per adult 15+ (litres)</td>\n",
       "      <td>0.812500</td>\n",
       "    </tr>\n",
       "    <tr>\n",
       "      <th>14</th>\n",
       "      <td>2008 urban population as a % of total</td>\n",
       "      <td>Urban population (% of total)</td>\n",
       "      <td>0.787879</td>\n",
       "    </tr>\n",
       "    <tr>\n",
       "      <th>11</th>\n",
       "      <td>2008 residential electricity consumption per p...</td>\n",
       "      <td>Residential electricity use, per person</td>\n",
       "      <td>0.721649</td>\n",
       "    </tr>\n",
       "    <tr>\n",
       "      <th>4</th>\n",
       "      <td>2006 cumulative CO2 emission in metric tons</td>\n",
       "      <td>Cumulative CO2 emissions (tonnes)</td>\n",
       "      <td>0.710526</td>\n",
       "    </tr>\n",
       "    <tr>\n",
       "      <th>8</th>\n",
       "      <td>2011 life expectancy at birth in years</td>\n",
       "      <td>Life expectancy at birth, temporary update</td>\n",
       "      <td>0.675000</td>\n",
       "    </tr>\n",
       "    <tr>\n",
       "      <th>10</th>\n",
       "      <td>2009 Democracy score as measured by Polity</td>\n",
       "      <td>Democracy score (use as color)</td>\n",
       "      <td>0.583333</td>\n",
       "    </tr>\n",
       "    <tr>\n",
       "      <th>3</th>\n",
       "      <td>2002 breast cancer new cases per hundred thous...</td>\n",
       "      <td>Breast cancer, new cases per 100,000 women</td>\n",
       "      <td>0.565657</td>\n",
       "    </tr>\n",
       "    <tr>\n",
       "      <th>9</th>\n",
       "      <td>2010 oil Consumption per capita in tonnes per ...</td>\n",
       "      <td>Oil consumption, per person</td>\n",
       "      <td>0.545455</td>\n",
       "    </tr>\n",
       "    <tr>\n",
       "      <th>0</th>\n",
       "      <td>2010 Gross Domestic Product per capita in cons...</td>\n",
       "      <td>GNI/capita (constant 2000 US$)</td>\n",
       "      <td>0.539326</td>\n",
       "    </tr>\n",
       "    <tr>\n",
       "      <th>5</th>\n",
       "      <td>2007 female employees age 15+ as a % of popula...</td>\n",
       "      <td>Females aged 15+ labour force participation ra...</td>\n",
       "      <td>0.509804</td>\n",
       "    </tr>\n",
       "    <tr>\n",
       "      <th>13</th>\n",
       "      <td>2007 total employees age 15+ as a % of population</td>\n",
       "      <td>Males aged 15+ labour force participation rate...</td>\n",
       "      <td>0.484848</td>\n",
       "    </tr>\n",
       "    <tr>\n",
       "      <th>6</th>\n",
       "      <td>2009 estimated HIV Prevalence % for Ages 15-49</td>\n",
       "      <td>Literacy rate, youth female (% of females ages...</td>\n",
       "      <td>0.464646</td>\n",
       "    </tr>\n",
       "    <tr>\n",
       "      <th>12</th>\n",
       "      <td>2005 Suicide age adjusted per hundred thousand</td>\n",
       "      <td>Suicide age 60+ (per 100,000 people)</td>\n",
       "      <td>0.463415</td>\n",
       "    </tr>\n",
       "  </tbody>\n",
       "</table>\n",
       "</div>"
      ],
      "text/plain": [
       "                                            left_item  \\\n",
       "7                  2010 Internet users per 100 people   \n",
       "2   Armed forces personnel as a % of total labor f...   \n",
       "1   2008 alcohol consumption per adult (age 15+) i...   \n",
       "14              2008 urban population as a % of total   \n",
       "11  2008 residential electricity consumption per p...   \n",
       "4         2006 cumulative CO2 emission in metric tons   \n",
       "8              2011 life expectancy at birth in years   \n",
       "10         2009 Democracy score as measured by Polity   \n",
       "3   2002 breast cancer new cases per hundred thous...   \n",
       "9   2010 oil Consumption per capita in tonnes per ...   \n",
       "0   2010 Gross Domestic Product per capita in cons...   \n",
       "5   2007 female employees age 15+ as a % of popula...   \n",
       "13  2007 total employees age 15+ as a % of population   \n",
       "6      2009 estimated HIV Prevalence % for Ages 15-49   \n",
       "12     2005 Suicide age adjusted per hundred thousand   \n",
       "\n",
       "                                           right_item  max_similarity  \n",
       "7                     Internet users (per 100 people)        0.892308  \n",
       "2           Armed forces personnel (% of labor force)        0.857143  \n",
       "1          Alcohol consumption per adult 15+ (litres)        0.812500  \n",
       "14                      Urban population (% of total)        0.787879  \n",
       "11            Residential electricity use, per person        0.721649  \n",
       "4                   Cumulative CO2 emissions (tonnes)        0.710526  \n",
       "8          Life expectancy at birth, temporary update        0.675000  \n",
       "10                     Democracy score (use as color)        0.583333  \n",
       "3          Breast cancer, new cases per 100,000 women        0.565657  \n",
       "9                         Oil consumption, per person        0.545455  \n",
       "0                      GNI/capita (constant 2000 US$)        0.539326  \n",
       "5   Females aged 15+ labour force participation ra...        0.509804  \n",
       "13  Males aged 15+ labour force participation rate...        0.484848  \n",
       "6   Literacy rate, youth female (% of females ages...        0.464646  \n",
       "12               Suicide age 60+ (per 100,000 people)        0.463415  "
      ]
     },
     "execution_count": 37,
     "metadata": {},
     "output_type": "execute_result"
    }
   ],
   "source": [
    "\n",
    "name_similarities_df.sort_values('max_similarity', ascending=False)"
   ]
  },
  {
   "cell_type": "code",
   "execution_count": 38,
   "metadata": {},
   "outputs": [
    {
     "data": {
      "text/html": [
       "<div>\n",
       "<style>\n",
       "    .dataframe thead tr:only-child th {\n",
       "        text-align: right;\n",
       "    }\n",
       "\n",
       "    .dataframe thead th {\n",
       "        text-align: left;\n",
       "    }\n",
       "\n",
       "    .dataframe tbody tr th {\n",
       "        vertical-align: top;\n",
       "    }\n",
       "</style>\n",
       "<table border=\"1\" class=\"dataframe\">\n",
       "  <thead>\n",
       "    <tr style=\"text-align: right;\">\n",
       "      <th></th>\n",
       "      <th>283</th>\n",
       "    </tr>\n",
       "  </thead>\n",
       "  <tbody>\n",
       "    <tr>\n",
       "      <th>Indicator name</th>\n",
       "      <td>Males aged 15+ labour force participation rate...</td>\n",
       "    </tr>\n",
       "    <tr>\n",
       "      <th>Data provider</th>\n",
       "      <td>International Labour Organization</td>\n",
       "    </tr>\n",
       "    <tr>\n",
       "      <th>Category</th>\n",
       "      <td>Work</td>\n",
       "    </tr>\n",
       "    <tr>\n",
       "      <th>Subcategory</th>\n",
       "      <td>Labour force participation</td>\n",
       "    </tr>\n",
       "    <tr>\n",
       "      <th>Download View Visualize</th>\n",
       "      <td>NaN</td>\n",
       "    </tr>\n",
       "  </tbody>\n",
       "</table>\n",
       "</div>"
      ],
      "text/plain": [
       "                                                                       283\n",
       "Indicator name           Males aged 15+ labour force participation rate...\n",
       "Data provider                            International Labour Organization\n",
       "Category                                                              Work\n",
       "Subcategory                                     Labour force participation\n",
       "Download View Visualize                                                NaN"
      ]
     },
     "execution_count": 38,
     "metadata": {},
     "output_type": "execute_result"
    }
   ],
   "source": [
    "\n",
    "problem_child = '2007 total employees age 15+ as a % of population'\n",
    "match_series = (name_similarities_df['left_item'] == problem_child)\n",
    "indicator_name = name_similarities_df[match_series]['right_item'].tolist()[0]\n",
    "match_series = (gapminder_codebook_df['Indicator name'] == indicator_name)\n",
    "gapminder_codebook_df[match_series].T"
   ]
  },
  {
   "cell_type": "code",
   "execution_count": 29,
   "metadata": {},
   "outputs": [
    {
     "name": "stdout",
     "output_type": "stream",
     "text": [
      "16.446537256240845 Tue Dec 26 19:08:26 2017\n"
     ]
    },
    {
     "data": {
      "text/html": [
       "<div>\n",
       "<style>\n",
       "    .dataframe thead tr:only-child th {\n",
       "        text-align: right;\n",
       "    }\n",
       "\n",
       "    .dataframe thead th {\n",
       "        text-align: left;\n",
       "    }\n",
       "\n",
       "    .dataframe tbody tr th {\n",
       "        vertical-align: top;\n",
       "    }\n",
       "</style>\n",
       "<table border=\"1\" class=\"dataframe\">\n",
       "  <thead>\n",
       "    <tr style=\"text-align: right;\">\n",
       "      <th></th>\n",
       "      <th>306</th>\n",
       "    </tr>\n",
       "  </thead>\n",
       "  <tbody>\n",
       "    <tr>\n",
       "      <th>first_item</th>\n",
       "      <td>2007 total employees age 15+ as a % of population</td>\n",
       "    </tr>\n",
       "    <tr>\n",
       "      <th>second_item</th>\n",
       "      <td>Females aged 15+ labour force participation ra...</td>\n",
       "    </tr>\n",
       "    <tr>\n",
       "      <th>first_bytes</th>\n",
       "      <td>50-48-48-55-32-116-111-116-97-108-32-101-109-1...</td>\n",
       "    </tr>\n",
       "    <tr>\n",
       "      <th>second_bytes</th>\n",
       "      <td>70-101-109-97-108-101-115-32-97-103-101-100-32...</td>\n",
       "    </tr>\n",
       "    <tr>\n",
       "      <th>max_similarity</th>\n",
       "      <td>0.475248</td>\n",
       "    </tr>\n",
       "  </tbody>\n",
       "</table>\n",
       "</div>"
      ],
      "text/plain": [
       "                                                              306\n",
       "first_item      2007 total employees age 15+ as a % of population\n",
       "second_item     Females aged 15+ labour force participation ra...\n",
       "first_bytes     50-48-48-55-32-116-111-116-97-108-32-101-109-1...\n",
       "second_bytes    70-101-109-97-108-101-115-32-97-103-101-100-32...\n",
       "max_similarity                                           0.475248"
      ]
     },
     "execution_count": 29,
     "metadata": {},
     "output_type": "execute_result"
    }
   ],
   "source": [
    "\n",
    "# It looks like you need to add the males and females together\n",
    "match_series = (name_similarities_df['left_item'] == problem_child)\n",
    "item_list = list(set([problem_child] + gapminder_codebook_df['Indicator name'].tolist()) -\n",
    "                 set(name_similarities_df[match_series]['right_item'].tolist()))\n",
    "item_similarities_df = check_4_doubles(item_list)\n",
    "\n",
    "match_series = (item_similarities_df['first_item'] == problem_child)\n",
    "item_similarities_df[match_series].T"
   ]
  },
  {
   "cell_type": "code",
   "execution_count": 33,
   "metadata": {},
   "outputs": [
    {
     "data": {
      "text/html": [
       "<div>\n",
       "<style>\n",
       "    .dataframe thead tr:only-child th {\n",
       "        text-align: right;\n",
       "    }\n",
       "\n",
       "    .dataframe thead th {\n",
       "        text-align: left;\n",
       "    }\n",
       "\n",
       "    .dataframe tbody tr th {\n",
       "        vertical-align: top;\n",
       "    }\n",
       "</style>\n",
       "<table border=\"1\" class=\"dataframe\">\n",
       "  <thead>\n",
       "    <tr style=\"text-align: right;\">\n",
       "      <th></th>\n",
       "      <th>161</th>\n",
       "    </tr>\n",
       "  </thead>\n",
       "  <tbody>\n",
       "    <tr>\n",
       "      <th>Indicator name</th>\n",
       "      <td>Females aged 15+ labour force participation ra...</td>\n",
       "    </tr>\n",
       "    <tr>\n",
       "      <th>Data provider</th>\n",
       "      <td>International Labour Organization</td>\n",
       "    </tr>\n",
       "    <tr>\n",
       "      <th>Category</th>\n",
       "      <td>Work</td>\n",
       "    </tr>\n",
       "    <tr>\n",
       "      <th>Subcategory</th>\n",
       "      <td>Labour force participation</td>\n",
       "    </tr>\n",
       "    <tr>\n",
       "      <th>Download View Visualize</th>\n",
       "      <td>NaN</td>\n",
       "    </tr>\n",
       "  </tbody>\n",
       "</table>\n",
       "</div>"
      ],
      "text/plain": [
       "                                                                       161\n",
       "Indicator name           Females aged 15+ labour force participation ra...\n",
       "Data provider                            International Labour Organization\n",
       "Category                                                              Work\n",
       "Subcategory                                     Labour force participation\n",
       "Download View Visualize                                                NaN"
      ]
     },
     "execution_count": 33,
     "metadata": {},
     "output_type": "execute_result"
    }
   ],
   "source": [
    "\n",
    "indicator_name = item_similarities_df[match_series]['second_item'].tolist()[0]\n",
    "match_series = (gapminder_codebook_df['Indicator name'] == indicator_name)\n",
    "gapminder_codebook_df[match_series].T"
   ]
  },
  {
   "cell_type": "code",
   "execution_count": 34,
   "metadata": {},
   "outputs": [
    {
     "name": "stdout",
     "output_type": "stream",
     "text": [
      "16.4240140914917 Tue Dec 26 19:11:26 2017\n"
     ]
    },
    {
     "data": {
      "text/html": [
       "<div>\n",
       "<style>\n",
       "    .dataframe thead tr:only-child th {\n",
       "        text-align: right;\n",
       "    }\n",
       "\n",
       "    .dataframe thead th {\n",
       "        text-align: left;\n",
       "    }\n",
       "\n",
       "    .dataframe tbody tr th {\n",
       "        vertical-align: top;\n",
       "    }\n",
       "</style>\n",
       "<table border=\"1\" class=\"dataframe\">\n",
       "  <thead>\n",
       "    <tr style=\"text-align: right;\">\n",
       "      <th></th>\n",
       "      <th>150</th>\n",
       "    </tr>\n",
       "  </thead>\n",
       "  <tbody>\n",
       "    <tr>\n",
       "      <th>first_item</th>\n",
       "      <td>HIV</td>\n",
       "    </tr>\n",
       "    <tr>\n",
       "      <th>second_item</th>\n",
       "      <td>Adults with HIV (%, age 15-49)</td>\n",
       "    </tr>\n",
       "    <tr>\n",
       "      <th>first_bytes</th>\n",
       "      <td>72-73-86</td>\n",
       "    </tr>\n",
       "    <tr>\n",
       "      <th>second_bytes</th>\n",
       "      <td>65-100-117-108-116-115-32-119-105-116-104-32-7...</td>\n",
       "    </tr>\n",
       "    <tr>\n",
       "      <th>max_similarity</th>\n",
       "      <td>0.181818</td>\n",
       "    </tr>\n",
       "  </tbody>\n",
       "</table>\n",
       "</div>"
      ],
      "text/plain": [
       "                                                              150\n",
       "first_item                                                    HIV\n",
       "second_item                        Adults with HIV (%, age 15-49)\n",
       "first_bytes                                              72-73-86\n",
       "second_bytes    65-100-117-108-116-115-32-119-105-116-104-32-7...\n",
       "max_similarity                                           0.181818"
      ]
     },
     "execution_count": 34,
     "metadata": {},
     "output_type": "execute_result"
    }
   ],
   "source": [
    "\n",
    "problem_child = 'HIV'\n",
    "\n",
    "match_series = (name_similarities_df['left_item'] == problem_child)\n",
    "item_list = list(set([problem_child] + gapminder_codebook_df['Indicator name'].tolist()) -\n",
    "                 set(name_similarities_df[match_series]['right_item'].tolist()))\n",
    "item_similarities_df = check_4_doubles(item_list)\n",
    "\n",
    "match_series = (item_similarities_df['first_item'] == problem_child)\n",
    "item_similarities_df[match_series].T"
   ]
  },
  {
   "cell_type": "code",
   "execution_count": 35,
   "metadata": {},
   "outputs": [
    {
     "data": {
      "text/html": [
       "<div>\n",
       "<style>\n",
       "    .dataframe thead tr:only-child th {\n",
       "        text-align: right;\n",
       "    }\n",
       "\n",
       "    .dataframe thead th {\n",
       "        text-align: left;\n",
       "    }\n",
       "\n",
       "    .dataframe tbody tr th {\n",
       "        vertical-align: top;\n",
       "    }\n",
       "</style>\n",
       "<table border=\"1\" class=\"dataframe\">\n",
       "  <thead>\n",
       "    <tr style=\"text-align: right;\">\n",
       "      <th></th>\n",
       "      <th>0</th>\n",
       "    </tr>\n",
       "  </thead>\n",
       "  <tbody>\n",
       "    <tr>\n",
       "      <th>Indicator name</th>\n",
       "      <td>Adults with HIV (%, age 15-49)</td>\n",
       "    </tr>\n",
       "    <tr>\n",
       "      <th>Data provider</th>\n",
       "      <td>Based on UNAIDS</td>\n",
       "    </tr>\n",
       "    <tr>\n",
       "      <th>Category</th>\n",
       "      <td>Health</td>\n",
       "    </tr>\n",
       "    <tr>\n",
       "      <th>Subcategory</th>\n",
       "      <td>HIV</td>\n",
       "    </tr>\n",
       "    <tr>\n",
       "      <th>Download View Visualize</th>\n",
       "      <td>NaN</td>\n",
       "    </tr>\n",
       "  </tbody>\n",
       "</table>\n",
       "</div>"
      ],
      "text/plain": [
       "                                                      0\n",
       "Indicator name           Adults with HIV (%, age 15-49)\n",
       "Data provider                           Based on UNAIDS\n",
       "Category                                         Health\n",
       "Subcategory                                         HIV\n",
       "Download View Visualize                             NaN"
      ]
     },
     "execution_count": 35,
     "metadata": {},
     "output_type": "execute_result"
    }
   ],
   "source": [
    "\n",
    "indicator_name = item_similarities_df[match_series]['second_item'].tolist()[0]\n",
    "match_series = (gapminder_codebook_df['Indicator name'] == indicator_name)\n",
    "gapminder_codebook_df[match_series].T"
   ]
  },
  {
   "cell_type": "code",
   "execution_count": 39,
   "metadata": {},
   "outputs": [
    {
     "data": {
      "text/plain": [
       "Index(['country_name', 'income_per_person', 'alcohol_consumption',\n",
       "       'armed_forces_rate', 'breast_cancer_per_100th', 'co2_emissions',\n",
       "       'female_employment_rate', 'hiv_rate', 'internet_use_rate',\n",
       "       'life_expectancy', 'oil_per_person', 'polity_score',\n",
       "       'residential_electricity_per_person', 'suicide_per_100th',\n",
       "       'employment_rate', 'urban_rate'],\n",
       "      dtype='object')"
      ]
     },
     "execution_count": 39,
     "metadata": {},
     "output_type": "execute_result"
    }
   ],
   "source": [
    "\n",
    "gapminder_df.columns"
   ]
  },
  {
   "cell_type": "code",
   "execution_count": 40,
   "metadata": {
    "collapsed": true
   },
   "outputs": [],
   "source": [
    "\n",
    "data_provider_dict = {}\n",
    "for column_name in gapminder_df.columns[1:]:\n",
    "    formal_name = formal_name_dict[column_name]\n",
    "    match_series = (name_similarities_df['left_item'] == formal_name)\n",
    "    indicator_name = name_similarities_df[match_series]['right_item'].tolist()[0]\n",
    "    match_series = (gapminder_codebook_df['Indicator name'] == indicator_name)\n",
    "    data_provider = gapminder_codebook_df[match_series]['Data provider'].tolist()[0]\n",
    "    data_provider_dict[column_name] = data_provider\n",
    "data_provider_dict['hiv_rate'] = 'Based on UNAIDS'\n",
    "store_objects(data_provider_dict=data_provider_dict)"
   ]
  },
  {
   "cell_type": "code",
   "execution_count": null,
   "metadata": {
    "collapsed": true
   },
   "outputs": [],
   "source": []
  }
 ],
 "metadata": {
  "kernelspec": {
   "display_name": "Python 3",
   "language": "python",
   "name": "python3"
  },
  "language_info": {
   "codemirror_mode": {
    "name": "ipython",
    "version": 3
   },
   "file_extension": ".py",
   "mimetype": "text/x-python",
   "name": "python",
   "nbconvert_exporter": "python",
   "pygments_lexer": "ipython3",
   "version": "3.6.3"
  }
 },
 "nbformat": 4,
 "nbformat_minor": 2
}
