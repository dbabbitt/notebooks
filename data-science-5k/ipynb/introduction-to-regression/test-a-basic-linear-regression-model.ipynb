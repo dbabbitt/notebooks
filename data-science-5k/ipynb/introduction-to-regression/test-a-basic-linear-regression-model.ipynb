{
 "cells": [
  {
   "cell_type": "markdown",
   "metadata": {},
   "source": [
    "\n",
    "This week's assignment asks you to test a basic linear regression model for the association between your primary explanatory variable and a response variable, and to create a blog entry describing your results."
   ]
  },
  {
   "cell_type": "code",
   "execution_count": 1,
   "metadata": {
    "collapsed": false
   },
   "outputs": [
    {
     "name": "stdout",
     "output_type": "stream",
     "text": [
      "<module 'platform' from 'C:\\\\Users\\\\Dave\\\\Anaconda3\\\\lib\\\\platform.py'>\n",
      "DBSCAN\t HTML\t IPython\t Image\t MinMaxScaler\t PCA\t Statements\t add_facet_grid\t add_joint_plot\t \n",
      "angle_between\t anova_with_moderator\t attempt_to_pickle\t chi2_contingency\t chi_square_with_moderator\t conjunctify_list\t create_binned_categories\t data_folder\t data_measures_dict\t \n",
      "data_procedures_dict\t data_provider_dict\t download_url\t encoding\t euclidean\t force_correct_scale\t formal_name_dict\t gapminder_df\t get_correct_scale\t \n",
      "get_min_max\t informal_name_dict\t load_object\t model_interpretation\t moderator_conclusion\t np\t number_column_list\t obj_path\t original_columns\t \n",
      "os\t pd\t pdist\t pearsonr\t pearsons_with_moderator\t pickle\t re_color_and_resize_the_plot_points\t round_down\t round_up\t \n",
      "saves_folder\t set_the_axes_and_title_text\t set_the_country_name_labels\t set_the_upper_left_math\t set_up_a_minimal_joint_grid\t smf\t sns\t squareform\t store_objects\t \n",
      "unit_vector\t \n"
     ]
    }
   ],
   "source": [
    "\n",
    "%run ../data-visualization/load-gapminder_df.ipynb\n",
    "%who"
   ]
  },
  {
   "cell_type": "markdown",
   "metadata": {},
   "source": [
    "\n",
    "<strong>Data preparation for this assignment:</strong>"
   ]
  },
  {
   "cell_type": "markdown",
   "metadata": {},
   "source": [
    "\n",
    "<ol>\n",
    "<li>If your explanatory variable is categorical with more than two categories, you will need to collapse it down to two categories, or subset your data to select observations from 2 categories (next week you'll learn how to analyze categorical explanatory variable with more than 2 categories).</li>\n",
    "<li>If your response variable is categorical, you will need to identify a quantitative variable in the data set that you can use as a response variable for this assignment. Variables with response scales with 4-5 values that represent a change in magnitude (for example, \"strongly disagree to strongly agree\", \"never to often\") can be considered quantitative for the assignment.</li>\n",
    "</ol>"
   ]
  },
  {
   "cell_type": "code",
   "execution_count": 2,
   "metadata": {
    "collapsed": false
   },
   "outputs": [
    {
     "data": {
      "text/html": [
       "<div>\n",
       "<style>\n",
       "    .dataframe thead tr:only-child th {\n",
       "        text-align: right;\n",
       "    }\n",
       "\n",
       "    .dataframe thead th {\n",
       "        text-align: left;\n",
       "    }\n",
       "\n",
       "    .dataframe tbody tr th {\n",
       "        vertical-align: top;\n",
       "    }\n",
       "</style>\n",
       "<table border=\"1\" class=\"dataframe\">\n",
       "  <thead>\n",
       "    <tr style=\"text-align: right;\">\n",
       "      <th></th>\n",
       "      <th>income_per_person</th>\n",
       "      <th>oil_per_person</th>\n",
       "    </tr>\n",
       "    <tr>\n",
       "      <th>country_name</th>\n",
       "      <th></th>\n",
       "      <th></th>\n",
       "    </tr>\n",
       "  </thead>\n",
       "  <tbody>\n",
       "    <tr>\n",
       "      <th>Thailand</th>\n",
       "      <td>2712.517199</td>\n",
       "      <td>0.726250</td>\n",
       "    </tr>\n",
       "    <tr>\n",
       "      <th>Italy</th>\n",
       "      <td>18982.269285</td>\n",
       "      <td>1.207250</td>\n",
       "    </tr>\n",
       "    <tr>\n",
       "      <th>Canada</th>\n",
       "      <td>25575.352623</td>\n",
       "      <td>3.007356</td>\n",
       "    </tr>\n",
       "    <tr>\n",
       "      <th>Ireland</th>\n",
       "      <td>27595.091347</td>\n",
       "      <td>1.700262</td>\n",
       "    </tr>\n",
       "    <tr>\n",
       "      <th>Lithuania</th>\n",
       "      <td>5332.238591</td>\n",
       "      <td>0.812369</td>\n",
       "    </tr>\n",
       "    <tr>\n",
       "      <th>Slovak Republic</th>\n",
       "      <td>8445.526689</td>\n",
       "      <td>0.677393</td>\n",
       "    </tr>\n",
       "    <tr>\n",
       "      <th>Egypt</th>\n",
       "      <td>1975.551906</td>\n",
       "      <td>0.447479</td>\n",
       "    </tr>\n",
       "    <tr>\n",
       "      <th>Argentina</th>\n",
       "      <td>10749.419238</td>\n",
       "      <td>0.635944</td>\n",
       "    </tr>\n",
       "    <tr>\n",
       "      <th>Hong Kong, China</th>\n",
       "      <td>35536.072471</td>\n",
       "      <td>2.282655</td>\n",
       "    </tr>\n",
       "    <tr>\n",
       "      <th>Indonesia</th>\n",
       "      <td>1143.831514</td>\n",
       "      <td>0.248467</td>\n",
       "    </tr>\n",
       "  </tbody>\n",
       "</table>\n",
       "</div>"
      ],
      "text/plain": [
       "                  income_per_person  oil_per_person\n",
       "country_name                                       \n",
       "Thailand                2712.517199        0.726250\n",
       "Italy                  18982.269285        1.207250\n",
       "Canada                 25575.352623        3.007356\n",
       "Ireland                27595.091347        1.700262\n",
       "Lithuania               5332.238591        0.812369\n",
       "Slovak Republic         8445.526689        0.677393\n",
       "Egypt                   1975.551906        0.447479\n",
       "Argentina              10749.419238        0.635944\n",
       "Hong Kong, China       35536.072471        2.282655\n",
       "Indonesia               1143.831514        0.248467"
      ]
     },
     "execution_count": 2,
     "metadata": {},
     "output_type": "execute_result"
    }
   ],
   "source": [
    "\n",
    "ce_column_name = 'oil_per_person'\n",
    "qr_column_name = 'income_per_person'\n",
    "column_list = [qr_column_name, ce_column_name]\n",
    "elite_df = gapminder_df.set_index('country_name')[column_list].dropna()\n",
    "elite_df.sample(n=10)"
   ]
  },
  {
   "cell_type": "markdown",
   "metadata": {},
   "source": [
    "\n",
    "<strong>The assignment:</strong>"
   ]
  },
  {
   "cell_type": "markdown",
   "metadata": {},
   "source": [
    "\n",
    "<ol>\n",
    "<li>If you have a categorical explanatory variable, make sure one of your categories is coded \"0\" and generate a frequency table for this variable to check your coding. If you have a quantitative explanatory variable, center it so that the mean = 0 (or really close to 0) by subtracting the mean, and then calculate the mean to check your centering.</li>\n",
    "</ol>"
   ]
  },
  {
   "cell_type": "code",
   "execution_count": 3,
   "metadata": {
    "collapsed": false
   },
   "outputs": [
    {
     "name": "stdout",
     "output_type": "stream",
     "text": [
      "0    39\n",
      "1    22\n",
      "Name: oil_per_person, dtype: int64\n"
     ]
    },
    {
     "data": {
      "image/png": "[encoded data removed]",
      "text/plain": [
       "<matplotlib.figure.Figure at 0x271b991f630>"
      ]
     },
     "metadata": {},
     "output_type": "display_data"
    }
   ],
   "source": [
    "\n",
    "%matplotlib inline\n",
    "\n",
    "# Collapse explanatory variable down to two categories\n",
    "halfway_mark = elite_df[ce_column_name].mean()\n",
    "\n",
    "def f(x, halfway_mark):\n",
    "    if x < halfway_mark:\n",
    "        \n",
    "        return 0\n",
    "    else:\n",
    "        \n",
    "        return 1\n",
    "\n",
    "elite_df[ce_column_name] = elite_df[ce_column_name].map(lambda x: f(x, halfway_mark))\n",
    "\n",
    "print(elite_df[ce_column_name].value_counts())\n",
    "axes_subplot = elite_df[ce_column_name].hist()"
   ]
  },
  {
   "cell_type": "markdown",
   "metadata": {},
   "source": [
    "\n",
    "<ol start=2>\n",
    "<li>Test a linear regression model and summarize the results in a couple of sentences. Make sure to include statistical results (regression coefficients and p-values) in your summary.</li>\n",
    "</ol>"
   ]
  },
  {
   "cell_type": "code",
   "execution_count": 29,
   "metadata": {
    "collapsed": false
   },
   "outputs": [
    {
     "data": {
      "text/html": [
       "<h3>Model Interpretation for ANOVA, Testing a Potential Moderator:</h3><p>When examining the association between 2010 Gross Domestic Product per capita in constant 2000 USD (the quantitative response variable) and 2010 oil Consumption per capita in tonnes per year and person (the bi-categorical explanatory variable), an Analysis of Variance (ANOVA) revealed that among the sample of 61 countries from GapMinder.org, those countries with a higher oil per person reported a significantly higher income per person (Mean=27002.2, s.d. &plusmn;8900.7) compared to those with a lower oil per person (Mean=5297.9, s.d. &plusmn;5981.5), F(1, 59)=129.31, p&lt;0.0001.</p>"
      ],
      "text/plain": [
       "<IPython.core.display.HTML object>"
      ]
     },
     "metadata": {},
     "output_type": "display_data"
    },
    {
     "data": {
      "text/html": [
       "<table class=\"simpletable\">\n",
       "<caption>OLS Regression Results</caption>\n",
       "<tr>\n",
       "  <th>Dep. Variable:</th>    <td>income_per_person</td> <th>  R-squared:         </th> <td>   0.687</td>\n",
       "</tr>\n",
       "<tr>\n",
       "  <th>Model:</th>                   <td>OLS</td>        <th>  Adj. R-squared:    </th> <td>   0.681</td>\n",
       "</tr>\n",
       "<tr>\n",
       "  <th>Method:</th>             <td>Least Squares</td>   <th>  F-statistic:       </th> <td>   129.3</td>\n",
       "</tr>\n",
       "<tr>\n",
       "  <th>Date:</th>             <td>Sat, 17 Feb 2018</td>  <th>  Prob (F-statistic):</th> <td>1.68e-16</td>\n",
       "</tr>\n",
       "<tr>\n",
       "  <th>Time:</th>                 <td>22:25:02</td>      <th>  Log-Likelihood:    </th> <td> -626.98</td>\n",
       "</tr>\n",
       "<tr>\n",
       "  <th>No. Observations:</th>      <td>    61</td>       <th>  AIC:               </th> <td>   1258.</td>\n",
       "</tr>\n",
       "<tr>\n",
       "  <th>Df Residuals:</th>          <td>    59</td>       <th>  BIC:               </th> <td>   1262.</td>\n",
       "</tr>\n",
       "<tr>\n",
       "  <th>Df Model:</th>              <td>     1</td>       <th>                     </th>     <td> </td>   \n",
       "</tr>\n",
       "<tr>\n",
       "  <th>Covariance Type:</th>      <td>nonrobust</td>     <th>                     </th>     <td> </td>   \n",
       "</tr>\n",
       "</table>\n",
       "<table class=\"simpletable\">\n",
       "<tr>\n",
       "             <td></td>               <th>coef</th>     <th>std err</th>      <th>t</th>      <th>P>|t|</th>  <th>[0.025</th>    <th>0.975]</th>  \n",
       "</tr>\n",
       "<tr>\n",
       "  <th>Intercept</th>              <td> 5297.9098</td> <td> 1146.251</td> <td>    4.622</td> <td> 0.000</td> <td> 3004.268</td> <td> 7591.552</td>\n",
       "</tr>\n",
       "<tr>\n",
       "  <th>C(oil_per_person)[T.1]</th> <td>  2.17e+04</td> <td> 1908.680</td> <td>   11.371</td> <td> 0.000</td> <td> 1.79e+04</td> <td> 2.55e+04</td>\n",
       "</tr>\n",
       "</table>\n",
       "<table class=\"simpletable\">\n",
       "<tr>\n",
       "  <th>Omnibus:</th>       <td> 9.403</td> <th>  Durbin-Watson:     </th> <td>   2.014</td>\n",
       "</tr>\n",
       "<tr>\n",
       "  <th>Prob(Omnibus):</th> <td> 0.009</td> <th>  Jarque-Bera (JB):  </th> <td>  10.234</td>\n",
       "</tr>\n",
       "<tr>\n",
       "  <th>Skew:</th>          <td> 0.675</td> <th>  Prob(JB):          </th> <td> 0.00599</td>\n",
       "</tr>\n",
       "<tr>\n",
       "  <th>Kurtosis:</th>      <td> 4.484</td> <th>  Cond. No.          </th> <td>    2.42</td>\n",
       "</tr>\n",
       "</table>"
      ],
      "text/plain": [
       "<class 'statsmodels.iolib.summary.Summary'>\n",
       "\"\"\"\n",
       "                            OLS Regression Results                            \n",
       "==============================================================================\n",
       "Dep. Variable:      income_per_person   R-squared:                       0.687\n",
       "Model:                            OLS   Adj. R-squared:                  0.681\n",
       "Method:                 Least Squares   F-statistic:                     129.3\n",
       "Date:                Sat, 17 Feb 2018   Prob (F-statistic):           1.68e-16\n",
       "Time:                        22:25:02   Log-Likelihood:                -626.98\n",
       "No. Observations:                  61   AIC:                             1258.\n",
       "Df Residuals:                      59   BIC:                             1262.\n",
       "Df Model:                           1                                         \n",
       "Covariance Type:            nonrobust                                         \n",
       "==========================================================================================\n",
       "                             coef    std err          t      P>|t|      [0.025      0.975]\n",
       "------------------------------------------------------------------------------------------\n",
       "Intercept               5297.9098   1146.251      4.622      0.000    3004.268    7591.552\n",
       "C(oil_per_person)[T.1]   2.17e+04   1908.680     11.371      0.000    1.79e+04    2.55e+04\n",
       "==============================================================================\n",
       "Omnibus:                        9.403   Durbin-Watson:                   2.014\n",
       "Prob(Omnibus):                  0.009   Jarque-Bera (JB):               10.234\n",
       "Skew:                           0.675   Prob(JB):                      0.00599\n",
       "Kurtosis:                       4.484   Cond. No.                         2.42\n",
       "==============================================================================\n",
       "\n",
       "Warnings:\n",
       "[1] Standard Errors assume that the covariance matrix of the errors is correctly specified.\n",
       "\"\"\""
      ]
     },
     "metadata": {},
     "output_type": "display_data"
    }
   ],
   "source": [
    "\n",
    "from IPython.display import display\n",
    "%matplotlib inline\n",
    "\n",
    "# Interpret both groups\n",
    "sts = Statements(elite_df, number_of_categories=2, test_type='ols',\n",
    "                 ce_column_name=ce_column_name, qr_column_name=qr_column_name)\n",
    "sample_name = 'the sample of ' + str(sts.row_count) + ' countries from GapMinder.org'\n",
    "model_interpretation_HTML, plot_Image = model_interpretation(sts, sample_name, verbose=True)\n",
    "display(model_interpretation_HTML)\n",
    "display(sts.fitted.summary())"
   ]
  },
  {
   "cell_type": "markdown",
   "metadata": {},
   "source": [
    "\n",
    "<strong>WHAT TO SUBMIT:</strong>"
   ]
  },
  {
   "cell_type": "markdown",
   "metadata": {},
   "source": [
    "\n",
    "Create a blog entry where you\n",
    "<ol>\n",
    "<li>post your program and output, and</li>\n",
    "<li>post a frequency table for your (recoded) categorical explanatory variable or report the mean for your centered explanatory variable.</li>\n",
    "<li>Write a few sentences describing the results of your linear regression analysis.</li>\n",
    "</ol>"
   ]
  },
  {
   "cell_type": "markdown",
   "metadata": {},
   "source": [
    "\n",
    "### Review criteria"
   ]
  },
  {
   "cell_type": "markdown",
   "metadata": {},
   "source": [
    "\n",
    "Your assessment will be based on the evidence you\n",
    "provide that you have completed all of the steps.\n",
    "When relevant, gradients in the scoring will be\n",
    "available to reward clarity (for example, you will get\n",
    "one point for submitting an incomplete or inaccurate summary of results, but two points if the summary of results is complete and accurate). In all cases, consider that\n",
    "the peer assessing your work is likely not an expert\n",
    "in the field you are analyzing. You will be assessed\n",
    "equally on your description of your frequency\n",
    "distributions."
   ]
  },
  {
   "cell_type": "markdown",
   "metadata": {},
   "source": [
    "\n",
    "### Example of how to write results for linear regression"
   ]
  },
  {
   "cell_type": "markdown",
   "metadata": {},
   "source": [
    "\n",
    "The results of the linear regression model indicated that major depression (Beta=1.34, p=.0001) was significantly and positively associated with number of nicotine dependence symptoms."
   ]
  },
  {
   "cell_type": "code",
   "execution_count": 30,
   "metadata": {
    "collapsed": false
   },
   "outputs": [
    {
     "data": {
      "image/png": "[encoded data removed]",
      "text/plain": [
       "<matplotlib.figure.Figure at 0x271ba993198>"
      ]
     },
     "metadata": {},
     "output_type": "display_data"
    }
   ],
   "source": [
    "\n",
    "%matplotlib inline\n",
    "from matplotlib import pyplot as plt\n",
    "from matplotlib import cm as cm\n",
    "\n",
    "def correlation_matrix(df):\n",
    "\n",
    "    fig = plt.figure(figsize=(15, 15))\n",
    "    ax1 = fig.add_subplot(111)\n",
    "    cmap = cm.get_cmap('jet', 30)\n",
    "    cax = ax1.imshow(df.corr(), interpolation=\"nearest\", cmap=cmap)\n",
    "    ax1.grid(True)\n",
    "    plt.title('GapMinder Feature Correlation')\n",
    "    ax1.set_xticklabels(df.columns, fontsize=8, rotation=45)\n",
    "    ax1.set_yticklabels(df.columns, fontsize=8)\n",
    "    \n",
    "    # Add colorbar, make sure to specify tick locations to match desired ticklabels\n",
    "    fig.colorbar(cax, ticks=[.75, .8, .85, .90, .95, 1])\n",
    "\n",
    "correlation_matrix(gapminder_df)"
   ]
  },
  {
   "cell_type": "code",
   "execution_count": 7,
   "metadata": {
    "collapsed": false
   },
   "outputs": [],
   "source": [
    "\n",
    "corr_df = elite_df.corr()"
   ]
  },
  {
   "cell_type": "code",
   "execution_count": 8,
   "metadata": {
    "collapsed": false
   },
   "outputs": [],
   "source": [
    "\n",
    "max_corr = 0\n",
    "max_row = ''\n",
    "max_col = ''\n",
    "for row_name, row_series in corr_df.iterrows():\n",
    "    for column_name, column_value in row_series.iteritems():\n",
    "        if column_value < 1.0:\n",
    "            if column_value > max_corr:\n",
    "                max_corr = column_value\n",
    "                max_row = row_name\n",
    "                max_col = column_name"
   ]
  },
  {
   "cell_type": "code",
   "execution_count": 9,
   "metadata": {
    "collapsed": false
   },
   "outputs": [
    {
     "name": "stdout",
     "output_type": "stream",
     "text": [
      "income_per_person oil_per_person 0.8286641150106766\n"
     ]
    }
   ],
   "source": [
    "\n",
    "print(max_row, max_col, max_corr)"
   ]
  },
  {
   "cell_type": "code",
   "execution_count": 10,
   "metadata": {
    "collapsed": false
   },
   "outputs": [
    {
     "data": {
      "text/html": [
       "<div>\n",
       "<style>\n",
       "    .dataframe thead tr:only-child th {\n",
       "        text-align: right;\n",
       "    }\n",
       "\n",
       "    .dataframe thead th {\n",
       "        text-align: left;\n",
       "    }\n",
       "\n",
       "    .dataframe tbody tr th {\n",
       "        vertical-align: top;\n",
       "    }\n",
       "</style>\n",
       "<table border=\"1\" class=\"dataframe\">\n",
       "  <thead>\n",
       "    <tr style=\"text-align: right;\">\n",
       "      <th></th>\n",
       "      <th>income_per_person</th>\n",
       "      <th>oil_per_person</th>\n",
       "    </tr>\n",
       "  </thead>\n",
       "  <tbody>\n",
       "    <tr>\n",
       "      <th>income_per_person</th>\n",
       "      <td>1.000000</td>\n",
       "      <td>0.828664</td>\n",
       "    </tr>\n",
       "    <tr>\n",
       "      <th>oil_per_person</th>\n",
       "      <td>0.828664</td>\n",
       "      <td>1.000000</td>\n",
       "    </tr>\n",
       "  </tbody>\n",
       "</table>\n",
       "</div>"
      ],
      "text/plain": [
       "                   income_per_person  oil_per_person\n",
       "income_per_person           1.000000        0.828664\n",
       "oil_per_person              0.828664        1.000000"
      ]
     },
     "execution_count": 10,
     "metadata": {},
     "output_type": "execute_result"
    }
   ],
   "source": [
    "\n",
    "corr_df"
   ]
  },
  {
   "cell_type": "code",
   "execution_count": 31,
   "metadata": {
    "collapsed": false
   },
   "outputs": [
    {
     "data": {
      "application/javascript": [
       "var kernel = IPython.notebook.kernel,  \n",
       "    body = document.body,  \n",
       "    attribs = body.attributes,  \n",
       "    command = \"notebook_path = \" + \"'\"+attribs['data-notebook-path'].value+\"'\";\n",
       "kernel.execute(command);"
      ],
      "text/plain": [
       "<IPython.core.display.Javascript object>"
      ]
     },
     "metadata": {},
     "output_type": "display_data"
    }
   ],
   "source": [
    "\n",
    "%%javascript\n",
    "var kernel = IPython.notebook.kernel,  \n",
    "    body = document.body,  \n",
    "    attribs = body.attributes,  \n",
    "    command = \"notebook_path = \" + \"'\"+attribs['data-notebook-path'].value+\"'\";\n",
    "kernel.execute(command);"
   ]
  },
  {
   "cell_type": "code",
   "execution_count": 32,
   "metadata": {
    "collapsed": false
   },
   "outputs": [
    {
     "data": {
      "text/html": [
       "Click <a href=\"https://nbviewer.jupyter.org/github/dbabbitt/notebooks/blob/master/notebooks/data-science-5k/ipynb/introduction-to-regression/test-a-basic-linear-regression-model.ipynb\" target=\"_blank\">here</a> to view notebook in nbviewer."
      ],
      "text/plain": [
       "<IPython.core.display.HTML object>"
      ]
     },
     "execution_count": 32,
     "metadata": {},
     "output_type": "execute_result"
    }
   ],
   "source": [
    "# %load ../../../load_magic/nbviewer.py\n",
    "\n",
    "from IPython.display import HTML\n",
    "\n",
    "notebook_viewer_url = 'https://nbviewer.jupyter.org/github/dbabbitt/notebooks/blob/master/' + notebook_path\n",
    "HTML('Click <a href=\"' + notebook_viewer_url + '\" target=\"_blank\">here</a> to view notebook in nbviewer.')"
   ]
  },
  {
   "cell_type": "code",
   "execution_count": null,
   "metadata": {
    "collapsed": true
   },
   "outputs": [],
   "source": []
  }
 ],
 "metadata": {
  "anaconda-cloud": {},
  "kernelspec": {
   "display_name": "Python 3",
   "language": "python",
   "name": "python3"
  },
  "language_info": {
   "codemirror_mode": {
    "name": "ipython",
    "version": 3
   },
   "file_extension": ".py",
   "mimetype": "text/x-python",
   "name": "python",
   "nbconvert_exporter": "python",
   "pygments_lexer": "ipython3",
   "version": "3.5.2"
  }
 },
 "nbformat": 4,
 "nbformat_minor": 2
}
