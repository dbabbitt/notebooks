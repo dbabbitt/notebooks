{
 "cells": [
  {
   "cell_type": "code",
   "execution_count": 1,
   "metadata": {},
   "outputs": [
    {
     "name": "stdout",
     "output_type": "stream",
     "text": [
      "Descriptions\t MinMaxScaler\t angle_between\t attempt_to_pickle\t column_DBSCAN_dict\t conjunctify_list\t create_binned_categories\t data_folder\t data_measures_dict\t \n",
      "data_procedures_dict\t data_provider_dict\t download_url\t encoding\t euclidean\t formal_name_dict\t gapminder_df\t get_min_max\t informal_name_dict\t \n",
      "load_object\t np\t number_column_list\t obj_path\t original_columns\t os\t pd\t pdist\t pickle\t \n",
      "random\t round_down\t round_up\t saves_folder\t squareform\t store_objects\t unit_vector\t \n"
     ]
    }
   ],
   "source": [
    "\n",
    "%run ../data-visualization/load-gapminder_df.ipynb\n",
    "%run ./load-descriptions.ipynb\n",
    "%who"
   ]
  },
  {
   "cell_type": "code",
   "execution_count": 2,
   "metadata": {},
   "outputs": [
    {
     "data": {
      "text/html": [
       "<h3>Sample</h3><p>Gapminder contains data for all 192 UN members, aggregating data for Serbia and Montenegro, and includes data for 24 other areas (generating a total of 215 areas). All 179 countries with a datapoint for each aggregate variable under consideration were drawn from this dataset. The income per person composition, provided by World Bank, was Very Low (n = 154, 86.03%), Low (n = 15, 8.38%), Moderate (n = 5, 2.79%), High (n = 2, 1.12%), and Very High (n = 2, 1.12%). The alcohol consumption composition, provided by WHO with additions, was Very Low (n = 164, 91.62%), Low (n = 2, 1.12%), Moderate (n = 4, 2.23%), High (n = 6, 3.35%), and Very High (n = 2, 1.12%). </p>"
      ],
      "text/plain": [
       "<IPython.core.display.HTML object>"
      ]
     },
     "metadata": {},
     "output_type": "display_data"
    },
    {
     "data": {
      "text/html": [
       "<h3>Procedure</h3><p>World Bank generally relies on official sources collected at the national level. In calculating income per person, the World Bank uses the Atlas conversion factor. WHO has been collecting data on alcohol consumption and alcohol control policies from its Member States since 1996. The current survey instrument entitled \"Global Survey on Alcohol and Health\" includes three sections, namely alcohol policy, alcohol consumption, and surveillance. The information provided is essential for the preparation of the Global Status Report on Alcohol and Health and regional publications, as well as for updating the Global Information Systems on Alcohol and Health (GISAH) and regional information systems, as requested by the World Health Assembly Resolution on Public health problems caused by harmful use of alcohol. </p>"
      ],
      "text/plain": [
       "<IPython.core.display.HTML object>"
      ]
     },
     "metadata": {},
     "output_type": "display_data"
    },
    {
     "data": {
      "text/html": [
       "<h3>Measures</h3><p>The measure of income per person was assessed using gross national income (GNI, formerly referred to as GNP) and GNI per capita in U.S. dollars. The measure of alcohol consumption was assessed using Alcohol Timeline Followback (TLFB), Form 90, Drinking Self–Monitoring Log (DSML), Lifetime Drinking (LDH), and various Quantity–Frequency (QF) measures. For the current analysis, each variable was binned into five categories on a density-based spatial clustering of applications with noise (DBSCAN)."
      ],
      "text/plain": [
       "<IPython.core.display.HTML object>"
      ]
     },
     "metadata": {},
     "output_type": "display_data"
    }
   ],
   "source": [
    "\n",
    "import IPython.display\n",
    "from IPython.display import HTML, Image\n",
    "\n",
    "description = Descriptions(gapminder_df, random_column_list=['income_per_person', 'alcohol_consumption'])\n",
    "description.populate_sample_description()\n",
    "display(HTML(description.sample_description_html))\n",
    "description.populate_procedures_description()\n",
    "display(HTML(description.procedures_description_html))\n",
    "description.populate_measures_description()\n",
    "display(HTML(description.measures_description_html))"
   ]
  },
  {
   "cell_type": "code",
   "execution_count": 3,
   "metadata": {},
   "outputs": [
    {
     "data": {
      "application/javascript": [
       "var kernel = IPython.notebook.kernel,  \n",
       "    body = document.body,  \n",
       "    attribs = body.attributes,  \n",
       "    command = \"notebook_path = \" + \"'\"+attribs['data-notebook-path'].value+\"'\";\n",
       "kernel.execute(command);"
      ],
      "text/plain": [
       "<IPython.core.display.Javascript object>"
      ]
     },
     "metadata": {},
     "output_type": "display_data"
    }
   ],
   "source": [
    "\n",
    "%%javascript\n",
    "var kernel = IPython.notebook.kernel,  \n",
    "    body = document.body,  \n",
    "    attribs = body.attributes,  \n",
    "    command = \"notebook_path = \" + \"'\"+attribs['data-notebook-path'].value+\"'\";\n",
    "kernel.execute(command);"
   ]
  },
  {
   "cell_type": "code",
   "execution_count": 4,
   "metadata": {},
   "outputs": [
    {
     "data": {
      "text/html": [
       "Click <a href=\"https://nbviewer.jupyter.org/github/dbabbitt/notebooks/blob/master/data-science-5k/ipynb/introduction-to-regression/describe-sample-procedures-measures.ipynb\" target=\"_blank\">here</a> to view notebook in nbviewer."
      ],
      "text/plain": [
       "<IPython.core.display.HTML object>"
      ]
     },
     "execution_count": 4,
     "metadata": {},
     "output_type": "execute_result"
    }
   ],
   "source": [
    "# %load ../../../load_magic/nbviewer.py\n",
    "\n",
    "from IPython.display import HTML\n",
    "\n",
    "notebook_viewer_url = 'https://nbviewer.jupyter.org/github/dbabbitt/notebooks/blob/master/' + notebook_path\n",
    "HTML('Click <a href=\"' + notebook_viewer_url + '\" target=\"_blank\">here</a> to view notebook in nbviewer.')"
   ]
  },
  {
   "cell_type": "code",
   "execution_count": null,
   "metadata": {
    "collapsed": true
   },
   "outputs": [],
   "source": []
  }
 ],
 "metadata": {
  "kernelspec": {
   "display_name": "Python 3",
   "language": "python",
   "name": "python3"
  },
  "language_info": {
   "codemirror_mode": {
    "name": "ipython",
    "version": 3
   },
   "file_extension": ".py",
   "mimetype": "text/x-python",
   "name": "python",
   "nbconvert_exporter": "python",
   "pygments_lexer": "ipython3",
   "version": "3.6.3"
  }
 },
 "nbformat": 4,
 "nbformat_minor": 2
}
