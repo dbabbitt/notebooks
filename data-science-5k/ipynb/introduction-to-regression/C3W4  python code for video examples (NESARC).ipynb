{
 "cells": [
  {
   "cell_type": "code",
   "execution_count": 1,
   "metadata": {},
   "outputs": [
    {
     "name": "stdout",
     "output_type": "stream",
     "text": [
      "Requirement already up-to-date: pip in c:\\users\\dev\\anaconda3\\lib\\site-packages (10.0.1)\n",
      "Collecting numpy\n",
      "  Downloading https://files.pythonhosted.org/packages/0d/b7/0c804e0bcba6505f8392d042d5e333a5e06f308e019517111fbc7767a0bc/numpy-1.14.5-cp36-none-win_amd64.whl (13.4MB)\n",
      "Installing collected packages: numpy\n",
      "  Found existing installation: numpy 1.14.2\n",
      "    Uninstalling numpy-1.14.2:\n",
      "      Successfully uninstalled numpy-1.14.2\n",
      "Successfully installed numpy-1.14.5\n",
      "Collecting pandas\n",
      "  Downloading https://files.pythonhosted.org/packages/ad/0b/f65a63cccc5e37a7af983fc87a8c9e56feb4998d8877f8f2af21f40bcf3c/pandas-0.23.1-cp36-cp36m-win_amd64.whl (10.5MB)\n",
      "Requirement not upgraded as not directly required: numpy>=1.9.0 in c:\\users\\dev\\anaconda3\\lib\\site-packages (from pandas) (1.14.5)\n",
      "Requirement not upgraded as not directly required: python-dateutil>=2.5.0 in c:\\users\\dev\\anaconda3\\lib\\site-packages (from pandas) (2.7.0)\n",
      "Requirement not upgraded as not directly required: pytz>=2011k in c:\\users\\dev\\anaconda3\\lib\\site-packages (from pandas) (2018.3)\n",
      "Requirement not upgraded as not directly required: six>=1.5 in c:\\users\\dev\\anaconda3\\lib\\site-packages (from python-dateutil>=2.5.0->pandas) (1.11.0)\n",
      "Installing collected packages: pandas\n",
      "  Found existing installation: pandas 0.22.0\n",
      "    Uninstalling pandas-0.22.0:\n",
      "      Successfully uninstalled pandas-0.22.0\n",
      "Successfully installed pandas-0.23.1\n",
      "Collecting statsmodels\n",
      "  Downloading https://files.pythonhosted.org/packages/77/2b/8ba61399b31f984c263b177c2e2547a34f0d4d972a24a51fc77c376079b0/statsmodels-0.9.0-cp36-cp36m-win_amd64.whl (7.0MB)\n",
      "Installing collected packages: statsmodels\n",
      "  Found existing installation: statsmodels 0.8.0\n",
      "    Uninstalling statsmodels-0.8.0:\n",
      "      Successfully uninstalled statsmodels-0.8.0\n",
      "Successfully installed statsmodels-0.9.0\n",
      "Requirement already up-to-date: seaborn in c:\\users\\dev\\anaconda3\\lib\\site-packages (0.8.1)\n",
      "Requirement not upgraded as not directly required: numpy in c:\\users\\dev\\anaconda3\\lib\\site-packages (from seaborn) (1.14.5)\n",
      "Requirement not upgraded as not directly required: scipy in c:\\users\\dev\\anaconda3\\lib\\site-packages (from seaborn) (1.0.0)\n",
      "Requirement not upgraded as not directly required: matplotlib in c:\\users\\dev\\anaconda3\\lib\\site-packages (from seaborn) (2.2.0)\n",
      "Requirement not upgraded as not directly required: pandas in c:\\users\\dev\\anaconda3\\lib\\site-packages (from seaborn) (0.23.1)\n",
      "Requirement not upgraded as not directly required: kiwisolver>=1.0.1 in c:\\users\\dev\\anaconda3\\lib\\site-packages (from matplotlib->seaborn) (1.0.1)\n",
      "Requirement not upgraded as not directly required: cycler>=0.10 in c:\\users\\dev\\anaconda3\\lib\\site-packages (from matplotlib->seaborn) (0.10.0)\n",
      "Requirement not upgraded as not directly required: python-dateutil>=2.1 in c:\\users\\dev\\anaconda3\\lib\\site-packages (from matplotlib->seaborn) (2.7.0)\n",
      "Requirement not upgraded as not directly required: pytz in c:\\users\\dev\\anaconda3\\lib\\site-packages (from matplotlib->seaborn) (2018.3)\n",
      "Requirement not upgraded as not directly required: pyparsing!=2.0.4,!=2.1.2,!=2.1.6,>=2.0.1 in c:\\users\\dev\\anaconda3\\lib\\site-packages (from matplotlib->seaborn) (2.2.0)\n",
      "Requirement not upgraded as not directly required: six>=1.10 in c:\\users\\dev\\anaconda3\\lib\\site-packages (from matplotlib->seaborn) (1.11.0)\n",
      "Requirement not upgraded as not directly required: setuptools in c:\\users\\dev\\anaconda3\\lib\\site-packages (from kiwisolver>=1.0.1->matplotlib->seaborn) (38.6.0)\n"
     ]
    }
   ],
   "source": [
    "\n",
    "!python -m pip install --upgrade pip\n",
    "!pip install --upgrade numpy\n",
    "!pip install --upgrade pandas\n",
    "!pip install --upgrade statsmodels\n",
    "!pip install --upgrade seaborn"
   ]
  },
  {
   "cell_type": "code",
   "execution_count": 1,
   "metadata": {},
   "outputs": [
    {
     "name": "stderr",
     "output_type": "stream",
     "text": [
      "C:\\Users\\dev\\Anaconda3\\lib\\site-packages\\statsmodels\\compat\\pandas.py:56: FutureWarning: The pandas.core.datetools module is deprecated and will be removed in a future version. Please use the pandas.tseries module instead.\n",
      "  from pandas.core import datetools\n"
     ]
    }
   ],
   "source": [
    "\n",
    "import numpy as np\n",
    "import pandas as pd\n",
    "import statsmodels.api as sm\n",
    "import seaborn as sns\n",
    "import statsmodels.formula.api as smf"
   ]
  },
  {
   "cell_type": "code",
   "execution_count": 4,
   "metadata": {},
   "outputs": [
    {
     "name": "stdout",
     "output_type": "stream",
     "text": [
      "data_folder = ../../data/\n",
      "saves_folder = ../../saves/\n",
      "attempt_to_pickle\t current_directory\t data_folder\t encoding\t folder_list\t load_csv\t load_dataframes\t load_object\t np\t \n",
      "os\t pd\t pickle\t save_dataframes\t saves_folder\t sm\t smf\t sns\t store_objects\t \n",
      "sys\t \n"
     ]
    }
   ],
   "source": [
    "# %load ../../../load_magic/storage1.py\n",
    "\n",
    "current_directory = !echo %cd%\n",
    "folder_list = current_directory[0].split('\\\\')\n",
    "%run ../../../load_magic/storage2.py {len(folder_list) - folder_list.index('ipynb')}\n",
    "%who"
   ]
  },
  {
   "cell_type": "code",
   "execution_count": 2,
   "metadata": {},
   "outputs": [],
   "source": [
    "\n",
    "# bug fix for display formats to avoid run time errors\n",
    "pd.set_option('display.float_format', lambda x: '%.2f' % x)"
   ]
  },
  {
   "cell_type": "code",
   "execution_count": 10,
   "metadata": {},
   "outputs": [
    {
     "name": "stderr",
     "output_type": "stream",
     "text": [
      "C:\\Users\\dev\\Anaconda3\\lib\\site-packages\\IPython\\core\\interactiveshell.py:2850: DtypeWarning: Columns (76) have mixed types. Specify dtype option on import or set low_memory=False.\n",
      "  if self.run_code(code, result):\n"
     ]
    },
    {
     "data": {
      "text/plain": [
       "Index(['ETHRACE2A', 'ETOTLCA2', 'IDNUM', 'PSU', 'STRATUM', 'WEIGHT', 'CDAY',\n",
       "       'CMON', 'CYEAR', 'REGION',\n",
       "       ...\n",
       "       'SOL12ABDEP', 'SOLP12ABDEP', 'HAL12ABDEP', 'HALP12ABDEP', 'MAR12ABDEP',\n",
       "       'MARP12ABDEP', 'HER12ABDEP', 'HERP12ABDEP', 'OTHB12ABDEP',\n",
       "       'OTHBP12ABDEP'],\n",
       "      dtype='object', length=3008)"
      ]
     },
     "execution_count": 10,
     "metadata": {},
     "output_type": "execute_result"
    }
   ],
   "source": [
    "\n",
    "nesarc_pds_df = load_csv('nesarc_pds')\n",
    "nesarc_pds_df.columns"
   ]
  },
  {
   "cell_type": "markdown",
   "metadata": {},
   "source": [
    "\n",
    "##############################################################################\n",
    "# DATA MANAGEMENT\n",
    "##############################################################################"
   ]
  },
  {
   "cell_type": "code",
   "execution_count": 12,
   "metadata": {},
   "outputs": [],
   "source": [
    "\n",
    "# Setting variables you will be working with to numeric\n",
    "nesarc_pds_df['IDNUM'] = pd.to_numeric(nesarc_pds_df['IDNUM'], errors='coerce')\n",
    "nesarc_pds_df['TAB12MDX'] = pd.to_numeric(nesarc_pds_df['TAB12MDX'], errors='coerce')\n",
    "nesarc_pds_df['MAJORDEPLIFE'] = pd.to_numeric(nesarc_pds_df['MAJORDEPLIFE'], errors='coerce')\n",
    "#nesarc_pds_df['NDSymptoms'] = pd.to_numeric(nesarc_pds_df['NDSymptoms'], errors='coerce')\n",
    "nesarc_pds_df['SOCPDLIFE'] = pd.to_numeric(nesarc_pds_df['SOCPDLIFE'], errors='coerce')\n",
    "nesarc_pds_df['S3AQ3C1'] = pd.to_numeric(nesarc_pds_df['S3AQ3C1'], errors='coerce')\n",
    "nesarc_pds_df['AGE'] = pd.to_numeric(nesarc_pds_df['AGE'], errors='coerce')\n",
    "nesarc_pds_df['SEX'] = pd.to_numeric(nesarc_pds_df['SEX'], errors='coerce')"
   ]
  },
  {
   "cell_type": "code",
   "execution_count": 13,
   "metadata": {},
   "outputs": [],
   "source": [
    "\n",
    "nesarc_pds_df['S3AQ3B1'] = pd.to_numeric(nesarc_pds_df['S3AQ3B1'], errors='coerce')\n",
    "nesarc_pds_df['CHECK321'] = pd.to_numeric(nesarc_pds_df['CHECK321'], errors='coerce')\n",
    "nesarc_pds_df['S3AQ8B11'] = pd.to_numeric(nesarc_pds_df['S3AQ8B11'], errors='coerce')\n",
    "nesarc_pds_df['S3AQ8B12'] = pd.to_numeric(nesarc_pds_df['S3AQ8B12'], errors='coerce')\n",
    "nesarc_pds_df['S3AQ8B13'] = pd.to_numeric(nesarc_pds_df['S3AQ8B13'], errors='coerce')\n",
    "nesarc_pds_df['S3AQ8B7A'] = pd.to_numeric(nesarc_pds_df['S3AQ8B7A'], errors='coerce')\n",
    "nesarc_pds_df['S3AQ8B7B'] = pd.to_numeric(nesarc_pds_df['S3AQ8B7B'], errors='coerce')\n",
    "nesarc_pds_df['S3AQ8B7C'] = pd.to_numeric(nesarc_pds_df['S3AQ8B7C'], errors='coerce')\n",
    "nesarc_pds_df['S3AQ8B7D'] = pd.to_numeric(nesarc_pds_df['S3AQ8B7D'], errors='coerce')\n",
    "nesarc_pds_df['S3AQ8B7E'] = pd.to_numeric(nesarc_pds_df['S3AQ8B7E'], errors='coerce')\n",
    "nesarc_pds_df['S3AQ8B7F'] = pd.to_numeric(nesarc_pds_df['S3AQ8B7F'], errors='coerce')\n",
    "nesarc_pds_df['S3AQ8B7G'] = pd.to_numeric(nesarc_pds_df['S3AQ8B7G'], errors='coerce')\n",
    "nesarc_pds_df['S3AQ8B7H'] = pd.to_numeric(nesarc_pds_df['S3AQ8B7H'], errors='coerce')\n",
    "nesarc_pds_df['S3AQ8B7J'] = pd.to_numeric(nesarc_pds_df['S3AQ8B7J'], errors='coerce')"
   ]
  },
  {
   "cell_type": "code",
   "execution_count": 14,
   "metadata": {},
   "outputs": [],
   "source": [
    "\n",
    "nesarc_pds_df['S6Q1'] = pd.to_numeric(nesarc_pds_df['S6Q1'], errors='coerce')\n",
    "nesarc_pds_df['S6Q2'] = pd.to_numeric(nesarc_pds_df['S6Q2'], errors='coerce')\n",
    "nesarc_pds_df['S6Q3'] = pd.to_numeric(nesarc_pds_df['S6Q3'], errors='coerce')\n",
    "nesarc_pds_df['S6Q7'] = pd.to_numeric(nesarc_pds_df['S6Q7'], errors='coerce')\n",
    "nesarc_pds_df['S6Q61'] = pd.to_numeric(nesarc_pds_df['S6Q61'], errors='coerce')\n",
    "nesarc_pds_df['S6Q62'] = pd.to_numeric(nesarc_pds_df['S6Q62'], errors='coerce')\n",
    "nesarc_pds_df['S6Q63'] = pd.to_numeric(nesarc_pds_df['S6Q63'], errors='coerce')\n",
    "nesarc_pds_df['S6Q64'] = pd.to_numeric(nesarc_pds_df['S6Q64'], errors='coerce')\n",
    "nesarc_pds_df['S6Q65'] = pd.to_numeric(nesarc_pds_df['S6Q65'], errors='coerce')\n",
    "nesarc_pds_df['S6Q66'] = pd.to_numeric(nesarc_pds_df['S6Q66'], errors='coerce')\n",
    "nesarc_pds_df['S6Q67'] = pd.to_numeric(nesarc_pds_df['S6Q67'], errors='coerce')\n",
    "nesarc_pds_df['S6Q68'] = pd.to_numeric(nesarc_pds_df['S6Q68'], errors='coerce')\n",
    "nesarc_pds_df['S6Q69'] = pd.to_numeric(nesarc_pds_df['S6Q69'], errors='coerce')\n",
    "nesarc_pds_df['S6Q610'] = pd.to_numeric(nesarc_pds_df['S6Q610'], errors='coerce')\n",
    "nesarc_pds_df['S6Q611'] = pd.to_numeric(nesarc_pds_df['S6Q611'], errors='coerce')\n",
    "nesarc_pds_df['S6Q612'] = pd.to_numeric(nesarc_pds_df['S6Q612'], errors='coerce')\n",
    "nesarc_pds_df['S6Q613'] = pd.to_numeric(nesarc_pds_df['S6Q613'], errors='coerce')"
   ]
  },
  {
   "cell_type": "code",
   "execution_count": 15,
   "metadata": {},
   "outputs": [],
   "source": [
    "\n",
    "nesarc_pds_df['S3AQ3C1'] = nesarc_pds_df['S3AQ3C1'].replace(99, np.nan)"
   ]
  },
  {
   "cell_type": "code",
   "execution_count": null,
   "metadata": {},
   "outputs": [],
   "source": [
    "\n",
    "# Subset for NDsymptoms regression (age 18-25, smoked in past month)\n",
    "# pandas gives observations missing on all symptoms (N=3) a value of zero, but should be nan\n",
    "# have to delete them\n",
    "match_series = (nesarc_pds_df['AGE'] <= 25) & (nesarc_pds_df['CHECK321'] == 1)\n",
    "match_series = match_series & (nesarc_pds_df['S3AQ3B1'] == 1) & (nesarc_pds_df['IDNUM'] != 20346)\n",
    "match_series = match_series & (nesarc_pds_df['IDNUM'] != 36471) & (nesarc_pds_df['IDNUM'] != 28724)\n",
    "sub1_df = nesarc_pds_df[match_series]"
   ]
  },
  {
   "cell_type": "code",
   "execution_count": 21,
   "metadata": {},
   "outputs": [],
   "source": [
    "\n",
    "# Subset data for logistic regression analyses (18-25, smoked in past month)\n",
    "match_series = (nesarc_pds_df['AGE'] <= 25) & (nesarc_pds_df['CHECK321'] == 1)\n",
    "match_series = match_series & (nesarc_pds_df['S3AQ3B1'] == 1)\n",
    "sub1_df = nesarc_pds_df[match_series].copy()"
   ]
  },
  {
   "cell_type": "code",
   "execution_count": 22,
   "metadata": {},
   "outputs": [],
   "source": [
    "\n",
    "# Current Tolerance criteria #1 DSM-IV\n",
    "def crit1(row):\n",
    "    if (row['S3AQ8B11'] == 1) or (row['S3AQ8B12'] == 1):\n",
    "        return 1\n",
    "    elif (row['S3AQ8B11'] == 2) and (row['S3AQ8B12'] == 2):\n",
    "        return 0"
   ]
  },
  {
   "cell_type": "code",
   "execution_count": 23,
   "metadata": {},
   "outputs": [
    {
     "name": "stdout",
     "output_type": "stream",
     "text": [
      "0.00    968\n",
      "1.00    338\n",
      "nan      14\n",
      "Name: crit1, dtype: int64\n",
      "2.00    1098\n",
      "1.00     209\n",
      "9.00      13\n",
      "Name: S3AQ8B11, dtype: int64\n",
      "2.00    1101\n",
      "1.00     207\n",
      "9.00      12\n",
      "Name: S3AQ8B12, dtype: int64\n",
      "S3AQ8B12  1.00  2.00  9.00\n",
      "S3AQ8B11                  \n",
      "1.00        78   130     1\n",
      "2.00       128   968     2\n",
      "9.00         1     3     9\n"
     ]
    }
   ],
   "source": [
    "\n",
    "sub1_df['crit1'] = sub1_df.apply(lambda row: crit1(row), axis=1)\n",
    "chk2 = sub1_df['crit1'].value_counts(sort=False, dropna=False)\n",
    "print(chk2)\n",
    "chk3 = sub1_df['S3AQ8B11'].value_counts(sort=False, dropna=False)\n",
    "print(chk3)\n",
    "chk4 = sub1_df['S3AQ8B12'].value_counts(sort=False, dropna=False)\n",
    "print(chk4)\n",
    "print(pd.crosstab(sub1_df['S3AQ8B11'], sub1_df['S3AQ8B12']))"
   ]
  },
  {
   "cell_type": "code",
   "execution_count": 24,
   "metadata": {},
   "outputs": [
    {
     "name": "stdout",
     "output_type": "stream",
     "text": [
      "nan     809\n",
      "1.00    264\n",
      "2.00    243\n",
      "9.00      4\n",
      "Name: S3AQ8B7J, dtype: int64\n"
     ]
    }
   ],
   "source": [
    "\n",
    "c1 = sub1_df['S3AQ8B7J'].value_counts(sort=False, dropna=False)\n",
    "print(c1)"
   ]
  },
  {
   "cell_type": "code",
   "execution_count": 25,
   "metadata": {},
   "outputs": [],
   "source": [
    "\n",
    "# Current 8 WITHDRAWAL SUB-SYMPTOMS IN DSM-IV (recode 1,2 to 0,1 for summing)\n",
    "# after recoding 9s to missing\n",
    "recode1 = {1: 1, 2: 0}\n",
    "sub1_df['S3AQ8B7A'] = sub1_df['S3AQ8B7A'].replace(9, np.nan)\n",
    "sub1_df['S3AQ8B7A'] = sub1_df['S3AQ8B7A'].map(recode1)\n",
    "sub1_df['S3AQ8B7B'] = sub1_df['S3AQ8B7B'].replace(9, np.nan)\n",
    "sub1_df['S3AQ8B7B'] = sub1_df['S3AQ8B7B'].map(recode1)\n",
    "sub1_df['S3AQ8B7C'] = sub1_df['S3AQ8B7C'].replace(9, np.nan)\n",
    "sub1_df['S3AQ8B7C'] = sub1_df['S3AQ8B7C'].map(recode1)\n",
    "sub1_df['S3AQ8B7D'] = sub1_df['S3AQ8B7D'].replace(9, np.nan)\n",
    "sub1_df['S3AQ8B7D'] = sub1_df['S3AQ8B7D'].map(recode1)\n",
    "sub1_df['S3AQ8B7E'] = sub1_df['S3AQ8B7E'].replace(9, np.nan)\n",
    "sub1_df['S3AQ8B7E'] = sub1_df['S3AQ8B7E'].map(recode1)\n",
    "sub1_df['S3AQ8B7F'] = sub1_df['S3AQ8B7F'].replace(9, np.nan)\n",
    "sub1_df['S3AQ8B7F'] = sub1_df['S3AQ8B7F'].map(recode1)\n",
    "sub1_df['S3AQ8B7G'] = sub1_df['S3AQ8B7G'].replace(9, np.nan)\n",
    "sub1_df['S3AQ8B7G'] = sub1_df['S3AQ8B7G'].map(recode1)\n",
    "sub1_df['S3AQ8B7H'] = sub1_df['S3AQ8B7H'].replace(9, np.nan)\n",
    "sub1_df['S3AQ8B7H'] = sub1_df['S3AQ8B7H'].map(recode1)"
   ]
  },
  {
   "cell_type": "code",
   "execution_count": 26,
   "metadata": {},
   "outputs": [
    {
     "name": "stdout",
     "output_type": "stream",
     "text": [
      "nan     809\n",
      "1.00    264\n",
      "2.00    243\n",
      "9.00      4\n",
      "Name: S3AQ8B7J, dtype: int64\n"
     ]
    }
   ],
   "source": [
    "\n",
    "# Check recode\n",
    "chk1c = sub1_df['S3AQ8B7J'].value_counts(sort=False, dropna=False)\n",
    "print(chk1c)"
   ]
  },
  {
   "cell_type": "code",
   "execution_count": 27,
   "metadata": {},
   "outputs": [],
   "source": [
    "\n",
    "# Sum symptoms\n",
    "sub1_df['CWITHDR_COUNT'] = np.nansum([\n",
    "    sub1_df['S3AQ8B7A'],\n",
    "    sub1_df['S3AQ8B7B'],\n",
    "    sub1_df['S3AQ8B7C'],\n",
    "    sub1_df['S3AQ8B7D'],\n",
    "    sub1_df['S3AQ8B7E'],\n",
    "    sub1_df['S3AQ8B7F'],\n",
    "    sub1_df['S3AQ8B7G'],\n",
    "    sub1_df['S3AQ8B7H'],\n",
    "    ], axis=0)"
   ]
  },
  {
   "cell_type": "code",
   "execution_count": 30,
   "metadata": {},
   "outputs": [
    {
     "data": {
      "text/html": [
       "<div>\n",
       "<style scoped>\n",
       "    .dataframe tbody tr th:only-of-type {\n",
       "        vertical-align: middle;\n",
       "    }\n",
       "\n",
       "    .dataframe tbody tr th {\n",
       "        vertical-align: top;\n",
       "    }\n",
       "\n",
       "    .dataframe thead th {\n",
       "        text-align: right;\n",
       "    }\n",
       "</style>\n",
       "<table border=\"1\" class=\"dataframe\">\n",
       "  <thead>\n",
       "    <tr style=\"text-align: right;\">\n",
       "      <th></th>\n",
       "      <th>IDNUM</th>\n",
       "      <th>S3AQ8B7A</th>\n",
       "      <th>S3AQ8B7B</th>\n",
       "      <th>S3AQ8B7C</th>\n",
       "      <th>S3AQ8B7D</th>\n",
       "      <th>S3AQ8B7E</th>\n",
       "      <th>S3AQ8B7F</th>\n",
       "      <th>S3AQ8B7G</th>\n",
       "      <th>S3AQ8B7H</th>\n",
       "      <th>CWITHDR_COUNT</th>\n",
       "    </tr>\n",
       "  </thead>\n",
       "  <tbody>\n",
       "    <tr>\n",
       "      <th>20</th>\n",
       "      <td>21</td>\n",
       "      <td>0.00</td>\n",
       "      <td>0.00</td>\n",
       "      <td>0.00</td>\n",
       "      <td>1.00</td>\n",
       "      <td>0.00</td>\n",
       "      <td>0.00</td>\n",
       "      <td>0.00</td>\n",
       "      <td>0.00</td>\n",
       "      <td>1.00</td>\n",
       "    </tr>\n",
       "    <tr>\n",
       "      <th>102</th>\n",
       "      <td>103</td>\n",
       "      <td>0.00</td>\n",
       "      <td>1.00</td>\n",
       "      <td>0.00</td>\n",
       "      <td>1.00</td>\n",
       "      <td>1.00</td>\n",
       "      <td>1.00</td>\n",
       "      <td>0.00</td>\n",
       "      <td>1.00</td>\n",
       "      <td>5.00</td>\n",
       "    </tr>\n",
       "    <tr>\n",
       "      <th>121</th>\n",
       "      <td>122</td>\n",
       "      <td>0.00</td>\n",
       "      <td>0.00</td>\n",
       "      <td>0.00</td>\n",
       "      <td>0.00</td>\n",
       "      <td>1.00</td>\n",
       "      <td>1.00</td>\n",
       "      <td>0.00</td>\n",
       "      <td>0.00</td>\n",
       "      <td>2.00</td>\n",
       "    </tr>\n",
       "    <tr>\n",
       "      <th>135</th>\n",
       "      <td>136</td>\n",
       "      <td>0.00</td>\n",
       "      <td>0.00</td>\n",
       "      <td>0.00</td>\n",
       "      <td>0.00</td>\n",
       "      <td>0.00</td>\n",
       "      <td>0.00</td>\n",
       "      <td>0.00</td>\n",
       "      <td>0.00</td>\n",
       "      <td>0.00</td>\n",
       "    </tr>\n",
       "    <tr>\n",
       "      <th>149</th>\n",
       "      <td>150</td>\n",
       "      <td>0.00</td>\n",
       "      <td>0.00</td>\n",
       "      <td>0.00</td>\n",
       "      <td>1.00</td>\n",
       "      <td>1.00</td>\n",
       "      <td>0.00</td>\n",
       "      <td>0.00</td>\n",
       "      <td>0.00</td>\n",
       "      <td>2.00</td>\n",
       "    </tr>\n",
       "    <tr>\n",
       "      <th>154</th>\n",
       "      <td>155</td>\n",
       "      <td>0.00</td>\n",
       "      <td>0.00</td>\n",
       "      <td>0.00</td>\n",
       "      <td>1.00</td>\n",
       "      <td>0.00</td>\n",
       "      <td>0.00</td>\n",
       "      <td>0.00</td>\n",
       "      <td>0.00</td>\n",
       "      <td>1.00</td>\n",
       "    </tr>\n",
       "    <tr>\n",
       "      <th>173</th>\n",
       "      <td>174</td>\n",
       "      <td>0.00</td>\n",
       "      <td>0.00</td>\n",
       "      <td>0.00</td>\n",
       "      <td>0.00</td>\n",
       "      <td>0.00</td>\n",
       "      <td>0.00</td>\n",
       "      <td>0.00</td>\n",
       "      <td>0.00</td>\n",
       "      <td>0.00</td>\n",
       "    </tr>\n",
       "    <tr>\n",
       "      <th>177</th>\n",
       "      <td>178</td>\n",
       "      <td>0.00</td>\n",
       "      <td>0.00</td>\n",
       "      <td>0.00</td>\n",
       "      <td>0.00</td>\n",
       "      <td>0.00</td>\n",
       "      <td>0.00</td>\n",
       "      <td>0.00</td>\n",
       "      <td>0.00</td>\n",
       "      <td>0.00</td>\n",
       "    </tr>\n",
       "    <tr>\n",
       "      <th>183</th>\n",
       "      <td>184</td>\n",
       "      <td>0.00</td>\n",
       "      <td>0.00</td>\n",
       "      <td>0.00</td>\n",
       "      <td>0.00</td>\n",
       "      <td>0.00</td>\n",
       "      <td>0.00</td>\n",
       "      <td>0.00</td>\n",
       "      <td>0.00</td>\n",
       "      <td>0.00</td>\n",
       "    </tr>\n",
       "    <tr>\n",
       "      <th>209</th>\n",
       "      <td>210</td>\n",
       "      <td>0.00</td>\n",
       "      <td>0.00</td>\n",
       "      <td>0.00</td>\n",
       "      <td>1.00</td>\n",
       "      <td>0.00</td>\n",
       "      <td>0.00</td>\n",
       "      <td>0.00</td>\n",
       "      <td>0.00</td>\n",
       "      <td>1.00</td>\n",
       "    </tr>\n",
       "    <tr>\n",
       "      <th>222</th>\n",
       "      <td>223</td>\n",
       "      <td>0.00</td>\n",
       "      <td>0.00</td>\n",
       "      <td>0.00</td>\n",
       "      <td>1.00</td>\n",
       "      <td>0.00</td>\n",
       "      <td>0.00</td>\n",
       "      <td>0.00</td>\n",
       "      <td>1.00</td>\n",
       "      <td>2.00</td>\n",
       "    </tr>\n",
       "    <tr>\n",
       "      <th>278</th>\n",
       "      <td>279</td>\n",
       "      <td>0.00</td>\n",
       "      <td>0.00</td>\n",
       "      <td>0.00</td>\n",
       "      <td>1.00</td>\n",
       "      <td>0.00</td>\n",
       "      <td>0.00</td>\n",
       "      <td>0.00</td>\n",
       "      <td>0.00</td>\n",
       "      <td>1.00</td>\n",
       "    </tr>\n",
       "    <tr>\n",
       "      <th>336</th>\n",
       "      <td>337</td>\n",
       "      <td>0.00</td>\n",
       "      <td>0.00</td>\n",
       "      <td>0.00</td>\n",
       "      <td>0.00</td>\n",
       "      <td>0.00</td>\n",
       "      <td>0.00</td>\n",
       "      <td>0.00</td>\n",
       "      <td>0.00</td>\n",
       "      <td>0.00</td>\n",
       "    </tr>\n",
       "    <tr>\n",
       "      <th>363</th>\n",
       "      <td>364</td>\n",
       "      <td>1.00</td>\n",
       "      <td>0.00</td>\n",
       "      <td>0.00</td>\n",
       "      <td>0.00</td>\n",
       "      <td>1.00</td>\n",
       "      <td>1.00</td>\n",
       "      <td>1.00</td>\n",
       "      <td>1.00</td>\n",
       "      <td>5.00</td>\n",
       "    </tr>\n",
       "    <tr>\n",
       "      <th>412</th>\n",
       "      <td>413</td>\n",
       "      <td>0.00</td>\n",
       "      <td>0.00</td>\n",
       "      <td>0.00</td>\n",
       "      <td>0.00</td>\n",
       "      <td>0.00</td>\n",
       "      <td>0.00</td>\n",
       "      <td>0.00</td>\n",
       "      <td>0.00</td>\n",
       "      <td>0.00</td>\n",
       "    </tr>\n",
       "    <tr>\n",
       "      <th>417</th>\n",
       "      <td>418</td>\n",
       "      <td>0.00</td>\n",
       "      <td>0.00</td>\n",
       "      <td>0.00</td>\n",
       "      <td>0.00</td>\n",
       "      <td>0.00</td>\n",
       "      <td>0.00</td>\n",
       "      <td>0.00</td>\n",
       "      <td>0.00</td>\n",
       "      <td>0.00</td>\n",
       "    </tr>\n",
       "    <tr>\n",
       "      <th>508</th>\n",
       "      <td>509</td>\n",
       "      <td>0.00</td>\n",
       "      <td>0.00</td>\n",
       "      <td>0.00</td>\n",
       "      <td>0.00</td>\n",
       "      <td>0.00</td>\n",
       "      <td>0.00</td>\n",
       "      <td>0.00</td>\n",
       "      <td>0.00</td>\n",
       "      <td>0.00</td>\n",
       "    </tr>\n",
       "    <tr>\n",
       "      <th>519</th>\n",
       "      <td>520</td>\n",
       "      <td>0.00</td>\n",
       "      <td>0.00</td>\n",
       "      <td>0.00</td>\n",
       "      <td>0.00</td>\n",
       "      <td>0.00</td>\n",
       "      <td>0.00</td>\n",
       "      <td>0.00</td>\n",
       "      <td>0.00</td>\n",
       "      <td>0.00</td>\n",
       "    </tr>\n",
       "    <tr>\n",
       "      <th>522</th>\n",
       "      <td>523</td>\n",
       "      <td>0.00</td>\n",
       "      <td>0.00</td>\n",
       "      <td>0.00</td>\n",
       "      <td>0.00</td>\n",
       "      <td>0.00</td>\n",
       "      <td>0.00</td>\n",
       "      <td>0.00</td>\n",
       "      <td>0.00</td>\n",
       "      <td>0.00</td>\n",
       "    </tr>\n",
       "    <tr>\n",
       "      <th>529</th>\n",
       "      <td>530</td>\n",
       "      <td>1.00</td>\n",
       "      <td>0.00</td>\n",
       "      <td>0.00</td>\n",
       "      <td>1.00</td>\n",
       "      <td>0.00</td>\n",
       "      <td>0.00</td>\n",
       "      <td>0.00</td>\n",
       "      <td>0.00</td>\n",
       "      <td>2.00</td>\n",
       "    </tr>\n",
       "  </tbody>\n",
       "</table>\n",
       "</div>"
      ],
      "text/plain": [
       "     IDNUM  S3AQ8B7A  S3AQ8B7B  S3AQ8B7C  S3AQ8B7D  S3AQ8B7E  S3AQ8B7F  \\\n",
       "20      21      0.00      0.00      0.00      1.00      0.00      0.00   \n",
       "102    103      0.00      1.00      0.00      1.00      1.00      1.00   \n",
       "121    122      0.00      0.00      0.00      0.00      1.00      1.00   \n",
       "135    136      0.00      0.00      0.00      0.00      0.00      0.00   \n",
       "149    150      0.00      0.00      0.00      1.00      1.00      0.00   \n",
       "154    155      0.00      0.00      0.00      1.00      0.00      0.00   \n",
       "173    174      0.00      0.00      0.00      0.00      0.00      0.00   \n",
       "177    178      0.00      0.00      0.00      0.00      0.00      0.00   \n",
       "183    184      0.00      0.00      0.00      0.00      0.00      0.00   \n",
       "209    210      0.00      0.00      0.00      1.00      0.00      0.00   \n",
       "222    223      0.00      0.00      0.00      1.00      0.00      0.00   \n",
       "278    279      0.00      0.00      0.00      1.00      0.00      0.00   \n",
       "336    337      0.00      0.00      0.00      0.00      0.00      0.00   \n",
       "363    364      1.00      0.00      0.00      0.00      1.00      1.00   \n",
       "412    413      0.00      0.00      0.00      0.00      0.00      0.00   \n",
       "417    418      0.00      0.00      0.00      0.00      0.00      0.00   \n",
       "508    509      0.00      0.00      0.00      0.00      0.00      0.00   \n",
       "519    520      0.00      0.00      0.00      0.00      0.00      0.00   \n",
       "522    523      0.00      0.00      0.00      0.00      0.00      0.00   \n",
       "529    530      1.00      0.00      0.00      1.00      0.00      0.00   \n",
       "\n",
       "     S3AQ8B7G  S3AQ8B7H  CWITHDR_COUNT  \n",
       "20       0.00      0.00           1.00  \n",
       "102      0.00      1.00           5.00  \n",
       "121      0.00      0.00           2.00  \n",
       "135      0.00      0.00           0.00  \n",
       "149      0.00      0.00           2.00  \n",
       "154      0.00      0.00           1.00  \n",
       "173      0.00      0.00           0.00  \n",
       "177      0.00      0.00           0.00  \n",
       "183      0.00      0.00           0.00  \n",
       "209      0.00      0.00           1.00  \n",
       "222      0.00      1.00           2.00  \n",
       "278      0.00      0.00           1.00  \n",
       "336      0.00      0.00           0.00  \n",
       "363      1.00      1.00           5.00  \n",
       "412      0.00      0.00           0.00  \n",
       "417      0.00      0.00           0.00  \n",
       "508      0.00      0.00           0.00  \n",
       "519      0.00      0.00           0.00  \n",
       "522      0.00      0.00           0.00  \n",
       "529      0.00      0.00           2.00  "
      ]
     },
     "execution_count": 30,
     "metadata": {},
     "output_type": "execute_result"
    }
   ],
   "source": [
    "\n",
    "# check to make sure sum code worked\n",
    "column_list = ['IDNUM', 'S3AQ8B7A', 'S3AQ8B7B', 'S3AQ8B7C', 'S3AQ8B7D', 'S3AQ8B7E', 'S3AQ8B7F',\n",
    "               'S3AQ8B7G', 'S3AQ8B7H', 'CWITHDR_COUNT']\n",
    "sub1_df[column_list].head(n=20)"
   ]
  },
  {
   "cell_type": "code",
   "execution_count": 33,
   "metadata": {},
   "outputs": [
    {
     "name": "stdout",
     "output_type": "stream",
     "text": [
      "1.00    161\n",
      "5.00     77\n",
      "2.00    132\n",
      "0.00    648\n",
      "3.00    109\n",
      "4.00     99\n",
      "6.00     53\n",
      "7.00     29\n",
      "8.00     12\n",
      "Name: CWITHDR_COUNT, dtype: int64\n"
     ]
    }
   ],
   "source": [
    "\n",
    "chk1d_series = sub1_df['CWITHDR_COUNT'].value_counts(sort=False, dropna=False)\n",
    "print(chk1d_series)"
   ]
  },
  {
   "cell_type": "code",
   "execution_count": 34,
   "metadata": {},
   "outputs": [],
   "source": [
    "\n",
    "# withdrawal (yes/no)\n",
    "def crit2(row):\n",
    "    if (row['CWITHDR_COUNT'] >= 4) or (row['S3AQ8B7J'] == 1):\n",
    "        return 1\n",
    "    elif (row['CWITHDR_COUNT'] < 4) and (row['S3AQ8B7J'] != 1):\n",
    "        return 0"
   ]
  },
  {
   "cell_type": "code",
   "execution_count": 35,
   "metadata": {},
   "outputs": [
    {
     "name": "stdout",
     "output_type": "stream",
     "text": [
      "crit2            0   1\n",
      "CWITHDR_COUNT         \n",
      "0.00           648   0\n",
      "1.00           161   0\n",
      "2.00            85  47\n",
      "3.00            68  41\n",
      "4.00             0  99\n",
      "5.00             0  77\n",
      "6.00             0  53\n",
      "7.00             0  29\n",
      "8.00             0  12\n"
     ]
    }
   ],
   "source": [
    "\n",
    "sub1_df['crit2'] = sub1_df.apply(lambda row: crit2(row), axis=1)\n",
    "print(pd.crosstab(sub1_df['CWITHDR_COUNT'], sub1_df['crit2']))"
   ]
  },
  {
   "cell_type": "code",
   "execution_count": 36,
   "metadata": {},
   "outputs": [],
   "source": [
    "\n",
    "# Current Larger amount or longer period criteria #3 DSM-IV\n",
    "sub1_df['S3AQ8B13'] = sub1_df['S3AQ8B13'].replace(9, np.nan)\n",
    "sub1_df['S3AQ8B13'] = sub1_df['S3AQ8B13'].map(recode1)"
   ]
  },
  {
   "cell_type": "code",
   "execution_count": 37,
   "metadata": {},
   "outputs": [
    {
     "name": "stdout",
     "output_type": "stream",
     "text": [
      "0.00    869\n",
      "1.00    439\n",
      "nan      12\n",
      "Name: S3AQ8B13, dtype: int64\n"
     ]
    }
   ],
   "source": [
    "\n",
    "chk1d_series = sub1_df['S3AQ8B13'].value_counts(sort=False, dropna=False)\n",
    "print(chk1d_series)"
   ]
  },
  {
   "cell_type": "code",
   "execution_count": 38,
   "metadata": {},
   "outputs": [],
   "source": [
    "\n",
    "# Current Cut down criteria #4 DSM-IV\n",
    "sub1_df['S3AQ8B6'] = pd.to_numeric(sub1_df['S3AQ8B6'], errors='coerce')\n",
    "sub1_df['S3AQ8B1'] = pd.to_numeric(sub1_df['S3AQ8B1'], errors='coerce')"
   ]
  },
  {
   "cell_type": "code",
   "execution_count": 39,
   "metadata": {},
   "outputs": [],
   "source": [
    "\n",
    "def crit4(row):\n",
    "    if (row['S3AQ8B6'] == 1) or (row['S3AQ8B1'] == 1):\n",
    "        return 1\n",
    "    elif (row['S3AQ8B6'] == 2) and (row['S3AQ8B1'] == 2):\n",
    "        return 0"
   ]
  },
  {
   "cell_type": "code",
   "execution_count": 40,
   "metadata": {},
   "outputs": [
    {
     "name": "stdout",
     "output_type": "stream",
     "text": [
      "1.00    954\n",
      "0.00    359\n",
      "nan       7\n",
      "Name: crit4, dtype: int64\n"
     ]
    }
   ],
   "source": [
    "\n",
    "sub1_df['crit4'] = sub1_df.apply(lambda row: crit4(row), axis=1)\n",
    "chk1e_series = sub1_df['crit4'].value_counts(sort=False, dropna=False)\n",
    "print(chk1e_series)"
   ]
  },
  {
   "cell_type": "code",
   "execution_count": 42,
   "metadata": {},
   "outputs": [],
   "source": [
    "\n",
    "# Current Substance activities criteria #5 DSM-IV\n",
    "sub1_df['S3AQ8B5'] = pd.to_numeric(sub1_df['S3AQ8B5'], errors='coerce')\n",
    "sub1_df['S3AQ8B5'] = sub1_df['S3AQ8B5'].replace(9, np.nan)\n",
    "sub1_df['S3AQ8B5'] = sub1_df['S3AQ8B5'].map(recode1)"
   ]
  },
  {
   "cell_type": "code",
   "execution_count": 43,
   "metadata": {},
   "outputs": [
    {
     "name": "stdout",
     "output_type": "stream",
     "text": [
      "0.00    844\n",
      "1.00    467\n",
      "nan       9\n",
      "Name: S3AQ8B5, dtype: int64\n"
     ]
    }
   ],
   "source": [
    "\n",
    "chk1f_series = sub1_df['S3AQ8B5'].value_counts(sort=False, dropna=False)\n",
    "print(chk1f_series)"
   ]
  },
  {
   "cell_type": "code",
   "execution_count": 44,
   "metadata": {},
   "outputs": [],
   "source": [
    "\n",
    "# Current Reduce activities criteria #6 DSM-IV\n",
    "sub1_df['S3AQ8B2'] = pd.to_numeric(sub1_df['S3AQ8B2'], errors='coerce')\n",
    "sub1_df['S3AQ8B3'] = pd.to_numeric(sub1_df['S3AQ8B3'], errors='coerce')"
   ]
  },
  {
   "cell_type": "code",
   "execution_count": 45,
   "metadata": {},
   "outputs": [],
   "source": [
    "\n",
    "def crit6(row):\n",
    "    if (row['S3AQ8B2'] == 1) or (row['S3AQ8B3'] == 1):\n",
    "        return 1\n",
    "    elif (row['S3AQ8B2'] == 2) and (row['S3AQ8B3'] == 2):\n",
    "        return 0"
   ]
  },
  {
   "cell_type": "code",
   "execution_count": 46,
   "metadata": {},
   "outputs": [
    {
     "name": "stdout",
     "output_type": "stream",
     "text": [
      "0.00    1205\n",
      "1.00     109\n",
      "nan        6\n",
      "Name: crit6, dtype: int64\n"
     ]
    }
   ],
   "source": [
    "\n",
    "sub1_df['crit6'] = sub1_df.apply(lambda row: crit6(row), axis=1)\n",
    "chk1g_series = sub1_df['crit6'].value_counts(sort=False, dropna=False)\n",
    "print(chk1g_series)"
   ]
  },
  {
   "cell_type": "code",
   "execution_count": 47,
   "metadata": {},
   "outputs": [],
   "source": [
    "\n",
    "# Current use continued despite knowledge of physical or psychological problem criteria #7 DSM-IV\n",
    "sub1_df['S3AQ8B4'] = pd.to_numeric(sub1_df['S3AQ8B4'], errors='coerce')\n",
    "sub1_df['S3AQ8B14'] = pd.to_numeric(sub1_df['S3AQ8B14'], errors='coerce')"
   ]
  },
  {
   "cell_type": "code",
   "execution_count": 48,
   "metadata": {},
   "outputs": [],
   "source": [
    "\n",
    "def crit7(row):\n",
    "    if (row['S3AQ8B4'] == 1) or (row['S3AQ8B14'] == 1):\n",
    "        return 1\n",
    "    elif (row['S3AQ8B4'] == 2) and (row['S3AQ8B14'] == 2):\n",
    "        return 0"
   ]
  },
  {
   "cell_type": "code",
   "execution_count": 49,
   "metadata": {},
   "outputs": [
    {
     "name": "stdout",
     "output_type": "stream",
     "text": [
      "1.00    697\n",
      "0.00    613\n",
      "nan      10\n",
      "Name: crit7, dtype: int64\n"
     ]
    }
   ],
   "source": [
    "\n",
    "sub1_df['crit7'] = sub1_df.apply(lambda row: crit7(row), axis=1)\n",
    "chk1h_series = sub1_df['crit7'].value_counts(sort=False, dropna=False)\n",
    "print(chk1h_series)"
   ]
  },
  {
   "cell_type": "code",
   "execution_count": 50,
   "metadata": {},
   "outputs": [
    {
     "name": "stdout",
     "output_type": "stream",
     "text": [
      "2.00    241\n",
      "3.00    211\n",
      "0.00    205\n",
      "1.00    257\n",
      "5.00    140\n",
      "4.00    163\n",
      "6.00     83\n",
      "7.00     20\n",
      "Name: NDSymptoms, dtype: int64\n"
     ]
    }
   ],
   "source": [
    "\n",
    "# sum all symptoms (np.nansum allows rows with some missing values to count all valid values)\n",
    "sub1_df['NDSymptoms'] = np.nansum([\n",
    "    sub1_df['crit1'],\n",
    "    sub1_df['crit2'],\n",
    "    sub1_df['S3AQ8B13'],\n",
    "    sub1_df['crit4'],\n",
    "    sub1_df['S3AQ8B5'],\n",
    "    sub1_df['crit6'],\n",
    "    sub1_df['crit7'],\n",
    "    ], axis=0)\n",
    "chk2_series = sub1_df['NDSymptoms'].value_counts(sort=False, dropna=False)\n",
    "print(chk2_series)"
   ]
  },
  {
   "cell_type": "code",
   "execution_count": 52,
   "metadata": {},
   "outputs": [
    {
     "name": "stdout",
     "output_type": "stream",
     "text": [
      "0    965\n",
      "1    355\n",
      "Name: MAJORDEPLIFE, dtype: int64\n",
      "18    130\n",
      "19    149\n",
      "20    180\n",
      "21    178\n",
      "22    175\n",
      "23    172\n",
      "24    196\n",
      "25    140\n",
      "Name: AGE, dtype: int64\n"
     ]
    }
   ],
   "source": [
    "\n",
    "c1_series = sub1_df['MAJORDEPLIFE'].value_counts(sort=False, dropna=False)\n",
    "print(c1_series)\n",
    "c2_series = sub1_df['AGE'].value_counts(sort=False, dropna=False)\n",
    "print(c2_series)"
   ]
  },
  {
   "cell_type": "code",
   "execution_count": 53,
   "metadata": {},
   "outputs": [],
   "source": [
    "\n",
    "# Binary nicotine dependence\n",
    "def NICOTINEDEP(x):\n",
    "    if (x['TAB12MDX'] == 1):\n",
    "        return 1\n",
    "    else:\n",
    "        return 0"
   ]
  },
  {
   "cell_type": "code",
   "execution_count": 54,
   "metadata": {},
   "outputs": [
    {
     "name": "stdout",
     "output_type": "stream",
     "text": [
      "NICOTINEDEP    0    1\n",
      "TAB12MDX             \n",
      "0            521    0\n",
      "1              0  799\n"
     ]
    }
   ],
   "source": [
    "\n",
    "sub1_df['NICOTINEDEP'] = sub1_df.apply(lambda x: NICOTINEDEP(x), axis=1)\n",
    "print(pd.crosstab(sub1_df['TAB12MDX'], sub1_df['NICOTINEDEP']))"
   ]
  },
  {
   "cell_type": "code",
   "execution_count": 55,
   "metadata": {},
   "outputs": [],
   "source": [
    "\n",
    "# Rename variables\n",
    "sub1_df.rename(columns={'S3AQ3C1': 'numbercigsmoked'}, inplace=True)"
   ]
  },
  {
   "cell_type": "code",
   "execution_count": 56,
   "metadata": {},
   "outputs": [
    {
     "name": "stdout",
     "output_type": "stream",
     "text": [
      "3.00      45\n",
      "10.00    350\n",
      "20.00    357\n",
      "5.00     108\n",
      "8.00      36\n",
      "1.00      22\n",
      "98.00      1\n",
      "30.00     38\n",
      "4.00      46\n",
      "12.00     25\n",
      "nan        5\n",
      "6.00      47\n",
      "13.00      7\n",
      "7.00      38\n",
      "15.00     97\n",
      "40.00     29\n",
      "14.00      2\n",
      "2.00      28\n",
      "11.00      3\n",
      "60.00      2\n",
      "17.00      2\n",
      "25.00     13\n",
      "16.00      5\n",
      "27.00      1\n",
      "80.00      1\n",
      "9.00       6\n",
      "35.00      1\n",
      "19.00      1\n",
      "18.00      3\n",
      "28.00      1\n",
      "Name: numbercigsmoked, dtype: int64\n"
     ]
    }
   ],
   "source": [
    "\n",
    "c6_series = sub1_df['numbercigsmoked'].value_counts(sort=False, dropna=False)\n",
    "print(c6_series)"
   ]
  },
  {
   "cell_type": "code",
   "execution_count": 57,
   "metadata": {},
   "outputs": [],
   "source": [
    "\n",
    "column_list = [('S6Q1', 'S6Q2'), ('S6Q2', 'S6Q3'), ('S6Q3', 'S6Q61'),\n",
    "               ('S6Q61', 'S6Q62'), ('S6Q62', 'S6Q63'), ('S6Q63', 'S6Q64'),\n",
    "               ('S6Q64', 'S6Q65'), ('S6Q65', 'S6Q66'), ('S6Q66', 'S6Q67'),\n",
    "               ('S6Q67', 'S6Q68'), ('S6Q68', 'S6Q69'), ('S6Q69', 'S6Q610'),\n",
    "               ('S6Q610', 'S6Q611'), ('S6Q611', 'S6Q612'), ('S6Q612', 'S6Q613'),\n",
    "               ('S6Q613', 'S6Q7'), ('S6Q7')]\n",
    "# It's ==, AND, OR, from highest to lowest, according to the documentation\n",
    "def PANIC(x1):\n",
    "    precedence_boolean = False\n",
    "    for column_tuple in column_list:\n",
    "        if len(column_tuple) == 1:\n",
    "            precedence_operation = (x1[column_tuple[0]] == 1)\n",
    "            precedence_boolean = precedence_boolean or precedence_operation\n",
    "        elif len(column_tuple) == 2:\n",
    "            precedence_operation = (x1[column_tuple[0]] == 1) and (x1[column_tuple[1]] == 1)\n",
    "            precedence_boolean = precedence_boolean or precedence_operation\n",
    "    if precedence_boolean:\n",
    "        \n",
    "        return 1\n",
    "    \n",
    "    else:\n",
    "        \n",
    "        return 0"
   ]
  },
  {
   "cell_type": "code",
   "execution_count": 58,
   "metadata": {},
   "outputs": [
    {
     "name": "stdout",
     "output_type": "stream",
     "text": [
      "0    1115\n",
      "1     205\n",
      "Name: PANIC, dtype: int64\n"
     ]
    }
   ],
   "source": [
    "\n",
    "sub1_df['PANIC'] = sub1_df.apply(lambda x1: PANIC(x1), axis=1)\n",
    "c7_series = sub1_df['PANIC'].value_counts(sort=False, dropna=False)\n",
    "print(c7_series)"
   ]
  },
  {
   "cell_type": "code",
   "execution_count": 59,
   "metadata": {},
   "outputs": [],
   "source": [
    "\n",
    "# 4 Category ethnicity variable\n",
    "sub1_df['ETHRACE2A'] = pd.to_numeric(sub1_df['ETHRACE2A'], errors='coerce')\n",
    "recode2 = {\n",
    "    1: 1,\n",
    "    2: 2,\n",
    "    3: 3,\n",
    "    4: 3,\n",
    "    5: 0,\n",
    "    }\n",
    "sub1_df['ETHRACE2A'] = sub1_df['ETHRACE2A'].replace(9, np.nan)\n",
    "sub1_df['ETHRACE'] = sub1_df['ETHRACE2A'].map(recode2)"
   ]
  },
  {
   "cell_type": "code",
   "execution_count": 60,
   "metadata": {},
   "outputs": [
    {
     "name": "stdout",
     "output_type": "stream",
     "text": [
      "1    849\n",
      "2    170\n",
      "3     30\n",
      "4     47\n",
      "5    224\n",
      "Name: ETHRACE2A, dtype: int64\n"
     ]
    }
   ],
   "source": [
    "\n",
    "c8_series = sub1_df['ETHRACE2A'].value_counts(sort=False, dropna=False)\n",
    "print(c8_series)"
   ]
  },
  {
   "cell_type": "code",
   "execution_count": 61,
   "metadata": {},
   "outputs": [
    {
     "name": "stdout",
     "output_type": "stream",
     "text": [
      "0    224\n",
      "1    849\n",
      "2    170\n",
      "3     77\n",
      "Name: ETHRACE, dtype: int64\n"
     ]
    }
   ],
   "source": [
    "\n",
    "c9_series = sub1_df['ETHRACE'].value_counts(sort=False, dropna=False)\n",
    "print(c9_series)"
   ]
  },
  {
   "cell_type": "markdown",
   "metadata": {},
   "source": [
    "\n",
    "##############################################################################\n",
    "# CATEGORICAL VARIABLES WITH 3+ CATEGORIES\n",
    "##############################################################################"
   ]
  },
  {
   "cell_type": "code",
   "execution_count": 62,
   "metadata": {},
   "outputs": [
    {
     "name": "stdout",
     "output_type": "stream",
     "text": [
      "-1.3292282357185144e-14\n",
      "-3.445055688533819e-16\n"
     ]
    }
   ],
   "source": [
    "\n",
    "# Center quantitative IVs for regression analysis\n",
    "sub1_df['numbercigsmoked_c'] = sub1_df['numbercigsmoked'] - sub1_df['numbercigsmoked'].mean()\n",
    "print(sub1_df['numbercigsmoked_c'].mean())\n",
    "sub1_df['age_c'] = sub1_df['AGE'] - sub1_df['AGE'].mean()\n",
    "print(sub1_df['age_c'].mean())"
   ]
  },
  {
   "cell_type": "code",
   "execution_count": 65,
   "metadata": {},
   "outputs": [
    {
     "name": "stdout",
     "output_type": "stream",
     "text": [
      "                            OLS Regression Results                            \n",
      "==============================================================================\n",
      "Dep. Variable:             NDSymptoms   R-squared:                       0.138\n",
      "Model:                            OLS   Adj. R-squared:                  0.133\n",
      "Method:                 Least Squares   F-statistic:                     26.10\n",
      "Date:                Sat, 28 Apr 2018   Prob (F-statistic):           1.11e-37\n",
      "Time:                        18:23:04   Log-Likelihood:                -2594.5\n",
      "No. Observations:                1315   AIC:                             5207.\n",
      "Df Residuals:                    1306   BIC:                             5254.\n",
      "Df Model:                           8                                         \n",
      "Covariance Type:            nonrobust                                         \n",
      "=====================================================================================\n",
      "                        coef    std err          t      P>|t|      [0.025      0.975]\n",
      "-------------------------------------------------------------------------------------\n",
      "Intercept             2.3096      0.185     12.511      0.000       1.947       2.672\n",
      "C(ETHRACE)[T.1]      -0.1143      0.135     -0.849      0.396      -0.378       0.150\n",
      "C(ETHRACE)[T.2]      -0.0982      0.178     -0.551      0.581      -0.448       0.251\n",
      "C(ETHRACE)[T.3]       0.3265      0.231      1.412      0.158      -0.127       0.780\n",
      "DYSLIFE               0.2867      0.209      1.374      0.170      -0.123       0.696\n",
      "MAJORDEPLIFE          1.2801      0.116     11.010      0.000       1.052       1.508\n",
      "numbercigsmoked_c     0.0370      0.006      6.328      0.000       0.026       0.048\n",
      "age_c                -0.0410      0.022     -1.851      0.064      -0.084       0.002\n",
      "SEX                  -0.0359      0.100     -0.360      0.719      -0.231       0.159\n",
      "==============================================================================\n",
      "Omnibus:                       70.223   Durbin-Watson:                   2.083\n",
      "Prob(Omnibus):                  0.000   Jarque-Bera (JB):               47.715\n",
      "Skew:                           0.351   Prob(JB):                     4.35e-11\n",
      "Kurtosis:                       2.385   Cond. No.                         50.4\n",
      "==============================================================================\n",
      "\n",
      "Warnings:\n",
      "[1] Standard Errors assume that the covariance matrix of the errors is correctly specified.\n"
     ]
    }
   ],
   "source": [
    "\n",
    "# Adding 4 category ethnicity/race. Reference group coding is called \"Treatment\" coding in python\n",
    "# and the default reference catergory is the group with a value = 0 (Hispanic)\n",
    "reg6_rrw = smf.ols('NDSymptoms ~ DYSLIFE + MAJORDEPLIFE + numbercigsmoked_c + age_c + SEX + C(ETHRACE)',\n",
    "                   data=sub1_df).fit()\n",
    "print(reg6_rrw.summary())"
   ]
  },
  {
   "cell_type": "code",
   "execution_count": 66,
   "metadata": {},
   "outputs": [
    {
     "name": "stdout",
     "output_type": "stream",
     "text": [
      "                            OLS Regression Results                            \n",
      "==============================================================================\n",
      "Dep. Variable:             NDSymptoms   R-squared:                       0.138\n",
      "Model:                            OLS   Adj. R-squared:                  0.133\n",
      "Method:                 Least Squares   F-statistic:                     26.10\n",
      "Date:                Sat, 28 Apr 2018   Prob (F-statistic):           1.11e-37\n",
      "Time:                        18:23:41   Log-Likelihood:                -2594.5\n",
      "No. Observations:                1315   AIC:                             5207.\n",
      "Df Residuals:                    1306   BIC:                             5254.\n",
      "Df Model:                           8                                         \n",
      "Covariance Type:            nonrobust                                         \n",
      "===========================================================================================================\n",
      "                                              coef    std err          t      P>|t|      [0.025      0.975]\n",
      "-----------------------------------------------------------------------------------------------------------\n",
      "Intercept                                   2.1953      0.163     13.434      0.000       1.875       2.516\n",
      "C(ETHRACE, Treatment(reference=1))[T.0]     0.1143      0.135      0.849      0.396      -0.150       0.378\n",
      "C(ETHRACE, Treatment(reference=1))[T.2]     0.0161      0.149      0.108      0.914      -0.277       0.309\n",
      "C(ETHRACE, Treatment(reference=1))[T.3]     0.4408      0.210      2.104      0.036       0.030       0.852\n",
      "DYSLIFE                                     0.2867      0.209      1.374      0.170      -0.123       0.696\n",
      "MAJORDEPLIFE                                1.2801      0.116     11.010      0.000       1.052       1.508\n",
      "numbercigsmoked_c                           0.0370      0.006      6.328      0.000       0.026       0.048\n",
      "age_c                                      -0.0410      0.022     -1.851      0.064      -0.084       0.002\n",
      "SEX                                        -0.0359      0.100     -0.360      0.719      -0.231       0.159\n",
      "==============================================================================\n",
      "Omnibus:                       70.223   Durbin-Watson:                   2.083\n",
      "Prob(Omnibus):                  0.000   Jarque-Bera (JB):               47.715\n",
      "Skew:                           0.351   Prob(JB):                     4.35e-11\n",
      "Kurtosis:                       2.385   Cond. No.                         40.0\n",
      "==============================================================================\n",
      "\n",
      "Warnings:\n",
      "[1] Standard Errors assume that the covariance matrix of the errors is correctly specified.\n"
     ]
    }
   ],
   "source": [
    "\n",
    "# Can override the default ad specify a different reference group\n",
    "# non-Hispanic White as reference group\n",
    "reg7_rrw = smf.ols('NDSymptoms ~ DYSLIFE + MAJORDEPLIFE + numbercigsmoked_c + age_c + SEX + C(ETHRACE, Treatment(reference=1))',\n",
    "                   data=sub1_df).fit()\n",
    "print(reg7_rrw.summary())"
   ]
  },
  {
   "cell_type": "markdown",
   "metadata": {},
   "source": [
    "\n",
    "##############################################################################\n",
    "# LOGISTIC REGRESSION\n",
    "##############################################################################"
   ]
  },
  {
   "cell_type": "code",
   "execution_count": 82,
   "metadata": {},
   "outputs": [
    {
     "name": "stdout",
     "output_type": "stream",
     "text": [
      "Optimization terminated successfully.\n",
      "         Current function value: 0.664381\n",
      "         Iterations 5\n",
      "                           Logit Regression Results                           \n",
      "==============================================================================\n",
      "Dep. Variable:            NICOTINEDEP   No. Observations:                 1320\n",
      "Model:                          Logit   Df Residuals:                     1318\n",
      "Method:                           MLE   Df Model:                            1\n",
      "Date:                Sat, 28 Apr 2018   Pseudo R-squ.:                0.009574\n",
      "Time:                        22:05:38   Log-Likelihood:                -876.98\n",
      "converged:                       True   LL-Null:                       -885.46\n",
      "                                        LLR p-value:                 3.829e-05\n",
      "==============================================================================\n",
      "                 coef    std err          z      P>|z|      [0.025      0.975]\n",
      "------------------------------------------------------------------------------\n",
      "Intercept      0.3776      0.057      6.569      0.000       0.265       0.490\n",
      "SOCPDLIFE      1.2318      0.335      3.674      0.000       0.575       1.889\n",
      "==============================================================================\n"
     ]
    }
   ],
   "source": [
    "\n",
    "# https://github.com/statsmodels/statsmodels/issues/3931\n",
    "from scipy import stats\n",
    "\n",
    "stats.chisqprob = lambda llr, df_model: stats.chi2.sf(llr, df_model)\n",
    "\n",
    "# Logistic regression with social phobia\n",
    "lreg1_brw = smf.logit(formula='NICOTINEDEP ~ SOCPDLIFE', data=sub1_df).fit()\n",
    "print(lreg1_brw.summary())"
   ]
  },
  {
   "cell_type": "code",
   "execution_count": 74,
   "metadata": {},
   "outputs": [
    {
     "name": "stdout",
     "output_type": "stream",
     "text": [
      "Odds Ratios\n",
      "Intercept   1.46\n",
      "SOCPDLIFE   3.43\n",
      "dtype: float64\n"
     ]
    }
   ],
   "source": [
    "\n",
    "# Odds ratios\n",
    "print('Odds Ratios')\n",
    "print(np.exp(lreg1_brw.params))"
   ]
  },
  {
   "cell_type": "code",
   "execution_count": 75,
   "metadata": {},
   "outputs": [
    {
     "name": "stdout",
     "output_type": "stream",
     "text": [
      "           Lower CI  Upper CI   OR\n",
      "Intercept      1.30      1.63 1.46\n",
      "SOCPDLIFE      1.78      6.61 3.43\n"
     ]
    }
   ],
   "source": [
    "\n",
    "# Odd ratios with 95% confidence intervals\n",
    "params = lreg1_brw.params\n",
    "conf = lreg1_brw.conf_int()\n",
    "conf['OR'] = params\n",
    "conf.columns = ['Lower CI', 'Upper CI', 'OR']\n",
    "print(np.exp(conf))"
   ]
  },
  {
   "cell_type": "code",
   "execution_count": 76,
   "metadata": {},
   "outputs": [
    {
     "name": "stdout",
     "output_type": "stream",
     "text": [
      "Optimization terminated successfully.\n",
      "         Current function value: 0.632175\n",
      "         Iterations 6\n",
      "                           Logit Regression Results                           \n",
      "==============================================================================\n",
      "Dep. Variable:            NICOTINEDEP   No. Observations:                 1320\n",
      "Model:                          Logit   Df Residuals:                     1317\n",
      "Method:                           MLE   Df Model:                            2\n",
      "Date:                Sat, 28 Apr 2018   Pseudo R-squ.:                 0.05758\n",
      "Time:                        18:37:54   Log-Likelihood:                -834.47\n",
      "converged:                       True   LL-Null:                       -885.46\n",
      "                                        LLR p-value:                 7.177e-23\n",
      "================================================================================\n",
      "                   coef    std err          z      P>|z|      [0.025      0.975]\n",
      "--------------------------------------------------------------------------------\n",
      "Intercept        0.0939      0.065      1.444      0.149      -0.034       0.221\n",
      "SOCPDLIFE        0.8393      0.347      2.416      0.016       0.158       1.520\n",
      "MAJORDEPLIFE     1.3072      0.152      8.588      0.000       1.009       1.606\n",
      "================================================================================\n"
     ]
    }
   ],
   "source": [
    "\n",
    "# Logistic regression with social phobia and depression\n",
    "lreg2_brw = smf.logit(formula='NICOTINEDEP ~ SOCPDLIFE + MAJORDEPLIFE',\n",
    "                      data=sub1_df).fit()\n",
    "print(lreg2_brw.summary())"
   ]
  },
  {
   "cell_type": "code",
   "execution_count": 77,
   "metadata": {},
   "outputs": [
    {
     "name": "stdout",
     "output_type": "stream",
     "text": [
      "              Lower CI  Upper CI   OR\n",
      "Intercept         0.97      1.25 1.10\n",
      "SOCPDLIFE         1.17      4.57 2.31\n",
      "MAJORDEPLIFE      2.74      4.98 3.70\n"
     ]
    }
   ],
   "source": [
    "\n",
    "# Odd ratios with 95% confidence intervals\n",
    "params = lreg2_brw.params\n",
    "conf = lreg2_brw.conf_int()\n",
    "conf['OR'] = params\n",
    "conf.columns = ['Lower CI', 'Upper CI', 'OR']\n",
    "print(np.exp(conf))"
   ]
  },
  {
   "cell_type": "code",
   "execution_count": 78,
   "metadata": {},
   "outputs": [
    {
     "name": "stdout",
     "output_type": "stream",
     "text": [
      "Optimization terminated successfully.\n",
      "         Current function value: 0.662762\n",
      "         Iterations 5\n",
      "                           Logit Regression Results                           \n",
      "==============================================================================\n",
      "Dep. Variable:            NICOTINEDEP   No. Observations:                 1320\n",
      "Model:                          Logit   Df Residuals:                     1318\n",
      "Method:                           MLE   Df Model:                            1\n",
      "Date:                Sat, 28 Apr 2018   Pseudo R-squ.:                 0.01199\n",
      "Time:                        19:45:53   Log-Likelihood:                -874.85\n",
      "converged:                       True   LL-Null:                       -885.46\n",
      "                                        LLR p-value:                 4.079e-06\n",
      "==============================================================================\n",
      "                 coef    std err          z      P>|z|      [0.025      0.975]\n",
      "------------------------------------------------------------------------------\n",
      "Intercept      0.3202      0.061      5.278      0.000       0.201       0.439\n",
      "PANIC          0.7590      0.172      4.423      0.000       0.423       1.095\n",
      "==============================================================================\n"
     ]
    }
   ],
   "source": [
    "\n",
    "# Logistic regression with panic\n",
    "lreg3_brw = smf.logit(formula='NICOTINEDEP ~ PANIC', data=sub1_df).fit()\n",
    "print(lreg3_brw.summary())"
   ]
  },
  {
   "cell_type": "code",
   "execution_count": 79,
   "metadata": {},
   "outputs": [
    {
     "name": "stdout",
     "output_type": "stream",
     "text": [
      "Odds Ratios\n",
      "           Lower CI  Upper CI   OR\n",
      "Intercept      1.22      1.55 1.38\n",
      "PANIC          1.53      2.99 2.14\n"
     ]
    }
   ],
   "source": [
    "\n",
    "# Odd ratios with 95% confidence intervals\n",
    "print('Odds Ratios')\n",
    "params = lreg3_brw.params\n",
    "conf = lreg3_brw.conf_int()\n",
    "conf['OR'] = params\n",
    "conf.columns = ['Lower CI', 'Upper CI', 'OR']\n",
    "print(np.exp(conf))"
   ]
  },
  {
   "cell_type": "code",
   "execution_count": 80,
   "metadata": {},
   "outputs": [
    {
     "name": "stdout",
     "output_type": "stream",
     "text": [
      "Optimization terminated successfully.\n",
      "         Current function value: 0.633241\n",
      "         Iterations 5\n",
      "                           Logit Regression Results                           \n",
      "==============================================================================\n",
      "Dep. Variable:            NICOTINEDEP   No. Observations:                 1320\n",
      "Model:                          Logit   Df Residuals:                     1317\n",
      "Method:                           MLE   Df Model:                            2\n",
      "Date:                Sat, 28 Apr 2018   Pseudo R-squ.:                 0.05600\n",
      "Time:                        22:04:26   Log-Likelihood:                -835.88\n",
      "converged:                       True   LL-Null:                       -885.46\n",
      "                                        LLR p-value:                 2.930e-22\n",
      "================================================================================\n",
      "                   coef    std err          z      P>|z|      [0.025      0.975]\n",
      "--------------------------------------------------------------------------------\n",
      "Intercept        0.0826      0.066      1.243      0.214      -0.048       0.213\n",
      "PANIC            0.3554      0.183      1.941      0.052      -0.003       0.714\n",
      "MAJORDEPLIFE     1.2848      0.155      8.266      0.000       0.980       1.589\n",
      "================================================================================\n"
     ]
    }
   ],
   "source": [
    "\n",
    "# logistic regression with panic and depression\n",
    "lreg4_brw = smf.logit(formula='NICOTINEDEP ~ PANIC + MAJORDEPLIFE', data=sub1_df).fit()\n",
    "print(lreg4_brw.summary())"
   ]
  },
  {
   "cell_type": "code",
   "execution_count": 81,
   "metadata": {},
   "outputs": [
    {
     "name": "stdout",
     "output_type": "stream",
     "text": [
      "Odds Ratios\n",
      "              Lower CI  Upper CI   OR\n",
      "Intercept         0.95      1.24 1.09\n",
      "PANIC             1.00      2.04 1.43\n",
      "MAJORDEPLIFE      2.66      4.90 3.61\n"
     ]
    }
   ],
   "source": [
    "\n",
    "# odd ratios with 95% confidence intervals\n",
    "print('Odds Ratios')\n",
    "params = lreg4_brw.params\n",
    "conf = lreg4_brw.conf_int()\n",
    "conf['OR'] = params\n",
    "conf.columns = ['Lower CI', 'Upper CI', 'OR']\n",
    "print(np.exp(conf))"
   ]
  },
  {
   "cell_type": "code",
   "execution_count": null,
   "metadata": {},
   "outputs": [],
   "source": []
  }
 ],
 "metadata": {
  "kernelspec": {
   "display_name": "Python 3",
   "language": "python",
   "name": "python3"
  },
  "language_info": {
   "codemirror_mode": {
    "name": "ipython",
    "version": 3
   },
   "file_extension": ".py",
   "mimetype": "text/x-python",
   "name": "python",
   "nbconvert_exporter": "python",
   "pygments_lexer": "ipython3",
   "version": "3.6.4"
  }
 },
 "nbformat": 4,
 "nbformat_minor": 2
}
