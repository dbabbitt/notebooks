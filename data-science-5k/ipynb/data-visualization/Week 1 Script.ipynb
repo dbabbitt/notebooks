{
 "cells": [
  {
   "cell_type": "code",
   "execution_count": 1,
   "metadata": {},
   "outputs": [
    {
     "data": {
      "text/plain": [
       "Index(['ETHRACE2A', 'ETOTLCA2', 'IDNUM', 'PSU', 'STRATUM', 'WEIGHT', 'CDAY',\n",
       "       'CMON', 'CYEAR', 'REGION',\n",
       "       ...\n",
       "       'SOL12ABDEP', 'SOLP12ABDEP', 'HAL12ABDEP', 'HALP12ABDEP', 'MAR12ABDEP',\n",
       "       'MARP12ABDEP', 'HER12ABDEP', 'HERP12ABDEP', 'OTHB12ABDEP',\n",
       "       'OTHBP12ABDEP'],\n",
       "      dtype='object', length=3008)"
      ]
     },
     "execution_count": 1,
     "metadata": {},
     "output_type": "execute_result"
    }
   ],
   "source": [
    "\n",
    "import numpy\n",
    "import pandas as pd\n",
    "import statsmodels.formula.api as smf\n",
    "import statsmodels.stats.multicomp as multi \n",
    "\n",
    "nesarc_pds_df = pd.read_csv('../../data/csv/nesarc_pds.csv', low_memory=False)\n",
    "nesarc_pds_df.columns"
   ]
  },
  {
   "cell_type": "code",
   "execution_count": 2,
   "metadata": {},
   "outputs": [],
   "source": [
    "\n",
    "# Set variables you will be working with to numeric\n",
    "working_column_list = ['S3AQ3B1', 'S3AQ3C1', 'CHECK321']\n",
    "for column in working_column_list:\n",
    "    nesarc_pds_df[column] = pd.to_numeric(nesarc_pds_df[column], errors='coerce')"
   ]
  },
  {
   "cell_type": "code",
   "execution_count": 3,
   "metadata": {},
   "outputs": [],
   "source": [
    "\n",
    "# Subset nesarc_pds_df to young adults age 18 to 25 who have smoked in the past 12 months\n",
    "match_series = (nesarc_pds_df['AGE']>=18) & (nesarc_pds_df['AGE']<=25) & (nesarc_pds_df['CHECK321']==1)\n",
    "sub1_df = nesarc_pds_df[match_series].copy()"
   ]
  },
  {
   "cell_type": "code",
   "execution_count": 4,
   "metadata": {},
   "outputs": [
    {
     "data": {
      "text/plain": [
       "array([ 1.,  2.,  4.,  3.,  5.,  6.,  9.])"
      ]
     },
     "execution_count": 4,
     "metadata": {},
     "output_type": "execute_result"
    },
    {
     "data": {
      "text/plain": [
       "array([  3.,  10.,  20.,   5.,   8.,   1.,   2.,  98.,  30.,   4.,  12.,\n",
       "        99.,   6.,  13.,   7.,  15.,  40.,  14.,  11.,  60.,  17.,  25.,\n",
       "        16.,  27.,  80.,   9.,  35.,  24.,  19.,  18.,  28.])"
      ]
     },
     "execution_count": 4,
     "metadata": {},
     "output_type": "execute_result"
    }
   ],
   "source": [
    "\n",
    "sub1_df['S3AQ3B1'].unique()\n",
    "sub1_df['S3AQ3C1'].unique()"
   ]
  },
  {
   "cell_type": "code",
   "execution_count": 5,
   "metadata": {},
   "outputs": [],
   "source": [
    "\n",
    "# SET MISSING nesarc_pds_df\n",
    "match_series = sub1_df['S3AQ3B1'].isnull()\n",
    "sub1_df.loc[sub1_df[match_series].index, 'S3AQ3B1'] = 9\n",
    "match_series = sub1_df['S3AQ3C1'].isnull()\n",
    "sub1_df.loc[sub1_df[match_series].index, 'S3AQ3C1'] = 99"
   ]
  },
  {
   "cell_type": "code",
   "execution_count": 6,
   "metadata": {},
   "outputs": [],
   "source": [
    "\n",
    "# Recode number of days smoked in the past month\n",
    "recode1 = {1: 30, 2: 22, 3: 14, 4: 5, 5: 2.5, 6: 1}\n",
    "sub1_df['USFREQMO'] = sub1_df['S3AQ3B1'].map(recode1)"
   ]
  },
  {
   "cell_type": "code",
   "execution_count": 7,
   "metadata": {},
   "outputs": [],
   "source": [
    "\n",
    "# Convert new variable USFREQMMO to numeric\n",
    "sub1_df['USFREQMO'] = pd.to_numeric(sub1_df['USFREQMO'], errors='coerce')"
   ]
  },
  {
   "cell_type": "code",
   "execution_count": 8,
   "metadata": {},
   "outputs": [],
   "source": [
    "\n",
    "# Create a secondary variable multiplying the days smoked/month and the number of cig/per day\n",
    "sub1_df['NUMCIGMO_EST'] = sub1_df['USFREQMO'] * sub1_df['S3AQ3C1']"
   ]
  },
  {
   "cell_type": "code",
   "execution_count": 9,
   "metadata": {},
   "outputs": [],
   "source": [
    "\n",
    "sub1_df['NUMCIGMO_EST'] = pd.to_numeric(sub1_df['NUMCIGMO_EST'], errors='coerce')"
   ]
  },
  {
   "cell_type": "code",
   "execution_count": 10,
   "metadata": {},
   "outputs": [
    {
     "name": "stdout",
     "output_type": "stream",
     "text": [
      "NUMCIGMO_EST\n",
      "1.0        29\n",
      "2.0        14\n",
      "2.5        11\n",
      "3.0        12\n",
      "4.0         2\n",
      "5.0        34\n",
      "6.0         1\n",
      "7.5        12\n",
      "8.0         1\n",
      "10.0       38\n",
      "12.5        9\n",
      "14.0        3\n",
      "15.0       14\n",
      "17.5        1\n",
      "20.0       13\n",
      "22.0        4\n",
      "24.0        1\n",
      "25.0       14\n",
      "28.0       17\n",
      "30.0       25\n",
      "35.0        2\n",
      "42.0       19\n",
      "44.0        9\n",
      "50.0        7\n",
      "56.0       15\n",
      "60.0       28\n",
      "66.0       14\n",
      "70.0       22\n",
      "84.0        3\n",
      "88.0        6\n",
      "         ... \n",
      "154.0       3\n",
      "176.0       3\n",
      "180.0      47\n",
      "210.0      39\n",
      "220.0      12\n",
      "240.0      36\n",
      "270.0       6\n",
      "280.0       1\n",
      "300.0     350\n",
      "330.0       4\n",
      "360.0      25\n",
      "390.0       7\n",
      "420.0       2\n",
      "450.0      97\n",
      "480.0       5\n",
      "510.0       2\n",
      "540.0       3\n",
      "570.0       1\n",
      "600.0     357\n",
      "750.0      13\n",
      "810.0       1\n",
      "840.0       1\n",
      "900.0      38\n",
      "1050.0      1\n",
      "1200.0     29\n",
      "1800.0      2\n",
      "2178.0      1\n",
      "2400.0      1\n",
      "2940.0      1\n",
      "2970.0      5\n",
      "Length: 68, dtype: int64\n"
     ]
    }
   ],
   "source": [
    "\n",
    "ct1_group = sub1_df.groupby('NUMCIGMO_EST').size()\n",
    "print(ct1_group)"
   ]
  },
  {
   "cell_type": "raw",
   "metadata": {},
   "source": [
    "\n",
    "------------------------------------------------------------------------------------------------------------------------------------\n",
    "3549-3549       MAJORDEPLIFE\n",
    "MAJOR DEPRESSION - LIFETIME (NON-HIERARCHICAL)\n",
    "----------------------------------------------\n",
    "35254                                   0. No\n",
    "7839                                    1.  Yes"
   ]
  },
  {
   "cell_type": "code",
   "execution_count": 11,
   "metadata": {},
   "outputs": [
    {
     "name": "stdout",
     "output_type": "stream",
     "text": [
      "                            OLS Regression Results                            \n",
      "==============================================================================\n",
      "Dep. Variable:           NUMCIGMO_EST   R-squared:                       0.002\n",
      "Model:                            OLS   Adj. R-squared:                  0.002\n",
      "Method:                 Least Squares   F-statistic:                     3.567\n",
      "Date:                Wed, 29 Nov 2017   Prob (F-statistic):             0.0591\n",
      "Time:                        11:41:45   Log-Likelihood:                -12197.\n",
      "No. Observations:                1703   AIC:                         2.440e+04\n",
      "Df Residuals:                    1701   BIC:                         2.441e+04\n",
      "Df Model:                           1                                         \n",
      "Covariance Type:            nonrobust                                         \n",
      "========================================================================================\n",
      "                           coef    std err          t      P>|t|      [0.025      0.975]\n",
      "----------------------------------------------------------------------------------------\n",
      "Intercept              320.6635      8.806     36.414      0.000     303.392     337.935\n",
      "C(MAJORDEPLIFE)[T.1]    32.4991     17.208      1.889      0.059      -1.252      66.250\n",
      "==============================================================================\n",
      "Omnibus:                     1189.522   Durbin-Watson:                   2.019\n",
      "Prob(Omnibus):                  0.000   Jarque-Bera (JB):            27973.619\n",
      "Skew:                           2.957   Prob(JB):                         0.00\n",
      "Kurtosis:                      21.954   Cond. No.                         2.46\n",
      "==============================================================================\n",
      "\n",
      "Warnings:\n",
      "[1] Standard Errors assume that the covariance matrix of the errors is correctly specified.\n"
     ]
    }
   ],
   "source": [
    "\n",
    "# Use ols function for calculating the F-statistic and associated p value\n",
    "model1_ols = smf.ols(formula='NUMCIGMO_EST ~ C(MAJORDEPLIFE)', data=sub1_df)\n",
    "results1_fitted = model1_ols.fit()\n",
    "print(results1_fitted.summary())"
   ]
  },
  {
   "cell_type": "code",
   "execution_count": 12,
   "metadata": {},
   "outputs": [],
   "source": [
    "\n",
    "column_list = ['NUMCIGMO_EST', 'MAJORDEPLIFE']\n",
    "sub2_df = sub1_df[column_list].dropna().copy()"
   ]
  },
  {
   "cell_type": "code",
   "execution_count": 13,
   "metadata": {},
   "outputs": [
    {
     "name": "stdout",
     "output_type": "stream",
     "text": [
      "means for numcigmo_est by major depression status\n",
      "              NUMCIGMO_EST\n",
      "MAJORDEPLIFE              \n",
      "0               320.663484\n",
      "1               353.162556\n"
     ]
    }
   ],
   "source": [
    "\n",
    "print('means for numcigmo_est by major depression status')\n",
    "m1_df = sub2_df.groupby('MAJORDEPLIFE').mean()\n",
    "print(m1_df)"
   ]
  },
  {
   "cell_type": "code",
   "execution_count": 14,
   "metadata": {},
   "outputs": [
    {
     "name": "stdout",
     "output_type": "stream",
     "text": [
      "standard deviations for numcigmo_est by major depression status\n",
      "              NUMCIGMO_EST\n",
      "MAJORDEPLIFE              \n",
      "0               302.827616\n",
      "1               337.299279\n"
     ]
    }
   ],
   "source": [
    "\n",
    "print('standard deviations for numcigmo_est by major depression status')\n",
    "sd1_df = sub2_df.groupby('MAJORDEPLIFE').std()\n",
    "print(sd1_df)\n",
    "\n",
    "# I will call it sub3\n",
    "sub3_df = sub1_df[['NUMCIGMO_EST', 'ETHRACE2A']].dropna()"
   ]
  },
  {
   "cell_type": "code",
   "execution_count": 15,
   "metadata": {},
   "outputs": [
    {
     "name": "stdout",
     "output_type": "stream",
     "text": [
      "                            OLS Regression Results                            \n",
      "==============================================================================\n",
      "Dep. Variable:           NUMCIGMO_EST   R-squared:                       0.041\n",
      "Model:                            OLS   Adj. R-squared:                  0.039\n",
      "Method:                 Least Squares   F-statistic:                     18.29\n",
      "Date:                Wed, 29 Nov 2017   Prob (F-statistic):           1.00e-14\n",
      "Time:                        11:42:16   Log-Likelihood:                -12163.\n",
      "No. Observations:                1703   AIC:                         2.434e+04\n",
      "Df Residuals:                    1698   BIC:                         2.436e+04\n",
      "Df Model:                           4                                         \n",
      "Covariance Type:            nonrobust                                         \n",
      "=====================================================================================\n",
      "                        coef    std err          t      P>|t|      [0.025      0.975]\n",
      "-------------------------------------------------------------------------------------\n",
      "Intercept           377.8724      9.416     40.129      0.000     359.403     396.341\n",
      "C(ETHRACE2A)[T.2]  -118.5986     23.139     -5.126      0.000    -163.982     -73.216\n",
      "C(ETHRACE2A)[T.3]   -66.8843     48.190     -1.388      0.165    -161.402      27.634\n",
      "C(ETHRACE2A)[T.4]  -133.6138     41.305     -3.235      0.001    -214.628     -52.600\n",
      "C(ETHRACE2A)[T.5]  -141.6948     19.202     -7.379      0.000    -179.356    -104.033\n",
      "==============================================================================\n",
      "Omnibus:                     1245.025   Durbin-Watson:                   2.020\n",
      "Prob(Omnibus):                  0.000   Jarque-Bera (JB):            34409.936\n",
      "Skew:                           3.103   Prob(JB):                         0.00\n",
      "Kurtosis:                      24.128   Cond. No.                         6.73\n",
      "==============================================================================\n",
      "\n",
      "Warnings:\n",
      "[1] Standard Errors assume that the covariance matrix of the errors is correctly specified.\n"
     ]
    }
   ],
   "source": [
    "\n",
    "model2_fitted = smf.ols(formula='NUMCIGMO_EST ~ C(ETHRACE2A)', data=sub3_df).fit()\n",
    "print(model2_fitted.summary())"
   ]
  },
  {
   "cell_type": "code",
   "execution_count": 16,
   "metadata": {},
   "outputs": [
    {
     "name": "stdout",
     "output_type": "stream",
     "text": [
      "means for numcigmo_est by ethnic group\n",
      "           NUMCIGMO_EST\n",
      "ETHRACE2A              \n",
      "1            377.872401\n",
      "2            259.273810\n",
      "3            310.988095\n",
      "4            244.258621\n",
      "5            236.177612\n"
     ]
    }
   ],
   "source": [
    "\n",
    "print('means for numcigmo_est by ethnic group')\n",
    "m2_df = sub3_df.groupby('ETHRACE2A').mean()\n",
    "print(m2_df)"
   ]
  },
  {
   "cell_type": "code",
   "execution_count": 17,
   "metadata": {},
   "outputs": [
    {
     "name": "stdout",
     "output_type": "stream",
     "text": [
      "standard deviations for numcigmo_est by ethnic group\n",
      "           NUMCIGMO_EST\n",
      "ETHRACE2A              \n",
      "1            317.996738\n",
      "2            278.677392\n",
      "3            260.116964\n",
      "4            195.076441\n",
      "5            305.792022\n"
     ]
    }
   ],
   "source": [
    "\n",
    "print('standard deviations for numcigmo_est by ethnic group')\n",
    "sd2_df = sub3_df.groupby('ETHRACE2A').std()\n",
    "print(sd2_df)"
   ]
  },
  {
   "cell_type": "raw",
   "metadata": {},
   "source": [
    "3673-3674\n",
    "ETHRACE2A\n",
    "         IMPUTED RACE/ETHNICITY\n",
    "         ----------------------\n",
    "24507     1.  White, Not Hispanic or Latino\n",
    " 8245     2.  Black, Not Hispanic or Latino\n",
    "  701     3.  American Indian/Alaska Native, Not Hispanic or Latino\n",
    " 1332     4.  Asian/Native Hawaiian/Pacific Islander, Not Hispanic or Latino\n",
    " 8308     5.  Hispanic or Latino"
   ]
  },
  {
   "cell_type": "code",
   "execution_count": 18,
   "metadata": {},
   "outputs": [
    {
     "name": "stdout",
     "output_type": "stream",
     "text": [
      "Multiple Comparison of Means - Tukey HSD,FWER=0.05\n",
      "=================================================\n",
      "group1 group2  meandiff   lower    upper   reject\n",
      "-------------------------------------------------\n",
      "  1      2    -118.5986 -181.7829 -55.4143  True \n",
      "  1      3     -66.8843 -198.4768 64.7082  False \n",
      "  1      4    -133.6138 -246.4056 -20.822   True \n",
      "  1      5    -141.6948 -194.1287 -89.2608  True \n",
      "  2      3     51.7143   -89.6593 193.0879 False \n",
      "  2      4     -15.0152 -139.0793 109.0489 False \n",
      "  2      5     -23.0962  -96.7116 50.5192  False \n",
      "  3      4     -66.7295 -236.1881 102.7291 False \n",
      "  3      5     -74.8105 -211.7176 62.0966  False \n",
      "  4      5      -8.081  -127.0304 110.8684 False \n",
      "-------------------------------------------------\n"
     ]
    }
   ],
   "source": [
    "\n",
    "mc1 = multi.MultiComparison(sub3_df['NUMCIGMO_EST'], sub3_df['ETHRACE2A'])\n",
    "res1 = mc1.tukeyhsd()\n",
    "print(res1.summary())"
   ]
  },
  {
   "cell_type": "code",
   "execution_count": null,
   "metadata": {
    "collapsed": true
   },
   "outputs": [],
   "source": []
  }
 ],
 "metadata": {
  "kernelspec": {
   "display_name": "Python 3",
   "language": "python",
   "name": "python3"
  },
  "language_info": {
   "codemirror_mode": {
    "name": "ipython",
    "version": 3
   },
   "file_extension": ".py",
   "mimetype": "text/x-python",
   "name": "python",
   "nbconvert_exporter": "python",
   "pygments_lexer": "ipython3",
   "version": "3.5.4"
  }
 },
 "nbformat": 4,
 "nbformat_minor": 2
}
