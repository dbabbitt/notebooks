{
 "cells": [
  {
   "cell_type": "markdown",
   "metadata": {},
   "source": [
    "\n",
    "# Make images for animated gif"
   ]
  },
  {
   "cell_type": "code",
   "execution_count": 1,
   "metadata": {
    "collapsed": false
   },
   "outputs": [
    {
     "name": "stdout",
     "output_type": "stream",
     "text": [
      "<module 'platform' from 'C:\\\\Users\\\\Dave\\\\Anaconda3\\\\lib\\\\platform.py'>\n"
     ]
    }
   ],
   "source": [
    "\n",
    "# This whole thing takes about 300 seconds\n",
    "from bokeh.models import Plot\n",
    "from bokeh.models import LogScale\n",
    "\n",
    "from bokeh.models import LinearAxis\n",
    "from bokeh.models import SingleIntervalTicker\n",
    "from bokeh.models import LogAxis\n",
    "from bokeh.models import LogTicker\n",
    "from bokeh.models import Range1d\n",
    "\n",
    "from bokeh.models import Text\n",
    "from bokeh.models import ColumnDataSource\n",
    "\n",
    "from bokeh.models import Circle\n",
    "from bokeh.palettes import Spectral6\n",
    "\n",
    "from bokeh.io import export_png\n",
    "\n",
    "import os\n",
    "import imageio\n",
    "import pandas as pd\n",
    "import time\n",
    "import math\n",
    "import numpy as np\n",
    "\n",
    "encoding = ['latin1', 'iso8859-1', 'utf-8'][1]"
   ]
  },
  {
   "cell_type": "code",
   "execution_count": 2,
   "metadata": {
    "collapsed": true
   },
   "outputs": [],
   "source": [
    "\n",
    "# Set up fertility data\n",
    "fertility_df = pd.read_csv('./data/csv/fertility_df.csv', encoding=encoding)\n",
    "fertility_df.set_index(keys='Country', inplace=True)\n",
    "c = fertility_df.columns\n",
    "missing_years = [i for i in [str(i) for i in range(int(c[0]), int(c[-1]))] if i not in c]\n",
    "if len(missing_years):\n",
    "    for year in missing_years:\n",
    "        fertility_df.loc[:, year] = pd.Series(None, index=fertility_df.index)\n",
    "    fertility_df = fertility_df.T.sort_index(inplace=False).interpolate().T\n",
    "    fertility_df.to_csv('./data/csv/fertility_df.csv', index=True)"
   ]
  },
  {
   "cell_type": "code",
   "execution_count": 3,
   "metadata": {
    "collapsed": true
   },
   "outputs": [],
   "source": [
    "\n",
    "# Set up income data\n",
    "income_df = pd.read_csv('./data/csv/income_df.csv', encoding=encoding)\n",
    "income_df.set_index(keys='Country', inplace=True)\n",
    "c = income_df.columns\n",
    "missing_years = [i for i in [str(i) for i in range(int(c[0]), int(c[-1]))] if i not in c]\n",
    "if len(missing_years):\n",
    "    for year in missing_years:\n",
    "        income_df.loc[:, year] = pd.Series(None, index=income_df.index)\n",
    "    income_df = income_df.T.sort_index(inplace=False).interpolate().T\n",
    "    income_df.to_csv('./data/csv/income_df.csv', index=True)"
   ]
  },
  {
   "cell_type": "code",
   "execution_count": 4,
   "metadata": {
    "collapsed": false
   },
   "outputs": [],
   "source": [
    "\n",
    "# Set up population data\n",
    "population_df = pd.read_csv('./data/csv/population_df.csv', encoding=encoding)\n",
    "population_df.set_index(keys='Country', inplace=True)\n",
    "c = population_df.columns\n",
    "missing_years = [i for i in [str(i) for i in range(int(c[0]), int(c[-1]))] if i not in c]\n",
    "if len(missing_years):\n",
    "    for year in missing_years:\n",
    "        population_df.loc[:, year] = pd.Series(None, index=population_df.index)\n",
    "    population_df = population_df.T.sort_index(inplace=False).interpolate().T\n",
    "    population_df.to_csv('./data/csv/population_df.csv', index=True)\n",
    "\n",
    "# Turn population into bubble sizes. Use min_size and factor to tweak\n",
    "scale_factor = 400\n",
    "population_size_df = np.sqrt(population_df / np.pi) / scale_factor\n",
    "min_size = 3\n",
    "population_size_df = population_size_df.where(population_size_df >= min_size).fillna(min_size)"
   ]
  },
  {
   "cell_type": "code",
   "execution_count": 5,
   "metadata": {
    "collapsed": true
   },
   "outputs": [],
   "source": [
    "\n",
    "# Set up regions data\n",
    "regions_df = pd.read_csv('./data/csv/regions_df.csv', encoding=encoding)\n",
    "regions_df['Group'] = regions_df['Group'].astype('category')\n",
    "regions_list = list(regions_df['Group'].cat.categories)\n",
    "regions_df.set_index(keys='Country', inplace=True)\n",
    "\n",
    "def get_color(r):\n",
    "    return Spectral6[regions_list.index(r['Group'])]\n",
    "\n",
    "regions_df['region_color'] = regions_df.apply(get_color, axis=1)\n",
    "\n",
    "region_color_series = regions_df['region_color']\n",
    "region_color_series.name = 'region_color'\n",
    "\n",
    "columns_list = list(fertility_df.columns)"
   ]
  },
  {
   "cell_type": "code",
   "execution_count": 6,
   "metadata": {
    "collapsed": true
   },
   "outputs": [],
   "source": [
    "\n",
    "# Set up plot formats\n",
    "PLOT_FORMATS = dict(\n",
    "    plot_width=800,\n",
    "    plot_height=400,\n",
    "    outline_line_color=None,\n",
    "    toolbar_location=None, \n",
    "    min_border=20,\n",
    ")\n",
    "\n",
    "# Set up axis of plots\n",
    "AXIS_FORMATS = dict(\n",
    "    minor_tick_in=None,\n",
    "    minor_tick_out=None,\n",
    "    major_tick_in=None,\n",
    "    major_label_text_font_size=\"10pt\",\n",
    "    major_label_text_font_style=\"normal\",\n",
    "    axis_label_text_font_size=\"10pt\",\n",
    "\n",
    "    axis_line_color='#AAAAAA',\n",
    "    major_tick_line_color='#AAAAAA',\n",
    "    major_label_text_color='#666666',\n",
    "\n",
    "    major_tick_line_cap=\"round\",\n",
    "    axis_line_cap=\"round\",\n",
    "    axis_line_width=1,\n",
    "    major_tick_line_width=1,\n",
    ")\n",
    "\n",
    "# Children per woman (total fertility)\n",
    "x_low = int(math.floor(fertility_df.min().min()))\n",
    "x_high = int(math.ceil(fertility_df.max().max()))\n",
    "x_data_range = Range1d(x_low-0.5*x_low, x_high+0.1*x_high)\n",
    "x_interval = int(math.ceil((x_high - x_low) / 9))\n",
    "\n",
    "# Personal income (GDP per capita)\n",
    "y_low = int(math.floor(income_df.min().min()))\n",
    "y_high = int(math.ceil(income_df.max().max()))\n",
    "y_data_range = Range1d(y_low-0.5*y_low, y_high+0.5*y_high)\n",
    "y_interval = int(math.ceil((y_high - y_low) / 5))"
   ]
  },
  {
   "cell_type": "code",
   "execution_count": 7,
   "metadata": {
    "collapsed": true
   },
   "outputs": [],
   "source": [
    "\n",
    "# Set up background text formats\n",
    "BACKGROUND_FORMATS = dict(\n",
    "    x=1,\n",
    "    y=150,\n",
    "    text='year',\n",
    "    text_font_size='150pt',\n",
    "    text_color='#EEEEEE',\n",
    ")\n",
    "\n",
    "# Set up circle formats\n",
    "CIRCLE_FORMATS = dict(\n",
    "    x='fertility',\n",
    "    y='income',\n",
    "    size='population',\n",
    "    fill_color='region_color',\n",
    "    fill_alpha=0.8,\n",
    "    line_color='#7c7e71',\n",
    "    line_width=0.5,\n",
    "    line_alpha=0.5,\n",
    ")\n",
    "\n",
    "# Set up legend text formats\n",
    "LEGEND_TEXT_FORMATS = dict(\n",
    "    text_font_size='10pt',\n",
    "    text_color='#666666',\n",
    ")\n",
    "\n",
    "# Set up legend CIRCLE formats\n",
    "LEGEND_CIRCLE_FORMATS = dict(\n",
    "    size=10,\n",
    "    line_color=None,\n",
    "    fill_alpha=0.8,\n",
    ")"
   ]
  },
  {
   "cell_type": "code",
   "execution_count": 8,
   "metadata": {
    "collapsed": false
   },
   "outputs": [
    {
     "name": "stdout",
     "output_type": "stream",
     "text": [
      "794.1304144859314 Sun Jul 23 19:08:41 2017\n"
     ]
    }
   ],
   "source": [
    "\n",
    "# Create and save images to the png folder\n",
    "t0 = time.time()\n",
    "png_dir = \"./saves/png/\"\n",
    "for year in columns_list:\n",
    "    if (year in fertility_df) and (year in income_df) and (year in population_size_df):\n",
    "        \n",
    "        # Concatonate the 3 year-series with the region color series\n",
    "        fertility_series = fertility_df[year]\n",
    "        fertility_series.name = 'fertility'\n",
    "        income_series = income_df[year]\n",
    "        income_series.name = 'income'\n",
    "        population_series = population_size_df[year]\n",
    "        population_series.name = 'population'\n",
    "        new_df = pd.concat([fertility_series, income_series, population_series, region_color_series], axis=1)\n",
    "\n",
    "        # Build the plot\n",
    "        plot = Plot(x_range=x_data_range, y_range=y_data_range, y_scale=LogScale(), **PLOT_FORMATS)\n",
    "\n",
    "        # Add the axes\n",
    "        xaxis = LinearAxis(ticker=SingleIntervalTicker(interval=x_interval), \n",
    "                           axis_label=\"Children per woman (total fertility)\", \n",
    "                           **AXIS_FORMATS)\n",
    "        plot.add_layout(xaxis, 'below')\n",
    "        #yaxis = LogAxis(ticker=LogTicker(), axis_label=\"Personal income (GDP per capita)\", **AXIS_FORMATS)\n",
    "        yaxis = LinearAxis(ticker=LogTicker(), axis_label=\"Personal income (GDP per capita)\", **AXIS_FORMATS)\n",
    "        plot.add_layout(yaxis, 'left')\n",
    "\n",
    "        # Add the background year text\n",
    "        text_source = ColumnDataSource({'year': ['%s' % year]})\n",
    "        text = Text(**BACKGROUND_FORMATS)\n",
    "        plot.add_glyph(text_source, text)\n",
    "\n",
    "        # Add the circles\n",
    "        renderer_source = ColumnDataSource(new_df)\n",
    "        circle_glyph = Circle(**CIRCLE_FORMATS)\n",
    "        circle_renderer = plot.add_glyph(renderer_source, circle_glyph)\n",
    "\n",
    "        # Add the legend\n",
    "        text_x = 7\n",
    "        for i, region in enumerate(regions_list):\n",
    "            plot.add_glyph(Text(x=text_x, y=int(10**(-0.15*i+5)), text=[region], **LEGEND_TEXT_FORMATS))\n",
    "            plot.add_glyph(Circle(x=text_x - 0.1, y=int(10**(-0.15*i+5.08)), fill_color=Spectral6[i], **LEGEND_CIRCLE_FORMATS))\n",
    "\n",
    "        # Save as PNG\n",
    "        export_png(plot, filename=png_dir+\"plot_%s.png\" % year)\n",
    "\n",
    "t1 = time.time()\n",
    "print(t1-t0, time.ctime(t1))"
   ]
  },
  {
   "cell_type": "code",
   "execution_count": 9,
   "metadata": {
    "collapsed": false
   },
   "outputs": [
    {
     "name": "stdout",
     "output_type": "stream",
     "text": [
      "8.481318950653076 Sun Jul 23 19:08:50 2017\n"
     ]
    }
   ],
   "source": [
    "\n",
    "# Concatonate images into movie\n",
    "t0 = time.time()\n",
    "images = []\n",
    "for subdir, dirs, files in os.walk(png_dir):\n",
    "    for file in files:\n",
    "        filepath = os.path.join(subdir, file)\n",
    "        if filepath.endswith(\".png\"):\n",
    "            images.append(imageio.imread(filepath))\n",
    "imageio.mimsave('./saves/gif/income_vs_fertility_movie.gif', images)\n",
    "t1 = time.time()\n",
    "print(t1-t0, time.ctime(t1))"
   ]
  },
  {
   "cell_type": "code",
   "execution_count": null,
   "metadata": {
    "collapsed": true
   },
   "outputs": [],
   "source": []
  }
 ],
 "metadata": {
  "kernelspec": {
   "display_name": "Python [default]",
   "language": "python",
   "name": "python3"
  },
  "language_info": {
   "codemirror_mode": {
    "name": "ipython",
    "version": 3
   },
   "file_extension": ".py",
   "mimetype": "text/x-python",
   "name": "python",
   "nbconvert_exporter": "python",
   "pygments_lexer": "ipython3",
   "version": "3.5.2"
  }
 },
 "nbformat": 4,
 "nbformat_minor": 2
}
