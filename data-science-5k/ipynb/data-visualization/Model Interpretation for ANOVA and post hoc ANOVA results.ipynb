{
 "cells": [
  {
   "cell_type": "code",
   "execution_count": 23,
   "metadata": {},
   "outputs": [
    {
     "data": {
      "text/html": [
       "<h3>Model Interpretation for ANOVA:</h3>\n",
       "\n",
       "<p>When examining the association between current number of cigarettes smoked (quantitative response) and past year nicotine dependence \n",
       "(categorical explanatory), an Analysis of Variance (ANOVA) revealed that among daily, young adult smokers (my sample), those with nicotine \n",
       "dependence reported smoking significantly more cigarettes per day (Mean=14.6, s.d. ±9.15) compared to those without nicotine dependence \n",
       "(Mean=11.4, s.d. ±7.43), F(1, 1313)=44.68, p&lt;0001.</p>\n",
       "\n",
       "<p>Note that the degrees of freedom (that I report in parentheses) following ‘F’ can be found in the OLS table as the DF model and DF \n",
       "residuals. In this example 44.68 is the actual F value from the OLS table and we commonly report a very small p value as simply &lt;.0001.</p>\n",
       "\n",
       "<h3>Model Interpretation for post hoc ANOVA results:</h3>\n",
       "\n",
       "<p>ANOVA revealed that among daily, young adult smokers (my sample), number of cigarettes smoked per day (collapsed into 5 ordered categories, \n",
       "which is the categorical explanatory variable) and number of nicotine dependence symptoms (quantitative response variable) were significantly \n",
       "associated, F (4, 1308)=11.79, p=0001. Post hoc comparisons of mean number of nicotine dependence symptoms by pairs of cigarettes per day \n",
       "categories revealed that those individuals smoking more than 10 cigarettes per day (i.e. 11 to 15, 16 to 20 and &gt;20) reported significantly \n",
       "more nicotine dependence symptoms compared to those smoking 10 or fewer cigarettes per day (i.e. 1 to 5 and 6 to 10). All other comparisons \n",
       "were statistically similar.</p>"
      ],
      "text/plain": [
       "<IPython.core.display.HTML object>"
      ]
     },
     "execution_count": 23,
     "metadata": {},
     "output_type": "execute_result"
    }
   ],
   "source": [
    "from IPython.display import HTML\n",
    "\n",
    "HTML('''<h3>Model Interpretation for ANOVA:</h3>\n",
    "\n",
    "<p>When examining the association between current number of cigarettes smoked (quantitative response) and past year nicotine dependence \n",
    "(categorical explanatory), an Analysis of Variance (ANOVA) revealed that among daily, young adult smokers (my sample), those with nicotine \n",
    "dependence reported smoking significantly more cigarettes per day (Mean=14.6, s.d. ±9.15) compared to those without nicotine dependence \n",
    "(Mean=11.4, s.d. ±7.43), F(1, 1313)=44.68, p&lt;0001.</p>\n",
    "\n",
    "<p>Note that the degrees of freedom (that I report in parentheses) following ‘F’ can be found in the OLS table as the DF model and DF \n",
    "residuals. In this example 44.68 is the actual F value from the OLS table and we commonly report a very small p value as simply &lt;.0001.</p>\n",
    "\n",
    "<h3>Model Interpretation for post hoc ANOVA results:</h3>\n",
    "\n",
    "<p>ANOVA revealed that among daily, young adult smokers (my sample), number of cigarettes smoked per day (collapsed into 5 ordered categories, \n",
    "which is the categorical explanatory variable) and number of nicotine dependence symptoms (quantitative response variable) were significantly \n",
    "associated, F (4, 1308)=11.79, p=0001. Post hoc comparisons of mean number of nicotine dependence symptoms by pairs of cigarettes per day \n",
    "categories revealed that those individuals smoking more than 10 cigarettes per day (i.e. 11 to 15, 16 to 20 and &gt;20) reported significantly \n",
    "more nicotine dependence symptoms compared to those smoking 10 or fewer cigarettes per day (i.e. 1 to 5 and 6 to 10). All other comparisons \n",
    "were statistically similar.</p>''')"
   ]
  },
  {
   "cell_type": "code",
   "execution_count": 24,
   "metadata": {},
   "outputs": [
    {
     "data": {
      "text/plain": [
       "Index(['ETHRACE2A', 'ETOTLCA2', 'IDNUM', 'PSU', 'STRATUM', 'WEIGHT', 'CDAY',\n",
       "       'CMON', 'CYEAR', 'REGION',\n",
       "       ...\n",
       "       'SOL12ABDEP', 'SOLP12ABDEP', 'HAL12ABDEP', 'HALP12ABDEP', 'MAR12ABDEP',\n",
       "       'MARP12ABDEP', 'HER12ABDEP', 'HERP12ABDEP', 'OTHB12ABDEP',\n",
       "       'OTHBP12ABDEP'],\n",
       "      dtype='object', length=3008)"
      ]
     },
     "execution_count": 24,
     "metadata": {},
     "output_type": "execute_result"
    }
   ],
   "source": [
    "\n",
    "import numpy\n",
    "import pandas as pd\n",
    "import statsmodels.formula.api as smf\n",
    "import statsmodels.stats.multicomp as multi \n",
    "\n",
    "nesarc_pds_df = pd.read_csv('../../data/csv/nesarc_pds.csv', low_memory=False)\n",
    "nesarc_pds_df.columns"
   ]
  },
  {
   "cell_type": "raw",
   "metadata": {},
   "source": [
    "723-724         S3AQ3C1               USUAL QUANTITY WHEN SMOKED CIGARETTES\n",
    "                                       -------------------------------------\n",
    "                              17751    1-98.  Cigarette(s)\n",
    "                                262      99.  Unknown\n",
    "                              25080      BL.  NA, never or unknown if ever smoked 100+ cigarettes"
   ]
  },
  {
   "cell_type": "code",
   "execution_count": 25,
   "metadata": {},
   "outputs": [],
   "source": [
    "\n",
    "# Set variables you will be working with to numeric\n",
    "working_column_list = ['AGE', 'S3AQ3B1', 'S3AQ3C1', 'CHECK321']\n",
    "for column in working_column_list:\n",
    "    nesarc_pds_df[column] = pd.to_numeric(nesarc_pds_df[column], errors='coerce')"
   ]
  },
  {
   "cell_type": "code",
   "execution_count": 26,
   "metadata": {},
   "outputs": [],
   "source": [
    "\n",
    "# Subset nesarc_pds_df to young adults age 18 to 25 who have smoked in the past 12 months\n",
    "mask_series = (nesarc_pds_df['AGE']>=18) & (nesarc_pds_df['AGE']<=25) & (nesarc_pds_df['CHECK321']==1)\n",
    "sub1_df = nesarc_pds_df[mask_series].copy()"
   ]
  },
  {
   "cell_type": "code",
   "execution_count": 27,
   "metadata": {},
   "outputs": [
    {
     "data": {
      "text/plain": [
       "array([ 1.,  2.,  4.,  3.,  5.,  6.,  9.])"
      ]
     },
     "execution_count": 27,
     "metadata": {},
     "output_type": "execute_result"
    },
    {
     "data": {
      "text/plain": [
       "array([  3.,  10.,  20.,   5.,   8.,   1.,   2.,  98.,  30.,   4.,  12.,\n",
       "        99.,   6.,  13.,   7.,  15.,  40.,  14.,  11.,  60.,  17.,  25.,\n",
       "        16.,  27.,  80.,   9.,  35.,  24.,  19.,  18.,  28.])"
      ]
     },
     "execution_count": 27,
     "metadata": {},
     "output_type": "execute_result"
    }
   ],
   "source": [
    "\n",
    "sub1_df['S3AQ3B1'].unique()\n",
    "sub1_df['S3AQ3C1'].unique()"
   ]
  },
  {
   "cell_type": "code",
   "execution_count": 28,
   "metadata": {},
   "outputs": [],
   "source": [
    "\n",
    "# SET MISSING nesarc_pds_df\n",
    "mask_series = sub1_df['S3AQ3B1'].isnull()\n",
    "sub1_df.loc[sub1_df[mask_series].index, 'S3AQ3B1'] = 9\n",
    "mask_series = sub1_df['S3AQ3C1'].isnull()\n",
    "sub1_df.loc[sub1_df[mask_series].index, 'S3AQ3C1'] = 99"
   ]
  },
  {
   "cell_type": "code",
   "execution_count": 29,
   "metadata": {},
   "outputs": [],
   "source": [
    "\n",
    "# Recode number of days smoked in the past month\n",
    "recode1 = {1: 30, 2: 22, 3: 14, 4: 5, 5: 2.5, 6: 1}\n",
    "sub1_df['USFREQMO'] = sub1_df['S3AQ3B1'].map(recode1)"
   ]
  },
  {
   "cell_type": "code",
   "execution_count": 30,
   "metadata": {},
   "outputs": [],
   "source": [
    "\n",
    "# Convert new variable USFREQMMO to numeric\n",
    "sub1_df['USFREQMO'] = pd.to_numeric(sub1_df['USFREQMO'], errors='coerce')"
   ]
  },
  {
   "cell_type": "code",
   "execution_count": 31,
   "metadata": {},
   "outputs": [],
   "source": [
    "\n",
    "# Create a secondary variable multiplying the days smoked/month and the number of cig/per day\n",
    "sub1_df['NUMCIGMO_EST'] = sub1_df['USFREQMO'] * sub1_df['S3AQ3C1']"
   ]
  },
  {
   "cell_type": "code",
   "execution_count": 32,
   "metadata": {},
   "outputs": [],
   "source": [
    "\n",
    "sub1_df['NUMCIGMO_EST'] = pd.to_numeric(sub1_df['NUMCIGMO_EST'], errors='coerce')"
   ]
  },
  {
   "cell_type": "code",
   "execution_count": 33,
   "metadata": {
    "scrolled": true
   },
   "outputs": [],
   "source": [
    "\n",
    "ct1_group = sub1_df.groupby('NUMCIGMO_EST').size()\n",
    "#print(ct1_group)"
   ]
  },
  {
   "cell_type": "raw",
   "metadata": {},
   "source": [
    "\n",
    "------------------------------------------------------------------------------------------------------------------------------------\n",
    "3549-3549       MAJORDEPLIFE\n",
    "MAJOR DEPRESSION - LIFETIME (NON-HIERARCHICAL)\n",
    "----------------------------------------------\n",
    "35254                                   0. No\n",
    "7839                                    1.  Yes"
   ]
  },
  {
   "cell_type": "code",
   "execution_count": 34,
   "metadata": {},
   "outputs": [
    {
     "name": "stdout",
     "output_type": "stream",
     "text": [
      "                            OLS Regression Results                            \n",
      "==============================================================================\n",
      "Dep. Variable:           NUMCIGMO_EST   R-squared:                       0.002\n",
      "Model:                            OLS   Adj. R-squared:                  0.002\n",
      "Method:                 Least Squares   F-statistic:                     3.567\n",
      "Date:                Wed, 29 Nov 2017   Prob (F-statistic):             0.0591\n",
      "Time:                        13:01:26   Log-Likelihood:                -12197.\n",
      "No. Observations:                1703   AIC:                         2.440e+04\n",
      "Df Residuals:                    1701   BIC:                         2.441e+04\n",
      "Df Model:                           1                                         \n",
      "Covariance Type:            nonrobust                                         \n",
      "========================================================================================\n",
      "                           coef    std err          t      P>|t|      [0.025      0.975]\n",
      "----------------------------------------------------------------------------------------\n",
      "Intercept              320.6635      8.806     36.414      0.000     303.392     337.935\n",
      "C(MAJORDEPLIFE)[T.1]    32.4991     17.208      1.889      0.059      -1.252      66.250\n",
      "==============================================================================\n",
      "Omnibus:                     1189.522   Durbin-Watson:                   2.019\n",
      "Prob(Omnibus):                  0.000   Jarque-Bera (JB):            27973.619\n",
      "Skew:                           2.957   Prob(JB):                         0.00\n",
      "Kurtosis:                      21.954   Cond. No.                         2.46\n",
      "==============================================================================\n",
      "\n",
      "Warnings:\n",
      "[1] Standard Errors assume that the covariance matrix of the errors is correctly specified.\n"
     ]
    }
   ],
   "source": [
    "\n",
    "# Use ols function for calculating the F-statistic and associated p value\n",
    "model1_ols = smf.ols(formula='NUMCIGMO_EST ~ C(MAJORDEPLIFE)', data=sub1_df)\n",
    "results1_fitted = model1_ols.fit()\n",
    "print(results1_fitted.summary())"
   ]
  },
  {
   "cell_type": "code",
   "execution_count": 36,
   "metadata": {},
   "outputs": [],
   "source": [
    "\n",
    "column_list = ['NUMCIGMO_EST', 'MAJORDEPLIFE']\n",
    "sub2_df = sub1_df[column_list].dropna().copy()"
   ]
  },
  {
   "cell_type": "code",
   "execution_count": 37,
   "metadata": {},
   "outputs": [
    {
     "name": "stdout",
     "output_type": "stream",
     "text": [
      "means for numcigmo_est by major depression status\n",
      "              NUMCIGMO_EST\n",
      "MAJORDEPLIFE              \n",
      "0               320.663484\n",
      "1               353.162556\n"
     ]
    }
   ],
   "source": [
    "\n",
    "print('means for numcigmo_est by major depression status')\n",
    "m1_df = sub2_df.groupby('MAJORDEPLIFE').mean()\n",
    "print(m1_df)"
   ]
  },
  {
   "cell_type": "code",
   "execution_count": 38,
   "metadata": {},
   "outputs": [
    {
     "name": "stdout",
     "output_type": "stream",
     "text": [
      "standard deviations for numcigmo_est by major depression status\n",
      "              NUMCIGMO_EST\n",
      "MAJORDEPLIFE              \n",
      "0               302.827616\n",
      "1               337.299279\n"
     ]
    }
   ],
   "source": [
    "\n",
    "print('standard deviations for numcigmo_est by major depression status')\n",
    "sd1_df = sub2_df.groupby('MAJORDEPLIFE').std()\n",
    "print(sd1_df)\n",
    "\n",
    "# I will call it sub3\n",
    "sub3_df = sub1_df[['NUMCIGMO_EST', 'ETHRACE2A']].dropna()"
   ]
  },
  {
   "cell_type": "code",
   "execution_count": 45,
   "metadata": {},
   "outputs": [
    {
     "data": {
      "text/html": [
       "<h3>Model Interpretation for ANOVA:</h3>\n",
       "\n",
       "<p>When examining the association between estimated number of cigarettes smoked per month (quantitative response) and major lifetime \n",
       "depression (categorical explanatory), an Analysis of Variance (ANOVA) revealed that those with major lifetime depression reported smoking \n",
       "insignificantly more cigarettes per day (Mean=353.2, s.d. ±337.3) compared to those without major lifetime depression (Mean=320.7, s.d. ±302.8), F(1, 1701)=3.57, p=0.059.</p>"
      ],
      "text/plain": [
       "<IPython.core.display.HTML object>"
      ]
     },
     "execution_count": 45,
     "metadata": {},
     "output_type": "execute_result"
    }
   ],
   "source": [
    "from IPython.display import HTML\n",
    "\n",
    "HTML('''<h3>Model Interpretation for ANOVA:</h3>\n",
    "\n",
    "<p>When examining the association between estimated number of cigarettes smoked per month (quantitative response) and major lifetime \n",
    "depression (categorical explanatory), an Analysis of Variance (ANOVA) revealed that those with major lifetime depression reported smoking \n",
    "insignificantly more cigarettes per day (Mean=''' + \n",
    "     str('%.1f' % m1_df.loc[1, 'NUMCIGMO_EST']) + ''', s.d. ±''' + \n",
    "     str('%.1f' % sd1_df.loc[1, 'NUMCIGMO_EST']) + ''') compared to those without major lifetime depression (Mean=''' + \n",
    "     str('%.1f' % m1_df.loc[0, 'NUMCIGMO_EST']) + ''', s.d. ±''' + \n",
    "     str('%.1f' % sd1_df.loc[0, 'NUMCIGMO_EST']) + '''), F(''' + \n",
    "     str('%d' % results1_fitted.df_model) + ''', ''' + \n",
    "     str('%d' % results1_fitted.df_resid) + ''')=''' + \n",
    "     str('%.2f' % results1_fitted.fvalue) + ''', p=''' + \n",
    "     str('%.3f' % results1_fitted.f_pvalue) + '''.</p>''')"
   ]
  },
  {
   "cell_type": "code",
   "execution_count": 47,
   "metadata": {},
   "outputs": [
    {
     "name": "stdout",
     "output_type": "stream",
     "text": [
      "                            OLS Regression Results                            \n",
      "==============================================================================\n",
      "Dep. Variable:           NUMCIGMO_EST   R-squared:                       0.041\n",
      "Model:                            OLS   Adj. R-squared:                  0.039\n",
      "Method:                 Least Squares   F-statistic:                     18.29\n",
      "Date:                Wed, 29 Nov 2017   Prob (F-statistic):           1.00e-14\n",
      "Time:                        13:28:27   Log-Likelihood:                -12163.\n",
      "No. Observations:                1703   AIC:                         2.434e+04\n",
      "Df Residuals:                    1698   BIC:                         2.436e+04\n",
      "Df Model:                           4                                         \n",
      "Covariance Type:            nonrobust                                         \n",
      "=====================================================================================\n",
      "                        coef    std err          t      P>|t|      [0.025      0.975]\n",
      "-------------------------------------------------------------------------------------\n",
      "Intercept           377.8724      9.416     40.129      0.000     359.403     396.341\n",
      "C(ETHRACE2A)[T.2]  -118.5986     23.139     -5.126      0.000    -163.982     -73.216\n",
      "C(ETHRACE2A)[T.3]   -66.8843     48.190     -1.388      0.165    -161.402      27.634\n",
      "C(ETHRACE2A)[T.4]  -133.6138     41.305     -3.235      0.001    -214.628     -52.600\n",
      "C(ETHRACE2A)[T.5]  -141.6948     19.202     -7.379      0.000    -179.356    -104.033\n",
      "==============================================================================\n",
      "Omnibus:                     1245.025   Durbin-Watson:                   2.020\n",
      "Prob(Omnibus):                  0.000   Jarque-Bera (JB):            34409.936\n",
      "Skew:                           3.103   Prob(JB):                         0.00\n",
      "Kurtosis:                      24.128   Cond. No.                         6.73\n",
      "==============================================================================\n",
      "\n",
      "Warnings:\n",
      "[1] Standard Errors assume that the covariance matrix of the errors is correctly specified.\n"
     ]
    }
   ],
   "source": [
    "\n",
    "model2_fitted = smf.ols(formula='NUMCIGMO_EST ~ C(ETHRACE2A)', data=sub3_df).fit()\n",
    "print(model2_fitted.summary())"
   ]
  },
  {
   "cell_type": "code",
   "execution_count": 48,
   "metadata": {},
   "outputs": [
    {
     "name": "stdout",
     "output_type": "stream",
     "text": [
      "means for numcigmo_est by ethnic group\n",
      "           NUMCIGMO_EST\n",
      "ETHRACE2A              \n",
      "1            377.872401\n",
      "2            259.273810\n",
      "3            310.988095\n",
      "4            244.258621\n",
      "5            236.177612\n"
     ]
    }
   ],
   "source": [
    "\n",
    "print('means for numcigmo_est by ethnic group')\n",
    "m2_df = sub3_df.groupby('ETHRACE2A').mean()\n",
    "print(m2_df)"
   ]
  },
  {
   "cell_type": "code",
   "execution_count": 49,
   "metadata": {},
   "outputs": [
    {
     "name": "stdout",
     "output_type": "stream",
     "text": [
      "standard deviations for numcigmo_est by ethnic group\n",
      "           NUMCIGMO_EST\n",
      "ETHRACE2A              \n",
      "1            317.996738\n",
      "2            278.677392\n",
      "3            260.116964\n",
      "4            195.076441\n",
      "5            305.792022\n"
     ]
    }
   ],
   "source": [
    "\n",
    "print('standard deviations for numcigmo_est by ethnic group')\n",
    "sd2_df = sub3_df.groupby('ETHRACE2A').std()\n",
    "print(sd2_df)"
   ]
  },
  {
   "cell_type": "raw",
   "metadata": {},
   "source": [
    "3673-3674\n",
    "ETHRACE2A\n",
    "         IMPUTED RACE/ETHNICITY\n",
    "         ----------------------\n",
    "24507     1.  White, Not Hispanic or Latino\n",
    " 8245     2.  Black, Not Hispanic or Latino\n",
    "  701     3.  American Indian/Alaska Native, Not Hispanic or Latino\n",
    " 1332     4.  Asian/Native Hawaiian/Pacific Islander, Not Hispanic or Latino\n",
    " 8308     5.  Hispanic or Latino"
   ]
  },
  {
   "cell_type": "code",
   "execution_count": 50,
   "metadata": {},
   "outputs": [
    {
     "name": "stdout",
     "output_type": "stream",
     "text": [
      "Multiple Comparison of Means - Tukey HSD,FWER=0.05\n",
      "=================================================\n",
      "group1 group2  meandiff   lower    upper   reject\n",
      "-------------------------------------------------\n",
      "  1      2    -118.5986 -181.7829 -55.4143  True \n",
      "  1      3     -66.8843 -198.4768 64.7082  False \n",
      "  1      4    -133.6138 -246.4056 -20.822   True \n",
      "  1      5    -141.6948 -194.1287 -89.2608  True \n",
      "  2      3     51.7143   -89.6593 193.0879 False \n",
      "  2      4     -15.0152 -139.0793 109.0489 False \n",
      "  2      5     -23.0962  -96.7116 50.5192  False \n",
      "  3      4     -66.7295 -236.1881 102.7291 False \n",
      "  3      5     -74.8105 -211.7176 62.0966  False \n",
      "  4      5      -8.081  -127.0304 110.8684 False \n",
      "-------------------------------------------------\n"
     ]
    }
   ],
   "source": [
    "\n",
    "mc1 = multi.MultiComparison(sub3_df['NUMCIGMO_EST'], sub3_df['ETHRACE2A'])\n",
    "res1 = mc1.tukeyhsd()\n",
    "print(res1.summary())"
   ]
  },
  {
   "cell_type": "code",
   "execution_count": 113,
   "metadata": {},
   "outputs": [],
   "source": [
    "import io\n",
    "\n",
    "output = io.StringIO(initial_value=res1._results_table.as_csv().strip())\n",
    "res1_df = pd.read_csv(output).reset_index()\n",
    "output.close()\n",
    "res1_df.columns = res1_df.iloc[0]\n",
    "res1_df = res1_df.reindex(res1_df.index.drop(0))\n",
    "res1_df['reject'] = res1_df['reject'].map(lambda x: x.strip() == 'True')\n",
    "res1_df['group1'] = res1_df['group1'].map(lambda x: int(x.strip()))\n",
    "res1_df['group2'] = res1_df['group2'].map(lambda x: int(x.strip()))\n",
    "mask_series = (res1_df['reject'] == True)\n",
    "column_list = ['group1', 'group2']\n",
    "race_dict = {1: 'White, Not Hispanic or Latino',\n",
    "             2: 'Black, Not Hispanic or Latino',\n",
    "             3: 'American Indian/Alaska Native, Not Hispanic or Latino',\n",
    "             4: 'Asian/Native Hawaiian/Pacific Islander, Not Hispanic or Latino',\n",
    "             5: 'Hispanic or Latino'}\n",
    "\n",
    "def f(row):\n",
    "    left_race = race_dict[row['group1']]\n",
    "    right_race = race_dict[row['group2']]\n",
    "    \n",
    "    return('<code>' + left_race + \n",
    "           '</code> individuals reported significantly more estimated number of cigarettes smoked per month compared to <code>' + \n",
    "           right_race + '</code> individuals')\n",
    "\n",
    "if model2_fitted.f_pvalue < 0.0001:\n",
    "    f_pvalue_statement = ', p<0.0001'\n",
    "else:\n",
    "    f_pvalue_statement = ', p=' + str('%.4f' % model2_fitted.f_pvalue)"
   ]
  },
  {
   "cell_type": "code",
   "execution_count": 114,
   "metadata": {},
   "outputs": [
    {
     "data": {
      "text/html": [
       "<h3>Model Interpretation for post hoc ANOVA results:</h3>\n",
       "\n",
       "<p>ANOVA revealed that among smokers, imputed race/ethnicity (5 categories, which is the categorical explanatory variable) and estimated \n",
       "number of cigarettes smoked per month (quantitative response variable) were significantly associated, F(4, 1698)=18.29, p<0.0001. Post hoc comparisons of estimated number of cigarettes smoked per month by pairs of imputed \n",
       "     race/ethnicity categories revealed that <code>White, Not Hispanic or Latino</code> individuals reported significantly more estimated number of cigarettes smoked per month compared to <code>Black, Not Hispanic or Latino</code> individuals, and <code>White, Not Hispanic or Latino</code> individuals reported significantly more estimated number of cigarettes smoked per month compared to <code>Asian/Native Hawaiian/Pacific Islander, Not Hispanic or Latino</code> individuals, and <code>White, Not Hispanic or Latino</code> individuals reported significantly more estimated number of cigarettes smoked per month compared to <code>Hispanic or Latino</code> individuals. All other comparisons were statistically similar.</p>"
      ],
      "text/plain": [
       "<IPython.core.display.HTML object>"
      ]
     },
     "execution_count": 114,
     "metadata": {},
     "output_type": "execute_result"
    }
   ],
   "source": [
    "from IPython.display import HTML\n",
    "\n",
    "HTML('''<h3>Model Interpretation for post hoc ANOVA results:</h3>\n",
    "\n",
    "<p>ANOVA revealed that among smokers, imputed race/ethnicity (5 categories, which is the categorical explanatory variable) and estimated \n",
    "number of cigarettes smoked per month (quantitative response variable) were significantly associated, F(''' + \n",
    "     str('%d' % model2_fitted.df_model) + ''', ''' + \n",
    "     str('%d' % model2_fitted.df_resid) + ''')=''' + \n",
    "     str('%.2f' % model2_fitted.fvalue) + \n",
    "     f_pvalue_statement + '''. Post hoc comparisons of estimated number of cigarettes smoked per month by pairs of imputed \n",
    "     race/ethnicity categories revealed that ''' + \n",
    "     ', and '.join(res1_df[mask_series][column_list].apply(f, axis=1).tolist()) + \n",
    "     '''. All other comparisons were statistically similar.</p>''')"
   ]
  },
  {
   "cell_type": "code",
   "execution_count": null,
   "metadata": {},
   "outputs": [],
   "source": []
  }
 ],
 "metadata": {
  "kernelspec": {
   "display_name": "Python 3",
   "language": "python",
   "name": "python3"
  },
  "language_info": {
   "codemirror_mode": {
    "name": "ipython",
    "version": 3
   },
   "file_extension": ".py",
   "mimetype": "text/x-python",
   "name": "python",
   "nbconvert_exporter": "python",
   "pygments_lexer": "ipython3",
   "version": "3.5.4"
  }
 },
 "nbformat": 4,
 "nbformat_minor": 2
}
