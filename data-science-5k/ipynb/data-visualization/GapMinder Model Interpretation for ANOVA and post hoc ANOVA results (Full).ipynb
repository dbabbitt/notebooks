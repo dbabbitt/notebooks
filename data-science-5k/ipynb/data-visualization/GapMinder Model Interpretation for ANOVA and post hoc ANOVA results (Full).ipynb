{
 "cells": [
  {
   "cell_type": "code",
   "execution_count": 1,
   "metadata": {},
   "outputs": [
    {
     "name": "stdout",
     "output_type": "stream",
     "text": [
      "mkdir: ../../data: File exists\n",
      "mkdir: ../../data/csv: File exists\n",
      "mkdir: ../../saves: File exists\n",
      "mkdir: ../../saves/pickle: File exists\n",
      "mkdir: ../../saves/csv: File exists\n"
     ]
    }
   ],
   "source": [
    "# %load ../../../load_magic/storage.py\n",
    "\n",
    "!mkdir ../../data\n",
    "!mkdir ../../data/csv\n",
    "!mkdir ../../saves\n",
    "!mkdir ../../saves/pickle\n",
    "!mkdir ../../saves/csv\n",
    "import pickle\n",
    "import pandas as pd\n",
    "import os\n",
    "\n",
    "# Handy list of the different types of encodings\n",
    "encoding = ['latin1', 'iso8859-1', 'utf-8'][1]\n",
    "\n",
    "# Change this to your data and saves folders\n",
    "data_folder = r'../../data/'\n",
    "saves_folder = r'../../saves/'\n",
    "\n",
    "def load_csv(csv_name=None):\n",
    "    csv_folder = data_folder + 'csv/'\n",
    "    if csv_name is None:\n",
    "        csv_path = max([os.path.join(csv_folder, f) for f in os.listdir(csv_folder)],\n",
    "                       key=os.path.getmtime)\n",
    "    else:\n",
    "        csv_path = csv_folder + csv_name + '.csv'\n",
    "    data_frame = pd.read_csv(csv_path, encoding=encoding)\n",
    "    \n",
    "    return(data_frame)\n",
    "\n",
    "def load_object(obj_name):\n",
    "    pickle_path = saves_folder + 'pickle/' + obj_name + '.pickle'\n",
    "    try:\n",
    "        object = pd.read_pickle(pickle_path)\n",
    "    except:\n",
    "        with open(pickle_path, 'rb') as handle:\n",
    "            object = pickle.load(handle)\n",
    "    \n",
    "    return(object)\n",
    "\n",
    "def save_dataframes(include_index=False, **kwargs):\n",
    "    csv_folder = saves_folder + 'csv/'\n",
    "    for frame_name in kwargs:\n",
    "        if isinstance(kwargs[frame_name], pd.DataFrame):\n",
    "            csv_path = csv_folder + frame_name + '.csv'\n",
    "            kwargs[frame_name].to_csv(csv_path, sep=',', encoding=encoding,\n",
    "                                      index=include_index)\n",
    "\n",
    "# Classes, functions, and methods cannot be pickled\n",
    "def store_objects(**kwargs):\n",
    "    for obj_name in kwargs:\n",
    "        if hasattr(kwargs[obj_name], '__call__'):\n",
    "            raise RuntimeError('Functions cannot be pickled.')\n",
    "        obj_path = saves_folder + 'pickle/' + str(obj_name)\n",
    "        pickle_path = obj_path + '.pickle'\n",
    "        if isinstance(kwargs[obj_name], pd.DataFrame):\n",
    "            kwargs[obj_name].to_pickle(pickle_path)\n",
    "        else:\n",
    "            with open(pickle_path, 'wb') as handle:\n",
    "                pickle.dump(kwargs[obj_name], handle, pickle.HIGHEST_PROTOCOL)"
   ]
  },
  {
   "cell_type": "code",
   "execution_count": 2,
   "metadata": {},
   "outputs": [],
   "source": [
    "\n",
    "from sklearn.decomposition import PCA\n",
    "import os\n",
    "\n",
    "obj_path = saves_folder + 'pickle/gapminder_df.pickle'\n",
    "if not os.path.isfile(obj_path):\n",
    "    gapminder_df = pd.read_csv(data_folder + 'csv/gapminder.csv', low_memory=False, encoding=encoding)\n",
    "else:\n",
    "    gapminder_df = load_object('gapminder_df')\n",
    "gapminder_df.columns = ['country_name', 'income_per_person', 'alcohol_consumption', 'armed_forces_rate', 'breast_cancer_per_100th', \n",
    "                        'co2_emissions', 'female_employment_rate', 'hiv_rate', 'internet_use_rate', 'life_expectancy', 'oil_per_person', \n",
    "                        'polity_score', 'residential_electricity_per_person', 'suicide_per_100th', 'employment_rate', 'urban_rate']\n",
    "number_column_list = list(set(gapminder_df.columns) - set(['country_name']))\n",
    "elite_df = gapminder_df.dropna(how='any').copy()\n",
    "elite_ndarray = PCA(n_components=2).fit_transform(elite_df[number_column_list])"
   ]
  },
  {
   "cell_type": "code",
   "execution_count": 3,
   "metadata": {},
   "outputs": [
    {
     "name": "stdout",
     "output_type": "stream",
     "text": [
      "Silhouette Coefficient: 0.679\n"
     ]
    },
    {
     "data": {
      "image/png": "[encoded data removed]",
      "text/plain": [
       "<matplotlib.figure.Figure at 0x11557a160>"
      ]
     },
     "metadata": {},
     "output_type": "display_data"
    }
   ],
   "source": [
    "\n",
    "%matplotlib inline\n",
    "import matplotlib.pyplot as plt\n",
    "import numpy as np\n",
    "from sklearn.cluster import DBSCAN\n",
    "from sklearn import metrics\n",
    "\n",
    "# Compute DBSCAN\n",
    "db = DBSCAN(eps=7750000000, min_samples=2).fit(elite_ndarray)\n",
    "core_samples_mask = np.zeros_like(db.labels_, dtype=bool)\n",
    "core_samples_mask[db.core_sample_indices_] = True\n",
    "labels = db.labels_\n",
    "\n",
    "# Number of clusters in labels, ignoring noise if present\n",
    "n_clusters_ = len(set(labels)) - (1 if -1 in labels else 0)\n",
    "\n",
    "print(\"Silhouette Coefficient: %0.3f\" % metrics.silhouette_score(elite_ndarray, labels))\n",
    "\n",
    "# Black removed and is used for noise instead.\n",
    "unique_labels = set(labels)\n",
    "colors = [plt.cm.Spectral(each)\n",
    "          for each in np.linspace(0, 1, len(unique_labels))]\n",
    "for k, col in zip(unique_labels, colors):\n",
    "    \n",
    "    # Black used for noise\n",
    "    if k == -1:\n",
    "        col = [0, 0, 0, 1]\n",
    "\n",
    "    class_member_mask = (labels == k)\n",
    "\n",
    "    xy = elite_ndarray[class_member_mask & core_samples_mask]\n",
    "    line_2d = plt.plot(xy[:, 0], xy[:, 1], 'o', markerfacecolor=tuple(col), markeredgecolor='k', markersize=14)\n",
    "\n",
    "    xy = elite_ndarray[class_member_mask & ~core_samples_mask]\n",
    "    line_2d = plt.plot(xy[:, 0], xy[:, 1], 'o', markerfacecolor=tuple(col), markeredgecolor='k', markersize=6)\n",
    "\n",
    "text = plt.title('Estimated number of clusters: %d' % n_clusters_)\n",
    "for col, label, x, y in zip(labels, elite_df['country_name'], elite_ndarray[:, 0], elite_ndarray[:, 1]):\n",
    "    if (label == 'Japan'):\n",
    "        annotation = plt.annotate(label, xy=(x, y), xytext=(20, 10), textcoords='offset points', ha='left', va='bottom',\n",
    "                                  bbox=dict(boxstyle='round,pad=0.5', fc='yellow', alpha=0.5),\n",
    "                                  arrowprops=dict(arrowstyle='->', connectionstyle='arc3,rad=0'))\n",
    "    elif (label == 'United Kingdom'):\n",
    "        annotation = plt.annotate(label, xy=(x, y), xytext=(20, 20), textcoords='offset points', ha='left', va='bottom',\n",
    "                                  bbox=dict(boxstyle='round,pad=0.5', fc='yellow', alpha=0.5),\n",
    "                                  arrowprops=dict(arrowstyle='->', connectionstyle='arc3,rad=0'))\n",
    "    elif (label == 'China') or (label == 'United States'):\n",
    "        annotation = plt.annotate(label, xy=(x, y), xytext=(-20, 20), textcoords='offset points', ha='right', va='bottom',\n",
    "                                  bbox=dict(boxstyle='round,pad=0.5', fc='yellow', alpha=0.5),\n",
    "                                  arrowprops=dict(arrowstyle='->', connectionstyle='arc3,rad=0'))\n",
    "    elif (col == 1):\n",
    "        annotation = plt.annotate(label, xy=(x, y), xytext=(-10, 20), textcoords='offset points', ha='left', va='bottom',\n",
    "                                  bbox=dict(boxstyle='round,pad=0.5', fc='yellow', alpha=0.5),\n",
    "                                  arrowprops=dict(arrowstyle='->', connectionstyle='arc3,rad=0'))"
   ]
  },
  {
   "cell_type": "code",
   "execution_count": 176,
   "metadata": {},
   "outputs": [
    {
     "data": {
      "image/png": "[encoded data removed]",
      "text/plain": [
       "<matplotlib.figure.Figure at 0x11b080080>"
      ]
     },
     "metadata": {},
     "output_type": "display_data"
    }
   ],
   "source": [
    "\n",
    "cmap = plt.get_cmap('viridis_r')\n",
    "path_collection = plt.scatter(elite_ndarray[:, 0], elite_ndarray[:, 1], s=elite_df['alcohol_consumption']*10, c=elite_df['suicide_per_100th'],\n",
    "                              edgecolors=(0, 0, 0), cmap=cmap)\n",
    "for col, label, x, y in zip(labels, elite_df['country_name'], elite_ndarray[:, 0], elite_ndarray[:, 1]):\n",
    "    if (label == 'Japan'):\n",
    "        annotation = plt.annotate(label, xy=(x, y), xytext=(20, 10), textcoords='offset points', ha='left', va='bottom',\n",
    "                                  bbox=dict(boxstyle='round,pad=0.5', fc='yellow', alpha=0.5),\n",
    "                                  arrowprops=dict(arrowstyle='->', connectionstyle='arc3,rad=0'))\n",
    "    elif (label == 'United Kingdom'):\n",
    "        annotation = plt.annotate(label, xy=(x, y), xytext=(20, 20), textcoords='offset points', ha='left', va='bottom',\n",
    "                                  bbox=dict(boxstyle='round,pad=0.5', fc='yellow', alpha=0.5),\n",
    "                                  arrowprops=dict(arrowstyle='->', connectionstyle='arc3,rad=0'))\n",
    "    elif (label == 'China') or (label == 'United States'):\n",
    "        annotation = plt.annotate(label, xy=(x, y), xytext=(-20, 20), textcoords='offset points', ha='right', va='bottom',\n",
    "                                  bbox=dict(boxstyle='round,pad=0.5', fc='yellow', alpha=0.5),\n",
    "                                  arrowprops=dict(arrowstyle='->', connectionstyle='arc3,rad=0'))\n",
    "    elif (col == 1):\n",
    "        annotation = plt.annotate(label, xy=(x, y), xytext=(-10, 20), textcoords='offset points', ha='left', va='bottom',\n",
    "                                  bbox=dict(boxstyle='round,pad=0.5', fc='yellow', alpha=0.5),\n",
    "                                  arrowprops=dict(arrowstyle='->', connectionstyle='arc3,rad=0'))"
   ]
  },
  {
   "cell_type": "code",
   "execution_count": 139,
   "metadata": {},
   "outputs": [],
   "source": [
    "\n",
    "def create_binned_categories(df, number_of_categories, column_name, prefix):\n",
    "    out_categorical, percentiles_list = pd.cut([0, 1], number_of_categories, retbins=True)\n",
    "    describe_series = df[column_name].describe(percentiles=percentiles_list[1:-1]).copy()\n",
    "    bad_list = ['count', 'mean', 'std']\n",
    "    if (number_of_categories % 2) == 1:\n",
    "        bad_list += ['50%']\n",
    "    index_list = [x for x in describe_series.index.tolist() if x not in bad_list]\n",
    "    bin_list = describe_series.loc[index_list].tolist()\n",
    "    group_names = [x for x in range(1, len(bin_list))]\n",
    "    category_series = pd.cut(df[column_name], bin_list, labels=group_names)\n",
    "    df[prefix+'_categories'] = pd.cut(df[column_name], bin_list, labels=group_names)\n",
    "    df[prefix+'_binned'] = pd.cut(df[column_name], bin_list)\n",
    "    \n",
    "    # Fix the bottom row\n",
    "    null_series = df[prefix+'_categories'].isnull()\n",
    "    bottom_series = (df[prefix+'_categories'] == 1)\n",
    "    binned_value = df[bottom_series][prefix+'_binned'].min()\n",
    "    df.loc[null_series, prefix+'_categories'] = 1\n",
    "    df.loc[null_series, prefix+'_binned'] = binned_value\n",
    "\n",
    "    return df"
   ]
  },
  {
   "cell_type": "code",
   "execution_count": 150,
   "metadata": {},
   "outputs": [
    {
     "data": {
      "text/html": [
       "<div>\n",
       "<style>\n",
       "    .dataframe thead tr:only-child th {\n",
       "        text-align: right;\n",
       "    }\n",
       "\n",
       "    .dataframe thead th {\n",
       "        text-align: left;\n",
       "    }\n",
       "\n",
       "    .dataframe tbody tr th {\n",
       "        vertical-align: top;\n",
       "    }\n",
       "</style>\n",
       "<table border=\"1\" class=\"dataframe\">\n",
       "  <thead>\n",
       "    <tr style=\"text-align: right;\">\n",
       "      <th></th>\n",
       "      <th>country_name</th>\n",
       "      <th>income_per_person</th>\n",
       "      <th>ipp_categories</th>\n",
       "      <th>ipp_binned</th>\n",
       "    </tr>\n",
       "  </thead>\n",
       "  <tbody>\n",
       "    <tr>\n",
       "      <th>5</th>\n",
       "      <td>Algeria</td>\n",
       "      <td>2231.993335</td>\n",
       "      <td>1</td>\n",
       "      <td>(558.063, 6219.693]</td>\n",
       "    </tr>\n",
       "    <tr>\n",
       "      <th>111</th>\n",
       "      <td>Indonesia</td>\n",
       "      <td>1143.831514</td>\n",
       "      <td>1</td>\n",
       "      <td>(558.063, 6219.693]</td>\n",
       "    </tr>\n",
       "    <tr>\n",
       "      <th>112</th>\n",
       "      <td>Iran</td>\n",
       "      <td>2161.546510</td>\n",
       "      <td>1</td>\n",
       "      <td>(558.063, 6219.693]</td>\n",
       "    </tr>\n",
       "    <tr>\n",
       "      <th>124</th>\n",
       "      <td>Kazakhstan</td>\n",
       "      <td>2481.718918</td>\n",
       "      <td>1</td>\n",
       "      <td>(558.063, 6219.693]</td>\n",
       "    </tr>\n",
       "    <tr>\n",
       "      <th>141</th>\n",
       "      <td>Lithuania</td>\n",
       "      <td>5332.238591</td>\n",
       "      <td>1</td>\n",
       "      <td>(558.063, 6219.693]</td>\n",
       "    </tr>\n",
       "  </tbody>\n",
       "</table>\n",
       "</div>"
      ],
      "text/plain": [
       "    country_name  income_per_person ipp_categories           ipp_binned\n",
       "5        Algeria        2231.993335              1  (558.063, 6219.693]\n",
       "111    Indonesia        1143.831514              1  (558.063, 6219.693]\n",
       "112         Iran        2161.546510              1  (558.063, 6219.693]\n",
       "124   Kazakhstan        2481.718918              1  (558.063, 6219.693]\n",
       "141    Lithuania        5332.238591              1  (558.063, 6219.693]"
      ]
     },
     "execution_count": 150,
     "metadata": {},
     "output_type": "execute_result"
    },
    {
     "data": {
      "text/plain": [
       "2    28\n",
       "1    28\n",
       "Name: ipp_categories, dtype: int64"
      ]
     },
     "execution_count": 150,
     "metadata": {},
     "output_type": "execute_result"
    }
   ],
   "source": [
    "\n",
    "number_of_categories = 2\n",
    "elite_df = create_binned_categories(elite_df, number_of_categories, 'income_per_person', prefix='ipp')\n",
    "column_list = ['country_name', 'income_per_person', 'ipp_categories', 'ipp_binned']\n",
    "elite_df[column_list].sort_values('ipp_categories').head()\n",
    "pd.value_counts(elite_df['ipp_categories'])"
   ]
  },
  {
   "cell_type": "code",
   "execution_count": 163,
   "metadata": {},
   "outputs": [],
   "source": [
    "\n",
    "from IPython.display import HTML\n",
    "import statsmodels.formula.api as smf\n",
    "\n",
    "def bi_categorical_anova_interpretation(df, ce_column_name, qr_column_name, ce_formal_name, qr_formal_name, ce_informal_name, qr_informal_name):\n",
    "    column_list = [ce_column_name, qr_column_name]\n",
    "    all_countries_df = df[column_list].dropna().copy()\n",
    "\n",
    "    all_sd_df = all_countries_df.groupby(ce_column_name).std()\n",
    "    all_mean_df = all_countries_df.groupby(ce_column_name).mean()\n",
    "\n",
    "    # Use ols function for calculating the F-statistic and associated p value\n",
    "    all_ols = smf.ols(formula=qr_column_name+' ~ C('+ce_column_name+')', data=all_countries_df)\n",
    "    all_fitted = all_ols.fit()\n",
    "    \n",
    "    # Figure out the adverbs\n",
    "    f_pvalue = all_fitted.f_pvalue\n",
    "    if f_pvalue <= 0.05:\n",
    "        adverb_significant = 'a significantly'\n",
    "    else:\n",
    "        adverb_significant = 'an insignificantly'\n",
    "    low_mean = all_mean_df.loc[0, qr_column_name]\n",
    "    high_mean = all_mean_df.loc[1, qr_column_name]\n",
    "    if high_mean > low_mean:\n",
    "        adverb_higher = 'higher'\n",
    "    else:\n",
    "        adverb_higher = 'lower'\n",
    "\n",
    "    return ('<h3>Model Interpretation for ANOVA:</h3><p>When examining the association between ' +\n",
    "            qr_formal_name + ' (quantitative response) and ' +\n",
    "            ce_formal_name + ' (2 categories, which is the categorical explanatory variable), an Analysis of Variance (ANOVA) revealed that those countries with a higher ' +\n",
    "            ce_informal_name + ' reported ' +\n",
    "            adverb_significant + ' ' +\n",
    "            adverb_higher + ' ' +\n",
    "            qr_informal_name + ' (Mean=' +\n",
    "            str('%.1f' % high_mean) + ', s.d. ±' +\n",
    "            str('%.1f' % all_sd_df.loc[1, qr_column_name]) + ') compared to those with a lower ' +\n",
    "            ce_informal_name + ' (Mean=' +\n",
    "            str('%.1f' % low_mean) + ', s.d. ±' +\n",
    "            str('%.1f' % all_sd_df.loc[0, qr_column_name]) + '), F(' +\n",
    "            str('%d' % all_fitted.df_model) + ', ' +\n",
    "            str('%d' % all_fitted.df_resid) + ')=' +\n",
    "            str('%.2f' % all_fitted.fvalue) + ', p=' +\n",
    "            str('%.3f' % f_pvalue) + '.</p>')"
   ]
  },
  {
   "cell_type": "code",
   "execution_count": 164,
   "metadata": {},
   "outputs": [
    {
     "data": {
      "text/html": [
       "<h3>Model Interpretation for ANOVA:</h3><p>When examining the association between 2005 Suicide, age adjusted, per 100,000 (quantitative response) and 2010 Gross Domestic Product per capita in constant 2000 US$ (2 categories, which is the categorical explanatory variable), an Analysis of Variance (ANOVA) revealed that those countries with a higher income per person reported an insignificantly higher suicide rate (Mean=13.9, s.d. ±9.4) compared to those with a lower income per person (Mean=8.8, s.d. ±6.3), F(4, 51)=0.87, p=0.487.</p>"
      ],
      "text/plain": [
       "<IPython.core.display.HTML object>"
      ]
     },
     "execution_count": 164,
     "metadata": {},
     "output_type": "execute_result"
    }
   ],
   "source": [
    "\n",
    "ce_column_name = 'ipp_categories'\n",
    "qr_column_name = 'suicide_per_100th'\n",
    "ce_formal_name = '2010 Gross Domestic Product per capita in constant 2000 US$'\n",
    "qr_formal_name = '2005 Suicide, age adjusted, per 100,000'\n",
    "ce_informal_name = 'income per person'\n",
    "qr_informal_name = 'suicide rate'\n",
    "HTML(bi_categorical_anova_interpretation(elite_df, ce_column_name, qr_column_name, ce_formal_name, qr_formal_name, ce_informal_name, qr_informal_name))"
   ]
  },
  {
   "cell_type": "code",
   "execution_count": 165,
   "metadata": {},
   "outputs": [
    {
     "data": {
      "text/html": [
       "<div>\n",
       "<style>\n",
       "    .dataframe thead tr:only-child th {\n",
       "        text-align: right;\n",
       "    }\n",
       "\n",
       "    .dataframe thead th {\n",
       "        text-align: left;\n",
       "    }\n",
       "\n",
       "    .dataframe tbody tr th {\n",
       "        vertical-align: top;\n",
       "    }\n",
       "</style>\n",
       "<table border=\"1\" class=\"dataframe\">\n",
       "  <thead>\n",
       "    <tr style=\"text-align: right;\">\n",
       "      <th></th>\n",
       "      <th>country_name</th>\n",
       "      <th>income_per_person</th>\n",
       "      <th>ipp_categories</th>\n",
       "      <th>ipp_binned</th>\n",
       "    </tr>\n",
       "  </thead>\n",
       "  <tbody>\n",
       "    <tr>\n",
       "      <th>236</th>\n",
       "      <td>Spain</td>\n",
       "      <td>15461.758372</td>\n",
       "      <td>4</td>\n",
       "      <td>(11744.834, 26692.984]</td>\n",
       "    </tr>\n",
       "    <tr>\n",
       "      <th>33</th>\n",
       "      <td>Bulgaria</td>\n",
       "      <td>2549.558474</td>\n",
       "      <td>2</td>\n",
       "      <td>(2344.897, 4699.411]</td>\n",
       "    </tr>\n",
       "    <tr>\n",
       "      <th>186</th>\n",
       "      <td>Pakistan</td>\n",
       "      <td>668.547943</td>\n",
       "      <td>1</td>\n",
       "      <td>(558.063, 2344.897]</td>\n",
       "    </tr>\n",
       "    <tr>\n",
       "      <th>117</th>\n",
       "      <td>Italy</td>\n",
       "      <td>18982.269285</td>\n",
       "      <td>4</td>\n",
       "      <td>(11744.834, 26692.984]</td>\n",
       "    </tr>\n",
       "    <tr>\n",
       "      <th>249</th>\n",
       "      <td>Thailand</td>\n",
       "      <td>2712.517199</td>\n",
       "      <td>2</td>\n",
       "      <td>(2344.897, 4699.411]</td>\n",
       "    </tr>\n",
       "  </tbody>\n",
       "</table>\n",
       "</div>"
      ],
      "text/plain": [
       "    country_name  income_per_person ipp_categories              ipp_binned\n",
       "236        Spain       15461.758372              4  (11744.834, 26692.984]\n",
       "33      Bulgaria        2549.558474              2    (2344.897, 4699.411]\n",
       "186     Pakistan         668.547943              1     (558.063, 2344.897]\n",
       "117        Italy       18982.269285              4  (11744.834, 26692.984]\n",
       "249     Thailand        2712.517199              2    (2344.897, 4699.411]"
      ]
     },
     "execution_count": 165,
     "metadata": {},
     "output_type": "execute_result"
    },
    {
     "data": {
      "text/plain": [
       "1    12\n",
       "5    11\n",
       "4    11\n",
       "3    11\n",
       "2    11\n",
       "Name: ipp_categories, dtype: int64"
      ]
     },
     "execution_count": 165,
     "metadata": {},
     "output_type": "execute_result"
    }
   ],
   "source": [
    "\n",
    "number_of_categories = 5\n",
    "elite_df = create_binned_categories(elite_df, number_of_categories, 'income_per_person', prefix='ipp')\n",
    "column_list = ['country_name', 'income_per_person', 'ipp_categories', 'ipp_binned']\n",
    "elite_df[column_list].sort_values('ipp_categories').sample(5)\n",
    "pd.value_counts(elite_df['ipp_categories'])"
   ]
  },
  {
   "cell_type": "code",
   "execution_count": 172,
   "metadata": {},
   "outputs": [],
   "source": [
    "\n",
    "from IPython.display import HTML\n",
    "import statsmodels.stats.multicomp as multi\n",
    "import io\n",
    "\n",
    "def multi_categorical_anova_interpretation(df, ce_column_name, qr_column_name, ce_formal_name, qr_formal_name, ce_informal_name, qr_informal_name):\n",
    "    column_list = [ce_column_name, qr_column_name]\n",
    "    all_countries_df = df[column_list].dropna().copy()\n",
    "\n",
    "    all_sd_df = all_countries_df.groupby(ce_column_name).std()\n",
    "    all_mean_df = all_countries_df.groupby(ce_column_name).mean()\n",
    "    \n",
    "    # Multiple Comparison of Means - Tukey HSD\n",
    "    elite_mc = multi.MultiComparison(df[qr_column_name], df[ce_column_name])\n",
    "    elite_tukeyhsd = elite_mc.tukeyhsd()\n",
    "    output = io.StringIO(initial_value=elite_tukeyhsd._results_table.as_csv().strip())\n",
    "    elite_tukeyhsd_df = pd.read_csv(output).reset_index()\n",
    "    output.close()\n",
    "    elite_tukeyhsd_df.columns = elite_tukeyhsd_df.iloc[0]\n",
    "    elite_tukeyhsd_df = elite_tukeyhsd_df.reindex(elite_tukeyhsd_df.index.drop(0))\n",
    "    elite_tukeyhsd_df['reject'] = elite_tukeyhsd_df['reject'].map(lambda x: x.strip() == 'True')\n",
    "    elite_tukeyhsd_df['group1'] = elite_tukeyhsd_df['group1'].map(lambda x: int(x.strip()))\n",
    "    elite_tukeyhsd_df['group2'] = elite_tukeyhsd_df['group2'].map(lambda x: int(x.strip()))\n",
    "    elite_tukeyhsd_df['meandiff'] = elite_tukeyhsd_df['meandiff'].map(lambda x: float(x.strip()))\n",
    "    mask_series = (elite_tukeyhsd_df['reject'] == True)\n",
    "    column_list = ['group1', 'group2', 'meandiff']\n",
    "    ce_binned_column = ce_column_name.split('_')[0] + '_binned'\n",
    "    number_of_categories = len(df[ce_column_name].unique())\n",
    "    group_dict = dict(zip(range(1, number_of_categories+1),\n",
    "                          [str(df.loc[(df[ce_column_name]==n),\n",
    "                                      ce_binned_column].min()) for n in range(1, number_of_categories+1)]))\n",
    "    \n",
    "    def f(row):\n",
    "        left_group = group_dict[row['group1']]\n",
    "        right_group = group_dict[row['group2']]\n",
    "        mean_diff = row['meandiff']\n",
    "        if mean_diff > 0:\n",
    "            adverb_higher = 'higher'\n",
    "        else:\n",
    "            adverb_higher = 'lower'\n",
    "\n",
    "        return('the <code>' + \n",
    "               left_group + '</code> group reported significantly ' + \n",
    "               adverb_higher + ' ' + \n",
    "               ce_informal_name + ' compared to the <code>' + \n",
    "               right_group + '</code> group')\n",
    "    \n",
    "    # Use ols function for calculating the F-statistic and associated p value\n",
    "    all_fitted = smf.ols(formula=qr_column_name+' ~ C('+ce_column_name+')', data=all_countries_df).fit()\n",
    "    \n",
    "    # Figure out the adverbs\n",
    "    f_pvalue = all_fitted.f_pvalue\n",
    "    \n",
    "    if f_pvalue < 0.0001:\n",
    "        f_pvalue_statement = ', p<0.0001'\n",
    "    else:\n",
    "        f_pvalue_statement = ', p=' + str('%.4f' % f_pvalue)\n",
    "    \n",
    "    if f_pvalue <= 0.05:\n",
    "        adverb_significant = 'significantly'\n",
    "    else:\n",
    "        adverb_significant = 'insignificantly'\n",
    "    \n",
    "    group_series = elite_tukeyhsd_df[mask_series][column_list].apply(f, axis=1)\n",
    "    if group_series.shape[0] > 0:\n",
    "        group_revelation = ', and '.join(group_series) + '. All other comparisons were statistically similar.</p>'\n",
    "    else:\n",
    "        group_revelation = 'all comparisons were statistically similar.</p>'\n",
    "    \n",
    "    return ('<h3>Model Interpretation for post hoc ANOVA results:</h3><p>ANOVA revealed that ' +\n",
    "            ce_formal_name + ' (' +\n",
    "            str(number_of_categories) + ' categories, which is the categorical explanatory variable) and ' +\n",
    "            qr_formal_name + ' (quantitative response variable) were ' +\n",
    "            adverb_significant + ' associated, F(' +\n",
    "            str('%d' % all_fitted.df_model) + ', ' +\n",
    "            str('%d' % all_fitted.df_resid) + ')=' +\n",
    "            str('%.2f' % all_fitted.fvalue) +\n",
    "            f_pvalue_statement + '. Post hoc comparisons of ' +\n",
    "            qr_informal_name + ' by pairs of ' +\n",
    "            ce_informal_name + ' categories revealed that ' +\n",
    "            group_revelation)"
   ]
  },
  {
   "cell_type": "code",
   "execution_count": 167,
   "metadata": {},
   "outputs": [
    {
     "data": {
      "text/html": [
       "<h3>Model Interpretation for post hoc ANOVA results:</h3><p>ANOVA revealed that 2010 Gross Domestic Product per capita in constant 2000 US$ (5 categories, which is the categorical explanatory variable) and 2005 Suicide, age adjusted, per 100,000 (quantitative response variable) were insignificantly associated, F(4, 51)=0.87, p=0.4870. Post hoc comparisons of suicide rate by pairs of income per person categories revealed that all comparisons were statistically similar.</p>"
      ],
      "text/plain": [
       "<IPython.core.display.HTML object>"
      ]
     },
     "execution_count": 167,
     "metadata": {},
     "output_type": "execute_result"
    }
   ],
   "source": [
    "\n",
    "ce_column_name = 'ipp_categories'\n",
    "qr_column_name = 'suicide_per_100th'\n",
    "ce_formal_name = '2010 Gross Domestic Product per capita in constant 2000 US$'\n",
    "qr_formal_name = '2005 Suicide, age adjusted, per 100,000'\n",
    "ce_informal_name = 'income per person'\n",
    "qr_informal_name = 'suicide rate'\n",
    "HTML(multi_categorical_anova_interpretation(elite_df, ce_column_name, qr_column_name, ce_formal_name, qr_formal_name, ce_informal_name, qr_informal_name))"
   ]
  },
  {
   "cell_type": "code",
   "execution_count": 168,
   "metadata": {},
   "outputs": [],
   "source": [
    "\n",
    "def display_anova_and_post_hoc_results(df, number_of_categories, category_column, category_prefix, qr_column_name, ce_formal_name, qr_formal_name, ce_informal_name, qr_informal_name):\n",
    "    ce_column_name = category_prefix + '_categories'\n",
    "    df = create_binned_categories(df, 2, category_column, category_prefix)\n",
    "    anova_HTML = bi_categorical_anova_interpretation(df, ce_column_name, qr_column_name, ce_formal_name, qr_formal_name, ce_informal_name, qr_informal_name)\n",
    "    df = create_binned_categories(df, number_of_categories, category_column, category_prefix)\n",
    "    post_HTML = multi_categorical_anova_interpretation(df, ce_column_name, qr_column_name, ce_formal_name, qr_formal_name, ce_informal_name, qr_informal_name)\n",
    "    \n",
    "    return HTML(anova_HTML + post_HTML)"
   ]
  },
  {
   "cell_type": "code",
   "execution_count": 169,
   "metadata": {},
   "outputs": [
    {
     "data": {
      "text/html": [
       "<h3>Model Interpretation for ANOVA:</h3><p>When examining the association between 2005 Suicide, age adjusted, per 100,000 (quantitative response) and 2010 Gross Domestic Product per capita in constant 2000 US$ (2 categories, which is the categorical explanatory variable), an Analysis of Variance (ANOVA) revealed that those countries with a higher income per person reported an insignificantly lower suicide rate (Mean=10.4, s.d. ±4.4) compared to those with a lower income per person (Mean=11.7, s.d. ±8.9), F(1, 54)=0.51, p=0.479.</p><h3>Model Interpretation for post hoc ANOVA results:</h3><p>ANOVA revealed that 2010 Gross Domestic Product per capita in constant 2000 US$ (5 categories, which is the categorical explanatory variable) and 2005 Suicide, age adjusted, per 100,000 (quantitative response variable) were insignificantly associated, F(4, 51)=0.87, p=0.4870. Post hoc comparisons of suicide rate by pairs of income per person categories revealed that all comparisons were statistically similar.</p>"
      ],
      "text/plain": [
       "<IPython.core.display.HTML object>"
      ]
     },
     "execution_count": 169,
     "metadata": {},
     "output_type": "execute_result"
    }
   ],
   "source": [
    "\n",
    "number_of_categories = 5\n",
    "category_column = 'income_per_person'\n",
    "category_prefix = 'ipp'\n",
    "qr_column_name = 'suicide_per_100th'\n",
    "ce_formal_name = '2010 Gross Domestic Product per capita in constant 2000 US$'\n",
    "qr_formal_name = '2005 Suicide, age adjusted, per 100,000'\n",
    "ce_informal_name = 'income per person'\n",
    "qr_informal_name = 'suicide rate'\n",
    "display_anova_and_post_hoc_results(elite_df, number_of_categories, category_column, category_prefix, qr_column_name, ce_formal_name, qr_formal_name, ce_informal_name, qr_informal_name)"
   ]
  },
  {
   "cell_type": "code",
   "execution_count": 173,
   "metadata": {},
   "outputs": [
    {
     "data": {
      "text/html": [
       "<h3>Model Interpretation for ANOVA:</h3><p>When examining the association between 2005 Suicide, age adjusted, per 100,000 (quantitative response) and 2008 alcohol consumption per adult, litres (2 categories, which is the categorical explanatory variable), an Analysis of Variance (ANOVA) revealed that those countries with a higher alcohol consumption reported a significantly higher suicide rate (Mean=13.6, s.d. ±7.9) compared to those with a lower alcohol consumption (Mean=8.6, s.d. ±4.9), F(1, 54)=7.94, p=0.007.</p><h3>Model Interpretation for post hoc ANOVA results:</h3><p>ANOVA revealed that 2008 alcohol consumption per adult, litres (5 categories, which is the categorical explanatory variable) and 2005 Suicide, age adjusted, per 100,000 (quantitative response variable) were significantly associated, F(4, 51)=5.42, p=0.0010. Post hoc comparisons of suicide rate by pairs of alcohol consumption categories revealed that the <code>(0.05, 3.61]</code> group reported significantly higher alcohol consumption compared to the <code>(13.34, 19.15]</code> group, and the <code>(3.61, 9.43]</code> group reported significantly higher alcohol consumption compared to the <code>(13.34, 19.15]</code> group, and the <code>(9.43, 11.1]</code> group reported significantly higher alcohol consumption compared to the <code>(13.34, 19.15]</code> group, and the <code>(11.1, 13.34]</code> group reported significantly higher alcohol consumption compared to the <code>(13.34, 19.15]</code> group. All other comparisons were statistically similar.</p>"
      ],
      "text/plain": [
       "<IPython.core.display.HTML object>"
      ]
     },
     "execution_count": 173,
     "metadata": {},
     "output_type": "execute_result"
    }
   ],
   "source": [
    "\n",
    "number_of_categories = 5\n",
    "category_column = 'alcohol_consumption'\n",
    "category_prefix = 'ac'\n",
    "qr_column_name = 'suicide_per_100th'\n",
    "ce_formal_name = '2008 alcohol consumption per adult, litres'\n",
    "qr_formal_name = '2005 Suicide, age adjusted, per 100,000'\n",
    "ce_informal_name = 'alcohol consumption'\n",
    "qr_informal_name = 'suicide rate'\n",
    "display_anova_and_post_hoc_results(elite_df, number_of_categories, category_column,\n",
    "                                   category_prefix, qr_column_name, ce_formal_name, qr_formal_name, ce_informal_name, qr_informal_name)"
   ]
  },
  {
   "cell_type": "code",
   "execution_count": null,
   "metadata": {},
   "outputs": [],
   "source": []
  }
 ],
 "metadata": {
  "kernelspec": {
   "display_name": "Python 3",
   "language": "python",
   "name": "python3"
  },
  "language_info": {
   "codemirror_mode": {
    "name": "ipython",
    "version": 3
   },
   "file_extension": ".py",
   "mimetype": "text/x-python",
   "name": "python",
   "nbconvert_exporter": "python",
   "pygments_lexer": "ipython3",
   "version": "3.5.4"
  }
 },
 "nbformat": 4,
 "nbformat_minor": 2
}
