








<!DOCTYPE html>
<html lang="en">

<head>
  <meta charset="utf-8">
  <title>Jupyter Notebook Viewer</title>
  <meta name="viewport" content="width=device-width, initial-scale=1.0">
  <meta name="description" content="">
  <meta name="author" content="">
  
  <meta name="robots" content="noindex,nofollow">
  

  <!--NEW RELIC Start Perf Measurement-->
  
  <!--NREND-->

  <!-- Le styles -->
  <script type="text/javascript">
//<![CDATA[
var _gaq = _gaq || [];_gaq.push(['_setAccount', 'UA-52617120-1']);_gaq.push(['_trackPageview']);(function() {var ga = document.createElement('script'); ga.type = 'text/javascript'; ga.async = true;ga.src = ('https:' == document.location.protocol ? 'https://ssl' : 'http://www') + '.google-analytics.com/ga.js';var s = document.getElementsByTagName('script')[0]; s.parentNode.insertBefore(ga, s);})();(function(b){(function(a){"__CF"in b&&"DJS"in b.__CF?b.__CF.DJS.push(a):"addEventListener"in b?b.addEventListener("load",a,!1):b.attachEvent("onload",a)})(function(){"FB"in b&&"Event"in FB&&"subscribe"in FB.Event&&(FB.Event.subscribe("edge.create",function(a){_gaq.push(["_trackSocial","facebook","like",a])}),FB.Event.subscribe("edge.remove",function(a){_gaq.push(["_trackSocial","facebook","unlike",a])}),FB.Event.subscribe("message.send",function(a){_gaq.push(["_trackSocial","facebook","send",a])}));"twttr"in b&&"events"in twttr&&"bind"in twttr.events&&twttr.events.bind("tweet",function(a){if(a){var b;if(a.target&&a.target.nodeName=="IFRAME")a:{if(a=a.target.src){a=a.split("#")[0].match(/[^?=&]+=([^&]*)?/g);b=0;for(var c;c=a[b];++b)if(c.indexOf("url")===0){b=unescape(c.split("=")[1]);break a}}b=void 0}_gaq.push(["_trackSocial","twitter","tweet",b])}})})})(window);//]]>
</script><script type="text/javascript">
//<![CDATA[
try{if (!window.CloudFlare) {var CloudFlare=[{verbose:0,p:0,byc:0,owlid:"cf",bag2:1,mirage2:0,oracle:0,paths:{cloudflare:"/cdn-cgi/nexp/dok3v=1613a3a185/"},atok:"e2658ed64f019a830f8deb4e2e951a3e",petok:"1ea80a32ec6ad477aa9d50771dc8b93867987768-1500055140-3600",zone:"jupyter.org",rocket:"0",apps:{"ga_key":{"ua":"UA-52617120-1","ga_bs":"2"}}}];!function(a,b){a=document.createElement("script"),b=document.getElementsByTagName("script")[0],a.async=!0,a.src="//ajax.cloudflare.com/cdn-cgi/nexp/dok3v=85b614c0f6/cloudflare.min.js",b.parentNode.insertBefore(a,b)}()}}catch(e){};
//]]>
</script>
<link href="/static/build/styles.css?v=187600a0f647dfa49ca5629b21844856" rel="stylesheet">

  <!-- Le HTML5 shim, for IE6-8 support of HTML5 elements -->
  <!--[if lt IE 9]>
    <script src="http://html5shim.googlecode.com/svn/trunk/html5.js"></script>
  <![endif]-->

  <!-- Le fav and touch icons -->
  <link rel="shortcut icon" href="/static/ico/ipynb_icon_16x16.png">
  <link rel="apple-touch-icon-precomposed" sizes="144x144"
        href="/static/ico/apple-touch-icon-144-precomposed.png?v=5a3c9ede93e2a8b8ea9e3f8f3da1a905">
  <link rel="apple-touch-icon-precomposed" sizes="114x114"
        href="/static/ico/apple-touch-icon-114-precomposed.png?v=45d86fc8f24dc00638035e1dd7a6d898">
  <link rel="apple-touch-icon-precomposed" sizes="72x72"
        href="/static/ico/apple-touch-icon-72-precomposed.png?v=540b5eb0f3cfd25f1439d1c9bd30e15f">
  <link rel="apple-touch-icon-precomposed"
        href="/static/ico/apple-touch-icon-57-precomposed.png?v=225f0590e187e1458625654f10a28f56">
  
  

  

  
  <meta name="twitter:card" content="summary">
  <meta name="twitter:title" content="Notebook on nbviewer">
  <meta name="twitter:description" content="Check out this Jupyter notebook!">

  
  <meta name="twitter:domain" content="nbviewer.ipython.org">
  <meta name="twitter:image:src" content="http://ipython.org/ipython-doc/dev/_images/ipynb_icon_128x128.png">

  
    <link href="/static/build/notebook.css?v=0a1fd720873b368f697f2028629e42e3" rel="stylesheet">
  

  

  
    <script src="https://cdnjs.cloudflare.com/ajax/libs/mathjax/2.7.1/MathJax.js?config=TeX-AMS_HTML" type="text/javascript">
    </script>
    <script type="text/javascript">
      init_mathjax = function() {
        if (window.MathJax) {
          // MathJax loaded
          MathJax.Hub.Config({
            TeX: {
              equationNumbers: {
                autoNumber: "AMS",
                useLabelIds: true
              }
            },
            tex2jax: {
              inlineMath: [ ['$','$'], ["\\(","\\)"] ],
              displayMath: [ ['$$','$$'], ["\\[","\\]"] ],
              processEscapes: true,
              processEnvironments: true
            },
            displayAlign: 'center',
            "HTML-CSS": {
              styles: {'.MathJax_Display': {"margin": 0}},
              linebreaks: { automatic: true }
            }
          });
          MathJax.Hub.Queue(["Typeset", MathJax.Hub]);
        }
      }
      init_mathjax();
    </script>
  

</head>

<body class="nbviewer">

  <!-- These are loaded at the top of the body so they are available to
       notebook cells when they are loaded below. -->
  <script src="/static/components/jquery/dist/jquery.min.js?v=c9f5aeeca3ad37bf2aa006139b935f0a"></script>
  <script src="/static/components/requirejs/require.js?v=6da8be361b9ee26c5e721e76c6d4afce"></script>
  <script src="/static/components/moment/min/moment.min.js?v=89f87298ad94aa1e6b92f42eb66da043"></script>

<!-- Navbar
================================================== -->
  <nav id="menubar" class="navbar navbar-default navbar-fixed-top" data-spy="affix">
    <div class="container">
      <div class="navbar-header">
        <button type="button" class="navbar-toggle collapsed" data-toggle="collapse" data-target=".navbar-collapse">
          <span class="sr-only">Toggle navigation</span>
          <i class="fa fa-bars"></i>
        </button>
        <a class="navbar-brand" href="/">
          <img src="/static/img/nav_logo.svg?v=479cefe8d932fb14a67b93911b97d70f" width="159"/>
        </a>
      </div>

      <div class="collapse navbar-collapse">
        <ul class="nav navbar-nav navbar-right">
          <li>
            <a class="active" href="http://jupyter.org">JUPYTER</a>
          </li>
          <li>
    <a href="/faq" title="FAQ" >
      
        <span>FAQ</span>
      
    </a>
  </li>

          
  
    
  
    
      
        <li>
    <a href="/format/script/github/plotly/python-user-guide/blob/master/s3_bubble-charts/s3_bubble-charts.ipynb" title="View as Code" >
      <span class="fa fa-code fa-2x menu-icon"></span>
      <span class="menu-text">View as Code</span>
    </a>
  </li>
      
    
  

  

  
    <li>
    <a href="https://github.com/plotly/python-user-guide/blob/master/s3_bubble-charts/s3_bubble-charts.ipynb" title="View on GitHub" >
      <span class="fa fa-github fa-2x menu-icon"></span>
      <span class="menu-text">View on GitHub</span>
    </a>
  </li>
  

  <li>
    <a href="https://raw.githubusercontent.com/plotly/python-user-guide/master/s3_bubble-charts/s3_bubble-charts.ipynb" title="Download Notebook" download>
      <span class="fa fa-download fa-2x menu-icon"></span>
      <span class="menu-text">Download Notebook</span>
    </a>
  </li>

        </ul>
      </div><!-- /.navbar-collapse -->
      
      
    </div>
  </nav>

  <div class="container container-main">
    
  
  <ol class="breadcrumb">
    
      <li>
        <a href="/github/plotly/python-user-guide/tree/master">python-user-guide</a>
      </li>
    
      <li>
        <a href="/github/plotly/python-user-guide/tree/master/s3_bubble-charts">s3_bubble-charts</a>
      </li>
    
  </ol>
  
  <div id="notebook">
    <div id="notebook-container">
      
<div class="cell border-box-sizing text_cell rendered"><div class="prompt input_prompt">
</div>
<div class="inner_cell">
<div class="text_cell_render border-box-sizing rendered_html">
<h1 id="Plotly's-Python-API-User-Guide">Plotly's Python API User Guide<a class="anchor-link" href="#Plotly's-Python-API-User-Guide">&#182;</a></h1>
</div>
</div>
</div>
<div class="cell border-box-sizing text_cell rendered"><div class="prompt input_prompt">
</div>
<div class="inner_cell">
<div class="text_cell_render border-box-sizing rendered_html">
<h2 id="Section-3:-Bubble-Charts">Section 3: Bubble Charts<a class="anchor-link" href="#Section-3:-Bubble-Charts">&#182;</a></h2>
</div>
</div>
</div>
<div class="cell border-box-sizing text_cell rendered"><div class="prompt input_prompt">
</div>
<div class="inner_cell">
<div class="text_cell_render border-box-sizing rendered_html">
<p>Welcome to Plotly's Python API User Guide.</p>
<blockquote><p>Links to the other sections are on the User Guide's <a href="https://plot.ly/python/user-guide#Table-of-Contents:">homepage</a> <br>
The Github repository is available 
<a href="https://github.com/plotly/python-user-guide" target="_blank">here</a></p>
</blockquote>

</div>
</div>
</div>
<div class="cell border-box-sizing text_cell rendered"><div class="prompt input_prompt">
</div>
<div class="inner_cell">
<div class="text_cell_render border-box-sizing rendered_html">
<p>Section 3 is divided as follows:</p>
<ul>
<li><a href="#3.1-A-Plotly-version-of-Hans-Rosling&#39;s-bubble-chart">3.1 A Plotly version of Hans Rosling's bubble chart</a></li>
<li><a href="#3.2-Small-multiple-bubble-chart">3.2 Small multiple bubble chart</a></li>
</ul>

</div>
</div>
</div>
<div class="cell border-box-sizing text_cell rendered"><div class="prompt input_prompt">
</div>
<div class="inner_cell">
<div class="text_cell_render border-box-sizing rendered_html">
<p>Quickstart (make a bubble charts of 3 bubbles):</p>

<pre><code>&gt;&gt;&gt; import plotly.plotly as py
&gt;&gt;&gt; from plotly.graph_objs import *
&gt;&gt;&gt; # auto sign-in with credentials or use py.sign_in()
&gt;&gt;&gt; trace1 = Scatter(
        x=[1, 2, 3],
        y=[5, 6, 7],
        mode='markers',
        marker=Marker(
            color=['blue', 'red', 'yellow'],
            size=[10, 20, 30]
        )
    )
&gt;&gt;&gt; data = Data([trace1])
&gt;&gt;&gt; py.plot(data)

</code></pre>
<hr>
</div>
</div>
</div>
<div class="cell border-box-sizing text_cell rendered"><div class="prompt input_prompt">
</div>
<div class="inner_cell">
<div class="text_cell_render border-box-sizing rendered_html">
<p>Check which version is installed on your machine and please upgrade if needed.</p>

</div>
</div>
</div>
<div class="cell border-box-sizing code_cell rendered">
<div class="input">
<div class="prompt input_prompt">In&nbsp;[1]:</div>
<div class="inner_cell">
    <div class="input_area">
<div class=" highlight hl-ipython3"><pre><span></span><span class="c1"># (*) Import plotly package</span>
<span class="kn">import</span> <span class="nn">plotly</span>

<span class="c1"># Check plolty version (if not latest, please upgrade)</span>
<span class="n">plotly</span><span class="o">.</span><span class="n">__version__</span>
</pre></div>

</div>
</div>
</div>

<div class="output_wrapper">
<div class="output">


<div class="output_area">

<div class="prompt output_prompt">Out[1]:</div>




<div class="output_text output_subarea output_execute_result">
<pre>&#39;1.6.6&#39;</pre>
</div>

</div>

</div>
</div>

</div>
<div class="cell border-box-sizing text_cell rendered"><div class="prompt input_prompt">
</div>
<div class="inner_cell">
<div class="text_cell_render border-box-sizing rendered_html">
<p>See the User Guide's <a href="https://plot.ly/python/user-guide#Installation-guidelines" target="_blank">homepage</a> for more info on installation and upgrading.</p>

</div>
</div>
</div>
<div class="cell border-box-sizing text_cell rendered"><div class="prompt input_prompt">
</div>
<div class="inner_cell">
<div class="text_cell_render border-box-sizing rendered_html">
<hr>

<p>In this section, we analyze <a href="http://www.gapminder.org/" target="_blank">GapMinder</a> data of life expectancy and gross domestic product (GDP) of all the world's countries using bubble charts, inspired by <a href="http://en.wikipedia.org/wiki/Hans_Rosling" target="_blank">Hans Rosling's</a> work. We also cover some of Plotly's marker object options,</p>
<ul>
<li><a href="#Axis-types">Axis types</a> and</li>
<li><a href="#Hover-mode-options">Hover-mode options</a>. </li>
</ul>

</div>
</div>
</div>
<div class="cell border-box-sizing text_cell rendered"><div class="prompt input_prompt">
</div>
<div class="inner_cell">
<div class="text_cell_render border-box-sizing rendered_html">
<p>We first import a few modules and sign in to Plotly using our credentials file:</p>

</div>
</div>
</div>
<div class="cell border-box-sizing code_cell rendered">
<div class="input">
<div class="prompt input_prompt">In&nbsp;[2]:</div>
<div class="inner_cell">
    <div class="input_area">
<div class=" highlight hl-ipython3"><pre><span></span><span class="c1"># (*) To communicate with Plotly&#39;s server, sign in with credentials file</span>
<span class="kn">import</span> <span class="nn">plotly.plotly</span> <span class="k">as</span> <span class="nn">py</span>  

<span class="c1"># (*) Useful Python/Plotly tools</span>
<span class="kn">import</span> <span class="nn">plotly.tools</span> <span class="k">as</span> <span class="nn">tls</span>   

<span class="c1"># (*) Graph objects to piece together plots</span>
<span class="kn">from</span> <span class="nn">plotly.graph_objs</span> <span class="k">import</span> <span class="o">*</span>

<span class="kn">import</span> <span class="nn">numpy</span> <span class="k">as</span> <span class="nn">np</span>  <span class="c1"># (*) numpy for math functions and arrays</span>
</pre></div>

</div>
</div>
</div>

</div>
<div class="cell border-box-sizing text_cell rendered"><div class="prompt input_prompt">
</div>
<div class="inner_cell">
<div class="text_cell_render border-box-sizing rendered_html">
<p>If you are not familiar with credentials files, refer to the User Guide's  <a href="https://plot.ly/python/user-guide#Step-6" target="_blank">homepage</a>.</p>

</div>
</div>
</div>
<div class="cell border-box-sizing text_cell rendered"><div class="prompt input_prompt">
</div>
<div class="inner_cell">
<div class="text_cell_render border-box-sizing rendered_html">
<p>The data is stored in a file called <code>gapminderDataFiveYear.txt</code>. For readers looking to run this notebook, the file is in this section's Github <a href="https://github.com/plotly/python-user-guide/blob/master/s3_bubble-charts" target="_blank">folder</a>. It was originally downloaded <a href="http://www.stat.ubc.ca/~jenny/notOcto/STAT545A/examples/gapminder/data/gapminderDataFiveYear.txt" target="_blank">here</a>, thanks to <a href="http://www.stat.ubc.ca/~jenny/" target="_blank">Jennifer Bryan</a>.</p>
<p>To help us manipulate the date, we use the <code>pandas</code> module in this section. <br>
You can download the module using pip. Simply run:</p>

<pre><code>$ pip install pandas

</code></pre>
<p>For more info on this module, we recommand Hernán Rojas' <a href="https://bitbucket.org/hrojas/learn-pandas" target="_blank">Pandas tutorial</a>.</p>
<p>So, first read the data and define a dataframe object:</p>

</div>
</div>
</div>
<div class="cell border-box-sizing code_cell rendered">
<div class="input">
<div class="prompt input_prompt">In&nbsp;[3]:</div>
<div class="inner_cell">
    <div class="input_area">
<div class=" highlight hl-ipython3"><pre><span></span><span class="c1"># (*) Pandas for data manipulation</span>
<span class="kn">import</span> <span class="nn">pandas</span> <span class="k">as</span> <span class="nn">pd</span> 

<span class="c1"># Read csv file and define dataframe object (df for dataframe)</span>
<span class="n">df</span> <span class="o">=</span> <span class="n">pd</span><span class="o">.</span><span class="n">read_csv</span><span class="p">(</span><span class="s1">&#39;gapminderDataFiveYear.txt&#39;</span><span class="p">,</span> <span class="n">sep</span><span class="o">=</span><span class="s1">&#39;</span><span class="se">\t</span><span class="s1">&#39;</span><span class="p">)</span>

<span class="n">df</span><span class="o">.</span><span class="n">head</span><span class="p">()</span>  <span class="c1"># show dataframe header to stdout</span>
</pre></div>

</div>
</div>
</div>

<div class="output_wrapper">
<div class="output">


<div class="output_area">

<div class="prompt output_prompt">Out[3]:</div>



<div class="output_html rendered_html output_subarea output_execute_result">
<div style="max-height:1000px;max-width:1500px;overflow:auto;">
<table border="1" class="dataframe">
  <thead>
    <tr style="text-align: right;">
      <th></th>
      <th>country</th>
      <th>year</th>
      <th>pop</th>
      <th>continent</th>
      <th>lifeExp</th>
      <th>gdpPercap</th>
    </tr>
  </thead>
  <tbody>
    <tr>
      <th>0</th>
      <td> Afghanistan</td>
      <td> 1952</td>
      <td>  8425333</td>
      <td> Asia</td>
      <td> 28.801</td>
      <td> 779.445314</td>
    </tr>
    <tr>
      <th>1</th>
      <td> Afghanistan</td>
      <td> 1957</td>
      <td>  9240934</td>
      <td> Asia</td>
      <td> 30.332</td>
      <td> 820.853030</td>
    </tr>
    <tr>
      <th>2</th>
      <td> Afghanistan</td>
      <td> 1962</td>
      <td> 10267083</td>
      <td> Asia</td>
      <td> 31.997</td>
      <td> 853.100710</td>
    </tr>
    <tr>
      <th>3</th>
      <td> Afghanistan</td>
      <td> 1967</td>
      <td> 11537966</td>
      <td> Asia</td>
      <td> 34.020</td>
      <td> 836.197138</td>
    </tr>
    <tr>
      <th>4</th>
      <td> Afghanistan</td>
      <td> 1972</td>
      <td> 13079460</td>
      <td> Asia</td>
      <td> 36.088</td>
      <td> 739.981106</td>
    </tr>
  </tbody>
</table>
<p>5 rows × 6 columns</p>
</div>
</div>

</div>

</div>
</div>

</div>
<div class="cell border-box-sizing text_cell rendered"><div class="prompt input_prompt">
</div>
<div class="inner_cell">
<div class="text_cell_render border-box-sizing rendered_html">
<p>The data file gives us information about life expentancy, GDP per capita and population for several years, continents and conuntry. Would it be too much to ask to condense all this information into a single plot? Using Plotly bubble chart, the answer is no.</p>

</div>
</div>
</div>
<div class="cell border-box-sizing text_cell rendered"><div class="prompt input_prompt">
</div>
<div class="inner_cell">
<div class="text_cell_render border-box-sizing rendered_html">
<h4 id="3.1-A-Plotly-version-of-Hans-Rosling's-bubble-chart">3.1 A Plotly version of Hans Rosling's bubble chart<a class="anchor-link" href="#3.1-A-Plotly-version-of-Hans-Rosling's-bubble-chart">&#182;</a></h4>
</div>
</div>
</div>
<div class="cell border-box-sizing text_cell rendered"><div class="prompt input_prompt">
</div>
<div class="inner_cell">
<div class="text_cell_render border-box-sizing rendered_html">
<p>Bubble charts a great for way to show information about several variables on a single plot. Bubble charts in Plotly are generated using the <code>Scatter</code> graph object where two variables are plotted against each other following a particular color scheme and marker size distribution (i.e. the bubbles) thus relating up to four different variables.</p>
<p>So, let's plot:</p>
<ul>
<li>Life expentancy versus GDP per capita for a specific year, for all countries in the data file, filling in the <code>'y'</code> and <code>'x'</code> keys in <code>Scatter</code>.</li>
<li>Marker sizes incresing with population size (the bubbles!), with the <code>'size'</code> key in the <code>Marker</code> object linked to <code>'marker'</code> in <code>Scatter</code>.</li>
<li>Marker colors correspond to different continents with the <code>'color'</code> key in the <code>Marker</code> object linked to <code>'marker'</code> in <code>Scatter</code>.</li>
</ul>
<p>Finally, to make sure that each bubble is visible, we modify the opacity of each marker. This is done by linking the <code>'opacity'</code> key in <code>Marker</code> to a value between 0 and 1.</p>

</div>
</div>
</div>
<div class="cell border-box-sizing code_cell rendered">
<div class="input">
<div class="prompt input_prompt">In&nbsp;[4]:</div>
<div class="inner_cell">
    <div class="input_area">
<div class=" highlight hl-ipython3"><pre><span></span><span class="n">help</span><span class="p">(</span><span class="n">Marker</span><span class="p">)</span>  <span class="c1"># call help()</span>

<span class="c1"># notice &#39;color&#39;, &#39;size&#39;, &#39;sizeref&#39;, &#39;sizemode&#39; and &#39;opacity&#39;</span>
</pre></div>

</div>
</div>
</div>

<div class="output_wrapper">
<div class="output">


<div class="output_area">

<div class="prompt"></div>


<div class="output_subarea output_stream output_stdout output_text">
<pre>Help on class Marker in module plotly.graph_objs.graph_objs:

class Marker(PlotlyDict)
 |  A dictionary-like object containing specifications of the marker points.
 |  
 |  Online examples:
 |  
 |      https://plot.ly/python/line-and-scatter/
 |      https://plot.ly/python/bubble-charts/
 |  
 |  Parent key:
 |  
 |      marker
 |  
 |  Quick method reference:
 |  
 |      Marker.update(changes)
 |      Marker.strip_style()
 |      Marker.get_data()
 |      Marker.to_graph_objs()
 |      Marker.validate()
 |      Marker.to_string()
 |      Marker.force_clean()
 |  
 |  Valid keys:
 |  
 |      color [required=False] (value=list or 1d numpy array of string
 |      describing color) (streamable):
 |          Sets the color of the face of the marker object. If &#39;color&#39; is
 |          linked to a list or 1d numpy array of color strings, color values
 |          are mapped to individual marker points in the same order as in the
 |          data lists or arrays. To set the color of the marker&#39;s bordering
 |          line, use &#39;line&#39; in &#39;marker&#39;. The &#39;color&#39; key can also accept list
 |          or 1d numpy array of numbers, where each number is then mapped to a
 |          color using the color scale set in &#39;colorscale&#39;.
 |  
 |          Examples:
 |              &#39;green&#39; | &#39;rgb(0, 255, 0)&#39; | &#39;rgba(0, 255, 0, 0.3)&#39; |
 |              &#39;hsl(120,100%,50%)&#39; | &#39;hsla(120,100%,50%,0.3)&#39; | &#39;#434F1D&#39;
 |  
 |      size [required=False] (value=number: x &gt; 0, or list of these numbers)
 |      (streamable):
 |          Sets the size of the markers (in pixels). If &#39;size&#39; is linked to a
 |          list or 1d numpy array of numbers, size values are mapped to
 |          individual marker points in the same order as in the &#39;x&#39;, &#39;y (or
 |          &#39;z&#39;) list or 1d numpy array. In this case, use &#39;size&#39; in conjunction
 |          with &#39;sizeref&#39; and &#39;sizemode&#39; to fine-tune the map from the numbers
 |          linked to &#39;size&#39; and the marker points&#39; rendered sizes.
 |  
 |      symbol [required=False] (value=&#39;dot&#39; | &#39;cross&#39; | &#39;diamond&#39; | &#39;square&#39; |
 |      &#39;triangle-down&#39; | &#39;triangle-left&#39; | &#39;triangle-right&#39; | &#39;triangle-up&#39; |
 |      &#39;x&#39; OR list of these string values):
 |          The symbol that is drawn on the plot for each marker. Supported only
 |          in scatter traces. If &#39;symbol&#39; is linked to a list or 1d numpy
 |          array, the symbol values are mapped to individual marker points in
 |          the same order as in the list or 1d numpy array linked to &#39;x&#39;, &#39;y&#39;
 |          (or &#39;z&#39;).
 |  
 |      line [required=False] (value=Line object | dictionary-like object)
 |      (streamable):
 |          Links a dictionary-like object containing line parameters for the
 |          line segments associated with this marker. For example, the line
 |          segments around each marker point in a scatter trace or the line
 |          segments around each bar in a bar trace.
 |  
 |          For more, run `help(plotly.graph_objs.Line)`
 |  
 |      opacity [required=False] (value=number: x in [0, 1], or list of these
 |      numbers):
 |          Sets the opacity, or transparency also known as the alpha channel of
 |          colors) of the marker points. If the marker points&#39; color is given
 |          in terms of &#39;rgba&#39; color model, this does not need to be defined. If
 |          &#39;opacity&#39; is linked to a list or an array of numbers, opacity values
 |          are mapped to individual marker points in the same order as in the
 |          &#39;x&#39;, &#39;y&#39; (or &#39;z&#39;) list or 1d numpy array.
 |  
 |      sizeref [required=False] (value=number: x &gt;= 0):
 |          Sets the scale factor used to determine the rendered size of each
 |          marker point in this trace. Applies only to scatter traces that have
 |          their &#39;size&#39; key in &#39;marker&#39; linked to a list or 1d numpy array. If
 |          set, the value linked to &#39;sizeref&#39; is used to divide each entry
 |          linked to &#39;size&#39;. Specifically, setting &#39;sizeref&#39; to less (greater)
 |          than 1, increases (decreases) the rendered marker sizes.
 |  
 |      sizemode [required=False] (value=&#39;diameter&#39;| &#39;area&#39;):
 |          Choose between marker size scaling options for the marker points in
 |          this trace. Applies only to scatter traces that have their &#39;size&#39;
 |          key in &#39;marker&#39; linked to a list or 1d numpy array. If &#39;diameter&#39;
 |          (&#39;area&#39;), then the diameter (area) of the rendered marker points (in
 |          pixels) are proportional to the numbers linked to &#39;size&#39;.For
 |          example, set &#39;sizemode&#39; to &#39;area&#39; for a more a smaller range of
 |          rendered marker sizes.
 |  
 |      colorscale [required=False] (value=list or 1d numpy array of value-color
 |      pairs | &#39;Greys&#39; | &#39;Greens&#39; | &#39;Bluered&#39; | &#39;Hot&#39; | &#39;Picnic&#39; | &#39;Portland&#39; |
 |      &#39;Jet&#39; | &#39;RdBu&#39; | &#39;Blackbody&#39; | &#39;Earth&#39; | &#39;Electric&#39; | &#39;YIOrRd&#39; |
 |      &#39;YIGnBu&#39;):
 |          Sets and/or defines the color scale for this trace. The string
 |          values are pre-defined color scales. For custom color scales, define
 |          a list or 1d numpy array of value-color pairs where, the first
 |          element of the pair corresponds to a normalized value of color from
 |          0-1, i.e. (c-cmin)/ (cmax-cmin), and the second element of pair
 |          corresponds to a color. Use with &#39;cauto&#39;, &#39;cmin&#39; and &#39;cmax to fine-
 |          tune the map from &#39;color&#39; to rendered colors.
 |  
 |          Examples:
 |              &#39;Greys&#39; | [[0, &#39;rgb(0,0,0)&#39;], [0.5, &#39;rgb(65, 182, 196)&#39;], [1,
 |              &#39;rgb(255,255,255)&#39;]]
 |  
 |      cauto [required=False] (value=a boolean: True | False):
 |          Toggle whether or not the default values of &#39;cmax&#39; and &#39;cmax&#39; can be
 |          overwritten.
 |  
 |      cmin [required=False] (value=number):
 |          Sets the minimum &#39;color&#39; data value to be resolved by the color
 |          scale. Its default value is the minimum of the &#39;color&#39; data values.
 |          This value will be used as the minimum in the color scale
 |          normalization. For more info see &#39;colorscale&#39;. Has only an effect if
 |          &#39;color&#39; is linked to a list or 1d numpy array nd &#39;colorscale&#39; is
 |          set.
 |  
 |      cmax [required=False] (value=number):
 |          Sets the maximum &#39;color&#39; data value to be resolved by the color
 |          scale. Its default value is the maximum of the &#39;color&#39; data values.
 |          This value will be used as the maximum in the color scale
 |          normalization. For more info see &#39;colorscale&#39;. Has only an effect if
 |          &#39;color&#39; is linked to a list or 1d numpy array nd &#39;colorscale&#39; is
 |          set.
 |  
 |      outliercolor [required=False] (value=a string describing color):
 |          For box plots only. Has an effect only if &#39;boxpoints&#39; is set to
 |          &#39;suspectedoutliers&#39;. Sets the face color of the outlier points.
 |  
 |          Examples:
 |              &#39;green&#39; | &#39;rgb(0, 255, 0)&#39; | &#39;rgba(0, 255, 0, 0.3)&#39; |
 |              &#39;hsl(120,100%,50%)&#39; | &#39;hsla(120,100%,50%,0.3)&#39; | &#39;#434F1D&#39;
 |  
 |      maxdisplayed [required=False] (value=number: x &gt;= 0):
 |          Sets maximum number of displayed points for this trace. Applies only
 |          to scatter traces.
 |  
 |  Method resolution order:
 |      Marker
 |      PlotlyDict
 |      __builtin__.dict
 |      __builtin__.object
 |  
 |  Methods inherited from PlotlyDict:
 |  
 |  __init__(self, *args, **kwargs)
 |  
 |  __setitem__(self, key, value)
 |  
 |  force_clean(self, caller=True)
 |      Attempts to convert to graph_objs and call force_clean() on values.
 |      
 |      Calling force_clean() on a PlotlyDict will ensure that the object is
 |      valid and may be sent to plotly. This process will also remove any
 |      entries that end up with a length == 0.
 |      
 |      Careful! This will delete any invalid entries *silently*.
 |  
 |  get_data(self)
 |      Returns the JSON for the plot with non-data elements stripped.
 |  
 |  get_ordered(self, caller=True)
 |  
 |  strip_style(self)
 |      Strip style from the current representation.
 |      
 |      All PlotlyDicts and PlotlyLists are guaranteed to survive the
 |      stripping process, though they made be left empty. This is allowable.
 |      
 |      Keys that will be stripped in this process are tagged with
 |      `&#39;type&#39;: &#39;style&#39;` in graph_objs_meta.json.
 |      
 |      This process first attempts to convert nested collections from dicts
 |      or lists to subclasses of PlotlyList/PlotlyDict. This process forces
 |      a validation, which may throw exceptions.
 |      
 |      Then, each of these objects call `strip_style` on themselves and so
 |      on, recursively until the entire structure has been validated and
 |      stripped.
 |  
 |  to_graph_objs(self, caller=True)
 |      Walk obj, convert dicts and lists to plotly graph objs.
 |      
 |      For each key in the object, if it corresponds to a special key that
 |      should be associated with a graph object, the ordinary dict or list
 |      will be reinitialized as a special PlotlyDict or PlotlyList of the
 |      appropriate `kind`.
 |  
 |  to_string(self, level=0, indent=4, eol=&#39;\n&#39;, pretty=True, max_chars=80)
 |      Returns a formatted string showing graph_obj constructors.
 |      
 |      Example:
 |      
 |          print(obj.to_string())
 |      
 |      Keyword arguments:
 |      level (default = 0) -- set number of indentations to start with
 |      indent (default = 4) -- set indentation amount
 |      eol (default = &#39;\n&#39;) -- set end of line character(s)
 |      pretty (default = True) -- curtail long list output with a &#39;...&#39;
 |      max_chars (default = 80) -- set max characters per line
 |  
 |  update(self, dict1=None, **dict2)
 |      Update current dict with dict1 and then dict2.
 |      
 |      This recursively updates the structure of the original dictionary-like
 |      object with the new entries in the second and third objects. This
 |      allows users to update with large, nested structures.
 |      
 |      Note, because the dict2 packs up all the keyword arguments, you can
 |      specify the changes as a list of keyword agruments.
 |      
 |      Examples:
 |      # update with dict
 |      obj = Layout(title=&#39;my title&#39;, xaxis=XAxis(range=[0,1], domain=[0,1]))
 |      update_dict = dict(title=&#39;new title&#39;, xaxis=dict(domain=[0,.8]))
 |      obj.update(update_dict)
 |      obj
 |      {&#39;title&#39;: &#39;new title&#39;, &#39;xaxis&#39;: {&#39;range&#39;: [0,1], &#39;domain&#39;: [0,.8]}}
 |      
 |      # update with list of keyword arguments
 |      obj = Layout(title=&#39;my title&#39;, xaxis=XAxis(range=[0,1], domain=[0,1]))
 |      obj.update(title=&#39;new title&#39;, xaxis=dict(domain=[0,.8]))
 |      obj
 |      {&#39;title&#39;: &#39;new title&#39;, &#39;xaxis&#39;: {&#39;range&#39;: [0,1], &#39;domain&#39;: [0,.8]}}
 |      
 |      This &#39;fully&#39; supports duck-typing in that the call signature is
 |      identical, however this differs slightly from the normal update
 |      method provided by Python&#39;s dictionaries.
 |  
 |  validate(self, caller=True)
 |      Recursively check the validity of the keys in a PlotlyDict.
 |      
 |      The valid keys constitute the entries in each object
 |      dictionary in graph_objs_meta.json
 |      
 |      The validation process first requires that all nested collections be
 |      converted to the appropriate subclass of PlotlyDict/PlotlyList. Then,
 |      each of these objects call `validate` and so on, recursively,
 |      until the entire object has been validated.
 |  
 |  ----------------------------------------------------------------------
 |  Data descriptors inherited from PlotlyDict:
 |  
 |  __dict__
 |      dictionary for instance variables (if defined)
 |  
 |  __weakref__
 |      list of weak references to the object (if defined)
 |  
 |  ----------------------------------------------------------------------
 |  Methods inherited from __builtin__.dict:
 |  
 |  __cmp__(...)
 |      x.__cmp__(y) &lt;==&gt; cmp(x,y)
 |  
 |  __contains__(...)
 |      D.__contains__(k) -&gt; True if D has a key k, else False
 |  
 |  __delitem__(...)
 |      x.__delitem__(y) &lt;==&gt; del x[y]
 |  
 |  __eq__(...)
 |      x.__eq__(y) &lt;==&gt; x==y
 |  
 |  __ge__(...)
 |      x.__ge__(y) &lt;==&gt; x&gt;=y
 |  
 |  __getattribute__(...)
 |      x.__getattribute__(&#39;name&#39;) &lt;==&gt; x.name
 |  
 |  __getitem__(...)
 |      x.__getitem__(y) &lt;==&gt; x[y]
 |  
 |  __gt__(...)
 |      x.__gt__(y) &lt;==&gt; x&gt;y
 |  
 |  __iter__(...)
 |      x.__iter__() &lt;==&gt; iter(x)
 |  
 |  __le__(...)
 |      x.__le__(y) &lt;==&gt; x&lt;=y
 |  
 |  __len__(...)
 |      x.__len__() &lt;==&gt; len(x)
 |  
 |  __lt__(...)
 |      x.__lt__(y) &lt;==&gt; x&lt;y
 |  
 |  __ne__(...)
 |      x.__ne__(y) &lt;==&gt; x!=y
 |  
 |  __repr__(...)
 |      x.__repr__() &lt;==&gt; repr(x)
 |  
 |  __sizeof__(...)
 |      D.__sizeof__() -&gt; size of D in memory, in bytes
 |  
 |  clear(...)
 |      D.clear() -&gt; None.  Remove all items from D.
 |  
 |  copy(...)
 |      D.copy() -&gt; a shallow copy of D
 |  
 |  fromkeys(...)
 |      dict.fromkeys(S[,v]) -&gt; New dict with keys from S and values equal to v.
 |      v defaults to None.
 |  
 |  get(...)
 |      D.get(k[,d]) -&gt; D[k] if k in D, else d.  d defaults to None.
 |  
 |  has_key(...)
 |      D.has_key(k) -&gt; True if D has a key k, else False
 |  
 |  items(...)
 |      D.items() -&gt; list of D&#39;s (key, value) pairs, as 2-tuples
 |  
 |  iteritems(...)
 |      D.iteritems() -&gt; an iterator over the (key, value) items of D
 |  
 |  iterkeys(...)
 |      D.iterkeys() -&gt; an iterator over the keys of D
 |  
 |  itervalues(...)
 |      D.itervalues() -&gt; an iterator over the values of D
 |  
 |  keys(...)
 |      D.keys() -&gt; list of D&#39;s keys
 |  
 |  pop(...)
 |      D.pop(k[,d]) -&gt; v, remove specified key and return the corresponding value.
 |      If key is not found, d is returned if given, otherwise KeyError is raised
 |  
 |  popitem(...)
 |      D.popitem() -&gt; (k, v), remove and return some (key, value) pair as a
 |      2-tuple; but raise KeyError if D is empty.
 |  
 |  setdefault(...)
 |      D.setdefault(k[,d]) -&gt; D.get(k,d), also set D[k]=d if k not in D
 |  
 |  values(...)
 |      D.values() -&gt; list of D&#39;s values
 |  
 |  viewitems(...)
 |      D.viewitems() -&gt; a set-like object providing a view on D&#39;s items
 |  
 |  viewkeys(...)
 |      D.viewkeys() -&gt; a set-like object providing a view on D&#39;s keys
 |  
 |  viewvalues(...)
 |      D.viewvalues() -&gt; an object providing a view on D&#39;s values
 |  
 |  ----------------------------------------------------------------------
 |  Data and other attributes inherited from __builtin__.dict:
 |  
 |  __hash__ = None
 |  
 |  __new__ = &lt;built-in method __new__ of type object&gt;
 |      T.__new__(S, ...) -&gt; a new object with type S, a subtype of T

</pre>
</div>
</div>

</div>
</div>

</div>
<div class="cell border-box-sizing text_cell rendered"><div class="prompt input_prompt">
</div>
<div class="inner_cell">
<div class="text_cell_render border-box-sizing rendered_html">
<p>Next, select one year and slice the dataframe correspondingly:</p>

</div>
</div>
</div>
<div class="cell border-box-sizing code_cell rendered">
<div class="input">
<div class="prompt input_prompt">In&nbsp;[5]:</div>
<div class="inner_cell">
    <div class="input_area">
<div class=" highlight hl-ipython3"><pre><span></span><span class="c1"># Choose a year, find other years with df[&#39;year&#39;].unique()</span>
<span class="n">the_year</span> <span class="o">=</span> <span class="mi">2007</span>   

<span class="c1"># Find indices corresponding to &#39;the_year&#39;</span>
<span class="n">i_year</span> <span class="o">=</span> <span class="p">(</span><span class="n">df</span><span class="p">[</span><span class="s1">&#39;year&#39;</span><span class="p">]</span> <span class="o">==</span> <span class="n">the_year</span><span class="p">)</span>

<span class="c1"># Grab all rows correponding to &#39;the_year&#39;</span>
<span class="n">df_year</span> <span class="o">=</span> <span class="n">df</span><span class="p">[</span><span class="n">i_year</span><span class="p">]</span> 
</pre></div>

</div>
</div>
</div>

</div>
<div class="cell border-box-sizing text_cell rendered"><div class="prompt input_prompt">
</div>
<div class="inner_cell">
<div class="text_cell_render border-box-sizing rendered_html">
<p>Define a dictionary of colors, one for each continent:</p>

</div>
</div>
</div>
<div class="cell border-box-sizing code_cell rendered">
<div class="input">
<div class="prompt input_prompt">In&nbsp;[6]:</div>
<div class="inner_cell">
    <div class="input_area">
<div class=" highlight hl-ipython3"><pre><span></span><span class="n">colors</span> <span class="o">=</span> <span class="nb">dict</span><span class="p">(</span>
    <span class="n">Asia</span><span class="o">=</span><span class="s1">&#39;#1f77b4&#39;</span><span class="p">,</span> 
    <span class="n">Europe</span><span class="o">=</span><span class="s1">&#39;#ff7f0e&#39;</span><span class="p">,</span> 
    <span class="n">Africa</span><span class="o">=</span><span class="s1">&#39;#2ca02c&#39;</span><span class="p">,</span>
    <span class="n">Americas</span><span class="o">=</span><span class="s1">&#39;#d62728&#39;</span><span class="p">,</span>
    <span class="n">Oceania</span><span class="o">=</span><span class="s1">&#39;#9467bd&#39;</span>
<span class="p">)</span>
</pre></div>

</div>
</div>
</div>

</div>
<div class="cell border-box-sizing text_cell rendered"><div class="prompt input_prompt">
</div>
<div class="inner_cell">
<div class="text_cell_render border-box-sizing rendered_html">
<p>We choose to plot data associated with each continent as a different trace. To taking advantage of the regularity between each trace, we next define a trace-generating function.</p>
<p>Here, <code>'size'</code> in <code>Marker</code> will be linked to an array with the population count of each country in a given continent. To fine-tune the map between to the values linked to <code>'size'</code> to rendered pixel size, we use the <code>'sizeref'</code> and <code>'size'</code> in <code>Marker</code>. Consider,</p>

</div>
</div>
</div>
<div class="cell border-box-sizing code_cell rendered">
<div class="input">
<div class="prompt input_prompt">In&nbsp;[7]:</div>
<div class="inner_cell">
    <div class="input_area">
<div class=" highlight hl-ipython3"><pre><span></span><span class="c1"># (!) Set &#39;size&#39; values to be proportional to rendered area,</span>
<span class="c1">#     instead of diameter. This makes the range of bubble sizes smaller</span>
<span class="n">sizemode</span> <span class="o">=</span> <span class="s1">&#39;area&#39;</span>       

<span class="c1"># (!) Set a reference for &#39;size&#39; values (i.e. a population-to-pixel scaling).</span>
<span class="c1">#     Here the max bubble area will be on the order of 100 pixels</span>
<span class="n">sizeref</span> <span class="o">=</span> <span class="n">df_year</span><span class="p">[</span><span class="s1">&#39;pop&#39;</span><span class="p">]</span><span class="o">.</span><span class="n">max</span><span class="p">()</span> <span class="o">/</span> <span class="mf">1e2</span><span class="o">**</span><span class="mi">2</span>

<span class="c1"># Define a trace-generating function (returns a Scatter object)</span>
<span class="k">def</span> <span class="nf">make_trace</span><span class="p">(</span><span class="n">X</span><span class="p">,</span> <span class="n">continent</span><span class="p">,</span> <span class="n">sizes</span><span class="p">,</span> <span class="n">color</span><span class="p">):</span>  
    <span class="k">return</span> <span class="n">Scatter</span><span class="p">(</span>
        <span class="n">x</span><span class="o">=</span><span class="n">X</span><span class="p">[</span><span class="s1">&#39;gdpPercap&#39;</span><span class="p">],</span>  <span class="c1"># GDP on the x-xaxis</span>
        <span class="n">y</span><span class="o">=</span><span class="n">X</span><span class="p">[</span><span class="s1">&#39;lifeExp&#39;</span><span class="p">],</span>    <span class="c1"># life Exp on th y-axis</span>
        <span class="n">name</span><span class="o">=</span><span class="n">continent</span><span class="p">,</span>    <span class="c1"># label continent names on hover</span>
        <span class="n">mode</span><span class="o">=</span><span class="s1">&#39;markers&#39;</span><span class="p">,</span>    <span class="c1"># (!) point markers only on this plot</span>
        <span class="n">marker</span><span class="o">=</span> <span class="n">Marker</span><span class="p">(</span>
            <span class="n">color</span><span class="o">=</span><span class="n">color</span><span class="p">,</span>          <span class="c1"># marker color</span>
            <span class="n">size</span><span class="o">=</span><span class="n">sizes</span><span class="p">,</span>           <span class="c1"># (!) marker sizes (sizes is a list)</span>
            <span class="n">sizeref</span><span class="o">=</span><span class="n">sizeref</span><span class="p">,</span>      <span class="c1"># link sizeref</span>
            <span class="n">sizemode</span><span class="o">=</span><span class="n">sizemode</span><span class="p">,</span>    <span class="c1"># link sizemode</span>
            <span class="n">opacity</span><span class="o">=</span><span class="mf">0.6</span><span class="p">,</span>          <span class="c1"># (!) partly transparent markers</span>
            <span class="n">line</span><span class="o">=</span><span class="n">Line</span><span class="p">(</span><span class="n">width</span><span class="o">=</span><span class="mf">0.0</span><span class="p">)</span>  <span class="c1"># remove marker borders</span>
        <span class="p">)</span>
    <span class="p">)</span>
</pre></div>

</div>
</div>
</div>

</div>
<div class="cell border-box-sizing text_cell rendered"><div class="prompt input_prompt">
</div>
<div class="inner_cell">
<div class="text_cell_render border-box-sizing rendered_html">
<p>Next, fill the data objects:</p>

</div>
</div>
</div>
<div class="cell border-box-sizing code_cell rendered">
<div class="input">
<div class="prompt input_prompt">In&nbsp;[8]:</div>
<div class="inner_cell">
    <div class="input_area">
<div class=" highlight hl-ipython3"><pre><span></span><span class="c1"># Initialize data object </span>
<span class="n">data</span> <span class="o">=</span> <span class="n">Data</span><span class="p">()</span>

<span class="c1"># Group data frame by continent sub-dataframe (named X), </span>
<span class="c1">#   make one trace object per continent and append to data object</span>
<span class="k">for</span> <span class="n">continent</span><span class="p">,</span> <span class="n">X</span> <span class="ow">in</span> <span class="n">df_year</span><span class="o">.</span><span class="n">groupby</span><span class="p">(</span><span class="s1">&#39;continent&#39;</span><span class="p">):</span>
    
    <span class="n">sizes</span> <span class="o">=</span> <span class="n">X</span><span class="p">[</span><span class="s1">&#39;pop&#39;</span><span class="p">]</span>                            <span class="c1"># get population array </span>
    <span class="n">color</span> <span class="o">=</span> <span class="n">colors</span><span class="p">[</span><span class="n">continent</span><span class="p">]</span>                   <span class="c1"># get bubble color</span>
    
    <span class="n">data</span><span class="o">.</span><span class="n">append</span><span class="p">(</span>
        <span class="n">make_trace</span><span class="p">(</span><span class="n">X</span><span class="p">,</span> <span class="n">continent</span><span class="p">,</span> <span class="n">sizes</span><span class="p">,</span> <span class="n">color</span><span class="p">)</span>  <span class="c1"># append trace to data object</span>
    <span class="p">)</span>                             
</pre></div>

</div>
</div>
</div>

</div>
<div class="cell border-box-sizing text_cell rendered"><div class="prompt input_prompt">
</div>
<div class="inner_cell">
<div class="text_cell_render border-box-sizing rendered_html">
<p>Onto layout:</p>

</div>
</div>
</div>
<div class="cell border-box-sizing code_cell rendered">
<div class="input">
<div class="prompt input_prompt">In&nbsp;[9]:</div>
<div class="inner_cell">
    <div class="input_area">
<div class=" highlight hl-ipython3"><pre><span></span><span class="c1"># Set plot and axis titles</span>
<span class="n">title</span> <span class="o">=</span> <span class="s2">&quot;Fig 3.1a: Hans Rosling&#39;s Bubble Chart for the year </span><span class="si">{}</span><span class="s2">&quot;</span><span class="o">.</span><span class="n">format</span><span class="p">(</span><span class="n">the_year</span><span class="p">)</span>
<span class="n">x_title</span> <span class="o">=</span> <span class="s2">&quot;Gross Domestic Product per Capita [in USD of the year 2000]&quot;</span>
<span class="n">y_title</span> <span class="o">=</span> <span class="s2">&quot;Life Expentancy [in years]&quot;</span>

<span class="c1"># Define a dictionary of axis style options</span>
<span class="n">axis_style</span> <span class="o">=</span> <span class="nb">dict</span><span class="p">(</span>     
    <span class="n">zeroline</span><span class="o">=</span><span class="kc">False</span><span class="p">,</span>       <span class="c1"># remove thick zero line</span>
    <span class="n">gridcolor</span><span class="o">=</span><span class="s1">&#39;#FFFFFF&#39;</span><span class="p">,</span>  <span class="c1"># white grid lines</span>
    <span class="n">ticks</span><span class="o">=</span><span class="s1">&#39;outside&#39;</span><span class="p">,</span>      <span class="c1"># draw ticks outside axes </span>
    <span class="n">ticklen</span><span class="o">=</span><span class="mi">8</span><span class="p">,</span>            <span class="c1"># tick length</span>
    <span class="n">tickwidth</span><span class="o">=</span><span class="mf">1.5</span>         <span class="c1">#   and width</span>
<span class="p">)</span>

<span class="c1"># Make layout object</span>
<span class="n">layout</span> <span class="o">=</span> <span class="n">Layout</span><span class="p">(</span>
    <span class="n">title</span><span class="o">=</span><span class="n">title</span><span class="p">,</span>             <span class="c1"># set plot title</span>
    <span class="n">plot_bgcolor</span><span class="o">=</span><span class="s1">&#39;#EFECEA&#39;</span><span class="p">,</span>  <span class="c1"># set plot color to grey</span>
    <span class="n">xaxis</span><span class="o">=</span><span class="n">XAxis</span><span class="p">(</span>
        <span class="n">axis_style</span><span class="p">,</span>      <span class="c1"># add axis style dictionary</span>
        <span class="n">title</span><span class="o">=</span><span class="n">x_title</span><span class="p">,</span>   <span class="c1"># x-axis title</span>
    <span class="p">),</span>
    <span class="n">yaxis</span><span class="o">=</span><span class="n">YAxis</span><span class="p">(</span>
        <span class="n">axis_style</span><span class="p">,</span>      <span class="c1"># add axis style dictionary</span>
        <span class="n">title</span><span class="o">=</span><span class="n">y_title</span><span class="p">,</span>   <span class="c1"># y-axis title</span>
    <span class="p">)</span>
<span class="p">)</span>
</pre></div>

</div>
</div>
</div>

</div>
<div class="cell border-box-sizing text_cell rendered"><div class="prompt input_prompt">
</div>
<div class="inner_cell">
<div class="text_cell_render border-box-sizing rendered_html">
<p>Package the data and layout instances into <code>Figure</code>, send it to Plotly and get a plot:</p>

</div>
</div>
</div>
<div class="cell border-box-sizing code_cell rendered">
<div class="input">
<div class="prompt input_prompt">In&nbsp;[10]:</div>
<div class="inner_cell">
    <div class="input_area">
<div class=" highlight hl-ipython3"><pre><span></span><span class="c1"># Make Figure object</span>
<span class="n">fig</span> <span class="o">=</span> <span class="n">Figure</span><span class="p">(</span><span class="n">data</span><span class="o">=</span><span class="n">data</span><span class="p">,</span> <span class="n">layout</span><span class="o">=</span><span class="n">layout</span><span class="p">)</span>

<span class="c1"># (@) Send to Plotly and show in notebook</span>
<span class="n">py</span><span class="o">.</span><span class="n">iplot</span><span class="p">(</span><span class="n">fig</span><span class="p">,</span> <span class="n">filename</span><span class="o">=</span><span class="s1">&#39;s3_life-gdp&#39;</span><span class="p">)</span>
</pre></div>

</div>
</div>
</div>

<div class="output_wrapper">
<div class="output">


<div class="output_area">

<div class="prompt output_prompt">Out[10]:</div>



<div class="output_html rendered_html output_subarea output_execute_result">
<iframe id="igraph" scrolling="no" style="border:none;"seamless="seamless" src="https://plot.ly/~etpinard/84.embed" height="525" width="100%"></iframe>
</div>

</div>

</div>
</div>

</div>
<div class="cell border-box-sizing text_cell rendered"><div class="prompt input_prompt">
</div>
<div class="inner_cell">
<div class="text_cell_render border-box-sizing rendered_html">
<p>Not bad!</p>
<p>Notice how Plotly automatically converted the x-axis units to k's (i.e. thousands) of USD. No need to change the ticks' labels here (imagine having tick labels of 0, 10000, 20000, 30000, etc. instead).</p>

</div>
</div>
</div>
<div class="cell border-box-sizing text_cell rendered"><div class="prompt input_prompt">
</div>
<div class="inner_cell">
<div class="text_cell_render border-box-sizing rendered_html">
<h5 id="Axis-types">Axis types<a class="anchor-link" href="#Axis-types">&#182;</a></h5>
</div>
</div>
</div>
<div class="cell border-box-sizing text_cell rendered"><div class="prompt input_prompt">
</div>
<div class="inner_cell">
<div class="text_cell_render border-box-sizing rendered_html">
<p>More generally, Plotly allow users to choose between different <em>exponent format</em> with the <code>'exponentformat'</code> key in <code>XAxis</code> and <code>YAxis</code>. The available values for <code>'exponentformat'</code> are:</p>
<ul>
<li><code>'none'</code>, for no exponents,</li>
<li><code>'e'</code>, for lower-case exponent form, e.g. <code>1000</code> is displayed as <code>1e-3</code>,</li>
<li><code>'E'</code>, for upper-case exponent form, e.g. <code>1000</code> is displayed as <code>1E-3</code>,</li>
<li><code>'power'</code>, for powers of ten exponents, e.g. <code>1000</code> is displayed as $10^3$,</li>
<li><code>'SI'</code>, for Standard International prefixes, e.g. <code>10,000</code> is <code>10k</code> and 1 billion is <code>1G</code>,</li>
<li><code>'B'</code>, for alternative prefixes e.g. 1 billion is <code>1B</code>.</li>
</ul>
<p>The key <code>'showexponent'</code>, also in <code>XAxis</code> and <code>YAxis</code>, determines which ticks labels are displayed in exponent form. The available values for <code>'showexponent'</code> are:</p>
<ul>
<li><code>'none'</code>, for no exponents,</li>
<li><code>'all'</code>, for exponents at all tick labels,</li>
<li><code>'first'</code>, for an exponent only at the first tick label,</li>
<li><code>'last'</code>, for an exponent only at the last tick label.</li>
</ul>
<p>In our next plot, we'll set all our exponents to <code>'power'</code>.</p>
<p>In addition, as the relationship between GDP per capita and life expentancy appears to be logarithmic, we replot our first bubble chart on log x-axis using the <code>type</code> key.</p>

</div>
</div>
</div>
<div class="cell border-box-sizing code_cell rendered">
<div class="input">
<div class="prompt input_prompt">In&nbsp;[11]:</div>
<div class="inner_cell">
    <div class="input_area">
<div class=" highlight hl-ipython3"><pre><span></span><span class="n">help</span><span class="p">(</span><span class="n">XAxis</span><span class="p">)</span> <span class="c1"># call help()!</span>

<span class="c1"># notice the &#39;type&#39; key!</span>
</pre></div>

</div>
</div>
</div>

<div class="output_wrapper">
<div class="output">


<div class="output_area">

<div class="prompt"></div>


<div class="output_subarea output_stream output_stdout output_text">
<pre>Help on class XAxis in module plotly.graph_objs.graph_objs:

class XAxis(PlotlyDict)
 |  A dictionary-like object for representing an x-axis in plotly.
 |  
 |  Online examples:
 |  
 |      https://plot.ly/python/axes/
 |      https://plot.ly/python/multiple-axes/
 |      https://plot.ly/python/subplots/
 |      https://plot.ly/python/insets/
 |  
 |  Parent key:
 |  
 |      xaxis
 |  
 |  Quick method reference:
 |  
 |      XAxis.update(changes)
 |      XAxis.strip_style()
 |      XAxis.get_data()
 |      XAxis.to_graph_objs()
 |      XAxis.validate()
 |      XAxis.to_string()
 |      XAxis.force_clean()
 |  
 |  Valid keys:
 |  
 |      title [required=False] (value=a string):
 |          The x-axis title.
 |  
 |      titlefont [required=False] (value=Font object | dictionary-like object):
 |          Links a dictionary-like object describing the font settings of the
 |          x-axis title.
 |  
 |          For more, run `help(plotly.graph_objs.Font)`
 |  
 |      range [required=False] (value=number array of length 2):
 |          Defines the start and end point of this x-axis.
 |  
 |          Examples:
 |              [-13, 20] | [0, 1]
 |  
 |      domain [required=False] (value=number array of length 2):
 |          Sets the domain of this x-axis; that is, the available space for
 |          this x-axis to live in. Domain coordinates are given in normalized
 |          coordinates with respect to the paper.
 |  
 |          Examples:
 |              [0, 0.4] | [0.6, 1]
 |  
 |      type [required=False] (value=&#39;linear&#39; | &#39;log&#39; | &#39;date&#39; | &#39;category&#39;):
 |          Sets the format of this axis.
 |  
 |      rangemode [required=False] (value=&#39;normal&#39; | &#39;tozero&#39; | &#39;nonnegative&#39;):
 |          Choose between Plotly&#39;s automated axis generation modes: &#39;normal&#39;
 |          (the default) sets the axis range in relation to the extrema in the
 |          data object, &#39;tozero&#39; extends the axes to x=0 no matter the data
 |          plotted and &#39;nonnegative&#39; sets a non-negative range no matter the
 |          data plotted.
 |  
 |      autorange [required=False] (value=True | False | &#39;reversed&#39;):
 |          Toggle whether or not the range of this x-axis is automatically
 |          picked by Plotly. If &#39;range&#39; is set, then &#39;autorange&#39; is set to
 |          False automatically. Otherwise, if &#39;autorange&#39; is set to True (the
 |          default behavior), the range of this x-axis can respond to
 |          adjustments made in the web GUI automatically. If &#39;autorange&#39; is set
 |          to &#39;reversed&#39;, then this x-axis is drawn in reverse, e.g. in a 2D
 |          plot, from right to left instead of from left to right (the default
 |          behavior).
 |  
 |      showgrid [required=False] (value=a boolean: True | False):
 |          Toggle whether or not this axis features grid lines.
 |  
 |      zeroline [required=False] (value=a boolean: True | False):
 |          Toggle whether or not an additional grid line (thicker than the
 |          other grid lines, by default) will appear on this axis along x=0.
 |  
 |      showline [required=False] (value=a boolean: True | False):
 |          Toggle whether or not the line bounding this x-axis will be shown on
 |          the figure.
 |  
 |      autotick [required=False] (value=a boolean: True | False):
 |          Toggle whether or not the axis ticks parameters are picked
 |          automatically by Plotly. Once &#39;autotick&#39; is set to False, the axis
 |          ticks parameters can be declared with &#39;ticks&#39;, &#39;tick0&#39;, &#39;dtick0&#39; and
 |          other tick-related key in this axis object.
 |  
 |      nticks [required=False] (value=number: x &gt; 0):
 |          Sets the number of axis ticks. No need to set &#39;autoticks&#39; to False
 |          for &#39;nticks&#39; to apply.
 |  
 |      ticks [required=False] (value=&#39;&#39; | &#39;inside&#39; | &#39;outside&#39;):
 |          Sets the format of the ticks on this axis. For hidden ticks, link
 |          &#39;ticks&#39; to an empty string.
 |  
 |      showticklabels [required=False] (value=a boolean: True | False):
 |          Toggle whether or not the axis ticks will feature tick labels.
 |  
 |      tick0 [required=False] (value=number):
 |          Sets the starting point of the ticks of this axis.
 |  
 |      dtick [required=False] (value=number):
 |          Sets the distance between ticks on this axis.
 |  
 |      ticklen [required=False] (value=number):
 |          Sets the length of the tick lines on this axis.
 |  
 |      tickwidth [required=False] (value=number: x &gt; 0):
 |          Sets the width of the tick lines on this axis.
 |  
 |      tickcolor [required=False] (value=a string describing color):
 |          Sets the color of the tick lines on this axis.
 |  
 |          Examples:
 |              &#39;green&#39; | &#39;rgb(0, 255, 0)&#39; | &#39;rgba(0, 255, 0, 0.3)&#39; |
 |              &#39;hsl(120,100%,50%)&#39; | &#39;hsla(120,100%,50%,0.3)&#39; | &#39;#434F1D&#39;
 |  
 |      tickangle [required=False] (value=number: x in [-90, 90]):
 |          Sets the angle in degrees of the ticks on this axis.
 |  
 |      tickfont [required=False] (value=Font object | dictionary-like object):
 |          Links a dictionary-like object defining the parameters of the ticks&#39;
 |          font.
 |  
 |          For more, run `help(plotly.graph_objs.Font)`
 |  
 |      exponentformat [required=False] (value=&#39;none&#39; | &#39;e&#39; | &#39;E&#39; | &#39;power&#39; |
 |      &#39;SI&#39; | &#39;B&#39;):
 |          Sets how exponents show up. Here&#39;s how the number 1000000000 (1
 |          billion) shows up in each. If set to &#39;none&#39;: 1,000,000,000. If set
 |          to &#39;e&#39;: 1e+9. If set to &#39;E&#39;: 1E+9. If set to &#39;power&#39;: 1x10^9 (where
 |          the 9 will appear super-scripted). If set to &#39;SI&#39;: 1G. If set to
 |          &#39;B&#39;: 1B (useful when referring to currency).
 |  
 |      showexponent [required=False] (value=&#39;all&#39; | &#39;first&#39; | &#39;last&#39; | &#39;none&#39;):
 |          If set to &#39;all&#39;, ALL exponents will be shown appended to their
 |          significands. If set to &#39;first&#39;, the first tick&#39;s exponent will be
 |          appended to its significand, however no other exponents will appear
 |          --only the significands. If set to &#39;last&#39;, the last tick&#39;s exponent
 |          will be appended to its significand, however no other exponents will
 |          appear--only the significands. If set to &#39;none&#39;, no exponents will
 |          appear, only the significands.
 |  
 |      mirror [required=False] (value=True | False | &#39;ticks&#39; | &#39;all&#39; |
 |      &#39;allticks&#39;):
 |          Toggle the axis line and/or ticks across the plots or subplots. If
 |          True, mirror the axis line across the primary subplot (i.e. the axis
 |          that this axis is anchored to). If &#39;ticks&#39;, mirror the axis line and
 |          the ticks. If &#39;all&#39;, mirror the axis line to all subplots containing
 |          this axis. If &#39;allticks&#39;, mirror the line and ticks to all subplots
 |          containing this axis. If False, don&#39;t mirror the axis or the ticks.
 |  
 |      gridcolor [required=False] (value=a string describing color):
 |          Sets the axis grid color.
 |  
 |          Examples:
 |              &#39;green&#39; | &#39;rgb(0, 255, 0)&#39; | &#39;rgba(0, 255, 0, 0.3)&#39; |
 |              &#39;hsl(120,100%,50%)&#39; | &#39;hsla(120,100%,50%,0.3)&#39; | &#39;#434F1D&#39;
 |  
 |      gridwidth [required=False] (value=number: x &gt; 0):
 |          Sets the grid width (in pixels).
 |  
 |      zerolinecolor [required=False] (value=a string describing color):
 |          Sets the color of this axis&#39; zeroline.
 |  
 |          Examples:
 |              &#39;green&#39; | &#39;rgb(0, 255, 0)&#39; | &#39;rgba(0, 255, 0, 0.3)&#39; |
 |              &#39;hsl(120,100%,50%)&#39; | &#39;hsla(120,100%,50%,0.3)&#39; | &#39;#434F1D&#39;
 |  
 |      zerolinewidth [required=False] (value=number: x &gt; 0):
 |          Sets the width of this axis&#39; zeroline (in pixels).
 |  
 |      linecolor [required=False] (value=a string describing color):
 |          Sets the axis line color.
 |  
 |          Examples:
 |              &#39;green&#39; | &#39;rgb(0, 255, 0)&#39; | &#39;rgba(0, 255, 0, 0.3)&#39; |
 |              &#39;hsl(120,100%,50%)&#39; | &#39;hsla(120,100%,50%,0.3)&#39; | &#39;#434F1D&#39;
 |  
 |      linewidth [required=False] (value=number: x &gt; 0):
 |          Sets the width of the axis line (in pixels).
 |  
 |      anchor [required=False] (value=&#39;y&#39; | &#39;y1&#39; | &#39;y2&#39; | ... | &#39;free&#39; ):
 |          Choose whether the position of this x-axis will be anchored to a
 |          corresponding y-axis or will be &#39;free&#39; to appear anywhere in the
 |          vertical space of this figure. Has no effect in 3D plots.
 |  
 |      overlaying [required=False] (value=&#39;x&#39; | &#39;x1&#39; | &#39;x2&#39; | ... | False):
 |          Choose to overlay the data bound to this x-axis on the same plotting
 |          area as a corresponding y-axis or choose not overlay other x-the
 |          other axis/axes of this figure.Has no effect in 3D plots.
 |  
 |      side [required=False] (value=&#39;bottom&#39; | &#39;top&#39;):
 |          Sets whether this x-axis sits at the &#39;bottom&#39; of the plot or at the
 |          &#39;top&#39; of the plot.Has no effect in 3D plots.
 |  
 |      position [required=False] (value=number: x in [0, 1]):
 |          Sets where this x-axis is positioned in the plotting space. For
 |          example if &#39;position&#39; is set to 0.5, then this axis is placed at the
 |          exact center of the plotting space. Has an effect only if &#39;anchor&#39;
 |          is set to &#39;free&#39;.Has no effect in 3D plots.
 |  
 |      showbackground [required=False] (value=a boolean: True | False):
 |          Toggle whether or not this x-axis will have a background color. Has
 |          an effect only in 3D plots.
 |  
 |      backgroundcolor [required=False] (value=a string describing color):
 |          Sets the background color of this x-axis. Has an effect only in 3D
 |          plots and if &#39;showbackground&#39; is set to True.
 |  
 |      showspikes [required=False] (value=a boolean: True | False):
 |          Toggle whether or not spikes will link up to this x-axis when
 |          hovering over data points. Has an effect only in 3D plots.
 |  
 |      spikesides [required=False] (value=a boolean: True | False):
 |          Toggle whether or not the spikes will expand out to the x-axis
 |          bounds when hovering over data points. Has an effect only in 3D
 |          plots and if &#39;showspikes&#39; is set to True.
 |  
 |      spikethickness [required=False] (value=number: x &gt; 0):
 |          Sets the thickness (in pixels) of the x-axis spikes.Has an effect
 |          only in 3D plots and if &#39;showspikes&#39; is set to True.
 |  
 |  Method resolution order:
 |      XAxis
 |      PlotlyDict
 |      __builtin__.dict
 |      __builtin__.object
 |  
 |  Methods inherited from PlotlyDict:
 |  
 |  __init__(self, *args, **kwargs)
 |  
 |  __setitem__(self, key, value)
 |  
 |  force_clean(self, caller=True)
 |      Attempts to convert to graph_objs and call force_clean() on values.
 |      
 |      Calling force_clean() on a PlotlyDict will ensure that the object is
 |      valid and may be sent to plotly. This process will also remove any
 |      entries that end up with a length == 0.
 |      
 |      Careful! This will delete any invalid entries *silently*.
 |  
 |  get_data(self)
 |      Returns the JSON for the plot with non-data elements stripped.
 |  
 |  get_ordered(self, caller=True)
 |  
 |  strip_style(self)
 |      Strip style from the current representation.
 |      
 |      All PlotlyDicts and PlotlyLists are guaranteed to survive the
 |      stripping process, though they made be left empty. This is allowable.
 |      
 |      Keys that will be stripped in this process are tagged with
 |      `&#39;type&#39;: &#39;style&#39;` in graph_objs_meta.json.
 |      
 |      This process first attempts to convert nested collections from dicts
 |      or lists to subclasses of PlotlyList/PlotlyDict. This process forces
 |      a validation, which may throw exceptions.
 |      
 |      Then, each of these objects call `strip_style` on themselves and so
 |      on, recursively until the entire structure has been validated and
 |      stripped.
 |  
 |  to_graph_objs(self, caller=True)
 |      Walk obj, convert dicts and lists to plotly graph objs.
 |      
 |      For each key in the object, if it corresponds to a special key that
 |      should be associated with a graph object, the ordinary dict or list
 |      will be reinitialized as a special PlotlyDict or PlotlyList of the
 |      appropriate `kind`.
 |  
 |  to_string(self, level=0, indent=4, eol=&#39;\n&#39;, pretty=True, max_chars=80)
 |      Returns a formatted string showing graph_obj constructors.
 |      
 |      Example:
 |      
 |          print(obj.to_string())
 |      
 |      Keyword arguments:
 |      level (default = 0) -- set number of indentations to start with
 |      indent (default = 4) -- set indentation amount
 |      eol (default = &#39;\n&#39;) -- set end of line character(s)
 |      pretty (default = True) -- curtail long list output with a &#39;...&#39;
 |      max_chars (default = 80) -- set max characters per line
 |  
 |  update(self, dict1=None, **dict2)
 |      Update current dict with dict1 and then dict2.
 |      
 |      This recursively updates the structure of the original dictionary-like
 |      object with the new entries in the second and third objects. This
 |      allows users to update with large, nested structures.
 |      
 |      Note, because the dict2 packs up all the keyword arguments, you can
 |      specify the changes as a list of keyword agruments.
 |      
 |      Examples:
 |      # update with dict
 |      obj = Layout(title=&#39;my title&#39;, xaxis=XAxis(range=[0,1], domain=[0,1]))
 |      update_dict = dict(title=&#39;new title&#39;, xaxis=dict(domain=[0,.8]))
 |      obj.update(update_dict)
 |      obj
 |      {&#39;title&#39;: &#39;new title&#39;, &#39;xaxis&#39;: {&#39;range&#39;: [0,1], &#39;domain&#39;: [0,.8]}}
 |      
 |      # update with list of keyword arguments
 |      obj = Layout(title=&#39;my title&#39;, xaxis=XAxis(range=[0,1], domain=[0,1]))
 |      obj.update(title=&#39;new title&#39;, xaxis=dict(domain=[0,.8]))
 |      obj
 |      {&#39;title&#39;: &#39;new title&#39;, &#39;xaxis&#39;: {&#39;range&#39;: [0,1], &#39;domain&#39;: [0,.8]}}
 |      
 |      This &#39;fully&#39; supports duck-typing in that the call signature is
 |      identical, however this differs slightly from the normal update
 |      method provided by Python&#39;s dictionaries.
 |  
 |  validate(self, caller=True)
 |      Recursively check the validity of the keys in a PlotlyDict.
 |      
 |      The valid keys constitute the entries in each object
 |      dictionary in graph_objs_meta.json
 |      
 |      The validation process first requires that all nested collections be
 |      converted to the appropriate subclass of PlotlyDict/PlotlyList. Then,
 |      each of these objects call `validate` and so on, recursively,
 |      until the entire object has been validated.
 |  
 |  ----------------------------------------------------------------------
 |  Data descriptors inherited from PlotlyDict:
 |  
 |  __dict__
 |      dictionary for instance variables (if defined)
 |  
 |  __weakref__
 |      list of weak references to the object (if defined)
 |  
 |  ----------------------------------------------------------------------
 |  Methods inherited from __builtin__.dict:
 |  
 |  __cmp__(...)
 |      x.__cmp__(y) &lt;==&gt; cmp(x,y)
 |  
 |  __contains__(...)
 |      D.__contains__(k) -&gt; True if D has a key k, else False
 |  
 |  __delitem__(...)
 |      x.__delitem__(y) &lt;==&gt; del x[y]
 |  
 |  __eq__(...)
 |      x.__eq__(y) &lt;==&gt; x==y
 |  
 |  __ge__(...)
 |      x.__ge__(y) &lt;==&gt; x&gt;=y
 |  
 |  __getattribute__(...)
 |      x.__getattribute__(&#39;name&#39;) &lt;==&gt; x.name
 |  
 |  __getitem__(...)
 |      x.__getitem__(y) &lt;==&gt; x[y]
 |  
 |  __gt__(...)
 |      x.__gt__(y) &lt;==&gt; x&gt;y
 |  
 |  __iter__(...)
 |      x.__iter__() &lt;==&gt; iter(x)
 |  
 |  __le__(...)
 |      x.__le__(y) &lt;==&gt; x&lt;=y
 |  
 |  __len__(...)
 |      x.__len__() &lt;==&gt; len(x)
 |  
 |  __lt__(...)
 |      x.__lt__(y) &lt;==&gt; x&lt;y
 |  
 |  __ne__(...)
 |      x.__ne__(y) &lt;==&gt; x!=y
 |  
 |  __repr__(...)
 |      x.__repr__() &lt;==&gt; repr(x)
 |  
 |  __sizeof__(...)
 |      D.__sizeof__() -&gt; size of D in memory, in bytes
 |  
 |  clear(...)
 |      D.clear() -&gt; None.  Remove all items from D.
 |  
 |  copy(...)
 |      D.copy() -&gt; a shallow copy of D
 |  
 |  fromkeys(...)
 |      dict.fromkeys(S[,v]) -&gt; New dict with keys from S and values equal to v.
 |      v defaults to None.
 |  
 |  get(...)
 |      D.get(k[,d]) -&gt; D[k] if k in D, else d.  d defaults to None.
 |  
 |  has_key(...)
 |      D.has_key(k) -&gt; True if D has a key k, else False
 |  
 |  items(...)
 |      D.items() -&gt; list of D&#39;s (key, value) pairs, as 2-tuples
 |  
 |  iteritems(...)
 |      D.iteritems() -&gt; an iterator over the (key, value) items of D
 |  
 |  iterkeys(...)
 |      D.iterkeys() -&gt; an iterator over the keys of D
 |  
 |  itervalues(...)
 |      D.itervalues() -&gt; an iterator over the values of D
 |  
 |  keys(...)
 |      D.keys() -&gt; list of D&#39;s keys
 |  
 |  pop(...)
 |      D.pop(k[,d]) -&gt; v, remove specified key and return the corresponding value.
 |      If key is not found, d is returned if given, otherwise KeyError is raised
 |  
 |  popitem(...)
 |      D.popitem() -&gt; (k, v), remove and return some (key, value) pair as a
 |      2-tuple; but raise KeyError if D is empty.
 |  
 |  setdefault(...)
 |      D.setdefault(k[,d]) -&gt; D.get(k,d), also set D[k]=d if k not in D
 |  
 |  values(...)
 |      D.values() -&gt; list of D&#39;s values
 |  
 |  viewitems(...)
 |      D.viewitems() -&gt; a set-like object providing a view on D&#39;s items
 |  
 |  viewkeys(...)
 |      D.viewkeys() -&gt; a set-like object providing a view on D&#39;s keys
 |  
 |  viewvalues(...)
 |      D.viewvalues() -&gt; an object providing a view on D&#39;s values
 |  
 |  ----------------------------------------------------------------------
 |  Data and other attributes inherited from __builtin__.dict:
 |  
 |  __hash__ = None
 |  
 |  __new__ = &lt;built-in method __new__ of type object&gt;
 |      T.__new__(S, ...) -&gt; a new object with type S, a subtype of T

</pre>
</div>
</div>

</div>
</div>

</div>
<div class="cell border-box-sizing text_cell rendered"><div class="prompt input_prompt">
</div>
<div class="inner_cell">
<div class="text_cell_render border-box-sizing rendered_html">
<p>So, changing the axis type is as simple as adding a key-value pair in <code>XAxis</code> (or <code>YAxis</code>).</p>

</div>
</div>
</div>
<div class="cell border-box-sizing text_cell rendered"><div class="prompt input_prompt">
</div>
<div class="inner_cell">
<div class="text_cell_render border-box-sizing rendered_html">
<h5 id="Hover-mode-options">Hover-mode options<a class="anchor-link" href="#Hover-mode-options">&#182;</a></h5>
</div>
</div>
</div>
<div class="cell border-box-sizing text_cell rendered"><div class="prompt input_prompt">
</div>
<div class="inner_cell">
<div class="text_cell_render border-box-sizing rendered_html">
<p>Moreover, let's utilize Plotly's intractability by adding some hover text (the <code>'text'</code> key in <code>Scatter</code>) and tweaking the plot's <em>hover mode</em>.</p>

</div>
</div>
</div>
<div class="cell border-box-sizing code_cell rendered">
<div class="input">
<div class="prompt input_prompt">In&nbsp;[12]:</div>
<div class="inner_cell">
    <div class="input_area">
<div class=" highlight hl-ipython3"><pre><span></span><span class="n">help</span><span class="p">(</span><span class="n">Layout</span><span class="p">)</span>  <span class="c1"># call help()! </span>

<span class="c1"># notice &#39;hovermode&#39;!</span>
</pre></div>

</div>
</div>
</div>

<div class="output_wrapper">
<div class="output">


<div class="output_area">

<div class="prompt"></div>


<div class="output_subarea output_stream output_stdout output_text">
<pre>Help on class Layout in module plotly.graph_objs.graph_objs:

class Layout(PlotlyDict)
 |  A dictionary-like object containing specification of the layout of a plotly
 |      figure.
 |  
 |  Online examples:
 |  
 |      https://plot.ly/python/figure-labels/
 |      https://plot.ly/python/axes/
 |      https://plot.ly/python/bar-charts/
 |      https://plot.ly/python/log-plot/
 |  
 |  Parent key:
 |  
 |      layout
 |  
 |  Quick method reference:
 |  
 |      Layout.update(changes)
 |      Layout.strip_style()
 |      Layout.get_data()
 |      Layout.to_graph_objs()
 |      Layout.validate()
 |      Layout.to_string()
 |      Layout.force_clean()
 |  
 |  Valid keys:
 |  
 |      title [required=False] (value=a string):
 |          The title of the figure.
 |  
 |      titlefont [required=False] (value=Font object | dictionary-like object):
 |          Links a dictionary-like object describing the font settings of the
 |          figure&#39;s title.
 |  
 |          For more, run `help(plotly.graph_objs.Font)`
 |  
 |      font [required=False] (value=Font object | dictionary-like object):
 |          Links a dictionary-like object describing the global font settings
 |          for this figure (e.g. all axis titles and labels).
 |  
 |          For more, run `help(plotly.graph_objs.Font)`
 |  
 |      showlegend [required=False] (value=a boolean: True | False):
 |          Toggle whether or not the legend will be shown in this figure.
 |  
 |      autosize [required=False] (value=a boolean: True | False):
 |          Toggle whether or not the dimensions of the figure are automatically
 |          picked by Plotly. Plotly picks figure&#39;s dimensions as a function of
 |          your machine&#39;s display resolution. Once &#39;autosize&#39; is set to False,
 |          the figure&#39;s dimensions can be set with &#39;width&#39; and &#39;height&#39;.
 |  
 |      width [required=False] (value=number: x &gt; 0):
 |          Sets the width in pixels of the figure you are generating.
 |  
 |      height [required=False] (value=number: x &gt; 0):
 |          Sets the height in pixels of the figure you are generating.
 |  
 |      xaxis [required=False] (value=XAxis object | dictionary-like object):
 |          Links a dictionary-like object describing an x-axis (i.e. an
 |          horizontal axis). The first XAxis object can be entered into
 |          &#39;layout&#39; by linking it to &#39;xaxis&#39; OR &#39;xaxis1&#39;, both keys are
 |          identical to Plotly.  To create references other than x-axes, you
 |          need to define them in &#39;layout&#39; using keys &#39;xaxis2&#39;, &#39;xaxis3&#39; and so
 |          on. Note that in 3D plots, XAxis objects must be linked from a Scene
 |          object.
 |  
 |          For more, run `help(plotly.graph_objs.XAxis)`
 |  
 |      yaxis [required=False] (value=YAxis object | dictionary-like object):
 |          Links a dictionary-like object describing an y-axis (i.e. an
 |          vertical axis). The first YAxis object can be entered into &#39;layout&#39;
 |          by linking it to &#39;yaxis&#39; OR &#39;yaxis1&#39;, both keys are identical to
 |          Plotly.  To create references other than y-axes, you need to define
 |          them in &#39;layout&#39; using keys &#39;yaxis2&#39;, &#39;yaxis3&#39; and so on. Note that
 |          in 3D plots, YAxis objects must be linked from a Scene object.
 |  
 |          For more, run `help(plotly.graph_objs.YAxis)`
 |  
 |      legend [required=False] (value=Legend object | dictionary-like object):
 |          Links a dictionary-like object containing the legend parameters for
 |          this figure.
 |  
 |          For more, run `help(plotly.graph_objs.Legend)`
 |  
 |      annotations [required=False] (value=Annotations object | list-like
 |      object of one or several dictionary-like object):
 |          Links a list-like object that contains one or multiple annotation
 |          dictionary-like objects.
 |  
 |          For more, run `help(plotly.graph_objs.Annotations)`
 |  
 |      margin [required=False] (value=Margin object | dictionary-like object):
 |          Links a dictionary-like object containing the margin parameters for
 |          this figure.
 |  
 |          For more, run `help(plotly.graph_objs.Margin)`
 |  
 |      paper_bgcolor [required=False] (value=a string describing color):
 |          Sets the color of the figure&#39;s paper (i.e. area representing the
 |          canvas of the figure).
 |  
 |          Examples:
 |              &#39;green&#39; | &#39;rgb(0, 255, 0)&#39; | &#39;rgba(0, 255, 0, 0.3)&#39; |
 |              &#39;hsl(120,100%,50%)&#39; | &#39;hsla(120,100%,50%,0.3)&#39; | &#39;#434F1D&#39;
 |  
 |      plot_bgcolor [required=False] (value=a string describing color):
 |          Sets the background color of the plot (i.e. the area laying inside
 |          this figure&#39;s axes.
 |  
 |          Examples:
 |              &#39;green&#39; | &#39;rgb(0, 255, 0)&#39; | &#39;rgba(0, 255, 0, 0.3)&#39; |
 |              &#39;hsl(120,100%,50%)&#39; | &#39;hsla(120,100%,50%,0.3)&#39; | &#39;#434F1D&#39;
 |  
 |      hovermode [required=False] (value=&#39;closest&#39; | &#39;x&#39; | &#39;y&#39;):
 |          Sets this figure&#39;s behavior when a user hovers over it. When set to
 |          &#39;x&#39;, all data sharing the same &#39;x&#39; coordinate will be shown on
 |          screen with corresponding trace labels. When set to &#39;y&#39; all data
 |          sharing the same &#39;y&#39; coordinates will be shown on the screen with
 |          corresponding trace labels. When set to &#39;closest&#39;, information about
 |          the data point closest to where the viewer is hovering will appear.
 |  
 |      dragmode [required=False] (value=&#39;zoom&#39; | &#39;pan&#39; | &#39;rotate&#39; (in 3D
 |      plots)):
 |          Sets this figure&#39;s behavior when a user preforms a mouse &#39;drag&#39; in
 |          the plot area. When set to &#39;zoom&#39;, a portion of the plot will be
 |          highlighted, when the viewer exits the drag, this highlighted
 |          section will be zoomed in on. When set to &#39;pan&#39;, data in the plot
 |          will move along with the viewers dragging motions. A user can always
 |          depress the &#39;shift&#39; key to access the whatever functionality has not
 |          been set as the default. In 3D plots, the default drag mode is
 |          &#39;rotate&#39; which rotates the scene.
 |  
 |      separators [required=False] (value=a two-character string):
 |          Sets the decimal (the first character) and thousands (the second
 |          character) separators to be displayed on this figure&#39;s tick labels
 |          and hover mode. This is meant for internationalization purposes. For
 |          example, if &#39;separator&#39; is set to &#39;, &#39;, then decimals are separated
 |          by commas and thousands by spaces. One may have to set
 |          &#39;exponentformat&#39; to &#39;none&#39; in the corresponding axis object(s) to
 |          see the effects.
 |  
 |      barmode [required=False] (value=&#39;stack&#39; | &#39;group&#39; | &#39;overlay&#39;):
 |          For bar and histogram plots only. This sets how multiple bar objects
 |          are plotted together. In other words, this defines how bars at the
 |          same location appear on the plot. If set to &#39;stack&#39; the bars are
 |          stacked on top of one another. If set to &#39;group&#39;, the bars are
 |          plotted next to one another, centered around the shared location. If
 |          set to &#39;overlay&#39;, the bars are simply plotted over one another, you
 |          may need to set the opacity to see this.
 |  
 |      bargap [required=False] (value=number: x in [0, 1)):
 |          For bar and histogram plots only. Sets the gap between bars (or sets
 |          of bars) at different locations.
 |  
 |      bargroupgap [required=False] (value=number: x in [0, 1)):
 |          For bar and histogram plots only. Sets the gap between bars in the
 |          same group. That is, when multiple bar objects are plotted and share
 |          the same locations, this sets the distance between bars at each
 |          location.
 |  
 |      boxmode [required=False] (value=&#39;overlay&#39; | &#39;group&#39;):
 |          For box plots only. Sets how groups of box plots appear. If set to
 |          &#39;overlay&#39;, a group of boxes will be plotted directly on top of one
 |          another at their specified location. If set to &#39;group&#39;, the boxes
 |          will be centered around their shared location, but they will not
 |          overlap.
 |  
 |      boxgap [required=False] (value=number: x in [0, 1)):
 |          For box plots only. Sets the gap between boxes at different
 |          locations (i.e. x-labels). If there are multiple boxes at a single
 |          x-label, then this sets the gap between these sets of boxes.For
 |          example, if 0, then there is no gap between boxes. If 0.25, then
 |          this gap occupies 25% of the available space and the box width (or
 |          width of the set of boxes) occupies the remaining 75%.
 |  
 |      boxgroupgap [required=False] (value=number: x in [0, 1)):
 |          For box plots only. Sets the gap between boxes in the same group,
 |          where a group is the set of boxes with the same location (i.e.
 |          x-label). For example, if 0, then there is no gap between boxes. If
 |          0.25, then this gap occupies 25% of the available space and the box
 |          width occupies the remaining 75%.
 |  
 |      radialaxis [required=False] (value=RadialAxis object | dictionary-like
 |      object):
 |          Links a dictionary-like object describing the radial axis in a polar
 |          plot.
 |  
 |          For more, run `help(plotly.graph_objs.RadialAxis)`
 |  
 |      angularaxis [required=False] (value=AngularAxis object | dictionary-like
 |      object):
 |          Links a dictionary-like object describing the angular axis in a
 |          polar plot.
 |  
 |          For more, run `help(plotly.graph_objs.AngularAxis)`
 |  
 |      scene [required=False] (value=Scene object | dictionary-like object):
 |          Links a dictionary-like object describing a scene in a 3D plot. The
 |          first Scene object can be entered into &#39;layout&#39; by linking it to
 |          &#39;scene&#39; OR &#39;scene1&#39;, both keys are identical to Plotly. Link
 |          subsequent Scene objects using &#39;scene2&#39;, &#39;scene3&#39;, etc.
 |  
 |          For more, run `help(plotly.graph_objs.Scene)`
 |  
 |      direction [required=False] (value=&#39;clockwise&#39; | &#39;counterclockwise&#39;):
 |          For polar plots only. Sets the direction corresponding to positive
 |          angles.
 |  
 |      orientation [required=False] (value=number: x in [-360, 360]):
 |          For polar plots only. Rotates the entire polar by the given angle.
 |  
 |      hidesources [required=False] (value=a boolean: True | False):
 |          Toggle whether or not an annotation citing the data source is placed
 |          at the bottom-right corner of the figure.This key has an effect only
 |          on graphs that have been generated from forked graphs from plot.ly.
 |  
 |  Method resolution order:
 |      Layout
 |      PlotlyDict
 |      __builtin__.dict
 |      __builtin__.object
 |  
 |  Methods defined here:
 |  
 |  __init__(self, *args, **kwargs)
 |  
 |  force_clean(self, caller=True)
 |      Attempts to convert to graph_objs and call force_clean() on values.
 |      
 |      Calling force_clean() on a Layout will ensure that the object is
 |      valid and may be sent to plotly. This process will also remove any
 |      entries that end up with a length == 0.
 |      
 |      Careful! This will delete any invalid entries *silently*.
 |      
 |      This method differs from the parent (PlotlyDict) method in that it
 |      must check for an infinite number of possible axis keys, i.e. &#39;xaxis&#39;,
 |      &#39;xaxis1&#39;, &#39;xaxis2&#39;, &#39;xaxis3&#39;, etc. Therefore, it cannot make a call
 |      to super...
 |  
 |  to_graph_objs(self, caller=True)
 |      Walk obj, convert dicts and lists to plotly graph objs.
 |      
 |      For each key in the object, if it corresponds to a special key that
 |      should be associated with a graph object, the ordinary dict or list
 |      will be reinitialized as a special PlotlyDict or PlotlyList of the
 |      appropriate `kind`.
 |  
 |  to_string(self, level=0, indent=4, eol=&#39;\n&#39;, pretty=True, max_chars=80)
 |      Returns a formatted string showing graph_obj constructors.
 |      
 |      Example:
 |      
 |          print(obj.to_string())
 |      
 |      Keyword arguments:
 |      level (default = 0) -- set number of indentations to start with
 |      indent (default = 4) -- set indentation amount
 |      eol (default = &#39;\n&#39;) -- set end of line character(s)
 |      pretty (default = True) -- curtail long list output with a &#39;...&#39;
 |      max_chars (default = 80) -- set max characters per line
 |  
 |  ----------------------------------------------------------------------
 |  Methods inherited from PlotlyDict:
 |  
 |  __setitem__(self, key, value)
 |  
 |  get_data(self)
 |      Returns the JSON for the plot with non-data elements stripped.
 |  
 |  get_ordered(self, caller=True)
 |  
 |  strip_style(self)
 |      Strip style from the current representation.
 |      
 |      All PlotlyDicts and PlotlyLists are guaranteed to survive the
 |      stripping process, though they made be left empty. This is allowable.
 |      
 |      Keys that will be stripped in this process are tagged with
 |      `&#39;type&#39;: &#39;style&#39;` in graph_objs_meta.json.
 |      
 |      This process first attempts to convert nested collections from dicts
 |      or lists to subclasses of PlotlyList/PlotlyDict. This process forces
 |      a validation, which may throw exceptions.
 |      
 |      Then, each of these objects call `strip_style` on themselves and so
 |      on, recursively until the entire structure has been validated and
 |      stripped.
 |  
 |  update(self, dict1=None, **dict2)
 |      Update current dict with dict1 and then dict2.
 |      
 |      This recursively updates the structure of the original dictionary-like
 |      object with the new entries in the second and third objects. This
 |      allows users to update with large, nested structures.
 |      
 |      Note, because the dict2 packs up all the keyword arguments, you can
 |      specify the changes as a list of keyword agruments.
 |      
 |      Examples:
 |      # update with dict
 |      obj = Layout(title=&#39;my title&#39;, xaxis=XAxis(range=[0,1], domain=[0,1]))
 |      update_dict = dict(title=&#39;new title&#39;, xaxis=dict(domain=[0,.8]))
 |      obj.update(update_dict)
 |      obj
 |      {&#39;title&#39;: &#39;new title&#39;, &#39;xaxis&#39;: {&#39;range&#39;: [0,1], &#39;domain&#39;: [0,.8]}}
 |      
 |      # update with list of keyword arguments
 |      obj = Layout(title=&#39;my title&#39;, xaxis=XAxis(range=[0,1], domain=[0,1]))
 |      obj.update(title=&#39;new title&#39;, xaxis=dict(domain=[0,.8]))
 |      obj
 |      {&#39;title&#39;: &#39;new title&#39;, &#39;xaxis&#39;: {&#39;range&#39;: [0,1], &#39;domain&#39;: [0,.8]}}
 |      
 |      This &#39;fully&#39; supports duck-typing in that the call signature is
 |      identical, however this differs slightly from the normal update
 |      method provided by Python&#39;s dictionaries.
 |  
 |  validate(self, caller=True)
 |      Recursively check the validity of the keys in a PlotlyDict.
 |      
 |      The valid keys constitute the entries in each object
 |      dictionary in graph_objs_meta.json
 |      
 |      The validation process first requires that all nested collections be
 |      converted to the appropriate subclass of PlotlyDict/PlotlyList. Then,
 |      each of these objects call `validate` and so on, recursively,
 |      until the entire object has been validated.
 |  
 |  ----------------------------------------------------------------------
 |  Data descriptors inherited from PlotlyDict:
 |  
 |  __dict__
 |      dictionary for instance variables (if defined)
 |  
 |  __weakref__
 |      list of weak references to the object (if defined)
 |  
 |  ----------------------------------------------------------------------
 |  Methods inherited from __builtin__.dict:
 |  
 |  __cmp__(...)
 |      x.__cmp__(y) &lt;==&gt; cmp(x,y)
 |  
 |  __contains__(...)
 |      D.__contains__(k) -&gt; True if D has a key k, else False
 |  
 |  __delitem__(...)
 |      x.__delitem__(y) &lt;==&gt; del x[y]
 |  
 |  __eq__(...)
 |      x.__eq__(y) &lt;==&gt; x==y
 |  
 |  __ge__(...)
 |      x.__ge__(y) &lt;==&gt; x&gt;=y
 |  
 |  __getattribute__(...)
 |      x.__getattribute__(&#39;name&#39;) &lt;==&gt; x.name
 |  
 |  __getitem__(...)
 |      x.__getitem__(y) &lt;==&gt; x[y]
 |  
 |  __gt__(...)
 |      x.__gt__(y) &lt;==&gt; x&gt;y
 |  
 |  __iter__(...)
 |      x.__iter__() &lt;==&gt; iter(x)
 |  
 |  __le__(...)
 |      x.__le__(y) &lt;==&gt; x&lt;=y
 |  
 |  __len__(...)
 |      x.__len__() &lt;==&gt; len(x)
 |  
 |  __lt__(...)
 |      x.__lt__(y) &lt;==&gt; x&lt;y
 |  
 |  __ne__(...)
 |      x.__ne__(y) &lt;==&gt; x!=y
 |  
 |  __repr__(...)
 |      x.__repr__() &lt;==&gt; repr(x)
 |  
 |  __sizeof__(...)
 |      D.__sizeof__() -&gt; size of D in memory, in bytes
 |  
 |  clear(...)
 |      D.clear() -&gt; None.  Remove all items from D.
 |  
 |  copy(...)
 |      D.copy() -&gt; a shallow copy of D
 |  
 |  fromkeys(...)
 |      dict.fromkeys(S[,v]) -&gt; New dict with keys from S and values equal to v.
 |      v defaults to None.
 |  
 |  get(...)
 |      D.get(k[,d]) -&gt; D[k] if k in D, else d.  d defaults to None.
 |  
 |  has_key(...)
 |      D.has_key(k) -&gt; True if D has a key k, else False
 |  
 |  items(...)
 |      D.items() -&gt; list of D&#39;s (key, value) pairs, as 2-tuples
 |  
 |  iteritems(...)
 |      D.iteritems() -&gt; an iterator over the (key, value) items of D
 |  
 |  iterkeys(...)
 |      D.iterkeys() -&gt; an iterator over the keys of D
 |  
 |  itervalues(...)
 |      D.itervalues() -&gt; an iterator over the values of D
 |  
 |  keys(...)
 |      D.keys() -&gt; list of D&#39;s keys
 |  
 |  pop(...)
 |      D.pop(k[,d]) -&gt; v, remove specified key and return the corresponding value.
 |      If key is not found, d is returned if given, otherwise KeyError is raised
 |  
 |  popitem(...)
 |      D.popitem() -&gt; (k, v), remove and return some (key, value) pair as a
 |      2-tuple; but raise KeyError if D is empty.
 |  
 |  setdefault(...)
 |      D.setdefault(k[,d]) -&gt; D.get(k,d), also set D[k]=d if k not in D
 |  
 |  values(...)
 |      D.values() -&gt; list of D&#39;s values
 |  
 |  viewitems(...)
 |      D.viewitems() -&gt; a set-like object providing a view on D&#39;s items
 |  
 |  viewkeys(...)
 |      D.viewkeys() -&gt; a set-like object providing a view on D&#39;s keys
 |  
 |  viewvalues(...)
 |      D.viewvalues() -&gt; an object providing a view on D&#39;s values
 |  
 |  ----------------------------------------------------------------------
 |  Data and other attributes inherited from __builtin__.dict:
 |  
 |  __hash__ = None
 |  
 |  __new__ = &lt;built-in method __new__ of type object&gt;
 |      T.__new__(S, ...) -&gt; a new object with type S, a subtype of T

</pre>
</div>
</div>

</div>
</div>

</div>
<div class="cell border-box-sizing text_cell rendered"><div class="prompt input_prompt">
</div>
<div class="inner_cell">
<div class="text_cell_render border-box-sizing rendered_html">
<p>By default, when hovering over a data point Plotly prints its y-value near the cursor and its x-value on the x-axis. The default behavior corresponds to <code>'hovermode':'x'</code> in <code>Layout</code>. In contrast, with <code>'hovermode':'y'</code>,  Plotly prints x-values near the cursor and y-values on the y-axis.</p>
<p>Alternatively, when <code>'hovermode'</code> is set to <code>'closest'</code>, information about the data point closest to where the viewer is hovering appears next to the cursor. Plotly prints this info inside the same text box as the text linked to the <code>'text'</code> key (if defined) of the trace object in question.</p>
<p>So, we make a few updates to the current figure object:</p>

</div>
</div>
</div>
<div class="cell border-box-sizing code_cell rendered">
<div class="input">
<div class="prompt input_prompt">In&nbsp;[13]:</div>
<div class="inner_cell">
    <div class="input_area">
<div class=" highlight hl-ipython3"><pre><span></span><span class="c1"># Update &#39;xaxis&#39; key, set it to log type and with a power exponent format</span>
<span class="n">fig</span><span class="p">[</span><span class="s1">&#39;layout&#39;</span><span class="p">][</span><span class="s1">&#39;xaxis&#39;</span><span class="p">]</span><span class="o">.</span><span class="n">update</span><span class="p">(</span>
    <span class="nb">type</span><span class="o">=</span><span class="s1">&#39;log&#39;</span><span class="p">,</span>
    <span class="n">exponentformat</span><span class="o">=</span><span class="s1">&#39;power&#39;</span><span class="p">,</span>
    <span class="n">showexponent</span><span class="o">=</span><span class="s1">&#39;all&#39;</span>
<span class="p">)</span>

<span class="c1"># Update the layout object</span>
<span class="n">fig</span><span class="p">[</span><span class="s1">&#39;layout&#39;</span><span class="p">]</span><span class="o">.</span><span class="n">update</span><span class="p">(</span>
    <span class="n">hovermode</span><span class="o">=</span><span class="s1">&#39;closest&#39;</span><span class="p">,</span>  <span class="c1"># (!) hover -&gt; closest data pt</span>
    <span class="n">showlegend</span><span class="o">=</span><span class="kc">False</span><span class="p">,</span>     <span class="c1"># remove legend (info in hover)</span>
    <span class="n">autosize</span><span class="o">=</span><span class="kc">False</span><span class="p">,</span>       <span class="c1"># turn off autosize</span>
    <span class="n">width</span><span class="o">=</span><span class="mi">650</span><span class="p">,</span>            <span class="c1"># plot width</span>
    <span class="n">height</span><span class="o">=</span><span class="mi">500</span><span class="p">,</span>           <span class="c1"># plot height</span>
<span class="p">)</span>
</pre></div>

</div>
</div>
</div>

</div>
<div class="cell border-box-sizing text_cell rendered"><div class="prompt input_prompt">
</div>
<div class="inner_cell">
<div class="text_cell_render border-box-sizing rendered_html">
<p>Next, add hover text presenting the values of all the variables in the dataset at each data point on our figure. To do so, we need to update each trace object as follows:</p>

</div>
</div>
</div>
<div class="cell border-box-sizing code_cell rendered">
<div class="input">
<div class="prompt input_prompt">In&nbsp;[14]:</div>
<div class="inner_cell">
    <div class="input_area">
<div class=" highlight hl-ipython3"><pre><span></span><span class="c1"># Define a hover-text generating function (returns a list of strings)</span>
<span class="k">def</span> <span class="nf">make_text</span><span class="p">(</span><span class="n">X</span><span class="p">):</span>
    <span class="k">return</span> <span class="s1">&#39;Country: </span><span class="si">%s</span><span class="se">\</span>
<span class="s1">    &lt;br&gt;Life Expectancy: </span><span class="si">%s</span><span class="s1"> years</span><span class="se">\</span>
<span class="s1">    &lt;br&gt;GDP per capita: </span><span class="si">%s</span><span class="s1"> $</span><span class="se">\</span>
<span class="s1">    &lt;br&gt;Population: </span><span class="si">%s</span><span class="s1"> million&#39;</span>\
    <span class="o">%</span> <span class="p">(</span><span class="n">X</span><span class="p">[</span><span class="s1">&#39;country&#39;</span><span class="p">],</span> <span class="n">X</span><span class="p">[</span><span class="s1">&#39;lifeExp&#39;</span><span class="p">],</span> <span class="n">X</span><span class="p">[</span><span class="s1">&#39;gdpPercap&#39;</span><span class="p">],</span> <span class="n">X</span><span class="p">[</span><span class="s1">&#39;pop&#39;</span><span class="p">]</span><span class="o">/</span><span class="mf">1e6</span><span class="p">)</span>     
    
<span class="c1"># Again, group data frame by continent sub-dataframe (named X),</span>
<span class="c1">#   make one trace object per continent and append to data object</span>
<span class="n">i_trace</span> <span class="o">=</span> <span class="mi">0</span>                                        <span class="c1"># init. trace counter</span>

<span class="k">for</span> <span class="n">continent</span><span class="p">,</span> <span class="n">X</span> <span class="ow">in</span> <span class="n">df_year</span><span class="o">.</span><span class="n">groupby</span><span class="p">(</span><span class="s1">&#39;continent&#39;</span><span class="p">):</span>
    <span class="n">text</span> <span class="o">=</span> <span class="n">X</span><span class="o">.</span><span class="n">apply</span><span class="p">(</span><span class="n">make_text</span><span class="p">,</span> <span class="n">axis</span><span class="o">=</span><span class="mi">1</span><span class="p">)</span><span class="o">.</span><span class="n">tolist</span><span class="p">()</span>     <span class="c1"># get list of hover texts</span>
    <span class="n">fig</span><span class="p">[</span><span class="s1">&#39;data&#39;</span><span class="p">][</span><span class="n">i_trace</span><span class="p">]</span><span class="o">.</span><span class="n">update</span><span class="p">(</span><span class="n">text</span><span class="o">=</span><span class="n">text</span><span class="p">)</span>         <span class="c1"># update trace i</span>
    <span class="n">i_trace</span> <span class="o">+=</span> <span class="mi">1</span>                                   <span class="c1"># inc. trace counter</span>
</pre></div>

</div>
</div>
</div>

</div>
<div class="cell border-box-sizing text_cell rendered"><div class="prompt input_prompt">
</div>
<div class="inner_cell">
<div class="text_cell_render border-box-sizing rendered_html">
<p>The <code>apply()</code> dataframe method loops through every row (with <code>axis=1</code>) and calls a given function, in our case <code>make_text()</code>.</p>
<p>Before sending the figure object to Plotly, add an annotation citing the data source.</p>

</div>
</div>
</div>
<div class="cell border-box-sizing code_cell rendered">
<div class="input">
<div class="prompt input_prompt">In&nbsp;[15]:</div>
<div class="inner_cell">
    <div class="input_area">
<div class=" highlight hl-ipython3"><pre><span></span><span class="c1"># Update layout with an annotation object in &#39;annotations&#39; (linked to a list)</span>
<span class="n">fig</span><span class="p">[</span><span class="s1">&#39;layout&#39;</span><span class="p">]</span><span class="o">.</span><span class="n">update</span><span class="p">(</span><span class="n">annotations</span><span class="o">=</span><span class="n">Annotations</span><span class="p">([</span>
    <span class="n">Annotation</span><span class="p">(</span>
        <span class="n">text</span><span class="o">=</span><span class="s1">&#39;Data source: GapMinder 2007&#39;</span><span class="p">,</span>  <span class="c1"># annotation text</span>
        <span class="n">showarrow</span><span class="o">=</span><span class="kc">False</span><span class="p">,</span>                     <span class="c1"># remove arrow </span>
        <span class="n">xref</span><span class="o">=</span><span class="s1">&#39;paper&#39;</span><span class="p">,</span>   <span class="c1"># use paper coords</span>
        <span class="n">yref</span><span class="o">=</span><span class="s1">&#39;paper&#39;</span><span class="p">,</span>   <span class="c1">#  for both x and y coordinates</span>
        <span class="n">x</span><span class="o">=</span><span class="mf">0.02</span><span class="p">,</span>         <span class="c1"># x-coord (slightly of plotting area edge)</span>
        <span class="n">y</span><span class="o">=</span><span class="mf">0.98</span><span class="p">,</span>         <span class="c1"># y-coord (slightly of plotting area edge)</span>
        <span class="n">font</span><span class="o">=</span><span class="n">Font</span><span class="p">(</span><span class="n">size</span><span class="o">=</span><span class="mi">14</span><span class="p">),</span>   <span class="c1"># increase font size (default is 12)</span>
        <span class="n">bgcolor</span><span class="o">=</span><span class="s1">&#39;#FFFFFF&#39;</span><span class="p">,</span>    <span class="c1"># white background</span>
        <span class="n">borderpad</span><span class="o">=</span><span class="mi">4</span>           <span class="c1"># set border/text space (in pixels)</span>
    <span class="p">)</span>
<span class="p">]))</span>  

<span class="c1"># Update title</span>
<span class="n">title</span> <span class="o">=</span> <span class="s2">&quot;Fig 3.1b: Hans Rosling&#39;s Bubble Chart for the year </span><span class="si">{}</span><span class="s2">&quot;</span><span class="o">.</span><span class="n">format</span><span class="p">(</span><span class="n">the_year</span><span class="p">)</span>
<span class="n">fig</span><span class="p">[</span><span class="s1">&#39;layout&#39;</span><span class="p">]</span><span class="o">.</span><span class="n">update</span><span class="p">(</span><span class="n">title</span><span class="o">=</span><span class="n">title</span><span class="p">)</span>
</pre></div>

</div>
</div>
</div>

</div>
<div class="cell border-box-sizing text_cell rendered"><div class="prompt input_prompt">
</div>
<div class="inner_cell">
<div class="text_cell_render border-box-sizing rendered_html">
<p>This yields</p>

</div>
</div>
</div>
<div class="cell border-box-sizing code_cell rendered">
<div class="input">
<div class="prompt input_prompt">In&nbsp;[16]:</div>
<div class="inner_cell">
    <div class="input_area">
<div class=" highlight hl-ipython3"><pre><span></span><span class="c1"># (@) Send to Plotly and show in notebook</span>
<span class="n">py</span><span class="o">.</span><span class="n">iplot</span><span class="p">(</span><span class="n">fig</span><span class="p">,</span> <span class="n">filename</span><span class="o">=</span><span class="s1">&#39;s3_life-gdp-log&#39;</span><span class="p">)</span>    
</pre></div>

</div>
</div>
</div>

<div class="output_wrapper">
<div class="output">


<div class="output_area">

<div class="prompt output_prompt">Out[16]:</div>



<div class="output_html rendered_html output_subarea output_execute_result">
<iframe id="igraph" scrolling="no" style="border:none;"seamless="seamless" src="https://plot.ly/~etpinard/191.embed" height="525" width="100%"></iframe>
</div>

</div>

</div>
</div>

</div>
<div class="cell border-box-sizing text_cell rendered"><div class="prompt input_prompt">
</div>
<div class="inner_cell">
<div class="text_cell_render border-box-sizing rendered_html">
<p>Not a bad-looking plot.</p>
<p>Spend some time hovering over the bubbles and admire Plotly's interactibility!</p>

</div>
</div>
</div>
<div class="cell border-box-sizing text_cell rendered"><div class="prompt input_prompt">
</div>
<div class="inner_cell">
<div class="text_cell_render border-box-sizing rendered_html">
<p>If you are feeling adventurous, jump to <a href="https://plot.ly/python/streaming-tutorial" target="_blank">section 7</a> to learn how to make an <a href="https://plot.ly/python/s7_streaming/s7_streaming_p3-bubbles.ipynb" target="_blank">annimated version</a> of Hans Rosling's bubble chart with Plotly's streaming API.</p>

</div>
</div>
</div>
<div class="cell border-box-sizing text_cell rendered"><div class="prompt input_prompt">
</div>
<div class="inner_cell">
<div class="text_cell_render border-box-sizing rendered_html">
<h3 id="3.2-Small-multiple-bubble-chart">3.2 Small multiple bubble chart<a class="anchor-link" href="#3.2-Small-multiple-bubble-chart">&#182;</a></h3>
</div>
</div>
</div>
<div class="cell border-box-sizing text_cell rendered"><div class="prompt input_prompt">
</div>
<div class="inner_cell">
<div class="text_cell_render border-box-sizing rendered_html">
<p>Even though we managed to incorporate a lot of information in our first two bubble charts, only one year's worth of data could be displayed. Our next plot will feature the time evolution of the GDP per capita variable in the GapMinder dataset using a <em>small multiple</em>.</p>
<p>A small multiple is a series of similar graphics or charts plotted as subplots allowing them to be easily compared with one another. In our case, there will be one subplot per country. Each subplot will show GDP per capita versus time where the size of each data point will be a function of the life expectancy of that year.</p>
<p>So first, find the start and end year as well as the number of countries in the dataset:</p>

</div>
</div>
</div>
<div class="cell border-box-sizing code_cell rendered">
<div class="input">
<div class="prompt input_prompt">In&nbsp;[17]:</div>
<div class="inner_cell">
    <div class="input_area">
<div class=" highlight hl-ipython3"><pre><span></span><span class="c1"># Start year, end year and number of year is dataset</span>
<span class="n">df</span><span class="p">[</span><span class="s1">&#39;year&#39;</span><span class="p">]</span><span class="o">.</span><span class="n">min</span><span class="p">(),</span> <span class="n">df</span><span class="p">[</span><span class="s1">&#39;year&#39;</span><span class="p">]</span><span class="o">.</span><span class="n">max</span><span class="p">(),</span> <span class="nb">len</span><span class="p">(</span><span class="n">df</span><span class="p">[</span><span class="s1">&#39;year&#39;</span><span class="p">]</span><span class="o">.</span><span class="n">unique</span><span class="p">())</span>
</pre></div>

</div>
</div>
</div>

<div class="output_wrapper">
<div class="output">


<div class="output_area">

<div class="prompt output_prompt">Out[17]:</div>




<div class="output_text output_subarea output_execute_result">
<pre>(1952, 2007, 12)</pre>
</div>

</div>

</div>
</div>

</div>
<div class="cell border-box-sizing code_cell rendered">
<div class="input">
<div class="prompt input_prompt">In&nbsp;[18]:</div>
<div class="inner_cell">
    <div class="input_area">
<div class=" highlight hl-ipython3"><pre><span></span><span class="n">countries</span> <span class="o">=</span> <span class="n">df</span><span class="p">[</span><span class="s1">&#39;country&#39;</span><span class="p">]</span><span class="o">.</span><span class="n">unique</span><span class="p">()</span>            <span class="c1"># list of countries</span>
<span class="n">N_country</span> <span class="o">=</span> <span class="nb">len</span><span class="p">(</span><span class="n">countries</span><span class="p">)</span>                    <span class="c1"># number of countries</span>
<span class="n">N_rowcol</span> <span class="o">=</span> <span class="nb">int</span><span class="p">(</span><span class="n">np</span><span class="o">.</span><span class="n">ceil</span><span class="p">(</span><span class="n">np</span><span class="o">.</span><span class="n">sqrt</span><span class="p">(</span><span class="n">N_country</span><span class="p">)))</span>   <span class="c1"># size of the square subplot grid</span>

<span class="n">N_country</span><span class="p">,</span> <span class="n">N_rowcol</span>  <span class="c1"># print to screen</span>
</pre></div>

</div>
</div>
</div>

<div class="output_wrapper">
<div class="output">


<div class="output_area">

<div class="prompt output_prompt">Out[18]:</div>




<div class="output_text output_subarea output_execute_result">
<pre>(142, 12)</pre>
</div>

</div>

</div>
</div>

</div>
<div class="cell border-box-sizing text_cell rendered"><div class="prompt input_prompt">
</div>
<div class="inner_cell">
<div class="text_cell_render border-box-sizing rendered_html">
<p>There are 142 countries in the dataset and therefore, choosing to have a square small multiple for aesthetics, we need a 12 by 12 subplot grid to include every country. Consequently, there will be 2 empty subplots.</p>
<p>Next, generate a 12 by 12 subplot grid with shared x and y axes using <code>make_subplots()</code>:</p>

</div>
</div>
</div>
<div class="cell border-box-sizing code_cell rendered">
<div class="input">
<div class="prompt input_prompt">In&nbsp;[19]:</div>
<div class="inner_cell">
    <div class="input_area">
<div class=" highlight hl-ipython3"><pre><span></span><span class="c1"># Generate Figure object with 144 axes (12 rows x 12 columns),</span>
<span class="n">fig</span> <span class="o">=</span> <span class="n">tls</span><span class="o">.</span><span class="n">make_subplots</span><span class="p">(</span>
    <span class="n">rows</span><span class="o">=</span><span class="n">N_rowcol</span><span class="p">,</span>    <span class="c1"># number of rows</span>
    <span class="n">cols</span><span class="o">=</span><span class="n">N_rowcol</span><span class="p">,</span>    <span class="c1"># number of columns</span>
    <span class="n">shared_xaxes</span><span class="o">=</span><span class="kc">True</span><span class="p">,</span>
    <span class="n">shared_yaxes</span><span class="o">=</span><span class="kc">True</span>
<span class="p">)</span>
</pre></div>

</div>
</div>
</div>

<div class="output_wrapper">
<div class="output">


<div class="output_area">

<div class="prompt"></div>


<div class="output_subarea output_stream output_stdout output_text">
<pre>This is the format of your plot grid:
[ (1,1) x1,y1 ]      [ (1,2) x2,y1 ]      [ (1,3) x3,y1 ]      [ (1,4) x4,y1 ]      [ (1,5) x5,y1 ]      [ (1,6) x6,y1 ]      [ (1,7) x7,y1 ]      [ (1,8) x8,y1 ]      [ (1,9) x9,y1 ]      [ (1,10) x10,y1 ]    [ (1,11) x11,y1 ]    [ (1,12) x12,y1 ]  
[ (2,1) x1,y2 ]      [ (2,2) x2,y2 ]      [ (2,3) x3,y2 ]      [ (2,4) x4,y2 ]      [ (2,5) x5,y2 ]      [ (2,6) x6,y2 ]      [ (2,7) x7,y2 ]      [ (2,8) x8,y2 ]      [ (2,9) x9,y2 ]      [ (2,10) x10,y2 ]    [ (2,11) x11,y2 ]    [ (2,12) x12,y2 ]  
[ (3,1) x1,y3 ]      [ (3,2) x2,y3 ]      [ (3,3) x3,y3 ]      [ (3,4) x4,y3 ]      [ (3,5) x5,y3 ]      [ (3,6) x6,y3 ]      [ (3,7) x7,y3 ]      [ (3,8) x8,y3 ]      [ (3,9) x9,y3 ]      [ (3,10) x10,y3 ]    [ (3,11) x11,y3 ]    [ (3,12) x12,y3 ]  
[ (4,1) x1,y4 ]      [ (4,2) x2,y4 ]      [ (4,3) x3,y4 ]      [ (4,4) x4,y4 ]      [ (4,5) x5,y4 ]      [ (4,6) x6,y4 ]      [ (4,7) x7,y4 ]      [ (4,8) x8,y4 ]      [ (4,9) x9,y4 ]      [ (4,10) x10,y4 ]    [ (4,11) x11,y4 ]    [ (4,12) x12,y4 ]  
[ (5,1) x1,y5 ]      [ (5,2) x2,y5 ]      [ (5,3) x3,y5 ]      [ (5,4) x4,y5 ]      [ (5,5) x5,y5 ]      [ (5,6) x6,y5 ]      [ (5,7) x7,y5 ]      [ (5,8) x8,y5 ]      [ (5,9) x9,y5 ]      [ (5,10) x10,y5 ]    [ (5,11) x11,y5 ]    [ (5,12) x12,y5 ]  
[ (6,1) x1,y6 ]      [ (6,2) x2,y6 ]      [ (6,3) x3,y6 ]      [ (6,4) x4,y6 ]      [ (6,5) x5,y6 ]      [ (6,6) x6,y6 ]      [ (6,7) x7,y6 ]      [ (6,8) x8,y6 ]      [ (6,9) x9,y6 ]      [ (6,10) x10,y6 ]    [ (6,11) x11,y6 ]    [ (6,12) x12,y6 ]  
[ (7,1) x1,y7 ]      [ (7,2) x2,y7 ]      [ (7,3) x3,y7 ]      [ (7,4) x4,y7 ]      [ (7,5) x5,y7 ]      [ (7,6) x6,y7 ]      [ (7,7) x7,y7 ]      [ (7,8) x8,y7 ]      [ (7,9) x9,y7 ]      [ (7,10) x10,y7 ]    [ (7,11) x11,y7 ]    [ (7,12) x12,y7 ]  
[ (8,1) x1,y8 ]      [ (8,2) x2,y8 ]      [ (8,3) x3,y8 ]      [ (8,4) x4,y8 ]      [ (8,5) x5,y8 ]      [ (8,6) x6,y8 ]      [ (8,7) x7,y8 ]      [ (8,8) x8,y8 ]      [ (8,9) x9,y8 ]      [ (8,10) x10,y8 ]    [ (8,11) x11,y8 ]    [ (8,12) x12,y8 ]  
[ (9,1) x1,y9 ]      [ (9,2) x2,y9 ]      [ (9,3) x3,y9 ]      [ (9,4) x4,y9 ]      [ (9,5) x5,y9 ]      [ (9,6) x6,y9 ]      [ (9,7) x7,y9 ]      [ (9,8) x8,y9 ]      [ (9,9) x9,y9 ]      [ (9,10) x10,y9 ]    [ (9,11) x11,y9 ]    [ (9,12) x12,y9 ]  
[ (10,1) x1,y10 ]    [ (10,2) x2,y10 ]    [ (10,3) x3,y10 ]    [ (10,4) x4,y10 ]    [ (10,5) x5,y10 ]    [ (10,6) x6,y10 ]    [ (10,7) x7,y10 ]    [ (10,8) x8,y10 ]    [ (10,9) x9,y10 ]    [ (10,10) x10,y10 ]  [ (10,11) x11,y10 ]  [ (10,12) x12,y10 ]
[ (11,1) x1,y11 ]    [ (11,2) x2,y11 ]    [ (11,3) x3,y11 ]    [ (11,4) x4,y11 ]    [ (11,5) x5,y11 ]    [ (11,6) x6,y11 ]    [ (11,7) x7,y11 ]    [ (11,8) x8,y11 ]    [ (11,9) x9,y11 ]    [ (11,10) x10,y11 ]  [ (11,11) x11,y11 ]  [ (11,12) x12,y11 ]
[ (12,1) x1,y12 ]    [ (12,2) x2,y12 ]    [ (12,3) x3,y12 ]    [ (12,4) x4,y12 ]    [ (12,5) x5,y12 ]    [ (12,6) x6,y12 ]    [ (12,7) x7,y12 ]    [ (12,8) x8,y12 ]    [ (12,9) x9,y12 ]    [ (12,10) x10,y12 ]  [ (12,11) x11,y12 ]  [ (12,12) x12,y12 ]

</pre>
</div>
</div>

</div>
</div>

</div>
<div class="cell border-box-sizing text_cell rendered"><div class="prompt input_prompt">
</div>
<div class="inner_cell">
<div class="text_cell_render border-box-sizing rendered_html">
<p>By default, <code>make_subplots()</code> generates subplots axes row-wise starting from the top-left corner of the plot.</p>

</div>
</div>
</div>
<div class="cell border-box-sizing text_cell rendered"><div class="prompt input_prompt">
</div>
<div class="inner_cell">
<div class="text_cell_render border-box-sizing rendered_html">
<p>Next, define a trace-generating function. As before in <a href="#3.1-A-Plotly-version-of-Hans-Rosling&#39;s-bubble-chart">subsection 3.1</a> the color of each bubble is determined by the continent and hover text is added using <code>make_text()</code>:</p>

</div>
</div>
</div>
<div class="cell border-box-sizing code_cell rendered">
<div class="input">
<div class="prompt input_prompt">In&nbsp;[20]:</div>
<div class="inner_cell">
    <div class="input_area">
<div class=" highlight hl-ipython3"><pre><span></span><span class="c1"># (!) Set bubble size monde et size reference</span>
<span class="n">sizemode</span> <span class="o">=</span> <span class="s1">&#39;dimeter&#39;</span>
<span class="n">sizeref</span> <span class="o">=</span> <span class="n">df</span><span class="p">[</span><span class="s1">&#39;lifeExp&#39;</span><span class="p">]</span><span class="o">.</span><span class="n">max</span><span class="p">()</span> <span class="o">/</span> <span class="mi">30</span>

<span class="c1"># Define a trace-generating function (returns a Scatter object)</span>
<span class="k">def</span> <span class="nf">make_Scatter_gdp</span><span class="p">(</span><span class="n">i</span><span class="p">,</span> <span class="n">j</span><span class="p">,</span> <span class="n">x</span> <span class="p">,</span> <span class="n">y</span><span class="p">,</span> <span class="n">color</span><span class="p">,</span> <span class="n">sizes</span><span class="p">,</span> <span class="n">name</span><span class="p">,</span> <span class="n">text</span><span class="p">):</span>
    <span class="k">return</span> <span class="n">Scatter</span><span class="p">(</span>
        <span class="n">x</span><span class="o">=</span><span class="n">x</span><span class="p">,</span>   <span class="c1"># x coordinates</span>
        <span class="n">y</span><span class="o">=</span><span class="n">y</span><span class="p">,</span>   <span class="c1"># y coordinates</span>
        <span class="n">name</span><span class="o">=</span><span class="n">name</span><span class="p">,</span>        <span class="c1"># label name (on hover)</span>
        <span class="n">text</span><span class="o">=</span><span class="n">text</span><span class="p">,</span>        <span class="c1"># hover text</span>
        <span class="n">mode</span><span class="o">=</span><span class="s1">&#39;markers&#39;</span><span class="p">,</span>   <span class="c1"># marker pts only</span>
        <span class="n">marker</span><span class="o">=</span><span class="n">Marker</span><span class="p">(</span> 
            <span class="n">color</span><span class="o">=</span><span class="n">color</span><span class="p">,</span>        <span class="c1"># marker color</span>
            <span class="n">size</span><span class="o">=</span><span class="n">sizes</span><span class="p">,</span>         <span class="c1"># maker sizes (a list)</span>
            <span class="n">sizeref</span><span class="o">=</span><span class="n">sizeref</span><span class="p">,</span>    <span class="c1"># link sizeref</span>
            <span class="n">sizemode</span><span class="o">=</span><span class="n">sizemode</span><span class="p">,</span>  <span class="c1"># link sizemode</span>
            <span class="n">opacity</span><span class="o">=</span><span class="mf">0.6</span>         <span class="c1"># partly transparent markers</span>
        <span class="p">),</span>           
        <span class="n">xaxis</span><span class="o">=</span> <span class="s1">&#39;x</span><span class="si">{}</span><span class="s1">&#39;</span><span class="o">.</span><span class="n">format</span><span class="p">(</span><span class="n">i</span><span class="p">),</span>  <span class="c1"># (!) bind coordinate to given x-axis</span>
        <span class="n">yaxis</span><span class="o">=</span> <span class="s1">&#39;y</span><span class="si">{}</span><span class="s1">&#39;</span><span class="o">.</span><span class="n">format</span><span class="p">(</span><span class="n">j</span><span class="p">)</span>   <span class="c1"># (!) bind coordinate to given y-axis</span>
    <span class="p">)</span>
</pre></div>

</div>
</div>
</div>

</div>
<div class="cell border-box-sizing text_cell rendered"><div class="prompt input_prompt">
</div>
<div class="inner_cell">
<div class="text_cell_render border-box-sizing rendered_html">
<p>To try to limit the amount of redundant information on the plot, only subplots on the left-hand side of the subplot grid will have labelled y axes and only subplots on the bottom row of the subplot grid will have labelled x axes.</p>
<p>Additionally, for better comparisons between countries, all subplots will have the same axis range. So, let's get an idea of the range in GDP per capita in the dataset:</p>

</div>
</div>
</div>
<div class="cell border-box-sizing code_cell rendered">
<div class="input">
<div class="prompt input_prompt">In&nbsp;[21]:</div>
<div class="inner_cell">
    <div class="input_area">
<div class=" highlight hl-ipython3"><pre><span></span><span class="n">df</span><span class="p">[</span><span class="s1">&#39;gdpPercap&#39;</span><span class="p">]</span><span class="o">.</span><span class="n">min</span><span class="p">(),</span> <span class="n">df</span><span class="p">[</span><span class="s1">&#39;gdpPercap&#39;</span><span class="p">]</span><span class="o">.</span><span class="n">max</span><span class="p">()</span>
</pre></div>

</div>
</div>
</div>

<div class="output_wrapper">
<div class="output">


<div class="output_area">

<div class="prompt output_prompt">Out[21]:</div>




<div class="output_text output_subarea output_execute_result">
<pre>(241.16587650000002, 113523.1329)</pre>
</div>

</div>

</div>
</div>

</div>
<div class="cell border-box-sizing text_cell rendered"><div class="prompt input_prompt">
</div>
<div class="inner_cell">
<div class="text_cell_render border-box-sizing rendered_html">
<p>Then, define style dictionaries for the x and y axis objects and paste them into the figure object:</p>

</div>
</div>
</div>
<div class="cell border-box-sizing code_cell rendered">
<div class="input">
<div class="prompt input_prompt">In&nbsp;[22]:</div>
<div class="inner_cell">
    <div class="input_area">
<div class=" highlight hl-ipython3"><pre><span></span><span class="c1"># For all y axes</span>
<span class="n">yaxis_style</span> <span class="o">=</span> <span class="nb">dict</span><span class="p">(</span>
    <span class="nb">type</span><span class="o">=</span><span class="s1">&#39;log&#39;</span><span class="p">,</span>                           <span class="c1"># (!) log y-axis</span>
    <span class="nb">range</span><span class="o">=</span><span class="p">[</span><span class="n">np</span><span class="o">.</span><span class="n">log10</span><span class="p">(</span><span class="mi">90</span><span class="p">),</span> <span class="n">np</span><span class="o">.</span><span class="n">log10</span><span class="p">(</span><span class="mf">5e5</span><span class="p">)],</span>  <span class="c1"># (!) set y-axis range w.r.t. log scale</span>
    <span class="n">title</span><span class="o">=</span><span class="s1">&#39;GDP per cap.&#39;</span><span class="p">,</span> <span class="c1"># title of the y axes</span>
    <span class="n">ticks</span><span class="o">=</span><span class="s1">&#39;outside&#39;</span><span class="p">,</span>      <span class="c1"># no ticks</span>
    <span class="n">showline</span><span class="o">=</span><span class="kc">True</span><span class="p">,</span>        <span class="c1"># show axis bounding line</span>
    <span class="n">showgrid</span><span class="o">=</span><span class="kc">False</span><span class="p">,</span>       <span class="c1"># remove grid</span>
    <span class="n">zeroline</span><span class="o">=</span><span class="kc">False</span>        <span class="c1"># no thick line at x=y=0</span>
<span class="p">)</span>

<span class="c1"># For all x axes</span>
<span class="n">xaxis_style</span> <span class="o">=</span> <span class="nb">dict</span><span class="p">(</span>
    <span class="nb">range</span><span class="o">=</span><span class="p">[</span><span class="mi">1950</span><span class="p">,</span> <span class="mi">2010</span><span class="p">],</span>  <span class="c1"># set x-axis range</span>
    <span class="n">title</span><span class="o">=</span><span class="s1">&#39;year&#39;</span><span class="p">,</span>        <span class="c1"># title of the x axes</span>
    <span class="n">ticks</span><span class="o">=</span><span class="s1">&#39;outside&#39;</span><span class="p">,</span>     <span class="c1"># no ticks</span>
    <span class="n">showline</span><span class="o">=</span><span class="kc">True</span><span class="p">,</span>       <span class="c1"># show axis bounding line</span>
    <span class="n">showgrid</span><span class="o">=</span><span class="kc">False</span><span class="p">,</span>      <span class="c1"># remove grid</span>
    <span class="n">zeroline</span><span class="o">=</span><span class="kc">False</span>       <span class="c1"># no thick line at x=y=0</span>
<span class="p">)</span>

<span class="c1"># Paste the style dictionaries into the figure object</span>
<span class="k">for</span> <span class="n">i</span> <span class="ow">in</span> <span class="nb">range</span><span class="p">(</span><span class="n">N_rowcol</span><span class="p">):</span>
    <span class="n">yaxis_splt</span> <span class="o">=</span> <span class="n">fig</span><span class="p">[</span><span class="s1">&#39;layout&#39;</span><span class="p">][</span><span class="s1">&#39;yaxis</span><span class="si">{}</span><span class="s1">&#39;</span><span class="o">.</span><span class="n">format</span><span class="p">(</span><span class="n">i</span><span class="o">+</span><span class="mi">1</span><span class="p">)]</span>
    <span class="n">yaxis_splt</span><span class="o">.</span><span class="n">update</span><span class="p">(</span><span class="n">yaxis_style</span><span class="p">)</span>
    <span class="n">xaxis_splt</span> <span class="o">=</span> <span class="n">fig</span><span class="p">[</span><span class="s1">&#39;layout&#39;</span><span class="p">][</span><span class="s1">&#39;xaxis</span><span class="si">{}</span><span class="s1">&#39;</span><span class="o">.</span><span class="n">format</span><span class="p">(</span><span class="n">i</span><span class="o">+</span><span class="mi">1</span><span class="p">)]</span>
    <span class="n">xaxis_splt</span><span class="o">.</span><span class="n">update</span><span class="p">(</span><span class="n">xaxis_style</span><span class="p">)</span>
</pre></div>

</div>
</div>
</div>

</div>
<div class="cell border-box-sizing text_cell rendered"><div class="prompt input_prompt">
</div>
<div class="inner_cell">
<div class="text_cell_render border-box-sizing rendered_html">
<p>Now, make an annotation-generating function to label the subplots with each country's name:</p>

</div>
</div>
</div>
<div class="cell border-box-sizing code_cell rendered">
<div class="input">
<div class="prompt input_prompt">In&nbsp;[23]:</div>
<div class="inner_cell">
    <div class="input_area">
<div class=" highlight hl-ipython3"><pre><span></span><span class="c1"># Define an annotation-generating function, to label each subplot</span>
<span class="k">def</span> <span class="nf">make_splt_anno</span><span class="p">(</span><span class="n">i</span><span class="p">,</span> <span class="n">j</span><span class="p">,</span> <span class="n">country</span><span class="p">):</span>
    <span class="k">if</span> <span class="nb">len</span><span class="p">(</span><span class="n">country</span><span class="p">)</span> <span class="o">&gt;</span> <span class="mi">14</span><span class="p">:</span>
        <span class="n">country</span> <span class="o">=</span> <span class="n">country</span><span class="p">[</span><span class="mi">0</span><span class="p">:</span><span class="mi">14</span><span class="p">]</span> <span class="o">+</span> <span class="s1">&#39;.&#39;</span>  <span class="c1"># truncate country&#39;s name if too long</span>
    <span class="k">return</span> <span class="n">Annotation</span><span class="p">(</span>
        <span class="n">xref</span><span class="o">=</span><span class="s1">&#39;x</span><span class="si">{}</span><span class="s1">&#39;</span><span class="o">.</span><span class="n">format</span><span class="p">(</span><span class="n">i</span><span class="p">),</span>   <span class="c1"># position in relation to the x</span>
        <span class="n">yref</span><span class="o">=</span><span class="s1">&#39;y</span><span class="si">{}</span><span class="s1">&#39;</span><span class="o">.</span><span class="n">format</span><span class="p">(</span><span class="n">j</span><span class="p">),</span>   <span class="c1">#   and y axes</span>
        <span class="n">x</span><span class="o">=</span><span class="mi">1955</span><span class="p">,</span>                 <span class="c1"># x position</span>
        <span class="n">xanchor</span><span class="o">=</span><span class="s1">&#39;left&#39;</span><span class="p">,</span>         <span class="c1">#   and anchor</span>
        <span class="n">y</span><span class="o">=</span><span class="n">np</span><span class="o">.</span><span class="n">log10</span><span class="p">(</span><span class="mf">2.5e5</span><span class="p">),</span>      <span class="c1"># y position (in log coords)</span>
        <span class="n">text</span><span class="o">=</span><span class="n">country</span><span class="p">,</span>           <span class="c1"># text is the country name</span>
        <span class="n">showarrow</span><span class="o">=</span><span class="kc">False</span><span class="p">,</span>        <span class="c1"># no arrow </span>
        <span class="n">align</span><span class="o">=</span><span class="s1">&#39;center&#39;</span><span class="p">,</span>         <span class="c1"># align text in the center</span>
        <span class="n">font</span><span class="o">=</span><span class="n">Font</span><span class="p">(</span><span class="n">size</span><span class="o">=</span><span class="mi">14</span><span class="p">),</span>     <span class="c1"># font size</span>
    <span class="p">)</span>
</pre></div>

</div>
</div>
</div>

</div>
<div class="cell border-box-sizing text_cell rendered"><div class="prompt input_prompt">
</div>
<div class="inner_cell">
<div class="text_cell_render border-box-sizing rendered_html">
<p>Add a few keys to the layout object:</p>

</div>
</div>
</div>
<div class="cell border-box-sizing code_cell rendered">
<div class="input">
<div class="prompt input_prompt">In&nbsp;[24]:</div>
<div class="inner_cell">
    <div class="input_area">
<div class=" highlight hl-ipython3"><pre><span></span><span class="n">width</span> <span class="o">=</span> <span class="mi">2000</span>   <span class="c1"># fix plot&#39;s width </span>
<span class="n">height</span> <span class="o">=</span> <span class="mi">1800</span>  <span class="c1">#  and height in pixels</span>

<span class="n">title</span> <span class="o">=</span> <span class="s2">&quot;Fig 3.2: GDP per Capita from 1952 to 2007 </span><span class="se">\</span>
<span class="s2">in USD of the year 2000 [GapMinder]&quot;</span>                  <span class="c1"># plot&#39;s title</span>

<span class="n">fig</span><span class="p">[</span><span class="s1">&#39;layout&#39;</span><span class="p">]</span><span class="o">.</span><span class="n">update</span><span class="p">(</span>
    <span class="n">title</span><span class="o">=</span><span class="n">title</span><span class="p">,</span>              <span class="c1"># set plot&#39;s title</span>
    <span class="n">titlefont</span><span class="o">=</span><span class="n">Font</span><span class="p">(</span><span class="n">size</span><span class="o">=</span><span class="mi">30</span><span class="p">),</span>  <span class="c1"># increase title font size</span>
    <span class="n">showlegend</span><span class="o">=</span><span class="kc">False</span><span class="p">,</span>         <span class="c1"># remove legend</span>
    <span class="n">autosize</span><span class="o">=</span><span class="kc">False</span><span class="p">,</span>           <span class="c1"># turn off autosize</span>
    <span class="n">width</span><span class="o">=</span><span class="n">width</span><span class="p">,</span>              <span class="c1"># plot&#39;s width</span>
    <span class="n">height</span><span class="o">=</span><span class="n">height</span>             <span class="c1"># plot&#39;s height</span>
<span class="p">)</span>
    
<span class="n">fig</span><span class="p">[</span><span class="s1">&#39;layout&#39;</span><span class="p">][</span><span class="s1">&#39;annotations&#39;</span><span class="p">]</span> <span class="o">=</span> <span class="n">Annotations</span><span class="p">([])</span>  <span class="c1"># init. &#39;annotations&#39; key</span>
</pre></div>

</div>
</div>
</div>

</div>
<div class="cell border-box-sizing text_cell rendered"><div class="prompt input_prompt">
</div>
<div class="inner_cell">
<div class="text_cell_render border-box-sizing rendered_html">
<p>Now, loop through every country in the dataframe and fill in the data object and update each axis' style:</p>

</div>
</div>
</div>
<div class="cell border-box-sizing code_cell rendered">
<div class="input">
<div class="prompt input_prompt">In&nbsp;[25]:</div>
<div class="inner_cell">
    <div class="input_area">
<div class=" highlight hl-ipython3"><pre><span></span><span class="n">i</span> <span class="o">=</span> <span class="n">j</span> <span class="o">=</span> <span class="mi">1</span>  <span class="c1"># init. col and row counters</span>

<span class="c1"># Group dataframe by country in alphabetical order and loop</span>
<span class="k">for</span> <span class="n">country</span><span class="p">,</span> <span class="n">X</span> <span class="ow">in</span> <span class="n">df</span><span class="o">.</span><span class="n">groupby</span><span class="p">(</span><span class="s1">&#39;country&#39;</span><span class="p">):</span>
    
    <span class="n">x</span> <span class="o">=</span> <span class="n">X</span><span class="p">[</span><span class="s1">&#39;year&#39;</span><span class="p">]</span><span class="o">.</span><span class="n">values</span>                        <span class="c1"># get years</span>
    <span class="n">y</span> <span class="o">=</span> <span class="n">X</span><span class="p">[</span><span class="s1">&#39;gdpPercap&#39;</span><span class="p">]</span><span class="o">.</span><span class="n">values</span>                   <span class="c1"># get GDP values</span>
    <span class="n">sizes</span> <span class="o">=</span> <span class="n">X</span><span class="p">[</span><span class="s1">&#39;lifeExp&#39;</span><span class="p">]</span><span class="o">.</span><span class="n">values</span>                 <span class="c1"># get bubble size</span>
    <span class="n">continent</span> <span class="o">=</span> <span class="n">X</span><span class="p">[</span><span class="s1">&#39;continent&#39;</span><span class="p">]</span><span class="o">.</span><span class="n">values</span><span class="p">[</span><span class="mi">0</span><span class="p">]</span>        <span class="c1"># get continent name</span>
    <span class="n">color</span> <span class="o">=</span> <span class="n">colors</span><span class="p">[</span><span class="n">continent</span><span class="p">]</span>                   <span class="c1"># get bubble color</span>
    <span class="n">text</span> <span class="o">=</span> <span class="n">X</span><span class="o">.</span><span class="n">apply</span><span class="p">(</span><span class="n">make_text</span><span class="p">,</span> <span class="n">axis</span><span class="o">=</span><span class="mi">1</span><span class="p">)</span><span class="o">.</span><span class="n">tolist</span><span class="p">()</span>  <span class="c1"># get hover text</span>

    <span class="c1"># Append data object</span>
    <span class="n">fig</span><span class="p">[</span><span class="s1">&#39;data&#39;</span><span class="p">]</span><span class="o">.</span><span class="n">append</span><span class="p">(</span><span class="n">make_Scatter_gdp</span><span class="p">(</span><span class="n">i</span><span class="p">,</span> <span class="n">j</span><span class="p">,</span> <span class="n">x</span><span class="p">,</span> <span class="n">y</span><span class="p">,</span> 
                                        <span class="n">color</span><span class="p">,</span> <span class="n">sizes</span><span class="p">,</span> 
                                        <span class="n">continent</span><span class="p">,</span> <span class="n">text</span><span class="p">))</span>
    
    <span class="c1"># (!) fig[&#39;data&#39;] was intialized by tls.make_subplots()</span>
    
    <span class="c1"># Append annotations object, label each subplot</span>
    <span class="n">fig</span><span class="p">[</span><span class="s1">&#39;layout&#39;</span><span class="p">][</span><span class="s1">&#39;annotations&#39;</span><span class="p">]</span><span class="o">.</span><span class="n">append</span><span class="p">(</span><span class="n">make_splt_anno</span><span class="p">(</span><span class="n">i</span><span class="p">,</span> <span class="n">j</span><span class="p">,</span> <span class="n">country</span><span class="p">))</span>
    
    <span class="c1"># Increment counter accordingly</span>
    <span class="k">if</span> <span class="n">i</span> <span class="o">==</span> <span class="mi">12</span><span class="p">:</span>
        <span class="n">j</span> <span class="o">+=</span> <span class="mi">1</span>
        <span class="n">i</span> <span class="o">=</span> <span class="mi">1</span>
    <span class="k">else</span><span class="p">:</span>
        <span class="n">i</span> <span class="o">+=</span> <span class="mi">1</span>
</pre></div>

</div>
</div>
</div>

</div>
<div class="cell border-box-sizing text_cell rendered"><div class="prompt input_prompt">
</div>
<div class="inner_cell">
<div class="text_cell_render border-box-sizing rendered_html">
<p>We are now ready to send the figure object to Plotly and see the results:</p>

</div>
</div>
</div>
<div class="cell border-box-sizing code_cell rendered">
<div class="input">
<div class="prompt input_prompt">In&nbsp;[26]:</div>
<div class="inner_cell">
    <div class="input_area">
<div class=" highlight hl-ipython3"><pre><span></span><span class="c1"># (@) Send figure object to Plotly, show plot in notebook</span>
<span class="n">py</span><span class="o">.</span><span class="n">iplot</span><span class="p">(</span><span class="n">fig</span><span class="p">,</span> <span class="n">filename</span><span class="o">=</span><span class="s1">&#39;s3_small-multiples&#39;</span><span class="p">,</span> <span class="n">width</span><span class="o">=</span><span class="n">width</span><span class="p">,</span> <span class="n">height</span><span class="o">=</span><span class="n">height</span><span class="p">)</span>       

<span class="c1"># adjust output cell with &#39;width&#39; and &#39;height&#39;</span>
</pre></div>

</div>
</div>
</div>

<div class="output_wrapper">
<div class="output">


<div class="output_area">

<div class="prompt output_prompt">Out[26]:</div>



<div class="output_html rendered_html output_subarea output_execute_result">
<iframe id="igraph" scrolling="no" style="border:none;"seamless="seamless" src="https://plot.ly/~etpinard/310.embed?width=1975&height=1775" height="1800" width="2000"></iframe>
</div>

</div>

</div>
</div>

</div>
<div class="cell border-box-sizing text_cell rendered"><div class="prompt input_prompt">
</div>
<div class="inner_cell">
<div class="text_cell_render border-box-sizing rendered_html">
<p>To see this figure in separate tab, use this <a href="https://plot.ly/~etpinard/310.embed" target="_blank">link</a>.</p>
<p>Who wants to print this on a T-shirt?</p>

</div>
</div>
</div>
<div class="cell border-box-sizing text_cell rendered"><div class="prompt input_prompt">
</div>
<div class="inner_cell">
<div class="text_cell_render border-box-sizing rendered_html">
<hr>

<h4 style="font-size:14pt;">Go to

[Section 4 --- Histograms and Box Plots](https://plot.ly/python/histograms-and-box-plots-tutorial) </h4><h4 style="font-size:14pt;">Go to

[Section 2 --- Bar Charts](https://plot.ly/python/bar-charts-tutorial) </h4><h4 style="font-size:14pt;">Go to

[top of page](#Plotly's-Python-API-User-Guide) </h4><h4 style="font-size:14pt;">Go to User Guide's

[homepage](https://plot.ly/python/user-guide) </h4><hr>
</div>
</div>
</div>
<div class="cell border-box-sizing text_cell rendered"><div class="prompt input_prompt">
</div>
<div class="inner_cell">
<div class="text_cell_render border-box-sizing rendered_html">
<div style="float:right; \">
    <img src="http://i.imgur.com/4vwuxdJ.png" 
 align=right style="float:right; margin-left: 5px; margin-top: -10px" />
</div><h4>Got Questions or Feedback? </h4><p>About <a href="https://plot.ly" target="_blank">Plotly</a></p>
<ul>
<li>email: <a class="__cf_email__" href="/cdn-cgi/l/email-protection" data-cfemail="03656666676162606843736f6c772d6f7a">[email&#160;protected]</a><script data-cfhash='f9e31' type="text/javascript">/* <![CDATA[ */!function(t,e,r,n,c,a,p){try{t=document.currentScript||function(){for(t=document.getElementsByTagName('script'),e=t.length;e--;)if(t[e].getAttribute('data-cfhash'))return t[e]}();if(t&&(c=t.previousSibling)){p=t.parentNode;if(a=c.getAttribute('data-cfemail')){for(e='',r='0x'+a.substr(0,2)|0,n=2;a.length-n;n+=2)e+='%'+('0'+('0x'+a.substr(n,2)^r).toString(16)).slice(-2);p.replaceChild(document.createTextNode(decodeURIComponent(e)),c)}p.removeChild(t)}}catch(u){}}()/* ]]> */</script> </li>
<li>tweet: 
<a href="https://twitter.com/plotlygraphs" target="_blank">@plotlygraphs</a></li>
</ul>
<p>About the <a href="https://github.com/plotly/python-user-guide" target="_blank">User Guide</a></p>
<ul>
<li>email: <a class="__cf_email__" href="/cdn-cgi/l/email-protection" data-cfemail="6f0a1b060a01010a2f1f03001b410316">[email&#160;protected]</a><script data-cfhash='f9e31' type="text/javascript">/* <![CDATA[ */!function(t,e,r,n,c,a,p){try{t=document.currentScript||function(){for(t=document.getElementsByTagName('script'),e=t.length;e--;)if(t[e].getAttribute('data-cfhash'))return t[e]}();if(t&&(c=t.previousSibling)){p=t.parentNode;if(a=c.getAttribute('data-cfemail')){for(e='',r='0x'+a.substr(0,2)|0,n=2;a.length-n;n+=2)e+='%'+('0'+('0x'+a.substr(n,2)^r).toString(16)).slice(-2);p.replaceChild(document.createTextNode(decodeURIComponent(e)),c)}p.removeChild(t)}}catch(u){}}()/* ]]> */</script></li>
<li>tweet: <a href="https://twitter.com/etpinard" target="_blank">@etpinard</a></li>
</ul>
<h4 style="margin-top:30px;">Notebook styling ideas</h4><p>Big thanks to</p>
<ul>
<li><a href="http://nbviewer.ipython.org/github/CamDavidsonPilon/Probabilistic-Programming-and-Bayesian-Methods-for-Hackers/blob/master/Prologue/Prologue.ipynb" target="_blank">Cam Davidson-Pilon</a></li>
<li><a href="http://lorenabarba.com/blog/announcing-aeropython/#.U1ULXdX1LJ4.google_plusone_share" target="_blank">Lorena A. Barba</a></li>
</ul>
<p><br></p>

</div>
</div>
</div>
<div class="cell border-box-sizing code_cell rendered">
<div class="input">
<div class="prompt input_prompt">In&nbsp;[27]:</div>
<div class="inner_cell">
    <div class="input_area">
<div class=" highlight hl-ipython3"><pre><span></span><span class="c1"># CSS styling within IPython notebook</span>
<span class="kn">from</span> <span class="nn">IPython.display</span> <span class="k">import</span> <span class="n">display</span><span class="p">,</span> <span class="n">HTML</span>
<span class="n">display</span><span class="p">(</span><span class="n">HTML</span><span class="p">(</span><span class="nb">open</span><span class="p">(</span><span class="s1">&#39;../custom.css&#39;</span><span class="p">)</span><span class="o">.</span><span class="n">read</span><span class="p">()))</span>
</pre></div>

</div>
</div>
</div>

<div class="output_wrapper">
<div class="output">


<div class="output_area">

<div class="prompt"></div>



<div class="output_html rendered_html output_subarea ">
<style>
    div.cell{
        width: 850px;
        margin-left: 10% !important;
        margin-right: auto;
    }
    h1 {
        font-family: "Open sans",verdana,arial,sans-serif;
    }
    .text_cell_render h1 {
        font-weight: 200;
        font-size: 40pt;
        line-height: 100%;
        color:#447adb;
        margin-bottom: 0em;
        margin-top: 0em;
        display: block;
        white-space: nowrap;
    } 
    h2 {
        font-family: "Open sans",verdana,arial,sans-serif;
        text-indent:1em;
    }
    .text_cell_render h2 {
        font-weight: 200;
        font-size: 20pt;
        font-style: italic;
        line-height: 100%;
        color:#447adb;
        margin-bottom: 1.5em;
        margin-top: 0.5em;
        display: block;
        white-space: nowrap;
    } 
    h3 {
        font-family: "Open sans",verdana,arial,sans-serif;
    }
    .text_cell_render h3 {
        font-weight: 300;
        font-size: 18pt;
        line-height: 100%;
        color:#447adb;
        margin-bottom: 0.5em;
        margin-top: 2em;
        display: block;
        white-space: nowrap;
    }
    h4 {
        font-family: "Open sans",verdana,arial,sans-serif;
    }
    .text_cell_render h4 {
        font-weight: 300;
        font-size: 16pt;
        color:#447adb;
        margin-bottom: 0.5em;
        margin-top: 0.5em;
        display: block;
        white-space: nowrap;
    }
    h5 {
        font-family: "Open sans",verdana,arial,sans-serif;
    }
    .text_cell_render h5 {
        font-weight: 300;
        font-style: normal;
        color: #1d3b84;
        font-size: 16pt;
        margin-bottom: 0em;
        margin-top: 1.5em;
        display: block;
        white-space: nowrap;
    }
    div.text_cell_render{
        font-family: "Open sans",verdana,arial,sans-serif;
        line-height: 135%;
        font-size: 125%;
        width:750px;
        margin-left:auto;
        margin-right:auto;
        text-align:justify;
        text-justify:inter-word;
    }
    div.output_subarea.output_text.output_pyout {
        overflow-x: auto;
        overflow-y: scroll;
        max-height: 300px;
    }
    div.output_subarea.output_stream.output_stdout.output_text {
        overflow-x: auto;
        overflow-y: scroll;
        max-height: 300px;
    }
    div.output_subarea.output_html.rendered_html {
        overflow-x: scroll;
        max-width: 100%;
      /*  overflow-y: scroll; */
      /*  max-height: 300px;   */
    }
    code{
      font-size: 78%;
    }
    .rendered_html code{
        background-color: transparent;
        white-space: inherit;   
    }
    ul{
        /* color:#447adb; */  
        margin: 2em;
    }
    ul li{
        padding-left: 0.5em; 
        margin-bottom: 0.5em; 
        margin-top: 0.5em; 
    }
    ul li li{
        padding-left: 0.2em; 
        margin-bottom: 0.2em; 
        margin-top: 0.2em; 
    }
    ol{
        /* color:#447adb; */  
        margin: 2em;
    }
    ol li{
        padding-left: 0.5em; 
        margin-bottom: 0.5em; 
        margin-top: 0.5em; 
    }
    /*.prompt{
        display: None;
    } */
    ul li{
        padding-left: 0.5em; 
        margin-bottom: 0.5em; 
        margin-top: 0.2em; 
    }
    a:link{
       font-weight: bold;
       color:#447adb;
    }
    a:visited{
       font-weight: bold;
       color: #1d3b84;
    }
    a:hover{
       font-weight: bold;
       color: #1d3b84;
    }
    a:focus{
       font-weight: bold;
       color:#447adb;
    }
    a:active{
       font-weight: bold;
       color:#447adb;
    }
    .rendered_html :link {
       text-decoration: none; 
    }
    .rendered_html :hover {
       text-decoration: none; 
    }
    .rendered_html :visited {
      text-decoration: none;
    }
    .rendered_html :focus {
      text-decoration: none;
    }
    .rendered_html :active {
      text-decoration: none;
    }
    .warning{
        color: rgb( 240, 20, 20 )
    } 
    hr {
      color: #f3f3f3;
      background-color: #f3f3f3;
      height: 1px;
    }
    blockquote{
      display:block;
      background: #f3f3f3;
      font-family: "Open sans",verdana,arial,sans-serif;
      width:610px;
      padding: 15px 15px 15px 15px;
      text-align:justify;
      text-justify:inter-word;
      }
      blockquote p {
        margin-bottom: 0;
        line-height: 125%;
        font-size: 100%;
        text-align: center;
      }
   /* element.style {
    } */  
</style>
<script>
    MathJax.Hub.Config({
                        TeX: {
                           extensions: ["AMSmath.js"]
                           },
                tex2jax: {
                    inlineMath: [ ["$","$"], ["\\(","\\)"] ],
                    displayMath: [ ["$$","$$"], ["\\[","\\]"] ]
                },
                displayAlign: "center", // Change this to "center" to center equations.
                "HTML-CSS": {
                    styles: {".MathJax_Display": {"margin": 4}}
                }
        });
</script>

</div>

</div>

</div>
</div>

</div>
 


    </div>
  </div>

  </div>


  
    <footer class="footer hidden-print">
      <div class="container">
        <div class="col-md-4">
          <p>
            This website does not host notebooks, it only renders notebooks
            available on other websites.
          </p>
        </div>

        <div class="col-md-4">
          <p>
            Delivered by <a href="http://www.fastly.com/">Fastly</a>,
            Rendered by <a href="https://developer.rackspace.com/?nbviewer=awesome">Rackspace</a>
          </p>
          <p>
            nbviewer GitHub <a href="https://github.com/jupyter/nbviewer">repository</a>.
          </p>
        </div>

        <div class="col-md-4">
          
  
            
              <p>
                nbviewer version:
                <a href="https://github.com/jupyter/nbviewer/commit/5ac2643d687f4e78c5b8a4d50ead8255b2c65bb1">
                  5ac2643
                </a>
              </p>
            
          
  
  <p>
    nbconvert version: <a href="https://github.com/jupyter/nbconvert/releases/tag/5.2.1">
      5.2.1
    </a>
  </p>
  

          
  
  
  <p>
    Rendered
    <span class='date' data-date='Fri, 14 Jul 2017 17:58:20 UTC' title='Fri, 14 Jul 2017 17:58:20 UTC'>(Fri, 14 Jul 2017 17:58:20 UTC)</span>
  </p>
  

        </div>
      </div>
    </footer>
  

  <script src="https://unpkg.com/jupyter-js-widgets@2.0.*/dist/embed.js"></script>
  <script src="/static/components/bootstrap/js/bootstrap.min.js?v=5869c96cc8f19086aee625d670d741f9"></script>
  <script src="/static/components/headroom.js/dist/headroom.min.js?v=b0a311ea668f8e768ea375f4a7abb81c"></script>
  <script src="/static/components/headroom.js/dist/jQuery.headroom.min.js?v=f3a1bae118315d0c234afc74dc6aab71"></script>

  
  
  <script>
    $(function(){ $("#menubar").headroom({
      tolerance: 5,
      offset: 205,
      classes: {
        initial: "animated",
        pinned: "slideInDown",
        unpinned: "slideOutUp"
      }
    })});
  </script>


  
  <script>
    (function(i,s,o,g,r,a,m){i['GoogleAnalyticsObject']=r;i[r]=i[r]||function(){
      (i[r].q=i[r].q||[]).push(arguments)},i[r].l=1*new Date();a=s.createElement(o),
      m=s.getElementsByTagName(o)[0];a.async=1;a.src=g;m.parentNode.insertBefore(a,m)
    })(window,document,'script','https://www.google-analytics.com/analytics.js','ga');
    ga('create', 'UA-52617120-5', 'auto');
    ga('send', 'pageview');
  </script>
  
  <script>
    require({
        paths: {
          moment: "/static/components/moment/min/moment.min.js?v=89f87298ad94aa1e6b92f42eb66da043"
        }
      }, ["moment"], function(moment){
      var date = $("footer .date"),
        m = moment(new Date(date.data('date'))),
        update = function(){ date.text(m.fromNow()); };
      setInterval(update, 61*1000);
      update();
      var w = $(window).scroll(function(event){
        $("body").toggleClass("scrolled", w.scrollTop() > 0);
      });
    });
  </script>
  <!--NEW RELIC Stop Perf Measurement-->
  
  <!--NEW RELIC End-->
</body>
</html>