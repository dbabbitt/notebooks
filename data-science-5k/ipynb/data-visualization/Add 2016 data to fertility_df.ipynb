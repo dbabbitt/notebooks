{
 "cells": [
  {
   "cell_type": "code",
   "execution_count": 8,
   "metadata": {
    "collapsed": false
   },
   "outputs": [],
   "source": [
    "\n",
    "import pandas as pd\n",
    "\n",
    "fertility_2016_df = pd.read_fwf('https://www.cia.gov/library/publications/the-world-factbook/rankorder/rawdata_2127.txt',\n",
    "                               index_col=0, header=None, names=['Country', '2016'])\n",
    "fertility_2016_df.set_index(keys='Country', inplace=True)"
   ]
  },
  {
   "cell_type": "code",
   "execution_count": 9,
   "metadata": {
    "collapsed": false
   },
   "outputs": [
    {
     "data": {
      "text/html": [
       "<div>\n",
       "<table border=\"1\" class=\"dataframe\">\n",
       "  <thead>\n",
       "    <tr style=\"text-align: right;\">\n",
       "      <th></th>\n",
       "      <th>2016</th>\n",
       "    </tr>\n",
       "    <tr>\n",
       "      <th>Country</th>\n",
       "      <th></th>\n",
       "    </tr>\n",
       "  </thead>\n",
       "  <tbody>\n",
       "    <tr>\n",
       "      <th>Brazil</th>\n",
       "      <td>1.76</td>\n",
       "    </tr>\n",
       "    <tr>\n",
       "      <th>Germany</th>\n",
       "      <td>1.44</td>\n",
       "    </tr>\n",
       "    <tr>\n",
       "      <th>Argentina</th>\n",
       "      <td>2.28</td>\n",
       "    </tr>\n",
       "    <tr>\n",
       "      <th>Puerto Rico</th>\n",
       "      <td>1.64</td>\n",
       "    </tr>\n",
       "    <tr>\n",
       "      <th>Antigua and Barbuda</th>\n",
       "      <td>2.01</td>\n",
       "    </tr>\n",
       "  </tbody>\n",
       "</table>\n",
       "</div>"
      ],
      "text/plain": [
       "                     2016\n",
       "Country                  \n",
       "Brazil               1.76\n",
       "Germany              1.44\n",
       "Argentina            2.28\n",
       "Puerto Rico          1.64\n",
       "Antigua and Barbuda  2.01"
      ]
     },
     "execution_count": 9,
     "metadata": {},
     "output_type": "execute_result"
    }
   ],
   "source": [
    "\n",
    "fertility_2016_df.sample(5)"
   ]
  },
  {
   "cell_type": "code",
   "execution_count": 10,
   "metadata": {
    "collapsed": true
   },
   "outputs": [],
   "source": [
    "\n",
    "from difflib import SequenceMatcher\n",
    "import time\n",
    "\n",
    "\n",
    "def similar(a, b):\n",
    "    return SequenceMatcher(None, str(a), str(b)).ratio()\n",
    "\n",
    "#Check the closest names for typos\n",
    "def check_for_typos(first_list, second_list):\n",
    "    rows_list = []\n",
    "    for first_item in first_list:\n",
    "        max_similarity = 0.0\n",
    "        max_item = first_item\n",
    "        for second_item in second_list:\n",
    "            this_similarity = similar(first_item, second_item)\n",
    "            if this_similarity > max_similarity:\n",
    "                max_similarity = this_similarity\n",
    "                max_item = second_item\n",
    "\n",
    "        # Get input row in dictionary format; key = col_name\n",
    "        row_dict = {}\n",
    "        row_dict['first_item'] = first_item\n",
    "        row_dict['second_item'] = max_item\n",
    "        row_dict['max_similarity'] = max_similarity\n",
    "\n",
    "        rows_list.append(row_dict)\n",
    "\n",
    "    column_list = ['first_item', 'second_item', 'max_similarity']\n",
    "    name_similarities_df = pd.DataFrame(rows_list, columns=column_list)\n",
    "    \n",
    "    return name_similarities_df"
   ]
  },
  {
   "cell_type": "code",
   "execution_count": 26,
   "metadata": {
    "collapsed": false
   },
   "outputs": [],
   "source": [
    "\n",
    "# Set up fertility data\n",
    "encoding = ['latin1', 'iso8859-1', 'utf-8'][1]\n",
    "fertility_df = pd.read_csv('./data/csv/fertility_df.csv', encoding=encoding)\n",
    "fertility_df.set_index(keys='Country', inplace=True)"
   ]
  },
  {
   "cell_type": "code",
   "execution_count": 28,
   "metadata": {
    "collapsed": false
   },
   "outputs": [
    {
     "name": "stdout",
     "output_type": "stream",
     "text": [
      "0.42205214500427246 Sun Jul 23 21:03:29 2017\n"
     ]
    },
    {
     "data": {
      "text/html": [
       "<div>\n",
       "<table border=\"1\" class=\"dataframe\">\n",
       "  <thead>\n",
       "    <tr style=\"text-align: right;\">\n",
       "      <th></th>\n",
       "      <th>first_item</th>\n",
       "      <th>second_item</th>\n",
       "      <th>max_similarity</th>\n",
       "    </tr>\n",
       "  </thead>\n",
       "  <tbody>\n",
       "    <tr>\n",
       "      <th>47</th>\n",
       "      <td>Cook Is.</td>\n",
       "      <td>Cocos Is.</td>\n",
       "      <td>0.823529</td>\n",
       "    </tr>\n",
       "    <tr>\n",
       "      <th>75</th>\n",
       "      <td>Germany</td>\n",
       "      <td>East Germany</td>\n",
       "      <td>0.736842</td>\n",
       "    </tr>\n",
       "    <tr>\n",
       "      <th>158</th>\n",
       "      <td>Poland</td>\n",
       "      <td>Åland</td>\n",
       "      <td>0.727273</td>\n",
       "    </tr>\n",
       "    <tr>\n",
       "      <th>142</th>\n",
       "      <td>Netherlands</td>\n",
       "      <td>Netherlands Antilles</td>\n",
       "      <td>0.709677</td>\n",
       "    </tr>\n",
       "    <tr>\n",
       "      <th>183</th>\n",
       "      <td>South Africa</td>\n",
       "      <td>South Korea</td>\n",
       "      <td>0.695652</td>\n",
       "    </tr>\n",
       "    <tr>\n",
       "      <th>21</th>\n",
       "      <td>Benin</td>\n",
       "      <td>Reunion</td>\n",
       "      <td>0.666667</td>\n",
       "    </tr>\n",
       "    <tr>\n",
       "      <th>54</th>\n",
       "      <td>Czechia</td>\n",
       "      <td>Czechoslovakia</td>\n",
       "      <td>0.666667</td>\n",
       "    </tr>\n",
       "    <tr>\n",
       "      <th>91</th>\n",
       "      <td>Iceland</td>\n",
       "      <td>Åland</td>\n",
       "      <td>0.666667</td>\n",
       "    </tr>\n",
       "    <tr>\n",
       "      <th>68</th>\n",
       "      <td>Finland</td>\n",
       "      <td>Åland</td>\n",
       "      <td>0.666667</td>\n",
       "    </tr>\n",
       "    <tr>\n",
       "      <th>38</th>\n",
       "      <td>Cayman Is.</td>\n",
       "      <td>Channel Is.</td>\n",
       "      <td>0.666667</td>\n",
       "    </tr>\n",
       "  </tbody>\n",
       "</table>\n",
       "</div>"
      ],
      "text/plain": [
       "       first_item           second_item  max_similarity\n",
       "47       Cook Is.             Cocos Is.        0.823529\n",
       "75        Germany          East Germany        0.736842\n",
       "158        Poland                 Åland        0.727273\n",
       "142   Netherlands  Netherlands Antilles        0.709677\n",
       "183  South Africa           South Korea        0.695652\n",
       "21          Benin               Reunion        0.666667\n",
       "54        Czechia        Czechoslovakia        0.666667\n",
       "91        Iceland                 Åland        0.666667\n",
       "68        Finland                 Åland        0.666667\n",
       "38     Cayman Is.           Channel Is.        0.666667"
      ]
     },
     "execution_count": 28,
     "metadata": {},
     "output_type": "execute_result"
    }
   ],
   "source": [
    "\n",
    "import os\n",
    "\n",
    "# Closest fertility 2016 countries to the countries in the fertility dataframe that are not paired up\n",
    "t0 = time.time()\n",
    "file_path = './data/csv/fertility_2016_df.csv'\n",
    "if os.path.isfile(file_path):\n",
    "    fertility_2016_df = pd.read_csv(file_path, encoding=encoding)\n",
    "    fertility_2016_df.set_index(keys='Country', inplace=True)\n",
    "name_similarities_df = check_for_typos(fertility_2016_df.index, fertility_df.index.difference(fertility_2016_df.index))\n",
    "t1 = time.time()\n",
    "print(t1-t0, time.ctime(t1))\n",
    "fertility_2016_df.to_csv(file_path, index=True)\n",
    "name_similarities_df.sort_values(['max_similarity'], ascending=False).head(10)"
   ]
  },
  {
   "cell_type": "code",
   "execution_count": 16,
   "metadata": {
    "collapsed": true
   },
   "outputs": [],
   "source": [
    "\n",
    "fertility_df['2016'] = fertility_2016_df['2016']"
   ]
  },
  {
   "cell_type": "code",
   "execution_count": 17,
   "metadata": {
    "collapsed": true
   },
   "outputs": [],
   "source": [
    "\n",
    "fertility_df.to_csv('./data/csv/fertility_df.csv', index=True)"
   ]
  },
  {
   "cell_type": "code",
   "execution_count": 19,
   "metadata": {
    "collapsed": false
   },
   "outputs": [
    {
     "data": {
      "text/plain": [
       "Index(['Country', '2016'], dtype='object')"
      ]
     },
     "execution_count": 19,
     "metadata": {},
     "output_type": "execute_result"
    }
   ],
   "source": [
    "\n",
    "fertility_2016_df.columns"
   ]
  },
  {
   "cell_type": "code",
   "execution_count": null,
   "metadata": {
    "collapsed": true
   },
   "outputs": [],
   "source": []
  }
 ],
 "metadata": {
  "kernelspec": {
   "display_name": "Python [default]",
   "language": "python",
   "name": "python3"
  },
  "language_info": {
   "codemirror_mode": {
    "name": "ipython",
    "version": 3
   },
   "file_extension": ".py",
   "mimetype": "text/x-python",
   "name": "python",
   "nbconvert_exporter": "python",
   "pygments_lexer": "ipython3",
   "version": "3.5.2"
  }
 },
 "nbformat": 4,
 "nbformat_minor": 2
}
