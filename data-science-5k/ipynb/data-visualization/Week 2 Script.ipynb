{
 "cells": [
  {
   "cell_type": "code",
   "execution_count": 1,
   "metadata": {},
   "outputs": [
    {
     "name": "stdout",
     "output_type": "stream",
     "text": [
      "mkdir: ../../data: File exists\n",
      "mkdir: ../../data/csv: File exists\n",
      "mkdir: ../../saves: File exists\n",
      "mkdir: ../../saves/pickle: File exists\n",
      "mkdir: ../../saves/csv: File exists\n"
     ]
    }
   ],
   "source": [
    "# %load ../../../load_magic/storage.py\n",
    "\n",
    "!mkdir ../../data\n",
    "!mkdir ../../data/csv\n",
    "!mkdir ../../saves\n",
    "!mkdir ../../saves/pickle\n",
    "!mkdir ../../saves/csv\n",
    "import pickle\n",
    "import pandas as pd\n",
    "import os\n",
    "import numpy as np\n",
    "import scipy.stats\n",
    "import seaborn\n",
    "import matplotlib.pyplot as plt\n",
    "\n",
    "# Handy list of the different types of encodings\n",
    "encoding = ['latin1', 'iso8859-1', 'utf-8'][2]\n",
    "\n",
    "# Change this to your data and saves folders\n",
    "data_folder = r'../../data/'\n",
    "saves_folder = r'../../saves/'\n",
    "\n",
    "def load_csv(csv_name=None, folder_path=None):\n",
    "    if folder_path is None:\n",
    "        csv_folder = data_folder + 'csv/'\n",
    "    else:\n",
    "        csv_folder = folder_path + 'csv/'\n",
    "    if csv_name is None:\n",
    "        csv_path = max([os.path.join(csv_folder, f) for f in os.listdir(csv_folder)],\n",
    "                       key=os.path.getmtime)\n",
    "    else:\n",
    "        csv_path = csv_folder + csv_name + '.csv'\n",
    "    data_frame = pd.read_csv(csv_path, encoding=encoding)\n",
    "    \n",
    "    return(data_frame)\n",
    "\n",
    "def load_dataframes(**kwargs):\n",
    "    frame_dict = {}\n",
    "    for frame_name in kwargs:\n",
    "        pickle_path = saves_folder + 'pickle/' + frame_name + '.pickle'\n",
    "        if not os.path.isfile(pickle_path):\n",
    "            csv_folder = saves_folder + 'csv/'\n",
    "            csv_path = csv_folder + frame_name + '.csv'\n",
    "            if not os.path.isfile(csv_path):\n",
    "                csv_path = data_folder + 'csv/' + frame_name + '.csv'\n",
    "                if not os.path.isfile(csv_path):\n",
    "                    frame_dict[frame_name] = None\n",
    "                else:\n",
    "                    frame_dict[frame_name] = load_csv(csv_name=frame_name)\n",
    "            else:\n",
    "                frame_dict[frame_name] = load_csv(csv_name=frame_name, folder_path=csv_folder)\n",
    "        else:\n",
    "            frame_dict[frame_name] = load_object(frame_name)\n",
    "    \n",
    "    return frame_dict\n",
    "\n",
    "def load_object(obj_name):\n",
    "    pickle_path = saves_folder + 'pickle/' + obj_name + '.pickle'\n",
    "    try:\n",
    "        object = pd.read_pickle(pickle_path)\n",
    "    except:\n",
    "        with open(pickle_path, 'rb') as handle:\n",
    "            object = pickle.load(handle)\n",
    "    \n",
    "    return(object)\n",
    "\n",
    "def save_dataframes(include_index=False, **kwargs):\n",
    "    csv_folder = saves_folder + 'csv/'\n",
    "    for frame_name in kwargs:\n",
    "        if isinstance(kwargs[frame_name], pd.DataFrame):\n",
    "            csv_path = csv_folder + frame_name + '.csv'\n",
    "            kwargs[frame_name].to_csv(csv_path, sep=',', encoding=encoding,\n",
    "                                      index=include_index)\n",
    "\n",
    "# Classes, functions, and methods cannot be pickled\n",
    "def store_objects(**kwargs):\n",
    "    for obj_name in kwargs:\n",
    "        if hasattr(kwargs[obj_name], '__call__'):\n",
    "            raise RuntimeError('Functions cannot be pickled.')\n",
    "        obj_path = saves_folder + 'pickle/' + str(obj_name)\n",
    "        pickle_path = obj_path + '.pickle'\n",
    "        if isinstance(kwargs[obj_name], pd.DataFrame):\n",
    "            kwargs[obj_name].to_pickle(pickle_path)\n",
    "        else:\n",
    "            with open(pickle_path, 'wb') as handle:\n",
    "                pickle.dump(kwargs[obj_name], handle, pickle.HIGHEST_PROTOCOL)"
   ]
  },
  {
   "cell_type": "code",
   "execution_count": 5,
   "metadata": {},
   "outputs": [
    {
     "name": "stderr",
     "output_type": "stream",
     "text": [
      "/Users/davebabbitt/anaconda/lib/python3.5/site-packages/IPython/core/interactiveshell.py:2910: DtypeWarning: Columns (76) have mixed types. Specify dtype option on import or set low_memory=False.\n",
      "  exec(code_obj, self.user_global_ns, self.user_ns)\n"
     ]
    },
    {
     "data": {
      "text/html": [
       "<div>\n",
       "<style>\n",
       "    .dataframe thead tr:only-child th {\n",
       "        text-align: right;\n",
       "    }\n",
       "\n",
       "    .dataframe thead th {\n",
       "        text-align: left;\n",
       "    }\n",
       "\n",
       "    .dataframe tbody tr th {\n",
       "        vertical-align: top;\n",
       "    }\n",
       "</style>\n",
       "<table border=\"1\" class=\"dataframe\">\n",
       "  <thead>\n",
       "    <tr style=\"text-align: right;\">\n",
       "      <th></th>\n",
       "      <th>8545</th>\n",
       "      <th>2337</th>\n",
       "      <th>37214</th>\n",
       "      <th>5752</th>\n",
       "    </tr>\n",
       "  </thead>\n",
       "  <tbody>\n",
       "    <tr>\n",
       "      <th>ETHRACE2A</th>\n",
       "      <td>1</td>\n",
       "      <td>5</td>\n",
       "      <td>1</td>\n",
       "      <td>2</td>\n",
       "    </tr>\n",
       "    <tr>\n",
       "      <th>ETOTLCA2</th>\n",
       "      <td></td>\n",
       "      <td>0.1305</td>\n",
       "      <td>0.0016</td>\n",
       "      <td>3.6</td>\n",
       "    </tr>\n",
       "    <tr>\n",
       "      <th>IDNUM</th>\n",
       "      <td>8546</td>\n",
       "      <td>2338</td>\n",
       "      <td>37215</td>\n",
       "      <td>5753</td>\n",
       "    </tr>\n",
       "    <tr>\n",
       "      <th>PSU</th>\n",
       "      <td>49006</td>\n",
       "      <td>48990</td>\n",
       "      <td>12025</td>\n",
       "      <td>13052</td>\n",
       "    </tr>\n",
       "    <tr>\n",
       "      <th>STRATUM</th>\n",
       "      <td>4904</td>\n",
       "      <td>4826</td>\n",
       "      <td>1205</td>\n",
       "      <td>1301</td>\n",
       "    </tr>\n",
       "    <tr>\n",
       "      <th>WEIGHT</th>\n",
       "      <td>7186.59</td>\n",
       "      <td>1460.79</td>\n",
       "      <td>6982.04</td>\n",
       "      <td>4385.77</td>\n",
       "    </tr>\n",
       "    <tr>\n",
       "      <th>CDAY</th>\n",
       "      <td>2</td>\n",
       "      <td>29</td>\n",
       "      <td>17</td>\n",
       "      <td>11</td>\n",
       "    </tr>\n",
       "    <tr>\n",
       "      <th>CMON</th>\n",
       "      <td>10</td>\n",
       "      <td>11</td>\n",
       "      <td>11</td>\n",
       "      <td>10</td>\n",
       "    </tr>\n",
       "    <tr>\n",
       "      <th>CYEAR</th>\n",
       "      <td>2001</td>\n",
       "      <td>2001</td>\n",
       "      <td>2001</td>\n",
       "      <td>2001</td>\n",
       "    </tr>\n",
       "    <tr>\n",
       "      <th>REGION</th>\n",
       "      <td>4</td>\n",
       "      <td>3</td>\n",
       "      <td>3</td>\n",
       "      <td>3</td>\n",
       "    </tr>\n",
       "    <tr>\n",
       "      <th>CENDIV</th>\n",
       "      <td>8</td>\n",
       "      <td>7</td>\n",
       "      <td>5</td>\n",
       "      <td>5</td>\n",
       "    </tr>\n",
       "    <tr>\n",
       "      <th>CCS</th>\n",
       "      <td>2</td>\n",
       "      <td>2</td>\n",
       "      <td>2</td>\n",
       "      <td>3</td>\n",
       "    </tr>\n",
       "    <tr>\n",
       "      <th>FIPSTATE</th>\n",
       "      <td>49</td>\n",
       "      <td>48</td>\n",
       "      <td>12</td>\n",
       "      <td>13</td>\n",
       "    </tr>\n",
       "    <tr>\n",
       "      <th>BUILDTYP</th>\n",
       "      <td>2</td>\n",
       "      <td>2</td>\n",
       "      <td>2</td>\n",
       "      <td>2</td>\n",
       "    </tr>\n",
       "    <tr>\n",
       "      <th>NUMPERS</th>\n",
       "      <td>2</td>\n",
       "      <td>1</td>\n",
       "      <td>2</td>\n",
       "      <td>3</td>\n",
       "    </tr>\n",
       "    <tr>\n",
       "      <th>NUMPER18</th>\n",
       "      <td>2</td>\n",
       "      <td>1</td>\n",
       "      <td>2</td>\n",
       "      <td>3</td>\n",
       "    </tr>\n",
       "    <tr>\n",
       "      <th>NUMREL</th>\n",
       "      <td>2</td>\n",
       "      <td>1</td>\n",
       "      <td>2</td>\n",
       "      <td>3</td>\n",
       "    </tr>\n",
       "    <tr>\n",
       "      <th>NUMREL18</th>\n",
       "      <td>2</td>\n",
       "      <td>1</td>\n",
       "      <td>2</td>\n",
       "      <td>3</td>\n",
       "    </tr>\n",
       "    <tr>\n",
       "      <th>CHLD0</th>\n",
       "      <td>0</td>\n",
       "      <td>0</td>\n",
       "      <td>0</td>\n",
       "      <td>0</td>\n",
       "    </tr>\n",
       "    <tr>\n",
       "      <th>CHLD1_4</th>\n",
       "      <td>0</td>\n",
       "      <td>0</td>\n",
       "      <td>0</td>\n",
       "      <td>0</td>\n",
       "    </tr>\n",
       "    <tr>\n",
       "      <th>CHLD5_12</th>\n",
       "      <td>0</td>\n",
       "      <td>0</td>\n",
       "      <td>0</td>\n",
       "      <td>0</td>\n",
       "    </tr>\n",
       "    <tr>\n",
       "      <th>CHLD13_15</th>\n",
       "      <td>0</td>\n",
       "      <td>0</td>\n",
       "      <td>0</td>\n",
       "      <td>0</td>\n",
       "    </tr>\n",
       "    <tr>\n",
       "      <th>CHLD16_17</th>\n",
       "      <td>0</td>\n",
       "      <td>0</td>\n",
       "      <td>0</td>\n",
       "      <td>0</td>\n",
       "    </tr>\n",
       "    <tr>\n",
       "      <th>CHLD0_17</th>\n",
       "      <td>0</td>\n",
       "      <td>0</td>\n",
       "      <td>0</td>\n",
       "      <td>0</td>\n",
       "    </tr>\n",
       "    <tr>\n",
       "      <th>SPOUSE</th>\n",
       "      <td>2</td>\n",
       "      <td>2</td>\n",
       "      <td>1</td>\n",
       "      <td>1</td>\n",
       "    </tr>\n",
       "    <tr>\n",
       "      <th>FATHERIH</th>\n",
       "      <td>2</td>\n",
       "      <td>2</td>\n",
       "      <td>2</td>\n",
       "      <td>2</td>\n",
       "    </tr>\n",
       "    <tr>\n",
       "      <th>MOTHERIH</th>\n",
       "      <td>2</td>\n",
       "      <td>2</td>\n",
       "      <td>2</td>\n",
       "      <td>2</td>\n",
       "    </tr>\n",
       "    <tr>\n",
       "      <th>ADULTCH</th>\n",
       "      <td>1</td>\n",
       "      <td>2</td>\n",
       "      <td>2</td>\n",
       "      <td>1</td>\n",
       "    </tr>\n",
       "    <tr>\n",
       "      <th>OTHREL</th>\n",
       "      <td>2</td>\n",
       "      <td>2</td>\n",
       "      <td>2</td>\n",
       "      <td>2</td>\n",
       "    </tr>\n",
       "    <tr>\n",
       "      <th>NONREL</th>\n",
       "      <td>0</td>\n",
       "      <td>0</td>\n",
       "      <td>0</td>\n",
       "      <td>0</td>\n",
       "    </tr>\n",
       "    <tr>\n",
       "      <th>...</th>\n",
       "      <td>...</td>\n",
       "      <td>...</td>\n",
       "      <td>...</td>\n",
       "      <td>...</td>\n",
       "    </tr>\n",
       "    <tr>\n",
       "      <th>DEPPDDX2</th>\n",
       "      <td>0</td>\n",
       "      <td>0</td>\n",
       "      <td>0</td>\n",
       "      <td>0</td>\n",
       "    </tr>\n",
       "    <tr>\n",
       "      <th>OBCOMDX2</th>\n",
       "      <td>0</td>\n",
       "      <td>0</td>\n",
       "      <td>0</td>\n",
       "      <td>0</td>\n",
       "    </tr>\n",
       "    <tr>\n",
       "      <th>PARADX2</th>\n",
       "      <td>0</td>\n",
       "      <td>0</td>\n",
       "      <td>0</td>\n",
       "      <td>0</td>\n",
       "    </tr>\n",
       "    <tr>\n",
       "      <th>SCHIZDX2</th>\n",
       "      <td>0</td>\n",
       "      <td>0</td>\n",
       "      <td>0</td>\n",
       "      <td>0</td>\n",
       "    </tr>\n",
       "    <tr>\n",
       "      <th>HISTDX2</th>\n",
       "      <td>0</td>\n",
       "      <td>0</td>\n",
       "      <td>0</td>\n",
       "      <td>0</td>\n",
       "    </tr>\n",
       "    <tr>\n",
       "      <th>ALCABDEP12DX</th>\n",
       "      <td>0</td>\n",
       "      <td>0</td>\n",
       "      <td>0</td>\n",
       "      <td>0</td>\n",
       "    </tr>\n",
       "    <tr>\n",
       "      <th>ALCABDEPP12DX</th>\n",
       "      <td>0</td>\n",
       "      <td>0</td>\n",
       "      <td>0</td>\n",
       "      <td>0</td>\n",
       "    </tr>\n",
       "    <tr>\n",
       "      <th>TAB12MDX</th>\n",
       "      <td>0</td>\n",
       "      <td>0</td>\n",
       "      <td>0</td>\n",
       "      <td>0</td>\n",
       "    </tr>\n",
       "    <tr>\n",
       "      <th>TABP12MDX</th>\n",
       "      <td>0</td>\n",
       "      <td>0</td>\n",
       "      <td>0</td>\n",
       "      <td>0</td>\n",
       "    </tr>\n",
       "    <tr>\n",
       "      <th>TABLIFEDX</th>\n",
       "      <td>0</td>\n",
       "      <td>0</td>\n",
       "      <td>0</td>\n",
       "      <td>0</td>\n",
       "    </tr>\n",
       "    <tr>\n",
       "      <th>STIM12ABDEP</th>\n",
       "      <td>0</td>\n",
       "      <td>0</td>\n",
       "      <td>0</td>\n",
       "      <td>0</td>\n",
       "    </tr>\n",
       "    <tr>\n",
       "      <th>STIMP12ABDEP</th>\n",
       "      <td>0</td>\n",
       "      <td>0</td>\n",
       "      <td>0</td>\n",
       "      <td>0</td>\n",
       "    </tr>\n",
       "    <tr>\n",
       "      <th>PAN12ABDEP</th>\n",
       "      <td>0</td>\n",
       "      <td>0</td>\n",
       "      <td>0</td>\n",
       "      <td>0</td>\n",
       "    </tr>\n",
       "    <tr>\n",
       "      <th>PANP12ABDEP</th>\n",
       "      <td>0</td>\n",
       "      <td>0</td>\n",
       "      <td>0</td>\n",
       "      <td>0</td>\n",
       "    </tr>\n",
       "    <tr>\n",
       "      <th>SED12ABDEP</th>\n",
       "      <td>0</td>\n",
       "      <td>0</td>\n",
       "      <td>0</td>\n",
       "      <td>0</td>\n",
       "    </tr>\n",
       "    <tr>\n",
       "      <th>SEDP12ABDEP</th>\n",
       "      <td>0</td>\n",
       "      <td>0</td>\n",
       "      <td>0</td>\n",
       "      <td>0</td>\n",
       "    </tr>\n",
       "    <tr>\n",
       "      <th>TRAN12ABDEP</th>\n",
       "      <td>0</td>\n",
       "      <td>0</td>\n",
       "      <td>0</td>\n",
       "      <td>0</td>\n",
       "    </tr>\n",
       "    <tr>\n",
       "      <th>TRANP12ABDEP</th>\n",
       "      <td>0</td>\n",
       "      <td>0</td>\n",
       "      <td>0</td>\n",
       "      <td>0</td>\n",
       "    </tr>\n",
       "    <tr>\n",
       "      <th>COC12ABDEP</th>\n",
       "      <td>0</td>\n",
       "      <td>0</td>\n",
       "      <td>0</td>\n",
       "      <td>0</td>\n",
       "    </tr>\n",
       "    <tr>\n",
       "      <th>COCP12ABDEP</th>\n",
       "      <td>0</td>\n",
       "      <td>0</td>\n",
       "      <td>0</td>\n",
       "      <td>0</td>\n",
       "    </tr>\n",
       "    <tr>\n",
       "      <th>SOL12ABDEP</th>\n",
       "      <td>0</td>\n",
       "      <td>0</td>\n",
       "      <td>0</td>\n",
       "      <td>0</td>\n",
       "    </tr>\n",
       "    <tr>\n",
       "      <th>SOLP12ABDEP</th>\n",
       "      <td>0</td>\n",
       "      <td>0</td>\n",
       "      <td>0</td>\n",
       "      <td>0</td>\n",
       "    </tr>\n",
       "    <tr>\n",
       "      <th>HAL12ABDEP</th>\n",
       "      <td>0</td>\n",
       "      <td>0</td>\n",
       "      <td>0</td>\n",
       "      <td>0</td>\n",
       "    </tr>\n",
       "    <tr>\n",
       "      <th>HALP12ABDEP</th>\n",
       "      <td>0</td>\n",
       "      <td>0</td>\n",
       "      <td>0</td>\n",
       "      <td>0</td>\n",
       "    </tr>\n",
       "    <tr>\n",
       "      <th>MAR12ABDEP</th>\n",
       "      <td>0</td>\n",
       "      <td>0</td>\n",
       "      <td>0</td>\n",
       "      <td>0</td>\n",
       "    </tr>\n",
       "    <tr>\n",
       "      <th>MARP12ABDEP</th>\n",
       "      <td>0</td>\n",
       "      <td>0</td>\n",
       "      <td>0</td>\n",
       "      <td>0</td>\n",
       "    </tr>\n",
       "    <tr>\n",
       "      <th>HER12ABDEP</th>\n",
       "      <td>0</td>\n",
       "      <td>0</td>\n",
       "      <td>0</td>\n",
       "      <td>0</td>\n",
       "    </tr>\n",
       "    <tr>\n",
       "      <th>HERP12ABDEP</th>\n",
       "      <td>0</td>\n",
       "      <td>0</td>\n",
       "      <td>0</td>\n",
       "      <td>0</td>\n",
       "    </tr>\n",
       "    <tr>\n",
       "      <th>OTHB12ABDEP</th>\n",
       "      <td>0</td>\n",
       "      <td>0</td>\n",
       "      <td>0</td>\n",
       "      <td>0</td>\n",
       "    </tr>\n",
       "    <tr>\n",
       "      <th>OTHBP12ABDEP</th>\n",
       "      <td>0</td>\n",
       "      <td>0</td>\n",
       "      <td>0</td>\n",
       "      <td>0</td>\n",
       "    </tr>\n",
       "  </tbody>\n",
       "</table>\n",
       "<p>3008 rows × 4 columns</p>\n",
       "</div>"
      ],
      "text/plain": [
       "                 8545     2337     37214    5752 \n",
       "ETHRACE2A            1        5        1        2\n",
       "ETOTLCA2                 0.1305   0.0016      3.6\n",
       "IDNUM             8546     2338    37215     5753\n",
       "PSU              49006    48990    12025    13052\n",
       "STRATUM           4904     4826     1205     1301\n",
       "WEIGHT         7186.59  1460.79  6982.04  4385.77\n",
       "CDAY                 2       29       17       11\n",
       "CMON                10       11       11       10\n",
       "CYEAR             2001     2001     2001     2001\n",
       "REGION               4        3        3        3\n",
       "CENDIV               8        7        5        5\n",
       "CCS                  2        2        2        3\n",
       "FIPSTATE            49       48       12       13\n",
       "BUILDTYP             2        2        2        2\n",
       "NUMPERS              2        1        2        3\n",
       "NUMPER18             2        1        2        3\n",
       "NUMREL               2        1        2        3\n",
       "NUMREL18             2        1        2        3\n",
       "CHLD0                0        0        0        0\n",
       "CHLD1_4              0        0        0        0\n",
       "CHLD5_12             0        0        0        0\n",
       "CHLD13_15            0        0        0        0\n",
       "CHLD16_17            0        0        0        0\n",
       "CHLD0_17             0        0        0        0\n",
       "SPOUSE               2        2        1        1\n",
       "FATHERIH             2        2        2        2\n",
       "MOTHERIH             2        2        2        2\n",
       "ADULTCH              1        2        2        1\n",
       "OTHREL               2        2        2        2\n",
       "NONREL               0        0        0        0\n",
       "...                ...      ...      ...      ...\n",
       "DEPPDDX2             0        0        0        0\n",
       "OBCOMDX2             0        0        0        0\n",
       "PARADX2              0        0        0        0\n",
       "SCHIZDX2             0        0        0        0\n",
       "HISTDX2              0        0        0        0\n",
       "ALCABDEP12DX         0        0        0        0\n",
       "ALCABDEPP12DX        0        0        0        0\n",
       "TAB12MDX             0        0        0        0\n",
       "TABP12MDX            0        0        0        0\n",
       "TABLIFEDX            0        0        0        0\n",
       "STIM12ABDEP          0        0        0        0\n",
       "STIMP12ABDEP         0        0        0        0\n",
       "PAN12ABDEP           0        0        0        0\n",
       "PANP12ABDEP          0        0        0        0\n",
       "SED12ABDEP           0        0        0        0\n",
       "SEDP12ABDEP          0        0        0        0\n",
       "TRAN12ABDEP          0        0        0        0\n",
       "TRANP12ABDEP         0        0        0        0\n",
       "COC12ABDEP           0        0        0        0\n",
       "COCP12ABDEP          0        0        0        0\n",
       "SOL12ABDEP           0        0        0        0\n",
       "SOLP12ABDEP          0        0        0        0\n",
       "HAL12ABDEP           0        0        0        0\n",
       "HALP12ABDEP          0        0        0        0\n",
       "MAR12ABDEP           0        0        0        0\n",
       "MARP12ABDEP          0        0        0        0\n",
       "HER12ABDEP           0        0        0        0\n",
       "HERP12ABDEP          0        0        0        0\n",
       "OTHB12ABDEP          0        0        0        0\n",
       "OTHBP12ABDEP         0        0        0        0\n",
       "\n",
       "[3008 rows x 4 columns]"
      ]
     },
     "execution_count": 5,
     "metadata": {},
     "output_type": "execute_result"
    }
   ],
   "source": [
    "\n",
    "frame_dict = load_dataframes(nesarc_pds='nesarc_pds')\n",
    "nesarc_pds_df = frame_dict['nesarc_pds']\n",
    "store_objects(nesarc_pds_df=nesarc_pds_df)\n",
    "nesarc_pds_df.sample(4).T"
   ]
  },
  {
   "cell_type": "code",
   "execution_count": 6,
   "metadata": {},
   "outputs": [],
   "source": [
    "\n",
    "# Set variables you will be working with to numeric\n",
    "nesarc_pds_df['TAB12MDX'] = pd.to_numeric(nesarc_pds_df['TAB12MDX'], errors='coerce')\n",
    "nesarc_pds_df['CHECK321'] = pd.to_numeric(nesarc_pds_df['CHECK321'], errors='coerce')\n",
    "nesarc_pds_df['S3AQ3B1'] = pd.to_numeric(nesarc_pds_df['S3AQ3B1'], errors='coerce')\n",
    "nesarc_pds_df['S3AQ3C1'] = pd.to_numeric(nesarc_pds_df['S3AQ3C1'], errors='coerce')\n",
    "nesarc_pds_df['AGE'] = pd.to_numeric(nesarc_pds_df['AGE'], errors='coerce')"
   ]
  },
  {
   "cell_type": "code",
   "execution_count": 7,
   "metadata": {},
   "outputs": [],
   "source": [
    "\n",
    "# Subset nesarc_pds_df to young adults age 18 to 25 who have smoked in the past 12 months\n",
    "match_series = (nesarc_pds_df['AGE']>=18) & (nesarc_pds_df['AGE']<=25) & (nesarc_pds_df['CHECK321']==1)\n",
    "sub1 = nesarc_pds_df[match_series]"
   ]
  },
  {
   "cell_type": "code",
   "execution_count": 8,
   "metadata": {},
   "outputs": [],
   "source": [
    "\n",
    "# Make a copy of my new subsetted nesarc_pds_df\n",
    "sub2 = sub1.copy()"
   ]
  },
  {
   "cell_type": "code",
   "execution_count": 9,
   "metadata": {},
   "outputs": [],
   "source": [
    "\n",
    "# Recode missing values to python missing (NaN)\n",
    "sub2['S3AQ3B1'] = sub2['S3AQ3B1'].replace(9, np.nan)\n",
    "sub2['S3AQ3C1'] = sub2['S3AQ3C1'].replace(99, np.nan)"
   ]
  },
  {
   "cell_type": "raw",
   "metadata": {},
   "source": [
    "\n",
    "------------------------------------------------------------------------------------------------------------------------------------\n",
    "722-722     S3AQ3B1              USUAL FREQUENCY WHEN SMOKED CIGARETTES\n",
    "                                 --------------------------------------\n",
    "                        14836     1.  Every day\n",
    "                          460     2.  5 to 6 Day(s) a week\n",
    "                          687     3.  3 to 4 Day(s) a week\n",
    "                          747     4.  1 to 2 Day(s) a week\n",
    "                          409     5.  2 to 3 Day(s) a month\n",
    "                          772     6.  Once a month or less\n",
    "                          102     9.  Unknown\n",
    "                        25080    BL.  NA, never or unknown if ever smoked 100+ cigarettes\n",
    "------------------------------------------------------------------------------------------------------------------------------------"
   ]
  },
  {
   "cell_type": "code",
   "execution_count": 19,
   "metadata": {},
   "outputs": [],
   "source": [
    "\n",
    "# Recoding values for S3AQ3B1 into a new variable, USFREQMO\n",
    "recode1 = {1: 30, 2: 22, 3: 14, 4: 6, 5: 2.5, 6: 1}\n",
    "sub2['USFREQMO'] = sub2['S3AQ3B1'].map(recode1)"
   ]
  },
  {
   "cell_type": "code",
   "execution_count": 11,
   "metadata": {},
   "outputs": [
    {
     "name": "stdout",
     "output_type": "stream",
     "text": [
      "USFREQMO  1.0   2.5   6.0   14.0  22.0  30.0\n",
      "TAB12MDX                                    \n",
      "0           64    53    69    59    41   521\n",
      "1            7    12    19    32    27   799\n"
     ]
    }
   ],
   "source": [
    "\n",
    "# Contingency table of observed counts\n",
    "ct1 = pd.crosstab(sub2['TAB12MDX'], sub2['USFREQMO'])\n",
    "print(ct1)"
   ]
  },
  {
   "cell_type": "code",
   "execution_count": 12,
   "metadata": {},
   "outputs": [
    {
     "name": "stdout",
     "output_type": "stream",
     "text": [
      "USFREQMO      1.0       2.5       6.0       14.0      22.0      30.0\n",
      "TAB12MDX                                                            \n",
      "0         0.901408  0.815385  0.784091  0.648352  0.602941  0.394697\n",
      "1         0.098592  0.184615  0.215909  0.351648  0.397059  0.605303\n"
     ]
    }
   ],
   "source": [
    "\n",
    "# Column percentages\n",
    "colsum = ct1.sum(axis=0)\n",
    "colpct = ct1/colsum\n",
    "print(colpct)"
   ]
  },
  {
   "cell_type": "code",
   "execution_count": 13,
   "metadata": {},
   "outputs": [
    {
     "name": "stdout",
     "output_type": "stream",
     "text": [
      "chi-square value, p value, expected counts\n",
      "(165.27320708055845, 7.4363642083905987e-34, 5, array([[  33.64474457,   30.80152672,   41.70052848,   43.1221374 ,\n",
      "          32.22313564,  625.50792719],\n",
      "       [  37.35525543,   34.19847328,   46.29947152,   47.8778626 ,\n",
      "          35.77686436,  694.49207281]]))\n"
     ]
    }
   ],
   "source": [
    "\n",
    "# Chi-square\n",
    "print('chi-square value, p value, expected counts')\n",
    "cs1 = scipy.stats.chi2_contingency(ct1)\n",
    "print(cs1)"
   ]
  },
  {
   "cell_type": "code",
   "execution_count": 26,
   "metadata": {},
   "outputs": [],
   "source": [
    "\n",
    "# Set variable types\n",
    "sub2['USFREQMO'] = sub2['USFREQMO'].astype('category')\n",
    "\n",
    "# New code for setting variables to numeric:\n",
    "sub2['TAB12MDX'] = pd.to_numeric(sub2['TAB12MDX'], errors='coerce')"
   ]
  },
  {
   "cell_type": "code",
   "execution_count": 31,
   "metadata": {
    "scrolled": false
   },
   "outputs": [
    {
     "data": {
      "image/png": "[encoded data removed]",
      "text/plain": [
       "<matplotlib.figure.Figure at 0x11eb692b0>"
      ]
     },
     "metadata": {},
     "output_type": "display_data"
    }
   ],
   "source": [
    "\n",
    "%matplotlib inline\n",
    "\n",
    "# Graph percent with nicotine dependence within each smoking frequency group\n",
    "facet_grid = seaborn.factorplot(x='USFREQMO', y='TAB12MDX', data=sub2, kind='bar', ci=None, size=15)\n",
    "xlabel = plt.xlabel('Days smoked per month')\n",
    "ylabel = plt.ylabel('Proportion Nicotine Dependent')"
   ]
  },
  {
   "cell_type": "code",
   "execution_count": 32,
   "metadata": {},
   "outputs": [],
   "source": [
    "\n",
    "recode2 = {1: 1, 2.5: 2.5}\n",
    "sub2['COMP1v2'] = sub2['USFREQMO'].map(recode2)"
   ]
  },
  {
   "cell_type": "code",
   "execution_count": 33,
   "metadata": {},
   "outputs": [
    {
     "name": "stdout",
     "output_type": "stream",
     "text": [
      "COMP1v2   1.0  2.5\n",
      "TAB12MDX          \n",
      "0          64   53\n",
      "1           7   12\n"
     ]
    }
   ],
   "source": [
    "\n",
    "# Contingency table of observed counts\n",
    "ct2 = pd.crosstab(sub2['TAB12MDX'], sub2['COMP1v2'])\n",
    "print(ct2)"
   ]
  },
  {
   "cell_type": "code",
   "execution_count": 34,
   "metadata": {},
   "outputs": [
    {
     "name": "stdout",
     "output_type": "stream",
     "text": [
      "COMP1v2        1.0       2.5\n",
      "TAB12MDX                    \n",
      "0         0.901408  0.815385\n",
      "1         0.098592  0.184615\n"
     ]
    }
   ],
   "source": [
    "\n",
    "# Column percentages\n",
    "colsum = ct2.sum(axis=0)\n",
    "colpct = ct2/colsum\n",
    "print(colpct)"
   ]
  },
  {
   "cell_type": "code",
   "execution_count": 36,
   "metadata": {},
   "outputs": [
    {
     "name": "stdout",
     "output_type": "stream",
     "text": [
      "The test statistic, The p-value of the test, Degrees of freedom, The expected frequencies (based on the marginal sums of the table)\n",
      "(1.4348930637007287, 0.23096754489777169, 1, array([[ 61.08088235,  55.91911765],\n",
      "       [  9.91911765,   9.08088235]]))\n"
     ]
    }
   ],
   "source": [
    "\n",
    "print('The test statistic, The p-value of the test, Degrees of freedom, The expected frequencies (based on the marginal sums of the table)')\n",
    "cs2 = scipy.stats.chi2_contingency(ct2)\n",
    "print(cs2)"
   ]
  },
  {
   "cell_type": "code",
   "execution_count": 37,
   "metadata": {},
   "outputs": [],
   "source": [
    "\n",
    "recode3 = {1: 1, 6: 6}\n",
    "sub2['COMP1v6'] = sub2['USFREQMO'].map(recode3)"
   ]
  },
  {
   "cell_type": "code",
   "execution_count": 38,
   "metadata": {},
   "outputs": [
    {
     "name": "stdout",
     "output_type": "stream",
     "text": [
      "COMP1v6   1.0  6.0\n",
      "TAB12MDX          \n",
      "0          64   69\n",
      "1           7   19\n"
     ]
    }
   ],
   "source": [
    "\n",
    "# Contingency table of observed counts\n",
    "ct3 = pd.crosstab(sub2['TAB12MDX'], sub2['COMP1v6'])\n",
    "print(ct3)"
   ]
  },
  {
   "cell_type": "code",
   "execution_count": 39,
   "metadata": {},
   "outputs": [
    {
     "name": "stdout",
     "output_type": "stream",
     "text": [
      "COMP1v6        1.0       6.0\n",
      "TAB12MDX                    \n",
      "0         0.901408  0.784091\n",
      "1         0.098592  0.215909\n"
     ]
    }
   ],
   "source": [
    "\n",
    "# Column percentages\n",
    "colsum = ct3.sum(axis=0)\n",
    "colpct = ct3/colsum\n",
    "print(colpct)"
   ]
  },
  {
   "cell_type": "code",
   "execution_count": 40,
   "metadata": {},
   "outputs": [
    {
     "name": "stdout",
     "output_type": "stream",
     "text": [
      "The test statistic, The p-value of the test, Degrees of freedom, The expected frequencies (based on the marginal sums of the table)\n",
      "(3.1428401912209361, 0.076260901982868209, 1, array([[ 59.38993711,  73.61006289],\n",
      "       [ 11.61006289,  14.38993711]]))\n"
     ]
    }
   ],
   "source": [
    "\n",
    "print('The test statistic, The p-value of the test, Degrees of freedom, The expected frequencies (based on the marginal sums of the table)')\n",
    "cs3 = scipy.stats.chi2_contingency(ct3)\n",
    "print(cs3)"
   ]
  },
  {
   "cell_type": "code",
   "execution_count": 41,
   "metadata": {},
   "outputs": [],
   "source": [
    "\n",
    "recode4 = {1: 1, 14: 14}\n",
    "sub2['COMP1v14'] = sub2['USFREQMO'].map(recode4)"
   ]
  },
  {
   "cell_type": "code",
   "execution_count": 42,
   "metadata": {},
   "outputs": [
    {
     "name": "stdout",
     "output_type": "stream",
     "text": [
      "COMP1v14  1.0   14.0\n",
      "TAB12MDX            \n",
      "0           64    59\n",
      "1            7    32\n"
     ]
    }
   ],
   "source": [
    "\n",
    "# Contingency table of observed counts\n",
    "ct4 = pd.crosstab(sub2['TAB12MDX'], sub2['COMP1v14'])\n",
    "print(ct4)"
   ]
  },
  {
   "cell_type": "code",
   "execution_count": 43,
   "metadata": {},
   "outputs": [
    {
     "name": "stdout",
     "output_type": "stream",
     "text": [
      "COMP1v14      1.0       14.0\n",
      "TAB12MDX                    \n",
      "0         0.901408  0.648352\n",
      "1         0.098592  0.351648\n"
     ]
    }
   ],
   "source": [
    "\n",
    "# Column percentages\n",
    "colsum = ct4.sum(axis=0)\n",
    "colpct = ct4/colsum\n",
    "print(colpct)"
   ]
  },
  {
   "cell_type": "code",
   "execution_count": 44,
   "metadata": {},
   "outputs": [
    {
     "name": "stdout",
     "output_type": "stream",
     "text": [
      "The test statistic, The p-value of the test, Degrees of freedom, The expected frequencies (based on the marginal sums of the table)\n",
      "(12.622564075461572, 0.00038111819882681824, 1, array([[ 53.90740741,  69.09259259],\n",
      "       [ 17.09259259,  21.90740741]]))\n"
     ]
    }
   ],
   "source": [
    "\n",
    "print('The test statistic, The p-value of the test, Degrees of freedom, The expected frequencies (based on the marginal sums of the table)')\n",
    "cs4 = scipy.stats.chi2_contingency(ct4)\n",
    "print(cs4)"
   ]
  },
  {
   "cell_type": "code",
   "execution_count": 53,
   "metadata": {},
   "outputs": [],
   "source": [
    "\n",
    "recode5 = {1: 1, 22: 22}\n",
    "sub2['COMP1v22'] = sub2['USFREQMO'].map(recode5)"
   ]
  },
  {
   "cell_type": "code",
   "execution_count": 56,
   "metadata": {},
   "outputs": [
    {
     "name": "stdout",
     "output_type": "stream",
     "text": [
      "COMP1v22  1.0   22.0\n",
      "TAB12MDX            \n",
      "0           64    41\n",
      "1            7    27\n"
     ]
    }
   ],
   "source": [
    "\n",
    "# Contingency table of observed counts\n",
    "ct5 = pd.crosstab(sub2['TAB12MDX'], sub2['COMP1v22'])\n",
    "print(ct5)"
   ]
  },
  {
   "cell_type": "code",
   "execution_count": 57,
   "metadata": {},
   "outputs": [
    {
     "name": "stdout",
     "output_type": "stream",
     "text": [
      "COMP1v22      1.0       22.0\n",
      "TAB12MDX                    \n",
      "0         0.901408  0.602941\n",
      "1         0.098592  0.397059\n"
     ]
    }
   ],
   "source": [
    "\n",
    "# Column percentages\n",
    "colsum = ct5.sum(axis=0)\n",
    "colpct = ct5/colsum\n",
    "print(colpct)"
   ]
  },
  {
   "cell_type": "code",
   "execution_count": 58,
   "metadata": {},
   "outputs": [
    {
     "name": "stdout",
     "output_type": "stream",
     "text": [
      "The test statistic, The p-value of the test, Degrees of freedom, The expected frequencies (based on the marginal sums of the table)\n",
      "(15.169488833230059, 9.8278652913185008e-05, 1, array([[ 53.63309353,  51.36690647],\n",
      "       [ 17.36690647,  16.63309353]]))\n"
     ]
    }
   ],
   "source": [
    "\n",
    "print('The test statistic, The p-value of the test, Degrees of freedom, The expected frequencies (based on the marginal sums of the table)')\n",
    "cs5 = scipy.stats.chi2_contingency(ct5)\n",
    "print(cs5)"
   ]
  },
  {
   "cell_type": "code",
   "execution_count": 59,
   "metadata": {},
   "outputs": [],
   "source": [
    "\n",
    "recode6 = {1: 1, 30: 30}\n",
    "sub2['COMP1v30'] = sub2['USFREQMO'].map(recode6)"
   ]
  },
  {
   "cell_type": "code",
   "execution_count": 60,
   "metadata": {},
   "outputs": [
    {
     "name": "stdout",
     "output_type": "stream",
     "text": [
      "COMP1v30  1.0   30.0\n",
      "TAB12MDX            \n",
      "0           64   521\n",
      "1            7   799\n"
     ]
    }
   ],
   "source": [
    "\n",
    "# Contingency table of observed counts\n",
    "ct6 = pd.crosstab(sub2['TAB12MDX'], sub2['COMP1v30'])\n",
    "print(ct6)"
   ]
  },
  {
   "cell_type": "code",
   "execution_count": 61,
   "metadata": {},
   "outputs": [
    {
     "name": "stdout",
     "output_type": "stream",
     "text": [
      "COMP1v30      1.0       30.0\n",
      "TAB12MDX                    \n",
      "0         0.901408  0.394697\n",
      "1         0.098592  0.605303\n"
     ]
    }
   ],
   "source": [
    "\n",
    "# Column percentages\n",
    "colsum = ct6.sum(axis=0)\n",
    "colpct = ct6/colsum\n",
    "print(colpct)"
   ]
  },
  {
   "cell_type": "code",
   "execution_count": 62,
   "metadata": {},
   "outputs": [
    {
     "name": "stdout",
     "output_type": "stream",
     "text": [
      "The test statistic, The p-value of the test, Degrees of freedom, The expected frequencies (based on the marginal sums of the table)\n",
      "(68.924718744884871, 1.0229460827061155e-16, 1, array([[  29.85981308,  555.14018692],\n",
      "       [  41.14018692,  764.85981308]]))\n"
     ]
    }
   ],
   "source": [
    "\n",
    "print('The test statistic, The p-value of the test, Degrees of freedom, The expected frequencies (based on the marginal sums of the table)')\n",
    "cs6 = scipy.stats.chi2_contingency(ct6)\n",
    "print(cs6)"
   ]
  },
  {
   "cell_type": "code",
   "execution_count": 67,
   "metadata": {},
   "outputs": [
    {
     "data": {
      "text/plain": [
       "[2.5, 6.0, 14.0, 22.0, 30.0]"
      ]
     },
     "execution_count": 67,
     "metadata": {},
     "output_type": "execute_result"
    },
    {
     "data": {
      "image/png": "[encoded data removed]",
      "text/plain": [
       "<matplotlib.figure.Figure at 0x121932b00>"
      ]
     },
     "metadata": {},
     "output_type": "display_data"
    }
   ],
   "source": [
    "\n",
    "x = [n for n in range(10, 1000, 5)]\n",
    "y = [scipy.stats.chi2_contingency(pd.crosstab(sub2['TAB12MDX'], sub2['USFREQMO'].map({1: 1, n/10: n/10})))[1] for n in x]\n",
    "axes_subplot = seaborn.pointplot(x, y)\n",
    "\n",
    "[x/10 for (x, y) in zip(x, y) if y != 1.0]"
   ]
  },
  {
   "cell_type": "code",
   "execution_count": 63,
   "metadata": {},
   "outputs": [],
   "source": [
    "\n",
    "recode7 = {2.5: 2.5, 6: 6}\n",
    "sub2['COMP2v6'] = sub2['USFREQMO'].map(recode7)"
   ]
  },
  {
   "cell_type": "code",
   "execution_count": 64,
   "metadata": {},
   "outputs": [
    {
     "name": "stdout",
     "output_type": "stream",
     "text": [
      "COMP2v6   2.5  6.0\n",
      "TAB12MDX          \n",
      "0          53   69\n",
      "1          12   19\n"
     ]
    }
   ],
   "source": [
    "\n",
    "# Contingency table of observed counts\n",
    "ct7 = pd.crosstab(sub2['TAB12MDX'], sub2['COMP2v6'])\n",
    "print(ct7)"
   ]
  },
  {
   "cell_type": "code",
   "execution_count": 65,
   "metadata": {},
   "outputs": [
    {
     "name": "stdout",
     "output_type": "stream",
     "text": [
      "COMP2v6        2.5       6.0\n",
      "TAB12MDX                    \n",
      "0         0.815385  0.784091\n",
      "1         0.184615  0.215909\n"
     ]
    }
   ],
   "source": [
    "\n",
    "# Column percentages\n",
    "colsum = ct7.sum(axis=0)\n",
    "colpct = ct7/colsum\n",
    "print(colpct)"
   ]
  },
  {
   "cell_type": "code",
   "execution_count": 66,
   "metadata": {},
   "outputs": [
    {
     "name": "stdout",
     "output_type": "stream",
     "text": [
      "The test statistic, The p-value of the test, Degrees of freedom, The expected frequencies (based on the marginal sums of the table)\n",
      "(0.074305610769452662, 0.78516797297006047, 1, array([[ 51.83006536,  70.16993464],\n",
      "       [ 13.16993464,  17.83006536]]))\n"
     ]
    }
   ],
   "source": [
    "\n",
    "print('The test statistic, The p-value of the test, Degrees of freedom, The expected frequencies (based on the marginal sums of the table)')\n",
    "cs7 = scipy.stats.chi2_contingency(ct7)\n",
    "print(cs7)"
   ]
  },
  {
   "cell_type": "code",
   "execution_count": null,
   "metadata": {},
   "outputs": [],
   "source": []
  }
 ],
 "metadata": {
  "kernelspec": {
   "display_name": "Python 3",
   "language": "python",
   "name": "python3"
  },
  "language_info": {
   "codemirror_mode": {
    "name": "ipython",
    "version": 3
   },
   "file_extension": ".py",
   "mimetype": "text/x-python",
   "name": "python",
   "nbconvert_exporter": "python",
   "pygments_lexer": "ipython3",
   "version": "3.5.4"
  }
 },
 "nbformat": 4,
 "nbformat_minor": 2
}
