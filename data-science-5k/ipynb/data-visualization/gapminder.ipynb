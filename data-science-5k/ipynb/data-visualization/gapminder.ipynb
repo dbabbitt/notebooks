{
 "cells": [
  {
   "cell_type": "markdown",
   "metadata": {},
   "source": [
    "# Making Interactive Visualizations with Bokeh\n",
    "\n",
    "[Bokeh](http://bokeh.pydata.org/en/latest/) is an interactive Python library for visualizations that targets modern web browsers for presentation. Its goal is to provide elegant, concise construction of novel graphics in the style of D3.js, and to extend this capability with high-performance interactivity over very large or streaming datasets. Bokeh can help anyone who would like to quickly and easily create interactive plots, dashboards, and data applications.\n",
    "\n",
    " - To get started using Bokeh to make your visualizations, see the [User Guide](http://bokeh.pydata.org/en/latest/docs/user_guide.html#userguide).\n",
    " - To see examples of how you might use Bokeh with your own data, check out the [Gallery](http://bokeh.pydata.org/en/latest/docs/gallery.html#gallery).\n",
    " - A complete API reference of Bokeh is at [Reference Guide](http://bokeh.pydata.org/en/latest/docs/reference.html#refguide).\n",
    "\n",
    "The following notebook is intended to illustrate some of Bokeh's interactive utilities and is based on a [post](https://demo.bokehplots.com/apps/gapminder) by software engineer and Bokeh developer [Sarah Bird](https://twitter.com/birdsarah).\n",
    "\n",
    "\n",
    "## Recreating Gapminder's \"The Health and Wealth of Nations\" \n",
    "\n",
    "Gapminder started as a spin-off from Professor Hans Rosling’s teaching at the Karolinska Institute in Stockholm. Having encountered broad ignorance about the rapid health improvement in Asia, he wanted to measure that lack of awareness among students and professors. He presented the surprising results from his so-called “Chimpanzee Test” in [his first TED-talk](https://www.ted.com/talks/hans_rosling_shows_the_best_stats_you_ve_ever_seen) in 2006.\n",
    "\n",
    "[![The Best Stats You've Never Seen](http://img.youtube.com/vi/hVimVzgtD6w/0.jpg)](http://www.youtube.com/watch?v=hVimVzgtD6w \"The best stats you've ever seen | Hans Rosling\")\n",
    "\n",
    "Rosling's interactive [\"Health and Wealth of Nations\" visualization](http://www.gapminder.org/world) has since become an iconic  illustration of how our assumptions about ‘first world’ and ‘third world’ countries can betray us. Mike Bostock has [recreated the visualization using D3.js](https://bost.ocks.org/mike/nations/), and in this lab, we will see that it is also possible to use Bokeh to recreate the interactive visualization in Python.\n",
    "\n",
    "\n",
    "### About Bokeh Widgets\n",
    "Widgets are interactive controls that can be added to Bokeh applications to provide a front end user interface to a visualization. They can drive new computations, update plots, and connect to other programmatic functionality. When used with the [Bokeh server](http://bokeh.pydata.org/en/latest/docs/user_guide/server.html), widgets can run arbitrary Python code, enabling complex applications. Widgets can also be used without the Bokeh server in standalone HTML documents through the browser’s Javascript runtime.\n",
    "\n",
    "To use widgets, you must add them to your document and define their functionality. Widgets can be added directly to the document root or nested inside a layout. There are two ways to program a widget’s functionality:\n",
    "\n",
    " - Use the CustomJS callback (see [CustomJS for Widgets](http://bokeh.pydata.org/en/0.12.0/docs/user_guide/interaction.html#userguide-interaction-actions-widget-callbacks). This will work in standalone HTML documents.\n",
    " - Use `bokeh serve` to start the Bokeh server and set up event handlers with `.on_change` (or for some widgets, `.on_click`).\n",
    " \n",
    "### Imports"
   ]
  },
  {
   "cell_type": "code",
   "execution_count": 1,
   "metadata": {
    "collapsed": false
   },
   "outputs": [
    {
     "name": "stdout",
     "output_type": "stream",
     "text": [
      "<module 'platform' from 'C:\\\\Users\\\\Dave\\\\Anaconda3\\\\lib\\\\platform.py'>\n"
     ]
    }
   ],
   "source": [
    "import numpy as np\n",
    "import pandas as pd\n",
    "\n",
    "from bokeh.layouts import layout\n",
    "from bokeh.layouts import widgetbox\n",
    "\n",
    "from bokeh.embed import file_html\n",
    "\n",
    "from bokeh.io import show\n",
    "from bokeh.io import output_notebook \n",
    "\n",
    "from bokeh.models import Text\n",
    "from bokeh.models import Plot\n",
    "from bokeh.models import Slider\n",
    "from bokeh.models import Circle\n",
    "from bokeh.models import Range1d\n",
    "from bokeh.models import CustomJS\n",
    "from bokeh.models import HoverTool\n",
    "from bokeh.models import LinearAxis\n",
    "from bokeh.models import ColumnDataSource\n",
    "from bokeh.models import SingleIntervalTicker\n",
    "\n",
    "from bokeh.palettes import Spectral6"
   ]
  },
  {
   "cell_type": "markdown",
   "metadata": {},
   "source": [
    "To display Bokeh plots inline in a Jupyter notebook, use the `output_notebook()` function from bokeh.io. When `show()` is called, the plot will be displayed inline in the next notebook output cell. To save your Bokeh plots, you can use the `output_file()` function instead (or in addition)."
   ]
  },
  {
   "cell_type": "code",
   "execution_count": 2,
   "metadata": {
    "collapsed": false
   },
   "outputs": [
    {
     "data": {
      "text/html": [
       "\n",
       "    <div class=\"bk-root\">\n",
       "        <a href=\"http://bokeh.pydata.org\" target=\"_blank\" class=\"bk-logo bk-logo-small bk-logo-notebook\"></a>\n",
       "        <span id=\"5e1d7756-10c8-4974-862a-f26be6ea1ca7\">Loading BokehJS ...</span>\n",
       "    </div>"
      ]
     },
     "metadata": {},
     "output_type": "display_data"
    },
    {
     "data": {
      "application/javascript": [
       "\n",
       "(function(global) {\n",
       "  function now() {\n",
       "    return new Date();\n",
       "  }\n",
       "\n",
       "  var force = true;\n",
       "\n",
       "  if (typeof (window._bokeh_onload_callbacks) === \"undefined\" || force === true) {\n",
       "    window._bokeh_onload_callbacks = [];\n",
       "    window._bokeh_is_loading = undefined;\n",
       "  }\n",
       "\n",
       "\n",
       "  \n",
       "  if (typeof (window._bokeh_timeout) === \"undefined\" || force === true) {\n",
       "    window._bokeh_timeout = Date.now() + 5000;\n",
       "    window._bokeh_failed_load = false;\n",
       "  }\n",
       "\n",
       "  var NB_LOAD_WARNING = {'data': {'text/html':\n",
       "     \"<div style='background-color: #fdd'>\\n\"+\n",
       "     \"<p>\\n\"+\n",
       "     \"BokehJS does not appear to have successfully loaded. If loading BokehJS from CDN, this \\n\"+\n",
       "     \"may be due to a slow or bad network connection. Possible fixes:\\n\"+\n",
       "     \"</p>\\n\"+\n",
       "     \"<ul>\\n\"+\n",
       "     \"<li>re-rerun `output_notebook()` to attempt to load from CDN again, or</li>\\n\"+\n",
       "     \"<li>use INLINE resources instead, as so:</li>\\n\"+\n",
       "     \"</ul>\\n\"+\n",
       "     \"<code>\\n\"+\n",
       "     \"from bokeh.resources import INLINE\\n\"+\n",
       "     \"output_notebook(resources=INLINE)\\n\"+\n",
       "     \"</code>\\n\"+\n",
       "     \"</div>\"}};\n",
       "\n",
       "  function display_loaded() {\n",
       "    if (window.Bokeh !== undefined) {\n",
       "      var el = document.getElementById(\"5e1d7756-10c8-4974-862a-f26be6ea1ca7\");\n",
       "      el.textContent = \"BokehJS \" + Bokeh.version + \" successfully loaded.\";\n",
       "    } else if (Date.now() < window._bokeh_timeout) {\n",
       "      setTimeout(display_loaded, 100)\n",
       "    }\n",
       "  }\n",
       "\n",
       "  function run_callbacks() {\n",
       "    try {\n",
       "      window._bokeh_onload_callbacks.forEach(function(callback) { callback() });\n",
       "    }\n",
       "    finally {\n",
       "      delete window._bokeh_onload_callbacks\n",
       "    }\n",
       "    console.info(\"Bokeh: all callbacks have finished\");\n",
       "  }\n",
       "\n",
       "  function load_libs(js_urls, callback) {\n",
       "    window._bokeh_onload_callbacks.push(callback);\n",
       "    if (window._bokeh_is_loading > 0) {\n",
       "      console.log(\"Bokeh: BokehJS is being loaded, scheduling callback at\", now());\n",
       "      return null;\n",
       "    }\n",
       "    if (js_urls == null || js_urls.length === 0) {\n",
       "      run_callbacks();\n",
       "      return null;\n",
       "    }\n",
       "    console.log(\"Bokeh: BokehJS not loaded, scheduling load and callback at\", now());\n",
       "    window._bokeh_is_loading = js_urls.length;\n",
       "    for (var i = 0; i < js_urls.length; i++) {\n",
       "      var url = js_urls[i];\n",
       "      var s = document.createElement('script');\n",
       "      s.src = url;\n",
       "      s.async = false;\n",
       "      s.onreadystatechange = s.onload = function() {\n",
       "        window._bokeh_is_loading--;\n",
       "        if (window._bokeh_is_loading === 0) {\n",
       "          console.log(\"Bokeh: all BokehJS libraries loaded\");\n",
       "          run_callbacks()\n",
       "        }\n",
       "      };\n",
       "      s.onerror = function() {\n",
       "        console.warn(\"failed to load library \" + url);\n",
       "      };\n",
       "      console.log(\"Bokeh: injecting script tag for BokehJS library: \", url);\n",
       "      document.getElementsByTagName(\"head\")[0].appendChild(s);\n",
       "    }\n",
       "  };var element = document.getElementById(\"5e1d7756-10c8-4974-862a-f26be6ea1ca7\");\n",
       "  if (element == null) {\n",
       "    console.log(\"Bokeh: ERROR: autoload.js configured with elementid '5e1d7756-10c8-4974-862a-f26be6ea1ca7' but no matching script tag was found. \")\n",
       "    return false;\n",
       "  }\n",
       "\n",
       "  var js_urls = [\"https://cdn.pydata.org/bokeh/release/bokeh-0.12.6.min.js\", \"https://cdn.pydata.org/bokeh/release/bokeh-widgets-0.12.6.min.js\"];\n",
       "\n",
       "  var inline_js = [\n",
       "    function(Bokeh) {\n",
       "      Bokeh.set_log_level(\"info\");\n",
       "    },\n",
       "    \n",
       "    function(Bokeh) {\n",
       "      \n",
       "    },\n",
       "    \n",
       "    function(Bokeh) {\n",
       "      \n",
       "      document.getElementById(\"5e1d7756-10c8-4974-862a-f26be6ea1ca7\").textContent = \"BokehJS is loading...\";\n",
       "    },\n",
       "    function(Bokeh) {\n",
       "      console.log(\"Bokeh: injecting CSS: https://cdn.pydata.org/bokeh/release/bokeh-0.12.6.min.css\");\n",
       "      Bokeh.embed.inject_css(\"https://cdn.pydata.org/bokeh/release/bokeh-0.12.6.min.css\");\n",
       "      console.log(\"Bokeh: injecting CSS: https://cdn.pydata.org/bokeh/release/bokeh-widgets-0.12.6.min.css\");\n",
       "      Bokeh.embed.inject_css(\"https://cdn.pydata.org/bokeh/release/bokeh-widgets-0.12.6.min.css\");\n",
       "    }\n",
       "  ];\n",
       "\n",
       "  function run_inline_js() {\n",
       "    \n",
       "    if ((window.Bokeh !== undefined) || (force === true)) {\n",
       "      for (var i = 0; i < inline_js.length; i++) {\n",
       "        inline_js[i](window.Bokeh);\n",
       "      }if (force === true) {\n",
       "        display_loaded();\n",
       "      }} else if (Date.now() < window._bokeh_timeout) {\n",
       "      setTimeout(run_inline_js, 100);\n",
       "    } else if (!window._bokeh_failed_load) {\n",
       "      console.log(\"Bokeh: BokehJS failed to load within specified timeout.\");\n",
       "      window._bokeh_failed_load = true;\n",
       "    } else if (force !== true) {\n",
       "      var cell = $(document.getElementById(\"5e1d7756-10c8-4974-862a-f26be6ea1ca7\")).parents('.cell').data().cell;\n",
       "      cell.output_area.append_execute_result(NB_LOAD_WARNING)\n",
       "    }\n",
       "\n",
       "  }\n",
       "\n",
       "  if (window._bokeh_is_loading === 0) {\n",
       "    console.log(\"Bokeh: BokehJS loaded, going straight to plotting\");\n",
       "    run_inline_js();\n",
       "  } else {\n",
       "    load_libs(js_urls, function() {\n",
       "      console.log(\"Bokeh: BokehJS plotting callback run at\", now());\n",
       "      run_inline_js();\n",
       "    });\n",
       "  }\n",
       "}(this));"
      ]
     },
     "metadata": {},
     "output_type": "display_data"
    }
   ],
   "source": [
    "output_notebook()"
   ]
  },
  {
   "cell_type": "markdown",
   "metadata": {},
   "source": [
    "### Get the data\n",
    "\n",
    "Some of Bokeh examples rely on sample data that is not included in the Bokeh GitHub repository or released packages, due to their size. Once Bokeh is installed, the sample data can be obtained by executing the command in the next cell. The location that the sample data is stored can be configured. By default, data is downloaded and stored to a directory $HOME/.bokeh/data. (The directory is created if it does not already exist.) "
   ]
  },
  {
   "cell_type": "code",
   "execution_count": 3,
   "metadata": {
    "collapsed": false
   },
   "outputs": [
    {
     "name": "stdout",
     "output_type": "stream",
     "text": [
      "Using data directory: C:\\Users\\Dave\\.bokeh\\data\n",
      "Downloading: CGM.csv (1589982 bytes)\n",
      "   1589982 [100.00%]\n",
      "Downloading: US_Counties.zip (3182088 bytes)\n",
      "   3182088 [100.00%]\n",
      "Unpacking: US_Counties.csv\n",
      "Downloading: us_cities.json (713565 bytes)\n",
      "    713565 [100.00%]\n",
      "Downloading: unemployment09.csv (253301 bytes)\n",
      "    253301 [100.00%]\n",
      "Downloading: AAPL.csv (166698 bytes)\n",
      "    166698 [100.00%]\n",
      "Downloading: FB.csv (9706 bytes)\n",
      "      9706 [100.00%]\n",
      "Downloading: GOOG.csv (113894 bytes)\n",
      "    113894 [100.00%]\n",
      "Downloading: IBM.csv (165625 bytes)\n",
      "    165625 [100.00%]\n",
      "Downloading: MSFT.csv (161614 bytes)\n",
      "    161614 [100.00%]\n",
      "Downloading: WPP2012_SA_DB03_POPULATION_QUINQUENNIAL.zip (5148539 bytes)\n",
      "   5148539 [100.00%]\n",
      "Unpacking: WPP2012_SA_DB03_POPULATION_QUINQUENNIAL.csv\n",
      "Downloading: gapminder_fertility.csv (64346 bytes)\n",
      "     64346 [100.00%]\n",
      "Downloading: gapminder_population.csv (94509 bytes)\n",
      "     94509 [100.00%]\n",
      "Downloading: gapminder_life_expectancy.csv (73243 bytes)\n",
      "     73243 [100.00%]\n",
      "Downloading: gapminder_regions.csv (7781 bytes)\n",
      "      7781 [100.00%]\n",
      "Downloading: world_cities.zip (646858 bytes)\n",
      "    646858 [100.00%]\n",
      "Unpacking: world_cities.csv\n",
      "Downloading: airports.json (6373 bytes)\n",
      "      6373 [100.00%]\n",
      "Downloading: movies.db.zip (5067833 bytes)\n",
      "   5067833 [100.00%]\n",
      "Unpacking: movies.db\n"
     ]
    }
   ],
   "source": [
    "import bokeh.sampledata\n",
    "bokeh.sampledata.download()"
   ]
  },
  {
   "cell_type": "markdown",
   "metadata": {},
   "source": [
    "### Prepare the data    \n",
    " \n",
    "In order to create an interactive plot in Bokeh, we need to animate snapshots of the data over time from 1964 to 2013. In order to do this, we can think of each year as a separate static plot. We can then use a JavaScript `Callback` to change the data source that is driving the plot.    \n",
    "\n",
    "#### JavaScript Callbacks\n",
    "\n",
    "Bokeh exposes various [callbacks](http://bokeh.pydata.org/en/latest/docs/user_guide/interaction/callbacks.html#userguide-interaction-callbacks), which can be specified from Python, that trigger actions inside the browser’s JavaScript runtime. This kind of JavaScript callback can be used to add interesting interactions to Bokeh documents without the need to use a Bokeh server (but can also be used in conjuction with a Bokeh server). Custom callbacks can be set using a [`CustomJS` object](http://bokeh.pydata.org/en/latest/docs/user_guide/interaction/callbacks.html#customjs-for-widgets) and passing it as the callback argument to a `Widget` object.\n",
    "\n",
    "As the data we will be using today is not too big, we can pass all the datasets to the JavaScript at once and switch between them on the client side using a slider widget.    \n",
    "\n",
    "This means that we need to put all of the datasets together build a single data source for each year. First we will load each of the datasets with the `process_data()` function and do a bit of clean up:"
   ]
  },
  {
   "cell_type": "code",
   "execution_count": 4,
   "metadata": {
    "collapsed": true
   },
   "outputs": [],
   "source": [
    "def process_data():\n",
    "    from bokeh.sampledata.gapminder import fertility, life_expectancy, population, regions\n",
    "    # Make the column names ints not strings for handling\n",
    "    columns = list(fertility.columns)\n",
    "    years = list(range(int(columns[0]), int(columns[-1])))\n",
    "    rename_dict = dict(zip(columns, years))\n",
    "\n",
    "    fertility = fertility.rename(columns=rename_dict)\n",
    "    life_expectancy = life_expectancy.rename(columns=rename_dict)\n",
    "    population = population.rename(columns=rename_dict)\n",
    "    regions = regions.rename(columns=rename_dict)\n",
    "\n",
    "    # Turn population into bubble sizes. Use min_size and factor to tweak.\n",
    "    scale_factor = 200\n",
    "    population_size = np.sqrt(population / np.pi) / scale_factor\n",
    "    min_size = 3\n",
    "    population_size = population_size.where(population_size >= min_size).fillna(min_size)\n",
    "\n",
    "    # Use pandas categories and categorize & color the regions\n",
    "    regions.Group = regions.Group.astype('category')\n",
    "    regions_list = list(regions.Group.cat.categories)\n",
    "\n",
    "    def get_color(r):\n",
    "        return Spectral6[regions_list.index(r.Group)]\n",
    "    regions['region_color'] = regions.apply(get_color, axis=1)\n",
    "\n",
    "    return fertility, life_expectancy, population_size, regions, years, regions_list"
   ]
  },
  {
   "cell_type": "markdown",
   "metadata": {},
   "source": [
    "Next we will add each of our sources to the `sources` dictionary, where each key is the name of the year (prefaced with an underscore) and each value is a dataframe with the aggregated values for that year.\n",
    "\n",
    "_Note that we needed the prefixing as JavaScript objects cannot begin with a number._"
   ]
  },
  {
   "cell_type": "code",
   "execution_count": 5,
   "metadata": {
    "collapsed": false
   },
   "outputs": [],
   "source": [
    "fertility_df, life_expectancy_df, population_df_size, regions_df, years, regions = process_data()\n",
    "\n",
    "sources = {}\n",
    "\n",
    "region_color = regions_df['region_color']\n",
    "region_color.name = 'region_color'\n",
    "\n",
    "for year in years:\n",
    "    fertility = fertility_df[year]\n",
    "    fertility.name = 'fertility'\n",
    "    life = life_expectancy_df[year]\n",
    "    life.name = 'life' \n",
    "    population = population_df_size[year]\n",
    "    population.name = 'population' \n",
    "    new_df = pd.concat([fertility, life, population, region_color], axis=1)\n",
    "    sources['_' + str(year)] = ColumnDataSource(new_df)"
   ]
  },
  {
   "cell_type": "markdown",
   "metadata": {},
   "source": [
    "You can see what's in the `sources` dictionary by running the cell below.\n",
    "\n",
    "Later we will be able to pass this `sources` dictionary to the JavaScript Callback. In so doing, we will find that in our JavaScript we have objects named by year that refer to a corresponding `ColumnDataSource`."
   ]
  },
  {
   "cell_type": "code",
   "execution_count": 6,
   "metadata": {
    "collapsed": false
   },
   "outputs": [],
   "source": [
    "#sources"
   ]
  },
  {
   "cell_type": "markdown",
   "metadata": {},
   "source": [
    "We can also create a corresponding `dictionary_of_sources` object, where the keys are integers and the values are the references to our ColumnDataSources from above: "
   ]
  },
  {
   "cell_type": "code",
   "execution_count": 7,
   "metadata": {
    "collapsed": true
   },
   "outputs": [],
   "source": [
    "dictionary_of_sources = dict(zip([x for x in years], ['_%s' % x for x in years]))"
   ]
  },
  {
   "cell_type": "code",
   "execution_count": 8,
   "metadata": {
    "collapsed": false
   },
   "outputs": [
    {
     "data": {
      "text/plain": [
       "'{1964: _1964, 1965: _1965, 1966: _1966, 1967: _1967, 1968: _1968, 1969: _1969, 1970: _1970, 1971: _1971, 1972: _1972, 1973: _1973, 1974: _1974, 1975: _1975, 1976: _1976, 1977: _1977, 1978: _1978, 1979: _1979, 1980: _1980, 1981: _1981, 1982: _1982, 1983: _1983, 1984: _1984, 1985: _1985, 1986: _1986, 1987: _1987, 1988: _1988, 1989: _1989, 1990: _1990, 1991: _1991, 1992: _1992, 1993: _1993, 1994: _1994, 1995: _1995, 1996: _1996, 1997: _1997, 1998: _1998, 1999: _1999, 2000: _2000, 2001: _2001, 2002: _2002, 2003: _2003, 2004: _2004, 2005: _2005, 2006: _2006, 2007: _2007, 2008: _2008, 2009: _2009, 2010: _2010, 2011: _2011, 2012: _2012}'"
      ]
     },
     "execution_count": 8,
     "metadata": {},
     "output_type": "execute_result"
    }
   ],
   "source": [
    "js_source_array = str(dictionary_of_sources).replace(\"'\", \"\")\n",
    "js_source_array"
   ]
  },
  {
   "cell_type": "markdown",
   "metadata": {},
   "source": [
    "Now we have an object that's storing all of our `ColumnDataSources`, so that we can look them up.\n",
    "\n",
    "### Build the plot\n",
    "\n",
    "First we need to create a `Plot` object. We'll start with a basic frame, only specifying things like plot height, width, and ranges for the axes."
   ]
  },
  {
   "cell_type": "code",
   "execution_count": 9,
   "metadata": {
    "collapsed": false
   },
   "outputs": [],
   "source": [
    "xdr = Range1d(1, 9)\n",
    "ydr = Range1d(20, 100)\n",
    "plot = Plot(\n",
    "    x_range=xdr,\n",
    "    y_range=ydr,\n",
    "    plot_width=800,\n",
    "    plot_height=400,\n",
    "    outline_line_color=None,\n",
    "    toolbar_location=None, \n",
    "    min_border=20,\n",
    ")"
   ]
  },
  {
   "cell_type": "markdown",
   "metadata": {},
   "source": [
    "What do you expect to see when we call `show()` on the plot that we have created so far? Try it out below:"
   ]
  },
  {
   "cell_type": "code",
   "execution_count": 10,
   "metadata": {
    "collapsed": true
   },
   "outputs": [],
   "source": [
    "# show(plot)"
   ]
  },
  {
   "cell_type": "markdown",
   "metadata": {},
   "source": [
    "### Build the axes\n",
    "\n",
    "Next we can make some stylistic modifications to the plot axes (e.g. by specifying the text font, size, and color, and by adding labels), to make the plot look more like the one in Hans Rosling's video."
   ]
  },
  {
   "cell_type": "code",
   "execution_count": 11,
   "metadata": {
    "collapsed": false
   },
   "outputs": [],
   "source": [
    "AXIS_FORMATS = dict(\n",
    "    minor_tick_in=None,\n",
    "    minor_tick_out=None,\n",
    "    major_tick_in=None,\n",
    "    major_label_text_font_size=\"10pt\",\n",
    "    major_label_text_font_style=\"normal\",\n",
    "    axis_label_text_font_size=\"10pt\",\n",
    "\n",
    "    axis_line_color='#AAAAAA',\n",
    "    major_tick_line_color='#AAAAAA',\n",
    "    major_label_text_color='#666666',\n",
    "\n",
    "    major_tick_line_cap=\"round\",\n",
    "    axis_line_cap=\"round\",\n",
    "    axis_line_width=1,\n",
    "    major_tick_line_width=1,\n",
    ")\n",
    "\n",
    "xaxis = LinearAxis(ticker=SingleIntervalTicker(interval=1), axis_label=\"Children per woman (total fertility)\", **AXIS_FORMATS)\n",
    "yaxis = LinearAxis(ticker=SingleIntervalTicker(interval=20), axis_label=\"Life expectancy at birth (years)\", **AXIS_FORMATS)   \n",
    "plot.add_layout(xaxis, 'below')\n",
    "plot.add_layout(yaxis, 'left')"
   ]
  },
  {
   "cell_type": "markdown",
   "metadata": {},
   "source": [
    "What do you expect to see when we call `show()` on the plot that we have created so far? Experiment with running the below cell, modifying some of the parameters above, and then re-running the cell below:"
   ]
  },
  {
   "cell_type": "code",
   "execution_count": 12,
   "metadata": {
    "collapsed": true
   },
   "outputs": [],
   "source": [
    "# show(plot)"
   ]
  },
  {
   "cell_type": "markdown",
   "metadata": {},
   "source": [
    "### Add the background year text\n",
    "\n",
    "One of the features of Rosling's animation is that the year appears as the text background of the plot. We will add this feature to our plot first so it will be layered below all the other glyphs (will will be incrementally added, layer by layer, on top of each other until we are finished)."
   ]
  },
  {
   "cell_type": "code",
   "execution_count": 13,
   "metadata": {
    "collapsed": false
   },
   "outputs": [
    {
     "data": {
      "text/html": [
       "<div style=\"display: table;\"><div style=\"display: table-row;\"><div style=\"display: table-cell;\"><b title=\"bokeh.models.renderers.GlyphRenderer\">GlyphRenderer</b>(</div><div style=\"display: table-cell;\">id&nbsp;=&nbsp;'f16ca65d-9061-4e09-a88f-bac551042499', <span id=\"1b6f35e8-fc9f-4e65-b486-450972be55f8\" style=\"cursor: pointer;\">&hellip;)</span></div></div><div class=\"5f33bf2c-d3a9-4d9b-bae6-1f82ba004bca\" style=\"display: none;\"><div style=\"display: table-cell;\"></div><div style=\"display: table-cell;\">data_source&nbsp;=&nbsp;ColumnDataSource(id='42a9cde0-9679-414f-a984-f68ee1d99bae', ...),</div></div><div class=\"5f33bf2c-d3a9-4d9b-bae6-1f82ba004bca\" style=\"display: none;\"><div style=\"display: table-cell;\"></div><div style=\"display: table-cell;\">glyph&nbsp;=&nbsp;Text(id='a04c9342-80e5-4fdb-8b49-d02e36e90056', ...),</div></div><div class=\"5f33bf2c-d3a9-4d9b-bae6-1f82ba004bca\" style=\"display: none;\"><div style=\"display: table-cell;\"></div><div style=\"display: table-cell;\">hover_glyph&nbsp;=&nbsp;None,</div></div><div class=\"5f33bf2c-d3a9-4d9b-bae6-1f82ba004bca\" style=\"display: none;\"><div style=\"display: table-cell;\"></div><div style=\"display: table-cell;\">js_event_callbacks&nbsp;=&nbsp;{},</div></div><div class=\"5f33bf2c-d3a9-4d9b-bae6-1f82ba004bca\" style=\"display: none;\"><div style=\"display: table-cell;\"></div><div style=\"display: table-cell;\">js_property_callbacks&nbsp;=&nbsp;{},</div></div><div class=\"5f33bf2c-d3a9-4d9b-bae6-1f82ba004bca\" style=\"display: none;\"><div style=\"display: table-cell;\"></div><div style=\"display: table-cell;\">level&nbsp;=&nbsp;'glyph',</div></div><div class=\"5f33bf2c-d3a9-4d9b-bae6-1f82ba004bca\" style=\"display: none;\"><div style=\"display: table-cell;\"></div><div style=\"display: table-cell;\">muted&nbsp;=&nbsp;False,</div></div><div class=\"5f33bf2c-d3a9-4d9b-bae6-1f82ba004bca\" style=\"display: none;\"><div style=\"display: table-cell;\"></div><div style=\"display: table-cell;\">muted_glyph&nbsp;=&nbsp;None,</div></div><div class=\"5f33bf2c-d3a9-4d9b-bae6-1f82ba004bca\" style=\"display: none;\"><div style=\"display: table-cell;\"></div><div style=\"display: table-cell;\">name&nbsp;=&nbsp;None,</div></div><div class=\"5f33bf2c-d3a9-4d9b-bae6-1f82ba004bca\" style=\"display: none;\"><div style=\"display: table-cell;\"></div><div style=\"display: table-cell;\">nonselection_glyph&nbsp;=&nbsp;'auto',</div></div><div class=\"5f33bf2c-d3a9-4d9b-bae6-1f82ba004bca\" style=\"display: none;\"><div style=\"display: table-cell;\"></div><div style=\"display: table-cell;\">selection_glyph&nbsp;=&nbsp;'auto',</div></div><div class=\"5f33bf2c-d3a9-4d9b-bae6-1f82ba004bca\" style=\"display: none;\"><div style=\"display: table-cell;\"></div><div style=\"display: table-cell;\">subscribed_events&nbsp;=&nbsp;[],</div></div><div class=\"5f33bf2c-d3a9-4d9b-bae6-1f82ba004bca\" style=\"display: none;\"><div style=\"display: table-cell;\"></div><div style=\"display: table-cell;\">tags&nbsp;=&nbsp;[],</div></div><div class=\"5f33bf2c-d3a9-4d9b-bae6-1f82ba004bca\" style=\"display: none;\"><div style=\"display: table-cell;\"></div><div style=\"display: table-cell;\">visible&nbsp;=&nbsp;True,</div></div><div class=\"5f33bf2c-d3a9-4d9b-bae6-1f82ba004bca\" style=\"display: none;\"><div style=\"display: table-cell;\"></div><div style=\"display: table-cell;\">x_range_name&nbsp;=&nbsp;'default',</div></div><div class=\"5f33bf2c-d3a9-4d9b-bae6-1f82ba004bca\" style=\"display: none;\"><div style=\"display: table-cell;\"></div><div style=\"display: table-cell;\">y_range_name&nbsp;=&nbsp;'default')</div></div></div>\n",
       "<script>\n",
       "(function() {\n",
       "  var expanded = false;\n",
       "  var ellipsis = document.getElementById(\"1b6f35e8-fc9f-4e65-b486-450972be55f8\");\n",
       "  ellipsis.addEventListener(\"click\", function() {\n",
       "    var rows = document.getElementsByClassName(\"5f33bf2c-d3a9-4d9b-bae6-1f82ba004bca\");\n",
       "    for (var i = 0; i < rows.length; i++) {\n",
       "      var el = rows[i];\n",
       "      el.style.display = expanded ? \"none\" : \"table-row\";\n",
       "    }\n",
       "    ellipsis.innerHTML = expanded ? \"&hellip;)\" : \"&lsaquo;&lsaquo;&lsaquo;\";\n",
       "    expanded = !expanded;\n",
       "  });\n",
       "})();\n",
       "</script>\n"
      ],
      "text/plain": [
       "GlyphRenderer(id='f16ca65d-9061-4e09-a88f-bac551042499', ...)"
      ]
     },
     "execution_count": 13,
     "metadata": {},
     "output_type": "execute_result"
    }
   ],
   "source": [
    "text_source = ColumnDataSource({'year': ['%s' % years[0]]})\n",
    "text = Text(x=2, y=35, text='year', text_font_size='150pt', text_color='#EEEEEE')\n",
    "plot.add_glyph(text_source, text)"
   ]
  },
  {
   "cell_type": "markdown",
   "metadata": {},
   "source": [
    "Test out different versions of the background text and see how it changes the plot:"
   ]
  },
  {
   "cell_type": "code",
   "execution_count": 14,
   "metadata": {
    "collapsed": true
   },
   "outputs": [],
   "source": [
    "# show(plot)"
   ]
  },
  {
   "cell_type": "markdown",
   "metadata": {},
   "source": [
    "### Add the bubbles and hover\n",
    "Next we will add the bubbles using Bokeh's [`Circle`](http://bokeh.pydata.org/en/latest/docs/reference/plotting.html#bokeh.plotting.figure.Figure.circle) glyph. We start from the first year of data, which is our source that drives the circles (the other sources will be used later).    "
   ]
  },
  {
   "cell_type": "code",
   "execution_count": 15,
   "metadata": {
    "collapsed": false
   },
   "outputs": [],
   "source": [
    "# Add the circle\n",
    "renderer_source = sources['_%s' % years[0]]\n",
    "circle_glyph = Circle(\n",
    "    x='fertility', y='life', size='population',\n",
    "    fill_color='region_color', fill_alpha=0.8, \n",
    "    line_color='#7c7e71', line_width=0.5, line_alpha=0.5)\n",
    "\n",
    "circle_renderer = plot.add_glyph(renderer_source, circle_glyph)"
   ]
  },
  {
   "cell_type": "markdown",
   "metadata": {},
   "source": [
    "In the above, `plot.add_glyph` returns the renderer, which we can then pass to the `HoverTool` so that hover only happens for the bubbles on the page and not other glyph elements:"
   ]
  },
  {
   "cell_type": "code",
   "execution_count": 16,
   "metadata": {
    "collapsed": true
   },
   "outputs": [],
   "source": [
    "# Add the hover (only against the circle and not other plot elements)\n",
    "tooltips = \"@index\"\n",
    "plot.add_tools(HoverTool(tooltips=tooltips, renderers=[circle_renderer]))"
   ]
  },
  {
   "cell_type": "markdown",
   "metadata": {},
   "source": [
    "Test out different parameters for the `Circle` glyph and see how it changes the plot:"
   ]
  },
  {
   "cell_type": "code",
   "execution_count": 17,
   "metadata": {
    "collapsed": true
   },
   "outputs": [],
   "source": [
    "# show(plot)"
   ]
  },
  {
   "cell_type": "markdown",
   "metadata": {},
   "source": [
    "### Add the legend\n",
    "\n",
    "Next we will manually build a legend for our plot by adding circles and texts to the upper-righthand portion:"
   ]
  },
  {
   "cell_type": "code",
   "execution_count": 18,
   "metadata": {
    "collapsed": false
   },
   "outputs": [],
   "source": [
    "text_x = 7\n",
    "text_y = 95\n",
    "for i, region in enumerate(regions):\n",
    "    plot.add_glyph(Text(x=text_x, y=text_y, text=[region], text_font_size='10pt', text_color='#666666'))\n",
    "    plot.add_glyph(Circle(x=text_x - 0.1, y=text_y + 2, fill_color=Spectral6[i], size=10, line_color=None, fill_alpha=0.8))\n",
    "    text_y = text_y - 5"
   ]
  },
  {
   "cell_type": "markdown",
   "metadata": {},
   "source": [
    "Experiment with different parameters, and test it out by running the below cell:"
   ]
  },
  {
   "cell_type": "code",
   "execution_count": 19,
   "metadata": {
    "collapsed": false
   },
   "outputs": [
    {
     "data": {
      "text/html": [
       "\n",
       "\n",
       "    <div class=\"bk-root\">\n",
       "        <div class=\"bk-plotdiv\" id=\"26fb605d-0022-448c-905c-ef1c361a0187\"></div>\n",
       "    </div>\n",
       "<script type=\"text/javascript\">\n",
       "  \n",
       "  (function(global) {\n",
       "    function now() {\n",
       "      return new Date();\n",
       "    }\n",
       "  \n",
       "    var force = false;\n",
       "  \n",
       "    if (typeof (window._bokeh_onload_callbacks) === \"undefined\" || force === true) {\n",
       "      window._bokeh_onload_callbacks = [];\n",
       "      window._bokeh_is_loading = undefined;\n",
       "    }\n",
       "  \n",
       "  \n",
       "    \n",
       "    if (typeof (window._bokeh_timeout) === \"undefined\" || force === true) {\n",
       "      window._bokeh_timeout = Date.now() + 0;\n",
       "      window._bokeh_failed_load = false;\n",
       "    }\n",
       "  \n",
       "    var NB_LOAD_WARNING = {'data': {'text/html':\n",
       "       \"<div style='background-color: #fdd'>\\n\"+\n",
       "       \"<p>\\n\"+\n",
       "       \"BokehJS does not appear to have successfully loaded. If loading BokehJS from CDN, this \\n\"+\n",
       "       \"may be due to a slow or bad network connection. Possible fixes:\\n\"+\n",
       "       \"</p>\\n\"+\n",
       "       \"<ul>\\n\"+\n",
       "       \"<li>re-rerun `output_notebook()` to attempt to load from CDN again, or</li>\\n\"+\n",
       "       \"<li>use INLINE resources instead, as so:</li>\\n\"+\n",
       "       \"</ul>\\n\"+\n",
       "       \"<code>\\n\"+\n",
       "       \"from bokeh.resources import INLINE\\n\"+\n",
       "       \"output_notebook(resources=INLINE)\\n\"+\n",
       "       \"</code>\\n\"+\n",
       "       \"</div>\"}};\n",
       "  \n",
       "    function display_loaded() {\n",
       "      if (window.Bokeh !== undefined) {\n",
       "        var el = document.getElementById(\"26fb605d-0022-448c-905c-ef1c361a0187\");\n",
       "        el.textContent = \"BokehJS \" + Bokeh.version + \" successfully loaded.\";\n",
       "      } else if (Date.now() < window._bokeh_timeout) {\n",
       "        setTimeout(display_loaded, 100)\n",
       "      }\n",
       "    }\n",
       "  \n",
       "    function run_callbacks() {\n",
       "      try {\n",
       "        window._bokeh_onload_callbacks.forEach(function(callback) { callback() });\n",
       "      }\n",
       "      finally {\n",
       "        delete window._bokeh_onload_callbacks\n",
       "      }\n",
       "      console.info(\"Bokeh: all callbacks have finished\");\n",
       "    }\n",
       "  \n",
       "    function load_libs(js_urls, callback) {\n",
       "      window._bokeh_onload_callbacks.push(callback);\n",
       "      if (window._bokeh_is_loading > 0) {\n",
       "        console.log(\"Bokeh: BokehJS is being loaded, scheduling callback at\", now());\n",
       "        return null;\n",
       "      }\n",
       "      if (js_urls == null || js_urls.length === 0) {\n",
       "        run_callbacks();\n",
       "        return null;\n",
       "      }\n",
       "      console.log(\"Bokeh: BokehJS not loaded, scheduling load and callback at\", now());\n",
       "      window._bokeh_is_loading = js_urls.length;\n",
       "      for (var i = 0; i < js_urls.length; i++) {\n",
       "        var url = js_urls[i];\n",
       "        var s = document.createElement('script');\n",
       "        s.src = url;\n",
       "        s.async = false;\n",
       "        s.onreadystatechange = s.onload = function() {\n",
       "          window._bokeh_is_loading--;\n",
       "          if (window._bokeh_is_loading === 0) {\n",
       "            console.log(\"Bokeh: all BokehJS libraries loaded\");\n",
       "            run_callbacks()\n",
       "          }\n",
       "        };\n",
       "        s.onerror = function() {\n",
       "          console.warn(\"failed to load library \" + url);\n",
       "        };\n",
       "        console.log(\"Bokeh: injecting script tag for BokehJS library: \", url);\n",
       "        document.getElementsByTagName(\"head\")[0].appendChild(s);\n",
       "      }\n",
       "    };var element = document.getElementById(\"26fb605d-0022-448c-905c-ef1c361a0187\");\n",
       "    if (element == null) {\n",
       "      console.log(\"Bokeh: ERROR: autoload.js configured with elementid '26fb605d-0022-448c-905c-ef1c361a0187' but no matching script tag was found. \")\n",
       "      return false;\n",
       "    }\n",
       "  \n",
       "    var js_urls = [];\n",
       "  \n",
       "    var inline_js = [\n",
       "      function(Bokeh) {\n",
       "        (function() {\n",
       "          var fn = function() {\n",
       "            var docs_json = {\"8cae107a-866d-486e-a27c-44b1ecf3e023\":{\"roots\":{\"references\":[{\"attributes\":{\"data_source\":{\"id\":\"b116847a-c28e-456e-9619-44e66b43e86d\",\"type\":\"ColumnDataSource\"},\"glyph\":{\"id\":\"bf6c2d1f-1389-4849-9ed3-e2c9f4db3359\",\"type\":\"Text\"},\"hover_glyph\":null,\"muted_glyph\":null},\"id\":\"d757cb43-51f1-4cfc-9a0f-1ccdada9c7b1\",\"type\":\"GlyphRenderer\"},{\"attributes\":{\"text\":{\"value\":\"Middle East & North Africa\"},\"text_color\":{\"value\":\"#666666\"},\"text_font_size\":{\"value\":\"10pt\"},\"x\":{\"value\":7},\"y\":{\"value\":80}},\"id\":\"aba23bd0-896d-498d-af86-3a757ec79607\",\"type\":\"Text\"},{\"attributes\":{\"data_source\":{\"id\":\"44db28e0-736a-4f20-8cc0-73f09666e3c1\",\"type\":\"ColumnDataSource\"},\"glyph\":{\"id\":\"aba23bd0-896d-498d-af86-3a757ec79607\",\"type\":\"Text\"},\"hover_glyph\":null,\"muted_glyph\":null},\"id\":\"6aea29e5-5b3c-44cb-81dd-0fde8c330ce1\",\"type\":\"GlyphRenderer\"},{\"attributes\":{\"axis_label\":\"Life expectancy at birth (years)\",\"axis_line_cap\":\"round\",\"axis_line_color\":{\"value\":\"#AAAAAA\"},\"formatter\":{\"id\":\"cbb07ad3-2246-442a-bb8f-4c2abb3c22d8\",\"type\":\"BasicTickFormatter\"},\"major_label_text_color\":{\"value\":\"#666666\"},\"major_label_text_font_size\":{\"value\":\"10pt\"},\"major_tick_in\":null,\"major_tick_line_cap\":\"round\",\"major_tick_line_color\":{\"value\":\"#AAAAAA\"},\"minor_tick_in\":null,\"minor_tick_out\":null,\"plot\":{\"id\":\"65631050-df74-4895-88f8-a79f32b0a906\",\"type\":\"Plot\"},\"ticker\":{\"id\":\"08515558-587c-4f62-befd-e80a37406eb4\",\"type\":\"SingleIntervalTicker\"}},\"id\":\"7132fbd2-fa92-4412-ac2c-04590a7c2b4a\",\"type\":\"LinearAxis\"},{\"attributes\":{\"data_source\":{\"id\":\"d1b9fc75-0771-41c2-a6e6-a3b88fff5f3d\",\"type\":\"ColumnDataSource\"},\"glyph\":{\"id\":\"4b62a34b-9a62-4fc2-baee-b59dbb06868e\",\"type\":\"Circle\"},\"hover_glyph\":null,\"muted_glyph\":null},\"id\":\"3e1756a4-8670-407f-862b-cc10ee97dd7d\",\"type\":\"GlyphRenderer\"},{\"attributes\":{\"data_source\":{\"id\":\"179ec987-f5af-4667-8e6a-274fb8e8abdf\",\"type\":\"ColumnDataSource\"},\"glyph\":{\"id\":\"1d7018f7-2078-42c6-8c5f-d91e0d991f31\",\"type\":\"Text\"},\"hover_glyph\":null,\"muted_glyph\":null},\"id\":\"2dd35b6d-6174-421e-a02f-4d25a940de69\",\"type\":\"GlyphRenderer\"},{\"attributes\":{\"fill_alpha\":{\"value\":0.8},\"fill_color\":{\"value\":\"#fc8d59\"},\"line_color\":{\"value\":null},\"size\":{\"units\":\"screen\",\"value\":10},\"x\":{\"value\":6.9},\"y\":{\"value\":77}},\"id\":\"8895bc99-1886-484c-8bd6-3a78f10aa43e\",\"type\":\"Circle\"},{\"attributes\":{\"interval\":1},\"id\":\"19e49743-2c41-4bc8-9d82-b84086d2035a\",\"type\":\"SingleIntervalTicker\"},{\"attributes\":{},\"id\":\"cbb07ad3-2246-442a-bb8f-4c2abb3c22d8\",\"type\":\"BasicTickFormatter\"},{\"attributes\":{\"data_source\":{\"id\":\"6290fd21-2d64-420f-b9ee-1c9a3503d3a7\",\"type\":\"ColumnDataSource\"},\"glyph\":{\"id\":\"a65a5804-81e3-4b63-a960-dfe8a3dbc21a\",\"type\":\"Circle\"},\"hover_glyph\":null,\"muted_glyph\":null},\"id\":\"4bb17870-e9c5-485a-bb92-22ec3856f161\",\"type\":\"GlyphRenderer\"},{\"attributes\":{\"fill_alpha\":{\"value\":0.8},\"fill_color\":{\"value\":\"#d53e4f\"},\"line_color\":{\"value\":null},\"size\":{\"units\":\"screen\",\"value\":10},\"x\":{\"value\":6.9},\"y\":{\"value\":72}},\"id\":\"a65a5804-81e3-4b63-a960-dfe8a3dbc21a\",\"type\":\"Circle\"},{\"attributes\":{\"callback\":null,\"end\":9,\"start\":1},\"id\":\"61c20fef-f272-415c-8f9f-453f0afa3299\",\"type\":\"Range1d\"},{\"attributes\":{\"callback\":null,\"data\":{}},\"id\":\"7d3aa7c3-a31a-4c0c-9c7e-1b389d212490\",\"type\":\"ColumnDataSource\"},{\"attributes\":{\"plot\":null,\"text\":\"\"},\"id\":\"b320cb78-62a1-436e-be3e-af2f28c2f356\",\"type\":\"Title\"},{\"attributes\":{},\"id\":\"c3ccd419-1063-4999-ad0e-4777f41db3b3\",\"type\":\"BasicTickFormatter\"},{\"attributes\":{\"active_drag\":\"auto\",\"active_inspect\":\"auto\",\"active_scroll\":\"auto\",\"active_tap\":\"auto\",\"tools\":[{\"id\":\"ade162eb-b825-4fdf-82a5-c5818a72a780\",\"type\":\"HoverTool\"}]},\"id\":\"1f8f9706-040c-45ff-b20c-442622689bdd\",\"type\":\"Toolbar\"},{\"attributes\":{\"fill_alpha\":{\"value\":0.8},\"fill_color\":{\"value\":\"#e6f598\"},\"line_color\":{\"value\":null},\"size\":{\"units\":\"screen\",\"value\":10},\"x\":{\"value\":6.9},\"y\":{\"value\":87}},\"id\":\"58be6799-cf9d-4b71-a0af-7a60036156aa\",\"type\":\"Circle\"},{\"attributes\":{\"text\":{\"value\":\"East Asia & Pacific\"},\"text_color\":{\"value\":\"#666666\"},\"text_font_size\":{\"value\":\"10pt\"},\"x\":{\"value\":7},\"y\":{\"value\":90}},\"id\":\"edd091f1-815e-4e3a-a303-d2312569b301\",\"type\":\"Text\"},{\"attributes\":{\"fill_alpha\":{\"value\":0.8},\"fill_color\":{\"value\":\"#3288bd\"},\"line_color\":{\"value\":null},\"size\":{\"units\":\"screen\",\"value\":10},\"x\":{\"value\":6.9},\"y\":{\"value\":97}},\"id\":\"6efab2d5-c23d-419b-b3cf-a150e3680b34\",\"type\":\"Circle\"},{\"attributes\":{\"callback\":null,\"data\":{}},\"id\":\"179ec987-f5af-4667-8e6a-274fb8e8abdf\",\"type\":\"ColumnDataSource\"},{\"attributes\":{\"data_source\":{\"id\":\"e2af1b29-ce26-4d23-91e9-5db20840d664\",\"type\":\"ColumnDataSource\"},\"glyph\":{\"id\":\"58be6799-cf9d-4b71-a0af-7a60036156aa\",\"type\":\"Circle\"},\"hover_glyph\":null,\"muted_glyph\":null},\"id\":\"7ec11b6c-f5fe-4937-bea4-70be760bb550\",\"type\":\"GlyphRenderer\"},{\"attributes\":{\"callback\":null,\"data\":{}},\"id\":\"f9b0ab4a-3c23-4f0e-8c9f-c342b66972d8\",\"type\":\"ColumnDataSource\"},{\"attributes\":{\"callback\":null,\"data\":{}},\"id\":\"6290fd21-2d64-420f-b9ee-1c9a3503d3a7\",\"type\":\"ColumnDataSource\"},{\"attributes\":{\"data_source\":{\"id\":\"f9b0ab4a-3c23-4f0e-8c9f-c342b66972d8\",\"type\":\"ColumnDataSource\"},\"glyph\":{\"id\":\"e116d5f5-724a-4d9a-bb26-8eaf05af6a03\",\"type\":\"Text\"},\"hover_glyph\":null,\"muted_glyph\":null},\"id\":\"76ee0d58-6bfe-46a8-8943-d66b02a1243d\",\"type\":\"GlyphRenderer\"},{\"attributes\":{},\"id\":\"cbced596-fead-4db7-b186-c3922917a0ff\",\"type\":\"ToolEvents\"},{\"attributes\":{},\"id\":\"a2d28644-50b4-4b24-ac2e-221f60349c0b\",\"type\":\"LinearScale\"},{\"attributes\":{\"fill_alpha\":{\"value\":0.8},\"fill_color\":{\"value\":\"#99d594\"},\"line_color\":{\"value\":null},\"size\":{\"units\":\"screen\",\"value\":10},\"x\":{\"value\":6.9},\"y\":{\"value\":92}},\"id\":\"a7dee126-e92c-4b83-9cc8-cf9f39e58cc7\",\"type\":\"Circle\"},{\"attributes\":{\"text\":{\"value\":\"America\"},\"text_color\":{\"value\":\"#666666\"},\"text_font_size\":{\"value\":\"10pt\"},\"x\":{\"value\":7},\"y\":{\"value\":95}},\"id\":\"e116d5f5-724a-4d9a-bb26-8eaf05af6a03\",\"type\":\"Text\"},{\"attributes\":{\"callback\":null,\"plot\":{\"id\":\"65631050-df74-4895-88f8-a79f32b0a906\",\"type\":\"Plot\"},\"renderers\":[{\"id\":\"3e1756a4-8670-407f-862b-cc10ee97dd7d\",\"type\":\"GlyphRenderer\"}],\"tooltips\":\"@index\"},\"id\":\"ade162eb-b825-4fdf-82a5-c5818a72a780\",\"type\":\"HoverTool\"},{\"attributes\":{\"data_source\":{\"id\":\"e0a76b46-a552-405d-9983-6dcc8376ffe3\",\"type\":\"ColumnDataSource\"},\"glyph\":{\"id\":\"8895bc99-1886-484c-8bd6-3a78f10aa43e\",\"type\":\"Circle\"},\"hover_glyph\":null,\"muted_glyph\":null},\"id\":\"030766e2-4f24-48ea-863b-ea47edb01d27\",\"type\":\"GlyphRenderer\"},{\"attributes\":{\"callback\":null,\"column_names\":[\"population\",\"fertility\",\"life\",\"index\",\"region_color\"],\"data\":{\"fertility\":{\"__ndarray__\":\"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\",\"dtype\":\"float64\",\"shape\":[244]},\"index\":[\"Afghanistan\",\"Albania\",\"Algeria\",\"American Samoa\",\"Andorra\",\"Angola\",\"Anguilla\",\"Antigua and Barbuda\",\"Argentina\",\"Armenia\",\"Aruba\",\"Australia\",\"Austria\",\"Azerbaijan\",\"Bahamas\",\"Bahrain\",\"Bangladesh\",\"Barbados\",\"Belarus\",\"Belgium\",\"Belize\",\"Benin\",\"Bermuda\",\"Bhutan\",\"Bolivia\",\"Bosnia and Herzegovina\",\"Botswana\",\"Brazil\",\"British Virgin Islands\",\"Brunei\",\"Bulgaria\",\"Burkina Faso\",\"Burundi\",\"Cambodia\",\"Cameroon\",\"Canada\",\"Cape Verde\",\"Cayman Islands\",\"Central African Rep.\",\"Chad\",\"Channel Islands\",\"Chile\",\"China\",\"Christmas Island\",\"Cocos Island\",\"Colombia\",\"Comoros\",\"Congo, Dem. Rep.\",\"Congo, Rep.\",\"Cook Islands\",\"Costa Rica\",\"Cote d'Ivoire\",\"Croatia\",\"Cuba\",\"Cyprus\",\"Czech Rep.\",\"Denmark\",\"Djibouti\",\"Dominica\",\"Dominican Rep.\",\"Ecuador\",\"Egypt\",\"El Salvador\",\"Equatorial Guinea\",\"Eritrea\",\"Estonia\",\"Ethiopia\",\"Faeroe Islands\",\"Falkland Islands (Malvinas)\",\"Fiji\",\"Finland\",\"France\",\"French Guiana\",\"French Polynesia\",\"Gabon\",\"Gambia\",\"Georgia\",\"Germany\",\"Ghana\",\"Gibraltar\",\"Greece\",\"Greenland\",\"Grenada\",\"Guadeloupe\",\"Guam\",\"Guatemala\",\"Guernsey\",\"Guinea\",\"Guinea-Bissau\",\"Guyana\",\"Haiti\",\"Holy See\",\"Honduras\",\"Hong Kong, China\",\"Hungary\",\"Iceland\",\"India\",\"Indonesia\",\"Iran\",\"Iraq\",\"Ireland\",\"Isle of Man\",\"Israel\",\"Italy\",\"Jamaica\",\"Japan\",\"Jersey\",\"Jordan\",\"Kazakhstan\",\"Kenya\",\"Kiribati\",\"Korea, Dem. Rep.\",\"Korea, Rep.\",\"Kosovo\",\"Kuwait\",\"Kyrgyzstan\",\"Laos\",\"Latvia\",\"Lebanon\",\"Lesotho\",\"Liberia\",\"Libya\",\"Liechtenstein\",\"Lithuania\",\"Luxembourg\",\"Macao, China\",\"Macedonia, FYR\",\"Madagascar\",\"Malawi\",\"Malaysia\",\"Maldives\",\"Mali\",\"Malta\",\"Marshall Islands\",\"Martinique\",\"Mauritania\",\"Mauritius\",\"Mayotte\",\"Mexico\",\"Micronesia, Fed. Sts.\",\"Moldova\",\"Monaco\",\"Mongolia\",\"Montenegro\",\"Montserrat\",\"Morocco\",\"Mozambique\",\"Myanmar\",\"Namibia\",\"Nauru\",\"Nepal\",\"Netherlands\",\"Netherlands Antilles\",\"New Caledonia\",\"New Zealand\",\"Nicaragua\",\"Niger\",\"Nigeria\",\"Niue\",\"Norfolk Island\",\"Northern Cyprus\",\"Northern Mariana Islands\",\"Norway\",\"Oman\",\"Pakistan\",\"Palau\",\"Panama\",\"Papua New Guinea\",\"Paraguay\",\"Peru\",\"Philippines\",\"Pitcairn\",\"Poland\",\"Portugal\",\"Puerto Rico\",\"Qatar\",\"Reunion\",\"Romania\",\"Russia\",\"Rwanda\",\"Saint Barth\\u00e9lemy\",\"Saint Helena\",\"Saint Kitts and Nevis\",\"Saint Lucia\",\"Saint Martin\",\"Saint Vincent and the Grenadines\",\"Saint-Pierre-et-Miquelon\",\"Samoa\",\"San Marino\",\"Sao Tome and Principe\",\"Saudi Arabia\",\"Senegal\",\"Serbia\",\"Serbia excluding Kosovo\",\"Seychelles\",\"Sierra Leone\",\"Singapore\",\"Slovak Republic\",\"Slovenia\",\"Solomon Islands\",\"Somalia\",\"South Africa\",\"South Sudan\",\"Spain\",\"Sri Lanka\",\"Sudan\",\"Suriname\",\"Svalbard\",\"Swaziland\",\"Sweden\",\"Switzerland\",\"Syria\",\"Taiwan\",\"Tajikistan\",\"Tanzania\",\"Thailand\",\"Timor-Leste\",\"Togo\",\"Tokelau\",\"Tonga\",\"Trinidad and Tobago\",\"Tunisia\",\"Turkey\",\"Turkmenistan\",\"Turks and Caicos Islands\",\"Tuvalu\",\"Uganda\",\"Ukraine\",\"United Arab Emirates\",\"United Kingdom\",\"United States\",\"Uruguay\",\"Uzbekistan\",\"Vanuatu\",\"Venezuela\",\"Vietnam\",\"Virgin Islands (U.S.)\",\"Wallis et Futuna\",\"West Bank and Gaza\",\"Western Sahara\",\"Yemen, Rep.\",\"Zambia\",\"Zimbabwe\",\"\\u00c5land\"],\"life\":{\"__ndarray__\":\"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\",\"dtype\":\"float64\",\"shape\":[244]},\"population\":{\"__ndarray__\":\"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\",\"dtype\":\"float64\",\"shape\":[244]},\"region_color\":[\"#fc8d59\",\"#e6f598\",\"#fee08b\",\"#99d594\",\"#e6f598\",\"#d53e4f\",\"#3288bd\",\"#3288bd\",\"#3288bd\",\"#e6f598\",\"#3288bd\",\"#99d594\",\"#e6f598\",\"#e6f598\",\"#3288bd\",\"#fee08b\",\"#fc8d59\",\"#3288bd\",\"#e6f598\",\"#e6f598\",\"#3288bd\",\"#d53e4f\",\"#3288bd\",\"#fc8d59\",\"#3288bd\",\"#e6f598\",\"#d53e4f\",\"#3288bd\",\"#3288bd\",\"#99d594\",\"#e6f598\",\"#d53e4f\",\"#d53e4f\",\"#99d594\",\"#d53e4f\",\"#3288bd\",\"#d53e4f\",\"#3288bd\",\"#d53e4f\",\"#d53e4f\",\"#e6f598\",\"#3288bd\",\"#99d594\",\"#99d594\",\"#99d594\",\"#3288bd\",\"#d53e4f\",\"#d53e4f\",\"#d53e4f\",\"#99d594\",\"#3288bd\",\"#d53e4f\",\"#e6f598\",\"#3288bd\",\"#e6f598\",\"#e6f598\",\"#e6f598\",\"#fee08b\",\"#3288bd\",\"#3288bd\",\"#3288bd\",\"#fee08b\",\"#3288bd\",\"#d53e4f\",\"#d53e4f\",\"#e6f598\",\"#d53e4f\",\"#e6f598\",\"#3288bd\",\"#99d594\",\"#e6f598\",\"#e6f598\",\"#3288bd\",\"#99d594\",\"#d53e4f\",\"#d53e4f\",\"#e6f598\",\"#e6f598\",\"#d53e4f\",\"#e6f598\",\"#e6f598\",\"#e6f598\",\"#3288bd\",\"#3288bd\",\"#99d594\",\"#3288bd\",\"#e6f598\",\"#d53e4f\",\"#d53e4f\",\"#3288bd\",\"#3288bd\",\"#e6f598\",\"#3288bd\",\"#99d594\",\"#e6f598\",\"#e6f598\",\"#fc8d59\",\"#99d594\",\"#fee08b\",\"#fee08b\",\"#e6f598\",\"#e6f598\",\"#fee08b\",\"#e6f598\",\"#3288bd\",\"#99d594\",\"#e6f598\",\"#fee08b\",\"#e6f598\",\"#d53e4f\",\"#99d594\",\"#99d594\",\"#99d594\",\"#e6f598\",\"#fee08b\",\"#e6f598\",\"#99d594\",\"#e6f598\",\"#fee08b\",\"#d53e4f\",\"#d53e4f\",\"#fee08b\",\"#e6f598\",\"#e6f598\",\"#e6f598\",\"#99d594\",\"#e6f598\",\"#d53e4f\",\"#d53e4f\",\"#99d594\",\"#fc8d59\",\"#d53e4f\",\"#e6f598\",\"#99d594\",\"#3288bd\",\"#d53e4f\",\"#d53e4f\",\"#d53e4f\",\"#3288bd\",\"#99d594\",\"#e6f598\",\"#e6f598\",\"#99d594\",\"#e6f598\",\"#3288bd\",\"#fee08b\",\"#d53e4f\",\"#99d594\",\"#d53e4f\",\"#99d594\",\"#fc8d59\",\"#e6f598\",\"#3288bd\",\"#99d594\",\"#99d594\",\"#3288bd\",\"#d53e4f\",\"#d53e4f\",\"#99d594\",\"#99d594\",\"#e6f598\",\"#99d594\",\"#e6f598\",\"#fee08b\",\"#fc8d59\",\"#99d594\",\"#3288bd\",\"#99d594\",\"#3288bd\",\"#3288bd\",\"#99d594\",\"#99d594\",\"#e6f598\",\"#e6f598\",\"#3288bd\",\"#fee08b\",\"#d53e4f\",\"#e6f598\",\"#e6f598\",\"#d53e4f\",\"#3288bd\",\"#d53e4f\",\"#3288bd\",\"#3288bd\",\"#3288bd\",\"#3288bd\",\"#3288bd\",\"#99d594\",\"#e6f598\",\"#d53e4f\",\"#fee08b\",\"#d53e4f\",\"#e6f598\",\"#e6f598\",\"#d53e4f\",\"#d53e4f\",\"#99d594\",\"#e6f598\",\"#e6f598\",\"#99d594\",\"#d53e4f\",\"#d53e4f\",\"#d53e4f\",\"#e6f598\",\"#fc8d59\",\"#d53e4f\",\"#3288bd\",\"#e6f598\",\"#d53e4f\",\"#e6f598\",\"#e6f598\",\"#fee08b\",\"#99d594\",\"#e6f598\",\"#d53e4f\",\"#99d594\",\"#99d594\",\"#d53e4f\",\"#99d594\",\"#99d594\",\"#3288bd\",\"#fee08b\",\"#e6f598\",\"#e6f598\",\"#3288bd\",\"#99d594\",\"#d53e4f\",\"#e6f598\",\"#fee08b\",\"#e6f598\",\"#3288bd\",\"#3288bd\",\"#e6f598\",\"#99d594\",\"#3288bd\",\"#99d594\",\"#3288bd\",\"#99d594\",\"#fee08b\",\"#fee08b\",\"#fee08b\",\"#d53e4f\",\"#d53e4f\",\"#e6f598\"]}},\"id\":\"d1b9fc75-0771-41c2-a6e6-a3b88fff5f3d\",\"type\":\"ColumnDataSource\"},{\"attributes\":{\"data_source\":{\"id\":\"ffda2fb8-92aa-4790-b365-8c6ab6d18ad3\",\"type\":\"ColumnDataSource\"},\"glyph\":{\"id\":\"a7dee126-e92c-4b83-9cc8-cf9f39e58cc7\",\"type\":\"Circle\"},\"hover_glyph\":null,\"muted_glyph\":null},\"id\":\"239b5870-059b-4079-aeb7-e25fd574d341\",\"type\":\"GlyphRenderer\"},{\"attributes\":{\"callback\":null,\"data\":{}},\"id\":\"c5275fb0-d9f7-435f-8e3d-190c1156123b\",\"type\":\"ColumnDataSource\"},{\"attributes\":{\"text\":{\"field\":\"year\"},\"text_color\":{\"value\":\"#EEEEEE\"},\"text_font_size\":{\"value\":\"150pt\"},\"x\":{\"value\":2},\"y\":{\"value\":35}},\"id\":\"a04c9342-80e5-4fdb-8b49-d02e36e90056\",\"type\":\"Text\"},{\"attributes\":{\"axis_label\":\"Children per woman (total fertility)\",\"axis_line_cap\":\"round\",\"axis_line_color\":{\"value\":\"#AAAAAA\"},\"formatter\":{\"id\":\"c3ccd419-1063-4999-ad0e-4777f41db3b3\",\"type\":\"BasicTickFormatter\"},\"major_label_text_color\":{\"value\":\"#666666\"},\"major_label_text_font_size\":{\"value\":\"10pt\"},\"major_tick_in\":null,\"major_tick_line_cap\":\"round\",\"major_tick_line_color\":{\"value\":\"#AAAAAA\"},\"minor_tick_in\":null,\"minor_tick_out\":null,\"plot\":{\"id\":\"65631050-df74-4895-88f8-a79f32b0a906\",\"type\":\"Plot\"},\"ticker\":{\"id\":\"19e49743-2c41-4bc8-9d82-b84086d2035a\",\"type\":\"SingleIntervalTicker\"}},\"id\":\"2d4baaa7-5a2b-4303-a22a-9678e1e0023e\",\"type\":\"LinearAxis\"},{\"attributes\":{\"text\":{\"value\":\"South Asia\"},\"text_color\":{\"value\":\"#666666\"},\"text_font_size\":{\"value\":\"10pt\"},\"x\":{\"value\":7},\"y\":{\"value\":75}},\"id\":\"1d7018f7-2078-42c6-8c5f-d91e0d991f31\",\"type\":\"Text\"},{\"attributes\":{\"fill_alpha\":{\"value\":0.8},\"fill_color\":{\"value\":\"#fee08b\"},\"line_color\":{\"value\":null},\"size\":{\"units\":\"screen\",\"value\":10},\"x\":{\"value\":6.9},\"y\":{\"value\":82}},\"id\":\"0d55580e-6ed4-4ffb-b72b-52eeeeed4213\",\"type\":\"Circle\"},{\"attributes\":{\"callback\":null,\"end\":100,\"start\":20},\"id\":\"82b01291-aec4-4fe8-b26f-af509413eb25\",\"type\":\"Range1d\"},{\"attributes\":{\"callback\":null,\"data\":{}},\"id\":\"ffda2fb8-92aa-4790-b365-8c6ab6d18ad3\",\"type\":\"ColumnDataSource\"},{\"attributes\":{\"callback\":null,\"data\":{}},\"id\":\"b116847a-c28e-456e-9619-44e66b43e86d\",\"type\":\"ColumnDataSource\"},{\"attributes\":{\"text\":{\"value\":\"Europe & Central Asia\"},\"text_color\":{\"value\":\"#666666\"},\"text_font_size\":{\"value\":\"10pt\"},\"x\":{\"value\":7},\"y\":{\"value\":85}},\"id\":\"cc7323a6-daab-4f90-88dc-c5bdb1939a30\",\"type\":\"Text\"},{\"attributes\":{\"callback\":null,\"data\":{}},\"id\":\"e0a76b46-a552-405d-9983-6dcc8376ffe3\",\"type\":\"ColumnDataSource\"},{\"attributes\":{\"below\":[{\"id\":\"2d4baaa7-5a2b-4303-a22a-9678e1e0023e\",\"type\":\"LinearAxis\"}],\"left\":[{\"id\":\"7132fbd2-fa92-4412-ac2c-04590a7c2b4a\",\"type\":\"LinearAxis\"}],\"min_border\":20,\"outline_line_color\":{\"value\":null},\"plot_height\":400,\"plot_width\":800,\"renderers\":[{\"id\":\"2d4baaa7-5a2b-4303-a22a-9678e1e0023e\",\"type\":\"LinearAxis\"},{\"id\":\"7132fbd2-fa92-4412-ac2c-04590a7c2b4a\",\"type\":\"LinearAxis\"},{\"id\":\"f16ca65d-9061-4e09-a88f-bac551042499\",\"type\":\"GlyphRenderer\"},{\"id\":\"3e1756a4-8670-407f-862b-cc10ee97dd7d\",\"type\":\"GlyphRenderer\"},{\"id\":\"76ee0d58-6bfe-46a8-8943-d66b02a1243d\",\"type\":\"GlyphRenderer\"},{\"id\":\"16fb1ffc-4876-4930-8ca7-3876ef2b5b76\",\"type\":\"GlyphRenderer\"},{\"id\":\"f486fa62-4ecd-44b4-96c7-835d67396a96\",\"type\":\"GlyphRenderer\"},{\"id\":\"239b5870-059b-4079-aeb7-e25fd574d341\",\"type\":\"GlyphRenderer\"},{\"id\":\"9583e1c4-b114-4e7f-9099-6a357a12c714\",\"type\":\"GlyphRenderer\"},{\"id\":\"7ec11b6c-f5fe-4937-bea4-70be760bb550\",\"type\":\"GlyphRenderer\"},{\"id\":\"6aea29e5-5b3c-44cb-81dd-0fde8c330ce1\",\"type\":\"GlyphRenderer\"},{\"id\":\"1b631a15-4e35-4cf2-895d-3e3166e03588\",\"type\":\"GlyphRenderer\"},{\"id\":\"2dd35b6d-6174-421e-a02f-4d25a940de69\",\"type\":\"GlyphRenderer\"},{\"id\":\"030766e2-4f24-48ea-863b-ea47edb01d27\",\"type\":\"GlyphRenderer\"},{\"id\":\"d757cb43-51f1-4cfc-9a0f-1ccdada9c7b1\",\"type\":\"GlyphRenderer\"},{\"id\":\"4bb17870-e9c5-485a-bb92-22ec3856f161\",\"type\":\"GlyphRenderer\"}],\"title\":{\"id\":\"b320cb78-62a1-436e-be3e-af2f28c2f356\",\"type\":\"Title\"},\"tool_events\":{\"id\":\"cbced596-fead-4db7-b186-c3922917a0ff\",\"type\":\"ToolEvents\"},\"toolbar\":{\"id\":\"1f8f9706-040c-45ff-b20c-442622689bdd\",\"type\":\"Toolbar\"},\"toolbar_location\":null,\"x_range\":{\"id\":\"61c20fef-f272-415c-8f9f-453f0afa3299\",\"type\":\"Range1d\"},\"x_scale\":{\"id\":\"552e3ab1-6ff4-457e-8437-52ccabe49a37\",\"type\":\"LinearScale\"},\"y_range\":{\"id\":\"82b01291-aec4-4fe8-b26f-af509413eb25\",\"type\":\"Range1d\"},\"y_scale\":{\"id\":\"a2d28644-50b4-4b24-ac2e-221f60349c0b\",\"type\":\"LinearScale\"}},\"id\":\"65631050-df74-4895-88f8-a79f32b0a906\",\"type\":\"Plot\"},{\"attributes\":{\"data_source\":{\"id\":\"42a9cde0-9679-414f-a984-f68ee1d99bae\",\"type\":\"ColumnDataSource\"},\"glyph\":{\"id\":\"a04c9342-80e5-4fdb-8b49-d02e36e90056\",\"type\":\"Text\"},\"hover_glyph\":null,\"muted_glyph\":null},\"id\":\"f16ca65d-9061-4e09-a88f-bac551042499\",\"type\":\"GlyphRenderer\"},{\"attributes\":{\"fill_alpha\":{\"value\":0.8},\"fill_color\":{\"field\":\"region_color\"},\"line_alpha\":{\"value\":0.5},\"line_color\":{\"value\":\"#7c7e71\"},\"line_width\":{\"value\":0.5},\"size\":{\"field\":\"population\",\"units\":\"screen\"},\"x\":{\"field\":\"fertility\"},\"y\":{\"field\":\"life\"}},\"id\":\"4b62a34b-9a62-4fc2-baee-b59dbb06868e\",\"type\":\"Circle\"},{\"attributes\":{\"callback\":null,\"data\":{}},\"id\":\"e2af1b29-ce26-4d23-91e9-5db20840d664\",\"type\":\"ColumnDataSource\"},{\"attributes\":{\"data_source\":{\"id\":\"c5275fb0-d9f7-435f-8e3d-190c1156123b\",\"type\":\"ColumnDataSource\"},\"glyph\":{\"id\":\"edd091f1-815e-4e3a-a303-d2312569b301\",\"type\":\"Text\"},\"hover_glyph\":null,\"muted_glyph\":null},\"id\":\"f486fa62-4ecd-44b4-96c7-835d67396a96\",\"type\":\"GlyphRenderer\"},{\"attributes\":{\"data_source\":{\"id\":\"6e5b382d-3b19-4675-88cb-8047ecde14a9\",\"type\":\"ColumnDataSource\"},\"glyph\":{\"id\":\"0d55580e-6ed4-4ffb-b72b-52eeeeed4213\",\"type\":\"Circle\"},\"hover_glyph\":null,\"muted_glyph\":null},\"id\":\"1b631a15-4e35-4cf2-895d-3e3166e03588\",\"type\":\"GlyphRenderer\"},{\"attributes\":{\"callback\":null,\"column_names\":[\"year\"],\"data\":{\"year\":[\"1964\"]}},\"id\":\"42a9cde0-9679-414f-a984-f68ee1d99bae\",\"type\":\"ColumnDataSource\"},{\"attributes\":{\"interval\":20},\"id\":\"08515558-587c-4f62-befd-e80a37406eb4\",\"type\":\"SingleIntervalTicker\"},{\"attributes\":{},\"id\":\"552e3ab1-6ff4-457e-8437-52ccabe49a37\",\"type\":\"LinearScale\"},{\"attributes\":{\"callback\":null,\"data\":{}},\"id\":\"6e5b382d-3b19-4675-88cb-8047ecde14a9\",\"type\":\"ColumnDataSource\"},{\"attributes\":{\"text\":{\"value\":\"Sub-Saharan Africa\"},\"text_color\":{\"value\":\"#666666\"},\"text_font_size\":{\"value\":\"10pt\"},\"x\":{\"value\":7},\"y\":{\"value\":70}},\"id\":\"bf6c2d1f-1389-4849-9ed3-e2c9f4db3359\",\"type\":\"Text\"},{\"attributes\":{\"data_source\":{\"id\":\"1271ddf2-e8b9-457f-aa57-1ca5be7512ff\",\"type\":\"ColumnDataSource\"},\"glyph\":{\"id\":\"6efab2d5-c23d-419b-b3cf-a150e3680b34\",\"type\":\"Circle\"},\"hover_glyph\":null,\"muted_glyph\":null},\"id\":\"16fb1ffc-4876-4930-8ca7-3876ef2b5b76\",\"type\":\"GlyphRenderer\"},{\"attributes\":{\"callback\":null,\"data\":{}},\"id\":\"44db28e0-736a-4f20-8cc0-73f09666e3c1\",\"type\":\"ColumnDataSource\"},{\"attributes\":{\"data_source\":{\"id\":\"7d3aa7c3-a31a-4c0c-9c7e-1b389d212490\",\"type\":\"ColumnDataSource\"},\"glyph\":{\"id\":\"cc7323a6-daab-4f90-88dc-c5bdb1939a30\",\"type\":\"Text\"},\"hover_glyph\":null,\"muted_glyph\":null},\"id\":\"9583e1c4-b114-4e7f-9099-6a357a12c714\",\"type\":\"GlyphRenderer\"},{\"attributes\":{\"callback\":null,\"data\":{}},\"id\":\"1271ddf2-e8b9-457f-aa57-1ca5be7512ff\",\"type\":\"ColumnDataSource\"}],\"root_ids\":[\"65631050-df74-4895-88f8-a79f32b0a906\"]},\"title\":\"Bokeh Application\",\"version\":\"0.12.6\"}};\n",
       "            var render_items = [{\"docid\":\"8cae107a-866d-486e-a27c-44b1ecf3e023\",\"elementid\":\"26fb605d-0022-448c-905c-ef1c361a0187\",\"modelid\":\"65631050-df74-4895-88f8-a79f32b0a906\"}];\n",
       "            \n",
       "            Bokeh.embed.embed_items(docs_json, render_items);\n",
       "          };\n",
       "          if (document.readyState != \"loading\") fn();\n",
       "          else document.addEventListener(\"DOMContentLoaded\", fn);\n",
       "        })();\n",
       "      },\n",
       "      function(Bokeh) {\n",
       "      }\n",
       "    ];\n",
       "  \n",
       "    function run_inline_js() {\n",
       "      \n",
       "      if ((window.Bokeh !== undefined) || (force === true)) {\n",
       "        for (var i = 0; i < inline_js.length; i++) {\n",
       "          inline_js[i](window.Bokeh);\n",
       "        }if (force === true) {\n",
       "          display_loaded();\n",
       "        }} else if (Date.now() < window._bokeh_timeout) {\n",
       "        setTimeout(run_inline_js, 100);\n",
       "      } else if (!window._bokeh_failed_load) {\n",
       "        console.log(\"Bokeh: BokehJS failed to load within specified timeout.\");\n",
       "        window._bokeh_failed_load = true;\n",
       "      } else if (force !== true) {\n",
       "        var cell = $(document.getElementById(\"26fb605d-0022-448c-905c-ef1c361a0187\")).parents('.cell').data().cell;\n",
       "        cell.output_area.append_execute_result(NB_LOAD_WARNING)\n",
       "      }\n",
       "  \n",
       "    }\n",
       "  \n",
       "    if (window._bokeh_is_loading === 0) {\n",
       "      console.log(\"Bokeh: BokehJS loaded, going straight to plotting\");\n",
       "      run_inline_js();\n",
       "    } else {\n",
       "      load_libs(js_urls, function() {\n",
       "        console.log(\"Bokeh: BokehJS plotting callback run at\", now());\n",
       "        run_inline_js();\n",
       "      });\n",
       "    }\n",
       "  }(this));\n",
       "</script>"
      ]
     },
     "metadata": {},
     "output_type": "display_data"
    }
   ],
   "source": [
    "show(plot)"
   ]
  },
  {
   "cell_type": "markdown",
   "metadata": {},
   "source": [
    "### Add the slider and callback\n",
    "Next we add the slider widget and the JavaScript callback code, which changes the data of the `renderer_source` (powering the bubbles / circles) and the data of the `text_source` (powering our background text). After we've `set()` the data we need to `trigger()` a change. `slider`, `renderer_source`, `text_source` are all available because we add them as args to `Callback`.    \n",
    "\n",
    "It is the combination of `sources = %s % (js_source_array)` in the JavaScript and `Callback(args=sources...)` that provides the ability to look-up, by year, the JavaScript version of our Python-made `ColumnDataSource`."
   ]
  },
  {
   "cell_type": "code",
   "execution_count": null,
   "metadata": {
    "collapsed": false
   },
   "outputs": [],
   "source": [
    "# Add the slider\n",
    "code = \"\"\"\n",
    "    var year = slider.get('value'),\n",
    "        sources = %s,\n",
    "        new_source_data = sources[year].get('data');\n",
    "    renderer_source.set('data', new_source_data);\n",
    "    text_source.set('data', {'year': [String(year)]});\n",
    "\"\"\" % js_source_array\n",
    "\n",
    "callback = CustomJS(args=sources, code=code)\n",
    "slider = Slider(start=years[0], end=years[-1], value=1, step=1, title=\"Year\", callback=callback)\n",
    "callback.args[\"renderer_source\"] = renderer_source\n",
    "callback.args[\"slider\"] = slider\n",
    "callback.args[\"text_source\"] = text_source"
   ]
  },
  {
   "cell_type": "markdown",
   "metadata": {},
   "source": [
    "Check out what our slider looks like by itself:"
   ]
  },
  {
   "cell_type": "code",
   "execution_count": null,
   "metadata": {
    "collapsed": false
   },
   "outputs": [],
   "source": [
    "# show(widgetbox(slider))"
   ]
  },
  {
   "cell_type": "markdown",
   "metadata": {},
   "source": [
    "### Putting all the pieces together\n",
    "\n",
    "Last but not least, we put the chart and the slider together in a layout and display it inline in the notebook."
   ]
  },
  {
   "cell_type": "code",
   "execution_count": null,
   "metadata": {
    "collapsed": false
   },
   "outputs": [],
   "source": [
    "# show(layout([[plot], [slider]], sizing_mode='scale_width'))"
   ]
  },
  {
   "cell_type": "markdown",
   "metadata": {},
   "source": [
    "Nice work! \n",
    "\n",
    "Next try integrating some of the widgets in your own plots. \n",
    "\n",
    "For more on Bokeh see the [User Guide](http://bokeh.pydata.org/en/latest/docs/user_guide.html#userguide), check out examples from the [Gallery](http://bokeh.pydata.org/en/latest/docs/gallery.html#gallery), and learn more about Bokeh's API in the [Reference Guide](http://bokeh.pydata.org/en/latest/docs/reference.html#refguide)."
   ]
  }
 ],
 "metadata": {
  "anaconda-cloud": {},
  "kernelspec": {
   "display_name": "Python [default]",
   "language": "python",
   "name": "python3"
  },
  "language_info": {
   "codemirror_mode": {
    "name": "ipython",
    "version": 3
   },
   "file_extension": ".py",
   "mimetype": "text/x-python",
   "name": "python",
   "nbconvert_exporter": "python",
   "pygments_lexer": "ipython3",
   "version": "3.5.2"
  }
 },
 "nbformat": 4,
 "nbformat_minor": 0
}
