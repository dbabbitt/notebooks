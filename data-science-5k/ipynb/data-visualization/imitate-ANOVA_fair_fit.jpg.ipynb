{
 "cells": [
  {
   "cell_type": "code",
   "execution_count": 1,
   "metadata": {
    "collapsed": false
   },
   "outputs": [
    {
     "name": "stdout",
     "output_type": "stream",
     "text": [
      "<module 'platform' from 'C:\\\\Users\\\\Dave\\\\Anaconda3\\\\lib\\\\platform.py'>\n"
     ]
    }
   ],
   "source": [
    "\n",
    "%run load-gapminder_df.ipynb"
   ]
  },
  {
   "cell_type": "code",
   "execution_count": 2,
   "metadata": {
    "collapsed": false
   },
   "outputs": [
    {
     "name": "stdout",
     "output_type": "stream",
     "text": [
      "Collecting joypy\n",
      "  Downloading joypy-0.1.6-py2.py3-none-any.whl\n",
      "Requirement already satisfied: scipy>=0.11.0 in c:\\users\\dave\\anaconda3\\lib\\site-packages (from joypy)\n",
      "Requirement already satisfied: matplotlib in c:\\users\\dave\\anaconda3\\lib\\site-packages (from joypy)\n",
      "Requirement already satisfied: pandas>=0.20.0 in c:\\users\\dave\\anaconda3\\lib\\site-packages (from joypy)\n",
      "Requirement already satisfied: numpy in c:\\users\\dave\\anaconda3\\lib\\site-packages (from joypy)\n",
      "Requirement already satisfied: pytz in c:\\users\\dave\\anaconda3\\lib\\site-packages (from matplotlib->joypy)\n",
      "Requirement already satisfied: python-dateutil in c:\\users\\dave\\anaconda3\\lib\\site-packages (from matplotlib->joypy)\n",
      "Requirement already satisfied: six>=1.10 in c:\\users\\dave\\anaconda3\\lib\\site-packages (from matplotlib->joypy)\n",
      "Requirement already satisfied: cycler>=0.10 in c:\\users\\dave\\anaconda3\\lib\\site-packages (from matplotlib->joypy)\n",
      "Requirement already satisfied: pyparsing!=2.0.4,!=2.1.2,!=2.1.6,>=1.5.6 in c:\\users\\dave\\anaconda3\\lib\\site-packages (from matplotlib->joypy)\n",
      "Installing collected packages: joypy\n",
      "Successfully installed joypy-0.1.6\n"
     ]
    }
   ],
   "source": [
    "\n",
    "!pip install joypy"
   ]
  },
  {
   "cell_type": "code",
   "execution_count": null,
   "metadata": {
    "collapsed": true
   },
   "outputs": [],
   "source": []
  }
 ],
 "metadata": {
  "anaconda-cloud": {},
  "kernelspec": {
   "display_name": "Python 3",
   "language": "python",
   "name": "python3"
  },
  "language_info": {
   "codemirror_mode": {
    "name": "ipython",
    "version": 3
   },
   "file_extension": ".py",
   "mimetype": "text/x-python",
   "name": "python",
   "nbconvert_exporter": "python",
   "pygments_lexer": "ipython3",
   "version": "3.5.2"
  }
 },
 "nbformat": 4,
 "nbformat_minor": 2
}
