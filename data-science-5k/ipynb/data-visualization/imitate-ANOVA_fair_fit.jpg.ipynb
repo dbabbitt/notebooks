{
 "cells": [
  {
   "cell_type": "code",
   "execution_count": 1,
   "metadata": {
    "collapsed": false
   },
   "outputs": [
    {
     "name": "stdout",
     "output_type": "stream",
     "text": [
      "<module 'platform' from 'C:\\\\Users\\\\Dave\\\\Anaconda3\\\\lib\\\\platform.py'>\n"
     ]
    }
   ],
   "source": [
    "\n",
    "%run load-gapminder_df.ipynb"
   ]
  },
  {
   "cell_type": "code",
   "execution_count": 2,
   "metadata": {
    "collapsed": false
   },
   "outputs": [
    {
     "name": "stdout",
     "output_type": "stream",
     "text": [
      "Collecting joypy\n",
      "  Downloading joypy-0.1.6-py2.py3-none-any.whl\n",
      "Requirement already satisfied: scipy>=0.11.0 in c:\\users\\dave\\anaconda3\\lib\\site-packages (from joypy)\n",
      "Requirement already satisfied: matplotlib in c:\\users\\dave\\anaconda3\\lib\\site-packages (from joypy)\n",
      "Requirement already satisfied: pandas>=0.20.0 in c:\\users\\dave\\anaconda3\\lib\\site-packages (from joypy)\n",
      "Requirement already satisfied: numpy in c:\\users\\dave\\anaconda3\\lib\\site-packages (from joypy)\n",
      "Requirement already satisfied: pytz in c:\\users\\dave\\anaconda3\\lib\\site-packages (from matplotlib->joypy)\n",
      "Requirement already satisfied: python-dateutil in c:\\users\\dave\\anaconda3\\lib\\site-packages (from matplotlib->joypy)\n",
      "Requirement already satisfied: six>=1.10 in c:\\users\\dave\\anaconda3\\lib\\site-packages (from matplotlib->joypy)\n",
      "Requirement already satisfied: cycler>=0.10 in c:\\users\\dave\\anaconda3\\lib\\site-packages (from matplotlib->joypy)\n",
      "Requirement already satisfied: pyparsing!=2.0.4,!=2.1.2,!=2.1.6,>=1.5.6 in c:\\users\\dave\\anaconda3\\lib\\site-packages (from matplotlib->joypy)\n",
      "Installing collected packages: joypy\n",
      "Successfully installed joypy-0.1.6\n"
     ]
    }
   ],
   "source": [
    "\n",
    "!pip install joypy"
   ]
  },
  {
   "cell_type": "code",
   "execution_count": 4,
   "metadata": {
    "collapsed": false
   },
   "outputs": [],
   "source": [
    "\n",
    "# From https://raw.githubusercontent.com/sbebo/joypy/master/Joyplot.ipynb\n",
    "import joypy\n",
    "import pandas as pd\n",
    "from matplotlib import pyplot as plt\n",
    "from matplotlib import cm"
   ]
  },
  {
   "cell_type": "code",
   "execution_count": 6,
   "metadata": {
    "collapsed": false
   },
   "outputs": [
    {
     "data": {
      "text/html": [
       "<div>\n",
       "<style>\n",
       "    .dataframe thead tr:only-child th {\n",
       "        text-align: right;\n",
       "    }\n",
       "\n",
       "    .dataframe thead th {\n",
       "        text-align: left;\n",
       "    }\n",
       "\n",
       "    .dataframe tbody tr th {\n",
       "        vertical-align: top;\n",
       "    }\n",
       "</style>\n",
       "<table border=\"1\" class=\"dataframe\">\n",
       "  <thead>\n",
       "    <tr style=\"text-align: right;\">\n",
       "      <th></th>\n",
       "      <th>0</th>\n",
       "      <th>1</th>\n",
       "      <th>2</th>\n",
       "      <th>3</th>\n",
       "      <th>4</th>\n",
       "    </tr>\n",
       "  </thead>\n",
       "  <tbody>\n",
       "    <tr>\n",
       "      <th>country_name</th>\n",
       "      <td>ANTARCTIC FISHERIES</td>\n",
       "      <td>Abkhazia</td>\n",
       "      <td>Afghanistan</td>\n",
       "      <td>Akrotiri and Dhekelia</td>\n",
       "      <td>Albania</td>\n",
       "    </tr>\n",
       "    <tr>\n",
       "      <th>income_per_person</th>\n",
       "      <td>NaN</td>\n",
       "      <td>NaN</td>\n",
       "      <td>NaN</td>\n",
       "      <td>NaN</td>\n",
       "      <td>1915</td>\n",
       "    </tr>\n",
       "    <tr>\n",
       "      <th>alcohol_consumption</th>\n",
       "      <td>NaN</td>\n",
       "      <td>NaN</td>\n",
       "      <td>0.03</td>\n",
       "      <td>NaN</td>\n",
       "      <td>7.29</td>\n",
       "    </tr>\n",
       "    <tr>\n",
       "      <th>armed_forces_rate</th>\n",
       "      <td>NaN</td>\n",
       "      <td>NaN</td>\n",
       "      <td>0.569653</td>\n",
       "      <td>NaN</td>\n",
       "      <td>1.02474</td>\n",
       "    </tr>\n",
       "    <tr>\n",
       "      <th>breast_cancer_per_100th</th>\n",
       "      <td>NaN</td>\n",
       "      <td>NaN</td>\n",
       "      <td>26.8</td>\n",
       "      <td>NaN</td>\n",
       "      <td>57.4</td>\n",
       "    </tr>\n",
       "    <tr>\n",
       "      <th>co2_emissions</th>\n",
       "      <td>143000</td>\n",
       "      <td>NaN</td>\n",
       "      <td>7.5944e+07</td>\n",
       "      <td>NaN</td>\n",
       "      <td>2.23747e+08</td>\n",
       "    </tr>\n",
       "    <tr>\n",
       "      <th>female_employment_rate</th>\n",
       "      <td>NaN</td>\n",
       "      <td>NaN</td>\n",
       "      <td>25.6</td>\n",
       "      <td>NaN</td>\n",
       "      <td>42.1</td>\n",
       "    </tr>\n",
       "    <tr>\n",
       "      <th>hiv_rate</th>\n",
       "      <td>NaN</td>\n",
       "      <td>NaN</td>\n",
       "      <td>NaN</td>\n",
       "      <td>NaN</td>\n",
       "      <td>NaN</td>\n",
       "    </tr>\n",
       "    <tr>\n",
       "      <th>internet_use_rate</th>\n",
       "      <td>NaN</td>\n",
       "      <td>NaN</td>\n",
       "      <td>3.65412</td>\n",
       "      <td>NaN</td>\n",
       "      <td>44.9899</td>\n",
       "    </tr>\n",
       "    <tr>\n",
       "      <th>life_expectancy</th>\n",
       "      <td>NaN</td>\n",
       "      <td>NaN</td>\n",
       "      <td>48.673</td>\n",
       "      <td>NaN</td>\n",
       "      <td>76.918</td>\n",
       "    </tr>\n",
       "    <tr>\n",
       "      <th>oil_per_person</th>\n",
       "      <td>NaN</td>\n",
       "      <td>NaN</td>\n",
       "      <td>NaN</td>\n",
       "      <td>NaN</td>\n",
       "      <td>NaN</td>\n",
       "    </tr>\n",
       "    <tr>\n",
       "      <th>polity_score</th>\n",
       "      <td>NaN</td>\n",
       "      <td>NaN</td>\n",
       "      <td>0</td>\n",
       "      <td>NaN</td>\n",
       "      <td>9</td>\n",
       "    </tr>\n",
       "    <tr>\n",
       "      <th>residential_electricity_per_person</th>\n",
       "      <td>NaN</td>\n",
       "      <td>NaN</td>\n",
       "      <td>NaN</td>\n",
       "      <td>NaN</td>\n",
       "      <td>636.341</td>\n",
       "    </tr>\n",
       "    <tr>\n",
       "      <th>suicide_per_100th</th>\n",
       "      <td>NaN</td>\n",
       "      <td>NaN</td>\n",
       "      <td>6.68439</td>\n",
       "      <td>NaN</td>\n",
       "      <td>7.69933</td>\n",
       "    </tr>\n",
       "    <tr>\n",
       "      <th>employment_rate</th>\n",
       "      <td>NaN</td>\n",
       "      <td>NaN</td>\n",
       "      <td>55.7</td>\n",
       "      <td>NaN</td>\n",
       "      <td>51.4</td>\n",
       "    </tr>\n",
       "    <tr>\n",
       "      <th>urban_rate</th>\n",
       "      <td>NaN</td>\n",
       "      <td>NaN</td>\n",
       "      <td>24.04</td>\n",
       "      <td>NaN</td>\n",
       "      <td>46.72</td>\n",
       "    </tr>\n",
       "  </tbody>\n",
       "</table>\n",
       "</div>"
      ],
      "text/plain": [
       "                                                      0         1  \\\n",
       "country_name                        ANTARCTIC FISHERIES  Abkhazia   \n",
       "income_per_person                                   NaN       NaN   \n",
       "alcohol_consumption                                 NaN       NaN   \n",
       "armed_forces_rate                                   NaN       NaN   \n",
       "breast_cancer_per_100th                             NaN       NaN   \n",
       "co2_emissions                                    143000       NaN   \n",
       "female_employment_rate                              NaN       NaN   \n",
       "hiv_rate                                            NaN       NaN   \n",
       "internet_use_rate                                   NaN       NaN   \n",
       "life_expectancy                                     NaN       NaN   \n",
       "oil_per_person                                      NaN       NaN   \n",
       "polity_score                                        NaN       NaN   \n",
       "residential_electricity_per_person                  NaN       NaN   \n",
       "suicide_per_100th                                   NaN       NaN   \n",
       "employment_rate                                     NaN       NaN   \n",
       "urban_rate                                          NaN       NaN   \n",
       "\n",
       "                                              2                      3  \\\n",
       "country_name                        Afghanistan  Akrotiri and Dhekelia   \n",
       "income_per_person                           NaN                    NaN   \n",
       "alcohol_consumption                        0.03                    NaN   \n",
       "armed_forces_rate                      0.569653                    NaN   \n",
       "breast_cancer_per_100th                    26.8                    NaN   \n",
       "co2_emissions                        7.5944e+07                    NaN   \n",
       "female_employment_rate                     25.6                    NaN   \n",
       "hiv_rate                                    NaN                    NaN   \n",
       "internet_use_rate                       3.65412                    NaN   \n",
       "life_expectancy                          48.673                    NaN   \n",
       "oil_per_person                              NaN                    NaN   \n",
       "polity_score                                  0                    NaN   \n",
       "residential_electricity_per_person          NaN                    NaN   \n",
       "suicide_per_100th                       6.68439                    NaN   \n",
       "employment_rate                            55.7                    NaN   \n",
       "urban_rate                                24.04                    NaN   \n",
       "\n",
       "                                              4  \n",
       "country_name                            Albania  \n",
       "income_per_person                          1915  \n",
       "alcohol_consumption                        7.29  \n",
       "armed_forces_rate                       1.02474  \n",
       "breast_cancer_per_100th                    57.4  \n",
       "co2_emissions                       2.23747e+08  \n",
       "female_employment_rate                     42.1  \n",
       "hiv_rate                                    NaN  \n",
       "internet_use_rate                       44.9899  \n",
       "life_expectancy                          76.918  \n",
       "oil_per_person                              NaN  \n",
       "polity_score                                  9  \n",
       "residential_electricity_per_person      636.341  \n",
       "suicide_per_100th                       7.69933  \n",
       "employment_rate                            51.4  \n",
       "urban_rate                                46.72  "
      ]
     },
     "execution_count": 6,
     "metadata": {},
     "output_type": "execute_result"
    }
   ],
   "source": [
    "\n",
    "gapminder_df.head().T"
   ]
  },
  {
   "cell_type": "code",
   "execution_count": 7,
   "metadata": {
    "collapsed": true
   },
   "outputs": [],
   "source": [
    "\n",
    "column_list = ['breast_cancer_per_100th', 'internet_use_rate', 'suicide_per_100th']\n",
    "df = gapminder_df[column_list].dropna().copy()"
   ]
  },
  {
   "cell_type": "code",
   "execution_count": 8,
   "metadata": {
    "collapsed": false
   },
   "outputs": [
    {
     "data": {
      "image/png": "[encoded data removed]",
      "text/plain": [
       "<matplotlib.figure.Figure at 0x26b48410b70>"
      ]
     },
     "metadata": {},
     "output_type": "display_data"
    }
   ],
   "source": [
    "\n",
    "%matplotlib inline\n",
    "fig, axes = joypy.joyplot(df)"
   ]
  },
  {
   "cell_type": "code",
   "execution_count": null,
   "metadata": {
    "collapsed": true
   },
   "outputs": [],
   "source": []
  }
 ],
 "metadata": {
  "anaconda-cloud": {},
  "kernelspec": {
   "display_name": "Python 3",
   "language": "python",
   "name": "python3"
  },
  "language_info": {
   "codemirror_mode": {
    "name": "ipython",
    "version": 3
   },
   "file_extension": ".py",
   "mimetype": "text/x-python",
   "name": "python",
   "nbconvert_exporter": "python",
   "pygments_lexer": "ipython3",
   "version": "3.5.2"
  }
 },
 "nbformat": 4,
 "nbformat_minor": 2
}
