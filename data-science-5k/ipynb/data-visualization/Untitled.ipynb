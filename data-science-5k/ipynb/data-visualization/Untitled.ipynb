{
 "cells": [
  {
   "cell_type": "code",
   "execution_count": 2,
   "metadata": {},
   "outputs": [
    {
     "data": {
      "text/plain": [
       "'\\nCreated on Sun Aug 30 13:51:26 2015\\n\\n@author: ldierker\\n'"
      ]
     },
     "execution_count": 2,
     "metadata": {},
     "output_type": "execute_result"
    }
   ],
   "source": [
    "# -*- coding: utf-8 -*-\n",
    "\"\"\"\n",
    "Created on Sun Aug 30 13:51:26 2015\n",
    "\n",
    "@author: ldierker\n",
    "\"\"\"\n",
    "\n",
    "import pandas\n",
    "import numpy\n",
    "import seaborn\n",
    "import matplotlib.pyplot as plt\n",
    "\n",
    "# Use the following only if you are on a high definition device\n",
    "from IPython.display import set_matplotlib_formats\n",
    "set_matplotlib_formats('retina')\n",
    "\n",
    "\n",
    "data = pandas.read_csv(r'../../data/csv/nesarc_pds.csv', low_memory=False)"
   ]
  },
  {
   "cell_type": "code",
   "execution_count": 3,
   "metadata": {},
   "outputs": [
    {
     "name": "stderr",
     "output_type": "stream",
     "text": [
      "/Users/davebabbitt/anaconda/lib/python3.6/site-packages/ipykernel_launcher.py:12: FutureWarning: convert_objects is deprecated.  Use the data-type specific converters pd.to_datetime, pd.to_timedelta and pd.to_numeric.\n",
      "  if sys.path[0] == '':\n",
      "/Users/davebabbitt/anaconda/lib/python3.6/site-packages/ipykernel_launcher.py:13: FutureWarning: convert_objects is deprecated.  Use the data-type specific converters pd.to_datetime, pd.to_timedelta and pd.to_numeric.\n",
      "  del sys.path[0]\n",
      "/Users/davebabbitt/anaconda/lib/python3.6/site-packages/ipykernel_launcher.py:14: FutureWarning: convert_objects is deprecated.  Use the data-type specific converters pd.to_datetime, pd.to_timedelta and pd.to_numeric.\n",
      "  \n",
      "/Users/davebabbitt/anaconda/lib/python3.6/site-packages/ipykernel_launcher.py:15: FutureWarning: convert_objects is deprecated.  Use the data-type specific converters pd.to_datetime, pd.to_timedelta and pd.to_numeric.\n",
      "  from ipykernel import kernelapp as app\n",
      "/Users/davebabbitt/anaconda/lib/python3.6/site-packages/ipykernel_launcher.py:16: FutureWarning: convert_objects is deprecated.  Use the data-type specific converters pd.to_datetime, pd.to_timedelta and pd.to_numeric.\n",
      "  app.launch_new_instance()\n"
     ]
    }
   ],
   "source": [
    "\n",
    "#Set PANDAS to show all columns in DataFrame\n",
    "pandas.set_option('display.max_columns', None)\n",
    "\n",
    "#Set PANDAS to show all rows in DataFrame\n",
    "pandas.set_option('display.max_rows', None)\n",
    "\n",
    "# bug fix for display formats to avoid run time errors\n",
    "pandas.set_option('display.float_format', lambda x:'%f'%x)\n",
    "\n",
    "#setting variables you will be working with to numeric\n",
    "data['TAB12MDX'] = data['TAB12MDX'].convert_objects(convert_numeric=True)\n",
    "data['CHECK321'] = data['CHECK321'].convert_objects(convert_numeric=True)\n",
    "data['S3AQ3B1'] = data['S3AQ3B1'].convert_objects(convert_numeric=True)\n",
    "data['S3AQ3C1'] = data['S3AQ3C1'].convert_objects(convert_numeric=True)\n",
    "data['AGE'] = data['AGE'].convert_objects(convert_numeric=True)"
   ]
  },
  {
   "cell_type": "code",
   "execution_count": 4,
   "metadata": {
    "collapsed": true
   },
   "outputs": [],
   "source": [
    "\n",
    "#subset data to young adults age 18 to 25 who have smoked in the past 12 months\n",
    "sub1=data[(data['AGE']>=18) & (data['AGE']<=25) & (data['CHECK321']==1)]\n",
    "\n",
    "#make a copy of my new subsetted data\n",
    "sub2 = sub1.copy()\n",
    "\n",
    "#SETTING MISSING DATA\n",
    "# recode missing values to python missing (NaN)\n",
    "sub2['S3AQ3B1']=sub2['S3AQ3B1'].replace(9, numpy.nan)\n",
    "# recode missing values to python missing (NaN)\n",
    "sub2['S3AQ3C1']=sub2['S3AQ3C1'].replace(99, numpy.nan)\n",
    "\n",
    "recode1 = {1: 6, 2: 5, 3: 4, 4: 3, 5: 2, 6: 1}\n",
    "sub2['USFREQ']= sub2['S3AQ3B1'].map(recode1)\n",
    "\n",
    "recode2 = {1: 30, 2: 22, 3: 14, 4: 5, 5: 2.5, 6: 1}\n",
    "sub2['USFREQMO']= sub2['S3AQ3B1'].map(recode2)\n",
    "\n",
    "# A secondary variable multiplying the number of days smoked/month and the approx number of cig smoked/day\n",
    "sub2['NUMCIGMO_EST']=sub2['USFREQMO'] * sub2['S3AQ3C1']"
   ]
  },
  {
   "cell_type": "code",
   "execution_count": 7,
   "metadata": {},
   "outputs": [
    {
     "data": {
      "image/png": "[encoded data removed]",
      "text/plain": [
       "<matplotlib.figure.Figure at 0x114b18940>"
      ]
     },
     "metadata": {},
     "output_type": "display_data"
    }
   ],
   "source": [
    "\n",
    "%matplotlib inline\n",
    "\n",
    "#univariate bar graph for categorical variables\n",
    "# First hange format from numeric to categorical\n",
    "sub2[\"TAB12MDX\"] = sub2[\"TAB12MDX\"].astype('category')\n",
    "\n",
    "countplot = seaborn.countplot(x=\"TAB12MDX\", data=sub2)\n",
    "xlabel = plt.xlabel('Nicotine Dependence past 12 months')\n",
    "title = plt.title('Nicotine Dependence in the Past 12 Months Among Young Adult Smokers in the NESARC Study')"
   ]
  },
  {
   "cell_type": "code",
   "execution_count": 8,
   "metadata": {},
   "outputs": [
    {
     "data": {
      "image/png": "[encoded data removed]",
      "text/plain": [
       "<matplotlib.figure.Figure at 0x1149e1748>"
      ]
     },
     "metadata": {},
     "output_type": "display_data"
    }
   ],
   "source": [
    "\n",
    "%matplotlib inline\n",
    "\n",
    "#Univariate histogram for quantitative variable:\n",
    "distplot = seaborn.distplot(sub2[\"NUMCIGMO_EST\"].dropna(), kde=False);\n",
    "xlabel = plt.xlabel('Number of Cigarettes per Month')\n",
    "title = plt.title('Estimated Number of Cigarettes per Month among Young Adult Smokers in the NESARC Study')"
   ]
  },
  {
   "cell_type": "code",
   "execution_count": 9,
   "metadata": {},
   "outputs": [
    {
     "name": "stdout",
     "output_type": "stream",
     "text": [
      "describe number of cigarettes smoked per month\n",
      "count   1697.000000\n",
      "mean     320.304361\n",
      "std      274.436777\n",
      "min        1.000000\n",
      "25%       90.000000\n",
      "50%      300.000000\n",
      "75%      600.000000\n",
      "max     2940.000000\n",
      "Name: NUMCIGMO_EST, dtype: float64\n"
     ]
    }
   ],
   "source": [
    "\n",
    "# standard deviation and other descriptive statistics for quantitative variables\n",
    "print ('describe number of cigarettes smoked per month')\n",
    "desc1 = sub2['NUMCIGMO_EST'].describe()\n",
    "print (desc1)"
   ]
  },
  {
   "cell_type": "code",
   "execution_count": 10,
   "metadata": {},
   "outputs": [
    {
     "name": "stdout",
     "output_type": "stream",
     "text": [
      "NUMCIGMO_EST\n",
      "1.000000        29\n",
      "2.000000        14\n",
      "2.500000        11\n",
      "3.000000        12\n",
      "4.000000         2\n",
      "5.000000        34\n",
      "6.000000         1\n",
      "7.500000        12\n",
      "8.000000         1\n",
      "10.000000       38\n",
      "12.500000        9\n",
      "14.000000        3\n",
      "15.000000       14\n",
      "17.500000        1\n",
      "20.000000       13\n",
      "22.000000        4\n",
      "24.000000        1\n",
      "25.000000       14\n",
      "28.000000       17\n",
      "30.000000       25\n",
      "35.000000        2\n",
      "42.000000       19\n",
      "44.000000        9\n",
      "50.000000        7\n",
      "56.000000       15\n",
      "60.000000       28\n",
      "66.000000       14\n",
      "70.000000       22\n",
      "84.000000        3\n",
      "88.000000        6\n",
      "90.000000       45\n",
      "98.000000        1\n",
      "100.000000       5\n",
      "110.000000      11\n",
      "120.000000      46\n",
      "132.000000       4\n",
      "140.000000      10\n",
      "150.000000     108\n",
      "154.000000       3\n",
      "176.000000       3\n",
      "180.000000      47\n",
      "210.000000      39\n",
      "220.000000      12\n",
      "240.000000      36\n",
      "270.000000       6\n",
      "280.000000       1\n",
      "300.000000     350\n",
      "330.000000       4\n",
      "360.000000      25\n",
      "390.000000       7\n",
      "420.000000       2\n",
      "450.000000      97\n",
      "480.000000       5\n",
      "510.000000       2\n",
      "540.000000       3\n",
      "570.000000       1\n",
      "600.000000     357\n",
      "750.000000      13\n",
      "810.000000       1\n",
      "840.000000       1\n",
      "900.000000      38\n",
      "1050.000000      1\n",
      "1200.000000     29\n",
      "1800.000000      2\n",
      "2400.000000      1\n",
      "2940.000000      1\n",
      "dtype: int64\n"
     ]
    }
   ],
   "source": [
    "\n",
    "c1= sub2.groupby('NUMCIGMO_EST').size()\n",
    "print (c1)"
   ]
  },
  {
   "cell_type": "code",
   "execution_count": 11,
   "metadata": {},
   "outputs": [
    {
     "name": "stdout",
     "output_type": "stream",
     "text": [
      "describe nicotine dependence\n",
      "count     1706\n",
      "unique       2\n",
      "top          1\n",
      "freq       896\n",
      "Name: TAB12MDX, dtype: int64\n"
     ]
    }
   ],
   "source": [
    "\n",
    "print ('describe nicotine dependence')\n",
    "desc2 = sub2['TAB12MDX'].describe()\n",
    "print (desc2)"
   ]
  },
  {
   "cell_type": "code",
   "execution_count": 12,
   "metadata": {},
   "outputs": [
    {
     "name": "stdout",
     "output_type": "stream",
     "text": [
      "TAB12MDX\n",
      "0    810\n",
      "1    896\n",
      "dtype: int64\n"
     ]
    }
   ],
   "source": [
    "\n",
    "c1 = sub2.groupby('TAB12MDX').size()\n",
    "print (c1)"
   ]
  },
  {
   "cell_type": "code",
   "execution_count": 13,
   "metadata": {},
   "outputs": [
    {
     "name": "stdout",
     "output_type": "stream",
     "text": [
      "mode\n",
      "0    1\n",
      "Name: TAB12MDX, dtype: category\n",
      "Categories (2, int64): [0, 1]\n"
     ]
    }
   ],
   "source": [
    "\n",
    "print ('mode')\n",
    "mode1 = sub2['TAB12MDX'].mode()\n",
    "print (mode1)"
   ]
  },
  {
   "cell_type": "code",
   "execution_count": 14,
   "metadata": {},
   "outputs": [
    {
     "name": "stdout",
     "output_type": "stream",
     "text": [
      "mean\n",
      "320.3043606364172\n"
     ]
    }
   ],
   "source": [
    "\n",
    "print ('mean')\n",
    "mean1 = sub2['NUMCIGMO_EST'].mean()\n",
    "print (mean1)"
   ]
  },
  {
   "cell_type": "code",
   "execution_count": 15,
   "metadata": {},
   "outputs": [
    {
     "name": "stdout",
     "output_type": "stream",
     "text": [
      "std\n",
      "274.4367774906731\n"
     ]
    }
   ],
   "source": [
    "\n",
    "print ('std')\n",
    "std1 = sub2['NUMCIGMO_EST'].std()\n",
    "print (std1)"
   ]
  },
  {
   "cell_type": "code",
   "execution_count": 16,
   "metadata": {},
   "outputs": [
    {
     "name": "stdout",
     "output_type": "stream",
     "text": [
      "min\n",
      "1.0\n"
     ]
    }
   ],
   "source": [
    "\n",
    "print ('min')\n",
    "min1 = sub2['NUMCIGMO_EST'].min()\n",
    "print (min1)"
   ]
  },
  {
   "cell_type": "code",
   "execution_count": 17,
   "metadata": {},
   "outputs": [
    {
     "name": "stdout",
     "output_type": "stream",
     "text": [
      "max\n",
      "2940.0\n"
     ]
    }
   ],
   "source": [
    "\n",
    "print ('max')\n",
    "max1 = sub2['NUMCIGMO_EST'].max()\n",
    "print (max1)"
   ]
  },
  {
   "cell_type": "code",
   "execution_count": 18,
   "metadata": {},
   "outputs": [
    {
     "name": "stdout",
     "output_type": "stream",
     "text": [
      "median\n",
      "300.0\n"
     ]
    }
   ],
   "source": [
    "\n",
    "print ('median')\n",
    "median1 = sub2['NUMCIGMO_EST'].median()\n",
    "print (median1)"
   ]
  },
  {
   "cell_type": "code",
   "execution_count": 19,
   "metadata": {},
   "outputs": [
    {
     "name": "stdout",
     "output_type": "stream",
     "text": [
      "mode\n",
      "0   600.000000\n",
      "dtype: float64\n"
     ]
    }
   ],
   "source": [
    "\n",
    "print ('mode')\n",
    "mode1 = sub2['NUMCIGMO_EST'].mode()\n",
    "print (mode1)"
   ]
  },
  {
   "cell_type": "code",
   "execution_count": 20,
   "metadata": {},
   "outputs": [
    {
     "name": "stdout",
     "output_type": "stream",
     "text": [
      "TAB12MDX\n",
      "0    810\n",
      "1    896\n",
      "dtype: int64\n"
     ]
    }
   ],
   "source": [
    "\n",
    "c1= sub2.groupby('TAB12MDX').size()\n",
    "print (c1)"
   ]
  },
  {
   "cell_type": "code",
   "execution_count": 21,
   "metadata": {},
   "outputs": [
    {
     "name": "stdout",
     "output_type": "stream",
     "text": [
      "TAB12MDX\n",
      "0   1.879656\n",
      "1   2.079224\n",
      "dtype: float64\n"
     ]
    }
   ],
   "source": [
    "\n",
    "p1 = sub2.groupby('TAB12MDX').size() * 100 / len(data)\n",
    "print (p1)"
   ]
  },
  {
   "cell_type": "code",
   "execution_count": 22,
   "metadata": {},
   "outputs": [
    {
     "name": "stdout",
     "output_type": "stream",
     "text": [
      "NUMCIGMO_EST\n",
      "1.000000        29\n",
      "2.000000        14\n",
      "2.500000        11\n",
      "3.000000        12\n",
      "4.000000         2\n",
      "5.000000        34\n",
      "6.000000         1\n",
      "7.500000        12\n",
      "8.000000         1\n",
      "10.000000       38\n",
      "12.500000        9\n",
      "14.000000        3\n",
      "15.000000       14\n",
      "17.500000        1\n",
      "20.000000       13\n",
      "22.000000        4\n",
      "24.000000        1\n",
      "25.000000       14\n",
      "28.000000       17\n",
      "30.000000       25\n",
      "35.000000        2\n",
      "42.000000       19\n",
      "44.000000        9\n",
      "50.000000        7\n",
      "56.000000       15\n",
      "60.000000       28\n",
      "66.000000       14\n",
      "70.000000       22\n",
      "84.000000        3\n",
      "88.000000        6\n",
      "90.000000       45\n",
      "98.000000        1\n",
      "100.000000       5\n",
      "110.000000      11\n",
      "120.000000      46\n",
      "132.000000       4\n",
      "140.000000      10\n",
      "150.000000     108\n",
      "154.000000       3\n",
      "176.000000       3\n",
      "180.000000      47\n",
      "210.000000      39\n",
      "220.000000      12\n",
      "240.000000      36\n",
      "270.000000       6\n",
      "280.000000       1\n",
      "300.000000     350\n",
      "330.000000       4\n",
      "360.000000      25\n",
      "390.000000       7\n",
      "420.000000       2\n",
      "450.000000      97\n",
      "480.000000       5\n",
      "510.000000       2\n",
      "540.000000       3\n",
      "570.000000       1\n",
      "600.000000     357\n",
      "750.000000      13\n",
      "810.000000       1\n",
      "840.000000       1\n",
      "900.000000      38\n",
      "1050.000000      1\n",
      "1200.000000     29\n",
      "1800.000000      2\n",
      "2400.000000      1\n",
      "2940.000000      1\n",
      "dtype: int64\n"
     ]
    }
   ],
   "source": [
    "\n",
    "c2 = sub2.groupby('NUMCIGMO_EST').size()\n",
    "print (c2)"
   ]
  },
  {
   "cell_type": "code",
   "execution_count": 23,
   "metadata": {},
   "outputs": [
    {
     "name": "stdout",
     "output_type": "stream",
     "text": [
      "NUMCIGMO_EST\n",
      "1.000000      0.067296\n",
      "2.000000      0.032488\n",
      "2.500000      0.025526\n",
      "3.000000      0.027847\n",
      "4.000000      0.004641\n",
      "5.000000      0.078899\n",
      "6.000000      0.002321\n",
      "7.500000      0.027847\n",
      "8.000000      0.002321\n",
      "10.000000     0.088181\n",
      "12.500000     0.020885\n",
      "14.000000     0.006962\n",
      "15.000000     0.032488\n",
      "17.500000     0.002321\n",
      "20.000000     0.030167\n",
      "22.000000     0.009282\n",
      "24.000000     0.002321\n",
      "25.000000     0.032488\n",
      "28.000000     0.039450\n",
      "30.000000     0.058014\n",
      "35.000000     0.004641\n",
      "42.000000     0.044091\n",
      "44.000000     0.020885\n",
      "50.000000     0.016244\n",
      "56.000000     0.034808\n",
      "60.000000     0.064976\n",
      "66.000000     0.032488\n",
      "70.000000     0.051052\n",
      "84.000000     0.006962\n",
      "88.000000     0.013923\n",
      "90.000000     0.104425\n",
      "98.000000     0.002321\n",
      "100.000000    0.011603\n",
      "110.000000    0.025526\n",
      "120.000000    0.106746\n",
      "132.000000    0.009282\n",
      "140.000000    0.023206\n",
      "150.000000    0.250621\n",
      "154.000000    0.006962\n",
      "176.000000    0.006962\n",
      "180.000000    0.109066\n",
      "210.000000    0.090502\n",
      "220.000000    0.027847\n",
      "240.000000    0.083540\n",
      "270.000000    0.013923\n",
      "280.000000    0.002321\n",
      "300.000000    0.812197\n",
      "330.000000    0.009282\n",
      "360.000000    0.058014\n",
      "390.000000    0.016244\n",
      "420.000000    0.004641\n",
      "450.000000    0.225095\n",
      "480.000000    0.011603\n",
      "510.000000    0.004641\n",
      "540.000000    0.006962\n",
      "570.000000    0.002321\n",
      "600.000000    0.828441\n",
      "750.000000    0.030167\n",
      "810.000000    0.002321\n",
      "840.000000    0.002321\n",
      "900.000000    0.088181\n",
      "1050.000000   0.002321\n",
      "1200.000000   0.067296\n",
      "1800.000000   0.004641\n",
      "2400.000000   0.002321\n",
      "2940.000000   0.002321\n",
      "dtype: float64\n"
     ]
    }
   ],
   "source": [
    "\n",
    "p2 = sub2.groupby('NUMCIGMO_EST').size() * 100 / len(data)\n",
    "print (p2)"
   ]
  },
  {
   "cell_type": "code",
   "execution_count": 24,
   "metadata": {},
   "outputs": [
    {
     "name": "stdout",
     "output_type": "stream",
     "text": [
      "PACKSPERMONTH\n",
      "0.050000       29\n",
      "0.100000       14\n",
      "0.125000       11\n",
      "0.150000       12\n",
      "0.200000        2\n",
      "0.250000       34\n",
      "0.300000        1\n",
      "0.375000       12\n",
      "0.400000        1\n",
      "0.500000       38\n",
      "0.625000        9\n",
      "0.700000        3\n",
      "0.750000       14\n",
      "0.875000        1\n",
      "1.000000       13\n",
      "1.100000        4\n",
      "1.200000        1\n",
      "1.250000       14\n",
      "1.400000       17\n",
      "1.500000       25\n",
      "1.750000        2\n",
      "2.100000       19\n",
      "2.200000        9\n",
      "2.500000        7\n",
      "2.800000       15\n",
      "3.000000       28\n",
      "3.300000       14\n",
      "3.500000       22\n",
      "4.200000        3\n",
      "4.400000        6\n",
      "4.500000       45\n",
      "4.900000        1\n",
      "5.000000        5\n",
      "5.500000       11\n",
      "6.000000       46\n",
      "6.600000        4\n",
      "7.000000       10\n",
      "7.500000      108\n",
      "7.700000        3\n",
      "8.800000        3\n",
      "9.000000       47\n",
      "10.500000      39\n",
      "11.000000      12\n",
      "12.000000      36\n",
      "13.500000       6\n",
      "14.000000       1\n",
      "15.000000     350\n",
      "16.500000       4\n",
      "18.000000      25\n",
      "19.500000       7\n",
      "21.000000       2\n",
      "22.500000      97\n",
      "24.000000       5\n",
      "25.500000       2\n",
      "27.000000       3\n",
      "28.500000       1\n",
      "30.000000     357\n",
      "37.500000      13\n",
      "40.500000       1\n",
      "42.000000       1\n",
      "45.000000      38\n",
      "52.500000       1\n",
      "60.000000      29\n",
      "90.000000       2\n",
      "120.000000      1\n",
      "147.000000      1\n",
      "dtype: int64\n"
     ]
    }
   ],
   "source": [
    "\n",
    "# A secondary variable multiplying the number of days smoked per month and the approx number of cig smoked per day\n",
    "sub2['PACKSPERMONTH']=sub2['NUMCIGMO_EST'] / 20\n",
    "\n",
    "c2= sub2.groupby('PACKSPERMONTH').size()\n",
    "print (c2)"
   ]
  },
  {
   "cell_type": "code",
   "execution_count": 25,
   "metadata": {},
   "outputs": [
    {
     "name": "stdout",
     "output_type": "stream",
     "text": [
      "describe PACKCATEGORY\n",
      "count         1697\n",
      "unique           5\n",
      "top       (10, 20]\n",
      "freq           480\n",
      "Name: PACKCATEGORY, dtype: object\n"
     ]
    }
   ],
   "source": [
    "\n",
    "sub2['PACKCATEGORY'] = pandas.cut(sub2.PACKSPERMONTH, [0, 5, 10, 20, 30, 147])\n",
    "\n",
    "# change format from numeric to categorical\n",
    "sub2['PACKCATEGORY'] = sub2['PACKCATEGORY'].astype('category')\n",
    "\n",
    "print ('describe PACKCATEGORY')\n",
    "desc3 = sub2['PACKCATEGORY'].describe()\n",
    "print (desc3)"
   ]
  },
  {
   "cell_type": "code",
   "execution_count": 26,
   "metadata": {},
   "outputs": [
    {
     "name": "stdout",
     "output_type": "stream",
     "text": [
      "pack category counts\n",
      "(0, 5]       431\n",
      "(5, 10]      232\n",
      "(10, 20]     480\n",
      "(20, 30]     467\n",
      "(30, 147]     87\n",
      "Name: PACKCATEGORY, dtype: int64\n"
     ]
    }
   ],
   "source": [
    "\n",
    "print ('pack category counts')\n",
    "c7 = sub2['PACKCATEGORY'].value_counts(sort=False, dropna=True)\n",
    "print(c7)"
   ]
  },
  {
   "cell_type": "code",
   "execution_count": 27,
   "metadata": {},
   "outputs": [
    {
     "name": "stderr",
     "output_type": "stream",
     "text": [
      "/Users/davebabbitt/anaconda/lib/python3.6/site-packages/ipykernel_launcher.py:2: FutureWarning: convert_objects is deprecated.  Use the data-type specific converters pd.to_datetime, pd.to_timedelta and pd.to_numeric.\n",
      "  \n"
     ]
    },
    {
     "ename": "ValueError",
     "evalue": "Neither the `x` nor `y` variable appears to be numeric.",
     "output_type": "error",
     "traceback": [
      "\u001b[0;31m---------------------------------------------------------------------------\u001b[0m",
      "\u001b[0;31mValueError\u001b[0m                                Traceback (most recent call last)",
      "\u001b[0;32m<ipython-input-27-41d33873af24>\u001b[0m in \u001b[0;36m<module>\u001b[0;34m()\u001b[0m\n\u001b[1;32m      3\u001b[0m \u001b[0;34m\u001b[0m\u001b[0m\n\u001b[1;32m      4\u001b[0m \u001b[0;31m# bivariate bar graph C->Q\u001b[0m\u001b[0;34m\u001b[0m\u001b[0;34m\u001b[0m\u001b[0m\n\u001b[0;32m----> 5\u001b[0;31m \u001b[0mfactorplot\u001b[0m \u001b[0;34m=\u001b[0m \u001b[0mseaborn\u001b[0m\u001b[0;34m.\u001b[0m\u001b[0mfactorplot\u001b[0m\u001b[0;34m(\u001b[0m\u001b[0mx\u001b[0m\u001b[0;34m=\u001b[0m\u001b[0;34m\"PACKCATEGORY\"\u001b[0m\u001b[0;34m,\u001b[0m \u001b[0my\u001b[0m\u001b[0;34m=\u001b[0m\u001b[0;34m\"TAB12MDX\"\u001b[0m\u001b[0;34m,\u001b[0m \u001b[0mdata\u001b[0m\u001b[0;34m=\u001b[0m\u001b[0msub2\u001b[0m\u001b[0;34m,\u001b[0m \u001b[0mkind\u001b[0m\u001b[0;34m=\u001b[0m\u001b[0;34m\"bar\"\u001b[0m\u001b[0;34m,\u001b[0m \u001b[0mci\u001b[0m\u001b[0;34m=\u001b[0m\u001b[0;32mNone\u001b[0m\u001b[0;34m)\u001b[0m\u001b[0;34m\u001b[0m\u001b[0m\n\u001b[0m\u001b[1;32m      6\u001b[0m \u001b[0mxlabel\u001b[0m \u001b[0;34m=\u001b[0m \u001b[0mplt\u001b[0m\u001b[0;34m.\u001b[0m\u001b[0mxlabel\u001b[0m\u001b[0;34m(\u001b[0m\u001b[0;34m'Packs per Month'\u001b[0m\u001b[0;34m)\u001b[0m\u001b[0;34m\u001b[0m\u001b[0m\n\u001b[1;32m      7\u001b[0m \u001b[0mylabel\u001b[0m \u001b[0;34m=\u001b[0m \u001b[0mplt\u001b[0m\u001b[0;34m.\u001b[0m\u001b[0mylabel\u001b[0m\u001b[0;34m(\u001b[0m\u001b[0;34m'Proportion Nicotine Dependent'\u001b[0m\u001b[0;34m)\u001b[0m\u001b[0;34m\u001b[0m\u001b[0m\n",
      "\u001b[0;32m~/anaconda/lib/python3.6/site-packages/seaborn/categorical.py\u001b[0m in \u001b[0;36mfactorplot\u001b[0;34m(x, y, hue, data, row, col, col_wrap, estimator, ci, n_boot, units, order, hue_order, row_order, col_order, kind, size, aspect, orient, color, palette, legend, legend_out, sharex, sharey, margin_titles, facet_kws, **kwargs)\u001b[0m\n\u001b[1;32m   3470\u001b[0m     \u001b[0;31m# facets to ensure representation of all data in the final plot\u001b[0m\u001b[0;34m\u001b[0m\u001b[0;34m\u001b[0m\u001b[0m\n\u001b[1;32m   3471\u001b[0m     \u001b[0mp\u001b[0m \u001b[0;34m=\u001b[0m \u001b[0m_CategoricalPlotter\u001b[0m\u001b[0;34m(\u001b[0m\u001b[0;34m)\u001b[0m\u001b[0;34m\u001b[0m\u001b[0m\n\u001b[0;32m-> 3472\u001b[0;31m     \u001b[0mp\u001b[0m\u001b[0;34m.\u001b[0m\u001b[0mestablish_variables\u001b[0m\u001b[0;34m(\u001b[0m\u001b[0mx_\u001b[0m\u001b[0;34m,\u001b[0m \u001b[0my_\u001b[0m\u001b[0;34m,\u001b[0m \u001b[0mhue\u001b[0m\u001b[0;34m,\u001b[0m \u001b[0mdata\u001b[0m\u001b[0;34m,\u001b[0m \u001b[0morient\u001b[0m\u001b[0;34m,\u001b[0m \u001b[0morder\u001b[0m\u001b[0;34m,\u001b[0m \u001b[0mhue_order\u001b[0m\u001b[0;34m)\u001b[0m\u001b[0;34m\u001b[0m\u001b[0m\n\u001b[0m\u001b[1;32m   3473\u001b[0m     \u001b[0morder\u001b[0m \u001b[0;34m=\u001b[0m \u001b[0mp\u001b[0m\u001b[0;34m.\u001b[0m\u001b[0mgroup_names\u001b[0m\u001b[0;34m\u001b[0m\u001b[0m\n\u001b[1;32m   3474\u001b[0m     \u001b[0mhue_order\u001b[0m \u001b[0;34m=\u001b[0m \u001b[0mp\u001b[0m\u001b[0;34m.\u001b[0m\u001b[0mhue_names\u001b[0m\u001b[0;34m\u001b[0m\u001b[0m\n",
      "\u001b[0;32m~/anaconda/lib/python3.6/site-packages/seaborn/categorical.py\u001b[0m in \u001b[0;36mestablish_variables\u001b[0;34m(self, x, y, hue, data, orient, order, hue_order, units)\u001b[0m\n\u001b[1;32m    152\u001b[0m \u001b[0;34m\u001b[0m\u001b[0m\n\u001b[1;32m    153\u001b[0m             \u001b[0;31m# Figure out the plotting orientation\u001b[0m\u001b[0;34m\u001b[0m\u001b[0;34m\u001b[0m\u001b[0m\n\u001b[0;32m--> 154\u001b[0;31m             \u001b[0morient\u001b[0m \u001b[0;34m=\u001b[0m \u001b[0mself\u001b[0m\u001b[0;34m.\u001b[0m\u001b[0minfer_orient\u001b[0m\u001b[0;34m(\u001b[0m\u001b[0mx\u001b[0m\u001b[0;34m,\u001b[0m \u001b[0my\u001b[0m\u001b[0;34m,\u001b[0m \u001b[0morient\u001b[0m\u001b[0;34m)\u001b[0m\u001b[0;34m\u001b[0m\u001b[0m\n\u001b[0m\u001b[1;32m    155\u001b[0m \u001b[0;34m\u001b[0m\u001b[0m\n\u001b[1;32m    156\u001b[0m             \u001b[0;31m# Option 2a:\u001b[0m\u001b[0;34m\u001b[0m\u001b[0;34m\u001b[0m\u001b[0m\n",
      "\u001b[0;32m~/anaconda/lib/python3.6/site-packages/seaborn/categorical.py\u001b[0m in \u001b[0;36minfer_orient\u001b[0;34m(self, x, y, orient)\u001b[0m\n\u001b[1;32m    342\u001b[0m         \u001b[0;32melif\u001b[0m \u001b[0mis_categorical\u001b[0m\u001b[0;34m(\u001b[0m\u001b[0my\u001b[0m\u001b[0;34m)\u001b[0m\u001b[0;34m:\u001b[0m\u001b[0;34m\u001b[0m\u001b[0m\n\u001b[1;32m    343\u001b[0m             \u001b[0;32mif\u001b[0m \u001b[0mis_categorical\u001b[0m\u001b[0;34m(\u001b[0m\u001b[0mx\u001b[0m\u001b[0;34m)\u001b[0m\u001b[0;34m:\u001b[0m\u001b[0;34m\u001b[0m\u001b[0m\n\u001b[0;32m--> 344\u001b[0;31m                 \u001b[0;32mraise\u001b[0m \u001b[0mValueError\u001b[0m\u001b[0;34m(\u001b[0m\u001b[0mno_numeric\u001b[0m\u001b[0;34m)\u001b[0m\u001b[0;34m\u001b[0m\u001b[0m\n\u001b[0m\u001b[1;32m    345\u001b[0m             \u001b[0;32melse\u001b[0m\u001b[0;34m:\u001b[0m\u001b[0;34m\u001b[0m\u001b[0m\n\u001b[1;32m    346\u001b[0m                 \u001b[0;32mreturn\u001b[0m \u001b[0;34m\"h\"\u001b[0m\u001b[0;34m\u001b[0m\u001b[0m\n",
      "\u001b[0;31mValueError\u001b[0m: Neither the `x` nor `y` variable appears to be numeric."
     ]
    }
   ],
   "source": [
    "\n",
    "sub2['TAB12MDX'] = sub2['TAB12MDX'].convert_objects(convert_numeric=True)\n",
    "\n",
    "# bivariate bar graph C->Q\n",
    "factorplot = seaborn.factorplot(x=\"PACKCATEGORY\", y=\"TAB12MDX\", data=sub2, kind=\"bar\", ci=None)\n",
    "xlabel = plt.xlabel('Packs per Month')\n",
    "ylabel = plt.ylabel('Proportion Nicotine Dependent')"
   ]
  },
  {
   "cell_type": "code",
   "execution_count": null,
   "metadata": {
    "collapsed": true
   },
   "outputs": [],
   "source": [
    "\n",
    "#creating 3 level smokegroup variable\n",
    "def SMOKEGRP (row):\n",
    "   if row['TAB12MDX'] == 1 :\n",
    "      return 1\n",
    "   elif row['USFREQMO'] == 30 :\n",
    "      return 2\n",
    "   else :\n",
    "      return 3\n",
    "         \n",
    "sub2['SMOKEGRP'] = sub2.apply (lambda row: SMOKEGRP (row),axis=1)\n",
    "\n",
    "c3= sub2.groupby('SMOKEGRP').size()\n",
    "print c3\n",
    "\n",
    "#creating daily smoking vairable\n",
    "def DAILY (row):\n",
    "   if row['USFREQMO'] == 30 :\n",
    "      return 1\n",
    "   elif row['USFREQMO'] != 30 :\n",
    "      return 0\n",
    "      \n",
    "sub2['DAILY'] = sub2.apply (lambda row: DAILY (row),axis=1)\n",
    "      \n",
    "c4= sub2.groupby('DAILY').size()\n",
    "print c4\n",
    "\n",
    "# you can rename categorical variable values for graphing if original values are not informative \n",
    "# first change the variable format to categorical if you haven’t already done so\n",
    "sub2['ETHRACE2A'] = sub2['ETHRACE2A'].astype('category')\n",
    "# second create a new variable (PACKCAT) that has the new variable value labels\n",
    "sub2['ETHRACE2A']=sub2['ETHRACE2A'].cat.rename_categories([\"White\", \"Black\", \"NatAm\", \"Asian\", \"Hispanic\"])\n",
    "\n",
    "# bivariate bar graph C->C\n",
    "seaborn.factorplot(x='ETHRACE2A', y='DAILY', data=sub2, kind=\"bar\", ci=None)\n",
    "plt.xlabel('Ethnic Group')\n",
    "plt.ylabel('Proportion Daily Smokers')\n",
    "\n",
    "#check to see if missing data were set to NaN \n",
    "print 'counts for S3AQ3C1 with 99 set to NAN and number of missing requested'\n",
    "c4 = sub2['S3AQ3C1'].value_counts(sort=False, dropna=False)\n",
    "print(c4)\n",
    "\n",
    "print 'counts for TAB12MDX - past 12 month nicotine dependence'\n",
    "c5 = sub2['TAB12MDX'].value_counts(sort=False)\n",
    "print(c5)\n",
    "\n",
    "\n",
    "#GAPMINDER\n",
    "\n",
    "import pandas\n",
    "import numpy\n",
    "import seaborn\n",
    "import matplotlib.pyplot as plt\n",
    "\n",
    "# Use the following only if you are on a high definition device\n",
    "from IPython.display import set_matplotlib_formats\n",
    "set_matplotlib_formats('retina')\n",
    "\n",
    "\n",
    "# any additional libraries would be imported here\n",
    "data = pandas.read_csv('gapminder.csv', low_memory=False)\n",
    "\n",
    "#setting variables you will be working with to numeric\n",
    "data['internetuserate'] = data['internetuserate'].convert_objects(convert_numeric=True)\n",
    "data['urbanrate'] = data['urbanrate'].convert_objects(convert_numeric=True)\n",
    "data['incomeperperson'] = data['incomeperperson'].convert_objects(convert_numeric=True)\n",
    "data['hivrate'] = data['hivrate'].convert_objects(convert_numeric=True)\n",
    "\n",
    "data['incomeperperson']=data['incomeperperson'].replace(' ', numpy.nan)\n",
    "\n",
    "desc1 = data['urbanrate'].describe()\n",
    "print desc1\n",
    "\n",
    "desc2 = data['internetuserate'].describe()\n",
    "print desc2\n",
    "\n",
    "#basic scatterplot:  Q->Q\n",
    "scat1 = seaborn.regplot(x=\"urbanrate\", y=\"internetuserate\", fit_reg=False, data=data)\n",
    "plt.xlabel('Urban Rate')\n",
    "plt.ylabel('Internet Use Rate')\n",
    "plt.title('Scatterplot for the Association Between Urban Rate and Internet Use Rate')\n",
    "\n",
    "scat2 = seaborn.regplot(x=\"urbanrate\", y=\"internetuserate\", data=data)\n",
    "plt.xlabel('Urban Rate')\n",
    "plt.ylabel('Internet Use Rate')\n",
    "plt.title('Scatterplot for the Association Between Urban Rate and Internet Use Rate')\n",
    "\n",
    "scat3 = seaborn.regplot(x=\"incomeperperson\", y=\"internetuserate\", data=data)\n",
    "plt.xlabel('Income per Person')\n",
    "plt.ylabel('Internet Use Rate')\n",
    "plt.title('Scatterplot for the Association Between Income per Person and Internet Use Rate')\n",
    "\n",
    "scat4 = seaborn.regplot(x=\"incomeperperson\", y=\"hivrate\", data=data)\n",
    "plt.xlabel('Income per Person')\n",
    "plt.ylabel('HIV Rate')\n",
    "plt.title('Scatterplot for the Association Between Income per Person and HIV Rate')\n",
    "\n",
    "# quartile split (use qcut function & ask for 4 groups - gives you quartile split)\n",
    "print 'Income per person - 4 categories - quartiles'\n",
    "data['INCOMEGRP4']=pandas.qcut(data.incomeperperson, 4, labels=[\"1=25th%tile\",\"2=50%tile\",\"3=75%tile\",\"4=100%tile\"])\n",
    "c10 = data['INCOMEGRP4'].value_counts(sort=False, dropna=True)\n",
    "print(c10)\n",
    "\n",
    "# bivariate bar graph C->Q\n",
    "seaborn.factorplot(x='INCOMEGRP4', y='hivrate', data=data, kind=\"bar\", ci=None)\n",
    "plt.xlabel('income group')\n",
    "plt.ylabel('mean HIV rate')\n",
    "\n",
    "\n",
    "c11= data.groupby('INCOMEGRP4').size()\n",
    "print c11\n",
    "\n",
    "result = data.sort(['INCOMEGRP4'], ascending=[1])\n",
    "print(result)"
   ]
  }
 ],
 "metadata": {
  "kernelspec": {
   "display_name": "Python 3",
   "language": "python",
   "name": "python3"
  },
  "language_info": {
   "codemirror_mode": {
    "name": "ipython",
    "version": 3
   },
   "file_extension": ".py",
   "mimetype": "text/x-python",
   "name": "python",
   "nbconvert_exporter": "python",
   "pygments_lexer": "ipython3",
   "version": "3.6.1"
  }
 },
 "nbformat": 4,
 "nbformat_minor": 2
}
