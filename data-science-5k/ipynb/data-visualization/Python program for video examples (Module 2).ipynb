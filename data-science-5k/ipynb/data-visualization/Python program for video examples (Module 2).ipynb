{
 "cells": [
  {
   "cell_type": "code",
   "execution_count": 3,
   "metadata": {
    "scrolled": false
   },
   "outputs": [
    {
     "name": "stdout",
     "output_type": "stream",
     "text": [
      "Number of observations (rows) x Number of variables (columns):\n"
     ]
    },
    {
     "data": {
      "text/plain": [
       "(43093, 68)"
      ]
     },
     "execution_count": 3,
     "metadata": {},
     "output_type": "execute_result"
    }
   ],
   "source": [
    "\n",
    "import pandas as pd\n",
    "import numpy\n",
    "\n",
    "# Any additional libraries would be imported here\n",
    "\n",
    "nesarc_pds_df = pd.read_csv(r'../../data/csv/nesarc_pds.csv', low_memory=False)\n",
    "\n",
    "# Upper-case all DataFrame column names - place after code for loading data aboave\n",
    "nesarc_pds_df.columns = map(str.upper, nesarc_pds_df.columns)\n",
    "\n",
    "# Bug fix(?) for display formats to avoid run time errors - put after code for loading data above\n",
    "pd.set_option('display.float_format', lambda x:'%f'%x)\n",
    "\n",
    "print('Number of observations (rows) x Number of variables (columns):')\n",
    "nesarc_pds_df.shape\n",
    "\n",
    "# Setting variables you will be working with to numeric\n",
    "numeric_columns = ['TAB12MDX', 'CHECK321', 'S3AQ3B1', 'S3AQ3C1', 'AGE']\n",
    "for column_name in numeric_columns:\n",
    "    nesarc_pds_df[column_name] = nesarc_pds_df[column_name].map(pd.to_numeric)"
   ]
  },
  {
   "cell_type": "code",
   "execution_count": 8,
   "metadata": {
    "collapsed": true
   },
   "outputs": [],
   "source": [
    "\n",
    "\n",
    "label_dict = {'TAB12MDX': \"Tabacco Dependence in the last 12 months\", 'CHECK321': \"Smoked Cigarettes in the past 12 months\",\n",
    "              'S3AQ3B1': \"Usual Smoking Frequency\", 'S3AQ3C1': \"Usual Smoking Quantity\"}"
   ]
  },
  {
   "cell_type": "code",
   "execution_count": 10,
   "metadata": {},
   "outputs": [
    {
     "data": {
      "text/plain": [
       "0    38131\n",
       "1     4962\n",
       "Name: TAB12MDX, dtype: int64"
      ]
     },
     "execution_count": 10,
     "metadata": {},
     "output_type": "execute_result"
    }
   ],
   "source": [
    "\n",
    "#counts and percentages (i.e. frequency distributions) for each variable\n",
    "c1 = data['TAB12MDX'].value_counts(sort=False)\n",
    "c1"
   ]
  },
  {
   "cell_type": "code",
   "execution_count": 15,
   "metadata": {},
   "outputs": [
    {
     "data": {
      "text/html": [
       "<div>\n",
       "<style>\n",
       "    .dataframe thead tr:only-child th {\n",
       "        text-align: right;\n",
       "    }\n",
       "\n",
       "    .dataframe thead th {\n",
       "        text-align: left;\n",
       "    }\n",
       "\n",
       "    .dataframe tbody tr th {\n",
       "        vertical-align: top;\n",
       "    }\n",
       "</style>\n",
       "<table border=\"1\" class=\"dataframe\">\n",
       "  <thead>\n",
       "    <tr style=\"text-align: right;\">\n",
       "      <th></th>\n",
       "      <th>TAB12MDX</th>\n",
       "    </tr>\n",
       "  </thead>\n",
       "  <tbody>\n",
       "    <tr>\n",
       "      <th>0</th>\n",
       "      <td>0.884854</td>\n",
       "    </tr>\n",
       "    <tr>\n",
       "      <th>1</th>\n",
       "      <td>0.115146</td>\n",
       "    </tr>\n",
       "  </tbody>\n",
       "</table>\n",
       "</div>"
      ],
      "text/plain": [
       "   TAB12MDX\n",
       "0  0.884854\n",
       "1  0.115146"
      ]
     },
     "execution_count": 15,
     "metadata": {},
     "output_type": "execute_result"
    }
   ],
   "source": [
    "\n",
    "p1 = nesarc_pds_df['TAB12MDX'].value_counts(sort=False, normalize=True).to_frame()\n",
    "p1"
   ]
  },
  {
   "cell_type": "code",
   "execution_count": 14,
   "metadata": {},
   "outputs": [
    {
     "data": {
      "text/html": [
       "<div>\n",
       "<style>\n",
       "    .dataframe thead tr:only-child th {\n",
       "        text-align: right;\n",
       "    }\n",
       "\n",
       "    .dataframe thead th {\n",
       "        text-align: left;\n",
       "    }\n",
       "\n",
       "    .dataframe tbody tr th {\n",
       "        vertical-align: top;\n",
       "    }\n",
       "</style>\n",
       "<table border=\"1\" class=\"dataframe\">\n",
       "  <thead>\n",
       "    <tr style=\"text-align: right;\">\n",
       "      <th></th>\n",
       "      <th>CHECK321</th>\n",
       "    </tr>\n",
       "  </thead>\n",
       "  <tbody>\n",
       "    <tr>\n",
       "      <th>1.000000</th>\n",
       "      <td>9913</td>\n",
       "    </tr>\n",
       "    <tr>\n",
       "      <th>2.000000</th>\n",
       "      <td>8078</td>\n",
       "    </tr>\n",
       "    <tr>\n",
       "      <th>9.000000</th>\n",
       "      <td>22</td>\n",
       "    </tr>\n",
       "  </tbody>\n",
       "</table>\n",
       "</div>"
      ],
      "text/plain": [
       "          CHECK321\n",
       "1.000000      9913\n",
       "2.000000      8078\n",
       "9.000000        22"
      ]
     },
     "execution_count": 14,
     "metadata": {},
     "output_type": "execute_result"
    }
   ],
   "source": [
    "\n",
    "c2 = nesarc_pds_df['CHECK321'].value_counts(sort=False).to_frame()\n",
    "c2"
   ]
  },
  {
   "cell_type": "code",
   "execution_count": 13,
   "metadata": {},
   "outputs": [
    {
     "data": {
      "text/html": [
       "<div>\n",
       "<style>\n",
       "    .dataframe thead tr:only-child th {\n",
       "        text-align: right;\n",
       "    }\n",
       "\n",
       "    .dataframe thead th {\n",
       "        text-align: left;\n",
       "    }\n",
       "\n",
       "    .dataframe tbody tr th {\n",
       "        vertical-align: top;\n",
       "    }\n",
       "</style>\n",
       "<table border=\"1\" class=\"dataframe\">\n",
       "  <thead>\n",
       "    <tr style=\"text-align: right;\">\n",
       "      <th></th>\n",
       "      <th>CHECK321</th>\n",
       "    </tr>\n",
       "  </thead>\n",
       "  <tbody>\n",
       "    <tr>\n",
       "      <th>1.000000</th>\n",
       "      <td>0.550325</td>\n",
       "    </tr>\n",
       "    <tr>\n",
       "      <th>2.000000</th>\n",
       "      <td>0.448454</td>\n",
       "    </tr>\n",
       "    <tr>\n",
       "      <th>9.000000</th>\n",
       "      <td>0.001221</td>\n",
       "    </tr>\n",
       "  </tbody>\n",
       "</table>\n",
       "</div>"
      ],
      "text/plain": [
       "          CHECK321\n",
       "1.000000  0.550325\n",
       "2.000000  0.448454\n",
       "9.000000  0.001221"
      ]
     },
     "execution_count": 13,
     "metadata": {},
     "output_type": "execute_result"
    }
   ],
   "source": [
    "\n",
    "p2 = nesarc_pds_df['CHECK321'].value_counts(sort=False, normalize=True).to_frame()\n",
    "p2"
   ]
  },
  {
   "cell_type": "code",
   "execution_count": 11,
   "metadata": {},
   "outputs": [
    {
     "data": {
      "image/png": "[encoded data removed]",
      "text/plain": [
       "<matplotlib.figure.Figure at 0x114194f60>"
      ]
     },
     "metadata": {
      "image/png": {
       "height": 235,
       "width": 352
      }
     },
     "output_type": "display_data"
    }
   ],
   "source": [
    "\n",
    "import matplotlib.pyplot as plt\n",
    "%matplotlib inline\n",
    "%config InlineBackend.figure_format = 'retina'\n",
    "\n",
    "S3AQ3B1_vc = nesarc_pds_df['S3AQ3B1'].value_counts(sort=False)\n",
    "\n",
    "# Pie chart, where the slices will be ordered and plotted counter-clockwise:\n",
    "labels = S3AQ3B1_vc.index.tolist()\n",
    "sizes = S3AQ3B1_vc.values\n",
    "explode = (0, 0, 0, 0, 0, 0.1, 0)\n",
    "\n",
    "fig1, ax1 = plt.subplots()\n",
    "plot = ax1.pie(sizes, explode=explode, labels=labels, autopct='%1.0f%%', shadow=True, startangle=90)\n",
    "axis = ax1.axis('equal')"
   ]
  },
  {
   "cell_type": "code",
   "execution_count": null,
   "metadata": {
    "collapsed": true
   },
   "outputs": [],
   "source": []
  },
  {
   "cell_type": "code",
   "execution_count": 15,
   "metadata": {},
   "outputs": [
    {
     "data": {
      "text/plain": [
       "1.000000   0.823627\n",
       "4.000000   0.041470\n",
       "2.000000   0.025537\n",
       "9.000000   0.005663\n",
       "5.000000   0.022706\n",
       "3.000000   0.038139\n",
       "6.000000   0.042858\n",
       "Name: S3AQ3B1, dtype: float64"
      ]
     },
     "execution_count": 15,
     "metadata": {},
     "output_type": "execute_result"
    }
   ],
   "source": [
    "\n",
    "p3 = data['S3AQ3B1'].value_counts(sort=False, normalize=True)\n",
    "p3"
   ]
  },
  {
   "cell_type": "code",
   "execution_count": 16,
   "metadata": {},
   "outputs": [
    {
     "data": {
      "text/plain": [
       "20.000000    5366\n",
       "2.000000      884\n",
       "1.000000      934\n",
       "4.000000      573\n",
       "8.000000      299\n",
       "16.000000      40\n",
       "24.000000       7\n",
       "57.000000       1\n",
       "50.000000     106\n",
       "9.000000       49\n",
       "22.000000      10\n",
       "27.000000       2\n",
       "98.000000      15\n",
       "5.000000     1070\n",
       "18.000000      59\n",
       "14.000000      25\n",
       "80.000000      47\n",
       "66.000000       1\n",
       "29.000000       3\n",
       "33.000000       1\n",
       "99.000000     262\n",
       "11.000000      23\n",
       "37.000000       2\n",
       "55.000000       2\n",
       "25.000000     155\n",
       "3.000000      923\n",
       "10.000000    3077\n",
       "6.000000      463\n",
       "12.000000     230\n",
       "75.000000       2\n",
       "17.000000      22\n",
       "13.000000      34\n",
       "34.000000       1\n",
       "60.000000     241\n",
       "45.000000       8\n",
       "19.000000       5\n",
       "35.000000      30\n",
       "7.000000      269\n",
       "30.000000     909\n",
       "40.000000     993\n",
       "28.000000       3\n",
       "21.000000       1\n",
       "70.000000      12\n",
       "15.000000     851\n",
       "23.000000       2\n",
       "39.000000       1\n",
       "Name: S3AQ3C1, dtype: int64"
      ]
     },
     "execution_count": 16,
     "metadata": {},
     "output_type": "execute_result"
    }
   ],
   "source": [
    "\n",
    "c4 = data['S3AQ3C1'].value_counts(sort=False)\n",
    "c4"
   ]
  },
  {
   "cell_type": "code",
   "execution_count": 17,
   "metadata": {},
   "outputs": [
    {
     "data": {
      "text/plain": [
       "20.000000   0.297896\n",
       "2.000000    0.049076\n",
       "1.000000    0.051851\n",
       "4.000000    0.031810\n",
       "8.000000    0.016599\n",
       "16.000000   0.002221\n",
       "24.000000   0.000389\n",
       "57.000000   0.000056\n",
       "50.000000   0.005885\n",
       "9.000000    0.002720\n",
       "22.000000   0.000555\n",
       "27.000000   0.000111\n",
       "98.000000   0.000833\n",
       "5.000000    0.059402\n",
       "18.000000   0.003275\n",
       "14.000000   0.001388\n",
       "80.000000   0.002609\n",
       "66.000000   0.000056\n",
       "29.000000   0.000167\n",
       "33.000000   0.000056\n",
       "99.000000   0.014545\n",
       "11.000000   0.001277\n",
       "37.000000   0.000111\n",
       "55.000000   0.000111\n",
       "25.000000   0.008605\n",
       "3.000000    0.051241\n",
       "10.000000   0.170821\n",
       "6.000000    0.025704\n",
       "12.000000   0.012769\n",
       "75.000000   0.000111\n",
       "17.000000   0.001221\n",
       "13.000000   0.001888\n",
       "34.000000   0.000056\n",
       "60.000000   0.013379\n",
       "45.000000   0.000444\n",
       "19.000000   0.000278\n",
       "35.000000   0.001665\n",
       "7.000000    0.014934\n",
       "30.000000   0.050464\n",
       "40.000000   0.055127\n",
       "28.000000   0.000167\n",
       "21.000000   0.000056\n",
       "70.000000   0.000666\n",
       "15.000000   0.047244\n",
       "23.000000   0.000111\n",
       "39.000000   0.000056\n",
       "Name: S3AQ3C1, dtype: float64"
      ]
     },
     "execution_count": 17,
     "metadata": {},
     "output_type": "execute_result"
    }
   ],
   "source": [
    "\n",
    "p4 = data['S3AQ3C1'].value_counts(sort=False, normalize=True)\n",
    "p4"
   ]
  },
  {
   "cell_type": "code",
   "execution_count": 18,
   "metadata": {},
   "outputs": [
    {
     "data": {
      "text/plain": [
       "20.000000    5366\n",
       "2.000000      884\n",
       "1.000000      934\n",
       "4.000000      573\n",
       "8.000000      299\n",
       "16.000000      40\n",
       "24.000000       7\n",
       "57.000000       1\n",
       "50.000000     106\n",
       "9.000000       49\n",
       "22.000000      10\n",
       "27.000000       2\n",
       "98.000000      15\n",
       "5.000000     1070\n",
       "18.000000      59\n",
       "14.000000      25\n",
       "80.000000      47\n",
       "66.000000       1\n",
       "29.000000       3\n",
       "33.000000       1\n",
       "99.000000     262\n",
       "11.000000      23\n",
       "37.000000       2\n",
       "55.000000       2\n",
       "25.000000     155\n",
       "3.000000      923\n",
       "10.000000    3077\n",
       "6.000000      463\n",
       "12.000000     230\n",
       "75.000000       2\n",
       "17.000000      22\n",
       "13.000000      34\n",
       "34.000000       1\n",
       "60.000000     241\n",
       "45.000000       8\n",
       "19.000000       5\n",
       "35.000000      30\n",
       "7.000000      269\n",
       "30.000000     909\n",
       "40.000000     993\n",
       "28.000000       3\n",
       "21.000000       1\n",
       "70.000000      12\n",
       "15.000000     851\n",
       "23.000000       2\n",
       "39.000000       1\n",
       "Name: S3AQ3C1, dtype: int64"
      ]
     },
     "execution_count": 18,
     "metadata": {},
     "output_type": "execute_result"
    }
   ],
   "source": [
    "\n",
    "c4 = data['S3AQ3C1'].value_counts(sort=False)\n",
    "c4"
   ]
  },
  {
   "cell_type": "code",
   "execution_count": 19,
   "metadata": {},
   "outputs": [
    {
     "data": {
      "text/plain": [
       "20.000000   0.297896\n",
       "2.000000    0.049076\n",
       "1.000000    0.051851\n",
       "4.000000    0.031810\n",
       "8.000000    0.016599\n",
       "16.000000   0.002221\n",
       "24.000000   0.000389\n",
       "57.000000   0.000056\n",
       "50.000000   0.005885\n",
       "9.000000    0.002720\n",
       "22.000000   0.000555\n",
       "27.000000   0.000111\n",
       "98.000000   0.000833\n",
       "5.000000    0.059402\n",
       "18.000000   0.003275\n",
       "14.000000   0.001388\n",
       "80.000000   0.002609\n",
       "66.000000   0.000056\n",
       "29.000000   0.000167\n",
       "33.000000   0.000056\n",
       "99.000000   0.014545\n",
       "11.000000   0.001277\n",
       "37.000000   0.000111\n",
       "55.000000   0.000111\n",
       "25.000000   0.008605\n",
       "3.000000    0.051241\n",
       "10.000000   0.170821\n",
       "6.000000    0.025704\n",
       "12.000000   0.012769\n",
       "75.000000   0.000111\n",
       "17.000000   0.001221\n",
       "13.000000   0.001888\n",
       "34.000000   0.000056\n",
       "60.000000   0.013379\n",
       "45.000000   0.000444\n",
       "19.000000   0.000278\n",
       "35.000000   0.001665\n",
       "7.000000    0.014934\n",
       "30.000000   0.050464\n",
       "40.000000   0.055127\n",
       "28.000000   0.000167\n",
       "21.000000   0.000056\n",
       "70.000000   0.000666\n",
       "15.000000   0.047244\n",
       "23.000000   0.000111\n",
       "39.000000   0.000056\n",
       "Name: S3AQ3C1, dtype: float64"
      ]
     },
     "execution_count": 19,
     "metadata": {},
     "output_type": "execute_result"
    }
   ],
   "source": [
    "\n",
    "p4 = data['S3AQ3C1'].value_counts(sort=False, normalize=True)\n",
    "p4"
   ]
  },
  {
   "cell_type": "code",
   "execution_count": 20,
   "metadata": {},
   "outputs": [
    {
     "name": "stdout",
     "output_type": "stream",
     "text": [
      "counts for TAB12MDX\n"
     ]
    },
    {
     "data": {
      "text/plain": [
       "0    38131\n",
       "1     4962\n",
       "Name: TAB12MDX, dtype: int64"
      ]
     },
     "execution_count": 20,
     "metadata": {},
     "output_type": "execute_result"
    }
   ],
   "source": [
    "\n",
    "#ADDING TITLES\n",
    "print('counts for TAB12MDX')\n",
    "c1 = data['TAB12MDX'].value_counts(sort=False)\n",
    "c1\n",
    "#print(len(data['TAB12MDX'])) #number of observations (rows)"
   ]
  },
  {
   "cell_type": "code",
   "execution_count": 21,
   "metadata": {},
   "outputs": [
    {
     "name": "stdout",
     "output_type": "stream",
     "text": [
      "percentages for TAB12MDX\n"
     ]
    },
    {
     "data": {
      "text/plain": [
       "0   0.884854\n",
       "1   0.115146\n",
       "Name: TAB12MDX, dtype: float64"
      ]
     },
     "execution_count": 21,
     "metadata": {},
     "output_type": "execute_result"
    }
   ],
   "source": [
    "\n",
    "print('percentages for TAB12MDX')\n",
    "p1 = data['TAB12MDX'].value_counts(sort=False, normalize=True)\n",
    "p1"
   ]
  },
  {
   "cell_type": "code",
   "execution_count": 22,
   "metadata": {},
   "outputs": [
    {
     "name": "stdout",
     "output_type": "stream",
     "text": [
      "counts for CHECK321\n"
     ]
    },
    {
     "data": {
      "text/plain": [
       "1.000000    9913\n",
       "2.000000    8078\n",
       "9.000000      22\n",
       "Name: CHECK321, dtype: int64"
      ]
     },
     "execution_count": 22,
     "metadata": {},
     "output_type": "execute_result"
    }
   ],
   "source": [
    "\n",
    "print('counts for CHECK321')\n",
    "c2 = data['CHECK321'].value_counts(sort=False)\n",
    "c2"
   ]
  },
  {
   "cell_type": "code",
   "execution_count": 23,
   "metadata": {},
   "outputs": [
    {
     "name": "stdout",
     "output_type": "stream",
     "text": [
      "percentages for CHECK321\n"
     ]
    },
    {
     "data": {
      "text/plain": [
       "1.000000   0.550325\n",
       "2.000000   0.448454\n",
       "9.000000   0.001221\n",
       "Name: CHECK321, dtype: float64"
      ]
     },
     "execution_count": 23,
     "metadata": {},
     "output_type": "execute_result"
    }
   ],
   "source": [
    "\n",
    "print('percentages for CHECK321')\n",
    "p2 = data['CHECK321'].value_counts(sort=False, normalize=True)\n",
    "p2"
   ]
  },
  {
   "cell_type": "code",
   "execution_count": null,
   "metadata": {
    "collapsed": true
   },
   "outputs": [],
   "source": [
    "\n",
    "print('counts for S3AQ3B1')\n",
    "c3 = data['S3AQ3B1'].value_counts(sort=False, dropna=False)\n",
    "print(c3)\n",
    "#print(len(data['S3AQ3B1'])) #number of observations (rows)\n",
    "\n",
    "print('percentages for S3AQ3B1')\n",
    "p3 = data['S3AQ3B1'].value_counts(sort=False, normalize=True)\n",
    "print(p3)\n",
    "\n",
    "print('counts for S3AQ3C1')\n",
    "c4 = data['S3AQ3C1'].value_counts(sort=False, dropna=False)\n",
    "print(c4)\n",
    "\n",
    "print('percentages for S3AQ3C1')\n",
    "p4 = data['S3AQ3C1'].value_counts(sort=False, dropna=False, normalize=True)\n",
    "print(p4)\n",
    "\n",
    "#ADDING MORE DESCRIPTIVE TITLES\n",
    "print('counts for TAB12MDX – nicotine dependence in the past 12 months, yes=1')\n",
    "c1 = data['TAB12MDX'].value_counts(sort=False)\n",
    "print(c1)\n",
    "\n",
    "print('percentages for TAB12MDX nicotine dependence in the past 12 months, yes=1')\n",
    "p1 = data['TAB12MDX'].value_counts(sort=False, normalize=True)\n",
    "print(p1)\n",
    "\n",
    "print('counts for CHECK321 smoked in the past year, yes=1')\n",
    "c2 = data['CHECK321'].value_counts(sort=False)\n",
    "print(c2)\n",
    "\n",
    "print('percentages for CHECK321 smoked in the past year, yes=1')\n",
    "p2 = data['CHECK321'].value_counts(sort=False, normalize=True)\n",
    "print(p2)\n",
    "\n",
    "print('counts for S3AQ3B1 –usual frequency when smoked cigarettes')\n",
    "c3 = data['S3AQ3B1'].value_counts(sort=False)\n",
    "print(c3)\n",
    "\n",
    "print('percentages for S3AQ3B1 - usual frequency when smoked cigarettes')\n",
    "p3 = data['S3AQ3B1'].value_counts(sort=False, normalize=True)\n",
    "print(p3)\n",
    "\n",
    "print('counts for S3AQ3C1 usual quantity when smoked cigarettes')\n",
    "c4 = data['S3AQ3C1'].value_counts(sort=False)\n",
    "print(c4)\n",
    "\n",
    "print('percentages for S3AQ3C1 usual quantity when smoked cigarettes')\n",
    "p4 = data['S3AQ3C1'].value_counts(sort=False, normalize=True)\n",
    "print(p4)\n",
    "\n",
    "# freqeuncy disributions using the 'bygroup' function\n",
    "ct1= data.groupby('TAB12MDX').size()\n",
    "print(ct1)\n",
    "\n",
    "pt1 = data.groupby('TAB12MDX').size() * 100 / len(data)\n",
    "print(pt1)\n",
    "\n",
    "ct2= data.groupby('CHECK321').size()\n",
    "print(ct2)\n",
    "\n",
    "pt2 = data.groupby('CHECK321').size() * 100 / len(data)\n",
    "print(pt2)\n",
    "\n",
    "ct3= data.groupby('S3AQ3B1').size()\n",
    "print(ct3)\n",
    "\n",
    "pt3 = data.groupby('S3AQ3B1').size() * 100 / len(data)\n",
    "print(pt3)\n",
    "\n",
    "ct4= data.groupby('S3AQ3C1').size()\n",
    "print(ct4)\n",
    "\n",
    "pt4 = data.groupby('S3AQ3C1').size() * 100 / len(data)\n",
    "print(pt4)\n",
    "\n",
    "#subset data to young adults age 18 to 25 who have smoked in the past 12 months\n",
    "sub1=data[(data['AGE']>=18) & (data['AGE']<=25) & (data['CHECK321']==1)]\n",
    "\n",
    "#make a copy of my new subsetted data\n",
    "sub2 = sub1.copy()\n",
    "\n",
    "# frequency distritions on new sub2 data frame\n",
    "print('counts for AGE')\n",
    "c5 = sub2['AGE'].value_counts(sort=False)\n",
    "print(c5)\n",
    "\n",
    "print('percentages for AGE')\n",
    "p5 = sub2['AGE'].value_counts(sort=False, normalize=True)\n",
    "print(p5)\n",
    "\n",
    "print('counts for CHECK321')\n",
    "c6 = sub2['CHECK321'].value_counts(sort=False)\n",
    "print(c6)\n",
    "\n",
    "print('percentages for CHECK321')\n",
    "p6 = sub2['CHECK321'].value_counts(sort=False, normalize=True)\n",
    "print(p6)"
   ]
  }
 ],
 "metadata": {
  "kernelspec": {
   "display_name": "Python 3",
   "language": "python",
   "name": "python3"
  },
  "language_info": {
   "codemirror_mode": {
    "name": "ipython",
    "version": 3
   },
   "file_extension": ".py",
   "mimetype": "text/x-python",
   "name": "python",
   "nbconvert_exporter": "python",
   "pygments_lexer": "ipython3",
   "version": "3.6.1"
  }
 },
 "nbformat": 4,
 "nbformat_minor": 2
}
