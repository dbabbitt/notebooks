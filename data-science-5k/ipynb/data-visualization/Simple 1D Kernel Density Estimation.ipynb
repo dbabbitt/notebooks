{
 "cells": [
  {
   "cell_type": "code",
   "execution_count": 75,
   "metadata": {},
   "outputs": [
    {
     "name": "stdout",
     "output_type": "stream",
     "text": [
      "KernelDensity\t MinMaxScaler\t X\t X_plot\t angle_between\t ax\t both_RGB_hex\t categorical_accessor\t conjunctify_list\t \n",
      "create_binned_categories\t data_folder\t df\t df_cut\t download_url\t encoding\t euclidean\t fig\t formal_name_dict\t \n",
      "gapminder_df\t get_min_max\t high_RGB_hex\t hist_series\t informal_name_dict\t kde_df\t load_object\t low_RGB_hex\t norm\t \n",
      "np\t number_column_list\t obj_path\t os\t pd\t pdist\t pickle\t plt\t polygon_list\t \n",
      "round_down\t round_up\t saves_folder\t sns\t squareform\t store_objects\t true_dens\t unit_vector\t x\t \n",
      "xlim\t \n"
     ]
    }
   ],
   "source": [
    "\n",
    "%run load-gapminder_df.ipynb\n",
    "%who"
   ]
  },
  {
   "cell_type": "code",
   "execution_count": 120,
   "metadata": {},
   "outputs": [],
   "source": [
    "\n",
    "def get_func_args(func):\n",
    "    print(func.__code__.co_varnames[:func.__code__.co_argcount])\n",
    "    if func.__doc__ is not None:\n",
    "        print(func.__doc__)"
   ]
  },
  {
   "cell_type": "code",
   "execution_count": 121,
   "metadata": {},
   "outputs": [
    {
     "data": {
      "image/png": "[encoded data removed]",
      "text/plain": [
       "<matplotlib.figure.Figure object at 0x1174915c0>"
      ]
     },
     "metadata": {},
     "output_type": "display_data"
    }
   ],
   "source": [
    "\n",
    "import seaborn as sns\n",
    "import numpy as np\n",
    "from scipy.stats import norm\n",
    "\n",
    "sns.set()\n",
    "df = gapminder_df[['income_per_person']].dropna().copy()\n",
    "df_cut = pd.cut(x=df['income_per_person'], bins=10)\n",
    "df['codes'] = df_cut.cat.codes\n",
    "ax = sns.distplot(df['codes'], hist=True, norm_hist=True, fit=norm, kde=False, vertical=True)"
   ]
  },
  {
   "cell_type": "code",
   "execution_count": 137,
   "metadata": {
    "scrolled": false
   },
   "outputs": [
    {
     "name": "stdout",
     "output_type": "stream",
     "text": [
      "Flexibly plot a univariate distribution of observations.\n",
      "\n",
      "    This function combines the matplotlib ``hist`` function (with automatic\n",
      "    calculation of a good default bin size) with the seaborn :func:`kdeplot`\n",
      "    and :func:`rugplot` functions. It can also fit ``scipy.stats``\n",
      "    distributions and plot the estimated PDF over the data.\n",
      "\n",
      "    Parameters\n",
      "    ----------\n",
      "\n",
      "    a : Series, 1d-array, or list.\n",
      "        Observed data. If this is a Series object with a ``name`` attribute,\n",
      "        the name will be used to label the data axis.\n",
      "    bins : argument for matplotlib hist(), or None, optional\n",
      "        Specification of hist bins, or None to use Freedman-Diaconis rule.\n",
      "    hist : bool, optional\n",
      "        Whether to plot a (normed) histogram.\n",
      "    kde : bool, optional\n",
      "        Whether to plot a gaussian kernel density estimate.\n",
      "    rug : bool, optional\n",
      "        Whether to draw a rugplot on the support axis.\n",
      "    fit : random variable object, optional\n",
      "        An object with `fit` method, returning a tuple that can be passed to a\n",
      "        `pdf` method a positional arguments following an grid of values to\n",
      "        evaluate the pdf on.\n",
      "    {hist, kde, rug, fit}_kws : dictionaries, optional\n",
      "        Keyword arguments for underlying plotting functions.\n",
      "    color : matplotlib color, optional\n",
      "        Color to plot everything but the fitted curve in.\n",
      "    vertical : bool, optional\n",
      "        If True, oberved values are on y-axis.\n",
      "    norm_hist : bool, optional\n",
      "        If True, the histogram height shows a density rather than a count.\n",
      "        This is implied if a KDE or fitted density is plotted.\n",
      "    axlabel : string, False, or None, optional\n",
      "        Name for the support axis label. If None, will try to get it\n",
      "        from a.namel if False, do not set a label.\n",
      "    label : string, optional\n",
      "        Legend label for the relevent component of the plot\n",
      "    ax : matplotlib axis, optional\n",
      "        if provided, plot on this axis\n",
      "\n",
      "    Returns\n",
      "    -------\n",
      "    ax : matplotlib Axes\n",
      "        Returns the Axes object with the plot for further tweaking.\n",
      "\n",
      "    See Also\n",
      "    --------\n",
      "    kdeplot : Show a univariate or bivariate distribution with a kernel\n",
      "              density estimate.\n",
      "    rugplot : Draw small vertical lines to show each observation in a\n",
      "              distribution.\n",
      "\n",
      "    Examples\n",
      "    --------\n",
      "\n",
      "    Show a default plot with a kernel density estimate and histogram with bin\n",
      "    size determined automatically with a reference rule:\n",
      "\n",
      "    .. plot::\n",
      "        :context: close-figs\n",
      "\n",
      "        >>> import seaborn as sns, numpy as np\n",
      "        >>> sns.set(); np.random.seed(0)\n",
      "        >>> x = np.random.randn(100)\n",
      "        >>> ax = sns.distplot(x)\n",
      "\n",
      "    Use Pandas objects to get an informative axis label:\n",
      "\n",
      "    .. plot::\n",
      "        :context: close-figs\n",
      "\n",
      "        >>> import pandas as pd\n",
      "        >>> x = pd.Series(x, name=\"x variable\")\n",
      "        >>> ax = sns.distplot(x)\n",
      "\n",
      "    Plot the distribution with a kenel density estimate and rug plot:\n",
      "\n",
      "    .. plot::\n",
      "        :context: close-figs\n",
      "\n",
      "        >>> ax = sns.distplot(x, rug=True, hist=False)\n",
      "\n",
      "    Plot the distribution with a histogram and maximum likelihood gaussian\n",
      "    distribution fit:\n",
      "\n",
      "    .. plot::\n",
      "        :context: close-figs\n",
      "\n",
      "        >>> from scipy.stats import norm\n",
      "        >>> ax = sns.distplot(x, fit=norm, kde=False)\n",
      "\n",
      "    Plot the distribution on the vertical axis:\n",
      "\n",
      "    .. plot::\n",
      "        :context: close-figs\n",
      "\n",
      "        >>> ax = sns.distplot(x, vertical=True)\n",
      "\n",
      "    Change the color of all the plot elements:\n",
      "\n",
      "    .. plot::\n",
      "        :context: close-figs\n",
      "\n",
      "        >>> sns.set_color_codes()\n",
      "        >>> ax = sns.distplot(x, color=\"y\")\n",
      "\n",
      "    Pass specific parameters to the underlying plot functions:\n",
      "\n",
      "    .. plot::\n",
      "        :context: close-figs\n",
      "\n",
      "        >>> ax = sns.distplot(x, rug=True, rug_kws={\"color\": \"g\"},\n",
      "        ...                   kde_kws={\"color\": \"k\", \"lw\": 3, \"label\": \"KDE\"},\n",
      "        ...                   hist_kws={\"histtype\": \"step\", \"linewidth\": 3,\n",
      "        ...                             \"alpha\": 1, \"color\": \"g\"})\n",
      "\n",
      "    \n"
     ]
    }
   ],
   "source": [
    "\n",
    "print(sns.distplot.__doc__)"
   ]
  },
  {
   "cell_type": "code",
   "execution_count": 135,
   "metadata": {
    "scrolled": false
   },
   "outputs": [
    {
     "data": {
      "image/png": "[encoded data removed]",
      "text/plain": [
       "<matplotlib.figure.Figure object at 0x10a4883c8>"
      ]
     },
     "metadata": {},
     "output_type": "display_data"
    }
   ],
   "source": [
    "\n",
    "fig, ax = plt.subplots()\n",
    "ax = sns.kdeplot(data=df['codes'], shade=True, vertical=True, kernel='gau', ax=ax, label=len(df['codes'].unique()), gridsize=len(df['codes'].unique()))"
   ]
  },
  {
   "cell_type": "code",
   "execution_count": 136,
   "metadata": {
    "scrolled": false
   },
   "outputs": [
    {
     "name": "stdout",
     "output_type": "stream",
     "text": [
      "('data', 'data2', 'shade', 'vertical', 'kernel', 'bw', 'gridsize', 'cut', 'clip', 'legend', 'cumulative', 'shade_lowest', 'cbar', 'cbar_ax', 'cbar_kws', 'ax')\n",
      "Fit and plot a univariate or bivariate kernel density estimate.\n",
      "\n",
      "    Parameters\n",
      "    ----------\n",
      "    data : 1d array-like\n",
      "        Input data.\n",
      "    data2: 1d array-like, optional\n",
      "        Second input data. If present, a bivariate KDE will be estimated.\n",
      "    shade : bool, optional\n",
      "        If True, shade in the area under the KDE curve (or draw with filled\n",
      "        contours when data is bivariate).\n",
      "    vertical : bool, optional\n",
      "        If True, density is on x-axis.\n",
      "    kernel : {'gau' | 'cos' | 'biw' | 'epa' | 'tri' | 'triw' }, optional\n",
      "        Code for shape of kernel to fit with. Bivariate KDE can only use\n",
      "        gaussian kernel.\n",
      "    bw : {'scott' | 'silverman' | scalar | pair of scalars }, optional\n",
      "        Name of reference method to determine kernel size, scalar factor,\n",
      "        or scalar for each dimension of the bivariate plot.\n",
      "    gridsize : int, optional\n",
      "        Number of discrete points in the evaluation grid.\n",
      "    cut : scalar, optional\n",
      "        Draw the estimate to cut * bw from the extreme data points.\n",
      "    clip : pair of scalars, or pair of pair of scalars, optional\n",
      "        Lower and upper bounds for datapoints used to fit KDE. Can provide\n",
      "        a pair of (low, high) bounds for bivariate plots.\n",
      "    legend : bool, optional\n",
      "        If True, add a legend or label the axes when possible.\n",
      "    cumulative : bool, optional\n",
      "        If True, draw the cumulative distribution estimated by the kde.\n",
      "    shade_lowest : bool, optional\n",
      "        If True, shade the lowest contour of a bivariate KDE plot. Not\n",
      "        relevant when drawing a univariate plot or when ``shade=False``.\n",
      "        Setting this to ``False`` can be useful when you want multiple\n",
      "        densities on the same Axes.\n",
      "    cbar : bool, optional\n",
      "        If True and drawing a bivariate KDE plot, add a colorbar.\n",
      "    cbar_ax : matplotlib axes, optional\n",
      "        Existing axes to draw the colorbar onto, otherwise space is taken\n",
      "        from the main axes.\n",
      "    cbar_kws : dict, optional\n",
      "        Keyword arguments for ``fig.colorbar()``.\n",
      "    ax : matplotlib axes, optional\n",
      "        Axes to plot on, otherwise uses current axes.\n",
      "    kwargs : key, value pairings\n",
      "        Other keyword arguments are passed to ``plt.plot()`` or\n",
      "        ``plt.contour{f}`` depending on whether a univariate or bivariate\n",
      "        plot is being drawn.\n",
      "\n",
      "    Returns\n",
      "    -------\n",
      "    ax : matplotlib Axes\n",
      "        Axes with plot.\n",
      "\n",
      "    See Also\n",
      "    --------\n",
      "    distplot: Flexibly plot a univariate distribution of observations.\n",
      "    jointplot: Plot a joint dataset with bivariate and marginal distributions.\n",
      "\n",
      "    Examples\n",
      "    --------\n",
      "\n",
      "    Plot a basic univariate density:\n",
      "\n",
      "    .. plot::\n",
      "        :context: close-figs\n",
      "\n",
      "        >>> import numpy as np; np.random.seed(10)\n",
      "        >>> import seaborn as sns; sns.set(color_codes=True)\n",
      "        >>> mean, cov = [0, 2], [(1, .5), (.5, 1)]\n",
      "        >>> x, y = np.random.multivariate_normal(mean, cov, size=50).T\n",
      "        >>> ax = sns.kdeplot(x)\n",
      "\n",
      "    Shade under the density curve and use a different color:\n",
      "\n",
      "    .. plot::\n",
      "        :context: close-figs\n",
      "\n",
      "        >>> ax = sns.kdeplot(x, shade=True, color=\"r\")\n",
      "\n",
      "    Plot a bivariate density:\n",
      "\n",
      "    .. plot::\n",
      "        :context: close-figs\n",
      "\n",
      "        >>> ax = sns.kdeplot(x, y)\n",
      "\n",
      "    Use filled contours:\n",
      "\n",
      "    .. plot::\n",
      "        :context: close-figs\n",
      "\n",
      "        >>> ax = sns.kdeplot(x, y, shade=True)\n",
      "\n",
      "    Use more contour levels and a different color palette:\n",
      "\n",
      "    .. plot::\n",
      "        :context: close-figs\n",
      "\n",
      "        >>> ax = sns.kdeplot(x, y, n_levels=30, cmap=\"Purples_d\")\n",
      "\n",
      "    Use a narrower bandwith:\n",
      "\n",
      "    .. plot::\n",
      "        :context: close-figs\n",
      "\n",
      "        >>> ax = sns.kdeplot(x, bw=.15)\n",
      "\n",
      "    Plot the density on the vertical axis:\n",
      "\n",
      "    .. plot::\n",
      "        :context: close-figs\n",
      "\n",
      "        >>> ax = sns.kdeplot(y, vertical=True)\n",
      "\n",
      "    Limit the density curve within the range of the data:\n",
      "\n",
      "    .. plot::\n",
      "        :context: close-figs\n",
      "\n",
      "        >>> ax = sns.kdeplot(x, cut=0)\n",
      "\n",
      "    Add a colorbar for the contours:\n",
      "\n",
      "    .. plot::\n",
      "        :context: close-figs\n",
      "\n",
      "        >>> ax = sns.kdeplot(x, y, cbar=True)\n",
      "\n",
      "    Plot two shaded bivariate densities:\n",
      "\n",
      "    .. plot::\n",
      "        :context: close-figs\n",
      "\n",
      "        >>> iris = sns.load_dataset(\"iris\")\n",
      "        >>> setosa = iris.loc[iris.species == \"setosa\"]\n",
      "        >>> virginica = iris.loc[iris.species == \"virginica\"]\n",
      "        >>> ax = sns.kdeplot(setosa.sepal_width, setosa.sepal_length,\n",
      "        ...                  cmap=\"Reds\", shade=True, shade_lowest=False)\n",
      "        >>> ax = sns.kdeplot(virginica.sepal_width, virginica.sepal_length,\n",
      "        ...                  cmap=\"Blues\", shade=True, shade_lowest=False)\n",
      "\n",
      "    \n"
     ]
    }
   ],
   "source": [
    "\n",
    "get_func_args(sns.kdeplot)"
   ]
  },
  {
   "cell_type": "code",
   "execution_count": null,
   "metadata": {},
   "outputs": [],
   "source": []
  },
  {
   "cell_type": "code",
   "execution_count": null,
   "metadata": {},
   "outputs": [],
   "source": [
    "\n",
    "%matplotlib inline\n",
    "\n",
    "import numpy as np\n",
    "from scipy.stats import norm\n",
    "import matplotlib.pyplot as plt\n",
    "from sklearn.neighbors import KernelDensity\n",
    "\n",
    "# Plot a 1D density example\n",
    "N = 100\n",
    "np.random.seed(1)\n",
    "X = np.concatenate((np.random.normal(0, 1, int(0.3 * N)),\n",
    "                    np.random.normal(5, 1, int(0.7 * N))))[:, np.newaxis]\n",
    "\n",
    "X_plot = np.linspace(-5, 10, 1000)[:, np.newaxis]\n",
    "\n",
    "true_dens = (0.3 * norm(0, 1).pdf(X_plot[:, 0]) +\n",
    "             0.7 * norm(5, 1).pdf(X_plot[:, 0]))\n",
    "\n",
    "fig, ax = plt.subplots()\n",
    "polygon = ax.fill(X_plot[:, 0], true_dens, fc='black', alpha=0.2,\n",
    "                  label='input distribution')\n",
    "\n",
    "for kernel in ['gaussian', 'tophat', 'epanechnikov']:\n",
    "    kde = KernelDensity(kernel=kernel, bandwidth=0.5).fit(X)\n",
    "    log_dens = kde.score_samples(X_plot)\n",
    "    line_2d = ax.plot(X_plot[:, 0], np.exp(log_dens), '-',\n",
    "                      label=\"kernel = '{0}'\".format(kernel))\n",
    "\n",
    "text = ax.text(6, 0.38, \"N={0} points\".format(N))\n",
    "\n",
    "legend = ax.legend(loc='upper left')\n",
    "line_2d = ax.plot(X[:, 0], -0.005 - 0.01 * np.random.random(X.shape[0]), '+k')\n",
    "\n",
    "xlim = ax.set_xlim(-4, 9)\n",
    "ylim = ax.set_ylim(-0.02, 0.4)"
   ]
  },
  {
   "cell_type": "code",
   "execution_count": 103,
   "metadata": {},
   "outputs": [
    {
     "data": {
      "image/png": "[encoded data removed]",
      "text/plain": [
       "<matplotlib.figure.Figure object at 0x1177647f0>"
      ]
     },
     "metadata": {},
     "output_type": "display_data"
    }
   ],
   "source": [
    "\n",
    "%matplotlib inline\n",
    "\n",
    "import numpy as np\n",
    "from scipy.stats import norm\n",
    "import matplotlib.pyplot as plt\n",
    "from sklearn.neighbors import KernelDensity\n",
    "\n",
    "# Plot a 1D density example\n",
    "X = df['codes'].values.reshape(-1, 1)\n",
    "\n",
    "X_plot = df.index.to_native_types()[:, np.newaxis]\n",
    "\n",
    "fig, ax = plt.subplots()\n",
    "\n",
    "# Cool color list at https://xkcd.com/color/rgb/\n",
    "both_RGB_hex = '#fdb147'\n",
    "kde = KernelDensity(kernel='gaussian', bandwidth=0.5).fit(X)\n",
    "log_dens = kde.score_samples(X_plot)\n",
    "polygon_list = ax.fill(np.exp(log_dens), X_plot[:, 0], fc=both_RGB_hex, ec='black', alpha=0.4)\n",
    "low_RGB_hex = '#327FCE'"
   ]
  },
  {
   "cell_type": "code",
   "execution_count": 98,
   "metadata": {
    "scrolled": false
   },
   "outputs": [
    {
     "data": {
      "text/plain": [
       "array(['4', '5', '7', '8', '10', '11', '12', '14', '15', '16', '17', '18',\n",
       "       '19', '20', '21', '22', '23', '24', '25', '26', '27', '28', '29',\n",
       "       '30', '32', '33', '34', '35', '36', '37', '38', '39', '41', '42',\n",
       "       '44', '45', '48', '49', '50', '51', '53', '54', '55', '56', '57',\n",
       "       '58', '61', '62', '63', '64', '67', '68', '69', '70', '71', '73',\n",
       "       '74', '83', '84', '85', '88', '89', '90', '91', '92', '94', '95',\n",
       "       '96', '99', '101', '102', '103', '104', '106', '107', '108', '109',\n",
       "       '110', '111', '112', '113', '114', '116', '117', '119', '120',\n",
       "       '122', '124', '125', '126', '128', '130', '132', '134', '135',\n",
       "       '136', '137', '138', '139', '140', '141', '142', '143', '144',\n",
       "       '145', '146', '147', '148', '149', '150', '151', '153', '154',\n",
       "       '156', '157', '158', '159', '160', '161', '163', '164', '167',\n",
       "       '169', '170', '173', '175', '176', '177', '182', '183', '186',\n",
       "       '187', '188', '189', '190', '191', '192', '194', '195', '196',\n",
       "       '197', '203', '204', '205', '211', '212', '214', '216', '217',\n",
       "       '219', '220', '221', '224', '225', '226', '227', '228', '229',\n",
       "       '233', '236', '237', '238', '239', '241', '242', '243', '244',\n",
       "       '247', '248', '249', '250', '251', '253', '256', '257', '258',\n",
       "       '259', '261', '264', '265', '266', '267', '268', '269', '271',\n",
       "       '272', '273', '274', '283', '286', '287'],\n",
       "      dtype='<U21')"
      ]
     },
     "execution_count": 98,
     "metadata": {},
     "output_type": "execute_result"
    }
   ],
   "source": [
    "\n",
    "X"
   ]
  },
  {
   "cell_type": "code",
   "execution_count": 28,
   "metadata": {
    "scrolled": false
   },
   "outputs": [
    {
     "ename": "ValueError",
     "evalue": "x and y must have same first dimension, but have shapes (191,) and (10,)",
     "output_type": "error",
     "traceback": [
      "\u001b[0;31m---------------------------------------------------------------------------\u001b[0m",
      "\u001b[0;31mValueError\u001b[0m                                Traceback (most recent call last)",
      "\u001b[0;32m<ipython-input-28-de4080c1c9c4>\u001b[0m in \u001b[0;36m<module>\u001b[0;34m()\u001b[0m\n\u001b[1;32m     18\u001b[0m \u001b[0mfig\u001b[0m\u001b[0;34m,\u001b[0m \u001b[0max\u001b[0m \u001b[0;34m=\u001b[0m \u001b[0mplt\u001b[0m\u001b[0;34m.\u001b[0m\u001b[0msubplots\u001b[0m\u001b[0;34m(\u001b[0m\u001b[0;34m)\u001b[0m\u001b[0;34m\u001b[0m\u001b[0m\n\u001b[1;32m     19\u001b[0m polygon = ax.fill(X_plot[:, 0], true_dens, fc='black', alpha=0.2,\n\u001b[0;32m---> 20\u001b[0;31m                   label='input distribution')\n\u001b[0m\u001b[1;32m     21\u001b[0m \u001b[0;34m\u001b[0m\u001b[0m\n\u001b[1;32m     22\u001b[0m \u001b[0;32mfor\u001b[0m \u001b[0mkernel\u001b[0m \u001b[0;32min\u001b[0m \u001b[0;34m[\u001b[0m\u001b[0;34m'gaussian'\u001b[0m\u001b[0;34m,\u001b[0m \u001b[0;34m'tophat'\u001b[0m\u001b[0;34m,\u001b[0m \u001b[0;34m'epanechnikov'\u001b[0m\u001b[0;34m]\u001b[0m\u001b[0;34m:\u001b[0m\u001b[0;34m\u001b[0m\u001b[0m\n",
      "\u001b[0;32m~/anaconda/lib/python3.5/site-packages/matplotlib/__init__.py\u001b[0m in \u001b[0;36minner\u001b[0;34m(ax, *args, **kwargs)\u001b[0m\n\u001b[1;32m   1715\u001b[0m                     warnings.warn(msg % (label_namer, func.__name__),\n\u001b[1;32m   1716\u001b[0m                                   RuntimeWarning, stacklevel=2)\n\u001b[0;32m-> 1717\u001b[0;31m             \u001b[0;32mreturn\u001b[0m \u001b[0mfunc\u001b[0m\u001b[0;34m(\u001b[0m\u001b[0max\u001b[0m\u001b[0;34m,\u001b[0m \u001b[0;34m*\u001b[0m\u001b[0margs\u001b[0m\u001b[0;34m,\u001b[0m \u001b[0;34m**\u001b[0m\u001b[0mkwargs\u001b[0m\u001b[0;34m)\u001b[0m\u001b[0;34m\u001b[0m\u001b[0m\n\u001b[0m\u001b[1;32m   1718\u001b[0m         \u001b[0mpre_doc\u001b[0m \u001b[0;34m=\u001b[0m \u001b[0minner\u001b[0m\u001b[0;34m.\u001b[0m\u001b[0m__doc__\u001b[0m\u001b[0;34m\u001b[0m\u001b[0m\n\u001b[1;32m   1719\u001b[0m         \u001b[0;32mif\u001b[0m \u001b[0mpre_doc\u001b[0m \u001b[0;32mis\u001b[0m \u001b[0;32mNone\u001b[0m\u001b[0;34m:\u001b[0m\u001b[0;34m\u001b[0m\u001b[0m\n",
      "\u001b[0;32m~/anaconda/lib/python3.5/site-packages/matplotlib/axes/_axes.py\u001b[0m in \u001b[0;36mfill\u001b[0;34m(self, *args, **kwargs)\u001b[0m\n\u001b[1;32m   4686\u001b[0m \u001b[0;34m\u001b[0m\u001b[0m\n\u001b[1;32m   4687\u001b[0m         \u001b[0mpatches\u001b[0m \u001b[0;34m=\u001b[0m \u001b[0;34m[\u001b[0m\u001b[0;34m]\u001b[0m\u001b[0;34m\u001b[0m\u001b[0m\n\u001b[0;32m-> 4688\u001b[0;31m         \u001b[0;32mfor\u001b[0m \u001b[0mpoly\u001b[0m \u001b[0;32min\u001b[0m \u001b[0mself\u001b[0m\u001b[0;34m.\u001b[0m\u001b[0m_get_patches_for_fill\u001b[0m\u001b[0;34m(\u001b[0m\u001b[0;34m*\u001b[0m\u001b[0margs\u001b[0m\u001b[0;34m,\u001b[0m \u001b[0;34m**\u001b[0m\u001b[0mkwargs\u001b[0m\u001b[0;34m)\u001b[0m\u001b[0;34m:\u001b[0m\u001b[0;34m\u001b[0m\u001b[0m\n\u001b[0m\u001b[1;32m   4689\u001b[0m             \u001b[0mself\u001b[0m\u001b[0;34m.\u001b[0m\u001b[0madd_patch\u001b[0m\u001b[0;34m(\u001b[0m\u001b[0mpoly\u001b[0m\u001b[0;34m)\u001b[0m\u001b[0;34m\u001b[0m\u001b[0m\n\u001b[1;32m   4690\u001b[0m             \u001b[0mpatches\u001b[0m\u001b[0;34m.\u001b[0m\u001b[0mappend\u001b[0m\u001b[0;34m(\u001b[0m\u001b[0mpoly\u001b[0m\u001b[0;34m)\u001b[0m\u001b[0;34m\u001b[0m\u001b[0m\n",
      "\u001b[0;32m~/anaconda/lib/python3.5/site-packages/matplotlib/axes/_base.py\u001b[0m in \u001b[0;36m_grab_next_args\u001b[0;34m(self, *args, **kwargs)\u001b[0m\n\u001b[1;32m    402\u001b[0m                 \u001b[0mthis\u001b[0m \u001b[0;34m+=\u001b[0m \u001b[0margs\u001b[0m\u001b[0;34m[\u001b[0m\u001b[0;36m0\u001b[0m\u001b[0;34m]\u001b[0m\u001b[0;34m,\u001b[0m\u001b[0;34m\u001b[0m\u001b[0m\n\u001b[1;32m    403\u001b[0m                 \u001b[0margs\u001b[0m \u001b[0;34m=\u001b[0m \u001b[0margs\u001b[0m\u001b[0;34m[\u001b[0m\u001b[0;36m1\u001b[0m\u001b[0;34m:\u001b[0m\u001b[0;34m]\u001b[0m\u001b[0;34m\u001b[0m\u001b[0m\n\u001b[0;32m--> 404\u001b[0;31m             \u001b[0;32mfor\u001b[0m \u001b[0mseg\u001b[0m \u001b[0;32min\u001b[0m \u001b[0mself\u001b[0m\u001b[0;34m.\u001b[0m\u001b[0m_plot_args\u001b[0m\u001b[0;34m(\u001b[0m\u001b[0mthis\u001b[0m\u001b[0;34m,\u001b[0m \u001b[0mkwargs\u001b[0m\u001b[0;34m)\u001b[0m\u001b[0;34m:\u001b[0m\u001b[0;34m\u001b[0m\u001b[0m\n\u001b[0m\u001b[1;32m    405\u001b[0m                 \u001b[0;32myield\u001b[0m \u001b[0mseg\u001b[0m\u001b[0;34m\u001b[0m\u001b[0m\n\u001b[1;32m    406\u001b[0m \u001b[0;34m\u001b[0m\u001b[0m\n",
      "\u001b[0;32m~/anaconda/lib/python3.5/site-packages/matplotlib/axes/_base.py\u001b[0m in \u001b[0;36m_plot_args\u001b[0;34m(self, tup, kwargs)\u001b[0m\n\u001b[1;32m    382\u001b[0m             \u001b[0mx\u001b[0m\u001b[0;34m,\u001b[0m \u001b[0my\u001b[0m \u001b[0;34m=\u001b[0m \u001b[0mindex_of\u001b[0m\u001b[0;34m(\u001b[0m\u001b[0mtup\u001b[0m\u001b[0;34m[\u001b[0m\u001b[0;34m-\u001b[0m\u001b[0;36m1\u001b[0m\u001b[0;34m]\u001b[0m\u001b[0;34m)\u001b[0m\u001b[0;34m\u001b[0m\u001b[0m\n\u001b[1;32m    383\u001b[0m \u001b[0;34m\u001b[0m\u001b[0m\n\u001b[0;32m--> 384\u001b[0;31m         \u001b[0mx\u001b[0m\u001b[0;34m,\u001b[0m \u001b[0my\u001b[0m \u001b[0;34m=\u001b[0m \u001b[0mself\u001b[0m\u001b[0;34m.\u001b[0m\u001b[0m_xy_from_xy\u001b[0m\u001b[0;34m(\u001b[0m\u001b[0mx\u001b[0m\u001b[0;34m,\u001b[0m \u001b[0my\u001b[0m\u001b[0;34m)\u001b[0m\u001b[0;34m\u001b[0m\u001b[0m\n\u001b[0m\u001b[1;32m    385\u001b[0m \u001b[0;34m\u001b[0m\u001b[0m\n\u001b[1;32m    386\u001b[0m         \u001b[0;32mif\u001b[0m \u001b[0mself\u001b[0m\u001b[0;34m.\u001b[0m\u001b[0mcommand\u001b[0m \u001b[0;34m==\u001b[0m \u001b[0;34m'plot'\u001b[0m\u001b[0;34m:\u001b[0m\u001b[0;34m\u001b[0m\u001b[0m\n",
      "\u001b[0;32m~/anaconda/lib/python3.5/site-packages/matplotlib/axes/_base.py\u001b[0m in \u001b[0;36m_xy_from_xy\u001b[0;34m(self, x, y)\u001b[0m\n\u001b[1;32m    241\u001b[0m         \u001b[0;32mif\u001b[0m \u001b[0mx\u001b[0m\u001b[0;34m.\u001b[0m\u001b[0mshape\u001b[0m\u001b[0;34m[\u001b[0m\u001b[0;36m0\u001b[0m\u001b[0;34m]\u001b[0m \u001b[0;34m!=\u001b[0m \u001b[0my\u001b[0m\u001b[0;34m.\u001b[0m\u001b[0mshape\u001b[0m\u001b[0;34m[\u001b[0m\u001b[0;36m0\u001b[0m\u001b[0;34m]\u001b[0m\u001b[0;34m:\u001b[0m\u001b[0;34m\u001b[0m\u001b[0m\n\u001b[1;32m    242\u001b[0m             raise ValueError(\"x and y must have same first dimension, but \"\n\u001b[0;32m--> 243\u001b[0;31m                              \"have shapes {} and {}\".format(x.shape, y.shape))\n\u001b[0m\u001b[1;32m    244\u001b[0m         \u001b[0;32mif\u001b[0m \u001b[0mx\u001b[0m\u001b[0;34m.\u001b[0m\u001b[0mndim\u001b[0m \u001b[0;34m>\u001b[0m \u001b[0;36m2\u001b[0m \u001b[0;32mor\u001b[0m \u001b[0my\u001b[0m\u001b[0;34m.\u001b[0m\u001b[0mndim\u001b[0m \u001b[0;34m>\u001b[0m \u001b[0;36m2\u001b[0m\u001b[0;34m:\u001b[0m\u001b[0;34m\u001b[0m\u001b[0m\n\u001b[1;32m    245\u001b[0m             raise ValueError(\"x and y can be no greater than 2-D, but have \"\n",
      "\u001b[0;31mValueError\u001b[0m: x and y must have same first dimension, but have shapes (191,) and (10,)"
     ]
    },
    {
     "data": {
      "image/png": "[encoded data removed]",
      "text/plain": [
       "<matplotlib.figure.Figure object at 0x10f435b00>"
      ]
     },
     "metadata": {},
     "output_type": "display_data"
    }
   ],
   "source": [
    "\n",
    "# I'm trying to make this look something like https://upload.wikimedia.org/wikipedia/commons/8/80/ANOVA_fair_fit.jpg\n",
    "%matplotlib inline\n",
    "\n",
    "import numpy as np\n",
    "from scipy.stats import norm\n",
    "import matplotlib.pyplot as plt\n",
    "from sklearn.neighbors import KernelDensity\n",
    "\n",
    "# Plot a 1D density example\n",
    "df = gapminder_df[['income_per_person']].dropna().copy()\n",
    "df_cut = pd.cut(x=df['income_per_person'], bins=10)\n",
    "df['codes'] = df_cut.cat.codes\n",
    "X = df['codes']\n",
    "\n",
    "X_plot = df.index.to_native_types()[:, np.newaxis]\n",
    "\n",
    "true_dens = df['codes'].value_counts(sort=False)\n",
    "\n",
    "fig, ax = plt.subplots()\n",
    "polygon = ax.fill(X_plot[:, 0], true_dens, fc='black', alpha=0.2,\n",
    "                  label='input distribution')\n",
    "\n",
    "for kernel in ['gaussian', 'tophat', 'epanechnikov']:\n",
    "    kde = KernelDensity(kernel=kernel, bandwidth=0.5).fit(X)\n",
    "    log_dens = kde.score_samples(X_plot)\n",
    "    line_2d = ax.plot(X_plot[:, 0], np.exp(log_dens), '-',\n",
    "                      label=\"kernel = '{0}'\".format(kernel))\n",
    "\n",
    "text = ax.text(6, 0.38, \"N={0} points\".format(N))\n",
    "\n",
    "legend = ax.legend(loc='upper left')\n",
    "line_2d = ax.plot(X[:, 0], -0.005 - 0.01 * np.random.random(X.shape[0]), '+k')\n",
    "\n",
    "xlim = ax.set_xlim(-4, 9)\n",
    "ylim = ax.set_ylim(-0.02, 0.4)"
   ]
  },
  {
   "cell_type": "code",
   "execution_count": 71,
   "metadata": {
    "scrolled": false
   },
   "outputs": [
    {
     "name": "stdout",
     "output_type": "stream",
     "text": [
      "Pretty printing has been turned OFF\n"
     ]
    },
    {
     "data": {
      "text/plain": [
       "(-1.268, 10608.142]        145\n",
       "(10608.142, 21112.508]      18\n",
       "(21112.508, 31616.874]      13\n",
       "(31616.874, 42121.241]      11\n",
       "(42121.241, 52625.607]       1\n",
       "(52625.607, 63129.973]       1\n",
       "(63129.973, 73634.339]       0\n",
       "(73634.339, 84138.705]       1\n",
       "(84138.705, 94643.072]       0\n",
       "(94643.072, 105147.438]      1\n",
       "Name: income_per_person, dtype: int64"
      ]
     },
     "execution_count": 71,
     "metadata": {},
     "output_type": "execute_result"
    }
   ],
   "source": [
    "\n",
    "%pprint\n",
    "\n",
    "df_cut.value_counts(sort=False)"
   ]
  },
  {
   "cell_type": "code",
   "execution_count": 148,
   "metadata": {},
   "outputs": [
    {
     "data": {
      "image/png": "[encoded data removed]",
      "text/plain": [
       "<matplotlib.figure.Figure object at 0x117a11b38>"
      ]
     },
     "metadata": {},
     "output_type": "display_data"
    }
   ],
   "source": [
    "\n",
    "# Plot the progression of histograms to kernels\n",
    "X = df['codes'][:, np.newaxis]\n",
    "X_plot = np.linspace(-5, 10, 1000)[:, np.newaxis]\n",
    "bins = np.linspace(-5, 10, 10)\n",
    "\n",
    "fig, ax = plt.subplots(2, 2, sharex=True, sharey=True)\n",
    "fig.subplots_adjust(hspace=0.05, wspace=0.05)\n",
    "\n",
    "# histogram 1\n",
    "hist1_array = ax[0, 0].hist(X[:, 0], bins=bins, fc='#AAAAFF', normed=True)\n",
    "hist1_Text = ax[0, 0].text(-3.5, 0.31, \"Histogram\")\n",
    "\n",
    "# histogram 2\n",
    "hist2_array = ax[0, 1].hist(X[:, 0], bins=bins + 0.75, fc='#AAAAFF', normed=True)\n",
    "hist2_Text = ax[0, 1].text(-3.5, 0.31, \"Histogram, bins shifted\")\n",
    "\n",
    "# tophat KDE\n",
    "kde = KernelDensity(kernel='tophat', bandwidth=0.75).fit(X)\n",
    "log_dens = kde.score_samples(X_plot)\n",
    "tophat_polygon = ax[1, 0].fill(X_plot[:, 0], np.exp(log_dens), fc='#AAAAFF')\n",
    "tophat_Text = ax[1, 0].text(-3.5, 0.31, \"Tophat Kernel Density\")\n",
    "\n",
    "# Gaussian KDE\n",
    "kde = KernelDensity(kernel='gaussian', bandwidth=0.75).fit(X)\n",
    "log_dens = kde.score_samples(X_plot)\n",
    "gaussian_polygon = ax[1, 1].fill(X_plot[:, 0], np.exp(log_dens), fc='#AAAAFF')\n",
    "gaussian_Text = ax[1, 1].text(-3.5, 0.31, \"Gaussian Kernel Density\")\n",
    "\n",
    "for axi in ax.ravel():\n",
    "    line_2d = axi.plot(X[:, 0], np.zeros(X.shape[0]) - 0.01, '+k')\n",
    "    xlim_tuple = axi.set_xlim(-4, 9)\n",
    "    ylim_tuple = axi.set_ylim(-0.02, 0.34)\n",
    "\n",
    "for axi in ax[:, 0]:\n",
    "    ylabel_Text = axi.set_ylabel('Normalized Density')\n",
    "\n",
    "for axi in ax[1, :]:\n",
    "    xlabel_Text = axi.set_xlabel('x')"
   ]
  },
  {
   "cell_type": "code",
   "execution_count": 2,
   "metadata": {},
   "outputs": [
    {
     "name": "stdout",
     "output_type": "stream",
     "text": [
      "/usr/local/Cellar/python3/3.6.3/Frameworks/Python.framework/Versions/3.6\n"
     ]
    }
   ],
   "source": [
    "\n",
    "import sys\n",
    "\n",
    "print(sys.prefix)"
   ]
  },
  {
   "cell_type": "code",
   "execution_count": 4,
   "metadata": {},
   "outputs": [
    {
     "name": "stdout",
     "output_type": "stream",
     "text": [
      "Processing /Users/davebabbitt/joypy\n",
      "Collecting matplotlib (from joypy==0.1.6)\n",
      "  Downloading matplotlib-2.1.1-cp36-cp36m-macosx_10_6_intel.macosx_10_9_intel.macosx_10_9_x86_64.macosx_10_10_intel.macosx_10_10_x86_64.whl (13.2MB)\n",
      "\u001b[K    100% |████████████████████████████████| 13.2MB 114kB/s ta 0:00:011\n",
      "\u001b[?25hRequirement already satisfied: numpy in /usr/local/lib/python3.6/site-packages (from joypy==0.1.6)\n",
      "Collecting scipy>=0.11.0 (from joypy==0.1.6)\n",
      "  Downloading scipy-1.0.0-cp36-cp36m-macosx_10_6_intel.macosx_10_9_intel.macosx_10_9_x86_64.macosx_10_10_intel.macosx_10_10_x86_64.whl (16.7MB)\n",
      "\u001b[K    100% |████████████████████████████████| 16.7MB 91kB/s eta 0:00:011\n",
      "\u001b[?25hCollecting pandas>=0.20.0 (from joypy==0.1.6)\n",
      "  Downloading pandas-0.21.1-cp36-cp36m-macosx_10_6_intel.macosx_10_9_intel.macosx_10_9_x86_64.macosx_10_10_intel.macosx_10_10_x86_64.whl (14.9MB)\n",
      "\u001b[K    100% |████████████████████████████████| 14.9MB 102kB/s ta 0:00:011\n",
      "\u001b[?25hCollecting cycler>=0.10 (from matplotlib->joypy==0.1.6)\n",
      "  Using cached cycler-0.10.0-py2.py3-none-any.whl\n",
      "Collecting pytz (from matplotlib->joypy==0.1.6)\n",
      "  Using cached pytz-2017.3-py2.py3-none-any.whl\n",
      "Requirement already satisfied: six>=1.10 in /usr/local/lib/python3.6/site-packages (from matplotlib->joypy==0.1.6)\n",
      "Collecting pyparsing!=2.0.4,!=2.1.2,!=2.1.6,>=2.0.1 (from matplotlib->joypy==0.1.6)\n",
      "  Using cached pyparsing-2.2.0-py2.py3-none-any.whl\n",
      "Requirement already satisfied: python-dateutil>=2.0 in /usr/local/lib/python3.6/site-packages (from matplotlib->joypy==0.1.6)\n",
      "Installing collected packages: cycler, pytz, pyparsing, matplotlib, scipy, pandas, joypy\n",
      "  Running setup.py install for joypy ... \u001b[?25ldone\n",
      "\u001b[?25hSuccessfully installed cycler-0.10.0 joypy-0.1.6 matplotlib-2.1.1 pandas-0.21.1 pyparsing-2.2.0 pytz-2017.3 scipy-1.0.0\n"
     ]
    }
   ],
   "source": [
    "\n",
    "!pip3 install ~/joypy/"
   ]
  },
  {
   "cell_type": "code",
   "execution_count": 5,
   "metadata": {},
   "outputs": [],
   "source": [
    "\n",
    "import joypy\n",
    "import pandas as pd\n",
    "from matplotlib import pyplot as plt\n",
    "from matplotlib import cm"
   ]
  },
  {
   "cell_type": "code",
   "execution_count": 6,
   "metadata": {},
   "outputs": [
    {
     "ename": "ModuleNotFoundError",
     "evalue": "No module named 'sklearn'",
     "output_type": "error",
     "traceback": [
      "\u001b[0;31m---------------------------------------------------------------------------\u001b[0m",
      "\u001b[0;31mModuleNotFoundError\u001b[0m                       Traceback (most recent call last)",
      "\u001b[0;32m<ipython-input-6-eaab40a49ff2>\u001b[0m in \u001b[0;36m<module>\u001b[0;34m()\u001b[0m\n\u001b[1;32m      1\u001b[0m \u001b[0;34m\u001b[0m\u001b[0m\n\u001b[1;32m      2\u001b[0m \u001b[0mget_ipython\u001b[0m\u001b[0;34m(\u001b[0m\u001b[0;34m)\u001b[0m\u001b[0;34m.\u001b[0m\u001b[0mrun_line_magic\u001b[0m\u001b[0;34m(\u001b[0m\u001b[0;34m'matplotlib'\u001b[0m\u001b[0;34m,\u001b[0m \u001b[0;34m'inline'\u001b[0m\u001b[0;34m)\u001b[0m\u001b[0;34m\u001b[0m\u001b[0m\n\u001b[0;32m----> 3\u001b[0;31m \u001b[0;32mfrom\u001b[0m \u001b[0msklearn\u001b[0m \u001b[0;32mimport\u001b[0m \u001b[0mdatasets\u001b[0m\u001b[0;34m\u001b[0m\u001b[0m\n\u001b[0m\u001b[1;32m      4\u001b[0m \u001b[0;34m\u001b[0m\u001b[0m\n\u001b[1;32m      5\u001b[0m \u001b[0;31m# import some data to play with\u001b[0m\u001b[0;34m\u001b[0m\u001b[0;34m\u001b[0m\u001b[0m\n",
      "\u001b[0;31mModuleNotFoundError\u001b[0m: No module named 'sklearn'"
     ]
    }
   ],
   "source": [
    "\n",
    "%matplotlib inline\n",
    "from sklearn import datasets\n",
    "\n",
    "# import some data to play with\n",
    "iris = datasets.load_iris()\n",
    "\n",
    "\n",
    "fig, axes = joypy.joyplot(iris)"
   ]
  },
  {
   "cell_type": "code",
   "execution_count": null,
   "metadata": {},
   "outputs": [],
   "source": []
  }
 ],
 "metadata": {
  "kernelspec": {
   "display_name": "Python 3",
   "language": "python",
   "name": "python3"
  },
  "language_info": {
   "codemirror_mode": {
    "name": "ipython",
    "version": 3
   },
   "file_extension": ".py",
   "mimetype": "text/x-python",
   "name": "python",
   "nbconvert_exporter": "python",
   "pygments_lexer": "ipython3",
   "version": "3.6.3"
  }
 },
 "nbformat": 4,
 "nbformat_minor": 2
}
