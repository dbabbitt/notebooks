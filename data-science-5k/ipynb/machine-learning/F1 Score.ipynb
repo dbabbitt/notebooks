{
 "cells": [
  {
   "cell_type": "code",
   "execution_count": 11,
   "metadata": {},
   "outputs": [
    {
     "name": "stdout",
     "output_type": "stream",
     "text": [
      "accuracy = 0.095\n",
      "recall = 0.85\n",
      "precision = 0.08717948717948718\n",
      "f1_score = 0.1581395348837209\n"
     ]
    }
   ],
   "source": [
    "\n",
    "true_positives = 85\n",
    "false_positives = 890\n",
    "false_negatives = 15\n",
    "true_negatives = 10\n",
    "total_examples = 85+890+15+10\n",
    "\n",
    "accuracy = (true_positives + true_negatives) / (total_examples)\n",
    "print('accuracy =', accuracy)\n",
    "recall = (true_positives) / (true_positives + false_negatives)\n",
    "print('recall =', recall)\n",
    "try:\n",
    "    precision = (true_positives) / (true_positives + false_positives)\n",
    "    print('precision =', precision)\n",
    "    f1_score = (2 * precision * recall) / (precision + recall)\n",
    "    print('f1_score =', f1_score)\n",
    "except:\n",
    "    pass"
   ]
  },
  {
   "cell_type": "code",
   "execution_count": 17,
   "metadata": {},
   "outputs": [
    {
     "name": "stdout",
     "output_type": "stream",
     "text": [
      "accuracy = 0.99\n",
      "recall = 0.0\n"
     ]
    }
   ],
   "source": [
    "\n",
    "true_positives = 0\n",
    "false_positives = 0\n",
    "false_negatives = 1\n",
    "true_negatives = 99\n",
    "total_examples = 100\n",
    "\n",
    "accuracy = (true_positives + true_negatives) / (total_examples)\n",
    "print('accuracy =', accuracy)\n",
    "recall = (true_positives) / (true_positives + false_negatives)\n",
    "print('recall =', recall)\n",
    "try:\n",
    "    precision = (true_positives) / (true_positives + false_positives)\n",
    "    print('precision =', precision)\n",
    "    f1_score = (2 * precision * recall) / (precision + recall)\n",
    "    print('f1_score =', f1_score)\n",
    "except:\n",
    "    pass"
   ]
  },
  {
   "cell_type": "code",
   "execution_count": null,
   "metadata": {
    "collapsed": true
   },
   "outputs": [],
   "source": []
  }
 ],
 "metadata": {
  "kernelspec": {
   "display_name": "Python 3",
   "language": "python",
   "name": "python3"
  },
  "language_info": {
   "codemirror_mode": {
    "name": "ipython",
    "version": 3
   },
   "file_extension": ".py",
   "mimetype": "text/x-python",
   "name": "python",
   "nbconvert_exporter": "python",
   "pygments_lexer": "ipython3",
   "version": "3.6.1"
  }
 },
 "nbformat": 4,
 "nbformat_minor": 2
}
