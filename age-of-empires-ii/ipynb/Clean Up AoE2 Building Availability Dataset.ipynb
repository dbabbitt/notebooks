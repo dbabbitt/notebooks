{
 "cells": [
  {
   "cell_type": "code",
   "execution_count": 2,
   "metadata": {},
   "outputs": [
    {
     "name": "stdout",
     "output_type": "stream",
     "text": [
      "DATA_FOLDER: ../data/\n",
      "SAVES_FOLDER: ../saves/\n",
      "Pretty printing has been turned OFF\n",
      "BeautifulSoup\t DATA_CSV_FOLDER\t DATA_FOLDER\t ENCODING_TYPE\t SAVES_CSV_FOLDER\t SAVES_FOLDER\t SAVES_PICKLE_FOLDER\t attempt_to_pickle\t example_iterrows\t \n",
      "get_column_descriptions\t load_csv\t load_dataframes\t load_object\t math\t os\t pd\t pickle\t re\t \n",
      "save_dataframes\t store_objects\t sys\t urllib\t \n"
     ]
    }
   ],
   "source": [
    "\n",
    "%run ../../load_magic/storage.py\n",
    "%run ../../load_magic/dataframes.py\n",
    "import urllib.request\n",
    "import re\n",
    "from bs4 import BeautifulSoup\n",
    "%pprint\n",
    "%who"
   ]
  },
  {
   "cell_type": "code",
   "execution_count": 3,
   "metadata": {},
   "outputs": [
    {
     "name": "stdout",
     "output_type": "stream",
     "text": [
      "Attempting to load C:\\Users\\dev\\Documents\\repositories\\notebooks\\age-of-empires-ii\\saves\\pickle\\building_availability_df.pickle.\n",
      "No pickle exists - attempting to load C:\\Users\\dev\\Documents\\repositories\\notebooks\\age-of-empires-ii\\saves\\csv\\building_availability_df.csv.\n"
     ]
    }
   ],
   "source": [
    "\n",
    "index_name = 'Building Name'\n",
    "dataframes_dict = load_dataframes(building_availability_df='building_availability_df')\n",
    "building_availability_df = dataframes_dict['building_availability_df']\n",
    "if 'Unnamed: 0' in building_availability_df.columns:\n",
    "    building_availability_df = building_availability_df.set_index('Unnamed: 0')\n",
    "elif index_name in building_availability_df.columns:\n",
    "    building_availability_df = building_availability_df.set_index(index_name)\n",
    "building_availability_df.index.name = index_name"
   ]
  },
  {
   "cell_type": "code",
   "execution_count": 4,
   "metadata": {},
   "outputs": [
    {
     "data": {
      "text/plain": [
       "{'A': 'Age', 'HP': 'Hit points', 'Ga': 'Garrison capacity', 'Ar': 'Armor', 'PA': 'Pierce armor', 'LOS': 'Line of Sight', 'Ra': 'Range', 'At': 'Attack', 'W': 'Wood cost', 'S': 'Stone cost', 'G': 'Gold cost', 'CT': 'Construction time in seconds', 'Sz': 'Size in tiles', 'Type': 'Type', 'Intro': 'Introduced in', 'Available': 'Civilization', 'Age': 'Age', 'Time': 'Construction time', 'Use': 'Use', 'Wood': 'Wood', 'Stone': 'Stone', 'Size': 'Size', 'Garrison': 'Garrison', 'Attack': 'Attack', 'BAttack': 'Attack bonuses', 'ROF': 'Rate of Fire', 'Range': 'Range', 'Accuracy': 'Accuracy', 'PSpeed': 'Projectile speed', 'Armor': 'Melee armor', 'PArmor': 'Pierce armor', 'Class': 'Armor classes', 'Required': 'Required research', 'Next': 'Required for', 'MinRange': 'Minimum range', 'UpTo': 'Upgrades to', 'UpCost': 'Upgrade cost', 'UpTime': 'Upgrade time', 'UpFrom': 'Upgraded from', 'Gold': 'Gold', 'Research': 'Required research', 'Civilization': 'Civilization', 'Building': 'Trained at', 'TrainTime': 'Training time', 'PierceArmor': 'Pierce armor', 'Speed': 'Speed', 'Food': 'Food', 'AttackBonus': 'Attack bonuses', 'FD': 'Frame delay', 'AOE': 'Blast radius'}"
      ]
     },
     "execution_count": 4,
     "metadata": {},
     "output_type": "execute_result"
    }
   ],
   "source": [
    "\n",
    "aside_columns_dict = load_object('aside_columns_dict')\n",
    "aside_columns_dict"
   ]
  },
  {
   "cell_type": "code",
   "execution_count": 5,
   "metadata": {},
   "outputs": [
    {
     "data": {
      "text/plain": [
       "Index(['Age', 'Type', 'Use', 'Stone', 'Wood', 'Gold', 'Range', 'Attack',\n",
       "       'Size', 'Accuracy', 'Garrison'],\n",
       "      dtype='object')"
      ]
     },
     "execution_count": 5,
     "metadata": {},
     "output_type": "execute_result"
    }
   ],
   "source": [
    "\n",
    "mask_series = pd.Series(cn in aside_columns_dict for cn in building_availability_df.columns)\n",
    "building_availability_df.columns[mask_series]"
   ]
  },
  {
   "cell_type": "code",
   "execution_count": 26,
   "metadata": {},
   "outputs": [],
   "source": [
    "\n",
    "cl = building_availability_df.columns\n",
    "acd = aside_columns_dict.copy()\n",
    "building_availability_df.columns = [cn if (cn not in acd) else acd[cn] for cn in cl]"
   ]
  },
  {
   "cell_type": "code",
   "execution_count": 14,
   "metadata": {},
   "outputs": [],
   "source": [
    "\n",
    "for cn in ['Range', 'ROF']:\n",
    "    building_availability_df[cn] = building_availability_df[cn].fillna(value=0)"
   ]
  },
  {
   "cell_type": "code",
   "execution_count": 8,
   "metadata": {},
   "outputs": [],
   "source": [
    "\n",
    "building_availability_df['Class'] = building_availability_df['Class'].fillna(value='')\n",
    "armor_regex = re.compile(r'Building \\(\\+(\\d+)\\)')\n",
    "\n",
    "def f(x):\n",
    "    match_obj = armor_regex.search(x)\n",
    "    if match_obj:\n",
    "        armor = match_obj.group(1)\n",
    "    else:\n",
    "        armor = '0'\n",
    "    \n",
    "    return int(armor)\n",
    "\n",
    "building_availability_df['Building_Armor'] = building_availability_df['Class'].map(f)"
   ]
  },
  {
   "cell_type": "code",
   "execution_count": 3,
   "metadata": {
    "scrolled": false
   },
   "outputs": [
    {
     "name": "stdout",
     "output_type": "stream",
     "text": [
      "\n",
      "Attack\n",
      "[nan, '120 pierce *', '11 pierce', '7  pierce', '6 pierce', '8  pierce', '5 pierce']\n",
      "\n",
      "Size\n",
      "['3x3 tiles', '1x1 tiles', '4x4 tiles', '5x5 tiles', '4x1 tiles', '2x2 tiles']\n",
      "\n",
      "UpTime\n",
      "[nan, '75 seconds', '50', '30 seconds']\n",
      "\n",
      "BAttack\n",
      "[nan, '+40 vs Ship +1 vs Camel', '+2 vs Spearman', '+9 vs Ship +2 vs Spearman +1 vs Camel', '+9 vs ships', '+10 vs Ship +2 vs Spearman +1 vs Camel', '+5 vs Ship +5 vs Building +1 vs Camel', '+7 vs Ship +2 vs Spearman +1 vs Camel']\n",
      "\n",
      "Use\n",
      "['Trains and improves archers', 'Trains and improves infantry', 'Improves infantry , archers , cavalry', 'Attacks enemies', 'Train unique units and siege weapons Research certain technologies Attack enemies', 'Builds and improves ships', 'Provides food', 'Generates resources', 'Delay enemy units', 'Shuts enemy units out Lets friendly units through', 'Provides LOS and attacks enemies within range', 'Build and improve ships Attack enemies', 'Provides population', 'Attacks enemies at sight', 'Drop off wood Research logging technologies', 'Exchange and send resources Trade with Trade Carts Research trade improvements', 'Drop off food Upgrade and queue Farms', 'Drop off gold and stone Research mining technologies', 'Train and improve Monks', 'Watches its surroundings', 'Trains and upgrades siege units', 'Trains and improves cavalry', 'Create and improve Villagers Advance Ages Drop off resources', 'Improve buildings and ranged units', 'Grants victory if defended for 200 years']\n"
     ]
    }
   ],
   "source": [
    "\n",
    "def get_mixed(x):\n",
    "    x = str(x)\n",
    "    if re.search(r'([+.\\d]+\\s+[^+.\\d]+|[^+.\\d]+\\s+[+.\\d]+)', x):\n",
    "        \n",
    "        return True\n",
    "    \n",
    "    else:\n",
    "        \n",
    "        return False\n",
    "\n",
    "digit_df = building_availability_df.applymap(get_mixed)\n",
    "for column_name in digit_df.columns[digit_df.any(axis=0)]:\n",
    "    print()\n",
    "    print(column_name)\n",
    "    print(building_availability_df[column_name].unique().tolist())"
   ]
  },
  {
   "cell_type": "code",
   "execution_count": 4,
   "metadata": {},
   "outputs": [
    {
     "name": "stdout",
     "output_type": "stream",
     "text": [
      "['Building Standard building', 'Gunpowder unit Building Standard building Stone defense', 'Building (+8) Standard building Castle', nan, 'Building (+24) Standard building Stone defense Wall and gate', 'Building (+20) Standard building Stone defense Wall and gate', 'Building Standard building Stone defense', 'Building Standard building Wall and gate', 'Building (+16) Standard building Stone defense Wall and gate', 'Building']\n"
     ]
    }
   ],
   "source": [
    "\n",
    "print(building_availability_df['Class'].unique().tolist())"
   ]
  },
  {
   "cell_type": "code",
   "execution_count": 5,
   "metadata": {},
   "outputs": [],
   "source": [
    "\n",
    "class_list = ['Building', 'Standard building', 'Stone defense', 'Wall and gate',\n",
    "              'Gunpowder unit', 'Castle']\n",
    "class_regex = re.compile(r'({})'.format('|'.join(class_list)))\n",
    "def get_Class_column(column_name):\n",
    "    \n",
    "    def f(column_value):\n",
    "        column_value = str(column_value)\n",
    "        return_value = 0\n",
    "        for match_obj in class_regex.finditer(column_value):\n",
    "            class_name = match_obj.group(1)\n",
    "            if class_name == column_name:\n",
    "                return_value = 1\n",
    "        \n",
    "        return return_value\n",
    "\n",
    "    new_column_name = 'In_{}_Armor_class'.format(re.sub(' +', '_', column_name))\n",
    "    building_availability_df[new_column_name] = building_availability_df['Class'].map(f)\n",
    "\n",
    "for resource in class_list:\n",
    "    get_Class_column(resource)"
   ]
  },
  {
   "cell_type": "code",
   "execution_count": null,
   "metadata": {},
   "outputs": [],
   "source": [
    "\n",
    "building_availability_df['UpCost'] = building_availability_df['UpCost'].fillna(value='')\n",
    "up_regex = re.compile(r'(\\d+) +food *, +(\\d+) +wood')\n",
    "def f(x):\n",
    "    match_obj = up_regex.search(x)\n",
    "    if match_obj:\n",
    "        food = match_obj.group(1)\n",
    "    else:\n",
    "        food = '0'\n",
    "    \n",
    "    return int(food)\n",
    "\n",
    "building_availability_df['UpCost_Food'] = building_availability_df['UpCost'].map(f)"
   ]
  },
  {
   "cell_type": "code",
   "execution_count": null,
   "metadata": {},
   "outputs": [],
   "source": [
    "\n",
    "def f(x):\n",
    "    match_obj = up_regex.search(x)\n",
    "    if match_obj:\n",
    "        wood = match_obj.group(2)\n",
    "    else:\n",
    "        wood = '0'\n",
    "    \n",
    "    return int(wood)\n",
    "\n",
    "building_availability_df['UpCost_Wood'] = building_availability_df['UpCost'].map(f)"
   ]
  },
  {
   "cell_type": "code",
   "execution_count": 27,
   "metadata": {},
   "outputs": [
    {
     "name": "stdout",
     "output_type": "stream",
     "text": [
      "Saving to C:\\Users\\dev\\Documents\\repositories\\notebooks\\age-of-empires-ii\\data\\csv\\building_availability_df.csv\n",
      "Saving to C:\\Users\\dev\\Documents\\repositories\\notebooks\\age-of-empires-ii\\saves\\csv\\building_availability_df.csv\n",
      "Saving to C:\\Users\\dev\\Documents\\repositories\\notebooks\\age-of-empires-ii\\data\\xlsx\\building_availability_df.xlsx\n"
     ]
    }
   ],
   "source": [
    "\n",
    "columns_list = building_availability_df.columns\n",
    "file_path = os.path.join(DATA_CSV_FOLDER, 'building_availability_df.csv')\n",
    "print('Saving to {}'.format(os.path.abspath(file_path)))\n",
    "building_availability_df[columns_list].to_csv(file_path)\n",
    "save_dataframes(include_index=True,\n",
    "                building_availability_df=building_availability_df[columns_list])\n",
    "xlsx_folder = os.path.join(DATA_FOLDER, 'xlsx')\n",
    "os.makedirs(name=xlsx_folder, exist_ok=True)\n",
    "file_path = os.path.join(xlsx_folder, 'building_availability_df.xlsx')\n",
    "print('Saving to {}'.format(os.path.abspath(file_path)))\n",
    "building_availability_df[columns_list].to_excel(file_path)"
   ]
  },
  {
   "cell_type": "code",
   "execution_count": null,
   "metadata": {},
   "outputs": [],
   "source": []
  }
 ],
 "metadata": {
  "kernelspec": {
   "display_name": "Python 3",
   "language": "python",
   "name": "python3"
  },
  "language_info": {
   "codemirror_mode": {
    "name": "ipython",
    "version": 3
   },
   "file_extension": ".py",
   "mimetype": "text/x-python",
   "name": "python",
   "nbconvert_exporter": "python",
   "pygments_lexer": "ipython3",
   "version": "3.6.8"
  }
 },
 "nbformat": 4,
 "nbformat_minor": 2
}
