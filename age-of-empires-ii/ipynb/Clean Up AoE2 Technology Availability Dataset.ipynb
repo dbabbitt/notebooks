{
 "cells": [
  {
   "cell_type": "code",
   "execution_count": 1,
   "metadata": {},
   "outputs": [
    {
     "name": "stdout",
     "output_type": "stream",
     "text": [
      "DATA_FOLDER: ../data/\n",
      "SAVES_FOLDER: ../saves/\n",
      "Pretty printing has been turned OFF\n",
      "BeautifulSoup\t DATA_CSV_FOLDER\t DATA_FOLDER\t ENCODING_TYPE\t SAVES_CSV_FOLDER\t SAVES_FOLDER\t SAVES_PICKLE_FOLDER\t attempt_to_pickle\t example_iterrows\t \n",
      "get_column_descriptions\t load_csv\t load_dataframes\t load_object\t math\t os\t pd\t pickle\t re\t \n",
      "save_dataframes\t store_objects\t sys\t urllib\t \n"
     ]
    }
   ],
   "source": [
    "\n",
    "%run ../../load_magic/storage.py\n",
    "%run ../../load_magic/dataframes.py\n",
    "import urllib.request\n",
    "import re\n",
    "from bs4 import BeautifulSoup\n",
    "%pprint\n",
    "%who"
   ]
  },
  {
   "cell_type": "code",
   "execution_count": 2,
   "metadata": {},
   "outputs": [
    {
     "name": "stdout",
     "output_type": "stream",
     "text": [
      "Attempting to load C:\\Users\\dev\\Documents\\repositories\\notebooks\\age-of-empires-ii\\saves\\pickle\\technology_availability_df.pickle.\n",
      "No pickle exists - attempting to load C:\\Users\\dev\\Documents\\repositories\\notebooks\\age-of-empires-ii\\saves\\csv\\technology_availability_df.csv.\n"
     ]
    }
   ],
   "source": [
    "\n",
    "index_name = 'Technology Name'\n",
    "dataframes_dict = load_dataframes(technology_availability_df='technology_availability_df')\n",
    "technology_availability_df = dataframes_dict['technology_availability_df']\n",
    "if 'Unnamed: 0' in technology_availability_df.columns:\n",
    "    technology_availability_df = technology_availability_df.set_index('Unnamed: 0')\n",
    "elif index_name in technology_availability_df.columns:\n",
    "    technology_availability_df = technology_availability_df.set_index(index_name)\n",
    "technology_availability_df.index.name = index_name"
   ]
  },
  {
   "cell_type": "markdown",
   "metadata": {},
   "source": [
    "\n",
    "# Harvest the Effect column for one-hot encoding"
   ]
  },
  {
   "cell_type": "code",
   "execution_count": 3,
   "metadata": {},
   "outputs": [
    {
     "data": {
      "text/plain": [
       "['Buildings +10% HP and +1/+1 armor', 'Castle HP +21%', 'Building LOS +4', 'Villagers build 20% faster', 'Mounted units +20 HP', 'Cavalry armor +1/+1', 'Cavalry speed +10%', 'Cavalry armor +1/+2', 'Tribute fee 0%', 'Villagers chop wood 20% faster', 'Trade Carts and Trade Cogs move 50% faster', \"See allies' LOS\", 'Tribute fee 20%', 'Farms +175 food', 'Fishing Ships work 25% faster', 'Villagers mine gold 15% faster', 'Villager speed +10%, carrying capacity +50%', 'Farms +125 food, Villagers +1 food carry capacity', 'Farms +75 food', 'Villagers chop wood 10% faster', 'Villager speed +10%, carrying capacity +25%', 'Huskarls can be trained at Barracks', 'Infantry +2 attack vs buildings', 'Infantry/cavalry attack +2', 'Infantry armor +1/+1', 'Infantry/cavalry attack +1', 'Infantry armor +1/+2', 'Infantry speed +10%', 'Infantry +2 LOS', 'Advance to Castle Age', 'Unit creation speed at the Barracks, Archery Range, Stable, and Castle +33%', 'Advance to Feudal Age', 'Advance to Imperial Age', 'Villager HP +15, armor +1/+2', 'Villagers +15 attack vs buildings', 'See enemy LOS', 'See enemy Kings for a short time (Regicide only)', 'Skirmishers and Slingers minimum range removed', 'Watch Towers/Guard Towers/Keeps +1/+2/+3 attack', 'Archers, Cavalry Archers, Galleys, Castles, and Towers fire more accurately at moving targets', 'Archers, Cavalry Archers, Galleys, Castles, and Towers +1 range and attack', 'Missile units (including siege) +1 attack Prerequisite for non-unique gunpowder units', 'Towers +125% and Castles +25% attack against ships', 'Archer and Cavalry Archer armor +1/+1', 'Eliminates minimum range of all buildings', 'Cavalry Archers +1/+2 armor and +4 attack vs Pikemen', 'Archer and Cavalry Archer armor +1/+2', 'Siege weapons +1 range (except Rams) and +20% attack vs buildings (Petards +40%)', 'Archers and Cavalry Archers fire faster and with 100% accuracy', 'Monks can convert other Monks', 'Monk conversion range +3', 'Units are harder for enemy Monks to convert', 'Monk speed +15%', 'Garrisoned units heal 4x faster', 'Units converted by enemy Monks die instead of joining them', 'Monk rejuvenation speed +50%', 'Monks can convert most buildings and siege units', 'Monks +15 HP', 'Ship armor +1, Transport Ship capacity +5', 'Ship speed +15%, Transport Ship capacity +10', 'Ships wood cost -20% and creation speed -35%', 'Gunpowder units fire more accurately at moving targets Increases projectile speed of Bombard Cannons and Bombard Towers by +0.2', 'Bombard Tower, Bombard Cannon, and Cannon Galleon range +2', 'Wonder and Relic victories take +100 years -50% Spies / Treason cost', 'Skirmishers +1 attack and range', 'Throwing Axeman range +1', 'Berserks regenerate faster', 'Archers, Castles, Town Centers, Towers, Galleys, and Longboats +1 attack, +1 range', 'Castles +9 bonus damage against rams', nan, 'Ship armor +1/+1', 'Battle Elephants  +50 HP', 'Infantry +5 attack vs cavalry, +4 vs camels', 'Stables work 40% faster', 'Kamayuks, Slingers, and Eagle Scouts +1/+2 armor', 'Castle range +3, garrisoned infantry fires arrows', 'Ballista Elephants and Scorpions fire two projectiles', 'Siege Workshop units movement speed +50%', 'Infantry deals trample damage', 'Stable units +5 attack', 'Militia line units cost no gold', 'Siege Workshop units +40% HP', 'Infantry attack +4', 'Walls and towers +30% hit points', 'Fire Ships +1 range', 'Trading fee reduced to 15%', 'Battle Elephants  +1/+1 armor', 'Monks convert faster', 'Siege weapon melee armor +4', 'Team Castles work +25% faster', 'Trebuchets pack/unpack and fire faster', 'Cataphracts cause trample damage, +6 attack vs infantry', 'Monks return 33 gold when killed', 'Camel troops regenerate', 'War Elephant speed +30%', 'Cavalry and Arambai +3 attack vs buildings and standard buildings', 'Tarkans can be trained at the Stable', 'Magyar Huszars cost no gold', 'Houses do not lose population when destroyed', 'Archer line has +6 attack vs standard buildings and stone defense', 'Monks +3/+3 armor', 'Archer armor +1/+1', 'Turtle Ships move 15% faster', 'The player and all allies receive 500 gold', 'Foot archers +1/+1 armor', 'Barracks work 100% faster', 'Cavalry Archers +1 range and attack', 'Chu Ko Nu attack +2, Scorpion attack +4', 'Shotel Warriors are created nearly instantly', 'Hand Cannoneers +1 range', 'Mangonels +1 range', 'Trade units cost halved', 'Cavalry Archers +20 HP', 'Villagers gather stone 15% faster', 'Castles and Towers fire 25% faster', 'All gold gathering is 10% faster', 'Increases Villager combat skills', 'Turns Docks into Harbors', 'Only one Monk or Missionary must rest after a successful conversion', 'Town Centers fire arrows', 'Siege Workshop units blast radius increased', 'Battle Elephants +3 attack', 'Trebuchets do blast damage, 100% accuracy against units', 'Towers fire 2 extra arrows', 'Foot archer range +1, Tower attack +2', 'Camel and Mameluke +30HP']"
      ]
     },
     "execution_count": 3,
     "metadata": {},
     "output_type": "execute_result"
    }
   ],
   "source": [
    "\n",
    "technology_availability_df['Effect'].unique().tolist()"
   ]
  },
  {
   "cell_type": "markdown",
   "metadata": {},
   "source": [
    "\n",
    "# Fill in the missing Effect data by web scraping"
   ]
  },
  {
   "cell_type": "code",
   "execution_count": null,
   "metadata": {},
   "outputs": [],
   "source": [
    "\n",
    "wiki_url = 'https://ageofempires.fandom.com'\n",
    "def get_link_html(link):\n",
    "    link_str = re.sub(' +', '_', link)\n",
    "    link_url = '{}/wiki/{}'.format(wiki_url, link_str)\n",
    "    try:\n",
    "        extended_link_url = '{}_(Age_of_Empires_II)'.format(link_url)\n",
    "        with urllib.request.urlopen(extended_link_url) as response:\n",
    "            link_html = response.read()\n",
    "        link_url = extended_link_url\n",
    "    except:\n",
    "        try:\n",
    "            with urllib.request.urlopen(link_url) as response:\n",
    "                link_html = response.read()\n",
    "        except Exception as e:\n",
    "            print('{} got this error: {}'.format(link_url, e))\n",
    "            link_html = None\n",
    "    \n",
    "    return link_url, link_html"
   ]
  },
  {
   "cell_type": "code",
   "execution_count": null,
   "metadata": {},
   "outputs": [],
   "source": [
    "\n",
    "def get_page_soup(tech_name):\n",
    "    page_url, page_html = get_link_html(tech_name)\n",
    "    page_soup = BeautifulSoup(page_html, 'html.parser')\n",
    "    \n",
    "    return page_soup"
   ]
  },
  {
   "cell_type": "code",
   "execution_count": null,
   "metadata": {},
   "outputs": [],
   "source": [
    "\n",
    "def get_content_text_div(tech_name):\n",
    "    page_soup = get_page_soup(tech_name)\n",
    "    content_text_selector = '#mw-content-text'\n",
    "    content_text_div = page_soup.select(content_text_selector)[0]\n",
    "    \n",
    "    return content_text_div"
   ]
  },
  {
   "cell_type": "code",
   "execution_count": null,
   "metadata": {},
   "outputs": [],
   "source": [
    "\n",
    "def get_effect_from_aside(tech_soup):\n",
    "    effect_value = None\n",
    "    aside_list = tech_soup.select('aside')\n",
    "    for aside_soup in aside_list:\n",
    "        for h2 in aside_soup.find_all('h2'):\n",
    "            if h2.text.strip() == 'Effect':\n",
    "                h2_siblings_list = list(h2.next_siblings)\n",
    "                if len(h2_siblings_list):\n",
    "                    value_list = list(h2_siblings_list[1].strings)\n",
    "                    effect_value = ' '.join(x.strip() for x in value_list).strip()\n",
    "    \n",
    "    return effect_value"
   ]
  },
  {
   "cell_type": "code",
   "execution_count": null,
   "metadata": {},
   "outputs": [],
   "source": [
    "\n",
    "mask_series = (technology_availability_df['Effect'].isnull())\n",
    "mask_series = mask_series | (technology_availability_df['Effect'] == '')\n",
    "tech_name_list = technology_availability_df[mask_series].index.tolist()\n",
    "for tech_name in tech_name_list:\n",
    "    unit_soup = get_content_text_div(tech_name)\n",
    "    effect_value = get_effect_from_aside(unit_soup)\n",
    "    if effect_value is not None:\n",
    "        technology_availability_df.loc[tech_name, 'Effect'] = effect_value"
   ]
  },
  {
   "cell_type": "markdown",
   "metadata": {},
   "source": [
    "\n",
    "# Turn the Building column into one-hot encoding"
   ]
  },
  {
   "cell_type": "code",
   "execution_count": null,
   "metadata": {},
   "outputs": [],
   "source": [
    "\n",
    "technology_availability_df.columns.tolist()"
   ]
  },
  {
   "cell_type": "code",
   "execution_count": null,
   "metadata": {},
   "outputs": [],
   "source": [
    "\n",
    "temp_df = pd.get_dummies(technology_availability_df, prefix='Researched_in', columns=['Building'])\n",
    "temp_df.columns = [re.sub(' +', '_', cn) for cn in temp_df.columns]\n",
    "print(temp_df.columns.tolist())\n",
    "temp_df.sample(5).T.tail(15)"
   ]
  },
  {
   "cell_type": "code",
   "execution_count": null,
   "metadata": {},
   "outputs": [],
   "source": [
    "\n",
    "columns_list = ['Age', 'Researched_in_Archery_Range', 'Researched_in_Barracks',\n",
    "                'Researched_in_Blacksmith', 'Researched_in_Castle', 'Researched_in_Dock',\n",
    "                'Researched_in_Lumber_Camp', 'Researched_in_Market', 'Researched_in_Mill',\n",
    "                'Researched_in_Mining_Camp', 'Researched_in_Monastery',\n",
    "                'Researched_in_Siege_Workshop', 'Researched_in_Stable', 'Researched_in_Town_Center',\n",
    "                'Researched_in_University', 'Cost', 'Wood', 'Stone', 'Gold', 'Food', 'Effect',\n",
    "                'Heading', 'Previous', 'Intro', 'Time', 'Required', 'Next', 'Aztecs', 'Berbers',\n",
    "                'Britons', 'Burmese', 'Byzantines', 'Celts', 'Chinese', 'Ethiopians', 'Franks',\n",
    "                'Goths', 'Huns', 'Incas', 'Indians', 'Italians', 'Japanese', 'Khmer', 'Koreans',\n",
    "                'Magyars', 'Malay', 'Malians', 'Mayans', 'Mongols', 'Persians', 'Portuguese',\n",
    "                'Saracens', 'Slavs', 'Spanish', 'Teutons', 'Turks', 'Vietnamese', 'Vikings']\n",
    "technology_availability_df = temp_df[columns_list]"
   ]
  },
  {
   "cell_type": "markdown",
   "metadata": {},
   "source": [
    "\n",
    "# Fill in the missing Age and Building data by web scraping"
   ]
  },
  {
   "cell_type": "code",
   "execution_count": null,
   "metadata": {},
   "outputs": [],
   "source": [
    "\n",
    "def get_age_and_building_from_aside(unit_soup):\n",
    "    age_value = None\n",
    "    building_value = None\n",
    "    aside_list = unit_soup.select('aside')\n",
    "    for aside_soup in aside_list:\n",
    "        for data_source_div in aside_soup.find_all('div', {'data-source': True}):\n",
    "            data_source_h3_list = data_source_div.find_all('h3')\n",
    "            if len(data_source_h3_list):\n",
    "                h3_siblings_list = list(data_source_h3_list[0].next_siblings)\n",
    "                if len(h3_siblings_list):\n",
    "                    column_name = data_source_div['data-source']\n",
    "                    value_list = list(h3_siblings_list[1].strings)\n",
    "                    column_value = ' '.join(x.strip() for x in value_list).strip()\n",
    "                    if column_name == 'Age':\n",
    "                        age_value = column_value\n",
    "                    elif column_name == 'Building':\n",
    "                        building_value = column_value\n",
    "    \n",
    "    return age_value, building_value"
   ]
  },
  {
   "cell_type": "code",
   "execution_count": null,
   "metadata": {},
   "outputs": [],
   "source": [
    "\n",
    "mask_series = (technology_availability_df['Age'].isnull())\n",
    "mask_series = mask_series | (technology_availability_df['Building'].isnull())\n",
    "tech_name_list = technology_availability_df[mask_series].index.tolist()\n",
    "for tech_name in tech_name_list:\n",
    "    unit_soup = get_content_text_div(tech_name)\n",
    "    age_value, building_value = get_age_and_building_from_aside(unit_soup)\n",
    "    technology_availability_df.loc[tech_name, 'Age'] = age_value\n",
    "    technology_availability_df.loc[tech_name, 'Building'] = building_value"
   ]
  },
  {
   "cell_type": "code",
   "execution_count": null,
   "metadata": {},
   "outputs": [],
   "source": [
    "\n",
    "mask_series = (technology_availability_df.index.isin(tech_name_list))\n",
    "technology_availability_df[mask_series].T.head(5).T.sample(5)"
   ]
  },
  {
   "cell_type": "markdown",
   "metadata": {},
   "source": [
    "\n",
    "# Add in the extra techs not mentioned in the technology page"
   ]
  },
  {
   "cell_type": "code",
   "execution_count": null,
   "metadata": {},
   "outputs": [],
   "source": [
    "\n",
    "space_regex = re.compile(r'\\s+')\n",
    "def process_small_list_of_units(appl_civ_text, row_dict):\n",
    "    appl_civ_list = space_regex.split(appl_civ_text)\n",
    "    for civ_name in civ_name_list:\n",
    "        row_dict[civ_name] = 0\n",
    "    for civ_name in appl_civ_list:\n",
    "        if civ_name in civ_name_list:\n",
    "            row_dict[civ_name] = 1\n",
    "    \n",
    "    return row_dict"
   ]
  },
  {
   "cell_type": "code",
   "execution_count": null,
   "metadata": {},
   "outputs": [],
   "source": [
    "\n",
    "def process_all_except(appl_civ_text, row_dict):\n",
    "    for civ_name in civ_name_list:\n",
    "        if civ_name in appl_civ_text:\n",
    "            row_dict[civ_name] = 0\n",
    "        else:\n",
    "            row_dict[civ_name] = 1\n",
    "    \n",
    "    return row_dict"
   ]
  },
  {
   "cell_type": "code",
   "execution_count": null,
   "metadata": {},
   "outputs": [],
   "source": [
    "\n",
    "def process_exceptions(link_soup, row_dict):\n",
    "    desc_p_list = list(link_soup.select('aside')[0].next_siblings)\n",
    "    if len(desc_p_list):\n",
    "        for sib in desc_p_list:\n",
    "            if re.search('available to (all|most) civilizations,? except', str(sib)):\n",
    "                break\n",
    "        process_all_except(sib.text.strip(), row_dict)\n",
    "    \n",
    "    return row_dict"
   ]
  },
  {
   "cell_type": "code",
   "execution_count": null,
   "metadata": {},
   "outputs": [],
   "source": [
    "\n",
    "def process_article(art_table_list, row_dict):\n",
    "    art_table = art_table_list[0]\n",
    "    art_ul_list = art_table.find_all('ul')\n",
    "    assert len(art_ul_list) == 2\n",
    "\n",
    "    # Get available civs\n",
    "    available_ul = art_ul_list[0]\n",
    "    for link in available_ul.find_all('a'):\n",
    "        civ_name = link['title'].split('(')[0].strip()\n",
    "        row_dict[civ_name] = 1\n",
    "\n",
    "    # Get unavailable civs\n",
    "    unavailable_ul = art_ul_list[1]\n",
    "    for link in unavailable_ul.find_all('a'):\n",
    "        civ_name = link['title'].split('(')[0].strip()\n",
    "        row_dict[civ_name] = 0\n",
    "\n",
    "    return row_dict"
   ]
  },
  {
   "cell_type": "code",
   "execution_count": null,
   "metadata": {},
   "outputs": [],
   "source": [
    "\n",
    "article_selector = '#mw-content-text > table.article-table'\n",
    "civ_name_list = load_object('civ_name_list')\n",
    "def process_unit(link_soup, appl_civ_text, row_dict):\n",
    "    for column_name in civ_name_list:\n",
    "        columns_set.add(column_name)\n",
    "    if 'All civilizations' in appl_civ_text:\n",
    "        for civ_name in civ_name_list:\n",
    "            row_dict[civ_name] = 1\n",
    "    elif 'All except ' in appl_civ_text:\n",
    "        row_dict = process_all_except(appl_civ_text, row_dict)\n",
    "    elif 'See ' in appl_civ_text:\n",
    "        art_table_list = link_soup.select(article_selector)\n",
    "        if len(art_table_list):\n",
    "            row_dict = process_article(art_table_list, row_dict)\n",
    "        else:\n",
    "            row_dict = process_exceptions(link_soup, row_dict)\n",
    "    else:\n",
    "        row_dict = process_small_list_of_units(appl_civ_text, row_dict)\n",
    "    \n",
    "    return row_dict"
   ]
  },
  {
   "cell_type": "code",
   "execution_count": null,
   "metadata": {},
   "outputs": [],
   "source": [
    "\n",
    "def consume_aside(unit_soup, row_dict):\n",
    "    aside_list = unit_soup.select('aside')\n",
    "    for aside_soup in aside_list:\n",
    "        for data_source_div in aside_soup.find_all('div', {'data-source': True}):\n",
    "            data_source_h3_list = data_source_div.find_all('h3')\n",
    "            if len(data_source_h3_list):\n",
    "                h3_siblings_list = list(data_source_h3_list[0].next_siblings)\n",
    "                if len(h3_siblings_list):\n",
    "                    column_name = data_source_div['data-source']\n",
    "                    value_list = list(h3_siblings_list[1].strings)\n",
    "                    column_value = ' '.join(x.strip() for x in value_list).strip()\n",
    "                    if column_name == 'Available':\n",
    "                        row_dict = process_unit(unit_soup, column_value, row_dict)\n",
    "                    else:\n",
    "                        columns_set.add(column_name)\n",
    "                        row_dict[column_name] = column_value\n",
    "    \n",
    "    return row_dict"
   ]
  },
  {
   "cell_type": "code",
   "execution_count": null,
   "metadata": {},
   "outputs": [],
   "source": [
    "\n",
    "extra_tech_list = ['Bombard Cannon', 'Cannon Galleon', 'Bombard Tower']\n",
    "url_list = ['{} (technology)'.format(unit) for unit in extra_tech_list]\n",
    "url_list = [re.sub(' +', '_', unit) for unit in url_list]\n",
    "url_list = ['{}/wiki/{}'.format(wiki_url, unit) for unit in url_list]\n",
    "\n",
    "rows_list = []\n",
    "index_list = []\n",
    "columns_set = set(technology_availability_df.columns)\n",
    "for technology_name in extra_tech_list:\n",
    "    content_text_div = get_content_text_div(technology_name)\n",
    "    if technology_name not in index_list:\n",
    "        index_list.append(technology_name)\n",
    "        rows_list.append(consume_aside(content_text_div, {'technology_url': page_url}))"
   ]
  },
  {
   "cell_type": "code",
   "execution_count": null,
   "metadata": {},
   "outputs": [],
   "source": [
    "\n",
    "new_tech_df = pd.DataFrame(data=rows_list, index=index_list, columns=columns_set)"
   ]
  },
  {
   "cell_type": "code",
   "execution_count": null,
   "metadata": {},
   "outputs": [],
   "source": [
    "\n",
    "set.symmetric_difference(set(new_tech_df.columns), set(technology_availability_df.columns))"
   ]
  },
  {
   "cell_type": "code",
   "execution_count": null,
   "metadata": {},
   "outputs": [],
   "source": [
    "\n",
    "f = lambda x: int(re.sub(',', '', str(x)))\n",
    "str_columns_list = ['Next', 'Cost', 'Effect', 'Heading', 'Previous']\n",
    "for str_column in str_columns_list:\n",
    "    new_tech_df[str_column] = new_tech_df[str_column].fillna(value='')\n",
    "int_columns_list = ['Gold', 'Stone', 'Wood']\n",
    "for int_column in int_columns_list:\n",
    "    new_tech_df[int_column] = new_tech_df[int_column].fillna(value='0')\n",
    "    new_tech_df[int_column] = new_tech_df[int_column].map(f)"
   ]
  },
  {
   "cell_type": "code",
   "execution_count": null,
   "metadata": {},
   "outputs": [],
   "source": [
    "\n",
    "columns_list = new_tech_df.columns[new_tech_df.isnull().any(0)]\n",
    "print(columns_list)\n",
    "new_tech_df[columns_list].T"
   ]
  },
  {
   "cell_type": "code",
   "execution_count": null,
   "metadata": {},
   "outputs": [],
   "source": [
    "\n",
    "new_tech_df = technology_availability_df.append(new_tech_df, sort=True)"
   ]
  },
  {
   "cell_type": "code",
   "execution_count": null,
   "metadata": {},
   "outputs": [],
   "source": [
    "\n",
    "columns_list = new_tech_df.columns[new_tech_df.isnull().any(0)]\n",
    "for column_name in columns_list:\n",
    "    print(column_name)\n",
    "    print(new_tech_df[column_name].unique())\n",
    "    new_tech_df[column_name] = new_tech_df[column_name].fillna('')"
   ]
  },
  {
   "cell_type": "code",
   "execution_count": null,
   "metadata": {},
   "outputs": [],
   "source": [
    "\n",
    "new_tech_df = new_tech_df.sort_index()"
   ]
  },
  {
   "cell_type": "code",
   "execution_count": null,
   "metadata": {},
   "outputs": [],
   "source": [
    "\n",
    "def f(x):\n",
    "    return_value = ''\n",
    "    if x in ['IV', 'Imperial Age']:\n",
    "        return_value = 'Imperial'\n",
    "    elif x == 'III':\n",
    "        return_value = 'Castle'\n",
    "    elif x == 'II':\n",
    "        return_value = 'Feudal'\n",
    "    elif x == 'I':\n",
    "        return_value = 'Dark'\n",
    "    \n",
    "    return return_value\n",
    "\n",
    "new_tech_df['Age'] = new_tech_df['Age'].map(f)"
   ]
  },
  {
   "cell_type": "code",
   "execution_count": null,
   "metadata": {},
   "outputs": [],
   "source": [
    "\n",
    "index_name = 'Technology Name'\n",
    "new_tech_df.index.name = index_name\n",
    "columns_list = technology_availability_df.columns\n",
    "file_path = os.path.join(DATA_CSV_FOLDER, 'technology_availability_df.csv')\n",
    "print('Saving to {}'.format(os.path.abspath(file_path)))\n",
    "new_tech_df[columns_list].to_csv(file_path)\n",
    "save_dataframes(include_index=True,\n",
    "                technology_availability_df=new_tech_df[columns_list])\n",
    "xlsx_folder = os.path.join(DATA_FOLDER, 'xlsx')\n",
    "os.makedirs(name=xlsx_folder, exist_ok=True)\n",
    "file_path = os.path.join(xlsx_folder, 'technology_availability_df.xlsx')\n",
    "print('Saving to {}'.format(os.path.abspath(file_path)))\n",
    "new_tech_df[columns_list].to_excel(file_path)"
   ]
  },
  {
   "cell_type": "markdown",
   "metadata": {},
   "source": [
    "\n",
    "# Fix integer columns"
   ]
  },
  {
   "cell_type": "code",
   "execution_count": null,
   "metadata": {
    "scrolled": false
   },
   "outputs": [],
   "source": [
    "\n",
    "def get_mixed(x):\n",
    "    x = str(x)\n",
    "    if re.search(r'([+.\\d]+\\s+[^+.\\d]+|[^+.\\d]+\\s+[+.\\d]+)', x):\n",
    "        \n",
    "        return True\n",
    "    \n",
    "    else:\n",
    "        \n",
    "        return False\n",
    "\n",
    "digit_df = technology_availability_df.applymap(get_mixed)\n",
    "for column_name in digit_df.columns[digit_df.any(axis=0)]:\n",
    "    print(column_name)\n",
    "    print(technology_availability_df[column_name].unique().tolist())"
   ]
  },
  {
   "cell_type": "code",
   "execution_count": null,
   "metadata": {},
   "outputs": [],
   "source": [
    "\n",
    "technology_availability_df.loc['Spies', 'Gold'] = '30000'"
   ]
  },
  {
   "cell_type": "code",
   "execution_count": null,
   "metadata": {},
   "outputs": [],
   "source": [
    "\n",
    "f = lambda x: int(re.sub(',', '', str(x)))\n",
    "for cn in ['Wood', 'Stone', 'Gold', 'Food']:\n",
    "    technology_availability_df[cn] = technology_availability_df[cn].fillna(value='0')\n",
    "    technology_availability_df[cn] = technology_availability_df[cn].map(f)"
   ]
  },
  {
   "cell_type": "markdown",
   "metadata": {},
   "source": [
    "\n",
    "# Save everything"
   ]
  },
  {
   "cell_type": "code",
   "execution_count": null,
   "metadata": {},
   "outputs": [],
   "source": [
    "\n",
    "columns_list = technology_availability_df.columns\n",
    "file_path = os.path.join(DATA_CSV_FOLDER, 'technology_availability_df.csv')\n",
    "print('Saving to {}'.format(os.path.abspath(file_path)))\n",
    "technology_availability_df[columns_list].to_csv(file_path)\n",
    "save_dataframes(include_index=True,\n",
    "                technology_availability_df=technology_availability_df[columns_list])\n",
    "xlsx_folder = os.path.join(DATA_FOLDER, 'xlsx')\n",
    "os.makedirs(name=xlsx_folder, exist_ok=True)\n",
    "file_path = os.path.join(xlsx_folder, 'technology_availability_df.xlsx')\n",
    "print('Saving to {}'.format(os.path.abspath(file_path)))\n",
    "technology_availability_df[columns_list].to_excel(file_path)"
   ]
  },
  {
   "cell_type": "code",
   "execution_count": null,
   "metadata": {},
   "outputs": [],
   "source": []
  }
 ],
 "metadata": {
  "kernelspec": {
   "display_name": "Python 3",
   "language": "python",
   "name": "python3"
  },
  "language_info": {
   "codemirror_mode": {
    "name": "ipython",
    "version": 3
   },
   "file_extension": ".py",
   "mimetype": "text/x-python",
   "name": "python",
   "nbconvert_exporter": "python",
   "pygments_lexer": "ipython3",
   "version": "3.6.8"
  }
 },
 "nbformat": 4,
 "nbformat_minor": 2
}
