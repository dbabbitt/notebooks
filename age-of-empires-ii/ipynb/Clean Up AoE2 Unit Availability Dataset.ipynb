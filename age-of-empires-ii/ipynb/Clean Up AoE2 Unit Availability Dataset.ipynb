{
 "cells": [
  {
   "cell_type": "code",
   "execution_count": 1,
   "metadata": {},
   "outputs": [
    {
     "name": "stdout",
     "output_type": "stream",
     "text": [
      "DATA_FOLDER: ../data/\n",
      "SAVES_FOLDER: ../saves/\n",
      "Pretty printing has been turned OFF\n",
      "BeautifulSoup\t DATA_CSV_FOLDER\t DATA_FOLDER\t ENCODING_TYPE\t SAVES_CSV_FOLDER\t SAVES_FOLDER\t SAVES_PICKLE_FOLDER\t attempt_to_pickle\t example_iterrows\t \n",
      "get_column_descriptions\t load_csv\t load_dataframes\t load_object\t math\t os\t pd\t pickle\t re\t \n",
      "save_dataframes\t store_objects\t sys\t urllib\t \n"
     ]
    }
   ],
   "source": [
    "\n",
    "%run ../../load_magic/storage.py\n",
    "%run ../../load_magic/dataframes.py\n",
    "import urllib.request\n",
    "import re\n",
    "from bs4 import BeautifulSoup\n",
    "%pprint\n",
    "%who"
   ]
  },
  {
   "cell_type": "code",
   "execution_count": 2,
   "metadata": {},
   "outputs": [
    {
     "name": "stdout",
     "output_type": "stream",
     "text": [
      "Attempting to load C:\\Users\\dev\\Documents\\repositories\\notebooks\\age-of-empires-ii\\saves\\pickle\\unit_availability_df.pickle.\n",
      "No pickle exists - attempting to load C:\\Users\\dev\\Documents\\repositories\\notebooks\\age-of-empires-ii\\saves\\csv\\unit_availability_df.csv.\n"
     ]
    }
   ],
   "source": [
    "\n",
    "index_name = 'Unit Name'\n",
    "dataframes_dict = load_dataframes(unit_availability_df='unit_availability_df')\n",
    "unit_availability_df = dataframes_dict['unit_availability_df']\n",
    "if 'Unnamed: 0' in unit_availability_df.columns:\n",
    "    unit_availability_df = unit_availability_df.set_index('Unnamed: 0')\n",
    "elif index_name in unit_availability_df.columns:\n",
    "    unit_availability_df = unit_availability_df.set_index(index_name)\n",
    "unit_availability_df.index.name = index_name"
   ]
  },
  {
   "cell_type": "code",
   "execution_count": 3,
   "metadata": {},
   "outputs": [],
   "source": [
    "\n",
    "for cn in ['Age', 'Upgrades to', 'Upgraded from']:\n",
    "    unit_availability_df[cn] = unit_availability_df[cn].fillna(value='')\n",
    "    unit_availability_df[cn] = unit_availability_df[cn].map(lambda x: str(x).strip())"
   ]
  },
  {
   "cell_type": "code",
   "execution_count": 4,
   "metadata": {},
   "outputs": [
    {
     "name": "stdout",
     "output_type": "stream",
     "text": [
      "Saving to C:\\Users\\dev\\Documents\\repositories\\notebooks\\age-of-empires-ii\\data\\csv\\unit_availability_df.csv\n",
      "Saving to C:\\Users\\dev\\Documents\\repositories\\notebooks\\age-of-empires-ii\\saves\\csv\\unit_availability_df.csv\n",
      "Saving to C:\\Users\\dev\\Documents\\repositories\\notebooks\\age-of-empires-ii\\data\\xlsx\\unit_availability_df.xlsx\n"
     ]
    }
   ],
   "source": [
    "\n",
    "columns_list = unit_availability_df.columns\n",
    "file_path = os.path.join(DATA_CSV_FOLDER, 'unit_availability_df.csv')\n",
    "print('Saving to {}'.format(os.path.abspath(file_path)))\n",
    "unit_availability_df[columns_list].to_csv(file_path)\n",
    "save_dataframes(include_index=True, unit_availability_df=unit_availability_df[columns_list])\n",
    "xlsx_folder = os.path.join(DATA_FOLDER, 'xlsx')\n",
    "os.makedirs(name=xlsx_folder, exist_ok=True)\n",
    "file_path = os.path.join(xlsx_folder, 'unit_availability_df.xlsx')\n",
    "print('Saving to {}'.format(os.path.abspath(file_path)))\n",
    "unit_availability_df[columns_list].to_excel(file_path)"
   ]
  },
  {
   "cell_type": "code",
   "execution_count": null,
   "metadata": {},
   "outputs": [],
   "source": [
    "\n",
    "aside_columns_dict = load_object('aside_columns_dict')\n",
    "aside_columns_dict"
   ]
  },
  {
   "cell_type": "code",
   "execution_count": null,
   "metadata": {},
   "outputs": [],
   "source": [
    "\n",
    "match_series = pd.Series(cn in aside_columns_dict for cn in unit_availability_df.columns)\n",
    "unit_availability_df.columns[match_series]"
   ]
  },
  {
   "cell_type": "code",
   "execution_count": null,
   "metadata": {},
   "outputs": [],
   "source": [
    "\n",
    "cl = unit_availability_df.columns\n",
    "acd = aside_columns_dict.copy()\n",
    "unit_availability_df.columns = [cn if (cn not in acd) else acd[cn] for cn in cl]"
   ]
  },
  {
   "cell_type": "code",
   "execution_count": null,
   "metadata": {},
   "outputs": [],
   "source": [
    "\n",
    "unit_availability_df['Age'].unique()"
   ]
  },
  {
   "cell_type": "code",
   "execution_count": null,
   "metadata": {},
   "outputs": [],
   "source": [
    "\n",
    "unit_availability_df['MinRange'].unique()"
   ]
  },
  {
   "cell_type": "code",
   "execution_count": null,
   "metadata": {},
   "outputs": [],
   "source": [
    "\n",
    "unit_availability_df['MinRange'] = unit_availability_df['MinRange'].fillna(0)"
   ]
  },
  {
   "cell_type": "code",
   "execution_count": null,
   "metadata": {},
   "outputs": [],
   "source": [
    "\n",
    "unit_availability_df['Building'].unique()"
   ]
  },
  {
   "cell_type": "code",
   "execution_count": null,
   "metadata": {},
   "outputs": [],
   "source": [
    "\n",
    "unit_availability_df['Building'] = unit_availability_df['Building'].map(lambda x: x.strip())"
   ]
  },
  {
   "cell_type": "code",
   "execution_count": null,
   "metadata": {},
   "outputs": [],
   "source": [
    "\n",
    "unit_availability_df['Building'].unique()"
   ]
  },
  {
   "cell_type": "code",
   "execution_count": null,
   "metadata": {},
   "outputs": [],
   "source": [
    "\n",
    "columns_list = unit_availability_df.columns\n",
    "file_path = os.path.join(DATA_CSV_FOLDER, 'unit_availability_df.csv')\n",
    "print('Saving to {}'.format(os.path.abspath(file_path)))\n",
    "unit_availability_df[columns_list].to_csv(file_path)\n",
    "save_dataframes(include_index=True, unit_availability_df=unit_availability_df[columns_list])\n",
    "xlsx_folder = os.path.join(DATA_FOLDER, 'xlsx')\n",
    "os.makedirs(name=xlsx_folder, exist_ok=True)\n",
    "file_path = os.path.join(xlsx_folder, 'unit_availability_df.xlsx')\n",
    "print('Saving to {}'.format(os.path.abspath(file_path)))\n",
    "unit_availability_df[columns_list].to_excel(file_path)"
   ]
  },
  {
   "cell_type": "code",
   "execution_count": null,
   "metadata": {
    "scrolled": false
   },
   "outputs": [],
   "source": [
    "\n",
    "def get_mixed(x):\n",
    "    x = str(x)\n",
    "    if re.search(r'([+.\\d]+\\s+[^+.\\d]+|[^+.\\d]+\\s+[+.\\d]+)', x):\n",
    "        \n",
    "        return True\n",
    "    \n",
    "    else:\n",
    "        \n",
    "        return False\n",
    "\n",
    "digit_df = unit_availability_df.applymap(get_mixed)\n",
    "for column_name in digit_df.columns[digit_df.any(axis=0)]:\n",
    "    print(column_name)\n",
    "    print(unit_availability_df[column_name].unique().tolist())"
   ]
  },
  {
   "cell_type": "code",
   "execution_count": null,
   "metadata": {},
   "outputs": [],
   "source": [
    "\n",
    "unit_availability_df['UpTo'] = unit_availability_df['UpTo'].fillna(value='')\n",
    "unit_availability_df['UpTo'] = unit_availability_df['UpTo'].map(lambda x: x.strip())\n",
    "print(unit_availability_df['UpTo'].unique().tolist())"
   ]
  },
  {
   "cell_type": "code",
   "execution_count": null,
   "metadata": {},
   "outputs": [],
   "source": [
    "\n",
    "rows_list = []\n",
    "index_list = []\n",
    "for row_index, row_series in unit_availability_df.iterrows():\n",
    "    up_to = row_series['UpTo']\n",
    "    if len(up_to) and (up_to not in unit_availability_df.index):\n",
    "        row_series['UpFrom'] = row_series.name\n",
    "        row_series['UpTo'] = ''\n",
    "        row_series.name = up_to\n",
    "        index_list.append(up_to)\n",
    "        rows_list.append(row_series)\n",
    "elite_df = pd.DataFrame(data=rows_list, index=index_list, columns=unit_availability_df.columns)\n",
    "columns_list = ['UpFrom', 'UpTo']\n",
    "elite_df[columns_list].head(5).T"
   ]
  },
  {
   "cell_type": "code",
   "execution_count": null,
   "metadata": {},
   "outputs": [],
   "source": [
    "\n",
    "if elite_df.shape[0] > 0:\n",
    "    unit_availability_df = pd.concat([unit_availability_df, elite_df])"
   ]
  },
  {
   "cell_type": "code",
   "execution_count": null,
   "metadata": {},
   "outputs": [],
   "source": [
    "\n",
    "columns_list = unit_availability_df.columns\n",
    "file_path = os.path.join(DATA_CSV_FOLDER, 'unit_availability_df.csv')\n",
    "print('Saving to {}'.format(os.path.abspath(file_path)))\n",
    "unit_availability_df[columns_list].to_csv(file_path)\n",
    "save_dataframes(include_index=True, unit_availability_df=unit_availability_df[columns_list])\n",
    "xlsx_folder = os.path.join(DATA_FOLDER, 'xlsx')\n",
    "os.makedirs(name=xlsx_folder, exist_ok=True)\n",
    "file_path = os.path.join(xlsx_folder, 'unit_availability_df.xlsx')\n",
    "print('Saving to {}'.format(os.path.abspath(file_path)))\n",
    "unit_availability_df[columns_list].to_excel(file_path)"
   ]
  },
  {
   "cell_type": "code",
   "execution_count": null,
   "metadata": {},
   "outputs": [],
   "source": [
    "\n",
    "x = '2.49'\n",
    "match_list = re.findall(r'[.\\d]+', str(x))\n",
    "float(match_list[min(1, len(match_list)-1)])"
   ]
  },
  {
   "cell_type": "code",
   "execution_count": null,
   "metadata": {},
   "outputs": [],
   "source": [
    "\n",
    "column_name = 'Range'\n",
    "new_column_name = 'attack_or_conversion_vs_units'\n",
    "def f(x):\n",
    "    match_list = re.findall(r'[.\\d]+', str(x))\n",
    "    \n",
    "    return float(match_list[0])\n",
    "\n",
    "unit_availability_df[new_column_name] = unit_availability_df[column_name].map(f)"
   ]
  },
  {
   "cell_type": "code",
   "execution_count": null,
   "metadata": {},
   "outputs": [],
   "source": [
    "\n",
    "column_name = 'Speed'\n",
    "unit_availability_df[column_name].unique()"
   ]
  },
  {
   "cell_type": "code",
   "execution_count": null,
   "metadata": {},
   "outputs": [],
   "source": [
    "\n",
    "unit_availability_df[column_name] = unit_availability_df[column_name].fillna(value=0)\n",
    "match_series = unit_availability_df[column_name].isnull()\n",
    "unit_availability_df[match_series].index"
   ]
  },
  {
   "cell_type": "code",
   "execution_count": null,
   "metadata": {},
   "outputs": [],
   "source": [
    "\n",
    "match_series = unit_availability_df[column_name].isnull()\n",
    "unit_availability_df[match_series].index"
   ]
  },
  {
   "cell_type": "code",
   "execution_count": null,
   "metadata": {},
   "outputs": [],
   "source": [
    "\n",
    "xlsx_folder = os.path.join(DATA_FOLDER, 'xlsx')\n",
    "os.makedirs(name=xlsx_folder, exist_ok=True)\n",
    "save_dataframes(include_index=True, unit_availability_df=unit_availability_df)\n",
    "file_path = os.path.join(xlsx_folder, 'unit_availability_df.xlsx')\n",
    "unit_availability_df.to_excel(file_path)"
   ]
  },
  {
   "cell_type": "markdown",
   "metadata": {},
   "source": [
    "\n",
    "...doing some manual cleanup in Excel..."
   ]
  },
  {
   "cell_type": "code",
   "execution_count": null,
   "metadata": {},
   "outputs": [],
   "source": [
    "\n",
    "dataframes_dict = load_dataframes(unit_availability_df='unit_availability_df')\n",
    "unit_availability_df = dataframes_dict['unit_availability_df']\n",
    "unit_availability_df = unit_availability_df.set_index('Unit Name')\n",
    "unit_availability_df.index.name = 'Unit Name'"
   ]
  },
  {
   "cell_type": "code",
   "execution_count": null,
   "metadata": {},
   "outputs": [],
   "source": [
    "\n",
    "match_series = (unit_availability_df[column_name] == '1.2 (+0.35 upon reaching Feudal Age )')\n",
    "unit_availability_df[match_series].index"
   ]
  },
  {
   "cell_type": "code",
   "execution_count": null,
   "metadata": {},
   "outputs": [],
   "source": [
    "\n",
    "# ['1.3', '0.96', '0.8', '0.5', '0.85', '1.05', '0.7', '1.4', '1.45',\n",
    "#  '1.1', '1.43', '1.35', '0.9', '1.2', '1.5', '1.6', '1.15', '1.25',\n",
    "#  '1', '1.54', '0.6', '1.38', '1.26', '0.65',\n",
    "#  '1.2 (+0.35 upon reaching Feudal Age )', '1.32', '0']\n",
    "feudal_regex = re.compile(r'([.\\d+]+) +\\( *\\+([.\\d+]+) +upon +reaching +Feudal +Age *\\)')\n",
    "def f(row_series):\n",
    "    speed = str(row_series['Speed'])\n",
    "    if re.fullmatch(r'[.\\d+]+', speed):\n",
    "        \n",
    "        # Successful match at the start of the string\n",
    "        return float(speed)\n",
    "    \n",
    "    else:\n",
    "        match_obj = feudal_regex.search(speed)\n",
    "        if match_obj:\n",
    "            speed = float(match_obj.group(1))\n",
    "            bonus = float(match_obj.group(2))\n",
    "            \n",
    "            return speed + speed*bonus\n",
    "        \n",
    "        else:\n",
    "            \n",
    "            # Match attempt failed\n",
    "            return float(speed)\n",
    "\n",
    "unit_availability_df['Speed_upon_reaching_Feudal_Age'] = unit_availability_df.apply(f, axis=1)"
   ]
  },
  {
   "cell_type": "code",
   "execution_count": null,
   "metadata": {},
   "outputs": [],
   "source": [
    "\n",
    "# ['1.3', '0.96', '0.8', '0.5', '0.85', '1.05', '0.7', '1.4', '1.45',\n",
    "#  '1.1', '1.43', '1.35', '0.9', '1.2', '1.5', '1.6', '1.15', '1.25',\n",
    "#  '1', '1.54', '0.6', '1.38', '1.26', '0.65',\n",
    "#  '1.2 (+0.35 upon reaching Feudal Age )', '1.32', '0']\n",
    "feudal_regex = re.compile(r'([.\\d+]+) +\\( *\\+([.\\d+]+) +upon +reaching +Feudal +Age *\\)')\n",
    "def f(row_series):\n",
    "    speed = str(row_series['Speed'])\n",
    "    if re.fullmatch(r'[.\\d+]+', speed):\n",
    "        \n",
    "        # Successful match at the start of the string\n",
    "        return float(speed)\n",
    "    \n",
    "    else:\n",
    "        match_obj = feudal_regex.search(speed)\n",
    "        if match_obj:\n",
    "            speed = float(match_obj.group(1))\n",
    "            bonus = float(match_obj.group(2))\n",
    "            \n",
    "            return float(speed)\n",
    "        \n",
    "        else:\n",
    "            \n",
    "            # Match attempt failed\n",
    "            return float(speed)\n",
    "\n",
    "unit_availability_df['Speed'] = unit_availability_df.apply(f, axis=1)"
   ]
  },
  {
   "cell_type": "code",
   "execution_count": null,
   "metadata": {},
   "outputs": [],
   "source": [
    "\n",
    "unit_availability_df.columns"
   ]
  },
  {
   "cell_type": "code",
   "execution_count": null,
   "metadata": {},
   "outputs": [],
   "source": [
    "\n",
    "column_name = 'TrainTime'\n",
    "unit_availability_df[column_name].unique()"
   ]
  },
  {
   "cell_type": "code",
   "execution_count": null,
   "metadata": {},
   "outputs": [],
   "source": [
    "\n",
    "f = lambda x: int(re.sub(' +seconds', '', x))\n",
    "unit_availability_df['TrainTime'] = unit_availability_df['TrainTime'].map(f)"
   ]
  },
  {
   "cell_type": "code",
   "execution_count": null,
   "metadata": {},
   "outputs": [],
   "source": [
    "\n",
    "import re\n",
    "\n",
    "def get_mixed(x):\n",
    "    x = str(x)\n",
    "    if re.search(r'([+.\\d]+\\s+[^+.\\d]+|[^+.\\d]+\\s+[+.\\d]+)', x):\n",
    "        \n",
    "        return True\n",
    "    \n",
    "    else:\n",
    "        \n",
    "        return False\n",
    "\n",
    "digit_df = unit_availability_df.applymap(get_mixed)\n",
    "digit_df.columns[digit_df.any(axis=0)]"
   ]
  },
  {
   "cell_type": "code",
   "execution_count": null,
   "metadata": {},
   "outputs": [],
   "source": [
    "\n",
    "column_name = 'UpCost'\n",
    "unit_availability_df[column_name].unique()"
   ]
  },
  {
   "cell_type": "code",
   "execution_count": null,
   "metadata": {},
   "outputs": [],
   "source": [
    "\n",
    "upcost_regex = re.compile(r' *(\\d[,\\d]+) +(food|gold|wood)( *, +(\\d[,\\d]+) +(food|gold|wood))?')\n",
    "def get_UpCost_column(column_name):\n",
    "    \n",
    "    def f(up_cost):\n",
    "        up_cost = str(up_cost)\n",
    "        match_obj = upcost_regex.search(up_cost)\n",
    "        return_value = '0'\n",
    "        if match_obj:\n",
    "            first_amount = match_obj.group(2)\n",
    "            if column_name == first_amount:\n",
    "                return_value = match_obj.group(1)\n",
    "            else:\n",
    "                if match_obj.group(3) is not None:\n",
    "                    second_amount = match_obj.group(5)\n",
    "                    if column_name == second_amount:\n",
    "                        return_value = match_obj.group(4)\n",
    "        return_value = int(re.sub(',', '', return_value))\n",
    "        \n",
    "        return return_value\n",
    "    \n",
    "    new_column_name = 'UpCost_{}'.format(column_name)\n",
    "    unit_availability_df[new_column_name] = unit_availability_df['UpCost'].map(f)\n",
    "\n",
    "for resource in ['food', 'gold', 'wood']:\n",
    "    get_UpCost_column(resource)"
   ]
  },
  {
   "cell_type": "code",
   "execution_count": null,
   "metadata": {},
   "outputs": [],
   "source": [
    "\n",
    "columns_list = ['UpCost_food', 'UpCost_gold', 'UpCost_wood']\n",
    "unit_availability_df[columns_list].sample(5)"
   ]
  },
  {
   "cell_type": "code",
   "execution_count": null,
   "metadata": {},
   "outputs": [],
   "source": [
    "\n",
    "xlsx_folder = os.path.join(DATA_FOLDER, 'xlsx')\n",
    "os.makedirs(name=xlsx_folder, exist_ok=True)\n",
    "save_dataframes(include_index=True, unit_availability_df=unit_availability_df)\n",
    "file_path = os.path.join(xlsx_folder, 'unit_availability_df.xlsx')\n",
    "print('Saving to {}'.format(os.path.abspath(file_path)))\n",
    "unit_availability_df.to_excel(file_path)"
   ]
  },
  {
   "cell_type": "code",
   "execution_count": null,
   "metadata": {},
   "outputs": [],
   "source": [
    "\n",
    "column_name = 'LOS'\n",
    "unit_availability_df[column_name].unique()"
   ]
  },
  {
   "cell_type": "code",
   "execution_count": null,
   "metadata": {},
   "outputs": [],
   "source": [
    "\n",
    "# ['5', '7', '6', '3', '4', '14', '15', '9', '8', '17', '10',\n",
    "#  '8 (+2 upon reaching Imperial Age )', '11', '4 6 8 10', '19']\n",
    "regex_str_list = ['([.\\d+]+) +\\( *\\+([.\\d+]+) +upon +reaching +Imperial +Age *\\)',\n",
    "                  '(\\d+) +(\\d+) +(\\d+) +(\\d+)']\n",
    "imperial_regex = re.compile(r'|'.join(regex_str_list))\n",
    "def f(row_series):\n",
    "    los = str(row_series['LOS'])\n",
    "    if re.fullmatch(r'[\\d]+', los):\n",
    "        \n",
    "        # Successful match at the start of the string\n",
    "        return int(los)\n",
    "    \n",
    "    else:\n",
    "        match_obj = imperial_regex.search(los)\n",
    "        if match_obj:\n",
    "            if match_obj.group(1) and match_obj.group(2):\n",
    "                los = int(match_obj.group(1))\n",
    "                bonus = int(match_obj.group(2))\n",
    "            \n",
    "                return los + bonus\n",
    "            \n",
    "            elif match_obj.group(6):\n",
    "                los = int(match_obj.group(6))\n",
    "                \n",
    "                return los\n",
    "            \n",
    "            else:\n",
    "\n",
    "                # Match attempt failed\n",
    "                return 0\n",
    "            \n",
    "        else:\n",
    "            \n",
    "            # Match attempt failed\n",
    "            return 0\n",
    "\n",
    "unit_availability_df['LOS_upon_reaching_Imperial_Age'] = unit_availability_df.apply(f, axis=1)\n",
    "\n",
    "def f(row_series):\n",
    "    los = str(row_series['LOS'])\n",
    "    if re.fullmatch(r'[\\d]+', los):\n",
    "        \n",
    "        # Successful match at the start of the string\n",
    "        return int(los)\n",
    "    \n",
    "    else:\n",
    "        match_obj = imperial_regex.search(los)\n",
    "        if match_obj:\n",
    "            if match_obj.group(1):\n",
    "                los = int(match_obj.group(1))\n",
    "            \n",
    "                return los\n",
    "            \n",
    "            elif match_obj.group(5):\n",
    "                los = int(match_obj.group(5))\n",
    "                \n",
    "                return los\n",
    "            \n",
    "            else:\n",
    "\n",
    "                # Match attempt failed\n",
    "                return 0\n",
    "            \n",
    "        else:\n",
    "            \n",
    "            # Match attempt failed\n",
    "            return 0\n",
    "\n",
    "unit_availability_df['LOS_upon_reaching_Castle_Age'] = unit_availability_df.apply(f, axis=1)\n",
    "\n",
    "def f(row_series):\n",
    "    los = str(row_series['LOS'])\n",
    "    if re.fullmatch(r'[\\d]+', los):\n",
    "        \n",
    "        # Successful match at the start of the string\n",
    "        return int(los)\n",
    "    \n",
    "    else:\n",
    "        match_obj = imperial_regex.search(los)\n",
    "        if match_obj:\n",
    "            if match_obj.group(1):\n",
    "                los = int(match_obj.group(1))\n",
    "            \n",
    "                return los\n",
    "            \n",
    "            elif match_obj.group(4):\n",
    "                los = int(match_obj.group(4))\n",
    "                \n",
    "                return los\n",
    "            \n",
    "            else:\n",
    "\n",
    "                # Match attempt failed\n",
    "                return 0\n",
    "            \n",
    "        else:\n",
    "            \n",
    "            # Match attempt failed\n",
    "            return 0\n",
    "\n",
    "unit_availability_df['LOS_upon_reaching_Feudal_Age'] = unit_availability_df.apply(f, axis=1)\n",
    "\n",
    "def f(row_series):\n",
    "    los = str(row_series['LOS'])\n",
    "    if re.fullmatch(r'[\\d]+', los):\n",
    "        \n",
    "        # Successful match at the start of the string\n",
    "        return int(los)\n",
    "    \n",
    "    else:\n",
    "        match_obj = imperial_regex.search(los)\n",
    "        if match_obj:\n",
    "            if match_obj.group(1):\n",
    "                los = int(match_obj.group(1))\n",
    "            \n",
    "                return los\n",
    "            \n",
    "            elif match_obj.group(3):\n",
    "                los = int(match_obj.group(3))\n",
    "                \n",
    "                return los\n",
    "            \n",
    "            else:\n",
    "\n",
    "                # Match attempt failed\n",
    "                return 0\n",
    "            \n",
    "        else:\n",
    "            \n",
    "            # Match attempt failed\n",
    "            return 0\n",
    "\n",
    "unit_availability_df['LOS_upon_reaching_Dark_Age'] = unit_availability_df.apply(f, axis=1)"
   ]
  },
  {
   "cell_type": "code",
   "execution_count": null,
   "metadata": {},
   "outputs": [],
   "source": [
    "\n",
    "columns_list = ['LOS_upon_reaching_Imperial_Age', 'LOS_upon_reaching_Castle_Age',\n",
    "                'LOS_upon_reaching_Feudal_Age', 'LOS_upon_reaching_Dark_Age']\n",
    "unit_availability_df[columns_list].sample(5).T"
   ]
  },
  {
   "cell_type": "code",
   "execution_count": null,
   "metadata": {},
   "outputs": [],
   "source": [
    "\n",
    "xlsx_folder = os.path.join(DATA_FOLDER, 'xlsx')\n",
    "os.makedirs(name=xlsx_folder, exist_ok=True)\n",
    "save_dataframes(include_index=True, unit_availability_df=unit_availability_df)\n",
    "file_path = os.path.join(xlsx_folder, 'unit_availability_df.xlsx')\n",
    "print('Saving to {}'.format(os.path.abspath(file_path)))\n",
    "unit_availability_df.to_excel(file_path)"
   ]
  },
  {
   "cell_type": "code",
   "execution_count": null,
   "metadata": {},
   "outputs": [],
   "source": [
    "\n",
    "column_name = 'Attack'\n",
    "unit_availability_df[column_name].unique()"
   ]
  },
  {
   "cell_type": "code",
   "execution_count": null,
   "metadata": {},
   "outputs": [],
   "source": [
    "# ['12 pierce 0 melee',\n",
    "#  '3 (+2 upon reaching Feudal Age )  melee',\n",
    "#  '16  melee']\n",
    "regex_str = r'(\\d+) +(\\(\\+(\\d+) +upon +reaching +Feudal +Age *\\) +)?'\n",
    "regex_str += r'(pierce|melee)( +(\\d+) +(pierce|melee))?'\n",
    "feudal_regex = re.compile(regex_str)\n",
    "def get_Attack_column(column_name):\n",
    "    \n",
    "    def f(attack):\n",
    "        attack = str(attack)\n",
    "        if re.fullmatch(r'[\\d]+', attack):\n",
    "\n",
    "            # Successful match at the start of the string\n",
    "            return int(attack)\n",
    "\n",
    "        else:\n",
    "            match_obj = feudal_regex.search(attack)\n",
    "            return_value = 0\n",
    "            if match_obj:\n",
    "                if match_obj.group(1) and match_obj.group(4):\n",
    "                    first_value = int(match_obj.group(1))\n",
    "                    if match_obj.group(3):\n",
    "                        first_value = first_value + int(match_obj.group(3))\n",
    "                    first_key = match_obj.group(4)\n",
    "                    if column_name == first_key:\n",
    "                        return_value = first_value\n",
    "                    elif match_obj.group(6) and match_obj.group(7):\n",
    "                        second_value = int(match_obj.group(6))\n",
    "                        second_key = match_obj.group(7)\n",
    "                        if column_name == second_key:\n",
    "                            return_value = second_value\n",
    "\n",
    "            return return_value\n",
    "\n",
    "    new_column_name = 'Attack_{}_upon_reaching_Feudal_Age'.format(column_name)\n",
    "    unit_availability_df[new_column_name] = unit_availability_df['Attack'].map(f)\n",
    "    \n",
    "    def f(attack):\n",
    "        attack = str(attack)\n",
    "        if re.fullmatch(r'[\\d]+', attack):\n",
    "\n",
    "            # Successful match at the start of the string\n",
    "            return int(attack)\n",
    "\n",
    "        else:\n",
    "            match_obj = feudal_regex.search(attack)\n",
    "            return_value = 0\n",
    "            if match_obj:\n",
    "                if match_obj.group(1) and match_obj.group(4):\n",
    "                    first_value = int(match_obj.group(1))\n",
    "                    first_key = match_obj.group(4)\n",
    "                    if column_name == first_key:\n",
    "                        return_value = first_value\n",
    "                    elif match_obj.group(6) and match_obj.group(7):\n",
    "                        second_value = int(match_obj.group(6))\n",
    "                        second_key = match_obj.group(7)\n",
    "                        if column_name == second_key:\n",
    "                            return_value = second_value\n",
    "\n",
    "            return return_value\n",
    "\n",
    "    new_column_name = 'Attack_{}'.format(column_name)\n",
    "    unit_availability_df[new_column_name] = unit_availability_df['Attack'].map(f)\n",
    "\n",
    "for resource in ['pierce', 'melee']:\n",
    "    get_Attack_column(resource)"
   ]
  },
  {
   "cell_type": "code",
   "execution_count": null,
   "metadata": {},
   "outputs": [],
   "source": [
    "\n",
    "columns_list = [cn for cn in unit_availability_df.columns if 'Attack' in cn]\n",
    "unit_availability_df[columns_list].sample(5).T"
   ]
  },
  {
   "cell_type": "code",
   "execution_count": null,
   "metadata": {},
   "outputs": [],
   "source": [
    "\n",
    "column_name = 'Class'\n",
    "unit_availability_df[column_name].unique()"
   ]
  },
  {
   "cell_type": "code",
   "execution_count": null,
   "metadata": {},
   "outputs": [],
   "source": [
    "\n",
    "class_list = ['Archer', 'Camel', 'Condottiero', 'Eagle Warrior', 'Monk', 'Spearman',\n",
    "              'Turtle Ship', 'Cavalry archer', 'Cavalry', 'Unique unit', 'War elephant',\n",
    "              'Siege weapon', 'Ram', 'Ship', 'Gunpowder unit', 'Infantry']\n",
    "class_regex = re.compile(r'({})'.format('|'.join(class_list)))\n",
    "def get_Class_column(column_name):\n",
    "    \n",
    "    def f(column_value):\n",
    "        column_value = str(column_value)\n",
    "        return_value = 0\n",
    "        for match_obj in class_regex.finditer(column_value):\n",
    "            class_name = match_obj.group(1)\n",
    "            if class_name == column_name:\n",
    "                return_value = 1\n",
    "        \n",
    "        return return_value\n",
    "\n",
    "    new_column_name = 'In_{}_Armor_class'.format(re.sub(' +', '_', column_name))\n",
    "    unit_availability_df[new_column_name] = unit_availability_df['Class'].map(f)\n",
    "\n",
    "for resource in class_list:\n",
    "    get_Class_column(resource)"
   ]
  },
  {
   "cell_type": "code",
   "execution_count": null,
   "metadata": {},
   "outputs": [],
   "source": [
    "\n",
    "columns_list = [cn for cn in unit_availability_df.columns if 'class' in cn.lower()]\n",
    "unit_availability_df[columns_list].sample(5).T"
   ]
  },
  {
   "cell_type": "code",
   "execution_count": null,
   "metadata": {},
   "outputs": [],
   "source": [
    "\n",
    "dataframes_dict = load_dataframes(unit_availability_df='unit_availability_df')\n",
    "unit_availability_df = dataframes_dict['unit_availability_df']\n",
    "unit_availability_df = unit_availability_df.set_index('Unit Name')\n",
    "unit_availability_df.index.name = 'Unit Name'"
   ]
  },
  {
   "cell_type": "code",
   "execution_count": null,
   "metadata": {},
   "outputs": [],
   "source": [
    "\n",
    "column_name = 'Gold'\n",
    "unit_availability_df[column_name] = unit_availability_df[column_name].fillna(value=0)\n",
    "unit_availability_df[column_name].unique()"
   ]
  },
  {
   "cell_type": "code",
   "execution_count": null,
   "metadata": {},
   "outputs": [],
   "source": [
    "\n",
    "xlsx_folder = os.path.join(DATA_FOLDER, 'xlsx')\n",
    "os.makedirs(name=xlsx_folder, exist_ok=True)\n",
    "save_dataframes(include_index=True, unit_availability_df=unit_availability_df)\n",
    "file_path = os.path.join(xlsx_folder, 'unit_availability_df.xlsx')\n",
    "print('Saving to {}'.format(os.path.abspath(file_path)))\n",
    "unit_availability_df.to_excel(file_path)"
   ]
  },
  {
   "cell_type": "code",
   "execution_count": null,
   "metadata": {},
   "outputs": [],
   "source": [
    "\n",
    "import re\n",
    "\n",
    "def get_mixed(x):\n",
    "    x = str(x)\n",
    "    if re.search(r'([+.\\d]+\\s+[^+.\\d]+|[^+.\\d]+\\s+[+.\\d]+)', x):\n",
    "        \n",
    "        return True\n",
    "    \n",
    "    else:\n",
    "        \n",
    "        return False\n",
    "\n",
    "digit_df = unit_availability_df.applymap(get_mixed)\n",
    "digit_df.columns[digit_df.any(axis=0)]"
   ]
  },
  {
   "cell_type": "code",
   "execution_count": null,
   "metadata": {},
   "outputs": [],
   "source": [
    "\n",
    "column_name = 'Accuracy'\n",
    "unit_availability_df[column_name].unique()"
   ]
  },
  {
   "cell_type": "code",
   "execution_count": null,
   "metadata": {},
   "outputs": [],
   "source": [
    "# ['20%', '90%', '80%', '100%', nan, '92%', '95%', '50%', '85%',\n",
    "#  '65%', '30%', '70%', '0%',\n",
    "#  '80% against buildings 15% against units']\n",
    "regex_str = r'(\\d+)%( +against +buildings +(\\d+)% +against +units)?'\n",
    "accuracy_regex = re.compile(regex_str)\n",
    "def f(accuracy):\n",
    "    accuracy = str(accuracy)\n",
    "    match_obj = accuracy_regex.search(accuracy)\n",
    "    return_value = 0\n",
    "    if match_obj:\n",
    "        if match_obj.group(1):\n",
    "            return_value = int(match_obj.group(1))\n",
    "\n",
    "    return return_value\n",
    "\n",
    "new_column_name = 'Accuracy_{}_against_buildings'.format(column_name)\n",
    "unit_availability_df[new_column_name] = unit_availability_df['Accuracy'].map(f)\n",
    "\n",
    "def f(accuracy):\n",
    "    accuracy = str(accuracy)\n",
    "    match_obj = accuracy_regex.search(accuracy)\n",
    "    return_value = 0\n",
    "    if match_obj:\n",
    "        if match_obj.group(3):\n",
    "            return_value = int(match_obj.group(3))\n",
    "        elif match_obj.group(1):\n",
    "            return_value = int(match_obj.group(1))\n",
    "\n",
    "    return return_value\n",
    "\n",
    "new_column_name = 'Accuracy_{}_against_units'.format(column_name)\n",
    "unit_availability_df[new_column_name] = unit_availability_df['Accuracy'].map(f)"
   ]
  },
  {
   "cell_type": "code",
   "execution_count": null,
   "metadata": {},
   "outputs": [],
   "source": [
    "\n",
    "columns_list = [cn for cn in unit_availability_df.columns if column_name in cn]\n",
    "unit_availability_df[columns_list].sample(5).T"
   ]
  },
  {
   "cell_type": "code",
   "execution_count": null,
   "metadata": {},
   "outputs": [],
   "source": [
    "\n",
    "xlsx_folder = os.path.join(DATA_FOLDER, 'xlsx')\n",
    "os.makedirs(name=xlsx_folder, exist_ok=True)\n",
    "save_dataframes(include_index=True, unit_availability_df=unit_availability_df)\n",
    "file_path = os.path.join(xlsx_folder, 'unit_availability_df.xlsx')\n",
    "print('Saving to {}'.format(os.path.abspath(file_path)))\n",
    "unit_availability_df.to_excel(file_path)"
   ]
  },
  {
   "cell_type": "code",
   "execution_count": null,
   "metadata": {},
   "outputs": [],
   "source": [
    "\n",
    "column_name = 'Type'\n",
    "unit_availability_df[column_name].unique()"
   ]
  },
  {
   "cell_type": "code",
   "execution_count": null,
   "metadata": {},
   "outputs": [],
   "source": [
    "\n",
    "import re\n",
    "\n",
    "type_list = ['Cavalry Archer', 'Archer', 'Monk', 'Cavalry', 'Siege unit', 'Infantry',\n",
    "             'Gunpowder unit', 'Naval vessel', 'Suicide unit', 'Siege weapon', 'Civilian Ship',\n",
    "             'Healer', 'Civilian']\n",
    "type_regex = re.compile(r'({})'.format('|'.join(type_list)))\n",
    "def get_Type_column(column_name):\n",
    "    \n",
    "    def f(column_value):\n",
    "        column_value = str(column_value)\n",
    "        return_value = 0\n",
    "        for match_obj in type_regex.finditer(column_value):\n",
    "            type_name = match_obj.group(1)\n",
    "            if type_name == column_name:\n",
    "                return_value = 1\n",
    "        \n",
    "        return return_value\n",
    "\n",
    "    new_column_name = 'In_{}_Unit_Type'.format(re.sub(' +', '_', column_name))\n",
    "    unit_availability_df[new_column_name] = unit_availability_df['Type'].map(f)\n",
    "\n",
    "for resource in type_list:\n",
    "    get_Type_column(resource)"
   ]
  },
  {
   "cell_type": "code",
   "execution_count": null,
   "metadata": {},
   "outputs": [],
   "source": [
    "\n",
    "[cn for cn in unit_availability_df.columns if 'type' in cn.lower()]"
   ]
  },
  {
   "cell_type": "code",
   "execution_count": null,
   "metadata": {},
   "outputs": [],
   "source": [
    "\n",
    "xlsx_folder = os.path.join(DATA_FOLDER, 'xlsx')\n",
    "os.makedirs(name=xlsx_folder, exist_ok=True)\n",
    "save_dataframes(include_index=True, unit_availability_df=unit_availability_df)\n",
    "file_path = os.path.join(xlsx_folder, 'unit_availability_df.xlsx')\n",
    "print('Saving to {}'.format(os.path.abspath(file_path)))\n",
    "unit_availability_df.to_excel(file_path)"
   ]
  },
  {
   "cell_type": "code",
   "execution_count": null,
   "metadata": {},
   "outputs": [],
   "source": [
    "\n",
    "column_descriptions_df = get_column_descriptions(unit_availability_df)\n",
    "match_series = column_descriptions_df['dtype'].isin(['int64', 'float64'])\n",
    "numeric_columns_list = column_descriptions_df[match_series]['column_name'].tolist()\n",
    "non_columns_list = [cn for cn in unit_availability_df.columns if cn not in numeric_columns_list]\n",
    "unit_availability_df[non_columns_list].sample(5).T"
   ]
  },
  {
   "cell_type": "code",
   "execution_count": null,
   "metadata": {},
   "outputs": [],
   "source": [
    "\n",
    "description_columns_list = ['Intro', 'Heading', 'Required', 'Age', 'UpFrom', 'Building', 'UpTo']\n",
    "unit_availability_df[description_columns_list].sample(5).T"
   ]
  },
  {
   "cell_type": "code",
   "execution_count": null,
   "metadata": {},
   "outputs": [],
   "source": [
    "\n",
    "columns_list = description_columns_list + numeric_columns_list\n",
    "unit_availability_df = unit_availability_df[columns_list].copy()\n",
    "save_dataframes(include_index=True, unit_availability_df=unit_availability_df)"
   ]
  },
  {
   "cell_type": "code",
   "execution_count": null,
   "metadata": {},
   "outputs": [],
   "source": [
    "\n",
    "unit_availability_df['Building'] = unit_availability_df['Building'].map(lambda x: str(x).strip())\n",
    "match_series = (unit_availability_df['Building'] == 'Barracks')\n",
    "unit_availability_df[match_series].index"
   ]
  },
  {
   "cell_type": "code",
   "execution_count": null,
   "metadata": {},
   "outputs": [],
   "source": [
    "\n",
    "[cn for cn in unit_availability_df.columns if 'eleph' in cn.lower()]"
   ]
  },
  {
   "cell_type": "code",
   "execution_count": null,
   "metadata": {},
   "outputs": [],
   "source": [
    "\n",
    "[cn for cn in unit_availability_df.index if 'eleph' in cn.lower()]"
   ]
  },
  {
   "cell_type": "code",
   "execution_count": null,
   "metadata": {},
   "outputs": [],
   "source": [
    "\n",
    "dataframes_dict = load_dataframes(civilization_bonuses_df='civilization_bonuses_df')\n",
    "civilization_bonuses_df = dataframes_dict['civilization_bonuses_df']\n",
    "if 'Unnamed: 0' in civilization_bonuses_df.columns:\n",
    "    civilization_bonuses_df = civilization_bonuses_df.set_index('Unnamed: 0')\n",
    "elif 'Bonus Name' in civilization_bonuses_df.columns:\n",
    "    civilization_bonuses_df = civilization_bonuses_df.set_index('Bonus Name')\n",
    "civilization_bonuses_df.index.name = 'Bonus Name'"
   ]
  },
  {
   "cell_type": "code",
   "execution_count": null,
   "metadata": {},
   "outputs": [],
   "source": [
    "\n",
    "civilization_bonuses_df.sample(5).T.sample(5).T"
   ]
  },
  {
   "cell_type": "code",
   "execution_count": null,
   "metadata": {},
   "outputs": [],
   "source": [
    "\n",
    "# Battle Elephants move +15% faster.\n",
    "civilization_bonuses_df = civilization_bonuses_df.T\n",
    "#match_series = (unit_availability_df['Building'] == 'Barracks')\n",
    "unit_list = ['Battle Elephant', 'Elite Battle Elephant']\n",
    "for unit_name in unit_list:#unit_availability_df[match_series].index:\n",
    "    for res_name in ['Speed']:\n",
    "        column_name = '{}_{}'.format(re.sub(' +', '_', unit_name), res_name.lower())\n",
    "        column_value = unit_availability_df.loc[unit_name, res_name]\n",
    "        civilization_bonuses_df[column_name] = column_value"
   ]
  },
  {
   "cell_type": "code",
   "execution_count": null,
   "metadata": {},
   "outputs": [],
   "source": [
    "\n",
    "civilization_bonuses_df = civilization_bonuses_df.T\n",
    "civilization_bonuses_df.sample(5).T.sample(5).T"
   ]
  },
  {
   "cell_type": "code",
   "execution_count": null,
   "metadata": {},
   "outputs": [],
   "source": [
    "\n",
    "xlsx_folder = os.path.join(DATA_FOLDER, 'xlsx')\n",
    "os.makedirs(name=xlsx_folder, exist_ok=True)\n",
    "save_dataframes(include_index=True, civilization_bonuses_df=civilization_bonuses_df)\n",
    "file_path = os.path.join(xlsx_folder, 'civilization_bonuses_df.xlsx')\n",
    "print('Saving to {}'.format(os.path.abspath(file_path)))\n",
    "civilization_bonuses_df.to_excel(file_path)"
   ]
  },
  {
   "cell_type": "code",
   "execution_count": null,
   "metadata": {},
   "outputs": [],
   "source": [
    "\n",
    "dataframes_dict = load_dataframes(technology_df='technology_df')\n",
    "technology_df = dataframes_dict['technology_df']\n",
    "technology_df = technology_df.set_index('Technology')\n",
    "technology_df.index.name = 'Technology'"
   ]
  },
  {
   "cell_type": "code",
   "execution_count": null,
   "metadata": {},
   "outputs": [],
   "source": [
    "\n",
    "# Blacksmith upgrades cost no gold.\n",
    "match_series = (technology_df['Building'] == 'Blacksmith')\n",
    "columns_list = ['Cost', 'Wood', 'Stone', 'Gold', 'Food']\n",
    "for cn in columns_list[1:-1]:\n",
    "    technology_df[cn] = technology_df[cn].fillna(0)\n",
    "technology_df[match_series][columns_list]"
   ]
  },
  {
   "cell_type": "code",
   "execution_count": null,
   "metadata": {},
   "outputs": [],
   "source": [
    "\n",
    "dataframes_dict = load_dataframes(civilization_bonuses_df='civilization_bonuses_df')\n",
    "index_name = 'Bonus Name'\n",
    "civilization_bonuses_df = dataframes_dict['civilization_bonuses_df']\n",
    "if 'Unnamed: 0' in civilization_bonuses_df.columns:\n",
    "    civilization_bonuses_df = civilization_bonuses_df.set_index('Unnamed: 0')\n",
    "elif index_name in civilization_bonuses_df.columns:\n",
    "    civilization_bonuses_df = civilization_bonuses_df.set_index(index_name)\n",
    "civilization_bonuses_df.index.name = index_name"
   ]
  },
  {
   "cell_type": "code",
   "execution_count": null,
   "metadata": {},
   "outputs": [],
   "source": [
    "\n",
    "dataframes_dict = load_dataframes(building_availability_df='building_availability_df')\n",
    "index_name = 'Building Name'\n",
    "building_availability_df = dataframes_dict['building_availability_df']\n",
    "if 'Unnamed: 0' in building_availability_df.columns:\n",
    "    building_availability_df = building_availability_df.set_index('Unnamed: 0')\n",
    "elif index_name in building_availability_df.columns:\n",
    "    building_availability_df = building_availability_df.set_index(index_name)\n",
    "building_availability_df.index.name = index_name"
   ]
  },
  {
   "cell_type": "code",
   "execution_count": null,
   "metadata": {},
   "outputs": [],
   "source": [
    "\n",
    "index_name = 'Unit Name'\n",
    "dataframes_dict = load_dataframes(unit_availability_df='unit_availability_df')\n",
    "unit_availability_df = dataframes_dict['unit_availability_df']\n",
    "if 'Unnamed: 0' in unit_availability_df.columns:\n",
    "    unit_availability_df = unit_availability_df.set_index('Unnamed: 0')\n",
    "elif index_name in unit_availability_df.columns:\n",
    "    unit_availability_df = unit_availability_df.set_index(index_name)\n",
    "unit_availability_df.index.name = index_name"
   ]
  },
  {
   "cell_type": "code",
   "execution_count": null,
   "metadata": {},
   "outputs": [],
   "source": [
    "\n",
    "# Cavalry has +20% HP.\n",
    "resource_set = set()\n",
    "for column_name in unit_availability_df.columns:\n",
    "    if ('cavalry' in column_name.lower()) or ('hp' in column_name.lower()):\n",
    "        resource_set.add(column_name)\n",
    "resource_set"
   ]
  },
  {
   "cell_type": "code",
   "execution_count": null,
   "metadata": {},
   "outputs": [],
   "source": [
    "\n",
    "# Cavalry has +20% HP.\n",
    "match_series = (unit_availability_df['In_Cavalry_Armor_class'] == 1)\n",
    "match_series = match_series | (unit_availability_df['In_Cavalry_Unit_Type'] == 1)\n",
    "match_series = match_series | (unit_availability_df['In_Cavalry_Archer_Unit_Type'] == 1)\n",
    "match_series = match_series | (unit_availability_df['In_Cavalry_archer_Armor_class'] == 1)\n",
    "match_series = match_series & (unit_availability_df['Franks'] == 1)\n",
    "columns_list = ['In_Cavalry_Armor_class', 'In_Cavalry_archer_Armor_class',\n",
    "                'In_Cavalry_Unit_Type', 'In_Cavalry_Archer_Unit_Type']\n",
    "unit_availability_df[match_series][columns_list].sort_values(columns_list)"
   ]
  },
  {
   "cell_type": "code",
   "execution_count": null,
   "metadata": {},
   "outputs": [],
   "source": [
    "\n",
    "# Cavalry has +20% HP.\n",
    "unit_set = set()\n",
    "for index_name in unit_availability_df.index:\n",
    "    if ('hp' in index_name.lower()) or ('cavalry' in index_name.lower()):\n",
    "        unit_set.add(index_name)\n",
    "unit_set"
   ]
  },
  {
   "cell_type": "code",
   "execution_count": null,
   "metadata": {},
   "outputs": [],
   "source": [
    "\n",
    "# Cavalry has +20% HP.\n",
    "unit_availability_df.loc[unit_set, resource_set].T"
   ]
  },
  {
   "cell_type": "code",
   "execution_count": null,
   "metadata": {},
   "outputs": [],
   "source": [
    "\n",
    "import re\n",
    "\n",
    "# Cavalry archers fire 25% faster.\n",
    "civilization_bonuses_df = civilization_bonuses_df.T\n",
    "column_name_list = []\n",
    "for unit_name in unit_set:\n",
    "    column_name = '{}_firing_rate'.format(re.sub(' +', '_', unit_name))\n",
    "    column_value = unit_availability_df.loc[unit_name, 'PSpeed']\n",
    "    column_name_list.append(column_name)\n",
    "    civilization_bonuses_df[column_name] = column_value"
   ]
  },
  {
   "cell_type": "code",
   "execution_count": null,
   "metadata": {},
   "outputs": [],
   "source": [
    "\n",
    "civilization_bonuses_df = civilization_bonuses_df.T\n",
    "civilization_bonuses_df.T[column_name_list].sample(5).T"
   ]
  },
  {
   "cell_type": "code",
   "execution_count": null,
   "metadata": {},
   "outputs": [],
   "source": [
    "\n",
    "xlsx_folder = os.path.join(DATA_FOLDER, 'xlsx')\n",
    "os.makedirs(name=xlsx_folder, exist_ok=True)\n",
    "save_dataframes(include_index=True, civilization_bonuses_df=civilization_bonuses_df)\n",
    "file_path = os.path.join(xlsx_folder, 'civilization_bonuses_df.xlsx')\n",
    "print('Saving to {}'.format(os.path.abspath(file_path)))\n",
    "civilization_bonuses_df.to_excel(file_path)"
   ]
  },
  {
   "cell_type": "code",
   "execution_count": null,
   "metadata": {},
   "outputs": [],
   "source": []
  }
 ],
 "metadata": {
  "kernelspec": {
   "display_name": "Python 3",
   "language": "python",
   "name": "python3"
  },
  "language_info": {
   "codemirror_mode": {
    "name": "ipython",
    "version": 3
   },
   "file_extension": ".py",
   "mimetype": "text/x-python",
   "name": "python",
   "nbconvert_exporter": "python",
   "pygments_lexer": "ipython3",
   "version": "3.6.8"
  }
 },
 "nbformat": 4,
 "nbformat_minor": 2
}
