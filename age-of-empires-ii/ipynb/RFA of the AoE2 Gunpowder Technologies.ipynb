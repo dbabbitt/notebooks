{
 "cells": [
  {
   "cell_type": "code",
   "execution_count": 11,
   "metadata": {},
   "outputs": [
    {
     "name": "stdout",
     "output_type": "stream",
     "text": [
      "DATA_FOLDER: ../data/\n",
      "SAVES_FOLDER: ../saves/\n",
      "Pretty printing has been turned OFF\n",
      "BeautifulSoup\t DATA_CSV_FOLDER\t DATA_FOLDER\t ENCODING_TYPE\t SAVES_CSV_FOLDER\t SAVES_FOLDER\t SAVES_PICKLE_FOLDER\t attempt_to_pickle\t column_descriptions_df\t \n",
      "columns_list\t dataframes_dict\t example_iterrows\t get_column_descriptions\t get_link_html\t gunpowder_unit_list\t index_name\t load_csv\t load_dataframes\t \n",
      "load_object\t mask_series\t math\t numeric_columns_list\t os\t pd\t pickle\t re\t save_dataframes\t \n",
      "store_objects\t sys\t unit_availability_df\t urllib\t \n"
     ]
    }
   ],
   "source": [
    "\n",
    "%run ../../load_magic/storage.py\n",
    "%run ../../load_magic/dataframes.py\n",
    "import urllib.request\n",
    "import re\n",
    "from bs4 import BeautifulSoup\n",
    "%pprint\n",
    "%who"
   ]
  },
  {
   "cell_type": "code",
   "execution_count": 2,
   "metadata": {},
   "outputs": [
    {
     "name": "stdout",
     "output_type": "stream",
     "text": [
      "Attempting to load C:\\Users\\dev\\Documents\\repositories\\notebooks\\age-of-empires-ii\\saves\\pickle\\unit_availability_df.pickle.\n",
      "No pickle exists - attempting to load C:\\Users\\dev\\Documents\\repositories\\notebooks\\age-of-empires-ii\\saves\\csv\\unit_availability_df.csv.\n"
     ]
    }
   ],
   "source": [
    "\n",
    "index_name = 'Unit Name'\n",
    "dataframes_dict = load_dataframes(unit_availability_df='unit_availability_df')\n",
    "unit_availability_df = dataframes_dict['unit_availability_df']\n",
    "if 'Unnamed: 0' in unit_availability_df.columns:\n",
    "    unit_availability_df = unit_availability_df.set_index('Unnamed: 0')\n",
    "elif index_name in unit_availability_df.columns:\n",
    "    unit_availability_df = unit_availability_df.set_index(index_name)\n",
    "unit_availability_df.index.name = index_name"
   ]
  },
  {
   "cell_type": "code",
   "execution_count": 81,
   "metadata": {},
   "outputs": [
    {
     "data": {
      "text/html": [
       "<div>\n",
       "<style scoped>\n",
       "    .dataframe tbody tr th:only-of-type {\n",
       "        vertical-align: middle;\n",
       "    }\n",
       "\n",
       "    .dataframe tbody tr th {\n",
       "        vertical-align: top;\n",
       "    }\n",
       "\n",
       "    .dataframe thead th {\n",
       "        text-align: right;\n",
       "    }\n",
       "</style>\n",
       "<table border=\"1\" class=\"dataframe\">\n",
       "  <thead>\n",
       "    <tr style=\"text-align: right;\">\n",
       "      <th></th>\n",
       "      <th>Introduced in</th>\n",
       "      <th>Heading</th>\n",
       "      <th>Required research</th>\n",
       "      <th>Age</th>\n",
       "    </tr>\n",
       "    <tr>\n",
       "      <th>Unit Name</th>\n",
       "      <th></th>\n",
       "      <th></th>\n",
       "      <th></th>\n",
       "      <th></th>\n",
       "    </tr>\n",
       "  </thead>\n",
       "  <tbody>\n",
       "    <tr>\n",
       "      <th>Hand Cannoneer</th>\n",
       "      <td>The Age of Kings</td>\n",
       "      <td>Archers</td>\n",
       "      <td>Chemistry</td>\n",
       "      <td>Imperial Age</td>\n",
       "    </tr>\n",
       "    <tr>\n",
       "      <th>Cannon Galleon</th>\n",
       "      <td>The Age of Kings</td>\n",
       "      <td>Navy</td>\n",
       "      <td>Cannon Galleon</td>\n",
       "      <td>Imperial Age</td>\n",
       "    </tr>\n",
       "    <tr>\n",
       "      <th>Elite Cannon Galleon</th>\n",
       "      <td>The Age of Kings</td>\n",
       "      <td>Navy</td>\n",
       "      <td>NaN</td>\n",
       "      <td>Imperial Age</td>\n",
       "    </tr>\n",
       "    <tr>\n",
       "      <th>Bombard Cannon</th>\n",
       "      <td>The Age of Kings</td>\n",
       "      <td>Siege</td>\n",
       "      <td>Chemistry</td>\n",
       "      <td>Imperial Age</td>\n",
       "    </tr>\n",
       "    <tr>\n",
       "      <th>Elite Janissary</th>\n",
       "      <td>The Age of Kings</td>\n",
       "      <td>Unique</td>\n",
       "      <td>NaN</td>\n",
       "      <td>Castle Age</td>\n",
       "    </tr>\n",
       "    <tr>\n",
       "      <th>Janissary</th>\n",
       "      <td>The Age of Kings</td>\n",
       "      <td>Unique</td>\n",
       "      <td>NaN</td>\n",
       "      <td>Castle Age</td>\n",
       "    </tr>\n",
       "  </tbody>\n",
       "</table>\n",
       "</div>"
      ],
      "text/plain": [
       "                          Introduced in  Heading Required research  \\\n",
       "Unit Name                                                            \n",
       "Hand Cannoneer         The Age of Kings  Archers         Chemistry   \n",
       "Cannon Galleon         The Age of Kings     Navy    Cannon Galleon   \n",
       "Elite Cannon Galleon   The Age of Kings     Navy               NaN   \n",
       "Bombard Cannon         The Age of Kings    Siege         Chemistry   \n",
       "Elite Janissary        The Age of Kings   Unique               NaN   \n",
       "Janissary              The Age of Kings   Unique               NaN   \n",
       "\n",
       "                               Age  \n",
       "Unit Name                           \n",
       "Hand Cannoneer        Imperial Age  \n",
       "Cannon Galleon        Imperial Age  \n",
       "Elite Cannon Galleon  Imperial Age  \n",
       "Bombard Cannon        Imperial Age  \n",
       "Elite Janissary         Castle Age  \n",
       "Janissary               Castle Age  "
      ]
     },
     "execution_count": 81,
     "metadata": {},
     "output_type": "execute_result"
    }
   ],
   "source": [
    "\n",
    "# Turks: Gunpowder technologies are 50% cheaper.\n",
    "mask_series = (unit_availability_df['Turks'] == 1)\n",
    "mask_series = mask_series & ((unit_availability_df['In_Gunpowder_unit_Unit_Type'] == 1) |\n",
    "                               (unit_availability_df['In_Gunpowder_unit_Armor_class'] == 1))\n",
    "columns_list = ['Introduced in', 'Heading', 'Required research', 'Age']\n",
    "unit_availability_df[mask_series][columns_list]"
   ]
  },
  {
   "cell_type": "code",
   "execution_count": 82,
   "metadata": {},
   "outputs": [],
   "source": [
    "\n",
    "gunpowder_unit_list = unit_availability_df[mask_series].sort_index().index.tolist()\n",
    "tech_list = ['Anarchy', 'Andean Sling', 'Architecture', 'Arquebus', 'Arrowslits', 'Arson',\n",
    "             'Artillery', 'Atheism', 'Atlatl', 'Atonement', 'Ballistics', 'Banking', 'Bearded Axe',\n",
    "             'Berserkergang', 'Blast Furnace', 'Block Printing', 'Bloodlines', 'Bodkin Arrow',\n",
    "             'Boiling Oil', 'Bow Saw', 'Bracer', 'Caravan', 'Careening', 'Carrack', 'Cartography',\n",
    "             'Castle Age', 'Chain Barding Armor', 'Chain Mail Armor', 'Chatras', 'Chemistry',\n",
    "             'Chieftains', 'Chivalry', 'Coinage', 'Conscription', 'Couriers', 'Crenellations',\n",
    "             'Crop Rotation', 'Double Crossbow', 'Double-Bit Axe', 'Drill', 'Druzhina', 'Dry Dock',\n",
    "             'El Dorado', 'Faith', 'Farimba', 'Fervor', 'Feudal Age', 'Fletching', 'Forced Levy',\n",
    "             'Forging', 'Furor Celtica', 'Garland Wars', 'Gillnets', 'Gold Mining',\n",
    "             'Gold Shaft Mining', 'Great Wall', 'Greek Fire', 'Guilds', 'Hand Cart', 'Heated Shot',\n",
    "             'Heavy Plow', 'Herbal Medicine', 'Heresy', 'Hoardings', 'Horse Collar', 'Howdah',\n",
    "             'Husbandry', 'Illumination', 'Imperial Age', 'Inquisition', 'Iron Casting', 'Ironclad',\n",
    "             'Kasbah', 'Kataparuto', 'Leather Archer Armor', 'Logistica', 'Loom', 'Madrasah',\n",
    "             'Maghrabi Camels', 'Mahouts', 'Manipur Cavalry', 'Marauders', 'Masonry', 'Mercenaries',\n",
    "             'Murder Holes', 'Nomads', 'Obsidian Arrows', 'Orthodoxy', 'Padded Archer Armor',\n",
    "             'Panokseon', 'Paper Money', 'Parthian Tactics', 'Pavise', 'Perfusion',\n",
    "             'Plate Barding Armor', 'Plate Mail Armor', 'Recurve Bow', 'Redemption',\n",
    "             'Ring Archer Armor', 'Rocketry', 'Royal Heirs', 'Sanctity', 'Sappers',\n",
    "             'Scale Barding Armor', 'Scale Mail Armor', 'Shatagni', 'Shinkichon', 'Shipwright',\n",
    "             'Siege Engineers', 'Silk Road', 'Sipahi', 'Spies', 'Squires', 'Stone Mining',\n",
    "             'Stone Shaft Mining', 'Stronghold', 'Sultans', 'Supremacy', 'Thalassocracy',\n",
    "             'Theocracy', 'Thumb Ring', 'Tigui', 'Torsion Engines', 'Town Patrol', 'Town Watch',\n",
    "             'Tracking', 'Treadmill Crane', 'Treason', 'Tusk Swords', 'Two-Man Saw', 'Warwolf',\n",
    "             'Wheelbarrow', 'Yasama', 'Yeomen', 'Zealotry']\n",
    "tech_regex = re.compile(r'\\b({})\\b'.format('|'.join(tech_list)))"
   ]
  },
  {
   "cell_type": "code",
   "execution_count": 83,
   "metadata": {},
   "outputs": [],
   "source": [
    "\n",
    "def get_link_html(link):\n",
    "    link_str = re.sub(' +', '_', link)\n",
    "    link_url = 'https://ageofempires.fandom.com/wiki/{}'.format(link_str)\n",
    "    try:\n",
    "        extended_link_url = '{}_(Age_of_Empires_II)'.format(link_url)\n",
    "        with urllib.request.urlopen(extended_link_url) as response:\n",
    "            link_html = response.read()\n",
    "        link_url = extended_link_url\n",
    "    except:\n",
    "        try:\n",
    "            with urllib.request.urlopen(link_url) as response:\n",
    "                link_html = response.read()\n",
    "        except Exception as e:\n",
    "            print('{} got this error: {}'.format(link_url, e))\n",
    "            link_html = None\n",
    "    \n",
    "    return link_url, link_html"
   ]
  },
  {
   "cell_type": "code",
   "execution_count": 84,
   "metadata": {},
   "outputs": [
    {
     "name": "stdout",
     "output_type": "stream",
     "text": [
      "https://ageofempires.fandom.com/wiki/Elite_Janissary got this error: HTTP Error 404: Not Found\n"
     ]
    },
    {
     "data": {
      "text/plain": [
       "5"
      ]
     },
     "execution_count": 84,
     "metadata": {},
     "output_type": "execute_result"
    }
   ],
   "source": [
    "\n",
    "# Turks: Gunpowder technologies are 50% cheaper.\n",
    "unit_child_list = []\n",
    "unit_df_list = []\n",
    "content_text_selector = '#mw-content-text'\n",
    "for gunpowder_unit in gunpowder_unit_list:\n",
    "    link_url, link_html = get_link_html(gunpowder_unit)\n",
    "    if link_html is not None:\n",
    "        summary_box_soup = BeautifulSoup(link_html, 'html.parser')\n",
    "        content_text_div = summary_box_soup.select(content_text_selector)[0]\n",
    "        children_list = list(content_text_div.children)\n",
    "        for child in children_list:\n",
    "            if child.name == 'table':\n",
    "                if tech_regex.search(str(child)):\n",
    "                    unit_child_list.append(child)\n",
    "                    df = pd.read_html(str(child), header=0)[0]\n",
    "                    unit_df_list.append(df)\n",
    "len(unit_df_list)"
   ]
  },
  {
   "cell_type": "code",
   "execution_count": 93,
   "metadata": {},
   "outputs": [
    {
     "data": {
      "text/plain": [
       "{'Faith', 'Careening', 'Dry Dock', 'Conscription', 'Shipwright', 'Ring Archer Armor', 'Padded Archer Armor', 'Leather Archer Armor', 'Artillery', 'Heresy'}"
      ]
     },
     "execution_count": 93,
     "metadata": {},
     "output_type": "execute_result"
    }
   ],
   "source": [
    "\n",
    "# Turks: Gunpowder technologies are 50% cheaper.\n",
    "tech_set = set()\n",
    "for df in unit_df_list:\n",
    "    df.columns = ['Key', 'Value']\n",
    "    indexes_list = df.index.to_list()\n",
    "    for idx in indexes_list[3:]:\n",
    "        for match_obj in tech_regex.finditer(df.iloc[idx]['Value']):\n",
    "            tech_set.add(match_obj.group())\n",
    "mask_series = (technology_availability_df['Turks'] == 1)\n",
    "mask_series = mask_series & (technology_availability_df.index.isin(tech_set))\n",
    "tech_set = set(technology_availability_df[mask_series].index)\n",
    "tech_set"
   ]
  },
  {
   "cell_type": "code",
   "execution_count": 71,
   "metadata": {},
   "outputs": [
    {
     "name": "stdout",
     "output_type": "stream",
     "text": [
      "\n",
      "Arquebus\n",
      "str_list[100]\n",
      "Gunpowder units fire more accurately at moving targets\n",
      "\n",
      "Arquebus\n",
      "str_list[117]\n",
      "gunpowder units\n",
      "\n",
      "Arquebus\n",
      "str_list[157]\n",
      "Arquebus now has a smaller effect on gunpowder units, the speed modifier is reduced by 75%.\n",
      "\n",
      "Arquebus\n",
      "str_list[164]\n",
      "Despite the reduced powder load, the arquebus was indeed more accurate than the hand cannons it replaced; this was primarily due to the fact that its matchlock mechanism allowed the weapon to be aimed with both hands and the attention of the gunner to be focused upon the target, not on priming their weapon.\n",
      "\n",
      "Torsion Engines\n",
      "str_list[176]\n",
      "A Torsion Siege Engine is a type of artillery that utilizes torsion to launch projectiles. They were initially developed by the ancient Greeks, specifically Philip II of Macedon and Alexander the Great, and used through the Middle Ages until the development of gunpowder artillery in the 14th century proved them obsolete, essentially all non-battering ram/siege tower siege units utilize torsion. It should also be noted that increasing the blast range is inaccurate, as torsions allowed their users to fire and reload faster.\n"
     ]
    },
    {
     "data": {
      "text/plain": [
       "17"
      ]
     },
     "execution_count": 71,
     "metadata": {},
     "output_type": "execute_result"
    }
   ],
   "source": [
    "\n",
    "# Turks: Gunpowder technologies are 50% cheaper.\n",
    "tech_child_list = []\n",
    "tech_df_list = []\n",
    "content_text_selector = '#mw-content-text'\n",
    "for gunpowder_tech in tech_set:\n",
    "    link_url, link_html = get_link_html(gunpowder_tech)\n",
    "    if link_html is not None:\n",
    "        summary_box_soup = BeautifulSoup(link_html, 'html.parser')\n",
    "        content_text_div = summary_box_soup.select(content_text_selector)[0]\n",
    "        children_list = list(content_text_div.children)\n",
    "        for child in children_list:\n",
    "            if child.name == 'table':\n",
    "                if tech_regex.search(str(child)):\n",
    "                    tech_child_list.append(child)\n",
    "                    df = pd.read_html(str(child), header=0)[0]\n",
    "                    tech_df_list.append(df)\n",
    "                    str_list = list(summary_box_soup.stripped_strings)\n",
    "                    for i, html_str in enumerate(str_list):\n",
    "                        if 'powder' in html_str.lower():\n",
    "                            print()\n",
    "                            print(gunpowder_tech)\n",
    "                            print('str_list[{}]'.format(i))\n",
    "                            print(html_str)\n",
    "len(tech_df_list)"
   ]
  },
  {
   "cell_type": "code",
   "execution_count": 72,
   "metadata": {},
   "outputs": [
    {
     "name": "stdout",
     "output_type": "stream",
     "text": [
      "Attempting to load C:\\Users\\dev\\Documents\\repositories\\notebooks\\age-of-empires-ii\\saves\\pickle\\technology_availability_df.pickle.\n",
      "No pickle exists - attempting to load C:\\Users\\dev\\Documents\\repositories\\notebooks\\age-of-empires-ii\\saves\\csv\\technology_availability_df.csv.\n"
     ]
    }
   ],
   "source": [
    "\n",
    "index_name = 'Technology Name'\n",
    "dataframes_dict = load_dataframes(technology_availability_df='technology_availability_df')\n",
    "technology_availability_df = dataframes_dict['technology_availability_df']\n",
    "if 'Unnamed: 0' in technology_availability_df.columns:\n",
    "    technology_availability_df = technology_availability_df.set_index('Unnamed: 0')\n",
    "elif index_name in technology_availability_df.columns:\n",
    "    technology_availability_df = technology_availability_df.set_index(index_name)\n",
    "technology_availability_df.index.name = index_name"
   ]
  },
  {
   "cell_type": "code",
   "execution_count": 87,
   "metadata": {},
   "outputs": [
    {
     "name": "stdout",
     "output_type": "stream",
     "text": [
      "Index(['column_name', 'dtype', 'count_blanks', 'count_uniques', 'count_zeroes',\n",
      "       'has_dates', 'min_value', 'max_value', 'only_integers'],\n",
      "      dtype='object')\n"
     ]
    },
    {
     "data": {
      "text/plain": [
       "array(['int64', 'object'], dtype=object)"
      ]
     },
     "execution_count": 87,
     "metadata": {},
     "output_type": "execute_result"
    }
   ],
   "source": [
    "\n",
    "column_descriptions_df = get_column_descriptions(technology_availability_df)\n",
    "mask_series = column_descriptions_df['dtype'].isin(['int64', 'float64'])\n",
    "numeric_columns_list = column_descriptions_df[mask_series]['column_name'].tolist()\n",
    "print(column_descriptions_df.columns)\n",
    "column_descriptions_df['dtype'].unique()"
   ]
  },
  {
   "cell_type": "code",
   "execution_count": 86,
   "metadata": {},
   "outputs": [],
   "source": [
    "\n",
    "# Create the y variable\n",
    "gunpowder_technologies_list = ['Chemistry', 'Arquebus', 'Shatagni']\n",
    "def is_gunpowder_technology(row_series):\n",
    "    if row_series.name in gunpowder_technologies_list:\n",
    "        \n",
    "        return True\n",
    "    \n",
    "    else:\n",
    "        \n",
    "        return False\n",
    "\n",
    "y = technology_availability_df.apply(is_gunpowder_technology, axis=1).values"
   ]
  },
  {
   "cell_type": "code",
   "execution_count": 88,
   "metadata": {},
   "outputs": [],
   "source": [
    "\n",
    "# Create the X variable\n",
    "X = technology_availability_df[numeric_columns_list].fillna(0).values"
   ]
  },
  {
   "cell_type": "code",
   "execution_count": 89,
   "metadata": {},
   "outputs": [],
   "source": [
    "\n",
    "from sklearn.ensemble import RandomForestClassifier\n",
    "\n",
    "regr = RandomForestClassifier(max_depth=5, n_estimators=100)\n",
    "regr.fit(X, y)\n",
    "top_6_tuple_list = sorted([(cn, ci) for cn, ci in zip(numeric_columns_list,\n",
    "                                                      regr.feature_importances_) if ci > 0.0],\n",
    "       key=lambda x: x[1], reverse=True)[:6]"
   ]
  },
  {
   "cell_type": "code",
   "execution_count": 90,
   "metadata": {},
   "outputs": [
    {
     "data": {
      "text/html": [
       "<div>\n",
       "<style scoped>\n",
       "    .dataframe tbody tr th:only-of-type {\n",
       "        vertical-align: middle;\n",
       "    }\n",
       "\n",
       "    .dataframe tbody tr th {\n",
       "        vertical-align: top;\n",
       "    }\n",
       "\n",
       "    .dataframe thead th {\n",
       "        text-align: right;\n",
       "    }\n",
       "</style>\n",
       "<table border=\"1\" class=\"dataframe\">\n",
       "  <thead>\n",
       "    <tr style=\"text-align: right;\">\n",
       "      <th></th>\n",
       "      <th>Food</th>\n",
       "      <th>Gold</th>\n",
       "      <th>Portuguese</th>\n",
       "      <th>Indians</th>\n",
       "      <th>Wood</th>\n",
       "      <th>Huns</th>\n",
       "    </tr>\n",
       "    <tr>\n",
       "      <th>Technology Name</th>\n",
       "      <th></th>\n",
       "      <th></th>\n",
       "      <th></th>\n",
       "      <th></th>\n",
       "      <th></th>\n",
       "      <th></th>\n",
       "    </tr>\n",
       "  </thead>\n",
       "  <tbody>\n",
       "    <tr>\n",
       "      <th>Arquebus</th>\n",
       "      <td>700</td>\n",
       "      <td>400</td>\n",
       "      <td>1</td>\n",
       "      <td>0</td>\n",
       "      <td>0</td>\n",
       "      <td>0</td>\n",
       "    </tr>\n",
       "    <tr>\n",
       "      <th>Shatagni</th>\n",
       "      <td>500</td>\n",
       "      <td>300</td>\n",
       "      <td>0</td>\n",
       "      <td>1</td>\n",
       "      <td>0</td>\n",
       "      <td>0</td>\n",
       "    </tr>\n",
       "    <tr>\n",
       "      <th>Chemistry</th>\n",
       "      <td>300</td>\n",
       "      <td>200</td>\n",
       "      <td>1</td>\n",
       "      <td>1</td>\n",
       "      <td>0</td>\n",
       "      <td>1</td>\n",
       "    </tr>\n",
       "  </tbody>\n",
       "</table>\n",
       "</div>"
      ],
      "text/plain": [
       "                 Food  Gold  Portuguese  Indians  Wood  Huns\n",
       "Technology Name                                             \n",
       "Arquebus          700   400           1        0     0     0\n",
       "Shatagni          500   300           0        1     0     0\n",
       "Chemistry         300   200           1        1     0     1"
      ]
     },
     "execution_count": 90,
     "metadata": {},
     "output_type": "execute_result"
    }
   ],
   "source": [
    "\n",
    "mask_series = (technology_availability_df.index.isin(gunpowder_technologies_list))\n",
    "columns_list = [cn for (cn, cv) in top_6_tuple_list]\n",
    "technology_availability_df[mask_series][columns_list].sort_values(columns_list, ascending=False)"
   ]
  },
  {
   "cell_type": "code",
   "execution_count": null,
   "metadata": {},
   "outputs": [],
   "source": []
  }
 ],
 "metadata": {
  "kernelspec": {
   "display_name": "Python 3",
   "language": "python",
   "name": "python3"
  },
  "language_info": {
   "codemirror_mode": {
    "name": "ipython",
    "version": 3
   },
   "file_extension": ".py",
   "mimetype": "text/x-python",
   "name": "python",
   "nbconvert_exporter": "python",
   "pygments_lexer": "ipython3",
   "version": "3.6.8"
  }
 },
 "nbformat": 4,
 "nbformat_minor": 2
}
