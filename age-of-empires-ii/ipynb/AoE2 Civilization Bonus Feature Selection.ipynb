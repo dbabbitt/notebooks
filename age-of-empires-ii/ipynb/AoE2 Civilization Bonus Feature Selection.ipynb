{
 "cells": [
  {
   "cell_type": "code",
   "execution_count": 3,
   "metadata": {},
   "outputs": [
    {
     "name": "stdout",
     "output_type": "stream",
     "text": [
      "DATA_FOLDER: ../data/\n",
      "SAVES_FOLDER: ../saves/\n",
      "Pretty printing has been turned OFF\n",
      "DATA_CSV_FOLDER\t DATA_FOLDER\t ENCODING_TYPE\t SAVES_CSV_FOLDER\t SAVES_FOLDER\t SAVES_PICKLE_FOLDER\t SelectKBest\t attempt_to_pickle\t example_iterrows\t \n",
      "get_column_descriptions\t load_csv\t load_dataframes\t load_object\t math\t os\t pd\t pickle\t save_dataframes\t \n",
      "store_objects\t sys\t \n"
     ]
    }
   ],
   "source": [
    "\n",
    "%run ../../load_magic/storage.py\n",
    "%run ../../load_magic/dataframes.py\n",
    "%pprint\n",
    "%who"
   ]
  },
  {
   "cell_type": "code",
   "execution_count": 4,
   "metadata": {},
   "outputs": [
    {
     "data": {
      "text/html": [
       "<div>\n",
       "<style scoped>\n",
       "    .dataframe tbody tr th:only-of-type {\n",
       "        vertical-align: middle;\n",
       "    }\n",
       "\n",
       "    .dataframe tbody tr th {\n",
       "        vertical-align: top;\n",
       "    }\n",
       "\n",
       "    .dataframe thead th {\n",
       "        text-align: right;\n",
       "    }\n",
       "</style>\n",
       "<table border=\"1\" class=\"dataframe\">\n",
       "  <thead>\n",
       "    <tr style=\"text-align: right;\">\n",
       "      <th>Civilization</th>\n",
       "      <th>Goths</th>\n",
       "      <th>Byzantines</th>\n",
       "      <th>Chinese</th>\n",
       "      <th>Incas</th>\n",
       "      <th>Vikings</th>\n",
       "      <th>Ethiopians</th>\n",
       "      <th>Portuguese</th>\n",
       "      <th>Teutons</th>\n",
       "      <th>Persians</th>\n",
       "      <th>Burmese</th>\n",
       "    </tr>\n",
       "  </thead>\n",
       "  <tbody>\n",
       "    <tr>\n",
       "      <th>Win Rate</th>\n",
       "      <td>48.93</td>\n",
       "      <td>49.56</td>\n",
       "      <td>46.98</td>\n",
       "      <td>56.52</td>\n",
       "      <td>55.37</td>\n",
       "      <td>50.47</td>\n",
       "      <td>40.52</td>\n",
       "      <td>49.97</td>\n",
       "      <td>50.62</td>\n",
       "      <td>48.73</td>\n",
       "    </tr>\n",
       "    <tr>\n",
       "      <th>Play Rate</th>\n",
       "      <td>6.94</td>\n",
       "      <td>6.92</td>\n",
       "      <td>6.82</td>\n",
       "      <td>5.78</td>\n",
       "      <td>6.86</td>\n",
       "      <td>5.64</td>\n",
       "      <td>5.62</td>\n",
       "      <td>6.97</td>\n",
       "      <td>6.69</td>\n",
       "      <td>5.65</td>\n",
       "    </tr>\n",
       "    <tr>\n",
       "      <th>Score</th>\n",
       "      <td>6102</td>\n",
       "      <td>6614</td>\n",
       "      <td>6421</td>\n",
       "      <td>5986</td>\n",
       "      <td>6468</td>\n",
       "      <td>6004</td>\n",
       "      <td>5834</td>\n",
       "      <td>6401</td>\n",
       "      <td>6675</td>\n",
       "      <td>6331</td>\n",
       "    </tr>\n",
       "    <tr>\n",
       "      <th>Research</th>\n",
       "      <td>20</td>\n",
       "      <td>22</td>\n",
       "      <td>22</td>\n",
       "      <td>21</td>\n",
       "      <td>22</td>\n",
       "      <td>21</td>\n",
       "      <td>19</td>\n",
       "      <td>21</td>\n",
       "      <td>21</td>\n",
       "      <td>21</td>\n",
       "    </tr>\n",
       "    <tr>\n",
       "      <th>Feudal Time</th>\n",
       "      <td>0:11:24</td>\n",
       "      <td>0:11:20</td>\n",
       "      <td>0:11:29</td>\n",
       "      <td>0:11:08</td>\n",
       "      <td>0:11:29</td>\n",
       "      <td>0:11:12</td>\n",
       "      <td>0:11:10</td>\n",
       "      <td>0:11:07</td>\n",
       "      <td>0:10:54</td>\n",
       "      <td>0:11:04</td>\n",
       "    </tr>\n",
       "    <tr>\n",
       "      <th>Castle Time</th>\n",
       "      <td>0:24:02</td>\n",
       "      <td>0:24:09</td>\n",
       "      <td>0:23:57</td>\n",
       "      <td>0:24:21</td>\n",
       "      <td>0:23:49</td>\n",
       "      <td>0:24:15</td>\n",
       "      <td>0:24:10</td>\n",
       "      <td>0:23:44</td>\n",
       "      <td>0:23:05</td>\n",
       "      <td>0:23:40</td>\n",
       "    </tr>\n",
       "    <tr>\n",
       "      <th>Imperial Time</th>\n",
       "      <td>0:40:36</td>\n",
       "      <td>0:39:20</td>\n",
       "      <td>0:39:35</td>\n",
       "      <td>0:39:58</td>\n",
       "      <td>0:39:11</td>\n",
       "      <td>0:39:26</td>\n",
       "      <td>0:40:07</td>\n",
       "      <td>0:39:53</td>\n",
       "      <td>0:38:23</td>\n",
       "      <td>0:39:29</td>\n",
       "    </tr>\n",
       "    <tr>\n",
       "      <th>Game Length</th>\n",
       "      <td>0:40:47</td>\n",
       "      <td>0:42:20</td>\n",
       "      <td>0:41:20</td>\n",
       "      <td>0:39:56</td>\n",
       "      <td>0:41:06</td>\n",
       "      <td>0:40:07</td>\n",
       "      <td>0:40:11</td>\n",
       "      <td>0:41:45</td>\n",
       "      <td>0:41:55</td>\n",
       "      <td>0:41:10</td>\n",
       "    </tr>\n",
       "    <tr>\n",
       "      <th>Feudal Time Hours</th>\n",
       "      <td>0</td>\n",
       "      <td>0</td>\n",
       "      <td>0</td>\n",
       "      <td>0</td>\n",
       "      <td>0</td>\n",
       "      <td>0</td>\n",
       "      <td>0</td>\n",
       "      <td>0</td>\n",
       "      <td>0</td>\n",
       "      <td>0</td>\n",
       "    </tr>\n",
       "    <tr>\n",
       "      <th>Feudal Time Minutes</th>\n",
       "      <td>11</td>\n",
       "      <td>11</td>\n",
       "      <td>11</td>\n",
       "      <td>11</td>\n",
       "      <td>11</td>\n",
       "      <td>11</td>\n",
       "      <td>11</td>\n",
       "      <td>11</td>\n",
       "      <td>10</td>\n",
       "      <td>11</td>\n",
       "    </tr>\n",
       "    <tr>\n",
       "      <th>Feudal Time Seconds</th>\n",
       "      <td>0</td>\n",
       "      <td>0</td>\n",
       "      <td>0</td>\n",
       "      <td>0</td>\n",
       "      <td>0</td>\n",
       "      <td>0</td>\n",
       "      <td>0</td>\n",
       "      <td>0</td>\n",
       "      <td>0</td>\n",
       "      <td>0</td>\n",
       "    </tr>\n",
       "    <tr>\n",
       "      <th>Castle Time Hours</th>\n",
       "      <td>0</td>\n",
       "      <td>0</td>\n",
       "      <td>0</td>\n",
       "      <td>0</td>\n",
       "      <td>0</td>\n",
       "      <td>0</td>\n",
       "      <td>0</td>\n",
       "      <td>0</td>\n",
       "      <td>0</td>\n",
       "      <td>0</td>\n",
       "    </tr>\n",
       "    <tr>\n",
       "      <th>Castle Time Minutes</th>\n",
       "      <td>24</td>\n",
       "      <td>24</td>\n",
       "      <td>23</td>\n",
       "      <td>24</td>\n",
       "      <td>23</td>\n",
       "      <td>24</td>\n",
       "      <td>24</td>\n",
       "      <td>23</td>\n",
       "      <td>23</td>\n",
       "      <td>23</td>\n",
       "    </tr>\n",
       "    <tr>\n",
       "      <th>Castle Time Seconds</th>\n",
       "      <td>0</td>\n",
       "      <td>0</td>\n",
       "      <td>0</td>\n",
       "      <td>0</td>\n",
       "      <td>0</td>\n",
       "      <td>0</td>\n",
       "      <td>0</td>\n",
       "      <td>0</td>\n",
       "      <td>0</td>\n",
       "      <td>0</td>\n",
       "    </tr>\n",
       "    <tr>\n",
       "      <th>Imperial Time Hours</th>\n",
       "      <td>0</td>\n",
       "      <td>0</td>\n",
       "      <td>0</td>\n",
       "      <td>0</td>\n",
       "      <td>0</td>\n",
       "      <td>0</td>\n",
       "      <td>0</td>\n",
       "      <td>0</td>\n",
       "      <td>0</td>\n",
       "      <td>0</td>\n",
       "    </tr>\n",
       "    <tr>\n",
       "      <th>Imperial Time Minutes</th>\n",
       "      <td>40</td>\n",
       "      <td>39</td>\n",
       "      <td>39</td>\n",
       "      <td>39</td>\n",
       "      <td>39</td>\n",
       "      <td>39</td>\n",
       "      <td>40</td>\n",
       "      <td>39</td>\n",
       "      <td>38</td>\n",
       "      <td>39</td>\n",
       "    </tr>\n",
       "    <tr>\n",
       "      <th>Imperial Time Seconds</th>\n",
       "      <td>0</td>\n",
       "      <td>0</td>\n",
       "      <td>0</td>\n",
       "      <td>0</td>\n",
       "      <td>0</td>\n",
       "      <td>0</td>\n",
       "      <td>0</td>\n",
       "      <td>0</td>\n",
       "      <td>0</td>\n",
       "      <td>0</td>\n",
       "    </tr>\n",
       "    <tr>\n",
       "      <th>Game Length Hours</th>\n",
       "      <td>0</td>\n",
       "      <td>0</td>\n",
       "      <td>0</td>\n",
       "      <td>0</td>\n",
       "      <td>0</td>\n",
       "      <td>0</td>\n",
       "      <td>0</td>\n",
       "      <td>0</td>\n",
       "      <td>0</td>\n",
       "      <td>0</td>\n",
       "    </tr>\n",
       "    <tr>\n",
       "      <th>Game Length Minutes</th>\n",
       "      <td>40</td>\n",
       "      <td>42</td>\n",
       "      <td>41</td>\n",
       "      <td>39</td>\n",
       "      <td>41</td>\n",
       "      <td>40</td>\n",
       "      <td>40</td>\n",
       "      <td>41</td>\n",
       "      <td>41</td>\n",
       "      <td>41</td>\n",
       "    </tr>\n",
       "    <tr>\n",
       "      <th>Game Length Seconds</th>\n",
       "      <td>0</td>\n",
       "      <td>0</td>\n",
       "      <td>0</td>\n",
       "      <td>0</td>\n",
       "      <td>0</td>\n",
       "      <td>0</td>\n",
       "      <td>0</td>\n",
       "      <td>0</td>\n",
       "      <td>0</td>\n",
       "      <td>0</td>\n",
       "    </tr>\n",
       "  </tbody>\n",
       "</table>\n",
       "</div>"
      ],
      "text/plain": [
       "Civilization             Goths Byzantines  Chinese    Incas  Vikings  \\\n",
       "Win Rate                 48.93      49.56    46.98    56.52    55.37   \n",
       "Play Rate                 6.94       6.92     6.82     5.78     6.86   \n",
       "Score                     6102       6614     6421     5986     6468   \n",
       "Research                    20         22       22       21       22   \n",
       "Feudal Time            0:11:24    0:11:20  0:11:29  0:11:08  0:11:29   \n",
       "Castle Time            0:24:02    0:24:09  0:23:57  0:24:21  0:23:49   \n",
       "Imperial Time          0:40:36    0:39:20  0:39:35  0:39:58  0:39:11   \n",
       "Game Length            0:40:47    0:42:20  0:41:20  0:39:56  0:41:06   \n",
       "Feudal Time Hours            0          0        0        0        0   \n",
       "Feudal Time Minutes         11         11       11       11       11   \n",
       "Feudal Time Seconds          0          0        0        0        0   \n",
       "Castle Time Hours            0          0        0        0        0   \n",
       "Castle Time Minutes         24         24       23       24       23   \n",
       "Castle Time Seconds          0          0        0        0        0   \n",
       "Imperial Time Hours          0          0        0        0        0   \n",
       "Imperial Time Minutes       40         39       39       39       39   \n",
       "Imperial Time Seconds        0          0        0        0        0   \n",
       "Game Length Hours            0          0        0        0        0   \n",
       "Game Length Minutes         40         42       41       39       41   \n",
       "Game Length Seconds          0          0        0        0        0   \n",
       "\n",
       "Civilization          Ethiopians Portuguese  Teutons Persians  Burmese  \n",
       "Win Rate                   50.47      40.52    49.97    50.62    48.73  \n",
       "Play Rate                   5.64       5.62     6.97     6.69     5.65  \n",
       "Score                       6004       5834     6401     6675     6331  \n",
       "Research                      21         19       21       21       21  \n",
       "Feudal Time              0:11:12    0:11:10  0:11:07  0:10:54  0:11:04  \n",
       "Castle Time              0:24:15    0:24:10  0:23:44  0:23:05  0:23:40  \n",
       "Imperial Time            0:39:26    0:40:07  0:39:53  0:38:23  0:39:29  \n",
       "Game Length              0:40:07    0:40:11  0:41:45  0:41:55  0:41:10  \n",
       "Feudal Time Hours              0          0        0        0        0  \n",
       "Feudal Time Minutes           11         11       11       10       11  \n",
       "Feudal Time Seconds            0          0        0        0        0  \n",
       "Castle Time Hours              0          0        0        0        0  \n",
       "Castle Time Minutes           24         24       23       23       23  \n",
       "Castle Time Seconds            0          0        0        0        0  \n",
       "Imperial Time Hours            0          0        0        0        0  \n",
       "Imperial Time Minutes         39         40       39       38       39  \n",
       "Imperial Time Seconds          0          0        0        0        0  \n",
       "Game Length Hours              0          0        0        0        0  \n",
       "Game Length Minutes           40         40       41       41       41  \n",
       "Game Length Seconds            0          0        0        0        0  "
      ]
     },
     "execution_count": 4,
     "metadata": {},
     "output_type": "execute_result"
    }
   ],
   "source": [
    "\n",
    "import pandas as pd\n",
    "\n",
    "html_dir = os.path.join(DATA_FOLDER, 'html')\n",
    "html_path = os.path.join(html_dir, 'aoestats.io_stats.html')\n",
    "win_rate_df = pd.read_html(html_path)[0]\n",
    "win_rate_df.set_index('Civilization', drop=True, inplace=True)\n",
    "for column_name in ['Win Rate', 'Play Rate']:\n",
    "    win_rate_df[column_name] = win_rate_df[column_name].map(lambda x: float(x.split('%')[0]))\n",
    "\n",
    "def get_hours(x):\n",
    "    \n",
    "    return int(x.split(':')[0])\n",
    "\n",
    "def get_minutes(x):\n",
    "    \n",
    "    return int(x.split(':')[1])\n",
    "\n",
    "def get_seconds(x):\n",
    "    \n",
    "    return int(x.split(':')[0])\n",
    "    \n",
    "for column_name in ['Feudal Time', 'Castle Time', 'Imperial Time', 'Game Length']:\n",
    "    win_rate_df['{} Hours'.format(column_name)] = win_rate_df[column_name].map(get_hours)\n",
    "    win_rate_df['{} Minutes'.format(column_name)] = win_rate_df[column_name].map(get_minutes)\n",
    "    win_rate_df['{} Seconds'.format(column_name)] = win_rate_df[column_name].map(get_seconds)\n",
    "win_rate_df.sample(10).T"
   ]
  },
  {
   "cell_type": "code",
   "execution_count": 5,
   "metadata": {},
   "outputs": [
    {
     "data": {
      "text/plain": [
       "Index(['Win Rate', 'Play Rate', 'Score', 'Research', 'Feudal Time',\n",
       "       'Castle Time', 'Imperial Time', 'Game Length', 'Feudal Time Hours',\n",
       "       'Feudal Time Minutes', 'Feudal Time Seconds', 'Castle Time Hours',\n",
       "       'Castle Time Minutes', 'Castle Time Seconds', 'Imperial Time Hours',\n",
       "       'Imperial Time Minutes', 'Imperial Time Seconds', 'Game Length Hours',\n",
       "       'Game Length Minutes', 'Game Length Seconds'],\n",
       "      dtype='object')"
      ]
     },
     "execution_count": 5,
     "metadata": {},
     "output_type": "execute_result"
    }
   ],
   "source": [
    "\n",
    "win_rate_df.columns"
   ]
  },
  {
   "cell_type": "code",
   "execution_count": 6,
   "metadata": {},
   "outputs": [
    {
     "data": {
      "text/plain": [
       "Index(['Aztecs', 'Berbers', 'Britons', 'Burmese', 'Byzantines', 'Celts',\n",
       "       'Chinese', 'Ethiopians', 'Franks', 'Goths', 'Huns', 'Incas', 'Indians',\n",
       "       'Italians', 'Japanese', 'Khmer', 'Koreans', 'Magyars', 'Malay',\n",
       "       'Malians', 'Mayans', 'Mongols', 'Persians', 'Portuguese', 'Saracens',\n",
       "       'Slavs', 'Spanish', 'Teutons', 'Turks', 'Vietnamese', 'Vikings'],\n",
       "      dtype='object', name='Civilization')"
      ]
     },
     "execution_count": 6,
     "metadata": {},
     "output_type": "execute_result"
    }
   ],
   "source": [
    "\n",
    "win_rate_df.index"
   ]
  },
  {
   "cell_type": "code",
   "execution_count": 7,
   "metadata": {},
   "outputs": [
    {
     "name": "stdout",
     "output_type": "stream",
     "text": [
      "Saving to C:\\Users\\dev\\Documents\\repositories\\notebooks\\age-of-empires-ii\\data\\csv\\win_rate_df.csv\n",
      "Saving to C:\\Users\\dev\\Documents\\repositories\\notebooks\\age-of-empires-ii\\saves\\csv\\win_rate_df.csv\n",
      "Saving to C:\\Users\\dev\\Documents\\repositories\\notebooks\\age-of-empires-ii\\data\\xlsx\\win_rate_df.xlsx\n"
     ]
    }
   ],
   "source": [
    "\n",
    "columns_list = win_rate_df.columns\n",
    "file_path = os.path.join(DATA_CSV_FOLDER, 'win_rate_df.csv')\n",
    "print('Saving to {}'.format(os.path.abspath(file_path)))\n",
    "win_rate_df[columns_list].to_csv(file_path)\n",
    "save_dataframes(include_index=True, win_rate_df=win_rate_df[columns_list])\n",
    "xlsx_folder = os.path.join(DATA_FOLDER, 'xlsx')\n",
    "os.makedirs(name=xlsx_folder, exist_ok=True)\n",
    "file_path = os.path.join(xlsx_folder, 'win_rate_df.xlsx')\n",
    "print('Saving to {}'.format(os.path.abspath(file_path)))\n",
    "win_rate_df[columns_list].to_excel(file_path)"
   ]
  },
  {
   "cell_type": "code",
   "execution_count": 8,
   "metadata": {},
   "outputs": [
    {
     "name": "stdout",
     "output_type": "stream",
     "text": [
      "Attempting to load C:\\Users\\dev\\Documents\\repositories\\notebooks\\age-of-empires-ii\\saves\\pickle\\civilization_bonuses_df.pickle.\n",
      "No pickle exists - attempting to load C:\\Users\\dev\\Documents\\repositories\\notebooks\\age-of-empires-ii\\saves\\csv\\civilization_bonuses_df.csv.\n"
     ]
    }
   ],
   "source": [
    "\n",
    "index_name = 'Bonus Name'\n",
    "dataframes_dict = load_dataframes(civilization_bonuses_df='civilization_bonuses_df')\n",
    "civilization_bonuses_df = dataframes_dict['civilization_bonuses_df']\n",
    "if 'Unnamed: 0' in civilization_bonuses_df.columns:\n",
    "    civilization_bonuses_df = civilization_bonuses_df.set_index('Unnamed: 0')\n",
    "elif index_name in civilization_bonuses_df.columns:\n",
    "    civilization_bonuses_df = civilization_bonuses_df.set_index(index_name)\n",
    "civilization_bonuses_df.index.name = index_name"
   ]
  },
  {
   "cell_type": "code",
   "execution_count": 9,
   "metadata": {},
   "outputs": [
    {
     "data": {
      "text/plain": [
       "Index(['Aztecs', 'Berbers', 'Britons', 'Burmese', 'Byzantines', 'Celts',\n",
       "       'Chinese', 'Ethiopians', 'Franks', 'Goths', 'Huns', 'Incas', 'Indians',\n",
       "       'Italians', 'Japanese', 'Khmer', 'Koreans', 'Magyars', 'Malay',\n",
       "       'Malians', 'Mayans', 'Mongols', 'Persians', 'Portuguese', 'Saracens',\n",
       "       'Slavs', 'Spanish', 'Teutons', 'Turks', 'Vietnamese', 'Vikings'],\n",
       "      dtype='object')"
      ]
     },
     "execution_count": 9,
     "metadata": {},
     "output_type": "execute_result"
    }
   ],
   "source": [
    "\n",
    "civilization_bonuses_df.columns"
   ]
  },
  {
   "cell_type": "code",
   "execution_count": 10,
   "metadata": {},
   "outputs": [
    {
     "data": {
      "text/plain": [
       "Index(['Arbalest_Attack_Range_vs_buildings_in_the_Imperial_Age',\n",
       "       'Arbalest_Attack_Range_vs_units_in_the_Imperial_Age',\n",
       "       'Arbalest_creation_speed', 'Arbalest_Gold_in_the_Imperial_Age',\n",
       "       'Arbalest_HP_rating_in_the_Castle_Age',\n",
       "       'Arbalest_HP_rating_in_the_Feudal_Age',\n",
       "       'Arbalest_HP_rating_in_the_Imperial_Age',\n",
       "       'Arbalest_Wood_in_the_Imperial_Age',\n",
       "       'Archer_Attack_Range_vs_buildings_in_the_Castle_Age',\n",
       "       'Archer_Attack_Range_vs_buildings_in_the_Imperial_Age',\n",
       "       ...\n",
       "       'Wild_Boar_per_Villager_per_Minute_to_the_Town_Center_upon_reaching_Feudal_Age',\n",
       "       'Wild_Boar_per_Villager_per_Minute_to_the_Town_Center_upon_reaching_Imperial_Age',\n",
       "       'Woad_Raider_gold_cost', 'Woad_Raider_move_Speed', 'Wonder_build_time',\n",
       "       'Wonder_cost_in_stone', 'Wonder_cost_in_wood',\n",
       "       'Wonder_HP_upon_reaching_Imperial_Age', 'Wood_consumption_rate',\n",
       "       'Wood_stockpile_at_start_of_game'],\n",
       "      dtype='object', name='Bonus Name', length=1312)"
      ]
     },
     "execution_count": 10,
     "metadata": {},
     "output_type": "execute_result"
    }
   ],
   "source": [
    "\n",
    "civilization_bonuses_df.index"
   ]
  },
  {
   "cell_type": "code",
   "execution_count": 11,
   "metadata": {},
   "outputs": [
    {
     "data": {
      "text/plain": [
       "set()"
      ]
     },
     "execution_count": 11,
     "metadata": {},
     "output_type": "execute_result"
    }
   ],
   "source": [
    "\n",
    "# New set with columns common to win_rate_df and civilization_bonuses_df\n",
    "set.intersection(set(win_rate_df.columns), set(civilization_bonuses_df.columns))"
   ]
  },
  {
   "cell_type": "code",
   "execution_count": 12,
   "metadata": {},
   "outputs": [],
   "source": [
    "\n",
    "# New list with elements common to win_rate_df indexes and civilization_bonuses_df columns\n",
    "columns_list = list(set.intersection(set(win_rate_df.index), set(civilization_bonuses_df.columns)))\n",
    "merge_df = pd.merge(left=win_rate_df, right=civilization_bonuses_df.T, left_index=True,\n",
    "                    right_index=True, suffixes=('_win_rate', '_civilization_bonuses'))"
   ]
  },
  {
   "cell_type": "code",
   "execution_count": 13,
   "metadata": {},
   "outputs": [
    {
     "data": {
      "text/plain": [
       "{'Indians', 'Huns', 'Teutons', 'Mongols', 'Mayans', 'Slavs', 'Aztecs', 'Byzantines', 'Persians', 'Ethiopians', 'Khmer', 'Britons', 'Koreans', 'Chinese', 'Berbers', 'Vikings', 'Italians', 'Malay', 'Portuguese', 'Malians', 'Vietnamese', 'Incas', 'Japanese', 'Saracens', 'Spanish', 'Goths', 'Magyars', 'Celts', 'Turks', 'Franks', 'Burmese'}"
      ]
     },
     "execution_count": 13,
     "metadata": {},
     "output_type": "execute_result"
    }
   ],
   "source": [
    "\n",
    "# New set with columns in the columns list common to merge dataframe index\n",
    "set.intersection(set(columns_list), set(merge_df.index))"
   ]
  },
  {
   "cell_type": "code",
   "execution_count": 14,
   "metadata": {},
   "outputs": [
    {
     "data": {
      "text/plain": [
       "Index(['Aztecs', 'Berbers', 'Britons', 'Burmese', 'Byzantines', 'Celts',\n",
       "       'Chinese', 'Ethiopians', 'Franks', 'Goths', 'Huns', 'Incas', 'Indians',\n",
       "       'Italians', 'Japanese', 'Khmer', 'Koreans', 'Magyars', 'Malay',\n",
       "       'Malians', 'Mayans', 'Mongols', 'Persians', 'Portuguese', 'Saracens',\n",
       "       'Slavs', 'Spanish', 'Teutons', 'Turks', 'Vietnamese', 'Vikings'],\n",
       "      dtype='object', name='Civilization')"
      ]
     },
     "execution_count": 14,
     "metadata": {},
     "output_type": "execute_result"
    }
   ],
   "source": [
    "\n",
    "merge_df.index"
   ]
  },
  {
   "cell_type": "code",
   "execution_count": 15,
   "metadata": {},
   "outputs": [
    {
     "data": {
      "text/plain": [
       "Index(['Win_Rate', 'Play_Rate', 'Score', 'Research', 'Feudal_Time',\n",
       "       'Castle_Time', 'Imperial_Time', 'Game_Length', 'Feudal_Time_Hours',\n",
       "       'Feudal_Time_Minutes',\n",
       "       ...\n",
       "       'Wild_Boar_per_Villager_per_Minute_to_the_Town_Center_upon_reaching_Feudal_Age',\n",
       "       'Wild_Boar_per_Villager_per_Minute_to_the_Town_Center_upon_reaching_Imperial_Age',\n",
       "       'Woad_Raider_gold_cost', 'Woad_Raider_move_Speed', 'Wonder_build_time',\n",
       "       'Wonder_cost_in_stone', 'Wonder_cost_in_wood',\n",
       "       'Wonder_HP_upon_reaching_Imperial_Age', 'Wood_consumption_rate',\n",
       "       'Wood_stockpile_at_start_of_game'],\n",
       "      dtype='object', length=1332)"
      ]
     },
     "execution_count": 15,
     "metadata": {},
     "output_type": "execute_result"
    }
   ],
   "source": [
    "\n",
    "import re\n",
    "\n",
    "merge_df.columns = [re.sub(' +', '_', cn) for cn in merge_df.columns]\n",
    "merge_df.columns"
   ]
  },
  {
   "cell_type": "code",
   "execution_count": 16,
   "metadata": {},
   "outputs": [
    {
     "data": {
      "text/plain": [
       "array(['int64', 'float64', 'object'], dtype=object)"
      ]
     },
     "execution_count": 16,
     "metadata": {},
     "output_type": "execute_result"
    }
   ],
   "source": [
    "\n",
    "column_descriptions_df = get_column_descriptions(merge_df)\n",
    "column_descriptions_df['dtype'].unique()"
   ]
  },
  {
   "cell_type": "code",
   "execution_count": 17,
   "metadata": {},
   "outputs": [
    {
     "data": {
      "text/plain": [
       "Index(['column_name', 'dtype', 'count_blanks', 'count_uniques', 'count_zeroes',\n",
       "       'has_dates', 'min_value', 'max_value', 'only_integers'],\n",
       "      dtype='object')"
      ]
     },
     "execution_count": 17,
     "metadata": {},
     "output_type": "execute_result"
    }
   ],
   "source": [
    "\n",
    "column_descriptions_df.columns"
   ]
  },
  {
   "cell_type": "code",
   "execution_count": 18,
   "metadata": {},
   "outputs": [
    {
     "data": {
      "text/plain": [
       "['Feudal_Time', 'Castle_Time', 'Imperial_Time', 'Game_Length']"
      ]
     },
     "execution_count": 18,
     "metadata": {},
     "output_type": "execute_result"
    }
   ],
   "source": [
    "\n",
    "numeric_match_series = column_descriptions_df['dtype'].isin(['int64', 'float64'])\n",
    "column_descriptions_df[~numeric_match_series]['column_name'].tolist()"
   ]
  },
  {
   "cell_type": "code",
   "execution_count": 19,
   "metadata": {},
   "outputs": [],
   "source": [
    "\n",
    "max_win_rate = merge_df['Win_Rate'].max()\n",
    "def f(row_series):\n",
    "    win_rate = row_series['Win_Rate']\n",
    "    \n",
    "    return win_rate == max_win_rate\n",
    "\n",
    "merge_df['is_winner'] = merge_df.apply(f, axis=1)"
   ]
  },
  {
   "cell_type": "code",
   "execution_count": 20,
   "metadata": {},
   "outputs": [],
   "source": [
    "\n",
    "column_name = 'is_winner'\n",
    "numeric_columns_list = column_descriptions_df[numeric_match_series]['column_name'].tolist()\n",
    "X = merge_df[numeric_columns_list].values\n",
    "y = merge_df[column_name].values"
   ]
  },
  {
   "cell_type": "markdown",
   "metadata": {},
   "source": [
    "\n",
    "# Display Feature Selection in Charts"
   ]
  },
  {
   "cell_type": "code",
   "execution_count": 23,
   "metadata": {},
   "outputs": [
    {
     "data": {
      "image/png": "[encoded data removed]",
      "text/plain": [
       "<Figure size 1296x288 with 1 Axes>"
      ]
     },
     "metadata": {
      "needs_background": "light"
     },
     "output_type": "display_data"
    }
   ],
   "source": [
    "\n",
    "from sklearn.ensemble import RandomForestClassifier, RandomForestRegressor\n",
    "import matplotlib.pyplot as plt\n",
    "%matplotlib inline\n",
    "\n",
    "regr = RandomForestClassifier(max_depth=None, n_estimators=100, criterion='entropy')\n",
    "regr.fit(X, y)\n",
    "importance_tuple_list = sorted([(cn, ci) for cn,\n",
    "                                ci in zip(numeric_columns_list,\n",
    "                                          regr.feature_importances_) if ci > 0.0],\n",
    "                               key=lambda x: x[1], reverse=True)[:6]\n",
    "plt.figure(figsize=(18, 4))\n",
    "barcontainer_obj = plt.bar(range(len(importance_tuple_list)),\n",
    "                           [ci for cn, ci in importance_tuple_list])\n",
    "xticklabel_obj_list = plt.xticks(range(len(importance_tuple_list)),\n",
    "                                 [cn for cn, ci in importance_tuple_list], rotation=45)\n",
    "title_text = plt.title('Random Forest Feature Importance')"
   ]
  },
  {
   "cell_type": "markdown",
   "metadata": {},
   "source": [
    "\n",
    "# Univariate Selection\n",
    "\n",
    "Statistical tests can be used to select those features that have the strongest relationship with the output variable.\n",
    "\n",
    "The scikit-learn library provides the SelectKBest class that can be used with a suite of different statistical tests to select a specific number of features.\n",
    "\n",
    "The example below uses the chi squared ($\\chi^2$) statistical test for non-negative features to select six of the best features from the A0E2 Civilization Bonuses dataset."
   ]
  },
  {
   "cell_type": "code",
   "execution_count": 26,
   "metadata": {},
   "outputs": [
    {
     "data": {
      "image/png": "[encoded data removed]",
      "text/plain": [
       "<Figure size 1296x288 with 1 Axes>"
      ]
     },
     "metadata": {
      "needs_background": "light"
     },
     "output_type": "display_data"
    }
   ],
   "source": [
    "\n",
    "# Feature Extraction with Univariate Statistical Tests (Chi-squared for classification)\n",
    "import numpy\n",
    "from sklearn.feature_selection import SelectKBest\n",
    "from sklearn.feature_selection import chi2\n",
    "\n",
    "# feature extraction\n",
    "kbest = SelectKBest(score_func=chi2, k=6)\n",
    "fit = kbest.fit(X, y)\n",
    "importance_tuple_list = sorted([(cn, ci) for cn,\n",
    "                                ci in zip(numeric_columns_list, fit.scores_) if ci > 0.0],\n",
    "                               key=lambda x: x[1], reverse=True)[:6]\n",
    "plt.figure(figsize=(18, 4))\n",
    "barcontainer_obj = plt.bar(range(len(importance_tuple_list)),\n",
    "                           [ci for cn, ci in importance_tuple_list])\n",
    "xticklabel_obj_list = plt.xticks(range(len(importance_tuple_list)),\n",
    "                                 [cn for cn, ci in importance_tuple_list], rotation=45)\n",
    "title_text = plt.title('Chi-squared Feature Importance')"
   ]
  },
  {
   "cell_type": "markdown",
   "metadata": {},
   "source": [
    "\n",
    "# Recursive Feature Elimination\n",
    "\n",
    "The Recursive Feature Elimination (or RFE) works by recursively removing attributes and building a model on those attributes that remain.\n",
    "\n",
    "It uses the model accuracy to identify which attributes (and combination of attributes) contribute the most to predicting the target attribute.\n",
    "\n",
    "The example below uses RFE with the logistic regression algorithm to select the top six features. The choice of algorithm does not matter too much as long as it is skillful and consistent."
   ]
  },
  {
   "cell_type": "code",
   "execution_count": 32,
   "metadata": {
    "scrolled": false
   },
   "outputs": [
    {
     "name": "stdout",
     "output_type": "stream",
     "text": [
      "Logistic Regression Feature Importance\n",
      "The selected features are: Castle cost in stone, Crop Rotation cost in Food, Crop Rotation cost in Wood, Heavy Plow cost in Food in the Castle Age, Heavy Plow cost in Wood in the Castle Age, and Heavy Plow cost in Wood in the Imperial Age.\n"
     ]
    }
   ],
   "source": [
    "\n",
    "from sklearn.feature_selection import RFE\n",
    "from sklearn.linear_model import LogisticRegression\n",
    "import re\n",
    "\n",
    "# Feature Extraction with RFE\n",
    "estimator = LogisticRegression(solver='lbfgs')\n",
    "rfe = RFE(estimator, n_features_to_select=6, step=1, verbose=0)\n",
    "fit = rfe.fit(X, y)\n",
    "print('Logistic Regression Feature Importance')\n",
    "selected_features_list = list(cn for cn, cb in zip(numeric_columns_list, fit.support_) if cb)\n",
    "features_list = [re.sub('_', ' ', ft) for ft in selected_features_list]\n",
    "list_str = ', and '.join([', '.join(features_list[:-1])] + [features_list[-1]])\n",
    "print('The most important civilization bonuses are: {}.'.format(list_str))"
   ]
  },
  {
   "cell_type": "code",
   "execution_count": 33,
   "metadata": {},
   "outputs": [
    {
     "data": {
      "text/plain": [
       "(31, 1333)"
      ]
     },
     "execution_count": 33,
     "metadata": {},
     "output_type": "execute_result"
    }
   ],
   "source": [
    "\n",
    "merge_df.shape"
   ]
  },
  {
   "cell_type": "markdown",
   "metadata": {},
   "source": [
    "\n",
    "# Feature Importance\n",
    "\n",
    "Bagged decision trees like Random Forest and Extra Trees can be used to estimate the importance of features.\n",
    "\n",
    "In the example below we construct a ExtraTreesClassifier classifier for the AoE2 Civilization Bonuses dataset."
   ]
  },
  {
   "cell_type": "code",
   "execution_count": 128,
   "metadata": {},
   "outputs": [],
   "source": [
    "\n",
    "column_name = 'is_winner'\n",
    "numeric_columns_list = column_descriptions_df[numeric_match_series]['column_name'].tolist()\n",
    "X = merge_df[numeric_columns_list].values\n",
    "y = merge_df[column_name].values"
   ]
  },
  {
   "cell_type": "code",
   "execution_count": 129,
   "metadata": {},
   "outputs": [
    {
     "data": {
      "image/png": "[encoded data removed]",
      "text/plain": [
       "<Figure size 1296x288 with 1 Axes>"
      ]
     },
     "metadata": {
      "needs_background": "light"
     },
     "output_type": "display_data"
    }
   ],
   "source": [
    "\n",
    "# Feature Importance with Extra Trees Classifier\n",
    "from sklearn.ensemble import ExtraTreesClassifier\n",
    "\n",
    "# feature extraction\n",
    "model = ExtraTreesClassifier(max_depth=None, n_estimators=100, criterion='entropy')\n",
    "model.fit(X, y)\n",
    "importance_tuple_list = sorted([(cn, ci) for cn,\n",
    "                                ci in zip(columns_list, model.feature_importances_) if ci > 0.0],\n",
    "                               key=lambda x: x[1], reverse=True)[:6]\n",
    "plt.figure(figsize=(18, 4))\n",
    "barcontainer_obj = plt.bar(range(len(importance_tuple_list)),\n",
    "                           [ci for cn, ci in importance_tuple_list])\n",
    "xticklabel_obj_list = plt.xticks(range(len(importance_tuple_list)),\n",
    "                                 [cn for cn, ci in importance_tuple_list], rotation=45)\n",
    "title_text = plt.title('Extra Trees Feature Importance')"
   ]
  },
  {
   "cell_type": "markdown",
   "metadata": {},
   "source": [
    "\n",
    "# Principal Component Analysis\n",
    "\n",
    "Principal Component Analysis (or PCA) uses linear algebra to transform the dataset into a compressed form.\n",
    "\n",
    "Generally this is called a data reduction technique. A property of PCA is that you can choose the number of dimensions or principal component in the transformed result.\n",
    "\n",
    "In the examples below, we use PCA and select two principal components and display it on 2D scatterplots."
   ]
  },
  {
   "cell_type": "code",
   "execution_count": 102,
   "metadata": {},
   "outputs": [
    {
     "data": {
      "image/png": "[encoded data removed]",
      "text/plain": [
       "<Figure size 1296x288 with 1 Axes>"
      ]
     },
     "metadata": {
      "needs_background": "light"
     },
     "output_type": "display_data"
    }
   ],
   "source": [
    "\n",
    "from sklearn.decomposition import PCA\n",
    "from sklearn.cluster import DBSCAN\n",
    "\n",
    "pca_ndarray = PCA(n_components=2).fit_transform(X)\n",
    "db = DBSCAN(eps=700, min_samples=0.5).fit(pca_ndarray)\n",
    "labels = db.labels_\n",
    "fig = plt.figure(figsize=(18, 4))\n",
    "ax = fig.add_subplot(111, autoscale_on=True)\n",
    "cmap = plt.get_cmap('viridis_r')\n",
    "path_collection = ax.scatter(pca_ndarray[:, 0], pca_ndarray[:, 1],\n",
    "                             c=labels, edgecolors=(0, 0, 0), cmap=cmap)\n",
    "kwargs = dict(textcoords='offset points', ha='left', va='bottom',\n",
    "              bbox=dict(boxstyle='round,pad=0.5', fc='yellow', alpha=0.5),\n",
    "              arrowprops=dict(arrowstyle='->', connectionstyle='arc3,rad=0'))\n",
    "for col, label, x, y in zip(labels, merge_df.index,\n",
    "                            pca_ndarray[:, 0], pca_ndarray[:, 1]):\n",
    "    if (label == 'Franks'):\n",
    "        annotation = plt.annotate(label, xy=(x, y), xytext=(20, 10), **kwargs)\n",
    "    elif (col == 1):\n",
    "        annotation = plt.annotate(label, xy=(x, y), xytext=(-10, 20), **kwargs)\n",
    "    elif (col == 2):\n",
    "        annotation = plt.annotate(label, xy=(x, y), xytext=(-10, 20), **kwargs)\n",
    "    elif (col == 3):\n",
    "        annotation = plt.annotate(label, xy=(x, y), xytext=(-10, 20), **kwargs)\n",
    "    elif (col == 4):\n",
    "        annotation = plt.annotate(label, xy=(x, y), xytext=(-10, 20), **kwargs)\n",
    "title_text = 'Dimension Reduced Scatterplot of the AoE2 '\n",
    "title_text += 'Civilization Bonus Fields'\n",
    "text = plt.title(title_text)"
   ]
  },
  {
   "cell_type": "code",
   "execution_count": 107,
   "metadata": {},
   "outputs": [],
   "source": [
    "\n",
    "column_name = 'is_winner'\n",
    "important_columns_list = [cn for (cn, ci) in importance_tuple_list]\n",
    "X = merge_df[important_columns_list].values\n",
    "y = merge_df[column_name].values"
   ]
  },
  {
   "cell_type": "code",
   "execution_count": 127,
   "metadata": {},
   "outputs": [
    {
     "data": {
      "image/png": "[encoded data removed]",
      "text/plain": [
       "<Figure size 1296x288 with 1 Axes>"
      ]
     },
     "metadata": {
      "needs_background": "light"
     },
     "output_type": "display_data"
    }
   ],
   "source": [
    "\n",
    "from sklearn.decomposition import PCA\n",
    "from sklearn.cluster import DBSCAN\n",
    "\n",
    "pca_ndarray = PCA(n_components=2).fit_transform(X)\n",
    "db = DBSCAN(eps=0.7, min_samples=0.5).fit(pca_ndarray)\n",
    "labels = db.labels_\n",
    "fig = plt.figure(figsize=(18, 4))\n",
    "ax = fig.add_subplot(111, autoscale_on=True)\n",
    "cmap = plt.get_cmap('viridis_r')\n",
    "path_collection = ax.scatter(pca_ndarray[:, 0], pca_ndarray[:, 1],\n",
    "                             c=labels, edgecolors=(0, 0, 0), alpha=0.5, cmap=cmap)\n",
    "kwargs = dict(textcoords='offset points', ha='left', va='bottom',\n",
    "              bbox=dict(boxstyle='round,pad=0.5', fc='yellow', alpha=0.5),\n",
    "              arrowprops=dict(arrowstyle='->', connectionstyle='arc3,rad=0'))\n",
    "for col, label, x, y in zip(labels, merge_df.index,\n",
    "                            pca_ndarray[:, 0], pca_ndarray[:, 1]):\n",
    "    if (label == 'Franks'):\n",
    "        annotation = plt.annotate(label, xy=(x, y), xytext=(20, 10), **kwargs)\n",
    "    elif (col == 1):\n",
    "        annotation = plt.annotate(label, xy=(x, y), xytext=(-10, 20), **kwargs)\n",
    "    elif (col == 2):\n",
    "        annotation = plt.annotate(label, xy=(x, y), xytext=(-10, 20), **kwargs)\n",
    "    elif (col == 3):\n",
    "        annotation = plt.annotate(label, xy=(x, y), xytext=(-10, 20), **kwargs)\n",
    "title_text = 'Dimension Reduced Scatterplot of the Important AoE2 '\n",
    "title_text += 'Civilization Bonus Fields'\n",
    "text = plt.title(title_text)"
   ]
  },
  {
   "cell_type": "code",
   "execution_count": 37,
   "metadata": {},
   "outputs": [
    {
     "name": "stderr",
     "output_type": "stream",
     "text": [
      "UsageError: Line magic function `%%javascript` not found.\n"
     ]
    }
   ],
   "source": [
    "\n",
    "%%javascript\n",
    "var kernel = IPython.notebook.kernel;\n",
    "var body = document.body,  \n",
    "    attribs = body.attributes;\n",
    "var command = \"notebook_path = \" + \"'\"+attribs['data-notebook-path'].value+\"'\";\n",
    "kernel.execute(command);"
   ]
  },
  {
   "cell_type": "code",
   "execution_count": 125,
   "metadata": {},
   "outputs": [
    {
     "data": {
      "text/plain": [
       "0    28\n",
       "3     1\n",
       "2     1\n",
       "1     1\n",
       "dtype: int64"
      ]
     },
     "execution_count": 125,
     "metadata": {},
     "output_type": "execute_result"
    }
   ],
   "source": [
    "\n",
    "from IPython.display import HTML\n",
    "\n",
    "notebook_viewer_url = 'https://nbviewer.jupyter.org/github/dbabbitt/notebooks/blob/master/'\n",
    "notebook_viewer_url += '/'.join(notebook_path.split('/')[1:])\n",
    "message_str = 'Click <a href=\"{}\" target=\"_blank\">here</a> to view notebook in nbviewer.'\n",
    "HTML(message_str.format(notebook_viewer_url))"
   ]
  },
  {
   "cell_type": "code",
   "execution_count": null,
   "metadata": {},
   "outputs": [],
   "source": []
  }
 ],
 "metadata": {
  "kernelspec": {
   "display_name": "Python 3",
   "language": "python",
   "name": "python3"
  },
  "language_info": {
   "codemirror_mode": {
    "name": "ipython",
    "version": 3
   },
   "file_extension": ".py",
   "mimetype": "text/x-python",
   "name": "python",
   "nbconvert_exporter": "python",
   "pygments_lexer": "ipython3",
   "version": "3.6.8"
  }
 },
 "nbformat": 4,
 "nbformat_minor": 2
}
