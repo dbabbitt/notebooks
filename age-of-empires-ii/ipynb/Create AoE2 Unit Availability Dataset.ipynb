{
 "cells": [
  {
   "cell_type": "code",
   "execution_count": 1,
   "metadata": {},
   "outputs": [
    {
     "name": "stdout",
     "output_type": "stream",
     "text": [
      "DATA_FOLDER: ../data/\n",
      "SAVES_FOLDER: ../saves/\n",
      "Pretty printing has been turned OFF\n",
      "BeautifulSoup\t DATA_CSV_FOLDER\t DATA_FOLDER\t ENCODING_TYPE\t SAVES_CSV_FOLDER\t SAVES_FOLDER\t SAVES_PICKLE_FOLDER\t attempt_to_pickle\t example_iterrows\t \n",
      "get_column_descriptions\t load_csv\t load_dataframes\t load_object\t math\t os\t pd\t pickle\t re\t \n",
      "save_dataframes\t store_objects\t sys\t urllib\t \n"
     ]
    }
   ],
   "source": [
    "\n",
    "%run ../../load_magic/storage.py\n",
    "%run ../../load_magic/dataframes.py\n",
    "import urllib.request\n",
    "import re\n",
    "from bs4 import BeautifulSoup\n",
    "%pprint\n",
    "%who"
   ]
  },
  {
   "cell_type": "markdown",
   "metadata": {},
   "source": [
    "\n",
    "# Scraping the Availability Stats"
   ]
  },
  {
   "cell_type": "code",
   "execution_count": 2,
   "metadata": {},
   "outputs": [
    {
     "name": "stdout",
     "output_type": "stream",
     "text": [
      "https://ageofempires.fandom.com/wiki/Age_of_Empires_II:_The_Age_of_Kings\n"
     ]
    }
   ],
   "source": [
    "\n",
    "wiki_url = 'https://ageofempires.fandom.com/wiki/'\n",
    "summary_box_url = '{}Age_of_Empires_II:_The_Age_of_Kings'.format(wiki_url)\n",
    "print(summary_box_url)\n",
    "with urllib.request.urlopen(summary_box_url) as response:\n",
    "    summary_box_html = response.read()\n",
    "summary_box_soup = BeautifulSoup(summary_box_html, 'html.parser')\n",
    "content_text_selector = '#mw-content-text'\n",
    "content_text_div = summary_box_soup.select(content_text_selector)[0]\n",
    "children_list = list(content_text_div.children)\n",
    "for child in children_list:\n",
    "    if child.name == 'table':\n",
    "        summary_box_table = child"
   ]
  },
  {
   "cell_type": "code",
   "execution_count": 3,
   "metadata": {},
   "outputs": [],
   "source": [
    "\n",
    "tr_soup_dict = {}\n",
    "tr_list = []\n",
    "th_list = ['The Age of Kings', 'Infantry', 'Archers', 'Cavalry', 'Siege', 'Navy', 'Unique',\n",
    "           'The Conquerors', 'The Forgotten', 'The African Kingdoms', 'Rise of the Rajas']\n",
    "military_units_list = ['Infantry', 'Archers', 'Cavalry', 'Siege', 'Navy', 'Unique']\n",
    "heading_list = []\n",
    "for summary_box_th in summary_box_table.find_all('th'):\n",
    "    for heading in th_list:\n",
    "        if heading in summary_box_th.text:\n",
    "            tr_soup_dict[heading] = summary_box_th.parent\n",
    "            if heading in military_units_list:\n",
    "                tr_list.append(tr_soup_dict[heading])\n",
    "            else:\n",
    "                tr_list.append(tr_soup_dict[heading].next_sibling)\n",
    "            heading_list.append(heading)"
   ]
  },
  {
   "cell_type": "code",
   "execution_count": 4,
   "metadata": {},
   "outputs": [],
   "source": [
    "\n",
    "def get_link_html(link):\n",
    "    link_url = 'https://ageofempires.fandom.com{}'.format(link['href'])\n",
    "    if '_(Age_of_Empires_II)' in link_url:\n",
    "        with urllib.request.urlopen(link_url) as response:\n",
    "            link_html = response.read()\n",
    "    else:\n",
    "        try:\n",
    "            extended_link_url = '{}_(Age_of_Empires_II)'.format(link_url)\n",
    "            with urllib.request.urlopen(extended_link_url) as response:\n",
    "                link_html = response.read()\n",
    "            link_url = extended_link_url\n",
    "        except:\n",
    "            with urllib.request.urlopen(link_url) as response:\n",
    "                link_html = response.read()\n",
    "    \n",
    "    return link_url, link_html"
   ]
  },
  {
   "cell_type": "code",
   "execution_count": 5,
   "metadata": {},
   "outputs": [],
   "source": [
    "\n",
    "def process_all_except(appl_civ_text, row_dict):\n",
    "    for civ_name in civ_name_list:\n",
    "        if civ_name in appl_civ_text:\n",
    "            row_dict[civ_name] = 0\n",
    "        else:\n",
    "            row_dict[civ_name] = 1\n",
    "    \n",
    "    return row_dict"
   ]
  },
  {
   "cell_type": "code",
   "execution_count": 6,
   "metadata": {},
   "outputs": [],
   "source": [
    "\n",
    "def process_article(art_table_list, row_dict):\n",
    "    art_table = art_table_list[0]\n",
    "    art_ul_list = art_table.find_all('ul')\n",
    "    assert len(art_ul_list) == 2\n",
    "\n",
    "    # Get available civs\n",
    "    available_ul = art_ul_list[0]\n",
    "    for link in available_ul.find_all('a'):\n",
    "        civ_name = link['title'].split('(')[0].strip()\n",
    "        row_dict[civ_name] = 1\n",
    "\n",
    "    # Get unavailable civs\n",
    "    unavailable_ul = art_ul_list[1]\n",
    "    for link in unavailable_ul.find_all('a'):\n",
    "        civ_name = link['title'].split('(')[0].strip()\n",
    "        row_dict[civ_name] = 0\n",
    "\n",
    "    return row_dict"
   ]
  },
  {
   "cell_type": "code",
   "execution_count": 7,
   "metadata": {},
   "outputs": [],
   "source": [
    "\n",
    "space_regex = re.compile(r'\\s+')\n",
    "def process_small_list_of_units(appl_civ_text, row_dict):\n",
    "    appl_civ_list = space_regex.split(appl_civ_text)\n",
    "    for civ_name in civ_name_list:\n",
    "        row_dict[civ_name] = 0\n",
    "    for civ_name in appl_civ_list:\n",
    "        if civ_name in civ_name_list:\n",
    "            row_dict[civ_name] = 1\n",
    "    \n",
    "    return row_dict"
   ]
  },
  {
   "cell_type": "code",
   "execution_count": 8,
   "metadata": {},
   "outputs": [],
   "source": [
    "\n",
    "toc_selector = '#toc'\n",
    "def process_exceptions(link_soup, row_dict):\n",
    "    desc_p_list = link_soup.select(toc_selector)\n",
    "    if len(desc_p_list):\n",
    "        for sib in desc_p_list[0].previous_siblings:\n",
    "            if 'available to all civilizations except for' in str(sib):\n",
    "                break\n",
    "        process_all_except(sib.text.strip(), row_dict)\n",
    "    \n",
    "    return row_dict"
   ]
  },
  {
   "cell_type": "code",
   "execution_count": 9,
   "metadata": {},
   "outputs": [],
   "source": [
    "\n",
    "article_selector = '#mw-content-text > table.article-table'\n",
    "def process_unit(link_soup, appl_civ_text, row_dict):\n",
    "    for column_name in civ_name_list:\n",
    "        columns_set.add(column_name)\n",
    "    if 'All civilizations' in appl_civ_text:\n",
    "        for civ_name in civ_name_list:\n",
    "            row_dict[civ_name] = 1\n",
    "    elif 'All except ' in appl_civ_text:\n",
    "        row_dict = process_all_except(appl_civ_text, row_dict)\n",
    "    elif 'See ' in appl_civ_text:\n",
    "        art_table_list = link_soup.select(article_selector)\n",
    "        if len(art_table_list):\n",
    "            row_dict = process_article(art_table_list, row_dict)\n",
    "        else:\n",
    "            row_dict = process_exceptions(link_soup, row_dict)\n",
    "    else:\n",
    "        row_dict = process_small_list_of_units(appl_civ_text, row_dict)\n",
    "    \n",
    "    return row_dict"
   ]
  },
  {
   "cell_type": "code",
   "execution_count": 10,
   "metadata": {},
   "outputs": [
    {
     "data": {
      "text/plain": [
       "{'A': 'Age', 'HP': 'Hit points', 'Ga': 'Garrison capacity', 'Ar': 'Armor', 'PA': 'Pierce armor', 'LOS': 'Line of Sight', 'Ra': 'Range', 'At': 'Attack', 'W': 'Wood cost', 'S': 'Stone cost', 'G': 'Gold cost', 'CT': 'Construction time in seconds', 'Sz': 'Size in tiles', 'Type': 'Type', 'Intro': 'Introduced in', 'Available': 'Civilization', 'Age': 'Age', 'Time': 'Construction time', 'Use': 'Use', 'Wood': 'Wood', 'Stone': 'Stone', 'Size': 'Size', 'Garrison': 'Garrison', 'Attack': 'Attack', 'BAttack': 'Attack bonuses', 'ROF': 'Rate of Fire', 'Range': 'Range', 'Accuracy': 'Accuracy', 'PSpeed': 'Projectile speed', 'Armor': 'Melee armor', 'PArmor': 'Pierce armor', 'Class': 'Armor classes', 'Required': 'Required building', 'Next': 'Required for', 'MinRange': 'Minimum range', 'UpTo': 'Upgraded to', 'UpCost': 'Upgrade cost', 'UpTime': 'Upgrade time', 'UpFrom': 'Upgraded from', 'Gold': 'Gold', 'Research': 'Required research'}"
      ]
     },
     "execution_count": 10,
     "metadata": {},
     "output_type": "execute_result"
    }
   ],
   "source": [
    "\n",
    "aside_columns_dict = load_object('building_columns_dict')\n",
    "aside_columns_dict"
   ]
  },
  {
   "cell_type": "code",
   "execution_count": 11,
   "metadata": {},
   "outputs": [],
   "source": [
    "\n",
    "def consume_aside(unit_soup, row_dict):\n",
    "    aside_list = unit_soup.select('#mw-content-text > aside')\n",
    "    for aside_soup in aside_list:\n",
    "        for data_source_div in aside_soup.find_all('div', {'data-source': True}):\n",
    "            data_source_h3_list = data_source_div.find_all('h3')\n",
    "            if len(data_source_h3_list):\n",
    "                h3_siblings_list = list(data_source_h3_list[0].next_siblings)\n",
    "                if len(h3_siblings_list):\n",
    "                    column_name = data_source_div['data-source']\n",
    "                    full_name = data_source_div.find_all('h3')[0]\n",
    "                    link_list = full_name.find_all('a')\n",
    "                    if len(link_list):\n",
    "                        full_name = link_list[0].text\n",
    "                    else:\n",
    "                        full_name = full_name.text\n",
    "                    aside_columns_dict[column_name] = full_name\n",
    "                    value_list = list(h3_siblings_list[1].strings)\n",
    "                    column_value = ' '.join(x.strip() for x in value_list)\n",
    "                    if column_name == 'Civilization':\n",
    "                        row_dict = process_unit(unit_soup, column_value, row_dict)\n",
    "                    else:\n",
    "                        columns_set.add(column_name)\n",
    "                        row_dict[column_name] = column_value\n",
    "    \n",
    "    return row_dict"
   ]
  },
  {
   "cell_type": "code",
   "execution_count": 12,
   "metadata": {},
   "outputs": [],
   "source": [
    "\n",
    "appl_civ_selector = '#mw-content-text > aside > section > div[data-source=\"Civilization\"] > div'\n",
    "title_selector = '#PageHeader > div.page-header__main > h1'\n",
    "def get_unit_pages(soup, heading):\n",
    "    for link in soup.find_all('a'):\n",
    "        unit_row_dict = {'Heading': heading}\n",
    "        unit_url, unit_html = get_link_html(link)\n",
    "        unit_soup = BeautifulSoup(unit_html, 'html.parser')\n",
    "        unit_title = unit_soup.select(title_selector)[0].string.split('(')[0].strip()\n",
    "        index_list.append(unit_title)\n",
    "        rows_list.append(consume_aside(unit_soup, unit_row_dict))"
   ]
  },
  {
   "cell_type": "code",
   "execution_count": 13,
   "metadata": {},
   "outputs": [],
   "source": [
    "\n",
    "civ_name_list = sorted(load_object('civ_list'))\n",
    "rows_list = []\n",
    "index_list = []\n",
    "columns_set = set(['Heading'])\n",
    "for soup, heading in zip(tr_list, heading_list):\n",
    "    get_unit_pages(soup, heading)"
   ]
  },
  {
   "cell_type": "code",
   "execution_count": 14,
   "metadata": {},
   "outputs": [
    {
     "name": "stdout",
     "output_type": "stream",
     "text": [
      "Pickling to C:\\Users\\dev\\Documents\\repositories\\notebooks\\age-of-empires-ii\\saves\\pickle\\aside_columns_dict.pickle\n"
     ]
    },
    {
     "data": {
      "text/plain": [
       "{'A': 'Age', 'HP': 'Hit points', 'Ga': 'Garrison capacity', 'Ar': 'Armor', 'PA': 'Pierce armor', 'LOS': 'Line of Sight', 'Ra': 'Range', 'At': 'Attack', 'W': 'Wood cost', 'S': 'Stone cost', 'G': 'Gold cost', 'CT': 'Construction time in seconds', 'Sz': 'Size in tiles', 'Type': 'Type', 'Intro': 'Introduced in', 'Available': 'Civilization', 'Age': 'Age', 'Time': 'Construction time', 'Use': 'Use', 'Wood': 'Wood', 'Stone': 'Stone', 'Size': 'Size', 'Garrison': 'Garrison', 'Attack': 'Attack', 'BAttack': 'Attack bonuses', 'ROF': 'Rate of Fire', 'Range': 'Range', 'Accuracy': 'Accuracy', 'PSpeed': 'Projectile speed', 'Armor': 'Melee armor', 'PArmor': 'Pierce armor', 'Class': 'Armor classes', 'Required': 'Required research', 'Next': 'Required for', 'MinRange': 'Minimum range', 'UpTo': 'Upgrades to', 'UpCost': 'Upgrade cost', 'UpTime': 'Upgrade time', 'UpFrom': 'Upgraded from', 'Gold': 'Gold', 'Research': 'Required research', 'Civilization': 'Civilization', 'Building': 'Trained at', 'TrainTime': 'Training time', 'PierceArmor': 'Pierce armor', 'Speed': 'Speed', 'Food': 'Food', 'AttackBonus': 'Attack bonuses', 'FD': 'Frame delay', 'AOE': 'Blast radius'}"
      ]
     },
     "execution_count": 14,
     "metadata": {},
     "output_type": "execute_result"
    }
   ],
   "source": [
    "\n",
    "store_objects(aside_columns_dict=aside_columns_dict)\n",
    "aside_columns_dict"
   ]
  },
  {
   "cell_type": "code",
   "execution_count": 13,
   "metadata": {},
   "outputs": [
    {
     "data": {
      "text/plain": [
       "{'Gold', 'Heading', 'Indians', 'Portuguese', 'Japanese', 'FD', 'UpTo', 'Age', 'Mongols', 'Magyars', 'UpCost', 'Teutons', 'Burmese', 'Turks', 'AOE', 'Franks', 'ROF', 'Malians', 'Type', 'Spanish', 'Class', 'Celts', 'Saracens', 'Attack', 'Wood', 'Range', 'HP', 'Incas', 'Koreans', 'Ethiopians', 'Huns', 'LOS', 'Chinese', 'TrainTime', 'MinRange', 'Slavs', 'Armor', 'AttackBonus', 'Vietnamese', 'PierceArmor', 'Intro', 'Aztecs', 'Garrison', 'Accuracy', 'Required', 'Mayans', 'Vikings', 'Berbers', 'Goths', 'Malay', 'Building', 'Khmer', 'Byzantines', 'Persians', 'Food', 'UpFrom', 'UpTime', 'PSpeed', 'Britons', 'Italians', 'Speed'}"
      ]
     },
     "execution_count": 13,
     "metadata": {},
     "output_type": "execute_result"
    }
   ],
   "source": [
    "\n",
    "columns_set"
   ]
  },
  {
   "cell_type": "code",
   "execution_count": 14,
   "metadata": {},
   "outputs": [
    {
     "data": {
      "text/plain": [
       "['Aztecs', 'Berbers', 'Britons', 'Burmese', 'Byzantines', 'Celts', 'Chinese', 'Ethiopians', 'Franks', 'Goths', 'Huns', 'Incas', 'Indians', 'Italians', 'Japanese', 'Khmer', 'Koreans', 'Magyars', 'Malay', 'Malians', 'Mayans', 'Mongols', 'Persians', 'Portuguese', 'Saracens', 'Slavs', 'Spanish', 'Teutons', 'Turks', 'Vietnamese', 'Vikings']"
      ]
     },
     "execution_count": 14,
     "metadata": {},
     "output_type": "execute_result"
    }
   ],
   "source": [
    "\n",
    "civ_name_list"
   ]
  },
  {
   "cell_type": "code",
   "execution_count": null,
   "metadata": {},
   "outputs": [],
   "source": [
    "\n",
    "columns_list = ['Heading', 'Class', 'Speed', 'TrainTime', 'Gold', 'UpTime', 'AttackBonus', 'AOE',\n",
    "                'Armor', 'Garrison', 'LOS', 'Range', 'Accuracy', 'Wood', 'Intro', 'Building', 'ROF',\n",
    "                'FD', 'UpFrom', 'PierceArmor', 'Age', 'Food', 'Attack', 'MinRange', 'Required',\n",
    "                'Type', 'UpCost', 'PSpeed', 'UpTo', 'HP', 'Aztecs', 'Berbers', 'Britons', 'Burmese',\n",
    "                'Byzantines', 'Celts', 'Chinese', 'Ethiopians', 'Franks', 'Goths', 'Huns', 'Incas',\n",
    "                'Indians', 'Italians', 'Japanese', 'Khmer', 'Koreans', 'Magyars', 'Malay',\n",
    "                'Malians', 'Mayans', 'Mongols', 'Persians', 'Portuguese', 'Saracens', 'Slavs',\n",
    "                'Spanish', 'Teutons', 'Turks', 'Vietnamese', 'Vikings']"
   ]
  },
  {
   "cell_type": "code",
   "execution_count": 15,
   "metadata": {},
   "outputs": [],
   "source": [
    "\n",
    "index_name = 'Unit Name'\n",
    "other_columns_set = columns_set - set(civ_name_list)\n",
    "other_columns_set = other_columns_set - set(['Heading'])\n",
    "columns_list = ['Heading'] + sorted(other_columns_set) + civ_name_list\n",
    "unit_availability_df = pd.DataFrame(data=rows_list, index=index_list, columns=columns_list)\n",
    "unit_availability_df.index.name = index_name"
   ]
  },
  {
   "cell_type": "code",
   "execution_count": 52,
   "metadata": {},
   "outputs": [
    {
     "name": "stdout",
     "output_type": "stream",
     "text": [
      "Saving to C:\\Users\\dev\\Documents\\repositories\\notebooks\\age-of-empires-ii\\data\\csv\\unit_availability_df.csv\n",
      "Saving to C:\\Users\\dev\\Documents\\repositories\\notebooks\\age-of-empires-ii\\saves\\csv\\unit_availability_df.csv\n",
      "Saving to C:\\Users\\dev\\Documents\\repositories\\notebooks\\age-of-empires-ii\\data\\xlsx\\unit_availability_df.xlsx\n"
     ]
    }
   ],
   "source": [
    "\n",
    "columns_list = unit_availability_df.columns\n",
    "file_path = os.path.join(DATA_CSV_FOLDER, 'unit_availability_df.csv')\n",
    "print('Saving to {}'.format(os.path.abspath(file_path)))\n",
    "unit_availability_df[columns_list].to_csv(file_path)\n",
    "save_dataframes(include_index=True, unit_availability_df=unit_availability_df[columns_list])\n",
    "xlsx_folder = os.path.join(DATA_FOLDER, 'xlsx')\n",
    "os.makedirs(name=xlsx_folder, exist_ok=True)\n",
    "file_path = os.path.join(xlsx_folder, 'unit_availability_df.xlsx')\n",
    "print('Saving to {}'.format(os.path.abspath(file_path)))\n",
    "unit_availability_df[columns_list].to_excel(file_path)"
   ]
  },
  {
   "cell_type": "code",
   "execution_count": 53,
   "metadata": {},
   "outputs": [
    {
     "data": {
      "text/plain": [
       "Index(['Heading', 'AOE', 'Accuracy', 'Age', 'Armor', 'Attack', 'AttackBonus',\n",
       "       'Building', 'Class', 'FD', 'Food', 'Garrison', 'Gold', 'HP', 'Intro',\n",
       "       'LOS', 'MinRange', 'PSpeed', 'PierceArmor', 'ROF', 'Range', 'Required',\n",
       "       'Speed', 'TrainTime', 'Type', 'UpCost', 'UpFrom', 'UpTime', 'UpTo',\n",
       "       'Wood', 'Aztecs', 'Berbers', 'Britons', 'Burmese', 'Byzantines',\n",
       "       'Celts', 'Chinese', 'Ethiopians', 'Franks', 'Goths', 'Huns', 'Incas',\n",
       "       'Indians', 'Italians', 'Japanese', 'Khmer', 'Koreans', 'Magyars',\n",
       "       'Malay', 'Malians', 'Mayans', 'Mongols', 'Persians', 'Portuguese',\n",
       "       'Saracens', 'Slavs', 'Spanish', 'Teutons', 'Turks', 'Vietnamese',\n",
       "       'Vikings'],\n",
       "      dtype='object')"
      ]
     },
     "execution_count": 53,
     "metadata": {},
     "output_type": "execute_result"
    }
   ],
   "source": [
    "\n",
    "columns_list"
   ]
  },
  {
   "cell_type": "code",
   "execution_count": null,
   "metadata": {},
   "outputs": [],
   "source": []
  }
 ],
 "metadata": {
  "kernelspec": {
   "display_name": "Python 3",
   "language": "python",
   "name": "python3"
  },
  "language_info": {
   "codemirror_mode": {
    "name": "ipython",
    "version": 3
   },
   "file_extension": ".py",
   "mimetype": "text/x-python",
   "name": "python",
   "nbconvert_exporter": "python",
   "pygments_lexer": "ipython3",
   "version": "3.6.8"
  }
 },
 "nbformat": 4,
 "nbformat_minor": 2
}
