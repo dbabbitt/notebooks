{
 "cells": [
  {
   "cell_type": "code",
   "execution_count": 1,
   "metadata": {},
   "outputs": [
    {
     "name": "stdout",
     "output_type": "stream",
     "text": [
      "DATA_FOLDER: ../data/\n",
      "SAVES_FOLDER: ../saves/\n",
      "Pretty printing has been turned OFF\n",
      "DATA_CSV_FOLDER\t DATA_FOLDER\t ENCODING_TYPE\t SAVES_CSV_FOLDER\t SAVES_FOLDER\t SAVES_PICKLE_FOLDER\t attempt_to_pickle\t example_iterrows\t get_column_descriptions\t \n",
      "load_csv\t load_dataframes\t load_object\t math\t os\t pd\t pickle\t re\t save_dataframes\t \n",
      "store_objects\t sys\t urllib\t \n"
     ]
    }
   ],
   "source": [
    "\n",
    "%run ../../load_magic/storage.py\n",
    "%run ../../load_magic/dataframes.py\n",
    "import urllib.request\n",
    "import re\n",
    "%pprint\n",
    "%who"
   ]
  },
  {
   "cell_type": "markdown",
   "metadata": {},
   "source": [
    "\n",
    "# Scraping the Technology Stats"
   ]
  },
  {
   "cell_type": "code",
   "execution_count": 2,
   "metadata": {},
   "outputs": [],
   "source": [
    "\n",
    "from bs4 import BeautifulSoup\n",
    "\n",
    "wiki_url = 'https://ageofempires.fandom.com'\n",
    "def get_page_soup(page_url):\n",
    "    with urllib.request.urlopen(page_url) as response:\n",
    "        page_html = response.read()\n",
    "    page_soup = BeautifulSoup(page_html, 'html.parser')\n",
    "    \n",
    "    return page_soup"
   ]
  },
  {
   "cell_type": "code",
   "execution_count": 3,
   "metadata": {},
   "outputs": [],
   "source": [
    "\n",
    "def get_content_text_div(page_url):\n",
    "    page_soup = get_page_soup(page_url)\n",
    "    content_text_selector = '#mw-content-text'\n",
    "    content_text_div = page_soup.select(content_text_selector)[0]\n",
    "    \n",
    "    return content_text_div"
   ]
  },
  {
   "cell_type": "code",
   "execution_count": 4,
   "metadata": {
    "scrolled": false
   },
   "outputs": [],
   "source": [
    "\n",
    "def get_main_technology_page(content_text_div, main_df, unique_df, link_dict):\n",
    "    for heading_span in content_text_div.select('span[class=\"mw-headline\"]'):\n",
    "        heading = heading_span.string.strip()\n",
    "        print('{}: {}'.format(heading_span.parent.name, heading))\n",
    "        siblings_list = list(heading_span.parent.next_siblings)\n",
    "        for sibling in siblings_list:\n",
    "            if sibling.name == 'h3':\n",
    "                \n",
    "                # You've gone too far\n",
    "                break\n",
    "            \n",
    "            elif sibling.name == 'dl':\n",
    "                page_url = '{}{}'.format(wiki_url, sibling.find_all('a')[0]['href'])\n",
    "                unique_content_text_div = get_content_text_div(page_url)\n",
    "                unique_df, link_dict = get_unique_technology_page(unique_content_text_div,\n",
    "                                                                  unique_df, link_dict)\n",
    "                break\n",
    "            elif sibling.name == 'table':\n",
    "                df = pd.read_html(str(sibling), header=0)[0]\n",
    "                df['Heading'] = heading\n",
    "                main_df = pd.concat([main_df, df], sort=True)\n",
    "                print(df.shape)\n",
    "                for tr in sibling.find_all('tr')[1:]:\n",
    "                    link = tr.find_all('td')[0].find_all('a')[1]\n",
    "                    link_title = link['title']\n",
    "                    link_dict[link_title] = link['href']\n",
    "                break\n",
    "    \n",
    "    return main_df, unique_df, link_dict"
   ]
  },
  {
   "cell_type": "code",
   "execution_count": 5,
   "metadata": {
    "scrolled": false
   },
   "outputs": [],
   "source": [
    "\n",
    "def get_unique_technology_page(content_text_div, unique_df, link_dict):\n",
    "    for heading_span in content_text_div.select('h3 span[class=\"mw-headline\"]'):\n",
    "        heading = heading_span.string.strip()\n",
    "        print('{}: {}'.format(heading_span.parent.name, heading))\n",
    "        siblings_list = list(heading_span.parent.next_siblings)\n",
    "        for sibling in siblings_list:\n",
    "            if sibling.name == 'table':\n",
    "                df = pd.read_html(str(sibling), header=0)[0]\n",
    "                df['Heading'] = heading\n",
    "                unique_df = pd.concat([unique_df, df], sort=True)\n",
    "                print(df.shape)\n",
    "                for tr in sibling.find_all('tr')[1:]:\n",
    "                    link = tr.find_all('td')[1].find_all('a')[0]\n",
    "                    link_title = link['title']\n",
    "                    link_dict[link_title] = link['href']\n",
    "                break\n",
    "    \n",
    "    return unique_df, link_dict"
   ]
  },
  {
   "cell_type": "code",
   "execution_count": 143,
   "metadata": {},
   "outputs": [
    {
     "name": "stdout",
     "output_type": "stream",
     "text": [
      "h2: Building technologies\n",
      "(6, 6)\n",
      "h2: Economy technologies\n",
      "(18, 6)\n",
      "h2: Monk technologies\n",
      "(10, 6)\n",
      "h2: Military technologies\n",
      "h3: Infantry\n",
      "(9, 6)\n",
      "h3: Missile / siege\n",
      "(14, 6)\n",
      "h3: Cavalry\n",
      "(8, 6)\n",
      "h2: Naval technologies\n",
      "(3, 6)\n",
      "h2: Unique technologies\n",
      "h3: Castle Age\n",
      "(31, 4)\n",
      "h3: Imperial Age\n",
      "(31, 4)\n",
      "h2: Miscellaneous technologies\n",
      "(8, 6)\n"
     ]
    }
   ],
   "source": [
    "\n",
    "main_page_url = '{}/wiki/Technology_(Age_of_Empires_II)'.format(wiki_url)\n",
    "main_content_text_div = get_content_text_div(main_page_url)\n",
    "main_columns_list = ['Heading', 'Technology', 'Age', 'Building', 'Cost', 'Effect']\n",
    "main_df = pd.DataFrame([], columns=main_columns_list)\n",
    "unique_columns_list = ['Heading', 'Civilization', 'Unique technology', 'Effect']\n",
    "unique_df = pd.DataFrame([], columns=unique_columns_list)\n",
    "main_df, unique_df, link_dict = get_main_technology_page(main_content_text_div,\n",
    "                                                         main_df, unique_df, {})"
   ]
  },
  {
   "cell_type": "code",
   "execution_count": 145,
   "metadata": {},
   "outputs": [
    {
     "data": {
      "text/html": [
       "<div>\n",
       "<style scoped>\n",
       "    .dataframe tbody tr th:only-of-type {\n",
       "        vertical-align: middle;\n",
       "    }\n",
       "\n",
       "    .dataframe tbody tr th {\n",
       "        vertical-align: top;\n",
       "    }\n",
       "\n",
       "    .dataframe thead th {\n",
       "        text-align: right;\n",
       "    }\n",
       "</style>\n",
       "<table border=\"1\" class=\"dataframe\">\n",
       "  <thead>\n",
       "    <tr style=\"text-align: right;\">\n",
       "      <th></th>\n",
       "      <th>30</th>\n",
       "      <th>19</th>\n",
       "      <th>29</th>\n",
       "      <th>26</th>\n",
       "      <th>24</th>\n",
       "    </tr>\n",
       "  </thead>\n",
       "  <tbody>\n",
       "    <tr>\n",
       "      <th>Heading</th>\n",
       "      <td>Castle Age</td>\n",
       "      <td>Imperial Age</td>\n",
       "      <td>Imperial Age</td>\n",
       "      <td>Imperial Age</td>\n",
       "      <td>Castle Age</td>\n",
       "    </tr>\n",
       "    <tr>\n",
       "      <th>Civilization</th>\n",
       "      <td>Vikings</td>\n",
       "      <td>Malians</td>\n",
       "      <td>Vietnamese</td>\n",
       "      <td>Spanish</td>\n",
       "      <td>Saracens</td>\n",
       "    </tr>\n",
       "    <tr>\n",
       "      <th>Unique technology</th>\n",
       "      <td>Chieftains</td>\n",
       "      <td>Farimba</td>\n",
       "      <td>Paper Money</td>\n",
       "      <td>Supremacy</td>\n",
       "      <td>Madrasah</td>\n",
       "    </tr>\n",
       "    <tr>\n",
       "      <th>Effect</th>\n",
       "      <td>Infantry does more damage to cavalry</td>\n",
       "      <td>Attack of Stable units increased</td>\n",
       "      <td>Player and allies receive 500 gold</td>\n",
       "      <td>Villager combat skill increased</td>\n",
       "      <td>33% of a Monk's gold cost are returned if he dies</td>\n",
       "    </tr>\n",
       "  </tbody>\n",
       "</table>\n",
       "</div>"
      ],
      "text/plain": [
       "                                                     30  \\\n",
       "Heading                                      Castle Age   \n",
       "Civilization                                    Vikings   \n",
       "Unique technology                            Chieftains   \n",
       "Effect             Infantry does more damage to cavalry   \n",
       "\n",
       "                                                 19  \\\n",
       "Heading                                Imperial Age   \n",
       "Civilization                                Malians   \n",
       "Unique technology                           Farimba   \n",
       "Effect             Attack of Stable units increased   \n",
       "\n",
       "                                                   29  \\\n",
       "Heading                                  Imperial Age   \n",
       "Civilization                               Vietnamese   \n",
       "Unique technology                         Paper Money   \n",
       "Effect             Player and allies receive 500 gold   \n",
       "\n",
       "                                                26  \\\n",
       "Heading                               Imperial Age   \n",
       "Civilization                               Spanish   \n",
       "Unique technology                        Supremacy   \n",
       "Effect             Villager combat skill increased   \n",
       "\n",
       "                                                                  24  \n",
       "Heading                                                   Castle Age  \n",
       "Civilization                                                Saracens  \n",
       "Unique technology                                           Madrasah  \n",
       "Effect             33% of a Monk's gold cost are returned if he dies  "
      ]
     },
     "execution_count": 145,
     "metadata": {},
     "output_type": "execute_result"
    }
   ],
   "source": [
    "\n",
    "unique_df[unique_columns_list].sample(5).T"
   ]
  },
  {
   "cell_type": "code",
   "execution_count": 6,
   "metadata": {
    "scrolled": false
   },
   "outputs": [],
   "source": [
    "\n",
    "def get_conq_technology_page(content_text_div, main_df, link_dict):\n",
    "    for heading_span in content_text_div.select('span[class=\"mw-headline\"]'):\n",
    "        heading = heading_span.string.strip()\n",
    "        if heading == 'Technologies':\n",
    "            print('{}: {}'.format(heading_span.parent.name, heading))\n",
    "            siblings_list = list(heading_span.parent.next_siblings)\n",
    "            for sibling in siblings_list:\n",
    "                if sibling.name == 'table':\n",
    "                    df = pd.read_html(str(sibling), header=0)[0]\n",
    "                    df['Heading'] = heading\n",
    "                    main_df = pd.concat([main_df, df], sort=True)\n",
    "                    print(df.shape)\n",
    "                    for tr in sibling.find_all('tr')[1:]:\n",
    "                        link = tr.find_all('td')[0].find_all('a')[0]\n",
    "                        link_title = link['title']\n",
    "                        link_dict[link_title] = link['href']\n",
    "                    break\n",
    "    \n",
    "    return main_df, link_dict"
   ]
  },
  {
   "cell_type": "code",
   "execution_count": 157,
   "metadata": {},
   "outputs": [
    {
     "name": "stdout",
     "output_type": "stream",
     "text": [
      "h3: Technologies\n",
      "(7, 6)\n"
     ]
    }
   ],
   "source": [
    "\n",
    "conq_page_url = '{}/wiki/Age_of_Empires_II:_The_Conquerors'.format(wiki_url)\n",
    "conq_content_text_div = get_content_text_div(conq_page_url)\n",
    "main_df, link_dict = get_conq_technology_page(conq_content_text_div, main_df,\n",
    "                                              link_dict)"
   ]
  },
  {
   "cell_type": "code",
   "execution_count": 302,
   "metadata": {},
   "outputs": [],
   "source": [
    "\n",
    "main_df = main_df.drop_duplicates(subset=['Age', 'Building', 'Cost'], keep='first', inplace=False)"
   ]
  },
  {
   "cell_type": "code",
   "execution_count": 293,
   "metadata": {},
   "outputs": [
    {
     "data": {
      "text/plain": [
       "['Age', 'Building', 'Cost', 'Effect', 'Heading']"
      ]
     },
     "execution_count": 293,
     "metadata": {},
     "output_type": "execute_result"
    }
   ],
   "source": [
    "\n",
    "main_df.columns.tolist()"
   ]
  },
  {
   "cell_type": "code",
   "execution_count": 155,
   "metadata": {},
   "outputs": [
    {
     "data": {
      "text/html": [
       "<div>\n",
       "<style scoped>\n",
       "    .dataframe tbody tr th:only-of-type {\n",
       "        vertical-align: middle;\n",
       "    }\n",
       "\n",
       "    .dataframe tbody tr th {\n",
       "        vertical-align: top;\n",
       "    }\n",
       "\n",
       "    .dataframe thead th {\n",
       "        text-align: right;\n",
       "    }\n",
       "</style>\n",
       "<table border=\"1\" class=\"dataframe\">\n",
       "  <thead>\n",
       "    <tr style=\"text-align: right;\">\n",
       "      <th></th>\n",
       "      <th>5</th>\n",
       "      <th>1</th>\n",
       "      <th>14</th>\n",
       "      <th>6</th>\n",
       "      <th>0</th>\n",
       "    </tr>\n",
       "  </thead>\n",
       "  <tbody>\n",
       "    <tr>\n",
       "      <th>Heading</th>\n",
       "      <td>Cavalry</td>\n",
       "      <td>Cavalry</td>\n",
       "      <td>Economy technologies</td>\n",
       "      <td>Infantry</td>\n",
       "      <td>Building technologies</td>\n",
       "    </tr>\n",
       "    <tr>\n",
       "      <th>Technology</th>\n",
       "      <td>Scale Barding Armor</td>\n",
       "      <td>Husbandry</td>\n",
       "      <td>Coinage</td>\n",
       "      <td>Scale Mail Armor</td>\n",
       "      <td>Town Watch</td>\n",
       "    </tr>\n",
       "    <tr>\n",
       "      <th>Age</th>\n",
       "      <td>II</td>\n",
       "      <td>III</td>\n",
       "      <td>III</td>\n",
       "      <td>II</td>\n",
       "      <td>II</td>\n",
       "    </tr>\n",
       "    <tr>\n",
       "      <th>Building</th>\n",
       "      <td>Blacksmith</td>\n",
       "      <td>Stable</td>\n",
       "      <td>Market</td>\n",
       "      <td>Blacksmith</td>\n",
       "      <td>Town Center</td>\n",
       "    </tr>\n",
       "    <tr>\n",
       "      <th>Cost</th>\n",
       "      <td>150F</td>\n",
       "      <td>250F</td>\n",
       "      <td>200F 100G</td>\n",
       "      <td>100F</td>\n",
       "      <td>75F</td>\n",
       "    </tr>\n",
       "    <tr>\n",
       "      <th>Effect</th>\n",
       "      <td>Cavalry armor +1/+1</td>\n",
       "      <td>Cavalry speed +10%</td>\n",
       "      <td>Tribute fee 20%</td>\n",
       "      <td>Infantry armor +1/+1</td>\n",
       "      <td>Building LOS +4</td>\n",
       "    </tr>\n",
       "  </tbody>\n",
       "</table>\n",
       "</div>"
      ],
      "text/plain": [
       "                             5                   1                     14  \\\n",
       "Heading                 Cavalry             Cavalry  Economy technologies   \n",
       "Technology  Scale Barding Armor           Husbandry               Coinage   \n",
       "Age                          II                 III                   III   \n",
       "Building             Blacksmith              Stable                Market   \n",
       "Cost                       150F                250F             200F 100G   \n",
       "Effect      Cavalry armor +1/+1  Cavalry speed +10%       Tribute fee 20%   \n",
       "\n",
       "                              6                      0   \n",
       "Heading                 Infantry  Building technologies  \n",
       "Technology      Scale Mail Armor             Town Watch  \n",
       "Age                           II                     II  \n",
       "Building              Blacksmith            Town Center  \n",
       "Cost                        100F                    75F  \n",
       "Effect      Infantry armor +1/+1        Building LOS +4  "
      ]
     },
     "execution_count": 155,
     "metadata": {},
     "output_type": "execute_result"
    }
   ],
   "source": [
    "\n",
    "main_df[main_columns_list].sample(5).T"
   ]
  },
  {
   "cell_type": "code",
   "execution_count": 7,
   "metadata": {
    "scrolled": false
   },
   "outputs": [],
   "source": [
    "\n",
    "def get_forg_technology_page(content_text_div, link_dict):\n",
    "    for heading_span in content_text_div.select('span[class=\"mw-headline\"]'):\n",
    "        heading = heading_span.string.strip()\n",
    "        if heading in ['General technologies', 'Unique technologies']:\n",
    "            print('{}: {}'.format(heading_span.parent.name, heading))\n",
    "            siblings_list = list(heading_span.parent.next_siblings)\n",
    "            for sibling in siblings_list:\n",
    "                tag = sibling.name\n",
    "                if tag == 'ul':\n",
    "                    for link in sibling.find_all('a'):\n",
    "                        link_title = link['title']\n",
    "                        link_dict[link_title] = link['href']\n",
    "                    break\n",
    "    \n",
    "    return link_dict"
   ]
  },
  {
   "cell_type": "code",
   "execution_count": 170,
   "metadata": {},
   "outputs": [
    {
     "name": "stdout",
     "output_type": "stream",
     "text": [
      "h4: General technologies\n",
      "h4: Unique technologies\n"
     ]
    }
   ],
   "source": [
    "\n",
    "forg_page_url = '{}/wiki/Age_of_Empires_II_HD:_The_Forgotten'.format(wiki_url)\n",
    "forg_content_text_div = get_content_text_div(forg_page_url)\n",
    "link_dict = get_forg_technology_page(forg_content_text_div, link_dict)"
   ]
  },
  {
   "cell_type": "code",
   "execution_count": 8,
   "metadata": {
    "scrolled": false
   },
   "outputs": [],
   "source": [
    "\n",
    "def get_afri_technology_page(content_text_div, link_dict):\n",
    "    for heading_span in content_text_div.select('span[class=\"mw-headline\"]'):\n",
    "        heading = heading_span.string.strip()\n",
    "        if heading in ['Technologies']:\n",
    "            print('{}: {}'.format(heading_span.parent.name, heading))\n",
    "            siblings_list = list(heading_span.parent.next_siblings)\n",
    "            for sibling in siblings_list:\n",
    "                tag = sibling.name\n",
    "                if tag == 'ul':\n",
    "                    for link in sibling.find_all('a'):\n",
    "                        link_title = link['title']\n",
    "                        link_dict[link_title] = link['href']\n",
    "                    break\n",
    "    \n",
    "    return link_dict"
   ]
  },
  {
   "cell_type": "code",
   "execution_count": 175,
   "metadata": {},
   "outputs": [
    {
     "name": "stdout",
     "output_type": "stream",
     "text": [
      "h3: Technologies\n"
     ]
    }
   ],
   "source": [
    "\n",
    "afri_page_url = '{}/wiki/Age_of_Empires_II_HD:_The_African_Kingdoms'.format(wiki_url)\n",
    "afri_content_text_div = get_content_text_div(afri_page_url)\n",
    "link_dict = get_afri_technology_page(afri_content_text_div, link_dict)"
   ]
  },
  {
   "cell_type": "code",
   "execution_count": 9,
   "metadata": {},
   "outputs": [],
   "source": [
    "\n",
    "space_regex = re.compile(r'\\s+')\n",
    "def process_small_list_of_units(appl_civ_text, row_dict):\n",
    "    appl_civ_list = space_regex.split(appl_civ_text)\n",
    "    for civ_name in civ_name_list:\n",
    "        row_dict[civ_name] = 0\n",
    "    for civ_name in appl_civ_list:\n",
    "        if civ_name in civ_name_list:\n",
    "            row_dict[civ_name] = 1\n",
    "    \n",
    "    return row_dict"
   ]
  },
  {
   "cell_type": "code",
   "execution_count": 10,
   "metadata": {},
   "outputs": [],
   "source": [
    "\n",
    "def process_all_except(appl_civ_text, row_dict):\n",
    "    for civ_name in civ_name_list:\n",
    "        if civ_name in appl_civ_text:\n",
    "            row_dict[civ_name] = 0\n",
    "        else:\n",
    "            row_dict[civ_name] = 1\n",
    "    \n",
    "    return row_dict"
   ]
  },
  {
   "cell_type": "code",
   "execution_count": 11,
   "metadata": {},
   "outputs": [],
   "source": [
    "\n",
    "toc_selector = '#mw-content-text > table[class=\"toccolours\"]'\n",
    "def process_exceptions(link_soup, row_dict):\n",
    "    desc_p_list = link_soup.select(toc_selector)\n",
    "    if len(desc_p_list):\n",
    "        for sib in desc_p_list[0].previous_siblings:\n",
    "            if 'available to all civilizations except' in str(sib):\n",
    "                break\n",
    "        process_all_except(sib.text.strip(), row_dict)\n",
    "    \n",
    "    return row_dict"
   ]
  },
  {
   "cell_type": "code",
   "execution_count": 12,
   "metadata": {},
   "outputs": [],
   "source": [
    "\n",
    "def process_article(art_table_list, row_dict):\n",
    "    art_table = art_table_list[0]\n",
    "    art_ul_list = art_table.find_all('ul')\n",
    "    assert len(art_ul_list) == 2\n",
    "\n",
    "    # Get available civs\n",
    "    available_ul = art_ul_list[0]\n",
    "    for link in available_ul.find_all('a'):\n",
    "        civ_name = link['title'].split('(')[0].strip()\n",
    "        row_dict[civ_name] = 1\n",
    "\n",
    "    # Get unavailable civs\n",
    "    unavailable_ul = art_ul_list[1]\n",
    "    for link in unavailable_ul.find_all('a'):\n",
    "        civ_name = link['title'].split('(')[0].strip()\n",
    "        row_dict[civ_name] = 0\n",
    "\n",
    "    return row_dict"
   ]
  },
  {
   "cell_type": "code",
   "execution_count": 13,
   "metadata": {},
   "outputs": [],
   "source": [
    "\n",
    "article_selector = '#mw-content-text > table.article-table'\n",
    "civ_name_list = load_object('civ_name_list')\n",
    "def process_unit(link_soup, appl_civ_text, row_dict):\n",
    "    for column_name in civ_name_list:\n",
    "        columns_set.add(column_name)\n",
    "    if 'All civilizations' in appl_civ_text:\n",
    "        for civ_name in civ_name_list:\n",
    "            row_dict[civ_name] = 1\n",
    "    elif 'All except ' in appl_civ_text:\n",
    "        row_dict = process_all_except(appl_civ_text, row_dict)\n",
    "    elif 'See ' in appl_civ_text:\n",
    "        art_table_list = link_soup.select(article_selector)\n",
    "        if len(art_table_list):\n",
    "            row_dict = process_article(art_table_list, row_dict)\n",
    "        else:\n",
    "            row_dict = process_exceptions(link_soup, row_dict)\n",
    "    else:\n",
    "        row_dict = process_small_list_of_units(appl_civ_text, row_dict)\n",
    "    \n",
    "    return row_dict"
   ]
  },
  {
   "cell_type": "code",
   "execution_count": 14,
   "metadata": {},
   "outputs": [],
   "source": [
    "\n",
    "def consume_aside(unit_soup, row_dict):\n",
    "    aside_list = unit_soup.select('aside')\n",
    "    for aside_soup in aside_list:\n",
    "        for data_source_div in aside_soup.find_all('div', {'data-source': True}):\n",
    "            data_source_h3_list = data_source_div.find_all('h3')\n",
    "            if len(data_source_h3_list):\n",
    "                h3_siblings_list = list(data_source_h3_list[0].next_siblings)\n",
    "                if len(h3_siblings_list):\n",
    "                    column_name = data_source_div['data-source']\n",
    "                    value_list = list(h3_siblings_list[1].strings)\n",
    "                    column_value = ' '.join(x.strip() for x in value_list).strip()\n",
    "                    if column_name == 'Available':\n",
    "                        row_dict = process_unit(unit_soup, column_value, row_dict)\n",
    "                    else:\n",
    "                        columns_set.add(column_name)\n",
    "                        row_dict[column_name] = column_value\n",
    "    \n",
    "    return row_dict"
   ]
  },
  {
   "cell_type": "code",
   "execution_count": 314,
   "metadata": {},
   "outputs": [],
   "source": [
    "\n",
    "rows_list = []\n",
    "index_list = []\n",
    "columns_set = set(main_df.columns)\n",
    "for technology_name, technology_url in link_dict.items():\n",
    "    page_url = '{}{}'.format(wiki_url, technology_url)\n",
    "    content_text_div = get_content_text_div(page_url)\n",
    "    technology_name = technology_name.split(' (')[0]\n",
    "    if technology_name not in index_list:\n",
    "        index_list.append(technology_name)\n",
    "        rows_list.append(consume_aside(content_text_div, {'technology_url': page_url}))"
   ]
  },
  {
   "cell_type": "code",
   "execution_count": 315,
   "metadata": {},
   "outputs": [],
   "source": [
    "\n",
    "other_columns_set = columns_set - set(civ_name_list)\n",
    "other_columns_set = other_columns_set - set(['Heading'])\n",
    "columns_list = ['Heading'] + list(other_columns_set) + civ_name_list\n",
    "technology_df = pd.DataFrame(data=rows_list, index=index_list,\n",
    "                             columns=columns_list).dropna(axis='columns', how='all')"
   ]
  },
  {
   "cell_type": "code",
   "execution_count": 316,
   "metadata": {},
   "outputs": [
    {
     "data": {
      "text/html": [
       "<div>\n",
       "<style scoped>\n",
       "    .dataframe tbody tr th:only-of-type {\n",
       "        vertical-align: middle;\n",
       "    }\n",
       "\n",
       "    .dataframe tbody tr th {\n",
       "        vertical-align: top;\n",
       "    }\n",
       "\n",
       "    .dataframe thead th {\n",
       "        text-align: right;\n",
       "    }\n",
       "</style>\n",
       "<table border=\"1\" class=\"dataframe\">\n",
       "  <thead>\n",
       "    <tr style=\"text-align: right;\">\n",
       "      <th></th>\n",
       "      <th>Chatras</th>\n",
       "      <th>Bow Saw</th>\n",
       "      <th>Double Crossbow</th>\n",
       "      <th>Plate Mail Armor</th>\n",
       "      <th>Chivalry</th>\n",
       "    </tr>\n",
       "  </thead>\n",
       "  <tbody>\n",
       "    <tr>\n",
       "      <th>Saracens</th>\n",
       "      <td>0</td>\n",
       "      <td>1</td>\n",
       "      <td>0</td>\n",
       "      <td>1</td>\n",
       "      <td>0</td>\n",
       "    </tr>\n",
       "    <tr>\n",
       "      <th>Next</th>\n",
       "      <td>NaN</td>\n",
       "      <td>Two-Man Saw</td>\n",
       "      <td>NaN</td>\n",
       "      <td>NaN</td>\n",
       "      <td>NaN</td>\n",
       "    </tr>\n",
       "    <tr>\n",
       "      <th>Khmer</th>\n",
       "      <td>0</td>\n",
       "      <td>1</td>\n",
       "      <td>1</td>\n",
       "      <td>0</td>\n",
       "      <td>0</td>\n",
       "    </tr>\n",
       "    <tr>\n",
       "      <th>Burmese</th>\n",
       "      <td>0</td>\n",
       "      <td>1</td>\n",
       "      <td>0</td>\n",
       "      <td>1</td>\n",
       "      <td>0</td>\n",
       "    </tr>\n",
       "    <tr>\n",
       "      <th>Teutons</th>\n",
       "      <td>0</td>\n",
       "      <td>1</td>\n",
       "      <td>0</td>\n",
       "      <td>1</td>\n",
       "      <td>0</td>\n",
       "    </tr>\n",
       "  </tbody>\n",
       "</table>\n",
       "</div>"
      ],
      "text/plain": [
       "         Chatras      Bow Saw Double Crossbow Plate Mail Armor Chivalry\n",
       "Saracens       0            1               0                1        0\n",
       "Next         NaN  Two-Man Saw             NaN              NaN      NaN\n",
       "Khmer          0            1               1                0        0\n",
       "Burmese        0            1               0                1        0\n",
       "Teutons        0            1               0                1        0"
      ]
     },
     "execution_count": 316,
     "metadata": {},
     "output_type": "execute_result"
    }
   ],
   "source": [
    "\n",
    "technology_df.sample(5).T.sample(5)"
   ]
  },
  {
   "cell_type": "code",
   "execution_count": 317,
   "metadata": {},
   "outputs": [
    {
     "data": {
      "text/plain": [
       "['Previous', 'Intro', 'Wood', 'Stone', 'Time', 'Required', 'Next', 'Gold', 'Building', 'Food', 'Age', 'Aztecs', 'Berbers', 'Britons', 'Burmese', 'Byzantines', 'Celts', 'Chinese', 'Ethiopians', 'Franks', 'Goths', 'Huns', 'Incas', 'Indians', 'Italians', 'Japanese', 'Khmer', 'Koreans', 'Magyars', 'Malay', 'Malians', 'Mayans', 'Mongols', 'Persians', 'Portuguese', 'Saracens', 'Slavs', 'Spanish', 'Teutons', 'Turks', 'Vietnamese', 'Vikings']"
      ]
     },
     "execution_count": 317,
     "metadata": {},
     "output_type": "execute_result"
    }
   ],
   "source": [
    "\n",
    "technology_df.columns.tolist()"
   ]
  },
  {
   "cell_type": "code",
   "execution_count": 305,
   "metadata": {},
   "outputs": [
    {
     "data": {
      "text/plain": [
       "{'Building', 'Age'}"
      ]
     },
     "execution_count": 305,
     "metadata": {},
     "output_type": "execute_result"
    }
   ],
   "source": [
    "\n",
    "set.intersection(set(main_df.columns), set(technology_df.columns))"
   ]
  },
  {
   "cell_type": "code",
   "execution_count": 318,
   "metadata": {},
   "outputs": [
    {
     "data": {
      "text/plain": [
       "66"
      ]
     },
     "execution_count": 318,
     "metadata": {},
     "output_type": "execute_result"
    }
   ],
   "source": [
    "\n",
    "#main_df = main_df.set_index('Technology')\n",
    "main_df.index.name = 'Technology'\n",
    "len(main_df.index.tolist())"
   ]
  },
  {
   "cell_type": "code",
   "execution_count": 319,
   "metadata": {},
   "outputs": [
    {
     "name": "stdout",
     "output_type": "stream",
     "text": [
      "135\n"
     ]
    },
    {
     "data": {
      "text/plain": [
       "135"
      ]
     },
     "execution_count": 319,
     "metadata": {},
     "output_type": "execute_result"
    }
   ],
   "source": [
    "\n",
    "technology_df.index.name = 'Technology'\n",
    "print(len(technology_df.index))\n",
    "len(set.union(set(main_df.index), set(technology_df.index)))"
   ]
  },
  {
   "cell_type": "code",
   "execution_count": 320,
   "metadata": {},
   "outputs": [],
   "source": [
    "\n",
    "technology_df = pd.merge(left=main_df, right=technology_df, how='right', on=['Building', 'Age'],\n",
    "                         left_index=True, right_index=True, suffixes=('_main','_technology'))"
   ]
  },
  {
   "cell_type": "code",
   "execution_count": 321,
   "metadata": {},
   "outputs": [],
   "source": [
    "\n",
    "file_path = os.path.join(DATA_CSV_FOLDER, 'technology_df.csv')\n",
    "technology_df.to_csv(file_path)"
   ]
  },
  {
   "cell_type": "code",
   "execution_count": 324,
   "metadata": {},
   "outputs": [
    {
     "name": "stdout",
     "output_type": "stream",
     "text": [
      "Saving to C:\\Users\\dev\\Documents\\repositories\\notebooks\\age-of-empires-ii\\saves\\csv\\technology_df.csv\n"
     ]
    }
   ],
   "source": [
    "\n",
    "save_dataframes(include_index=True, technology_df=technology_df)"
   ]
  },
  {
   "cell_type": "code",
   "execution_count": 323,
   "metadata": {},
   "outputs": [],
   "source": [
    "\n",
    "xlsx_folder = os.path.join(DATA_FOLDER, 'xlsx')\n",
    "os.makedirs(name=xlsx_folder, exist_ok=True)\n",
    "file_path = os.path.join(xlsx_folder, 'technology_df.xlsx')\n",
    "technology_df.to_excel(file_path)"
   ]
  },
  {
   "cell_type": "code",
   "execution_count": 312,
   "metadata": {},
   "outputs": [],
   "source": [
    "\n",
    "file_path = os.path.join(xlsx_folder, 'main_df.xlsx')\n",
    "main_df.to_excel(file_path)"
   ]
  },
  {
   "cell_type": "code",
   "execution_count": null,
   "metadata": {},
   "outputs": [],
   "source": []
  }
 ],
 "metadata": {
  "kernelspec": {
   "display_name": "Python 3",
   "language": "python",
   "name": "python3"
  },
  "language_info": {
   "codemirror_mode": {
    "name": "ipython",
    "version": 3
   },
   "file_extension": ".py",
   "mimetype": "text/x-python",
   "name": "python",
   "nbconvert_exporter": "python",
   "pygments_lexer": "ipython3",
   "version": "3.6.8"
  }
 },
 "nbformat": 4,
 "nbformat_minor": 2
}
