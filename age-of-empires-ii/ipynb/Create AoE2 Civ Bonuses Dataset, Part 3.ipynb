{
 "cells": [
  {
   "cell_type": "code",
   "execution_count": 1,
   "metadata": {},
   "outputs": [
    {
     "name": "stdout",
     "output_type": "stream",
     "text": [
      "DATA_FOLDER: ../data/\n",
      "SAVES_FOLDER: ../saves/\n",
      "Pretty printing has been turned OFF\n",
      "BeautifulSoup\t DATA_CSV_FOLDER\t DATA_FOLDER\t ENCODING_TYPE\t SAVES_CSV_FOLDER\t SAVES_FOLDER\t SAVES_PICKLE_FOLDER\t attempt_to_pickle\t example_iterrows\t \n",
      "get_column_descriptions\t load_csv\t load_dataframes\t load_object\t math\t os\t pd\t pickle\t re\t \n",
      "save_dataframes\t store_objects\t sys\t urllib\t \n"
     ]
    }
   ],
   "source": [
    "\n",
    "%run ../../load_magic/storage.py\n",
    "%run ../../load_magic/dataframes.py\n",
    "import urllib.request\n",
    "import re\n",
    "from bs4 import BeautifulSoup\n",
    "%pprint\n",
    "%who"
   ]
  },
  {
   "cell_type": "code",
   "execution_count": null,
   "metadata": {},
   "outputs": [],
   "source": [
    "\n",
    "# From http://aok.heavengames.com/university/strategy/statistics/an-insight-about-gathering/\n",
    "Villager_Shore_Fish_carrying_capacity = 10\n",
    "Fishing_Ship_Shore_Fish_carrying_capacity = 15\n",
    "Forage_Bush_food_gathering_per_second_by_Villager = 0.310\n",
    "Sheep_food_gathering_per_second_by_Villager = 0.330\n",
    "Boar_food_gathering_per_second_by_Villager = 0.408\n",
    "Deer_food_gathering_per_second_by_Villager = 0.408\n",
    "Shore_Fish_food_gathering_per_second_by_Villager = 0.426\n",
    "Shore_Fish_food_gathering_per_second_by_Fishing_Ship = 0.280\n",
    "Deep_Fish_food_gathering_per_second_by_Villager = 0.487\n",
    "Trapped_Fish_food_gathering_per_second_by_Villager = 0.206\n",
    "Farm_food_gathering_per_second_by_Villager = 0.319"
   ]
  },
  {
   "cell_type": "code",
   "execution_count": null,
   "metadata": {},
   "outputs": [],
   "source": [
    "\n",
    "# From Toothbrush42's approximate resource gathering rates at\n",
    "# https://www.reddit.com/r/aoe2/comments/1mmb6n/finally_more_data_approximate_resource_gathering/\n",
    "Berries_per_Villager_per_Minute = 1\n",
    "Sheep_per_Villager_per_Minute = 1\n",
    "Boar_per_Villager_per_Minute = 22\n",
    "Deer_per_Villager_per_Minute = 22\n",
    "Shore_Fish_per_Villager_per_Minute = 2\n",
    "Deep_Fish_per_Fishing_Ship_per_Minute = 2\n",
    "Trapped_Fish_per_Fishing_Ship_per_Minute = 20\n",
    "Farm_food_per_Villager_per_Minute = 2\n",
    "Lumber_per_Villager_per_Minute = 2\n",
    "Gold_per_Villager_per_Minute = 2\n",
    "Stone_per_Villager_per_Minute = 2"
   ]
  },
  {
   "cell_type": "code",
   "execution_count": null,
   "metadata": {},
   "outputs": [],
   "source": [
    "\n",
    "index_name = 'Building Name'\n",
    "dataframes_dict = load_dataframes(building_availability_df='building_availability_df')\n",
    "building_availability_df = dataframes_dict['building_availability_df']\n",
    "if 'Unnamed: 0' in building_availability_df.columns:\n",
    "    building_availability_df = building_availability_df.set_index('Unnamed: 0')\n",
    "elif index_name in building_availability_df.columns:\n",
    "    building_availability_df = building_availability_df.set_index(index_name)\n",
    "building_availability_df.index.name = index_name"
   ]
  },
  {
   "cell_type": "markdown",
   "metadata": {},
   "source": [
    "\n",
    "## Aztecs: Monks gain 5 HP for every researched Monastery technology."
   ]
  },
  {
   "cell_type": "markdown",
   "metadata": {},
   "source": [
    "\n",
    "Of all civilizations, the Aztecs have the strongest Monks, having access to all religious technologies and getting an extra 5 HP for each one researched. If every technology is researched, Aztec Monks have 95 HP - more than twice as much as a regular Monk (45 HP with Sanctity).\n",
    "\n",
    "Sanctity is a technology in Age of Empires II that can be researched at the Monastery. Once researched, it increases the hit points of Monks and Missionaries by +15.\n",
    "Even though the ingame description states that Sanctity gives +50% HP, it is actually always just a bonus of +15 hit points (it does not stack with other bonuses for Aztec Monks or Spanish Missionaries)."
   ]
  },
  {
   "cell_type": "code",
   "execution_count": 2,
   "metadata": {},
   "outputs": [
    {
     "name": "stdout",
     "output_type": "stream",
     "text": [
      "Attempting to load C:\\Users\\dev\\Documents\\repositories\\notebooks\\age-of-empires-ii\\saves\\pickle\\technology_availability_df.pickle.\n",
      "No pickle exists - attempting to load C:\\Users\\dev\\Documents\\repositories\\notebooks\\age-of-empires-ii\\saves\\csv\\technology_availability_df.csv.\n"
     ]
    }
   ],
   "source": [
    "\n",
    "index_name = 'Technology Name'\n",
    "dataframes_dict = load_dataframes(technology_availability_df='technology_availability_df')\n",
    "technology_availability_df = dataframes_dict['technology_availability_df']\n",
    "if 'Unnamed: 0' in technology_availability_df.columns:\n",
    "    technology_availability_df = technology_availability_df.set_index('Unnamed: 0')\n",
    "elif index_name in technology_availability_df.columns:\n",
    "    technology_availability_df = technology_availability_df.set_index(index_name)\n",
    "technology_availability_df.index.name = index_name"
   ]
  },
  {
   "cell_type": "code",
   "execution_count": 12,
   "metadata": {},
   "outputs": [],
   "source": [
    "\n",
    "civ_name_list = load_object('civ_name_list')\n",
    "ms = (technology_availability_df.index == 'Sanctity')\n",
    "sanctity_list = [c for c in civ_name_list if technology_availability_df[ms][c].tolist()[0] == 1]"
   ]
  },
  {
   "cell_type": "code",
   "execution_count": 15,
   "metadata": {},
   "outputs": [],
   "source": [
    "\n",
    "# Aztecs: Monks gain 5 HP for every researched Monastery technology.\n",
    "civilization_bonuses_df = civilization_bonuses_df.T\n",
    "column_name_list = []\n",
    "column_value = unit_availability_df.loc['Monk', 'Hit points']\n",
    "column_name = 'Monks_total_Hit_points_with_all_Monastery_technologies_researched'\n",
    "column_name_list.append(column_name)\n",
    "civilization_bonuses_df[column_name] = column_value"
   ]
  },
  {
   "cell_type": "code",
   "execution_count": 16,
   "metadata": {},
   "outputs": [
    {
     "data": {
      "text/html": [
       "<div>\n",
       "<style scoped>\n",
       "    .dataframe tbody tr th:only-of-type {\n",
       "        vertical-align: middle;\n",
       "    }\n",
       "\n",
       "    .dataframe tbody tr th {\n",
       "        vertical-align: top;\n",
       "    }\n",
       "\n",
       "    .dataframe thead th {\n",
       "        text-align: right;\n",
       "    }\n",
       "</style>\n",
       "<table border=\"1\" class=\"dataframe\">\n",
       "  <thead>\n",
       "    <tr style=\"text-align: right;\">\n",
       "      <th></th>\n",
       "      <th>Turks</th>\n",
       "      <th>Goths</th>\n",
       "      <th>Aztecs</th>\n",
       "      <th>Mongols</th>\n",
       "      <th>Burmese</th>\n",
       "    </tr>\n",
       "    <tr>\n",
       "      <th>Bonus Name</th>\n",
       "      <th></th>\n",
       "      <th></th>\n",
       "      <th></th>\n",
       "      <th></th>\n",
       "      <th></th>\n",
       "    </tr>\n",
       "  </thead>\n",
       "  <tbody>\n",
       "    <tr>\n",
       "      <th>Monks_total_Hit_points_with_all_Monastery_technologies_researched</th>\n",
       "      <td>30.0</td>\n",
       "      <td>30.0</td>\n",
       "      <td>30.0</td>\n",
       "      <td>30.0</td>\n",
       "      <td>30.0</td>\n",
       "    </tr>\n",
       "  </tbody>\n",
       "</table>\n",
       "</div>"
      ],
      "text/plain": [
       "                                                    Turks  Goths  Aztecs  \\\n",
       "Bonus Name                                                                 \n",
       "Monks_total_Hit_points_with_all_Monastery_techn...   30.0   30.0    30.0   \n",
       "\n",
       "                                                    Mongols  Burmese  \n",
       "Bonus Name                                                            \n",
       "Monks_total_Hit_points_with_all_Monastery_techn...     30.0     30.0  "
      ]
     },
     "execution_count": 16,
     "metadata": {},
     "output_type": "execute_result"
    }
   ],
   "source": [
    "\n",
    "civilization_bonuses_df = civilization_bonuses_df.T\n",
    "civilization_bonuses_df.T[column_name_list].sample(5).T"
   ]
  },
  {
   "cell_type": "code",
   "execution_count": 17,
   "metadata": {},
   "outputs": [
    {
     "data": {
      "text/html": [
       "<div>\n",
       "<style scoped>\n",
       "    .dataframe tbody tr th:only-of-type {\n",
       "        vertical-align: middle;\n",
       "    }\n",
       "\n",
       "    .dataframe tbody tr th {\n",
       "        vertical-align: top;\n",
       "    }\n",
       "\n",
       "    .dataframe thead th {\n",
       "        text-align: right;\n",
       "    }\n",
       "</style>\n",
       "<table border=\"1\" class=\"dataframe\">\n",
       "  <thead>\n",
       "    <tr style=\"text-align: right;\">\n",
       "      <th></th>\n",
       "      <th>Vikings</th>\n",
       "      <th>Mongols</th>\n",
       "      <th>Byzantines</th>\n",
       "      <th>Japanese</th>\n",
       "      <th>Berbers</th>\n",
       "    </tr>\n",
       "    <tr>\n",
       "      <th>Bonus Name</th>\n",
       "      <th></th>\n",
       "      <th></th>\n",
       "      <th></th>\n",
       "      <th></th>\n",
       "      <th></th>\n",
       "    </tr>\n",
       "  </thead>\n",
       "  <tbody>\n",
       "    <tr>\n",
       "      <th>Monks_total_Hit_points_with_all_Monastery_technologies_researched</th>\n",
       "      <td>30.0</td>\n",
       "      <td>30.0</td>\n",
       "      <td>45.0</td>\n",
       "      <td>45.0</td>\n",
       "      <td>30.0</td>\n",
       "    </tr>\n",
       "  </tbody>\n",
       "</table>\n",
       "</div>"
      ],
      "text/plain": [
       "                                                    Vikings  Mongols  \\\n",
       "Bonus Name                                                             \n",
       "Monks_total_Hit_points_with_all_Monastery_techn...     30.0     30.0   \n",
       "\n",
       "                                                    Byzantines  Japanese  \\\n",
       "Bonus Name                                                                 \n",
       "Monks_total_Hit_points_with_all_Monastery_techn...        45.0      45.0   \n",
       "\n",
       "                                                    Berbers  \n",
       "Bonus Name                                                   \n",
       "Monks_total_Hit_points_with_all_Monastery_techn...     30.0  "
      ]
     },
     "execution_count": 17,
     "metadata": {},
     "output_type": "execute_result"
    }
   ],
   "source": [
    "\n",
    "# Aztecs: Monks gain 5 HP for every researched Monastery technology.\n",
    "for civ_name in sanctity_list:\n",
    "    civilization_bonuses_df.loc[column_name, civ_name] = 45\n",
    "civilization_bonuses_df.loc[column_name, 'Aztecs'] = 95\n",
    "civilization_bonuses_df.T[column_name_list].sample(5).T"
   ]
  },
  {
   "cell_type": "code",
   "execution_count": 18,
   "metadata": {},
   "outputs": [
    {
     "name": "stdout",
     "output_type": "stream",
     "text": [
      "Saving to C:\\Users\\dev\\Documents\\repositories\\notebooks\\age-of-empires-ii\\data\\csv\\civilization_bonuses_df.csv\n",
      "Saving to C:\\Users\\dev\\Documents\\repositories\\notebooks\\age-of-empires-ii\\saves\\csv\\civilization_bonuses_df.csv\n",
      "Saving to C:\\Users\\dev\\Documents\\repositories\\notebooks\\age-of-empires-ii\\data\\xlsx\\civilization_bonuses_df.xlsx\n"
     ]
    }
   ],
   "source": [
    "\n",
    "columns_list = civilization_bonuses_df.columns\n",
    "file_path = os.path.join(DATA_CSV_FOLDER, 'civilization_bonuses_df.csv')\n",
    "print('Saving to {}'.format(os.path.abspath(file_path)))\n",
    "civilization_bonuses_df[columns_list].to_csv(file_path)\n",
    "save_dataframes(include_index=True, civilization_bonuses_df=civilization_bonuses_df[columns_list])\n",
    "xlsx_folder = os.path.join(DATA_FOLDER, 'xlsx')\n",
    "os.makedirs(name=xlsx_folder, exist_ok=True)\n",
    "file_path = os.path.join(xlsx_folder, 'civilization_bonuses_df.xlsx')\n",
    "print('Saving to {}'.format(os.path.abspath(file_path)))\n",
    "civilization_bonuses_df[columns_list].to_excel(file_path)"
   ]
  },
  {
   "cell_type": "markdown",
   "metadata": {},
   "source": [
    "\n",
    "## Teutons: Monks have double healing range."
   ]
  },
  {
   "cell_type": "code",
   "execution_count": 13,
   "metadata": {
    "scrolled": true
   },
   "outputs": [
    {
     "name": "stdout",
     "output_type": "stream",
     "text": [
      "Attempting to load C:\\Users\\dev\\Documents\\repositories\\notebooks\\age-of-empires-ii\\saves\\pickle\\civilization_bonuses_df.pickle.\n",
      "No pickle exists - attempting to load C:\\Users\\dev\\Documents\\repositories\\notebooks\\age-of-empires-ii\\saves\\csv\\civilization_bonuses_df.csv.\n"
     ]
    }
   ],
   "source": [
    "\n",
    "index_name = 'Bonus Name'\n",
    "dataframes_dict = load_dataframes(civilization_bonuses_df='civilization_bonuses_df')\n",
    "civilization_bonuses_df = dataframes_dict['civilization_bonuses_df']\n",
    "if 'Unnamed: 0' in civilization_bonuses_df.columns:\n",
    "    civilization_bonuses_df = civilization_bonuses_df.set_index('Unnamed: 0')\n",
    "elif index_name in civilization_bonuses_df.columns:\n",
    "    civilization_bonuses_df = civilization_bonuses_df.set_index(index_name)\n",
    "civilization_bonuses_df.index.name = index_name"
   ]
  },
  {
   "cell_type": "code",
   "execution_count": 14,
   "metadata": {},
   "outputs": [
    {
     "name": "stdout",
     "output_type": "stream",
     "text": [
      "Attempting to load C:\\Users\\dev\\Documents\\repositories\\notebooks\\age-of-empires-ii\\saves\\pickle\\unit_availability_df.pickle.\n",
      "No pickle exists - attempting to load C:\\Users\\dev\\Documents\\repositories\\notebooks\\age-of-empires-ii\\saves\\csv\\unit_availability_df.csv.\n"
     ]
    }
   ],
   "source": [
    "\n",
    "index_name = 'Unit Name'\n",
    "dataframes_dict = load_dataframes(unit_availability_df='unit_availability_df')\n",
    "unit_availability_df = dataframes_dict['unit_availability_df']\n",
    "if 'Unnamed: 0' in unit_availability_df.columns:\n",
    "    unit_availability_df = unit_availability_df.set_index('Unnamed: 0')\n",
    "elif index_name in unit_availability_df.columns:\n",
    "    unit_availability_df = unit_availability_df.set_index(index_name)\n",
    "unit_availability_df.index.name = index_name"
   ]
  },
  {
   "cell_type": "code",
   "execution_count": 20,
   "metadata": {},
   "outputs": [
    {
     "data": {
      "text/plain": [
       "{'Attack_or_Conversion_Range_vs_buildings', 'In_Monk_Unit_Type', 'AttackBonusvsMonk', 'Attack_or_Conversion_Range_vs_units', 'Teutons', 'In_Healer_Unit_Type', 'In_Monk_Armor_class', 'Minimum range'}"
      ]
     },
     "execution_count": 20,
     "metadata": {},
     "output_type": "execute_result"
    }
   ],
   "source": [
    "\n",
    "# Teutons: Monks have double healing range.\n",
    "resource_set = set()\n",
    "for column_name in unit_availability_df.columns:\n",
    "    resource_boolean = ('teut' in column_name.lower())\n",
    "    resource_boolean = resource_boolean or ('monk' in column_name.lower())\n",
    "    resource_boolean = resource_boolean or ('heal' in column_name.lower())\n",
    "    resource_boolean = resource_boolean or ('range' in column_name.lower())\n",
    "    if resource_boolean:\n",
    "        resource_set.add(column_name)\n",
    "resource_set"
   ]
  },
  {
   "cell_type": "code",
   "execution_count": null,
   "metadata": {},
   "outputs": [],
   "source": []
  },
  {
   "cell_type": "markdown",
   "metadata": {},
   "source": [
    "\n",
    "## Teutons: Murder Holes are free."
   ]
  },
  {
   "cell_type": "markdown",
   "metadata": {},
   "source": [
    "\n",
    "## Khmer: No buildings are required to advance to the next Age or to unlock other buildings."
   ]
  },
  {
   "cell_type": "markdown",
   "metadata": {},
   "source": [
    "\n",
    "## Ethiopians: Receive 100 gold and 100 food when advancing to the next Age."
   ]
  },
  {
   "cell_type": "markdown",
   "metadata": {},
   "source": [
    "\n",
    "## Mayans: Resources last 15% longer."
   ]
  },
  {
   "cell_type": "markdown",
   "metadata": {},
   "source": [
    "\n",
    "## Vietnamese: Reveal enemy positions at game start."
   ]
  },
  {
   "cell_type": "markdown",
   "metadata": {},
   "source": [
    "\n",
    "## Britons: Shepherds work 25% faster."
   ]
  },
  {
   "cell_type": "markdown",
   "metadata": {},
   "source": [
    "\n",
    "## Berbers: Ships move +10% faster."
   ]
  },
  {
   "cell_type": "markdown",
   "metadata": {},
   "source": [
    "\n",
    "## Celts: Siege weapons fire 20% faster."
   ]
  },
  {
   "cell_type": "markdown",
   "metadata": {},
   "source": [
    "\n",
    "## Slavs: Siege Workshop units are 15% cheaper."
   ]
  },
  {
   "cell_type": "markdown",
   "metadata": {},
   "source": [
    "\n",
    "## Berbers: Stable units cost -15%/-20% in the Castle / Imperial Age."
   ]
  },
  {
   "cell_type": "markdown",
   "metadata": {},
   "source": [
    "\n",
    "## Chinese: Start game with three extra Villagers , but with -200 food and -50 wood."
   ]
  },
  {
   "cell_type": "markdown",
   "metadata": {},
   "source": [
    "\n",
    "## Mayans: Start the game with +1 Villager , but with -50 food."
   ]
  },
  {
   "cell_type": "markdown",
   "metadata": {},
   "source": [
    "\n",
    "## Persians: Start the game with +50 food and +50 wood."
   ]
  },
  {
   "cell_type": "markdown",
   "metadata": {},
   "source": [
    "\n",
    "## Aztecs: Start the game with an Eagle Scout."
   ]
  },
  {
   "cell_type": "markdown",
   "metadata": {},
   "source": [
    "\n",
    "## Incas: Start the game with an Eagle Scout."
   ]
  },
  {
   "cell_type": "markdown",
   "metadata": {},
   "source": [
    "\n",
    "## Mayans: Start the game with an Eagle Scout."
   ]
  },
  {
   "cell_type": "markdown",
   "metadata": {},
   "source": [
    "\n",
    "## Aztecs: Start with +50 gold."
   ]
  },
  {
   "cell_type": "markdown",
   "metadata": {},
   "source": [
    "\n",
    "## Incas: Start with a free Llama."
   ]
  },
  {
   "cell_type": "markdown",
   "metadata": {},
   "source": [
    "\n",
    "## Koreans: Stone Miners work 20% faster."
   ]
  },
  {
   "cell_type": "markdown",
   "metadata": {},
   "source": [
    "\n",
    "## Chinese: Technologies are 10%/15%/20% cheaper in the Feudal/Castle/Imperial Age."
   ]
  },
  {
   "cell_type": "markdown",
   "metadata": {},
   "source": [
    "\n",
    "## Saracens: The commodity trading fee is 5%."
   ]
  },
  {
   "cell_type": "markdown",
   "metadata": {},
   "source": [
    "\n",
    "## Portuguese: The Feitoria becomes available for building in the Imperial Age."
   ]
  },
  {
   "cell_type": "markdown",
   "metadata": {},
   "source": [
    "\n",
    "## Ethiopians: The Pikeman upgrade is free."
   ]
  },
  {
   "cell_type": "markdown",
   "metadata": {},
   "source": [
    "\n",
    "## Magyars: The Scout Cavalry line is 15% cheaper."
   ]
  },
  {
   "cell_type": "markdown",
   "metadata": {},
   "source": [
    "\n",
    "## Koreans: Tower upgrades are free ( Bombard Tower requires Chemistry )."
   ]
  },
  {
   "cell_type": "markdown",
   "metadata": {},
   "source": [
    "\n",
    "## Koreans: Towers (except Bombard Towers ) have +1/+2 range in the Castle/Imperial Age."
   ]
  },
  {
   "cell_type": "markdown",
   "metadata": {},
   "source": [
    "\n",
    "## Teutons: Towers garrison twice as many units."
   ]
  },
  {
   "cell_type": "markdown",
   "metadata": {},
   "source": [
    "\n",
    "## Persians: Town Centers and Docks have double HP and work 10%/15%/20% faster in the Feudal/Castle/Imperial Age."
   ]
  },
  {
   "cell_type": "markdown",
   "metadata": {},
   "source": [
    "\n",
    "## Teutons: Town Centers can garrison +10 units."
   ]
  },
  {
   "cell_type": "markdown",
   "metadata": {},
   "source": [
    "\n",
    "### Britons: Town Centers cost -50% wood once the Castle Age is reached."
   ]
  },
  {
   "cell_type": "markdown",
   "metadata": {},
   "source": [
    "\n",
    "## Chinese: Town Centers support ten population and have +5 LOS."
   ]
  },
  {
   "cell_type": "markdown",
   "metadata": {},
   "source": [
    "\n",
    "## Byzantines: Town Watch is free."
   ]
  },
  {
   "cell_type": "markdown",
   "metadata": {},
   "source": [
    "\n",
    "## Slavs: Tracking is free."
   ]
  },
  {
   "cell_type": "markdown",
   "metadata": {},
   "source": [
    "\n",
    "## Saracens: Transport Ships have double HP and +5 carry capacity."
   ]
  },
  {
   "cell_type": "markdown",
   "metadata": {},
   "source": [
    "\n",
    "## Huns: Trebuchets are 30% more accurate."
   ]
  },
  {
   "cell_type": "markdown",
   "metadata": {},
   "source": [
    "\n",
    "## Indians: Villagers are 10%/15%/20%/25% cheaper in the Dark/Feudal/Castle/Imperial Age."
   ]
  },
  {
   "cell_type": "markdown",
   "metadata": {},
   "source": [
    "\n",
    "## Incas: Villagers benefit from Blacksmith infantry upgrades."
   ]
  },
  {
   "cell_type": "markdown",
   "metadata": {},
   "source": [
    "\n",
    "## Khmer: Villagers can garrison in Houses."
   ]
  },
  {
   "cell_type": "markdown",
   "metadata": {},
   "source": [
    "\n",
    "## Aztecs: Villagers carry +5 extra resources."
   ]
  },
  {
   "cell_type": "markdown",
   "metadata": {},
   "source": [
    "\n",
    "## Koreans: Villagers have +3 Line of Sight."
   ]
  },
  {
   "cell_type": "markdown",
   "metadata": {},
   "source": [
    "\n",
    "## Goths: Villagers have +5 attack against Wild Boars and carry +15 food from hunting."
   ]
  },
  {
   "cell_type": "markdown",
   "metadata": {},
   "source": [
    "\n",
    "## Magyars: Villagers kill wild animals in one strike."
   ]
  },
  {
   "cell_type": "markdown",
   "metadata": {},
   "source": [
    "\n",
    "## Berbers: Villagers move +10% faster."
   ]
  },
  {
   "cell_type": "markdown",
   "metadata": {},
   "source": [
    "\n",
    "## Vikings: Warships are 15%/15%/20% cheaper in the Feudal/Castle/Imperial Age."
   ]
  },
  {
   "cell_type": "markdown",
   "metadata": {},
   "source": [
    "\n",
    "## Vikings: Wheelbarrow and Hand Cart are free."
   ]
  },
  {
   "cell_type": "code",
   "execution_count": null,
   "metadata": {},
   "outputs": [],
   "source": []
  }
 ],
 "metadata": {
  "kernelspec": {
   "display_name": "Python 3",
   "language": "python",
   "name": "python3"
  },
  "language_info": {
   "codemirror_mode": {
    "name": "ipython",
    "version": 3
   },
   "file_extension": ".py",
   "mimetype": "text/x-python",
   "name": "python",
   "nbconvert_exporter": "python",
   "pygments_lexer": "ipython3",
   "version": "3.6.8"
  }
 },
 "nbformat": 4,
 "nbformat_minor": 2
}
