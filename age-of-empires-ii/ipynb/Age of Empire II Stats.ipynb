{
 "cells": [
  {
   "cell_type": "code",
   "execution_count": 1,
   "metadata": {},
   "outputs": [
    {
     "name": "stdout",
     "output_type": "stream",
     "text": [
      "DATA_FOLDER: ../data/\n",
      "SAVES_FOLDER: ../saves/\n",
      "Pretty printing has been turned OFF\n",
      "DATA_CSV_FOLDER\t DATA_FOLDER\t ENCODING_TYPE\t SAVES_CSV_FOLDER\t SAVES_FOLDER\t SAVES_PICKLE_FOLDER\t attempt_to_pickle\t example_iterrows\t get_column_descriptions\t \n",
      "load_csv\t load_dataframes\t load_object\t math\t os\t pd\t pickle\t save_dataframes\t store_objects\t \n",
      "sys\t \n"
     ]
    }
   ],
   "source": [
    "\n",
    "%run ../../load_magic/storage.py\n",
    "%run ../../load_magic/dataframes.py\n",
    "from bs4 import BeautifulSoup\n",
    "%pprint\n",
    "%who"
   ]
  },
  {
   "cell_type": "markdown",
   "metadata": {},
   "source": [
    "\n",
    "# More webscraping"
   ]
  },
  {
   "cell_type": "code",
   "execution_count": 22,
   "metadata": {
    "scrolled": false
   },
   "outputs": [
    {
     "name": "stdout",
     "output_type": "stream",
     "text": [
      "4\n"
     ]
    }
   ],
   "source": [
    "\n",
    "wiki_url = 'https://ageofempires.fandom.com/wiki/'\n",
    "tables_url = '{}Villager_(Age_of_Empires_II)'.format(wiki_url)\n",
    "tables_df_list = pd.read_html(tables_url)\n",
    "print(len(tables_df_list))\n",
    "villager_gathering_rate_df = tables_df_list[1]"
   ]
  },
  {
   "cell_type": "code",
   "execution_count": 21,
   "metadata": {},
   "outputs": [
    {
     "data": {
      "text/html": [
       "<div>\n",
       "<style scoped>\n",
       "    .dataframe tbody tr th:only-of-type {\n",
       "        vertical-align: middle;\n",
       "    }\n",
       "\n",
       "    .dataframe tbody tr th {\n",
       "        vertical-align: top;\n",
       "    }\n",
       "\n",
       "    .dataframe thead th {\n",
       "        text-align: right;\n",
       "    }\n",
       "</style>\n",
       "<table border=\"1\" class=\"dataframe\">\n",
       "  <thead>\n",
       "    <tr style=\"text-align: right;\">\n",
       "      <th></th>\n",
       "      <th>Villager type</th>\n",
       "      <th>Resource</th>\n",
       "      <th>Gathering rate (resources/second)</th>\n",
       "    </tr>\n",
       "  </thead>\n",
       "  <tbody>\n",
       "    <tr>\n",
       "      <th>0</th>\n",
       "      <td>Farmer</td>\n",
       "      <td>Food</td>\n",
       "      <td>0.53*</td>\n",
       "    </tr>\n",
       "    <tr>\n",
       "      <th>1</th>\n",
       "      <td>Fisherman</td>\n",
       "      <td>Food</td>\n",
       "      <td>0.43</td>\n",
       "    </tr>\n",
       "    <tr>\n",
       "      <th>2</th>\n",
       "      <td>Hunter</td>\n",
       "      <td>Food</td>\n",
       "      <td>0.41</td>\n",
       "    </tr>\n",
       "    <tr>\n",
       "      <th>3</th>\n",
       "      <td>Lumberjack</td>\n",
       "      <td>Wood</td>\n",
       "      <td>0.39</td>\n",
       "    </tr>\n",
       "    <tr>\n",
       "      <th>4</th>\n",
       "      <td>Gold Miner</td>\n",
       "      <td>Gold</td>\n",
       "      <td>0.38</td>\n",
       "    </tr>\n",
       "    <tr>\n",
       "      <th>5</th>\n",
       "      <td>Stone Miner</td>\n",
       "      <td>Stone</td>\n",
       "      <td>0.36</td>\n",
       "    </tr>\n",
       "    <tr>\n",
       "      <th>6</th>\n",
       "      <td>Shepherd</td>\n",
       "      <td>Food</td>\n",
       "      <td>0.33</td>\n",
       "    </tr>\n",
       "    <tr>\n",
       "      <th>7</th>\n",
       "      <td>Forager</td>\n",
       "      <td>Food</td>\n",
       "      <td>0.31</td>\n",
       "    </tr>\n",
       "  </tbody>\n",
       "</table>\n",
       "</div>"
      ],
      "text/plain": [
       "  Villager type Resource Gathering rate (resources/second)\n",
       "0        Farmer     Food                             0.53*\n",
       "1     Fisherman     Food                              0.43\n",
       "2        Hunter     Food                              0.41\n",
       "3    Lumberjack     Wood                              0.39\n",
       "4    Gold Miner     Gold                              0.38\n",
       "5   Stone Miner    Stone                              0.36\n",
       "6      Shepherd     Food                              0.33\n",
       "7       Forager     Food                              0.31"
      ]
     },
     "execution_count": 21,
     "metadata": {},
     "output_type": "execute_result"
    }
   ],
   "source": [
    "\n",
    "villager_gathering_rate_df"
   ]
  },
  {
   "cell_type": "code",
   "execution_count": null,
   "metadata": {
    "scrolled": false
   },
   "outputs": [],
   "source": [
    "\n",
    "tables_url = '{}Civilizations_(Age_of_Empires_II)'.format(wiki_url)\n",
    "tables_df_list = pd.read_html(tables_url)\n",
    "len(tables_df_list)"
   ]
  },
  {
   "cell_type": "code",
   "execution_count": null,
   "metadata": {},
   "outputs": [],
   "source": [
    "\n",
    "tables_df_list[0]"
   ]
  },
  {
   "cell_type": "code",
   "execution_count": null,
   "metadata": {},
   "outputs": [],
   "source": [
    "\n",
    "tables_df_list[2]"
   ]
  },
  {
   "cell_type": "code",
   "execution_count": null,
   "metadata": {},
   "outputs": [],
   "source": [
    "\n",
    "file_path = os.path.join(html_folder, 'military_unit_links.html')\n",
    "with open(file_path, 'rb') as f:\n",
    "    html_doc = f.read().decode('utf-8')\n",
    "soup = BeautifulSoup(html_doc, 'html.parser')"
   ]
  },
  {
   "cell_type": "markdown",
   "metadata": {},
   "source": [
    "\n",
    "# Scraping the Availability Stats"
   ]
  },
  {
   "cell_type": "code",
   "execution_count": 52,
   "metadata": {},
   "outputs": [],
   "source": [
    "\n",
    "summary_box_url = 'https://ageofempires.fandom.com/wiki/Age_of_Empires_II:_The_Age_of_Kings'\n",
    "with urllib.request.urlopen(summary_box_url) as response:\n",
    "    summary_box_html = response.read()\n",
    "summary_box_soup = BeautifulSoup(summary_box_html, 'html.parser')\n",
    "summary_box_selector = '#mw-content-text > table[class=\"navbox\"]:nth-child(114)'\n",
    "summary_box_table = summary_box_soup.select(summary_box_selector)[0]"
   ]
  },
  {
   "cell_type": "code",
   "execution_count": 226,
   "metadata": {},
   "outputs": [],
   "source": [
    "\n",
    "tr_soup_dict = {}\n",
    "tr_list = []\n",
    "th_list = ['The Age of Kings', 'Infantry', 'Archers', 'Cavalry', 'Siege', 'Navy', 'Unique',\n",
    "           'The Conquerors', 'The Forgotten', 'The African Kingdoms', 'Rise of the Rajas']\n",
    "military_units_list = ['Infantry', 'Archers', 'Cavalry', 'Siege', 'Navy', 'Unique']\n",
    "heading_list = []\n",
    "for summary_box_th in summary_box_table.find_all('th'):\n",
    "    for heading in th_list:\n",
    "        if heading in summary_box_th.text:\n",
    "            tr_soup_dict[heading] = summary_box_th.parent\n",
    "            if heading in military_units_list:\n",
    "                tr_list.append(tr_soup_dict[heading])\n",
    "            else:\n",
    "                tr_list.append(tr_soup_dict[heading].next_sibling)\n",
    "            heading_list.append(heading)"
   ]
  },
  {
   "cell_type": "code",
   "execution_count": 216,
   "metadata": {},
   "outputs": [],
   "source": [
    "\n",
    "def get_link_html(link):\n",
    "    link_url = 'https://ageofempires.fandom.com{}'.format(link['href'])\n",
    "    if '_(Age_of_Empires_II)' in link_url:\n",
    "        with urllib.request.urlopen(link_url) as response:\n",
    "            link_html = response.read()\n",
    "    else:\n",
    "        try:\n",
    "            extended_link_url = '{}_(Age_of_Empires_II)'.format(link_url)\n",
    "            with urllib.request.urlopen(extended_link_url) as response:\n",
    "                link_html = response.read()\n",
    "            link_url = extended_link_url\n",
    "        except:\n",
    "            with urllib.request.urlopen(link_url) as response:\n",
    "                link_html = response.read()\n",
    "    \n",
    "    return link_url, link_html"
   ]
  },
  {
   "cell_type": "code",
   "execution_count": 265,
   "metadata": {},
   "outputs": [],
   "source": [
    "\n",
    "def process_all_except(appl_civ_text, row_dict):\n",
    "    for civ_name in civ_name_list:\n",
    "        if civ_name in appl_civ_text:\n",
    "            row_dict[civ_name] = 0\n",
    "        else:\n",
    "            row_dict[civ_name] = 1\n",
    "    \n",
    "    return row_dict"
   ]
  },
  {
   "cell_type": "code",
   "execution_count": 266,
   "metadata": {},
   "outputs": [],
   "source": [
    "\n",
    "def process_article(link_soup, row_dict):\n",
    "    art_table = art_table_list[0]\n",
    "    art_ul_list = art_table.find_all('ul')\n",
    "    assert len(art_ul_list) == 2\n",
    "\n",
    "    # Get available civs\n",
    "    available_ul = art_ul_list[0]\n",
    "    for link in available_ul.find_all('a'):\n",
    "        civ_name = link['title'].split('(')[0].strip()\n",
    "        row_dict[civ_name] = 1\n",
    "\n",
    "    # Get unavailable civs\n",
    "    unavailable_ul = art_ul_list[1]\n",
    "    for link in unavailable_ul.find_all('a'):\n",
    "        civ_name = link['title'].split('(')[0].strip()\n",
    "        row_dict[civ_name] = 0\n",
    "\n",
    "    return row_dict"
   ]
  },
  {
   "cell_type": "code",
   "execution_count": 267,
   "metadata": {},
   "outputs": [],
   "source": [
    "\n",
    "space_regex = re.compile(r'\\s+')\n",
    "def process_small_list_of_units(appl_civ_text, row_dict):\n",
    "    appl_civ_list = space_regex.split(appl_civ_text)\n",
    "    for civ_name in civ_name_list:\n",
    "        row_dict[civ_name] = 0\n",
    "    for civ_name in appl_civ_list:\n",
    "        if civ_name in civ_name_list:\n",
    "            row_dict[civ_name] = 1\n",
    "    \n",
    "    return row_dict"
   ]
  },
  {
   "cell_type": "code",
   "execution_count": 268,
   "metadata": {},
   "outputs": [],
   "source": [
    "\n",
    "toc_selector = '#toc'\n",
    "def process_exceptions(link_soup, row_dict):\n",
    "    desc_p_list = link_soup.select(toc_selector)\n",
    "    if len(desc_p_list):\n",
    "        for sib in desc_p_list[0].previous_siblings:\n",
    "            if 'available to all civilizations except for' in str(sib):\n",
    "                break\n",
    "        process_all_except(sib.text.strip(), row_dict)\n",
    "    \n",
    "    return row_dict"
   ]
  },
  {
   "cell_type": "code",
   "execution_count": 273,
   "metadata": {},
   "outputs": [],
   "source": [
    "\n",
    "article_selector = '#mw-content-text > table.article-table'\n",
    "def process_unit(link_soup, appl_civ_text, row_dict):\n",
    "    for column_name in civ_name_list:\n",
    "        columns_set.add(column_name)\n",
    "    if 'All civilizations' in appl_civ_text:\n",
    "        for civ_name in civ_name_list:\n",
    "            row_dict[civ_name] = 1\n",
    "    elif 'All except ' in appl_civ_text:\n",
    "        row_dict = process_all_except(appl_civ_text, row_dict)\n",
    "    elif 'See ' in appl_civ_text:\n",
    "        art_table_list = link_soup.select(article_selector)\n",
    "        if len(art_table_list):\n",
    "            row_dict = process_article(link_soup, row_dict)\n",
    "        else:\n",
    "            row_dict = process_exceptions(link_soup, row_dict)\n",
    "    else:\n",
    "        row_dict = process_small_list_of_units(appl_civ_text, row_dict)\n",
    "    \n",
    "    return row_dict"
   ]
  },
  {
   "cell_type": "code",
   "execution_count": 290,
   "metadata": {},
   "outputs": [],
   "source": [
    "\n",
    "def consume_aside(unit_soup, row_dict):\n",
    "    aside_list = unit_soup.select('#mw-content-text > aside')\n",
    "    for aside_soup in aside_list:\n",
    "        for data_source_div in aside_soup.find_all('div', {'data-source': True}):\n",
    "            data_source_h3_list = data_source_div.find_all('h3')\n",
    "            if len(data_source_h3_list):\n",
    "                h3_siblings_list = list(data_source_h3_list[0].next_siblings)\n",
    "                if len(h3_siblings_list):\n",
    "                    column_name = data_source_div['data-source']\n",
    "                    value_list = list(h3_siblings_list[1].strings)\n",
    "                    column_value = ' '.join(x.strip() for x in value_list)\n",
    "                    if column_name == 'Civilization':\n",
    "                        row_dict = process_unit(unit_soup, column_value, row_dict)\n",
    "                    else:\n",
    "                        columns_set.add(column_name)\n",
    "                        row_dict[column_name] = column_value\n",
    "    \n",
    "    return row_dict"
   ]
  },
  {
   "cell_type": "code",
   "execution_count": 291,
   "metadata": {},
   "outputs": [],
   "source": [
    "\n",
    "appl_civ_selector = '#mw-content-text > aside > section > div[data-source=\"Civilization\"] > div'\n",
    "title_selector = '#PageHeader > div.page-header__main > h1'\n",
    "def get_unit_pages(soup, heading):\n",
    "    for link in soup.find_all('a'):\n",
    "        unit_row_dict = {'Heading': heading}\n",
    "        unit_url, unit_html = get_link_html(link)\n",
    "        unit_soup = BeautifulSoup(unit_html, 'html.parser')\n",
    "        unit_title = unit_soup.select(title_selector)[0].string.split('(')[0].strip()\n",
    "        index_list.append(unit_title)\n",
    "        rows_list.append(consume_aside(unit_soup, unit_row_dict))"
   ]
  },
  {
   "cell_type": "code",
   "execution_count": 292,
   "metadata": {},
   "outputs": [],
   "source": [
    "\n",
    "rows_list = []\n",
    "index_list = []\n",
    "columns_set = set(['Heading'])\n",
    "for soup, heading in zip(tr_list, heading_list):\n",
    "    get_unit_pages(soup, heading)"
   ]
  },
  {
   "cell_type": "code",
   "execution_count": 293,
   "metadata": {},
   "outputs": [
    {
     "name": "stdout",
     "output_type": "stream",
     "text": [
      "(104, 61)\n"
     ]
    },
    {
     "data": {
      "text/plain": [
       "(104, 61)"
      ]
     },
     "execution_count": 293,
     "metadata": {},
     "output_type": "execute_result"
    }
   ],
   "source": [
    "\n",
    "other_columns_set = columns_set - set(civ_name_list)\n",
    "other_columns_set = other_columns_set - set(['Heading'])\n",
    "columns_list = ['Heading'] + list(other_columns_set) + civ_name_list\n",
    "availability_df = pd.DataFrame(data=rows_list, index=index_list, columns=columns_list)\n",
    "print(availability_df.shape)\n",
    "availability_df[availability_df.isnull().any(axis=1)].shape"
   ]
  },
  {
   "cell_type": "code",
   "execution_count": 295,
   "metadata": {
    "scrolled": false
   },
   "outputs": [
    {
     "data": {
      "text/plain": [
       "Required                                                     NaN\n",
       "PSpeed                                                       NaN\n",
       "AttackBonus                                                  NaN\n",
       "FD                                                           NaN\n",
       "Wood                                                         NaN\n",
       "UpTime                                                       NaN\n",
       "UpTo                                                         NaN\n",
       "Type                                                 Monk Healer\n",
       "MinRange                                                     NaN\n",
       "Range          Conversion : 9 vs units 0 vs buildings , Trebu...\n",
       "PierceArmor                                                    0\n",
       "Speed                                                        0.7\n",
       "TrainTime                                             51 seconds\n",
       "UpCost                                                       NaN\n",
       "Age                                                   Castle Age\n",
       "Garrison                                                     NaN\n",
       "HP                                                            30\n",
       "Intro                                           The Age of Kings\n",
       "LOS                                                           11\n",
       "Food                                                         NaN\n",
       "UpFrom                                                       NaN\n",
       "AOE                                                          NaN\n",
       "Attack                                                       NaN\n",
       "ROF                                                           62\n",
       "Class                                                       Monk\n",
       "Building                                               Monastery\n",
       "Gold                                                         100\n",
       "Accuracy                                                     NaN\n",
       "Armor                                                          0\n",
       "Name: Monk, dtype: object"
      ]
     },
     "execution_count": 295,
     "metadata": {},
     "output_type": "execute_result"
    }
   ],
   "source": [
    "\n",
    "availability_df.loc['Monk', other_columns_set].T"
   ]
  },
  {
   "cell_type": "code",
   "execution_count": null,
   "metadata": {},
   "outputs": [],
   "source": [
    "\n",
    "def f(x):\n",
    "    x = str(x)\n",
    "    if ':' in x or ',' in x:\n",
    "        \n",
    "        return True\n",
    "    \n",
    "    else:\n",
    "        \n",
    "        return False"
   ]
  },
  {
   "cell_type": "code",
   "execution_count": 302,
   "metadata": {},
   "outputs": [
    {
     "data": {
      "text/html": [
       "<div>\n",
       "<style scoped>\n",
       "    .dataframe tbody tr th:only-of-type {\n",
       "        vertical-align: middle;\n",
       "    }\n",
       "\n",
       "    .dataframe tbody tr th {\n",
       "        vertical-align: top;\n",
       "    }\n",
       "\n",
       "    .dataframe thead th {\n",
       "        text-align: right;\n",
       "    }\n",
       "</style>\n",
       "<table border=\"1\" class=\"dataframe\">\n",
       "  <thead>\n",
       "    <tr style=\"text-align: right;\">\n",
       "      <th></th>\n",
       "      <th>Capped Ram</th>\n",
       "      <th>Huskarl</th>\n",
       "      <th>Trebuchet</th>\n",
       "      <th>War Elephant</th>\n",
       "      <th>Bombard Cannon</th>\n",
       "    </tr>\n",
       "  </thead>\n",
       "  <tbody>\n",
       "    <tr>\n",
       "      <th>AttackBonus</th>\n",
       "      <td>+150 vs Building +50 vs Siege weapon</td>\n",
       "      <td>+6 , +10  (Elite) vs Archer +2, +3 (Elite) vs ...</td>\n",
       "      <td>+250 vs Building  (unpacked)</td>\n",
       "      <td>+7, +10 (Elite) vs Building +7, +10 (Elite) vs...</td>\n",
       "      <td>+200 vs Building +40 vs Ship +40 vs Stone defe...</td>\n",
       "    </tr>\n",
       "    <tr>\n",
       "      <th>FD</th>\n",
       "      <td>NaN</td>\n",
       "      <td>NaN</td>\n",
       "      <td>6 (unpacked)</td>\n",
       "      <td>NaN</td>\n",
       "      <td>7</td>\n",
       "    </tr>\n",
       "    <tr>\n",
       "      <th>Range</th>\n",
       "      <td>NaN</td>\n",
       "      <td>NaN</td>\n",
       "      <td>16</td>\n",
       "      <td>NaN</td>\n",
       "      <td>12</td>\n",
       "    </tr>\n",
       "    <tr>\n",
       "      <th>PierceArmor</th>\n",
       "      <td>190</td>\n",
       "      <td>6 , 8  (Elite)</td>\n",
       "      <td>8 (packed) 150 (unpacked)</td>\n",
       "      <td>2, 3 (Elite)</td>\n",
       "      <td>5</td>\n",
       "    </tr>\n",
       "    <tr>\n",
       "      <th>TrainTime</th>\n",
       "      <td>36 seconds</td>\n",
       "      <td>16 seconds</td>\n",
       "      <td>50 seconds</td>\n",
       "      <td>31 seconds</td>\n",
       "      <td>56 seconds</td>\n",
       "    </tr>\n",
       "    <tr>\n",
       "      <th>UpCost</th>\n",
       "      <td>1,000 food</td>\n",
       "      <td>1,200 food , 550 gold</td>\n",
       "      <td>NaN</td>\n",
       "      <td>1,600 food , 1,200 gold</td>\n",
       "      <td>NaN</td>\n",
       "    </tr>\n",
       "    <tr>\n",
       "      <th>HP</th>\n",
       "      <td>200</td>\n",
       "      <td>60, 70 (Elite)</td>\n",
       "      <td>150</td>\n",
       "      <td>450, 600 (Elite)</td>\n",
       "      <td>80</td>\n",
       "    </tr>\n",
       "    <tr>\n",
       "      <th>LOS</th>\n",
       "      <td>3</td>\n",
       "      <td>3, 5 (Elite)</td>\n",
       "      <td>19</td>\n",
       "      <td>4, 5 (Elite)</td>\n",
       "      <td>14</td>\n",
       "    </tr>\n",
       "    <tr>\n",
       "      <th>Attack</th>\n",
       "      <td>3 melee</td>\n",
       "      <td>10, 12 (Elite)  melee</td>\n",
       "      <td>200 pierce  (unpacked)</td>\n",
       "      <td>15, 20 (Elite)  melee</td>\n",
       "      <td>40 melee</td>\n",
       "    </tr>\n",
       "    <tr>\n",
       "      <th>ROF</th>\n",
       "      <td>5</td>\n",
       "      <td>2.03</td>\n",
       "      <td>10 (unpacked)</td>\n",
       "      <td>2.03</td>\n",
       "      <td>6.5</td>\n",
       "    </tr>\n",
       "    <tr>\n",
       "      <th>Class</th>\n",
       "      <td>Siege weapon Ram (+1)</td>\n",
       "      <td>Infantry Unique unit</td>\n",
       "      <td>Siege weapon Ram  (unpacked)</td>\n",
       "      <td>Cavalry War elephant Unique unit</td>\n",
       "      <td>Siege weapon Gunpowder unit</td>\n",
       "    </tr>\n",
       "    <tr>\n",
       "      <th>Accuracy</th>\n",
       "      <td>NaN</td>\n",
       "      <td>NaN</td>\n",
       "      <td>80% against buildings 15% against units</td>\n",
       "      <td>NaN</td>\n",
       "      <td>92%</td>\n",
       "    </tr>\n",
       "    <tr>\n",
       "      <th>Armor</th>\n",
       "      <td>-3</td>\n",
       "      <td>0</td>\n",
       "      <td>2 (packed) 1 (unpacked)</td>\n",
       "      <td>1</td>\n",
       "      <td>2</td>\n",
       "    </tr>\n",
       "  </tbody>\n",
       "</table>\n",
       "</div>"
      ],
      "text/plain": [
       "                                       Capped Ram  \\\n",
       "AttackBonus  +150 vs Building +50 vs Siege weapon   \n",
       "FD                                            NaN   \n",
       "Range                                         NaN   \n",
       "PierceArmor                                   190   \n",
       "TrainTime                              36 seconds   \n",
       "UpCost                                 1,000 food   \n",
       "HP                                            200   \n",
       "LOS                                             3   \n",
       "Attack                                    3 melee   \n",
       "ROF                                             5   \n",
       "Class                       Siege weapon Ram (+1)   \n",
       "Accuracy                                      NaN   \n",
       "Armor                                          -3   \n",
       "\n",
       "                                                       Huskarl  \\\n",
       "AttackBonus  +6 , +10  (Elite) vs Archer +2, +3 (Elite) vs ...   \n",
       "FD                                                         NaN   \n",
       "Range                                                      NaN   \n",
       "PierceArmor                                     6 , 8  (Elite)   \n",
       "TrainTime                                           16 seconds   \n",
       "UpCost                                   1,200 food , 550 gold   \n",
       "HP                                              60, 70 (Elite)   \n",
       "LOS                                               3, 5 (Elite)   \n",
       "Attack                                   10, 12 (Elite)  melee   \n",
       "ROF                                                       2.03   \n",
       "Class                                     Infantry Unique unit   \n",
       "Accuracy                                                   NaN   \n",
       "Armor                                                        0   \n",
       "\n",
       "                                           Trebuchet  \\\n",
       "AttackBonus             +250 vs Building  (unpacked)   \n",
       "FD                                      6 (unpacked)   \n",
       "Range                                             16   \n",
       "PierceArmor                8 (packed) 150 (unpacked)   \n",
       "TrainTime                                 50 seconds   \n",
       "UpCost                                           NaN   \n",
       "HP                                               150   \n",
       "LOS                                               19   \n",
       "Attack                        200 pierce  (unpacked)   \n",
       "ROF                                    10 (unpacked)   \n",
       "Class                   Siege weapon Ram  (unpacked)   \n",
       "Accuracy     80% against buildings 15% against units   \n",
       "Armor                        2 (packed) 1 (unpacked)   \n",
       "\n",
       "                                                  War Elephant  \\\n",
       "AttackBonus  +7, +10 (Elite) vs Building +7, +10 (Elite) vs...   \n",
       "FD                                                         NaN   \n",
       "Range                                                      NaN   \n",
       "PierceArmor                                       2, 3 (Elite)   \n",
       "TrainTime                                           31 seconds   \n",
       "UpCost                                 1,600 food , 1,200 gold   \n",
       "HP                                            450, 600 (Elite)   \n",
       "LOS                                               4, 5 (Elite)   \n",
       "Attack                                   15, 20 (Elite)  melee   \n",
       "ROF                                                       2.03   \n",
       "Class                         Cavalry War elephant Unique unit   \n",
       "Accuracy                                                   NaN   \n",
       "Armor                                                        1   \n",
       "\n",
       "                                                Bombard Cannon  \n",
       "AttackBonus  +200 vs Building +40 vs Ship +40 vs Stone defe...  \n",
       "FD                                                           7  \n",
       "Range                                                       12  \n",
       "PierceArmor                                                  5  \n",
       "TrainTime                                           56 seconds  \n",
       "UpCost                                                     NaN  \n",
       "HP                                                          80  \n",
       "LOS                                                         14  \n",
       "Attack                                                40 melee  \n",
       "ROF                                                        6.5  \n",
       "Class                              Siege weapon Gunpowder unit  \n",
       "Accuracy                                                   92%  \n",
       "Armor                                                        2  "
      ]
     },
     "execution_count": 302,
     "metadata": {},
     "output_type": "execute_result"
    }
   ],
   "source": [
    "\n",
    "structured_list = []\n",
    "for column_name in availability_df.columns:\n",
    "    if availability_df[column_name].map(f).any():\n",
    "        structured_list.append(column_name)\n",
    "availability_df[structured_list].sample(5).T"
   ]
  },
  {
   "cell_type": "code",
   "execution_count": 303,
   "metadata": {},
   "outputs": [],
   "source": [
    "\n",
    "file_path = os.path.join(DATA_CSV_FOLDER, 'availability_df.csv')\n",
    "availability_df.to_csv(file_path)"
   ]
  },
  {
   "cell_type": "code",
   "execution_count": 311,
   "metadata": {},
   "outputs": [
    {
     "name": "stdout",
     "output_type": "stream",
     "text": [
      "Saving to C:\\Users\\dev\\Documents\\repositories\\notebooks\\Miscellaneous\\saves\\csv\\availability_df.csv\n"
     ]
    }
   ],
   "source": [
    "\n",
    "save_dataframes(availability_df=availability_df)"
   ]
  },
  {
   "cell_type": "code",
   "execution_count": 312,
   "metadata": {},
   "outputs": [],
   "source": [
    "\n",
    "xlsx_folder = os.path.join(DATA_FOLDER, 'xlsx')\n",
    "os.makedirs(name=xlsx_folder, exist_ok=True)\n",
    "file_path = os.path.join(xlsx_folder, 'availability_df.xlsx')\n",
    "availability_df.to_excel(file_path)"
   ]
  },
  {
   "cell_type": "code",
   "execution_count": 310,
   "metadata": {},
   "outputs": [
    {
     "data": {
      "text/plain": [
       "Monk                     51 seconds\n",
       "Transport Ship           46 seconds\n",
       "Militia                  21 seconds\n",
       "Man-at-Arms              21 seconds\n",
       "Long Swordsman           21 seconds\n",
       "Two-Handed Swordsman     21 seconds\n",
       "Champion                 21 seconds\n",
       "Spearman                 22 seconds\n",
       "Pikeman                  22 seconds\n",
       "Archer                   35 seconds\n",
       "Crossbowman              27 seconds\n",
       "Arbalest                 27 seconds\n",
       "Skirmisher               22 seconds\n",
       "Elite Skirmisher         22 seconds\n",
       "Hand Cannoneer           34 seconds\n",
       "Heavy Cavalry Archer     27 seconds\n",
       "Paladin                  30 seconds\n",
       "Camel                    22 seconds\n",
       "Heavy Camel              22 seconds\n",
       "Battering Ram            36 seconds\n",
       "Capped Ram               36 seconds\n",
       "Siege Ram                36 seconds\n",
       "Mangonel                 46 seconds\n",
       "Onager                   46 seconds\n",
       "Siege Onager             46 seconds\n",
       "Scorpion                 30 seconds\n",
       "Heavy Scorpion           30 seconds\n",
       "Bombard Cannon           56 seconds\n",
       "Trebuchet                50 seconds\n",
       "Galley                   60 seconds\n",
       "War Galley               36 seconds\n",
       "Fire Ship                36 seconds\n",
       "Fast Fire Ship           36 seconds\n",
       "Demolition Ship          31 seconds\n",
       "Heavy Demolition Ship    31 seconds\n",
       "Elite Cannon Galleon     46 seconds\n",
       "Hussar                   30 seconds\n",
       "Petard                   25 seconds\n",
       "Halberdier               22 seconds\n",
       "Eagle Warrior            35 seconds\n",
       "Elite Eagle Warrior      20 seconds\n",
       "Jaguar Warrior           17 seconds\n",
       "Eagle Scout              35 seconds\n",
       "Fire Galley              60 seconds\n",
       "Demolition Raft          45 seconds\n",
       "Siege Tower              36 seconds\n",
       "Name: TrainTime, dtype: object"
      ]
     },
     "execution_count": 310,
     "metadata": {},
     "output_type": "execute_result"
    }
   ],
   "source": [
    "\n",
    "# All military units are created 15% faster\n",
    "unit_type_list = availability_df['Type'].unique().tolist()\n",
    "civilian_list = [unit_type for unit_type in unit_type_list if 'Civilian' in str(unit_type)]\n",
    "match_series = ~availability_df['Type'].isin(civilian_list) & (availability_df['Aztecs'] == 1)\n",
    "availability_df.loc[availability_df[match_series].index, 'TrainTime']"
   ]
  },
  {
   "cell_type": "code",
   "execution_count": 316,
   "metadata": {},
   "outputs": [
    {
     "name": "stderr",
     "output_type": "stream",
     "text": [
      "C:\\Users\\dev\\Anaconda3\\lib\\site-packages\\pandas\\core\\indexing.py:1017: FutureWarning: \n",
      "Passing list-likes to .loc or [] with any missing label will raise\n",
      "KeyError in the future, you can use .reindex() as an alternative.\n",
      "\n",
      "See the documentation here:\n",
      "https://pandas.pydata.org/pandas-docs/stable/indexing.html#deprecate-loc-reindex-listlike\n",
      "  return getattr(section, self.name)[new_key]\n"
     ]
    },
    {
     "data": {
      "text/plain": [
       "Chu Ko Nu                    16 , 13 (Elite) seconds\n",
       "Genoese Crossbowman           22, 19 (Elite) seconds\n",
       "Boyar                         23, 20 (Elite) seconds\n",
       "Elite Chu Ko Nu                                  NaN\n",
       "Elite Genoese Crossbowman                        NaN\n",
       "Elite Boyar                                      NaN\n",
       "Name: TrainTime, dtype: object"
      ]
     },
     "execution_count": 316,
     "metadata": {},
     "output_type": "execute_result"
    }
   ],
   "source": [
    "\n",
    "training_time_list = availability_df['TrainTime'].unique().tolist()\n",
    "complex_list = [x for x in training_time_list if ',' in str(x)]\n",
    "match_series = (availability_df['TrainTime'].isin(complex_list))\n",
    "index_list = availability_df[match_series].index.tolist()\n",
    "index_list = index_list + ['Elite {}'.format(idx) for idx in index_list]\n",
    "availability_df.loc[index_list, 'TrainTime']"
   ]
  },
  {
   "cell_type": "code",
   "execution_count": 317,
   "metadata": {},
   "outputs": [
    {
     "data": {
      "text/plain": [
       "['apply', 'applymap']"
      ]
     },
     "execution_count": 317,
     "metadata": {},
     "output_type": "execute_result"
    }
   ],
   "source": [
    "\n",
    "[fn for fn in dir(availability_df) if 'map' in fn or 'apply' in fn]"
   ]
  },
  {
   "cell_type": "code",
   "execution_count": 326,
   "metadata": {},
   "outputs": [
    {
     "data": {
      "text/plain": [
       "{'Elite Teutonic Knight', 'Elite Chu Ko Nu', 'Elite Boyar', 'Elite Rattan Archer', 'Elite Longboat', 'Elite Woad Raider', 'Elite War Wagon', 'Elite Ballista Elephant', 'Elite Berserk', 'Elite Janissary', 'Elite Samurai', 'Elite Shotel Warrior', 'Elite Jaguar Warrior', 'Elite Tarkan', 'Elite Plumed Archer', 'Elite Genoese Crossbowman', 'Elite Turtle Ship', 'Elite Camel Archer', 'Elite Karambit Warrior', 'Elite Magyar Huszar', 'Elite Imperial Skirmisher', 'Elite Elephant Archer', 'Elite Cataphract', 'Elite Kamayuk', 'Elite Caravel', 'Elite Gbeto', 'Elite Huskarl', 'Elite Longbowman', 'Elite Organ Gun', 'Elite Conquistador', 'Elite Arambai', 'Elite War Elephant', 'Elite Genitour', 'Elite Mameluke', 'Elite Throwing Axeman', 'Elite Mangudai'}"
      ]
     },
     "execution_count": 326,
     "metadata": {},
     "output_type": "execute_result"
    }
   ],
   "source": [
    "\n",
    "elite_df = availability_df.applymap(lambda x: 'Elite' in str(x))\n",
    "elite_set = set(['Elite {}'.format(idx) for idx in elite_df[elite_df.any(axis=1)].index])\n",
    "elite_set - set(availability_df.index)"
   ]
  },
  {
   "cell_type": "code",
   "execution_count": 345,
   "metadata": {},
   "outputs": [
    {
     "name": "stdout",
     "output_type": "stream",
     "text": [
      "Saving to C:\\Users\\dev\\Documents\\repositories\\notebooks\\Miscellaneous\\saves\\csv\\super_availability_df.csv\n"
     ]
    }
   ],
   "source": [
    "\n",
    "super_availability_df = availability_df.copy()\n",
    "for column_name in (elite_set - set(availability_df.index)):\n",
    "    match_series = (availability_df.index == column_name[6:])\n",
    "    df = availability_df[match_series].copy()\n",
    "    df['UpTo'] = ''\n",
    "    df.index = [column_name]\n",
    "    super_availability_df = pd.concat([super_availability_df, df])\n",
    "save_dataframes(include_index=True, super_availability_df=super_availability_df)"
   ]
  },
  {
   "cell_type": "code",
   "execution_count": 423,
   "metadata": {},
   "outputs": [
    {
     "name": "stdout",
     "output_type": "stream",
     "text": [
      "Attempting to load C:\\Users\\dev\\Documents\\repositories\\notebooks\\Miscellaneous\\saves\\pickle\\super_availability_df.pickle.\n",
      "No pickle exists - attempting to load C:\\Users\\dev\\Documents\\repositories\\notebooks\\Miscellaneous\\saves\\csv\\super_availability_df.csv.\n"
     ]
    }
   ],
   "source": [
    "\n",
    "dataframes_dict = load_dataframes(super_availability_df=super_availability_df)\n",
    "super_availability_df = dataframes_dict['super_availability_df']\n",
    "super_availability_df = super_availability_df.set_index('Unnamed: 0')\n",
    "super_availability_df.index.name = 'Unit Name'"
   ]
  },
  {
   "cell_type": "code",
   "execution_count": 425,
   "metadata": {},
   "outputs": [
    {
     "name": "stdout",
     "output_type": "stream",
     "text": [
      "Index(['Arambai', 'Arbalest', 'Archer', 'Archer units', 'Ballista Elephant',\n",
      "       'Battering Ram', 'Battle Elephant', 'Berserk', 'Bombard Cannon',\n",
      "       'Boyar',\n",
      "       ...\n",
      "       'Transport Ship', 'Trebuchet', 'Turtle Ship', 'Two-Handed Swordsman',\n",
      "       'Unique unit', 'Villager', 'War Elephant', 'War Galley', 'War Wagon',\n",
      "       'Woad Raider'],\n",
      "      dtype='object', name='Unit Name', length=140)\n"
     ]
    },
    {
     "data": {
      "text/plain": [
       "Index(['Heading', 'Required', 'PSpeed', 'AttackBonus', 'FD', 'Wood', 'UpTime',\n",
       "       'UpTo', 'Type', 'MinRange', 'Range', 'PierceArmor', 'Speed',\n",
       "       'TrainTime', 'UpCost', 'Age', 'Garrison', 'HP', 'Intro', 'LOS', 'Food',\n",
       "       'UpFrom', 'AOE', 'Attack', 'ROF', 'Class', 'Building', 'Gold',\n",
       "       'Accuracy', 'Armor', 'Britons', 'Byzantines', 'Celts', 'Chinese',\n",
       "       'Franks', 'Goths', 'Japanese', 'Mongols', 'Persians', 'Saracens',\n",
       "       'Teutons', 'Turks', 'Vikings', 'Aztecs', 'Huns', 'Koreans', 'Mayans',\n",
       "       'Spanish', 'Incas', 'Indians', 'Italians', 'Magyars', 'Slavs',\n",
       "       'Berbers', 'Ethiopians', 'Malians', 'Portuguese', 'Burmese', 'Khmer',\n",
       "       'Malay', 'Vietnamese'],\n",
       "      dtype='object')"
      ]
     },
     "execution_count": 425,
     "metadata": {},
     "output_type": "execute_result"
    }
   ],
   "source": [
    "\n",
    "print(super_availability_df.index)\n",
    "super_availability_df.columns"
   ]
  },
  {
   "cell_type": "code",
   "execution_count": 426,
   "metadata": {},
   "outputs": [
    {
     "data": {
      "text/plain": [
       "Index(['AttackBonus', 'UpTo', 'UpFrom', 'Attack', 'ROF', 'Class', 'Accuracy',\n",
       "       'Armor'],\n",
       "      dtype='object')"
      ]
     },
     "execution_count": 426,
     "metadata": {},
     "output_type": "execute_result"
    }
   ],
   "source": [
    "\n",
    "elite_df = super_availability_df.applymap(lambda x: 'Elite' in str(x))\n",
    "elite_df.columns[elite_df.any(axis=0)]"
   ]
  },
  {
   "cell_type": "code",
   "execution_count": 427,
   "metadata": {},
   "outputs": [
    {
     "data": {
      "text/plain": [
       "['+20 vs War elephant +12 vs Cavalry +10 vs Camel']"
      ]
     },
     "execution_count": 427,
     "metadata": {},
     "output_type": "execute_result"
    }
   ],
   "source": [
    "\n",
    "def f(row_series):\n",
    "    attack_bonus = str(row_series['AttackBonus'])\n",
    "    if 'Elite' in row_series.name:\n",
    "        attack_bonus = elite_regex.sub(r' \\g<2>\\g<3> ', attack_bonus)\n",
    "    else:\n",
    "        attack_bonus = elite_regex.sub(r' \\g<2>\\g<1> ', attack_bonus)\n",
    "    \n",
    "    return attack_bonus\n",
    "\n",
    "elite_regex = re.compile(r' *\\+?(\\d+) *, +(\\+?)(\\d+) +\\(Elite\\) *')\n",
    "match_series = super_availability_df['AttackBonus'].map(lambda x: 'Elite' in str(x))\n",
    "idx_series = super_availability_df[match_series].index\n",
    "super_availability_df['AttackBonus'] = super_availability_df.apply(f, axis=1)\n",
    "\n",
    "# ['+20 vs War elephant +8, +12 (Elite) vs Cavalry +6 , +10  (Elite) vs Camel']\n",
    "super_availability_df.loc[idx_series, 'AttackBonus'].tolist()"
   ]
  },
  {
   "cell_type": "code",
   "execution_count": 428,
   "metadata": {},
   "outputs": [
    {
     "data": {
      "text/plain": [
       "['10 melee', '8 pierce', '20 pierce', '11 melee', '8 melee', '20 melee']"
      ]
     },
     "execution_count": 428,
     "metadata": {},
     "output_type": "execute_result"
    }
   ],
   "source": [
    "\n",
    "def f(row_series):\n",
    "    attack = str(row_series['Attack'])\n",
    "    if 'Elite' in row_series.name:\n",
    "        attack = elite_regex.sub(r'\\g<2>\\g<3> ', attack)\n",
    "    else:\n",
    "        attack = elite_regex.sub(r'\\g<2>\\g<1> ', attack)\n",
    "    \n",
    "    return attack\n",
    "\n",
    "elite_regex = re.compile(r' *\\+?(\\d+) *, +(\\+?)(\\d+) +\\(Elite\\) *')\n",
    "match_series = super_availability_df['Attack'].map(lambda x: 'Elite' in str(x))\n",
    "idx_series = super_availability_df[match_series].index\n",
    "super_availability_df['Attack'] = super_availability_df.apply(f, axis=1)\n",
    "\n",
    "# ['8 , 10 (Elite)  melee', '6, 8 (Elite)  pierce', '16, 20 (Elite)  pierce',\n",
    "#  '8 , 11 (Elite)  melee', '7, 8 (Elite)  melee', '15, 20 (Elite)  melee']\n",
    "super_availability_df.loc[idx_series, 'Attack'].tolist()"
   ]
  },
  {
   "cell_type": "code",
   "execution_count": 429,
   "metadata": {},
   "outputs": [
    {
     "data": {
      "text/plain": [
       "['1.83', '3.65', '1.73', '3.84', '2.03', '3.05']"
      ]
     },
     "execution_count": 429,
     "metadata": {},
     "output_type": "execute_result"
    }
   ],
   "source": [
    "\n",
    "column_name = 'ROF'\n",
    "def f(row_series):\n",
    "    column_value = str(row_series[column_name])\n",
    "    if 'Elite' in row_series.name:\n",
    "        column_value = elite_regex.sub(r' \\g<2>\\g<3> ', column_value)\n",
    "    else:\n",
    "        column_value = elite_regex.sub(r' \\g<2>\\g<1> ', column_value)\n",
    "    \n",
    "    return column_value.strip()\n",
    "\n",
    "elite_regex = re.compile(r' *\\+?([.\\d]+) *, +(\\+?)([.\\d]+) +\\(Elite\\) *')\n",
    "match_series = super_availability_df[column_name].map(lambda x: 'Elite' in str(x))\n",
    "idx_series = super_availability_df[match_series].index\n",
    "super_availability_df[column_name] = super_availability_df.apply(f, axis=1)\n",
    "\n",
    "# ['1.83 , 1.73  (Elite)', '3.65, 3.84 (Elite)', '1.83 , 1.73  (Elite)', '3.65, 3.84 (Elite)',\n",
    "#  '3.05, 2.03 (Elite)', '3.05, 2.03 (Elite)']\n",
    "super_availability_df.loc[idx_series, column_name].tolist()"
   ]
  },
  {
   "cell_type": "code",
   "execution_count": 430,
   "metadata": {},
   "outputs": [
    {
     "data": {
      "text/plain": [
       "['Cavalry (+12) Unique unit', 'Cavalry (+16) Unique unit', 'Ship (+11) Turtle Ship (+1) Gunpowder unit Unique unit', 'Ship (+8) Turtle Ship Gunpowder unit Unique unit']"
      ]
     },
     "execution_count": 430,
     "metadata": {},
     "output_type": "execute_result"
    }
   ],
   "source": [
    "\n",
    "column_name = 'Class'\n",
    "def f(row_series):\n",
    "    column_value = str(row_series[column_name])\n",
    "    if 'Elite' in row_series.name:\n",
    "        column_value = elite_regex.sub(r'(\\g<3>)', column_value)\n",
    "    else:\n",
    "        column_value = only_elite_regex.sub(r' \\g<1> ', column_value)\n",
    "        column_value = elite_regex.sub(r'(\\g<2>)', column_value)\n",
    "    \n",
    "    return column_value.strip()\n",
    "\n",
    "elite_regex = re.compile(r'\\(((\\+[.\\d]+), +)?(\\+[.\\d]+) +\\(Elite\\) +\\)')\n",
    "only_elite_regex = re.compile(r' +([^)(]+) \\((\\+[.\\d]+) +\\(Elite\\) +\\) +')\n",
    "match_series = super_availability_df[column_name].map(lambda x: 'Elite' in str(x))\n",
    "idx_series = super_availability_df[match_series].index\n",
    "super_availability_df[column_name] = super_availability_df.apply(f, axis=1)\n",
    "\n",
    "# ['Cavalry (+12, +16 (Elite) ) Unique unit', 'Cavalry (+12, +16 (Elite) ) Unique unit',\n",
    "#  'Ship (+8, +11 (Elite) ) Turtle Ship (+1 (Elite) ) Gunpowder unit Unique unit',\n",
    "#  'Ship (+8, +11 (Elite) ) Turtle Ship (+1 (Elite) ) Gunpowder unit Unique unit']\n",
    "super_availability_df.loc[idx_series, column_name].tolist()"
   ]
  },
  {
   "cell_type": "code",
   "execution_count": 432,
   "metadata": {},
   "outputs": [
    {
     "data": {
      "text/plain": [
       "['20%', '65%', '30%', '70%', '80%', '90%', '90%', '70%', '80%', '80%']"
      ]
     },
     "execution_count": 432,
     "metadata": {},
     "output_type": "execute_result"
    }
   ],
   "source": [
    "\n",
    "column_name = 'Accuracy'\n",
    "def f(row_series):\n",
    "    column_value = str(row_series[column_name])\n",
    "    if 'Elite' in row_series.name:\n",
    "        column_value = elite_regex.sub(r'\\g<2>%', column_value)\n",
    "    else:\n",
    "        column_value = elite_regex.sub(r'\\g<1>%', column_value)\n",
    "    \n",
    "    return column_value.strip()\n",
    "\n",
    "elite_regex = re.compile(r'(\\d+)%, (\\d+)% \\(Elite\\)')\n",
    "match_series = super_availability_df[column_name].map(lambda x: 'Elite' in str(x))\n",
    "idx_series = super_availability_df[match_series].index\n",
    "super_availability_df[column_name] = super_availability_df.apply(f, axis=1)\n",
    "\n",
    "# ['20%, 30% (Elite)', '65%, 70% (Elite)', '20%, 30% (Elite)', '65%, 70% (Elite)',\n",
    "#  '70%, 80% (Elite)', '80%, 90% (Elite)', '80%, 90% (Elite)', '70%, 80% (Elite)',\n",
    "#  '80%, 90% (Elite)', '80%, 90% (Elite)']\n",
    "super_availability_df.loc[idx_series, column_name].tolist()"
   ]
  },
  {
   "cell_type": "code",
   "execution_count": 434,
   "metadata": {},
   "outputs": [
    {
     "data": {
      "text/plain": [
       "['0%', '4%', '0%', '2%', '6%', '1%', '2%', '2%', '1%', '1%', '1%', '1%', '10%', '1%', '8%', '1%', '1%', '0%', '0%', '0%', '0%', '5%', '0%', '6%']"
      ]
     },
     "execution_count": 434,
     "metadata": {},
     "output_type": "execute_result"
    }
   ],
   "source": [
    "\n",
    "column_name = 'Armor'\n",
    "def f(row_series):\n",
    "    column_value = str(row_series[column_name])\n",
    "    if 'Elite' in row_series.name:\n",
    "        column_value = elite_regex.sub(r'\\g<2>%', column_value)\n",
    "    else:\n",
    "        column_value = elite_regex.sub(r'\\g<1>%', column_value)\n",
    "    \n",
    "    return column_value.strip()\n",
    "\n",
    "elite_regex = re.compile(r'(\\d+), (\\d+) \\(Elite\\)')\n",
    "match_series = super_availability_df[column_name].map(lambda x: 'Elite' in str(x))\n",
    "idx_series = super_availability_df[match_series].index\n",
    "super_availability_df[column_name] = super_availability_df.apply(f, axis=1)\n",
    "\n",
    "# ['0, 2 (Elite)', '4, 6 (Elite)', '0, 1 (Elite)', '0, 2 (Elite)', '4, 6 (Elite)',\n",
    "#  '0, 1 (Elite)', '1, 2 (Elite)', '1, 2 (Elite)', '0, 1 (Elite)', '0, 1 (Elite)',\n",
    "#  '0, 1 (Elite)', '0, 1 (Elite)', '5, 10 (Elite)', '0, 1 (Elite)', '6, 8 (Elite)',\n",
    "#  '1, 2 (Elite)', '1, 2 (Elite)', '0, 1 (Elite)', '0, 1 (Elite)', '0, 1 (Elite)',\n",
    "#  '0, 1 (Elite)', '5, 10 (Elite)', '0, 1 (Elite)', '6, 8 (Elite)']\n",
    "super_availability_df.loc[idx_series, column_name].tolist()"
   ]
  },
  {
   "cell_type": "code",
   "execution_count": 436,
   "metadata": {},
   "outputs": [
    {
     "name": "stdout",
     "output_type": "stream",
     "text": [
      "Saving to C:\\Users\\dev\\Documents\\repositories\\notebooks\\Miscellaneous\\saves\\csv\\super_availability_df.csv\n"
     ]
    }
   ],
   "source": [
    "\n",
    "save_dataframes(include_index=True, super_availability_df=super_availability_df)"
   ]
  },
  {
   "cell_type": "code",
   "execution_count": 452,
   "metadata": {},
   "outputs": [],
   "source": [
    "\n",
    "def get_mixed(x):\n",
    "    x = str(x)\n",
    "    if re.search(r'([+.\\d]+\\s+[^+.\\d]+|[^+.\\d]+\\s+[+.\\d]+)', x):\n",
    "        \n",
    "        return True\n",
    "    \n",
    "    else:\n",
    "        \n",
    "        return False\n",
    "\n",
    "digit_df = super_availability_df.applymap(get_mixed)\n",
    "digit_df.columns[digit_df.any(axis=0)]"
   ]
  },
  {
   "cell_type": "code",
   "execution_count": 456,
   "metadata": {},
   "outputs": [],
   "source": [
    "\n",
    "regex_list = [r'Archer', r'Building', r'Building +\\(unpacked\\)', r'Camel', r'Castle', r'Cavalry',\n",
    "              r'Cavalry +archer', r'Condottiero', r'Eagle +Warrior', r'Gunpowder +unit',\n",
    "              r'Infantry', r'Monk', r'Ram', r'Ship', r'Siege +weapon', r'Spearman',\n",
    "              r'Standard +building', r'Stone +defense', r'Turtle +Ship', r'Unique +unit',\n",
    "              r'Wall +and +gate', r'War +elephant']\n",
    "column_name = 'AttackBonus'\n",
    "regex_regex = re.compile(r'[ +(\\\\]+')\n",
    "for versus_regex in regex_list:\n",
    "    new_column_name = regex_regex.sub('_', versus_regex)\n",
    "    new_column_name = re.sub(r'\\)', '', new_column_name)\n",
    "    new_column_name = '{}vs{}'.format(column_name, new_column_name)\n",
    "    versus_regex = re.compile(r'\\+(\\d+) +vs +{}'.format(versus_regex))\n",
    "    def f(x):\n",
    "        match_obj = versus_regex.search(x)\n",
    "        if match_obj:\n",
    "            attack_bonus_versus = int(match_obj.group(1))\n",
    "        else:\n",
    "            attack_bonus_versus = 0\n",
    "\n",
    "        return attack_bonus_versus\n",
    "\n",
    "    super_availability_df[new_column_name] = super_availability_df[column_name].map(f)"
   ]
  },
  {
   "cell_type": "code",
   "execution_count": 457,
   "metadata": {},
   "outputs": [
    {
     "name": "stdout",
     "output_type": "stream",
     "text": [
      "Saving to C:\\Users\\dev\\Documents\\repositories\\notebooks\\Miscellaneous\\saves\\csv\\super_availability_df.csv\n"
     ]
    }
   ],
   "source": [
    "\n",
    "save_dataframes(include_index=True, super_availability_df=super_availability_df)"
   ]
  },
  {
   "cell_type": "code",
   "execution_count": 464,
   "metadata": {},
   "outputs": [
    {
     "name": "stdout",
     "output_type": "stream",
     "text": [
      "Attempting to load C:\\Users\\dev\\Documents\\repositories\\notebooks\\Miscellaneous\\saves\\pickle\\super_availability_df.pickle.\n",
      "No pickle exists - attempting to load C:\\Users\\dev\\Documents\\repositories\\notebooks\\Miscellaneous\\saves\\csv\\super_availability_df.csv.\n"
     ]
    }
   ],
   "source": [
    "\n",
    "dataframes_dict = load_dataframes(super_availability_df=super_availability_df)\n",
    "super_availability_df = dataframes_dict['super_availability_df']\n",
    "super_availability_df = super_availability_df.set_index('Unit Name')\n",
    "super_availability_df.index.name = 'Unit Name'"
   ]
  },
  {
   "cell_type": "code",
   "execution_count": 465,
   "metadata": {},
   "outputs": [
    {
     "data": {
      "text/plain": [
       "Index(['AttackBonus', 'UpTime', 'Range', 'Speed', 'TrainTime', 'UpCost', 'LOS',\n",
       "       'Attack', 'Class', 'Gold', 'Accuracy'],\n",
       "      dtype='object')"
      ]
     },
     "execution_count": 465,
     "metadata": {},
     "output_type": "execute_result"
    }
   ],
   "source": [
    "\n",
    "def get_mixed(x):\n",
    "    x = str(x)\n",
    "    if re.search(r'([+.\\d]+\\s+[^+.\\d]+|[^+.\\d]+\\s+[+.\\d]+)', x):\n",
    "        \n",
    "        return True\n",
    "    \n",
    "    else:\n",
    "        \n",
    "        return False\n",
    "\n",
    "digit_df = super_availability_df.applymap(get_mixed)\n",
    "digit_df.columns[digit_df.any(axis=0)]"
   ]
  },
  {
   "cell_type": "code",
   "execution_count": 467,
   "metadata": {},
   "outputs": [],
   "source": [
    "\n",
    "column_name = 'UpTime'\n",
    "def f(x):\n",
    "    x = str(x)\n",
    "    match_obj = re.search(r'\\d+', x)\n",
    "    if match_obj:\n",
    "        up_time = int(match_obj.group())\n",
    "    else:\n",
    "        up_time = 0\n",
    "    \n",
    "    return up_time\n",
    "\n",
    "super_availability_df[column_name] = super_availability_df[column_name].map(f)"
   ]
  },
  {
   "cell_type": "code",
   "execution_count": 492,
   "metadata": {},
   "outputs": [
    {
     "name": "stdout",
     "output_type": "stream",
     "text": [
      "Saving to C:\\Users\\dev\\Documents\\repositories\\notebooks\\Miscellaneous\\saves\\csv\\super_availability_df.csv\n"
     ]
    }
   ],
   "source": [
    "\n",
    "save_dataframes(include_index=True, super_availability_df=super_availability_df)\n",
    "file_path = os.path.join(xlsx_folder, 'super_availability_df.xlsx')\n",
    "super_availability_df.to_excel(file_path)"
   ]
  },
  {
   "cell_type": "code",
   "execution_count": 489,
   "metadata": {},
   "outputs": [],
   "source": [
    "\n",
    "column_name = 'Range'\n",
    "new_column_name = 'attack_or_conversion_vs_units'\n",
    "def f(x):\n",
    "    \n",
    "    return float(re.search(r'[.\\d]+', str(x)).group())\n",
    "\n",
    "super_availability_df[new_column_name] = super_availability_df[column_name].map(f)"
   ]
  },
  {
   "cell_type": "code",
   "execution_count": 491,
   "metadata": {},
   "outputs": [
    {
     "data": {
      "text/plain": [
       "['7', '0', '4']"
      ]
     },
     "execution_count": 491,
     "metadata": {},
     "output_type": "execute_result"
    }
   ],
   "source": [
    "\n",
    "x = 'Conversion : 7 vs units 0 vs buildings , Trebuchets , Battering Rams Healing: 4'\n",
    "match_list = re.findall(r'[.\\d]+', str(x))\n",
    "match_list[min()]"
   ]
  },
  {
   "cell_type": "code",
   "execution_count": null,
   "metadata": {},
   "outputs": [],
   "source": []
  },
  {
   "cell_type": "code",
   "execution_count": 482,
   "metadata": {},
   "outputs": [
    {
     "data": {
      "text/plain": [
       "array(['5', '4', 0, '12', '13', '6', '15', '7', '8', '1', '3', '2.49',\n",
       "       'Conversion : 7 vs units 0 vs buildings , Trebuchets , Battering Rams Healing: 4',\n",
       "       'Conversion : 9 vs units 0 vs buildings , Trebuchets , Battering Rams Healing: 4',\n",
       "       '0', '16'], dtype=object)"
      ]
     },
     "execution_count": 482,
     "metadata": {},
     "output_type": "execute_result"
    }
   ],
   "source": [
    "\n",
    "super_availability_df[column_name].unique()"
   ]
  },
  {
   "cell_type": "code",
   "execution_count": 481,
   "metadata": {},
   "outputs": [
    {
     "data": {
      "text/plain": [
       "Index([], dtype='object', name='Unit Name')"
      ]
     },
     "execution_count": 481,
     "metadata": {},
     "output_type": "execute_result"
    }
   ],
   "source": [
    "\n",
    "super_availability_df[column_name] = super_availability_df[column_name].fillna(value=0)\n",
    "match_series = super_availability_df[column_name].isnull()\n",
    "super_availability_df[match_series].index"
   ]
  },
  {
   "cell_type": "code",
   "execution_count": null,
   "metadata": {},
   "outputs": [],
   "source": []
  }
 ],
 "metadata": {
  "kernelspec": {
   "display_name": "Python 3",
   "language": "python",
   "name": "python3"
  },
  "language_info": {
   "codemirror_mode": {
    "name": "ipython",
    "version": 3
   },
   "file_extension": ".py",
   "mimetype": "text/x-python",
   "name": "python",
   "nbconvert_exporter": "python",
   "pygments_lexer": "ipython3",
   "version": "3.6.8"
  }
 },
 "nbformat": 4,
 "nbformat_minor": 2
}
