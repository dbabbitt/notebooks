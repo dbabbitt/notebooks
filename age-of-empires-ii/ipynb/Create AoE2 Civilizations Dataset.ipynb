{
 "cells": [
  {
   "cell_type": "code",
   "execution_count": 1,
   "metadata": {},
   "outputs": [
    {
     "name": "stdout",
     "output_type": "stream",
     "text": [
      "DATA_FOLDER: ../data/\n",
      "SAVES_FOLDER: ../saves/\n",
      "Pretty printing has been turned OFF\n",
      "BeautifulSoup\t DATA_CSV_FOLDER\t DATA_FOLDER\t ENCODING_TYPE\t SAVES_CSV_FOLDER\t SAVES_FOLDER\t SAVES_PICKLE_FOLDER\t attempt_to_pickle\t example_iterrows\t \n",
      "get_column_descriptions\t load_csv\t load_dataframes\t load_object\t math\t os\t pd\t pickle\t re\t \n",
      "save_dataframes\t store_objects\t sys\t urllib\t \n"
     ]
    }
   ],
   "source": [
    "\n",
    "%run ../../load_magic/storage.py\n",
    "%run ../../load_magic/dataframes.py\n",
    "import urllib.request\n",
    "import re\n",
    "from bs4 import BeautifulSoup\n",
    "%pprint\n",
    "%who"
   ]
  },
  {
   "cell_type": "markdown",
   "metadata": {},
   "source": [
    "\n",
    "# Scraping the Civilization Stats"
   ]
  },
  {
   "cell_type": "code",
   "execution_count": 2,
   "metadata": {},
   "outputs": [],
   "source": [
    "\n",
    "wiki_url = 'https://ageofempires.fandom.com'\n",
    "def get_page_soup(page_url):\n",
    "    with urllib.request.urlopen(page_url) as response:\n",
    "        page_html = response.read()\n",
    "    page_soup = BeautifulSoup(page_html, 'html.parser')\n",
    "    \n",
    "    return page_soup"
   ]
  },
  {
   "cell_type": "code",
   "execution_count": 3,
   "metadata": {},
   "outputs": [],
   "source": [
    "\n",
    "def get_content_text_div(page_url):\n",
    "    page_soup = get_page_soup(page_url)\n",
    "    content_text_selector = '#mw-content-text'\n",
    "    content_text_div = page_soup.select(content_text_selector)[0]\n",
    "    \n",
    "    return content_text_div"
   ]
  },
  {
   "cell_type": "code",
   "execution_count": 4,
   "metadata": {},
   "outputs": [
    {
     "name": "stdout",
     "output_type": "stream",
     "text": [
      "https://ageofempires.fandom.com/wiki/Age_of_Empires_II:_The_Age_of_Kings\n",
      "5\n"
     ]
    }
   ],
   "source": [
    "\n",
    "table_df_list = []\n",
    "summary_box_url = '{}/wiki/Age_of_Empires_II:_The_Age_of_Kings'.format(wiki_url)\n",
    "print(summary_box_url)\n",
    "with urllib.request.urlopen(summary_box_url) as response:\n",
    "    summary_box_html = response.read()\n",
    "summary_box_soup = BeautifulSoup(summary_box_html, 'html.parser')\n",
    "content_text_selector = '#mw-content-text'\n",
    "content_text_div = summary_box_soup.select(content_text_selector)[0]\n",
    "children_list = list(content_text_div.children)\n",
    "for child in children_list:\n",
    "    if child.name == 'table':\n",
    "        summary_box_table = child\n",
    "        table_df_list.append(pd.read_html(str(child), header=0)[0])\n",
    "print(len(table_df_list))"
   ]
  },
  {
   "cell_type": "code",
   "execution_count": 35,
   "metadata": {},
   "outputs": [],
   "source": [
    "\n",
    "column_name = 'Civilization'\n",
    "table_df_list[0].columns = ['Architectural Style', column_name]\n",
    "table_df_list[0].name = 'Architectural Styles'\n",
    "table_df_list[1].columns = [column_name, 'Wonder Name']\n",
    "table_df_list[1].name = 'Wonders'\n",
    "civilizations_df = pd.merge(left=table_df_list[0], right=table_df_list[1],\n",
    "                         how='outer', on=column_name)\n",
    "civilizations_df = civilizations_df.set_index(column_name)\n",
    "civilizations_df.index.name = column_name"
   ]
  },
  {
   "cell_type": "code",
   "execution_count": 6,
   "metadata": {},
   "outputs": [],
   "source": [
    "\n",
    "civ_page_url = '{}/wiki/Civilizations_(Age_of_Empires_II)'.format(wiki_url)\n",
    "civ_content_text_div = get_content_text_div(civ_page_url)"
   ]
  },
  {
   "cell_type": "code",
   "execution_count": 59,
   "metadata": {},
   "outputs": [
    {
     "name": "stdout",
     "output_type": "stream",
     "text": [
      "Pickling to C:\\Users\\dev\\Documents\\repositories\\notebooks\\age-of-empires-ii\\saves\\pickle\\civ_list.pickle\n"
     ]
    }
   ],
   "source": [
    "\n",
    "civ_selector = 'span[class=\"mw-headline\"]'\n",
    "civ_list = []\n",
    "civ_div_dict = {}\n",
    "for civ_span in civ_content_text_div.select(civ_selector):\n",
    "    span_id = civ_span['id']\n",
    "    if ('_' not in span_id) and (span_id != 'Sources'):\n",
    "        civ_div_dict[span_id] = civ_span.parent.next_sibling.next_sibling\n",
    "        civ_list.append(span_id)\n",
    "store_objects(civ_list=civ_list)"
   ]
  },
  {
   "cell_type": "code",
   "execution_count": 41,
   "metadata": {},
   "outputs": [],
   "source": [
    "\n",
    "overview_selector = 'div[title=\"Overview\"]'\n",
    "rows_list = []\n",
    "for civ_name in civ_list:\n",
    "    civ_key_list = []\n",
    "    for civ_b in civ_div_dict[civ_name].find_all('b'):\n",
    "        civ_key = civ_b.string\n",
    "        if civ_key.endswith(':'):\n",
    "            civ_key_list.append(civ_key)\n",
    "    overview_str = civ_div_dict[civ_name].select(overview_selector)[0].text\n",
    "    overview_str = re.sub(r'\\s+', ' ', overview_str).strip()\n",
    "    key_regex = re.compile(' ({}) '.format('|'.join(civ_key_list)))\n",
    "    feature_list = key_regex.split(overview_str)\n",
    "    row_dict = {key[:-1]: value for key, value in zip(feature_list[1::2], feature_list[2::2])}\n",
    "    row_dict[column_name] = civ_name\n",
    "    rows_list.append(row_dict)\n",
    "overview_df = pd.DataFrame(rows_list)\n",
    "overview_df = overview_df.set_index(column_name)\n",
    "overview_df.index.name = column_name"
   ]
  },
  {
   "cell_type": "code",
   "execution_count": 44,
   "metadata": {},
   "outputs": [],
   "source": [
    "\n",
    "civilizations_df = pd.merge(left=civilizations_df, right=overview_df, how='outer', left_index=True,\n",
    "                            right_index=True, suffixes=('_civilizations', '_overview'))"
   ]
  },
  {
   "cell_type": "code",
   "execution_count": 50,
   "metadata": {},
   "outputs": [],
   "source": [
    "\n",
    "columns_list = ['Unique unit', 'Unique units']\n",
    "unique_series = civilizations_df[columns_list].fillna(value='').apply(lambda x: ' '.join(x).strip(),\n",
    "                                                                      axis=1)\n",
    "civilizations_df['Unique units'] = unique_series"
   ]
  },
  {
   "cell_type": "code",
   "execution_count": 53,
   "metadata": {},
   "outputs": [],
   "source": [
    "\n",
    "columns_list = ['Architectural Style', 'Wonder Name', 'Civilization bonuses',\n",
    "                                    'Specialty', 'Team bonus', 'Unique technologies',\n",
    "                                    'Unique units', 'Wonder']\n",
    "civilizations_df = civilizations_df[columns_list]"
   ]
  },
  {
   "cell_type": "code",
   "execution_count": 55,
   "metadata": {},
   "outputs": [
    {
     "data": {
      "text/html": [
       "<div>\n",
       "<style scoped>\n",
       "    .dataframe tbody tr th:only-of-type {\n",
       "        vertical-align: middle;\n",
       "    }\n",
       "\n",
       "    .dataframe tbody tr th {\n",
       "        vertical-align: top;\n",
       "    }\n",
       "\n",
       "    .dataframe thead th {\n",
       "        text-align: right;\n",
       "    }\n",
       "</style>\n",
       "<table border=\"1\" class=\"dataframe\">\n",
       "  <thead>\n",
       "    <tr style=\"text-align: right;\">\n",
       "      <th></th>\n",
       "      <th>Unique units</th>\n",
       "      <th>Specialty</th>\n",
       "      <th>Civilization bonuses</th>\n",
       "      <th>Wonder</th>\n",
       "      <th>Wonder Name</th>\n",
       "    </tr>\n",
       "    <tr>\n",
       "      <th>Civilization</th>\n",
       "      <th></th>\n",
       "      <th></th>\n",
       "      <th></th>\n",
       "      <th></th>\n",
       "      <th></th>\n",
       "    </tr>\n",
       "  </thead>\n",
       "  <tbody>\n",
       "    <tr>\n",
       "      <th>Ethiopians</th>\n",
       "      <td>Shotel Warrior</td>\n",
       "      <td>Archers and siege weapons</td>\n",
       "      <td>Archers fire +15% faster. Receive +100 food an...</td>\n",
       "      <td>Biete Medhane Alem</td>\n",
       "      <td>NaN</td>\n",
       "    </tr>\n",
       "    <tr>\n",
       "      <th>Malians</th>\n",
       "      <td>Gbeto</td>\n",
       "      <td>Infantry</td>\n",
       "      <td>Buildings cost -15% wood (except Farms). Barra...</td>\n",
       "      <td>Great Mosque of Djenné</td>\n",
       "      <td>NaN</td>\n",
       "    </tr>\n",
       "    <tr>\n",
       "      <th>Turks</th>\n",
       "      <td>Janissary</td>\n",
       "      <td>Gunpowder units</td>\n",
       "      <td>Gunpowder units have +25% HP. Gunpowder techno...</td>\n",
       "      <td>Selimiye Mosque</td>\n",
       "      <td>Selimiye Mosque</td>\n",
       "    </tr>\n",
       "    <tr>\n",
       "      <th>Incas</th>\n",
       "      <td>Kamayuk Slinger</td>\n",
       "      <td>Infantry</td>\n",
       "      <td>Start the game with an Eagle Scout. Start with...</td>\n",
       "      <td>Temple of the Sun at Macchu Picchu</td>\n",
       "      <td>NaN</td>\n",
       "    </tr>\n",
       "    <tr>\n",
       "      <th>Burmese</th>\n",
       "      <td>Arambai</td>\n",
       "      <td>Monks and elephants</td>\n",
       "      <td>Lumber Camp technologies are free. Infantry ha...</td>\n",
       "      <td>Shwezigon Pagoda</td>\n",
       "      <td>NaN</td>\n",
       "    </tr>\n",
       "  </tbody>\n",
       "</table>\n",
       "</div>"
      ],
      "text/plain": [
       "                 Unique units                  Specialty  \\\n",
       "Civilization                                               \n",
       "Ethiopians     Shotel Warrior  Archers and siege weapons   \n",
       "Malians                 Gbeto                   Infantry   \n",
       "Turks               Janissary            Gunpowder units   \n",
       "Incas         Kamayuk Slinger                   Infantry   \n",
       "Burmese               Arambai        Monks and elephants   \n",
       "\n",
       "                                           Civilization bonuses  \\\n",
       "Civilization                                                      \n",
       "Ethiopians    Archers fire +15% faster. Receive +100 food an...   \n",
       "Malians       Buildings cost -15% wood (except Farms). Barra...   \n",
       "Turks         Gunpowder units have +25% HP. Gunpowder techno...   \n",
       "Incas         Start the game with an Eagle Scout. Start with...   \n",
       "Burmese       Lumber Camp technologies are free. Infantry ha...   \n",
       "\n",
       "                                          Wonder      Wonder Name  \n",
       "Civilization                                                       \n",
       "Ethiopians                    Biete Medhane Alem              NaN  \n",
       "Malians                   Great Mosque of Djenné              NaN  \n",
       "Turks                            Selimiye Mosque  Selimiye Mosque  \n",
       "Incas         Temple of the Sun at Macchu Picchu              NaN  \n",
       "Burmese                         Shwezigon Pagoda              NaN  "
      ]
     },
     "execution_count": 55,
     "metadata": {},
     "output_type": "execute_result"
    }
   ],
   "source": [
    "\n",
    "civilizations_df.sample(5).T.sample(5).T"
   ]
  },
  {
   "cell_type": "code",
   "execution_count": 58,
   "metadata": {},
   "outputs": [
    {
     "name": "stdout",
     "output_type": "stream",
     "text": [
      "Saving to C:\\Users\\dev\\Documents\\repositories\\notebooks\\age-of-empires-ii\\data\\csv\\civilizations_df.csv\n",
      "Saving to C:\\Users\\dev\\Documents\\repositories\\notebooks\\age-of-empires-ii\\saves\\csv\\civilizations_df.csv\n",
      "Saving to C:\\Users\\dev\\Documents\\repositories\\notebooks\\age-of-empires-ii\\data\\xlsx\\civilizations_df.xlsx\n"
     ]
    }
   ],
   "source": [
    "\n",
    "file_path = os.path.join(DATA_CSV_FOLDER, 'civilizations_df.csv')\n",
    "print('Saving to {}'.format(os.path.abspath(file_path)))\n",
    "civilizations_df.to_csv(file_path)\n",
    "save_dataframes(civilizations_df=civilizations_df)\n",
    "xlsx_folder = os.path.join(DATA_FOLDER, 'xlsx')\n",
    "os.makedirs(name=xlsx_folder, exist_ok=True)\n",
    "file_path = os.path.join(xlsx_folder, 'civilizations_df.xlsx')\n",
    "print('Saving to {}'.format(os.path.abspath(file_path)))\n",
    "civilizations_df.to_excel(file_path)"
   ]
  },
  {
   "cell_type": "code",
   "execution_count": null,
   "metadata": {},
   "outputs": [],
   "source": []
  }
 ],
 "metadata": {
  "kernelspec": {
   "display_name": "Python 3",
   "language": "python",
   "name": "python3"
  },
  "language_info": {
   "codemirror_mode": {
    "name": "ipython",
    "version": 3
   },
   "file_extension": ".py",
   "mimetype": "text/x-python",
   "name": "python",
   "nbconvert_exporter": "python",
   "pygments_lexer": "ipython3",
   "version": "3.6.8"
  }
 },
 "nbformat": 4,
 "nbformat_minor": 2
}
