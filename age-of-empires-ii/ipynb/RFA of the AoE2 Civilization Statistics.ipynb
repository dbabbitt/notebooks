{
 "cells": [
  {
   "cell_type": "code",
   "execution_count": 1,
   "metadata": {},
   "outputs": [
    {
     "name": "stdout",
     "output_type": "stream",
     "text": [
      "DATA_FOLDER: ../data/\n",
      "SAVES_FOLDER: ../saves/\n",
      "Pretty printing has been turned OFF\n",
      "DATA_CSV_FOLDER\t DATA_FOLDER\t ENCODING_TYPE\t SAVES_CSV_FOLDER\t SAVES_FOLDER\t SAVES_PICKLE_FOLDER\t attempt_to_pickle\t example_iterrows\t get_column_descriptions\t \n",
      "load_csv\t load_dataframes\t load_object\t math\t os\t pd\t pickle\t save_dataframes\t store_objects\t \n",
      "sys\t \n"
     ]
    }
   ],
   "source": [
    "\n",
    "%run ../../load_magic/storage.py\n",
    "%run ../../load_magic/dataframes.py\n",
    "%pprint\n",
    "%who"
   ]
  },
  {
   "cell_type": "code",
   "execution_count": 2,
   "metadata": {},
   "outputs": [
    {
     "data": {
      "text/html": [
       "<div>\n",
       "<style scoped>\n",
       "    .dataframe tbody tr th:only-of-type {\n",
       "        vertical-align: middle;\n",
       "    }\n",
       "\n",
       "    .dataframe tbody tr th {\n",
       "        vertical-align: top;\n",
       "    }\n",
       "\n",
       "    .dataframe thead th {\n",
       "        text-align: right;\n",
       "    }\n",
       "</style>\n",
       "<table border=\"1\" class=\"dataframe\">\n",
       "  <thead>\n",
       "    <tr style=\"text-align: right;\">\n",
       "      <th>Civilization</th>\n",
       "      <th>Chinese</th>\n",
       "      <th>Koreans</th>\n",
       "      <th>Turks</th>\n",
       "      <th>Byzantines</th>\n",
       "      <th>Slavs</th>\n",
       "      <th>Indians</th>\n",
       "      <th>Incas</th>\n",
       "      <th>Persians</th>\n",
       "      <th>Franks</th>\n",
       "      <th>Saracens</th>\n",
       "    </tr>\n",
       "  </thead>\n",
       "  <tbody>\n",
       "    <tr>\n",
       "      <th>Win Rate</th>\n",
       "      <td>46.98</td>\n",
       "      <td>45.31</td>\n",
       "      <td>46.51</td>\n",
       "      <td>49.56</td>\n",
       "      <td>56.78</td>\n",
       "      <td>53.46</td>\n",
       "      <td>56.52</td>\n",
       "      <td>50.62</td>\n",
       "      <td>60.61</td>\n",
       "      <td>41.21</td>\n",
       "    </tr>\n",
       "    <tr>\n",
       "      <th>Play Rate</th>\n",
       "      <td>6.82</td>\n",
       "      <td>7.03</td>\n",
       "      <td>6.87</td>\n",
       "      <td>6.92</td>\n",
       "      <td>5.73</td>\n",
       "      <td>5.7</td>\n",
       "      <td>5.78</td>\n",
       "      <td>6.69</td>\n",
       "      <td>7.13</td>\n",
       "      <td>6.81</td>\n",
       "    </tr>\n",
       "    <tr>\n",
       "      <th>Score</th>\n",
       "      <td>6421</td>\n",
       "      <td>5897</td>\n",
       "      <td>6089</td>\n",
       "      <td>6614</td>\n",
       "      <td>6360</td>\n",
       "      <td>6531</td>\n",
       "      <td>5986</td>\n",
       "      <td>6675</td>\n",
       "      <td>6678</td>\n",
       "      <td>6160</td>\n",
       "    </tr>\n",
       "    <tr>\n",
       "      <th>Research</th>\n",
       "      <td>22</td>\n",
       "      <td>18</td>\n",
       "      <td>20</td>\n",
       "      <td>22</td>\n",
       "      <td>22</td>\n",
       "      <td>22</td>\n",
       "      <td>21</td>\n",
       "      <td>21</td>\n",
       "      <td>21</td>\n",
       "      <td>20</td>\n",
       "    </tr>\n",
       "    <tr>\n",
       "      <th>Feudal Time</th>\n",
       "      <td>0:11:29</td>\n",
       "      <td>0:11:05</td>\n",
       "      <td>0:11:12</td>\n",
       "      <td>0:11:20</td>\n",
       "      <td>0:10:53</td>\n",
       "      <td>0:10:28</td>\n",
       "      <td>0:11:08</td>\n",
       "      <td>0:10:54</td>\n",
       "      <td>0:11:00</td>\n",
       "      <td>0:11:22</td>\n",
       "    </tr>\n",
       "    <tr>\n",
       "      <th>Castle Time</th>\n",
       "      <td>0:23:57</td>\n",
       "      <td>0:25:23</td>\n",
       "      <td>0:23:40</td>\n",
       "      <td>0:24:09</td>\n",
       "      <td>0:23:12</td>\n",
       "      <td>0:22:58</td>\n",
       "      <td>0:24:21</td>\n",
       "      <td>0:23:05</td>\n",
       "      <td>0:23:05</td>\n",
       "      <td>0:23:54</td>\n",
       "    </tr>\n",
       "    <tr>\n",
       "      <th>Imperial Time</th>\n",
       "      <td>0:39:35</td>\n",
       "      <td>0:41:16</td>\n",
       "      <td>0:39:17</td>\n",
       "      <td>0:39:20</td>\n",
       "      <td>0:39:15</td>\n",
       "      <td>0:38:12</td>\n",
       "      <td>0:39:58</td>\n",
       "      <td>0:38:23</td>\n",
       "      <td>0:38:06</td>\n",
       "      <td>0:40:01</td>\n",
       "    </tr>\n",
       "    <tr>\n",
       "      <th>Game Length</th>\n",
       "      <td>0:41:20</td>\n",
       "      <td>0:41:15</td>\n",
       "      <td>0:40:41</td>\n",
       "      <td>0:42:20</td>\n",
       "      <td>0:40:13</td>\n",
       "      <td>0:41:10</td>\n",
       "      <td>0:39:56</td>\n",
       "      <td>0:41:55</td>\n",
       "      <td>0:41:32</td>\n",
       "      <td>0:41:21</td>\n",
       "    </tr>\n",
       "    <tr>\n",
       "      <th>Feudal Time Hours</th>\n",
       "      <td>0</td>\n",
       "      <td>0</td>\n",
       "      <td>0</td>\n",
       "      <td>0</td>\n",
       "      <td>0</td>\n",
       "      <td>0</td>\n",
       "      <td>0</td>\n",
       "      <td>0</td>\n",
       "      <td>0</td>\n",
       "      <td>0</td>\n",
       "    </tr>\n",
       "    <tr>\n",
       "      <th>Feudal Time Minutes</th>\n",
       "      <td>11</td>\n",
       "      <td>11</td>\n",
       "      <td>11</td>\n",
       "      <td>11</td>\n",
       "      <td>10</td>\n",
       "      <td>10</td>\n",
       "      <td>11</td>\n",
       "      <td>10</td>\n",
       "      <td>11</td>\n",
       "      <td>11</td>\n",
       "    </tr>\n",
       "    <tr>\n",
       "      <th>Feudal Time Seconds</th>\n",
       "      <td>0</td>\n",
       "      <td>0</td>\n",
       "      <td>0</td>\n",
       "      <td>0</td>\n",
       "      <td>0</td>\n",
       "      <td>0</td>\n",
       "      <td>0</td>\n",
       "      <td>0</td>\n",
       "      <td>0</td>\n",
       "      <td>0</td>\n",
       "    </tr>\n",
       "    <tr>\n",
       "      <th>Castle Time Hours</th>\n",
       "      <td>0</td>\n",
       "      <td>0</td>\n",
       "      <td>0</td>\n",
       "      <td>0</td>\n",
       "      <td>0</td>\n",
       "      <td>0</td>\n",
       "      <td>0</td>\n",
       "      <td>0</td>\n",
       "      <td>0</td>\n",
       "      <td>0</td>\n",
       "    </tr>\n",
       "    <tr>\n",
       "      <th>Castle Time Minutes</th>\n",
       "      <td>23</td>\n",
       "      <td>25</td>\n",
       "      <td>23</td>\n",
       "      <td>24</td>\n",
       "      <td>23</td>\n",
       "      <td>22</td>\n",
       "      <td>24</td>\n",
       "      <td>23</td>\n",
       "      <td>23</td>\n",
       "      <td>23</td>\n",
       "    </tr>\n",
       "    <tr>\n",
       "      <th>Castle Time Seconds</th>\n",
       "      <td>0</td>\n",
       "      <td>0</td>\n",
       "      <td>0</td>\n",
       "      <td>0</td>\n",
       "      <td>0</td>\n",
       "      <td>0</td>\n",
       "      <td>0</td>\n",
       "      <td>0</td>\n",
       "      <td>0</td>\n",
       "      <td>0</td>\n",
       "    </tr>\n",
       "    <tr>\n",
       "      <th>Imperial Time Hours</th>\n",
       "      <td>0</td>\n",
       "      <td>0</td>\n",
       "      <td>0</td>\n",
       "      <td>0</td>\n",
       "      <td>0</td>\n",
       "      <td>0</td>\n",
       "      <td>0</td>\n",
       "      <td>0</td>\n",
       "      <td>0</td>\n",
       "      <td>0</td>\n",
       "    </tr>\n",
       "    <tr>\n",
       "      <th>Imperial Time Minutes</th>\n",
       "      <td>39</td>\n",
       "      <td>41</td>\n",
       "      <td>39</td>\n",
       "      <td>39</td>\n",
       "      <td>39</td>\n",
       "      <td>38</td>\n",
       "      <td>39</td>\n",
       "      <td>38</td>\n",
       "      <td>38</td>\n",
       "      <td>40</td>\n",
       "    </tr>\n",
       "    <tr>\n",
       "      <th>Imperial Time Seconds</th>\n",
       "      <td>0</td>\n",
       "      <td>0</td>\n",
       "      <td>0</td>\n",
       "      <td>0</td>\n",
       "      <td>0</td>\n",
       "      <td>0</td>\n",
       "      <td>0</td>\n",
       "      <td>0</td>\n",
       "      <td>0</td>\n",
       "      <td>0</td>\n",
       "    </tr>\n",
       "    <tr>\n",
       "      <th>Game Length Hours</th>\n",
       "      <td>0</td>\n",
       "      <td>0</td>\n",
       "      <td>0</td>\n",
       "      <td>0</td>\n",
       "      <td>0</td>\n",
       "      <td>0</td>\n",
       "      <td>0</td>\n",
       "      <td>0</td>\n",
       "      <td>0</td>\n",
       "      <td>0</td>\n",
       "    </tr>\n",
       "    <tr>\n",
       "      <th>Game Length Minutes</th>\n",
       "      <td>41</td>\n",
       "      <td>41</td>\n",
       "      <td>40</td>\n",
       "      <td>42</td>\n",
       "      <td>40</td>\n",
       "      <td>41</td>\n",
       "      <td>39</td>\n",
       "      <td>41</td>\n",
       "      <td>41</td>\n",
       "      <td>41</td>\n",
       "    </tr>\n",
       "    <tr>\n",
       "      <th>Game Length Seconds</th>\n",
       "      <td>0</td>\n",
       "      <td>0</td>\n",
       "      <td>0</td>\n",
       "      <td>0</td>\n",
       "      <td>0</td>\n",
       "      <td>0</td>\n",
       "      <td>0</td>\n",
       "      <td>0</td>\n",
       "      <td>0</td>\n",
       "      <td>0</td>\n",
       "    </tr>\n",
       "  </tbody>\n",
       "</table>\n",
       "</div>"
      ],
      "text/plain": [
       "Civilization           Chinese  Koreans    Turks Byzantines    Slavs  Indians  \\\n",
       "Win Rate                 46.98    45.31    46.51      49.56    56.78    53.46   \n",
       "Play Rate                 6.82     7.03     6.87       6.92     5.73      5.7   \n",
       "Score                     6421     5897     6089       6614     6360     6531   \n",
       "Research                    22       18       20         22       22       22   \n",
       "Feudal Time            0:11:29  0:11:05  0:11:12    0:11:20  0:10:53  0:10:28   \n",
       "Castle Time            0:23:57  0:25:23  0:23:40    0:24:09  0:23:12  0:22:58   \n",
       "Imperial Time          0:39:35  0:41:16  0:39:17    0:39:20  0:39:15  0:38:12   \n",
       "Game Length            0:41:20  0:41:15  0:40:41    0:42:20  0:40:13  0:41:10   \n",
       "Feudal Time Hours            0        0        0          0        0        0   \n",
       "Feudal Time Minutes         11       11       11         11       10       10   \n",
       "Feudal Time Seconds          0        0        0          0        0        0   \n",
       "Castle Time Hours            0        0        0          0        0        0   \n",
       "Castle Time Minutes         23       25       23         24       23       22   \n",
       "Castle Time Seconds          0        0        0          0        0        0   \n",
       "Imperial Time Hours          0        0        0          0        0        0   \n",
       "Imperial Time Minutes       39       41       39         39       39       38   \n",
       "Imperial Time Seconds        0        0        0          0        0        0   \n",
       "Game Length Hours            0        0        0          0        0        0   \n",
       "Game Length Minutes         41       41       40         42       40       41   \n",
       "Game Length Seconds          0        0        0          0        0        0   \n",
       "\n",
       "Civilization             Incas Persians   Franks Saracens  \n",
       "Win Rate                 56.52    50.62    60.61    41.21  \n",
       "Play Rate                 5.78     6.69     7.13     6.81  \n",
       "Score                     5986     6675     6678     6160  \n",
       "Research                    21       21       21       20  \n",
       "Feudal Time            0:11:08  0:10:54  0:11:00  0:11:22  \n",
       "Castle Time            0:24:21  0:23:05  0:23:05  0:23:54  \n",
       "Imperial Time          0:39:58  0:38:23  0:38:06  0:40:01  \n",
       "Game Length            0:39:56  0:41:55  0:41:32  0:41:21  \n",
       "Feudal Time Hours            0        0        0        0  \n",
       "Feudal Time Minutes         11       10       11       11  \n",
       "Feudal Time Seconds          0        0        0        0  \n",
       "Castle Time Hours            0        0        0        0  \n",
       "Castle Time Minutes         24       23       23       23  \n",
       "Castle Time Seconds          0        0        0        0  \n",
       "Imperial Time Hours          0        0        0        0  \n",
       "Imperial Time Minutes       39       38       38       40  \n",
       "Imperial Time Seconds        0        0        0        0  \n",
       "Game Length Hours            0        0        0        0  \n",
       "Game Length Minutes         39       41       41       41  \n",
       "Game Length Seconds          0        0        0        0  "
      ]
     },
     "execution_count": 2,
     "metadata": {},
     "output_type": "execute_result"
    }
   ],
   "source": [
    "\n",
    "import pandas as pd\n",
    "\n",
    "html_dir = os.path.join(DATA_FOLDER, 'html')\n",
    "html_path = os.path.join(html_dir, 'aoestats.io_stats.html')\n",
    "win_rate_df = pd.read_html(html_path)[0]\n",
    "win_rate_df.set_index('Civilization', drop=True, inplace=True)\n",
    "for column_name in ['Win Rate', 'Play Rate']:\n",
    "    win_rate_df[column_name] = win_rate_df[column_name].map(lambda x: float(x.split('%')[0]))\n",
    "\n",
    "def get_hours(x):\n",
    "    \n",
    "    return int(x.split(':')[0])\n",
    "\n",
    "def get_minutes(x):\n",
    "    \n",
    "    return int(x.split(':')[1])\n",
    "\n",
    "def get_seconds(x):\n",
    "    \n",
    "    return int(x.split(':')[0])\n",
    "    \n",
    "for column_name in ['Feudal Time', 'Castle Time', 'Imperial Time', 'Game Length']:\n",
    "    win_rate_df['{} Hours'.format(column_name)] = win_rate_df[column_name].map(get_hours)\n",
    "    win_rate_df['{} Minutes'.format(column_name)] = win_rate_df[column_name].map(get_minutes)\n",
    "    win_rate_df['{} Seconds'.format(column_name)] = win_rate_df[column_name].map(get_seconds)\n",
    "win_rate_df.sample(10).T"
   ]
  },
  {
   "cell_type": "code",
   "execution_count": 3,
   "metadata": {},
   "outputs": [
    {
     "data": {
      "text/plain": [
       "Index(['Win Rate', 'Play Rate', 'Score', 'Research', 'Feudal Time',\n",
       "       'Castle Time', 'Imperial Time', 'Game Length', 'Feudal Time Hours',\n",
       "       'Feudal Time Minutes', 'Feudal Time Seconds', 'Castle Time Hours',\n",
       "       'Castle Time Minutes', 'Castle Time Seconds', 'Imperial Time Hours',\n",
       "       'Imperial Time Minutes', 'Imperial Time Seconds', 'Game Length Hours',\n",
       "       'Game Length Minutes', 'Game Length Seconds'],\n",
       "      dtype='object')"
      ]
     },
     "execution_count": 3,
     "metadata": {},
     "output_type": "execute_result"
    }
   ],
   "source": [
    "\n",
    "win_rate_df.columns"
   ]
  },
  {
   "cell_type": "code",
   "execution_count": 9,
   "metadata": {},
   "outputs": [
    {
     "data": {
      "text/plain": [
       "Index(['Aztecs', 'Berbers', 'Britons', 'Burmese', 'Byzantines', 'Celts',\n",
       "       'Chinese', 'Ethiopians', 'Franks', 'Goths', 'Huns', 'Incas', 'Indians',\n",
       "       'Italians', 'Japanese', 'Khmer', 'Koreans', 'Magyars', 'Malay',\n",
       "       'Malians', 'Mayans', 'Mongols', 'Persians', 'Portuguese', 'Saracens',\n",
       "       'Slavs', 'Spanish', 'Teutons', 'Turks', 'Vietnamese', 'Vikings'],\n",
       "      dtype='object', name='Civilization')"
      ]
     },
     "execution_count": 9,
     "metadata": {},
     "output_type": "execute_result"
    }
   ],
   "source": [
    "\n",
    "win_rate_df.index"
   ]
  },
  {
   "cell_type": "code",
   "execution_count": 28,
   "metadata": {},
   "outputs": [
    {
     "name": "stdout",
     "output_type": "stream",
     "text": [
      "Attempting to load C:\\Users\\dev\\Documents\\repositories\\notebooks\\age-of-empires-ii\\saves\\pickle\\super_availability_df.pickle.\n",
      "No pickle exists - attempting to load C:\\Users\\dev\\Documents\\repositories\\notebooks\\age-of-empires-ii\\saves\\csv\\super_availability_df.csv.\n"
     ]
    }
   ],
   "source": [
    "\n",
    "dataframes_dict = load_dataframes(super_availability_df='super_availability_df')\n",
    "super_availability_df = dataframes_dict['super_availability_df']\n",
    "super_availability_df = super_availability_df.set_index('Unit Name')\n",
    "super_availability_df.index.name = 'Unit Name'"
   ]
  },
  {
   "cell_type": "code",
   "execution_count": 5,
   "metadata": {},
   "outputs": [
    {
     "data": {
      "text/plain": [
       "Index(['Heading', 'Required', 'PSpeed', 'AttackBonus', 'FD', 'Wood', 'UpTime',\n",
       "       'UpTo', 'Type', 'MinRange',\n",
       "       ...\n",
       "       'In_Cavalry_Armor_class', 'In_Unique_unit_Armor_class',\n",
       "       'In_War_elephant_Armor_class', 'In_Siege_weapon_Armor_class',\n",
       "       'In_Ram_Armor_class', 'In_Ship_Armor_class',\n",
       "       'In_Gunpowder_unit_Armor_class', 'In_Infantry_Armor_class',\n",
       "       'Accuracy_Accuracy_against_buildings',\n",
       "       'Accuracy_Accuracy_against_units'],\n",
       "      dtype='object', length=115)"
      ]
     },
     "execution_count": 5,
     "metadata": {},
     "output_type": "execute_result"
    }
   ],
   "source": [
    "\n",
    "super_availability_df.columns"
   ]
  },
  {
   "cell_type": "code",
   "execution_count": 10,
   "metadata": {},
   "outputs": [
    {
     "data": {
      "text/plain": [
       "Index(['Arambai', 'Arbalest', 'Archer', 'Ballista Elephant', 'Battering Ram',\n",
       "       'Battle Elephant', 'Berserk', 'Bombard Cannon', 'Boyar', 'Camel',\n",
       "       ...\n",
       "       'Transport Ship', 'Trebuchet (packed)', 'Trebuchet (unpacked)',\n",
       "       'Turtle Ship', 'Two-Handed Swordsman', 'Villager', 'War Elephant',\n",
       "       'War Galley', 'War Wagon', 'Woad Raider'],\n",
       "      dtype='object', name='Unit Name', length=135)"
      ]
     },
     "execution_count": 10,
     "metadata": {},
     "output_type": "execute_result"
    }
   ],
   "source": [
    "\n",
    "super_availability_df.index"
   ]
  },
  {
   "cell_type": "code",
   "execution_count": 6,
   "metadata": {},
   "outputs": [
    {
     "data": {
      "text/plain": [
       "set()"
      ]
     },
     "execution_count": 6,
     "metadata": {},
     "output_type": "execute_result"
    }
   ],
   "source": [
    "\n",
    "# New set with columns common to win_rate_df and super_availability_df\n",
    "set.intersection(set(win_rate_df.columns), set(super_availability_df.columns))"
   ]
  },
  {
   "cell_type": "code",
   "execution_count": null,
   "metadata": {},
   "outputs": [],
   "source": [
    "\n",
    "# New set with indexes in either win_rate_df or super_availability_df but not both\n",
    "set(win_rate_df.index).symmetric_difference(set(super_availability_df.index))"
   ]
  },
  {
   "cell_type": "code",
   "execution_count": 29,
   "metadata": {},
   "outputs": [],
   "source": [
    "\n",
    "# New list with elements common to win_rate_df indexes and super_availability_df columns\n",
    "columns_list = list(set.intersection(set(win_rate_df.index), set(super_availability_df.columns)))\n",
    "merge_df = pd.merge(left=win_rate_df, right=super_availability_df.T, left_index=True,\n",
    "                    right_index=True, suffixes=('_win_rate', '_super_availability'))"
   ]
  },
  {
   "cell_type": "code",
   "execution_count": 24,
   "metadata": {},
   "outputs": [
    {
     "data": {
      "text/plain": [
       "{'Franks', 'Malay', 'Persians', 'Berbers', 'Britons', 'Malians', 'Incas', 'Koreans', 'Italians', 'Khmer', 'Ethiopians', 'Burmese', 'Turks', 'Huns', 'Mongols', 'Japanese', 'Goths', 'Mayans', 'Saracens', 'Indians', 'Celts', 'Spanish', 'Byzantines', 'Magyars', 'Chinese', 'Vikings', 'Slavs', 'Teutons', 'Aztecs', 'Portuguese', 'Vietnamese'}"
      ]
     },
     "execution_count": 24,
     "metadata": {},
     "output_type": "execute_result"
    }
   ],
   "source": [
    "\n",
    "# New set with columns in the columns list common to merge dataframe index\n",
    "set.intersection(set(columns_list), set(merge_df.index))"
   ]
  },
  {
   "cell_type": "code",
   "execution_count": 23,
   "metadata": {},
   "outputs": [
    {
     "data": {
      "text/plain": [
       "Index(['Aztecs', 'Berbers', 'Britons', 'Burmese', 'Byzantines', 'Celts',\n",
       "       'Chinese', 'Ethiopians', 'Franks', 'Goths', 'Huns', 'Incas', 'Indians',\n",
       "       'Italians', 'Japanese', 'Khmer', 'Koreans', 'Magyars', 'Malay',\n",
       "       'Malians', 'Mayans', 'Mongols', 'Persians', 'Portuguese', 'Saracens',\n",
       "       'Slavs', 'Spanish', 'Teutons', 'Turks', 'Vietnamese', 'Vikings'],\n",
       "      dtype='object')"
      ]
     },
     "execution_count": 23,
     "metadata": {},
     "output_type": "execute_result"
    }
   ],
   "source": [
    "\n",
    "merge_df.index"
   ]
  },
  {
   "cell_type": "code",
   "execution_count": 25,
   "metadata": {},
   "outputs": [
    {
     "data": {
      "text/plain": [
       "Index(['Win Rate', 'Play Rate', 'Score', 'Research', 'Feudal Time',\n",
       "       'Castle Time', 'Imperial Time', 'Game Length', 'Feudal Time Hours',\n",
       "       'Feudal Time Minutes',\n",
       "       ...\n",
       "       'Transport Ship', 'Trebuchet (packed)', 'Trebuchet (unpacked)',\n",
       "       'Turtle Ship', 'Two-Handed Swordsman', 'Villager', 'War Elephant',\n",
       "       'War Galley', 'War Wagon', 'Woad Raider'],\n",
       "      dtype='object', length=155)"
      ]
     },
     "execution_count": 25,
     "metadata": {},
     "output_type": "execute_result"
    }
   ],
   "source": [
    "\n",
    "merge_df.columns"
   ]
  },
  {
   "cell_type": "code",
   "execution_count": 34,
   "metadata": {},
   "outputs": [
    {
     "data": {
      "text/html": [
       "<div>\n",
       "<style scoped>\n",
       "    .dataframe tbody tr th:only-of-type {\n",
       "        vertical-align: middle;\n",
       "    }\n",
       "\n",
       "    .dataframe tbody tr th {\n",
       "        vertical-align: top;\n",
       "    }\n",
       "\n",
       "    .dataframe thead th {\n",
       "        text-align: right;\n",
       "    }\n",
       "</style>\n",
       "<table border=\"1\" class=\"dataframe\">\n",
       "  <thead>\n",
       "    <tr style=\"text-align: right;\">\n",
       "      <th></th>\n",
       "      <th>column_name</th>\n",
       "      <th>dtype</th>\n",
       "      <th>count_blanks</th>\n",
       "      <th>count_uniques</th>\n",
       "      <th>count_zeroes</th>\n",
       "      <th>has_dates</th>\n",
       "      <th>min_value</th>\n",
       "      <th>max_value</th>\n",
       "      <th>only_integers</th>\n",
       "    </tr>\n",
       "  </thead>\n",
       "  <tbody>\n",
       "    <tr>\n",
       "      <th>151</th>\n",
       "      <td>Feudal Time</td>\n",
       "      <td>object</td>\n",
       "      <td>0</td>\n",
       "      <td>24</td>\n",
       "      <td>0</td>\n",
       "      <td>True</td>\n",
       "      <td>0:10:21</td>\n",
       "      <td>0:11:47</td>\n",
       "      <td>NaN</td>\n",
       "    </tr>\n",
       "    <tr>\n",
       "      <th>152</th>\n",
       "      <td>Castle Time</td>\n",
       "      <td>object</td>\n",
       "      <td>0</td>\n",
       "      <td>26</td>\n",
       "      <td>0</td>\n",
       "      <td>True</td>\n",
       "      <td>0:22:58</td>\n",
       "      <td>0:25:23</td>\n",
       "      <td>NaN</td>\n",
       "    </tr>\n",
       "    <tr>\n",
       "      <th>153</th>\n",
       "      <td>Imperial Time</td>\n",
       "      <td>object</td>\n",
       "      <td>0</td>\n",
       "      <td>26</td>\n",
       "      <td>0</td>\n",
       "      <td>True</td>\n",
       "      <td>0:37:19</td>\n",
       "      <td>0:41:16</td>\n",
       "      <td>NaN</td>\n",
       "    </tr>\n",
       "    <tr>\n",
       "      <th>154</th>\n",
       "      <td>Game Length</td>\n",
       "      <td>object</td>\n",
       "      <td>0</td>\n",
       "      <td>28</td>\n",
       "      <td>0</td>\n",
       "      <td>True</td>\n",
       "      <td>0:39:46</td>\n",
       "      <td>0:42:20</td>\n",
       "      <td>NaN</td>\n",
       "    </tr>\n",
       "  </tbody>\n",
       "</table>\n",
       "</div>"
      ],
      "text/plain": [
       "       column_name   dtype  count_blanks  count_uniques  count_zeroes  \\\n",
       "151    Feudal Time  object             0             24             0   \n",
       "152    Castle Time  object             0             26             0   \n",
       "153  Imperial Time  object             0             26             0   \n",
       "154    Game Length  object             0             28             0   \n",
       "\n",
       "     has_dates min_value max_value only_integers  \n",
       "151       True   0:10:21   0:11:47           NaN  \n",
       "152       True   0:22:58   0:25:23           NaN  \n",
       "153       True   0:37:19   0:41:16           NaN  \n",
       "154       True   0:39:46   0:42:20           NaN  "
      ]
     },
     "execution_count": 34,
     "metadata": {},
     "output_type": "execute_result"
    }
   ],
   "source": [
    "\n",
    "for column_name in super_availability_df.index:\n",
    "    if column_name in merge_df.columns:\n",
    "        merge_df[column_name] = merge_df[column_name].astype('int64')\n",
    "column_descriptions_df = get_column_descriptions(merge_df)\n",
    "match_series = column_descriptions_df['dtype'].isin(['int64', 'float64'])\n",
    "column_descriptions_df[~match_series]"
   ]
  },
  {
   "cell_type": "code",
   "execution_count": 37,
   "metadata": {},
   "outputs": [],
   "source": [
    "\n",
    "max_win_rate = merge_df['Win Rate'].max()\n",
    "def f(row_series):\n",
    "    win_rate = row_series['Win Rate']\n",
    "    \n",
    "    return win_rate == max_win_rate\n",
    "\n",
    "merge_df['is_winner'] = merge_df.apply(f, axis=1)"
   ]
  },
  {
   "cell_type": "code",
   "execution_count": 46,
   "metadata": {},
   "outputs": [
    {
     "data": {
      "text/plain": [
       "[('Elite Throwing Axeman', 0.09887233169129722), ('Score', 0.07576334154351398), ('Imperial Time Minutes', 0.049912018616759986), ('Throwing Axeman', 0.04964444444444445), ('Win Rate', 0.048495169082125616), ('Arbalest', 0.03225596524687427), ('Play Rate', 0.026620987654321016), ('Halberdier', 0.023068289734956417), ('Hussar', 0.019059792219275062), ('Heavy Cavalry Archer', 0.017950181159420243), ('Heavy Camel', 0.017497951173223038), ('Game Length Minutes', 0.0174758241758242), ('Fast Fire Ship', 0.017209754097310362), ('Hand Cannoneer', 0.01627339327339328), ('Camel', 0.015808376406202574), ('Siege Onager', 0.015753787878787874), ('Elite Cannon Galleon', 0.013628458498023637), ('Bombard Cannon', 0.010481367243867244), ('Siege Ram', 0.009083683473389292), ('Elite Battle Elephant', 0.008012820512819332), ('Paladin', 0.007539682539682533), ('Heavy Scorpion', 0.0067820069204151635), ('Castle Time Minutes', 0.00659321475625827), ('Imperial Camel', 0.0064291708291720154), ('Elite Plumed Archer', 0.005166666666666669), ('Janissary', 0.0048413952357803484), ('Camel Archer', 0.00437179487179482), ('Light Cavalry', 0.00422245736529899), ('Elite Camel Archer', 0.0036758893280632752), ('Cavalier', 0.0035632183908046017), ('Research', 0.002954545454545443), ('Elephant Archer', 0.0026956521739130886), ('Elite Conquistador', 0.0026956521739130886), ('Elite War Elephant', 0.002384615384615386), ('War Elephant', 0.002296296296296297), ('Feudal Time Minutes', 0.0016041666666666453), ('Elite Elephant Archer', 0.001497584541062807), ('Missionary', 0.001497584541062807), ('Elite Tarkan', 0.0013419913419913377), ('Onager', 0.0013419913419913355), ('Elite Boyar', 0.001291666666666669), ('Heavy Demolition Ship', 0.0006999999999999913), ('Cannon Galleon', 0.0006688963210701073), ('Elite Woad Raider', 0.0005608974358973299), ('Imperial Skirmisher', 0.00037931034482760744), ('Elite Mangudai', 3.571428571428013e-05)]"
      ]
     },
     "execution_count": 46,
     "metadata": {},
     "output_type": "execute_result"
    }
   ],
   "source": [
    "\n",
    "from sklearn.ensemble import RandomForestClassifier, RandomForestRegressor\n",
    "\n",
    "column_name = 'is_winner'\n",
    "match_series = column_descriptions_df['dtype'].isin(['int64', 'float64'])\n",
    "columns_list = column_descriptions_df[match_series]['column_name'].tolist()\n",
    "#columns_list = [item for item in columns_list if item in super_availability_df.index]\n",
    "X = merge_df[columns_list].values\n",
    "y = merge_df[column_name].values\n",
    "regr = RandomForestClassifier(max_depth=2, n_estimators=100)\n",
    "regr.fit(X, y)\n",
    "sorted([(cn, ci) for cn, ci in zip(columns_list, regr.feature_importances_) if ci > 0.0],\n",
    "       key=lambda x: x[1], reverse=True)"
   ]
  },
  {
   "cell_type": "code",
   "execution_count": 45,
   "metadata": {},
   "outputs": [
    {
     "data": {
      "text/plain": [
       "[('Play Rate', 0.5020318011573783), ('Score', 0.11641796075498974), ('Research', 0.11021960753384541), ('Imperial Time Minutes', 0.042607787156991234), ('Elite Throwing Axeman', 0.036505147824423025), ('Elite Mameluke', 0.03425997913413409), ('Cannon Galleon', 0.030124028622985265), ('Mameluke', 0.026669538555677018), ('Elite Ballista Elephant', 0.019015856098609604), ('Ballista Elephant', 0.014231492990974638), ('Throwing Axeman', 0.0111140380180002), ('Battle Elephant', 0.008078729436122489), ('Feudal Time Minutes', 0.006991590816721758), ('Siege Ram', 0.0065484790560347336), ('Hussar', 0.005455415111164833), ('Knight', 0.003528724318842129), ('Elite War Wagon', 0.002997608217811683), ('Cavalier', 0.002808069978516354), ('Game Length Minutes', 0.002712838907341513), ('Elite Battle Elephant', 0.0022575679246213004), ('Cavalry Archer', 0.0020699193204474896), ('Castle Time Minutes', 0.001982693995674095), ('Elite Karambit Warrior', 0.0013776583144993824), ('Elite Genoese Crossbowman', 0.0013118967437023667), ('Elite Boyar', 0.0012451047127464677), ('Elite Rattan Archer', 0.0011413851451243233), ('War Wagon', 0.0011128079407443), ('Elite Organ Gun', 0.0011091446417865402), ('Condottiero', 0.0010002768778299607), ('Heavy Demolition Ship', 0.0009357828588206274), ('Organ Gun', 0.0007203037122523917), ('Eagle Warrior', 0.0006660901925587715), ('Turtle Ship', 0.000629927217113921), ('Elite Plumed Archer', 0.00012074671151424063)]"
      ]
     },
     "execution_count": 45,
     "metadata": {},
     "output_type": "execute_result"
    }
   ],
   "source": [
    "\n",
    "from sklearn.ensemble import RandomForestClassifier, RandomForestRegressor\n",
    "\n",
    "column_name = 'Win Rate'\n",
    "match_series = column_descriptions_df['dtype'].isin(['int64', 'float64'])\n",
    "columns_list = column_descriptions_df[match_series]['column_name'].tolist()\n",
    "columns_list = [item for item in columns_list if item != column_name]\n",
    "X = merge_df[columns_list].values\n",
    "y = merge_df[column_name].values\n",
    "regr = RandomForestRegressor(max_depth=2, n_estimators=100)\n",
    "regr.fit(X, y)\n",
    "sorted([(cn, ci) for cn, ci in zip(columns_list, regr.feature_importances_) if ci > 0.0],\n",
    "       key=lambda x: x[1], reverse=True)"
   ]
  },
  {
   "cell_type": "code",
   "execution_count": 47,
   "metadata": {},
   "outputs": [
    {
     "name": "stdout",
     "output_type": "stream",
     "text": [
      "Saving to C:\\Users\\dev\\Documents\\repositories\\notebooks\\age-of-empires-ii\\saves\\csv\\win_rate_df.csv\n",
      "Saving to C:\\Users\\dev\\Documents\\repositories\\notebooks\\age-of-empires-ii\\saves\\csv\\merge_df.csv\n",
      "Saving to C:\\Users\\dev\\Documents\\repositories\\notebooks\\age-of-empires-ii\\data\\xlsx\\win_rate_df.xlsx\n",
      "Saving to C:\\Users\\dev\\Documents\\repositories\\notebooks\\age-of-empires-ii\\data\\xlsx\\merge_df.xlsx\n"
     ]
    }
   ],
   "source": [
    "\n",
    "xlsx_folder = os.path.join(DATA_FOLDER, 'xlsx')\n",
    "os.makedirs(name=xlsx_folder, exist_ok=True)\n",
    "save_dataframes(include_index=True, win_rate_df=win_rate_df, merge_df=merge_df)\n",
    "\n",
    "file_path = os.path.join(xlsx_folder, 'win_rate_df.xlsx')\n",
    "print('Saving to {}'.format(os.path.abspath(file_path)))\n",
    "win_rate_df.to_excel(file_path)\n",
    "\n",
    "file_path = os.path.join(xlsx_folder, 'merge_df.xlsx')\n",
    "print('Saving to {}'.format(os.path.abspath(file_path)))\n",
    "merge_df.to_excel(file_path)"
   ]
  },
  {
   "cell_type": "code",
   "execution_count": 50,
   "metadata": {},
   "outputs": [],
   "source": [
    "\n",
    "def f(row_series):\n",
    "    unit_name = str(row_series.name)\n",
    "    \n",
    "    return unit_name == 'Elite Throwing Axeman'\n",
    "\n",
    "super_availability_df['is_winner'] = super_availability_df.apply(f, axis=1)"
   ]
  },
  {
   "cell_type": "code",
   "execution_count": 56,
   "metadata": {},
   "outputs": [],
   "source": [
    "\n",
    "column_descriptions_df = get_column_descriptions(super_availability_df)\n",
    "match_series = column_descriptions_df['dtype'].isin(['int64', 'float64'])\n",
    "columns_list = column_descriptions_df[match_series]['column_name'].tolist()"
   ]
  },
  {
   "cell_type": "code",
   "execution_count": 61,
   "metadata": {},
   "outputs": [
    {
     "data": {
      "text/plain": [
       "[('LOS_upon_reaching_Feudal_Age', 0.04700291251676592), ('FD', 0.039713109173786114), ('Accuracy_Accuracy_against_buildings', 0.03823141222875351), ('Attack_melee_upon_reaching_Feudal_Age', 0.03550405645512468), ('AttackBonusvsStandard_building', 0.034373013754872346), ('Speed', 0.033989690822169794), ('Accuracy_Accuracy_against_units', 0.033946615515216015), ('UpCost_gold', 0.03188066285437814), ('PierceArmor', 0.02803896436430478), ('Gold', 0.026595295708056587), ('In_Infantry_Armor_class', 0.024429522005040494), ('PSpeed', 0.022316657079115766), ('UpCost_food', 0.022263572954640782), ('Attack_melee', 0.021582537075582484), ('Franks', 0.02104601758283126), ('TrainTime', 0.0199879790705928), ('Speed_upon_reaching_Feudal_Age', 0.017478693181818123), ('AttackBonusvsEagle_Warrior', 0.01631568696425343), ('Wood', 0.015105239921822698), ('UpTime', 0.014869112212065817), ('LOS_upon_reaching_Imperial_Age', 0.013229249159865753), ('In_Unique_unit_Armor_class', 0.011555025065049103), ('Koreans', 0.010415921288014461), ('In_Cavalry_Armor_class', 0.010161256641685377), ('LOS_upon_reaching_Dark_Age', 0.01), ('attack_or_conversion_vs_buildings_trebuchets_battering_rams', 0.009233768622883326), ('Portuguese', 0.008259394892717065), ('Food', 0.007469262295081919), ('Attack_pierce_upon_reaching_Feudal_Age', 0.007023933402705518), ('ROF', 0.006716417910446554), ('attack_or_conversion_vs_units', 0.005174428236142677), ('AttackBonusvsBuilding', 0.004861944777911164), ('HP', 0.004645376817482672), ('Teutons', 0.003822393822393735), ('Burmese', 0.0026036644165862706), ('Vietnamese', 0.00015721120984287976)]"
      ]
     },
     "execution_count": 61,
     "metadata": {},
     "output_type": "execute_result"
    }
   ],
   "source": [
    "\n",
    "from sklearn.ensemble import RandomForestClassifier, RandomForestRegressor\n",
    "\n",
    "column_name = 'is_winner'\n",
    "df = super_availability_df[columns_list+[column_name]].fillna(0)\n",
    "X = df[columns_list].values\n",
    "y = df[column_name].values\n",
    "regr = RandomForestClassifier(max_depth=2, n_estimators=100)\n",
    "regr.fit(X, y)\n",
    "sorted([(cn, ci) for cn, ci in zip(columns_list, regr.feature_importances_) if ci > 0.0],\n",
    "       key=lambda x: x[1], reverse=True)"
   ]
  },
  {
   "cell_type": "code",
   "execution_count": 62,
   "metadata": {},
   "outputs": [
    {
     "data": {
      "text/plain": [
       "[('FD', 0.2792251094646812), ('AttackBonusvsEagle_Warrior', 0.21082462370308602), ('Speed_upon_reaching_Feudal_Age', 0.0353847644892421), ('Gold', 0.03317619915688732), ('Speed', 0.02551650096587946), ('UpCost_gold', 0.013738892686261106), ('PSpeed', 0.009514925373134326), ('Franks', 0.008815298507462686), ('Attack_melee_upon_reaching_Feudal_Age', 0.008815298507462686), ('attack_or_conversion_vs_buildings_trebuchets_battering_rams', 0.008815298507462686), ('Wood', 0.008635394456289977), ('Attack_melee', 0.0081203007518797), ('AttackBonusvsStandard_building', 0.007894736842105262), ('LOS_upon_reaching_Castle_Age', 0.007555970149253731), ('TrainTime', 0.007250268528464015), ('LOS_upon_reaching_Dark_Age', 0.00671641791044776)]"
      ]
     },
     "execution_count": 62,
     "metadata": {},
     "output_type": "execute_result"
    }
   ],
   "source": [
    "\n",
    "from sklearn.ensemble import RandomForestClassifier, RandomForestRegressor\n",
    "\n",
    "column_name = 'is_winner'\n",
    "df = super_availability_df[columns_list+[column_name]].fillna(0)\n",
    "X = df[columns_list].values\n",
    "y = df[column_name].values\n",
    "regr = RandomForestRegressor(max_depth=2, n_estimators=100)\n",
    "regr.fit(X, y)\n",
    "sorted([(cn, ci) for cn, ci in zip(columns_list, regr.feature_importances_) if ci > 0.0],\n",
    "       key=lambda x: x[1], reverse=True)"
   ]
  },
  {
   "cell_type": "code",
   "execution_count": 65,
   "metadata": {},
   "outputs": [
    {
     "data": {
      "text/html": [
       "<div>\n",
       "<style scoped>\n",
       "    .dataframe tbody tr th:only-of-type {\n",
       "        vertical-align: middle;\n",
       "    }\n",
       "\n",
       "    .dataframe tbody tr th {\n",
       "        vertical-align: top;\n",
       "    }\n",
       "\n",
       "    .dataframe thead th {\n",
       "        text-align: right;\n",
       "    }\n",
       "</style>\n",
       "<table border=\"1\" class=\"dataframe\">\n",
       "  <thead>\n",
       "    <tr style=\"text-align: right;\">\n",
       "      <th>Unit Name</th>\n",
       "      <th>Elite Huskarl</th>\n",
       "      <th>Bombard Cannon</th>\n",
       "      <th>Elite Turtle Ship</th>\n",
       "      <th>Monk</th>\n",
       "      <th>Elite Genoese Crossbowman</th>\n",
       "    </tr>\n",
       "  </thead>\n",
       "  <tbody>\n",
       "    <tr>\n",
       "      <th>Heading</th>\n",
       "      <td>Unique</td>\n",
       "      <td>Siege</td>\n",
       "      <td>The Conquerors</td>\n",
       "      <td>The Age of Kings</td>\n",
       "      <td>The Forgotten</td>\n",
       "    </tr>\n",
       "    <tr>\n",
       "      <th>Required</th>\n",
       "      <td>NaN</td>\n",
       "      <td>Chemistry</td>\n",
       "      <td>NaN</td>\n",
       "      <td>NaN</td>\n",
       "      <td>NaN</td>\n",
       "    </tr>\n",
       "    <tr>\n",
       "      <th>AttackBonus</th>\n",
       "      <td>+10 vs Archer +3 vs Eagle Warrior +3 vs Standa...</td>\n",
       "      <td>+200 vs Building +40 vs Ship +40 vs Stone defe...</td>\n",
       "      <td>NaN</td>\n",
       "      <td>NaN</td>\n",
       "      <td>+7 vs Cavalry +7 vs War elephant +6 vs Camel +...</td>\n",
       "    </tr>\n",
       "    <tr>\n",
       "      <th>UpTo</th>\n",
       "      <td>NaN</td>\n",
       "      <td>NaN</td>\n",
       "      <td>NaN</td>\n",
       "      <td>NaN</td>\n",
       "      <td>NaN</td>\n",
       "    </tr>\n",
       "    <tr>\n",
       "      <th>Type</th>\n",
       "      <td>Infantry</td>\n",
       "      <td>Siege unit Gunpowder unit</td>\n",
       "      <td>Naval vessel Gunpowder unit</td>\n",
       "      <td>Monk Healer</td>\n",
       "      <td>Archer</td>\n",
       "    </tr>\n",
       "    <tr>\n",
       "      <th>Range</th>\n",
       "      <td>0</td>\n",
       "      <td>12</td>\n",
       "      <td>6</td>\n",
       "      <td>Conversion : 9 vs units 0 vs buildings , Trebu...</td>\n",
       "      <td>4</td>\n",
       "    </tr>\n",
       "    <tr>\n",
       "      <th>UpCost</th>\n",
       "      <td>1,200 food , 550 gold</td>\n",
       "      <td>NaN</td>\n",
       "      <td>1,000 food , 800 gold</td>\n",
       "      <td>NaN</td>\n",
       "      <td>900 food , 750 gold</td>\n",
       "    </tr>\n",
       "    <tr>\n",
       "      <th>Age</th>\n",
       "      <td>Castle Age</td>\n",
       "      <td>Imperial Age</td>\n",
       "      <td>Castle Age</td>\n",
       "      <td>Castle Age</td>\n",
       "      <td>Castle Age</td>\n",
       "    </tr>\n",
       "    <tr>\n",
       "      <th>Intro</th>\n",
       "      <td>The Age of Kings</td>\n",
       "      <td>The Age of Kings</td>\n",
       "      <td>The Conquerors</td>\n",
       "      <td>The Age of Kings</td>\n",
       "      <td>The Forgotten</td>\n",
       "    </tr>\n",
       "    <tr>\n",
       "      <th>LOS</th>\n",
       "      <td>5</td>\n",
       "      <td>14</td>\n",
       "      <td>8</td>\n",
       "      <td>11</td>\n",
       "      <td>8</td>\n",
       "    </tr>\n",
       "    <tr>\n",
       "      <th>UpFrom</th>\n",
       "      <td>Huskarl</td>\n",
       "      <td>NaN</td>\n",
       "      <td>Turtle Ship</td>\n",
       "      <td>NaN</td>\n",
       "      <td>Genoese Crossbowman</td>\n",
       "    </tr>\n",
       "    <tr>\n",
       "      <th>Attack</th>\n",
       "      <td>12 melee</td>\n",
       "      <td>40 melee</td>\n",
       "      <td>50 melee</td>\n",
       "      <td>NaN</td>\n",
       "      <td>6 pierce</td>\n",
       "    </tr>\n",
       "    <tr>\n",
       "      <th>Class</th>\n",
       "      <td>Infantry Unique unit</td>\n",
       "      <td>Siege weapon Gunpowder unit</td>\n",
       "      <td>Ship (+11) Turtle Ship (+1) Gunpowder unit Uni...</td>\n",
       "      <td>Monk</td>\n",
       "      <td>Archer Unique unit</td>\n",
       "    </tr>\n",
       "    <tr>\n",
       "      <th>Building</th>\n",
       "      <td>Castle</td>\n",
       "      <td>Siege Workshop</td>\n",
       "      <td>Dock</td>\n",
       "      <td>Monastery</td>\n",
       "      <td>Castle</td>\n",
       "    </tr>\n",
       "    <tr>\n",
       "      <th>Accuracy</th>\n",
       "      <td>NaN</td>\n",
       "      <td>92%</td>\n",
       "      <td>100%</td>\n",
       "      <td>NaN</td>\n",
       "      <td>100%</td>\n",
       "    </tr>\n",
       "    <tr>\n",
       "      <th>Armor</th>\n",
       "      <td>0</td>\n",
       "      <td>2</td>\n",
       "      <td>8%</td>\n",
       "      <td>0</td>\n",
       "      <td>1</td>\n",
       "    </tr>\n",
       "    <tr>\n",
       "      <th>is_winner</th>\n",
       "      <td>False</td>\n",
       "      <td>False</td>\n",
       "      <td>False</td>\n",
       "      <td>False</td>\n",
       "      <td>False</td>\n",
       "    </tr>\n",
       "  </tbody>\n",
       "</table>\n",
       "</div>"
      ],
      "text/plain": [
       "Unit Name                                        Elite Huskarl  \\\n",
       "Heading                                                 Unique   \n",
       "Required                                                   NaN   \n",
       "AttackBonus  +10 vs Archer +3 vs Eagle Warrior +3 vs Standa...   \n",
       "UpTo                                                       NaN   \n",
       "Type                                                  Infantry   \n",
       "Range                                                        0   \n",
       "UpCost                                   1,200 food , 550 gold   \n",
       "Age                                                 Castle Age   \n",
       "Intro                                         The Age of Kings   \n",
       "LOS                                                          5   \n",
       "UpFrom                                                 Huskarl   \n",
       "Attack                                                12 melee   \n",
       "Class                                     Infantry Unique unit   \n",
       "Building                                                Castle   \n",
       "Accuracy                                                   NaN   \n",
       "Armor                                                        0   \n",
       "is_winner                                                False   \n",
       "\n",
       "Unit Name                                       Bombard Cannon  \\\n",
       "Heading                                                  Siege   \n",
       "Required                                             Chemistry   \n",
       "AttackBonus  +200 vs Building +40 vs Ship +40 vs Stone defe...   \n",
       "UpTo                                                       NaN   \n",
       "Type                                 Siege unit Gunpowder unit   \n",
       "Range                                                       12   \n",
       "UpCost                                                     NaN   \n",
       "Age                                               Imperial Age   \n",
       "Intro                                         The Age of Kings   \n",
       "LOS                                                         14   \n",
       "UpFrom                                                     NaN   \n",
       "Attack                                                40 melee   \n",
       "Class                              Siege weapon Gunpowder unit   \n",
       "Building                                        Siege Workshop   \n",
       "Accuracy                                                   92%   \n",
       "Armor                                                        2   \n",
       "is_winner                                                False   \n",
       "\n",
       "Unit Name                                    Elite Turtle Ship  \\\n",
       "Heading                                         The Conquerors   \n",
       "Required                                                   NaN   \n",
       "AttackBonus                                                NaN   \n",
       "UpTo                                                       NaN   \n",
       "Type                               Naval vessel Gunpowder unit   \n",
       "Range                                                        6   \n",
       "UpCost                                   1,000 food , 800 gold   \n",
       "Age                                                 Castle Age   \n",
       "Intro                                           The Conquerors   \n",
       "LOS                                                          8   \n",
       "UpFrom                                             Turtle Ship   \n",
       "Attack                                                50 melee   \n",
       "Class        Ship (+11) Turtle Ship (+1) Gunpowder unit Uni...   \n",
       "Building                                                  Dock   \n",
       "Accuracy                                                  100%   \n",
       "Armor                                                       8%   \n",
       "is_winner                                                False   \n",
       "\n",
       "Unit Name                                                 Monk  \\\n",
       "Heading                                       The Age of Kings   \n",
       "Required                                                   NaN   \n",
       "AttackBonus                                                NaN   \n",
       "UpTo                                                       NaN   \n",
       "Type                                               Monk Healer   \n",
       "Range        Conversion : 9 vs units 0 vs buildings , Trebu...   \n",
       "UpCost                                                     NaN   \n",
       "Age                                                 Castle Age   \n",
       "Intro                                         The Age of Kings   \n",
       "LOS                                                         11   \n",
       "UpFrom                                                     NaN   \n",
       "Attack                                                     NaN   \n",
       "Class                                                     Monk   \n",
       "Building                                             Monastery   \n",
       "Accuracy                                                   NaN   \n",
       "Armor                                                        0   \n",
       "is_winner                                                False   \n",
       "\n",
       "Unit Name                            Elite Genoese Crossbowman  \n",
       "Heading                                          The Forgotten  \n",
       "Required                                                   NaN  \n",
       "AttackBonus  +7 vs Cavalry +7 vs War elephant +6 vs Camel +...  \n",
       "UpTo                                                       NaN  \n",
       "Type                                                    Archer  \n",
       "Range                                                        4  \n",
       "UpCost                                     900 food , 750 gold  \n",
       "Age                                                 Castle Age  \n",
       "Intro                                            The Forgotten  \n",
       "LOS                                                          8  \n",
       "UpFrom                                     Genoese Crossbowman  \n",
       "Attack                                                6 pierce  \n",
       "Class                                       Archer Unique unit  \n",
       "Building                                                Castle  \n",
       "Accuracy                                                  100%  \n",
       "Armor                                                        1  \n",
       "is_winner                                                False  "
      ]
     },
     "execution_count": 65,
     "metadata": {},
     "output_type": "execute_result"
    }
   ],
   "source": [
    "\n",
    "column_descriptions_df = get_column_descriptions(super_availability_df)\n",
    "match_series = column_descriptions_df['dtype'].isin(['int64', 'float64'])\n",
    "columns_list = column_descriptions_df[match_series]['column_name'].tolist()\n",
    "non_columns_list = [cn for cn in super_availability_df.columns if cn not in columns_list]\n",
    "super_availability_df[non_columns_list].sample(5).T"
   ]
  },
  {
   "cell_type": "code",
   "execution_count": 66,
   "metadata": {},
   "outputs": [
    {
     "data": {
      "text/plain": [
       "['Type']"
      ]
     },
     "execution_count": 66,
     "metadata": {},
     "output_type": "execute_result"
    }
   ],
   "source": [
    "\n",
    "[cn for cn in super_availability_df.columns if 'type' in cn.lower()]"
   ]
  },
  {
   "cell_type": "code",
   "execution_count": 67,
   "metadata": {},
   "outputs": [
    {
     "data": {
      "text/plain": [
       "['Arambai', 'Arbalest', 'Archer', 'Ballista Elephant', 'Battering Ram', 'Battle Elephant', 'Berserk', 'Bombard Cannon', 'Boyar', 'Camel', 'Camel Archer', 'Cannon Galleon', 'Capped Ram', 'Caravel', 'Cataphract', 'Cavalier', 'Cavalry Archer', 'Champion', 'Chu Ko Nu', 'Condottiero', 'Conquistador', 'Crossbowman', 'Demolition Raft', 'Demolition Ship', 'Eagle Scout', 'Eagle Warrior', 'Elephant Archer', 'Elite Arambai', 'Elite Ballista Elephant', 'Elite Battle Elephant', 'Elite Berserk', 'Elite Boyar', 'Elite Camel Archer', 'Elite Cannon Galleon', 'Elite Caravel', 'Elite Cataphract', 'Elite Chu Ko Nu', 'Elite Conquistador', 'Elite Eagle Warrior', 'Elite Elephant Archer', 'Elite Gbeto', 'Elite Genitour', 'Elite Genoese Crossbowman', 'Elite Huskarl', 'Elite Imperial Skirmisher', 'Elite Jaguar Warrior', 'Elite Janissary', 'Elite Kamayuk', 'Elite Karambit Warrior', 'Elite Longboat', 'Elite Longbowman', 'Elite Magyar Huszar', 'Elite Mameluke', 'Elite Mangudai', 'Elite Organ Gun', 'Elite Plumed Archer', 'Elite Rattan Archer', 'Elite Samurai', 'Elite Shotel Warrior', 'Elite Skirmisher', 'Elite Tarkan', 'Elite Teutonic Knight', 'Elite Throwing Axeman', 'Elite Turtle Ship', 'Elite War Elephant', 'Elite War Wagon', 'Elite Woad Raider', 'Fast Fire Ship', 'Fire Galley', 'Fire Ship', 'Fishing Ship', 'Galleon', 'Galley', 'Gbeto', 'Genitour', 'Genoese Crossbowman', 'Halberdier', 'Hand Cannoneer', 'Heavy Camel', 'Heavy Cavalry Archer', 'Heavy Demolition Ship', 'Heavy Scorpion', 'Huskarl', 'Hussar', 'Imperial Camel', 'Imperial Skirmisher', 'Jaguar Warrior', 'Janissary', 'Kamayuk', 'Karambit Warrior', 'Knight', 'Light Cavalry', 'Long Swordsman', 'Longboat', 'Longbowman', 'Magyar Huszar', 'Mameluke', 'Man-at-Arms', 'Mangonel', 'Mangudai', 'Militia', 'Missionary', 'Monk', 'Onager', 'Organ Gun', 'Paladin', 'Petard', 'Pikeman', 'Plumed Archer', 'Rattan Archer', 'Samurai', 'Scorpion', 'Scout Cavalry', 'Shotel Warrior', 'Siege Onager', 'Siege Ram', 'Siege Tower', 'Skirmisher', 'Slinger', 'Spearman', 'Tarkan', 'Teutonic Knight', 'Throwing Axeman', 'Trade Cart', 'Trade Cog', 'Transport Ship', 'Trebuchet (packed)', 'Trebuchet (unpacked)', 'Turtle Ship', 'Two-Handed Swordsman', 'Villager', 'War Elephant', 'War Galley', 'War Wagon', 'Woad Raider']"
      ]
     },
     "execution_count": 67,
     "metadata": {},
     "output_type": "execute_result"
    }
   ],
   "source": [
    "\n",
    "super_availability_df.index.tolist()"
   ]
  },
  {
   "cell_type": "code",
   "execution_count": null,
   "metadata": {},
   "outputs": [],
   "source": []
  }
 ],
 "metadata": {
  "kernelspec": {
   "display_name": "Python 3",
   "language": "python",
   "name": "python3"
  },
  "language_info": {
   "codemirror_mode": {
    "name": "ipython",
    "version": 3
   },
   "file_extension": ".py",
   "mimetype": "text/x-python",
   "name": "python",
   "nbconvert_exporter": "python",
   "pygments_lexer": "ipython3",
   "version": "3.6.8"
  }
 },
 "nbformat": 4,
 "nbformat_minor": 2
}
