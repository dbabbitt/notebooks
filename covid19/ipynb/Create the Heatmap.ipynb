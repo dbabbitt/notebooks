{
 "cells": [
  {
   "cell_type": "code",
   "execution_count": null,
   "metadata": {},
   "outputs": [],
   "source": [
    "\n",
    "# https://seaborn.pydata.org/generated/seaborn.heatmap.html"
   ]
  },
  {
   "cell_type": "code",
   "execution_count": null,
   "metadata": {},
   "outputs": [],
   "source": [
    "\n",
    "import sys\n",
    "\n",
    "command_str = '{sys.executable} -m pip install --upgrade seaborn'.format(sys=sys)\n",
    "print(command_str)\n",
    "!{command_str}"
   ]
  },
  {
   "cell_type": "markdown",
   "metadata": {},
   "source": [
    "\n",
    "----"
   ]
  },
  {
   "cell_type": "markdown",
   "metadata": {},
   "source": [
    "\n",
    "# 2 Explanation of different measures\n",
    "\n",
    "[Picture would be nice]\n",
    "\n",
    "**Example 2.1.** Consider three countries, each with 100,000 people and an area of $100km^2$, and think about the population of each square kilometre grid square.\n",
    "\n",
    "1.  *Averagia*  has  a  uniform  spread  of  population,  with  1,000  people  living  in  each  gridsquare.\n",
    "2.  *Builtupia*  has  ten  towns,  each  of  10,000  people  living  in  a  single  square  kilometre, and the remaining land is uninhabited.\n",
    "3.  *Citia* has one city, where 100,000 people live in a single square kilometre, and where the remaining land is uninhabited."
   ]
  },
  {
   "cell_type": "markdown",
   "metadata": {},
   "source": [
    "\n",
    "Heatmap on a 10x10 grid?"
   ]
  },
  {
   "cell_type": "markdown",
   "metadata": {},
   "source": [
    "\n",
    "Perfect situation to use a dot density map\n",
    "Dot distribution map\n",
    "A dot distribution map, or dot density map, is a map type that uses a dot symbol to show the presence of a feature or a phenomenon. Dot maps rely on a visual scatter to show spatial pattern."
   ]
  },
  {
   "cell_type": "markdown",
   "metadata": {},
   "source": [
    "\n",
    "Yes, and randomize+jitter dot placement within the defined cells of the grid."
   ]
  },
  {
   "cell_type": "markdown",
   "metadata": {},
   "source": [
    "\n",
    "Not sure the name of it, I see it specific to world maps, population numbers, the idea is a 3D column off of the map area, get an idea of population per x, compared to the surrounding x’s."
   ]
  },
  {
   "cell_type": "markdown",
   "metadata": {},
   "source": [
    "\n",
    "Same thing here, map out your distro’s, place a column going up based on pop numbers vs surrounding green space."
   ]
  },
  {
   "cell_type": "markdown",
   "metadata": {},
   "source": [
    "\n",
    "Choropleth map with a color scale mapped linearly to population."
   ]
  },
  {
   "cell_type": "markdown",
   "metadata": {},
   "source": [
    "\n",
    "Would be all the same light color cells in the grid\n",
    "Would have 10 moderate color cells and very light remaining cells\n",
    "would have 1 very dark cell and very light remaining cells\n",
    "You could imagine hovering over each part of the map and seeing the population estimate for that subset of the countries"
   ]
  },
  {
   "cell_type": "markdown",
   "metadata": {},
   "source": [
    "\n",
    "## Heatmap on a 10x10 grid?"
   ]
  },
  {
   "cell_type": "code",
   "execution_count": 3,
   "metadata": {},
   "outputs": [],
   "source": [
    "\n",
    "import numpy as np\n",
    "\n",
    "total_pop = 100_000\n",
    "\n",
    "# Averagia has a uniform spread of population, with 1,000 people living in each gridsquare.\n",
    "averagia_people_count = 1_000\n",
    "averagia_town_count = total_pop / averagia_people_count\n",
    "\n",
    "# Builtupia has ten towns, each of 10,000 people living in a single square kilometre, and the remaining land is uninhabited.\n",
    "builtupia_people_count = 10_000\n",
    "builtupia_town_count = total_pop / builtupia_people_count\n",
    "\n",
    "# Citia has one city, where 100,000 people live in a single square kilometre, and where the remaining land is uninhabited.\n",
    "citia_people_count = 100_000\n",
    "citia_town_count = total_pop / citia_people_count\n",
    "\n",
    "gridsquare_count = total_pop / averagia_people_count\n",
    "side_length = int(np.sqrt(gridsquare_count))"
   ]
  },
  {
   "cell_type": "code",
   "execution_count": 4,
   "metadata": {},
   "outputs": [],
   "source": [
    "\n",
    "%run ../../load_magic/storage.py\n",
    "s = Storage()\n",
    "averagia_data = np.rot90(s.load_object('averagia_data'))\n",
    "averagia_annot_array = np.array(['{}K'.format(int(d/averagia_people_count)) for d in averagia_data.flat]).reshape(averagia_data.shape)\n",
    "builtupia_data = np.rot90(s.load_object('builtupia_data'))\n",
    "builtupia_annot_array = np.array(['{}K'.format(int(d/averagia_people_count)) for d in builtupia_data.flat]).reshape(averagia_data.shape)\n",
    "citia_data = np.rot90(s.load_object('citia_data'))\n",
    "citia_annot_array = np.array(['{}K'.format(int(d/averagia_people_count)) for d in citia_data.flat]).reshape(averagia_data.shape)"
   ]
  },
  {
   "cell_type": "code",
   "execution_count": 5,
   "metadata": {},
   "outputs": [],
   "source": [
    "\n",
    "def save_fig_as_various(fig, chart_name):\n",
    "    for dir_name in ['pgf', 'png', 'svg']:\n",
    "        dir_path = os.path.join(s.saves_folder, dir_name)\n",
    "        os.makedirs(name=dir_path, exist_ok=True)\n",
    "        file_path = os.path.join(dir_path, '{}.{}'.format(chart_name, dir_name))\n",
    "        fig.savefig(file_path)"
   ]
  },
  {
   "cell_type": "code",
   "execution_count": 6,
   "metadata": {},
   "outputs": [
    {
     "data": {
      "image/png": "[encoded data removed]",
      "text/plain": [
       "<Figure size 1296x432 with 6 Axes>"
      ]
     },
     "metadata": {
      "needs_background": "light"
     },
     "output_type": "display_data"
    }
   ],
   "source": [
    "\n",
    "%matplotlib inline\n",
    "from matplotlib import pyplot as plt\n",
    "import matplotlib as mpl\n",
    "import seaborn as sns\n",
    "from matplotlib.colors import LogNorm\n",
    "import copy\n",
    "\n",
    "# Create six axes and accesses them through the returned array\n",
    "fig = plt.figure(figsize=(18, 18/3))\n",
    "row_count = 2\n",
    "column_count = 3\n",
    "grid_kws = {'height_ratios': (.9, .05), 'hspace': .3}\n",
    "axes = fig.subplots(row_count, column_count, gridspec_kw=grid_kws)\n",
    "tuple_list = [(averagia_data, averagia_annot_array, 'Averagia'),\n",
    "              (builtupia_data, builtupia_annot_array, 'Builtupia'),\n",
    "              (citia_data, citia_annot_array, 'Citia')]\n",
    "row = 0\n",
    "cbar_kws = {'orientation': 'horizontal'}\n",
    "cmap = copy.copy(mpl.cm.get_cmap('viridis'))\n",
    "cmap.set_bad(cmap(100)[:-1])\n",
    "norm = LogNorm(vmin=1, vmax=total_pop, clip=False)\n",
    "lw = 0.0\n",
    "for col, data_tuple in enumerate(tuple_list):\n",
    "    data = data_tuple[0]\n",
    "    annot_array = data_tuple[1]\n",
    "    title = data_tuple[2]\n",
    "    ax = axes[row, col]\n",
    "    cbar_ax = axes[row+1, col]\n",
    "    ax = sns.heatmap(data, vmin=1, vmax=citia_people_count, center=builtupia_people_count, annot=annot_array,\n",
    "                     fmt='s', linewidths=lw, ax=ax, cbar_ax=cbar_ax, cbar_kws=cbar_kws, cmap=cmap, norm=norm)\n",
    "    Text_tuple = ax.set_title(title)\n",
    "\n",
    "save_fig_as_various(fig, 'example_2_1_heat_map')"
   ]
  },
  {
   "cell_type": "code",
   "execution_count": null,
   "metadata": {},
   "outputs": [],
   "source": []
  }
 ],
 "metadata": {
  "kernelspec": {
   "display_name": "Python 3",
   "language": "python",
   "name": "python3"
  },
  "language_info": {
   "codemirror_mode": {
    "name": "ipython",
    "version": 3
   },
   "file_extension": ".py",
   "mimetype": "text/x-python",
   "name": "python",
   "nbconvert_exporter": "python",
   "pygments_lexer": "ipython3",
   "version": "3.7.7"
  }
 },
 "nbformat": 4,
 "nbformat_minor": 4
}
