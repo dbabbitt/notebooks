{
 "cells": [
  {
   "cell_type": "markdown",
   "metadata": {},
   "source": [
    "\n",
    "In the United States, the flu season is considered October through May. It typically reaches an apex in February. While seasonal influenza (flu) viruses can be detected year-round in the United States, flu viruses are most common during the fall and winter. The exact timing and duration of flu seasons can vary, but influenza activity often begins to increase in October. Most of the time flu activity peaks between December and February, although activity can last as late as May."
   ]
  },
  {
   "cell_type": "code",
   "execution_count": 106,
   "metadata": {},
   "outputs": [
    {
     "name": "stdout",
     "output_type": "stream",
     "text": [
      "C:\\Users\\577342\\AppData\\Local\\Continuum\\anaconda3\\python.exe -m pip install --upgrade svgpathtools\n",
      "Requirement already up-to-date: svgpathtools in c:\\users\\577342\\appdata\\local\\continuum\\anaconda3\\lib\\site-packages (1.3.3)\n",
      "Requirement already satisfied, skipping upgrade: svgwrite in c:\\users\\577342\\appdata\\local\\continuum\\anaconda3\\lib\\site-packages (from svgpathtools) (1.4)\n",
      "Requirement already satisfied, skipping upgrade: numpy in c:\\users\\577342\\appdata\\local\\continuum\\anaconda3\\lib\\site-packages (from svgpathtools) (1.18.2)\n"
     ]
    }
   ],
   "source": [
    "\n",
    "command_str = '{sys.executable} -m pip install --upgrade svgpathtools'.format(sys=sys)\n",
    "print(command_str)\n",
    "!{command_str}"
   ]
  },
  {
   "cell_type": "code",
   "execution_count": 1,
   "metadata": {},
   "outputs": [],
   "source": [
    "\n",
    "import sys\n",
    "\n",
    "# Insert at 1, 0 is the script path (or '' in REPL)\n",
    "sys.path.insert(1, '../py')"
   ]
  },
  {
   "cell_type": "code",
   "execution_count": 2,
   "metadata": {},
   "outputs": [
    {
     "name": "stdout",
     "output_type": "stream",
     "text": [
      "D:\\Documents\\Repositories\\notebooks\\covid19\\ipynb\\Flu Season.ipynb\n",
      "['s.attempt_to_pickle', 's.data_csv_folder', 's.data_folder', 's.encoding_type', 's.load_csv', 's.load_dataframes', 's.load_object', 's.save_dataframes', 's.saves_csv_folder', 's.saves_folder', 's.saves_pickle_folder', 's.store_objects']\n",
      "Pretty printing has been turned OFF\n"
     ]
    },
    {
     "data": {
      "text/plain": [
       "['Config', 'In', 'Out', 'RandomForestClassifier', 'SequenceMatcher', 'Storage', '_', '__', '___', '__builtin__', '__builtins__', '__doc__', '__loader__', '__name__', '__nonzero__', '__package__', '__spec__', '_dh', '_i', '_i1', '_i2', '_ih', '_ii', '_iii', '_oh', 'bs', 'check_4_doubles', 'check_for_typos', 'conjunctify_list', 'copyfile', 'csv', 'encoding', 'example_iterrows', 'exit', 'filepath_regex', 'get_classifier', 'get_column_descriptions', 'get_data_structs_dataframe', 'get_datastructure_prediction', 'get_dir_tree', 'get_git_lfs_track_commands', 'get_importances', 'get_input_sample', 'get_ipython', 'get_max_rsquared_adj', 'get_module_version', 'get_notebook_path', 'get_page_tables', 'get_specific_gitignore_files', 'get_struct_name', 'humanize_bytes', 'io', 'ipykernel', 'json', 'jupyter_config_dir', 'math', 'notebook_path', 'notebookapp', 'nx', 'os', 'pd', 'pickle', 'plt', 'preprocess_data', 'print_all_files_ending_starting_with', 'print_all_files_ending_with', 'print_all_files_starting_with', 'quit', 're', 'remove_empty_folders', 's', 'scraping_utils', 'similar', 'sm', 'sns', 'stats', 'subprocess', 'sys', 'time', 'url_regex', 'urllib', 'wikipedia']"
      ]
     },
     "execution_count": 2,
     "metadata": {},
     "output_type": "execute_result"
    }
   ],
   "source": [
    "\n",
    "%run ../../load_magic/storage.py\n",
    "%run ../../load_magic/paths.py\n",
    "%run ../../load_magic/lists.py\n",
    "%run ../../load_magic/environment.py\n",
    "%run ../../load_magic/dataframes.py\n",
    "\n",
    "import scraping_utils\n",
    "wikipedia = scraping_utils.wikipedia\n",
    "\n",
    "from bs4 import BeautifulSoup as bs\n",
    "import networkx as nx\n",
    "import re\n",
    "import urllib.request\n",
    "\n",
    "notebook_path = get_notebook_path()\n",
    "print(notebook_path)\n",
    "s = Storage()\n",
    "#pandemic_df = s.load_object('pandemic_df')\n",
    "print(['s.{}'.format(fn) for fn in dir(s) if not fn.startswith('_')])\n",
    "\n",
    "%pprint\n",
    "dir()"
   ]
  },
  {
   "cell_type": "code",
   "execution_count": 73,
   "metadata": {},
   "outputs": [],
   "source": [
    "\n",
    "from datetime import date\n",
    "\n",
    "usa_df = s.load_object('usa_df')\n",
    "qr_column = 'Deaths_New'\n",
    "qe_column = 'doy'\n",
    "columns_list = [qr_column, 'Date']\n",
    "df = usa_df[columns_list].dropna(axis='index', how='any')\n",
    "df[qe_column] = df.Date.map(lambda ts: ts.dayofyear)\n",
    "df.Date = df.Date.map(lambda ts: date(ts.year, ts.month, ts.day))\n",
    "df['woy'] = df.Date.map(lambda d: d.isocalendar()[1])\n",
    "df.set_index('Date', drop=True, inplace=True)\n",
    "df.Deaths_New = df.Deaths_New.fillna(0)"
   ]
  },
  {
   "cell_type": "code",
   "execution_count": 74,
   "metadata": {},
   "outputs": [
    {
     "name": "stdout",
     "output_type": "stream",
     "text": [
      "['df.index._assert_can_do_op', 'df.index._assert_can_do_setop', 'df.index._assert_take_fillable', 'df.index.insert', 'df.index.to_series']\n"
     ]
    }
   ],
   "source": [
    "\n",
    "print(['df.index.{}'.format(fn) for fn in dir(df.index) if 'ser' in fn.lower()])"
   ]
  },
  {
   "cell_type": "code",
   "execution_count": 75,
   "metadata": {},
   "outputs": [
    {
     "data": {
      "text/html": [
       "<div>\n",
       "<style scoped>\n",
       "    .dataframe tbody tr th:only-of-type {\n",
       "        vertical-align: middle;\n",
       "    }\n",
       "\n",
       "    .dataframe tbody tr th {\n",
       "        vertical-align: top;\n",
       "    }\n",
       "\n",
       "    .dataframe thead th {\n",
       "        text-align: right;\n",
       "    }\n",
       "</style>\n",
       "<table border=\"1\" class=\"dataframe\">\n",
       "  <thead>\n",
       "    <tr style=\"text-align: right;\">\n",
       "      <th></th>\n",
       "      <th>Deaths_New</th>\n",
       "      <th>doy</th>\n",
       "      <th>woy</th>\n",
       "      <th>rolling_sum</th>\n",
       "    </tr>\n",
       "    <tr>\n",
       "      <th>Date</th>\n",
       "      <th></th>\n",
       "      <th></th>\n",
       "      <th></th>\n",
       "      <th></th>\n",
       "    </tr>\n",
       "  </thead>\n",
       "  <tbody>\n",
       "    <tr>\n",
       "      <th>2020-02-29</th>\n",
       "      <td>1.0</td>\n",
       "      <td>60</td>\n",
       "      <td>9</td>\n",
       "      <td>NaN</td>\n",
       "    </tr>\n",
       "    <tr>\n",
       "      <th>2020-03-01</th>\n",
       "      <td>1.0</td>\n",
       "      <td>61</td>\n",
       "      <td>9</td>\n",
       "      <td>NaN</td>\n",
       "    </tr>\n",
       "    <tr>\n",
       "      <th>2020-03-02</th>\n",
       "      <td>4.0</td>\n",
       "      <td>62</td>\n",
       "      <td>10</td>\n",
       "      <td>NaN</td>\n",
       "    </tr>\n",
       "    <tr>\n",
       "      <th>2020-03-03</th>\n",
       "      <td>3.0</td>\n",
       "      <td>63</td>\n",
       "      <td>10</td>\n",
       "      <td>NaN</td>\n",
       "    </tr>\n",
       "    <tr>\n",
       "      <th>2020-03-04</th>\n",
       "      <td>2.0</td>\n",
       "      <td>64</td>\n",
       "      <td>10</td>\n",
       "      <td>NaN</td>\n",
       "    </tr>\n",
       "    <tr>\n",
       "      <th>2020-03-06</th>\n",
       "      <td>3.0</td>\n",
       "      <td>66</td>\n",
       "      <td>10</td>\n",
       "      <td>NaN</td>\n",
       "    </tr>\n",
       "    <tr>\n",
       "      <th>2020-03-07</th>\n",
       "      <td>5.0</td>\n",
       "      <td>67</td>\n",
       "      <td>10</td>\n",
       "      <td>19.0</td>\n",
       "    </tr>\n",
       "    <tr>\n",
       "      <th>2020-03-08</th>\n",
       "      <td>2.0</td>\n",
       "      <td>68</td>\n",
       "      <td>10</td>\n",
       "      <td>20.0</td>\n",
       "    </tr>\n",
       "    <tr>\n",
       "      <th>2020-03-09</th>\n",
       "      <td>5.0</td>\n",
       "      <td>69</td>\n",
       "      <td>11</td>\n",
       "      <td>24.0</td>\n",
       "    </tr>\n",
       "    <tr>\n",
       "      <th>2020-03-10</th>\n",
       "      <td>5.0</td>\n",
       "      <td>70</td>\n",
       "      <td>11</td>\n",
       "      <td>25.0</td>\n",
       "    </tr>\n",
       "    <tr>\n",
       "      <th>2020-03-11</th>\n",
       "      <td>6.0</td>\n",
       "      <td>71</td>\n",
       "      <td>11</td>\n",
       "      <td>28.0</td>\n",
       "    </tr>\n",
       "    <tr>\n",
       "      <th>2020-03-12</th>\n",
       "      <td>4.0</td>\n",
       "      <td>72</td>\n",
       "      <td>11</td>\n",
       "      <td>30.0</td>\n",
       "    </tr>\n",
       "    <tr>\n",
       "      <th>2020-03-13</th>\n",
       "      <td>8.0</td>\n",
       "      <td>73</td>\n",
       "      <td>11</td>\n",
       "      <td>35.0</td>\n",
       "    </tr>\n",
       "    <tr>\n",
       "      <th>2020-03-14</th>\n",
       "      <td>7.0</td>\n",
       "      <td>74</td>\n",
       "      <td>11</td>\n",
       "      <td>37.0</td>\n",
       "    </tr>\n",
       "    <tr>\n",
       "      <th>2020-03-15</th>\n",
       "      <td>6.0</td>\n",
       "      <td>75</td>\n",
       "      <td>11</td>\n",
       "      <td>41.0</td>\n",
       "    </tr>\n",
       "    <tr>\n",
       "      <th>2020-03-16</th>\n",
       "      <td>14.0</td>\n",
       "      <td>76</td>\n",
       "      <td>12</td>\n",
       "      <td>50.0</td>\n",
       "    </tr>\n",
       "    <tr>\n",
       "      <th>2020-03-17</th>\n",
       "      <td>21.0</td>\n",
       "      <td>77</td>\n",
       "      <td>12</td>\n",
       "      <td>66.0</td>\n",
       "    </tr>\n",
       "    <tr>\n",
       "      <th>2020-03-18</th>\n",
       "      <td>26.0</td>\n",
       "      <td>78</td>\n",
       "      <td>12</td>\n",
       "      <td>86.0</td>\n",
       "    </tr>\n",
       "    <tr>\n",
       "      <th>2020-03-19</th>\n",
       "      <td>52.0</td>\n",
       "      <td>79</td>\n",
       "      <td>12</td>\n",
       "      <td>134.0</td>\n",
       "    </tr>\n",
       "    <tr>\n",
       "      <th>2020-03-20</th>\n",
       "      <td>55.0</td>\n",
       "      <td>80</td>\n",
       "      <td>12</td>\n",
       "      <td>181.0</td>\n",
       "    </tr>\n",
       "    <tr>\n",
       "      <th>2020-03-21</th>\n",
       "      <td>68.0</td>\n",
       "      <td>81</td>\n",
       "      <td>12</td>\n",
       "      <td>242.0</td>\n",
       "    </tr>\n",
       "    <tr>\n",
       "      <th>2020-03-22</th>\n",
       "      <td>110.0</td>\n",
       "      <td>82</td>\n",
       "      <td>12</td>\n",
       "      <td>346.0</td>\n",
       "    </tr>\n",
       "    <tr>\n",
       "      <th>2020-03-23</th>\n",
       "      <td>111.0</td>\n",
       "      <td>83</td>\n",
       "      <td>13</td>\n",
       "      <td>443.0</td>\n",
       "    </tr>\n",
       "    <tr>\n",
       "      <th>2020-03-24</th>\n",
       "      <td>162.0</td>\n",
       "      <td>84</td>\n",
       "      <td>13</td>\n",
       "      <td>584.0</td>\n",
       "    </tr>\n",
       "    <tr>\n",
       "      <th>2020-03-25</th>\n",
       "      <td>225.0</td>\n",
       "      <td>85</td>\n",
       "      <td>13</td>\n",
       "      <td>783.0</td>\n",
       "    </tr>\n",
       "    <tr>\n",
       "      <th>2020-03-26</th>\n",
       "      <td>253.0</td>\n",
       "      <td>86</td>\n",
       "      <td>13</td>\n",
       "      <td>984.0</td>\n",
       "    </tr>\n",
       "    <tr>\n",
       "      <th>2020-03-27</th>\n",
       "      <td>433.0</td>\n",
       "      <td>87</td>\n",
       "      <td>13</td>\n",
       "      <td>1362.0</td>\n",
       "    </tr>\n",
       "    <tr>\n",
       "      <th>2020-03-28</th>\n",
       "      <td>447.0</td>\n",
       "      <td>88</td>\n",
       "      <td>13</td>\n",
       "      <td>1741.0</td>\n",
       "    </tr>\n",
       "    <tr>\n",
       "      <th>2020-03-29</th>\n",
       "      <td>392.0</td>\n",
       "      <td>89</td>\n",
       "      <td>13</td>\n",
       "      <td>2023.0</td>\n",
       "    </tr>\n",
       "    <tr>\n",
       "      <th>2020-03-30</th>\n",
       "      <td>554.0</td>\n",
       "      <td>90</td>\n",
       "      <td>14</td>\n",
       "      <td>2466.0</td>\n",
       "    </tr>\n",
       "    <tr>\n",
       "      <th>2020-03-31</th>\n",
       "      <td>821.0</td>\n",
       "      <td>91</td>\n",
       "      <td>14</td>\n",
       "      <td>3125.0</td>\n",
       "    </tr>\n",
       "    <tr>\n",
       "      <th>2020-04-01</th>\n",
       "      <td>940.0</td>\n",
       "      <td>92</td>\n",
       "      <td>14</td>\n",
       "      <td>3840.0</td>\n",
       "    </tr>\n",
       "    <tr>\n",
       "      <th>2020-04-02</th>\n",
       "      <td>1075.0</td>\n",
       "      <td>93</td>\n",
       "      <td>14</td>\n",
       "      <td>4662.0</td>\n",
       "    </tr>\n",
       "    <tr>\n",
       "      <th>2020-04-03</th>\n",
       "      <td>1186.0</td>\n",
       "      <td>94</td>\n",
       "      <td>14</td>\n",
       "      <td>5415.0</td>\n",
       "    </tr>\n",
       "    <tr>\n",
       "      <th>2020-04-04</th>\n",
       "      <td>1352.0</td>\n",
       "      <td>95</td>\n",
       "      <td>14</td>\n",
       "      <td>6320.0</td>\n",
       "    </tr>\n",
       "    <tr>\n",
       "      <th>2020-04-05</th>\n",
       "      <td>1175.0</td>\n",
       "      <td>96</td>\n",
       "      <td>14</td>\n",
       "      <td>7103.0</td>\n",
       "    </tr>\n",
       "    <tr>\n",
       "      <th>2020-04-06</th>\n",
       "      <td>1212.0</td>\n",
       "      <td>97</td>\n",
       "      <td>15</td>\n",
       "      <td>7761.0</td>\n",
       "    </tr>\n",
       "    <tr>\n",
       "      <th>2020-04-07</th>\n",
       "      <td>1928.0</td>\n",
       "      <td>98</td>\n",
       "      <td>15</td>\n",
       "      <td>8868.0</td>\n",
       "    </tr>\n",
       "  </tbody>\n",
       "</table>\n",
       "</div>"
      ],
      "text/plain": [
       "            Deaths_New  doy  woy  rolling_sum\n",
       "Date                                         \n",
       "2020-02-29         1.0   60    9          NaN\n",
       "2020-03-01         1.0   61    9          NaN\n",
       "2020-03-02         4.0   62   10          NaN\n",
       "2020-03-03         3.0   63   10          NaN\n",
       "2020-03-04         2.0   64   10          NaN\n",
       "2020-03-06         3.0   66   10          NaN\n",
       "2020-03-07         5.0   67   10         19.0\n",
       "2020-03-08         2.0   68   10         20.0\n",
       "2020-03-09         5.0   69   11         24.0\n",
       "2020-03-10         5.0   70   11         25.0\n",
       "2020-03-11         6.0   71   11         28.0\n",
       "2020-03-12         4.0   72   11         30.0\n",
       "2020-03-13         8.0   73   11         35.0\n",
       "2020-03-14         7.0   74   11         37.0\n",
       "2020-03-15         6.0   75   11         41.0\n",
       "2020-03-16        14.0   76   12         50.0\n",
       "2020-03-17        21.0   77   12         66.0\n",
       "2020-03-18        26.0   78   12         86.0\n",
       "2020-03-19        52.0   79   12        134.0\n",
       "2020-03-20        55.0   80   12        181.0\n",
       "2020-03-21        68.0   81   12        242.0\n",
       "2020-03-22       110.0   82   12        346.0\n",
       "2020-03-23       111.0   83   13        443.0\n",
       "2020-03-24       162.0   84   13        584.0\n",
       "2020-03-25       225.0   85   13        783.0\n",
       "2020-03-26       253.0   86   13        984.0\n",
       "2020-03-27       433.0   87   13       1362.0\n",
       "2020-03-28       447.0   88   13       1741.0\n",
       "2020-03-29       392.0   89   13       2023.0\n",
       "2020-03-30       554.0   90   14       2466.0\n",
       "2020-03-31       821.0   91   14       3125.0\n",
       "2020-04-01       940.0   92   14       3840.0\n",
       "2020-04-02      1075.0   93   14       4662.0\n",
       "2020-04-03      1186.0   94   14       5415.0\n",
       "2020-04-04      1352.0   95   14       6320.0\n",
       "2020-04-05      1175.0   96   14       7103.0\n",
       "2020-04-06      1212.0   97   15       7761.0\n",
       "2020-04-07      1928.0   98   15       8868.0"
      ]
     },
     "execution_count": 75,
     "metadata": {},
     "output_type": "execute_result"
    }
   ],
   "source": [
    "\n",
    "df['rolling_sum'] = df.Deaths_New.rolling(7).sum()\n",
    "#rolling_df['woy'] = rolling_df.index.map(lambda d: d.isocalendar()[1]).values\n",
    "df"
   ]
  },
  {
   "cell_type": "code",
   "execution_count": 39,
   "metadata": {},
   "outputs": [
    {
     "data": {
      "image/png": "[encoded data removed]",
      "text/plain": [
       "<Figure size 864x576 with 1 Axes>"
      ]
     },
     "metadata": {
      "needs_background": "light"
     },
     "output_type": "display_data"
    }
   ],
   "source": [
    "\n",
    "fig = plt.figure(figsize=(12, 8))\n",
    "ax = fig.add_subplot(111)\n",
    "ylabel_text = plt.ylabel('New Deaths (Log Scale)')\n",
    "xlabel_text = plt.xlabel('Date')\n",
    "suptitle_text = plt.suptitle(t='Rolling 7-day Accumulation of New Deaths', x=0.5, y=0.91)\n",
    "ax.set_yscale('log')\n",
    "AxesSubplot_obj = df.Deaths_New.rolling(7).sum().plot.line(rot=45, ax=ax)"
   ]
  },
  {
   "cell_type": "code",
   "execution_count": 7,
   "metadata": {},
   "outputs": [
    {
     "data": {
      "image/png": "[encoded data removed]",
      "text/plain": [
       "<Figure size 432x288 with 1 Axes>"
      ]
     },
     "metadata": {
      "needs_background": "light"
     },
     "output_type": "display_data"
    }
   ],
   "source": [
    "\n",
    "AxesSubplot_obj = df.groupby('woy').Deaths_New.sum().plot.line()"
   ]
  },
  {
   "cell_type": "code",
   "execution_count": 101,
   "metadata": {},
   "outputs": [
    {
     "data": {
      "text/plain": [
       "woy\n",
       "9        2.0\n",
       "10      19.0\n",
       "11      41.0\n",
       "12     346.0\n",
       "13    2023.0\n",
       "14    7103.0\n",
       "Name: Deaths_New, dtype: float64"
      ]
     },
     "execution_count": 101,
     "metadata": {},
     "output_type": "execute_result"
    }
   ],
   "source": [
    "\n",
    "df.groupby('woy').Deaths_New.sum()"
   ]
  },
  {
   "cell_type": "code",
   "execution_count": 103,
   "metadata": {},
   "outputs": [
    {
     "data": {
      "image/png": "[encoded data removed]",
      "text/plain": [
       "<Figure size 864x576 with 1 Axes>"
      ]
     },
     "metadata": {
      "needs_background": "light"
     },
     "output_type": "display_data"
    }
   ],
   "source": [
    "\n",
    "# https://www.cdc.gov/flu/weekly/index.htm\n",
    "# https://www.cdc.gov/flu/weekly/weeklyarchives2019-2020/data/NCHSData13.csv\n",
    "flu_deaths_df = s.load_csv('NCHSData13')\n",
    "year_list = flu_deaths_df.Year.unique().tolist()\n",
    "flu_deaths_df.set_index('Week', drop=True, inplace=True)\n",
    "fig = plt.figure(figsize=(12, 8))\n",
    "ax = fig.add_subplot(111)\n",
    "suptitle_text = plt.suptitle(t='Weekly Seasonal Flu Deaths vs COVID-19 Deaths in the US', x=0.5, y=0.91)\n",
    "for year in year_list:\n",
    "    mask_series = (flu_deaths_df.Year == year)\n",
    "    AxesSubplot_obj = flu_deaths_df[mask_series]['Influenza Deaths'].plot.line(ax=ax, label=year)\n",
    "AxesSubplot_obj = df.groupby('woy').Deaths_New.sum()[:-1].plot.line(ax=ax, label='covid19')\n",
    "legend_obj = plt.legend()\n",
    "ylabel_text = plt.ylabel('New Deaths')\n",
    "xlabel_text = plt.xlabel('Week of Year')"
   ]
  },
  {
   "cell_type": "code",
   "execution_count": 10,
   "metadata": {},
   "outputs": [
    {
     "data": {
      "text/plain": [
       "Index(['Year', 'Week', 'Percent of Deaths Due to Pneumonia and Influenza',\n",
       "       'Expected', 'Threshold', 'All Deaths', 'Pneumonia Deaths',\n",
       "       'Influenza Deaths'],\n",
       "      dtype='object')"
      ]
     },
     "execution_count": 10,
     "metadata": {},
     "output_type": "execute_result"
    }
   ],
   "source": [
    "\n",
    "flu_deaths_df.columns"
   ]
  },
  {
   "cell_type": "code",
   "execution_count": 57,
   "metadata": {},
   "outputs": [],
   "source": [
    "\n",
    "def get_doubling_days(count_yesterday, count_today):\n",
    "    growth_rate = (count_today-count_yesterday)/count_today\n",
    "    doubling_time = math.log(2)/growth_rate\n",
    "    \n",
    "    return doubling_time"
   ]
  },
  {
   "cell_type": "code",
   "execution_count": 62,
   "metadata": {},
   "outputs": [
    {
     "data": {
      "text/plain": [
       "1.866463357708903"
      ]
     },
     "execution_count": 62,
     "metadata": {},
     "output_type": "execute_result"
    }
   ],
   "source": [
    "\n",
    "count_today = usa_df.loc[52, 'Deaths_New']\n",
    "count_yesterday = usa_df.loc[51, 'Deaths_New']\n",
    "get_doubling_days(count_yesterday, count_today)"
   ]
  },
  {
   "cell_type": "code",
   "execution_count": 65,
   "metadata": {},
   "outputs": [
    {
     "data": {
      "text/plain": [
       "15.335008702575136"
      ]
     },
     "execution_count": 65,
     "metadata": {},
     "output_type": "execute_result"
    }
   ],
   "source": [
    "\n",
    "count_today = usa_df.loc[52, 'Confirmed_New']\n",
    "count_yesterday = usa_df.loc[51, 'Confirmed_New']\n",
    "get_doubling_days(count_yesterday, count_today)"
   ]
  },
  {
   "cell_type": "code",
   "execution_count": 89,
   "metadata": {},
   "outputs": [
    {
     "data": {
      "text/plain": [
       "datetime.date(2020, 2, 29)"
      ]
     },
     "execution_count": 89,
     "metadata": {},
     "output_type": "execute_result"
    }
   ],
   "source": [
    "\n",
    "df.iloc[0].name"
   ]
  },
  {
   "cell_type": "code",
   "execution_count": 99,
   "metadata": {},
   "outputs": [
    {
     "data": {
      "image/png": "[encoded data removed]",
      "text/plain": [
       "<Figure size 432x288 with 1 Axes>"
      ]
     },
     "metadata": {
      "needs_background": "light"
     },
     "output_type": "display_data"
    }
   ],
   "source": [
    "\n",
    "doubling_days_list = []\n",
    "date_list = []\n",
    "for i in range(df.shape[0]):\n",
    "    try:\n",
    "        date_today = df.iloc[i].name\n",
    "        date_list.append(date_today)\n",
    "        count_today = df.iloc[i]['rolling_sum']\n",
    "        count_yesterday = df.iloc[i-1]['rolling_sum']\n",
    "        doubling_days = get_doubling_days(count_yesterday, count_today)\n",
    "        doubling_days_list.append(doubling_days)\n",
    "    except Exception as e:\n",
    "        pass\n",
    "doubling_df = pd.DataFrame(doubling_days_list, index=date_list).dropna(axis='index', how='any')\n",
    "doubling_df.columns = ['Doubles in how many days']\n",
    "AxesSubplot_obj = doubling_df.plot.line(rot=45, grid=True)"
   ]
  },
  {
   "cell_type": "code",
   "execution_count": 107,
   "metadata": {},
   "outputs": [],
   "source": [
    "\n",
    "# Created Path object using a d-string\n",
    "from svgpathtools import parse_path\n",
    "import xml.etree.ElementTree as et\n",
    "\n",
    "file_path = os.path.join(s.data_folder, 'svg', 'hiv_deaths.svg')\n",
    "root = et.parse(file_path).getroot()\n",
    "for g_elem in root:\n",
    "    id = g_elem.attrib['id']\n",
    "    if (id == 'layer1'):\n",
    "        for path_elem in g_elem:\n",
    "            outline_d = path_elem.attrib['d']\n",
    "            path_obj = parse_path(outline_d)\n",
    "            break\n",
    "        break"
   ]
  },
  {
   "cell_type": "code",
   "execution_count": 132,
   "metadata": {},
   "outputs": [
    {
     "data": {
      "image/png": "[encoded data removed]",
      "text/plain": [
       "<Figure size 432x288 with 1 Axes>"
      ]
     },
     "metadata": {
      "needs_background": "light"
     },
     "output_type": "display_data"
    }
   ],
   "source": [
    "\n",
    "line_list = []\n",
    "for line_obj in path_obj:\n",
    "    line_list.append(line_obj.length())\n",
    "length_series = pd.Series(line_list)\n",
    "AxesSubplot_obj = length_series.plot.line()"
   ]
  },
  {
   "cell_type": "code",
   "execution_count": 151,
   "metadata": {},
   "outputs": [
    {
     "data": {
      "image/png": "[encoded data removed]",
      "text/plain": [
       "<Figure size 432x288 with 1 Axes>"
      ]
     },
     "metadata": {
      "needs_background": "light"
     },
     "output_type": "display_data"
    }
   ],
   "source": [
    "\n",
    "rolling_max = length_series.rolling(5).max()\n",
    "rolling_max.drop_duplicates(keep='last', inplace=True)\n",
    "rolling_max = rolling_max.reset_index(level=0, inplace=False, drop=True)\n",
    "AxesSubplot_obj = rolling_max.plot.line()"
   ]
  },
  {
   "cell_type": "code",
   "execution_count": 213,
   "metadata": {},
   "outputs": [],
   "source": [
    "\n",
    "from datetime import date\n",
    "\n",
    "base = 200 - rolling_max.iloc[8]\n",
    "hiv_deaths_series = rolling_max.map(lambda x: x + base)\n",
    "hiv_deaths_series.index = hiv_deaths_series.index.map(lambda x: date(year=x+1984, month=1, day=1))"
   ]
  },
  {
   "cell_type": "code",
   "execution_count": 214,
   "metadata": {},
   "outputs": [],
   "source": [
    "\n",
    "import numpy as np\n",
    "\n",
    "for idx in range(1, len(hiv_deaths_series.index)-1):\n",
    "    for ord in np.linspace(hiv_deaths_series.index[idx].toordinal(), hiv_deaths_series.index[idx+1].toordinal(), 52)[1:-1]:\n",
    "        hiv_deaths_series.loc[date_obj.fromordinal(int(ord))] = np.nan\n",
    "hiv_deaths_series = hiv_deaths_series.sort_index().interpolate(axis='index', limit_area='inside', inplace=False).dropna(axis='index', how='any')"
   ]
  },
  {
   "cell_type": "code",
   "execution_count": 217,
   "metadata": {},
   "outputs": [
    {
     "data": {
      "text/plain": [
       "1985-01-01    179\n",
       "1985-01-08    179\n",
       "1985-01-15    179\n",
       "1985-01-22    179\n",
       "1985-01-29    179\n",
       "             ... \n",
       "2011-12-03    245\n",
       "2011-12-10    245\n",
       "2011-12-17    245\n",
       "2011-12-24    245\n",
       "2012-01-01    245\n",
       "Length: 1378, dtype: int64"
      ]
     },
     "execution_count": 217,
     "metadata": {},
     "output_type": "execute_result"
    }
   ],
   "source": [
    "\n",
    "hiv_deaths_series"
   ]
  },
  {
   "cell_type": "code",
   "execution_count": 221,
   "metadata": {},
   "outputs": [
    {
     "data": {
      "image/png": "[encoded data removed]",
      "text/plain": [
       "<Figure size 432x288 with 1 Axes>"
      ]
     },
     "metadata": {
      "needs_background": "light"
     },
     "output_type": "display_data"
    }
   ],
   "source": [
    "\n",
    "AxesSubplot_obj = hiv_deaths_series.diff().rolling(52).mean().plot.line()"
   ]
  },
  {
   "cell_type": "code",
   "execution_count": 117,
   "metadata": {},
   "outputs": [
    {
     "name": "stdout",
     "output_type": "stream",
     "text": [
      "['first_line.bbox', 'first_line.bpoints', 'first_line.cropped', 'first_line.curvature', 'first_line.derivative', 'first_line.end', 'first_line.ilength', 'first_line.intersect', 'first_line.joins_smoothly_with', 'first_line.length', 'first_line.normal', 'first_line.point', 'first_line.poly', 'first_line.radialrange', 'first_line.reversed', 'first_line.rotated', 'first_line.scaled', 'first_line.split', 'first_line.start', 'first_line.translated', 'first_line.unit_tangent']\n",
      "0.002999999999985903\n",
      "['start_point.conjugate', 'start_point.imag', 'start_point.real']\n"
     ]
    },
    {
     "data": {
      "text/plain": [
       "\u001b[1;31mSignature:\u001b[0m \u001b[0mfirst_line\u001b[0m\u001b[1;33m.\u001b[0m\u001b[0milength\u001b[0m\u001b[1;33m(\u001b[0m\u001b[0ms\u001b[0m\u001b[1;33m,\u001b[0m \u001b[0ms_tol\u001b[0m\u001b[1;33m=\u001b[0m\u001b[1;36m1e-12\u001b[0m\u001b[1;33m,\u001b[0m \u001b[0mmaxits\u001b[0m\u001b[1;33m=\u001b[0m\u001b[1;36m10000\u001b[0m\u001b[1;33m,\u001b[0m \u001b[0merror\u001b[0m\u001b[1;33m=\u001b[0m\u001b[1;36m1e-12\u001b[0m\u001b[1;33m,\u001b[0m \u001b[0mmin_depth\u001b[0m\u001b[1;33m=\u001b[0m\u001b[1;36m5\u001b[0m\u001b[1;33m)\u001b[0m\u001b[1;33m\u001b[0m\u001b[1;33m\u001b[0m\u001b[0m\n",
       "\u001b[1;31mDocstring:\u001b[0m\n",
       "Returns a float, t, such that self.length(0, t) is approximately s.\n",
       "See the inv_arclength() docstring for more details.\n",
       "\u001b[1;31mFile:\u001b[0m      c:\\users\\577342\\appdata\\local\\continuum\\anaconda3\\lib\\site-packages\\svgpathtools\\path.py\n",
       "\u001b[1;31mType:\u001b[0m      method\n"
      ]
     },
     "metadata": {},
     "output_type": "display_data"
    }
   ],
   "source": [
    "\n",
    "first_line = path_obj[0]\n",
    "print(['first_line.{}'.format(fn) for fn in dir(first_line) if not fn.startswith('_')])\n",
    "print(first_line.length())\n",
    "start_point = first_line.start\n",
    "print(['start_point.{}'.format(fn) for fn in dir(start_point) if not fn.startswith('_')])\n",
    "start_point.imag\n",
    "first_line.ilength?"
   ]
  },
  {
   "cell_type": "code",
   "execution_count": 108,
   "metadata": {},
   "outputs": [
    {
     "data": {
      "text/plain": [
       "Path(Line(start=(15.381273+285.01639j), end=(15.381273+285.01339j)),\n",
       "     Line(start=(15.381273+285.01339j), end=(17.464863+285.01339j)),\n",
       "     Line(start=(17.464863+285.01339j), end=(17.464863+285.01639j)),\n",
       "     Line(start=(17.464863+285.01639j), end=(15.381273+285.01639j)),\n",
       "     Line(start=(15.381273+285.01639j), end=(20.937523+285.01639j)),\n",
       "     Line(start=(20.937523+285.01639j), end=(20.937523+284.99949j)),\n",
       "     Line(start=(20.937523+284.99949j), end=(23.021113+284.99949j)),\n",
       "     Line(start=(23.021113+284.99949j), end=(23.021113+285.01639j)),\n",
       "     Line(start=(23.021113+285.01639j), end=(20.937523+285.01639j)),\n",
       "     Line(start=(20.937523+285.01639j), end=(26.493772999999997+285.01639j)),\n",
       "     Line(start=(26.493772999999997+285.01639j), end=(26.493772999999997+284.95019j)),\n",
       "     Line(start=(26.493772999999997+284.95019j), end=(28.577363+284.95019j)),\n",
       "     Line(start=(28.577363+284.95019j), end=(28.577363+285.01639j)),\n",
       "     Line(start=(28.577363+285.01639j), end=(26.493772999999997+285.01639j)),\n",
       "     Line(start=(26.493772999999997+285.01639j), end=(32.050022999999996+285.01639j)),\n",
       "     Line(start=(32.050022999999996+285.01639j), end=(32.050022999999996+284.79022j)),\n",
       "     Line(start=(32.050022999999996+284.79022j), end=(34.133613+284.79022j)),\n",
       "     Line(start=(34.133613+284.79022j), end=(34.133613+285.01639j)),\n",
       "     Line(start=(34.133613+285.01639j), end=(32.050022999999996+285.01639j)),\n",
       "     Line(start=(32.050022999999996+285.01639j), end=(37.606272999999995+285.01639j)),\n",
       "     Line(start=(37.606272999999995+285.01639j), end=(37.606272999999995+284.41705j)),\n",
       "     Line(start=(37.606272999999995+284.41705j), end=(39.689862999999995+284.41705j)),\n",
       "     Line(start=(39.689862999999995+284.41705j), end=(39.689862999999995+285.01639j)),\n",
       "     Line(start=(39.689862999999995+285.01639j), end=(37.606272999999995+285.01639j)),\n",
       "     Line(start=(37.606272999999995+285.01639j), end=(43.16251799999999+285.01639j)),\n",
       "     Line(start=(43.16251799999999+285.01639j), end=(43.16251799999999+283.67664j)),\n",
       "     Line(start=(43.16251799999999+283.67664j), end=(45.24611199999999+283.67664j)),\n",
       "     Line(start=(45.24611199999999+283.67664j), end=(45.24611199999999+285.01639j)),\n",
       "     Line(start=(45.24611199999999+285.01639j), end=(43.16251799999999+285.01639j)),\n",
       "     Line(start=(43.16251799999999+285.01639j), end=(48.71876799999999+285.01639j)),\n",
       "     Line(start=(48.71876799999999+285.01639j), end=(48.71876799999999+282.38728j)),\n",
       "     Line(start=(48.71876799999999+282.38728j), end=(50.80236199999999+282.38728j)),\n",
       "     Line(start=(50.80236199999999+282.38728j), end=(50.80236199999999+285.01639j)),\n",
       "     Line(start=(50.80236199999999+285.01639j), end=(48.71876799999999+285.01639j)),\n",
       "     Line(start=(48.71876799999999+285.01639j), end=(54.27501799999999+285.01639j)),\n",
       "     Line(start=(54.27501799999999+285.01639j), end=(54.27501799999999+280.6423j)),\n",
       "     Line(start=(54.27501799999999+280.6423j), end=(56.35861199999999+280.6423j)),\n",
       "     Line(start=(56.35861199999999+280.6423j), end=(56.35861199999999+285.01639j)),\n",
       "     Line(start=(56.35861199999999+285.01639j), end=(54.27501799999999+285.01639j)),\n",
       "     Line(start=(54.27501799999999+285.01639j), end=(59.83126799999999+285.01639j)),\n",
       "     Line(start=(59.83126799999999+285.01639j), end=(59.83126799999999+278.39397j)),\n",
       "     Line(start=(59.83126799999999+278.39397j), end=(61.914861999999985+278.39397j)),\n",
       "     Line(start=(61.914861999999985+278.39397j), end=(61.914861999999985+285.01639j)),\n",
       "     Line(start=(61.914861999999985+285.01639j), end=(59.83126799999999+285.01639j)),\n",
       "     Line(start=(59.83126799999999+285.01639j), end=(65.38751799999999+285.01639j)),\n",
       "     Line(start=(65.38751799999999+285.01639j), end=(65.38751799999999+275.42493j)),\n",
       "     Line(start=(65.38751799999999+275.42493j), end=(67.47111199999999+275.42493j)),\n",
       "     Line(start=(67.47111199999999+275.42493j), end=(67.47111199999999+285.01639j)),\n",
       "     Line(start=(67.47111199999999+285.01639j), end=(65.38751799999999+285.01639j)),\n",
       "     Line(start=(65.38751799999999+285.01639j), end=(70.94376799999999+285.01639j)),\n",
       "     Line(start=(70.94376799999999+285.01639j), end=(70.94376799999999+272.05562j)),\n",
       "     Line(start=(70.94376799999999+272.05562j), end=(73.027362+272.05562j)),\n",
       "     Line(start=(73.027362+272.05562j), end=(73.027362+285.01639j)),\n",
       "     Line(start=(73.027362+285.01639j), end=(70.94376799999999+285.01639j)),\n",
       "     Line(start=(70.94376799999999+285.01639j), end=(76.500018+285.01639j)),\n",
       "     Line(start=(76.500018+285.01639j), end=(76.500018+268.12856j)),\n",
       "     Line(start=(76.500018+268.12856j), end=(78.583612+268.12856j)),\n",
       "     Line(start=(78.583612+268.12856j), end=(78.583612+285.01639j)),\n",
       "     Line(start=(78.583612+285.01639j), end=(76.500018+285.01639j)),\n",
       "     Line(start=(76.500018+285.01639j), end=(82.056268+285.01639j)),\n",
       "     Line(start=(82.056268+285.01639j), end=(82.056268+263.69954j)),\n",
       "     Line(start=(82.056268+263.69954j), end=(84.13986200000001+263.69954j)),\n",
       "     Line(start=(84.13986200000001+263.69954j), end=(84.13986200000001+285.01639j)),\n",
       "     Line(start=(84.13986200000001+285.01639j), end=(82.056268+285.01639j)),\n",
       "     Line(start=(82.056268+285.01639j), end=(87.61251800000001+285.01639j)),\n",
       "     Line(start=(87.61251800000001+285.01639j), end=(87.61251800000001+258.85947j)),\n",
       "     Line(start=(87.61251800000001+258.85947j), end=(89.69611200000001+258.85947j)),\n",
       "     Line(start=(89.69611200000001+258.85947j), end=(89.69611200000001+285.01639j)),\n",
       "     Line(start=(89.69611200000001+285.01639j), end=(87.61251800000001+285.01639j)),\n",
       "     Line(start=(87.61251800000001+285.01639j), end=(93.16876800000001+285.01639j)),\n",
       "     Line(start=(93.16876800000001+285.01639j), end=(93.16876800000001+253.49827j)),\n",
       "     Line(start=(93.16876800000001+253.49827j), end=(95.25236200000002+253.49827j)),\n",
       "     Line(start=(95.25236200000002+253.49827j), end=(95.25236200000002+285.01639j)),\n",
       "     Line(start=(95.25236200000002+285.01639j), end=(93.16876800000001+285.01639j)),\n",
       "     Line(start=(93.16876800000001+285.01639j), end=(98.72501800000002+285.01639j)),\n",
       "     Line(start=(98.72501800000002+285.01639j), end=(98.72501800000002+248.05695j)),\n",
       "     Line(start=(98.72501800000002+248.05695j), end=(100.80861000000002+248.05695j)),\n",
       "     Line(start=(100.80861000000002+248.05695j), end=(100.80861000000002+285.01639j)),\n",
       "     Line(start=(100.80861000000002+285.01639j), end=(98.72501800000002+285.01639j)),\n",
       "     Line(start=(98.72501800000002+285.01639j), end=(104.28127000000002+285.01639j)),\n",
       "     Line(start=(104.28127000000002+285.01639j), end=(104.28127000000002+244.02746j)),\n",
       "     Line(start=(104.28127000000002+244.02746j), end=(106.36486000000002+244.02746j)),\n",
       "     Line(start=(106.36486000000002+244.02746j), end=(106.36486000000002+285.01639j)),\n",
       "     Line(start=(106.36486000000002+285.01639j), end=(104.28127000000002+285.01639j)),\n",
       "     Line(start=(104.28127000000002+285.01639j), end=(109.83752000000003+285.01639j)),\n",
       "     Line(start=(109.83752000000003+285.01639j), end=(109.83752000000003+241.71542j)),\n",
       "     Line(start=(109.83752000000003+241.71542j), end=(111.92111000000003+241.71542j)),\n",
       "     Line(start=(111.92111000000003+241.71542j), end=(111.92111000000003+285.01639j)),\n",
       "     Line(start=(111.92111000000003+285.01639j), end=(109.83752000000003+285.01639j)),\n",
       "     Line(start=(109.83752000000003+285.01639j), end=(115.39376000000003+285.01639j)),\n",
       "     Line(start=(115.39376000000003+285.01639j), end=(115.39376000000003+239.79476j)),\n",
       "     Line(start=(115.39376000000003+239.79476j), end=(117.47736000000003+239.79476j)),\n",
       "     Line(start=(117.47736000000003+239.79476j), end=(117.47736000000003+285.01639j)),\n",
       "     Line(start=(117.47736000000003+285.01639j), end=(115.39376000000003+285.01639j)),\n",
       "     Line(start=(115.39376000000003+285.01639j), end=(120.95001000000003+285.01639j)),\n",
       "     Line(start=(120.95001000000003+285.01639j), end=(120.95001000000003+238.02078j)),\n",
       "     Line(start=(120.95001000000003+238.02078j), end=(123.03361000000004+238.02078j)),\n",
       "     Line(start=(123.03361000000004+238.02078j), end=(123.03361000000004+285.01639j)),\n",
       "     Line(start=(123.03361000000004+285.01639j), end=(120.95001000000003+285.01639j)),\n",
       "     Line(start=(120.95001000000003+285.01639j), end=(126.50626000000004+285.01639j)),\n",
       "     Line(start=(126.50626000000004+285.01639j), end=(126.50626000000004+236.4863j)),\n",
       "     Line(start=(126.50626000000004+236.4863j), end=(128.58986000000004+236.4863j)),\n",
       "     Line(start=(128.58986000000004+236.4863j), end=(128.58986000000004+285.01639j)),\n",
       "     Line(start=(128.58986000000004+285.01639j), end=(126.50626000000004+285.01639j)),\n",
       "     Line(start=(126.50626000000004+285.01639j), end=(132.06251000000003+285.01639j)),\n",
       "     Line(start=(132.06251000000003+285.01639j), end=(132.06251000000003+235.49591j)),\n",
       "     Line(start=(132.06251000000003+235.49591j), end=(134.14611000000002+235.49591j)),\n",
       "     Line(start=(134.14611000000002+235.49591j), end=(134.14611000000002+285.01639j)),\n",
       "     Line(start=(134.14611000000002+285.01639j), end=(132.06251000000003+285.01639j)),\n",
       "     Line(start=(132.06251000000003+285.01639j), end=(137.61876000000004+285.01639j)),\n",
       "     Line(start=(137.61876000000004+285.01639j), end=(137.61876000000004+233.8338j)),\n",
       "     Line(start=(137.61876000000004+233.8338j), end=(139.70236000000003+233.8338j)),\n",
       "     Line(start=(139.70236000000003+233.8338j), end=(139.70236000000003+285.01639j)),\n",
       "     Line(start=(139.70236000000003+285.01639j), end=(137.61876000000004+285.01639j)),\n",
       "     Line(start=(137.61876000000004+285.01639j), end=(143.17501000000004+285.01639j)),\n",
       "     Line(start=(143.17501000000004+285.01639j), end=(143.17501000000004+231.60389j)),\n",
       "     Line(start=(143.17501000000004+231.60389j), end=(145.25861000000003+231.60389j)),\n",
       "     Line(start=(145.25861000000003+231.60389j), end=(145.25861000000003+285.01639j)),\n",
       "     Line(start=(145.25861000000003+285.01639j), end=(143.17501000000004+285.01639j)),\n",
       "     Line(start=(143.17501000000004+285.01639j), end=(148.73126000000005+285.01639j)),\n",
       "     Line(start=(148.73126000000005+285.01639j), end=(148.73126000000005+231.05208j)),\n",
       "     Line(start=(148.73126000000005+231.05208j), end=(150.81486000000004+231.05208j)),\n",
       "     Line(start=(150.81486000000004+231.05208j), end=(150.81486000000004+285.01639j)),\n",
       "     Line(start=(150.81486000000004+285.01639j), end=(148.73126000000005+285.01639j)),\n",
       "     Line(start=(148.73126000000005+285.01639j), end=(154.28751000000005+285.01639j)),\n",
       "     Line(start=(154.28751000000005+285.01639j), end=(154.28751000000005+228.84471j)),\n",
       "     Line(start=(154.28751000000005+228.84471j), end=(156.37111000000004+228.84471j)),\n",
       "     Line(start=(156.37111000000004+228.84471j), end=(156.37111000000004+285.01639j)),\n",
       "     Line(start=(156.37111000000004+285.01639j), end=(154.28751000000005+285.01639j)),\n",
       "     Line(start=(154.28751000000005+285.01639j), end=(159.84376000000006+285.01639j)),\n",
       "     Line(start=(159.84376000000006+285.01639j), end=(159.84376000000006+225.45413j)),\n",
       "     Line(start=(159.84376000000006+225.45413j), end=(161.92736000000005+225.45413j)),\n",
       "     Line(start=(161.92736000000005+225.45413j), end=(161.92736000000005+285.01639j)),\n",
       "     Line(start=(161.92736000000005+285.01639j), end=(159.84376000000006+285.01639j)),\n",
       "     Line(start=(159.84376000000006+285.01639j), end=(165.40001000000007+285.01639j)),\n",
       "     Line(start=(165.40001000000007+285.01639j), end=(165.40001000000007+224.01575j)),\n",
       "     Line(start=(165.40001000000007+224.01575j), end=(167.48361000000006+224.01575j)),\n",
       "     Line(start=(167.48361000000006+224.01575j), end=(167.48361000000006+285.01639j)),\n",
       "     Line(start=(167.48361000000006+285.01639j), end=(165.40001000000007+285.01639j)),\n",
       "     Line(start=(165.40001000000007+285.01639j), end=(170.95626000000007+285.01639j)),\n",
       "     Line(start=(170.95626000000007+285.01639j), end=(170.95626000000007+222.0989j)),\n",
       "     Line(start=(170.95626000000007+222.0989j), end=(173.03986000000006+222.0989j)),\n",
       "     Line(start=(173.03986000000006+222.0989j), end=(173.03986000000006+285.01639j)),\n",
       "     Line(start=(173.03986000000006+285.01639j), end=(170.95626000000007+285.01639j)),\n",
       "     Line(start=(170.95626000000007+285.01639j), end=(176.51251000000008+285.01639j)),\n",
       "     Line(start=(176.51251000000008+285.01639j), end=(176.51251000000008+219.46534j)),\n",
       "     Line(start=(176.51251000000008+219.46534j), end=(178.59611000000007+219.46534j)),\n",
       "     Line(start=(178.59611000000007+219.46534j), end=(178.59611000000007+285.01639j)),\n",
       "     Line(start=(178.59611000000007+285.01639j), end=(176.51251000000008+285.01639j)),\n",
       "     Line(start=(176.51251000000008+285.01639j), end=(182.06876000000008+285.01639j)),\n",
       "     Line(start=(182.06876000000008+285.01639j), end=(182.06876000000008+217.70131j)),\n",
       "     Line(start=(182.06876000000008+217.70131j), end=(184.15236000000007+217.70131j)),\n",
       "     Line(start=(184.15236000000007+217.70131j), end=(184.15236000000007+285.01639j)),\n",
       "     Line(start=(184.15236000000007+285.01639j), end=(182.06876000000008+285.01639j)),\n",
       "     Line(start=(182.06876000000008+285.01639j), end=(187.6250100000001+285.01639j)),\n",
       "     Line(start=(187.6250100000001+285.01639j), end=(187.6250100000001+216.38781j)),\n",
       "     Line(start=(187.6250100000001+216.38781j), end=(189.70861000000008+216.38781j)),\n",
       "     Line(start=(189.70861000000008+216.38781j), end=(189.70861000000008+285.01639j)),\n",
       "     Line(start=(189.70861000000008+285.01639j), end=(187.6250100000001+285.01639j)),\n",
       "     Line(start=(187.6250100000001+285.01639j), end=(193.1812600000001+285.01639j)),\n",
       "     Line(start=(193.1812600000001+285.01639j), end=(193.1812600000001+215.3244j)),\n",
       "     Line(start=(193.1812600000001+215.3244j), end=(195.26486000000008+215.3244j)),\n",
       "     Line(start=(195.26486000000008+215.3244j), end=(195.26486000000008+285.01639j)),\n",
       "     Line(start=(195.26486000000008+285.01639j), end=(193.1812600000001+285.01639j)),\n",
       "     Line(start=(193.1812600000001+285.01639j), end=(198.7375100000001+285.01639j)),\n",
       "     Line(start=(198.7375100000001+285.01639j), end=(198.7375100000001+213.73362j)),\n",
       "     Line(start=(198.7375100000001+213.73362j), end=(200.8211100000001+213.73362j)),\n",
       "     Line(start=(200.8211100000001+213.73362j), end=(200.8211100000001+285.01639j)),\n",
       "     Line(start=(200.8211100000001+285.01639j), end=(198.7375100000001+285.01639j)))"
      ]
     },
     "execution_count": 108,
     "metadata": {},
     "output_type": "execute_result"
    }
   ],
   "source": [
    "\n",
    "path_obj"
   ]
  },
  {
   "cell_type": "code",
   "execution_count": null,
   "metadata": {},
   "outputs": [],
   "source": []
  }
 ],
 "metadata": {
  "kernelspec": {
   "display_name": "Python 3",
   "language": "python",
   "name": "python3"
  },
  "language_info": {
   "codemirror_mode": {
    "name": "ipython",
    "version": 3
   },
   "file_extension": ".py",
   "mimetype": "text/x-python",
   "name": "python",
   "nbconvert_exporter": "python",
   "pygments_lexer": "ipython3",
   "version": "3.7.7"
  }
 },
 "nbformat": 4,
 "nbformat_minor": 4
}
