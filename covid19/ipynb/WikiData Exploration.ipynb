{
 "cells": [
  {
   "cell_type": "code",
   "execution_count": null,
   "metadata": {},
   "outputs": [],
   "source": [
    "\n",
    "# http://dbpedia.org/page/Autauga_County%2C_Alabama"
   ]
  },
  {
   "cell_type": "code",
   "execution_count": null,
   "metadata": {},
   "outputs": [],
   "source": [
    "\n",
    "import sys\n",
    "\n",
    "command_str = '{sys.executable} -m pip uninstall matplotlib'.format(sys=sys)\n",
    "print(command_str)\n",
    "#!{command_str}"
   ]
  },
  {
   "cell_type": "code",
   "execution_count": 1,
   "metadata": {},
   "outputs": [],
   "source": [
    "\n",
    "import sys\n",
    "\n",
    "# Insert at 1, 0 is the script path (or '' in REPL)\n",
    "sys.path.insert(1, '../py')"
   ]
  },
  {
   "cell_type": "code",
   "execution_count": 2,
   "metadata": {},
   "outputs": [
    {
     "name": "stdout",
     "output_type": "stream",
     "text": [
      "D:\\Documents\\Repositories\\notebooks\\covid19\\ipynb\\WikiData Exploration.ipynb\n",
      "['s.attempt_to_pickle', 's.data_csv_folder', 's.data_folder', 's.encoding_type', 's.load_csv', 's.load_dataframes', 's.load_object', 's.save_dataframes', 's.saves_csv_folder', 's.saves_folder', 's.saves_pickle_folder', 's.store_objects']\n",
      "Pretty printing has been turned OFF\n"
     ]
    },
    {
     "data": {
      "text/plain": [
       "['Config', 'In', 'Out', 'RandomForestClassifier', 'SequenceMatcher', 'Storage', '_', '__', '___', '__builtin__', '__builtins__', '__doc__', '__loader__', '__name__', '__nonzero__', '__package__', '__spec__', '_dh', '_i', '_i1', '_i2', '_ih', '_ii', '_iii', '_oh', 'bs', 'check_4_doubles', 'check_for_typos', 'clear_output', 'conjunctify_list', 'copyfile', 'counties_df', 'csv', 'datetime', 'encoding', 'example_iterrows', 'exit', 'filepath_regex', 'get_classifier', 'get_column_descriptions', 'get_data_structs_dataframe', 'get_datastructure_prediction', 'get_dir_tree', 'get_git_lfs_track_commands', 'get_importances', 'get_input_sample', 'get_ipython', 'get_max_rsquared_adj', 'get_module_version', 'get_notebook_path', 'get_page_tables', 'get_specific_gitignore_files', 'get_struct_name', 'humanize_bytes', 'io', 'ipykernel', 'json', 'jupyter_config_dir', 'math', 'notebook_path', 'notebookapp', 'np', 'nx', 'os', 'pd', 'pearsonr', 'pickle', 'plt', 'preprocess_data', 'print_all_files_ending_starting_with', 'print_all_files_ending_with', 'print_all_files_starting_with', 'quit', 're', 'remove_empty_folders', 'request', 's', 'scraping_utils', 'similar', 'sm', 'sns', 'stats', 'subprocess', 'sys', 'time', 'timedelta', 'tqdm', 'unquote', 'url_regex', 'urllib', 'wikidata', 'wikipedia']"
      ]
     },
     "execution_count": 2,
     "metadata": {},
     "output_type": "execute_result"
    }
   ],
   "source": [
    "\n",
    "%run ../../load_magic/storage.py\n",
    "%run ../../load_magic/paths.py\n",
    "%run ../../load_magic/lists.py\n",
    "%run ../../load_magic/environment.py\n",
    "%run ../../load_magic/dataframes.py\n",
    "\n",
    "import scraping_utils\n",
    "wikipedia = scraping_utils.wikipedia\n",
    "\n",
    "from IPython.display import clear_output\n",
    "from bs4 import BeautifulSoup as bs\n",
    "from datetime import datetime, timedelta\n",
    "from matplotlib import pyplot as plt\n",
    "from scipy import stats\n",
    "from scipy.stats import pearsonr\n",
    "from tqdm import tqdm_notebook as tqdm\n",
    "from urllib import request\n",
    "from urllib.parse import unquote\n",
    "import networkx as nx\n",
    "import numpy as np\n",
    "import re\n",
    "import seaborn as sns\n",
    "import wikidata\n",
    "\n",
    "notebook_path = get_notebook_path()\n",
    "print(notebook_path)\n",
    "s = Storage()\n",
    "counties_df = s.load_object('counties_df')\n",
    "print(['s.{}'.format(fn) for fn in dir(s) if not fn.startswith('_')])\n",
    "\n",
    "%pprint\n",
    "dir()"
   ]
  },
  {
   "cell_type": "markdown",
   "metadata": {},
   "source": [
    "\n",
    "----\n",
    "# wptools Library"
   ]
  },
  {
   "cell_type": "code",
   "execution_count": 4,
   "metadata": {},
   "outputs": [
    {
     "name": "stderr",
     "output_type": "stream",
     "text": [
      "en.wikipedia.org (query) Autauga County, Alabama\n",
      "en.wikipedia.org (imageinfo) File:Autauga County Courthouse March...\n",
      "Autauga County, Alabama (en) data\n",
      "{\n",
      "  WARNINGS: <dict(1)> extracts\n",
      "  aliases: <list(1)> Autauga County, Alabama\n",
      "  assessments: <dict(2)> United States, Alabama\n",
      "  description: county in Alabama, United States\n",
      "  extext: <str(228)> **Autauga County** is a county located in the...\n",
      "  extract: <str(247)> <p><b>Autauga County</b> is a county located...\n",
      "  image: <list(2)> {'kind': 'query-pageimage', 'file': 'File:Autau...\n",
      "  label: Autauga County\n",
      "  length: 27,167\n",
      "  links: <list(277)> 1820 United States Census, 1830 United States...\n",
      "  modified: <dict(1)> page\n",
      "  pageid: 76923\n",
      "  random: Time Today\n",
      "  redirects: <list(7)> {'pageid': 85079, 'ns': 0, 'title': 'Autaug...\n",
      "  requests: <list(2)> query, imageinfo\n",
      "  title: Autauga County, Alabama\n",
      "  url: https://en.wikipedia.org/wiki/Autauga_County,_Alabama\n",
      "  url_raw: https://en.wikipedia.org/wiki/Autauga_County,_Alabama?a...\n",
      "  wikibase: Q156168\n",
      "  wikidata_url: https://www.wikidata.org/wiki/Q156168\n",
      "}\n"
     ]
    },
    {
     "data": {
      "text/plain": [
       "<wptools.page.WPToolsPage object at 0x000002303F424788>"
      ]
     },
     "execution_count": 4,
     "metadata": {},
     "output_type": "execute_result"
    }
   ],
   "source": [
    "\n",
    "import wptools\n",
    "\n",
    "title_str = 'Autauga County, Alabama'\n",
    "page_obj = wptools.page(title_str)\n",
    "page_obj.get_query()"
   ]
  },
  {
   "cell_type": "code",
   "execution_count": 5,
   "metadata": {},
   "outputs": [
    {
     "name": "stderr",
     "output_type": "stream",
     "text": [
      "www.wikidata.org (wikidata) Q156168\n",
      "www.wikidata.org (labels) P6766|Q111266|Q1967620|Q499687|P31|P36|...\n",
      "en.wikipedia.org (imageinfo) File:Autauga County Courthouse March...\n",
      "Autauga County, Alabama (en) data\n",
      "{\n",
      "  aliases: <list(1)> Autauga County, Alabama\n",
      "  claims: <dict(36)> P373, P17, P131, P138, P625, P882, P910, P242...\n",
      "  description: county in Alabama, United States\n",
      "  image: <list(1)> {'file': 'File:Autauga County Courthouse March ...\n",
      "  label: Autauga County\n",
      "  labels: <dict(50)> P6766, Q111266, Q1967620, Q499687, P31, P36, ...\n",
      "  modified: <dict(1)> wikidata\n",
      "  requests: <list(3)> wikidata, labels, imageinfo\n",
      "  title: Autauga_County,_Alabama\n",
      "  what: county of Alabama\n",
      "  wikibase: Q156168\n",
      "  wikidata: <dict(35)> Commons category (P373), country (P17), loc...\n",
      "  wikidata_pageid: 157314\n",
      "  wikidata_url: https://www.wikidata.org/wiki/Q156168\n",
      "}\n"
     ]
    },
    {
     "data": {
      "text/plain": [
       "<wptools.page.WPToolsPage object at 0x000002303F54F348>"
      ]
     },
     "execution_count": 5,
     "metadata": {},
     "output_type": "execute_result"
    }
   ],
   "source": [
    "\n",
    "page = wptools.page(wikibase='Q156168')\n",
    "page.get_wikidata()"
   ]
  },
  {
   "cell_type": "markdown",
   "metadata": {},
   "source": [
    "\n",
    "----\n",
    "# wikidata Library"
   ]
  },
  {
   "cell_type": "code",
   "execution_count": 4,
   "metadata": {},
   "outputs": [
    {
     "name": "stdout",
     "output_type": "stream",
     "text": [
      "['Client.cache_policy', 'Client.datavalue_decoder', 'Client.decode_datavalue', 'Client.entity_type_guess', 'Client.get', 'Client.guess_entity_type', 'Client.request']\n"
     ]
    }
   ],
   "source": [
    "\n",
    "from wikidata.client import Client\n",
    "\n",
    "print(['Client.{}'.format(fn) for fn in dir(Client) if not fn.startswith('_')])"
   ]
  },
  {
   "cell_type": "code",
   "execution_count": 4,
   "metadata": {},
   "outputs": [],
   "source": [
    "\n",
    "from urllib.parse import quote\n",
    "from wikidata.client import Client\n",
    "\n",
    "title = 'Autauga County, Alabama'\n",
    "url = './w/api.php?action=query&prop=imageinfo|info&inprop=url&iiprop=url|size|mime&format=json&titles={}'\n",
    "url = url.format(quote(title))\n",
    "client = Client()\n",
    "result = client.request(url)"
   ]
  },
  {
   "cell_type": "code",
   "execution_count": 5,
   "metadata": {},
   "outputs": [
    {
     "name": "stdout",
     "output_type": "stream",
     "text": [
      "['result.clear', 'result.copy', 'result.fromkeys', 'result.get', 'result.items', 'result.keys', 'result.pop', 'result.popitem', 'result.setdefault', 'result.update', 'result.values']\n"
     ]
    }
   ],
   "source": [
    "\n",
    "print(['result.{}'.format(fn) for fn in dir(result) if not fn.startswith('_')])"
   ]
  },
  {
   "cell_type": "code",
   "execution_count": 8,
   "metadata": {},
   "outputs": [
    {
     "name": "stdout",
     "output_type": "stream",
     "text": [
      "batchcomplete \n",
      "query {'pages': {'-1': {'ns': 0, 'title': 'Autauga County, Alabama', 'missing': '', 'contentmodel': 'wikibase-item', 'pagelanguage': 'en', 'pagelanguagehtmlcode': 'en', 'pagelanguagedir': 'ltr', 'fullurl': 'https://www.wikidata.org/wiki/Autauga_County,_Alabama', 'editurl': 'https://www.wikidata.org/w/index.php?title=Autauga_County,_Alabama&action=edit', 'canonicalurl': 'https://www.wikidata.org/wiki/Autauga_County,_Alabama'}}}\n"
     ]
    }
   ],
   "source": [
    "\n",
    "for key, value in result.items():\n",
    "    print(key, value)"
   ]
  },
  {
   "cell_type": "code",
   "execution_count": 5,
   "metadata": {},
   "outputs": [
    {
     "data": {
      "text/plain": [
       "\u001b[1;31mSignature:\u001b[0m \u001b[0mClient\u001b[0m\u001b[1;33m.\u001b[0m\u001b[0mrequest\u001b[0m\u001b[1;33m(\u001b[0m\u001b[0mself\u001b[0m\u001b[1;33m,\u001b[0m \u001b[0mpath\u001b[0m\u001b[1;33m:\u001b[0m \u001b[0mstr\u001b[0m\u001b[1;33m)\u001b[0m \u001b[1;33m->\u001b[0m \u001b[0mUnion\u001b[0m\u001b[1;33m[\u001b[0m\u001b[0mbool\u001b[0m\u001b[1;33m,\u001b[0m \u001b[0mint\u001b[0m\u001b[1;33m,\u001b[0m \u001b[0mfloat\u001b[0m\u001b[1;33m,\u001b[0m \u001b[0mstr\u001b[0m\u001b[1;33m,\u001b[0m \u001b[0mMapping\u001b[0m\u001b[1;33m[\u001b[0m\u001b[0mstr\u001b[0m\u001b[1;33m,\u001b[0m \u001b[0mUnion\u001b[0m\u001b[1;33m[\u001b[0m\u001b[0mbool\u001b[0m\u001b[1;33m,\u001b[0m \u001b[0mint\u001b[0m\u001b[1;33m,\u001b[0m \u001b[0mfloat\u001b[0m\u001b[1;33m,\u001b[0m \u001b[0mstr\u001b[0m\u001b[1;33m,\u001b[0m \u001b[0mMapping\u001b[0m\u001b[1;33m[\u001b[0m\u001b[0mstr\u001b[0m\u001b[1;33m,\u001b[0m \u001b[0mobject\u001b[0m\u001b[1;33m]\u001b[0m\u001b[1;33m,\u001b[0m \u001b[0mSequence\u001b[0m\u001b[1;33m]\u001b[0m\u001b[1;33m]\u001b[0m\u001b[1;33m,\u001b[0m \u001b[0mSequence\u001b[0m\u001b[1;33m[\u001b[0m\u001b[0mUnion\u001b[0m\u001b[1;33m[\u001b[0m\u001b[0mbool\u001b[0m\u001b[1;33m,\u001b[0m \u001b[0mint\u001b[0m\u001b[1;33m,\u001b[0m \u001b[0mfloat\u001b[0m\u001b[1;33m,\u001b[0m \u001b[0mstr\u001b[0m\u001b[1;33m,\u001b[0m \u001b[0mMapping\u001b[0m\u001b[1;33m[\u001b[0m\u001b[0mstr\u001b[0m\u001b[1;33m,\u001b[0m \u001b[0mobject\u001b[0m\u001b[1;33m]\u001b[0m\u001b[1;33m,\u001b[0m \u001b[0mSequence\u001b[0m\u001b[1;33m]\u001b[0m\u001b[1;33m]\u001b[0m\u001b[1;33m]\u001b[0m\u001b[1;33m\u001b[0m\u001b[1;33m\u001b[0m\u001b[0m\n",
       "\u001b[1;31mDocstring:\u001b[0m <no docstring>\n",
       "\u001b[1;31mFile:\u001b[0m      c:\\users\\577342\\appdata\\local\\continuum\\anaconda3\\lib\\site-packages\\wikidata\\client.py\n",
       "\u001b[1;31mType:\u001b[0m      function\n"
      ]
     },
     "metadata": {},
     "output_type": "display_data"
    }
   ],
   "source": [
    "\n",
    "url = './wiki/Special:EntityData/{}.json'.format(id)\n",
    "result = Client.request(url)"
   ]
  },
  {
   "cell_type": "markdown",
   "metadata": {},
   "source": [
    "\n",
    "----"
   ]
  },
  {
   "cell_type": "code",
   "execution_count": 396,
   "metadata": {},
   "outputs": [],
   "source": [
    "\n",
    "import pyperclip\n",
    "\n",
    "pyperclip.copy(str(tuple((v, k) for k, v in idx_dict.items())))"
   ]
  },
  {
   "cell_type": "code",
   "execution_count": null,
   "metadata": {},
   "outputs": [],
   "source": []
  }
 ],
 "metadata": {
  "kernelspec": {
   "display_name": "Python 3",
   "language": "python",
   "name": "python3"
  },
  "language_info": {
   "codemirror_mode": {
    "name": "ipython",
    "version": 3
   },
   "file_extension": ".py",
   "mimetype": "text/x-python",
   "name": "python",
   "nbconvert_exporter": "python",
   "pygments_lexer": "ipython3",
   "version": "3.7.7"
  }
 },
 "nbformat": 4,
 "nbformat_minor": 4
}
