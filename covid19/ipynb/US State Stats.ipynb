{
 "cells": [
  {
   "cell_type": "markdown",
   "metadata": {},
   "source": [
    "\n",
    "# Set up the notebook"
   ]
  },
  {
   "cell_type": "code",
   "execution_count": 1,
   "metadata": {},
   "outputs": [],
   "source": [
    "\n",
    "import sys\n",
    "\n",
    "# Insert at 1, 0 is the script path (or '' in REPL)\n",
    "sys.path.insert(1, '../py')"
   ]
  },
  {
   "cell_type": "code",
   "execution_count": 2,
   "metadata": {},
   "outputs": [
    {
     "name": "stdout",
     "output_type": "stream",
     "text": [
      "Pretty printing has been turned OFF\n",
      "D:\\Documents\\Repositories\\notebooks\\covid19\\ipynb\\US State Stats.ipynb\n",
      "['s.attempt_to_pickle', 's.data_csv_folder', 's.data_folder', 's.decoding_error', 's.decoding_type', 's.encoding_error', 's.encoding_type', 's.load_csv', 's.load_dataframes', 's.load_object', 's.save_dataframes', 's.saves_csv_folder', 's.saves_folder', 's.saves_pickle_folder', 's.store_objects']\n"
     ]
    },
    {
     "data": {
      "text/plain": [
       "['Config', 'In', 'Out', 'RandomForestClassifier', 'SequenceMatcher', '_', '__', '___', '__builtin__', '__builtins__', '__doc__', '__loader__', '__name__', '__nonzero__', '__package__', '__spec__', '_dh', '_i', '_i1', '_i2', '_ih', '_ii', '_iii', '_oh', 'check_4_doubles', 'check_for_typos', 'choropleth_utils', 'column_description_dict', 'conjunctify_list', 'encoding', 'example_iterrows', 'exit', 'filepath_regex', 'get_classifier', 'get_column_descriptions', 'get_data_structs_dataframe', 'get_datastructure_prediction', 'get_dir_tree', 'get_importances', 'get_input_sample', 'get_ipython', 'get_max_rsquared_adj', 'get_module_version', 'get_notebook_path', 'get_page_tables', 'get_struct_name', 'io', 'ipykernel', 'json', 'jupyter_config_dir', 'math', 'notebook_path', 'notebookapp', 'os', 'pd', 'plt', 'preprocess_data', 'quit', 're', 's', 'similar', 'sm', 'sns', 'stats', 'sys', 'time', 'url_regex', 'urllib']"
      ]
     },
     "execution_count": 2,
     "metadata": {},
     "output_type": "execute_result"
    }
   ],
   "source": [
    "\n",
    "import choropleth_utils\n",
    "math = choropleth_utils.math\n",
    "os = choropleth_utils.os\n",
    "plt = choropleth_utils.plt\n",
    "re = choropleth_utils.re\n",
    "\n",
    "%run ../../load_magic/dataframes.py\n",
    "%run ../../load_magic/environment.py\n",
    "%run ../../load_magic/lists.py\n",
    "%pprint\n",
    "\n",
    "pd.options.display.float_format = '{:20,.2f}'.format\n",
    "\n",
    "notebook_path = get_notebook_path()\n",
    "print(notebook_path)\n",
    "\n",
    "s = choropleth_utils.s\n",
    "print(['s.{}'.format(fn) for fn in dir(s) if not fn.startswith('_')])\n",
    "\n",
    "column_description_dict = s.load_object('column_description_dict')\n",
    "\n",
    "#c = choropleth_utils.ChoroplethUtilities()\n",
    "#print(['c.{}'.format(fn) for fn in dir(c) if not fn.startswith('_')])\n",
    "\n",
    "dir()"
   ]
  },
  {
   "cell_type": "code",
   "execution_count": 7,
   "metadata": {},
   "outputs": [],
   "source": [
    "\n",
    "!start %windir%\\explorer.exe \"{os.path.abspath(os.path.dirname(notebook_path))}\""
   ]
  },
  {
   "cell_type": "markdown",
   "metadata": {},
   "source": [
    "\n",
    "---"
   ]
  },
  {
   "cell_type": "code",
   "execution_count": 8,
   "metadata": {},
   "outputs": [
    {
     "data": {
      "text/plain": [
       "'Georgia'"
      ]
     },
     "execution_count": 8,
     "metadata": {},
     "output_type": "execute_result"
    }
   ],
   "source": [
    "\n",
    "states_list = []\n",
    "for state_name in c.one_country_df.index:\n",
    "    df_name = '{}_df'.format('_'.join(state_name.lower().split(' ')))\n",
    "    pickle_path = os.path.join(s.saves_pickle_folder, '{}.pickle'.format(df_name))\n",
    "    if os.path.isfile(pickle_path):\n",
    "        df = s.load_object(df_name)\n",
    "        for cn in df.columns:\n",
    "            if 'test' in cn.lower():\n",
    "                states_list.append(state_name)\n",
    "                break\n",
    "conjunctify_list(states_list)"
   ]
  },
  {
   "cell_type": "code",
   "execution_count": null,
   "metadata": {},
   "outputs": [],
   "source": [
    "\n",
    "column_descriptions_df = get_column_descriptions(c.one_country_df)\n",
    "mask_series = (column_descriptions_df.dtype == 'object')\n",
    "print(column_descriptions_df[mask_series].column_name.tolist())\n",
    "print()\n",
    "print(column_descriptions_df[~mask_series].column_name.tolist())"
   ]
  },
  {
   "cell_type": "code",
   "execution_count": 34,
   "metadata": {},
   "outputs": [],
   "source": [
    "\n",
    "from datetime import date\n",
    "\n",
    "def merge_dfs(merge_df, df_name, column_name='Deaths_New'):\n",
    "    df = s.load_object(df_name)\n",
    "    if column_name in df.columns:\n",
    "        mask_series = (df[column_name] >= after_cases)\n",
    "        if df[mask_series].shape[0] > 0:\n",
    "            df.Date = df.Date.map(lambda ts: date(ts.year, ts.month, ts.day))\n",
    "            df.set_index('Date', drop=True, inplace=True)\n",
    "            country_suffix = '_{}'.format(df_name[:-3])\n",
    "            columns_list = [column_name]\n",
    "            merge_df = merge_df.merge(df[columns_list], how='outer', left_index=True, right_index=True,\n",
    "                                      suffixes=('_merge', country_suffix))\n",
    "            if merge_df.index.has_duplicates:\n",
    "                raise RuntimeError('{} has duplicates'.format(df_name))\n",
    "            columns_list = merge_df.columns.tolist()\n",
    "            columns_list[-1] = columns_list[-1] + country_suffix\n",
    "            merge_df.columns = columns_list\n",
    "    \n",
    "    return merge_df"
   ]
  },
  {
   "cell_type": "code",
   "execution_count": 91,
   "metadata": {},
   "outputs": [
    {
     "data": {
      "text/plain": [
       "{'arkansas_df': ['Deaths_Cumulative', 'Deaths_New'], 'california_df': ['Deaths_Cumulative', 'Deaths_New'], 'colorado_df': ['Deaths_Cumulative', 'Deaths_New'], 'florida_df': ['Deaths_Cumulative', 'Deaths_New'], 'illinois_df': ['Deaths_Cumulative', 'Deaths_New'], 'new_york_df': ['Deaths_Cumulative', 'Deaths_New'], 'oregon_df': ['Deaths_New', 'Deaths_Cumulative'], 'south_carolina_df': ['Deaths_Cumulative', 'Deaths_New'], 'tennessee_df': ['Deaths_Cumulative', 'Deaths_New'], 'vermont_df': ['Deaths_Cumulative', 'Deaths_New']}"
      ]
     },
     "execution_count": 91,
     "metadata": {},
     "output_type": "execute_result"
    }
   ],
   "source": [
    "\n",
    "deaths_dict = s.load_object('deaths_dict')\n",
    "deaths_dict"
   ]
  },
  {
   "cell_type": "code",
   "execution_count": 93,
   "metadata": {},
   "outputs": [
    {
     "data": {
      "text/html": [
       "<div>\n",
       "<style scoped>\n",
       "    .dataframe tbody tr th:only-of-type {\n",
       "        vertical-align: middle;\n",
       "    }\n",
       "\n",
       "    .dataframe tbody tr th {\n",
       "        vertical-align: top;\n",
       "    }\n",
       "\n",
       "    .dataframe thead th {\n",
       "        text-align: right;\n",
       "    }\n",
       "</style>\n",
       "<table border=\"1\" class=\"dataframe\">\n",
       "  <thead>\n",
       "    <tr style=\"text-align: right;\">\n",
       "      <th></th>\n",
       "      <th>Deaths_Cumulative_arkansas</th>\n",
       "      <th>Deaths_Cumulative_california</th>\n",
       "      <th>Deaths_Cumulative_colorado</th>\n",
       "      <th>Deaths_Cumulative_florida</th>\n",
       "      <th>Deaths_Cumulative_illinois</th>\n",
       "    </tr>\n",
       "    <tr>\n",
       "      <th>Date</th>\n",
       "      <th></th>\n",
       "      <th></th>\n",
       "      <th></th>\n",
       "      <th></th>\n",
       "      <th></th>\n",
       "    </tr>\n",
       "  </thead>\n",
       "  <tbody>\n",
       "    <tr>\n",
       "      <th>2020-03-21</th>\n",
       "      <td>nan</td>\n",
       "      <td>27.00</td>\n",
       "      <td>5.00</td>\n",
       "      <td>12.00</td>\n",
       "      <td>6.00</td>\n",
       "    </tr>\n",
       "    <tr>\n",
       "      <th>2020-02-28</th>\n",
       "      <td>nan</td>\n",
       "      <td>nan</td>\n",
       "      <td>nan</td>\n",
       "      <td>nan</td>\n",
       "      <td>nan</td>\n",
       "    </tr>\n",
       "    <tr>\n",
       "      <th>2020-01-31</th>\n",
       "      <td>nan</td>\n",
       "      <td>0.00</td>\n",
       "      <td>nan</td>\n",
       "      <td>nan</td>\n",
       "      <td>nan</td>\n",
       "    </tr>\n",
       "    <tr>\n",
       "      <th>2020-03-05</th>\n",
       "      <td>nan</td>\n",
       "      <td>1.00</td>\n",
       "      <td>nan</td>\n",
       "      <td>nan</td>\n",
       "      <td>nan</td>\n",
       "    </tr>\n",
       "    <tr>\n",
       "      <th>2020-03-03</th>\n",
       "      <td>nan</td>\n",
       "      <td>nan</td>\n",
       "      <td>nan</td>\n",
       "      <td>0.00</td>\n",
       "      <td>nan</td>\n",
       "    </tr>\n",
       "  </tbody>\n",
       "</table>\n",
       "</div>"
      ],
      "text/plain": [
       "            Deaths_Cumulative_arkansas  Deaths_Cumulative_california  \\\n",
       "Date                                                                   \n",
       "2020-03-21                         nan                         27.00   \n",
       "2020-02-28                         nan                           nan   \n",
       "2020-01-31                         nan                          0.00   \n",
       "2020-03-05                         nan                          1.00   \n",
       "2020-03-03                         nan                           nan   \n",
       "\n",
       "            Deaths_Cumulative_colorado  Deaths_Cumulative_florida  \\\n",
       "Date                                                                \n",
       "2020-03-21                        5.00                      12.00   \n",
       "2020-02-28                         nan                        nan   \n",
       "2020-01-31                         nan                        nan   \n",
       "2020-03-05                         nan                        nan   \n",
       "2020-03-03                         nan                       0.00   \n",
       "\n",
       "            Deaths_Cumulative_illinois  \n",
       "Date                                    \n",
       "2020-03-21                        6.00  \n",
       "2020-02-28                         nan  \n",
       "2020-01-31                         nan  \n",
       "2020-03-05                         nan  \n",
       "2020-03-03                         nan  "
      ]
     },
     "execution_count": 93,
     "metadata": {},
     "output_type": "execute_result"
    }
   ],
   "source": [
    "\n",
    "merge_df = pd.DataFrame([])\n",
    "plotted_variable = 'Deaths_Cumulative'\n",
    "after_cases = 1\n",
    "deaths_dict = s.load_object('deaths_dict')\n",
    "for df_name, cn_list in deaths_dict.items():\n",
    "    if plotted_variable in cn_list:\n",
    "        merge_df = merge_dfs(merge_df, df_name, plotted_variable)\n",
    "merge_df.T.head(5).T.sample(5)"
   ]
  },
  {
   "cell_type": "code",
   "execution_count": 94,
   "metadata": {},
   "outputs": [
    {
     "data": {
      "text/plain": [
       "['Deaths_Cumulative_arkansas', 'Deaths_Cumulative_california', 'Deaths_Cumulative_colorado', 'Deaths_Cumulative_florida', 'Deaths_Cumulative_illinois', 'Deaths_Cumulative_new_york', 'Deaths_Cumulative_oregon', 'Deaths_Cumulative_south_carolina', 'Deaths_Cumulative_tennessee', 'Deaths_Cumulative_vermont']"
      ]
     },
     "execution_count": 94,
     "metadata": {},
     "output_type": "execute_result"
    }
   ],
   "source": [
    "\n",
    "confirms_list = merge_df.columns.tolist()\n",
    "confirms_list"
   ]
  },
  {
   "cell_type": "code",
   "execution_count": 99,
   "metadata": {},
   "outputs": [],
   "source": [
    "\n",
    "for column_name in confirms_list:\n",
    "    merge_df[column_name] = merge_df[column_name].map(lambda x: re.sub('[^\\d]+', '', str(x)))\n",
    "    merge_df[column_name] = pd.to_numeric(merge_df[column_name], errors='coerce')\n",
    "    mask_series = (merge_df[column_name] >= after_cases)\n",
    "    if merge_df[mask_series].shape[0] > 0:\n",
    "        ts0 = merge_df[mask_series].index.min()\n",
    "        new_name = '{}_day'.format(column_name[len(plotted_variable)+1:])\n",
    "        merge_df[new_name] = (merge_df.index - ts0).days"
   ]
  },
  {
   "cell_type": "code",
   "execution_count": 100,
   "metadata": {},
   "outputs": [
    {
     "data": {
      "text/html": [
       "<div>\n",
       "<style scoped>\n",
       "    .dataframe tbody tr th:only-of-type {\n",
       "        vertical-align: middle;\n",
       "    }\n",
       "\n",
       "    .dataframe tbody tr th {\n",
       "        vertical-align: top;\n",
       "    }\n",
       "\n",
       "    .dataframe thead th {\n",
       "        text-align: right;\n",
       "    }\n",
       "</style>\n",
       "<table border=\"1\" class=\"dataframe\">\n",
       "  <thead>\n",
       "    <tr style=\"text-align: right;\">\n",
       "      <th></th>\n",
       "      <th>Arkansas</th>\n",
       "      <th>California</th>\n",
       "      <th>Colorado</th>\n",
       "      <th>Florida</th>\n",
       "      <th>Illinois</th>\n",
       "      <th>New York</th>\n",
       "      <th>Oregon</th>\n",
       "      <th>South Carolina</th>\n",
       "      <th>Tennessee</th>\n",
       "      <th>Vermont</th>\n",
       "    </tr>\n",
       "  </thead>\n",
       "  <tbody>\n",
       "    <tr>\n",
       "      <th>5.00</th>\n",
       "      <td>nan</td>\n",
       "      <td>100.00</td>\n",
       "      <td>200.00</td>\n",
       "      <td>800.00</td>\n",
       "      <td>900.00</td>\n",
       "      <td>3,800.00</td>\n",
       "      <td>300.00</td>\n",
       "      <td>300.00</td>\n",
       "      <td>300.00</td>\n",
       "      <td>700.00</td>\n",
       "    </tr>\n",
       "    <tr>\n",
       "      <th>-41.00</th>\n",
       "      <td>nan</td>\n",
       "      <td>nan</td>\n",
       "      <td>nan</td>\n",
       "      <td>nan</td>\n",
       "      <td>nan</td>\n",
       "      <td>nan</td>\n",
       "      <td>nan</td>\n",
       "      <td>nan</td>\n",
       "      <td>nan</td>\n",
       "      <td>nan</td>\n",
       "    </tr>\n",
       "    <tr>\n",
       "      <th>-13.00</th>\n",
       "      <td>nan</td>\n",
       "      <td>50.00</td>\n",
       "      <td>nan</td>\n",
       "      <td>nan</td>\n",
       "      <td>nan</td>\n",
       "      <td>0.00</td>\n",
       "      <td>0.00</td>\n",
       "      <td>nan</td>\n",
       "      <td>0.00</td>\n",
       "      <td>nan</td>\n",
       "    </tr>\n",
       "    <tr>\n",
       "      <th>-40.00</th>\n",
       "      <td>nan</td>\n",
       "      <td>nan</td>\n",
       "      <td>nan</td>\n",
       "      <td>nan</td>\n",
       "      <td>nan</td>\n",
       "      <td>nan</td>\n",
       "      <td>nan</td>\n",
       "      <td>nan</td>\n",
       "      <td>nan</td>\n",
       "      <td>nan</td>\n",
       "    </tr>\n",
       "    <tr>\n",
       "      <th>18.00</th>\n",
       "      <td>nan</td>\n",
       "      <td>2,700.00</td>\n",
       "      <td>nan</td>\n",
       "      <td>nan</td>\n",
       "      <td>nan</td>\n",
       "      <td>nan</td>\n",
       "      <td>nan</td>\n",
       "      <td>nan</td>\n",
       "      <td>nan</td>\n",
       "      <td>nan</td>\n",
       "    </tr>\n",
       "  </tbody>\n",
       "</table>\n",
       "</div>"
      ],
      "text/plain": [
       "                   Arkansas           California             Colorado  \\\n",
       "  5.00                  nan               100.00               200.00   \n",
       "-41.00                  nan                  nan                  nan   \n",
       "-13.00                  nan                50.00                  nan   \n",
       "-40.00                  nan                  nan                  nan   \n",
       " 18.00                  nan             2,700.00                  nan   \n",
       "\n",
       "                    Florida             Illinois             New York  \\\n",
       "  5.00               800.00               900.00             3,800.00   \n",
       "-41.00                  nan                  nan                  nan   \n",
       "-13.00                  nan                  nan                 0.00   \n",
       "-40.00                  nan                  nan                  nan   \n",
       " 18.00                  nan                  nan                  nan   \n",
       "\n",
       "                     Oregon       South Carolina            Tennessee  \\\n",
       "  5.00               300.00               300.00               300.00   \n",
       "-41.00                  nan                  nan                  nan   \n",
       "-13.00                 0.00                  nan                 0.00   \n",
       "-40.00                  nan                  nan                  nan   \n",
       " 18.00                  nan                  nan                  nan   \n",
       "\n",
       "                    Vermont  \n",
       "  5.00               700.00  \n",
       "-41.00                  nan  \n",
       "-13.00                  nan  \n",
       "-40.00                  nan  \n",
       " 18.00                  nan  "
      ]
     },
     "execution_count": 100,
     "metadata": {},
     "output_type": "execute_result"
    }
   ],
   "source": [
    "\n",
    "day_merge_df = pd.DataFrame([])\n",
    "def create_day_df(column_name):\n",
    "    new_name = '{}_day'.format(column_name[len(plotted_variable)+1:])\n",
    "    columns_list = [new_name, column_name]\n",
    "    df = pd.DataFrame(merge_df[columns_list].values, columns=columns_list, index=merge_df.index)\n",
    "    df.set_index(new_name, drop=True, inplace=True)\n",
    "    df.columns = [' '.join(cn[len(plotted_variable)+1:].split('_')).title() for cn in df.columns]\n",
    "    \n",
    "    return df\n",
    "for column_name in confirms_list:\n",
    "    day_merge_df = day_merge_df.merge(create_day_df(column_name), how='outer', left_index=True,\n",
    "                                      right_index=True, suffixes=('_merge', '_{}'.format(column_name)))\n",
    "day_merge_df.interpolate(axis='index', limit_area='inside', inplace=True)\n",
    "day_merge_df.sample(5)"
   ]
  },
  {
   "cell_type": "code",
   "execution_count": 104,
   "metadata": {},
   "outputs": [
    {
     "name": "stdout",
     "output_type": "stream",
     "text": [
      "[(0, (60, 12))]\n"
     ]
    }
   ],
   "source": [
    "\n",
    "tables_url = 'https://simple.wikipedia.org/wiki/List_of_U.S._states_by_population'\n",
    "#!\"C:\\Program Files (x86)\\Google\\Chrome\\Application\\chrome.exe\" {tables_url}\n",
    "tables_list = get_page_tables(tables_url)"
   ]
  },
  {
   "cell_type": "code",
   "execution_count": 116,
   "metadata": {},
   "outputs": [
    {
     "name": "stdout",
     "output_type": "stream",
     "text": [
      "Pickling to D:\\Documents\\Repositories\\notebooks\\covid19\\saves\\pickle\\states_population_df.pickle\n"
     ]
    }
   ],
   "source": [
    "\n",
    "states_population_df = tables_list[0].copy()\n",
    "states_population_df.dropna(axis='columns', how='all', inplace=True)\n",
    "states_population_df.columns = ['state_name', 'Population_2019', 'Census_2010', 'Percent_Change', 'Absolute_Change',\n",
    "                                'Total_Representatives', 'Population_per_Electoral_Vote', 'Population_per_House_Seat',\n",
    "                                'Census_per_House_Seat', 'Percent_US_Population']\n",
    "columns_list = ['Population_2019', 'Census_2010', 'Population_per_Electoral_Vote', 'Population_per_House_Seat',\n",
    "                'Census_per_House_Seat']\n",
    "for column_name in columns_list:\n",
    "    states_population_df[column_name] = states_population_df[column_name].map(lambda x: re.sub('[^\\d]+', '', str(x).split('[')[0]))\n",
    "    states_population_df[column_name] = pd.to_numeric(states_population_df[column_name], errors='coerce')\n",
    "states_population_df.set_index('state_name', drop=True, inplace=True)\n",
    "s.store_objects(states_population_df=states_population_df)"
   ]
  },
  {
   "cell_type": "code",
   "execution_count": 117,
   "metadata": {},
   "outputs": [
    {
     "data": {
      "text/plain": [
       "set()"
      ]
     },
     "execution_count": 117,
     "metadata": {},
     "output_type": "execute_result"
    }
   ],
   "source": [
    "\n",
    "set(day_merge_df.columns) - set(states_population_df.index)"
   ]
  },
  {
   "cell_type": "code",
   "execution_count": 118,
   "metadata": {},
   "outputs": [],
   "source": [
    "\n",
    "days_df = day_merge_df.copy()\n",
    "days_df = days_df.T"
   ]
  },
  {
   "cell_type": "code",
   "execution_count": 120,
   "metadata": {},
   "outputs": [],
   "source": [
    "\n",
    "mask_series = (states_population_df.index.isin(days_df.index))\n",
    "columns_list = ['Census_2010']\n",
    "for state_name, row_series in states_population_df[mask_series][columns_list].iterrows():\n",
    "    population = row_series['Census_2010']\n",
    "    mask_series = (days_df.index == state_name)\n",
    "    for days_state_name, days_row_series in days_df[mask_series].iterrows():\n",
    "        for column_name, column_value in days_row_series.iteritems():\n",
    "            if str(column_value) != 'nan':\n",
    "                days_df.loc[days_state_name, column_name] = column_value/population"
   ]
  },
  {
   "cell_type": "code",
   "execution_count": 121,
   "metadata": {},
   "outputs": [],
   "source": [
    "\n",
    "day_merge_df = days_df.copy().T"
   ]
  },
  {
   "cell_type": "code",
   "execution_count": 122,
   "metadata": {},
   "outputs": [
    {
     "data": {
      "image/png": "[encoded data removed]",
      "text/plain": [
       "<Figure size 1296x1296 with 1 Axes>"
      ]
     },
     "metadata": {
      "needs_background": "light"
     },
     "output_type": "display_data"
    }
   ],
   "source": [
    "\n",
    "import math\n",
    "\n",
    "fig, ax = plt.subplots(figsize=(18, 18))\n",
    "ax.set_yscale('log')\n",
    "ax.set_xlim(left=0, right=day_merge_df.index.max()+2)\n",
    "ax.set_ylabel('Cumulative Deaths per Capita')\n",
    "ax.set_xlabel('Days After {} Deaths'.format(after_cases))\n",
    "ax.set_title('State by State: How Coronavirus Trajectories Compare')\n",
    "mask_series = (day_merge_df.index >= 0)\n",
    "p = day_merge_df[mask_series].plot\n",
    "AxesSubplot_obj = p.line(ax=ax)\n",
    "Line2D_obj_list = [Line2D_obj for Line2D_obj in AxesSubplot_obj.get_lines()]\n",
    "columns_list = day_merge_df.columns.tolist()\n",
    "for cn, Line2D_obj in zip(columns_list, Line2D_obj_list):\n",
    "    cn_series = day_merge_df[mask_series][cn]\n",
    "    cn_series.dropna(inplace=True)\n",
    "    x = cn_series.index[-1]\n",
    "    y = cn_series.iloc[-1]\n",
    "    color = Line2D_obj.get_color()\n",
    "    annotation = plt.annotate(cn, xy=(x, y), color=color)\n",
    "    if (cn == 'New York'):\n",
    "        Line2D_obj.set_alpha(alpha=1.0)\n",
    "    else:\n",
    "        Line2D_obj.set_alpha(alpha=0.5)"
   ]
  },
  {
   "cell_type": "code",
   "execution_count": null,
   "metadata": {},
   "outputs": [],
   "source": [
    "\n",
    "kwargs = dict(color='goldenrod', linewidth=0.4, dashes=(10, 10))\n",
    "cc0 = after_cases\n",
    "for doubling_every in [2, 3, 4, 7, 30]:\n",
    "    y_list = [cc0]\n",
    "    cc = cc0\n",
    "    while cc < ax.get_ylim()[1]:\n",
    "        cc = int(cc/(1 - math.log(2)/doubling_every))\n",
    "        y_list.append(cc)\n",
    "    Line2D_obj = ax.plot(y_list, **kwargs)\n",
    "kwargs = dict(color='goldenrod', alpha=1.0)\n",
    "annotation = plt.annotate('Doubling every\\n       2 days', xy=(19, 1.0e6), **kwargs)\n",
    "annotation = plt.annotate('Doubling every\\n       3 days', xy=(35, 2.0e6), **kwargs)\n",
    "annotation = plt.annotate('Doubling every\\n       4 days', xy=(52, 2.5e6), **kwargs)\n",
    "annotation = plt.annotate('Doubling every\\n       week', xy=(50, 2.0e4), **kwargs)\n",
    "annotation = plt.annotate('Doubling every\\n       month', xy=(50, 2.5e2), **kwargs)"
   ]
  },
  {
   "cell_type": "markdown",
   "metadata": {},
   "source": [
    "\n",
    "---\n",
    "# Create DataFrames"
   ]
  },
  {
   "cell_type": "code",
   "execution_count": 88,
   "metadata": {},
   "outputs": [
    {
     "name": "stdout",
     "output_type": "stream",
     "text": [
      "Pickling to D:\\Documents\\Repositories\\notebooks\\covid19\\saves\\pickle\\confirmed_set.pickle\n",
      "Pickling to D:\\Documents\\Repositories\\notebooks\\covid19\\saves\\pickle\\cumulative_set.pickle\n",
      "Pickling to D:\\Documents\\Repositories\\notebooks\\covid19\\saves\\pickle\\new_set.pickle\n",
      "Pickling to D:\\Documents\\Repositories\\notebooks\\covid19\\saves\\pickle\\deaths_set.pickle\n",
      "Pickling to D:\\Documents\\Repositories\\notebooks\\covid19\\saves\\pickle\\union_set.pickle\n",
      "Pickling to D:\\Documents\\Repositories\\notebooks\\covid19\\saves\\pickle\\intersection_set.pickle\n"
     ]
    },
    {
     "data": {
      "text/plain": [
       "{'Suicide_Deaths_2014', 'Suicide_Deaths_2005', 'Suicide_Deaths_2016', 'Suicide_Deaths_2015', 'Total_Murder_Deaths_2010', 'deaths_per_day_global_rounded', 'news_mentions_per_death', 'Gun_Suicide_Deaths', 'Total_Gun_Murder_Deaths_2010', 'Deaths_Cumulative', 'Suicide_Deaths_2017', 'Deaths_New'}"
      ]
     },
     "execution_count": 88,
     "metadata": {},
     "output_type": "execute_result"
    }
   ],
   "source": [
    "\n",
    "confirmed_set = set()\n",
    "cumulative_set = set()\n",
    "new_set = set()\n",
    "deaths_set = set()\n",
    "union_set = set()\n",
    "intersection_set = set(['Date', 'Confirmed_New', 'Confirmed_Cumulative', 'Deaths_Cumulative', 'Deaths_New'])\n",
    "for file_name in os.listdir(s.saves_pickle_folder):\n",
    "    if file_name.endswith('_df.pickle'):\n",
    "        df_name = file_name.split('.')[0]\n",
    "        exec(\"df = s.load_object('{}')\".format(df_name))\n",
    "        #df = s.load_object(df_name)\n",
    "        df_set = set()\n",
    "        for cn in df.columns:\n",
    "            df_set.add(cn)\n",
    "            if 'confirm' in cn.lower():\n",
    "                confirmed_set.add(cn)\n",
    "            if 'cumul' in cn.lower():\n",
    "                cumulative_set.add(cn)\n",
    "            if 'new' in cn.lower():\n",
    "                new_set.add(cn)\n",
    "            if 'death' in cn.lower():\n",
    "                deaths_set.add(cn)\n",
    "        intersection_set = intersection_set.intersection(df_set)\n",
    "        union_set = union_set.union(df_set)\n",
    "s.store_objects(confirmed_set=confirmed_set, cumulative_set=cumulative_set, new_set=new_set, deaths_set=deaths_set,\n",
    "                union_set=union_set, intersection_set=intersection_set)\n",
    "deaths_set"
   ]
  },
  {
   "cell_type": "code",
   "execution_count": 89,
   "metadata": {},
   "outputs": [
    {
     "name": "stdout",
     "output_type": "stream",
     "text": [
      "Pickling to D:\\Documents\\Repositories\\notebooks\\covid19\\saves\\pickle\\confirmed_set.pickle\n",
      "Pickling to D:\\Documents\\Repositories\\notebooks\\covid19\\saves\\pickle\\cumulative_set.pickle\n",
      "Pickling to D:\\Documents\\Repositories\\notebooks\\covid19\\saves\\pickle\\new_set.pickle\n",
      "Pickling to D:\\Documents\\Repositories\\notebooks\\covid19\\saves\\pickle\\deaths_set.pickle\n",
      "Pickling to D:\\Documents\\Repositories\\notebooks\\covid19\\saves\\pickle\\union_set.pickle\n",
      "Pickling to D:\\Documents\\Repositories\\notebooks\\covid19\\saves\\pickle\\intersection_set.pickle\n"
     ]
    },
    {
     "data": {
      "text/plain": [
       "{'Tests_Cumulative', 'Positive_Tests_Cumulative', 'Recovered_Cumulative', 'Date', 'Exposure_Local_Cumulative', 'Hospitalizations_Cumulative', 'Confirmed_New', 'Presumptive_Cumulative', 'Exposure_Travel_Cumulative', 'Exposure_Unknown_Cumulative', 'Hospitalization_Unknown_New', 'Exposure_Biogen_Cumulative', 'Unhospitalized_New', 'Confirmed_Cumulative', 'Recovered_New', 'CDC_Confirmed_Cumulative', 'Deaths_Cumulative', 'Deaths_New', 'Hospitalized_New'}"
      ]
     },
     "execution_count": 89,
     "metadata": {},
     "output_type": "execute_result"
    }
   ],
   "source": [
    "\n",
    "confirmed_set = set(['Confirmed_New', 'Confirmed_Cumulative', 'CDC_Confirmed_Cumulative'])\n",
    "cumulative_set = set(['Exposure_Travel_Cumulative', 'Tests_Cumulative', 'Exposure_Unknown_Cumulative',\n",
    "                      'Positive_Tests_Cumulative', 'Exposure_Biogen_Cumulative', 'Recovered_Cumulative',\n",
    "                      'Confirmed_Cumulative', 'Exposure_Local_Cumulative', 'Deaths_Cumulative',\n",
    "                      'CDC_Confirmed_Cumulative', 'Hospitalizations_Cumulative', 'Presumptive_Cumulative'])\n",
    "new_set = set(['Hospitalization_Unknown_New', 'Unhospitalized_New', 'Recovered_New', 'Confirmed_New',\n",
    "               'Deaths_New', 'Hospitalized_New'])\n",
    "deaths_set = set(['Deaths_Cumulative', 'Deaths_New'])\n",
    "union_set = set()\n",
    "intersection_set = confirmed_set.union(cumulative_set).union(new_set).union(deaths_set).union(set(['Date']))\n",
    "confirmed_dict = {}\n",
    "cumulative_dict = {}\n",
    "new_dict = {}\n",
    "deaths_dict = {}\n",
    "s.store_objects(confirmed_set=confirmed_set, cumulative_set=cumulative_set, new_set=new_set, deaths_set=deaths_set,\n",
    "                union_set=union_set, intersection_set=intersection_set)\n",
    "intersection_set"
   ]
  },
  {
   "cell_type": "code",
   "execution_count": 90,
   "metadata": {},
   "outputs": [
    {
     "name": "stdout",
     "output_type": "stream",
     "text": [
      "Pickling to D:\\Documents\\Repositories\\notebooks\\covid19\\saves\\pickle\\confirmed_dict.pickle\n",
      "Pickling to D:\\Documents\\Repositories\\notebooks\\covid19\\saves\\pickle\\cumulative_dict.pickle\n",
      "Pickling to D:\\Documents\\Repositories\\notebooks\\covid19\\saves\\pickle\\new_dict.pickle\n",
      "Pickling to D:\\Documents\\Repositories\\notebooks\\covid19\\saves\\pickle\\deaths_dict.pickle\n",
      "Pickling to D:\\Documents\\Repositories\\notebooks\\covid19\\saves\\pickle\\union_set.pickle\n",
      "Pickling to D:\\Documents\\Repositories\\notebooks\\covid19\\saves\\pickle\\intersection_set.pickle\n"
     ]
    },
    {
     "data": {
      "text/plain": [
       "{'Confirmed_New', 'Confirmed_Cumulative', 'Date'}"
      ]
     },
     "execution_count": 90,
     "metadata": {},
     "output_type": "execute_result"
    }
   ],
   "source": [
    "\n",
    "for file_name in os.listdir(s.saves_pickle_folder):\n",
    "    if file_name.endswith('_df.pickle'):\n",
    "        df_name = file_name.split('.')[0]\n",
    "        exec(\"df = s.load_object('{}')\".format(df_name))\n",
    "        columns_list = df.columns\n",
    "        if 'Date' in columns_list:\n",
    "            df_set = set(['Date'])\n",
    "            add_df_set = False\n",
    "            for cn in columns_list:\n",
    "                if cn in confirmed_set:\n",
    "                    df_set.add(cn)\n",
    "                    add_df_set = True\n",
    "                    if df_name not in confirmed_dict:\n",
    "                        confirmed_dict[df_name] = []\n",
    "                    cn_list = confirmed_dict[df_name].copy()\n",
    "                    cn_list.append(cn)\n",
    "                    confirmed_dict[df_name] = cn_list\n",
    "                if cn in cumulative_set:\n",
    "                    df_set.add(cn)\n",
    "                    add_df_set = True\n",
    "                    if df_name not in cumulative_dict:\n",
    "                        cumulative_dict[df_name] = []\n",
    "                    cn_list = cumulative_dict[df_name].copy()\n",
    "                    cn_list.append(cn)\n",
    "                    cumulative_dict[df_name] = cn_list\n",
    "                if cn in new_set:\n",
    "                    df_set.add(cn)\n",
    "                    add_df_set = True\n",
    "                    if df_name not in new_dict:\n",
    "                        new_dict[df_name] = []\n",
    "                    cn_list = new_dict[df_name].copy()\n",
    "                    cn_list.append(cn)\n",
    "                    new_dict[df_name] = cn_list\n",
    "                if cn in deaths_set:\n",
    "                    if df_name not in deaths_dict:\n",
    "                        deaths_dict[df_name] = []\n",
    "                    cn_list = deaths_dict[df_name].copy()\n",
    "                    cn_list.append(cn)\n",
    "                    deaths_dict[df_name] = cn_list\n",
    "            if add_df_set:\n",
    "                intersection_set = intersection_set.intersection(df_set)\n",
    "                union_set = union_set.union(df_set)\n",
    "s.store_objects(confirmed_dict=confirmed_dict, cumulative_dict=cumulative_dict, new_dict=new_dict,\n",
    "                deaths_dict=deaths_dict, union_set=union_set, intersection_set=intersection_set)\n",
    "intersection_set"
   ]
  },
  {
   "cell_type": "markdown",
   "metadata": {},
   "source": [
    "\n",
    "---"
   ]
  },
  {
   "cell_type": "code",
   "execution_count": 94,
   "metadata": {},
   "outputs": [
    {
     "name": "stdout",
     "output_type": "stream",
     "text": [
      "Pickling to D:\\Documents\\Repositories\\notebooks\\covid19\\saves\\pickle\\completed_set.pickle\n"
     ]
    }
   ],
   "source": [
    "\n",
    "completed_set = s.load_object('completed_set')\n",
    "for state_name in c.one_country_df.index:\n",
    "    state_name = '_'.join(state_name.split(' '))\n",
    "    if not state_name in completed_set:\n",
    "        completed_set.add(state_name)\n",
    "        tables_url = 'https://en.wikipedia.org/wiki/2020_coronavirus_pandemic_in_{}'.format(state_name)\n",
    "        #!\"C:\\Program Files (x86)\\Google\\Chrome\\Application\\chrome.exe\" {tables_url}\n",
    "        print('{}_df = tables_list[xxx].copy()'.format(state_name.lower()))\n",
    "        print('{}_df'.format(state_name.lower()))\n",
    "        tables_list = get_page_tables(tables_url)\n",
    "        break\n",
    "s.store_objects(completed_set=completed_set)"
   ]
  },
  {
   "cell_type": "code",
   "execution_count": 92,
   "metadata": {},
   "outputs": [
    {
     "name": "stdout",
     "output_type": "stream",
     "text": [
      "Pickling to D:\\Documents\\Repositories\\notebooks\\covid19\\saves\\pickle\\district_of_columbia_df.pickle\n"
     ]
    }
   ],
   "source": [
    "\n",
    "from datetime import datetime\n",
    "\n",
    "#tables_url = 'https://en.wikipedia.org/wiki/2020_coronavirus_pandemic_in_Washington,_D.C.'\n",
    "xlsx_dir = os.path.join(s.data_folder, 'xlsx')\n",
    "file_path = os.path.join(xlsx_dir, 'district_of_columbia.xlsx')\n",
    "district_of_columbia_df = pd.read_excel(file_path)\n",
    "district_of_columbia_df.columns = district_of_columbia_df.iloc[1].tolist()\n",
    "district_of_columbia_df.columns = ['Date', None, None, 'Confirmed_Cumulative', None]\n",
    "columns_list = ['Date', 'Confirmed_Cumulative']\n",
    "district_of_columbia_df = district_of_columbia_df[columns_list]\n",
    "#district_of_columbia_df.Date.to_dict()\n",
    "idx_list = list(range(2, 21))\n",
    "mask_series = district_of_columbia_df.index.isin(idx_list)\n",
    "district_of_columbia_df = district_of_columbia_df[mask_series]\n",
    "for column_name in district_of_columbia_df.columns:\n",
    "    if column_name == 'Date':\n",
    "        district_of_columbia_df[column_name] = pd.to_datetime(district_of_columbia_df[column_name])\n",
    "        pass\n",
    "    else:\n",
    "        district_of_columbia_df[column_name] = district_of_columbia_df[column_name].map(lambda x: re.sub('[^\\d]+', '', str(x).split('(')[0]))\n",
    "        district_of_columbia_df[column_name] = pd.to_numeric(district_of_columbia_df[column_name], errors='coerce')\n",
    "district_of_columbia_df['Confirmed_New'] = district_of_columbia_df.Confirmed_Cumulative.diff()\n",
    "idx = 2\n",
    "district_of_columbia_df.loc[idx, 'Confirmed_New'] = district_of_columbia_df.loc[idx, 'Confirmed_Cumulative']\n",
    "district_of_columbia_df.Confirmed_New = district_of_columbia_df.Confirmed_New.map(lambda x: int(x))\n",
    "s.store_objects(district_of_columbia_df=district_of_columbia_df)"
   ]
  },
  {
   "cell_type": "code",
   "execution_count": 71,
   "metadata": {},
   "outputs": [
    {
     "name": "stdout",
     "output_type": "stream",
     "text": [
      "Pickling to D:\\Documents\\Repositories\\notebooks\\covid19\\saves\\pickle\\wisconsin_df.pickle\n"
     ]
    }
   ],
   "source": [
    "\n",
    "wisconsin_df = tables_list[2].copy()\n",
    "wisconsin_df.columns = wisconsin_df.iloc[0].tolist()\n",
    "columns_list = [1, 3]\n",
    "wisconsin_df = wisconsin_df.iloc[:, columns_list]\n",
    "wisconsin_df.columns = ['Date', 'Confirmed_Cumulative']\n",
    "#wisconsin_df.Date.to_dict()\n",
    "idx_list = [1] + list(range(3, 21))\n",
    "mask_series = wisconsin_df.index.isin(idx_list)\n",
    "wisconsin_df = wisconsin_df[mask_series]\n",
    "for column_name in wisconsin_df.columns:\n",
    "    if column_name == 'Date':\n",
    "        wisconsin_df[column_name] = pd.to_datetime(wisconsin_df[column_name])\n",
    "        pass\n",
    "    else:\n",
    "        wisconsin_df[column_name] = wisconsin_df[column_name].map(lambda x: re.sub('[^\\d]+', '', str(x).split('(')[0]))\n",
    "        wisconsin_df[column_name] = pd.to_numeric(wisconsin_df[column_name], errors='coerce')\n",
    "wisconsin_df['Confirmed_New'] = wisconsin_df.Confirmed_Cumulative.diff()\n",
    "idx = 1\n",
    "wisconsin_df.loc[idx, 'Confirmed_New'] = wisconsin_df.loc[idx, 'Confirmed_Cumulative']\n",
    "wisconsin_df.Confirmed_New = wisconsin_df.Confirmed_New.map(lambda x: int(x))\n",
    "s.store_objects(wisconsin_df=wisconsin_df)"
   ]
  },
  {
   "cell_type": "code",
   "execution_count": 62,
   "metadata": {},
   "outputs": [
    {
     "name": "stdout",
     "output_type": "stream",
     "text": [
      "Pickling to D:\\Documents\\Repositories\\notebooks\\covid19\\saves\\pickle\\west_virginia_df.pickle\n"
     ]
    }
   ],
   "source": [
    "\n",
    "west_virginia_df = tables_list[2].copy()\n",
    "west_virginia_df.columns = west_virginia_df.iloc[0].tolist()\n",
    "columns_list = [1, 3]\n",
    "west_virginia_df = west_virginia_df.iloc[:, columns_list]\n",
    "west_virginia_df.columns = ['Date', 'Confirmed_Cumulative']\n",
    "#west_virginia_df.Date.to_dict()\n",
    "idx_list = list(range(1, 11))\n",
    "mask_series = west_virginia_df.index.isin(idx_list)\n",
    "west_virginia_df = west_virginia_df[mask_series]\n",
    "for column_name in west_virginia_df.columns:\n",
    "    if column_name == 'Date':\n",
    "        west_virginia_df[column_name] = pd.to_datetime(west_virginia_df[column_name])\n",
    "        pass\n",
    "    else:\n",
    "        west_virginia_df[column_name] = west_virginia_df[column_name].map(lambda x: re.sub('[^\\d]+', '', str(x).split('(')[0]))\n",
    "        west_virginia_df[column_name] = pd.to_numeric(west_virginia_df[column_name], errors='coerce')\n",
    "west_virginia_df['Confirmed_New'] = west_virginia_df.Confirmed_Cumulative.diff()\n",
    "idx = 1\n",
    "west_virginia_df.loc[idx, 'Confirmed_New'] = west_virginia_df.loc[idx, 'Confirmed_Cumulative']\n",
    "west_virginia_df.Confirmed_New = west_virginia_df.Confirmed_New.map(lambda x: int(x))\n",
    "s.store_objects(west_virginia_df=west_virginia_df)"
   ]
  },
  {
   "cell_type": "code",
   "execution_count": 45,
   "metadata": {},
   "outputs": [
    {
     "name": "stdout",
     "output_type": "stream",
     "text": [
      "Pickling to D:\\Documents\\Repositories\\notebooks\\covid19\\saves\\pickle\\washington_df.pickle\n"
     ]
    }
   ],
   "source": [
    "\n",
    "from datetime import datetime\n",
    "\n",
    "#!\"C:\\Program Files (x86)\\Google\\Chrome\\Application\\chrome.exe\" {tables_url}\n",
    "#tables_url = 'https://en.wikipedia.org/wiki/2020_coronavirus_pandemic_in_Washington_(state)'\n",
    "#tables_list = get_page_tables(tables_url)\n",
    "#!\"C:\\Program Files (x86)\\Google\\Chrome\\Application\\chrome.exe\" {tables_url}\n",
    "#print('{}_df = tables_list[xxx].copy()'.format(state_name.lower()))\n",
    "xlsx_dir = os.path.join(s.data_folder, 'xlsx')\n",
    "file_path = os.path.join(xlsx_dir, 'washington.xlsx')\n",
    "washington_df = pd.read_excel(file_path)\n",
    "washington_df.columns = washington_df.iloc[0].tolist()\n",
    "washington_df.columns = ['Date', None, None, 'Confirmed_Cumulative', None]\n",
    "columns_list = ['Date', 'Confirmed_Cumulative']\n",
    "washington_df = washington_df[columns_list]\n",
    "#washington_df.Date.to_dict()\n",
    "idx_list = list(range(1, 30))\n",
    "mask_series = washington_df.index.isin(idx_list)\n",
    "washington_df = washington_df[mask_series]\n",
    "for column_name in washington_df.columns:\n",
    "    if column_name == 'Date':\n",
    "        washington_df[column_name] = pd.to_datetime(washington_df[column_name])\n",
    "        pass\n",
    "    else:\n",
    "        washington_df[column_name] = washington_df[column_name].map(lambda x: re.sub('[^\\d]+', '', str(x).split('(')[0]))\n",
    "        washington_df[column_name] = pd.to_numeric(washington_df[column_name], errors='coerce')\n",
    "washington_df['Confirmed_New'] = washington_df.Confirmed_Cumulative.diff()\n",
    "idx = 1\n",
    "washington_df.loc[idx, 'Confirmed_New'] = washington_df.loc[idx, 'Confirmed_Cumulative']\n",
    "washington_df.Confirmed_New = washington_df.Confirmed_New.map(lambda x: int(x))\n",
    "s.store_objects(washington_df=washington_df)"
   ]
  },
  {
   "cell_type": "code",
   "execution_count": 27,
   "metadata": {},
   "outputs": [
    {
     "name": "stdout",
     "output_type": "stream",
     "text": [
      "Pickling to D:\\Documents\\Repositories\\notebooks\\covid19\\saves\\pickle\\virginia_df.pickle\n"
     ]
    }
   ],
   "source": [
    "\n",
    "virginia_df = tables_list[2].copy()\n",
    "virginia_df.columns = virginia_df.iloc[0].tolist()\n",
    "columns_list = [1, 3]\n",
    "virginia_df = virginia_df.iloc[:, columns_list]\n",
    "virginia_df.columns = ['Date', 'Confirmed_Cumulative']\n",
    "#virginia_df.Date.to_dict()\n",
    "idx_list = list(range(1, 21))\n",
    "mask_series = virginia_df.index.isin(idx_list)\n",
    "virginia_df = virginia_df[mask_series]\n",
    "for column_name in virginia_df.columns:\n",
    "    if column_name == 'Date':\n",
    "        virginia_df[column_name] = pd.to_datetime(virginia_df[column_name])\n",
    "        pass\n",
    "    else:\n",
    "        virginia_df[column_name] = virginia_df[column_name].map(lambda x: re.sub('[^\\d]+', '', str(x).split('(')[0]))\n",
    "        virginia_df[column_name] = pd.to_numeric(virginia_df[column_name], errors='coerce')\n",
    "virginia_df['Confirmed_New'] = virginia_df.Confirmed_Cumulative.diff()\n",
    "idx = 1\n",
    "virginia_df.loc[idx, 'Confirmed_New'] = virginia_df.loc[idx, 'Confirmed_Cumulative']\n",
    "virginia_df.Confirmed_New = virginia_df.Confirmed_New.map(lambda x: int(x))\n",
    "s.store_objects(virginia_df=virginia_df)"
   ]
  },
  {
   "cell_type": "code",
   "execution_count": 18,
   "metadata": {},
   "outputs": [
    {
     "name": "stdout",
     "output_type": "stream",
     "text": [
      "Pickling to D:\\Documents\\Repositories\\notebooks\\covid19\\saves\\pickle\\vermont_df.pickle\n"
     ]
    }
   ],
   "source": [
    "\n",
    "vermont_df = tables_list[2].copy()\n",
    "vermont_df.columns = vermont_df.iloc[0].tolist()\n",
    "columns_list = [1, 3, 4]\n",
    "vermont_df = vermont_df.iloc[:, columns_list]\n",
    "vermont_df.columns = ['Date', 'Confirmed_Cumulative', 'Deaths_Cumulative']\n",
    "#vermont_df.Date.to_dict()\n",
    "idx_list = list(range(1, 21))\n",
    "mask_series = vermont_df.index.isin(idx_list)\n",
    "vermont_df = vermont_df[mask_series]\n",
    "for column_name in vermont_df.columns:\n",
    "    if column_name == 'Date':\n",
    "        vermont_df[column_name] = pd.to_datetime(vermont_df[column_name])\n",
    "        pass\n",
    "    else:\n",
    "        vermont_df[column_name] = vermont_df[column_name].map(lambda x: re.sub('[^\\d]+', '', str(x).split('(')[0]))\n",
    "        vermont_df[column_name] = pd.to_numeric(vermont_df[column_name], errors='coerce')\n",
    "vermont_df['Confirmed_New'] = vermont_df.Confirmed_Cumulative.diff()\n",
    "idx = 1\n",
    "vermont_df.loc[idx, 'Confirmed_New'] = vermont_df.loc[idx, 'Confirmed_Cumulative']\n",
    "vermont_df.Confirmed_New = vermont_df.Confirmed_New.map(lambda x: int(x))\n",
    "vermont_df['Deaths_New'] = vermont_df.Deaths_Cumulative.diff()\n",
    "idx = 1\n",
    "vermont_df.loc[idx, 'Deaths_New'] = vermont_df.loc[idx, 'Deaths_Cumulative']\n",
    "vermont_df.Deaths_New = vermont_df.Deaths_New.map(lambda x: int(x))\n",
    "s.store_objects(vermont_df=vermont_df)"
   ]
  },
  {
   "cell_type": "code",
   "execution_count": 10,
   "metadata": {},
   "outputs": [
    {
     "name": "stdout",
     "output_type": "stream",
     "text": [
      "Pickling to D:\\Documents\\Repositories\\notebooks\\covid19\\saves\\pickle\\utah_df.pickle\n"
     ]
    }
   ],
   "source": [
    "\n",
    "utah_df = tables_list[2].copy()\n",
    "utah_df.columns = utah_df.iloc[0].tolist()\n",
    "columns_list = [1, 3]\n",
    "utah_df = utah_df.iloc[:, columns_list]\n",
    "utah_df.columns = ['Date', 'Confirmed_Cumulative']\n",
    "#utah_df.Date.to_dict()\n",
    "idx_list = list(range(1, 22))\n",
    "mask_series = utah_df.index.isin(idx_list)\n",
    "utah_df = utah_df[mask_series]\n",
    "for column_name in utah_df.columns:\n",
    "    if column_name == 'Date':\n",
    "        utah_df[column_name] = pd.to_datetime(utah_df[column_name])\n",
    "        pass\n",
    "    else:\n",
    "        utah_df[column_name] = utah_df[column_name].map(lambda x: re.sub('[^\\d]+', '', str(x).split('(')[0]))\n",
    "        utah_df[column_name] = pd.to_numeric(utah_df[column_name], errors='coerce')\n",
    "utah_df['Confirmed_New'] = utah_df.Confirmed_Cumulative.diff()\n",
    "idx = 1\n",
    "utah_df.loc[idx, 'Confirmed_New'] = utah_df.loc[idx, 'Confirmed_Cumulative']\n",
    "utah_df.Confirmed_New = utah_df.Confirmed_New.map(lambda x: int(x))\n",
    "s.store_objects(utah_df=utah_df)"
   ]
  },
  {
   "cell_type": "code",
   "execution_count": 454,
   "metadata": {},
   "outputs": [
    {
     "name": "stdout",
     "output_type": "stream",
     "text": [
      "Pickling to D:\\Documents\\Repositories\\notebooks\\covid19\\saves\\pickle\\tennessee_df.pickle\n"
     ]
    }
   ],
   "source": [
    "\n",
    "tennessee_df = tables_list[2].copy()\n",
    "tennessee_df.columns = ['Date', 'Confirmed_Cumulative', 'Deaths_Cumulative']\n",
    "def f(x):\n",
    "    date_str = str(x)\n",
    "    date_format = '%b %d, %Y'\n",
    "    date_obj = datetime.strptime('{}, 2020'.format(date_str), date_format)\n",
    "    \n",
    "    return date_obj\n",
    "for column_name in tennessee_df.columns:\n",
    "    if column_name == 'Date':\n",
    "        tennessee_df[column_name] = tennessee_df[column_name].map(f)\n",
    "        tennessee_df[column_name] = pd.to_datetime(tennessee_df[column_name])\n",
    "    else:\n",
    "        tennessee_df[column_name] = tennessee_df[column_name].map(lambda x: re.sub('[^\\d]+', '', str(x).split('-')[0]))\n",
    "        tennessee_df[column_name] = pd.to_numeric(tennessee_df[column_name], errors='coerce')\n",
    "tennessee_df = tennessee_df.sort_values('Date').reset_index(drop=True)\n",
    "tennessee_df['Confirmed_New'] = tennessee_df.Confirmed_Cumulative.diff()\n",
    "idx = 0\n",
    "tennessee_df.loc[idx, 'Confirmed_New'] = tennessee_df.loc[idx, 'Confirmed_Cumulative']\n",
    "tennessee_df.Confirmed_New = tennessee_df.Confirmed_New.map(lambda x: int(x))\n",
    "tennessee_df['Deaths_New'] = tennessee_df.Deaths_Cumulative.diff()\n",
    "idx = 0\n",
    "tennessee_df.loc[idx, 'Deaths_New'] = tennessee_df.loc[idx, 'Deaths_Cumulative']\n",
    "tennessee_df.Deaths_New = tennessee_df.Deaths_New.map(lambda x: int(x))\n",
    "s.store_objects(tennessee_df=tennessee_df)"
   ]
  },
  {
   "cell_type": "code",
   "execution_count": 434,
   "metadata": {},
   "outputs": [
    {
     "name": "stdout",
     "output_type": "stream",
     "text": [
      "Pickling to D:\\Documents\\Repositories\\notebooks\\covid19\\saves\\pickle\\south_carolina_df.pickle\n"
     ]
    }
   ],
   "source": [
    "\n",
    "south_carolina_df = tables_list[2].copy()\n",
    "south_carolina_df.columns = south_carolina_df.iloc[0].tolist()\n",
    "columns_list = [1, 3, 4]\n",
    "south_carolina_df = south_carolina_df.iloc[:, columns_list]\n",
    "south_carolina_df.columns = ['Date', 'Confirmed_Cumulative', 'Deaths_Cumulative']\n",
    "#south_carolina_df.Date.to_dict()\n",
    "idx_list = list(range(1, 20))\n",
    "mask_series = south_carolina_df.index.isin(idx_list)\n",
    "south_carolina_df = south_carolina_df[mask_series]\n",
    "for column_name in south_carolina_df.columns:\n",
    "    if column_name == 'Date':\n",
    "        south_carolina_df[column_name] = pd.to_datetime(south_carolina_df[column_name])\n",
    "        pass\n",
    "    else:\n",
    "        south_carolina_df[column_name] = south_carolina_df[column_name].map(lambda x: re.sub('[^\\d]+', '', str(x).split('(')[0]))\n",
    "        south_carolina_df[column_name] = pd.to_numeric(south_carolina_df[column_name], errors='coerce')\n",
    "south_carolina_df.Deaths_Cumulative = south_carolina_df.Deaths_Cumulative.ffill()\n",
    "south_carolina_df['Confirmed_New'] = south_carolina_df.Confirmed_Cumulative.diff()\n",
    "idx = 1\n",
    "south_carolina_df.loc[idx, 'Confirmed_New'] = south_carolina_df.loc[idx, 'Confirmed_Cumulative']\n",
    "south_carolina_df.Confirmed_New = south_carolina_df.Confirmed_New.map(lambda x: int(x))\n",
    "south_carolina_df['Deaths_New'] = south_carolina_df.Deaths_Cumulative.diff()\n",
    "idx = 10\n",
    "south_carolina_df.loc[idx, 'Deaths_New'] = south_carolina_df.loc[idx, 'Deaths_Cumulative']\n",
    "s.store_objects(south_carolina_df=south_carolina_df)"
   ]
  },
  {
   "cell_type": "code",
   "execution_count": 411,
   "metadata": {},
   "outputs": [
    {
     "name": "stdout",
     "output_type": "stream",
     "text": [
      "Pickling to D:\\Documents\\Repositories\\notebooks\\covid19\\saves\\pickle\\pennsylvania_df.pickle\n"
     ]
    }
   ],
   "source": [
    "\n",
    "pennsylvania_df = tables_list[2].copy()\n",
    "pennsylvania_df.columns = pennsylvania_df.iloc[0].tolist()\n",
    "columns_list = [1, 3]\n",
    "pennsylvania_df = pennsylvania_df.iloc[:, columns_list]\n",
    "pennsylvania_df.columns = ['Date', 'Confirmed_Cumulative']\n",
    "#pennsylvania_df.Date.to_dict()\n",
    "idx_list = list(range(1, 22))\n",
    "mask_series = pennsylvania_df.index.isin(idx_list)\n",
    "pennsylvania_df = pennsylvania_df[mask_series]\n",
    "for column_name in pennsylvania_df.columns:\n",
    "    if column_name == 'Date':\n",
    "        pennsylvania_df[column_name] = pd.to_datetime(pennsylvania_df[column_name])\n",
    "        pass\n",
    "    else:\n",
    "        pennsylvania_df[column_name] = pennsylvania_df[column_name].map(lambda x: re.sub('[^\\d]+', '', str(x).split('(')[0]))\n",
    "        pennsylvania_df[column_name] = pd.to_numeric(pennsylvania_df[column_name], errors='coerce')\n",
    "pennsylvania_df['Confirmed_New'] = pennsylvania_df.Confirmed_Cumulative.diff()\n",
    "idx = 1\n",
    "pennsylvania_df.loc[idx, 'Confirmed_New'] = pennsylvania_df.loc[idx, 'Confirmed_Cumulative']\n",
    "pennsylvania_df.Confirmed_New = pennsylvania_df.Confirmed_New.map(lambda x: int(x))\n",
    "s.store_objects(pennsylvania_df=pennsylvania_df)"
   ]
  },
  {
   "cell_type": "code",
   "execution_count": 402,
   "metadata": {},
   "outputs": [
    {
     "name": "stdout",
     "output_type": "stream",
     "text": [
      "Pickling to D:\\Documents\\Repositories\\notebooks\\covid19\\saves\\pickle\\oregon_df.pickle\n"
     ]
    }
   ],
   "source": [
    "\n",
    "oregon_df = tables_list[4].copy()\n",
    "oregon_df.columns = ['Date', 'Confirmed_New', 'Confirmed_Cumulative', 'Deaths_New', 'Deaths_Cumulative', 'Doubling_Time', 'Notes']\n",
    "def f(x):\n",
    "    date_str = str(x)\n",
    "    date_format = '%b %d, %Y'\n",
    "    date_obj = datetime.strptime('{}, 2020'.format(date_str), date_format)\n",
    "    \n",
    "    return date_obj\n",
    "for column_name in ['Date', 'Confirmed_New', 'Confirmed_Cumulative', 'Deaths_New', 'Deaths_Cumulative', 'Doubling_Time']:\n",
    "    if column_name == 'Date':\n",
    "        oregon_df[column_name] = oregon_df[column_name].map(f)\n",
    "        oregon_df[column_name] = pd.to_datetime(oregon_df[column_name])\n",
    "    else:\n",
    "        oregon_df[column_name] = oregon_df[column_name].map(lambda x: re.sub('[^\\d]+', '', str(x).split('(')[0]))\n",
    "        oregon_df[column_name] = pd.to_numeric(oregon_df[column_name], errors='coerce')\n",
    "s.store_objects(oregon_df=oregon_df)"
   ]
  },
  {
   "cell_type": "code",
   "execution_count": 385,
   "metadata": {},
   "outputs": [
    {
     "name": "stdout",
     "output_type": "stream",
     "text": [
      "Pickling to D:\\Documents\\Repositories\\notebooks\\covid19\\saves\\pickle\\ohio_df.pickle\n"
     ]
    }
   ],
   "source": [
    "\n",
    "ohio_df = tables_list[2].copy()\n",
    "ohio_df.columns = ohio_df.iloc[0].tolist()\n",
    "columns_list = [1, 3]\n",
    "ohio_df = ohio_df.iloc[:, columns_list]\n",
    "ohio_df.columns = ['Date', 'Confirmed_Cumulative']\n",
    "#ohio_df.Date.to_dict()\n",
    "idx_list = [1] + list(range(3, 19))\n",
    "mask_series = ohio_df.index.isin(idx_list)\n",
    "ohio_df = ohio_df[mask_series]\n",
    "for column_name in ohio_df.columns:\n",
    "    if column_name == 'Date':\n",
    "        ohio_df[column_name] = pd.to_datetime(ohio_df[column_name])\n",
    "        pass\n",
    "    else:\n",
    "        ohio_df[column_name] = ohio_df[column_name].map(lambda x: re.sub('[^\\d]+', '', str(x).split('(')[0]))\n",
    "        ohio_df[column_name] = pd.to_numeric(ohio_df[column_name], errors='coerce')\n",
    "ohio_df['Confirmed_New'] = ohio_df.Confirmed_Cumulative.diff()\n",
    "idx = 1\n",
    "ohio_df.loc[idx, 'Confirmed_New'] = ohio_df.loc[idx, 'Confirmed_Cumulative']\n",
    "ohio_df.Confirmed_New = ohio_df.Confirmed_New.map(lambda x: int(x))\n",
    "s.store_objects(ohio_df=ohio_df)"
   ]
  },
  {
   "cell_type": "code",
   "execution_count": 364,
   "metadata": {},
   "outputs": [
    {
     "name": "stdout",
     "output_type": "stream",
     "text": [
      "Pickling to D:\\Documents\\Repositories\\notebooks\\covid19\\saves\\pickle\\north_carolina_df.pickle\n"
     ]
    }
   ],
   "source": [
    "\n",
    "north_carolina_df = tables_list[2].copy()\n",
    "north_carolina_df.columns = north_carolina_df.iloc[0].tolist()\n",
    "columns_list = [1, 3]\n",
    "north_carolina_df = north_carolina_df.iloc[:, columns_list]\n",
    "north_carolina_df.columns = ['Date', 'Confirmed_Cumulative']\n",
    "#north_carolina_df.Date.to_dict()\n",
    "idx_list = list(range(1, 16))\n",
    "mask_series = north_carolina_df.index.isin(idx_list)\n",
    "north_carolina_df = north_carolina_df[mask_series]\n",
    "for column_name in north_carolina_df.columns:\n",
    "    if column_name == 'Date':\n",
    "        north_carolina_df[column_name] = pd.to_datetime(north_carolina_df[column_name])\n",
    "        pass\n",
    "    else:\n",
    "        north_carolina_df[column_name] = north_carolina_df[column_name].map(lambda x: re.sub('[^\\d]+', '', str(x).split('(')[0]))\n",
    "        north_carolina_df[column_name] = pd.to_numeric(north_carolina_df[column_name], errors='coerce')\n",
    "north_carolina_df['Confirmed_New'] = north_carolina_df.Confirmed_Cumulative.diff()\n",
    "idx = 1\n",
    "north_carolina_df.loc[idx, 'Confirmed_New'] = north_carolina_df.loc[idx, 'Confirmed_Cumulative']\n",
    "north_carolina_df.Confirmed_New = north_carolina_df.Confirmed_New.map(lambda x: int(x))\n",
    "s.store_objects(north_carolina_df=north_carolina_df)"
   ]
  },
  {
   "cell_type": "code",
   "execution_count": 53,
   "metadata": {},
   "outputs": [
    {
     "name": "stdout",
     "output_type": "stream",
     "text": [
      "Pickling to D:\\Documents\\Repositories\\notebooks\\covid19\\saves\\pickle\\new_york_df.pickle\n"
     ]
    }
   ],
   "source": [
    "\n",
    "from datetime import datetime\n",
    "\n",
    "#tables_url = 'https://en.wikipedia.org/wiki/2020_coronavirus_pandemic_in_New_York_(state)'\n",
    "#tables_list = get_page_tables(tables_url)\n",
    "#!\"C:\\Program Files (x86)\\Google\\Chrome\\Application\\chrome.exe\" {tables_url}\n",
    "#print('{}_df = tables_list[xxx].copy()'.format(state_name.lower()))\n",
    "xlsx_dir = os.path.join(s.data_folder, 'xlsx')\n",
    "file_path = os.path.join(xlsx_dir, 'new_york.xlsx')\n",
    "new_york_df = pd.read_excel(file_path)\n",
    "new_york_df.columns = new_york_df.iloc[1].tolist()\n",
    "new_york_df.columns = ['Date', None, None, 'Confirmed_Cumulative', 'Deaths_Cumulative']\n",
    "columns_list = ['Date', 'Confirmed_Cumulative', 'Deaths_Cumulative']\n",
    "new_york_df = new_york_df[columns_list]\n",
    "#new_york_df.Date.to_dict()\n",
    "idx_list = list(range(2, 28))\n",
    "mask_series = new_york_df.index.isin(idx_list)\n",
    "new_york_df = new_york_df[mask_series]\n",
    "for column_name in new_york_df.columns:\n",
    "    if column_name == 'Date':\n",
    "        new_york_df[column_name] = pd.to_datetime(new_york_df[column_name])\n",
    "        pass\n",
    "    else:\n",
    "        new_york_df[column_name] = new_york_df[column_name].map(lambda x: re.sub('[^\\d]+', '', str(x).split('(')[0]))\n",
    "        new_york_df[column_name] = pd.to_numeric(new_york_df[column_name], errors='coerce')\n",
    "new_york_df.Deaths_Cumulative = new_york_df.Deaths_Cumulative.fillna(0)\n",
    "new_york_df.Deaths_Cumulative = new_york_df.Deaths_Cumulative.map(lambda x: int(x))\n",
    "new_york_df['Confirmed_New'] = new_york_df.Confirmed_Cumulative.diff()\n",
    "idx = 2\n",
    "new_york_df.loc[idx, 'Confirmed_New'] = new_york_df.loc[idx, 'Confirmed_Cumulative']\n",
    "new_york_df.Confirmed_New = new_york_df.Confirmed_New.map(lambda x: int(x))\n",
    "new_york_df['Deaths_New'] = new_york_df.Deaths_Cumulative.diff()\n",
    "idx = 2\n",
    "new_york_df.loc[idx, 'Deaths_New'] = new_york_df.loc[idx, 'Deaths_Cumulative']\n",
    "new_york_df.Deaths_New = new_york_df.Deaths_New.map(lambda x: int(x))\n",
    "s.store_objects(new_york_df=new_york_df)"
   ]
  },
  {
   "cell_type": "code",
   "execution_count": 332,
   "metadata": {},
   "outputs": [
    {
     "name": "stdout",
     "output_type": "stream",
     "text": [
      "Pickling to D:\\Documents\\Repositories\\notebooks\\covid19\\saves\\pickle\\new_mexico_df.pickle\n"
     ]
    }
   ],
   "source": [
    "\n",
    "new_mexico_df = tables_list[2].copy()\n",
    "new_mexico_df.columns = new_mexico_df.iloc[0].tolist()\n",
    "columns_list = [1, 3]\n",
    "new_mexico_df = new_mexico_df.iloc[:, columns_list]\n",
    "new_mexico_df.columns = ['Date', 'Confirmed_Cumulative']\n",
    "#new_mexico_df.Date.to_dict()\n",
    "idx_list = list(range(1, 12))\n",
    "mask_series = new_mexico_df.index.isin(idx_list)\n",
    "new_mexico_df = new_mexico_df[mask_series]\n",
    "for column_name in new_mexico_df.columns:\n",
    "    if column_name == 'Date':\n",
    "        new_mexico_df[column_name] = pd.to_datetime(new_mexico_df[column_name])\n",
    "        pass\n",
    "    else:\n",
    "        new_mexico_df[column_name] = new_mexico_df[column_name].map(lambda x: re.sub('[^\\d]+', '', str(x).split('(')[0]))\n",
    "        new_mexico_df[column_name] = pd.to_numeric(new_mexico_df[column_name], errors='coerce')\n",
    "new_mexico_df['Confirmed_New'] = new_mexico_df.Confirmed_Cumulative.diff()\n",
    "idx = 1\n",
    "new_mexico_df.loc[idx, 'Confirmed_New'] = new_mexico_df.loc[idx, 'Confirmed_Cumulative']\n",
    "new_mexico_df.Confirmed_New = new_mexico_df.Confirmed_New.map(lambda x: int(x))\n",
    "s.store_objects(new_mexico_df=new_mexico_df)"
   ]
  },
  {
   "cell_type": "code",
   "execution_count": 321,
   "metadata": {},
   "outputs": [
    {
     "name": "stdout",
     "output_type": "stream",
     "text": [
      "Pickling to D:\\Documents\\Repositories\\notebooks\\covid19\\saves\\pickle\\new_jersey_df.pickle\n"
     ]
    }
   ],
   "source": [
    "\n",
    "new_jersey_df = tables_list[2].copy()\n",
    "new_jersey_df.columns = new_jersey_df.iloc[0].tolist()\n",
    "columns_list = [1, 3]\n",
    "new_jersey_df = new_jersey_df.iloc[:, columns_list]\n",
    "new_jersey_df.columns = ['Date', 'Confirmed_Cumulative']\n",
    "#new_jersey_df.Date.to_dict()\n",
    "idx_list = list(range(1, 24))\n",
    "mask_series = new_jersey_df.index.isin(idx_list)\n",
    "new_jersey_df = new_jersey_df[mask_series]\n",
    "for column_name in new_jersey_df.columns:\n",
    "    if column_name == 'Date':\n",
    "        new_jersey_df[column_name] = pd.to_datetime(new_jersey_df[column_name])\n",
    "        pass\n",
    "    else:\n",
    "        new_jersey_df[column_name] = new_jersey_df[column_name].map(lambda x: re.sub('[^\\d]+', '', str(x).split('(')[0]))\n",
    "        new_jersey_df[column_name] = pd.to_numeric(new_jersey_df[column_name], errors='coerce')\n",
    "new_jersey_df['Confirmed_New'] = new_jersey_df.Confirmed_Cumulative.diff()\n",
    "idx = 1\n",
    "new_jersey_df.loc[idx, 'Confirmed_New'] = new_jersey_df.loc[idx, 'Confirmed_Cumulative']\n",
    "new_jersey_df.Confirmed_New = new_jersey_df.Confirmed_New.map(lambda x: int(x))\n",
    "s.store_objects(new_jersey_df=new_jersey_df)"
   ]
  },
  {
   "cell_type": "code",
   "execution_count": 269,
   "metadata": {},
   "outputs": [
    {
     "name": "stdout",
     "output_type": "stream",
     "text": [
      "Pickling to D:\\Documents\\Repositories\\notebooks\\covid19\\saves\\pickle\\mississippi_df.pickle\n"
     ]
    }
   ],
   "source": [
    "\n",
    "mississippi_df = tables_list[2].copy()\n",
    "mississippi_df.columns = mississippi_df.iloc[0].tolist()\n",
    "columns_list = [1, 3]\n",
    "mississippi_df = mississippi_df.iloc[:, columns_list]\n",
    "mississippi_df.columns = ['Date', 'Confirmed_Cumulative']\n",
    "#mississippi_df.Date.to_dict()\n",
    "idx_list = list(range(1, 15))\n",
    "mask_series = mississippi_df.index.isin(idx_list)\n",
    "mississippi_df = mississippi_df[mask_series]\n",
    "for column_name in mississippi_df.columns:\n",
    "    if column_name == 'Date':\n",
    "        mississippi_df[column_name] = pd.to_datetime(mississippi_df[column_name])\n",
    "        pass\n",
    "    else:\n",
    "        mississippi_df[column_name] = mississippi_df[column_name].map(lambda x: re.sub('[^\\d]+', '', str(x).split('(')[0]))\n",
    "        mississippi_df[column_name] = pd.to_numeric(mississippi_df[column_name], errors='coerce')\n",
    "mississippi_df['Confirmed_New'] = mississippi_df.Confirmed_Cumulative.diff()\n",
    "idx = 1\n",
    "mississippi_df.loc[idx, 'Confirmed_New'] = mississippi_df.loc[idx, 'Confirmed_Cumulative']\n",
    "mississippi_df.Confirmed_New = mississippi_df.Confirmed_New.map(lambda x: int(x))\n",
    "s.store_objects(mississippi_df=mississippi_df)"
   ]
  },
  {
   "cell_type": "code",
   "execution_count": 252,
   "metadata": {},
   "outputs": [
    {
     "name": "stdout",
     "output_type": "stream",
     "text": [
      "Pickling to D:\\Documents\\Repositories\\notebooks\\covid19\\saves\\pickle\\michigan_df.pickle\n"
     ]
    }
   ],
   "source": [
    "\n",
    "michigan_df = tables_list[2].copy()\n",
    "michigan_df.columns = michigan_df.iloc[0].tolist()\n",
    "columns_list = [1, 3]\n",
    "michigan_df = michigan_df.iloc[:, columns_list]\n",
    "michigan_df.columns = ['Date', 'Confirmed_Cumulative']\n",
    "#michigan_df.Date.to_dict()\n",
    "idx_list = list(range(1, 18))\n",
    "mask_series = michigan_df.index.isin(idx_list)\n",
    "michigan_df = michigan_df[mask_series]\n",
    "for column_name in michigan_df.columns:\n",
    "    if column_name == 'Date':\n",
    "        michigan_df[column_name] = pd.to_datetime(michigan_df[column_name])\n",
    "        pass\n",
    "    else:\n",
    "        michigan_df[column_name] = michigan_df[column_name].map(lambda x: re.sub('[^\\d]+', '', str(x).split('(')[0]))\n",
    "        michigan_df[column_name] = pd.to_numeric(michigan_df[column_name], errors='coerce')\n",
    "michigan_df['Confirmed_New'] = michigan_df.Confirmed_Cumulative.diff()\n",
    "idx = 1\n",
    "michigan_df.loc[idx, 'Confirmed_New'] = michigan_df.loc[idx, 'Confirmed_Cumulative']\n",
    "michigan_df.Confirmed_New = michigan_df.Confirmed_New.map(lambda x: int(x))\n",
    "s.store_objects(michigan_df=michigan_df)"
   ]
  },
  {
   "cell_type": "code",
   "execution_count": 243,
   "metadata": {},
   "outputs": [
    {
     "name": "stdout",
     "output_type": "stream",
     "text": [
      "Pickling to D:\\Documents\\Repositories\\notebooks\\covid19\\saves\\pickle\\massachusetts_df.pickle\n"
     ]
    }
   ],
   "source": [
    "\n",
    "massachusetts_df = tables_list[5].copy()\n",
    "massachusetts_df.columns = ['Date', 'Confirmed_Cumulative', 'Confirmed_New', '% Δ', 'Presumptive_Cumulative', 'CDC_Confirmed_Cumulative',\n",
    "                            'Exposure_Biogen_Cumulative', 'Exposure_Local_Cumulative', 'Exposure_Travel_Cumulative',\n",
    "                            'Exposure_Unknown_Cumulative', 'Hospitalized_New', 'Unhospitalized_New', 'Hospitalization_Unknown_New',\n",
    "                            'Source']\n",
    "#massachusetts_df.Date.to_dict()\n",
    "idx_list = [0, 2] + list(range(4, 26))\n",
    "mask_series = massachusetts_df.index.isin(idx_list)\n",
    "massachusetts_df = massachusetts_df[mask_series]\n",
    "def f(x):\n",
    "    date_str = str(x)\n",
    "    date_format = '%B %d, %Y'\n",
    "    date_obj = datetime.strptime('{}, 2020'.format(date_str), date_format)\n",
    "    \n",
    "    return date_obj\n",
    "for column_name in massachusetts_df.columns:\n",
    "    if column_name == 'Date':\n",
    "        massachusetts_df[column_name] = massachusetts_df[column_name].map(f)\n",
    "        massachusetts_df[column_name] = pd.to_datetime(massachusetts_df[column_name])\n",
    "        pass\n",
    "    else:\n",
    "        massachusetts_df[column_name] = massachusetts_df[column_name].map(lambda x: re.sub('[^\\d]+', '', str(x).split('(')[0]))\n",
    "        massachusetts_df[column_name] = pd.to_numeric(massachusetts_df[column_name], errors='coerce')\n",
    "#columns_list = ['Date', 'Confirmed_Cumulative', 'Confirmed_New']\n",
    "#massachusetts_df[columns_list]\n",
    "s.store_objects(massachusetts_df=massachusetts_df)"
   ]
  },
  {
   "cell_type": "code",
   "execution_count": 227,
   "metadata": {},
   "outputs": [
    {
     "name": "stdout",
     "output_type": "stream",
     "text": [
      "Pickling to D:\\Documents\\Repositories\\notebooks\\covid19\\saves\\pickle\\maryland_df.pickle\n"
     ]
    }
   ],
   "source": [
    "\n",
    "maryland_df = tables_list[2].copy()\n",
    "maryland_df.columns = maryland_df.iloc[0].tolist()\n",
    "columns_list = [1, 3]\n",
    "maryland_df = maryland_df.iloc[:, columns_list]\n",
    "maryland_df.columns = ['Date', 'Confirmed_Cumulative']\n",
    "#maryland_df.Date.to_dict()\n",
    "idx_list = list(range(1, 23))\n",
    "mask_series = maryland_df.index.isin(idx_list)\n",
    "maryland_df = maryland_df[mask_series]\n",
    "for column_name in maryland_df.columns:\n",
    "    if column_name == 'Date':\n",
    "        maryland_df[column_name] = pd.to_datetime(maryland_df[column_name])\n",
    "        pass\n",
    "    else:\n",
    "        maryland_df[column_name] = maryland_df[column_name].map(lambda x: re.sub('[^\\d]+', '', str(x).split('(')[0]))\n",
    "        maryland_df[column_name] = pd.to_numeric(maryland_df[column_name], errors='coerce')\n",
    "maryland_df['Confirmed_New'] = maryland_df.Confirmed_Cumulative.diff()\n",
    "idx = 1\n",
    "maryland_df.loc[idx, 'Confirmed_New'] = maryland_df.loc[idx, 'Confirmed_Cumulative']\n",
    "maryland_df.Confirmed_New = maryland_df.Confirmed_New.map(lambda x: int(x))\n",
    "s.store_objects(maryland_df=maryland_df)"
   ]
  },
  {
   "cell_type": "code",
   "execution_count": 208,
   "metadata": {},
   "outputs": [
    {
     "name": "stdout",
     "output_type": "stream",
     "text": [
      "Pickling to D:\\Documents\\Repositories\\notebooks\\covid19\\saves\\pickle\\louisiana_df.pickle\n"
     ]
    }
   ],
   "source": [
    "\n",
    "louisiana_df = tables_list[2].copy()\n",
    "louisiana_df.columns = louisiana_df.iloc[0].tolist()\n",
    "columns_list = [1, 3]\n",
    "louisiana_df = louisiana_df.iloc[:, columns_list]\n",
    "louisiana_df.columns = ['Date', 'Confirmed_Cumulative']\n",
    "#louisiana_df.Date.to_dict()\n",
    "idx_list = list(range(1, 19))\n",
    "mask_series = louisiana_df.index.isin(idx_list)\n",
    "louisiana_df = louisiana_df[mask_series]\n",
    "for column_name in louisiana_df.columns:\n",
    "    if column_name == 'Date':\n",
    "        louisiana_df[column_name] = pd.to_datetime(louisiana_df[column_name])\n",
    "        pass\n",
    "    else:\n",
    "        louisiana_df[column_name] = louisiana_df[column_name].map(lambda x: re.sub('[^\\d]+', '', str(x).split('(')[0]))\n",
    "        louisiana_df[column_name] = pd.to_numeric(louisiana_df[column_name], errors='coerce')\n",
    "louisiana_df['Confirmed_New'] = louisiana_df.Confirmed_Cumulative.diff()\n",
    "idx = 1\n",
    "louisiana_df.loc[idx, 'Confirmed_New'] = louisiana_df.loc[idx, 'Confirmed_Cumulative']\n",
    "louisiana_df.Confirmed_New = louisiana_df.Confirmed_New.map(lambda x: int(x))\n",
    "s.store_objects(louisiana_df=louisiana_df)"
   ]
  },
  {
   "cell_type": "code",
   "execution_count": 190,
   "metadata": {},
   "outputs": [
    {
     "name": "stdout",
     "output_type": "stream",
     "text": [
      "Pickling to D:\\Documents\\Repositories\\notebooks\\covid19\\saves\\pickle\\kansas_df.pickle\n"
     ]
    }
   ],
   "source": [
    "\n",
    "kansas_df = tables_list[2].copy()\n",
    "kansas_df.columns = kansas_df.iloc[0].tolist()\n",
    "columns_list = [1, 3]\n",
    "kansas_df = kansas_df.iloc[:, columns_list]\n",
    "kansas_df.columns = ['Date', 'Confirmed_Cumulative']\n",
    "#kansas_df.Date.to_dict()\n",
    "idx_list = list(range(1, 21))\n",
    "mask_series = kansas_df.index.isin(idx_list)\n",
    "kansas_df = kansas_df[mask_series]\n",
    "for column_name in kansas_df.columns:\n",
    "    if column_name == 'Date':\n",
    "        kansas_df[column_name] = pd.to_datetime(kansas_df[column_name])\n",
    "        pass\n",
    "    else:\n",
    "        kansas_df[column_name] = kansas_df[column_name].map(lambda x: re.sub('[^\\d]+', '', str(x).split('(')[0]))\n",
    "        kansas_df[column_name] = pd.to_numeric(kansas_df[column_name], errors='coerce')\n",
    "kansas_df['Confirmed_New'] = kansas_df.Confirmed_Cumulative.diff()\n",
    "idx = 1\n",
    "kansas_df.loc[idx, 'Confirmed_New'] = kansas_df.loc[idx, 'Confirmed_Cumulative']\n",
    "kansas_df.Confirmed_New = kansas_df.Confirmed_New.map(lambda x: int(x))\n",
    "s.store_objects(kansas_df=kansas_df)"
   ]
  },
  {
   "cell_type": "code",
   "execution_count": 181,
   "metadata": {},
   "outputs": [
    {
     "name": "stdout",
     "output_type": "stream",
     "text": [
      "Pickling to D:\\Documents\\Repositories\\notebooks\\covid19\\saves\\pickle\\iowa_df.pickle\n"
     ]
    }
   ],
   "source": [
    "\n",
    "iowa_df = tables_list[2].copy()\n",
    "iowa_df.columns = iowa_df.iloc[0].tolist()\n",
    "columns_list = [1, 3]\n",
    "iowa_df = iowa_df.iloc[:, columns_list]\n",
    "iowa_df.columns = ['Date', 'Confirmed_Cumulative']\n",
    "#iowa_df.Date.to_dict()\n",
    "idx_list = list(range(1, 19))\n",
    "mask_series = iowa_df.index.isin(idx_list)\n",
    "iowa_df = iowa_df[mask_series]\n",
    "for column_name in iowa_df.columns:\n",
    "    if column_name == 'Date':\n",
    "        iowa_df[column_name] = pd.to_datetime(iowa_df[column_name])\n",
    "        pass\n",
    "    else:\n",
    "        iowa_df[column_name] = iowa_df[column_name].map(lambda x: re.sub('[^\\d]+', '', str(x).split('(')[0]))\n",
    "        iowa_df[column_name] = pd.to_numeric(iowa_df[column_name], errors='coerce')\n",
    "iowa_df['Confirmed_New'] = iowa_df.Confirmed_Cumulative.diff()\n",
    "idx = 1\n",
    "iowa_df.loc[idx, 'Confirmed_New'] = iowa_df.loc[idx, 'Confirmed_Cumulative']\n",
    "iowa_df.Confirmed_New = iowa_df.Confirmed_New.map(lambda x: int(x))\n",
    "s.store_objects(iowa_df=iowa_df)"
   ]
  },
  {
   "cell_type": "code",
   "execution_count": 173,
   "metadata": {},
   "outputs": [
    {
     "name": "stdout",
     "output_type": "stream",
     "text": [
      "Pickling to D:\\Documents\\Repositories\\notebooks\\covid19\\saves\\pickle\\indiana_df.pickle\n"
     ]
    }
   ],
   "source": [
    "\n",
    "indiana_df = tables_list[2].copy()\n",
    "indiana_df.columns = indiana_df.iloc[0].tolist()\n",
    "columns_list = [1, 3]\n",
    "indiana_df = indiana_df.iloc[:, columns_list]\n",
    "indiana_df.columns = ['Date', 'Confirmed_Cumulative']\n",
    "#indiana_df.Date.to_dict()\n",
    "idx_list = list(range(1, 21))\n",
    "mask_series = indiana_df.index.isin(idx_list)\n",
    "indiana_df = indiana_df[mask_series]\n",
    "for column_name in indiana_df.columns:\n",
    "    if column_name == 'Date':\n",
    "        indiana_df[column_name] = pd.to_datetime(indiana_df[column_name])\n",
    "        pass\n",
    "    else:\n",
    "        indiana_df[column_name] = indiana_df[column_name].map(lambda x: re.sub('[^\\d]+', '', str(x).split('(')[0]))\n",
    "        indiana_df[column_name] = pd.to_numeric(indiana_df[column_name], errors='coerce')\n",
    "indiana_df['Confirmed_New'] = indiana_df.Confirmed_Cumulative.diff()\n",
    "idx = 1\n",
    "indiana_df.loc[idx, 'Confirmed_New'] = indiana_df.loc[idx, 'Confirmed_Cumulative']\n",
    "indiana_df.Confirmed_New = indiana_df.Confirmed_New.map(lambda x: int(x))\n",
    "s.store_objects(indiana_df=indiana_df)"
   ]
  },
  {
   "cell_type": "code",
   "execution_count": 163,
   "metadata": {},
   "outputs": [
    {
     "name": "stdout",
     "output_type": "stream",
     "text": [
      "Pickling to D:\\Documents\\Repositories\\notebooks\\covid19\\saves\\pickle\\illinois_df.pickle\n"
     ]
    }
   ],
   "source": [
    "\n",
    "illinois_df = tables_list[2].copy()\n",
    "illinois_df.columns = illinois_df.iloc[0].tolist()\n",
    "columns_list = [1, 3, 4]\n",
    "illinois_df = illinois_df.iloc[:, columns_list]\n",
    "illinois_df.columns = ['Date', 'Confirmed_Cumulative', 'Deaths_Cumulative']\n",
    "#illinois_df.Date.to_dict()\n",
    "idx_list = [1, 3, 5, 7] + list(range(9, 11)) + list(range(12, 31))\n",
    "mask_series = illinois_df.index.isin(idx_list)\n",
    "illinois_df = illinois_df[mask_series]\n",
    "for column_name in illinois_df.columns:\n",
    "    if column_name == 'Date':\n",
    "        illinois_df[column_name] = pd.to_datetime(illinois_df[column_name])\n",
    "        pass\n",
    "    else:\n",
    "        illinois_df[column_name] = illinois_df[column_name].map(lambda x: re.sub('[^\\d]+', '', str(x).split('(')[0]))\n",
    "        illinois_df[column_name] = pd.to_numeric(illinois_df[column_name], errors='coerce')\n",
    "illinois_df['Confirmed_New'] = illinois_df.Confirmed_Cumulative.diff()\n",
    "idx = 1\n",
    "illinois_df.loc[idx, 'Confirmed_New'] = illinois_df.loc[idx, 'Confirmed_Cumulative']\n",
    "illinois_df.Confirmed_New = illinois_df.Confirmed_New.map(lambda x: int(x))\n",
    "illinois_df['Deaths_New'] = illinois_df.Deaths_Cumulative.diff()\n",
    "idx = 21\n",
    "illinois_df.loc[idx, 'Deaths_New'] = illinois_df.loc[idx, 'Deaths_Cumulative']\n",
    "s.store_objects(illinois_df=illinois_df)"
   ]
  },
  {
   "cell_type": "code",
   "execution_count": 144,
   "metadata": {},
   "outputs": [
    {
     "name": "stdout",
     "output_type": "stream",
     "text": [
      "Pickling to D:\\Documents\\Repositories\\notebooks\\covid19\\saves\\pickle\\hawaii_df.pickle\n"
     ]
    }
   ],
   "source": [
    "\n",
    "hawaii_df = tables_list[2].copy()\n",
    "hawaii_df.columns = hawaii_df.iloc[0].tolist()\n",
    "columns_list = [1, 3]\n",
    "hawaii_df = hawaii_df.iloc[:, columns_list]\n",
    "hawaii_df.columns = ['Date', 'Confirmed_Cumulative']\n",
    "#hawaii_df.Date.to_dict()\n",
    "idx_list = list(range(1, 4)) + list(range(5, 17))\n",
    "mask_series = hawaii_df.index.isin(idx_list)\n",
    "hawaii_df = hawaii_df[mask_series]\n",
    "for column_name in hawaii_df.columns:\n",
    "    if column_name == 'Date':\n",
    "        hawaii_df[column_name] = pd.to_datetime(hawaii_df[column_name])\n",
    "        pass\n",
    "    else:\n",
    "        hawaii_df[column_name] = hawaii_df[column_name].map(lambda x: re.sub('[^\\d]+', '', str(x).split('(')[0]))\n",
    "        hawaii_df[column_name] = pd.to_numeric(hawaii_df[column_name], errors='coerce')\n",
    "hawaii_df['Confirmed_New'] = hawaii_df.Confirmed_Cumulative.diff()\n",
    "idx = 1\n",
    "hawaii_df.loc[idx, 'Confirmed_New'] = hawaii_df.loc[idx, 'Confirmed_Cumulative']\n",
    "hawaii_df.Confirmed_New = hawaii_df.Confirmed_New.map(lambda x: int(x))\n",
    "s.store_objects(hawaii_df=hawaii_df)"
   ]
  },
  {
   "cell_type": "code",
   "execution_count": 135,
   "metadata": {},
   "outputs": [
    {
     "name": "stdout",
     "output_type": "stream",
     "text": [
      "Pickling to D:\\Documents\\Repositories\\notebooks\\covid19\\saves\\pickle\\georgia_df.pickle\n"
     ]
    }
   ],
   "source": [
    "\n",
    "from datetime import datetime\n",
    "\n",
    "#print(['urllib.parse.{}'.format(fn) for fn in dir(urllib.parse) if not fn.startswith('_')])\n",
    "#tables_url = 'https://en.wikipedia.org/wiki/2020_coronavirus_pandemic_in_Georgia_(U.S._state)'\n",
    "#!\"C:\\Program Files (x86)\\Google\\Chrome\\Application\\chrome.exe\" {tables_url}\n",
    "#tables_list = get_page_tables(urllib.parse.quote_plus(tables_url))\n",
    "#georgia_df = tables_list[0].copy()\n",
    "xlsx_dir = os.path.join(s.data_folder, 'xlsx')\n",
    "file_path = os.path.join(xlsx_dir, 'georgia.xlsx')\n",
    "georgia_df = pd.read_excel(file_path)\n",
    "georgia_df.columns = georgia_df.iloc[0].tolist()\n",
    "georgia_df.columns = ['Date', 'Baker', 'Baldwin', 'Barrow', 'Bartow', 'Ben_Hill', 'Bibb', 'Bryan', 'Burke', 'Butts', 'Camden', 'Carroll',\n",
    "                      'Catoosa', 'Charlton', 'Chatham', 'Chattooga', 'Cherokee', 'Clarke', 'Clayton', 'Clinch', 'Cobb', 'Coffee',\n",
    "                      'Colquitt', 'Columbia', 'Coweta', 'Crisp', 'Dawson', 'Decatur', 'DeKalb', 'Dodge', 'Dougherty', 'Douglas',\n",
    "                      'Early', 'Effingham', 'Fannin', 'Fayette', 'Floyd', 'Forsyth', 'Fulton', 'Glynn', 'Gordon', 'Greene', 'Gwinnett',\n",
    "                      'Hall', 'Harris', 'Heard', 'Henry', 'Houston', 'Irwin', 'Jackson', 'Jasper', 'Jones', 'Lamar', 'Laurens', 'Lee',\n",
    "                      'Liberty', 'Lincoln', 'Long', 'Lowndes', 'Lumpkin', 'Macon', 'Madison', 'Meriwether', 'Miller', 'Mitchell', 'Monroe',\n",
    "                      'Morgan', 'Muscogee', 'Newton', 'Oconee', 'Paulding', 'Peach', 'Pickens', 'Pierce', 'Polk', 'Pulaski', 'Randolph',\n",
    "                      'Richmond', 'Rockdale', 'Seminole', 'Spalding', 'Stephens', 'Sumter', 'Tattnall', 'Taylor', 'Telfair', 'Terrell',\n",
    "                      'Thomas', 'Tift', 'Troup', 'Turner', 'Twiggs', 'Walton', 'Ware', 'Washington', 'White', 'Whitfield', 'Worth',\n",
    "                      'Unknown', None, 'Confirmed_New', 'Confirmed_Cumulative', None, 'Hospitalizations_Cumulative',\n",
    "                      'Positive_Tests_Cumulative', 'Tests_Cumulative']\n",
    "columns_list = ['Date', 'Baker', 'Baldwin', 'Barrow', 'Bartow', 'Ben_Hill', 'Bibb', 'Bryan', 'Burke', 'Butts', 'Camden', 'Carroll',\n",
    "                'Catoosa', 'Charlton', 'Chatham', 'Chattooga', 'Cherokee', 'Clarke', 'Clayton', 'Clinch', 'Cobb', 'Coffee',\n",
    "                'Colquitt', 'Columbia', 'Coweta', 'Crisp', 'Dawson', 'Decatur', 'DeKalb', 'Dodge', 'Dougherty', 'Douglas',\n",
    "                'Early', 'Effingham', 'Fannin', 'Fayette', 'Floyd', 'Forsyth', 'Fulton', 'Glynn', 'Gordon', 'Greene', 'Gwinnett',\n",
    "                'Hall', 'Harris', 'Heard', 'Henry', 'Houston', 'Irwin', 'Jackson', 'Jasper', 'Jones', 'Lamar', 'Laurens', 'Lee',\n",
    "                'Liberty', 'Lincoln', 'Long', 'Lowndes', 'Lumpkin', 'Macon', 'Madison', 'Meriwether', 'Miller', 'Mitchell', 'Monroe',\n",
    "                'Morgan', 'Muscogee', 'Newton', 'Oconee', 'Paulding', 'Peach', 'Pickens', 'Pierce', 'Polk', 'Pulaski', 'Randolph',\n",
    "                'Richmond', 'Rockdale', 'Seminole', 'Spalding', 'Stephens', 'Sumter', 'Tattnall', 'Taylor', 'Telfair', 'Terrell',\n",
    "                'Thomas', 'Tift', 'Troup', 'Turner', 'Twiggs', 'Walton', 'Ware', 'Washington', 'White', 'Whitfield', 'Worth',\n",
    "                'Unknown', 'Confirmed_New', 'Confirmed_Cumulative', 'Hospitalizations_Cumulative', 'Positive_Tests_Cumulative', 'Tests_Cumulative']\n",
    "georgia_df = georgia_df[columns_list]\n",
    "idx_list = list(range(1, 25))\n",
    "mask_series = georgia_df.index.isin(idx_list)\n",
    "georgia_df = georgia_df[mask_series]\n",
    "def f(x):\n",
    "    date_str = str(x)\n",
    "    if date_str.endswith(' 00:00:00'):\n",
    "        date_format = '%Y-%M-%d 00:00:00'\n",
    "        date_obj = datetime.strptime('{}'.format(date_str), date_format)\n",
    "    else:\n",
    "        date_format = '%b %d, %Y'\n",
    "        date_obj = datetime.strptime('{}, 2020'.format(date_str), date_format)\n",
    "    \n",
    "    return date_obj\n",
    "for column_name in georgia_df.columns:\n",
    "    if column_name == 'Date':\n",
    "        georgia_df[column_name] = georgia_df[column_name].map(f)\n",
    "        georgia_df[column_name] = pd.to_datetime(georgia_df[column_name])\n",
    "        pass\n",
    "    else:\n",
    "        georgia_df[column_name] = georgia_df[column_name].map(lambda x: re.sub('[^\\d]+', '', str(x)))\n",
    "        georgia_df[column_name] = pd.to_numeric(georgia_df[column_name], errors='coerce')\n",
    "s.store_objects(georgia_df=georgia_df)\n",
    "#columns_list = ['Date', 'Confirmed_New', 'Confirmed_Cumulative']\n",
    "#georgia_df[columns_list]"
   ]
  },
  {
   "cell_type": "code",
   "execution_count": 110,
   "metadata": {},
   "outputs": [
    {
     "name": "stdout",
     "output_type": "stream",
     "text": [
      "Pickling to D:\\Documents\\Repositories\\notebooks\\covid19\\saves\\pickle\\florida_df.pickle\n"
     ]
    }
   ],
   "source": [
    "\n",
    "florida_df = tables_list[2].copy()\n",
    "florida_df.columns = florida_df.iloc[0].tolist()\n",
    "columns_list = [1, 3, 4]\n",
    "florida_df = florida_df.iloc[:, columns_list]\n",
    "florida_df.columns = ['Date', 'Confirmed_Cumulative', 'Deaths_Cumulative']\n",
    "#florida_df.Date.to_dict()\n",
    "idx_list = list(range(1, 18))\n",
    "mask_series = florida_df.index.isin(idx_list)\n",
    "florida_df = florida_df[mask_series]\n",
    "florida_df['Deaths_New'] = florida_df.Deaths_Cumulative.map(lambda x: str(x).split('(')[1].split(')')[0])\n",
    "for column_name in florida_df.columns:\n",
    "    if column_name == 'Date':\n",
    "        florida_df[column_name] = pd.to_datetime(florida_df[column_name])\n",
    "        pass\n",
    "    else:\n",
    "        florida_df[column_name] = florida_df[column_name].map(lambda x: re.sub('[^\\d]+', '', str(x).split('(')[0]))\n",
    "        florida_df[column_name] = pd.to_numeric(florida_df[column_name], errors='coerce')\n",
    "florida_df['Confirmed_New'] = florida_df.Confirmed_Cumulative.diff()\n",
    "idx = 1\n",
    "florida_df.loc[idx, 'Confirmed_New'] = florida_df.loc[idx, 'Confirmed_Cumulative']\n",
    "florida_df.Confirmed_New = florida_df.Confirmed_New.map(lambda x: int(x))\n",
    "s.store_objects(florida_df=florida_df)"
   ]
  },
  {
   "cell_type": "code",
   "execution_count": 83,
   "metadata": {},
   "outputs": [
    {
     "name": "stdout",
     "output_type": "stream",
     "text": [
      "Pickling to D:\\Documents\\Repositories\\notebooks\\covid19\\saves\\pickle\\colorado_df.pickle\n"
     ]
    }
   ],
   "source": [
    "\n",
    "colorado_df = tables_list[2].copy()\n",
    "colorado_df.columns = colorado_df.iloc[0].tolist()\n",
    "columns_list = [1, 3, 4]\n",
    "colorado_df = colorado_df.iloc[:, columns_list]\n",
    "colorado_df.columns = ['Date', 'Confirmed_Cumulative', 'Deaths_Cumulative']\n",
    "#colorado_df.Date.to_dict()\n",
    "idx_list = list(range(1, 22))\n",
    "mask_series = colorado_df.index.isin(idx_list)\n",
    "colorado_df = colorado_df[mask_series]\n",
    "colorado_df['Confirmed_New'] = colorado_df.Confirmed_Cumulative.map(lambda x: str(x).split('+')[1].split(')')[0])\n",
    "for column_name in colorado_df.columns:\n",
    "    if column_name == 'Date':\n",
    "        colorado_df[column_name] = pd.to_datetime(colorado_df[column_name])\n",
    "        pass\n",
    "    else:\n",
    "        colorado_df[column_name] = colorado_df[column_name].map(lambda x: re.sub('[^\\d]+', '', str(x).split('(')[0]))\n",
    "        colorado_df[column_name] = pd.to_numeric(colorado_df[column_name], errors='coerce')\n",
    "colorado_df['Deaths_New'] = colorado_df.Deaths_Cumulative.diff()\n",
    "idx = 9\n",
    "colorado_df.loc[idx, 'Deaths_New'] = colorado_df.loc[idx, 'Deaths_Cumulative']\n",
    "s.store_objects(colorado_df=colorado_df)"
   ]
  },
  {
   "cell_type": "code",
   "execution_count": 73,
   "metadata": {},
   "outputs": [
    {
     "name": "stdout",
     "output_type": "stream",
     "text": [
      "[(3, (46, 6)), (4, (33, 5)), (2, (30, 5)), (7, (73, 2)), (5, (24, 5)), (18, (23, 2)), (19, (22, 2)), (9, (17, 2)), (20, (17, 2)), (10, (16, 2)), (1, (13, 2)), (22, (8, 2)), (23, (7, 2)), (11, (5, 2)), (14, (4, 2)), (12, (3, 2)), (15, (3, 2)), (16, (3, 2)), (21, (3, 2)), (17, (2, 2)), (0, (1, 2)), (6, (1, 2)), (8, (1, 2)), (13, (1, 2))]\n"
     ]
    }
   ],
   "source": [
    "\n",
    "tables_url = 'https://en.wikipedia.org/wiki/2020_coronavirus_pandemic_in_California'\n",
    "#!\"C:\\Program Files (x86)\\Google\\Chrome\\Application\\chrome.exe\" {tables_url}\n",
    "tables_list = get_page_tables(tables_url)"
   ]
  },
  {
   "cell_type": "code",
   "execution_count": 87,
   "metadata": {},
   "outputs": [
    {
     "name": "stdout",
     "output_type": "stream",
     "text": [
      "Pickling to D:\\Documents\\Repositories\\notebooks\\covid19\\saves\\pickle\\california_df.pickle\n"
     ]
    }
   ],
   "source": [
    "\n",
    "california_df = tables_list[2].copy()\n",
    "california_df.columns = california_df.iloc[0].tolist()\n",
    "columns_list = [1, 3, 4]\n",
    "california_df = california_df.iloc[:, columns_list]\n",
    "california_df.columns = ['Date', 'Confirmed_Cumulative', 'Deaths_Cumulative']\n",
    "#california_df.Date.to_dict()\n",
    "idx_list = [1, 3, 5] + list(range(7, 29))\n",
    "mask_series = california_df.index.isin(idx_list)\n",
    "california_df = california_df[mask_series]\n",
    "for column_name in california_df.columns:\n",
    "    if column_name == 'Date':\n",
    "        california_df[column_name] = pd.to_datetime(california_df[column_name])\n",
    "        pass\n",
    "    else:\n",
    "        california_df[column_name] = california_df[column_name].map(lambda x: re.sub('[^\\d]+', '', str(x).split('(')[0]))\n",
    "        california_df[column_name] = pd.to_numeric(california_df[column_name], errors='coerce')\n",
    "california_df.Deaths_Cumulative = california_df.Deaths_Cumulative.fillna(0)\n",
    "california_df.Deaths_Cumulative = california_df.Deaths_Cumulative.map(lambda x: int(x))\n",
    "california_df['Deaths_New'] = california_df.Deaths_Cumulative.diff()\n",
    "idx = 1\n",
    "california_df.loc[idx, 'Deaths_New'] = california_df.loc[idx, 'Deaths_Cumulative']\n",
    "california_df.Deaths_New = california_df.Deaths_New.map(lambda x: int(x))\n",
    "california_df.Confirmed_Cumulative = california_df.Confirmed_Cumulative.fillna(0)\n",
    "california_df.Confirmed_Cumulative = california_df.Confirmed_Cumulative.map(lambda x: int(x))\n",
    "california_df['Confirmed_New'] = california_df.Confirmed_Cumulative.diff()\n",
    "idx = 1\n",
    "california_df.loc[idx, 'Confirmed_New'] = california_df.loc[idx, 'Confirmed_Cumulative']\n",
    "california_df.Confirmed_New = california_df.Confirmed_New.map(lambda x: int(x))\n",
    "s.store_objects(california_df=california_df)"
   ]
  },
  {
   "cell_type": "code",
   "execution_count": 61,
   "metadata": {},
   "outputs": [
    {
     "name": "stdout",
     "output_type": "stream",
     "text": [
      "Pickling to D:\\Documents\\Repositories\\notebooks\\covid19\\saves\\pickle\\arkansas_df.pickle\n"
     ]
    }
   ],
   "source": [
    "\n",
    "arkansas_df = tables_list[2].copy()\n",
    "arkansas_df.columns = arkansas_df.iloc[0].tolist()\n",
    "columns_list = [1, 3, 4]\n",
    "arkansas_df = arkansas_df.iloc[:, columns_list]\n",
    "arkansas_df.columns = ['Date', 'Confirmed_Cumulative', 'Deaths_Cumulative']\n",
    "arkansas_df = arkansas_df.loc[1:16]\n",
    "for column_name in arkansas_df.columns:\n",
    "    if column_name == 'Date':\n",
    "        arkansas_df[column_name] = pd.to_datetime(arkansas_df[column_name])\n",
    "        pass\n",
    "    else:\n",
    "        arkansas_df[column_name] = arkansas_df[column_name].map(lambda x: re.sub('[^\\d]+', '', str(x).split('(')[0]))\n",
    "        arkansas_df[column_name] = pd.to_numeric(arkansas_df[column_name], errors='coerce')\n",
    "arkansas_df['Confirmed_New'] = arkansas_df.Confirmed_Cumulative.diff()\n",
    "arkansas_df.loc[1, 'Confirmed_New'] = arkansas_df.loc[1, 'Confirmed_Cumulative']\n",
    "arkansas_df.Confirmed_New = arkansas_df.Confirmed_New.map(lambda x: int(x))\n",
    "arkansas_df['Deaths_New'] = arkansas_df.Deaths_Cumulative.diff()\n",
    "arkansas_df.loc[14, 'Deaths_New'] = arkansas_df.loc[14, 'Deaths_Cumulative']\n",
    "s.store_objects(arkansas_df=arkansas_df)"
   ]
  },
  {
   "cell_type": "markdown",
   "metadata": {},
   "source": [
    "\n",
    "---\n",
    "# Pickled State DataFrame Cleanup"
   ]
  },
  {
   "cell_type": "code",
   "execution_count": 23,
   "metadata": {},
   "outputs": [
    {
     "data": {
      "text/html": [
       "<div>\n",
       "<style scoped>\n",
       "    .dataframe tbody tr th:only-of-type {\n",
       "        vertical-align: middle;\n",
       "    }\n",
       "\n",
       "    .dataframe tbody tr th {\n",
       "        vertical-align: top;\n",
       "    }\n",
       "\n",
       "    .dataframe thead th {\n",
       "        text-align: right;\n",
       "    }\n",
       "</style>\n",
       "<table border=\"1\" class=\"dataframe\">\n",
       "  <thead>\n",
       "    <tr style=\"text-align: right;\">\n",
       "      <th></th>\n",
       "      <th>Water_Percent</th>\n",
       "      <th>Date_Lockdown_Enacted</th>\n",
       "      <th>Census_Population_2010</th>\n",
       "      <th>Land_Area_sq_mi</th>\n",
       "      <th>Population_Per_House_Seat_2019</th>\n",
       "    </tr>\n",
       "  </thead>\n",
       "  <tbody>\n",
       "    <tr>\n",
       "      <th>Alabama</th>\n",
       "      <td>nan</td>\n",
       "      <td>1,585,958,400,000,000,000.00</td>\n",
       "      <td>4,779,736.00</td>\n",
       "      <td>50,645.33</td>\n",
       "      <td>700455</td>\n",
       "    </tr>\n",
       "    <tr>\n",
       "      <th>Alaska</th>\n",
       "      <td>nan</td>\n",
       "      <td>1,585,353,600,000,000,000.00</td>\n",
       "      <td>710,231.00</td>\n",
       "      <td>570,640.95</td>\n",
       "      <td>731545</td>\n",
       "    </tr>\n",
       "    <tr>\n",
       "      <th>Arizona</th>\n",
       "      <td>nan</td>\n",
       "      <td>1,585,612,800,000,000,000.00</td>\n",
       "      <td>6,392,017.00</td>\n",
       "      <td>113,594.08</td>\n",
       "      <td>808746</td>\n",
       "    </tr>\n",
       "    <tr>\n",
       "      <th>Arkansas</th>\n",
       "      <td>nan</td>\n",
       "      <td>-9,223,372,036,854,775,808.00</td>\n",
       "      <td>nan</td>\n",
       "      <td>nan</td>\n",
       "      <td>NaN</td>\n",
       "    </tr>\n",
       "    <tr>\n",
       "      <th>California</th>\n",
       "      <td>nan</td>\n",
       "      <td>1,584,576,000,000,000,000.00</td>\n",
       "      <td>37,254,523.00</td>\n",
       "      <td>155,779.22</td>\n",
       "      <td>745514</td>\n",
       "    </tr>\n",
       "    <tr>\n",
       "      <th>Colorado</th>\n",
       "      <td>nan</td>\n",
       "      <td>1,585,180,800,000,000,000.00</td>\n",
       "      <td>5,029,196.00</td>\n",
       "      <td>103,641.89</td>\n",
       "      <td>822677</td>\n",
       "    </tr>\n",
       "  </tbody>\n",
       "</table>\n",
       "</div>"
      ],
      "text/plain": [
       "                  Water_Percent         Date_Lockdown_Enacted  \\\n",
       "Alabama                     nan  1,585,958,400,000,000,000.00   \n",
       "Alaska                      nan  1,585,353,600,000,000,000.00   \n",
       "Arizona                     nan  1,585,612,800,000,000,000.00   \n",
       "Arkansas                    nan -9,223,372,036,854,775,808.00   \n",
       "California                  nan  1,584,576,000,000,000,000.00   \n",
       "Colorado                    nan  1,585,180,800,000,000,000.00   \n",
       "\n",
       "            Census_Population_2010      Land_Area_sq_mi  \\\n",
       "Alabama               4,779,736.00            50,645.33   \n",
       "Alaska                  710,231.00           570,640.95   \n",
       "Arizona               6,392,017.00           113,594.08   \n",
       "Arkansas                       nan                  nan   \n",
       "California           37,254,523.00           155,779.22   \n",
       "Colorado              5,029,196.00           103,641.89   \n",
       "\n",
       "           Population_Per_House_Seat_2019  \n",
       "Alabama                            700455  \n",
       "Alaska                             731545  \n",
       "Arizona                            808746  \n",
       "Arkansas                              NaN  \n",
       "California                         745514  \n",
       "Colorado                           822677  "
      ]
     },
     "execution_count": 23,
     "metadata": {},
     "output_type": "execute_result"
    }
   ],
   "source": [
    "\n",
    "columns_list = ['Water_Percent', 'Date_Lockdown_Enacted', 'Census_Population_2010', 'Land_Area_sq_mi', 'Population_Per_House_Seat_2019']\n",
    "states_merge_df.combine_first(states_stats_df).head(6)[columns_list]"
   ]
  },
  {
   "cell_type": "code",
   "execution_count": 22,
   "metadata": {},
   "outputs": [
    {
     "data": {
      "text/html": [
       "<div>\n",
       "<style scoped>\n",
       "    .dataframe tbody tr th:only-of-type {\n",
       "        vertical-align: middle;\n",
       "    }\n",
       "\n",
       "    .dataframe tbody tr th {\n",
       "        vertical-align: top;\n",
       "    }\n",
       "\n",
       "    .dataframe thead th {\n",
       "        text-align: right;\n",
       "    }\n",
       "</style>\n",
       "<table border=\"1\" class=\"dataframe\">\n",
       "  <thead>\n",
       "    <tr style=\"text-align: right;\">\n",
       "      <th></th>\n",
       "      <th>Water_Percent</th>\n",
       "      <th>Date_Lockdown_Enacted</th>\n",
       "      <th>Census_Population_2010</th>\n",
       "      <th>Land_Area_sq_mi</th>\n",
       "      <th>Population_Per_House_Seat_2019</th>\n",
       "    </tr>\n",
       "  </thead>\n",
       "  <tbody>\n",
       "    <tr>\n",
       "      <th>Alabama</th>\n",
       "      <td>nan</td>\n",
       "      <td>2020-04-04</td>\n",
       "      <td>4,779,736.00</td>\n",
       "      <td>50,645.33</td>\n",
       "      <td>700455</td>\n",
       "    </tr>\n",
       "    <tr>\n",
       "      <th>Alaska</th>\n",
       "      <td>nan</td>\n",
       "      <td>2020-03-28</td>\n",
       "      <td>710,231.00</td>\n",
       "      <td>570,640.95</td>\n",
       "      <td>731545</td>\n",
       "    </tr>\n",
       "    <tr>\n",
       "      <th>Arizona</th>\n",
       "      <td>nan</td>\n",
       "      <td>2020-03-31</td>\n",
       "      <td>6,392,017.00</td>\n",
       "      <td>113,594.08</td>\n",
       "      <td>808746</td>\n",
       "    </tr>\n",
       "    <tr>\n",
       "      <th>Arkansas</th>\n",
       "      <td>nan</td>\n",
       "      <td>NaT</td>\n",
       "      <td>nan</td>\n",
       "      <td>nan</td>\n",
       "      <td>NaN</td>\n",
       "    </tr>\n",
       "    <tr>\n",
       "      <th>California</th>\n",
       "      <td>nan</td>\n",
       "      <td>2020-03-19</td>\n",
       "      <td>37,254,523.00</td>\n",
       "      <td>155,779.22</td>\n",
       "      <td>745514</td>\n",
       "    </tr>\n",
       "    <tr>\n",
       "      <th>Colorado</th>\n",
       "      <td>nan</td>\n",
       "      <td>2020-03-26</td>\n",
       "      <td>5,029,196.00</td>\n",
       "      <td>103,641.89</td>\n",
       "      <td>822677</td>\n",
       "    </tr>\n",
       "  </tbody>\n",
       "</table>\n",
       "</div>"
      ],
      "text/plain": [
       "                  Water_Percent Date_Lockdown_Enacted  Census_Population_2010  \\\n",
       "Alabama                     nan            2020-04-04            4,779,736.00   \n",
       "Alaska                      nan            2020-03-28              710,231.00   \n",
       "Arizona                     nan            2020-03-31            6,392,017.00   \n",
       "Arkansas                    nan                   NaT                     nan   \n",
       "California                  nan            2020-03-19           37,254,523.00   \n",
       "Colorado                    nan            2020-03-26            5,029,196.00   \n",
       "\n",
       "                Land_Area_sq_mi Population_Per_House_Seat_2019  \n",
       "Alabama               50,645.33                         700455  \n",
       "Alaska               570,640.95                         731545  \n",
       "Arizona              113,594.08                         808746  \n",
       "Arkansas                    nan                            NaN  \n",
       "California           155,779.22                         745514  \n",
       "Colorado             103,641.89                         822677  "
      ]
     },
     "execution_count": 22,
     "metadata": {},
     "output_type": "execute_result"
    }
   ],
   "source": [
    "\n",
    "columns_list = ['Water_Percent', 'Date_Lockdown_Enacted', 'Census_Population_2010', 'Land_Area_sq_mi', 'Population_Per_House_Seat_2019']\n",
    "states_stats_df.combine_first(states_merge_df).head(6)[columns_list]"
   ]
  },
  {
   "cell_type": "code",
   "execution_count": 12,
   "metadata": {},
   "outputs": [
    {
     "data": {
      "text/html": [
       "<div>\n",
       "<style scoped>\n",
       "    .dataframe tbody tr th:only-of-type {\n",
       "        vertical-align: middle;\n",
       "    }\n",
       "\n",
       "    .dataframe tbody tr th {\n",
       "        vertical-align: top;\n",
       "    }\n",
       "\n",
       "    .dataframe thead th {\n",
       "        text-align: right;\n",
       "    }\n",
       "</style>\n",
       "<table border=\"1\" class=\"dataframe\">\n",
       "  <thead>\n",
       "    <tr style=\"text-align: right;\">\n",
       "      <th></th>\n",
       "      <th>Asian_Percent</th>\n",
       "      <th>Black_Percent</th>\n",
       "      <th>Census_Estimate_2019</th>\n",
       "      <th>Census_Population_2010</th>\n",
       "      <th>Change_Absolute</th>\n",
       "      <th>Change_Percent</th>\n",
       "      <th>Crime_Corrections_Score</th>\n",
       "      <th>Date_Lockdown_Enacted</th>\n",
       "    </tr>\n",
       "  </thead>\n",
       "  <tbody>\n",
       "    <tr>\n",
       "      <th>Alabama</th>\n",
       "      <td>0.01</td>\n",
       "      <td>0.27</td>\n",
       "      <td>4,903,185.00</td>\n",
       "      <td>4,779,736.00</td>\n",
       "      <td>+123,449</td>\n",
       "      <td>2.6%</td>\n",
       "      <td>45.00</td>\n",
       "      <td>1,585,958,400,000,000,000.00</td>\n",
       "    </tr>\n",
       "    <tr>\n",
       "      <th>Alaska</th>\n",
       "      <td>0.07</td>\n",
       "      <td>0.03</td>\n",
       "      <td>731,545.00</td>\n",
       "      <td>710,231.00</td>\n",
       "      <td>+21,314</td>\n",
       "      <td>3.0%</td>\n",
       "      <td>48.00</td>\n",
       "      <td>1,585,353,600,000,000,000.00</td>\n",
       "    </tr>\n",
       "    <tr>\n",
       "      <th>Arizona</th>\n",
       "      <td>0.03</td>\n",
       "      <td>0.04</td>\n",
       "      <td>7,278,717.00</td>\n",
       "      <td>6,392,017.00</td>\n",
       "      <td>+886,700</td>\n",
       "      <td>13.9%</td>\n",
       "      <td>42.00</td>\n",
       "      <td>1,585,612,800,000,000,000.00</td>\n",
       "    </tr>\n",
       "  </tbody>\n",
       "</table>\n",
       "</div>"
      ],
      "text/plain": [
       "               Asian_Percent        Black_Percent Census_Estimate_2019  \\\n",
       "Alabama                 0.01                 0.27         4,903,185.00   \n",
       "Alaska                  0.07                 0.03           731,545.00   \n",
       "Arizona                 0.03                 0.04         7,278,717.00   \n",
       "\n",
       "        Census_Population_2010 Change_Absolute Change_Percent  \\\n",
       "Alabama           4,779,736.00        +123,449           2.6%   \n",
       "Alaska              710,231.00         +21,314           3.0%   \n",
       "Arizona           6,392,017.00        +886,700          13.9%   \n",
       "\n",
       "        Crime_Corrections_Score        Date_Lockdown_Enacted  \n",
       "Alabama                   45.00 1,585,958,400,000,000,000.00  \n",
       "Alaska                    48.00 1,585,353,600,000,000,000.00  \n",
       "Arizona                   42.00 1,585,612,800,000,000,000.00  "
      ]
     },
     "execution_count": 12,
     "metadata": {},
     "output_type": "execute_result"
    }
   ],
   "source": [
    "\n",
    "temp_df = states_stats_df.combine_first(states_merge_df)\n",
    "states_merge_df.combine_first().head(3).T.head(8).T"
   ]
  },
  {
   "cell_type": "code",
   "execution_count": null,
   "metadata": {},
   "outputs": [],
   "source": [
    "\n",
    "columns_list = ['State_Abbreviation']\n",
    "states_stats_df.merge(states_merge_df[columns_list], left_index=True, right_index=True).columns"
   ]
  },
  {
   "cell_type": "code",
   "execution_count": 30,
   "metadata": {},
   "outputs": [
    {
     "data": {
      "text/plain": [
       "{'Rank_Current', 'Water_sq_km', 'Land_Area_sq_mi', 'Change_Absolute', 'Population_Per_Electoral_Vote_2019', 'Census_Population_2010', 'House_Seats_Total', 'Population_Per_House_Seat_2019', 'Land_Area_sq_km', 'Total_Area_Rank', 'Date_Lockdown_Enacted', 'Percent_Total_2019', 'Water_sq_mi', 'district_abbreviation', 'Census_Estimate_2019', 'Change_Percent', 'Land_Area_Percent', 'Total_Area_sq_mi', 'Total_Area_sq_km', 'Water_Rank', 'Rank_2010', 'Land_Area_Rank', 'Water_Percent', 'Population_Per_House_Seat_2010'}"
      ]
     },
     "execution_count": 30,
     "metadata": {},
     "output_type": "execute_result"
    }
   ],
   "source": [
    "\n",
    "states_stats_df = s.load_object('states_stats_df')\n",
    "states_merge_df = s.load_object('states_merge_df')\n",
    "missing_set = set(states_stats_df.columns) - set(states_merge_df.columns)\n",
    "missing_set"
   ]
  },
  {
   "cell_type": "code",
   "execution_count": 53,
   "metadata": {},
   "outputs": [
    {
     "name": "stdout",
     "output_type": "stream",
     "text": [
      "set()\n"
     ]
    },
    {
     "data": {
      "text/plain": [
       "{'Absolute_Change', 'Population_per_House_Seat', 'Census_per_House_Seat', 'Census_2010', 'Percent_Change', 'Percent_US_Population', 'Population_2019', 'Population_per_Electoral_Vote', 'Total_Representatives'}"
      ]
     },
     "execution_count": 53,
     "metadata": {},
     "output_type": "execute_result"
    }
   ],
   "source": [
    "\n",
    "states_population_df = s.load_object('states_population_df')\n",
    "print(missing_set.intersection(set(states_population_df.columns)))\n",
    "set(states_population_df.columns)"
   ]
  },
  {
   "cell_type": "code",
   "execution_count": 54,
   "metadata": {},
   "outputs": [
    {
     "name": "stdout",
     "output_type": "stream",
     "text": [
      "{'Rank_Current', 'Water_sq_km', 'Land_Area_sq_mi', 'Change_Absolute', 'Population_Per_Electoral_Vote_2019', 'Census_Population_2010', 'House_Seats_Total', 'Population_Per_House_Seat_2019', 'Land_Area_sq_km', 'Total_Area_Rank', 'Percent_Total_2019', 'Water_sq_mi', 'Census_Estimate_2019', 'Change_Percent', 'Land_Area_Percent', 'Total_Area_sq_mi', 'Total_Area_sq_km', 'Water_Rank', 'Rank_2010', 'Land_Area_Rank', 'Water_Percent', 'Population_Per_House_Seat_2010'}\n"
     ]
    },
    {
     "data": {
      "text/plain": [
       "{'Rank_Current', 'Water_sq_km', 'Land_Area_sq_mi', 'Change_Absolute', 'Population_Per_Electoral_Vote_2019', 'Census_Population_2010', 'Land_Area_sq_km', 'Population_Per_House_Seat_2019', 'House_Seats_Total', 'Total_Area_Rank', 'Percent_Total_2019', 'Water_sq_mi', 'Census_Estimate_2019', 'Change_Percent', 'Land_Area_Percent', 'Total_Area_sq_mi', 'Total_Area_sq_km', 'Water_Rank', 'Rank_2010', 'Land_Area_Rank', 'Water_Percent', 'Population_Per_House_Seat_2010'}"
      ]
     },
     "execution_count": 54,
     "metadata": {},
     "output_type": "execute_result"
    }
   ],
   "source": [
    "\n",
    "states_populations_df = s.load_object('states_populations_df')\n",
    "set(states_populations_df.columns)"
   ]
  },
  {
   "cell_type": "code",
   "execution_count": 78,
   "metadata": {},
   "outputs": [
    {
     "data": {
      "text/plain": [
       "{'district_abbreviation', 'Date_Lockdown_Enacted'}"
      ]
     },
     "execution_count": 78,
     "metadata": {},
     "output_type": "execute_result"
    }
   ],
   "source": [
    "\n",
    "finished_set = missing_set.intersection(set(states_populations_df.columns))\n",
    "missing_set - finished_set"
   ]
  },
  {
   "cell_type": "code",
   "execution_count": 80,
   "metadata": {},
   "outputs": [
    {
     "name": "stdout",
     "output_type": "stream",
     "text": [
      "set()\n"
     ]
    },
    {
     "data": {
      "text/plain": [
       "{'date_enacted'}"
      ]
     },
     "execution_count": 80,
     "metadata": {},
     "output_type": "execute_result"
    }
   ],
   "source": [
    "\n",
    "states_covid19_lockdowns_df = s.load_object('states_covid19_lockdowns_df')\n",
    "print(missing_set.intersection(set(states_covid19_lockdowns_df.columns)))\n",
    "set(states_covid19_lockdowns_df.columns)"
   ]
  },
  {
   "cell_type": "code",
   "execution_count": 98,
   "metadata": {},
   "outputs": [
    {
     "data": {
      "text/plain": [
       "state_name\n",
       "Alabama       2020-04-04\n",
       "Alaska        2020-03-28\n",
       "Arizona       2020-03-31\n",
       "California    2020-03-19\n",
       "Colorado      2020-03-26\n",
       "Connecticut   2020-03-23\n",
       "Name: date_enacted, dtype: datetime64[ns]"
      ]
     },
     "execution_count": 98,
     "metadata": {},
     "output_type": "execute_result"
    }
   ],
   "source": [
    "\n",
    "states_covid19_lockdowns_df.date_enacted.head(6)"
   ]
  },
  {
   "cell_type": "code",
   "execution_count": 96,
   "metadata": {},
   "outputs": [],
   "source": [
    "\n",
    "column_name = 'Date_Lockdown_Enacted'\n",
    "states_stats_df[column_name] = states_stats_df[column_name].combine_first(states_covid19_lockdowns_df.date_enacted)"
   ]
  },
  {
   "cell_type": "code",
   "execution_count": 99,
   "metadata": {},
   "outputs": [
    {
     "data": {
      "text/html": [
       "<div>\n",
       "<style scoped>\n",
       "    .dataframe tbody tr th:only-of-type {\n",
       "        vertical-align: middle;\n",
       "    }\n",
       "\n",
       "    .dataframe tbody tr th {\n",
       "        vertical-align: top;\n",
       "    }\n",
       "\n",
       "    .dataframe thead th {\n",
       "        text-align: right;\n",
       "    }\n",
       "</style>\n",
       "<table border=\"1\" class=\"dataframe\">\n",
       "  <thead>\n",
       "    <tr style=\"text-align: right;\">\n",
       "      <th></th>\n",
       "      <th>Alabama</th>\n",
       "      <th>Alaska</th>\n",
       "      <th>Arizona</th>\n",
       "      <th>Arkansas</th>\n",
       "      <th>California</th>\n",
       "      <th>Colorado</th>\n",
       "    </tr>\n",
       "  </thead>\n",
       "  <tbody>\n",
       "    <tr>\n",
       "      <th>Rank_Current</th>\n",
       "      <td>24.00</td>\n",
       "      <td>49.00</td>\n",
       "      <td>14.00</td>\n",
       "      <td>NaT</td>\n",
       "      <td>1.00</td>\n",
       "      <td>21.00</td>\n",
       "    </tr>\n",
       "    <tr>\n",
       "      <th>Water_sq_km</th>\n",
       "      <td>4,597.00</td>\n",
       "      <td>245,384.00</td>\n",
       "      <td>1,026.00</td>\n",
       "      <td>NaT</td>\n",
       "      <td>20,501.00</td>\n",
       "      <td>1,170.00</td>\n",
       "    </tr>\n",
       "    <tr>\n",
       "      <th>Land_Area_sq_mi</th>\n",
       "      <td>50,645.33</td>\n",
       "      <td>570,640.95</td>\n",
       "      <td>113,594.08</td>\n",
       "      <td>NaT</td>\n",
       "      <td>155,779.22</td>\n",
       "      <td>103,641.89</td>\n",
       "    </tr>\n",
       "    <tr>\n",
       "      <th>Change_Absolute</th>\n",
       "      <td>+123,449</td>\n",
       "      <td>+21,314</td>\n",
       "      <td>+886,700</td>\n",
       "      <td>NaT</td>\n",
       "      <td>+2,257,700</td>\n",
       "      <td>+729,540</td>\n",
       "    </tr>\n",
       "    <tr>\n",
       "      <th>Population_Per_Electoral_Vote_2019</th>\n",
       "      <td>544798</td>\n",
       "      <td>243848</td>\n",
       "      <td>661702</td>\n",
       "      <td>NaT</td>\n",
       "      <td>718404</td>\n",
       "      <td>639860</td>\n",
       "    </tr>\n",
       "    <tr>\n",
       "      <th>Census_Population_2010</th>\n",
       "      <td>4,779,736.00</td>\n",
       "      <td>710,231.00</td>\n",
       "      <td>6,392,017.00</td>\n",
       "      <td>NaT</td>\n",
       "      <td>37,254,523.00</td>\n",
       "      <td>5,029,196.00</td>\n",
       "    </tr>\n",
       "    <tr>\n",
       "      <th>House_Seats_Total</th>\n",
       "      <td>7</td>\n",
       "      <td>1</td>\n",
       "      <td>9</td>\n",
       "      <td>NaT</td>\n",
       "      <td>53</td>\n",
       "      <td>7</td>\n",
       "    </tr>\n",
       "    <tr>\n",
       "      <th>Population_Per_House_Seat_2019</th>\n",
       "      <td>700455</td>\n",
       "      <td>731545</td>\n",
       "      <td>808746</td>\n",
       "      <td>NaT</td>\n",
       "      <td>745514</td>\n",
       "      <td>822677</td>\n",
       "    </tr>\n",
       "    <tr>\n",
       "      <th>Land_Area_sq_km</th>\n",
       "      <td>131,171.00</td>\n",
       "      <td>1,477,953.00</td>\n",
       "      <td>294,207.00</td>\n",
       "      <td>NaT</td>\n",
       "      <td>403,466.00</td>\n",
       "      <td>268,431.00</td>\n",
       "    </tr>\n",
       "    <tr>\n",
       "      <th>Total_Area_Rank</th>\n",
       "      <td>30.00</td>\n",
       "      <td>1.00</td>\n",
       "      <td>6.00</td>\n",
       "      <td>NaT</td>\n",
       "      <td>3.00</td>\n",
       "      <td>8.00</td>\n",
       "    </tr>\n",
       "    <tr>\n",
       "      <th>Date_Lockdown_Enacted</th>\n",
       "      <td>2020-04-04 00:00:00</td>\n",
       "      <td>2020-03-28 00:00:00</td>\n",
       "      <td>2020-03-31 00:00:00</td>\n",
       "      <td>NaT</td>\n",
       "      <td>2020-03-19 00:00:00</td>\n",
       "      <td>2020-03-26 00:00:00</td>\n",
       "    </tr>\n",
       "    <tr>\n",
       "      <th>Percent_Total_2019</th>\n",
       "      <td>1.48%</td>\n",
       "      <td>0.22%</td>\n",
       "      <td>2.19%</td>\n",
       "      <td>NaT</td>\n",
       "      <td>11.91%</td>\n",
       "      <td>1.74%</td>\n",
       "    </tr>\n",
       "    <tr>\n",
       "      <th>Water_sq_mi</th>\n",
       "      <td>1,774.74</td>\n",
       "      <td>94,743.10</td>\n",
       "      <td>396.22</td>\n",
       "      <td>NaT</td>\n",
       "      <td>7,915.52</td>\n",
       "      <td>451.78</td>\n",
       "    </tr>\n",
       "    <tr>\n",
       "      <th>district_abbreviation</th>\n",
       "      <td>AL</td>\n",
       "      <td>AK</td>\n",
       "      <td>AZ</td>\n",
       "      <td>NaT</td>\n",
       "      <td>CA</td>\n",
       "      <td>CO</td>\n",
       "    </tr>\n",
       "    <tr>\n",
       "      <th>Census_Estimate_2019</th>\n",
       "      <td>4,903,185.00</td>\n",
       "      <td>731,545.00</td>\n",
       "      <td>7,278,717.00</td>\n",
       "      <td>NaT</td>\n",
       "      <td>39,512,223.00</td>\n",
       "      <td>5,758,736.00</td>\n",
       "    </tr>\n",
       "    <tr>\n",
       "      <th>Change_Percent</th>\n",
       "      <td>2.6%</td>\n",
       "      <td>3.0%</td>\n",
       "      <td>13.9%</td>\n",
       "      <td>NaT</td>\n",
       "      <td>6.1%</td>\n",
       "      <td>14.5%</td>\n",
       "    </tr>\n",
       "    <tr>\n",
       "      <th>Land_Area_Percent</th>\n",
       "      <td>NaN</td>\n",
       "      <td>NaN</td>\n",
       "      <td>NaN</td>\n",
       "      <td>NaT</td>\n",
       "      <td>NaN</td>\n",
       "      <td>NaN</td>\n",
       "    </tr>\n",
       "    <tr>\n",
       "      <th>Total_Area_sq_mi</th>\n",
       "      <td>52,420.07</td>\n",
       "      <td>665,384.14</td>\n",
       "      <td>113,990.30</td>\n",
       "      <td>NaT</td>\n",
       "      <td>163,694.74</td>\n",
       "      <td>104,093.67</td>\n",
       "    </tr>\n",
       "    <tr>\n",
       "      <th>Total_Area_sq_km</th>\n",
       "      <td>135,767.00</td>\n",
       "      <td>1,723,337.00</td>\n",
       "      <td>295,234.00</td>\n",
       "      <td>NaT</td>\n",
       "      <td>423,967.00</td>\n",
       "      <td>269,601.00</td>\n",
       "    </tr>\n",
       "    <tr>\n",
       "      <th>Water_Rank</th>\n",
       "      <td>23.00</td>\n",
       "      <td>1.00</td>\n",
       "      <td>48.00</td>\n",
       "      <td>NaT</td>\n",
       "      <td>6.00</td>\n",
       "      <td>44.00</td>\n",
       "    </tr>\n",
       "    <tr>\n",
       "      <th>Rank_2010</th>\n",
       "      <td>23.00</td>\n",
       "      <td>48.00</td>\n",
       "      <td>16.00</td>\n",
       "      <td>NaT</td>\n",
       "      <td>1.00</td>\n",
       "      <td>22.00</td>\n",
       "    </tr>\n",
       "    <tr>\n",
       "      <th>Land_Area_Rank</th>\n",
       "      <td>28.00</td>\n",
       "      <td>1.00</td>\n",
       "      <td>6.00</td>\n",
       "      <td>NaT</td>\n",
       "      <td>3.00</td>\n",
       "      <td>8.00</td>\n",
       "    </tr>\n",
       "    <tr>\n",
       "      <th>Water_Percent</th>\n",
       "      <td>NaN</td>\n",
       "      <td>NaN</td>\n",
       "      <td>NaN</td>\n",
       "      <td>NaT</td>\n",
       "      <td>NaN</td>\n",
       "      <td>NaN</td>\n",
       "    </tr>\n",
       "    <tr>\n",
       "      <th>Population_Per_House_Seat_2010</th>\n",
       "      <td>682819</td>\n",
       "      <td>710231</td>\n",
       "      <td>710224</td>\n",
       "      <td>NaT</td>\n",
       "      <td>702885</td>\n",
       "      <td>720704</td>\n",
       "    </tr>\n",
       "  </tbody>\n",
       "</table>\n",
       "</div>"
      ],
      "text/plain": [
       "                                                Alabama               Alaska  \\\n",
       "Rank_Current                                      24.00                49.00   \n",
       "Water_sq_km                                    4,597.00           245,384.00   \n",
       "Land_Area_sq_mi                               50,645.33           570,640.95   \n",
       "Change_Absolute                                +123,449              +21,314   \n",
       "Population_Per_Electoral_Vote_2019               544798               243848   \n",
       "Census_Population_2010                     4,779,736.00           710,231.00   \n",
       "House_Seats_Total                                     7                    1   \n",
       "Population_Per_House_Seat_2019                   700455               731545   \n",
       "Land_Area_sq_km                              131,171.00         1,477,953.00   \n",
       "Total_Area_Rank                                   30.00                 1.00   \n",
       "Date_Lockdown_Enacted               2020-04-04 00:00:00  2020-03-28 00:00:00   \n",
       "Percent_Total_2019                                1.48%                0.22%   \n",
       "Water_sq_mi                                    1,774.74            94,743.10   \n",
       "district_abbreviation                                AL                   AK   \n",
       "Census_Estimate_2019                       4,903,185.00           731,545.00   \n",
       "Change_Percent                                     2.6%                 3.0%   \n",
       "Land_Area_Percent                                   NaN                  NaN   \n",
       "Total_Area_sq_mi                              52,420.07           665,384.14   \n",
       "Total_Area_sq_km                             135,767.00         1,723,337.00   \n",
       "Water_Rank                                        23.00                 1.00   \n",
       "Rank_2010                                         23.00                48.00   \n",
       "Land_Area_Rank                                    28.00                 1.00   \n",
       "Water_Percent                                       NaN                  NaN   \n",
       "Population_Per_House_Seat_2010                   682819               710231   \n",
       "\n",
       "                                                Arizona Arkansas  \\\n",
       "Rank_Current                                      14.00      NaT   \n",
       "Water_sq_km                                    1,026.00      NaT   \n",
       "Land_Area_sq_mi                              113,594.08      NaT   \n",
       "Change_Absolute                                +886,700      NaT   \n",
       "Population_Per_Electoral_Vote_2019               661702      NaT   \n",
       "Census_Population_2010                     6,392,017.00      NaT   \n",
       "House_Seats_Total                                     9      NaT   \n",
       "Population_Per_House_Seat_2019                   808746      NaT   \n",
       "Land_Area_sq_km                              294,207.00      NaT   \n",
       "Total_Area_Rank                                    6.00      NaT   \n",
       "Date_Lockdown_Enacted               2020-03-31 00:00:00      NaT   \n",
       "Percent_Total_2019                                2.19%      NaT   \n",
       "Water_sq_mi                                      396.22      NaT   \n",
       "district_abbreviation                                AZ      NaT   \n",
       "Census_Estimate_2019                       7,278,717.00      NaT   \n",
       "Change_Percent                                    13.9%      NaT   \n",
       "Land_Area_Percent                                   NaN      NaT   \n",
       "Total_Area_sq_mi                             113,990.30      NaT   \n",
       "Total_Area_sq_km                             295,234.00      NaT   \n",
       "Water_Rank                                        48.00      NaT   \n",
       "Rank_2010                                         16.00      NaT   \n",
       "Land_Area_Rank                                     6.00      NaT   \n",
       "Water_Percent                                       NaN      NaT   \n",
       "Population_Per_House_Seat_2010                   710224      NaT   \n",
       "\n",
       "                                             California             Colorado  \n",
       "Rank_Current                                       1.00                21.00  \n",
       "Water_sq_km                                   20,501.00             1,170.00  \n",
       "Land_Area_sq_mi                              155,779.22           103,641.89  \n",
       "Change_Absolute                              +2,257,700             +729,540  \n",
       "Population_Per_Electoral_Vote_2019               718404               639860  \n",
       "Census_Population_2010                    37,254,523.00         5,029,196.00  \n",
       "House_Seats_Total                                    53                    7  \n",
       "Population_Per_House_Seat_2019                   745514               822677  \n",
       "Land_Area_sq_km                              403,466.00           268,431.00  \n",
       "Total_Area_Rank                                    3.00                 8.00  \n",
       "Date_Lockdown_Enacted               2020-03-19 00:00:00  2020-03-26 00:00:00  \n",
       "Percent_Total_2019                               11.91%                1.74%  \n",
       "Water_sq_mi                                    7,915.52               451.78  \n",
       "district_abbreviation                                CA                   CO  \n",
       "Census_Estimate_2019                      39,512,223.00         5,758,736.00  \n",
       "Change_Percent                                     6.1%                14.5%  \n",
       "Land_Area_Percent                                   NaN                  NaN  \n",
       "Total_Area_sq_mi                             163,694.74           104,093.67  \n",
       "Total_Area_sq_km                             423,967.00           269,601.00  \n",
       "Water_Rank                                         6.00                44.00  \n",
       "Rank_2010                                          1.00                22.00  \n",
       "Land_Area_Rank                                     3.00                 8.00  \n",
       "Water_Percent                                       NaN                  NaN  \n",
       "Population_Per_House_Seat_2010                   702885               720704  "
      ]
     },
     "execution_count": 99,
     "metadata": {},
     "output_type": "execute_result"
    }
   ],
   "source": [
    "\n",
    "columns_list = ['district_abbreviation', 'State_Abbreviation']\n",
    "states_stats_df[missing_set].head(6).T"
   ]
  },
  {
   "cell_type": "code",
   "execution_count": 100,
   "metadata": {},
   "outputs": [
    {
     "name": "stdout",
     "output_type": "stream",
     "text": [
      "Pickling to D:\\Documents\\Repositories\\notebooks\\covid19\\saves\\pickle\\states_stats_df.pickle\n"
     ]
    }
   ],
   "source": [
    "\n",
    "s.store_objects(states_stats_df=states_stats_df)"
   ]
  },
  {
   "cell_type": "code",
   "execution_count": 102,
   "metadata": {},
   "outputs": [
    {
     "data": {
      "text/plain": [
       "Index(['district_abbreviation', 'label_line_d', 'Date_Lockdown_Enacted',\n",
       "       'Rank_Current', 'Rank_2010', 'Census_Estimate_2019',\n",
       "       'Census_Population_2010', 'Change_Percent', 'Change_Absolute',\n",
       "       'House_Seats_Total', 'Population_Per_Electoral_Vote_2019',\n",
       "       'Population_Per_House_Seat_2019', 'Population_Per_House_Seat_2010',\n",
       "       'Percent_Total_2019', 'Total_Area_Rank', 'Total_Area_sq_mi',\n",
       "       'Total_Area_sq_km', 'Land_Area_Rank', 'Land_Area_sq_mi',\n",
       "       'Land_Area_sq_km', 'Land_Area_Percent', 'Water_Rank', 'Water_sq_mi',\n",
       "       'Water_sq_km', 'Water_Percent'],\n",
       "      dtype='object')"
      ]
     },
     "execution_count": 102,
     "metadata": {},
     "output_type": "execute_result"
    }
   ],
   "source": [
    "\n",
    "states_stats_df = s.load_object('states_stats_df')\n",
    "mask_series = (states_stats_df.index == 'Arkansas')\n",
    "df = states_stats_df[mask_series].T\n",
    "mask_series = df.Arkansas.isnull()\n",
    "df[mask_series].index"
   ]
  },
  {
   "cell_type": "code",
   "execution_count": 91,
   "metadata": {},
   "outputs": [],
   "source": [
    "\n",
    "states_stats_df = s.load_object('states_stats_df')\n",
    "states_merge_df = s.load_object('states_merge_df')\n",
    "columns_list = list(set(states_stats_df.columns).intersection(set(states_merge_df.columns)))\n",
    "states_stats_df = states_stats_df.merge(states_merge_df, how='outer', on=columns_list, left_index=True, right_index=True)"
   ]
  },
  {
   "cell_type": "code",
   "execution_count": 92,
   "metadata": {},
   "outputs": [
    {
     "data": {
      "text/plain": [
       "['State_Region', 'Multi_Percent', 'GDP_2018', 'Lobbying_Disclosure', 'Black_Percent', 'Suicide_Deaths_2015', 'Google_Suggest_Common', 'Total_Gun_Murder_Deaths_2010', 'Fiscal_Stability_Score', 'State_Population', 'Gun_Murder_Rate_2010', 'Political_Financing', 'Suicide_Deaths_2016', 'Homicide_Rate_2014', 'Suicide_Rate_2017', 'Homicide_Rate_2005', 'centroid_x', 'text_x', 'Hispanic_Percent', 'Guns_Per_Capita', 'Opportunity_Score', 'Internal_Auditing', 'White_Percent', 'Guns_Rank', 'Murder_Rate_2010', 'Gun_Suicide_Rate', 'State_Pension_Fund_Management', 'Crime_Corrections_Score', 'Education_Score', 'State_Abbreviation', 'centroid_y', 'GDP_Percent', 'Google_Suggest_First', 'Suicide_Deaths_2014', 'State_FIPS', 'Suicide_Rate_2014', 'Total_Inhabitants_2010', 'Homicide_Rate_2018', 'Effectiveness_Rank', 'Inhabitants_Per_Square_Mile_2010', 'Suicide_Rate_2016', 'Procurement', 'Suicide_Rate_2015', 'Gun_Ownership_Percent_2013', 'Gini_Index', 'Ethics_Enforcement_Entities', 'Judicial_Accountability', 'Health_Care_Score', 'Google_Suggest_Unique', 'Natural_Environment_Score', 'Legislative_Accountability', 'Islander_Percent', 'Homicide_Rate_2010', 'Suicide_Deaths_2017', 'GDP_Rank', 'Total_Murder_Deaths_2010', 'Economy_Score', 'Gun_Suicide_Deaths', 'text_y', 'label_line_d', 'Native_Percent', 'Homicide_Rate_1996', 'State_Civil_Service_Management', 'State_Budget_Processes', 'Asian_Percent', 'Homicide_Rate_2000', 'Guns_Registered', 'Suicide_Deaths_2005', 'Homicide_Rate_2017', 'Infrastructure_Score', 'Public_Access_to_Information', 'outline_d', 'Suicide_Rate_2005', 'Executive_Accountability', 'Electoral_Oversight']"
      ]
     },
     "execution_count": 92,
     "metadata": {},
     "output_type": "execute_result"
    }
   ],
   "source": [
    "\n",
    "columns_list"
   ]
  },
  {
   "cell_type": "code",
   "execution_count": null,
   "metadata": {},
   "outputs": [],
   "source": [
    "\n",
    "s.store_objects(states_stats_df=states_stats_df)"
   ]
  },
  {
   "cell_type": "code",
   "execution_count": 24,
   "metadata": {},
   "outputs": [
    {
     "name": "stdout",
     "output_type": "stream",
     "text": [
      "states_covid19_lockdowns_df = s.load_object('states_covid19_lockdowns_df')\n",
      "set(states_covid19_lockdowns_df.columns)\n",
      "states_stats_df.merge(states_covid19_lockdowns_df, left_index=True, right_index=True)\n",
      "states_effectiveness_df = s.load_object('states_effectiveness_df')\n",
      "set(states_effectiveness_df.columns)\n",
      "states_stats_df.merge(states_effectiveness_df, left_index=True, right_index=True)\n",
      "states_merge_df = s.load_object('states_merge_df')\n",
      "set(states_merge_df.columns)\n",
      "states_stats_df.merge(states_merge_df, left_index=True, right_index=True)\n",
      "states_populations_df = s.load_object('states_populations_df')\n",
      "set(states_populations_df.columns)\n",
      "states_stats_df.merge(states_populations_df, left_index=True, right_index=True)\n",
      "states_population_df = s.load_object('states_population_df')\n",
      "set(states_population_df.columns)\n",
      "states_stats_df.merge(states_population_df, left_index=True, right_index=True)\n",
      "states_race_df = s.load_object('states_race_df')\n",
      "set(states_race_df.columns)\n",
      "states_stats_df.merge(states_race_df, left_index=True, right_index=True)\n",
      "states_stats_df = s.load_object('states_stats_df')\n",
      "set(states_stats_df.columns)\n",
      "states_stats_df.merge(states_stats_df, left_index=True, right_index=True)\n"
     ]
    }
   ],
   "source": [
    "\n",
    "df_name_list = []\n",
    "cn_dict = {}\n",
    "for file_name in os.listdir(s.saves_pickle_folder):\n",
    "    if file_name.endswith('_df.pickle') and file_name.startswith('states_'):\n",
    "        df_name = file_name.split('.')[0]\n",
    "        print(\"{} = s.load_object('{}')\".format(df_name, df_name))\n",
    "        print(\"set({}.columns)\".format(df_name))\n",
    "        print(\"states_stats_df.merge({}, left_index=True, right_index=True)\".format(df_name))\n",
    "        df_name_list.append(df_name)\n",
    "        df = s.load_object(df_name)\n",
    "        cn_dict[df_name] = df.columns.tolist()"
   ]
  },
  {
   "cell_type": "code",
   "execution_count": 25,
   "metadata": {},
   "outputs": [
    {
     "name": "stdout",
     "output_type": "stream",
     "text": [
      "\n",
      "states_covid19_lockdowns_df ['date_enacted']\n",
      "\n",
      "states_effectiveness_df ['Rank', 'Health Care', 'Education', 'Economy', 'Infrastructure', 'Opportunity', 'Fiscal Stability', 'Crime & Corrections', 'Natural Environment']\n",
      "\n",
      "states_merge_df ['White_Percent', 'Black_Percent', 'Hispanic_Percent', 'Asian_Percent', 'Native_Percent', 'Islander_Percent', 'Multi_Percent', 'Gini_Index', 'Effectiveness_Rank', 'Health_Care_Score', 'Education_Score', 'Economy_Score', 'Infrastructure_Score', 'Opportunity_Score', 'Fiscal_Stability_Score', 'Crime_Corrections_Score', 'Natural_Environment_Score', 'State_Abbreviation', 'GDP_Rank', 'GDP_2018', 'GDP_Percent', 'State_Region', 'Homicide_Rate_2018', 'Homicide_Rate_2017', 'Homicide_Rate_2014', 'Homicide_Rate_2010', 'Homicide_Rate_2005', 'Homicide_Rate_2000', 'Homicide_Rate_1996', 'Guns_Rank', 'Guns_Per_Capita', 'Guns_Registered', 'Suicide_Rate_2017', 'Suicide_Deaths_2017', 'Suicide_Rate_2016', 'Suicide_Deaths_2016', 'Suicide_Rate_2015', 'Suicide_Deaths_2015', 'Suicide_Rate_2014', 'Suicide_Deaths_2014', 'Suicide_Rate_2005', 'Suicide_Deaths_2005', 'Total_Inhabitants_2010', 'Inhabitants_Per_Square_Mile_2010', 'Total_Murder_Deaths_2010', 'Total_Gun_Murder_Deaths_2010', 'Gun_Ownership_Percent_2013', 'Murder_Rate_2010', 'Gun_Murder_Rate_2010', 'State_FIPS', 'State_Population', 'Gun_Suicide_Deaths', 'Gun_Suicide_Rate', 'Google_Suggest_Unique', 'text_x', 'text_y', 'label_line_d', 'Google_Suggest_Common', 'Google_Suggest_First', 'Public_Access_to_Information', 'Political_Financing', 'Electoral_Oversight', 'Executive_Accountability', 'Legislative_Accountability', 'Judicial_Accountability', 'State_Budget_Processes', 'State_Civil_Service_Management', 'Procurement', 'Internal_Auditing', 'Lobbying_Disclosure', 'Ethics_Enforcement_Entities', 'State_Pension_Fund_Management', 'outline_d', 'centroid_x', 'centroid_y']\n",
      "\n",
      "states_populations_df ['Rank_Current', 'Rank_2010', 'Census_Estimate_2019', 'Census_Population_2010', 'Change_Percent', 'Change_Absolute', 'House_Seats_Total', 'Population_Per_Electoral_Vote_2019', 'Population_Per_House_Seat_2019', 'Population_Per_House_Seat_2010', 'Percent_Total_2019', 'Total_Area_Rank', 'Total_Area_sq_mi', 'Total_Area_sq_km', 'Land_Area_Rank', 'Land_Area_sq_mi', 'Land_Area_sq_km', 'Land_Area_Percent', 'Water_Rank', 'Water_sq_mi', 'Water_sq_km', 'Water_Percent']\n",
      "\n",
      "states_population_df ['Population_2019', 'Census_2010', 'Percent_Change', 'Absolute_Change', 'Total_Representatives', 'Population_per_Electoral_Vote', 'Population_per_House_Seat', 'Census_per_House_Seat', 'Percent_US_Population']\n",
      "\n",
      "states_race_df ['White', 'Black', 'Hispanic', 'Asian', 'Native', 'Islander', 'Multi', 'gini_index']\n",
      "\n",
      "states_stats_df ['White_Percent', 'Black_Percent', 'Hispanic_Percent', 'Asian_Percent', 'Native_Percent', 'Islander_Percent', 'Multi_Percent', 'Gini_Index', 'Effectiveness_Rank', 'Health_Care_Score', 'Education_Score', 'Economy_Score', 'Infrastructure_Score', 'Opportunity_Score', 'Fiscal_Stability_Score', 'Crime_Corrections_Score', 'Natural_Environment_Score', 'district_abbreviation', 'GDP_Rank', 'GDP_2018', 'GDP_Percent', 'State_Region', 'Homicide_Rate_2018', 'Homicide_Rate_2017', 'Homicide_Rate_2014', 'Homicide_Rate_2010', 'Homicide_Rate_2005', 'Homicide_Rate_2000', 'Homicide_Rate_1996', 'Guns_Rank', 'Guns_Per_Capita', 'Guns_Registered', 'Suicide_Rate_2017', 'Suicide_Deaths_2017', 'Suicide_Rate_2016', 'Suicide_Deaths_2016', 'Suicide_Rate_2015', 'Suicide_Deaths_2015', 'Suicide_Rate_2014', 'Suicide_Deaths_2014', 'Suicide_Rate_2005', 'Suicide_Deaths_2005', 'Total_Inhabitants_2010', 'Inhabitants_Per_Square_Mile_2010', 'Total_Murder_Deaths_2010', 'Total_Gun_Murder_Deaths_2010', 'Gun_Ownership_Percent_2013', 'Murder_Rate_2010', 'Gun_Murder_Rate_2010', 'State_FIPS', 'State_Population', 'Gun_Suicide_Deaths', 'Gun_Suicide_Rate', 'Google_Suggest_Unique', 'text_x', 'text_y', 'label_line_d', 'Google_Suggest_Common', 'Google_Suggest_First', 'Public_Access_to_Information', 'Political_Financing', 'Electoral_Oversight', 'Executive_Accountability', 'Legislative_Accountability', 'Judicial_Accountability', 'State_Budget_Processes', 'State_Civil_Service_Management', 'Procurement', 'Internal_Auditing', 'Lobbying_Disclosure', 'Ethics_Enforcement_Entities', 'State_Pension_Fund_Management', 'outline_d', 'centroid_x', 'centroid_y', 'Date_Lockdown_Enacted', 'Rank_Current', 'Rank_2010', 'Census_Estimate_2019', 'Census_Population_2010', 'Change_Percent', 'Change_Absolute', 'House_Seats_Total', 'Population_Per_Electoral_Vote_2019', 'Population_Per_House_Seat_2019', 'Population_Per_House_Seat_2010', 'Percent_Total_2019', 'Total_Area_Rank', 'Total_Area_sq_mi', 'Total_Area_sq_km', 'Land_Area_Rank', 'Land_Area_sq_mi', 'Land_Area_sq_km', 'Land_Area_Percent', 'Water_Rank', 'Water_sq_mi', 'Water_sq_km', 'Water_Percent', 'State_Abbreviation']\n"
     ]
    }
   ],
   "source": [
    "\n",
    "for df_name, columns_list in cn_dict.items():\n",
    "    print()\n",
    "    print(df_name, columns_list)"
   ]
  },
  {
   "cell_type": "code",
   "execution_count": 57,
   "metadata": {},
   "outputs": [
    {
     "name": "stdout",
     "output_type": "stream",
     "text": [
      "Pickling to D:\\Documents\\Repositories\\notebooks\\covid19\\saves\\pickle\\states_stats_df.pickle\n"
     ]
    }
   ],
   "source": [
    "\n",
    "states_stats_df = states_stats_df.merge(states_merge_df[columns_list], left_index=True, right_index=True)\n",
    "s.store_objects(states_stats_df=states_stats_df)"
   ]
  },
  {
   "cell_type": "code",
   "execution_count": 36,
   "metadata": {},
   "outputs": [
    {
     "data": {
      "text/plain": [
       "{'Land_Area_sq_km', 'Gun_Suicide_Deaths', 'Crime_Corrections_Score', 'Suicide_Rate_2005', 'Homicide_Rate_2010', 'Opportunity_Score', 'Total_Representatives', 'Guns_Registered', 'Asian_Percent', 'outline_d', 'Gini_Index', 'Date', 'Date_Lockdown_Enacted', 'Opportunity', 'Total_Inhabitants_2010', 'Electoral_Oversight', 'Suicide_Deaths_2014', 'Black_Percent', 'Deaths_Cumulative', 'Water_Percent', 'Multi_Percent', 'Economy_Score', 'Guns_Per_Capita', 'State_Budget_Processes', 'Total_Gun_Murder_Deaths_2010', 'Health Care', 'Rank', 'Guns_Rank', 'Homicide_Rate_2018', 'Islander_Percent', 'Health_Care_Score', 'Infrastructure_Score', 'Public_Access_to_Information', 'Internal_Auditing', 'Change_Absolute', 'GDP_Rank', 'Gun_Suicide_Rate', 'Total_Area_sq_km', 'Suicide_Rate_2015', 'Suicide_Rate_2016', 'Percent_Total_2019', 'Census_Estimate_2019', 'label_line_d', 'Google_Suggest_First', 'Legislative_Accountability', 'Confirmed_Doubling', 'Total_Area_sq_mi', 'Land_Area_sq_mi', 'Rank_2010', 'centroid_y', 'White_Percent', 'text_x', 'Population_per_House_Seat', 'Total_Murder_Deaths_2010', 'Homicide_Rate_2014', 'Economy', 'Infrastructure', 'Population_Per_House_Seat_2019', 'Fiscal Stability', 'Census_2010', 'Percent_Change', 'Suicide_Rate_2014', 'Land_Area_Percent', 'State_Abbreviation', 'Homicide_Rate_1996', 'Judicial_Accountability', 'Percent_US_Population', 'Suicide_Deaths_2005', 'Procurement', 'Water_Rank', 'Deaths_Doubling', 'State_Name', 'Homicide_Rate_2000', 'Land_Area_Rank', 'district_abbreviation', 'House_Seats_Total', 'Gun_Murder_Rate_2010', 'Population_Per_House_Seat_2010', 'State_Region', 'Natural Environment', 'Total_Area_Rank', 'Fiscal_Stability_Score', 'Natural_Environment_Score', 'GDP_2018', 'Political_Financing', 'Hispanic_Percent', 'text_y', 'Census_per_House_Seat', 'Homicide_Rate_2017', 'State_Population', 'Suicide_Deaths_2016', 'Population_2019', 'FIPS', 'Executive_Accountability', 'Education_Score', 'Population_Per_Electoral_Vote_2019', 'Google_Suggest_Unique', 'Water_sq_km', 'Crime & Corrections', 'centroid_x', 'Education', 'Census_Population_2010', 'Suicide_Rate_2017', 'State_Civil_Service_Management', 'Suicide_Deaths_2015', 'Rank_Current', 'Homicide_Rate_2005', 'Population_per_Electoral_Vote', 'Google_Suggest_Common', 'State_Pension_Fund_Management', 'Water_sq_mi', 'Suicide_Deaths_2017', 'Gun_Ownership_Percent_2013', 'State_FIPS', 'Effectiveness_Rank', 'Absolute_Change', 'DD_Smoothed', 'Native_Percent', 'Murder_Rate_2010', 'Change_Percent', 'Confirmed_Cumulative', 'Lobbying_Disclosure', 'GDP_Percent', 'Ethics_Enforcement_Entities', 'Inhabitants_Per_Square_Mile_2010'}"
      ]
     },
     "execution_count": 36,
     "metadata": {},
     "output_type": "execute_result"
    }
   ],
   "source": [
    "\n",
    "columns_set = set()\n",
    "for df_name in df_name_list:\n",
    "    for column_name in cn_dict[df_name]:\n",
    "        columns_set.add(column_name)\n",
    "columns_set"
   ]
  },
  {
   "cell_type": "code",
   "execution_count": null,
   "metadata": {},
   "outputs": [],
   "source": []
  }
 ],
 "metadata": {
  "kernelspec": {
   "display_name": "Python 3",
   "language": "python",
   "name": "python3"
  },
  "language_info": {
   "codemirror_mode": {
    "name": "ipython",
    "version": 3
   },
   "file_extension": ".py",
   "mimetype": "text/x-python",
   "name": "python",
   "nbconvert_exporter": "python",
   "pygments_lexer": "ipython3",
   "version": "3.7.7"
  }
 },
 "nbformat": 4,
 "nbformat_minor": 4
}
