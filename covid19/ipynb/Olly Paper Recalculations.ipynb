{
 "cells": [
  {
   "cell_type": "markdown",
   "metadata": {},
   "source": [
    "\n",
    "Olly Johnson\n",
    "Attachments\n",
    "9:27 AM (3 hours ago)\n",
    "to p.garland, me\n",
    "\n",
    "from:\tOlly Johnson <bristoliver@gmail.com>\n",
    "to:\tp.garland@soton.ac.uk,\n",
    "dave.babbitt@gmail.com\n",
    "date:\tApr 28, 2020, 9:27 AM\n",
    "subject:\tUpdated version\n",
    "mailed-by:\tgmail.com\n",
    "signed-by:\tgmail.com\n",
    "security:\t Standard encryption (TLS) Learn more\n",
    ":\tImportant according to Google magic.\n",
    "Dear both,\n",
    "\n",
    "I think I am getting there with the text: I'm attaching the pdf as it stands.\n",
    "\n",
    "There are obviousy lots of little things that need doing (things like your affiliations, polishing etc), but I think the main one right now is the graphs.\n",
    "\n",
    "I think it would be good to have 2 each: one with regular density, one with the weighted density. I think it makes sense to make them look as similar as we can (i.e. prepared in the same package) if we can manage that.\n",
    "\n",
    "A couple of technical issues;\n",
    "- Dave's graphs needed a log-log scale to show the correlation well (because the density varied a lot). Patrick, can yours do that, or do we need to do it differently for the two continents? I argued in the article that we're tracking rate of exponential growth, so I think it makes sense for deaths to be on a log-scale at least.\n",
    "- I think it's possible the base point is slightly different: one (Patrick) may be \"first hitting 5 deaths total\" and the other (Dave) may be \"first hitting 5 deaths in a day\". Again, I don't think it matters too much, but best to be clear.\n",
    "\n",
    "I'm happy to keep working on results and conclusions section, but feel free to make edits of any bits you'd like to.\n",
    "\n",
    "All the best,\n",
    "\n",
    "Olly"
   ]
  },
  {
   "cell_type": "code",
   "execution_count": 2,
   "metadata": {},
   "outputs": [],
   "source": [
    "\n",
    "%run ../../load_magic/storage.py\n",
    "s = Storage()"
   ]
  },
  {
   "cell_type": "markdown",
   "metadata": {},
   "source": [
    "\n",
    "----\n",
    "## Create Density DataFrame"
   ]
  },
  {
   "cell_type": "code",
   "execution_count": 12,
   "metadata": {},
   "outputs": [],
   "source": [
    "\n",
    "counties_df = s.load_object('counties_df')\n",
    "state_groupby = counties_df.groupby('State_Name')\n",
    "weighted_density_dict = {}\n",
    "for state_name, state_df in state_groupby:\n",
    "    state_population = state_df.Estimate_2019.sum()\n",
    "    weighted_density = 0\n",
    "    for row_index, row_series in state_df.iterrows():\n",
    "        county_population = row_series.Estimate_2019\n",
    "        county_area = row_series.Land_Area\n",
    "        weighted_density += county_population**2/county_area\n",
    "    weighted_density /= state_population\n",
    "    weighted_density_dict[state_name] = weighted_density"
   ]
  },
  {
   "cell_type": "code",
   "execution_count": 13,
   "metadata": {},
   "outputs": [],
   "source": [
    "\n",
    "states_stats_df = s.load_object('states_stats_df')\n",
    "density_df = pd.DataFrame.from_dict(weighted_density_dict, orient='index', columns=['Weighted_Density'])\n",
    "density_df = pd.concat([states_stats_df.State_Abbreviation, density_df], axis='columns')\n",
    "density_df.set_index('State_Abbreviation', drop=True, inplace=True)"
   ]
  },
  {
   "cell_type": "code",
   "execution_count": 14,
   "metadata": {},
   "outputs": [],
   "source": [
    "\n",
    "# This is the standard population density calculation\n",
    "columns_list = ['State_Abbreviation', 'State_Population', 'Land_Area_sq_km']\n",
    "df = states_stats_df[columns_list]\n",
    "df.set_index('State_Abbreviation', drop=True, inplace=True)\n",
    "density_series = df.apply(lambda row_series: row_series.State_Population / row_series.Land_Area_sq_km, axis='columns')\n",
    "density_series.name = 'Standard_Population_Density'\n",
    "density_df = pd.concat([density_df, density_series], axis='columns')\n",
    "#density_series"
   ]
  },
  {
   "cell_type": "code",
   "execution_count": 15,
   "metadata": {},
   "outputs": [],
   "source": [
    "\n",
    "url = 'https://covidtracking.com/api/v1/states/daily.csv'\n",
    "states_deaths_series = pd.read_csv(url,\n",
    "                                   usecols=['date', 'state', 'death'],\n",
    "                                   parse_dates=['date'],\n",
    "                                   index_col=['state', 'date'],\n",
    "                                   squeeze=True).sort_index()\n",
    "states_deaths_series.fillna(value=0, inplace=True)\n",
    "states_deaths_series = states_deaths_series.map(lambda x: int(x))"
   ]
  },
  {
   "cell_type": "code",
   "execution_count": 16,
   "metadata": {},
   "outputs": [
    {
     "name": "stdout",
     "output_type": "stream",
     "text": [
      "AK hit 6 deaths in a day on April 05. 10 days later, on April 15, AK had a death toll of 9 in one day.\n",
      "AL hit 6 deaths in a day on March 30. 10 days later, on April 09, AL had a death toll of 74 in one day.\n",
      "AR hit 6 deaths in a day on March 29. 10 days later, on April 08, AR had a death toll of 18 in one day.\n",
      "AZ hit 6 deaths in a day on March 25. 10 days later, on April 04, AZ had a death toll of 52 in one day.\n",
      "CA hit 6 deaths in a day on March 16. 10 days later, on March 26, CA had a death toll of 65 in one day.\n",
      "CO hit 6 deaths in a day on March 23. 10 days later, on April 02, CO had a death toll of 80 in one day.\n",
      "CT hit 10 deaths in a day on March 23. 10 days later, on April 02, CT had a death toll of 112 in one day.\n",
      "DC hit 9 deaths in a day on March 30. 10 days later, on April 09, DC had a death toll of 32 in one day.\n",
      "DE hit 6 deaths in a day on March 29. 10 days later, on April 08, DE had a death toll of 16 in one day.\n",
      "FL hit 6 deaths in a day on March 17. 10 days later, on March 27, FL had a death toll of 34 in one day.\n",
      "GA hit 10 deaths in a day on March 19. 10 days later, on March 29, GA had a death toll of 80 in one day.\n",
      "HI hit 6 deaths in a day on April 10. 10 days later, on April 20, HI had a death toll of 10 in one day.\n",
      "IA hit 6 deaths in a day on March 30. 10 days later, on April 09, IA had a death toll of 29 in one day.\n",
      "ID hit 6 deaths in a day on March 30. 10 days later, on April 09, ID had a death toll of 18 in one day.\n",
      "IL hit 6 deaths in a day on March 21. 10 days later, on March 31, IL had a death toll of 99 in one day.\n",
      "IN hit 6 deaths in a day on March 22. 10 days later, on April 01, IN had a death toll of 65 in one day.\n",
      "KS hit 6 deaths in a day on March 29. 10 days later, on April 08, KS had a death toll of 38 in one day.\n",
      "KY hit 6 deaths in a day on March 27. 10 days later, on April 06, KY had a death toll of 45 in one day.\n",
      "LA hit 6 deaths in a day on March 18. 10 days later, on March 28, LA had a death toll of 137 in one day.\n",
      "MA hit 7 deaths in a day on March 21. 10 days later, on March 31, MA had a death toll of 153 in one day.\n",
      "MD hit 10 deaths in a day on March 29. 10 days later, on April 08, MD had a death toll of 124 in one day.\n",
      "ME hit 7 deaths in a day on April 01. 10 days later, on April 11, ME had a death toll of 19 in one day.\n",
      "MI hit 8 deaths in a day on March 22. 10 days later, on April 01, MI had a death toll of 337 in one day.\n",
      "MN hit 9 deaths in a day on March 29. 10 days later, on April 08, MN had a death toll of 39 in one day.\n",
      "MO hit 8 deaths in a day on March 25. 10 days later, on April 04, MO had a death toll of 24 in one day.\n",
      "MS hit 6 deaths in a day on March 26. 10 days later, on April 05, MS had a death toll of 43 in one day.\n",
      "MT hit 6 deaths in a day on April 05. 10 days later, on April 15, MT had a death toll of 7 in one day.\n",
      "NC hit 6 deaths in a day on March 30. 10 days later, on April 09, NC had a death toll of 65 in one day.\n",
      "ND hit 6 deaths in a day on April 10. 10 days later, on April 20, ND had a death toll of 13 in one day.\n",
      "NE hit 6 deaths in a day on April 03. 10 days later, on April 13, NE had a death toll of 17 in one day.\n",
      "NH hit 7 deaths in a day on April 04. 10 days later, on April 14, NH had a death toll of 23 in one day.\n",
      "NJ hit 9 deaths in a day on March 19. 10 days later, on March 29, NJ had a death toll of 161 in one day.\n",
      "NM hit 6 deaths in a day on April 02. 10 days later, on April 12, NM had a death toll of 20 in one day.\n",
      "NV hit 6 deaths in a day on March 25. 10 days later, on April 04, NV had a death toll of 46 in one day.\n",
      "NY hit 7 deaths in a day on March 16. 10 days later, on March 26, NY had a death toll of 385 in one day.\n",
      "OH hit 6 deaths in a day on March 23. 10 days later, on April 02, OH had a death toll of 81 in one day.\n",
      "OK hit 7 deaths in a day on March 26. 10 days later, on April 05, OK had a death toll of 46 in one day.\n",
      "OR hit 8 deaths in a day on March 24. 10 days later, on April 03, OR had a death toll of 22 in one day.\n",
      "PA hit 6 deaths in a day on March 23. 10 days later, on April 02, PA had a death toll of 90 in one day.\n",
      "PR hit 6 deaths in a day on March 30. 10 days later, on April 09, PR had a death toll of 33 in one day.\n",
      "RI hit 8 deaths in a day on March 31. 10 days later, on April 10, RI had a death toll of 49 in one day.\n",
      "SC hit 7 deaths in a day on March 25. 10 days later, on April 04, SC had a death toll of 40 in one day.\n",
      "SD hit 6 deaths in a day on April 07. 10 days later, on April 17, SD had a death toll of 7 in one day.\n",
      "TN hit 6 deaths in a day on March 27. 10 days later, on April 06, TN had a death toll of 65 in one day.\n",
      "TX hit 8 deaths in a day on March 23. 10 days later, on April 02, TX had a death toll of 70 in one day.\n",
      "UT hit 7 deaths in a day on April 01. 10 days later, on April 11, UT had a death toll of 18 in one day.\n",
      "VA hit 6 deaths in a day on March 23. 10 days later, on April 02, VA had a death toll of 41 in one day.\n",
      "VT hit 7 deaths in a day on March 24. 10 days later, on April 03, VT had a death toll of 17 in one day.\n",
      "WA hit 8 deaths in a day on March 01. 10 days later, on March 11, WA had a death toll of 40 in one day.\n",
      "WI hit 7 deaths in a day on March 25. 10 days later, on April 04, WI had a death toll of 56 in one day.\n",
      "WV hit 8 deaths in a day on April 12. 10 days later, on April 22, WV had a death toll of 26 in one day.\n"
     ]
    }
   ],
   "source": [
    "\n",
    "import re\n",
    "from datetime import timedelta\n",
    "\n",
    "f_str = '{} hit {} deaths in a day on {}. 10 days later, on {}, {} had a death toll of {} in one day.'\n",
    "rows_list = []\n",
    "column_name = re.sub(' ', '_', 'first hitting 5 deaths in a day'.title())\n",
    "for state_abbrev, deaths_series in states_deaths_series.groupby('state'):\n",
    "    i = deaths_series.searchsorted(5, side='right', sorter=None)\n",
    "    if i < len(deaths_series):\n",
    "        death_count = deaths_series[i]\n",
    "        index_tuple = deaths_series.index[i]\n",
    "        hit_date = index_tuple[1]\n",
    "        later_date = hit_date + timedelta(days=10)\n",
    "        mask_series = (deaths_series.index.get_level_values('date') >= later_date)\n",
    "        ds = deaths_series[mask_series]\n",
    "        #print(state_abbrev, death_count, ds.shape[0])\n",
    "        if ds.shape[0] > 0:\n",
    "            later_count = ds.iloc[0]\n",
    "            row_dict = {}\n",
    "            row_dict['State_Abbreviation'] = state_abbrev\n",
    "            row_dict['Later_Count_After_{}'.format(column_name)] = later_count\n",
    "            rows_list.append(row_dict.copy())\n",
    "            print(f_str.format(state_abbrev, death_count, hit_date.strftime('%B %d'),\n",
    "                               later_date.strftime('%B %d'), state_abbrev, later_count))\n",
    "density_df = pd.concat([density_df, pd.DataFrame(rows_list).set_index('State_Abbreviation', drop=True, inplace=False)], axis='columns')"
   ]
  },
  {
   "cell_type": "code",
   "execution_count": 40,
   "metadata": {},
   "outputs": [
    {
     "name": "stdout",
     "output_type": "stream",
     "text": [
      "AK hit 5 cumulative deaths on March 28. 10 days later, on April 07, AK had a death toll of 6 in one day.\n",
      "AL hit 7 cumulative deaths on March 28. 10 days later, on April 07, AL had a death toll of 56 in one day.\n",
      "AR hit 5 cumulative deaths on March 26. 10 days later, on April 05, AR had a death toll of 16 in one day.\n",
      "AZ hit 5 cumulative deaths on March 23. 10 days later, on April 02, AZ had a death toll of 32 in one day.\n",
      "CA hit 8 cumulative deaths on March 13. 10 days later, on March 23, CA had a death toll of 27 in one day.\n",
      "CO hit 6 cumulative deaths on March 18. 10 days later, on March 28, CO had a death toll of 31 in one day.\n",
      "CT hit 8 cumulative deaths on March 21. 10 days later, on March 31, CT had a death toll of 69 in one day.\n",
      "DC hit 5 cumulative deaths on March 23. 10 days later, on April 02, DC had a death toll of 12 in one day.\n",
      "DE hit 6 cumulative deaths on March 28. 10 days later, on April 07, DE had a death toll of 16 in one day.\n",
      "FL hit 6 cumulative deaths on March 13. 10 days later, on March 23, FL had a death toll of 14 in one day.\n",
      "GA hit 5 cumulative deaths on March 17. 10 days later, on March 27, GA had a death toll of 64 in one day.\n",
      "GU hit 5 cumulative deaths on March 26. 10 days later, on April 05, GU had a death toll of 4 in one day.\n",
      "HI hit 7 cumulative deaths on April 04. 10 days later, on April 14, HI had a death toll of 9 in one day.\n",
      "IA hit 5 cumulative deaths on March 27. 10 days later, on April 06, IA had a death toll of 25 in one day.\n",
      "ID hit 7 cumulative deaths on March 28. 10 days later, on April 07, ID had a death toll of 13 in one day.\n",
      "IL hit 6 cumulative deaths on March 19. 10 days later, on March 29, IL had a death toll of 65 in one day.\n",
      "IN hit 5 cumulative deaths on March 18. 10 days later, on March 28, IN had a death toll of 31 in one day.\n",
      "KS hit 5 cumulative deaths on March 18. 10 days later, on March 28, KS had a death toll of 5 in one day.\n",
      "KY hit 5 cumulative deaths on March 20. 10 days later, on March 30, KY had a death toll of 9 in one day.\n",
      "LA hit 8 cumulative deaths on March 17. 10 days later, on March 27, LA had a death toll of 119 in one day.\n",
      "MA hit 5 cumulative deaths on March 19. 10 days later, on March 29, MA had a death toll of 99 in one day.\n",
      "MD hit 7 cumulative deaths on March 22. 10 days later, on April 01, MD had a death toll of 31 in one day.\n",
      "ME hit 5 cumulative deaths on March 29. 10 days later, on April 08, ME had a death toll of 14 in one day.\n",
      "MI hit 6 cumulative deaths on March 20. 10 days later, on March 30, MI had a death toll of 184 in one day.\n",
      "MN hit 5 cumulative deaths on March 25. 10 days later, on April 04, MN had a death toll of 24 in one day.\n",
      "MO hit 5 cumulative deaths on March 21. 10 days later, on March 31, MO had a death toll of 14 in one day.\n",
      "MP hit 5 cumulative deaths on April 06. 10 days later, on April 16, MP had a death toll of 2 in one day.\n",
      "MS hit 5 cumulative deaths on March 24. 10 days later, on April 03, MS had a death toll of 29 in one day.\n",
      "MT hit 6 cumulative deaths on March 30. 10 days later, on April 09, MT had a death toll of 6 in one day.\n",
      "NC hit 6 cumulative deaths on March 27. 10 days later, on April 06, NC had a death toll of 33 in one day.\n",
      "ND hit 7 cumulative deaths on March 31. 10 days later, on April 10, ND had a death toll of 6 in one day.\n",
      "NE hit 6 cumulative deaths on March 30. 10 days later, on April 09, NE had a death toll of 14 in one day.\n",
      "NH hit 6 cumulative deaths on March 28. 10 days later, on April 07, NH had a death toll of 9 in one day.\n",
      "NJ hit 6 cumulative deaths on March 15. 10 days later, on March 25, NJ had a death toll of 62 in one day.\n",
      "NM hit 6 cumulative deaths on March 29. 10 days later, on April 08, NM had a death toll of 13 in one day.\n",
      "NV hit 5 cumulative deaths on March 20. 10 days later, on March 30, NV had a death toll of 15 in one day.\n",
      "NY hit 10 cumulative deaths on March 16. 10 days later, on March 26, NY had a death toll of 385 in one day.\n",
      "OH hit 7 cumulative deaths on March 22. 10 days later, on April 01, OH had a death toll of 65 in one day.\n",
      "OK hit 5 cumulative deaths on March 22. 10 days later, on April 01, OK had a death toll of 30 in one day.\n",
      "OR hit 6 cumulative deaths on March 19. 10 days later, on March 29, OR had a death toll of 13 in one day.\n",
      "PA hit 5 cumulative deaths on March 21. 10 days later, on March 31, PA had a death toll of 63 in one day.\n",
      "PR hit 6 cumulative deaths on March 25. 10 days later, on April 04, PR had a death toll of 18 in one day.\n",
      "RI hit 7 cumulative deaths on March 30. 10 days later, on April 09, RI had a death toll of 43 in one day.\n",
      "SC hit 5 cumulative deaths on March 20. 10 days later, on March 30, SC had a death toll of 18 in one day.\n",
      "SD hit 5 cumulative deaths on March 22. 10 days later, on April 01, SD had a death toll of 2 in one day.\n",
      "TN hit 7 cumulative deaths on March 25. 10 days later, on April 04, TN had a death toll of 43 in one day.\n",
      "TX hit 6 cumulative deaths on March 19. 10 days later, on March 29, TX had a death toll of 34 in one day.\n",
      "UT hit 5 cumulative deaths on March 26. 10 days later, on April 05, UT had a death toll of 8 in one day.\n",
      "VA hit 6 cumulative deaths on March 19. 10 days later, on March 29, VA had a death toll of 22 in one day.\n",
      "VI hit 5 cumulative deaths on April 09. 10 days later, on April 19, VI had a death toll of 3 in one day.\n",
      "VT hit 6 cumulative deaths on March 22. 10 days later, on April 01, VT had a death toll of 16 in one day.\n",
      "WA hit 8 cumulative deaths on February 28. 10 days later, on March 09, WA had a death toll of 35 in one day.\n",
      "WI hit 7 cumulative deaths on March 21. 10 days later, on March 31, WI had a death toll of 16 in one day.\n",
      "WV hit 5 cumulative deaths on April 02. 10 days later, on April 12, WV had a death toll of 8 in one day.\n",
      "WY hit 6 cumulative deaths on April 16. 10 days later, on April 26, WY had a death toll of 7 in one day.\n"
     ]
    }
   ],
   "source": [
    "\n",
    "import re\n",
    "from datetime import timedelta\n",
    "\n",
    "f_str = '{} hit {} cumulative deaths on {}. 10 days later, on {}, {} had a death toll of {} in one day.'\n",
    "rows_list = []\n",
    "column_name = re.sub(' ', '_', 'first hitting 5 deaths total'.title())\n",
    "for state_abbrev, deaths_series in states_deaths_series.groupby('state'):\n",
    "    cum_series = deaths_series.cumsum()\n",
    "    i = cum_series.searchsorted(5, side='left', sorter=None)\n",
    "    if i < cum_series.shape[0]:\n",
    "        death_count = cum_series[i]\n",
    "        index_tuple = cum_series.index[i]\n",
    "        hit_date = index_tuple[1]\n",
    "        later_date = hit_date + timedelta(days=10)\n",
    "        mask_series = (deaths_series.index.get_level_values('date') >= later_date)\n",
    "        ds = deaths_series[mask_series]\n",
    "        if ds.shape[0] > 0:\n",
    "            later_count = ds.iloc[0]\n",
    "            row_dict = {}\n",
    "            row_dict['State_Abbreviation'] = state_abbrev\n",
    "            row_dict['Later_Count_After_{}'.format(column_name)] = later_count\n",
    "            rows_list.append(row_dict.copy())\n",
    "            print(f_str.format(state_abbrev, death_count, hit_date.strftime('%B %d'),\n",
    "                               later_date.strftime('%B %d'), state_abbrev, later_count))\n",
    "density_df = pd.concat([density_df, pd.DataFrame(rows_list).set_index('State_Abbreviation', drop=True, inplace=False)], axis='columns')"
   ]
  },
  {
   "cell_type": "code",
   "execution_count": 41,
   "metadata": {},
   "outputs": [
    {
     "name": "stdout",
     "output_type": "stream",
     "text": [
      "Pickling to D:\\Documents\\Repositories\\notebooks\\covid19\\saves\\pickle\\density_df.pickle\n",
      "Saving to D:\\Documents\\Repositories\\notebooks\\covid19\\saves\\csv\\density_df.csv\n"
     ]
    }
   ],
   "source": [
    "\n",
    "s.store_objects(density_df=density_df)\n",
    "s.save_dataframes(include_index=True, density_df=density_df)"
   ]
  },
  {
   "cell_type": "code",
   "execution_count": 43,
   "metadata": {},
   "outputs": [
    {
     "name": "stdout",
     "output_type": "stream",
     "text": [
      "Pickling to D:\\Documents\\Repositories\\notebooks\\covid19\\saves\\pickle\\density_df.pickle\n",
      "Saving to D:\\Documents\\Repositories\\notebooks\\covid19\\saves\\csv\\density_df.csv\n"
     ]
    }
   ],
   "source": [
    "\n",
    "import numpy as np\n",
    "\n",
    "density_df = s.load_object('density_df')\n",
    "for column_name in density_df.columns:\n",
    "    log_column_name = 'Log_{}'.format(column_name)\n",
    "    density_df[log_column_name] = density_df[column_name].map(lambda x: np.log(x))\n",
    "s.store_objects(density_df=density_df)\n",
    "s.save_dataframes(include_index=True, density_df=density_df)"
   ]
  },
  {
   "cell_type": "code",
   "execution_count": 45,
   "metadata": {},
   "outputs": [
    {
     "data": {
      "text/plain": [
       "['Weighted_Density',\n",
       " 'Standard_Population_Density',\n",
       " 'Later_Count_After_First_Hitting_5_Deaths_In_A_Day',\n",
       " 'Later_Count_After_First_Hitting_5_Deaths_Total',\n",
       " 'Log_Weighted_Density',\n",
       " 'Log_Standard_Population_Density',\n",
       " 'Log_Later_Count_After_First_Hitting_5_Deaths_In_A_Day',\n",
       " 'Log_Later_Count_After_First_Hitting_5_Deaths_Total']"
      ]
     },
     "execution_count": 45,
     "metadata": {},
     "output_type": "execute_result"
    }
   ],
   "source": [
    "\n",
    "density_df.columns.tolist()"
   ]
  },
  {
   "cell_type": "code",
   "execution_count": 50,
   "metadata": {},
   "outputs": [
    {
     "name": "stdout",
     "output_type": "stream",
     "text": [
      "For the Log_Later_Count_After_First_Hitting_5_Deaths_In_A_Day column, the coefficient of determination (with a p-value of <0.0001) is 0.46.\n",
      "For the Log_Later_Count_After_First_Hitting_5_Deaths_Total column, the coefficient of determination (with a p-value of <0.0001) is 0.39.\n"
     ]
    }
   ],
   "source": [
    "\n",
    "from scipy.stats import pearsonr\n",
    "\n",
    "# Get r squared value\n",
    "qe_column = 'Log_Weighted_Density'\n",
    "f_str = 'For the {} column, the coefficient of determination (with a p-value of {}) is {}.'\n",
    "for qr_column in ['Log_Later_Count_After_First_Hitting_5_Deaths_In_A_Day', 'Log_Later_Count_After_First_Hitting_5_Deaths_Total']:\n",
    "    columns_list = [qe_column, qr_column]\n",
    "    df = density_df[columns_list].dropna(axis='index', how='any')\n",
    "    pearsonr_tuple = pearsonr(df[qe_column], df[qr_column])\n",
    "    pearson_r = pearsonr_tuple[0]\n",
    "    pearsonr_statement = str('%.2f' % pearson_r)\n",
    "    coefficient_of_determination_statement = str('%.2f' % pearson_r**2)\n",
    "    p_value = pearsonr_tuple[1]\n",
    "    if p_value < 0.0001:\n",
    "        pvalue_statement = '<0.0001'\n",
    "    else:\n",
    "        pvalue_statement = '=' + str('%.4f' % p_value)\n",
    "    print(f_str.format(qr_column, pvalue_statement, coefficient_of_determination_statement))"
   ]
  },
  {
   "cell_type": "code",
   "execution_count": 51,
   "metadata": {},
   "outputs": [],
   "source": [
    "\n",
    "import re\n",
    "from datetime import timedelta\n",
    "\n",
    "for i in range(1, 51):\n",
    "    rows_list = []\n",
    "    column_name = 'hitting{}'.format(i)\n",
    "    for state_abbrev, deaths_series in states_deaths_series.groupby('state'):\n",
    "        cum_series = deaths_series.cumsum()\n",
    "        i = cum_series.searchsorted(i, side='left', sorter=None)\n",
    "        if i < cum_series.shape[0]:\n",
    "            death_count = cum_series[i]\n",
    "            index_tuple = cum_series.index[i]\n",
    "            hit_date = index_tuple[1]\n",
    "            later_date = hit_date + timedelta(days=10)\n",
    "            mask_series = (deaths_series.index.get_level_values('date') >= later_date)\n",
    "            ds = deaths_series[mask_series]\n",
    "            if ds.shape[0] > 0:\n",
    "                later_count = ds.iloc[0]\n",
    "                row_dict = {}\n",
    "                row_dict['State_Abbreviation'] = state_abbrev\n",
    "                row_dict['{}'.format(column_name)] = later_count\n",
    "                rows_list.append(row_dict.copy())\n",
    "    density_df = pd.concat([density_df, pd.DataFrame(rows_list).set_index('State_Abbreviation', drop=True, inplace=False)],\n",
    "                           axis='columns')"
   ]
  },
  {
   "cell_type": "code",
   "execution_count": 52,
   "metadata": {},
   "outputs": [],
   "source": [
    "\n",
    "for i in range(1, 51):\n",
    "    column_name = 'hitting{}'.format(i)\n",
    "    log_column_name = 'Log_{}'.format(column_name)\n",
    "    density_df[log_column_name] = density_df[column_name].map(lambda x: np.log(x))"
   ]
  },
  {
   "cell_type": "code",
   "execution_count": 53,
   "metadata": {},
   "outputs": [
    {
     "name": "stdout",
     "output_type": "stream",
     "text": [
      "Pickling to D:\\Documents\\Repositories\\notebooks\\covid19\\saves\\pickle\\coefficients_df.pickle\n",
      "Saving to D:\\Documents\\Repositories\\notebooks\\covid19\\saves\\csv\\coefficients_df.csv\n"
     ]
    }
   ],
   "source": [
    "\n",
    "from scipy.stats import pearsonr\n",
    "\n",
    "# Get r squared value\n",
    "qe_column = 'Log_Weighted_Density'\n",
    "rows_list = []\n",
    "for i in range(1, 51):\n",
    "    column_name = 'hitting{}'.format(i)\n",
    "    qr_column = 'Log_{}'.format(column_name)\n",
    "    columns_list = [qe_column, qr_column]\n",
    "    df = density_df[columns_list].dropna(axis='index', how='any')\n",
    "    pearsonr_tuple = pearsonr(df[qe_column], df[qr_column])\n",
    "    pearson_r = pearsonr_tuple[0]\n",
    "    coefficient_of_determination = pearson_r**2\n",
    "    p_value = pearsonr_tuple[1]\n",
    "    row_dict = {}\n",
    "    row_dict['cumulative_deaths'] = i\n",
    "    row_dict['coefficient_of_determination'] = coefficient_of_determination\n",
    "    row_dict['p_value'] = p_value\n",
    "    rows_list.append(row_dict.copy())\n",
    "coefficients_df = pd.DataFrame(rows_list)\n",
    "s.store_objects(coefficients_df=coefficients_df)\n",
    "s.save_dataframes(include_index=True, coefficients_df=coefficients_df)"
   ]
  },
  {
   "cell_type": "code",
   "execution_count": 55,
   "metadata": {},
   "outputs": [
    {
     "data": {
      "image/png": "[encoded data removed]",
      "text/plain": [
       "<Figure size 432x288 with 1 Axes>"
      ]
     },
     "metadata": {
      "needs_background": "light"
     },
     "output_type": "display_data"
    }
   ],
   "source": [
    "\n",
    "AxesSubplot_obj = coefficients_df.p_value.plot.line()"
   ]
  },
  {
   "cell_type": "code",
   "execution_count": 56,
   "metadata": {},
   "outputs": [
    {
     "data": {
      "image/png": "[encoded data removed]",
      "text/plain": [
       "<Figure size 432x288 with 1 Axes>"
      ]
     },
     "metadata": {
      "needs_background": "light"
     },
     "output_type": "display_data"
    }
   ],
   "source": [
    "\n",
    "AxesSubplot_obj = coefficients_df.coefficient_of_determination.plot.line()"
   ]
  },
  {
   "cell_type": "code",
   "execution_count": 24,
   "metadata": {},
   "outputs": [],
   "source": [
    "\n",
    "import pyperclip\n",
    "\n",
    "pyperclip.copy(str(deaths_series.cumsum()))"
   ]
  },
  {
   "cell_type": "code",
   "execution_count": null,
   "metadata": {},
   "outputs": [],
   "source": []
  }
 ],
 "metadata": {
  "kernelspec": {
   "display_name": "Python 3",
   "language": "python",
   "name": "python3"
  },
  "language_info": {
   "codemirror_mode": {
    "name": "ipython",
    "version": 3
   },
   "file_extension": ".py",
   "mimetype": "text/x-python",
   "name": "python",
   "nbconvert_exporter": "python",
   "pygments_lexer": "ipython3",
   "version": "3.7.7"
  }
 },
 "nbformat": 4,
 "nbformat_minor": 4
}
