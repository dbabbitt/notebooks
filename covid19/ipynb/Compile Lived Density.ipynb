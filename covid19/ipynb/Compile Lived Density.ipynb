{
 "cells": [
  {
   "cell_type": "code",
   "execution_count": null,
   "metadata": {},
   "outputs": [],
   "source": []
  },
  {
   "cell_type": "markdown",
   "metadata": {},
   "source": [
    "\n",
    "# Create Density DataFrame"
   ]
  },
  {
   "cell_type": "code",
   "execution_count": 1,
   "metadata": {},
   "outputs": [],
   "source": [
    "\n",
    "%run ../../load_magic/storage.py\n",
    "s = Storage()\n",
    "counties_df = s.load_object('counties_df')\n",
    "state_groupby = counties_df.groupby('State_Name')\n",
    "weighted_density_dict = {}\n",
    "for state_name, state_df in state_groupby:\n",
    "    state_population = state_df.Estimate_2019.sum()\n",
    "    weighted_density = 0\n",
    "    for row_index, row_series in state_df.iterrows():\n",
    "        county_population = row_series.Estimate_2019\n",
    "        county_area = row_series.Land_Area\n",
    "        weighted_density += county_population**2/county_area\n",
    "    weighted_density /= state_population\n",
    "    weighted_density_dict[state_name] = weighted_density"
   ]
  },
  {
   "cell_type": "code",
   "execution_count": 2,
   "metadata": {},
   "outputs": [],
   "source": [
    "\n",
    "states_stats_df = s.load_object('states_stats_df')\n",
    "density_df = pd.DataFrame.from_dict(weighted_density_dict, orient='index', columns=['Weighted_Density'])\n",
    "density_df = pd.concat([states_stats_df.State_Abbreviation, density_df], axis='columns')\n",
    "density_df.set_index('State_Abbreviation', drop=True, inplace=True)"
   ]
  },
  {
   "cell_type": "code",
   "execution_count": 3,
   "metadata": {},
   "outputs": [],
   "source": [
    "\n",
    "# This is the standard population density calculation\n",
    "columns_list = ['State_Abbreviation', 'State_Population', 'Land_Area_sq_km']\n",
    "df = states_stats_df[columns_list]\n",
    "df.set_index('State_Abbreviation', drop=True, inplace=True)\n",
    "density_series = df.apply(lambda row_series: row_series.State_Population / row_series.Land_Area_sq_km, axis='columns')\n",
    "density_series.name = 'Standard_Population_Density'\n",
    "density_df = pd.concat([density_df, density_series], axis='columns')\n",
    "#density_series"
   ]
  },
  {
   "cell_type": "code",
   "execution_count": 4,
   "metadata": {},
   "outputs": [],
   "source": [
    "\n",
    "url = 'https://covidtracking.com/api/v1/states/daily.csv'\n",
    "states_deaths_series = pd.read_csv(url,\n",
    "                                   usecols=['date', 'state', 'death'],\n",
    "                                   parse_dates=['date'],\n",
    "                                   index_col=['state', 'date'],\n",
    "                                   squeeze=True).sort_index()\n",
    "states_deaths_series.fillna(value=0, inplace=True)\n",
    "states_deaths_series = states_deaths_series.map(lambda x: int(x))"
   ]
  },
  {
   "cell_type": "code",
   "execution_count": 5,
   "metadata": {},
   "outputs": [
    {
     "name": "stdout",
     "output_type": "stream",
     "text": [
      "AK hit 6 deaths on April 05. 10 days later, on April 15, AK had a death toll of 9.\n",
      "AL hit 6 deaths on March 30. 10 days later, on April 09, AL had a death toll of 74.\n",
      "AR hit 6 deaths on March 29. 10 days later, on April 08, AR had a death toll of 18.\n",
      "AZ hit 6 deaths on March 25. 10 days later, on April 04, AZ had a death toll of 52.\n",
      "CA hit 6 deaths on March 16. 10 days later, on March 26, CA had a death toll of 65.\n",
      "CO hit 6 deaths on March 23. 10 days later, on April 02, CO had a death toll of 80.\n",
      "CT hit 10 deaths on March 23. 10 days later, on April 02, CT had a death toll of 112.\n",
      "DC hit 9 deaths on March 30. 10 days later, on April 09, DC had a death toll of 32.\n",
      "DE hit 6 deaths on March 29. 10 days later, on April 08, DE had a death toll of 16.\n",
      "FL hit 6 deaths on March 17. 10 days later, on March 27, FL had a death toll of 34.\n",
      "GA hit 10 deaths on March 19. 10 days later, on March 29, GA had a death toll of 80.\n",
      "HI hit 6 deaths on April 10. 10 days later, on April 20, HI had a death toll of 10.\n",
      "IA hit 6 deaths on March 30. 10 days later, on April 09, IA had a death toll of 29.\n",
      "ID hit 6 deaths on March 30. 10 days later, on April 09, ID had a death toll of 18.\n",
      "IL hit 6 deaths on March 21. 10 days later, on March 31, IL had a death toll of 99.\n",
      "IN hit 6 deaths on March 22. 10 days later, on April 01, IN had a death toll of 65.\n",
      "KS hit 6 deaths on March 29. 10 days later, on April 08, KS had a death toll of 38.\n",
      "KY hit 6 deaths on March 27. 10 days later, on April 06, KY had a death toll of 45.\n",
      "LA hit 6 deaths on March 18. 10 days later, on March 28, LA had a death toll of 137.\n",
      "MA hit 7 deaths on March 21. 10 days later, on March 31, MA had a death toll of 153.\n",
      "MD hit 10 deaths on March 29. 10 days later, on April 08, MD had a death toll of 124.\n",
      "ME hit 7 deaths on April 01. 10 days later, on April 11, ME had a death toll of 19.\n",
      "MI hit 8 deaths on March 22. 10 days later, on April 01, MI had a death toll of 337.\n",
      "MN hit 9 deaths on March 29. 10 days later, on April 08, MN had a death toll of 39.\n",
      "MO hit 8 deaths on March 25. 10 days later, on April 04, MO had a death toll of 24.\n",
      "MS hit 6 deaths on March 26. 10 days later, on April 05, MS had a death toll of 43.\n",
      "MT hit 6 deaths on April 05. 10 days later, on April 15, MT had a death toll of 7.\n",
      "NC hit 6 deaths on March 30. 10 days later, on April 09, NC had a death toll of 65.\n",
      "ND hit 6 deaths on April 10. 10 days later, on April 20, ND had a death toll of 13.\n",
      "NE hit 6 deaths on April 03. 10 days later, on April 13, NE had a death toll of 17.\n",
      "NH hit 7 deaths on April 04. 10 days later, on April 14, NH had a death toll of 23.\n",
      "NJ hit 9 deaths on March 19. 10 days later, on March 29, NJ had a death toll of 161.\n",
      "NM hit 6 deaths on April 02. 10 days later, on April 12, NM had a death toll of 20.\n",
      "NV hit 6 deaths on March 25. 10 days later, on April 04, NV had a death toll of 46.\n",
      "NY hit 7 deaths on March 16. 10 days later, on March 26, NY had a death toll of 385.\n",
      "OH hit 6 deaths on March 23. 10 days later, on April 02, OH had a death toll of 81.\n",
      "OK hit 7 deaths on March 26. 10 days later, on April 05, OK had a death toll of 46.\n",
      "OR hit 8 deaths on March 24. 10 days later, on April 03, OR had a death toll of 22.\n",
      "PA hit 6 deaths on March 23. 10 days later, on April 02, PA had a death toll of 90.\n",
      "PR hit 6 deaths on March 30. 10 days later, on April 09, PR had a death toll of 33.\n",
      "RI hit 8 deaths on March 31. 10 days later, on April 10, RI had a death toll of 49.\n",
      "SC hit 7 deaths on March 25. 10 days later, on April 04, SC had a death toll of 40.\n",
      "SD hit 6 deaths on April 07. 10 days later, on April 17, SD had a death toll of 7.\n",
      "TN hit 6 deaths on March 27. 10 days later, on April 06, TN had a death toll of 65.\n",
      "TX hit 8 deaths on March 23. 10 days later, on April 02, TX had a death toll of 70.\n",
      "UT hit 7 deaths on April 01. 10 days later, on April 11, UT had a death toll of 18.\n",
      "VA hit 6 deaths on March 23. 10 days later, on April 02, VA had a death toll of 41.\n",
      "VT hit 7 deaths on March 24. 10 days later, on April 03, VT had a death toll of 17.\n",
      "WA hit 8 deaths on March 01. 10 days later, on March 11, WA had a death toll of 40.\n",
      "WI hit 7 deaths on March 25. 10 days later, on April 04, WI had a death toll of 56.\n",
      "WV hit 8 deaths on April 12. 10 days later, on April 22, WV had a death toll of 26.\n",
      "WY hit 6 deaths on April 21. 10 days later, on May 01, WY had a death toll of 7.\n"
     ]
    }
   ],
   "source": [
    "\n",
    "from datetime import timedelta\n",
    "\n",
    "f_str = '{} hit {} deaths on {}. 10 days later, on {}, {} had a death toll of {}.'\n",
    "rows_list = []\n",
    "for state_abbrev, deaths_series in states_deaths_series.groupby('state'):\n",
    "    i = deaths_series.searchsorted(5, side='right', sorter=None)\n",
    "    if i < len(deaths_series):\n",
    "        death_count = deaths_series[i]\n",
    "        index_tuple = deaths_series.index[i]\n",
    "        hit_date = index_tuple[1]\n",
    "        later_date = hit_date + timedelta(days=10)\n",
    "        mask_series = (deaths_series.index.get_level_values('date') >= later_date)\n",
    "        ds = deaths_series[mask_series]\n",
    "        #print(state_abbrev, death_count, ds.shape[0])\n",
    "        if ds.shape[0] > 0:\n",
    "            later_count = ds.iloc[0]\n",
    "            row_dict = {}\n",
    "            row_dict['State_Abbreviation'] = state_abbrev\n",
    "            row_dict['Later_Count'] = later_count\n",
    "            rows_list.append(row_dict.copy())\n",
    "            print(f_str.format(state_abbrev, death_count, hit_date.strftime('%B %d'),\n",
    "                               later_date.strftime('%B %d'), state_abbrev, later_count))\n",
    "density_df = pd.concat([density_df, pd.DataFrame(rows_list).set_index('State_Abbreviation', drop=True, inplace=False)], axis='columns')"
   ]
  },
  {
   "cell_type": "code",
   "execution_count": 7,
   "metadata": {},
   "outputs": [
    {
     "name": "stdout",
     "output_type": "stream",
     "text": [
      "Pickling to D:\\Documents\\Repositories\\notebooks\\covid19\\saves\\pickle\\density_df.pickle\n",
      "Saving to D:\\Documents\\Repositories\\notebooks\\covid19\\saves\\csv\\density_df.csv\n"
     ]
    }
   ],
   "source": [
    "\n",
    "import numpy as np\n",
    "\n",
    "density_df['Log_Weighted_Density'] = density_df.Weighted_Density.map(lambda x: np.log(x))\n",
    "density_df['Log_Later_Count'] = density_df.Later_Count.map(lambda x: np.log(x))\n",
    "s.store_objects(density_df=density_df)\n",
    "s.save_dataframes(include_index=True, density_df=density_df)"
   ]
  },
  {
   "cell_type": "code",
   "execution_count": null,
   "metadata": {},
   "outputs": [],
   "source": []
  }
 ],
 "metadata": {
  "kernelspec": {
   "display_name": "Python 3.7.6",
   "language": "python",
   "name": "python3"
  },
  "language_info": {
   "codemirror_mode": {
    "name": "ipython",
    "version": 3
   },
   "file_extension": ".py",
   "mimetype": "text/x-python",
   "name": "python",
   "nbconvert_exporter": "python",
   "pygments_lexer": "ipython3",
   "version": "3.7.6"
  }
 },
 "nbformat": 4,
 "nbformat_minor": 4
}
