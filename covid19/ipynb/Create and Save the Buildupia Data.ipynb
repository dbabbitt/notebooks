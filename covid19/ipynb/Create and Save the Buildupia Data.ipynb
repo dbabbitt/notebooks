{
 "cells": [
  {
   "cell_type": "code",
   "execution_count": null,
   "metadata": {
    "collapsed": false,
    "jupyter": {
     "outputs_hidden": false
    }
   },
   "outputs": [],
   "source": []
  },
  {
   "cell_type": "code",
   "execution_count": 1,
   "metadata": {},
   "outputs": [],
   "source": [
    "\n",
    "import numpy as np\n",
    "\n",
    "total_pop = 100_000\n",
    "\n",
    "# Averagia has a uniform spread of population, with 1,000 people living in each gridsquare.\n",
    "averagia_people_count = 1_000\n",
    "averagia_town_count = total_pop / averagia_people_count\n",
    "\n",
    "# Builtupia has ten towns, each of 10,000 people living in a single square kilometre, and the remaining land is uninhabited.\n",
    "builtupia_people_count = 10_000\n",
    "builtupia_town_count = total_pop / builtupia_people_count\n",
    "\n",
    "# Citia has one city, where 100,000 people live in a single square kilometre, and where the remaining land is uninhabited.\n",
    "citia_people_count = 100_000\n",
    "citia_town_count = total_pop / citia_people_count\n",
    "\n",
    "gridsquare_count = total_pop / averagia_people_count\n",
    "side_length = int(np.sqrt(gridsquare_count))"
   ]
  },
  {
   "cell_type": "code",
   "execution_count": 2,
   "metadata": {},
   "outputs": [
    {
     "name": "stdout",
     "output_type": "stream",
     "text": [
      "Pickling to D:\\Documents\\Repositories\\notebooks\\covid19\\saves\\pickle\\averagia_data.pickle\n",
      "Pickling to D:\\Documents\\Repositories\\notebooks\\covid19\\saves\\pickle\\builtupia_data.pickle\n",
      "Pickling to D:\\Documents\\Repositories\\notebooks\\covid19\\saves\\pickle\\citia_data.pickle\n"
     ]
    }
   ],
   "source": [
    "\n",
    "%run ../../load_magic/storage.py\n",
    "s = Storage()\n",
    "countries_list = ['averagia', 'builtupia', 'citia']\n",
    "for country in countries_list:\n",
    "    town_count = eval('{}_town_count'.format(country))\n",
    "    people_count = eval('{}_people_count'.format(country))\n",
    "    data = np.empty([side_length, side_length], dtype=int)\n",
    "    tuple_set = set()\n",
    "    while len(tuple_set) < town_count:\n",
    "        xy_tuple = (np.random.choice(side_length), np.random.choice(side_length))\n",
    "        tuple_set.add(xy_tuple)\n",
    "    data.fill(0)\n",
    "    for (x, y) in list(tuple_set):\n",
    "        data[x, y] = people_count\n",
    "    kwargs = {'{}_data'.format(country): data}\n",
    "    s.store_objects(**kwargs)"
   ]
  },
  {
   "cell_type": "code",
   "execution_count": null,
   "metadata": {},
   "outputs": [],
   "source": []
  }
 ],
 "metadata": {
  "kernelspec": {
   "display_name": "Python 3",
   "language": "python",
   "name": "python3"
  },
  "language_info": {
   "codemirror_mode": {
    "name": "ipython",
    "version": 3
   },
   "file_extension": ".py",
   "mimetype": "text/x-python",
   "name": "python",
   "nbconvert_exporter": "python",
   "pygments_lexer": "ipython3",
   "version": "3.7.7"
  }
 },
 "nbformat": 4,
 "nbformat_minor": 4
}
