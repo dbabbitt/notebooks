{
 "cells": [
  {
   "cell_type": "markdown",
   "metadata": {},
   "source": [
    "\n",
    "## Here are the statistically significant facts I've discovered from my own analysis:\n",
    "- 23% of the variability in the cumulative deaths of countries (but not states) can be explained by the average temperature\n",
    "![Average Temperature](../saves/png/countries_by_average_temp.png)\n",
    "\n",
    "- Half the variability in the initial death rush can be explained by lived density\n",
    "![Rate of Spread](../saves/png/rate_of_spread_vs_lived_density.png)\n",
    "\n",
    "- It's inconclusive whether the earliness of lockdown has any effect on the cumulative deaths (okay, not statistically significant :-/)\n",
    "![Speed of Lockdown](../saves/png/speed_of_lockdown.png)"
   ]
  },
  {
   "cell_type": "markdown",
   "metadata": {},
   "source": [
    "\n",
    "The best forecast is the real-time R0 estimation, which uses a Bayesian approach with a Gaussian-noise (Poisson distribution) process model for the posteriors. The grey band is the highest density intervals."
   ]
  },
  {
   "cell_type": "markdown",
   "metadata": {},
   "source": [
    "\n",
    "![Most Recent $R_t$ among the New England States](../saves/png/Most_Recent_Rt_among_the_New_England_States.png)"
   ]
  },
  {
   "cell_type": "markdown",
   "metadata": {},
   "source": [
    "\n",
    "Notice there is a lot of wiggle for the high-density states and none for the low ones. I guess they can cozy up and then snub each other in turn? (I now suspect that it's just an artifact of slow-reporting data sources.) Here's the roundup of all the states sorted by their maximum likelihood:\n",
    "![ML](../saves/png/states_by_ml.png)\n",
    "\n",
    "and sorted by the high 90% highest density interval:\n",
    "![ML](../saves/png/states_by_high.png)\n",
    "\n",
    "and sorted by the low 90% highest density interval:\n",
    "![ML](../saves/png/states_by_low.png)"
   ]
  },
  {
   "cell_type": "markdown",
   "metadata": {},
   "source": [
    "\n",
    "This makes the bad list:\n",
    "![Bad list](../saves/png/likely_not_under_control.png)\n",
    "\n",
    "and the good list:\n",
    "![Good list](../saves/png/likely_under_control.png)\n",
    "\n",
    "change from week to week."
   ]
  },
  {
   "cell_type": "code",
   "execution_count": null,
   "metadata": {},
   "outputs": [],
   "source": []
  }
 ],
 "metadata": {
  "kernelspec": {
   "display_name": "Python 3",
   "language": "python",
   "name": "python3"
  },
  "language_info": {
   "codemirror_mode": {
    "name": "ipython",
    "version": 3
   },
   "file_extension": ".py",
   "mimetype": "text/x-python",
   "name": "python",
   "nbconvert_exporter": "python",
   "pygments_lexer": "ipython3",
   "version": "3.7.6"
  }
 },
 "nbformat": 4,
 "nbformat_minor": 4
}
