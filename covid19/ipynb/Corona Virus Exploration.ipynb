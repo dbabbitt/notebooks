{
 "cells": [
  {
   "cell_type": "markdown",
   "metadata": {},
   "source": [
    "\n",
    "The R0 is between 2 and 6, meaning each infected person infects 2–6 others, which can cause the number of infected to double every few days."
   ]
  },
  {
   "cell_type": "code",
   "execution_count": null,
   "metadata": {},
   "outputs": [],
   "source": [
    "\n",
    "# https://informationisbeautiful.net/visualizations/covid-19-coronavirus-infographic-datapack/\n",
    "# https://docs.google.com/spreadsheets/d/1g_YxmDfQx7aOU2DKzNZo9b-NTk62Bju6X3z6OuCa6gw/edit#gid=515684451"
   ]
  },
  {
   "cell_type": "code",
   "execution_count": null,
   "metadata": {},
   "outputs": [],
   "source": [
    "\n",
    "command_str = '{sys.executable} -m pip install --upgrade statsmodels'.format(sys=sys)\n",
    "print(command_str)\n",
    "!{command_str}"
   ]
  },
  {
   "cell_type": "code",
   "execution_count": 1,
   "metadata": {},
   "outputs": [],
   "source": [
    "\n",
    "import sys\n",
    "\n",
    "# Insert at 1, 0 is the script path (or '' in REPL)\n",
    "sys.path.insert(1, '../py')"
   ]
  },
  {
   "cell_type": "code",
   "execution_count": 2,
   "metadata": {},
   "outputs": [
    {
     "name": "stdout",
     "output_type": "stream",
     "text": [
      "D:\\Documents\\Repositories\\notebooks\\covid19\\ipynb\\Corona Virus Exploration.ipynb\n",
      "['s.attempt_to_pickle', 's.data_csv_folder', 's.data_folder', 's.encoding_type', 's.load_csv', 's.load_dataframes', 's.load_object', 's.save_dataframes', 's.saves_csv_folder', 's.saves_folder', 's.saves_pickle_folder', 's.store_objects']\n",
      "Pretty printing has been turned OFF\n"
     ]
    },
    {
     "data": {
      "text/plain": [
       "['Config', 'In', 'Out', 'RandomForestClassifier', 'SequenceMatcher', 'Storage', '_', '__', '___', '__builtin__', '__builtins__', '__doc__', '__loader__', '__name__', '__nonzero__', '__package__', '__spec__', '_dh', '_i', '_i1', '_i2', '_ih', '_ii', '_iii', '_oh', 'bs', 'check_4_doubles', 'check_for_typos', 'conjunctify_list', 'copyfile', 'csv', 'encoding', 'example_iterrows', 'exit', 'filepath_regex', 'get_classifier', 'get_column_descriptions', 'get_data_structs_dataframe', 'get_datastructure_prediction', 'get_dir_tree', 'get_git_lfs_track_commands', 'get_importances', 'get_input_sample', 'get_ipython', 'get_max_rsquared_adj', 'get_module_version', 'get_notebook_path', 'get_page_tables', 'get_specific_gitignore_files', 'get_struct_name', 'humanize_bytes', 'io', 'ipykernel', 'json', 'jupyter_config_dir', 'math', 'notebook_path', 'notebookapp', 'nx', 'os', 'pd', 'pickle', 'plt', 'preprocess_data', 'print_all_files_ending_starting_with', 'print_all_files_ending_with', 'print_all_files_starting_with', 'quit', 're', 'remove_empty_folders', 's', 'scraping_utils', 'similar', 'sm', 'sns', 'stats', 'subprocess', 'sys', 'time', 'url_regex', 'urllib', 'wikipedia']"
      ]
     },
     "execution_count": 2,
     "metadata": {},
     "output_type": "execute_result"
    }
   ],
   "source": [
    "\n",
    "%run ../../load_magic/storage.py\n",
    "%run ../../load_magic/paths.py\n",
    "%run ../../load_magic/lists.py\n",
    "%run ../../load_magic/environment.py\n",
    "%run ../../load_magic/dataframes.py\n",
    "\n",
    "import scraping_utils\n",
    "wikipedia = scraping_utils.wikipedia\n",
    "\n",
    "from bs4 import BeautifulSoup as bs\n",
    "import networkx as nx\n",
    "import re\n",
    "import urllib.request\n",
    "\n",
    "notebook_path = get_notebook_path()\n",
    "print(notebook_path)\n",
    "s = Storage()\n",
    "#pandemic_df = s.load_object('pandemic_df')\n",
    "print(['s.{}'.format(fn) for fn in dir(s) if not fn.startswith('_')])\n",
    "\n",
    "%pprint\n",
    "dir()"
   ]
  },
  {
   "cell_type": "code",
   "execution_count": null,
   "metadata": {},
   "outputs": [],
   "source": [
    "\n",
    "!start %windir%\\explorer.exe \"{os.path.abspath(os.path.dirname(notebook_path))}\""
   ]
  },
  {
   "cell_type": "code",
   "execution_count": null,
   "metadata": {},
   "outputs": [],
   "source": [
    "\n",
    "for file_name in os.listdir(s.saves_pickle_folder):\n",
    "    if file_name.endswith('_df.pickle'):\n",
    "        df_name = file_name.split('.')[0]\n",
    "        print(\"{} = s.load_object('{}')\".format(df_name, df_name))\n",
    "        print(\"{}\".format(df_name))"
   ]
  },
  {
   "cell_type": "code",
   "execution_count": 3,
   "metadata": {},
   "outputs": [],
   "source": [
    "\n",
    "asian_list = ['south_korea_df', 'hong_kong_df', 'japan_df', 'thailand_df', 'malaysia_df', 'china_df', 'vietnam_df',\n",
    "              'singapore_df', 'philippines_df']\n",
    "cumulative_list = ['china_df', 'czech_df', 'germany_df', 'hong_kong_df', 'iran_df', 'italy_df', 'japan_df', 'netherlands_df',\n",
    "                   'singapore_df', 'slovakia_df', 'south_korea_df', 'spain_df', 'uk_df', 'usa_df']"
   ]
  },
  {
   "cell_type": "code",
   "execution_count": 7,
   "metadata": {},
   "outputs": [
    {
     "data": {
      "text/plain": [
       "'Uk, Italy, Japan, Spain, Czech, Slovakia, and South Korea'"
      ]
     },
     "execution_count": 7,
     "metadata": {},
     "output_type": "execute_result"
    }
   ],
   "source": [
    "\n",
    "countries_list = []\n",
    "for df_name in set(asian_list + cumulative_list):\n",
    "    df = s.load_object(df_name)\n",
    "    for cn in df.columns:\n",
    "        if 'test' in cn.lower():\n",
    "            state_name = ' '.join(df_name[:-3].split('_')).title()\n",
    "            countries_list.append(state_name)\n",
    "            break\n",
    "conjunctify_list(countries_list)"
   ]
  },
  {
   "cell_type": "code",
   "execution_count": 11,
   "metadata": {},
   "outputs": [
    {
     "data": {
      "text/plain": [
       "{'Confirmed_New', 'Date'}"
      ]
     },
     "execution_count": 11,
     "metadata": {},
     "output_type": "execute_result"
    }
   ],
   "source": [
    "\n",
    "confirm_set = set()\n",
    "cumulative_set = set()\n",
    "new_set = set()\n",
    "union_set = set()\n",
    "intersection_set = set(['Confirmed_New', 'Date'])\n",
    "for df_name in set(asian_list + cumulative_list):\n",
    "    df = s.load_object(df_name)\n",
    "    df_set = set()\n",
    "    for cn in df.columns:\n",
    "        df_set.add(cn)\n",
    "        if 'confirm' in cn.lower():\n",
    "            confirm_set.add(cn)\n",
    "        if 'cumul' in cn.lower():\n",
    "            cumulative_set.add(cn)\n",
    "        if 'new' in cn.lower():\n",
    "            new_set.add(cn)\n",
    "    intersection_set = intersection_set.intersection(df_set)\n",
    "    union_set = union_set.union(df_set)\n",
    "intersection_set"
   ]
  },
  {
   "cell_type": "code",
   "execution_count": 12,
   "metadata": {},
   "outputs": [
    {
     "data": {
      "text/plain": [
       "{'Confirmed_New', 'Deaths_New', 'Tested_New', 'Recovered_New'}"
      ]
     },
     "execution_count": 12,
     "metadata": {},
     "output_type": "execute_result"
    }
   ],
   "source": [
    "\n",
    "new_set"
   ]
  },
  {
   "cell_type": "code",
   "execution_count": 13,
   "metadata": {},
   "outputs": [
    {
     "data": {
      "text/plain": [
       "{'Recovered_Cumulative', 'Deaths_Cumulative', 'Discharged_Cumulative', 'ICU_Cumulative', 'Active_Cumulative', 'Tested_Cumulative', 'Confirmed_Cumulative', 'Repatriated_Cumulative', 'Abroad_Cumulative'}"
      ]
     },
     "execution_count": 13,
     "metadata": {},
     "output_type": "execute_result"
    }
   ],
   "source": [
    "\n",
    "cumulative_set"
   ]
  },
  {
   "cell_type": "code",
   "execution_count": 14,
   "metadata": {},
   "outputs": [
    {
     "data": {
      "text/plain": [
       "{'Confirmed_Cumulative', 'Confirmed_Repatriated', 'Confirmed_New'}"
      ]
     },
     "execution_count": 14,
     "metadata": {},
     "output_type": "execute_result"
    }
   ],
   "source": [
    "\n",
    "confirm_set"
   ]
  },
  {
   "cell_type": "code",
   "execution_count": 519,
   "metadata": {},
   "outputs": [],
   "source": [
    "\n",
    "from datetime import date\n",
    "\n",
    "def merge_dfs(merge_df, df_name, column_name='Confirmed_New'):\n",
    "    df = s.load_object(df_name)\n",
    "    if column_name in df.columns:\n",
    "        mask_series = (df[column_name] >= after_cases)\n",
    "        if df[mask_series].shape[0] > 0:\n",
    "            df.Date = df.Date.map(lambda ts: date(ts.year, ts.month, ts.day))\n",
    "            df.set_index('Date', drop=True, inplace=True)\n",
    "            country_suffix = '_{}'.format(df_name[:-3])\n",
    "            columns_list = [column_name]\n",
    "            merge_df = merge_df.merge(df[columns_list], how='outer', left_index=True, right_index=True,\n",
    "                                      suffixes=('_merge', country_suffix))\n",
    "            if merge_df.index.has_duplicates:\n",
    "                raise RuntimeError('{} has duplicates'.format(df_name))\n",
    "            columns_list = merge_df.columns.tolist()\n",
    "            columns_list[-1] = columns_list[-1] + country_suffix\n",
    "            merge_df.columns = columns_list\n",
    "    \n",
    "    return merge_df"
   ]
  },
  {
   "cell_type": "code",
   "execution_count": 528,
   "metadata": {},
   "outputs": [],
   "source": [
    "\n",
    "merge_df = pd.DataFrame([])\n",
    "plotted_variable = 'Deaths_New'\n",
    "after_cases = 10\n",
    "for df_name in set(asian_list + cumulative_list):\n",
    "    merge_df = merge_dfs(merge_df, df_name, plotted_variable)"
   ]
  },
  {
   "cell_type": "code",
   "execution_count": 543,
   "metadata": {},
   "outputs": [],
   "source": [
    "\n",
    "merge_df = pd.DataFrame([])\n",
    "plotted_variable = 'Confirmed_Cumulative'\n",
    "after_cases = 100\n",
    "for df_name in cumulative_list:\n",
    "    merge_df = merge_dfs(merge_df, df_name, plotted_variable)"
   ]
  },
  {
   "cell_type": "code",
   "execution_count": 1,
   "metadata": {},
   "outputs": [
    {
     "ename": "NameError",
     "evalue": "name 'merge_df' is not defined",
     "output_type": "error",
     "traceback": [
      "\u001b[1;31m---------------------------------------------------------------------------\u001b[0m",
      "\u001b[1;31mNameError\u001b[0m                                 Traceback (most recent call last)",
      "\u001b[1;32m<ipython-input-1-2ca004a5b2d2>\u001b[0m in \u001b[0;36m<module>\u001b[1;34m\u001b[0m\n\u001b[1;32m----> 1\u001b[1;33m \u001b[0mconfirms_list\u001b[0m \u001b[1;33m=\u001b[0m \u001b[0mmerge_df\u001b[0m\u001b[1;33m.\u001b[0m\u001b[0mcolumns\u001b[0m\u001b[1;33m.\u001b[0m\u001b[0mtolist\u001b[0m\u001b[1;33m(\u001b[0m\u001b[1;33m)\u001b[0m\u001b[1;33m\u001b[0m\u001b[1;33m\u001b[0m\u001b[0m\n\u001b[0m\u001b[0;32m      2\u001b[0m \u001b[0mconfirms_list\u001b[0m\u001b[1;33m\u001b[0m\u001b[1;33m\u001b[0m\u001b[0m\n",
      "\u001b[1;31mNameError\u001b[0m: name 'merge_df' is not defined"
     ]
    }
   ],
   "source": [
    "\n",
    "confirms_list = merge_df.columns.tolist()\n",
    "confirms_list"
   ]
  },
  {
   "cell_type": "code",
   "execution_count": 545,
   "metadata": {},
   "outputs": [],
   "source": [
    "\n",
    "for column_name in confirms_list:\n",
    "    merge_df[column_name] = merge_df[column_name].map(lambda x: re.sub('[^\\d]+', '', str(x)))\n",
    "    merge_df[column_name] = pd.to_numeric(merge_df[column_name], errors='coerce')\n",
    "    mask_series = (merge_df[column_name] >= after_cases)\n",
    "    ts0 = merge_df[mask_series].index.min()\n",
    "    new_name = '{}_day'.format(column_name[len(plotted_variable)+1:])\n",
    "    merge_df[new_name] = (merge_df.index - ts0).days"
   ]
  },
  {
   "cell_type": "code",
   "execution_count": 546,
   "metadata": {},
   "outputs": [
    {
     "data": {
      "text/html": [
       "<div>\n",
       "<style scoped>\n",
       "    .dataframe tbody tr th:only-of-type {\n",
       "        vertical-align: middle;\n",
       "    }\n",
       "\n",
       "    .dataframe tbody tr th {\n",
       "        vertical-align: top;\n",
       "    }\n",
       "\n",
       "    .dataframe thead th {\n",
       "        text-align: right;\n",
       "    }\n",
       "</style>\n",
       "<table border=\"1\" class=\"dataframe\">\n",
       "  <thead>\n",
       "    <tr style=\"text-align: right;\">\n",
       "      <th></th>\n",
       "      <th>Czech</th>\n",
       "      <th>Germany</th>\n",
       "      <th>Iran</th>\n",
       "      <th>Italy</th>\n",
       "      <th>Japan</th>\n",
       "      <th>Slovakia</th>\n",
       "      <th>South Korea</th>\n",
       "      <th>Spain</th>\n",
       "      <th>Uk</th>\n",
       "      <th>Usa</th>\n",
       "    </tr>\n",
       "  </thead>\n",
       "  <tbody>\n",
       "    <tr>\n",
       "      <th>-50.0</th>\n",
       "      <td>NaN</td>\n",
       "      <td>NaN</td>\n",
       "      <td>NaN</td>\n",
       "      <td>NaN</td>\n",
       "      <td>NaN</td>\n",
       "      <td>NaN</td>\n",
       "      <td>NaN</td>\n",
       "      <td>NaN</td>\n",
       "      <td>NaN</td>\n",
       "      <td>NaN</td>\n",
       "    </tr>\n",
       "    <tr>\n",
       "      <th>-46.0</th>\n",
       "      <td>NaN</td>\n",
       "      <td>NaN</td>\n",
       "      <td>NaN</td>\n",
       "      <td>NaN</td>\n",
       "      <td>NaN</td>\n",
       "      <td>NaN</td>\n",
       "      <td>NaN</td>\n",
       "      <td>NaN</td>\n",
       "      <td>NaN</td>\n",
       "      <td>NaN</td>\n",
       "    </tr>\n",
       "    <tr>\n",
       "      <th>-45.0</th>\n",
       "      <td>NaN</td>\n",
       "      <td>NaN</td>\n",
       "      <td>NaN</td>\n",
       "      <td>NaN</td>\n",
       "      <td>NaN</td>\n",
       "      <td>NaN</td>\n",
       "      <td>NaN</td>\n",
       "      <td>NaN</td>\n",
       "      <td>NaN</td>\n",
       "      <td>NaN</td>\n",
       "    </tr>\n",
       "    <tr>\n",
       "      <th>-42.0</th>\n",
       "      <td>NaN</td>\n",
       "      <td>NaN</td>\n",
       "      <td>NaN</td>\n",
       "      <td>NaN</td>\n",
       "      <td>NaN</td>\n",
       "      <td>NaN</td>\n",
       "      <td>NaN</td>\n",
       "      <td>NaN</td>\n",
       "      <td>NaN</td>\n",
       "      <td>NaN</td>\n",
       "    </tr>\n",
       "    <tr>\n",
       "      <th>-41.0</th>\n",
       "      <td>NaN</td>\n",
       "      <td>NaN</td>\n",
       "      <td>NaN</td>\n",
       "      <td>NaN</td>\n",
       "      <td>NaN</td>\n",
       "      <td>NaN</td>\n",
       "      <td>NaN</td>\n",
       "      <td>NaN</td>\n",
       "      <td>NaN</td>\n",
       "      <td>NaN</td>\n",
       "    </tr>\n",
       "    <tr>\n",
       "      <th>...</th>\n",
       "      <td>...</td>\n",
       "      <td>...</td>\n",
       "      <td>...</td>\n",
       "      <td>...</td>\n",
       "      <td>...</td>\n",
       "      <td>...</td>\n",
       "      <td>...</td>\n",
       "      <td>...</td>\n",
       "      <td>...</td>\n",
       "      <td>...</td>\n",
       "    </tr>\n",
       "    <tr>\n",
       "      <th>51.0</th>\n",
       "      <td>NaN</td>\n",
       "      <td>NaN</td>\n",
       "      <td>NaN</td>\n",
       "      <td>NaN</td>\n",
       "      <td>10540.0</td>\n",
       "      <td>NaN</td>\n",
       "      <td>89610.0</td>\n",
       "      <td>NaN</td>\n",
       "      <td>NaN</td>\n",
       "      <td>526720.0</td>\n",
       "    </tr>\n",
       "    <tr>\n",
       "      <th>52.0</th>\n",
       "      <td>NaN</td>\n",
       "      <td>NaN</td>\n",
       "      <td>NaN</td>\n",
       "      <td>NaN</td>\n",
       "      <td>10990.0</td>\n",
       "      <td>NaN</td>\n",
       "      <td>90370.0</td>\n",
       "      <td>NaN</td>\n",
       "      <td>NaN</td>\n",
       "      <td>620890.0</td>\n",
       "    </tr>\n",
       "    <tr>\n",
       "      <th>53.0</th>\n",
       "      <td>NaN</td>\n",
       "      <td>NaN</td>\n",
       "      <td>NaN</td>\n",
       "      <td>NaN</td>\n",
       "      <td>11370.0</td>\n",
       "      <td>NaN</td>\n",
       "      <td>91370.0</td>\n",
       "      <td>NaN</td>\n",
       "      <td>NaN</td>\n",
       "      <td>NaN</td>\n",
       "    </tr>\n",
       "    <tr>\n",
       "      <th>54.0</th>\n",
       "      <td>NaN</td>\n",
       "      <td>NaN</td>\n",
       "      <td>NaN</td>\n",
       "      <td>NaN</td>\n",
       "      <td>NaN</td>\n",
       "      <td>NaN</td>\n",
       "      <td>NaN</td>\n",
       "      <td>NaN</td>\n",
       "      <td>NaN</td>\n",
       "      <td>NaN</td>\n",
       "    </tr>\n",
       "    <tr>\n",
       "      <th>55.0</th>\n",
       "      <td>NaN</td>\n",
       "      <td>NaN</td>\n",
       "      <td>NaN</td>\n",
       "      <td>NaN</td>\n",
       "      <td>NaN</td>\n",
       "      <td>NaN</td>\n",
       "      <td>NaN</td>\n",
       "      <td>NaN</td>\n",
       "      <td>NaN</td>\n",
       "      <td>NaN</td>\n",
       "    </tr>\n",
       "  </tbody>\n",
       "</table>\n",
       "<p>101 rows × 10 columns</p>\n",
       "</div>"
      ],
      "text/plain": [
       "       Czech  Germany  Iran  Italy    Japan  Slovakia  South Korea  Spain  Uk  \\\n",
       "-50.0    NaN      NaN   NaN    NaN      NaN       NaN          NaN    NaN NaN   \n",
       "-46.0    NaN      NaN   NaN    NaN      NaN       NaN          NaN    NaN NaN   \n",
       "-45.0    NaN      NaN   NaN    NaN      NaN       NaN          NaN    NaN NaN   \n",
       "-42.0    NaN      NaN   NaN    NaN      NaN       NaN          NaN    NaN NaN   \n",
       "-41.0    NaN      NaN   NaN    NaN      NaN       NaN          NaN    NaN NaN   \n",
       "...      ...      ...   ...    ...      ...       ...          ...    ...  ..   \n",
       " 51.0    NaN      NaN   NaN    NaN  10540.0       NaN      89610.0    NaN NaN   \n",
       " 52.0    NaN      NaN   NaN    NaN  10990.0       NaN      90370.0    NaN NaN   \n",
       " 53.0    NaN      NaN   NaN    NaN  11370.0       NaN      91370.0    NaN NaN   \n",
       " 54.0    NaN      NaN   NaN    NaN      NaN       NaN          NaN    NaN NaN   \n",
       " 55.0    NaN      NaN   NaN    NaN      NaN       NaN          NaN    NaN NaN   \n",
       "\n",
       "            Usa  \n",
       "-50.0       NaN  \n",
       "-46.0       NaN  \n",
       "-45.0       NaN  \n",
       "-42.0       NaN  \n",
       "-41.0       NaN  \n",
       "...         ...  \n",
       " 51.0  526720.0  \n",
       " 52.0  620890.0  \n",
       " 53.0       NaN  \n",
       " 54.0       NaN  \n",
       " 55.0       NaN  \n",
       "\n",
       "[101 rows x 10 columns]"
      ]
     },
     "execution_count": 546,
     "metadata": {},
     "output_type": "execute_result"
    }
   ],
   "source": [
    "\n",
    "day_merge_df = pd.DataFrame([])\n",
    "def create_day_df(column_name):\n",
    "    new_name = '{}_day'.format(column_name[len(plotted_variable)+1:])\n",
    "    columns_list = [new_name, column_name]\n",
    "    df = pd.DataFrame(merge_df[columns_list].values, columns=columns_list, index=merge_df.index)\n",
    "    df.set_index(new_name, drop=True, inplace=True)\n",
    "    df.columns = [' '.join(cn[len(plotted_variable)+1:].split('_')).title() for cn in df.columns]\n",
    "    \n",
    "    return df\n",
    "for column_name in confirms_list:\n",
    "    day_merge_df = day_merge_df.merge(create_day_df(column_name), how='outer', left_index=True,\n",
    "                                      right_index=True, suffixes=('_merge', '_{}'.format(column_name)))\n",
    "day_merge_df.interpolate(axis='index', limit_area='inside', inplace=True)\n",
    "day_merge_df"
   ]
  },
  {
   "cell_type": "code",
   "execution_count": 187,
   "metadata": {},
   "outputs": [
    {
     "data": {
      "text/plain": [
       "['Abkhazia', 'Afghanistan', 'Albania', 'Algeria', 'American Samoa (US)', 'Andorra', 'Angola', 'Anguilla (UK)', 'Antigua and Barbuda', 'Argentina', 'Armenia', 'Artsakh', 'Aruba (Netherlands)', 'Australia', 'Austria', 'Azerbaijan', 'Bahamas', 'Bahrain', 'Bangladesh', 'Barbados', 'Belarus', 'Belgium', 'Belize', 'Benin', 'Bermuda (UK)', 'Bhutan', 'Bolivia', 'Bosnia and Herzegovina', 'Botswana', 'Brazil', 'British Virgin Islands (UK)', 'Brunei', 'Bulgaria', 'Burkina Faso', 'Burundi', 'Cambodia', 'Cameroon', 'Canada', 'Cape Verde', 'Cayman Islands (UK)', 'Central African Republic', 'Chad', 'Chile', 'China', 'Christmas Island (Australia)', 'Cocos (Keeling) Islands (Australia)', 'Colombia', 'Comoros', 'Congo', 'Cook Islands (NZ)', 'Costa Rica', 'Croatia', 'Cuba', 'Curaçao (Netherlands)', 'Cyprus', 'Czech Republic', 'DR Congo', 'Denmark', 'Djibouti', 'Dominica', 'Dominican Republic', 'East Timor', 'Ecuador', 'Egypt', 'El Salvador', 'Equatorial Guinea', 'Eritrea', 'Estonia', 'Eswatini', 'Ethiopia', 'F.S. Micronesia', 'Falkland Islands (UK)', 'Faroe Islands (Denmark)', 'Fiji', 'Finland', 'France', 'French Polynesia (France)', 'Gabon', 'Gambia', 'Georgia', 'Germany', 'Ghana', 'Gibraltar (UK)', 'Greece', 'Greenland (Denmark)', 'Grenada', 'Guam (US)', 'Guatemala', 'Guernsey (UK)', 'Guinea', 'Guinea-Bissau', 'Guyana', 'Haiti', 'Honduras', 'Hong Kong (China)', 'Hungary', 'Iceland', 'India', 'Indonesia', 'Iran', 'Iraq', 'Ireland', 'Isle of Man (UK)', 'Israel', 'Italy', 'Ivory Coast', 'Jamaica', 'Japan', 'Jersey (UK)', 'Jordan', 'Kazakhstan', 'Kenya', 'Kiribati', 'Kosovo', 'Kuwait', 'Kyrgyzstan', 'Laos', 'Latvia', 'Lebanon', 'Lesotho', 'Liberia', 'Libya', 'Liechtenstein', 'Lithuania', 'Luxembourg', 'Macau (China)', 'Madagascar', 'Malawi', 'Malaysia', 'Maldives', 'Mali', 'Malta', 'Marshall Islands', 'Mauritania', 'Mauritius', 'Mexico', 'Moldova', 'Monaco', 'Mongolia', 'Montenegro', 'Montserrat (UK)', 'Morocco', 'Mozambique', 'Myanmar', 'Namibia', 'Nauru', 'Nepal', 'Netherlands', 'New Caledonia (France)', 'New Zealand', 'Nicaragua', 'Niger', 'Nigeria', 'Niue (NZ)', 'Norfolk Island (Australia)', 'North Korea', 'North Macedonia', 'Northern Cyprus', 'Northern Mariana Islands (US)', 'Norway', 'Oman', 'Pakistan', 'Palau', 'Palestine', 'Panama', 'Papua New Guinea', 'Paraguay', 'Peru', 'Philippines', 'Pitcairn Islands (UK)', 'Poland', 'Portugal', 'Puerto Rico (US)', 'Qatar', 'Romania', 'Russia', 'Rwanda', 'Saint Barthélemy (France)', 'Saint Helena, Ascensionand Tristan da Cunha (UK)', 'Saint Kitts and Nevis', 'Saint Lucia', 'Saint Martin (France)', 'Saint Pierre and Miquelon (France)', 'Saint Vincent and the Grenadines', 'Samoa', 'San Marino', 'Saudi Arabia', 'Senegal', 'Serbia', 'Seychelles', 'Sierra Leone', 'Singapore', 'Sint Maarten (Netherlands)', 'Slovakia', 'Slovenia', 'Solomon Islands', 'Somalia', 'South Africa', 'South Korea', 'South Ossetia', 'South Sudan', 'Spain', 'Sri Lanka', 'Sudan', 'Suriname', 'Sweden', 'Switzerland', 'Syria', 'São Tomé and Príncipe', 'Taiwan', 'Tajikistan', 'Tanzania', 'Thailand', 'Togo', 'Tokelau (NZ)', 'Tonga', 'Transnistria', 'Trinidad and Tobago', 'Tunisia', 'Turkey', 'Turkmenistan', 'Turks and Caicos Islands (UK)', 'Tuvalu', 'U.S. Virgin Islands (US)', 'Uganda', 'Ukraine', 'United Arab Emirates', 'United Kingdom', 'United States', 'Uruguay', 'Uzbekistan', 'Vanuatu', 'Vatican City', 'Venezuela', 'Vietnam', 'Wallis and Futuna (France)', 'Western Sahara', 'Yemen', 'Zambia', 'Zimbabwe', 'Åland Islands (Finland)']"
      ]
     },
     "execution_count": 187,
     "metadata": {},
     "output_type": "execute_result"
    }
   ],
   "source": [
    "\n",
    "country_populations_df = s.load_object('country_populations_df')\n",
    "sorted(country_populations_df.index.tolist())"
   ]
  },
  {
   "cell_type": "code",
   "execution_count": 169,
   "metadata": {},
   "outputs": [
    {
     "name": "stdout",
     "output_type": "stream",
     "text": [
      "Attempting to load D:\\Documents\\Repositories\\notebooks\\covid19\\saves\\pickle\\20200326-sitrep-66-covid-19.pickle.\n",
      "No pickle exists - attempting to load D:\\Documents\\Repositories\\notebooks\\covid19\\saves\\csv\\20200326-sitrep-66-covid-19.csv.\n",
      "No csv exists - trying D:\\Documents\\Repositories\\notebooks\\covid19\\data\\csv\\20200326-sitrep-66-covid-19.csv.\n"
     ]
    }
   ],
   "source": [
    "\n",
    "file_name = '20200326-sitrep-66-covid-19.csv'\n",
    "file_path = os.path.join(s.data_csv_folder, file_name)\n",
    "kwargs = {'20200326-sitrep-66-covid-19': '20200326-sitrep-66-covid-19'}\n",
    "MAR26_df = s.load_dataframes(**kwargs)['20200326-sitrep-66-covid-19']"
   ]
  },
  {
   "cell_type": "code",
   "execution_count": 172,
   "metadata": {},
   "outputs": [
    {
     "data": {
      "text/html": [
       "<div>\n",
       "<style scoped>\n",
       "    .dataframe tbody tr th:only-of-type {\n",
       "        vertical-align: middle;\n",
       "    }\n",
       "\n",
       "    .dataframe tbody tr th {\n",
       "        vertical-align: top;\n",
       "    }\n",
       "\n",
       "    .dataframe thead th {\n",
       "        text-align: right;\n",
       "    }\n",
       "</style>\n",
       "<table border=\"1\" class=\"dataframe\">\n",
       "  <thead>\n",
       "    <tr style=\"text-align: right;\">\n",
       "      <th></th>\n",
       "      <th>Confirmed_Cumulative</th>\n",
       "      <th>Confirmed_New</th>\n",
       "      <th>Deaths_Cumulative</th>\n",
       "      <th>Deaths_New</th>\n",
       "      <th>Transmission_Classification</th>\n",
       "      <th>Days_Since_Last</th>\n",
       "    </tr>\n",
       "    <tr>\n",
       "      <th>Country</th>\n",
       "      <th></th>\n",
       "      <th></th>\n",
       "      <th></th>\n",
       "      <th></th>\n",
       "      <th></th>\n",
       "      <th></th>\n",
       "    </tr>\n",
       "  </thead>\n",
       "  <tbody>\n",
       "    <tr>\n",
       "      <th>China</th>\n",
       "      <td>81961</td>\n",
       "      <td>113</td>\n",
       "      <td>3293</td>\n",
       "      <td>6</td>\n",
       "      <td>Local transmission</td>\n",
       "      <td>0</td>\n",
       "    </tr>\n",
       "    <tr>\n",
       "      <th>Republic of Korea</th>\n",
       "      <td>9241</td>\n",
       "      <td>104</td>\n",
       "      <td>131</td>\n",
       "      <td>5</td>\n",
       "      <td>Local transmission</td>\n",
       "      <td>0</td>\n",
       "    </tr>\n",
       "    <tr>\n",
       "      <th>Australia</th>\n",
       "      <td>2799</td>\n",
       "      <td>547</td>\n",
       "      <td>11</td>\n",
       "      <td>3</td>\n",
       "      <td>Local transmission</td>\n",
       "      <td>0</td>\n",
       "    </tr>\n",
       "    <tr>\n",
       "      <th>Malaysia</th>\n",
       "      <td>1796</td>\n",
       "      <td>172</td>\n",
       "      <td>19</td>\n",
       "      <td>3</td>\n",
       "      <td>Local transmission</td>\n",
       "      <td>0</td>\n",
       "    </tr>\n",
       "    <tr>\n",
       "      <th>Japan</th>\n",
       "      <td>1291</td>\n",
       "      <td>98</td>\n",
       "      <td>45</td>\n",
       "      <td>2</td>\n",
       "      <td>Local transmission</td>\n",
       "      <td>0</td>\n",
       "    </tr>\n",
       "    <tr>\n",
       "      <th>...</th>\n",
       "      <td>...</td>\n",
       "      <td>...</td>\n",
       "      <td>...</td>\n",
       "      <td>...</td>\n",
       "      <td>...</td>\n",
       "      <td>...</td>\n",
       "    </tr>\n",
       "    <tr>\n",
       "      <th>Niger</th>\n",
       "      <td>2</td>\n",
       "      <td>0</td>\n",
       "      <td>0</td>\n",
       "      <td>0</td>\n",
       "      <td>Imported cases only</td>\n",
       "      <td>2</td>\n",
       "    </tr>\n",
       "    <tr>\n",
       "      <th>Zimbabwe</th>\n",
       "      <td>2</td>\n",
       "      <td>0</td>\n",
       "      <td>1</td>\n",
       "      <td>0</td>\n",
       "      <td>Imported cases only</td>\n",
       "      <td>4</td>\n",
       "    </tr>\n",
       "    <tr>\n",
       "      <th>Réunion</th>\n",
       "      <td>94</td>\n",
       "      <td>11</td>\n",
       "      <td>0</td>\n",
       "      <td>0</td>\n",
       "      <td>Local transmission</td>\n",
       "      <td>0</td>\n",
       "    </tr>\n",
       "    <tr>\n",
       "      <th>Mayotte</th>\n",
       "      <td>35</td>\n",
       "      <td>5</td>\n",
       "      <td>0</td>\n",
       "      <td>0</td>\n",
       "      <td>Local transmission</td>\n",
       "      <td>0</td>\n",
       "    </tr>\n",
       "    <tr>\n",
       "      <th>Diamond Princess</th>\n",
       "      <td>712</td>\n",
       "      <td>0</td>\n",
       "      <td>7</td>\n",
       "      <td>0</td>\n",
       "      <td>Local transmission</td>\n",
       "      <td>10</td>\n",
       "    </tr>\n",
       "  </tbody>\n",
       "</table>\n",
       "<p>200 rows × 6 columns</p>\n",
       "</div>"
      ],
      "text/plain": [
       "                   Confirmed_Cumulative  Confirmed_New  Deaths_Cumulative  \\\n",
       "Country                                                                     \n",
       "China                             81961            113               3293   \n",
       "Republic of Korea                  9241            104                131   \n",
       "Australia                          2799            547                 11   \n",
       "Malaysia                           1796            172                 19   \n",
       "Japan                              1291             98                 45   \n",
       "...                                 ...            ...                ...   \n",
       "Niger                                 2              0                  0   \n",
       "Zimbabwe                              2              0                  1   \n",
       "Réunion                              94             11                  0   \n",
       "Mayotte                              35              5                  0   \n",
       "Diamond Princess                    712              0                  7   \n",
       "\n",
       "                   Deaths_New Transmission_Classification  Days_Since_Last  \n",
       "Country                                                                     \n",
       "China                       6          Local transmission                0  \n",
       "Republic of Korea           5          Local transmission                0  \n",
       "Australia                   3          Local transmission                0  \n",
       "Malaysia                    3          Local transmission                0  \n",
       "Japan                       2          Local transmission                0  \n",
       "...                       ...                         ...              ...  \n",
       "Niger                       0         Imported cases only                2  \n",
       "Zimbabwe                    0         Imported cases only                4  \n",
       "Réunion                     0          Local transmission                0  \n",
       "Mayotte                     0          Local transmission                0  \n",
       "Diamond Princess            0          Local transmission               10  \n",
       "\n",
       "[200 rows x 6 columns]"
      ]
     },
     "execution_count": 172,
     "metadata": {},
     "output_type": "execute_result"
    }
   ],
   "source": [
    "\n",
    "MAR26_df.columns = ['Country', 'Confirmed_Cumulative', 'Confirmed_New', 'Deaths_Cumulative', 'Deaths_New',\n",
    "                    'Transmission_Classification', 'Days_Since_Last']\n",
    "MAR26_df.set_index('Country', drop=True, inplace=True)\n",
    "MAR26_df"
   ]
  },
  {
   "cell_type": "code",
   "execution_count": 226,
   "metadata": {},
   "outputs": [
    {
     "data": {
      "text/plain": [
       "{'Diamond Princess', 'Martinique', 'Réunion', 'Mayotte', 'Guadeloupe', 'French Guiana', 'occupied Palestinian territory', 'Holy See'}"
      ]
     },
     "execution_count": 226,
     "metadata": {},
     "output_type": "execute_result"
    }
   ],
   "source": [
    "\n",
    "new_value = 'Saint Barthélemy (France)'\n",
    "old_value = 'Saint Barthélemy'\n",
    "as_list = MAR26_df.index.tolist()\n",
    "if old_value in as_list:\n",
    "    idx = as_list.index(old_value)\n",
    "    as_list[idx] = new_value\n",
    "    MAR26_df.index = as_list\n",
    "set(MAR26_df.index.tolist()) - set(country_populations_df.index.tolist())"
   ]
  },
  {
   "cell_type": "code",
   "execution_count": 551,
   "metadata": {},
   "outputs": [
    {
     "data": {
      "text/html": [
       "<div>\n",
       "<style scoped>\n",
       "    .dataframe tbody tr th:only-of-type {\n",
       "        vertical-align: middle;\n",
       "    }\n",
       "\n",
       "    .dataframe tbody tr th {\n",
       "        vertical-align: top;\n",
       "    }\n",
       "\n",
       "    .dataframe thead th {\n",
       "        text-align: right;\n",
       "    }\n",
       "</style>\n",
       "<table border=\"1\" class=\"dataframe\">\n",
       "  <thead>\n",
       "    <tr style=\"text-align: right;\">\n",
       "      <th></th>\n",
       "      <th>Czech</th>\n",
       "      <th>Germany</th>\n",
       "      <th>Iran</th>\n",
       "      <th>Italy</th>\n",
       "      <th>Japan</th>\n",
       "      <th>Slovakia</th>\n",
       "      <th>South Korea</th>\n",
       "      <th>Spain</th>\n",
       "      <th>Uk</th>\n",
       "      <th>Usa</th>\n",
       "    </tr>\n",
       "  </thead>\n",
       "  <tbody>\n",
       "    <tr>\n",
       "      <th>10.0</th>\n",
       "      <td>3830.0</td>\n",
       "      <td>3490.0</td>\n",
       "      <td>15010.0</td>\n",
       "      <td>20360.0</td>\n",
       "      <td>266.666667</td>\n",
       "      <td>7200.0</td>\n",
       "      <td>275.0</td>\n",
       "      <td>3650.0</td>\n",
       "      <td>870.0</td>\n",
       "      <td>129.333333</td>\n",
       "    </tr>\n",
       "  </tbody>\n",
       "</table>\n",
       "</div>"
      ],
      "text/plain": [
       "       Czech  Germany     Iran    Italy       Japan  Slovakia  South Korea  \\\n",
       "10.0  3830.0   3490.0  15010.0  20360.0  266.666667    7200.0        275.0   \n",
       "\n",
       "       Spain     Uk         Usa  \n",
       "10.0  3650.0  870.0  129.333333  "
      ]
     },
     "execution_count": 551,
     "metadata": {},
     "output_type": "execute_result"
    }
   ],
   "source": [
    "\n",
    "mask_series = (day_merge_df.index == 10.0)\n",
    "day_merge_df[mask_series]"
   ]
  },
  {
   "cell_type": "code",
   "execution_count": 566,
   "metadata": {},
   "outputs": [],
   "source": [
    "\n",
    "columns_list = ['Czech Republic', 'Germany', 'Iran', 'Italy', 'Japan', 'Slovakia', 'South Korea', 'Spain', 'United Kingdom', 'United States']\n",
    "days_df = day_merge_df.copy()\n",
    "days_df.columns = columns_list\n",
    "days_df = days_df.T"
   ]
  },
  {
   "cell_type": "code",
   "execution_count": 567,
   "metadata": {},
   "outputs": [],
   "source": [
    "\n",
    "mask_series = (country_populations_df.index.isin(days_df.index))\n",
    "columns_list = ['Population']\n",
    "for country_name, row_series in country_populations_df[mask_series][columns_list].iterrows():\n",
    "    population = row_series['Population']\n",
    "    mask_series = (days_df.index == country_name)\n",
    "    for days_country_name, days_row_series in days_df[mask_series].iterrows():\n",
    "        for column_name, column_value in days_row_series.iteritems():\n",
    "            if str(column_value) != 'nan':\n",
    "                days_df.loc[days_country_name, column_name] = column_value/population"
   ]
  },
  {
   "cell_type": "code",
   "execution_count": 541,
   "metadata": {},
   "outputs": [
    {
     "data": {
      "image/png": "[encoded data removed]",
      "text/plain": [
       "<Figure size 432x288 with 1 Axes>"
      ]
     },
     "metadata": {
      "needs_background": "light"
     },
     "output_type": "display_data"
    }
   ],
   "source": [
    "\n",
    "days_list = [10.0]\n",
    "columns_list = ['GE_EST']\n",
    "AxesSubplot_obj = days_df[days_list].merge(gdp_df[columns_list], how='inner', left_index=True,\n",
    "                                           right_index=True, suffixes=('_days',\n",
    "                                                                       '_gdp')).plot.scatter(x=10.0,\n",
    "                                                                                             y='GE_EST')"
   ]
  },
  {
   "cell_type": "code",
   "execution_count": 568,
   "metadata": {},
   "outputs": [],
   "source": [
    "\n",
    "day_merge_df = days_df.copy().T"
   ]
  },
  {
   "cell_type": "code",
   "execution_count": 572,
   "metadata": {},
   "outputs": [
    {
     "data": {
      "image/png": "[encoded data removed]",
      "text/plain": [
       "<Figure size 1296x1296 with 1 Axes>"
      ]
     },
     "metadata": {
      "needs_background": "light"
     },
     "output_type": "display_data"
    }
   ],
   "source": [
    "\n",
    "import math\n",
    "\n",
    "fig, ax = plt.subplots(figsize=(18, 18))\n",
    "ax.set_yscale('log')\n",
    "ax.set_xlim(left=0, right=day_merge_df.index.max()+2)\n",
    "ax.set_ylabel('Cumulative Confirmed Cases')\n",
    "ax.set_xlabel('Days After {} Cases'.format(after_cases))\n",
    "ax.set_title('Country by Country: How Coronavirus Trajectories Compare')\n",
    "mask_series = (day_merge_df.index >= 0)\n",
    "p = day_merge_df[mask_series].plot\n",
    "AxesSubplot_obj = p.line(ax=ax)\n",
    "Line2D_obj_list = [Line2D_obj for Line2D_obj in AxesSubplot_obj.get_lines()]\n",
    "columns_list = day_merge_df.columns.tolist()\n",
    "for cn, Line2D_obj in zip(columns_list, Line2D_obj_list):\n",
    "    cn_series = day_merge_df[mask_series][cn]\n",
    "    cn_series.dropna(inplace=True)\n",
    "    x = cn_series.index[-1]\n",
    "    y = cn_series.iloc[-1]\n",
    "    color = Line2D_obj.get_color()\n",
    "    annotation = plt.annotate(cn, xy=(x, y), color=color)\n",
    "    if (cn == 'Usa'):\n",
    "        Line2D_obj.set_alpha(alpha=1.0)\n",
    "    else:\n",
    "        Line2D_obj.set_alpha(alpha=0.5)'''\n",
    "kwargs = dict(color='goldenrod', linewidth=0.4, dashes=(10, 10))\n",
    "cc0 = after_cases\n",
    "for doubling_every in [2, 3, 4, 7, 30]:\n",
    "    y_list = [cc0]\n",
    "    cc = cc0\n",
    "    while cc < ax.get_ylim()[1]:\n",
    "        cc = int(cc/(1 - math.log(2)/doubling_every))\n",
    "        y_list.append(cc)\n",
    "    Line2D_obj = ax.plot(y_list, **kwargs)\n",
    "kwargs = dict(color='goldenrod', alpha=1.0)\n",
    "annotation = plt.annotate('Doubling every\\n       2 days', xy=(19, 1.0e6), **kwargs)\n",
    "annotation = plt.annotate('Doubling every\\n       3 days', xy=(35, 2.0e6), **kwargs)\n",
    "annotation = plt.annotate('Doubling every\\n       4 days', xy=(52, 2.5e6), **kwargs)\n",
    "annotation = plt.annotate('Doubling every\\n       week', xy=(50, 2.0e4), **kwargs)\n",
    "annotation = plt.annotate('Doubling every\\n       month', xy=(50, 2.5e2), **kwargs)'''"
   ]
  },
  {
   "cell_type": "code",
   "execution_count": 420,
   "metadata": {},
   "outputs": [
    {
     "data": {
      "text/plain": [
       "Float64Index([], dtype='float64')"
      ]
     },
     "execution_count": 420,
     "metadata": {},
     "output_type": "execute_result"
    }
   ],
   "source": [
    "\n",
    "cn_series.index"
   ]
  },
  {
   "cell_type": "code",
   "execution_count": 492,
   "metadata": {},
   "outputs": [
    {
     "data": {
      "image/png": "[encoded data removed]",
      "text/plain": [
       "<Figure size 1296x504 with 1 Axes>"
      ]
     },
     "metadata": {
      "needs_background": "light"
     },
     "output_type": "display_data"
    }
   ],
   "source": [
    "\n",
    "fig, ax = plt.subplots(figsize=(18, 7))\n",
    "ax.set_yscale('log')\n",
    "AxesSubplot_obj = merge_df[confirms_list].plot.line(ax=ax)"
   ]
  },
  {
   "cell_type": "code",
   "execution_count": 297,
   "metadata": {},
   "outputs": [
    {
     "data": {
      "text/plain": [
       "221.42857142857142"
      ]
     },
     "execution_count": 297,
     "metadata": {},
     "output_type": "execute_result"
    }
   ],
   "source": [
    "\n",
    "9300/42"
   ]
  },
  {
   "cell_type": "code",
   "execution_count": null,
   "metadata": {},
   "outputs": [],
   "source": [
    "\n",
    "pandemic_df = s.load_object('pandemic_df')\n",
    "pandemic_df.T.sample(6).T"
   ]
  },
  {
   "cell_type": "markdown",
   "metadata": {},
   "source": [
    "\n",
    "---\n",
    "# Create the Curve Fitter"
   ]
  },
  {
   "cell_type": "code",
   "execution_count": 9,
   "metadata": {},
   "outputs": [
    {
     "data": {
      "text/html": [
       "<div>\n",
       "<style scoped>\n",
       "    .dataframe tbody tr th:only-of-type {\n",
       "        vertical-align: middle;\n",
       "    }\n",
       "\n",
       "    .dataframe tbody tr th {\n",
       "        vertical-align: top;\n",
       "    }\n",
       "\n",
       "    .dataframe thead th {\n",
       "        text-align: right;\n",
       "    }\n",
       "</style>\n",
       "<table border=\"1\" class=\"dataframe\">\n",
       "  <thead>\n",
       "    <tr style=\"text-align: right;\">\n",
       "      <th></th>\n",
       "      <th>Deaths_New</th>\n",
       "      <th>Deaths_Cumulative</th>\n",
       "    </tr>\n",
       "    <tr>\n",
       "      <th>Date</th>\n",
       "      <th></th>\n",
       "      <th></th>\n",
       "    </tr>\n",
       "  </thead>\n",
       "  <tbody>\n",
       "    <tr>\n",
       "      <th>2020-02-29</th>\n",
       "      <td>1</td>\n",
       "      <td>1</td>\n",
       "    </tr>\n",
       "    <tr>\n",
       "      <th>2020-03-01</th>\n",
       "      <td>1</td>\n",
       "      <td>2</td>\n",
       "    </tr>\n",
       "    <tr>\n",
       "      <th>2020-03-02</th>\n",
       "      <td>4</td>\n",
       "      <td>6</td>\n",
       "    </tr>\n",
       "    <tr>\n",
       "      <th>2020-03-03</th>\n",
       "      <td>3</td>\n",
       "      <td>9</td>\n",
       "    </tr>\n",
       "    <tr>\n",
       "      <th>2020-03-04</th>\n",
       "      <td>2</td>\n",
       "      <td>11</td>\n",
       "    </tr>\n",
       "    <tr>\n",
       "      <th>2020-03-06</th>\n",
       "      <td>3</td>\n",
       "      <td>14</td>\n",
       "    </tr>\n",
       "    <tr>\n",
       "      <th>2020-03-07</th>\n",
       "      <td>5</td>\n",
       "      <td>19</td>\n",
       "    </tr>\n",
       "    <tr>\n",
       "      <th>2020-03-08</th>\n",
       "      <td>2</td>\n",
       "      <td>21</td>\n",
       "    </tr>\n",
       "    <tr>\n",
       "      <th>2020-03-09</th>\n",
       "      <td>5</td>\n",
       "      <td>26</td>\n",
       "    </tr>\n",
       "    <tr>\n",
       "      <th>2020-03-10</th>\n",
       "      <td>5</td>\n",
       "      <td>31</td>\n",
       "    </tr>\n",
       "    <tr>\n",
       "      <th>2020-03-11</th>\n",
       "      <td>6</td>\n",
       "      <td>37</td>\n",
       "    </tr>\n",
       "    <tr>\n",
       "      <th>2020-03-12</th>\n",
       "      <td>4</td>\n",
       "      <td>41</td>\n",
       "    </tr>\n",
       "    <tr>\n",
       "      <th>2020-03-13</th>\n",
       "      <td>8</td>\n",
       "      <td>49</td>\n",
       "    </tr>\n",
       "    <tr>\n",
       "      <th>2020-03-14</th>\n",
       "      <td>7</td>\n",
       "      <td>56</td>\n",
       "    </tr>\n",
       "    <tr>\n",
       "      <th>2020-03-15</th>\n",
       "      <td>6</td>\n",
       "      <td>62</td>\n",
       "    </tr>\n",
       "    <tr>\n",
       "      <th>2020-03-16</th>\n",
       "      <td>14</td>\n",
       "      <td>76</td>\n",
       "    </tr>\n",
       "    <tr>\n",
       "      <th>2020-03-17</th>\n",
       "      <td>21</td>\n",
       "      <td>97</td>\n",
       "    </tr>\n",
       "    <tr>\n",
       "      <th>2020-03-18</th>\n",
       "      <td>26</td>\n",
       "      <td>123</td>\n",
       "    </tr>\n",
       "    <tr>\n",
       "      <th>2020-03-19</th>\n",
       "      <td>52</td>\n",
       "      <td>175</td>\n",
       "    </tr>\n",
       "    <tr>\n",
       "      <th>2020-03-20</th>\n",
       "      <td>55</td>\n",
       "      <td>230</td>\n",
       "    </tr>\n",
       "    <tr>\n",
       "      <th>2020-03-21</th>\n",
       "      <td>68</td>\n",
       "      <td>298</td>\n",
       "    </tr>\n",
       "    <tr>\n",
       "      <th>2020-03-22</th>\n",
       "      <td>110</td>\n",
       "      <td>408</td>\n",
       "    </tr>\n",
       "    <tr>\n",
       "      <th>2020-03-23</th>\n",
       "      <td>111</td>\n",
       "      <td>519</td>\n",
       "    </tr>\n",
       "    <tr>\n",
       "      <th>2020-03-24</th>\n",
       "      <td>162</td>\n",
       "      <td>681</td>\n",
       "    </tr>\n",
       "    <tr>\n",
       "      <th>2020-03-25</th>\n",
       "      <td>225</td>\n",
       "      <td>906</td>\n",
       "    </tr>\n",
       "    <tr>\n",
       "      <th>2020-03-26</th>\n",
       "      <td>241</td>\n",
       "      <td>1147</td>\n",
       "    </tr>\n",
       "    <tr>\n",
       "      <th>2020-03-27</th>\n",
       "      <td>134</td>\n",
       "      <td>1281</td>\n",
       "    </tr>\n",
       "  </tbody>\n",
       "</table>\n",
       "</div>"
      ],
      "text/plain": [
       "            Deaths_New  Deaths_Cumulative\n",
       "Date                                     \n",
       "2020-02-29           1                  1\n",
       "2020-03-01           1                  2\n",
       "2020-03-02           4                  6\n",
       "2020-03-03           3                  9\n",
       "2020-03-04           2                 11\n",
       "2020-03-06           3                 14\n",
       "2020-03-07           5                 19\n",
       "2020-03-08           2                 21\n",
       "2020-03-09           5                 26\n",
       "2020-03-10           5                 31\n",
       "2020-03-11           6                 37\n",
       "2020-03-12           4                 41\n",
       "2020-03-13           8                 49\n",
       "2020-03-14           7                 56\n",
       "2020-03-15           6                 62\n",
       "2020-03-16          14                 76\n",
       "2020-03-17          21                 97\n",
       "2020-03-18          26                123\n",
       "2020-03-19          52                175\n",
       "2020-03-20          55                230\n",
       "2020-03-21          68                298\n",
       "2020-03-22         110                408\n",
       "2020-03-23         111                519\n",
       "2020-03-24         162                681\n",
       "2020-03-25         225                906\n",
       "2020-03-26         241               1147\n",
       "2020-03-27         134               1281"
      ]
     },
     "execution_count": 9,
     "metadata": {},
     "output_type": "execute_result"
    }
   ],
   "source": [
    "\n",
    "tracking_df = s.load_object('us_deaths_df')\n",
    "columns_list = ['Deaths_New', 'Deaths_Cumulative']\n",
    "tracking_df[columns_list]"
   ]
  },
  {
   "cell_type": "code",
   "execution_count": 11,
   "metadata": {},
   "outputs": [],
   "source": [
    "\n",
    "def get_doubling_days(count_yesterday, count_today):\n",
    "    growth_rate = (count_today-count_yesterday)/count_today\n",
    "    doubling_time = math.log(2)/growth_rate\n",
    "    \n",
    "    return doubling_time"
   ]
  },
  {
   "cell_type": "code",
   "execution_count": 10,
   "metadata": {},
   "outputs": [],
   "source": [
    "\n",
    "import matplotlib.pyplot as plt\n",
    "from scipy.optimize import curve_fit\n",
    "import numpy as np\n",
    "import math\n",
    "%matplotlib inline\n",
    "\n",
    "method = ['lm', 'trf', 'dogbox'][1]\n",
    "def fit_curve(column_name='Deaths_Cumulative',\n",
    "              lba=1e-09, lbb=-49, lbc=3.8, lbd=-1.0, lbe=-1.0,\n",
    "              uba=0.1, ubb=-41, ubc=8.3, ubd=1.0, ube=1.0,\n",
    "              p0a=0.05, p0b=-46, p0c=3.9, p0d=0.0, p0e=0.0,\n",
    "              min_x=1):\n",
    "    \n",
    "    # Format the data\n",
    "    columns_list = [column_name]\n",
    "    tracking_df[column_name] = pd.to_numeric(tracking_df[column_name])\n",
    "    mask_series = (tracking_df[column_name] >= min_x)\n",
    "    df = tracking_df[mask_series][columns_list].dropna(axis='index', how='any')\n",
    "    \n",
    "    # Fit the curve using the lower and upper bounds and a suggested starting point\n",
    "    def func(x, a, b, c, d, e):\n",
    "\n",
    "        return a * pow(x + b, c) + d * x + e\n",
    "    dayofyear_data = np.array(object=[ts.dayofyear for ts in df.index])\n",
    "    confirmation_data = np.array(object=[int(c) for c in df[column_name].tolist()])\n",
    "    bounds_tuple = ([lba, lbb, lbc, lbd, lbe],\n",
    "                    [uba, ubb, ubc, ubd, ube])\n",
    "    p0_array = np.array([p0a, p0b, p0c, p0d, p0e])\n",
    "    popt, pcov = curve_fit(func, dayofyear_data, confirmation_data,\n",
    "                           bounds=bounds_tuple, p0=p0_array, method=method)\n",
    "    \n",
    "    # Plot the cumulative data\n",
    "    fig = plt.figure(figsize=(12,8))\n",
    "    ax = fig.add_subplot(111)\n",
    "    ax.set_yscale('log')\n",
    "    country_name = column_name.split('_')[-1]\n",
    "    line_2d_obj = plt.plot(dayofyear_data, confirmation_data, 'b-', label='{} data'.format(country_name))\n",
    "    \n",
    "    # Plot the fitted curve\n",
    "    def get_cumulative_confirmations(dayofyear):\n",
    "        '''Get the cumulative confirmations given the day of the year'''\n",
    "        #print('{} * pow({} + {}, {}) + {} * {} + {}'.format(popt[0], dayofyear, popt[1], popt[2], popt[3], dayofyear, popt[4]))\n",
    "        \n",
    "        return popt[0] * pow(dayofyear + popt[1], popt[2]) + popt[3] * dayofyear + popt[4]\n",
    "    label_str = 'fit: cc = %3.2f * pow(doy%3.0f, %3.1f) + %3.1f * doy + %3.1f' % tuple(popt)\n",
    "    line_2d_obj = plt.plot(dayofyear_data, get_cumulative_confirmations(dayofyear_data), 'r-', label=label_str)\n",
    "    \n",
    "    # Label the graph\n",
    "    plt.xlabel('Day of Year')\n",
    "    label_list = column_name.split('_')\n",
    "    plt.ylabel('{} {}'.format(label_list[0], label_list[1]))\n",
    "    legend_obj = plt.legend()\n",
    "    \n",
    "    # Get the doubling time\n",
    "    doubling_time_list = []\n",
    "    for i, confirms in enumerate(confirmation_data):\n",
    "        if i > 0:\n",
    "            doubling_time = get_doubling_days(confirmation_data[i-1], confirmation_data[i])\n",
    "            doubling_time_list.append(doubling_time)\n",
    "    average_doubling_time = np.array(doubling_time_list).mean()\n",
    "    \n",
    "    return popt, average_doubling_time, get_cumulative_confirmations"
   ]
  },
  {
   "cell_type": "code",
   "execution_count": 12,
   "metadata": {},
   "outputs": [
    {
     "name": "stdout",
     "output_type": "stream",
     "text": [
      "The US will have 1,310 cumulative deaths today. It is doubling every 3.8 days.\n",
      "That 1.0000000000000003e-09 * pow(dayofyear-48, 7.671722341113232) + -0.08941274015985463 * dayofyear + 0.9999999999999999 curve shown in red is fitted to the data.\n"
     ]
    },
    {
     "data": {
      "image/png": "[encoded data removed]",
      "text/plain": [
       "<Figure size 864x576 with 1 Axes>"
      ]
     },
     "metadata": {
      "needs_background": "light"
     },
     "output_type": "display_data"
    }
   ],
   "source": [
    "\n",
    "from datetime import datetime\n",
    "\n",
    "popt, doubling_days, get_cumulative_deaths = fit_curve('Deaths_Cumulative')\n",
    "dayofyear = pd.Timestamp(datetime.now()).dayofyear\n",
    "#print(dayofyear)\n",
    "confirmed_now = int(get_cumulative_deaths(dayofyear))\n",
    "print('The US will have {:,} cumulative deaths today. It is doubling every {} days.'.format(confirmed_now, round(doubling_days, 1)))\n",
    "formatted_str = 'That {} * pow(dayofyear{}, {}) + {} * dayofyear + {} curve shown in red is fitted to the data.'\n",
    "print(formatted_str.format(popt[0], int(popt[1]), popt[2], popt[3], popt[4]))"
   ]
  },
  {
   "cell_type": "code",
   "execution_count": null,
   "metadata": {},
   "outputs": [],
   "source": [
    "\n",
    "# Hall of Fame\n",
    "lba = 4.110281698247205e-31\n",
    "uba = 4.110281698247205e-29\n",
    "p0a = 4.110281698247205e-30\n",
    "\n",
    "lbb = -513.9398352299962\n",
    "ubb = -5.139398352299962\n",
    "p0b = -51.39398352299962\n",
    "\n",
    "lbc = 2.2185491179655665\n",
    "ubc = 221.85491179655662\n",
    "p0c = 22.185491179655664\n",
    "\n",
    "lbd = 0.3701748485216486\n",
    "ubd = 37.017484852164856\n",
    "p0d = 3.701748485216486\n",
    "\n",
    "lbe = -2165.504631099008\n",
    "ube = -21.65504631099008\n",
    "p0e = -216.5504631099008"
   ]
  },
  {
   "cell_type": "code",
   "execution_count": 63,
   "metadata": {},
   "outputs": [],
   "source": [
    "\n",
    "def get_lb_ub(p0):\n",
    "    if p0 < 0:\n",
    "        uba = math.copysign(abs(p0)/10, p0)\n",
    "        lba = math.copysign(abs(p0)*10, p0)\n",
    "    else:\n",
    "        lba = math.copysign(abs(p0)/10, p0)\n",
    "        uba = math.copysign(abs(p0)*10, p0)\n",
    "    \n",
    "    return lba, uba"
   ]
  },
  {
   "cell_type": "code",
   "execution_count": 101,
   "metadata": {},
   "outputs": [],
   "source": [
    "\n",
    "def format_the_data(column_name, min_x):\n",
    "    columns_list = [column_name]\n",
    "    tracking_df[column_name] = pd.to_numeric(tracking_df[column_name])\n",
    "    mask_series = (tracking_df[column_name] >= min_x)\n",
    "    df = tracking_df[mask_series][columns_list].dropna(axis='index', how='any')\n",
    "    \n",
    "    return df"
   ]
  },
  {
   "cell_type": "code",
   "execution_count": 95,
   "metadata": {},
   "outputs": [],
   "source": [
    "\n",
    "def get_average_doubling(confirmation_data):\n",
    "    doubling_time_list = []\n",
    "    for i, confirms in enumerate(confirmation_data):\n",
    "        if i > 0:\n",
    "            doubling_time = get_doubling_days(confirmation_data[i-1], confirmation_data[i])\n",
    "            doubling_time_list.append(doubling_time)\n",
    "    average_doubling_time = np.array(doubling_time_list).mean()\n",
    "    \n",
    "    return average_doubling_time"
   ]
  },
  {
   "cell_type": "code",
   "execution_count": 108,
   "metadata": {},
   "outputs": [],
   "source": [
    "\n",
    "import matplotlib.pyplot as plt\n",
    "from scipy.optimize import curve_fit\n",
    "import numpy as np\n",
    "import math\n",
    "%matplotlib inline\n",
    "\n",
    "method = ['lm', 'trf', 'dogbox'][1]\n",
    "def fit_spike_curve(column_name='Deaths_New',\n",
    "                    lba=1e-09, lbb=-49, lbc=3.8,\n",
    "                    uba=0.1, ubb=-41, ubc=8.3,\n",
    "                    p0a=0.05, p0b=-46, p0c=3.9,\n",
    "                    min_x=1):\n",
    "    \n",
    "    # Format the data\n",
    "    df = format_the_data(column_name, min_x)\n",
    "    \n",
    "    # Fit the curve using the lower and upper bounds and a suggested starting point\n",
    "    def func(x, a, b, c):\n",
    "\n",
    "        return a*np.exp(-np.abs(b-x)) + a*np.exp(-np.abs(-b-x)) + c\n",
    "    dayofyear_data = np.array(object=[ts.dayofyear for ts in df.index])\n",
    "    confirmation_data = np.array(object=[int(c) for c in df[column_name].tolist()])\n",
    "    bounds_tuple = ([lba, lbb, lbc],\n",
    "                    [uba, ubb, ubc])\n",
    "    p0_array = np.array([p0a, p0b, p0c])\n",
    "    popt, pcov = curve_fit(func, dayofyear_data, confirmation_data,\n",
    "                           bounds=bounds_tuple, p0=p0_array, method=method)\n",
    "    \n",
    "    # Plot the cumulative data\n",
    "    fig = plt.figure(figsize=(12,8))\n",
    "    ax = fig.add_subplot(111)\n",
    "    ax.set_yscale('log')\n",
    "    country_name = column_name.split('_')[-1]\n",
    "    line_2d_obj = plt.plot(dayofyear_data, confirmation_data, 'b-', label='{} data'.format(country_name))\n",
    "    \n",
    "    # Plot the fitted curve\n",
    "    def get_spike_curve(dayofyear):\n",
    "        '''Get the cumulative confirmations given the day of the year'''\n",
    "        #fitted_str = '{}*math.exp(-abs({}-{})) + {}*math.exp(-abs(-{}-{})) + {}'\n",
    "        #print(fitted_str.format(popt[0], popt[1], dayofyear, popt[0], popt[1], dayofyear, popt[2]))\n",
    "        \n",
    "        return popt[0]*np.exp(-np.abs(popt[1]-dayofyear)) + popt[0]*np.exp(-np.abs(-popt[1]-dayofyear)) + popt[2]\n",
    "    fitted_str = 'fit: cc = {}*e^(-|{}-doy|) + {}*e^(-|-{}-doy|) + {}'\n",
    "    label_str = fitted_str.format(round(popt[0], 1), round(popt[1], 1), round(popt[0], 1), round(popt[1], 1), round(popt[2], 1))\n",
    "    line_2d_obj = plt.plot(dayofyear_data, get_spike_curve(dayofyear_data), 'r-', label=label_str)\n",
    "    \n",
    "    # Label the graph\n",
    "    plt.xlabel('Day of Year')\n",
    "    label_list = column_name.split('_')\n",
    "    plt.ylabel('{} {}'.format(label_list[0], label_list[1]))\n",
    "    legend_obj = plt.legend()\n",
    "    \n",
    "    # Get the doubling time\n",
    "    average_doubling_time = get_average_doubling(confirmation_data)\n",
    "    \n",
    "    return popt, average_doubling_time, get_spike_curve"
   ]
  },
  {
   "cell_type": "code",
   "execution_count": 242,
   "metadata": {},
   "outputs": [
    {
     "name": "stdout",
     "output_type": "stream",
     "text": [
      "2275,13939\n",
      "2274,13934\n",
      "2273,13538\n",
      "2272,5838\n",
      "2271,-45932\n",
      "2269,-1188662\n",
      "2268,-178468359\n",
      "2267,-1318801792\n",
      "2266,-195729595487\n",
      "2265,-29048849651305\n",
      "2264,-11719142372788670\n",
      "2263,-639843493530040960\n",
      "2262,-1907346572495099789312\n",
      "2261,-2091659496012996103110656\n",
      "2260,-843835666874145383188004864\n",
      "2259,-1014800388113888746146344200044544\n",
      "2258,-1338334719204269538704786735170027538874368\n",
      "2257,-261951731874906258110461086864248710658641925802819584\n",
      "2256,-10035391806143294731975669366983223436684697856246987384664805423350991028224\n",
      "2255,-7722018499983836127530809622882122887874694314704808148746908126846600538883905347984100737817772032\n",
      "2254,-2628788263662479581254117861646297281012370367049287304325934274605052152842881661006954005021093398083615389283790941919341707264\n",
      "2253,-1556498177579872066015377543904995829085706778326869044757027791433668209094719870887594523763668302383499806878791121458835193175516218213373848722912835496838659788218482819072\n",
      "2252,-2505163686563976150109020384927822433259374200381733879128110635367481865934768160625048230712374646455626117154660077404830903480711614852713311121741947083260279491725304691893764108027882590207622329528639155257641770418176\n",
      "2251,-56825357431053865613179408255953743719293261676131212302813670738753372226479242611821813648107656875514757605382985861541031803525491366004615358874661781263134113846055355367496595631187400793713693692709728660162734931907807476150724519136463570298556724882005534812323621833333972781911506944\n"
     ]
    },
    {
     "ename": "OverflowError",
     "evalue": "math range error",
     "output_type": "error",
     "traceback": [
      "\u001b[1;31m---------------------------------------------------------------------------\u001b[0m",
      "\u001b[1;31mOverflowError\u001b[0m                             Traceback (most recent call last)",
      "\u001b[1;32m<ipython-input-242-d423b40f735d>\u001b[0m in \u001b[0;36m<module>\u001b[1;34m\u001b[0m\n\u001b[0;32m      1\u001b[0m \u001b[1;32mfor\u001b[0m \u001b[0mDate\u001b[0m\u001b[1;33m,\u001b[0m \u001b[0mrow_series\u001b[0m \u001b[1;32min\u001b[0m \u001b[0mtracking_df\u001b[0m\u001b[1;33m.\u001b[0m\u001b[0miterrows\u001b[0m\u001b[1;33m(\u001b[0m\u001b[1;33m)\u001b[0m\u001b[1;33m:\u001b[0m\u001b[1;33m\u001b[0m\u001b[1;33m\u001b[0m\u001b[0m\n\u001b[1;32m----> 2\u001b[1;33m     \u001b[0mDeaths_Cumulative\u001b[0m \u001b[1;33m=\u001b[0m \u001b[0mint\u001b[0m\u001b[1;33m(\u001b[0m\u001b[1;36m13939\u001b[0m \u001b[1;33m-\u001b[0m \u001b[0mmath\u001b[0m\u001b[1;33m.\u001b[0m\u001b[0mexp\u001b[0m\u001b[1;33m(\u001b[0m\u001b[0mrow_series\u001b[0m\u001b[1;33m.\u001b[0m\u001b[0mDeaths_Cumulative\u001b[0m\u001b[1;33m)\u001b[0m \u001b[1;33m+\u001b[0m \u001b[0mmath\u001b[0m\u001b[1;33m.\u001b[0m\u001b[0mexp\u001b[0m\u001b[1;33m(\u001b[0m\u001b[1;36m1\u001b[0m\u001b[1;33m)\u001b[0m\u001b[1;33m)\u001b[0m\u001b[1;33m\u001b[0m\u001b[1;33m\u001b[0m\u001b[0m\n\u001b[0m\u001b[0;32m      3\u001b[0m     \u001b[0mdoy\u001b[0m \u001b[1;33m=\u001b[0m \u001b[1;36m2275\u001b[0m \u001b[1;33m-\u001b[0m \u001b[0mDate\u001b[0m\u001b[1;33m.\u001b[0m\u001b[0mdayofyear\u001b[0m \u001b[1;33m+\u001b[0m \u001b[1;36m60\u001b[0m\u001b[1;33m\u001b[0m\u001b[1;33m\u001b[0m\u001b[0m\n\u001b[0;32m      4\u001b[0m     \u001b[0mprint\u001b[0m\u001b[1;33m(\u001b[0m\u001b[1;34m'{},{}'\u001b[0m\u001b[1;33m.\u001b[0m\u001b[0mformat\u001b[0m\u001b[1;33m(\u001b[0m\u001b[0mdoy\u001b[0m\u001b[1;33m,\u001b[0m \u001b[0mDeaths_Cumulative\u001b[0m\u001b[1;33m)\u001b[0m\u001b[1;33m)\u001b[0m\u001b[1;33m\u001b[0m\u001b[1;33m\u001b[0m\u001b[0m\n",
      "\u001b[1;31mOverflowError\u001b[0m: math range error"
     ]
    }
   ],
   "source": [
    "\n",
    "for Date, row_series in tracking_df.iterrows():\n",
    "    Deaths_Cumulative = int(13939 - math.exp(row_series.Deaths_Cumulative) + math.exp(1))\n",
    "    doy = 2275 - Date.dayofyear + 60\n",
    "    print('{},{}'.format(doy, Deaths_Cumulative))"
   ]
  },
  {
   "cell_type": "code",
   "execution_count": 240,
   "metadata": {},
   "outputs": [
    {
     "data": {
      "text/plain": [
       "2.718281828459045"
      ]
     },
     "execution_count": 240,
     "metadata": {},
     "output_type": "execute_result"
    }
   ],
   "source": [
    "\n",
    "math.exp(1)"
   ]
  },
  {
   "cell_type": "code",
   "execution_count": 137,
   "metadata": {},
   "outputs": [],
   "source": [
    "\n",
    "lba = 24.1\n",
    "uba = 2410\n",
    "p0a = 241\n",
    "\n",
    "lbb = 0.85\n",
    "ubb = 850\n",
    "p0b = 85\n",
    "\n",
    "lbc = 1\n",
    "ubc = 100\n",
    "p0c = 10"
   ]
  },
  {
   "cell_type": "code",
   "execution_count": 232,
   "metadata": {},
   "outputs": [
    {
     "data": {
      "image/png": "[encoded data removed]",
      "text/plain": [
       "<Figure size 864x576 with 1 Axes>"
      ]
     },
     "metadata": {
      "needs_background": "light"
     },
     "output_type": "display_data"
    }
   ],
   "source": [
    "\n",
    "column_name = 'Deaths_New'\n",
    "p0a = popt[0]\n",
    "lba, uba = get_lb_ub(p0a)\n",
    "p0b = popt[1]\n",
    "lbb, ubb = get_lb_ub(p0b)\n",
    "p0c = popt[2]\n",
    "lbc, ubc = get_lb_ub(p0c)\n",
    "popt, doubling_days, get_results = fit_spike_curve(column_name,\n",
    "                                                   lba=lba, lbb=lbb, lbc=lbc,\n",
    "                                                   uba=uba, ubb=ubb, ubc=ubc,\n",
    "                                                   p0a=p0a, p0b=p0b, p0c=p0c,\n",
    "                                                   min_x=60)"
   ]
  },
  {
   "cell_type": "code",
   "execution_count": 230,
   "metadata": {},
   "outputs": [
    {
     "name": "stdout",
     "output_type": "stream",
     "text": [
      "86\n"
     ]
    },
    {
     "data": {
      "text/html": [
       "<div>\n",
       "<style scoped>\n",
       "    .dataframe tbody tr th:only-of-type {\n",
       "        vertical-align: middle;\n",
       "    }\n",
       "\n",
       "    .dataframe tbody tr th {\n",
       "        vertical-align: top;\n",
       "    }\n",
       "\n",
       "    .dataframe thead th {\n",
       "        text-align: right;\n",
       "    }\n",
       "</style>\n",
       "<table border=\"1\" class=\"dataframe\">\n",
       "  <thead>\n",
       "    <tr style=\"text-align: right;\">\n",
       "      <th></th>\n",
       "      <th>Confirmed_Cumulative</th>\n",
       "      <th>Confirmed_New</th>\n",
       "      <th>Deaths_Cumulative</th>\n",
       "      <th>Deaths_New</th>\n",
       "      <th>Transmission_Classification</th>\n",
       "      <th>Days_Since_Last</th>\n",
       "    </tr>\n",
       "  </thead>\n",
       "  <tbody>\n",
       "    <tr>\n",
       "      <th>United States</th>\n",
       "      <td>63570</td>\n",
       "      <td>11656</td>\n",
       "      <td>884</td>\n",
       "      <td>211</td>\n",
       "      <td>Local transmission</td>\n",
       "      <td>0</td>\n",
       "    </tr>\n",
       "  </tbody>\n",
       "</table>\n",
       "</div>"
      ],
      "text/plain": [
       "               Confirmed_Cumulative  Confirmed_New  Deaths_Cumulative  \\\n",
       "United States                 63570          11656                884   \n",
       "\n",
       "               Deaths_New Transmission_Classification  Days_Since_Last  \n",
       "United States         211          Local transmission                0  "
      ]
     },
     "execution_count": 230,
     "metadata": {},
     "output_type": "execute_result"
    }
   ],
   "source": [
    "\n",
    "mask_series = (MAR26_df.index == 'United States')\n",
    "date_obj = datetime(year=2020, month=3, day=26)\n",
    "dayofyear = pd.Timestamp(date_obj).dayofyear\n",
    "print(dayofyear)\n",
    "MAR26_df[mask_series]"
   ]
  },
  {
   "cell_type": "code",
   "execution_count": 233,
   "metadata": {},
   "outputs": [
    {
     "name": "stdout",
     "output_type": "stream",
     "text": [
      "The US will have 237 new deaths on Mar 26, 2020.\n"
     ]
    }
   ],
   "source": [
    "\n",
    "new_deaths = int(get_results(dayofyear))\n",
    "print('The US will have {:,} new deaths on {}.'.format(new_deaths, date_obj.strftime('%b %d, %Y')))"
   ]
  },
  {
   "cell_type": "code",
   "execution_count": 160,
   "metadata": {},
   "outputs": [
    {
     "name": "stdout",
     "output_type": "stream",
     "text": [
      "\n",
      "lba = 24.189241753373892\n",
      "uba = 2418.924175337389\n",
      "p0a = 241.89241753373892\n",
      "\n",
      "lbb = 8.551510604281356\n",
      "ubb = 855.1510604281356\n",
      "p0b = 85.51510604281356\n",
      "\n",
      "lbc = 8.859670423601461\n",
      "ubc = 885.9670423601461\n",
      "p0c = 88.59670423601462\n"
     ]
    }
   ],
   "source": [
    "\n",
    "print('''\n",
    "lba = {}\n",
    "uba = {}\n",
    "p0a = {}'''.format(lba, uba, p0a))\n",
    "print('''\n",
    "lbb = {}\n",
    "ubb = {}\n",
    "p0b = {}'''.format(lbb, ubb, p0b))\n",
    "print('''\n",
    "lbc = {}\n",
    "ubc = {}\n",
    "p0c = {}'''.format(lbc, ubc, p0c))"
   ]
  },
  {
   "cell_type": "code",
   "execution_count": 110,
   "metadata": {},
   "outputs": [],
   "source": [
    "\n",
    "method = ['lm', 'trf', 'dogbox'][1]\n",
    "def fit_curve_sans_graph(column_name='Deaths_Cumulative',\n",
    "                         lba=1e-09, lbb=-49, lbc=3.8, lbd=-1.0, lbe=-1.0,\n",
    "                         uba=0.1, ubb=-41, ubc=8.3, ubd=1.0, ube=1.0,\n",
    "                         p0a=0.05, p0b=-46, p0c=3.9, p0d=0.0, p0e=0.0,\n",
    "                         min_x=1):\n",
    "    \n",
    "    # Format the data\n",
    "    df = format_the_data(column_name)\n",
    "    \n",
    "    # Fit the curve using the lower and upper bounds and a suggested starting point\n",
    "    def func(x, a, b, c, d, e):\n",
    "\n",
    "        return a * pow(x + b, c) + d * x + e\n",
    "    dayofyear_data = np.array(object=[ts.dayofyear for ts in df.index])\n",
    "    confirmation_data = np.array(object=[int(c) for c in df[column_name].tolist()])\n",
    "    bounds_tuple = ([lba, lbb, lbc, lbd, lbe],\n",
    "                    [uba, ubb, ubc, ubd, ube])\n",
    "    p0_array = np.array([p0a, p0b, p0c, p0d, p0e])\n",
    "    popt, pcov = curve_fit(func, dayofyear_data, confirmation_data,\n",
    "                           bounds=bounds_tuple, p0=p0_array, method=method)\n",
    "    \n",
    "    # Don't plot the fitted curve\n",
    "    def get_cumulative_confirmations(dayofyear):\n",
    "        '''Get the cumulative confirmations given the day of the year'''\n",
    "        #print('{} * pow({} + {}, {}) + {} * {} + {}'.format(popt[0], dayofyear, popt[1], popt[2], popt[3], dayofyear, popt[4]))\n",
    "        \n",
    "        return popt[0] * pow(dayofyear + popt[1], popt[2]) + popt[3] * dayofyear + popt[4]\n",
    "    \n",
    "    # Get the doubling time\n",
    "    average_doubling_time = get_average_doubling(confirmation_data)\n",
    "    \n",
    "    return popt, average_doubling_time, get_cumulative_confirmations"
   ]
  },
  {
   "cell_type": "code",
   "execution_count": 79,
   "metadata": {},
   "outputs": [],
   "source": [
    "\n",
    "def overfit_curve(popt, doubling_days=None, get_results=None, column_name='Deaths_Cumulative'):\n",
    "    p0a = popt[0]\n",
    "    lba, uba = get_lb_ub(p0a)\n",
    "    p0b = popt[1]\n",
    "    lbb, ubb = get_lb_ub(p0b)\n",
    "    p0c = popt[2]\n",
    "    lbc, ubc = get_lb_ub(p0c)\n",
    "    p0d = popt[3]\n",
    "    lbd, ubd = get_lb_ub(p0d)\n",
    "    p0e = popt[4]\n",
    "    lbe, ube = get_lb_ub(p0e)\n",
    "    try:\n",
    "        popt, doubling_days, get_results = fit_curve_sans_graph(column_name,\n",
    "                                                                lba=lba, lbb=lbb, lbc=lbc, lbd=lbd, lbe=lbe,\n",
    "                                                                uba=uba, ubb=ubb, ubc=ubc, ubd=ubd, ube=ube,\n",
    "                                                                p0a=p0a, p0b=p0b, p0c=p0c, p0d=p0d, p0e=p0e,\n",
    "                                                                min_x=60)\n",
    "    except ValueError as e:\n",
    "        message = str(e).strip()\n",
    "        print(message)\n",
    "        print('''\n",
    "lba = {}\n",
    "uba = {}\n",
    "p0a = {}'''.format(lba, uba, p0a))\n",
    "        print('''\n",
    "lbb = {}\n",
    "ubb = {}\n",
    "p0b = {}'''.format(lbb, ubb, p0b))\n",
    "        print('''\n",
    "lbc = {}\n",
    "ubc = {}\n",
    "p0c = {}'''.format(lbc, ubc, p0c))\n",
    "        print('''\n",
    "lbd = {}\n",
    "ubd = {}\n",
    "p0d = {}'''.format(lbd, ubd, p0d))\n",
    "        print('''\n",
    "lbe = {}\n",
    "ube = {}\n",
    "p0e = {}'''.format(lbe, ube, p0e))\n",
    "    \n",
    "    return popt, doubling_days, get_results"
   ]
  },
  {
   "cell_type": "code",
   "execution_count": 90,
   "metadata": {},
   "outputs": [
    {
     "name": "stdout",
     "output_type": "stream",
     "text": [
      "array must not contain infs or NaNs\n",
      "\n",
      "lba = 0.12309943329721984\n",
      "uba = 12.309943329721984\n",
      "p0a = 1.2309943329721984\n",
      "\n",
      "lbb = -738.6649714789803\n",
      "ubb = -7.386649714789803\n",
      "p0b = -73.86649714789803\n",
      "\n",
      "lbc = 0.26901478172140514\n",
      "ubc = 26.901478172140514\n",
      "p0c = 2.6901478172140516\n",
      "\n",
      "lbd = 0.08402165631346971\n",
      "ubd = 8.402165631346971\n",
      "p0d = 0.8402165631346971\n",
      "\n",
      "lbe = -3.3265129610783047e-13\n",
      "ube = -3.3265129610783046e-15\n",
      "p0e = -3.3265129610783047e-14\n"
     ]
    }
   ],
   "source": [
    "\n",
    "for i in range(10):\n",
    "    popt, doubling_days, get_results = overfit_curve(popt, doubling_days, get_results, column_name='Deaths_Cumulative')"
   ]
  },
  {
   "cell_type": "code",
   "execution_count": 91,
   "metadata": {},
   "outputs": [
    {
     "ename": "ValueError",
     "evalue": "Residuals are not finite in the initial point.",
     "output_type": "error",
     "traceback": [
      "\u001b[1;31m---------------------------------------------------------------------------\u001b[0m",
      "\u001b[1;31mValueError\u001b[0m                                Traceback (most recent call last)",
      "\u001b[1;32m<ipython-input-91-3efb8eb2ae4e>\u001b[0m in \u001b[0;36m<module>\u001b[1;34m\u001b[0m\n\u001b[0;32m     13\u001b[0m                                                        \u001b[0muba\u001b[0m\u001b[1;33m=\u001b[0m\u001b[0muba\u001b[0m\u001b[1;33m,\u001b[0m \u001b[0mubb\u001b[0m\u001b[1;33m=\u001b[0m\u001b[0mubb\u001b[0m\u001b[1;33m,\u001b[0m \u001b[0mubc\u001b[0m\u001b[1;33m=\u001b[0m\u001b[0mubc\u001b[0m\u001b[1;33m,\u001b[0m \u001b[0mubd\u001b[0m\u001b[1;33m=\u001b[0m\u001b[0mubd\u001b[0m\u001b[1;33m,\u001b[0m \u001b[0mube\u001b[0m\u001b[1;33m=\u001b[0m\u001b[0mube\u001b[0m\u001b[1;33m,\u001b[0m\u001b[1;33m\u001b[0m\u001b[1;33m\u001b[0m\u001b[0m\n\u001b[0;32m     14\u001b[0m                                                        \u001b[0mp0a\u001b[0m\u001b[1;33m=\u001b[0m\u001b[0mp0a\u001b[0m\u001b[1;33m,\u001b[0m \u001b[0mp0b\u001b[0m\u001b[1;33m=\u001b[0m\u001b[0mp0b\u001b[0m\u001b[1;33m,\u001b[0m \u001b[0mp0c\u001b[0m\u001b[1;33m=\u001b[0m\u001b[0mp0c\u001b[0m\u001b[1;33m,\u001b[0m \u001b[0mp0d\u001b[0m\u001b[1;33m=\u001b[0m\u001b[0mp0d\u001b[0m\u001b[1;33m,\u001b[0m \u001b[0mp0e\u001b[0m\u001b[1;33m=\u001b[0m\u001b[0mp0e\u001b[0m\u001b[1;33m,\u001b[0m\u001b[1;33m\u001b[0m\u001b[1;33m\u001b[0m\u001b[0m\n\u001b[1;32m---> 15\u001b[1;33m                                                        min_x=1)\n\u001b[0m\u001b[0;32m     16\u001b[0m \u001b[0mdayofyear\u001b[0m \u001b[1;33m=\u001b[0m \u001b[0mpd\u001b[0m\u001b[1;33m.\u001b[0m\u001b[0mTimestamp\u001b[0m\u001b[1;33m(\u001b[0m\u001b[0mdatetime\u001b[0m\u001b[1;33m.\u001b[0m\u001b[0mnow\u001b[0m\u001b[1;33m(\u001b[0m\u001b[1;33m)\u001b[0m\u001b[1;33m)\u001b[0m\u001b[1;33m.\u001b[0m\u001b[0mdayofyear\u001b[0m\u001b[1;33m\u001b[0m\u001b[1;33m\u001b[0m\u001b[0m\n\u001b[0;32m     17\u001b[0m \u001b[1;31m#dayofyear = pd.Timestamp(datetime(year=2020, month=3, day=16)).dayofyear\u001b[0m\u001b[1;33m\u001b[0m\u001b[1;33m\u001b[0m\u001b[1;33m\u001b[0m\u001b[0m\n",
      "\u001b[1;32m<ipython-input-10-c0c17a2077e3>\u001b[0m in \u001b[0;36mfit_curve\u001b[1;34m(column_name, lba, lbb, lbc, lbd, lbe, uba, ubb, ubc, ubd, ube, p0a, p0b, p0c, p0d, p0e, min_x)\u001b[0m\n\u001b[0;32m     28\u001b[0m     \u001b[0mp0_array\u001b[0m \u001b[1;33m=\u001b[0m \u001b[0mnp\u001b[0m\u001b[1;33m.\u001b[0m\u001b[0marray\u001b[0m\u001b[1;33m(\u001b[0m\u001b[1;33m[\u001b[0m\u001b[0mp0a\u001b[0m\u001b[1;33m,\u001b[0m \u001b[0mp0b\u001b[0m\u001b[1;33m,\u001b[0m \u001b[0mp0c\u001b[0m\u001b[1;33m,\u001b[0m \u001b[0mp0d\u001b[0m\u001b[1;33m,\u001b[0m \u001b[0mp0e\u001b[0m\u001b[1;33m]\u001b[0m\u001b[1;33m)\u001b[0m\u001b[1;33m\u001b[0m\u001b[1;33m\u001b[0m\u001b[0m\n\u001b[0;32m     29\u001b[0m     popt, pcov = curve_fit(func, dayofyear_data, confirmation_data,\n\u001b[1;32m---> 30\u001b[1;33m                            bounds=bounds_tuple, p0=p0_array, method=method)\n\u001b[0m\u001b[0;32m     31\u001b[0m \u001b[1;33m\u001b[0m\u001b[0m\n\u001b[0;32m     32\u001b[0m     \u001b[1;31m# Plot the cumulative data\u001b[0m\u001b[1;33m\u001b[0m\u001b[1;33m\u001b[0m\u001b[1;33m\u001b[0m\u001b[0m\n",
      "\u001b[1;32m~\\AppData\\Local\\Continuum\\anaconda3\\lib\\site-packages\\scipy\\optimize\\minpack.py\u001b[0m in \u001b[0;36mcurve_fit\u001b[1;34m(f, xdata, ydata, p0, sigma, absolute_sigma, check_finite, bounds, method, jac, **kwargs)\u001b[0m\n\u001b[0;32m    761\u001b[0m \u001b[1;33m\u001b[0m\u001b[0m\n\u001b[0;32m    762\u001b[0m         res = least_squares(func, p0, jac=jac, bounds=bounds, method=method,\n\u001b[1;32m--> 763\u001b[1;33m                             **kwargs)\n\u001b[0m\u001b[0;32m    764\u001b[0m \u001b[1;33m\u001b[0m\u001b[0m\n\u001b[0;32m    765\u001b[0m         \u001b[1;32mif\u001b[0m \u001b[1;32mnot\u001b[0m \u001b[0mres\u001b[0m\u001b[1;33m.\u001b[0m\u001b[0msuccess\u001b[0m\u001b[1;33m:\u001b[0m\u001b[1;33m\u001b[0m\u001b[1;33m\u001b[0m\u001b[0m\n",
      "\u001b[1;32m~\\AppData\\Local\\Continuum\\anaconda3\\lib\\site-packages\\scipy\\optimize\\_lsq\\least_squares.py\u001b[0m in \u001b[0;36mleast_squares\u001b[1;34m(fun, x0, jac, bounds, method, ftol, xtol, gtol, x_scale, loss, f_scale, diff_step, tr_solver, tr_options, jac_sparsity, max_nfev, verbose, args, kwargs)\u001b[0m\n\u001b[0;32m    811\u001b[0m \u001b[1;33m\u001b[0m\u001b[0m\n\u001b[0;32m    812\u001b[0m     \u001b[1;32mif\u001b[0m \u001b[1;32mnot\u001b[0m \u001b[0mnp\u001b[0m\u001b[1;33m.\u001b[0m\u001b[0mall\u001b[0m\u001b[1;33m(\u001b[0m\u001b[0mnp\u001b[0m\u001b[1;33m.\u001b[0m\u001b[0misfinite\u001b[0m\u001b[1;33m(\u001b[0m\u001b[0mf0\u001b[0m\u001b[1;33m)\u001b[0m\u001b[1;33m)\u001b[0m\u001b[1;33m:\u001b[0m\u001b[1;33m\u001b[0m\u001b[1;33m\u001b[0m\u001b[0m\n\u001b[1;32m--> 813\u001b[1;33m         \u001b[1;32mraise\u001b[0m \u001b[0mValueError\u001b[0m\u001b[1;33m(\u001b[0m\u001b[1;34m\"Residuals are not finite in the initial point.\"\u001b[0m\u001b[1;33m)\u001b[0m\u001b[1;33m\u001b[0m\u001b[1;33m\u001b[0m\u001b[0m\n\u001b[0m\u001b[0;32m    814\u001b[0m \u001b[1;33m\u001b[0m\u001b[0m\n\u001b[0;32m    815\u001b[0m     \u001b[0mn\u001b[0m \u001b[1;33m=\u001b[0m \u001b[0mx0\u001b[0m\u001b[1;33m.\u001b[0m\u001b[0msize\u001b[0m\u001b[1;33m\u001b[0m\u001b[1;33m\u001b[0m\u001b[0m\n",
      "\u001b[1;31mValueError\u001b[0m: Residuals are not finite in the initial point."
     ]
    }
   ],
   "source": [
    "\n",
    "p0a = popt[0]\n",
    "lba, uba = get_lb_ub(p0a)\n",
    "p0b = popt[1]\n",
    "lbb, ubb = get_lb_ub(p0b)\n",
    "p0c = popt[2]\n",
    "lbc, ubc = get_lb_ub(p0c)\n",
    "p0d = popt[3]\n",
    "lbd, ubd = get_lb_ub(p0d)\n",
    "p0e = popt[4]\n",
    "lbe, ube = get_lb_ub(p0e)\n",
    "popt, doubling_days, get_cumulative_deaths = fit_curve('Deaths_Cumulative',\n",
    "                                                       lba=lba, lbb=lbb, lbc=lbc, lbd=lbd, lbe=lbe,\n",
    "                                                       uba=uba, ubb=ubb, ubc=ubc, ubd=ubd, ube=ube,\n",
    "                                                       p0a=p0a, p0b=p0b, p0c=p0c, p0d=p0d, p0e=p0e,\n",
    "                                                       min_x=1)\n",
    "dayofyear = pd.Timestamp(datetime.now()).dayofyear\n",
    "#dayofyear = pd.Timestamp(datetime(year=2020, month=3, day=16)).dayofyear\n",
    "confirmed_now = int(get_cumulative_deaths(dayofyear))\n",
    "print('The US will have {:,} cumulative confirmed cases today. It is doubling every {} days.'.format(confirmed_now, round(doubling_days, 1)))\n",
    "formatted_str = 'That {} * pow(dayofyear{}, {}) + {} * dayofyear + {} curve shown in red is (over)fitted to the data.'\n",
    "print(formatted_str.format(popt[0], popt[1], popt[2], popt[3], popt[4]))"
   ]
  },
  {
   "cell_type": "code",
   "execution_count": 92,
   "metadata": {},
   "outputs": [
    {
     "name": "stdout",
     "output_type": "stream",
     "text": [
      "0.12309943329721984 1.2309943329721984 12.309943329721984\n",
      "-738.6649714789803 -73.86649714789803 -7.386649714789803\n",
      "0.26901478172140514 2.6901478172140516 26.901478172140514\n",
      "0.08402165631346971 0.8402165631346971 8.402165631346971\n",
      "-3.3265129610783047e-13 -3.3265129610783047e-14 -3.3265129610783046e-15\n",
      "The US will have 1,340 cumulative confirmed deaths today. It is doubling every 3.3 days.\n",
      "That 1.2309943329721984 * pow(dayofyear-73.86649714789803, 2.6901478172140516) + 0.8402165631346971 * dayofyear + -3.3265129610783047e-14 curve shown in red is (over)fitted to the data.\n"
     ]
    }
   ],
   "source": [
    "\n",
    "print(lba, popt[0], uba)\n",
    "print(lbb, popt[1], ubb)\n",
    "print(lbc, popt[2], ubc)\n",
    "print(lbd, popt[3], ubd)\n",
    "print(lbe, popt[4], ube)\n",
    "dayofyear = pd.Timestamp(datetime.now()).dayofyear\n",
    "confirmed_now = int(get_cumulative_deaths_usa(dayofyear))\n",
    "print('The US will have {:,} cumulative confirmed deaths today. It is doubling every {} days.'.format(confirmed_now, round(doubling_days, 1)))\n",
    "formatted_str = 'That {} * pow(dayofyear{}, {}) + {} * dayofyear + {} curve shown in red is (over)fitted to the data.'\n",
    "print(formatted_str.format(popt[0], popt[1], popt[2], popt[3], popt[4]))"
   ]
  },
  {
   "cell_type": "code",
   "execution_count": null,
   "metadata": {},
   "outputs": [],
   "source": [
    "\n",
    "tracking_df.columns"
   ]
  },
  {
   "cell_type": "code",
   "execution_count": null,
   "metadata": {},
   "outputs": [],
   "source": [
    "\n",
    "def get_lb_ub(p0):\n",
    "    if p0 < 0:\n",
    "        uba = math.copysign(abs(p0)/10, p0)\n",
    "        lba = math.copysign(abs(p0)*10, p0)\n",
    "    else:\n",
    "        lba = math.copysign(abs(p0)/10, p0)\n",
    "        uba = math.copysign(abs(p0)*10, p0)\n",
    "    \n",
    "    return lba, uba\n",
    "\n",
    "p0a = popt[0]\n",
    "lba, uba = get_lb_ub(p0a)\n",
    "print('''\n",
    "lba = {}\n",
    "uba = {}\n",
    "p0a = {}'''.format(lba, uba, p0a))\n",
    "\n",
    "p0b = popt[1]\n",
    "lbb, ubb = get_lb_ub(p0b)\n",
    "print('''\n",
    "lbb = {}\n",
    "ubb = {}\n",
    "p0b = {}'''.format(lbb, ubb, p0b))\n",
    "\n",
    "p0c = popt[2]\n",
    "lbc, ubc = get_lb_ub(p0c)\n",
    "print('''\n",
    "lbc = {}\n",
    "ubc = {}\n",
    "p0c = {}'''.format(lbc, ubc, p0c))\n",
    "\n",
    "p0d = popt[3]\n",
    "lbd, ubd = get_lb_ub(p0d)\n",
    "print('''\n",
    "lbd = {}\n",
    "ubd = {}\n",
    "p0d = {}'''.format(lbd, ubd, p0d))\n",
    "\n",
    "p0e = popt[4]\n",
    "lbe, ube = get_lb_ub(p0e)\n",
    "print('''\n",
    "lbe = {}\n",
    "ube = {}\n",
    "p0e = {}'''.format(lbe, ube, p0e))"
   ]
  },
  {
   "cell_type": "code",
   "execution_count": null,
   "metadata": {},
   "outputs": [],
   "source": [
    "\n",
    "lba = 3.5898673196110995e-29\n",
    "uba = 3.589867319611099e-27\n",
    "p0a = 3.5898673196110993e-28\n",
    "\n",
    "lbb = -258.0043216718908\n",
    "ubb = -2.580043216718908\n",
    "p0b = -25.80043216718908\n",
    "\n",
    "lbc = 1.794478077861036\n",
    "ubc = 179.44780778610362\n",
    "p0c = 17.94478077861036\n",
    "\n",
    "lbd = 4.482007640229286\n",
    "ubd = 448.2007640229285\n",
    "p0d = 44.820076402292855\n",
    "\n",
    "lbe = -32017.1490577167\n",
    "ube = -320.171490577167\n",
    "p0e = -3201.7149057716697"
   ]
  },
  {
   "cell_type": "code",
   "execution_count": null,
   "metadata": {},
   "outputs": [],
   "source": [
    "\n",
    "column_name = 'Confirmed_New_usa'\n",
    "popt, doubling_days, get_new_confirmations_usa = fit_curve(column_name=column_name,\n",
    "                                                           lba=lba, lbb=lbb, lbc=lbc, lbd=lbd, lbe=lbe,\n",
    "                                                           uba=uba, ubb=ubb, ubc=ubc, ubd=ubd, ube=ube,\n",
    "                                                           p0a=p0a, p0b=p0b, p0c=p0c, p0d=p0d, p0e=p0e,\n",
    "                                                           min_x=100)\n",
    "dayofyear = pd.Timestamp(datetime.now()).dayofyear\n",
    "confirmed_now = int(get_new_confirmations_usa(dayofyear))\n",
    "word_list = column_name.lower().split('_')\n",
    "formatted_str = 'The US will have {:,} {} {} cases today. It is doubling every {} days.'\n",
    "print(formatted_str.format(confirmed_now, word_list[0], word_list[1], round(doubling_days, 1)))\n",
    "formatted_str = 'That {} * pow(dayofyear{}, {}) + {} * dayofyear + {} curve shown in red is (over)fitted to the data.'\n",
    "print(formatted_str.format(popt[0], popt[1], popt[2], popt[3], popt[4]))"
   ]
  },
  {
   "cell_type": "code",
   "execution_count": null,
   "metadata": {},
   "outputs": [],
   "source": [
    "\n",
    "import matplotlib.pyplot as plt\n",
    "from scipy.optimize import curve_fit\n",
    "import numpy as np\n",
    "import math\n",
    "%matplotlib inline\n",
    "\n",
    "#tracking_df = s.load_object('tracking_df')\n",
    "method = ['lm', 'trf', 'dogbox'][1]\n",
    "def fit_sigmoid_curve(column_name='Confirmed_New_usa',\n",
    "                      lba=1e-09, lbb=-49, lbc=3.8,\n",
    "                      uba=0.1, ubb=-41, ubc=8.3,\n",
    "                      p0a=0.05, p0b=-46, p0c=3.9,\n",
    "                      min_x=100):\n",
    "    \n",
    "    # Format the data\n",
    "    columns_list = [column_name]\n",
    "    tracking_df[column_name] = pd.to_numeric(tracking_df[column_name])\n",
    "    mask_series = (tracking_df[column_name] >= min_x)\n",
    "    df = tracking_df[mask_series][columns_list].dropna(axis='index', how='any')\n",
    "    \n",
    "    # Fit the curve using the lower and upper bounds and a suggested starting point\n",
    "    def sigmoid(x, a, b, c):\n",
    "        #print('{} / (1 + np.exp(-1*{}*np.subtract(np.array({}), {})))'.format(a, b, x, c))\n",
    "        \n",
    "        return a / (1 + np.exp(-1*b*np.subtract(x, c)))\n",
    "    dayofyear_data = np.array(object=[ts.dayofyear for ts in df.index])\n",
    "    confirmation_data = np.array(object=[int(c) for c in df[column_name].tolist()])\n",
    "    bounds_tuple = ([lba, lbb, lbc],\n",
    "                    [uba, ubb, ubc])\n",
    "    p0_array = np.array([p0a, p0b, p0c])\n",
    "    popt, pcov = curve_fit(sigmoid, dayofyear_data, confirmation_data,\n",
    "                           bounds=bounds_tuple, p0=p0_array, method=method)\n",
    "    \n",
    "    # Plot the cumulative data\n",
    "    fig = plt.figure(figsize=(18, 4))\n",
    "    ax = fig.add_subplot(111)\n",
    "    #ax.set_yscale('log')\n",
    "    country_name = column_name.split('_')[-1]\n",
    "    line_2d_obj = plt.plot(dayofyear_data, confirmation_data, 'b-', label='{} data'.format(country_name))\n",
    "    \n",
    "    # Plot the fitted curve\n",
    "    def get_cumulative_confirmations(dayofyear):\n",
    "        '''Get the cumulative confirmations given the day of the year'''\n",
    "        #print('{} / (1 + np.exp(-{}({}-{})))'.format(popt[0], popt[1], dayofyear, popt[2]))\n",
    "        \n",
    "        return popt[0] / (1 + np.exp(-1*popt[1]*np.subtract(dayofyear, popt[2])))\n",
    "    label_str = 'fit: cc = %3.0f / (1 + np.exp(-%3.1f(doy-%3.1f)))' % tuple(popt)\n",
    "    line_2d_obj = plt.plot(dayofyear_data, get_cumulative_confirmations(dayofyear_data), 'r-', label=label_str)\n",
    "    \n",
    "    # Label the graph\n",
    "    plt.xlabel('Day of Year')\n",
    "    label_list = column_name.split('_')\n",
    "    plt.ylabel('{} {}'.format(label_list[0], label_list[1]))\n",
    "    legend_obj = plt.legend()\n",
    "    \n",
    "    # Get the doubling time\n",
    "    doubling_time_list = []\n",
    "    for i, confirms in enumerate(confirmation_data):\n",
    "        if i > 0:\n",
    "            growth_rate = (confirmation_data[i]-confirmation_data[i-1])/confirmation_data[i]\n",
    "            doubling_time = math.log(2)/growth_rate\n",
    "            if (doubling_time != np.inf) and (doubling_time > 0):\n",
    "                doubling_time_list.append(doubling_time)\n",
    "    average_doubling_time = np.array(doubling_time_list).mean()\n",
    "    \n",
    "    return popt, average_doubling_time, get_cumulative_confirmations"
   ]
  },
  {
   "cell_type": "code",
   "execution_count": null,
   "metadata": {},
   "outputs": [],
   "source": [
    "\n",
    "column_name = 'Confirmed_New_usa'\n",
    "popt, doubling_days, get_new_confirmations_usa = fit_sigmoid_curve(column_name=column_name, lba=lba, lbb=lbb, lbc=lbc, uba=uba, ubb=ubb, ubc=ubc,\n",
    "                                                                   p0a=p0a, p0b=p0b, p0c=p0c, min_x=1)"
   ]
  },
  {
   "cell_type": "code",
   "execution_count": null,
   "metadata": {},
   "outputs": [],
   "source": [
    "\n",
    "p0a = popt[0]\n",
    "lba, uba = get_lb_ub(p0a)\n",
    "print('''\n",
    "lba = {}\n",
    "uba = {}\n",
    "p0a = {}'''.format(lba, uba, p0a))\n",
    "\n",
    "p0b = popt[1]\n",
    "lbb, ubb = get_lb_ub(p0b)\n",
    "print('''\n",
    "lbb = {}\n",
    "ubb = {}\n",
    "p0b = {}'''.format(lbb, ubb, p0b))\n",
    "\n",
    "p0c = popt[2]\n",
    "lbc, ubc = get_lb_ub(p0c)\n",
    "print('''\n",
    "lbc = {}\n",
    "ubc = {}\n",
    "p0c = {}'''.format(lbc, ubc, p0c))"
   ]
  },
  {
   "cell_type": "code",
   "execution_count": null,
   "metadata": {},
   "outputs": [],
   "source": [
    "\n",
    "column_name = 'Deaths_New_usa'\n",
    "popt, doubling_days, get_new_deaths_usa = fit_sigmoid_curve(column_name=column_name, lba=lba, lbb=lbb, lbc=lbc, uba=uba, ubb=ubb,\n",
    "                                                            ubc=ubc, p0a=p0a, p0b=p0b, p0c=p0c, min_x=1)"
   ]
  },
  {
   "cell_type": "code",
   "execution_count": null,
   "metadata": {},
   "outputs": [],
   "source": [
    "\n",
    "df.Deaths_New.unique()"
   ]
  },
  {
   "cell_type": "code",
   "execution_count": null,
   "metadata": {},
   "outputs": [],
   "source": [
    "\n",
    "from scipy.stats import pearsonr\n",
    "import seaborn as sns\n",
    "\n",
    "usa_df = s.load_object('usa_df')\n",
    "qr_column = 'Deaths_New'\n",
    "qe_column = 'doy'\n",
    "columns_list = [qr_column, 'Date']\n",
    "df = usa_df[columns_list].dropna(axis='index', how='any')\n",
    "df[qe_column] = df.Date.map(lambda ts: ts.dayofyear)\n",
    "columns_list = [qe_column, qr_column]\n",
    "df = df[columns_list]\n",
    "df[qr_column] = pd.to_numeric(df[qr_column]).map(lambda x: math.log(x))\n",
    "facet_grid = sns.lmplot(x=qe_column, y=qr_column, data=df)\n",
    "set_list = facet_grid.set(xlabel='Day of Year',\n",
    "                             ylabel='Logarithm of the day`s Coronavirus Deaths',\n",
    "                             title='Association Between Time Passing and the Logarithm of New Deaths')\n",
    "set_list = facet_grid.fig.set(figheight=10, figwidth=10)\n",
    "pearsonr_tuple = pearsonr(df[qe_column], df[qr_column])\n",
    "pearson_r = pearsonr_tuple[0]\n",
    "pearsonr_statement = str('%.2f' % pearson_r)\n",
    "coefficient_of_determination_statement = str('%.2f' % pearson_r**2)\n",
    "p_value = pearsonr_tuple[1]\n",
    "if p_value < 0.0001:\n",
    "    pvalue_statement = '<0.0001'\n",
    "else:\n",
    "    pvalue_statement = '=' + str('%.4f' % p_value)\n",
    "set_list = facet_grid.fig.text(0.135, 0.86, r'$r^2=' + coefficient_of_determination_statement + ',\\ p' + pvalue_statement + '$')"
   ]
  },
  {
   "cell_type": "code",
   "execution_count": null,
   "metadata": {},
   "outputs": [],
   "source": [
    "\n",
    "from scipy.stats import pearsonr\n",
    "import seaborn as sns\n",
    "\n",
    "usa_df = s.load_object('usa_df')\n",
    "qr_column = 'Deaths_New'\n",
    "qe_column = 'doy'\n",
    "columns_list = [qr_column, 'Date']\n",
    "df = usa_df[columns_list].dropna(axis='index', how='any')\n",
    "df[qe_column] = df.Date.map(lambda ts: ts.dayofyear)\n",
    "columns_list = [qe_column, qr_column]\n",
    "df = df[columns_list]\n",
    "df[qr_column] = pd.to_numeric(df[qr_column])\n",
    "facet_grid = sns.lmplot(x=qe_column, y=qr_column, data=df, logx=False)\n",
    "facet_grid.ax.set_yscale('log')\n",
    "set_list = facet_grid.set(xlabel='Day of Year',\n",
    "                             ylabel='The day`s Coronavirus Deaths',\n",
    "                             title='Association Between Time Passing and New Deaths')\n",
    "set_list = facet_grid.fig.set(figheight=10, figwidth=10)\n",
    "pearsonr_tuple = pearsonr(df[qe_column], df[qr_column])\n",
    "pearson_r = pearsonr_tuple[0]\n",
    "pearsonr_statement = str('%.2f' % pearson_r)\n",
    "coefficient_of_determination_statement = str('%.2f' % pearson_r**2)\n",
    "p_value = pearsonr_tuple[1]\n",
    "if p_value < 0.0001:\n",
    "    pvalue_statement = '<0.0001'\n",
    "else:\n",
    "    pvalue_statement = '=' + str('%.4f' % p_value)\n",
    "set_list = facet_grid.fig.text(0.135, 0.86, r'$r^2=' + coefficient_of_determination_statement + ',\\ p' + pvalue_statement + '$')"
   ]
  },
  {
   "cell_type": "code",
   "execution_count": null,
   "metadata": {},
   "outputs": [],
   "source": [
    "\n",
    "print(type(axes_subplot1))\n",
    "print(['facet_grid.{}'.format(fn) for fn in dir(axes_subplot1) if not fn.startswith('_')])"
   ]
  },
  {
   "cell_type": "code",
   "execution_count": null,
   "metadata": {},
   "outputs": [],
   "source": [
    "\n",
    "sns.lmplot?"
   ]
  },
  {
   "cell_type": "code",
   "execution_count": null,
   "metadata": {},
   "outputs": [],
   "source": [
    "\n",
    "#date_obj = datetime(year=2020, month=12, day=31)\n",
    "#dayofyear = pd.Timestamp(date_obj).dayofyear\n",
    "date_obj = datetime.now()\n",
    "dayofyear = pd.Timestamp(date_obj).dayofyear\n",
    "confirmed_now = int(get_new_deaths_usa(dayofyear))\n",
    "word_list = column_name.lower().split('_')\n",
    "formatted_str = 'The US will have {:,} {} {} on {}. It is doubling every {} days.'\n",
    "print(formatted_str.format(confirmed_now, word_list[0], word_list[1], date_obj.strftime('%b %d, %Y'), round(doubling_days, 1)))\n",
    "formatted_str = 'That {} / (1 + math.exp(-1*{}*(dayofyear-{}))) curve shown in red is (over)fitted to the data.'\n",
    "print(formatted_str.format(popt[0], popt[1], popt[2]))"
   ]
  },
  {
   "cell_type": "code",
   "execution_count": null,
   "metadata": {},
   "outputs": [],
   "source": [
    "\n",
    "lba = 6166330.3878130205\n",
    "uba = 616633038.7813021/4\n",
    "p0a = 61663303.878130205\n",
    "\n",
    "lbb = 0.039285826964592\n",
    "ubb = 3.9285826964591997\n",
    "p0b = 0.39285826964591997\n",
    "\n",
    "lbc = 10.381717623034424\n",
    "ubc = 1038.1717623034424\n",
    "p0c = 103.81717623034424"
   ]
  },
  {
   "cell_type": "code",
   "execution_count": null,
   "metadata": {},
   "outputs": [],
   "source": [
    "\n",
    "column_description_dict = s.load_object('column_description_dict')"
   ]
  },
  {
   "cell_type": "code",
   "execution_count": null,
   "metadata": {},
   "outputs": [],
   "source": [
    "\n",
    "def get_column_description(column_name):\n",
    "    if column_name in column_description_dict:\n",
    "        column_description = column_description_dict[column_name]\n",
    "    else:\n",
    "        column_description = re.sub('^pf_', 'Personal Freedom:_', str(column_name), 1)\n",
    "        column_description = re.sub('^hf_', 'Human Freedom:_', str(column_description), 1)\n",
    "        column_description = re.sub('^ef_', 'Economic Freedom:_', str(column_description), 1)\n",
    "        column_list = column_description.split('_')\n",
    "        descr_list = []\n",
    "        for word in column_list:\n",
    "            descr_list.append(word[0].upper()+word[1:])\n",
    "        column_description = ' '.join(descr_list)\n",
    "        column_description_dict[column_name] = column_description\n",
    "        s.store_objects(column_description_dict=column_description_dict)\n",
    "    \n",
    "    return column_description"
   ]
  },
  {
   "cell_type": "code",
   "execution_count": null,
   "metadata": {},
   "outputs": [],
   "source": [
    "\n",
    "for column_name in pandemic_df.columns:\n",
    "    print(column_name, get_column_description(column_name=column_name))"
   ]
  },
  {
   "cell_type": "code",
   "execution_count": null,
   "metadata": {},
   "outputs": [],
   "source": [
    "\n",
    "svg_dir = os.path.join(s.saves_folder, 'svg')\n",
    "os.makedirs(name=svg_dir, exist_ok=True)"
   ]
  },
  {
   "cell_type": "code",
   "execution_count": null,
   "metadata": {},
   "outputs": [],
   "source": [
    "\n",
    "def show_linear_scatterplot(merged_df, columns_list, ev_min_str=None, ev_max_str=None, rv_min_str=None, rv_max_str=None):\n",
    "    ev_column_name = columns_list[0]\n",
    "    rv_column_name = columns_list[1]\n",
    "    explanatory_variable = get_column_description(ev_column_name)\n",
    "    response_variable = get_column_description(rv_column_name)\n",
    "    if (ev_min_str is None):\n",
    "        ev_min_str = 'minimum {}'.format(explanatory_variable)\n",
    "    if (ev_max_str is None):\n",
    "        ev_max_str = 'maximum {}'.format(explanatory_variable)\n",
    "    if (rv_min_str is None):\n",
    "        rv_min_str = 'minimum {}'.format(response_variable)\n",
    "    if (rv_max_str is None):\n",
    "        rv_max_str = 'maximum {}'.format(response_variable)\n",
    "    \n",
    "    df = merged_df.copy()\n",
    "    columns_list = [ev_column_name, rv_column_name]\n",
    "    df = df[columns_list].dropna()\n",
    "    ev_max = df[ev_column_name].max()\n",
    "    ev_min = df[ev_column_name].min()\n",
    "    rv_min = df[rv_column_name].min()\n",
    "    rv_max = df[rv_column_name].max()\n",
    "    ev_max_labeled = False\n",
    "    ev_min_labeled = False\n",
    "    rv_min_labeled = False\n",
    "    rv_max_labeled = False\n",
    "    \n",
    "    # First order (linear) scatterplot\n",
    "    fig1_fig = plt.figure(figsize=(12,8))\n",
    "    merge_axes_subplot = plt.scatter(x=df[ev_column_name].tolist(), y=df[rv_column_name].tolist(), s=None, c=None, marker=None, cmap=None,\n",
    "                                     norm=None, vmin=None, vmax=None, alpha=None, linewidths=None, verts=None, edgecolors=None,\n",
    "                                     plotnonfinite=False, data=df)\n",
    "    xlabel_text = plt.xlabel('{}'.format(explanatory_variable))\n",
    "    ylabel_text = plt.ylabel('{}'.format(response_variable))\n",
    "    \n",
    "    # Add annotations\n",
    "    for label, x, y in zip(df.index, df[ev_column_name], df[rv_column_name]):\n",
    "        if (x == ev_min):\n",
    "            if not ev_min_labeled:\n",
    "                ev_min_labeled = True\n",
    "                annotation = plt.annotate('{} ({})'.format(label, ev_min_str), xy=(x, y), xytext=ev_min_xytext, **kwargs)\n",
    "        elif (x == ev_max):\n",
    "            if not ev_max_labeled:\n",
    "                ev_max_labeled = True\n",
    "                annotation = plt.annotate('{} ({})'.format(label, ev_max_str), xy=(x, y), xytext=ev_max_xytext, **kwargs)\n",
    "        elif (y == rv_min):\n",
    "            if not rv_min_labeled:\n",
    "                rv_min_labeled = True\n",
    "                annotation = plt.annotate('{} ({})'.format(label, rv_min_str), xy=(x, y), xytext=rv_min_xytext, **kwargs)\n",
    "        elif (y == rv_max):\n",
    "            if not rv_max_labeled:\n",
    "                rv_max_labeled = True\n",
    "                annotation = plt.annotate('{} ({})'.format(label, rv_max_str), xy=(x, y), xytext=rv_max_xytext, **kwargs)\n",
    "        elif (label == 'SARS'):\n",
    "            annotation = plt.annotate('{}'.format(label), xy=(x, y), xytext=(50, -20), **kwargs)\n",
    "        elif ('Kong' in label):\n",
    "            annotation = plt.annotate('{}'.format(label), xy=(x, y), xytext=(-65, 120), **kwargs)\n",
    "        elif ('Swine' in label):\n",
    "            annotation = plt.annotate('{}'.format(label), xy=(x, y), xytext=(-50, 100-2.7842095), **kwargs)\n",
    "        elif ('Seasonal' in label):\n",
    "            annotation = plt.annotate('{}'.format(label), xy=(x, y), xytext=(-25, 70-1.9397546), **kwargs)\n",
    "        elif ('Spanish' in label):\n",
    "            annotation = plt.annotate('{}'.format(label), xy=(x, y), xytext=(-59, 128), **kwargs)\n",
    "        elif ('19' in label):\n",
    "            annotation = plt.annotate('{}'.format(label), xy=(x, y), xytext=(-85, 25), **red_kwargs)\n",
    "        '''else:\n",
    "            annotation = plt.annotate('{}'.format(label), xy=(x, y), xytext=ev_min_xytext, **kwargs)'''\n",
    "    \n",
    "    # Add r-squared\n",
    "    x = df[ev_column_name].values\n",
    "    y = df[rv_column_name].values\n",
    "    plt.text(17.4, 34.4, r'$r^2 = {0:.2}$'.format(stats.pearsonr(x, y)[0] ** 2), fontsize=20, alpha=0.25,\n",
    "             horizontalalignment='center', verticalalignment='center')\n",
    "    plt.suptitle(t='Relative Deadliness and Infectiousness of the Wuhan Flu Pandemic', x=0.5, y=0.91)\n",
    "    left, right = plt.xlim()\n",
    "    bottom, top = plt.ylim()\n",
    "    file_path = os.path.join(svg_dir, 'pandemic.svg')\n",
    "    plt.savefig(file_path)\n",
    "    with open(file_path, 'r') as f:\n",
    "        xml_str = f.read()\n",
    "        d_regex = re.compile('d=\"([^\"\\r\\n]+)[\\r\\n]+')\n",
    "        while d_regex.search(xml_str):\n",
    "            xml_str = d_regex.sub(r'd=\"\\g<1>', xml_str)\n",
    "        with open(file_path, 'w') as f:\n",
    "            print(xml_str.strip(), file=f)\n",
    "    \n",
    "    return file_path, left, right, bottom, top"
   ]
  },
  {
   "cell_type": "code",
   "execution_count": null,
   "metadata": {},
   "outputs": [],
   "source": [
    "\n",
    "#pandemic_df = s.load_object('pandemic_df')\n",
    "kwargs = dict(textcoords='offset points', ha='left', va='bottom',\n",
    "              bbox=dict(boxstyle='round,pad=0.5', fc='yellow', alpha=0.5),\n",
    "              arrowprops=dict(arrowstyle='->', connectionstyle='arc3,rad=0'))\n",
    "red_kwargs = dict(textcoords='offset points', ha='left', va='bottom',\n",
    "                  bbox=dict(boxstyle='round,pad=0.5', fc='pink', alpha=0.5),\n",
    "                  arrowprops=dict(arrowstyle='->', connectionstyle='arc3,rad=0'))\n",
    "\n",
    "ev_column_name = 'R0_high'\n",
    "rv_column_name = 'CFR_high'\n",
    "\n",
    "ev_min_str = 'least infectious'\n",
    "ev_max_str = 'most infectious'\n",
    "rv_min_str = 'least deadly'\n",
    "rv_max_str = 'most deadly'\n",
    "ev_min_xytext = (50, -10)\n",
    "ev_max_xytext = (-150, -10)\n",
    "rv_min_xytext = (20, -5)\n",
    "rv_max_xytext = (100, -50)\n",
    "columns_list = [ev_column_name, rv_column_name]\n",
    "file_path, left, right, bottom, top = show_linear_scatterplot(pandemic_df, columns_list, ev_min_str=ev_min_str,\n",
    "                                                              ev_max_str=ev_max_str, rv_min_str=rv_min_str,\n",
    "                                                              rv_max_str=rv_max_str)\n",
    "!start %windir%\\explorer.exe \"{os.path.abspath(os.path.dirname(file_path))}\""
   ]
  },
  {
   "cell_type": "code",
   "execution_count": null,
   "metadata": {},
   "outputs": [],
   "source": [
    "\n",
    "import matplotlib\n",
    "\n",
    "columns_list = ['R0_high', 'R0_low', 'CFR_high', 'CFR_low']\n",
    "fig = plt.figure(figsize=(12, 8))\n",
    "ax = fig.add_subplot(111)\n",
    "mask_series = (pandemic_df.index == 'Rubella')\n",
    "for Disease, row_series in pandemic_df[columns_list].iterrows():\n",
    "    R0_high = row_series['R0_high']\n",
    "    R0_low = row_series['R0_low']\n",
    "    CFR_high = row_series['CFR_high']\n",
    "    CFR_low = row_series['CFR_low']\n",
    "    rect = matplotlib.patches.Rectangle((R0_low, CFR_low), R0_high-R0_low, CFR_high-CFR_low, color='black', alpha=0.5)\n",
    "    ax.add_patch(rect)\n",
    "    #annotation = plt.annotate('{}'.format(Disease), xy=(int((R0_high+R0_low)/2), int((CFR_high+CFR_low)/2)), xytext=(-85, 20), **red_kwargs)\n",
    "plt.xlim(left, right)\n",
    "bottom, top = plt.ylim(bottom, top)\n",
    "xlabel_text = plt.xlabel('Basic Reproduction Number')\n",
    "ylabel_text = plt.ylabel('Case Fatality Ratio')"
   ]
  },
  {
   "cell_type": "code",
   "execution_count": null,
   "metadata": {},
   "outputs": [],
   "source": [
    "\n",
    "Disease, R0_high, R0_low, CFR_high, CFR_low"
   ]
  },
  {
   "cell_type": "code",
   "execution_count": null,
   "metadata": {},
   "outputs": [],
   "source": [
    "\n",
    "merge_axes_subplot = plt.scatter(x=df[ev_column_name].tolist(), y=df[rv_column_name].tolist(), s=None, c=None, marker=None, cmap=None,\n",
    "                                 norm=None, vmin=None, vmax=None, alpha=None, linewidths=None, verts=None, edgecolors=None,\n",
    "                                 plotnonfinite=False, data=df)"
   ]
  },
  {
   "cell_type": "code",
   "execution_count": null,
   "metadata": {},
   "outputs": [],
   "source": []
  }
 ],
 "metadata": {
  "kernelspec": {
   "display_name": "Python 3",
   "language": "python",
   "name": "python3"
  },
  "language_info": {
   "codemirror_mode": {
    "name": "ipython",
    "version": 3
   },
   "file_extension": ".py",
   "mimetype": "text/x-python",
   "name": "python",
   "nbconvert_exporter": "python",
   "pygments_lexer": "ipython3",
   "version": "3.7.7"
  }
 },
 "nbformat": 4,
 "nbformat_minor": 4
}
