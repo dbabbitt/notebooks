{
 "cells": [
  {
   "cell_type": "markdown",
   "metadata": {},
   "source": [
    "\n",
    "The R0 is between 2 and 6, meaning each infected person infects 2–6 others, which can cause the number of infected to double every few days.\n",
    "\n",
    "![Diagonal Chart](../saves/png/diagonal_chart.png \"Title\")"
   ]
  },
  {
   "cell_type": "code",
   "execution_count": 198,
   "metadata": {},
   "outputs": [],
   "source": [
    "\n",
    "# https://github.com/r-dataisbeautiful/dataisbeautiful-bot\n",
    "# https://sites.google.com/cdc.gov.tw/2019-ncov\n",
    "# https://www.democracynow.org/2020/4/2/rana_ayyub_india_coronavirus\n",
    "# https://www.fuldaerzeitung.de/regional/fulda/starb-an-patient-an-oder-mit-corona-sechs-fragen-zur-zahlweise-des-robert-koch-institus-DF9502588\n",
    "# https://www.google.ca/amp/s/amp.theguardian.com/media/2020/mar/18/us-media-accuse-china-of-cold-war-mentality-after-move-to-expel-journalists\n",
    "# https://www.google.ca/amp/s/amp.usatoday.com/amp/5116256002\n",
    "# https://www.google.ca/amp/s/www.forbes.com/sites/carlieporterfield/2020/04/02/photos-wuhan-residents-return-to-streets-as-lockdown-eases/amp/\n",
    "# https://www.scmp.com/news/china/society/article/3076989/coronavirus-10pc-recovered-patients-test-positive-later-say\n",
    "# https://www.thelancet.com/journals/laninf/article/PIIS1473-3099\n",
    "# https://www.worldometers.info/coronavirus/coronavirus-death-rate/#correct\n",
    "# https://www.wsj.com/articles/italys-coronavirus-death-toll-is-far-higher-than-reported-11585767179"
   ]
  },
  {
   "cell_type": "code",
   "execution_count": null,
   "metadata": {},
   "outputs": [],
   "source": [
    "\n",
    "import sys\n",
    "\n",
    "command_str = '{sys.executable} -m pip install --upgrade statsmodels'.format(sys=sys)\n",
    "print(command_str)\n",
    "!{command_str}"
   ]
  },
  {
   "cell_type": "code",
   "execution_count": 1,
   "metadata": {},
   "outputs": [],
   "source": [
    "\n",
    "import sys\n",
    "\n",
    "# Insert at 1, 0 is the script path (or '' in REPL)\n",
    "sys.path.insert(1, '../py')"
   ]
  },
  {
   "cell_type": "code",
   "execution_count": 2,
   "metadata": {},
   "outputs": [
    {
     "name": "stdout",
     "output_type": "stream",
     "text": [
      "D:\\Documents\\Repositories\\notebooks\\covid19\\ipynb\\Diagonal Chart.ipynb\n",
      "['s.attempt_to_pickle', 's.data_csv_folder', 's.data_folder', 's.encoding_type', 's.load_csv', 's.load_dataframes', 's.load_object', 's.save_dataframes', 's.saves_csv_folder', 's.saves_folder', 's.saves_pickle_folder', 's.store_objects']\n",
      "Pretty printing has been turned OFF\n"
     ]
    },
    {
     "data": {
      "text/plain": [
       "['Config', 'In', 'Out', 'RandomForestClassifier', 'SequenceMatcher', 'Storage', '_', '__', '___', '__builtin__', '__builtins__', '__doc__', '__loader__', '__name__', '__nonzero__', '__package__', '__spec__', '_dh', '_i', '_i1', '_i2', '_ih', '_ii', '_iii', '_oh', 'bs', 'check_4_doubles', 'check_for_typos', 'conjunctify_list', 'copyfile', 'csv', 'encoding', 'example_iterrows', 'exit', 'filepath_regex', 'get_classifier', 'get_column_descriptions', 'get_data_structs_dataframe', 'get_datastructure_prediction', 'get_dir_tree', 'get_git_lfs_track_commands', 'get_importances', 'get_input_sample', 'get_ipython', 'get_max_rsquared_adj', 'get_module_version', 'get_notebook_path', 'get_page_tables', 'get_specific_gitignore_files', 'get_struct_name', 'humanize_bytes', 'io', 'ipykernel', 'json', 'jupyter_config_dir', 'math', 'notebook_path', 'notebookapp', 'nx', 'os', 'pd', 'pickle', 'plt', 'preprocess_data', 'print_all_files_ending_starting_with', 'print_all_files_ending_with', 'print_all_files_starting_with', 'quit', 're', 'remove_empty_folders', 's', 'scraping_utils', 'similar', 'sm', 'sns', 'stats', 'subprocess', 'sys', 'time', 'url_regex', 'urllib', 'wikipedia']"
      ]
     },
     "execution_count": 2,
     "metadata": {},
     "output_type": "execute_result"
    }
   ],
   "source": [
    "\n",
    "%run ../../load_magic/storage.py\n",
    "%run ../../load_magic/paths.py\n",
    "%run ../../load_magic/lists.py\n",
    "%run ../../load_magic/environment.py\n",
    "%run ../../load_magic/dataframes.py\n",
    "\n",
    "import scraping_utils\n",
    "wikipedia = scraping_utils.wikipedia\n",
    "\n",
    "from bs4 import BeautifulSoup as bs\n",
    "import networkx as nx\n",
    "import re\n",
    "import urllib.request\n",
    "\n",
    "notebook_path = get_notebook_path()\n",
    "print(notebook_path)\n",
    "s = Storage()\n",
    "#pandemic_df = s.load_object('pandemic_df')\n",
    "print(['s.{}'.format(fn) for fn in dir(s) if not fn.startswith('_')])\n",
    "\n",
    "%pprint\n",
    "dir()"
   ]
  },
  {
   "cell_type": "code",
   "execution_count": 3,
   "metadata": {},
   "outputs": [],
   "source": [
    "\n",
    "column_description_dict = s.load_object('column_description_dict')\n",
    "def get_column_description(column_name):\n",
    "    if column_name in column_description_dict:\n",
    "        column_description = column_description_dict[column_name]\n",
    "    else:\n",
    "        column_description = re.sub('^pf_', 'Personal Freedom:_', str(column_name), 1)\n",
    "        column_description = re.sub('^hf_', 'Human Freedom:_', str(column_description), 1)\n",
    "        column_description = re.sub('^ef_', 'Economic Freedom:_', str(column_description), 1)\n",
    "        column_list = column_description.split('_')\n",
    "        descr_list = []\n",
    "        for word in column_list:\n",
    "            descr_list.append(word[0].upper()+word[1:])\n",
    "        column_description = ' '.join(descr_list)\n",
    "        column_description_dict[column_name] = column_description\n",
    "        s.store_objects(column_description_dict=column_description_dict)\n",
    "    \n",
    "    return column_description"
   ]
  },
  {
   "cell_type": "code",
   "execution_count": null,
   "metadata": {},
   "outputs": [],
   "source": [
    "\n",
    "!start %windir%\\explorer.exe \"{os.path.abspath(os.path.dirname(notebook_path))}\""
   ]
  },
  {
   "cell_type": "code",
   "execution_count": 13,
   "metadata": {},
   "outputs": [
    {
     "name": "stdout",
     "output_type": "stream",
     "text": [
      "arkansas_df = s.load_object('arkansas_df')\n",
      "arkansas_df\n",
      "california_df = s.load_object('california_df')\n",
      "california_df\n",
      "colorado_df = s.load_object('colorado_df')\n",
      "colorado_df\n",
      "czech_df = s.load_object('czech_df')\n",
      "czech_df\n",
      "florida_df = s.load_object('florida_df')\n",
      "florida_df\n",
      "germany_df = s.load_object('germany_df')\n",
      "germany_df\n",
      "illinois_df = s.load_object('illinois_df')\n",
      "illinois_df\n",
      "iran_df = s.load_object('iran_df')\n",
      "iran_df\n",
      "italy_df = s.load_object('italy_df')\n",
      "italy_df\n",
      "new_york_df = s.load_object('new_york_df')\n",
      "new_york_df\n",
      "oregon_df = s.load_object('oregon_df')\n",
      "oregon_df\n",
      "slovakia_df = s.load_object('slovakia_df')\n",
      "slovakia_df\n",
      "south_carolina_df = s.load_object('south_carolina_df')\n",
      "south_carolina_df\n",
      "south_korea_df = s.load_object('south_korea_df')\n",
      "south_korea_df\n",
      "spain_df = s.load_object('spain_df')\n",
      "spain_df\n",
      "tennessee_df = s.load_object('tennessee_df')\n",
      "tennessee_df\n",
      "uk_df = s.load_object('uk_df')\n",
      "uk_df\n",
      "usa_df = s.load_object('usa_df')\n",
      "usa_df\n",
      "vermont_df = s.load_object('vermont_df')\n",
      "vermont_df\n"
     ]
    }
   ],
   "source": [
    "\n",
    "columns_list = ['Date', 'Confirmed_Cumulative', 'Deaths_Cumulative']\n",
    "for file_name in os.listdir(s.saves_pickle_folder):\n",
    "    if file_name.endswith('_df.pickle'):\n",
    "        df_name = file_name.split('.')[0]\n",
    "        df = eval(\"s.load_object('{}')\".format(df_name))\n",
    "        if len(set(columns_list) - set(df.columns)) == 0:\n",
    "            print(\"{} = s.load_object('{}')\".format(df_name, df_name))\n",
    "            print(\"{}\".format(df_name))"
   ]
  },
  {
   "cell_type": "markdown",
   "metadata": {},
   "source": [
    "\n",
    "---"
   ]
  },
  {
   "cell_type": "code",
   "execution_count": 14,
   "metadata": {},
   "outputs": [],
   "source": [
    "\n",
    "arkansas_df = s.load_object('arkansas_df')\n",
    "california_df = s.load_object('california_df')\n",
    "colorado_df = s.load_object('colorado_df')\n",
    "florida_df = s.load_object('florida_df')\n",
    "illinois_df = s.load_object('illinois_df')\n",
    "new_york_df = s.load_object('new_york_df')\n",
    "oregon_df = s.load_object('oregon_df')\n",
    "south_carolina_df = s.load_object('south_carolina_df')\n",
    "tennessee_df = s.load_object('tennessee_df')\n",
    "vermont_df = s.load_object('vermont_df')"
   ]
  },
  {
   "cell_type": "code",
   "execution_count": 19,
   "metadata": {},
   "outputs": [],
   "source": [
    "\n",
    "from datetime import date\n",
    "\n",
    "def merge_dfs(merge_df, df_name, columns_list=['Confirmed_Cumulative', 'Deaths_Cumulative']):\n",
    "    df = s.load_object(df_name)\n",
    "    df.Date = df.Date.map(lambda ts: date(ts.year, ts.month, ts.day))\n",
    "    df.set_index('Date', drop=True, inplace=True)\n",
    "    country_suffix = '_{}'.format(df_name[:-3])\n",
    "    merge_df = merge_df.merge(df[columns_list], how='outer', left_index=True, right_index=True,\n",
    "                              suffixes=('_merge', country_suffix))\n",
    "    if merge_df.index.has_duplicates:\n",
    "        raise RuntimeError('{} has duplicates'.format(df_name))\n",
    "    columns_list = merge_df.columns.tolist()\n",
    "    columns_list[-2] = columns_list[-2] + country_suffix\n",
    "    columns_list[-1] = columns_list[-1] + country_suffix\n",
    "    merge_df.columns = columns_list\n",
    "    \n",
    "    return merge_df"
   ]
  },
  {
   "cell_type": "code",
   "execution_count": 36,
   "metadata": {},
   "outputs": [],
   "source": [
    "\n",
    "def create_day_df(column_name, idx, name_suffix):\n",
    "    new_name = '{}_day_{}'.format(column_name[idx:], name_suffix)\n",
    "    columns_list = [new_name, column_name]\n",
    "    df = pd.DataFrame(merge_df[columns_list].values, columns=columns_list, index=merge_df.index)\n",
    "    df.set_index(new_name, drop=True, inplace=True)\n",
    "    df.columns = [' '.join(cn[idx:].split('_')).title() for cn in df.columns]\n",
    "    \n",
    "    return df"
   ]
  },
  {
   "cell_type": "code",
   "execution_count": 164,
   "metadata": {},
   "outputs": [],
   "source": [
    "\n",
    "merge_df = pd.DataFrame([])\n",
    "df_name_list = ['arkansas_df', 'california_df', 'colorado_df', 'florida_df', 'illinois_df', 'new_york_df', 'oregon_df',\n",
    "                'south_carolina_df', 'tennessee_df', 'vermont_df']\n",
    "for df_name in df_name_list:\n",
    "    merge_df = merge_dfs(merge_df, df_name)"
   ]
  },
  {
   "cell_type": "code",
   "execution_count": 165,
   "metadata": {},
   "outputs": [
    {
     "data": {
      "text/html": [
       "<div>\n",
       "<style scoped>\n",
       "    .dataframe tbody tr th:only-of-type {\n",
       "        vertical-align: middle;\n",
       "    }\n",
       "\n",
       "    .dataframe tbody tr th {\n",
       "        vertical-align: top;\n",
       "    }\n",
       "\n",
       "    .dataframe thead th {\n",
       "        text-align: right;\n",
       "    }\n",
       "</style>\n",
       "<table border=\"1\" class=\"dataframe\">\n",
       "  <thead>\n",
       "    <tr style=\"text-align: right;\">\n",
       "      <th></th>\n",
       "      <th>Deaths_Cumulative_vermont</th>\n",
       "      <th>Confirmed_Cumulative_illinois</th>\n",
       "      <th>Confirmed_Cumulative_south_carolina</th>\n",
       "      <th>Deaths_Cumulative_illinois</th>\n",
       "      <th>Deaths_Cumulative_florida</th>\n",
       "    </tr>\n",
       "    <tr>\n",
       "      <th>Date</th>\n",
       "      <th></th>\n",
       "      <th></th>\n",
       "      <th></th>\n",
       "      <th></th>\n",
       "      <th></th>\n",
       "    </tr>\n",
       "  </thead>\n",
       "  <tbody>\n",
       "    <tr>\n",
       "      <th>2020-03-05</th>\n",
       "      <td>NaN</td>\n",
       "      <td>5.0</td>\n",
       "      <td>NaN</td>\n",
       "      <td>NaN</td>\n",
       "      <td>NaN</td>\n",
       "    </tr>\n",
       "    <tr>\n",
       "      <th>2020-01-26</th>\n",
       "      <td>NaN</td>\n",
       "      <td>NaN</td>\n",
       "      <td>NaN</td>\n",
       "      <td>NaN</td>\n",
       "      <td>NaN</td>\n",
       "    </tr>\n",
       "    <tr>\n",
       "      <th>2020-03-23</th>\n",
       "      <td>5.0</td>\n",
       "      <td>1285.0</td>\n",
       "      <td>298.0</td>\n",
       "      <td>12.0</td>\n",
       "      <td>12.0</td>\n",
       "    </tr>\n",
       "    <tr>\n",
       "      <th>2020-03-10</th>\n",
       "      <td>0.0</td>\n",
       "      <td>19.0</td>\n",
       "      <td>9.0</td>\n",
       "      <td>NaN</td>\n",
       "      <td>NaN</td>\n",
       "    </tr>\n",
       "    <tr>\n",
       "      <th>2020-03-20</th>\n",
       "      <td>2.0</td>\n",
       "      <td>585.0</td>\n",
       "      <td>125.0</td>\n",
       "      <td>5.0</td>\n",
       "      <td>11.0</td>\n",
       "    </tr>\n",
       "  </tbody>\n",
       "</table>\n",
       "</div>"
      ],
      "text/plain": [
       "            Deaths_Cumulative_vermont  Confirmed_Cumulative_illinois  \\\n",
       "Date                                                                   \n",
       "2020-03-05                        NaN                            5.0   \n",
       "2020-01-26                        NaN                            NaN   \n",
       "2020-03-23                        5.0                         1285.0   \n",
       "2020-03-10                        0.0                           19.0   \n",
       "2020-03-20                        2.0                          585.0   \n",
       "\n",
       "            Confirmed_Cumulative_south_carolina  Deaths_Cumulative_illinois  \\\n",
       "Date                                                                          \n",
       "2020-03-05                                  NaN                         NaN   \n",
       "2020-01-26                                  NaN                         NaN   \n",
       "2020-03-23                                298.0                        12.0   \n",
       "2020-03-10                                  9.0                         NaN   \n",
       "2020-03-20                                125.0                         5.0   \n",
       "\n",
       "            Deaths_Cumulative_florida  \n",
       "Date                                   \n",
       "2020-03-05                        NaN  \n",
       "2020-01-26                        NaN  \n",
       "2020-03-23                       12.0  \n",
       "2020-03-10                        NaN  \n",
       "2020-03-20                       11.0  "
      ]
     },
     "execution_count": 165,
     "metadata": {},
     "output_type": "execute_result"
    }
   ],
   "source": [
    "\n",
    "merge_df.sample(5).T.sample(5).T"
   ]
  },
  {
   "cell_type": "code",
   "execution_count": 166,
   "metadata": {},
   "outputs": [
    {
     "data": {
      "text/plain": [
       "['Confirmed_Cumulative_arkansas', 'Confirmed_Cumulative_california', 'Confirmed_Cumulative_colorado', 'Confirmed_Cumulative_florida', 'Confirmed_Cumulative_illinois', 'Confirmed_Cumulative_new_york', 'Confirmed_Cumulative_oregon', 'Confirmed_Cumulative_south_carolina', 'Confirmed_Cumulative_tennessee', 'Confirmed_Cumulative_vermont']"
      ]
     },
     "execution_count": 166,
     "metadata": {},
     "output_type": "execute_result"
    }
   ],
   "source": [
    "\n",
    "cc_prefix = 'Confirmed_Cumulative_'\n",
    "confirms_list = [cn for cn in merge_df.columns.tolist() if cn.startswith(cc_prefix)]\n",
    "confirms_list"
   ]
  },
  {
   "cell_type": "code",
   "execution_count": 167,
   "metadata": {},
   "outputs": [
    {
     "data": {
      "text/plain": [
       "['Deaths_Cumulative_arkansas', 'Deaths_Cumulative_california', 'Deaths_Cumulative_colorado', 'Deaths_Cumulative_florida', 'Deaths_Cumulative_illinois', 'Deaths_Cumulative_new_york', 'Deaths_Cumulative_oregon', 'Deaths_Cumulative_south_carolina', 'Deaths_Cumulative_tennessee', 'Deaths_Cumulative_vermont']"
      ]
     },
     "execution_count": 167,
     "metadata": {},
     "output_type": "execute_result"
    }
   ],
   "source": [
    "\n",
    "dc_prefix = 'Deaths_Cumulative_'\n",
    "deaths_list = [cn for cn in merge_df.columns.tolist() if cn.startswith(dc_prefix)]\n",
    "deaths_list"
   ]
  },
  {
   "cell_type": "code",
   "execution_count": 168,
   "metadata": {},
   "outputs": [],
   "source": [
    "\n",
    "dc_idx = len(dc_prefix)\n",
    "dc_suffix = 'dc'\n",
    "cc_idx = len(cc_prefix)\n",
    "cc_suffix = 'cc'\n",
    "for cc_column_name, dc_column_name in zip(confirms_list, deaths_list):\n",
    "    \n",
    "    # Get the date of the first death\n",
    "    #merge_df[dc_column_name] = merge_df[dc_column_name].map(lambda x: re.sub('[^\\d]+', '', str(x)))\n",
    "    merge_df[dc_column_name] = pd.to_numeric(merge_df[dc_column_name], errors='coerce')\n",
    "    mask_series = merge_df[dc_column_name].isnull() | (merge_df[dc_column_name] == 0)\n",
    "    ts0 = merge_df[~mask_series].index.min()\n",
    "    new_name = '{}_day_{}'.format(dc_column_name[dc_idx:], dc_suffix)\n",
    "    merge_df[new_name] = (merge_df.index - ts0).days\n",
    "    \n",
    "    #merge_df[cc_column_name] = merge_df[cc_column_name].map(lambda x: re.sub('[^\\d]+', '', str(x)))\n",
    "    merge_df[cc_column_name] = pd.to_numeric(merge_df[cc_column_name], errors='coerce')\n",
    "    #mask_series = merge_df[cc_column_name].isnull() | (merge_df[cc_column_name] == 0)\n",
    "    #ts0 = merge_df[~mask_series].index.min()\n",
    "    new_name = '{}_day_{}'.format(cc_column_name[cc_idx:], cc_suffix)\n",
    "    merge_df[new_name] = (merge_df.index - ts0).days"
   ]
  },
  {
   "cell_type": "code",
   "execution_count": 169,
   "metadata": {},
   "outputs": [
    {
     "data": {
      "text/plain": [
       "['Confirmed_Cumulative_arkansas', 'Deaths_Cumulative_arkansas', 'Confirmed_Cumulative_california', 'Deaths_Cumulative_california', 'Confirmed_Cumulative_colorado', 'Deaths_Cumulative_colorado', 'Confirmed_Cumulative_florida', 'Deaths_Cumulative_florida', 'Confirmed_Cumulative_illinois', 'Deaths_Cumulative_illinois', 'Confirmed_Cumulative_new_york', 'Deaths_Cumulative_new_york', 'Confirmed_Cumulative_oregon', 'Deaths_Cumulative_oregon', 'Confirmed_Cumulative_south_carolina', 'Deaths_Cumulative_south_carolina', 'Confirmed_Cumulative_tennessee', 'Deaths_Cumulative_tennessee', 'Confirmed_Cumulative_vermont', 'Deaths_Cumulative_vermont', 'arkansas_day_dc', 'arkansas_day_cc', 'california_day_dc', 'california_day_cc', 'colorado_day_dc', 'colorado_day_cc', 'florida_day_dc', 'florida_day_cc', 'illinois_day_dc', 'illinois_day_cc', 'new_york_day_dc', 'new_york_day_cc', 'oregon_day_dc', 'oregon_day_cc', 'south_carolina_day_dc', 'south_carolina_day_cc', 'tennessee_day_dc', 'tennessee_day_cc', 'vermont_day_dc', 'vermont_day_cc']"
      ]
     },
     "execution_count": 169,
     "metadata": {},
     "output_type": "execute_result"
    }
   ],
   "source": [
    "\n",
    "merge_df.columns.tolist()"
   ]
  },
  {
   "cell_type": "code",
   "execution_count": 170,
   "metadata": {},
   "outputs": [
    {
     "data": {
      "text/html": [
       "<div>\n",
       "<style scoped>\n",
       "    .dataframe tbody tr th:only-of-type {\n",
       "        vertical-align: middle;\n",
       "    }\n",
       "\n",
       "    .dataframe tbody tr th {\n",
       "        vertical-align: top;\n",
       "    }\n",
       "\n",
       "    .dataframe thead th {\n",
       "        text-align: right;\n",
       "    }\n",
       "</style>\n",
       "<table border=\"1\" class=\"dataframe\">\n",
       "  <thead>\n",
       "    <tr style=\"text-align: right;\">\n",
       "      <th></th>\n",
       "      <th>California</th>\n",
       "      <th>Illinois</th>\n",
       "      <th>Oregon</th>\n",
       "      <th>Vermont</th>\n",
       "      <th>South Carolina</th>\n",
       "    </tr>\n",
       "  </thead>\n",
       "  <tbody>\n",
       "    <tr>\n",
       "      <th>-21.0</th>\n",
       "      <td>15.038462</td>\n",
       "      <td>2.80</td>\n",
       "      <td>NaN</td>\n",
       "      <td>NaN</td>\n",
       "      <td>NaN</td>\n",
       "    </tr>\n",
       "    <tr>\n",
       "      <th>-15.0</th>\n",
       "      <td>25.884615</td>\n",
       "      <td>4.00</td>\n",
       "      <td>1.0</td>\n",
       "      <td>NaN</td>\n",
       "      <td>NaN</td>\n",
       "    </tr>\n",
       "    <tr>\n",
       "      <th>5.0</th>\n",
       "      <td>133.000000</td>\n",
       "      <td>1049.00</td>\n",
       "      <td>88.0</td>\n",
       "      <td>95.0</td>\n",
       "      <td>173.0</td>\n",
       "    </tr>\n",
       "    <tr>\n",
       "      <th>-1.0</th>\n",
       "      <td>51.192308</td>\n",
       "      <td>105.00</td>\n",
       "      <td>30.0</td>\n",
       "      <td>19.0</td>\n",
       "      <td>28.0</td>\n",
       "    </tr>\n",
       "    <tr>\n",
       "      <th>-34.0</th>\n",
       "      <td>2.500000</td>\n",
       "      <td>2.45</td>\n",
       "      <td>NaN</td>\n",
       "      <td>NaN</td>\n",
       "      <td>NaN</td>\n",
       "    </tr>\n",
       "  </tbody>\n",
       "</table>\n",
       "</div>"
      ],
      "text/plain": [
       "       California  Illinois  Oregon  Vermont  South Carolina\n",
       "-21.0   15.038462      2.80     NaN      NaN             NaN\n",
       "-15.0   25.884615      4.00     1.0      NaN             NaN\n",
       " 5.0   133.000000   1049.00    88.0     95.0           173.0\n",
       "-1.0    51.192308    105.00    30.0     19.0            28.0\n",
       "-34.0    2.500000      2.45     NaN      NaN             NaN"
      ]
     },
     "execution_count": 170,
     "metadata": {},
     "output_type": "execute_result"
    }
   ],
   "source": [
    "\n",
    "day_merge_df = pd.DataFrame([])\n",
    "for cc_column_name in confirms_list:\n",
    "    day_merge_df = day_merge_df.merge(create_day_df(cc_column_name, cc_idx, cc_suffix), how='outer', left_index=True,\n",
    "                                      right_index=True, suffixes=('_merge', '_{}'.format(cc_column_name)))\n",
    "day_merge_df.interpolate(axis='index', limit_area='inside', inplace=True)\n",
    "day_merge_df.sample(5).T.sample(5).T"
   ]
  },
  {
   "cell_type": "code",
   "execution_count": 172,
   "metadata": {},
   "outputs": [
    {
     "data": {
      "text/html": [
       "<div>\n",
       "<style scoped>\n",
       "    .dataframe tbody tr th:only-of-type {\n",
       "        vertical-align: middle;\n",
       "    }\n",
       "\n",
       "    .dataframe tbody tr th {\n",
       "        vertical-align: top;\n",
       "    }\n",
       "\n",
       "    .dataframe thead th {\n",
       "        text-align: right;\n",
       "    }\n",
       "</style>\n",
       "<table border=\"1\" class=\"dataframe\">\n",
       "  <thead>\n",
       "    <tr style=\"text-align: right;\">\n",
       "      <th></th>\n",
       "      <th>California Deaths</th>\n",
       "      <th>South Carolina Deaths</th>\n",
       "      <th>Illinois Deaths</th>\n",
       "      <th>Florida Confirmations</th>\n",
       "      <th>Colorado Confirmations</th>\n",
       "    </tr>\n",
       "  </thead>\n",
       "  <tbody>\n",
       "    <tr>\n",
       "      <th>-6.0</th>\n",
       "      <td>0.769231</td>\n",
       "      <td>NaN</td>\n",
       "      <td>NaN</td>\n",
       "      <td>11.0</td>\n",
       "      <td>8.0</td>\n",
       "    </tr>\n",
       "    <tr>\n",
       "      <th>-56.0</th>\n",
       "      <td>NaN</td>\n",
       "      <td>NaN</td>\n",
       "      <td>NaN</td>\n",
       "      <td>NaN</td>\n",
       "      <td>NaN</td>\n",
       "    </tr>\n",
       "    <tr>\n",
       "      <th>-11.0</th>\n",
       "      <td>0.576923</td>\n",
       "      <td>NaN</td>\n",
       "      <td>NaN</td>\n",
       "      <td>2.5</td>\n",
       "      <td>NaN</td>\n",
       "    </tr>\n",
       "    <tr>\n",
       "      <th>-10.0</th>\n",
       "      <td>0.615385</td>\n",
       "      <td>NaN</td>\n",
       "      <td>NaN</td>\n",
       "      <td>3.0</td>\n",
       "      <td>NaN</td>\n",
       "    </tr>\n",
       "    <tr>\n",
       "      <th>-43.0</th>\n",
       "      <td>NaN</td>\n",
       "      <td>NaN</td>\n",
       "      <td>NaN</td>\n",
       "      <td>NaN</td>\n",
       "      <td>NaN</td>\n",
       "    </tr>\n",
       "  </tbody>\n",
       "</table>\n",
       "</div>"
      ],
      "text/plain": [
       "       California Deaths  South Carolina Deaths  Illinois Deaths  \\\n",
       "-6.0            0.769231                    NaN              NaN   \n",
       "-56.0                NaN                    NaN              NaN   \n",
       "-11.0           0.576923                    NaN              NaN   \n",
       "-10.0           0.615385                    NaN              NaN   \n",
       "-43.0                NaN                    NaN              NaN   \n",
       "\n",
       "       Florida Confirmations  Colorado Confirmations  \n",
       "-6.0                    11.0                     8.0  \n",
       "-56.0                    NaN                     NaN  \n",
       "-11.0                    2.5                     NaN  \n",
       "-10.0                    3.0                     NaN  \n",
       "-43.0                    NaN                     NaN  "
      ]
     },
     "execution_count": 172,
     "metadata": {},
     "output_type": "execute_result"
    }
   ],
   "source": [
    "\n",
    "for column_name in deaths_list:\n",
    "    day_merge_df = day_merge_df.merge(create_day_df(column_name, dc_idx, dc_suffix), how='outer', left_index=True,\n",
    "                                      right_index=True, suffixes=(' Confirmations', ' Deaths'))\n",
    "day_merge_df.interpolate(axis='index', limit_area='inside', inplace=True)\n",
    "day_merge_df.sample(5).T.sample(5).T"
   ]
  },
  {
   "cell_type": "code",
   "execution_count": 182,
   "metadata": {},
   "outputs": [
    {
     "data": {
      "text/html": [
       "<div>\n",
       "<style scoped>\n",
       "    .dataframe tbody tr th:only-of-type {\n",
       "        vertical-align: middle;\n",
       "    }\n",
       "\n",
       "    .dataframe tbody tr th {\n",
       "        vertical-align: top;\n",
       "    }\n",
       "\n",
       "    .dataframe thead th {\n",
       "        text-align: right;\n",
       "    }\n",
       "</style>\n",
       "<table border=\"1\" class=\"dataframe\">\n",
       "  <thead>\n",
       "    <tr style=\"text-align: right;\">\n",
       "      <th></th>\n",
       "      <th>New York Confirmations</th>\n",
       "      <th>New York Deaths</th>\n",
       "    </tr>\n",
       "  </thead>\n",
       "  <tbody>\n",
       "    <tr>\n",
       "      <th>-13.0</th>\n",
       "      <td>1.0</td>\n",
       "      <td>0.0</td>\n",
       "    </tr>\n",
       "    <tr>\n",
       "      <th>-12.0</th>\n",
       "      <td>1.0</td>\n",
       "      <td>0.0</td>\n",
       "    </tr>\n",
       "    <tr>\n",
       "      <th>-11.0</th>\n",
       "      <td>2.0</td>\n",
       "      <td>0.0</td>\n",
       "    </tr>\n",
       "    <tr>\n",
       "      <th>-10.0</th>\n",
       "      <td>11.0</td>\n",
       "      <td>0.0</td>\n",
       "    </tr>\n",
       "    <tr>\n",
       "      <th>-9.0</th>\n",
       "      <td>22.0</td>\n",
       "      <td>0.0</td>\n",
       "    </tr>\n",
       "    <tr>\n",
       "      <th>-8.0</th>\n",
       "      <td>44.0</td>\n",
       "      <td>0.0</td>\n",
       "    </tr>\n",
       "    <tr>\n",
       "      <th>-7.0</th>\n",
       "      <td>89.0</td>\n",
       "      <td>0.0</td>\n",
       "    </tr>\n",
       "    <tr>\n",
       "      <th>-6.0</th>\n",
       "      <td>105.0</td>\n",
       "      <td>0.0</td>\n",
       "    </tr>\n",
       "    <tr>\n",
       "      <th>-5.0</th>\n",
       "      <td>142.0</td>\n",
       "      <td>0.0</td>\n",
       "    </tr>\n",
       "    <tr>\n",
       "      <th>-4.0</th>\n",
       "      <td>173.0</td>\n",
       "      <td>0.0</td>\n",
       "    </tr>\n",
       "    <tr>\n",
       "      <th>-3.0</th>\n",
       "      <td>216.0</td>\n",
       "      <td>0.0</td>\n",
       "    </tr>\n",
       "    <tr>\n",
       "      <th>-2.0</th>\n",
       "      <td>325.0</td>\n",
       "      <td>0.0</td>\n",
       "    </tr>\n",
       "    <tr>\n",
       "      <th>-1.0</th>\n",
       "      <td>421.0</td>\n",
       "      <td>0.0</td>\n",
       "    </tr>\n",
       "    <tr>\n",
       "      <th>0.0</th>\n",
       "      <td>613.0</td>\n",
       "      <td>2.0</td>\n",
       "    </tr>\n",
       "    <tr>\n",
       "      <th>1.0</th>\n",
       "      <td>729.0</td>\n",
       "      <td>3.0</td>\n",
       "    </tr>\n",
       "    <tr>\n",
       "      <th>2.0</th>\n",
       "      <td>950.0</td>\n",
       "      <td>7.0</td>\n",
       "    </tr>\n",
       "    <tr>\n",
       "      <th>3.0</th>\n",
       "      <td>1374.0</td>\n",
       "      <td>12.0</td>\n",
       "    </tr>\n",
       "    <tr>\n",
       "      <th>4.0</th>\n",
       "      <td>2480.0</td>\n",
       "      <td>16.0</td>\n",
       "    </tr>\n",
       "    <tr>\n",
       "      <th>5.0</th>\n",
       "      <td>5711.0</td>\n",
       "      <td>38.0</td>\n",
       "    </tr>\n",
       "    <tr>\n",
       "      <th>6.0</th>\n",
       "      <td>8402.0</td>\n",
       "      <td>46.0</td>\n",
       "    </tr>\n",
       "    <tr>\n",
       "      <th>7.0</th>\n",
       "      <td>10356.0</td>\n",
       "      <td>58.0</td>\n",
       "    </tr>\n",
       "    <tr>\n",
       "      <th>8.0</th>\n",
       "      <td>15168.0</td>\n",
       "      <td>76.0</td>\n",
       "    </tr>\n",
       "    <tr>\n",
       "      <th>9.0</th>\n",
       "      <td>20875.0</td>\n",
       "      <td>157.0</td>\n",
       "    </tr>\n",
       "    <tr>\n",
       "      <th>10.0</th>\n",
       "      <td>25665.0</td>\n",
       "      <td>271.0</td>\n",
       "    </tr>\n",
       "    <tr>\n",
       "      <th>11.0</th>\n",
       "      <td>30811.0</td>\n",
       "      <td>285.0</td>\n",
       "    </tr>\n",
       "    <tr>\n",
       "      <th>12.0</th>\n",
       "      <td>37258.0</td>\n",
       "      <td>385.0</td>\n",
       "    </tr>\n",
       "  </tbody>\n",
       "</table>\n",
       "</div>"
      ],
      "text/plain": [
       "       New York Confirmations  New York Deaths\n",
       "-13.0                     1.0              0.0\n",
       "-12.0                     1.0              0.0\n",
       "-11.0                     2.0              0.0\n",
       "-10.0                    11.0              0.0\n",
       "-9.0                     22.0              0.0\n",
       "-8.0                     44.0              0.0\n",
       "-7.0                     89.0              0.0\n",
       "-6.0                    105.0              0.0\n",
       "-5.0                    142.0              0.0\n",
       "-4.0                    173.0              0.0\n",
       "-3.0                    216.0              0.0\n",
       "-2.0                    325.0              0.0\n",
       "-1.0                    421.0              0.0\n",
       " 0.0                    613.0              2.0\n",
       " 1.0                    729.0              3.0\n",
       " 2.0                    950.0              7.0\n",
       " 3.0                   1374.0             12.0\n",
       " 4.0                   2480.0             16.0\n",
       " 5.0                   5711.0             38.0\n",
       " 6.0                   8402.0             46.0\n",
       " 7.0                  10356.0             58.0\n",
       " 8.0                  15168.0             76.0\n",
       " 9.0                  20875.0            157.0\n",
       " 10.0                 25665.0            271.0\n",
       " 11.0                 30811.0            285.0\n",
       " 12.0                 37258.0            385.0"
      ]
     },
     "execution_count": 182,
     "metadata": {},
     "output_type": "execute_result"
    }
   ],
   "source": [
    "\n",
    "columns_list = [cn for cn in day_merge_df.columns if 'york' in cn.lower()]\n",
    "mask_series = day_merge_df[columns_list[0]].isnull() | day_merge_df[columns_list[1]].isnull()\n",
    "day_merge_df[~mask_series][columns_list]"
   ]
  },
  {
   "cell_type": "code",
   "execution_count": 176,
   "metadata": {},
   "outputs": [
    {
     "data": {
      "text/plain": [
       "[('Arkansas Confirmations', 'Arkansas Deaths'), ('California Confirmations', 'California Deaths'), ('Colorado Confirmations', 'Colorado Deaths'), ('Florida Confirmations', 'Florida Deaths'), ('Illinois Confirmations', 'Illinois Deaths'), ('New York Confirmations', 'New York Deaths'), ('Oregon Confirmations', 'Oregon Deaths'), ('South Carolina Confirmations', 'South Carolina Deaths'), ('Tennessee Confirmations', 'Tennessee Deaths'), ('Vermont Confirmations', 'Vermont Deaths')]"
      ]
     },
     "execution_count": 176,
     "metadata": {},
     "output_type": "execute_result"
    }
   ],
   "source": [
    "\n",
    "cs = ' Confirmations'\n",
    "cr = re.compile(cs)\n",
    "tuple_list = [(cn, cr.sub(' Deaths', cn)) for cn in day_merge_df.columns if cn.endswith(cs)]\n",
    "tuple_list"
   ]
  },
  {
   "cell_type": "code",
   "execution_count": 197,
   "metadata": {},
   "outputs": [
    {
     "data": {
      "text/plain": [
       "'New York Confirmations'"
      ]
     },
     "execution_count": 197,
     "metadata": {},
     "output_type": "execute_result"
    }
   ],
   "source": [
    "\n",
    "confirms_cn"
   ]
  },
  {
   "cell_type": "code",
   "execution_count": 201,
   "metadata": {},
   "outputs": [
    {
     "name": "stdout",
     "output_type": "stream",
     "text": [
      "The mortality rate for New York is 1.0%.\n"
     ]
    },
    {
     "data": {
      "image/png": "[encoded data removed]",
      "text/plain": [
       "<Figure size 1296x576 with 1 Axes>"
      ]
     },
     "metadata": {
      "needs_background": "light"
     },
     "output_type": "display_data"
    }
   ],
   "source": [
    "\n",
    "import numpy as np\n",
    "\n",
    "fig, ax = plt.subplots(figsize=(18, 8))\n",
    "ax.set_ylabel('Cumulative Confirmed Cases')\n",
    "ax.set_xlabel('Cumulative Deaths')\n",
    "ax.set_title('Evolution of Cumulative Confirmations vs Cumulative Deaths')\n",
    "ax.set_yscale('log')\n",
    "mask_series = (day_merge_df.index >= 0)\n",
    "for state_tuple in tuple_list:\n",
    "    confirms_cn = state_tuple[0]\n",
    "    deaths_cn = state_tuple[1]\n",
    "    df = day_merge_df[mask_series][list(state_tuple)].dropna(axis='index', how='any')\n",
    "    label = cr.sub('', confirms_cn)\n",
    "    \n",
    "    # plot('xlabel', 'ylabel', data=obj)\n",
    "    Line2D_obj = ax.plot(deaths_cn, confirms_cn, data=df, label=label)[0]\n",
    "    \n",
    "    y = df[confirms_cn].iloc[-1]\n",
    "    x = df[deaths_cn].iloc[-1]\n",
    "    color = Line2D_obj.get_color()\n",
    "    annotation = plt.annotate(label, xy=(x, y), color=color)\n",
    "    if (label == 'New York'):\n",
    "        Line2D_obj.set_alpha(alpha=1.0)\n",
    "        break\n",
    "    else:\n",
    "        Line2D_obj.set_alpha(alpha=0.5)\n",
    "kwargs = dict(color='goldenrod', linewidth=0.4, dashes=(10, 10))\n",
    "last_series = new_york_df.iloc[-1]\n",
    "first_series = new_york_df.iloc[0]\n",
    "x = np.linspace(50, last_series.Deaths_Cumulative, 10)\n",
    "f = last_series.Confirmed_Cumulative / last_series.Deaths_Cumulative\n",
    "y = np.linspace(x[0]*f, x[-1]*f, 10)\n",
    "Line2D_obj = ax.plot(x, y, **kwargs)[0]\n",
    "xy = (x[-1]/2, y[-1]/i)\n",
    "annotation = plt.annotate('{}%'.format(round(100/f, 1)), xy=xy)\n",
    "print('The mortality rate for New York is {}%.'.format(round((last_series.Deaths_Cumulative / last_series.Confirmed_Cumulative)*100, 1)))\n",
    "legend_obj = plt.legend()"
   ]
  },
  {
   "cell_type": "code",
   "execution_count": 142,
   "metadata": {},
   "outputs": [
    {
     "name": "stdout",
     "output_type": "stream",
     "text": [
      "The mortality rate for New York is 1.0%.\n"
     ]
    }
   ],
   "source": []
  },
  {
   "cell_type": "code",
   "execution_count": 144,
   "metadata": {},
   "outputs": [
    {
     "data": {
      "text/plain": [
       "Date                    2020-03-26T00:00:00.000000000\n",
       "Confirmed_Cumulative                            37258\n",
       "Deaths_Cumulative                                 385\n",
       "Confirmed_New                                    6447\n",
       "Deaths_New                                        100\n",
       "Name: 27, dtype: object"
      ]
     },
     "execution_count": 144,
     "metadata": {},
     "output_type": "execute_result"
    }
   ],
   "source": [
    "\n",
    "last_series"
   ]
  },
  {
   "cell_type": "code",
   "execution_count": null,
   "metadata": {},
   "outputs": [],
   "source": [
    "\n",
    "bottom, top = ax.get_xlim()\n",
    "x = np.linspace(bottom, top, 10)\n",
    "for i in [1.0, 1.7]:\n",
    "    Line2D_obj = ax.plot(x, 100*x/i, **kwargs)[0]\n",
    "    xy = (x[-1]/2, 50*x[-1]/i)\n",
    "    annotation = plt.annotate('{}%'.format(i), xy=xy)"
   ]
  },
  {
   "cell_type": "code",
   "execution_count": 134,
   "metadata": {},
   "outputs": [
    {
     "name": "stdout",
     "output_type": "stream",
     "text": [
      "The mortality rate for New York is 1.0%.\n"
     ]
    },
    {
     "data": {
      "text/plain": [
       "96.77402597402597"
      ]
     },
     "execution_count": 134,
     "metadata": {},
     "output_type": "execute_result"
    }
   ],
   "source": []
  },
  {
   "cell_type": "code",
   "execution_count": 127,
   "metadata": {},
   "outputs": [
    {
     "name": "stdout",
     "output_type": "stream",
     "text": [
      "The mortality rate for Colorado is 1.7%.\n"
     ]
    }
   ],
   "source": [
    "\n",
    "last_series = colorado_df.iloc[-1]\n",
    "print('The mortality rate for Colorado is {}%.'.format(round((last_series.Deaths_Cumulative / last_series.Confirmed_Cumulative)*100, 1)))"
   ]
  },
  {
   "cell_type": "code",
   "execution_count": null,
   "metadata": {},
   "outputs": [],
   "source": []
  }
 ],
 "metadata": {
  "kernelspec": {
   "display_name": "Python 3",
   "language": "python",
   "name": "python3"
  },
  "language_info": {
   "codemirror_mode": {
    "name": "ipython",
    "version": 3
   },
   "file_extension": ".py",
   "mimetype": "text/x-python",
   "name": "python",
   "nbconvert_exporter": "python",
   "pygments_lexer": "ipython3",
   "version": "3.7.6"
  }
 },
 "nbformat": 4,
 "nbformat_minor": 4
}
