{
 "cells": [
  {
   "cell_type": "code",
   "execution_count": null,
   "metadata": {
    "jupyter": {
     "source_hidden": true
    }
   },
   "outputs": [],
   "source": []
  },
  {
   "cell_type": "code",
   "execution_count": 1,
   "metadata": {},
   "outputs": [],
   "source": [
    "\n",
    "import sys\n",
    "\n",
    "# Insert at 1, 0 is the script path (or '' in REPL)\n",
    "sys.path.insert(1, '../py')"
   ]
  },
  {
   "cell_type": "code",
   "execution_count": 2,
   "metadata": {},
   "outputs": [
    {
     "name": "stdout",
     "output_type": "stream",
     "text": [
      "D:\\Documents\\Repositories\\notebooks\\covid19\\ipynb\\US County Population Density.ipynb\n",
      "['s.attempt_to_pickle', 's.data_csv_folder', 's.data_folder', 's.encoding_type', 's.load_csv', 's.load_dataframes', 's.load_object', 's.save_dataframes', 's.saves_csv_folder', 's.saves_folder', 's.saves_pickle_folder', 's.store_objects']\n",
      "Pretty printing has been turned OFF\n"
     ]
    },
    {
     "data": {
      "text/plain": [
       "['Config', 'In', 'Out', 'RandomForestClassifier', 'SequenceMatcher', 'Storage', '_', '__', '___', '__builtin__', '__builtins__', '__doc__', '__loader__', '__name__', '__nonzero__', '__package__', '__spec__', '__warningregistry__', '_dh', '_i', '_i1', '_i2', '_ih', '_ii', '_iii', '_oh', 'bs', 'check_4_doubles', 'check_for_typos', 'color_dict', 'conjunctify_list', 'copyfile', 'csv', 'encoding', 'example_iterrows', 'exit', 'filepath_regex', 'get_classifier', 'get_column_descriptions', 'get_data_structs_dataframe', 'get_datastructure_prediction', 'get_dir_tree', 'get_git_lfs_track_commands', 'get_importances', 'get_input_sample', 'get_ipython', 'get_max_rsquared_adj', 'get_module_version', 'get_notebook_path', 'get_page_tables', 'get_specific_gitignore_files', 'get_struct_name', 'humanize_bytes', 'io', 'ipykernel', 'json', 'jupyter_config_dir', 'math', 'notebook_path', 'notebookapp', 'nx', 'os', 'pd', 'pickle', 'plt', 'preprocess_data', 'print_all_files_ending_starting_with', 'print_all_files_ending_with', 'print_all_files_starting_with', 'quit', 're', 'remove_empty_folders', 's', 'scraping_utils', 'similar', 'sm', 'sns', 'states_stats_df', 'stats', 'subprocess', 'sys', 'time', 'url_regex', 'urllib', 'wikipedia']"
      ]
     },
     "execution_count": 2,
     "metadata": {},
     "output_type": "execute_result"
    }
   ],
   "source": [
    "\n",
    "%run ../../load_magic/storage.py\n",
    "%run ../../load_magic/paths.py\n",
    "%run ../../load_magic/lists.py\n",
    "%run ../../load_magic/environment.py\n",
    "%run ../../load_magic/dataframes.py\n",
    "\n",
    "import scraping_utils\n",
    "wikipedia = scraping_utils.wikipedia\n",
    "\n",
    "from bs4 import BeautifulSoup as bs\n",
    "import networkx as nx\n",
    "import re\n",
    "import urllib.request\n",
    "\n",
    "notebook_path = get_notebook_path()\n",
    "print(notebook_path)\n",
    "s = Storage()\n",
    "states_stats_df = s.load_object('states_stats_df')\n",
    "color_dict = s.load_object('states_abbreviation_color_dict')\n",
    "print(['s.{}'.format(fn) for fn in dir(s) if not fn.startswith('_')])\n",
    "\n",
    "%pprint\n",
    "dir()"
   ]
  },
  {
   "cell_type": "code",
   "execution_count": 56,
   "metadata": {},
   "outputs": [
    {
     "name": "stdout",
     "output_type": "stream",
     "text": [
      "# Ignore big files (GitHub will warn you when pushing files larger than 50 MB. You will not be allowed to\n",
      "# push files larger than 100 MB.) Tip: If you regularly push large files to GitHub, consider introducing\n",
      "# Git Large File Storage (Git LFS) as part of your workflow.\n",
      "covid19/data/csv/linelist.csv\n",
      "covid19/data/usa_gpwv3_pdens_ascii_25/usads00ag.asc\n",
      "covid19/data/usa_gpwv3_pdens_ascii_25/usads00g.asc\n",
      "covid19/data/usa_gpwv3_pdens_ascii_25/usads90ag.asc\n",
      "covid19/data/usa_gpwv3_pdens_ascii_25/usads90g.asc\n",
      "covid19/data/usa_gpwv3_pdens_ascii_25/usads95ag.asc\n",
      "covid19/data/usa_gpwv3_pdens_ascii_25/usads95g.asc\n",
      "gpt2-excuse-generator/models/pytorch_model.bin\n",
      "Miscellaneous/saves/gif/Goodbye_Mr_Conway.gif\n",
      "Miscellaneous/saves/gif/Q2tbQEo.gif\n",
      "Miscellaneous/saves/pickle/estimators_list.pickle\n",
      "Miscellaneous/saves/pickle/fit_estimators_dict.pickle\n",
      "Miscellaneous/saves/pickle/fit_estimators_list.pickle\n",
      "StatsByCountry/saves/maps/Spain_languages-en.svg\n",
      "Strauss–Howe/saves/gif/net_neutrality.gif\n",
      "Word2Vec/data/GoogleNews-vectors-negative300.bin.gz\n",
      "Word2Vec/data/text8\n",
      "Word2Vec/data/text8-phrases\n",
      "Word2Vec/data/glove.6B/glove.6B.100d.txt\n",
      "Word2Vec/data/glove.6B/glove.6B.100d.txt.word2vec\n",
      "Word2Vec/data/glove.6B/glove.6B.200d.txt\n",
      "Word2Vec/data/glove.6B/glove.6B.300d.txt\n",
      "Word2Vec/data/glove.6B/glove.6B.50d.txt\n",
      "Word2Vec/data/glove.840B.300d/glove.840B.300d.txt\n",
      "\n"
     ]
    }
   ],
   "source": [
    "\n",
    "get_specific_gitignore_files('notebooks', repository_dir=r'D:\\Documents\\Repositories')"
   ]
  },
  {
   "cell_type": "markdown",
   "metadata": {},
   "source": [
    "\n",
    "----"
   ]
  },
  {
   "cell_type": "markdown",
   "metadata": {},
   "source": [
    "\n",
    "Like I say, I'm imagining that a state has $M$ different regions with populations $n_1$, $n_2$, $\\ldots$, $n_M$, and areas $A_1$, $A_2$, $\\ldots$, $A_M$."
   ]
  },
  {
   "cell_type": "markdown",
   "metadata": {},
   "source": [
    "\n",
    "So then, the total population $n = \\sum_{i=1}^M n_i$."
   ]
  },
  {
   "cell_type": "markdown",
   "metadata": {},
   "source": [
    "\n",
    "The weighted measure I'm suggesting is $\\left( \\sum_{i=1}^M n_i^2/A_i \\right)/n$."
   ]
  },
  {
   "cell_type": "code",
   "execution_count": 4,
   "metadata": {},
   "outputs": [
    {
     "data": {
      "text/plain": [
       "'The top five US states by standard deviation of county population are California (710.7 weighted density), Arizona (125.0 weighted density), Nevada (89.4 weighted density), New York (6385.9 weighted density), and Illinois (1031.6 weighted density).'"
      ]
     },
     "execution_count": 4,
     "metadata": {},
     "output_type": "execute_result"
    }
   ],
   "source": [
    "\n",
    "f_str = 'The top five US states by standard deviation of county population are {}.'\n",
    "top5_list = counties_df.groupby('State_Name').std().sort_values('Estimate_2019', ascending=False).index.tolist()[:5]\n",
    "f_str.format(conjunctify_list(['{} ({} weighted density)'.format(sn, round(weighted_density_dict[sn], 1)) for sn in top5_list]))"
   ]
  },
  {
   "cell_type": "code",
   "execution_count": 21,
   "metadata": {},
   "outputs": [
    {
     "data": {
      "image/png": "[encoded data removed]",
      "text/plain": [
       "<Figure size 432x288 with 1 Axes>"
      ]
     },
     "metadata": {
      "needs_background": "light"
     },
     "output_type": "display_data"
    }
   ],
   "source": [
    "\n",
    "AxesSubplot_obj = density_df.plot.scatter(x='Log_Weighted_Density', y='Log_Later_Count')"
   ]
  },
  {
   "cell_type": "code",
   "execution_count": 49,
   "metadata": {},
   "outputs": [],
   "source": [
    "\n",
    "from scipy.stats import pearsonr\n",
    "import seaborn as sns\n",
    "\n",
    "density_df = s.load_object('density_df')\n",
    "def label_point(x, y, val, ax):\n",
    "    a = pd.concat({'x': x, 'y': y, 'val': val}, axis=1)\n",
    "    for i, point in a.iterrows():\n",
    "        state_abbreviation = point.val\n",
    "        x = point.x\n",
    "        y = point.y\n",
    "        kwargs = dict(textcoords='offset points', ha='left', va='bottom', fontsize='small',\n",
    "                      bbox=dict(boxstyle='round,pad=0.5', fc=color_dict[state_abbreviation], alpha=0.5))\n",
    "        annotation = plt.annotate('{}'.format(state_abbreviation), xy=(x, y), xytext=(-5, -8), **kwargs)\n",
    "        #ax.text(point['x']+.02, point['y'], state_abbreviation)\n",
    "\n",
    "facebook_aspect_ratio = 1.91\n",
    "twitter_aspect_ratio = 16/9\n",
    "color_dict = s.load_object('states_abbreviation_color_dict')\n",
    "def plot_lived_density(qe_column='Population_Density', qr_column='Later_Count',\n",
    "                       xlabel='Lived population density', ylabel='No. of deaths 10 days after hitting 5 deaths', aspect_ratio=1.91):\n",
    "    columns_list = [qe_column, qr_column]\n",
    "    df = density_df[columns_list].dropna(axis='index', how='any')\n",
    "    x = df[qe_column]\n",
    "    y = df[qr_column]\n",
    "    facet_grid = sns.lmplot(x=qe_column, y=qr_column, data=df, scatter=True, scatter_kws={'s': 0.0})\n",
    "    set_list = facet_grid.set(xlabel=xlabel, ylabel=ylabel,\n",
    "                              title='Rate of spread vs Lived population density')\n",
    "    fig_width = 18\n",
    "    fig_height = fig_width/aspect_ratio\n",
    "    set_list = facet_grid.fig.set(figheight=fig_height, figwidth=fig_width)\n",
    "    \n",
    "    # Get r squared value\n",
    "    pearsonr_tuple = pearsonr(df[qe_column], df[qr_column])\n",
    "    pearson_r = pearsonr_tuple[0]\n",
    "    pearsonr_statement = str('%.2f' % pearson_r)\n",
    "    coefficient_of_determination_statement = str('%.2f' % pearson_r**2)\n",
    "    p_value = pearsonr_tuple[1]\n",
    "    if p_value < 0.0001:\n",
    "        pvalue_statement = '<0.0001'\n",
    "    else:\n",
    "        pvalue_statement = '=' + str('%.4f' % p_value)\n",
    "    s_str = r'$r^2=' + coefficient_of_determination_statement + ',\\ p' + pvalue_statement + '$'\n",
    "    set_list = facet_grid.fig.text(0.75, 0.9, s_str, alpha=0.5, fontsize='x-large')\n",
    "\n",
    "    label_point(df[qe_column], df[qr_column], df.index.to_series(), plt.gca())\n",
    "    \n",
    "    ax = facet_grid.ax\n",
    "    ax.set_alpha = 0.0\n",
    "    left, right = ax.get_xlim()\n",
    "    left -= 0.125\n",
    "    right += 0.125\n",
    "    xlim_tuple = (left, right)\n",
    "    xlim_tuple = ax.set_xlim(xlim_tuple)"
   ]
  },
  {
   "cell_type": "code",
   "execution_count": 50,
   "metadata": {},
   "outputs": [
    {
     "data": {
      "image/png": "[encoded data removed]",
      "text/plain": [
       "<Figure size 1296x678.534 with 1 Axes>"
      ]
     },
     "metadata": {
      "needs_background": "light"
     },
     "output_type": "display_data"
    }
   ],
   "source": [
    "\n",
    "plot_lived_density(qe_column='Log_Weighted_Density', qr_column='Log_Later_Count',\n",
    "                   xlabel='Log (Lived population density)', ylabel='Log (No. of deaths 10 days after hitting 5 deaths)',\n",
    "                   aspect_ratio=facebook_aspect_ratio)"
   ]
  },
  {
   "cell_type": "code",
   "execution_count": 33,
   "metadata": {},
   "outputs": [
    {
     "name": "stdout",
     "output_type": "stream",
     "text": [
      "['facet_grid.add_legend', 'facet_grid.ax', 'facet_grid.axes', 'facet_grid.col_names', 'facet_grid.data', 'facet_grid.despine', 'facet_grid.facet_axis', 'facet_grid.facet_data', 'facet_grid.fig', 'facet_grid.hue_kws', 'facet_grid.hue_names', 'facet_grid.map', 'facet_grid.map_dataframe', 'facet_grid.row_names', 'facet_grid.savefig', 'facet_grid.set', 'facet_grid.set_axis_labels', 'facet_grid.set_titles', 'facet_grid.set_xlabels', 'facet_grid.set_xticklabels', 'facet_grid.set_ylabels', 'facet_grid.set_yticklabels']\n"
     ]
    },
    {
     "data": {
      "image/png": "[encoded data removed]",
      "text/plain": [
       "<Figure size 360x360 with 1 Axes>"
      ]
     },
     "metadata": {
      "needs_background": "light"
     },
     "output_type": "display_data"
    }
   ],
   "source": [
    "\n",
    "qe_column='Log_Weighted_Density'\n",
    "qr_column='Log_Later_Count'\n",
    "xlabel='Lived population density'\n",
    "ylabel='No. of deaths 10 days after hitting 5 deaths'\n",
    "aspect_ratio=1.91\n",
    "columns_list = [qe_column, qr_column]\n",
    "df = density_df[columns_list].dropna(axis='index', how='any')\n",
    "x = df[qe_column]\n",
    "y = df[qr_column]\n",
    "facet_grid = sns.lmplot(x=qe_column, y=qr_column, data=df, scatter=True)\n",
    "print(['facet_grid.{}'.format(fn) for fn in dir(facet_grid) if not fn.startswith('_')])"
   ]
  },
  {
   "cell_type": "code",
   "execution_count": 38,
   "metadata": {},
   "outputs": [
    {
     "name": "stdout",
     "output_type": "stream",
     "text": [
      "['ax._alpha', 'ax.get_alpha', 'ax.set_alpha']\n"
     ]
    },
    {
     "data": {
      "text/plain": [
       "\u001b[1;31mSignature:\u001b[0m \u001b[0max\u001b[0m\u001b[1;33m.\u001b[0m\u001b[0mset_alpha\u001b[0m\u001b[1;33m(\u001b[0m\u001b[0malpha\u001b[0m\u001b[1;33m)\u001b[0m\u001b[1;33m\u001b[0m\u001b[1;33m\u001b[0m\u001b[0m\n",
       "\u001b[1;31mDocstring:\u001b[0m\n",
       "Set the alpha value used for blending - not supported on all backends.\n",
       "\n",
       "Parameters\n",
       "----------\n",
       "alpha : float or None\n",
       "\u001b[1;31mFile:\u001b[0m      c:\\users\\577342\\appdata\\local\\continuum\\anaconda3\\lib\\site-packages\\matplotlib\\artist.py\n",
       "\u001b[1;31mType:\u001b[0m      method\n"
      ]
     },
     "metadata": {},
     "output_type": "display_data"
    }
   ],
   "source": [
    "\n",
    "ax = facet_grid.ax\n",
    "print(['ax.{}'.format(fn) for fn in dir(ax) if 'alpha' in fn.lower()])\n",
    "ax.set_alpha?"
   ]
  },
  {
   "cell_type": "code",
   "execution_count": 16,
   "metadata": {},
   "outputs": [
    {
     "data": {
      "image/png": "[encoded data removed]",
      "text/plain": [
       "<Figure size 1296x576 with 1 Axes>"
      ]
     },
     "metadata": {
      "needs_background": "light"
     },
     "output_type": "display_data"
    }
   ],
   "source": [
    "\n",
    "from scipy import stats\n",
    "import matplotlib.pyplot as plt\n",
    "\n",
    "fig = plt.figure(figsize=(18, 8))\n",
    "ax = fig.add_subplot(111, autoscale_on=True)\n",
    "ax.set_xscale('log')\n",
    "ax.set_yscale('log')\n",
    "columns_list = ['Weighted_Density', 'Later_Count']\n",
    "df = density_df[columns_list].dropna(axis='index', how='any')\n",
    "x = df['Weighted_Density']\n",
    "y = df['Later_Count']\n",
    "\n",
    "'''\n",
    "# Compute the slope, intercept and 90% confidence interval.\n",
    "# For comparison, also compute the least-squares fit with linregress:\n",
    "res = stats.theilslopes(np.log(y), np.log(x), 0.90)\n",
    "lsq_res = stats.linregress(np.log(x), np.log(y))\n",
    "\n",
    "# Plot the results\n",
    "ax.plot(x, lsq_res[1] + lsq_res[0] * x, 'g-')\n",
    "ax.plot(x, res[1] + res[0] * x, 'r-')\n",
    "ax.plot(x, res[1] + res[2] * x, 'r--')\n",
    "ax.plot(x, res[1] + res[3] * x, 'r--')'''\n",
    "\n",
    "# Get r squared value\n",
    "pearsonr_tuple = pearsonr(x, y)\n",
    "pearson_r = pearsonr_tuple[0]\n",
    "pearsonr_statement = str('%.2f' % pearson_r)\n",
    "coefficient_of_determination_statement = str('%.2f' % pearson_r**2)\n",
    "p_value = pearsonr_tuple[1]\n",
    "if p_value < 0.0001:\n",
    "    pvalue_statement = '<0.0001'\n",
    "else:\n",
    "    pvalue_statement = '=' + str('%.4f' % p_value)\n",
    "s_str = r'$r^2=' + coefficient_of_determination_statement + ',\\ p' + pvalue_statement + '$'\n",
    "\n",
    "text_tuple = ax.text(0.75, 0.9, s_str, alpha=0.5, transform=ax.transAxes, fontsize='x-large')\n",
    "ax.set_title('Rate of spread vs Lived population density')\n",
    "AxesSubplot_obj = density_df.plot.scatter(x='Weighted_Density', y='Later_Count', ax=ax)\n",
    "ax.set_xlabel('Log (Lived population density)')\n",
    "ax.set_ylabel('Log (No. of deaths 10 days after hitting 5 deaths)')\n",
    "label_point(x, y, df.index.to_series(), plt.gca()) "
   ]
  },
  {
   "cell_type": "code",
   "execution_count": 394,
   "metadata": {},
   "outputs": [
    {
     "name": "stdout",
     "output_type": "stream",
     "text": [
      "['page_obj.categories', 'page_obj.content', 'page_obj.coordinates', 'page_obj.html', 'page_obj.images', 'page_obj.links', 'page_obj.original_title', 'page_obj.pageid', 'page_obj.parent_id', 'page_obj.references', 'page_obj.revision_id', 'page_obj.section', 'page_obj.sections', 'page_obj.summary', 'page_obj.title', 'page_obj.url']\n"
     ]
    }
   ],
   "source": [
    "\n",
    "print(['page_obj.{}'.format(fn) for fn in dir(page_obj) if not fn.startswith('_')])"
   ]
  },
  {
   "cell_type": "code",
   "execution_count": 395,
   "metadata": {},
   "outputs": [
    {
     "data": {
      "text/plain": [
       "'90885'"
      ]
     },
     "execution_count": 395,
     "metadata": {},
     "output_type": "execute_result"
    }
   ],
   "source": [
    "\n",
    "page_obj.pageid"
   ]
  },
  {
   "cell_type": "code",
   "execution_count": 363,
   "metadata": {},
   "outputs": [
    {
     "name": "stdout",
     "output_type": "stream",
     "text": [
      "Saving to D:\\Documents\\Repositories\\notebooks\\covid19\\saves\\csv\\counties_df.csv\n"
     ]
    }
   ],
   "source": [
    "\n",
    "s.save_dataframes(counties_df=counties_df)"
   ]
  },
  {
   "cell_type": "markdown",
   "metadata": {},
   "source": [
    "\n",
    "----\n",
    "# Clean the Data"
   ]
  },
  {
   "cell_type": "code",
   "execution_count": 54,
   "metadata": {},
   "outputs": [
    {
     "data": {
      "text/plain": [
       "'https://en.wikipedia.org/wiki/Clinton_County,_Iowa'"
      ]
     },
     "execution_count": 54,
     "metadata": {},
     "output_type": "execute_result"
    }
   ],
   "source": [
    "\n",
    "counties_df = s.load_object('counties_df')\n",
    "counties_df.Wikipedia_URL.sample(1).squeeze()"
   ]
  },
  {
   "cell_type": "markdown",
   "metadata": {},
   "source": [
    "\n",
    "----\n",
    "## Create Density DataFrame"
   ]
  },
  {
   "cell_type": "code",
   "execution_count": 6,
   "metadata": {},
   "outputs": [],
   "source": [
    "\n",
    "counties_df = s.load_object('counties_df')\n",
    "state_groupby = counties_df.groupby('State_Name')\n",
    "weighted_density_dict = {}\n",
    "for state_name, state_df in state_groupby:\n",
    "    state_population = state_df.Estimate_2019.sum()\n",
    "    weighted_density = 0\n",
    "    for row_index, row_series in state_df.iterrows():\n",
    "        county_population = row_series.Estimate_2019\n",
    "        county_area = row_series.Land_Area\n",
    "        weighted_density += county_population**2/county_area\n",
    "    weighted_density /= state_population\n",
    "    weighted_density_dict[state_name] = weighted_density"
   ]
  },
  {
   "cell_type": "code",
   "execution_count": 10,
   "metadata": {},
   "outputs": [],
   "source": [
    "\n",
    "density_df = pd.DataFrame.from_dict(weighted_density_dict, orient='index', columns=['Weighted_Density'])\n",
    "density_df = pd.concat([states_stats_df.State_Abbreviation, density_df], axis='columns')\n",
    "density_df.set_index('State_Abbreviation', drop=True, inplace=True)"
   ]
  },
  {
   "cell_type": "code",
   "execution_count": 11,
   "metadata": {},
   "outputs": [],
   "source": [
    "\n",
    "# This is the standard population density calculation\n",
    "columns_list = ['State_Abbreviation', 'State_Population', 'Land_Area_sq_km']\n",
    "df = states_stats_df[columns_list]\n",
    "df.set_index('State_Abbreviation', drop=True, inplace=True)\n",
    "density_series = df.apply(lambda row_series: row_series.State_Population / row_series.Land_Area_sq_km, axis='columns')\n",
    "density_series.name = 'Standard_Population_Density'\n",
    "density_df = pd.concat([density_df, density_series], axis='columns')\n",
    "#density_series"
   ]
  },
  {
   "cell_type": "code",
   "execution_count": 12,
   "metadata": {},
   "outputs": [],
   "source": [
    "\n",
    "url = 'https://covidtracking.com/api/v1/states/daily.csv'\n",
    "states_deaths_series = pd.read_csv(url,\n",
    "                                   usecols=['date', 'state', 'death'],\n",
    "                                   parse_dates=['date'],\n",
    "                                   index_col=['state', 'date'],\n",
    "                                   squeeze=True).sort_index()\n",
    "states_deaths_series.fillna(value=0, inplace=True)\n",
    "states_deaths_series = states_deaths_series.map(lambda x: int(x))"
   ]
  },
  {
   "cell_type": "code",
   "execution_count": 13,
   "metadata": {},
   "outputs": [
    {
     "name": "stdout",
     "output_type": "stream",
     "text": [
      "AK hit 6 deaths on April 05. 10 days later, on April 15, AK piled up 9 carcasses.\n",
      "AL hit 6 deaths on March 30. 10 days later, on April 09, AL piled up 74 carcasses.\n",
      "AR hit 6 deaths on March 29. 10 days later, on April 08, AR piled up 18 carcasses.\n",
      "AZ hit 6 deaths on March 25. 10 days later, on April 04, AZ piled up 52 carcasses.\n",
      "CA hit 6 deaths on March 16. 10 days later, on March 26, CA piled up 65 carcasses.\n",
      "CO hit 6 deaths on March 23. 10 days later, on April 02, CO piled up 80 carcasses.\n",
      "CT hit 10 deaths on March 23. 10 days later, on April 02, CT piled up 112 carcasses.\n",
      "DC hit 9 deaths on March 30. 10 days later, on April 09, DC piled up 32 carcasses.\n",
      "DE hit 6 deaths on March 29. 10 days later, on April 08, DE piled up 16 carcasses.\n",
      "FL hit 6 deaths on March 17. 10 days later, on March 27, FL piled up 34 carcasses.\n",
      "GA hit 10 deaths on March 19. 10 days later, on March 29, GA piled up 80 carcasses.\n",
      "HI hit 6 deaths on April 10. 10 days later, on April 20, HI piled up 10 carcasses.\n",
      "IA hit 6 deaths on March 30. 10 days later, on April 09, IA piled up 29 carcasses.\n",
      "ID hit 6 deaths on March 30. 10 days later, on April 09, ID piled up 18 carcasses.\n",
      "IL hit 6 deaths on March 21. 10 days later, on March 31, IL piled up 99 carcasses.\n",
      "IN hit 6 deaths on March 22. 10 days later, on April 01, IN piled up 65 carcasses.\n",
      "KS hit 6 deaths on March 29. 10 days later, on April 08, KS piled up 38 carcasses.\n",
      "KY hit 6 deaths on March 27. 10 days later, on April 06, KY piled up 45 carcasses.\n",
      "LA hit 6 deaths on March 18. 10 days later, on March 28, LA piled up 137 carcasses.\n",
      "MA hit 9 deaths on March 23. 10 days later, on April 02, MA piled up 154 carcasses.\n",
      "MD hit 10 deaths on March 29. 10 days later, on April 08, MD piled up 124 carcasses.\n",
      "ME hit 7 deaths on April 01. 10 days later, on April 11, ME piled up 19 carcasses.\n",
      "MI hit 8 deaths on March 22. 10 days later, on April 01, MI piled up 337 carcasses.\n",
      "MN hit 9 deaths on March 29. 10 days later, on April 08, MN piled up 39 carcasses.\n",
      "MO hit 8 deaths on March 25. 10 days later, on April 04, MO piled up 24 carcasses.\n",
      "MS hit 6 deaths on March 26. 10 days later, on April 05, MS piled up 43 carcasses.\n",
      "MT hit 6 deaths on April 05. 10 days later, on April 15, MT piled up 7 carcasses.\n",
      "NC hit 6 deaths on March 30. 10 days later, on April 09, NC piled up 65 carcasses.\n",
      "ND hit 6 deaths on April 10. 10 days later, on April 20, ND piled up 13 carcasses.\n",
      "NE hit 6 deaths on April 03. 10 days later, on April 13, NE piled up 17 carcasses.\n",
      "NH hit 7 deaths on April 04. 10 days later, on April 14, NH piled up 23 carcasses.\n",
      "NJ hit 9 deaths on March 19. 10 days later, on March 29, NJ piled up 161 carcasses.\n",
      "NM hit 6 deaths on April 02. 10 days later, on April 12, NM piled up 20 carcasses.\n",
      "NV hit 6 deaths on March 25. 10 days later, on April 04, NV piled up 46 carcasses.\n",
      "NY hit 7 deaths on March 16. 10 days later, on March 26, NY piled up 385 carcasses.\n",
      "OH hit 6 deaths on March 23. 10 days later, on April 02, OH piled up 81 carcasses.\n",
      "OK hit 7 deaths on March 26. 10 days later, on April 05, OK piled up 46 carcasses.\n",
      "OR hit 8 deaths on March 24. 10 days later, on April 03, OR piled up 22 carcasses.\n",
      "PA hit 6 deaths on March 23. 10 days later, on April 02, PA piled up 90 carcasses.\n",
      "PR hit 6 deaths on March 30. 10 days later, on April 09, PR piled up 33 carcasses.\n",
      "RI hit 8 deaths on March 31. 10 days later, on April 10, RI piled up 49 carcasses.\n",
      "SC hit 7 deaths on March 25. 10 days later, on April 04, SC piled up 40 carcasses.\n",
      "SD hit 6 deaths on April 07. 10 days later, on April 17, SD piled up 7 carcasses.\n",
      "TN hit 6 deaths on March 27. 10 days later, on April 06, TN piled up 65 carcasses.\n",
      "TX hit 8 deaths on March 23. 10 days later, on April 02, TX piled up 70 carcasses.\n",
      "UT hit 7 deaths on April 01. 10 days later, on April 11, UT piled up 18 carcasses.\n",
      "VA hit 6 deaths on March 23. 10 days later, on April 02, VA piled up 41 carcasses.\n",
      "VT hit 7 deaths on March 24. 10 days later, on April 03, VT piled up 17 carcasses.\n",
      "WA hit 8 deaths on March 01. 10 days later, on March 11, WA piled up 40 carcasses.\n",
      "WI hit 7 deaths on March 25. 10 days later, on April 04, WI piled up 56 carcasses.\n",
      "WV hit 8 deaths on April 12. 10 days later, on April 22, WV piled up 26 carcasses.\n"
     ]
    }
   ],
   "source": [
    "\n",
    "from datetime import timedelta\n",
    "\n",
    "f_str = '{} hit {} deaths on {}. 10 days later, on {}, {} piled up {} carcasses.'\n",
    "rows_list = []\n",
    "for state_abbrev, deaths_series in states_deaths_series.groupby('state'):\n",
    "    i = deaths_series.searchsorted(5, side='right', sorter=None)\n",
    "    if i < len(deaths_series):\n",
    "        death_count = deaths_series[i]\n",
    "        index_tuple = deaths_series.index[i]\n",
    "        hit_date = index_tuple[1]\n",
    "        later_date = hit_date + timedelta(days=10)\n",
    "        mask_series = (deaths_series.index.get_level_values('date') >= later_date)\n",
    "        ds = deaths_series[mask_series]\n",
    "        #print(state_abbrev, death_count, ds.shape[0])\n",
    "        if ds.shape[0] > 0:\n",
    "            later_count = ds.iloc[0]\n",
    "            row_dict = {}\n",
    "            row_dict['State_Abbreviation'] = state_abbrev\n",
    "            row_dict['Later_Count'] = later_count\n",
    "            rows_list.append(row_dict.copy())\n",
    "            print(f_str.format(state_abbrev, death_count, hit_date.strftime('%B %d'),\n",
    "                               later_date.strftime('%B %d'), state_abbrev, later_count))\n",
    "density_df = pd.concat([density_df, pd.DataFrame(rows_list).set_index('State_Abbreviation', drop=True, inplace=False)], axis='columns')"
   ]
  },
  {
   "cell_type": "code",
   "execution_count": 15,
   "metadata": {},
   "outputs": [
    {
     "name": "stdout",
     "output_type": "stream",
     "text": [
      "Pickling to D:\\Documents\\Repositories\\notebooks\\covid19\\saves\\pickle\\density_df.pickle\n",
      "Saving to D:\\Documents\\Repositories\\notebooks\\covid19\\saves\\csv\\density_df.csv\n"
     ]
    }
   ],
   "source": [
    "\n",
    "s.store_objects(density_df=density_df)\n",
    "s.save_dataframes(include_index=True, density_df=density_df)"
   ]
  },
  {
   "cell_type": "code",
   "execution_count": 28,
   "metadata": {},
   "outputs": [
    {
     "name": "stdout",
     "output_type": "stream",
     "text": [
      "Pickling to D:\\Documents\\Repositories\\notebooks\\covid19\\saves\\pickle\\density_df.pickle\n",
      "Saving to D:\\Documents\\Repositories\\notebooks\\covid19\\saves\\csv\\density_df.csv\n"
     ]
    }
   ],
   "source": [
    "\n",
    "import numpy as np\n",
    "\n",
    "density_df = s.load_object('density_df')\n",
    "density_df['Log_Weighted_Density'] = density_df.Weighted_Density.map(lambda x: np.log(x))\n",
    "density_df['Log_Later_Count'] = density_df.Later_Count.map(lambda x: np.log(x))\n",
    "s.store_objects(density_df=density_df)\n",
    "s.save_dataframes(include_index=True, density_df=density_df)"
   ]
  },
  {
   "cell_type": "code",
   "execution_count": 400,
   "metadata": {},
   "outputs": [
    {
     "data": {
      "application/vnd.jupyter.widget-view+json": {
       "model_id": "80ff499c697a46c2915e17b3099a511e",
       "version_major": 2,
       "version_minor": 0
      },
      "text/plain": [
       "HBox(children=(FloatProgress(value=0.0, max=3066.0), HTML(value='')))"
      ]
     },
     "metadata": {},
     "output_type": "display_data"
    },
    {
     "name": "stdout",
     "output_type": "stream",
     "text": [
      "'fullurl'\n",
      "Opening in existing browser session.\n",
      "Pickling to D:\\Documents\\Repositories\\notebooks\\covid19\\saves\\pickle\\counties_df.pickle\n",
      "\n"
     ]
    },
    {
     "name": "stderr",
     "output_type": "stream",
     "text": [
      "C:\\Program Files (x86)\\Google\\Chrome\\Application\\chrome.exe: invalid option -- `-u'\n",
      "Try 'chrome.exe --help' for more information.\n",
      "[0425/071144.763:ERROR:registration_protocol_win.cc(131)] TransactNamedPipe: The pipe has been ended. (0x6D)\n",
      "[921576:936180:0425/071145.907:ERROR:cache_util_win.cc(21)] Unable to move the cache: Access is denied. (0x5)\n",
      "[921576:936180:0425/071145.907:ERROR:cache_util.cc(138)] Unable to move cache folder C:\\Users\\577342\\AppData\\Local\\Google\\Chrome\\User Data\\ShaderCache\\GPUCache to C:\\Users\\577342\\AppData\\Local\\Google\\Chrome\\User Data\\ShaderCache\\old_GPUCache_000\n",
      "[921576:936180:0425/071145.907:ERROR:disk_cache.cc(184)] Unable to create cache\n",
      "[921576:936180:0425/071145.907:ERROR:shader_disk_cache.cc(606)] Shader Cache Creation failed: -2\n"
     ]
    }
   ],
   "source": [
    "\n",
    "from IPython.display import clear_output\n",
    "from tqdm import tqdm_notebook as tqdm\n",
    "from urllib.parse import unquote\n",
    "\n",
    "counties_df = s.load_object('counties_df')\n",
    "#counties_df['Wikipedia_ID'] = np.nan\n",
    "mask_series = counties_df.Wikipedia_ID.isnull()\n",
    "df = counties_df[mask_series]\n",
    "max_rows = df.shape[0]\n",
    "pbar = tqdm(df.iterrows(), total=max_rows)\n",
    "for row_index, row_series in pbar:\n",
    "    wikipedia_url = row_series.Wikipedia_URL\n",
    "    title_str = '{}'.format(re.sub('_', ' ', wikipedia_url.split('/')[-1]))\n",
    "    title_str = unquote(title_str)\n",
    "    pbar.set_description('{:<25}'.format(title_str)[:25])\n",
    "    try:\n",
    "        page_obj = wikipedia.page(title=title_str, auto_suggest=False)\n",
    "        wikipedia_id = page_obj.pageid\n",
    "        counties_df.loc[row_index, 'Wikipedia_ID'] = wikipedia_id\n",
    "    except wikipedia.PageError as e:\n",
    "        message = str(e).strip()\n",
    "        print(message)\n",
    "        search_str = '+'.join(title_str.lower().split(' '))\n",
    "        url = 'https://www.google.com/search?q={}'.format(search_str)\n",
    "        !\"C:\\Program Files (x86)\\Google\\Chrome\\Application\\chrome.exe\" {url}\n",
    "        break\n",
    "    except KeyError as e:\n",
    "        message = str(e).strip()\n",
    "        print(message)\n",
    "        !\"C:\\Program Files (x86)\\Google\\Chrome\\Application\\chrome.exe\" {wikipedia_url}\n",
    "        break\n",
    "s.store_objects(counties_df=counties_df)"
   ]
  },
  {
   "cell_type": "code",
   "execution_count": 401,
   "metadata": {},
   "outputs": [
    {
     "data": {
      "text/plain": [
       "County_Name                                              O'Brien County\n",
       "Census_2010                                                       14398\n",
       "Estimates_Base                                                    14398\n",
       "Estimate_2010                                                     14408\n",
       "Estimate_2011                                                     14218\n",
       "Estimate_2012                                                     14156\n",
       "Estimate_2013                                                     14045\n",
       "Estimate_2014                                                     14042\n",
       "Estimate_2015                                                     13926\n",
       "Estimate_2016                                                     13926\n",
       "Estimate_2017                                                     13774\n",
       "Estimate_2018                                                     13798\n",
       "Estimate_2019                                                     13753\n",
       "State_Name                                                         Iowa\n",
       "Land_Area                                                          1480\n",
       "Population_Density                                   25/sq mi (9.7/km2)\n",
       "Wikipedia_URL         https://en.wikipedia.org/wiki/O%27Brien_County...\n",
       "Wikipedia_ID                                                        NaN\n",
       "Name: 863, dtype: object"
      ]
     },
     "execution_count": 401,
     "metadata": {},
     "output_type": "execute_result"
    }
   ],
   "source": [
    "\n",
    "counties_df.loc[row_index]"
   ]
  },
  {
   "cell_type": "code",
   "execution_count": 403,
   "metadata": {},
   "outputs": [
    {
     "data": {
      "text/plain": [
       "\"O'Brien County, Iowa\""
      ]
     },
     "execution_count": 403,
     "metadata": {},
     "output_type": "execute_result"
    }
   ],
   "source": [
    "\n",
    "from urllib.parse import unquote\n",
    "\n",
    "wikipedia_url = row_series.Wikipedia_URL\n",
    "title_str = '{}'.format(re.sub('_', ' ', wikipedia_url.split('/')[-1]))\n",
    "title_str = unquote(title_str)\n",
    "title_str"
   ]
  },
  {
   "cell_type": "code",
   "execution_count": 392,
   "metadata": {},
   "outputs": [
    {
     "name": "stdout",
     "output_type": "stream",
     "text": [
      "Pickling to D:\\Documents\\Repositories\\notebooks\\covid19\\saves\\pickle\\counties_df.pickle\n"
     ]
    }
   ],
   "source": [
    "\n",
    "wikipedia_url = 'https://en.wikipedia.org/wiki/Hoonah%E2%80%93Angoon_Census_Area,_Alaska'\n",
    "counties_df.loc[row_index, ''] = wikipedia_url\n",
    "s.store_objects(counties_df=counties_df)"
   ]
  },
  {
   "cell_type": "code",
   "execution_count": 393,
   "metadata": {},
   "outputs": [
    {
     "data": {
      "application/vnd.jupyter.widget-view+json": {
       "model_id": "",
       "version_major": 2,
       "version_minor": 0
      },
      "text/plain": [
       "HBox(children=(FloatProgress(value=0.0, max=215.0), HTML(value='')))"
      ]
     },
     "metadata": {},
     "output_type": "display_data"
    },
    {
     "name": "stdout",
     "output_type": "stream",
     "text": [
      "\n",
      "Pickling to D:\\Documents\\Repositories\\notebooks\\covid19\\saves\\pickle\\counties_df.pickle\n"
     ]
    }
   ],
   "source": [
    "\n",
    "from IPython.display import clear_output\n",
    "from tqdm import tqdm_notebook as tqdm\n",
    "\n",
    "counties_df = s.load_object('counties_df')\n",
    "#counties_df['Wikipedia_URL'] = np.nan\n",
    "mask_series = counties_df.Wikipedia_URL.isnull()\n",
    "df = counties_df[mask_series]\n",
    "max_rows = df.shape[0]\n",
    "pbar = tqdm(df.iterrows(), total=max_rows)\n",
    "for row_index, row_series in pbar:\n",
    "    county_name = row_series.County_Name\n",
    "    state_name = row_series.State_Name\n",
    "    title_str = '{}, {}'.format(re.sub(' city$', '', county_name), state_name)\n",
    "    pbar.set_description('{:<25}'.format(title_str)[:25])\n",
    "    try:\n",
    "        page_obj = wikipedia.page(title=title_str, auto_suggest=False)\n",
    "        wikipedia_url = page_obj.url\n",
    "        counties_df.loc[row_index, 'Wikipedia_URL'] = wikipedia_url\n",
    "    except wikipedia.PageError as e:\n",
    "        message = str(e).strip()\n",
    "        print(message)\n",
    "        search_str = '+'.join(title_str.lower().split(' '))\n",
    "        url = 'https://www.google.com/search?q={}'.format(search_str)\n",
    "        !\"C:\\Program Files (x86)\\Google\\Chrome\\Application\\chrome.exe\" {url}\n",
    "        break\n",
    "s.store_objects(counties_df=counties_df)"
   ]
  },
  {
   "cell_type": "code",
   "execution_count": 284,
   "metadata": {},
   "outputs": [
    {
     "name": "stdout",
     "output_type": "stream",
     "text": [
      "Pickling to D:\\Documents\\Repositories\\notebooks\\covid19\\saves\\pickle\\counties_df.pickle\n"
     ]
    }
   ],
   "source": [
    "\n",
    "counties_df = s.load_object('counties_df')\n",
    "area_regex = re.compile(r'([0-9,.]+)[\\xa0 ]sq[\\xa0 ]mi \\(([0-9,.]+)[\\xa0 ]km2\\)|([0-9,.]+)[\\xa0 ]km2 \\(([0-9,.]+)[\\xa0 ]sq[\\xa0 ]mi\\)')\n",
    "def f(x):\n",
    "    return_value = None\n",
    "    if area_regex.fullmatch(str(x)):\n",
    "        \n",
    "        # Successful match at the start of the string\n",
    "        match_obj = area_regex.search(str(x))\n",
    "        if match_obj:\n",
    "            left_sq_km = match_obj.group(2)\n",
    "            right_sq_km = match_obj.group(4)\n",
    "            \n",
    "            if right_sq_km is None:\n",
    "                return_value = left_sq_km\n",
    "            elif left_sq_km is None:\n",
    "                return_value = right_sq_km\n",
    "            \n",
    "            if return_value is not None:\n",
    "                return_value = float(re.sub(',', '', return_value))\n",
    "    if return_value is None:\n",
    "        return_value = np.nan\n",
    "    \n",
    "    return return_value\n",
    "\n",
    "counties_df.Land_Area = counties_df.Land_Area.map(f)\n",
    "s.store_objects(counties_df=counties_df)"
   ]
  },
  {
   "cell_type": "code",
   "execution_count": 262,
   "metadata": {},
   "outputs": [
    {
     "data": {
      "application/vnd.jupyter.widget-view+json": {
       "model_id": "",
       "version_major": 2,
       "version_minor": 0
      },
      "text/plain": [
       "HBox(children=(FloatProgress(value=0.0, max=58.0), HTML(value='')))"
      ]
     },
     "metadata": {},
     "output_type": "display_data"
    },
    {
     "name": "stdout",
     "output_type": "stream",
     "text": [
      "\n",
      "Pickling to D:\\Documents\\Repositories\\notebooks\\covid19\\saves\\pickle\\counties_df.pickle\n"
     ]
    }
   ],
   "source": [
    "\n",
    "from IPython.display import clear_output\n",
    "from tqdm import tqdm_notebook as tqdm\n",
    "\n",
    "counties_df = s.load_object('counties_df')\n",
    "columns_list = ['County_Name', 'State_Name', 'Estimate_2019']\n",
    "mask_series = counties_df.Land_Area.isnull()\n",
    "df = counties_df[mask_series][columns_list]\n",
    "max_rows = df.shape[0]\n",
    "pbar = tqdm(df.iterrows(), total=max_rows)\n",
    "for row_index, row_series in pbar:\n",
    "    county_name = row_series.County_Name\n",
    "    state_name = row_series.State_Name\n",
    "    title_str = '{}, {}'.format(county_name, state_name)\n",
    "    #print()\n",
    "    #pbar.set_description('{}/{}: {}'.format(row_index, max_rows, title_str))\n",
    "    pbar.set_description('{:<25}'.format(title_str)[:25])\n",
    "    try:\n",
    "        page_obj = wikipedia.page(title=title_str, auto_suggest=True)\n",
    "        page_soup = bs(page_obj.html(), 'lxml')\n",
    "        for param_th in page_soup.find_all('th', scope='row'):\n",
    "            if(param_th.text.strip() == '•\\xa0Land'):\n",
    "                land_td = param_th.find_next_sibling('td')\n",
    "                #print('Land Area: {}'.format(land_td.text))\n",
    "                counties_df.loc[row_index, 'Land_Area'] = land_td.text\n",
    "            if(param_th.text.strip() == '•\\xa0Density'):\n",
    "                density_td = param_th.find_next_sibling('td')\n",
    "                #print('Population Density: {}'.format(density_td.text))\n",
    "                counties_df.loc[row_index, 'Population_Density'] = density_td.text\n",
    "    except wikipedia.PageError as e:\n",
    "        message = str(e).strip()\n",
    "        print(message)\n",
    "        search_str = '+'.join(title_str.lower().split(' '))\n",
    "        url = 'https://www.google.com/search?q={}+land+area'.format(search_str)\n",
    "        !\"C:\\Program Files (x86)\\Google\\Chrome\\Application\\chrome.exe\" {url}\n",
    "        break\n",
    "    #clear_output(wait=True)\n",
    "s.store_objects(counties_df=counties_df)"
   ]
  },
  {
   "cell_type": "code",
   "execution_count": 267,
   "metadata": {},
   "outputs": [],
   "source": [
    "\n",
    "counties_df = s.load_object('counties_df')\n",
    "columns_list = ['County_Name', 'State_Name', 'Estimate_2019']\n",
    "mask_series = counties_df.Land_Area.isnull()\n",
    "for row_index, row_series in counties_df[mask_series][columns_list].iterrows():\n",
    "    county_name = row_series.County_Name\n",
    "    state_name = row_series.State_Name\n",
    "    title_str = '{}, {}'.format(county_name, state_name)\n",
    "    print(title_str)\n",
    "    search_str = '+'.join(title_str.lower().split(' '))\n",
    "    url = 'https://www.google.com/search?q={}+land+area'.format(search_str)\n",
    "    !\"C:\\Program Files (x86)\\Google\\Chrome\\Application\\chrome.exe\" {url}\n",
    "    break"
   ]
  },
  {
   "cell_type": "markdown",
   "metadata": {},
   "source": [
    "\n",
    "---\n",
    "# Scrape the Data"
   ]
  },
  {
   "cell_type": "code",
   "execution_count": 133,
   "metadata": {},
   "outputs": [
    {
     "data": {
      "text/html": [
       "<div>\n",
       "<style scoped>\n",
       "    .dataframe tbody tr th:only-of-type {\n",
       "        vertical-align: middle;\n",
       "    }\n",
       "\n",
       "    .dataframe tbody tr th {\n",
       "        vertical-align: top;\n",
       "    }\n",
       "\n",
       "    .dataframe thead th {\n",
       "        text-align: right;\n",
       "    }\n",
       "</style>\n",
       "<table border=\"1\" class=\"dataframe\">\n",
       "  <thead>\n",
       "    <tr style=\"text-align: right;\">\n",
       "      <th></th>\n",
       "      <th>County_Name</th>\n",
       "      <th>State_Name</th>\n",
       "      <th>Estimate_2019</th>\n",
       "    </tr>\n",
       "  </thead>\n",
       "  <tbody>\n",
       "    <tr>\n",
       "      <th>3124</th>\n",
       "      <td>Big Horn County</td>\n",
       "      <td>Wyoming</td>\n",
       "      <td>11790</td>\n",
       "    </tr>\n",
       "    <tr>\n",
       "      <th>1082</th>\n",
       "      <td>Monroe County</td>\n",
       "      <td>Kentucky</td>\n",
       "      <td>10650</td>\n",
       "    </tr>\n",
       "    <tr>\n",
       "      <th>1675</th>\n",
       "      <td>Clay County</td>\n",
       "      <td>Nebraska</td>\n",
       "      <td>6203</td>\n",
       "    </tr>\n",
       "    <tr>\n",
       "      <th>912</th>\n",
       "      <td>Dickinson County</td>\n",
       "      <td>Kansas</td>\n",
       "      <td>18466</td>\n",
       "    </tr>\n",
       "    <tr>\n",
       "      <th>1880</th>\n",
       "      <td>Schuyler County</td>\n",
       "      <td>New York</td>\n",
       "      <td>17807</td>\n",
       "    </tr>\n",
       "  </tbody>\n",
       "</table>\n",
       "</div>"
      ],
      "text/plain": [
       "           County_Name State_Name  Estimate_2019\n",
       "3124   Big Horn County    Wyoming          11790\n",
       "1082     Monroe County   Kentucky          10650\n",
       "1675       Clay County   Nebraska           6203\n",
       "912   Dickinson County     Kansas          18466\n",
       "1880   Schuyler County   New York          17807"
      ]
     },
     "execution_count": 133,
     "metadata": {},
     "output_type": "execute_result"
    }
   ],
   "source": [
    "\n",
    "# https://www2.census.gov/programs-surveys/popest/tables/2010-2019/counties/totals/co-est2019-annres.xlsx\n",
    "xlsx_dir = os.path.join(s.data_folder, 'xlsx')\n",
    "file_path = os.path.join(xlsx_dir, 'co-est2019-annres.xlsx')\n",
    "counties_df = pd.read_excel(file_path)\n",
    "counties_df.columns = ['County_Name', 'Census_2010', 'Estimates_Base', 'Estimate_2010', 'Estimate_2011', 'Estimate_2012',\n",
    "                       'Estimate_2013', 'Estimate_2014', 'Estimate_2015', 'Estimate_2016', 'Estimate_2017', 'Estimate_2018',\n",
    "                       'Estimate_2019']\n",
    "#counties_df.Country_Name.to_dict()\n",
    "idx_list = list(range(4, 3146))\n",
    "mask_series = counties_df.index.isin(idx_list)\n",
    "counties_df = counties_df[mask_series]\n",
    "counties_df['State_Name'] = counties_df.County_Name.map(lambda x: x.split(',')[1].strip())\n",
    "counties_df.County_Name = counties_df.County_Name.map(lambda x: re.sub(r'\\.(.+)', r'\\g<1>', x.split(',')[0].strip(), 1))\n",
    "counties_df.Estimate_2019 = counties_df.Estimate_2019.map(lambda x: int(x))\n",
    "s.store_objects(counties_df=counties_df)\n",
    "columns_list = ['County_Name', 'State_Name', 'Estimate_2019']\n",
    "counties_df[columns_list].sample(5)"
   ]
  },
  {
   "cell_type": "code",
   "execution_count": 14,
   "metadata": {},
   "outputs": [
    {
     "name": "stdout",
     "output_type": "stream",
     "text": [
      "[(0, (60, 12)), (1, (9, 12)), (2, (4, 12)), (3, (11, 2))]\n"
     ]
    }
   ],
   "source": [
    "\n",
    "from datetime import datetime\n",
    "\n",
    "tables_url = 'https://en.wikipedia.org/wiki/List_of_U.S._states_and_territories_by_area'\n",
    "tables_list = get_page_tables(tables_url)"
   ]
  },
  {
   "cell_type": "code",
   "execution_count": 16,
   "metadata": {},
   "outputs": [
    {
     "name": "stdout",
     "output_type": "stream",
     "text": [
      "Pickling to D:\\Documents\\Repositories\\notebooks\\covid19\\saves\\pickle\\us_states_area_df.pickle\n"
     ]
    },
    {
     "data": {
      "text/html": [
       "<div>\n",
       "<style scoped>\n",
       "    .dataframe tbody tr th:only-of-type {\n",
       "        vertical-align: middle;\n",
       "    }\n",
       "\n",
       "    .dataframe tbody tr th {\n",
       "        vertical-align: top;\n",
       "    }\n",
       "\n",
       "    .dataframe thead th {\n",
       "        text-align: right;\n",
       "    }\n",
       "</style>\n",
       "<table border=\"1\" class=\"dataframe\">\n",
       "  <thead>\n",
       "    <tr style=\"text-align: right;\">\n",
       "      <th>State_Name</th>\n",
       "      <th>Minnesota</th>\n",
       "      <th>Tennessee</th>\n",
       "      <th>Arkansas</th>\n",
       "      <th>Indiana</th>\n",
       "      <th>Massachusetts</th>\n",
       "      <th>Alabama</th>\n",
       "      <th>West Virginia</th>\n",
       "      <th>Minor Outlying Islands</th>\n",
       "      <th>New Hampshire</th>\n",
       "      <th>New Mexico</th>\n",
       "    </tr>\n",
       "  </thead>\n",
       "  <tbody>\n",
       "    <tr>\n",
       "      <th>Total_Area_Rank</th>\n",
       "      <td>12.00</td>\n",
       "      <td>36.00</td>\n",
       "      <td>29.00</td>\n",
       "      <td>38.00</td>\n",
       "      <td>44.00</td>\n",
       "      <td>30.00</td>\n",
       "      <td>41.00</td>\n",
       "      <td>NaN</td>\n",
       "      <td>46.00</td>\n",
       "      <td>5.00</td>\n",
       "    </tr>\n",
       "    <tr>\n",
       "      <th>Total_Area_sq_mi</th>\n",
       "      <td>86935.83</td>\n",
       "      <td>42144.25</td>\n",
       "      <td>53178.55</td>\n",
       "      <td>36419.55</td>\n",
       "      <td>10554.39</td>\n",
       "      <td>52420.07</td>\n",
       "      <td>24230.04</td>\n",
       "      <td>16.0</td>\n",
       "      <td>9349.16</td>\n",
       "      <td>121590.30</td>\n",
       "    </tr>\n",
       "    <tr>\n",
       "      <th>Total_Area_sq_km</th>\n",
       "      <td>225163.00</td>\n",
       "      <td>109153.00</td>\n",
       "      <td>137732.00</td>\n",
       "      <td>94326.00</td>\n",
       "      <td>27336.00</td>\n",
       "      <td>135767.00</td>\n",
       "      <td>62756.00</td>\n",
       "      <td>41.0</td>\n",
       "      <td>24214.00</td>\n",
       "      <td>314917.00</td>\n",
       "    </tr>\n",
       "    <tr>\n",
       "      <th>Land_Area_Rank</th>\n",
       "      <td>14.00</td>\n",
       "      <td>34.00</td>\n",
       "      <td>27.00</td>\n",
       "      <td>38.00</td>\n",
       "      <td>45.00</td>\n",
       "      <td>28.00</td>\n",
       "      <td>41.00</td>\n",
       "      <td>NaN</td>\n",
       "      <td>44.00</td>\n",
       "      <td>5.00</td>\n",
       "    </tr>\n",
       "    <tr>\n",
       "      <th>Land_Area_sq_mi</th>\n",
       "      <td>79626.74</td>\n",
       "      <td>41234.90</td>\n",
       "      <td>52035.48</td>\n",
       "      <td>35826.11</td>\n",
       "      <td>7800.06</td>\n",
       "      <td>50645.33</td>\n",
       "      <td>24038.21</td>\n",
       "      <td>16.0</td>\n",
       "      <td>8952.65</td>\n",
       "      <td>121298.15</td>\n",
       "    </tr>\n",
       "    <tr>\n",
       "      <th>Land_Area_sq_km</th>\n",
       "      <td>206232.00</td>\n",
       "      <td>106798.00</td>\n",
       "      <td>134771.00</td>\n",
       "      <td>92789.00</td>\n",
       "      <td>20202.00</td>\n",
       "      <td>131171.00</td>\n",
       "      <td>62259.00</td>\n",
       "      <td>41.0</td>\n",
       "      <td>23187.00</td>\n",
       "      <td>314161.00</td>\n",
       "    </tr>\n",
       "    <tr>\n",
       "      <th>Land_Area_Percent</th>\n",
       "      <td>NaN</td>\n",
       "      <td>NaN</td>\n",
       "      <td>NaN</td>\n",
       "      <td>NaN</td>\n",
       "      <td>NaN</td>\n",
       "      <td>NaN</td>\n",
       "      <td>NaN</td>\n",
       "      <td>NaN</td>\n",
       "      <td>NaN</td>\n",
       "      <td>NaN</td>\n",
       "    </tr>\n",
       "    <tr>\n",
       "      <th>Water_Rank</th>\n",
       "      <td>9.00</td>\n",
       "      <td>35.00</td>\n",
       "      <td>31.00</td>\n",
       "      <td>39.00</td>\n",
       "      <td>16.00</td>\n",
       "      <td>23.00</td>\n",
       "      <td>50.00</td>\n",
       "      <td>NaN</td>\n",
       "      <td>47.00</td>\n",
       "      <td>49.00</td>\n",
       "    </tr>\n",
       "    <tr>\n",
       "      <th>Water_sq_mi</th>\n",
       "      <td>7309.09</td>\n",
       "      <td>909.36</td>\n",
       "      <td>1143.07</td>\n",
       "      <td>593.44</td>\n",
       "      <td>2754.33</td>\n",
       "      <td>1774.74</td>\n",
       "      <td>191.83</td>\n",
       "      <td>NaN</td>\n",
       "      <td>396.51</td>\n",
       "      <td>292.15</td>\n",
       "    </tr>\n",
       "    <tr>\n",
       "      <th>Water_sq_km</th>\n",
       "      <td>18930.00</td>\n",
       "      <td>2355.00</td>\n",
       "      <td>2961.00</td>\n",
       "      <td>1537.00</td>\n",
       "      <td>7134.00</td>\n",
       "      <td>4597.00</td>\n",
       "      <td>497.00</td>\n",
       "      <td>NaN</td>\n",
       "      <td>1027.00</td>\n",
       "      <td>757.00</td>\n",
       "    </tr>\n",
       "  </tbody>\n",
       "</table>\n",
       "</div>"
      ],
      "text/plain": [
       "State_Name         Minnesota  Tennessee   Arkansas   Indiana  Massachusetts  \\\n",
       "Total_Area_Rank        12.00      36.00      29.00     38.00          44.00   \n",
       "Total_Area_sq_mi    86935.83   42144.25   53178.55  36419.55       10554.39   \n",
       "Total_Area_sq_km   225163.00  109153.00  137732.00  94326.00       27336.00   \n",
       "Land_Area_Rank         14.00      34.00      27.00     38.00          45.00   \n",
       "Land_Area_sq_mi     79626.74   41234.90   52035.48  35826.11        7800.06   \n",
       "Land_Area_sq_km    206232.00  106798.00  134771.00  92789.00       20202.00   \n",
       "Land_Area_Percent        NaN        NaN        NaN       NaN            NaN   \n",
       "Water_Rank              9.00      35.00      31.00     39.00          16.00   \n",
       "Water_sq_mi          7309.09     909.36    1143.07    593.44        2754.33   \n",
       "Water_sq_km         18930.00    2355.00    2961.00   1537.00        7134.00   \n",
       "\n",
       "State_Name           Alabama  West Virginia  Minor Outlying Islands  \\\n",
       "Total_Area_Rank        30.00          41.00                     NaN   \n",
       "Total_Area_sq_mi    52420.07       24230.04                    16.0   \n",
       "Total_Area_sq_km   135767.00       62756.00                    41.0   \n",
       "Land_Area_Rank         28.00          41.00                     NaN   \n",
       "Land_Area_sq_mi     50645.33       24038.21                    16.0   \n",
       "Land_Area_sq_km    131171.00       62259.00                    41.0   \n",
       "Land_Area_Percent        NaN            NaN                     NaN   \n",
       "Water_Rank             23.00          50.00                     NaN   \n",
       "Water_sq_mi          1774.74         191.83                     NaN   \n",
       "Water_sq_km          4597.00         497.00                     NaN   \n",
       "\n",
       "State_Name         New Hampshire  New Mexico  \n",
       "Total_Area_Rank            46.00        5.00  \n",
       "Total_Area_sq_mi         9349.16   121590.30  \n",
       "Total_Area_sq_km        24214.00   314917.00  \n",
       "Land_Area_Rank             44.00        5.00  \n",
       "Land_Area_sq_mi          8952.65   121298.15  \n",
       "Land_Area_sq_km         23187.00   314161.00  \n",
       "Land_Area_Percent            NaN         NaN  \n",
       "Water_Rank                 47.00       49.00  \n",
       "Water_sq_mi               396.51      292.15  \n",
       "Water_sq_km              1027.00      757.00  "
      ]
     },
     "execution_count": 16,
     "metadata": {},
     "output_type": "execute_result"
    }
   ],
   "source": [
    "\n",
    "us_states_area_df = tables_list[0].copy()\n",
    "us_states_area_df.columns = ['State_Name', 'Total_Area_Rank', 'Total_Area_sq_mi', 'Total_Area_sq_km', 'Land_Area_Rank',\n",
    "                             'Land_Area_sq_mi', 'Land_Area_sq_km', 'Land_Area_Percent', 'Water_Rank', 'Water_sq_mi',\n",
    "                             'Water_sq_km', 'Water_Percent']\n",
    "us_states_area_df = us_states_area_df.iloc[:-3]\n",
    "for column_name in us_states_area_df.columns:\n",
    "    if column_name == 'State_Name':\n",
    "        us_states_area_df[column_name] = us_states_area_df[column_name].map(lambda x: str(x).split('[')[0])\n",
    "    else:\n",
    "        us_states_area_df[column_name] = us_states_area_df[column_name].map(lambda x: re.sub('[^\\d\\.]+', '', str(x)))\n",
    "        us_states_area_df[column_name] = pd.to_numeric(us_states_area_df[column_name], errors='coerce')\n",
    "mask_series = (us_states_area_df.State_Name == 'United States Virgin Islands')\n",
    "us_states_area_df.loc[mask_series, 'State_Name'] = 'U.S. Virgin Islands'\n",
    "us_states_area_df.set_index('State_Name', drop=True, inplace=True)\n",
    "s.store_objects(us_states_area_df=us_states_area_df)\n",
    "us_states_area_df.sample(10).T.head(10)"
   ]
  },
  {
   "cell_type": "code",
   "execution_count": null,
   "metadata": {},
   "outputs": [],
   "source": []
  }
 ],
 "metadata": {
  "kernelspec": {
   "display_name": "Python 3",
   "language": "python",
   "name": "python3"
  },
  "language_info": {
   "codemirror_mode": {
    "name": "ipython",
    "version": 3
   },
   "file_extension": ".py",
   "mimetype": "text/x-python",
   "name": "python",
   "nbconvert_exporter": "python",
   "pygments_lexer": "ipython3",
   "version": "3.7.7"
  }
 },
 "nbformat": 4,
 "nbformat_minor": 4
}
