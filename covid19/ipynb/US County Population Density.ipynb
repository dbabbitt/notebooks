{
 "cells": [
  {
   "cell_type": "code",
   "execution_count": null,
   "metadata": {},
   "outputs": [],
   "source": []
  },
  {
   "cell_type": "code",
   "execution_count": 1,
   "metadata": {},
   "outputs": [],
   "source": [
    "\n",
    "import sys\n",
    "\n",
    "# Insert at 1, 0 is the script path (or '' in REPL)\n",
    "sys.path.insert(1, '../py')"
   ]
  },
  {
   "cell_type": "code",
   "execution_count": 2,
   "metadata": {},
   "outputs": [
    {
     "name": "stdout",
     "output_type": "stream",
     "text": [
      "D:\\Documents\\Repositories\\notebooks\\covid19\\ipynb\\US County Population Density.ipynb\n",
      "['s.attempt_to_pickle', 's.data_csv_folder', 's.data_folder', 's.encoding_type', 's.load_csv', 's.load_dataframes', 's.load_object', 's.save_dataframes', 's.saves_csv_folder', 's.saves_folder', 's.saves_pickle_folder', 's.store_objects']\n",
      "Pretty printing has been turned OFF\n"
     ]
    },
    {
     "data": {
      "text/plain": [
       "['Config', 'In', 'Out', 'RandomForestClassifier', 'SequenceMatcher', 'Storage', '_', '__', '___', '__builtin__', '__builtins__', '__doc__', '__loader__', '__name__', '__nonzero__', '__package__', '__spec__', '_dh', '_i', '_i1', '_i2', '_ih', '_ii', '_iii', '_oh', 'bs', 'check_4_doubles', 'check_for_typos', 'color_dict', 'conjunctify_list', 'copyfile', 'csv', 'encoding', 'example_iterrows', 'exit', 'filepath_regex', 'get_classifier', 'get_column_descriptions', 'get_data_structs_dataframe', 'get_datastructure_prediction', 'get_dir_tree', 'get_git_lfs_track_commands', 'get_importances', 'get_input_sample', 'get_ipython', 'get_max_rsquared_adj', 'get_module_version', 'get_notebook_path', 'get_page_tables', 'get_specific_gitignore_files', 'get_struct_name', 'humanize_bytes', 'io', 'ipykernel', 'json', 'jupyter_config_dir', 'math', 'notebook_path', 'notebookapp', 'nx', 'os', 'pd', 'pickle', 'plt', 'preprocess_data', 'print_all_files_ending_starting_with', 'print_all_files_ending_with', 'print_all_files_starting_with', 'quit', 're', 'remove_empty_folders', 's', 'scraping_utils', 'similar', 'sm', 'sns', 'states_stats_df', 'stats', 'subprocess', 'sys', 'time', 'url_regex', 'urllib', 'wikipedia']"
      ]
     },
     "execution_count": 2,
     "metadata": {},
     "output_type": "execute_result"
    }
   ],
   "source": [
    "\n",
    "%run ../../load_magic/storage.py\n",
    "%run ../../load_magic/paths.py\n",
    "%run ../../load_magic/lists.py\n",
    "%run ../../load_magic/environment.py\n",
    "%run ../../load_magic/dataframes.py\n",
    "\n",
    "import scraping_utils\n",
    "wikipedia = scraping_utils.wikipedia\n",
    "\n",
    "from bs4 import BeautifulSoup as bs\n",
    "import networkx as nx\n",
    "import re\n",
    "import urllib.request\n",
    "\n",
    "notebook_path = get_notebook_path()\n",
    "print(notebook_path)\n",
    "s = Storage()\n",
    "states_stats_df = s.load_object('states_stats_df')\n",
    "color_dict = s.load_object('states_abbreviation_color_dict')\n",
    "print(['s.{}'.format(fn) for fn in dir(s) if not fn.startswith('_')])\n",
    "\n",
    "%pprint\n",
    "dir()"
   ]
  },
  {
   "cell_type": "markdown",
   "metadata": {},
   "source": [
    "\n",
    "----"
   ]
  },
  {
   "cell_type": "markdown",
   "metadata": {},
   "source": [
    "\n",
    "Like I say, I'm imagining that a state has $M$ different regions with populations $n_1$, $n_2$, $\\ldots$, $n_M$, and areas $A_1$, $A_2$, $\\ldots$, $A_M$."
   ]
  },
  {
   "cell_type": "markdown",
   "metadata": {},
   "source": [
    "\n",
    "So then, the total population $n = \\sum_{i=1}^M n_i$."
   ]
  },
  {
   "cell_type": "markdown",
   "metadata": {},
   "source": [
    "\n",
    "The weighted measure I'm suggesting is $\\left( \\sum_{i=1}^M n_i^2/A_i \\right)/n$."
   ]
  },
  {
   "cell_type": "code",
   "execution_count": 14,
   "metadata": {},
   "outputs": [],
   "source": [
    "\n",
    "facebook_aspect_ratio = 1.91\n",
    "twitter_aspect_ratio = 16/9\n",
    "color_dict = s.load_object('states_abbreviation_color_dict')\n",
    "def plot_lived_density(qe_column='Population_Density', qr_column='Later_Count',\n",
    "                       xlabel='Lived population density', ylabel='No. of deaths 10 days after hitting 5 deaths', aspect_ratio=1.91):\n",
    "    columns_list = [qe_column, qr_column]\n",
    "    df = density_df[columns_list].dropna(axis='index', how='any')\n",
    "    x = df[qe_column]\n",
    "    y = df[qr_column]\n",
    "    facet_grid = sns.lmplot(x=qe_column, y=qr_column, data=df, scatter=True, scatter_kws={'s': 1.0, 'color': 'grey'})\n",
    "    set_list = facet_grid.set(xlabel=xlabel, ylabel=ylabel,\n",
    "                              title='Rate of spread vs Lived population density')\n",
    "    fig_width = 18\n",
    "    fig_height = fig_width/aspect_ratio\n",
    "    set_list = facet_grid.fig.set(figheight=fig_height, figwidth=fig_width)\n",
    "    \n",
    "    # Get r squared value\n",
    "    pearsonr_tuple = pearsonr(df[qe_column], df[qr_column])\n",
    "    pearson_r = pearsonr_tuple[0]\n",
    "    pearsonr_statement = str('%.2f' % pearson_r)\n",
    "    coefficient_of_determination_statement = str('%.2f' % pearson_r**2)\n",
    "    p_value = pearsonr_tuple[1]\n",
    "    if p_value < 0.0001:\n",
    "        pvalue_statement = '<0.0001'\n",
    "    else:\n",
    "        pvalue_statement = '=' + str('%.4f' % p_value)\n",
    "    s_str = r'$r^2=' + coefficient_of_determination_statement + ',\\ p' + pvalue_statement + '$'\n",
    "    set_list = facet_grid.fig.text(0.75, 0.9, s_str, alpha=0.5, fontsize='x-large')\n",
    "\n",
    "    label_point(df[qe_column], df[qr_column], df.index.to_series(), plt.gca())\n",
    "    \n",
    "    ax = facet_grid.ax\n",
    "    ax.set_alpha = 0.1\n",
    "    left, right = ax.get_xlim()\n",
    "    left -= 0.125\n",
    "    right += 0.125\n",
    "    xlim_tuple = (left, right)\n",
    "    xlim_tuple = ax.set_xlim(xlim_tuple)"
   ]
  },
  {
   "cell_type": "code",
   "execution_count": 15,
   "metadata": {},
   "outputs": [],
   "source": [
    "\n",
    "from scipy.stats import pearsonr\n",
    "import seaborn as sns\n",
    "\n",
    "density_df = s.load_object('density_df')\n",
    "def label_point(x, y, val, ax):\n",
    "    a = pd.concat({'x': x, 'y': y, 'val': val}, axis=1)\n",
    "    for i, point in a.iterrows():\n",
    "        state_abbreviation = point.val\n",
    "        x = point.x\n",
    "        y = point.y\n",
    "        kwargs = dict(textcoords='offset points', ha='left', va='bottom', fontsize='small',\n",
    "                      bbox=dict(boxstyle='round,pad=0.5', fc=color_dict[state_abbreviation], alpha=0.5),\n",
    "                      arrowprops=dict(arrowstyle='->', connectionstyle='arc3,rad=0'))\n",
    "        if state_abbreviation == 'NC':\n",
    "            annotation = plt.annotate('{}'.format(state_abbreviation), xy=(x, y), xytext=(25, 40), **kwargs)\n",
    "        elif state_abbreviation == 'OH':\n",
    "            annotation = plt.annotate('{}'.format(state_abbreviation), xy=(x, y), xytext=(25, 40), **kwargs)\n",
    "        elif state_abbreviation == 'GA':\n",
    "            annotation = plt.annotate('{}'.format(state_abbreviation), xy=(x, y), xytext=(-25, 50), **kwargs)\n",
    "        elif state_abbreviation == 'IN':\n",
    "            annotation = plt.annotate('{}'.format(state_abbreviation), xy=(x, y), xytext=(-25, 50), **kwargs)\n",
    "        else:\n",
    "            annotation = plt.annotate('{}'.format(state_abbreviation), xy=(x, y), xytext=(-5, -8), **kwargs)\n",
    "        #ax.text(point['x']+.02, point['y'], state_abbreviation)"
   ]
  },
  {
   "cell_type": "code",
   "execution_count": 16,
   "metadata": {},
   "outputs": [
    {
     "data": {
      "image/png": "[encoded data removed]",
      "text/plain": [
       "<Figure size 1296x648 with 1 Axes>"
      ]
     },
     "metadata": {
      "needs_background": "light"
     },
     "output_type": "display_data"
    }
   ],
   "source": [
    "\n",
    "plot_lived_density(qe_column='Log_Weighted_Density', qr_column='Log_Later_Count',\n",
    "                   xlabel='Log (Lived population density)', ylabel='Log (No. of deaths 10 days after hitting 5 deaths)',\n",
    "                   aspect_ratio=18/9)"
   ]
  },
  {
   "cell_type": "markdown",
   "metadata": {},
   "source": [
    "\n",
    "----"
   ]
  },
  {
   "cell_type": "code",
   "execution_count": 12,
   "metadata": {},
   "outputs": [
    {
     "name": "stdout",
     "output_type": "stream",
     "text": [
      "Pickling to D:\\Documents\\Repositories\\notebooks\\covid19\\saves\\pickle\\density_df.pickle\n",
      "Saving to D:\\Documents\\Repositories\\notebooks\\covid19\\saves\\csv\\density_df.csv\n"
     ]
    }
   ],
   "source": [
    "\n",
    "import numpy as np\n",
    "\n",
    "density_df = s.load_object('density_df')\n",
    "density_df['Log_Weighted_Density'] = density_df.Weighted_Density.map(lambda x: np.log(x))\n",
    "density_df['Log_Later_Count'] = density_df.Later_Count.map(lambda x: np.log(x))\n",
    "s.store_objects(density_df=density_df)\n",
    "s.save_dataframes(include_index=True, density_df=density_df)"
   ]
  },
  {
   "cell_type": "code",
   "execution_count": 13,
   "metadata": {},
   "outputs": [
    {
     "data": {
      "image/png": "[encoded data removed]",
      "text/plain": [
       "<Figure size 432x288 with 1 Axes>"
      ]
     },
     "metadata": {
      "needs_background": "light"
     },
     "output_type": "display_data"
    }
   ],
   "source": [
    "\n",
    "density_df = s.load_object('density_df')\n",
    "AxesSubplot_obj = density_df.plot.scatter(x='Log_Weighted_Density', y='Log_Later_Count')"
   ]
  },
  {
   "cell_type": "code",
   "execution_count": 5,
   "metadata": {},
   "outputs": [
    {
     "name": "stdout",
     "output_type": "stream",
     "text": [
      "No pickle exists at D:\\Documents\\Repositories\\notebooks\\covid19\\saves\\pickle\\weighted_density_dict.pickle - attempting to load as csv.\n",
      "No csv exists at D:\\Documents\\Repositories\\notebooks\\covid19\\saves\\csv\\weighted_density_dict.csv - attempting to download from URL.\n"
     ]
    },
    {
     "ename": "ValueError",
     "evalue": "Invalid file path or buffer object type: <class 'NoneType'>",
     "output_type": "error",
     "traceback": [
      "\u001b[1;31m---------------------------------------------------------------------------\u001b[0m",
      "\u001b[1;31mValueError\u001b[0m                                Traceback (most recent call last)",
      "\u001b[1;32m<ipython-input-5-5c108e43d2da>\u001b[0m in \u001b[0;36m<module>\u001b[1;34m\u001b[0m\n\u001b[0;32m      1\u001b[0m \u001b[0mcounties_df\u001b[0m \u001b[1;33m=\u001b[0m \u001b[0ms\u001b[0m\u001b[1;33m.\u001b[0m\u001b[0mload_object\u001b[0m\u001b[1;33m(\u001b[0m\u001b[1;34m'counties_df'\u001b[0m\u001b[1;33m)\u001b[0m\u001b[1;33m\u001b[0m\u001b[1;33m\u001b[0m\u001b[0m\n\u001b[1;32m----> 2\u001b[1;33m \u001b[0mweighted_density_dict\u001b[0m \u001b[1;33m=\u001b[0m \u001b[0ms\u001b[0m\u001b[1;33m.\u001b[0m\u001b[0mload_object\u001b[0m\u001b[1;33m(\u001b[0m\u001b[1;34m'weighted_density_dict'\u001b[0m\u001b[1;33m)\u001b[0m\u001b[1;33m\u001b[0m\u001b[1;33m\u001b[0m\u001b[0m\n\u001b[0m\u001b[0;32m      3\u001b[0m \u001b[0mf_str\u001b[0m \u001b[1;33m=\u001b[0m \u001b[1;34m'The top five US states by standard deviation of county population are {}.'\u001b[0m\u001b[1;33m\u001b[0m\u001b[1;33m\u001b[0m\u001b[0m\n\u001b[0;32m      4\u001b[0m \u001b[0mtop5_list\u001b[0m \u001b[1;33m=\u001b[0m \u001b[0mcounties_df\u001b[0m\u001b[1;33m.\u001b[0m\u001b[0mgroupby\u001b[0m\u001b[1;33m(\u001b[0m\u001b[1;34m'State_Name'\u001b[0m\u001b[1;33m)\u001b[0m\u001b[1;33m.\u001b[0m\u001b[0mstd\u001b[0m\u001b[1;33m(\u001b[0m\u001b[1;33m)\u001b[0m\u001b[1;33m.\u001b[0m\u001b[0msort_values\u001b[0m\u001b[1;33m(\u001b[0m\u001b[1;34m'Estimate_2019'\u001b[0m\u001b[1;33m,\u001b[0m \u001b[0mascending\u001b[0m\u001b[1;33m=\u001b[0m\u001b[1;32mFalse\u001b[0m\u001b[1;33m)\u001b[0m\u001b[1;33m.\u001b[0m\u001b[0mindex\u001b[0m\u001b[1;33m.\u001b[0m\u001b[0mtolist\u001b[0m\u001b[1;33m(\u001b[0m\u001b[1;33m)\u001b[0m\u001b[1;33m[\u001b[0m\u001b[1;33m:\u001b[0m\u001b[1;36m5\u001b[0m\u001b[1;33m]\u001b[0m\u001b[1;33m\u001b[0m\u001b[1;33m\u001b[0m\u001b[0m\n\u001b[0;32m      5\u001b[0m \u001b[0mf_str\u001b[0m\u001b[1;33m.\u001b[0m\u001b[0mformat\u001b[0m\u001b[1;33m(\u001b[0m\u001b[0mconjunctify_list\u001b[0m\u001b[1;33m(\u001b[0m\u001b[1;33m[\u001b[0m\u001b[1;34m'{} ({} weighted density)'\u001b[0m\u001b[1;33m.\u001b[0m\u001b[0mformat\u001b[0m\u001b[1;33m(\u001b[0m\u001b[0msn\u001b[0m\u001b[1;33m,\u001b[0m \u001b[0mround\u001b[0m\u001b[1;33m(\u001b[0m\u001b[0mweighted_density_dict\u001b[0m\u001b[1;33m[\u001b[0m\u001b[0msn\u001b[0m\u001b[1;33m]\u001b[0m\u001b[1;33m,\u001b[0m \u001b[1;36m1\u001b[0m\u001b[1;33m)\u001b[0m\u001b[1;33m)\u001b[0m \u001b[1;32mfor\u001b[0m \u001b[0msn\u001b[0m \u001b[1;32min\u001b[0m \u001b[0mtop5_list\u001b[0m\u001b[1;33m]\u001b[0m\u001b[1;33m)\u001b[0m\u001b[1;33m)\u001b[0m\u001b[1;33m\u001b[0m\u001b[1;33m\u001b[0m\u001b[0m\n",
      "\u001b[1;32mD:\\Documents\\Repositories\\notebooks\\load_magic\\storage.py\u001b[0m in \u001b[0;36mload_object\u001b[1;34m(self, obj_name, download_url)\u001b[0m\n\u001b[0;32m     88\u001b[0m                 \u001b[0mprint\u001b[0m\u001b[1;33m(\u001b[0m\u001b[1;34m'No csv exists at {} - attempting to download from URL.'\u001b[0m\u001b[1;33m.\u001b[0m\u001b[0mformat\u001b[0m\u001b[1;33m(\u001b[0m\u001b[0mos\u001b[0m\u001b[1;33m.\u001b[0m\u001b[0mpath\u001b[0m\u001b[1;33m.\u001b[0m\u001b[0mabspath\u001b[0m\u001b[1;33m(\u001b[0m\u001b[0mcsv_path\u001b[0m\u001b[1;33m)\u001b[0m\u001b[1;33m)\u001b[0m\u001b[1;33m)\u001b[0m\u001b[1;33m\u001b[0m\u001b[1;33m\u001b[0m\u001b[0m\n\u001b[0;32m     89\u001b[0m                 object = pd.read_csv(download_url, low_memory=False,\n\u001b[1;32m---> 90\u001b[1;33m                                      encoding=self.encoding_type)\n\u001b[0m\u001b[0;32m     91\u001b[0m             \u001b[1;32melse\u001b[0m\u001b[1;33m:\u001b[0m\u001b[1;33m\u001b[0m\u001b[1;33m\u001b[0m\u001b[0m\n\u001b[0;32m     92\u001b[0m                 object = pd.read_csv(csv_path, low_memory=False,\n",
      "\u001b[1;32mC:\\ProgramData\\Anaconda3\\lib\\site-packages\\pandas\\io\\parsers.py\u001b[0m in \u001b[0;36mparser_f\u001b[1;34m(filepath_or_buffer, sep, delimiter, header, names, index_col, usecols, squeeze, prefix, mangle_dupe_cols, dtype, engine, converters, true_values, false_values, skipinitialspace, skiprows, skipfooter, nrows, na_values, keep_default_na, na_filter, verbose, skip_blank_lines, parse_dates, infer_datetime_format, keep_date_col, date_parser, dayfirst, cache_dates, iterator, chunksize, compression, thousands, decimal, lineterminator, quotechar, quoting, doublequote, escapechar, comment, encoding, dialect, error_bad_lines, warn_bad_lines, delim_whitespace, low_memory, memory_map, float_precision)\u001b[0m\n\u001b[0;32m    674\u001b[0m         )\n\u001b[0;32m    675\u001b[0m \u001b[1;33m\u001b[0m\u001b[0m\n\u001b[1;32m--> 676\u001b[1;33m         \u001b[1;32mreturn\u001b[0m \u001b[0m_read\u001b[0m\u001b[1;33m(\u001b[0m\u001b[0mfilepath_or_buffer\u001b[0m\u001b[1;33m,\u001b[0m \u001b[0mkwds\u001b[0m\u001b[1;33m)\u001b[0m\u001b[1;33m\u001b[0m\u001b[1;33m\u001b[0m\u001b[0m\n\u001b[0m\u001b[0;32m    677\u001b[0m \u001b[1;33m\u001b[0m\u001b[0m\n\u001b[0;32m    678\u001b[0m     \u001b[0mparser_f\u001b[0m\u001b[1;33m.\u001b[0m\u001b[0m__name__\u001b[0m \u001b[1;33m=\u001b[0m \u001b[0mname\u001b[0m\u001b[1;33m\u001b[0m\u001b[1;33m\u001b[0m\u001b[0m\n",
      "\u001b[1;32mC:\\ProgramData\\Anaconda3\\lib\\site-packages\\pandas\\io\\parsers.py\u001b[0m in \u001b[0;36m_read\u001b[1;34m(filepath_or_buffer, kwds)\u001b[0m\n\u001b[0;32m    429\u001b[0m     \u001b[1;31m# See https://github.com/python/mypy/issues/1297\u001b[0m\u001b[1;33m\u001b[0m\u001b[1;33m\u001b[0m\u001b[1;33m\u001b[0m\u001b[0m\n\u001b[0;32m    430\u001b[0m     fp_or_buf, _, compression, should_close = get_filepath_or_buffer(\n\u001b[1;32m--> 431\u001b[1;33m         \u001b[0mfilepath_or_buffer\u001b[0m\u001b[1;33m,\u001b[0m \u001b[0mencoding\u001b[0m\u001b[1;33m,\u001b[0m \u001b[0mcompression\u001b[0m\u001b[1;33m\u001b[0m\u001b[1;33m\u001b[0m\u001b[0m\n\u001b[0m\u001b[0;32m    432\u001b[0m     )\n\u001b[0;32m    433\u001b[0m     \u001b[0mkwds\u001b[0m\u001b[1;33m[\u001b[0m\u001b[1;34m\"compression\"\u001b[0m\u001b[1;33m]\u001b[0m \u001b[1;33m=\u001b[0m \u001b[0mcompression\u001b[0m\u001b[1;33m\u001b[0m\u001b[1;33m\u001b[0m\u001b[0m\n",
      "\u001b[1;32mC:\\ProgramData\\Anaconda3\\lib\\site-packages\\pandas\\io\\common.py\u001b[0m in \u001b[0;36mget_filepath_or_buffer\u001b[1;34m(filepath_or_buffer, encoding, compression, mode)\u001b[0m\n\u001b[0;32m    198\u001b[0m     \u001b[1;32mif\u001b[0m \u001b[1;32mnot\u001b[0m \u001b[0mis_file_like\u001b[0m\u001b[1;33m(\u001b[0m\u001b[0mfilepath_or_buffer\u001b[0m\u001b[1;33m)\u001b[0m\u001b[1;33m:\u001b[0m\u001b[1;33m\u001b[0m\u001b[1;33m\u001b[0m\u001b[0m\n\u001b[0;32m    199\u001b[0m         \u001b[0mmsg\u001b[0m \u001b[1;33m=\u001b[0m \u001b[1;34mf\"Invalid file path or buffer object type: {type(filepath_or_buffer)}\"\u001b[0m\u001b[1;33m\u001b[0m\u001b[1;33m\u001b[0m\u001b[0m\n\u001b[1;32m--> 200\u001b[1;33m         \u001b[1;32mraise\u001b[0m \u001b[0mValueError\u001b[0m\u001b[1;33m(\u001b[0m\u001b[0mmsg\u001b[0m\u001b[1;33m)\u001b[0m\u001b[1;33m\u001b[0m\u001b[1;33m\u001b[0m\u001b[0m\n\u001b[0m\u001b[0;32m    201\u001b[0m \u001b[1;33m\u001b[0m\u001b[0m\n\u001b[0;32m    202\u001b[0m     \u001b[1;32mreturn\u001b[0m \u001b[0mfilepath_or_buffer\u001b[0m\u001b[1;33m,\u001b[0m \u001b[1;32mNone\u001b[0m\u001b[1;33m,\u001b[0m \u001b[0mcompression\u001b[0m\u001b[1;33m,\u001b[0m \u001b[1;32mFalse\u001b[0m\u001b[1;33m\u001b[0m\u001b[1;33m\u001b[0m\u001b[0m\n",
      "\u001b[1;31mValueError\u001b[0m: Invalid file path or buffer object type: <class 'NoneType'>"
     ]
    }
   ],
   "source": [
    "\n",
    "counties_df = s.load_object('counties_df')\n",
    "weighted_density_dict = s.load_object('weighted_density_dict')\n",
    "f_str = 'The top five US states by standard deviation of county population are {}.'\n",
    "top5_list = counties_df.groupby('State_Name').std().sort_values('Estimate_2019', ascending=False).index.tolist()[:5]\n",
    "f_str.format(conjunctify_list(['{} ({} weighted density)'.format(sn, round(weighted_density_dict[sn], 1)) for sn in top5_list]))"
   ]
  },
  {
   "cell_type": "code",
   "execution_count": 58,
   "metadata": {},
   "outputs": [
    {
     "name": "stdout",
     "output_type": "stream",
     "text": [
      "[]\n"
     ]
    },
    {
     "data": {
      "image/png": "[encoded data removed]",
      "text/plain": [
       "<Figure size 360x360 with 1 Axes>"
      ]
     },
     "metadata": {
      "needs_background": "light"
     },
     "output_type": "display_data"
    }
   ],
   "source": [
    "\n",
    "qe_column='Log_Weighted_Density'\n",
    "qr_column='Log_Later_Count'\n",
    "xlabel='Lived population density'\n",
    "ylabel='No. of deaths 10 days after hitting 5 deaths'\n",
    "aspect_ratio=1.91\n",
    "columns_list = [qe_column, qr_column]\n",
    "df = density_df[columns_list].dropna(axis='index', how='any')\n",
    "x = df[qe_column]\n",
    "y = df[qr_column]\n",
    "facet_grid = sns.lmplot(x=qe_column, y=qr_column, data=df, scatter=True)\n",
    "print(['facet_grid.ax.{}'.format(fn) for fn in dir(facet_grid.ax) if 'marker' in fn.lower()])"
   ]
  },
  {
   "cell_type": "code",
   "execution_count": 38,
   "metadata": {},
   "outputs": [
    {
     "name": "stdout",
     "output_type": "stream",
     "text": [
      "['ax._alpha', 'ax.get_alpha', 'ax.set_alpha']\n"
     ]
    },
    {
     "data": {
      "text/plain": [
       "\u001b[1;31mSignature:\u001b[0m \u001b[0max\u001b[0m\u001b[1;33m.\u001b[0m\u001b[0mset_alpha\u001b[0m\u001b[1;33m(\u001b[0m\u001b[0malpha\u001b[0m\u001b[1;33m)\u001b[0m\u001b[1;33m\u001b[0m\u001b[1;33m\u001b[0m\u001b[0m\n",
       "\u001b[1;31mDocstring:\u001b[0m\n",
       "Set the alpha value used for blending - not supported on all backends.\n",
       "\n",
       "Parameters\n",
       "----------\n",
       "alpha : float or None\n",
       "\u001b[1;31mFile:\u001b[0m      c:\\users\\577342\\appdata\\local\\continuum\\anaconda3\\lib\\site-packages\\matplotlib\\artist.py\n",
       "\u001b[1;31mType:\u001b[0m      method\n"
      ]
     },
     "metadata": {},
     "output_type": "display_data"
    }
   ],
   "source": [
    "\n",
    "ax = facet_grid.ax\n",
    "print(['ax.{}'.format(fn) for fn in dir(ax) if 'alpha' in fn.lower()])\n",
    "ax.set_alpha?"
   ]
  },
  {
   "cell_type": "markdown",
   "metadata": {},
   "source": [
    "\n",
    "----"
   ]
  },
  {
   "cell_type": "code",
   "execution_count": 16,
   "metadata": {},
   "outputs": [
    {
     "data": {
      "image/png": "[encoded data removed]",
      "text/plain": [
       "<Figure size 1296x576 with 1 Axes>"
      ]
     },
     "metadata": {
      "needs_background": "light"
     },
     "output_type": "display_data"
    }
   ],
   "source": [
    "\n",
    "from scipy import stats\n",
    "import matplotlib.pyplot as plt\n",
    "\n",
    "# Use the following only if you are on a high definition device\n",
    "from IPython.display import set_matplotlib_formats\n",
    "set_matplotlib_formats('retina')\n",
    "\n",
    "\n",
    "fig = plt.figure(figsize=(18, 8))\n",
    "ax = fig.add_subplot(111, autoscale_on=True)\n",
    "ax.set_xscale('log')\n",
    "ax.set_yscale('log')\n",
    "columns_list = ['Weighted_Density', 'Later_Count']\n",
    "df = density_df[columns_list].dropna(axis='index', how='any')\n",
    "x = df['Weighted_Density']\n",
    "y = df['Later_Count']\n",
    "\n",
    "'''\n",
    "# Compute the slope, intercept and 90% confidence interval.\n",
    "# For comparison, also compute the least-squares fit with linregress:\n",
    "res = stats.theilslopes(np.log(y), np.log(x), 0.90)\n",
    "lsq_res = stats.linregress(np.log(x), np.log(y))\n",
    "\n",
    "# Plot the results\n",
    "ax.plot(x, lsq_res[1] + lsq_res[0] * x, 'g-')\n",
    "ax.plot(x, res[1] + res[0] * x, 'r-')\n",
    "ax.plot(x, res[1] + res[2] * x, 'r--')\n",
    "ax.plot(x, res[1] + res[3] * x, 'r--')'''\n",
    "\n",
    "# Get r squared value\n",
    "pearsonr_tuple = pearsonr(x, y)\n",
    "pearson_r = pearsonr_tuple[0]\n",
    "pearsonr_statement = str('%.2f' % pearson_r)\n",
    "coefficient_of_determination_statement = str('%.2f' % pearson_r**2)\n",
    "p_value = pearsonr_tuple[1]\n",
    "if p_value < 0.0001:\n",
    "    pvalue_statement = '<0.0001'\n",
    "else:\n",
    "    pvalue_statement = '=' + str('%.4f' % p_value)\n",
    "s_str = r'$r^2=' + coefficient_of_determination_statement + ',\\ p' + pvalue_statement + '$'\n",
    "\n",
    "text_tuple = ax.text(0.75, 0.9, s_str, alpha=0.5, transform=ax.transAxes, fontsize='x-large')\n",
    "ax.set_title('Rate of spread vs Lived population density')\n",
    "AxesSubplot_obj = density_df.plot.scatter(x='Weighted_Density', y='Later_Count', ax=ax)\n",
    "ax.set_xlabel('Log (Lived population density)')\n",
    "ax.set_ylabel('Log (No. of deaths 10 days after hitting 5 deaths)')\n",
    "label_point(x, y, df.index.to_series(), plt.gca()) "
   ]
  },
  {
   "cell_type": "markdown",
   "metadata": {},
   "source": [
    "\n",
    "----"
   ]
  },
  {
   "cell_type": "code",
   "execution_count": 15,
   "metadata": {},
   "outputs": [
    {
     "data": {
      "text/plain": [
       "Standard_Population_Density    892.467479\n",
       "Standard_Population_Density    892.467479\n",
       "dtype: float64"
      ]
     },
     "execution_count": 15,
     "metadata": {},
     "output_type": "execute_result"
    }
   ],
   "source": [
    "\n",
    "density_df.Standard_Population_Density.std()"
   ]
  },
  {
   "cell_type": "markdown",
   "metadata": {},
   "source": [
    "\n",
    "----\n",
    "# Clean the Data"
   ]
  },
  {
   "cell_type": "markdown",
   "metadata": {},
   "source": [
    "\n",
    "## Moved scraped values into columns"
   ]
  },
  {
   "cell_type": "code",
   "execution_count": 285,
   "metadata": {},
   "outputs": [
    {
     "data": {
      "text/html": [
       "<div>\n",
       "<style scoped>\n",
       "    .dataframe tbody tr th:only-of-type {\n",
       "        vertical-align: middle;\n",
       "    }\n",
       "\n",
       "    .dataframe tbody tr th {\n",
       "        vertical-align: top;\n",
       "    }\n",
       "\n",
       "    .dataframe thead th {\n",
       "        text-align: right;\n",
       "    }\n",
       "</style>\n",
       "<table border=\"1\" class=\"dataframe\">\n",
       "  <thead>\n",
       "    <tr style=\"text-align: right;\">\n",
       "      <th></th>\n",
       "      <th>state_name</th>\n",
       "      <th>county_name</th>\n",
       "      <th>column_name</th>\n",
       "      <th>column_value</th>\n",
       "    </tr>\n",
       "  </thead>\n",
       "  <tbody>\n",
       "    <tr>\n",
       "      <th>66979</th>\n",
       "      <td>Washington</td>\n",
       "      <td>Pierce County</td>\n",
       "      <td>Seat</td>\n",
       "      <td>Tacoma</td>\n",
       "    </tr>\n",
       "    <tr>\n",
       "      <th>5278</th>\n",
       "      <td>California</td>\n",
       "      <td>Shasta County</td>\n",
       "      <td>Region</td>\n",
       "      <td>Sacramento Valley/Cascade Range</td>\n",
       "    </tr>\n",
       "    <tr>\n",
       "      <th>12605</th>\n",
       "      <td>Idaho</td>\n",
       "      <td>Butte County</td>\n",
       "      <td>Area Total</td>\n",
       "      <td>2,234 sq mi (5,790 km2)</td>\n",
       "    </tr>\n",
       "    <tr>\n",
       "      <th>22624</th>\n",
       "      <td>Kentucky</td>\n",
       "      <td>Adair County</td>\n",
       "      <td>Time zone Summer (DST)</td>\n",
       "      <td>UTC−5 (CDT)</td>\n",
       "    </tr>\n",
       "    <tr>\n",
       "      <th>26196</th>\n",
       "      <td>Louisiana</td>\n",
       "      <td>Rapides Parish</td>\n",
       "      <td>Area Total</td>\n",
       "      <td>1,362 sq mi (3,530 km2)</td>\n",
       "    </tr>\n",
       "  </tbody>\n",
       "</table>\n",
       "</div>"
      ],
      "text/plain": [
       "       state_name     county_name             column_name  \\\n",
       "66979  Washington   Pierce County                    Seat   \n",
       "5278   California   Shasta County                  Region   \n",
       "12605       Idaho    Butte County              Area Total   \n",
       "22624    Kentucky    Adair County  Time zone Summer (DST)   \n",
       "26196   Louisiana  Rapides Parish              Area Total   \n",
       "\n",
       "                          column_value  \n",
       "66979                           Tacoma  \n",
       "5278   Sacramento Valley/Cascade Range  \n",
       "12605          2,234 sq mi (5,790 km2)  \n",
       "22624                      UTC−5 (CDT)  \n",
       "26196          1,362 sq mi (3,530 km2)  "
      ]
     },
     "execution_count": 285,
     "metadata": {},
     "output_type": "execute_result"
    }
   ],
   "source": [
    "\n",
    "scraped_counties_df = s.load_object('scraped_counties_df')\n",
    "scraped_counties_df.sample(5)"
   ]
  },
  {
   "cell_type": "code",
   "execution_count": 390,
   "metadata": {},
   "outputs": [
    {
     "name": "stdout",
     "output_type": "stream",
     "text": [
      "Pickling to D:\\Documents\\Repositories\\notebooks\\covid19\\saves\\pickle\\idx_dict.pickle\n"
     ]
    }
   ],
   "source": [
    "\n",
    "idx_dict = {}\n",
    "idx_list = []\n",
    "for idx_key in scraped_counties_df.column_name.value_counts().index:\n",
    "    idx_key = re.sub(' \\(population\\)', '', idx_key)\n",
    "    if 'population' in idx_key.lower():\n",
    "        idx_list.append(idx_key)\n",
    "for idx_key in idx_list:\n",
    "    idx_dict[idx_key] = None\n",
    "s.store_objects(idx_dict=idx_dict)"
   ]
  },
  {
   "cell_type": "code",
   "execution_count": 391,
   "metadata": {},
   "outputs": [
    {
     "name": "stdout",
     "output_type": "stream",
     "text": [
      "Pickling to D:\\Documents\\Repositories\\notebooks\\covid19\\saves\\pickle\\idx_dict.pickle\n"
     ]
    }
   ],
   "source": [
    "\n",
    "idx_dict = s.load_object('idx_dict')\n",
    "acronym_regex = re.compile('[A-Z]{2,}')\n",
    "for idx_key in scraped_counties_df.column_name.value_counts().index:\n",
    "    if 'population' not in idx_key.lower():\n",
    "        idx_value = re.sub('\\[\\d+\\]', '', idx_key)\n",
    "        idx_value = re.sub('\\(s\\)', 's', idx_value)\n",
    "        tuple_list = []\n",
    "        for match_obj in acronym_regex.finditer(idx_value):\n",
    "            acronym_str = match_obj.group()\n",
    "            acronym_transform = '_'.join(list(acronym_str))\n",
    "            idx_value = re.sub(acronym_str, acronym_transform, idx_value)\n",
    "            transform_tuple = (acronym_str, acronym_transform)\n",
    "            tuple_list.append(transform_tuple)\n",
    "        idx_value = '_'.join(re.sub('[^A-Za-z0-9]+', ' ', idx_value).strip().lower().title().split(' '))\n",
    "        for transform_tuple in tuple_list:\n",
    "            acronym_transform = transform_tuple[1]\n",
    "            acronym_str = transform_tuple[0]\n",
    "            idx_value = re.sub(acronym_transform, acronym_str, idx_value)\n",
    "        idx_dict[idx_key] = idx_value\n",
    "s.store_objects(idx_dict=idx_dict)"
   ]
  },
  {
   "cell_type": "code",
   "execution_count": 392,
   "metadata": {},
   "outputs": [
    {
     "name": "stdout",
     "output_type": "stream",
     "text": [
      "Pickling to D:\\Documents\\Repositories\\notebooks\\covid19\\saves\\pickle\\idx_dict.pickle\n"
     ]
    }
   ],
   "source": [
    "\n",
    "idx_dict = s.load_object('idx_dict')\n",
    "for scraped_value, column_name in idx_dict.items():\n",
    "    if column_name == 'Area_Land':\n",
    "        idx_dict[scraped_value] = None\n",
    "s.store_objects(idx_dict=idx_dict)"
   ]
  },
  {
   "cell_type": "code",
   "execution_count": 393,
   "metadata": {},
   "outputs": [
    {
     "name": "stdout",
     "output_type": "stream",
     "text": [
      "Pickling to D:\\Documents\\Repositories\\notebooks\\covid19\\saves\\pickle\\idx_dict.pickle\n"
     ]
    }
   ],
   "source": [
    "\n",
    "idx_dict = s.load_object('idx_dict')\n",
    "endswith_list = []\n",
    "for scraped_value, column_name in idx_dict.items():\n",
    "    if column_name is not None and column_name.endswith('s'):\n",
    "        endswith_list.append(column_name)\n",
    "for endswith_cn in endswith_list:\n",
    "    for scraped_value, column_name in idx_dict.items():\n",
    "        if column_name == endswith_cn[:-1]:\n",
    "            idx_dict[scraped_value] = endswith_cn\n",
    "s.store_objects(idx_dict=idx_dict)"
   ]
  },
  {
   "cell_type": "code",
   "execution_count": 394,
   "metadata": {},
   "outputs": [
    {
     "data": {
      "text/plain": [
       "'Airports'"
      ]
     },
     "execution_count": 394,
     "metadata": {},
     "output_type": "execute_result"
    }
   ],
   "source": [
    "\n",
    "idx_dict['Airport']"
   ]
  },
  {
   "cell_type": "code",
   "execution_count": 395,
   "metadata": {},
   "outputs": [
    {
     "data": {
      "text/plain": [
       "Highest_Elevation            9\n",
       "ZIP_Codes                    7\n",
       "Elevation                    6\n",
       "Area_Water                   6\n",
       "Lowest_Elevation             6\n",
       "Area_Total                   5\n",
       "Area_Urban                   5\n",
       "Area_Independent_City        5\n",
       "Government_County_Council    3\n",
       "Area_Codes                   3\n",
       "dtype: int64"
      ]
     },
     "execution_count": 395,
     "metadata": {},
     "output_type": "execute_result"
    }
   ],
   "source": [
    "\n",
    "pd.Series(idx_dict).value_counts().head(10)"
   ]
  },
  {
   "cell_type": "code",
   "execution_count": 396,
   "metadata": {},
   "outputs": [],
   "source": [
    "\n",
    "import pyperclip\n",
    "\n",
    "pyperclip.copy(str(tuple((v, k) for k, v in idx_dict.items())))"
   ]
  },
  {
   "cell_type": "code",
   "execution_count": 593,
   "metadata": {},
   "outputs": [
    {
     "name": "stdout",
     "output_type": "stream",
     "text": [
      "Pickling to D:\\Documents\\Repositories\\notebooks\\covid19\\saves\\pickle\\idx_dict.pickle\n"
     ]
    }
   ],
   "source": [
    "\n",
    "idx_dict = s.load_object('idx_dict')\n",
    "for scraped_value, column_name in idx_dict.items():\n",
    "    if column_name == 'Founded_Year':\n",
    "        column_name = 'Founded_Date'\n",
    "        idx_dict[scraped_value] = column_name\n",
    "s.store_objects(idx_dict=idx_dict)"
   ]
  },
  {
   "cell_type": "code",
   "execution_count": 594,
   "metadata": {},
   "outputs": [],
   "source": [
    "\n",
    "typos_df = check_for_typos(counties_df.columns, idx_dict.values())"
   ]
  },
  {
   "cell_type": "code",
   "execution_count": 597,
   "metadata": {},
   "outputs": [
    {
     "data": {
      "text/html": [
       "<div>\n",
       "<style scoped>\n",
       "    .dataframe tbody tr th:only-of-type {\n",
       "        vertical-align: middle;\n",
       "    }\n",
       "\n",
       "    .dataframe tbody tr th {\n",
       "        vertical-align: top;\n",
       "    }\n",
       "\n",
       "    .dataframe thead th {\n",
       "        text-align: right;\n",
       "    }\n",
       "</style>\n",
       "<table border=\"1\" class=\"dataframe\">\n",
       "  <thead>\n",
       "    <tr style=\"text-align: right;\">\n",
       "      <th></th>\n",
       "      <th>left_item</th>\n",
       "      <th>right_item</th>\n",
       "      <th>max_similarity</th>\n",
       "    </tr>\n",
       "  </thead>\n",
       "  <tbody>\n",
       "    <tr>\n",
       "      <th>27</th>\n",
       "      <td>Congressional_District</td>\n",
       "      <td>Congressional_Districts</td>\n",
       "      <td>0.977778</td>\n",
       "    </tr>\n",
       "    <tr>\n",
       "      <th>23</th>\n",
       "      <td>Time_Zone_Summer_DST</td>\n",
       "      <td>Time_Zones_Summer_DST</td>\n",
       "      <td>0.975610</td>\n",
       "    </tr>\n",
       "    <tr>\n",
       "      <th>40</th>\n",
       "      <td>FIPS_Code</td>\n",
       "      <td>FIPS_Codes</td>\n",
       "      <td>0.947368</td>\n",
       "    </tr>\n",
       "    <tr>\n",
       "      <th>39</th>\n",
       "      <td>Area_Code</td>\n",
       "      <td>Area_Codes</td>\n",
       "      <td>0.947368</td>\n",
       "    </tr>\n",
       "    <tr>\n",
       "      <th>22</th>\n",
       "      <td>Time_Zone</td>\n",
       "      <td>Time_Zones</td>\n",
       "      <td>0.947368</td>\n",
       "    </tr>\n",
       "    <tr>\n",
       "      <th>37</th>\n",
       "      <td>Largest_Town</td>\n",
       "      <td>Largest_Township</td>\n",
       "      <td>0.857143</td>\n",
       "    </tr>\n",
       "    <tr>\n",
       "      <th>28</th>\n",
       "      <td>Largest_City</td>\n",
       "      <td>Largest_Cities</td>\n",
       "      <td>0.846154</td>\n",
       "    </tr>\n",
       "    <tr>\n",
       "      <th>19</th>\n",
       "      <td>Area_Land</td>\n",
       "      <td>Area_Land_CDP</td>\n",
       "      <td>0.818182</td>\n",
       "    </tr>\n",
       "    <tr>\n",
       "      <th>0</th>\n",
       "      <td>County_Name</td>\n",
       "      <td>County_Seat</td>\n",
       "      <td>0.727273</td>\n",
       "    </tr>\n",
       "    <tr>\n",
       "      <th>13</th>\n",
       "      <td>State_Name</td>\n",
       "      <td>State_Routes</td>\n",
       "      <td>0.636364</td>\n",
       "    </tr>\n",
       "    <tr>\n",
       "      <th>15</th>\n",
       "      <td>Population_Density</td>\n",
       "      <td>Area_Density</td>\n",
       "      <td>0.600000</td>\n",
       "    </tr>\n",
       "    <tr>\n",
       "      <th>35</th>\n",
       "      <td>Relationship_To_County</td>\n",
       "      <td>Pre_Incorporation_County</td>\n",
       "      <td>0.565217</td>\n",
       "    </tr>\n",
       "    <tr>\n",
       "      <th>14</th>\n",
       "      <td>Land_Area</td>\n",
       "      <td>Metropolitan_Area</td>\n",
       "      <td>0.538462</td>\n",
       "    </tr>\n",
       "    <tr>\n",
       "      <th>30</th>\n",
       "      <td>Population_2010_Density</td>\n",
       "      <td>Area_Density</td>\n",
       "      <td>0.514286</td>\n",
       "    </tr>\n",
       "    <tr>\n",
       "      <th>26</th>\n",
       "      <td>Domain_Name</td>\n",
       "      <td>Nicknames</td>\n",
       "      <td>0.500000</td>\n",
       "    </tr>\n",
       "    <tr>\n",
       "      <th>31</th>\n",
       "      <td>Population_2010_Total</td>\n",
       "      <td>Pre_Incorporation_County</td>\n",
       "      <td>0.488889</td>\n",
       "    </tr>\n",
       "    <tr>\n",
       "      <th>2</th>\n",
       "      <td>Estimates_Base</td>\n",
       "      <td>Interstates</td>\n",
       "      <td>0.480000</td>\n",
       "    </tr>\n",
       "    <tr>\n",
       "      <th>11</th>\n",
       "      <td>Estimate_2018</td>\n",
       "      <td>GDP_2018</td>\n",
       "      <td>0.476190</td>\n",
       "    </tr>\n",
       "    <tr>\n",
       "      <th>5</th>\n",
       "      <td>Estimate_2012</td>\n",
       "      <td>Designated</td>\n",
       "      <td>0.434783</td>\n",
       "    </tr>\n",
       "    <tr>\n",
       "      <th>3</th>\n",
       "      <td>Estimate_2010</td>\n",
       "      <td>Designated</td>\n",
       "      <td>0.434783</td>\n",
       "    </tr>\n",
       "    <tr>\n",
       "      <th>4</th>\n",
       "      <td>Estimate_2011</td>\n",
       "      <td>Designated</td>\n",
       "      <td>0.434783</td>\n",
       "    </tr>\n",
       "    <tr>\n",
       "      <th>9</th>\n",
       "      <td>Estimate_2016</td>\n",
       "      <td>Designated</td>\n",
       "      <td>0.434783</td>\n",
       "    </tr>\n",
       "    <tr>\n",
       "      <th>10</th>\n",
       "      <td>Estimate_2017</td>\n",
       "      <td>Designated</td>\n",
       "      <td>0.434783</td>\n",
       "    </tr>\n",
       "    <tr>\n",
       "      <th>6</th>\n",
       "      <td>Estimate_2013</td>\n",
       "      <td>Designated</td>\n",
       "      <td>0.434783</td>\n",
       "    </tr>\n",
       "    <tr>\n",
       "      <th>7</th>\n",
       "      <td>Estimate_2014</td>\n",
       "      <td>Designated</td>\n",
       "      <td>0.434783</td>\n",
       "    </tr>\n",
       "    <tr>\n",
       "      <th>8</th>\n",
       "      <td>Estimate_2015</td>\n",
       "      <td>Designated</td>\n",
       "      <td>0.434783</td>\n",
       "    </tr>\n",
       "    <tr>\n",
       "      <th>12</th>\n",
       "      <td>Estimate_2019</td>\n",
       "      <td>Designated</td>\n",
       "      <td>0.434783</td>\n",
       "    </tr>\n",
       "    <tr>\n",
       "      <th>32</th>\n",
       "      <td>Population_Estimate_2018</td>\n",
       "      <td>Lowest_Elevation_At_Lake_Michigan</td>\n",
       "      <td>0.421053</td>\n",
       "    </tr>\n",
       "    <tr>\n",
       "      <th>1</th>\n",
       "      <td>Census_2010</td>\n",
       "      <td>GDP_2018</td>\n",
       "      <td>0.421053</td>\n",
       "    </tr>\n",
       "    <tr>\n",
       "      <th>38</th>\n",
       "      <td>Population_Estimate_2019</td>\n",
       "      <td>Lowest_Elevation_At_Lake_Michigan</td>\n",
       "      <td>0.421053</td>\n",
       "    </tr>\n",
       "    <tr>\n",
       "      <th>33</th>\n",
       "      <td>Population_2010_Estimate_2018</td>\n",
       "      <td>Lowest_Elevation_At_Lake_Michigan</td>\n",
       "      <td>0.387097</td>\n",
       "    </tr>\n",
       "    <tr>\n",
       "      <th>34</th>\n",
       "      <td>Population_2010_Estimate_2019</td>\n",
       "      <td>Lowest_Elevation_At_Lake_Michigan</td>\n",
       "      <td>0.387097</td>\n",
       "    </tr>\n",
       "    <tr>\n",
       "      <th>16</th>\n",
       "      <td>Wikipedia_URL</td>\n",
       "      <td>Area_Rank</td>\n",
       "      <td>0.363636</td>\n",
       "    </tr>\n",
       "    <tr>\n",
       "      <th>17</th>\n",
       "      <td>Wikipedia_ID</td>\n",
       "      <td>GNIS_Feature_IDs</td>\n",
       "      <td>0.357143</td>\n",
       "    </tr>\n",
       "  </tbody>\n",
       "</table>\n",
       "</div>"
      ],
      "text/plain": [
       "                        left_item                         right_item  \\\n",
       "27         Congressional_District            Congressional_Districts   \n",
       "23           Time_Zone_Summer_DST              Time_Zones_Summer_DST   \n",
       "40                      FIPS_Code                         FIPS_Codes   \n",
       "39                      Area_Code                         Area_Codes   \n",
       "22                      Time_Zone                         Time_Zones   \n",
       "37                   Largest_Town                   Largest_Township   \n",
       "28                   Largest_City                     Largest_Cities   \n",
       "19                      Area_Land                      Area_Land_CDP   \n",
       "0                     County_Name                        County_Seat   \n",
       "13                     State_Name                       State_Routes   \n",
       "15             Population_Density                       Area_Density   \n",
       "35         Relationship_To_County           Pre_Incorporation_County   \n",
       "14                      Land_Area                  Metropolitan_Area   \n",
       "30        Population_2010_Density                       Area_Density   \n",
       "26                    Domain_Name                          Nicknames   \n",
       "31          Population_2010_Total           Pre_Incorporation_County   \n",
       "2                  Estimates_Base                        Interstates   \n",
       "11                  Estimate_2018                           GDP_2018   \n",
       "5                   Estimate_2012                         Designated   \n",
       "3                   Estimate_2010                         Designated   \n",
       "4                   Estimate_2011                         Designated   \n",
       "9                   Estimate_2016                         Designated   \n",
       "10                  Estimate_2017                         Designated   \n",
       "6                   Estimate_2013                         Designated   \n",
       "7                   Estimate_2014                         Designated   \n",
       "8                   Estimate_2015                         Designated   \n",
       "12                  Estimate_2019                         Designated   \n",
       "32       Population_Estimate_2018  Lowest_Elevation_At_Lake_Michigan   \n",
       "1                     Census_2010                           GDP_2018   \n",
       "38       Population_Estimate_2019  Lowest_Elevation_At_Lake_Michigan   \n",
       "33  Population_2010_Estimate_2018  Lowest_Elevation_At_Lake_Michigan   \n",
       "34  Population_2010_Estimate_2019  Lowest_Elevation_At_Lake_Michigan   \n",
       "16                  Wikipedia_URL                          Area_Rank   \n",
       "17                   Wikipedia_ID                   GNIS_Feature_IDs   \n",
       "\n",
       "    max_similarity  \n",
       "27        0.977778  \n",
       "23        0.975610  \n",
       "40        0.947368  \n",
       "39        0.947368  \n",
       "22        0.947368  \n",
       "37        0.857143  \n",
       "28        0.846154  \n",
       "19        0.818182  \n",
       "0         0.727273  \n",
       "13        0.636364  \n",
       "15        0.600000  \n",
       "35        0.565217  \n",
       "14        0.538462  \n",
       "30        0.514286  \n",
       "26        0.500000  \n",
       "31        0.488889  \n",
       "2         0.480000  \n",
       "11        0.476190  \n",
       "5         0.434783  \n",
       "3         0.434783  \n",
       "4         0.434783  \n",
       "9         0.434783  \n",
       "10        0.434783  \n",
       "6         0.434783  \n",
       "7         0.434783  \n",
       "8         0.434783  \n",
       "12        0.434783  \n",
       "32        0.421053  \n",
       "1         0.421053  \n",
       "38        0.421053  \n",
       "33        0.387097  \n",
       "34        0.387097  \n",
       "16        0.363636  \n",
       "17        0.357143  "
      ]
     },
     "execution_count": 597,
     "metadata": {},
     "output_type": "execute_result"
    }
   ],
   "source": [
    "\n",
    "mask_series = (typos_df.max_similarity < 1.0)\n",
    "typos_df[mask_series].sort_values('max_similarity', ascending=False)"
   ]
  },
  {
   "cell_type": "code",
   "execution_count": 555,
   "metadata": {},
   "outputs": [
    {
     "name": "stdout",
     "output_type": "stream",
     "text": [
      "Pickling to D:\\Documents\\Repositories\\notebooks\\covid19\\saves\\pickle\\idx_dict.pickle\n"
     ]
    }
   ],
   "source": [
    "\n",
    "idx_dict = s.load_object('idx_dict')\n",
    "for scraped_value, column_name in idx_dict.items():\n",
    "    if re.search('_U_S_', str(column_name)):\n",
    "        column_name = re.sub('_U_S_', '_US_', column_name)\n",
    "        idx_dict[scraped_value] = column_name\n",
    "s.store_objects(idx_dict=idx_dict)"
   ]
  },
  {
   "cell_type": "code",
   "execution_count": 576,
   "metadata": {},
   "outputs": [
    {
     "name": "stdout",
     "output_type": "stream",
     "text": [
      "Pickling to D:\\Documents\\Repositories\\notebooks\\covid19\\saves\\pickle\\idx_dict.pickle\n"
     ]
    }
   ],
   "source": [
    "\n",
    "idx_dict = s.load_object('idx_dict')\n",
    "for scraped_value, column_name in idx_dict.items():\n",
    "    if column_name == \"Highest_Elevation_NE_Winfield_Twp\":\n",
    "        idx_dict[scraped_value] = \"Highest_Elevation\"\n",
    "s.store_objects(idx_dict=idx_dict)"
   ]
  },
  {
   "cell_type": "code",
   "execution_count": 577,
   "metadata": {},
   "outputs": [],
   "source": [
    "\n",
    "doubles_df = check_4_doubles(pd.Series(idx_dict).unique())\n",
    "#print(doubles_df.columns.tolist())"
   ]
  },
  {
   "cell_type": "code",
   "execution_count": 581,
   "metadata": {},
   "outputs": [
    {
     "name": "stdout",
     "output_type": "stream",
     "text": [
      "\n",
      "# 0.7924528301886793\n",
      "for scraped_value, column_name in idx_dict.items():\n",
      "    if column_name == \"North_Of_Salmon_River_Summer_DST\":\n",
      "        idx_dict[scraped_value] = \"North_Of_Salmon_River\"\n"
     ]
    }
   ],
   "source": [
    "\n",
    "for _, row_series in doubles_df.sort_values('max_similarity', ascending=False).head(35).tail(1).iterrows():\n",
    "    first_item = row_series.first_item\n",
    "    second_item = row_series.second_item\n",
    "    max_similarity = row_series.max_similarity\n",
    "    print('''\n",
    "# {}\n",
    "for scraped_value, column_name in idx_dict.items():\n",
    "    if column_name == \"{}\":\n",
    "        idx_dict[scraped_value] = \"{}\"'''.format(max_similarity, first_item, second_item))"
   ]
  },
  {
   "cell_type": "code",
   "execution_count": 412,
   "metadata": {},
   "outputs": [
    {
     "data": {
      "text/html": [
       "<div>\n",
       "<style scoped>\n",
       "    .dataframe tbody tr th:only-of-type {\n",
       "        vertical-align: middle;\n",
       "    }\n",
       "\n",
       "    .dataframe tbody tr th {\n",
       "        vertical-align: top;\n",
       "    }\n",
       "\n",
       "    .dataframe thead th {\n",
       "        text-align: right;\n",
       "    }\n",
       "</style>\n",
       "<table border=\"1\" class=\"dataframe\">\n",
       "  <thead>\n",
       "    <tr style=\"text-align: right;\">\n",
       "      <th></th>\n",
       "      <th>first_item</th>\n",
       "      <th>second_item</th>\n",
       "      <th>max_similarity</th>\n",
       "    </tr>\n",
       "  </thead>\n",
       "  <tbody>\n",
       "    <tr>\n",
       "      <th>5</th>\n",
       "      <td>Time_Zone_Summer_DST</td>\n",
       "      <td>Time_Zones_Summer_DST</td>\n",
       "      <td>0.975610</td>\n",
       "    </tr>\n",
       "    <tr>\n",
       "      <th>69</th>\n",
       "      <td>Incorporatedmunicipalities</td>\n",
       "      <td>Incorporated_Municipalities</td>\n",
       "      <td>0.943396</td>\n",
       "    </tr>\n",
       "    <tr>\n",
       "      <th>138</th>\n",
       "      <td>Western_Part_Of_County_Summer_DST</td>\n",
       "      <td>Eastern_Part_Of_County_Summer_DST</td>\n",
       "      <td>0.939394</td>\n",
       "    </tr>\n",
       "    <tr>\n",
       "      <th>73</th>\n",
       "      <td>ZIP_Code_Prefix</td>\n",
       "      <td>ZIP_Code_Prefixes</td>\n",
       "      <td>0.937500</td>\n",
       "    </tr>\n",
       "    <tr>\n",
       "      <th>122</th>\n",
       "      <td>South_Of_Salmon_River_Summer_DST</td>\n",
       "      <td>North_Of_Salmon_River_Summer_DST</td>\n",
       "      <td>0.937500</td>\n",
       "    </tr>\n",
       "    <tr>\n",
       "      <th>55</th>\n",
       "      <td>Government_State_Senator</td>\n",
       "      <td>Government_State_Senate</td>\n",
       "      <td>0.936170</td>\n",
       "    </tr>\n",
       "    <tr>\n",
       "      <th>91</th>\n",
       "      <td>Southern_Portion_Summer_DST</td>\n",
       "      <td>Northern_Portion_Summer_DST</td>\n",
       "      <td>0.925926</td>\n",
       "    </tr>\n",
       "    <tr>\n",
       "      <th>85</th>\n",
       "      <td>Government_Assemblymember</td>\n",
       "      <td>Government_Assembly_Members</td>\n",
       "      <td>0.923077</td>\n",
       "    </tr>\n",
       "    <tr>\n",
       "      <th>131</th>\n",
       "      <td>Western_Portion_Summer_DST</td>\n",
       "      <td>Eastern_Portion_Summer_DST</td>\n",
       "      <td>0.923077</td>\n",
       "    </tr>\n",
       "    <tr>\n",
       "      <th>62</th>\n",
       "      <td>Incorporated_Town</td>\n",
       "      <td>Incorporated_As_Town</td>\n",
       "      <td>0.918919</td>\n",
       "    </tr>\n",
       "    <tr>\n",
       "      <th>65</th>\n",
       "      <td>Incorporated_City</td>\n",
       "      <td>Incorporated_As_City</td>\n",
       "      <td>0.918919</td>\n",
       "    </tr>\n",
       "    <tr>\n",
       "      <th>163</th>\n",
       "      <td>Government_Chief_Administrative_Officer</td>\n",
       "      <td>Government_Administrative_Officer</td>\n",
       "      <td>0.916667</td>\n",
       "    </tr>\n",
       "    <tr>\n",
       "      <th>94</th>\n",
       "      <td>Government_City_Council</td>\n",
       "      <td>Government_County_Council</td>\n",
       "      <td>0.916667</td>\n",
       "    </tr>\n",
       "    <tr>\n",
       "      <th>149</th>\n",
       "      <td>Eastern_Part_Of_County</td>\n",
       "      <td>Western_Part_Of_County</td>\n",
       "      <td>0.909091</td>\n",
       "    </tr>\n",
       "    <tr>\n",
       "      <th>172</th>\n",
       "      <td>Government_House_Delegate</td>\n",
       "      <td>Government_Houses_Of_Delegates</td>\n",
       "      <td>0.909091</td>\n",
       "    </tr>\n",
       "    <tr>\n",
       "      <th>202</th>\n",
       "      <td>South_Of_Salmon_River</td>\n",
       "      <td>North_Of_Salmon_River</td>\n",
       "      <td>0.904762</td>\n",
       "    </tr>\n",
       "    <tr>\n",
       "      <th>68</th>\n",
       "      <td>Government_Borough_President</td>\n",
       "      <td>Government_Board_President</td>\n",
       "      <td>0.888889</td>\n",
       "    </tr>\n",
       "    <tr>\n",
       "      <th>161</th>\n",
       "      <td>Government_Miami_Dade_Board_Of_County_Commissi...</td>\n",
       "      <td>Government_Board_Of_County_Commissioners</td>\n",
       "      <td>0.879121</td>\n",
       "    </tr>\n",
       "    <tr>\n",
       "      <th>64</th>\n",
       "      <td>Government_Council</td>\n",
       "      <td>Government_City_Council</td>\n",
       "      <td>0.878049</td>\n",
       "    </tr>\n",
       "    <tr>\n",
       "      <th>67</th>\n",
       "      <td>Government_City_Manager</td>\n",
       "      <td>Government_Manager</td>\n",
       "      <td>0.878049</td>\n",
       "    </tr>\n",
       "  </tbody>\n",
       "</table>\n",
       "</div>"
      ],
      "text/plain": [
       "                                            first_item  \\\n",
       "5                                 Time_Zone_Summer_DST   \n",
       "69                          Incorporatedmunicipalities   \n",
       "138                  Western_Part_Of_County_Summer_DST   \n",
       "73                                     ZIP_Code_Prefix   \n",
       "122                   South_Of_Salmon_River_Summer_DST   \n",
       "55                            Government_State_Senator   \n",
       "91                         Southern_Portion_Summer_DST   \n",
       "85                           Government_Assemblymember   \n",
       "131                         Western_Portion_Summer_DST   \n",
       "62                                   Incorporated_Town   \n",
       "65                                   Incorporated_City   \n",
       "163            Government_Chief_Administrative_Officer   \n",
       "94                             Government_City_Council   \n",
       "149                             Eastern_Part_Of_County   \n",
       "172                          Government_House_Delegate   \n",
       "202                              South_Of_Salmon_River   \n",
       "68                        Government_Borough_President   \n",
       "161  Government_Miami_Dade_Board_Of_County_Commissi...   \n",
       "64                                  Government_Council   \n",
       "67                             Government_City_Manager   \n",
       "\n",
       "                                  second_item  max_similarity  \n",
       "5                       Time_Zones_Summer_DST        0.975610  \n",
       "69                Incorporated_Municipalities        0.943396  \n",
       "138         Eastern_Part_Of_County_Summer_DST        0.939394  \n",
       "73                          ZIP_Code_Prefixes        0.937500  \n",
       "122          North_Of_Salmon_River_Summer_DST        0.937500  \n",
       "55                    Government_State_Senate        0.936170  \n",
       "91                Northern_Portion_Summer_DST        0.925926  \n",
       "85                Government_Assembly_Members        0.923077  \n",
       "131                Eastern_Portion_Summer_DST        0.923077  \n",
       "62                       Incorporated_As_Town        0.918919  \n",
       "65                       Incorporated_As_City        0.918919  \n",
       "163         Government_Administrative_Officer        0.916667  \n",
       "94                  Government_County_Council        0.916667  \n",
       "149                    Western_Part_Of_County        0.909091  \n",
       "172            Government_Houses_Of_Delegates        0.909091  \n",
       "202                     North_Of_Salmon_River        0.904762  \n",
       "68                 Government_Board_President        0.888889  \n",
       "161  Government_Board_Of_County_Commissioners        0.879121  \n",
       "64                    Government_City_Council        0.878049  \n",
       "67                         Government_Manager        0.878049  "
      ]
     },
     "execution_count": 412,
     "metadata": {},
     "output_type": "execute_result"
    }
   ],
   "source": [
    "\n",
    "columns_list = ['first_item', 'second_item', 'max_similarity']\n",
    "doubles_df.sort_values('max_similarity', ascending=False).head(20)[columns_list]"
   ]
  },
  {
   "cell_type": "markdown",
   "metadata": {},
   "source": [
    "\n",
    "----"
   ]
  },
  {
   "cell_type": "code",
   "execution_count": 603,
   "metadata": {},
   "outputs": [
    {
     "data": {
      "text/html": [
       "<div>\n",
       "<style scoped>\n",
       "    .dataframe tbody tr th:only-of-type {\n",
       "        vertical-align: middle;\n",
       "    }\n",
       "\n",
       "    .dataframe tbody tr th {\n",
       "        vertical-align: top;\n",
       "    }\n",
       "\n",
       "    .dataframe thead th {\n",
       "        text-align: right;\n",
       "    }\n",
       "</style>\n",
       "<table border=\"1\" class=\"dataframe\">\n",
       "  <thead>\n",
       "    <tr style=\"text-align: right;\">\n",
       "      <th></th>\n",
       "      <th>28577</th>\n",
       "      <th>43257</th>\n",
       "      <th>38089</th>\n",
       "    </tr>\n",
       "  </thead>\n",
       "  <tbody>\n",
       "    <tr>\n",
       "      <th>state_name</th>\n",
       "      <td>Michigan</td>\n",
       "      <td>North Carolina</td>\n",
       "      <td>Nebraska</td>\n",
       "    </tr>\n",
       "    <tr>\n",
       "      <th>county_name</th>\n",
       "      <td>Eaton County</td>\n",
       "      <td>Craven County</td>\n",
       "      <td>Douglas County</td>\n",
       "    </tr>\n",
       "    <tr>\n",
       "      <th>column_name</th>\n",
       "      <td>Coordinates</td>\n",
       "      <td>Coordinates</td>\n",
       "      <td>Coordinates</td>\n",
       "    </tr>\n",
       "    <tr>\n",
       "      <th>column_value</th>\n",
       "      <td>42°35′N 84°51′W / 42.59°N 84.85°W</td>\n",
       "      <td>35°06′33″N 77°04′09″W / 35.109166666667°N 77.0...</td>\n",
       "      <td>41°18′N 96°09′W / 41.3°N 96.15°W</td>\n",
       "    </tr>\n",
       "  </tbody>\n",
       "</table>\n",
       "</div>"
      ],
      "text/plain": [
       "                                          28577  \\\n",
       "state_name                             Michigan   \n",
       "county_name                        Eaton County   \n",
       "column_name                         Coordinates   \n",
       "column_value  42°35′N 84°51′W / 42.59°N 84.85°W   \n",
       "\n",
       "                                                          43257  \\\n",
       "state_name                                       North Carolina   \n",
       "county_name                                       Craven County   \n",
       "column_name                                         Coordinates   \n",
       "column_value  35°06′33″N 77°04′09″W / 35.109166666667°N 77.0...   \n",
       "\n",
       "                                         38089  \n",
       "state_name                            Nebraska  \n",
       "county_name                     Douglas County  \n",
       "column_name                        Coordinates  \n",
       "column_value  41°18′N 96°09′W / 41.3°N 96.15°W  "
      ]
     },
     "execution_count": 603,
     "metadata": {},
     "output_type": "execute_result"
    }
   ],
   "source": [
    "\n",
    "scraped_mask = (scraped_counties_df.column_name == 'Coordinates')\n",
    "scraped_counties_df[scraped_mask].sample(3).T"
   ]
  },
  {
   "cell_type": "code",
   "execution_count": 602,
   "metadata": {},
   "outputs": [
    {
     "name": "stdout",
     "output_type": "stream",
     "text": [
      "\n",
      "        counties_df['County_Coordinates'] = np.nan\n",
      "        scraped_mask = (scraped_counties_df.column_name == 'Coordinates')\n",
      "        for scraped_index, scraped_series in scraped_counties_df[scraped_mask].iterrows():\n",
      "            scraped_state = scraped_series.state_name\n",
      "            scraped_county = scraped_series.county_name\n",
      "            scraped_value = scraped_series.column_value\n",
      "            counties_mask = (counties_df.State_Name == scraped_state) & (counties_df.County_Name == scraped_county)\n",
      "            counties_df.loc[counties_mask, column_name] = scraped_value\n",
      "        s.store_objects(counties_df=counties_df)\n"
     ]
    }
   ],
   "source": [
    "\n",
    "idx_dict = s.load_object('idx_dict')\n",
    "for scraped_value, column_name in idx_dict.items():\n",
    "    if column_name is not None:\n",
    "        print('''\n",
    "        counties_df['{}'] = np.nan\n",
    "        scraped_mask = (scraped_counties_df.column_name == '{}')\n",
    "        for scraped_index, scraped_series in scraped_counties_df[scraped_mask].iterrows():\n",
    "            scraped_state = scraped_series.state_name\n",
    "            scraped_county = scraped_series.county_name\n",
    "            scraped_value = scraped_series.column_value\n",
    "            counties_mask = (counties_df.State_Name == scraped_state) & (counties_df.County_Name == scraped_county)\n",
    "            counties_df.loc[counties_mask, column_name] = scraped_value\n",
    "        s.store_objects(counties_df=counties_df)'''.format(column_name, scraped_value))\n",
    "        break"
   ]
  },
  {
   "cell_type": "code",
   "execution_count": 605,
   "metadata": {},
   "outputs": [
    {
     "data": {
      "application/vnd.jupyter.widget-view+json": {
       "model_id": "c8bd90a7a8db42de9dc3646976c672dd",
       "version_major": 2,
       "version_minor": 0
      },
      "text/plain": [
       "HBox(children=(FloatProgress(value=0.0, max=445.0), HTML(value='')))"
      ]
     },
     "metadata": {},
     "output_type": "display_data"
    },
    {
     "name": "stdout",
     "output_type": "stream",
     "text": [
      "\n",
      "Saving to D:\\Documents\\Repositories\\notebooks\\covid19\\saves\\csv\\counties_df.csv\n"
     ]
    },
    {
     "ename": "ValueError",
     "evalue": "Cannot take a larger sample than population when 'replace=False'",
     "output_type": "error",
     "traceback": [
      "\u001b[1;31m---------------------------------------------------------------------------\u001b[0m",
      "\u001b[1;31mValueError\u001b[0m                                Traceback (most recent call last)",
      "\u001b[1;32m<ipython-input-605-c4fbff2dfedc>\u001b[0m in \u001b[0;36m<module>\u001b[1;34m\u001b[0m\n\u001b[0;32m     18\u001b[0m \u001b[0ms\u001b[0m\u001b[1;33m.\u001b[0m\u001b[0msave_dataframes\u001b[0m\u001b[1;33m(\u001b[0m\u001b[0minclude_index\u001b[0m\u001b[1;33m=\u001b[0m\u001b[1;32mFalse\u001b[0m\u001b[1;33m,\u001b[0m \u001b[0mcounties_df\u001b[0m\u001b[1;33m=\u001b[0m\u001b[0mcounties_df\u001b[0m\u001b[1;33m)\u001b[0m\u001b[1;33m\u001b[0m\u001b[1;33m\u001b[0m\u001b[0m\n\u001b[0;32m     19\u001b[0m \u001b[0mmask_series\u001b[0m \u001b[1;33m=\u001b[0m \u001b[0mcounties_df\u001b[0m\u001b[1;33m[\u001b[0m\u001b[0mcolumn_name\u001b[0m\u001b[1;33m]\u001b[0m\u001b[1;33m.\u001b[0m\u001b[0misnull\u001b[0m\u001b[1;33m(\u001b[0m\u001b[1;33m)\u001b[0m\u001b[1;33m\u001b[0m\u001b[1;33m\u001b[0m\u001b[0m\n\u001b[1;32m---> 20\u001b[1;33m \u001b[0mcounties_df\u001b[0m\u001b[1;33m[\u001b[0m\u001b[1;33m~\u001b[0m\u001b[0mmask_series\u001b[0m\u001b[1;33m]\u001b[0m\u001b[1;33m.\u001b[0m\u001b[0msample\u001b[0m\u001b[1;33m(\u001b[0m\u001b[1;36m3\u001b[0m\u001b[1;33m)\u001b[0m\u001b[1;33m.\u001b[0m\u001b[0mT\u001b[0m\u001b[1;33m\u001b[0m\u001b[1;33m\u001b[0m\u001b[0m\n\u001b[0m",
      "\u001b[1;32m~\\AppData\\Local\\Continuum\\anaconda3\\lib\\site-packages\\pandas\\core\\generic.py\u001b[0m in \u001b[0;36msample\u001b[1;34m(self, n, frac, replace, weights, random_state, axis)\u001b[0m\n\u001b[0;32m   5059\u001b[0m             )\n\u001b[0;32m   5060\u001b[0m \u001b[1;33m\u001b[0m\u001b[0m\n\u001b[1;32m-> 5061\u001b[1;33m         \u001b[0mlocs\u001b[0m \u001b[1;33m=\u001b[0m \u001b[0mrs\u001b[0m\u001b[1;33m.\u001b[0m\u001b[0mchoice\u001b[0m\u001b[1;33m(\u001b[0m\u001b[0maxis_length\u001b[0m\u001b[1;33m,\u001b[0m \u001b[0msize\u001b[0m\u001b[1;33m=\u001b[0m\u001b[0mn\u001b[0m\u001b[1;33m,\u001b[0m \u001b[0mreplace\u001b[0m\u001b[1;33m=\u001b[0m\u001b[0mreplace\u001b[0m\u001b[1;33m,\u001b[0m \u001b[0mp\u001b[0m\u001b[1;33m=\u001b[0m\u001b[0mweights\u001b[0m\u001b[1;33m)\u001b[0m\u001b[1;33m\u001b[0m\u001b[1;33m\u001b[0m\u001b[0m\n\u001b[0m\u001b[0;32m   5062\u001b[0m         \u001b[1;32mreturn\u001b[0m \u001b[0mself\u001b[0m\u001b[1;33m.\u001b[0m\u001b[0mtake\u001b[0m\u001b[1;33m(\u001b[0m\u001b[0mlocs\u001b[0m\u001b[1;33m,\u001b[0m \u001b[0maxis\u001b[0m\u001b[1;33m=\u001b[0m\u001b[0maxis\u001b[0m\u001b[1;33m)\u001b[0m\u001b[1;33m\u001b[0m\u001b[1;33m\u001b[0m\u001b[0m\n\u001b[0;32m   5063\u001b[0m \u001b[1;33m\u001b[0m\u001b[0m\n",
      "\u001b[1;32mmtrand.pyx\u001b[0m in \u001b[0;36mnumpy.random.mtrand.RandomState.choice\u001b[1;34m()\u001b[0m\n",
      "\u001b[1;31mValueError\u001b[0m: Cannot take a larger sample than population when 'replace=False'"
     ]
    }
   ],
   "source": [
    "\n",
    "from tqdm import tqdm_notebook as tqdm\n",
    "\n",
    "counties_df = s.load_object('counties_df')\n",
    "idx_dict = s.load_object('idx_dict')\n",
    "pbar = tqdm(idx_dict.items(), total=len(idx_dict))\n",
    "for scraped_value, column_name in pbar:\n",
    "    if column_name is not None:\n",
    "        pbar.set_description('{:<25}'.format(column_name)[:25])\n",
    "        counties_df[column_name] = np.nan\n",
    "        scraped_mask = (scraped_counties_df.column_name == scraped_value)\n",
    "        for scraped_index, scraped_series in scraped_counties_df[scraped_mask].iterrows():\n",
    "            scraped_state = scraped_series.state_name\n",
    "            scraped_county = scraped_series.county_name\n",
    "            scraped_value = scraped_series.column_value\n",
    "            counties_mask = (counties_df.State_Name == scraped_state) & (counties_df.County_Name == scraped_county)\n",
    "            counties_df.loc[counties_mask, column_name] = scraped_value\n",
    "        s.store_objects(verbose=False, counties_df=counties_df)\n",
    "s.save_dataframes(include_index=False, counties_df=counties_df)"
   ]
  },
  {
   "cell_type": "code",
   "execution_count": 610,
   "metadata": {},
   "outputs": [
    {
     "data": {
      "text/plain": [
       "(3142, 214)"
      ]
     },
     "execution_count": 610,
     "metadata": {},
     "output_type": "execute_result"
    }
   ],
   "source": [
    "\n",
    "counties_df.shape"
   ]
  },
  {
   "cell_type": "markdown",
   "metadata": {},
   "source": [
    "\n",
    "----"
   ]
  },
  {
   "cell_type": "code",
   "execution_count": 400,
   "metadata": {},
   "outputs": [
    {
     "data": {
      "application/vnd.jupyter.widget-view+json": {
       "model_id": "80ff499c697a46c2915e17b3099a511e",
       "version_major": 2,
       "version_minor": 0
      },
      "text/plain": [
       "HBox(children=(FloatProgress(value=0.0, max=3066.0), HTML(value='')))"
      ]
     },
     "metadata": {},
     "output_type": "display_data"
    },
    {
     "name": "stdout",
     "output_type": "stream",
     "text": [
      "'fullurl'\n",
      "Opening in existing browser session.\n",
      "Pickling to D:\\Documents\\Repositories\\notebooks\\covid19\\saves\\pickle\\counties_df.pickle\n",
      "\n"
     ]
    },
    {
     "name": "stderr",
     "output_type": "stream",
     "text": [
      "C:\\Program Files (x86)\\Google\\Chrome\\Application\\chrome.exe: invalid option -- `-u'\n",
      "Try 'chrome.exe --help' for more information.\n",
      "[0425/071144.763:ERROR:registration_protocol_win.cc(131)] TransactNamedPipe: The pipe has been ended. (0x6D)\n",
      "[921576:936180:0425/071145.907:ERROR:cache_util_win.cc(21)] Unable to move the cache: Access is denied. (0x5)\n",
      "[921576:936180:0425/071145.907:ERROR:cache_util.cc(138)] Unable to move cache folder C:\\Users\\577342\\AppData\\Local\\Google\\Chrome\\User Data\\ShaderCache\\GPUCache to C:\\Users\\577342\\AppData\\Local\\Google\\Chrome\\User Data\\ShaderCache\\old_GPUCache_000\n",
      "[921576:936180:0425/071145.907:ERROR:disk_cache.cc(184)] Unable to create cache\n",
      "[921576:936180:0425/071145.907:ERROR:shader_disk_cache.cc(606)] Shader Cache Creation failed: -2\n"
     ]
    }
   ],
   "source": [
    "\n",
    "from IPython.display import clear_output\n",
    "from tqdm import tqdm_notebook as tqdm\n",
    "from urllib.parse import unquote\n",
    "\n",
    "counties_df = s.load_object('counties_df')\n",
    "#counties_df['Wikipedia_ID'] = np.nan\n",
    "mask_series = counties_df.Wikipedia_ID.isnull()\n",
    "df = counties_df[mask_series]\n",
    "max_rows = df.shape[0]\n",
    "pbar = tqdm(df.iterrows(), total=max_rows)\n",
    "for row_index, row_series in pbar:\n",
    "    wikipedia_url = row_series.Wikipedia_URL\n",
    "    title_str = '{}'.format(re.sub('_', ' ', wikipedia_url.split('/')[-1]))\n",
    "    title_str = unquote(title_str)\n",
    "    pbar.set_description('{:<25}'.format(title_str)[:25])\n",
    "    try:\n",
    "        page_obj = wikipedia.page(title=title_str, auto_suggest=False)\n",
    "        wikipedia_id = page_obj.pageid\n",
    "        counties_df.loc[row_index, 'Wikipedia_ID'] = wikipedia_id\n",
    "    except wikipedia.PageError as e:\n",
    "        message = str(e).strip()\n",
    "        print(message)\n",
    "        search_str = '+'.join(title_str.lower().split(' '))\n",
    "        url = 'https://www.google.com/search?q={}'.format(search_str)\n",
    "        !\"C:\\Program Files (x86)\\Google\\Chrome\\Application\\chrome.exe\" {url}\n",
    "        break\n",
    "    except KeyError as e:\n",
    "        message = str(e).strip()\n",
    "        print(message)\n",
    "        !\"C:\\Program Files (x86)\\Google\\Chrome\\Application\\chrome.exe\" {wikipedia_url}\n",
    "        break\n",
    "s.store_objects(counties_df=counties_df)"
   ]
  },
  {
   "cell_type": "code",
   "execution_count": 401,
   "metadata": {},
   "outputs": [
    {
     "data": {
      "text/plain": [
       "County_Name                                              O'Brien County\n",
       "Census_2010                                                       14398\n",
       "Estimates_Base                                                    14398\n",
       "Estimate_2010                                                     14408\n",
       "Estimate_2011                                                     14218\n",
       "Estimate_2012                                                     14156\n",
       "Estimate_2013                                                     14045\n",
       "Estimate_2014                                                     14042\n",
       "Estimate_2015                                                     13926\n",
       "Estimate_2016                                                     13926\n",
       "Estimate_2017                                                     13774\n",
       "Estimate_2018                                                     13798\n",
       "Estimate_2019                                                     13753\n",
       "State_Name                                                         Iowa\n",
       "Land_Area                                                          1480\n",
       "Population_Density                                   25/sq mi (9.7/km2)\n",
       "Wikipedia_URL         https://en.wikipedia.org/wiki/O%27Brien_County...\n",
       "Wikipedia_ID                                                        NaN\n",
       "Name: 863, dtype: object"
      ]
     },
     "execution_count": 401,
     "metadata": {},
     "output_type": "execute_result"
    }
   ],
   "source": [
    "\n",
    "counties_df.loc[row_index]"
   ]
  },
  {
   "cell_type": "code",
   "execution_count": 403,
   "metadata": {},
   "outputs": [
    {
     "data": {
      "text/plain": [
       "\"O'Brien County, Iowa\""
      ]
     },
     "execution_count": 403,
     "metadata": {},
     "output_type": "execute_result"
    }
   ],
   "source": [
    "\n",
    "from urllib.parse import unquote\n",
    "\n",
    "wikipedia_url = row_series.Wikipedia_URL\n",
    "title_str = '{}'.format(re.sub('_', ' ', wikipedia_url.split('/')[-1]))\n",
    "title_str = unquote(title_str)\n",
    "title_str"
   ]
  },
  {
   "cell_type": "code",
   "execution_count": 392,
   "metadata": {},
   "outputs": [
    {
     "name": "stdout",
     "output_type": "stream",
     "text": [
      "Pickling to D:\\Documents\\Repositories\\notebooks\\covid19\\saves\\pickle\\counties_df.pickle\n"
     ]
    }
   ],
   "source": [
    "\n",
    "wikipedia_url = 'https://en.wikipedia.org/wiki/Hoonah%E2%80%93Angoon_Census_Area,_Alaska'\n",
    "counties_df.loc[row_index, ''] = wikipedia_url\n",
    "s.store_objects(counties_df=counties_df)"
   ]
  },
  {
   "cell_type": "code",
   "execution_count": 393,
   "metadata": {},
   "outputs": [
    {
     "data": {
      "application/vnd.jupyter.widget-view+json": {
       "model_id": "",
       "version_major": 2,
       "version_minor": 0
      },
      "text/plain": [
       "HBox(children=(FloatProgress(value=0.0, max=215.0), HTML(value='')))"
      ]
     },
     "metadata": {},
     "output_type": "display_data"
    },
    {
     "name": "stdout",
     "output_type": "stream",
     "text": [
      "\n",
      "Pickling to D:\\Documents\\Repositories\\notebooks\\covid19\\saves\\pickle\\counties_df.pickle\n"
     ]
    }
   ],
   "source": [
    "\n",
    "from IPython.display import clear_output\n",
    "from tqdm import tqdm_notebook as tqdm\n",
    "\n",
    "counties_df = s.load_object('counties_df')\n",
    "#counties_df['Wikipedia_URL'] = np.nan\n",
    "mask_series = counties_df.Wikipedia_URL.isnull()\n",
    "df = counties_df[mask_series]\n",
    "max_rows = df.shape[0]\n",
    "pbar = tqdm(df.iterrows(), total=max_rows)\n",
    "for row_index, row_series in pbar:\n",
    "    county_name = row_series.County_Name\n",
    "    state_name = row_series.State_Name\n",
    "    title_str = '{}, {}'.format(re.sub(' city$', '', county_name), state_name)\n",
    "    pbar.set_description('{:<25}'.format(title_str)[:25])\n",
    "    try:\n",
    "        page_obj = wikipedia.page(title=title_str, auto_suggest=False)\n",
    "        wikipedia_url = page_obj.url\n",
    "        counties_df.loc[row_index, 'Wikipedia_URL'] = wikipedia_url\n",
    "    except wikipedia.PageError as e:\n",
    "        message = str(e).strip()\n",
    "        print(message)\n",
    "        search_str = '+'.join(title_str.lower().split(' '))\n",
    "        url = 'https://www.google.com/search?q={}'.format(search_str)\n",
    "        !\"C:\\Program Files (x86)\\Google\\Chrome\\Application\\chrome.exe\" {url}\n",
    "        break\n",
    "s.store_objects(counties_df=counties_df)"
   ]
  },
  {
   "cell_type": "code",
   "execution_count": 284,
   "metadata": {},
   "outputs": [
    {
     "name": "stdout",
     "output_type": "stream",
     "text": [
      "Pickling to D:\\Documents\\Repositories\\notebooks\\covid19\\saves\\pickle\\counties_df.pickle\n"
     ]
    }
   ],
   "source": [
    "\n",
    "counties_df = s.load_object('counties_df')\n",
    "area_regex = re.compile(r'([0-9,.]+)[\\xa0 ]sq[\\xa0 ]mi \\(([0-9,.]+)[\\xa0 ]km2\\)|([0-9,.]+)[\\xa0 ]km2 \\(([0-9,.]+)[\\xa0 ]sq[\\xa0 ]mi\\)')\n",
    "def f(x):\n",
    "    return_value = None\n",
    "    if area_regex.fullmatch(str(x)):\n",
    "        \n",
    "        # Successful match at the start of the string\n",
    "        match_obj = area_regex.search(str(x))\n",
    "        if match_obj:\n",
    "            left_sq_km = match_obj.group(2)\n",
    "            right_sq_km = match_obj.group(4)\n",
    "            \n",
    "            if right_sq_km is None:\n",
    "                return_value = left_sq_km\n",
    "            elif left_sq_km is None:\n",
    "                return_value = right_sq_km\n",
    "            \n",
    "            if return_value is not None:\n",
    "                return_value = float(re.sub(',', '', return_value))\n",
    "    if return_value is None:\n",
    "        return_value = np.nan\n",
    "    \n",
    "    return return_value\n",
    "\n",
    "counties_df.Land_Area = counties_df.Land_Area.map(f)\n",
    "s.store_objects(counties_df=counties_df)"
   ]
  },
  {
   "cell_type": "code",
   "execution_count": 262,
   "metadata": {},
   "outputs": [
    {
     "data": {
      "application/vnd.jupyter.widget-view+json": {
       "model_id": "",
       "version_major": 2,
       "version_minor": 0
      },
      "text/plain": [
       "HBox(children=(FloatProgress(value=0.0, max=58.0), HTML(value='')))"
      ]
     },
     "metadata": {},
     "output_type": "display_data"
    },
    {
     "name": "stdout",
     "output_type": "stream",
     "text": [
      "\n",
      "Pickling to D:\\Documents\\Repositories\\notebooks\\covid19\\saves\\pickle\\counties_df.pickle\n"
     ]
    }
   ],
   "source": [
    "\n",
    "from IPython.display import clear_output\n",
    "from tqdm import tqdm_notebook as tqdm\n",
    "\n",
    "counties_df = s.load_object('counties_df')\n",
    "columns_list = ['County_Name', 'State_Name', 'Estimate_2019']\n",
    "mask_series = counties_df.Land_Area.isnull()\n",
    "df = counties_df[mask_series][columns_list]\n",
    "max_rows = df.shape[0]\n",
    "pbar = tqdm(df.iterrows(), total=max_rows)\n",
    "for row_index, row_series in pbar:\n",
    "    county_name = row_series.County_Name\n",
    "    state_name = row_series.State_Name\n",
    "    title_str = '{}, {}'.format(county_name, state_name)\n",
    "    #print()\n",
    "    #pbar.set_description('{}/{}: {}'.format(row_index, max_rows, title_str))\n",
    "    pbar.set_description('{:<25}'.format(title_str)[:25])\n",
    "    try:\n",
    "        page_obj = wikipedia.page(title=title_str, auto_suggest=True)\n",
    "        page_soup = bs(page_obj.html(), 'lxml')\n",
    "        for param_th in page_soup.find_all('th', scope='row'):\n",
    "            if(param_th.text.strip() == '•\\xa0Land'):\n",
    "                land_td = param_th.find_next_sibling('td')\n",
    "                #print('Land Area: {}'.format(land_td.text))\n",
    "                counties_df.loc[row_index, 'Land_Area'] = land_td.text\n",
    "            if(param_th.text.strip() == '•\\xa0Density'):\n",
    "                density_td = param_th.find_next_sibling('td')\n",
    "                #print('Population Density: {}'.format(density_td.text))\n",
    "                counties_df.loc[row_index, 'Population_Density'] = density_td.text\n",
    "    except wikipedia.PageError as e:\n",
    "        message = str(e).strip()\n",
    "        print(message)\n",
    "        search_str = '+'.join(title_str.lower().split(' '))\n",
    "        url = 'https://www.google.com/search?q={}+land+area'.format(search_str)\n",
    "        !\"C:\\Program Files (x86)\\Google\\Chrome\\Application\\chrome.exe\" {url}\n",
    "        break\n",
    "    #clear_output(wait=True)\n",
    "s.store_objects(counties_df=counties_df)"
   ]
  },
  {
   "cell_type": "code",
   "execution_count": 267,
   "metadata": {},
   "outputs": [],
   "source": [
    "\n",
    "counties_df = s.load_object('counties_df')\n",
    "columns_list = ['County_Name', 'State_Name', 'Estimate_2019']\n",
    "mask_series = counties_df.Land_Area.isnull()\n",
    "for row_index, row_series in counties_df[mask_series][columns_list].iterrows():\n",
    "    county_name = row_series.County_Name\n",
    "    state_name = row_series.State_Name\n",
    "    title_str = '{}, {}'.format(county_name, state_name)\n",
    "    print(title_str)\n",
    "    search_str = '+'.join(title_str.lower().split(' '))\n",
    "    url = 'https://www.google.com/search?q={}+land+area'.format(search_str)\n",
    "    !\"C:\\Program Files (x86)\\Google\\Chrome\\Application\\chrome.exe\" {url}\n",
    "    break"
   ]
  },
  {
   "cell_type": "markdown",
   "metadata": {},
   "source": [
    "\n",
    "---\n",
    "# Scrape the Data"
   ]
  },
  {
   "cell_type": "markdown",
   "metadata": {},
   "source": [
    "\n",
    "----\n",
    "## Create Density DataFrame"
   ]
  },
  {
   "cell_type": "code",
   "execution_count": 6,
   "metadata": {},
   "outputs": [],
   "source": [
    "\n",
    "counties_df = s.load_object('counties_df')\n",
    "state_groupby = counties_df.groupby('State_Name')\n",
    "weighted_density_dict = {}\n",
    "for state_name, state_df in state_groupby:\n",
    "    state_population = state_df.Estimate_2019.sum()\n",
    "    weighted_density = 0\n",
    "    for row_index, row_series in state_df.iterrows():\n",
    "        county_population = row_series.Estimate_2019\n",
    "        county_area = row_series.Land_Area\n",
    "        weighted_density += county_population**2/county_area\n",
    "    weighted_density /= state_population\n",
    "    weighted_density_dict[state_name] = weighted_density"
   ]
  },
  {
   "cell_type": "code",
   "execution_count": 10,
   "metadata": {},
   "outputs": [],
   "source": [
    "\n",
    "density_df = pd.DataFrame.from_dict(weighted_density_dict, orient='index', columns=['Weighted_Density'])\n",
    "density_df = pd.concat([states_stats_df.State_Abbreviation, density_df], axis='columns')\n",
    "density_df.set_index('State_Abbreviation', drop=True, inplace=True)"
   ]
  },
  {
   "cell_type": "code",
   "execution_count": 13,
   "metadata": {},
   "outputs": [],
   "source": [
    "\n",
    "# This is the standard population density calculation\n",
    "columns_list = ['State_Abbreviation', 'State_Population', 'Land_Area_sq_km']\n",
    "df = states_stats_df[columns_list]\n",
    "df.set_index('State_Abbreviation', drop=True, inplace=True)\n",
    "density_series = df.apply(lambda row_series: row_series.State_Population / row_series.Land_Area_sq_km, axis='columns')\n",
    "density_series.name = 'Standard_Population_Density'\n",
    "density_df = pd.concat([density_df, density_series], axis='columns')\n",
    "#density_series"
   ]
  },
  {
   "cell_type": "code",
   "execution_count": 9,
   "metadata": {},
   "outputs": [],
   "source": [
    "\n",
    "url = 'https://covidtracking.com/api/v1/states/daily.csv'\n",
    "states_deaths_series = pd.read_csv(url,\n",
    "                                   usecols=['date', 'state', 'death'],\n",
    "                                   parse_dates=['date'],\n",
    "                                   index_col=['state', 'date'],\n",
    "                                   squeeze=True).sort_index()\n",
    "states_deaths_series.fillna(value=0, inplace=True)\n",
    "states_deaths_series = states_deaths_series.map(lambda x: int(x))"
   ]
  },
  {
   "cell_type": "code",
   "execution_count": 10,
   "metadata": {},
   "outputs": [
    {
     "name": "stdout",
     "output_type": "stream",
     "text": [
      "AK hit 6 deaths on April 05. 10 days later, on April 15, AK had a death toll of 9.\n",
      "AL hit 6 deaths on March 30. 10 days later, on April 09, AL had a death toll of 74.\n",
      "AR hit 6 deaths on March 29. 10 days later, on April 08, AR had a death toll of 18.\n",
      "AZ hit 6 deaths on March 25. 10 days later, on April 04, AZ had a death toll of 52.\n",
      "CA hit 6 deaths on March 16. 10 days later, on March 26, CA had a death toll of 65.\n",
      "CO hit 6 deaths on March 23. 10 days later, on April 02, CO had a death toll of 80.\n",
      "CT hit 10 deaths on March 23. 10 days later, on April 02, CT had a death toll of 112.\n",
      "DC hit 9 deaths on March 30. 10 days later, on April 09, DC had a death toll of 32.\n",
      "DE hit 6 deaths on March 29. 10 days later, on April 08, DE had a death toll of 16.\n",
      "FL hit 6 deaths on March 17. 10 days later, on March 27, FL had a death toll of 34.\n",
      "GA hit 10 deaths on March 19. 10 days later, on March 29, GA had a death toll of 80.\n",
      "HI hit 6 deaths on April 10. 10 days later, on April 20, HI had a death toll of 10.\n",
      "IA hit 6 deaths on March 30. 10 days later, on April 09, IA had a death toll of 29.\n",
      "ID hit 6 deaths on March 30. 10 days later, on April 09, ID had a death toll of 18.\n",
      "IL hit 6 deaths on March 21. 10 days later, on March 31, IL had a death toll of 99.\n",
      "IN hit 6 deaths on March 22. 10 days later, on April 01, IN had a death toll of 65.\n",
      "KS hit 6 deaths on March 29. 10 days later, on April 08, KS had a death toll of 38.\n",
      "KY hit 6 deaths on March 27. 10 days later, on April 06, KY had a death toll of 45.\n",
      "LA hit 6 deaths on March 18. 10 days later, on March 28, LA had a death toll of 137.\n",
      "MA hit 7 deaths on March 21. 10 days later, on March 31, MA had a death toll of 153.\n",
      "MD hit 10 deaths on March 29. 10 days later, on April 08, MD had a death toll of 124.\n",
      "ME hit 7 deaths on April 01. 10 days later, on April 11, ME had a death toll of 19.\n",
      "MI hit 8 deaths on March 22. 10 days later, on April 01, MI had a death toll of 337.\n",
      "MN hit 9 deaths on March 29. 10 days later, on April 08, MN had a death toll of 39.\n",
      "MO hit 8 deaths on March 25. 10 days later, on April 04, MO had a death toll of 24.\n",
      "MS hit 6 deaths on March 26. 10 days later, on April 05, MS had a death toll of 43.\n",
      "MT hit 6 deaths on April 05. 10 days later, on April 15, MT had a death toll of 7.\n",
      "NC hit 6 deaths on March 30. 10 days later, on April 09, NC had a death toll of 65.\n",
      "ND hit 6 deaths on April 10. 10 days later, on April 20, ND had a death toll of 13.\n",
      "NE hit 6 deaths on April 03. 10 days later, on April 13, NE had a death toll of 17.\n",
      "NH hit 7 deaths on April 04. 10 days later, on April 14, NH had a death toll of 23.\n",
      "NJ hit 9 deaths on March 19. 10 days later, on March 29, NJ had a death toll of 161.\n",
      "NM hit 6 deaths on April 02. 10 days later, on April 12, NM had a death toll of 20.\n",
      "NV hit 6 deaths on March 25. 10 days later, on April 04, NV had a death toll of 46.\n",
      "NY hit 7 deaths on March 16. 10 days later, on March 26, NY had a death toll of 385.\n",
      "OH hit 6 deaths on March 23. 10 days later, on April 02, OH had a death toll of 81.\n",
      "OK hit 7 deaths on March 26. 10 days later, on April 05, OK had a death toll of 46.\n",
      "OR hit 8 deaths on March 24. 10 days later, on April 03, OR had a death toll of 22.\n",
      "PA hit 6 deaths on March 23. 10 days later, on April 02, PA had a death toll of 90.\n",
      "PR hit 6 deaths on March 30. 10 days later, on April 09, PR had a death toll of 33.\n",
      "RI hit 8 deaths on March 31. 10 days later, on April 10, RI had a death toll of 49.\n",
      "SC hit 7 deaths on March 25. 10 days later, on April 04, SC had a death toll of 40.\n",
      "SD hit 6 deaths on April 07. 10 days later, on April 17, SD had a death toll of 7.\n",
      "TN hit 6 deaths on March 27. 10 days later, on April 06, TN had a death toll of 65.\n",
      "TX hit 8 deaths on March 23. 10 days later, on April 02, TX had a death toll of 70.\n",
      "UT hit 7 deaths on April 01. 10 days later, on April 11, UT had a death toll of 18.\n",
      "VA hit 6 deaths on March 23. 10 days later, on April 02, VA had a death toll of 41.\n",
      "VT hit 7 deaths on March 24. 10 days later, on April 03, VT had a death toll of 17.\n",
      "WA hit 8 deaths on March 01. 10 days later, on March 11, WA had a death toll of 40.\n",
      "WI hit 7 deaths on March 25. 10 days later, on April 04, WI had a death toll of 56.\n",
      "WV hit 8 deaths on April 12. 10 days later, on April 22, WV had a death toll of 26.\n",
      "WY hit 6 deaths on April 21. 10 days later, on May 01, WY had a death toll of 7.\n"
     ]
    }
   ],
   "source": [
    "\n",
    "from datetime import timedelta\n",
    "\n",
    "f_str = '{} hit {} deaths on {}. 10 days later, on {}, {} had a death toll of {}.'\n",
    "rows_list = []\n",
    "for state_abbrev, deaths_series in states_deaths_series.groupby('state'):\n",
    "    i = deaths_series.searchsorted(5, side='right', sorter=None)\n",
    "    if i < len(deaths_series):\n",
    "        death_count = deaths_series[i]\n",
    "        index_tuple = deaths_series.index[i]\n",
    "        hit_date = index_tuple[1]\n",
    "        later_date = hit_date + timedelta(days=10)\n",
    "        mask_series = (deaths_series.index.get_level_values('date') >= later_date)\n",
    "        ds = deaths_series[mask_series]\n",
    "        #print(state_abbrev, death_count, ds.shape[0])\n",
    "        if ds.shape[0] > 0:\n",
    "            later_count = ds.iloc[0]\n",
    "            row_dict = {}\n",
    "            row_dict['State_Abbreviation'] = state_abbrev\n",
    "            row_dict['Later_Count'] = later_count\n",
    "            rows_list.append(row_dict.copy())\n",
    "            print(f_str.format(state_abbrev, death_count, hit_date.strftime('%B %d'),\n",
    "                               later_date.strftime('%B %d'), state_abbrev, later_count))\n",
    "density_df = pd.concat([density_df, pd.DataFrame(rows_list).set_index('State_Abbreviation', drop=True, inplace=False)], axis='columns')"
   ]
  },
  {
   "cell_type": "code",
   "execution_count": 11,
   "metadata": {},
   "outputs": [
    {
     "name": "stdout",
     "output_type": "stream",
     "text": [
      "Pickling to D:\\Documents\\Repositories\\notebooks\\covid19\\saves\\pickle\\density_df.pickle\n",
      "Saving to D:\\Documents\\Repositories\\notebooks\\covid19\\saves\\csv\\density_df.csv\n"
     ]
    }
   ],
   "source": [
    "\n",
    "s.store_objects(density_df=density_df)\n",
    "s.save_dataframes(include_index=True, density_df=density_df)"
   ]
  },
  {
   "cell_type": "markdown",
   "metadata": {},
   "source": [
    "\n",
    "----\n",
    "## Create Scraped Counties DataFrame"
   ]
  },
  {
   "cell_type": "code",
   "execution_count": 3,
   "metadata": {},
   "outputs": [],
   "source": [
    "\n",
    "from urllib.parse import unquote\n",
    "\n",
    "def get_scraped_df(tables_url, state_name, county_name):\n",
    "    tables_list = get_page_tables(tables_url, verbose=False)\n",
    "    df = tables_list[0].copy()\n",
    "    df.columns = ['column_name', 'column_value']\n",
    "    df['state_name'] = state_name\n",
    "    df['county_name'] = county_name\n",
    "    columns_list = ['state_name', 'county_name', 'column_name', 'column_value']\n",
    "    df = df[columns_list]\n",
    "    \n",
    "    return df"
   ]
  },
  {
   "cell_type": "code",
   "execution_count": 8,
   "metadata": {},
   "outputs": [
    {
     "data": {
      "application/vnd.jupyter.widget-view+json": {
       "model_id": "",
       "version_major": 2,
       "version_minor": 0
      },
      "text/plain": [
       "HBox(children=(FloatProgress(value=0.0, max=3142.0), HTML(value='')))"
      ]
     },
     "metadata": {},
     "output_type": "display_data"
    },
    {
     "name": "stdout",
     "output_type": "stream",
     "text": [
      "No tables found for Washington, D.C.\n",
      "\n",
      "Saving to D:\\Documents\\Repositories\\notebooks\\covid19\\saves\\csv\\scraped_counties_df.csv\n"
     ]
    },
    {
     "data": {
      "text/html": [
       "<div>\n",
       "<style scoped>\n",
       "    .dataframe tbody tr th:only-of-type {\n",
       "        vertical-align: middle;\n",
       "    }\n",
       "\n",
       "    .dataframe tbody tr th {\n",
       "        vertical-align: top;\n",
       "    }\n",
       "\n",
       "    .dataframe thead th {\n",
       "        text-align: right;\n",
       "    }\n",
       "</style>\n",
       "<table border=\"1\" class=\"dataframe\">\n",
       "  <thead>\n",
       "    <tr style=\"text-align: right;\">\n",
       "      <th></th>\n",
       "      <th>state_name</th>\n",
       "      <th>county_name</th>\n",
       "      <th>column_name</th>\n",
       "      <th>column_value</th>\n",
       "    </tr>\n",
       "  </thead>\n",
       "  <tbody>\n",
       "    <tr>\n",
       "      <th>0</th>\n",
       "      <td>Alabama</td>\n",
       "      <td>Autauga County</td>\n",
       "      <td>U.S. county</td>\n",
       "      <td>U.S. county</td>\n",
       "    </tr>\n",
       "    <tr>\n",
       "      <th>1</th>\n",
       "      <td>Alabama</td>\n",
       "      <td>Autauga County</td>\n",
       "      <td>Autauga County Courthouse in Prattville</td>\n",
       "      <td>Autauga County Courthouse in Prattville</td>\n",
       "    </tr>\n",
       "    <tr>\n",
       "      <th>2</th>\n",
       "      <td>Alabama</td>\n",
       "      <td>Autauga County</td>\n",
       "      <td>Location within the U.S. state of Alabama</td>\n",
       "      <td>Location within the U.S. state of Alabama</td>\n",
       "    </tr>\n",
       "    <tr>\n",
       "      <th>3</th>\n",
       "      <td>Alabama</td>\n",
       "      <td>Autauga County</td>\n",
       "      <td>Alabama's location within the U.S.</td>\n",
       "      <td>Alabama's location within the U.S.</td>\n",
       "    </tr>\n",
       "    <tr>\n",
       "      <th>4</th>\n",
       "      <td>Alabama</td>\n",
       "      <td>Autauga County</td>\n",
       "      <td>Coordinates: 32°32′12″N 86°38′54″W﻿ / ﻿32.5366...</td>\n",
       "      <td>Coordinates: 32°32′12″N 86°38′54″W﻿ / ﻿32.5366...</td>\n",
       "    </tr>\n",
       "    <tr>\n",
       "      <th>...</th>\n",
       "      <td>...</td>\n",
       "      <td>...</td>\n",
       "      <td>...</td>\n",
       "      <td>...</td>\n",
       "    </tr>\n",
       "    <tr>\n",
       "      <th>70733</th>\n",
       "      <td>Wyoming</td>\n",
       "      <td>Weston County</td>\n",
       "      <td>• Estimate (2019)</td>\n",
       "      <td>6927</td>\n",
       "    </tr>\n",
       "    <tr>\n",
       "      <th>70734</th>\n",
       "      <td>Wyoming</td>\n",
       "      <td>Weston County</td>\n",
       "      <td>Time zone</td>\n",
       "      <td>UTC−7 (Mountain)</td>\n",
       "    </tr>\n",
       "    <tr>\n",
       "      <th>70735</th>\n",
       "      <td>Wyoming</td>\n",
       "      <td>Weston County</td>\n",
       "      <td>• Summer (DST)</td>\n",
       "      <td>UTC−6 (MDT)</td>\n",
       "    </tr>\n",
       "    <tr>\n",
       "      <th>70736</th>\n",
       "      <td>Wyoming</td>\n",
       "      <td>Weston County</td>\n",
       "      <td>Congressional district</td>\n",
       "      <td>At-large</td>\n",
       "    </tr>\n",
       "    <tr>\n",
       "      <th>70737</th>\n",
       "      <td>Wyoming</td>\n",
       "      <td>Weston County</td>\n",
       "      <td>Website</td>\n",
       "      <td>westongov.com</td>\n",
       "    </tr>\n",
       "  </tbody>\n",
       "</table>\n",
       "<p>70738 rows × 4 columns</p>\n",
       "</div>"
      ],
      "text/plain": [
       "      state_name     county_name  \\\n",
       "0        Alabama  Autauga County   \n",
       "1        Alabama  Autauga County   \n",
       "2        Alabama  Autauga County   \n",
       "3        Alabama  Autauga County   \n",
       "4        Alabama  Autauga County   \n",
       "...          ...             ...   \n",
       "70733    Wyoming   Weston County   \n",
       "70734    Wyoming   Weston County   \n",
       "70735    Wyoming   Weston County   \n",
       "70736    Wyoming   Weston County   \n",
       "70737    Wyoming   Weston County   \n",
       "\n",
       "                                             column_name  \\\n",
       "0                                            U.S. county   \n",
       "1                Autauga County Courthouse in Prattville   \n",
       "2              Location within the U.S. state of Alabama   \n",
       "3                     Alabama's location within the U.S.   \n",
       "4      Coordinates: 32°32′12″N 86°38′54″W﻿ / ﻿32.5366...   \n",
       "...                                                  ...   \n",
       "70733                                  • Estimate (2019)   \n",
       "70734                                          Time zone   \n",
       "70735                                     • Summer (DST)   \n",
       "70736                             Congressional district   \n",
       "70737                                            Website   \n",
       "\n",
       "                                            column_value  \n",
       "0                                            U.S. county  \n",
       "1                Autauga County Courthouse in Prattville  \n",
       "2              Location within the U.S. state of Alabama  \n",
       "3                     Alabama's location within the U.S.  \n",
       "4      Coordinates: 32°32′12″N 86°38′54″W﻿ / ﻿32.5366...  \n",
       "...                                                  ...  \n",
       "70733                                               6927  \n",
       "70734                                   UTC−7 (Mountain)  \n",
       "70735                                        UTC−6 (MDT)  \n",
       "70736                                           At-large  \n",
       "70737                                      westongov.com  \n",
       "\n",
       "[70738 rows x 4 columns]"
      ]
     },
     "execution_count": 8,
     "metadata": {},
     "output_type": "execute_result"
    }
   ],
   "source": [
    "\n",
    "from tqdm import tqdm_notebook as tqdm\n",
    "\n",
    "counties_df = s.load_object('counties_df')\n",
    "pbar = tqdm(counties_df.iterrows(), total=counties_df.shape[0])\n",
    "columns_list = ['state_name', 'county_name', 'column_name', 'column_value']\n",
    "scraped_counties_df = s.load_object('scraped_counties_df')\n",
    "for row_index, row_series in pbar:\n",
    "    tables_url = row_series.Wikipedia_URL\n",
    "    title_str = '{}'.format(re.sub('_', ' ', tables_url.split('/')[-1]))\n",
    "    title_str = unquote(title_str)\n",
    "    pbar.set_description('{:<25}'.format(title_str)[:25])\n",
    "    state_name = row_series.State_Name\n",
    "    county_name = row_series.County_Name\n",
    "    mask_series = (scraped_counties_df.state_name == state_name) & (scraped_counties_df.county_name == county_name)\n",
    "    if scraped_counties_df[mask_series].shape[0] == 0:\n",
    "        try:\n",
    "            df = get_scraped_df(tables_url, state_name, county_name)\n",
    "            scraped_counties_df = pd.concat([scraped_counties_df, df], axis='index', ignore_index=True)\n",
    "            s.store_objects(verbose=False, scraped_counties_df=scraped_counties_df)\n",
    "        except ValueError as e:\n",
    "            message = str(e).strip()\n",
    "            print('{} for {}'.format(message, title_str))\n",
    "s.save_dataframes(include_index=False, scraped_counties_df=scraped_counties_df)\n",
    "scraped_counties_df"
   ]
  },
  {
   "cell_type": "code",
   "execution_count": 40,
   "metadata": {},
   "outputs": [
    {
     "name": "stdout",
     "output_type": "stream",
     "text": [
      "Pickling to D:\\Documents\\Repositories\\notebooks\\covid19\\saves\\pickle\\scraped_counties_df.pickle\n"
     ]
    },
    {
     "data": {
      "text/html": [
       "<div>\n",
       "<style scoped>\n",
       "    .dataframe tbody tr th:only-of-type {\n",
       "        vertical-align: middle;\n",
       "    }\n",
       "\n",
       "    .dataframe tbody tr th {\n",
       "        vertical-align: top;\n",
       "    }\n",
       "\n",
       "    .dataframe thead th {\n",
       "        text-align: right;\n",
       "    }\n",
       "</style>\n",
       "<table border=\"1\" class=\"dataframe\">\n",
       "  <thead>\n",
       "    <tr style=\"text-align: right;\">\n",
       "      <th></th>\n",
       "      <th>state_name</th>\n",
       "      <th>county_name</th>\n",
       "      <th>column_name</th>\n",
       "      <th>column_value</th>\n",
       "    </tr>\n",
       "  </thead>\n",
       "  <tbody>\n",
       "    <tr>\n",
       "      <th>39312</th>\n",
       "      <td>Nebraska</td>\n",
       "      <td>Stanton County</td>\n",
       "      <td>Population</td>\n",
       "      <td>Population</td>\n",
       "    </tr>\n",
       "    <tr>\n",
       "      <th>33699</th>\n",
       "      <td>Missouri</td>\n",
       "      <td>Audrain County</td>\n",
       "      <td>Coordinates: 39°13′N 91°50′W / 39.21°N 91.84°W</td>\n",
       "      <td>Coordinates: 39°13′N 91°50′W / 39.21°N 91.84°W</td>\n",
       "    </tr>\n",
       "    <tr>\n",
       "      <th>44154</th>\n",
       "      <td>North Carolina</td>\n",
       "      <td>Northampton County</td>\n",
       "      <td>Founded</td>\n",
       "      <td>1741</td>\n",
       "    </tr>\n",
       "    <tr>\n",
       "      <th>50390</th>\n",
       "      <td>Oregon</td>\n",
       "      <td>Yamhill County</td>\n",
       "      <td>• Total</td>\n",
       "      <td>718 sq mi (1,860 km2)</td>\n",
       "    </tr>\n",
       "    <tr>\n",
       "      <th>30103</th>\n",
       "      <td>Minnesota</td>\n",
       "      <td>Cass County</td>\n",
       "      <td>Minnesota's location within the U.S.</td>\n",
       "      <td>Minnesota's location within the U.S.</td>\n",
       "    </tr>\n",
       "    <tr>\n",
       "      <th>61509</th>\n",
       "      <td>Texas</td>\n",
       "      <td>Tyler County</td>\n",
       "      <td>Texas's location within the U.S.</td>\n",
       "      <td>Texas's location within the U.S.</td>\n",
       "    </tr>\n",
       "    <tr>\n",
       "      <th>59373</th>\n",
       "      <td>Texas</td>\n",
       "      <td>Kenedy County</td>\n",
       "      <td>Country</td>\n",
       "      <td>United States</td>\n",
       "    </tr>\n",
       "    <tr>\n",
       "      <th>15030</th>\n",
       "      <td>Illinois</td>\n",
       "      <td>Peoria County</td>\n",
       "      <td>Named for</td>\n",
       "      <td>Peoria tribe</td>\n",
       "    </tr>\n",
       "    <tr>\n",
       "      <th>25208</th>\n",
       "      <td>Kentucky</td>\n",
       "      <td>Wolfe County</td>\n",
       "      <td>• Land</td>\n",
       "      <td>222 sq mi (570 km2)</td>\n",
       "    </tr>\n",
       "    <tr>\n",
       "      <th>28079</th>\n",
       "      <td>Massachusetts</td>\n",
       "      <td>Worcester County</td>\n",
       "      <td>Location within the U.S. state of Massachusetts</td>\n",
       "      <td>Location within the U.S. state of Massachusetts</td>\n",
       "    </tr>\n",
       "  </tbody>\n",
       "</table>\n",
       "</div>"
      ],
      "text/plain": [
       "           state_name         county_name  \\\n",
       "39312        Nebraska      Stanton County   \n",
       "33699        Missouri      Audrain County   \n",
       "44154  North Carolina  Northampton County   \n",
       "50390          Oregon      Yamhill County   \n",
       "30103       Minnesota         Cass County   \n",
       "61509           Texas        Tyler County   \n",
       "59373           Texas       Kenedy County   \n",
       "15030        Illinois       Peoria County   \n",
       "25208        Kentucky        Wolfe County   \n",
       "28079   Massachusetts    Worcester County   \n",
       "\n",
       "                                           column_name  \\\n",
       "39312                                       Population   \n",
       "33699   Coordinates: 39°13′N 91°50′W / 39.21°N 91.84°W   \n",
       "44154                                          Founded   \n",
       "50390                                          • Total   \n",
       "30103             Minnesota's location within the U.S.   \n",
       "61509                 Texas's location within the U.S.   \n",
       "59373                                          Country   \n",
       "15030                                        Named for   \n",
       "25208                                           • Land   \n",
       "28079  Location within the U.S. state of Massachusetts   \n",
       "\n",
       "                                          column_value  \n",
       "39312                                       Population  \n",
       "33699   Coordinates: 39°13′N 91°50′W / 39.21°N 91.84°W  \n",
       "44154                                             1741  \n",
       "50390                            718 sq mi (1,860 km2)  \n",
       "30103             Minnesota's location within the U.S.  \n",
       "61509                 Texas's location within the U.S.  \n",
       "59373                                    United States  \n",
       "15030                                     Peoria tribe  \n",
       "25208                              222 sq mi (570 km2)  \n",
       "28079  Location within the U.S. state of Massachusetts  "
      ]
     },
     "execution_count": 40,
     "metadata": {},
     "output_type": "execute_result"
    }
   ],
   "source": [
    "\n",
    "clean = lambda x: re.sub('[\\ufeff\\xa0 ]+', ' ', str(x))\n",
    "columns_list = ['column_name', 'column_value']\n",
    "for cn in columns_list:\n",
    "    scraped_counties_df[cn] = scraped_counties_df[cn].map(clean)\n",
    "s.store_objects(verbose=True, scraped_counties_df=scraped_counties_df)\n",
    "scraped_counties_df.sample(10)"
   ]
  },
  {
   "cell_type": "code",
   "execution_count": 118,
   "metadata": {},
   "outputs": [
    {
     "name": "stdout",
     "output_type": "stream",
     "text": [
      "Pickling to D:\\Documents\\Repositories\\notebooks\\covid19\\saves\\pickle\\scraped_counties_df.pickle\n"
     ]
    },
    {
     "data": {
      "text/html": [
       "<div>\n",
       "<style scoped>\n",
       "    .dataframe tbody tr th:only-of-type {\n",
       "        vertical-align: middle;\n",
       "    }\n",
       "\n",
       "    .dataframe tbody tr th {\n",
       "        vertical-align: top;\n",
       "    }\n",
       "\n",
       "    .dataframe thead th {\n",
       "        text-align: right;\n",
       "    }\n",
       "</style>\n",
       "<table border=\"1\" class=\"dataframe\">\n",
       "  <thead>\n",
       "    <tr style=\"text-align: right;\">\n",
       "      <th></th>\n",
       "      <th>column_name</th>\n",
       "      <th>column_value</th>\n",
       "    </tr>\n",
       "  </thead>\n",
       "  <tbody>\n",
       "    <tr>\n",
       "      <th>27791</th>\n",
       "      <td>Population Estimate (2019)</td>\n",
       "      <td>212990</td>\n",
       "    </tr>\n",
       "    <tr>\n",
       "      <th>19156</th>\n",
       "      <td>State</td>\n",
       "      <td>Iowa</td>\n",
       "    </tr>\n",
       "    <tr>\n",
       "      <th>8587</th>\n",
       "      <td>Population Density</td>\n",
       "      <td>172/sq mi (66/km2)</td>\n",
       "    </tr>\n",
       "    <tr>\n",
       "      <th>41667</th>\n",
       "      <td>Founded</td>\n",
       "      <td>1799</td>\n",
       "    </tr>\n",
       "    <tr>\n",
       "      <th>44633</th>\n",
       "      <td>Named for</td>\n",
       "      <td>The Transylvania Company</td>\n",
       "    </tr>\n",
       "    <tr>\n",
       "      <th>37321</th>\n",
       "      <td>Population (2010)</td>\n",
       "      <td>Population (2010)</td>\n",
       "    </tr>\n",
       "    <tr>\n",
       "      <th>63353</th>\n",
       "      <td>Area Land</td>\n",
       "      <td>566 sq mi (1,470 km2)</td>\n",
       "    </tr>\n",
       "    <tr>\n",
       "      <th>28261</th>\n",
       "      <td>Area Water</td>\n",
       "      <td>24 sq mi (60 km2) 4.2%%</td>\n",
       "    </tr>\n",
       "    <tr>\n",
       "      <th>11405</th>\n",
       "      <td>Population Density</td>\n",
       "      <td>686/sq mi (265/km2)</td>\n",
       "    </tr>\n",
       "    <tr>\n",
       "      <th>48751</th>\n",
       "      <td>Population Estimate (2018)</td>\n",
       "      <td>3797</td>\n",
       "    </tr>\n",
       "    <tr>\n",
       "      <th>23834</th>\n",
       "      <td>Time zone Summer (DST)</td>\n",
       "      <td>UTC−4 (EDT)</td>\n",
       "    </tr>\n",
       "    <tr>\n",
       "      <th>67259</th>\n",
       "      <td>Area</td>\n",
       "      <td>Area</td>\n",
       "    </tr>\n",
       "    <tr>\n",
       "      <th>52397</th>\n",
       "      <td>Population (2010) Estimate (2018)</td>\n",
       "      <td>30599</td>\n",
       "    </tr>\n",
       "    <tr>\n",
       "      <th>63618</th>\n",
       "      <td>Population (2010) Total</td>\n",
       "      <td>46689</td>\n",
       "    </tr>\n",
       "    <tr>\n",
       "      <th>62510</th>\n",
       "      <td>Area Total</td>\n",
       "      <td>7,933 sq mi (20,550 km2)</td>\n",
       "    </tr>\n",
       "    <tr>\n",
       "      <th>32916</th>\n",
       "      <td>Area Water</td>\n",
       "      <td>1.5 sq mi (4 km2) 0.3%</td>\n",
       "    </tr>\n",
       "    <tr>\n",
       "      <th>12251</th>\n",
       "      <td>Government Council</td>\n",
       "      <td>Members[3]</td>\n",
       "    </tr>\n",
       "    <tr>\n",
       "      <th>36030</th>\n",
       "      <td>Coordinates: 38°46′N 91°10′W / 38.77°N 91.16°W</td>\n",
       "      <td>Coordinates: 38°46′N 91°10′W / 38.77°N 91.16°W</td>\n",
       "    </tr>\n",
       "    <tr>\n",
       "      <th>69959</th>\n",
       "      <td>Area Water</td>\n",
       "      <td>9.0 sq mi (23 km2) 1.2%%</td>\n",
       "    </tr>\n",
       "    <tr>\n",
       "      <th>38767</th>\n",
       "      <td>Seat</td>\n",
       "      <td>Tryon</td>\n",
       "    </tr>\n",
       "  </tbody>\n",
       "</table>\n",
       "</div>"
      ],
      "text/plain": [
       "                                          column_name  \\\n",
       "27791                      Population Estimate (2019)   \n",
       "19156                                           State   \n",
       "8587                               Population Density   \n",
       "41667                                         Founded   \n",
       "44633                                       Named for   \n",
       "37321                               Population (2010)   \n",
       "63353                                       Area Land   \n",
       "28261                                      Area Water   \n",
       "11405                              Population Density   \n",
       "48751                      Population Estimate (2018)   \n",
       "23834                          Time zone Summer (DST)   \n",
       "67259                                            Area   \n",
       "52397               Population (2010) Estimate (2018)   \n",
       "63618                         Population (2010) Total   \n",
       "62510                                      Area Total   \n",
       "32916                                      Area Water   \n",
       "12251                              Government Council   \n",
       "36030  Coordinates: 38°46′N 91°10′W / 38.77°N 91.16°W   \n",
       "69959                                      Area Water   \n",
       "38767                                            Seat   \n",
       "\n",
       "                                         column_value  \n",
       "27791                                          212990  \n",
       "19156                                            Iowa  \n",
       "8587                               172/sq mi (66/km2)  \n",
       "41667                                            1799  \n",
       "44633                        The Transylvania Company  \n",
       "37321                               Population (2010)  \n",
       "63353                           566 sq mi (1,470 km2)  \n",
       "28261                         24 sq mi (60 km2) 4.2%%  \n",
       "11405                             686/sq mi (265/km2)  \n",
       "48751                                            3797  \n",
       "23834                                     UTC−4 (EDT)  \n",
       "67259                                            Area  \n",
       "52397                                           30599  \n",
       "63618                                           46689  \n",
       "62510                        7,933 sq mi (20,550 km2)  \n",
       "32916                          1.5 sq mi (4 km2) 0.3%  \n",
       "12251                                      Members[3]  \n",
       "36030  Coordinates: 38°46′N 91°10′W / 38.77°N 91.16°W  \n",
       "69959                        9.0 sq mi (23 km2) 1.2%%  \n",
       "38767                                           Tryon  "
      ]
     },
     "execution_count": 118,
     "metadata": {},
     "output_type": "execute_result"
    }
   ],
   "source": [
    "\n",
    "import numpy as np\n",
    "\n",
    "def f(x):\n",
    "    if str(x).startswith('• '):\n",
    "        \n",
    "        return np.nan\n",
    "    \n",
    "    else:\n",
    "        \n",
    "        return x\n",
    "\n",
    "scraped_counties_df['super_category'] = scraped_counties_df.column_name.map(f)\n",
    "scraped_counties_df.super_category.ffill(inplace=True)\n",
    "\n",
    "def f(row_series):\n",
    "    column_name = row_series['column_name']\n",
    "    if str(column_name).startswith('• '):\n",
    "        row_series['column_name'] = row_series['super_category'] + column_name[1:]\n",
    "    \n",
    "    return row_series\n",
    "\n",
    "scraped_counties_df = scraped_counties_df.apply(f, axis='columns')\n",
    "columns_list = ['state_name', 'county_name', 'column_name', 'column_value']\n",
    "scraped_counties_df = scraped_counties_df[columns_list]\n",
    "s.store_objects(verbose=True, scraped_counties_df=scraped_counties_df)\n",
    "columns_list = ['column_name', 'column_value']\n",
    "scraped_counties_df[columns_list].sample(20)"
   ]
  },
  {
   "cell_type": "code",
   "execution_count": 139,
   "metadata": {},
   "outputs": [
    {
     "data": {
      "text/plain": [
       "['Area Land', 'Area Water', 'Area Total', 'Time zone', 'Time zone Summer (DST)', 'Founded', 'Seat', 'Website', 'Congressional district', 'Largest city', 'Named for', 'Population (2010)', 'Population (2010) Density', 'Population (2010) Total', 'Population', 'Population Density', 'Population Estimate (2018)', 'Population (2010) Estimate (2018)', 'Population (2010) Estimate (2019)', 'County']"
      ]
     },
     "execution_count": 139,
     "metadata": {},
     "output_type": "execute_result"
    }
   ],
   "source": [
    "\n",
    "scraped_counties_df = s.load_object('scraped_counties_df')\n",
    "scraped_counties_df.column_name.value_counts().head(20).index.tolist()"
   ]
  },
  {
   "cell_type": "code",
   "execution_count": 123,
   "metadata": {},
   "outputs": [
    {
     "name": "stdout",
     "output_type": "stream",
     "text": [
      "Pickling to D:\\Documents\\Repositories\\notebooks\\covid19\\saves\\pickle\\scraped_counties_df.pickle\n"
     ]
    }
   ],
   "source": [
    "\n",
    "scraped_counties_df = s.load_object('scraped_counties_df')\n",
    "mask_series = (scraped_counties_df.column_name == 'Country')\n",
    "scraped_counties_df = scraped_counties_df[~mask_series]\n",
    "s.store_objects(verbose=True, scraped_counties_df=scraped_counties_df)"
   ]
  },
  {
   "cell_type": "code",
   "execution_count": 126,
   "metadata": {},
   "outputs": [
    {
     "name": "stdout",
     "output_type": "stream",
     "text": [
      "Pickling to D:\\Documents\\Repositories\\notebooks\\covid19\\saves\\pickle\\scraped_counties_df.pickle\n"
     ]
    }
   ],
   "source": [
    "\n",
    "scraped_counties_df = s.load_object('scraped_counties_df')\n",
    "mask_series = (scraped_counties_df.column_name == 'State')\n",
    "scraped_counties_df = scraped_counties_df[~mask_series]\n",
    "s.store_objects(verbose=True, scraped_counties_df=scraped_counties_df)"
   ]
  },
  {
   "cell_type": "code",
   "execution_count": 129,
   "metadata": {},
   "outputs": [
    {
     "name": "stdout",
     "output_type": "stream",
     "text": [
      "Pickling to D:\\Documents\\Repositories\\notebooks\\covid19\\saves\\pickle\\scraped_counties_df.pickle\n"
     ]
    }
   ],
   "source": [
    "\n",
    "scraped_counties_df = s.load_object('scraped_counties_df')\n",
    "mask_series = (scraped_counties_df.column_name == 'Area')\n",
    "scraped_counties_df = scraped_counties_df[~mask_series]\n",
    "s.store_objects(verbose=True, scraped_counties_df=scraped_counties_df)"
   ]
  },
  {
   "cell_type": "code",
   "execution_count": 133,
   "metadata": {},
   "outputs": [
    {
     "name": "stdout",
     "output_type": "stream",
     "text": [
      "Pickling to D:\\Documents\\Repositories\\notebooks\\covid19\\saves\\pickle\\scraped_counties_df.pickle\n"
     ]
    }
   ],
   "source": [
    "\n",
    "scraped_counties_df = s.load_object('scraped_counties_df')\n",
    "mask_series = (scraped_counties_df.column_name == 'U.S. county')\n",
    "scraped_counties_df = scraped_counties_df[~mask_series]\n",
    "s.store_objects(verbose=True, scraped_counties_df=scraped_counties_df)"
   ]
  },
  {
   "cell_type": "code",
   "execution_count": 138,
   "metadata": {},
   "outputs": [
    {
     "name": "stdout",
     "output_type": "stream",
     "text": [
      "Pickling to D:\\Documents\\Repositories\\notebooks\\covid19\\saves\\pickle\\scraped_counties_df.pickle\n"
     ]
    }
   ],
   "source": [
    "\n",
    "scraped_counties_df = s.load_object('scraped_counties_df')\n",
    "mask_series = (scraped_counties_df.column_name == 'Seal')\n",
    "scraped_counties_df = scraped_counties_df[~mask_series]\n",
    "s.store_objects(verbose=True, scraped_counties_df=scraped_counties_df)"
   ]
  },
  {
   "cell_type": "code",
   "execution_count": 150,
   "metadata": {},
   "outputs": [
    {
     "name": "stdout",
     "output_type": "stream",
     "text": [
      "Pickling to D:\\Documents\\Repositories\\notebooks\\covid19\\saves\\pickle\\scraped_counties_df.pickle\n"
     ]
    }
   ],
   "source": [
    "\n",
    "scraped_counties_df = s.load_object('scraped_counties_df')\n",
    "def f(row_series):\n",
    "    column_name = row_series['column_name']\n",
    "    column_value = row_series['column_value']\n",
    "    if str(column_name) == str(column_value):\n",
    "        return_value = True\n",
    "    else:\n",
    "        return_value = False\n",
    "    \n",
    "    return return_value\n",
    "\n",
    "mask_series = scraped_counties_df.apply(f, axis='columns')\n",
    "def f(column_name):\n",
    "    if str(column_name).startswith('Coordinates:'):\n",
    "        return_value = True\n",
    "    else:\n",
    "        return_value = False\n",
    "    \n",
    "    return return_value\n",
    "\n",
    "mask_series = mask_series & scraped_counties_df.column_name.map(f)\n",
    "def f(cs):\n",
    "    \n",
    "    return cs.split('Coordinates:')[1].strip()\n",
    "\n",
    "scraped_counties_df.loc[mask_series, 'column_value'] = scraped_counties_df[mask_series].column_value.map(f)\n",
    "scraped_counties_df.loc[mask_series, 'column_name'] = 'Coordinates'\n",
    "s.store_objects(verbose=True, scraped_counties_df=scraped_counties_df)"
   ]
  },
  {
   "cell_type": "code",
   "execution_count": 155,
   "metadata": {},
   "outputs": [
    {
     "name": "stdout",
     "output_type": "stream",
     "text": [
      "Pickling to D:\\Documents\\Repositories\\notebooks\\covid19\\saves\\pickle\\scraped_counties_df.pickle\n"
     ]
    }
   ],
   "source": [
    "\n",
    "scraped_counties_df = s.load_object('scraped_counties_df')\n",
    "mask_series = (scraped_counties_df.column_name == 'Population (2010)')\n",
    "scraped_counties_df = scraped_counties_df[~mask_series]\n",
    "s.store_objects(verbose=True, scraped_counties_df=scraped_counties_df)"
   ]
  },
  {
   "cell_type": "code",
   "execution_count": 158,
   "metadata": {},
   "outputs": [
    {
     "name": "stdout",
     "output_type": "stream",
     "text": [
      "Pickling to D:\\Documents\\Repositories\\notebooks\\covid19\\saves\\pickle\\scraped_counties_df.pickle\n"
     ]
    }
   ],
   "source": [
    "\n",
    "scraped_counties_df = s.load_object('scraped_counties_df')\n",
    "mask_series = (scraped_counties_df.column_name == 'Population')\n",
    "scraped_counties_df = scraped_counties_df[~mask_series]\n",
    "s.store_objects(verbose=True, scraped_counties_df=scraped_counties_df)"
   ]
  },
  {
   "cell_type": "code",
   "execution_count": 162,
   "metadata": {},
   "outputs": [
    {
     "name": "stdout",
     "output_type": "stream",
     "text": [
      "Pickling to D:\\Documents\\Repositories\\notebooks\\covid19\\saves\\pickle\\scraped_counties_df.pickle\n"
     ]
    }
   ],
   "source": [
    "\n",
    "scraped_counties_df = s.load_object('scraped_counties_df')\n",
    "def f(row_series):\n",
    "    column_name = row_series['column_name']\n",
    "    column_value = row_series['column_value']\n",
    "    if str(column_name) == str(column_value):\n",
    "        return_value = True\n",
    "    else:\n",
    "        return_value = False\n",
    "    \n",
    "    return return_value\n",
    "\n",
    "mask_series = scraped_counties_df.apply(f, axis='columns')\n",
    "def f(cs):\n",
    "    \n",
    "    return 'ocation within ' in str(cs)\n",
    "\n",
    "mask_series = mask_series & scraped_counties_df.column_name.map(f)\n",
    "scraped_counties_df = scraped_counties_df[~mask_series]\n",
    "s.store_objects(verbose=True, scraped_counties_df=scraped_counties_df)"
   ]
  },
  {
   "cell_type": "code",
   "execution_count": 165,
   "metadata": {},
   "outputs": [
    {
     "name": "stdout",
     "output_type": "stream",
     "text": [
      "Pickling to D:\\Documents\\Repositories\\notebooks\\covid19\\saves\\pickle\\scraped_counties_df.pickle\n"
     ]
    }
   ],
   "source": [
    "\n",
    "scraped_counties_df = s.load_object('scraped_counties_df')\n",
    "mask_series = (scraped_counties_df.column_name == 'FlagSeal')\n",
    "scraped_counties_df = scraped_counties_df[~mask_series]\n",
    "s.store_objects(verbose=True, scraped_counties_df=scraped_counties_df)"
   ]
  },
  {
   "cell_type": "code",
   "execution_count": 168,
   "metadata": {},
   "outputs": [
    {
     "name": "stdout",
     "output_type": "stream",
     "text": [
      "Pickling to D:\\Documents\\Repositories\\notebooks\\covid19\\saves\\pickle\\scraped_counties_df.pickle\n"
     ]
    }
   ],
   "source": [
    "\n",
    "scraped_counties_df = s.load_object('scraped_counties_df')\n",
    "mask_series = (scraped_counties_df.column_name == 'Government')\n",
    "scraped_counties_df = scraped_counties_df[~mask_series]\n",
    "s.store_objects(verbose=True, scraped_counties_df=scraped_counties_df)"
   ]
  },
  {
   "cell_type": "code",
   "execution_count": 172,
   "metadata": {},
   "outputs": [
    {
     "name": "stdout",
     "output_type": "stream",
     "text": [
      "Pickling to D:\\Documents\\Repositories\\notebooks\\covid19\\saves\\pickle\\scraped_counties_df.pickle\n"
     ]
    }
   ],
   "source": [
    "\n",
    "scraped_counties_df = s.load_object('scraped_counties_df')\n",
    "mask_series = (scraped_counties_df.column_name == 'Flag')\n",
    "scraped_counties_df = scraped_counties_df[~mask_series]\n",
    "s.store_objects(verbose=True, scraped_counties_df=scraped_counties_df)"
   ]
  },
  {
   "cell_type": "code",
   "execution_count": 175,
   "metadata": {},
   "outputs": [
    {
     "name": "stdout",
     "output_type": "stream",
     "text": [
      "Pickling to D:\\Documents\\Repositories\\notebooks\\covid19\\saves\\pickle\\scraped_counties_df.pickle\n"
     ]
    }
   ],
   "source": [
    "\n",
    "scraped_counties_df = s.load_object('scraped_counties_df')\n",
    "mask_series = (scraped_counties_df.column_name == 'nan')\n",
    "scraped_counties_df = scraped_counties_df[~mask_series]\n",
    "s.store_objects(verbose=True, scraped_counties_df=scraped_counties_df)"
   ]
  },
  {
   "cell_type": "code",
   "execution_count": 178,
   "metadata": {},
   "outputs": [
    {
     "name": "stdout",
     "output_type": "stream",
     "text": [
      "Pickling to D:\\Documents\\Repositories\\notebooks\\covid19\\saves\\pickle\\scraped_counties_df.pickle\n"
     ]
    }
   ],
   "source": [
    "\n",
    "scraped_counties_df = s.load_object('scraped_counties_df')\n",
    "mask_series = (scraped_counties_df.column_name == \"California's location in the United States\")\n",
    "scraped_counties_df = scraped_counties_df[~mask_series]\n",
    "s.store_objects(verbose=True, scraped_counties_df=scraped_counties_df)"
   ]
  },
  {
   "cell_type": "code",
   "execution_count": 182,
   "metadata": {},
   "outputs": [
    {
     "name": "stdout",
     "output_type": "stream",
     "text": [
      "Pickling to D:\\Documents\\Repositories\\notebooks\\covid19\\saves\\pickle\\scraped_counties_df.pickle\n"
     ]
    }
   ],
   "source": [
    "\n",
    "scraped_counties_df = s.load_object('scraped_counties_df')\n",
    "mask_series = (scraped_counties_df.column_name == 'Location in the state of California')\n",
    "scraped_counties_df = scraped_counties_df[~mask_series]\n",
    "s.store_objects(verbose=True, scraped_counties_df=scraped_counties_df)"
   ]
  },
  {
   "cell_type": "code",
   "execution_count": 185,
   "metadata": {},
   "outputs": [
    {
     "name": "stdout",
     "output_type": "stream",
     "text": [
      "Pickling to D:\\Documents\\Repositories\\notebooks\\covid19\\saves\\pickle\\scraped_counties_df.pickle\n"
     ]
    }
   ],
   "source": [
    "\n",
    "scraped_counties_df = s.load_object('scraped_counties_df')\n",
    "mask_series = (scraped_counties_df.column_name == 'Area[1]')\n",
    "scraped_counties_df = scraped_counties_df[~mask_series]\n",
    "s.store_objects(verbose=True, scraped_counties_df=scraped_counties_df)"
   ]
  },
  {
   "cell_type": "code",
   "execution_count": 188,
   "metadata": {},
   "outputs": [
    {
     "name": "stdout",
     "output_type": "stream",
     "text": [
      "Pickling to D:\\Documents\\Repositories\\notebooks\\covid19\\saves\\pickle\\scraped_counties_df.pickle\n"
     ]
    }
   ],
   "source": [
    "\n",
    "scraped_counties_df = s.load_object('scraped_counties_df')\n",
    "mask_series = (scraped_counties_df.column_name == 'Pennsylvania Historical Marker')\n",
    "scraped_counties_df = scraped_counties_df[~mask_series]\n",
    "s.store_objects(verbose=True, scraped_counties_df=scraped_counties_df)"
   ]
  },
  {
   "cell_type": "code",
   "execution_count": 191,
   "metadata": {},
   "outputs": [
    {
     "name": "stdout",
     "output_type": "stream",
     "text": [
      "Pickling to D:\\Documents\\Repositories\\notebooks\\covid19\\saves\\pickle\\scraped_counties_df.pickle\n"
     ]
    }
   ],
   "source": [
    "\n",
    "scraped_counties_df = s.load_object('scraped_counties_df')\n",
    "mask_series = (scraped_counties_df.column_name == 'Population (April 1, 2010)[3]')\n",
    "scraped_counties_df = scraped_counties_df[~mask_series]\n",
    "s.store_objects(verbose=True, scraped_counties_df=scraped_counties_df)"
   ]
  },
  {
   "cell_type": "code",
   "execution_count": 195,
   "metadata": {},
   "outputs": [
    {
     "name": "stdout",
     "output_type": "stream",
     "text": [
      "Pickling to D:\\Documents\\Repositories\\notebooks\\covid19\\saves\\pickle\\scraped_counties_df.pickle\n"
     ]
    }
   ],
   "source": [
    "\n",
    "scraped_counties_df = s.load_object('scraped_counties_df')\n",
    "mask_series = (scraped_counties_df.column_name == 'Logo')\n",
    "scraped_counties_df = scraped_counties_df[~mask_series]\n",
    "s.store_objects(verbose=True, scraped_counties_df=scraped_counties_df)"
   ]
  },
  {
   "cell_type": "code",
   "execution_count": 198,
   "metadata": {},
   "outputs": [
    {
     "name": "stdout",
     "output_type": "stream",
     "text": [
      "Pickling to D:\\Documents\\Repositories\\notebooks\\covid19\\saves\\pickle\\scraped_counties_df.pickle\n"
     ]
    }
   ],
   "source": [
    "\n",
    "scraped_counties_df = s.load_object('scraped_counties_df')\n",
    "mask_series = (scraped_counties_df.column_name == 'Area[2]')\n",
    "scraped_counties_df = scraped_counties_df[~mask_series]\n",
    "s.store_objects(verbose=True, scraped_counties_df=scraped_counties_df)"
   ]
  },
  {
   "cell_type": "code",
   "execution_count": 201,
   "metadata": {},
   "outputs": [
    {
     "name": "stdout",
     "output_type": "stream",
     "text": [
      "Pickling to D:\\Documents\\Repositories\\notebooks\\covid19\\saves\\pickle\\scraped_counties_df.pickle\n"
     ]
    }
   ],
   "source": [
    "\n",
    "scraped_counties_df = s.load_object('scraped_counties_df')\n",
    "mask_series = (scraped_counties_df.column_name == 'Population (April 1, 2010)[2]')\n",
    "scraped_counties_df = scraped_counties_df[~mask_series]\n",
    "s.store_objects(verbose=True, scraped_counties_df=scraped_counties_df)"
   ]
  },
  {
   "cell_type": "code",
   "execution_count": 204,
   "metadata": {},
   "outputs": [
    {
     "name": "stdout",
     "output_type": "stream",
     "text": [
      "Pickling to D:\\Documents\\Repositories\\notebooks\\covid19\\saves\\pickle\\scraped_counties_df.pickle\n"
     ]
    }
   ],
   "source": [
    "\n",
    "scraped_counties_df = s.load_object('scraped_counties_df')\n",
    "mask_series = (scraped_counties_df.column_name == 'Consolidated city-county')\n",
    "scraped_counties_df = scraped_counties_df[~mask_series]\n",
    "s.store_objects(verbose=True, scraped_counties_df=scraped_counties_df)"
   ]
  },
  {
   "cell_type": "code",
   "execution_count": 207,
   "metadata": {},
   "outputs": [
    {
     "name": "stdout",
     "output_type": "stream",
     "text": [
      "Pickling to D:\\Documents\\Repositories\\notebooks\\covid19\\saves\\pickle\\scraped_counties_df.pickle\n"
     ]
    }
   ],
   "source": [
    "\n",
    "scraped_counties_df = s.load_object('scraped_counties_df')\n",
    "mask_series = (scraped_counties_df.column_name == 'SealLogo')\n",
    "scraped_counties_df = scraped_counties_df[~mask_series]\n",
    "s.store_objects(verbose=True, scraped_counties_df=scraped_counties_df)"
   ]
  },
  {
   "cell_type": "code",
   "execution_count": 211,
   "metadata": {},
   "outputs": [
    {
     "name": "stdout",
     "output_type": "stream",
     "text": [
      "Pickling to D:\\Documents\\Repositories\\notebooks\\covid19\\saves\\pickle\\scraped_counties_df.pickle\n"
     ]
    }
   ],
   "source": [
    "\n",
    "scraped_counties_df = s.load_object('scraped_counties_df')\n",
    "mask_series = (scraped_counties_df.column_name == 'Washington County Courthouse')\n",
    "scraped_counties_df = scraped_counties_df[~mask_series]\n",
    "s.store_objects(verbose=True, scraped_counties_df=scraped_counties_df)"
   ]
  },
  {
   "cell_type": "code",
   "execution_count": 214,
   "metadata": {},
   "outputs": [
    {
     "name": "stdout",
     "output_type": "stream",
     "text": [
      "Pickling to D:\\Documents\\Repositories\\notebooks\\covid19\\saves\\pickle\\scraped_counties_df.pickle\n"
     ]
    }
   ],
   "source": [
    "\n",
    "scraped_counties_df = s.load_object('scraped_counties_df')\n",
    "mask_series = (scraped_counties_df.column_name == 'Location in the U.S. state of California')\n",
    "scraped_counties_df = scraped_counties_df[~mask_series]\n",
    "s.store_objects(verbose=True, scraped_counties_df=scraped_counties_df)"
   ]
  },
  {
   "cell_type": "code",
   "execution_count": 217,
   "metadata": {},
   "outputs": [
    {
     "name": "stdout",
     "output_type": "stream",
     "text": [
      "Pickling to D:\\Documents\\Repositories\\notebooks\\covid19\\saves\\pickle\\scraped_counties_df.pickle\n"
     ]
    }
   ],
   "source": [
    "\n",
    "scraped_counties_df = s.load_object('scraped_counties_df')\n",
    "mask_series = (scraped_counties_df.column_name == 'County of Connecticut')\n",
    "scraped_counties_df = scraped_counties_df[~mask_series]\n",
    "s.store_objects(verbose=True, scraped_counties_df=scraped_counties_df)"
   ]
  },
  {
   "cell_type": "code",
   "execution_count": 219,
   "metadata": {},
   "outputs": [
    {
     "name": "stdout",
     "output_type": "stream",
     "text": [
      "Pickling to D:\\Documents\\Repositories\\notebooks\\covid19\\saves\\pickle\\scraped_counties_df.pickle\n"
     ]
    }
   ],
   "source": [
    "\n",
    "scraped_counties_df = s.load_object('scraped_counties_df')\n",
    "def f(row_series):\n",
    "    column_name = row_series['column_name']\n",
    "    column_value = row_series['column_value']\n",
    "    if str(column_name) == str(column_value):\n",
    "        return_value = True\n",
    "    else:\n",
    "        return_value = False\n",
    "    \n",
    "    return return_value\n",
    "\n",
    "mask_series = scraped_counties_df.apply(f, axis='columns')\n",
    "def f(cs):\n",
    "    \n",
    "    return 'ocation in the ' in str(cs)\n",
    "\n",
    "mask_series = mask_series & scraped_counties_df.column_name.map(f)\n",
    "scraped_counties_df = scraped_counties_df[~mask_series]\n",
    "s.store_objects(verbose=True, scraped_counties_df=scraped_counties_df)"
   ]
  },
  {
   "cell_type": "code",
   "execution_count": 222,
   "metadata": {},
   "outputs": [
    {
     "name": "stdout",
     "output_type": "stream",
     "text": [
      "Pickling to D:\\Documents\\Repositories\\notebooks\\covid19\\saves\\pickle\\scraped_counties_df.pickle\n"
     ]
    }
   ],
   "source": [
    "\n",
    "scraped_counties_df = s.load_object('scraped_counties_df')\n",
    "mask_series = (scraped_counties_df.column_name == 'FlagSealLogo')\n",
    "scraped_counties_df = scraped_counties_df[~mask_series]\n",
    "s.store_objects(verbose=True, scraped_counties_df=scraped_counties_df)"
   ]
  },
  {
   "cell_type": "code",
   "execution_count": 225,
   "metadata": {},
   "outputs": [
    {
     "name": "stdout",
     "output_type": "stream",
     "text": [
      "Pickling to D:\\Documents\\Repositories\\notebooks\\covid19\\saves\\pickle\\scraped_counties_df.pickle\n"
     ]
    }
   ],
   "source": [
    "\n",
    "scraped_counties_df = s.load_object('scraped_counties_df')\n",
    "mask_series = (scraped_counties_df.column_name == 'Adams County Courthouse')\n",
    "scraped_counties_df = scraped_counties_df[~mask_series]\n",
    "s.store_objects(verbose=True, scraped_counties_df=scraped_counties_df)"
   ]
  },
  {
   "cell_type": "code",
   "execution_count": 228,
   "metadata": {},
   "outputs": [
    {
     "name": "stdout",
     "output_type": "stream",
     "text": [
      "Pickling to D:\\Documents\\Repositories\\notebooks\\covid19\\saves\\pickle\\scraped_counties_df.pickle\n"
     ]
    }
   ],
   "source": [
    "\n",
    "scraped_counties_df = s.load_object('scraped_counties_df')\n",
    "mask_series = (scraped_counties_df.column_name == 'County courthouse')\n",
    "scraped_counties_df = scraped_counties_df[~mask_series]\n",
    "s.store_objects(verbose=True, scraped_counties_df=scraped_counties_df)"
   ]
  },
  {
   "cell_type": "code",
   "execution_count": 231,
   "metadata": {},
   "outputs": [
    {
     "name": "stdout",
     "output_type": "stream",
     "text": [
      "Pickling to D:\\Documents\\Repositories\\notebooks\\covid19\\saves\\pickle\\scraped_counties_df.pickle\n"
     ]
    }
   ],
   "source": [
    "\n",
    "scraped_counties_df = s.load_object('scraped_counties_df')\n",
    "mask_series = (scraped_counties_df.column_name == 'Henry County Courthouse')\n",
    "scraped_counties_df = scraped_counties_df[~mask_series]\n",
    "s.store_objects(verbose=True, scraped_counties_df=scraped_counties_df)"
   ]
  },
  {
   "cell_type": "code",
   "execution_count": 234,
   "metadata": {},
   "outputs": [
    {
     "name": "stdout",
     "output_type": "stream",
     "text": [
      "Pickling to D:\\Documents\\Repositories\\notebooks\\covid19\\saves\\pickle\\scraped_counties_df.pickle\n"
     ]
    }
   ],
   "source": [
    "\n",
    "scraped_counties_df = s.load_object('scraped_counties_df')\n",
    "mask_series = (scraped_counties_df.column_name == 'Borough and county')\n",
    "scraped_counties_df = scraped_counties_df[~mask_series]\n",
    "s.store_objects(verbose=True, scraped_counties_df=scraped_counties_df)"
   ]
  },
  {
   "cell_type": "code",
   "execution_count": 236,
   "metadata": {},
   "outputs": [
    {
     "name": "stdout",
     "output_type": "stream",
     "text": [
      "Pickling to D:\\Documents\\Repositories\\notebooks\\covid19\\saves\\pickle\\scraped_counties_df.pickle\n"
     ]
    }
   ],
   "source": [
    "\n",
    "scraped_counties_df = s.load_object('scraped_counties_df')\n",
    "def f(row_series):\n",
    "    column_name = row_series['column_name']\n",
    "    column_value = row_series['column_value']\n",
    "    if str(column_name) == str(column_value):\n",
    "        return_value = True\n",
    "    else:\n",
    "        return_value = False\n",
    "    \n",
    "    return return_value\n",
    "\n",
    "mask_series = scraped_counties_df.apply(f, axis='columns')\n",
    "def f(cs):\n",
    "    \n",
    "    return str(cs).startswith('Population ')\n",
    "\n",
    "mask_series = mask_series & scraped_counties_df.column_name.map(f)\n",
    "scraped_counties_df = scraped_counties_df[~mask_series]\n",
    "s.store_objects(verbose=True, scraped_counties_df=scraped_counties_df)"
   ]
  },
  {
   "cell_type": "code",
   "execution_count": 239,
   "metadata": {},
   "outputs": [
    {
     "name": "stdout",
     "output_type": "stream",
     "text": [
      "Pickling to D:\\Documents\\Repositories\\notebooks\\covid19\\saves\\pickle\\scraped_counties_df.pickle\n"
     ]
    }
   ],
   "source": [
    "\n",
    "scraped_counties_df = s.load_object('scraped_counties_df')\n",
    "def f(row_series):\n",
    "    column_name = row_series['column_name']\n",
    "    column_value = row_series['column_value']\n",
    "    if str(column_name) == str(column_value):\n",
    "        return_value = True\n",
    "    else:\n",
    "        return_value = False\n",
    "    \n",
    "    return return_value\n",
    "\n",
    "mask_series = scraped_counties_df.apply(f, axis='columns')\n",
    "def f(cs):\n",
    "    \n",
    "    return str(cs).endswith(' Courthouse')\n",
    "\n",
    "mask_series = mask_series & scraped_counties_df.column_name.map(f)\n",
    "scraped_counties_df = scraped_counties_df[~mask_series]\n",
    "s.store_objects(verbose=True, scraped_counties_df=scraped_counties_df)"
   ]
  },
  {
   "cell_type": "code",
   "execution_count": 242,
   "metadata": {},
   "outputs": [
    {
     "name": "stdout",
     "output_type": "stream",
     "text": [
      "Pickling to D:\\Documents\\Repositories\\notebooks\\covid19\\saves\\pickle\\scraped_counties_df.pickle\n"
     ]
    }
   ],
   "source": [
    "\n",
    "scraped_counties_df = s.load_object('scraped_counties_df')\n",
    "mask_series = (scraped_counties_df.column_name == 'FlagLogo')\n",
    "scraped_counties_df = scraped_counties_df[~mask_series]\n",
    "s.store_objects(verbose=True, scraped_counties_df=scraped_counties_df)"
   ]
  },
  {
   "cell_type": "code",
   "execution_count": 245,
   "metadata": {},
   "outputs": [
    {
     "name": "stdout",
     "output_type": "stream",
     "text": [
      "Pickling to D:\\Documents\\Repositories\\notebooks\\covid19\\saves\\pickle\\scraped_counties_df.pickle\n"
     ]
    }
   ],
   "source": [
    "\n",
    "scraped_counties_df = s.load_object('scraped_counties_df')\n",
    "def f(row_series):\n",
    "    column_name = row_series['column_name']\n",
    "    column_value = row_series['column_value']\n",
    "    if str(column_name) == str(column_value):\n",
    "        return_value = True\n",
    "    else:\n",
    "        return_value = False\n",
    "    \n",
    "    return return_value\n",
    "\n",
    "mask_series = scraped_counties_df.apply(f, axis='columns')\n",
    "def f(cs):\n",
    "    \n",
    "    return str(cs).startswith('Area[')\n",
    "\n",
    "mask_series = mask_series & scraped_counties_df.column_name.map(f)\n",
    "scraped_counties_df = scraped_counties_df[~mask_series]\n",
    "s.store_objects(verbose=True, scraped_counties_df=scraped_counties_df)"
   ]
  },
  {
   "cell_type": "code",
   "execution_count": 248,
   "metadata": {},
   "outputs": [
    {
     "name": "stdout",
     "output_type": "stream",
     "text": [
      "Pickling to D:\\Documents\\Repositories\\notebooks\\covid19\\saves\\pickle\\scraped_counties_df.pickle\n"
     ]
    }
   ],
   "source": [
    "\n",
    "scraped_counties_df = s.load_object('scraped_counties_df')\n",
    "def f(row_series):\n",
    "    column_name = row_series['column_name']\n",
    "    column_value = row_series['column_value']\n",
    "    if str(column_name) == str(column_value):\n",
    "        return_value = True\n",
    "    else:\n",
    "        return_value = False\n",
    "    \n",
    "    return return_value\n",
    "\n",
    "mask_series = scraped_counties_df.apply(f, axis='columns')\n",
    "def f(cs):\n",
    "    \n",
    "    return str(cs).startswith('County of ')\n",
    "\n",
    "mask_series = mask_series & scraped_counties_df.column_name.map(f)\n",
    "scraped_counties_df = scraped_counties_df[~mask_series]\n",
    "s.store_objects(verbose=True, scraped_counties_df=scraped_counties_df)"
   ]
  },
  {
   "cell_type": "code",
   "execution_count": 251,
   "metadata": {},
   "outputs": [
    {
     "name": "stdout",
     "output_type": "stream",
     "text": [
      "Pickling to D:\\Documents\\Repositories\\notebooks\\covid19\\saves\\pickle\\scraped_counties_df.pickle\n"
     ]
    }
   ],
   "source": [
    "\n",
    "scraped_counties_df = s.load_object('scraped_counties_df')\n",
    "def f(row_series):\n",
    "    column_name = row_series['column_name']\n",
    "    column_value = row_series['column_value']\n",
    "    if str(column_name) == str(column_value):\n",
    "        return_value = True\n",
    "    else:\n",
    "        return_value = False\n",
    "    \n",
    "    return return_value\n",
    "\n",
    "mask_series = scraped_counties_df.apply(f, axis='columns')\n",
    "def f(cs):\n",
    "    \n",
    "    return ' County Courthouse in ' in str(cs)\n",
    "\n",
    "mask_series = mask_series & scraped_counties_df.column_name.map(f)\n",
    "scraped_counties_df = scraped_counties_df[~mask_series]\n",
    "s.store_objects(verbose=True, scraped_counties_df=scraped_counties_df)"
   ]
  },
  {
   "cell_type": "code",
   "execution_count": 254,
   "metadata": {},
   "outputs": [
    {
     "name": "stdout",
     "output_type": "stream",
     "text": [
      "Pickling to D:\\Documents\\Repositories\\notebooks\\covid19\\saves\\pickle\\scraped_counties_df.pickle\n"
     ]
    }
   ],
   "source": [
    "\n",
    "scraped_counties_df = s.load_object('scraped_counties_df')\n",
    "mask_series = (scraped_counties_df.column_name == 'Motto(s): \"Semper Eadem\" (English: \"Ever the Same\")')\n",
    "scraped_counties_df.loc[mask_series, 'column_name'] = 'Motto(s)'\n",
    "scraped_counties_df.loc[mask_series, 'column_value'] = '\"Semper Eadem\" (English: \"Ever the Same\")'\n",
    "s.store_objects(verbose=True, scraped_counties_df=scraped_counties_df)"
   ]
  },
  {
   "cell_type": "code",
   "execution_count": 257,
   "metadata": {},
   "outputs": [
    {
     "name": "stdout",
     "output_type": "stream",
     "text": [
      "Pickling to D:\\Documents\\Repositories\\notebooks\\covid19\\saves\\pickle\\scraped_counties_df.pickle\n"
     ]
    }
   ],
   "source": [
    "\n",
    "scraped_counties_df = s.load_object('scraped_counties_df')\n",
    "mask_series = (scraped_counties_df.column_name == 'Consolidated city-borough')\n",
    "scraped_counties_df = scraped_counties_df[~mask_series]\n",
    "s.store_objects(verbose=True, scraped_counties_df=scraped_counties_df)"
   ]
  },
  {
   "cell_type": "code",
   "execution_count": 259,
   "metadata": {},
   "outputs": [
    {
     "name": "stdout",
     "output_type": "stream",
     "text": [
      "Pickling to D:\\Documents\\Repositories\\notebooks\\covid19\\saves\\pickle\\scraped_counties_df.pickle\n"
     ]
    }
   ],
   "source": [
    "\n",
    "scraped_counties_df = s.load_object('scraped_counties_df')\n",
    "mask_series = (scraped_counties_df.column_name == 'FlagSealCoat of arms')\n",
    "scraped_counties_df = scraped_counties_df[~mask_series]\n",
    "s.store_objects(verbose=True, scraped_counties_df=scraped_counties_df)"
   ]
  },
  {
   "cell_type": "code",
   "execution_count": 261,
   "metadata": {},
   "outputs": [
    {
     "name": "stdout",
     "output_type": "stream",
     "text": [
      "Pickling to D:\\Documents\\Repositories\\notebooks\\covid19\\saves\\pickle\\scraped_counties_df.pickle\n"
     ]
    }
   ],
   "source": [
    "\n",
    "scraped_counties_df = s.load_object('scraped_counties_df')\n",
    "def f(row_series):\n",
    "    column_name = row_series['column_name']\n",
    "    column_value = row_series['column_value']\n",
    "    if str(column_name) == str(column_value):\n",
    "        return_value = True\n",
    "    else:\n",
    "        return_value = False\n",
    "    \n",
    "    return return_value\n",
    "\n",
    "mask_series = scraped_counties_df.apply(f, axis='columns')\n",
    "def f(cs):\n",
    "    \n",
    "    return str(cs).endswith(' County')\n",
    "\n",
    "mask_series = mask_series & scraped_counties_df.column_name.map(f)\n",
    "scraped_counties_df = scraped_counties_df[~mask_series]\n",
    "s.store_objects(verbose=True, scraped_counties_df=scraped_counties_df)"
   ]
  },
  {
   "cell_type": "code",
   "execution_count": 268,
   "metadata": {},
   "outputs": [
    {
     "name": "stdout",
     "output_type": "stream",
     "text": [
      "Pickling to D:\\Documents\\Repositories\\notebooks\\covid19\\saves\\pickle\\scraped_counties_df.pickle\n"
     ]
    }
   ],
   "source": [
    "\n",
    "scraped_counties_df = s.load_object('scraped_counties_df')\n",
    "def f(row_series):\n",
    "    column_name = row_series['column_name']\n",
    "    column_value = row_series['column_value']\n",
    "    if str(column_name) == str(column_value):\n",
    "        return_value = True\n",
    "    else:\n",
    "        return_value = False\n",
    "    \n",
    "    return return_value\n",
    "\n",
    "mask_series = scraped_counties_df.apply(f, axis='columns')\n",
    "p_str = 'Nickname(s):'\n",
    "def f(column_name):\n",
    "    if str(column_name).startswith(p_str):\n",
    "        return_value = True\n",
    "    else:\n",
    "        return_value = False\n",
    "    \n",
    "    return return_value\n",
    "\n",
    "mask_series = mask_series & scraped_counties_df.column_name.map(f)\n",
    "def f(cs):\n",
    "    \n",
    "    return cs.split(p_str)[1].strip()\n",
    "\n",
    "scraped_counties_df.loc[mask_series, 'column_value'] = scraped_counties_df[mask_series].column_value.map(f)\n",
    "scraped_counties_df.loc[mask_series, 'column_name'] = p_str[:-1]\n",
    "s.store_objects(verbose=True, scraped_counties_df=scraped_counties_df)"
   ]
  },
  {
   "cell_type": "code",
   "execution_count": 269,
   "metadata": {},
   "outputs": [
    {
     "name": "stdout",
     "output_type": "stream",
     "text": [
      "Pickling to D:\\Documents\\Repositories\\notebooks\\covid19\\saves\\pickle\\scraped_counties_df.pickle\n"
     ]
    }
   ],
   "source": [
    "\n",
    "scraped_counties_df = s.load_object('scraped_counties_df')\n",
    "def f(row_series):\n",
    "    column_name = row_series['column_name']\n",
    "    column_value = row_series['column_value']\n",
    "    if str(column_name) == str(column_value):\n",
    "        return_value = True\n",
    "    else:\n",
    "        return_value = False\n",
    "    \n",
    "    return return_value\n",
    "\n",
    "mask_series = scraped_counties_df.apply(f, axis='columns')\n",
    "p_str = 'Nicknames:'\n",
    "def f(column_name):\n",
    "    if str(column_name).startswith(p_str):\n",
    "        return_value = True\n",
    "    else:\n",
    "        return_value = False\n",
    "    \n",
    "    return return_value\n",
    "\n",
    "mask_series = mask_series & scraped_counties_df.column_name.map(f)\n",
    "def f(cs):\n",
    "    \n",
    "    return cs.split(p_str)[1].strip()\n",
    "\n",
    "scraped_counties_df.loc[mask_series, 'column_value'] = scraped_counties_df[mask_series].column_value.map(f)\n",
    "p_str = 'Nickname(s):'\n",
    "scraped_counties_df.loc[mask_series, 'column_name'] = p_str[:-1]\n",
    "s.store_objects(verbose=True, scraped_counties_df=scraped_counties_df)"
   ]
  },
  {
   "cell_type": "code",
   "execution_count": 270,
   "metadata": {},
   "outputs": [
    {
     "name": "stdout",
     "output_type": "stream",
     "text": [
      "Pickling to D:\\Documents\\Repositories\\notebooks\\covid19\\saves\\pickle\\scraped_counties_df.pickle\n"
     ]
    }
   ],
   "source": [
    "\n",
    "scraped_counties_df = s.load_object('scraped_counties_df')\n",
    "def f(row_series):\n",
    "    column_name = row_series['column_name']\n",
    "    column_value = row_series['column_value']\n",
    "    if str(column_name) == str(column_value):\n",
    "        return_value = True\n",
    "    else:\n",
    "        return_value = False\n",
    "    \n",
    "    return return_value\n",
    "\n",
    "mask_series = scraped_counties_df.apply(f, axis='columns')\n",
    "p_str = 'Motto(s):'\n",
    "def f(column_name):\n",
    "    if str(column_name).startswith(p_str):\n",
    "        return_value = True\n",
    "    else:\n",
    "        return_value = False\n",
    "    \n",
    "    return return_value\n",
    "\n",
    "mask_series = mask_series & scraped_counties_df.column_name.map(f)\n",
    "def f(cs):\n",
    "    \n",
    "    return cs.split(p_str)[1].strip()\n",
    "\n",
    "scraped_counties_df.loc[mask_series, 'column_value'] = scraped_counties_df[mask_series].column_value.map(f)\n",
    "scraped_counties_df.loc[mask_series, 'column_name'] = p_str[:-1]\n",
    "s.store_objects(verbose=True, scraped_counties_df=scraped_counties_df)"
   ]
  },
  {
   "cell_type": "code",
   "execution_count": 275,
   "metadata": {},
   "outputs": [
    {
     "name": "stdout",
     "output_type": "stream",
     "text": [
      "Pickling to D:\\Documents\\Repositories\\notebooks\\covid19\\saves\\pickle\\scraped_counties_df.pickle\n"
     ]
    }
   ],
   "source": [
    "\n",
    "scraped_counties_df = s.load_object('scraped_counties_df')\n",
    "mask_series = (scraped_counties_df.column_name == 'FlagCoat of arms')\n",
    "scraped_counties_df = scraped_counties_df[~mask_series]\n",
    "s.store_objects(verbose=True, scraped_counties_df=scraped_counties_df)"
   ]
  },
  {
   "cell_type": "code",
   "execution_count": 278,
   "metadata": {},
   "outputs": [
    {
     "name": "stdout",
     "output_type": "stream",
     "text": [
      "Pickling to D:\\Documents\\Repositories\\notebooks\\covid19\\saves\\pickle\\scraped_counties_df.pickle\n"
     ]
    }
   ],
   "source": [
    "\n",
    "scraped_counties_df = s.load_object('scraped_counties_df')\n",
    "def f(row_series):\n",
    "    column_name = row_series['column_name']\n",
    "    column_value = row_series['column_value']\n",
    "    if str(column_name) == str(column_value):\n",
    "        return_value = True\n",
    "    else:\n",
    "        return_value = False\n",
    "    \n",
    "    return return_value\n",
    "\n",
    "mask_series = scraped_counties_df.apply(f, axis='columns')\n",
    "def f(cs):\n",
    "    \n",
    "    return ']' in str(cs)\n",
    "\n",
    "mask_series = mask_series & scraped_counties_df.column_name.map(f)\n",
    "scraped_counties_df = scraped_counties_df[~mask_series]\n",
    "s.store_objects(verbose=True, scraped_counties_df=scraped_counties_df)"
   ]
  },
  {
   "cell_type": "code",
   "execution_count": 282,
   "metadata": {},
   "outputs": [
    {
     "name": "stdout",
     "output_type": "stream",
     "text": [
      "Pickling to D:\\Documents\\Repositories\\notebooks\\covid19\\saves\\pickle\\scraped_counties_df.pickle\n"
     ]
    }
   ],
   "source": [
    "\n",
    "scraped_counties_df = s.load_object('scraped_counties_df')\n",
    "def f(row_series):\n",
    "    column_name = row_series['column_name']\n",
    "    column_value = row_series['column_value']\n",
    "    if str(column_name) == str(column_value):\n",
    "        return_value = True\n",
    "    else:\n",
    "        return_value = False\n",
    "    \n",
    "    return return_value\n",
    "\n",
    "mask_series = scraped_counties_df.apply(f, axis='columns')\n",
    "cn_list = ['County', 'Parish', 'Independent city', 'Borough', 'Time zones']\n",
    "def f(cs):\n",
    "    \n",
    "    return str(cs) not in cn_list\n",
    "\n",
    "mask_series = mask_series & scraped_counties_df.column_name.map(f)\n",
    "scraped_counties_df = scraped_counties_df[~mask_series]\n",
    "s.store_objects(verbose=True, scraped_counties_df=scraped_counties_df)"
   ]
  },
  {
   "cell_type": "code",
   "execution_count": 283,
   "metadata": {},
   "outputs": [
    {
     "data": {
      "text/plain": [
       "['County', 'Parish', 'Independent city', 'Borough', 'Time zones']"
      ]
     },
     "execution_count": 283,
     "metadata": {},
     "output_type": "execute_result"
    }
   ],
   "source": [
    "\n",
    "scraped_counties_df = s.load_object('scraped_counties_df')\n",
    "def f(row_series):\n",
    "    column_name = row_series['column_name']\n",
    "    column_value = row_series['column_value']\n",
    "    if str(column_name) == str(column_value):\n",
    "        return_value = True\n",
    "    else:\n",
    "        return_value = False\n",
    "    \n",
    "    return return_value\n",
    "\n",
    "mask_series = scraped_counties_df.apply(f, axis='columns')\n",
    "scraped_counties_df[mask_series].column_value.value_counts().head(20).index.tolist()"
   ]
  },
  {
   "cell_type": "code",
   "execution_count": 284,
   "metadata": {},
   "outputs": [
    {
     "data": {
      "text/plain": [
       "County                           410\n",
       "Parish                            61\n",
       "Independent city                  39\n",
       "None (Independent city)           22\n",
       "Borough                           19\n",
       "Time zones                         9\n",
       "1851                               1\n",
       "New York County (coterminous)      1\n",
       "Richmond (coterminous)             1\n",
       "Orleans                            1\n",
       "Name: column_value, dtype: int64"
      ]
     },
     "execution_count": 284,
     "metadata": {},
     "output_type": "execute_result"
    }
   ],
   "source": [
    "\n",
    "scraped_counties_df = s.load_object('scraped_counties_df')\n",
    "mask_series = (scraped_counties_df.column_name.isin(['County', 'Parish', 'Independent city', 'Borough', 'Time zones']))\n",
    "scraped_counties_df[mask_series].column_value.value_counts().head(10)"
   ]
  },
  {
   "cell_type": "markdown",
   "metadata": {},
   "source": [
    "\n",
    "----"
   ]
  },
  {
   "cell_type": "code",
   "execution_count": 133,
   "metadata": {},
   "outputs": [
    {
     "data": {
      "text/html": [
       "<div>\n",
       "<style scoped>\n",
       "    .dataframe tbody tr th:only-of-type {\n",
       "        vertical-align: middle;\n",
       "    }\n",
       "\n",
       "    .dataframe tbody tr th {\n",
       "        vertical-align: top;\n",
       "    }\n",
       "\n",
       "    .dataframe thead th {\n",
       "        text-align: right;\n",
       "    }\n",
       "</style>\n",
       "<table border=\"1\" class=\"dataframe\">\n",
       "  <thead>\n",
       "    <tr style=\"text-align: right;\">\n",
       "      <th></th>\n",
       "      <th>County_Name</th>\n",
       "      <th>State_Name</th>\n",
       "      <th>Estimate_2019</th>\n",
       "    </tr>\n",
       "  </thead>\n",
       "  <tbody>\n",
       "    <tr>\n",
       "      <th>3124</th>\n",
       "      <td>Big Horn County</td>\n",
       "      <td>Wyoming</td>\n",
       "      <td>11790</td>\n",
       "    </tr>\n",
       "    <tr>\n",
       "      <th>1082</th>\n",
       "      <td>Monroe County</td>\n",
       "      <td>Kentucky</td>\n",
       "      <td>10650</td>\n",
       "    </tr>\n",
       "    <tr>\n",
       "      <th>1675</th>\n",
       "      <td>Clay County</td>\n",
       "      <td>Nebraska</td>\n",
       "      <td>6203</td>\n",
       "    </tr>\n",
       "    <tr>\n",
       "      <th>912</th>\n",
       "      <td>Dickinson County</td>\n",
       "      <td>Kansas</td>\n",
       "      <td>18466</td>\n",
       "    </tr>\n",
       "    <tr>\n",
       "      <th>1880</th>\n",
       "      <td>Schuyler County</td>\n",
       "      <td>New York</td>\n",
       "      <td>17807</td>\n",
       "    </tr>\n",
       "  </tbody>\n",
       "</table>\n",
       "</div>"
      ],
      "text/plain": [
       "           County_Name State_Name  Estimate_2019\n",
       "3124   Big Horn County    Wyoming          11790\n",
       "1082     Monroe County   Kentucky          10650\n",
       "1675       Clay County   Nebraska           6203\n",
       "912   Dickinson County     Kansas          18466\n",
       "1880   Schuyler County   New York          17807"
      ]
     },
     "execution_count": 133,
     "metadata": {},
     "output_type": "execute_result"
    }
   ],
   "source": [
    "\n",
    "# https://www2.census.gov/programs-surveys/popest/tables/2010-2019/counties/totals/co-est2019-annres.xlsx\n",
    "xlsx_dir = os.path.join(s.data_folder, 'xlsx')\n",
    "file_path = os.path.join(xlsx_dir, 'co-est2019-annres.xlsx')\n",
    "counties_df = pd.read_excel(file_path)\n",
    "counties_df.columns = ['County_Name', 'Census_2010', 'Estimates_Base', 'Estimate_2010', 'Estimate_2011', 'Estimate_2012',\n",
    "                       'Estimate_2013', 'Estimate_2014', 'Estimate_2015', 'Estimate_2016', 'Estimate_2017', 'Estimate_2018',\n",
    "                       'Estimate_2019']\n",
    "#counties_df.Country_Name.to_dict()\n",
    "idx_list = list(range(4, 3146))\n",
    "mask_series = counties_df.index.isin(idx_list)\n",
    "counties_df = counties_df[mask_series]\n",
    "counties_df['State_Name'] = counties_df.County_Name.map(lambda x: x.split(',')[1].strip())\n",
    "counties_df.County_Name = counties_df.County_Name.map(lambda x: re.sub(r'\\.(.+)', r'\\g<1>', x.split(',')[0].strip(), 1))\n",
    "counties_df.Estimate_2019 = counties_df.Estimate_2019.map(lambda x: int(x))\n",
    "s.store_objects(counties_df=counties_df)\n",
    "columns_list = ['County_Name', 'State_Name', 'Estimate_2019']\n",
    "counties_df[columns_list].sample(5)"
   ]
  },
  {
   "cell_type": "code",
   "execution_count": 14,
   "metadata": {},
   "outputs": [
    {
     "name": "stdout",
     "output_type": "stream",
     "text": [
      "[(0, (60, 12)), (1, (9, 12)), (2, (4, 12)), (3, (11, 2))]\n"
     ]
    }
   ],
   "source": [
    "\n",
    "from datetime import datetime\n",
    "\n",
    "tables_url = 'https://en.wikipedia.org/wiki/List_of_U.S._states_and_territories_by_area'\n",
    "tables_list = get_page_tables(tables_url)"
   ]
  },
  {
   "cell_type": "code",
   "execution_count": 16,
   "metadata": {},
   "outputs": [
    {
     "name": "stdout",
     "output_type": "stream",
     "text": [
      "Pickling to D:\\Documents\\Repositories\\notebooks\\covid19\\saves\\pickle\\us_states_area_df.pickle\n"
     ]
    },
    {
     "data": {
      "text/html": [
       "<div>\n",
       "<style scoped>\n",
       "    .dataframe tbody tr th:only-of-type {\n",
       "        vertical-align: middle;\n",
       "    }\n",
       "\n",
       "    .dataframe tbody tr th {\n",
       "        vertical-align: top;\n",
       "    }\n",
       "\n",
       "    .dataframe thead th {\n",
       "        text-align: right;\n",
       "    }\n",
       "</style>\n",
       "<table border=\"1\" class=\"dataframe\">\n",
       "  <thead>\n",
       "    <tr style=\"text-align: right;\">\n",
       "      <th>State_Name</th>\n",
       "      <th>Minnesota</th>\n",
       "      <th>Tennessee</th>\n",
       "      <th>Arkansas</th>\n",
       "      <th>Indiana</th>\n",
       "      <th>Massachusetts</th>\n",
       "      <th>Alabama</th>\n",
       "      <th>West Virginia</th>\n",
       "      <th>Minor Outlying Islands</th>\n",
       "      <th>New Hampshire</th>\n",
       "      <th>New Mexico</th>\n",
       "    </tr>\n",
       "  </thead>\n",
       "  <tbody>\n",
       "    <tr>\n",
       "      <th>Total_Area_Rank</th>\n",
       "      <td>12.00</td>\n",
       "      <td>36.00</td>\n",
       "      <td>29.00</td>\n",
       "      <td>38.00</td>\n",
       "      <td>44.00</td>\n",
       "      <td>30.00</td>\n",
       "      <td>41.00</td>\n",
       "      <td>NaN</td>\n",
       "      <td>46.00</td>\n",
       "      <td>5.00</td>\n",
       "    </tr>\n",
       "    <tr>\n",
       "      <th>Total_Area_sq_mi</th>\n",
       "      <td>86935.83</td>\n",
       "      <td>42144.25</td>\n",
       "      <td>53178.55</td>\n",
       "      <td>36419.55</td>\n",
       "      <td>10554.39</td>\n",
       "      <td>52420.07</td>\n",
       "      <td>24230.04</td>\n",
       "      <td>16.0</td>\n",
       "      <td>9349.16</td>\n",
       "      <td>121590.30</td>\n",
       "    </tr>\n",
       "    <tr>\n",
       "      <th>Total_Area_sq_km</th>\n",
       "      <td>225163.00</td>\n",
       "      <td>109153.00</td>\n",
       "      <td>137732.00</td>\n",
       "      <td>94326.00</td>\n",
       "      <td>27336.00</td>\n",
       "      <td>135767.00</td>\n",
       "      <td>62756.00</td>\n",
       "      <td>41.0</td>\n",
       "      <td>24214.00</td>\n",
       "      <td>314917.00</td>\n",
       "    </tr>\n",
       "    <tr>\n",
       "      <th>Land_Area_Rank</th>\n",
       "      <td>14.00</td>\n",
       "      <td>34.00</td>\n",
       "      <td>27.00</td>\n",
       "      <td>38.00</td>\n",
       "      <td>45.00</td>\n",
       "      <td>28.00</td>\n",
       "      <td>41.00</td>\n",
       "      <td>NaN</td>\n",
       "      <td>44.00</td>\n",
       "      <td>5.00</td>\n",
       "    </tr>\n",
       "    <tr>\n",
       "      <th>Land_Area_sq_mi</th>\n",
       "      <td>79626.74</td>\n",
       "      <td>41234.90</td>\n",
       "      <td>52035.48</td>\n",
       "      <td>35826.11</td>\n",
       "      <td>7800.06</td>\n",
       "      <td>50645.33</td>\n",
       "      <td>24038.21</td>\n",
       "      <td>16.0</td>\n",
       "      <td>8952.65</td>\n",
       "      <td>121298.15</td>\n",
       "    </tr>\n",
       "    <tr>\n",
       "      <th>Land_Area_sq_km</th>\n",
       "      <td>206232.00</td>\n",
       "      <td>106798.00</td>\n",
       "      <td>134771.00</td>\n",
       "      <td>92789.00</td>\n",
       "      <td>20202.00</td>\n",
       "      <td>131171.00</td>\n",
       "      <td>62259.00</td>\n",
       "      <td>41.0</td>\n",
       "      <td>23187.00</td>\n",
       "      <td>314161.00</td>\n",
       "    </tr>\n",
       "    <tr>\n",
       "      <th>Land_Area_Percent</th>\n",
       "      <td>NaN</td>\n",
       "      <td>NaN</td>\n",
       "      <td>NaN</td>\n",
       "      <td>NaN</td>\n",
       "      <td>NaN</td>\n",
       "      <td>NaN</td>\n",
       "      <td>NaN</td>\n",
       "      <td>NaN</td>\n",
       "      <td>NaN</td>\n",
       "      <td>NaN</td>\n",
       "    </tr>\n",
       "    <tr>\n",
       "      <th>Water_Rank</th>\n",
       "      <td>9.00</td>\n",
       "      <td>35.00</td>\n",
       "      <td>31.00</td>\n",
       "      <td>39.00</td>\n",
       "      <td>16.00</td>\n",
       "      <td>23.00</td>\n",
       "      <td>50.00</td>\n",
       "      <td>NaN</td>\n",
       "      <td>47.00</td>\n",
       "      <td>49.00</td>\n",
       "    </tr>\n",
       "    <tr>\n",
       "      <th>Water_sq_mi</th>\n",
       "      <td>7309.09</td>\n",
       "      <td>909.36</td>\n",
       "      <td>1143.07</td>\n",
       "      <td>593.44</td>\n",
       "      <td>2754.33</td>\n",
       "      <td>1774.74</td>\n",
       "      <td>191.83</td>\n",
       "      <td>NaN</td>\n",
       "      <td>396.51</td>\n",
       "      <td>292.15</td>\n",
       "    </tr>\n",
       "    <tr>\n",
       "      <th>Water_sq_km</th>\n",
       "      <td>18930.00</td>\n",
       "      <td>2355.00</td>\n",
       "      <td>2961.00</td>\n",
       "      <td>1537.00</td>\n",
       "      <td>7134.00</td>\n",
       "      <td>4597.00</td>\n",
       "      <td>497.00</td>\n",
       "      <td>NaN</td>\n",
       "      <td>1027.00</td>\n",
       "      <td>757.00</td>\n",
       "    </tr>\n",
       "  </tbody>\n",
       "</table>\n",
       "</div>"
      ],
      "text/plain": [
       "State_Name         Minnesota  Tennessee   Arkansas   Indiana  Massachusetts  \\\n",
       "Total_Area_Rank        12.00      36.00      29.00     38.00          44.00   \n",
       "Total_Area_sq_mi    86935.83   42144.25   53178.55  36419.55       10554.39   \n",
       "Total_Area_sq_km   225163.00  109153.00  137732.00  94326.00       27336.00   \n",
       "Land_Area_Rank         14.00      34.00      27.00     38.00          45.00   \n",
       "Land_Area_sq_mi     79626.74   41234.90   52035.48  35826.11        7800.06   \n",
       "Land_Area_sq_km    206232.00  106798.00  134771.00  92789.00       20202.00   \n",
       "Land_Area_Percent        NaN        NaN        NaN       NaN            NaN   \n",
       "Water_Rank              9.00      35.00      31.00     39.00          16.00   \n",
       "Water_sq_mi          7309.09     909.36    1143.07    593.44        2754.33   \n",
       "Water_sq_km         18930.00    2355.00    2961.00   1537.00        7134.00   \n",
       "\n",
       "State_Name           Alabama  West Virginia  Minor Outlying Islands  \\\n",
       "Total_Area_Rank        30.00          41.00                     NaN   \n",
       "Total_Area_sq_mi    52420.07       24230.04                    16.0   \n",
       "Total_Area_sq_km   135767.00       62756.00                    41.0   \n",
       "Land_Area_Rank         28.00          41.00                     NaN   \n",
       "Land_Area_sq_mi     50645.33       24038.21                    16.0   \n",
       "Land_Area_sq_km    131171.00       62259.00                    41.0   \n",
       "Land_Area_Percent        NaN            NaN                     NaN   \n",
       "Water_Rank             23.00          50.00                     NaN   \n",
       "Water_sq_mi          1774.74         191.83                     NaN   \n",
       "Water_sq_km          4597.00         497.00                     NaN   \n",
       "\n",
       "State_Name         New Hampshire  New Mexico  \n",
       "Total_Area_Rank            46.00        5.00  \n",
       "Total_Area_sq_mi         9349.16   121590.30  \n",
       "Total_Area_sq_km        24214.00   314917.00  \n",
       "Land_Area_Rank             44.00        5.00  \n",
       "Land_Area_sq_mi          8952.65   121298.15  \n",
       "Land_Area_sq_km         23187.00   314161.00  \n",
       "Land_Area_Percent            NaN         NaN  \n",
       "Water_Rank                 47.00       49.00  \n",
       "Water_sq_mi               396.51      292.15  \n",
       "Water_sq_km              1027.00      757.00  "
      ]
     },
     "execution_count": 16,
     "metadata": {},
     "output_type": "execute_result"
    }
   ],
   "source": [
    "\n",
    "us_states_area_df = tables_list[0].copy()\n",
    "us_states_area_df.columns = ['State_Name', 'Total_Area_Rank', 'Total_Area_sq_mi', 'Total_Area_sq_km', 'Land_Area_Rank',\n",
    "                             'Land_Area_sq_mi', 'Land_Area_sq_km', 'Land_Area_Percent', 'Water_Rank', 'Water_sq_mi',\n",
    "                             'Water_sq_km', 'Water_Percent']\n",
    "us_states_area_df = us_states_area_df.iloc[:-3]\n",
    "for column_name in us_states_area_df.columns:\n",
    "    if column_name == 'State_Name':\n",
    "        us_states_area_df[column_name] = us_states_area_df[column_name].map(lambda x: str(x).split('[')[0])\n",
    "    else:\n",
    "        us_states_area_df[column_name] = us_states_area_df[column_name].map(lambda x: re.sub('[^\\d\\.]+', '', str(x)))\n",
    "        us_states_area_df[column_name] = pd.to_numeric(us_states_area_df[column_name], errors='coerce')\n",
    "mask_series = (us_states_area_df.State_Name == 'United States Virgin Islands')\n",
    "us_states_area_df.loc[mask_series, 'State_Name'] = 'U.S. Virgin Islands'\n",
    "us_states_area_df.set_index('State_Name', drop=True, inplace=True)\n",
    "s.store_objects(us_states_area_df=us_states_area_df)\n",
    "us_states_area_df.sample(10).T.head(10)"
   ]
  },
  {
   "cell_type": "markdown",
   "metadata": {},
   "source": [
    "\n",
    "----"
   ]
  },
  {
   "cell_type": "code",
   "execution_count": 56,
   "metadata": {},
   "outputs": [
    {
     "name": "stdout",
     "output_type": "stream",
     "text": [
      "# Ignore big files (GitHub will warn you when pushing files larger than 50 MB. You will not be allowed to\n",
      "# push files larger than 100 MB.) Tip: If you regularly push large files to GitHub, consider introducing\n",
      "# Git Large File Storage (Git LFS) as part of your workflow.\n",
      "covid19/data/csv/linelist.csv\n",
      "covid19/data/usa_gpwv3_pdens_ascii_25/usads00ag.asc\n",
      "covid19/data/usa_gpwv3_pdens_ascii_25/usads00g.asc\n",
      "covid19/data/usa_gpwv3_pdens_ascii_25/usads90ag.asc\n",
      "covid19/data/usa_gpwv3_pdens_ascii_25/usads90g.asc\n",
      "covid19/data/usa_gpwv3_pdens_ascii_25/usads95ag.asc\n",
      "covid19/data/usa_gpwv3_pdens_ascii_25/usads95g.asc\n",
      "gpt2-excuse-generator/models/pytorch_model.bin\n",
      "Miscellaneous/saves/gif/Goodbye_Mr_Conway.gif\n",
      "Miscellaneous/saves/gif/Q2tbQEo.gif\n",
      "Miscellaneous/saves/pickle/estimators_list.pickle\n",
      "Miscellaneous/saves/pickle/fit_estimators_dict.pickle\n",
      "Miscellaneous/saves/pickle/fit_estimators_list.pickle\n",
      "StatsByCountry/saves/maps/Spain_languages-en.svg\n",
      "Strauss–Howe/saves/gif/net_neutrality.gif\n",
      "Word2Vec/data/GoogleNews-vectors-negative300.bin.gz\n",
      "Word2Vec/data/text8\n",
      "Word2Vec/data/text8-phrases\n",
      "Word2Vec/data/glove.6B/glove.6B.100d.txt\n",
      "Word2Vec/data/glove.6B/glove.6B.100d.txt.word2vec\n",
      "Word2Vec/data/glove.6B/glove.6B.200d.txt\n",
      "Word2Vec/data/glove.6B/glove.6B.300d.txt\n",
      "Word2Vec/data/glove.6B/glove.6B.50d.txt\n",
      "Word2Vec/data/glove.840B.300d/glove.840B.300d.txt\n",
      "\n"
     ]
    }
   ],
   "source": [
    "\n",
    "get_specific_gitignore_files('notebooks', repository_dir=r'D:\\Documents\\Repositories')"
   ]
  }
 ],
 "metadata": {
  "kernelspec": {
   "display_name": "Python 3",
   "language": "python",
   "name": "python3"
  },
  "language_info": {
   "codemirror_mode": {
    "name": "ipython",
    "version": 3
   },
   "file_extension": ".py",
   "mimetype": "text/x-python",
   "name": "python",
   "nbconvert_exporter": "python",
   "pygments_lexer": "ipython3",
   "version": "3.6.8"
  }
 },
 "nbformat": 4,
 "nbformat_minor": 4
}
