{
 "cells": [
  {
   "cell_type": "code",
   "execution_count": null,
   "metadata": {},
   "outputs": [],
   "source": []
  },
  {
   "cell_type": "code",
   "execution_count": null,
   "metadata": {},
   "outputs": [],
   "source": [
    "\n",
    "command_str = '{sys.executable} -m pip install --upgrade matplotlib'.format(sys=sys)\n",
    "print(command_str)\n",
    "!{command_str}"
   ]
  },
  {
   "cell_type": "code",
   "execution_count": 1,
   "metadata": {},
   "outputs": [],
   "source": [
    "\n",
    "import sys\n",
    "\n",
    "# Insert at 1, 0 is the script path (or '' in REPL)\n",
    "sys.path.insert(1, '../py')"
   ]
  },
  {
   "cell_type": "code",
   "execution_count": 2,
   "metadata": {},
   "outputs": [
    {
     "name": "stdout",
     "output_type": "stream",
     "text": [
      "Pretty printing has been turned OFF\n"
     ]
    },
    {
     "name": "stderr",
     "output_type": "stream",
     "text": [
      "\n",
      "Bad key \"text.kerning_factor\" on line 4 in\n",
      "C:\\Users\\577342\\AppData\\Local\\Continuum\\anaconda3\\lib\\site-packages\\matplotlib\\mpl-data\\stylelib\\_classic_test_patch.mplstyle.\n",
      "You probably need to get an updated matplotlibrc file from\n",
      "https://github.com/matplotlib/matplotlib/blob/v3.1.3/matplotlibrc.template\n",
      "or from the matplotlib source distribution\n"
     ]
    },
    {
     "ename": "ImportError",
     "evalue": "DLL load failed: The specified procedure could not be found.",
     "output_type": "error",
     "traceback": [
      "\u001b[1;31m---------------------------------------------------------------------------\u001b[0m",
      "\u001b[1;31mImportError\u001b[0m                               Traceback (most recent call last)",
      "\u001b[1;32mD:\\Documents\\Repositories\\notebooks\\load_magic\\dataframes.py\u001b[0m in \u001b[0;36m<module>\u001b[1;34m\u001b[0m\n\u001b[0;32m      3\u001b[0m \u001b[1;32mimport\u001b[0m \u001b[0mio\u001b[0m\u001b[1;33m\u001b[0m\u001b[1;33m\u001b[0m\u001b[0m\n\u001b[0;32m      4\u001b[0m \u001b[1;32mimport\u001b[0m \u001b[0mmath\u001b[0m\u001b[1;33m\u001b[0m\u001b[1;33m\u001b[0m\u001b[0m\n\u001b[1;32m----> 5\u001b[1;33m \u001b[1;32mimport\u001b[0m \u001b[0mmatplotlib\u001b[0m\u001b[1;33m.\u001b[0m\u001b[0mpyplot\u001b[0m \u001b[1;32mas\u001b[0m \u001b[0mplt\u001b[0m\u001b[1;33m\u001b[0m\u001b[1;33m\u001b[0m\u001b[0m\n\u001b[0m\u001b[0;32m      6\u001b[0m \u001b[1;32mimport\u001b[0m \u001b[0mpandas\u001b[0m \u001b[1;32mas\u001b[0m \u001b[0mpd\u001b[0m\u001b[1;33m\u001b[0m\u001b[1;33m\u001b[0m\u001b[0m\n\u001b[0;32m      7\u001b[0m \u001b[1;32mimport\u001b[0m \u001b[0mre\u001b[0m\u001b[1;33m\u001b[0m\u001b[1;33m\u001b[0m\u001b[0m\n",
      "\u001b[1;32m~\\AppData\\Local\\Continuum\\anaconda3\\lib\\site-packages\\matplotlib\\pyplot.py\u001b[0m in \u001b[0;36m<module>\u001b[1;34m\u001b[0m\n\u001b[0;32m   2354\u001b[0m     \u001b[0mdict\u001b[0m\u001b[1;33m.\u001b[0m\u001b[0m__setitem__\u001b[0m\u001b[1;33m(\u001b[0m\u001b[0mrcParams\u001b[0m\u001b[1;33m,\u001b[0m \u001b[1;34m\"backend\"\u001b[0m\u001b[1;33m,\u001b[0m \u001b[0mrcsetup\u001b[0m\u001b[1;33m.\u001b[0m\u001b[0m_auto_backend_sentinel\u001b[0m\u001b[1;33m)\u001b[0m\u001b[1;33m\u001b[0m\u001b[1;33m\u001b[0m\u001b[0m\n\u001b[0;32m   2355\u001b[0m \u001b[1;31m# Set up the backend.\u001b[0m\u001b[1;33m\u001b[0m\u001b[1;33m\u001b[0m\u001b[1;33m\u001b[0m\u001b[0m\n\u001b[1;32m-> 2356\u001b[1;33m \u001b[0mswitch_backend\u001b[0m\u001b[1;33m(\u001b[0m\u001b[0mrcParams\u001b[0m\u001b[1;33m[\u001b[0m\u001b[1;34m\"backend\"\u001b[0m\u001b[1;33m]\u001b[0m\u001b[1;33m)\u001b[0m\u001b[1;33m\u001b[0m\u001b[1;33m\u001b[0m\u001b[0m\n\u001b[0m\u001b[0;32m   2357\u001b[0m \u001b[1;33m\u001b[0m\u001b[0m\n\u001b[0;32m   2358\u001b[0m \u001b[1;31m# Just to be safe.  Interactive mode can be turned on without\u001b[0m\u001b[1;33m\u001b[0m\u001b[1;33m\u001b[0m\u001b[1;33m\u001b[0m\u001b[0m\n",
      "\u001b[1;32m~\\AppData\\Local\\Continuum\\anaconda3\\lib\\site-packages\\matplotlib\\pyplot.py\u001b[0m in \u001b[0;36mswitch_backend\u001b[1;34m(newbackend)\u001b[0m\n\u001b[0;32m    219\u001b[0m         else \"matplotlib.backends.backend_{}\".format(newbackend.lower()))\n\u001b[0;32m    220\u001b[0m \u001b[1;33m\u001b[0m\u001b[0m\n\u001b[1;32m--> 221\u001b[1;33m     \u001b[0mbackend_mod\u001b[0m \u001b[1;33m=\u001b[0m \u001b[0mimportlib\u001b[0m\u001b[1;33m.\u001b[0m\u001b[0mimport_module\u001b[0m\u001b[1;33m(\u001b[0m\u001b[0mbackend_name\u001b[0m\u001b[1;33m)\u001b[0m\u001b[1;33m\u001b[0m\u001b[1;33m\u001b[0m\u001b[0m\n\u001b[0m\u001b[0;32m    222\u001b[0m     Backend = type(\n\u001b[0;32m    223\u001b[0m         \"Backend\", (matplotlib.backends._Backend,), vars(backend_mod))\n",
      "\u001b[1;32m~\\AppData\\Local\\Continuum\\anaconda3\\lib\\importlib\\__init__.py\u001b[0m in \u001b[0;36mimport_module\u001b[1;34m(name, package)\u001b[0m\n\u001b[0;32m    125\u001b[0m                 \u001b[1;32mbreak\u001b[0m\u001b[1;33m\u001b[0m\u001b[1;33m\u001b[0m\u001b[0m\n\u001b[0;32m    126\u001b[0m             \u001b[0mlevel\u001b[0m \u001b[1;33m+=\u001b[0m \u001b[1;36m1\u001b[0m\u001b[1;33m\u001b[0m\u001b[1;33m\u001b[0m\u001b[0m\n\u001b[1;32m--> 127\u001b[1;33m     \u001b[1;32mreturn\u001b[0m \u001b[0m_bootstrap\u001b[0m\u001b[1;33m.\u001b[0m\u001b[0m_gcd_import\u001b[0m\u001b[1;33m(\u001b[0m\u001b[0mname\u001b[0m\u001b[1;33m[\u001b[0m\u001b[0mlevel\u001b[0m\u001b[1;33m:\u001b[0m\u001b[1;33m]\u001b[0m\u001b[1;33m,\u001b[0m \u001b[0mpackage\u001b[0m\u001b[1;33m,\u001b[0m \u001b[0mlevel\u001b[0m\u001b[1;33m)\u001b[0m\u001b[1;33m\u001b[0m\u001b[1;33m\u001b[0m\u001b[0m\n\u001b[0m\u001b[0;32m    128\u001b[0m \u001b[1;33m\u001b[0m\u001b[0m\n\u001b[0;32m    129\u001b[0m \u001b[1;33m\u001b[0m\u001b[0m\n",
      "\u001b[1;32m~\\AppData\\Local\\Continuum\\anaconda3\\lib\\site-packages\\ipykernel\\pylab\\backend_inline.py\u001b[0m in \u001b[0;36m<module>\u001b[1;34m\u001b[0m\n\u001b[0;32m      7\u001b[0m \u001b[1;33m\u001b[0m\u001b[0m\n\u001b[0;32m      8\u001b[0m \u001b[1;32mimport\u001b[0m \u001b[0mmatplotlib\u001b[0m\u001b[1;33m\u001b[0m\u001b[1;33m\u001b[0m\u001b[0m\n\u001b[1;32m----> 9\u001b[1;33m from matplotlib.backends.backend_agg import (\n\u001b[0m\u001b[0;32m     10\u001b[0m     \u001b[0mnew_figure_manager\u001b[0m\u001b[1;33m,\u001b[0m\u001b[1;33m\u001b[0m\u001b[1;33m\u001b[0m\u001b[0m\n\u001b[0;32m     11\u001b[0m     \u001b[0mFigureCanvasAgg\u001b[0m\u001b[1;33m,\u001b[0m\u001b[1;33m\u001b[0m\u001b[1;33m\u001b[0m\u001b[0m\n",
      "\u001b[1;32m~\\AppData\\Local\\Continuum\\anaconda3\\lib\\site-packages\\matplotlib\\backends\\backend_agg.py\u001b[0m in \u001b[0;36m<module>\u001b[1;34m\u001b[0m\n\u001b[0;32m     43\u001b[0m \u001b[1;33m\u001b[0m\u001b[0m\n\u001b[0;32m     44\u001b[0m \u001b[1;32mif\u001b[0m \u001b[0m_has_pil\u001b[0m\u001b[1;33m:\u001b[0m\u001b[1;33m\u001b[0m\u001b[1;33m\u001b[0m\u001b[0m\n\u001b[1;32m---> 45\u001b[1;33m     \u001b[1;32mfrom\u001b[0m \u001b[0mPIL\u001b[0m \u001b[1;32mimport\u001b[0m \u001b[0mImage\u001b[0m\u001b[1;33m\u001b[0m\u001b[1;33m\u001b[0m\u001b[0m\n\u001b[0m\u001b[0;32m     46\u001b[0m \u001b[1;33m\u001b[0m\u001b[0m\n\u001b[0;32m     47\u001b[0m \u001b[0mbackend_version\u001b[0m \u001b[1;33m=\u001b[0m \u001b[1;34m'v2.2'\u001b[0m\u001b[1;33m\u001b[0m\u001b[1;33m\u001b[0m\u001b[0m\n",
      "\u001b[1;32m~\\AppData\\Local\\Continuum\\anaconda3\\lib\\site-packages\\PIL\\Image.py\u001b[0m in \u001b[0;36m<module>\u001b[1;34m\u001b[0m\n\u001b[0;32m     67\u001b[0m     \u001b[1;31m# Also note that Image.core is not a publicly documented interface,\u001b[0m\u001b[1;33m\u001b[0m\u001b[1;33m\u001b[0m\u001b[1;33m\u001b[0m\u001b[0m\n\u001b[0;32m     68\u001b[0m     \u001b[1;31m# and should be considered private and subject to change.\u001b[0m\u001b[1;33m\u001b[0m\u001b[1;33m\u001b[0m\u001b[1;33m\u001b[0m\u001b[0m\n\u001b[1;32m---> 69\u001b[1;33m     \u001b[1;32mfrom\u001b[0m \u001b[1;33m.\u001b[0m \u001b[1;32mimport\u001b[0m \u001b[0m_imaging\u001b[0m \u001b[1;32mas\u001b[0m \u001b[0mcore\u001b[0m\u001b[1;33m\u001b[0m\u001b[1;33m\u001b[0m\u001b[0m\n\u001b[0m\u001b[0;32m     70\u001b[0m \u001b[1;33m\u001b[0m\u001b[0m\n\u001b[0;32m     71\u001b[0m     \u001b[1;32mif\u001b[0m \u001b[0m__version__\u001b[0m \u001b[1;33m!=\u001b[0m \u001b[0mgetattr\u001b[0m\u001b[1;33m(\u001b[0m\u001b[0mcore\u001b[0m\u001b[1;33m,\u001b[0m \u001b[1;34m\"PILLOW_VERSION\"\u001b[0m\u001b[1;33m,\u001b[0m \u001b[1;32mNone\u001b[0m\u001b[1;33m)\u001b[0m\u001b[1;33m:\u001b[0m\u001b[1;33m\u001b[0m\u001b[1;33m\u001b[0m\u001b[0m\n",
      "\u001b[1;31mImportError\u001b[0m: DLL load failed: The specified procedure could not be found."
     ]
    },
    {
     "name": "stdout",
     "output_type": "stream",
     "text": [
      "D:\\Documents\\Repositories\\notebooks\\covid19\\ipynb\\covid19-forecast-hub Exploration.ipynb\n",
      "['s.attempt_to_pickle', 's.data_csv_folder', 's.data_folder', 's.encoding_type', 's.load_csv', 's.load_dataframes', 's.load_object', 's.save_dataframes', 's.saves_csv_folder', 's.saves_folder', 's.saves_pickle_folder', 's.store_objects']\n"
     ]
    },
    {
     "data": {
      "text/plain": [
       "['Config', 'In', 'Out', 'RandomForestClassifier', 'SequenceMatcher', 'Storage', '_', '__', '___', '__builtin__', '__builtins__', '__doc__', '__loader__', '__name__', '__nonzero__', '__package__', '__spec__', '_dh', '_i', '_i1', '_i2', '_ih', '_ii', '_iii', '_oh', 'bs', 'check_4_doubles', 'check_for_typos', 'conjunctify_list', 'copyfile', 'csv', 'encoding', 'exit', 'get_classifier', 'get_data_structs_dataframe', 'get_datastructure_prediction', 'get_dir_tree', 'get_git_lfs_track_commands', 'get_importances', 'get_input_sample', 'get_ipython', 'get_module_version', 'get_notebook_path', 'get_specific_gitignore_files', 'get_struct_name', 'humanize_bytes', 'io', 'ipykernel', 'json', 'jupyter_config_dir', 'math', 'notebook_path', 'notebookapp', 'nx', 'os', 'pd', 'pickle', 'preprocess_data', 'print_all_files_ending_starting_with', 'print_all_files_ending_with', 'print_all_files_starting_with', 'quit', 're', 'remove_empty_folders', 's', 'scraping_utils', 'similar', 'stats', 'subprocess', 'sys', 'time', 'urllib', 'wikipedia']"
      ]
     },
     "execution_count": 2,
     "metadata": {},
     "output_type": "execute_result"
    }
   ],
   "source": [
    "\n",
    "%pprint\n",
    "%run ../../load_magic/storage.py\n",
    "%run ../../load_magic/paths.py\n",
    "%run ../../load_magic/lists.py\n",
    "%run ../../load_magic/environment.py\n",
    "%run ../../load_magic/dataframes.py\n",
    "\n",
    "import scraping_utils\n",
    "wikipedia = scraping_utils.wikipedia\n",
    "\n",
    "from bs4 import BeautifulSoup as bs\n",
    "import networkx as nx\n",
    "import re\n",
    "import urllib.request\n",
    "\n",
    "notebook_path = get_notebook_path()\n",
    "print(notebook_path)\n",
    "s = Storage()\n",
    "#pandemic_df = s.load_object('pandemic_df')\n",
    "print(['s.{}'.format(fn) for fn in dir(s) if not fn.startswith('_')])\n",
    "\n",
    "dir()"
   ]
  },
  {
   "cell_type": "code",
   "execution_count": 3,
   "metadata": {},
   "outputs": [],
   "source": [
    "\n",
    "!start %windir%\\explorer.exe \"{os.path.abspath(os.path.dirname(notebook_path))}\""
   ]
  },
  {
   "cell_type": "markdown",
   "metadata": {},
   "source": [
    "\n",
    "---"
   ]
  },
  {
   "cell_type": "code",
   "execution_count": 34,
   "metadata": {},
   "outputs": [
    {
     "data": {
      "text/plain": [
       "array(['Alabama', 'Alaska', 'Arizona', 'Arkansas', 'California',\n",
       "       'Colorado', 'Connecticut', 'Delaware', 'District of Columbia',\n",
       "       'Florida', 'Georgia', 'Hawaii', 'Idaho', 'Illinois', 'Indiana',\n",
       "       'Iowa', 'Kansas', 'Kentucky', 'Louisiana', 'Maine', 'Maryland',\n",
       "       'Massachusetts', 'Michigan', 'Minnesota', 'Mississippi',\n",
       "       'Missouri', 'Montana', 'Nebraska', 'Nevada', 'New Hampshire',\n",
       "       'New Jersey', 'New Mexico', 'New York', 'North Carolina',\n",
       "       'North Dakota', 'Ohio', 'Oklahoma', 'Oregon', 'Pennsylvania',\n",
       "       'Rhode Island', 'South Carolina', 'South Dakota', 'Tennessee',\n",
       "       'Texas', 'Utah', 'Vermont', 'Virginia', 'Washington',\n",
       "       'West Virginia', 'Wisconsin', 'Wyoming', 'US'], dtype=object)"
      ]
     },
     "execution_count": 34,
     "metadata": {},
     "output_type": "execute_result"
    }
   ],
   "source": [
    "\n",
    "hub_truth_cum_death_df = s.load_object('hub_truth_cum_death_df')\n",
    "hub_truth_cum_death_df.location_name.unique()"
   ]
  },
  {
   "cell_type": "markdown",
   "metadata": {},
   "source": [
    "\n",
    "---\n",
    "# Scrape the Data"
   ]
  },
  {
   "cell_type": "code",
   "execution_count": 20,
   "metadata": {},
   "outputs": [],
   "source": [
    "\n",
    "data_dir = os.path.abspath('../../../covid19-forecast-hub/data-processed')\n",
    "csv_list = []\n",
    "black_list = ['.ipynb_checkpoints']\n",
    "for sub_directory, directories_list, files_list in os.walk(data_dir):\n",
    "    if all(map(lambda x: x not in sub_directory, black_list)):\n",
    "        for file_name in files_list:\n",
    "            if file_name.endswith('.csv'):\n",
    "                file_path = os.path.join(sub_directory, file_name)\n",
    "                csv_list.append(file_path)"
   ]
  },
  {
   "cell_type": "code",
   "execution_count": 31,
   "metadata": {},
   "outputs": [
    {
     "name": "stdout",
     "output_type": "stream",
     "text": [
      "hub_2020_04_13_CU_80contact_df\n"
     ]
    },
    {
     "data": {
      "text/html": [
       "<div>\n",
       "<style scoped>\n",
       "    .dataframe tbody tr th:only-of-type {\n",
       "        vertical-align: middle;\n",
       "    }\n",
       "\n",
       "    .dataframe tbody tr th {\n",
       "        vertical-align: top;\n",
       "    }\n",
       "\n",
       "    .dataframe thead th {\n",
       "        text-align: right;\n",
       "    }\n",
       "</style>\n",
       "<table border=\"1\" class=\"dataframe\">\n",
       "  <thead>\n",
       "    <tr style=\"text-align: right;\">\n",
       "      <th></th>\n",
       "      <th>target</th>\n",
       "      <th>location</th>\n",
       "      <th>location_name</th>\n",
       "      <th>type</th>\n",
       "      <th>quantile</th>\n",
       "      <th>value</th>\n",
       "    </tr>\n",
       "  </thead>\n",
       "  <tbody>\n",
       "    <tr>\n",
       "      <th>0</th>\n",
       "      <td>1 day ahead cum death</td>\n",
       "      <td>01</td>\n",
       "      <td>Alabama</td>\n",
       "      <td>point</td>\n",
       "      <td>NaN</td>\n",
       "      <td>41</td>\n",
       "    </tr>\n",
       "    <tr>\n",
       "      <th>1</th>\n",
       "      <td>1 day ahead cum death</td>\n",
       "      <td>02</td>\n",
       "      <td>Alaska</td>\n",
       "      <td>point</td>\n",
       "      <td>NaN</td>\n",
       "      <td>10</td>\n",
       "    </tr>\n",
       "    <tr>\n",
       "      <th>2</th>\n",
       "      <td>1 day ahead cum death</td>\n",
       "      <td>04</td>\n",
       "      <td>Arizona</td>\n",
       "      <td>point</td>\n",
       "      <td>NaN</td>\n",
       "      <td>191</td>\n",
       "    </tr>\n",
       "    <tr>\n",
       "      <th>3</th>\n",
       "      <td>1 day ahead cum death</td>\n",
       "      <td>05</td>\n",
       "      <td>Arkansas</td>\n",
       "      <td>point</td>\n",
       "      <td>NaN</td>\n",
       "      <td>12</td>\n",
       "    </tr>\n",
       "    <tr>\n",
       "      <th>4</th>\n",
       "      <td>1 day ahead cum death</td>\n",
       "      <td>06</td>\n",
       "      <td>California</td>\n",
       "      <td>point</td>\n",
       "      <td>NaN</td>\n",
       "      <td>1200</td>\n",
       "    </tr>\n",
       "    <tr>\n",
       "      <th>...</th>\n",
       "      <td>...</td>\n",
       "      <td>...</td>\n",
       "      <td>...</td>\n",
       "      <td>...</td>\n",
       "      <td>...</td>\n",
       "      <td>...</td>\n",
       "    </tr>\n",
       "    <tr>\n",
       "      <th>105259</th>\n",
       "      <td>9 day ahead inc death</td>\n",
       "      <td>53</td>\n",
       "      <td>Washington</td>\n",
       "      <td>quantile</td>\n",
       "      <td>0.99</td>\n",
       "      <td>494</td>\n",
       "    </tr>\n",
       "    <tr>\n",
       "      <th>105260</th>\n",
       "      <td>9 day ahead inc death</td>\n",
       "      <td>54</td>\n",
       "      <td>West Virginia</td>\n",
       "      <td>quantile</td>\n",
       "      <td>0.99</td>\n",
       "      <td>12</td>\n",
       "    </tr>\n",
       "    <tr>\n",
       "      <th>105261</th>\n",
       "      <td>9 day ahead inc death</td>\n",
       "      <td>55</td>\n",
       "      <td>Wisconsin</td>\n",
       "      <td>quantile</td>\n",
       "      <td>0.99</td>\n",
       "      <td>154</td>\n",
       "    </tr>\n",
       "    <tr>\n",
       "      <th>105262</th>\n",
       "      <td>9 day ahead inc death</td>\n",
       "      <td>56</td>\n",
       "      <td>Wyoming</td>\n",
       "      <td>quantile</td>\n",
       "      <td>0.99</td>\n",
       "      <td>16</td>\n",
       "    </tr>\n",
       "    <tr>\n",
       "      <th>105263</th>\n",
       "      <td>9 day ahead inc death</td>\n",
       "      <td>US</td>\n",
       "      <td>US</td>\n",
       "      <td>quantile</td>\n",
       "      <td>0.99</td>\n",
       "      <td>12072</td>\n",
       "    </tr>\n",
       "  </tbody>\n",
       "</table>\n",
       "<p>105264 rows × 6 columns</p>\n",
       "</div>"
      ],
      "text/plain": [
       "                       target location  location_name      type  quantile  \\\n",
       "0       1 day ahead cum death       01        Alabama     point       NaN   \n",
       "1       1 day ahead cum death       02         Alaska     point       NaN   \n",
       "2       1 day ahead cum death       04        Arizona     point       NaN   \n",
       "3       1 day ahead cum death       05       Arkansas     point       NaN   \n",
       "4       1 day ahead cum death       06     California     point       NaN   \n",
       "...                       ...      ...            ...       ...       ...   \n",
       "105259  9 day ahead inc death       53     Washington  quantile      0.99   \n",
       "105260  9 day ahead inc death       54  West Virginia  quantile      0.99   \n",
       "105261  9 day ahead inc death       55      Wisconsin  quantile      0.99   \n",
       "105262  9 day ahead inc death       56        Wyoming  quantile      0.99   \n",
       "105263  9 day ahead inc death       US             US  quantile      0.99   \n",
       "\n",
       "        value  \n",
       "0          41  \n",
       "1          10  \n",
       "2         191  \n",
       "3          12  \n",
       "4        1200  \n",
       "...       ...  \n",
       "105259    494  \n",
       "105260     12  \n",
       "105261    154  \n",
       "105262     16  \n",
       "105263  12072  \n",
       "\n",
       "[105264 rows x 6 columns]"
      ]
     },
     "execution_count": 31,
     "metadata": {},
     "output_type": "execute_result"
    }
   ],
   "source": [
    "\n",
    "import random\n",
    "\n",
    "csv_path = random.choice(csv_list)\n",
    "df_name = 'hub_{}_df'.format(re.sub('-', '_', csv_path.split(os.sep)[-1][:-4]))\n",
    "print('{}'.format(df_name))\n",
    "pd.read_csv(csv_path, encoding=s.encoding_type)"
   ]
  },
  {
   "cell_type": "code",
   "execution_count": 29,
   "metadata": {},
   "outputs": [
    {
     "name": "stdout",
     "output_type": "stream",
     "text": [
      "Pickling to D:\\Documents\\Repositories\\notebooks\\covid19\\saves\\pickle\\hub_truth_cum_death_df.pickle\n",
      "Pickling to D:\\Documents\\Repositories\\notebooks\\covid19\\saves\\pickle\\hub_zoltar_truth_cum_death_df.pickle\n",
      "Pickling to D:\\Documents\\Repositories\\notebooks\\covid19\\saves\\pickle\\hub_2020_04_13_COVIDhub_ensemble_df.pickle\n",
      "Pickling to D:\\Documents\\Repositories\\notebooks\\covid19\\saves\\pickle\\hub_COVIDhub_ensemble_information_df.pickle\n",
      "Pickling to D:\\Documents\\Repositories\\notebooks\\covid19\\saves\\pickle\\hub_2020_04_12_CU_60contact_df.pickle\n",
      "Pickling to D:\\Documents\\Repositories\\notebooks\\covid19\\saves\\pickle\\hub_2020_04_13_CU_60contact_df.pickle\n",
      "Pickling to D:\\Documents\\Repositories\\notebooks\\covid19\\saves\\pickle\\hub_2020_04_16_CU_60contact_df.pickle\n",
      "Pickling to D:\\Documents\\Repositories\\notebooks\\covid19\\saves\\pickle\\hub_2020_04_19_CU_60contact_df.pickle\n",
      "Pickling to D:\\Documents\\Repositories\\notebooks\\covid19\\saves\\pickle\\hub_2020_04_12_CU_70contact_df.pickle\n",
      "Pickling to D:\\Documents\\Repositories\\notebooks\\covid19\\saves\\pickle\\hub_2020_04_13_CU_70contact_df.pickle\n",
      "Pickling to D:\\Documents\\Repositories\\notebooks\\covid19\\saves\\pickle\\hub_2020_04_16_CU_70contact_df.pickle\n",
      "Pickling to D:\\Documents\\Repositories\\notebooks\\covid19\\saves\\pickle\\hub_2020_04_19_CU_70contact_df.pickle\n",
      "Pickling to D:\\Documents\\Repositories\\notebooks\\covid19\\saves\\pickle\\hub_2020_04_12_CU_80contact_df.pickle\n",
      "Pickling to D:\\Documents\\Repositories\\notebooks\\covid19\\saves\\pickle\\hub_2020_04_13_CU_80contact_df.pickle\n",
      "Pickling to D:\\Documents\\Repositories\\notebooks\\covid19\\saves\\pickle\\hub_2020_04_16_CU_80contact_df.pickle\n",
      "Pickling to D:\\Documents\\Repositories\\notebooks\\covid19\\saves\\pickle\\hub_2020_04_19_CU_80contact_df.pickle\n",
      "Pickling to D:\\Documents\\Repositories\\notebooks\\covid19\\saves\\pickle\\hub_2020_04_12_CU_nointerv_df.pickle\n",
      "Pickling to D:\\Documents\\Repositories\\notebooks\\covid19\\saves\\pickle\\hub_2020_04_13_CU_nointerv_df.pickle\n",
      "Pickling to D:\\Documents\\Repositories\\notebooks\\covid19\\saves\\pickle\\hub_2020_04_16_CU_nointerv_df.pickle\n",
      "Pickling to D:\\Documents\\Repositories\\notebooks\\covid19\\saves\\pickle\\hub_2020_04_19_CU_nointerv_df.pickle\n",
      "Pickling to D:\\Documents\\Repositories\\notebooks\\covid19\\saves\\pickle\\hub_2020_03_27_IHME_CurveFit_df.pickle\n",
      "Pickling to D:\\Documents\\Repositories\\notebooks\\covid19\\saves\\pickle\\hub_2020_03_29_IHME_CurveFit_df.pickle\n",
      "Pickling to D:\\Documents\\Repositories\\notebooks\\covid19\\saves\\pickle\\hub_2020_03_30_IHME_CurveFit_df.pickle\n",
      "Pickling to D:\\Documents\\Repositories\\notebooks\\covid19\\saves\\pickle\\hub_2020_03_31_IHME_CurveFit_df.pickle\n",
      "Pickling to D:\\Documents\\Repositories\\notebooks\\covid19\\saves\\pickle\\hub_2020_04_01_IHME_CurveFit_df.pickle\n",
      "Pickling to D:\\Documents\\Repositories\\notebooks\\covid19\\saves\\pickle\\hub_2020_04_05_IHME_CurveFit_df.pickle\n",
      "Pickling to D:\\Documents\\Repositories\\notebooks\\covid19\\saves\\pickle\\hub_2020_04_06_IHME_CurveFit_df.pickle\n",
      "Pickling to D:\\Documents\\Repositories\\notebooks\\covid19\\saves\\pickle\\hub_2020_04_07_IHME_CurveFit_df.pickle\n",
      "Pickling to D:\\Documents\\Repositories\\notebooks\\covid19\\saves\\pickle\\hub_2020_04_09_IHME_CurveFit_df.pickle\n",
      "Pickling to D:\\Documents\\Repositories\\notebooks\\covid19\\saves\\pickle\\hub_2020_04_12_IHME_CurveFit_df.pickle\n",
      "Pickling to D:\\Documents\\Repositories\\notebooks\\covid19\\saves\\pickle\\hub_2020_04_13_IHME_CurveFit_df.pickle\n",
      "Pickling to D:\\Documents\\Repositories\\notebooks\\covid19\\saves\\pickle\\hub_2020_04_16_IHME_CurveFit_df.pickle\n",
      "Pickling to D:\\Documents\\Repositories\\notebooks\\covid19\\saves\\pickle\\hub_2020_03_16_Imperial_ensemble1_df.pickle\n",
      "Pickling to D:\\Documents\\Repositories\\notebooks\\covid19\\saves\\pickle\\hub_2020_03_23_Imperial_ensemble1_df.pickle\n",
      "Pickling to D:\\Documents\\Repositories\\notebooks\\covid19\\saves\\pickle\\hub_2020_03_30_Imperial_ensemble1_df.pickle\n",
      "Pickling to D:\\Documents\\Repositories\\notebooks\\covid19\\saves\\pickle\\hub_2020_04_06_Imperial_ensemble1_df.pickle\n",
      "Pickling to D:\\Documents\\Repositories\\notebooks\\covid19\\saves\\pickle\\hub_2020_04_13_Imperial_ensemble1_df.pickle\n",
      "Pickling to D:\\Documents\\Repositories\\notebooks\\covid19\\saves\\pickle\\hub_Imperial_forecast_dates_df.pickle\n",
      "Pickling to D:\\Documents\\Repositories\\notebooks\\covid19\\saves\\pickle\\hub_2020_03_16_Imperial_ensemble2_df.pickle\n",
      "Pickling to D:\\Documents\\Repositories\\notebooks\\covid19\\saves\\pickle\\hub_2020_03_23_Imperial_ensemble2_df.pickle\n",
      "Pickling to D:\\Documents\\Repositories\\notebooks\\covid19\\saves\\pickle\\hub_2020_03_30_Imperial_ensemble2_df.pickle\n",
      "Pickling to D:\\Documents\\Repositories\\notebooks\\covid19\\saves\\pickle\\hub_2020_04_06_Imperial_ensemble2_df.pickle\n",
      "Pickling to D:\\Documents\\Repositories\\notebooks\\covid19\\saves\\pickle\\hub_2020_04_13_Imperial_ensemble2_df.pickle\n",
      "Pickling to D:\\Documents\\Repositories\\notebooks\\covid19\\saves\\pickle\\hub_Imperial_forecast_dates_df.pickle\n",
      "Pickling to D:\\Documents\\Repositories\\notebooks\\covid19\\saves\\pickle\\hub_2020_04_05_LANL_GrowthRate_df.pickle\n",
      "Pickling to D:\\Documents\\Repositories\\notebooks\\covid19\\saves\\pickle\\hub_2020_04_08_LANL_GrowthRate_df.pickle\n",
      "Pickling to D:\\Documents\\Repositories\\notebooks\\covid19\\saves\\pickle\\hub_2020_04_12_LANL_GrowthRate_df.pickle\n",
      "Pickling to D:\\Documents\\Repositories\\notebooks\\covid19\\saves\\pickle\\hub_2020_04_15_LANL_GrowthRate_df.pickle\n",
      "Pickling to D:\\Documents\\Repositories\\notebooks\\covid19\\saves\\pickle\\hub_2020_04_19_LANL_GrowthRate_df.pickle\n",
      "Pickling to D:\\Documents\\Repositories\\notebooks\\covid19\\saves\\pickle\\hub_2020_04_13_MOBS_NEU_GLEAM_COVID_df.pickle\n"
     ]
    }
   ],
   "source": [
    "\n",
    "for csv_path in csv_list:\n",
    "    df_name = 'hub_{}_df'.format(re.sub('-', '_', csv_path.split(os.sep)[-1][:-4]))\n",
    "    exec('{} = pd.read_csv(csv_path, encoding=s.encoding_type)'.format(df_name))\n",
    "    exec('s.store_objects({}={})'.format(df_name, df_name))"
   ]
  },
  {
   "cell_type": "code",
   "execution_count": null,
   "metadata": {},
   "outputs": [],
   "source": []
  }
 ],
 "metadata": {
  "kernelspec": {
   "display_name": "Python 3",
   "language": "python",
   "name": "python3"
  },
  "language_info": {
   "codemirror_mode": {
    "name": "ipython",
    "version": 3
   },
   "file_extension": ".py",
   "mimetype": "text/x-python",
   "name": "python",
   "nbconvert_exporter": "python",
   "pygments_lexer": "ipython3",
   "version": "3.7.7"
  }
 },
 "nbformat": 4,
 "nbformat_minor": 4
}
