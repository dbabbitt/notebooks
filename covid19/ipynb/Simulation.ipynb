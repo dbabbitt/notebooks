{
 "cells": [
  {
   "cell_type": "markdown",
   "metadata": {},
   "source": [
    "\n",
    "![Image](https://github.com/julienbordet/spread/raw/master/images/Models.png)"
   ]
  },
  {
   "cell_type": "code",
   "execution_count": 1,
   "metadata": {},
   "outputs": [],
   "source": [
    "\n",
    "import sys\n",
    "\n",
    "# Insert at 1, 0 is the script path (or '' in REPL)\n",
    "sys.path.insert(1, '../py')"
   ]
  },
  {
   "cell_type": "code",
   "execution_count": 2,
   "metadata": {},
   "outputs": [
    {
     "name": "stdout",
     "output_type": "stream",
     "text": [
      "Pretty printing has been turned OFF\n",
      "D:\\Documents\\Repositories\\notebooks\\covid19\\ipynb\\Simulation.ipynb\n",
      "['s.attempt_to_pickle', 's.data_csv_folder', 's.data_folder', 's.encoding_type', 's.load_csv', 's.load_dataframes', 's.load_object', 's.save_dataframes', 's.saves_csv_folder', 's.saves_folder', 's.saves_pickle_folder', 's.store_objects']\n"
     ]
    },
    {
     "data": {
      "text/plain": [
       "['Config', 'In', 'Out', 'Path', 'RandomForestClassifier', 'SequenceMatcher', 'Storage', '_', '__', '___', '__builtin__', '__builtins__', '__doc__', '__loader__', '__name__', '__nonzero__', '__package__', '__spec__', '_dh', '_i', '_i1', '_i2', '_ih', '_ii', '_iii', '_oh', 'bs', 'check_4_doubles', 'check_for_typos', 'conjunctify_list', 'copyfile', 'csv', 'encoding', 'example_iterrows', 'exit', 'filepath_regex', 'get_classifier', 'get_column_descriptions', 'get_data_structs_dataframe', 'get_datastructure_prediction', 'get_dir_tree', 'get_git_lfs_track_commands', 'get_importances', 'get_input_sample', 'get_ipython', 'get_max_rsquared_adj', 'get_module_version', 'get_notebook_path', 'get_page_soup', 'get_page_tables', 'get_specific_gitignore_files', 'get_struct_name', 'humanize_bytes', 'io', 'ipykernel', 'json', 'jupyter_config_dir', 'math', 'notebook_path', 'notebookapp', 'np', 'nx', 'os', 'pandemic_df', 'pd', 'pickle', 'plt', 'preprocess_data', 'print_all_files_ending_starting_with', 'print_all_files_ending_with', 'print_all_files_starting_with', 'quit', 'random', 're', 'remove_empty_folders', 's', 'similar', 'sm', 'sns', 'stats', 'subprocess', 'sys', 'time', 'url_regex', 'urllib', 'urlretrieve', 'wikipedia']"
      ]
     },
     "execution_count": 2,
     "metadata": {},
     "output_type": "execute_result"
    }
   ],
   "source": [
    "\n",
    "%run ../../load_magic/dataframes.py\n",
    "%run ../../load_magic/environment.py\n",
    "%run ../../load_magic/lists.py\n",
    "%run ../../load_magic/paths.py\n",
    "%run ../../load_magic/soup.py\n",
    "%run ../../load_magic/storage.py\n",
    "%pprint\n",
    "\n",
    "from bs4 import BeautifulSoup as bs\n",
    "import networkx as nx\n",
    "import numpy as np\n",
    "import re\n",
    "import urllib.request\n",
    "import wikipedia\n",
    "\n",
    "notebook_path = get_notebook_path()\n",
    "print(notebook_path)\n",
    "s = Storage()\n",
    "pandemic_df = s.load_object('pandemic_df')\n",
    "print(['s.{}'.format(fn) for fn in dir(s) if not fn.startswith('_')])\n",
    "dir()"
   ]
  },
  {
   "cell_type": "code",
   "execution_count": 57,
   "metadata": {},
   "outputs": [
    {
     "name": "stdout",
     "output_type": "stream",
     "text": [
      "['db.R0', 'db.clusterNbr', 'db.contagionDelay', 'db.contagionRate', 'db.currentRound', 'db.deceasedData', 'db.deceasedDelay', 'db.deceasedNbr', 'db.diagnosedNbr', 'db.diagnosisDelay', 'db.hospitalizedData', 'db.hospitalizedDelay', 'db.hospitalizedNbr', 'db.hospitalizedRate', 'db.immunityRate', 'db.infectedData', 'db.initBoard', 'db.lastBoard', 'db.mortalityDelay', 'db.mortalityRate', 'db.nextRound', 'db.population', 'db.quarantineRate', 'db.quarantinedData', 'db.quarantinedNbr', 'db.reset', 'db.sickNbr', 'db.socialDistancingContagionRate', 'db.socialDistancingDelay']\n"
     ]
    }
   ],
   "source": [
    "\n",
    "from DiseaseBoard import DiseaseBoard\n",
    "\n",
    "tours = 60\n",
    "board_size = 30\n",
    "nb_clusters = 3\n",
    "db = DiseaseBoard(board_size, tours, nb_clusters)\n",
    "db.reset()\n",
    "print(['db.{}'.format(fn) for fn in dir(db) if not fn.startswith('_')])"
   ]
  },
  {
   "cell_type": "code",
   "execution_count": 60,
   "metadata": {},
   "outputs": [
    {
     "data": {
      "text/plain": [
       "-1"
      ]
     },
     "execution_count": 60,
     "metadata": {},
     "output_type": "execute_result"
    }
   ],
   "source": [
    "\n",
    "db.socialDistancingDelay"
   ]
  },
  {
   "cell_type": "code",
   "execution_count": 5,
   "metadata": {},
   "outputs": [
    {
     "name": "stdout",
     "output_type": "stream",
     "text": [
      "['spread.DiseaseBoard', 'spread.MainWindow', 'spread.PlotWidget', 'spread.Pos', 'spread.Qt', 'spread.QtCriticalMsg', 'spread.QtDebugMsg', 'spread.QtFatalMsg', 'spread.QtInfoMsg', 'spread.QtMsgType', 'spread.QtSystemMsg', 'spread.QtWarningMsg']\n"
     ]
    }
   ],
   "source": [
    "\n",
    "import spread\n",
    "\n",
    "def f(x):\n",
    "    if re.search('^[A-Z][a-z]', str(x)):\n",
    "        result = True\n",
    "    else:\n",
    "        result = False\n",
    "    \n",
    "    return result\n",
    "\n",
    "print(['spread.{}'.format(fn) for fn in dir(spread) if f(fn)])"
   ]
  },
  {
   "cell_type": "code",
   "execution_count": 12,
   "metadata": {},
   "outputs": [
    {
     "name": "stdout",
     "output_type": "stream",
     "text": [
      "['spread.MainWindow.AllowNestedDocks', 'spread.MainWindow.AllowTabbedDocks', 'spread.MainWindow.AnimatedDocks', 'spread.MainWindow.DockOption', 'spread.MainWindow.DockOptions', 'spread.MainWindow.DrawChildren', 'spread.MainWindow.DrawWindowBackground', 'spread.MainWindow.ForceTabbedDocks', 'spread.MainWindow.GroupedDragging', 'spread.MainWindow.IgnoreMask', 'spread.MainWindow.PaintDeviceMetric', 'spread.MainWindow.PdmDepth', 'spread.MainWindow.PdmDevicePixelRatio', 'spread.MainWindow.PdmDevicePixelRatioScaled', 'spread.MainWindow.PdmDpiX', 'spread.MainWindow.PdmDpiY', 'spread.MainWindow.PdmHeight', 'spread.MainWindow.PdmHeightMM', 'spread.MainWindow.PdmNumColors', 'spread.MainWindow.PdmPhysicalDpiX', 'spread.MainWindow.PdmPhysicalDpiY', 'spread.MainWindow.PdmWidth', 'spread.MainWindow.PdmWidthMM', 'spread.MainWindow.RenderFlag', 'spread.MainWindow.RenderFlags', 'spread.MainWindow.VerticalTabs', 'spread.MainWindow.acceptDrops', 'spread.MainWindow.accessibleDescription', 'spread.MainWindow.accessibleName', 'spread.MainWindow.actionEvent', 'spread.MainWindow.actions', 'spread.MainWindow.activateWindow', 'spread.MainWindow.addAction', 'spread.MainWindow.addActions', 'spread.MainWindow.addDockWidget', 'spread.MainWindow.addToolBar', 'spread.MainWindow.addToolBarBreak', 'spread.MainWindow.adjustSize', 'spread.MainWindow.autoFillBackground', 'spread.MainWindow.backgroundRole', 'spread.MainWindow.baseSize', 'spread.MainWindow.blockSignals', 'spread.MainWindow.centralWidget', 'spread.MainWindow.changeEvent', 'spread.MainWindow.childAt', 'spread.MainWindow.childEvent', 'spread.MainWindow.children', 'spread.MainWindow.childrenRect', 'spread.MainWindow.childrenRegion', 'spread.MainWindow.clearFocus', 'spread.MainWindow.clearMask', 'spread.MainWindow.close', 'spread.MainWindow.closeEvent', 'spread.MainWindow.colorCount', 'spread.MainWindow.connectNotify', 'spread.MainWindow.contentsMargins', 'spread.MainWindow.contentsRect', 'spread.MainWindow.contextMenuEvent', 'spread.MainWindow.contextMenuPolicy', 'spread.MainWindow.corner', 'spread.MainWindow.create', 'spread.MainWindow.createPopupMenu', 'spread.MainWindow.createWindowContainer', 'spread.MainWindow.cursor', 'spread.MainWindow.customContextMenuRequested', 'spread.MainWindow.customEvent', 'spread.MainWindow.deleteLater', 'spread.MainWindow.depth', 'spread.MainWindow.destroy', 'spread.MainWindow.destroyed', 'spread.MainWindow.devType', 'spread.MainWindow.devicePixelRatio', 'spread.MainWindow.devicePixelRatioF', 'spread.MainWindow.devicePixelRatioFScale', 'spread.MainWindow.disconnect', 'spread.MainWindow.disconnectNotify', 'spread.MainWindow.dockOptions', 'spread.MainWindow.dockWidgetArea', 'spread.MainWindow.documentMode', 'spread.MainWindow.dragEnterEvent', 'spread.MainWindow.dragLeaveEvent', 'spread.MainWindow.dragMoveEvent', 'spread.MainWindow.dropEvent', 'spread.MainWindow.dumpObjectInfo', 'spread.MainWindow.dumpObjectTree', 'spread.MainWindow.dynamicPropertyNames', 'spread.MainWindow.effectiveWinId', 'spread.MainWindow.ensurePolished', 'spread.MainWindow.enterEvent', 'spread.MainWindow.event', 'spread.MainWindow.eventFilter', 'spread.MainWindow.find', 'spread.MainWindow.findChild', 'spread.MainWindow.findChildren', 'spread.MainWindow.focusInEvent', 'spread.MainWindow.focusNextChild', 'spread.MainWindow.focusNextPrevChild', 'spread.MainWindow.focusOutEvent', 'spread.MainWindow.focusPolicy', 'spread.MainWindow.focusPreviousChild', 'spread.MainWindow.focusProxy', 'spread.MainWindow.focusWidget', 'spread.MainWindow.font', 'spread.MainWindow.fontInfo', 'spread.MainWindow.fontMetrics', 'spread.MainWindow.foregroundRole', 'spread.MainWindow.frameGeometry', 'spread.MainWindow.frameSize', 'spread.MainWindow.geometry', 'spread.MainWindow.getContentsMargins', 'spread.MainWindow.goButtonPressed', 'spread.MainWindow.grab', 'spread.MainWindow.grabGesture', 'spread.MainWindow.grabKeyboard', 'spread.MainWindow.grabMouse', 'spread.MainWindow.grabShortcut', 'spread.MainWindow.graphicsEffect', 'spread.MainWindow.graphicsProxyWidget', 'spread.MainWindow.hasFocus', 'spread.MainWindow.hasHeightForWidth', 'spread.MainWindow.hasMouseTracking', 'spread.MainWindow.hasTabletTracking', 'spread.MainWindow.height', 'spread.MainWindow.heightForWidth', 'spread.MainWindow.heightMM', 'spread.MainWindow.hide', 'spread.MainWindow.hideEvent', 'spread.MainWindow.iconSize', 'spread.MainWindow.iconSizeChanged', 'spread.MainWindow.inherits', 'spread.MainWindow.initMap', 'spread.MainWindow.initPainter', 'spread.MainWindow.inputMethodEvent', 'spread.MainWindow.inputMethodHints', 'spread.MainWindow.inputMethodQuery', 'spread.MainWindow.insertAction', 'spread.MainWindow.insertActions', 'spread.MainWindow.insertToolBar', 'spread.MainWindow.insertToolBarBreak', 'spread.MainWindow.installEventFilter', 'spread.MainWindow.isActiveWindow', 'spread.MainWindow.isAncestorOf', 'spread.MainWindow.isAnimated', 'spread.MainWindow.isDockNestingEnabled', 'spread.MainWindow.isEnabled', 'spread.MainWindow.isEnabledTo', 'spread.MainWindow.isFullScreen', 'spread.MainWindow.isHidden', 'spread.MainWindow.isLeftToRight', 'spread.MainWindow.isMaximized', 'spread.MainWindow.isMinimized', 'spread.MainWindow.isModal', 'spread.MainWindow.isRightToLeft', 'spread.MainWindow.isSeparator', 'spread.MainWindow.isSignalConnected', 'spread.MainWindow.isVisible', 'spread.MainWindow.isVisibleTo', 'spread.MainWindow.isWidgetType', 'spread.MainWindow.isWindow', 'spread.MainWindow.isWindowModified', 'spread.MainWindow.isWindowType', 'spread.MainWindow.keyPressEvent', 'spread.MainWindow.keyReleaseEvent', 'spread.MainWindow.keyboardGrabber', 'spread.MainWindow.killTimer', 'spread.MainWindow.layout', 'spread.MainWindow.layoutDirection', 'spread.MainWindow.leaveEvent', 'spread.MainWindow.locale', 'spread.MainWindow.logicalDpiX', 'spread.MainWindow.logicalDpiY', 'spread.MainWindow.lower', 'spread.MainWindow.mapFrom', 'spread.MainWindow.mapFromGlobal', 'spread.MainWindow.mapFromParent', 'spread.MainWindow.mapTo', 'spread.MainWindow.mapToGlobal', 'spread.MainWindow.mapToParent', 'spread.MainWindow.mask', 'spread.MainWindow.maximumHeight', 'spread.MainWindow.maximumSize', 'spread.MainWindow.maximumWidth', 'spread.MainWindow.menuBar', 'spread.MainWindow.menuWidget', 'spread.MainWindow.metaObject', 'spread.MainWindow.metric', 'spread.MainWindow.minimumHeight', 'spread.MainWindow.minimumSize', 'spread.MainWindow.minimumSizeHint', 'spread.MainWindow.minimumWidth', 'spread.MainWindow.mouseDoubleClickEvent', 'spread.MainWindow.mouseGrabber', 'spread.MainWindow.mouseMoveEvent', 'spread.MainWindow.mousePressEvent', 'spread.MainWindow.mouseReleaseEvent', 'spread.MainWindow.move', 'spread.MainWindow.moveEvent', 'spread.MainWindow.moveToThread', 'spread.MainWindow.nativeEvent', 'spread.MainWindow.nativeParentWidget', 'spread.MainWindow.nextButtonPressed', 'spread.MainWindow.nextInFocusChain', 'spread.MainWindow.normalGeometry', 'spread.MainWindow.objectName', 'spread.MainWindow.objectNameChanged', 'spread.MainWindow.overrideWindowFlags', 'spread.MainWindow.overrideWindowState', 'spread.MainWindow.paintEngine', 'spread.MainWindow.paintEvent', 'spread.MainWindow.paintingActive', 'spread.MainWindow.palette', 'spread.MainWindow.parent', 'spread.MainWindow.parentWidget', 'spread.MainWindow.physicalDpiX', 'spread.MainWindow.physicalDpiY', 'spread.MainWindow.pos', 'spread.MainWindow.previousInFocusChain', 'spread.MainWindow.property', 'spread.MainWindow.pyqtConfigure', 'spread.MainWindow.raise_', 'spread.MainWindow.receivers', 'spread.MainWindow.rect', 'spread.MainWindow.releaseKeyboard', 'spread.MainWindow.releaseMouse', 'spread.MainWindow.releaseShortcut', 'spread.MainWindow.removeAction', 'spread.MainWindow.removeDockWidget', 'spread.MainWindow.removeEventFilter', 'spread.MainWindow.removeToolBar', 'spread.MainWindow.removeToolBarBreak', 'spread.MainWindow.render', 'spread.MainWindow.repaint', 'spread.MainWindow.resetButtonPressed', 'spread.MainWindow.resize', 'spread.MainWindow.resizeDocks', 'spread.MainWindow.resizeEvent', 'spread.MainWindow.restoreDockWidget', 'spread.MainWindow.restoreGeometry', 'spread.MainWindow.restoreState', 'spread.MainWindow.saveGeometry', 'spread.MainWindow.saveState', 'spread.MainWindow.scroll', 'spread.MainWindow.sender', 'spread.MainWindow.senderSignalIndex', 'spread.MainWindow.setAcceptDrops', 'spread.MainWindow.setAccessibleDescription', 'spread.MainWindow.setAccessibleName', 'spread.MainWindow.setAnimated', 'spread.MainWindow.setAttribute', 'spread.MainWindow.setAutoFillBackground', 'spread.MainWindow.setBackgroundRole', 'spread.MainWindow.setBaseSize', 'spread.MainWindow.setCentralWidget', 'spread.MainWindow.setContentsMargins', 'spread.MainWindow.setContextMenuPolicy', 'spread.MainWindow.setCorner', 'spread.MainWindow.setCursor', 'spread.MainWindow.setDisabled', 'spread.MainWindow.setDockNestingEnabled', 'spread.MainWindow.setDockOptions', 'spread.MainWindow.setDocumentMode', 'spread.MainWindow.setEnabled', 'spread.MainWindow.setFixedHeight', 'spread.MainWindow.setFixedSize', 'spread.MainWindow.setFixedWidth', 'spread.MainWindow.setFocus', 'spread.MainWindow.setFocusPolicy', 'spread.MainWindow.setFocusProxy', 'spread.MainWindow.setFont', 'spread.MainWindow.setForegroundRole', 'spread.MainWindow.setGeometry', 'spread.MainWindow.setGraphicsEffect', 'spread.MainWindow.setHidden', 'spread.MainWindow.setIconSize', 'spread.MainWindow.setInputMethodHints', 'spread.MainWindow.setLayout', 'spread.MainWindow.setLayoutDirection', 'spread.MainWindow.setLocale', 'spread.MainWindow.setMask', 'spread.MainWindow.setMaximumHeight', 'spread.MainWindow.setMaximumSize', 'spread.MainWindow.setMaximumWidth', 'spread.MainWindow.setMenuBar', 'spread.MainWindow.setMenuWidget', 'spread.MainWindow.setMinimumHeight', 'spread.MainWindow.setMinimumSize', 'spread.MainWindow.setMinimumWidth', 'spread.MainWindow.setMouseTracking', 'spread.MainWindow.setObjectName', 'spread.MainWindow.setPalette', 'spread.MainWindow.setParent', 'spread.MainWindow.setProperty', 'spread.MainWindow.setShortcutAutoRepeat', 'spread.MainWindow.setShortcutEnabled', 'spread.MainWindow.setSizeIncrement', 'spread.MainWindow.setSizePolicy', 'spread.MainWindow.setStatusBar', 'spread.MainWindow.setStatusTip', 'spread.MainWindow.setStyle', 'spread.MainWindow.setStyleSheet', 'spread.MainWindow.setTabOrder', 'spread.MainWindow.setTabPosition', 'spread.MainWindow.setTabShape', 'spread.MainWindow.setTabletTracking', 'spread.MainWindow.setToolButtonStyle', 'spread.MainWindow.setToolTip', 'spread.MainWindow.setToolTipDuration', 'spread.MainWindow.setUnifiedTitleAndToolBarOnMac', 'spread.MainWindow.setUpdatesEnabled', 'spread.MainWindow.setVisible', 'spread.MainWindow.setWhatsThis', 'spread.MainWindow.setWindowFilePath', 'spread.MainWindow.setWindowFlag', 'spread.MainWindow.setWindowFlags', 'spread.MainWindow.setWindowIcon', 'spread.MainWindow.setWindowIconText', 'spread.MainWindow.setWindowModality', 'spread.MainWindow.setWindowModified', 'spread.MainWindow.setWindowOpacity', 'spread.MainWindow.setWindowRole', 'spread.MainWindow.setWindowState', 'spread.MainWindow.setWindowTitle', 'spread.MainWindow.setupConfGrid', 'spread.MainWindow.sharedPainter', 'spread.MainWindow.show', 'spread.MainWindow.showEvent', 'spread.MainWindow.showFullScreen', 'spread.MainWindow.showMaximized', 'spread.MainWindow.showMinimized', 'spread.MainWindow.showNormal', 'spread.MainWindow.signalsBlocked', 'spread.MainWindow.size', 'spread.MainWindow.sizeHint', 'spread.MainWindow.sizeIncrement', 'spread.MainWindow.sizePolicy', 'spread.MainWindow.splitDockWidget', 'spread.MainWindow.stackUnder', 'spread.MainWindow.startTimer', 'spread.MainWindow.staticMetaObject', 'spread.MainWindow.statusBar', 'spread.MainWindow.statusTip', 'spread.MainWindow.style', 'spread.MainWindow.styleSheet', 'spread.MainWindow.tabPosition', 'spread.MainWindow.tabShape', 'spread.MainWindow.tabifiedDockWidgetActivated', 'spread.MainWindow.tabifiedDockWidgets', 'spread.MainWindow.tabifyDockWidget', 'spread.MainWindow.tabletEvent', 'spread.MainWindow.takeCentralWidget', 'spread.MainWindow.testAttribute', 'spread.MainWindow.thread', 'spread.MainWindow.timerEvent', 'spread.MainWindow.toolBarArea', 'spread.MainWindow.toolBarBreak', 'spread.MainWindow.toolButtonStyle', 'spread.MainWindow.toolTip', 'spread.MainWindow.toolTipDuration', 'spread.MainWindow.tr', 'spread.MainWindow.underMouse', 'spread.MainWindow.ungrabGesture', 'spread.MainWindow.unifiedTitleAndToolBarOnMac', 'spread.MainWindow.unsetCursor', 'spread.MainWindow.unsetLayoutDirection', 'spread.MainWindow.unsetLocale', 'spread.MainWindow.update', 'spread.MainWindow.updateGeometry', 'spread.MainWindow.updateMap', 'spread.MainWindow.updateMicroFocus', 'spread.MainWindow.updateR0', 'spread.MainWindow.updateTimer', 'spread.MainWindow.updatesEnabled', 'spread.MainWindow.visibleRegion', 'spread.MainWindow.whatsThis', 'spread.MainWindow.wheelEvent', 'spread.MainWindow.width', 'spread.MainWindow.widthMM', 'spread.MainWindow.winId', 'spread.MainWindow.window', 'spread.MainWindow.windowFilePath', 'spread.MainWindow.windowFlags', 'spread.MainWindow.windowHandle', 'spread.MainWindow.windowIcon', 'spread.MainWindow.windowIconChanged', 'spread.MainWindow.windowIconText', 'spread.MainWindow.windowIconTextChanged', 'spread.MainWindow.windowModality', 'spread.MainWindow.windowOpacity', 'spread.MainWindow.windowRole', 'spread.MainWindow.windowState', 'spread.MainWindow.windowTitle', 'spread.MainWindow.windowTitleChanged', 'spread.MainWindow.windowType', 'spread.MainWindow.x', 'spread.MainWindow.y']\n"
     ]
    }
   ],
   "source": [
    "\n",
    "print(['spread.MainWindow.{}'.format(fn) for fn in dir(spread.MainWindow) if not fn.startswith('_')])"
   ]
  },
  {
   "cell_type": "code",
   "execution_count": 11,
   "metadata": {},
   "outputs": [
    {
     "name": "stdout",
     "output_type": "stream",
     "text": [
      "['spread.DiseaseBoard.R0', 'spread.DiseaseBoard.clusterNbr', 'spread.DiseaseBoard.contagionDelay', 'spread.DiseaseBoard.contagionRate', 'spread.DiseaseBoard.currentRound', 'spread.DiseaseBoard.deceasedData', 'spread.DiseaseBoard.deceasedDelay', 'spread.DiseaseBoard.deceasedNbr', 'spread.DiseaseBoard.diagnosedNbr', 'spread.DiseaseBoard.diagnosisDelay', 'spread.DiseaseBoard.hospitalizedData', 'spread.DiseaseBoard.hospitalizedDelay', 'spread.DiseaseBoard.hospitalizedNbr', 'spread.DiseaseBoard.hospitalizedRate', 'spread.DiseaseBoard.immunityRate', 'spread.DiseaseBoard.infectedData', 'spread.DiseaseBoard.initBoard', 'spread.DiseaseBoard.lastBoard', 'spread.DiseaseBoard.mortalityDelay', 'spread.DiseaseBoard.mortalityRate', 'spread.DiseaseBoard.nextRound', 'spread.DiseaseBoard.population', 'spread.DiseaseBoard.quarantineRate', 'spread.DiseaseBoard.quarantinedData', 'spread.DiseaseBoard.quarantinedNbr', 'spread.DiseaseBoard.reset', 'spread.DiseaseBoard.sickNbr', 'spread.DiseaseBoard.socialDistancingContagionRate', 'spread.DiseaseBoard.socialDistancingDelay']\n"
     ]
    }
   ],
   "source": [
    "\n",
    "print(['spread.DiseaseBoard.{}'.format(fn) for fn in dir(spread.DiseaseBoard) if not fn.startswith('_')])"
   ]
  },
  {
   "cell_type": "code",
   "execution_count": 8,
   "metadata": {},
   "outputs": [
    {
     "name": "stdout",
     "output_type": "stream",
     "text": [
      "['DiseaseBoard.DiseaseBoard', 'DiseaseBoard.STATE', 'DiseaseBoard.np', 'DiseaseBoard.random', 'DiseaseBoard.randrange']\n"
     ]
    }
   ],
   "source": [
    "\n",
    "import DiseaseBoard\n",
    "\n",
    "def f(x):\n",
    "    if re.search('^[A-Z][a-z]', str(x)):\n",
    "        result = True\n",
    "    else:\n",
    "        result = False\n",
    "    \n",
    "    return result\n",
    "\n",
    "print(['DiseaseBoard.{}'.format(fn) for fn in dir(DiseaseBoard) if not fn.startswith('_')])"
   ]
  },
  {
   "cell_type": "code",
   "execution_count": 10,
   "metadata": {},
   "outputs": [
    {
     "name": "stdout",
     "output_type": "stream",
     "text": [
      "['DiseaseBoard.STATE.clear', 'DiseaseBoard.STATE.copy', 'DiseaseBoard.STATE.fromkeys', 'DiseaseBoard.STATE.get', 'DiseaseBoard.STATE.items', 'DiseaseBoard.STATE.keys', 'DiseaseBoard.STATE.pop', 'DiseaseBoard.STATE.popitem', 'DiseaseBoard.STATE.setdefault', 'DiseaseBoard.STATE.update', 'DiseaseBoard.STATE.values']\n"
     ]
    }
   ],
   "source": [
    "\n",
    "print(['DiseaseBoard.STATE.{}'.format(fn) for fn in dir(DiseaseBoard.STATE) if not fn.startswith('_')])"
   ]
  },
  {
   "cell_type": "code",
   "execution_count": 9,
   "metadata": {},
   "outputs": [
    {
     "name": "stdout",
     "output_type": "stream",
     "text": [
      "['DiseaseBoard.DiseaseBoard.R0', 'DiseaseBoard.DiseaseBoard.clusterNbr', 'DiseaseBoard.DiseaseBoard.contagionDelay', 'DiseaseBoard.DiseaseBoard.contagionRate', 'DiseaseBoard.DiseaseBoard.currentRound', 'DiseaseBoard.DiseaseBoard.deceasedData', 'DiseaseBoard.DiseaseBoard.deceasedDelay', 'DiseaseBoard.DiseaseBoard.deceasedNbr', 'DiseaseBoard.DiseaseBoard.diagnosedNbr', 'DiseaseBoard.DiseaseBoard.diagnosisDelay', 'DiseaseBoard.DiseaseBoard.hospitalizedData', 'DiseaseBoard.DiseaseBoard.hospitalizedDelay', 'DiseaseBoard.DiseaseBoard.hospitalizedNbr', 'DiseaseBoard.DiseaseBoard.hospitalizedRate', 'DiseaseBoard.DiseaseBoard.immunityRate', 'DiseaseBoard.DiseaseBoard.infectedData', 'DiseaseBoard.DiseaseBoard.initBoard', 'DiseaseBoard.DiseaseBoard.lastBoard', 'DiseaseBoard.DiseaseBoard.mortalityDelay', 'DiseaseBoard.DiseaseBoard.mortalityRate', 'DiseaseBoard.DiseaseBoard.nextRound', 'DiseaseBoard.DiseaseBoard.population', 'DiseaseBoard.DiseaseBoard.quarantineRate', 'DiseaseBoard.DiseaseBoard.quarantinedData', 'DiseaseBoard.DiseaseBoard.quarantinedNbr', 'DiseaseBoard.DiseaseBoard.reset', 'DiseaseBoard.DiseaseBoard.sickNbr', 'DiseaseBoard.DiseaseBoard.socialDistancingContagionRate', 'DiseaseBoard.DiseaseBoard.socialDistancingDelay']\n"
     ]
    }
   ],
   "source": [
    "\n",
    "print(['DiseaseBoard.DiseaseBoard.{}'.format(fn) for fn in dir(DiseaseBoard.DiseaseBoard) if not fn.startswith('_')])"
   ]
  },
  {
   "cell_type": "code",
   "execution_count": 3,
   "metadata": {},
   "outputs": [],
   "source": [
    "\n",
    "!start %windir%\\explorer.exe \"{os.path.abspath(s.saves_pickle_folder)}\""
   ]
  },
  {
   "cell_type": "code",
   "execution_count": 33,
   "metadata": {},
   "outputs": [
    {
     "data": {
      "image/png": "[encoded data removed]",
      "text/plain": [
       "<Figure size 864x576 with 1 Axes>"
      ]
     },
     "metadata": {
      "needs_background": "light"
     },
     "output_type": "display_data"
    }
   ],
   "source": [
    "\n",
    "# First order (linear) scatterplot\n",
    "X = np.array([[random.randrange(-3, 4), random.randrange(-3, 4)], [random.randrange(-3, 4), random.randrange(-3, 4)],\n",
    "              [random.randrange(-3, 4), random.randrange(-3, 4)], [random.randrange(-3, 4), random.randrange(-3, 4)],\n",
    "              [random.randrange(-3, 4), random.randrange(-3, 4)], [random.randrange(-3, 4), random.randrange(-3, 4)]])\n",
    "fig1_fig = plt.figure(figsize=(12,8))\n",
    "merge_axes_subplot = plt.scatter(x=X[:,0], y=X[:,1])\n",
    "    \n",
    "# Add annotations\n",
    "for label, x, y in zip(range(X.shape[0]), X[:,0], X[:,1]):\n",
    "    annotation = plt.annotate('{}'.format(label), xy=(x+0.05, y+0.05))"
   ]
  },
  {
   "cell_type": "code",
   "execution_count": 20,
   "metadata": {},
   "outputs": [],
   "source": [
    "\n",
    "from mathutils import Vector\n",
    "\n",
    "vector_dict = {}\n",
    "for label, x, y in zip(range(X.shape[0]), X[:,0], X[:,1]):\n",
    "    v = Vector((x, y))\n",
    "    vector_dict[label] = v"
   ]
  },
  {
   "cell_type": "code",
   "execution_count": 35,
   "metadata": {},
   "outputs": [
    {
     "name": "stdout",
     "output_type": "stream",
     "text": [
      "The nearest neighbor for 0, who is at 0,3 is 4, who is 3.0 units away (and is at 0,0) and should be reflected to 0.0,3.75.\n",
      "The nearest neighbor for 1, who is at 3,-2 is 4, who is 3.605551275463989 units away (and is at 0,0) and should be reflected to 3.75,-2.5.\n",
      "The nearest neighbor for 5, who is at -1,0 is 2, who is 0.0 units away (and is at -1,0) and should be reflected to -1.0,0.0.\n",
      "The nearest neighbor for 3, who is at -1,-2 is 2, who is 2.0 units away (and is at -1,0) and should be reflected to -1.0,-2.5.\n",
      "The nearest neighbor for 4, who is at 0,0 is 2, who is 1.0 units away (and is at -1,0) and should be reflected to 0.25,0.0.\n",
      "The nearest neighbor for 5, who is at -1,0 is 2, who is 0.0 units away (and is at -1,0) and should be reflected to -1.0,0.0.\n"
     ]
    }
   ],
   "source": [
    "\n",
    "from sklearn.neighbors import KDTree\n",
    "\n",
    "kdt = KDTree(X, leaf_size=30, metric='euclidean')\n",
    "distance_array = kdt.query(X, k=2, return_distance=True)\n",
    "f_str = 'The nearest neighbor for {}, who is at {},{} is {}, who is {} units away (and is at {},{}) and should be reflected to {},{}.'\n",
    "array_list = []\n",
    "for person_neighbor, distance_distance in zip(distance_array[1], distance_array[0]):\n",
    "    person = person_neighbor[0]\n",
    "    p_vector = Vector(X[person])\n",
    "    neighbor = person_neighbor[1]\n",
    "    n_vector = Vector(X[neighbor])\n",
    "    distance = distance_distance[1]\n",
    "    d_vector = p_vector - n_vector\n",
    "    reflect = p_vector + 0.25*d_vector\n",
    "    array_list.append([reflect.xy[0], reflect.xy[1]])\n",
    "    print(f_str.format(person, X[person][0], X[person][1], neighbor, distance, X[neighbor][0], X[neighbor][1], reflect.xy[0], reflect.xy[1]))"
   ]
  },
  {
   "cell_type": "code",
   "execution_count": 36,
   "metadata": {},
   "outputs": [
    {
     "data": {
      "image/png": "[encoded data removed]",
      "text/plain": [
       "<Figure size 864x576 with 1 Axes>"
      ]
     },
     "metadata": {
      "needs_background": "light"
     },
     "output_type": "display_data"
    }
   ],
   "source": [
    "\n",
    "# First order (linear) scatterplot\n",
    "R = np.array(array_list)\n",
    "fig1_fig = plt.figure(figsize=(12,8))\n",
    "merge_axes_subplot = plt.scatter(x=R[:,0], y=R[:,1])\n",
    "    \n",
    "# Add annotations\n",
    "for label, x, y in zip(range(R.shape[0]), R[:,0], R[:,1]):\n",
    "    annotation = plt.annotate('{}'.format(label), xy=(x+0.05, y+0.05))"
   ]
  },
  {
   "cell_type": "code",
   "execution_count": 5,
   "metadata": {},
   "outputs": [
    {
     "data": {
      "text/plain": [
       "array([[0, 1],\n",
       "       [1, 0],\n",
       "       [2, 1],\n",
       "       [3, 4],\n",
       "       [4, 3],\n",
       "       [5, 4]], dtype=int64)"
      ]
     },
     "execution_count": 5,
     "metadata": {},
     "output_type": "execute_result"
    }
   ],
   "source": [
    "\n",
    "kdt.query(X, k=2, return_distance=True)[1]"
   ]
  },
  {
   "cell_type": "code",
   "execution_count": 7,
   "metadata": {},
   "outputs": [
    {
     "data": {
      "text/plain": [
       "0.12435512244701385"
      ]
     },
     "execution_count": 7,
     "metadata": {},
     "output_type": "execute_result"
    }
   ],
   "source": [
    "\n",
    "\n",
    "Vector(X[person]).angle(Vector(X[neighbor]))"
   ]
  },
  {
   "cell_type": "code",
   "execution_count": 9,
   "metadata": {},
   "outputs": [
    {
     "data": {
      "text/plain": [
       "Vector((-1.3999998569488525, -0.19999992847442627))"
      ]
     },
     "execution_count": 9,
     "metadata": {},
     "output_type": "execute_result"
    }
   ],
   "source": [
    "\n",
    "v.reflect(Vector(X[neighbor]))"
   ]
  },
  {
   "cell_type": "code",
   "execution_count": 24,
   "metadata": {},
   "outputs": [
    {
     "data": {
      "text/plain": [
       "(-3.0, -2.0)"
      ]
     },
     "execution_count": 24,
     "metadata": {},
     "output_type": "execute_result"
    }
   ],
   "source": [
    "\n",
    "reflect = v.reflect(Vector(X[person]))\n",
    "#print(['reflect.{}'.format(fn) for fn in dir(reflect) if not fn.startswith('_')])\n"
   ]
  },
  {
   "cell_type": "code",
   "execution_count": null,
   "metadata": {},
   "outputs": [
    {
     "name": "stdout",
     "output_type": "stream",
     "text": [
      "C:\\Users\\577342\\AppData\\Local\\Continuum\\anaconda3\\python.exe -m pip install --upgrade pyqtgraph\n"
     ]
    }
   ],
   "source": [
    "\n",
    "import sys\n",
    "\n",
    "command_str = '{sys.executable} -m pip install --upgrade pyqtgraph'.format(sys=sys)\n",
    "print(command_str)\n",
    "!{command_str}"
   ]
  },
  {
   "cell_type": "code",
   "execution_count": 35,
   "metadata": {},
   "outputs": [
    {
     "name": "stdout",
     "output_type": "stream",
     "text": [
      "['Vector.Fill', 'Vector.Linspace', 'Vector.Range', 'Vector.Repeat', 'Vector.angle', 'Vector.angle_signed', 'Vector.copy', 'Vector.cross', 'Vector.dot', 'Vector.freeze', 'Vector.is_frozen', 'Vector.is_wrapped', 'Vector.length', 'Vector.length_squared', 'Vector.lerp', 'Vector.magnitude', 'Vector.negate', 'Vector.normalize', 'Vector.normalized', 'Vector.orthogonal', 'Vector.owner', 'Vector.project', 'Vector.reflect', 'Vector.resize', 'Vector.resize_2d', 'Vector.resize_3d', 'Vector.resize_4d', 'Vector.resized', 'Vector.rotate', 'Vector.rotation_difference', 'Vector.slerp', 'Vector.to_2d', 'Vector.to_3d', 'Vector.to_4d', 'Vector.to_track_quat', 'Vector.to_tuple', 'Vector.w', 'Vector.ww', 'Vector.www', 'Vector.wwww', 'Vector.wwwx', 'Vector.wwwy', 'Vector.wwwz', 'Vector.wwx', 'Vector.wwxw', 'Vector.wwxx', 'Vector.wwxy', 'Vector.wwxz', 'Vector.wwy', 'Vector.wwyw', 'Vector.wwyx', 'Vector.wwyy', 'Vector.wwyz', 'Vector.wwz', 'Vector.wwzw', 'Vector.wwzx', 'Vector.wwzy', 'Vector.wwzz', 'Vector.wx', 'Vector.wxw', 'Vector.wxww', 'Vector.wxwx', 'Vector.wxwy', 'Vector.wxwz', 'Vector.wxx', 'Vector.wxxw', 'Vector.wxxx', 'Vector.wxxy', 'Vector.wxxz', 'Vector.wxy', 'Vector.wxyw', 'Vector.wxyx', 'Vector.wxyy', 'Vector.wxyz', 'Vector.wxz', 'Vector.wxzw', 'Vector.wxzx', 'Vector.wxzy', 'Vector.wxzz', 'Vector.wy', 'Vector.wyw', 'Vector.wyww', 'Vector.wywx', 'Vector.wywy', 'Vector.wywz', 'Vector.wyx', 'Vector.wyxw', 'Vector.wyxx', 'Vector.wyxy', 'Vector.wyxz', 'Vector.wyy', 'Vector.wyyw', 'Vector.wyyx', 'Vector.wyyy', 'Vector.wyyz', 'Vector.wyz', 'Vector.wyzw', 'Vector.wyzx', 'Vector.wyzy', 'Vector.wyzz', 'Vector.wz', 'Vector.wzw', 'Vector.wzww', 'Vector.wzwx', 'Vector.wzwy', 'Vector.wzwz', 'Vector.wzx', 'Vector.wzxw', 'Vector.wzxx', 'Vector.wzxy', 'Vector.wzxz', 'Vector.wzy', 'Vector.wzyw', 'Vector.wzyx', 'Vector.wzyy', 'Vector.wzyz', 'Vector.wzz', 'Vector.wzzw', 'Vector.wzzx', 'Vector.wzzy', 'Vector.wzzz', 'Vector.x', 'Vector.xw', 'Vector.xww', 'Vector.xwww', 'Vector.xwwx', 'Vector.xwwy', 'Vector.xwwz', 'Vector.xwx', 'Vector.xwxw', 'Vector.xwxx', 'Vector.xwxy', 'Vector.xwxz', 'Vector.xwy', 'Vector.xwyw', 'Vector.xwyx', 'Vector.xwyy', 'Vector.xwyz', 'Vector.xwz', 'Vector.xwzw', 'Vector.xwzx', 'Vector.xwzy', 'Vector.xwzz', 'Vector.xx', 'Vector.xxw', 'Vector.xxww', 'Vector.xxwx', 'Vector.xxwy', 'Vector.xxwz', 'Vector.xxx', 'Vector.xxxw', 'Vector.xxxx', 'Vector.xxxy', 'Vector.xxxz', 'Vector.xxy', 'Vector.xxyw', 'Vector.xxyx', 'Vector.xxyy', 'Vector.xxyz', 'Vector.xxz', 'Vector.xxzw', 'Vector.xxzx', 'Vector.xxzy', 'Vector.xxzz', 'Vector.xy', 'Vector.xyw', 'Vector.xyww', 'Vector.xywx', 'Vector.xywy', 'Vector.xywz', 'Vector.xyx', 'Vector.xyxw', 'Vector.xyxx', 'Vector.xyxy', 'Vector.xyxz', 'Vector.xyy', 'Vector.xyyw', 'Vector.xyyx', 'Vector.xyyy', 'Vector.xyyz', 'Vector.xyz', 'Vector.xyzw', 'Vector.xyzx', 'Vector.xyzy', 'Vector.xyzz', 'Vector.xz', 'Vector.xzw', 'Vector.xzww', 'Vector.xzwx', 'Vector.xzwy', 'Vector.xzwz', 'Vector.xzx', 'Vector.xzxw', 'Vector.xzxx', 'Vector.xzxy', 'Vector.xzxz', 'Vector.xzy', 'Vector.xzyw', 'Vector.xzyx', 'Vector.xzyy', 'Vector.xzyz', 'Vector.xzz', 'Vector.xzzw', 'Vector.xzzx', 'Vector.xzzy', 'Vector.xzzz', 'Vector.y', 'Vector.yw', 'Vector.yww', 'Vector.ywww', 'Vector.ywwx', 'Vector.ywwy', 'Vector.ywwz', 'Vector.ywx', 'Vector.ywxw', 'Vector.ywxx', 'Vector.ywxy', 'Vector.ywxz', 'Vector.ywy', 'Vector.ywyw', 'Vector.ywyx', 'Vector.ywyy', 'Vector.ywyz', 'Vector.ywz', 'Vector.ywzw', 'Vector.ywzx', 'Vector.ywzy', 'Vector.ywzz', 'Vector.yx', 'Vector.yxw', 'Vector.yxww', 'Vector.yxwx', 'Vector.yxwy', 'Vector.yxwz', 'Vector.yxx', 'Vector.yxxw', 'Vector.yxxx', 'Vector.yxxy', 'Vector.yxxz', 'Vector.yxy', 'Vector.yxyw', 'Vector.yxyx', 'Vector.yxyy', 'Vector.yxyz', 'Vector.yxz', 'Vector.yxzw', 'Vector.yxzx', 'Vector.yxzy', 'Vector.yxzz', 'Vector.yy', 'Vector.yyw', 'Vector.yyww', 'Vector.yywx', 'Vector.yywy', 'Vector.yywz', 'Vector.yyx', 'Vector.yyxw', 'Vector.yyxx', 'Vector.yyxy', 'Vector.yyxz', 'Vector.yyy', 'Vector.yyyw', 'Vector.yyyx', 'Vector.yyyy', 'Vector.yyyz', 'Vector.yyz', 'Vector.yyzw', 'Vector.yyzx', 'Vector.yyzy', 'Vector.yyzz', 'Vector.yz', 'Vector.yzw', 'Vector.yzww', 'Vector.yzwx', 'Vector.yzwy', 'Vector.yzwz', 'Vector.yzx', 'Vector.yzxw', 'Vector.yzxx', 'Vector.yzxy', 'Vector.yzxz', 'Vector.yzy', 'Vector.yzyw', 'Vector.yzyx', 'Vector.yzyy', 'Vector.yzyz', 'Vector.yzz', 'Vector.yzzw', 'Vector.yzzx', 'Vector.yzzy', 'Vector.yzzz', 'Vector.z', 'Vector.zero', 'Vector.zw', 'Vector.zww', 'Vector.zwww', 'Vector.zwwx', 'Vector.zwwy', 'Vector.zwwz', 'Vector.zwx', 'Vector.zwxw', 'Vector.zwxx', 'Vector.zwxy', 'Vector.zwxz', 'Vector.zwy', 'Vector.zwyw', 'Vector.zwyx', 'Vector.zwyy', 'Vector.zwyz', 'Vector.zwz', 'Vector.zwzw', 'Vector.zwzx', 'Vector.zwzy', 'Vector.zwzz', 'Vector.zx', 'Vector.zxw', 'Vector.zxww', 'Vector.zxwx', 'Vector.zxwy', 'Vector.zxwz', 'Vector.zxx', 'Vector.zxxw', 'Vector.zxxx', 'Vector.zxxy', 'Vector.zxxz', 'Vector.zxy', 'Vector.zxyw', 'Vector.zxyx', 'Vector.zxyy', 'Vector.zxyz', 'Vector.zxz', 'Vector.zxzw', 'Vector.zxzx', 'Vector.zxzy', 'Vector.zxzz', 'Vector.zy', 'Vector.zyw', 'Vector.zyww', 'Vector.zywx', 'Vector.zywy', 'Vector.zywz', 'Vector.zyx', 'Vector.zyxw', 'Vector.zyxx', 'Vector.zyxy', 'Vector.zyxz', 'Vector.zyy', 'Vector.zyyw', 'Vector.zyyx', 'Vector.zyyy', 'Vector.zyyz', 'Vector.zyz', 'Vector.zyzw', 'Vector.zyzx', 'Vector.zyzy', 'Vector.zyzz', 'Vector.zz', 'Vector.zzw', 'Vector.zzww', 'Vector.zzwx', 'Vector.zzwy', 'Vector.zzwz', 'Vector.zzx', 'Vector.zzxw', 'Vector.zzxx', 'Vector.zzxy', 'Vector.zzxz', 'Vector.zzy', 'Vector.zzyw', 'Vector.zzyx', 'Vector.zzyy', 'Vector.zzyz', 'Vector.zzz', 'Vector.zzzw', 'Vector.zzzx', 'Vector.zzzy', 'Vector.zzzz']\n"
     ]
    }
   ],
   "source": [
    "\n",
    "print(['Vector.{}'.format(fn) for fn in dir(Vector) if not fn.startswith('_')])"
   ]
  },
  {
   "cell_type": "code",
   "execution_count": 36,
   "metadata": {},
   "outputs": [
    {
     "data": {
      "text/plain": [
       "\u001b[1;31mInit signature:\u001b[0m \u001b[0mVector\u001b[0m\u001b[1;33m(\u001b[0m\u001b[0mself\u001b[0m\u001b[1;33m,\u001b[0m \u001b[1;33m/\u001b[0m\u001b[1;33m,\u001b[0m \u001b[1;33m*\u001b[0m\u001b[0margs\u001b[0m\u001b[1;33m,\u001b[0m \u001b[1;33m**\u001b[0m\u001b[0mkwargs\u001b[0m\u001b[1;33m)\u001b[0m\u001b[1;33m\u001b[0m\u001b[1;33m\u001b[0m\u001b[0m\n",
       "\u001b[1;31mDocstring:\u001b[0m     \n",
       ".. class:: Vector(seq)\n",
       "\n",
       "This object gives access to Vectors in Blender.\n",
       "\n",
       ":param seq: Components of the vector, must be a sequence of at least two\n",
       ":type seq: sequence of numbers\n",
       "\u001b[1;31mType:\u001b[0m           type\n",
       "\u001b[1;31mSubclasses:\u001b[0m     \n"
      ]
     },
     "metadata": {},
     "output_type": "display_data"
    }
   ],
   "source": [
    "\n",
    "Vector?"
   ]
  },
  {
   "cell_type": "code",
   "execution_count": null,
   "metadata": {},
   "outputs": [],
   "source": []
  }
 ],
 "metadata": {
  "kernelspec": {
   "display_name": "Python 3",
   "language": "python",
   "name": "python3"
  },
  "language_info": {
   "codemirror_mode": {
    "name": "ipython",
    "version": 3
   },
   "file_extension": ".py",
   "mimetype": "text/x-python",
   "name": "python",
   "nbconvert_exporter": "python",
   "pygments_lexer": "ipython3",
   "version": "3.7.6"
  }
 },
 "nbformat": 4,
 "nbformat_minor": 4
}
