{
 "cells": [
  {
   "cell_type": "markdown",
   "metadata": {},
   "source": [
    "\n",
    "The R0 is between 2 and 6, meaning each infected person infects 2–6 others, which can cause the number of infected to double every few days."
   ]
  },
  {
   "cell_type": "code",
   "execution_count": null,
   "metadata": {},
   "outputs": [],
   "source": [
    "\n",
    "# https://informationisbeautiful.net/visualizations/covid-19-coronavirus-infographic-datapack/\n",
    "# https://docs.google.com/spreadsheets/d/1g_YxmDfQx7aOU2DKzNZo9b-NTk62Bju6X3z6OuCa6gw/edit#gid=515684451"
   ]
  },
  {
   "cell_type": "code",
   "execution_count": 2,
   "metadata": {},
   "outputs": [
    {
     "name": "stdout",
     "output_type": "stream",
     "text": [
      "C:\\ProgramData\\Anaconda3\\python.exe -m pip install --upgrade tweepy\n",
      "Collecting tweepy\n",
      "  Downloading tweepy-3.9.0-py2.py3-none-any.whl (30 kB)\n",
      "Requirement already satisfied, skipping upgrade: six>=1.10.0 in c:\\programdata\\anaconda3\\lib\\site-packages (from tweepy) (1.15.0)\n",
      "Requirement already satisfied, skipping upgrade: requests[socks]>=2.11.1 in c:\\programdata\\anaconda3\\lib\\site-packages (from tweepy) (2.24.0)\n",
      "Requirement already satisfied, skipping upgrade: requests-oauthlib>=0.7.0 in c:\\programdata\\anaconda3\\lib\\site-packages (from tweepy) (1.3.0)\n",
      "Requirement already satisfied, skipping upgrade: certifi>=2017.4.17 in c:\\programdata\\anaconda3\\lib\\site-packages (from requests[socks]>=2.11.1->tweepy) (2020.6.20)\n",
      "Requirement already satisfied, skipping upgrade: idna<3,>=2.5 in c:\\programdata\\anaconda3\\lib\\site-packages (from requests[socks]>=2.11.1->tweepy) (2.10)\n",
      "Requirement already satisfied, skipping upgrade: urllib3!=1.25.0,!=1.25.1,<1.26,>=1.21.1 in c:\\programdata\\anaconda3\\lib\\site-packages (from requests[socks]>=2.11.1->tweepy) (1.25.9)\n",
      "Requirement already satisfied, skipping upgrade: chardet<4,>=3.0.2 in c:\\programdata\\anaconda3\\lib\\site-packages (from requests[socks]>=2.11.1->tweepy) (3.0.4)\n",
      "Requirement already satisfied, skipping upgrade: PySocks!=1.5.7,>=1.5.6; extra == \"socks\" in c:\\programdata\\anaconda3\\lib\\site-packages (from requests[socks]>=2.11.1->tweepy) (1.7.1)\n",
      "Requirement already satisfied, skipping upgrade: oauthlib>=3.0.0 in c:\\programdata\\anaconda3\\lib\\site-packages (from requests-oauthlib>=0.7.0->tweepy) (3.1.0)\n",
      "Installing collected packages: tweepy\n",
      "Successfully installed tweepy-3.9.0\n"
     ]
    }
   ],
   "source": [
    "\n",
    "import sys\n",
    "\n",
    "command_str = '{sys.executable} -m pip install --upgrade tweepy'.format(sys=sys)\n",
    "print(command_str)\n",
    "!{command_str}"
   ]
  },
  {
   "cell_type": "code",
   "execution_count": 1,
   "metadata": {},
   "outputs": [],
   "source": [
    "\n",
    "import sys\n",
    "\n",
    "# Insert at 1, 0 is the script path (or '' in REPL)\n",
    "sys.path.insert(1, '../py')"
   ]
  },
  {
   "cell_type": "code",
   "execution_count": 2,
   "metadata": {},
   "outputs": [
    {
     "name": "stdout",
     "output_type": "stream",
     "text": [
      "D:\\Documents\\Repositories\\notebooks\\covid19\\ipynb\\Corona Virus Curve Fitting.ipynb\n",
      "['s.attempt_to_pickle', 's.data_csv_folder', 's.data_folder', 's.encoding_type', 's.load_csv', 's.load_dataframes', 's.load_object', 's.save_dataframes', 's.saves_csv_folder', 's.saves_folder', 's.saves_pickle_folder', 's.store_objects']\n",
      "Pretty printing has been turned OFF\n"
     ]
    },
    {
     "data": {
      "text/plain": [
       "['Config', 'In', 'Out', 'RandomForestClassifier', 'SequenceMatcher', 'Storage', '_', '__', '___', '__builtin__', '__builtins__', '__doc__', '__loader__', '__name__', '__nonzero__', '__package__', '__spec__', '__warningregistry__', '_dh', '_i', '_i1', '_i2', '_ih', '_ii', '_iii', '_oh', 'bs', 'check_4_doubles', 'check_for_typos', 'conjunctify_list', 'copyfile', 'csv', 'encoding', 'example_iterrows', 'exit', 'filepath_regex', 'get_classifier', 'get_column_descriptions', 'get_data_structs_dataframe', 'get_datastructure_prediction', 'get_dir_tree', 'get_git_lfs_track_commands', 'get_importances', 'get_input_sample', 'get_ipython', 'get_max_rsquared_adj', 'get_module_version', 'get_notebook_path', 'get_page_tables', 'get_specific_gitignore_files', 'get_struct_name', 'humanize_bytes', 'io', 'ipykernel', 'json', 'jupyter_config_dir', 'math', 'notebook_path', 'notebookapp', 'nx', 'os', 'pd', 'pickle', 'plt', 'preprocess_data', 'print_all_files_ending_starting_with', 'print_all_files_ending_with', 'print_all_files_starting_with', 'quit', 're', 'remove_empty_folders', 's', 'scraping_utils', 'similar', 'sm', 'sns', 'stats', 'subprocess', 'sys', 'time', 'url_regex', 'urllib', 'wikipedia']"
      ]
     },
     "execution_count": 2,
     "metadata": {},
     "output_type": "execute_result"
    }
   ],
   "source": [
    "\n",
    "%run ../../load_magic/storage.py\n",
    "%run ../../load_magic/paths.py\n",
    "%run ../../load_magic/lists.py\n",
    "%run ../../load_magic/environment.py\n",
    "%run ../../load_magic/dataframes.py\n",
    "\n",
    "import scraping_utils\n",
    "wikipedia = scraping_utils.wikipedia\n",
    "\n",
    "from bs4 import BeautifulSoup as bs\n",
    "import networkx as nx\n",
    "import re\n",
    "import urllib.request\n",
    "\n",
    "notebook_path = get_notebook_path()\n",
    "print(notebook_path)\n",
    "s = Storage()\n",
    "#pandemic_df = s.load_object('pandemic_df')\n",
    "print(['s.{}'.format(fn) for fn in dir(s) if not fn.startswith('_')])\n",
    "\n",
    "%pprint\n",
    "dir()"
   ]
  },
  {
   "cell_type": "code",
   "execution_count": 3,
   "metadata": {},
   "outputs": [],
   "source": [
    "\n",
    "column_description_dict = s.load_object('column_description_dict')\n",
    "def get_column_description(column_name):\n",
    "    if column_name in column_description_dict:\n",
    "        column_description = column_description_dict[column_name]\n",
    "    else:\n",
    "        column_description = re.sub('^pf_', 'Personal Freedom:_', str(column_name), 1)\n",
    "        column_description = re.sub('^hf_', 'Human Freedom:_', str(column_description), 1)\n",
    "        column_description = re.sub('^ef_', 'Economic Freedom:_', str(column_description), 1)\n",
    "        column_list = column_description.split('_')\n",
    "        descr_list = []\n",
    "        for word in column_list:\n",
    "            descr_list.append(word[0].upper()+word[1:])\n",
    "        column_description = ' '.join(descr_list)\n",
    "        column_description_dict[column_name] = column_description\n",
    "        s.store_objects(column_description_dict=column_description_dict)\n",
    "    \n",
    "    return column_description"
   ]
  },
  {
   "cell_type": "code",
   "execution_count": null,
   "metadata": {},
   "outputs": [],
   "source": [
    "\n",
    "!start %windir%\\explorer.exe \"{os.path.abspath(os.path.dirname(notebook_path))}\""
   ]
  },
  {
   "cell_type": "code",
   "execution_count": null,
   "metadata": {},
   "outputs": [],
   "source": [
    "\n",
    "for file_name in os.listdir(s.saves_pickle_folder):\n",
    "    if file_name.endswith('_df.pickle'):\n",
    "        df_name = file_name.split('.')[0]\n",
    "        print(\"{} = s.load_object('{}')\".format(df_name, df_name))\n",
    "        print(\"{}\".format(df_name))"
   ]
  },
  {
   "cell_type": "markdown",
   "metadata": {},
   "source": [
    "\n",
    "---\n",
    "# Create the Curve Fitter"
   ]
  },
  {
   "cell_type": "code",
   "execution_count": 4,
   "metadata": {},
   "outputs": [],
   "source": [
    "\n",
    "def get_doubling_days(count_yesterday, count_today):\n",
    "    growth_rate = (count_today-count_yesterday)/count_today\n",
    "    doubling_time = math.log(2)/growth_rate\n",
    "    \n",
    "    return doubling_time"
   ]
  },
  {
   "cell_type": "code",
   "execution_count": 5,
   "metadata": {},
   "outputs": [],
   "source": [
    "\n",
    "def get_lb_ub(p0):\n",
    "    if p0 < 0:\n",
    "        uba = math.copysign(abs(p0)/10, p0)\n",
    "        lba = math.copysign(abs(p0)*10, p0)\n",
    "    else:\n",
    "        lba = math.copysign(abs(p0)/10, p0)\n",
    "        uba = math.copysign(abs(p0)*10, p0)\n",
    "    \n",
    "    return lba, uba"
   ]
  },
  {
   "cell_type": "code",
   "execution_count": 9,
   "metadata": {},
   "outputs": [],
   "source": [
    "\n",
    "def format_the_data(column_name, min_x=0):\n",
    "    columns_list = [column_name]\n",
    "    tracking_df[column_name] = pd.to_numeric(tracking_df[column_name])\n",
    "    mask_series = (tracking_df[column_name] >= min_x)\n",
    "    df = tracking_df[mask_series][columns_list].dropna(axis='index', how='any')\n",
    "    \n",
    "    return df"
   ]
  },
  {
   "cell_type": "code",
   "execution_count": 7,
   "metadata": {},
   "outputs": [],
   "source": [
    "\n",
    "def get_average_doubling(confirmation_data):\n",
    "    doubling_time_list = []\n",
    "    for i, confirms in enumerate(confirmation_data):\n",
    "        if i > 0:\n",
    "            doubling_time = get_doubling_days(confirmation_data[i-1], confirmation_data[i])\n",
    "            doubling_time_list.append(doubling_time)\n",
    "    average_doubling_time = np.array(doubling_time_list).mean()\n",
    "    \n",
    "    return average_doubling_time"
   ]
  },
  {
   "cell_type": "code",
   "execution_count": 8,
   "metadata": {},
   "outputs": [
    {
     "data": {
      "text/html": [
       "<div>\n",
       "<style scoped>\n",
       "    .dataframe tbody tr th:only-of-type {\n",
       "        vertical-align: middle;\n",
       "    }\n",
       "\n",
       "    .dataframe tbody tr th {\n",
       "        vertical-align: top;\n",
       "    }\n",
       "\n",
       "    .dataframe thead th {\n",
       "        text-align: right;\n",
       "    }\n",
       "</style>\n",
       "<table border=\"1\" class=\"dataframe\">\n",
       "  <thead>\n",
       "    <tr style=\"text-align: right;\">\n",
       "      <th></th>\n",
       "      <th>Confirmed_New</th>\n",
       "      <th>Confirmed_Cumulative</th>\n",
       "      <th>Deaths_New</th>\n",
       "      <th>Deaths_Cumulative</th>\n",
       "    </tr>\n",
       "    <tr>\n",
       "      <th>Date</th>\n",
       "      <th></th>\n",
       "      <th></th>\n",
       "      <th></th>\n",
       "      <th></th>\n",
       "    </tr>\n",
       "  </thead>\n",
       "  <tbody>\n",
       "    <tr>\n",
       "      <th>2020-04-04</th>\n",
       "      <td>34068.0</td>\n",
       "      <td>307876.0</td>\n",
       "      <td>1352.0</td>\n",
       "      <td>8359.0</td>\n",
       "    </tr>\n",
       "    <tr>\n",
       "      <th>2020-04-05</th>\n",
       "      <td>25717.0</td>\n",
       "      <td>333593.0</td>\n",
       "      <td>1175.0</td>\n",
       "      <td>9534.0</td>\n",
       "    </tr>\n",
       "    <tr>\n",
       "      <th>2020-04-06</th>\n",
       "      <td>29362.0</td>\n",
       "      <td>362955.0</td>\n",
       "      <td>1212.0</td>\n",
       "      <td>10746.0</td>\n",
       "    </tr>\n",
       "    <tr>\n",
       "      <th>2020-04-07</th>\n",
       "      <td>30752.0</td>\n",
       "      <td>393707.0</td>\n",
       "      <td>1928.0</td>\n",
       "      <td>12674.0</td>\n",
       "    </tr>\n",
       "    <tr>\n",
       "      <th>2020-04-08</th>\n",
       "      <td>NaN</td>\n",
       "      <td>NaN</td>\n",
       "      <td>NaN</td>\n",
       "      <td>NaN</td>\n",
       "    </tr>\n",
       "  </tbody>\n",
       "</table>\n",
       "</div>"
      ],
      "text/plain": [
       "            Confirmed_New  Confirmed_Cumulative  Deaths_New  Deaths_Cumulative\n",
       "Date                                                                          \n",
       "2020-04-04        34068.0              307876.0      1352.0             8359.0\n",
       "2020-04-05        25717.0              333593.0      1175.0             9534.0\n",
       "2020-04-06        29362.0              362955.0      1212.0            10746.0\n",
       "2020-04-07        30752.0              393707.0      1928.0            12674.0\n",
       "2020-04-08            NaN                   NaN         NaN                NaN"
      ]
     },
     "execution_count": 8,
     "metadata": {},
     "output_type": "execute_result"
    }
   ],
   "source": [
    "\n",
    "tracking_df = s.load_object('usa_df')\n",
    "tracking_df.set_index('Date', drop=True, inplace=True)\n",
    "columns_list = ['Confirmed_New', 'Confirmed_Cumulative', 'Deaths_New', 'Deaths_Cumulative']\n",
    "tracking_df[columns_list].tail()"
   ]
  },
  {
   "cell_type": "markdown",
   "metadata": {},
   "source": [
    "\n",
    "---\n",
    "## Geometric Brownian motion"
   ]
  },
  {
   "cell_type": "code",
   "execution_count": 130,
   "metadata": {},
   "outputs": [],
   "source": [
    "\n",
    "import matplotlib.pyplot as plt\n",
    "\n",
    "# Use the following only if you are on a high definition device\n",
    "from IPython.display import set_matplotlib_formats\n",
    "set_matplotlib_formats('retina')\n",
    "\n",
    "from scipy.optimize import curve_fit\n",
    "import numpy as np\n",
    "import math\n",
    "%matplotlib inline\n",
    "\n",
    "method = ['lm', 'trf', 'dogbox'][1]\n",
    "def fit_gbm_curve(column_name='Deaths_Cumulative',\n",
    "                  lba=1e-09, lbb=-49, lbc=0.1,\n",
    "                  uba=0.1, ubb=-41, ubc=10,\n",
    "                  p0a=0.05, p0b=-46, p0c=1,\n",
    "                  min_x=None, after_day=None):\n",
    "    \n",
    "    # Format the data\n",
    "    columns_list = [column_name]\n",
    "    tracking_df[column_name] = pd.to_numeric(tracking_df[column_name])\n",
    "    mask_series = [True] * tracking_df.shape[0]\n",
    "    if after_day is not None:\n",
    "        date_obj = datetime(year=2020, month=3, day=after_day)\n",
    "        mask_series = mask_series & (tracking_df.index >= pd.Timestamp(date_obj))\n",
    "    if min_x is not None:\n",
    "        mask_series = mask_series & (tracking_df[column_name] >= min_x)\n",
    "    df = tracking_df[mask_series][columns_list]\n",
    "    if 'cumul' in column_name.lower():\n",
    "        df.interpolate(axis='index', limit_area='inside', inplace=True)\n",
    "    df.dropna(axis='index', how='any', inplace=True)\n",
    "    \n",
    "    # Fit the curve using the lower and upper bounds and a suggested starting point\n",
    "    def func(x, mu, sigma, dt):\n",
    "        \n",
    "        return np.exp((mu - sigma**2 / 2) * dt + sigma * np.random.normal(0, np.sqrt(dt), size=(1, df.shape[0])).T)\n",
    "    dayofyear_data = np.array(object=[ts.dayofyear for ts in df.index])\n",
    "    confirmation_data = np.array(object=[int(c) for c in df[column_name].tolist()])\n",
    "    bounds_tuple = ([lba, lbb, lbc],\n",
    "                    [uba, ubb, ubc])\n",
    "    p0_array = np.array([p0a, p0b, p0c])\n",
    "    popt, pcov = curve_fit(func, dayofyear_data, confirmation_data,\n",
    "                           bounds=bounds_tuple, p0=p0_array, method=method)\n",
    "    \n",
    "    # Plot the cumulative data\n",
    "    fig = plt.figure(figsize=(12,8))\n",
    "    ax = fig.add_subplot(111, autoscale_on=True)\n",
    "    ax.set_yscale('log')\n",
    "    country_name = column_name.split('_')[-1]\n",
    "    line_2d_obj = plt.plot(dayofyear_data, confirmation_data, 'b-', label='{} data'.format(country_name))\n",
    "    \n",
    "    # Plot the fitted curve\n",
    "    def get_cumulative_confirmations(dayofyear):\n",
    "        '''Get the cumulative confirmations given the day of the year'''\n",
    "        #print('e^({} + {}*{}) + {}'.format(popt[0], popt[1], dayofyear, popt[2]))\n",
    "        \n",
    "        return np.exp(popt[0] + popt[1]*dayofyear) + popt[2]\n",
    "    label_str = 'fit: cc = e^(%3.1f + %3.1f*doy) + %3.1f' % tuple(popt)\n",
    "    line_2d_obj = plt.plot(dayofyear_data, get_cumulative_confirmations(dayofyear_data), 'r-', label=label_str)\n",
    "    \n",
    "    # Label the graph\n",
    "    plt.xlabel('Day of Year')\n",
    "    label_list = column_name.split('_')\n",
    "    plt.ylabel('{} {}'.format(label_list[0], label_list[1]))\n",
    "    legend_obj = plt.legend()\n",
    "    \n",
    "    # Get the doubling time\n",
    "    average_doubling_time = get_average_doubling(confirmation_data)\n",
    "    \n",
    "    return popt, average_doubling_time, get_cumulative_confirmations"
   ]
  },
  {
   "cell_type": "markdown",
   "metadata": {},
   "source": [
    "\n",
    "---\n",
    "## Exponential Curves"
   ]
  },
  {
   "cell_type": "code",
   "execution_count": 130,
   "metadata": {},
   "outputs": [],
   "source": [
    "\n",
    "import matplotlib.pyplot as plt\n",
    "\n",
    "# Use the following only if you are on a high definition device\n",
    "from IPython.display import set_matplotlib_formats\n",
    "set_matplotlib_formats('retina')\n",
    "\n",
    "from scipy.optimize import curve_fit\n",
    "import numpy as np\n",
    "import math\n",
    "%matplotlib inline\n",
    "\n",
    "method = ['lm', 'trf', 'dogbox'][1]\n",
    "def fit_exp_curve(column_name='Deaths_Cumulative',\n",
    "                  lba=1e-09, lbb=-49, lbc=0.1,\n",
    "                  uba=0.1, ubb=-41, ubc=10,\n",
    "                  p0a=0.05, p0b=-46, p0c=1,\n",
    "                  min_x=None, after_day=None):\n",
    "    \n",
    "    # Format the data\n",
    "    columns_list = [column_name]\n",
    "    tracking_df[column_name] = pd.to_numeric(tracking_df[column_name])\n",
    "    mask_series = [True] * tracking_df.shape[0]\n",
    "    if after_day is not None:\n",
    "        date_obj = datetime(year=2020, month=3, day=after_day)\n",
    "        mask_series = mask_series & (tracking_df.index >= pd.Timestamp(date_obj))\n",
    "    if min_x is not None:\n",
    "        mask_series = mask_series & (tracking_df[column_name] >= min_x)\n",
    "    df = tracking_df[mask_series][columns_list]\n",
    "    if 'cumul' in column_name.lower():\n",
    "        df.interpolate(axis='index', limit_area='inside', inplace=True)\n",
    "    df.dropna(axis='index', how='any', inplace=True)\n",
    "    \n",
    "    # Fit the curve using the lower and upper bounds and a suggested starting point\n",
    "    def func(x, a, b, c):\n",
    "        \n",
    "        return np.exp(a + b*x) + c\n",
    "    dayofyear_data = np.array(object=[ts.dayofyear for ts in df.index])\n",
    "    confirmation_data = np.array(object=[int(c) for c in df[column_name].tolist()])\n",
    "    bounds_tuple = ([lba, lbb, lbc],\n",
    "                    [uba, ubb, ubc])\n",
    "    p0_array = np.array([p0a, p0b, p0c])\n",
    "    popt, pcov = curve_fit(func, dayofyear_data, confirmation_data,\n",
    "                           bounds=bounds_tuple, p0=p0_array, method=method)\n",
    "    \n",
    "    # Plot the cumulative data\n",
    "    fig = plt.figure(figsize=(12,8))\n",
    "    ax = fig.add_subplot(111, autoscale_on=True)\n",
    "    ax.set_yscale('log')\n",
    "    country_name = column_name.split('_')[-1]\n",
    "    line_2d_obj = plt.plot(dayofyear_data, confirmation_data, 'b-', label='{} data'.format(country_name))\n",
    "    \n",
    "    # Plot the fitted curve\n",
    "    def get_cumulative_confirmations(dayofyear):\n",
    "        '''Get the cumulative confirmations given the day of the year'''\n",
    "        #print('e^({} + {}*{}) + {}'.format(popt[0], popt[1], dayofyear, popt[2]))\n",
    "        \n",
    "        return np.exp(popt[0] + popt[1]*dayofyear) + popt[2]\n",
    "    label_str = 'fit: cc = e^(%3.1f + %3.1f*doy) + %3.1f' % tuple(popt)\n",
    "    line_2d_obj = plt.plot(dayofyear_data, get_cumulative_confirmations(dayofyear_data), 'r-', label=label_str)\n",
    "    \n",
    "    # Label the graph\n",
    "    plt.xlabel('Day of Year')\n",
    "    label_list = column_name.split('_')\n",
    "    plt.ylabel('{} {}'.format(label_list[0], label_list[1]))\n",
    "    legend_obj = plt.legend()\n",
    "    \n",
    "    # Get the doubling time\n",
    "    average_doubling_time = get_average_doubling(confirmation_data)\n",
    "    \n",
    "    return popt, average_doubling_time, get_cumulative_confirmations"
   ]
  },
  {
   "cell_type": "markdown",
   "metadata": {},
   "source": [
    "\n",
    "---\n",
    "## Cumulative Confirmations Exponential Curve"
   ]
  },
  {
   "cell_type": "code",
   "execution_count": 189,
   "metadata": {},
   "outputs": [],
   "source": [
    "\n",
    "from datetime import timedelta\n",
    "\n",
    "def get_cc(doy, column_name='Confirmed_Cumulative'):\n",
    "    mask_series = (tracking_df.index == pd.Timestamp(datetime(2020, 1, 1) + timedelta(days=doy-1)))\n",
    "    series = tracking_df[mask_series][column_name]\n",
    "    \n",
    "    return series.tolist()[0]"
   ]
  },
  {
   "cell_type": "code",
   "execution_count": 190,
   "metadata": {},
   "outputs": [],
   "source": [
    "\n",
    "def get_a_b(doy1, doy2, column_name='Confirmed_Cumulative'):\n",
    "    b = (np.log(get_cc(doy2, column_name)) - np.log(get_cc(doy1, column_name)))/(doy2-doy1)\n",
    "    #a = np.log(get_cc(doy2, column_name)) - doy2*b\n",
    "    a = np.log(get_cc(doy1, column_name)) - doy1*b\n",
    "    \n",
    "    return a, b"
   ]
  },
  {
   "cell_type": "code",
   "execution_count": 195,
   "metadata": {},
   "outputs": [],
   "source": [
    "\n",
    "def snake_exp(column_name):\n",
    "    \n",
    "    # Format the data\n",
    "    columns_list = [column_name]\n",
    "    tracking_df[column_name] = pd.to_numeric(tracking_df[column_name])\n",
    "    mask_series = [True] * tracking_df.shape[0]\n",
    "    df = tracking_df[mask_series][columns_list]\n",
    "    if 'cumul' in column_name.lower():\n",
    "        df.interpolate(axis='index', limit_area='inside', inplace=True)\n",
    "    df.dropna(axis='index', how='any', inplace=True)\n",
    "\n",
    "    # Plot the cumulative data\n",
    "    fig = plt.figure(figsize=(12,8))\n",
    "    ax = fig.add_subplot(111, autoscale_on=True)\n",
    "    ax.set_yscale('log')\n",
    "    country_name = column_name.split('_')[-1]\n",
    "    dayofyear_data = np.array(object=[ts.dayofyear for ts in df.index])\n",
    "    confirmation_data = np.array(object=[int(c) for c in df[column_name].tolist()])\n",
    "    line_2d_obj = plt.plot(dayofyear_data, confirmation_data, 'b-', label='{} data'.format(country_name))\n",
    "\n",
    "    # Plot the exponential curve\n",
    "    a, b = get_a_b(61, 89, column_name=column_name)\n",
    "    exponential_data = np.array(object=[np.exp(a+b*ts.dayofyear) for ts in df.index])\n",
    "    label_str = 'f(x) = epx({}+{}*doy)'.format(round(a, 1), round(b, 1))\n",
    "    line_2d_obj = plt.plot(dayofyear_data, exponential_data, 'r-', label=label_str)\n",
    "\n",
    "    # Label the graph\n",
    "    plt.xlabel('Day of Year')\n",
    "    label_list = column_name.split('_')\n",
    "    plt.ylabel('{}, {}'.format(label_list[0], label_list[1]))\n",
    "    legend_obj = plt.legend()"
   ]
  },
  {
   "cell_type": "code",
   "execution_count": 196,
   "metadata": {},
   "outputs": [
    {
     "data": {
      "image/png": "[encoded data removed]",
      "text/plain": [
       "<Figure size 864x576 with 1 Axes>"
      ]
     },
     "metadata": {
      "needs_background": "light"
     },
     "output_type": "display_data"
    }
   ],
   "source": [
    "\n",
    "column_name = 'Confirmed_Cumulative'\n",
    "snake_exp(column_name=column_name)"
   ]
  },
  {
   "cell_type": "code",
   "execution_count": 197,
   "metadata": {},
   "outputs": [
    {
     "data": {
      "image/png": "[encoded data removed]",
      "text/plain": [
       "<Figure size 864x576 with 1 Axes>"
      ]
     },
     "metadata": {
      "needs_background": "light"
     },
     "output_type": "display_data"
    }
   ],
   "source": [
    "\n",
    "column_name = 'Deaths_Cumulative'\n",
    "snake_exp(column_name=column_name)"
   ]
  },
  {
   "cell_type": "code",
   "execution_count": 191,
   "metadata": {},
   "outputs": [
    {
     "data": {
      "image/png": "[encoded data removed]",
      "text/plain": [
       "<Figure size 864x576 with 1 Axes>"
      ]
     },
     "metadata": {
      "needs_background": "light"
     },
     "output_type": "display_data"
    }
   ],
   "source": [
    "\n",
    "# Plot the deaths data\n",
    "fig = plt.figure(figsize=(12,8))\n",
    "ax = fig.add_subplot(111, autoscale_on=True)\n",
    "ax.set_yscale('log')\n",
    "country_name = column_name.split('_')[-1]\n",
    "dayofyear_data = np.array(object=[ts.dayofyear for ts in df.index])\n",
    "confirmation_data = np.array(object=[int(c) for c in df[column_name].tolist()])\n",
    "line_2d_obj = plt.plot(dayofyear_data, confirmation_data, 'b-', label='{} data'.format(country_name))\n",
    "\n",
    "# Plot the exponential curve\n",
    "a, b = get_a_b(61, 89)\n",
    "exponential_data = np.array(object=[np.exp(a+b*ts.dayofyear) for ts in df.index])\n",
    "label_str = 'f(x) = epx({}+{}*doy)'.format(round(a, 1), round(b, 1))\n",
    "line_2d_obj = plt.plot(dayofyear_data, exponential_data, 'r-', label=label_str)\n",
    "\n",
    "# Label the graph\n",
    "plt.xlabel('Day of Year')\n",
    "label_list = column_name.split('_')\n",
    "plt.ylabel('{} Cases, {}'.format(label_list[0], label_list[1]))\n",
    "legend_obj = plt.legend()"
   ]
  },
  {
   "cell_type": "code",
   "execution_count": 183,
   "metadata": {},
   "outputs": [
    {
     "data": {
      "text/plain": [
       "2.4923290471754433"
      ]
     },
     "execution_count": 183,
     "metadata": {},
     "output_type": "execute_result"
    }
   ],
   "source": [
    "\n",
    "\n",
    "# Get the doubling time\n",
    "get_average_doubling(exponential_data)"
   ]
  },
  {
   "cell_type": "code",
   "execution_count": 185,
   "metadata": {},
   "outputs": [],
   "source": [
    "\n",
    "from datetime import datetime\n",
    "\n",
    "# f(x)=epx(-13190.82+0.300x) ; R2=0.989\n",
    "# f(x)=exp(-13416.45+0.306x) ; R2=0.986\n",
    "lba = a*10\n",
    "uba = a/10\n",
    "p0a = a\n",
    "\n",
    "lbb = b/10\n",
    "ubb = b*10\n",
    "p0b = b\n",
    "\n",
    "lbc = -10\n",
    "ubc = 10\n",
    "p0c = 0\n",
    "\n",
    "first_time = True\n",
    "column_name = 'Confirmed_Cumulative'"
   ]
  },
  {
   "cell_type": "code",
   "execution_count": 186,
   "metadata": {},
   "outputs": [
    {
     "data": {
      "image/png": "[encoded data removed]",
      "text/plain": [
       "<Figure size 864x576 with 1 Axes>"
      ]
     },
     "metadata": {
      "needs_background": "light"
     },
     "output_type": "display_data"
    }
   ],
   "source": [
    "\n",
    "if first_time:\n",
    "    first_time = False\n",
    "else:\n",
    "    p0a = popt[0]\n",
    "    lba, uba = get_lb_ub(p0a)\n",
    "    p0b = popt[1]\n",
    "    lbb, ubb = get_lb_ub(p0b)\n",
    "    p0c = popt[2]\n",
    "    lbc, ubc = get_lb_ub(p0c)\n",
    "try:\n",
    "    popt, doubling_days, get_results = fit_exp_curve(column_name, lba=lba, lbb=lbb, lbc=lbc,\n",
    "                                                     uba=uba, ubb=ubb, ubc=ubc,\n",
    "                                                     p0a=p0a, p0b=p0b, p0c=p0c,\n",
    "                                                     min_x=1)\n",
    "except Exception as e:\n",
    "    message = str(e).strip()\n",
    "    print(message)"
   ]
  },
  {
   "cell_type": "code",
   "execution_count": 187,
   "metadata": {},
   "outputs": [
    {
     "name": "stdout",
     "output_type": "stream",
     "text": [
      "\n",
      "lba = -139.50819406836965\n",
      "uba = -1.3950819406836965\n",
      "p0a = -13.950819406836965\n",
      "\n",
      "lbb = 0.028997522992000545\n",
      "ubb = 2.8997522992000544\n",
      "p0b = 0.28997522992000546\n",
      "\n",
      "lbc = -10\n",
      "ubc = 10\n",
      "p0c = 0\n"
     ]
    }
   ],
   "source": [
    "\n",
    "print('''\n",
    "lba = {}\n",
    "uba = {}\n",
    "p0a = {}'''.format(lba, uba, p0a))\n",
    "print('''\n",
    "lbb = {}\n",
    "ubb = {}\n",
    "p0b = {}'''.format(lbb, ubb, p0b))\n",
    "print('''\n",
    "lbc = {}\n",
    "ubc = {}\n",
    "p0c = {}'''.format(lbc, ubc, p0c))"
   ]
  },
  {
   "cell_type": "code",
   "execution_count": 41,
   "metadata": {},
   "outputs": [
    {
     "name": "stdout",
     "output_type": "stream",
     "text": [
      "The US will have 190,259 cumulative confirmations on Apr 01, 2020.\n"
     ]
    }
   ],
   "source": [
    "\n",
    "date_obj = datetime(year=2020, month=4, day=1)\n",
    "dayofyear = pd.Timestamp(date_obj).dayofyear\n",
    "new_deaths = int(get_results(dayofyear))\n",
    "print('The US will have {:,} cumulative confirmations on {}.'.format(new_deaths, date_obj.strftime('%b %d, %Y')))"
   ]
  },
  {
   "cell_type": "markdown",
   "metadata": {},
   "source": [
    "\n",
    "---\n",
    "# Spike Curves"
   ]
  },
  {
   "cell_type": "code",
   "execution_count": 125,
   "metadata": {},
   "outputs": [],
   "source": [
    "\n",
    "import matplotlib.pyplot as plt\n",
    "\n",
    "# Use the following only if you are on a high definition device\n",
    "from IPython.display import set_matplotlib_formats\n",
    "set_matplotlib_formats('retina')\n",
    "\n",
    "from scipy.optimize import curve_fit\n",
    "import numpy as np\n",
    "import math\n",
    "%matplotlib inline\n",
    "\n",
    "method = ['lm', 'trf', 'dogbox'][1]\n",
    "def fit_spike_curve(column_name='Deaths_New',\n",
    "                    lba=1e-09, lbb=-49, lbc=3.8,\n",
    "                    uba=0.1, ubb=-41, ubc=8.3,\n",
    "                    p0a=0.05, p0b=-46, p0c=3.9,\n",
    "                    min_x=1):\n",
    "    \n",
    "    # Format the data\n",
    "    df = format_the_data(column_name, min_x)\n",
    "    \n",
    "    # Fit the curve using the lower and upper bounds and a suggested starting point\n",
    "    def func(x, a, b, c):\n",
    "\n",
    "        return a*np.exp(-np.abs(b-x)) + a*np.exp(-np.abs(-b-x)) + c\n",
    "    dayofyear_data = np.array(object=[ts.dayofyear for ts in df.index])\n",
    "    confirmation_data = np.array(object=[int(c) for c in df[column_name].tolist()])\n",
    "    bounds_tuple = ([lba, lbb, lbc],\n",
    "                    [uba, ubb, ubc])\n",
    "    p0_array = np.array([p0a, p0b, p0c])\n",
    "    popt, pcov = curve_fit(func, dayofyear_data, confirmation_data,\n",
    "                           bounds=bounds_tuple, p0=p0_array, method=method)\n",
    "    \n",
    "    # Plot the cumulative data\n",
    "    fig = plt.figure(figsize=(12,8))\n",
    "    ax = fig.add_subplot(111)\n",
    "    ax.set_yscale('log')\n",
    "    label_str = get_column_description(column_name)\n",
    "    line_2d_obj = plt.plot(dayofyear_data, confirmation_data, 'b-', label='data: {}'.format(label_str))\n",
    "    \n",
    "    # Plot the fitted curve\n",
    "    def get_spike_curve(dayofyear):\n",
    "        '''Get the cumulative confirmations given the day of the year'''\n",
    "        fitted_str = '{}*np.exp(-np.abs({}-{})) + {}*np.exp(-np.abs(-{}-{})) + {}'\n",
    "        print(fitted_str.format(popt[0], popt[1], dayofyear, popt[0], popt[1], dayofyear, popt[2]))\n",
    "        \n",
    "        return popt[0]*np.exp(-np.abs(popt[1]-dayofyear)) + popt[0]*np.exp(-np.abs(-popt[1]-dayofyear)) + popt[2]\n",
    "    fitted_str = 'fit: cc = {}*e^(-|{}-doy|) + {}*e^(-|-{}-doy|) + {}'\n",
    "    label_str = fitted_str.format(round(popt[0], 1), round(popt[1], 1), round(popt[0], 1), round(popt[1], 1), round(popt[2], 1))\n",
    "    line_2d_obj = plt.plot(dayofyear_data, get_spike_curve(dayofyear_data), 'r-', label=label_str)\n",
    "    \n",
    "    # Label the graph\n",
    "    plt.xlabel('Day of Year')\n",
    "    label_list = column_name.split('_')\n",
    "    plt.ylabel('{} {}'.format(label_list[0], label_list[1]))\n",
    "    legend_obj = plt.legend()\n",
    "    \n",
    "    # Get the doubling time\n",
    "    average_doubling_time = get_average_doubling(confirmation_data)\n",
    "    \n",
    "    return popt, average_doubling_time, get_spike_curve"
   ]
  },
  {
   "cell_type": "markdown",
   "metadata": {},
   "source": [
    "\n",
    "## New Deaths Spike Curve"
   ]
  },
  {
   "cell_type": "code",
   "execution_count": 126,
   "metadata": {},
   "outputs": [],
   "source": [
    "\n",
    "lba = 427.01555905769817\n",
    "uba = 42701.55590576982\n",
    "p0a = 4270.155590576982\n",
    "\n",
    "lbb = 88.06176964098815\n",
    "ubb = 8806.176964098815\n",
    "p0b = 880.6176964098814\n",
    "\n",
    "lbc = 31.91818181788667\n",
    "ubc = 3191.818181788667\n",
    "p0c = 319.1818181788667\n",
    "\n",
    "first_time = True\n",
    "column_name = 'Deaths_New'\n",
    "column_description_dict[column_name] = 'Daily New US Deaths'"
   ]
  },
  {
   "cell_type": "code",
   "execution_count": 127,
   "metadata": {},
   "outputs": [],
   "source": [
    "\n",
    "max_new = tracking_df.Deaths_New.max()\n",
    "lba = max_new/10\n",
    "uba = max_new*10\n",
    "p0a = max_new\n",
    "\n",
    "doy = tracking_df.Deaths_New.idxmax().dayofyear\n",
    "lbb = doy/10\n",
    "ubb = doy*10\n",
    "p0b = doy\n",
    "\n",
    "min_new = tracking_df.Deaths_New.min()\n",
    "lbc = min_new/10\n",
    "ubc = min_new*10\n",
    "p0c = min_new"
   ]
  },
  {
   "cell_type": "code",
   "execution_count": 129,
   "metadata": {},
   "outputs": [
    {
     "name": "stdout",
     "output_type": "stream",
     "text": [
      "970.9248626293708*np.exp(-np.abs(90.64824577594514-[81 82 83 84 85 86 87 88 89 90 91])) + 970.9248626293708*np.exp(-np.abs(-90.64824577594514-[81 82 83 84 85 86 87 88 89 90 91])) + 99.99999999999997\n"
     ]
    },
    {
     "data": {
      "image/png": "[encoded data removed]",
      "text/plain": [
       "<Figure size 864x576 with 1 Axes>"
      ]
     },
     "metadata": {
      "needs_background": "light"
     },
     "output_type": "display_data"
    }
   ],
   "source": [
    "\n",
    "if first_time:\n",
    "    first_time = False\n",
    "else:\n",
    "    p0a = popt[0]\n",
    "    lba, uba = get_lb_ub(p0a)\n",
    "    p0b = popt[1]\n",
    "    lbb, ubb = get_lb_ub(p0b)\n",
    "    p0c = popt[2]\n",
    "    lbc, ubc = get_lb_ub(p0c)\n",
    "popt, doubling_days, get_results = fit_spike_curve(column_name,\n",
    "                                                   lba=lba, lbb=lbb, lbc=lbc,\n",
    "                                                   uba=uba, ubb=ubb, ubc=ubc,\n",
    "                                                   p0a=p0a, p0b=p0b, p0c=p0c,\n",
    "                                                   min_x=60)"
   ]
  },
  {
   "cell_type": "code",
   "execution_count": 124,
   "metadata": {},
   "outputs": [
    {
     "name": "stdout",
     "output_type": "stream",
     "text": [
      "\n",
      "lba = 427.01555905769817\n",
      "uba = 42701.55590576982\n",
      "p0a = 4270.155590576982\n",
      "\n",
      "lbb = 88.06176964098815\n",
      "ubb = 8806.176964098815\n",
      "p0b = 880.6176964098814\n",
      "\n",
      "lbc = 31.91818181788667\n",
      "ubc = 3191.818181788667\n",
      "p0c = 319.1818181788667\n"
     ]
    }
   ],
   "source": [
    "\n",
    "print('''\n",
    "lba = {}\n",
    "uba = {}\n",
    "p0a = {}'''.format(lba, uba, p0a))\n",
    "print('''\n",
    "lbb = {}\n",
    "ubb = {}\n",
    "p0b = {}'''.format(lbb, ubb, p0b))\n",
    "print('''\n",
    "lbc = {}\n",
    "ubc = {}\n",
    "p0c = {}'''.format(lbc, ubc, p0c))"
   ]
  },
  {
   "cell_type": "code",
   "execution_count": 17,
   "metadata": {},
   "outputs": [
    {
     "name": "stdout",
     "output_type": "stream",
     "text": [
      "The US will have 107 new deaths on Mar 28, 2020.\n"
     ]
    }
   ],
   "source": [
    "\n",
    "from datetime import datetime\n",
    "\n",
    "date_obj = datetime(year=2020, month=3, day=28)\n",
    "dayofyear = pd.Timestamp(date_obj).dayofyear\n",
    "new_deaths = int(get_results(dayofyear))\n",
    "print('The US will have {:,} new deaths on {}.'.format(new_deaths, date_obj.strftime('%b %d, %Y')))"
   ]
  },
  {
   "cell_type": "markdown",
   "metadata": {},
   "source": [
    "\n",
    "## New Confirmations Spike Curve"
   ]
  },
  {
   "cell_type": "code",
   "execution_count": 109,
   "metadata": {},
   "outputs": [],
   "source": [
    "\n",
    "max_new = tracking_df.Confirmed_New.max()\n",
    "lba = max_new/10\n",
    "uba = max_new*10\n",
    "p0a = max_new\n",
    "\n",
    "doy = tracking_df.Confirmed_New.idxmax().dayofyear\n",
    "lbb = doy/10\n",
    "ubb = doy*10\n",
    "p0b = doy\n",
    "\n",
    "min_new = tracking_df.Confirmed_New.min()\n",
    "lbc = min_new/10\n",
    "ubc = min_new*10\n",
    "p0c = min_new"
   ]
  },
  {
   "cell_type": "code",
   "execution_count": 111,
   "metadata": {},
   "outputs": [
    {
     "data": {
      "image/png": "[encoded data removed]",
      "text/plain": [
       "<Figure size 864x576 with 1 Axes>"
      ]
     },
     "metadata": {
      "needs_background": "light"
     },
     "output_type": "display_data"
    }
   ],
   "source": [
    "\n",
    "column_name = 'Confirmed_New'\n",
    "p0a = popt[0]\n",
    "lba, uba = get_lb_ub(p0a)\n",
    "p0b = popt[1]\n",
    "lbb, ubb = get_lb_ub(p0b)\n",
    "p0c = popt[2]\n",
    "lbc, ubc = get_lb_ub(p0c)\n",
    "popt, doubling_days, get_results = fit_spike_curve(column_name,\n",
    "                                                   lba=lba, lbb=lbb, lbc=lbc,\n",
    "                                                   uba=uba, ubb=ubb, ubc=ubc,\n",
    "                                                   p0a=p0a, p0b=p0b, p0c=p0c,\n",
    "                                                   min_x=60)"
   ]
  },
  {
   "cell_type": "code",
   "execution_count": 114,
   "metadata": {},
   "outputs": [
    {
     "name": "stdout",
     "output_type": "stream",
     "text": [
      "The US will have 313 new deaths on Mar 28, 2020.\n"
     ]
    }
   ],
   "source": [
    "\n",
    "from datetime import datetime\n",
    "\n",
    "date_obj = datetime(year=2020, month=3, day=28)\n",
    "dayofyear = pd.Timestamp(date_obj).dayofyear\n",
    "new_deaths = int(get_results(dayofyear))\n",
    "print('The US will have {:,} new confirmations on {}.'.format(new_deaths, date_obj.strftime('%b %d, %Y')))"
   ]
  },
  {
   "cell_type": "code",
   "execution_count": 113,
   "metadata": {},
   "outputs": [
    {
     "name": "stdout",
     "output_type": "stream",
     "text": [
      "\n",
      "lba = 2022.3460486681902\n",
      "uba = 202234.60486681902\n",
      "p0a = 20223.460486681903\n",
      "\n",
      "lbb = 8.345951439695229\n",
      "ubb = 834.5951439695228\n",
      "p0b = 83.45951439695229\n",
      "\n",
      "lbc = 0.9999999999999998\n",
      "ubc = 99.99999999999999\n",
      "p0c = 9.999999999999998\n"
     ]
    }
   ],
   "source": [
    "\n",
    "print('''\n",
    "lba = {}\n",
    "uba = {}\n",
    "p0a = {}'''.format(lba, uba, p0a))\n",
    "print('''\n",
    "lbb = {}\n",
    "ubb = {}\n",
    "p0b = {}'''.format(lbb, ubb, p0b))\n",
    "print('''\n",
    "lbc = {}\n",
    "ubc = {}\n",
    "p0c = {}'''.format(lbc, ubc, p0c))"
   ]
  },
  {
   "cell_type": "markdown",
   "metadata": {},
   "source": [
    "\n",
    "---\n",
    "## Power Curves"
   ]
  },
  {
   "cell_type": "code",
   "execution_count": 350,
   "metadata": {},
   "outputs": [],
   "source": [
    "\n",
    "import matplotlib.pyplot as plt\n",
    "\n",
    "# Use the following only if you are on a high definition device\n",
    "from IPython.display import set_matplotlib_formats\n",
    "set_matplotlib_formats('retina')\n",
    "\n",
    "from scipy.optimize import curve_fit\n",
    "import numpy as np\n",
    "import math\n",
    "%matplotlib inline\n",
    "\n",
    "method = ['lm', 'trf', 'dogbox'][1]\n",
    "def fit_pow_curve(column_name='Deaths_Cumulative',\n",
    "                  lba=1e-09, lbb=-49, lbc=3.8, lbd=3.8,\n",
    "                  uba=0.1, ubb=-41, ubc=8.3, ubd=8.3,\n",
    "                  p0a=0.05, p0b=-46, p0c=3.9, p0d=3.9,\n",
    "                  min_x=1, after_day=1):\n",
    "    \n",
    "    # Format the data\n",
    "    columns_list = [column_name]\n",
    "    tracking_df[column_name] = pd.to_numeric(tracking_df[column_name])\n",
    "    date_obj = datetime(year=2020, month=3, day=after_day)\n",
    "    mask_series = (tracking_df.index >= pd.Timestamp(date_obj)) & (tracking_df[column_name] >= min_x)\n",
    "    df = tracking_df[mask_series][columns_list].dropna(axis='index', how='any')\n",
    "    \n",
    "    # Fit the curve using the lower and upper bounds and a suggested starting point\n",
    "    def func(x, a, b, c, d):\n",
    "\n",
    "        return a * pow(x + b, c) + d\n",
    "    dayofyear_data = np.array(object=[ts.dayofyear for ts in df.index])\n",
    "    confirmation_data = np.array(object=[int(c) for c in df[column_name].tolist()])\n",
    "    bounds_tuple = ([lba, lbb, lbc, lbd],\n",
    "                    [uba, ubb, ubc, ubd])\n",
    "    p0_array = np.array([p0a, p0b, p0c, p0d])\n",
    "    popt, pcov = curve_fit(func, dayofyear_data, confirmation_data,\n",
    "                           bounds=bounds_tuple, p0=p0_array, method=method)\n",
    "    \n",
    "    # Plot the cumulative data\n",
    "    fig = plt.figure(figsize=(12,8))\n",
    "    ax = fig.add_subplot(111, autoscale_on=True)\n",
    "    ax.set_yscale('log')\n",
    "    country_name = column_name.split('_')[-1]\n",
    "    line_2d_obj = plt.plot(dayofyear_data, confirmation_data, 'b-', label='{} data'.format(country_name))\n",
    "    \n",
    "    # Plot the fitted curve\n",
    "    def get_cumulative_confirmations(dayofyear):\n",
    "        '''Get the cumulative confirmations given the day of the year'''\n",
    "        #print('{} * pow({} + {}, {}) + {}'.format(popt[0], dayofyear, popt[1], popt[2], popt[3]))\n",
    "        \n",
    "        return popt[0] * pow(dayofyear + popt[1], popt[2]) + popt[3]\n",
    "    label_str = 'fit: cc = %3.1f * pow(doy + %3.1f, %3.1f) + %3.1f' % tuple(popt)\n",
    "    line_2d_obj = plt.plot(dayofyear_data, get_cumulative_confirmations(dayofyear_data), 'r-', label=label_str)\n",
    "    \n",
    "    # Label the graph\n",
    "    plt.xlabel('Day of Year')\n",
    "    label_list = column_name.split('_')\n",
    "    plt.ylabel('{} {}'.format(label_list[0], label_list[1]))\n",
    "    legend_obj = plt.legend()\n",
    "    \n",
    "    # Get the doubling time\n",
    "    average_doubling_time = get_average_doubling(confirmation_data)\n",
    "    \n",
    "    return popt, average_doubling_time, get_cumulative_confirmations"
   ]
  },
  {
   "cell_type": "markdown",
   "metadata": {},
   "source": [
    "\n",
    "---\n",
    "## Cumulative Deaths Power Curve"
   ]
  },
  {
   "cell_type": "code",
   "execution_count": 122,
   "metadata": {},
   "outputs": [],
   "source": [
    "\n",
    "max_cumulative = tracking_df.Confirmed_Cumulative.max()\n",
    "lba = max_cumulative/10\n",
    "uba = max_cumulative*10\n",
    "p0a = max_cumulative\n",
    "\n",
    "doy = tracking_df.Confirmed_Cumulative.idxmax().dayofyear\n",
    "lbb = doy/10\n",
    "ubb = doy*10\n",
    "p0b = doy\n",
    "\n",
    "min_cumulative = tracking_df.Confirmed_Cumulative.min()\n",
    "lbc = min_cumulative/10\n",
    "ubc = min_cumulative*10\n",
    "p0c = min_cumulative"
   ]
  },
  {
   "cell_type": "code",
   "execution_count": 343,
   "metadata": {},
   "outputs": [],
   "source": [
    "\n",
    "lba = 3.2623737008620897e-08\n",
    "uba = 3.26237370086209e-06\n",
    "p0a = 3.26237370086209e-07\n",
    "\n",
    "lbb = -532.9143272056222\n",
    "ubb = -5.329143272056222\n",
    "p0b = -53.29143272056222\n",
    "\n",
    "lbc = 0.7526876544866821\n",
    "ubc = 75.2687654486682\n",
    "p0c = 7.526876544866821\n",
    "\n",
    "lbd = -96.86648822354888\n",
    "ubd = -0.9686648822354889\n",
    "p0d = -9.686648822354888"
   ]
  },
  {
   "cell_type": "code",
   "execution_count": 351,
   "metadata": {},
   "outputs": [
    {
     "data": {
      "image/png": "[encoded data removed]",
      "text/plain": [
       "<Figure size 864x576 with 1 Axes>"
      ]
     },
     "metadata": {
      "needs_background": "light"
     },
     "output_type": "display_data"
    }
   ],
   "source": [
    "\n",
    "column_name = 'Confirmed_Cumulative'\n",
    "p0a = popt[0]\n",
    "lba, uba = get_lb_ub(p0a)\n",
    "p0b = popt[1]\n",
    "lbb, ubb = get_lb_ub(p0b)\n",
    "p0c = popt[2]\n",
    "lbc, ubc = get_lb_ub(p0c)\n",
    "p0d = popt[3]\n",
    "lbd, ubd = get_lb_ub(p0d)\n",
    "try:\n",
    "    popt, doubling_days, get_results = fit_pow_curve(column_name, lba=lba, lbb=lbb, lbc=lbc, lbd=lbd,\n",
    "                                                     uba=uba, ubb=ubb, ubc=ubc, ubd=ubd,\n",
    "                                                     p0a=p0a, p0b=p0b, p0c=p0c, p0d=p0d, min_x=50)\n",
    "except Exception as e:\n",
    "    message = str(e).strip()\n",
    "    print(message)"
   ]
  },
  {
   "cell_type": "code",
   "execution_count": 345,
   "metadata": {},
   "outputs": [
    {
     "name": "stdout",
     "output_type": "stream",
     "text": [
      "The US will have 127,217 cumulative confirmations on Mar 28, 2020.\n"
     ]
    }
   ],
   "source": [
    "\n",
    "from datetime import datetime\n",
    "\n",
    "date_obj = datetime(year=2020, month=3, day=28)\n",
    "dayofyear = pd.Timestamp(date_obj).dayofyear\n",
    "new_deaths = int(get_results(dayofyear))\n",
    "print('The US will have {:,} cumulative confirmations on {}.'.format(new_deaths, date_obj.strftime('%b %d, %Y')))"
   ]
  },
  {
   "cell_type": "code",
   "execution_count": 339,
   "metadata": {},
   "outputs": [
    {
     "name": "stdout",
     "output_type": "stream",
     "text": [
      "\n",
      "lba = 3.2623737008620897e-08\n",
      "uba = 3.26237370086209e-06\n",
      "p0a = 3.26237370086209e-07\n",
      "\n",
      "lbb = -532.9143272056222\n",
      "ubb = -5.329143272056222\n",
      "p0b = -53.29143272056222\n",
      "\n",
      "lbc = 0.7526876544866821\n",
      "ubc = 75.2687654486682\n",
      "p0c = 7.526876544866821\n",
      "\n",
      "lbd = -96.86648822354888\n",
      "ubd = -0.9686648822354889\n",
      "p0d = -9.686648822354888\n"
     ]
    }
   ],
   "source": [
    "\n",
    "print('''\n",
    "lba = {}\n",
    "uba = {}\n",
    "p0a = {}'''.format(lba, uba, p0a))\n",
    "print('''\n",
    "lbb = {}\n",
    "ubb = {}\n",
    "p0b = {}'''.format(lbb, ubb, p0b))\n",
    "print('''\n",
    "lbc = {}\n",
    "ubc = {}\n",
    "p0c = {}'''.format(lbc, ubc, p0c))\n",
    "print('''\n",
    "lbd = {}\n",
    "ubd = {}\n",
    "p0d = {}'''.format(lbd, ubd, p0d))"
   ]
  },
  {
   "cell_type": "code",
   "execution_count": null,
   "metadata": {},
   "outputs": [],
   "source": []
  },
  {
   "cell_type": "markdown",
   "metadata": {},
   "source": [
    "\n",
    "---"
   ]
  },
  {
   "cell_type": "code",
   "execution_count": 10,
   "metadata": {},
   "outputs": [],
   "source": [
    "\n",
    "import matplotlib.pyplot as plt\n",
    "\n",
    "# Use the following only if you are on a high definition device\n",
    "from IPython.display import set_matplotlib_formats\n",
    "set_matplotlib_formats('retina')\n",
    "\n",
    "from scipy.optimize import curve_fit\n",
    "import numpy as np\n",
    "import math\n",
    "%matplotlib inline\n",
    "\n",
    "method = ['lm', 'trf', 'dogbox'][1]\n",
    "def fit_curve(column_name='Deaths_Cumulative',\n",
    "              lba=1e-09, lbb=-49, lbc=3.8, lbd=-1.0, lbe=-1.0,\n",
    "              uba=0.1, ubb=-41, ubc=8.3, ubd=1.0, ube=1.0,\n",
    "              p0a=0.05, p0b=-46, p0c=3.9, p0d=0.0, p0e=0.0,\n",
    "              min_x=1):\n",
    "    \n",
    "    # Format the data\n",
    "    columns_list = [column_name]\n",
    "    tracking_df[column_name] = pd.to_numeric(tracking_df[column_name])\n",
    "    mask_series = (tracking_df[column_name] >= min_x)\n",
    "    df = tracking_df[mask_series][columns_list].dropna(axis='index', how='any')\n",
    "    \n",
    "    # Fit the curve using the lower and upper bounds and a suggested starting point\n",
    "    def func(x, a, b, c, d, e):\n",
    "\n",
    "        return a * pow(x + b, c) + d * x + e\n",
    "    dayofyear_data = np.array(object=[ts.dayofyear for ts in df.index])\n",
    "    confirmation_data = np.array(object=[int(c) for c in df[column_name].tolist()])\n",
    "    bounds_tuple = ([lba, lbb, lbc, lbd, lbe],\n",
    "                    [uba, ubb, ubc, ubd, ube])\n",
    "    p0_array = np.array([p0a, p0b, p0c, p0d, p0e])\n",
    "    popt, pcov = curve_fit(func, dayofyear_data, confirmation_data,\n",
    "                           bounds=bounds_tuple, p0=p0_array, method=method)\n",
    "    \n",
    "    # Plot the cumulative data\n",
    "    fig = plt.figure(figsize=(12,8))\n",
    "    ax = fig.add_subplot(111)\n",
    "    ax.set_yscale('log')\n",
    "    country_name = column_name.split('_')[-1]\n",
    "    line_2d_obj = plt.plot(dayofyear_data, confirmation_data, 'b-', label='{} data'.format(country_name))\n",
    "    \n",
    "    # Plot the fitted curve\n",
    "    def get_cumulative_confirmations(dayofyear):\n",
    "        '''Get the cumulative confirmations given the day of the year'''\n",
    "        #print('{} * pow({} + {}, {}) + {} * {} + {}'.format(popt[0], dayofyear, popt[1], popt[2], popt[3], dayofyear, popt[4]))\n",
    "        \n",
    "        return popt[0] * pow(dayofyear + popt[1], popt[2]) + popt[3] * dayofyear + popt[4]\n",
    "    label_str = 'fit: cc = %3.2f * pow(doy%3.0f, %3.1f) + %3.1f * doy + %3.1f' % tuple(popt)\n",
    "    line_2d_obj = plt.plot(dayofyear_data, get_cumulative_confirmations(dayofyear_data), 'r-', label=label_str)\n",
    "    \n",
    "    # Label the graph\n",
    "    plt.xlabel('Day of Year')\n",
    "    label_list = column_name.split('_')\n",
    "    plt.ylabel('{} {}'.format(label_list[0], label_list[1]))\n",
    "    legend_obj = plt.legend()\n",
    "    \n",
    "    # Get the doubling time\n",
    "    doubling_time_list = []\n",
    "    for i, confirms in enumerate(confirmation_data):\n",
    "        if i > 0:\n",
    "            doubling_time = get_doubling_days(confirmation_data[i-1], confirmation_data[i])\n",
    "            doubling_time_list.append(doubling_time)\n",
    "    average_doubling_time = np.array(doubling_time_list).mean()\n",
    "    \n",
    "    return popt, average_doubling_time, get_cumulative_confirmations"
   ]
  },
  {
   "cell_type": "code",
   "execution_count": 12,
   "metadata": {},
   "outputs": [
    {
     "name": "stdout",
     "output_type": "stream",
     "text": [
      "The US will have 1,310 cumulative deaths today. It is doubling every 3.8 days.\n",
      "That 1.0000000000000003e-09 * pow(dayofyear-48, 7.671722341113232) + -0.08941274015985463 * dayofyear + 0.9999999999999999 curve shown in red is fitted to the data.\n"
     ]
    },
    {
     "data": {
      "image/png": "[encoded data removed]",
      "text/plain": [
       "<Figure size 864x576 with 1 Axes>"
      ]
     },
     "metadata": {
      "needs_background": "light"
     },
     "output_type": "display_data"
    }
   ],
   "source": [
    "\n",
    "popt, doubling_days, get_cumulative_deaths = fit_curve('Deaths_Cumulative')\n",
    "dayofyear = pd.Timestamp(datetime.now()).dayofyear\n",
    "#print(dayofyear)\n",
    "confirmed_now = int(get_cumulative_deaths(dayofyear))\n",
    "print('The US will have {:,} cumulative deaths today. It is doubling every {} days.'.format(confirmed_now, round(doubling_days, 1)))\n",
    "formatted_str = 'That {} * pow(dayofyear{}, {}) + {} * dayofyear + {} curve shown in red is fitted to the data.'\n",
    "print(formatted_str.format(popt[0], int(popt[1]), popt[2], popt[3], popt[4]))"
   ]
  },
  {
   "cell_type": "code",
   "execution_count": null,
   "metadata": {},
   "outputs": [],
   "source": [
    "\n",
    "# Hall of Fame\n",
    "lba = 4.110281698247205e-31\n",
    "uba = 4.110281698247205e-29\n",
    "p0a = 4.110281698247205e-30\n",
    "\n",
    "lbb = -513.9398352299962\n",
    "ubb = -5.139398352299962\n",
    "p0b = -51.39398352299962\n",
    "\n",
    "lbc = 2.2185491179655665\n",
    "ubc = 221.85491179655662\n",
    "p0c = 22.185491179655664\n",
    "\n",
    "lbd = 0.3701748485216486\n",
    "ubd = 37.017484852164856\n",
    "p0d = 3.701748485216486\n",
    "\n",
    "lbe = -2165.504631099008\n",
    "ube = -21.65504631099008\n",
    "p0e = -216.5504631099008"
   ]
  },
  {
   "cell_type": "code",
   "execution_count": 110,
   "metadata": {},
   "outputs": [],
   "source": [
    "\n",
    "method = ['lm', 'trf', 'dogbox'][1]\n",
    "def fit_curve_sans_graph(column_name='Deaths_Cumulative',\n",
    "                         lba=1e-09, lbb=-49, lbc=3.8, lbd=-1.0, lbe=-1.0,\n",
    "                         uba=0.1, ubb=-41, ubc=8.3, ubd=1.0, ube=1.0,\n",
    "                         p0a=0.05, p0b=-46, p0c=3.9, p0d=0.0, p0e=0.0,\n",
    "                         min_x=1):\n",
    "    \n",
    "    # Format the data\n",
    "    df = format_the_data(column_name)\n",
    "    \n",
    "    # Fit the curve using the lower and upper bounds and a suggested starting point\n",
    "    def func(x, a, b, c, d, e):\n",
    "\n",
    "        return a * pow(x + b, c) + d * x + e\n",
    "    dayofyear_data = np.array(object=[ts.dayofyear for ts in df.index])\n",
    "    confirmation_data = np.array(object=[int(c) for c in df[column_name].tolist()])\n",
    "    bounds_tuple = ([lba, lbb, lbc, lbd, lbe],\n",
    "                    [uba, ubb, ubc, ubd, ube])\n",
    "    p0_array = np.array([p0a, p0b, p0c, p0d, p0e])\n",
    "    popt, pcov = curve_fit(func, dayofyear_data, confirmation_data,\n",
    "                           bounds=bounds_tuple, p0=p0_array, method=method)\n",
    "    \n",
    "    # Don't plot the fitted curve\n",
    "    def get_cumulative_confirmations(dayofyear):\n",
    "        '''Get the cumulative confirmations given the day of the year'''\n",
    "        #print('{} * pow({} + {}, {}) + {} * {} + {}'.format(popt[0], dayofyear, popt[1], popt[2], popt[3], dayofyear, popt[4]))\n",
    "        \n",
    "        return popt[0] * pow(dayofyear + popt[1], popt[2]) + popt[3] * dayofyear + popt[4]\n",
    "    \n",
    "    # Get the doubling time\n",
    "    average_doubling_time = get_average_doubling(confirmation_data)\n",
    "    \n",
    "    return popt, average_doubling_time, get_cumulative_confirmations"
   ]
  },
  {
   "cell_type": "code",
   "execution_count": 79,
   "metadata": {},
   "outputs": [],
   "source": [
    "\n",
    "def overfit_curve(popt, doubling_days=None, get_results=None, column_name='Deaths_Cumulative'):\n",
    "    p0a = popt[0]\n",
    "    lba, uba = get_lb_ub(p0a)\n",
    "    p0b = popt[1]\n",
    "    lbb, ubb = get_lb_ub(p0b)\n",
    "    p0c = popt[2]\n",
    "    lbc, ubc = get_lb_ub(p0c)\n",
    "    p0d = popt[3]\n",
    "    lbd, ubd = get_lb_ub(p0d)\n",
    "    p0e = popt[4]\n",
    "    lbe, ube = get_lb_ub(p0e)\n",
    "    try:\n",
    "        popt, doubling_days, get_results = fit_curve_sans_graph(column_name,\n",
    "                                                                lba=lba, lbb=lbb, lbc=lbc, lbd=lbd, lbe=lbe,\n",
    "                                                                uba=uba, ubb=ubb, ubc=ubc, ubd=ubd, ube=ube,\n",
    "                                                                p0a=p0a, p0b=p0b, p0c=p0c, p0d=p0d, p0e=p0e,\n",
    "                                                                min_x=60)\n",
    "    except ValueError as e:\n",
    "        message = str(e).strip()\n",
    "        print(message)\n",
    "        print('''\n",
    "lba = {}\n",
    "uba = {}\n",
    "p0a = {}'''.format(lba, uba, p0a))\n",
    "        print('''\n",
    "lbb = {}\n",
    "ubb = {}\n",
    "p0b = {}'''.format(lbb, ubb, p0b))\n",
    "        print('''\n",
    "lbc = {}\n",
    "ubc = {}\n",
    "p0c = {}'''.format(lbc, ubc, p0c))\n",
    "        print('''\n",
    "lbd = {}\n",
    "ubd = {}\n",
    "p0d = {}'''.format(lbd, ubd, p0d))\n",
    "        print('''\n",
    "lbe = {}\n",
    "ube = {}\n",
    "p0e = {}'''.format(lbe, ube, p0e))\n",
    "    \n",
    "    return popt, doubling_days, get_results"
   ]
  },
  {
   "cell_type": "code",
   "execution_count": 90,
   "metadata": {},
   "outputs": [
    {
     "name": "stdout",
     "output_type": "stream",
     "text": [
      "array must not contain infs or NaNs\n",
      "\n",
      "lba = 0.12309943329721984\n",
      "uba = 12.309943329721984\n",
      "p0a = 1.2309943329721984\n",
      "\n",
      "lbb = -738.6649714789803\n",
      "ubb = -7.386649714789803\n",
      "p0b = -73.86649714789803\n",
      "\n",
      "lbc = 0.26901478172140514\n",
      "ubc = 26.901478172140514\n",
      "p0c = 2.6901478172140516\n",
      "\n",
      "lbd = 0.08402165631346971\n",
      "ubd = 8.402165631346971\n",
      "p0d = 0.8402165631346971\n",
      "\n",
      "lbe = -3.3265129610783047e-13\n",
      "ube = -3.3265129610783046e-15\n",
      "p0e = -3.3265129610783047e-14\n"
     ]
    }
   ],
   "source": [
    "\n",
    "for i in range(10):\n",
    "    popt, doubling_days, get_results = overfit_curve(popt, doubling_days, get_results, column_name='Deaths_Cumulative')"
   ]
  },
  {
   "cell_type": "code",
   "execution_count": 91,
   "metadata": {},
   "outputs": [
    {
     "ename": "ValueError",
     "evalue": "Residuals are not finite in the initial point.",
     "output_type": "error",
     "traceback": [
      "\u001b[1;31m---------------------------------------------------------------------------\u001b[0m",
      "\u001b[1;31mValueError\u001b[0m                                Traceback (most recent call last)",
      "\u001b[1;32m<ipython-input-91-3efb8eb2ae4e>\u001b[0m in \u001b[0;36m<module>\u001b[1;34m\u001b[0m\n\u001b[0;32m     13\u001b[0m                                                        \u001b[0muba\u001b[0m\u001b[1;33m=\u001b[0m\u001b[0muba\u001b[0m\u001b[1;33m,\u001b[0m \u001b[0mubb\u001b[0m\u001b[1;33m=\u001b[0m\u001b[0mubb\u001b[0m\u001b[1;33m,\u001b[0m \u001b[0mubc\u001b[0m\u001b[1;33m=\u001b[0m\u001b[0mubc\u001b[0m\u001b[1;33m,\u001b[0m \u001b[0mubd\u001b[0m\u001b[1;33m=\u001b[0m\u001b[0mubd\u001b[0m\u001b[1;33m,\u001b[0m \u001b[0mube\u001b[0m\u001b[1;33m=\u001b[0m\u001b[0mube\u001b[0m\u001b[1;33m,\u001b[0m\u001b[1;33m\u001b[0m\u001b[1;33m\u001b[0m\u001b[0m\n\u001b[0;32m     14\u001b[0m                                                        \u001b[0mp0a\u001b[0m\u001b[1;33m=\u001b[0m\u001b[0mp0a\u001b[0m\u001b[1;33m,\u001b[0m \u001b[0mp0b\u001b[0m\u001b[1;33m=\u001b[0m\u001b[0mp0b\u001b[0m\u001b[1;33m,\u001b[0m \u001b[0mp0c\u001b[0m\u001b[1;33m=\u001b[0m\u001b[0mp0c\u001b[0m\u001b[1;33m,\u001b[0m \u001b[0mp0d\u001b[0m\u001b[1;33m=\u001b[0m\u001b[0mp0d\u001b[0m\u001b[1;33m,\u001b[0m \u001b[0mp0e\u001b[0m\u001b[1;33m=\u001b[0m\u001b[0mp0e\u001b[0m\u001b[1;33m,\u001b[0m\u001b[1;33m\u001b[0m\u001b[1;33m\u001b[0m\u001b[0m\n\u001b[1;32m---> 15\u001b[1;33m                                                        min_x=1)\n\u001b[0m\u001b[0;32m     16\u001b[0m \u001b[0mdayofyear\u001b[0m \u001b[1;33m=\u001b[0m \u001b[0mpd\u001b[0m\u001b[1;33m.\u001b[0m\u001b[0mTimestamp\u001b[0m\u001b[1;33m(\u001b[0m\u001b[0mdatetime\u001b[0m\u001b[1;33m.\u001b[0m\u001b[0mnow\u001b[0m\u001b[1;33m(\u001b[0m\u001b[1;33m)\u001b[0m\u001b[1;33m)\u001b[0m\u001b[1;33m.\u001b[0m\u001b[0mdayofyear\u001b[0m\u001b[1;33m\u001b[0m\u001b[1;33m\u001b[0m\u001b[0m\n\u001b[0;32m     17\u001b[0m \u001b[1;31m#dayofyear = pd.Timestamp(datetime(year=2020, month=3, day=16)).dayofyear\u001b[0m\u001b[1;33m\u001b[0m\u001b[1;33m\u001b[0m\u001b[1;33m\u001b[0m\u001b[0m\n",
      "\u001b[1;32m<ipython-input-10-c0c17a2077e3>\u001b[0m in \u001b[0;36mfit_curve\u001b[1;34m(column_name, lba, lbb, lbc, lbd, lbe, uba, ubb, ubc, ubd, ube, p0a, p0b, p0c, p0d, p0e, min_x)\u001b[0m\n\u001b[0;32m     28\u001b[0m     \u001b[0mp0_array\u001b[0m \u001b[1;33m=\u001b[0m \u001b[0mnp\u001b[0m\u001b[1;33m.\u001b[0m\u001b[0marray\u001b[0m\u001b[1;33m(\u001b[0m\u001b[1;33m[\u001b[0m\u001b[0mp0a\u001b[0m\u001b[1;33m,\u001b[0m \u001b[0mp0b\u001b[0m\u001b[1;33m,\u001b[0m \u001b[0mp0c\u001b[0m\u001b[1;33m,\u001b[0m \u001b[0mp0d\u001b[0m\u001b[1;33m,\u001b[0m \u001b[0mp0e\u001b[0m\u001b[1;33m]\u001b[0m\u001b[1;33m)\u001b[0m\u001b[1;33m\u001b[0m\u001b[1;33m\u001b[0m\u001b[0m\n\u001b[0;32m     29\u001b[0m     popt, pcov = curve_fit(func, dayofyear_data, confirmation_data,\n\u001b[1;32m---> 30\u001b[1;33m                            bounds=bounds_tuple, p0=p0_array, method=method)\n\u001b[0m\u001b[0;32m     31\u001b[0m \u001b[1;33m\u001b[0m\u001b[0m\n\u001b[0;32m     32\u001b[0m     \u001b[1;31m# Plot the cumulative data\u001b[0m\u001b[1;33m\u001b[0m\u001b[1;33m\u001b[0m\u001b[1;33m\u001b[0m\u001b[0m\n",
      "\u001b[1;32m~\\AppData\\Local\\Continuum\\anaconda3\\lib\\site-packages\\scipy\\optimize\\minpack.py\u001b[0m in \u001b[0;36mcurve_fit\u001b[1;34m(f, xdata, ydata, p0, sigma, absolute_sigma, check_finite, bounds, method, jac, **kwargs)\u001b[0m\n\u001b[0;32m    761\u001b[0m \u001b[1;33m\u001b[0m\u001b[0m\n\u001b[0;32m    762\u001b[0m         res = least_squares(func, p0, jac=jac, bounds=bounds, method=method,\n\u001b[1;32m--> 763\u001b[1;33m                             **kwargs)\n\u001b[0m\u001b[0;32m    764\u001b[0m \u001b[1;33m\u001b[0m\u001b[0m\n\u001b[0;32m    765\u001b[0m         \u001b[1;32mif\u001b[0m \u001b[1;32mnot\u001b[0m \u001b[0mres\u001b[0m\u001b[1;33m.\u001b[0m\u001b[0msuccess\u001b[0m\u001b[1;33m:\u001b[0m\u001b[1;33m\u001b[0m\u001b[1;33m\u001b[0m\u001b[0m\n",
      "\u001b[1;32m~\\AppData\\Local\\Continuum\\anaconda3\\lib\\site-packages\\scipy\\optimize\\_lsq\\least_squares.py\u001b[0m in \u001b[0;36mleast_squares\u001b[1;34m(fun, x0, jac, bounds, method, ftol, xtol, gtol, x_scale, loss, f_scale, diff_step, tr_solver, tr_options, jac_sparsity, max_nfev, verbose, args, kwargs)\u001b[0m\n\u001b[0;32m    811\u001b[0m \u001b[1;33m\u001b[0m\u001b[0m\n\u001b[0;32m    812\u001b[0m     \u001b[1;32mif\u001b[0m \u001b[1;32mnot\u001b[0m \u001b[0mnp\u001b[0m\u001b[1;33m.\u001b[0m\u001b[0mall\u001b[0m\u001b[1;33m(\u001b[0m\u001b[0mnp\u001b[0m\u001b[1;33m.\u001b[0m\u001b[0misfinite\u001b[0m\u001b[1;33m(\u001b[0m\u001b[0mf0\u001b[0m\u001b[1;33m)\u001b[0m\u001b[1;33m)\u001b[0m\u001b[1;33m:\u001b[0m\u001b[1;33m\u001b[0m\u001b[1;33m\u001b[0m\u001b[0m\n\u001b[1;32m--> 813\u001b[1;33m         \u001b[1;32mraise\u001b[0m \u001b[0mValueError\u001b[0m\u001b[1;33m(\u001b[0m\u001b[1;34m\"Residuals are not finite in the initial point.\"\u001b[0m\u001b[1;33m)\u001b[0m\u001b[1;33m\u001b[0m\u001b[1;33m\u001b[0m\u001b[0m\n\u001b[0m\u001b[0;32m    814\u001b[0m \u001b[1;33m\u001b[0m\u001b[0m\n\u001b[0;32m    815\u001b[0m     \u001b[0mn\u001b[0m \u001b[1;33m=\u001b[0m \u001b[0mx0\u001b[0m\u001b[1;33m.\u001b[0m\u001b[0msize\u001b[0m\u001b[1;33m\u001b[0m\u001b[1;33m\u001b[0m\u001b[0m\n",
      "\u001b[1;31mValueError\u001b[0m: Residuals are not finite in the initial point."
     ]
    }
   ],
   "source": [
    "\n",
    "p0a = popt[0]\n",
    "lba, uba = get_lb_ub(p0a)\n",
    "p0b = popt[1]\n",
    "lbb, ubb = get_lb_ub(p0b)\n",
    "p0c = popt[2]\n",
    "lbc, ubc = get_lb_ub(p0c)\n",
    "p0d = popt[3]\n",
    "lbd, ubd = get_lb_ub(p0d)\n",
    "p0e = popt[4]\n",
    "lbe, ube = get_lb_ub(p0e)\n",
    "popt, doubling_days, get_cumulative_deaths = fit_curve('Deaths_Cumulative',\n",
    "                                                       lba=lba, lbb=lbb, lbc=lbc, lbd=lbd, lbe=lbe,\n",
    "                                                       uba=uba, ubb=ubb, ubc=ubc, ubd=ubd, ube=ube,\n",
    "                                                       p0a=p0a, p0b=p0b, p0c=p0c, p0d=p0d, p0e=p0e,\n",
    "                                                       min_x=1)\n",
    "dayofyear = pd.Timestamp(datetime.now()).dayofyear\n",
    "#dayofyear = pd.Timestamp(datetime(year=2020, month=3, day=16)).dayofyear\n",
    "confirmed_now = int(get_cumulative_deaths(dayofyear))\n",
    "print('The US will have {:,} cumulative confirmed cases today. It is doubling every {} days.'.format(confirmed_now, round(doubling_days, 1)))\n",
    "formatted_str = 'That {} * pow(dayofyear{}, {}) + {} * dayofyear + {} curve shown in red is (over)fitted to the data.'\n",
    "print(formatted_str.format(popt[0], popt[1], popt[2], popt[3], popt[4]))"
   ]
  },
  {
   "cell_type": "code",
   "execution_count": 92,
   "metadata": {},
   "outputs": [
    {
     "name": "stdout",
     "output_type": "stream",
     "text": [
      "0.12309943329721984 1.2309943329721984 12.309943329721984\n",
      "-738.6649714789803 -73.86649714789803 -7.386649714789803\n",
      "0.26901478172140514 2.6901478172140516 26.901478172140514\n",
      "0.08402165631346971 0.8402165631346971 8.402165631346971\n",
      "-3.3265129610783047e-13 -3.3265129610783047e-14 -3.3265129610783046e-15\n",
      "The US will have 1,340 cumulative confirmed deaths today. It is doubling every 3.3 days.\n",
      "That 1.2309943329721984 * pow(dayofyear-73.86649714789803, 2.6901478172140516) + 0.8402165631346971 * dayofyear + -3.3265129610783047e-14 curve shown in red is (over)fitted to the data.\n"
     ]
    }
   ],
   "source": [
    "\n",
    "print(lba, popt[0], uba)\n",
    "print(lbb, popt[1], ubb)\n",
    "print(lbc, popt[2], ubc)\n",
    "print(lbd, popt[3], ubd)\n",
    "print(lbe, popt[4], ube)\n",
    "dayofyear = pd.Timestamp(datetime.now()).dayofyear\n",
    "confirmed_now = int(get_cumulative_deaths_usa(dayofyear))\n",
    "print('The US will have {:,} cumulative confirmed deaths today. It is doubling every {} days.'.format(confirmed_now, round(doubling_days, 1)))\n",
    "formatted_str = 'That {} * pow(dayofyear{}, {}) + {} * dayofyear + {} curve shown in red is (over)fitted to the data.'\n",
    "print(formatted_str.format(popt[0], popt[1], popt[2], popt[3], popt[4]))"
   ]
  },
  {
   "cell_type": "code",
   "execution_count": null,
   "metadata": {},
   "outputs": [],
   "source": [
    "\n",
    "tracking_df.columns"
   ]
  },
  {
   "cell_type": "code",
   "execution_count": null,
   "metadata": {},
   "outputs": [],
   "source": [
    "\n",
    "def get_lb_ub(p0):\n",
    "    if p0 < 0:\n",
    "        uba = math.copysign(abs(p0)/10, p0)\n",
    "        lba = math.copysign(abs(p0)*10, p0)\n",
    "    else:\n",
    "        lba = math.copysign(abs(p0)/10, p0)\n",
    "        uba = math.copysign(abs(p0)*10, p0)\n",
    "    \n",
    "    return lba, uba\n",
    "\n",
    "p0a = popt[0]\n",
    "lba, uba = get_lb_ub(p0a)\n",
    "print('''\n",
    "lba = {}\n",
    "uba = {}\n",
    "p0a = {}'''.format(lba, uba, p0a))\n",
    "\n",
    "p0b = popt[1]\n",
    "lbb, ubb = get_lb_ub(p0b)\n",
    "print('''\n",
    "lbb = {}\n",
    "ubb = {}\n",
    "p0b = {}'''.format(lbb, ubb, p0b))\n",
    "\n",
    "p0c = popt[2]\n",
    "lbc, ubc = get_lb_ub(p0c)\n",
    "print('''\n",
    "lbc = {}\n",
    "ubc = {}\n",
    "p0c = {}'''.format(lbc, ubc, p0c))\n",
    "\n",
    "p0d = popt[3]\n",
    "lbd, ubd = get_lb_ub(p0d)\n",
    "print('''\n",
    "lbd = {}\n",
    "ubd = {}\n",
    "p0d = {}'''.format(lbd, ubd, p0d))\n",
    "\n",
    "p0e = popt[4]\n",
    "lbe, ube = get_lb_ub(p0e)\n",
    "print('''\n",
    "lbe = {}\n",
    "ube = {}\n",
    "p0e = {}'''.format(lbe, ube, p0e))"
   ]
  },
  {
   "cell_type": "code",
   "execution_count": null,
   "metadata": {},
   "outputs": [],
   "source": [
    "\n",
    "lba = 3.5898673196110995e-29\n",
    "uba = 3.589867319611099e-27\n",
    "p0a = 3.5898673196110993e-28\n",
    "\n",
    "lbb = -258.0043216718908\n",
    "ubb = -2.580043216718908\n",
    "p0b = -25.80043216718908\n",
    "\n",
    "lbc = 1.794478077861036\n",
    "ubc = 179.44780778610362\n",
    "p0c = 17.94478077861036\n",
    "\n",
    "lbd = 4.482007640229286\n",
    "ubd = 448.2007640229285\n",
    "p0d = 44.820076402292855\n",
    "\n",
    "lbe = -32017.1490577167\n",
    "ube = -320.171490577167\n",
    "p0e = -3201.7149057716697"
   ]
  },
  {
   "cell_type": "code",
   "execution_count": null,
   "metadata": {},
   "outputs": [],
   "source": [
    "\n",
    "column_name = 'Confirmed_New_usa'\n",
    "popt, doubling_days, get_new_confirmations_usa = fit_curve(column_name=column_name,\n",
    "                                                           lba=lba, lbb=lbb, lbc=lbc, lbd=lbd, lbe=lbe,\n",
    "                                                           uba=uba, ubb=ubb, ubc=ubc, ubd=ubd, ube=ube,\n",
    "                                                           p0a=p0a, p0b=p0b, p0c=p0c, p0d=p0d, p0e=p0e,\n",
    "                                                           min_x=100)\n",
    "dayofyear = pd.Timestamp(datetime.now()).dayofyear\n",
    "confirmed_now = int(get_new_confirmations_usa(dayofyear))\n",
    "word_list = column_name.lower().split('_')\n",
    "formatted_str = 'The US will have {:,} {} {} cases today. It is doubling every {} days.'\n",
    "print(formatted_str.format(confirmed_now, word_list[0], word_list[1], round(doubling_days, 1)))\n",
    "formatted_str = 'That {} * pow(dayofyear{}, {}) + {} * dayofyear + {} curve shown in red is (over)fitted to the data.'\n",
    "print(formatted_str.format(popt[0], popt[1], popt[2], popt[3], popt[4]))"
   ]
  },
  {
   "cell_type": "code",
   "execution_count": null,
   "metadata": {},
   "outputs": [],
   "source": [
    "\n",
    "import matplotlib.pyplot as plt\n",
    "\n",
    "# Use the following only if you are on a high definition device\n",
    "from IPython.display import set_matplotlib_formats\n",
    "set_matplotlib_formats('retina')\n",
    "\n",
    "from scipy.optimize import curve_fit\n",
    "import numpy as np\n",
    "import math\n",
    "%matplotlib inline\n",
    "\n",
    "#tracking_df = s.load_object('tracking_df')\n",
    "method = ['lm', 'trf', 'dogbox'][1]\n",
    "def fit_sigmoid_curve(column_name='Confirmed_New_usa',\n",
    "                      lba=1e-09, lbb=-49, lbc=3.8,\n",
    "                      uba=0.1, ubb=-41, ubc=8.3,\n",
    "                      p0a=0.05, p0b=-46, p0c=3.9,\n",
    "                      min_x=100):\n",
    "    \n",
    "    # Format the data\n",
    "    columns_list = [column_name]\n",
    "    tracking_df[column_name] = pd.to_numeric(tracking_df[column_name])\n",
    "    mask_series = (tracking_df[column_name] >= min_x)\n",
    "    df = tracking_df[mask_series][columns_list].dropna(axis='index', how='any')\n",
    "    \n",
    "    # Fit the curve using the lower and upper bounds and a suggested starting point\n",
    "    def sigmoid(x, a, b, c):\n",
    "        #print('{} / (1 + np.exp(-1*{}*np.subtract(np.array({}), {})))'.format(a, b, x, c))\n",
    "        \n",
    "        return a / (1 + np.exp(-1*b*np.subtract(x, c)))\n",
    "    dayofyear_data = np.array(object=[ts.dayofyear for ts in df.index])\n",
    "    confirmation_data = np.array(object=[int(c) for c in df[column_name].tolist()])\n",
    "    bounds_tuple = ([lba, lbb, lbc],\n",
    "                    [uba, ubb, ubc])\n",
    "    p0_array = np.array([p0a, p0b, p0c])\n",
    "    popt, pcov = curve_fit(sigmoid, dayofyear_data, confirmation_data,\n",
    "                           bounds=bounds_tuple, p0=p0_array, method=method)\n",
    "    \n",
    "    # Plot the cumulative data\n",
    "    fig = plt.figure(figsize=(18, 4))\n",
    "    ax = fig.add_subplot(111)\n",
    "    #ax.set_yscale('log')\n",
    "    country_name = column_name.split('_')[-1]\n",
    "    line_2d_obj = plt.plot(dayofyear_data, confirmation_data, 'b-', label='{} data'.format(country_name))\n",
    "    \n",
    "    # Plot the fitted curve\n",
    "    def get_cumulative_confirmations(dayofyear):\n",
    "        '''Get the cumulative confirmations given the day of the year'''\n",
    "        #print('{} / (1 + np.exp(-{}({}-{})))'.format(popt[0], popt[1], dayofyear, popt[2]))\n",
    "        \n",
    "        return popt[0] / (1 + np.exp(-1*popt[1]*np.subtract(dayofyear, popt[2])))\n",
    "    label_str = 'fit: cc = %3.0f / (1 + np.exp(-%3.1f(doy-%3.1f)))' % tuple(popt)\n",
    "    line_2d_obj = plt.plot(dayofyear_data, get_cumulative_confirmations(dayofyear_data), 'r-', label=label_str)\n",
    "    \n",
    "    # Label the graph\n",
    "    plt.xlabel('Day of Year')\n",
    "    label_list = column_name.split('_')\n",
    "    plt.ylabel('{} {}'.format(label_list[0], label_list[1]))\n",
    "    legend_obj = plt.legend()\n",
    "    \n",
    "    # Get the doubling time\n",
    "    doubling_time_list = []\n",
    "    for i, confirms in enumerate(confirmation_data):\n",
    "        if i > 0:\n",
    "            growth_rate = (confirmation_data[i]-confirmation_data[i-1])/confirmation_data[i]\n",
    "            doubling_time = math.log(2)/growth_rate\n",
    "            if (doubling_time != np.inf) and (doubling_time > 0):\n",
    "                doubling_time_list.append(doubling_time)\n",
    "    average_doubling_time = np.array(doubling_time_list).mean()\n",
    "    \n",
    "    return popt, average_doubling_time, get_cumulative_confirmations"
   ]
  },
  {
   "cell_type": "code",
   "execution_count": null,
   "metadata": {},
   "outputs": [],
   "source": [
    "\n",
    "column_name = 'Confirmed_New_usa'\n",
    "popt, doubling_days, get_new_confirmations_usa = fit_sigmoid_curve(column_name=column_name, lba=lba, lbb=lbb, lbc=lbc, uba=uba, ubb=ubb, ubc=ubc,\n",
    "                                                                   p0a=p0a, p0b=p0b, p0c=p0c, min_x=1)"
   ]
  },
  {
   "cell_type": "code",
   "execution_count": null,
   "metadata": {},
   "outputs": [],
   "source": [
    "\n",
    "p0a = popt[0]\n",
    "lba, uba = get_lb_ub(p0a)\n",
    "print('''\n",
    "lba = {}\n",
    "uba = {}\n",
    "p0a = {}'''.format(lba, uba, p0a))\n",
    "\n",
    "p0b = popt[1]\n",
    "lbb, ubb = get_lb_ub(p0b)\n",
    "print('''\n",
    "lbb = {}\n",
    "ubb = {}\n",
    "p0b = {}'''.format(lbb, ubb, p0b))\n",
    "\n",
    "p0c = popt[2]\n",
    "lbc, ubc = get_lb_ub(p0c)\n",
    "print('''\n",
    "lbc = {}\n",
    "ubc = {}\n",
    "p0c = {}'''.format(lbc, ubc, p0c))"
   ]
  },
  {
   "cell_type": "code",
   "execution_count": null,
   "metadata": {},
   "outputs": [],
   "source": [
    "\n",
    "column_name = 'Deaths_New_usa'\n",
    "popt, doubling_days, get_new_deaths_usa = fit_sigmoid_curve(column_name=column_name, lba=lba, lbb=lbb, lbc=lbc, uba=uba, ubb=ubb,\n",
    "                                                            ubc=ubc, p0a=p0a, p0b=p0b, p0c=p0c, min_x=1)"
   ]
  },
  {
   "cell_type": "code",
   "execution_count": null,
   "metadata": {},
   "outputs": [],
   "source": [
    "\n",
    "#date_obj = datetime(year=2020, month=12, day=31)\n",
    "#dayofyear = pd.Timestamp(date_obj).dayofyear\n",
    "date_obj = datetime.now()\n",
    "dayofyear = pd.Timestamp(date_obj).dayofyear\n",
    "confirmed_now = int(get_new_deaths_usa(dayofyear))\n",
    "word_list = column_name.lower().split('_')\n",
    "formatted_str = 'The US will have {:,} {} {} on {}. It is doubling every {} days.'\n",
    "print(formatted_str.format(confirmed_now, word_list[0], word_list[1], date_obj.strftime('%b %d, %Y'), round(doubling_days, 1)))\n",
    "formatted_str = 'That {} / (1 + math.exp(-1*{}*(dayofyear-{}))) curve shown in red is (over)fitted to the data.'\n",
    "print(formatted_str.format(popt[0], popt[1], popt[2]))"
   ]
  },
  {
   "cell_type": "code",
   "execution_count": null,
   "metadata": {},
   "outputs": [],
   "source": [
    "\n",
    "lba = 6166330.3878130205\n",
    "uba = 616633038.7813021/4\n",
    "p0a = 61663303.878130205\n",
    "\n",
    "lbb = 0.039285826964592\n",
    "ubb = 3.9285826964591997\n",
    "p0b = 0.39285826964591997\n",
    "\n",
    "lbc = 10.381717623034424\n",
    "ubc = 1038.1717623034424\n",
    "p0c = 103.81717623034424"
   ]
  },
  {
   "cell_type": "code",
   "execution_count": null,
   "metadata": {},
   "outputs": [],
   "source": []
  }
 ],
 "metadata": {
  "kernelspec": {
   "display_name": "Python 3",
   "language": "python",
   "name": "python3"
  },
  "language_info": {
   "codemirror_mode": {
    "name": "ipython",
    "version": 3
   },
   "file_extension": ".py",
   "mimetype": "text/x-python",
   "name": "python",
   "nbconvert_exporter": "python",
   "pygments_lexer": "ipython3",
   "version": "3.7.6"
  }
 },
 "nbformat": 4,
 "nbformat_minor": 4
}
