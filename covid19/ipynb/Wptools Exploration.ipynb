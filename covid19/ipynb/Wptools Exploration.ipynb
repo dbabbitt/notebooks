{
 "cells": [
  {
   "cell_type": "code",
   "execution_count": null,
   "metadata": {},
   "outputs": [],
   "source": [
    "\n",
    "# https://github.com/siznax/wptools"
   ]
  },
  {
   "cell_type": "code",
   "execution_count": 1,
   "metadata": {},
   "outputs": [],
   "source": [
    "\n",
    "import sys\n",
    "\n",
    "# Insert at 1, 0 is the script path (or '' in REPL)\n",
    "sys.path.insert(1, '../py')"
   ]
  },
  {
   "cell_type": "code",
   "execution_count": 2,
   "metadata": {},
   "outputs": [
    {
     "name": "stdout",
     "output_type": "stream",
     "text": [
      "D:\\Documents\\Repositories\\notebooks\\covid19\\ipynb\\Wptools Exploration.ipynb\n",
      "['s.attempt_to_pickle', 's.data_csv_folder', 's.data_folder', 's.encoding_type', 's.load_csv', 's.load_dataframes', 's.load_object', 's.save_dataframes', 's.saves_csv_folder', 's.saves_folder', 's.saves_pickle_folder', 's.store_objects']\n",
      "Pretty printing has been turned OFF\n"
     ]
    },
    {
     "data": {
      "text/plain": [
       "['Config', 'In', 'Out', 'RandomForestClassifier', 'SequenceMatcher', 'Storage', '_', '__', '___', '__builtin__', '__builtins__', '__doc__', '__loader__', '__name__', '__nonzero__', '__package__', '__spec__', '_dh', '_i', '_i1', '_i2', '_ih', '_ii', '_iii', '_oh', 'bs', 'check_4_doubles', 'check_for_typos', 'clear_output', 'conjunctify_list', 'copyfile', 'counties_df', 'csv', 'datetime', 'encoding', 'example_iterrows', 'exit', 'filepath_regex', 'get_classifier', 'get_column_descriptions', 'get_data_structs_dataframe', 'get_datastructure_prediction', 'get_dir_tree', 'get_git_lfs_track_commands', 'get_importances', 'get_input_sample', 'get_ipython', 'get_max_rsquared_adj', 'get_module_version', 'get_notebook_path', 'get_page_tables', 'get_specific_gitignore_files', 'get_struct_name', 'humanize_bytes', 'io', 'ipykernel', 'json', 'jupyter_config_dir', 'math', 'notebook_path', 'notebookapp', 'np', 'nx', 'os', 'pd', 'pearsonr', 'pickle', 'plt', 'preprocess_data', 'print_all_files_ending_starting_with', 'print_all_files_ending_with', 'print_all_files_starting_with', 'quit', 're', 'remove_empty_folders', 'request', 's', 'scraping_utils', 'similar', 'sm', 'sns', 'stats', 'subprocess', 'sys', 'time', 'timedelta', 'tqdm', 'unquote', 'url_regex', 'urllib', 'wikidata', 'wikipedia']"
      ]
     },
     "execution_count": 2,
     "metadata": {},
     "output_type": "execute_result"
    }
   ],
   "source": [
    "\n",
    "%run ../../load_magic/storage.py\n",
    "%run ../../load_magic/paths.py\n",
    "%run ../../load_magic/lists.py\n",
    "%run ../../load_magic/environment.py\n",
    "%run ../../load_magic/dataframes.py\n",
    "\n",
    "import scraping_utils\n",
    "wikipedia = scraping_utils.wikipedia\n",
    "\n",
    "from IPython.display import clear_output\n",
    "from bs4 import BeautifulSoup as bs\n",
    "from datetime import datetime, timedelta\n",
    "from matplotlib import pyplot as plt\n",
    "from scipy import stats\n",
    "from scipy.stats import pearsonr\n",
    "from tqdm import tqdm_notebook as tqdm\n",
    "from urllib import request\n",
    "from urllib.parse import unquote\n",
    "import networkx as nx\n",
    "import numpy as np\n",
    "import re\n",
    "import seaborn as sns\n",
    "import wikidata\n",
    "\n",
    "notebook_path = get_notebook_path()\n",
    "print(notebook_path)\n",
    "s = Storage()\n",
    "counties_df = s.load_object('counties_df')\n",
    "print(['s.{}'.format(fn) for fn in dir(s) if not fn.startswith('_')])\n",
    "\n",
    "%pprint\n",
    "dir()"
   ]
  },
  {
   "cell_type": "markdown",
   "metadata": {},
   "source": [
    "\n",
    "# [](#wikipedia-tools-for-humans)Wikipedia tools (for Humans)\n",
    "\n",
    "[![](https://camo.githubusercontent.com/550c8b4c8b68bc47b819c4ca1f06c134ac8fa8f9/68747470733a2f2f696d672e736869656c64732e696f2f707970692f762f7770746f6f6c732e737667) ](https://pypi.python.org/pypi/wptools/) [![https://travis-ci.org/siznax/wptools.svg?branch=master](https://camo.githubusercontent.com/370317e2c78f5691192c1fd8442ae9e47d7a20b6/68747470733a2f2f7472617669732d63692e6f72672f73697a6e61782f7770746f6f6c732e7376673f6272616e63683d6d6173746572)](https://travis-ci.org/siznax/wptools) [![https://coveralls.io/repos/github/siznax/wptools/badge.svg?branch=master](https://camo.githubusercontent.com/54b9f92c81a474f90d3ecf4d181241a7d60ab3ff/68747470733a2f2f636f766572616c6c732e696f2f7265706f732f6769746875622f73697a6e61782f7770746f6f6c732f62616467652e7376673f6272616e63683d6d6173746572)](https://coveralls.io/github/siznax/wptools)\n",
    "\n",
    "Python and command-line MediaWiki access for Humans\n",
    "\n",
    "*   get page extracts, image, Infobox data, Wikidata, and more\n",
    "*   get a random page, category, or site\n",
    "*   get page statistics\n",
    "*   get category members\n",
    "*   get site info and stats\n",
    "*   get data in any language\n",
    "\n",
    "This package is intended to make it as easy as possible to get data from MediaWiki instances, expose more Wikidata, and extend Wikimedia APIs just for kicks. We say \"(for Humans)\" because that is a [goal](http://docs.python-requests.org/en/master/user/intro/). Questions, feedback, and especially [contributions](https://github.com/siznax/wptools/blob/master/CONTRIBUTING.md) are welcome!\n",
    "\n",
    "## [](#install)Install"
   ]
  },
  {
   "cell_type": "code",
   "execution_count": 3,
   "metadata": {},
   "outputs": [
    {
     "name": "stdout",
     "output_type": "stream",
     "text": [
      "C:\\Users\\577342\\AppData\\Local\\Continuum\\anaconda3\\python.exe -m pip install --upgrade wptools\n",
      "Requirement already up-to-date: wptools in c:\\users\\577342\\appdata\\local\\continuum\\anaconda3\\lib\\site-packages (0.4.17)\n",
      "Requirement already satisfied, skipping upgrade: html2text in c:\\users\\577342\\appdata\\local\\continuum\\anaconda3\\lib\\site-packages (from wptools) (2020.1.16)\n",
      "Requirement already satisfied, skipping upgrade: lxml in c:\\users\\577342\\appdata\\local\\continuum\\anaconda3\\lib\\site-packages (from wptools) (4.5.0)\n",
      "Collecting pycurl\n",
      "  Downloading pycurl-7.43.0.5-cp37-cp37m-win_amd64.whl (1.7 MB)\n",
      "Requirement already satisfied, skipping upgrade: certifi in c:\\users\\577342\\appdata\\local\\continuum\\anaconda3\\lib\\site-packages (from wptools) (2020.4.5.1)\n",
      "Installing collected packages: pycurl\n",
      "Successfully installed pycurl-7.43.0.5\n"
     ]
    }
   ],
   "source": [
    "\n",
    "import sys\n",
    "\n",
    "command_str = '{sys.executable} -m pip install --upgrade wptools'.format(sys=sys)\n",
    "print(command_str)\n",
    "!{command_str}"
   ]
  },
  {
   "cell_type": "markdown",
   "metadata": {},
   "source": [
    "\n",
    "## [](#example)Example"
   ]
  },
  {
   "cell_type": "code",
   "execution_count": 4,
   "metadata": {},
   "outputs": [],
   "source": [
    "\n",
    "import wptools"
   ]
  },
  {
   "cell_type": "markdown",
   "metadata": {},
   "source": [
    "\n",
    "Get a page object:"
   ]
  },
  {
   "cell_type": "code",
   "execution_count": 6,
   "metadata": {},
   "outputs": [
    {
     "data": {
      "text/plain": [
       "<wptools.page.WPToolsPage object at 0x0000028992735D08>"
      ]
     },
     "execution_count": 6,
     "metadata": {},
     "output_type": "execute_result"
    }
   ],
   "source": [
    "\n",
    "page = wptools.page('Gandhi')"
   ]
  },
  {
   "cell_type": "markdown",
   "metadata": {},
   "source": [
    "\n",
    "Get [API:Query](https://www.mediawiki.org/wiki/API:Query) data:"
   ]
  },
  {
   "cell_type": "code",
   "execution_count": 7,
   "metadata": {},
   "outputs": [
    {
     "name": "stderr",
     "output_type": "stream",
     "text": [
      "en.wikipedia.org (query) Gandhi\n",
      "en.wikipedia.org (query) Mahatma Gandhi (&plcontinue=19379|0|G._K...\n",
      "en.wikipedia.org (query) Mahatma Gandhi (&plcontinue=19379|0|Meat...\n",
      "en.wikipedia.org (query) Mahatma Gandhi (&plcontinue=19379|0|Sush...\n",
      "en.wikipedia.org (imageinfo) File:Mahatma-Gandhi, studio, 1931.jpg\n",
      "Mahatma Gandhi (en) data\n",
      "{\n",
      "  WARNINGS: <dict(1)> extracts\n",
      "  aliases: <list(12)> Mahatma Mohandas Karamchand Gandhi, M. K. Ga...\n",
      "  assessments: <dict(10)> Biography, Politics, Alternative Views, ...\n",
      "  description: <str(63)> pre-eminent leader of Indian nationalism ...\n",
      "  extext: <str(3454)> **Mohandas Karamchand Gandhi** (; 2 October ...\n",
      "  extract: <str(3602)> <p class=\"mw-empty-elt\"></p><p><b>Mohandas ...\n",
      "  image: <list(8)> {'kind': 'query-pageimage', 'file': 'File:Mahat...\n",
      "  label: Mohandas Karamchand Gandhi\n",
      "  length: 285,364\n",
      "  links: <list(1766)> 10, Janpath, 14th Dalai Lama, 1915 Singapore...\n",
      "  modified: <dict(1)> page\n",
      "  pageid: 19379\n",
      "  random: Théâtre de l'Île\n",
      "  redirects: <list(52)> {'pageid': 55342, 'ns': 0, 'title': 'Mahat...\n",
      "  requests: <list(5)> query, query, query, query, imageinfo\n",
      "  title: Mahatma Gandhi\n",
      "  url: https://en.wikipedia.org/wiki/Mahatma_Gandhi\n",
      "  url_raw: https://en.wikipedia.org/wiki/Mahatma_Gandhi?action=raw\n",
      "  watchers: 2,141\n",
      "  wikibase: Q1001\n",
      "  wikidata_url: https://www.wikidata.org/wiki/Q1001\n",
      "}\n"
     ]
    },
    {
     "data": {
      "text/plain": [
       "<wptools.page.WPToolsPage object at 0x0000028992735D08>"
      ]
     },
     "execution_count": 7,
     "metadata": {},
     "output_type": "execute_result"
    }
   ],
   "source": [
    "\n",
    "page.get_query()"
   ]
  },
  {
   "cell_type": "markdown",
   "metadata": {},
   "source": [
    "\n",
    "Get [API:Parse](https://www.mediawiki.org/wiki/API:Parse) data:"
   ]
  },
  {
   "cell_type": "code",
   "execution_count": null,
   "metadata": {},
   "outputs": [],
   "source": [
    "\n",
    "page.get_parse()"
   ]
  },
  {
   "cell_type": "markdown",
   "metadata": {},
   "source": [
    "\n",
    "Get [Wikidata](https://www.wikidata.org/w/api.php):"
   ]
  },
  {
   "cell_type": "code",
   "execution_count": null,
   "metadata": {},
   "outputs": [],
   "source": [
    "\n",
    "page = wptools.page(wikibase='Q1001')\n",
    "page.get_wikidata()"
   ]
  },
  {
   "cell_type": "markdown",
   "metadata": {},
   "source": [
    "\n",
    "Get [RESTBase](https://www.mediawiki.org/wiki/RESTBase) data:"
   ]
  },
  {
   "cell_type": "code",
   "execution_count": null,
   "metadata": {},
   "outputs": [],
   "source": [
    "\n",
    "page.get_restbase('/page/summary/')"
   ]
  },
  {
   "cell_type": "markdown",
   "metadata": {},
   "source": [
    "\n",
    "Get all the things (at once):"
   ]
  },
  {
   "cell_type": "code",
   "execution_count": null,
   "metadata": {},
   "outputs": [],
   "source": [
    "\n",
    "page.get()"
   ]
  },
  {
   "cell_type": "markdown",
   "metadata": {},
   "source": [
    "\n",
    "Get more (expensive) data:"
   ]
  },
  {
   "cell_type": "code",
   "execution_count": null,
   "metadata": {},
   "outputs": [],
   "source": [
    "\n",
    "page.get_more()"
   ]
  },
  {
   "cell_type": "markdown",
   "metadata": {},
   "source": [
    "\n",
    "Get data in [another language](https://github.com/siznax/wptools/wiki/Language-Codes):"
   ]
  },
  {
   "cell_type": "code",
   "execution_count": null,
   "metadata": {},
   "outputs": [],
   "source": [
    "\n",
    "page = wptools.page(lang='zh')\n",
    "page"
   ]
  },
  {
   "cell_type": "markdown",
   "metadata": {},
   "source": [
    "\n",
    "Get data from [another wiki](https://meta.wikimedia.org/wiki/List_of_Wikipedias):"
   ]
  },
  {
   "cell_type": "code",
   "execution_count": null,
   "metadata": {},
   "outputs": [],
   "source": [
    "\n",
    "page = wptools.page(wiki='en.wikiquote.org')\n",
    "page"
   ]
  },
  {
   "cell_type": "markdown",
   "metadata": {},
   "source": [
    "\n",
    "## [](#documentation)Documentation\n",
    "\n",
    "See our [wiki](https://github.com/siznax/wptools/wiki).\n",
    "\n",
    "Please enjoy!\n",
    "\n",
    "@siznax <g-emoji class=\"g-emoji\" alias=\"japanese_ogre\" fallback-src=\"https://github.githubassets.com/images/icons/emoji/unicode/1f479.png\">👹</g-emoji>"
   ]
  },
  {
   "cell_type": "markdown",
   "metadata": {},
   "source": [
    "\n",
    "----"
   ]
  },
  {
   "cell_type": "code",
   "execution_count": 396,
   "metadata": {},
   "outputs": [],
   "source": [
    "\n",
    "import pyperclip\n",
    "\n",
    "pyperclip.copy(str(tuple((v, k) for k, v in idx_dict.items())))"
   ]
  },
  {
   "cell_type": "code",
   "execution_count": null,
   "metadata": {},
   "outputs": [],
   "source": []
  }
 ],
 "metadata": {
  "kernelspec": {
   "display_name": "Python 3",
   "language": "python",
   "name": "python3"
  },
  "language_info": {
   "codemirror_mode": {
    "name": "ipython",
    "version": 3
   },
   "file_extension": ".py",
   "mimetype": "text/x-python",
   "name": "python",
   "nbconvert_exporter": "python",
   "pygments_lexer": "ipython3",
   "version": "3.7.7"
  }
 },
 "nbformat": 4,
 "nbformat_minor": 4
}
