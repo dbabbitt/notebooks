{
 "cells": [
  {
   "cell_type": "code",
   "execution_count": 1,
   "metadata": {},
   "outputs": [
    {
     "name": "stdout",
     "output_type": "stream",
     "text": [
      "Pretty printing has been turned OFF\n"
     ]
    }
   ],
   "source": [
    "\n",
    "%pprint"
   ]
  },
  {
   "cell_type": "code",
   "execution_count": 2,
   "metadata": {},
   "outputs": [
    {
     "data": {
      "text/plain": [
       "'B30500206510101480302'"
      ]
     },
     "execution_count": 2,
     "metadata": {},
     "output_type": "execute_result"
    }
   ],
   "source": [
    "\n",
    "import re\n",
    "\n",
    "re.sub('[^A-Z0-9]+', '', 'B30500-2065/1010-1480302')"
   ]
  },
  {
   "cell_type": "code",
   "execution_count": 2,
   "metadata": {},
   "outputs": [],
   "source": [
    "\n",
    "import numpy as np\n",
    "import matplotlib.pyplot as plt\n",
    "from scipy.stats import norm\n",
    "%matplotlib inline"
   ]
  },
  {
   "cell_type": "code",
   "execution_count": 3,
   "metadata": {},
   "outputs": [],
   "source": [
    "\n",
    "def plot_bell_curve(mu, sigma, x1, x2):\n",
    "    \n",
    "    # Calculate the z-transform\n",
    "    z1 = ( x1 - mu ) / sigma\n",
    "    z2 = ( x2 - mu ) / sigma\n",
    "    \n",
    "    x = np.arange(z1, z2, 0.001) # range of x in spec\n",
    "    x_all = np.arange(-10, 10, 0.001) # entire range of x, both in and out of spec\n",
    "\n",
    "    # mean = 0, stddev = 1, since Z-transform was calculated\n",
    "    y = norm.pdf(x, 0, 1)\n",
    "    y2 = norm.pdf(x_all, 0, 1)\n",
    "    \n",
    "    # Build the plot\n",
    "    fig, ax = plt.subplots(figsize=(9, 6))\n",
    "    plt.style.use('fivethirtyeight')\n",
    "    ax.plot(x_all, y2)\n",
    "\n",
    "    ax.fill_between(x, y, 0, alpha=0.3, color='b')\n",
    "    ax.fill_between(x_all, y2, 0, alpha=0.1)\n",
    "    ax.set_xlim([-4, 4])\n",
    "    ax.set_xlabel('# of Standard Deviations Outside the Mean')\n",
    "    ax.set_yticklabels([])\n",
    "    ax.set_title('Normal Gaussian Curve')\n",
    "    plt.show()"
   ]
  },
  {
   "cell_type": "code",
   "execution_count": 4,
   "metadata": {},
   "outputs": [
    {
     "data": {
      "image/png": "[encoded data removed]",
      "text/plain": [
       "<Figure size 648x432 with 1 Axes>"
      ]
     },
     "metadata": {
      "needs_background": "light"
     },
     "output_type": "display_data"
    }
   ],
   "source": [
    "\n",
    "# Define constants\n",
    "mu = 998.8 \n",
    "sigma = 73.10\n",
    "x1 = 900\n",
    "x2 = 1100\n",
    "plot_bell_curve(mu, sigma, x1, x2)"
   ]
  },
  {
   "cell_type": "markdown",
   "metadata": {},
   "source": [
    "\n",
    "----"
   ]
  },
  {
   "cell_type": "code",
   "execution_count": 1,
   "metadata": {},
   "outputs": [
    {
     "name": "stdout",
     "output_type": "stream",
     "text": [
      "C:\\ProgramData\\Anaconda3\\python.exe -m pip install --upgrade opencv-python\n",
      "Requirement already up-to-date: opencv-python in c:\\programdata\\anaconda3\\lib\\site-packages (4.3.0.36)\n",
      "Requirement already satisfied, skipping upgrade: numpy>=1.14.5 in c:\\programdata\\anaconda3\\lib\\site-packages (from opencv-python) (1.18.5)\n"
     ]
    }
   ],
   "source": [
    "\n",
    "import sys\n",
    "\n",
    "command_str = '{sys.executable} -m pip install --upgrade opencv-python'.format(sys=sys)\n",
    "print(command_str)\n",
    "!{command_str}"
   ]
  },
  {
   "cell_type": "code",
   "execution_count": 20,
   "metadata": {},
   "outputs": [
    {
     "data": {
      "text/plain": [
       "['Image.Callable', 'Image.DecompressionBombError', 'Image.DecompressionBombWarning', 'Image.Exif', 'Image.Image', 'Image.ImageMode', 'Image.ImagePointHandler', 'Image.ImageTransformHandler', 'Image.MutableMapping', 'Image.Path', 'Image.TiffTags', 'Image.UnidentifiedImageError', 'Image.alpha_composite', 'Image.atexit', 'Image.blend', 'Image.builtins', 'Image.cffi', 'Image.coerce_e', 'Image.composite', 'Image.core', 'Image.deferred_error', 'Image.effect_mandelbrot', 'Image.effect_noise', 'Image.eval', 'Image.fromarray', 'Image.frombuffer', 'Image.frombytes', 'Image.fromqimage', 'Image.fromqpixmap', 'Image.fromstring', 'Image.getmodebandnames', 'Image.getmodebands', 'Image.getmodebase', 'Image.getmodetype', 'Image.i32le', 'Image.i8', 'Image.init', 'Image.io', 'Image.isImageType', 'Image.isPath', 'Image.linear_gradient', 'Image.logger', 'Image.logging', 'Image.math', 'Image.merge', 'Image.new', 'Image.numbers', 'Image.open', 'Image.os', 'Image.preinit', 'Image.radial_gradient', 'Image.register_decoder', 'Image.register_encoder', 'Image.register_extension', 'Image.register_extensions', 'Image.register_mime', 'Image.register_open', 'Image.register_save', 'Image.register_save_all', 'Image.registered_extensions', 'Image.struct', 'Image.sys', 'Image.tempfile', 'Image.warnings']"
      ]
     },
     "execution_count": 20,
     "metadata": {},
     "output_type": "execute_result"
    }
   ],
   "source": [
    "\n",
    "from PIL import Image\n",
    "\n",
    "[f'Image.{fn}' for fn in dir(Image) if not fn.startswith('_') and (fn.upper() != fn)]"
   ]
  },
  {
   "cell_type": "code",
   "execution_count": 33,
   "metadata": {},
   "outputs": [
    {
     "data": {
      "image/png": "[encoded data removed]",
      "text/plain": [
       "<PIL.Image.Image image mode=RGBA size=11x11 at 0x2858DD32848>"
      ]
     },
     "execution_count": 33,
     "metadata": {},
     "output_type": "execute_result"
    }
   ],
   "source": [
    "\n",
    "size_tuple = (width, height)\n",
    "Image.new(mode='RGBA', size=size_tuple, color=(255, 0, 0, 255))"
   ]
  },
  {
   "cell_type": "code",
   "execution_count": null,
   "metadata": {},
   "outputs": [],
   "source": []
  }
 ],
 "metadata": {
  "kernelspec": {
   "display_name": "Python 3",
   "language": "python",
   "name": "python3"
  },
  "language_info": {
   "codemirror_mode": {
    "name": "ipython",
    "version": 3
   },
   "file_extension": ".py",
   "mimetype": "text/x-python",
   "name": "python",
   "nbconvert_exporter": "python",
   "pygments_lexer": "ipython3",
   "version": "3.7.6"
  }
 },
 "nbformat": 4,
 "nbformat_minor": 4
}
