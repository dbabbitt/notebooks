{
 "cells": [
  {
   "cell_type": "code",
   "execution_count": null,
   "metadata": {},
   "outputs": [],
   "source": [
    "\n",
    "# http://dbpedia.org/page/Autauga_County%2C_Alabama"
   ]
  },
  {
   "cell_type": "code",
   "execution_count": 3,
   "metadata": {},
   "outputs": [],
   "source": [
    "\n",
    "import sys\n",
    "\n",
    "# Insert at 1, 0 is the script path (or '' in REPL)\n",
    "sys.path.insert(1, '../py')"
   ]
  },
  {
   "cell_type": "code",
   "execution_count": 2,
   "metadata": {},
   "outputs": [
    {
     "name": "stdout",
     "output_type": "stream",
     "text": [
      "D:\\Documents\\Repositories\\notebooks\\covid19\\ipynb\\WikiData Exploration.ipynb\n",
      "['s.attempt_to_pickle', 's.data_csv_folder', 's.data_folder', 's.encoding_type', 's.load_csv', 's.load_dataframes', 's.load_object', 's.save_dataframes', 's.saves_csv_folder', 's.saves_folder', 's.saves_pickle_folder', 's.store_objects']\n",
      "Pretty printing has been turned OFF\n"
     ]
    },
    {
     "data": {
      "text/plain": [
       "['Config', 'In', 'Out', 'RandomForestClassifier', 'SequenceMatcher', 'Storage', '_', '__', '___', '__builtin__', '__builtins__', '__doc__', '__loader__', '__name__', '__nonzero__', '__package__', '__spec__', '_dh', '_i', '_i1', '_i2', '_ih', '_ii', '_iii', '_oh', 'bs', 'check_4_doubles', 'check_for_typos', 'clear_output', 'conjunctify_list', 'copyfile', 'counties_df', 'csv', 'datetime', 'encoding', 'example_iterrows', 'exit', 'filepath_regex', 'get_classifier', 'get_column_descriptions', 'get_data_structs_dataframe', 'get_datastructure_prediction', 'get_dir_tree', 'get_git_lfs_track_commands', 'get_importances', 'get_input_sample', 'get_ipython', 'get_max_rsquared_adj', 'get_module_version', 'get_notebook_path', 'get_page_tables', 'get_specific_gitignore_files', 'get_struct_name', 'humanize_bytes', 'io', 'ipykernel', 'json', 'jupyter_config_dir', 'math', 'notebook_path', 'notebookapp', 'np', 'nx', 'os', 'pd', 'pearsonr', 'pickle', 'plt', 'preprocess_data', 'print_all_files_ending_starting_with', 'print_all_files_ending_with', 'print_all_files_starting_with', 'quit', 're', 'remove_empty_folders', 'request', 's', 'scraping_utils', 'similar', 'sm', 'sns', 'stats', 'subprocess', 'sys', 'time', 'timedelta', 'tqdm', 'unquote', 'url_regex', 'urllib', 'wikidata', 'wikipedia']"
      ]
     },
     "execution_count": 2,
     "metadata": {},
     "output_type": "execute_result"
    }
   ],
   "source": [
    "\n",
    "%run ../../load_magic/storage.py\n",
    "%run ../../load_magic/paths.py\n",
    "%run ../../load_magic/lists.py\n",
    "%run ../../load_magic/environment.py\n",
    "%run ../../load_magic/dataframes.py\n",
    "\n",
    "import scraping_utils\n",
    "wikipedia = scraping_utils.wikipedia\n",
    "\n",
    "from IPython.display import clear_output\n",
    "from bs4 import BeautifulSoup as bs\n",
    "from datetime import datetime, timedelta\n",
    "from matplotlib import pyplot as plt\n",
    "from scipy import stats\n",
    "from scipy.stats import pearsonr\n",
    "from tqdm import tqdm_notebook as tqdm\n",
    "from urllib import request\n",
    "from urllib.parse import unquote\n",
    "import networkx as nx\n",
    "import numpy as np\n",
    "import re\n",
    "import seaborn as sns\n",
    "import wikidata\n",
    "\n",
    "notebook_path = get_notebook_path()\n",
    "print(notebook_path)\n",
    "s = Storage()\n",
    "counties_df = s.load_object('counties_df')\n",
    "print(['s.{}'.format(fn) for fn in dir(s) if not fn.startswith('_')])\n",
    "\n",
    "%pprint\n",
    "dir()"
   ]
  },
  {
   "cell_type": "markdown",
   "metadata": {},
   "source": [
    "\n",
    "# Welcome[¶](#welcome \"Permalink to this headline\")\n",
    "\n",
    "[![Build Status](https://img.shields.io/travis/kensho-technologies/qwikidata.svg?style=flat)](https://travis-ci.org/kensho-technologies/qwikidata) [![Documentation Status](https://readthedocs.org/projects/qwikidata/badge/?version=latest)](https://qwikidata.readthedocs.io/en/latest/?badge=latest) [![License](https://img.shields.io/badge/License-Apache%202.0-blue.svg)](https://opensource.org/licenses/Apache-2.0) [![PyPI Python](https://img.shields.io/pypi/pyversions/qwikidata.svg)](https://pypi.python.org/pypi/qwikidata) [![PyPI Version](https://img.shields.io/pypi/v/qwikidata.svg)](https://pypi.python.org/pypi/qwikidata)\n",
    "\n",
    "<cite>qwikidata</cite> is a Python package with tools that allow you to interact with [Wikidata](https://www.wikidata.org/wiki/Wikidata:Main_Page).\n",
    "\n",
    "The package defines a set of classes that allow you to represent Wikidata entities in a Pythonic way. It also provides a Pythonic way to access three data sources,\n",
    "\n",
    "*   [linked data interface](https://www.wikidata.org/wiki/Wikidata:Data_access)\n",
    "*   [sparql query service](https://www.wikidata.org/wiki/Wikidata:SPARQL_query_service)\n",
    "*   [json dump](https://www.wikidata.org/wiki/Wikidata:Database_download)"
   ]
  },
  {
   "cell_type": "markdown",
   "metadata": {},
   "source": [
    "\n",
    "## Quick Install[¶](#quick-install \"Permalink to this headline\")"
   ]
  },
  {
   "cell_type": "markdown",
   "metadata": {},
   "source": [
    "\n",
    "### Requirements[¶](#requirements \"Permalink to this headline\")\n",
    "\n",
    "*   python >= 3.5"
   ]
  },
  {
   "cell_type": "markdown",
   "metadata": {},
   "source": [
    "\n",
    "### Install with pip[¶](#install-with-pip \"Permalink to this headline\")\n",
    "\n",
    "You can install the most recent version using pip,"
   ]
  },
  {
   "cell_type": "code",
   "execution_count": null,
   "metadata": {},
   "outputs": [],
   "source": [
    "\n",
    "import sys\n",
    "\n",
    "command_str = '{sys.executable} -m pip install --upgrade qwikidata'.format(sys=sys)\n",
    "print(command_str)\n",
    "#!{command_str}"
   ]
  },
  {
   "cell_type": "markdown",
   "metadata": {},
   "source": [
    "\n",
    "## Quick Examples[¶](#quick-examples \"Permalink to this headline\")"
   ]
  },
  {
   "cell_type": "markdown",
   "metadata": {},
   "source": [
    "\n",
    "### Linked Data Interface[¶](#linked-data-interface \"Permalink to this headline\")"
   ]
  },
  {
   "cell_type": "code",
   "execution_count": null,
   "metadata": {},
   "outputs": [],
   "source": [
    "\n",
    "from qwikidata.entity import WikidataItem, WikidataLexeme, WikidataProperty\n",
    "from qwikidata.linked_data_interface import get_entity_dict_from_api\n",
    "\n",
    "# create an item representing \"Douglas Adams\"\n",
    "Q_DOUGLAS_ADAMS = \"Q42\"\n",
    "q42_dict = get_entity_dict_from_api(Q_DOUGLAS_ADAMS)\n",
    "q42 = WikidataItem(q42_dict)\n",
    "\n",
    "# create a property representing \"subclass of\"\n",
    "P_SUBCLASS_OF = \"P279\"\n",
    "p279_dict = get_entity_dict_from_api(P_SUBCLASS_OF)\n",
    "p279 = WikidataProperty(p279_dict)\n",
    "\n",
    "# create a lexeme representing \"bank\"\n",
    "L_BANK = \"L3354\"\n",
    "l3354_dict = get_entity_dict_from_api(L_BANK)\n",
    "l3354 = WikidataLexeme(l3354_dict)"
   ]
  },
  {
   "cell_type": "markdown",
   "metadata": {},
   "source": [
    "\n",
    "### SPARQL Query Service[¶](#sparql-query-service \"Permalink to this headline\")"
   ]
  },
  {
   "cell_type": "code",
   "execution_count": null,
   "metadata": {},
   "outputs": [],
   "source": [
    "\n",
    "from qwikidata.sparql import (get_subclasses_of_item,\n",
    "                              return_sparql_query_results)\n",
    "\n",
    "# send any sparql query to the wikidata query service and get full result back\n",
    "# here we use an example that counts the number of humans\n",
    "sparql_query = \"\"\"\n",
    "SELECT (COUNT(?item) AS ?count)\n",
    "WHERE {\n",
    " ?item wdt:P31/wdt:P279* wd:Q5 .\n",
    "}\n",
    "\"\"\"\n",
    "res = return_sparql_query_results(sparql_query)\n",
    "\n",
    "# use convenience function to get subclasses of an item as a list of item ids\n",
    "Q_RIVER = \"Q4022\"\n",
    "subclasses_of_river = get_subclasses_of_item(Q_RIVER)"
   ]
  },
  {
   "cell_type": "markdown",
   "metadata": {},
   "source": [
    "\n",
    "### JSON Dump[¶](#json-dump \"Permalink to this headline\")"
   ]
  },
  {
   "cell_type": "code",
   "execution_count": 1,
   "metadata": {},
   "outputs": [
    {
     "ename": "ModuleNotFoundError",
     "evalue": "No module named 'qwikidata'",
     "output_type": "error",
     "traceback": [
      "\u001b[1;31m---------------------------------------------------------------------------\u001b[0m",
      "\u001b[1;31mModuleNotFoundError\u001b[0m                       Traceback (most recent call last)",
      "\u001b[1;32m<ipython-input-1-2abcf43cb5af>\u001b[0m in \u001b[0;36m<module>\u001b[1;34m\u001b[0m\n\u001b[0;32m      1\u001b[0m \u001b[1;32mimport\u001b[0m \u001b[0mtime\u001b[0m\u001b[1;33m\u001b[0m\u001b[1;33m\u001b[0m\u001b[0m\n\u001b[0;32m      2\u001b[0m \u001b[1;33m\u001b[0m\u001b[0m\n\u001b[1;32m----> 3\u001b[1;33m \u001b[1;32mfrom\u001b[0m \u001b[0mqwikidata\u001b[0m\u001b[1;33m.\u001b[0m\u001b[0mentity\u001b[0m \u001b[1;32mimport\u001b[0m \u001b[0mWikidataItem\u001b[0m\u001b[1;33m\u001b[0m\u001b[1;33m\u001b[0m\u001b[0m\n\u001b[0m\u001b[0;32m      4\u001b[0m \u001b[1;32mfrom\u001b[0m \u001b[0mqwikidata\u001b[0m\u001b[1;33m.\u001b[0m\u001b[0mjson_dump\u001b[0m \u001b[1;32mimport\u001b[0m \u001b[0mWikidataJsonDump\u001b[0m\u001b[1;33m\u001b[0m\u001b[1;33m\u001b[0m\u001b[0m\n\u001b[0;32m      5\u001b[0m \u001b[1;32mfrom\u001b[0m \u001b[0mqwikidata\u001b[0m\u001b[1;33m.\u001b[0m\u001b[0mutils\u001b[0m \u001b[1;32mimport\u001b[0m \u001b[0mdump_entities_to_json\u001b[0m\u001b[1;33m\u001b[0m\u001b[1;33m\u001b[0m\u001b[0m\n",
      "\u001b[1;31mModuleNotFoundError\u001b[0m: No module named 'qwikidata'"
     ]
    }
   ],
   "source": [
    "\n",
    "import time\n",
    "\n",
    "from qwikidata.entity import WikidataItem\n",
    "from qwikidata.json_dump import WikidataJsonDump\n",
    "from qwikidata.utils import dump_entities_to_json\n",
    "\n",
    "P_OCCUPATION = \"P106\"\n",
    "Q_POLITICIAN = \"Q82955\"\n",
    "\n",
    "def has_occupation_politician(item: WikidataItem, truthy: bool = True) -> bool:\n",
    "    \"\"\"Return True if the Wikidata Item has occupation politician.\"\"\"\n",
    "    if truthy:\n",
    "        claim_group = item.get_truthy_claim_group(P_OCCUPATION)\n",
    "    else:\n",
    "        claim_group = item.get_claim_group(P_OCCUPATION)\n",
    "\n",
    "    occupation_qids = [\n",
    "        claim.mainsnak.datavalue.value[\"id\"]\n",
    "        for claim in claim_group\n",
    "        if claim.mainsnak.snaktype == \"value\"\n",
    "    ]\n",
    "    return Q_POLITICIAN in occupation_qids\n",
    "\n",
    "# create an instance of WikidataJsonDump\n",
    "wjd_dump_path = \"wikidata-20190401-all.json.bz2\"\n",
    "wjd = WikidataJsonDump(wjd_dump_path)\n",
    "\n",
    "# create an iterable of WikidataItem representing politicians\n",
    "politicians = []\n",
    "t1 = time.time()\n",
    "for ii, entity_dict in enumerate(wjd):\n",
    "\n",
    "    if entity_dict[\"type\"] == \"item\":\n",
    "        entity = WikidataItem(entity_dict)\n",
    "        if has_occupation_politician(entity):\n",
    "            politicians.append(entity)\n",
    "\n",
    "    if ii % 1000 == 0:\n",
    "        t2 = time.time()\n",
    "        dt = t2 - t1\n",
    "        print(\n",
    "            \"found {} politicians among {} entities [entities/s: {:.2f}]\".format(\n",
    "                len(politicians), ii, ii / dt\n",
    "            )\n",
    "        )\n",
    "\n",
    "    if ii > 10000:\n",
    "        break\n",
    "\n",
    "# write the iterable of WikidataItem to disk as JSON\n",
    "out_fname = \"filtered_entities.json\"\n",
    "dump_entities_to_json(politicians, out_fname)\n",
    "wjd_filtered = WikidataJsonDump(out_fname)\n",
    "\n",
    "# load filtered entities and create instances of WikidataItem\n",
    "for ii, entity_dict in enumerate(wjd_filtered):\n",
    "    item = WikidataItem(entity_dict)"
   ]
  },
  {
   "cell_type": "markdown",
   "metadata": {},
   "source": [
    "\n",
    "## License[¶](#license \"Permalink to this headline\")\n",
    "\n",
    "Licensed under the Apache 2.0 License. Unless required by applicable law or agreed to in writing, software distributed under the License is distributed on an “AS IS” BASIS, WITHOUT WARRANTIES OR CONDITIONS OF ANY KIND, either express or implied. See the License for the specific language governing permissions and limitations under the License."
   ]
  },
  {
   "cell_type": "markdown",
   "metadata": {},
   "source": [
    "\n",
    "## Copyright[¶](#copyright \"Permalink to this headline\")\n",
    "\n",
    "Copyright 2019 Kensho Technologies, LLC."
   ]
  },
  {
   "cell_type": "markdown",
   "metadata": {},
   "source": [
    "\n",
    "## Important Links[¶](#important-links \"Permalink to this headline\")"
   ]
  },
  {
   "cell_type": "markdown",
   "metadata": {},
   "source": [
    "\n",
    "[readthedocs](https://qwikidata.readthedocs.io/en/stable/readme.html) | [PyPI](https://pypi.org/project/qwikidata/) | [github](https://github.com/kensho-technologies/qwikidata/)"
   ]
  },
  {
   "cell_type": "markdown",
   "metadata": {},
   "source": [
    "\n",
    "----"
   ]
  },
  {
   "cell_type": "code",
   "execution_count": 396,
   "metadata": {},
   "outputs": [],
   "source": [
    "\n",
    "import pyperclip\n",
    "\n",
    "pyperclip.copy(str(tuple((v, k) for k, v in idx_dict.items())))"
   ]
  },
  {
   "cell_type": "code",
   "execution_count": null,
   "metadata": {},
   "outputs": [],
   "source": []
  }
 ],
 "metadata": {
  "kernelspec": {
   "display_name": "Python 3",
   "language": "python",
   "name": "python3"
  },
  "language_info": {
   "codemirror_mode": {
    "name": "ipython",
    "version": 3
   },
   "file_extension": ".py",
   "mimetype": "text/x-python",
   "name": "python",
   "nbconvert_exporter": "python",
   "pygments_lexer": "ipython3",
   "version": "3.7.7"
  }
 },
 "nbformat": 4,
 "nbformat_minor": 4
}
