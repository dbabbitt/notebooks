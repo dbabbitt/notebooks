{
 "cells": [
  {
   "cell_type": "markdown",
   "metadata": {},
   "source": [
    "\n",
    "So one way to visualize effectiveness of shut downs is to compare how quickly States shut down to the total number of currently expected deaths, normalized to population size of course."
   ]
  },
  {
   "cell_type": "code",
   "execution_count": 1,
   "metadata": {},
   "outputs": [],
   "source": [
    "\n",
    "# https://medium.com/@yinonweiss/lets-visualize-state-by-state-shutdown-effectiveness-on-covid-19-e13a5cdb50ad"
   ]
  },
  {
   "cell_type": "code",
   "execution_count": 2,
   "metadata": {},
   "outputs": [],
   "source": [
    "\n",
    "import sys\n",
    "\n",
    "# Insert at 1, 0 is the script path (or '' in REPL)\n",
    "sys.path.insert(1, '../py')"
   ]
  },
  {
   "cell_type": "code",
   "execution_count": 3,
   "metadata": {},
   "outputs": [
    {
     "name": "stdout",
     "output_type": "stream",
     "text": [
      "Pretty printing has been turned OFF\n",
      "D:\\Documents\\Repositories\\notebooks\\covid19\\ipynb\\Speed-to-shut-down Exploration.ipynb\n",
      "['s.attempt_to_pickle', 's.data_csv_folder', 's.data_folder', 's.encoding_type', 's.load_csv', 's.load_dataframes', 's.load_object', 's.save_dataframes', 's.saves_csv_folder', 's.saves_folder', 's.saves_pickle_folder', 's.store_objects']\n"
     ]
    },
    {
     "data": {
      "text/plain": [
       "['Config', 'In', 'Out', 'RandomForestClassifier', 'SequenceMatcher', 'Storage', '_', '__', '___', '__builtin__', '__builtins__', '__doc__', '__loader__', '__name__', '__nonzero__', '__package__', '__spec__', '__warningregistry__', '_dh', '_i', '_i1', '_i2', '_i3', '_ih', '_ii', '_iii', '_oh', 'bs', 'check_4_doubles', 'check_for_typos', 'conjunctify_list', 'copyfile', 'csv', 'encoding', 'example_iterrows', 'exit', 'filepath_regex', 'get_classifier', 'get_column_descriptions', 'get_data_structs_dataframe', 'get_datastructure_prediction', 'get_dir_tree', 'get_git_lfs_track_commands', 'get_importances', 'get_input_sample', 'get_ipython', 'get_max_rsquared_adj', 'get_module_version', 'get_notebook_path', 'get_page_tables', 'get_specific_gitignore_files', 'get_struct_name', 'humanize_bytes', 'io', 'ipykernel', 'json', 'jupyter_config_dir', 'math', 'notebook_path', 'notebookapp', 'nx', 'os', 'pd', 'pickle', 'plt', 'preprocess_data', 'print_all_files_ending_starting_with', 'print_all_files_ending_with', 'print_all_files_starting_with', 'quit', 're', 'remove_empty_folders', 's', 'scraping_utils', 'similar', 'sm', 'sns', 'stats', 'subprocess', 'sys', 'time', 'url_regex', 'urllib', 'wikipedia']"
      ]
     },
     "execution_count": 3,
     "metadata": {},
     "output_type": "execute_result"
    }
   ],
   "source": [
    "\n",
    "%pprint\n",
    "%run ../../load_magic/storage.py\n",
    "%run ../../load_magic/paths.py\n",
    "%run ../../load_magic/lists.py\n",
    "%run ../../load_magic/environment.py\n",
    "%run ../../load_magic/dataframes.py\n",
    "\n",
    "import scraping_utils\n",
    "wikipedia = scraping_utils.wikipedia\n",
    "\n",
    "from bs4 import BeautifulSoup as bs\n",
    "import networkx as nx\n",
    "import re\n",
    "import urllib.request\n",
    "\n",
    "notebook_path = get_notebook_path()\n",
    "print(notebook_path)\n",
    "s = Storage()\n",
    "#pandemic_df = s.load_object('pandemic_df')\n",
    "print(['s.{}'.format(fn) for fn in dir(s) if not fn.startswith('_')])\n",
    "\n",
    "dir()"
   ]
  },
  {
   "cell_type": "code",
   "execution_count": null,
   "metadata": {},
   "outputs": [],
   "source": [
    "\n",
    "!start %windir%\\explorer.exe \"{os.path.abspath(os.path.dirname(notebook_path))}\""
   ]
  },
  {
   "cell_type": "markdown",
   "metadata": {},
   "source": [
    "\n",
    "---\n",
    "# Load the Data"
   ]
  },
  {
   "cell_type": "code",
   "execution_count": 155,
   "metadata": {},
   "outputs": [
    {
     "data": {
      "text/html": [
       "<div>\n",
       "<style scoped>\n",
       "    .dataframe tbody tr th:only-of-type {\n",
       "        vertical-align: middle;\n",
       "    }\n",
       "\n",
       "    .dataframe tbody tr th {\n",
       "        vertical-align: top;\n",
       "    }\n",
       "\n",
       "    .dataframe thead th {\n",
       "        text-align: right;\n",
       "    }\n",
       "</style>\n",
       "<table border=\"1\" class=\"dataframe\">\n",
       "  <thead>\n",
       "    <tr style=\"text-align: right;\">\n",
       "      <th></th>\n",
       "      <th>Census_Population_2010</th>\n",
       "      <th>Land_Area_sq_km</th>\n",
       "      <th>Date_Lockdown_Enacted</th>\n",
       "    </tr>\n",
       "  </thead>\n",
       "  <tbody>\n",
       "    <tr>\n",
       "      <th>Delaware</th>\n",
       "      <td>897934</td>\n",
       "      <td>5047</td>\n",
       "      <td>2020-03-24</td>\n",
       "    </tr>\n",
       "    <tr>\n",
       "      <th>New Jersey</th>\n",
       "      <td>8791894</td>\n",
       "      <td>19047</td>\n",
       "      <td>2020-03-21</td>\n",
       "    </tr>\n",
       "    <tr>\n",
       "      <th>Mississippi</th>\n",
       "      <td>2967297</td>\n",
       "      <td>121531</td>\n",
       "      <td>2020-04-03</td>\n",
       "    </tr>\n",
       "    <tr>\n",
       "      <th>Illinois</th>\n",
       "      <td>12830632</td>\n",
       "      <td>143793</td>\n",
       "      <td>2020-03-21</td>\n",
       "    </tr>\n",
       "    <tr>\n",
       "      <th>South Carolina</th>\n",
       "      <td>4625364</td>\n",
       "      <td>77857</td>\n",
       "      <td>2020-04-07</td>\n",
       "    </tr>\n",
       "  </tbody>\n",
       "</table>\n",
       "</div>"
      ],
      "text/plain": [
       "                Census_Population_2010  Land_Area_sq_km Date_Lockdown_Enacted\n",
       "Delaware                        897934             5047            2020-03-24\n",
       "New Jersey                     8791894            19047            2020-03-21\n",
       "Mississippi                    2967297           121531            2020-04-03\n",
       "Illinois                      12830632           143793            2020-03-21\n",
       "South Carolina                 4625364            77857            2020-04-07"
      ]
     },
     "execution_count": 155,
     "metadata": {},
     "output_type": "execute_result"
    }
   ],
   "source": [
    "\n",
    "states_stats_df = s.load_object('states_stats_df')\n",
    "columns_list = ['Census_Population_2010', 'Land_Area_sq_km', 'Date_Lockdown_Enacted']\n",
    "states_stats_df[columns_list].sample(5)"
   ]
  },
  {
   "cell_type": "code",
   "execution_count": 6,
   "metadata": {},
   "outputs": [
    {
     "data": {
      "text/html": [
       "<div>\n",
       "<style scoped>\n",
       "    .dataframe tbody tr th:only-of-type {\n",
       "        vertical-align: middle;\n",
       "    }\n",
       "\n",
       "    .dataframe tbody tr th {\n",
       "        vertical-align: top;\n",
       "    }\n",
       "\n",
       "    .dataframe thead th {\n",
       "        text-align: right;\n",
       "    }\n",
       "</style>\n",
       "<table border=\"1\" class=\"dataframe\">\n",
       "  <thead>\n",
       "    <tr style=\"text-align: right;\">\n",
       "      <th></th>\n",
       "      <th>Confirmed_Cumulative</th>\n",
       "      <th>Deaths_Cumulative</th>\n",
       "      <th>Recovered_Cumulative</th>\n",
       "      <th>Hospitalized_Cumulative</th>\n",
       "    </tr>\n",
       "    <tr>\n",
       "      <th>State_Name</th>\n",
       "      <th></th>\n",
       "      <th></th>\n",
       "      <th></th>\n",
       "      <th></th>\n",
       "    </tr>\n",
       "  </thead>\n",
       "  <tbody>\n",
       "    <tr>\n",
       "      <th>Delaware</th>\n",
       "      <td>2323</td>\n",
       "      <td>61</td>\n",
       "      <td>423</td>\n",
       "      <td>224</td>\n",
       "    </tr>\n",
       "    <tr>\n",
       "      <th>Maine</th>\n",
       "      <td>633</td>\n",
       "      <td>19</td>\n",
       "      <td>266</td>\n",
       "      <td>120</td>\n",
       "    </tr>\n",
       "    <tr>\n",
       "      <th>Washington</th>\n",
       "      <td>10224</td>\n",
       "      <td>491</td>\n",
       "      <td>0</td>\n",
       "      <td>4668</td>\n",
       "    </tr>\n",
       "    <tr>\n",
       "      <th>Virgin Islands</th>\n",
       "      <td>51</td>\n",
       "      <td>1</td>\n",
       "      <td>43</td>\n",
       "      <td>0</td>\n",
       "    </tr>\n",
       "    <tr>\n",
       "      <th>Wyoming</th>\n",
       "      <td>287</td>\n",
       "      <td>2</td>\n",
       "      <td>164</td>\n",
       "      <td>0</td>\n",
       "    </tr>\n",
       "  </tbody>\n",
       "</table>\n",
       "</div>"
      ],
      "text/plain": [
       "                Confirmed_Cumulative  Deaths_Cumulative  Recovered_Cumulative  \\\n",
       "State_Name                                                                      \n",
       "Delaware                        2323                 61                   423   \n",
       "Maine                            633                 19                   266   \n",
       "Washington                     10224                491                     0   \n",
       "Virgin Islands                    51                  1                    43   \n",
       "Wyoming                          287                  2                   164   \n",
       "\n",
       "                Hospitalized_Cumulative  \n",
       "State_Name                               \n",
       "Delaware                            224  \n",
       "Maine                               120  \n",
       "Washington                         4668  \n",
       "Virgin Islands                        0  \n",
       "Wyoming                               0  "
      ]
     },
     "execution_count": 6,
     "metadata": {},
     "output_type": "execute_result"
    }
   ],
   "source": [
    "\n",
    "states_current_numbers_df = s.load_object('states_current_numbers_df')\n",
    "states_current_numbers_df.sample(5)"
   ]
  },
  {
   "cell_type": "code",
   "execution_count": 8,
   "metadata": {},
   "outputs": [
    {
     "data": {
      "text/html": [
       "<div>\n",
       "<style scoped>\n",
       "    .dataframe tbody tr th:only-of-type {\n",
       "        vertical-align: middle;\n",
       "    }\n",
       "\n",
       "    .dataframe tbody tr th {\n",
       "        vertical-align: top;\n",
       "    }\n",
       "\n",
       "    .dataframe thead th {\n",
       "        text-align: right;\n",
       "    }\n",
       "</style>\n",
       "<table border=\"1\" class=\"dataframe\">\n",
       "  <thead>\n",
       "    <tr style=\"text-align: right;\">\n",
       "      <th></th>\n",
       "      <th>Date</th>\n",
       "      <th>Confirmed_New</th>\n",
       "      <th>Confirmed_Cumulative</th>\n",
       "      <th>Deaths_New</th>\n",
       "      <th>Deaths_Cumulative</th>\n",
       "    </tr>\n",
       "  </thead>\n",
       "  <tbody>\n",
       "    <tr>\n",
       "      <th>57</th>\n",
       "      <td>2020-04-12</td>\n",
       "      <td>28057.0</td>\n",
       "      <td>553493</td>\n",
       "      <td>1493.0</td>\n",
       "      <td>21936.0</td>\n",
       "    </tr>\n",
       "    <tr>\n",
       "      <th>58</th>\n",
       "      <td>2020-04-13</td>\n",
       "      <td>24685.0</td>\n",
       "      <td>578178</td>\n",
       "      <td>1462.0</td>\n",
       "      <td>23398.0</td>\n",
       "    </tr>\n",
       "    <tr>\n",
       "      <th>59</th>\n",
       "      <td>2020-04-14</td>\n",
       "      <td>25987.0</td>\n",
       "      <td>604165</td>\n",
       "      <td>2378.0</td>\n",
       "      <td>25776.0</td>\n",
       "    </tr>\n",
       "    <tr>\n",
       "      <th>60</th>\n",
       "      <td>2020-04-15</td>\n",
       "      <td>29465.0</td>\n",
       "      <td>633630</td>\n",
       "      <td>2438.0</td>\n",
       "      <td>28214.0</td>\n",
       "    </tr>\n",
       "    <tr>\n",
       "      <th>61</th>\n",
       "      <td>2020-04-16</td>\n",
       "      <td>32076.0</td>\n",
       "      <td>665706</td>\n",
       "      <td>2141.0</td>\n",
       "      <td>30355.0</td>\n",
       "    </tr>\n",
       "  </tbody>\n",
       "</table>\n",
       "</div>"
      ],
      "text/plain": [
       "         Date  Confirmed_New  Confirmed_Cumulative  Deaths_New  \\\n",
       "57 2020-04-12        28057.0                553493      1493.0   \n",
       "58 2020-04-13        24685.0                578178      1462.0   \n",
       "59 2020-04-14        25987.0                604165      2378.0   \n",
       "60 2020-04-15        29465.0                633630      2438.0   \n",
       "61 2020-04-16        32076.0                665706      2141.0   \n",
       "\n",
       "    Deaths_Cumulative  \n",
       "57            21936.0  \n",
       "58            23398.0  \n",
       "59            25776.0  \n",
       "60            28214.0  \n",
       "61            30355.0  "
      ]
     },
     "execution_count": 8,
     "metadata": {},
     "output_type": "execute_result"
    }
   ],
   "source": [
    "\n",
    "usa_df = s.load_object('usa_df')\n",
    "columns_list = ['Date', 'Confirmed_New', 'Confirmed_Cumulative', 'Deaths_New', 'Deaths_Cumulative']\n",
    "usa_df.tail(5)[columns_list]"
   ]
  },
  {
   "cell_type": "code",
   "execution_count": 10,
   "metadata": {},
   "outputs": [
    {
     "data": {
      "text/html": [
       "<div>\n",
       "<style scoped>\n",
       "    .dataframe tbody tr th:only-of-type {\n",
       "        vertical-align: middle;\n",
       "    }\n",
       "\n",
       "    .dataframe tbody tr th {\n",
       "        vertical-align: top;\n",
       "    }\n",
       "\n",
       "    .dataframe thead th {\n",
       "        text-align: right;\n",
       "    }\n",
       "</style>\n",
       "<table border=\"1\" class=\"dataframe\">\n",
       "  <thead>\n",
       "    <tr style=\"text-align: right;\">\n",
       "      <th></th>\n",
       "      <th>Date</th>\n",
       "      <th>Deaths_New</th>\n",
       "      <th>Deaths_Cumulative</th>\n",
       "    </tr>\n",
       "  </thead>\n",
       "  <tbody>\n",
       "    <tr>\n",
       "      <th>23</th>\n",
       "      <td>2020-03-24</td>\n",
       "      <td>162</td>\n",
       "      <td>681</td>\n",
       "    </tr>\n",
       "    <tr>\n",
       "      <th>8</th>\n",
       "      <td>2020-03-09</td>\n",
       "      <td>5</td>\n",
       "      <td>26</td>\n",
       "    </tr>\n",
       "    <tr>\n",
       "      <th>3</th>\n",
       "      <td>2020-03-03</td>\n",
       "      <td>3</td>\n",
       "      <td>9</td>\n",
       "    </tr>\n",
       "    <tr>\n",
       "      <th>14</th>\n",
       "      <td>2020-03-15</td>\n",
       "      <td>6</td>\n",
       "      <td>62</td>\n",
       "    </tr>\n",
       "    <tr>\n",
       "      <th>17</th>\n",
       "      <td>2020-03-18</td>\n",
       "      <td>26</td>\n",
       "      <td>123</td>\n",
       "    </tr>\n",
       "  </tbody>\n",
       "</table>\n",
       "</div>"
      ],
      "text/plain": [
       "         Date  Deaths_New  Deaths_Cumulative\n",
       "23 2020-03-24         162                681\n",
       "8  2020-03-09           5                 26\n",
       "3  2020-03-03           3                  9\n",
       "14 2020-03-15           6                 62\n",
       "17 2020-03-18          26                123"
      ]
     },
     "execution_count": 10,
     "metadata": {},
     "output_type": "execute_result"
    }
   ],
   "source": [
    "\n",
    "us_deaths_df = s.load_object('us_deaths_df')\n",
    "columns_list = ['Date', 'Deaths_New', 'Deaths_Cumulative']\n",
    "us_deaths_df[columns_list].sample(5)"
   ]
  },
  {
   "cell_type": "code",
   "execution_count": 58,
   "metadata": {},
   "outputs": [
    {
     "name": "stdout",
     "output_type": "stream",
     "text": [
      "Pickling to D:\\Documents\\Repositories\\notebooks\\covid19\\saves\\pickle\\us_states_df.pickle\n"
     ]
    },
    {
     "data": {
      "text/html": [
       "<div>\n",
       "<style scoped>\n",
       "    .dataframe tbody tr th:only-of-type {\n",
       "        vertical-align: middle;\n",
       "    }\n",
       "\n",
       "    .dataframe tbody tr th {\n",
       "        vertical-align: top;\n",
       "    }\n",
       "\n",
       "    .dataframe thead th {\n",
       "        text-align: right;\n",
       "    }\n",
       "</style>\n",
       "<table border=\"1\" class=\"dataframe\">\n",
       "  <thead>\n",
       "    <tr style=\"text-align: right;\">\n",
       "      <th></th>\n",
       "      <th>Date</th>\n",
       "      <th>State_Name</th>\n",
       "      <th>FIPS</th>\n",
       "      <th>Confirmed_Cumulative</th>\n",
       "      <th>Deaths_Cumulative</th>\n",
       "      <th>Deaths_Doubling</th>\n",
       "      <th>Confirmed_Doubling</th>\n",
       "      <th>State_Abbreviation</th>\n",
       "      <th>DD_Smoothed</th>\n",
       "    </tr>\n",
       "  </thead>\n",
       "  <tbody>\n",
       "    <tr>\n",
       "      <th>830</th>\n",
       "      <td>2020-03-26</td>\n",
       "      <td>Kansas</td>\n",
       "      <td>20</td>\n",
       "      <td>171</td>\n",
       "      <td>3</td>\n",
       "      <td>NaN</td>\n",
       "      <td>3.039184</td>\n",
       "      <td>KS</td>\n",
       "      <td>2.310491</td>\n",
       "    </tr>\n",
       "    <tr>\n",
       "      <th>2355</th>\n",
       "      <td>2020-04-15</td>\n",
       "      <td>Washington</td>\n",
       "      <td>53</td>\n",
       "      <td>10783</td>\n",
       "      <td>572</td>\n",
       "      <td>19.824009</td>\n",
       "      <td>83.979843</td>\n",
       "      <td>WA</td>\n",
       "      <td>19.996013</td>\n",
       "    </tr>\n",
       "    <tr>\n",
       "      <th>1682</th>\n",
       "      <td>2020-03-31</td>\n",
       "      <td>Ohio</td>\n",
       "      <td>39</td>\n",
       "      <td>2199</td>\n",
       "      <td>55</td>\n",
       "      <td>2.541540</td>\n",
       "      <td>5.730190</td>\n",
       "      <td>OH</td>\n",
       "      <td>3.157670</td>\n",
       "    </tr>\n",
       "    <tr>\n",
       "      <th>1702</th>\n",
       "      <td>2020-03-09</td>\n",
       "      <td>Oklahoma</td>\n",
       "      <td>40</td>\n",
       "      <td>1</td>\n",
       "      <td>0</td>\n",
       "      <td>NaN</td>\n",
       "      <td>NaN</td>\n",
       "      <td>OK</td>\n",
       "      <td>0.000000</td>\n",
       "    </tr>\n",
       "    <tr>\n",
       "      <th>2459</th>\n",
       "      <td>2020-04-16</td>\n",
       "      <td>Wisconsin</td>\n",
       "      <td>55</td>\n",
       "      <td>3875</td>\n",
       "      <td>197</td>\n",
       "      <td>10.503846</td>\n",
       "      <td>17.441203</td>\n",
       "      <td>WI</td>\n",
       "      <td>9.381707</td>\n",
       "    </tr>\n",
       "  </tbody>\n",
       "</table>\n",
       "</div>"
      ],
      "text/plain": [
       "            Date  State_Name  FIPS  Confirmed_Cumulative  Deaths_Cumulative  \\\n",
       "830   2020-03-26      Kansas    20                   171                  3   \n",
       "2355  2020-04-15  Washington    53                 10783                572   \n",
       "1682  2020-03-31        Ohio    39                  2199                 55   \n",
       "1702  2020-03-09    Oklahoma    40                     1                  0   \n",
       "2459  2020-04-16   Wisconsin    55                  3875                197   \n",
       "\n",
       "      Deaths_Doubling  Confirmed_Doubling State_Abbreviation  DD_Smoothed  \n",
       "830               NaN            3.039184                 KS     2.310491  \n",
       "2355        19.824009           83.979843                 WA    19.996013  \n",
       "1682         2.541540            5.730190                 OH     3.157670  \n",
       "1702              NaN                 NaN                 OK     0.000000  \n",
       "2459        10.503846           17.441203                 WI     9.381707  "
      ]
     },
     "execution_count": 58,
     "metadata": {},
     "output_type": "execute_result"
    }
   ],
   "source": [
    "\n",
    "us_states_df = s.load_object('nytimes_covid_19_data_us_states_df')\n",
    "us_states_df.dd_smoothed.fillna(value=0, inplace=True)\n",
    "us_states_df.columns = ['Date', 'State_Name', 'FIPS', 'Confirmed_Cumulative', 'Deaths_Cumulative', 'Deaths_Doubling', 'Confirmed_Doubling',\n",
    "                        'State_Abbreviation', 'DD_Smoothed']\n",
    "s.store_objects(us_states_df=us_states_df)\n",
    "us_states_df.sample(5)"
   ]
  },
  {
   "cell_type": "code",
   "execution_count": 61,
   "metadata": {},
   "outputs": [
    {
     "data": {
      "text/plain": [
       "False"
      ]
     },
     "execution_count": 61,
     "metadata": {},
     "output_type": "execute_result"
    }
   ],
   "source": [
    "\n",
    "'Deaths_Cumulative' in column_description_dict"
   ]
  },
  {
   "cell_type": "code",
   "execution_count": 62,
   "metadata": {},
   "outputs": [
    {
     "name": "stdout",
     "output_type": "stream",
     "text": [
      "Pickling to D:\\Documents\\Repositories\\notebooks\\covid19\\saves\\pickle\\column_description_dict.pickle\n"
     ]
    }
   ],
   "source": [
    "\n",
    "column_description_dict['Deaths_Cumulative'] = 'Cumulative Deaths'\n",
    "s.store_objects(column_description_dict=column_description_dict)"
   ]
  },
  {
   "cell_type": "code",
   "execution_count": 78,
   "metadata": {},
   "outputs": [],
   "source": [
    "\n",
    "state_abbreviation_dict = s.load_object('state_abbreviation_dict')\n",
    "def get_lockdown_today_correlation(column_name):\n",
    "    x_list = []\n",
    "    y_list = []\n",
    "    label_list = []\n",
    "    for state_name, row_series in states_stats_df.iterrows():\n",
    "        date_enacted = row_series.Date_Lockdown_Enacted\n",
    "        state_match_series = (us_states_df.State_Name == state_name)\n",
    "        mask_series = (us_states_df.Date == date_enacted) & state_match_series\n",
    "        df1 = us_states_df[mask_series]\n",
    "        date_max = us_states_df[state_match_series].Date.max()\n",
    "        mask_series = (us_states_df.Date == date_max) & state_match_series\n",
    "        df2 = us_states_df[mask_series]\n",
    "        if (df1.shape[0] > 0) and (df2.shape[0] > 0):\n",
    "            beginning_value = df1[column_name].squeeze()\n",
    "            ending_value = df2[column_name].squeeze()\n",
    "            if (beginning_value > 0) and (ending_value > 0):\n",
    "                x_list.append(beginning_value)\n",
    "                y_list.append(ending_value)\n",
    "                label_list.append(state_abbreviation_dict[state_name])\n",
    "    \n",
    "    return x_list, y_list, label_list"
   ]
  },
  {
   "cell_type": "code",
   "execution_count": 100,
   "metadata": {},
   "outputs": [],
   "source": [
    "\n",
    "state_abbreviation_dict = s.load_object('state_abbreviation_dict')\n",
    "def get_threshold_today_correlation(column_name):\n",
    "    x_list = []\n",
    "    y_list = []\n",
    "    label_list = []\n",
    "    for state_name, row_series in states_stats_df.iterrows():\n",
    "        \n",
    "        # Get enactment value\n",
    "        date_enacted = row_series.Date_Lockdown_Enacted\n",
    "        state_match_series = (us_states_df.State_Name == state_name)\n",
    "        mask_series = (us_states_df.Date == date_enacted) & state_match_series\n",
    "        df_enacted = us_states_df[mask_series]\n",
    "        \n",
    "        # Get today's value\n",
    "        date_max = us_states_df[state_match_series].Date.max()\n",
    "        mask_series = (us_states_df.Date == date_max) & state_match_series\n",
    "        df_max = us_states_df[mask_series]\n",
    "        \n",
    "        # Get the value when it reached a threshold\n",
    "        mask_series = (us_states_df[column_name] >= 100) & state_match_series\n",
    "        date_min = us_states_df[mask_series].Date.min()\n",
    "        mask_series = (us_states_df.Date == date_min) & state_match_series\n",
    "        df_min = us_states_df[mask_series]\n",
    "        \n",
    "        if (df_enacted.shape[0] > 0) and (df_max.shape[0] > 0) and (df_min.shape[0] > 0):\n",
    "            enactment_value = df_enacted[column_name].squeeze()\n",
    "            now_value = df_max[column_name].squeeze()\n",
    "            threshold_value = df_min[column_name].squeeze()\n",
    "            if (now_value > 0) and (enactment_value > 0):\n",
    "                x_list.append(enactment_value - threshold_value)\n",
    "                y_list.append(now_value)\n",
    "                label_list.append(state_abbreviation_dict[state_name])\n",
    "    \n",
    "    return x_list, y_list, label_list"
   ]
  },
  {
   "cell_type": "code",
   "execution_count": 146,
   "metadata": {},
   "outputs": [],
   "source": [
    "\n",
    "state_abbreviation_dict = s.load_object('state_abbreviation_dict')\n",
    "def get_threshold_density_correlation(column_name):\n",
    "    x_list = []\n",
    "    y_list = []\n",
    "    label_list = []\n",
    "    for state_name, row_series in states_stats_df.iterrows():\n",
    "        \n",
    "        # Get population density\n",
    "        state_match_series = (states_stats_df.index == state_name)\n",
    "        population = states_stats_df[state_match_series].Census_Population_2010.squeeze()\n",
    "        area = states_stats_df[state_match_series].Land_Area_sq_km.squeeze()\n",
    "        population_density = population/area\n",
    "        \n",
    "        # Get enactment value\n",
    "        date_enacted = row_series.Date_Lockdown_Enacted\n",
    "        state_match_series = (us_states_df.State_Name == state_name)\n",
    "        mask_series = (us_states_df.Date == date_enacted) & state_match_series\n",
    "        df_enacted = us_states_df[mask_series]\n",
    "        \n",
    "        # Get today's value\n",
    "        date_max = us_states_df[state_match_series].Date.max()\n",
    "        mask_series = (us_states_df.Date == date_max) & state_match_series\n",
    "        df_max = us_states_df[mask_series]\n",
    "        \n",
    "        # Get the value when it reached a threshold\n",
    "        mask_series = (us_states_df[column_name] >= 100) & state_match_series\n",
    "        date_min = us_states_df[mask_series].Date.min()\n",
    "        mask_series = (us_states_df.Date == date_min) & state_match_series\n",
    "        df_min = us_states_df[mask_series]\n",
    "        \n",
    "        if (df_enacted.shape[0] > 0) and (df_max.shape[0] > 0) and (df_min.shape[0] > 0):\n",
    "            enactment_value = df_enacted[column_name].squeeze()\n",
    "            now_value = df_max[column_name].squeeze()\n",
    "            threshold_value = df_min[column_name].squeeze()\n",
    "            if (now_value > 0) and (enactment_value > 0):\n",
    "                x_list.append((enactment_value - threshold_value)/population_density)\n",
    "                y_list.append(now_value/population_density)\n",
    "                label_list.append(state_abbreviation_dict[state_name])\n",
    "    \n",
    "    return x_list, y_list, label_list"
   ]
  },
  {
   "cell_type": "code",
   "execution_count": 51,
   "metadata": {},
   "outputs": [],
   "source": [
    "\n",
    "column_description_dict = s.load_object('column_description_dict')\n",
    "def get_column_description(column_name):\n",
    "    if column_name in column_description_dict:\n",
    "        column_description = column_description_dict[column_name]\n",
    "    else:\n",
    "        column_description = re.sub('^pf_', 'Personal Freedom:_', str(column_name), 1)\n",
    "        column_description = re.sub('^hf_', 'Human Freedom:_', str(column_description), 1)\n",
    "        column_description = re.sub('^ef_', 'Economic Freedom:_', str(column_description), 1)\n",
    "        column_list = column_description.split('_')\n",
    "        descr_list = []\n",
    "        for word in column_list:\n",
    "            descr_list.append(word[0].upper()+word[1:])\n",
    "        column_description = ' '.join(descr_list)\n",
    "        column_description_dict[column_name] = column_description\n",
    "        s.store_objects(column_description_dict=column_description_dict)\n",
    "    \n",
    "    return column_description"
   ]
  },
  {
   "cell_type": "code",
   "execution_count": 151,
   "metadata": {},
   "outputs": [],
   "source": [
    "\n",
    "import seaborn as sns\n",
    "import numpy as np\n",
    "\n",
    "def show_x_y_labels(column_name, x_y_label_function, xlabel_suffix=' at time of Lockdown', ylabel_suffix=' Today'):\n",
    "    fig = plt.figure(figsize=(18, 8))\n",
    "    ax = fig.add_subplot(111, autoscale_on=True)\n",
    "    Text_obj = ax.set_xlabel('{}{}'.format(column_description_dict[column_name], xlabel_suffix))\n",
    "    Text_obj = ax.set_ylabel('{}{}'.format(column_description_dict[column_name], ylabel_suffix))\n",
    "    x_list, y_list, label_list = x_y_label_function(column_name)\n",
    "    kwargs = dict(textcoords='offset points', ha='left', va='bottom',\n",
    "                  bbox=dict(boxstyle='round,pad=0.25', alpha=0.5), fontsize='x-small')\n",
    "    scatter_kws = dict(alpha=0.0)\n",
    "    for state_name, x, y in zip(label_list, x_list, y_list):\n",
    "        annotation = ax.annotate('{}'.format(state_name), xy=(x, y), xytext=(-5, -8), **kwargs)\n",
    "    AxesSubplot_obj = sns.regplot(x_list, y_list, scatter_kws=scatter_kws, ax=ax)\n",
    "    fig.suptitle(t='\"I will strew your flesh upon the mountains and fill the valleys with your carcass\" Ezekiel 32:5', x=0.5, y=0.91)"
   ]
  },
  {
   "cell_type": "code",
   "execution_count": 152,
   "metadata": {},
   "outputs": [
    {
     "data": {
      "image/png": "[encoded data removed]",
      "text/plain": [
       "<Figure size 1296x576 with 1 Axes>"
      ]
     },
     "metadata": {
      "needs_background": "light"
     },
     "output_type": "display_data"
    }
   ],
   "source": [
    "\n",
    "show_x_y_labels('Deaths_Cumulative', get_threshold_density_correlation,\n",
    "                ' over 100 at Enactment (per Population Density)', ' Today (per Population Density)')"
   ]
  },
  {
   "cell_type": "code",
   "execution_count": 101,
   "metadata": {},
   "outputs": [
    {
     "data": {
      "image/png": "[encoded data removed]",
      "text/plain": [
       "<Figure size 1296x576 with 1 Axes>"
      ]
     },
     "metadata": {
      "needs_background": "light"
     },
     "output_type": "display_data"
    }
   ],
   "source": [
    "\n",
    "show_x_y_labels('Deaths_Cumulative', get_threshold_today_correlation, ' over 100 at Enactment')"
   ]
  },
  {
   "cell_type": "code",
   "execution_count": 76,
   "metadata": {},
   "outputs": [
    {
     "data": {
      "image/png": "[encoded data removed]",
      "text/plain": [
       "<Figure size 1296x576 with 1 Axes>"
      ]
     },
     "metadata": {
      "needs_background": "light"
     },
     "output_type": "display_data"
    }
   ],
   "source": [
    "\n",
    "show_x_y_labels('Deaths_Cumulative', get_lockdown_today_correlation)"
   ]
  },
  {
   "cell_type": "markdown",
   "metadata": {},
   "source": [
    "\n",
    "---\n",
    "# Scrape the Data"
   ]
  },
  {
   "cell_type": "code",
   "execution_count": null,
   "metadata": {},
   "outputs": [],
   "source": []
  }
 ],
 "metadata": {
  "kernelspec": {
   "display_name": "Python 3",
   "language": "python",
   "name": "python3"
  },
  "language_info": {
   "codemirror_mode": {
    "name": "ipython",
    "version": 3
   },
   "file_extension": ".py",
   "mimetype": "text/x-python",
   "name": "python",
   "nbconvert_exporter": "python",
   "pygments_lexer": "ipython3",
   "version": "3.7.7"
  }
 },
 "nbformat": 4,
 "nbformat_minor": 4
}
