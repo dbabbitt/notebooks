{
 "cells": [
  {
   "cell_type": "code",
   "execution_count": 4,
   "metadata": {},
   "outputs": [
    {
     "name": "stdout",
     "output_type": "stream",
     "text": [
      "Pretty printing has been turned OFF\n"
     ]
    }
   ],
   "source": [
    "\n",
    "%pprint"
   ]
  },
  {
   "cell_type": "code",
   "execution_count": 7,
   "metadata": {},
   "outputs": [
    {
     "name": "stdout",
     "output_type": "stream",
     "text": [
      "['s.attempt_to_pickle', 's.data_csv_folder', 's.data_folder', 's.encoding_type', 's.load_csv', 's.load_dataframes', 's.load_object', 's.save_dataframes', 's.saves_csv_folder', 's.saves_folder', 's.saves_pickle_folder', 's.store_objects']\n"
     ]
    },
    {
     "data": {
      "text/plain": [
       "['In', 'Out', 'Storage', '_', '_1', '_2', '_3', '_5', '_6', '__', '___', '__builtin__', '__builtins__', '__doc__', '__loader__', '__name__', '__nonzero__', '__package__', '__spec__', '_dh', '_i', '_i1', '_i2', '_i3', '_i4', '_i5', '_i6', '_i7', '_ih', '_ii', '_iii', '_oh', 'csv', 'example_iterrows', 'exit', 'filepath_regex', 'get_column_descriptions', 'get_ipython', 'get_max_rsquared_adj', 'get_page_tables', 'io', 'math', 'os', 'pd', 'pickle', 'plt', 'quit', 're', 's', 'sm', 'sns', 'states_stats_df', 'stats', 'sys', 'url_regex']"
      ]
     },
     "execution_count": 7,
     "metadata": {},
     "output_type": "execute_result"
    }
   ],
   "source": [
    "\n",
    "%run ../../load_magic/dataframes.py\n",
    "%run ../../load_magic/storage.py\n",
    "s = Storage()\n",
    "print(['s.{}'.format(fn) for fn in dir(s) if not fn.startswith('_')])\n",
    "dir()"
   ]
  },
  {
   "cell_type": "code",
   "execution_count": 5,
   "metadata": {},
   "outputs": [
    {
     "name": "stdout",
     "output_type": "stream",
     "text": [
      "['s.attempt_to_pickle', 's.data_csv_folder', 's.data_folder', 's.encoding_type', 's.load_csv', 's.load_dataframes', 's.load_object', 's.save_dataframes', 's.saves_csv_folder', 's.saves_folder', 's.saves_pickle_folder', 's.store_objects']\n",
      "Saving to D:\\Documents\\Repositories\\notebooks\\covid19\\saves\\csv\\states_stats_df.csv\n"
     ]
    },
    {
     "data": {
      "text/plain": [
       "['White_Percent', 'Black_Percent', 'Hispanic_Percent', 'Asian_Percent', 'Native_Percent', 'Islander_Percent', 'Multi_Percent', 'Gini_Index', 'Effectiveness_Rank', 'Health_Care_Score', 'Education_Score', 'Economy_Score', 'Infrastructure_Score', 'Opportunity_Score', 'Fiscal_Stability_Score', 'Crime_Corrections_Score', 'Natural_Environment_Score', 'district_abbreviation', 'GDP_Rank', 'GDP_2018', 'GDP_Percent', 'State_Region', 'Homicide_Rate_2018', 'Homicide_Rate_2017', 'Homicide_Rate_2014', 'Homicide_Rate_2010', 'Homicide_Rate_2005', 'Homicide_Rate_2000', 'Homicide_Rate_1996', 'Guns_Rank', 'Guns_Per_Capita', 'Guns_Registered', 'Suicide_Rate_2017', 'Suicide_Deaths_2017', 'Suicide_Rate_2016', 'Suicide_Deaths_2016', 'Suicide_Rate_2015', 'Suicide_Deaths_2015', 'Suicide_Rate_2014', 'Suicide_Deaths_2014', 'Suicide_Rate_2005', 'Suicide_Deaths_2005', 'Total_Inhabitants_2010', 'Inhabitants_Per_Square_Mile_2010', 'Total_Murder_Deaths_2010', 'Total_Gun_Murder_Deaths_2010', 'Gun_Ownership_Percent_2013', 'Murder_Rate_2010', 'Gun_Murder_Rate_2010', 'State_FIPS', 'State_Population', 'Gun_Suicide_Deaths', 'Gun_Suicide_Rate', 'Google_Suggest_Unique', 'text_x', 'text_y', 'label_line_d', 'Google_Suggest_Common', 'Google_Suggest_First', 'Public_Access_to_Information', 'Political_Financing', 'Electoral_Oversight', 'Executive_Accountability', 'Legislative_Accountability', 'Judicial_Accountability', 'State_Budget_Processes', 'State_Civil_Service_Management', 'Procurement', 'Internal_Auditing', 'Lobbying_Disclosure', 'Ethics_Enforcement_Entities', 'State_Pension_Fund_Management', 'outline_d', 'centroid_x', 'centroid_y', 'Date_Lockdown_Enacted', 'Rank_Current', 'Rank_2010', 'Census_Estimate_2019', 'Census_Population_2010', 'Change_Percent', 'Change_Absolute', 'House_Seats_Total', 'Population_Per_Electoral_Vote_2019', 'Population_Per_House_Seat_2019', 'Population_Per_House_Seat_2010', 'Percent_Total_2019', 'Total_Area_Rank', 'Total_Area_sq_mi', 'Total_Area_sq_km', 'Land_Area_Rank', 'Land_Area_sq_mi', 'Land_Area_sq_km', 'Land_Area_Percent', 'Water_Rank', 'Water_sq_mi', 'Water_sq_km', 'Water_Percent', 'State_Abbreviation']"
      ]
     },
     "execution_count": 5,
     "metadata": {},
     "output_type": "execute_result"
    }
   ],
   "source": [
    "\n",
    "states_stats_df = s.load_object('states_stats_df')\n",
    "s.save_dataframes(states_stats_df=states_stats_df)\n",
    "states_stats_df.columns.tolist()"
   ]
  },
  {
   "cell_type": "code",
   "execution_count": 12,
   "metadata": {},
   "outputs": [],
   "source": [
    "\n",
    "import numpy as np\n",
    "\n",
    "columns_list = ['Census_Bureau_Region_Number', 'Census_Bureau_Region_Name', 'Census_Bureau_Division_Number',\n",
    "                'Census_Bureau_Division_Name']\n",
    "for column_name in columns_list:\n",
    "    states_stats_df[column_name] = np.nan"
   ]
  },
  {
   "cell_type": "code",
   "execution_count": 13,
   "metadata": {},
   "outputs": [],
   "source": [
    "\n",
    "states_stats_df.loc['Connecticut', 'Census_Bureau_Region_Number'] = 1\n",
    "states_stats_df.loc['Connecticut', 'Census_Bureau_Region_Name'] = 'Northeast'\n",
    "states_stats_df.loc['Connecticut', 'Census_Bureau_Division_Number'] = 1\n",
    "states_stats_df.loc['Connecticut', 'Census_Bureau_Division_Name'] = 'New England'\n",
    "\n",
    "states_stats_df.loc['Maine', 'Census_Bureau_Region_Number'] = 1\n",
    "states_stats_df.loc['Maine', 'Census_Bureau_Region_Name'] = 'Northeast'\n",
    "states_stats_df.loc['Maine', 'Census_Bureau_Division_Number'] = 1\n",
    "states_stats_df.loc['Maine', 'Census_Bureau_Division_Name'] = 'New England'\n",
    "\n",
    "states_stats_df.loc['Massachusetts', 'Census_Bureau_Region_Number'] = 1\n",
    "states_stats_df.loc['Massachusetts', 'Census_Bureau_Region_Name'] = 'Northeast'\n",
    "states_stats_df.loc['Massachusetts', 'Census_Bureau_Division_Number'] = 1\n",
    "states_stats_df.loc['Massachusetts', 'Census_Bureau_Division_Name'] = 'New England'\n",
    "\n",
    "states_stats_df.loc['New Hampshire', 'Census_Bureau_Region_Number'] = 1\n",
    "states_stats_df.loc['New Hampshire', 'Census_Bureau_Region_Name'] = 'Northeast'\n",
    "states_stats_df.loc['New Hampshire', 'Census_Bureau_Division_Number'] = 1\n",
    "states_stats_df.loc['New Hampshire', 'Census_Bureau_Division_Name'] = 'New England'\n",
    "\n",
    "states_stats_df.loc['Rhode Island', 'Census_Bureau_Region_Number'] = 1\n",
    "states_stats_df.loc['Rhode Island', 'Census_Bureau_Region_Name'] = 'Northeast'\n",
    "states_stats_df.loc['Rhode Island', 'Census_Bureau_Division_Number'] = 1\n",
    "states_stats_df.loc['Rhode Island', 'Census_Bureau_Division_Name'] = 'New England'\n",
    "\n",
    "states_stats_df.loc['Vermont', 'Census_Bureau_Region_Number'] = 1\n",
    "states_stats_df.loc['Vermont', 'Census_Bureau_Region_Name'] = 'Northeast'\n",
    "states_stats_df.loc['Vermont', 'Census_Bureau_Division_Number'] = 1\n",
    "states_stats_df.loc['Vermont', 'Census_Bureau_Division_Name'] = 'New England'"
   ]
  },
  {
   "cell_type": "code",
   "execution_count": 16,
   "metadata": {},
   "outputs": [],
   "source": [
    "\n",
    "states_stats_df.loc['New Jersey', 'Census_Bureau_Region_Number'] = 1\n",
    "states_stats_df.loc['New Jersey', 'Census_Bureau_Region_Name'] = 'Northeast'\n",
    "states_stats_df.loc['New Jersey', 'Census_Bureau_Division_Number'] = 2\n",
    "states_stats_df.loc['New Jersey', 'Census_Bureau_Division_Name'] = 'Mid-Atlantic'\n",
    "\n",
    "states_stats_df.loc['New York', 'Census_Bureau_Region_Number'] = 1\n",
    "states_stats_df.loc['New York', 'Census_Bureau_Region_Name'] = 'Northeast'\n",
    "states_stats_df.loc['New York', 'Census_Bureau_Division_Number'] = 2\n",
    "states_stats_df.loc['New York', 'Census_Bureau_Division_Name'] = 'Mid-Atlantic'\n",
    "\n",
    "states_stats_df.loc['Pennsylvania', 'Census_Bureau_Region_Number'] = 1\n",
    "states_stats_df.loc['Pennsylvania', 'Census_Bureau_Region_Name'] = 'Northeast'\n",
    "states_stats_df.loc['Pennsylvania', 'Census_Bureau_Division_Number'] = 2\n",
    "states_stats_df.loc['Pennsylvania', 'Census_Bureau_Division_Name'] = 'Mid-Atlantic'"
   ]
  },
  {
   "cell_type": "code",
   "execution_count": 23,
   "metadata": {},
   "outputs": [],
   "source": [
    "\n",
    "states_stats_df.loc['Illinois', 'Census_Bureau_Region_Number'] = 2\n",
    "states_stats_df.loc['Illinois', 'Census_Bureau_Region_Name'] = 'Midwest'\n",
    "states_stats_df.loc['Illinois', 'Census_Bureau_Division_Number'] = 3\n",
    "states_stats_df.loc['Illinois', 'Census_Bureau_Division_Name'] = 'East North Central'\n",
    "\n",
    "states_stats_df.loc['Indiana', 'Census_Bureau_Region_Number'] = 2\n",
    "states_stats_df.loc['Indiana', 'Census_Bureau_Region_Name'] = 'Midwest'\n",
    "states_stats_df.loc['Indiana', 'Census_Bureau_Division_Number'] = 3\n",
    "states_stats_df.loc['Indiana', 'Census_Bureau_Division_Name'] = 'East North Central'\n",
    "\n",
    "states_stats_df.loc['Michigan', 'Census_Bureau_Region_Number'] = 2\n",
    "states_stats_df.loc['Michigan', 'Census_Bureau_Region_Name'] = 'Midwest'\n",
    "states_stats_df.loc['Michigan', 'Census_Bureau_Division_Number'] = 3\n",
    "states_stats_df.loc['Michigan', 'Census_Bureau_Division_Name'] = 'East North Central'\n",
    "\n",
    "states_stats_df.loc['Ohio', 'Census_Bureau_Region_Number'] = 2\n",
    "states_stats_df.loc['Ohio', 'Census_Bureau_Region_Name'] = 'Midwest'\n",
    "states_stats_df.loc['Ohio', 'Census_Bureau_Division_Number'] = 3\n",
    "states_stats_df.loc['Ohio', 'Census_Bureau_Division_Name'] = 'East North Central'\n",
    "\n",
    "states_stats_df.loc['Wisconsin', 'Census_Bureau_Region_Number'] = 2\n",
    "states_stats_df.loc['Wisconsin', 'Census_Bureau_Region_Name'] = 'Midwest'\n",
    "states_stats_df.loc['Wisconsin', 'Census_Bureau_Division_Number'] = 3\n",
    "states_stats_df.loc['Wisconsin', 'Census_Bureau_Division_Name'] = 'East North Central'"
   ]
  },
  {
   "cell_type": "code",
   "execution_count": 25,
   "metadata": {},
   "outputs": [],
   "source": [
    "\n",
    "states_stats_df.loc['Iowa', 'Census_Bureau_Region_Number'] = 2\n",
    "states_stats_df.loc['Iowa', 'Census_Bureau_Region_Name'] = 'Midwest'\n",
    "states_stats_df.loc['Iowa', 'Census_Bureau_Division_Number'] = 4\n",
    "states_stats_df.loc['Iowa', 'Census_Bureau_Division_Name'] = 'West North Central'\n",
    "\n",
    "states_stats_df.loc['Kansas', 'Census_Bureau_Region_Number'] = 2\n",
    "states_stats_df.loc['Kansas', 'Census_Bureau_Region_Name'] = 'Midwest'\n",
    "states_stats_df.loc['Kansas', 'Census_Bureau_Division_Number'] = 4\n",
    "states_stats_df.loc['Kansas', 'Census_Bureau_Division_Name'] = 'West North Central'\n",
    "\n",
    "states_stats_df.loc['Minnesota', 'Census_Bureau_Region_Number'] = 2\n",
    "states_stats_df.loc['Minnesota', 'Census_Bureau_Region_Name'] = 'Midwest'\n",
    "states_stats_df.loc['Minnesota', 'Census_Bureau_Division_Number'] = 4\n",
    "states_stats_df.loc['Minnesota', 'Census_Bureau_Division_Name'] = 'West North Central'\n",
    "\n",
    "states_stats_df.loc['Missouri', 'Census_Bureau_Region_Number'] = 2\n",
    "states_stats_df.loc['Missouri', 'Census_Bureau_Region_Name'] = 'Midwest'\n",
    "states_stats_df.loc['Missouri', 'Census_Bureau_Division_Number'] = 4\n",
    "states_stats_df.loc['Missouri', 'Census_Bureau_Division_Name'] = 'West North Central'\n",
    "\n",
    "states_stats_df.loc['Nebraska', 'Census_Bureau_Region_Number'] = 2\n",
    "states_stats_df.loc['Nebraska', 'Census_Bureau_Region_Name'] = 'Midwest'\n",
    "states_stats_df.loc['Nebraska', 'Census_Bureau_Division_Number'] = 4\n",
    "states_stats_df.loc['Nebraska', 'Census_Bureau_Division_Name'] = 'West North Central'\n",
    "\n",
    "states_stats_df.loc['North Dakota', 'Census_Bureau_Region_Number'] = 2\n",
    "states_stats_df.loc['North Dakota', 'Census_Bureau_Region_Name'] = 'Midwest'\n",
    "states_stats_df.loc['North Dakota', 'Census_Bureau_Division_Number'] = 4\n",
    "states_stats_df.loc['North Dakota', 'Census_Bureau_Division_Name'] = 'West North Central'\n",
    "\n",
    "states_stats_df.loc['South Dakota', 'Census_Bureau_Region_Number'] = 2\n",
    "states_stats_df.loc['South Dakota', 'Census_Bureau_Region_Name'] = 'Midwest'\n",
    "states_stats_df.loc['South Dakota', 'Census_Bureau_Division_Number'] = 4\n",
    "states_stats_df.loc['South Dakota', 'Census_Bureau_Division_Name'] = 'West North Central'"
   ]
  },
  {
   "cell_type": "code",
   "execution_count": 27,
   "metadata": {},
   "outputs": [],
   "source": [
    "\n",
    "states_stats_df.loc['Delaware', 'Census_Bureau_Region_Number'] = 3\n",
    "states_stats_df.loc['Delaware', 'Census_Bureau_Region_Name'] = 'South'\n",
    "states_stats_df.loc['Delaware', 'Census_Bureau_Division_Number'] = 5\n",
    "states_stats_df.loc['Delaware', 'Census_Bureau_Division_Name'] = 'South Atlantic'\n",
    "\n",
    "states_stats_df.loc['Florida', 'Census_Bureau_Region_Number'] = 3\n",
    "states_stats_df.loc['Florida', 'Census_Bureau_Region_Name'] = 'South'\n",
    "states_stats_df.loc['Florida', 'Census_Bureau_Division_Number'] = 5\n",
    "states_stats_df.loc['Florida', 'Census_Bureau_Division_Name'] = 'South Atlantic'\n",
    "\n",
    "states_stats_df.loc['Georgia', 'Census_Bureau_Region_Number'] = 3\n",
    "states_stats_df.loc['Georgia', 'Census_Bureau_Region_Name'] = 'South'\n",
    "states_stats_df.loc['Georgia', 'Census_Bureau_Division_Number'] = 5\n",
    "states_stats_df.loc['Georgia', 'Census_Bureau_Division_Name'] = 'South Atlantic'\n",
    "\n",
    "states_stats_df.loc['Maryland', 'Census_Bureau_Region_Number'] = 3\n",
    "states_stats_df.loc['Maryland', 'Census_Bureau_Region_Name'] = 'South'\n",
    "states_stats_df.loc['Maryland', 'Census_Bureau_Division_Number'] = 5\n",
    "states_stats_df.loc['Maryland', 'Census_Bureau_Division_Name'] = 'South Atlantic'\n",
    "\n",
    "states_stats_df.loc['North Carolina', 'Census_Bureau_Region_Number'] = 3\n",
    "states_stats_df.loc['North Carolina', 'Census_Bureau_Region_Name'] = 'South'\n",
    "states_stats_df.loc['North Carolina', 'Census_Bureau_Division_Number'] = 5\n",
    "states_stats_df.loc['North Carolina', 'Census_Bureau_Division_Name'] = 'South Atlantic'\n",
    "\n",
    "states_stats_df.loc['South Carolina', 'Census_Bureau_Region_Number'] = 3\n",
    "states_stats_df.loc['South Carolina', 'Census_Bureau_Region_Name'] = 'South'\n",
    "states_stats_df.loc['South Carolina', 'Census_Bureau_Division_Number'] = 5\n",
    "states_stats_df.loc['South Carolina', 'Census_Bureau_Division_Name'] = 'South Atlantic'\n",
    "\n",
    "states_stats_df.loc['Virginia', 'Census_Bureau_Region_Number'] = 3\n",
    "states_stats_df.loc['Virginia', 'Census_Bureau_Region_Name'] = 'South'\n",
    "states_stats_df.loc['Virginia', 'Census_Bureau_Division_Number'] = 5\n",
    "states_stats_df.loc['Virginia', 'Census_Bureau_Division_Name'] = 'South Atlantic'\n",
    "\n",
    "states_stats_df.loc['District of Columbia', 'Census_Bureau_Region_Number'] = 3\n",
    "states_stats_df.loc['District of Columbia', 'Census_Bureau_Region_Name'] = 'South'\n",
    "states_stats_df.loc['District of Columbia', 'Census_Bureau_Division_Number'] = 5\n",
    "states_stats_df.loc['District of Columbia', 'Census_Bureau_Division_Name'] = 'South Atlantic'\n",
    "\n",
    "states_stats_df.loc['West Virginia', 'Census_Bureau_Region_Number'] = 3\n",
    "states_stats_df.loc['West Virginia', 'Census_Bureau_Region_Name'] = 'South'\n",
    "states_stats_df.loc['West Virginia', 'Census_Bureau_Division_Number'] = 5\n",
    "states_stats_df.loc['West Virginia', 'Census_Bureau_Division_Name'] = 'South Atlantic'"
   ]
  },
  {
   "cell_type": "code",
   "execution_count": 29,
   "metadata": {},
   "outputs": [],
   "source": [
    "\n",
    "states_stats_df.loc['Alabama', 'Census_Bureau_Region_Number'] = 3\n",
    "states_stats_df.loc['Alabama', 'Census_Bureau_Region_Name'] = 'South'\n",
    "states_stats_df.loc['Alabama', 'Census_Bureau_Division_Number'] = 6\n",
    "states_stats_df.loc['Alabama', 'Census_Bureau_Division_Name'] = 'East South Central'\n",
    "\n",
    "states_stats_df.loc['Kentucky', 'Census_Bureau_Region_Number'] = 3\n",
    "states_stats_df.loc['Kentucky', 'Census_Bureau_Region_Name'] = 'South'\n",
    "states_stats_df.loc['Kentucky', 'Census_Bureau_Division_Number'] = 6\n",
    "states_stats_df.loc['Kentucky', 'Census_Bureau_Division_Name'] = 'East South Central'\n",
    "\n",
    "states_stats_df.loc['Mississippi', 'Census_Bureau_Region_Number'] = 3\n",
    "states_stats_df.loc['Mississippi', 'Census_Bureau_Region_Name'] = 'South'\n",
    "states_stats_df.loc['Mississippi', 'Census_Bureau_Division_Number'] = 6\n",
    "states_stats_df.loc['Mississippi', 'Census_Bureau_Division_Name'] = 'East South Central'\n",
    "\n",
    "states_stats_df.loc['Tennessee', 'Census_Bureau_Region_Number'] = 3\n",
    "states_stats_df.loc['Tennessee', 'Census_Bureau_Region_Name'] = 'South'\n",
    "states_stats_df.loc['Tennessee', 'Census_Bureau_Division_Number'] = 6\n",
    "states_stats_df.loc['Tennessee', 'Census_Bureau_Division_Name'] = 'East South Central'"
   ]
  },
  {
   "cell_type": "code",
   "execution_count": 30,
   "metadata": {},
   "outputs": [],
   "source": [
    "\n",
    "states_stats_df.loc['Arkansas', 'Census_Bureau_Region_Number'] = 3\n",
    "states_stats_df.loc['Arkansas', 'Census_Bureau_Region_Name'] = 'South'\n",
    "states_stats_df.loc['Arkansas', 'Census_Bureau_Division_Number'] = 7\n",
    "states_stats_df.loc['Arkansas', 'Census_Bureau_Division_Name'] = 'West South Central'\n",
    "\n",
    "states_stats_df.loc['Louisiana', 'Census_Bureau_Region_Number'] = 3\n",
    "states_stats_df.loc['Louisiana', 'Census_Bureau_Region_Name'] = 'South'\n",
    "states_stats_df.loc['Louisiana', 'Census_Bureau_Division_Number'] = 7\n",
    "states_stats_df.loc['Louisiana', 'Census_Bureau_Division_Name'] = 'West South Central'\n",
    "\n",
    "states_stats_df.loc['Oklahoma', 'Census_Bureau_Region_Number'] = 3\n",
    "states_stats_df.loc['Oklahoma', 'Census_Bureau_Region_Name'] = 'South'\n",
    "states_stats_df.loc['Oklahoma', 'Census_Bureau_Division_Number'] = 7\n",
    "states_stats_df.loc['Oklahoma', 'Census_Bureau_Division_Name'] = 'West South Central'\n",
    "\n",
    "states_stats_df.loc['Texas', 'Census_Bureau_Region_Number'] = 3\n",
    "states_stats_df.loc['Texas', 'Census_Bureau_Region_Name'] = 'South'\n",
    "states_stats_df.loc['Texas', 'Census_Bureau_Division_Number'] = 7\n",
    "states_stats_df.loc['Texas', 'Census_Bureau_Division_Name'] = 'West South Central'"
   ]
  },
  {
   "cell_type": "code",
   "execution_count": 32,
   "metadata": {},
   "outputs": [],
   "source": [
    "\n",
    "states_stats_df.loc['Arizona', 'Census_Bureau_Region_Number'] = 4\n",
    "states_stats_df.loc['Arizona', 'Census_Bureau_Region_Name'] = 'West'\n",
    "states_stats_df.loc['Arizona', 'Census_Bureau_Division_Number'] = 8\n",
    "states_stats_df.loc['Arizona', 'Census_Bureau_Division_Name'] = 'Mountain'\n",
    "\n",
    "states_stats_df.loc['Colorado', 'Census_Bureau_Region_Number'] = 4\n",
    "states_stats_df.loc['Colorado', 'Census_Bureau_Region_Name'] = 'West'\n",
    "states_stats_df.loc['Colorado', 'Census_Bureau_Division_Number'] = 8\n",
    "states_stats_df.loc['Colorado', 'Census_Bureau_Division_Name'] = 'Mountain'\n",
    "\n",
    "states_stats_df.loc['Idaho', 'Census_Bureau_Region_Number'] = 4\n",
    "states_stats_df.loc['Idaho', 'Census_Bureau_Region_Name'] = 'West'\n",
    "states_stats_df.loc['Idaho', 'Census_Bureau_Division_Number'] = 8\n",
    "states_stats_df.loc['Idaho', 'Census_Bureau_Division_Name'] = 'Mountain'\n",
    "\n",
    "states_stats_df.loc['Montana', 'Census_Bureau_Region_Number'] = 4\n",
    "states_stats_df.loc['Montana', 'Census_Bureau_Region_Name'] = 'West'\n",
    "states_stats_df.loc['Montana', 'Census_Bureau_Division_Number'] = 8\n",
    "states_stats_df.loc['Montana', 'Census_Bureau_Division_Name'] = 'Mountain'\n",
    "\n",
    "states_stats_df.loc['Nevada', 'Census_Bureau_Region_Number'] = 4\n",
    "states_stats_df.loc['Nevada', 'Census_Bureau_Region_Name'] = 'West'\n",
    "states_stats_df.loc['Nevada', 'Census_Bureau_Division_Number'] = 8\n",
    "states_stats_df.loc['Nevada', 'Census_Bureau_Division_Name'] = 'Mountain'\n",
    "\n",
    "states_stats_df.loc['New Mexico', 'Census_Bureau_Region_Number'] = 4\n",
    "states_stats_df.loc['New Mexico', 'Census_Bureau_Region_Name'] = 'West'\n",
    "states_stats_df.loc['New Mexico', 'Census_Bureau_Division_Number'] = 8\n",
    "states_stats_df.loc['New Mexico', 'Census_Bureau_Division_Name'] = 'Mountain'\n",
    "\n",
    "states_stats_df.loc['Utah', 'Census_Bureau_Region_Number'] = 4\n",
    "states_stats_df.loc['Utah', 'Census_Bureau_Region_Name'] = 'West'\n",
    "states_stats_df.loc['Utah', 'Census_Bureau_Division_Number'] = 8\n",
    "states_stats_df.loc['Utah', 'Census_Bureau_Division_Name'] = 'Mountain'\n",
    "\n",
    "states_stats_df.loc['Wyoming', 'Census_Bureau_Region_Number'] = 4\n",
    "states_stats_df.loc['Wyoming', 'Census_Bureau_Region_Name'] = 'West'\n",
    "states_stats_df.loc['Wyoming', 'Census_Bureau_Division_Number'] = 8\n",
    "states_stats_df.loc['Wyoming', 'Census_Bureau_Division_Name'] = 'Mountain'"
   ]
  },
  {
   "cell_type": "code",
   "execution_count": 34,
   "metadata": {},
   "outputs": [],
   "source": [
    "\n",
    "states_stats_df.loc['Alaska', 'Census_Bureau_Region_Number'] = 4\n",
    "states_stats_df.loc['Alaska', 'Census_Bureau_Region_Name'] = 'West'\n",
    "states_stats_df.loc['Alaska', 'Census_Bureau_Division_Number'] = 9\n",
    "states_stats_df.loc['Alaska', 'Census_Bureau_Division_Name'] = 'Pacific'\n",
    "\n",
    "states_stats_df.loc['California', 'Census_Bureau_Region_Number'] = 4\n",
    "states_stats_df.loc['California', 'Census_Bureau_Region_Name'] = 'West'\n",
    "states_stats_df.loc['California', 'Census_Bureau_Division_Number'] = 9\n",
    "states_stats_df.loc['California', 'Census_Bureau_Division_Name'] = 'Pacific'\n",
    "\n",
    "states_stats_df.loc['Hawaii', 'Census_Bureau_Region_Number'] = 4\n",
    "states_stats_df.loc['Hawaii', 'Census_Bureau_Region_Name'] = 'West'\n",
    "states_stats_df.loc['Hawaii', 'Census_Bureau_Division_Number'] = 9\n",
    "states_stats_df.loc['Hawaii', 'Census_Bureau_Division_Name'] = 'Pacific'\n",
    "\n",
    "states_stats_df.loc['Oregon', 'Census_Bureau_Region_Number'] = 4\n",
    "states_stats_df.loc['Oregon', 'Census_Bureau_Region_Name'] = 'West'\n",
    "states_stats_df.loc['Oregon', 'Census_Bureau_Division_Number'] = 9\n",
    "states_stats_df.loc['Oregon', 'Census_Bureau_Division_Name'] = 'Pacific'\n",
    "\n",
    "states_stats_df.loc['Washington', 'Census_Bureau_Region_Number'] = 4\n",
    "states_stats_df.loc['Washington', 'Census_Bureau_Region_Name'] = 'West'\n",
    "states_stats_df.loc['Washington', 'Census_Bureau_Division_Number'] = 9\n",
    "states_stats_df.loc['Washington', 'Census_Bureau_Division_Name'] = 'Pacific'"
   ]
  },
  {
   "cell_type": "code",
   "execution_count": 39,
   "metadata": {},
   "outputs": [],
   "source": [
    "\n",
    "states_stats_df['OMB_Region'] = np.nan"
   ]
  },
  {
   "cell_type": "code",
   "execution_count": 40,
   "metadata": {},
   "outputs": [],
   "source": [
    "\n",
    "states_stats_df.loc['Alabama', 'OMB_Region'] = 'IV'\n",
    "states_stats_df.loc['Florida', 'OMB_Region'] = 'IV'\n",
    "states_stats_df.loc['Georgia', 'OMB_Region'] = 'IV'\n",
    "states_stats_df.loc['Kentucky', 'OMB_Region'] = 'IV'\n",
    "states_stats_df.loc['Mississippi', 'OMB_Region'] = 'IV'\n",
    "states_stats_df.loc['North Carolina', 'OMB_Region'] = 'IV'\n",
    "states_stats_df.loc['South Carolina', 'OMB_Region'] = 'IV'\n",
    "states_stats_df.loc['Tennessee', 'OMB_Region'] = 'IV'"
   ]
  },
  {
   "cell_type": "code",
   "execution_count": 43,
   "metadata": {},
   "outputs": [],
   "source": [
    "\n",
    "states_stats_df.loc['Arizona', 'OMB_Region'] = 'IX'\n",
    "states_stats_df.loc['California', 'OMB_Region'] = 'IX'\n",
    "states_stats_df.loc['Hawaii', 'OMB_Region'] = 'IX'\n",
    "states_stats_df.loc['Nevada', 'OMB_Region'] = 'IX'\n",
    "states_stats_df.loc['American Samoa', 'OMB_Region'] = 'IX'\n",
    "states_stats_df.loc['Guam', 'OMB_Region'] = 'IX'\n",
    "states_stats_df.loc['Northern Mariana Islands', 'OMB_Region'] = 'IX'"
   ]
  },
  {
   "cell_type": "code",
   "execution_count": 46,
   "metadata": {},
   "outputs": [],
   "source": [
    "\n",
    "states_stats_df.loc['Colorado', 'OMB_Region'] = 'VIII'\n",
    "states_stats_df.loc['Montana', 'OMB_Region'] = 'VIII'\n",
    "states_stats_df.loc['North Dakota', 'OMB_Region'] = 'VIII'\n",
    "states_stats_df.loc['South Dakota', 'OMB_Region'] = 'VIII'\n",
    "states_stats_df.loc['Utah', 'OMB_Region'] = 'VIII'\n",
    "states_stats_df.loc['Wyoming', 'OMB_Region'] = 'VIII'"
   ]
  },
  {
   "cell_type": "code",
   "execution_count": 48,
   "metadata": {},
   "outputs": [],
   "source": [
    "\n",
    "states_stats_df.loc['Illinois', 'OMB_Region'] = 'V'\n",
    "states_stats_df.loc['Indiana', 'OMB_Region'] = 'V'\n",
    "states_stats_df.loc['Michigan', 'OMB_Region'] = 'V'\n",
    "states_stats_df.loc['Minnesota', 'OMB_Region'] = 'V'\n",
    "states_stats_df.loc['Ohio', 'OMB_Region'] = 'V'\n",
    "states_stats_df.loc['Wisconsin', 'OMB_Region'] = 'V'"
   ]
  },
  {
   "cell_type": "code",
   "execution_count": 49,
   "metadata": {},
   "outputs": [],
   "source": [
    "\n",
    "states_stats_df.loc['Delaware', 'OMB_Region'] = 'III'\n",
    "states_stats_df.loc['District of Columbia', 'OMB_Region'] = 'III'\n",
    "states_stats_df.loc['Maryland', 'OMB_Region'] = 'III'\n",
    "states_stats_df.loc['Pennsylvania', 'OMB_Region'] = 'III'\n",
    "states_stats_df.loc['Virginia', 'OMB_Region'] = 'III'\n",
    "states_stats_df.loc['West Virginia', 'OMB_Region'] = 'III'"
   ]
  },
  {
   "cell_type": "code",
   "execution_count": 51,
   "metadata": {},
   "outputs": [],
   "source": [
    "\n",
    "states_stats_df.loc['Connecticut', 'OMB_Region'] = 'I'\n",
    "states_stats_df.loc['Maine', 'OMB_Region'] = 'I'\n",
    "states_stats_df.loc['Massachusetts', 'OMB_Region'] = 'I'\n",
    "states_stats_df.loc['New Hampshire', 'OMB_Region'] = 'I'\n",
    "states_stats_df.loc['Rhode Island', 'OMB_Region'] = 'I'\n",
    "states_stats_df.loc['Vermont', 'OMB_Region'] = 'I'"
   ]
  },
  {
   "cell_type": "code",
   "execution_count": 54,
   "metadata": {},
   "outputs": [],
   "source": [
    "\n",
    "states_stats_df.loc['Arkansas', 'OMB_Region'] = 'VI'\n",
    "states_stats_df.loc['Louisiana', 'OMB_Region'] = 'VI'\n",
    "states_stats_df.loc['New Mexico', 'OMB_Region'] = 'VI'\n",
    "states_stats_df.loc['Oklahoma', 'OMB_Region'] = 'VI'\n",
    "states_stats_df.loc['Texas', 'OMB_Region'] = 'VI'"
   ]
  },
  {
   "cell_type": "code",
   "execution_count": 57,
   "metadata": {},
   "outputs": [],
   "source": [
    "\n",
    "states_stats_df.loc['New Jersey', 'OMB_Region'] = 'II'\n",
    "states_stats_df.loc['New York', 'OMB_Region'] = 'II'\n",
    "states_stats_df.loc['Puerto Rico', 'OMB_Region'] = 'II'\n",
    "states_stats_df.loc['US Virgin Islands', 'OMB_Region'] = 'II'\n",
    "states_stats_df.loc['Iowa', 'OMB_Region'] = 'VII'\n",
    "states_stats_df.loc['Kansas', 'OMB_Region'] = 'VII'\n",
    "states_stats_df.loc['Missouri', 'OMB_Region'] = 'VII'\n",
    "states_stats_df.loc['Nebraska', 'OMB_Region'] = 'VII'\n",
    "states_stats_df.loc['Alaska', 'OMB_Region'] = 'X'\n",
    "states_stats_df.loc['Idaho', 'OMB_Region'] = 'X'\n",
    "states_stats_df.loc['Oregon', 'OMB_Region'] = 'X'\n",
    "states_stats_df.loc['Washington', 'OMB_Region'] = 'X'"
   ]
  },
  {
   "cell_type": "code",
   "execution_count": 59,
   "metadata": {},
   "outputs": [],
   "source": [
    "\n",
    "states_stats_df['BoEA_Region'] = np.nan"
   ]
  },
  {
   "cell_type": "code",
   "execution_count": 63,
   "metadata": {},
   "outputs": [],
   "source": [
    "\n",
    "states_stats_df.loc['Alabama', 'BoEA_Region'] = 'Southeast'\n",
    "states_stats_df.loc['Arkansas', 'BoEA_Region'] = 'Southeast'\n",
    "states_stats_df.loc['Florida', 'BoEA_Region'] = 'Southeast'\n",
    "states_stats_df.loc['Georgia', 'BoEA_Region'] = 'Southeast'\n",
    "states_stats_df.loc['Kentucky', 'BoEA_Region'] = 'Southeast'\n",
    "states_stats_df.loc['Louisiana', 'BoEA_Region'] = 'Southeast'\n",
    "states_stats_df.loc['Mississippi', 'BoEA_Region'] = 'Southeast'\n",
    "states_stats_df.loc['North Carolina', 'BoEA_Region'] = 'Southeast'\n",
    "states_stats_df.loc['South Carolina', 'BoEA_Region'] = 'Southeast'\n",
    "states_stats_df.loc['Tennessee', 'BoEA_Region'] = 'Southeast'\n",
    "states_stats_df.loc['Virginia', 'BoEA_Region'] = 'Southeast'\n",
    "states_stats_df.loc['West Virginia', 'BoEA_Region'] = 'Southeast'"
   ]
  },
  {
   "cell_type": "code",
   "execution_count": 66,
   "metadata": {},
   "outputs": [],
   "source": [
    "\n",
    "states_stats_df.loc['Iowa', 'BoEA_Region'] = 'Plains'\n",
    "states_stats_df.loc['Kansas', 'BoEA_Region'] = 'Plains'\n",
    "states_stats_df.loc['Minnesota', 'BoEA_Region'] = 'Plains'\n",
    "states_stats_df.loc['Missouri', 'BoEA_Region'] = 'Plains'\n",
    "states_stats_df.loc['Nebraska', 'BoEA_Region'] = 'Plains'\n",
    "states_stats_df.loc['North Dakota', 'BoEA_Region'] = 'Plains'\n",
    "states_stats_df.loc['South Dakota', 'BoEA_Region'] = 'Plains'"
   ]
  },
  {
   "cell_type": "code",
   "execution_count": 70,
   "metadata": {},
   "outputs": [],
   "source": [
    "\n",
    "states_stats_df.loc['Alaska', 'BoEA_Region'] = 'Far West'\n",
    "states_stats_df.loc['California', 'BoEA_Region'] = 'Far West'\n",
    "states_stats_df.loc['Hawaii', 'BoEA_Region'] = 'Far West'\n",
    "states_stats_df.loc['Nevada', 'BoEA_Region'] = 'Far West'\n",
    "states_stats_df.loc['Oregon', 'BoEA_Region'] = 'Far West'\n",
    "states_stats_df.loc['Washington', 'BoEA_Region'] = 'Far West'"
   ]
  },
  {
   "cell_type": "code",
   "execution_count": 73,
   "metadata": {},
   "outputs": [],
   "source": [
    "\n",
    "states_stats_df.loc['Colorado', 'BoEA_Region'] = 'Rocky Mountain'\n",
    "states_stats_df.loc['Idaho', 'BoEA_Region'] = 'Rocky Mountain'\n",
    "states_stats_df.loc['Montana', 'BoEA_Region'] = 'Rocky Mountain'\n",
    "states_stats_df.loc['Utah', 'BoEA_Region'] = 'Rocky Mountain'\n",
    "states_stats_df.loc['Wyoming', 'BoEA_Region'] = 'Rocky Mountain'"
   ]
  },
  {
   "cell_type": "code",
   "execution_count": 74,
   "metadata": {},
   "outputs": [],
   "source": [
    "\n",
    "states_stats_df.loc['Illinois', 'BoEA_Region'] = 'Great Lakes'\n",
    "states_stats_df.loc['Indiana', 'BoEA_Region'] = 'Great Lakes'\n",
    "states_stats_df.loc['Michigan', 'BoEA_Region'] = 'Great Lakes'\n",
    "states_stats_df.loc['Ohio', 'BoEA_Region'] = 'Great Lakes'\n",
    "states_stats_df.loc['Wisconsin', 'BoEA_Region'] = 'Great Lakes'"
   ]
  },
  {
   "cell_type": "code",
   "execution_count": 77,
   "metadata": {},
   "outputs": [],
   "source": [
    "\n",
    "states_stats_df.loc['Arizona', 'BoEA_Region'] = 'Southwest'\n",
    "states_stats_df.loc['New Mexico', 'BoEA_Region'] = 'Southwest'\n",
    "states_stats_df.loc['Oklahoma', 'BoEA_Region'] = 'Southwest'\n",
    "states_stats_df.loc['Texas', 'BoEA_Region'] = 'Southwest'"
   ]
  },
  {
   "cell_type": "code",
   "execution_count": 80,
   "metadata": {},
   "outputs": [],
   "source": [
    "\n",
    "states_stats_df.loc['Connecticut', 'BoEA_Region'] = 'New England'\n",
    "states_stats_df.loc['Maine', 'BoEA_Region'] = 'New England'\n",
    "states_stats_df.loc['Massachusetts', 'BoEA_Region'] = 'New England'\n",
    "states_stats_df.loc['New Hampshire', 'BoEA_Region'] = 'New England'\n",
    "states_stats_df.loc['Rhode Island', 'BoEA_Region'] = 'New England'\n",
    "states_stats_df.loc['Vermont', 'BoEA_Region'] = 'New England'\n",
    "states_stats_df.loc['Delaware', 'BoEA_Region'] = 'Mideast'\n",
    "states_stats_df.loc['District of Columbia', 'BoEA_Region'] = 'Mideast'\n",
    "states_stats_df.loc['Maryland', 'BoEA_Region'] = 'Mideast'\n",
    "states_stats_df.loc['New Jersey', 'BoEA_Region'] = 'Mideast'\n",
    "states_stats_df.loc['New York', 'BoEA_Region'] = 'Mideast'\n",
    "states_stats_df.loc['Pennsylvania', 'BoEA_Region'] = 'Mideast'"
   ]
  },
  {
   "cell_type": "code",
   "execution_count": 81,
   "metadata": {},
   "outputs": [
    {
     "name": "stdout",
     "output_type": "stream",
     "text": [
      "Pickling to D:\\Documents\\Repositories\\notebooks\\covid19\\saves\\pickle\\states_stats_df.pickle\n"
     ]
    }
   ],
   "source": [
    "\n",
    "s.store_objects(states_stats_df=states_stats_df)"
   ]
  },
  {
   "cell_type": "code",
   "execution_count": null,
   "metadata": {},
   "outputs": [],
   "source": []
  }
 ],
 "metadata": {
  "kernelspec": {
   "display_name": "Python 3",
   "language": "python",
   "name": "python3"
  },
  "language_info": {
   "codemirror_mode": {
    "name": "ipython",
    "version": 3
   },
   "file_extension": ".py",
   "mimetype": "text/x-python",
   "name": "python",
   "nbconvert_exporter": "python",
   "pygments_lexer": "ipython3",
   "version": "3.7.6"
  }
 },
 "nbformat": 4,
 "nbformat_minor": 4
}
