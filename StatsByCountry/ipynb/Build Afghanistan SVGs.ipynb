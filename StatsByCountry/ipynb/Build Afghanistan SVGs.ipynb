{
 "cells": [
  {
   "cell_type": "code",
   "execution_count": null,
   "metadata": {},
   "outputs": [],
   "source": []
  },
  {
   "cell_type": "code",
   "execution_count": 1,
   "metadata": {},
   "outputs": [],
   "source": [
    "\n",
    "import sys\n",
    "\n",
    "# Insert at 1, 0 is the script path (or '' in REPL)\n",
    "sys.path.insert(1, '../py')"
   ]
  },
  {
   "cell_type": "code",
   "execution_count": 2,
   "metadata": {},
   "outputs": [
    {
     "name": "stdout",
     "output_type": "stream",
     "text": [
      "Pretty printing has been turned OFF\n",
      "D:\\Documents\\Repositories\\notebooks\\StatsByCountry\\ipynb\\Build Afghanistan SVGs.ipynb\n",
      "['s.attempt_to_pickle', 's.data_csv_folder', 's.data_folder', 's.encoding_type', 's.load_csv', 's.load_dataframes', 's.load_object', 's.save_dataframes', 's.saves_csv_folder', 's.saves_folder', 's.saves_pickle_folder', 's.store_objects']\n",
      "['c.all_countries_df', 'c.axes_str', 'c.clean_up_district_common_dict', 'c.clean_up_district_merge_dataframe', 'c.clean_up_district_unique_dict', 'c.clean_up_suggestion_list_dict', 'c.conjunctify_list', 'c.copy_file_name', 'c.copy_file_path', 'c.create_country_colored_labeled_map', 'c.create_country_colored_map', 'c.create_country_labeled_map', 'c.create_district_first_dict', 'c.create_label_line_file', 'c.create_us_google_suggest_labeled_map', 'c.district_path_str', 'c.figure_str', 'c.fill_style_prefix', 'c.fill_style_str', 'c.get_colorbar_xml', 'c.get_column_description', 'c.get_google_suggestion_list', 'c.get_legend_xml', 'c.get_style_list', 'c.get_tfidf_lists', 'c.get_tspan_list', 'c.gradient_file_path', 'c.gradient_str', 'c.html_style_str', 'c.hyphen_dict', 'c.hyphenate_words', 'c.intra_country_borders_str', 'c.iso_3166_2_code', 'c.l_str', 'c.label_line_file_path', 'c.label_line_style_dict', 'c.label_line_style_list', 'c.label_text_style_list', 'c.label_tspan_style_list', 'c.legend_label_str', 'c.line_height', 'c.matplotlib_axis_str', 'c.namedview_attributes_list', 'c.one_country_df', 'c.regex_sub_str', 'c.scrape_suggestion_list_dictionary', 'c.settings_dict', 'c.show_colorbar', 'c.svg_attributes_list', 'c.svg_dir', 'c.svg_height', 'c.svg_prefix_str', 'c.svg_regex', 'c.svg_suffix', 'c.svg_width', 'c.t_str', 'c.text_style_dict', 'c.text_style_list', 'c.tick_text_str', 'c.tick_text_style_list', 'c.tick_tspan_style_list', 'c.trim_d_path', 'c.ts_str', 'c.ytick_str']\n"
     ]
    },
    {
     "data": {
      "text/plain": [
       "['Config', 'In', 'Out', 'RandomForestClassifier', 'SequenceMatcher', '_', '__', '___', '__builtin__', '__builtins__', '__doc__', '__loader__', '__name__', '__nonzero__', '__package__', '__spec__', '_dh', '_i', '_i1', '_i2', '_ih', '_ii', '_iii', '_oh', 'afghanistan_provinces_df', 'c', 'check_4_doubles', 'check_for_typos', 'choropleth_utils', 'conjunctify_list', 'encoding', 'et', 'example_iterrows', 'exit', 'filepath_regex', 'get_classifier', 'get_column_descriptions', 'get_data_structs_df', 'get_datastructure_prediction', 'get_dir_tree', 'get_importances', 'get_input_sample', 'get_ipython', 'get_max_rsquared_adj', 'get_module_version', 'get_notebook_path', 'get_page_tables', 'get_struct_name', 'io', 'ipykernel', 'json', 'jupyter_config_dir', 'math', 'notebook_path', 'notebookapp', 'np', 'os', 'pd', 'plt', 'preprocess_data', 'quit', 're', 's', 'similar', 'sm', 'sns', 'stats', 'storage', 'sys', 'text_editor_path', 'time', 'url_regex', 'urllib', 'xml']"
      ]
     },
     "execution_count": 2,
     "metadata": {},
     "output_type": "execute_result"
    }
   ],
   "source": [
    "\n",
    "import choropleth_utils\n",
    "import storage\n",
    "import numpy as np\n",
    "%run ../../load_magic/environment.py\n",
    "%run ../../load_magic/dataframes.py\n",
    "%run ../../load_magic/lists.py\n",
    "%pprint\n",
    "\n",
    "notebook_path = get_notebook_path()\n",
    "print(notebook_path)\n",
    "s = storage.Storage()\n",
    "print(['s.{}'.format(fn) for fn in dir(s) if not fn.startswith('_')])\n",
    "\n",
    "afghanistan_provinces_df = s.load_object('afghanistan_provinces_df')\n",
    "c = choropleth_utils.ChoroplethUtilities(iso_3166_2_code='af', one_country_df=afghanistan_provinces_df)\n",
    "print(['c.{}'.format(fn) for fn in dir(c) if not fn.startswith('_')])\n",
    "et = choropleth_utils.et\n",
    "xml = choropleth_utils.xml\n",
    "text_editor_path = r'C:\\Program Files\\Notepad++\\notepad++.exe'\n",
    "dir()"
   ]
  },
  {
   "cell_type": "code",
   "execution_count": 3,
   "metadata": {},
   "outputs": [
    {
     "data": {
      "text/html": [
       "<div>\n",
       "<style scoped>\n",
       "    .dataframe tbody tr th:only-of-type {\n",
       "        vertical-align: middle;\n",
       "    }\n",
       "\n",
       "    .dataframe tbody tr th {\n",
       "        vertical-align: top;\n",
       "    }\n",
       "\n",
       "    .dataframe thead th {\n",
       "        text-align: right;\n",
       "    }\n",
       "</style>\n",
       "<table border=\"1\" class=\"dataframe\">\n",
       "  <thead>\n",
       "    <tr style=\"text-align: right;\">\n",
       "      <th></th>\n",
       "      <th>Ethnic groups</th>\n",
       "      <th>outline_d</th>\n",
       "      <th>Country</th>\n",
       "      <th>U.N. Region</th>\n",
       "      <th>Density</th>\n",
       "      <th>Capital</th>\n",
       "      <th>Main languages</th>\n",
       "      <th>License Plate Code</th>\n",
       "      <th>total_area_sq_mi</th>\n",
       "    </tr>\n",
       "  </thead>\n",
       "  <tbody>\n",
       "    <tr>\n",
       "      <th>Helmand</th>\n",
       "      <td>Pashtun, Tajik, Hazara, Turkmen, Baloch, and Arab</td>\n",
       "      <td>m 558.057,755.983 c 0,0 2,0.75 3.25,-1 1.25,-1...</td>\n",
       "      <td>Afghanistan</td>\n",
       "      <td>South West Afghanistan</td>\n",
       "      <td>25/km 2 (64/sq mi)</td>\n",
       "      <td>Lashkar Gah</td>\n",
       "      <td>Pashto &amp;amp; Balochi</td>\n",
       "      <td>HEL</td>\n",
       "      <td>22619</td>\n",
       "    </tr>\n",
       "    <tr>\n",
       "      <th>Daykundi</th>\n",
       "      <td>Hazara and Baloch</td>\n",
       "      <td>m 630.448,774.212 c 0.19,-0.229 0.22,-0.59 0.1...</td>\n",
       "      <td>Afghanistan</td>\n",
       "      <td>South West Afghanistan</td>\n",
       "      <td>49.4 /km² (128 /sq mi)</td>\n",
       "      <td>Nili</td>\n",
       "      <td>Dari ( Hazaragi dialect )</td>\n",
       "      <td>DYK</td>\n",
       "      <td>6984</td>\n",
       "    </tr>\n",
       "    <tr>\n",
       "      <th>Paktia</th>\n",
       "      <td>Pashtun and Tajik</td>\n",
       "      <td>m 1035.508,704.053 c 1.04,-0.91 2.86,-1.511 3....</td>\n",
       "      <td>Afghanistan</td>\n",
       "      <td>South East Afghanistan</td>\n",
       "      <td>86/km 2 (220/sq mi)</td>\n",
       "      <td>Gardez</td>\n",
       "      <td>Pashto</td>\n",
       "      <td>PAK</td>\n",
       "      <td>2483</td>\n",
       "    </tr>\n",
       "    <tr>\n",
       "      <th>Parwan</th>\n",
       "      <td>Pashtun, Tajik, and Hazara</td>\n",
       "      <td>m 978.807,504.983 c 1.25,1.25 0.75,1.5 2.75,1....</td>\n",
       "      <td>Afghanistan</td>\n",
       "      <td>Central Afghanistan</td>\n",
       "      <td>110/km 2 (290/sq mi)</td>\n",
       "      <td>Charikar</td>\n",
       "      <td>Dari and Pashto [2]</td>\n",
       "      <td>PRN</td>\n",
       "      <td>2307</td>\n",
       "    </tr>\n",
       "    <tr>\n",
       "      <th>Logar</th>\n",
       "      <td>Pashtun, Tajik, and Hazara</td>\n",
       "      <td>m 1167.227,643.883 c -0.89,-0.26 -3.359,-0.99 ...</td>\n",
       "      <td>Afghanistan</td>\n",
       "      <td>Central Afghanistan</td>\n",
       "      <td>100/km 2 (260/sq mi)</td>\n",
       "      <td>Puli Alam</td>\n",
       "      <td>Pashto Dari</td>\n",
       "      <td>LGR</td>\n",
       "      <td>1498</td>\n",
       "    </tr>\n",
       "  </tbody>\n",
       "</table>\n",
       "</div>"
      ],
      "text/plain": [
       "                                              Ethnic groups  \\\n",
       "Helmand   Pashtun, Tajik, Hazara, Turkmen, Baloch, and Arab   \n",
       "Daykundi                                  Hazara and Baloch   \n",
       "Paktia                                    Pashtun and Tajik   \n",
       "Parwan                           Pashtun, Tajik, and Hazara   \n",
       "Logar                            Pashtun, Tajik, and Hazara   \n",
       "\n",
       "                                                  outline_d      Country  \\\n",
       "Helmand   m 558.057,755.983 c 0,0 2,0.75 3.25,-1 1.25,-1...  Afghanistan   \n",
       "Daykundi  m 630.448,774.212 c 0.19,-0.229 0.22,-0.59 0.1...  Afghanistan   \n",
       "Paktia    m 1035.508,704.053 c 1.04,-0.91 2.86,-1.511 3....  Afghanistan   \n",
       "Parwan    m 978.807,504.983 c 1.25,1.25 0.75,1.5 2.75,1....  Afghanistan   \n",
       "Logar     m 1167.227,643.883 c -0.89,-0.26 -3.359,-0.99 ...  Afghanistan   \n",
       "\n",
       "                     U.N. Region                 Density      Capital  \\\n",
       "Helmand   South West Afghanistan      25/km 2 (64/sq mi)  Lashkar Gah   \n",
       "Daykundi  South West Afghanistan  49.4 /km² (128 /sq mi)         Nili   \n",
       "Paktia    South East Afghanistan     86/km 2 (220/sq mi)       Gardez   \n",
       "Parwan       Central Afghanistan    110/km 2 (290/sq mi)     Charikar   \n",
       "Logar        Central Afghanistan    100/km 2 (260/sq mi)    Puli Alam   \n",
       "\n",
       "                     Main languages License Plate Code total_area_sq_mi  \n",
       "Helmand        Pashto &amp; Balochi                HEL            22619  \n",
       "Daykundi  Dari ( Hazaragi dialect )                DYK             6984  \n",
       "Paktia                       Pashto                PAK             2483  \n",
       "Parwan          Dari and Pashto [2]                PRN             2307  \n",
       "Logar                   Pashto Dari                LGR             1498  "
      ]
     },
     "execution_count": 3,
     "metadata": {},
     "output_type": "execute_result"
    }
   ],
   "source": [
    "\n",
    "c.one_country_df.sample(5).T.sample(9).T"
   ]
  },
  {
   "cell_type": "code",
   "execution_count": 3,
   "metadata": {},
   "outputs": [],
   "source": [
    "\n",
    "string_column_name = 'Largest city'\n",
    "svg_file_path = c.create_country_labeled_map(string_column_name=string_column_name,\n",
    "                                             one_country_df=c.one_country_df)\n",
    "!\"{text_editor_path}\" \"{os.path.abspath(svg_file_path)}\""
   ]
  },
  {
   "cell_type": "code",
   "execution_count": 4,
   "metadata": {},
   "outputs": [],
   "source": [
    "\n",
    "column_descriptions_df = get_column_descriptions(c.one_country_df)\n",
    "match_series = (column_descriptions_df.dtype == 'object')\n",
    "for string_column_name in column_descriptions_df[match_series].column_name:\n",
    "    svg_file_path = c.create_country_labeled_map(string_column_name=string_column_name,\n",
    "                                                 one_country_df=c.one_country_df)\n",
    "    !\"{text_editor_path}\" \"{os.path.abspath(svg_file_path)}\""
   ]
  },
  {
   "cell_type": "code",
   "execution_count": 5,
   "metadata": {},
   "outputs": [],
   "source": [
    "\n",
    "numeric_column_name = '# Districts'\n",
    "svg_file_path = c.create_country_colored_map(numeric_column_name, one_country_df=c.one_country_df)\n",
    "!\"{text_editor_path}\" \"{os.path.abspath(svg_file_path)}\""
   ]
  },
  {
   "cell_type": "code",
   "execution_count": 6,
   "metadata": {},
   "outputs": [],
   "source": [
    "\n",
    "numeric_column_name = 'density_per_sq_km'\n",
    "string_column_name = 'License Plate Code'\n",
    "svg_file_path = c.create_country_colored_labeled_map(numeric_column_name=numeric_column_name,\n",
    "                                                     string_column_name=string_column_name)\n",
    "!\"{text_editor_path}\" \"{os.path.abspath(svg_file_path)}\""
   ]
  },
  {
   "cell_type": "markdown",
   "metadata": {},
   "source": [
    "\n",
    "---\n",
    "# Add necessary columns"
   ]
  },
  {
   "cell_type": "code",
   "execution_count": 5,
   "metadata": {},
   "outputs": [
    {
     "name": "stdout",
     "output_type": "stream",
     "text": [
      "Pickling to D:\\Documents\\Repositories\\notebooks\\StatsByCountry\\saves\\pickle\\afghanistan_provinces_df.pickle\n"
     ]
    }
   ],
   "source": [
    "\n",
    "afghanistan_provinces_df = s.load_object('afghanistan_provinces_df')\n",
    "afghanistan_provinces_df.columns = ['Largest city', 'Density', 'Governor', 'Country', 'Time zone', 'Ethnic groups', 'Total Population',\n",
    "                                    'Capital', 'Main languages', 'ISO 3166-2:AF', 'Total Area', 'License Plate Code', 'Centers',\n",
    "                                    '# Districts', 'U.N. Region', 'total_population', 'total_area_sq_km', 'total_area_sq_mi',\n",
    "                                    'density_per_sq_km', 'density_per_sq_mi', 'text_x', 'text_y', 'label_line_d',\n",
    "                                    'district_abbreviation', 'outline_d']\n",
    "s.store_objects(afghanistan_provinces_df=afghanistan_provinces_df)"
   ]
  },
  {
   "cell_type": "code",
   "execution_count": 7,
   "metadata": {},
   "outputs": [
    {
     "name": "stdout",
     "output_type": "stream",
     "text": [
      "['pd.to_numeric']\n"
     ]
    }
   ],
   "source": [
    "\n",
    "print(['pd.{}'.format(fn) for fn in dir(pd) if 'numer' in fn.lower()])"
   ]
  },
  {
   "cell_type": "code",
   "execution_count": 9,
   "metadata": {},
   "outputs": [
    {
     "name": "stdout",
     "output_type": "stream",
     "text": [
      "Pickling to D:\\Documents\\Repositories\\notebooks\\StatsByCountry\\saves\\pickle\\afghanistan_provinces_df.pickle\n"
     ]
    }
   ],
   "source": [
    "\n",
    "afghanistan_provinces_df = s.load_object('afghanistan_provinces_df')\n",
    "column_descriptions_df = get_column_descriptions(afghanistan_provinces_df)\n",
    "match_series = (column_descriptions_df.only_integers == True)\n",
    "int_list = column_descriptions_df[match_series].column_name.tolist()\n",
    "for column_name in int_list:\n",
    "    afghanistan_provinces_df[column_name] = afghanistan_provinces_df[column_name].map(lambda x: int(x))\n",
    "match_series = (column_descriptions_df.only_integers == False)\n",
    "float_list = column_descriptions_df[match_series].column_name.tolist()\n",
    "for column_name in float_list:\n",
    "    afghanistan_provinces_df[column_name] = afghanistan_provinces_df[column_name].map(lambda x: float(x))\n",
    "s.store_objects(afghanistan_provinces_df=afghanistan_provinces_df)"
   ]
  },
  {
   "cell_type": "code",
   "execution_count": 15,
   "metadata": {},
   "outputs": [
    {
     "data": {
      "text/html": [
       "<div>\n",
       "<style scoped>\n",
       "    .dataframe tbody tr th:only-of-type {\n",
       "        vertical-align: middle;\n",
       "    }\n",
       "\n",
       "    .dataframe tbody tr th {\n",
       "        vertical-align: top;\n",
       "    }\n",
       "\n",
       "    .dataframe thead th {\n",
       "        text-align: right;\n",
       "    }\n",
       "</style>\n",
       "<table border=\"1\" class=\"dataframe\">\n",
       "  <thead>\n",
       "    <tr style=\"text-align: right;\">\n",
       "      <th></th>\n",
       "      <th>Nimruz</th>\n",
       "      <th>Nangarhar</th>\n",
       "      <th>Paktika</th>\n",
       "      <th>Laghman</th>\n",
       "      <th>Paktia</th>\n",
       "      <th>Badghis</th>\n",
       "      <th>Sar-e Pol</th>\n",
       "    </tr>\n",
       "  </thead>\n",
       "  <tbody>\n",
       "    <tr>\n",
       "      <th>text_x</th>\n",
       "      <td>289.515</td>\n",
       "      <td>1230.07</td>\n",
       "      <td>1027.56</td>\n",
       "      <td>1196.57</td>\n",
       "      <td>1098.06</td>\n",
       "      <td>444.025</td>\n",
       "      <td>723.04</td>\n",
       "    </tr>\n",
       "    <tr>\n",
       "      <th>text_y</th>\n",
       "      <td>1080.85</td>\n",
       "      <td>625.823</td>\n",
       "      <td>859.337</td>\n",
       "      <td>559.819</td>\n",
       "      <td>716.828</td>\n",
       "      <td>506.317</td>\n",
       "      <td>422.812</td>\n",
       "    </tr>\n",
       "    <tr>\n",
       "      <th>label_line_d</th>\n",
       "      <td>NaN</td>\n",
       "      <td>NaN</td>\n",
       "      <td>NaN</td>\n",
       "      <td>NaN</td>\n",
       "      <td>NaN</td>\n",
       "      <td>NaN</td>\n",
       "      <td>NaN</td>\n",
       "    </tr>\n",
       "    <tr>\n",
       "      <th>district_abbreviation</th>\n",
       "      <td>NIM</td>\n",
       "      <td>NAN</td>\n",
       "      <td>PKA</td>\n",
       "      <td>LAG</td>\n",
       "      <td>PIA</td>\n",
       "      <td>BDG</td>\n",
       "      <td>SAR</td>\n",
       "    </tr>\n",
       "    <tr>\n",
       "      <th>outline_d</th>\n",
       "      <td>m 419.307,908.983 c 0.25,1 2.5,3.5 2.5,3.5 0,0...</td>\n",
       "      <td>m 1119.557,629.983 -0.12,0.38 h -0.01 l -0.37,...</td>\n",
       "      <td>m 959.187,955.452 c -0.59,1.101 -1.239,1.47 -2...</td>\n",
       "      <td>m 1156.807,504.543 c 0,-0.48 0,-1.27 0,-2.06 0...</td>\n",
       "      <td>m 1035.508,704.053 c 1.04,-0.91 2.86,-1.511 3....</td>\n",
       "      <td>m 463.307,375.733 c 0,0 2,5.25 2,7.25 v 11.5 c...</td>\n",
       "      <td>m 670.537,380.483 c -0.36,0.04 -4.52,0.5 -5.48...</td>\n",
       "    </tr>\n",
       "  </tbody>\n",
       "</table>\n",
       "</div>"
      ],
      "text/plain": [
       "                                                               Nimruz  \\\n",
       "text_x                                                        289.515   \n",
       "text_y                                                        1080.85   \n",
       "label_line_d                                                      NaN   \n",
       "district_abbreviation                                                NIM   \n",
       "outline_d           m 419.307,908.983 c 0.25,1 2.5,3.5 2.5,3.5 0,0...   \n",
       "\n",
       "                                                            Nangarhar  \\\n",
       "text_x                                                        1230.07   \n",
       "text_y                                                        625.823   \n",
       "label_line_d                                                      NaN   \n",
       "district_abbreviation                                                NAN   \n",
       "outline_d           m 1119.557,629.983 -0.12,0.38 h -0.01 l -0.37,...   \n",
       "\n",
       "                                                              Paktika  \\\n",
       "text_x                                                        1027.56   \n",
       "text_y                                                        859.337   \n",
       "label_line_d                                                      NaN   \n",
       "district_abbreviation                                                PKA   \n",
       "outline_d           m 959.187,955.452 c -0.59,1.101 -1.239,1.47 -2...   \n",
       "\n",
       "                                                              Laghman  \\\n",
       "text_x                                                        1196.57   \n",
       "text_y                                                        559.819   \n",
       "label_line_d                                                      NaN   \n",
       "district_abbreviation                                                LAG   \n",
       "outline_d           m 1156.807,504.543 c 0,-0.48 0,-1.27 0,-2.06 0...   \n",
       "\n",
       "                                                               Paktia  \\\n",
       "text_x                                                        1098.06   \n",
       "text_y                                                        716.828   \n",
       "label_line_d                                                      NaN   \n",
       "district_abbreviation                                                PIA   \n",
       "outline_d           m 1035.508,704.053 c 1.04,-0.91 2.86,-1.511 3....   \n",
       "\n",
       "                                                              Badghis  \\\n",
       "text_x                                                        444.025   \n",
       "text_y                                                        506.317   \n",
       "label_line_d                                                      NaN   \n",
       "district_abbreviation                                                BDG   \n",
       "outline_d           m 463.307,375.733 c 0,0 2,5.25 2,7.25 v 11.5 c...   \n",
       "\n",
       "                                                            Sar-e Pol  \n",
       "text_x                                                         723.04  \n",
       "text_y                                                        422.812  \n",
       "label_line_d                                                      NaN  \n",
       "district_abbreviation                                                SAR  \n",
       "outline_d           m 670.537,380.483 c -0.36,0.04 -4.52,0.5 -5.48...  "
      ]
     },
     "execution_count": 15,
     "metadata": {},
     "output_type": "execute_result"
    }
   ],
   "source": [
    "\n",
    "import xml.etree.ElementTree as et\n",
    "\n",
    "afghanistan_provinces_df = s.load_object('afghanistan_provinces_df')\n",
    "file_path = os.path.join(s.data_folder, 'svg', 'Afghanistan.svg')\n",
    "root = et.parse(file_path).getroot()\n",
    "outline_d_dict = {}\n",
    "for districts_elem in root:\n",
    "    id = districts_elem.attrib['id']\n",
    "    if (id == 'intra-districts'):\n",
    "        for province_elem in districts_elem:\n",
    "            state_name = province_elem.attrib['{http://www.inkscape.org/namespaces/inkscape}label']\n",
    "            outline_d = province_elem.attrib['d']\n",
    "            outline_d_dict[state_name] = outline_d\n",
    "        break\n",
    "\n",
    "df = pd.DataFrame([outline_d_dict]).T\n",
    "df.columns = ['outline_d']\n",
    "afghanistan_provinces_df = afghanistan_provinces_df.T.append(df.T).T\n",
    "afghanistan_provinces_df.T.tail(5).T.sample(7).T"
   ]
  },
  {
   "cell_type": "code",
   "execution_count": 18,
   "metadata": {},
   "outputs": [
    {
     "data": {
      "text/html": [
       "<div>\n",
       "<style scoped>\n",
       "    .dataframe tbody tr th:only-of-type {\n",
       "        vertical-align: middle;\n",
       "    }\n",
       "\n",
       "    .dataframe tbody tr th {\n",
       "        vertical-align: top;\n",
       "    }\n",
       "\n",
       "    .dataframe thead th {\n",
       "        text-align: right;\n",
       "    }\n",
       "</style>\n",
       "<table border=\"1\" class=\"dataframe\">\n",
       "  <thead>\n",
       "    <tr style=\"text-align: right;\">\n",
       "      <th></th>\n",
       "    </tr>\n",
       "  </thead>\n",
       "  <tbody>\n",
       "    <tr>\n",
       "      <th>text_x</th>\n",
       "    </tr>\n",
       "    <tr>\n",
       "      <th>text_y</th>\n",
       "    </tr>\n",
       "    <tr>\n",
       "      <th>label_line_d</th>\n",
       "    </tr>\n",
       "    <tr>\n",
       "      <th>district_abbreviation</th>\n",
       "    </tr>\n",
       "    <tr>\n",
       "      <th>outline_d</th>\n",
       "    </tr>\n",
       "  </tbody>\n",
       "</table>\n",
       "</div>"
      ],
      "text/plain": [
       "Empty DataFrame\n",
       "Columns: []\n",
       "Index: [text_x, text_y, label_line_d, district_abbreviation, outline_d]"
      ]
     },
     "execution_count": 18,
     "metadata": {},
     "output_type": "execute_result"
    }
   ],
   "source": [
    "\n",
    "match_series = afghanistan_provinces_df.outline_d.isnull()\n",
    "afghanistan_provinces_df[match_series].T.tail(5).T.head(7).T"
   ]
  },
  {
   "cell_type": "code",
   "execution_count": 13,
   "metadata": {},
   "outputs": [
    {
     "data": {
      "text/plain": [
       "dict_keys(['id', 'd', 'style', '{http://www.inkscape.org/namespaces/inkscape}connector-curvature', '{http://www.inkscape.org/namespaces/inkscape}label'])"
      ]
     },
     "execution_count": 13,
     "metadata": {},
     "output_type": "execute_result"
    }
   ],
   "source": [
    "\n",
    "province_elem.attrib.keys()"
   ]
  },
  {
   "cell_type": "code",
   "execution_count": 19,
   "metadata": {},
   "outputs": [
    {
     "name": "stdout",
     "output_type": "stream",
     "text": [
      "Pickling to D:\\Documents\\Repositories\\notebooks\\StatsByCountry\\saves\\pickle\\afghanistan_provinces_df.pickle\n"
     ]
    }
   ],
   "source": [
    "\n",
    "s.store_objects(afghanistan_provinces_df=afghanistan_provinces_df)"
   ]
  },
  {
   "cell_type": "code",
   "execution_count": 6,
   "metadata": {},
   "outputs": [
    {
     "name": "stdout",
     "output_type": "stream",
     "text": [
      "Pickling to D:\\Documents\\Repositories\\notebooks\\StatsByCountry\\saves\\pickle\\afghanistan_provinces_df.pickle\n"
     ]
    }
   ],
   "source": [
    "\n",
    "afghanistan_provinces_df = s.load_object('afghanistan_provinces_df')\n",
    "column_name = 'ISO 3166-2:AF'\n",
    "new_column_name = 'district_abbreviation'\n",
    "afghanistan_provinces_df[new_column_name] = afghanistan_provinces_df[column_name].map(lambda x: x.split('-')[1])\n",
    "s.store_objects(afghanistan_provinces_df=afghanistan_provinces_df)"
   ]
  },
  {
   "cell_type": "code",
   "execution_count": 10,
   "metadata": {},
   "outputs": [
    {
     "name": "stdout",
     "output_type": "stream",
     "text": [
      "Pickling to D:\\Documents\\Repositories\\notebooks\\StatsByCountry\\saves\\pickle\\afghanistan_provinces_df.pickle\n"
     ]
    }
   ],
   "source": [
    "\n",
    "afghanistan_provinces_df = s.load_object('afghanistan_provinces_df')\n",
    "afghanistan_provinces_df['text_x'] = np.nan\n",
    "afghanistan_provinces_df['text_y'] = np.nan\n",
    "afghanistan_provinces_df['label_line_d'] = np.nan\n",
    "afghanistan_provinces_df.loc['Badakhshan', 'text_x'] = 1270.5022\n",
    "afghanistan_provinces_df.loc['Badakhshan', 'text_y'] = 272.78897\n",
    "afghanistan_provinces_df.loc['Badghis', 'text_x'] = 444.02499\n",
    "afghanistan_provinces_df.loc['Badghis', 'text_y'] = 506.31662\n",
    "afghanistan_provinces_df.loc['Baghlan', 'text_x'] = 1062.0598\n",
    "afghanistan_provinces_df.loc['Baghlan', 'text_y'] = 406.31122\n",
    "afghanistan_provinces_df.loc['Balkh', 'text_x'] = 839.04779\n",
    "afghanistan_provinces_df.loc['Balkh', 'text_y'] = 270.30414\n",
    "afghanistan_provinces_df.loc['Bamyan', 'text_x'] = 847.54767\n",
    "afghanistan_provinces_df.loc['Bamyan', 'text_y'] = 534.31897\n",
    "afghanistan_provinces_df.loc['Daykundi', 'text_x'] = 729.04169\n",
    "afghanistan_provinces_df.loc['Daykundi', 'text_y'] = 694.32709\n",
    "afghanistan_provinces_df.loc['Farah', 'text_x'] = 234.01317\n",
    "afghanistan_provinces_df.loc['Farah', 'text_y'] = 864.83649\n",
    "afghanistan_provinces_df.loc['Faryab', 'text_x'] = 546.0307\n",
    "afghanistan_provinces_df.loc['Faryab', 'text_y'] = 400.31021\n",
    "afghanistan_provinces_df.loc['Ghazni', 'text_x'] = 919.05115\n",
    "afghanistan_provinces_df.loc['Ghazni', 'text_y'] = 730.82941\n",
    "afghanistan_provinces_df.loc['Ghor', 'text_x'] = 580.03278\n",
    "afghanistan_provinces_df.loc['Ghor', 'text_y'] = 619.32324\n",
    "afghanistan_provinces_df.loc['Helmand', 'text_x'] = 474.02667\n",
    "afghanistan_provinces_df.loc['Helmand', 'text_y'] = 1010.8453\n",
    "afghanistan_provinces_df.loc['Herat', 'text_x'] = 247.51393\n",
    "afghanistan_provinces_df.loc['Herat', 'text_y'] = 635.82416\n",
    "afghanistan_provinces_df.loc['Jowzjan', 'text_x'] = 696.53839\n",
    "afghanistan_provinces_df.loc['Jowzjan', 'text_y'] = 289.30466\n",
    "afghanistan_provinces_df.loc['Kabul', 'text_x'] = 1099.5612\n",
    "afghanistan_provinces_df.loc['Kabul', 'text_y'] = 592.32172\n",
    "afghanistan_provinces_df.loc['Kandahar', 'text_x'] = 670.53772\n",
    "afghanistan_provinces_df.loc['Kandahar', 'text_y'] = 1031.8464\n",
    "afghanistan_provinces_df.loc['Kapisa', 'text_x'] = 1128.0635\n",
    "afghanistan_provinces_df.loc['Kapisa', 'text_y'] = 518.81757\n",
    "afghanistan_provinces_df.loc['Khost', 'text_x'] = 1166.0645\n",
    "afghanistan_provinces_df.loc['Khost', 'text_y'] = 740.82971\n",
    "afghanistan_provinces_df.loc['Kunar', 'text_x'] = 1288.5725\n",
    "afghanistan_provinces_df.loc['Kunar', 'text_y'] = 537.31848\n",
    "afghanistan_provinces_df.loc['Kunduz', 'text_x'] = 1032.5574\n",
    "afghanistan_provinces_df.loc['Kunduz', 'text_y'] = 276.80304\n",
    "afghanistan_provinces_df.loc['Laghman', 'text_x'] = 1196.5674\n",
    "afghanistan_provinces_df.loc['Laghman', 'text_y'] = 559.8194\n",
    "afghanistan_provinces_df.loc['Logar', 'text_x'] = 1074.5601\n",
    "afghanistan_provinces_df.loc['Logar', 'text_y'] = 648.82501\n",
    "afghanistan_provinces_df.loc['Nangarhar', 'text_x'] = 1230.0692\n",
    "afghanistan_provinces_df.loc['Nangarhar', 'text_y'] = 625.82349\n",
    "afghanistan_provinces_df.loc['Nimruz', 'text_x'] = 289.51459\n",
    "afghanistan_provinces_df.loc['Nimruz', 'text_y'] = 1080.8496\n",
    "afghanistan_provinces_df.loc['Nuristan', 'text_x'] = 1265.571\n",
    "afghanistan_provinces_df.loc['Nuristan', 'text_y'] = 482.31494\n",
    "afghanistan_provinces_df.loc['Urozgan', 'text_x'] = 712.03918\n",
    "afghanistan_provinces_df.loc['Urozgan', 'text_y'] = 817.83392\n",
    "afghanistan_provinces_df.loc['Paktia', 'text_x'] = 1098.0618\n",
    "afghanistan_provinces_df.loc['Paktia', 'text_y'] = 716.828\n",
    "afghanistan_provinces_df.loc['Paktika', 'text_x'] = 1027.5579\n",
    "afghanistan_provinces_df.loc['Paktika', 'text_y'] = 859.33673\n",
    "afghanistan_provinces_df.loc['Panjshir', 'text_x'] = 1132.0635\n",
    "afghanistan_provinces_df.loc['Panjshir', 'text_y'] = 478.81485\n",
    "afghanistan_provinces_df.loc['Parwan', 'text_x'] = 1018.0577\n",
    "afghanistan_provinces_df.loc['Parwan', 'text_y'] = 536.31799\n",
    "afghanistan_provinces_df.loc['Samangan', 'text_x'] = 915.05078\n",
    "afghanistan_provinces_df.loc['Samangan', 'text_y'] = 388.31021\n",
    "afghanistan_provinces_df.loc['Sar-e Pol', 'text_x'] = 723.04034\n",
    "afghanistan_provinces_df.loc['Sar-e Pol', 'text_y'] = 422.81216\n",
    "afghanistan_provinces_df.loc['Takhar', 'text_x'] = 1138.0631\n",
    "afghanistan_provinces_df.loc['Takhar', 'text_y'] = 294.30481\n",
    "afghanistan_provinces_df.loc['Wardak', 'text_x'] = 957.05383\n",
    "afghanistan_provinces_df.loc['Wardak', 'text_y'] = 602.82227\n",
    "afghanistan_provinces_df.loc['Zabul', 'text_x'] = 833.54633\n",
    "afghanistan_provinces_df.loc['Zabul', 'text_y'] = 896.8385\n",
    "s.store_objects(afghanistan_provinces_df=afghanistan_provinces_df)"
   ]
  },
  {
   "cell_type": "markdown",
   "metadata": {},
   "source": [
    "\n",
    "---"
   ]
  },
  {
   "cell_type": "code",
   "execution_count": 3,
   "metadata": {},
   "outputs": [
    {
     "name": "stdout",
     "output_type": "stream",
     "text": [
      "[(2, (93, 3)), (4, (7, 4)), (3, (9, 3)), (0, (5, 2)), (1, (4, 2))]\n"
     ]
    }
   ],
   "source": [
    "\n",
    "codec_url = 'https://docs.python.org/2/library/codecs.html'\n",
    "page_tables_list = get_page_tables(codec_url)"
   ]
  },
  {
   "cell_type": "code",
   "execution_count": 7,
   "metadata": {},
   "outputs": [
    {
     "data": {
      "text/plain": [
       "['ascii', 'cp037', 'cp437', 'cp863', 'ptcp154', 'utf_32', 'utf_32_be', 'utf_32_le', 'utf_16', 'utf_16_be', 'utf_16_le', 'utf_7', 'utf_8', 'utf_8_sig']"
      ]
     },
     "execution_count": 7,
     "metadata": {},
     "output_type": "execute_result"
    }
   ],
   "source": [
    "\n",
    "codec_df = page_tables_list[2].copy()\n",
    "#print(codec_df.Languages.unique().tolist())\n",
    "match_series = (codec_df.Languages.isin(['English', 'Canadian', 'Kazakh', 'all languages', 'all languages (BMP only)']))\n",
    "codec_df[match_series].Codec.tolist()"
   ]
  },
  {
   "cell_type": "code",
   "execution_count": null,
   "metadata": {},
   "outputs": [],
   "source": []
  }
 ],
 "metadata": {
  "kernelspec": {
   "display_name": "Python 3",
   "language": "python",
   "name": "python3"
  },
  "language_info": {
   "codemirror_mode": {
    "name": "ipython",
    "version": 3
   },
   "file_extension": ".py",
   "mimetype": "text/x-python",
   "name": "python",
   "nbconvert_exporter": "python",
   "pygments_lexer": "ipython3",
   "version": "3.7.6"
  }
 },
 "nbformat": 4,
 "nbformat_minor": 4
}
