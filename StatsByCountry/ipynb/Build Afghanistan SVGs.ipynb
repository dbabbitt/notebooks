{
 "cells": [
  {
   "cell_type": "code",
   "execution_count": null,
   "metadata": {},
   "outputs": [],
   "source": []
  },
  {
   "cell_type": "code",
   "execution_count": 1,
   "metadata": {},
   "outputs": [],
   "source": [
    "\n",
    "import sys\n",
    "\n",
    "# Insert at 1, 0 is the script path (or '' in REPL)\n",
    "sys.path.insert(1, '../py')"
   ]
  },
  {
   "cell_type": "code",
   "execution_count": 2,
   "metadata": {},
   "outputs": [
    {
     "name": "stdout",
     "output_type": "stream",
     "text": [
      "Pretty printing has been turned OFF\n",
      "D:\\Documents\\Repositories\\notebooks\\StatsByCountry\\ipynb\\Build Afghanistan SVGs.ipynb\n",
      "['s.attempt_to_pickle', 's.data_csv_folder', 's.data_folder', 's.encoding_type', 's.load_csv', 's.load_dataframes', 's.load_object', 's.save_dataframes', 's.saves_csv_folder', 's.saves_folder', 's.saves_pickle_folder', 's.store_objects']\n",
      "['c.axes_str', 'c.clean_up_state_common_dict', 'c.clean_up_state_merge_dataframe', 'c.clean_up_state_unique_dict', 'c.clean_up_suggestion_list_dict', 'c.column_description_dict', 'c.conjunctify_list', 'c.copy_file_path', 'c.create_label_line_file', 'c.create_state_first_dict', 'c.create_us_colored_labeled_map', 'c.create_us_colored_map', 'c.create_us_google_suggest_labeled_map', 'c.create_us_labeled_map', 'c.figure_str', 'c.fill_style_prefix', 'c.fill_style_str', 'c.get_colorbar_xml', 'c.get_column_description', 'c.get_google_suggestion_list', 'c.get_legend_xml', 'c.get_style_list', 'c.get_tfidf_lists', 'c.get_tspan_list', 'c.gradient_file_path', 'c.gradient_str', 'c.html_style_str', 'c.hyphen_dict', 'c.hyphenate_words', 'c.l_str', 'c.label_line_file_path', 'c.label_line_style_dict', 'c.label_line_style_list', 'c.label_str', 'c.label_text_style_list', 'c.label_tspan_style_list', 'c.line_height', 'c.matplotlib_axis_str', 'c.namedview_attributes_list', 'c.regex_sub_str', 'c.scrape_suggestion_list_dictionary', 'c.show_colorbar', 'c.state_common_dict', 'c.state_first_dict', 'c.country_stats_df', 'c.state_path_str', 'c.state_unique_dict', 'c.suggestion_list_dict', 'c.svg_attributes_list', 'c.svg_dir', 'c.svg_prefix_str', 'c.svg_regex', 'c.svg_suffix', 'c.t_str', 'c.text_style_dict', 'c.text_style_list', 'c.tick_text_str', 'c.tick_text_style_list', 'c.tick_tspan_style_list', 'c.trim_d_path', 'c.ts_str', 'c.ytick_str']\n"
     ]
    },
    {
     "data": {
      "text/plain": [
       "['Config', 'In', 'Out', 'RandomForestClassifier', 'SequenceMatcher', '_', '__', '___', '__builtin__', '__builtins__', '__doc__', '__loader__', '__name__', '__nonzero__', '__package__', '__spec__', '_dh', '_i', '_i1', '_i2', '_ih', '_ii', '_iii', '_oh', 'afghanistan_provinces_df', 'c', 'check_4_doubles', 'check_for_typos', 'choropleth_utils', 'conjunctify_list', 'encoding', 'et', 'example_iterrows', 'exit', 'filepath_regex', 'get_classifier', 'get_column_descriptions', 'get_data_structs_df', 'get_datastructure_prediction', 'get_dir_tree', 'get_importances', 'get_input_sample', 'get_ipython', 'get_max_rsquared_adj', 'get_module_version', 'get_notebook_path', 'get_page_tables', 'get_struct_name', 'io', 'ipykernel', 'json', 'jupyter_config_dir', 'math', 'notebook_path', 'notebookapp', 'np', 'os', 'pd', 'plt', 'preprocess_data', 'quit', 're', 's', 'similar', 'sm', 'sns', 'stats', 'storage', 'sys', 'text_editor_path', 'time', 'url_regex', 'urllib', 'xml']"
      ]
     },
     "execution_count": 2,
     "metadata": {},
     "output_type": "execute_result"
    }
   ],
   "source": [
    "\n",
    "import choropleth_utils\n",
    "import storage\n",
    "import numpy as np\n",
    "%run ../../load_magic/environment.py\n",
    "%run ../../load_magic/dataframes.py\n",
    "%run ../../load_magic/lists.py\n",
    "%pprint\n",
    "\n",
    "notebook_path = get_notebook_path()\n",
    "print(notebook_path)\n",
    "s = storage.Storage()\n",
    "print(['s.{}'.format(fn) for fn in dir(s) if not fn.startswith('_')])\n",
    "afghanistan_provinces_df = s.load_object('afghanistan_provinces_df')\n",
    "c = choropleth_utils.ChoroplethUtilities()\n",
    "print(['c.{}'.format(fn) for fn in dir(c) if not fn.startswith('_')])\n",
    "et = choropleth_utils.et\n",
    "xml = choropleth_utils.xml\n",
    "text_editor_path = r'C:\\Program Files\\Notepad++\\notepad++.exe'\n",
    "dir()"
   ]
  },
  {
   "cell_type": "code",
   "execution_count": 21,
   "metadata": {},
   "outputs": [
    {
     "data": {
      "text/plain": [
       "'iso_3166_code'"
      ]
     },
     "execution_count": 21,
     "metadata": {},
     "output_type": "execute_result"
    }
   ],
   "source": [
    "\n",
    "'_'.join('ISO 3166 code'.lower().split(' '))"
   ]
  },
  {
   "cell_type": "code",
   "execution_count": 20,
   "metadata": {},
   "outputs": [
    {
     "name": "stdout",
     "output_type": "stream",
     "text": [
      "\n",
      "      <g\n",
      "         id=\"matplotlib.axis-colorbar\"\n",
      "         style=\"stroke-linecap:butt;stroke-linejoin:round\"\n",
      "         inkscape:label=\"Axis Text\">{}\n",
      "      </g>\n"
     ]
    }
   ],
   "source": [
    "\n",
    "print(c.matplotlib_axis_str)"
   ]
  },
  {
   "cell_type": "code",
   "execution_count": 3,
   "metadata": {},
   "outputs": [
    {
     "data": {
      "text/html": [
       "<div>\n",
       "<style scoped>\n",
       "    .dataframe tbody tr th:only-of-type {\n",
       "        vertical-align: middle;\n",
       "    }\n",
       "\n",
       "    .dataframe tbody tr th {\n",
       "        vertical-align: top;\n",
       "    }\n",
       "\n",
       "    .dataframe thead th {\n",
       "        text-align: right;\n",
       "    }\n",
       "</style>\n",
       "<table border=\"1\" class=\"dataframe\">\n",
       "  <thead>\n",
       "    <tr style=\"text-align: right;\">\n",
       "      <th></th>\n",
       "      <th>Capital</th>\n",
       "      <th># Districts</th>\n",
       "      <th>total_area_sq_km</th>\n",
       "      <th>Total Area</th>\n",
       "      <th>Country</th>\n",
       "      <th>Centers</th>\n",
       "      <th>density_per_sq_mi</th>\n",
       "      <th>Largest city</th>\n",
       "      <th>Main languages</th>\n",
       "    </tr>\n",
       "  </thead>\n",
       "  <tbody>\n",
       "    <tr>\n",
       "      <th>Bamyan</th>\n",
       "      <td>Bamyan</td>\n",
       "      <td>7</td>\n",
       "      <td>14175</td>\n",
       "      <td>14,175 km 2 (5,473 sq mi)</td>\n",
       "      <td>Afghanistan</td>\n",
       "      <td>Bamyan</td>\n",
       "      <td>78</td>\n",
       "      <td>Waras</td>\n",
       "      <td>Dari ( Hazaragi dialect )</td>\n",
       "    </tr>\n",
       "    <tr>\n",
       "      <th>Jowzjan</th>\n",
       "      <td>Sheberghan</td>\n",
       "      <td>9</td>\n",
       "      <td>11798.3</td>\n",
       "      <td>11,798.3 km 2 (4,555.3 sq mi)</td>\n",
       "      <td>Afghanistan</td>\n",
       "      <td>Sheberghan</td>\n",
       "      <td>120</td>\n",
       "      <td>Sheberghān</td>\n",
       "      <td>Dari Uzbek Turkmen</td>\n",
       "    </tr>\n",
       "    <tr>\n",
       "      <th>Urozgan</th>\n",
       "      <td>Tarinkot</td>\n",
       "      <td>6</td>\n",
       "      <td>12640</td>\n",
       "      <td>12,640 km 2 (4,880 sq mi)</td>\n",
       "      <td>Afghanistan</td>\n",
       "      <td>Tarinkot</td>\n",
       "      <td>68</td>\n",
       "      <td>Tarīnkōṭ</td>\n",
       "      <td>Pashto and Persian</td>\n",
       "    </tr>\n",
       "    <tr>\n",
       "      <th>Nimruz</th>\n",
       "      <td>Zaranj</td>\n",
       "      <td>5</td>\n",
       "      <td>41356</td>\n",
       "      <td>41,356 km 2 (15,968 sq mi)</td>\n",
       "      <td>Afghanistan</td>\n",
       "      <td>Zaranj</td>\n",
       "      <td>9.8</td>\n",
       "      <td>Zaranj</td>\n",
       "      <td>Dari Pashto Balochi</td>\n",
       "    </tr>\n",
       "    <tr>\n",
       "      <th>Ghor</th>\n",
       "      <td>Firuzkoh</td>\n",
       "      <td>10</td>\n",
       "      <td>36478.8</td>\n",
       "      <td>36,478.8 km 2 (14,084.5 sq mi)</td>\n",
       "      <td>Afghanistan</td>\n",
       "      <td>Chaghcharan</td>\n",
       "      <td>50</td>\n",
       "      <td>Chaghcharān</td>\n",
       "      <td>Hazaragi Dari</td>\n",
       "    </tr>\n",
       "  </tbody>\n",
       "</table>\n",
       "</div>"
      ],
      "text/plain": [
       "            Capital # Districts total_area_sq_km  \\\n",
       "Bamyan       Bamyan           7            14175   \n",
       "Jowzjan  Sheberghan           9          11798.3   \n",
       "Urozgan    Tarinkot           6            12640   \n",
       "Nimruz       Zaranj           5            41356   \n",
       "Ghor       Firuzkoh          10          36478.8   \n",
       "\n",
       "                             Total Area      Country      Centers  \\\n",
       "Bamyan        14,175 km 2 (5,473 sq mi)  Afghanistan       Bamyan   \n",
       "Jowzjan   11,798.3 km 2 (4,555.3 sq mi)  Afghanistan   Sheberghan   \n",
       "Urozgan       12,640 km 2 (4,880 sq mi)  Afghanistan     Tarinkot   \n",
       "Nimruz       41,356 km 2 (15,968 sq mi)  Afghanistan       Zaranj   \n",
       "Ghor     36,478.8 km 2 (14,084.5 sq mi)  Afghanistan  Chaghcharan   \n",
       "\n",
       "        density_per_sq_mi Largest city             Main languages  \n",
       "Bamyan                 78        Waras  Dari ( Hazaragi dialect )  \n",
       "Jowzjan               120   Sheberghān         Dari Uzbek Turkmen  \n",
       "Urozgan                68     Tarīnkōṭ         Pashto and Persian  \n",
       "Nimruz                9.8       Zaranj        Dari Pashto Balochi  \n",
       "Ghor                   50  Chaghcharān              Hazaragi Dari  "
      ]
     },
     "execution_count": 3,
     "metadata": {},
     "output_type": "execute_result"
    }
   ],
   "source": [
    "\n",
    "afghanistan_provinces_df.sample(5).T.sample(9).T"
   ]
  },
  {
   "cell_type": "code",
   "execution_count": null,
   "metadata": {},
   "outputs": [],
   "source": []
  }
 ],
 "metadata": {
  "kernelspec": {
   "display_name": "Python 3",
   "language": "python",
   "name": "python3"
  },
  "language_info": {
   "codemirror_mode": {
    "name": "ipython",
    "version": 3
   },
   "file_extension": ".py",
   "mimetype": "text/x-python",
   "name": "python",
   "nbconvert_exporter": "python",
   "pygments_lexer": "ipython3",
   "version": "3.7.6"
  }
 },
 "nbformat": 4,
 "nbformat_minor": 4
}
