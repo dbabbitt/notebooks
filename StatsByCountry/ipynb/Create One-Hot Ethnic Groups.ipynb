{
 "cells": [
  {
   "cell_type": "code",
   "execution_count": null,
   "metadata": {},
   "outputs": [],
   "source": []
  },
  {
   "cell_type": "code",
   "execution_count": 1,
   "metadata": {},
   "outputs": [],
   "source": [
    "\n",
    "import sys\n",
    "\n",
    "# Insert at 1, 0 is the script path (or '' in REPL)\n",
    "sys.path.insert(1, '../py')"
   ]
  },
  {
   "cell_type": "code",
   "execution_count": 2,
   "metadata": {},
   "outputs": [
    {
     "name": "stdout",
     "output_type": "stream",
     "text": [
      "Pretty printing has been turned OFF\n",
      "D:\\Documents\\Repositories\\notebooks\\StatsByCountry\\ipynb\\Build Afghanistan SVGs.ipynb\n",
      "['s.attempt_to_pickle', 's.data_csv_folder', 's.data_folder', 's.encoding_type', 's.load_csv', 's.load_dataframes', 's.load_object', 's.save_dataframes', 's.saves_csv_folder', 's.saves_folder', 's.saves_pickle_folder', 's.store_objects']\n"
     ]
    },
    {
     "data": {
      "text/plain": [
       "['Config', 'In', 'Out', 'RandomForestClassifier', 'SequenceMatcher', '_', '__', '___', '__builtin__', '__builtins__', '__doc__', '__loader__', '__name__', '__nonzero__', '__package__', '__spec__', '_dh', '_i', '_i1', '_i2', '_ih', '_ii', '_iii', '_oh', 'afghanistan_provinces_df', 'check_4_doubles', 'check_for_typos', 'conjunctify_list', 'encoding', 'example_iterrows', 'exit', 'filepath_regex', 'get_classifier', 'get_column_descriptions', 'get_data_structs_df', 'get_datastructure_prediction', 'get_dir_tree', 'get_importances', 'get_input_sample', 'get_ipython', 'get_max_rsquared_adj', 'get_module_version', 'get_notebook_path', 'get_page_tables', 'get_struct_name', 'io', 'ipykernel', 'json', 'jupyter_config_dir', 'math', 'notebook_path', 'notebookapp', 'np', 'os', 'pd', 'plt', 'preprocess_data', 'quit', 're', 's', 'similar', 'sm', 'sns', 'stats', 'storage', 'sys', 'text_editor_path', 'time', 'url_regex', 'urllib']"
      ]
     },
     "execution_count": 2,
     "metadata": {},
     "output_type": "execute_result"
    }
   ],
   "source": [
    "\n",
    "import storage\n",
    "import numpy as np\n",
    "%run ../../load_magic/environment.py\n",
    "%run ../../load_magic/dataframes.py\n",
    "%run ../../load_magic/lists.py\n",
    "%pprint\n",
    "\n",
    "notebook_path = get_notebook_path()\n",
    "print(notebook_path)\n",
    "s = storage.Storage()\n",
    "print(['s.{}'.format(fn) for fn in dir(s) if not fn.startswith('_')])\n",
    "afghanistan_provinces_df = s.load_object('afghanistan_provinces_df')\n",
    "text_editor_path = r'C:\\Program Files\\Notepad++\\notepad++.exe'\n",
    "dir()"
   ]
  },
  {
   "cell_type": "code",
   "execution_count": 3,
   "metadata": {},
   "outputs": [
    {
     "data": {
      "text/html": [
       "<div>\n",
       "<style scoped>\n",
       "    .dataframe tbody tr th:only-of-type {\n",
       "        vertical-align: middle;\n",
       "    }\n",
       "\n",
       "    .dataframe tbody tr th {\n",
       "        vertical-align: top;\n",
       "    }\n",
       "\n",
       "    .dataframe thead th {\n",
       "        text-align: right;\n",
       "    }\n",
       "</style>\n",
       "<table border=\"1\" class=\"dataframe\">\n",
       "  <thead>\n",
       "    <tr style=\"text-align: right;\">\n",
       "      <th></th>\n",
       "      <th>Time zone</th>\n",
       "      <th>total_area_sq_mi</th>\n",
       "      <th>total_area_sq_km</th>\n",
       "      <th>License Plate Code</th>\n",
       "      <th>Ethnic groups</th>\n",
       "      <th>Main languages</th>\n",
       "      <th>density_per_sq_km</th>\n",
       "      <th>total_population</th>\n",
       "      <th>Density</th>\n",
       "    </tr>\n",
       "  </thead>\n",
       "  <tbody>\n",
       "    <tr>\n",
       "      <th>Parwan</th>\n",
       "      <td>UTC+04:30 (AST)</td>\n",
       "      <td>2307</td>\n",
       "      <td>5974</td>\n",
       "      <td>PRN</td>\n",
       "      <td>Pashtun, Tajik, and Hazara</td>\n",
       "      <td>Dari and Pashto [2]</td>\n",
       "      <td>110</td>\n",
       "      <td>664502</td>\n",
       "      <td>110/km 2 (290/sq mi)</td>\n",
       "    </tr>\n",
       "    <tr>\n",
       "      <th>Balkh</th>\n",
       "      <td>UTC+04:30 (AST)</td>\n",
       "      <td>6249.6</td>\n",
       "      <td>16186.3</td>\n",
       "      <td>BLH</td>\n",
       "      <td>Pashtun, Tajik, Hazara, Uzbek, Turkmen, and Arab</td>\n",
       "      <td>Dari-Persian , Pashto , Uzbek , Turkmen</td>\n",
       "      <td>77</td>\n",
       "      <td>1245100</td>\n",
       "      <td>77/km 2 (200/sq mi)</td>\n",
       "    </tr>\n",
       "    <tr>\n",
       "      <th>Badakhshan</th>\n",
       "      <td>UTC+04:30 (AST)</td>\n",
       "      <td>17011</td>\n",
       "      <td>44059</td>\n",
       "      <td>BDN</td>\n",
       "      <td>Pashtun, Tajik, Hazara, Uzbek, and Baloch</td>\n",
       "      <td>Dari , Khowar , Kyrgyz , Shughni , Munji , Ish...</td>\n",
       "      <td>21</td>\n",
       "      <td>904700</td>\n",
       "      <td>21/km 2 (53/sq mi)</td>\n",
       "    </tr>\n",
       "    <tr>\n",
       "      <th>Bamyan</th>\n",
       "      <td>UTC+04:30 (AST)</td>\n",
       "      <td>5473</td>\n",
       "      <td>14175</td>\n",
       "      <td>BAM</td>\n",
       "      <td>Hazara and Tajik</td>\n",
       "      <td>Dari ( Hazaragi dialect )</td>\n",
       "      <td>30</td>\n",
       "      <td>425500</td>\n",
       "      <td>30/km 2 (78/sq mi)</td>\n",
       "    </tr>\n",
       "    <tr>\n",
       "      <th>Nimruz</th>\n",
       "      <td>UTC+04:30 (AST)</td>\n",
       "      <td>15968</td>\n",
       "      <td>41356</td>\n",
       "      <td>NRZ</td>\n",
       "      <td>Pashtun, Tajik, Hazara, Baloch, and Brahawi</td>\n",
       "      <td>Dari Pashto Balochi</td>\n",
       "      <td>3.8</td>\n",
       "      <td>156600</td>\n",
       "      <td>3.8/km 2 (9.8/sq mi)</td>\n",
       "    </tr>\n",
       "  </tbody>\n",
       "</table>\n",
       "</div>"
      ],
      "text/plain": [
       "                  Time zone total_area_sq_mi total_area_sq_km  \\\n",
       "Parwan      UTC+04:30 (AST)             2307             5974   \n",
       "Balkh       UTC+04:30 (AST)           6249.6          16186.3   \n",
       "Badakhshan  UTC+04:30 (AST)            17011            44059   \n",
       "Bamyan      UTC+04:30 (AST)             5473            14175   \n",
       "Nimruz      UTC+04:30 (AST)            15968            41356   \n",
       "\n",
       "           License Plate Code  \\\n",
       "Parwan                    PRN   \n",
       "Balkh                     BLH   \n",
       "Badakhshan                BDN   \n",
       "Bamyan                    BAM   \n",
       "Nimruz                    NRZ   \n",
       "\n",
       "                                               Ethnic groups  \\\n",
       "Parwan                            Pashtun, Tajik, and Hazara   \n",
       "Balkh       Pashtun, Tajik, Hazara, Uzbek, Turkmen, and Arab   \n",
       "Badakhshan         Pashtun, Tajik, Hazara, Uzbek, and Baloch   \n",
       "Bamyan                                      Hazara and Tajik   \n",
       "Nimruz           Pashtun, Tajik, Hazara, Baloch, and Brahawi   \n",
       "\n",
       "                                               Main languages  \\\n",
       "Parwan                                    Dari and Pashto [2]   \n",
       "Balkh                 Dari-Persian , Pashto , Uzbek , Turkmen   \n",
       "Badakhshan  Dari , Khowar , Kyrgyz , Shughni , Munji , Ish...   \n",
       "Bamyan                              Dari ( Hazaragi dialect )   \n",
       "Nimruz                                    Dari Pashto Balochi   \n",
       "\n",
       "           density_per_sq_km total_population               Density  \n",
       "Parwan                   110           664502  110/km 2 (290/sq mi)  \n",
       "Balkh                     77          1245100   77/km 2 (200/sq mi)  \n",
       "Badakhshan                21           904700    21/km 2 (53/sq mi)  \n",
       "Bamyan                    30           425500    30/km 2 (78/sq mi)  \n",
       "Nimruz                   3.8           156600  3.8/km 2 (9.8/sq mi)  "
      ]
     },
     "execution_count": 3,
     "metadata": {},
     "output_type": "execute_result"
    }
   ],
   "source": [
    "\n",
    "afghanistan_provinces_df.sample(5).T.sample(9).T"
   ]
  },
  {
   "cell_type": "code",
   "execution_count": null,
   "metadata": {},
   "outputs": [],
   "source": []
  }
 ],
 "metadata": {
  "kernelspec": {
   "display_name": "Python 3",
   "language": "python",
   "name": "python3"
  },
  "language_info": {
   "codemirror_mode": {
    "name": "ipython",
    "version": 3
   },
   "file_extension": ".py",
   "mimetype": "text/x-python",
   "name": "python",
   "nbconvert_exporter": "python",
   "pygments_lexer": "ipython3",
   "version": "3.7.6"
  }
 },
 "nbformat": 4,
 "nbformat_minor": 4
}
