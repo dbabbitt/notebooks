{
 "cells": [
  {
   "cell_type": "code",
   "execution_count": null,
   "metadata": {
    "collapsed": false,
    "jupyter": {
     "outputs_hidden": false
    }
   },
   "outputs": [],
   "source": [
    "%matplotlib inline"
   ]
  },
  {
   "cell_type": "markdown",
   "metadata": {},
   "source": [
    "\n",
    "********************************\n",
    "Choosing Colormaps in Matplotlib\n",
    "********************************\n",
    "\n",
    "Matplotlib has a number of built-in colormaps accessible via\n",
    "`.matplotlib.cm.get_cmap`.  There are also external libraries like\n",
    "[palettable]_ and [colorcet]_ that have many extra colormaps.\n",
    "Here we briefly discuss how to choose between the many options.  For\n",
    "help on creating your own colormaps, see\n",
    ":doc:`/tutorials/colors/colormap-manipulation`.\n",
    "\n",
    "Overview\n",
    "========\n",
    "\n",
    "The idea behind choosing a good colormap is to find a good representation in 3D\n",
    "colorspace for your data set. The best colormap for any given data set depends\n",
    "on many things including:\n",
    "\n",
    "- Whether representing form or metric data ([Ware]_)\n",
    "\n",
    "- Your knowledge of the data set (*e.g.*, is there a critical value\n",
    "  from which the other values deviate?)\n",
    "\n",
    "- If there is an intuitive color scheme for the parameter you are plotting\n",
    "\n",
    "- If there is a standard in the field the audience may be expecting\n",
    "\n",
    "For many applications, a perceptually uniform colormap is the best\n",
    "choice --- one in which equal steps in data are perceived as equal\n",
    "steps in the color space. Researchers have found that the human brain\n",
    "perceives changes in the lightness parameter as changes in the data\n",
    "much better than, for example, changes in hue. Therefore, colormaps\n",
    "which have monotonically increasing lightness through the colormap\n",
    "will be better interpreted by the viewer. A wonderful example of\n",
    "perceptually uniform colormaps is [colorcet]_.\n",
    "\n",
    "Color can be represented in 3D space in various ways. One way to represent color\n",
    "is using CIELAB. In CIELAB, color space is represented by lightness,\n",
    "$L^*$; red-green, $a^*$; and yellow-blue, $b^*$. The lightness\n",
    "parameter $L^*$ can then be used to learn more about how the matplotlib\n",
    "colormaps will be perceived by viewers.\n",
    "\n",
    "An excellent starting resource for learning about human perception of colormaps\n",
    "is from [IBM]_.\n",
    "\n",
    "\n",
    "Classes of colormaps\n",
    "====================\n",
    "\n",
    "Colormaps are often split into several categories based on their function (see,\n",
    "*e.g.*, [Moreland]_):\n",
    "\n",
    "1. Sequential: change in lightness and often saturation of color\n",
    "   incrementally, often using a single hue; should be used for\n",
    "   representing information that has ordering.\n",
    "\n",
    "2. Diverging: change in lightness and possibly saturation of two\n",
    "   different colors that meet in the middle at an unsaturated color;\n",
    "   should be used when the information being plotted has a critical\n",
    "   middle value, such as topography or when the data deviates around\n",
    "   zero.\n",
    "\n",
    "3. Cyclic: change in lightness of two different colors that meet in\n",
    "   the middle and beginning/end at an unsaturated color; should be\n",
    "   used for values that wrap around at the endpoints, such as phase\n",
    "   angle, wind direction, or time of day.\n",
    "\n",
    "4. Qualitative: often are miscellaneous colors; should be used to\n",
    "   represent information which does not have ordering or\n",
    "   relationships.\n"
   ]
  },
  {
   "cell_type": "code",
   "execution_count": null,
   "metadata": {
    "collapsed": false,
    "jupyter": {
     "outputs_hidden": false
    }
   },
   "outputs": [],
   "source": [
    "# sphinx_gallery_thumbnail_number = 2\n",
    "\n",
    "import numpy as np\n",
    "import matplotlib as mpl\n",
    "import matplotlib.pyplot as plt\n",
    "from matplotlib import cm\n",
    "from colorspacious import cspace_converter\n",
    "from collections import OrderedDict\n",
    "\n",
    "cmaps = OrderedDict()"
   ]
  },
  {
   "cell_type": "markdown",
   "metadata": {},
   "source": [
    "Sequential\n",
    "----------\n",
    "\n",
    "For the Sequential plots, the lightness value increases monotonically through\n",
    "the colormaps. This is good. Some of the $L^*$ values in the colormaps\n",
    "span from 0 to 100 (binary and the other grayscale), and others start around\n",
    "$L^*=20$. Those that have a smaller range of $L^*$ will accordingly\n",
    "have a smaller perceptual range. Note also that the $L^*$ function varies\n",
    "amongst the colormaps: some are approximately linear in $L^*$ and others\n",
    "are more curved.\n",
    "\n"
   ]
  },
  {
   "cell_type": "code",
   "execution_count": null,
   "metadata": {
    "collapsed": false,
    "jupyter": {
     "outputs_hidden": false
    }
   },
   "outputs": [],
   "source": [
    "cmaps['Perceptually Uniform Sequential'] = [\n",
    "            'viridis', 'plasma', 'inferno', 'magma', 'cividis']\n",
    "\n",
    "cmaps['Sequential'] = [\n",
    "            'Greys', 'Purples', 'Blues', 'Greens', 'Oranges', 'Reds',\n",
    "            'YlOrBr', 'YlOrRd', 'OrRd', 'PuRd', 'RdPu', 'BuPu',\n",
    "            'GnBu', 'PuBu', 'YlGnBu', 'PuBuGn', 'BuGn', 'YlGn']"
   ]
  },
  {
   "cell_type": "markdown",
   "metadata": {},
   "source": [
    "Sequential2\n",
    "-----------\n",
    "\n",
    "Many of the $L^*$ values from the Sequential2 plots are monotonically\n",
    "increasing, but some (autumn, cool, spring, and winter) plateau or even go both\n",
    "up and down in $L^*$ space. Others (afmhot, copper, gist_heat, and hot)\n",
    "have kinks in the $L^*$ functions. Data that is being represented in a\n",
    "region of the colormap that is at a plateau or kink will lead to a perception of\n",
    "banding of the data in those values in the colormap (see [mycarta-banding]_ for\n",
    "an excellent example of this).\n",
    "\n"
   ]
  },
  {
   "cell_type": "code",
   "execution_count": null,
   "metadata": {
    "collapsed": false,
    "jupyter": {
     "outputs_hidden": false
    }
   },
   "outputs": [],
   "source": [
    "cmaps['Sequential (2)'] = [\n",
    "            'binary', 'gist_yarg', 'gist_gray', 'gray', 'bone', 'pink',\n",
    "            'spring', 'summer', 'autumn', 'winter', 'cool', 'Wistia',\n",
    "            'hot', 'afmhot', 'gist_heat', 'copper']"
   ]
  },
  {
   "cell_type": "markdown",
   "metadata": {},
   "source": [
    "Diverging\n",
    "---------\n",
    "\n",
    "For the Diverging maps, we want to have monotonically increasing $L^*$\n",
    "values up to a maximum, which should be close to $L^*=100$, followed by\n",
    "monotonically decreasing $L^*$ values. We are looking for approximately\n",
    "equal minimum $L^*$ values at opposite ends of the colormap. By these\n",
    "measures, BrBG and RdBu are good options. coolwarm is a good option, but it\n",
    "doesn't span a wide range of $L^*$ values (see grayscale section below).\n",
    "\n"
   ]
  },
  {
   "cell_type": "code",
   "execution_count": null,
   "metadata": {
    "collapsed": false,
    "jupyter": {
     "outputs_hidden": false
    }
   },
   "outputs": [],
   "source": [
    "cmaps['Diverging'] = [\n",
    "            'PiYG', 'PRGn', 'BrBG', 'PuOr', 'RdGy', 'RdBu',\n",
    "            'RdYlBu', 'RdYlGn', 'Spectral', 'coolwarm', 'bwr', 'seismic']"
   ]
  },
  {
   "cell_type": "markdown",
   "metadata": {},
   "source": [
    "Cyclic\n",
    "------\n",
    "\n",
    "For Cyclic maps, we want to start and end on the same color, and meet a\n",
    "symmetric center point in the middle. $L^*$ should change monotonically\n",
    "from start to middle, and inversely from middle to end. It should be symmetric\n",
    "on the increasing and decreasing side, and only differ in hue. At the ends and\n",
    "middle, $L^*$ will reverse direction, which should be smoothed in\n",
    "$L^*$ space to reduce artifacts. See [kovesi-colormaps]_ for more\n",
    "information on the design of cyclic maps.\n",
    "\n",
    "The often-used HSV colormap is included in this set of colormaps, although it\n",
    "is not symmetric to a center point. Additionally, the $L^*$ values vary\n",
    "widely throughout the colormap, making it a poor choice for representing data\n",
    "for viewers to see perceptually. See an extension on this idea at\n",
    "[mycarta-jet]_.\n",
    "\n"
   ]
  },
  {
   "cell_type": "code",
   "execution_count": null,
   "metadata": {
    "collapsed": false,
    "jupyter": {
     "outputs_hidden": false
    }
   },
   "outputs": [],
   "source": [
    "cmaps['Cyclic'] = ['twilight', 'twilight_shifted', 'hsv']"
   ]
  },
  {
   "cell_type": "markdown",
   "metadata": {},
   "source": [
    "Qualitative\n",
    "-----------\n",
    "\n",
    "Qualitative colormaps are not aimed at being perceptual maps, but looking at the\n",
    "lightness parameter can verify that for us. The $L^*$ values move all over\n",
    "the place throughout the colormap, and are clearly not monotonically increasing.\n",
    "These would not be good options for use as perceptual colormaps.\n",
    "\n"
   ]
  },
  {
   "cell_type": "code",
   "execution_count": null,
   "metadata": {
    "collapsed": false,
    "jupyter": {
     "outputs_hidden": false
    }
   },
   "outputs": [],
   "source": [
    "cmaps['Qualitative'] = ['Pastel1', 'Pastel2', 'Paired', 'Accent',\n",
    "                        'Dark2', 'Set1', 'Set2', 'Set3',\n",
    "                        'tab10', 'tab20', 'tab20b', 'tab20c']"
   ]
  },
  {
   "cell_type": "markdown",
   "metadata": {},
   "source": [
    "Miscellaneous\n",
    "-------------\n",
    "\n",
    "Some of the miscellaneous colormaps have particular uses for which\n",
    "they have been created. For example, gist_earth, ocean, and terrain\n",
    "all seem to be created for plotting topography (green/brown) and water\n",
    "depths (blue) together. We would expect to see a divergence in these\n",
    "colormaps, then, but multiple kinks may not be ideal, such as in\n",
    "gist_earth and terrain. CMRmap was created to convert well to\n",
    "grayscale, though it does appear to have some small kinks in\n",
    "$L^*$.  cubehelix was created to vary smoothly in both lightness\n",
    "and hue, but appears to have a small hump in the green hue area.\n",
    "\n",
    "The often-used jet colormap is included in this set of colormaps. We can see\n",
    "that the $L^*$ values vary widely throughout the colormap, making it a\n",
    "poor choice for representing data for viewers to see perceptually. See an\n",
    "extension on this idea at [mycarta-jet]_.\n",
    "\n"
   ]
  },
  {
   "cell_type": "code",
   "execution_count": null,
   "metadata": {
    "collapsed": false,
    "jupyter": {
     "outputs_hidden": false
    }
   },
   "outputs": [],
   "source": [
    "cmaps['Miscellaneous'] = [\n",
    "            'flag', 'prism', 'ocean', 'gist_earth', 'terrain', 'gist_stern',\n",
    "            'gnuplot', 'gnuplot2', 'CMRmap', 'cubehelix', 'brg',\n",
    "            'gist_rainbow', 'rainbow', 'jet', 'nipy_spectral', 'gist_ncar']"
   ]
  },
  {
   "cell_type": "markdown",
   "metadata": {},
   "source": [
    "\n",
    "First, we'll show the range of each colormap. Note that some seem\n",
    "to change more \"quickly\" than others.\n",
    "\n"
   ]
  },
  {
   "cell_type": "code",
   "execution_count": null,
   "metadata": {
    "collapsed": false,
    "jupyter": {
     "outputs_hidden": false
    }
   },
   "outputs": [],
   "source": [
    "nrows = max(len(cmap_list) for cmap_category, cmap_list in cmaps.items())\n",
    "gradient = np.linspace(0, 1, 256)\n",
    "gradient = np.vstack((gradient, gradient))\n",
    "\n",
    "\n",
    "def plot_color_gradients(cmap_category, cmap_list, nrows):\n",
    "    fig, axes = plt.subplots(nrows=nrows)\n",
    "    fig.subplots_adjust(top=0.95, bottom=0.01, left=0.2, right=0.99)\n",
    "    axes[0].set_title(cmap_category + ' colormaps', fontsize=14)\n",
    "\n",
    "    for ax, name in zip(axes, cmap_list):\n",
    "        ax.imshow(gradient, aspect='auto', cmap=plt.get_cmap(name))\n",
    "        pos = list(ax.get_position().bounds)\n",
    "        x_text = pos[0] - 0.01\n",
    "        y_text = pos[1] + pos[3]/2.\n",
    "        fig.text(x_text, y_text, name, va='center', ha='right', fontsize=10)\n",
    "\n",
    "    # Turn off *all* ticks & spines, not just the ones with colormaps.\n",
    "    for ax in axes:\n",
    "        ax.set_axis_off()\n",
    "\n",
    "\n",
    "for cmap_category, cmap_list in cmaps.items():\n",
    "    plot_color_gradients(cmap_category, cmap_list, nrows)\n",
    "\n",
    "plt.show()"
   ]
  },
  {
   "cell_type": "markdown",
   "metadata": {},
   "source": [
    "Lightness of matplotlib colormaps\n",
    "=================================\n",
    "\n",
    "Here we examine the lightness values of the matplotlib colormaps.\n",
    "Note that some documentation on the colormaps is available\n",
    "([list-colormaps]_).\n",
    "\n"
   ]
  },
  {
   "cell_type": "code",
   "execution_count": null,
   "metadata": {
    "collapsed": false,
    "jupyter": {
     "outputs_hidden": false
    }
   },
   "outputs": [],
   "source": [
    "mpl.rcParams.update({'font.size': 12})\n",
    "\n",
    "# Number of colormap per subplot for particular cmap categories\n",
    "_DSUBS = {'Perceptually Uniform Sequential': 5, 'Sequential': 6,\n",
    "          'Sequential (2)': 6, 'Diverging': 6, 'Cyclic': 3,\n",
    "          'Qualitative': 4, 'Miscellaneous': 6}\n",
    "\n",
    "# Spacing between the colormaps of a subplot\n",
    "_DC = {'Perceptually Uniform Sequential': 1.4, 'Sequential': 0.7,\n",
    "       'Sequential (2)': 1.4, 'Diverging': 1.4, 'Cyclic': 1.4,\n",
    "       'Qualitative': 1.4, 'Miscellaneous': 1.4}\n",
    "\n",
    "# Indices to step through colormap\n",
    "x = np.linspace(0.0, 1.0, 100)\n",
    "\n",
    "# Do plot\n",
    "for cmap_category, cmap_list in cmaps.items():\n",
    "\n",
    "    # Do subplots so that colormaps have enough space.\n",
    "    # Default is 6 colormaps per subplot.\n",
    "    dsub = _DSUBS.get(cmap_category, 6)\n",
    "    nsubplots = int(np.ceil(len(cmap_list) / dsub))\n",
    "\n",
    "    # squeeze=False to handle similarly the case of a single subplot\n",
    "    fig, axes = plt.subplots(nrows=nsubplots, squeeze=False,\n",
    "                             figsize=(7, 2.6*nsubplots))\n",
    "\n",
    "    for i, ax in enumerate(axes.flat):\n",
    "\n",
    "        locs = []  # locations for text labels\n",
    "\n",
    "        for j, cmap in enumerate(cmap_list[i*dsub:(i+1)*dsub]):\n",
    "\n",
    "            # Get RGB values for colormap and convert the colormap in\n",
    "            # CAM02-UCS colorspace.  lab[0, :, 0] is the lightness.\n",
    "            rgb = cm.get_cmap(cmap)(x)[np.newaxis, :, :3]\n",
    "            lab = cspace_converter(\"sRGB1\", \"CAM02-UCS\")(rgb)\n",
    "\n",
    "            # Plot colormap L values.  Do separately for each category\n",
    "            # so each plot can be pretty.  To make scatter markers change\n",
    "            # color along plot:\n",
    "            # http://stackoverflow.com/questions/8202605/\n",
    "\n",
    "            if cmap_category == 'Sequential':\n",
    "                # These colormaps all start at high lightness but we want them\n",
    "                # reversed to look nice in the plot, so reverse the order.\n",
    "                y_ = lab[0, ::-1, 0]\n",
    "                c_ = x[::-1]\n",
    "            else:\n",
    "                y_ = lab[0, :, 0]\n",
    "                c_ = x\n",
    "\n",
    "            dc = _DC.get(cmap_category, 1.4)  # cmaps horizontal spacing\n",
    "            ax.scatter(x + j*dc, y_, c=c_, cmap=cmap, s=300, linewidths=0.0)\n",
    "\n",
    "            # Store locations for colormap labels\n",
    "            if cmap_category in ('Perceptually Uniform Sequential',\n",
    "                                 'Sequential'):\n",
    "                locs.append(x[-1] + j*dc)\n",
    "            elif cmap_category in ('Diverging', 'Qualitative', 'Cyclic',\n",
    "                                   'Miscellaneous', 'Sequential (2)'):\n",
    "                locs.append(x[int(x.size/2.)] + j*dc)\n",
    "\n",
    "        # Set up the axis limits:\n",
    "        #   * the 1st subplot is used as a reference for the x-axis limits\n",
    "        #   * lightness values goes from 0 to 100 (y-axis limits)\n",
    "        ax.set_xlim(axes[0, 0].get_xlim())\n",
    "        ax.set_ylim(0.0, 100.0)\n",
    "\n",
    "        # Set up labels for colormaps\n",
    "        ax.xaxis.set_ticks_position('top')\n",
    "        ticker = mpl.ticker.FixedLocator(locs)\n",
    "        ax.xaxis.set_major_locator(ticker)\n",
    "        formatter = mpl.ticker.FixedFormatter(cmap_list[i*dsub:(i+1)*dsub])\n",
    "        ax.xaxis.set_major_formatter(formatter)\n",
    "        ax.xaxis.set_tick_params(rotation=50)\n",
    "\n",
    "    ax.set_xlabel(cmap_category + ' colormaps', fontsize=14)\n",
    "    fig.text(0.0, 0.55, 'Lightness $L^*$', fontsize=12,\n",
    "             transform=fig.transFigure, rotation=90)\n",
    "\n",
    "    fig.tight_layout(h_pad=0.0, pad=1.5)\n",
    "    plt.show()"
   ]
  },
  {
   "cell_type": "markdown",
   "metadata": {},
   "source": [
    "Grayscale conversion\n",
    "====================\n",
    "\n",
    "It is important to pay attention to conversion to grayscale for color\n",
    "plots, since they may be printed on black and white printers.  If not\n",
    "carefully considered, your readers may end up with indecipherable\n",
    "plots because the grayscale changes unpredictably through the\n",
    "colormap.\n",
    "\n",
    "Conversion to grayscale is done in many different ways [bw]_. Some of the\n",
    "better ones use a linear combination of the rgb values of a pixel, but\n",
    "weighted according to how we perceive color intensity. A nonlinear method of\n",
    "conversion to grayscale is to use the $L^*$ values of the pixels. In\n",
    "general, similar principles apply for this question as they do for presenting\n",
    "one's information perceptually; that is, if a colormap is chosen that is\n",
    "monotonically increasing in $L^*$ values, it will print in a reasonable\n",
    "manner to grayscale.\n",
    "\n",
    "With this in mind, we see that the Sequential colormaps have reasonable\n",
    "representations in grayscale. Some of the Sequential2 colormaps have decent\n",
    "enough grayscale representations, though some (autumn, spring, summer,\n",
    "winter) have very little grayscale change. If a colormap like this was used\n",
    "in a plot and then the plot was printed to grayscale, a lot of the\n",
    "information may map to the same gray values. The Diverging colormaps mostly\n",
    "vary from darker gray on the outer edges to white in the middle. Some\n",
    "(PuOr and seismic) have noticeably darker gray on one side than the other\n",
    "and therefore are not very symmetric. coolwarm has little range of gray scale\n",
    "and would print to a more uniform plot, losing a lot of detail. Note that\n",
    "overlaid, labeled contours could help differentiate between one side of the\n",
    "colormap vs. the other since color cannot be used once a plot is printed to\n",
    "grayscale. Many of the Qualitative and Miscellaneous colormaps, such as\n",
    "Accent, hsv, and jet, change from darker to lighter and back to darker gray\n",
    "throughout the colormap. This would make it impossible for a viewer to\n",
    "interpret the information in a plot once it is printed in grayscale.\n",
    "\n"
   ]
  },
  {
   "cell_type": "code",
   "execution_count": null,
   "metadata": {
    "collapsed": false,
    "jupyter": {
     "outputs_hidden": false
    }
   },
   "outputs": [],
   "source": [
    "mpl.rcParams.update({'font.size': 14})\n",
    "\n",
    "# Indices to step through colormap.\n",
    "x = np.linspace(0.0, 1.0, 100)\n",
    "\n",
    "gradient = np.linspace(0, 1, 256)\n",
    "gradient = np.vstack((gradient, gradient))\n",
    "\n",
    "\n",
    "def plot_color_gradients(cmap_category, cmap_list):\n",
    "    fig, axes = plt.subplots(nrows=len(cmap_list), ncols=2)\n",
    "    fig.subplots_adjust(top=0.95, bottom=0.01, left=0.2, right=0.99,\n",
    "                        wspace=0.05)\n",
    "    fig.suptitle(cmap_category + ' colormaps', fontsize=14, y=1.0, x=0.6)\n",
    "\n",
    "    for ax, name in zip(axes, cmap_list):\n",
    "\n",
    "        # Get RGB values for colormap.\n",
    "        rgb = cm.get_cmap(plt.get_cmap(name))(x)[np.newaxis, :, :3]\n",
    "\n",
    "        # Get colormap in CAM02-UCS colorspace. We want the lightness.\n",
    "        lab = cspace_converter(\"sRGB1\", \"CAM02-UCS\")(rgb)\n",
    "        L = lab[0, :, 0]\n",
    "        L = np.float32(np.vstack((L, L, L)))\n",
    "\n",
    "        ax[0].imshow(gradient, aspect='auto', cmap=plt.get_cmap(name))\n",
    "        ax[1].imshow(L, aspect='auto', cmap='binary_r', vmin=0., vmax=100.)\n",
    "        pos = list(ax[0].get_position().bounds)\n",
    "        x_text = pos[0] - 0.01\n",
    "        y_text = pos[1] + pos[3]/2.\n",
    "        fig.text(x_text, y_text, name, va='center', ha='right', fontsize=10)\n",
    "\n",
    "    # Turn off *all* ticks & spines, not just the ones with colormaps.\n",
    "    for ax in axes.flat:\n",
    "        ax.set_axis_off()\n",
    "\n",
    "    plt.show()\n",
    "\n",
    "\n",
    "for cmap_category, cmap_list in cmaps.items():\n",
    "\n",
    "    plot_color_gradients(cmap_category, cmap_list)"
   ]
  },
  {
   "cell_type": "markdown",
   "metadata": {},
   "source": [
    "Color vision deficiencies\n",
    "=========================\n",
    "\n",
    "There is a lot of information available about color blindness (*e.g.*,\n",
    "[colorblindness]_). Additionally, there are tools available to convert images\n",
    "to how they look for different types of color vision deficiencies.\n",
    "\n",
    "The most common form of color vision deficiency involves differentiating\n",
    "between red and green. Thus, avoiding colormaps with both red and green will\n",
    "avoid many problems in general.\n",
    "\n",
    "\n",
    "References\n",
    "==========\n",
    "\n",
    ".. [colorcet] https://colorcet.pyviz.org\n",
    ".. [Ware] http://ccom.unh.edu/sites/default/files/publications/Ware_1988_CGA_Color_sequences_univariate_maps.pdf\n",
    ".. [Moreland] http://www.kennethmoreland.com/color-maps/ColorMapsExpanded.pdf\n",
    ".. [list-colormaps] https://gist.github.com/endolith/2719900#id7\n",
    ".. [mycarta-banding] https://mycarta.wordpress.com/2012/10/14/the-rainbow-is-deadlong-live-the-rainbow-part-4-cie-lab-heated-body/\n",
    ".. [mycarta-jet] https://mycarta.wordpress.com/2012/10/06/the-rainbow-is-deadlong-live-the-rainbow-part-3/\n",
    ".. [kovesi-colormaps] https://arxiv.org/abs/1509.03700\n",
    ".. [bw] http://www.tannerhelland.com/3643/grayscale-image-algorithm-vb6/\n",
    ".. [colorblindness] http://www.color-blindness.com/\n",
    ".. [IBM] https://doi.org/10.1109/VISUAL.1995.480803\n",
    ".. [palettable] https://jiffyclub.github.io/palettable/\n",
    "\n"
   ]
  }
 ],
 "metadata": {
  "kernelspec": {
   "display_name": "Python 3",
   "language": "python",
   "name": "python3"
  },
  "language_info": {
   "codemirror_mode": {
    "name": "ipython",
    "version": 3
   },
   "file_extension": ".py",
   "mimetype": "text/x-python",
   "name": "python",
   "nbconvert_exporter": "python",
   "pygments_lexer": "ipython3",
   "version": "3.7.7"
  }
 },
 "nbformat": 4,
 "nbformat_minor": 4
}
