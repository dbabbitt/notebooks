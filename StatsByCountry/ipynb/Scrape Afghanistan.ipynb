{
 "cells": [
  {
   "cell_type": "code",
   "execution_count": null,
   "metadata": {},
   "outputs": [],
   "source": []
  },
  {
   "cell_type": "code",
   "execution_count": 5,
   "metadata": {},
   "outputs": [
    {
     "name": "stdout",
     "output_type": "stream",
     "text": [
      "C:\\Users\\577342\\AppData\\Local\\Continuum\\anaconda3\\python.exe -m pip install --upgrade wikipedia\n",
      "Processing c:\\users\\577342\\appdata\\local\\pip\\cache\\wheels\\87\\2a\\18\\4e471fd96d12114d16fe4a446d00c3b38fb9efcb744bd31f4a\\wikipedia-1.4.0-cp37-none-any.whl\n",
      "Requirement already satisfied, skipping upgrade: beautifulsoup4 in c:\\users\\577342\\appdata\\local\\continuum\\anaconda3\\lib\\site-packages (from wikipedia) (4.8.2)\n",
      "Requirement already satisfied, skipping upgrade: requests<3.0.0,>=2.0.0 in c:\\users\\577342\\appdata\\local\\continuum\\anaconda3\\lib\\site-packages (from wikipedia) (2.22.0)\n",
      "Requirement already satisfied, skipping upgrade: soupsieve>=1.2 in c:\\users\\577342\\appdata\\local\\continuum\\anaconda3\\lib\\site-packages (from beautifulsoup4->wikipedia) (1.9.5)\n",
      "Requirement already satisfied, skipping upgrade: certifi>=2017.4.17 in c:\\users\\577342\\appdata\\local\\continuum\\anaconda3\\lib\\site-packages (from requests<3.0.0,>=2.0.0->wikipedia) (2019.11.28)\n",
      "Requirement already satisfied, skipping upgrade: idna<2.9,>=2.5 in c:\\users\\577342\\appdata\\local\\continuum\\anaconda3\\lib\\site-packages (from requests<3.0.0,>=2.0.0->wikipedia) (2.8)\n",
      "Requirement already satisfied, skipping upgrade: urllib3!=1.25.0,!=1.25.1,<1.26,>=1.21.1 in c:\\users\\577342\\appdata\\local\\continuum\\anaconda3\\lib\\site-packages (from requests<3.0.0,>=2.0.0->wikipedia) (1.25.8)\n",
      "Requirement already satisfied, skipping upgrade: chardet<3.1.0,>=3.0.2 in c:\\users\\577342\\appdata\\local\\continuum\\anaconda3\\lib\\site-packages (from requests<3.0.0,>=2.0.0->wikipedia) (3.0.4)\n",
      "Installing collected packages: wikipedia\n",
      "Successfully installed wikipedia-1.4.0\n"
     ]
    }
   ],
   "source": [
    "\n",
    "command_str = '{sys.executable} -m pip install --upgrade wikipedia'.format(sys=sys)\n",
    "print(command_str)\n",
    "!{command_str}"
   ]
  },
  {
   "cell_type": "code",
   "execution_count": 1,
   "metadata": {},
   "outputs": [],
   "source": [
    "\n",
    "import sys\n",
    "\n",
    "# Insert at 1, 0 is the script path (or '' in REPL)\n",
    "sys.path.insert(1, '../py')"
   ]
  },
  {
   "cell_type": "code",
   "execution_count": 2,
   "metadata": {},
   "outputs": [
    {
     "name": "stdout",
     "output_type": "stream",
     "text": [
      "Pretty printing has been turned OFF\n",
      "D:\\Documents\\Repositories\\notebooks\\StatsByCountry\\ipynb\\Afghanistan.ipynb\n",
      "['c.axes_str', 'c.clean_up_state_common_dict', 'c.clean_up_state_merge_dataframe', 'c.clean_up_state_unique_dict', 'c.clean_up_suggestion_list_dict', 'c.column_description_dict', 'c.conjunctify_list', 'c.copy_file_path', 'c.create_label_line_file', 'c.create_state_first_dict', 'c.create_country_colored_labeled_map', 'c.create_country_colored_map', 'c.create_us_google_suggest_labeled_map', 'c.create_country_labeled_map', 'c.figure_str', 'c.fill_style_prefix', 'c.fill_style_str', 'c.get_colorbar_xml', 'c.get_column_description', 'c.get_google_suggestion_list', 'c.get_legend_xml', 'c.get_style_list', 'c.get_tfidf_lists', 'c.get_tspan_list', 'c.gradient_file_path', 'c.gradient_str', 'c.html_style_str', 'c.hyphen_dict', 'c.hyphenate_words', 'c.l_str', 'c.label_line_file_path', 'c.label_line_style_dict', 'c.label_line_style_list', 'c.label_str', 'c.label_text_style_list', 'c.label_tspan_style_list', 'c.line_height', 'c.matplotlib_axis_str', 'c.namedview_attributes_list', 'c.regex_sub_str', 'c.scrape_suggestion_list_dictionary', 'c.show_colorbar', 'c.state_common_dict', 'c.state_first_dict', 'c.all_countries_df', 'c.state_path_str', 'c.state_unique_dict', 'c.suggestion_list_dict', 'c.svg_attributes_list', 'c.svg_dir', 'c.svg_prefix_str', 'c.svg_regex', 'c.svg_suffix', 'c.t_str', 'c.text_style_dict', 'c.text_style_list', 'c.tick_text_str', 'c.tick_text_style_list', 'c.tick_tspan_style_list', 'c.ts_str', 'c.ytick_str']\n",
      "['u.add_an_episode_note', 'u.cancel_upload_window', 'u.click_another_upload_media_button', 'u.click_external_file_subtab', 'u.click_the_add_new_speaker_button', 'u.click_the_audio_apply_button', 'u.click_the_browse_button', 'u.click_the_close_signin_window_link', 'u.click_the_close_upload_window_link', 'u.click_the_copyright_checkbox', 'u.click_the_edit_media_button', 'u.click_the_edit_overlay', 'u.click_the_first_link', 'u.click_the_member_signin_button', 'u.click_the_new_speaker_checkbox', 'u.click_the_podcasting_tab', 'u.click_the_save_post_button', 'u.click_the_search_button', 'u.click_the_signin_button', 'u.click_the_speaker_selector_button', 'u.click_the_upload_file_subtab', 'u.click_the_upload_media_button', 'u.click_web_element', 'u.create_keywords_file', 'u.driver_get_url', 'u.filepath_regex', 'u.fill_in_field', 'u.fill_in_textarea', 'u.fill_in_the_password_field', 'u.get_contains_list', 'u.get_div', 'u.get_driver', 'u.get_element_contents', 'u.get_last_sunday', 'u.get_mp3_filepath', 'u.get_page_soup', 'u.get_page_tables', 'u.get_speaker_str', 'u.get_web_element', 'u.key_in_search', 'u.move_to', 'u.obscure_regex', 'u.s', 'u.similar', 'u.unobscure_element', 'u.url_regex', 'u.wait_for']\n",
      "['s.attempt_to_pickle', 's.data_csv_folder', 's.data_folder', 's.encoding_type', 's.load_csv', 's.load_dataframes', 's.load_object', 's.save_dataframes', 's.saves_csv_folder', 's.saves_folder', 's.saves_pickle_folder', 's.store_objects']\n"
     ]
    },
    {
     "data": {
      "text/plain": [
       "['ActionChains', 'AudioSegment', 'By', 'Config', 'EC', 'Element', 'Font', 'In', 'Keys', 'Out', 'Path', 'RandomForestClassifier', 'Select', 'SequenceMatcher', 'Storage', 'TfidfVectorizer', 'WebDriverWait', 'Workbook', '_', '__', '___', '__builtin__', '__builtins__', '__doc__', '__loader__', '__name__', '__nonzero__', '__package__', '__spec__', '_dh', '_i', '_i1', '_i2', '_ih', '_ii', '_iii', '_oh', 'bs', 'c', 'choropleth_utils', 'cm', 'copyfile', 'csv', 'datetime', 'et', 'exit', 'get_classifier', 'get_data_structs_df', 'get_datastructure_prediction', 'get_dir_tree', 'get_importances', 'get_input_sample', 'get_ipython', 'get_module_version', 'get_notebook_path', 'get_struct_name', 'ipykernel', 'json', 'jupyter_config_dir', 'load_workbook', 'math', 'mpl', 'notebook_path', 'notebookapp', 'np', 'os', 'pd', 'pickle', 'plt', 'preprocess_data', 'pylab', 'pyphen', 'quit', 'random', 're', 'relativedelta', 's', 'scraping_utils', 'storage', 'sys', 'text_editor_path', 'textwrap', 'time', 'timedelta', 'u', 'urllib', 'urlretrieve', 'webdriver', 'xml']"
      ]
     },
     "execution_count": 2,
     "metadata": {},
     "output_type": "execute_result"
    }
   ],
   "source": [
    "\n",
    "import choropleth_utils\n",
    "import scraping_utils\n",
    "import storage\n",
    "import numpy as np\n",
    "%run ../../load_magic/environment.py\n",
    "%pprint\n",
    "\n",
    "notebook_path = get_notebook_path()\n",
    "print(notebook_path)\n",
    "ActionChains = scraping_utils.ActionChains\n",
    "AudioSegment = scraping_utils.AudioSegment\n",
    "By = scraping_utils.By\n",
    "EC = scraping_utils.EC\n",
    "Element = choropleth_utils.Element\n",
    "Font = scraping_utils.Font\n",
    "Keys = scraping_utils.Keys\n",
    "Path = scraping_utils.Path\n",
    "Select = scraping_utils.Select\n",
    "SequenceMatcher = scraping_utils.SequenceMatcher\n",
    "TfidfVectorizer = choropleth_utils.TfidfVectorizer\n",
    "WebDriverWait = scraping_utils.WebDriverWait\n",
    "Workbook = scraping_utils.Workbook\n",
    "bs = scraping_utils.bs\n",
    "c = choropleth_utils.ChoroplethUtilities()\n",
    "cm = choropleth_utils.cm\n",
    "copyfile = choropleth_utils.copyfile\n",
    "csv = storage.csv\n",
    "datetime = scraping_utils.datetime\n",
    "et = choropleth_utils.et\n",
    "load_workbook = scraping_utils.load_workbook\n",
    "math = scraping_utils.math\n",
    "mpl = choropleth_utils.mpl\n",
    "np = scraping_utils.np\n",
    "os = storage.os\n",
    "pd = storage.pd\n",
    "pickle = storage.pickle\n",
    "plt = choropleth_utils.plt\n",
    "pylab = choropleth_utils.pylab\n",
    "pyphen = choropleth_utils.pyphen\n",
    "random = scraping_utils.random\n",
    "re = scraping_utils.re\n",
    "relativedelta = scraping_utils.relativedelta\n",
    "s = storage.Storage()\n",
    "textwrap = choropleth_utils.textwrap\n",
    "time = scraping_utils.time\n",
    "timedelta = scraping_utils.timedelta\n",
    "u = scraping_utils.ScrapingUtilities()\n",
    "urllib = scraping_utils.urllib\n",
    "urlretrieve = scraping_utils.urlretrieve\n",
    "webdriver = scraping_utils.webdriver\n",
    "wikipedia = scraping_utils.wikipedia\n",
    "xml = choropleth_utils.xml\n",
    "print(['c.{}'.format(fn) for fn in dir(c) if not fn.startswith('_')])\n",
    "print(['u.{}'.format(fn) for fn in dir(u) if not fn.startswith('_')])\n",
    "print(['s.{}'.format(fn) for fn in dir(s) if not fn.startswith('_')])\n",
    "text_editor_path = r'C:\\Program Files\\Notepad++\\notepad++.exe'\n",
    "dir()"
   ]
  },
  {
   "cell_type": "markdown",
   "metadata": {},
   "source": [
    "\n",
    "---\n",
    "# Create Provinces DataFrame"
   ]
  },
  {
   "cell_type": "code",
   "execution_count": 4,
   "metadata": {},
   "outputs": [
    {
     "name": "stdout",
     "output_type": "stream",
     "text": [
      "['wiki_soup.ASCII_SPACES', 'wiki_soup.DEFAULT_BUILDER_FEATURES', 'wiki_soup.NO_PARSER_SPECIFIED_WARNING', 'wiki_soup.ROOT_TAG_NAME', 'wiki_soup.append', 'wiki_soup.attrs', 'wiki_soup.builder', 'wiki_soup.can_be_empty_element', 'wiki_soup.cdata_list_attributes', 'wiki_soup.childGenerator', 'wiki_soup.children', 'wiki_soup.clear', 'wiki_soup.contains_replacement_characters', 'wiki_soup.contents', 'wiki_soup.currentTag', 'wiki_soup.current_data', 'wiki_soup.declared_html_encoding', 'wiki_soup.decode', 'wiki_soup.decode_contents', 'wiki_soup.decompose', 'wiki_soup.descendants', 'wiki_soup.element_classes', 'wiki_soup.encode', 'wiki_soup.encode_contents', 'wiki_soup.endData', 'wiki_soup.extend', 'wiki_soup.extract', 'wiki_soup.fetchNextSiblings', 'wiki_soup.fetchParents', 'wiki_soup.fetchPrevious', 'wiki_soup.fetchPreviousSiblings', 'wiki_soup.find', 'wiki_soup.findAll', 'wiki_soup.findAllNext', 'wiki_soup.findAllPrevious', 'wiki_soup.findChild', 'wiki_soup.findChildren', 'wiki_soup.findNext', 'wiki_soup.findNextSibling', 'wiki_soup.findNextSiblings', 'wiki_soup.findParent', 'wiki_soup.findParents', 'wiki_soup.findPrevious', 'wiki_soup.findPreviousSibling', 'wiki_soup.findPreviousSiblings', 'wiki_soup.find_all', 'wiki_soup.find_all_next', 'wiki_soup.find_all_previous', 'wiki_soup.find_next', 'wiki_soup.find_next_sibling', 'wiki_soup.find_next_siblings', 'wiki_soup.find_parent', 'wiki_soup.find_parents', 'wiki_soup.find_previous', 'wiki_soup.find_previous_sibling', 'wiki_soup.find_previous_siblings', 'wiki_soup.format_string', 'wiki_soup.formatter_for_name', 'wiki_soup.get', 'wiki_soup.getText', 'wiki_soup.get_attribute_list', 'wiki_soup.get_text', 'wiki_soup.handle_data', 'wiki_soup.handle_endtag', 'wiki_soup.handle_starttag', 'wiki_soup.has_attr', 'wiki_soup.has_key', 'wiki_soup.hidden', 'wiki_soup.index', 'wiki_soup.insert', 'wiki_soup.insert_after', 'wiki_soup.insert_before', 'wiki_soup.isSelfClosing', 'wiki_soup.is_empty_element', 'wiki_soup.is_xml', 'wiki_soup.known_xml', 'wiki_soup.markup', 'wiki_soup.name', 'wiki_soup.namespace', 'wiki_soup.new_string', 'wiki_soup.new_tag', 'wiki_soup.next', 'wiki_soup.nextGenerator', 'wiki_soup.nextSibling', 'wiki_soup.nextSiblingGenerator', 'wiki_soup.next_element', 'wiki_soup.next_elements', 'wiki_soup.next_sibling', 'wiki_soup.next_siblings', 'wiki_soup.object_was_parsed', 'wiki_soup.original_encoding', 'wiki_soup.parent', 'wiki_soup.parentGenerator', 'wiki_soup.parents', 'wiki_soup.parse_only', 'wiki_soup.parserClass', 'wiki_soup.parser_class', 'wiki_soup.popTag', 'wiki_soup.prefix', 'wiki_soup.preserve_whitespace_tag_stack', 'wiki_soup.preserve_whitespace_tags', 'wiki_soup.prettify', 'wiki_soup.previous', 'wiki_soup.previousGenerator', 'wiki_soup.previousSibling', 'wiki_soup.previousSiblingGenerator', 'wiki_soup.previous_element', 'wiki_soup.previous_elements', 'wiki_soup.previous_sibling', 'wiki_soup.previous_siblings', 'wiki_soup.pushTag', 'wiki_soup.recursiveChildGenerator', 'wiki_soup.renderContents', 'wiki_soup.replaceWith', 'wiki_soup.replaceWithChildren', 'wiki_soup.replace_with', 'wiki_soup.replace_with_children', 'wiki_soup.reset', 'wiki_soup.select', 'wiki_soup.select_one', 'wiki_soup.setup', 'wiki_soup.smooth', 'wiki_soup.string', 'wiki_soup.strings', 'wiki_soup.stripped_strings', 'wiki_soup.tagStack', 'wiki_soup.text', 'wiki_soup.unwrap', 'wiki_soup.wrap']\n",
      "['page_obj.categories', 'page_obj.content', 'page_obj.coordinates', 'page_obj.html', 'page_obj.images', 'page_obj.links', 'page_obj.original_title', 'page_obj.pageid', 'page_obj.parent_id', 'page_obj.references', 'page_obj.revision_id', 'page_obj.section', 'page_obj.sections', 'page_obj.summary', 'page_obj.title', 'page_obj.url']\n"
     ]
    }
   ],
   "source": [
    "\n",
    "province_urls_list = ['https://en.wikipedia.org/wiki/Badakhshan_Province', 'https://en.wikipedia.org/wiki/Badghis_Province',\n",
    "                      'https://en.wikipedia.org/wiki/Baghlan_Province', 'https://en.wikipedia.org/wiki/Balkh_Province',\n",
    "                      'https://en.wikipedia.org/wiki/Bamyan_Province', 'https://en.wikipedia.org/wiki/Daykundi_Province',\n",
    "                      'https://en.wikipedia.org/wiki/Farah_Province', 'https://en.wikipedia.org/wiki/Faryab_Province',\n",
    "                      'https://en.wikipedia.org/wiki/Ghazni_Province', 'https://en.wikipedia.org/wiki/Ghor_Province',\n",
    "                      'https://en.wikipedia.org/wiki/Helmand_Province', 'https://en.wikipedia.org/wiki/Herat_Province',\n",
    "                      'https://en.wikipedia.org/wiki/Jowzjan_Province', 'https://en.wikipedia.org/wiki/Kabul_Province',\n",
    "                      'https://en.wikipedia.org/wiki/Kandahar_Province', 'https://en.wikipedia.org/wiki/Kapisa_Province',\n",
    "                      'https://en.wikipedia.org/wiki/Khost_Province', 'https://en.wikipedia.org/wiki/Kunar_Province',\n",
    "                      'https://en.wikipedia.org/wiki/Kunduz_Province', 'https://en.wikipedia.org/wiki/Laghman_Province',\n",
    "                      'https://en.wikipedia.org/wiki/Logar_Province', 'https://en.wikipedia.org/wiki/Nangarhar_Province',\n",
    "                      'https://en.wikipedia.org/wiki/Nimruz_Province', 'https://en.wikipedia.org/wiki/Nuristan_Province',\n",
    "                      'https://en.wikipedia.org/wiki/Oruzgan_Province', 'https://en.wikipedia.org/wiki/Paktia_Province',\n",
    "                      'https://en.wikipedia.org/wiki/Paktika_Province', 'https://en.wikipedia.org/wiki/Panjshir_Province',\n",
    "                      'https://en.wikipedia.org/wiki/Parwan_Province', 'https://en.wikipedia.org/wiki/Samangan_Province',\n",
    "                      'https://en.wikipedia.org/wiki/Sar-e_Pol_Province', 'https://en.wikipedia.org/wiki/Takhar_Province',\n",
    "                      'https://en.wikipedia.org/wiki/Wardak_Province', 'https://en.wikipedia.org/wiki/Zabul_Province']\n",
    "for province_url in province_urls_list:\n",
    "    wiki_soup = u.get_page_soup(province_url)\n",
    "    print(['wiki_soup.{}'.format(fn) for fn in dir(wiki_soup) if not fn.startswith('_')])\n",
    "    page_obj = wikipedia.page(title=province_url.split('/')[-1], pageid=None, auto_suggest=True, redirect=True, preload=False)\n",
    "    print(['page_obj.{}'.format(fn) for fn in dir(page_obj) if not fn.startswith('_')])\n",
    "    break"
   ]
  },
  {
   "cell_type": "code",
   "execution_count": 15,
   "metadata": {},
   "outputs": [
    {
     "name": "stdout",
     "output_type": "stream",
     "text": [
      "[(1, (58, 2)), (5, (28, 5)), (3, (19, 2)), (2, (18, 2)), (0, (16, 2)), (4, (13, 2)), (10, (6, 3)), (7, (4, 3)), (8, (3, 3)), (6, (1, 2)), (9, (1, 3)), (11, (1, 2))]\n",
      "[(6, (36, 2)), (7, (35, 2)), (1, (18, 2)), (9, (18, 2)), (8, (16, 2)), (3, (4, 3)), (4, (3, 3)), (0, (1, 2)), (2, (1, 2)), (5, (1, 3)), (10, (1, 2))]\n",
      "[(1, (58, 2)), (10, (36, 2)), (11, (35, 2)), (3, (19, 2)), (2, (18, 2)), (13, (18, 2)), (0, (16, 2)), (12, (16, 2)), (5, (15, 6)), (4, (13, 2)), (7, (4, 3)), (8, (3, 3)), (6, (1, 2)), (9, (1, 3)), (14, (1, 2))]\n",
      "[(1, (58, 2)), (11, (36, 2)), (12, (35, 2)), (3, (19, 2)), (2, (18, 2)), (14, (18, 2)), (0, (17, 2)), (13, (16, 2)), (6, (15, 5)), (4, (13, 2)), (8, (4, 3)), (9, (3, 3)), (5, (1, 2)), (7, (1, 2)), (10, (1, 3)), (15, (1, 2))]\n",
      "[(1, (58, 2)), (10, (36, 2)), (11, (35, 2)), (3, (19, 2)), (2, (18, 2)), (13, (18, 2)), (0, (16, 2)), (12, (16, 2)), (4, (13, 2)), (5, (7, 4)), (7, (4, 3)), (8, (3, 3)), (6, (1, 2)), (9, (1, 3)), (14, (1, 2))]\n",
      "[(6, (36, 2)), (7, (35, 2)), (9, (18, 2)), (0, (17, 2)), (8, (16, 2)), (1, (8, 5)), (3, (4, 3)), (4, (3, 3)), (2, (1, 2)), (5, (1, 3))]\n",
      "[(1, (58, 2)), (3, (19, 2)), (2, (18, 2)), (0, (16, 2)), (4, (13, 2)), (5, (11, 5)), (7, (4, 3)), (8, (3, 3)), (6, (1, 2)), (9, (1, 3))]\n",
      "[(6, (36, 2)), (7, (35, 2)), (9, (18, 2)), (0, (16, 2)), (8, (16, 2)), (1, (15, 5)), (3, (4, 3)), (4, (3, 3)), (2, (1, 2)), (5, (1, 3)), (10, (1, 2))]\n",
      "[(1, (58, 2)), (10, (36, 2)), (11, (35, 2)), (3, (19, 2)), (5, (19, 4)), (2, (18, 2)), (13, (18, 2)), (0, (16, 2)), (12, (16, 2)), (4, (13, 2)), (7, (4, 3)), (8, (3, 3)), (6, (1, 2)), (9, (1, 3))]\n",
      "[(1, (58, 2)), (10, (36, 2)), (11, (35, 2)), (3, (19, 2)), (2, (18, 2)), (13, (18, 2)), (0, (16, 2)), (12, (16, 2)), (4, (13, 2)), (6, (11, 5)), (7, (4, 3)), (8, (3, 3)), (5, (1, 2)), (9, (1, 3))]\n",
      "[(1, (58, 2)), (10, (36, 2)), (11, (35, 2)), (3, (19, 2)), (2, (18, 2)), (13, (18, 2)), (0, (16, 2)), (12, (16, 2)), (5, (15, 5)), (4, (13, 2)), (14, (9, 2)), (7, (4, 3)), (8, (3, 3)), (15, (2, 2)), (16, (2, 2)), (6, (1, 2)), (9, (1, 3)), (17, (1, 2))]\n",
      "[(1, (58, 2)), (10, (36, 2)), (11, (35, 2)), (3, (19, 2)), (2, (18, 2)), (13, (18, 2)), (0, (17, 2)), (5, (16, 5)), (12, (16, 2)), (4, (13, 2)), (6, (4, 3)), (9, (4, 3)), (7, (3, 3)), (8, (1, 3)), (14, (1, 2))]\n",
      "[(5, (36, 2)), (6, (35, 2)), (8, (18, 2)), (7, (16, 2)), (0, (15, 2)), (2, (4, 3)), (3, (3, 3)), (1, (1, 2)), (4, (1, 3))]\n",
      "[(1, (58, 2)), (10, (36, 2)), (11, (35, 2)), (3, (19, 2)), (2, (18, 2)), (13, (18, 2)), (0, (16, 2)), (12, (16, 2)), (5, (15, 6)), (4, (13, 2)), (7, (4, 3)), (14, (4, 3)), (8, (3, 3)), (6, (1, 2)), (9, (1, 3)), (15, (1, 2))]\n",
      "[(1, (58, 2)), (10, (36, 2)), (11, (35, 2)), (3, (19, 2)), (2, (18, 2)), (5, (18, 5)), (13, (18, 2)), (0, (17, 2)), (12, (16, 2)), (4, (13, 2)), (7, (4, 3)), (8, (3, 3)), (6, (1, 2)), (9, (1, 3)), (14, (1, 2))]\n",
      "[(7, (36, 2)), (8, (35, 2)), (0, (18, 2)), (10, (18, 2)), (9, (16, 2)), (3, (7, 5)), (4, (4, 3)), (5, (3, 3)), (1, (1, 2)), (2, (1, 2)), (6, (1, 3)), (11, (1, 2))]\n",
      "[(1, (58, 2)), (10, (36, 2)), (11, (35, 2)), (3, (19, 2)), (2, (18, 2)), (13, (18, 2)), (0, (16, 2)), (12, (16, 2)), (4, (13, 2)), (5, (13, 5)), (7, (4, 3)), (8, (3, 3)), (6, (1, 2)), (9, (1, 3))]\n",
      "[(1, (58, 2)), (9, (36, 2)), (10, (35, 2)), (3, (19, 2)), (2, (18, 2)), (12, (18, 2)), (0, (16, 2)), (11, (16, 2)), (5, (15, 5)), (4, (13, 2)), (7, (4, 3)), (8, (3, 3)), (6, (1, 2)), (13, (1, 3)), (14, (1, 2))]\n",
      "[(1, (58, 2)), (10, (36, 2)), (11, (35, 2)), (3, (19, 2)), (2, (18, 2)), (13, (18, 2)), (0, (16, 2)), (12, (16, 2)), (4, (13, 2)), (5, (7, 6)), (7, (4, 3)), (8, (3, 3)), (6, (1, 2)), (9, (1, 3)), (14, (1, 2))]\n",
      "[(6, (36, 2)), (7, (35, 2)), (9, (18, 2)), (0, (16, 2)), (8, (16, 2)), (1, (6, 5)), (3, (4, 3)), (4, (3, 3)), (2, (1, 2)), (5, (1, 3)), (10, (1, 2))]\n",
      "[(6, (36, 2)), (7, (35, 2)), (9, (18, 2)), (0, (17, 2)), (8, (16, 2)), (1, (7, 5)), (3, (4, 3)), (4, (3, 3)), (2, (1, 2)), (5, (1, 3)), (10, (1, 2))]\n",
      "[(1, (58, 2)), (13, (36, 2)), (14, (35, 2)), (8, (22, 5)), (3, (19, 2)), (2, (18, 2)), (16, (18, 2)), (0, (16, 2)), (15, (16, 2)), (4, (13, 2)), (10, (4, 3)), (11, (3, 3)), (5, (1, 2)), (6, (1, 2)), (7, (1, 2)), (9, (1, 2)), (12, (1, 3)), (17, (1, 2))]\n",
      "[(6, (36, 2)), (7, (35, 2)), (9, (18, 2)), (0, (16, 2)), (8, (16, 2)), (10, (7, 2)), (1, (5, 5)), (3, (4, 3)), (4, (3, 3)), (2, (1, 2)), (5, (1, 3)), (11, (1, 2))]\n",
      "[(1, (58, 2)), (11, (36, 2)), (12, (35, 2)), (3, (19, 2)), (2, (18, 2)), (14, (18, 2)), (0, (16, 2)), (13, (16, 2)), (4, (13, 2)), (5, (8, 5)), (8, (4, 3)), (9, (3, 3)), (6, (1, 2)), (7, (1, 2)), (10, (1, 3))]\n",
      "[(6, (36, 2)), (7, (35, 2)), (9, (18, 2)), (8, (16, 2)), (0, (15, 2)), (1, (5, 5)), (3, (4, 3)), (4, (3, 3)), (2, (1, 2)), (5, (1, 3)), (10, (1, 2))]\n",
      "[(1, (58, 2)), (10, (36, 2)), (11, (35, 2)), (3, (19, 2)), (2, (18, 2)), (13, (18, 2)), (0, (17, 2)), (12, (16, 2)), (5, (14, 5)), (4, (13, 2)), (7, (4, 3)), (8, (3, 3)), (6, (1, 2)), (9, (1, 3)), (14, (1, 2))]\n",
      "[(1, (58, 2)), (9, (36, 2)), (10, (35, 2)), (3, (19, 2)), (6, (19, 5)), (2, (18, 2)), (12, (18, 2)), (0, (17, 2)), (11, (16, 2)), (4, (13, 2)), (13, (9, 2)), (16, (4, 3)), (17, (3, 3)), (14, (2, 2)), (15, (2, 2)), (5, (1, 2)), (7, (1, 2)), (8, (1, 3)), (18, (1, 2))]\n",
      "[(6, (36, 2)), (7, (35, 2)), (9, (18, 2)), (8, (16, 2)), (0, (15, 2)), (1, (7, 5)), (3, (4, 3)), (4, (3, 3)), (2, (1, 2)), (5, (1, 3))]\n",
      "[(1, (58, 2)), (10, (36, 2)), (11, (35, 2)), (3, (19, 2)), (2, (18, 2)), (13, (18, 2)), (0, (16, 2)), (12, (16, 2)), (4, (13, 2)), (5, (10, 5)), (7, (4, 3)), (8, (3, 3)), (6, (1, 2)), (9, (1, 3))]\n",
      "[(1, (58, 2)), (10, (36, 2)), (11, (35, 2)), (3, (19, 2)), (2, (18, 2)), (13, (18, 2)), (12, (16, 2)), (0, (15, 2)), (4, (13, 2)), (14, (13, 3)), (5, (7, 5)), (15, (6, 2)), (7, (4, 3)), (8, (3, 3)), (6, (1, 2)), (9, (1, 3))]\n",
      "[(1, (58, 2)), (9, (36, 2)), (10, (35, 2)), (3, (19, 2)), (0, (18, 2)), (2, (18, 2)), (12, (18, 2)), (11, (16, 2)), (4, (13, 2)), (6, (4, 3)), (7, (3, 3)), (5, (1, 2)), (8, (1, 3))]\n",
      "[(1, (58, 2)), (12, (36, 2)), (13, (35, 2)), (3, (19, 2)), (2, (18, 2)), (15, (18, 2)), (7, (16, 6)), (14, (16, 2)), (0, (15, 2)), (4, (13, 2)), (9, (4, 3)), (10, (3, 3)), (5, (1, 2)), (6, (1, 2)), (8, (1, 2)), (11, (1, 3))]\n",
      "[(1, (58, 2)), (3, (19, 2)), (2, (18, 2)), (0, (15, 2)), (4, (13, 2)), (6, (9, 5)), (8, (4, 3)), (9, (3, 3)), (5, (1, 2)), (7, (1, 2)), (10, (1, 3))]\n",
      "[(7, (36, 2)), (8, (35, 2)), (10, (18, 2)), (0, (16, 2)), (9, (16, 2)), (2, (11, 5)), (11, (9, 2)), (4, (4, 3)), (5, (3, 3)), (12, (2, 2)), (13, (2, 2)), (1, (1, 2)), (3, (1, 2)), (6, (1, 3))]\n"
     ]
    }
   ],
   "source": [
    "\n",
    "page_dict = {}\n",
    "for province_url in province_urls_list:\n",
    "    page_title = province_url.split('/')[-1]\n",
    "    page_obj = wikipedia.page(title=page_title)\n",
    "    page_tables_list = u.get_page_tables(page_obj.html())\n",
    "    for i in range(len(page_tables_list)):\n",
    "        if page_tables_list[i].loc[0][0] == 'Province':\n",
    "            page_dict[page_title] = page_tables_list[i].copy()\n",
    "            break"
   ]
  },
  {
   "cell_type": "code",
   "execution_count": 18,
   "metadata": {},
   "outputs": [
    {
     "data": {
      "text/plain": [
       "dict_keys(['Badakhshan_Province', 'Badghis_Province', 'Baghlan_Province', 'Balkh_Province', 'Bamyan_Province', 'Daykundi_Province', 'Farah_Province', 'Faryab_Province', 'Ghazni_Province', 'Ghor_Province', 'Helmand_Province', 'Herat_Province', 'Jowzjan_Province', 'Kabul_Province', 'Kandahar_Province', 'Kapisa_Province', 'Khost_Province', 'Kunar_Province', 'Kunduz_Province', 'Laghman_Province', 'Logar_Province', 'Nangarhar_Province', 'Nimruz_Province', 'Nuristan_Province', 'Oruzgan_Province', 'Paktia_Province', 'Paktika_Province', 'Panjshir_Province', 'Parwan_Province', 'Samangan_Province', 'Sar-e_Pol_Province', 'Takhar_Province', 'Wardak_Province', 'Zabul_Province'])"
      ]
     },
     "execution_count": 18,
     "metadata": {},
     "output_type": "execute_result"
    }
   ],
   "source": [
    "\n",
    "page_dict.keys()"
   ]
  },
  {
   "cell_type": "code",
   "execution_count": 35,
   "metadata": {},
   "outputs": [
    {
     "name": "stdout",
     "output_type": "stream",
     "text": [
      "Country: Afghanistan\n",
      "Provincial seat: Qala i Naw\n",
      "Largest city: Bala Murghab\n",
      "Districts: List Ab KamariGhormachJawandMuqurBalaMargabQadisQala-i-Naw\n",
      "• Total: 20,590.6 km2 (7,950.1 sq mi)\n",
      "• Water: 0 km2 (0 sq mi)\n",
      "• Total: 499393\n",
      "• Density: 20.9/km2 (54/sq mi)\n",
      "• Ethnic groups: Tajik, Pashtun, Uzbek, Turkmen, Hazara\n",
      "• Languages: Dari Persian, Pashto, Turkmen\n",
      "ISO 3166 code: AF-BDG\n"
     ]
    }
   ],
   "source": [
    "\n",
    "space_regex = re.compile(r'[\\ufeff\\xa0 ]+')\n",
    "first_list = [space_regex.sub(' ', s).strip() for s in page_dict['Badghis_Province'].T.iloc[0].tolist()]\n",
    "second_list = [space_regex.sub(' ', s).strip() for s in page_dict['Badghis_Province'].T.iloc[1].tolist()]\n",
    "for first, second in zip(first_list, second_list):\n",
    "    if(u.similar(first, second)) < 1.0:\n",
    "        print('{}: {}'.format(first, second))"
   ]
  },
  {
   "cell_type": "code",
   "execution_count": 56,
   "metadata": {},
   "outputs": [
    {
     "name": "stdout",
     "output_type": "stream",
     "text": [
      "['infobox_tr.findAllNext', 'infobox_tr.findNext', 'infobox_tr.findNextSibling', 'infobox_tr.findNextSiblings', 'infobox_tr.find_all_next', 'infobox_tr.find_next', 'infobox_tr.find_next_sibling', 'infobox_tr.find_next_siblings']\n"
     ]
    }
   ],
   "source": [
    "\n",
    "print(['infobox_tr.{}'.format(fn) for fn in dir(infobox_tr) if ('find' in fn.lower()) and ('next' in fn.lower())])"
   ]
  },
  {
   "cell_type": "code",
   "execution_count": 57,
   "metadata": {},
   "outputs": [
    {
     "data": {
      "text/plain": [
       "\u001b[1;31mSignature:\u001b[0m\n",
       "\u001b[0minfobox_tr\u001b[0m\u001b[1;33m.\u001b[0m\u001b[0mfind_all_next\u001b[0m\u001b[1;33m(\u001b[0m\u001b[1;33m\n",
       "\u001b[0m    \u001b[0mname\u001b[0m\u001b[1;33m=\u001b[0m\u001b[1;32mNone\u001b[0m\u001b[1;33m,\u001b[0m\u001b[1;33m\n",
       "\u001b[0m    \u001b[0mattrs\u001b[0m\u001b[1;33m=\u001b[0m\u001b[1;33m{\u001b[0m\u001b[1;33m}\u001b[0m\u001b[1;33m,\u001b[0m\u001b[1;33m\n",
       "\u001b[0m    \u001b[0mtext\u001b[0m\u001b[1;33m=\u001b[0m\u001b[1;32mNone\u001b[0m\u001b[1;33m,\u001b[0m\u001b[1;33m\n",
       "\u001b[0m    \u001b[0mlimit\u001b[0m\u001b[1;33m=\u001b[0m\u001b[1;32mNone\u001b[0m\u001b[1;33m,\u001b[0m\u001b[1;33m\n",
       "\u001b[0m    \u001b[1;33m**\u001b[0m\u001b[0mkwargs\u001b[0m\u001b[1;33m,\u001b[0m\u001b[1;33m\n",
       "\u001b[0m\u001b[1;33m)\u001b[0m\u001b[1;33m\u001b[0m\u001b[1;33m\u001b[0m\u001b[0m\n",
       "\u001b[1;31mDocstring:\u001b[0m\n",
       "Find all PageElements that match the given criteria and appear\n",
       "later in the document than this PageElement.\n",
       "\n",
       "All find_* methods take a common set of arguments. See the online\n",
       "documentation for detailed explanations.\n",
       "\n",
       ":param name: A filter on tag name.\n",
       ":param attrs: A dictionary of filters on attribute values.\n",
       ":param text: A filter for a NavigableString with specific text.\n",
       ":param limit: Stop looking after finding this many results.\n",
       ":kwargs: A dictionary of filters on attribute values.\n",
       ":return: A ResultSet containing PageElements.\n",
       "\u001b[1;31mFile:\u001b[0m      c:\\users\\577342\\appdata\\local\\continuum\\anaconda3\\lib\\site-packages\\bs4\\element.py\n",
       "\u001b[1;31mType:\u001b[0m      method\n"
      ]
     },
     "metadata": {},
     "output_type": "display_data"
    }
   ],
   "source": [
    "\n",
    "infobox_tr.find_all_next?"
   ]
  },
  {
   "cell_type": "code",
   "execution_count": 119,
   "metadata": {},
   "outputs": [],
   "source": [
    "\n",
    "def clean_text(th_tag):\n",
    "    th_str = th_tag.text.strip()\n",
    "    th_str = dot_regex.sub('', th_str).strip()\n",
    "    th_str = re.sub('\\s+', ' ', th_str)\n",
    "    \n",
    "    return th_str"
   ]
  },
  {
   "cell_type": "code",
   "execution_count": null,
   "metadata": {},
   "outputs": [],
   "source": [
    "\n",
    "#page_title = 'Badghis_Province'\n",
    "#page_title = random.choice(list(page_dict.keys()))"
   ]
  },
  {
   "cell_type": "code",
   "execution_count": 141,
   "metadata": {},
   "outputs": [
    {
     "data": {
      "text/plain": [
       "{'Deputy Governor', 'Largest city', 'Established', 'Water', 'Languages', 'Provincial seat', 'Density', 'Website', 'Governor', 'Country', 'District', 'Time zone', 'Ethnic groups', 'Provincial center', 'Total Population', 'Area codes', 'Capital', 'Main languages', 'Districts', 'ISO code', 'Total Area'}"
      ]
     },
     "execution_count": 141,
     "metadata": {},
     "output_type": "execute_result"
    }
   ],
   "source": [
    "\n",
    "from IPython.display import HTML\n",
    "\n",
    "html_regex = re.compile(r'</?[^>]+>')\n",
    "columns_set = set()\n",
    "# <table class=\"infobox geography vcard\" style=\"width:22em;width:23em\">\n",
    "selector_str = 'table.infobox.geography.vcard'\n",
    "dot_regex = re.compile(r'[^A-Za-z ]+')\n",
    "for page_title in page_dict.keys():\n",
    "    page_obj = wikipedia.page(title=page_title)\n",
    "    page_soup = u.get_page_soup(page_obj.html())\n",
    "    infobox_table = page_soup.select_one(selector_str)\n",
    "    tr_list = infobox_table.find_all(name='tr')\n",
    "    for infobox_tr in tr_list:\n",
    "        th_list = infobox_tr.find_all(['td', 'th'])\n",
    "        if len(th_list) == 2:\n",
    "            column_name = clean_text(th_list[0])\n",
    "            if (column_name == '') or (column_name == 'Total'):\n",
    "                column_name = 'Total {}'.format(previous_column_name)\n",
    "            #print('{}: {}'.format(column_name, th_list[1].text.strip()))\n",
    "            columns_set.add(column_name)\n",
    "        elif len(th_list) == 1:\n",
    "            previous_column_name = clean_text(th_list[0])\n",
    "columns_set"
   ]
  },
  {
   "cell_type": "code",
   "execution_count": null,
   "metadata": {},
   "outputs": [],
   "source": [
    "\n",
    "print(blank_page_soup.prettify())"
   ]
  },
  {
   "cell_type": "code",
   "execution_count": 151,
   "metadata": {},
   "outputs": [
    {
     "data": {
      "text/html": [
       "<div>\n",
       "<style scoped>\n",
       "    .dataframe tbody tr th:only-of-type {\n",
       "        vertical-align: middle;\n",
       "    }\n",
       "\n",
       "    .dataframe tbody tr th {\n",
       "        vertical-align: top;\n",
       "    }\n",
       "\n",
       "    .dataframe thead th {\n",
       "        text-align: right;\n",
       "    }\n",
       "</style>\n",
       "<table border=\"1\" class=\"dataframe\">\n",
       "  <thead>\n",
       "    <tr style=\"text-align: right;\">\n",
       "      <th></th>\n",
       "      <th>Website</th>\n",
       "      <th>Governor</th>\n",
       "      <th>Total Population</th>\n",
       "      <th>Total Area</th>\n",
       "      <th>Provincial center</th>\n",
       "      <th>Density</th>\n",
       "      <th>Languages</th>\n",
       "      <th>Deputy Governor</th>\n",
       "      <th>Ethnic groups</th>\n",
       "    </tr>\n",
       "  </thead>\n",
       "  <tbody>\n",
       "    <tr>\n",
       "      <th>Wardak Province</th>\n",
       "      <td>NaN</td>\n",
       "      <td>Muhammad Arif Shah Jahan</td>\n",
       "      <td>567,600</td>\n",
       "      <td>9,934 km 2 (3,836 sq mi)</td>\n",
       "      <td>NaN</td>\n",
       "      <td>57/km 2 (150/sq mi)</td>\n",
       "      <td>NaN</td>\n",
       "      <td>NaN</td>\n",
       "      <td>NaN</td>\n",
       "    </tr>\n",
       "    <tr>\n",
       "      <th>Nangarhar Province</th>\n",
       "      <td>NaN</td>\n",
       "      <td>ShahMahmood Miakhel [1]</td>\n",
       "      <td>1,436,000</td>\n",
       "      <td>7,727 km 2 (2,983 sq mi)</td>\n",
       "      <td>NaN</td>\n",
       "      <td>190/km 2 (480/sq mi)</td>\n",
       "      <td>NaN</td>\n",
       "      <td>NaN</td>\n",
       "      <td>NaN</td>\n",
       "    </tr>\n",
       "    <tr>\n",
       "      <th>Zabul Province</th>\n",
       "      <td>NaN</td>\n",
       "      <td>Bismillah Afghanmal</td>\n",
       "      <td>304,126</td>\n",
       "      <td>17,343 km 2 (6,696 sq mi)</td>\n",
       "      <td>NaN</td>\n",
       "      <td>18/km 2 (45/sq mi)</td>\n",
       "      <td>NaN</td>\n",
       "      <td>NaN</td>\n",
       "      <td>NaN</td>\n",
       "    </tr>\n",
       "    <tr>\n",
       "      <th>Paktika Province</th>\n",
       "      <td>NaN</td>\n",
       "      <td>Ilyas Wahdat</td>\n",
       "      <td>434,742</td>\n",
       "      <td>19,482 km 2 (7,522 sq mi)</td>\n",
       "      <td>NaN</td>\n",
       "      <td>22/km 2 (58/sq mi)</td>\n",
       "      <td>NaN</td>\n",
       "      <td>NaN</td>\n",
       "      <td>NaN</td>\n",
       "    </tr>\n",
       "    <tr>\n",
       "      <th>Daykundi Province</th>\n",
       "      <td>daikundi .gov .af</td>\n",
       "      <td>Sayed Anwar Rahmati</td>\n",
       "      <td>723,980</td>\n",
       "      <td>18,088 km 2 (6,984 sq mi)</td>\n",
       "      <td>NaN</td>\n",
       "      <td>NaN</td>\n",
       "      <td>NaN</td>\n",
       "      <td>NaN</td>\n",
       "      <td>NaN</td>\n",
       "    </tr>\n",
       "  </tbody>\n",
       "</table>\n",
       "</div>"
      ],
      "text/plain": [
       "                              Website                  Governor  \\\n",
       "Wardak Province                   NaN  Muhammad Arif Shah Jahan   \n",
       "Nangarhar Province                NaN   ShahMahmood Miakhel [1]   \n",
       "Zabul Province                    NaN       Bismillah Afghanmal   \n",
       "Paktika Province                  NaN              Ilyas Wahdat   \n",
       "Daykundi Province   daikundi .gov .af       Sayed Anwar Rahmati   \n",
       "\n",
       "                   Total Population                 Total Area  \\\n",
       "Wardak Province             567,600   9,934 km 2 (3,836 sq mi)   \n",
       "Nangarhar Province        1,436,000   7,727 km 2 (2,983 sq mi)   \n",
       "Zabul Province              304,126  17,343 km 2 (6,696 sq mi)   \n",
       "Paktika Province            434,742  19,482 km 2 (7,522 sq mi)   \n",
       "Daykundi Province           723,980  18,088 km 2 (6,984 sq mi)   \n",
       "\n",
       "                   Provincial center               Density Languages  \\\n",
       "Wardak Province                  NaN   57/km 2 (150/sq mi)       NaN   \n",
       "Nangarhar Province               NaN  190/km 2 (480/sq mi)       NaN   \n",
       "Zabul Province                   NaN    18/km 2 (45/sq mi)       NaN   \n",
       "Paktika Province                 NaN    22/km 2 (58/sq mi)       NaN   \n",
       "Daykundi Province                NaN                   NaN       NaN   \n",
       "\n",
       "                   Deputy Governor Ethnic groups  \n",
       "Wardak Province                NaN           NaN  \n",
       "Nangarhar Province             NaN           NaN  \n",
       "Zabul Province                 NaN           NaN  \n",
       "Paktika Province               NaN           NaN  \n",
       "Daykundi Province              NaN           NaN  "
      ]
     },
     "execution_count": 151,
     "metadata": {},
     "output_type": "execute_result"
    }
   ],
   "source": [
    "\n",
    "columns_list = [cn for cn in list(columns_set) if cn != '']\n",
    "rows_list = []\n",
    "index_list = []\n",
    "for page_title in page_dict.keys():\n",
    "    page_obj = wikipedia.page(title=page_title)\n",
    "    page_soup = u.get_page_soup(page_obj.html())\n",
    "    infobox_table = page_soup.select_one(selector_str)\n",
    "    tr_list = infobox_table.find_all(name='tr')\n",
    "    row_dict = {}\n",
    "    for infobox_tr in tr_list:\n",
    "        th_list = infobox_tr.find_all(['td', 'th'])\n",
    "        if len(th_list) == 2:\n",
    "            column_name = clean_text(th_list[0])\n",
    "            if(column_name == 'Total'):\n",
    "                column_name = 'Total {}'.format(previous_column_name)\n",
    "            column_value = html_regex.sub(' ', str(th_list[1]))\n",
    "            column_value = re.sub('\\s+', ' ', column_value).strip()\n",
    "            row_dict[column_name] = column_value\n",
    "        elif len(th_list) == 1:\n",
    "            previous_column_name = clean_text(th_list[0])\n",
    "    rows_list.append(row_dict.copy())\n",
    "    index_name = ' '.join(page_title.split('_'))\n",
    "    index_list.append(index_name)\n",
    "afghanistan_provinces_df = pd.DataFrame(rows_list, columns=columns_list, index=index_list)\n",
    "afghanistan_provinces_df.sample(5).T.sample(9).T"
   ]
  },
  {
   "cell_type": "code",
   "execution_count": 153,
   "metadata": {},
   "outputs": [
    {
     "name": "stdout",
     "output_type": "stream",
     "text": [
      "Pickling to D:\\Documents\\Repositories\\notebooks\\StatsByCountry\\saves\\pickle\\afghanistan_provinces_df.pickle\n"
     ]
    },
    {
     "data": {
      "text/html": [
       "<div>\n",
       "<style scoped>\n",
       "    .dataframe tbody tr th:only-of-type {\n",
       "        vertical-align: middle;\n",
       "    }\n",
       "\n",
       "    .dataframe tbody tr th {\n",
       "        vertical-align: top;\n",
       "    }\n",
       "\n",
       "    .dataframe thead th {\n",
       "        text-align: right;\n",
       "    }\n",
       "</style>\n",
       "<table border=\"1\" class=\"dataframe\">\n",
       "  <thead>\n",
       "    <tr style=\"text-align: right;\">\n",
       "      <th></th>\n",
       "      <th>Total Population</th>\n",
       "      <th>Main languages</th>\n",
       "      <th>Water</th>\n",
       "      <th>Density</th>\n",
       "      <th>Ethnic groups</th>\n",
       "      <th>District</th>\n",
       "      <th>Total Area</th>\n",
       "      <th>Provincial center</th>\n",
       "      <th>Largest city</th>\n",
       "    </tr>\n",
       "  </thead>\n",
       "  <tbody>\n",
       "    <tr>\n",
       "      <th>Faryab Province</th>\n",
       "      <td>948,000</td>\n",
       "      <td>Uzbek Turkmen Dari Pashto</td>\n",
       "      <td>NaN</td>\n",
       "      <td>46/km 2 (120/sq mi)</td>\n",
       "      <td>NaN</td>\n",
       "      <td>NaN</td>\n",
       "      <td>20,797.6 km 2 (8,030.0 sq mi)</td>\n",
       "      <td>NaN</td>\n",
       "      <td>NaN</td>\n",
       "    </tr>\n",
       "    <tr>\n",
       "      <th>Panjshir Province</th>\n",
       "      <td>100,000 Outside the province</td>\n",
       "      <td>Farsi</td>\n",
       "      <td>NaN</td>\n",
       "      <td>NaN</td>\n",
       "      <td>NaN</td>\n",
       "      <td>NaN</td>\n",
       "      <td>3,610 km 2 (1,390 sq mi)</td>\n",
       "      <td>NaN</td>\n",
       "      <td>NaN</td>\n",
       "    </tr>\n",
       "    <tr>\n",
       "      <th>Nangarhar Province</th>\n",
       "      <td>1,436,000</td>\n",
       "      <td>Pashto ,[language</td>\n",
       "      <td>NaN</td>\n",
       "      <td>190/km 2 (480/sq mi)</td>\n",
       "      <td>NaN</td>\n",
       "      <td>NaN</td>\n",
       "      <td>7,727 km 2 (2,983 sq mi)</td>\n",
       "      <td>NaN</td>\n",
       "      <td>NaN</td>\n",
       "    </tr>\n",
       "    <tr>\n",
       "      <th>Zabul Province</th>\n",
       "      <td>304,126</td>\n",
       "      <td>Pashto</td>\n",
       "      <td>NaN</td>\n",
       "      <td>18/km 2 (45/sq mi)</td>\n",
       "      <td>NaN</td>\n",
       "      <td>NaN</td>\n",
       "      <td>17,343 km 2 (6,696 sq mi)</td>\n",
       "      <td>NaN</td>\n",
       "      <td>NaN</td>\n",
       "    </tr>\n",
       "    <tr>\n",
       "      <th>Balkh Province</th>\n",
       "      <td>1,245,100</td>\n",
       "      <td>Dari-Persian , Pashto , Uzbek , Turkmen</td>\n",
       "      <td>NaN</td>\n",
       "      <td>77/km 2 (200/sq mi)</td>\n",
       "      <td>NaN</td>\n",
       "      <td>NaN</td>\n",
       "      <td>16,186.3 km 2 (6,249.6 sq mi)</td>\n",
       "      <td>NaN</td>\n",
       "      <td>NaN</td>\n",
       "    </tr>\n",
       "  </tbody>\n",
       "</table>\n",
       "</div>"
      ],
      "text/plain": [
       "                                Total Population  \\\n",
       "Faryab Province                          948,000   \n",
       "Panjshir Province   100,000 Outside the province   \n",
       "Nangarhar Province                     1,436,000   \n",
       "Zabul Province                           304,126   \n",
       "Balkh Province                         1,245,100   \n",
       "\n",
       "                                             Main languages Water  \\\n",
       "Faryab Province                   Uzbek Turkmen Dari Pashto   NaN   \n",
       "Panjshir Province                                     Farsi   NaN   \n",
       "Nangarhar Province                        Pashto ,[language   NaN   \n",
       "Zabul Province                                       Pashto   NaN   \n",
       "Balkh Province      Dari-Persian , Pashto , Uzbek , Turkmen   NaN   \n",
       "\n",
       "                                 Density Ethnic groups District  \\\n",
       "Faryab Province      46/km 2 (120/sq mi)           NaN      NaN   \n",
       "Panjshir Province                    NaN           NaN      NaN   \n",
       "Nangarhar Province  190/km 2 (480/sq mi)           NaN      NaN   \n",
       "Zabul Province        18/km 2 (45/sq mi)           NaN      NaN   \n",
       "Balkh Province       77/km 2 (200/sq mi)           NaN      NaN   \n",
       "\n",
       "                                       Total Area Provincial center  \\\n",
       "Faryab Province     20,797.6 km 2 (8,030.0 sq mi)               NaN   \n",
       "Panjshir Province        3,610 km 2 (1,390 sq mi)               NaN   \n",
       "Nangarhar Province       7,727 km 2 (2,983 sq mi)               NaN   \n",
       "Zabul Province          17,343 km 2 (6,696 sq mi)               NaN   \n",
       "Balkh Province      16,186.3 km 2 (6,249.6 sq mi)               NaN   \n",
       "\n",
       "                   Largest city  \n",
       "Faryab Province             NaN  \n",
       "Panjshir Province           NaN  \n",
       "Nangarhar Province          NaN  \n",
       "Zabul Province              NaN  \n",
       "Balkh Province              NaN  "
      ]
     },
     "execution_count": 153,
     "metadata": {},
     "output_type": "execute_result"
    }
   ],
   "source": [
    "\n",
    "s.store_objects(afghanistan_provinces_df=afghanistan_provinces_df)\n",
    "afghanistan_provinces_df.sample(5).T.sample(9).T"
   ]
  },
  {
   "cell_type": "markdown",
   "metadata": {},
   "source": [
    "\n",
    "---\n",
    "# Make the path ids more informative"
   ]
  },
  {
   "cell_type": "code",
   "execution_count": null,
   "metadata": {},
   "outputs": [],
   "source": [
    "\n",
    "import xml.etree.ElementTree as et\n",
    "\n",
    "svg_dir = os.path.abspath(os.path.join(s.data_folder, 'svg'))\n",
    "file_path = os.path.join(svg_dir, 'Afghanistan.svg')\n",
    "root = et.parse(file_path).getroot()\n",
    "for root_elem in root:\n",
    "    id = root_elem.attrib['id']\n",
    "    tag = root_elem.tag\n",
    "    #print(tag, id)\n",
    "    if (tag.split('}')[-1] == 'g') and (id in ['afghan-provinces', 'afghan-lakes', 'afghan-rivers']):\n",
    "        prefix_str = id.split('-')[1][:-1]\n",
    "        for path_elem in root_elem:\n",
    "            tag = path_elem.tag\n",
    "            if (tag.split('}')[-1] == 'path'):\n",
    "                attrib_dict = path_elem.attrib\n",
    "                id = attrib_dict['id']\n",
    "                #province_name = attrib_dict['{http://www.inkscape.org/namespaces/inkscape}label']\n",
    "                key = 'id'\n",
    "                #value = 'path-{}'.format('-'.join(province_name.lower().split(' ')))\n",
    "                value = '{}-{}'.format(prefix_str, id[5:])\n",
    "                path_elem.attrib[key] = value\n",
    "                #print(id, value)"
   ]
  },
  {
   "cell_type": "code",
   "execution_count": null,
   "metadata": {},
   "outputs": [],
   "source": [
    "\n",
    "xml_str = et.tostring(root, encoding='unicode')\n",
    "with open(file_path, 'w') as f:\n",
    "    print(xml_str.strip(), file=f)"
   ]
  },
  {
   "cell_type": "code",
   "execution_count": null,
   "metadata": {},
   "outputs": [],
   "source": [
    "\n",
    "from svgpathtools import Line, Path\n",
    "from shapely.geometry import Polygon\n",
    "\n",
    "# Convert paths to polygons\n",
    "def path_to_poly(inpath):\n",
    "    points = []\n",
    "    for path in inpath:\n",
    "        if isinstance(path, Line):\n",
    "            points.append([path.end.real, path.end.imag])\n",
    "        else:\n",
    "            num_segments = ceil(path.length() / minimum_stitch)\n",
    "            for seg_i in range(int(num_segments + 1)):\n",
    "                points.append([path.point(seg_i / num_segments).real,\n",
    "                                path.point(seg_i / num_segments).imag])\n",
    "    \n",
    "    return Polygon(points)\n",
    "print(['Path.{}'.format(fn) for fn in dir(Path) if not fn.startswith('_')])"
   ]
  },
  {
   "cell_type": "code",
   "execution_count": null,
   "metadata": {},
   "outputs": [],
   "source": [
    "\n",
    "from svg.path import parse_path\n",
    "import svgpathtools"
   ]
  },
  {
   "cell_type": "code",
   "execution_count": null,
   "metadata": {},
   "outputs": [],
   "source": []
  }
 ],
 "metadata": {
  "anaconda-cloud": {},
  "kernelspec": {
   "display_name": "Python 3",
   "language": "python",
   "name": "python3"
  },
  "language_info": {
   "codemirror_mode": {
    "name": "ipython",
    "version": 3
   },
   "file_extension": ".py",
   "mimetype": "text/x-python",
   "name": "python",
   "nbconvert_exporter": "python",
   "pygments_lexer": "ipython3",
   "version": "3.7.6"
  }
 },
 "nbformat": 4,
 "nbformat_minor": 4
}
