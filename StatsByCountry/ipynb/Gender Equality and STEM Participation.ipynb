{
 "cells": [
  {
   "cell_type": "code",
   "execution_count": 1,
   "metadata": {},
   "outputs": [
    {
     "name": "stdout",
     "output_type": "stream",
     "text": [
      "DATA_FOLDER: ../data/\n",
      "SAVES_FOLDER: ../saves/\n",
      "Pretty printing has been turned OFF\n",
      "DATA_FOLDER\t ENCODING_TYPE\t SAVES_FOLDER\t attempt_to_pickle\t example_iterrows\t get_column_descriptions\t load_csv\t load_dataframes\t load_object\t \n",
      "math\t os\t pd\t pickle\t save_dataframes\t store_objects\t \n"
     ]
    }
   ],
   "source": [
    "\n",
    "%run ../../load_magic/storage.py\n",
    "%run ../../load_magic/dataframes.py\n",
    "%pprint\n",
    "%who"
   ]
  },
  {
   "cell_type": "code",
   "execution_count": 3,
   "metadata": {},
   "outputs": [],
   "source": [
    "\n",
    "# From https://journals.sagepub.com/doi/abs/10.1177/0956797617741719\n",
    "# https://journals.sagepub.com/doi/pdf/10.1177/0956797617741719\n",
    "gggi_stem_df = load_csv('gggi_stem')"
   ]
  },
  {
   "cell_type": "code",
   "execution_count": 4,
   "metadata": {},
   "outputs": [
    {
     "data": {
      "image/png": "[encoded data removed]",
      "text/plain": [
       "<Figure size 1296x648 with 1 Axes>"
      ]
     },
     "metadata": {},
     "output_type": "display_data"
    }
   ],
   "source": [
    "\n",
    "%matplotlib inline\n",
    "import matplotlib.pyplot as plt\n",
    "\n",
    "fig = plt.figure(figsize=(18, 9))\n",
    "\n",
    "xname = 'Global Gender Gap Index 2015'\n",
    "xdata = gggi_stem_df[xname]\n",
    "xlabel_text = plt.xlabel(xname)\n",
    "\n",
    "yname = 'The percentage of women among STEM graduates in tertiary education'\n",
    "ydata = gggi_stem_df[yname]\n",
    "ylabel_text = plt.ylabel(yname)\n",
    "\n",
    "path_collection = plt.scatter(xdata, ydata, alpha=0.5)"
   ]
  },
  {
   "cell_type": "code",
   "execution_count": 5,
   "metadata": {},
   "outputs": [
    {
     "data": {
      "text/html": [
       "<div>\n",
       "<style scoped>\n",
       "    .dataframe tbody tr th:only-of-type {\n",
       "        vertical-align: middle;\n",
       "    }\n",
       "\n",
       "    .dataframe tbody tr th {\n",
       "        vertical-align: top;\n",
       "    }\n",
       "\n",
       "    .dataframe thead th {\n",
       "        text-align: right;\n",
       "    }\n",
       "</style>\n",
       "<table border=\"1\" class=\"dataframe\">\n",
       "  <thead>\n",
       "    <tr style=\"text-align: right;\">\n",
       "      <th></th>\n",
       "      <th>32</th>\n",
       "      <th>35</th>\n",
       "      <th>77</th>\n",
       "      <th>65</th>\n",
       "      <th>129</th>\n",
       "      <th>80</th>\n",
       "      <th>196</th>\n",
       "      <th>201</th>\n",
       "      <th>3</th>\n",
       "      <th>4</th>\n",
       "    </tr>\n",
       "  </thead>\n",
       "  <tbody>\n",
       "    <tr>\n",
       "      <th>Country</th>\n",
       "      <td>Morocco</td>\n",
       "      <td>Botswana</td>\n",
       "      <td>Turks and Caicos Islands (UK)</td>\n",
       "      <td>Dominican Republic</td>\n",
       "      <td>Afghanistan</td>\n",
       "      <td>Costa Rica</td>\n",
       "      <td>Luxembourg</td>\n",
       "      <td>New Zealand</td>\n",
       "      <td>Eritrea</td>\n",
       "      <td>Ethiopia</td>\n",
       "    </tr>\n",
       "    <tr>\n",
       "      <th>Murder_rate</th>\n",
       "      <td>1.05</td>\n",
       "      <td>10.53</td>\n",
       "      <td>6.61</td>\n",
       "      <td>17.39</td>\n",
       "      <td>6.55</td>\n",
       "      <td>11.77</td>\n",
       "      <td>0.72</td>\n",
       "      <td>0.91</td>\n",
       "      <td>7.46</td>\n",
       "      <td>7.6</td>\n",
       "    </tr>\n",
       "    <tr>\n",
       "      <th>Murder_count</th>\n",
       "      <td>355</td>\n",
       "      <td>220</td>\n",
       "      <td>2</td>\n",
       "      <td>1810</td>\n",
       "      <td>1948</td>\n",
       "      <td>566</td>\n",
       "      <td>4</td>\n",
       "      <td>41</td>\n",
       "      <td>390</td>\n",
       "      <td>7552</td>\n",
       "    </tr>\n",
       "    <tr>\n",
       "      <th>Region</th>\n",
       "      <td>Africa</td>\n",
       "      <td>Africa</td>\n",
       "      <td>Americas</td>\n",
       "      <td>Americas</td>\n",
       "      <td>Asia</td>\n",
       "      <td>Americas</td>\n",
       "      <td>Europe</td>\n",
       "      <td>Oceania</td>\n",
       "      <td>Africa</td>\n",
       "      <td>Africa</td>\n",
       "    </tr>\n",
       "    <tr>\n",
       "      <th>Subregion</th>\n",
       "      <td>Northern Africa</td>\n",
       "      <td>Southern Africa</td>\n",
       "      <td>Caribbean</td>\n",
       "      <td>Caribbean</td>\n",
       "      <td>Southern Asia</td>\n",
       "      <td>Central America</td>\n",
       "      <td>Western Europe</td>\n",
       "      <td>Australasia</td>\n",
       "      <td>Eastern Africa</td>\n",
       "      <td>Eastern Africa</td>\n",
       "    </tr>\n",
       "    <tr>\n",
       "      <th>Year_listed</th>\n",
       "      <td>2014</td>\n",
       "      <td>2011</td>\n",
       "      <td>2009</td>\n",
       "      <td>2014</td>\n",
       "      <td>2012</td>\n",
       "      <td>2015</td>\n",
       "      <td>2014</td>\n",
       "      <td>2014</td>\n",
       "      <td>2015</td>\n",
       "      <td>2015</td>\n",
       "    </tr>\n",
       "    <tr>\n",
       "      <th>UNODC_notes</th>\n",
       "      <td>NaN</td>\n",
       "      <td>NaN</td>\n",
       "      <td>NaN</td>\n",
       "      <td>NaN</td>\n",
       "      <td>notes</td>\n",
       "      <td>NaN</td>\n",
       "      <td>NaN</td>\n",
       "      <td>NaN</td>\n",
       "      <td>NaN</td>\n",
       "      <td>NaN</td>\n",
       "    </tr>\n",
       "  </tbody>\n",
       "</table>\n",
       "</div>"
      ],
      "text/plain": [
       "                          32               35                             77   \\\n",
       "Country               Morocco         Botswana  Turks and Caicos Islands (UK)   \n",
       "Murder_rate              1.05            10.53                           6.61   \n",
       "Murder_count              355              220                              2   \n",
       "Region                 Africa           Africa                       Americas   \n",
       "Subregion     Northern Africa  Southern Africa                      Caribbean   \n",
       "Year_listed              2014             2011                           2009   \n",
       "UNODC_notes               NaN              NaN                            NaN   \n",
       "\n",
       "                             65             129              80   \\\n",
       "Country       Dominican Republic    Afghanistan       Costa Rica   \n",
       "Murder_rate                17.39           6.55            11.77   \n",
       "Murder_count                1810           1948              566   \n",
       "Region                  Americas           Asia         Americas   \n",
       "Subregion              Caribbean  Southern Asia  Central America   \n",
       "Year_listed                 2014           2012             2015   \n",
       "UNODC_notes                  NaN          notes              NaN   \n",
       "\n",
       "                         196          201             3               4    \n",
       "Country           Luxembourg  New Zealand         Eritrea        Ethiopia  \n",
       "Murder_rate             0.72         0.91            7.46             7.6  \n",
       "Murder_count               4           41             390            7552  \n",
       "Region                Europe      Oceania          Africa          Africa  \n",
       "Subregion     Western Europe  Australasia  Eastern Africa  Eastern Africa  \n",
       "Year_listed             2014         2014            2015            2015  \n",
       "UNODC_notes              NaN          NaN             NaN             NaN  "
      ]
     },
     "execution_count": 5,
     "metadata": {},
     "output_type": "execute_result"
    }
   ],
   "source": [
    "\n",
    "file_name = r'../data/html/UNODC_murder_rates.html'\n",
    "unodc_df = pd.read_html(file_name)[0]\n",
    "unodc_df.columns = ['Country', 'Murder_rate', 'Murder_count', 'Region', 'Subregion', 'Year_listed',\n",
    "                    'UNODC_notes']\n",
    "unodc_df.sample(10).T"
   ]
  },
  {
   "cell_type": "code",
   "execution_count": 7,
   "metadata": {},
   "outputs": [
    {
     "data": {
      "text/html": [
       "<div>\n",
       "<style scoped>\n",
       "    .dataframe tbody tr th:only-of-type {\n",
       "        vertical-align: middle;\n",
       "    }\n",
       "\n",
       "    .dataframe tbody tr th {\n",
       "        vertical-align: top;\n",
       "    }\n",
       "\n",
       "    .dataframe thead th {\n",
       "        text-align: right;\n",
       "    }\n",
       "</style>\n",
       "<table border=\"1\" class=\"dataframe\">\n",
       "  <thead>\n",
       "    <tr style=\"text-align: right;\">\n",
       "      <th></th>\n",
       "      <th>24</th>\n",
       "      <th>2</th>\n",
       "      <th>35</th>\n",
       "      <th>34</th>\n",
       "      <th>18</th>\n",
       "      <th>44</th>\n",
       "      <th>46</th>\n",
       "      <th>12</th>\n",
       "      <th>15</th>\n",
       "      <th>32</th>\n",
       "    </tr>\n",
       "  </thead>\n",
       "  <tbody>\n",
       "    <tr>\n",
       "      <th>Country</th>\n",
       "      <td>Luxembourg</td>\n",
       "      <td>Australia</td>\n",
       "      <td>Romania</td>\n",
       "      <td>Qatar</td>\n",
       "      <td>Greece</td>\n",
       "      <td>United Kingdom</td>\n",
       "      <td>Vietnam</td>\n",
       "      <td>Denmark</td>\n",
       "      <td>France</td>\n",
       "      <td>Poland</td>\n",
       "    </tr>\n",
       "    <tr>\n",
       "      <th>GGGI_2015</th>\n",
       "      <td>0.74</td>\n",
       "      <td>0.73</td>\n",
       "      <td>0.69</td>\n",
       "      <td>0.65</td>\n",
       "      <td>0.69</td>\n",
       "      <td>0.76</td>\n",
       "      <td>0.69</td>\n",
       "      <td>0.77</td>\n",
       "      <td>0.76</td>\n",
       "      <td>0.72</td>\n",
       "    </tr>\n",
       "    <tr>\n",
       "      <th>Percent_STEM_Women</th>\n",
       "      <td>28.7</td>\n",
       "      <td>24.5</td>\n",
       "      <td>32.6</td>\n",
       "      <td>22.9</td>\n",
       "      <td>30.4</td>\n",
       "      <td>29.4</td>\n",
       "      <td>36.4</td>\n",
       "      <td>29.3</td>\n",
       "      <td>25.6</td>\n",
       "      <td>26.9</td>\n",
       "    </tr>\n",
       "    <tr>\n",
       "      <th>Murder_rate</th>\n",
       "      <td>0.72</td>\n",
       "      <td>0.98</td>\n",
       "      <td>1.49</td>\n",
       "      <td>8.1</td>\n",
       "      <td>0.85</td>\n",
       "      <td>0.92</td>\n",
       "      <td>1.52</td>\n",
       "      <td>0.99</td>\n",
       "      <td>1.58</td>\n",
       "      <td>0.74</td>\n",
       "    </tr>\n",
       "    <tr>\n",
       "      <th>Murder_count</th>\n",
       "      <td>4</td>\n",
       "      <td>236</td>\n",
       "      <td>291</td>\n",
       "      <td>181</td>\n",
       "      <td>93</td>\n",
       "      <td>594</td>\n",
       "      <td>1358</td>\n",
       "      <td>56</td>\n",
       "      <td>1017</td>\n",
       "      <td>286</td>\n",
       "    </tr>\n",
       "    <tr>\n",
       "      <th>Region</th>\n",
       "      <td>Europe</td>\n",
       "      <td>Oceania</td>\n",
       "      <td>Europe</td>\n",
       "      <td>Asia</td>\n",
       "      <td>Europe</td>\n",
       "      <td>Europe</td>\n",
       "      <td>Asia</td>\n",
       "      <td>Europe</td>\n",
       "      <td>Europe</td>\n",
       "      <td>Europe</td>\n",
       "    </tr>\n",
       "    <tr>\n",
       "      <th>Subregion</th>\n",
       "      <td>Western Europe</td>\n",
       "      <td>Australasia</td>\n",
       "      <td>Eastern Europe</td>\n",
       "      <td>Western Asia</td>\n",
       "      <td>Southern Europe</td>\n",
       "      <td>Northern Europe</td>\n",
       "      <td>South-Eastern Asia</td>\n",
       "      <td>Northern Europe</td>\n",
       "      <td>Western Europe</td>\n",
       "      <td>Eastern Europe</td>\n",
       "    </tr>\n",
       "    <tr>\n",
       "      <th>Year_listed</th>\n",
       "      <td>2014</td>\n",
       "      <td>2015</td>\n",
       "      <td>2015</td>\n",
       "      <td>2015</td>\n",
       "      <td>2015</td>\n",
       "      <td>2014</td>\n",
       "      <td>2011</td>\n",
       "      <td>2015</td>\n",
       "      <td>2015</td>\n",
       "      <td>2015</td>\n",
       "    </tr>\n",
       "    <tr>\n",
       "      <th>UNODC_notes</th>\n",
       "      <td>NaN</td>\n",
       "      <td>NaN</td>\n",
       "      <td>NaN</td>\n",
       "      <td>NaN</td>\n",
       "      <td>NaN</td>\n",
       "      <td>NaN</td>\n",
       "      <td>NaN</td>\n",
       "      <td>NaN</td>\n",
       "      <td>NaN</td>\n",
       "      <td>NaN</td>\n",
       "    </tr>\n",
       "  </tbody>\n",
       "</table>\n",
       "</div>"
      ],
      "text/plain": [
       "                                24           2               35            34  \\\n",
       "Country                 Luxembourg    Australia         Romania         Qatar   \n",
       "GGGI_2015                     0.74         0.73            0.69          0.65   \n",
       "Percent_STEM_Women            28.7         24.5            32.6          22.9   \n",
       "Murder_rate                   0.72         0.98            1.49           8.1   \n",
       "Murder_count                     4          236             291           181   \n",
       "Region                      Europe      Oceania          Europe          Asia   \n",
       "Subregion           Western Europe  Australasia  Eastern Europe  Western Asia   \n",
       "Year_listed                   2014         2015            2015          2015   \n",
       "UNODC_notes                    NaN          NaN             NaN           NaN   \n",
       "\n",
       "                                 18               44                  46  \\\n",
       "Country                      Greece   United Kingdom             Vietnam   \n",
       "GGGI_2015                      0.69             0.76                0.69   \n",
       "Percent_STEM_Women             30.4             29.4                36.4   \n",
       "Murder_rate                    0.85             0.92                1.52   \n",
       "Murder_count                     93              594                1358   \n",
       "Region                       Europe           Europe                Asia   \n",
       "Subregion           Southern Europe  Northern Europe  South-Eastern Asia   \n",
       "Year_listed                    2015             2014                2011   \n",
       "UNODC_notes                     NaN              NaN                 NaN   \n",
       "\n",
       "                                 12              15              32  \n",
       "Country                     Denmark          France          Poland  \n",
       "GGGI_2015                      0.77            0.76            0.72  \n",
       "Percent_STEM_Women             29.3            25.6            26.9  \n",
       "Murder_rate                    0.99            1.58            0.74  \n",
       "Murder_count                     56            1017             286  \n",
       "Region                       Europe          Europe          Europe  \n",
       "Subregion           Northern Europe  Western Europe  Eastern Europe  \n",
       "Year_listed                    2015            2015            2015  \n",
       "UNODC_notes                     NaN             NaN             NaN  "
      ]
     },
     "execution_count": 7,
     "metadata": {},
     "output_type": "execute_result"
    }
   ],
   "source": [
    "\n",
    "gggi_stem_df.columns = ['Country', 'GGGI_2015', 'Percent_STEM_Women']\n",
    "merge_df = pd.merge(left=gggi_stem_df, right=unodc_df, how='inner', on=['Country'],\n",
    "                    suffixes=('_gggi_stem', '_unodc'))\n",
    "merge_df.sample(10).T"
   ]
  },
  {
   "cell_type": "code",
   "execution_count": 27,
   "metadata": {},
   "outputs": [
    {
     "data": {
      "text/plain": [
       "array(['Europe', 'Africa', 'Oceania', 'Americas', 'Asia'], dtype=object)"
      ]
     },
     "execution_count": 27,
     "metadata": {},
     "output_type": "execute_result"
    }
   ],
   "source": [
    "\n",
    "merge_df['Region'].unique()"
   ]
  },
  {
   "cell_type": "code",
   "execution_count": 28,
   "metadata": {},
   "outputs": [],
   "source": [
    "\n",
    "def get_color(region):\n",
    "    region_color = 'w'\n",
    "    if region in ['Europe']:\n",
    "        \n",
    "        # Blue\n",
    "        region_color = 'b'\n",
    "        \n",
    "    elif region == 'Africa':\n",
    "        \n",
    "        # Black\n",
    "        region_color = 'k'\n",
    "        \n",
    "    elif region == 'Oceania':\n",
    "        \n",
    "        # Cyan\n",
    "        region_color = 'c'\n",
    "        \n",
    "    elif region == 'Americas':\n",
    "        \n",
    "        # Green\n",
    "        region_color = 'g'\n",
    "        \n",
    "    elif region == 'Asia':\n",
    "        \n",
    "        # Red\n",
    "        region_color = 'r'\n",
    "    \n",
    "    return region_color"
   ]
  },
  {
   "cell_type": "code",
   "execution_count": 29,
   "metadata": {},
   "outputs": [
    {
     "data": {
      "image/png": "[encoded data removed]",
      "text/plain": [
       "<Figure size 864x576 with 1 Axes>"
      ]
     },
     "metadata": {},
     "output_type": "display_data"
    }
   ],
   "source": [
    "\n",
    "# First order (linear) scatterplot\n",
    "import matplotlib.pyplot as plt\n",
    "import seaborn as sns\n",
    "import random\n",
    "%matplotlib inline\n",
    "\n",
    "fig1_fig = plt.figure(figsize=(12,8))\n",
    "scatter_kws = dict(facecolors=merge_df['Region'].map(get_color))\n",
    "xname = 'GGGI_2015'\n",
    "yname = 'Percent_STEM_Women'\n",
    "merge_axes_subplot = sns.regplot(x=xname, y=yname, scatter=True, data=merge_df,\n",
    "                                 scatter_kws=scatter_kws)\n",
    "xlabel_text = plt.xlabel('Global Gender Gap Index 2015 (explanatory variable)')\n",
    "ylabel_str = 'The percentage of women among STEM graduates in tertiary education (response variable)'\n",
    "ylabel_text = plt.ylabel(ylabel_str)\n",
    "kwargs = dict(textcoords='offset points', ha='left', va='bottom',\n",
    "              bbox=dict(boxstyle='round,pad=0.5', fc='yellow', alpha=0.5),\n",
    "              arrowprops=dict(arrowstyle='->', connectionstyle='arc3,rad=0'))\n",
    "smallest_gap = merge_df[xname].min()\n",
    "biggest_gap = merge_df[xname].max()\n",
    "most_in_stem = merge_df[yname].max()\n",
    "least_in_stem = merge_df[yname].min()\n",
    "n = 0\n",
    "for label, x, y in zip(merge_df['Country'], merge_df[xname], merge_df[yname]):\n",
    "    if (x == smallest_gap):\n",
    "        annotation = plt.annotate(label, xy=(x, y), xytext=(0, 45), **kwargs)\n",
    "    if (x == biggest_gap):\n",
    "        annotation = plt.annotate(label, xy=(x, y), xytext=(-50+20*n, 50+50*n), **kwargs)\n",
    "        n += 1\n",
    "    if (y == most_in_stem):\n",
    "        annotation = plt.annotate(label, xy=(x, y), xytext=(45, 0), **kwargs)\n",
    "    if (y == least_in_stem):\n",
    "        annotation = plt.annotate(label, xy=(x, y), xytext=(45, 0), **kwargs)"
   ]
  },
  {
   "cell_type": "code",
   "execution_count": null,
   "metadata": {},
   "outputs": [],
   "source": [
    "\n",
    "wiki_url = 'https://en.wikipedia.org/wiki/'\n",
    "tables_url = '{}Global_Gender_Gap_Report'.format(wiki_url)\n",
    "tables_df_list = pd.read_html(tables_url)\n",
    "gggi_df = tables_df_list[0]"
   ]
  },
  {
   "cell_type": "code",
   "execution_count": null,
   "metadata": {},
   "outputs": [],
   "source": [
    "\n",
    "import re\n",
    "\n",
    "gggi_df.columns = list(gggi_df.iloc[0].values[:2]) + [int(re.split('[\\.\\[]', str(year))[0])\n",
    "                                                      for year in list(gggi_df.iloc[1].values[:-2])]"
   ]
  },
  {
   "cell_type": "code",
   "execution_count": null,
   "metadata": {},
   "outputs": [],
   "source": [
    "\n",
    "rate_by_state_df = tables_df_list[0].dropna(axis=0, how='all').dropna(axis=1, how='all')\n",
    "rate_by_state_df.columns = rate_by_state_df.iloc[0]\n",
    "rate_by_state_df = rate_by_state_df.iloc[1:].T\n",
    "rate_by_state_df.columns = rate_by_state_df.iloc[0]\n",
    "rate_by_state_df = rate_by_state_df.iloc[1:].T\n",
    "rate_by_state_df.columns = rate_by_state_df.columns.map(lambda x: int(x))\n",
    "rate_by_state_df.head(5).T.head(5).T"
   ]
  },
  {
   "cell_type": "code",
   "execution_count": null,
   "metadata": {},
   "outputs": [],
   "source": [
    "\n",
    "wiki_url = 'https://en.wikipedia.org/wiki/'\n",
    "us_pop_df = pd.DataFrame([])\n",
    "year = 1980\n",
    "try:\n",
    "    tables_url = '{}{}_United_States_Census'.format(wiki_url, year)\n",
    "    tables_df_list = pd.read_html(tables_url)\n",
    "\n",
    "    pop_df = tables_df_list[1].dropna(axis=0, how='all').dropna(axis=1, how='all')\n",
    "    pop_df.columns = pop_df.iloc[0]\n",
    "    \n",
    "    pop_df = pop_df.iloc[1:].T\n",
    "    pop_df.columns = pop_df.iloc[1]\n",
    "    \n",
    "    column_list = [0, 2]\n",
    "    pop_df = pop_df.iloc[column_list].T\n",
    "    pop_df.columns = ['Rank_{}'.format(year), 'Population_{}'.format(year)]\n",
    "    \n",
    "    us_pop_df = pd.merge(left=us_pop_df, right=pop_df, how='outer',\n",
    "                         left_index=True, right_index=True)\n",
    "except Exception as e:\n",
    "    print('{}: {}'.format(year, e))"
   ]
  },
  {
   "cell_type": "code",
   "execution_count": null,
   "metadata": {},
   "outputs": [],
   "source": [
    "\n",
    "year = 1990\n",
    "try:\n",
    "    tables_url = '{}{}_United_States_Census'.format(wiki_url, year)\n",
    "    tables_df_list = pd.read_html(tables_url)\n",
    "\n",
    "    pop_df = tables_df_list[1].dropna(axis=0, how='all').dropna(axis=1, how='all')\n",
    "    pop_df.columns = pop_df.iloc[0]\n",
    "    \n",
    "    pop_df = pop_df.iloc[1:].T\n",
    "    pop_df.columns = pop_df.iloc[1]\n",
    "    \n",
    "    column_list = [0, 3]\n",
    "    pop_df = pop_df.iloc[column_list].T\n",
    "    pop_df.columns = ['Rank_{}'.format(year), 'Population_{}'.format(year)]\n",
    "    \n",
    "    us_pop_df = pd.merge(left=us_pop_df, right=pop_df, how='outer',\n",
    "                         left_index=True, right_index=True)\n",
    "except Exception as e:\n",
    "    print('{}: {}'.format(year, e))"
   ]
  },
  {
   "cell_type": "code",
   "execution_count": null,
   "metadata": {},
   "outputs": [],
   "source": [
    "\n",
    "year = 2000\n",
    "try:\n",
    "    tables_url = '{}{}_United_States_Census'.format(wiki_url, year)\n",
    "    tables_df_list = pd.read_html(tables_url)\n",
    "\n",
    "    pop_df = tables_df_list[1].dropna(axis=0, how='all').dropna(axis=1, how='all')\n",
    "    pop_df.columns = pop_df.iloc[0]\n",
    "    \n",
    "    pop_df = pop_df.iloc[1:].T\n",
    "    pop_df.columns = pop_df.iloc[1]\n",
    "    \n",
    "    column_list = [0, 3]\n",
    "    pop_df = pop_df.iloc[column_list].T\n",
    "    pop_df.columns = ['Rank_{}'.format(year), 'Population_{}'.format(year)]\n",
    "    \n",
    "    us_pop_df = pd.merge(left=us_pop_df, right=pop_df, how='outer',\n",
    "                         left_index=True, right_index=True)\n",
    "except Exception as e:\n",
    "    print('{}: {}'.format(year, e))"
   ]
  },
  {
   "cell_type": "code",
   "execution_count": null,
   "metadata": {},
   "outputs": [],
   "source": [
    "\n",
    "year = 2010\n",
    "try:\n",
    "    tables_url = '{}{}_United_States_Census'.format(wiki_url, year)\n",
    "    tables_df_list = pd.read_html(tables_url)\n",
    "\n",
    "    pop_df = tables_df_list[2].dropna(axis=0, how='all').dropna(axis=1, how='all')\n",
    "    pop_df.columns = pop_df.iloc[0]\n",
    "    \n",
    "    pop_df = pop_df.iloc[1:].T\n",
    "    pop_df.columns = pop_df.iloc[1]\n",
    "    \n",
    "    column_list = [0, 3]\n",
    "    pop_df = pop_df.iloc[column_list].T\n",
    "    pop_df.columns = ['Rank_{}'.format(year), 'Population_{}'.format(year)]\n",
    "    \n",
    "    us_pop_df = pd.merge(left=us_pop_df, right=pop_df, how='outer',\n",
    "                         left_index=True, right_index=True)\n",
    "except Exception as e:\n",
    "    print('{}: {}'.format(year, e))"
   ]
  },
  {
   "cell_type": "code",
   "execution_count": null,
   "metadata": {},
   "outputs": [],
   "source": [
    "\n",
    "pop_df.head()"
   ]
  },
  {
   "cell_type": "code",
   "execution_count": null,
   "metadata": {},
   "outputs": [],
   "source": [
    "\n",
    "us_pop_df = us_pop_df.dropna()\n",
    "us_pop_df.sample(5).T"
   ]
  },
  {
   "cell_type": "code",
   "execution_count": null,
   "metadata": {},
   "outputs": [],
   "source": [
    "\n",
    "dtype_df = get_column_descriptions(us_pop_df)\n",
    "match_series = (dtype_df['only_integers'] == True)"
   ]
  },
  {
   "cell_type": "code",
   "execution_count": null,
   "metadata": {},
   "outputs": [],
   "source": [
    "\n",
    "for column_name in dtype_df[match_series]['column_name']:\n",
    "    us_pop_df[column_name] = us_pop_df[column_name].map(lambda x: int(x))"
   ]
  },
  {
   "cell_type": "code",
   "execution_count": null,
   "metadata": {},
   "outputs": [],
   "source": [
    "\n",
    "def f(x):\n",
    "    \n",
    "    return float(x[:-1])/100"
   ]
  },
  {
   "cell_type": "code",
   "execution_count": null,
   "metadata": {},
   "outputs": [],
   "source": [
    "\n",
    "tables_url = '{}Historical_racial_and_ethnic_demographics_of_the_United_States'.format(wiki_url)\n",
    "tables_df_list = pd.read_html(tables_url)"
   ]
  },
  {
   "cell_type": "code",
   "execution_count": null,
   "metadata": {},
   "outputs": [],
   "source": [
    "\n",
    "# African–Americans as percentage of total population (1790–2010) by U.S. state\n",
    "black_pop_df = tables_df_list[27]\n",
    "black_pop_df.columns = black_pop_df.iloc[0]\n",
    "black_pop_df = black_pop_df.iloc[1:].T\n",
    "black_pop_df.columns = black_pop_df.iloc[0]\n",
    "black_pop_df = black_pop_df.iloc[1:].T\n",
    "black_pop_df.columns = [int(column_name) for column_name in black_pop_df.columns]\n",
    "blacks_max_year_df = black_pop_df[max_year].reset_index()\n",
    "blacks_max_year_df.columns = ['State', 'Percent']\n",
    "blacks_max_year_df['Race'] = 'Black'\n",
    "column_list = ['State', 'Race']\n",
    "blacks_max_year_groupby = blacks_max_year_df.groupby(by=column_list)\n",
    "blacks_max_year_df = blacks_max_year_groupby['Percent'].max().map(f).reset_index()"
   ]
  },
  {
   "cell_type": "code",
   "execution_count": null,
   "metadata": {},
   "outputs": [],
   "source": [
    "\n",
    "tables_url = '{}White_Americans'.format(wiki_url)\n",
    "tables_df_list = pd.read_html(tables_url)"
   ]
  },
  {
   "cell_type": "code",
   "execution_count": null,
   "metadata": {},
   "outputs": [],
   "source": [
    "\n",
    "# White American population as of 2000 and 2010 censuses\n",
    "white_pop_df = tables_df_list[2]\n",
    "white_pop_df.columns = white_pop_df.iloc[0]\n",
    "white_pop_df = white_pop_df.iloc[1:].T\n",
    "white_pop_df.columns = white_pop_df.iloc[0]\n",
    "white_pop_df = white_pop_df.iloc[1:].T\n",
    "white_pop_df.columns = ['Population_2000', 'Percent_2000', 'Population_2010',\n",
    "                        'Percent_2010', 'Percent_Growth']\n",
    "whites_max_year_df = white_pop_df['Percent_{}'.format(max_year)].reset_index()\n",
    "whites_max_year_df.columns = ['State', 'Percent']\n",
    "whites_max_year_df['Race'] = 'White'\n",
    "column_list = ['State', 'Race']\n",
    "whites_max_year_groupby = whites_max_year_df.groupby(by=column_list)\n",
    "whites_max_year_df = whites_max_year_groupby['Percent'].max().map(f).reset_index()"
   ]
  },
  {
   "cell_type": "code",
   "execution_count": null,
   "metadata": {},
   "outputs": [],
   "source": [
    "\n",
    "column_list = ['State', 'Race', 'Percent']\n",
    "percents_df = pd.merge(left=whites_max_year_df, right=blacks_max_year_df, how='outer',\n",
    "                       on=column_list).sort_values(column_list).reset_index(drop=True)\n",
    "column_list = ['State', 'Race']\n",
    "homicides_max_year_df = pd.merge(left=homicides_max_year_df, right=percents_df, how='outer',\n",
    "                                 on=column_list).sort_values(column_list).reset_index(drop=True)"
   ]
  },
  {
   "cell_type": "markdown",
   "metadata": {},
   "source": [
    "\n",
    "We are looking to compute the intentional homicide rate per 100,000 inhabitants for our max year."
   ]
  },
  {
   "cell_type": "code",
   "execution_count": null,
   "metadata": {},
   "outputs": [],
   "source": [
    "\n",
    "wiki_url = 'https://en.wikipedia.org/wiki/'\n",
    "tables_url = '{}List_of_countries_by_intentional_homicide_rate'.format(wiki_url)\n",
    "tables_df_list = pd.read_html(tables_url)\n",
    "len(tables_df_list)"
   ]
  },
  {
   "cell_type": "code",
   "execution_count": null,
   "metadata": {},
   "outputs": [],
   "source": [
    "\n",
    "# UNODC murder rates: murders per 100,000 inhabitants\n",
    "country_pop_df = tables_df_list[3]\n",
    "country_pop_df.columns = country_pop_df.iloc[0]\n",
    "country_pop_df = country_pop_df.iloc[2:].T\n",
    "country_pop_df.columns = country_pop_df.iloc[0]\n",
    "country_pop_df = country_pop_df.iloc[1:].T\n",
    "country_pop_df.index.name = 'Country'\n",
    "country_pop_df.columns = ['Region', 'Subregion', 'Rate', 'Count', 'Year', 'Source']\n",
    "country_pop_df['Rate'] = country_pop_df['Rate'].map(lambda x: float(x))"
   ]
  },
  {
   "cell_type": "code",
   "execution_count": null,
   "metadata": {},
   "outputs": [],
   "source": [
    "\n",
    "match_series = (country_pop_df['Subregion'].isin(['Eastern Africa', 'Middle Africa',\n",
    "                                                  'Southern Africa', 'Western Africa']))\n",
    "african_homicide_rates = country_pop_df[match_series]['Rate'].dropna().tolist()"
   ]
  },
  {
   "cell_type": "code",
   "execution_count": null,
   "metadata": {},
   "outputs": [],
   "source": [
    "\n",
    "match_series = (country_pop_df['Region'] == 'Europe')\n",
    "european_homicide_rates = country_pop_df[match_series]['Rate'].dropna().tolist()"
   ]
  },
  {
   "cell_type": "code",
   "execution_count": null,
   "metadata": {},
   "outputs": [],
   "source": [
    "\n",
    "homicides_max_year_df.columns"
   ]
  },
  {
   "cell_type": "code",
   "execution_count": null,
   "metadata": {},
   "outputs": [],
   "source": [
    "\n",
    "us_pop_df"
   ]
  },
  {
   "cell_type": "code",
   "execution_count": null,
   "metadata": {},
   "outputs": [],
   "source": [
    "\n",
    "import numpy as np\n",
    "\n",
    "pop_dict = us_pop_df['Population_{}'.format(max_year)].to_dict()\n",
    "\n",
    "def f(row_series):\n",
    "    state = row_series['State']\n",
    "    count = row_series['Victim Count']\n",
    "    if state in pop_dict:\n",
    "        population = pop_dict[state]\n",
    "        rate = 100000*count/population\n",
    "    else:\n",
    "        rate = np.nan\n",
    "    \n",
    "    return rate\n",
    "\n",
    "homicides_max_year_df['Rate'] = homicides_max_year_df.apply(f, axis=1)"
   ]
  },
  {
   "cell_type": "code",
   "execution_count": null,
   "metadata": {},
   "outputs": [],
   "source": [
    "\n",
    "homicides_max_year_df"
   ]
  },
  {
   "cell_type": "code",
   "execution_count": null,
   "metadata": {},
   "outputs": [],
   "source": [
    "\n",
    "match_series = (homicides_max_year_df['Race'] == 'Black')\n",
    "black_homicide_rates = homicides_max_year_df[match_series]['Rate'].dropna().tolist()"
   ]
  },
  {
   "cell_type": "code",
   "execution_count": null,
   "metadata": {},
   "outputs": [],
   "source": [
    "\n",
    "match_series = (homicides_max_year_df['Race'] == 'White')\n",
    "white_homicide_rates = homicides_max_year_df[match_series]['Rate'].dropna().tolist()"
   ]
  },
  {
   "cell_type": "code",
   "execution_count": null,
   "metadata": {},
   "outputs": [],
   "source": [
    "\n",
    "match_series = (homicides_max_year_df['Race'] == 'Black')\n",
    "mean_black_homicide_rate = homicides_max_year_df[match_series]['Rate'].mean()\n",
    "match_series = (homicides_max_year_df['Race'] == 'White')\n",
    "mean_white_homicide_rate = homicides_max_year_df[match_series]['Rate'].mean()\n",
    "match_series = (country_pop_df['Region'] == 'Europe')\n",
    "mean_european_homicide_rate = country_pop_df[match_series]['Rate'].mean()\n",
    "match_series = (country_pop_df['Subregion'].isin(['Eastern Africa', 'Middle Africa',\n",
    "                                                  'Southern Africa', 'Western Africa']))\n",
    "mean_african_homicide_rate = country_pop_df[match_series]['Rate'].mean()\n",
    "print_str = '''\n",
    "Mean African Homicide Rate: {}\n",
    "Mean Black Homicide Rate: {}\n",
    "Mean European Homicide Rate: {}\n",
    "Mean White Homicide Rate: {}'''\n",
    "print(print_str.format(mean_african_homicide_rate, mean_black_homicide_rate,\n",
    "                       mean_european_homicide_rate, mean_white_homicide_rate))"
   ]
  },
  {
   "cell_type": "code",
   "execution_count": null,
   "metadata": {},
   "outputs": [],
   "source": [
    "\n",
    "match_series = (homicides_df['Perpetrator Race'] == 'Black') & (homicides_df['Year'] == max_year)\n",
    "victum_count = homicides_df[match_series]['Victim Count'].sum()\n",
    "pop_count = us_pop_df['Population_{}'.format(max_year)].sum()\n",
    "victum_count*100000/pop_count"
   ]
  },
  {
   "cell_type": "code",
   "execution_count": null,
   "metadata": {},
   "outputs": [],
   "source": [
    "\n",
    "match_series = (homicides_max_year_df['Race'] == 'Black')\n",
    "homicides_max_year_df[match_series]['Victim Count'].sum()"
   ]
  },
  {
   "cell_type": "code",
   "execution_count": null,
   "metadata": {},
   "outputs": [],
   "source": [
    "\n",
    "from scipy.stats import ttest_ind\n",
    "\n",
    "format_str = 'Here are the country groups tested against the murder rate data you agreed to:'\n",
    "print(format_str)\n",
    "print()\n",
    "\n",
    "hypothesis_format_str = 'We {} reject the null hypothesis that the {} '\n",
    "hypothesis_format_str += 'population did not come from the same distribution as the {} population.'\n",
    "\n",
    "def test_populations(global_data, us_data, country_str, test_race):\n",
    "    t, p = ttest_ind(a=global_data, b=us_data, axis=0, equal_var=True, nan_policy='raise')\n",
    "    print('{} vs {}: t={:0.2f}; p={:0.3f}'.format(country_str, test_race, t[0], p[0]))\n",
    "\n",
    "    # If that probability is small we can reject the null hypothesis\n",
    "    if p[0] < 0.05:\n",
    "        can_cannot = 'can'\n",
    "    else:\n",
    "        can_cannot = 'cannot'\n",
    "    print(hypothesis_format_str.format(can_cannot, test_race, country_str))\n",
    "    print()\n",
    "\n",
    "test_race = 'US White'\n",
    "us_white_data = np.array(white_homicide_rates).reshape((-1, 1))\n",
    "global_european_data = np.array(european_homicide_rates).reshape((-1, 1))\n",
    "global_african_data = np.array(african_homicide_rates).reshape((-1, 1))\n",
    "\n",
    "country_str = 'European countries'\n",
    "test_populations(global_european_data, us_white_data, country_str, test_race)\n",
    "country_str = 'African countries'\n",
    "test_populations(global_african_data, us_white_data, country_str, test_race)\n",
    "\n",
    "test_race = 'US Black'\n",
    "us_black_data = np.array(black_homicide_rates).reshape((-1, 1))\n",
    "\n",
    "country_str = 'European countries'\n",
    "test_populations(global_european_data, us_black_data, country_str, test_race)\n",
    "country_str = 'African countries'\n",
    "test_populations(global_african_data, us_black_data, country_str, test_race)"
   ]
  },
  {
   "cell_type": "code",
   "execution_count": null,
   "metadata": {},
   "outputs": [],
   "source": [
    "\n",
    "import matplotlib.pyplot as plt\n",
    "%matplotlib inline"
   ]
  },
  {
   "cell_type": "code",
   "execution_count": null,
   "metadata": {},
   "outputs": [],
   "source": [
    "\n",
    "fig = plt.figure(figsize=(18, 4))\n",
    "ax = fig.add_subplot(111, autoscale_on=True)\n",
    "whites_AxesSubplot = pd.Series(white_homicide_rates).hist(ax=ax, bins=10, alpha=0.75, color='green')\n",
    "europeans_AxesSubplot = pd.Series(european_homicide_rates).hist(ax=ax, bins=10, alpha=0.25,\n",
    "                                                                color='red')"
   ]
  },
  {
   "cell_type": "code",
   "execution_count": null,
   "metadata": {},
   "outputs": [],
   "source": [
    "\n",
    "fig = plt.figure(figsize=(18, 4))\n",
    "ax = fig.add_subplot(111, autoscale_on=True)\n",
    "blacks_AxesSubplot = pd.Series(black_homicide_rates).hist(ax=ax, bins=10, alpha=0.75, color='green')\n",
    "africans_AxesSubplot = pd.Series(african_homicide_rates).hist(ax=ax, bins=10, alpha=0.25,\n",
    "                                                                color='red')"
   ]
  },
  {
   "cell_type": "code",
   "execution_count": null,
   "metadata": {},
   "outputs": [],
   "source": [
    "%%javascript\n",
    "var kernel = IPython.notebook.kernel;\n",
    "var body = document.body,  \n",
    "    attribs = body.attributes;\n",
    "var command = \"notebook_path = \" + \"'\"+attribs['data-notebook-path'].value+\"'\";\n",
    "kernel.execute(command);"
   ]
  },
  {
   "cell_type": "code",
   "execution_count": null,
   "metadata": {},
   "outputs": [],
   "source": [
    "# %load ../../load_magic/nbviewer.py\n",
    "\n",
    "from IPython.display import HTML\n",
    "\n",
    "notebook_viewer_url = 'https://nbviewer.jupyter.org/github/dbabbitt/notebooks/blob/master/'\n",
    "notebook_viewer_url += '/'.join(notebook_path.split('/')[1:])\n",
    "html_str = 'Click <a href=\"{}\" target=\"_blank\">here</a> to view notebook in nbviewer.'\n",
    "HTML(html_str.format(notebook_viewer_url))"
   ]
  },
  {
   "cell_type": "code",
   "execution_count": null,
   "metadata": {},
   "outputs": [],
   "source": []
  }
 ],
 "metadata": {
  "kernelspec": {
   "display_name": "Python 3",
   "language": "python",
   "name": "python3"
  },
  "language_info": {
   "codemirror_mode": {
    "name": "ipython",
    "version": 3
   },
   "file_extension": ".py",
   "mimetype": "text/x-python",
   "name": "python",
   "nbconvert_exporter": "python",
   "pygments_lexer": "ipython3",
   "version": "3.6.8"
  }
 },
 "nbformat": 4,
 "nbformat_minor": 2
}
