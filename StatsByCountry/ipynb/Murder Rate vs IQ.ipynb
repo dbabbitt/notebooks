{
 "cells": [
  {
   "cell_type": "code",
   "execution_count": null,
   "metadata": {},
   "outputs": [],
   "source": [
    "\n",
    "%run ../../load_magic/storage.py\n",
    "%run ../../load_magic/dataframes.py\n",
    "%pprint\n",
    "%who"
   ]
  },
  {
   "cell_type": "code",
   "execution_count": null,
   "metadata": {},
   "outputs": [],
   "source": [
    "\n",
    "blackstatsbycountry_df = load_csv('blackstatsbycountry')"
   ]
  },
  {
   "cell_type": "code",
   "execution_count": null,
   "metadata": {},
   "outputs": [],
   "source": [
    "\n",
    "blackstatsbycountry_df['Racial_Region'].unique()"
   ]
  },
  {
   "cell_type": "code",
   "execution_count": null,
   "metadata": {},
   "outputs": [],
   "source": [
    "\n",
    "mask_series = (blackstatsbycountry_df['Racial_Region'] == 'African')\n",
    "blackstatsbycountry_df[mask_series]"
   ]
  },
  {
   "cell_type": "code",
   "execution_count": null,
   "metadata": {},
   "outputs": [],
   "source": [
    "\n",
    "%matplotlib inline\n",
    "import matplotlib.pyplot as plt\n",
    "\n",
    "def chart_racial_region(racial_region):\n",
    "    mask_series = (blackstatsbycountry_df['Racial_Region'] == racial_region)\n",
    "    x = blackstatsbycountry_df[mask_series]['UNODC_murder_Rate'].tolist()\n",
    "    y = blackstatsbycountry_df[mask_series]['Lynn_Vanhanen_Avg_IQ'].tolist()\n",
    "    c = ['r' if 'United States' in cn else 'g' for cn in blackstatsbycountry_df[mask_series]['Country'].tolist()]\n",
    "    PathCollection_obj = plt.scatter(x, y, c=c)\n",
    "\n",
    "    # Set labels\n",
    "    xlabel_str = 'Murder Rate'\n",
    "    plt.gca().set_xlabel(xlabel_str)\n",
    "    ylabel_str = 'Average IQ'\n",
    "    plt.gca().set_ylabel(ylabel_str)\n",
    "    title_text = plt.gca().set_title('{} vs {}, {}'.format(ylabel_str, xlabel_str, racial_region))"
   ]
  },
  {
   "cell_type": "code",
   "execution_count": null,
   "metadata": {},
   "outputs": [],
   "source": [
    "\n",
    "racial_region = 'African'\n",
    "chart_racial_region(racial_region)"
   ]
  },
  {
   "cell_type": "code",
   "execution_count": null,
   "metadata": {},
   "outputs": [],
   "source": [
    "\n",
    "mask_series = (blackstatsbycountry_df['Racial_Region'] == 'European')\n",
    "blackstatsbycountry_df[mask_series]"
   ]
  },
  {
   "cell_type": "code",
   "execution_count": null,
   "metadata": {},
   "outputs": [],
   "source": [
    "\n",
    "mask_series = (blackstatsbycountry_df['Racial_Region'] == 'African')\n",
    "blackstatsbycountry_df[mask_series]"
   ]
  },
  {
   "cell_type": "code",
   "execution_count": null,
   "metadata": {},
   "outputs": [],
   "source": [
    "\n",
    "racial_region = 'European'\n",
    "chart_racial_region(racial_region)"
   ]
  },
  {
   "cell_type": "code",
   "execution_count": null,
   "metadata": {},
   "outputs": [],
   "source": [
    "\n",
    "!pip install jupyter-console --upgrade --quiet"
   ]
  },
  {
   "cell_type": "code",
   "execution_count": null,
   "metadata": {},
   "outputs": [],
   "source": [
    "\n",
    "!pip install prompt_toolkit --upgrade --quiet"
   ]
  },
  {
   "cell_type": "code",
   "execution_count": null,
   "metadata": {},
   "outputs": [],
   "source": [
    "\n",
    "!pip install ipython --upgrade --quiet"
   ]
  },
  {
   "cell_type": "code",
   "execution_count": null,
   "metadata": {},
   "outputs": [],
   "source": [
    "\n",
    "!pip install seaborn --upgrade --quiet"
   ]
  },
  {
   "cell_type": "code",
   "execution_count": null,
   "metadata": {},
   "outputs": [],
   "source": [
    "\n",
    "import seaborn as sns\n",
    "\n",
    "mask_series = (blackstatsbycountry_df['Racial_Region'].isin(['African', 'European']))\n",
    "df = blackstatsbycountry_df[mask_series].copy()\n",
    "explanatory_variable = 'Lynn_Vanhanen_Avg_IQ'\n",
    "response_variable = 'UNODC_murder_Rate'\n",
    "xlabel_str = 'Average IQ (explanatory variable)'\n",
    "ylabel_str = 'Murder Rate (response variable)'\n",
    "kwargs = dict(textcoords='offset points', ha='left', va='bottom',\n",
    "              bbox=dict(boxstyle='round,pad=0.5', fc='yellow', alpha=0.5),\n",
    "              arrowprops=dict(arrowstyle='->', connectionstyle='arc3,rad=0'))\n",
    "y_max = df[response_variable].max()\n",
    "x_max = df[explanatory_variable].max()\n",
    "y_min = df[response_variable].min()\n",
    "x_min = df[explanatory_variable].min()\n",
    "facecolors_list = ['k' if c == 'African' else 'w' for c in df['Racial_Region']]\n",
    "scatter_kws_dict = dict(edgecolors='k', facecolors=facecolors_list)"
   ]
  },
  {
   "cell_type": "code",
   "execution_count": null,
   "metadata": {},
   "outputs": [],
   "source": [
    "\n",
    "fig = plt.figure(figsize=(12,8))\n",
    "axes_subplot = sns.regplot(x=explanatory_variable, y=response_variable, scatter=True, order=1,\n",
    "                           data=blackstatsbycountry_df[mask_series], scatter_kws=scatter_kws_dict)\n",
    "xlabel_text = plt.xlabel(xlabel_str)\n",
    "ylabel_text = plt.ylabel(ylabel_str)\n",
    "for label, x, y in zip(df['Country'], df[explanatory_variable], df[response_variable]):\n",
    "    if (y == y_max):\n",
    "        annotation = plt.annotate(label, xy=(x, y), xytext=(20, -10), **kwargs)\n",
    "    elif (x == x_max):\n",
    "        annotation = plt.annotate(label, xy=(x, y), xytext=(-90, 30), **kwargs)\n",
    "    elif (x == x_min):\n",
    "        annotation = plt.annotate(label, xy=(x, y), xytext=(-10, -30), **kwargs)\n",
    "    elif ('Russia' in label):\n",
    "        annotation = plt.annotate(label, xy=(x, y), xytext=(-90, 30), **kwargs)\n",
    "    elif ('Morocco' in label):\n",
    "        annotation = plt.annotate(label, xy=(x, y), xytext=(-20, 30), **kwargs)\n",
    "    elif ('Egypt' in label):\n",
    "        annotation = plt.annotate(label, xy=(x, y), xytext=(-50, 30), **kwargs)\n",
    "    elif ('United States' in label):\n",
    "        annotation = plt.annotate(label, xy=(x, y), xytext=(-90, 30), **kwargs)"
   ]
  },
  {
   "cell_type": "code",
   "execution_count": null,
   "metadata": {},
   "outputs": [],
   "source": [
    "\n",
    "sns.regplot?"
   ]
  }
 ],
 "metadata": {
  "kernelspec": {
   "display_name": "Python 3",
   "language": "python",
   "name": "python3"
  },
  "language_info": {
   "codemirror_mode": {
    "name": "ipython",
    "version": 3
   },
   "file_extension": ".py",
   "mimetype": "text/x-python",
   "name": "python",
   "nbconvert_exporter": "python",
   "pygments_lexer": "ipython3",
   "version": "3.6.8"
  }
 },
 "nbformat": 4,
 "nbformat_minor": 2
}
