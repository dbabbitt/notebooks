{
 "cells": [
  {
   "cell_type": "markdown",
   "metadata": {},
   "source": [
    "\n",
    "The R0 is between 2 and 6, meaning each infected person infects 2–6 others, which can cause the number of infected to double every few days."
   ]
  },
  {
   "cell_type": "code",
   "execution_count": null,
   "metadata": {},
   "outputs": [],
   "source": [
    "\n",
    "# https://informationisbeautiful.net/visualizations/covid-19-coronavirus-infographic-datapack/\n",
    "# https://docs.google.com/spreadsheets/d/1g_YxmDfQx7aOU2DKzNZo9b-NTk62Bju6X3z6OuCa6gw/edit#gid=515684451"
   ]
  },
  {
   "cell_type": "code",
   "execution_count": null,
   "metadata": {},
   "outputs": [],
   "source": [
    "\n",
    "command_str = '{sys.executable} -m pip install --upgrade statsmodels'.format(sys=sys)\n",
    "print(command_str)\n",
    "!{command_str}"
   ]
  },
  {
   "cell_type": "code",
   "execution_count": 1,
   "metadata": {},
   "outputs": [],
   "source": [
    "\n",
    "import sys\n",
    "\n",
    "# Insert at 1, 0 is the script path (or '' in REPL)\n",
    "sys.path.insert(1, '../py')"
   ]
  },
  {
   "cell_type": "code",
   "execution_count": 2,
   "metadata": {},
   "outputs": [
    {
     "name": "stdout",
     "output_type": "stream",
     "text": [
      "D:\\Documents\\Repositories\\notebooks\\StatsByCountry\\ipynb\\Corona Virus Exploration.ipynb\n",
      "['s.attempt_to_pickle', 's.data_csv_folder', 's.data_folder', 's.encoding_type', 's.load_csv', 's.load_dataframes', 's.load_object', 's.save_dataframes', 's.saves_csv_folder', 's.saves_folder', 's.saves_pickle_folder', 's.store_objects']\n",
      "Pretty printing has been turned OFF\n"
     ]
    },
    {
     "data": {
      "text/plain": [
       "['Config', 'In', 'Out', 'RandomForestClassifier', 'SequenceMatcher', 'Storage', '_', '__', '___', '__builtin__', '__builtins__', '__doc__', '__loader__', '__name__', '__nonzero__', '__package__', '__spec__', '_dh', '_i', '_i1', '_i2', '_ih', '_ii', '_iii', '_oh', 'bs', 'check_4_doubles', 'check_for_typos', 'conjunctify_list', 'copyfile', 'csv', 'encoding', 'example_iterrows', 'exit', 'filepath_regex', 'get_classifier', 'get_column_descriptions', 'get_data_structs_dataframe', 'get_datastructure_prediction', 'get_dir_tree', 'get_git_lfs_track_commands', 'get_importances', 'get_input_sample', 'get_ipython', 'get_max_rsquared_adj', 'get_module_version', 'get_notebook_path', 'get_page_tables', 'get_specific_gitignore_files', 'get_struct_name', 'humanize_bytes', 'io', 'ipykernel', 'json', 'jupyter_config_dir', 'math', 'notebook_path', 'notebookapp', 'nx', 'os', 'pd', 'pickle', 'plt', 'preprocess_data', 'print_all_files_ending_starting_with', 'print_all_files_ending_with', 'print_all_files_starting_with', 'quit', 're', 'remove_empty_folders', 's', 'scraping_utils', 'similar', 'sm', 'sns', 'stats', 'subprocess', 'sys', 'time', 'url_regex', 'urllib', 'wikipedia']"
      ]
     },
     "execution_count": 2,
     "metadata": {},
     "output_type": "execute_result"
    }
   ],
   "source": [
    "\n",
    "%run ../../load_magic/storage.py\n",
    "%run ../../load_magic/paths.py\n",
    "%run ../../load_magic/lists.py\n",
    "%run ../../load_magic/environment.py\n",
    "%run ../../load_magic/dataframes.py\n",
    "\n",
    "import scraping_utils\n",
    "wikipedia = scraping_utils.wikipedia\n",
    "\n",
    "from bs4 import BeautifulSoup as bs\n",
    "import networkx as nx\n",
    "import re\n",
    "import urllib.request\n",
    "\n",
    "notebook_path = get_notebook_path()\n",
    "print(notebook_path)\n",
    "s = Storage()\n",
    "#pandemic_df = s.load_object('pandemic_df')\n",
    "print(['s.{}'.format(fn) for fn in dir(s) if not fn.startswith('_')])\n",
    "\n",
    "%pprint\n",
    "dir()"
   ]
  },
  {
   "cell_type": "code",
   "execution_count": null,
   "metadata": {},
   "outputs": [],
   "source": [
    "\n",
    "!start %windir%\\explorer.exe \"{os.path.abspath(os.path.dirname(notebook_path))}\""
   ]
  },
  {
   "cell_type": "code",
   "execution_count": null,
   "metadata": {},
   "outputs": [],
   "source": [
    "\n",
    "for file_name in os.listdir(s.saves_pickle_folder):\n",
    "    if file_name.endswith('_df.pickle'):\n",
    "        df_name = file_name.split('.')[0]\n",
    "        print(\"{} = s.load_object('{}')\".format(df_name, df_name))\n",
    "        print(\"{}\".format(df_name))"
   ]
  },
  {
   "cell_type": "code",
   "execution_count": 3,
   "metadata": {},
   "outputs": [],
   "source": [
    "\n",
    "asian_list = ['south_korea_df', 'hong_kong_df', 'japan_df', 'thailand_df', 'malaysia_df', 'china_df', 'vietnam_df',\n",
    "              'singapore_df', 'philippines_df']\n",
    "cumulative_list = ['china_df', 'czech_df', 'germany_df', 'hong_kong_df', 'iran_df', 'italy_df', 'japan_df', 'netherlands_df',\n",
    "                   'singapore_df', 'slovakia_df', 'south_korea_df', 'spain_df', 'uk_df', 'usa_df']"
   ]
  },
  {
   "cell_type": "code",
   "execution_count": 11,
   "metadata": {},
   "outputs": [
    {
     "data": {
      "text/plain": [
       "{'Confirmed_New', 'Date'}"
      ]
     },
     "execution_count": 11,
     "metadata": {},
     "output_type": "execute_result"
    }
   ],
   "source": [
    "\n",
    "confirm_set = set()\n",
    "cumulative_set = set()\n",
    "new_set = set()\n",
    "union_set = set()\n",
    "intersection_set = set(['Confirmed_New', 'Date'])\n",
    "for df_name in set(asian_list + cumulative_list):\n",
    "    df = s.load_object(df_name)\n",
    "    df_set = set()\n",
    "    for cn in df.columns:\n",
    "        df_set.add(cn)\n",
    "        if 'confirm' in cn.lower():\n",
    "            confirm_set.add(cn)\n",
    "        if 'cumul' in cn.lower():\n",
    "            cumulative_set.add(cn)\n",
    "        if 'new' in cn.lower():\n",
    "            new_set.add(cn)\n",
    "    intersection_set = intersection_set.intersection(df_set)\n",
    "    union_set = union_set.union(df_set)\n",
    "intersection_set"
   ]
  },
  {
   "cell_type": "code",
   "execution_count": 12,
   "metadata": {},
   "outputs": [
    {
     "data": {
      "text/plain": [
       "{'Confirmed_New', 'Deaths_New', 'Tested_New', 'Recovered_New'}"
      ]
     },
     "execution_count": 12,
     "metadata": {},
     "output_type": "execute_result"
    }
   ],
   "source": [
    "\n",
    "new_set"
   ]
  },
  {
   "cell_type": "code",
   "execution_count": 13,
   "metadata": {},
   "outputs": [
    {
     "data": {
      "text/plain": [
       "{'Recovered_Cumulative', 'Deaths_Cumulative', 'Discharged_Cumulative', 'ICU_Cumulative', 'Active_Cumulative', 'Tested_Cumulative', 'Confirmed_Cumulative', 'Repatriated_Cumulative', 'Abroad_Cumulative'}"
      ]
     },
     "execution_count": 13,
     "metadata": {},
     "output_type": "execute_result"
    }
   ],
   "source": [
    "\n",
    "cumulative_set"
   ]
  },
  {
   "cell_type": "code",
   "execution_count": 14,
   "metadata": {},
   "outputs": [
    {
     "data": {
      "text/plain": [
       "{'Confirmed_Cumulative', 'Confirmed_Repatriated', 'Confirmed_New'}"
      ]
     },
     "execution_count": 14,
     "metadata": {},
     "output_type": "execute_result"
    }
   ],
   "source": [
    "\n",
    "confirm_set"
   ]
  },
  {
   "cell_type": "code",
   "execution_count": 519,
   "metadata": {},
   "outputs": [],
   "source": [
    "\n",
    "from datetime import date\n",
    "\n",
    "def merge_dfs(merge_df, df_name, column_name='Confirmed_New'):\n",
    "    df = s.load_object(df_name)\n",
    "    if column_name in df.columns:\n",
    "        match_series = (df[column_name] >= after_cases)\n",
    "        if df[match_series].shape[0] > 0:\n",
    "            df.Date = df.Date.map(lambda ts: date(ts.year, ts.month, ts.day))\n",
    "            df.set_index('Date', drop=True, inplace=True)\n",
    "            country_suffix = '_{}'.format(df_name[:-3])\n",
    "            columns_list = [column_name]\n",
    "            merge_df = merge_df.merge(df[columns_list], how='outer', left_index=True, right_index=True,\n",
    "                                      suffixes=('_merge', country_suffix))\n",
    "            if merge_df.index.has_duplicates:\n",
    "                raise RuntimeError('{} has duplicates'.format(df_name))\n",
    "            columns_list = merge_df.columns.tolist()\n",
    "            columns_list[-1] = columns_list[-1] + country_suffix\n",
    "            merge_df.columns = columns_list\n",
    "    \n",
    "    return merge_df"
   ]
  },
  {
   "cell_type": "code",
   "execution_count": 528,
   "metadata": {},
   "outputs": [],
   "source": [
    "\n",
    "merge_df = pd.DataFrame([])\n",
    "plotted_variable = 'Deaths_New'\n",
    "after_cases = 10\n",
    "for df_name in set(asian_list + cumulative_list):\n",
    "    merge_df = merge_dfs(merge_df, df_name, plotted_variable)"
   ]
  },
  {
   "cell_type": "code",
   "execution_count": 543,
   "metadata": {},
   "outputs": [],
   "source": [
    "\n",
    "merge_df = pd.DataFrame([])\n",
    "plotted_variable = 'Confirmed_Cumulative'\n",
    "after_cases = 100\n",
    "for df_name in cumulative_list:\n",
    "    merge_df = merge_dfs(merge_df, df_name, plotted_variable)"
   ]
  },
  {
   "cell_type": "code",
   "execution_count": 544,
   "metadata": {},
   "outputs": [
    {
     "data": {
      "text/plain": [
       "['Confirmed_Cumulative_czech', 'Confirmed_Cumulative_germany', 'Confirmed_Cumulative_iran', 'Confirmed_Cumulative_italy', 'Confirmed_Cumulative_japan', 'Confirmed_Cumulative_slovakia', 'Confirmed_Cumulative_south_korea', 'Confirmed_Cumulative_spain', 'Confirmed_Cumulative_uk', 'Confirmed_Cumulative_usa']"
      ]
     },
     "execution_count": 544,
     "metadata": {},
     "output_type": "execute_result"
    }
   ],
   "source": [
    "\n",
    "confirms_list = merge_df.columns.tolist()\n",
    "confirms_list"
   ]
  },
  {
   "cell_type": "code",
   "execution_count": 545,
   "metadata": {},
   "outputs": [],
   "source": [
    "\n",
    "for column_name in confirms_list:\n",
    "    merge_df[column_name] = merge_df[column_name].map(lambda x: re.sub('[^\\d]+', '', str(x)))\n",
    "    merge_df[column_name] = pd.to_numeric(merge_df[column_name], errors='coerce')\n",
    "    match_series = (merge_df[column_name] >= after_cases)\n",
    "    ts0 = merge_df[match_series].index.min()\n",
    "    new_name = '{}_day'.format(column_name[len(plotted_variable)+1:])\n",
    "    merge_df[new_name] = (merge_df.index - ts0).days"
   ]
  },
  {
   "cell_type": "code",
   "execution_count": 546,
   "metadata": {},
   "outputs": [
    {
     "data": {
      "text/html": [
       "<div>\n",
       "<style scoped>\n",
       "    .dataframe tbody tr th:only-of-type {\n",
       "        vertical-align: middle;\n",
       "    }\n",
       "\n",
       "    .dataframe tbody tr th {\n",
       "        vertical-align: top;\n",
       "    }\n",
       "\n",
       "    .dataframe thead th {\n",
       "        text-align: right;\n",
       "    }\n",
       "</style>\n",
       "<table border=\"1\" class=\"dataframe\">\n",
       "  <thead>\n",
       "    <tr style=\"text-align: right;\">\n",
       "      <th></th>\n",
       "      <th>Czech</th>\n",
       "      <th>Germany</th>\n",
       "      <th>Iran</th>\n",
       "      <th>Italy</th>\n",
       "      <th>Japan</th>\n",
       "      <th>Slovakia</th>\n",
       "      <th>South Korea</th>\n",
       "      <th>Spain</th>\n",
       "      <th>Uk</th>\n",
       "      <th>Usa</th>\n",
       "    </tr>\n",
       "  </thead>\n",
       "  <tbody>\n",
       "    <tr>\n",
       "      <th>-50.0</th>\n",
       "      <td>NaN</td>\n",
       "      <td>NaN</td>\n",
       "      <td>NaN</td>\n",
       "      <td>NaN</td>\n",
       "      <td>NaN</td>\n",
       "      <td>NaN</td>\n",
       "      <td>NaN</td>\n",
       "      <td>NaN</td>\n",
       "      <td>NaN</td>\n",
       "      <td>NaN</td>\n",
       "    </tr>\n",
       "    <tr>\n",
       "      <th>-46.0</th>\n",
       "      <td>NaN</td>\n",
       "      <td>NaN</td>\n",
       "      <td>NaN</td>\n",
       "      <td>NaN</td>\n",
       "      <td>NaN</td>\n",
       "      <td>NaN</td>\n",
       "      <td>NaN</td>\n",
       "      <td>NaN</td>\n",
       "      <td>NaN</td>\n",
       "      <td>NaN</td>\n",
       "    </tr>\n",
       "    <tr>\n",
       "      <th>-45.0</th>\n",
       "      <td>NaN</td>\n",
       "      <td>NaN</td>\n",
       "      <td>NaN</td>\n",
       "      <td>NaN</td>\n",
       "      <td>NaN</td>\n",
       "      <td>NaN</td>\n",
       "      <td>NaN</td>\n",
       "      <td>NaN</td>\n",
       "      <td>NaN</td>\n",
       "      <td>NaN</td>\n",
       "    </tr>\n",
       "    <tr>\n",
       "      <th>-42.0</th>\n",
       "      <td>NaN</td>\n",
       "      <td>NaN</td>\n",
       "      <td>NaN</td>\n",
       "      <td>NaN</td>\n",
       "      <td>NaN</td>\n",
       "      <td>NaN</td>\n",
       "      <td>NaN</td>\n",
       "      <td>NaN</td>\n",
       "      <td>NaN</td>\n",
       "      <td>NaN</td>\n",
       "    </tr>\n",
       "    <tr>\n",
       "      <th>-41.0</th>\n",
       "      <td>NaN</td>\n",
       "      <td>NaN</td>\n",
       "      <td>NaN</td>\n",
       "      <td>NaN</td>\n",
       "      <td>NaN</td>\n",
       "      <td>NaN</td>\n",
       "      <td>NaN</td>\n",
       "      <td>NaN</td>\n",
       "      <td>NaN</td>\n",
       "      <td>NaN</td>\n",
       "    </tr>\n",
       "    <tr>\n",
       "      <th>...</th>\n",
       "      <td>...</td>\n",
       "      <td>...</td>\n",
       "      <td>...</td>\n",
       "      <td>...</td>\n",
       "      <td>...</td>\n",
       "      <td>...</td>\n",
       "      <td>...</td>\n",
       "      <td>...</td>\n",
       "      <td>...</td>\n",
       "      <td>...</td>\n",
       "    </tr>\n",
       "    <tr>\n",
       "      <th>51.0</th>\n",
       "      <td>NaN</td>\n",
       "      <td>NaN</td>\n",
       "      <td>NaN</td>\n",
       "      <td>NaN</td>\n",
       "      <td>10540.0</td>\n",
       "      <td>NaN</td>\n",
       "      <td>89610.0</td>\n",
       "      <td>NaN</td>\n",
       "      <td>NaN</td>\n",
       "      <td>526720.0</td>\n",
       "    </tr>\n",
       "    <tr>\n",
       "      <th>52.0</th>\n",
       "      <td>NaN</td>\n",
       "      <td>NaN</td>\n",
       "      <td>NaN</td>\n",
       "      <td>NaN</td>\n",
       "      <td>10990.0</td>\n",
       "      <td>NaN</td>\n",
       "      <td>90370.0</td>\n",
       "      <td>NaN</td>\n",
       "      <td>NaN</td>\n",
       "      <td>620890.0</td>\n",
       "    </tr>\n",
       "    <tr>\n",
       "      <th>53.0</th>\n",
       "      <td>NaN</td>\n",
       "      <td>NaN</td>\n",
       "      <td>NaN</td>\n",
       "      <td>NaN</td>\n",
       "      <td>11370.0</td>\n",
       "      <td>NaN</td>\n",
       "      <td>91370.0</td>\n",
       "      <td>NaN</td>\n",
       "      <td>NaN</td>\n",
       "      <td>NaN</td>\n",
       "    </tr>\n",
       "    <tr>\n",
       "      <th>54.0</th>\n",
       "      <td>NaN</td>\n",
       "      <td>NaN</td>\n",
       "      <td>NaN</td>\n",
       "      <td>NaN</td>\n",
       "      <td>NaN</td>\n",
       "      <td>NaN</td>\n",
       "      <td>NaN</td>\n",
       "      <td>NaN</td>\n",
       "      <td>NaN</td>\n",
       "      <td>NaN</td>\n",
       "    </tr>\n",
       "    <tr>\n",
       "      <th>55.0</th>\n",
       "      <td>NaN</td>\n",
       "      <td>NaN</td>\n",
       "      <td>NaN</td>\n",
       "      <td>NaN</td>\n",
       "      <td>NaN</td>\n",
       "      <td>NaN</td>\n",
       "      <td>NaN</td>\n",
       "      <td>NaN</td>\n",
       "      <td>NaN</td>\n",
       "      <td>NaN</td>\n",
       "    </tr>\n",
       "  </tbody>\n",
       "</table>\n",
       "<p>101 rows × 10 columns</p>\n",
       "</div>"
      ],
      "text/plain": [
       "       Czech  Germany  Iran  Italy    Japan  Slovakia  South Korea  Spain  Uk  \\\n",
       "-50.0    NaN      NaN   NaN    NaN      NaN       NaN          NaN    NaN NaN   \n",
       "-46.0    NaN      NaN   NaN    NaN      NaN       NaN          NaN    NaN NaN   \n",
       "-45.0    NaN      NaN   NaN    NaN      NaN       NaN          NaN    NaN NaN   \n",
       "-42.0    NaN      NaN   NaN    NaN      NaN       NaN          NaN    NaN NaN   \n",
       "-41.0    NaN      NaN   NaN    NaN      NaN       NaN          NaN    NaN NaN   \n",
       "...      ...      ...   ...    ...      ...       ...          ...    ...  ..   \n",
       " 51.0    NaN      NaN   NaN    NaN  10540.0       NaN      89610.0    NaN NaN   \n",
       " 52.0    NaN      NaN   NaN    NaN  10990.0       NaN      90370.0    NaN NaN   \n",
       " 53.0    NaN      NaN   NaN    NaN  11370.0       NaN      91370.0    NaN NaN   \n",
       " 54.0    NaN      NaN   NaN    NaN      NaN       NaN          NaN    NaN NaN   \n",
       " 55.0    NaN      NaN   NaN    NaN      NaN       NaN          NaN    NaN NaN   \n",
       "\n",
       "            Usa  \n",
       "-50.0       NaN  \n",
       "-46.0       NaN  \n",
       "-45.0       NaN  \n",
       "-42.0       NaN  \n",
       "-41.0       NaN  \n",
       "...         ...  \n",
       " 51.0  526720.0  \n",
       " 52.0  620890.0  \n",
       " 53.0       NaN  \n",
       " 54.0       NaN  \n",
       " 55.0       NaN  \n",
       "\n",
       "[101 rows x 10 columns]"
      ]
     },
     "execution_count": 546,
     "metadata": {},
     "output_type": "execute_result"
    }
   ],
   "source": [
    "\n",
    "day_merge_df = pd.DataFrame([])\n",
    "def create_day_df(column_name):\n",
    "    new_name = '{}_day'.format(column_name[len(plotted_variable)+1:])\n",
    "    columns_list = [new_name, column_name]\n",
    "    df = pd.DataFrame(merge_df[columns_list].values, columns=columns_list, index=merge_df.index)\n",
    "    df.set_index(new_name, drop=True, inplace=True)\n",
    "    df.columns = [' '.join(cn[len(plotted_variable)+1:].split('_')).title() for cn in df.columns]\n",
    "    \n",
    "    return df\n",
    "for column_name in confirms_list:\n",
    "    day_merge_df = day_merge_df.merge(create_day_df(column_name), how='outer', left_index=True,\n",
    "                                      right_index=True, suffixes=('_merge', '_{}'.format(column_name)))\n",
    "day_merge_df.interpolate(axis='index', limit_area='inside', inplace=True)\n",
    "day_merge_df"
   ]
  },
  {
   "cell_type": "code",
   "execution_count": 554,
   "metadata": {},
   "outputs": [
    {
     "data": {
      "text/plain": [
       "['China', 'India', 'United States', 'Indonesia', 'Pakistan', 'Brazil', 'Nigeria', 'Bangladesh', 'Russia', 'Mexico', 'Japan', 'Philippines', 'Egypt', 'Ethiopia', 'Vietnam', 'DR Congo', 'Iran', 'Turkey', 'Germany', 'France', 'Thailand', 'United Kingdom', 'Italy', 'South Africa', 'Tanzania', 'Myanmar', 'South Korea', 'Colombia', 'Kenya', 'Spain', 'Argentina', 'Algeria', 'Sudan', 'Ukraine', 'Uganda', 'Iraq', 'Poland', 'Canada', 'Morocco', 'Saudi Arabia', 'Uzbekistan', 'Malaysia', 'Afghanistan', 'Venezuela', 'Peru', 'Angola', 'Ghana', 'Mozambique', 'Yemen', 'Nepal', 'Cameroon', 'Ivory Coast', 'Madagascar', 'Australia', 'North Korea', 'Taiwan', 'Niger', 'Sri Lanka', 'Burkina Faso', 'Mali', 'Romania', 'Malawi', 'Chile', 'Kazakhstan', 'Syria', 'Ecuador', 'Netherlands', 'Zambia', 'Guatemala', 'Senegal', 'Somalia', 'Chad', 'Cambodia', 'Zimbabwe', 'South Sudan', 'Rwanda', 'Guinea', 'Benin', 'Tunisia', 'Haiti', 'Belgium', 'Bolivia', 'Cuba', 'Burundi', 'Greece', 'Czech Republic', 'Jordan', 'Dominican Republic', 'Sweden', 'Portugal', 'Azerbaijan', 'United Arab Emirates', 'Hungary', 'Belarus', 'Israel', 'Honduras', 'Tajikistan', 'Papua New Guinea', 'Austria', 'Switzerland', 'Sierra Leone', 'Togo', 'Hong Kong (China)', 'Paraguay', 'Laos', 'Bulgaria', 'Serbia', 'Libya', 'Lebanon', 'Kyrgyzstan', 'El Salvador', 'Nicaragua', 'Turkmenistan', 'Denmark', 'Singapore', 'Finland', 'Congo', 'Central African Republic', 'Slovakia', 'Norway', 'Costa Rica', 'Palestine', 'New Zealand', 'Ireland', 'Oman', 'Liberia', 'Kuwait', 'Panama', 'Mauritania', 'Croatia', 'Georgia', 'Uruguay', 'Eritrea', 'Mongolia', 'Bosnia and Herzegovina', 'Puerto Rico (US)', 'Armenia', 'Albania', 'Lithuania', 'Qatar', 'Jamaica', 'Moldova', 'Namibia', 'Gambia', 'Botswana', 'Gabon', 'Slovenia', 'North Macedonia', 'Lesotho', 'Latvia', 'Kosovo', 'Guinea-Bissau', 'Bahrain', 'East Timor', 'Trinidad and Tobago', 'Equatorial Guinea', 'Estonia', 'Mauritius', 'Eswatini', 'Djibouti', 'Fiji', 'Cyprus', 'Comoros', 'Guyana', 'Bhutan', 'Solomon Islands', 'Macau (China)', 'Montenegro', 'Luxembourg', 'Western Sahara', 'Suriname', 'Cape Verde', 'Malta', 'Transnistria', 'Brunei', 'Belize', 'Bahamas', 'Maldives', 'Iceland', 'Northern Cyprus', 'Vanuatu', 'Barbados', 'New Caledonia (France)', 'French Polynesia (France)', 'Abkhazia', 'São Tomé and Príncipe', 'Samoa', 'Saint Lucia', 'Guam (US)', 'Curaçao (Netherlands)', 'Artsakh', 'Kiribati', 'Aruba (Netherlands)', 'Grenada', 'Saint Vincent and the Grenadines', 'Jersey (UK)', 'U.S. Virgin Islands (US)', 'F.S. Micronesia', 'Tonga', 'Seychelles', 'Antigua and Barbuda', 'Isle of Man (UK)', 'Andorra', 'Dominica', 'Cayman Islands (UK)', 'Bermuda (UK)', 'Guernsey (UK)', 'American Samoa (US)', 'Greenland (Denmark)', 'Northern Mariana Islands (US)', 'Marshall Islands', 'South Ossetia', 'Saint Kitts and Nevis', 'Faroe Islands (Denmark)', 'Turks and Caicos Islands (UK)', 'Sint Maarten (Netherlands)', 'Liechtenstein', 'Monaco', 'Saint Martin (France)', 'Gibraltar (UK)', 'San Marino', 'British Virgin Islands (UK)', 'Åland Islands (Finland)', 'Palau', 'Cook Islands (NZ)', 'Anguilla (UK)', 'Wallis and Futuna (France)', 'Nauru', 'Tuvalu', 'Saint Barthélemy (France)', 'Saint Pierre and Miquelon (France)', 'Saint Helena, Ascensionand Tristan da Cunha (UK)', 'Montserrat (UK)', 'Falkland Islands (UK)', 'Christmas Island (Australia)', 'Norfolk Island (Australia)', 'Niue (NZ)', 'Tokelau (NZ)', 'Vatican City', 'Cocos (Keeling) Islands (Australia)', 'Pitcairn Islands (UK)']"
      ]
     },
     "execution_count": 554,
     "metadata": {},
     "output_type": "execute_result"
    }
   ],
   "source": [
    "\n",
    "country_populations_df = s.load_object('country_populations_df')\n",
    "country_populations_df.index.tolist()"
   ]
  },
  {
   "cell_type": "code",
   "execution_count": 551,
   "metadata": {},
   "outputs": [
    {
     "data": {
      "text/html": [
       "<div>\n",
       "<style scoped>\n",
       "    .dataframe tbody tr th:only-of-type {\n",
       "        vertical-align: middle;\n",
       "    }\n",
       "\n",
       "    .dataframe tbody tr th {\n",
       "        vertical-align: top;\n",
       "    }\n",
       "\n",
       "    .dataframe thead th {\n",
       "        text-align: right;\n",
       "    }\n",
       "</style>\n",
       "<table border=\"1\" class=\"dataframe\">\n",
       "  <thead>\n",
       "    <tr style=\"text-align: right;\">\n",
       "      <th></th>\n",
       "      <th>Czech</th>\n",
       "      <th>Germany</th>\n",
       "      <th>Iran</th>\n",
       "      <th>Italy</th>\n",
       "      <th>Japan</th>\n",
       "      <th>Slovakia</th>\n",
       "      <th>South Korea</th>\n",
       "      <th>Spain</th>\n",
       "      <th>Uk</th>\n",
       "      <th>Usa</th>\n",
       "    </tr>\n",
       "  </thead>\n",
       "  <tbody>\n",
       "    <tr>\n",
       "      <th>10.0</th>\n",
       "      <td>3830.0</td>\n",
       "      <td>3490.0</td>\n",
       "      <td>15010.0</td>\n",
       "      <td>20360.0</td>\n",
       "      <td>266.666667</td>\n",
       "      <td>7200.0</td>\n",
       "      <td>275.0</td>\n",
       "      <td>3650.0</td>\n",
       "      <td>870.0</td>\n",
       "      <td>129.333333</td>\n",
       "    </tr>\n",
       "  </tbody>\n",
       "</table>\n",
       "</div>"
      ],
      "text/plain": [
       "       Czech  Germany     Iran    Italy       Japan  Slovakia  South Korea  \\\n",
       "10.0  3830.0   3490.0  15010.0  20360.0  266.666667    7200.0        275.0   \n",
       "\n",
       "       Spain     Uk         Usa  \n",
       "10.0  3650.0  870.0  129.333333  "
      ]
     },
     "execution_count": 551,
     "metadata": {},
     "output_type": "execute_result"
    }
   ],
   "source": [
    "\n",
    "match_series = (day_merge_df.index == 10.0)\n",
    "day_merge_df[match_series]"
   ]
  },
  {
   "cell_type": "code",
   "execution_count": 566,
   "metadata": {},
   "outputs": [],
   "source": [
    "\n",
    "columns_list = ['Czech Republic', 'Germany', 'Iran', 'Italy', 'Japan', 'Slovakia', 'South Korea', 'Spain', 'United Kingdom', 'United States']\n",
    "days_df = day_merge_df.copy()\n",
    "days_df.columns = columns_list\n",
    "days_df = days_df.T"
   ]
  },
  {
   "cell_type": "code",
   "execution_count": 567,
   "metadata": {},
   "outputs": [],
   "source": [
    "\n",
    "match_series = (country_populations_df.index.isin(days_df.index))\n",
    "columns_list = ['Population']\n",
    "for country_name, row_series in country_populations_df[match_series][columns_list].iterrows():\n",
    "    population = row_series['Population']\n",
    "    match_series = (days_df.index == country_name)\n",
    "    for days_country_name, days_row_series in days_df[match_series].iterrows():\n",
    "        for column_name, column_value in days_row_series.iteritems():\n",
    "            if str(column_value) != 'nan':\n",
    "                days_df.loc[days_country_name, column_name] = column_value/population"
   ]
  },
  {
   "cell_type": "code",
   "execution_count": 541,
   "metadata": {},
   "outputs": [
    {
     "data": {
      "image/png": "[encoded data removed]",
      "text/plain": [
       "<Figure size 432x288 with 1 Axes>"
      ]
     },
     "metadata": {
      "needs_background": "light"
     },
     "output_type": "display_data"
    }
   ],
   "source": [
    "\n",
    "days_list = [10.0]\n",
    "columns_list = ['GE_EST']\n",
    "AxesSubplot_obj = days_df[days_list].merge(gdp_df[columns_list], how='inner', left_index=True,\n",
    "                                           right_index=True, suffixes=('_days',\n",
    "                                                                       '_gdp')).plot.scatter(x=10.0,\n",
    "                                                                                             y='GE_EST')"
   ]
  },
  {
   "cell_type": "code",
   "execution_count": 568,
   "metadata": {},
   "outputs": [],
   "source": [
    "\n",
    "day_merge_df = days_df.copy().T"
   ]
  },
  {
   "cell_type": "code",
   "execution_count": 572,
   "metadata": {},
   "outputs": [
    {
     "data": {
      "image/png": "[encoded data removed]",
      "text/plain": [
       "<Figure size 1296x1296 with 1 Axes>"
      ]
     },
     "metadata": {
      "needs_background": "light"
     },
     "output_type": "display_data"
    }
   ],
   "source": [
    "\n",
    "import math\n",
    "\n",
    "fig, ax = plt.subplots(figsize=(18, 18))\n",
    "ax.set_yscale('log')\n",
    "ax.set_xlim(left=0, right=day_merge_df.index.max()+2)\n",
    "ax.set_ylabel('Cumulative Confirmed Cases')\n",
    "ax.set_xlabel('Days After {} Cases'.format(after_cases))\n",
    "ax.set_title('Country by Country: How Coronavirus Trajectories Compare')\n",
    "match_series = (day_merge_df.index >= 0)\n",
    "p = day_merge_df[match_series].plot\n",
    "AxesSubplot_obj = p.line(ax=ax)\n",
    "Line2D_obj_list = [Line2D_obj for Line2D_obj in AxesSubplot_obj.get_lines()]\n",
    "columns_list = day_merge_df.columns.tolist()\n",
    "for cn, Line2D_obj in zip(columns_list, Line2D_obj_list):\n",
    "    cn_series = day_merge_df[match_series][cn]\n",
    "    cn_series.dropna(inplace=True)\n",
    "    x = cn_series.index[-1]\n",
    "    y = cn_series.iloc[-1]\n",
    "    color = Line2D_obj.get_color()\n",
    "    annotation = plt.annotate(cn, xy=(x, y), color=color)\n",
    "    if (cn == 'Usa'):\n",
    "        Line2D_obj.set_alpha(alpha=1.0)\n",
    "    else:\n",
    "        Line2D_obj.set_alpha(alpha=0.5)'''\n",
    "kwargs = dict(color='goldenrod', linewidth=0.4, dashes=(10, 10))\n",
    "cc0 = after_cases\n",
    "for doubling_every in [2, 3, 4, 7, 30]:\n",
    "    y_list = [cc0]\n",
    "    cc = cc0\n",
    "    while cc < ax.get_ylim()[1]:\n",
    "        cc = int(cc/(1 - math.log(2)/doubling_every))\n",
    "        y_list.append(cc)\n",
    "    Line2D_obj = ax.plot(y_list, **kwargs)\n",
    "kwargs = dict(color='goldenrod', alpha=1.0)\n",
    "annotation = plt.annotate('Doubling every\\n       2 days', xy=(19, 1.0e6), **kwargs)\n",
    "annotation = plt.annotate('Doubling every\\n       3 days', xy=(35, 2.0e6), **kwargs)\n",
    "annotation = plt.annotate('Doubling every\\n       4 days', xy=(52, 2.5e6), **kwargs)\n",
    "annotation = plt.annotate('Doubling every\\n       week', xy=(50, 2.0e4), **kwargs)\n",
    "annotation = plt.annotate('Doubling every\\n       month', xy=(50, 2.5e2), **kwargs)'''"
   ]
  },
  {
   "cell_type": "code",
   "execution_count": 420,
   "metadata": {},
   "outputs": [
    {
     "data": {
      "text/plain": [
       "Float64Index([], dtype='float64')"
      ]
     },
     "execution_count": 420,
     "metadata": {},
     "output_type": "execute_result"
    }
   ],
   "source": [
    "\n",
    "cn_series.index"
   ]
  },
  {
   "cell_type": "code",
   "execution_count": 492,
   "metadata": {},
   "outputs": [
    {
     "data": {
      "image/png": "[encoded data removed]",
      "text/plain": [
       "<Figure size 1296x504 with 1 Axes>"
      ]
     },
     "metadata": {
      "needs_background": "light"
     },
     "output_type": "display_data"
    }
   ],
   "source": [
    "\n",
    "fig, ax = plt.subplots(figsize=(18, 7))\n",
    "ax.set_yscale('log')\n",
    "AxesSubplot_obj = merge_df[confirms_list].plot.line(ax=ax)"
   ]
  },
  {
   "cell_type": "code",
   "execution_count": 297,
   "metadata": {},
   "outputs": [
    {
     "data": {
      "text/plain": [
       "221.42857142857142"
      ]
     },
     "execution_count": 297,
     "metadata": {},
     "output_type": "execute_result"
    }
   ],
   "source": [
    "\n",
    "9300/42"
   ]
  },
  {
   "cell_type": "code",
   "execution_count": null,
   "metadata": {},
   "outputs": [],
   "source": [
    "\n",
    "pandemic_df = s.load_object('pandemic_df')\n",
    "pandemic_df.T.sample(6).T"
   ]
  },
  {
   "cell_type": "code",
   "execution_count": null,
   "metadata": {},
   "outputs": [],
   "source": [
    "\n",
    "s.save_dataframes?"
   ]
  },
  {
   "cell_type": "code",
   "execution_count": null,
   "metadata": {},
   "outputs": [],
   "source": [
    "\n",
    "columns_list = ['Confirmed_Cumulative_usa', 'Confirmed_Cumulative_italy']\n",
    "tracking_df[columns_list]"
   ]
  },
  {
   "cell_type": "code",
   "execution_count": null,
   "metadata": {},
   "outputs": [],
   "source": [
    "\n",
    "import matplotlib.pyplot as plt\n",
    "from scipy.optimize import curve_fit\n",
    "import numpy as np\n",
    "import math\n",
    "%matplotlib inline\n",
    "\n",
    "tracking_df = s.load_object('tracking_df')\n",
    "method = ['lm', 'trf', 'dogbox'][1]\n",
    "def fit_curve(column_name='Confirmed_Cumulative_usa',\n",
    "              lba=1e-09, lbb=-49, lbc=3.8, lbd=-1.0, lbe=-1.0,\n",
    "              uba=0.1, ubb=-41, ubc=8.3, ubd=1.0, ube=1.0,\n",
    "              p0a=0.05, p0b=-46, p0c=3.9, p0d=0.0, p0e=0.0,\n",
    "              min_x=100):\n",
    "    \n",
    "    # Format the data\n",
    "    columns_list = [column_name]\n",
    "    tracking_df[column_name] = pd.to_numeric(tracking_df[column_name])\n",
    "    match_series = (tracking_df[column_name] >= min_x)\n",
    "    df = tracking_df[match_series][columns_list].dropna(axis='index', how='any')\n",
    "    \n",
    "    # Fit the curve using the lower and upper bounds and a suggested starting point\n",
    "    def func(x, a, b, c, d, e):\n",
    "\n",
    "        return a * pow(x + b, c) + d * x + e\n",
    "    dayofyear_data = np.array(object=[ts.dayofyear for ts in df.index])\n",
    "    confirmation_data = np.array(object=[int(c) for c in df[column_name].tolist()])\n",
    "    bounds_tuple = ([lba, lbb, lbc, lbd, lbe],\n",
    "                    [uba, ubb, ubc, ubd, ube])\n",
    "    p0_array = np.array([p0a, p0b, p0c, p0d, p0e])\n",
    "    popt, pcov = curve_fit(func, dayofyear_data, confirmation_data,\n",
    "                           bounds=bounds_tuple, p0=p0_array, method=method)\n",
    "    \n",
    "    # Plot the cumulative data\n",
    "    fig = plt.figure(figsize=(12,8))\n",
    "    ax = fig.add_subplot(111)\n",
    "    ax.set_yscale('log')\n",
    "    country_name = column_name.split('_')[-1]\n",
    "    line_2d_obj = plt.plot(dayofyear_data, confirmation_data, 'b-', label='{} data'.format(country_name))\n",
    "    \n",
    "    # Plot the fitted curve\n",
    "    def get_cumulative_confirmations(dayofyear):\n",
    "        '''Get the cumulative confirmations given the day of the year'''\n",
    "        #print('{} * pow({} + {}, {}) + {} * {} + {}'.format(popt[0], dayofyear, popt[1], popt[2], popt[3], dayofyear, popt[4]))\n",
    "        \n",
    "        return popt[0] * pow(dayofyear + popt[1], popt[2]) + popt[3] * dayofyear + popt[4]\n",
    "    label_str = 'fit: cc = %3.2f * pow(doy%3.0f, %3.1f) + %3.1f * doy + %3.1f' % tuple(popt)\n",
    "    line_2d_obj = plt.plot(dayofyear_data, get_cumulative_confirmations(dayofyear_data), 'r-', label=label_str)\n",
    "    \n",
    "    # Label the graph\n",
    "    plt.xlabel('Day of Year')\n",
    "    label_list = column_name.split('_')\n",
    "    plt.ylabel('{} {}'.format(label_list[0], label_list[1]))\n",
    "    legend_obj = plt.legend()\n",
    "    \n",
    "    # Get the doubling time\n",
    "    doubling_time_list = []\n",
    "    for i, confirms in enumerate(confirmation_data):\n",
    "        if i > 0:\n",
    "            growth_rate = (confirmation_data[i]-confirmation_data[i-1])/confirmation_data[i]\n",
    "            doubling_time = math.log(2)/growth_rate\n",
    "            doubling_time_list.append(doubling_time)\n",
    "    average_doubling_time = np.array(doubling_time_list).mean()\n",
    "    \n",
    "    return popt, average_doubling_time, get_cumulative_confirmations"
   ]
  },
  {
   "cell_type": "code",
   "execution_count": null,
   "metadata": {},
   "outputs": [],
   "source": [
    "\n",
    "growth_rate = (2-1)/2\n",
    "doubling_time = math.log(2)/growth_rate\n",
    "# 1.3862943611198906\n",
    "doubling_time"
   ]
  },
  {
   "cell_type": "code",
   "execution_count": null,
   "metadata": {},
   "outputs": [],
   "source": [
    "\n",
    "from datetime import datetime\n",
    "\n",
    "popt, doubling_days, get_cumulative_confirmations_italy = fit_curve('Confirmed_Cumulative_italy')\n",
    "dayofyear = pd.Timestamp(datetime.now()).dayofyear\n",
    "#print(dayofyear)\n",
    "confirmed_now = int(get_cumulative_confirmations_italy(dayofyear))\n",
    "print('Italy will have {:,} cumulative confirmed cases today. It is doubling every {} days.'.format(confirmed_now, round(doubling_days, 1)))\n",
    "formatted_str = 'That {} * pow(dayofyear{}, {}) + {} * dayofyear + {} curve shown in red is fitted to the data.'\n",
    "print(formatted_str.format(popt[0], int(popt[1]), popt[2], popt[3], popt[4]))"
   ]
  },
  {
   "cell_type": "code",
   "execution_count": null,
   "metadata": {},
   "outputs": [],
   "source": [
    "\n",
    "lba = 1e-29\n",
    "uba = 1e-27\n",
    "p0a = 4.973015146971752e-28\n",
    "\n",
    "lbb = -26\n",
    "ubb = -24\n",
    "p0b = -25.757876721495872\n",
    "\n",
    "lbc = 17.0\n",
    "ubc = 19.0\n",
    "p0c = 18.169473089691355\n",
    "\n",
    "lbd = 1.0e0\n",
    "ubd = 1.0e2\n",
    "p0d = 19.20401172686062\n",
    "\n",
    "lbe = -1.0e4\n",
    "ube = -1.0e2\n",
    "p0e = -951.4666661532988\n",
    "\n",
    "popt, doubling_days, get_cumulative_confirmations_usa = fit_curve('Confirmed_Cumulative_usa',\n",
    "                                                                  lba=lba, lbb=lbb, lbc=lbc, lbd=lbd, lbe=lbe,\n",
    "                                                                  uba=uba, ubb=ubb, ubc=ubc, ubd=ubd, ube=ube,\n",
    "                                                                  p0a=p0a, p0b=p0b, p0c=p0c, p0d=p0d, p0e=p0e,\n",
    "                                                                  min_x=100)\n",
    "print(lba, popt[0], uba)\n",
    "print(lbb, popt[1], ubb)\n",
    "print(lbc, popt[2], ubc)\n",
    "print(lbd, popt[3], ubd)\n",
    "print(lbe, popt[4], ube)\n",
    "dayofyear = pd.Timestamp(datetime.now()).dayofyear\n",
    "#dayofyear = pd.Timestamp(datetime(year=2020, month=3, day=16)).dayofyear\n",
    "confirmed_now = int(get_cumulative_confirmations_usa(dayofyear))\n",
    "print('The US will have {:,} cumulative confirmed cases today. It is doubling every {} days.'.format(confirmed_now, round(doubling_days, 1)))\n",
    "formatted_str = 'That {} * pow(dayofyear{}, {}) + {} * dayofyear + {} curve shown in red is (over)fitted to the data.'\n",
    "print(formatted_str.format(popt[0], popt[1], popt[2], popt[3], popt[4]))"
   ]
  },
  {
   "cell_type": "code",
   "execution_count": null,
   "metadata": {},
   "outputs": [],
   "source": [
    "\n",
    "def get_lb_ub(p0):\n",
    "    if p0 < 0:\n",
    "        uba = math.copysign(abs(p0)/10, p0)\n",
    "        lba = math.copysign(abs(p0)*10, p0)\n",
    "    else:\n",
    "        lba = math.copysign(abs(p0)/10, p0)\n",
    "        uba = math.copysign(abs(p0)*10, p0)\n",
    "    \n",
    "    return lba, uba\n",
    "\n",
    "p0a = popt[0]\n",
    "lba, uba = get_lb_ub(p0a)\n",
    "print('''\n",
    "lba = {}\n",
    "uba = {}\n",
    "p0a = {}'''.format(lba, uba, p0a))\n",
    "\n",
    "p0b = popt[1]\n",
    "lbb, ubb = get_lb_ub(p0b)\n",
    "print('''\n",
    "lbb = {}\n",
    "ubb = {}\n",
    "p0b = {}'''.format(lbb, ubb, p0b))\n",
    "\n",
    "p0c = popt[2]\n",
    "lbc, ubc = get_lb_ub(p0c)\n",
    "print('''\n",
    "lbc = {}\n",
    "ubc = {}\n",
    "p0c = {}'''.format(lbc, ubc, p0c))\n",
    "\n",
    "p0d = popt[3]\n",
    "lbd, ubd = get_lb_ub(p0d)\n",
    "print('''\n",
    "lbd = {}\n",
    "ubd = {}\n",
    "p0d = {}'''.format(lbd, ubd, p0d))\n",
    "\n",
    "p0e = popt[4]\n",
    "lbe, ube = get_lb_ub(p0e)\n",
    "print('''\n",
    "lbe = {}\n",
    "ube = {}\n",
    "p0e = {}'''.format(lbe, ube, p0e))"
   ]
  },
  {
   "cell_type": "code",
   "execution_count": null,
   "metadata": {},
   "outputs": [],
   "source": [
    "\n",
    "# Hall of Fame\n",
    "lba = 4.110281698247205e-31\n",
    "uba = 4.110281698247205e-29\n",
    "p0a = 4.110281698247205e-30\n",
    "\n",
    "lbb = -513.9398352299962\n",
    "ubb = -5.139398352299962\n",
    "p0b = -51.39398352299962\n",
    "\n",
    "lbc = 2.2185491179655665\n",
    "ubc = 221.85491179655662\n",
    "p0c = 22.185491179655664\n",
    "\n",
    "lbd = 0.3701748485216486\n",
    "ubd = 37.017484852164856\n",
    "p0d = 3.701748485216486\n",
    "\n",
    "lbe = -2165.504631099008\n",
    "ube = -21.65504631099008\n",
    "p0e = -216.5504631099008"
   ]
  },
  {
   "cell_type": "code",
   "execution_count": null,
   "metadata": {},
   "outputs": [],
   "source": [
    "\n",
    "popt, doubling_days, get_cumulative_deaths_usa = fit_curve('Deaths_Cumulative_usa',\n",
    "                                                           lba=lba, lbb=lbb, lbc=lbc, lbd=lbd, lbe=lbe,\n",
    "                                                           uba=uba, ubb=ubb, ubc=ubc, ubd=ubd, ube=ube,\n",
    "                                                           p0a=p0a, p0b=p0b, p0c=p0c, p0d=p0d, p0e=p0e,\n",
    "                                                           min_x=1)\n",
    "print(lba, popt[0], uba)\n",
    "print(lbb, popt[1], ubb)\n",
    "print(lbc, popt[2], ubc)\n",
    "print(lbd, popt[3], ubd)\n",
    "print(lbe, popt[4], ube)\n",
    "dayofyear = pd.Timestamp(datetime.now()).dayofyear\n",
    "confirmed_now = int(get_cumulative_deaths_usa(dayofyear))\n",
    "print('The US will have {:,} cumulative confirmed deaths today. It is doubling every {} days.'.format(confirmed_now, round(doubling_days, 1)))\n",
    "formatted_str = 'That {} * pow(dayofyear{}, {}) + {} * dayofyear + {} curve shown in red is (over)fitted to the data.'\n",
    "print(formatted_str.format(popt[0], popt[1], popt[2], popt[3], popt[4]))"
   ]
  },
  {
   "cell_type": "code",
   "execution_count": null,
   "metadata": {},
   "outputs": [],
   "source": [
    "\n",
    "date_obj = datetime(year=2020, month=12, day=31)\n",
    "dayofyear = pd.Timestamp(date_obj).dayofyear\n",
    "cumulative_deaths = int(get_cumulative_deaths_usa(dayofyear))\n",
    "print('The US will have {:,} cumulative confirmed deaths on {}.'.format(cumulative_deaths, date_obj.strftime('%b %d, %Y')))"
   ]
  },
  {
   "cell_type": "code",
   "execution_count": null,
   "metadata": {},
   "outputs": [],
   "source": [
    "\n",
    "tracking_df.columns"
   ]
  },
  {
   "cell_type": "code",
   "execution_count": null,
   "metadata": {},
   "outputs": [],
   "source": [
    "\n",
    "def get_lb_ub(p0):\n",
    "    if p0 < 0:\n",
    "        uba = math.copysign(abs(p0)/10, p0)\n",
    "        lba = math.copysign(abs(p0)*10, p0)\n",
    "    else:\n",
    "        lba = math.copysign(abs(p0)/10, p0)\n",
    "        uba = math.copysign(abs(p0)*10, p0)\n",
    "    \n",
    "    return lba, uba\n",
    "\n",
    "p0a = popt[0]\n",
    "lba, uba = get_lb_ub(p0a)\n",
    "print('''\n",
    "lba = {}\n",
    "uba = {}\n",
    "p0a = {}'''.format(lba, uba, p0a))\n",
    "\n",
    "p0b = popt[1]\n",
    "lbb, ubb = get_lb_ub(p0b)\n",
    "print('''\n",
    "lbb = {}\n",
    "ubb = {}\n",
    "p0b = {}'''.format(lbb, ubb, p0b))\n",
    "\n",
    "p0c = popt[2]\n",
    "lbc, ubc = get_lb_ub(p0c)\n",
    "print('''\n",
    "lbc = {}\n",
    "ubc = {}\n",
    "p0c = {}'''.format(lbc, ubc, p0c))\n",
    "\n",
    "p0d = popt[3]\n",
    "lbd, ubd = get_lb_ub(p0d)\n",
    "print('''\n",
    "lbd = {}\n",
    "ubd = {}\n",
    "p0d = {}'''.format(lbd, ubd, p0d))\n",
    "\n",
    "p0e = popt[4]\n",
    "lbe, ube = get_lb_ub(p0e)\n",
    "print('''\n",
    "lbe = {}\n",
    "ube = {}\n",
    "p0e = {}'''.format(lbe, ube, p0e))"
   ]
  },
  {
   "cell_type": "code",
   "execution_count": null,
   "metadata": {},
   "outputs": [],
   "source": [
    "\n",
    "lba = 3.5898673196110995e-29\n",
    "uba = 3.589867319611099e-27\n",
    "p0a = 3.5898673196110993e-28\n",
    "\n",
    "lbb = -258.0043216718908\n",
    "ubb = -2.580043216718908\n",
    "p0b = -25.80043216718908\n",
    "\n",
    "lbc = 1.794478077861036\n",
    "ubc = 179.44780778610362\n",
    "p0c = 17.94478077861036\n",
    "\n",
    "lbd = 4.482007640229286\n",
    "ubd = 448.2007640229285\n",
    "p0d = 44.820076402292855\n",
    "\n",
    "lbe = -32017.1490577167\n",
    "ube = -320.171490577167\n",
    "p0e = -3201.7149057716697"
   ]
  },
  {
   "cell_type": "code",
   "execution_count": null,
   "metadata": {},
   "outputs": [],
   "source": [
    "\n",
    "column_name = 'Confirmed_New_usa'\n",
    "popt, doubling_days, get_new_confirmations_usa = fit_curve(column_name=column_name,\n",
    "                                                           lba=lba, lbb=lbb, lbc=lbc, lbd=lbd, lbe=lbe,\n",
    "                                                           uba=uba, ubb=ubb, ubc=ubc, ubd=ubd, ube=ube,\n",
    "                                                           p0a=p0a, p0b=p0b, p0c=p0c, p0d=p0d, p0e=p0e,\n",
    "                                                           min_x=100)\n",
    "dayofyear = pd.Timestamp(datetime.now()).dayofyear\n",
    "confirmed_now = int(get_new_confirmations_usa(dayofyear))\n",
    "word_list = column_name.lower().split('_')\n",
    "formatted_str = 'The US will have {:,} {} {} cases today. It is doubling every {} days.'\n",
    "print(formatted_str.format(confirmed_now, word_list[0], word_list[1], round(doubling_days, 1)))\n",
    "formatted_str = 'That {} * pow(dayofyear{}, {}) + {} * dayofyear + {} curve shown in red is (over)fitted to the data.'\n",
    "print(formatted_str.format(popt[0], popt[1], popt[2], popt[3], popt[4]))"
   ]
  },
  {
   "cell_type": "code",
   "execution_count": null,
   "metadata": {},
   "outputs": [],
   "source": [
    "\n",
    "import matplotlib.pyplot as plt\n",
    "from scipy.optimize import curve_fit\n",
    "import numpy as np\n",
    "import math\n",
    "%matplotlib inline\n",
    "\n",
    "#tracking_df = s.load_object('tracking_df')\n",
    "method = ['lm', 'trf', 'dogbox'][1]\n",
    "def fit_sigmoid_curve(column_name='Confirmed_New_usa',\n",
    "                      lba=1e-09, lbb=-49, lbc=3.8,\n",
    "                      uba=0.1, ubb=-41, ubc=8.3,\n",
    "                      p0a=0.05, p0b=-46, p0c=3.9,\n",
    "                      min_x=100):\n",
    "    \n",
    "    # Format the data\n",
    "    columns_list = [column_name]\n",
    "    tracking_df[column_name] = pd.to_numeric(tracking_df[column_name])\n",
    "    match_series = (tracking_df[column_name] >= min_x)\n",
    "    df = tracking_df[match_series][columns_list].dropna(axis='index', how='any')\n",
    "    \n",
    "    # Fit the curve using the lower and upper bounds and a suggested starting point\n",
    "    def sigmoid(x, a, b, c):\n",
    "        #print('{} / (1 + np.exp(-1*{}*np.subtract(np.array({}), {})))'.format(a, b, x, c))\n",
    "        \n",
    "        return a / (1 + np.exp(-1*b*np.subtract(x, c)))\n",
    "    dayofyear_data = np.array(object=[ts.dayofyear for ts in df.index])\n",
    "    confirmation_data = np.array(object=[int(c) for c in df[column_name].tolist()])\n",
    "    bounds_tuple = ([lba, lbb, lbc],\n",
    "                    [uba, ubb, ubc])\n",
    "    p0_array = np.array([p0a, p0b, p0c])\n",
    "    popt, pcov = curve_fit(sigmoid, dayofyear_data, confirmation_data,\n",
    "                           bounds=bounds_tuple, p0=p0_array, method=method)\n",
    "    \n",
    "    # Plot the cumulative data\n",
    "    fig = plt.figure(figsize=(18, 4))\n",
    "    ax = fig.add_subplot(111)\n",
    "    #ax.set_yscale('log')\n",
    "    country_name = column_name.split('_')[-1]\n",
    "    line_2d_obj = plt.plot(dayofyear_data, confirmation_data, 'b-', label='{} data'.format(country_name))\n",
    "    \n",
    "    # Plot the fitted curve\n",
    "    def get_cumulative_confirmations(dayofyear):\n",
    "        '''Get the cumulative confirmations given the day of the year'''\n",
    "        #print('{} / (1 + np.exp(-{}({}-{})))'.format(popt[0], popt[1], dayofyear, popt[2]))\n",
    "        \n",
    "        return popt[0] / (1 + np.exp(-1*popt[1]*np.subtract(dayofyear, popt[2])))\n",
    "    label_str = 'fit: cc = %3.0f / (1 + np.exp(-%3.1f(doy-%3.1f)))' % tuple(popt)\n",
    "    line_2d_obj = plt.plot(dayofyear_data, get_cumulative_confirmations(dayofyear_data), 'r-', label=label_str)\n",
    "    \n",
    "    # Label the graph\n",
    "    plt.xlabel('Day of Year')\n",
    "    label_list = column_name.split('_')\n",
    "    plt.ylabel('{} {}'.format(label_list[0], label_list[1]))\n",
    "    legend_obj = plt.legend()\n",
    "    \n",
    "    # Get the doubling time\n",
    "    doubling_time_list = []\n",
    "    for i, confirms in enumerate(confirmation_data):\n",
    "        if i > 0:\n",
    "            growth_rate = (confirmation_data[i]-confirmation_data[i-1])/confirmation_data[i]\n",
    "            doubling_time = math.log(2)/growth_rate\n",
    "            if (doubling_time != np.inf) and (doubling_time > 0):\n",
    "                doubling_time_list.append(doubling_time)\n",
    "    average_doubling_time = np.array(doubling_time_list).mean()\n",
    "    \n",
    "    return popt, average_doubling_time, get_cumulative_confirmations"
   ]
  },
  {
   "cell_type": "code",
   "execution_count": null,
   "metadata": {},
   "outputs": [],
   "source": [
    "\n",
    "column_name = 'Confirmed_New_usa'\n",
    "popt, doubling_days, get_new_confirmations_usa = fit_sigmoid_curve(column_name=column_name, lba=lba, lbb=lbb, lbc=lbc, uba=uba, ubb=ubb, ubc=ubc,\n",
    "                                                                   p0a=p0a, p0b=p0b, p0c=p0c, min_x=1)"
   ]
  },
  {
   "cell_type": "code",
   "execution_count": null,
   "metadata": {},
   "outputs": [],
   "source": [
    "\n",
    "p0a = popt[0]\n",
    "lba, uba = get_lb_ub(p0a)\n",
    "print('''\n",
    "lba = {}\n",
    "uba = {}\n",
    "p0a = {}'''.format(lba, uba, p0a))\n",
    "\n",
    "p0b = popt[1]\n",
    "lbb, ubb = get_lb_ub(p0b)\n",
    "print('''\n",
    "lbb = {}\n",
    "ubb = {}\n",
    "p0b = {}'''.format(lbb, ubb, p0b))\n",
    "\n",
    "p0c = popt[2]\n",
    "lbc, ubc = get_lb_ub(p0c)\n",
    "print('''\n",
    "lbc = {}\n",
    "ubc = {}\n",
    "p0c = {}'''.format(lbc, ubc, p0c))"
   ]
  },
  {
   "cell_type": "code",
   "execution_count": null,
   "metadata": {},
   "outputs": [],
   "source": [
    "\n",
    "column_name = 'Deaths_New_usa'\n",
    "popt, doubling_days, get_new_deaths_usa = fit_sigmoid_curve(column_name=column_name, lba=lba, lbb=lbb, lbc=lbc, uba=uba, ubb=ubb,\n",
    "                                                            ubc=ubc, p0a=p0a, p0b=p0b, p0c=p0c, min_x=1)"
   ]
  },
  {
   "cell_type": "code",
   "execution_count": null,
   "metadata": {},
   "outputs": [],
   "source": [
    "\n",
    "df.Deaths_New.unique()"
   ]
  },
  {
   "cell_type": "code",
   "execution_count": null,
   "metadata": {},
   "outputs": [],
   "source": [
    "\n",
    "from scipy.stats import pearsonr\n",
    "import seaborn as sns\n",
    "\n",
    "usa_df = s.load_object('usa_df')\n",
    "qr_column = 'Deaths_New'\n",
    "qe_column = 'doy'\n",
    "columns_list = [qr_column, 'Date']\n",
    "df = usa_df[columns_list].dropna(axis='index', how='any')\n",
    "df[qe_column] = df.Date.map(lambda ts: ts.dayofyear)\n",
    "columns_list = [qe_column, qr_column]\n",
    "df = df[columns_list]\n",
    "df[qr_column] = pd.to_numeric(df[qr_column]).map(lambda x: math.log(x))\n",
    "facet_grid = sns.lmplot(x=qe_column, y=qr_column, data=df)\n",
    "set_list = facet_grid.set(xlabel='Day of Year',\n",
    "                             ylabel='Logarithm of the day`s Coronavirus Deaths',\n",
    "                             title='Association Between Time Passing and the Logarithm of New Deaths')\n",
    "set_list = facet_grid.fig.set(figheight=10, figwidth=10)\n",
    "pearsonr_tuple = pearsonr(df[qe_column], df[qr_column])\n",
    "pearson_r = pearsonr_tuple[0]\n",
    "pearsonr_statement = str('%.2f' % pearson_r)\n",
    "coefficient_of_determination_statement = str('%.2f' % pearson_r**2)\n",
    "p_value = pearsonr_tuple[1]\n",
    "if p_value < 0.0001:\n",
    "    pvalue_statement = '<0.0001'\n",
    "else:\n",
    "    pvalue_statement = '=' + str('%.4f' % p_value)\n",
    "set_list = facet_grid.fig.text(0.135, 0.86, r'$r^2=' + coefficient_of_determination_statement + ',\\ p' + pvalue_statement + '$')"
   ]
  },
  {
   "cell_type": "code",
   "execution_count": null,
   "metadata": {},
   "outputs": [],
   "source": [
    "\n",
    "from scipy.stats import pearsonr\n",
    "import seaborn as sns\n",
    "\n",
    "usa_df = s.load_object('usa_df')\n",
    "qr_column = 'Deaths_New'\n",
    "qe_column = 'doy'\n",
    "columns_list = [qr_column, 'Date']\n",
    "df = usa_df[columns_list].dropna(axis='index', how='any')\n",
    "df[qe_column] = df.Date.map(lambda ts: ts.dayofyear)\n",
    "columns_list = [qe_column, qr_column]\n",
    "df = df[columns_list]\n",
    "df[qr_column] = pd.to_numeric(df[qr_column])\n",
    "facet_grid = sns.lmplot(x=qe_column, y=qr_column, data=df, logx=False)\n",
    "facet_grid.ax.set_yscale('log')\n",
    "set_list = facet_grid.set(xlabel='Day of Year',\n",
    "                             ylabel='The day`s Coronavirus Deaths',\n",
    "                             title='Association Between Time Passing and New Deaths')\n",
    "set_list = facet_grid.fig.set(figheight=10, figwidth=10)\n",
    "pearsonr_tuple = pearsonr(df[qe_column], df[qr_column])\n",
    "pearson_r = pearsonr_tuple[0]\n",
    "pearsonr_statement = str('%.2f' % pearson_r)\n",
    "coefficient_of_determination_statement = str('%.2f' % pearson_r**2)\n",
    "p_value = pearsonr_tuple[1]\n",
    "if p_value < 0.0001:\n",
    "    pvalue_statement = '<0.0001'\n",
    "else:\n",
    "    pvalue_statement = '=' + str('%.4f' % p_value)\n",
    "set_list = facet_grid.fig.text(0.135, 0.86, r'$r^2=' + coefficient_of_determination_statement + ',\\ p' + pvalue_statement + '$')"
   ]
  },
  {
   "cell_type": "code",
   "execution_count": null,
   "metadata": {},
   "outputs": [],
   "source": [
    "\n",
    "print(type(axes_subplot1))\n",
    "print(['facet_grid.{}'.format(fn) for fn in dir(axes_subplot1) if not fn.startswith('_')])"
   ]
  },
  {
   "cell_type": "code",
   "execution_count": null,
   "metadata": {},
   "outputs": [],
   "source": [
    "\n",
    "sns.lmplot?"
   ]
  },
  {
   "cell_type": "code",
   "execution_count": null,
   "metadata": {},
   "outputs": [],
   "source": [
    "\n",
    "#date_obj = datetime(year=2020, month=12, day=31)\n",
    "#dayofyear = pd.Timestamp(date_obj).dayofyear\n",
    "date_obj = datetime.now()\n",
    "dayofyear = pd.Timestamp(date_obj).dayofyear\n",
    "confirmed_now = int(get_new_deaths_usa(dayofyear))\n",
    "word_list = column_name.lower().split('_')\n",
    "formatted_str = 'The US will have {:,} {} {} on {}. It is doubling every {} days.'\n",
    "print(formatted_str.format(confirmed_now, word_list[0], word_list[1], date_obj.strftime('%b %d, %Y'), round(doubling_days, 1)))\n",
    "formatted_str = 'That {} / (1 + math.exp(-1*{}*(dayofyear-{}))) curve shown in red is (over)fitted to the data.'\n",
    "print(formatted_str.format(popt[0], popt[1], popt[2]))"
   ]
  },
  {
   "cell_type": "code",
   "execution_count": null,
   "metadata": {},
   "outputs": [],
   "source": [
    "\n",
    "lba = 6166330.3878130205\n",
    "uba = 616633038.7813021/4\n",
    "p0a = 61663303.878130205\n",
    "\n",
    "lbb = 0.039285826964592\n",
    "ubb = 3.9285826964591997\n",
    "p0b = 0.39285826964591997\n",
    "\n",
    "lbc = 10.381717623034424\n",
    "ubc = 1038.1717623034424\n",
    "p0c = 103.81717623034424"
   ]
  },
  {
   "cell_type": "code",
   "execution_count": null,
   "metadata": {},
   "outputs": [],
   "source": [
    "\n",
    "column_description_dict = s.load_object('column_description_dict')"
   ]
  },
  {
   "cell_type": "code",
   "execution_count": null,
   "metadata": {},
   "outputs": [],
   "source": [
    "\n",
    "def get_column_description(column_name):\n",
    "    if column_name in column_description_dict:\n",
    "        column_description = column_description_dict[column_name]\n",
    "    else:\n",
    "        column_description = re.sub('^pf_', 'Personal Freedom:_', str(column_name), 1)\n",
    "        column_description = re.sub('^hf_', 'Human Freedom:_', str(column_description), 1)\n",
    "        column_description = re.sub('^ef_', 'Economic Freedom:_', str(column_description), 1)\n",
    "        column_list = column_description.split('_')\n",
    "        descr_list = []\n",
    "        for word in column_list:\n",
    "            descr_list.append(word[0].upper()+word[1:])\n",
    "        column_description = ' '.join(descr_list)\n",
    "        column_description_dict[column_name] = column_description\n",
    "        s.store_objects(column_description_dict=column_description_dict)\n",
    "    \n",
    "    return column_description"
   ]
  },
  {
   "cell_type": "code",
   "execution_count": null,
   "metadata": {},
   "outputs": [],
   "source": [
    "\n",
    "for column_name in pandemic_df.columns:\n",
    "    print(column_name, get_column_description(column_name=column_name))"
   ]
  },
  {
   "cell_type": "code",
   "execution_count": null,
   "metadata": {},
   "outputs": [],
   "source": [
    "\n",
    "svg_dir = os.path.join(s.saves_folder, 'svg')\n",
    "os.makedirs(name=svg_dir, exist_ok=True)"
   ]
  },
  {
   "cell_type": "code",
   "execution_count": null,
   "metadata": {},
   "outputs": [],
   "source": [
    "\n",
    "def show_linear_scatterplot(merged_df, columns_list, ev_min_str=None, ev_max_str=None, rv_min_str=None, rv_max_str=None):\n",
    "    ev_column_name = columns_list[0]\n",
    "    rv_column_name = columns_list[1]\n",
    "    explanatory_variable = get_column_description(ev_column_name)\n",
    "    response_variable = get_column_description(rv_column_name)\n",
    "    if (ev_min_str is None):\n",
    "        ev_min_str = 'minimum {}'.format(explanatory_variable)\n",
    "    if (ev_max_str is None):\n",
    "        ev_max_str = 'maximum {}'.format(explanatory_variable)\n",
    "    if (rv_min_str is None):\n",
    "        rv_min_str = 'minimum {}'.format(response_variable)\n",
    "    if (rv_max_str is None):\n",
    "        rv_max_str = 'maximum {}'.format(response_variable)\n",
    "    \n",
    "    df = merged_df.copy()\n",
    "    columns_list = [ev_column_name, rv_column_name]\n",
    "    df = df[columns_list].dropna()\n",
    "    ev_max = df[ev_column_name].max()\n",
    "    ev_min = df[ev_column_name].min()\n",
    "    rv_min = df[rv_column_name].min()\n",
    "    rv_max = df[rv_column_name].max()\n",
    "    ev_max_labeled = False\n",
    "    ev_min_labeled = False\n",
    "    rv_min_labeled = False\n",
    "    rv_max_labeled = False\n",
    "    \n",
    "    # First order (linear) scatterplot\n",
    "    fig1_fig = plt.figure(figsize=(12,8))\n",
    "    merge_axes_subplot = plt.scatter(x=df[ev_column_name].tolist(), y=df[rv_column_name].tolist(), s=None, c=None, marker=None, cmap=None,\n",
    "                                     norm=None, vmin=None, vmax=None, alpha=None, linewidths=None, verts=None, edgecolors=None,\n",
    "                                     plotnonfinite=False, data=df)\n",
    "    xlabel_text = plt.xlabel('{}'.format(explanatory_variable))\n",
    "    ylabel_text = plt.ylabel('{}'.format(response_variable))\n",
    "    \n",
    "    # Add annotations\n",
    "    for label, x, y in zip(df.index, df[ev_column_name], df[rv_column_name]):\n",
    "        if (x == ev_min):\n",
    "            if not ev_min_labeled:\n",
    "                ev_min_labeled = True\n",
    "                annotation = plt.annotate('{} ({})'.format(label, ev_min_str), xy=(x, y), xytext=ev_min_xytext, **kwargs)\n",
    "        elif (x == ev_max):\n",
    "            if not ev_max_labeled:\n",
    "                ev_max_labeled = True\n",
    "                annotation = plt.annotate('{} ({})'.format(label, ev_max_str), xy=(x, y), xytext=ev_max_xytext, **kwargs)\n",
    "        elif (y == rv_min):\n",
    "            if not rv_min_labeled:\n",
    "                rv_min_labeled = True\n",
    "                annotation = plt.annotate('{} ({})'.format(label, rv_min_str), xy=(x, y), xytext=rv_min_xytext, **kwargs)\n",
    "        elif (y == rv_max):\n",
    "            if not rv_max_labeled:\n",
    "                rv_max_labeled = True\n",
    "                annotation = plt.annotate('{} ({})'.format(label, rv_max_str), xy=(x, y), xytext=rv_max_xytext, **kwargs)\n",
    "        elif (label == 'SARS'):\n",
    "            annotation = plt.annotate('{}'.format(label), xy=(x, y), xytext=(50, -20), **kwargs)\n",
    "        elif ('Kong' in label):\n",
    "            annotation = plt.annotate('{}'.format(label), xy=(x, y), xytext=(-65, 120), **kwargs)\n",
    "        elif ('Swine' in label):\n",
    "            annotation = plt.annotate('{}'.format(label), xy=(x, y), xytext=(-50, 100-2.7842095), **kwargs)\n",
    "        elif ('Seasonal' in label):\n",
    "            annotation = plt.annotate('{}'.format(label), xy=(x, y), xytext=(-25, 70-1.9397546), **kwargs)\n",
    "        elif ('Spanish' in label):\n",
    "            annotation = plt.annotate('{}'.format(label), xy=(x, y), xytext=(-59, 128), **kwargs)\n",
    "        elif ('19' in label):\n",
    "            annotation = plt.annotate('{}'.format(label), xy=(x, y), xytext=(-85, 25), **red_kwargs)\n",
    "        '''else:\n",
    "            annotation = plt.annotate('{}'.format(label), xy=(x, y), xytext=ev_min_xytext, **kwargs)'''\n",
    "    \n",
    "    # Add r-squared\n",
    "    x = df[ev_column_name].values\n",
    "    y = df[rv_column_name].values\n",
    "    plt.text(17.4, 34.4, r'$r^2 = {0:.2}$'.format(stats.pearsonr(x, y)[0] ** 2), fontsize=20, alpha=0.25,\n",
    "             horizontalalignment='center', verticalalignment='center')\n",
    "    plt.suptitle(t='Relative Deadliness and Infectiousness of the Wuhan Flu Pandemic', x=0.5, y=0.91)\n",
    "    left, right = plt.xlim()\n",
    "    bottom, top = plt.ylim()\n",
    "    file_path = os.path.join(svg_dir, 'pandemic.svg')\n",
    "    plt.savefig(file_path)\n",
    "    with open(file_path, 'r') as f:\n",
    "        xml_str = f.read()\n",
    "        d_regex = re.compile('d=\"([^\"\\r\\n]+)[\\r\\n]+')\n",
    "        while d_regex.search(xml_str):\n",
    "            xml_str = d_regex.sub(r'd=\"\\g<1>', xml_str)\n",
    "        with open(file_path, 'w') as f:\n",
    "            print(xml_str.strip(), file=f)\n",
    "    \n",
    "    return file_path, left, right, bottom, top"
   ]
  },
  {
   "cell_type": "code",
   "execution_count": null,
   "metadata": {},
   "outputs": [],
   "source": [
    "\n",
    "#pandemic_df = s.load_object('pandemic_df')\n",
    "kwargs = dict(textcoords='offset points', ha='left', va='bottom',\n",
    "              bbox=dict(boxstyle='round,pad=0.5', fc='yellow', alpha=0.5),\n",
    "              arrowprops=dict(arrowstyle='->', connectionstyle='arc3,rad=0'))\n",
    "red_kwargs = dict(textcoords='offset points', ha='left', va='bottom',\n",
    "                  bbox=dict(boxstyle='round,pad=0.5', fc='pink', alpha=0.5),\n",
    "                  arrowprops=dict(arrowstyle='->', connectionstyle='arc3,rad=0'))\n",
    "\n",
    "ev_column_name = 'R0_high'\n",
    "rv_column_name = 'CFR_high'\n",
    "\n",
    "ev_min_str = 'least infectious'\n",
    "ev_max_str = 'most infectious'\n",
    "rv_min_str = 'least deadly'\n",
    "rv_max_str = 'most deadly'\n",
    "ev_min_xytext = (50, -10)\n",
    "ev_max_xytext = (-150, -10)\n",
    "rv_min_xytext = (20, -5)\n",
    "rv_max_xytext = (100, -50)\n",
    "columns_list = [ev_column_name, rv_column_name]\n",
    "file_path, left, right, bottom, top = show_linear_scatterplot(pandemic_df, columns_list, ev_min_str=ev_min_str,\n",
    "                                                              ev_max_str=ev_max_str, rv_min_str=rv_min_str,\n",
    "                                                              rv_max_str=rv_max_str)\n",
    "!start %windir%\\explorer.exe \"{os.path.abspath(os.path.dirname(file_path))}\""
   ]
  },
  {
   "cell_type": "code",
   "execution_count": null,
   "metadata": {},
   "outputs": [],
   "source": [
    "\n",
    "import matplotlib\n",
    "\n",
    "columns_list = ['R0_high', 'R0_low', 'CFR_high', 'CFR_low']\n",
    "fig = plt.figure(figsize=(12,8))\n",
    "ax = fig.add_subplot(111)\n",
    "match_series = (pandemic_df.index == 'Rubella')\n",
    "for Disease, row_series in pandemic_df[columns_list].iterrows():\n",
    "    R0_high = row_series['R0_high']\n",
    "    R0_low = row_series['R0_low']\n",
    "    CFR_high = row_series['CFR_high']\n",
    "    CFR_low = row_series['CFR_low']\n",
    "    rect = matplotlib.patches.Rectangle((R0_low, CFR_low), R0_high-R0_low, CFR_high-CFR_low, color='black', alpha=0.5)\n",
    "    ax.add_patch(rect)\n",
    "    #annotation = plt.annotate('{}'.format(Disease), xy=(int((R0_high+R0_low)/2), int((CFR_high+CFR_low)/2)), xytext=(-85, 20), **red_kwargs)\n",
    "plt.xlim(left, right)\n",
    "bottom, top = plt.ylim(bottom, top)\n",
    "xlabel_text = plt.xlabel('Basic Reproduction Number')\n",
    "ylabel_text = plt.ylabel('Case Fatality Ratio')"
   ]
  },
  {
   "cell_type": "code",
   "execution_count": null,
   "metadata": {},
   "outputs": [],
   "source": [
    "\n",
    "Disease, R0_high, R0_low, CFR_high, CFR_low"
   ]
  },
  {
   "cell_type": "code",
   "execution_count": null,
   "metadata": {},
   "outputs": [],
   "source": [
    "\n",
    "merge_axes_subplot = plt.scatter(x=df[ev_column_name].tolist(), y=df[rv_column_name].tolist(), s=None, c=None, marker=None, cmap=None,\n",
    "                                 norm=None, vmin=None, vmax=None, alpha=None, linewidths=None, verts=None, edgecolors=None,\n",
    "                                 plotnonfinite=False, data=df)"
   ]
  },
  {
   "cell_type": "code",
   "execution_count": null,
   "metadata": {},
   "outputs": [],
   "source": []
  }
 ],
 "metadata": {
  "kernelspec": {
   "display_name": "Python 3",
   "language": "python",
   "name": "python3"
  },
  "language_info": {
   "codemirror_mode": {
    "name": "ipython",
    "version": 3
   },
   "file_extension": ".py",
   "mimetype": "text/x-python",
   "name": "python",
   "nbconvert_exporter": "python",
   "pygments_lexer": "ipython3",
   "version": "3.7.6"
  }
 },
 "nbformat": 4,
 "nbformat_minor": 4
}
