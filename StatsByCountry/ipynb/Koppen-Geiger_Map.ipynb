{
 "cells": [
  {
   "cell_type": "code",
   "execution_count": null,
   "metadata": {},
   "outputs": [],
   "source": []
  },
  {
   "cell_type": "code",
   "execution_count": 1,
   "metadata": {},
   "outputs": [],
   "source": [
    "\n",
    "import sys\n",
    "\n",
    "# Insert at 1, 0 is the script path (or '' in REPL)\n",
    "sys.path.insert(1, '../py')"
   ]
  },
  {
   "cell_type": "code",
   "execution_count": 2,
   "metadata": {},
   "outputs": [
    {
     "name": "stdout",
     "output_type": "stream",
     "text": [
      "Pretty printing has been turned OFF\n",
      "C:\\Users\\dev\\Documents\\repositories\\notebooks\\StatsByCountry\\ipynb\\Koppen-Geiger_Map.ipynb\n",
      "['s.attempt_to_pickle', 's.data_csv_folder', 's.data_folder', 's.encoding_type', 's.load_csv', 's.load_dataframes', 's.load_object', 's.save_dataframes', 's.saves_csv_folder', 's.saves_folder', 's.saves_pickle_folder', 's.store_objects']\n",
      "['c.axes_str', 'c.clean_up_state_common_dict', 'c.clean_up_state_merge_dataframe', 'c.clean_up_state_unique_dict', 'c.clean_up_suggestion_list_dict', 'c.column_description_dict', 'c.conjunctify_list', 'c.copy_file_path', 'c.create_label_line_file', 'c.create_state_first_dict', 'c.create_us_colored_labeled_map', 'c.create_us_colored_map', 'c.create_us_google_suggest_labeled_map', 'c.create_us_labeled_map', 'c.figure_str', 'c.fill_style_prefix', 'c.fill_style_str', 'c.get_colorbar_xml', 'c.get_column_description', 'c.get_google_suggestion_list', 'c.get_legend_xml', 'c.get_style_list', 'c.get_tfidf_lists', 'c.get_tspan_list', 'c.gradient_file_path', 'c.gradient_str', 'c.html_style_str', 'c.hyphen_dict', 'c.hyphenate_words', 'c.l_str', 'c.label_line_file_path', 'c.label_line_style_dict', 'c.label_line_style_list', 'c.label_str', 'c.label_text_style_list', 'c.label_tspan_style_list', 'c.line_height', 'c.matplotlib_axis_str', 'c.namedview_attributes_list', 'c.regex_sub_str', 'c.scrape_suggestion_list_dictionary', 'c.show_colorbar', 'c.state_common_dict', 'c.state_first_dict', 'c.state_merge_df', 'c.state_path_str', 'c.state_unique_dict', 'c.suggestion_list_dict', 'c.svg_attributes_list', 'c.svg_dir', 'c.svg_prefix_str', 'c.svg_regex', 'c.svg_suffix', 'c.t_str', 'c.text_style_dict', 'c.text_style_list', 'c.tick_text_str', 'c.tick_text_style_list', 'c.tick_tspan_style_list', 'c.trim_d_path', 'c.ts_str', 'c.ytick_str']\n"
     ]
    },
    {
     "data": {
      "text/plain": [
       "['Config', 'In', 'Out', 'RandomForestClassifier', 'Storage', '_', '__', '___', '__builtin__', '__builtins__', '__doc__', '__loader__', '__name__', '__nonzero__', '__package__', '__spec__', '_dh', '_i', '_i1', '_i2', '_ih', '_ii', '_iii', '_oh', 'c', 'choropleth_utils', 'csv', 'exit', 'get_classifier', 'get_data_structs_df', 'get_datastructure_prediction', 'get_dir_tree', 'get_importances', 'get_input_sample', 'get_ipython', 'get_module_version', 'get_notebook_path', 'get_struct_name', 'ipykernel', 'json', 'jupyter_config_dir', 'notebook_path', 'notebookapp', 'os', 'pd', 'pickle', 'preprocess_data', 'quit', 're', 's', 'sys', 'text_editor_path', 'urllib']"
      ]
     },
     "execution_count": 2,
     "metadata": {},
     "output_type": "execute_result"
    }
   ],
   "source": [
    "\n",
    "import choropleth_utils\n",
    "%run ../../load_magic/environment.py\n",
    "%run ../../load_magic/storage.py\n",
    "%pprint\n",
    "\n",
    "c = choropleth_utils.ChoroplethUtilities()\n",
    "notebook_path = get_notebook_path()\n",
    "print(notebook_path)\n",
    "s = Storage()\n",
    "print(['s.{}'.format(fn) for fn in dir(s) if not fn.startswith('_')])\n",
    "print(['c.{}'.format(fn) for fn in dir(c) if not fn.startswith('_')])\n",
    "text_editor_path = r'C:\\Program Files\\Notepad++\\notepad++.exe'\n",
    "dir()"
   ]
  },
  {
   "cell_type": "code",
   "execution_count": 3,
   "metadata": {},
   "outputs": [
    {
     "ename": "KeyboardInterrupt",
     "evalue": "",
     "output_type": "error",
     "traceback": [
      "\u001b[1;31m---------------------------------------------------------------------------\u001b[0m",
      "\u001b[1;31mKeyboardInterrupt\u001b[0m                         Traceback (most recent call last)",
      "\u001b[1;32m<ipython-input-3-53d74f9de21a>\u001b[0m in \u001b[0;36m<module>\u001b[1;34m\u001b[0m\n\u001b[0;32m      1\u001b[0m \u001b[1;33m\u001b[0m\u001b[0m\n\u001b[0;32m      2\u001b[0m \u001b[0mfile_path\u001b[0m \u001b[1;33m=\u001b[0m \u001b[0mos\u001b[0m\u001b[1;33m.\u001b[0m\u001b[0mpath\u001b[0m\u001b[1;33m.\u001b[0m\u001b[0mjoin\u001b[0m\u001b[1;33m(\u001b[0m\u001b[0ms\u001b[0m\u001b[1;33m.\u001b[0m\u001b[0mdata_folder\u001b[0m\u001b[1;33m,\u001b[0m \u001b[1;34m'svg'\u001b[0m\u001b[1;33m,\u001b[0m \u001b[1;34m'Koppen-Geiger_Map_World_present.svg'\u001b[0m\u001b[1;33m)\u001b[0m\u001b[1;33m\u001b[0m\u001b[1;33m\u001b[0m\u001b[0m\n\u001b[1;32m----> 3\u001b[1;33m \u001b[0mc\u001b[0m\u001b[1;33m.\u001b[0m\u001b[0mtrim_d_path\u001b[0m\u001b[1;33m(\u001b[0m\u001b[0mfile_path\u001b[0m\u001b[1;33m)\u001b[0m\u001b[1;33m\u001b[0m\u001b[1;33m\u001b[0m\u001b[0m\n\u001b[0m",
      "\u001b[1;32m~\\Documents\\repositories\\notebooks\\StatsByCountry\\py\\choropleth_utils.py\u001b[0m in \u001b[0;36mtrim_d_path\u001b[1;34m(self, file_path)\u001b[0m\n\u001b[0;32m    269\u001b[0m             \u001b[0md_regex\u001b[0m \u001b[1;33m=\u001b[0m \u001b[0mre\u001b[0m\u001b[1;33m.\u001b[0m\u001b[0mcompile\u001b[0m\u001b[1;33m(\u001b[0m\u001b[1;34m'd=\"([^\"\\r\\n]+)[\\r\\n]+'\u001b[0m\u001b[1;33m)\u001b[0m\u001b[1;33m\u001b[0m\u001b[1;33m\u001b[0m\u001b[0m\n\u001b[0;32m    270\u001b[0m             \u001b[1;32mwhile\u001b[0m \u001b[0md_regex\u001b[0m\u001b[1;33m.\u001b[0m\u001b[0msearch\u001b[0m\u001b[1;33m(\u001b[0m\u001b[0mxml_str\u001b[0m\u001b[1;33m)\u001b[0m\u001b[1;33m:\u001b[0m\u001b[1;33m\u001b[0m\u001b[1;33m\u001b[0m\u001b[0m\n\u001b[1;32m--> 271\u001b[1;33m                 \u001b[0mxml_str\u001b[0m \u001b[1;33m=\u001b[0m \u001b[0md_regex\u001b[0m\u001b[1;33m.\u001b[0m\u001b[0msub\u001b[0m\u001b[1;33m(\u001b[0m\u001b[1;34mr'd=\"\\g<1>'\u001b[0m\u001b[1;33m,\u001b[0m \u001b[0mxml_str\u001b[0m\u001b[1;33m)\u001b[0m\u001b[1;33m\u001b[0m\u001b[1;33m\u001b[0m\u001b[0m\n\u001b[0m\u001b[0;32m    272\u001b[0m             \u001b[1;32mwith\u001b[0m \u001b[0mopen\u001b[0m\u001b[1;33m(\u001b[0m\u001b[0mfile_path\u001b[0m\u001b[1;33m,\u001b[0m \u001b[1;34m'w'\u001b[0m\u001b[1;33m)\u001b[0m \u001b[1;32mas\u001b[0m \u001b[0mf\u001b[0m\u001b[1;33m:\u001b[0m\u001b[1;33m\u001b[0m\u001b[1;33m\u001b[0m\u001b[0m\n\u001b[0;32m    273\u001b[0m                 \u001b[0mprint\u001b[0m\u001b[1;33m(\u001b[0m\u001b[0mxml_str\u001b[0m\u001b[1;33m.\u001b[0m\u001b[0mstrip\u001b[0m\u001b[1;33m(\u001b[0m\u001b[1;33m)\u001b[0m\u001b[1;33m,\u001b[0m \u001b[0mfile\u001b[0m\u001b[1;33m=\u001b[0m\u001b[0mf\u001b[0m\u001b[1;33m)\u001b[0m\u001b[1;33m\u001b[0m\u001b[1;33m\u001b[0m\u001b[0m\n",
      "\u001b[1;32m~\\Anaconda3\\lib\\re.py\u001b[0m in \u001b[0;36mfilter\u001b[1;34m(match, template)\u001b[0m\n\u001b[0;32m    329\u001b[0m         \u001b[1;32mreturn\u001b[0m \u001b[0mtemplate\u001b[0m\u001b[1;33m[\u001b[0m\u001b[1;36m1\u001b[0m\u001b[1;33m]\u001b[0m\u001b[1;33m[\u001b[0m\u001b[1;36m0\u001b[0m\u001b[1;33m]\u001b[0m\u001b[1;33m\u001b[0m\u001b[1;33m\u001b[0m\u001b[0m\n\u001b[0;32m    330\u001b[0m     \u001b[1;32mdef\u001b[0m \u001b[0mfilter\u001b[0m\u001b[1;33m(\u001b[0m\u001b[0mmatch\u001b[0m\u001b[1;33m,\u001b[0m \u001b[0mtemplate\u001b[0m\u001b[1;33m=\u001b[0m\u001b[0mtemplate\u001b[0m\u001b[1;33m)\u001b[0m\u001b[1;33m:\u001b[0m\u001b[1;33m\u001b[0m\u001b[1;33m\u001b[0m\u001b[0m\n\u001b[1;32m--> 331\u001b[1;33m         \u001b[1;32mreturn\u001b[0m \u001b[0msre_parse\u001b[0m\u001b[1;33m.\u001b[0m\u001b[0mexpand_template\u001b[0m\u001b[1;33m(\u001b[0m\u001b[0mtemplate\u001b[0m\u001b[1;33m,\u001b[0m \u001b[0mmatch\u001b[0m\u001b[1;33m)\u001b[0m\u001b[1;33m\u001b[0m\u001b[1;33m\u001b[0m\u001b[0m\n\u001b[0m\u001b[0;32m    332\u001b[0m     \u001b[1;32mreturn\u001b[0m \u001b[0mfilter\u001b[0m\u001b[1;33m\u001b[0m\u001b[1;33m\u001b[0m\u001b[0m\n\u001b[0;32m    333\u001b[0m \u001b[1;33m\u001b[0m\u001b[0m\n",
      "\u001b[1;31mKeyboardInterrupt\u001b[0m: "
     ]
    }
   ],
   "source": [
    "\n",
    "file_path = os.path.join(s.data_folder, 'svg', 'Koppen-Geiger_Map_World_present.svg')\n",
    "c.trim_d_path(file_path)"
   ]
  },
  {
   "cell_type": "code",
   "execution_count": 7,
   "metadata": {},
   "outputs": [
    {
     "name": "stdout",
     "output_type": "stream",
     "text": [
      "['os.DirEntry', 'os.chdir', 'os.curdir', 'os.listdir', 'os.makedirs', 'os.mkdir', 'os.pardir', 'os.removedirs', 'os.rmdir', 'os.scandir', 'os.supports_dir_fd']\n",
      "bq_cv_vocab = s.load_object('bq_cv_vocab')\n",
      "bq_tt = s.load_object('bq_tt')\n",
      "canada_races_df = s.load_object('canada_races_df')\n",
      "capitalism_gini_df = s.load_object('capitalism_gini_df')\n",
      "column_descriptions_df = s.load_object('column_descriptions_df')\n",
      "column_description_dict = s.load_object('column_description_dict')\n",
      "freedom_df = s.load_object('freedom_df')\n",
      "gdp_df = s.load_object('gdp_df')\n",
      "governance_df = s.load_object('governance_df')\n",
      "gun_stats_df = s.load_object('gun_stats_df')\n",
      "income_df = s.load_object('income_df')\n",
      "merge_df = s.load_object('merge_df')\n",
      "RoL_df = s.load_object('RoL_df')\n",
      "RoL_dict = s.load_object('RoL_dict')\n",
      "state_common_dict = s.load_object('state_common_dict')\n",
      "state_effectiveness_df = s.load_object('state_effectiveness_df')\n",
      "state_first_dict = s.load_object('state_first_dict')\n",
      "state_merge_df = s.load_object('state_merge_df')\n",
      "state_race_df = s.load_object('state_race_df')\n",
      "state_unique_dict = s.load_object('state_unique_dict')\n",
      "suggestion_list_dict = s.load_object('suggestion_list_dict')\n",
      "taxes_df = s.load_object('taxes_df')\n",
      "typos_df = s.load_object('typos_df')\n",
      "us_states_df = s.load_object('us_states_df')\n"
     ]
    }
   ],
   "source": [
    "\n",
    "print(['os.{}'.format(fn) for fn in dir(os) if 'dir' in fn.lower()])\n",
    "for file_name in os.listdir(s.saves_pickle_folder):\n",
    "    df_name = file_name.split('.')[0]\n",
    "    print(\"{} = s.load_object('{}')\".format(df_name, df_name))"
   ]
  },
  {
   "cell_type": "code",
   "execution_count": 13,
   "metadata": {},
   "outputs": [
    {
     "data": {
      "text/plain": [
       "((159, 127), ['Year', 'ISO_code', 'Region', 'hf_score', 'hf_rank', 'hf_quartile', 'pf_rol_procedural', 'pf_rol_civil', 'pf_rol_criminal', 'pf_rol', 'pf_ss_homicide', 'pf_ss_disappearances_disap', 'pf_ss_disappearances_violent', 'pf_ss_disappearances_organized', 'pf_ss_disappearances_fatalities', 'pf_ss_disappearances_injuries', 'pf_ss_disappearances', 'pf_ss_women_fgm', 'pf_ss_women_missing', 'pf_ss_women_inheritance_widows', 'pf_ss_women_inheritance_daughters', 'pf_ss_women_inheritance', 'pf_ss_women', 'pf_ss', 'pf_movement_domestic', 'pf_movement_foreign', 'pf_movement_women', 'pf_movement', 'pf_religion_estop_establish', 'pf_religion_estop_operate', 'pf_religion_estop', 'pf_religion_harassment', 'pf_religion_restrictions', 'pf_religion', 'pf_association_association', 'pf_association_assembly', 'pf_association_political_establish', 'pf_association_political_operate', 'pf_association_political', 'pf_association_prof_establish', 'pf_association_prof_operate', 'pf_association_prof', 'pf_association_sport_establish', 'pf_association_sport_operate', 'pf_association_sport', 'pf_association', 'pf_expression_killed', 'pf_expression_jailed', 'pf_expression_influence', 'pf_expression_control', 'pf_expression_cable', 'pf_expression_newspapers', 'pf_expression_internet', 'pf_expression', 'pf_identity_legal', 'pf_identity_parental_marriage', 'pf_identity_parental_divorce', 'pf_identity_parental', 'pf_identity_sex_male', 'pf_identity_sex_female', 'pf_identity_sex', 'pf_identity_divorce', 'pf_identity', 'pf_score', 'pf_rank', 'ef_government_consumption', 'ef_government_transfers', 'ef_government_enterprises', 'ef_government_tax_income', 'ef_government_tax_payroll', 'ef_government_tax', 'ef_government', 'ef_legal_judicial', 'ef_legal_courts', 'ef_legal_protection', 'ef_legal_military', 'ef_legal_integrity', 'ef_legal_enforcement', 'ef_legal_restrictions', 'ef_legal_police', 'ef_legal_crime', 'ef_legal_gender', 'ef_legal', 'ef_money_growth', 'ef_money_sd', 'ef_money_inflation', 'ef_money_currency', 'ef_money', 'ef_trade_tariffs_revenue', 'ef_trade_tariffs_mean', 'ef_trade_tariffs_sd', 'ef_trade_tariffs', 'ef_trade_regulatory_nontariff', 'ef_trade_regulatory_compliance', 'ef_trade_regulatory', 'ef_trade_black', 'ef_trade_movement_foreign', 'ef_trade_movement_capital', 'ef_trade_movement_visit', 'ef_trade_movement', 'ef_trade', 'ef_regulation_credit_ownership', 'ef_regulation_credit_private', 'ef_regulation_credit_interest', 'ef_regulation_credit', 'ef_regulation_labor_minwage', 'ef_regulation_labor_firing', 'ef_regulation_labor_bargain', 'ef_regulation_labor_hours', 'ef_regulation_labor_dismissal', 'ef_regulation_labor_conscription', 'ef_regulation_labor', 'ef_regulation_business_adm', 'ef_regulation_business_bureaucracy', 'ef_regulation_business_start', 'ef_regulation_business_bribes', 'ef_regulation_business_licensing', 'ef_regulation_business_compliance', 'ef_regulation_business', 'ef_regulation', 'ef_score', 'ef_rank', 'Corporate', 'Income_lowest', 'Income_highest', 'VAT', 'Further_reading'])"
      ]
     },
     "execution_count": 13,
     "metadata": {},
     "output_type": "execute_result"
    }
   ],
   "source": [
    "\n",
    "merge_df = s.load_object('merge_df')\n",
    "merge_df.shape, merge_df.columns.tolist()"
   ]
  },
  {
   "cell_type": "code",
   "execution_count": 26,
   "metadata": {},
   "outputs": [
    {
     "data": {
      "text/plain": [
       "{'St. Vincent and the Grenadines', nan, nan, nan, \"Cote d'Ivoire\", 'Ivory Coast', 'Equatorial Guinea', 'St. Lucia', 'Cook Islands', 'Swaziland', 'East Timor', 'Cape Verde', 'Brunei', 'Korea, Rep.', 'West Bank and Gaza', 'Dominica', 'Korea, Dem. People’s Rep.', 'Tuvalu', 'Kyrgyzstan', 'Cuba', 'Laos', 'Micronesia, Fed. Sts.', 'Kyrgyz Republic', 'Uzbekistan', 'Djibouti', 'Netherlands Antilles', 'Congo, Dem. R.', 'Russian Federation', 'Russia', 'Afghanistan', 'Reunion', 'Sao Tome and Principe', 'Bahamas', 'American Samoa', 'Solomon Islands', 'Kosovo', 'Gambia', 'Cabo Verde', 'San Marino', 'Brunei Darussalam', 'Congo, Dem. Rep.', 'Aruba', 'Maldives', 'Macao SAR, China', 'South Korea', 'Taiwan, China', 'Gambia, The', 'Turkmenistan', 'Eswatini', 'Nauru', 'Marshall Islands', 'Somalia', 'Antigua and Barbuda', 'Tonga', 'Grenada', 'Niue', 'Last Updated: 10/02/2019', 'Martinique', 'Slovak Republic', 'Bermuda', 'Lao PDR', 'Vanuatu', 'Samoa', 'Hong Kong SAR, China', 'Monaco', 'Eritrea', 'South Sudan', 'Guam', 'Comoros', 'Kiribati', 'Hong Kong', 'Liechtenstein', 'Data from database: Worldwide Governance Indicators', 'Anguilla', 'Andorra', 'Congo, Rep. Of', 'St. Kitts and Nevis', 'Puerto Rico', 'Timor-Leste', 'French Guiana', 'Slovakia', 'Taiwan', 'Virgin Islands (U.S.)', 'Palau', 'Congo, Rep.', 'Greenland', 'Bahamas, The', 'Cayman Islands', 'Jersey, Channel Islands'}"
      ]
     },
     "execution_count": 26,
     "metadata": {},
     "output_type": "execute_result"
    }
   ],
   "source": [
    "\n",
    "set(freedom_df.index).symmetric_difference(set(governance_df.index))"
   ]
  },
  {
   "cell_type": "code",
   "execution_count": 27,
   "metadata": {},
   "outputs": [
    {
     "data": {
      "text/plain": [
       "{'St. Vincent and the Grenadines', \"Cote d'Ivoire\", 'Cook Is.', 'Ivory Coast', 'Equatorial Guinea', 'St. Helena', 'Falkland Is. (Malvinas)', 'St. Lucia', 'East Timor', 'Holy See', 'Transnistria', 'Northern Cyprus', 'Wallis et Futuna', 'Faeroe Is.', 'South Ossetia', 'West Bank and Gaza', 'Tokelau', 'Israel', 'Dominica', 'Tuvalu', 'Svalbard', 'Hong Kong, China', 'Kyrgyzstan', 'Cuba', 'Eritrea and Ethiopia', 'United Korea (former)', 'Channel Is.', 'Micronesia, Fed. Sts.', 'Uzbekistan', 'Djibouti', 'Virgin Is. (U.S.)', 'Netherlands Antilles', 'Congo, Dem. R.', 'Akrotiri and Dhekelia', 'Afghanistan', 'Czechoslovakia', 'Reunion', 'Sao Tome and Principe', 'American Samoa', 'Kosovo', 'East Germany', 'Macao, China', 'Serbia and Montenegro', 'San Marino', 'Gibraltar', 'Congo, Dem. Rep.', 'Aruba', 'British Virgin Is.', 'Norfolk Is.', 'Maldives', 'Pitcairn', 'North Yemen (former)', 'Guernsey', 'St. Martin', 'North Korea', 'Christmas Is.', 'Turkmenistan', 'Abkhazia', 'Nauru', 'St.-Pierre-et-Miquelon', 'Somalia', 'Macedonia, FYR', 'Antigua and Barbuda', 'Tonga', 'Grenada', 'Marshall Is.', 'Niue', 'New Caledonia', 'Slovak Rep.', 'Martinique', 'North Macedonia', 'Bermuda', 'Vanuatu', 'Samoa', 'Monaco', 'Eritrea', 'Guam', 'West Germany', 'Comoros', 'Cocos Is.', 'Kiribati', 'Hong Kong', 'Liechtenstein', 'Anguilla', 'Andorra', 'Congo, Rep. Of', 'Cayman Is.', 'Guadeloupe', 'Mayotte', 'St. Kitts and Nevis', 'Ngorno-Karabakh', 'Puerto Rico', 'Jersey', 'French Guiana', 'Timor-Leste', 'Slovakia', 'Kyrgyz Rep.', 'French Polynesia', 'Northern Mariana Is.', 'Palau', 'Serbia excluding Kosovo', 'USSR', 'South Yemen (former)', 'Congo, Rep.', 'Montserrat', 'Yugoslavia', 'Turks and Caicos Is.', 'Greenland', 'Somaliland', 'Solomon Is.', 'Western Sahara'}"
      ]
     },
     "execution_count": 27,
     "metadata": {},
     "output_type": "execute_result"
    }
   ],
   "source": [
    "\n",
    "set(freedom_df.index).symmetric_difference(set(income_df.index))"
   ]
  },
  {
   "cell_type": "code",
   "execution_count": 28,
   "metadata": {},
   "outputs": [
    {
     "data": {
      "text/plain": [
       "676"
      ]
     },
     "execution_count": 28,
     "metadata": {},
     "output_type": "execute_result"
    }
   ],
   "source": [
    "\n",
    "26**2"
   ]
  },
  {
   "cell_type": "code",
   "execution_count": 21,
   "metadata": {},
   "outputs": [
    {
     "name": "stdout",
     "output_type": "stream",
     "text": [
      "['example_set.add', 'example_set.clear', 'example_set.copy', 'example_set.difference', 'example_set.difference_update', 'example_set.discard', 'example_set.intersection', 'example_set.intersection_update', 'example_set.isdisjoint', 'example_set.issubset', 'example_set.issuperset', 'example_set.pop', 'example_set.remove', 'example_set.symmetric_difference', 'example_set.symmetric_difference_update', 'example_set.union', 'example_set.update']\n"
     ]
    }
   ],
   "source": [
    "\n",
    "example_set = set(freedom_df.index)\n",
    "print(['example_set.{}'.format(fn) for fn in dir(example_set) if not fn.startswith('_')])"
   ]
  },
  {
   "cell_type": "code",
   "execution_count": 25,
   "metadata": {},
   "outputs": [
    {
     "data": {
      "text/plain": [
       "\u001b[1;31mDocstring:\u001b[0m\n",
       "Return the symmetric difference of two sets as a new set.\n",
       "\n",
       "(i.e. all elements that are in exactly one of the sets.)\n",
       "\u001b[1;31mType:\u001b[0m      builtin_function_or_method\n"
      ]
     },
     "metadata": {},
     "output_type": "display_data"
    }
   ],
   "source": [
    "\n",
    "example_set.symmetric_difference?"
   ]
  },
  {
   "cell_type": "code",
   "execution_count": null,
   "metadata": {},
   "outputs": [],
   "source": []
  }
 ],
 "metadata": {
  "kernelspec": {
   "display_name": "Python 3",
   "language": "python",
   "name": "python3"
  },
  "language_info": {
   "codemirror_mode": {
    "name": "ipython",
    "version": 3
   },
   "file_extension": ".py",
   "mimetype": "text/x-python",
   "name": "python",
   "nbconvert_exporter": "python",
   "pygments_lexer": "ipython3",
   "version": "3.6.8"
  }
 },
 "nbformat": 4,
 "nbformat_minor": 2
}
