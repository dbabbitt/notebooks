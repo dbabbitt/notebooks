{
 "cells": [
  {
   "cell_type": "code",
   "execution_count": null,
   "metadata": {},
   "outputs": [],
   "source": []
  },
  {
   "cell_type": "code",
   "execution_count": 16,
   "metadata": {},
   "outputs": [
    {
     "name": "stdout",
     "output_type": "stream",
     "text": [
      "C:\\Users\\577342\\AppData\\Local\\Continuum\\anaconda3\\python.exe -m pip install --upgrade shapely\n",
      "Collecting shapely\n",
      "  Downloading Shapely-1.7.0-cp37-cp37m-win_amd64.whl (1.0 MB)\n",
      "Installing collected packages: shapely\n",
      "Successfully installed shapely-1.7.0\n"
     ]
    }
   ],
   "source": [
    "\n",
    "command_str = '{sys.executable} -m pip install --upgrade shapely'.format(sys=sys)\n",
    "print(command_str)\n",
    "!{command_str}"
   ]
  },
  {
   "cell_type": "code",
   "execution_count": 1,
   "metadata": {},
   "outputs": [],
   "source": [
    "\n",
    "import sys\n",
    "\n",
    "# Insert at 1, 0 is the script path (or '' in REPL)\n",
    "sys.path.insert(1, '../py')"
   ]
  },
  {
   "cell_type": "code",
   "execution_count": 2,
   "metadata": {},
   "outputs": [
    {
     "name": "stdout",
     "output_type": "stream",
     "text": [
      "Pretty printing has been turned OFF\n",
      "D:\\Documents\\Repositories\\notebooks\\StatsByCountry\\ipynb\\Scrape Google Autocomplete by State.ipynb\n",
      "['s.attempt_to_pickle', 's.data_csv_folder', 's.data_folder', 's.encoding_type', 's.load_csv', 's.load_dataframes', 's.load_object', 's.save_dataframes', 's.saves_csv_folder', 's.saves_folder', 's.saves_pickle_folder', 's.store_objects']\n",
      "['c.axes_str', 'c.clean_up_state_common_dict', 'c.clean_up_state_merge_dataframe', 'c.clean_up_state_unique_dict', 'c.clean_up_suggestion_list_dict', 'c.column_description_dict', 'c.conjunctify_list', 'c.copy_file_path', 'c.create_label_line_file', 'c.create_state_first_dict', 'c.create_country_colored_labeled_map', 'c.create_country_colored_map', 'c.create_us_google_suggest_labeled_map', 'c.create_country_labeled_map', 'c.figure_str', 'c.fill_style_prefix', 'c.fill_style_str', 'c.get_colorbar_xml', 'c.get_column_description', 'c.get_google_suggestion_list', 'c.get_legend_xml', 'c.get_style_list', 'c.get_tfidf_lists', 'c.get_tspan_list', 'c.gradient_file_path', 'c.gradient_str', 'c.html_style_str', 'c.hyphen_dict', 'c.hyphenate_words', 'c.l_str', 'c.label_line_file_path', 'c.label_line_style_dict', 'c.label_line_style_list', 'c.label_str', 'c.label_text_style_list', 'c.label_tspan_style_list', 'c.line_height', 'c.matplotlib_axis_str', 'c.namedview_attributes_list', 'c.regex_sub_str', 'c.scrape_suggestion_list_dictionary', 'c.show_colorbar', 'c.state_common_dict', 'c.state_first_dict', 'c.all_countries_df', 'c.state_path_str', 'c.state_unique_dict', 'c.suggestion_list_dict', 'c.svg_attributes_list', 'c.svg_dir', 'c.svg_prefix_str', 'c.svg_regex', 'c.svg_suffix', 'c.t_str', 'c.text_style_dict', 'c.text_style_list', 'c.tick_text_str', 'c.tick_text_style_list', 'c.tick_tspan_style_list', 'c.ts_str', 'c.ytick_str']\n"
     ]
    },
    {
     "data": {
      "text/plain": [
       "['Config', 'In', 'Out', 'RandomForestClassifier', 'Storage', '_', '__', '___', '__builtin__', '__builtins__', '__doc__', '__loader__', '__name__', '__nonzero__', '__package__', '__spec__', '_dh', '_i', '_i1', '_i2', '_ih', '_ii', '_iii', '_oh', 'c', 'choropleth_utils', 'csv', 'exit', 'get_classifier', 'get_data_structs_df', 'get_datastructure_prediction', 'get_dir_tree', 'get_importances', 'get_input_sample', 'get_ipython', 'get_module_version', 'get_notebook_path', 'get_struct_name', 'ipykernel', 'json', 'jupyter_config_dir', 'notebook_path', 'notebookapp', 'np', 'os', 'pd', 'pickle', 'preprocess_data', 'quit', 're', 's', 'sys', 'text_editor_path', 'urllib']"
      ]
     },
     "execution_count": 2,
     "metadata": {},
     "output_type": "execute_result"
    }
   ],
   "source": [
    "\n",
    "import choropleth_utils\n",
    "import numpy as np\n",
    "%run ../../load_magic/environment.py\n",
    "%run ../../load_magic/storage.py\n",
    "%pprint\n",
    "\n",
    "c = choropleth_utils.ChoroplethUtilities()\n",
    "notebook_path = get_notebook_path()\n",
    "print(notebook_path)\n",
    "s = Storage()\n",
    "print(['s.{}'.format(fn) for fn in dir(s) if not fn.startswith('_')])\n",
    "print(['c.{}'.format(fn) for fn in dir(c) if not fn.startswith('_')])\n",
    "text_editor_path = r'C:\\Program Files\\Notepad++\\notepad++.exe'\n",
    "dir()"
   ]
  },
  {
   "cell_type": "code",
   "execution_count": 34,
   "metadata": {},
   "outputs": [],
   "source": [
    "\n",
    "import xml.etree.ElementTree as et\n",
    "\n",
    "svg_dir = os.path.abspath(os.path.join(s.data_folder, 'svg'))"
   ]
  },
  {
   "cell_type": "code",
   "execution_count": 35,
   "metadata": {},
   "outputs": [],
   "source": [
    "\n",
    "xml_str = et.tostring(root, encoding='unicode')\n",
    "with open(file_path, 'w') as f:\n",
    "    print(xml_str.strip(), file=f)"
   ]
  },
  {
   "cell_type": "code",
   "execution_count": 3,
   "metadata": {},
   "outputs": [
    {
     "name": "stdout",
     "output_type": "stream",
     "text": [
      "['Path.T2t', 'Path.append', 'Path.area', 'Path.bbox', 'Path.clear', 'Path.closed', 'Path.continuous_subpaths', 'Path.count', 'Path.cropped', 'Path.curvature', 'Path.d', 'Path.derivative', 'Path.end', 'Path.extend', 'Path.ilength', 'Path.index', 'Path.insert', 'Path.intersect', 'Path.isclosed', 'Path.isclosedac', 'Path.iscontinuous', 'Path.joins_smoothly_with', 'Path.length', 'Path.normal', 'Path.point', 'Path.pop', 'Path.radialrange', 'Path.remove', 'Path.reverse', 'Path.reversed', 'Path.rotated', 'Path.scaled', 'Path.start', 'Path.t2T', 'Path.translated', 'Path.unit_tangent']\n"
     ]
    }
   ],
   "source": [
    "\n",
    "from svgpathtools import Line, Path\n",
    "from shapely.geometry import Polygon\n",
    "\n",
    "# Convert paths to polygons\n",
    "def path_to_poly(inpath):\n",
    "    points = []\n",
    "    for path in inpath:\n",
    "        if isinstance(path, Line):\n",
    "            points.append([path.end.real, path.end.imag])\n",
    "        else:\n",
    "            num_segments = ceil(path.length() / minimum_stitch)\n",
    "            for seg_i in range(int(num_segments + 1)):\n",
    "                points.append([path.point(seg_i / num_segments).real,\n",
    "                                path.point(seg_i / num_segments).imag])\n",
    "    \n",
    "    return Polygon(points)\n",
    "print(['Path.{}'.format(fn) for fn in dir(Path) if not fn.startswith('_')])"
   ]
  },
  {
   "cell_type": "code",
   "execution_count": 4,
   "metadata": {},
   "outputs": [],
   "source": [
    "\n",
    "from svg.path import parse_path\n",
    "import svgpathtools"
   ]
  },
  {
   "cell_type": "code",
   "execution_count": 28,
   "metadata": {},
   "outputs": [],
   "source": [
    "\n",
    "us_stats_df = s.load_object('us_stats_df')\n",
    "us_stats_df['centroid_x'] = np.nan\n",
    "us_stats_df['centroid_y'] = np.nan\n",
    "match_series = c.all_countries_df.outline_d.isnull()\n",
    "for state_name, row_series in c.all_countries_df[~match_series].iterrows():\n",
    "    path_obj = svgpathtools.parse_path(pathdef=row_series.outline_d, current_pos=0j)\n",
    "    poly_obj = path_to_poly(path_obj)\n",
    "    us_stats_df.loc[state_name, 'centroid_x'] = poly_obj.centroid.x\n",
    "    us_stats_df.loc[state_name, 'centroid_y'] = poly_obj.centroid.y\n",
    "us_stats_df.loc['Hawaii', 'centroid_x'] = 418.44421\n",
    "us_stats_df.loc['Hawaii', 'centroid_y'] = 525.24959\n",
    "s.store_objects(us_stats_df=us_stats_df)"
   ]
  },
  {
   "cell_type": "code",
   "execution_count": 13,
   "metadata": {},
   "outputs": [
    {
     "name": "stdout",
     "output_type": "stream",
     "text": [
      "Connecticut: from m 927.31957,154.64115 18.94647,32.60556 to m 926.7483133756758,155.86053827021178 18.94647,32.60556\n",
      "Delaware: from m 903.52633,222.93657 64.68237,16.47902 to m 902.3632590085718,220.5912415446095 64.68237,16.47902\n",
      "Hawaii: from m 418.44421,525.24959 -15.71816,33.03223 to m 418.44421,525.24959 -15.71816,33.03223\n",
      "Maryland: from m 881.15683,220.02489 81.39157,51.3884 to m 894.2228756234892,223.57596220248865 81.39157,51.3884\n",
      "New Hampshire: from m 931.54948,121.15437 58.69,-8.01921 to m 928.9497514056254,109.98702410025666 58.69,-8.01921\n",
      "New Jersey: from m 907.2275,191.30037 44.94279,20.62081 to m 906.6006462142022,195.74062521568754 44.94279,20.62081\n",
      "Rhode Island: from m 942.82924,148.82503 26.87755,13.92345 to m 942.9759028208904,148.34133440231676 26.87755,13.92345\n",
      "Vermont: from M 911.37814,98.736311 884.28111,80.375484 to M 911.5622768467056,107.85171527956979 884.28111,80.375484\n",
      "Pickling to D:\\Documents\\Repositories\\notebooks\\StatsByCountry\\saves\\pickle\\us_stats_df.pickle\n"
     ]
    }
   ],
   "source": [
    "\n",
    "us_stats_df = s.load_object('us_stats_df')\n",
    "match_series = c.all_countries_df.label_line_d.isnull()\n",
    "for state_name, row_series in c.all_countries_df[~match_series].iterrows():\n",
    "    centroid_x = row_series.centroid_x\n",
    "    centroid_y = row_series.centroid_y\n",
    "    label_line_d = row_series.label_line_d\n",
    "    d_list = label_line_d.split(' ')\n",
    "    d_list[1] = '{},{}'.format(centroid_x, centroid_y)\n",
    "    print('{}: from {} to {}'.format(state_name, label_line_d, ' '.join(d_list)))\n",
    "    us_stats_df.loc[state_name, 'label_line_d'] = ' '.join(d_list)\n",
    "s.store_objects(us_stats_df=us_stats_df)"
   ]
  },
  {
   "cell_type": "code",
   "execution_count": 3,
   "metadata": {},
   "outputs": [
    {
     "data": {
      "text/plain": [
       "['district_abbreviation', 'State_Region', 'Google_Suggest_Unique', 'label_line_d', 'Google_Suggest_Common', 'Google_Suggest_First', 'outline_d']"
      ]
     },
     "execution_count": 3,
     "metadata": {},
     "output_type": "execute_result"
    }
   ],
   "source": [
    "\n",
    "[cn for cn in c.all_countries_df.columns if not np.issubdtype(c.all_countries_df[cn].dtype, np.number)]"
   ]
  },
  {
   "cell_type": "code",
   "execution_count": 5,
   "metadata": {},
   "outputs": [],
   "source": [
    "\n",
    "numeric_column_name = 'text_x'\n",
    "string_column_name = 'State_Region'\n",
    "svg_file_path = c.create_country_colored_labeled_map(numeric_column_name=numeric_column_name,\n",
    "                                                string_column_name=string_column_name,\n",
    "                                                df=c.all_countries_df)\n",
    "!\"{text_editor_path}\" \"{os.path.abspath(svg_file_path)}\""
   ]
  },
  {
   "cell_type": "code",
   "execution_count": 11,
   "metadata": {},
   "outputs": [
    {
     "data": {
      "text/plain": [
       "['Guns_Rank', 'Guns_Per_Capita', 'Guns_Registered', 'Total_Gun_Murder_Deaths_2010', 'Gun_Ownership_Percent_2013', 'Gun_Murder_Rate_2010', 'Gun_Suicide_Deaths', 'Gun_Suicide_Rate']"
      ]
     },
     "execution_count": 11,
     "metadata": {},
     "output_type": "execute_result"
    }
   ],
   "source": [
    "\n",
    "[cn for cn in c.all_countries_df.columns if 'gun' in cn.lower()]"
   ]
  },
  {
   "cell_type": "code",
   "execution_count": 8,
   "metadata": {},
   "outputs": [],
   "source": [
    "\n",
    "import numpy as np\n",
    "\n",
    "string_column_name = None\n",
    "columns_list = [cn for cn in c.all_countries_df.columns if np.issubdtype(c.all_countries_df[cn].dtype, np.number)]\n",
    "for numeric_column_name in columns_list:\n",
    "    svg_file_path = c.create_country_colored_labeled_map(numeric_column_name=numeric_column_name,\n",
    "                                                    string_column_name=string_column_name,\n",
    "                                                    df=c.all_countries_df)"
   ]
  },
  {
   "cell_type": "code",
   "execution_count": 9,
   "metadata": {},
   "outputs": [],
   "source": [
    "\n",
    "!start %windir%\\explorer.exe \"{os.path.abspath(os.path.join(svg_file_path, '../'))}\""
   ]
  },
  {
   "cell_type": "code",
   "execution_count": 5,
   "metadata": {},
   "outputs": [],
   "source": [
    "\n",
    "numeric_column_name = 'Gun_Murder_Rate_2010'\n",
    "string_column_name = 'Google_Suggest_Unique'\n",
    "svg_file_path = c.create_country_colored_labeled_map(numeric_column_name=numeric_column_name,\n",
    "                                                string_column_name=string_column_name,\n",
    "                                                df=c.all_countries_df)\n",
    "!\"{text_editor_path}\" \"{os.path.abspath(svg_file_path)}\""
   ]
  },
  {
   "cell_type": "code",
   "execution_count": 14,
   "metadata": {},
   "outputs": [],
   "source": [
    "\n",
    "string_column_name = 'Google_Suggest_Common'\n",
    "svg_file_path = c.create_country_labeled_map(string_column_name=string_column_name,\n",
    "                                        df=c.all_countries_df)\n",
    "!\"{text_editor_path}\" \"{os.path.abspath(svg_file_path)}\""
   ]
  },
  {
   "cell_type": "code",
   "execution_count": 15,
   "metadata": {},
   "outputs": [],
   "source": [
    "\n",
    "string_column_name = 'Google_Suggest_First'\n",
    "svg_file_path = c.create_country_labeled_map(string_column_name=string_column_name,\n",
    "                                        df=c.all_countries_df)\n",
    "!\"{text_editor_path}\" \"{os.path.abspath(svg_file_path)}\""
   ]
  },
  {
   "cell_type": "code",
   "execution_count": 17,
   "metadata": {},
   "outputs": [],
   "source": [
    "\n",
    "string_column_name = 'State_Region'\n",
    "svg_file_path = c.create_country_labeled_map(string_column_name=string_column_name,\n",
    "                                        df=c.all_countries_df)\n",
    "!\"{text_editor_path}\" \"{os.path.abspath(svg_file_path)}\""
   ]
  },
  {
   "cell_type": "code",
   "execution_count": 3,
   "metadata": {},
   "outputs": [],
   "source": [
    "\n",
    "string_column_name = 'Google_Suggest_Unique'\n",
    "svg_file_path = c.create_country_labeled_map(string_column_name=string_column_name,\n",
    "                                        df=c.all_countries_df)\n",
    "!\"{text_editor_path}\" \"{os.path.abspath(svg_file_path)}\""
   ]
  },
  {
   "cell_type": "code",
   "execution_count": 3,
   "metadata": {},
   "outputs": [],
   "source": [
    "\n",
    "c.create_label_line_file()"
   ]
  },
  {
   "cell_type": "code",
   "execution_count": 5,
   "metadata": {},
   "outputs": [],
   "source": [
    "\n",
    "from xml.dom.minidom import parse, parseString\n",
    "\n",
    "def print_xml(xml_obj):\n",
    "    xml_str = et.tostring(xml_obj, encoding='unicode')\n",
    "    reparsed = parseString(xml_str)\n",
    "    xml_str = reparsed.toprettyxml()\n",
    "    xml_str = re.sub(r'\\n+[ \\t]+\\n+', r'\\n', xml_str)\n",
    "    xml_str = re.sub(r'\\n+[ \\t]+\\n+', r'\\n', xml_str)\n",
    "    print(xml_str)"
   ]
  },
  {
   "cell_type": "code",
   "execution_count": 3,
   "metadata": {},
   "outputs": [],
   "source": [
    "\n",
    "states_file_path = c.create_country_labeled_map(df=c.all_countries_df, column_name='Google_Suggest_Unique')\n",
    "!\"{text_editor_path}\" \"{os.path.abspath(states_file_path)}\""
   ]
  },
  {
   "cell_type": "code",
   "execution_count": 3,
   "metadata": {},
   "outputs": [
    {
     "name": "stdout",
     "output_type": "stream",
     "text": [
      "The whole list for Alabama is: good, republican, good at football, bad at kicking, bad this year, trashy, dangerous, humid, religious, and cheap.\n"
     ]
    }
   ],
   "source": [
    "\n",
    "state_name = 'Alabama'\n",
    "print(c.get_google_suggestion_list(state_name))"
   ]
  },
  {
   "cell_type": "code",
   "execution_count": 4,
   "metadata": {},
   "outputs": [
    {
     "data": {
      "text/html": [
       "<div>\n",
       "<style scoped>\n",
       "    .dataframe tbody tr th:only-of-type {\n",
       "        vertical-align: middle;\n",
       "    }\n",
       "\n",
       "    .dataframe tbody tr th {\n",
       "        vertical-align: top;\n",
       "    }\n",
       "\n",
       "    .dataframe thead th {\n",
       "        text-align: right;\n",
       "    }\n",
       "</style>\n",
       "<table border=\"1\" class=\"dataframe\">\n",
       "  <thead>\n",
       "    <tr style=\"text-align: right;\">\n",
       "      <th></th>\n",
       "      <th>Georgia</th>\n",
       "      <th>Arizona</th>\n",
       "      <th>Florida</th>\n",
       "      <th>Nebraska</th>\n",
       "      <th>Mississippi</th>\n",
       "      <th>Colorado</th>\n",
       "      <th>Maine</th>\n",
       "      <th>Kansas</th>\n",
       "      <th>Montana</th>\n",
       "      <th>Hawaii</th>\n",
       "    </tr>\n",
       "  </thead>\n",
       "  <tbody>\n",
       "    <tr>\n",
       "      <th>Google_Suggest_Common</th>\n",
       "      <td>cold</td>\n",
       "      <td>expensive</td>\n",
       "      <td>expensive</td>\n",
       "      <td>cold</td>\n",
       "      <td>boring</td>\n",
       "      <td>expensive</td>\n",
       "      <td>expensive</td>\n",
       "      <td>cold</td>\n",
       "      <td>expensive</td>\n",
       "      <td>expensive</td>\n",
       "    </tr>\n",
       "    <tr>\n",
       "      <th>Google_Suggest_Unique</th>\n",
       "      <td>popular for filming</td>\n",
       "      <td>sunny</td>\n",
       "      <td>windy</td>\n",
       "      <td>flooded</td>\n",
       "      <td>awful</td>\n",
       "      <td>healthy</td>\n",
       "      <td>creepy</td>\n",
       "      <td>windy</td>\n",
       "      <td>warm this winter</td>\n",
       "      <td>volcanically active</td>\n",
       "    </tr>\n",
       "    <tr>\n",
       "      <th>Google_Suggest_First</th>\n",
       "      <td>cheap</td>\n",
       "      <td>hot</td>\n",
       "      <td>hot</td>\n",
       "      <td>bad</td>\n",
       "      <td>poor</td>\n",
       "      <td>cold</td>\n",
       "      <td>safe</td>\n",
       "      <td>windy</td>\n",
       "      <td>big</td>\n",
       "      <td>expensive</td>\n",
       "    </tr>\n",
       "    <tr>\n",
       "      <th>text_x</th>\n",
       "      <td>812.8</td>\n",
       "      <td>326.1</td>\n",
       "      <td>829.005</td>\n",
       "      <td>524.76</td>\n",
       "      <td>697.751</td>\n",
       "      <td>432.76</td>\n",
       "      <td>953.983</td>\n",
       "      <td>541.695</td>\n",
       "      <td>391.831</td>\n",
       "      <td>401.689</td>\n",
       "    </tr>\n",
       "    <tr>\n",
       "      <th>text_y</th>\n",
       "      <td>386.424</td>\n",
       "      <td>353.337</td>\n",
       "      <td>431.703</td>\n",
       "      <td>231.702</td>\n",
       "      <td>422.315</td>\n",
       "      <td>280.009</td>\n",
       "      <td>67.3263</td>\n",
       "      <td>289.337</td>\n",
       "      <td>106.26</td>\n",
       "      <td>566.369</td>\n",
       "    </tr>\n",
       "    <tr>\n",
       "      <th>label_line_d</th>\n",
       "      <td>NaN</td>\n",
       "      <td>NaN</td>\n",
       "      <td>NaN</td>\n",
       "      <td>NaN</td>\n",
       "      <td>NaN</td>\n",
       "      <td>NaN</td>\n",
       "      <td>NaN</td>\n",
       "      <td>NaN</td>\n",
       "      <td>NaN</td>\n",
       "      <td>m 418.44421,525.24959 -15.71816,33.03223</td>\n",
       "    </tr>\n",
       "  </tbody>\n",
       "</table>\n",
       "</div>"
      ],
      "text/plain": [
       "                                   Georgia    Arizona    Florida Nebraska  \\\n",
       "Google_Suggest_Common                 cold  expensive  expensive     cold   \n",
       "Google_Suggest_Unique  popular for filming      sunny      windy  flooded   \n",
       "Google_Suggest_First                 cheap        hot        hot      bad   \n",
       "text_x                               812.8      326.1    829.005   524.76   \n",
       "text_y                             386.424    353.337    431.703  231.702   \n",
       "label_line_d                           NaN        NaN        NaN      NaN   \n",
       "\n",
       "                      Mississippi   Colorado      Maine   Kansas  \\\n",
       "Google_Suggest_Common      boring  expensive  expensive     cold   \n",
       "Google_Suggest_Unique       awful    healthy     creepy    windy   \n",
       "Google_Suggest_First         poor       cold       safe    windy   \n",
       "text_x                    697.751     432.76    953.983  541.695   \n",
       "text_y                    422.315    280.009    67.3263  289.337   \n",
       "label_line_d                  NaN        NaN        NaN      NaN   \n",
       "\n",
       "                                Montana  \\\n",
       "Google_Suggest_Common         expensive   \n",
       "Google_Suggest_Unique  warm this winter   \n",
       "Google_Suggest_First                big   \n",
       "text_x                          391.831   \n",
       "text_y                           106.26   \n",
       "label_line_d                        NaN   \n",
       "\n",
       "                                                         Hawaii  \n",
       "Google_Suggest_Common                                 expensive  \n",
       "Google_Suggest_Unique                       volcanically active  \n",
       "Google_Suggest_First                                  expensive  \n",
       "text_x                                                  401.689  \n",
       "text_y                                                  566.369  \n",
       "label_line_d           m 418.44421,525.24959 -15.71816,33.03223  "
      ]
     },
     "execution_count": 4,
     "metadata": {},
     "output_type": "execute_result"
    }
   ],
   "source": [
    "\n",
    "#print(c.all_countries_df.columns.tolist())\n",
    "columns_list = ['Google_Suggest_Common', 'Google_Suggest_Unique', 'Google_Suggest_First', 'text_x', 'text_y', 'label_line_d']\n",
    "c.all_countries_df[columns_list].sample(10).T"
   ]
  },
  {
   "cell_type": "code",
   "execution_count": 6,
   "metadata": {},
   "outputs": [],
   "source": [
    "\n",
    "c.create_label_line_file()\n",
    "!\"{text_editor_path}\" \"{os.path.abspath(c.label_line_file_path)}\""
   ]
  },
  {
   "cell_type": "code",
   "execution_count": 7,
   "metadata": {},
   "outputs": [],
   "source": [
    "\n",
    "states_file_path = c.create_us_google_suggest_labeled_map(cu_str='unique')\n",
    "!\"{text_editor_path}\" \"{os.path.abspath(states_file_path)}\"\n",
    "states_file_path = c.create_us_google_suggest_labeled_map(cu_str='common')\n",
    "!\"{text_editor_path}\" \"{os.path.abspath(states_file_path)}\"\n",
    "states_file_path = c.create_us_google_suggest_labeled_map(cu_str='first')\n",
    "!\"{text_editor_path}\" \"{os.path.abspath(states_file_path)}\""
   ]
  },
  {
   "cell_type": "markdown",
   "metadata": {},
   "source": [
    "\n",
    "---\n",
    "# Do some ft-idf calculations"
   ]
  },
  {
   "cell_type": "code",
   "execution_count": 8,
   "metadata": {},
   "outputs": [
    {
     "name": "stdout",
     "output_type": "stream",
     "text": [
      "[('expensive', 3.591617604543698), ('cold', 3.706027955721442), ('boring', 3.768548312702776), ('cheap', 3.8352396872014487), ('humid', 4.067041301258772), ('poor', 4.258096538021482), ('republican', 4.312163759291758), ('dangerous', 4.369322173131707), ('bad', 4.429946794948141), ('weird', 4.429946794948141), ('conservative', 4.494485316085712), ('hot', 4.494485316085712), ('popular', 4.494485316085712), ('windy', 4.494485316085712), ('important', 4.563478187572664), ('democratic', 4.717628867399922), ('flat', 4.717628867399922), ('live', 4.717628867399922), ('warm', 4.804640244389551), ('rich', 4.899950424193877), ('backwards', 5.005310939851703), ('cloudy', 5.256625368132609), ('depressing', 5.256625368132609), ('small', 5.256625368132609), ('big', 5.410776047959867)]\n",
      "[('active', 6.5093883366279774), ('alcohol', 6.5093883366279774), ('awful', 6.5093883366279774), ('basketball', 6.5093883366279774), ('beautiful', 6.5093883366279774), ('broke', 6.5093883366279774), ('business', 6.5093883366279774), ('called', 6.5093883366279774), ('carolina', 6.5093883366279774), ('catholic', 6.5093883366279774), ('caucus', 6.5093883366279774), ('corporations', 6.5093883366279774), ('crowded', 6.5093883366279774), ('dark', 6.5093883366279774), ('depressed', 6.5093883366279774), ('drunk', 6.5093883366279774), ('election', 6.5093883366279774), ('elections', 6.5093883366279774), ('enchanting', 6.5093883366279774), ('filming', 6.5093883366279774), ('flooded', 6.5093883366279774), ('french', 6.5093883366279774), ('friendly', 6.5093883366279774), ('german', 6.5093883366279774), ('gerrymandered', 6.5093883366279774)]\n"
     ]
    }
   ],
   "source": [
    "\n",
    "sorted_d, reverse_sorted_d = c.get_tfidf_lists()\n",
    "print(sorted_d[:25])\n",
    "print(reverse_sorted_d[:25])"
   ]
  },
  {
   "cell_type": "code",
   "execution_count": 9,
   "metadata": {},
   "outputs": [
    {
     "data": {
      "text/plain": [
       "{'California': 'expensive', 'Colorado': 'expensive', 'Connecticut': 'expensive', 'Florida': 'expensive', 'Hawaii': 'expensive', 'Idaho': 'expensive', 'Illinois': 'expensive', 'Maine': 'expensive', 'Maryland': 'expensive to live in', 'Massachusetts': 'expensive', 'Minnesota': 'expensive', 'Alaska': 'expensive', 'Arizona': 'expensive', 'Montana': 'expensive', 'New Hampshire': 'expensive', 'New Jersey': 'expensive', 'New York': 'expensive', 'North Dakota': 'expensive', 'Oregon': 'expensive', 'Rhode Island': 'expensive', 'Texas': 'expensive', 'Vermont': 'expensive', 'Virginia': 'expensive', 'Washington': 'expensive', 'Wisconsin': 'expensive', 'Wyoming': 'expensive', 'Georgia': 'cold', 'Iowa': 'cold', 'Kansas': 'cold', 'Michigan': 'cold', 'Missouri': 'cold', 'Nebraska': 'cold', 'New Mexico': 'cold', 'North Carolina': 'cold', 'Oklahoma': 'cold', 'Pennsylvania': 'cold', 'South Dakota': 'cold', 'Utah': 'cold', 'Delaware': 'boring', 'Kentucky': 'boring', 'Mississippi': 'boring', 'Arkansas': 'boring', 'South Carolina': 'boring', 'Tennessee': 'boring', 'Indiana': 'cheap', 'Alabama': 'cheap', 'Nevada': 'cheap', 'Ohio': 'cheap', 'West Virginia': 'cheap', 'Louisiana': 'humid'}"
      ]
     },
     "execution_count": 9,
     "metadata": {},
     "output_type": "execute_result"
    }
   ],
   "source": [
    "\n",
    "c.state_common_dict"
   ]
  },
  {
   "cell_type": "code",
   "execution_count": 10,
   "metadata": {},
   "outputs": [
    {
     "data": {
      "text/plain": [
       "{'California': 'expensive', 'Colorado': 'cold', 'Connecticut': 'rich', 'Delaware': 'small', 'Florida': 'hot', 'Georgia': 'cheap', 'Hawaii': 'expensive', 'Kentucky': 'poor', 'Louisiana': 'poor', 'Idaho': 'boring', 'Illinois': 'broke', 'Indiana': 'conservative', 'Iowa': 'important', 'Kansas': 'windy', 'Maine': 'safe', 'Maryland': 'rich', 'Massachusetts': 'rich', 'Michigan': 'cold', 'Minnesota': 'cold', 'Mississippi': 'poor', 'Missouri': 'dangerous', 'Alabama': 'good', 'Alaska': 'cold', 'Arizona': 'hot', 'Arkansas': 'poor', 'Montana': 'big', 'Nebraska': 'bad', 'Nevada': 'empty', 'New Hampshire': 'rich', 'New Jersey': 'expensive', 'New Mexico': 'poor', 'New York': 'expensive', 'North Carolina': 'cheap', 'North Dakota': 'cold', 'Ohio': 'cheap', 'Oklahoma': 'cheap', 'Oregon': 'weird', 'Pennsylvania': 'conservative', 'Rhode Island': 'small', 'South Carolina': 'poor', 'South Dakota': 'cold', 'Tennessee': 'cheap', 'Texas': 'cheap', 'Utah': 'weird', 'Vermont': 'blue', 'Virginia': 'rich', 'Washington': 'cloudy', 'West Virginia': 'poor', 'Wisconsin': 'drunk', 'Wyoming': 'windy'}"
      ]
     },
     "execution_count": 10,
     "metadata": {},
     "output_type": "execute_result"
    }
   ],
   "source": [
    "\n",
    "c.state_first_dict"
   ]
  },
  {
   "cell_type": "markdown",
   "metadata": {},
   "source": [
    "\n",
    "---"
   ]
  },
  {
   "cell_type": "code",
   "execution_count": 11,
   "metadata": {},
   "outputs": [
    {
     "data": {
      "text/plain": [
       "51"
      ]
     },
     "execution_count": 11,
     "metadata": {},
     "output_type": "execute_result"
    }
   ],
   "source": [
    "\n",
    "len(c.suggestion_list_dict.keys())"
   ]
  },
  {
   "cell_type": "code",
   "execution_count": 12,
   "metadata": {},
   "outputs": [
    {
     "name": "stdout",
     "output_type": "stream",
     "text": [
      "set()\n"
     ]
    }
   ],
   "source": [
    "\n",
    "print(set(c.all_countries_df.index) - set(c.suggestion_list_dict.keys()))"
   ]
  },
  {
   "cell_type": "code",
   "execution_count": 13,
   "metadata": {},
   "outputs": [
    {
     "name": "stdout",
     "output_type": "stream",
     "text": [
      "Getting the FireFox driver\n",
      "Getting URL: https://www.google.com\n"
     ]
    }
   ],
   "source": [
    "\n",
    "suggestion_list_dict = c.scrape_suggestion_list_dictionary(False)"
   ]
  },
  {
   "cell_type": "code",
   "execution_count": 14,
   "metadata": {},
   "outputs": [
    {
     "data": {
      "text/plain": [
       "{'California': ['expensive', 'popular', 'dry', 'hot', 'populated', 'bad', 'big', 'polluted', 'democratic', 'expensive reddit'], 'Colorado': ['cold', 'expensive', 'healthy', 'dry', 'high', 'popular', 'square', 'windy', 'expensive reddit', 'sunny'], 'Connecticut': ['rich', 'expensive', 'weird', 'small', 'strange', 'boring', 'dangerous', 'expensive to live in'], 'Delaware': ['small', 'cheap', 'flat', 'windy', 'boring', 'business friendly', 'popular for corporations', 'democratic', 'irrelevant', 'liberal'], 'Florida': ['hot', 'cheap', 'humid', 'flat', 'popular', 'populated', 'expensive', 'ghetto', 'rainy', 'windy'], 'Georgia': ['cheap', 'cold', 'poor', 'bad', 'hot', 'cheap to live in', 'humid', 'boring', 'popular for filming', 'backwards'], 'Hawaii': ['expensive', 'popular', 'hot', 'beautiful', 'expensive to live', 'warm', 'democratic', 'volcanically active', 'far away', 'famous'], 'Kentucky': ['poor', 'backwards', 'conservative', 'good at basketball', 'hilly', 'republican', 'humid', 'boring', 'cheap', 'hot'], 'Louisiana': ['poor', 'dangerous', 'french', 'humid', 'weird', 'hot', 'swampy', 'conservative', 'dirty', 'small'], 'Idaho': ['boring', 'popular', 'republican', 'expensive', 'poor', 'bad', 'good for growing potatoes', 'weird', 'cold'], 'Illinois': ['broke', 'flat', 'windy', 'blue', 'democratic', 'poor', 'cold', 'expensive', 'expensive to live in', 'boring'], 'Indiana': ['conservative', 'republican', 'cheap', 'backwards', 'flat', 'weird', 'humid', 'poor', 'polluted', 'popular'], 'Iowa': ['important', 'important for elections', 'important to the presidential race', 'white', 'important for voting', 'cold', 'important to the caucus', 'humid', 'democratic', 'important to win'], 'Kansas': ['windy', 'cold', 'boring', 'republican', 'cheap', 'flat', 'bad at football', 'humid'], 'Maine': ['safe', 'cold', 'cheap', 'poor', 'boring', 'white', 'weird', 'creepy', 'expensive', 'unpopulated'], 'Maryland': ['rich', 'ghetto', 'gerrymandered', 'famous on tiktok', 'expensive to live in', 'democratic', 'boring', 'small', 'oddly shaped', 'dangerous'], 'Massachusetts': ['rich', 'expensive', 'smart', 'cold', 'white', 'democratic', 'blue', 'expensive to live in', 'important', 'boring'], 'Michigan': ['cold', 'bad', 'poor', 'cloudy', 'cheap', 'hard to get into', 'humid', 'dangerous', 'depressing', 'warm this winter'], 'Minnesota': ['cold', 'expensive', 'blue', 'cold in the winter', 'great', 'democratic', 'boring', 'humid', 'cloudy', 'rich'], 'Mississippi': ['poor', 'cheap', 'boring', 'red', 'hot', 'unhealthy', 'cheap to live in', 'dangerous', 'awful', 'behind'], 'Missouri': ['dangerous', 'cold', 'cheap', 'conservative', 'republican', 'poor', 'boring', 'humid', 'hilly', 'backwards'], 'Alabama': ['good', 'republican', 'good at football', 'bad at kicking', 'bad this year', 'trashy', 'dangerous', 'humid', 'religious', 'cheap'], 'Alaska': ['cold', 'expensive', 'dangerous', 'big', 'republican', 'far away', 'warm', 'dark', 'expensive to live in', 'depressing'], 'Arizona': ['hot', 'cheap', 'dry', 'cheap to live', 'boring', 'sunny', 'weird', 'cold', 'expensive', 'cold this year'], 'Arkansas': ['poor', 'bad', 'cheap', 'dangerous', 'weird', 'boring', 'humid', 'hot', 'backwards', 'republican'], 'Montana': ['big', 'unpopulated', 'cold', 'warm', 'sparsely populated', 'warm this winter', 'expensive', 'windy', 'dangerous', 'empty'], 'Nebraska': ['bad', 'windy', 'flat', 'cold', 'humid', 'conservative', 'republican', 'cheap', 'flooded'], 'Nevada': ['empty', 'dry', 'weird', 'cheap', 'windy', 'dangerous', 'important', 'sparsely populated', 'mountainous', 'unpopulated'], 'New Hampshire': ['rich', 'white', 'conservative', 'important', 'important in the election', 'cold', 'safe', 'expensive', 'boring'], 'New Jersey': ['expensive', 'rich', 'cold', 'weird', 'boring', 'italian', 'wealthy', 'popular', 'ghetto', 'trashy'], 'New Mexico': ['poor', 'cold', 'empty', 'boring', 'dry', 'dangerous', 'enchanting', 'windy'], 'New York': ['expensive', 'popular', 'dirty', 'populated', 'big', 'cold', 'crowded', 'expensive to live in', 'important', 'famous'], 'North Carolina': ['cheap', 'bad', 'bad this year', 'popular', 'boring', 'cold', 'warm', 'humid', 'backwards'], 'North Dakota': ['cold', 'conservative', 'boring', 'humid', 'flat', 'empty', 'rich', 'windy', 'republican', 'expensive'], 'Ohio': ['cheap', 'bad', 'powerful', 'weird', 'flat', 'republican', 'cloudy', 'windy', 'depressing', 'gray'], 'Oklahoma': ['cheap', 'windy', 'bad', 'humid', 'conservative', 'cold', 'hot', 'flat', 'republican', 'boring'], 'Oregon': ['weird', 'expensive', 'cold', 'foggy', 'cloudy', 'rainy', 'expensive to live in', 'depressing', 'democratic'], 'Pennsylvania': ['conservative', 'cloudy', 'backwards', 'cold', 'humid', 'weird', 'boring', 'good at wrestling', 'hilly', 'depressing'], 'Rhode Island': ['small', 'democratic', 'catholic', 'poor', 'expensive', 'weird', 'liberal', 'boring', 'named', 'called'], 'South Carolina': ['poor', 'dangerous', 'important', 'boring', 'conservative', 'humid', 'bad', 'violent', 'sandy', ' so cheap'], 'South Dakota': ['cold', 'windy', 'boring', 'happy', 'humid', 'flat', 'dangerous', 'ta so poor', 'uth dakota today', 'e in south dakota'], 'Tennessee': ['cheap', 'dangerous', 'violent', 'republican', 'conservative', 'poor', 'boring', 'popular', 'humid', 'hot'], 'Texas': ['cheap', 'big', 'great', 'flat', 'republican', 'humid', 'popular', 'warm', 'expensive', 'rich'], 'Utah': ['weird', 'white', 'cold', 'mormon', 'religious', 'boring', 'hot', 'republican', 'depressed', 'strict with alcohol'], 'Vermont': ['blue', 'dangerous', 'safe', 'rural', 'cold', 'cheap', 'democratic', 'socialist', 'expensive', 'poor'], 'Virginia': ['rich', 'warm', 'wealthy', 'boring', 'hot', 'strict', 'conservative', 'strict on speeding', 'expensive'], 'Washington': ['cloudy', 'warm', 'cold', 'expensive', 'rainy', 'depressing', 'hot', 'humid', 'smoky', 'foggy'], 'West Virginia': ['poor', 'bad', 'obese', 'cheap', 'republican', 'conservative', 'hilly', 'scary', 'backwards', 'creepy'], 'Wisconsin': ['drunk', 'cold', 'boring', 'warm', 'german', 'cheap', 'expensive', 'weird', 'conservative'], 'Wyoming': ['windy', 'cold', 'empty', 'republican', 'boring', 'square', 'cheap', 'wealthy', 'small', 'expensive'], 'District of Columbia': ['important', 'expensive', 'popular', 'america', 'carolina', 'america map']}"
      ]
     },
     "execution_count": 14,
     "metadata": {},
     "output_type": "execute_result"
    }
   ],
   "source": [
    "\n",
    "suggestion_list_dict"
   ]
  },
  {
   "cell_type": "code",
   "execution_count": null,
   "metadata": {},
   "outputs": [],
   "source": [
    "\n",
    "s.store_objects(suggestion_list_dict=suggestion_list_dict)"
   ]
  },
  {
   "cell_type": "code",
   "execution_count": 15,
   "metadata": {},
   "outputs": [
    {
     "data": {
      "text/plain": [
       "['expensive', 'popular', 'dry', 'hot', 'populated', 'bad', 'big', 'polluted', 'democratic', 'expensive reddit', 'cold', 'expensive', 'healthy', 'dry', 'high', 'popular', 'square', 'windy', 'expensive reddit', 'sunny', 'rich', 'expensive', 'weird', 'small', 'strange', 'boring', 'dangerous', 'expensive to live in', 'small', 'cheap', 'flat', 'windy', 'boring', 'business friendly', 'popular for corporations', 'democratic', 'irrelevant', 'liberal', 'hot', 'cheap', 'humid', 'flat', 'popular', 'populated', 'expensive', 'ghetto', 'rainy', 'windy', 'cheap', 'cold', 'poor', 'bad', 'hot', 'cheap to live in', 'humid', 'boring', 'popular for filming', 'backwards', 'expensive', 'popular', 'hot', 'beautiful', 'expensive to live', 'warm', 'democratic', 'volcanically active', 'far away', 'famous', 'poor', 'backwards', 'conservative', 'good at basketball', 'hilly', 'republican', 'humid', 'boring', 'cheap', 'hot', 'poor', 'dangerous', 'french', 'humid', 'weird', 'hot', 'swampy', 'conservative', 'dirty', 'small', 'boring', 'popular', 'republican', 'expensive', 'poor', 'bad', 'good for growing potatoes', 'weird', 'cold', 'broke', 'flat', 'windy', 'blue', 'democratic', 'poor', 'cold', 'expensive', 'expensive to live in', 'boring', 'conservative', 'republican', 'cheap', 'backwards', 'flat', 'weird', 'humid', 'poor', 'polluted', 'popular', 'important', 'important for elections', 'important to the presidential race', 'white', 'important for voting', 'cold', 'important to the caucus', 'humid', 'democratic', 'important to win', 'windy', 'cold', 'boring', 'republican', 'cheap', 'flat', 'bad at football', 'humid', 'safe', 'cold', 'cheap', 'poor', 'boring', 'white', 'weird', 'creepy', 'expensive', 'unpopulated', 'rich', 'ghetto', 'gerrymandered', 'famous on tiktok', 'expensive to live in', 'democratic', 'boring', 'small', 'oddly shaped', 'dangerous', 'rich', 'expensive', 'smart', 'cold', 'white', 'democratic', 'blue', 'expensive to live in', 'important', 'boring', 'cold', 'bad', 'poor', 'cloudy', 'cheap', 'hard to get into', 'humid', 'dangerous', 'depressing', 'warm this winter', 'cold', 'expensive', 'blue', 'cold in the winter', 'great', 'democratic', 'boring', 'humid', 'cloudy', 'rich', 'poor', 'cheap', 'boring', 'red', 'hot', 'unhealthy', 'cheap to live in', 'dangerous', 'awful', 'behind', 'dangerous', 'cold', 'cheap', 'conservative', 'republican', 'poor', 'boring', 'humid', 'hilly', 'backwards', 'good', 'republican', 'good at football', 'bad at kicking', 'bad this year', 'trashy', 'dangerous', 'humid', 'religious', 'cheap', 'cold', 'expensive', 'dangerous', 'big', 'republican', 'far away', 'warm', 'dark', 'expensive to live in', 'depressing', 'hot', 'cheap', 'dry', 'cheap to live', 'boring', 'sunny', 'weird', 'cold', 'expensive', 'cold this year', 'poor', 'bad', 'cheap', 'dangerous', 'weird', 'boring', 'humid', 'hot', 'backwards', 'republican', 'big', 'unpopulated', 'cold', 'warm', 'sparsely populated', 'warm this winter', 'expensive', 'windy', 'dangerous', 'empty', 'bad', 'windy', 'flat', 'cold', 'humid', 'conservative', 'republican', 'cheap', 'flooded', 'empty', 'dry', 'weird', 'cheap', 'windy', 'dangerous', 'important', 'sparsely populated', 'mountainous', 'unpopulated', 'rich', 'white', 'conservative', 'important', 'important in the election', 'cold', 'safe', 'expensive', 'boring', 'expensive', 'rich', 'cold', 'weird', 'boring', 'italian', 'wealthy', 'popular', 'ghetto', 'trashy', 'poor', 'cold', 'empty', 'boring', 'dry', 'dangerous', 'enchanting', 'windy', 'expensive', 'popular', 'dirty', 'populated', 'big', 'cold', 'crowded', 'expensive to live in', 'important', 'famous', 'cheap', 'bad', 'bad this year', 'popular', 'boring', 'cold', 'warm', 'humid', 'backwards', 'cold', 'conservative', 'boring', 'humid', 'flat', 'empty', 'rich', 'windy', 'republican', 'expensive', 'cheap', 'bad', 'powerful', 'weird', 'flat', 'republican', 'cloudy', 'windy', 'depressing', 'gray', 'cheap', 'windy', 'bad', 'humid', 'conservative', 'cold', 'hot', 'flat', 'republican', 'boring', 'weird', 'expensive', 'cold', 'foggy', 'cloudy', 'rainy', 'expensive to live in', 'depressing', 'democratic', 'conservative', 'cloudy', 'backwards', 'cold', 'humid', 'weird', 'boring', 'good at wrestling', 'hilly', 'depressing', 'small', 'democratic', 'catholic', 'poor', 'expensive', 'weird', 'liberal', 'boring', 'named', 'called', 'poor', 'dangerous', 'important', 'boring', 'conservative', 'humid', 'bad', 'violent', 'sandy', ' so cheap', 'cold', 'windy', 'boring', 'happy', 'humid', 'flat', 'dangerous', 'ta so poor', 'uth dakota today', 'e in south dakota', 'cheap', 'dangerous', 'violent', 'republican', 'conservative', 'poor', 'boring', 'popular', 'humid', 'hot', 'cheap', 'big', 'great', 'flat', 'republican', 'humid', 'popular', 'warm', 'expensive', 'rich', 'weird', 'white', 'cold', 'mormon', 'religious', 'boring', 'hot', 'republican', 'depressed', 'strict with alcohol', 'blue', 'dangerous', 'safe', 'rural', 'cold', 'cheap', 'democratic', 'socialist', 'expensive', 'poor', 'rich', 'warm', 'wealthy', 'boring', 'hot', 'strict', 'conservative', 'strict on speeding', 'expensive', 'cloudy', 'warm', 'cold', 'expensive', 'rainy', 'depressing', 'hot', 'humid', 'smoky', 'foggy', 'poor', 'bad', 'obese', 'cheap', 'republican', 'conservative', 'hilly', 'scary', 'backwards', 'creepy', 'drunk', 'cold', 'boring', 'warm', 'german', 'cheap', 'expensive', 'weird', 'conservative', 'windy', 'cold', 'empty', 'republican', 'boring', 'square', 'cheap', 'wealthy', 'small', 'expensive', 'important', 'expensive', 'popular', 'america', 'carolina', 'america map']"
      ]
     },
     "execution_count": 15,
     "metadata": {},
     "output_type": "execute_result"
    }
   ],
   "source": [
    "\n",
    "sum(list(c.suggestion_list_dict.values()), [])"
   ]
  },
  {
   "cell_type": "code",
   "execution_count": 4,
   "metadata": {},
   "outputs": [
    {
     "name": "stdout",
     "output_type": "stream",
     "text": [
      "Pickling to C:\\Users\\dev\\Documents\\repositories\\notebooks\\StatsByCountry\\saves\\pickle\\us_stats_df.pickle\n"
     ]
    }
   ],
   "source": [
    "\n",
    "us_stats_df = s.load_object('us_stats_df')\n",
    "us_stats_df.loc['Hawaii', 'text_x'] = 400.1615\n",
    "us_stats_df.loc['Hawaii', 'text_y'] = 570.25653\n",
    "us_stats_df.loc['Alabama', 'text_x'] = 748.14435\n",
    "us_stats_df.loc['Alabama', 'text_y'] = 392.44476\n",
    "us_stats_df.loc['Alaska', 'text_x'] = 220.50682\n",
    "us_stats_df.loc['Alaska', 'text_y'] = 492.66138\n",
    "us_stats_df.loc['Arizona', 'text_x'] = 326.09976\n",
    "us_stats_df.loc['Arizona', 'text_y'] = 353.33734\n",
    "us_stats_df.loc['Arkansas', 'text_x'] = 649.2536\n",
    "us_stats_df.loc['Arkansas', 'text_y'] = 342.48181\n",
    "us_stats_df.loc['California', 'text_x'] = 204.72113\n",
    "us_stats_df.loc['California', 'text_y'] = 287.07516\n",
    "us_stats_df.loc['Colorado', 'text_x'] = 432.75961\n",
    "us_stats_df.loc['Colorado', 'text_y'] = 280.00891\n",
    "us_stats_df.loc['Connecticut', 'text_x'] = 977.01733\n",
    "us_stats_df.loc['Connecticut', 'text_y'] = 191.64752\n",
    "us_stats_df.loc['Connecticut', 'label_line_d'] = 'm 927.31957,154.64115 18.94647,32.60556'\n",
    "us_stats_df.loc['Delaware', 'text_x'] = 992.09674\n",
    "us_stats_df.loc['Delaware', 'text_y'] = 243.09442\n",
    "us_stats_df.loc['Delaware', 'label_line_d'] = 'm 903.52633,222.93657 64.68237,16.47902'\n",
    "us_stats_df.loc['Florida', 'text_x'] = 829.00507\n",
    "us_stats_df.loc['Florida', 'text_y'] = 431.70282\n",
    "us_stats_df.loc['Georgia', 'text_x'] = 812.79968\n",
    "us_stats_df.loc['Georgia', 'text_y'] = 386.42352\n",
    "us_stats_df.loc['Hawaii', 'text_x'] = 401.6886\n",
    "us_stats_df.loc['Hawaii', 'text_y'] = 566.36896\n",
    "us_stats_df.loc['Hawaii', 'label_line_d'] = 'm 418.44421,525.24959 -15.71816,33.03223'\n",
    "us_stats_df.loc['Idaho', 'text_x'] = 314.79205\n",
    "us_stats_df.loc['Idaho', 'text_y'] = 167.07047\n",
    "us_stats_df.loc['Illinois', 'text_x'] = 687.95764\n",
    "us_stats_df.loc['Illinois', 'text_y'] = 247.85957\n",
    "us_stats_df.loc['Indiana', 'text_x'] = 736.74451\n",
    "us_stats_df.loc['Indiana', 'text_y'] = 262.52542\n",
    "us_stats_df.loc['Iowa', 'text_x'] = 620.46136\n",
    "us_stats_df.loc['Iowa', 'text_y'] = 213.45132\n",
    "us_stats_df.loc['Kansas', 'text_x'] = 541.69531\n",
    "us_stats_df.loc['Kansas', 'text_y'] = 289.3371\n",
    "us_stats_df.loc['Kentucky', 'text_x'] = 760.86127\n",
    "us_stats_df.loc['Kentucky', 'text_y'] = 284.59695\n",
    "us_stats_df.loc['Louisiana', 'text_x'] = 649.51294\n",
    "us_stats_df.loc['Louisiana', 'text_y'] = 410.27689\n",
    "us_stats_df.loc['Maine', 'text_x'] = 953.98334\n",
    "us_stats_df.loc['Maine', 'text_y'] = 67.326279\n",
    "us_stats_df.loc['Maryland', 'text_x'] = 985.55103\n",
    "us_stats_df.loc['Maryland', 'text_y'] = 274.39795\n",
    "us_stats_df.loc['Maryland', 'label_line_d'] = 'm 881.15683,220.02489 81.39157,51.3884'\n",
    "us_stats_df.loc['Massachusetts', 'text_x'] = 937.32983\n",
    "us_stats_df.loc['Massachusetts', 'text_y'] = 140.9111\n",
    "us_stats_df.loc['Michigan', 'text_x'] = 745.27258\n",
    "us_stats_df.loc['Michigan', 'text_y'] = 174.73953\n",
    "us_stats_df.loc['Minnesota', 'text_x'] = 599.13074\n",
    "us_stats_df.loc['Minnesota', 'text_y'] = 112.43513\n",
    "us_stats_df.loc['Mississippi', 'text_x'] = 697.75061\n",
    "us_stats_df.loc['Mississippi', 'text_y'] = 422.31543\n",
    "us_stats_df.loc['Missouri', 'text_x'] = 639.56989\n",
    "us_stats_df.loc['Missouri', 'text_y'] = 289.03799\n",
    "us_stats_df.loc['Montana', 'text_x'] = 391.83105\n",
    "us_stats_df.loc['Montana', 'text_y'] = 106.2601\n",
    "us_stats_df.loc['Nebraska', 'text_x'] = 524.76038\n",
    "us_stats_df.loc['Nebraska', 'text_y'] = 231.70229\n",
    "us_stats_df.loc['Nevada', 'text_x'] = 257.36636\n",
    "us_stats_df.loc['Nevada', 'text_y'] = 239.53661\n",
    "us_stats_df.loc['New Hampshire', 'text_x'] = 999.25446\n",
    "us_stats_df.loc['New Hampshire', 'text_y'] = 109.4236\n",
    "us_stats_df.loc['New Hampshire', 'label_line_d'] = 'm 931.54948,121.15437 58.69,-8.01921'\n",
    "us_stats_df.loc['New Jersey', 'text_x'] = 960.73419\n",
    "us_stats_df.loc['New Jersey', 'text_y'] = 208.55847\n",
    "us_stats_df.loc['New Jersey', 'label_line_d'] = 'm 907.2275,191.30037 44.94279,20.62081'\n",
    "us_stats_df.loc['New Mexico', 'text_x'] = 418.89343\n",
    "us_stats_df.loc['New Mexico', 'text_y'] = 371.03604\n",
    "us_stats_df.loc['New York', 'text_x'] = 880.10455\n",
    "us_stats_df.loc['New York', 'text_y'] = 154.17368\n",
    "us_stats_df.loc['North Carolina', 'text_x'] = 866.19855\n",
    "us_stats_df.loc['North Carolina', 'text_y'] = 301.41946\n",
    "us_stats_df.loc['North Dakota', 'text_x'] = 514.11646\n",
    "us_stats_df.loc['North Dakota', 'text_y'] = 111.24364\n",
    "us_stats_df.loc['Ohio', 'text_x'] = 784.07135\n",
    "us_stats_df.loc['Ohio', 'text_y'] = 224.19022\n",
    "us_stats_df.loc['Oklahoma', 'text_x'] = 566.31805\n",
    "us_stats_df.loc['Oklahoma', 'text_y'] = 347.56897\n",
    "us_stats_df.loc['Oregon', 'text_x'] = 221.30357\n",
    "us_stats_df.loc['Oregon', 'text_y'] = 139.91429\n",
    "us_stats_df.loc['Pennsylvania', 'text_x'] = 856.09741\n",
    "us_stats_df.loc['Pennsylvania', 'text_y'] = 189.2137\n",
    "us_stats_df.loc['Rhode Island', 'text_x'] = 983.90399\n",
    "us_stats_df.loc['Rhode Island', 'text_y'] = 159.57837\n",
    "us_stats_df.loc['Rhode Island', 'label_line_d'] = 'm 942.82924,148.82503 26.87755,13.92345'\n",
    "us_stats_df.loc['South Carolina', 'text_x'] = 843.32721\n",
    "us_stats_df.loc['South Carolina', 'text_y'] = 345.96466\n",
    "us_stats_df.loc['South Dakota', 'text_x'] = 517.34576\n",
    "us_stats_df.loc['South Dakota', 'text_y'] = 167.97604\n",
    "us_stats_df.loc['Tennessee', 'text_x'] = 744.53644\n",
    "us_stats_df.loc['Tennessee', 'text_y'] = 328.19617\n",
    "us_stats_df.loc['Texas', 'text_x'] = 540.02362\n",
    "us_stats_df.loc['Texas', 'text_y'] = 433.99121\n",
    "us_stats_df.loc['Utah', 'text_x'] = 340.63342\n",
    "us_stats_df.loc['Utah', 'text_y'] = 256.71301\n",
    "us_stats_df.loc['Vermont', 'text_x'] = 882.93085\n",
    "us_stats_df.loc['Vermont', 'text_y'] = 77.379402\n",
    "us_stats_df.loc['Vermont', 'label_line_d'] = 'M 911.37814,98.736311 884.28111,80.375484'\n",
    "us_stats_df.loc['Virginia', 'text_x'] = 867.47754\n",
    "us_stats_df.loc['Virginia', 'text_y'] = 257.43704\n",
    "us_stats_df.loc['Washington', 'text_x'] = 245.27382\n",
    "us_stats_df.loc['Washington', 'text_y'] = 78.791374\n",
    "us_stats_df.loc['West Virginia', 'text_x'] = 830.54102\n",
    "us_stats_df.loc['West Virginia', 'text_y'] = 242.49905\n",
    "us_stats_df.loc['Wisconsin', 'text_x'] = 661.45966\n",
    "us_stats_df.loc['Wisconsin', 'text_y'] = 153.29938\n",
    "us_stats_df.loc['Wyoming', 'text_x'] = 408.97885\n",
    "us_stats_df.loc['Wyoming', 'text_y'] = 191.26553\n",
    "s.store_objects(us_stats_df=us_stats_df)"
   ]
  },
  {
   "cell_type": "raw",
   "metadata": {},
   "source": [
    "\n",
    "suggestion_list_dict = {'California': ['expensive', 'popular', 'dry', 'hot', 'populated', 'bad', 'big', 'polluted',\n",
    "                                       'democratic', 'expensive reddit'],\n",
    "                        'Colorado': ['cold', 'expensive', 'healthy', 'dry', 'high', 'popular', 'square', 'windy', 'expensive reddit', 'sunny'],\n",
    "                        'Connecticut': ['rich', 'expensive', 'weird', 'small', 'strange', 'boring', 'dangerous', 'expensive to live in'],\n",
    "                        'Delaware': ['small', 'cheap', 'flat', 'windy', 'boring', 'business friendly', 'popular for corporations',\n",
    "                                     'democratic', 'irrelevant', 'liberal'],\n",
    "                        'Florida': ['hot', 'cheap', 'humid', 'flat', 'popular', 'populated', 'expensive', 'ghetto', 'rainy', 'windy'],\n",
    "                        'Georgia': ['cheap', 'cold', 'poor', 'bad', 'hot', 'cheap to live in', 'humid', 'boring',\n",
    "                                    'popular for filming', 'backwards'],\n",
    "                        'Hawaii': ['expensive', 'popular', 'hot', 'beautiful', 'expensive to live', 'warm', 'democratic',\n",
    "                                   'volcanically active', 'far away', 'famous'],\n",
    "                        'Kentucky': ['poor', 'backwards', 'conservative', 'good at basketball', 'hilly', 'republican', 'humid', 'boring',\n",
    "                                     'cheap', 'hot'],\n",
    "                        'Louisiana': ['poor', 'dangerous', 'french', 'humid', 'weird', 'hot', 'swampy', 'conservative', 'dirty', 'small'],\n",
    "                        'Idaho': ['boring', 'popular', 'republican', 'expensive', 'poor', 'bad', 'good for growing potatoes', 'weird', 'cold'],\n",
    "                        'Illinois': ['broke', 'flat', 'windy', 'blue', 'democratic', 'poor', 'cold', 'expensive',\n",
    "                                     'expensive to live in', 'boring'],\n",
    "                        'Indiana': ['conservative', 'republican', 'cheap', 'backwards', 'flat', 'weird', 'humid', 'poor', 'polluted', 'popular'],\n",
    "                        'Iowa': ['important', 'important for elections', 'important to the presidential race', 'white',\n",
    "                                 'important for voting', 'cold', 'important to the caucus', 'humid', 'democratic', 'important to win'],\n",
    "                        'Kansas': ['windy', 'cold', 'boring', 'republican', 'cheap', 'flat', 'bad at football', 'humid'],\n",
    "                        'Maine': ['safe', 'cold', 'cheap', 'poor', 'boring', 'white', 'weird', 'creepy', 'expensive', 'unpopulated'],\n",
    "                        'Maryland': ['rich', 'ghetto', 'gerrymandered', 'famous on tiktok', 'expensive to live in', 'democratic', 'boring',\n",
    "                                     'small', 'oddly shaped', 'dangerous'],\n",
    "                        'Massachusetts': ['rich', 'expensive', 'smart', 'cold', 'white', 'democratic', 'blue', 'expensive to live in',\n",
    "                                          'important', 'boring'],\n",
    "                        'Michigan': ['cold', 'bad', 'poor', 'cloudy', 'cheap', 'hard to get into', 'humid', 'dangerous',\n",
    "                                     'depressing', 'warm this winter'],\n",
    "                        'Minnesota': ['cold', 'expensive', 'blue', 'cold in the winter', 'great', 'democratic', 'boring', 'humid',\n",
    "                                      'cloudy', 'rich'],\n",
    "                        'Mississippi': ['poor', 'cheap', 'boring', 'red', 'hot', 'unhealthy', 'cheap to live in', 'dangerous', 'awful', 'behind'],\n",
    "                        'Missouri': ['dangerous', 'cold', 'cheap', 'conservative', 'republican', 'poor', 'boring', 'humid', 'hilly', 'backwards'],\n",
    "                        'Alabama': ['good', 'republican', 'good at football', 'bad at kicking', 'bad this year', 'trashy', 'dangerous',\n",
    "                                    'humid', 'religious', 'cheap'],\n",
    "                        'Alaska': ['cold', 'expensive', 'dangerous', 'big', 'republican', 'far away', 'warm', 'dark',\n",
    "                                   'expensive to live in', 'depressing'],\n",
    "                        'Arizona': ['hot', 'cheap', 'dry', 'cheap to live', 'boring', 'sunny', 'weird', 'cold', 'expensive', 'cold this year'],\n",
    "                        'Arkansas': ['poor', 'bad', 'cheap', 'dangerous', 'weird', 'boring', 'humid', 'hot', 'backwards', 'republican'],\n",
    "                        'Montana': ['big', 'unpopulated', 'cold', 'warm', 'sparsely populated', 'warm this winter', 'expensive',\n",
    "                                    'windy', 'dangerous', 'empty'],\n",
    "                        'Nebraska': ['bad', 'windy', 'flat', 'cold', 'humid', 'conservative', 'republican', 'cheap', 'flooded'],\n",
    "                        'Nevada': ['empty', 'dry', 'weird', 'cheap', 'windy', 'dangerous', 'important', 'sparsely populated',\n",
    "                                   'mountainous', 'unpopulated'],\n",
    "                        'New Hampshire': ['rich', 'white', 'conservative', 'important', 'important in the election', 'cold', 'safe',\n",
    "                                          'expensive', 'boring'],\n",
    "                        'New Jersey': ['expensive', 'rich', 'cold', 'weird', 'boring', 'italian', 'wealthy', 'popular', 'ghetto', 'trashy'],\n",
    "                        'New Mexico': ['poor', 'cold', 'empty', 'boring', 'dry', 'dangerous', 'enchanting', 'windy'],\n",
    "                        'New York': ['expensive', 'popular', 'dirty', 'populated', 'big', 'cold', 'crowded', 'expensive to live in',\n",
    "                                     'important', 'famous'],\n",
    "                        'North Carolina': ['cheap', 'bad', 'bad this year', 'popular', 'boring', 'cold', 'warm', 'humid', 'backwards'],\n",
    "                        'North Dakota': ['cold', 'conservative', 'boring', 'humid', 'flat', 'empty', 'rich', 'windy', 'republican', 'expensive'],\n",
    "                        'Ohio': ['cheap', 'bad', 'powerful', 'weird', 'flat', 'republican', 'cloudy', 'windy', 'depressing', 'gray'],\n",
    "                        'Oklahoma': ['cheap', 'windy', 'bad', 'humid', 'conservative', 'cold', 'hot', 'flat', 'republican', 'boring'],\n",
    "                        'Oregon': ['weird', 'expensive', 'cold', 'foggy', 'cloudy', 'rainy', 'expensive to live in', 'depressing', 'democratic'],\n",
    "                        'Pennsylvania': ['conservative', 'cloudy', 'backwards', 'cold', 'humid', 'weird', 'boring', 'good at wrestling',\n",
    "                                         'hilly', 'depressing'],\n",
    "                        'Rhode Island': ['small', 'democratic', 'catholic', 'poor', 'expensive', 'weird', 'liberal', 'boring', 'named', 'called'],\n",
    "                        'South Carolina': ['poor', 'dangerous', 'important', 'boring', 'conservative', 'humid', 'bad', 'violent',\n",
    "                                           'sandy', ' so cheap'],\n",
    "                        'South Dakota': ['cold', 'windy', 'boring', 'happy', 'humid', 'flat', 'dangerous', 'ta so poor',\n",
    "                                         'uth dakota today', 'e in south dakota'],\n",
    "                        'Tennessee': ['cheap', 'dangerous', 'violent', 'republican', 'conservative', 'poor', 'boring', 'popular', 'humid', 'hot'],\n",
    "                        'Texas': ['cheap', 'big', 'great', 'flat', 'republican', 'humid', 'popular', 'warm', 'expensive', 'rich'],\n",
    "                        'Utah': ['weird', 'white', 'cold', 'mormon', 'religious', 'boring', 'hot', 'republican', 'depressed',\n",
    "                                 'strict with alcohol'],\n",
    "                        'Vermont': ['blue', 'dangerous', 'safe', 'rural', 'cold', 'cheap', 'democratic', 'socialist', 'expensive', 'poor'],\n",
    "                        'Virginia': ['rich', 'warm', 'wealthy', 'boring', 'hot', 'strict', 'conservative', 'strict on speeding', 'expensive'],\n",
    "                        'Washington': ['cloudy', 'warm', 'cold', 'expensive', 'rainy', 'depressing', 'hot', 'humid', 'smoky', 'foggy'],\n",
    "                        'West Virginia': ['poor', 'bad', 'obese', 'cheap', 'republican', 'conservative', 'hilly', 'scary', 'backwards', 'creepy'],\n",
    "                        'Wisconsin': ['drunk', 'cold', 'boring', 'warm', 'german', 'cheap', 'expensive', 'weird', 'conservative'],\n",
    "                        'Wyoming': ['windy', 'cold', 'empty', 'republican', 'boring', 'square', 'cheap', 'wealthy', 'small', 'expensive'],\n",
    "                        'District of Columbia': ['important', 'expensive', 'popular', 'america', 'carolina', 'america map']}"
   ]
  },
  {
   "cell_type": "code",
   "execution_count": null,
   "metadata": {},
   "outputs": [],
   "source": []
  }
 ],
 "metadata": {
  "anaconda-cloud": {},
  "kernelspec": {
   "display_name": "Python 3",
   "language": "python",
   "name": "python3"
  },
  "language_info": {
   "codemirror_mode": {
    "name": "ipython",
    "version": 3
   },
   "file_extension": ".py",
   "mimetype": "text/x-python",
   "name": "python",
   "nbconvert_exporter": "python",
   "pygments_lexer": "ipython3",
   "version": "3.7.6"
  }
 },
 "nbformat": 4,
 "nbformat_minor": 4
}
