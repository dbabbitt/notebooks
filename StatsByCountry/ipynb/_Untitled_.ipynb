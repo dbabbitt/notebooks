{
 "cells": [
  {
   "cell_type": "code",
   "execution_count": null,
   "metadata": {},
   "outputs": [],
   "source": []
  },
  {
   "cell_type": "code",
   "execution_count": 1,
   "metadata": {},
   "outputs": [],
   "source": [
    "\n",
    "import sys\n",
    "\n",
    "# Insert at 1, 0 is the script path (or '' in REPL)\n",
    "sys.path.insert(1, '../py')"
   ]
  },
  {
   "cell_type": "code",
   "execution_count": 2,
   "metadata": {},
   "outputs": [
    {
     "name": "stdout",
     "output_type": "stream",
     "text": [
      "Pretty printing has been turned OFF\n",
      "['c.all_countries_df', 'c.axes_str', 'c.clean_up_district_common_dict', 'c.clean_up_district_merge_dataframe', 'c.clean_up_district_unique_dict', 'c.clean_up_suggestion_list_dict', 'c.conjunctify_list', 'c.copy_file_name', 'c.copy_file_path', 'c.create_country_colored_labeled_map', 'c.create_country_colored_map', 'c.create_country_labeled_map', 'c.create_district_first_dict', 'c.create_label_line_file', 'c.create_us_google_suggest_labeled_map', 'c.district_path_str', 'c.figure_str', 'c.fill_style_prefix', 'c.fill_style_str', 'c.get_colorbar_xml', 'c.get_column_description', 'c.get_google_suggestion_list', 'c.get_legend_xml', 'c.get_style_list', 'c.get_tfidf_lists', 'c.get_tspan_list', 'c.gradient_file_path', 'c.gradient_str', 'c.height_ratio', 'c.html_style_str', 'c.hyphen_dict', 'c.hyphenate_words', 'c.intra_country_borders_str', 'c.iso_3166_2_code', 'c.l_str', 'c.label_line_file_path', 'c.label_line_style_dict', 'c.label_line_style_list', 'c.label_text_style_list', 'c.label_tspan_style_list', 'c.legend_label_str', 'c.line_height', 'c.matplotlib_axis_str', 'c.namedview_attributes_list', 'c.one_country_df', 'c.regex_sub_str', 'c.scrape_suggestion_list_dictionary', 'c.settings_dict', 'c.show_colorbar', 'c.svg_attributes_list', 'c.svg_dir', 'c.svg_height', 'c.svg_prefix_str', 'c.svg_regex', 'c.svg_suffix', 'c.svg_width', 'c.t_str', 'c.text_style_dict', 'c.text_style_list', 'c.tick_text_str', 'c.tick_text_style_list', 'c.tick_tspan_style_list', 'c.trim_d_path', 'c.ts_str', 'c.width_ratio', 'c.ytick_str']\n",
      "D:\\Documents\\Repositories\\notebooks\\StatsByCountry\\ipynb\\_Untitled_.ipynb\n",
      "['s.attempt_to_pickle', 's.data_csv_folder', 's.data_folder', 's.encoding_type', 's.load_csv', 's.load_dataframes', 's.load_object', 's.save_dataframes', 's.saves_csv_folder', 's.saves_folder', 's.saves_pickle_folder', 's.store_objects']\n"
     ]
    },
    {
     "data": {
      "text/plain": [
       "['Config', 'In', 'Out', 'Path', 'RandomForestClassifier', 'SequenceMatcher', 'Storage', '_', '__', '___', '__builtin__', '__builtins__', '__doc__', '__loader__', '__name__', '__nonzero__', '__package__', '__spec__', '_dh', '_i', '_i1', '_i2', '_ih', '_ii', '_iii', '_oh', 'bs', 'c', 'check_4_doubles', 'check_for_typos', 'choropleth_utils', 'conjunctify_list', 'country_stats_df', 'csv', 'emblems_dir', 'encoding', 'example_iterrows', 'exit', 'filepath_regex', 'flags_dir', 'get_classifier', 'get_column_descriptions', 'get_data_structs_dataframe', 'get_datastructure_prediction', 'get_dir_tree', 'get_importances', 'get_input_sample', 'get_ipython', 'get_max_rsquared_adj', 'get_module_version', 'get_notebook_path', 'get_page_soup', 'get_page_tables', 'get_struct_name', 'io', 'ipykernel', 'json', 'jupyter_config_dir', 'maps_dir', 'math', 'notebook_path', 'notebookapp', 'np', 'os', 'pd', 'pickle', 'plt', 'preprocess_data', 'quit', 'random', 're', 's', 'scraping_utils', 'similar', 'sm', 'sns', 'stats', 'sys', 'text_editor_path', 'time', 'url_regex', 'urllib', 'urlretrieve', 'wikipedia']"
      ]
     },
     "execution_count": 2,
     "metadata": {},
     "output_type": "execute_result"
    }
   ],
   "source": [
    "\n",
    "%run ../../load_magic/dataframes.py\n",
    "%run ../../load_magic/environment.py\n",
    "%run ../../load_magic/storage.py\n",
    "%run ../../load_magic/lists.py\n",
    "%run ../../load_magic/soup.py\n",
    "%pprint\n",
    "import numpy as np\n",
    "\n",
    "import scraping_utils\n",
    "wikipedia = scraping_utils.wikipedia\n",
    "\n",
    "import choropleth_utils\n",
    "c = choropleth_utils.ChoroplethUtilities()\n",
    "print(['c.{}'.format(fn) for fn in dir(c) if not fn.startswith('_')])\n",
    "\n",
    "notebook_path = get_notebook_path()\n",
    "print(notebook_path)\n",
    "\n",
    "s = Storage()\n",
    "maps_dir = os.path.join(s.saves_folder, 'maps')\n",
    "flags_dir = os.path.join(s.saves_folder, 'flags')\n",
    "emblems_dir = os.path.join(s.saves_folder, 'emblems')\n",
    "print(['s.{}'.format(fn) for fn in dir(s) if not fn.startswith('_')])\n",
    "\n",
    "text_editor_path = r'C:\\Program Files\\Notepad++\\notepad++.exe'\n",
    "country_stats_df = s.load_object('country_stats_df')\n",
    "dir()"
   ]
  },
  {
   "cell_type": "code",
   "execution_count": null,
   "metadata": {},
   "outputs": [],
   "source": [
    "\n",
    "c.all_countries_df.columns.tolist()"
   ]
  },
  {
   "cell_type": "code",
   "execution_count": 3,
   "metadata": {},
   "outputs": [
    {
     "name": "stdout",
     "output_type": "stream",
     "text": [
      "[(4, (177, 6)), (7, (57, 2)), (0, (23, 2)), (25, (19, 2)), (9, (18, 2)), (10, (17, 2)), (32, (16, 2)), (5, (15, 2)), (27, (11, 2)), (18, (8, 2)), (21, (8, 2)), (19, (7, 2)), (22, (7, 2)), (24, (7, 2)), (29, (6, 2)), (12, (5, 2)), (14, (4, 2)), (16, (4, 2)), (30, (4, 2)), (35, (4, 2)), (15, (3, 2)), (17, (3, 2)), (23, (3, 2)), (33, (3, 2)), (36, (3, 2)), (1, (2, 2)), (2, (2, 2)), (3, (2, 2)), (11, (2, 2)), (13, (2, 2)), (20, (2, 2)), (26, (2, 2)), (28, (2, 2)), (31, (2, 2)), (34, (2, 2)), (37, (2, 2)), (6, (1, 2)), (8, (1, 2))]\n"
     ]
    }
   ],
   "source": [
    "\n",
    "tables_url = 'https://en.wikipedia.org/wiki/2019%E2%80%9320_coronavirus_pandemic'\n",
    "tables_list = get_page_tables(tables_url)"
   ]
  },
  {
   "cell_type": "code",
   "execution_count": 50,
   "metadata": {},
   "outputs": [
    {
     "data": {
      "text/html": [
       "<div>\n",
       "<style scoped>\n",
       "    .dataframe tbody tr th:only-of-type {\n",
       "        vertical-align: middle;\n",
       "    }\n",
       "\n",
       "    .dataframe tbody tr th {\n",
       "        vertical-align: top;\n",
       "    }\n",
       "\n",
       "    .dataframe thead th {\n",
       "        text-align: right;\n",
       "    }\n",
       "</style>\n",
       "<table border=\"1\" class=\"dataframe\">\n",
       "  <thead>\n",
       "    <tr style=\"text-align: right;\">\n",
       "      <th></th>\n",
       "      <th>Cases</th>\n",
       "      <th>Deaths</th>\n",
       "      <th>Recovered</th>\n",
       "    </tr>\n",
       "    <tr>\n",
       "      <th>Locations</th>\n",
       "      <th></th>\n",
       "      <th></th>\n",
       "      <th></th>\n",
       "    </tr>\n",
       "  </thead>\n",
       "  <tbody>\n",
       "    <tr>\n",
       "      <th>China</th>\n",
       "      <td>81093</td>\n",
       "      <td>3270</td>\n",
       "      <td>72703</td>\n",
       "    </tr>\n",
       "    <tr>\n",
       "      <th>Italy</th>\n",
       "      <td>59138</td>\n",
       "      <td>5476</td>\n",
       "      <td>7024</td>\n",
       "    </tr>\n",
       "    <tr>\n",
       "      <th>United States</th>\n",
       "      <td>35418</td>\n",
       "      <td>473</td>\n",
       "      <td>175</td>\n",
       "    </tr>\n",
       "    <tr>\n",
       "      <th>Spain</th>\n",
       "      <td>33089</td>\n",
       "      <td>2182</td>\n",
       "      <td>3355</td>\n",
       "    </tr>\n",
       "    <tr>\n",
       "      <th>Germany</th>\n",
       "      <td>27047</td>\n",
       "      <td>112</td>\n",
       "      <td>422</td>\n",
       "    </tr>\n",
       "    <tr>\n",
       "      <th>...</th>\n",
       "      <td>...</td>\n",
       "      <td>...</td>\n",
       "      <td>...</td>\n",
       "    </tr>\n",
       "    <tr>\n",
       "      <th>Somalia</th>\n",
       "      <td>1</td>\n",
       "      <td>0</td>\n",
       "      <td>0</td>\n",
       "    </tr>\n",
       "    <tr>\n",
       "      <th>Syria</th>\n",
       "      <td>1</td>\n",
       "      <td>0</td>\n",
       "      <td>0</td>\n",
       "    </tr>\n",
       "    <tr>\n",
       "      <th>East Timor</th>\n",
       "      <td>1</td>\n",
       "      <td>0</td>\n",
       "      <td>0</td>\n",
       "    </tr>\n",
       "    <tr>\n",
       "      <th>Uganda</th>\n",
       "      <td>1</td>\n",
       "      <td>0</td>\n",
       "      <td>0</td>\n",
       "    </tr>\n",
       "    <tr>\n",
       "      <th>Vatican City</th>\n",
       "      <td>1</td>\n",
       "      <td>0</td>\n",
       "      <td>0</td>\n",
       "    </tr>\n",
       "  </tbody>\n",
       "</table>\n",
       "<p>175 rows × 3 columns</p>\n",
       "</div>"
      ],
      "text/plain": [
       "               Cases Deaths Recovered\n",
       "Locations                            \n",
       "China          81093   3270     72703\n",
       "Italy          59138   5476      7024\n",
       "United States  35418    473       175\n",
       "Spain          33089   2182      3355\n",
       "Germany        27047    112       422\n",
       "...              ...    ...       ...\n",
       "Somalia            1      0         0\n",
       "Syria              1      0         0\n",
       "East Timor         1      0         0\n",
       "Uganda             1      0         0\n",
       "Vatican City       1      0         0\n",
       "\n",
       "[175 rows x 3 columns]"
      ]
     },
     "execution_count": 50,
     "metadata": {},
     "output_type": "execute_result"
    }
   ],
   "source": [
    "\n",
    "pandemic_countries_df = tables_list[4].copy()\n",
    "pandemic_countries_df.columns = ['Locations_delete', 'Locations', 'Cases', 'Deaths', 'Recovered', 'References']\n",
    "columns_list = ['Locations', 'Cases', 'Deaths', 'Recovered']\n",
    "pandemic_countries_df = pandemic_countries_df[columns_list]\n",
    "pandemic_countries_df = pandemic_countries_df.iloc[:175]\n",
    "pandemic_countries_df.Locations = pandemic_countries_df.Locations.map(lambda x: x.split('[')[0])\n",
    "pandemic_countries_df.Locations = pandemic_countries_df.Locations.map(lambda x: x.split('(')[0].strip())\n",
    "pandemic_countries_df.set_index('Locations', drop=True, inplace=True)\n",
    "pandemic_countries_df"
   ]
  },
  {
   "cell_type": "code",
   "execution_count": 52,
   "metadata": {},
   "outputs": [],
   "source": [
    "\n",
    "countries_GDP_df = s.load_object('countries_GDP_df')"
   ]
  },
  {
   "cell_type": "code",
   "execution_count": 58,
   "metadata": {},
   "outputs": [],
   "source": [
    "\n",
    "pandemic_countries_df = pandemic_countries_df.merge(countries_GDP_df, how='inner', left_index=True, right_index=True,\n",
    "                                                    suffixes=('_pandemic', '_gdp'))"
   ]
  },
  {
   "cell_type": "code",
   "execution_count": 60,
   "metadata": {},
   "outputs": [],
   "source": [
    "\n",
    "kwargs = dict(textcoords='offset points', ha='left', va='bottom',\n",
    "              bbox=dict(boxstyle='round,pad=0.5', fc='yellow', alpha=0.5),\n",
    "              arrowprops=dict(arrowstyle='->', connectionstyle='arc3,rad=0'))"
   ]
  },
  {
   "cell_type": "code",
   "execution_count": 69,
   "metadata": {},
   "outputs": [],
   "source": [
    "\n",
    "for column_name in pandemic_countries_df.columns.tolist():\n",
    "    pandemic_countries_df[column_name] = pd.to_numeric(pandemic_countries_df[column_name], errors='coerce')"
   ]
  },
  {
   "cell_type": "code",
   "execution_count": 70,
   "metadata": {},
   "outputs": [],
   "source": [
    "\n",
    "import matplotlib.pyplot as plt\n",
    "import seaborn as sns\n",
    "import matplotlib.colors as mcolors\n",
    "\n",
    "basecolor_list = list(mcolors.BASE_COLORS.keys())\n",
    "column_description_dict = s.load_object('column_description_dict')\n",
    "def get_column_description(column_name):\n",
    "    if column_name in column_description_dict:\n",
    "        column_description = column_description_dict[column_name]\n",
    "    else:\n",
    "        column_description = re.sub('^pf_', 'Personal Freedom:_', str(column_name), 1)\n",
    "        column_description = re.sub('^hf_', 'Human Freedom:_', str(column_description), 1)\n",
    "        column_description = re.sub('^ef_', 'Economic Freedom:_', str(column_description), 1)\n",
    "        column_list = column_description.split('_')\n",
    "        descr_list = []\n",
    "        for word in column_list:\n",
    "            descr_list.append(word[0].upper()+word[1:])\n",
    "        column_description = ' '.join(descr_list)\n",
    "        column_description_dict[column_name] = column_description\n",
    "        s.store_objects(column_description_dict=column_description_dict)\n",
    "    \n",
    "    return column_description"
   ]
  },
  {
   "cell_type": "code",
   "execution_count": 72,
   "metadata": {},
   "outputs": [
    {
     "data": {
      "text/plain": [
       "['Cases', 'Deaths', 'Recovered', 'Rank', 'GDP']"
      ]
     },
     "execution_count": 72,
     "metadata": {},
     "output_type": "execute_result"
    }
   ],
   "source": [
    "\n",
    "pandemic_countries_df.columns.tolist()"
   ]
  },
  {
   "cell_type": "code",
   "execution_count": 112,
   "metadata": {},
   "outputs": [],
   "source": [
    "\n",
    "def show_linear_scatterplot(merged_df, columns_list, ev_min_str=None, ev_max_str=None, rv_min_str=None, rv_max_str=None):\n",
    "    ev_column_name = columns_list[0]\n",
    "    rv_column_name = columns_list[1]\n",
    "    explanatory_variable = get_column_description(ev_column_name)\n",
    "    response_variable = get_column_description(rv_column_name)\n",
    "    if (ev_min_str is None):\n",
    "        ev_min_str = 'minimum {}'.format(explanatory_variable)\n",
    "    if (ev_max_str is None):\n",
    "        ev_max_str = 'maximum {}'.format(explanatory_variable)\n",
    "    if (rv_min_str is None):\n",
    "        rv_min_str = 'minimum {}'.format(response_variable)\n",
    "    if (rv_max_str is None):\n",
    "        rv_max_str = 'maximum {}'.format(response_variable)\n",
    "    \n",
    "    df = merged_df.copy()\n",
    "    columns_list = [ev_column_name, rv_column_name]\n",
    "    df = df[columns_list].dropna()\n",
    "    ev_max = df[ev_column_name].max()\n",
    "    ev_min = df[ev_column_name].min()\n",
    "    rv_min = df[rv_column_name].min()\n",
    "    rv_max = df[rv_column_name].max()\n",
    "    ev_max_labeled = False\n",
    "    ev_min_labeled = False\n",
    "    rv_min_labeled = False\n",
    "    rv_max_labeled = False\n",
    "    \n",
    "    # First order (linear) scatterplot\n",
    "    fig = plt.figure(figsize=(12, 8))\n",
    "    ax = fig.add_subplot(111)\n",
    "    merge_axes_subplot = sns.regplot(x=ev_column_name, y=rv_column_name,\n",
    "                                     scatter=True, data=df, ax=ax)\n",
    "    xlabel_text = plt.xlabel('{} (explanatory variable)'.format(explanatory_variable))\n",
    "    ylabel_text = plt.ylabel('{} (response variable)'.format(response_variable))\n",
    "    merge_axes_subplot.axes.set_xscale('log')\n",
    "    merge_axes_subplot.axes.set_yscale('log')\n",
    "    \n",
    "    # Add annotations\n",
    "    for label, x, y in zip(df.index, df[ev_column_name], df[rv_column_name]):\n",
    "        if (x == ev_min):\n",
    "            if not ev_min_labeled:\n",
    "                ev_min_labeled = True\n",
    "                annotation = plt.annotate('{} ({})'.format(label, ev_min_str), xy=(x, y), xytext=ev_min_xytext, **kwargs)\n",
    "        elif (x == ev_max):\n",
    "            if not ev_max_labeled:\n",
    "                ev_max_labeled = True\n",
    "                annotation = plt.annotate('{} ({})'.format(label, ev_max_str), xy=(x, y), xytext=ev_max_xytext, **kwargs)\n",
    "        elif (y == rv_min):\n",
    "            if not rv_min_labeled:\n",
    "                rv_min_labeled = True\n",
    "                annotation = plt.annotate('{} ({})'.format(label, rv_min_str), xy=(x, y), xytext=rv_min_xytext, **kwargs)\n",
    "        elif (y == rv_max):\n",
    "            if not rv_max_labeled:\n",
    "                rv_max_labeled = True\n",
    "                annotation = plt.annotate('{} ({})'.format(label, rv_max_str), xy=(x, y), xytext=rv_max_xytext, **kwargs)\n",
    "        elif (label == 'United States'):\n",
    "            annotation = plt.annotate('{} (most evil)'.format(label), xy=(x, y), xytext=us_xytext, **kwargs)\n",
    "    \n",
    "    # Add r-squared\n",
    "    x = df[ev_column_name].values\n",
    "    y = df[rv_column_name].values\n",
    "    plt.text(0.92, 0.965, r'$r^2 = {0:.2}$'.format(stats.pearsonr(x, y)[0] ** 2), fontsize=20, alpha=0.25,\n",
    "             horizontalalignment='center', verticalalignment='center', transform=merge_axes_subplot.transAxes)"
   ]
  },
  {
   "cell_type": "code",
   "execution_count": 123,
   "metadata": {},
   "outputs": [
    {
     "data": {
      "image/png": "[encoded data removed]",
      "text/plain": [
       "<Figure size 864x576 with 1 Axes>"
      ]
     },
     "metadata": {
      "needs_background": "light"
     },
     "output_type": "display_data"
    }
   ],
   "source": [
    "\n",
    "import re\n",
    "from scipy import stats\n",
    "\n",
    "rv_min_xytext = (-20, 180)\n",
    "rv_max_xytext = (-170, 10)\n",
    "ev_min_xytext = (50, -30)\n",
    "ev_max_xytext = (-131, -62)\n",
    "us_xytext = (-6, -6)\n",
    "columns_list = ['GDP', 'Cases']\n",
    "show_linear_scatterplot(pandemic_countries_df, columns_list, ev_min_str=None, ev_max_str=None, rv_min_str=None, rv_max_str=None)"
   ]
  },
  {
   "cell_type": "code",
   "execution_count": 110,
   "metadata": {},
   "outputs": [
    {
     "name": "stdout",
     "output_type": "stream",
     "text": [
      "mas._axes.set_yscale\n",
      "mas._axes_class.set_yscale\n",
      "mas.axes.set_yscale\n"
     ]
    }
   ],
   "source": [
    "\n",
    "for obj_str in ['mas.{}'.format(fn) for fn in dir(mas) if 'ax' in fn.lower()]:\n",
    "    subobj_list = eval('dir({})'.format(obj_str))\n",
    "    for sub_obj_str in subobj_list:\n",
    "        if 'set_yscale' in sub_obj_str:\n",
    "            print('{}.{}'.format(obj_str, sub_obj_str))\n",
    "            break"
   ]
  },
  {
   "cell_type": "code",
   "execution_count": 111,
   "metadata": {},
   "outputs": [
    {
     "data": {
      "image/png": "[encoded data removed]",
      "text/plain": [
       "<Figure size 864x576 with 1 Axes>"
      ]
     },
     "metadata": {
      "needs_background": "light"
     },
     "output_type": "display_data"
    }
   ],
   "source": [
    "ev_column_name = columns_list[0]\n",
    "rv_column_name = columns_list[1]\n",
    "fig = plt.figure(figsize=(12, 8))\n",
    "ax = fig.add_subplot(111)\n",
    "mas = sns.regplot(x=ev_column_name, y=rv_column_name,\n",
    "                  scatter=True, data=pandemic_countries_df, ax=ax)\n",
    "mas.axes.set_xscale('log')\n",
    "mas.axes.set_yscale('log')"
   ]
  },
  {
   "cell_type": "code",
   "execution_count": null,
   "metadata": {},
   "outputs": [],
   "source": [
    "\n",
    "for file_name in os.listdir(s.saves_pickle_folder):\n",
    "    if file_name.endswith('_df.pickle'):\n",
    "        df_name = file_name.split('.')[0]\n",
    "        exec(\"{} = s.load_object('{}')\".format(df_name, df_name))\n",
    "        idx_list = eval(\"{}.index.tolist()\".format(df_name))\n",
    "        print()\n",
    "        print(df_name)\n",
    "        print(idx_list)"
   ]
  },
  {
   "cell_type": "code",
   "execution_count": null,
   "metadata": {},
   "outputs": [],
   "source": []
  }
 ],
 "metadata": {
  "kernelspec": {
   "display_name": "Python 3",
   "language": "python",
   "name": "python3"
  },
  "language_info": {
   "codemirror_mode": {
    "name": "ipython",
    "version": 3
   },
   "file_extension": ".py",
   "mimetype": "text/x-python",
   "name": "python",
   "nbconvert_exporter": "python",
   "pygments_lexer": "ipython3",
   "version": "3.7.6"
  }
 },
 "nbformat": 4,
 "nbformat_minor": 4
}
