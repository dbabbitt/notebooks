{
 "cells": [
  {
   "cell_type": "code",
   "execution_count": 1,
   "metadata": {},
   "outputs": [
    {
     "name": "stderr",
     "output_type": "stream",
     "text": [
      "Loading required package: rattle\n",
      "Warning message in library(package, lib.loc = lib.loc, character.only = TRUE, logical.return = TRUE, :\n",
      "\"there is no package called 'rattle'\"Installing package into 'C:/Users/dev/Documents/R/win-library/3.5'\n",
      "(as 'lib' is unspecified)\n",
      "Warning message:\n",
      "\"unable to access index for repository http://cran.us.r-project.org/src/contrib:\n",
      "  cannot open URL 'http://cran.us.r-project.org/src/contrib/PACKAGES'\"Warning message:\n",
      "\"package 'rattle' is not available (for R version 3.5.0)\"Warning message:\n",
      "\"unable to access index for repository http://cran.us.r-project.org/bin/windows/contrib/3.5:\n",
      "  cannot open URL 'http://cran.us.r-project.org/bin/windows/contrib/3.5/PACKAGES'\"Loading required package: rattle\n",
      "Warning message in library(package, lib.loc = lib.loc, character.only = TRUE, logical.return = TRUE, :\n",
      "\"there is no package called 'rattle'\""
     ]
    }
   ],
   "source": [
    "\n",
    "if(!require('rattle')) install.packages('rattle', repos = 'http://cran.us.r-project.org'); require('rattle')"
   ]
  },
  {
   "cell_type": "code",
   "execution_count": null,
   "metadata": {},
   "outputs": [],
   "source": [
    "\n",
    "# This log generally records the process of building a model. However, with very \n",
    "# little effort the log can be used to score a new dataset. The logical variable \n",
    "# 'building' is used to toggle between generating transformations, as when building \n",
    "# a model, and simply using the transformations, as when scoring a dataset.\n",
    "\n",
    "building <- TRUE\n",
    "scoring  <- ! building\n",
    "\n",
    "# The colorspace package is used to generate the colours used in plots, if available.\n",
    "\n",
    "library(colorspace)\n",
    "\n",
    "# A pre-defined value is used to reset the random seed so that results are repeatable.\n",
    "\n",
    "seed <- 42 \n",
    "\n",
    "# ============================================================ \n",
    "# Rattle timestamp: 2015-07-04 06:50:40 x86_64-w64-mingw32 \n",
    "\n",
    "# Load the data.\n",
    "\n",
    "dataset <- read.csv('../data/blackstatsbycountry.csv',\n",
    "                    na.strings = c('.', 'NA', '', '?'), strip.white = TRUE, encoding = 'UTF-8')\n",
    "dim(dataset)[1]"
   ]
  },
  {
   "cell_type": "code",
   "execution_count": null,
   "metadata": {},
   "outputs": [],
   "source": [
    "\n",
    "nrow(dataset)"
   ]
  },
  {
   "cell_type": "code",
   "execution_count": null,
   "metadata": {},
   "outputs": [],
   "source": [
    "\n",
    "levels(dataset$Racial_Region)"
   ]
  },
  {
   "cell_type": "code",
   "execution_count": null,
   "metadata": {},
   "outputs": [],
   "source": [
    "\n",
    "baw <- subset(dataset, Racial_Region == 'African' | Racial_Region == 'European',\n",
    "              select = c(Country, Racial_Region, UNODC_murder_Rate, Lynn_Vanhanen_Avg_IQ))\n",
    "if(!require('rpart')) install.packages('rpart', repos = 'http://cran.us.r-project.org'); require('rpart')\n",
    "try.tree <- rpart(Racial_Region ~ UNODC_murder_Rate + Lynn_Vanhanen_Avg_IQ, data = baw)\n",
    "print(try.tree)"
   ]
  },
  {
   "cell_type": "code",
   "execution_count": null,
   "metadata": {},
   "outputs": [],
   "source": [
    "\n",
    "try.tree <- rpart(Racial_Region ~ UNODC_murder_Rate, data = baw)\n",
    "print(try.tree)"
   ]
  },
  {
   "cell_type": "code",
   "execution_count": null,
   "metadata": {},
   "outputs": [],
   "source": [
    "\n",
    "subset(baw, Racial_Region == 'European' & UNODC_murder_Rate > = 5,\n",
    "       select = c(Country, Racial_Region, UNODC_murder_Rate, Lynn_Vanhanen_Avg_IQ))"
   ]
  },
  {
   "cell_type": "code",
   "execution_count": null,
   "metadata": {},
   "outputs": [],
   "source": [
    "\n",
    "plot(try.tree)"
   ]
  },
  {
   "cell_type": "code",
   "execution_count": null,
   "metadata": {},
   "outputs": [],
   "source": [
    "\n",
    "fancyRpartPlot(try.tree, main = 'Decision Tree Racial_Region')"
   ]
  },
  {
   "cell_type": "code",
   "execution_count": null,
   "metadata": {},
   "outputs": [],
   "source": [
    "\n",
    "mean(subset(baw, Racial_Region == 'European', select = c(UNODC_murder_Rate))$UNODC_murder_Rate)\n",
    "mean(subset(baw, Racial_Region == 'African', select = c(UNODC_murder_Rate))$UNODC_murder_Rate)\n",
    "sd(subset(baw, Racial_Region == 'European', select = c(UNODC_murder_Rate))$UNODC_murder_Rate)\n",
    "sd(subset(baw, Racial_Region == 'African', select = c(UNODC_murder_Rate))$UNODC_murder_Rate)\n",
    "t.test(subset(baw, Racial_Region == 'European', select = c(UNODC_murder_Rate))$UNODC_murder_Rate,\n",
    "       subset(baw, Racial_Region == 'African', select = c(UNODC_murder_Rate))$UNODC_murder_Rate)"
   ]
  },
  {
   "cell_type": "code",
   "execution_count": null,
   "metadata": {},
   "outputs": [],
   "source": [
    "\n",
    "baw$Atlantic_Slave_Trade <- 'No'\n",
    "baw[baw$Country %in% c('Senegal', 'Gambia', 'Guinea-Bissau', 'Guinea', 'Sierra Leone',\n",
    "                       'Liberia', \"Côte d'Ivoire', 'Ghana', 'Togo', 'Benin', 'Nigeria\",\n",
    "                       'Cameroon', 'Equatorial Guinea', 'Gabon', 'Congo', 'Angola', 'Mozambique',\n",
    "                       'Madagascar'), ]$Atlantic_Slave_Trade <- 'Yes'\n",
    "baw[baw$Country %in% c('Portugal', 'United Kingdom', 'United States - Black', 'United States - Total',\n",
    "                       'United States - White', 'Spain', 'France', 'Netherlands',\n",
    "                       'Denmark'), ]$Atlantic_Slave_Trade <- 'Yes'\n",
    "t.test(subset(baw, Racial_Region == 'African' & Atlantic_Slave_Trade == 'Yes',\n",
    "              select = c(UNODC_murder_Rate))$UNODC_murder_Rate,\n",
    "       subset(baw, Racial_Region == 'African' & Atlantic_Slave_Trade == 'No',\n",
    "              select = c(UNODC_murder_Rate))$UNODC_murder_Rate)"
   ]
  }
 ],
 "metadata": {
  "kernelspec": {
   "display_name": "R 3.5",
   "language": "R",
   "name": "ir35"
  },
  "language_info": {
   "codemirror_mode": "r",
   "file_extension": ".r",
   "mimetype": "text/x-r-source",
   "name": "R",
   "pygments_lexer": "r",
   "version": "3.5.0"
  }
 },
 "nbformat": 4,
 "nbformat_minor": 2
}
