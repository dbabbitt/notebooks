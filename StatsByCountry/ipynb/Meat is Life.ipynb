{
 "cells": [
  {
   "cell_type": "code",
   "execution_count": 1,
   "metadata": {},
   "outputs": [
    {
     "name": "stdout",
     "output_type": "stream",
     "text": [
      "DATA_FOLDER: ../data/\n",
      "SAVES_FOLDER: ../saves/\n",
      "Pretty printing has been turned OFF\n",
      "DATA_CSV_FOLDER\t DATA_FOLDER\t ENCODING_TYPE\t SAVES_CSV_FOLDER\t SAVES_FOLDER\t SAVES_PICKLE_FOLDER\t attempt_to_pickle\t csv\t example_iterrows\t \n",
      "gdp_df\t get_column_descriptions\t load_csv\t load_dataframes\t load_object\t math\t os\t pd\t pickle\t \n",
      "save_dataframes\t store_objects\t sys\t \n"
     ]
    }
   ],
   "source": [
    "\n",
    "%run ../../load_magic/storage.py\n",
    "%run ../../load_magic/dataframes.py\n",
    "%pprint\n",
    "gdp_df = load_object('gdp_df')\n",
    "%who"
   ]
  },
  {
   "cell_type": "code",
   "execution_count": 3,
   "metadata": {},
   "outputs": [
    {
     "name": "stdout",
     "output_type": "stream",
     "text": [
      "[(0, (41, 2))]\n"
     ]
    }
   ],
   "source": [
    "\n",
    "tables_url = 'https://en.wikipedia.org/wiki/List_of_countries_by_meat_consumption_per_capita'\n",
    "tables_df_list = pd.read_html(tables_url)\n",
    "print([(i, df.shape) for (i, df) in enumerate(tables_df_list) if df.shape[0] > 25])"
   ]
  },
  {
   "cell_type": "code",
   "execution_count": 6,
   "metadata": {},
   "outputs": [
    {
     "data": {
      "text/html": [
       "<div>\n",
       "<style scoped>\n",
       "    .dataframe tbody tr th:only-of-type {\n",
       "        vertical-align: middle;\n",
       "    }\n",
       "\n",
       "    .dataframe tbody tr th {\n",
       "        vertical-align: top;\n",
       "    }\n",
       "\n",
       "    .dataframe thead th {\n",
       "        text-align: right;\n",
       "    }\n",
       "</style>\n",
       "<table border=\"1\" class=\"dataframe\">\n",
       "  <thead>\n",
       "    <tr style=\"text-align: right;\">\n",
       "      <th></th>\n",
       "      <th>Kg/person (2017)</th>\n",
       "    </tr>\n",
       "    <tr>\n",
       "      <th>Country</th>\n",
       "      <th></th>\n",
       "    </tr>\n",
       "  </thead>\n",
       "  <tbody>\n",
       "    <tr>\n",
       "      <th>Haiti</th>\n",
       "      <td>14.19</td>\n",
       "    </tr>\n",
       "    <tr>\n",
       "      <th>Ethiopia</th>\n",
       "      <td>4.22</td>\n",
       "    </tr>\n",
       "    <tr>\n",
       "      <th>European Union</th>\n",
       "      <td>69.60</td>\n",
       "    </tr>\n",
       "    <tr>\n",
       "      <th>Zimbabwe</th>\n",
       "      <td>13.64</td>\n",
       "    </tr>\n",
       "    <tr>\n",
       "      <th>South Africa</th>\n",
       "      <td>50.17</td>\n",
       "    </tr>\n",
       "  </tbody>\n",
       "</table>\n",
       "</div>"
      ],
      "text/plain": [
       "                Kg/person (2017)\n",
       "Country                         \n",
       "Haiti                      14.19\n",
       "Ethiopia                    4.22\n",
       "European Union             69.60\n",
       "Zimbabwe                   13.64\n",
       "South Africa               50.17"
      ]
     },
     "execution_count": 6,
     "metadata": {},
     "output_type": "execute_result"
    }
   ],
   "source": [
    "\n",
    "meat_df = tables_df_list[0].copy().dropna(axis=0, how='all').dropna(axis=1, how='all')\n",
    "meat_df.columns = ['Country', 'Kg/person (2017)']\n",
    "meat_df.set_index('Country', inplace=True)\n",
    "for column_name in ['Kg/person (2017)']:\n",
    "    meat_df[column_name] = meat_df[column_name].map(lambda x: float(x))\n",
    "meat_df.sample(5)"
   ]
  },
  {
   "cell_type": "code",
   "execution_count": 8,
   "metadata": {},
   "outputs": [
    {
     "name": "stdout",
     "output_type": "stream",
     "text": [
      "[(0, (369, 5)), (1, (183, 1)), (2, (183, 5)), (4, (405, 4)), (5, (201, 1)), (6, (201, 4)), (7, (378, 5)), (8, (187, 1)), (9, (188, 5)), (10, (452, 4)), (11, (224, 1)), (12, (225, 4)), (13, (75, 4)), (14, (36, 1)), (15, (36, 4))]\n"
     ]
    }
   ],
   "source": [
    "\n",
    "tables_url = 'https://en.wikipedia.org/wiki/List_of_countries_by_life_expectancy'\n",
    "tables_df_list = pd.read_html(tables_url)\n",
    "print([(i, df.shape) for (i, df) in enumerate(tables_df_list) if df.shape[0] > 25])"
   ]
  },
  {
   "cell_type": "code",
   "execution_count": 13,
   "metadata": {},
   "outputs": [
    {
     "data": {
      "text/html": [
       "<div>\n",
       "<style scoped>\n",
       "    .dataframe tbody tr th:only-of-type {\n",
       "        vertical-align: middle;\n",
       "    }\n",
       "\n",
       "    .dataframe tbody tr th {\n",
       "        vertical-align: top;\n",
       "    }\n",
       "\n",
       "    .dataframe thead th {\n",
       "        text-align: right;\n",
       "    }\n",
       "</style>\n",
       "<table border=\"1\" class=\"dataframe\">\n",
       "  <thead>\n",
       "    <tr style=\"text-align: right;\">\n",
       "      <th></th>\n",
       "      <th>Male</th>\n",
       "      <th>Female</th>\n",
       "      <th>Both</th>\n",
       "      <th>Health-adjusted (both)</th>\n",
       "    </tr>\n",
       "    <tr>\n",
       "      <th>Country</th>\n",
       "      <th></th>\n",
       "      <th></th>\n",
       "      <th></th>\n",
       "      <th></th>\n",
       "    </tr>\n",
       "  </thead>\n",
       "  <tbody>\n",
       "    <tr>\n",
       "      <th>Saint Vincent and the Grenadines</th>\n",
       "      <td>71.3</td>\n",
       "      <td>75.2</td>\n",
       "      <td>73.2</td>\n",
       "      <td>64.6</td>\n",
       "    </tr>\n",
       "    <tr>\n",
       "      <th>Thailand</th>\n",
       "      <td>71.9</td>\n",
       "      <td>78.0</td>\n",
       "      <td>74.9</td>\n",
       "      <td>66.8</td>\n",
       "    </tr>\n",
       "    <tr>\n",
       "      <th>Laos</th>\n",
       "      <td>64.1</td>\n",
       "      <td>67.2</td>\n",
       "      <td>65.7</td>\n",
       "      <td>57.9</td>\n",
       "    </tr>\n",
       "    <tr>\n",
       "      <th>Barbados</th>\n",
       "      <td>73.1</td>\n",
       "      <td>77.9</td>\n",
       "      <td>75.5</td>\n",
       "      <td>66.6</td>\n",
       "    </tr>\n",
       "    <tr>\n",
       "      <th>Tajikistan</th>\n",
       "      <td>66.6</td>\n",
       "      <td>73.6</td>\n",
       "      <td>69.7</td>\n",
       "      <td>62.1</td>\n",
       "    </tr>\n",
       "  </tbody>\n",
       "</table>\n",
       "</div>"
      ],
      "text/plain": [
       "                                  Male  Female  Both  Health-adjusted (both)\n",
       "Country                                                                     \n",
       "Saint Vincent and the Grenadines  71.3    75.2  73.2                    64.6\n",
       "Thailand                          71.9    78.0  74.9                    66.8\n",
       "Laos                              64.1    67.2  65.7                    57.9\n",
       "Barbados                          73.1    77.9  75.5                    66.6\n",
       "Tajikistan                        66.6    73.6  69.7                    62.1"
      ]
     },
     "execution_count": 13,
     "metadata": {},
     "output_type": "execute_result"
    }
   ],
   "source": [
    "\n",
    "life_df = tables_df_list[2].copy().dropna(axis=0, how='all').dropna(axis=1, how='all')\n",
    "life_df.columns = ['Country', 'Male', 'Female', 'Both', 'Health-adjusted (both)']\n",
    "life_df.set_index('Country', inplace=True)\n",
    "for column_name in ['Male', 'Female', 'Both', 'Health-adjusted (both)']:\n",
    "    life_df[column_name] = life_df[column_name].map(lambda x: float(x))\n",
    "life_df.sample(5)"
   ]
  },
  {
   "cell_type": "code",
   "execution_count": 14,
   "metadata": {},
   "outputs": [],
   "source": [
    "\n",
    "merge_df = pd.merge(left=meat_df, right=life_df, left_index=True,\n",
    "                    right_index=True, suffixes=('_meat', '_life'))"
   ]
  },
  {
   "cell_type": "code",
   "execution_count": 15,
   "metadata": {},
   "outputs": [],
   "source": [
    "\n",
    "column_description_dict = load_object('column_description_dict')"
   ]
  },
  {
   "cell_type": "code",
   "execution_count": 16,
   "metadata": {},
   "outputs": [
    {
     "name": "stdout",
     "output_type": "stream",
     "text": [
      "Pickling to C:\\Users\\dev\\Documents\\repositories\\notebooks\\StatsByCountry\\saves\\pickle\\column_description_dict.pickle\n"
     ]
    }
   ],
   "source": [
    "\n",
    "import matplotlib.pyplot as plt\n",
    "import seaborn as sns\n",
    "\n",
    "explanatory_variable = 'Meat Consumption per Capita'\n",
    "ev_column_name = 'Kg/person (2017)'\n",
    "column_description_dict[ev_column_name] = explanatory_variable\n",
    "response_variable = 'Health-adjusted Life Expectancy'\n",
    "rv_column_name = 'Health-adjusted (both)'\n",
    "column_description_dict[rv_column_name] = response_variable\n",
    "store_objects(column_description_dict=column_description_dict)"
   ]
  },
  {
   "cell_type": "code",
   "execution_count": 25,
   "metadata": {},
   "outputs": [],
   "source": [
    "\n",
    "import random\n",
    "\n",
    "columns_list = random.sample(population=merge_df.columns.tolist(), k=2)\n",
    "kwargs = dict(textcoords='offset points', ha='left', va='bottom',\n",
    "              bbox=dict(boxstyle='round,pad=0.5', fc='yellow', alpha=0.5),\n",
    "              arrowprops=dict(arrowstyle='->', connectionstyle='arc3,rad=0'))\n",
    "def show_linear_scatterplot(columns_list, ev_min_str=None, ev_max_str=None, rv_min_str=None, rv_max_str=None):\n",
    "    ev_column_name = columns_list[0]\n",
    "    rv_column_name = columns_list[1]\n",
    "    explanatory_variable = get_column_description(ev_column_name)\n",
    "    response_variable = get_column_description(rv_column_name)\n",
    "    if (ev_min_str is None):\n",
    "        ev_min_str = 'minimum {}'.format(explanatory_variable)\n",
    "    if (ev_max_str is None):\n",
    "        ev_max_str = 'maximum {}'.format(explanatory_variable)\n",
    "    if (rv_min_str is None):\n",
    "        rv_min_str = 'minimum {}'.format(response_variable)\n",
    "    if (rv_max_str is None):\n",
    "        rv_max_str = 'maximum {}'.format(response_variable)\n",
    "    \n",
    "    df = merge_df.copy()\n",
    "    columns_list = [ev_column_name, rv_column_name]\n",
    "    df = df[columns_list].dropna()\n",
    "    ev_max = df[ev_column_name].max()\n",
    "    ev_min = df[ev_column_name].min()\n",
    "    rv_min = df[rv_column_name].min()\n",
    "    rv_max = df[rv_column_name].max()\n",
    "    ev_max_labeled = False\n",
    "    ev_min_labeled = False\n",
    "    rv_min_labeled = False\n",
    "    rv_max_labeled = False\n",
    "    \n",
    "    # First order (linear) scatterplot\n",
    "    fig1_fig = plt.figure(figsize=(12,8))\n",
    "    merge_axes_subplot = sns.regplot(x=ev_column_name, y=rv_column_name,\n",
    "                                     scatter=True, data=df)\n",
    "    xlabel_text = plt.xlabel('{} (explanatory variable)'.format(explanatory_variable))\n",
    "    ylabel_text = plt.ylabel('{} (response variable)'.format(response_variable))\n",
    "    \n",
    "    # Add annotations\n",
    "    for label, x, y in zip(df.index, df[ev_column_name], df[rv_column_name]):\n",
    "        if (x == ev_min):\n",
    "            if not ev_min_labeled:\n",
    "                ev_min_labeled = True\n",
    "                annotation = plt.annotate('{} ({})'.format(label, ev_min_str), xy=(x, y), xytext=ev_min_xytext, **kwargs)\n",
    "        elif (x == ev_max):\n",
    "            if not ev_max_labeled:\n",
    "                ev_max_labeled = True\n",
    "                annotation = plt.annotate('{} ({})'.format(label, ev_max_str), xy=(x, y), xytext=ev_max_xytext, **kwargs)\n",
    "        elif (y == rv_min):\n",
    "            if not rv_min_labeled:\n",
    "                rv_min_labeled = True\n",
    "                annotation = plt.annotate('{} ({})'.format(label, rv_min_str), xy=(x, y), xytext=rv_min_xytext, **kwargs)\n",
    "        elif (y == rv_max):\n",
    "            if not rv_max_labeled:\n",
    "                rv_max_labeled = True\n",
    "                annotation = plt.annotate('{} ({})'.format(label, rv_max_str), xy=(x, y), xytext=rv_max_xytext, **kwargs)\n",
    "        elif (label == 'United States'):\n",
    "            annotation = plt.annotate('{} (most evil)'.format(label), xy=(x, y), xytext=us_xytext, **kwargs)\n",
    "    \n",
    "    # Add r-squared\n",
    "    x = df[ev_column_name].values\n",
    "    y = df[rv_column_name].values\n",
    "    plt.text(0.93, 0.965, r'$r^2 = {0:.2}$'.format(stats.pearsonr(x, y)[0] ** 2), fontsize=20, alpha=0.25,\n",
    "             horizontalalignment='center', verticalalignment='center', transform=merge_axes_subplot.transAxes)"
   ]
  },
  {
   "cell_type": "code",
   "execution_count": 26,
   "metadata": {},
   "outputs": [],
   "source": [
    "\n",
    "import matplotlib.colors as mcolors\n",
    "\n",
    "basecolor_list = list(mcolors.BASE_COLORS.keys())\n",
    "def get_column_description(column_name):\n",
    "    if column_name in column_description_dict:\n",
    "        column_description = column_description_dict[column_name]\n",
    "    else:\n",
    "        column_list = column_name.split('_')\n",
    "        descr_list = []\n",
    "        for word in column_list:\n",
    "            descr_list.append(word[0].upper()+word[1:])\n",
    "        column_description = ' '.join(descr_list)\n",
    "    \n",
    "    return column_description"
   ]
  },
  {
   "cell_type": "code",
   "execution_count": 28,
   "metadata": {},
   "outputs": [],
   "source": [
    "\n",
    "from scipy import stats\n",
    "\n",
    "def r2(x, y):\n",
    "    \n",
    "    return stats.pearsonr(x, y)[0] ** 2"
   ]
  },
  {
   "cell_type": "code",
   "execution_count": 35,
   "metadata": {},
   "outputs": [
    {
     "data": {
      "image/png": "[encoded data removed]",
      "text/plain": [
       "<Figure size 864x576 with 1 Axes>"
      ]
     },
     "metadata": {
      "needs_background": "light"
     },
     "output_type": "display_data"
    }
   ],
   "source": [
    "\n",
    "ev_min_xytext = (-5, 120)\n",
    "ev_max_xytext = (-280, -100)\n",
    "rv_min_xytext = (20, -10)\n",
    "rv_max_xytext = (60, 20)\n",
    "us_xytext = (-70, 30)\n",
    "columns_list = [ev_column_name, rv_column_name]\n",
    "show_linear_scatterplot(columns_list)"
   ]
  },
  {
   "cell_type": "code",
   "execution_count": null,
   "metadata": {},
   "outputs": [],
   "source": []
  }
 ],
 "metadata": {
  "kernelspec": {
   "display_name": "Python 3",
   "language": "python",
   "name": "python3"
  },
  "language_info": {
   "codemirror_mode": {
    "name": "ipython",
    "version": 3
   },
   "file_extension": ".py",
   "mimetype": "text/x-python",
   "name": "python",
   "nbconvert_exporter": "python",
   "pygments_lexer": "ipython3",
   "version": "3.6.8"
  }
 },
 "nbformat": 4,
 "nbformat_minor": 2
}
