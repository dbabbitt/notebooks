{
 "cells": [
  {
   "cell_type": "code",
   "execution_count": 1,
   "metadata": {},
   "outputs": [
    {
     "name": "stdout",
     "output_type": "stream",
     "text": [
      "DATA_FOLDER: ../data/\n",
      "SAVES_FOLDER: ../saves/\n",
      "Pretty printing has been turned OFF\n",
      "DATA_CSV_FOLDER\t DATA_FOLDER\t ENCODING_TYPE\t SAVES_CSV_FOLDER\t SAVES_FOLDER\t SAVES_PICKLE_FOLDER\t attempt_to_pickle\t example_iterrows\t get_column_descriptions\t \n",
      "load_csv\t load_dataframes\t load_object\t math\t os\t pd\t pickle\t save_dataframes\t store_objects\t \n",
      "sys\t \n"
     ]
    }
   ],
   "source": [
    "\n",
    "%run ../../load_magic/storage.py\n",
    "%run ../../load_magic/dataframes.py\n",
    "%pprint\n",
    "%who"
   ]
  },
  {
   "cell_type": "code",
   "execution_count": 2,
   "metadata": {},
   "outputs": [
    {
     "data": {
      "text/html": [
       "<div>\n",
       "<style scoped>\n",
       "    .dataframe tbody tr th:only-of-type {\n",
       "        vertical-align: middle;\n",
       "    }\n",
       "\n",
       "    .dataframe tbody tr th {\n",
       "        vertical-align: top;\n",
       "    }\n",
       "\n",
       "    .dataframe thead th {\n",
       "        text-align: right;\n",
       "    }\n",
       "</style>\n",
       "<table border=\"1\" class=\"dataframe\">\n",
       "  <thead>\n",
       "    <tr style=\"text-align: right;\">\n",
       "      <th></th>\n",
       "      <th>72</th>\n",
       "      <th>35</th>\n",
       "      <th>87</th>\n",
       "      <th>16</th>\n",
       "      <th>109</th>\n",
       "      <th>34</th>\n",
       "      <th>82</th>\n",
       "      <th>18</th>\n",
       "      <th>88</th>\n",
       "      <th>149</th>\n",
       "    </tr>\n",
       "  </thead>\n",
       "  <tbody>\n",
       "    <tr>\n",
       "      <th>Rank</th>\n",
       "      <td>54</td>\n",
       "      <td>NaN</td>\n",
       "      <td>91</td>\n",
       "      <td>12</td>\n",
       "      <td>133</td>\n",
       "      <td>21</td>\n",
       "      <td>59</td>\n",
       "      <td>13</td>\n",
       "      <td>62</td>\n",
       "      <td>153</td>\n",
       "    </tr>\n",
       "    <tr>\n",
       "      <th>Country</th>\n",
       "      <td>Bahrain</td>\n",
       "      <td>NaN</td>\n",
       "      <td>Saudi Arabia</td>\n",
       "      <td>United States</td>\n",
       "      <td>Solomon Islands</td>\n",
       "      <td>Lithuania</td>\n",
       "      <td>Kazakhstan</td>\n",
       "      <td>Netherlands</td>\n",
       "      <td>Portugal</td>\n",
       "      <td>Malawi</td>\n",
       "    </tr>\n",
       "    <tr>\n",
       "      <th>Overall Capitalism</th>\n",
       "      <td>66.4</td>\n",
       "      <td>NaN</td>\n",
       "      <td>60.7</td>\n",
       "      <td>76.8</td>\n",
       "      <td>54.6</td>\n",
       "      <td>74.2</td>\n",
       "      <td>65.4</td>\n",
       "      <td>76.8</td>\n",
       "      <td>65.3</td>\n",
       "      <td>51.4</td>\n",
       "    </tr>\n",
       "    <tr>\n",
       "      <th>Change</th>\n",
       "      <td>-1.3</td>\n",
       "      <td>NaN</td>\n",
       "      <td>1.1</td>\n",
       "      <td>1.1</td>\n",
       "      <td>-2.9</td>\n",
       "      <td>-1.1</td>\n",
       "      <td>-3.7</td>\n",
       "      <td>0.6</td>\n",
       "      <td>1.9</td>\n",
       "      <td>-0.6</td>\n",
       "    </tr>\n",
       "  </tbody>\n",
       "</table>\n",
       "</div>"
      ],
      "text/plain": [
       "                        72   35            87             16   \\\n",
       "Rank                     54  NaN            91             12   \n",
       "Country             Bahrain  NaN  Saudi Arabia  United States   \n",
       "Overall Capitalism     66.4  NaN          60.7           76.8   \n",
       "Change                 -1.3  NaN           1.1            1.1   \n",
       "\n",
       "                                109        34          82           18   \\\n",
       "Rank                            133         21          59           13   \n",
       "Country             Solomon Islands  Lithuania  Kazakhstan  Netherlands   \n",
       "Overall Capitalism             54.6       74.2        65.4         76.8   \n",
       "Change                         -2.9       -1.1        -3.7          0.6   \n",
       "\n",
       "                         88      149  \n",
       "Rank                      62     153  \n",
       "Country             Portugal  Malawi  \n",
       "Overall Capitalism      65.3    51.4  \n",
       "Change                   1.9    -0.6  "
      ]
     },
     "execution_count": 2,
     "metadata": {},
     "output_type": "execute_result"
    }
   ],
   "source": [
    "\n",
    "# From https://www.heritage.org/index/ranking\n",
    "file_name = r'../data/html/capitalism_by_country.html'\n",
    "capitalism_df = pd.read_html(file_name)[0]\n",
    "capitalism_df.columns = ['Rank', 'Country', 'Overall Capitalism', 'Change']\n",
    "capitalism_df.sample(10).T"
   ]
  },
  {
   "cell_type": "code",
   "execution_count": 3,
   "metadata": {},
   "outputs": [
    {
     "data": {
      "text/html": [
       "<div>\n",
       "<style scoped>\n",
       "    .dataframe tbody tr th:only-of-type {\n",
       "        vertical-align: middle;\n",
       "    }\n",
       "\n",
       "    .dataframe tbody tr th {\n",
       "        vertical-align: top;\n",
       "    }\n",
       "\n",
       "    .dataframe thead th {\n",
       "        text-align: right;\n",
       "    }\n",
       "</style>\n",
       "<table border=\"1\" class=\"dataframe\">\n",
       "  <thead>\n",
       "    <tr style=\"text-align: right;\">\n",
       "      <th></th>\n",
       "      <th>52</th>\n",
       "      <th>65</th>\n",
       "      <th>3</th>\n",
       "      <th>105</th>\n",
       "      <th>132</th>\n",
       "      <th>71</th>\n",
       "      <th>160</th>\n",
       "      <th>4</th>\n",
       "      <th>32</th>\n",
       "      <th>97</th>\n",
       "    </tr>\n",
       "  </thead>\n",
       "  <tbody>\n",
       "    <tr>\n",
       "      <th>Country</th>\n",
       "      <td>Finland</td>\n",
       "      <td>Honduras</td>\n",
       "      <td>Angola</td>\n",
       "      <td>Micronesia</td>\n",
       "      <td>Rwanda</td>\n",
       "      <td>Iran</td>\n",
       "      <td>Trinidad and Tobago</td>\n",
       "      <td>Argentina</td>\n",
       "      <td>Comoros</td>\n",
       "      <td>Malawi</td>\n",
       "    </tr>\n",
       "    <tr>\n",
       "      <th>UN R/P 10%</th>\n",
       "      <td>5.6</td>\n",
       "      <td>59.4</td>\n",
       "      <td>NaN</td>\n",
       "      <td>NaN</td>\n",
       "      <td>18.6</td>\n",
       "      <td>17.2</td>\n",
       "      <td>12.9</td>\n",
       "      <td>31.6</td>\n",
       "      <td>NaN</td>\n",
       "      <td>10.9</td>\n",
       "    </tr>\n",
       "    <tr>\n",
       "      <th>UN R/P 20%</th>\n",
       "      <td>3.9</td>\n",
       "      <td>16.9</td>\n",
       "      <td>9</td>\n",
       "      <td>8.4</td>\n",
       "      <td>11</td>\n",
       "      <td>7.2</td>\n",
       "      <td>NaN</td>\n",
       "      <td>9.5</td>\n",
       "      <td>11.2</td>\n",
       "      <td>9.4</td>\n",
       "    </tr>\n",
       "    <tr>\n",
       "      <th>World Bank Gini %</th>\n",
       "      <td>26.8</td>\n",
       "      <td>50</td>\n",
       "      <td>42.7</td>\n",
       "      <td>40.1</td>\n",
       "      <td>50.4</td>\n",
       "      <td>38.8</td>\n",
       "      <td>40.3</td>\n",
       "      <td>42.4</td>\n",
       "      <td>45</td>\n",
       "      <td>46.1</td>\n",
       "    </tr>\n",
       "    <tr>\n",
       "      <th>World Bank Gini Year</th>\n",
       "      <td>2014</td>\n",
       "      <td>2016</td>\n",
       "      <td>2008</td>\n",
       "      <td>2013</td>\n",
       "      <td>2013</td>\n",
       "      <td>2014</td>\n",
       "      <td>1992</td>\n",
       "      <td>2016</td>\n",
       "      <td>2013</td>\n",
       "      <td>2010</td>\n",
       "    </tr>\n",
       "    <tr>\n",
       "      <th>CIA R/P 10%</th>\n",
       "      <td>5.7</td>\n",
       "      <td>35.2</td>\n",
       "      <td>NaN</td>\n",
       "      <td>NaN</td>\n",
       "      <td>18.2</td>\n",
       "      <td>16.9</td>\n",
       "      <td>NaN</td>\n",
       "      <td>35</td>\n",
       "      <td>NaN</td>\n",
       "      <td>11</td>\n",
       "    </tr>\n",
       "    <tr>\n",
       "      <th>CIA R/P Year</th>\n",
       "      <td>2000</td>\n",
       "      <td>2003</td>\n",
       "      <td>NaN</td>\n",
       "      <td>NaN</td>\n",
       "      <td>2000</td>\n",
       "      <td>1998</td>\n",
       "      <td>NaN</td>\n",
       "      <td>2007 Jan.-Mar.</td>\n",
       "      <td>NaN</td>\n",
       "      <td>2004</td>\n",
       "    </tr>\n",
       "    <tr>\n",
       "      <th>CIA Gini %</th>\n",
       "      <td>26.8</td>\n",
       "      <td>57.7</td>\n",
       "      <td>NaN</td>\n",
       "      <td>NaN</td>\n",
       "      <td>46.8</td>\n",
       "      <td>44.5</td>\n",
       "      <td>NaN</td>\n",
       "      <td>41.7</td>\n",
       "      <td>NaN</td>\n",
       "      <td>39</td>\n",
       "    </tr>\n",
       "    <tr>\n",
       "      <th>CIA Gini Year</th>\n",
       "      <td>2008</td>\n",
       "      <td>2007</td>\n",
       "      <td>NaN</td>\n",
       "      <td>NaN</td>\n",
       "      <td>2000</td>\n",
       "      <td>2006</td>\n",
       "      <td>NaN</td>\n",
       "      <td>2017</td>\n",
       "      <td>NaN</td>\n",
       "      <td>2004</td>\n",
       "    </tr>\n",
       "  </tbody>\n",
       "</table>\n",
       "</div>"
      ],
      "text/plain": [
       "                          52        65      3           105     132   71   \\\n",
       "Country               Finland  Honduras  Angola  Micronesia  Rwanda  Iran   \n",
       "UN R/P 10%                5.6      59.4     NaN         NaN    18.6  17.2   \n",
       "UN R/P 20%                3.9      16.9       9         8.4      11   7.2   \n",
       "World Bank Gini %        26.8        50    42.7        40.1    50.4  38.8   \n",
       "World Bank Gini Year     2014      2016    2008        2013    2013  2014   \n",
       "CIA R/P 10%               5.7      35.2     NaN         NaN    18.2  16.9   \n",
       "CIA R/P Year             2000      2003     NaN         NaN    2000  1998   \n",
       "CIA Gini %               26.8      57.7     NaN         NaN    46.8  44.5   \n",
       "CIA Gini Year            2008      2007     NaN         NaN    2000  2006   \n",
       "\n",
       "                                      160             4        32      97   \n",
       "Country               Trinidad and Tobago       Argentina  Comoros  Malawi  \n",
       "UN R/P 10%                           12.9            31.6      NaN    10.9  \n",
       "UN R/P 20%                            NaN             9.5     11.2     9.4  \n",
       "World Bank Gini %                    40.3            42.4       45    46.1  \n",
       "World Bank Gini Year                 1992            2016     2013    2010  \n",
       "CIA R/P 10%                           NaN              35      NaN      11  \n",
       "CIA R/P Year                          NaN  2007 Jan.-Mar.      NaN    2004  \n",
       "CIA Gini %                            NaN            41.7      NaN      39  \n",
       "CIA Gini Year                         NaN            2017      NaN    2004  "
      ]
     },
     "execution_count": 3,
     "metadata": {},
     "output_type": "execute_result"
    }
   ],
   "source": [
    "\n",
    "# From https://en.wikipedia.org/wiki/List_of_countries_by_income_equality\n",
    "file_name = r'../data/html/income_inequality_by_country.html'\n",
    "income_inequality_df = pd.read_html(file_name)[0]\n",
    "income_inequality_df.sample(10).T"
   ]
  },
  {
   "cell_type": "code",
   "execution_count": 4,
   "metadata": {},
   "outputs": [
    {
     "data": {
      "text/plain": [
       "182"
      ]
     },
     "execution_count": 4,
     "metadata": {},
     "output_type": "execute_result"
    }
   ],
   "source": [
    "\n",
    "capitalism_country_list = capitalism_df['Country'].tolist()\n",
    "len(capitalism_country_list)"
   ]
  },
  {
   "cell_type": "code",
   "execution_count": 5,
   "metadata": {},
   "outputs": [
    {
     "data": {
      "text/plain": [
       "178"
      ]
     },
     "execution_count": 5,
     "metadata": {},
     "output_type": "execute_result"
    }
   ],
   "source": [
    "\n",
    "income_inequality_country_list = income_inequality_df['Country'].tolist()\n",
    "len(income_inequality_country_list)"
   ]
  },
  {
   "cell_type": "code",
   "execution_count": 6,
   "metadata": {},
   "outputs": [
    {
     "data": {
      "text/plain": [
       "162"
      ]
     },
     "execution_count": 6,
     "metadata": {},
     "output_type": "execute_result"
    }
   ],
   "source": [
    "\n",
    "common_country_list = list(set.intersection(set(capitalism_country_list),\n",
    "                                            set(income_inequality_country_list)))\n",
    "len(common_country_list)"
   ]
  },
  {
   "cell_type": "code",
   "execution_count": 7,
   "metadata": {},
   "outputs": [
    {
     "name": "stdout",
     "output_type": "stream",
     "text": [
      "2.9156200885772705 Mon May 13 16:38:15 2019\n"
     ]
    },
    {
     "data": {
      "text/html": [
       "<div>\n",
       "<style scoped>\n",
       "    .dataframe tbody tr th:only-of-type {\n",
       "        vertical-align: middle;\n",
       "    }\n",
       "\n",
       "    .dataframe tbody tr th {\n",
       "        vertical-align: top;\n",
       "    }\n",
       "\n",
       "    .dataframe thead th {\n",
       "        text-align: right;\n",
       "    }\n",
       "</style>\n",
       "<table border=\"1\" class=\"dataframe\">\n",
       "  <thead>\n",
       "    <tr style=\"text-align: right;\">\n",
       "      <th></th>\n",
       "      <th>left_item</th>\n",
       "      <th>right_item</th>\n",
       "      <th>max_similarity</th>\n",
       "    </tr>\n",
       "  </thead>\n",
       "  <tbody>\n",
       "    <tr>\n",
       "      <th>111</th>\n",
       "      <td>SÃ£o TomÃ© and PrÃ­ncipe</td>\n",
       "      <td>Sao Tome and Principe</td>\n",
       "      <td>0.800000</td>\n",
       "    </tr>\n",
       "    <tr>\n",
       "      <th>40</th>\n",
       "      <td>Saint Lucia</td>\n",
       "      <td>St. Lucia</td>\n",
       "      <td>0.800000</td>\n",
       "    </tr>\n",
       "    <tr>\n",
       "      <th>29</th>\n",
       "      <td>Macedonia</td>\n",
       "      <td>North Macedonia</td>\n",
       "      <td>0.750000</td>\n",
       "    </tr>\n",
       "    <tr>\n",
       "      <th>63</th>\n",
       "      <td>Kyrgyz Republic</td>\n",
       "      <td>Czech Republic</td>\n",
       "      <td>0.689655</td>\n",
       "    </tr>\n",
       "    <tr>\n",
       "      <th>49</th>\n",
       "      <td>Dominica</td>\n",
       "      <td>Romania</td>\n",
       "      <td>0.666667</td>\n",
       "    </tr>\n",
       "  </tbody>\n",
       "</table>\n",
       "</div>"
      ],
      "text/plain": [
       "                    left_item             right_item  max_similarity\n",
       "111  SÃ£o TomÃ© and PrÃ­ncipe  Sao Tome and Principe        0.800000\n",
       "40                Saint Lucia              St. Lucia        0.800000\n",
       "29                  Macedonia        North Macedonia        0.750000\n",
       "63            Kyrgyz Republic         Czech Republic        0.689655\n",
       "49                   Dominica                Romania        0.666667"
      ]
     },
     "execution_count": 7,
     "metadata": {},
     "output_type": "execute_result"
    }
   ],
   "source": [
    "\n",
    "%run ../../load_magic/lists.py\n",
    "typos_df = check_for_typos(capitalism_country_list, income_inequality_country_list)\n",
    "mask_series = (typos_df['max_similarity'] < 1.0)\n",
    "typos_df[mask_series].sort_values('max_similarity', ascending=False).head()"
   ]
  },
  {
   "cell_type": "code",
   "execution_count": 8,
   "metadata": {},
   "outputs": [],
   "source": [
    "\n",
    "mask_series = (capitalism_df['Country'] == 'SÃ£o TomÃ© and PrÃ\\xadncipe')\n",
    "idx = capitalism_df[mask_series].index.tolist()[0]\n",
    "capitalism_df.loc[idx, 'Country'] = 'Sao Tome and Principe'"
   ]
  },
  {
   "cell_type": "code",
   "execution_count": 9,
   "metadata": {},
   "outputs": [],
   "source": [
    "\n",
    "mask_series = (income_inequality_df['Country'] == 'St. Lucia')\n",
    "idx = income_inequality_df[mask_series].index.tolist()[0]\n",
    "income_inequality_df.loc[idx, 'Country'] = 'Saint Lucia'"
   ]
  },
  {
   "cell_type": "code",
   "execution_count": 10,
   "metadata": {},
   "outputs": [],
   "source": [
    "\n",
    "mask_series = (income_inequality_df['Country'] == 'DR Congo')\n",
    "idx = income_inequality_df[mask_series].index.tolist()[0]\n",
    "income_inequality_df.loc[idx, 'Country'] = 'Democratic Republic of Congo'"
   ]
  },
  {
   "cell_type": "code",
   "execution_count": 11,
   "metadata": {},
   "outputs": [],
   "source": [
    "\n",
    "mask_series = (income_inequality_df['Country'] == 'Congo, Republic of the')\n",
    "idx = income_inequality_df[mask_series].index.tolist()[0]\n",
    "income_inequality_df.loc[idx, 'Country'] = 'Republic of Congo'"
   ]
  },
  {
   "cell_type": "code",
   "execution_count": 12,
   "metadata": {},
   "outputs": [],
   "source": [
    "\n",
    "mask_series = (income_inequality_df['Country'] == 'North Macedonia')\n",
    "idx = income_inequality_df[mask_series].index.tolist()[0]\n",
    "income_inequality_df.loc[idx, 'Country'] = 'Macedonia'"
   ]
  },
  {
   "cell_type": "code",
   "execution_count": 13,
   "metadata": {},
   "outputs": [],
   "source": [
    "\n",
    "mask_series = (capitalism_df['Country'] == 'Kyrgyz Republic')\n",
    "idx = capitalism_df[mask_series].index.tolist()[0]\n",
    "capitalism_df.loc[idx, 'Country'] = 'Kyrgyzstan'"
   ]
  },
  {
   "cell_type": "code",
   "execution_count": 14,
   "metadata": {},
   "outputs": [
    {
     "data": {
      "text/plain": [
       "['Kyrgyz Republic']"
      ]
     },
     "execution_count": 14,
     "metadata": {},
     "output_type": "execute_result"
    }
   ],
   "source": [
    "\n",
    "[cn for cn in capitalism_country_list if 'kyrg' in str(cn).lower()]"
   ]
  },
  {
   "cell_type": "code",
   "execution_count": 15,
   "metadata": {},
   "outputs": [
    {
     "data": {
      "text/plain": [
       "['Kyrgyzstan']"
      ]
     },
     "execution_count": 15,
     "metadata": {},
     "output_type": "execute_result"
    }
   ],
   "source": [
    "\n",
    "[cn for cn in income_inequality_country_list if 'kyrg' in str(cn).lower()]"
   ]
  },
  {
   "cell_type": "code",
   "execution_count": 16,
   "metadata": {},
   "outputs": [
    {
     "data": {
      "text/plain": [
       "['Barbados', 'Brunei Darussalam', 'Burma', 'Dominica', 'Eritrea', 'European Union', 'Iraq', 'Kiribati', 'Libya', 'Myanmar', 'Palestine', 'Saint Vincent and the Grenadines', 'Samoa', 'Solomon Islands', 'Somalia', 'South Sudan', 'Syria', 'The Bahamas', 'Tonga', 'Vanuatu', 'World', 'Yemen', 'nan']"
      ]
     },
     "execution_count": 16,
     "metadata": {},
     "output_type": "execute_result"
    }
   ],
   "source": [
    "\n",
    "capitalism_country_list = capitalism_df['Country'].tolist()\n",
    "income_inequality_country_list = income_inequality_df['Country'].tolist()\n",
    "uncommon_country_list = list(set.symmetric_difference(set(capitalism_country_list),\n",
    "                                                      set(income_inequality_country_list)))\n",
    "sorted([str(cn) for cn in uncommon_country_list])"
   ]
  },
  {
   "cell_type": "code",
   "execution_count": 17,
   "metadata": {},
   "outputs": [
    {
     "name": "stdout",
     "output_type": "stream",
     "text": [
      "2.9209868907928467 Mon May 13 16:38:18 2019\n"
     ]
    },
    {
     "data": {
      "text/html": [
       "<div>\n",
       "<style scoped>\n",
       "    .dataframe tbody tr th:only-of-type {\n",
       "        vertical-align: middle;\n",
       "    }\n",
       "\n",
       "    .dataframe tbody tr th {\n",
       "        vertical-align: top;\n",
       "    }\n",
       "\n",
       "    .dataframe thead th {\n",
       "        text-align: right;\n",
       "    }\n",
       "</style>\n",
       "<table border=\"1\" class=\"dataframe\">\n",
       "  <thead>\n",
       "    <tr style=\"text-align: right;\">\n",
       "      <th></th>\n",
       "      <th>left_item</th>\n",
       "      <th>right_item</th>\n",
       "      <th>max_similarity</th>\n",
       "    </tr>\n",
       "  </thead>\n",
       "  <tbody>\n",
       "    <tr>\n",
       "      <th>72</th>\n",
       "      <td>Iraq</td>\n",
       "      <td>Iran</td>\n",
       "      <td>0.750000</td>\n",
       "    </tr>\n",
       "    <tr>\n",
       "      <th>153</th>\n",
       "      <td>Syria</td>\n",
       "      <td>Serbia</td>\n",
       "      <td>0.727273</td>\n",
       "    </tr>\n",
       "    <tr>\n",
       "      <th>142</th>\n",
       "      <td>Somalia</td>\n",
       "      <td>Romania</td>\n",
       "      <td>0.714286</td>\n",
       "    </tr>\n",
       "    <tr>\n",
       "      <th>91</th>\n",
       "      <td>Libya</td>\n",
       "      <td>Liberia</td>\n",
       "      <td>0.666667</td>\n",
       "    </tr>\n",
       "    <tr>\n",
       "      <th>144</th>\n",
       "      <td>South Sudan</td>\n",
       "      <td>South Korea</td>\n",
       "      <td>0.636364</td>\n",
       "    </tr>\n",
       "  </tbody>\n",
       "</table>\n",
       "</div>"
      ],
      "text/plain": [
       "       left_item   right_item  max_similarity\n",
       "72          Iraq         Iran        0.750000\n",
       "153        Syria       Serbia        0.727273\n",
       "142      Somalia      Romania        0.714286\n",
       "91         Libya      Liberia        0.666667\n",
       "144  South Sudan  South Korea        0.636364"
      ]
     },
     "execution_count": 17,
     "metadata": {},
     "output_type": "execute_result"
    }
   ],
   "source": [
    "\n",
    "capitalism_country_list = capitalism_df['Country'].tolist()\n",
    "income_inequality_country_list = income_inequality_df['Country'].tolist()\n",
    "typos_df = check_for_typos(income_inequality_country_list, capitalism_country_list)\n",
    "mask_series = (typos_df['max_similarity'] < 1.0)\n",
    "typos_df[mask_series].sort_values('max_similarity', ascending=False).head()"
   ]
  },
  {
   "cell_type": "code",
   "execution_count": 18,
   "metadata": {},
   "outputs": [
    {
     "data": {
      "text/html": [
       "<div>\n",
       "<style scoped>\n",
       "    .dataframe tbody tr th:only-of-type {\n",
       "        vertical-align: middle;\n",
       "    }\n",
       "\n",
       "    .dataframe tbody tr th {\n",
       "        vertical-align: top;\n",
       "    }\n",
       "\n",
       "    .dataframe thead th {\n",
       "        text-align: right;\n",
       "    }\n",
       "</style>\n",
       "<table border=\"1\" class=\"dataframe\">\n",
       "  <thead>\n",
       "    <tr style=\"text-align: right;\">\n",
       "      <th></th>\n",
       "      <th>120</th>\n",
       "      <th>125</th>\n",
       "      <th>126</th>\n",
       "      <th>141</th>\n",
       "      <th>49</th>\n",
       "      <th>147</th>\n",
       "      <th>133</th>\n",
       "      <th>52</th>\n",
       "      <th>7</th>\n",
       "      <th>29</th>\n",
       "    </tr>\n",
       "  </thead>\n",
       "  <tbody>\n",
       "    <tr>\n",
       "      <th>Rank</th>\n",
       "      <td>144</td>\n",
       "      <td>115</td>\n",
       "      <td>147</td>\n",
       "      <td>155</td>\n",
       "      <td>44</td>\n",
       "      <td>158</td>\n",
       "      <td>151</td>\n",
       "      <td>75</td>\n",
       "      <td>22</td>\n",
       "      <td>33</td>\n",
       "    </tr>\n",
       "    <tr>\n",
       "      <th>Country</th>\n",
       "      <td>Egypt</td>\n",
       "      <td>Sri Lanka</td>\n",
       "      <td>Ukraine</td>\n",
       "      <td>Iran</td>\n",
       "      <td>Cyprus</td>\n",
       "      <td>Togo</td>\n",
       "      <td>Niger</td>\n",
       "      <td>Morocco</td>\n",
       "      <td>Malaysia</td>\n",
       "      <td>Macedonia</td>\n",
       "    </tr>\n",
       "    <tr>\n",
       "      <th>Overall Capitalism</th>\n",
       "      <td>52.5</td>\n",
       "      <td>56.4</td>\n",
       "      <td>52.3</td>\n",
       "      <td>51.1</td>\n",
       "      <td>68.1</td>\n",
       "      <td>50.3</td>\n",
       "      <td>51.6</td>\n",
       "      <td>62.9</td>\n",
       "      <td>74</td>\n",
       "      <td>71.1</td>\n",
       "    </tr>\n",
       "    <tr>\n",
       "      <th>Change</th>\n",
       "      <td>-0.9</td>\n",
       "      <td>-1.4</td>\n",
       "      <td>0.4</td>\n",
       "      <td>0.2</td>\n",
       "      <td>0.3</td>\n",
       "      <td>2.5</td>\n",
       "      <td>2.1</td>\n",
       "      <td>1</td>\n",
       "      <td>-0.5</td>\n",
       "      <td>-0.2</td>\n",
       "    </tr>\n",
       "    <tr>\n",
       "      <th>UN R/P 10%</th>\n",
       "      <td>8</td>\n",
       "      <td>11.1</td>\n",
       "      <td>5.9</td>\n",
       "      <td>17.2</td>\n",
       "      <td>NaN</td>\n",
       "      <td>NaN</td>\n",
       "      <td>46</td>\n",
       "      <td>11.7</td>\n",
       "      <td>22.1</td>\n",
       "      <td>12.5</td>\n",
       "    </tr>\n",
       "    <tr>\n",
       "      <th>UN R/P 20%</th>\n",
       "      <td>4.6</td>\n",
       "      <td>6.8</td>\n",
       "      <td>3.5</td>\n",
       "      <td>7.2</td>\n",
       "      <td>5.3</td>\n",
       "      <td>9.7</td>\n",
       "      <td>5.4</td>\n",
       "      <td>7.4</td>\n",
       "      <td>11.2</td>\n",
       "      <td>7.3</td>\n",
       "    </tr>\n",
       "    <tr>\n",
       "      <th>World Bank Gini %</th>\n",
       "      <td>31.8</td>\n",
       "      <td>39.8</td>\n",
       "      <td>25.5</td>\n",
       "      <td>38.8</td>\n",
       "      <td>35.6</td>\n",
       "      <td>43</td>\n",
       "      <td>34</td>\n",
       "      <td>40.7</td>\n",
       "      <td>46.3</td>\n",
       "      <td>35.6</td>\n",
       "    </tr>\n",
       "    <tr>\n",
       "      <th>World Bank Gini Year</th>\n",
       "      <td>2015</td>\n",
       "      <td>2016</td>\n",
       "      <td>2015</td>\n",
       "      <td>2014</td>\n",
       "      <td>2014</td>\n",
       "      <td>2015</td>\n",
       "      <td>2014</td>\n",
       "      <td>2007</td>\n",
       "      <td>2009</td>\n",
       "      <td>2015</td>\n",
       "    </tr>\n",
       "    <tr>\n",
       "      <th>CIA R/P 10%</th>\n",
       "      <td>8</td>\n",
       "      <td>36.1</td>\n",
       "      <td>7.6</td>\n",
       "      <td>16.9</td>\n",
       "      <td>NaN</td>\n",
       "      <td>NaN</td>\n",
       "      <td>44.3</td>\n",
       "      <td>11.9</td>\n",
       "      <td>28</td>\n",
       "      <td>12.3</td>\n",
       "    </tr>\n",
       "    <tr>\n",
       "      <th>CIA R/P Year</th>\n",
       "      <td>2000</td>\n",
       "      <td>2003/04 FY</td>\n",
       "      <td>2006</td>\n",
       "      <td>1998</td>\n",
       "      <td>NaN</td>\n",
       "      <td>NaN</td>\n",
       "      <td>1995</td>\n",
       "      <td>1999</td>\n",
       "      <td>2003 est.</td>\n",
       "      <td>2003</td>\n",
       "    </tr>\n",
       "    <tr>\n",
       "      <th>CIA Gini %</th>\n",
       "      <td>30.8</td>\n",
       "      <td>49</td>\n",
       "      <td>28.2</td>\n",
       "      <td>44.5</td>\n",
       "      <td>32.4</td>\n",
       "      <td>NaN</td>\n",
       "      <td>34</td>\n",
       "      <td>40.9</td>\n",
       "      <td>46.2</td>\n",
       "      <td>43.6</td>\n",
       "    </tr>\n",
       "    <tr>\n",
       "      <th>CIA Gini Year</th>\n",
       "      <td>2008</td>\n",
       "      <td>2010</td>\n",
       "      <td>2009</td>\n",
       "      <td>2006</td>\n",
       "      <td>2013 est.</td>\n",
       "      <td>NaN</td>\n",
       "      <td>2007</td>\n",
       "      <td>2007 est.</td>\n",
       "      <td>2009</td>\n",
       "      <td>2013</td>\n",
       "    </tr>\n",
       "  </tbody>\n",
       "</table>\n",
       "</div>"
      ],
      "text/plain": [
       "                        120         125      126   141        49    147  \\\n",
       "Rank                    144         115      147   155         44   158   \n",
       "Country               Egypt   Sri Lanka  Ukraine  Iran     Cyprus  Togo   \n",
       "Overall Capitalism     52.5        56.4     52.3  51.1       68.1  50.3   \n",
       "Change                 -0.9        -1.4      0.4   0.2        0.3   2.5   \n",
       "UN R/P 10%                8        11.1      5.9  17.2        NaN   NaN   \n",
       "UN R/P 20%              4.6         6.8      3.5   7.2        5.3   9.7   \n",
       "World Bank Gini %      31.8        39.8     25.5  38.8       35.6    43   \n",
       "World Bank Gini Year   2015        2016     2015  2014       2014  2015   \n",
       "CIA R/P 10%               8        36.1      7.6  16.9        NaN   NaN   \n",
       "CIA R/P Year           2000  2003/04 FY     2006  1998        NaN   NaN   \n",
       "CIA Gini %             30.8          49     28.2  44.5       32.4   NaN   \n",
       "CIA Gini Year          2008        2010     2009  2006  2013 est.   NaN   \n",
       "\n",
       "                        133        52         7          29   \n",
       "Rank                    151         75         22         33  \n",
       "Country               Niger    Morocco   Malaysia  Macedonia  \n",
       "Overall Capitalism     51.6       62.9         74       71.1  \n",
       "Change                  2.1          1       -0.5       -0.2  \n",
       "UN R/P 10%               46       11.7       22.1       12.5  \n",
       "UN R/P 20%              5.4        7.4       11.2        7.3  \n",
       "World Bank Gini %        34       40.7       46.3       35.6  \n",
       "World Bank Gini Year   2014       2007       2009       2015  \n",
       "CIA R/P 10%            44.3       11.9         28       12.3  \n",
       "CIA R/P Year           1995       1999  2003 est.       2003  \n",
       "CIA Gini %               34       40.9       46.2       43.6  \n",
       "CIA Gini Year          2007  2007 est.       2009       2013  "
      ]
     },
     "execution_count": 18,
     "metadata": {},
     "output_type": "execute_result"
    }
   ],
   "source": [
    "\n",
    "merge_df = pd.merge(left=capitalism_df, right=income_inequality_df, how='inner', on=['Country'],\n",
    "                    suffixes=('_capitalism', '_income_inequality'))\n",
    "merge_df.sample(10).T"
   ]
  },
  {
   "cell_type": "code",
   "execution_count": 19,
   "metadata": {},
   "outputs": [],
   "source": [
    "\n",
    "# Explanatory variable\n",
    "xname = 'Overall Capitalism'\n",
    "\n",
    "# Response variable\n",
    "yname = 'World Bank Gini %'\n",
    "\n",
    "# Remove NaNs\n",
    "columns_list = ['Country', xname, yname]\n",
    "df = merge_df[columns_list].dropna()\n",
    "xdata = df[xname]\n",
    "ydata = df[yname]"
   ]
  },
  {
   "cell_type": "code",
   "execution_count": 20,
   "metadata": {},
   "outputs": [
    {
     "data": {
      "image/png": "[encoded data removed]",
      "text/plain": [
       "<Figure size 864x576 with 1 Axes>"
      ]
     },
     "metadata": {
      "needs_background": "light"
     },
     "output_type": "display_data"
    }
   ],
   "source": [
    "\n",
    "# First order (linear) scatterplot\n",
    "import matplotlib.pyplot as plt\n",
    "\n",
    "# Use the following only if you are on a high definition device\n",
    "from IPython.display import set_matplotlib_formats\n",
    "set_matplotlib_formats('retina')\n",
    "\n",
    "import seaborn as sns\n",
    "import random\n",
    "%matplotlib inline\n",
    "\n",
    "fig1_fig = plt.figure(figsize=(12,8))\n",
    "merge_axes_subplot = sns.regplot(x=xname, y=yname, scatter=True, data=df)\n",
    "xlabel_str = 'Overall Capitalism (explanatory variable)'\n",
    "xlabel_text = plt.xlabel(xlabel_str)\n",
    "ylabel_str = 'World Bank Gini % (response variable)'\n",
    "ylabel_text = plt.ylabel(ylabel_str)\n",
    "kwargs = dict(textcoords='offset points', ha='left', va='bottom',\n",
    "              bbox=dict(boxstyle='round,pad=0.5', fc='yellow', alpha=0.5),\n",
    "              arrowprops=dict(arrowstyle='->', connectionstyle='arc3,rad=0'))\n",
    "least_capitalist = xdata.min()\n",
    "most_capitalist = xdata.max()\n",
    "most_unequal = ydata.max()\n",
    "least_unequal = ydata.min()\n",
    "for label, x, y in zip(df['Country'], xdata, ydata):\n",
    "    if (x == least_capitalist):\n",
    "        annotation = plt.annotate('{} (least capitalist)'.format(label),\n",
    "                                  xy=(x, y), xytext=(40, 10), **kwargs)\n",
    "    elif (x == most_capitalist):\n",
    "        annotation = plt.annotate('{} (most capitalist)'.format(label),\n",
    "                                  xy=(x, y), xytext=(-120, 220), **kwargs)\n",
    "    elif (y == most_unequal):\n",
    "        annotation = plt.annotate('{} (most unequal)'.format(label),\n",
    "                                  xy=(x, y), xytext=(45, 0), **kwargs)\n",
    "    elif (y == least_unequal):\n",
    "        annotation = plt.annotate('{} (least unequal)'.format(label),\n",
    "                                  xy=(x, y), xytext=(-200, 0), **kwargs)\n",
    "    elif (label == 'United States'):\n",
    "        annotation = plt.annotate('{} (most evil)'.format(label),\n",
    "                                  xy=(x, y), xytext=(-75, 25), **kwargs)\n",
    "title_obj = fig1_fig.suptitle('\"Wealth inequality is huge in the capitalist societies\"',\n",
    "                              fontsize=24)"
   ]
  },
  {
   "cell_type": "code",
   "execution_count": 21,
   "metadata": {},
   "outputs": [
    {
     "name": "stdout",
     "output_type": "stream",
     "text": [
      "Pickling to C:\\Users\\dev\\Documents\\repositories\\notebooks\\Miscellaneous\\saves\\pickle\\capitalism_gini_df.pickle\n"
     ]
    }
   ],
   "source": [
    "\n",
    "import numpy as np\n",
    "import statsmodels.api as sm\n",
    "import statsmodels.formula.api as smf\n",
    "import matplotlib.pyplot as plt\n",
    "\n",
    "# Use the following only if you are on a high definition device\n",
    "from IPython.display import set_matplotlib_formats\n",
    "set_matplotlib_formats('retina')\n",
    "\n",
    "from statsmodels.regression.quantile_regression import QuantReg\n",
    "\n",
    "store_objects(capitalism_gini_df=merge_df)"
   ]
  },
  {
   "cell_type": "markdown",
   "metadata": {},
   "source": [
    "\n",
    "# Least Absolute Deviation\n",
    "\n",
    "The LAD model is a special case of quantile regression where q=0.5"
   ]
  },
  {
   "cell_type": "code",
   "execution_count": 22,
   "metadata": {},
   "outputs": [
    {
     "name": "stdout",
     "output_type": "stream",
     "text": [
      "                           QuantReg Regression Results                           \n",
      "=================================================================================\n",
      "Dep. Variable:     world_bank_gini_index   Pseudo R-squared:              0.07546\n",
      "Model:                          QuantReg   Bandwidth:                       7.707\n",
      "Method:                    Least Squares   Sparsity:                        21.88\n",
      "Date:                   Mon, 13 May 2019   No. Observations:                  154\n",
      "Time:                           16:38:25   Df Residuals:                      152\n",
      "                                           Df Model:                            1\n",
      "=================================================================================\n",
      "                    coef    std err          t      P>|t|      [0.025      0.975]\n",
      "---------------------------------------------------------------------------------\n",
      "Intercept        53.6164      5.648      9.493      0.000      42.458      64.775\n",
      "freedom_score    -0.2578      0.092     -2.813      0.006      -0.439      -0.077\n",
      "=================================================================================\n"
     ]
    }
   ],
   "source": [
    "\n",
    "merge_df.columns = ['capitalism_rank', 'country_name', 'freedom_score',\n",
    "                    'freedom_change_from_2018', 'un_10_percent_ratio', 'un_20_percent_ratio',\n",
    "                    'world_bank_gini_index', 'world_bank_gini year', 'cia_10_percent_ratio',\n",
    "                    'cia_percent_ratio_year', 'cia_gini_percent', 'cia_gini_year']\n",
    "explanatory_variable = 'freedom_score'\n",
    "response_variable = 'world_bank_gini_index'\n",
    "inequality_qr = smf.quantreg('{} ~ {}'.format(response_variable, explanatory_variable), merge_df)\n",
    "inequality_rrw = inequality_qr.fit(q=.5)\n",
    "print(inequality_rrw.summary())"
   ]
  },
  {
   "cell_type": "markdown",
   "metadata": {},
   "source": [
    "\n",
    "# Visualizing the results\n",
    "\n",
    "We estimate the quantile regression model for many quantiles between .05 and .95, and compare best fit line from each of these models to Ordinary Least Squares results.\n",
    "\n",
    "# Prepare data for plotting\n",
    "\n",
    "For convenience, we place the quantile regression results in a Pandas DataFrame, and the OLS results in a dictionary."
   ]
  },
  {
   "cell_type": "code",
   "execution_count": 23,
   "metadata": {},
   "outputs": [],
   "source": [
    "\n",
    "quantiles_ndarray = np.arange(.05, .96, .1)\n",
    "def fit_model(q):\n",
    "    rrw = inequality_qr.fit(q=q)\n",
    "    row_dict = {}\n",
    "    row_dict['quantile'] = q\n",
    "    row_dict['intercept'] = rrw.params['Intercept']\n",
    "    row_dict['slope'] = rrw.params[explanatory_variable]\n",
    "    conf_int_list = rrw.conf_int().loc[explanatory_variable].tolist()\n",
    "    row_dict['lower_bound'] = conf_int_list[0]\n",
    "    row_dict['upper_bound'] = conf_int_list[1]\n",
    "    \n",
    "    return row_dict\n",
    "            \n",
    "    \n",
    "models_list = [fit_model(x) for x in quantiles_ndarray]"
   ]
  },
  {
   "cell_type": "code",
   "execution_count": 24,
   "metadata": {},
   "outputs": [
    {
     "name": "stdout",
     "output_type": "stream",
     "text": [
      "{'intercept': 54.354020740713906, 'slope': -0.2566007888690859, 'lower_bound': -0.3890090690772592, 'upper_bound': -0.12419250866091255}\n"
     ]
    },
    {
     "data": {
      "text/html": [
       "<div>\n",
       "<style scoped>\n",
       "    .dataframe tbody tr th:only-of-type {\n",
       "        vertical-align: middle;\n",
       "    }\n",
       "\n",
       "    .dataframe tbody tr th {\n",
       "        vertical-align: top;\n",
       "    }\n",
       "\n",
       "    .dataframe thead th {\n",
       "        text-align: right;\n",
       "    }\n",
       "</style>\n",
       "<table border=\"1\" class=\"dataframe\">\n",
       "  <thead>\n",
       "    <tr style=\"text-align: right;\">\n",
       "      <th></th>\n",
       "      <th>quantile</th>\n",
       "      <th>intercept</th>\n",
       "      <th>slope</th>\n",
       "      <th>lower_bound</th>\n",
       "      <th>upper_bound</th>\n",
       "    </tr>\n",
       "  </thead>\n",
       "  <tbody>\n",
       "    <tr>\n",
       "      <th>0</th>\n",
       "      <td>0.05</td>\n",
       "      <td>31.530727</td>\n",
       "      <td>-0.076922</td>\n",
       "      <td>-0.227313</td>\n",
       "      <td>0.073468</td>\n",
       "    </tr>\n",
       "    <tr>\n",
       "      <th>1</th>\n",
       "      <td>0.15</td>\n",
       "      <td>46.416669</td>\n",
       "      <td>-0.261905</td>\n",
       "      <td>-0.421475</td>\n",
       "      <td>-0.102334</td>\n",
       "    </tr>\n",
       "    <tr>\n",
       "      <th>2</th>\n",
       "      <td>0.25</td>\n",
       "      <td>45.536250</td>\n",
       "      <td>-0.212500</td>\n",
       "      <td>-0.376600</td>\n",
       "      <td>-0.048400</td>\n",
       "    </tr>\n",
       "    <tr>\n",
       "      <th>3</th>\n",
       "      <td>0.35</td>\n",
       "      <td>50.198520</td>\n",
       "      <td>-0.251852</td>\n",
       "      <td>-0.419147</td>\n",
       "      <td>-0.084557</td>\n",
       "    </tr>\n",
       "    <tr>\n",
       "      <th>4</th>\n",
       "      <td>0.45</td>\n",
       "      <td>53.993220</td>\n",
       "      <td>-0.273870</td>\n",
       "      <td>-0.449398</td>\n",
       "      <td>-0.098341</td>\n",
       "    </tr>\n",
       "    <tr>\n",
       "      <th>5</th>\n",
       "      <td>0.55</td>\n",
       "      <td>57.524091</td>\n",
       "      <td>-0.299270</td>\n",
       "      <td>-0.480919</td>\n",
       "      <td>-0.117622</td>\n",
       "    </tr>\n",
       "    <tr>\n",
       "      <th>6</th>\n",
       "      <td>0.65</td>\n",
       "      <td>57.140006</td>\n",
       "      <td>-0.268085</td>\n",
       "      <td>-0.437342</td>\n",
       "      <td>-0.098829</td>\n",
       "    </tr>\n",
       "    <tr>\n",
       "      <th>7</th>\n",
       "      <td>0.75</td>\n",
       "      <td>56.722787</td>\n",
       "      <td>-0.215190</td>\n",
       "      <td>-0.398164</td>\n",
       "      <td>-0.032216</td>\n",
       "    </tr>\n",
       "    <tr>\n",
       "      <th>8</th>\n",
       "      <td>0.85</td>\n",
       "      <td>71.726499</td>\n",
       "      <td>-0.393574</td>\n",
       "      <td>-0.638788</td>\n",
       "      <td>-0.148361</td>\n",
       "    </tr>\n",
       "    <tr>\n",
       "      <th>9</th>\n",
       "      <td>0.95</td>\n",
       "      <td>75.042856</td>\n",
       "      <td>-0.362637</td>\n",
       "      <td>-0.667915</td>\n",
       "      <td>-0.057360</td>\n",
       "    </tr>\n",
       "  </tbody>\n",
       "</table>\n",
       "</div>"
      ],
      "text/plain": [
       "   quantile  intercept     slope  lower_bound  upper_bound\n",
       "0      0.05  31.530727 -0.076922    -0.227313     0.073468\n",
       "1      0.15  46.416669 -0.261905    -0.421475    -0.102334\n",
       "2      0.25  45.536250 -0.212500    -0.376600    -0.048400\n",
       "3      0.35  50.198520 -0.251852    -0.419147    -0.084557\n",
       "4      0.45  53.993220 -0.273870    -0.449398    -0.098341\n",
       "5      0.55  57.524091 -0.299270    -0.480919    -0.117622\n",
       "6      0.65  57.140006 -0.268085    -0.437342    -0.098829\n",
       "7      0.75  56.722787 -0.215190    -0.398164    -0.032216\n",
       "8      0.85  71.726499 -0.393574    -0.638788    -0.148361\n",
       "9      0.95  75.042856 -0.362637    -0.667915    -0.057360"
      ]
     },
     "execution_count": 24,
     "metadata": {},
     "output_type": "execute_result"
    }
   ],
   "source": [
    "\n",
    "models_df = pd.DataFrame(models_list, columns=['quantile', 'intercept', 'slope', 'lower_bound',\n",
    "                                               'upper_bound'])\n",
    "\n",
    "rrw = smf.ols('{} ~ {}'.format(response_variable, explanatory_variable), merge_df).fit()\n",
    "conf_int_list = rrw.conf_int().loc[explanatory_variable].tolist()\n",
    "ols_dict = dict(intercept=rrw.params['Intercept'], slope=rrw.params[explanatory_variable],\n",
    "           lower_bound=conf_int_list[0], upper_bound=conf_int_list[1])\n",
    "\n",
    "print(ols_dict)\n",
    "models_df"
   ]
  },
  {
   "cell_type": "markdown",
   "metadata": {},
   "source": [
    "\n",
    "# First plot\n",
    "\n",
    "This plot compares best fit lines for 10 quantile regression models to the least squares fit. We see that:\n",
    "\n",
    "1. Wealth inequality decreases with freedom\n",
    "2. The least squares estimates fit low inequality observations slightly poorly (i.e. the OLS line passes over low freedom countries)"
   ]
  },
  {
   "cell_type": "code",
   "execution_count": 25,
   "metadata": {},
   "outputs": [
    {
     "data": {
      "text/html": [
       "<div>\n",
       "<style scoped>\n",
       "    .dataframe tbody tr th:only-of-type {\n",
       "        vertical-align: middle;\n",
       "    }\n",
       "\n",
       "    .dataframe tbody tr th {\n",
       "        vertical-align: top;\n",
       "    }\n",
       "\n",
       "    .dataframe thead th {\n",
       "        text-align: right;\n",
       "    }\n",
       "</style>\n",
       "<table border=\"1\" class=\"dataframe\">\n",
       "  <thead>\n",
       "    <tr style=\"text-align: right;\">\n",
       "      <th></th>\n",
       "      <th>0</th>\n",
       "      <th>167</th>\n",
       "    </tr>\n",
       "  </thead>\n",
       "  <tbody>\n",
       "    <tr>\n",
       "      <th>capitalism_rank</th>\n",
       "      <td>1</td>\n",
       "      <td>180</td>\n",
       "    </tr>\n",
       "    <tr>\n",
       "      <th>country_name</th>\n",
       "      <td>Hong Kong</td>\n",
       "      <td>North Korea</td>\n",
       "    </tr>\n",
       "    <tr>\n",
       "      <th>freedom_score</th>\n",
       "      <td>90.2</td>\n",
       "      <td>5.9</td>\n",
       "    </tr>\n",
       "    <tr>\n",
       "      <th>freedom_change_from_2018</th>\n",
       "      <td>0</td>\n",
       "      <td>0.1</td>\n",
       "    </tr>\n",
       "    <tr>\n",
       "      <th>un_10_percent_ratio</th>\n",
       "      <td>17.8</td>\n",
       "      <td>NaN</td>\n",
       "    </tr>\n",
       "    <tr>\n",
       "      <th>un_20_percent_ratio</th>\n",
       "      <td>NaN</td>\n",
       "      <td>NaN</td>\n",
       "    </tr>\n",
       "    <tr>\n",
       "      <th>world_bank_gini_index</th>\n",
       "      <td>NaN</td>\n",
       "      <td>NaN</td>\n",
       "    </tr>\n",
       "    <tr>\n",
       "      <th>world_bank_gini year</th>\n",
       "      <td>NaN</td>\n",
       "      <td>NaN</td>\n",
       "    </tr>\n",
       "    <tr>\n",
       "      <th>cia_10_percent_ratio</th>\n",
       "      <td>NaN</td>\n",
       "      <td>NaN</td>\n",
       "    </tr>\n",
       "    <tr>\n",
       "      <th>cia_percent_ratio_year</th>\n",
       "      <td>NaN</td>\n",
       "      <td>NaN</td>\n",
       "    </tr>\n",
       "    <tr>\n",
       "      <th>cia_gini_percent</th>\n",
       "      <td>53.7</td>\n",
       "      <td>NaN</td>\n",
       "    </tr>\n",
       "    <tr>\n",
       "      <th>cia_gini_year</th>\n",
       "      <td>2011</td>\n",
       "      <td>NaN</td>\n",
       "    </tr>\n",
       "  </tbody>\n",
       "</table>\n",
       "</div>"
      ],
      "text/plain": [
       "                                0            167\n",
       "capitalism_rank                   1          180\n",
       "country_name              Hong Kong  North Korea\n",
       "freedom_score                  90.2          5.9\n",
       "freedom_change_from_2018          0          0.1\n",
       "un_10_percent_ratio            17.8          NaN\n",
       "un_20_percent_ratio             NaN          NaN\n",
       "world_bank_gini_index           NaN          NaN\n",
       "world_bank_gini year            NaN          NaN\n",
       "cia_10_percent_ratio            NaN          NaN\n",
       "cia_percent_ratio_year          NaN          NaN\n",
       "cia_gini_percent               53.7          NaN\n",
       "cia_gini_year                  2011          NaN"
      ]
     },
     "execution_count": 25,
     "metadata": {},
     "output_type": "execute_result"
    }
   ],
   "source": [
    "\n",
    "mask_series = (merge_df[explanatory_variable] == merge_df[explanatory_variable].min())\n",
    "mask_series = mask_series | (merge_df[explanatory_variable] == merge_df[explanatory_variable].max())\n",
    "merge_df[mask_series].T"
   ]
  },
  {
   "cell_type": "code",
   "execution_count": 26,
   "metadata": {},
   "outputs": [
    {
     "data": {
      "image/png": "[encoded data removed]",
      "text/plain": [
       "<Figure size 576x432 with 1 Axes>"
      ]
     },
     "metadata": {
      "needs_background": "light"
     },
     "output_type": "display_data"
    }
   ],
   "source": [
    "\n",
    "x = np.array([merge_df[explanatory_variable].min(), merge_df[explanatory_variable].max()])\n",
    "get_y = lambda intercept, slope: intercept + slope * x\n",
    "\n",
    "fig, ax = plt.subplots(figsize=(8, 6))\n",
    "\n",
    "for i in range(models_df.shape[0]):\n",
    "    y = get_y(models_df.loc[i, 'intercept'], models_df.loc[i, 'slope'])\n",
    "    ax.plot(x, y, linestyle='dotted',\n",
    "            label='{:.2} Quantile'.format(models_df.loc[i, 'quantile']))\n",
    "    \n",
    "y = get_y(ols_dict['intercept'], ols_dict['slope'])\n",
    "\n",
    "ax.plot(x, y, color='red', label='OLS')\n",
    "ax.scatter(merge_df[explanatory_variable], merge_df[response_variable], alpha=.2, label='Countries')\n",
    "legend = ax.legend()\n",
    "xlabel_text = ax.set_xlabel('Freedom Index (explanatory variable)', fontsize=16)\n",
    "ylabel_text = ax.set_ylabel('Gini Index (response variable)', fontsize=16)"
   ]
  },
  {
   "cell_type": "markdown",
   "metadata": {},
   "source": [
    "\n",
    "# Second plot\n",
    "\n",
    "The dotted black lines form 95% point-wise confidence band around 10 quantile regression estimates (solid black line). The red lines represent OLS regression results along with their 95% confindence interval.\n",
    "\n",
    "In only the low inequality observations do the quantile regression point estimates lie outside the OLS confidence interval, which suggests that the effect of freedom on inequality is mostly constant across the distribution."
   ]
  },
  {
   "cell_type": "code",
   "execution_count": 27,
   "metadata": {},
   "outputs": [
    {
     "data": {
      "image/png": "[encoded data removed]",
      "text/plain": [
       "<Figure size 432x288 with 1 Axes>"
      ]
     },
     "metadata": {
      "needs_background": "light"
     },
     "output_type": "display_data"
    }
   ],
   "source": [
    "\n",
    "n = models_df.shape[0]\n",
    "p1 = plt.plot(models_df['quantile'], models_df['slope'], color='black', label='Quantile Regression')\n",
    "p2 = plt.plot(models_df['quantile'], models_df['upper_bound'], linestyle='dotted', color='black',\n",
    "              label='Upper Bound')\n",
    "p3 = plt.plot(models_df['quantile'], models_df['lower_bound'], linestyle='dotted', color='black',\n",
    "              label='Lower Bound')\n",
    "\n",
    "slope = ols_dict['slope']\n",
    "p4 = plt.plot(models_df['quantile'], [slope] * n, color='red', label='OLS')\n",
    "\n",
    "lower_bound = ols_dict['lower_bound']\n",
    "p5 = plt.plot(models_df['quantile'], [lower_bound] * n, linestyle='dotted', color='red')\n",
    "\n",
    "upper_bound = ols_dict['upper_bound']\n",
    "p6 = plt.plot(models_df['quantile'], [upper_bound] * n, linestyle='dotted', color='red')\n",
    "\n",
    "plt.ylabel(r'$\\beta_{{{}}}$'.format(explanatory_variable))\n",
    "plt.xlabel('Quantiles of the conditional wealth inequality distribution')\n",
    "legend_obj = plt.legend(loc='lower left')"
   ]
  },
  {
   "cell_type": "code",
   "execution_count": 30,
   "metadata": {},
   "outputs": [
    {
     "data": {
      "application/javascript": [
       "var kernel = IPython.notebook.kernel;\n",
       "var body = document.body,  \n",
       "    attribs = body.attributes;\n",
       "var command = \"notebook_path = \" + \"'\"+attribs['data-notebook-path'].value+\"'\";\n",
       "kernel.execute(command);\n"
      ],
      "text/plain": [
       "<IPython.core.display.Javascript object>"
      ]
     },
     "metadata": {},
     "output_type": "display_data"
    }
   ],
   "source": [
    "%%javascript\n",
    "var kernel = IPython.notebook.kernel;\n",
    "var body = document.body,  \n",
    "    attribs = body.attributes;\n",
    "var command = \"notebook_path = \" + \"'\"+attribs['data-notebook-path'].value+\"'\";\n",
    "kernel.execute(command);"
   ]
  },
  {
   "cell_type": "code",
   "execution_count": 31,
   "metadata": {},
   "outputs": [
    {
     "data": {
      "text/html": [
       "Click <a href=\"https://nbviewer.jupyter.org/github/dbabbitt/notebooks/blob/master/Miscellaneous/ipynb/Income%20Inequality%20and%20Capitalism.ipynb\" target=\"_blank\">here</a> to view notebook in nbviewer."
      ],
      "text/plain": [
       "<IPython.core.display.HTML object>"
      ]
     },
     "execution_count": 31,
     "metadata": {},
     "output_type": "execute_result"
    }
   ],
   "source": [
    "# %load ../../load_magic/nbviewer.py\n",
    "\n",
    "from IPython.display import HTML\n",
    "\n",
    "notebook_viewer_url = 'https://nbviewer.jupyter.org/github/dbabbitt/notebooks/blob/master/'\n",
    "notebook_viewer_url += '/'.join(notebook_path.split('/')[1:])\n",
    "html_str = 'Click <a href=\"{}\" target=\"_blank\">here</a> to view notebook in nbviewer.'\n",
    "HTML(html_str.format(notebook_viewer_url))"
   ]
  },
  {
   "cell_type": "code",
   "execution_count": null,
   "metadata": {},
   "outputs": [],
   "source": []
  }
 ],
 "metadata": {
  "kernelspec": {
   "display_name": "Python 3",
   "language": "python",
   "name": "python3"
  },
  "language_info": {
   "codemirror_mode": {
    "name": "ipython",
    "version": 3
   },
   "file_extension": ".py",
   "mimetype": "text/x-python",
   "name": "python",
   "nbconvert_exporter": "python",
   "pygments_lexer": "ipython3",
   "version": "3.6.8"
  }
 },
 "nbformat": 4,
 "nbformat_minor": 2
}
