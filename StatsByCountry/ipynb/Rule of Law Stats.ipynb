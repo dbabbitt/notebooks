{
 "cells": [
  {
   "cell_type": "code",
   "execution_count": 1,
   "metadata": {},
   "outputs": [
    {
     "name": "stdout",
     "output_type": "stream",
     "text": [
      "Pretty printing has been turned OFF\n",
      "C:\\Users\\dev\\Documents\\repositories\\notebooks\\StatsByCountry\\ipynb\\Rule of Law Stats.ipynb\n",
      "data_folder: ../data/\n",
      "saves_folder: ../saves/\n",
      "['attempt_to_pickle', 'data_csv_folder', 'data_folder', 'encoding_type', 'load_csv', 'load_dataframes', 'load_object', 'save_dataframes', 'saves_csv_folder', 'saves_folder', 'saves_pickle_folder', 'store_objects']\n",
      "Config\t Storage\t csv\t example_iterrows\t get_column_descriptions\t get_max_rsquared_adj\t get_module_version\t get_notebook_path\t get_page_tables\t \n",
      "ipykernel\t json\t jupyter_config_dir\t math\t notebook_path\t notebookapp\t os\t pd\t pickle\t \n",
      "plt\t s\t show_linear_scatterplot\t sm\t sns\t stats\t sys\t urllib\t \n"
     ]
    }
   ],
   "source": [
    "\n",
    "%run ../../load_magic/storage.py\n",
    "%run ../../load_magic/dataframes.py\n",
    "%run ../../load_magic/environment.py\n",
    "%pprint\n",
    "notebook_path = get_notebook_path()\n",
    "print(notebook_path)\n",
    "s = Storage()\n",
    "print([fn for fn in dir(s) if not fn.startswith('_')])\n",
    "%who"
   ]
  },
  {
   "cell_type": "code",
   "execution_count": null,
   "metadata": {},
   "outputs": [],
   "source": [
    "\n",
    "# https://databank.worldbank.org/source/worldwide-governance-indicators\n",
    "csv_path = os.path.join(DATA_CSV_FOLDER, 'Data.csv')\n",
    "governance_df = pd.read_csv(csv_path, encoding=ENCODING_TYPE, low_memory=False)\n",
    "governance_df.columns = ['Country', 'Country_Code', 'Series_Name', 'Series_Code', 1996, 1998, 2000, 2002, 2003, 2004, 2005, 2006, 2007, 2008,\n",
    "                         2009, 2010, 2011, 2012, 2013, 2014, 2015, 2016, 2017, 2018]"
   ]
  },
  {
   "cell_type": "code",
   "execution_count": null,
   "metadata": {},
   "outputs": [],
   "source": [
    "\n",
    "match_series = (governance_df['Country'] == 'Iran, Islamic Rep.')\n",
    "governance_df.loc[match_series, 'Country'] = 'Iran'"
   ]
  },
  {
   "cell_type": "code",
   "execution_count": null,
   "metadata": {},
   "outputs": [],
   "source": [
    "\n",
    "match_series = (governance_df['Country'] == 'Egypt, Arab Rep.')\n",
    "governance_df.loc[match_series, 'Country'] = 'Egypt'"
   ]
  },
  {
   "cell_type": "code",
   "execution_count": null,
   "metadata": {},
   "outputs": [],
   "source": [
    "\n",
    "match_series = (governance_df['Country'] == 'Venezuela, RB')\n",
    "governance_df.loc[match_series, 'Country'] = 'Venezuela'"
   ]
  },
  {
   "cell_type": "code",
   "execution_count": null,
   "metadata": {},
   "outputs": [],
   "source": [
    "\n",
    "match_series = (governance_df['Country'] == 'Syrian Arab Republic')\n",
    "governance_df.loc[match_series, 'Country'] = 'Syria'"
   ]
  },
  {
   "cell_type": "code",
   "execution_count": null,
   "metadata": {},
   "outputs": [],
   "source": [
    "\n",
    "match_series = (governance_df['Country'] == 'Yemen, Rep.')\n",
    "governance_df.loc[match_series, 'Country'] = 'Yemen'"
   ]
  },
  {
   "cell_type": "code",
   "execution_count": null,
   "metadata": {},
   "outputs": [],
   "source": [
    "\n",
    "governance_df.set_index('Country', inplace=True)"
   ]
  },
  {
   "cell_type": "code",
   "execution_count": null,
   "metadata": {},
   "outputs": [],
   "source": [
    "\n",
    "country = 'Nigeria'\n",
    "year = 2015\n",
    "match_series = (governance_df.index == country)\n",
    "df = governance_df[match_series][[year]]\n",
    "df.index = governance_df[match_series]['Series_Code']\n",
    "df.sample(5).to_dict()[year]"
   ]
  },
  {
   "cell_type": "code",
   "execution_count": null,
   "metadata": {},
   "outputs": [],
   "source": [
    "\n",
    "gun_stats_df = load_object('gun_stats_df')"
   ]
  },
  {
   "cell_type": "code",
   "execution_count": null,
   "metadata": {},
   "outputs": [],
   "source": [
    "\n",
    "gun_stats_df.sample(8).T"
   ]
  },
  {
   "cell_type": "code",
   "execution_count": null,
   "metadata": {},
   "outputs": [],
   "source": [
    "\n",
    "set(governance_df.index.unique().tolist()) - set(gun_stats_df.index.unique().tolist())"
   ]
  },
  {
   "cell_type": "code",
   "execution_count": null,
   "metadata": {},
   "outputs": [],
   "source": [
    "\n",
    "set(gun_stats_df.index.unique().tolist()) - set(governance_df.index.unique().tolist())"
   ]
  },
  {
   "cell_type": "code",
   "execution_count": null,
   "metadata": {},
   "outputs": [],
   "source": [
    "\n",
    "%run ../../load_magic/lists.py"
   ]
  },
  {
   "cell_type": "code",
   "execution_count": null,
   "metadata": {},
   "outputs": [],
   "source": [
    "\n",
    "typos_df = check_for_typos(left_list=governance_df.index.unique().tolist(), right_list=gun_stats_df.index.unique().tolist())\n",
    "match_series = (typos_df['max_similarity'] < 1.0)\n",
    "typos_df[match_series].sort_values('max_similarity', ascending=False).head(10)"
   ]
  },
  {
   "cell_type": "code",
   "execution_count": null,
   "metadata": {},
   "outputs": [],
   "source": [
    "\n",
    "sc_list = ['_'.join(sc.split('.')) for sc in governance_df['Series_Code'].unique().tolist() if sc is not pd.np.nan]\n",
    "merge_df = pd.concat(\n",
    "    [\n",
    "        gun_stats_df,\n",
    "        pd.DataFrame(\n",
    "            [[pd.np.nan] * len(sc_list)], \n",
    "            index=gun_stats_df.index, \n",
    "            columns=sc_list\n",
    "        )\n",
    "    ], axis=1\n",
    ")\n",
    "for country, row_series in merge_df.iterrows():\n",
    "    year = row_series['Year_listed']\n",
    "    match_series = (governance_df.index == country)\n",
    "    df = governance_df[match_series][[year]]\n",
    "    if df.shape[0] > 0:\n",
    "        df.index = governance_df[match_series]['Series_Code']\n",
    "\n",
    "        # Get input row in dictionary format; key = col_name\n",
    "        row_dict = df.to_dict()[year]\n",
    "\n",
    "        for column_name in sc_list:\n",
    "            merge_df.loc[country, column_name] = row_dict['.'.join(column_name.split('_'))]\n",
    "        \n",
    "merge_df.sample(n=5).T.sample(n=8).T"
   ]
  },
  {
   "cell_type": "code",
   "execution_count": null,
   "metadata": {},
   "outputs": [],
   "source": [
    "\n",
    "[fn for fn in dir(governance_df) if ('dup' in fn.lower()) or ('unique' in fn.lower())]"
   ]
  },
  {
   "cell_type": "code",
   "execution_count": null,
   "metadata": {},
   "outputs": [],
   "source": [
    "\n",
    "[fn for fn in dir(governance_df) if ('index' in fn.lower())]"
   ]
  },
  {
   "cell_type": "code",
   "execution_count": null,
   "metadata": {},
   "outputs": [],
   "source": [
    "\n",
    "capitalism_gini_df = load_object('capitalism_gini_df')\n",
    "capitalism_gini_df.columns.tolist()"
   ]
  },
  {
   "cell_type": "code",
   "execution_count": null,
   "metadata": {},
   "outputs": [],
   "source": [
    "\n",
    "csv_path = os.path.join(DATA_CSV_FOLDER, 'income_df.csv')\n",
    "income_df = pd.read_csv(csv_path, encoding=ENCODING_TYPE, low_memory=False)\n",
    "match_series = (income_df['Country'] == 'Central African Rep.')\n",
    "income_df.loc[match_series, 'Country'] = 'Central African Republic'\n",
    "match_series = (income_df['Country'] == 'Dominican Rep.')\n",
    "income_df.loc[match_series, 'Country'] = 'Dominican Republic'\n",
    "match_series = (income_df['Country'] == 'Czech Rep.')\n",
    "income_df.loc[match_series, 'Country'] = 'Czech Republic'\n",
    "income_df.set_index('Country', inplace=True)\n",
    "income_df.columns = [int(cn) for cn in income_df.columns.tolist()]"
   ]
  },
  {
   "cell_type": "code",
   "execution_count": null,
   "metadata": {},
   "outputs": [],
   "source": [
    "\n",
    "set(merge_df.index.unique().tolist()) - set(income_df.index.unique().tolist())"
   ]
  },
  {
   "cell_type": "code",
   "execution_count": null,
   "metadata": {},
   "outputs": [],
   "source": [
    "\n",
    "set(income_df.index.unique().tolist()) - set(merge_df.index.unique().tolist())"
   ]
  },
  {
   "cell_type": "code",
   "execution_count": null,
   "metadata": {},
   "outputs": [],
   "source": [
    "\n",
    "typos_df = check_for_typos(left_list=merge_df.index.unique().tolist(), right_list=income_df.index.unique().tolist())\n",
    "match_series = (typos_df['max_similarity'] < 1.0)\n",
    "typos_df[match_series].sort_values('max_similarity', ascending=False).head(10)"
   ]
  },
  {
   "cell_type": "code",
   "execution_count": null,
   "metadata": {},
   "outputs": [],
   "source": [
    "\n",
    "income_df.sample(n=5).T.sample(n=8).T"
   ]
  },
  {
   "cell_type": "code",
   "execution_count": null,
   "metadata": {},
   "outputs": [],
   "source": [
    "\n",
    "merge_df.columns.tolist()"
   ]
  },
  {
   "cell_type": "code",
   "execution_count": null,
   "metadata": {},
   "outputs": [],
   "source": [
    "\n",
    "year = 1982\n",
    "country = 'Uganda'\n",
    "income_df.loc[country, year]"
   ]
  },
  {
   "cell_type": "code",
   "execution_count": null,
   "metadata": {},
   "outputs": [],
   "source": [
    "\n",
    "gdp_df.loc[country, 'GDP_per_capita'] = income_df.loc[country, year]\n",
    "gdp_df.loc[country, 'GDP_per_capita']"
   ]
  },
  {
   "cell_type": "code",
   "execution_count": null,
   "metadata": {},
   "outputs": [],
   "source": [
    "\n",
    "gdp_df = pd.concat(\n",
    "    [\n",
    "        merge_df,\n",
    "        pd.DataFrame(\n",
    "            [], \n",
    "            index=merge_df.index, \n",
    "            columns=['GDP_per_capita']\n",
    "        )\n",
    "    ], axis=1\n",
    ")\n",
    "for country, row_series in merge_df.iterrows():\n",
    "    year = row_series['Year_listed']\n",
    "    if country in income_df.index:\n",
    "        gdp_df.loc[country, 'GDP_per_capita'] = income_df.loc[country, year]\n",
    "        \n",
    "gdp_df['GDP_per_capita'].unique().tolist()"
   ]
  },
  {
   "cell_type": "code",
   "execution_count": null,
   "metadata": {},
   "outputs": [],
   "source": [
    "\n",
    "columns_list = [cn for cn in governance_df['Series_Name'].unique().tolist() if 'Rule of Law' in str(cn)]\n",
    "match_series = (governance_df['Series_Name'].isin(columns_list))\n",
    "columns_list = ['Series_Name', 'Series_Code']\n",
    "values_list = governance_df[match_series][columns_list].drop_duplicates().reset_index(drop=True).values\n",
    "RoL_dict = {item[0]:'_'.join(item[1].split('.')) for item in values_list}"
   ]
  },
  {
   "cell_type": "code",
   "execution_count": null,
   "metadata": {},
   "outputs": [],
   "source": [
    "\n",
    "import matplotlib.pyplot as plt\n",
    "import seaborn as sns\n",
    "\n",
    "explanatory_variable = 'Rule of Law: Percentile Rank'\n",
    "ev_column_name = RoL_dict[explanatory_variable]\n",
    "response_variable = 'GDP per Capita'\n",
    "rv_column_name = 'GDP_per_capita'\n",
    "fc_colunm_name = 'Region_code'\n",
    "ev_column_name"
   ]
  },
  {
   "cell_type": "code",
   "execution_count": null,
   "metadata": {},
   "outputs": [],
   "source": [
    "\n",
    "columns_list = [ev_column_name, rv_column_name]\n",
    "gdp_df[columns_list].sample(n=5)"
   ]
  },
  {
   "cell_type": "code",
   "execution_count": null,
   "metadata": {},
   "outputs": [],
   "source": [
    "\n",
    "[idx for idx in gdp_df.index if 'United' in idx]"
   ]
  },
  {
   "cell_type": "code",
   "execution_count": null,
   "metadata": {},
   "outputs": [],
   "source": [
    "\n",
    "[cn for cn in gdp_df.columns if 'region' in cn.lower()]"
   ]
  },
  {
   "cell_type": "code",
   "execution_count": null,
   "metadata": {},
   "outputs": [],
   "source": [
    "\n",
    "sorted(gdp_df['Subregion_code'].unique().tolist())"
   ]
  },
  {
   "cell_type": "code",
   "execution_count": null,
   "metadata": {},
   "outputs": [],
   "source": [
    "\n",
    "import matplotlib.colors as mcolors\n",
    "\n",
    "bc_list = list(mcolors.BASE_COLORS.keys())\n",
    "[bc_list[rc] for rc in sorted(gdp_df['Region_code'].unique().tolist())]"
   ]
  },
  {
   "cell_type": "code",
   "execution_count": null,
   "metadata": {},
   "outputs": [],
   "source": [
    "\n",
    "%matplotlib inline\n",
    "fig1_fig = plt.figure(figsize=(12,8))\n",
    "columns_list = [ev_column_name, rv_column_name, fc_colunm_name]\n",
    "df = gdp_df[columns_list].dropna()\n",
    "scatter_kws = dict(facecolors=[bc_list[rc] for rc in df[fc_colunm_name].tolist()])\n",
    "\n",
    "# First order (linear) scatterplot\n",
    "merge_axes_subplot = sns.regplot(x=ev_column_name, y=rv_column_name,\n",
    "                                 scatter=True, data=df, scatter_kws=scatter_kws)\n",
    "xlabel_text = plt.xlabel('{} (explanatory variable)'.format(explanatory_variable))\n",
    "ylabel_text = plt.ylabel('{} (response variable)'.format(response_variable))\n",
    "kwargs = dict(textcoords='offset points', ha='left', va='bottom',\n",
    "              bbox=dict(boxstyle='round,pad=0.5', fc='yellow', alpha=0.5),\n",
    "              arrowprops=dict(arrowstyle='->', connectionstyle='arc3,rad=0'))\n",
    "most_lawful = df[ev_column_name].max()\n",
    "most_lawless = df[ev_column_name].min()\n",
    "poorest = df[rv_column_name].min()\n",
    "richest = df[rv_column_name].max()\n",
    "for label, x, y in zip(df.index, df[ev_column_name], df[rv_column_name]):\n",
    "    if (x == most_lawful):\n",
    "        annotation = plt.annotate('{} (most lawful)'.format(label), xy=(x, y), xytext=(-85, -40), **kwargs)\n",
    "    elif (x == most_lawless):\n",
    "        annotation = plt.annotate('{} (most lawless)'.format(label), xy=(x, y), xytext=(0, 90), **kwargs)\n",
    "    elif (y == poorest):\n",
    "        annotation = plt.annotate('{} (poorest)'.format(label), xy=(x, y), xytext=(0, -50), **kwargs)\n",
    "    elif (y == richest):\n",
    "        annotation = plt.annotate('{} (richest)'.format(label), xy=(x, y), xytext=(0, -50), **kwargs)\n",
    "    elif (label == 'United States'):\n",
    "        annotation = plt.annotate('{} (most evil)'.format(label), xy=(x, y), xytext=(-90, 40), **kwargs)"
   ]
  },
  {
   "cell_type": "code",
   "execution_count": null,
   "metadata": {},
   "outputs": [],
   "source": [
    "\n",
    "def show_linear_scatterplot(df, basecolor_list, ev_column_name, rv_column_name, fc_colunm_name,\n",
    "                            explanatory_variable, response_variable,\n",
    "                            ev_min_str='most lawless', ev_max_str='most lawful', rv_min_str='poorest', rv_max_str='richest',\n",
    "                            ev_min_xytext=(0, 90), ev_max_xytext=(-85, -40), rv_min_xytext=(0, -50), rv_max_xytext=(0, -50),\n",
    "                            us_xytext=(-90, 40)):\n",
    "    fig1_fig = plt.figure(figsize=(12,8))\n",
    "    columns_list = [ev_column_name, rv_column_name, fc_colunm_name]\n",
    "    df = df[columns_list].dropna()\n",
    "    scatter_kws = dict(facecolors=[basecolor_list[rc] for rc in df[fc_colunm_name].tolist()])\n",
    "\n",
    "    # First order (linear) scatterplot\n",
    "    merge_axes_subplot = sns.regplot(x=ev_column_name, y=rv_column_name,\n",
    "                                     scatter=True, data=df, scatter_kws=scatter_kws)\n",
    "    xlabel_text = plt.xlabel('{} (explanatory variable)'.format(explanatory_variable))\n",
    "    ylabel_text = plt.ylabel('{} (response variable)'.format(response_variable))\n",
    "    kwargs = dict(textcoords='offset points', ha='left', va='bottom',\n",
    "                  bbox=dict(boxstyle='round,pad=0.5', fc='yellow', alpha=0.5),\n",
    "                  arrowprops=dict(arrowstyle='->', connectionstyle='arc3,rad=0'))\n",
    "    ev_max = df[ev_column_name].max()\n",
    "    ev_min = df[ev_column_name].min()\n",
    "    rv_min = df[rv_column_name].min()\n",
    "    rv_max = df[rv_column_name].max()\n",
    "    for label, x, y in zip(df.index, df[ev_column_name], df[rv_column_name]):\n",
    "        if (x == ev_min):\n",
    "            annotation = plt.annotate('{} ({})'.format(label, ev_min_str), xy=(x, y), xytext=ev_min_xytext, **kwargs)\n",
    "        elif (x == ev_max):\n",
    "            annotation = plt.annotate('{} ({})'.format(label, ev_max_str), xy=(x, y), xytext=ev_max_xytext, **kwargs)\n",
    "        elif (y == rv_min):\n",
    "            annotation = plt.annotate('{} ({})'.format(label, rv_min_str), xy=(x, y), xytext=rv_min_xytext, **kwargs)\n",
    "        elif (y == rv_max):\n",
    "            annotation = plt.annotate('{} ({})'.format(label, rv_max_str), xy=(x, y), xytext=rv_max_xytext, **kwargs)\n",
    "        elif (label == 'United States'):\n",
    "            annotation = plt.annotate('{} (most evil)'.format(label), xy=(x, y), xytext=us_xytext, **kwargs)\n",
    "show_linear_scatterplot(df=gdp_df, basecolor_list=bc_list, ev_column_name='RL_PER_RNK', rv_column_name='GDP_per_capita',\n",
    "                        fc_colunm_name='Region_code', explanatory_variable='Rule of Law: Percentile Rank',\n",
    "                        response_variable='GDP per Capita', ev_min_str='most lawless', ev_max_str='most lawful',\n",
    "                        rv_min_str='poorest', rv_max_str='richest', ev_min_xytext=(0, 90), ev_max_xytext=(-85, -40),\n",
    "                        rv_min_xytext=(0, -50), rv_max_xytext=(0, -50), us_xytext=(-90, 40))"
   ]
  },
  {
   "cell_type": "code",
   "execution_count": null,
   "metadata": {},
   "outputs": [],
   "source": [
    "\n",
    "show_linear_scatterplot(df=gdp_df, basecolor_list=bc_list, ev_column_name='RL_PER_RNK', rv_column_name='Guns_per_100_residents',\n",
    "                        fc_colunm_name='Region_code', explanatory_variable='Rule of Law: Percentile Rank',\n",
    "                        response_variable='Guns per 100 Residents', ev_min_str='most lawless', ev_max_str='most lawful',\n",
    "                        rv_min_str='least gun nutty', rv_max_str='most gun nutty', ev_min_xytext=(5, 50), ev_max_xytext=(-135, -20),\n",
    "                        rv_min_xytext=(0, -20), rv_max_xytext=(-100, -50), us_xytext=(-90, 40))"
   ]
  },
  {
   "cell_type": "code",
   "execution_count": null,
   "metadata": {},
   "outputs": [],
   "source": [
    "\n",
    "df = gdp_df.copy()\n",
    "basecolor_list = bc_list\n",
    "ev_column_name = 'RL_PER_RNK'\n",
    "rv_column_name = 'Guns_per_100_residents'\n",
    "fc_colunm_name = 'Region_code'\n",
    "explanatory_variable = 'Rule of Law: Percentile Rank'\n",
    "response_variable = 'Guns per 100 Residents'\n",
    "ev_min_str = 'most lawless'\n",
    "ev_max_str = 'most lawful'\n",
    "rv_min_str = 'least gun nutty'\n",
    "rv_max_str = 'most gun nutty'\n",
    "ev_min_xytext = (5, 50)\n",
    "ev_max_xytext = (-135, -20)\n",
    "rv_min_xytext = (0, -20)\n",
    "rv_max_xytext = (-100, -50)\n",
    "us_xytext = (-90, 40)\n",
    "\n",
    "fig1_fig = plt.figure(figsize=(12,8))\n",
    "columns_list = [ev_column_name, rv_column_name, fc_colunm_name]\n",
    "df = df[columns_list].dropna()\n",
    "scatter_kws = dict(facecolors=[basecolor_list[rc] for rc in df[fc_colunm_name].tolist()])\n",
    "\n",
    "# First order (linear) scatterplot\n",
    "merge_axes_subplot = sns.regplot(x=ev_column_name, y=rv_column_name,\n",
    "                                 scatter=True, data=df, scatter_kws=scatter_kws)\n",
    "xlabel_text = plt.xlabel('{} (explanatory variable)'.format(explanatory_variable))\n",
    "ylabel_text = plt.ylabel('{} (response variable)'.format(response_variable))\n",
    "kwargs = dict(textcoords='offset points', ha='left', va='bottom',\n",
    "              bbox=dict(boxstyle='round,pad=0.5', fc='yellow', alpha=0.5),\n",
    "              arrowprops=dict(arrowstyle='->', connectionstyle='arc3,rad=0'))\n",
    "ev_max = df[ev_column_name].max()\n",
    "ev_min = df[ev_column_name].min()\n",
    "rv_min = df[rv_column_name].min()\n",
    "rv_max = df[rv_column_name].max()\n",
    "for label, x, y in zip(df.index, df[ev_column_name], df[rv_column_name]):\n",
    "    if (x == ev_min):\n",
    "        annotation = plt.annotate('{} ({})'.format(label, ev_min_str), xy=(x, y), xytext=ev_min_xytext, **kwargs)\n",
    "    elif (x == ev_max):\n",
    "        annotation = plt.annotate('{} ({})'.format(label, ev_max_str), xy=(x, y), xytext=ev_max_xytext, **kwargs)\n",
    "    elif (y == rv_min):\n",
    "        annotation = plt.annotate('{} ({})'.format(label, rv_min_str), xy=(x, y), xytext=rv_min_xytext, **kwargs)\n",
    "    elif (y == rv_max):\n",
    "        annotation = plt.annotate('{} ({})'.format(label, rv_max_str), xy=(x, y), xytext=rv_max_xytext, **kwargs)\n",
    "    elif (y >= 36):\n",
    "        annotation = plt.annotate('{} (pretty gun nutty)'.format(label), xy=(x, y), xytext=(-50, 50), **kwargs)\n",
    "    elif (label == 'United States'):\n",
    "        annotation = plt.annotate('{} (most evil)'.format(label), xy=(x, y), xytext=us_xytext, **kwargs)"
   ]
  },
  {
   "cell_type": "code",
   "execution_count": null,
   "metadata": {},
   "outputs": [],
   "source": [
    "\n",
    "store_objects(RoL_df=RoL_df, capitalism_gini_df=capitalism_gini_df, gdp_df=gdp_df, governance_df=governance_df,\n",
    "              gun_stats_df=gun_stats_df, income_df=income_df, merge_df=merge_df, typos_df=typos_df)"
   ]
  },
  {
   "cell_type": "code",
   "execution_count": null,
   "metadata": {},
   "outputs": [],
   "source": [
    "\n",
    "dir(merge_axes_subplot)"
   ]
  },
  {
   "cell_type": "code",
   "execution_count": null,
   "metadata": {},
   "outputs": [],
   "source": [
    "\n",
    "merge_axes_subplot.acorr?"
   ]
  },
  {
   "cell_type": "code",
   "execution_count": null,
   "metadata": {},
   "outputs": [],
   "source": [
    "\n",
    "dir(merge_axes_subplot.collections[1])"
   ]
  },
  {
   "cell_type": "code",
   "execution_count": null,
   "metadata": {},
   "outputs": [],
   "source": [
    "\n",
    "merge_axes_subplot.properties()"
   ]
  },
  {
   "cell_type": "code",
   "execution_count": null,
   "metadata": {},
   "outputs": [],
   "source": [
    "\n",
    "RoL_dict"
   ]
  },
  {
   "cell_type": "code",
   "execution_count": null,
   "metadata": {},
   "outputs": [],
   "source": [
    "\n",
    "%who"
   ]
  },
  {
   "cell_type": "code",
   "execution_count": null,
   "metadata": {},
   "outputs": [],
   "source": [
    "\n",
    "RoL_df.columns"
   ]
  },
  {
   "cell_type": "code",
   "execution_count": null,
   "metadata": {},
   "outputs": [],
   "source": [
    "\n",
    "columns_list = ['Series Name', 'Series Code']\n",
    "values_list = RoL_df[columns_list].drop_duplicates().reset_index(drop=True).values\n",
    "column_description_dict = {'_'.join(str(item[1]).split('.')):item[0] for item in values_list}\n",
    "store_objects(RoL_dict=RoL_dict, column_description_dict=column_description_dict)"
   ]
  },
  {
   "cell_type": "code",
   "execution_count": null,
   "metadata": {},
   "outputs": [],
   "source": []
  }
 ],
 "metadata": {
  "kernelspec": {
   "display_name": "Python 3",
   "language": "python",
   "name": "python3"
  },
  "language_info": {
   "codemirror_mode": {
    "name": "ipython",
    "version": 3
   },
   "file_extension": ".py",
   "mimetype": "text/x-python",
   "name": "python",
   "nbconvert_exporter": "python",
   "pygments_lexer": "ipython3",
   "version": "3.6.8"
  }
 },
 "nbformat": 4,
 "nbformat_minor": 2
}
