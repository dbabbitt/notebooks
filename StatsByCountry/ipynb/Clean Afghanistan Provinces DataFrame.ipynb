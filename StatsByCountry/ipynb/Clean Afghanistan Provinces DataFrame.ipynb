{
 "cells": [
  {
   "cell_type": "code",
   "execution_count": null,
   "metadata": {},
   "outputs": [],
   "source": []
  },
  {
   "cell_type": "code",
   "execution_count": 1,
   "metadata": {},
   "outputs": [],
   "source": [
    "\n",
    "import sys\n",
    "\n",
    "# Insert at 1, 0 is the script path (or '' in REPL)\n",
    "sys.path.insert(1, '../py')"
   ]
  },
  {
   "cell_type": "code",
   "execution_count": 2,
   "metadata": {},
   "outputs": [
    {
     "name": "stdout",
     "output_type": "stream",
     "text": [
      "Pretty printing has been turned OFF\n",
      "D:\\Documents\\Repositories\\notebooks\\StatsByCountry\\ipynb\\Clean Afghanistan Provinces DataFrame.ipynb\n",
      "['s.attempt_to_pickle', 's.data_csv_folder', 's.data_folder', 's.encoding_type', 's.load_csv', 's.load_dataframes', 's.load_object', 's.save_dataframes', 's.saves_csv_folder', 's.saves_folder', 's.saves_pickle_folder', 's.store_objects']\n"
     ]
    },
    {
     "data": {
      "text/plain": [
       "['Config', 'In', 'Out', 'RandomForestClassifier', 'SequenceMatcher', '_', '__', '___', '__builtin__', '__builtins__', '__doc__', '__loader__', '__name__', '__nonzero__', '__package__', '__spec__', '_dh', '_i', '_i1', '_i2', '_ih', '_ii', '_iii', '_oh', 'check_4_doubles', 'check_for_typos', 'conjunctify_list', 'encoding', 'example_iterrows', 'exit', 'filepath_regex', 'get_classifier', 'get_column_descriptions', 'get_data_structs_df', 'get_datastructure_prediction', 'get_dir_tree', 'get_importances', 'get_input_sample', 'get_ipython', 'get_max_rsquared_adj', 'get_module_version', 'get_notebook_path', 'get_page_tables', 'get_struct_name', 'io', 'ipykernel', 'json', 'jupyter_config_dir', 'math', 'notebook_path', 'notebookapp', 'np', 'os', 'pd', 'plt', 'preprocess_data', 'quit', 're', 's', 'similar', 'sm', 'sns', 'stats', 'storage', 'sys', 'text_editor_path', 'time', 'url_regex', 'urllib']"
      ]
     },
     "execution_count": 2,
     "metadata": {},
     "output_type": "execute_result"
    }
   ],
   "source": [
    "\n",
    "import storage\n",
    "import numpy as np\n",
    "%run ../../load_magic/environment.py\n",
    "%run ../../load_magic/dataframes.py\n",
    "%run ../../load_magic/lists.py\n",
    "%pprint\n",
    "\n",
    "notebook_path = get_notebook_path()\n",
    "print(notebook_path)\n",
    "s = storage.Storage()\n",
    "print(['s.{}'.format(fn) for fn in dir(s) if not fn.startswith('_')])\n",
    "text_editor_path = r'C:\\Program Files\\Notepad++\\notepad++.exe'\n",
    "dir()"
   ]
  },
  {
   "cell_type": "code",
   "execution_count": 3,
   "metadata": {},
   "outputs": [],
   "source": [
    "\n",
    "afghanistan_provinces_df = s.load_object('afghanistan_provinces_df')"
   ]
  },
  {
   "cell_type": "code",
   "execution_count": 4,
   "metadata": {},
   "outputs": [
    {
     "data": {
      "text/html": [
       "<div>\n",
       "<style scoped>\n",
       "    .dataframe tbody tr th:only-of-type {\n",
       "        vertical-align: middle;\n",
       "    }\n",
       "\n",
       "    .dataframe tbody tr th {\n",
       "        vertical-align: top;\n",
       "    }\n",
       "\n",
       "    .dataframe thead th {\n",
       "        text-align: right;\n",
       "    }\n",
       "</style>\n",
       "<table border=\"1\" class=\"dataframe\">\n",
       "  <thead>\n",
       "    <tr style=\"text-align: right;\">\n",
       "      <th></th>\n",
       "      <th>Country</th>\n",
       "      <th>density_per_sq_mi</th>\n",
       "      <th>Languages</th>\n",
       "      <th>Largest city</th>\n",
       "      <th>Provincial center</th>\n",
       "      <th>density_per_sq_km</th>\n",
       "      <th>total_area_sq_km</th>\n",
       "      <th>Provincial seat</th>\n",
       "      <th>total_population</th>\n",
       "    </tr>\n",
       "  </thead>\n",
       "  <tbody>\n",
       "    <tr>\n",
       "      <th>Faryab Province</th>\n",
       "      <td>Afghanistan</td>\n",
       "      <td>120</td>\n",
       "      <td>NaN</td>\n",
       "      <td>NaN</td>\n",
       "      <td>NaN</td>\n",
       "      <td>46</td>\n",
       "      <td>20797.6</td>\n",
       "      <td>NaN</td>\n",
       "      <td>948000</td>\n",
       "    </tr>\n",
       "    <tr>\n",
       "      <th>Oruzgan Province</th>\n",
       "      <td>Afghanistan</td>\n",
       "      <td>NaN</td>\n",
       "      <td>NaN</td>\n",
       "      <td>NaN</td>\n",
       "      <td>NaN</td>\n",
       "      <td>NaN</td>\n",
       "      <td>12640</td>\n",
       "      <td>NaN</td>\n",
       "      <td>333500</td>\n",
       "    </tr>\n",
       "    <tr>\n",
       "      <th>Paktia Province</th>\n",
       "      <td>Afghanistan</td>\n",
       "      <td>220</td>\n",
       "      <td>NaN</td>\n",
       "      <td>Zurmat</td>\n",
       "      <td>NaN</td>\n",
       "      <td>86</td>\n",
       "      <td>6432</td>\n",
       "      <td>NaN</td>\n",
       "      <td>551987</td>\n",
       "    </tr>\n",
       "    <tr>\n",
       "      <th>Ghazni Province</th>\n",
       "      <td>Afghanistan</td>\n",
       "      <td>160</td>\n",
       "      <td>NaN</td>\n",
       "      <td>NaN</td>\n",
       "      <td>NaN</td>\n",
       "      <td>61</td>\n",
       "      <td>22915</td>\n",
       "      <td>NaN</td>\n",
       "      <td>1387185</td>\n",
       "    </tr>\n",
       "    <tr>\n",
       "      <th>Panjshir Province</th>\n",
       "      <td>Afghanistan</td>\n",
       "      <td>NaN</td>\n",
       "      <td>NaN</td>\n",
       "      <td>NaN</td>\n",
       "      <td>NaN</td>\n",
       "      <td>NaN</td>\n",
       "      <td>3610</td>\n",
       "      <td>NaN</td>\n",
       "      <td>100000</td>\n",
       "    </tr>\n",
       "  </tbody>\n",
       "</table>\n",
       "</div>"
      ],
      "text/plain": [
       "                       Country density_per_sq_mi Languages Largest city  \\\n",
       "Faryab Province    Afghanistan               120       NaN          NaN   \n",
       "Oruzgan Province   Afghanistan               NaN       NaN          NaN   \n",
       "Paktia Province    Afghanistan               220       NaN       Zurmat   \n",
       "Ghazni Province    Afghanistan               160       NaN          NaN   \n",
       "Panjshir Province  Afghanistan               NaN       NaN          NaN   \n",
       "\n",
       "                  Provincial center density_per_sq_km total_area_sq_km  \\\n",
       "Faryab Province                 NaN                46          20797.6   \n",
       "Oruzgan Province                NaN               NaN            12640   \n",
       "Paktia Province                 NaN                86             6432   \n",
       "Ghazni Province                 NaN                61            22915   \n",
       "Panjshir Province               NaN               NaN             3610   \n",
       "\n",
       "                  Provincial seat total_population  \n",
       "Faryab Province               NaN           948000  \n",
       "Oruzgan Province              NaN           333500  \n",
       "Paktia Province               NaN           551987  \n",
       "Ghazni Province               NaN          1387185  \n",
       "Panjshir Province             NaN           100000  "
      ]
     },
     "execution_count": 4,
     "metadata": {},
     "output_type": "execute_result"
    }
   ],
   "source": [
    "\n",
    "afghanistan_provinces_df.sample(5).T.sample(9).T"
   ]
  },
  {
   "cell_type": "code",
   "execution_count": 5,
   "metadata": {},
   "outputs": [],
   "source": [
    "\n",
    "afghanistan_provinces_df['total_population'] = afghanistan_provinces_df['Total Population'].map(lambda x: int(re.sub('\\D+', '', str(x))))"
   ]
  },
  {
   "cell_type": "code",
   "execution_count": 6,
   "metadata": {},
   "outputs": [],
   "source": [
    "\n",
    "floats_regex = re.compile(r'([\\d+,.]+) km 2 \\(([\\d+,.]+) sq mi\\)')\n",
    "def f(x):\n",
    "    match_obj = floats_regex.search(str(x))\n",
    "    if match_obj:\n",
    "        km_str = match_obj.group(1)\n",
    "    result = re.sub(',', '', km_str)\n",
    "    result = float(result)\n",
    "    \n",
    "    return result\n",
    "afghanistan_provinces_df['total_area_sq_km'] = afghanistan_provinces_df['Total Area'].map(f)"
   ]
  },
  {
   "cell_type": "code",
   "execution_count": 7,
   "metadata": {},
   "outputs": [],
   "source": [
    "\n",
    "def f(x):\n",
    "    match_obj = floats_regex.search(str(x))\n",
    "    if match_obj:\n",
    "        mi_str = match_obj.group(2)\n",
    "    result = re.sub(',', '', mi_str)\n",
    "    result = float(result)\n",
    "    \n",
    "    return result\n",
    "afghanistan_provinces_df['total_area_sq_mi'] = afghanistan_provinces_df['Total Area'].map(f)"
   ]
  },
  {
   "cell_type": "code",
   "execution_count": 8,
   "metadata": {},
   "outputs": [
    {
     "data": {
      "text/plain": [
       "['Country', 'Total Population', 'Total Area', 'total_population', 'total_area_sq_km', 'total_area_sq_mi']"
      ]
     },
     "execution_count": 8,
     "metadata": {},
     "output_type": "execute_result"
    }
   ],
   "source": [
    "\n",
    "afghanistan_provinces_df.dropna(axis='columns').columns.tolist()"
   ]
  },
  {
   "cell_type": "code",
   "execution_count": 10,
   "metadata": {},
   "outputs": [
    {
     "data": {
      "text/plain": [
       "['21/km 2 (53/sq mi)', '20.9/km 2 (54/sq mi)', '41/km 2 (110/sq mi)', '77/km 2 (200/sq mi)', '30/km 2 (78/sq mi)', nan, '19/km 2 (49/sq mi)', '46/km 2 (120/sq mi)', '61/km 2 (160/sq mi)', '19/km 2 (50/sq mi)', '25/km 2 (64/sq mi)', '35/km 2 (89/sq mi)', '980/km 2 (2,500/sq mi)', '25/km 2 (66/sq mi)', '240/km 2 (620/sq mi)', '140/km 2 (360/sq mi)', '99/km 2 (260/sq mi)', '120/km 2 (310/sq mi)', '120/km 2 (300/sq mi)', '100/km 2 (260/sq mi)', '190/km 2 (480/sq mi)', '3.8/km 2 (9.8/sq mi)', '15/km 2 (40/sq mi)', '86/km 2 (220/sq mi)', '22/km 2 (58/sq mi)', '110/km 2 (290/sq mi)', '33/km 2 (85/sq mi)', '33/km 2 (84/sq mi)', '76/km 2 (200/sq mi)', '57/km 2 (150/sq mi)', '18/km 2 (45/sq mi)']"
      ]
     },
     "execution_count": 10,
     "metadata": {},
     "output_type": "execute_result"
    }
   ],
   "source": [
    "\n",
    "afghanistan_provinces_df['Density'].unique().tolist()"
   ]
  },
  {
   "cell_type": "code",
   "execution_count": 11,
   "metadata": {},
   "outputs": [
    {
     "name": "stderr",
     "output_type": "stream",
     "text": [
      "C:\\Users\\577342\\AppData\\Local\\Continuum\\anaconda3\\lib\\site-packages\\ipykernel_launcher.py:3: FutureWarning: The pandas.np module is deprecated and will be removed from pandas in a future version. Import numpy directly instead\n",
      "  This is separate from the ipykernel package so we can avoid doing imports until\n"
     ]
    }
   ],
   "source": [
    "\n",
    "density_regex = re.compile(r'([\\d+,.]+)/km 2 \\(([\\d+,.]+)/sq mi\\)')\n",
    "def f(x):\n",
    "    result = pd.np.nan\n",
    "    match_obj = density_regex.search(str(x))\n",
    "    if match_obj:\n",
    "        km_str = match_obj.group(1)\n",
    "        result = re.sub(',', '', km_str)\n",
    "        result = float(result)\n",
    "    \n",
    "    return result\n",
    "afghanistan_provinces_df['density_per_sq_km'] = afghanistan_provinces_df['Density'].map(f)"
   ]
  },
  {
   "cell_type": "code",
   "execution_count": 12,
   "metadata": {},
   "outputs": [
    {
     "name": "stderr",
     "output_type": "stream",
     "text": [
      "C:\\Users\\577342\\AppData\\Local\\Continuum\\anaconda3\\lib\\site-packages\\ipykernel_launcher.py:2: FutureWarning: The pandas.np module is deprecated and will be removed from pandas in a future version. Import numpy directly instead\n",
      "  \n"
     ]
    }
   ],
   "source": [
    "\n",
    "def f(x):\n",
    "    result = pd.np.nan\n",
    "    match_obj = density_regex.search(str(x))\n",
    "    if match_obj:\n",
    "        mi_str = match_obj.group(2)\n",
    "        result = re.sub(',', '', mi_str)\n",
    "        result = float(result)\n",
    "    \n",
    "    return result\n",
    "afghanistan_provinces_df['density_per_sq_mi'] = afghanistan_provinces_df['Density'].map(f)"
   ]
  },
  {
   "cell_type": "code",
   "execution_count": 13,
   "metadata": {},
   "outputs": [
    {
     "data": {
      "text/plain": [
       "['Deputy Governor', 'Largest city', 'Established', 'Water', 'Languages', 'Provincial seat', 'Density', 'Website', 'Governor', 'Country', 'District', 'Time zone', 'Ethnic groups', 'Provincial center', 'Total Population', 'Area codes', 'Capital', 'Main languages', 'Districts', 'ISO code', 'Total Area', 'total_population', 'total_area_sq_km', 'total_area_sq_mi', 'density_per_sq_km', 'density_per_sq_mi']"
      ]
     },
     "execution_count": 13,
     "metadata": {},
     "output_type": "execute_result"
    }
   ],
   "source": [
    "\n",
    "afghanistan_provinces_df.columns.tolist()"
   ]
  },
  {
   "cell_type": "code",
   "execution_count": 14,
   "metadata": {},
   "outputs": [
    {
     "data": {
      "text/html": [
       "<div>\n",
       "<style scoped>\n",
       "    .dataframe tbody tr th:only-of-type {\n",
       "        vertical-align: middle;\n",
       "    }\n",
       "\n",
       "    .dataframe tbody tr th {\n",
       "        vertical-align: top;\n",
       "    }\n",
       "\n",
       "    .dataframe thead th {\n",
       "        text-align: right;\n",
       "    }\n",
       "</style>\n",
       "<table border=\"1\" class=\"dataframe\">\n",
       "  <thead>\n",
       "    <tr style=\"text-align: right;\">\n",
       "      <th></th>\n",
       "      <th>total_population</th>\n",
       "      <th>total_area_sq_km</th>\n",
       "      <th>total_area_sq_mi</th>\n",
       "      <th>density_per_sq_km</th>\n",
       "      <th>density_per_sq_mi</th>\n",
       "    </tr>\n",
       "  </thead>\n",
       "  <tbody>\n",
       "    <tr>\n",
       "      <th>Paktia Province</th>\n",
       "      <td>551987</td>\n",
       "      <td>6432.0</td>\n",
       "      <td>2483.0</td>\n",
       "      <td>86.0</td>\n",
       "      <td>220.0</td>\n",
       "    </tr>\n",
       "    <tr>\n",
       "      <th>Badghis Province</th>\n",
       "      <td>499393</td>\n",
       "      <td>20590.6</td>\n",
       "      <td>7950.1</td>\n",
       "      <td>20.9</td>\n",
       "      <td>54.0</td>\n",
       "    </tr>\n",
       "    <tr>\n",
       "      <th>Khost Province</th>\n",
       "      <td>574582</td>\n",
       "      <td>4151.5</td>\n",
       "      <td>1602.9</td>\n",
       "      <td>140.0</td>\n",
       "      <td>360.0</td>\n",
       "    </tr>\n",
       "    <tr>\n",
       "      <th>Farah Province</th>\n",
       "      <td>925016</td>\n",
       "      <td>48470.9</td>\n",
       "      <td>18714.7</td>\n",
       "      <td>19.0</td>\n",
       "      <td>49.0</td>\n",
       "    </tr>\n",
       "    <tr>\n",
       "      <th>Kabul Province</th>\n",
       "      <td>4372977</td>\n",
       "      <td>4461.6</td>\n",
       "      <td>1722.6</td>\n",
       "      <td>980.0</td>\n",
       "      <td>2500.0</td>\n",
       "    </tr>\n",
       "  </tbody>\n",
       "</table>\n",
       "</div>"
      ],
      "text/plain": [
       "                  total_population  total_area_sq_km  total_area_sq_mi  \\\n",
       "Paktia Province             551987            6432.0            2483.0   \n",
       "Badghis Province            499393           20590.6            7950.1   \n",
       "Khost Province              574582            4151.5            1602.9   \n",
       "Farah Province              925016           48470.9           18714.7   \n",
       "Kabul Province             4372977            4461.6            1722.6   \n",
       "\n",
       "                  density_per_sq_km  density_per_sq_mi  \n",
       "Paktia Province                86.0              220.0  \n",
       "Badghis Province               20.9               54.0  \n",
       "Khost Province                140.0              360.0  \n",
       "Farah Province                 19.0               49.0  \n",
       "Kabul Province                980.0             2500.0  "
      ]
     },
     "execution_count": 14,
     "metadata": {},
     "output_type": "execute_result"
    }
   ],
   "source": [
    "\n",
    "columns_list = ['total_population', 'total_area_sq_km', 'total_area_sq_mi', 'density_per_sq_km', 'density_per_sq_mi']\n",
    "afghanistan_provinces_df[columns_list].sample(5)"
   ]
  },
  {
   "cell_type": "code",
   "execution_count": 19,
   "metadata": {},
   "outputs": [],
   "source": [
    "\n",
    "column_name = 'Governor'\n",
    "match_series = afghanistan_provinces_df[column_name].isnull()\n",
    "column_value = 'Ahmadullah Alizai Son of Haji Abdul Karim Khan'\n",
    "afghanistan_provinces_df.loc[match_series, column_name] = column_value"
   ]
  },
  {
   "cell_type": "code",
   "execution_count": 32,
   "metadata": {},
   "outputs": [],
   "source": [
    "\n",
    "afghanistan_provinces_df.index = ['Badakhshan', 'Badghis', 'Baghlan', 'Balkh', 'Bamyan', 'Daykundi', 'Farah', 'Faryab', 'Ghazni', 'Ghor',\n",
    "                                  'Helmand', 'Herat', 'Jowzjan', 'Kabul', 'Kandahar', 'Kapisa', 'Khost', 'Kunar', 'Kunduz', 'Laghman',\n",
    "                                  'Logar', 'Nangarhar', 'Nimruz', 'Nuristan', 'Urozgan', 'Paktia', 'Paktika', 'Panjshir', 'Parwan',\n",
    "                                  'Samangan', 'Sar-e Pol', 'Takhar', 'Wardak', 'Zabul']"
   ]
  },
  {
   "cell_type": "code",
   "execution_count": 36,
   "metadata": {},
   "outputs": [
    {
     "name": "stdout",
     "output_type": "stream",
     "text": [
      "[(2, (34, 9)), (4, (11, 2)), (0, (9, 2)), (1, (6, 1)), (10, (5, 2)), (3, (1, 2)), (5, (1, 2)), (6, (1, 2)), (7, (1, 2)), (8, (1, 2)), (9, (1, 3))]\n"
     ]
    }
   ],
   "source": [
    "\n",
    "tables_url = 'https://en.wikipedia.org/wiki/Provinces_of_Afghanistan'\n",
    "page_tables_list = get_page_tables(tables_url)"
   ]
  },
  {
   "cell_type": "code",
   "execution_count": 37,
   "metadata": {},
   "outputs": [
    {
     "name": "stdout",
     "output_type": "stream",
     "text": [
      "['Province', 'Map #', 'ISO 3166-2:AF[4]', 'License Plate Code', 'Centers', 'Population (2015)[5]', 'Area (km²)', '# Districts', 'U.N. Region']\n",
      "['Badakhshan', 'Badghis', 'Baghlan', 'Balkh', 'Bamyan', 'Daykundi', 'Farah', 'Faryab', 'Ghazni', 'Ghor', 'Helmand', 'Herat', 'Jowzjan', 'Kabul', 'Kandahar', 'Kapisa', 'Khost', 'Kunar', 'Kunduz', 'Laghman', 'Logar', 'Nangarhar', 'Nimruz', 'Nuristan', 'Paktia', 'Paktika', 'Panjshir', 'Parwan', 'Samangan', 'Sar-e Pol', 'Takhar', 'Urozgan', 'Wardak', 'Zabul']\n"
     ]
    },
    {
     "data": {
      "text/plain": [
       "set()"
      ]
     },
     "execution_count": 37,
     "metadata": {},
     "output_type": "execute_result"
    }
   ],
   "source": [
    "\n",
    "df = page_tables_list[2].copy()\n",
    "print(df.columns.tolist())\n",
    "p_list = df['Province'].tolist()\n",
    "print(p_list)\n",
    "set(afghanistan_provinces_df.index) - set(p_list)"
   ]
  },
  {
   "cell_type": "code",
   "execution_count": 45,
   "metadata": {},
   "outputs": [],
   "source": [
    "\n",
    "afghanistan_provinces_df.columns = ['Deputy Governor', 'Largest city', 'Established', 'Water', 'Languages', 'Provincial seat', 'Density',\n",
    "                                    'Website', 'Governor', 'Country', 'District', 'Time zone', 'Ethnic groups',\n",
    "                                    'Provincial center', 'Total Population', 'Area codes', 'Capital', 'Main languages', 'Districts',\n",
    "                                    'ISO 3166-2:AF', 'Total Area', 'total_population', 'total_area_sq_km', 'total_area_sq_mi',\n",
    "                                    'density_per_sq_km', 'density_per_sq_mi']"
   ]
  },
  {
   "cell_type": "code",
   "execution_count": 50,
   "metadata": {},
   "outputs": [],
   "source": [
    "\n",
    "df.set_index('Province', drop=True, inplace=True)"
   ]
  },
  {
   "cell_type": "code",
   "execution_count": 46,
   "metadata": {},
   "outputs": [
    {
     "name": "stdout",
     "output_type": "stream",
     "text": [
      "Pickling to D:\\Documents\\Repositories\\notebooks\\StatsByCountry\\saves\\pickle\\afghanistan_provinces_df.pickle\n"
     ]
    }
   ],
   "source": [
    "\n",
    "s.store_objects(afghanistan_provinces_df=afghanistan_provinces_df)"
   ]
  },
  {
   "cell_type": "code",
   "execution_count": 74,
   "metadata": {},
   "outputs": [],
   "source": [
    "\n",
    "afghanistan_provinces_df = s.load_object('afghanistan_provinces_df')"
   ]
  },
  {
   "cell_type": "code",
   "execution_count": 76,
   "metadata": {},
   "outputs": [],
   "source": [
    "\n",
    "column_str = 'ISO 3166-2:AF'\n",
    "for province_name, row_series in afghanistan_provinces_df.iterrows():\n",
    "    old_iso_code = row_series[column_str]\n",
    "    match_series = (df.index == province_name)\n",
    "    new_iso_code = df[match_series]['{}[4]'.format(column_str)].tolist()[0]\n",
    "    if old_iso_code != new_iso_code:\n",
    "        afghanistan_provinces_df.loc[province_name, column_str] = new_iso_code"
   ]
  },
  {
   "cell_type": "code",
   "execution_count": 77,
   "metadata": {},
   "outputs": [
    {
     "name": "stdout",
     "output_type": "stream",
     "text": [
      "['Deputy Governor', 'Largest city', 'Established', 'Water', 'Languages', 'Provincial seat', 'Density', 'Website', 'Governor', 'Country', 'District', 'Time zone', 'Ethnic groups', 'Provincial center', 'Total Population', 'Area codes', 'Capital', 'Main languages', 'Districts', 'ISO 3166-2:AF', 'Total Area', 'total_population', 'total_area_sq_km', 'total_area_sq_mi', 'density_per_sq_km', 'density_per_sq_mi', 'License Plate Code', 'Centers', '# Districts', 'U.N. Region']\n"
     ]
    },
    {
     "data": {
      "text/html": [
       "<div>\n",
       "<style scoped>\n",
       "    .dataframe tbody tr th:only-of-type {\n",
       "        vertical-align: middle;\n",
       "    }\n",
       "\n",
       "    .dataframe tbody tr th {\n",
       "        vertical-align: top;\n",
       "    }\n",
       "\n",
       "    .dataframe thead th {\n",
       "        text-align: right;\n",
       "    }\n",
       "</style>\n",
       "<table border=\"1\" class=\"dataframe\">\n",
       "  <thead>\n",
       "    <tr style=\"text-align: right;\">\n",
       "      <th></th>\n",
       "      <th>total_area_sq_km</th>\n",
       "      <th>District</th>\n",
       "      <th>Largest city</th>\n",
       "      <th>total_area_sq_mi</th>\n",
       "      <th>Time zone</th>\n",
       "    </tr>\n",
       "  </thead>\n",
       "  <tbody>\n",
       "    <tr>\n",
       "      <th>Farah</th>\n",
       "      <td>48470.9</td>\n",
       "      <td>NaN</td>\n",
       "      <td>NaN</td>\n",
       "      <td>18714.7</td>\n",
       "      <td>UTC+4:30</td>\n",
       "    </tr>\n",
       "    <tr>\n",
       "      <th>Baghlan</th>\n",
       "      <td>21118</td>\n",
       "      <td>NaN</td>\n",
       "      <td>NaN</td>\n",
       "      <td>8154</td>\n",
       "      <td>UTC+4:30</td>\n",
       "    </tr>\n",
       "    <tr>\n",
       "      <th>Herat</th>\n",
       "      <td>54778</td>\n",
       "      <td>NaN</td>\n",
       "      <td>NaN</td>\n",
       "      <td>21149.9</td>\n",
       "      <td>UTC+4:30</td>\n",
       "    </tr>\n",
       "    <tr>\n",
       "      <th>Daykundi</th>\n",
       "      <td>18088</td>\n",
       "      <td>NaN</td>\n",
       "      <td>NaN</td>\n",
       "      <td>6984</td>\n",
       "      <td>UTC+4:30</td>\n",
       "    </tr>\n",
       "    <tr>\n",
       "      <th>Kandahar</th>\n",
       "      <td>54022</td>\n",
       "      <td>NaN</td>\n",
       "      <td>NaN</td>\n",
       "      <td>20858</td>\n",
       "      <td>UTC+4:30</td>\n",
       "    </tr>\n",
       "  </tbody>\n",
       "</table>\n",
       "</div>"
      ],
      "text/plain": [
       "         total_area_sq_km District Largest city total_area_sq_mi Time zone\n",
       "Farah             48470.9      NaN          NaN          18714.7  UTC+4:30\n",
       "Baghlan             21118      NaN          NaN             8154  UTC+4:30\n",
       "Herat               54778      NaN          NaN          21149.9  UTC+4:30\n",
       "Daykundi            18088      NaN          NaN             6984  UTC+4:30\n",
       "Kandahar            54022      NaN          NaN            20858  UTC+4:30"
      ]
     },
     "execution_count": 77,
     "metadata": {},
     "output_type": "execute_result"
    }
   ],
   "source": [
    "\n",
    "columns_list = ['License Plate Code', 'Centers', '# Districts', 'U.N. Region']\n",
    "afghanistan_provinces_df = pd.merge(afghanistan_provinces_df, df[columns_list], left_index=True, right_index=True, suffixes=('_main', '_aux'))\n",
    "print(afghanistan_provinces_df.columns.tolist())\n",
    "afghanistan_provinces_df.sample(5).T.sample(5).T"
   ]
  },
  {
   "cell_type": "code",
   "execution_count": 78,
   "metadata": {},
   "outputs": [],
   "source": [
    "\n",
    "language_str = 'Turkman, Pashto, Dari-Persian'\n",
    "match_series = (afghanistan_provinces_df.index == 'Badghis')\n",
    "afghanistan_provinces_df.loc[match_series, 'Main languages'] = language_str"
   ]
  },
  {
   "cell_type": "code",
   "execution_count": 79,
   "metadata": {},
   "outputs": [],
   "source": [
    "\n",
    "language_str = 'Pashto'\n",
    "match_series = (afghanistan_provinces_df.index == 'Kunar')\n",
    "afghanistan_provinces_df.loc[match_series, 'Main languages'] = language_str"
   ]
  },
  {
   "cell_type": "code",
   "execution_count": 80,
   "metadata": {},
   "outputs": [
    {
     "data": {
      "text/plain": [
       "['Languages', 'Main languages']"
      ]
     },
     "execution_count": 80,
     "metadata": {},
     "output_type": "execute_result"
    }
   ],
   "source": [
    "\n",
    "[cn for cn in afghanistan_provinces_df.columns if 'lan' in cn.lower()]"
   ]
  },
  {
   "cell_type": "code",
   "execution_count": 81,
   "metadata": {},
   "outputs": [
    {
     "data": {
      "text/plain": [
       "[nan, 'Dari Persian , Pashto , Turkmen']"
      ]
     },
     "execution_count": 81,
     "metadata": {},
     "output_type": "execute_result"
    }
   ],
   "source": [
    "\n",
    "afghanistan_provinces_df['Languages'].unique().tolist()"
   ]
  },
  {
   "cell_type": "code",
   "execution_count": 82,
   "metadata": {},
   "outputs": [
    {
     "data": {
      "text/plain": [
       "['Dari , Khowar , Kyrgyz , Shughni , Munji , Ishkashimi , Wakhi', 'Turkman, Pashto, Dari-Persian', 'Dari (Dari-Persian) Pashto', 'Dari-Persian , Pashto , Uzbek , Turkmen', 'Dari ( Hazaragi dialect )', 'Pashto Dari', 'Uzbek Turkmen Dari Pashto', 'Mostly( Pashto ) Hazaragi', 'Hazaragi Dari', 'Pashto &amp; Balochi', 'Dari , Pashto', 'Dari Uzbek Turkmen', 'Dari Pashto', 'Pashto and Dari-Persian', 'Pashto , Persian and Pashayi', 'Pashto', 'Dari Pashto Uzbek Turkmen', 'Pashto Dari Pashayi', 'Pashto ,[language', 'Dari Pashto Balochi', 'Nuristani', 'Pashto and Persian', 'Farsi', 'Dari and Pashto [2]', 'Persian , Uzbeki and Turkmeni', 'Dari-Persian , Uzbek and Turkmen', 'Dari (Afghan Persian)', 'Pashto Persian']"
      ]
     },
     "execution_count": 82,
     "metadata": {},
     "output_type": "execute_result"
    }
   ],
   "source": [
    "\n",
    "afghanistan_provinces_df['Main languages'].unique().tolist()"
   ]
  },
  {
   "cell_type": "code",
   "execution_count": 84,
   "metadata": {},
   "outputs": [],
   "source": [
    "\n",
    "column_name = 'Capital'\n",
    "value_str = 'Qala-e-Naw'\n",
    "match_series = (afghanistan_provinces_df.index == 'Badghis')\n",
    "afghanistan_provinces_df.loc[match_series, column_name] = value_str"
   ]
  },
  {
   "cell_type": "code",
   "execution_count": 85,
   "metadata": {},
   "outputs": [],
   "source": [
    "\n",
    "column_name = 'Capital'\n",
    "value_str = 'Pârûn'\n",
    "match_series = (afghanistan_provinces_df.index == 'Nuristan')\n",
    "afghanistan_provinces_df.loc[match_series, column_name] = value_str"
   ]
  },
  {
   "cell_type": "code",
   "execution_count": 90,
   "metadata": {},
   "outputs": [],
   "source": [
    "\n",
    "column_name = 'Time zone'\n",
    "value_str = '+ 4.30'\n",
    "match_series = (afghanistan_provinces_df.index == 'Badghis')\n",
    "afghanistan_provinces_df.loc[match_series, column_name] = value_str"
   ]
  },
  {
   "cell_type": "code",
   "execution_count": 92,
   "metadata": {},
   "outputs": [],
   "source": [
    "\n",
    "column_name = 'Time zone'\n",
    "value_str = '+ 4.30'\n",
    "match_series = (afghanistan_provinces_df.index == 'Wardak')\n",
    "afghanistan_provinces_df.loc[match_series, column_name] = value_str"
   ]
  },
  {
   "cell_type": "code",
   "execution_count": 97,
   "metadata": {},
   "outputs": [
    {
     "data": {
      "text/plain": [
       "['UTC+4:30', '+ 4.30', 'GMT+4:30', 'UTC+04:30 ( AST )']"
      ]
     },
     "execution_count": 97,
     "metadata": {},
     "output_type": "execute_result"
    }
   ],
   "source": [
    "\n",
    "column_name = 'Time zone'\n",
    "afghanistan_provinces_df[column_name].unique().tolist()"
   ]
  },
  {
   "cell_type": "code",
   "execution_count": 98,
   "metadata": {},
   "outputs": [],
   "source": [
    "\n",
    "column_name = 'Time zone'\n",
    "afghanistan_provinces_df[column_name] = 'UTC+04:30 (AST)'"
   ]
  },
  {
   "cell_type": "code",
   "execution_count": 105,
   "metadata": {},
   "outputs": [],
   "source": [
    "\n",
    "column_name = 'Density'\n",
    "value_str = '49.4 /km² (128 /sq mi)'\n",
    "match_series = (afghanistan_provinces_df.index == 'Daykundi')\n",
    "afghanistan_provinces_df.loc[match_series, column_name] = value_str"
   ]
  },
  {
   "cell_type": "code",
   "execution_count": 106,
   "metadata": {},
   "outputs": [],
   "source": [
    "\n",
    "column_name = 'density_per_sq_km'\n",
    "value_str = 49.4\n",
    "match_series = (afghanistan_provinces_df.index == 'Daykundi')\n",
    "afghanistan_provinces_df.loc[match_series, column_name] = value_str"
   ]
  },
  {
   "cell_type": "code",
   "execution_count": 117,
   "metadata": {},
   "outputs": [],
   "source": [
    "\n",
    "column_name = 'density_per_sq_mi'\n",
    "value_str = 128\n",
    "match_series = (afghanistan_provinces_df.index == 'Daykundi')\n",
    "afghanistan_provinces_df.loc[match_series, column_name] = value_str"
   ]
  },
  {
   "cell_type": "code",
   "execution_count": 114,
   "metadata": {},
   "outputs": [],
   "source": [
    "\n",
    "column_name = 'Density'\n",
    "match_series = (afghanistan_provinces_df.index == 'Urozgan')\n",
    "total_population = afghanistan_provinces_df[match_series]['total_population'].tolist()[0]\n",
    "total_area_sq_km = afghanistan_provinces_df[match_series]['total_area_sq_km'].tolist()[0]\n",
    "total_area_sq_mi = afghanistan_provinces_df[match_series]['total_area_sq_mi'].tolist()[0]\n",
    "value_str = '{}/km² ({}/sq mi)'.format(round(total_population/total_area_sq_km, 1), round(total_population/total_area_sq_mi))\n",
    "afghanistan_provinces_df.loc[match_series, column_name] = value_str"
   ]
  },
  {
   "cell_type": "code",
   "execution_count": 115,
   "metadata": {},
   "outputs": [],
   "source": [
    "\n",
    "column_name = 'density_per_sq_km'\n",
    "match_series = (afghanistan_provinces_df.index == 'Urozgan')\n",
    "total_population = afghanistan_provinces_df[match_series]['total_population'].tolist()[0]\n",
    "total_area_sq_km = afghanistan_provinces_df[match_series]['total_area_sq_km'].tolist()[0]\n",
    "value_str = round(total_population/total_area_sq_km, 1)\n",
    "afghanistan_provinces_df.loc[match_series, column_name] = value_str"
   ]
  },
  {
   "cell_type": "code",
   "execution_count": 118,
   "metadata": {},
   "outputs": [],
   "source": [
    "\n",
    "column_name = 'density_per_sq_mi'\n",
    "match_series = (afghanistan_provinces_df.index == 'Urozgan')\n",
    "total_population = afghanistan_provinces_df[match_series]['total_population'].tolist()[0]\n",
    "total_area_sq_mi = afghanistan_provinces_df[match_series]['total_area_sq_mi'].tolist()[0]\n",
    "value_str = round(total_population/total_area_sq_mi)\n",
    "afghanistan_provinces_df.loc[match_series, column_name] = value_str"
   ]
  },
  {
   "cell_type": "code",
   "execution_count": 120,
   "metadata": {},
   "outputs": [],
   "source": [
    "\n",
    "column_name = 'Density'\n",
    "match_series = (afghanistan_provinces_df.index == 'Panjshir')\n",
    "total_population = afghanistan_provinces_df[match_series]['total_population'].tolist()[0]\n",
    "total_area_sq_km = afghanistan_provinces_df[match_series]['total_area_sq_km'].tolist()[0]\n",
    "total_area_sq_mi = afghanistan_provinces_df[match_series]['total_area_sq_mi'].tolist()[0]\n",
    "density_per_sq_km = round(total_population/total_area_sq_km, 1)\n",
    "density_per_sq_mi = round(total_population/total_area_sq_mi)\n",
    "value_str = '{}/km² ({}/sq mi)'.format(density_per_sq_km, density_per_sq_mi)\n",
    "afghanistan_provinces_df.loc[match_series, column_name] = value_str\n",
    "\n",
    "column_name = 'density_per_sq_km'\n",
    "afghanistan_provinces_df.loc[match_series, column_name] = density_per_sq_km\n",
    "\n",
    "column_name = 'density_per_sq_mi'\n",
    "afghanistan_provinces_df.loc[match_series, column_name] = density_per_sq_mi"
   ]
  },
  {
   "cell_type": "code",
   "execution_count": 109,
   "metadata": {},
   "outputs": [
    {
     "data": {
      "text/plain": [
       "['Deputy Governor', 'Largest city', 'Established', 'Water', 'Languages', 'Provincial seat', 'Density', 'Website', 'Governor', 'Country', 'District', 'Time zone', 'Ethnic groups', 'Provincial center', 'Total Population', 'Area codes', 'Capital', 'Main languages', 'Districts', 'ISO 3166-2:AF', 'Total Area', 'total_population', 'total_area_sq_km', 'total_area_sq_mi', 'density_per_sq_km', 'density_per_sq_mi', 'License Plate Code', 'Centers', '# Districts', 'U.N. Region']"
      ]
     },
     "execution_count": 109,
     "metadata": {},
     "output_type": "execute_result"
    }
   ],
   "source": [
    "\n",
    "afghanistan_provinces_df.columns.tolist()"
   ]
  },
  {
   "cell_type": "code",
   "execution_count": 126,
   "metadata": {},
   "outputs": [],
   "source": [
    "\n",
    "column_name = 'Largest city'\n",
    "value_str = 'Fayzabad'\n",
    "match_series = (afghanistan_provinces_df.index == 'Badakhshan')\n",
    "afghanistan_provinces_df.loc[match_series, column_name] = value_str"
   ]
  },
  {
   "cell_type": "code",
   "execution_count": 128,
   "metadata": {},
   "outputs": [],
   "source": [
    "\n",
    "column_name = 'Largest city'\n",
    "value_str = 'Puli Khumri'\n",
    "match_series = (afghanistan_provinces_df.index == 'Baghlan')\n",
    "afghanistan_provinces_df.loc[match_series, column_name] = value_str"
   ]
  },
  {
   "cell_type": "code",
   "execution_count": 132,
   "metadata": {},
   "outputs": [
    {
     "data": {
      "text/plain": [
       "['Fayzabad', 'Qala i Naw', 'Puli Khumri', 'Mazar-i-Sharif', 'Bamyan', 'Nili', 'Farah', 'Maymana', 'Ghazni', 'Chaghcharan', 'Lashkargah', 'Herat', 'Sheberghan', 'Kabul', 'Kandahar', 'Mahmud-i-Raqi', 'Khost', 'Asadabad', 'Kunduz', 'Mihtarlam', 'Pul-i-Alam', 'Jalalabad', 'Zaranj', 'Parun', 'Tarinkot', 'Gardez', 'Sharana', 'Bazarak', 'Charikar', 'Samangan', 'Sar-e Pol', 'Taloqan', 'Maidan Shar', 'Qalat']"
      ]
     },
     "execution_count": 132,
     "metadata": {},
     "output_type": "execute_result"
    }
   ],
   "source": [
    "\n",
    "column_name = 'Centers'\n",
    "afghanistan_provinces_df[column_name].unique().tolist()"
   ]
  },
  {
   "cell_type": "code",
   "execution_count": 138,
   "metadata": {},
   "outputs": [],
   "source": [
    "\n",
    "column_name = 'Largest city'\n",
    "value_str = 'Mazār-i-Sharīf'\n",
    "match_series = (afghanistan_provinces_df.index == 'Balkh')\n",
    "afghanistan_provinces_df.loc[match_series, column_name] = value_str"
   ]
  },
  {
   "cell_type": "code",
   "execution_count": 145,
   "metadata": {},
   "outputs": [
    {
     "name": "stdout",
     "output_type": "stream",
     "text": [
      "District [nan, 'Sar-e Pol']\n",
      "Districts [nan, 'List Ab Kamari Ghormach Jawand Muqur BalaMargab Qadis Qala-i-Naw']\n",
      "# Districts [29, 7, 16, 15, 8, 11, 14, 19, 10, 13, 9, 18, 5, 23, 6]\n"
     ]
    }
   ],
   "source": [
    "\n",
    "columns_list = [cn for cn in afghanistan_provinces_df.columns if 'district' in cn.lower()]\n",
    "for column_name in columns_list:\n",
    "    print(column_name, afghanistan_provinces_df[column_name].unique().tolist())"
   ]
  },
  {
   "cell_type": "code",
   "execution_count": 150,
   "metadata": {},
   "outputs": [
    {
     "name": "stdout",
     "output_type": "stream",
     "text": [
      "Provincial seat [nan, 'Qala i Naw']\n",
      "Capital ['Fayzabad', 'Qala-e-Naw', 'Puli Khumri', 'Mazar-i-Sharif', 'Bamyan', 'Nili', 'Farah', 'Maymana', 'Ghazni', 'Firuzkoh', 'Lashkar Gah', 'Herat', 'Sheberghan', 'Kabul', 'Kandahar', 'Mahmud-i-Raqi', 'Khost', 'Asadabad', 'Kunduz', 'Mihtarlam', 'Puli Alam', 'Jalalabad', 'Zaranj', 'Pârûn', 'Tarinkot', 'Gardez', 'Sharana', 'Bazarak', 'Charikar', 'Aybak', 'Sar-e Pol', 'Taloqan', 'Maidan Shar', 'Qalat']\n"
     ]
    }
   ],
   "source": [
    "\n",
    "for column_name in ['Provincial seat', 'Capital']:\n",
    "    print(column_name, afghanistan_provinces_df[column_name].unique().tolist())"
   ]
  },
  {
   "cell_type": "code",
   "execution_count": 151,
   "metadata": {},
   "outputs": [],
   "source": [
    "\n",
    "columns_list = ['Deputy Governor', 'Largest city', 'Established', 'Water', 'Density', 'Website',\n",
    "                'Governor', 'Country', 'Time zone', 'Ethnic groups', 'Total Population',\n",
    "                'Capital', 'Main languages', 'ISO 3166-2:AF', 'Total Area', 'License Plate Code', 'Centers',\n",
    "                '# Districts', 'U.N. Region', 'total_population', 'total_area_sq_km', 'total_area_sq_mi', 'density_per_sq_km', 'density_per_sq_mi']\n",
    "afghanistan_provinces_df = afghanistan_provinces_df[columns_list]"
   ]
  },
  {
   "cell_type": "code",
   "execution_count": 152,
   "metadata": {},
   "outputs": [
    {
     "name": "stdout",
     "output_type": "stream",
     "text": [
      "Pickling to D:\\Documents\\Repositories\\notebooks\\StatsByCountry\\saves\\pickle\\afghanistan_provinces_df.pickle\n"
     ]
    }
   ],
   "source": [
    "\n",
    "s.store_objects(afghanistan_provinces_df=afghanistan_provinces_df)"
   ]
  },
  {
   "cell_type": "code",
   "execution_count": 153,
   "metadata": {},
   "outputs": [],
   "source": [
    "\n",
    "afghanistan_provinces_df = s.load_object('afghanistan_provinces_df')"
   ]
  },
  {
   "cell_type": "code",
   "execution_count": 154,
   "metadata": {},
   "outputs": [
    {
     "data": {
      "text/html": [
       "<div>\n",
       "<style scoped>\n",
       "    .dataframe tbody tr th:only-of-type {\n",
       "        vertical-align: middle;\n",
       "    }\n",
       "\n",
       "    .dataframe tbody tr th {\n",
       "        vertical-align: top;\n",
       "    }\n",
       "\n",
       "    .dataframe thead th {\n",
       "        text-align: right;\n",
       "    }\n",
       "</style>\n",
       "<table border=\"1\" class=\"dataframe\">\n",
       "  <thead>\n",
       "    <tr style=\"text-align: right;\">\n",
       "      <th></th>\n",
       "      <th>column_name</th>\n",
       "      <th>dtype</th>\n",
       "      <th>count_blanks</th>\n",
       "      <th>count_uniques</th>\n",
       "      <th>count_zeroes</th>\n",
       "      <th>has_dates</th>\n",
       "      <th>min_value</th>\n",
       "      <th>max_value</th>\n",
       "      <th>only_integers</th>\n",
       "    </tr>\n",
       "  </thead>\n",
       "  <tbody>\n",
       "    <tr>\n",
       "      <th>15</th>\n",
       "      <td>Ethnic groups</td>\n",
       "      <td>object</td>\n",
       "      <td>33</td>\n",
       "      <td>2</td>\n",
       "      <td>0</td>\n",
       "      <td>False</td>\n",
       "      <td>NaN</td>\n",
       "      <td>NaN</td>\n",
       "      <td>NaN</td>\n",
       "    </tr>\n",
       "    <tr>\n",
       "      <th>6</th>\n",
       "      <td>Deputy Governor</td>\n",
       "      <td>object</td>\n",
       "      <td>33</td>\n",
       "      <td>2</td>\n",
       "      <td>0</td>\n",
       "      <td>False</td>\n",
       "      <td>NaN</td>\n",
       "      <td>NaN</td>\n",
       "      <td>NaN</td>\n",
       "    </tr>\n",
       "    <tr>\n",
       "      <th>8</th>\n",
       "      <td>Established</td>\n",
       "      <td>object</td>\n",
       "      <td>33</td>\n",
       "      <td>2</td>\n",
       "      <td>0</td>\n",
       "      <td>True</td>\n",
       "      <td>NaN</td>\n",
       "      <td>NaN</td>\n",
       "      <td>False</td>\n",
       "    </tr>\n",
       "    <tr>\n",
       "      <th>9</th>\n",
       "      <td>Water</td>\n",
       "      <td>object</td>\n",
       "      <td>33</td>\n",
       "      <td>2</td>\n",
       "      <td>0</td>\n",
       "      <td>False</td>\n",
       "      <td>NaN</td>\n",
       "      <td>NaN</td>\n",
       "      <td>NaN</td>\n",
       "    </tr>\n",
       "    <tr>\n",
       "      <th>11</th>\n",
       "      <td>Website</td>\n",
       "      <td>object</td>\n",
       "      <td>33</td>\n",
       "      <td>2</td>\n",
       "      <td>0</td>\n",
       "      <td>False</td>\n",
       "      <td>NaN</td>\n",
       "      <td>NaN</td>\n",
       "      <td>NaN</td>\n",
       "    </tr>\n",
       "    <tr>\n",
       "      <th>7</th>\n",
       "      <td>Largest city</td>\n",
       "      <td>object</td>\n",
       "      <td>27</td>\n",
       "      <td>8</td>\n",
       "      <td>0</td>\n",
       "      <td>False</td>\n",
       "      <td>NaN</td>\n",
       "      <td>NaN</td>\n",
       "      <td>NaN</td>\n",
       "    </tr>\n",
       "    <tr>\n",
       "      <th>0</th>\n",
       "      <td># Districts</td>\n",
       "      <td>int64</td>\n",
       "      <td>0</td>\n",
       "      <td>15</td>\n",
       "      <td>0</td>\n",
       "      <td>True</td>\n",
       "      <td>5</td>\n",
       "      <td>29</td>\n",
       "      <td>True</td>\n",
       "    </tr>\n",
       "    <tr>\n",
       "      <th>22</th>\n",
       "      <td>Centers</td>\n",
       "      <td>object</td>\n",
       "      <td>0</td>\n",
       "      <td>34</td>\n",
       "      <td>0</td>\n",
       "      <td>False</td>\n",
       "      <td>Asadabad</td>\n",
       "      <td>Zaranj</td>\n",
       "      <td>NaN</td>\n",
       "    </tr>\n",
       "    <tr>\n",
       "      <th>21</th>\n",
       "      <td>License Plate Code</td>\n",
       "      <td>object</td>\n",
       "      <td>0</td>\n",
       "      <td>34</td>\n",
       "      <td>0</td>\n",
       "      <td>False</td>\n",
       "      <td>BAG</td>\n",
       "      <td>ZBL</td>\n",
       "      <td>NaN</td>\n",
       "    </tr>\n",
       "    <tr>\n",
       "      <th>20</th>\n",
       "      <td>Total Area</td>\n",
       "      <td>object</td>\n",
       "      <td>0</td>\n",
       "      <td>34</td>\n",
       "      <td>0</td>\n",
       "      <td>False</td>\n",
       "      <td>1,842.1 km 2 (711.2 sq mi)</td>\n",
       "      <td>9,934 km 2 (3,836 sq mi)</td>\n",
       "      <td>NaN</td>\n",
       "    </tr>\n",
       "    <tr>\n",
       "      <th>19</th>\n",
       "      <td>ISO 3166-2:AF</td>\n",
       "      <td>object</td>\n",
       "      <td>0</td>\n",
       "      <td>34</td>\n",
       "      <td>0</td>\n",
       "      <td>False</td>\n",
       "      <td>AF-BAL</td>\n",
       "      <td>AF-ZAB</td>\n",
       "      <td>NaN</td>\n",
       "    </tr>\n",
       "    <tr>\n",
       "      <th>18</th>\n",
       "      <td>Main languages</td>\n",
       "      <td>object</td>\n",
       "      <td>0</td>\n",
       "      <td>28</td>\n",
       "      <td>0</td>\n",
       "      <td>False</td>\n",
       "      <td>Dari ( Hazaragi dialect )</td>\n",
       "      <td>Uzbek Turkmen Dari Pashto</td>\n",
       "      <td>NaN</td>\n",
       "    </tr>\n",
       "    <tr>\n",
       "      <th>17</th>\n",
       "      <td>Capital</td>\n",
       "      <td>object</td>\n",
       "      <td>0</td>\n",
       "      <td>34</td>\n",
       "      <td>0</td>\n",
       "      <td>False</td>\n",
       "      <td>Asadabad</td>\n",
       "      <td>Zaranj</td>\n",
       "      <td>NaN</td>\n",
       "    </tr>\n",
       "    <tr>\n",
       "      <th>16</th>\n",
       "      <td>Total Population</td>\n",
       "      <td>object</td>\n",
       "      <td>0</td>\n",
       "      <td>34</td>\n",
       "      <td>0</td>\n",
       "      <td>False</td>\n",
       "      <td>1,245,100</td>\n",
       "      <td>953,800</td>\n",
       "      <td>NaN</td>\n",
       "    </tr>\n",
       "    <tr>\n",
       "      <th>12</th>\n",
       "      <td>Governor</td>\n",
       "      <td>object</td>\n",
       "      <td>0</td>\n",
       "      <td>34</td>\n",
       "      <td>0</td>\n",
       "      <td>False</td>\n",
       "      <td>Abdul Hai Naimati</td>\n",
       "      <td>Wahidullah Kalimzai [1]</td>\n",
       "      <td>NaN</td>\n",
       "    </tr>\n",
       "    <tr>\n",
       "      <th>14</th>\n",
       "      <td>Time zone</td>\n",
       "      <td>object</td>\n",
       "      <td>0</td>\n",
       "      <td>1</td>\n",
       "      <td>0</td>\n",
       "      <td>False</td>\n",
       "      <td>UTC+04:30 (AST)</td>\n",
       "      <td>UTC+04:30 (AST)</td>\n",
       "      <td>NaN</td>\n",
       "    </tr>\n",
       "    <tr>\n",
       "      <th>13</th>\n",
       "      <td>Country</td>\n",
       "      <td>object</td>\n",
       "      <td>0</td>\n",
       "      <td>1</td>\n",
       "      <td>0</td>\n",
       "      <td>False</td>\n",
       "      <td>Afghanistan</td>\n",
       "      <td>Afghanistan</td>\n",
       "      <td>NaN</td>\n",
       "    </tr>\n",
       "    <tr>\n",
       "      <th>1</th>\n",
       "      <td>total_population</td>\n",
       "      <td>int64</td>\n",
       "      <td>0</td>\n",
       "      <td>34</td>\n",
       "      <td>0</td>\n",
       "      <td>True</td>\n",
       "      <td>100000</td>\n",
       "      <td>4372977</td>\n",
       "      <td>True</td>\n",
       "    </tr>\n",
       "    <tr>\n",
       "      <th>10</th>\n",
       "      <td>Density</td>\n",
       "      <td>object</td>\n",
       "      <td>0</td>\n",
       "      <td>33</td>\n",
       "      <td>0</td>\n",
       "      <td>False</td>\n",
       "      <td>100/km 2 (260/sq mi)</td>\n",
       "      <td>99/km 2 (260/sq mi)</td>\n",
       "      <td>NaN</td>\n",
       "    </tr>\n",
       "    <tr>\n",
       "      <th>5</th>\n",
       "      <td>density_per_sq_mi</td>\n",
       "      <td>float64</td>\n",
       "      <td>0</td>\n",
       "      <td>31</td>\n",
       "      <td>0</td>\n",
       "      <td>True</td>\n",
       "      <td>9.8</td>\n",
       "      <td>2500</td>\n",
       "      <td>False</td>\n",
       "    </tr>\n",
       "    <tr>\n",
       "      <th>4</th>\n",
       "      <td>density_per_sq_km</td>\n",
       "      <td>float64</td>\n",
       "      <td>0</td>\n",
       "      <td>29</td>\n",
       "      <td>0</td>\n",
       "      <td>True</td>\n",
       "      <td>3.8</td>\n",
       "      <td>980</td>\n",
       "      <td>False</td>\n",
       "    </tr>\n",
       "    <tr>\n",
       "      <th>3</th>\n",
       "      <td>total_area_sq_mi</td>\n",
       "      <td>float64</td>\n",
       "      <td>0</td>\n",
       "      <td>34</td>\n",
       "      <td>0</td>\n",
       "      <td>True</td>\n",
       "      <td>711.2</td>\n",
       "      <td>22619</td>\n",
       "      <td>False</td>\n",
       "    </tr>\n",
       "    <tr>\n",
       "      <th>2</th>\n",
       "      <td>total_area_sq_km</td>\n",
       "      <td>float64</td>\n",
       "      <td>0</td>\n",
       "      <td>34</td>\n",
       "      <td>0</td>\n",
       "      <td>True</td>\n",
       "      <td>1842.1</td>\n",
       "      <td>58584</td>\n",
       "      <td>False</td>\n",
       "    </tr>\n",
       "    <tr>\n",
       "      <th>23</th>\n",
       "      <td>U.N. Region</td>\n",
       "      <td>object</td>\n",
       "      <td>0</td>\n",
       "      <td>7</td>\n",
       "      <td>0</td>\n",
       "      <td>False</td>\n",
       "      <td>Central Afghanistan</td>\n",
       "      <td>West Afghanistan</td>\n",
       "      <td>NaN</td>\n",
       "    </tr>\n",
       "  </tbody>\n",
       "</table>\n",
       "</div>"
      ],
      "text/plain": [
       "           column_name    dtype  count_blanks  count_uniques  count_zeroes  \\\n",
       "15       Ethnic groups   object            33              2             0   \n",
       "6      Deputy Governor   object            33              2             0   \n",
       "8          Established   object            33              2             0   \n",
       "9                Water   object            33              2             0   \n",
       "11             Website   object            33              2             0   \n",
       "7         Largest city   object            27              8             0   \n",
       "0          # Districts    int64             0             15             0   \n",
       "22             Centers   object             0             34             0   \n",
       "21  License Plate Code   object             0             34             0   \n",
       "20          Total Area   object             0             34             0   \n",
       "19       ISO 3166-2:AF   object             0             34             0   \n",
       "18      Main languages   object             0             28             0   \n",
       "17             Capital   object             0             34             0   \n",
       "16    Total Population   object             0             34             0   \n",
       "12            Governor   object             0             34             0   \n",
       "14           Time zone   object             0              1             0   \n",
       "13             Country   object             0              1             0   \n",
       "1     total_population    int64             0             34             0   \n",
       "10             Density   object             0             33             0   \n",
       "5    density_per_sq_mi  float64             0             31             0   \n",
       "4    density_per_sq_km  float64             0             29             0   \n",
       "3     total_area_sq_mi  float64             0             34             0   \n",
       "2     total_area_sq_km  float64             0             34             0   \n",
       "23         U.N. Region   object             0              7             0   \n",
       "\n",
       "    has_dates                   min_value                  max_value  \\\n",
       "15      False                         NaN                        NaN   \n",
       "6       False                         NaN                        NaN   \n",
       "8        True                         NaN                        NaN   \n",
       "9       False                         NaN                        NaN   \n",
       "11      False                         NaN                        NaN   \n",
       "7       False                         NaN                        NaN   \n",
       "0        True                           5                         29   \n",
       "22      False                    Asadabad                     Zaranj   \n",
       "21      False                         BAG                        ZBL   \n",
       "20      False  1,842.1 km 2 (711.2 sq mi)   9,934 km 2 (3,836 sq mi)   \n",
       "19      False                      AF-BAL                     AF-ZAB   \n",
       "18      False   Dari ( Hazaragi dialect )  Uzbek Turkmen Dari Pashto   \n",
       "17      False                    Asadabad                     Zaranj   \n",
       "16      False                   1,245,100                    953,800   \n",
       "12      False           Abdul Hai Naimati    Wahidullah Kalimzai [1]   \n",
       "14      False             UTC+04:30 (AST)            UTC+04:30 (AST)   \n",
       "13      False                 Afghanistan                Afghanistan   \n",
       "1        True                      100000                    4372977   \n",
       "10      False        100/km 2 (260/sq mi)        99/km 2 (260/sq mi)   \n",
       "5        True                         9.8                       2500   \n",
       "4        True                         3.8                        980   \n",
       "3        True                       711.2                      22619   \n",
       "2        True                      1842.1                      58584   \n",
       "23      False         Central Afghanistan           West Afghanistan   \n",
       "\n",
       "   only_integers  \n",
       "15           NaN  \n",
       "6            NaN  \n",
       "8          False  \n",
       "9            NaN  \n",
       "11           NaN  \n",
       "7            NaN  \n",
       "0           True  \n",
       "22           NaN  \n",
       "21           NaN  \n",
       "20           NaN  \n",
       "19           NaN  \n",
       "18           NaN  \n",
       "17           NaN  \n",
       "16           NaN  \n",
       "12           NaN  \n",
       "14           NaN  \n",
       "13           NaN  \n",
       "1           True  \n",
       "10           NaN  \n",
       "5          False  \n",
       "4          False  \n",
       "3          False  \n",
       "2          False  \n",
       "23           NaN  "
      ]
     },
     "execution_count": 154,
     "metadata": {},
     "output_type": "execute_result"
    }
   ],
   "source": [
    "\n",
    "column_descriptions_df = get_column_descriptions(afghanistan_provinces_df)\n",
    "column_descriptions_df.sort_values('count_blanks', ascending=False)"
   ]
  },
  {
   "cell_type": "code",
   "execution_count": 156,
   "metadata": {},
   "outputs": [],
   "source": [
    "\n",
    "column_name = 'Largest city'\n",
    "value_str = 'Waras'\n",
    "match_series = (afghanistan_provinces_df.index == 'Bamyan')\n",
    "afghanistan_provinces_df.loc[match_series, column_name] = value_str"
   ]
  },
  {
   "cell_type": "code",
   "execution_count": 158,
   "metadata": {},
   "outputs": [],
   "source": [
    "\n",
    "column_name = 'Largest city'\n",
    "value_str = 'Nili'\n",
    "match_series = (afghanistan_provinces_df.index == 'Daykundi')\n",
    "afghanistan_provinces_df.loc[match_series, column_name] = value_str"
   ]
  },
  {
   "cell_type": "code",
   "execution_count": 160,
   "metadata": {},
   "outputs": [],
   "source": [
    "\n",
    "column_name = 'Largest city'\n",
    "value_str = 'Farah'\n",
    "match_series = (afghanistan_provinces_df.index == 'Farah')\n",
    "afghanistan_provinces_df.loc[match_series, column_name] = value_str"
   ]
  },
  {
   "cell_type": "code",
   "execution_count": 162,
   "metadata": {},
   "outputs": [],
   "source": [
    "\n",
    "column_name = 'Largest city'\n",
    "value_str = 'Maymana'\n",
    "match_series = (afghanistan_provinces_df.index == 'Faryab')\n",
    "afghanistan_provinces_df.loc[match_series, column_name] = value_str"
   ]
  },
  {
   "cell_type": "code",
   "execution_count": 163,
   "metadata": {},
   "outputs": [
    {
     "name": "stdout",
     "output_type": "stream",
     "text": [
      "what is the largest city in the ghazni province in afghanistan?\n",
      "what is the largest city in the ghor province in afghanistan?\n",
      "what is the largest city in the helmand province in afghanistan?\n",
      "what is the largest city in the herat province in afghanistan?\n",
      "what is the largest city in the jowzjan province in afghanistan?\n",
      "what is the largest city in the kabul province in afghanistan?\n",
      "what is the largest city in the kandahar province in afghanistan?\n",
      "what is the largest city in the khost province in afghanistan?\n",
      "what is the largest city in the kunar province in afghanistan?\n",
      "what is the largest city in the kunduz province in afghanistan?\n",
      "what is the largest city in the laghman province in afghanistan?\n",
      "what is the largest city in the logar province in afghanistan?\n",
      "what is the largest city in the nangarhar province in afghanistan?\n",
      "what is the largest city in the nimruz province in afghanistan?\n",
      "what is the largest city in the nuristan province in afghanistan?\n",
      "what is the largest city in the urozgan province in afghanistan?\n",
      "what is the largest city in the panjshir province in afghanistan?\n",
      "what is the largest city in the parwan province in afghanistan?\n",
      "what is the largest city in the samangan province in afghanistan?\n",
      "what is the largest city in the sar-e pol province in afghanistan?\n",
      "what is the largest city in the takhar province in afghanistan?\n",
      "what is the largest city in the wardak province in afghanistan?\n",
      "what is the largest city in the zabul province in afghanistan?\n"
     ]
    }
   ],
   "source": [
    "\n",
    "column_name = 'Largest city'\n",
    "match_series = afghanistan_provinces_df[column_name].isnull()\n",
    "missing_data_list = afghanistan_provinces_df[match_series].index.tolist()\n",
    "for province_name in missing_data_list:\n",
    "    print('What is the {} in the {} province in Afghanistan?'.format(column_name, province_name).lower())"
   ]
  },
  {
   "cell_type": "code",
   "execution_count": 104,
   "metadata": {},
   "outputs": [
    {
     "data": {
      "text/plain": [
       "['Badakhshan', 'Badghis', 'Baghlan', 'Balkh', 'Bamyan', 'Daykundi', 'Farah', 'Faryab', 'Ghazni', 'Ghor', 'Helmand', 'Herat', 'Jowzjan', 'Kabul', 'Kandahar', 'Kapisa', 'Khost', 'Kunar', 'Kunduz', 'Laghman', 'Logar', 'Nangarhar', 'Nimruz', 'Nuristan', 'Urozgan', 'Paktia', 'Paktika', 'Panjshir', 'Parwan', 'Samangan', 'Sar-e Pol', 'Takhar', 'Wardak', 'Zabul']"
      ]
     },
     "execution_count": 104,
     "metadata": {},
     "output_type": "execute_result"
    }
   ],
   "source": [
    "\n",
    "afghanistan_provinces_df.index.tolist()"
   ]
  },
  {
   "cell_type": "code",
   "execution_count": 164,
   "metadata": {},
   "outputs": [],
   "source": [
    "\n",
    "column_name = 'Largest city'\n",
    "value_str = 'Sang-e-Masha'\n",
    "match_series = (afghanistan_provinces_df.index == 'Ghazni')\n",
    "afghanistan_provinces_df.loc[match_series, column_name] = value_str"
   ]
  },
  {
   "cell_type": "code",
   "execution_count": null,
   "metadata": {},
   "outputs": [],
   "source": []
  }
 ],
 "metadata": {
  "kernelspec": {
   "display_name": "Python 3",
   "language": "python",
   "name": "python3"
  },
  "language_info": {
   "codemirror_mode": {
    "name": "ipython",
    "version": 3
   },
   "file_extension": ".py",
   "mimetype": "text/x-python",
   "name": "python",
   "nbconvert_exporter": "python",
   "pygments_lexer": "ipython3",
   "version": "3.7.6"
  }
 },
 "nbformat": 4,
 "nbformat_minor": 4
}
