{
 "cells": [
  {
   "cell_type": "code",
   "execution_count": null,
   "metadata": {},
   "outputs": [],
   "source": []
  },
  {
   "cell_type": "code",
   "execution_count": 1,
   "metadata": {},
   "outputs": [],
   "source": [
    "\n",
    "import sys\n",
    "\n",
    "# Insert at 1, 0 is the script path (or '' in REPL)\n",
    "sys.path.insert(1, '../py')"
   ]
  },
  {
   "cell_type": "code",
   "execution_count": 2,
   "metadata": {},
   "outputs": [
    {
     "name": "stdout",
     "output_type": "stream",
     "text": [
      "Pretty printing has been turned OFF\n",
      "D:\\Documents\\Repositories\\notebooks\\StatsByCountry\\ipynb\\Clean Afghanistan Provinces DataFrame.ipynb\n",
      "['s.attempt_to_pickle', 's.data_csv_folder', 's.data_folder', 's.encoding_type', 's.load_csv', 's.load_dataframes', 's.load_object', 's.save_dataframes', 's.saves_csv_folder', 's.saves_folder', 's.saves_pickle_folder', 's.store_objects']\n"
     ]
    },
    {
     "data": {
      "text/plain": [
       "['Config', 'In', 'Out', 'RandomForestClassifier', 'SequenceMatcher', '_', '__', '___', '__builtin__', '__builtins__', '__doc__', '__loader__', '__name__', '__nonzero__', '__package__', '__spec__', '_dh', '_i', '_i1', '_i2', '_ih', '_ii', '_iii', '_oh', 'check_4_doubles', 'check_for_typos', 'conjunctify_list', 'encoding', 'example_iterrows', 'exit', 'filepath_regex', 'get_classifier', 'get_column_descriptions', 'get_data_structs_dataframe', 'get_datastructure_prediction', 'get_dir_tree', 'get_importances', 'get_input_sample', 'get_ipython', 'get_max_rsquared_adj', 'get_module_version', 'get_notebook_path', 'get_page_tables', 'get_struct_name', 'io', 'ipykernel', 'json', 'jupyter_config_dir', 'math', 'notebook_path', 'notebookapp', 'np', 'os', 'pd', 'plt', 'preprocess_data', 'quit', 're', 's', 'similar', 'sm', 'sns', 'stats', 'storage', 'sys', 'text_editor_path', 'time', 'url_regex', 'urllib']"
      ]
     },
     "execution_count": 2,
     "metadata": {},
     "output_type": "execute_result"
    }
   ],
   "source": [
    "\n",
    "import storage\n",
    "import numpy as np\n",
    "%run ../../load_magic/environment.py\n",
    "%run ../../load_magic/dataframes.py\n",
    "%run ../../load_magic/lists.py\n",
    "%pprint\n",
    "\n",
    "notebook_path = get_notebook_path()\n",
    "print(notebook_path)\n",
    "s = storage.Storage()\n",
    "print(['s.{}'.format(fn) for fn in dir(s) if not fn.startswith('_')])\n",
    "text_editor_path = r'C:\\Program Files\\Notepad++\\notepad++.exe'\n",
    "dir()"
   ]
  },
  {
   "cell_type": "code",
   "execution_count": 3,
   "metadata": {},
   "outputs": [],
   "source": [
    "\n",
    "afghanistan_provinces_df = s.load_object('afghanistan_provinces_df')"
   ]
  },
  {
   "cell_type": "code",
   "execution_count": 4,
   "metadata": {},
   "outputs": [
    {
     "data": {
      "text/html": [
       "<div>\n",
       "<style scoped>\n",
       "    .dataframe tbody tr th:only-of-type {\n",
       "        vertical-align: middle;\n",
       "    }\n",
       "\n",
       "    .dataframe tbody tr th {\n",
       "        vertical-align: top;\n",
       "    }\n",
       "\n",
       "    .dataframe thead th {\n",
       "        text-align: right;\n",
       "    }\n",
       "</style>\n",
       "<table border=\"1\" class=\"dataframe\">\n",
       "  <thead>\n",
       "    <tr style=\"text-align: right;\">\n",
       "      <th></th>\n",
       "      <th>Total Area</th>\n",
       "      <th>ISO 3166-2:AF</th>\n",
       "      <th>Deputy Governor</th>\n",
       "      <th>total_area_sq_mi</th>\n",
       "      <th>Capital</th>\n",
       "      <th>Main languages</th>\n",
       "      <th>density_per_sq_mi</th>\n",
       "      <th>Total Population</th>\n",
       "      <th># Districts</th>\n",
       "    </tr>\n",
       "  </thead>\n",
       "  <tbody>\n",
       "    <tr>\n",
       "      <th>Laghman</th>\n",
       "      <td>3,842.6 km 2 (1,483.6 sq mi)</td>\n",
       "      <td>AF-LAG</td>\n",
       "      <td>NaN</td>\n",
       "      <td>1483.6</td>\n",
       "      <td>Mihtarlam</td>\n",
       "      <td>Pashto Dari Pashayi</td>\n",
       "      <td>300</td>\n",
       "      <td>445,588</td>\n",
       "      <td>5</td>\n",
       "    </tr>\n",
       "    <tr>\n",
       "      <th>Badghis</th>\n",
       "      <td>20,590.6 km 2 (7,950.1 sq mi)</td>\n",
       "      <td>AF-BDG</td>\n",
       "      <td>NaN</td>\n",
       "      <td>7950.1</td>\n",
       "      <td>Qala-e-Naw</td>\n",
       "      <td>Turkman, Pashto, Dari-Persian</td>\n",
       "      <td>54</td>\n",
       "      <td>499,393</td>\n",
       "      <td>7</td>\n",
       "    </tr>\n",
       "    <tr>\n",
       "      <th>Kunduz</th>\n",
       "      <td>8,040 km 2 (3,100 sq mi)</td>\n",
       "      <td>AF-KDZ</td>\n",
       "      <td>NaN</td>\n",
       "      <td>3100</td>\n",
       "      <td>Kunduz</td>\n",
       "      <td>Dari Pashto Uzbek Turkmen</td>\n",
       "      <td>310</td>\n",
       "      <td>953,800</td>\n",
       "      <td>7</td>\n",
       "    </tr>\n",
       "    <tr>\n",
       "      <th>Panjshir</th>\n",
       "      <td>3,610 km 2 (1,390 sq mi)</td>\n",
       "      <td>AF-PAN</td>\n",
       "      <td>NaN</td>\n",
       "      <td>1390</td>\n",
       "      <td>Bazarak</td>\n",
       "      <td>Farsi</td>\n",
       "      <td>72</td>\n",
       "      <td>100,000 Outside the province</td>\n",
       "      <td>7</td>\n",
       "    </tr>\n",
       "    <tr>\n",
       "      <th>Herat</th>\n",
       "      <td>54,778.0 km 2 (21,149.9 sq mi)</td>\n",
       "      <td>AF-HER</td>\n",
       "      <td>NaN</td>\n",
       "      <td>21149.9</td>\n",
       "      <td>Herat</td>\n",
       "      <td>Dari , Pashto</td>\n",
       "      <td>89</td>\n",
       "      <td>1,890,202</td>\n",
       "      <td>15</td>\n",
       "    </tr>\n",
       "  </tbody>\n",
       "</table>\n",
       "</div>"
      ],
      "text/plain": [
       "                              Total Area ISO 3166-2:AF Deputy Governor  \\\n",
       "Laghman     3,842.6 km 2 (1,483.6 sq mi)        AF-LAG             NaN   \n",
       "Badghis    20,590.6 km 2 (7,950.1 sq mi)        AF-BDG             NaN   \n",
       "Kunduz          8,040 km 2 (3,100 sq mi)        AF-KDZ             NaN   \n",
       "Panjshir        3,610 km 2 (1,390 sq mi)        AF-PAN             NaN   \n",
       "Herat     54,778.0 km 2 (21,149.9 sq mi)        AF-HER             NaN   \n",
       "\n",
       "         total_area_sq_mi     Capital                 Main languages  \\\n",
       "Laghman            1483.6   Mihtarlam            Pashto Dari Pashayi   \n",
       "Badghis            7950.1  Qala-e-Naw  Turkman, Pashto, Dari-Persian   \n",
       "Kunduz               3100      Kunduz      Dari Pashto Uzbek Turkmen   \n",
       "Panjshir             1390     Bazarak                          Farsi   \n",
       "Herat             21149.9       Herat                  Dari , Pashto   \n",
       "\n",
       "         density_per_sq_mi              Total Population # Districts  \n",
       "Laghman                300                       445,588           5  \n",
       "Badghis                 54                       499,393           7  \n",
       "Kunduz                 310                       953,800           7  \n",
       "Panjshir                72  100,000 Outside the province           7  \n",
       "Herat                   89                     1,890,202          15  "
      ]
     },
     "execution_count": 4,
     "metadata": {},
     "output_type": "execute_result"
    }
   ],
   "source": [
    "\n",
    "afghanistan_provinces_df.sample(5).T.sample(9).T"
   ]
  },
  {
   "cell_type": "code",
   "execution_count": 5,
   "metadata": {},
   "outputs": [],
   "source": [
    "\n",
    "afghanistan_provinces_df['total_population'] = afghanistan_provinces_df['Total Population'].map(lambda x: int(re.sub('\\D+', '', str(x))))"
   ]
  },
  {
   "cell_type": "code",
   "execution_count": 6,
   "metadata": {},
   "outputs": [],
   "source": [
    "\n",
    "floats_regex = re.compile(r'([\\d+,.]+) km 2 \\(([\\d+,.]+) sq mi\\)')\n",
    "def f(x):\n",
    "    match_obj = floats_regex.search(str(x))\n",
    "    if match_obj:\n",
    "        km_str = match_obj.group(1)\n",
    "    result = re.sub(',', '', km_str)\n",
    "    result = float(result)\n",
    "    \n",
    "    return result\n",
    "afghanistan_provinces_df['total_area_sq_km'] = afghanistan_provinces_df['Total Area'].map(f)"
   ]
  },
  {
   "cell_type": "code",
   "execution_count": 7,
   "metadata": {},
   "outputs": [],
   "source": [
    "\n",
    "def f(x):\n",
    "    match_obj = floats_regex.search(str(x))\n",
    "    if match_obj:\n",
    "        mi_str = match_obj.group(2)\n",
    "    result = re.sub(',', '', mi_str)\n",
    "    result = float(result)\n",
    "    \n",
    "    return result\n",
    "afghanistan_provinces_df['total_area_sq_mi'] = afghanistan_provinces_df['Total Area'].map(f)"
   ]
  },
  {
   "cell_type": "code",
   "execution_count": 8,
   "metadata": {},
   "outputs": [
    {
     "data": {
      "text/plain": [
       "['Country', 'Total Population', 'Total Area', 'total_population', 'total_area_sq_km', 'total_area_sq_mi']"
      ]
     },
     "execution_count": 8,
     "metadata": {},
     "output_type": "execute_result"
    }
   ],
   "source": [
    "\n",
    "afghanistan_provinces_df.dropna(axis='columns').columns.tolist()"
   ]
  },
  {
   "cell_type": "code",
   "execution_count": 10,
   "metadata": {},
   "outputs": [
    {
     "data": {
      "text/plain": [
       "['21/km 2 (53/sq mi)', '20.9/km 2 (54/sq mi)', '41/km 2 (110/sq mi)', '77/km 2 (200/sq mi)', '30/km 2 (78/sq mi)', nan, '19/km 2 (49/sq mi)', '46/km 2 (120/sq mi)', '61/km 2 (160/sq mi)', '19/km 2 (50/sq mi)', '25/km 2 (64/sq mi)', '35/km 2 (89/sq mi)', '980/km 2 (2,500/sq mi)', '25/km 2 (66/sq mi)', '240/km 2 (620/sq mi)', '140/km 2 (360/sq mi)', '99/km 2 (260/sq mi)', '120/km 2 (310/sq mi)', '120/km 2 (300/sq mi)', '100/km 2 (260/sq mi)', '190/km 2 (480/sq mi)', '3.8/km 2 (9.8/sq mi)', '15/km 2 (40/sq mi)', '86/km 2 (220/sq mi)', '22/km 2 (58/sq mi)', '110/km 2 (290/sq mi)', '33/km 2 (85/sq mi)', '33/km 2 (84/sq mi)', '76/km 2 (200/sq mi)', '57/km 2 (150/sq mi)', '18/km 2 (45/sq mi)']"
      ]
     },
     "execution_count": 10,
     "metadata": {},
     "output_type": "execute_result"
    }
   ],
   "source": [
    "\n",
    "afghanistan_provinces_df['Density'].unique().tolist()"
   ]
  },
  {
   "cell_type": "code",
   "execution_count": 11,
   "metadata": {},
   "outputs": [
    {
     "name": "stderr",
     "output_type": "stream",
     "text": [
      "C:\\Users\\577342\\AppData\\Local\\Continuum\\anaconda3\\lib\\site-packages\\ipykernel_launcher.py:3: FutureWarning: The pandas.np module is deprecated and will be removed from pandas in a future version. Import numpy directly instead\n",
      "  This is separate from the ipykernel package so we can avoid doing imports until\n"
     ]
    }
   ],
   "source": [
    "\n",
    "density_regex = re.compile(r'([\\d+,.]+)/km 2 \\(([\\d+,.]+)/sq mi\\)')\n",
    "def f(x):\n",
    "    result = pd.np.nan\n",
    "    match_obj = density_regex.search(str(x))\n",
    "    if match_obj:\n",
    "        km_str = match_obj.group(1)\n",
    "        result = re.sub(',', '', km_str)\n",
    "        result = float(result)\n",
    "    \n",
    "    return result\n",
    "afghanistan_provinces_df['density_per_sq_km'] = afghanistan_provinces_df['Density'].map(f)"
   ]
  },
  {
   "cell_type": "code",
   "execution_count": 12,
   "metadata": {},
   "outputs": [
    {
     "name": "stderr",
     "output_type": "stream",
     "text": [
      "C:\\Users\\577342\\AppData\\Local\\Continuum\\anaconda3\\lib\\site-packages\\ipykernel_launcher.py:2: FutureWarning: The pandas.np module is deprecated and will be removed from pandas in a future version. Import numpy directly instead\n",
      "  \n"
     ]
    }
   ],
   "source": [
    "\n",
    "def f(x):\n",
    "    result = pd.np.nan\n",
    "    match_obj = density_regex.search(str(x))\n",
    "    if match_obj:\n",
    "        mi_str = match_obj.group(2)\n",
    "        result = re.sub(',', '', mi_str)\n",
    "        result = float(result)\n",
    "    \n",
    "    return result\n",
    "afghanistan_provinces_df['density_per_sq_mi'] = afghanistan_provinces_df['Density'].map(f)"
   ]
  },
  {
   "cell_type": "code",
   "execution_count": 13,
   "metadata": {},
   "outputs": [
    {
     "data": {
      "text/plain": [
       "['Deputy Governor', 'Largest city', 'Established', 'Water', 'Languages', 'Provincial seat', 'Density', 'Website', 'Governor', 'Country', 'District', 'Time zone', 'Ethnic groups', 'Provincial center', 'Total Population', 'Area codes', 'Capital', 'Main languages', 'Districts', 'ISO code', 'Total Area', 'total_population', 'total_area_sq_km', 'total_area_sq_mi', 'density_per_sq_km', 'density_per_sq_mi']"
      ]
     },
     "execution_count": 13,
     "metadata": {},
     "output_type": "execute_result"
    }
   ],
   "source": [
    "\n",
    "afghanistan_provinces_df.columns.tolist()"
   ]
  },
  {
   "cell_type": "code",
   "execution_count": 14,
   "metadata": {},
   "outputs": [
    {
     "data": {
      "text/html": [
       "<div>\n",
       "<style scoped>\n",
       "    .dataframe tbody tr th:only-of-type {\n",
       "        vertical-align: middle;\n",
       "    }\n",
       "\n",
       "    .dataframe tbody tr th {\n",
       "        vertical-align: top;\n",
       "    }\n",
       "\n",
       "    .dataframe thead th {\n",
       "        text-align: right;\n",
       "    }\n",
       "</style>\n",
       "<table border=\"1\" class=\"dataframe\">\n",
       "  <thead>\n",
       "    <tr style=\"text-align: right;\">\n",
       "      <th></th>\n",
       "      <th>total_population</th>\n",
       "      <th>total_area_sq_km</th>\n",
       "      <th>total_area_sq_mi</th>\n",
       "      <th>density_per_sq_km</th>\n",
       "      <th>density_per_sq_mi</th>\n",
       "    </tr>\n",
       "  </thead>\n",
       "  <tbody>\n",
       "    <tr>\n",
       "      <th>Paktia Province</th>\n",
       "      <td>551987</td>\n",
       "      <td>6432.0</td>\n",
       "      <td>2483.0</td>\n",
       "      <td>86.0</td>\n",
       "      <td>220.0</td>\n",
       "    </tr>\n",
       "    <tr>\n",
       "      <th>Badghis Province</th>\n",
       "      <td>499393</td>\n",
       "      <td>20590.6</td>\n",
       "      <td>7950.1</td>\n",
       "      <td>20.9</td>\n",
       "      <td>54.0</td>\n",
       "    </tr>\n",
       "    <tr>\n",
       "      <th>Khost Province</th>\n",
       "      <td>574582</td>\n",
       "      <td>4151.5</td>\n",
       "      <td>1602.9</td>\n",
       "      <td>140.0</td>\n",
       "      <td>360.0</td>\n",
       "    </tr>\n",
       "    <tr>\n",
       "      <th>Farah Province</th>\n",
       "      <td>925016</td>\n",
       "      <td>48470.9</td>\n",
       "      <td>18714.7</td>\n",
       "      <td>19.0</td>\n",
       "      <td>49.0</td>\n",
       "    </tr>\n",
       "    <tr>\n",
       "      <th>Kabul Province</th>\n",
       "      <td>4372977</td>\n",
       "      <td>4461.6</td>\n",
       "      <td>1722.6</td>\n",
       "      <td>980.0</td>\n",
       "      <td>2500.0</td>\n",
       "    </tr>\n",
       "  </tbody>\n",
       "</table>\n",
       "</div>"
      ],
      "text/plain": [
       "                  total_population  total_area_sq_km  total_area_sq_mi  \\\n",
       "Paktia Province             551987            6432.0            2483.0   \n",
       "Badghis Province            499393           20590.6            7950.1   \n",
       "Khost Province              574582            4151.5            1602.9   \n",
       "Farah Province              925016           48470.9           18714.7   \n",
       "Kabul Province             4372977            4461.6            1722.6   \n",
       "\n",
       "                  density_per_sq_km  density_per_sq_mi  \n",
       "Paktia Province                86.0              220.0  \n",
       "Badghis Province               20.9               54.0  \n",
       "Khost Province                140.0              360.0  \n",
       "Farah Province                 19.0               49.0  \n",
       "Kabul Province                980.0             2500.0  "
      ]
     },
     "execution_count": 14,
     "metadata": {},
     "output_type": "execute_result"
    }
   ],
   "source": [
    "\n",
    "columns_list = ['total_population', 'total_area_sq_km', 'total_area_sq_mi', 'density_per_sq_km', 'density_per_sq_mi']\n",
    "afghanistan_provinces_df[columns_list].sample(5)"
   ]
  },
  {
   "cell_type": "code",
   "execution_count": 19,
   "metadata": {},
   "outputs": [],
   "source": [
    "\n",
    "column_name = 'Governor'\n",
    "mask_series = afghanistan_provinces_df[column_name].isnull()\n",
    "column_value = 'Ahmadullah Alizai Son of Haji Abdul Karim Khan'\n",
    "afghanistan_provinces_df.loc[mask_series, column_name] = column_value"
   ]
  },
  {
   "cell_type": "code",
   "execution_count": 32,
   "metadata": {},
   "outputs": [],
   "source": [
    "\n",
    "afghanistan_provinces_df.index = ['Badakhshan', 'Badghis', 'Baghlan', 'Balkh', 'Bamyan', 'Daykundi', 'Farah', 'Faryab', 'Ghazni', 'Ghor',\n",
    "                                  'Helmand', 'Herat', 'Jowzjan', 'Kabul', 'Kandahar', 'Kapisa', 'Khost', 'Kunar', 'Kunduz', 'Laghman',\n",
    "                                  'Logar', 'Nangarhar', 'Nimruz', 'Nuristan', 'Urozgan', 'Paktia', 'Paktika', 'Panjshir', 'Parwan',\n",
    "                                  'Samangan', 'Sar-e Pol', 'Takhar', 'Wardak', 'Zabul']"
   ]
  },
  {
   "cell_type": "code",
   "execution_count": 36,
   "metadata": {},
   "outputs": [
    {
     "name": "stdout",
     "output_type": "stream",
     "text": [
      "[(2, (34, 9)), (4, (11, 2)), (0, (9, 2)), (1, (6, 1)), (10, (5, 2)), (3, (1, 2)), (5, (1, 2)), (6, (1, 2)), (7, (1, 2)), (8, (1, 2)), (9, (1, 3))]\n"
     ]
    }
   ],
   "source": [
    "\n",
    "tables_url = 'https://en.wikipedia.org/wiki/Provinces_of_Afghanistan'\n",
    "page_tables_list = get_page_tables(tables_url)"
   ]
  },
  {
   "cell_type": "code",
   "execution_count": 37,
   "metadata": {},
   "outputs": [
    {
     "name": "stdout",
     "output_type": "stream",
     "text": [
      "['Province', 'Map #', 'ISO 3166-2:AF[4]', 'License Plate Code', 'Centers', 'Population (2015)[5]', 'Area (km²)', '# Districts', 'U.N. Region']\n",
      "['Badakhshan', 'Badghis', 'Baghlan', 'Balkh', 'Bamyan', 'Daykundi', 'Farah', 'Faryab', 'Ghazni', 'Ghor', 'Helmand', 'Herat', 'Jowzjan', 'Kabul', 'Kandahar', 'Kapisa', 'Khost', 'Kunar', 'Kunduz', 'Laghman', 'Logar', 'Nangarhar', 'Nimruz', 'Nuristan', 'Paktia', 'Paktika', 'Panjshir', 'Parwan', 'Samangan', 'Sar-e Pol', 'Takhar', 'Urozgan', 'Wardak', 'Zabul']\n"
     ]
    },
    {
     "data": {
      "text/plain": [
       "set()"
      ]
     },
     "execution_count": 37,
     "metadata": {},
     "output_type": "execute_result"
    }
   ],
   "source": [
    "\n",
    "df = page_tables_list[2].copy()\n",
    "print(df.columns.tolist())\n",
    "p_list = df['Province'].tolist()\n",
    "print(p_list)\n",
    "set(afghanistan_provinces_df.index) - set(p_list)"
   ]
  },
  {
   "cell_type": "code",
   "execution_count": 45,
   "metadata": {},
   "outputs": [],
   "source": [
    "\n",
    "afghanistan_provinces_df.columns = ['Deputy Governor', 'Largest city', 'Established', 'Water', 'Languages', 'Provincial seat', 'Density',\n",
    "                                    'Website', 'Governor', 'Country', 'District', 'Time zone', 'Ethnic groups',\n",
    "                                    'Provincial center', 'Total Population', 'Area codes', 'Capital', 'Main languages', 'Districts',\n",
    "                                    'ISO 3166-2:AF', 'Total Area', 'total_population', 'total_area_sq_km', 'total_area_sq_mi',\n",
    "                                    'density_per_sq_km', 'density_per_sq_mi']"
   ]
  },
  {
   "cell_type": "code",
   "execution_count": 50,
   "metadata": {},
   "outputs": [],
   "source": [
    "\n",
    "df.set_index('Province', drop=True, inplace=True)"
   ]
  },
  {
   "cell_type": "code",
   "execution_count": 46,
   "metadata": {},
   "outputs": [
    {
     "name": "stdout",
     "output_type": "stream",
     "text": [
      "Pickling to D:\\Documents\\Repositories\\notebooks\\StatsByCountry\\saves\\pickle\\afghanistan_provinces_df.pickle\n"
     ]
    }
   ],
   "source": [
    "\n",
    "s.store_objects(afghanistan_provinces_df=afghanistan_provinces_df)"
   ]
  },
  {
   "cell_type": "code",
   "execution_count": 74,
   "metadata": {},
   "outputs": [],
   "source": [
    "\n",
    "afghanistan_provinces_df = s.load_object('afghanistan_provinces_df')"
   ]
  },
  {
   "cell_type": "code",
   "execution_count": 76,
   "metadata": {},
   "outputs": [],
   "source": [
    "\n",
    "column_str = 'ISO 3166-2:AF'\n",
    "for province_name, row_series in afghanistan_provinces_df.iterrows():\n",
    "    old_iso_code = row_series[column_str]\n",
    "    mask_series = (df.index == province_name)\n",
    "    new_iso_code = df[mask_series]['{}[4]'.format(column_str)].tolist()[0]\n",
    "    if old_iso_code != new_iso_code:\n",
    "        afghanistan_provinces_df.loc[province_name, column_str] = new_iso_code"
   ]
  },
  {
   "cell_type": "code",
   "execution_count": 77,
   "metadata": {},
   "outputs": [
    {
     "name": "stdout",
     "output_type": "stream",
     "text": [
      "['Deputy Governor', 'Largest city', 'Established', 'Water', 'Languages', 'Provincial seat', 'Density', 'Website', 'Governor', 'Country', 'District', 'Time zone', 'Ethnic groups', 'Provincial center', 'Total Population', 'Area codes', 'Capital', 'Main languages', 'Districts', 'ISO 3166-2:AF', 'Total Area', 'total_population', 'total_area_sq_km', 'total_area_sq_mi', 'density_per_sq_km', 'density_per_sq_mi', 'License Plate Code', 'Centers', '# Districts', 'U.N. Region']\n"
     ]
    },
    {
     "data": {
      "text/html": [
       "<div>\n",
       "<style scoped>\n",
       "    .dataframe tbody tr th:only-of-type {\n",
       "        vertical-align: middle;\n",
       "    }\n",
       "\n",
       "    .dataframe tbody tr th {\n",
       "        vertical-align: top;\n",
       "    }\n",
       "\n",
       "    .dataframe thead th {\n",
       "        text-align: right;\n",
       "    }\n",
       "</style>\n",
       "<table border=\"1\" class=\"dataframe\">\n",
       "  <thead>\n",
       "    <tr style=\"text-align: right;\">\n",
       "      <th></th>\n",
       "      <th>total_area_sq_km</th>\n",
       "      <th>District</th>\n",
       "      <th>Largest city</th>\n",
       "      <th>total_area_sq_mi</th>\n",
       "      <th>Time zone</th>\n",
       "    </tr>\n",
       "  </thead>\n",
       "  <tbody>\n",
       "    <tr>\n",
       "      <th>Farah</th>\n",
       "      <td>48470.9</td>\n",
       "      <td>NaN</td>\n",
       "      <td>NaN</td>\n",
       "      <td>18714.7</td>\n",
       "      <td>UTC+4:30</td>\n",
       "    </tr>\n",
       "    <tr>\n",
       "      <th>Baghlan</th>\n",
       "      <td>21118</td>\n",
       "      <td>NaN</td>\n",
       "      <td>NaN</td>\n",
       "      <td>8154</td>\n",
       "      <td>UTC+4:30</td>\n",
       "    </tr>\n",
       "    <tr>\n",
       "      <th>Herat</th>\n",
       "      <td>54778</td>\n",
       "      <td>NaN</td>\n",
       "      <td>NaN</td>\n",
       "      <td>21149.9</td>\n",
       "      <td>UTC+4:30</td>\n",
       "    </tr>\n",
       "    <tr>\n",
       "      <th>Daykundi</th>\n",
       "      <td>18088</td>\n",
       "      <td>NaN</td>\n",
       "      <td>NaN</td>\n",
       "      <td>6984</td>\n",
       "      <td>UTC+4:30</td>\n",
       "    </tr>\n",
       "    <tr>\n",
       "      <th>Kandahar</th>\n",
       "      <td>54022</td>\n",
       "      <td>NaN</td>\n",
       "      <td>NaN</td>\n",
       "      <td>20858</td>\n",
       "      <td>UTC+4:30</td>\n",
       "    </tr>\n",
       "  </tbody>\n",
       "</table>\n",
       "</div>"
      ],
      "text/plain": [
       "         total_area_sq_km District Largest city total_area_sq_mi Time zone\n",
       "Farah             48470.9      NaN          NaN          18714.7  UTC+4:30\n",
       "Baghlan             21118      NaN          NaN             8154  UTC+4:30\n",
       "Herat               54778      NaN          NaN          21149.9  UTC+4:30\n",
       "Daykundi            18088      NaN          NaN             6984  UTC+4:30\n",
       "Kandahar            54022      NaN          NaN            20858  UTC+4:30"
      ]
     },
     "execution_count": 77,
     "metadata": {},
     "output_type": "execute_result"
    }
   ],
   "source": [
    "\n",
    "columns_list = ['License Plate Code', 'Centers', '# Districts', 'U.N. Region']\n",
    "afghanistan_provinces_df = pd.merge(afghanistan_provinces_df, df[columns_list], left_index=True, right_index=True, suffixes=('_main', '_aux'))\n",
    "print(afghanistan_provinces_df.columns.tolist())\n",
    "afghanistan_provinces_df.sample(5).T.sample(5).T"
   ]
  },
  {
   "cell_type": "code",
   "execution_count": 78,
   "metadata": {},
   "outputs": [],
   "source": [
    "\n",
    "language_str = 'Turkman, Pashto, Dari-Persian'\n",
    "mask_series = (afghanistan_provinces_df.index == 'Badghis')\n",
    "afghanistan_provinces_df.loc[mask_series, 'Main languages'] = language_str"
   ]
  },
  {
   "cell_type": "code",
   "execution_count": 79,
   "metadata": {},
   "outputs": [],
   "source": [
    "\n",
    "language_str = 'Pashto'\n",
    "mask_series = (afghanistan_provinces_df.index == 'Kunar')\n",
    "afghanistan_provinces_df.loc[mask_series, 'Main languages'] = language_str"
   ]
  },
  {
   "cell_type": "code",
   "execution_count": 80,
   "metadata": {},
   "outputs": [
    {
     "data": {
      "text/plain": [
       "['Languages', 'Main languages']"
      ]
     },
     "execution_count": 80,
     "metadata": {},
     "output_type": "execute_result"
    }
   ],
   "source": [
    "\n",
    "[cn for cn in afghanistan_provinces_df.columns if 'lan' in cn.lower()]"
   ]
  },
  {
   "cell_type": "code",
   "execution_count": 81,
   "metadata": {},
   "outputs": [
    {
     "data": {
      "text/plain": [
       "[nan, 'Dari Persian , Pashto , Turkmen']"
      ]
     },
     "execution_count": 81,
     "metadata": {},
     "output_type": "execute_result"
    }
   ],
   "source": [
    "\n",
    "afghanistan_provinces_df['Languages'].unique().tolist()"
   ]
  },
  {
   "cell_type": "code",
   "execution_count": 82,
   "metadata": {},
   "outputs": [
    {
     "data": {
      "text/plain": [
       "['Dari , Khowar , Kyrgyz , Shughni , Munji , Ishkashimi , Wakhi', 'Turkman, Pashto, Dari-Persian', 'Dari (Dari-Persian) Pashto', 'Dari-Persian , Pashto , Uzbek , Turkmen', 'Dari ( Hazaragi dialect )', 'Pashto Dari', 'Uzbek Turkmen Dari Pashto', 'Mostly( Pashto ) Hazaragi', 'Hazaragi Dari', 'Pashto &amp; Balochi', 'Dari , Pashto', 'Dari Uzbek Turkmen', 'Dari Pashto', 'Pashto and Dari-Persian', 'Pashto , Persian and Pashayi', 'Pashto', 'Dari Pashto Uzbek Turkmen', 'Pashto Dari Pashayi', 'Pashto ,[language', 'Dari Pashto Balochi', 'Nuristani', 'Pashto and Persian', 'Farsi', 'Dari and Pashto [2]', 'Persian , Uzbeki and Turkmeni', 'Dari-Persian , Uzbek and Turkmen', 'Dari (Afghan Persian)', 'Pashto Persian']"
      ]
     },
     "execution_count": 82,
     "metadata": {},
     "output_type": "execute_result"
    }
   ],
   "source": [
    "\n",
    "afghanistan_provinces_df['Main languages'].unique().tolist()"
   ]
  },
  {
   "cell_type": "code",
   "execution_count": 84,
   "metadata": {},
   "outputs": [],
   "source": [
    "\n",
    "column_name = 'Capital'\n",
    "value_str = 'Qala-e-Naw'\n",
    "mask_series = (afghanistan_provinces_df.index == 'Badghis')\n",
    "afghanistan_provinces_df.loc[mask_series, column_name] = value_str"
   ]
  },
  {
   "cell_type": "code",
   "execution_count": 85,
   "metadata": {},
   "outputs": [],
   "source": [
    "\n",
    "column_name = 'Capital'\n",
    "value_str = 'Pârûn'\n",
    "mask_series = (afghanistan_provinces_df.index == 'Nuristan')\n",
    "afghanistan_provinces_df.loc[mask_series, column_name] = value_str"
   ]
  },
  {
   "cell_type": "code",
   "execution_count": 90,
   "metadata": {},
   "outputs": [],
   "source": [
    "\n",
    "column_name = 'Time zone'\n",
    "value_str = '+ 4.30'\n",
    "mask_series = (afghanistan_provinces_df.index == 'Badghis')\n",
    "afghanistan_provinces_df.loc[mask_series, column_name] = value_str"
   ]
  },
  {
   "cell_type": "code",
   "execution_count": 92,
   "metadata": {},
   "outputs": [],
   "source": [
    "\n",
    "column_name = 'Time zone'\n",
    "value_str = '+ 4.30'\n",
    "mask_series = (afghanistan_provinces_df.index == 'Wardak')\n",
    "afghanistan_provinces_df.loc[mask_series, column_name] = value_str"
   ]
  },
  {
   "cell_type": "code",
   "execution_count": 97,
   "metadata": {},
   "outputs": [
    {
     "data": {
      "text/plain": [
       "['UTC+4:30', '+ 4.30', 'GMT+4:30', 'UTC+04:30 ( AST )']"
      ]
     },
     "execution_count": 97,
     "metadata": {},
     "output_type": "execute_result"
    }
   ],
   "source": [
    "\n",
    "column_name = 'Time zone'\n",
    "afghanistan_provinces_df[column_name].unique().tolist()"
   ]
  },
  {
   "cell_type": "code",
   "execution_count": 98,
   "metadata": {},
   "outputs": [],
   "source": [
    "\n",
    "column_name = 'Time zone'\n",
    "afghanistan_provinces_df[column_name] = 'UTC+04:30 (AST)'"
   ]
  },
  {
   "cell_type": "code",
   "execution_count": 105,
   "metadata": {},
   "outputs": [],
   "source": [
    "\n",
    "column_name = 'Density'\n",
    "value_str = '49.4 /km² (128 /sq mi)'\n",
    "mask_series = (afghanistan_provinces_df.index == 'Daykundi')\n",
    "afghanistan_provinces_df.loc[mask_series, column_name] = value_str"
   ]
  },
  {
   "cell_type": "code",
   "execution_count": 106,
   "metadata": {},
   "outputs": [],
   "source": [
    "\n",
    "column_name = 'density_per_sq_km'\n",
    "value_str = 49.4\n",
    "mask_series = (afghanistan_provinces_df.index == 'Daykundi')\n",
    "afghanistan_provinces_df.loc[mask_series, column_name] = value_str"
   ]
  },
  {
   "cell_type": "code",
   "execution_count": 117,
   "metadata": {},
   "outputs": [],
   "source": [
    "\n",
    "column_name = 'density_per_sq_mi'\n",
    "value_str = 128\n",
    "mask_series = (afghanistan_provinces_df.index == 'Daykundi')\n",
    "afghanistan_provinces_df.loc[mask_series, column_name] = value_str"
   ]
  },
  {
   "cell_type": "code",
   "execution_count": 114,
   "metadata": {},
   "outputs": [],
   "source": [
    "\n",
    "column_name = 'Density'\n",
    "mask_series = (afghanistan_provinces_df.index == 'Urozgan')\n",
    "total_population = afghanistan_provinces_df[mask_series]['total_population'].tolist()[0]\n",
    "total_area_sq_km = afghanistan_provinces_df[mask_series]['total_area_sq_km'].tolist()[0]\n",
    "total_area_sq_mi = afghanistan_provinces_df[mask_series]['total_area_sq_mi'].tolist()[0]\n",
    "value_str = '{}/km² ({}/sq mi)'.format(round(total_population/total_area_sq_km, 1), round(total_population/total_area_sq_mi))\n",
    "afghanistan_provinces_df.loc[mask_series, column_name] = value_str"
   ]
  },
  {
   "cell_type": "code",
   "execution_count": 115,
   "metadata": {},
   "outputs": [],
   "source": [
    "\n",
    "column_name = 'density_per_sq_km'\n",
    "mask_series = (afghanistan_provinces_df.index == 'Urozgan')\n",
    "total_population = afghanistan_provinces_df[mask_series]['total_population'].tolist()[0]\n",
    "total_area_sq_km = afghanistan_provinces_df[mask_series]['total_area_sq_km'].tolist()[0]\n",
    "value_str = round(total_population/total_area_sq_km, 1)\n",
    "afghanistan_provinces_df.loc[mask_series, column_name] = value_str"
   ]
  },
  {
   "cell_type": "code",
   "execution_count": 118,
   "metadata": {},
   "outputs": [],
   "source": [
    "\n",
    "column_name = 'density_per_sq_mi'\n",
    "mask_series = (afghanistan_provinces_df.index == 'Urozgan')\n",
    "total_population = afghanistan_provinces_df[mask_series]['total_population'].tolist()[0]\n",
    "total_area_sq_mi = afghanistan_provinces_df[mask_series]['total_area_sq_mi'].tolist()[0]\n",
    "value_str = round(total_population/total_area_sq_mi)\n",
    "afghanistan_provinces_df.loc[mask_series, column_name] = value_str"
   ]
  },
  {
   "cell_type": "code",
   "execution_count": 120,
   "metadata": {},
   "outputs": [],
   "source": [
    "\n",
    "column_name = 'Density'\n",
    "mask_series = (afghanistan_provinces_df.index == 'Panjshir')\n",
    "total_population = afghanistan_provinces_df[mask_series]['total_population'].tolist()[0]\n",
    "total_area_sq_km = afghanistan_provinces_df[mask_series]['total_area_sq_km'].tolist()[0]\n",
    "total_area_sq_mi = afghanistan_provinces_df[mask_series]['total_area_sq_mi'].tolist()[0]\n",
    "density_per_sq_km = round(total_population/total_area_sq_km, 1)\n",
    "density_per_sq_mi = round(total_population/total_area_sq_mi)\n",
    "value_str = '{}/km² ({}/sq mi)'.format(density_per_sq_km, density_per_sq_mi)\n",
    "afghanistan_provinces_df.loc[mask_series, column_name] = value_str\n",
    "\n",
    "column_name = 'density_per_sq_km'\n",
    "afghanistan_provinces_df.loc[mask_series, column_name] = density_per_sq_km\n",
    "\n",
    "column_name = 'density_per_sq_mi'\n",
    "afghanistan_provinces_df.loc[mask_series, column_name] = density_per_sq_mi"
   ]
  },
  {
   "cell_type": "code",
   "execution_count": 126,
   "metadata": {},
   "outputs": [],
   "source": [
    "\n",
    "column_name = 'Largest city'\n",
    "value_str = 'Fayzabad'\n",
    "mask_series = (afghanistan_provinces_df.index == 'Badakhshan')\n",
    "afghanistan_provinces_df.loc[mask_series, column_name] = value_str"
   ]
  },
  {
   "cell_type": "code",
   "execution_count": 128,
   "metadata": {},
   "outputs": [],
   "source": [
    "\n",
    "column_name = 'Largest city'\n",
    "value_str = 'Puli Khumri'\n",
    "mask_series = (afghanistan_provinces_df.index == 'Baghlan')\n",
    "afghanistan_provinces_df.loc[mask_series, column_name] = value_str"
   ]
  },
  {
   "cell_type": "code",
   "execution_count": 132,
   "metadata": {},
   "outputs": [
    {
     "data": {
      "text/plain": [
       "['Fayzabad', 'Qala i Naw', 'Puli Khumri', 'Mazar-i-Sharif', 'Bamyan', 'Nili', 'Farah', 'Maymana', 'Ghazni', 'Chaghcharan', 'Lashkargah', 'Herat', 'Sheberghan', 'Kabul', 'Kandahar', 'Mahmud-i-Raqi', 'Khost', 'Asadabad', 'Kunduz', 'Mihtarlam', 'Pul-i-Alam', 'Jalalabad', 'Zaranj', 'Parun', 'Tarinkot', 'Gardez', 'Sharana', 'Bazarak', 'Charikar', 'Samangan', 'Sar-e Pol', 'Taloqan', 'Maidan Shar', 'Qalat']"
      ]
     },
     "execution_count": 132,
     "metadata": {},
     "output_type": "execute_result"
    }
   ],
   "source": [
    "\n",
    "column_name = 'Centers'\n",
    "afghanistan_provinces_df[column_name].unique().tolist()"
   ]
  },
  {
   "cell_type": "code",
   "execution_count": 138,
   "metadata": {},
   "outputs": [],
   "source": [
    "\n",
    "column_name = 'Largest city'\n",
    "value_str = 'Mazār-i-Sharīf'\n",
    "mask_series = (afghanistan_provinces_df.index == 'Balkh')\n",
    "afghanistan_provinces_df.loc[mask_series, column_name] = value_str"
   ]
  },
  {
   "cell_type": "code",
   "execution_count": 145,
   "metadata": {},
   "outputs": [
    {
     "name": "stdout",
     "output_type": "stream",
     "text": [
      "District [nan, 'Sar-e Pol']\n",
      "Districts [nan, 'List Ab Kamari Ghormach Jawand Muqur BalaMargab Qadis Qala-i-Naw']\n",
      "# Districts [29, 7, 16, 15, 8, 11, 14, 19, 10, 13, 9, 18, 5, 23, 6]\n"
     ]
    }
   ],
   "source": [
    "\n",
    "columns_list = [cn for cn in afghanistan_provinces_df.columns if 'district' in cn.lower()]\n",
    "for column_name in columns_list:\n",
    "    print(column_name, afghanistan_provinces_df[column_name].unique().tolist())"
   ]
  },
  {
   "cell_type": "code",
   "execution_count": 150,
   "metadata": {},
   "outputs": [
    {
     "name": "stdout",
     "output_type": "stream",
     "text": [
      "Provincial seat [nan, 'Qala i Naw']\n",
      "Capital ['Fayzabad', 'Qala-e-Naw', 'Puli Khumri', 'Mazar-i-Sharif', 'Bamyan', 'Nili', 'Farah', 'Maymana', 'Ghazni', 'Firuzkoh', 'Lashkar Gah', 'Herat', 'Sheberghan', 'Kabul', 'Kandahar', 'Mahmud-i-Raqi', 'Khost', 'Asadabad', 'Kunduz', 'Mihtarlam', 'Puli Alam', 'Jalalabad', 'Zaranj', 'Pârûn', 'Tarinkot', 'Gardez', 'Sharana', 'Bazarak', 'Charikar', 'Aybak', 'Sar-e Pol', 'Taloqan', 'Maidan Shar', 'Qalat']\n"
     ]
    }
   ],
   "source": [
    "\n",
    "for column_name in ['Provincial seat', 'Capital']:\n",
    "    print(column_name, afghanistan_provinces_df[column_name].unique().tolist())"
   ]
  },
  {
   "cell_type": "code",
   "execution_count": 156,
   "metadata": {},
   "outputs": [],
   "source": [
    "\n",
    "column_name = 'Largest city'\n",
    "value_str = 'Waras'\n",
    "mask_series = (afghanistan_provinces_df.index == 'Bamyan')\n",
    "afghanistan_provinces_df.loc[mask_series, column_name] = value_str"
   ]
  },
  {
   "cell_type": "code",
   "execution_count": 158,
   "metadata": {},
   "outputs": [],
   "source": [
    "\n",
    "column_name = 'Largest city'\n",
    "value_str = 'Nili'\n",
    "mask_series = (afghanistan_provinces_df.index == 'Daykundi')\n",
    "afghanistan_provinces_df.loc[mask_series, column_name] = value_str"
   ]
  },
  {
   "cell_type": "code",
   "execution_count": 160,
   "metadata": {},
   "outputs": [],
   "source": [
    "\n",
    "column_name = 'Largest city'\n",
    "value_str = 'Farah'\n",
    "mask_series = (afghanistan_provinces_df.index == 'Farah')\n",
    "afghanistan_provinces_df.loc[mask_series, column_name] = value_str"
   ]
  },
  {
   "cell_type": "code",
   "execution_count": 162,
   "metadata": {},
   "outputs": [],
   "source": [
    "\n",
    "column_name = 'Largest city'\n",
    "value_str = 'Maymana'\n",
    "mask_series = (afghanistan_provinces_df.index == 'Faryab')\n",
    "afghanistan_provinces_df.loc[mask_series, column_name] = value_str"
   ]
  },
  {
   "cell_type": "code",
   "execution_count": 164,
   "metadata": {},
   "outputs": [],
   "source": [
    "\n",
    "column_name = 'Largest city'\n",
    "value_str = 'Sang-e-Masha'\n",
    "mask_series = (afghanistan_provinces_df.index == 'Ghazni')\n",
    "afghanistan_provinces_df.loc[mask_series, column_name] = value_str"
   ]
  },
  {
   "cell_type": "code",
   "execution_count": 168,
   "metadata": {},
   "outputs": [],
   "source": [
    "\n",
    "column_name = 'Largest city'\n",
    "value_str = 'Lal wa Sarjangal'\n",
    "mask_series = (afghanistan_provinces_df.index == 'Ghor')\n",
    "afghanistan_provinces_df.loc[mask_series, column_name] = value_str"
   ]
  },
  {
   "cell_type": "code",
   "execution_count": 170,
   "metadata": {},
   "outputs": [],
   "source": [
    "\n",
    "column_name = 'Largest city'\n",
    "value_str = 'Kabul'\n",
    "mask_series = (afghanistan_provinces_df.index == 'Kabul')\n",
    "afghanistan_provinces_df.loc[mask_series, column_name] = value_str"
   ]
  },
  {
   "cell_type": "code",
   "execution_count": 172,
   "metadata": {},
   "outputs": [],
   "source": [
    "\n",
    "column_name = 'Largest city'\n",
    "value_str = 'Herāt'\n",
    "mask_series = (afghanistan_provinces_df.index == 'Herat')\n",
    "afghanistan_provinces_df.loc[mask_series, column_name] = value_str"
   ]
  },
  {
   "cell_type": "code",
   "execution_count": 171,
   "metadata": {},
   "outputs": [],
   "source": [
    "\n",
    "column_name = 'Largest city'\n",
    "value_str = 'Kandahar'\n",
    "mask_series = (afghanistan_provinces_df.index == 'Kandahar')\n",
    "afghanistan_provinces_df.loc[mask_series, column_name] = value_str"
   ]
  },
  {
   "cell_type": "code",
   "execution_count": 175,
   "metadata": {},
   "outputs": [],
   "source": [
    "\n",
    "column_name = 'Largest city'\n",
    "value_str = 'Jalālābād'\n",
    "mask_series = (afghanistan_provinces_df.index == 'Nangarhar')\n",
    "afghanistan_provinces_df.loc[mask_series, column_name] = value_str"
   ]
  },
  {
   "cell_type": "code",
   "execution_count": 176,
   "metadata": {},
   "outputs": [],
   "source": [
    "\n",
    "column_name = 'Largest city'\n",
    "value_str = 'Kunduz'\n",
    "mask_series = (afghanistan_provinces_df.index == 'Kunduz')\n",
    "afghanistan_provinces_df.loc[mask_series, column_name] = value_str"
   ]
  },
  {
   "cell_type": "code",
   "execution_count": 177,
   "metadata": {},
   "outputs": [],
   "source": [
    "\n",
    "column_name = 'Largest city'\n",
    "value_str = 'Ghazni'\n",
    "mask_series = (afghanistan_provinces_df.index == 'Ghazni')\n",
    "afghanistan_provinces_df.loc[mask_series, column_name] = value_str"
   ]
  },
  {
   "cell_type": "code",
   "execution_count": 178,
   "metadata": {},
   "outputs": [],
   "source": [
    "\n",
    "column_name = 'Largest city'\n",
    "value_str = 'Lashkargāh'\n",
    "mask_series = (afghanistan_provinces_df.index == 'Helmand')\n",
    "afghanistan_provinces_df.loc[mask_series, column_name] = value_str"
   ]
  },
  {
   "cell_type": "code",
   "execution_count": 179,
   "metadata": {},
   "outputs": [],
   "source": [
    "\n",
    "column_name = 'Largest city'\n",
    "value_str = 'Tāloqān'\n",
    "mask_series = (afghanistan_provinces_df.index == 'Takhar')\n",
    "afghanistan_provinces_df.loc[mask_series, column_name] = value_str"
   ]
  },
  {
   "cell_type": "code",
   "execution_count": 180,
   "metadata": {},
   "outputs": [],
   "source": [
    "\n",
    "column_name = 'Largest city'\n",
    "value_str = 'Khōst'\n",
    "mask_series = (afghanistan_provinces_df.index == 'Khost')\n",
    "afghanistan_provinces_df.loc[mask_series, column_name] = value_str"
   ]
  },
  {
   "cell_type": "code",
   "execution_count": 183,
   "metadata": {},
   "outputs": [],
   "source": [
    "\n",
    "column_name = 'Largest city'\n",
    "value_str = 'Charikar'\n",
    "mask_series = (afghanistan_provinces_df.index == 'Parwan')\n",
    "afghanistan_provinces_df.loc[mask_series, column_name] = value_str"
   ]
  },
  {
   "cell_type": "code",
   "execution_count": 184,
   "metadata": {},
   "outputs": [],
   "source": [
    "\n",
    "column_name = 'Largest city'\n",
    "value_str = 'Sheberghān'\n",
    "mask_series = (afghanistan_provinces_df.index == 'Jowzjan')\n",
    "afghanistan_provinces_df.loc[mask_series, column_name] = value_str"
   ]
  },
  {
   "cell_type": "code",
   "execution_count": 188,
   "metadata": {},
   "outputs": [],
   "source": [
    "\n",
    "column_name = 'Largest city'\n",
    "value_str = 'Sar-e Pol'\n",
    "mask_series = (afghanistan_provinces_df.index == 'Sar-e Pol')\n",
    "afghanistan_provinces_df.loc[mask_series, column_name] = value_str"
   ]
  },
  {
   "cell_type": "code",
   "execution_count": 189,
   "metadata": {},
   "outputs": [],
   "source": [
    "\n",
    "column_name = 'Largest city'\n",
    "value_str = 'Chaghcharān'\n",
    "mask_series = (afghanistan_provinces_df.index == 'Ghor')\n",
    "afghanistan_provinces_df.loc[mask_series, column_name] = value_str"
   ]
  },
  {
   "cell_type": "code",
   "execution_count": 190,
   "metadata": {},
   "outputs": [],
   "source": [
    "\n",
    "column_name = 'Largest city'\n",
    "value_str = 'Mihtarlam'\n",
    "mask_series = (afghanistan_provinces_df.index == 'Laghman')\n",
    "afghanistan_provinces_df.loc[mask_series, column_name] = value_str"
   ]
  },
  {
   "cell_type": "code",
   "execution_count": 191,
   "metadata": {},
   "outputs": [],
   "source": [
    "\n",
    "column_name = 'Largest city'\n",
    "value_str = 'Puli Alam'\n",
    "mask_series = (afghanistan_provinces_df.index == 'Logar')\n",
    "afghanistan_provinces_df.loc[mask_series, column_name] = value_str"
   ]
  },
  {
   "cell_type": "code",
   "execution_count": 194,
   "metadata": {},
   "outputs": [],
   "source": [
    "\n",
    "column_name = 'Largest city'\n",
    "value_str = 'Asadabad'\n",
    "mask_series = (afghanistan_provinces_df.index == 'Kunar')\n",
    "afghanistan_provinces_df.loc[mask_series, column_name] = value_str"
   ]
  },
  {
   "cell_type": "code",
   "execution_count": 196,
   "metadata": {},
   "outputs": [],
   "source": [
    "\n",
    "column_name = 'Largest city'\n",
    "value_str = 'Zaranj'\n",
    "mask_series = (afghanistan_provinces_df.index == 'Nimruz')\n",
    "afghanistan_provinces_df.loc[mask_series, column_name] = value_str"
   ]
  },
  {
   "cell_type": "code",
   "execution_count": 198,
   "metadata": {},
   "outputs": [],
   "source": [
    "\n",
    "column_name = 'Largest city'\n",
    "value_str = 'Pârûn'\n",
    "mask_series = (afghanistan_provinces_df.index == 'Nuristan')\n",
    "afghanistan_provinces_df.loc[mask_series, column_name] = value_str"
   ]
  },
  {
   "cell_type": "code",
   "execution_count": 201,
   "metadata": {},
   "outputs": [],
   "source": [
    "\n",
    "column_name = 'Largest city'\n",
    "value_str = 'Tarīnkōṭ'\n",
    "mask_series = (afghanistan_provinces_df.index == 'Urozgan')\n",
    "afghanistan_provinces_df.loc[mask_series, column_name] = value_str"
   ]
  },
  {
   "cell_type": "code",
   "execution_count": 202,
   "metadata": {},
   "outputs": [],
   "source": [
    "\n",
    "column_name = 'Largest city'\n",
    "value_str = 'Bāzārak'\n",
    "mask_series = (afghanistan_provinces_df.index == 'Panjshir')\n",
    "afghanistan_provinces_df.loc[mask_series, column_name] = value_str"
   ]
  },
  {
   "cell_type": "code",
   "execution_count": 204,
   "metadata": {},
   "outputs": [],
   "source": [
    "\n",
    "column_name = 'Largest city'\n",
    "value_str = 'Dari Suf Bala'\n",
    "mask_series = (afghanistan_provinces_df.index == 'Samangan')\n",
    "afghanistan_provinces_df.loc[mask_series, column_name] = value_str"
   ]
  },
  {
   "cell_type": "code",
   "execution_count": 205,
   "metadata": {},
   "outputs": [],
   "source": [
    "\n",
    "column_name = 'Largest city'\n",
    "value_str = 'Saydābād'\n",
    "mask_series = (afghanistan_provinces_df.index == 'Wardak')\n",
    "afghanistan_provinces_df.loc[mask_series, column_name] = value_str"
   ]
  },
  {
   "cell_type": "code",
   "execution_count": 206,
   "metadata": {},
   "outputs": [],
   "source": [
    "\n",
    "column_name = 'Largest city'\n",
    "value_str = 'Qalāti Ghiljī'\n",
    "mask_series = (afghanistan_provinces_df.index == 'Zabul')\n",
    "afghanistan_provinces_df.loc[mask_series, column_name] = value_str"
   ]
  },
  {
   "cell_type": "code",
   "execution_count": 226,
   "metadata": {},
   "outputs": [
    {
     "name": "stdout",
     "output_type": "stream",
     "text": [
      "[(1, (58, 2)), (5, (28, 5)), (3, (19, 2)), (2, (18, 2)), (0, (16, 2)), (4, (13, 2)), (10, (6, 3)), (7, (4, 3)), (8, (3, 3)), (6, (1, 2)), (9, (1, 3)), (11, (1, 2))]\n"
     ]
    }
   ],
   "source": [
    "\n",
    "tables_url = 'https://en.wikipedia.org/wiki/Badakhshan_Province'\n",
    "page_tables_list = get_page_tables(tables_url)"
   ]
  },
  {
   "cell_type": "code",
   "execution_count": 232,
   "metadata": {},
   "outputs": [
    {
     "data": {
      "text/plain": [
       "'Pashtun, Tajik, Hazara, Uzbek, and Baloch'"
      ]
     },
     "execution_count": 232,
     "metadata": {},
     "output_type": "execute_result"
    }
   ],
   "source": [
    "\n",
    "ethnic_groups_list = []\n",
    "ethnicity_str = ' '.join([str(n) for n in page_tables_list[5]['Number of villages and ethnic groups'].tolist()])\n",
    "for ethnicity in ethnicities_list:\n",
    "    if ethnicity in ethnicity_str:\n",
    "        ethnic_groups_list.append(ethnicity)\n",
    "conjunctify_list(ethnic_groups_list)"
   ]
  },
  {
   "cell_type": "code",
   "execution_count": 210,
   "metadata": {},
   "outputs": [
    {
     "data": {
      "text/plain": [
       "[nan, 'Tajik , Pashtun , Uzbek , Turkmen , Hazara']"
      ]
     },
     "execution_count": 210,
     "metadata": {},
     "output_type": "execute_result"
    }
   ],
   "source": [
    "\n",
    "afghanistan_provinces_df['Ethnic groups'].unique().tolist()"
   ]
  },
  {
   "cell_type": "code",
   "execution_count": 233,
   "metadata": {},
   "outputs": [],
   "source": [
    "\n",
    "column_name = 'Ethnic groups'\n",
    "value_str = conjunctify_list(ethnic_groups_list)\n",
    "mask_series = (afghanistan_provinces_df.index == 'Badakhshan')\n",
    "afghanistan_provinces_df.loc[mask_series, column_name] = value_str"
   ]
  },
  {
   "cell_type": "code",
   "execution_count": 241,
   "metadata": {},
   "outputs": [],
   "source": [
    "\n",
    "column_name = 'Ethnic groups'\n",
    "value_str = conjunctify_list(['Aimak', 'Uzbek', 'Turkmen', 'Hazara', 'Pashtun', 'Baloch'])\n",
    "mask_series = (afghanistan_provinces_df.index == 'Badghis')\n",
    "afghanistan_provinces_df.loc[mask_series, column_name] = value_str"
   ]
  },
  {
   "cell_type": "code",
   "execution_count": 253,
   "metadata": {},
   "outputs": [],
   "source": [
    "\n",
    "column_name = 'Ethnic groups'\n",
    "value_str = 'Pashtun, Tajik, Hazara, and Uzbek'\n",
    "mask_series = (afghanistan_provinces_df.index == 'Baghlan')\n",
    "afghanistan_provinces_df.loc[mask_series, column_name] = value_str"
   ]
  },
  {
   "cell_type": "code",
   "execution_count": 265,
   "metadata": {},
   "outputs": [],
   "source": [
    "\n",
    "column_name = 'Ethnic groups'\n",
    "value_str = 'Pashtun, Tajik, Hazara, Uzbek, Turkmen, and Arab'\n",
    "mask_series = (afghanistan_provinces_df.index == 'Balkh')\n",
    "afghanistan_provinces_df.loc[mask_series, column_name] = value_str"
   ]
  },
  {
   "cell_type": "code",
   "execution_count": 281,
   "metadata": {},
   "outputs": [],
   "source": [
    "\n",
    "column_name = 'Ethnic groups'\n",
    "value_str = 'Hazara and Tajik'\n",
    "mask_series = (afghanistan_provinces_df.index == 'Bamyan')\n",
    "afghanistan_provinces_df.loc[mask_series, column_name] = value_str"
   ]
  },
  {
   "cell_type": "code",
   "execution_count": 291,
   "metadata": {},
   "outputs": [],
   "source": [
    "\n",
    "column_name = 'Ethnic groups'\n",
    "value_str = 'Hazara and Baloch'\n",
    "mask_series = (afghanistan_provinces_df.index == 'Daykundi')\n",
    "afghanistan_provinces_df.loc[mask_series, column_name] = value_str"
   ]
  },
  {
   "cell_type": "code",
   "execution_count": 300,
   "metadata": {},
   "outputs": [],
   "source": [
    "\n",
    "column_name = 'Ethnic groups'\n",
    "value_str = 'Pashtun and Tajik'\n",
    "mask_series = (afghanistan_provinces_df.index == 'Farah')\n",
    "afghanistan_provinces_df.loc[mask_series, column_name] = value_str"
   ]
  },
  {
   "cell_type": "code",
   "execution_count": 8,
   "metadata": {},
   "outputs": [],
   "source": [
    "\n",
    "province_urls_list = ['https://en.wikipedia.org/wiki/Badakhshan_Province', 'https://en.wikipedia.org/wiki/Badghis_Province',\n",
    "                      'https://en.wikipedia.org/wiki/Baghlan_Province', 'https://en.wikipedia.org/wiki/Balkh_Province',\n",
    "                      'https://en.wikipedia.org/wiki/Bamyan_Province', 'https://en.wikipedia.org/wiki/Daykundi_Province',\n",
    "                      'https://en.wikipedia.org/wiki/Farah_Province', 'https://en.wikipedia.org/wiki/Faryab_Province',\n",
    "                      'https://en.wikipedia.org/wiki/Ghazni_Province', 'https://en.wikipedia.org/wiki/Ghor_Province',\n",
    "                      'https://en.wikipedia.org/wiki/Helmand_Province', 'https://en.wikipedia.org/wiki/Herat_Province',\n",
    "                      'https://en.wikipedia.org/wiki/Jowzjan_Province', 'https://en.wikipedia.org/wiki/Kabul_Province',\n",
    "                      'https://en.wikipedia.org/wiki/Kandahar_Province', 'https://en.wikipedia.org/wiki/Kapisa_Province',\n",
    "                      'https://en.wikipedia.org/wiki/Khost_Province', 'https://en.wikipedia.org/wiki/Kunar_Province',\n",
    "                      'https://en.wikipedia.org/wiki/Kunduz_Province', 'https://en.wikipedia.org/wiki/Laghman_Province',\n",
    "                      'https://en.wikipedia.org/wiki/Logar_Province', 'https://en.wikipedia.org/wiki/Nangarhar_Province',\n",
    "                      'https://en.wikipedia.org/wiki/Nimruz_Province', 'https://en.wikipedia.org/wiki/Nuristan_Province',\n",
    "                      'https://en.wikipedia.org/wiki/Oruzgan_Province', 'https://en.wikipedia.org/wiki/Paktia_Province',\n",
    "                      'https://en.wikipedia.org/wiki/Paktika_Province', 'https://en.wikipedia.org/wiki/Panjshir_Province',\n",
    "                      'https://en.wikipedia.org/wiki/Parwan_Province', 'https://en.wikipedia.org/wiki/Samangan_Province',\n",
    "                      'https://en.wikipedia.org/wiki/Sar-e_Pol_Province', 'https://en.wikipedia.org/wiki/Takhar_Province',\n",
    "                      'https://en.wikipedia.org/wiki/Wardak_Province', 'https://en.wikipedia.org/wiki/Zabul_Province']"
   ]
  },
  {
   "cell_type": "code",
   "execution_count": 13,
   "metadata": {},
   "outputs": [
    {
     "name": "stdout",
     "output_type": "stream",
     "text": [
      "[(1, (9, 7)), (0, (8, 3)), (4, (11, 2)), (3, (4, 2)), (2, (2, 3)), (5, (1, 2)), (6, (1, 2)), (7, (1, 2)), (8, (1, 2))]\n"
     ]
    }
   ],
   "source": [
    "\n",
    "tables_url = 'https://en.wikipedia.org/wiki/Ethnic_groups_in_Afghanistan'\n",
    "page_tables_list = get_page_tables(tables_url)"
   ]
  },
  {
   "cell_type": "code",
   "execution_count": 15,
   "metadata": {},
   "outputs": [
    {
     "data": {
      "text/plain": [
       "['Pashtun', 'Tajik', 'Hazara', 'Uzbek', 'Aimak', 'Turkmen', 'Baloch', 'Others (Pashayi, Nuristani, Arab, etc.)', 'No opinion']"
      ]
     },
     "execution_count": 15,
     "metadata": {},
     "output_type": "execute_result"
    }
   ],
   "source": [
    "\n",
    "page_tables_list[1]['Ethnic group'].tolist()"
   ]
  },
  {
   "cell_type": "code",
   "execution_count": 218,
   "metadata": {},
   "outputs": [
    {
     "name": "stdout",
     "output_type": "stream",
     "text": [
      "[(4, (34, 2)), (0, (25, 2)), (5, (19, 9)), (2, (17, 9)), (1, (11, 10)), (17, (11, 2)), (9, (9, 7)), (8, (8, 4)), (7, (7, 4)), (14, (6, 9)), (10, (5, 5)), (11, (5, 3)), (12, (5, 5)), (22, (4, 2)), (23, (4, 2)), (6, (3, 5)), (13, (3, 5)), (3, (2, 7)), (16, (2, 3)), (15, (1, 2)), (18, (1, 2)), (19, (1, 2)), (20, (1, 2)), (21, (1, 2))]\n"
     ]
    }
   ],
   "source": [
    "\n",
    "tables_url = 'https://en.wikipedia.org/wiki/Demographics_of_Afghanistan'\n",
    "page_tables_list = get_page_tables(tables_url)"
   ]
  },
  {
   "cell_type": "code",
   "execution_count": 21,
   "metadata": {},
   "outputs": [],
   "source": [
    "\n",
    "column_name = 'Ethnic groups'\n",
    "value_str = 'Pashtun, Tajik, Hazara, Uzbek, Turkmen, and Arab'\n",
    "mask_series = (afghanistan_provinces_df.index == 'Faryab')\n",
    "afghanistan_provinces_df.loc[mask_series, column_name] = value_str"
   ]
  },
  {
   "cell_type": "code",
   "execution_count": 29,
   "metadata": {},
   "outputs": [],
   "source": [
    "\n",
    "column_name = 'Ethnic groups'\n",
    "value_str = 'Pashtun, Tajik, Hazara, and Uzbek'\n",
    "mask_series = (afghanistan_provinces_df.index == 'Ghazni')\n",
    "afghanistan_provinces_df.loc[mask_series, column_name] = value_str"
   ]
  },
  {
   "cell_type": "code",
   "execution_count": 35,
   "metadata": {},
   "outputs": [],
   "source": [
    "\n",
    "column_name = 'Ethnic groups'\n",
    "value_str = 'Pashtun, Tajik, and Hazara'\n",
    "mask_series = (afghanistan_provinces_df.index == 'Ghor')\n",
    "afghanistan_provinces_df.loc[mask_series, column_name] = value_str"
   ]
  },
  {
   "cell_type": "code",
   "execution_count": 40,
   "metadata": {},
   "outputs": [],
   "source": [
    "\n",
    "column_name = 'Ethnic groups'\n",
    "value_str = 'Pashtun, Tajik, Hazara, Turkmen, Baloch, and Arab'\n",
    "mask_series = (afghanistan_provinces_df.index == 'Helmand')\n",
    "afghanistan_provinces_df.loc[mask_series, column_name] = value_str"
   ]
  },
  {
   "cell_type": "code",
   "execution_count": 45,
   "metadata": {},
   "outputs": [],
   "source": [
    "\n",
    "column_name = 'Ethnic groups'\n",
    "value_str = 'Pashtun, Tajik, Hazara, Uzbek, and Turkmen'\n",
    "mask_series = (afghanistan_provinces_df.index == 'Herat')\n",
    "afghanistan_provinces_df.loc[mask_series, column_name] = value_str"
   ]
  },
  {
   "cell_type": "code",
   "execution_count": 48,
   "metadata": {},
   "outputs": [],
   "source": [
    "\n",
    "column_name = 'Ethnic groups'\n",
    "value_str = 'Uzbek, Turkmen, and Pashtun'\n",
    "mask_series = (afghanistan_provinces_df.index == 'Jowzjan')\n",
    "afghanistan_provinces_df.loc[mask_series, column_name] = value_str"
   ]
  },
  {
   "cell_type": "code",
   "execution_count": 53,
   "metadata": {},
   "outputs": [],
   "source": [
    "\n",
    "column_name = 'Ethnic groups'\n",
    "value_str = 'Pashtun, Tajik, Hazara, Uzbek, Turkmen, Baloch, and Pashai'\n",
    "mask_series = (afghanistan_provinces_df.index == 'Kabul')\n",
    "afghanistan_provinces_df.loc[mask_series, column_name] = value_str"
   ]
  },
  {
   "cell_type": "code",
   "execution_count": 59,
   "metadata": {},
   "outputs": [],
   "source": [
    "\n",
    "column_name = 'Ethnic groups'\n",
    "value_str = 'Pashtun'\n",
    "mask_series = (afghanistan_provinces_df.index == 'Kandahar')\n",
    "afghanistan_provinces_df.loc[mask_series, column_name] = value_str"
   ]
  },
  {
   "cell_type": "code",
   "execution_count": 62,
   "metadata": {},
   "outputs": [],
   "source": [
    "\n",
    "column_name = 'Ethnic groups'\n",
    "value_str = 'Tajik, Pashtun, Pashai, Hazara, and Nuristani'\n",
    "mask_series = (afghanistan_provinces_df.index == 'Kapisa')\n",
    "afghanistan_provinces_df.loc[mask_series, column_name] = value_str"
   ]
  },
  {
   "cell_type": "code",
   "execution_count": 65,
   "metadata": {},
   "outputs": [],
   "source": [
    "\n",
    "column_name = 'Ethnic groups'\n",
    "value_str = 'Pashtun and Tajik'\n",
    "mask_series = (afghanistan_provinces_df.index == 'Khost')\n",
    "afghanistan_provinces_df.loc[mask_series, column_name] = value_str"
   ]
  },
  {
   "cell_type": "code",
   "execution_count": 68,
   "metadata": {},
   "outputs": [],
   "source": [
    "\n",
    "column_name = 'Ethnic groups'\n",
    "value_str = 'Pashtun and Nuristani'\n",
    "mask_series = (afghanistan_provinces_df.index == 'Kunar')\n",
    "afghanistan_provinces_df.loc[mask_series, column_name] = value_str"
   ]
  },
  {
   "cell_type": "code",
   "execution_count": 73,
   "metadata": {},
   "outputs": [],
   "source": [
    "\n",
    "column_name = 'Ethnic groups'\n",
    "value_str = 'Pashtun, Tajik, Hazara, Uzbek, Turkmen, Pashai, and Arab'\n",
    "mask_series = (afghanistan_provinces_df.index == 'Kunduz')\n",
    "afghanistan_provinces_df.loc[mask_series, column_name] = value_str"
   ]
  },
  {
   "cell_type": "code",
   "execution_count": 79,
   "metadata": {},
   "outputs": [],
   "source": [
    "\n",
    "column_name = 'Ethnic groups'\n",
    "value_str = 'Pashtun, Tajik, Pashai, and Nuristani'\n",
    "mask_series = (afghanistan_provinces_df.index == 'Laghman')\n",
    "afghanistan_provinces_df.loc[mask_series, column_name] = value_str"
   ]
  },
  {
   "cell_type": "code",
   "execution_count": 80,
   "metadata": {},
   "outputs": [],
   "source": [
    "\n",
    "column_name = 'Ethnic groups'\n",
    "value_str = 'Pashtun, Tajik, and Hazara'\n",
    "mask_series = (afghanistan_provinces_df.index == 'Logar')\n",
    "afghanistan_provinces_df.loc[mask_series, column_name] = value_str"
   ]
  },
  {
   "cell_type": "code",
   "execution_count": 85,
   "metadata": {},
   "outputs": [],
   "source": [
    "\n",
    "column_name = 'Ethnic groups'\n",
    "value_str = 'Pashtun, Tajik, Pashai, and Arab'\n",
    "mask_series = (afghanistan_provinces_df.index == 'Nangarhar')\n",
    "afghanistan_provinces_df.loc[mask_series, column_name] = value_str"
   ]
  },
  {
   "cell_type": "code",
   "execution_count": 98,
   "metadata": {},
   "outputs": [],
   "source": [
    "\n",
    "column_name = 'Ethnic groups'\n",
    "value_str = 'Pashtun, Tajik, Hazara, Baloch, and Brahawi'\n",
    "mask_series = (afghanistan_provinces_df.index == 'Nimruz')\n",
    "afghanistan_provinces_df.loc[mask_series, column_name] = value_str"
   ]
  },
  {
   "cell_type": "code",
   "execution_count": 101,
   "metadata": {},
   "outputs": [],
   "source": [
    "\n",
    "column_name = 'Ethnic groups'\n",
    "value_str = 'Nuristani, Gujjar, and Hazara'\n",
    "mask_series = (afghanistan_provinces_df.index == 'Nuristan')\n",
    "afghanistan_provinces_df.loc[mask_series, column_name] = value_str"
   ]
  },
  {
   "cell_type": "code",
   "execution_count": 107,
   "metadata": {},
   "outputs": [],
   "source": [
    "\n",
    "column_name = 'Ethnic groups'\n",
    "value_str = 'Pashtun and Hazara'\n",
    "mask_series = (afghanistan_provinces_df.index == 'Urozgan')\n",
    "afghanistan_provinces_df.loc[mask_series, column_name] = value_str"
   ]
  },
  {
   "cell_type": "code",
   "execution_count": 108,
   "metadata": {},
   "outputs": [],
   "source": [
    "\n",
    "column_name = 'Ethnic groups'\n",
    "value_str = 'Pashtun and Tajik'\n",
    "mask_series = (afghanistan_provinces_df.index == 'Paktia')\n",
    "afghanistan_provinces_df.loc[mask_series, column_name] = value_str"
   ]
  },
  {
   "cell_type": "code",
   "execution_count": 111,
   "metadata": {},
   "outputs": [],
   "source": [
    "\n",
    "column_name = 'Ethnic groups'\n",
    "value_str = 'Pashtun, Tajik, Arab, Pashai, and Uzbek'\n",
    "mask_series = (afghanistan_provinces_df.index == 'Paktika')\n",
    "afghanistan_provinces_df.loc[mask_series, column_name] = value_str"
   ]
  },
  {
   "cell_type": "code",
   "execution_count": 114,
   "metadata": {},
   "outputs": [],
   "source": [
    "\n",
    "column_name = 'Ethnic groups'\n",
    "value_str = 'Tajik'\n",
    "mask_series = (afghanistan_provinces_df.index == 'Panjshir')\n",
    "afghanistan_provinces_df.loc[mask_series, column_name] = value_str"
   ]
  },
  {
   "cell_type": "code",
   "execution_count": 122,
   "metadata": {},
   "outputs": [],
   "source": [
    "\n",
    "column_name = 'Ethnic groups'\n",
    "value_str = 'Pashtun, Tajik, and Hazara'\n",
    "mask_series = (afghanistan_provinces_df.index == 'Parwan')\n",
    "afghanistan_provinces_df.loc[mask_series, column_name] = value_str"
   ]
  },
  {
   "cell_type": "code",
   "execution_count": 134,
   "metadata": {},
   "outputs": [],
   "source": [
    "\n",
    "column_name = 'Ethnic groups'\n",
    "value_str = 'Pashtun, Tajik, Hazara, Uzbek, and Arab'\n",
    "mask_series = (afghanistan_provinces_df.index == 'Samangan')\n",
    "afghanistan_provinces_df.loc[mask_series, column_name] = value_str"
   ]
  },
  {
   "cell_type": "code",
   "execution_count": 137,
   "metadata": {},
   "outputs": [],
   "source": [
    "\n",
    "column_name = 'Ethnic groups'\n",
    "value_str = 'Pashtun, Uzbek, and Turkmen'\n",
    "mask_series = (afghanistan_provinces_df.index == 'Sar-e Pol')\n",
    "afghanistan_provinces_df.loc[mask_series, column_name] = value_str"
   ]
  },
  {
   "cell_type": "code",
   "execution_count": 142,
   "metadata": {},
   "outputs": [],
   "source": [
    "\n",
    "column_name = 'Ethnic groups'\n",
    "value_str = 'Pashtun, Tajik, Hazara, Uzbek, Baloch, Pashai, and Gujjar'\n",
    "mask_series = (afghanistan_provinces_df.index == 'Takhar')\n",
    "afghanistan_provinces_df.loc[mask_series, column_name] = value_str"
   ]
  },
  {
   "cell_type": "code",
   "execution_count": 145,
   "metadata": {},
   "outputs": [],
   "source": [
    "\n",
    "column_name = 'Ethnic groups'\n",
    "value_str = 'Pashtun, Hazara, and Tajik'\n",
    "mask_series = (afghanistan_provinces_df.index == 'Wardak')\n",
    "afghanistan_provinces_df.loc[mask_series, column_name] = value_str"
   ]
  },
  {
   "cell_type": "code",
   "execution_count": 148,
   "metadata": {},
   "outputs": [],
   "source": [
    "\n",
    "column_name = 'Ethnic groups'\n",
    "value_str = 'Pashtun'\n",
    "mask_series = (afghanistan_provinces_df.index == 'Zabul')\n",
    "afghanistan_provinces_df.loc[mask_series, column_name] = value_str"
   ]
  },
  {
   "cell_type": "code",
   "execution_count": 309,
   "metadata": {},
   "outputs": [
    {
     "data": {
      "text/plain": [
       "['Badakhshan', 'Badghis', 'Baghlan', 'Balkh', 'Bamyan', 'Daykundi', 'Farah', 'Faryab', 'Ghazni', 'Ghor', 'Helmand', 'Herat', 'Jowzjan', 'Kabul', 'Kandahar', 'Kapisa', 'Khost', 'Kunar', 'Kunduz', 'Laghman', 'Logar', 'Nangarhar', 'Nimruz', 'Nuristan', 'Urozgan', 'Paktia', 'Paktika', 'Panjshir', 'Parwan', 'Samangan', 'Sar-e Pol', 'Takhar', 'Wardak', 'Zabul']"
      ]
     },
     "execution_count": 309,
     "metadata": {},
     "output_type": "execute_result"
    }
   ],
   "source": [
    "\n",
    "afghanistan_provinces_df.index.tolist()"
   ]
  },
  {
   "cell_type": "code",
   "execution_count": 91,
   "metadata": {},
   "outputs": [],
   "source": [
    "\n",
    "ethnicities_list = ['Pashtun', 'Tajik', 'Hazara', 'Uzbek', 'Aimak', 'Turkmen', 'Baloch', 'Pashai', 'Nuristani', 'Arab', 'Brahui',\n",
    "                    'Pamiri', 'Gujjar', 'Brahawi']"
   ]
  },
  {
   "cell_type": "code",
   "execution_count": 146,
   "metadata": {},
   "outputs": [
    {
     "name": "stdout",
     "output_type": "stream",
     "text": [
      "what are the ethnic groups in the zabul province in afghanistan?\n"
     ]
    }
   ],
   "source": [
    "\n",
    "column_name = 'Ethnic groups'\n",
    "mask_series = afghanistan_provinces_df[column_name].isnull()\n",
    "missing_data_list = afghanistan_provinces_df[mask_series].index.tolist()\n",
    "for province_name in missing_data_list:\n",
    "    print('What are the {} in the {} province in Afghanistan?'.format(column_name, province_name).lower())"
   ]
  },
  {
   "cell_type": "code",
   "execution_count": 147,
   "metadata": {},
   "outputs": [
    {
     "name": "stdout",
     "output_type": "stream",
     "text": [
      "https://en.wikipedia.org/wiki/Zabul_Province\n",
      "Opening in existing browser session.\n"
     ]
    },
    {
     "name": "stderr",
     "output_type": "stream",
     "text": [
      "C:\\Program Files (x86)\\Google\\Chrome\\Application\\chrome.exe: invalid option -- `-u'\n",
      "Try 'chrome.exe --help' for more information.\n",
      "[0305/191811.801:ERROR:registration_protocol_win.cc(84)] TransactNamedPipe: The pipe has been ended. (0x6D)\n",
      "[539136:15404:0305/191812.272:ERROR:cache_util_win.cc(21)] Unable to move the cache: Access is denied. (0x5)\n",
      "[539136:15404:0305/191812.272:ERROR:cache_util.cc(135)] Unable to move cache folder C:\\Users\\577342\\AppData\\Local\\Google\\Chrome\\User Data\\ShaderCache\\GPUCache to C:\\Users\\577342\\AppData\\Local\\Google\\Chrome\\User Data\\ShaderCache\\old_GPUCache_000\n",
      "[539136:15404:0305/191812.272:ERROR:disk_cache.cc(184)] Unable to create cache\n",
      "[539136:15404:0305/191812.272:ERROR:shader_disk_cache.cc(606)] Shader Cache Creation failed: -2\n"
     ]
    },
    {
     "name": "stdout",
     "output_type": "stream",
     "text": [
      "[(7, (36, 2)), (8, (35, 2)), (2, (11, 5)), (10, (18, 2)), (0, (16, 2)), (9, (16, 2)), (11, (9, 2)), (4, (4, 3)), (5, (3, 3)), (12, (2, 2)), (13, (2, 2)), (6, (1, 3)), (1, (1, 2)), (3, (1, 2))]\n"
     ]
    }
   ],
   "source": [
    "\n",
    "tables_url = province_urls_list[33]\n",
    "print(tables_url)\n",
    "!\"C:\\Program Files (x86)\\Google\\Chrome\\Application\\chrome.exe\" {tables_url}\n",
    "page_tables_list = get_page_tables(tables_url)"
   ]
  },
  {
   "cell_type": "code",
   "execution_count": 140,
   "metadata": {},
   "outputs": [
    {
     "data": {
      "text/html": [
       "<div>\n",
       "<style scoped>\n",
       "    .dataframe tbody tr th:only-of-type {\n",
       "        vertical-align: middle;\n",
       "    }\n",
       "\n",
       "    .dataframe tbody tr th {\n",
       "        vertical-align: top;\n",
       "    }\n",
       "\n",
       "    .dataframe thead th {\n",
       "        text-align: right;\n",
       "    }\n",
       "</style>\n",
       "<table border=\"1\" class=\"dataframe\">\n",
       "  <thead>\n",
       "    <tr style=\"text-align: right;\">\n",
       "      <th></th>\n",
       "      <th>District</th>\n",
       "      <th>Capital</th>\n",
       "      <th>Population[9]</th>\n",
       "      <th>Area</th>\n",
       "      <th>Number of villages and ethnic groups</th>\n",
       "      <th>Unnamed: 5</th>\n",
       "    </tr>\n",
       "  </thead>\n",
       "  <tbody>\n",
       "    <tr>\n",
       "      <th>0</th>\n",
       "      <td>Baharak</td>\n",
       "      <td>NaN</td>\n",
       "      <td>40902</td>\n",
       "      <td>231 km2</td>\n",
       "      <td>74 villages 15% tajik 65% Uzbek.[10]</td>\n",
       "      <td>NaN</td>\n",
       "    </tr>\n",
       "    <tr>\n",
       "      <th>1</th>\n",
       "      <td>Bangi</td>\n",
       "      <td>NaN</td>\n",
       "      <td>28197</td>\n",
       "      <td>566 km2</td>\n",
       "      <td>59 villages.[11]</td>\n",
       "      <td>NaN</td>\n",
       "    </tr>\n",
       "    <tr>\n",
       "      <th>2</th>\n",
       "      <td>Chah Ab</td>\n",
       "      <td>NaN</td>\n",
       "      <td>64151</td>\n",
       "      <td>764 km2</td>\n",
       "      <td>63 villages 85% Tajik.[12]</td>\n",
       "      <td>NaN</td>\n",
       "    </tr>\n",
       "    <tr>\n",
       "      <th>3</th>\n",
       "      <td>Chal</td>\n",
       "      <td>NaN</td>\n",
       "      <td>24596</td>\n",
       "      <td>330.8 km2</td>\n",
       "      <td>58 villages. Uzbek, Tajik, Pashtun, Hazara, Pa...</td>\n",
       "      <td>NaN</td>\n",
       "    </tr>\n",
       "    <tr>\n",
       "      <th>4</th>\n",
       "      <td>Darqad</td>\n",
       "      <td>NaN</td>\n",
       "      <td>25771</td>\n",
       "      <td>393 km2</td>\n",
       "      <td>34 villages 5% tajik.[14]</td>\n",
       "      <td>NaN</td>\n",
       "    </tr>\n",
       "    <tr>\n",
       "      <th>5</th>\n",
       "      <td>Dashti Qala</td>\n",
       "      <td>NaN</td>\n",
       "      <td>35347</td>\n",
       "      <td>280 km2</td>\n",
       "      <td>49 villages. 90% Uzbek, 5% Tajik, 5% Pashtun.[15]</td>\n",
       "      <td>NaN</td>\n",
       "    </tr>\n",
       "    <tr>\n",
       "      <th>6</th>\n",
       "      <td>Farkhar</td>\n",
       "      <td>NaN</td>\n",
       "      <td>79864</td>\n",
       "      <td>1,214 km2</td>\n",
       "      <td>75 villages 90% Tajik.[16]</td>\n",
       "      <td>NaN</td>\n",
       "    </tr>\n",
       "    <tr>\n",
       "      <th>7</th>\n",
       "      <td>Hazar Sumuch</td>\n",
       "      <td>NaN</td>\n",
       "      <td>9774</td>\n",
       "      <td>309 km2</td>\n",
       "      <td>28 villages. Uzbeks.[17]</td>\n",
       "      <td>NaN</td>\n",
       "    </tr>\n",
       "    <tr>\n",
       "      <th>8</th>\n",
       "      <td>Ishkamish</td>\n",
       "      <td>NaN</td>\n",
       "      <td>51153</td>\n",
       "      <td>806 km2</td>\n",
       "      <td>103 villages. 35% Tajik, 55% Uzbek and 10% Pas...</td>\n",
       "      <td>NaN</td>\n",
       "    </tr>\n",
       "    <tr>\n",
       "      <th>9</th>\n",
       "      <td>Kalafgan</td>\n",
       "      <td>NaN</td>\n",
       "      <td>28122</td>\n",
       "      <td>479 km2</td>\n",
       "      <td>42 villages 95% Uzbeks.[19]</td>\n",
       "      <td>NaN</td>\n",
       "    </tr>\n",
       "    <tr>\n",
       "      <th>10</th>\n",
       "      <td>Khawajah Bahawodin</td>\n",
       "      <td>NaN</td>\n",
       "      <td>26280</td>\n",
       "      <td>178.2 km2</td>\n",
       "      <td>25 villages. Uzbek, Tajik, Pashtun.[20]</td>\n",
       "      <td>NaN</td>\n",
       "    </tr>\n",
       "    <tr>\n",
       "      <th>11</th>\n",
       "      <td>Khwaja Ghar</td>\n",
       "      <td>NaN</td>\n",
       "      <td>44909</td>\n",
       "      <td>402 km2</td>\n",
       "      <td>62 villages.[21]</td>\n",
       "      <td>NaN</td>\n",
       "    </tr>\n",
       "    <tr>\n",
       "      <th>12</th>\n",
       "      <td>Namak Ab</td>\n",
       "      <td>NaN</td>\n",
       "      <td>11563</td>\n",
       "      <td>584 km2</td>\n",
       "      <td>28 villages.[22]</td>\n",
       "      <td>NaN</td>\n",
       "    </tr>\n",
       "    <tr>\n",
       "      <th>13</th>\n",
       "      <td>Rustaq</td>\n",
       "      <td>NaN</td>\n",
       "      <td>248780</td>\n",
       "      <td>1,939 km2</td>\n",
       "      <td>179 villages. 45%Uzbek, 40%Tajik, 15% Baloch.[23]</td>\n",
       "      <td>NaN</td>\n",
       "    </tr>\n",
       "    <tr>\n",
       "      <th>14</th>\n",
       "      <td>Taluqan</td>\n",
       "      <td>Taluqan</td>\n",
       "      <td>194471</td>\n",
       "      <td>NaN</td>\n",
       "      <td>NaN</td>\n",
       "      <td>Warsaj || || 33,506 || 2705.3 km2 || 94 villag...</td>\n",
       "    </tr>\n",
       "    <tr>\n",
       "      <th>15</th>\n",
       "      <td>Yangi Qala</td>\n",
       "      <td>NaN</td>\n",
       "      <td>39398</td>\n",
       "      <td>247 km2</td>\n",
       "      <td>64 villages.[25]</td>\n",
       "      <td>NaN</td>\n",
       "    </tr>\n",
       "  </tbody>\n",
       "</table>\n",
       "</div>"
      ],
      "text/plain": [
       "              District  Capital  Population[9]       Area  \\\n",
       "0              Baharak      NaN          40902    231 km2   \n",
       "1                Bangi      NaN          28197    566 km2   \n",
       "2              Chah Ab      NaN          64151    764 km2   \n",
       "3                 Chal      NaN          24596  330.8 km2   \n",
       "4               Darqad      NaN          25771    393 km2   \n",
       "5          Dashti Qala      NaN          35347    280 km2   \n",
       "6              Farkhar      NaN          79864  1,214 km2   \n",
       "7         Hazar Sumuch      NaN           9774    309 km2   \n",
       "8            Ishkamish      NaN          51153    806 km2   \n",
       "9             Kalafgan      NaN          28122    479 km2   \n",
       "10  Khawajah Bahawodin      NaN          26280  178.2 km2   \n",
       "11         Khwaja Ghar      NaN          44909    402 km2   \n",
       "12            Namak Ab      NaN          11563    584 km2   \n",
       "13              Rustaq      NaN         248780  1,939 km2   \n",
       "14             Taluqan  Taluqan         194471        NaN   \n",
       "15          Yangi Qala      NaN          39398    247 km2   \n",
       "\n",
       "                 Number of villages and ethnic groups  \\\n",
       "0                74 villages 15% tajik 65% Uzbek.[10]   \n",
       "1                                    59 villages.[11]   \n",
       "2                          63 villages 85% Tajik.[12]   \n",
       "3   58 villages. Uzbek, Tajik, Pashtun, Hazara, Pa...   \n",
       "4                           34 villages 5% tajik.[14]   \n",
       "5   49 villages. 90% Uzbek, 5% Tajik, 5% Pashtun.[15]   \n",
       "6                          75 villages 90% Tajik.[16]   \n",
       "7                            28 villages. Uzbeks.[17]   \n",
       "8   103 villages. 35% Tajik, 55% Uzbek and 10% Pas...   \n",
       "9                         42 villages 95% Uzbeks.[19]   \n",
       "10            25 villages. Uzbek, Tajik, Pashtun.[20]   \n",
       "11                                   62 villages.[21]   \n",
       "12                                   28 villages.[22]   \n",
       "13  179 villages. 45%Uzbek, 40%Tajik, 15% Baloch.[23]   \n",
       "14                                                NaN   \n",
       "15                                   64 villages.[25]   \n",
       "\n",
       "                                           Unnamed: 5  \n",
       "0                                                 NaN  \n",
       "1                                                 NaN  \n",
       "2                                                 NaN  \n",
       "3                                                 NaN  \n",
       "4                                                 NaN  \n",
       "5                                                 NaN  \n",
       "6                                                 NaN  \n",
       "7                                                 NaN  \n",
       "8                                                 NaN  \n",
       "9                                                 NaN  \n",
       "10                                                NaN  \n",
       "11                                                NaN  \n",
       "12                                                NaN  \n",
       "13                                                NaN  \n",
       "14  Warsaj || || 33,506 || 2705.3 km2 || 94 villag...  \n",
       "15                                                NaN  "
      ]
     },
     "execution_count": 140,
     "metadata": {},
     "output_type": "execute_result"
    }
   ],
   "source": [
    "\n",
    "page_tables_list[7]"
   ]
  },
  {
   "cell_type": "code",
   "execution_count": 141,
   "metadata": {},
   "outputs": [
    {
     "data": {
      "text/plain": [
       "'Pashtun, Tajik, Hazara, Uzbek, Baloch, Pashai, and Gujjar'"
      ]
     },
     "execution_count": 141,
     "metadata": {},
     "output_type": "execute_result"
    }
   ],
   "source": [
    "\n",
    "ethnic_groups_list = []\n",
    "ethnicity_str = ' '.join([str(n) for n in page_tables_list[7]['Number of villages and ethnic groups'].tolist()])\n",
    "for ethnicity in ethnicities_list:\n",
    "    if ethnicity in ethnicity_str:\n",
    "        ethnic_groups_list.append(ethnicity)\n",
    "conjunctify_list(ethnic_groups_list)"
   ]
  },
  {
   "cell_type": "code",
   "execution_count": 152,
   "metadata": {},
   "outputs": [
    {
     "data": {
      "text/plain": [
       "['Deputy Governor', 'Largest city', 'Established', 'Water', 'Density', 'Website', 'Governor', 'Country', 'Time zone', 'Ethnic groups', 'Total Population', 'Capital', 'Main languages', 'ISO 3166-2:AF', 'Total Area', 'License Plate Code', 'Centers', '# Districts', 'U.N. Region', 'total_population', 'total_area_sq_km', 'total_area_sq_mi', 'density_per_sq_km', 'density_per_sq_mi']"
      ]
     },
     "execution_count": 152,
     "metadata": {},
     "output_type": "execute_result"
    }
   ],
   "source": [
    "\n",
    "afghanistan_provinces_df.columns.tolist()"
   ]
  },
  {
   "cell_type": "code",
   "execution_count": 153,
   "metadata": {},
   "outputs": [],
   "source": [
    "\n",
    "columns_list = ['Largest city', 'Density', 'Governor', 'Country', 'Time zone', 'Ethnic groups', 'Total Population', 'Capital',\n",
    "                'Main languages', 'ISO 3166-2:AF', 'Total Area', 'License Plate Code', 'Centers', '# Districts', 'U.N. Region',\n",
    "                'total_population', 'total_area_sq_km', 'total_area_sq_mi', 'density_per_sq_km', 'density_per_sq_mi']\n",
    "afghanistan_provinces_df = afghanistan_provinces_df[columns_list]"
   ]
  },
  {
   "cell_type": "code",
   "execution_count": 154,
   "metadata": {},
   "outputs": [
    {
     "name": "stdout",
     "output_type": "stream",
     "text": [
      "Pickling to D:\\Documents\\Repositories\\notebooks\\StatsByCountry\\saves\\pickle\\afghanistan_provinces_df.pickle\n"
     ]
    }
   ],
   "source": [
    "\n",
    "s.store_objects(afghanistan_provinces_df=afghanistan_provinces_df)"
   ]
  },
  {
   "cell_type": "code",
   "execution_count": 155,
   "metadata": {},
   "outputs": [],
   "source": [
    "\n",
    "afghanistan_provinces_df = s.load_object('afghanistan_provinces_df')"
   ]
  },
  {
   "cell_type": "code",
   "execution_count": 156,
   "metadata": {},
   "outputs": [
    {
     "data": {
      "text/html": [
       "<div>\n",
       "<style scoped>\n",
       "    .dataframe tbody tr th:only-of-type {\n",
       "        vertical-align: middle;\n",
       "    }\n",
       "\n",
       "    .dataframe tbody tr th {\n",
       "        vertical-align: top;\n",
       "    }\n",
       "\n",
       "    .dataframe thead th {\n",
       "        text-align: right;\n",
       "    }\n",
       "</style>\n",
       "<table border=\"1\" class=\"dataframe\">\n",
       "  <thead>\n",
       "    <tr style=\"text-align: right;\">\n",
       "      <th></th>\n",
       "      <th>column_name</th>\n",
       "      <th>dtype</th>\n",
       "      <th>count_blanks</th>\n",
       "      <th>count_uniques</th>\n",
       "      <th>count_zeroes</th>\n",
       "      <th>has_dates</th>\n",
       "      <th>min_value</th>\n",
       "      <th>max_value</th>\n",
       "      <th>only_integers</th>\n",
       "    </tr>\n",
       "  </thead>\n",
       "  <tbody>\n",
       "    <tr>\n",
       "      <th>0</th>\n",
       "      <td># Districts</td>\n",
       "      <td>int64</td>\n",
       "      <td>0</td>\n",
       "      <td>15</td>\n",
       "      <td>0</td>\n",
       "      <td>True</td>\n",
       "      <td>5</td>\n",
       "      <td>29</td>\n",
       "      <td>True</td>\n",
       "    </tr>\n",
       "    <tr>\n",
       "      <th>1</th>\n",
       "      <td>total_population</td>\n",
       "      <td>int64</td>\n",
       "      <td>0</td>\n",
       "      <td>34</td>\n",
       "      <td>0</td>\n",
       "      <td>True</td>\n",
       "      <td>100000</td>\n",
       "      <td>4372977</td>\n",
       "      <td>True</td>\n",
       "    </tr>\n",
       "    <tr>\n",
       "      <th>18</th>\n",
       "      <td>Centers</td>\n",
       "      <td>object</td>\n",
       "      <td>0</td>\n",
       "      <td>34</td>\n",
       "      <td>0</td>\n",
       "      <td>False</td>\n",
       "      <td>Asadabad</td>\n",
       "      <td>Zaranj</td>\n",
       "      <td>NaN</td>\n",
       "    </tr>\n",
       "    <tr>\n",
       "      <th>17</th>\n",
       "      <td>License Plate Code</td>\n",
       "      <td>object</td>\n",
       "      <td>0</td>\n",
       "      <td>34</td>\n",
       "      <td>0</td>\n",
       "      <td>False</td>\n",
       "      <td>BAG</td>\n",
       "      <td>ZBL</td>\n",
       "      <td>NaN</td>\n",
       "    </tr>\n",
       "    <tr>\n",
       "      <th>16</th>\n",
       "      <td>Total Area</td>\n",
       "      <td>object</td>\n",
       "      <td>0</td>\n",
       "      <td>34</td>\n",
       "      <td>0</td>\n",
       "      <td>False</td>\n",
       "      <td>1,842.1 km 2 (711.2 sq mi)</td>\n",
       "      <td>9,934 km 2 (3,836 sq mi)</td>\n",
       "      <td>NaN</td>\n",
       "    </tr>\n",
       "    <tr>\n",
       "      <th>15</th>\n",
       "      <td>ISO 3166-2:AF</td>\n",
       "      <td>object</td>\n",
       "      <td>0</td>\n",
       "      <td>34</td>\n",
       "      <td>0</td>\n",
       "      <td>False</td>\n",
       "      <td>AF-BAL</td>\n",
       "      <td>AF-ZAB</td>\n",
       "      <td>NaN</td>\n",
       "    </tr>\n",
       "    <tr>\n",
       "      <th>14</th>\n",
       "      <td>Main languages</td>\n",
       "      <td>object</td>\n",
       "      <td>0</td>\n",
       "      <td>28</td>\n",
       "      <td>0</td>\n",
       "      <td>False</td>\n",
       "      <td>Dari ( Hazaragi dialect )</td>\n",
       "      <td>Uzbek Turkmen Dari Pashto</td>\n",
       "      <td>NaN</td>\n",
       "    </tr>\n",
       "    <tr>\n",
       "      <th>13</th>\n",
       "      <td>Capital</td>\n",
       "      <td>object</td>\n",
       "      <td>0</td>\n",
       "      <td>34</td>\n",
       "      <td>0</td>\n",
       "      <td>False</td>\n",
       "      <td>Asadabad</td>\n",
       "      <td>Zaranj</td>\n",
       "      <td>NaN</td>\n",
       "    </tr>\n",
       "    <tr>\n",
       "      <th>12</th>\n",
       "      <td>Total Population</td>\n",
       "      <td>object</td>\n",
       "      <td>0</td>\n",
       "      <td>34</td>\n",
       "      <td>0</td>\n",
       "      <td>False</td>\n",
       "      <td>1,245,100</td>\n",
       "      <td>953,800</td>\n",
       "      <td>NaN</td>\n",
       "    </tr>\n",
       "    <tr>\n",
       "      <th>11</th>\n",
       "      <td>Ethnic groups</td>\n",
       "      <td>object</td>\n",
       "      <td>0</td>\n",
       "      <td>27</td>\n",
       "      <td>0</td>\n",
       "      <td>False</td>\n",
       "      <td>Aimak, Uzbek, Turkmen, Hazara, Pashtun, and Ba...</td>\n",
       "      <td>Uzbek, Turkmen, and Pashtun</td>\n",
       "      <td>NaN</td>\n",
       "    </tr>\n",
       "    <tr>\n",
       "      <th>10</th>\n",
       "      <td>Time zone</td>\n",
       "      <td>object</td>\n",
       "      <td>0</td>\n",
       "      <td>1</td>\n",
       "      <td>0</td>\n",
       "      <td>False</td>\n",
       "      <td>UTC+04:30 (AST)</td>\n",
       "      <td>UTC+04:30 (AST)</td>\n",
       "      <td>NaN</td>\n",
       "    </tr>\n",
       "    <tr>\n",
       "      <th>9</th>\n",
       "      <td>Country</td>\n",
       "      <td>object</td>\n",
       "      <td>0</td>\n",
       "      <td>1</td>\n",
       "      <td>0</td>\n",
       "      <td>False</td>\n",
       "      <td>Afghanistan</td>\n",
       "      <td>Afghanistan</td>\n",
       "      <td>NaN</td>\n",
       "    </tr>\n",
       "    <tr>\n",
       "      <th>8</th>\n",
       "      <td>Governor</td>\n",
       "      <td>object</td>\n",
       "      <td>0</td>\n",
       "      <td>34</td>\n",
       "      <td>0</td>\n",
       "      <td>False</td>\n",
       "      <td>Abdul Hai Naimati</td>\n",
       "      <td>Wahidullah Kalimzai [1]</td>\n",
       "      <td>NaN</td>\n",
       "    </tr>\n",
       "    <tr>\n",
       "      <th>7</th>\n",
       "      <td>Density</td>\n",
       "      <td>object</td>\n",
       "      <td>0</td>\n",
       "      <td>33</td>\n",
       "      <td>0</td>\n",
       "      <td>False</td>\n",
       "      <td>100/km 2 (260/sq mi)</td>\n",
       "      <td>99/km 2 (260/sq mi)</td>\n",
       "      <td>NaN</td>\n",
       "    </tr>\n",
       "    <tr>\n",
       "      <th>6</th>\n",
       "      <td>Largest city</td>\n",
       "      <td>object</td>\n",
       "      <td>0</td>\n",
       "      <td>34</td>\n",
       "      <td>0</td>\n",
       "      <td>False</td>\n",
       "      <td>Asadabad</td>\n",
       "      <td>Zurmat</td>\n",
       "      <td>NaN</td>\n",
       "    </tr>\n",
       "    <tr>\n",
       "      <th>5</th>\n",
       "      <td>density_per_sq_mi</td>\n",
       "      <td>float64</td>\n",
       "      <td>0</td>\n",
       "      <td>31</td>\n",
       "      <td>0</td>\n",
       "      <td>True</td>\n",
       "      <td>9.8</td>\n",
       "      <td>2500</td>\n",
       "      <td>False</td>\n",
       "    </tr>\n",
       "    <tr>\n",
       "      <th>4</th>\n",
       "      <td>density_per_sq_km</td>\n",
       "      <td>float64</td>\n",
       "      <td>0</td>\n",
       "      <td>29</td>\n",
       "      <td>0</td>\n",
       "      <td>True</td>\n",
       "      <td>3.8</td>\n",
       "      <td>980</td>\n",
       "      <td>False</td>\n",
       "    </tr>\n",
       "    <tr>\n",
       "      <th>3</th>\n",
       "      <td>total_area_sq_mi</td>\n",
       "      <td>float64</td>\n",
       "      <td>0</td>\n",
       "      <td>34</td>\n",
       "      <td>0</td>\n",
       "      <td>True</td>\n",
       "      <td>711.2</td>\n",
       "      <td>22619</td>\n",
       "      <td>False</td>\n",
       "    </tr>\n",
       "    <tr>\n",
       "      <th>2</th>\n",
       "      <td>total_area_sq_km</td>\n",
       "      <td>float64</td>\n",
       "      <td>0</td>\n",
       "      <td>34</td>\n",
       "      <td>0</td>\n",
       "      <td>True</td>\n",
       "      <td>1842.1</td>\n",
       "      <td>58584</td>\n",
       "      <td>False</td>\n",
       "    </tr>\n",
       "    <tr>\n",
       "      <th>19</th>\n",
       "      <td>U.N. Region</td>\n",
       "      <td>object</td>\n",
       "      <td>0</td>\n",
       "      <td>7</td>\n",
       "      <td>0</td>\n",
       "      <td>False</td>\n",
       "      <td>Central Afghanistan</td>\n",
       "      <td>West Afghanistan</td>\n",
       "      <td>NaN</td>\n",
       "    </tr>\n",
       "  </tbody>\n",
       "</table>\n",
       "</div>"
      ],
      "text/plain": [
       "           column_name    dtype  count_blanks  count_uniques  count_zeroes  \\\n",
       "0          # Districts    int64             0             15             0   \n",
       "1     total_population    int64             0             34             0   \n",
       "18             Centers   object             0             34             0   \n",
       "17  License Plate Code   object             0             34             0   \n",
       "16          Total Area   object             0             34             0   \n",
       "15       ISO 3166-2:AF   object             0             34             0   \n",
       "14      Main languages   object             0             28             0   \n",
       "13             Capital   object             0             34             0   \n",
       "12    Total Population   object             0             34             0   \n",
       "11       Ethnic groups   object             0             27             0   \n",
       "10           Time zone   object             0              1             0   \n",
       "9              Country   object             0              1             0   \n",
       "8             Governor   object             0             34             0   \n",
       "7              Density   object             0             33             0   \n",
       "6         Largest city   object             0             34             0   \n",
       "5    density_per_sq_mi  float64             0             31             0   \n",
       "4    density_per_sq_km  float64             0             29             0   \n",
       "3     total_area_sq_mi  float64             0             34             0   \n",
       "2     total_area_sq_km  float64             0             34             0   \n",
       "19         U.N. Region   object             0              7             0   \n",
       "\n",
       "    has_dates                                          min_value  \\\n",
       "0        True                                                  5   \n",
       "1        True                                             100000   \n",
       "18      False                                           Asadabad   \n",
       "17      False                                                BAG   \n",
       "16      False                         1,842.1 km 2 (711.2 sq mi)   \n",
       "15      False                                             AF-BAL   \n",
       "14      False                          Dari ( Hazaragi dialect )   \n",
       "13      False                                           Asadabad   \n",
       "12      False                                          1,245,100   \n",
       "11      False  Aimak, Uzbek, Turkmen, Hazara, Pashtun, and Ba...   \n",
       "10      False                                    UTC+04:30 (AST)   \n",
       "9       False                                        Afghanistan   \n",
       "8       False                                  Abdul Hai Naimati   \n",
       "7       False                               100/km 2 (260/sq mi)   \n",
       "6       False                                           Asadabad   \n",
       "5        True                                                9.8   \n",
       "4        True                                                3.8   \n",
       "3        True                                              711.2   \n",
       "2        True                                             1842.1   \n",
       "19      False                                Central Afghanistan   \n",
       "\n",
       "                      max_value only_integers  \n",
       "0                            29          True  \n",
       "1                       4372977          True  \n",
       "18                       Zaranj           NaN  \n",
       "17                          ZBL           NaN  \n",
       "16     9,934 km 2 (3,836 sq mi)           NaN  \n",
       "15                       AF-ZAB           NaN  \n",
       "14    Uzbek Turkmen Dari Pashto           NaN  \n",
       "13                       Zaranj           NaN  \n",
       "12                      953,800           NaN  \n",
       "11  Uzbek, Turkmen, and Pashtun           NaN  \n",
       "10              UTC+04:30 (AST)           NaN  \n",
       "9                   Afghanistan           NaN  \n",
       "8       Wahidullah Kalimzai [1]           NaN  \n",
       "7           99/km 2 (260/sq mi)           NaN  \n",
       "6                        Zurmat           NaN  \n",
       "5                          2500         False  \n",
       "4                           980         False  \n",
       "3                         22619         False  \n",
       "2                         58584         False  \n",
       "19             West Afghanistan           NaN  "
      ]
     },
     "execution_count": 156,
     "metadata": {},
     "output_type": "execute_result"
    }
   ],
   "source": [
    "\n",
    "column_descriptions_df = get_column_descriptions(afghanistan_provinces_df)\n",
    "column_descriptions_df.sort_values('count_blanks', ascending=False)"
   ]
  },
  {
   "cell_type": "code",
   "execution_count": 24,
   "metadata": {},
   "outputs": [
    {
     "name": "stdout",
     "output_type": "stream",
     "text": [
      "C:\\Users\\577342\\AppData\\Local\\Continuum\\anaconda3\\python.exe\n"
     ]
    }
   ],
   "source": [
    "\n",
    "print(sys.executable)"
   ]
  }
 ],
 "metadata": {
  "kernelspec": {
   "display_name": "Python 3",
   "language": "python",
   "name": "python3"
  },
  "language_info": {
   "codemirror_mode": {
    "name": "ipython",
    "version": 3
   },
   "file_extension": ".py",
   "mimetype": "text/x-python",
   "name": "python",
   "nbconvert_exporter": "python",
   "pygments_lexer": "ipython3",
   "version": "3.6.8"
  }
 },
 "nbformat": 4,
 "nbformat_minor": 4
}
