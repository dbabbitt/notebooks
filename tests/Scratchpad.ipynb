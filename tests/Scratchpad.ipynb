{
 "cells": [
  {
   "cell_type": "code",
   "execution_count": 1,
   "id": "44293305-4546-456c-b5c0-1b2c46254c97",
   "metadata": {},
   "outputs": [
    {
     "name": "stdout",
     "output_type": "stream",
     "text": [
      "Pretty printing has been turned OFF\n"
     ]
    }
   ],
   "source": [
    "\n",
    "import os.path as osp\n",
    "shared_folder = osp.abspath(osp.join(os.pardir, 'share')); assert osp.exists(shared_folder)\n",
    "import sys\n",
    "if shared_folder not in sys.path: sys.path.insert(1, shared_folder)\n",
    "from notebook_utils import NotebookUtilities\n",
    "nu = NotebookUtilities(\n",
    "    data_folder_path=osp.abspath(osp.join(os.pardir, 'data')),\n",
    "    saves_folder_path=osp.abspath(osp.join(os.pardir, 'saves'))\n",
    ")\n",
    "\n",
    "# Import needed libraries\n",
    "\n",
    "# Set up notebook\n",
    "%pprint\n",
    "sys.path.insert(1, osp.abspath(osp.join(os.pardir, 'py')))\n",
    "\n",
    "nu.delete_ipynb_checkpoint_folders()"
   ]
  },
  {
   "cell_type": "code",
   "execution_count": 2,
   "id": "4341412b-72af-498f-85ec-015e4c7af72c",
   "metadata": {},
   "outputs": [],
   "source": [
    "\n",
    "# Set up notebook for testing\n",
    "sys.path.insert(1, '../tests')"
   ]
  },
  {
   "cell_type": "code",
   "execution_count": 3,
   "id": "19504feb-41b6-42ba-ac10-a13f40f01166",
   "metadata": {},
   "outputs": [],
   "source": [
    "\n",
    "import unittest"
   ]
  },
  {
   "cell_type": "code",
   "execution_count": 4,
   "id": "7d4285f4-3dab-4854-8898-aee456544295",
   "metadata": {},
   "outputs": [
    {
     "name": "stderr",
     "output_type": "stream",
     "text": [
      "......\n",
      "----------------------------------------------------------------------\n",
      "Ran 6 tests in 0.006s\n",
      "\n",
      "OK\n"
     ]
    },
    {
     "data": {
      "text/plain": [
       "<unittest.runner.TextTestResult run=6 errors=0 failures=0>"
      ]
     },
     "execution_count": 4,
     "metadata": {},
     "output_type": "execute_result"
    }
   ],
   "source": [
    "\n",
    "# Create another test suite\n",
    "suite = unittest.TestSuite()\n",
    "\n",
    "# Add all test cases from the class to the suite\n",
    "from test_choropleth_utils import TestIndexizeString, TestTrimDPath\n",
    "suite.addTest(unittest.makeSuite(TestIndexizeString))\n",
    "suite.addTest(unittest.makeSuite(TestTrimDPath))\n",
    "\n",
    "# Run the test suite\n",
    "runner = unittest.TextTestRunner()\n",
    "runner.run(suite)"
   ]
  },
  {
   "cell_type": "markdown",
   "id": "6d3d9f71-3ee7-445f-8750-b8a1697793fd",
   "metadata": {},
   "source": [
    "\n",
    "# Create some good Mock Data"
   ]
  },
  {
   "cell_type": "code",
   "execution_count": 15,
   "id": "3061b8aa-b062-4b42-a129-901b39852cea",
   "metadata": {},
   "outputs": [
    {
     "data": {
      "text/plain": [
       "True"
      ]
     },
     "execution_count": 15,
     "metadata": {},
     "output_type": "execute_result"
    }
   ],
   "source": [
    "\n",
    "# Get all the non-hemorrhaging procedures\n",
    "from random import choices\n",
    "import pandas as pd\n",
    "from pandas import DataFrame, Series, concat\n",
    "from numpy import nan"
   ]
  },
  {
   "cell_type": "code",
   "execution_count": 34,
   "id": "f4df99b4-c0b0-4e23-a0aa-a84f08bf0002",
   "metadata": {},
   "outputs": [
    {
     "name": "stdout",
     "output_type": "stream",
     "text": [
      "\n",
      "        # Create a sample DataFrame\n",
      "        self.describable_df = DataFrame({\n",
      "            'triage_time': [461207, 615663, 649185, 19615, 488626],\n",
      "            'last_controlled_time': [377263, 574558, 462280, 0, 321956]\n",
      "        })\n"
     ]
    }
   ],
   "source": [
    "\n",
    "df = describable_df.sample(5)\n",
    "print(f\"\"\"\n",
    "        # Create a sample DataFrame\n",
    "        self.describable_df = DataFrame({{\n",
    "            'triage_time': {df.triage_time.tolist()},\n",
    "            'last_controlled_time': {df.last_controlled_time.tolist()}\n",
    "        }})\"\"\")"
   ]
  },
  {
   "cell_type": "code",
   "execution_count": null,
   "id": "ac6f7720-fea3-42a7-a3fc-7ecaecc4d8d9",
   "metadata": {},
   "outputs": [],
   "source": []
  }
 ],
 "metadata": {
  "kernelspec": {
   "display_name": "Python 3 (ipykernel)",
   "language": "python",
   "name": "python3"
  },
  "language_info": {
   "codemirror_mode": {
    "name": "ipython",
    "version": 3
   },
   "file_extension": ".py",
   "mimetype": "text/x-python",
   "name": "python",
   "nbconvert_exporter": "python",
   "pygments_lexer": "ipython3",
   "version": "3.12.7"
  }
 },
 "nbformat": 4,
 "nbformat_minor": 5
}
