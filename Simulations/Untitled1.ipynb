{
 "cells": [
  {
   "cell_type": "code",
   "execution_count": 1,
   "metadata": {
    "collapsed": false
   },
   "outputs": [
    {
     "name": "stdout",
     "output_type": "stream",
     "text": [
      "<module 'platform' from 'C:\\\\Users\\\\Dave\\\\Anaconda3\\\\lib\\\\platform.py'>\n",
      "sys.getwindowsversion(major=10, minor=0, build=14393, platform=2, service_pack='')\n",
      "namespace(cache_tag='cpython-35', hexversion=50660080, name='cpython', version=sys.version_info(major=3, minor=5, micro=2, releaselevel='final', serial=0))\n",
      "['', 'C:\\\\Users\\\\Dave\\\\Anaconda3\\\\python35.zip', 'C:\\\\Users\\\\Dave\\\\Anaconda3\\\\DLLs', 'C:\\\\Users\\\\Dave\\\\Anaconda3\\\\lib', 'C:\\\\Users\\\\Dave\\\\Anaconda3', 'C:\\\\Users\\\\Dave\\\\Anaconda3\\\\lib\\\\site-packages', 'C:\\\\Users\\\\Dave\\\\Anaconda3\\\\lib\\\\site-packages\\\\Sphinx-1.4.6-py3.5.egg', 'C:\\\\Users\\\\Dave\\\\Anaconda3\\\\lib\\\\site-packages\\\\win32', 'C:\\\\Users\\\\Dave\\\\Anaconda3\\\\lib\\\\site-packages\\\\win32\\\\lib', 'C:\\\\Users\\\\Dave\\\\Anaconda3\\\\lib\\\\site-packages\\\\Pythonwin', 'C:\\\\Users\\\\Dave\\\\Anaconda3\\\\lib\\\\site-packages\\\\setuptools-27.2.0-py3.5.egg', 'C:\\\\Users\\\\Dave\\\\Anaconda3\\\\lib\\\\site-packages\\\\IPython\\\\extensions', 'C:\\\\Users\\\\Dave\\\\.ipython']\n"
     ]
    },
    {
     "data": {
      "text/plain": [
       "'win32'"
      ]
     },
     "execution_count": 1,
     "metadata": {},
     "output_type": "execute_result"
    }
   ],
   "source": [
    "\n",
    "import sys\n",
    "import pandas as pd\n",
    "\n",
    "print(sys.getwindowsversion())\n",
    "print(sys.implementation)\n",
    "print(sys.path)\n",
    "sys.platform"
   ]
  },
  {
   "cell_type": "code",
   "execution_count": null,
   "metadata": {
    "collapsed": true
   },
   "outputs": [],
   "source": []
  }
 ],
 "metadata": {
  "kernelspec": {
   "display_name": "Python [default]",
   "language": "python",
   "name": "python3"
  },
  "language_info": {
   "codemirror_mode": {
    "name": "ipython",
    "version": 3
   },
   "file_extension": ".py",
   "mimetype": "text/x-python",
   "name": "python",
   "nbconvert_exporter": "python",
   "pygments_lexer": "ipython3",
   "version": "3.5.2"
  }
 },
 "nbformat": 4,
 "nbformat_minor": 1
}
