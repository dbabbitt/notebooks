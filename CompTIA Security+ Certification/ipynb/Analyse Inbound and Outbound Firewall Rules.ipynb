{
 "cells": [
  {
   "cell_type": "code",
   "execution_count": 1,
   "metadata": {
    "scrolled": true
   },
   "outputs": [
    {
     "name": "stdout",
     "output_type": "stream",
     "text": [
      "Pretty printing has been turned OFF\n",
      "DATA_FOLDER: ../data/\n",
      "SAVES_FOLDER: ../saves/\n",
      "DATA_CSV_FOLDER\t DATA_FOLDER\t ENCODING_TYPE\t SAVES_CSV_FOLDER\t SAVES_FOLDER\t SAVES_PICKLE_FOLDER\t attempt_to_pickle\t example_iterrows\t get_column_descriptions\t \n",
      "load_csv\t load_dataframes\t load_object\t math\t os\t pd\t pickle\t re\t requests\t \n",
      "save_dataframes\t store_objects\t sys\t time\t unquote\t \n"
     ]
    }
   ],
   "source": [
    "\n",
    "%pprint\n",
    "%run ../load_magic/storage.py\n",
    "%run ../load_magic/dataframes.py\n",
    "\n",
    "import re\n",
    "import requests\n",
    "import time\n",
    "from urllib.parse import unquote\n",
    "\n",
    "%who"
   ]
  },
  {
   "cell_type": "code",
   "execution_count": 2,
   "metadata": {},
   "outputs": [],
   "source": [
    "\n",
    "inbound_rules_df = load_csv('inbound_rules')\n",
    "outbound_rules_df = load_csv('outbound_rules')"
   ]
  },
  {
   "cell_type": "code",
   "execution_count": 3,
   "metadata": {
    "scrolled": false
   },
   "outputs": [
    {
     "data": {
      "text/html": [
       "<div>\n",
       "<style scoped>\n",
       "    .dataframe tbody tr th:only-of-type {\n",
       "        vertical-align: middle;\n",
       "    }\n",
       "\n",
       "    .dataframe tbody tr th {\n",
       "        vertical-align: top;\n",
       "    }\n",
       "\n",
       "    .dataframe thead th {\n",
       "        text-align: right;\n",
       "    }\n",
       "</style>\n",
       "<table border=\"1\" class=\"dataframe\">\n",
       "  <thead>\n",
       "    <tr style=\"text-align: right;\">\n",
       "      <th></th>\n",
       "      <th>column_name</th>\n",
       "      <th>count_uniques</th>\n",
       "      <th>min_value</th>\n",
       "      <th>max_value</th>\n",
       "    </tr>\n",
       "  </thead>\n",
       "  <tbody>\n",
       "    <tr>\n",
       "      <th>0</th>\n",
       "      <td>Name</td>\n",
       "      <td>182</td>\n",
       "      <td>@{Microsoft.Windows.Photos_2019.19021.18010.0_...</td>\n",
       "      <td>python.exe</td>\n",
       "    </tr>\n",
       "    <tr>\n",
       "      <th>1</th>\n",
       "      <td>Group</td>\n",
       "      <td>78</td>\n",
       "      <td>NaN</td>\n",
       "      <td>NaN</td>\n",
       "    </tr>\n",
       "    <tr>\n",
       "      <th>2</th>\n",
       "      <td>Profile</td>\n",
       "      <td>7</td>\n",
       "      <td>All</td>\n",
       "      <td>Public</td>\n",
       "    </tr>\n",
       "    <tr>\n",
       "      <th>3</th>\n",
       "      <td>Enabled</td>\n",
       "      <td>2</td>\n",
       "      <td>No</td>\n",
       "      <td>Yes</td>\n",
       "    </tr>\n",
       "    <tr>\n",
       "      <th>4</th>\n",
       "      <td>Action</td>\n",
       "      <td>2</td>\n",
       "      <td>Allow</td>\n",
       "      <td>Block</td>\n",
       "    </tr>\n",
       "    <tr>\n",
       "      <th>5</th>\n",
       "      <td>Override</td>\n",
       "      <td>1</td>\n",
       "      <td>No</td>\n",
       "      <td>No</td>\n",
       "    </tr>\n",
       "    <tr>\n",
       "      <th>6</th>\n",
       "      <td>Program</td>\n",
       "      <td>42</td>\n",
       "      <td>%PROGRAMFILES%\\Windows Media Player\\wmplayer.exe</td>\n",
       "      <td>System</td>\n",
       "    </tr>\n",
       "    <tr>\n",
       "      <th>7</th>\n",
       "      <td>Local Address</td>\n",
       "      <td>1</td>\n",
       "      <td>Any</td>\n",
       "      <td>Any</td>\n",
       "    </tr>\n",
       "    <tr>\n",
       "      <th>8</th>\n",
       "      <td>Remote Address</td>\n",
       "      <td>4</td>\n",
       "      <td>Any</td>\n",
       "      <td>fe80::/64</td>\n",
       "    </tr>\n",
       "    <tr>\n",
       "      <th>9</th>\n",
       "      <td>Protocol</td>\n",
       "      <td>8</td>\n",
       "      <td>Any</td>\n",
       "      <td>UDP</td>\n",
       "    </tr>\n",
       "    <tr>\n",
       "      <th>10</th>\n",
       "      <td>Local Port</td>\n",
       "      <td>48</td>\n",
       "      <td>10243</td>\n",
       "      <td>RPC Endpoint Mapper</td>\n",
       "    </tr>\n",
       "    <tr>\n",
       "      <th>11</th>\n",
       "      <td>Remote Port</td>\n",
       "      <td>4</td>\n",
       "      <td>547</td>\n",
       "      <td>Any</td>\n",
       "    </tr>\n",
       "    <tr>\n",
       "      <th>12</th>\n",
       "      <td>Authorized Users</td>\n",
       "      <td>1</td>\n",
       "      <td>Any</td>\n",
       "      <td>Any</td>\n",
       "    </tr>\n",
       "    <tr>\n",
       "      <th>13</th>\n",
       "      <td>Authorized Computers</td>\n",
       "      <td>1</td>\n",
       "      <td>Any</td>\n",
       "      <td>Any</td>\n",
       "    </tr>\n",
       "    <tr>\n",
       "      <th>14</th>\n",
       "      <td>Authorized Local Principals</td>\n",
       "      <td>3</td>\n",
       "      <td>Any</td>\n",
       "      <td>S-1-5-92-3339056971-1291069075-3798698925-2882...</td>\n",
       "    </tr>\n",
       "    <tr>\n",
       "      <th>15</th>\n",
       "      <td>Local User Owner</td>\n",
       "      <td>4</td>\n",
       "      <td>Any</td>\n",
       "      <td>DESKTOP-AL5995A\\dev</td>\n",
       "    </tr>\n",
       "    <tr>\n",
       "      <th>16</th>\n",
       "      <td>Application Package</td>\n",
       "      <td>30</td>\n",
       "      <td>89006A2E.AutodeskSketchBook_tf1gferkr813w</td>\n",
       "      <td>microsoft.windowsstore_8wekyb3d8bbwe</td>\n",
       "    </tr>\n",
       "  </tbody>\n",
       "</table>\n",
       "</div>"
      ],
      "text/plain": [
       "                    column_name  count_uniques  \\\n",
       "0                          Name            182   \n",
       "1                         Group             78   \n",
       "2                       Profile              7   \n",
       "3                       Enabled              2   \n",
       "4                        Action              2   \n",
       "5                      Override              1   \n",
       "6                       Program             42   \n",
       "7                 Local Address              1   \n",
       "8                Remote Address              4   \n",
       "9                      Protocol              8   \n",
       "10                   Local Port             48   \n",
       "11                  Remote Port              4   \n",
       "12             Authorized Users              1   \n",
       "13         Authorized Computers              1   \n",
       "14  Authorized Local Principals              3   \n",
       "15             Local User Owner              4   \n",
       "16          Application Package             30   \n",
       "\n",
       "                                            min_value  \\\n",
       "0   @{Microsoft.Windows.Photos_2019.19021.18010.0_...   \n",
       "1                                                 NaN   \n",
       "2                                                 All   \n",
       "3                                                  No   \n",
       "4                                               Allow   \n",
       "5                                                  No   \n",
       "6    %PROGRAMFILES%\\Windows Media Player\\wmplayer.exe   \n",
       "7                                                 Any   \n",
       "8                                                 Any   \n",
       "9                                                 Any   \n",
       "10                                              10243   \n",
       "11                                                547   \n",
       "12                                                Any   \n",
       "13                                                Any   \n",
       "14                                                Any   \n",
       "15                                                Any   \n",
       "16          89006A2E.AutodeskSketchBook_tf1gferkr813w   \n",
       "\n",
       "                                            max_value  \n",
       "0                                          python.exe  \n",
       "1                                                 NaN  \n",
       "2                                              Public  \n",
       "3                                                 Yes  \n",
       "4                                               Block  \n",
       "5                                                  No  \n",
       "6                                              System  \n",
       "7                                                 Any  \n",
       "8                                           fe80::/64  \n",
       "9                                                 UDP  \n",
       "10                                RPC Endpoint Mapper  \n",
       "11                                                Any  \n",
       "12                                                Any  \n",
       "13                                                Any  \n",
       "14  S-1-5-92-3339056971-1291069075-3798698925-2882...  \n",
       "15                                DESKTOP-AL5995A\\dev  \n",
       "16               microsoft.windowsstore_8wekyb3d8bbwe  "
      ]
     },
     "execution_count": 3,
     "metadata": {},
     "output_type": "execute_result"
    }
   ],
   "source": [
    "\n",
    "inbound_rules_column_descriptions_df = get_column_descriptions(inbound_rules_df)\n",
    "columns_list = ['column_name', 'count_uniques', 'min_value', 'max_value']\n",
    "inbound_rules_column_descriptions_df[columns_list]"
   ]
  },
  {
   "cell_type": "code",
   "execution_count": 4,
   "metadata": {
    "scrolled": false
   },
   "outputs": [
    {
     "data": {
      "text/html": [
       "<div>\n",
       "<style scoped>\n",
       "    .dataframe tbody tr th:only-of-type {\n",
       "        vertical-align: middle;\n",
       "    }\n",
       "\n",
       "    .dataframe tbody tr th {\n",
       "        vertical-align: top;\n",
       "    }\n",
       "\n",
       "    .dataframe thead th {\n",
       "        text-align: right;\n",
       "    }\n",
       "</style>\n",
       "<table border=\"1\" class=\"dataframe\">\n",
       "  <thead>\n",
       "    <tr style=\"text-align: right;\">\n",
       "      <th></th>\n",
       "      <th>column_name</th>\n",
       "      <th>count_uniques</th>\n",
       "      <th>min_value</th>\n",
       "      <th>max_value</th>\n",
       "    </tr>\n",
       "  </thead>\n",
       "  <tbody>\n",
       "    <tr>\n",
       "      <th>0</th>\n",
       "      <td>Name</td>\n",
       "      <td>178</td>\n",
       "      <td>3D Viewer</td>\n",
       "      <td>mDNS (UDP-Out)</td>\n",
       "    </tr>\n",
       "    <tr>\n",
       "      <th>1</th>\n",
       "      <td>Group</td>\n",
       "      <td>97</td>\n",
       "      <td>3D Viewer</td>\n",
       "      <td>{78E1CD88-49E3-476E-B926-580E596AD309}</td>\n",
       "    </tr>\n",
       "    <tr>\n",
       "      <th>2</th>\n",
       "      <td>Profile</td>\n",
       "      <td>7</td>\n",
       "      <td>All</td>\n",
       "      <td>Public</td>\n",
       "    </tr>\n",
       "    <tr>\n",
       "      <th>3</th>\n",
       "      <td>Enabled</td>\n",
       "      <td>2</td>\n",
       "      <td>No</td>\n",
       "      <td>Yes</td>\n",
       "    </tr>\n",
       "    <tr>\n",
       "      <th>4</th>\n",
       "      <td>Action</td>\n",
       "      <td>1</td>\n",
       "      <td>Allow</td>\n",
       "      <td>Allow</td>\n",
       "    </tr>\n",
       "    <tr>\n",
       "      <th>5</th>\n",
       "      <td>Override</td>\n",
       "      <td>1</td>\n",
       "      <td>No</td>\n",
       "      <td>No</td>\n",
       "    </tr>\n",
       "    <tr>\n",
       "      <th>6</th>\n",
       "      <td>Program</td>\n",
       "      <td>26</td>\n",
       "      <td>%PROGRAMFILES%\\Windows Media Player\\wmplayer.exe</td>\n",
       "      <td>System</td>\n",
       "    </tr>\n",
       "    <tr>\n",
       "      <th>7</th>\n",
       "      <td>Local Address</td>\n",
       "      <td>2</td>\n",
       "      <td>Any</td>\n",
       "      <td>fe80::/64</td>\n",
       "    </tr>\n",
       "    <tr>\n",
       "      <th>8</th>\n",
       "      <td>Remote Address</td>\n",
       "      <td>5</td>\n",
       "      <td>Any</td>\n",
       "      <td>PlayTo Renderers</td>\n",
       "    </tr>\n",
       "    <tr>\n",
       "      <th>9</th>\n",
       "      <td>Protocol</td>\n",
       "      <td>8</td>\n",
       "      <td>Any</td>\n",
       "      <td>UDP</td>\n",
       "    </tr>\n",
       "    <tr>\n",
       "      <th>10</th>\n",
       "      <td>Local Port</td>\n",
       "      <td>5</td>\n",
       "      <td>1900</td>\n",
       "      <td>Any</td>\n",
       "    </tr>\n",
       "    <tr>\n",
       "      <th>11</th>\n",
       "      <td>Remote Port</td>\n",
       "      <td>25</td>\n",
       "      <td>10243</td>\n",
       "      <td>IPHTTPS</td>\n",
       "    </tr>\n",
       "    <tr>\n",
       "      <th>12</th>\n",
       "      <td>Authorized Computers</td>\n",
       "      <td>1</td>\n",
       "      <td>Any</td>\n",
       "      <td>Any</td>\n",
       "    </tr>\n",
       "    <tr>\n",
       "      <th>13</th>\n",
       "      <td>Authorized Local Principals</td>\n",
       "      <td>3</td>\n",
       "      <td>Any</td>\n",
       "      <td>S-1-5-92-3339056971-1291069075-3798698925-2882...</td>\n",
       "    </tr>\n",
       "    <tr>\n",
       "      <th>14</th>\n",
       "      <td>Local User Owner</td>\n",
       "      <td>4</td>\n",
       "      <td>Any</td>\n",
       "      <td>DESKTOP-AL5995A\\dev</td>\n",
       "    </tr>\n",
       "    <tr>\n",
       "      <th>15</th>\n",
       "      <td>Application Package</td>\n",
       "      <td>63</td>\n",
       "      <td>828B5831.HiddenCityMysteryofShadows_ytsefhwckbdv6</td>\n",
       "      <td>microsoft.windowsstore_8wekyb3d8bbwe</td>\n",
       "    </tr>\n",
       "  </tbody>\n",
       "</table>\n",
       "</div>"
      ],
      "text/plain": [
       "                    column_name  count_uniques  \\\n",
       "0                          Name            178   \n",
       "1                         Group             97   \n",
       "2                       Profile              7   \n",
       "3                       Enabled              2   \n",
       "4                        Action              1   \n",
       "5                      Override              1   \n",
       "6                       Program             26   \n",
       "7                 Local Address              2   \n",
       "8                Remote Address              5   \n",
       "9                      Protocol              8   \n",
       "10                   Local Port              5   \n",
       "11                  Remote Port             25   \n",
       "12         Authorized Computers              1   \n",
       "13  Authorized Local Principals              3   \n",
       "14             Local User Owner              4   \n",
       "15          Application Package             63   \n",
       "\n",
       "                                            min_value  \\\n",
       "0                                           3D Viewer   \n",
       "1                                           3D Viewer   \n",
       "2                                                 All   \n",
       "3                                                  No   \n",
       "4                                               Allow   \n",
       "5                                                  No   \n",
       "6    %PROGRAMFILES%\\Windows Media Player\\wmplayer.exe   \n",
       "7                                                 Any   \n",
       "8                                                 Any   \n",
       "9                                                 Any   \n",
       "10                                               1900   \n",
       "11                                              10243   \n",
       "12                                                Any   \n",
       "13                                                Any   \n",
       "14                                                Any   \n",
       "15  828B5831.HiddenCityMysteryofShadows_ytsefhwckbdv6   \n",
       "\n",
       "                                            max_value  \n",
       "0                                      mDNS (UDP-Out)  \n",
       "1              {78E1CD88-49E3-476E-B926-580E596AD309}  \n",
       "2                                              Public  \n",
       "3                                                 Yes  \n",
       "4                                               Allow  \n",
       "5                                                  No  \n",
       "6                                              System  \n",
       "7                                           fe80::/64  \n",
       "8                                    PlayTo Renderers  \n",
       "9                                                 UDP  \n",
       "10                                                Any  \n",
       "11                                            IPHTTPS  \n",
       "12                                                Any  \n",
       "13  S-1-5-92-3339056971-1291069075-3798698925-2882...  \n",
       "14                                DESKTOP-AL5995A\\dev  \n",
       "15               microsoft.windowsstore_8wekyb3d8bbwe  "
      ]
     },
     "execution_count": 4,
     "metadata": {},
     "output_type": "execute_result"
    }
   ],
   "source": [
    "\n",
    "outbound_rules_column_descriptions_df = get_column_descriptions(outbound_rules_df)\n",
    "columns_list = ['column_name', 'count_uniques', 'min_value', 'max_value']\n",
    "outbound_rules_column_descriptions_df[columns_list]"
   ]
  },
  {
   "cell_type": "code",
   "execution_count": 5,
   "metadata": {},
   "outputs": [
    {
     "data": {
      "text/plain": [
       "['Local Port', 'Remote Port']"
      ]
     },
     "execution_count": 5,
     "metadata": {},
     "output_type": "execute_result"
    }
   ],
   "source": [
    "\n",
    "[cn for cn in inbound_rules_df.columns if 'port' in cn.lower()]"
   ]
  },
  {
   "cell_type": "code",
   "execution_count": 6,
   "metadata": {},
   "outputs": [
    {
     "data": {
      "text/plain": [
       "array(['Any', '6004', '4371-4379', '8088', '57621-57631', '4381-4389',\n",
       "       '57621', '9955', '2177', 'PlayTo Discovery', '10246',\n",
       "       '23554, 23555, 23556', '2869', '68', '546', 'IPHTTPS',\n",
       "       'Edge Traversal', '7680', '10247', 'RPC Dynamic Ports',\n",
       "       'RPC Endpoint Mapper', '5355', '138', '137', '139', '445', '5353',\n",
       "       '3587', '3540', '10244', '554, 8554, 8555, 8556, 8557, 8558',\n",
       "       '1900',\n",
       "       '7777, 7778, 7779, 7780, 7781, 5004, 5005, 50004, 50005, 50006, 50007, 50008, 50009, 50010, 50011, 50012, 50013',\n",
       "       '3390', '3702', '5357', '5358', '135', '1701', '1723', '443',\n",
       "       '162', '10243', '10245', '5985', '80', '7250', '7235'],\n",
       "      dtype=object)"
      ]
     },
     "execution_count": 6,
     "metadata": {},
     "output_type": "execute_result"
    }
   ],
   "source": [
    "\n",
    "inbound_rules_df['Local Port'].unique()"
   ]
  },
  {
   "cell_type": "code",
   "execution_count": 7,
   "metadata": {},
   "outputs": [
    {
     "data": {
      "text/plain": [
       "array(['Any', '67', '547', '7235'], dtype=object)"
      ]
     },
     "execution_count": 7,
     "metadata": {},
     "output_type": "execute_result"
    }
   ],
   "source": [
    "\n",
    "inbound_rules_df['Remote Port'].unique()"
   ]
  },
  {
   "cell_type": "code",
   "execution_count": 8,
   "metadata": {},
   "outputs": [
    {
     "data": {
      "text/plain": [
       "['Local Port', 'Remote Port']"
      ]
     },
     "execution_count": 8,
     "metadata": {},
     "output_type": "execute_result"
    }
   ],
   "source": [
    "\n",
    "[cn for cn in outbound_rules_df.columns if 'port' in cn.lower()]"
   ]
  },
  {
   "cell_type": "code",
   "execution_count": 9,
   "metadata": {},
   "outputs": [
    {
     "data": {
      "text/plain": [
       "array(['Any', '68', '546', '1900', '7235'], dtype=object)"
      ]
     },
     "execution_count": 9,
     "metadata": {},
     "output_type": "execute_result"
    }
   ],
   "source": [
    "\n",
    "outbound_rules_df['Local Port'].unique()"
   ]
  },
  {
   "cell_type": "code",
   "execution_count": 10,
   "metadata": {},
   "outputs": [
    {
     "data": {
      "text/plain": [
       "array(['Any', '2177', '53', '67', '547', '445', 'IPHTTPS', '443', '5355',\n",
       "       '138', '137', '139', '3587', '3540', '5353', '1900', '3702',\n",
       "       '2869', '5357', '5358', '1701', '1723', '10243', '15740', '7235'],\n",
       "      dtype=object)"
      ]
     },
     "execution_count": 10,
     "metadata": {},
     "output_type": "execute_result"
    }
   ],
   "source": [
    "\n",
    "outbound_rules_df['Remote Port'].unique()"
   ]
  },
  {
   "cell_type": "code",
   "execution_count": 11,
   "metadata": {},
   "outputs": [
    {
     "name": "stdout",
     "output_type": "stream",
     "text": [
      "Saving to C:\\Users\\dev\\Documents\\repositories\\notebooks\\CompTIA Security+ Certification\\data\\csv\\inbound_rules_df.csv\n",
      "Saving to C:\\Users\\dev\\Documents\\repositories\\notebooks\\CompTIA Security+ Certification\\saves\\csv\\inbound_rules_df.csv\n",
      "Saving to C:\\Users\\dev\\Documents\\repositories\\notebooks\\CompTIA Security+ Certification\\data\\xlsx\\inbound_rules_df.xlsx\n"
     ]
    }
   ],
   "source": [
    "\n",
    "columns_list = inbound_rules_df.columns\n",
    "file_path = os.path.join(DATA_CSV_FOLDER, 'inbound_rules_df.csv')\n",
    "print('Saving to {}'.format(os.path.abspath(file_path)))\n",
    "inbound_rules_df[columns_list].to_csv(file_path)\n",
    "save_dataframes(include_index=True,\n",
    "                inbound_rules_df=inbound_rules_df[columns_list])\n",
    "xlsx_folder = os.path.join(DATA_FOLDER, 'xlsx')\n",
    "os.makedirs(name=xlsx_folder, exist_ok=True)\n",
    "file_path = os.path.join(xlsx_folder, 'inbound_rules_df.xlsx')\n",
    "print('Saving to {}'.format(os.path.abspath(file_path)))\n",
    "inbound_rules_df[columns_list].to_excel(file_path)"
   ]
  },
  {
   "cell_type": "code",
   "execution_count": 12,
   "metadata": {},
   "outputs": [
    {
     "name": "stdout",
     "output_type": "stream",
     "text": [
      "Saving to C:\\Users\\dev\\Documents\\repositories\\notebooks\\CompTIA Security+ Certification\\data\\csv\\outbound_rules_df.csv\n",
      "Saving to C:\\Users\\dev\\Documents\\repositories\\notebooks\\CompTIA Security+ Certification\\saves\\csv\\outbound_rules_df.csv\n",
      "Saving to C:\\Users\\dev\\Documents\\repositories\\notebooks\\CompTIA Security+ Certification\\data\\xlsx\\outbound_rules_df.xlsx\n"
     ]
    }
   ],
   "source": [
    "\n",
    "columns_list = outbound_rules_df.columns\n",
    "file_path = os.path.join(DATA_CSV_FOLDER, 'outbound_rules_df.csv')\n",
    "print('Saving to {}'.format(os.path.abspath(file_path)))\n",
    "outbound_rules_df[columns_list].to_csv(file_path)\n",
    "save_dataframes(include_index=True,\n",
    "                outbound_rules_df=outbound_rules_df[columns_list])\n",
    "xlsx_folder = os.path.join(DATA_FOLDER, 'xlsx')\n",
    "os.makedirs(name=xlsx_folder, exist_ok=True)\n",
    "file_path = os.path.join(xlsx_folder, 'outbound_rules_df.xlsx')\n",
    "print('Saving to {}'.format(os.path.abspath(file_path)))\n",
    "outbound_rules_df[columns_list].to_excel(file_path)"
   ]
  },
  {
   "cell_type": "code",
   "execution_count": null,
   "metadata": {},
   "outputs": [],
   "source": []
  }
 ],
 "metadata": {
  "kernelspec": {
   "display_name": "Python 3",
   "language": "python",
   "name": "python3"
  },
  "language_info": {
   "codemirror_mode": {
    "name": "ipython",
    "version": 3
   },
   "file_extension": ".py",
   "mimetype": "text/x-python",
   "name": "python",
   "nbconvert_exporter": "python",
   "pygments_lexer": "ipython3",
   "version": "3.6.8"
  }
 },
 "nbformat": 4,
 "nbformat_minor": 2
}
