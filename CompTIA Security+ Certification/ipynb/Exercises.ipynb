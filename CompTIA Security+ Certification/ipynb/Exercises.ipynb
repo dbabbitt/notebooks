{
 "cells": [
  {
   "cell_type": "code",
   "execution_count": 8,
   "metadata": {},
   "outputs": [
    {
     "data": {
      "text/plain": [
       "112127"
      ]
     },
     "execution_count": 8,
     "metadata": {},
     "output_type": "execute_result"
    }
   ],
   "source": [
    "\n",
    "import hashlib\n",
    "import requests\n",
    "\n",
    "url_str = 'http://www.gutenberg.org/ebooks/1514.txt.utf-8'\n",
    "encode_str = 'utf-8'\n",
    "night = requests.get(url_str)\n",
    "len(night.text)"
   ]
  },
  {
   "cell_type": "code",
   "execution_count": 9,
   "metadata": {},
   "outputs": [
    {
     "name": "stdout",
     "output_type": "stream",
     "text": [
      "h power to say, Behold!\r\n",
      "The jaws of darkness do devour it up:\r\n",
      "So quick bright things come to confusion.\r\n",
      "\r\n",
      "HERMIA\r\n",
      "If then true lovers have ever cross'd,\r\n",
      "It stands as an edict in destiny:\r\n",
      "Then let\n"
     ]
    }
   ],
   "source": [
    "\n",
    "print(night.text[20000:20200])"
   ]
  },
  {
   "cell_type": "code",
   "execution_count": 10,
   "metadata": {},
   "outputs": [
    {
     "name": "stdout",
     "output_type": "stream",
     "text": [
      "cce0d35b8b2c4dafcbde3deb983fec0a\n"
     ]
    }
   ],
   "source": [
    "\n",
    "hash1 = hashlib.md5(night.text.encode(encode_str)).hexdigest()\n",
    "print(hash1)"
   ]
  },
  {
   "cell_type": "code",
   "execution_count": 11,
   "metadata": {},
   "outputs": [
    {
     "data": {
      "text/plain": [
       "True"
      ]
     },
     "execution_count": 11,
     "metadata": {},
     "output_type": "execute_result"
    }
   ],
   "source": [
    "\n",
    "hash2 = hashlib.md5(requests.get(url_str).text.encode(encode_str)).hexdigest()\n",
    "hash1 == hash2"
   ]
  },
  {
   "cell_type": "code",
   "execution_count": 12,
   "metadata": {},
   "outputs": [
    {
     "data": {
      "application/javascript": [
       "var kernel = IPython.notebook.kernel;\n",
       "var body = document.body,  \n",
       "    attribs = body.attributes;\n",
       "var command = \"notebook_path = \" + \"'\"+attribs['data-notebook-path'].value+\"'\";\n",
       "kernel.execute(command);\n"
      ],
      "text/plain": [
       "<IPython.core.display.Javascript object>"
      ]
     },
     "metadata": {},
     "output_type": "display_data"
    }
   ],
   "source": [
    "%%javascript\n",
    "var kernel = IPython.notebook.kernel;\n",
    "var body = document.body,  \n",
    "    attribs = body.attributes;\n",
    "var command = \"notebook_path = \" + \"'\"+attribs['data-notebook-path'].value+\"'\";\n",
    "kernel.execute(command);"
   ]
  },
  {
   "cell_type": "code",
   "execution_count": 23,
   "metadata": {},
   "outputs": [
    {
     "data": {
      "text/plain": [
       "'C:\\\\Users\\\\dev\\\\Documents\\\\repositories\\\\notebooks\\\\CompTIA Security+ Certification\\\\ipynb'"
      ]
     },
     "execution_count": 23,
     "metadata": {},
     "output_type": "execute_result"
    }
   ],
   "source": [
    "\n",
    "from urllib.parse import unquote\n",
    "import os\n",
    "\n",
    "notebook_path = r'C:\\Users\\dev\\Documents\\repositories\\{}'.format(unquote(notebook_path))\n",
    "!start %windir%\\explorer.exe \"{os.path.dirname(os.path.abspath(notebook_path))}\""
   ]
  },
  {
   "cell_type": "code",
   "execution_count": 24,
   "metadata": {},
   "outputs": [],
   "source": []
  },
  {
   "cell_type": "code",
   "execution_count": null,
   "metadata": {},
   "outputs": [],
   "source": []
  }
 ],
 "metadata": {
  "kernelspec": {
   "display_name": "Python 3",
   "language": "python",
   "name": "python3"
  },
  "language_info": {
   "codemirror_mode": {
    "name": "ipython",
    "version": 3
   },
   "file_extension": ".py",
   "mimetype": "text/x-python",
   "name": "python",
   "nbconvert_exporter": "python",
   "pygments_lexer": "ipython3",
   "version": "3.6.8"
  }
 },
 "nbformat": 4,
 "nbformat_minor": 2
}
