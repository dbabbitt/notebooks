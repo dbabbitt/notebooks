{
 "cells": [
  {
   "cell_type": "code",
   "execution_count": null,
   "metadata": {},
   "outputs": [],
   "source": [
    "\n",
    "# /Users/davebabbitt/Documents/Data Science Projects/Airline Sentiment/Airline Sentiment Solution.R\n",
    "#Install libraries\n",
    "library(caret)\n",
    "library(tm)\n",
    "library(SnowballC)\n",
    "library(Hmisc)\n",
    "library(plyr)"
   ]
  }
 ],
 "metadata": {
  "kernelspec": {
   "display_name": "R",
   "language": "R",
   "name": "ir"
  }
 },
 "nbformat": 4,
 "nbformat_minor": 2
}
