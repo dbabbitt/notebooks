{
 "cells": [
  {
   "cell_type": "raw",
   "metadata": {},
   "source": [
    "\n",
    "PS C:\\Users\\daveb> flake8-nb --ignore=E231,E303,E401,E402,E501,E701,E702 --notebook-cell-format 'In[{code_cell_count}]' \"C:\\Users\\daveb\\OneDrive\\Documents\\GitHub\\notebooks\\maintenance\\Recraft all the Hard-wrapped Comments in Share.ipynb\"\n",
    "PS C:\\Users\\daveb>"
   ]
  },
  {
   "cell_type": "code",
   "execution_count": 1,
   "metadata": {},
   "outputs": [
    {
     "name": "stdout",
     "output_type": "stream",
     "text": [
      "Pretty printing has been turned OFF\n"
     ]
    }
   ],
   "source": [
    "\n",
    "%pprint\n",
    "%matplotlib inline\n",
    "import sys\n",
    "import os.path as osp, os as os\n",
    "\n",
    "executable_path = sys.executable\n",
    "scripts_folder = osp.join(osp.dirname(executable_path), 'Scripts'); assert osp.exists(scripts_folder)\n",
    "py_folder = osp.abspath(osp.join(os.pardir, 'py')); assert osp.exists(py_folder), \"Create the py folder\"\n",
    "ffmpeg_folder = r'C:\\ffmpeg\\bin'; assert osp.exists(ffmpeg_folder)\n",
    "shared_folder = osp.abspath(osp.join(os.pardir, 'share')); assert osp.exists(shared_folder)\n",
    "\n",
    "if (scripts_folder not in sys.path): sys.path.insert(1, scripts_folder)\n",
    "if (py_folder not in sys.path): sys.path.insert(1, py_folder)\n",
    "if (ffmpeg_folder not in sys.path): sys.path.insert(1, ffmpeg_folder)\n",
    "if shared_folder not in sys.path: sys.path.insert(1, shared_folder)\n",
    "\n",
    "from notebook_utils import NotebookUtilities\n",
    "nu = NotebookUtilities(\n",
    "    data_folder_path=osp.abspath(osp.join(os.pardir, 'data')),\n",
    "    saves_folder_path=osp.abspath(osp.join(os.pardir, 'saves'))\n",
    ")\n",
    "\n",
    "# Import needed libraries\n",
    "import random"
   ]
  },
  {
   "cell_type": "code",
   "execution_count": 22,
   "metadata": {},
   "outputs": [
    {
     "name": "stdout",
     "output_type": "stream",
     "text": [
      "\n",
      "# Exclude everything except text-based OC or personal directories\n",
      "/*\n",
      "!/algorithms\n",
      "!/builders\n",
      "!/cell_techniques\n",
      "!/coin-analytics\n",
      "!/curve_fitting\n",
      "!/ipynb\n",
      "!/json\n",
      "!/library_exploration\n",
      "!/load_magic\n",
      "!/log\n",
      "!/maintenance\n",
      "!/mathematics\n",
      "!/programming_languages\n",
      "!/ps1\n",
      "!/py\n",
      "!/r_programming_language\n",
      "!/sh\n",
      "!/share\n",
      "!/statistics\n",
      "!/tests\n",
      "!/text_manipulation\n",
      "!/visualizations\n",
      "!/wheels\n"
     ]
    }
   ],
   "source": [
    "\n",
    "print_strs_list = ['']\n",
    "print_strs_list.append('# Exclude everything except text-based OC or personal directories')\n",
    "print_strs_list.append('/*')\n",
    "github_folder = osp.dirname(osp.abspath(osp.curdir))\n",
    "# print(github_folder)\n",
    "\n",
    "# Get the list of all items in the parent folder and filter in only the directories\n",
    "black_list = ['.ipynb_checkpoints', '$Recycle.Bin', '.git', 'data', 'saves', '__pycache__', 'LEET-CODE']\n",
    "for parent_directory in os.listdir(github_folder):\n",
    "    if all(map(lambda x: x not in parent_directory, black_list)) and osp.isdir(osp.join(github_folder, parent_directory)):\n",
    "        print_strs_list.append(f'!/{parent_directory}')\n",
    "print('\\n'.join(print_strs_list))"
   ]
  }
 ],
 "metadata": {
  "kernelspec": {
   "display_name": "Python 3 (ipykernel)",
   "language": "python",
   "name": "python3"
  },
  "language_info": {
   "codemirror_mode": {
    "name": "ipython",
    "version": 3
   },
   "file_extension": ".py",
   "mimetype": "text/x-python",
   "name": "python",
   "nbconvert_exporter": "python",
   "pygments_lexer": "ipython3",
   "version": "3.12.7"
  }
 },
 "nbformat": 4,
 "nbformat_minor": 4
}
