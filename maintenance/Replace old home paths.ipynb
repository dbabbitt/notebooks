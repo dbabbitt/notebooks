{
 "cells": [
  {
   "cell_type": "code",
   "execution_count": 1,
   "metadata": {},
   "outputs": [
    {
     "name": "stdout",
     "output_type": "stream",
     "text": [
      "Pretty printing has been turned OFF\n"
     ]
    }
   ],
   "source": [
    "\n",
    "%pprint\n",
    "import sys\n",
    "if (osp.join(os.pardir, 'py') not in sys.path): sys.path.insert(1, osp.join(os.pardir, 'py'))"
   ]
  },
  {
   "cell_type": "code",
   "execution_count": 2,
   "metadata": {},
   "outputs": [],
   "source": [
    "\n",
    "import os.path as osp\n",
    "shared_folder = osp.abspath(osp.join(os.pardir, 'share')); assert osp.exists(shared_folder)\n",
    "import sys\n",
    "if shared_folder not in sys.path: sys.path.insert(1, shared_folder)\n",
    "from notebook_utils import NotebookUtilities\n",
    "nu = NotebookUtilities(\n",
    "    data_folder_path=osp.abspath(osp.join(os.pardir, 'data')),\n",
    "    saves_folder_path=osp.abspath(osp.join(os.pardir, 'saves'))\n",
    ")\n",
    "\n",
    "# Import needed libraries\n",
    "from pandas import DataFrame\n",
    "import os\n",
    "import re\n",
    "from sklearn.feature_extraction.text import TfidfVectorizer"
   ]
  },
  {
   "cell_type": "code",
   "execution_count": 9,
   "metadata": {},
   "outputs": [],
   "source": [
    "\n",
    "def check_git_configs(base_dir, old_home_path):\n",
    "    \"\"\"\n",
    "    Checks all .git/config and .gitmodules files in each repository\n",
    "    within the base directory for references to old_home_path.\n",
    "    \"\"\"\n",
    "    base_dir = os.path.expanduser(base_dir)  # Expand ~ to the full home directory path\n",
    "\n",
    "    # Loop through each directory in the base directory\n",
    "    for repo in os.listdir(base_dir):\n",
    "        is_already_printed = False\n",
    "        repo_path = os.path.join(base_dir, repo)\n",
    "        git_config_path = os.path.join(repo_path, \".git\", \"config\")\n",
    "        git_modules_path = os.path.join(repo_path, \".gitmodules\")\n",
    "\n",
    "        # Check if the directory is a Git repository\n",
    "        if os.path.isdir(os.path.join(repo_path, \".git\")):\n",
    "\n",
    "            # Check .git/config for old_home_path\n",
    "            if os.path.isfile(git_config_path):\n",
    "                with open(git_config_path, \"r\") as config_file:\n",
    "                    config_lines = config_file.readlines()\n",
    "                    for line in config_lines:\n",
    "                        if old_home_path in line:\n",
    "                            if not is_already_printed:\n",
    "                                print(f\"Checking repository: {repo}\")\n",
    "                                is_already_printed = True\n",
    "                                # nu.open_path_in_notepad(git_config_path)\n",
    "                            print(f\"Found old_home_path in {git_config_path}:\")\n",
    "                            print(line.strip())\n",
    "\n",
    "            # Check .gitmodules for old_home_path\n",
    "            if os.path.isfile(git_modules_path):\n",
    "                with open(git_modules_path, \"r\") as modules_file:\n",
    "                    modules_lines = modules_file.readlines()\n",
    "                    for line in modules_lines:\n",
    "                        if old_home_path in line:\n",
    "                            if not is_already_printed:\n",
    "                                print(f\"Checking repository: {repo}\")\n",
    "                                is_already_printed = True\n",
    "                                # nu.open_path_in_notepad(git_config_path)\n",
    "                            print(f\"Found old_home_path in {git_modules_path}:\")\n",
    "                            print(line.strip())\n",
    "\n",
    "            if is_already_printed:\n",
    "                print(\"-----------------------------------\")\n",
    "\n",
    "# Example usage\n",
    "check_git_configs(osp.dirname(nu.github_folder), 'C:/Users/dev')"
   ]
  }
 ],
 "metadata": {
  "kernelspec": {
   "display_name": "Python 3 (ipykernel)",
   "language": "python",
   "name": "python3"
  },
  "language_info": {
   "codemirror_mode": {
    "name": "ipython",
    "version": 3
   },
   "file_extension": ".py",
   "mimetype": "text/x-python",
   "name": "python",
   "nbconvert_exporter": "python",
   "pygments_lexer": "ipython3",
   "version": "3.12.7"
  }
 },
 "nbformat": 4,
 "nbformat_minor": 4
}
