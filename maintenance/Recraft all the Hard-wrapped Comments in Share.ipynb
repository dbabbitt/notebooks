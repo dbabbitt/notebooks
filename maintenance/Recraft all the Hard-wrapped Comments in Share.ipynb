{
 "cells": [
  {
   "cell_type": "raw",
   "metadata": {},
   "source": [
    "\n",
    "PS C:\\Users\\daveb> flake8-nb --ignore=E231,E303,E401,E402,E501,E701,E702 --notebook-cell-format 'In[{code_cell_count}]' \"C:\\Users\\daveb\\OneDrive\\Documents\\GitHub\\notebooks\\maintenance\\Recraft all the Hard-wrapped Comments in Share.ipynb\"\n",
    "PS C:\\Users\\daveb>"
   ]
  },
  {
   "cell_type": "code",
   "execution_count": 1,
   "metadata": {},
   "outputs": [
    {
     "name": "stdout",
     "output_type": "stream",
     "text": [
      "Pretty printing has been turned OFF\n"
     ]
    }
   ],
   "source": [
    "\n",
    "%pprint\n",
    "%matplotlib inline\n",
    "import sys\n",
    "import os.path as osp, os as os\n",
    "\n",
    "executable_path = sys.executable\n",
    "scripts_folder = osp.join(osp.dirname(executable_path), 'Scripts'); assert osp.exists(scripts_folder)\n",
    "py_folder = osp.abspath(osp.join(os.pardir, 'py')); assert osp.exists(py_folder), \"Create the py folder\"\n",
    "ffmpeg_folder = r'C:\\ffmpeg\\bin'; assert osp.exists(ffmpeg_folder)\n",
    "shared_folder = osp.abspath(osp.join(os.pardir, 'share')); assert osp.exists(shared_folder)\n",
    "\n",
    "if (scripts_folder not in sys.path): sys.path.insert(1, scripts_folder)\n",
    "if (py_folder not in sys.path): sys.path.insert(1, py_folder)\n",
    "if (ffmpeg_folder not in sys.path): sys.path.insert(1, ffmpeg_folder)\n",
    "if shared_folder not in sys.path: sys.path.insert(1, shared_folder)\n",
    "\n",
    "from notebook_utils import NotebookUtilities\n",
    "nu = NotebookUtilities(\n",
    "    data_folder_path=osp.abspath(osp.join(os.pardir, 'data')),\n",
    "    saves_folder_path=osp.abspath(osp.join(os.pardir, 'saves'))\n",
    ")\n",
    "\n",
    "# Import needed libraries\n",
    "import random"
   ]
  },
  {
   "cell_type": "markdown",
   "metadata": {},
   "source": [
    "\n",
    "Use <pre>^( +)# (?!-)([^\\n]+)[\\n]\\1# (?!-)([^\\n]+)</pre> to find all the doubled comments in the <pre>*.py;</pre> files in <pre>C:\\Users\\daveb\\OneDrive\\Documents\\GitHub\\share</pre>"
   ]
  },
  {
   "cell_type": "code",
   "execution_count": 2,
   "metadata": {},
   "outputs": [
    {
     "name": "stdout",
     "output_type": "stream",
     "text": [
      "The procedure to generate a step-by-step description of how to perform a function by hand from its comments is as follows:\n",
      "    A. Ensure the function object is some kind of function or method\n",
      "    B. Attempt to retrieve the source code directly\n",
      "        1. Get the source code for the function or method\n",
      "        2. Get the docstring for the function or method\n",
      "    C. Or, fall back to finding the function in its class or module\n",
      "    D. Start with a description header (including prefix)\n",
      "    E. Extract the comments\n",
      "        1. Ignore any debug or QA statements\n",
      "    F. If there are any comments in the list\n",
      "        1. Print its procedure description and comments on their own lines\n"
     ]
    }
   ],
   "source": [
    "\n",
    "# Check out the describe_procedure function for flow\n",
    "nu.describe_procedure(nu.describe_procedure)"
   ]
  },
  {
   "cell_type": "code",
   "execution_count": 2,
   "metadata": {},
   "outputs": [
    {
     "name": "stdout",
     "output_type": "stream",
     "text": [
      "The procedure to split a list of row indices into a list of lists, where each inner list contains a contiguous sequence of indices that are not in the excluded indices list is as follows:\n",
      "    A. Initialize the output list\n",
      "    B. Initialize the current list\n",
      "    C. Iterate over the splitting indices list\n",
      "        1. Check that the current index is in the splitting indices list\n",
      "            a. Check that the current index is not in the excluded list\n",
      "                I) If so, add it to the current list\n",
      "        2. Otherwise\n",
      "            a. If the current list is not empty\n",
      "                I) Add it to the split list\n",
      "            b. And start a new current list\n",
      "    D. If the current list is not empty\n",
      "        1. Add it to the split list\n",
      "    E. Return the split list\n"
     ]
    }
   ],
   "source": [
    "\n",
    "# Check out a specific function for flow\n",
    "fn = 'nu.data_validation.split_list_by_exclusion'\n",
    "random_function = eval(fn)\n",
    "nu.describe_procedure(random_function)"
   ]
  },
  {
   "cell_type": "code",
   "execution_count": 3,
   "metadata": {},
   "outputs": [
    {
     "name": "stdout",
     "output_type": "stream",
     "text": [
      "404\n"
     ]
    },
    {
     "data": {
      "text/plain": [
       "['nu.data_analysis', 'nu.uncategorized', 'nu.data_validation', 'nu.file_operations', 'nu.data_preparation', 'nu.data_analysis.url_regex']"
      ]
     },
     "execution_count": 3,
     "metadata": {},
     "output_type": "execute_result"
    }
   ],
   "source": [
    "\n",
    "# Get all the modules accessible in notebook_utils\n",
    "module_name = 'nu'\n",
    "import_call = '''\n",
    "from notebook_utils import NotebookUtilities\n",
    "nu = NotebookUtilities(\n",
    "    data_folder_path=osp.abspath(osp.join(os.pardir, 'data')),\n",
    "    saves_folder_path=osp.abspath(osp.join(os.pardir, 'saves'))\n",
    ")'''\n",
    "nu_functions = nu.get_dir_tree(\n",
    "    module_name, function_calls=[], contains_str=None,\n",
    "    import_call=import_call, recurse_modules=True, level=3,\n",
    "    verbose=False\n",
    ")\n",
    "print(len(nu_functions))\n",
    "sorted(nu_functions, key=lambda x: len(x))[:6]"
   ]
  },
  {
   "cell_type": "code",
   "execution_count": 4,
   "metadata": {},
   "outputs": [
    {
     "name": "stdout",
     "output_type": "stream",
     "text": [
      "371\n",
      "['nu.uncategorized.get_shape', 'nu.file_operations.load_csv', 'nu.file_operations.csv_exists', 'nu.uncategorized.count_ngrams', 'nu.uncategorized.get_alphabet', 'nu.data_analysis.url_regex.sub']\n"
     ]
    }
   ],
   "source": [
    "\n",
    "# Filter nu functions to just those that are callable\n",
    "callables = []\n",
    "for fn in nu_functions:\n",
    "    try:\n",
    "        if callable(eval(fn)):\n",
    "            callables.append(fn)\n",
    "    except AttributeError:\n",
    "        continue\n",
    "print(len(callables))\n",
    "print(sorted(callables, key=lambda x: len(x))[:6])"
   ]
  },
  {
   "cell_type": "code",
   "execution_count": 5,
   "metadata": {},
   "outputs": [
    {
     "name": "stdout",
     "output_type": "stream",
     "text": [
      "nu.data_validation.lower_ascii_regex.search\n",
      "nu.file_operations.lower_ascii_regex.findall\n",
      "nu.uncategorized.plot_grouped_pie_chart\n",
      "The procedure to create a grouped pie chart to visualize the distribution of values in a dataframe column is as follows:\n",
      "    A. Filter for non-null values in the specified column\n",
      "    B. Count the occurrences of each unique value\n",
      "    C. Determine the cutoff for grouping smaller slices\n",
      "    D. Group values below cutoff and create a new slice for them\n",
      "    E. Sum the values below the cutoff\n",
      "    F. Add the grouped slice to the counts\n",
      "    G. Set the figure size\n",
      "    H. Plot the pie chart\n",
      "    I. Set the title of the chart\n",
      "    J. Return the matplotlib figure object\n"
     ]
    }
   ],
   "source": [
    "\n",
    "# Find a random function that can be described to spot-check for bad flow\n",
    "while True:\n",
    "    try:\n",
    "        fn = random.choice(callables)\n",
    "        random_function = eval(fn)\n",
    "        print(fn)\n",
    "        nu.describe_procedure(random_function)\n",
    "        break\n",
    "    except (TypeError, AttributeError):\n",
    "        pass"
   ]
  }
 ],
 "metadata": {
  "kernelspec": {
   "display_name": "Python 3 (ipykernel)",
   "language": "python",
   "name": "python3"
  },
  "language_info": {
   "codemirror_mode": {
    "name": "ipython",
    "version": 3
   },
   "file_extension": ".py",
   "mimetype": "text/x-python",
   "name": "python",
   "nbconvert_exporter": "python",
   "pygments_lexer": "ipython3",
   "version": "3.12.7"
  }
 },
 "nbformat": 4,
 "nbformat_minor": 4
}
