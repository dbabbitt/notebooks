{
 "cells": [
  {
   "cell_type": "code",
   "execution_count": 1,
   "id": "a2cc314f-2469-4e66-a7bc-27df89df39f4",
   "metadata": {},
   "outputs": [
    {
     "name": "stdout",
     "output_type": "stream",
     "text": [
      "Pretty printing has been turned OFF\n"
     ]
    }
   ],
   "source": [
    "\n",
    "%pprint"
   ]
  },
  {
   "cell_type": "code",
   "execution_count": 2,
   "id": "7ed9c10a-c357-439b-9837-afba60287d6e",
   "metadata": {},
   "outputs": [],
   "source": [
    "\n",
    "from importlib.util import find_spec\n",
    "import sys\n",
    "\n",
    "if find_spec('storage') is None:\n",
    "    if (osp.join('..', 'py') not in sys.path): sys.path.insert(1, osp.join('..', 'py'))\n",
    "from collections import Counter\n",
    "from storage import Storage\n",
    "from pandas import DataFrame\n",
    "from pathlib import Path\n",
    "from sklearn.preprocessing import LabelEncoder, MinMaxScaler\n",
    "import csv\n",
    "import networkx as nx\n",
    "import numpy as np\n",
    "import os\n",
    "import pandas as pd\n",
    "import re\n",
    "import warnings\n",
    "\n",
    "s = Storage()\n",
    "warnings.filterwarnings('ignore')  # silence warnings"
   ]
  },
  {
   "cell_type": "code",
   "execution_count": 5,
   "id": "dda19eab-53d1-4fa8-8c0b-d1eb5b7a6763",
   "metadata": {},
   "outputs": [
    {
     "name": "stdout",
     "output_type": "stream",
     "text": [
      "C:\\Users\\daveb\\OneDrive\\Documents\\GitHub\\notebooks\\data\\svg\\scratchpad.svg\n"
     ]
    },
    {
     "data": {
      "text/plain": [
       "Series([], dtype: float64)"
      ]
     },
     "execution_count": 5,
     "metadata": {},
     "output_type": "execute_result"
    }
   ],
   "source": [
    "\n",
    "# Get the maximum element styles list (largest list of styles that appears in a single style tag) and add it to the css\n",
    "file_path = os.path.join(s.data_folder, 'svg', 'scratchpad.svg')\n",
    "print(os.path.abspath(file_path))\n",
    "with open(file_path, 'r', encoding=s.encoding_type) as f:\n",
    "    svg_str = f.read()\n",
    "style_regex = re.compile(r'\\bstyle=\"([^\"]+)\"')\n",
    "styles_lists_array = [[x.strip() for x in styles_list.split(';') if x.strip()] for styles_list in style_regex.findall(svg_str)]\n",
    "vocabulary_set = set()\n",
    "for sublist in styles_lists_array: vocabulary_set.update(sublist)\n",
    "bag_of_words = [dict(Counter(sublist)) for sublist in styles_lists_array]\n",
    "for i, sublist in enumerate(bag_of_words):\n",
    "    bag_of_words[i] = {word: sublist.get(word, 0) for word in vocabulary_set}\n",
    "DataFrame(bag_of_words).sum().sort_values(ascending=False).head(20)"
   ]
  },
  {
   "cell_type": "code",
   "execution_count": 21,
   "id": "f80dcef5-d412-4a21-8482-27aa63bc21fc",
   "metadata": {},
   "outputs": [
    {
     "name": "stdout",
     "output_type": "stream",
     "text": [
      "\n",
      "        .style0 {\n",
      "            overflow: visible;\n",
      "        }\n",
      "\n",
      "        .style1 {\n",
      "            color-interpolation-filters: sRGB;\n",
      "        }\n",
      "\n",
      "        .style2 {\n",
      "            display: none;\n",
      "        }\n",
      "\n",
      "        .style3 {\n",
      "            display: inline;\n",
      "        }\n",
      "\n",
      "        .style4 {\n",
      "            display: inline;\n",
      "        }\n"
     ]
    }
   ],
   "source": [
    "\n",
    "style_delimiter = ''';\n",
    "            '''\n",
    "for i, styles_list in enumerate(sorted(styles_lists_array, key=lambda x: len(x), reverse=True)):\n",
    "    print(f'''\n",
    "        .style{i} {{\n",
    "            {style_delimiter.join(sorted([x.replace(':', ': ') for x in styles_list]))};\n",
    "        }}''')"
   ]
  },
  {
   "cell_type": "code",
   "execution_count": 54,
   "id": "13c7d892-ccea-4757-8f74-ae6deb6d5f21",
   "metadata": {},
   "outputs": [],
   "source": [
    "\n",
    "max_sublist = DataFrame(bag_of_words).sum().sort_values(ascending=False).head(6).index.tolist()\n",
    "style_delimiter = ''';\n",
    "             '''\n",
    "search_str = '''\n",
    "      </style>'''\n",
    "replace_str = f'''\n",
    "          .black-stroke {{\n",
    "             {style_delimiter.join(sorted([x.replace(':', ': ') for x in max_sublist]))};\n",
    "          }}{search_str}'''\n",
    "svg_str = re.sub(search_str, replace_str, svg_str)\n",
    "with open(file_path, 'w', encoding=s.encoding_type) as f:\n",
    "    print(svg_str, file=f)"
   ]
  },
  {
   "cell_type": "code",
   "execution_count": 75,
   "id": "167a57cc-f356-46b8-9c1b-fd9d01af4b9d",
   "metadata": {},
   "outputs": [
    {
     "name": "stdout",
     "output_type": "stream",
     "text": [
      "style=\"([^\"]*)(stroke:#000000|stroke-linecap:butt|stroke-linejoin:miter|stroke-opacity:1|stroke-miterlimit:4|stroke-dashoffset:0);?([^\"]*)\"\n"
     ]
    }
   ],
   "source": [
    "\n",
    "compile_list = '|'.join(max_sublist)\n",
    "regex_str = f'''style=\"([^\"]*)({compile_list});?([^\"]*)\"'''\n",
    "print(regex_str)\n",
    "style_regex = re.compile(regex_str)"
   ]
  },
  {
   "cell_type": "markdown",
   "id": "bc8ec691-79c5-4ff8-91fd-1cc5d8b274df",
   "metadata": {},
   "source": [
    "\n",
    "----"
   ]
  },
  {
   "cell_type": "code",
   "execution_count": 3,
   "id": "6f8ebdc2-291e-4f0c-a0be-895702837fbb",
   "metadata": {},
   "outputs": [],
   "source": [
    "\n",
    "# Clean up the contact list to minimize double quotes\n",
    "csv_name = 'itm_kick-off_meeting_attendee_contact_list'\n",
    "if not s.csv_exists(csv_name=csv_name, folder_path=s.saves_csv_folder, verbose=False):\n",
    "    contact_list_df = s.load_csv(csv_name)\n",
    "    mask_series = (contact_list_df.last_name == 'Picucci')\n",
    "    contact_list_df.loc[mask_series, 'first_name'] = 'PM \"Pooch\"'\n",
    "    s.save_dataframes(**{csv_name: contact_list_df})"
   ]
  },
  {
   "cell_type": "markdown",
   "id": "c123ac96-e8ea-45cd-9751-25f4e0e41b77",
   "metadata": {},
   "source": [
    "\n",
    "## Structure from Domain Knowledge\n",
    "### We can manually define a structure model by specifying the relationships between different features."
   ]
  },
  {
   "cell_type": "code",
   "execution_count": 3,
   "id": "6e32be01-b94c-4e35-94d5-0be9263794ca",
   "metadata": {},
   "outputs": [],
   "source": [
    "\n",
    "def get_structure_plot(sm, file_path):\n",
    "    os.makedirs(name=os.path.dirname(file_path), exist_ok=True)\n",
    "    Path(file_path).touch()\n",
    "    viz = plot_structure(\n",
    "        sm,\n",
    "        all_node_attributes=NODE_STYLE.WEAK,\n",
    "        all_edge_attributes=EDGE_STYLE.WEAK,\n",
    "    )\n",
    "    \n",
    "    return viz"
   ]
  },
  {
   "cell_type": "code",
   "execution_count": 4,
   "id": "d83ce346-3bcb-4f08-9e60-1a1fcd0992c9",
   "metadata": {},
   "outputs": [],
   "source": [
    "\n",
    "# s.ensure_module_installed('networkx --force-reinstall', upgrade=True, verbose=False)\n",
    "# s.ensure_module_installed('pygraphviz', upgrade=False, verbose=True)\n",
    "s.ensure_module_installed('causalnex', upgrade=False, verbose=False)\n",
    "from causalnex.plots import plot_structure, NODE_STYLE, EDGE_STYLE\n",
    "from causalnex.structure import StructureModel\n",
    "from causalnex.structure.notears import from_pandas\n",
    "\n",
    "# First, we must create an empty structure model\n",
    "sm = StructureModel()"
   ]
  },
  {
   "cell_type": "markdown",
   "id": "6ad552c5-f378-49f1-84d7-f148d8f72f7a",
   "metadata": {},
   "source": [
    "\n",
    "<p>Next, we can specify the relationships between features:</p>\n",
    "<img src=\"../saves/png/FAITH-MD_Evaluation_infrastructure.png\" />"
   ]
  },
  {
   "cell_type": "code",
   "execution_count": 7,
   "id": "d195749a-d930-4903-8074-63d751ba3e26",
   "metadata": {},
   "outputs": [],
   "source": [
    "\n",
    "# We can add these relationships into our structure model:\n",
    "sm.add_edges_from([\n",
    "    ('pas', 'sg'),\n",
    "    ('adm', 'al'),\n",
    "    ('al', 'adm'),\n",
    "    ('sg', 'al'),\n",
    "    ('sg', 'cp'),\n",
    "    ('hdm', 'sg'),\n",
    "    ('rd', 'hdm'),\n",
    "    ('cp', 'rd'),\n",
    "    ('rd', 'aa'),\n",
    "    ('rd', 'adm'),\n",
    "    ('aa', 'adm')\n",
    "])"
   ]
  },
  {
   "cell_type": "markdown",
   "id": "a97972b4-aac9-4f7f-bc25-4f93723c5e4f",
   "metadata": {},
   "source": [
    "\n",
    "<h3>Visualising the Structure</h3>\n",
    "<p>We can examine a StructureModel by looking at the output of <code class=\"docutils literal notranslate\"><span class=\"pre\">sm.edges</span></code></p>"
   ]
  },
  {
   "cell_type": "code",
   "execution_count": 8,
   "id": "dee5d657-ac37-4212-a306-aeaf98dc3d51",
   "metadata": {},
   "outputs": [
    {
     "data": {
      "text/plain": [
       "OutEdgeView([('pas', 'sg'), ('sg', 'al'), ('sg', 'cp'), ('adm', 'al'), ('al', 'adm'), ('cp', 'rd'), ('hdm', 'sg'), ('rd', 'hdm'), ('rd', 'aa'), ('rd', 'adm'), ('aa', 'adm')])"
      ]
     },
     "execution_count": 8,
     "metadata": {},
     "output_type": "execute_result"
    }
   ],
   "source": [
    "\n",
    "sm.edges"
   ]
  },
  {
   "cell_type": "markdown",
   "id": "236d6d50-8b91-4c4c-81d0-7623d5fc9d9e",
   "metadata": {},
   "source": [
    "\n",
    "<p>but it can often be more intuitive to visualise it. CausalNex provides a plotting module that allows us to do this.</p>"
   ]
  },
  {
   "cell_type": "code",
   "execution_count": 9,
   "id": "f63d21c1-1ccd-4120-9849-5ed8cbce70f6",
   "metadata": {},
   "outputs": [
    {
     "name": "stdout",
     "output_type": "stream",
     "text": [
      "../saves/html/01_simple_plot.html\n"
     ]
    },
    {
     "data": {
      "text/html": [
       "\n",
       "        <iframe\n",
       "            width=\"100%\"\n",
       "            height=\"600px\"\n",
       "            src=\"../saves/html/01_simple_plot.html\"\n",
       "            frameborder=\"0\"\n",
       "            allowfullscreen\n",
       "            \n",
       "        ></iframe>\n",
       "        "
      ],
      "text/plain": [
       "<IPython.lib.display.IFrame object at 0x000001FD3BA4EFB0>"
      ]
     },
     "execution_count": 9,
     "metadata": {},
     "output_type": "execute_result"
    }
   ],
   "source": [
    "\n",
    "file_path = '../saves/html/01_simple_plot.html'\n",
    "viz = get_structure_plot(sm, file_path)\n",
    "viz.show(file_path)"
   ]
  }
 ],
 "metadata": {
  "kernelspec": {
   "display_name": "Python 3 (ipykernel)",
   "language": "python",
   "name": "python3"
  },
  "language_info": {
   "codemirror_mode": {
    "name": "ipython",
    "version": 3
   },
   "file_extension": ".py",
   "mimetype": "text/x-python",
   "name": "python",
   "nbconvert_exporter": "python",
   "pygments_lexer": "ipython3",
   "version": "3.9.16"
  }
 },
 "nbformat": 4,
 "nbformat_minor": 5
}
