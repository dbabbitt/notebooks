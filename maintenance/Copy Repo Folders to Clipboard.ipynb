{
 "cells": [
  {
   "cell_type": "code",
   "execution_count": null,
   "metadata": {},
   "outputs": [],
   "source": [
    "\n",
    "%pprint\n",
    "import sys\n",
    "import os.path as osp\n",
    "if (osp.join(os.pardir, 'py') not in sys.path): sys.path.insert(1, osp.join(os.pardir, 'py'))\n",
    "\n",
    "shared_folder = osp.abspath(osp.join(os.pardir, 'share')); assert osp.exists(shared_folder)\n",
    "if shared_folder not in sys.path: sys.path.insert(1, shared_folder)\n",
    "\n",
    "from notebook_utils import NotebookUtilities\n",
    "nu = NotebookUtilities(\n",
    "    data_folder_path=osp.abspath(osp.join(os.pardir, 'data')),\n",
    "    saves_folder_path=osp.abspath(osp.join(os.pardir, 'saves'))\n",
    ")\n",
    "\n",
    "# Import needed libraries\n",
    "import subprocess\n",
    "import os\n",
    "import pyperclip"
   ]
  },
  {
   "cell_type": "code",
   "execution_count": null,
   "metadata": {},
   "outputs": [],
   "source": [
    "\n",
    "def check_push_rights_to_repos(github_folder):\n",
    "    \"\"\"\n",
    "    Checks if the current user has push rights to all repositories in a specified GitHub folder.\n",
    "\n",
    "    Args:\n",
    "        github_folder (str): The path to the folder containing Git repositories.\n",
    "\n",
    "    Returns:\n",
    "        dict: A dictionary where the keys are repository names and the values are booleans\n",
    "              indicating whether the user has push rights (True) or not (False).\n",
    "    \"\"\"\n",
    "    if not os.path.isdir(github_folder):\n",
    "        raise ValueError(\"The specified path is not a valid directory.\")\n",
    "    \n",
    "    push_rights = {}\n",
    "    \n",
    "    # List all subdirectories in the GitHub folder\n",
    "    for repo_name in os.listdir(github_folder):\n",
    "        repo_path = os.path.join(github_folder, repo_name)\n",
    "        \n",
    "        # Check if the subdirectory is a Git repository\n",
    "        if os.path.isdir(repo_path) and os.path.isdir(os.path.join(repo_path, '.git')):\n",
    "            try:\n",
    "                # Use subprocess to check push access\n",
    "                result = subprocess.run(\n",
    "                    [\"git\", \"-C\", repo_path, \"push\", \"--dry-run\"],\n",
    "                    stdout=subprocess.PIPE,\n",
    "                    stderr=subprocess.PIPE,\n",
    "                    text=True\n",
    "                )\n",
    "                \n",
    "                # If there's no error in the dry-run, the user has push access\n",
    "                if result.returncode == 0:\n",
    "                    push_rights[repo_name] = True\n",
    "                else:\n",
    "                    push_rights[repo_name] = False\n",
    "            except Exception as e:\n",
    "                # Handle unexpected errors during the subprocess call\n",
    "                push_rights[repo_name] = False\n",
    "        else:\n",
    "            # If it's not a Git repository, skip it\n",
    "            push_rights[repo_name] = False\n",
    "    \n",
    "    return push_rights"
   ]
  },
  {
   "cell_type": "code",
   "execution_count": null,
   "metadata": {},
   "outputs": [],
   "source": [
    "\n",
    "# In RegexBuddy, place *.ipynb; in the \"File masks:\" field, for example, and paste this in the \"Folders:\" field\n",
    "push_rights = check_push_rights_to_repos(os.path.dirname(nu.github_folder))\n",
    "pyperclip.copy('\"' + '\", \"'.join([\n",
    "    f'C:\\\\Users\\\\daveb\\\\OneDrive\\\\Documents\\\\GitHub\\\\{repo_folder}' for repo_folder, is_pushable in push_rights.items() if is_pushable\n",
    "]) + '\"')"
   ]
  }
 ],
 "metadata": {
  "kernelspec": {
   "display_name": "Python 3 (ipykernel)",
   "language": "python",
   "name": "python3"
  },
  "language_info": {
   "codemirror_mode": {
    "name": "ipython",
    "version": 3
   },
   "file_extension": ".py",
   "mimetype": "text/x-python",
   "name": "python",
   "nbconvert_exporter": "python",
   "pygments_lexer": "ipython3",
   "version": "3.12.7"
  }
 },
 "nbformat": 4,
 "nbformat_minor": 4
}
