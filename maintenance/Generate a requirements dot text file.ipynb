{
 "cells": [
  {
   "cell_type": "raw",
   "metadata": {},
   "source": [
    "\n",
    "PS C:\\Users\\daveb> flake8-nb --notebook-cell-format 'In[{code_cell_count}]' --ignore=E231,E303,E401,E402,E501,E701,E702,W293 \"C:\\Users\\daveb\\OneDrive\\Documents\\GitHub\\notebooks\\maintenance\\Generate a requirements dot text file.ipynb\"\n",
    "PS C:\\Users\\daveb>"
   ]
  },
  {
   "cell_type": "code",
   "execution_count": 1,
   "metadata": {},
   "outputs": [
    {
     "name": "stdout",
     "output_type": "stream",
     "text": [
      "Pretty printing has been turned OFF\n"
     ]
    }
   ],
   "source": [
    "\n",
    "%pprint\n",
    "%matplotlib inline\n",
    "import sys\n",
    "import os.path as osp, os as os\n",
    "\n",
    "executable_path = sys.executable\n",
    "scripts_folder = osp.join(osp.dirname(executable_path), 'Scripts'); assert osp.exists(scripts_folder)\n",
    "py_folder = osp.abspath(osp.join(os.pardir, 'py')); assert osp.exists(py_folder), \"Create the py folder\"\n",
    "ffmpeg_folder = r'C:\\ffmpeg\\bin'; assert osp.exists(ffmpeg_folder)\n",
    "shared_folder = osp.abspath(osp.join(os.pardir, 'share')); assert osp.exists(shared_folder)\n",
    "\n",
    "if (scripts_folder not in sys.path): sys.path.insert(1, scripts_folder)\n",
    "if (py_folder not in sys.path): sys.path.insert(1, py_folder)\n",
    "if (ffmpeg_folder not in sys.path): sys.path.insert(1, ffmpeg_folder)\n",
    "if shared_folder not in sys.path: sys.path.insert(1, shared_folder)\n",
    "\n",
    "from notebook_utils import NotebookUtilities\n",
    "nu = NotebookUtilities(\n",
    "    data_folder_path=osp.abspath(osp.join(os.pardir, 'data')),\n",
    "    saves_folder_path=osp.abspath(osp.join(os.pardir, 'saves'))\n",
    ")\n",
    "\n",
    "# Import needed libraries\n",
    "import ast"
   ]
  },
  {
   "cell_type": "code",
   "execution_count": 2,
   "metadata": {},
   "outputs": [
    {
     "data": {
      "text/plain": [
       "['aiobotocore', 'aiohappyeyeballs', 'aiohttp', 'aioitertools', 'aiosignal', 'alabaster', 'altair', 'anaconda-anon-usage', 'anaconda-catalogs', 'anaconda-client', 'anaconda-cloud-auth', 'anaconda-navigator', 'anaconda-project', 'annotated-types', 'anyio', 'appdirs', 'archspec', 'argon2-cffi', 'argon2-cffi-bindings', 'arro3-core', 'arrow', 'asgiref', 'astroid', 'astropy', 'astropy-iers-data', 'asttokens', 'async-lru', 'atomicwrites', 'attrs', 'Automat', 'autopep8', 'Babel', 'backoff', 'bcrypt', 'beautifulsoup4', 'binaryornot', 'black', 'bleach', 'blinker', 'bokeh', 'boltons', 'botocore', 'Bottleneck', 'Brotli', 'build', 'cachetools', 'certifi', 'cffi', 'chardet', 'charset-normalizer', 'chroma-hnswlib', 'chromadb', 'click', 'cloudpickle', 'colorama', 'colorcet', 'coloredlogs', 'colour-science', 'comm', 'comtypes', 'conda', 'conda-build', 'conda-content-trust', 'conda_index', 'conda-libmamba-solver', 'conda-pack', 'conda-package-handling', 'conda_package_streaming', 'conda-repo-cli', 'conda-token', 'constantly', 'contourpy', 'cookiecutter', 'cryptography', 'cssselect', 'cycler', 'cytoolz', 'dask', 'dask-expr', 'datashader', 'debugpy', 'decorator', 'defusedxml', 'Deprecated', 'diff-match-patch', 'dill', 'distributed', 'distro', 'docstring-to-markdown', 'docutils', 'durationpy', 'et-xmlfile', 'executing', 'fastapi', 'fastjsonschema', 'filelock', 'flake8', 'flake8-nb', 'Flask', 'flatbuffers', 'fonttools', 'fqdn', 'frozendict', 'frozenlist', 'fsspec', 'gensim', 'gitdb', 'GitPython', 'google-auth', 'googleapis-common-protos', 'greenlet', 'grpcio', 'h11', 'h5py', 'HeapDict', 'holoviews', 'httpcore', 'httptools', 'httpx', 'huggingface-hub', 'humanfriendly', 'humanize', 'hvplot', 'hyperlink', 'idna', 'imagecodecs', 'imageio', 'imageio-ffmpeg', 'imagesize', 'imbalanced-learn', 'importlib-metadata', 'importlib_resources', 'incremental', 'inflection', 'iniconfig', 'intake', 'intervaltree', 'ipykernel', 'ipython', 'ipython-genutils', 'ipywidgets', 'isoduration', 'isort', 'itemadapter', 'itemloaders', 'itsdangerous', 'jaraco.classes', 'jedi', 'jellyfish', 'Jinja2', 'jmespath', 'joblib', 'json5', 'jsonpatch', 'jsonpointer', 'jsonschema', 'jsonschema-specifications', 'jupyter', 'jupyter_client', 'jupyter-console', 'jupyter_core', 'jupyter-events', 'jupyter-lsp', 'jupyter_server', 'jupyter_server_terminals', 'jupyterlab', 'jupyterlab-pygments', 'jupyterlab_server', 'jupyterlab-widgets', 'keyring', 'kiwisolver', 'kubernetes', 'lazy_loader', 'lazy-object-proxy', 'lckr_jupyterlab_variableinspector', 'libarchive-c', 'libmambapy', 'linkify-it-py', 'llvmlite', 'lmdb', 'locket', 'lxml', 'lz4', 'Markdown', 'markdown-it-py', 'MarkupSafe', 'matplotlib', 'matplotlib-inline', 'mccabe', 'mdit-py-plugins', 'mdurl', 'menuinst', 'mistune', 'mkl_fft', 'mkl_random', 'mkl-service', 'mmh3', 'monotonic', 'more-itertools', 'moviepy', 'mpmath', 'msgpack', 'multidict', 'multipledispatch', 'mypy', 'mypy-extensions', 'narwhals', 'navigator-updater', 'nbclient', 'nbconvert', 'nbformat', 'nest-asyncio', 'networkx', 'nltk', 'notebook', 'notebook_shim', 'numba', 'numexpr', 'numpy', 'numpydoc', 'oauthlib', 'onnxruntime', 'opencv-python', 'openpyxl', 'opentelemetry-api', 'opentelemetry-exporter-otlp-proto-common', 'opentelemetry-exporter-otlp-proto-grpc', 'opentelemetry-instrumentation', 'opentelemetry-instrumentation-asgi', 'opentelemetry-instrumentation-fastapi', 'opentelemetry-proto', 'opentelemetry-sdk', 'opentelemetry-semantic-conventions', 'opentelemetry-util-http', 'orjson', 'osis-book-tools', 'outcome', 'overrides', 'packaging', 'pandas', 'pandocfilters', 'panel', 'param', 'paramiko', 'parsel', 'parso', 'partd', 'pathspec', 'patsy', 'pexpect', 'pickleshare', 'pillow', 'pip', 'pkce', 'pkginfo', 'platformdirs', 'plotly', 'pluggy', 'ply', 'posthog', 'proglog', 'prometheus-client', 'prompt-toolkit', 'Protego', 'protobuf', 'psutil', 'ptyprocess', 'pure-eval', 'py-cpuinfo', 'pyarrow', 'pyasn1', 'pyasn1-modules', 'pycodestyle', 'pycosat', 'pycparser', 'pyct', 'pycurl', 'pydantic', 'pydantic_core', 'pydeck', 'PyDispatcher', 'pydocstyle', 'pyerfa', 'pyflakes', 'Pygments', 'PyJWT', 'pylint', 'pylint-venv', 'pyls-spyder', 'PyNaCl', 'pyodbc', 'pyOpenSSL', 'pyparsing', 'pyperclip', 'pyphen', 'PyPika', 'pypiwin32', 'pyproject_hooks', 'PyQt5', 'PyQt5-sip', 'PyQtWebEngine', 'pyreadline3', 'pysan', 'PySocks', 'pysword', 'pytest', 'python-dateutil', 'python-dotenv', 'python-json-logger', 'python-louvain', 'python-lsp-black', 'python-lsp-jsonrpc', 'python-lsp-server', 'python-slugify', 'pytoolconfig', 'pyttsx3', 'pytz', 'pyviz_comms', 'PyWavelets', 'pywin32', 'pywin32-ctypes', 'pywinpty', 'PyYAML', 'pyzmq', 'QDarkStyle', 'qstylizer', 'QtAwesome', 'qtconsole', 'QtPy', 'queuelib', 'referencing', 'regex', 'requests', 'requests-file', 'requests-oauthlib', 'requests-toolbelt', 'rfc3339-validator', 'rfc3986-validator', 'rich', 'roman', 'rope', 'rpds-py', 'rsa', 'Rtree', 'ruamel.yaml', 'ruamel.yaml.clib', 'ruamel-yaml-conda', 's3fs', 'scikit-image', 'scikit-learn', 'scipy', 'Scrapy', 'seaborn', 'selenium', 'semver', 'Send2Trash', 'service-identity', 'setuptools', 'shellingham', 'sip', 'six', 'smart-open', 'smmap', 'sniffio', 'snowballstemmer', 'sortedcontainers', 'soupsieve', 'Sphinx', 'sphinxcontrib-applehelp', 'sphinxcontrib-devhelp', 'sphinxcontrib-htmlhelp', 'sphinxcontrib-jsmath', 'sphinxcontrib-qthelp', 'sphinxcontrib-serializinghtml', 'spyder', 'spyder-kernels', 'SQLAlchemy', 'stack-data', 'starlette', 'statsmodels', 'streamlit', 'sympy', 'tables', 'tabulate', 'tblib', 'tenacity', 'terminado', 'text-unidecode', 'textdistance', 'threadpoolctl', 'three-merge', 'tifffile', 'tinycss2', 'tldextract', 'tokenizers', 'toml', 'tomli', 'tomlkit', 'toolz', 'tornado', 'tqdm', 'traitlets', 'trio', 'trio-websocket', 'truststore', 'Twisted', 'twisted-iocpsupport', 'typer', 'typing_extensions', 'tzdata', 'uc-micro-py', 'ujson', 'unicodedata2', 'Unidecode', 'uri-template', 'urllib3', 'uvicorn', 'vega-datasets', 'vegafusion', 'vl-convert-python', 'w3lib', 'watchdog', 'watchfiles', 'wcwidth', 'webcolors', 'webencodings', 'websocket-client', 'websockets', 'Werkzeug', 'whatthepatch', 'wheel', 'widgetsnbextension', 'win-inet-pton', 'wrapt', 'wsproto', 'xarray', 'xlwings', 'xyzservices', 'yapf', 'yarl', 'zict', 'zipp', 'zope.interface', 'zstandard']"
      ]
     },
     "execution_count": 2,
     "metadata": {},
     "output_type": "execute_result"
    }
   ],
   "source": [
    "\n",
    "nu.update_modules_list(modules_list=None, verbose=False)\n",
    "nu.modules_list"
   ]
  },
  {
   "cell_type": "code",
   "execution_count": 3,
   "metadata": {},
   "outputs": [
    {
     "name": "stdout",
     "output_type": "stream",
     "text": [
      "['__future__', '__hello__', '__phello__', '_abc', '_aix_support', '_ast', '_bisect', '_blake2', '_codecs', '_codecs_cn', '_codecs_hk', '_codecs_iso2022', '_codecs_jp', '_codecs_kr', '_codecs_tw', '_collections', '_collections_abc', '_compat_pickle', '_compression', '_contextvars', '_csv', '_datetime', '_functools', '_heapq', '_imp', '_io', '_json', '_locale', '_lsprof', '_markupbase', '_md5', '_multibytecodec', '_nsis', '_opcode', '_operator', '_osx_support', '_pickle', '_py_abc', '_pydatetime', '_pydecimal', '_pyio', '_pylong', '_random', '_sha1', '_sha2', '_sha3', '_signal', '_sitebuiltins', '_sre', '_stat', '_statistics', '_string', '_strptime', '_struct', '_symtable', '_system_path', '_thread', '_threading_local', '_tokenize', '_tracemalloc', '_typing', '_warnings', '_weakref', '_weakrefset', '_winapi', '_xxinterpchannels', '_xxsubinterpreters', 'abc', 'aifc', 'antigravity', 'argparse', 'array', 'ast', 'asyncio', 'atexit', 'audioop', 'base64', 'base_config', 'bdb', 'binascii', 'bisect', 'builtins', 'bz2', 'cProfile', 'calendar', 'cgi', 'cgitb', 'chunk', 'cmath', 'cmd', 'code', 'codecs', 'codeop', 'collections', 'colorsys', 'compileall', 'concurrent', 'configparser', 'contextlib', 'contextvars', 'copy', 'copyreg', 'crypt', 'csv', 'ctypes', 'curses', 'data_analysis', 'data_preparation', 'data_validation', 'dataclasses', 'datetime', 'dbm', 'decimal', 'difflib', 'dis', 'doctest', 'email', 'encodings', 'ensurepip', 'enum', 'errno', 'faulthandler', 'file_operations', 'filecmp', 'fileinput', 'fnmatch', 'fractions', 'ftplib', 'functools', 'gc', 'genericpath', 'getopt', 'getpass', 'gettext', 'glob', 'graphlib', 'gzip', 'hashlib', 'heapq', 'hmac', 'html', 'http', 'idlelib', 'imaplib', 'imghdr', 'importlib', 'inspect', 'io', 'ipaddress', 'itertools', 'json', 'keyword', 'lib2to3', 'linecache', 'locale', 'logging', 'lzma', 'mailbox', 'mailcap', 'marshal', 'math', 'mimetypes', 'mmap', 'modulefinder', 'msilib', 'msvcrt', 'multiprocessing', 'netrc', 'nntplib', 'notebook_utils', 'notebook_utils_old', 'nt', 'ntpath', 'nturl2path', 'numbers', 'opcode', 'operator', 'optparse', 'os', 'pathlib', 'pdb', 'pickle', 'pickletools', 'pipes', 'pkgutil', 'platform', 'plistlib', 'poplib', 'posixpath', 'pprint', 'profile', 'pstats', 'pty', 'py_compile', 'pyclbr', 'pydoc', 'pydoc_data', 'queue', 'quopri', 'random', 're', 'reprlib', 'rlcompleter', 'runpy', 'sched', 'secrets', 'selectors', 'shelve', 'shlex', 'shutil', 'signal', 'site', 'smtplib', 'sndhdr', 'socket', 'socketserver', 'sqlite3', 'sre_compile', 'sre_constants', 'sre_parse', 'ssl', 'stat', 'statistics', 'string', 'stringprep', 'struct', 'subprocess', 'sunau', 'symtable', 'sys', 'sysconfig', 'tabnanny', 'tarfile', 'telnetlib', 'tempfile', 'test', 'textwrap', 'this', 'threading', 'time', 'timeit', 'tkinter', 'token', 'tokenize', 'tomllib', 'trace', 'traceback', 'tracemalloc', 'tty', 'turtle', 'turtledemo', 'types', 'typing', 'uncategorized', 'unittest', 'urllib', 'uu', 'uuid', 'venv', 'warnings', 'wave', 'weakref', 'webbrowser', 'winreg', 'wsgiref', 'xdrlib', 'xml', 'xmlrpc', 'xxsubtype', 'zipapp', 'zipfile', 'zipimport', 'zlib', 'zoneinfo']\n"
     ]
    }
   ],
   "source": [
    "\n",
    "import pkgutil\n",
    "\n",
    "# Get built-in module names\n",
    "built_in_modules = set(sys.builtin_module_names)\n",
    "\n",
    "# Get pure Python modules from the standard library\n",
    "std_lib_path = os.path.dirname(os.__file__)\n",
    "std_lib_modules = set([\n",
    "    module_info.name\n",
    "    for module_info in pkgutil.iter_modules([std_lib_path, shared_folder])\n",
    "])\n",
    "\n",
    "# Combine both lists\n",
    "STANDARD_LIBRARY_MODULES = built_in_modules | std_lib_modules\n",
    "\n",
    "# Sort the list for easier reading\n",
    "STANDARD_LIBRARY_MODULES = sorted(STANDARD_LIBRARY_MODULES)\n",
    "\n",
    "print(STANDARD_LIBRARY_MODULES)"
   ]
  },
  {
   "cell_type": "code",
   "execution_count": 4,
   "metadata": {},
   "outputs": [
    {
     "data": {
      "text/plain": [
       "set()"
      ]
     },
     "execution_count": 4,
     "metadata": {},
     "output_type": "execute_result"
    }
   ],
   "source": [
    "\n",
    "set(nu.modules_list).intersection(set(STANDARD_LIBRARY_MODULES))"
   ]
  },
  {
   "cell_type": "code",
   "execution_count": 5,
   "metadata": {},
   "outputs": [],
   "source": [
    "\n",
    "# A helper function to check if a module is part of the standard library\n",
    "def is_standard_library(module_name):\n",
    "    return module_name in STANDARD_LIBRARY_MODULES"
   ]
  },
  {
   "cell_type": "code",
   "execution_count": 6,
   "metadata": {},
   "outputs": [],
   "source": [
    "\n",
    "import pkg_resources\n",
    "\n",
    "def get_actual_name(module_name):\n",
    "    actual_name = module_name\n",
    "    try:\n",
    "        # Try to get the distribution for module_name\n",
    "        dist = pkg_resources.get_distribution(module_name)\n",
    "        actual_name = dist.project_name\n",
    "    except pkg_resources.DistributionNotFound:\n",
    "        print(f\"import {module_name}\")\n",
    "    \n",
    "    return actual_name"
   ]
  },
  {
   "cell_type": "code",
   "execution_count": 7,
   "metadata": {},
   "outputs": [],
   "source": [
    "\n",
    "def generate_requirements(file_paths, output_file='requirements.txt', excludes_list=[]):\n",
    "    \"\"\"\n",
    "    Generate a requirements.txt file listing all external libraries imported\n",
    "    in the specified Python files.\n",
    "    \n",
    "    Parameters:\n",
    "        file_paths (list): A list of file paths to Python scripts.\n",
    "        output_file (str): The name of the output file for the requirements.\n",
    "                           Defaults to 'requirements.txt'.\n",
    "    \n",
    "    Returns:\n",
    "        None\n",
    "    \"\"\"\n",
    "    \n",
    "    # A set to store all unique external libraries imported\n",
    "    external_imports = set()\n",
    "    \n",
    "    # Process each file\n",
    "    for file_path in file_paths:\n",
    "        try:\n",
    "            \n",
    "            # Open the file and parse it with ast\n",
    "            with open(file_path, 'r', encoding='utf-8') as file:\n",
    "                content = file.read()\n",
    "                tree = ast.parse(content)\n",
    "            \n",
    "            # Analyze the AST to find imports\n",
    "            for node in ast.walk(tree):\n",
    "                \n",
    "                # Process \"import module\" statements\n",
    "                if isinstance(node, ast.Import):\n",
    "                    for alias in node.names:\n",
    "                        module_name = alias.name.split('.')[0]  # Get the top-level module\n",
    "                        if not is_standard_library(module_name):\n",
    "                            external_imports.add(module_name)\n",
    "                \n",
    "                # Process \"from module import ...\" statements\n",
    "                elif isinstance(node, ast.ImportFrom):\n",
    "                    if node.module:\n",
    "                        module_name = node.module.split('.')[0]  # Get the top-level module\n",
    "                        if not is_standard_library(module_name):\n",
    "                            external_imports.add(module_name)\n",
    "        \n",
    "        except Exception as e:\n",
    "            print(f\"Error processing file {file_path}: {e}\")\n",
    "\n",
    "    # Get what are the actual package names on PyPI\n",
    "    external_imports = [get_actual_name(library) for library in sorted(external_imports) if library not in excludes_list]\n",
    "    \n",
    "    # Write the requirements.txt file\n",
    "    with open(output_file, 'w', encoding='utf-8') as req_file:\n",
    "        for library in sorted(external_imports):  # Sort for consistency\n",
    "            req_file.write(f\"{library}\\n\")\n",
    "    \n",
    "    return external_imports"
   ]
  },
  {
   "cell_type": "code",
   "execution_count": 10,
   "metadata": {},
   "outputs": [],
   "source": [
    "\n",
    "import bs4\n",
    "import imblearn\n",
    "import pysan\n",
    "import wikipedia\n",
    "\n",
    "# Create it for the share repo\n",
    "file_paths_list = [\n",
    "    'C:\\\\Users\\\\daveb\\\\OneDrive\\\\Documents\\\\GitHub\\\\notebooks\\\\share\\\\base_config.py',\n",
    "    'C:\\\\Users\\\\daveb\\\\OneDrive\\\\Documents\\\\GitHub\\\\notebooks\\\\share\\\\data_analysis.py',\n",
    "    'C:\\\\Users\\\\daveb\\\\OneDrive\\\\Documents\\\\GitHub\\\\notebooks\\\\share\\\\data_preparation.py',\n",
    "    'C:\\\\Users\\\\daveb\\\\OneDrive\\\\Documents\\\\GitHub\\\\notebooks\\\\share\\\\data_validation.py',\n",
    "    'C:\\\\Users\\\\daveb\\\\OneDrive\\\\Documents\\\\GitHub\\\\notebooks\\\\share\\\\file_operations.py',\n",
    "    'C:\\\\Users\\\\daveb\\\\OneDrive\\\\Documents\\\\GitHub\\\\notebooks\\\\share\\\\notebook_utils.py',\n",
    "    'C:\\\\Users\\\\daveb\\\\OneDrive\\\\Documents\\\\GitHub\\\\notebooks\\\\share\\\\uncategorized.py'\n",
    "]\n",
    "requirements_file = osp.abspath(osp.join(nu.github_folder, os.pardir, 'share', 'requirements.txt'))\n",
    "external_imports = generate_requirements(file_paths_list, output_file=requirements_file, excludes_list=['pickle5'])"
   ]
  },
  {
   "cell_type": "code",
   "execution_count": 11,
   "metadata": {},
   "outputs": [
    {
     "data": {
      "text/plain": [
       "['ipython', 'bs4', 'chromadb', 'cycler', 'dill', 'humanize', 'imblearn', 'matplotlib', 'networkx', 'numpy', 'pandas', 'pysan', 'roman', 'scipy', 'seaborn', 'tqdm', 'webcolors', 'wikipedia']"
      ]
     },
     "execution_count": 11,
     "metadata": {},
     "output_type": "execute_result"
    }
   ],
   "source": [
    "\n",
    "external_imports"
   ]
  },
  {
   "cell_type": "code",
   "execution_count": 19,
   "metadata": {},
   "outputs": [],
   "source": [
    "\n",
    "std_lib_path = osp.dirname(os.__file__)\n",
    "local_standard_library = set([\n",
    "    module_info.name\n",
    "    for module_info in pkgutil.iter_modules([std_lib_path])\n",
    "]).union(built_in_modules)"
   ]
  },
  {
   "cell_type": "code",
   "execution_count": 20,
   "metadata": {},
   "outputs": [
    {
     "data": {
      "text/plain": [
       "{'importlib', 'subprocess', 'random', 'pickle', 'tokenize', 'shutil', 'pkgutil', 'textwrap', 'difflib', 're', 'fractions', 'datetime', 'inspect', 'statistics', 'urllib', 'os', 'io'}"
      ]
     },
     "execution_count": 20,
     "metadata": {},
     "output_type": "execute_result"
    }
   ],
   "source": [
    "\n",
    "local_standard_library.intersection(set(external_imports))"
   ]
  },
  {
   "cell_type": "code",
   "execution_count": 23,
   "metadata": {},
   "outputs": [
    {
     "data": {
      "text/plain": [
       "{'notebook_utils_old', 'uncategorized', 'data_preparation', 'data_analysis', 'file_operations', 'base_config', 'notebook_utils', 'data_validation'}"
      ]
     },
     "execution_count": 23,
     "metadata": {},
     "output_type": "execute_result"
    }
   ],
   "source": [
    "\n",
    "set(STANDARD_LIBRARY_MODULES).difference(set(local_standard_library))"
   ]
  },
  {
   "cell_type": "code",
   "execution_count": 24,
   "metadata": {},
   "outputs": [
    {
     "data": {
      "text/plain": [
       "{'importlib', 'random', 'subprocess', 'pickle', 'tokenize', 'shutil', 'pkgutil', 'textwrap', 'difflib', 're', 'fractions', 'datetime', 'inspect', 'statistics', 'urllib', 'os', 'io'}"
      ]
     },
     "execution_count": 24,
     "metadata": {},
     "output_type": "execute_result"
    }
   ],
   "source": [
    "\n",
    "local_standard_library.intersection(set(external_imports)).difference(set(STANDARD_LIBRARY_MODULES))"
   ]
  }
 ],
 "metadata": {
  "kernelspec": {
   "display_name": "Python 3 (ipykernel)",
   "language": "python",
   "name": "python3"
  },
  "language_info": {
   "codemirror_mode": {
    "name": "ipython",
    "version": 3
   },
   "file_extension": ".py",
   "mimetype": "text/x-python",
   "name": "python",
   "nbconvert_exporter": "python",
   "pygments_lexer": "ipython3",
   "version": "3.12.7"
  }
 },
 "nbformat": 4,
 "nbformat_minor": 4
}
