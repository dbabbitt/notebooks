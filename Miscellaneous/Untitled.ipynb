{
 "cells": [
  {
   "cell_type": "code",
   "execution_count": 10,
   "metadata": {
    "collapsed": false
   },
   "outputs": [],
   "source": [
    "\n",
    "import os as os\n",
    "from shutil import copyfile\n",
    "import random\n",
    "import string\n",
    "\n",
    "root_dir = 'C:\\\\Users\\\\577342\\\\'\n",
    "dst_dir = 'C:\\\\Users\\\\577342\\\\Downloads\\\\py_ipynb_files'\n",
    "for sub_dir, dirs, files in os.walk(root_dir):\n",
    "    for file in files:\n",
    "        file_path = sub_dir + os.sep + file\n",
    "        if file_path.endswith('.py') or file_path.endswith('.ipynb'):\n",
    "            dest_path = dst_dir + os.sep + file + '.' + ''.join(random.choice(string.ascii_uppercase) for _ in range(6))\n",
    "            copyfile(file_path, dest_path)"
   ]
  },
  {
   "cell_type": "code",
   "execution_count": null,
   "metadata": {
    "collapsed": true
   },
   "outputs": [],
   "source": []
  }
 ],
 "metadata": {
  "kernelspec": {
   "display_name": "Python [Root]",
   "language": "python",
   "name": "Python [Root]"
  },
  "language_info": {
   "codemirror_mode": {
    "name": "ipython",
    "version": 3
   },
   "file_extension": ".py",
   "mimetype": "text/x-python",
   "name": "python",
   "nbconvert_exporter": "python",
   "pygments_lexer": "ipython3",
   "version": "3.5.2"
  }
 },
 "nbformat": 4,
 "nbformat_minor": 0
}
