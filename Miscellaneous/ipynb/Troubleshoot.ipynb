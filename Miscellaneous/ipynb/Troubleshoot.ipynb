{
 "cells": [
  {
   "cell_type": "code",
   "execution_count": 1,
   "metadata": {
    "scrolled": false
   },
   "outputs": [
    {
     "name": "stdout",
     "output_type": "stream",
     "text": [
      "\u001b[31mDEPRECATION: The default format will switch to columns in the future. You can use --format=(legacy|columns) (or define a format=(legacy|columns) in your pip.conf under the [list] section) to disable this warning.\u001b[0m\n",
      "Traceback (most recent call last):\n",
      "  File \"/Users/davebabbitt/anaconda/lib/python3.5/site-packages/conda/common/configuration.py\", line 50, in <module>\n",
      "    from ruamel_yaml.comments import CommentedSeq, CommentedMap\n",
      "  File \"/Users/davebabbitt/anaconda/lib/python3.5/site-packages/ruamel_yaml/__init__.py\", line 9, in <module>\n",
      "    from .cyaml import *\n",
      "  File \"/Users/davebabbitt/anaconda/lib/python3.5/site-packages/ruamel_yaml/cyaml.py\", line 5, in <module>\n",
      "    from ruamel_yaml._ruamel_yaml import CParser, CEmitter\n",
      "ImportError: dlopen(/Users/davebabbitt/anaconda/lib/python3.5/site-packages/ruamel_yaml/_ruamel_yaml.cpython-35m-darwin.so, 2): Library not loaded: @rpath/libyaml-0.2.dylib\n",
      "  Referenced from: /Users/davebabbitt/anaconda/lib/python3.5/site-packages/ruamel_yaml/_ruamel_yaml.cpython-35m-darwin.so\n",
      "  Reason: no suitable image found.  Did find:\n",
      "\t/Users/davebabbitt/anaconda/lib/python3.5/site-packages/ruamel_yaml/../../../libyaml-0.2.dylib: file too short\n",
      "\t/Users/davebabbitt/anaconda/lib/libyaml-0.2.dylib: file too short\n",
      "\t/Users/davebabbitt/anaconda/bin/../lib/libyaml-0.2.dylib: file too short\n",
      "\n",
      "During handling of the above exception, another exception occurred:\n",
      "\n",
      "Traceback (most recent call last):\n",
      "  File \"/Users/davebabbitt/anaconda/lib/python3.5/site-packages/conda/exceptions.py\", line 640, in conda_exception_handler\n",
      "    return_value = func(*args, **kwargs)\n",
      "  File \"/Users/davebabbitt/anaconda/lib/python3.5/site-packages/conda/cli/main.py\", line 103, in _main\n",
      "    from ..base.context import context\n",
      "  File \"/Users/davebabbitt/anaconda/lib/python3.5/site-packages/conda/base/context.py\", line 20, in <module>\n",
      "    from ..common.configuration import (Configuration, LoadError, MapParameter, PrimitiveParameter,\n",
      "  File \"/Users/davebabbitt/anaconda/lib/python3.5/site-packages/conda/common/configuration.py\", line 53, in <module>\n",
      "    from ruamel.yaml.comments import CommentedSeq, CommentedMap  # pragma: no cover\n",
      "ImportError: No module named 'ruamel'\n",
      "\n",
      "During handling of the above exception, another exception occurred:\n",
      "\n",
      "Traceback (most recent call last):\n",
      "  File \"/Users/davebabbitt/anaconda/lib/python3.5/site-packages/conda/common/configuration.py\", line 50, in <module>\n",
      "    from ruamel_yaml.comments import CommentedSeq, CommentedMap\n",
      "  File \"/Users/davebabbitt/anaconda/lib/python3.5/site-packages/ruamel_yaml/__init__.py\", line 9, in <module>\n",
      "    from .cyaml import *\n",
      "  File \"/Users/davebabbitt/anaconda/lib/python3.5/site-packages/ruamel_yaml/cyaml.py\", line 5, in <module>\n",
      "    from ruamel_yaml._ruamel_yaml import CParser, CEmitter\n",
      "ImportError: dlopen(/Users/davebabbitt/anaconda/lib/python3.5/site-packages/ruamel_yaml/_ruamel_yaml.cpython-35m-darwin.so, 2): Library not loaded: @rpath/libyaml-0.2.dylib\n",
      "  Referenced from: /Users/davebabbitt/anaconda/lib/python3.5/site-packages/ruamel_yaml/_ruamel_yaml.cpython-35m-darwin.so\n",
      "  Reason: no suitable image found.  Did find:\n",
      "\t/Users/davebabbitt/anaconda/lib/python3.5/site-packages/ruamel_yaml/../../../libyaml-0.2.dylib: file too short\n",
      "\t/Users/davebabbitt/anaconda/lib/libyaml-0.2.dylib: file too short\n",
      "\t/Users/davebabbitt/anaconda/bin/../lib/libyaml-0.2.dylib: file too short\n",
      "\n",
      "During handling of the above exception, another exception occurred:\n",
      "\n",
      "Traceback (most recent call last):\n",
      "  File \"/Users/davebabbitt/anaconda/bin/conda\", line 11, in <module>\n",
      "    sys.exit(main())\n",
      "  File \"/Users/davebabbitt/anaconda/lib/python3.5/site-packages/conda/cli/main.py\", line 182, in main\n",
      "    return conda_exception_handler(_main, *args)\n",
      "  File \"/Users/davebabbitt/anaconda/lib/python3.5/site-packages/conda/exceptions.py\", line 644, in conda_exception_handler\n",
      "    return handle_exception(e)\n",
      "  File \"/Users/davebabbitt/anaconda/lib/python3.5/site-packages/conda/exceptions.py\", line 634, in handle_exception\n",
      "    print_unexpected_error_message(e)\n",
      "  File \"/Users/davebabbitt/anaconda/lib/python3.5/site-packages/conda/exceptions.py\", line 579, in print_unexpected_error_message\n",
      "    from .base.context import context\n",
      "  File \"/Users/davebabbitt/anaconda/lib/python3.5/site-packages/conda/base/context.py\", line 20, in <module>\n",
      "    from ..common.configuration import (Configuration, LoadError, MapParameter, PrimitiveParameter,\n",
      "  File \"/Users/davebabbitt/anaconda/lib/python3.5/site-packages/conda/common/configuration.py\", line 53, in <module>\n",
      "    from ruamel.yaml.comments import CommentedSeq, CommentedMap  # pragma: no cover\n",
      "ImportError: No module named 'ruamel'\n",
      "$PATH:\n",
      "\t/Users/davebabbitt/anaconda/bin\n",
      "\t/Users/davebabbitt/anaconda/bin\n",
      "\t/usr/local/opt/openssl/bin\n",
      "\t/usr/local/opt/openssl/bin\n",
      "\t/usr/local/git/bin\n",
      "\t/Users/davebabbitt/anaconda/bin\n",
      "\t/usr/local/bin\n",
      "\t/usr/bin\n",
      "\t/bin\n",
      "\t/usr/sbin\n",
      "\t/sbin\n",
      "\t/opt/local/sbin\n",
      "\t/opt/local/bin\n",
      "\t/Library/TeX/texbin\n",
      "\t/opt/X11/bin\n",
      "\t/usr/local/opt/openssl/bin\n",
      "\t/usr/local/opt/openssl/bin\n",
      "\t/usr/local/bin\n",
      "\t/usr/bin\n",
      "\t/bin\n",
      "\t/usr/sbin\n",
      "\t/sbin\n",
      "\t/opt/X11/bin\n",
      "\t/Library/TeX/texbin\n",
      "\n",
      "sys.path:\n",
      "\t/Users/davebabbitt/anaconda/bin\n",
      "\t/Users/davebabbitt/anaconda/lib/python35.zip\n",
      "\t/Users/davebabbitt/anaconda/lib/python3.5\n",
      "\t/Users/davebabbitt/anaconda/lib/python3.5/plat-darwin\n",
      "\t/Users/davebabbitt/anaconda/lib/python3.5/lib-dynload\n",
      "\t/Users/davebabbitt/anaconda/lib/python3.5/site-packages\n",
      "\t/Users/davebabbitt/anaconda/lib/python3.5/site-packages/Sphinx-1.6.3-py3.5.egg\n",
      "\t/Users/davebabbitt/anaconda/lib/python3.5/site-packages/aeosa\n",
      "\t/Users/davebabbitt/anaconda/lib/python3.5/site-packages/nupic-1.0.4.dev0-py3.5.egg\n",
      "\n",
      "sys.executable:\n",
      "\t/Users/davebabbitt/anaconda/bin/python\n",
      "\n",
      "sys.version:\n",
      "\t3.5.4 |Anaconda custom (x86_64)| (default, Aug 14 2017, 12:43:10) \n",
      "\t[GCC 4.2.1 Compatible Apple LLVM 6.0 (clang-600.0.57)]\n",
      "\n",
      "platform.platform():\n",
      "\tDarwin-16.7.0-x86_64-i386-64bit\n",
      "\n",
      "which -a jupyter:\n",
      "\t/Users/davebabbitt/anaconda/bin/jupyter\n",
      "\t/Users/davebabbitt/anaconda/bin/jupyter\n",
      "\t/Users/davebabbitt/anaconda/bin/jupyter\n",
      "\t/usr/local/bin/jupyter\n",
      "\t/usr/local/bin/jupyter\n",
      "\n",
      "pip list:\n",
      "\talabaster (0.7.10)\n",
      "\tanaconda-client (1.6.3)\n",
      "\tanaconda-navigator (1.6.4)\n",
      "\tanaconda-project (0.6.0)\n",
      "\tappnope (0.1.0)\n",
      "\tappscript (1.0.1)\n",
      "\tasn1crypto (0.22.0)\n",
      "\tastroid (1.5.3)\n",
      "\tastropy (2.0.2)\n",
      "\tBabel (2.5.0)\n",
      "\tbackports.shutil-get-terminal-size (1.0.0)\n",
      "\tbeautifulsoup4 (4.6.0)\n",
      "\tbitarray (0.8.1)\n",
      "\tbkcharts (0.2)\n",
      "\tblaze (0.10.1)\n",
      "\tbleach (2.1.1)\n",
      "\tbokeh (0.12.7)\n",
      "\tboto (2.48.0)\n",
      "\tBottleneck (1.2.1)\n",
      "\tcertifi (2016.2.28)\n",
      "\tcffi (1.10.0)\n",
      "\tchardet (3.0.4)\n",
      "\tclick (6.7)\n",
      "\tcloudpickle (0.4.0)\n",
      "\tclyent (1.2.2)\n",
      "\tcolorama (0.3.9)\n",
      "\tconda (4.3.30)\n",
      "\tcontextlib2 (0.5.5)\n",
      "\tcryptography (1.8.1)\n",
      "\tcycler (0.10.0)\n",
      "\tCython (0.26)\n",
      "\tcytoolz (0.8.2)\n",
      "\tdask (0.15.2)\n",
      "\tdatashape (0.5.4)\n",
      "\tdecorator (4.1.2)\n",
      "\tdistributed (1.18.1)\n",
      "\tdocutils (0.14)\n",
      "\tentrypoints (0.2.3)\n",
      "\tet-xmlfile (1.0.1)\n",
      "\tfastcache (1.0.2)\n",
      "\tFlask (0.12.2)\n",
      "\tFlask-Cors (3.0.3)\n",
      "\tgevent (1.2.2)\n",
      "\tgreenlet (0.4.12)\n",
      "\th5py (2.7.0)\n",
      "\tHeapDict (1.0.0)\n",
      "\thtml5lib (1.0b10)\n",
      "\tidna (2.6)\n",
      "\timagesize (0.7.1)\n",
      "\tipykernel (4.6.1)\n",
      "\tipython (6.2.1)\n",
      "\tipython-genutils (0.2.0)\n",
      "\tipywidgets (7.0.5)\n",
      "\tisort (4.2.15)\n",
      "\titsdangerous (0.24)\n",
      "\tjdcal (1.3)\n",
      "\tjedi (0.11.0)\n",
      "\tJinja2 (2.10)\n",
      "\tjsonschema (2.6.0)\n",
      "\tjupyter-client (5.1.0)\n",
      "\tjupyter-console (5.2.0)\n",
      "\tjupyter-core (4.4.0)\n",
      "\tlazy-object-proxy (1.3.1)\n",
      "\tllvmlite (0.20.0)\n",
      "\tlocket (0.2.0)\n",
      "\tlxml (3.8.0)\n",
      "\tMarkupSafe (1.0)\n",
      "\tmatplotlib (2.1.1)\n",
      "\tmistune (0.8.1)\n",
      "\tmpmath (0.19)\n",
      "\tmsgpack-python (0.4.8)\n",
      "\tmultipledispatch (0.4.9)\n",
      "\tnavigator-updater (0.1.0)\n",
      "\tnbconvert (5.3.1)\n",
      "\tnbformat (4.4.0)\n",
      "\tnetworkx (1.11)\n",
      "\tnltk (3.2.4)\n",
      "\tnose (1.3.7)\n",
      "\tnotebook (5.2.2)\n",
      "\tnumba (0.35.0)\n",
      "\tnumexpr (2.6.4)\n",
      "\tnumpy (1.13.3)\n",
      "\tnumpydoc (0.7.0)\n",
      "\tnupic (1.0.4.dev0)\n",
      "\todo (0.5.1)\n",
      "\tolefile (0.44)\n",
      "\topenpyxl (2.4.8)\n",
      "\tpackaging (16.8)\n",
      "\tpandas (0.21.0)\n",
      "\tpandocfilters (1.4.2)\n",
      "\tparso (0.1.0)\n",
      "\tpartd (0.3.8)\n",
      "\tpathlib2 (2.3.0)\n",
      "\tpatsy (0.4.1)\n",
      "\tpep8 (1.7.0)\n",
      "\tpexpect (4.3.0)\n",
      "\tpickleshare (0.7.4)\n",
      "\tPillow (4.2.1)\n",
      "\tpip (9.0.1)\n",
      "\tply (3.10)\n",
      "\tprompt-toolkit (1.0.15)\n",
      "\tpsutil (5.2.2)\n",
      "\tptyprocess (0.5.2)\n",
      "\tpy (1.4.34)\n",
      "\tpycosat (0.6.2)\n",
      "\tpycparser (2.18)\n",
      "\tpycrypto (2.6.1)\n",
      "\tpycurl (7.43.0)\n",
      "\tpyflakes (1.6.0)\n",
      "\tPygments (2.2.0)\n",
      "\tpylint (1.7.2)\n",
      "\tpyodbc (4.0.17)\n",
      "\tpyOpenSSL (17.0.0)\n",
      "\tpyparsing (2.2.0)\n",
      "\tpytest (3.2.1)\n",
      "\tpython-dateutil (2.6.1)\n",
      "\tpytz (2017.3)\n",
      "\tPyWavelets (0.5.2)\n",
      "\tPyYAML (3.12)\n",
      "\tpyzmq (16.0.2)\n",
      "\tQtAwesome (0.4.4)\n",
      "\tqtconsole (4.3.1)\n",
      "\tQtPy (1.3.1)\n",
      "\trequests (2.14.2)\n",
      "\trope-py3k (0.9.4.post1)\n",
      "\tscikit-image (0.13.0)\n",
      "\tscikit-learn (0.19.1)\n",
      "\tscipy (1.0.0)\n",
      "\tseaborn (0.8.1)\n",
      "\tsetuptools (38.2.3)\n",
      "\tsimplegeneric (0.8.1)\n",
      "\tsingledispatch (3.4.0.3)\n",
      "\tsix (1.11.0)\n",
      "\tsnowballstemmer (1.2.1)\n",
      "\tsortedcollections (0.5.3)\n",
      "\tsortedcontainers (1.5.7)\n",
      "\tSphinx (1.6.3)\n",
      "\tsphinxcontrib-websupport (1.0.1)\n",
      "\tSQLAlchemy (1.1.13)\n",
      "\tstatsmodels (0.8.0)\n",
      "\tsympy (1.1.1)\n",
      "\ttables (3.4.2)\n",
      "\ttblib (1.3.2)\n",
      "\tterminado (0.8.1)\n",
      "\ttestpath (0.3.1)\n",
      "\ttoolz (0.8.2)\n",
      "\ttornado (4.5.2)\n",
      "\ttraitlets (4.3.2)\n",
      "\tunicodecsv (0.14.1)\n",
      "\twcwidth (0.1.7)\n",
      "\twebencodings (0.5.1)\n",
      "\tWerkzeug (0.12.2)\n",
      "\twheel (0.29.0)\n",
      "\twidgetsnbextension (3.0.8)\n",
      "\twrapt (1.10.11)\n",
      "\txlrd (1.1.0)\n",
      "\tXlsxWriter (0.9.8)\n",
      "\txlwings (0.11.4)\n",
      "\txlwt (1.3.0)\n",
      "\tzict (0.1.2)\n"
     ]
    }
   ],
   "source": [
    "\n",
    "!jupyter troubleshoot --format=columns"
   ]
  },
  {
   "cell_type": "code",
   "execution_count": 1,
   "metadata": {},
   "outputs": [
    {
     "name": "stdout",
     "output_type": "stream",
     "text": [
      "Known nbextensions:\r\n",
      "  config dir: /Users/davebabbitt/.jupyter/nbconfig\r\n",
      "    notebook section\r\n",
      "      jupyter-js-widgets/extension \u001b[32m enabled \u001b[0m\r\n",
      "      - Validating: \u001b[32mOK\u001b[0m\r\n"
     ]
    }
   ],
   "source": [
    "\n",
    "!jupyter nbextension list"
   ]
  },
  {
   "cell_type": "code",
   "execution_count": 2,
   "metadata": {},
   "outputs": [
    {
     "name": "stdout",
     "output_type": "stream",
     "text": [
      "Available kernels:\r\n",
      "  cling-cpp11    /Users/davebabbitt/Library/Jupyter/kernels/cling-cpp11\r\n",
      "  octave         /Users/davebabbitt/Library/Jupyter/kernels/octave\r\n",
      "  ir             /Users/davebabbitt/anaconda/share/jupyter/kernels/ir\r\n",
      "  python3        /Users/davebabbitt/anaconda/share/jupyter/kernels/python3\r\n"
     ]
    }
   ],
   "source": [
    "\n",
    "!jupyter kernelspec list"
   ]
  },
  {
   "cell_type": "code",
   "execution_count": 3,
   "metadata": {
    "collapsed": true
   },
   "outputs": [],
   "source": [
    "\n",
    "!jupyter serverextension list"
   ]
  },
  {
   "cell_type": "code",
   "execution_count": 1,
   "metadata": {},
   "outputs": [
    {
     "name": "stdout",
     "output_type": "stream",
     "text": [
      "Fetching package metadata ...........\n",
      "Solving package specifications: .\n",
      "\n",
      "Package plan for installation in environment /Users/davebabbitt/anaconda:\n",
      "\n",
      "The following NEW packages will be INSTALLED:\n",
      "\n",
      "    libcxx:    4.0.1-h579ed51_0\n",
      "    libcxxabi: 4.0.1-hebd6815_0\n",
      "\n",
      "The following packages will be UPDATED:\n",
      "\n",
      "    pandas:    0.20.3-py35_0    --> 0.21.0-py35h4431f20_1\n",
      "\n",
      "Proceed ([y]/n)? ^C\n"
     ]
    }
   ],
   "source": [
    "\n",
    "!conda update pandas"
   ]
  },
  {
   "cell_type": "code",
   "execution_count": 6,
   "metadata": {},
   "outputs": [
    {
     "name": "stdout",
     "output_type": "stream",
     "text": [
      "/Users/davebabbitt/Notebooks/Miscellaneous/ipynb\r\n"
     ]
    }
   ],
   "source": [
    "\n",
    "!pwd"
   ]
  },
  {
   "cell_type": "code",
   "execution_count": 20,
   "metadata": {},
   "outputs": [
    {
     "data": {
      "application/javascript": [
       "var kernel = IPython.notebook.kernel;\n",
       "var body = document.body,  \n",
       "    attribs = body.attributes;\n",
       "var command = \"notebook_name = \" + \"'\"+attribs['data-notebook-name'].value+\"'\";\n",
       "var command = \"notebook_path = \" + \"'\"+attribs['data-notebook-path'].value+\"'\";\n",
       "kernel.execute(command);"
      ],
      "text/plain": [
       "<IPython.core.display.Javascript object>"
      ]
     },
     "metadata": {},
     "output_type": "display_data"
    }
   ],
   "source": [
    "\n",
    "%%javascript\n",
    "var kernel = IPython.notebook.kernel;\n",
    "var body = document.body,  \n",
    "    attribs = body.attributes;\n",
    "var command = \"notebook_name = \" + \"'\"+attribs['data-notebook-name'].value+\"'\";\n",
    "var command = \"notebook_path = \" + \"'\"+attribs['data-notebook-path'].value+\"'\";\n",
    "kernel.execute(command);"
   ]
  },
  {
   "cell_type": "code",
   "execution_count": 22,
   "metadata": {},
   "outputs": [
    {
     "data": {
      "text/plain": [
       "'https://nbviewer.jupyter.org/github/dbabbitt/notebooks/blob/master/Miscellaneous/ipynb/Troubleshoot.ipynb'"
      ]
     },
     "execution_count": 22,
     "metadata": {},
     "output_type": "execute_result"
    }
   ],
   "source": [
    "\n",
    "from\n",
    "notebook_viewer_url = 'https://nbviewer.jupyter.org/github/dbabbitt/notebooks/blob/master/' + notebook_path\n",
    "notebook_viewer_url"
   ]
  },
  {
   "cell_type": "code",
   "execution_count": 21,
   "metadata": {},
   "outputs": [
    {
     "data": {
      "text/plain": [
       "'Miscellaneous/ipynb/Troubleshoot.ipynb'"
      ]
     },
     "execution_count": 21,
     "metadata": {},
     "output_type": "execute_result"
    }
   ],
   "source": [
    "\n",
    "notebook_path"
   ]
  },
  {
   "cell_type": "code",
   "execution_count": 2,
   "metadata": {},
   "outputs": [
    {
     "data": {
      "text/plain": [
       "{'Apple_PubSub_Socket_Render': '/private/tmp/com.apple.launchd.5VFtZakxhY/Render',\n",
       " 'CLICOLOR': '1',\n",
       " 'CPPFLAGS': '-I/usr/local/opt/openssl/include',\n",
       " 'DISPLAY': '/private/tmp/com.apple.launchd.HqGkGuKfdh/org.macosforge.xquartz:0',\n",
       " 'GIT_PAGER': 'cat',\n",
       " 'HOME': '/Users/davebabbitt',\n",
       " 'JPY_PARENT_PID': '966',\n",
       " 'LANG': 'en_US.UTF-8',\n",
       " 'LDFLAGS': '-L/usr/local/opt/openssl/lib',\n",
       " 'LOGNAME': 'davebabbitt',\n",
       " 'MPLBACKEND': 'module://ipykernel.pylab.backend_inline',\n",
       " 'OCTAVE_EXECUTABLE': '/usr/local/bin/octave-cli',\n",
       " 'PAGER': 'cat',\n",
       " 'PATH': '/Users/davebabbitt/anaconda2/bin:/usr/local/opt/openssl/bin:/usr/local/opt/openssl/bin:/Users/davebabbitt/anaconda2/bin:/usr/local/git/bin:/Users/davebabbitt/anaconda/bin:/usr/local/bin:/usr/bin:/bin:/usr/sbin:/sbin:/opt/local/sbin:/opt/local/bin:/Library/TeX/texbin:/opt/X11/bin:/usr/local/opt/openssl/bin:/usr/local/opt/openssl/bin:/usr/local/bin:/usr/bin:/bin:/usr/sbin:/sbin:/opt/X11/bin:/Library/TeX/texbin',\n",
       " 'PKG_CONFIG_PATH': '/usr/local/opt/openssl/lib/pkgconfig',\n",
       " 'PWD': '/Users/davebabbitt',\n",
       " 'SECURITYSESSIONID': '186a8',\n",
       " 'SHELL': '/bin/bash',\n",
       " 'SHLVL': '1',\n",
       " 'SSH_AUTH_SOCK': '/private/tmp/com.apple.launchd.kPTHzMBxiD/Listeners',\n",
       " 'TERM': 'xterm-color',\n",
       " 'TERM_PROGRAM': 'Apple_Terminal',\n",
       " 'TERM_PROGRAM_VERSION': '388.1.1',\n",
       " 'TERM_SESSION_ID': 'CED36B93-F5DD-4C38-94B0-A3A033684CB4',\n",
       " 'TMPDIR': '/var/folders/fr/0vtdl14121v9xzmbhltbh6s00000gn/T/',\n",
       " 'USER': 'davebabbitt',\n",
       " 'XPC_FLAGS': '0x0',\n",
       " 'XPC_SERVICE_NAME': '0',\n",
       " '_': '/Users/davebabbitt/anaconda2/bin/jupyter',\n",
       " '__CF_USER_TEXT_ENCODING': '0x1F5:0x0:0x0'}"
      ]
     },
     "execution_count": 2,
     "metadata": {},
     "output_type": "execute_result"
    }
   ],
   "source": [
    "\n",
    "%env"
   ]
  },
  {
   "cell_type": "code",
   "execution_count": null,
   "metadata": {
    "collapsed": true
   },
   "outputs": [],
   "source": []
  }
 ],
 "metadata": {
  "kernelspec": {
   "display_name": "Python 3",
   "language": "python",
   "name": "python3"
  },
  "language_info": {
   "codemirror_mode": {
    "name": "ipython",
    "version": 3
   },
   "file_extension": ".py",
   "mimetype": "text/x-python",
   "name": "python",
   "nbconvert_exporter": "python",
   "pygments_lexer": "ipython3",
   "version": "3.6.3"
  }
 },
 "nbformat": 4,
 "nbformat_minor": 2
}
