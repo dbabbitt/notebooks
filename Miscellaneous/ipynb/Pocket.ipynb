{
 "cells": [
  {
   "cell_type": "code",
   "execution_count": 1,
   "metadata": {},
   "outputs": [],
   "source": [
    "\n",
    "# Install a networkx package in the current Jupyter kernel\n",
    "import sys\n",
    "\n",
    "!{sys.executable} -m pip install networkx --upgrade --quiet"
   ]
  },
  {
   "cell_type": "code",
   "execution_count": 2,
   "metadata": {},
   "outputs": [],
   "source": [
    "\n",
    "# Install a bs4 package in the current Jupyter kernel\n",
    "import sys\n",
    "\n",
    "!{sys.executable} -m pip install bs4 --upgrade --quiet"
   ]
  },
  {
   "cell_type": "code",
   "execution_count": 19,
   "metadata": {},
   "outputs": [
    {
     "name": "stderr",
     "output_type": "stream",
     "text": [
      "  ERROR: Could not find a version that satisfies the requirement inspect (from versions: none)\n",
      "ERROR: No matching distribution found for inspect\n"
     ]
    }
   ],
   "source": [
    "\n",
    "# Install a bs4 package in the current Jupyter kernel\n",
    "import sys\n",
    "\n",
    "!{sys.executable} -m pip install inspect --upgrade --quiet"
   ]
  },
  {
   "cell_type": "code",
   "execution_count": 3,
   "metadata": {},
   "outputs": [],
   "source": [
    "\n",
    "# Install a pocket-api package in the current Jupyter kernel\n",
    "!{sys.executable} -m pip install pocket-api --upgrade --quiet"
   ]
  },
  {
   "cell_type": "code",
   "execution_count": 4,
   "metadata": {},
   "outputs": [
    {
     "name": "stdout",
     "output_type": "stream",
     "text": [
      "DATA_FOLDER: ../data/\n",
      "SAVES_FOLDER: ../saves/\n",
      "Pretty printing has been turned OFF\n",
      "DATA_CSV_FOLDER\t DATA_FOLDER\t ENCODING_TYPE\t SAVES_CSV_FOLDER\t SAVES_FOLDER\t SAVES_PICKLE_FOLDER\t attempt_to_pickle\t bs\t example_iterrows\t \n",
      "get_column_descriptions\t load_csv\t load_dataframes\t load_object\t math\t nx\t os\t pd\t pickle\t \n",
      "re\t save_dataframes\t store_objects\t sys\t urllib\t \n"
     ]
    }
   ],
   "source": [
    "\n",
    "%run ../../load_magic/storage.py\n",
    "%run ../../load_magic/dataframes.py\n",
    "from bs4 import BeautifulSoup as bs\n",
    "import networkx as nx\n",
    "import re\n",
    "import urllib.request\n",
    "%pprint\n",
    "%who"
   ]
  },
  {
   "cell_type": "code",
   "execution_count": 70,
   "metadata": {},
   "outputs": [
    {
     "data": {
      "text/plain": [
       "['__class__', '__delattr__', '__dict__', '__dir__', '__doc__', '__eq__', '__format__', '__ge__', '__getattribute__', '__gt__', '__hash__', '__init__', '__init_subclass__', '__le__', '__lt__', '__module__', '__ne__', '__new__', '__reduce__', '__reduce_ex__', '__repr__', '__setattr__', '__sizeof__', '__str__', '__subclasshook__', '__weakref__', '_access_token', '_add_action', '_bulk_actions', '_consumer_key', '_get_headers', '_get_method_params', '_get_url', '_make_exception', '_make_request', 'add', 'api_url', 'archive', 'auth_error_codes', 'bulk_add', 'commit', 'delete', 'favorite', 'get_access_token', 'get_request_token', 'get_user_profile', 'readd', 'reset', 'retrieve', 'tag_rename', 'tags_add', 'tags_clear', 'tags_remove', 'tags_replace', 'unfavorite']"
      ]
     },
     "execution_count": 70,
     "metadata": {},
     "output_type": "execute_result"
    }
   ],
   "source": [
    "\n",
    "from pocket import Pocket, PocketException\n",
    "\n",
    "pocket_add_items_app_consumer_key = '86785-44d5f22646ec75ebbeb7c57a'\n",
    "pocket_delete_items_app_consumer_key = '87762-bed2b857b8066e5c373cecba'\n",
    "\n",
    "p = Pocket(\n",
    "    consumer_key=pocket_add_items_app_consumer_key,\n",
    "    access_token='bda5abfa-b558-059c-8c5d-84da80'\n",
    ")\n",
    "dir(p)"
   ]
  },
  {
   "cell_type": "code",
   "execution_count": 64,
   "metadata": {},
   "outputs": [
    {
     "name": "stdout",
     "output_type": "stream",
     "text": [
      "__class__(): <class 'pocket.Pocket'> (unsupported callable)\n",
      "__delattr__(): <method-wrapper '__delattr__' of Pocket object at 0x0000024087930550> (unsupported callable)\n",
      "__dict__: {'_consumer_key': '87762-bed2b857b8066e5c373cecba', '_access_token': 'bda5abfa-b558-059c-8c5d-84da80', '_bulk_actions': []}\n",
      "__dir__(): ['_consumer_key', '_access_token', '_bulk_actions', '__module__', '__doc__', 'api_url', 'auth_error_codes', '__init__', 'add', 'retrieve', 'bulk_add', 'archive', 'readd', 'favorite', 'unfavorite', 'delete', 'tags_add', 'tags_remove', 'tags_replace', 'tags_clear', 'tag_rename', 'reset', 'commit', 'get_request_token', 'get_user_profile', 'get_access_token', '_add_action', '_make_request', '_get_method_params', '_get_url', '_get_headers', '_make_exception', '__dict__', '__weakref__', '__repr__', '__hash__', '__str__', '__getattribute__', '__setattr__', '__delattr__', '__lt__', '__le__', '__eq__', '__ne__', '__gt__', '__ge__', '__new__', '__reduce_ex__', '__reduce__', '__subclasshook__', '__init_subclass__', '__format__', '__sizeof__', '__dir__', '__class__']\n",
      "__doc__: \n",
      "    A wrapper around GetPocket.com API V3.\n",
      "    It provides methods that wrap all endpoints provided\n",
      "    by getpocket.com and adds easy chainable bulk modification support.\n",
      "    \n",
      "__eq__(): <method-wrapper '__eq__' of Pocket object at 0x0000024087930550> (unsupported callable)\n",
      "__format__(): <built-in method __format__ of Pocket object at 0x0000024087930550> (unsupported callable)\n",
      "__ge__(): <method-wrapper '__ge__' of Pocket object at 0x0000024087930550> (unsupported callable)\n",
      "__getattribute__(): <method-wrapper '__getattribute__' of Pocket object at 0x0000024087930550> (unsupported callable)\n",
      "__gt__(): <method-wrapper '__gt__' of Pocket object at 0x0000024087930550> (unsupported callable)\n",
      "__hash__(): 154760982613\n",
      "__init__(): <bound method Pocket.__init__ of <pocket.Pocket object at 0x0000024087930550>> (unsupported callable)\n",
      "__init_subclass__(): None\n",
      "__le__(): <method-wrapper '__le__' of Pocket object at 0x0000024087930550> (unsupported callable)\n",
      "__lt__(): <method-wrapper '__lt__' of Pocket object at 0x0000024087930550> (unsupported callable)\n",
      "__module__: pocket\n",
      "__ne__(): <method-wrapper '__ne__' of Pocket object at 0x0000024087930550> (unsupported callable)\n",
      "__new__(): <built-in method __new__ of type object at 0x000000006463BD90> (unsupported callable)\n",
      "__reduce__(): (<function _reconstructor at 0x00000240F22C6378>, (<class 'pocket.Pocket'>, <class 'object'>, None), {'_consumer_key': '87762-bed2b857b8066e5c373cecba', '_access_token': 'bda5abfa-b558-059c-8c5d-84da80', '_bulk_actions': []})\n",
      "__reduce_ex__(): (<function _reconstructor at 0x00000240F22C6378>, (<class 'pocket.Pocket'>, <class 'object'>, None), {'_consumer_key': '87762-bed2b857b8066e5c373cecba', '_access_token': 'bda5abfa-b558-059c-8c5d-84da80', '_bulk_actions': []})\n",
      "__repr__(): <pocket.Pocket object at 0x0000024087930550>\n",
      "__setattr__(): <method-wrapper '__setattr__' of Pocket object at 0x0000024087930550> (unsupported callable)\n",
      "__sizeof__(): 32\n",
      "__str__(): <pocket.Pocket object at 0x0000024087930550>\n",
      "__subclasshook__(): NotImplemented\n",
      "__weakref__: None\n",
      "_access_token: bda5abfa-b558-059c-8c5d-84da80\n",
      "_add_action(): <bound method Pocket._add_action of <pocket.Pocket object at 0x0000024087930550>> (unsupported callable)\n",
      "_bulk_actions: []\n",
      "_consumer_key: 87762-bed2b857b8066e5c373cecba\n",
      "_get_headers(): {'Content-Type': 'application/json', 'X-Accept': 'application/json'}\n",
      "_get_method_params(): {'outflag': True, 'old_excepthook': <bound method IPKernelApp.excepthook of <ipykernel.kernelapp.IPKernelApp object at 0x00000240F02ED588>>, 'async_': False, 'result': <ExecutionResult object at 240879314e0, execution_count=64 error_before_exec=None error_in_exec=None info=<ExecutionInfo object at 24087931908, raw_cell=\"\n",
      "import inspect\n",
      "\n",
      "callable_list = []\n",
      "for attr in di..\" store_history=True silent=False shell_futures=True> result=None>, 'code_obj': <code object <module> at 0x00000240868EFDB0, file \"<ipython-input-64-d26f9ccff4d9>\", line 5>}\n",
      "_get_url(): <bound method Pocket._get_url of <pocket.Pocket object at 0x0000024087930550>> (unsupported callable)\n",
      "_make_exception(): <bound method Pocket._make_exception of <pocket.Pocket object at 0x0000024087930550>> (unsupported callable)\n",
      "_make_request(): <bound method Pocket._make_request of <pocket.Pocket object at 0x0000024087930550>> (unsupported callable)\n",
      "add(): <bound method Pocket.add of <pocket.Pocket object at 0x0000024087930550>> (unsupported callable)\n",
      "api_url: https://getpocket.com/v3\n",
      "archive(): <bound method Pocket.archive of <pocket.Pocket object at 0x0000024087930550>> (unsupported callable)\n",
      "auth_error_codes: [136, 138, 152, 182, 185, 158, 159]\n",
      "bulk_add(): <bound method Pocket.bulk_add of <pocket.Pocket object at 0x0000024087930550>> (unsupported callable)\n",
      "commit(): None\n",
      "delete(): <bound method Pocket.delete of <pocket.Pocket object at 0x0000024087930550>> (unsupported callable)\n",
      "favorite(): <bound method Pocket.favorite of <pocket.Pocket object at 0x0000024087930550>> (unsupported callable)\n",
      "get_access_token(): <bound method Pocket.get_access_token of <pocket.Pocket object at 0x0000024087930550>> (unsupported callable)\n",
      "get_request_token(): <bound method Pocket.get_request_token of <pocket.Pocket object at 0x0000024087930550>> (unsupported callable)\n",
      "get_user_profile(): <bound method Pocket.get_user_profile of <pocket.Pocket object at 0x0000024087930550>> (unsupported callable)\n",
      "readd(): <bound method Pocket.readd of <pocket.Pocket object at 0x0000024087930550>> (unsupported callable)\n",
      "reset(): None\n",
      "retrieve(): <bound method Pocket.retrieve of <pocket.Pocket object at 0x0000024087930550>> (unsupported callable)\n",
      "tag_rename(): <bound method Pocket.tag_rename of <pocket.Pocket object at 0x0000024087930550>> (unsupported callable)\n",
      "tags_add(): <bound method Pocket.tags_add of <pocket.Pocket object at 0x0000024087930550>> (unsupported callable)\n",
      "tags_clear(): <bound method Pocket.tags_clear of <pocket.Pocket object at 0x0000024087930550>> (unsupported callable)\n",
      "tags_remove(): <bound method Pocket.tags_remove of <pocket.Pocket object at 0x0000024087930550>> (unsupported callable)\n",
      "tags_replace(): <bound method Pocket.tags_replace of <pocket.Pocket object at 0x0000024087930550>> (unsupported callable)\n",
      "unfavorite(): <bound method Pocket.unfavorite of <pocket.Pocket object at 0x0000024087930550>> (unsupported callable)\n",
      "\n",
      "p.__class__?\n",
      "p.__delattr__?\n",
      "p.__eq__?\n",
      "p.__format__?\n",
      "p.__ge__?\n",
      "p.__getattribute__?\n",
      "p.__gt__?\n",
      "p.__init__?\n",
      "p.__le__?\n",
      "p.__lt__?\n",
      "p.__ne__?\n",
      "p.__new__?\n",
      "p.__setattr__?\n",
      "p._add_action?\n",
      "p._get_url?\n",
      "p._make_exception?\n",
      "p._make_request?\n",
      "p.add?\n",
      "p.archive?\n",
      "p.bulk_add?\n",
      "p.delete?\n",
      "p.favorite?\n",
      "p.get_access_token?\n",
      "p.get_request_token?\n",
      "p.get_user_profile?\n",
      "p.readd?\n",
      "p.retrieve?\n",
      "p.tag_rename?\n",
      "p.tags_add?\n",
      "p.tags_clear?\n",
      "p.tags_remove?\n",
      "p.tags_replace?\n",
      "p.unfavorite?\n"
     ]
    }
   ],
   "source": [
    "\n",
    "import inspect\n",
    "\n",
    "callable_list = []\n",
    "for attr in dir(p):\n",
    "    obj = getattr(p, attr)\n",
    "    if hasattr(obj, '__call__'):\n",
    "        try:\n",
    "            print('{}(): {}'.format(attr, obj()))\n",
    "        except Exception as e:\n",
    "            try:\n",
    "                print('{}({}): {}'.format(attr, inspect.getfullargspec(p), obj))\n",
    "            except Exception as e:\n",
    "                print('{}(): {} ({})'.format(attr, obj, e))\n",
    "                callable_list.append(attr)\n",
    "    else:\n",
    "        print('{}: {}'.format(attr, getattr(p, attr, '????')))\n",
    "print()\n",
    "for attr in callable_list:\n",
    "    print('p.{}?'.format(attr))"
   ]
  },
  {
   "cell_type": "code",
   "execution_count": null,
   "metadata": {},
   "outputs": [],
   "source": []
  },
  {
   "cell_type": "code",
   "execution_count": 25,
   "metadata": {},
   "outputs": [
    {
     "data": {
      "text/plain": [
       "\u001b[1;31mInit signature:\u001b[0m \u001b[0mp\u001b[0m\u001b[1;33m.\u001b[0m\u001b[0m__class__\u001b[0m\u001b[1;33m(\u001b[0m\u001b[0mconsumer_key\u001b[0m\u001b[1;33m,\u001b[0m \u001b[0maccess_token\u001b[0m\u001b[1;33m=\u001b[0m\u001b[1;32mNone\u001b[0m\u001b[1;33m)\u001b[0m\u001b[1;33m\u001b[0m\u001b[1;33m\u001b[0m\u001b[0m\n",
       "\u001b[1;31mDocstring:\u001b[0m     \n",
       "A wrapper around GetPocket.com API V3.\n",
       "It provides methods that wrap all endpoints provided\n",
       "by getpocket.com and adds easy chainable bulk modification support.\n",
       "\u001b[1;31mFile:\u001b[0m           c:\\users\\dev\\anaconda3\\lib\\site-packages\\pocket\\__init__.py\n",
       "\u001b[1;31mType:\u001b[0m           type\n",
       "\u001b[1;31mSubclasses:\u001b[0m     \n"
      ]
     },
     "metadata": {},
     "output_type": "display_data"
    }
   ],
   "source": [
    "\n",
    "p.__class__?"
   ]
  },
  {
   "cell_type": "code",
   "execution_count": 26,
   "metadata": {},
   "outputs": [
    {
     "data": {
      "text/plain": [
       "\u001b[1;31mSignature:\u001b[0m      \u001b[0mp\u001b[0m\u001b[1;33m.\u001b[0m\u001b[0m__delattr__\u001b[0m\u001b[1;33m(\u001b[0m\u001b[0mname\u001b[0m\u001b[1;33m,\u001b[0m \u001b[1;33m/\u001b[0m\u001b[1;33m)\u001b[0m\u001b[1;33m\u001b[0m\u001b[1;33m\u001b[0m\u001b[0m\n",
       "\u001b[1;31mCall signature:\u001b[0m \u001b[0mp\u001b[0m\u001b[1;33m.\u001b[0m\u001b[0m__delattr__\u001b[0m\u001b[1;33m(\u001b[0m\u001b[1;33m*\u001b[0m\u001b[0margs\u001b[0m\u001b[1;33m,\u001b[0m \u001b[1;33m**\u001b[0m\u001b[0mkwargs\u001b[0m\u001b[1;33m)\u001b[0m\u001b[1;33m\u001b[0m\u001b[1;33m\u001b[0m\u001b[0m\n",
       "\u001b[1;31mType:\u001b[0m           method-wrapper\n",
       "\u001b[1;31mString form:\u001b[0m    <method-wrapper '__delattr__' of Pocket object at 0x00000240F50C6240>\n",
       "\u001b[1;31mDocstring:\u001b[0m      Implement delattr(self, name).\n"
      ]
     },
     "metadata": {},
     "output_type": "display_data"
    }
   ],
   "source": [
    "\n",
    "p.__delattr__?"
   ]
  },
  {
   "cell_type": "code",
   "execution_count": 27,
   "metadata": {},
   "outputs": [
    {
     "data": {
      "text/plain": [
       "\u001b[1;31mSignature:\u001b[0m      \u001b[0mp\u001b[0m\u001b[1;33m.\u001b[0m\u001b[0m__eq__\u001b[0m\u001b[1;33m(\u001b[0m\u001b[0mvalue\u001b[0m\u001b[1;33m,\u001b[0m \u001b[1;33m/\u001b[0m\u001b[1;33m)\u001b[0m\u001b[1;33m\u001b[0m\u001b[1;33m\u001b[0m\u001b[0m\n",
       "\u001b[1;31mCall signature:\u001b[0m \u001b[0mp\u001b[0m\u001b[1;33m.\u001b[0m\u001b[0m__eq__\u001b[0m\u001b[1;33m(\u001b[0m\u001b[1;33m*\u001b[0m\u001b[0margs\u001b[0m\u001b[1;33m,\u001b[0m \u001b[1;33m**\u001b[0m\u001b[0mkwargs\u001b[0m\u001b[1;33m)\u001b[0m\u001b[1;33m\u001b[0m\u001b[1;33m\u001b[0m\u001b[0m\n",
       "\u001b[1;31mType:\u001b[0m           method-wrapper\n",
       "\u001b[1;31mString form:\u001b[0m    <method-wrapper '__eq__' of Pocket object at 0x00000240F50C6240>\n",
       "\u001b[1;31mDocstring:\u001b[0m      Return self==value.\n"
      ]
     },
     "metadata": {},
     "output_type": "display_data"
    }
   ],
   "source": [
    "\n",
    "p.__eq__?"
   ]
  },
  {
   "cell_type": "code",
   "execution_count": 28,
   "metadata": {},
   "outputs": [
    {
     "data": {
      "text/plain": [
       "\u001b[1;31mDocstring:\u001b[0m default object formatter\n",
       "\u001b[1;31mType:\u001b[0m      builtin_function_or_method\n"
      ]
     },
     "metadata": {},
     "output_type": "display_data"
    }
   ],
   "source": [
    "\n",
    "p.__format__?"
   ]
  },
  {
   "cell_type": "code",
   "execution_count": 29,
   "metadata": {},
   "outputs": [
    {
     "data": {
      "text/plain": [
       "\u001b[1;31mSignature:\u001b[0m      \u001b[0mp\u001b[0m\u001b[1;33m.\u001b[0m\u001b[0m__ge__\u001b[0m\u001b[1;33m(\u001b[0m\u001b[0mvalue\u001b[0m\u001b[1;33m,\u001b[0m \u001b[1;33m/\u001b[0m\u001b[1;33m)\u001b[0m\u001b[1;33m\u001b[0m\u001b[1;33m\u001b[0m\u001b[0m\n",
       "\u001b[1;31mCall signature:\u001b[0m \u001b[0mp\u001b[0m\u001b[1;33m.\u001b[0m\u001b[0m__ge__\u001b[0m\u001b[1;33m(\u001b[0m\u001b[1;33m*\u001b[0m\u001b[0margs\u001b[0m\u001b[1;33m,\u001b[0m \u001b[1;33m**\u001b[0m\u001b[0mkwargs\u001b[0m\u001b[1;33m)\u001b[0m\u001b[1;33m\u001b[0m\u001b[1;33m\u001b[0m\u001b[0m\n",
       "\u001b[1;31mType:\u001b[0m           method-wrapper\n",
       "\u001b[1;31mString form:\u001b[0m    <method-wrapper '__ge__' of Pocket object at 0x00000240F50C6240>\n",
       "\u001b[1;31mDocstring:\u001b[0m      Return self>=value.\n"
      ]
     },
     "metadata": {},
     "output_type": "display_data"
    }
   ],
   "source": [
    "\n",
    "p.__ge__?"
   ]
  },
  {
   "cell_type": "code",
   "execution_count": 30,
   "metadata": {},
   "outputs": [
    {
     "data": {
      "text/plain": [
       "\u001b[1;31mSignature:\u001b[0m      \u001b[0mp\u001b[0m\u001b[1;33m.\u001b[0m\u001b[0m__getattribute__\u001b[0m\u001b[1;33m(\u001b[0m\u001b[0mname\u001b[0m\u001b[1;33m,\u001b[0m \u001b[1;33m/\u001b[0m\u001b[1;33m)\u001b[0m\u001b[1;33m\u001b[0m\u001b[1;33m\u001b[0m\u001b[0m\n",
       "\u001b[1;31mCall signature:\u001b[0m \u001b[0mp\u001b[0m\u001b[1;33m.\u001b[0m\u001b[0m__getattribute__\u001b[0m\u001b[1;33m(\u001b[0m\u001b[1;33m*\u001b[0m\u001b[0margs\u001b[0m\u001b[1;33m,\u001b[0m \u001b[1;33m**\u001b[0m\u001b[0mkwargs\u001b[0m\u001b[1;33m)\u001b[0m\u001b[1;33m\u001b[0m\u001b[1;33m\u001b[0m\u001b[0m\n",
       "\u001b[1;31mType:\u001b[0m           method-wrapper\n",
       "\u001b[1;31mString form:\u001b[0m    <method-wrapper '__getattribute__' of Pocket object at 0x00000240F50C6240>\n",
       "\u001b[1;31mDocstring:\u001b[0m      Return getattr(self, name).\n"
      ]
     },
     "metadata": {},
     "output_type": "display_data"
    }
   ],
   "source": [
    "\n",
    "p.__getattribute__?"
   ]
  },
  {
   "cell_type": "code",
   "execution_count": 31,
   "metadata": {},
   "outputs": [
    {
     "data": {
      "text/plain": [
       "\u001b[1;31mSignature:\u001b[0m      \u001b[0mp\u001b[0m\u001b[1;33m.\u001b[0m\u001b[0m__gt__\u001b[0m\u001b[1;33m(\u001b[0m\u001b[0mvalue\u001b[0m\u001b[1;33m,\u001b[0m \u001b[1;33m/\u001b[0m\u001b[1;33m)\u001b[0m\u001b[1;33m\u001b[0m\u001b[1;33m\u001b[0m\u001b[0m\n",
       "\u001b[1;31mCall signature:\u001b[0m \u001b[0mp\u001b[0m\u001b[1;33m.\u001b[0m\u001b[0m__gt__\u001b[0m\u001b[1;33m(\u001b[0m\u001b[1;33m*\u001b[0m\u001b[0margs\u001b[0m\u001b[1;33m,\u001b[0m \u001b[1;33m**\u001b[0m\u001b[0mkwargs\u001b[0m\u001b[1;33m)\u001b[0m\u001b[1;33m\u001b[0m\u001b[1;33m\u001b[0m\u001b[0m\n",
       "\u001b[1;31mType:\u001b[0m           method-wrapper\n",
       "\u001b[1;31mString form:\u001b[0m    <method-wrapper '__gt__' of Pocket object at 0x00000240F50C6240>\n",
       "\u001b[1;31mDocstring:\u001b[0m      Return self>value.\n"
      ]
     },
     "metadata": {},
     "output_type": "display_data"
    }
   ],
   "source": [
    "\n",
    "p.__gt__?"
   ]
  },
  {
   "cell_type": "code",
   "execution_count": 32,
   "metadata": {},
   "outputs": [
    {
     "data": {
      "text/plain": [
       "\u001b[1;31mSignature:\u001b[0m \u001b[0mp\u001b[0m\u001b[1;33m.\u001b[0m\u001b[0m__init__\u001b[0m\u001b[1;33m(\u001b[0m\u001b[0mconsumer_key\u001b[0m\u001b[1;33m,\u001b[0m \u001b[0maccess_token\u001b[0m\u001b[1;33m=\u001b[0m\u001b[1;32mNone\u001b[0m\u001b[1;33m)\u001b[0m\u001b[1;33m\u001b[0m\u001b[1;33m\u001b[0m\u001b[0m\n",
       "\u001b[1;31mDocstring:\u001b[0m Initialize self.  See help(type(self)) for accurate signature.\n",
       "\u001b[1;31mFile:\u001b[0m      c:\\users\\dev\\anaconda3\\lib\\site-packages\\pocket\\__init__.py\n",
       "\u001b[1;31mType:\u001b[0m      method\n"
      ]
     },
     "metadata": {},
     "output_type": "display_data"
    }
   ],
   "source": [
    "\n",
    "p.__init__?"
   ]
  },
  {
   "cell_type": "code",
   "execution_count": 33,
   "metadata": {},
   "outputs": [
    {
     "data": {
      "text/plain": [
       "\u001b[1;31mSignature:\u001b[0m      \u001b[0mp\u001b[0m\u001b[1;33m.\u001b[0m\u001b[0m__le__\u001b[0m\u001b[1;33m(\u001b[0m\u001b[0mvalue\u001b[0m\u001b[1;33m,\u001b[0m \u001b[1;33m/\u001b[0m\u001b[1;33m)\u001b[0m\u001b[1;33m\u001b[0m\u001b[1;33m\u001b[0m\u001b[0m\n",
       "\u001b[1;31mCall signature:\u001b[0m \u001b[0mp\u001b[0m\u001b[1;33m.\u001b[0m\u001b[0m__le__\u001b[0m\u001b[1;33m(\u001b[0m\u001b[1;33m*\u001b[0m\u001b[0margs\u001b[0m\u001b[1;33m,\u001b[0m \u001b[1;33m**\u001b[0m\u001b[0mkwargs\u001b[0m\u001b[1;33m)\u001b[0m\u001b[1;33m\u001b[0m\u001b[1;33m\u001b[0m\u001b[0m\n",
       "\u001b[1;31mType:\u001b[0m           method-wrapper\n",
       "\u001b[1;31mString form:\u001b[0m    <method-wrapper '__le__' of Pocket object at 0x00000240F50C6240>\n",
       "\u001b[1;31mDocstring:\u001b[0m      Return self<=value.\n"
      ]
     },
     "metadata": {},
     "output_type": "display_data"
    }
   ],
   "source": [
    "\n",
    "p.__le__?"
   ]
  },
  {
   "cell_type": "code",
   "execution_count": 34,
   "metadata": {},
   "outputs": [
    {
     "data": {
      "text/plain": [
       "\u001b[1;31mSignature:\u001b[0m      \u001b[0mp\u001b[0m\u001b[1;33m.\u001b[0m\u001b[0m__lt__\u001b[0m\u001b[1;33m(\u001b[0m\u001b[0mvalue\u001b[0m\u001b[1;33m,\u001b[0m \u001b[1;33m/\u001b[0m\u001b[1;33m)\u001b[0m\u001b[1;33m\u001b[0m\u001b[1;33m\u001b[0m\u001b[0m\n",
       "\u001b[1;31mCall signature:\u001b[0m \u001b[0mp\u001b[0m\u001b[1;33m.\u001b[0m\u001b[0m__lt__\u001b[0m\u001b[1;33m(\u001b[0m\u001b[1;33m*\u001b[0m\u001b[0margs\u001b[0m\u001b[1;33m,\u001b[0m \u001b[1;33m**\u001b[0m\u001b[0mkwargs\u001b[0m\u001b[1;33m)\u001b[0m\u001b[1;33m\u001b[0m\u001b[1;33m\u001b[0m\u001b[0m\n",
       "\u001b[1;31mType:\u001b[0m           method-wrapper\n",
       "\u001b[1;31mString form:\u001b[0m    <method-wrapper '__lt__' of Pocket object at 0x00000240F50C6240>\n",
       "\u001b[1;31mDocstring:\u001b[0m      Return self<value.\n"
      ]
     },
     "metadata": {},
     "output_type": "display_data"
    }
   ],
   "source": [
    "\n",
    "p.__lt__?"
   ]
  },
  {
   "cell_type": "code",
   "execution_count": 35,
   "metadata": {},
   "outputs": [
    {
     "data": {
      "text/plain": [
       "\u001b[1;31mSignature:\u001b[0m      \u001b[0mp\u001b[0m\u001b[1;33m.\u001b[0m\u001b[0m__ne__\u001b[0m\u001b[1;33m(\u001b[0m\u001b[0mvalue\u001b[0m\u001b[1;33m,\u001b[0m \u001b[1;33m/\u001b[0m\u001b[1;33m)\u001b[0m\u001b[1;33m\u001b[0m\u001b[1;33m\u001b[0m\u001b[0m\n",
       "\u001b[1;31mCall signature:\u001b[0m \u001b[0mp\u001b[0m\u001b[1;33m.\u001b[0m\u001b[0m__ne__\u001b[0m\u001b[1;33m(\u001b[0m\u001b[1;33m*\u001b[0m\u001b[0margs\u001b[0m\u001b[1;33m,\u001b[0m \u001b[1;33m**\u001b[0m\u001b[0mkwargs\u001b[0m\u001b[1;33m)\u001b[0m\u001b[1;33m\u001b[0m\u001b[1;33m\u001b[0m\u001b[0m\n",
       "\u001b[1;31mType:\u001b[0m           method-wrapper\n",
       "\u001b[1;31mString form:\u001b[0m    <method-wrapper '__ne__' of Pocket object at 0x00000240F50C6240>\n",
       "\u001b[1;31mDocstring:\u001b[0m      Return self!=value.\n"
      ]
     },
     "metadata": {},
     "output_type": "display_data"
    }
   ],
   "source": [
    "\n",
    "p.__ne__?"
   ]
  },
  {
   "cell_type": "code",
   "execution_count": 36,
   "metadata": {},
   "outputs": [
    {
     "data": {
      "text/plain": [
       "\u001b[1;31mSignature:\u001b[0m \u001b[0mp\u001b[0m\u001b[1;33m.\u001b[0m\u001b[0m__new__\u001b[0m\u001b[1;33m(\u001b[0m\u001b[1;33m*\u001b[0m\u001b[0margs\u001b[0m\u001b[1;33m,\u001b[0m \u001b[1;33m**\u001b[0m\u001b[0mkwargs\u001b[0m\u001b[1;33m)\u001b[0m\u001b[1;33m\u001b[0m\u001b[1;33m\u001b[0m\u001b[0m\n",
       "\u001b[1;31mDocstring:\u001b[0m Create and return a new object.  See help(type) for accurate signature.\n",
       "\u001b[1;31mType:\u001b[0m      builtin_function_or_method\n"
      ]
     },
     "metadata": {},
     "output_type": "display_data"
    }
   ],
   "source": [
    "\n",
    "p.__new__?"
   ]
  },
  {
   "cell_type": "code",
   "execution_count": 37,
   "metadata": {},
   "outputs": [
    {
     "data": {
      "text/plain": [
       "\u001b[1;31mSignature:\u001b[0m      \u001b[0mp\u001b[0m\u001b[1;33m.\u001b[0m\u001b[0m__setattr__\u001b[0m\u001b[1;33m(\u001b[0m\u001b[0mname\u001b[0m\u001b[1;33m,\u001b[0m \u001b[0mvalue\u001b[0m\u001b[1;33m,\u001b[0m \u001b[1;33m/\u001b[0m\u001b[1;33m)\u001b[0m\u001b[1;33m\u001b[0m\u001b[1;33m\u001b[0m\u001b[0m\n",
       "\u001b[1;31mCall signature:\u001b[0m \u001b[0mp\u001b[0m\u001b[1;33m.\u001b[0m\u001b[0m__setattr__\u001b[0m\u001b[1;33m(\u001b[0m\u001b[1;33m*\u001b[0m\u001b[0margs\u001b[0m\u001b[1;33m,\u001b[0m \u001b[1;33m**\u001b[0m\u001b[0mkwargs\u001b[0m\u001b[1;33m)\u001b[0m\u001b[1;33m\u001b[0m\u001b[1;33m\u001b[0m\u001b[0m\n",
       "\u001b[1;31mType:\u001b[0m           method-wrapper\n",
       "\u001b[1;31mString form:\u001b[0m    <method-wrapper '__setattr__' of Pocket object at 0x00000240F50C6240>\n",
       "\u001b[1;31mDocstring:\u001b[0m      Implement setattr(self, name, value).\n"
      ]
     },
     "metadata": {},
     "output_type": "display_data"
    }
   ],
   "source": [
    "\n",
    "p.__setattr__?"
   ]
  },
  {
   "cell_type": "code",
   "execution_count": 38,
   "metadata": {},
   "outputs": [
    {
     "data": {
      "text/plain": [
       "\u001b[1;31mSignature:\u001b[0m \u001b[0mp\u001b[0m\u001b[1;33m.\u001b[0m\u001b[0m_add_action\u001b[0m\u001b[1;33m(\u001b[0m\u001b[0maction\u001b[0m\u001b[1;33m)\u001b[0m\u001b[1;33m\u001b[0m\u001b[1;33m\u001b[0m\u001b[0m\n",
       "\u001b[1;31mDocstring:\u001b[0m\n",
       "Register an action into bulk\n",
       ":param action: action name\n",
       "\u001b[1;31mFile:\u001b[0m      c:\\users\\dev\\anaconda3\\lib\\site-packages\\pocket\\__init__.py\n",
       "\u001b[1;31mType:\u001b[0m      method\n"
      ]
     },
     "metadata": {},
     "output_type": "display_data"
    }
   ],
   "source": [
    "\n",
    "p._add_action?"
   ]
  },
  {
   "cell_type": "code",
   "execution_count": 39,
   "metadata": {},
   "outputs": [
    {
     "data": {
      "text/plain": [
       "\u001b[1;31mSignature:\u001b[0m \u001b[0mp\u001b[0m\u001b[1;33m.\u001b[0m\u001b[0m_get_url\u001b[0m\u001b[1;33m(\u001b[0m\u001b[0muri\u001b[0m\u001b[1;33m)\u001b[0m\u001b[1;33m\u001b[0m\u001b[1;33m\u001b[0m\u001b[0m\n",
       "\u001b[1;31mDocstring:\u001b[0m\n",
       "Construct the request URL\n",
       ":param uri: the required URI\n",
       ":return: The full URL\n",
       ":rtype: str\n",
       "\u001b[1;31mFile:\u001b[0m      c:\\users\\dev\\anaconda3\\lib\\site-packages\\pocket\\__init__.py\n",
       "\u001b[1;31mType:\u001b[0m      method\n"
      ]
     },
     "metadata": {},
     "output_type": "display_data"
    }
   ],
   "source": [
    "\n",
    "p._get_url?"
   ]
  },
  {
   "cell_type": "code",
   "execution_count": 40,
   "metadata": {},
   "outputs": [
    {
     "data": {
      "text/plain": [
       "\u001b[1;31mSignature:\u001b[0m \u001b[0mp\u001b[0m\u001b[1;33m.\u001b[0m\u001b[0m_make_exception\u001b[0m\u001b[1;33m(\u001b[0m\u001b[0mresponse\u001b[0m\u001b[1;33m)\u001b[0m\u001b[1;33m\u001b[0m\u001b[1;33m\u001b[0m\u001b[0m\n",
       "\u001b[1;31mDocstring:\u001b[0m\n",
       "In case of exception, construct the exception\n",
       "object that holds all important values returned by\n",
       "the response.\n",
       ":return: The exception instance\n",
       ":rtype: PocketException\n",
       "\u001b[1;31mFile:\u001b[0m      c:\\users\\dev\\anaconda3\\lib\\site-packages\\pocket\\__init__.py\n",
       "\u001b[1;31mType:\u001b[0m      method\n"
      ]
     },
     "metadata": {},
     "output_type": "display_data"
    }
   ],
   "source": [
    "\n",
    "p._make_exception?"
   ]
  },
  {
   "cell_type": "code",
   "execution_count": 41,
   "metadata": {},
   "outputs": [
    {
     "data": {
      "text/plain": [
       "\u001b[1;31mSignature:\u001b[0m \u001b[0mp\u001b[0m\u001b[1;33m.\u001b[0m\u001b[0m_make_request\u001b[0m\u001b[1;33m(\u001b[0m\u001b[0maction\u001b[0m\u001b[1;33m)\u001b[0m\u001b[1;33m\u001b[0m\u001b[1;33m\u001b[0m\u001b[0m\n",
       "\u001b[1;31mDocstring:\u001b[0m\n",
       "Perform the request\n",
       ":param action: action name\n",
       ":return: a dict containing the request result\n",
       ":rtype: dict\n",
       "\u001b[1;31mFile:\u001b[0m      c:\\users\\dev\\anaconda3\\lib\\site-packages\\pocket\\__init__.py\n",
       "\u001b[1;31mType:\u001b[0m      method\n"
      ]
     },
     "metadata": {},
     "output_type": "display_data"
    }
   ],
   "source": [
    "\n",
    "p._make_request?"
   ]
  },
  {
   "cell_type": "code",
   "execution_count": 42,
   "metadata": {},
   "outputs": [
    {
     "data": {
      "text/plain": [
       "\u001b[1;31mSignature:\u001b[0m \u001b[0mp\u001b[0m\u001b[1;33m.\u001b[0m\u001b[0madd\u001b[0m\u001b[1;33m(\u001b[0m\u001b[0murl\u001b[0m\u001b[1;33m,\u001b[0m \u001b[0mtitle\u001b[0m\u001b[1;33m=\u001b[0m\u001b[1;32mNone\u001b[0m\u001b[1;33m,\u001b[0m \u001b[0mtags\u001b[0m\u001b[1;33m=\u001b[0m\u001b[1;32mNone\u001b[0m\u001b[1;33m,\u001b[0m \u001b[0mtweet_id\u001b[0m\u001b[1;33m=\u001b[0m\u001b[1;32mNone\u001b[0m\u001b[1;33m)\u001b[0m\u001b[1;33m\u001b[0m\u001b[1;33m\u001b[0m\u001b[0m\n",
       "\u001b[1;31mDocstring:\u001b[0m\n",
       "Add a URL to pocket\n",
       "See: https://getpocket.com/developer/docs/v3/add\n",
       ":param url: The url to add\n",
       ":param title: given title\n",
       ":param tags: A list of tags\n",
       ":param tweet_id: for tweet attribution\n",
       ":return: A dictionary containing the response result\n",
       ":rtype: dict\n",
       "\u001b[1;31mFile:\u001b[0m      c:\\users\\dev\\anaconda3\\lib\\site-packages\\pocket\\__init__.py\n",
       "\u001b[1;31mType:\u001b[0m      method\n"
      ]
     },
     "metadata": {},
     "output_type": "display_data"
    }
   ],
   "source": [
    "\n",
    "p.add?"
   ]
  },
  {
   "cell_type": "code",
   "execution_count": 43,
   "metadata": {},
   "outputs": [
    {
     "data": {
      "text/plain": [
       "\u001b[1;31mSignature:\u001b[0m \u001b[0mp\u001b[0m\u001b[1;33m.\u001b[0m\u001b[0marchive\u001b[0m\u001b[1;33m(\u001b[0m\u001b[0mitem_id\u001b[0m\u001b[1;33m,\u001b[0m \u001b[0mtime\u001b[0m\u001b[1;33m=\u001b[0m\u001b[1;32mNone\u001b[0m\u001b[1;33m)\u001b[0m\u001b[1;33m\u001b[0m\u001b[1;33m\u001b[0m\u001b[0m\n",
       "\u001b[1;31mDocstring:\u001b[0m\n",
       "Archive item\n",
       "See: https://getpocket.com/developer/docs/v3/modify\n",
       ":param item_id: int\n",
       ":param time: time of action\n",
       ":return: self for chaining\n",
       ":rtype: Pocket\n",
       "\u001b[1;31mFile:\u001b[0m      c:\\users\\dev\\anaconda3\\lib\\site-packages\\pocket\\__init__.py\n",
       "\u001b[1;31mType:\u001b[0m      method\n"
      ]
     },
     "metadata": {},
     "output_type": "display_data"
    }
   ],
   "source": [
    "\n",
    "p.archive?"
   ]
  },
  {
   "cell_type": "code",
   "execution_count": 44,
   "metadata": {},
   "outputs": [
    {
     "data": {
      "text/plain": [
       "\u001b[1;31mSignature:\u001b[0m\n",
       "\u001b[0mp\u001b[0m\u001b[1;33m.\u001b[0m\u001b[0mbulk_add\u001b[0m\u001b[1;33m(\u001b[0m\u001b[1;33m\n",
       "\u001b[0m    \u001b[0mitem_id\u001b[0m\u001b[1;33m,\u001b[0m\u001b[1;33m\n",
       "\u001b[0m    \u001b[0mref_id\u001b[0m\u001b[1;33m=\u001b[0m\u001b[1;32mNone\u001b[0m\u001b[1;33m,\u001b[0m\u001b[1;33m\n",
       "\u001b[0m    \u001b[0mtags\u001b[0m\u001b[1;33m=\u001b[0m\u001b[1;32mNone\u001b[0m\u001b[1;33m,\u001b[0m\u001b[1;33m\n",
       "\u001b[0m    \u001b[0mtime\u001b[0m\u001b[1;33m=\u001b[0m\u001b[1;32mNone\u001b[0m\u001b[1;33m,\u001b[0m\u001b[1;33m\n",
       "\u001b[0m    \u001b[0mtitle\u001b[0m\u001b[1;33m=\u001b[0m\u001b[1;32mNone\u001b[0m\u001b[1;33m,\u001b[0m\u001b[1;33m\n",
       "\u001b[0m    \u001b[0murl\u001b[0m\u001b[1;33m=\u001b[0m\u001b[1;32mNone\u001b[0m\u001b[1;33m,\u001b[0m\u001b[1;33m\n",
       "\u001b[0m\u001b[1;33m)\u001b[0m\u001b[1;33m\u001b[0m\u001b[1;33m\u001b[0m\u001b[0m\n",
       "\u001b[1;31mDocstring:\u001b[0m\n",
       "Add an item to list\n",
       "See: https://getpocket.com/developer/docs/v3/modify\n",
       ":param item_id: int\n",
       ":param ref_id: tweet_id\n",
       ":param tags: list of tags\n",
       ":param time: time of action\n",
       ":param title: given title\n",
       ":param url: item url\n",
       ":return: self for chaining\n",
       ":rtype: Pocket\n",
       "\u001b[1;31mFile:\u001b[0m      c:\\users\\dev\\anaconda3\\lib\\site-packages\\pocket\\__init__.py\n",
       "\u001b[1;31mType:\u001b[0m      method\n"
      ]
     },
     "metadata": {},
     "output_type": "display_data"
    }
   ],
   "source": [
    "\n",
    "p.bulk_add?"
   ]
  },
  {
   "cell_type": "code",
   "execution_count": 45,
   "metadata": {},
   "outputs": [
    {
     "data": {
      "text/plain": [
       "\u001b[1;31mSignature:\u001b[0m \u001b[0mp\u001b[0m\u001b[1;33m.\u001b[0m\u001b[0mdelete\u001b[0m\u001b[1;33m(\u001b[0m\u001b[0mitem_id\u001b[0m\u001b[1;33m,\u001b[0m \u001b[0mtime\u001b[0m\u001b[1;33m=\u001b[0m\u001b[1;32mNone\u001b[0m\u001b[1;33m)\u001b[0m\u001b[1;33m\u001b[0m\u001b[1;33m\u001b[0m\u001b[0m\n",
       "\u001b[1;31mDocstring:\u001b[0m\n",
       "Delete item\n",
       "See: https://getpocket.com/developer/docs/v3/modify\n",
       ":param item_id: int\n",
       ":param time: time of action\n",
       ":return: self for chaining\n",
       ":rtype: Pocket\n",
       "\u001b[1;31mFile:\u001b[0m      c:\\users\\dev\\anaconda3\\lib\\site-packages\\pocket\\__init__.py\n",
       "\u001b[1;31mType:\u001b[0m      method\n"
      ]
     },
     "metadata": {},
     "output_type": "display_data"
    }
   ],
   "source": [
    "\n",
    "p.delete?"
   ]
  },
  {
   "cell_type": "code",
   "execution_count": 46,
   "metadata": {},
   "outputs": [
    {
     "data": {
      "text/plain": [
       "\u001b[1;31mSignature:\u001b[0m \u001b[0mp\u001b[0m\u001b[1;33m.\u001b[0m\u001b[0mfavorite\u001b[0m\u001b[1;33m(\u001b[0m\u001b[0mitem_id\u001b[0m\u001b[1;33m,\u001b[0m \u001b[0mtime\u001b[0m\u001b[1;33m=\u001b[0m\u001b[1;32mNone\u001b[0m\u001b[1;33m)\u001b[0m\u001b[1;33m\u001b[0m\u001b[1;33m\u001b[0m\u001b[0m\n",
       "\u001b[1;31mDocstring:\u001b[0m\n",
       "Favorite item\n",
       "See: https://getpocket.com/developer/docs/v3/modify\n",
       ":param item_id: int\n",
       ":param time: time of action\n",
       ":return: self for chaining\n",
       ":rtype: Pocket\n",
       "\u001b[1;31mFile:\u001b[0m      c:\\users\\dev\\anaconda3\\lib\\site-packages\\pocket\\__init__.py\n",
       "\u001b[1;31mType:\u001b[0m      method\n"
      ]
     },
     "metadata": {},
     "output_type": "display_data"
    }
   ],
   "source": [
    "\n",
    "p.favorite?"
   ]
  },
  {
   "cell_type": "code",
   "execution_count": 47,
   "metadata": {},
   "outputs": [
    {
     "data": {
      "text/plain": [
       "\u001b[1;31mSignature:\u001b[0m \u001b[0mp\u001b[0m\u001b[1;33m.\u001b[0m\u001b[0mget_access_token\u001b[0m\u001b[1;33m(\u001b[0m\u001b[0mrequest_token\u001b[0m\u001b[1;33m)\u001b[0m\u001b[1;33m\u001b[0m\u001b[1;33m\u001b[0m\u001b[0m\n",
       "\u001b[1;31mDocstring:\u001b[0m <no docstring>\n",
       "\u001b[1;31mFile:\u001b[0m      c:\\users\\dev\\anaconda3\\lib\\site-packages\\pocket\\__init__.py\n",
       "\u001b[1;31mType:\u001b[0m      method\n"
      ]
     },
     "metadata": {},
     "output_type": "display_data"
    }
   ],
   "source": [
    "\n",
    "p.get_access_token?"
   ]
  },
  {
   "cell_type": "code",
   "execution_count": 48,
   "metadata": {},
   "outputs": [
    {
     "data": {
      "text/plain": [
       "\u001b[1;31mSignature:\u001b[0m \u001b[0mp\u001b[0m\u001b[1;33m.\u001b[0m\u001b[0mget_request_token\u001b[0m\u001b[1;33m(\u001b[0m\u001b[0mredirect_url\u001b[0m\u001b[1;33m)\u001b[0m\u001b[1;33m\u001b[0m\u001b[1;33m\u001b[0m\u001b[0m\n",
       "\u001b[1;31mDocstring:\u001b[0m <no docstring>\n",
       "\u001b[1;31mFile:\u001b[0m      c:\\users\\dev\\anaconda3\\lib\\site-packages\\pocket\\__init__.py\n",
       "\u001b[1;31mType:\u001b[0m      method\n"
      ]
     },
     "metadata": {},
     "output_type": "display_data"
    }
   ],
   "source": [
    "\n",
    "p.get_request_token?"
   ]
  },
  {
   "cell_type": "code",
   "execution_count": 49,
   "metadata": {},
   "outputs": [
    {
     "data": {
      "text/plain": [
       "\u001b[1;31mSignature:\u001b[0m \u001b[0mp\u001b[0m\u001b[1;33m.\u001b[0m\u001b[0mget_user_profile\u001b[0m\u001b[1;33m(\u001b[0m\u001b[0mrequest_token\u001b[0m\u001b[1;33m)\u001b[0m\u001b[1;33m\u001b[0m\u001b[1;33m\u001b[0m\u001b[0m\n",
       "\u001b[1;31mDocstring:\u001b[0m <no docstring>\n",
       "\u001b[1;31mFile:\u001b[0m      c:\\users\\dev\\anaconda3\\lib\\site-packages\\pocket\\__init__.py\n",
       "\u001b[1;31mType:\u001b[0m      method\n"
      ]
     },
     "metadata": {},
     "output_type": "display_data"
    }
   ],
   "source": [
    "\n",
    "p.get_user_profile?"
   ]
  },
  {
   "cell_type": "code",
   "execution_count": 50,
   "metadata": {},
   "outputs": [
    {
     "data": {
      "text/plain": [
       "\u001b[1;31mSignature:\u001b[0m \u001b[0mp\u001b[0m\u001b[1;33m.\u001b[0m\u001b[0mreadd\u001b[0m\u001b[1;33m(\u001b[0m\u001b[0mitem_id\u001b[0m\u001b[1;33m,\u001b[0m \u001b[0mtime\u001b[0m\u001b[1;33m=\u001b[0m\u001b[1;32mNone\u001b[0m\u001b[1;33m)\u001b[0m\u001b[1;33m\u001b[0m\u001b[1;33m\u001b[0m\u001b[0m\n",
       "\u001b[1;31mDocstring:\u001b[0m\n",
       "Re-add item\n",
       "See: https://getpocket.com/developer/docs/v3/modify\n",
       ":param item_id: int\n",
       ":param time: time of action\n",
       ":return: self for chaining\n",
       ":rtype: Pocket\n",
       "\u001b[1;31mFile:\u001b[0m      c:\\users\\dev\\anaconda3\\lib\\site-packages\\pocket\\__init__.py\n",
       "\u001b[1;31mType:\u001b[0m      method\n"
      ]
     },
     "metadata": {},
     "output_type": "display_data"
    }
   ],
   "source": [
    "\n",
    "p.readd?"
   ]
  },
  {
   "cell_type": "code",
   "execution_count": 51,
   "metadata": {},
   "outputs": [
    {
     "data": {
      "text/plain": [
       "\u001b[1;31mSignature:\u001b[0m\n",
       "\u001b[0mp\u001b[0m\u001b[1;33m.\u001b[0m\u001b[0mretrieve\u001b[0m\u001b[1;33m(\u001b[0m\u001b[1;33m\n",
       "\u001b[0m    \u001b[0mstate\u001b[0m\u001b[1;33m=\u001b[0m\u001b[1;32mNone\u001b[0m\u001b[1;33m,\u001b[0m\u001b[1;33m\n",
       "\u001b[0m    \u001b[0mfavorite\u001b[0m\u001b[1;33m=\u001b[0m\u001b[1;32mNone\u001b[0m\u001b[1;33m,\u001b[0m\u001b[1;33m\n",
       "\u001b[0m    \u001b[0mtag\u001b[0m\u001b[1;33m=\u001b[0m\u001b[1;32mNone\u001b[0m\u001b[1;33m,\u001b[0m\u001b[1;33m\n",
       "\u001b[0m    \u001b[0mcontentType\u001b[0m\u001b[1;33m=\u001b[0m\u001b[1;32mNone\u001b[0m\u001b[1;33m,\u001b[0m\u001b[1;33m\n",
       "\u001b[0m    \u001b[0msort\u001b[0m\u001b[1;33m=\u001b[0m\u001b[1;32mNone\u001b[0m\u001b[1;33m,\u001b[0m\u001b[1;33m\n",
       "\u001b[0m    \u001b[0mdetailType\u001b[0m\u001b[1;33m=\u001b[0m\u001b[1;32mNone\u001b[0m\u001b[1;33m,\u001b[0m\u001b[1;33m\n",
       "\u001b[0m    \u001b[0msearch\u001b[0m\u001b[1;33m=\u001b[0m\u001b[1;32mNone\u001b[0m\u001b[1;33m,\u001b[0m\u001b[1;33m\n",
       "\u001b[0m    \u001b[0mdomain\u001b[0m\u001b[1;33m=\u001b[0m\u001b[1;32mNone\u001b[0m\u001b[1;33m,\u001b[0m\u001b[1;33m\n",
       "\u001b[0m    \u001b[0msince\u001b[0m\u001b[1;33m=\u001b[0m\u001b[1;32mNone\u001b[0m\u001b[1;33m,\u001b[0m\u001b[1;33m\n",
       "\u001b[0m    \u001b[0mcount\u001b[0m\u001b[1;33m=\u001b[0m\u001b[1;32mNone\u001b[0m\u001b[1;33m,\u001b[0m\u001b[1;33m\n",
       "\u001b[0m    \u001b[0moffset\u001b[0m\u001b[1;33m=\u001b[0m\u001b[1;32mNone\u001b[0m\u001b[1;33m,\u001b[0m\u001b[1;33m\n",
       "\u001b[0m\u001b[1;33m)\u001b[0m\u001b[1;33m\u001b[0m\u001b[1;33m\u001b[0m\u001b[0m\n",
       "\u001b[1;31mDocstring:\u001b[0m\n",
       "Retrieve the list of your articles\n",
       "See: https://getpocket.com/developer/docs/v3/retrieve\n",
       ":param state: filter by state\n",
       ":param favorite: only fetch favorite\n",
       ":param tag: filter by tag or _untagged_\n",
       ":param contentType: get article, video or image\n",
       ":param sort: sort by provided value\n",
       ":param detailType: defines the response details to return\n",
       ":param search: search term\n",
       ":param domain: search domain\n",
       ":param since: search modified since unix timestamp\n",
       ":param count: the number of required items\n",
       ":param offset: the position to start results from\n",
       ":return: A dictionary containing the response result\n",
       ":rtype: dict\n",
       "\u001b[1;31mFile:\u001b[0m      c:\\users\\dev\\anaconda3\\lib\\site-packages\\pocket\\__init__.py\n",
       "\u001b[1;31mType:\u001b[0m      method\n"
      ]
     },
     "metadata": {},
     "output_type": "display_data"
    }
   ],
   "source": [
    "\n",
    "p.retrieve?"
   ]
  },
  {
   "cell_type": "code",
   "execution_count": 52,
   "metadata": {},
   "outputs": [
    {
     "data": {
      "text/plain": [
       "\u001b[1;31mSignature:\u001b[0m \u001b[0mp\u001b[0m\u001b[1;33m.\u001b[0m\u001b[0mtag_rename\u001b[0m\u001b[1;33m(\u001b[0m\u001b[0mold_tag\u001b[0m\u001b[1;33m,\u001b[0m \u001b[0mnew_tag\u001b[0m\u001b[1;33m,\u001b[0m \u001b[0mtime\u001b[0m\u001b[1;33m=\u001b[0m\u001b[1;32mNone\u001b[0m\u001b[1;33m)\u001b[0m\u001b[1;33m\u001b[0m\u001b[1;33m\u001b[0m\u001b[0m\n",
       "\u001b[1;31mDocstring:\u001b[0m\n",
       "Rename a tag\n",
       "See: https://getpocket.com/developer/docs/v3/modify\n",
       ":param old_tag: old tag name\n",
       ":param new_tag: new tag name\n",
       ":param time: time of action\n",
       ":return: self for chaining\n",
       ":rtype: Pocket\n",
       "\u001b[1;31mFile:\u001b[0m      c:\\users\\dev\\anaconda3\\lib\\site-packages\\pocket\\__init__.py\n",
       "\u001b[1;31mType:\u001b[0m      method\n"
      ]
     },
     "metadata": {},
     "output_type": "display_data"
    }
   ],
   "source": [
    "\n",
    "p.tag_rename?"
   ]
  },
  {
   "cell_type": "code",
   "execution_count": 53,
   "metadata": {},
   "outputs": [
    {
     "data": {
      "text/plain": [
       "\u001b[1;31mSignature:\u001b[0m \u001b[0mp\u001b[0m\u001b[1;33m.\u001b[0m\u001b[0mtags_add\u001b[0m\u001b[1;33m(\u001b[0m\u001b[0mitem_id\u001b[0m\u001b[1;33m,\u001b[0m \u001b[0mtags\u001b[0m\u001b[1;33m,\u001b[0m \u001b[0mtime\u001b[0m\u001b[1;33m=\u001b[0m\u001b[1;32mNone\u001b[0m\u001b[1;33m)\u001b[0m\u001b[1;33m\u001b[0m\u001b[1;33m\u001b[0m\u001b[0m\n",
       "\u001b[1;31mDocstring:\u001b[0m\n",
       "Add tags to item\n",
       "See: https://getpocket.com/developer/docs/v3/modify\n",
       ":param item_id: int\n",
       ":param tags: list of tags\n",
       ":param time: time of action\n",
       ":return: self for chaining\n",
       ":rtype: Pocket\n",
       "\u001b[1;31mFile:\u001b[0m      c:\\users\\dev\\anaconda3\\lib\\site-packages\\pocket\\__init__.py\n",
       "\u001b[1;31mType:\u001b[0m      method\n"
      ]
     },
     "metadata": {},
     "output_type": "display_data"
    }
   ],
   "source": [
    "\n",
    "p.tags_add?"
   ]
  },
  {
   "cell_type": "code",
   "execution_count": 54,
   "metadata": {},
   "outputs": [
    {
     "data": {
      "text/plain": [
       "\u001b[1;31mSignature:\u001b[0m \u001b[0mp\u001b[0m\u001b[1;33m.\u001b[0m\u001b[0mtags_clear\u001b[0m\u001b[1;33m(\u001b[0m\u001b[0mitem_id\u001b[0m\u001b[1;33m,\u001b[0m \u001b[0mtime\u001b[0m\u001b[1;33m=\u001b[0m\u001b[1;32mNone\u001b[0m\u001b[1;33m)\u001b[0m\u001b[1;33m\u001b[0m\u001b[1;33m\u001b[0m\u001b[0m\n",
       "\u001b[1;31mDocstring:\u001b[0m\n",
       "Clear tags in item\n",
       "See: https://getpocket.com/developer/docs/v3/modify\n",
       ":param item_id: int\n",
       ":param time: time of action\n",
       ":return: self for chaining\n",
       ":rtype: Pocket\n",
       "\u001b[1;31mFile:\u001b[0m      c:\\users\\dev\\anaconda3\\lib\\site-packages\\pocket\\__init__.py\n",
       "\u001b[1;31mType:\u001b[0m      method\n"
      ]
     },
     "metadata": {},
     "output_type": "display_data"
    }
   ],
   "source": [
    "\n",
    "p.tags_clear?"
   ]
  },
  {
   "cell_type": "code",
   "execution_count": 55,
   "metadata": {},
   "outputs": [
    {
     "data": {
      "text/plain": [
       "\u001b[1;31mSignature:\u001b[0m \u001b[0mp\u001b[0m\u001b[1;33m.\u001b[0m\u001b[0mtags_remove\u001b[0m\u001b[1;33m(\u001b[0m\u001b[0mitem_id\u001b[0m\u001b[1;33m,\u001b[0m \u001b[0mtags\u001b[0m\u001b[1;33m,\u001b[0m \u001b[0mtime\u001b[0m\u001b[1;33m=\u001b[0m\u001b[1;32mNone\u001b[0m\u001b[1;33m)\u001b[0m\u001b[1;33m\u001b[0m\u001b[1;33m\u001b[0m\u001b[0m\n",
       "\u001b[1;31mDocstring:\u001b[0m\n",
       "Remove tags in item\n",
       "See: https://getpocket.com/developer/docs/v3/modify\n",
       ":param item_id: int\n",
       ":param tags: list of tags\n",
       ":param time: time of action\n",
       ":return: self for chaining\n",
       ":rtype: Pocket\n",
       "\u001b[1;31mFile:\u001b[0m      c:\\users\\dev\\anaconda3\\lib\\site-packages\\pocket\\__init__.py\n",
       "\u001b[1;31mType:\u001b[0m      method\n"
      ]
     },
     "metadata": {},
     "output_type": "display_data"
    }
   ],
   "source": [
    "\n",
    "p.tags_remove?"
   ]
  },
  {
   "cell_type": "code",
   "execution_count": 56,
   "metadata": {},
   "outputs": [
    {
     "data": {
      "text/plain": [
       "\u001b[1;31mSignature:\u001b[0m \u001b[0mp\u001b[0m\u001b[1;33m.\u001b[0m\u001b[0mtags_replace\u001b[0m\u001b[1;33m(\u001b[0m\u001b[0mitem_id\u001b[0m\u001b[1;33m,\u001b[0m \u001b[0mtags\u001b[0m\u001b[1;33m,\u001b[0m \u001b[0mtime\u001b[0m\u001b[1;33m=\u001b[0m\u001b[1;32mNone\u001b[0m\u001b[1;33m)\u001b[0m\u001b[1;33m\u001b[0m\u001b[1;33m\u001b[0m\u001b[0m\n",
       "\u001b[1;31mDocstring:\u001b[0m\n",
       "Replace tags in item\n",
       "See: https://getpocket.com/developer/docs/v3/modify\n",
       ":param item_id: int\n",
       ":param tags: list of tags\n",
       ":param time: time of action\n",
       ":return: self for chaining\n",
       ":rtype: Pocket\n",
       "\u001b[1;31mFile:\u001b[0m      c:\\users\\dev\\anaconda3\\lib\\site-packages\\pocket\\__init__.py\n",
       "\u001b[1;31mType:\u001b[0m      method\n"
      ]
     },
     "metadata": {},
     "output_type": "display_data"
    }
   ],
   "source": [
    "\n",
    "p.tags_replace?"
   ]
  },
  {
   "cell_type": "code",
   "execution_count": 57,
   "metadata": {},
   "outputs": [
    {
     "data": {
      "text/plain": [
       "\u001b[1;31mSignature:\u001b[0m \u001b[0mp\u001b[0m\u001b[1;33m.\u001b[0m\u001b[0munfavorite\u001b[0m\u001b[1;33m(\u001b[0m\u001b[0mitem_id\u001b[0m\u001b[1;33m,\u001b[0m \u001b[0mtime\u001b[0m\u001b[1;33m=\u001b[0m\u001b[1;32mNone\u001b[0m\u001b[1;33m)\u001b[0m\u001b[1;33m\u001b[0m\u001b[1;33m\u001b[0m\u001b[0m\n",
       "\u001b[1;31mDocstring:\u001b[0m\n",
       "Unfavorite item\n",
       "See: https://getpocket.com/developer/docs/v3/modify\n",
       ":param item_id: int\n",
       ":param time: time of action\n",
       ":return: self for chaining\n",
       ":rtype: Pocket\n",
       "\u001b[1;31mFile:\u001b[0m      c:\\users\\dev\\anaconda3\\lib\\site-packages\\pocket\\__init__.py\n",
       "\u001b[1;31mType:\u001b[0m      method\n"
      ]
     },
     "metadata": {},
     "output_type": "display_data"
    }
   ],
   "source": [
    "\n",
    "p.unfavorite?"
   ]
  },
  {
   "cell_type": "code",
   "execution_count": 59,
   "metadata": {},
   "outputs": [],
   "source": [
    "\n",
    "community_url = r'https://ctb.ku.edu/en/table-of-contents'\n",
    "def get_page_soup(page_url):\n",
    "    with urllib.request.urlopen(page_url) as response:\n",
    "        page_html = response.read()\n",
    "    page_soup = bs(page_html, 'html.parser')\n",
    "    \n",
    "    return page_soup"
   ]
  },
  {
   "cell_type": "code",
   "execution_count": 60,
   "metadata": {},
   "outputs": [],
   "source": [
    "\n",
    "page_soup = get_page_soup(community_url)\n",
    "toc_div_selector = '#block-toc-full-table-of-contents > div'\n",
    "toc_div_soup = page_soup.select(toc_div_selector)[0]\n",
    "chapter_regex = re.compile(r'^Chapter \\d+\\. ')\n",
    "chapter_url_list = []\n",
    "for link in toc_div_soup.select('a'):\n",
    "    if chapter_regex.search(link.text):\n",
    "        chapter_url_list.append(link['href'])"
   ]
  },
  {
   "cell_type": "code",
   "execution_count": 91,
   "metadata": {},
   "outputs": [],
   "source": [
    "\n",
    "section_links_css = 'div.content > div > ul.menu'\n",
    "section_dict = {}\n",
    "section_regex = re.compile(r'^Section \\d+\\. ')\n",
    "for chapter_url in chapter_url_list:\n",
    "    chapter_soup = get_page_soup(chapter_url)\n",
    "    chapter_title = chapter_soup.title.text.split('|')[0].strip()\n",
    "    section_links_soup = chapter_soup.select(section_links_css)[0]\n",
    "    for link in section_links_soup.select('a'):\n",
    "        section_title = link.text\n",
    "        if section_regex.search(section_title):\n",
    "            section_dict['{}, {}'.format(chapter_title, section_title)] = 'https://ctb.ku.edu{}'.format(link['href'])"
   ]
  },
  {
   "cell_type": "code",
   "execution_count": 93,
   "metadata": {},
   "outputs": [],
   "source": [
    "\n",
    "from pathlib import Path\n",
    "\n",
    "tags_list = ['dynasty-startup-kit']\n",
    "section_css_list = ['#block-system-main', 'div.content', 'div.node-chapter-section-content', 'div.content', 'div.field-name-body',\n",
    "                    'div.field-items', 'div.field-item']\n",
    "section_css = ' > '.join(section_css_list)\n",
    "file_path = os.path.join(SAVES_FOLDER, 'txt', 'community_tool.txt')\n",
    "os.makedirs(name=os.path.dirname(file_path), exist_ok=True)\n",
    "Path(file_path).touch()\n",
    "with open(file_path, 'a', encoding='utf-8') as f:\n",
    "    for section_title, section_url in section_dict.items():\n",
    "        section_soup = get_page_soup(section_url)\n",
    "        alternate_title = ', '.join(section_soup.title.text.split(' | ')[:2])\n",
    "        content_soup = section_soup.select(section_css)[0]\n",
    "        print(alternate_title, file=f)\n",
    "        print(content_soup.text, file=f)\n",
    "\n",
    "        # Add an article\n",
    "        #title = ' '.join(chapter_url.split('/')[-1].split('-'))\n",
    "        #p.delete(item_id=chapter_url, time=None)\n",
    "        #p.add(url=section_url, title=section_title, tags=tags_list, tweet_id=None)\n",
    "        #print('p.add(url={}, title={}, tags={}, tweet_id=None)'.format(chapter_url, title, tags_list))\n",
    "\n",
    "# Commit\n",
    "#p.commit()"
   ]
  },
  {
   "cell_type": "code",
   "execution_count": 80,
   "metadata": {},
   "outputs": [
    {
     "data": {
      "text/plain": [
       "'Chapter 1. Our Model for Community Change and Improvement, Section 1. A Community Tool Box Overview and Gateway to the Tools'"
      ]
     },
     "execution_count": 80,
     "metadata": {},
     "output_type": "execute_result"
    }
   ],
   "source": [
    "\n",
    "section_title"
   ]
  }
 ],
 "metadata": {
  "kernelspec": {
   "display_name": "Python 3",
   "language": "python",
   "name": "python3"
  },
  "language_info": {
   "codemirror_mode": {
    "name": "ipython",
    "version": 3
   },
   "file_extension": ".py",
   "mimetype": "text/x-python",
   "name": "python",
   "nbconvert_exporter": "python",
   "pygments_lexer": "ipython3",
   "version": "3.6.8"
  }
 },
 "nbformat": 4,
 "nbformat_minor": 2
}
