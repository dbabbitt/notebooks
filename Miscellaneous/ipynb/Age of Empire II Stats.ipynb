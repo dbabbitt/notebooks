{
 "cells": [
  {
   "cell_type": "code",
   "execution_count": 60,
   "metadata": {},
   "outputs": [
    {
     "name": "stdout",
     "output_type": "stream",
     "text": [
      "Pretty printing has been turned OFF\n"
     ]
    }
   ],
   "source": [
    "\n",
    "%pprint"
   ]
  },
  {
   "cell_type": "code",
   "execution_count": 4,
   "metadata": {},
   "outputs": [],
   "source": [
    "\n",
    "html_path = r'../data/html/aoestats.io_stats.html'"
   ]
  },
  {
   "cell_type": "code",
   "execution_count": 23,
   "metadata": {},
   "outputs": [
    {
     "data": {
      "text/html": [
       "<div>\n",
       "<style scoped>\n",
       "    .dataframe tbody tr th:only-of-type {\n",
       "        vertical-align: middle;\n",
       "    }\n",
       "\n",
       "    .dataframe tbody tr th {\n",
       "        vertical-align: top;\n",
       "    }\n",
       "\n",
       "    .dataframe thead th {\n",
       "        text-align: right;\n",
       "    }\n",
       "</style>\n",
       "<table border=\"1\" class=\"dataframe\">\n",
       "  <thead>\n",
       "    <tr style=\"text-align: right;\">\n",
       "      <th>Civilization</th>\n",
       "      <th>Koreans</th>\n",
       "      <th>Aztecs</th>\n",
       "      <th>Persians</th>\n",
       "      <th>Chinese</th>\n",
       "      <th>Franks</th>\n",
       "      <th>Spanish</th>\n",
       "      <th>Huns</th>\n",
       "      <th>Saracens</th>\n",
       "      <th>Indians</th>\n",
       "      <th>Magyars</th>\n",
       "    </tr>\n",
       "  </thead>\n",
       "  <tbody>\n",
       "    <tr>\n",
       "      <th>Win Rate</th>\n",
       "      <td>45.31</td>\n",
       "      <td>54.05</td>\n",
       "      <td>50.62</td>\n",
       "      <td>46.98</td>\n",
       "      <td>60.61</td>\n",
       "      <td>51.15</td>\n",
       "      <td>56.47</td>\n",
       "      <td>41.21</td>\n",
       "      <td>53.46</td>\n",
       "      <td>50.9</td>\n",
       "    </tr>\n",
       "    <tr>\n",
       "      <th>Play Rate</th>\n",
       "      <td>7.03</td>\n",
       "      <td>7.05</td>\n",
       "      <td>6.69</td>\n",
       "      <td>6.82</td>\n",
       "      <td>7.13</td>\n",
       "      <td>6.98</td>\n",
       "      <td>7.55</td>\n",
       "      <td>6.81</td>\n",
       "      <td>5.7</td>\n",
       "      <td>5.88</td>\n",
       "    </tr>\n",
       "    <tr>\n",
       "      <th>Score</th>\n",
       "      <td>5897</td>\n",
       "      <td>5872</td>\n",
       "      <td>6675</td>\n",
       "      <td>6421</td>\n",
       "      <td>6678</td>\n",
       "      <td>6362</td>\n",
       "      <td>6294</td>\n",
       "      <td>6160</td>\n",
       "      <td>6531</td>\n",
       "      <td>6229</td>\n",
       "    </tr>\n",
       "    <tr>\n",
       "      <th>Research</th>\n",
       "      <td>18</td>\n",
       "      <td>20</td>\n",
       "      <td>21</td>\n",
       "      <td>22</td>\n",
       "      <td>21</td>\n",
       "      <td>20</td>\n",
       "      <td>21</td>\n",
       "      <td>20</td>\n",
       "      <td>22</td>\n",
       "      <td>22</td>\n",
       "    </tr>\n",
       "    <tr>\n",
       "      <th>Feudal Time</th>\n",
       "      <td>0:11:05</td>\n",
       "      <td>0:11:47</td>\n",
       "      <td>0:10:54</td>\n",
       "      <td>0:11:29</td>\n",
       "      <td>0:11:00</td>\n",
       "      <td>0:11:12</td>\n",
       "      <td>0:10:59</td>\n",
       "      <td>0:11:22</td>\n",
       "      <td>0:10:28</td>\n",
       "      <td>0:10:50</td>\n",
       "    </tr>\n",
       "    <tr>\n",
       "      <th>Castle Time</th>\n",
       "      <td>0:25:23</td>\n",
       "      <td>0:23:39</td>\n",
       "      <td>0:23:05</td>\n",
       "      <td>0:23:57</td>\n",
       "      <td>0:23:05</td>\n",
       "      <td>0:23:31</td>\n",
       "      <td>0:23:39</td>\n",
       "      <td>0:23:54</td>\n",
       "      <td>0:22:58</td>\n",
       "      <td>0:23:45</td>\n",
       "    </tr>\n",
       "    <tr>\n",
       "      <th>Imperial Time</th>\n",
       "      <td>0:41:16</td>\n",
       "      <td>0:39:09</td>\n",
       "      <td>0:38:23</td>\n",
       "      <td>0:39:35</td>\n",
       "      <td>0:38:06</td>\n",
       "      <td>0:39:53</td>\n",
       "      <td>0:40:11</td>\n",
       "      <td>0:40:01</td>\n",
       "      <td>0:38:12</td>\n",
       "      <td>0:40:44</td>\n",
       "    </tr>\n",
       "    <tr>\n",
       "      <th>Game Length</th>\n",
       "      <td>0:41:15</td>\n",
       "      <td>0:39:46</td>\n",
       "      <td>0:41:55</td>\n",
       "      <td>0:41:20</td>\n",
       "      <td>0:41:32</td>\n",
       "      <td>0:41:48</td>\n",
       "      <td>0:40:44</td>\n",
       "      <td>0:41:21</td>\n",
       "      <td>0:41:10</td>\n",
       "      <td>0:40:29</td>\n",
       "    </tr>\n",
       "    <tr>\n",
       "      <th>Feudal Time Hours</th>\n",
       "      <td>0</td>\n",
       "      <td>0</td>\n",
       "      <td>0</td>\n",
       "      <td>0</td>\n",
       "      <td>0</td>\n",
       "      <td>0</td>\n",
       "      <td>0</td>\n",
       "      <td>0</td>\n",
       "      <td>0</td>\n",
       "      <td>0</td>\n",
       "    </tr>\n",
       "    <tr>\n",
       "      <th>Feudal Time Minutes</th>\n",
       "      <td>11</td>\n",
       "      <td>11</td>\n",
       "      <td>10</td>\n",
       "      <td>11</td>\n",
       "      <td>11</td>\n",
       "      <td>11</td>\n",
       "      <td>10</td>\n",
       "      <td>11</td>\n",
       "      <td>10</td>\n",
       "      <td>10</td>\n",
       "    </tr>\n",
       "    <tr>\n",
       "      <th>Feudal Time Seconds</th>\n",
       "      <td>0</td>\n",
       "      <td>0</td>\n",
       "      <td>0</td>\n",
       "      <td>0</td>\n",
       "      <td>0</td>\n",
       "      <td>0</td>\n",
       "      <td>0</td>\n",
       "      <td>0</td>\n",
       "      <td>0</td>\n",
       "      <td>0</td>\n",
       "    </tr>\n",
       "    <tr>\n",
       "      <th>Castle Time Hours</th>\n",
       "      <td>0</td>\n",
       "      <td>0</td>\n",
       "      <td>0</td>\n",
       "      <td>0</td>\n",
       "      <td>0</td>\n",
       "      <td>0</td>\n",
       "      <td>0</td>\n",
       "      <td>0</td>\n",
       "      <td>0</td>\n",
       "      <td>0</td>\n",
       "    </tr>\n",
       "    <tr>\n",
       "      <th>Castle Time Minutes</th>\n",
       "      <td>25</td>\n",
       "      <td>23</td>\n",
       "      <td>23</td>\n",
       "      <td>23</td>\n",
       "      <td>23</td>\n",
       "      <td>23</td>\n",
       "      <td>23</td>\n",
       "      <td>23</td>\n",
       "      <td>22</td>\n",
       "      <td>23</td>\n",
       "    </tr>\n",
       "    <tr>\n",
       "      <th>Castle Time Seconds</th>\n",
       "      <td>0</td>\n",
       "      <td>0</td>\n",
       "      <td>0</td>\n",
       "      <td>0</td>\n",
       "      <td>0</td>\n",
       "      <td>0</td>\n",
       "      <td>0</td>\n",
       "      <td>0</td>\n",
       "      <td>0</td>\n",
       "      <td>0</td>\n",
       "    </tr>\n",
       "    <tr>\n",
       "      <th>Imperial Time Hours</th>\n",
       "      <td>0</td>\n",
       "      <td>0</td>\n",
       "      <td>0</td>\n",
       "      <td>0</td>\n",
       "      <td>0</td>\n",
       "      <td>0</td>\n",
       "      <td>0</td>\n",
       "      <td>0</td>\n",
       "      <td>0</td>\n",
       "      <td>0</td>\n",
       "    </tr>\n",
       "    <tr>\n",
       "      <th>Imperial Time Minutes</th>\n",
       "      <td>41</td>\n",
       "      <td>39</td>\n",
       "      <td>38</td>\n",
       "      <td>39</td>\n",
       "      <td>38</td>\n",
       "      <td>39</td>\n",
       "      <td>40</td>\n",
       "      <td>40</td>\n",
       "      <td>38</td>\n",
       "      <td>40</td>\n",
       "    </tr>\n",
       "    <tr>\n",
       "      <th>Imperial Time Seconds</th>\n",
       "      <td>0</td>\n",
       "      <td>0</td>\n",
       "      <td>0</td>\n",
       "      <td>0</td>\n",
       "      <td>0</td>\n",
       "      <td>0</td>\n",
       "      <td>0</td>\n",
       "      <td>0</td>\n",
       "      <td>0</td>\n",
       "      <td>0</td>\n",
       "    </tr>\n",
       "    <tr>\n",
       "      <th>Game Length Hours</th>\n",
       "      <td>0</td>\n",
       "      <td>0</td>\n",
       "      <td>0</td>\n",
       "      <td>0</td>\n",
       "      <td>0</td>\n",
       "      <td>0</td>\n",
       "      <td>0</td>\n",
       "      <td>0</td>\n",
       "      <td>0</td>\n",
       "      <td>0</td>\n",
       "    </tr>\n",
       "    <tr>\n",
       "      <th>Game Length Minutes</th>\n",
       "      <td>41</td>\n",
       "      <td>39</td>\n",
       "      <td>41</td>\n",
       "      <td>41</td>\n",
       "      <td>41</td>\n",
       "      <td>41</td>\n",
       "      <td>40</td>\n",
       "      <td>41</td>\n",
       "      <td>41</td>\n",
       "      <td>40</td>\n",
       "    </tr>\n",
       "    <tr>\n",
       "      <th>Game Length Seconds</th>\n",
       "      <td>0</td>\n",
       "      <td>0</td>\n",
       "      <td>0</td>\n",
       "      <td>0</td>\n",
       "      <td>0</td>\n",
       "      <td>0</td>\n",
       "      <td>0</td>\n",
       "      <td>0</td>\n",
       "      <td>0</td>\n",
       "      <td>0</td>\n",
       "    </tr>\n",
       "  </tbody>\n",
       "</table>\n",
       "</div>"
      ],
      "text/plain": [
       "Civilization           Koreans   Aztecs Persians  Chinese   Franks  Spanish  \\\n",
       "Win Rate                 45.31    54.05    50.62    46.98    60.61    51.15   \n",
       "Play Rate                 7.03     7.05     6.69     6.82     7.13     6.98   \n",
       "Score                     5897     5872     6675     6421     6678     6362   \n",
       "Research                    18       20       21       22       21       20   \n",
       "Feudal Time            0:11:05  0:11:47  0:10:54  0:11:29  0:11:00  0:11:12   \n",
       "Castle Time            0:25:23  0:23:39  0:23:05  0:23:57  0:23:05  0:23:31   \n",
       "Imperial Time          0:41:16  0:39:09  0:38:23  0:39:35  0:38:06  0:39:53   \n",
       "Game Length            0:41:15  0:39:46  0:41:55  0:41:20  0:41:32  0:41:48   \n",
       "Feudal Time Hours            0        0        0        0        0        0   \n",
       "Feudal Time Minutes         11       11       10       11       11       11   \n",
       "Feudal Time Seconds          0        0        0        0        0        0   \n",
       "Castle Time Hours            0        0        0        0        0        0   \n",
       "Castle Time Minutes         25       23       23       23       23       23   \n",
       "Castle Time Seconds          0        0        0        0        0        0   \n",
       "Imperial Time Hours          0        0        0        0        0        0   \n",
       "Imperial Time Minutes       41       39       38       39       38       39   \n",
       "Imperial Time Seconds        0        0        0        0        0        0   \n",
       "Game Length Hours            0        0        0        0        0        0   \n",
       "Game Length Minutes         41       39       41       41       41       41   \n",
       "Game Length Seconds          0        0        0        0        0        0   \n",
       "\n",
       "Civilization              Huns Saracens  Indians  Magyars  \n",
       "Win Rate                 56.47    41.21    53.46     50.9  \n",
       "Play Rate                 7.55     6.81      5.7     5.88  \n",
       "Score                     6294     6160     6531     6229  \n",
       "Research                    21       20       22       22  \n",
       "Feudal Time            0:10:59  0:11:22  0:10:28  0:10:50  \n",
       "Castle Time            0:23:39  0:23:54  0:22:58  0:23:45  \n",
       "Imperial Time          0:40:11  0:40:01  0:38:12  0:40:44  \n",
       "Game Length            0:40:44  0:41:21  0:41:10  0:40:29  \n",
       "Feudal Time Hours            0        0        0        0  \n",
       "Feudal Time Minutes         10       11       10       10  \n",
       "Feudal Time Seconds          0        0        0        0  \n",
       "Castle Time Hours            0        0        0        0  \n",
       "Castle Time Minutes         23       23       22       23  \n",
       "Castle Time Seconds          0        0        0        0  \n",
       "Imperial Time Hours          0        0        0        0  \n",
       "Imperial Time Minutes       40       40       38       40  \n",
       "Imperial Time Seconds        0        0        0        0  \n",
       "Game Length Hours            0        0        0        0  \n",
       "Game Length Minutes         40       41       41       40  \n",
       "Game Length Seconds          0        0        0        0  "
      ]
     },
     "execution_count": 23,
     "metadata": {},
     "output_type": "execute_result"
    }
   ],
   "source": [
    "\n",
    "import pandas as pd\n",
    "\n",
    "win_rate_df = pd.read_html(html_path)[0]\n",
    "win_rate_df.set_index('Civilization', drop=True, inplace=True)\n",
    "for column_name in ['Win Rate', 'Play Rate']:\n",
    "    win_rate_df[column_name] = win_rate_df[column_name].map(lambda x: float(x.split('%')[0]))\n",
    "\n",
    "def get_hours(x):\n",
    "    \n",
    "    return int(x.split(':')[0])\n",
    "\n",
    "def get_minutes(x):\n",
    "    \n",
    "    return int(x.split(':')[1])\n",
    "\n",
    "def get_seconds(x):\n",
    "    \n",
    "    return int(x.split(':')[0])\n",
    "    \n",
    "for column_name in ['Feudal Time', 'Castle Time', 'Imperial Time', 'Game Length']:\n",
    "    win_rate_df['{} Hours'.format(column_name)] = win_rate_df[column_name].map(get_hours)\n",
    "    win_rate_df['{} Minutes'.format(column_name)] = win_rate_df[column_name].map(get_minutes)\n",
    "    win_rate_df['{} Seconds'.format(column_name)] = win_rate_df[column_name].map(get_seconds)\n",
    "win_rate_df.sample(10).T"
   ]
  },
  {
   "cell_type": "code",
   "execution_count": 24,
   "metadata": {},
   "outputs": [
    {
     "data": {
      "text/plain": [
       "Index(['Win Rate', 'Play Rate', 'Score', 'Research', 'Feudal Time',\n",
       "       'Castle Time', 'Imperial Time', 'Game Length', 'Feudal Time Hours',\n",
       "       'Feudal Time Minutes', 'Feudal Time Seconds', 'Castle Time Hours',\n",
       "       'Castle Time Minutes', 'Castle Time Seconds', 'Imperial Time Hours',\n",
       "       'Imperial Time Minutes', 'Imperial Time Seconds', 'Game Length Hours',\n",
       "       'Game Length Minutes', 'Game Length Seconds'],\n",
       "      dtype='object')"
      ]
     },
     "execution_count": 24,
     "metadata": {},
     "output_type": "execute_result"
    }
   ],
   "source": [
    "\n",
    "win_rate_df.columns"
   ]
  },
  {
   "cell_type": "code",
   "execution_count": 32,
   "metadata": {},
   "outputs": [
    {
     "data": {
      "text/plain": [
       "[('Play Rate', 0.5585070054116297), ('Score', 0.22863451842832322), ('Research', 0.14295139126459666), ('Imperial Time Minutes', 0.0336146008289729), ('Game Length Minutes', 0.02335270324786462), ('Castle Time Minutes', 0.01029075379282806), ('Feudal Time Minutes', 0.0026490270257847515), ('Feudal Time Hours', 0.0), ('Feudal Time Seconds', 0.0), ('Castle Time Hours', 0.0), ('Castle Time Seconds', 0.0), ('Imperial Time Hours', 0.0), ('Imperial Time Seconds', 0.0), ('Game Length Hours', 0.0), ('Game Length Seconds', 0.0)]"
      ]
     },
     "execution_count": 32,
     "metadata": {},
     "output_type": "execute_result"
    }
   ],
   "source": [
    "\n",
    "from sklearn.ensemble import RandomForestRegressor\n",
    "\n",
    "columns_list = ['Play Rate', 'Score', 'Research', 'Feudal Time Hours',\n",
    "       'Feudal Time Minutes', 'Feudal Time Seconds', 'Castle Time Hours',\n",
    "       'Castle Time Minutes', 'Castle Time Seconds', 'Imperial Time Hours',\n",
    "       'Imperial Time Minutes', 'Imperial Time Seconds', 'Game Length Hours',\n",
    "       'Game Length Minutes', 'Game Length Seconds']\n",
    "X = win_rate_df[columns_list].values\n",
    "y = win_rate_df['Win Rate'].values\n",
    "regr = RandomForestRegressor(max_depth=2, n_estimators=100)\n",
    "regr.fit(X, y)\n",
    "sorted([(cn, ci) for cn, ci in zip(columns_list, regr.feature_importances_)], key=lambda x: x[1],\n",
    "       reverse=True)"
   ]
  },
  {
   "cell_type": "code",
   "execution_count": 33,
   "metadata": {},
   "outputs": [
    {
     "name": "stdout",
     "output_type": "stream",
     "text": [
      "DATA_FOLDER: ../data/\n",
      "SAVES_FOLDER: ../saves/\n",
      "DATA_CSV_FOLDER\t DATA_FOLDER\t ENCODING_TYPE\t RandomForestRegressor\t SAVES_CSV_FOLDER\t SAVES_FOLDER\t SAVES_PICKLE_FOLDER\t X\t attempt_to_pickle\t \n",
      "column_name\t columns_list\t example_iterrows\t get_column_descriptions\t get_hours\t get_minutes\t get_seconds\t html_path\t load_csv\t \n",
      "load_dataframes\t load_object\t math\t os\t pd\t pickle\t regr\t save_dataframes\t store_objects\t \n",
      "sys\t win_rate_df\t y\t \n"
     ]
    }
   ],
   "source": [
    "\n",
    "%run ../../load_magic/storage.py\n",
    "%run ../../load_magic/dataframes.py\n",
    "%who"
   ]
  },
  {
   "cell_type": "code",
   "execution_count": 61,
   "metadata": {},
   "outputs": [],
   "source": [
    "\n",
    "selector_str = '#Britons > div.Overview > ul > li.bonuses > ul'\n",
    "xpath_str = '//*[@id=\"Britons\"]/div[1]/ul/li[5]/ul'\n",
    "html_str = '''<li>\n",
    "    Civilization bonuses:\n",
    "    <ul>\n",
    "        <li>Town Centers cost -50% wood starting in the Castle Age.</li>\n",
    "        <li>Foot archers (except Skirmishers) have +1/+2 range in the Castle/Imperial Age.</li>\n",
    "        <li>Shepherds work 25% faster.</li>\n",
    "    </ul>\n",
    "</li>'''\n",
    "html_folder = os.path.join(DATA_FOLDER, 'html')\n",
    "file_path = os.path.join(html_folder, 'aoe2_civ_bonuses.html')\n",
    "with open(file_path, 'rb') as f:\n",
    "    html_doc = f.read().decode('utf-8')"
   ]
  },
  {
   "cell_type": "code",
   "execution_count": 62,
   "metadata": {},
   "outputs": [],
   "source": [
    "\n",
    "from bs4 import BeautifulSoup\n",
    "\n",
    "soup = BeautifulSoup(html_doc, 'html.parser')"
   ]
  },
  {
   "cell_type": "code",
   "execution_count": 68,
   "metadata": {},
   "outputs": [
    {
     "name": "stdout",
     "output_type": "stream",
     "text": [
      "<h3><span>Britons</span></h3> <span>Britons</span>\n",
      "<h3><span>Byzantines</span></h3> <span>Byzantines</span>\n",
      "<h3><span>Celts</span></h3> <span>Celts</span>\n"
     ]
    }
   ],
   "source": [
    "\n",
    "for civ in soup.find_all('h3')[:3]:\n",
    "    print(civ, civ.next_element)"
   ]
  },
  {
   "cell_type": "code",
   "execution_count": 67,
   "metadata": {},
   "outputs": [
    {
     "data": {
      "text/plain": [
       "[<ul class=\"bonuses\">\n",
       "<li>Town Centers cost -50% wood starting in the Castle Age.</li>\n",
       "<li>Foot archers (except Skirmishers) have +1/+2 range in the Castle/Imperial Age.</li>\n",
       "<li>Shepherds work 25% faster.</li>\n",
       "</ul>]"
      ]
     },
     "execution_count": 67,
     "metadata": {},
     "output_type": "execute_result"
    }
   ],
   "source": [
    "\n",
    "soup.select(selector_str)"
   ]
  },
  {
   "cell_type": "code",
   "execution_count": null,
   "metadata": {
    "scrolled": false
   },
   "outputs": [],
   "source": [
    "\n",
    "sub_selector = 'div.Overview > ul > li.bonuses > ul'\n",
    "civ_name_list = []\n",
    "for civ_div in soup.find_all('div', id=True):\n",
    "    civ_name = civ_div.get_attribute_list('id')[0]\n",
    "    print(civ_name)\n",
    "    bonuses_ul = civ_div.select(sub_selector)[0]\n",
    "    for bonus_li in bonuses_ul.find_all('li'):\n",
    "        if bonus_li.string:\n",
    "            print(bonus_li.string)\n",
    "    print()"
   ]
  },
  {
   "cell_type": "code",
   "execution_count": null,
   "metadata": {
    "scrolled": false
   },
   "outputs": [],
   "source": [
    "\n",
    "sub_selector = 'div.Overview > ul > li.bonuses > ul'\n",
    "for civ_div in soup.find_all('div', id=True):\n",
    "    civ_name = civ_div.get_attribute_list('id')[0]\n",
    "    bonuses_ul = civ_div.select(sub_selector)[0]\n",
    "    for bonus_li in bonuses_ul.find_all('li'):\n",
    "        if bonus_li.string:\n",
    "            print(bonus_li.string)"
   ]
  },
  {
   "cell_type": "code",
   "execution_count": 85,
   "metadata": {},
   "outputs": [],
   "source": [
    "\n",
    "sub_selector = 'div.Overview > ul > li.bonuses > ul'\n",
    "civ_name_list = []\n",
    "for civ_div in soup.find_all('div', id=True):\n",
    "    civ_name = civ_div.get_attribute_list('id')[0]\n",
    "    civ_name_list.append(civ_name.strip())"
   ]
  },
  {
   "cell_type": "code",
   "execution_count": 99,
   "metadata": {},
   "outputs": [],
   "source": [
    "\n",
    "csv_folder = os.path.join(DATA_FOLDER, 'csv')\n",
    "file_path = os.path.join(csv_folder, 'aoe2_civ_features.csv')\n",
    "features_df.to_csv(file_path)"
   ]
  },
  {
   "cell_type": "code",
   "execution_count": 166,
   "metadata": {},
   "outputs": [],
   "source": [
    "\n",
    "import urllib.request\n",
    "\n",
    "civ_soup_dict = {}\n",
    "for civ_name in civ_name_list:\n",
    "    try:\n",
    "        civ_url = 'https://ageofempires.fandom.com/wiki/{}_(Age_of_Empires_II)'.format(civ_name)\n",
    "        with urllib.request.urlopen(civ_url) as response:\n",
    "            civ_html = response.read()\n",
    "    except:\n",
    "        civ_url = 'https://ageofempires.fandom.com/wiki/{}'.format(civ_name)\n",
    "        with urllib.request.urlopen(civ_url) as response:\n",
    "            civ_html = response.read()\n",
    "    civ_soup = BeautifulSoup(civ_html, 'html.parser')\n",
    "    civ_soup_dict[civ_name] = civ_soup"
   ]
  },
  {
   "cell_type": "code",
   "execution_count": null,
   "metadata": {
    "scrolled": false
   },
   "outputs": [],
   "source": [
    "\n",
    "for i, civ_name in enumerate(civ_soup_dict):\n",
    "    print(civ_name)\n",
    "    bonuses_selector = '#Civilization_bonuses'\n",
    "    bonuses_span = civ_soup_dict[civ_name].select(bonuses_selector)[0]\n",
    "    bonuses_ul = list(bonuses_span.next_elements)[6]\n",
    "    for bonus_li in bonuses_ul.find_all('li'):\n",
    "        print(bonus_li.text.strip())\n",
    "    print()"
   ]
  },
  {
   "cell_type": "code",
   "execution_count": 173,
   "metadata": {
    "scrolled": false
   },
   "outputs": [],
   "source": [
    "\n",
    "txt_folder = os.path.join(DATA_FOLDER, 'txt')\n",
    "file_path = os.path.join(txt_folder, 'aoe2_civ_features.txt')\n",
    "with open(file_path, 'wb') as f:\n",
    "    f.write('\\n'.encode('utf-8'))\n",
    "    for i, civ_name in enumerate(civ_soup_dict):\n",
    "        bonuses_selector = '#Civilization_bonuses'\n",
    "        bonuses_span = civ_soup_dict[civ_name].select(bonuses_selector)[0]\n",
    "        bonuses_ul = list(bonuses_span.next_elements)[6]\n",
    "        for bonus_li in bonuses_ul.find_all('li'):\n",
    "            f.write('{}\\n'.format(bonus_li.text.strip()).encode('utf-8'))"
   ]
  },
  {
   "cell_type": "markdown",
   "metadata": {},
   "source": [
    "\n",
    "Make sure to clean up the list before running the cell below to load it back in."
   ]
  },
  {
   "cell_type": "code",
   "execution_count": 174,
   "metadata": {},
   "outputs": [],
   "source": [
    "\n",
    "import re\n",
    "\n",
    "line_regex = re.compile('[\\r\\n]+', re.MULTILINE)\n",
    "with open(file_path, 'rb') as f:\n",
    "    feature_list = line_regex.split(f.read().decode('utf-8').strip())"
   ]
  },
  {
   "cell_type": "code",
   "execution_count": 175,
   "metadata": {},
   "outputs": [],
   "source": [
    "\n",
    "space_regex = re.compile('\\s+')\n",
    "feature_list = [space_regex.sub('_', feature.strip()) for feature in feature_list]"
   ]
  },
  {
   "cell_type": "code",
   "execution_count": 176,
   "metadata": {},
   "outputs": [],
   "source": [
    "\n",
    "features_df = pd.DataFrame(data=None, index=civ_name_list, columns=feature_list)"
   ]
  },
  {
   "cell_type": "code",
   "execution_count": 177,
   "metadata": {},
   "outputs": [],
   "source": [
    "\n",
    "xlsx_folder = os.path.join(DATA_FOLDER, 'xlsx')\n",
    "os.makedirs(name=xlsx_folder, exist_ok=True)\n",
    "file_path = os.path.join(xlsx_folder, 'aoe2_civ_features.xlsx')\n",
    "features_df.to_excel(file_path)"
   ]
  },
  {
   "cell_type": "code",
   "execution_count": null,
   "metadata": {
    "scrolled": false
   },
   "outputs": [],
   "source": []
  }
 ],
 "metadata": {
  "kernelspec": {
   "display_name": "Python 3",
   "language": "python",
   "name": "python3"
  },
  "language_info": {
   "codemirror_mode": {
    "name": "ipython",
    "version": 3
   },
   "file_extension": ".py",
   "mimetype": "text/x-python",
   "name": "python",
   "nbconvert_exporter": "python",
   "pygments_lexer": "ipython3",
   "version": "3.6.8"
  }
 },
 "nbformat": 4,
 "nbformat_minor": 2
}
