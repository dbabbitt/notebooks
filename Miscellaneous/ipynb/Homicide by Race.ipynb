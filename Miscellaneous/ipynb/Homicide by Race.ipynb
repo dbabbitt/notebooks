{
 "cells": [
  {
   "cell_type": "markdown",
   "metadata": {},
   "source": [
    "\n",
    "I'm trying to get murders per 100,000 inhabitants per US state per race. I need this because I need two populations to compare. I have UNODC murder rates for the US as a whole, African–Americans as percentage of total population (1790–2010) by U.S. state, White American population as of 2000 and 2010 censuses, and a year common to each of these tables. How do I get the rate per race per state from that?\n",
    "\n",
    "If you are curious about the choice of subject matter, I'm trying to disprove things with simple statistics. Generally, Nazi pseudoscience about genetics and race and Marxist pseudoscience about the malleability of human nature. In this case, it's the idea that homicide rate correlates with the continent your ancestors evolved on. It's mostly a disappointing exercise trying to simplify something that is complex, but I'm merely trying to show that simple, ideologically motivated ideas don't hold up. And these exercises that I am giving myself are good practice."
   ]
  },
  {
   "cell_type": "code",
   "execution_count": 18,
   "metadata": {},
   "outputs": [
    {
     "name": "stdout",
     "output_type": "stream",
     "text": [
      "DATA_FOLDER: ../data/\n",
      "SAVES_FOLDER: ../saves/\n",
      "Pretty printing has been turned ON\n",
      "DATA_FOLDER\t ENCODING_TYPE\t HTML\t SAVES_FOLDER\t attempt_to_pickle\t example_iterrows\t get_column_descriptions\t homicides_df\t html_str\t \n",
      "load_csv\t load_dataframes\t load_object\t math\t notebook_path\t notebook_viewer_url\t os\t pd\t pickle\t \n",
      "rate_by_state_df\t save_dataframes\t store_objects\t tables_df_list\t tables_url\t wiki_url\t \n"
     ]
    }
   ],
   "source": [
    "\n",
    "%run ../../load_magic/storage.py\n",
    "%run ../../load_magic/dataframes.py\n",
    "%pprint\n",
    "%who\n",
    "\n",
    "# https://www.kaggle.com/jyzaguirre/us-homicide-reports/version/2\n",
    "homicides_df = load_csv('U.S._Homicide_Reports,_1980-2014_Homicides_between_1980_and_2014')"
   ]
  },
  {
   "cell_type": "code",
   "execution_count": 19,
   "metadata": {},
   "outputs": [
    {
     "data": {
      "text/plain": [
       "Index(['Record ID', 'Agency Code', 'Agency Name', 'Agency Type', 'City',\n",
       "       'State', 'Year', 'Month', 'Incident', 'Crime Type', 'Crime Solved',\n",
       "       'Victim Sex', 'Victim Age', 'Victim Race', 'Victim Ethnicity',\n",
       "       'Perpetrator Sex', 'Perpetrator Age', 'Perpetrator Race',\n",
       "       'Perpetrator Ethnicity', 'Relationship', 'Weapon', 'Victim Count',\n",
       "       'Perpetrator Count', 'Record Source'],\n",
       "      dtype='object')"
      ]
     },
     "execution_count": 19,
     "metadata": {},
     "output_type": "execute_result"
    }
   ],
   "source": [
    "\n",
    "homicides_df.columns"
   ]
  },
  {
   "cell_type": "code",
   "execution_count": 20,
   "metadata": {},
   "outputs": [
    {
     "data": {
      "text/plain": [
       "51"
      ]
     },
     "execution_count": 20,
     "metadata": {},
     "output_type": "execute_result"
    }
   ],
   "source": [
    "\n",
    "len(homicides_df['State'].unique())"
   ]
  },
  {
   "cell_type": "code",
   "execution_count": 21,
   "metadata": {},
   "outputs": [],
   "source": [
    "\n",
    "wiki_url = 'https://en.wikipedia.org/wiki/'\n",
    "tables_url = '{}List_of_U.S._states_by_homicide_rate'.format(wiki_url)\n",
    "tables_df_list = pd.read_html(tables_url)"
   ]
  },
  {
   "cell_type": "code",
   "execution_count": 22,
   "metadata": {},
   "outputs": [
    {
     "data": {
      "text/html": [
       "<div>\n",
       "<style scoped>\n",
       "    .dataframe tbody tr th:only-of-type {\n",
       "        vertical-align: middle;\n",
       "    }\n",
       "\n",
       "    .dataframe tbody tr th {\n",
       "        vertical-align: top;\n",
       "    }\n",
       "\n",
       "    .dataframe thead th {\n",
       "        text-align: right;\n",
       "    }\n",
       "</style>\n",
       "<table border=\"1\" class=\"dataframe\">\n",
       "  <thead>\n",
       "    <tr style=\"text-align: right;\">\n",
       "      <th></th>\n",
       "      <th>2017</th>\n",
       "      <th>2014</th>\n",
       "      <th>2010</th>\n",
       "      <th>2005</th>\n",
       "      <th>2000</th>\n",
       "    </tr>\n",
       "    <tr>\n",
       "      <th>State</th>\n",
       "      <th></th>\n",
       "      <th></th>\n",
       "      <th></th>\n",
       "      <th></th>\n",
       "      <th></th>\n",
       "    </tr>\n",
       "  </thead>\n",
       "  <tbody>\n",
       "    <tr>\n",
       "      <th>Alabama</th>\n",
       "      <td>8.3</td>\n",
       "      <td>5.7</td>\n",
       "      <td>5.7</td>\n",
       "      <td>8.2</td>\n",
       "      <td>7.4</td>\n",
       "    </tr>\n",
       "    <tr>\n",
       "      <th>Alaska</th>\n",
       "      <td>8.4</td>\n",
       "      <td>5.6</td>\n",
       "      <td>4.3</td>\n",
       "      <td>4.8</td>\n",
       "      <td>4.3</td>\n",
       "    </tr>\n",
       "    <tr>\n",
       "      <th>Arizona</th>\n",
       "      <td>5.9</td>\n",
       "      <td>4.7</td>\n",
       "      <td>6.4</td>\n",
       "      <td>7.5</td>\n",
       "      <td>7</td>\n",
       "    </tr>\n",
       "    <tr>\n",
       "      <th>Arkansas</th>\n",
       "      <td>8.6</td>\n",
       "      <td>5.6</td>\n",
       "      <td>4.6</td>\n",
       "      <td>6.7</td>\n",
       "      <td>6.3</td>\n",
       "    </tr>\n",
       "    <tr>\n",
       "      <th>California</th>\n",
       "      <td>4.6</td>\n",
       "      <td>4.4</td>\n",
       "      <td>4.8</td>\n",
       "      <td>6.9</td>\n",
       "      <td>6.1</td>\n",
       "    </tr>\n",
       "  </tbody>\n",
       "</table>\n",
       "</div>"
      ],
      "text/plain": [
       "0          2017 2014 2010 2005 2000\n",
       "State                              \n",
       "Alabama     8.3  5.7  5.7  8.2  7.4\n",
       "Alaska      8.4  5.6  4.3  4.8  4.3\n",
       "Arizona     5.9  4.7  6.4  7.5    7\n",
       "Arkansas    8.6  5.6  4.6  6.7  6.3\n",
       "California  4.6  4.4  4.8  6.9  6.1"
      ]
     },
     "execution_count": 22,
     "metadata": {},
     "output_type": "execute_result"
    }
   ],
   "source": [
    "\n",
    "rate_by_state_df = tables_df_list[0].dropna(axis=0, how='all').dropna(axis=1, how='all')\n",
    "rate_by_state_df.columns = rate_by_state_df.iloc[0]\n",
    "rate_by_state_df = rate_by_state_df.iloc[1:].T\n",
    "rate_by_state_df.columns = rate_by_state_df.iloc[0]\n",
    "rate_by_state_df = rate_by_state_df.iloc[1:].T\n",
    "rate_by_state_df.columns = rate_by_state_df.columns.map(lambda x: int(x))\n",
    "rate_by_state_df.head(5).T.head(5).T"
   ]
  },
  {
   "cell_type": "code",
   "execution_count": 23,
   "metadata": {},
   "outputs": [],
   "source": [
    "\n",
    "wiki_url = 'https://en.wikipedia.org/wiki/'\n",
    "us_pop_df = pd.DataFrame([])\n",
    "year_set = set([1980, 1990, 2000])\n",
    "for year in year_set:\n",
    "    try:\n",
    "        tables_url = '{}{}_United_States_Census'.format(wiki_url, year)\n",
    "        tables_df_list = pd.read_html(tables_url)\n",
    "\n",
    "        pop_df = tables_df_list[1].dropna(axis=0, how='all').dropna(axis=1, how='all')\n",
    "        pop_df.columns = pop_df.iloc[0]\n",
    "        pop_df = pop_df.iloc[1:].T\n",
    "        pop_df.columns = pop_df.iloc[1]\n",
    "        pop_df = pop_df.iloc[range(0, 3, 2)].T\n",
    "        \n",
    "        pop_df.columns = ['Rank_{}'.format(year), 'Population_{}'.format(year)]\n",
    "        us_pop_df = pd.merge(left=us_pop_df, right=pop_df, how='outer',\n",
    "                             left_index=True, right_index=True)\n",
    "    except Exception as e:\n",
    "        print(e)\n",
    "us_pop_df = us_pop_df.dropna()"
   ]
  },
  {
   "cell_type": "code",
   "execution_count": 24,
   "metadata": {},
   "outputs": [],
   "source": [
    "\n",
    "dtype_df = get_column_descriptions(us_pop_df)\n",
    "match_series = (dtype_df['only_integers'] == True)"
   ]
  },
  {
   "cell_type": "code",
   "execution_count": 25,
   "metadata": {},
   "outputs": [],
   "source": [
    "\n",
    "for column_name in dtype_df[match_series]['column_name']:\n",
    "    us_pop_df[column_name] = us_pop_df[column_name].map(lambda x: int(x))"
   ]
  },
  {
   "cell_type": "code",
   "execution_count": 26,
   "metadata": {},
   "outputs": [],
   "source": [
    "\n",
    "year_set = set([1980, 1990, 2000])\n",
    "max_year = max(set(homicides_df['Year'].unique()) & year_set)"
   ]
  },
  {
   "cell_type": "code",
   "execution_count": 27,
   "metadata": {},
   "outputs": [
    {
     "data": {
      "text/plain": [
       "array(['Murder or Manslaughter', 'Manslaughter by Negligence'],\n",
       "      dtype=object)"
      ]
     },
     "execution_count": 27,
     "metadata": {},
     "output_type": "execute_result"
    }
   ],
   "source": [
    "\n",
    "homicides_df['Crime Type'].unique()"
   ]
  },
  {
   "cell_type": "code",
   "execution_count": 28,
   "metadata": {},
   "outputs": [
    {
     "data": {
      "text/html": [
       "<div>\n",
       "<style scoped>\n",
       "    .dataframe tbody tr th:only-of-type {\n",
       "        vertical-align: middle;\n",
       "    }\n",
       "\n",
       "    .dataframe tbody tr th {\n",
       "        vertical-align: top;\n",
       "    }\n",
       "\n",
       "    .dataframe thead th {\n",
       "        text-align: right;\n",
       "    }\n",
       "</style>\n",
       "<table border=\"1\" class=\"dataframe\">\n",
       "  <thead>\n",
       "    <tr style=\"text-align: right;\">\n",
       "      <th></th>\n",
       "      <th>State</th>\n",
       "      <th>Year</th>\n",
       "      <th>Perpetrator Race</th>\n",
       "    </tr>\n",
       "  </thead>\n",
       "  <tbody>\n",
       "    <tr>\n",
       "      <th>48963</th>\n",
       "      <td>Florida</td>\n",
       "      <td>1982</td>\n",
       "      <td>Black</td>\n",
       "    </tr>\n",
       "    <tr>\n",
       "      <th>530050</th>\n",
       "      <td>South Carolina</td>\n",
       "      <td>2007</td>\n",
       "      <td>Black</td>\n",
       "    </tr>\n",
       "    <tr>\n",
       "      <th>260635</th>\n",
       "      <td>Oklahoma</td>\n",
       "      <td>1992</td>\n",
       "      <td>Unknown</td>\n",
       "    </tr>\n",
       "    <tr>\n",
       "      <th>637489</th>\n",
       "      <td>Texas</td>\n",
       "      <td>2014</td>\n",
       "      <td>Black</td>\n",
       "    </tr>\n",
       "    <tr>\n",
       "      <th>613314</th>\n",
       "      <td>Georgia</td>\n",
       "      <td>2012</td>\n",
       "      <td>Black</td>\n",
       "    </tr>\n",
       "  </tbody>\n",
       "</table>\n",
       "</div>"
      ],
      "text/plain": [
       "                 State  Year Perpetrator Race\n",
       "48963          Florida  1982            Black\n",
       "530050  South Carolina  2007            Black\n",
       "260635        Oklahoma  1992          Unknown\n",
       "637489           Texas  2014            Black\n",
       "613314         Georgia  2012            Black"
      ]
     },
     "execution_count": 28,
     "metadata": {},
     "output_type": "execute_result"
    }
   ],
   "source": [
    "\n",
    "column_list = ['State', 'Year', 'Perpetrator Race']\n",
    "homicides_df[column_list].sample(5).T.tail(15).T"
   ]
  },
  {
   "cell_type": "code",
   "execution_count": 29,
   "metadata": {},
   "outputs": [
    {
     "data": {
      "text/html": [
       "<div>\n",
       "<style scoped>\n",
       "    .dataframe tbody tr th:only-of-type {\n",
       "        vertical-align: middle;\n",
       "    }\n",
       "\n",
       "    .dataframe tbody tr th {\n",
       "        vertical-align: top;\n",
       "    }\n",
       "\n",
       "    .dataframe thead th {\n",
       "        text-align: right;\n",
       "    }\n",
       "</style>\n",
       "<table border=\"1\" class=\"dataframe\">\n",
       "  <thead>\n",
       "    <tr style=\"text-align: right;\">\n",
       "      <th></th>\n",
       "      <th>556910</th>\n",
       "      <th>242253</th>\n",
       "      <th>194254</th>\n",
       "      <th>598232</th>\n",
       "      <th>325843</th>\n",
       "    </tr>\n",
       "  </thead>\n",
       "  <tbody>\n",
       "    <tr>\n",
       "      <th>Record ID</th>\n",
       "      <td>556911</td>\n",
       "      <td>242254</td>\n",
       "      <td>194255</td>\n",
       "      <td>598233</td>\n",
       "      <td>325844</td>\n",
       "    </tr>\n",
       "    <tr>\n",
       "      <th>Agency Code</th>\n",
       "      <td>MI82349</td>\n",
       "      <td>WIMPD00</td>\n",
       "      <td>PAPEP00</td>\n",
       "      <td>CA05300</td>\n",
       "      <td>MOKPD00</td>\n",
       "    </tr>\n",
       "    <tr>\n",
       "      <th>Agency Name</th>\n",
       "      <td>Detroit</td>\n",
       "      <td>Milwaukee</td>\n",
       "      <td>Philadelphia</td>\n",
       "      <td>Trinity County</td>\n",
       "      <td>Kansas City</td>\n",
       "    </tr>\n",
       "    <tr>\n",
       "      <th>Agency Type</th>\n",
       "      <td>Municipal Police</td>\n",
       "      <td>Municipal Police</td>\n",
       "      <td>Municipal Police</td>\n",
       "      <td>Sheriff</td>\n",
       "      <td>Municipal Police</td>\n",
       "    </tr>\n",
       "    <tr>\n",
       "      <th>City</th>\n",
       "      <td>Wayne</td>\n",
       "      <td>Milwaukee</td>\n",
       "      <td>Philadelphia</td>\n",
       "      <td>Trinity</td>\n",
       "      <td>Jackson</td>\n",
       "    </tr>\n",
       "    <tr>\n",
       "      <th>State</th>\n",
       "      <td>Michigan</td>\n",
       "      <td>Wisconsin</td>\n",
       "      <td>Pennsylvania</td>\n",
       "      <td>California</td>\n",
       "      <td>Missouri</td>\n",
       "    </tr>\n",
       "    <tr>\n",
       "      <th>Year</th>\n",
       "      <td>2009</td>\n",
       "      <td>1991</td>\n",
       "      <td>1989</td>\n",
       "      <td>2013</td>\n",
       "      <td>1995</td>\n",
       "    </tr>\n",
       "    <tr>\n",
       "      <th>Month</th>\n",
       "      <td>March</td>\n",
       "      <td>August</td>\n",
       "      <td>July</td>\n",
       "      <td>June</td>\n",
       "      <td>November</td>\n",
       "    </tr>\n",
       "    <tr>\n",
       "      <th>Incident</th>\n",
       "      <td>22</td>\n",
       "      <td>9</td>\n",
       "      <td>30</td>\n",
       "      <td>1</td>\n",
       "      <td>3</td>\n",
       "    </tr>\n",
       "    <tr>\n",
       "      <th>Crime Type</th>\n",
       "      <td>Murder or Manslaughter</td>\n",
       "      <td>Murder or Manslaughter</td>\n",
       "      <td>Murder or Manslaughter</td>\n",
       "      <td>Murder or Manslaughter</td>\n",
       "      <td>Murder or Manslaughter</td>\n",
       "    </tr>\n",
       "    <tr>\n",
       "      <th>Crime Solved</th>\n",
       "      <td>Yes</td>\n",
       "      <td>Yes</td>\n",
       "      <td>Yes</td>\n",
       "      <td>Yes</td>\n",
       "      <td>Yes</td>\n",
       "    </tr>\n",
       "    <tr>\n",
       "      <th>Victim Sex</th>\n",
       "      <td>Male</td>\n",
       "      <td>Male</td>\n",
       "      <td>Female</td>\n",
       "      <td>Female</td>\n",
       "      <td>Male</td>\n",
       "    </tr>\n",
       "    <tr>\n",
       "      <th>Victim Age</th>\n",
       "      <td>35</td>\n",
       "      <td>20</td>\n",
       "      <td>2</td>\n",
       "      <td>51</td>\n",
       "      <td>23</td>\n",
       "    </tr>\n",
       "    <tr>\n",
       "      <th>Victim Race</th>\n",
       "      <td>White</td>\n",
       "      <td>Black</td>\n",
       "      <td>Asian/Pacific Islander</td>\n",
       "      <td>White</td>\n",
       "      <td>Black</td>\n",
       "    </tr>\n",
       "    <tr>\n",
       "      <th>Victim Ethnicity</th>\n",
       "      <td>Unknown</td>\n",
       "      <td>Unknown</td>\n",
       "      <td>Unknown</td>\n",
       "      <td>Not Hispanic</td>\n",
       "      <td>Unknown</td>\n",
       "    </tr>\n",
       "    <tr>\n",
       "      <th>Perpetrator Sex</th>\n",
       "      <td>Male</td>\n",
       "      <td>Male</td>\n",
       "      <td>Male</td>\n",
       "      <td>Male</td>\n",
       "      <td>Male</td>\n",
       "    </tr>\n",
       "    <tr>\n",
       "      <th>Perpetrator Age</th>\n",
       "      <td>0</td>\n",
       "      <td>20</td>\n",
       "      <td>33</td>\n",
       "      <td>40</td>\n",
       "      <td>0</td>\n",
       "    </tr>\n",
       "    <tr>\n",
       "      <th>Perpetrator Race</th>\n",
       "      <td>White</td>\n",
       "      <td>Black</td>\n",
       "      <td>Asian/Pacific Islander</td>\n",
       "      <td>White</td>\n",
       "      <td>White</td>\n",
       "    </tr>\n",
       "    <tr>\n",
       "      <th>Perpetrator Ethnicity</th>\n",
       "      <td>Unknown</td>\n",
       "      <td>Unknown</td>\n",
       "      <td>Unknown</td>\n",
       "      <td>Not Hispanic</td>\n",
       "      <td>Unknown</td>\n",
       "    </tr>\n",
       "    <tr>\n",
       "      <th>Relationship</th>\n",
       "      <td>Unknown</td>\n",
       "      <td>Unknown</td>\n",
       "      <td>Family</td>\n",
       "      <td>Stranger</td>\n",
       "      <td>Acquaintance</td>\n",
       "    </tr>\n",
       "    <tr>\n",
       "      <th>Weapon</th>\n",
       "      <td>Handgun</td>\n",
       "      <td>Handgun</td>\n",
       "      <td>Handgun</td>\n",
       "      <td>Shotgun</td>\n",
       "      <td>Handgun</td>\n",
       "    </tr>\n",
       "    <tr>\n",
       "      <th>Victim Count</th>\n",
       "      <td>0</td>\n",
       "      <td>0</td>\n",
       "      <td>2</td>\n",
       "      <td>0</td>\n",
       "      <td>0</td>\n",
       "    </tr>\n",
       "    <tr>\n",
       "      <th>Perpetrator Count</th>\n",
       "      <td>0</td>\n",
       "      <td>0</td>\n",
       "      <td>0</td>\n",
       "      <td>0</td>\n",
       "      <td>0</td>\n",
       "    </tr>\n",
       "    <tr>\n",
       "      <th>Record Source</th>\n",
       "      <td>FBI</td>\n",
       "      <td>FBI</td>\n",
       "      <td>FBI</td>\n",
       "      <td>FBI</td>\n",
       "      <td>FBI</td>\n",
       "    </tr>\n",
       "  </tbody>\n",
       "</table>\n",
       "</div>"
      ],
      "text/plain": [
       "                                       556910                  242253  \\\n",
       "Record ID                              556911                  242254   \n",
       "Agency Code                           MI82349                 WIMPD00   \n",
       "Agency Name                           Detroit               Milwaukee   \n",
       "Agency Type                  Municipal Police        Municipal Police   \n",
       "City                                    Wayne               Milwaukee   \n",
       "State                                Michigan               Wisconsin   \n",
       "Year                                     2009                    1991   \n",
       "Month                                   March                  August   \n",
       "Incident                                   22                       9   \n",
       "Crime Type             Murder or Manslaughter  Murder or Manslaughter   \n",
       "Crime Solved                              Yes                     Yes   \n",
       "Victim Sex                               Male                    Male   \n",
       "Victim Age                                 35                      20   \n",
       "Victim Race                             White                   Black   \n",
       "Victim Ethnicity                      Unknown                 Unknown   \n",
       "Perpetrator Sex                          Male                    Male   \n",
       "Perpetrator Age                             0                      20   \n",
       "Perpetrator Race                        White                   Black   \n",
       "Perpetrator Ethnicity                 Unknown                 Unknown   \n",
       "Relationship                          Unknown                 Unknown   \n",
       "Weapon                                Handgun                 Handgun   \n",
       "Victim Count                                0                       0   \n",
       "Perpetrator Count                           0                       0   \n",
       "Record Source                             FBI                     FBI   \n",
       "\n",
       "                                       194254                  598232  \\\n",
       "Record ID                              194255                  598233   \n",
       "Agency Code                           PAPEP00                 CA05300   \n",
       "Agency Name                      Philadelphia          Trinity County   \n",
       "Agency Type                  Municipal Police                 Sheriff   \n",
       "City                             Philadelphia                 Trinity   \n",
       "State                            Pennsylvania              California   \n",
       "Year                                     1989                    2013   \n",
       "Month                                    July                    June   \n",
       "Incident                                   30                       1   \n",
       "Crime Type             Murder or Manslaughter  Murder or Manslaughter   \n",
       "Crime Solved                              Yes                     Yes   \n",
       "Victim Sex                             Female                  Female   \n",
       "Victim Age                                  2                      51   \n",
       "Victim Race            Asian/Pacific Islander                   White   \n",
       "Victim Ethnicity                      Unknown            Not Hispanic   \n",
       "Perpetrator Sex                          Male                    Male   \n",
       "Perpetrator Age                            33                      40   \n",
       "Perpetrator Race       Asian/Pacific Islander                   White   \n",
       "Perpetrator Ethnicity                 Unknown            Not Hispanic   \n",
       "Relationship                           Family                Stranger   \n",
       "Weapon                                Handgun                 Shotgun   \n",
       "Victim Count                                2                       0   \n",
       "Perpetrator Count                           0                       0   \n",
       "Record Source                             FBI                     FBI   \n",
       "\n",
       "                                       325843  \n",
       "Record ID                              325844  \n",
       "Agency Code                           MOKPD00  \n",
       "Agency Name                       Kansas City  \n",
       "Agency Type                  Municipal Police  \n",
       "City                                  Jackson  \n",
       "State                                Missouri  \n",
       "Year                                     1995  \n",
       "Month                                November  \n",
       "Incident                                    3  \n",
       "Crime Type             Murder or Manslaughter  \n",
       "Crime Solved                              Yes  \n",
       "Victim Sex                               Male  \n",
       "Victim Age                                 23  \n",
       "Victim Race                             Black  \n",
       "Victim Ethnicity                      Unknown  \n",
       "Perpetrator Sex                          Male  \n",
       "Perpetrator Age                             0  \n",
       "Perpetrator Race                        White  \n",
       "Perpetrator Ethnicity                 Unknown  \n",
       "Relationship                     Acquaintance  \n",
       "Weapon                                Handgun  \n",
       "Victim Count                                0  \n",
       "Perpetrator Count                           0  \n",
       "Record Source                             FBI  "
      ]
     },
     "execution_count": 29,
     "metadata": {},
     "output_type": "execute_result"
    }
   ],
   "source": [
    "\n",
    "homicides_df.sample(5).T"
   ]
  },
  {
   "cell_type": "code",
   "execution_count": 53,
   "metadata": {},
   "outputs": [
    {
     "data": {
      "text/plain": [
       "array(['Native American/Alaska Native', 'White', 'Unknown', 'Black',\n",
       "       'Asian/Pacific Islander'], dtype=object)"
      ]
     },
     "execution_count": 53,
     "metadata": {},
     "output_type": "execute_result"
    }
   ],
   "source": [
    "\n",
    "homicides_df['Perpetrator Race'].unique()"
   ]
  },
  {
   "cell_type": "code",
   "execution_count": 55,
   "metadata": {},
   "outputs": [
    {
     "data": {
      "text/plain": [
       "array([1980, 1981, 1982, 1983, 1984, 1985, 1986, 1987, 1988, 1989, 1990,\n",
       "       1991, 1992, 1993, 1994, 1995, 1996, 1997, 1998, 1999, 2000, 2001,\n",
       "       2002, 2003, 2004, 2005, 2006, 2007, 2008, 2009, 2010, 2011, 2012,\n",
       "       2013, 2014], dtype=int64)"
      ]
     },
     "execution_count": 55,
     "metadata": {},
     "output_type": "execute_result"
    }
   ],
   "source": [
    "\n",
    "homicides_df['Year'].unique()"
   ]
  },
  {
   "cell_type": "code",
   "execution_count": 30,
   "metadata": {},
   "outputs": [
    {
     "data": {
      "text/plain": [
       "FrozenList(['State', 'Race'])"
      ]
     },
     "execution_count": 30,
     "metadata": {},
     "output_type": "execute_result"
    }
   ],
   "source": [
    "\n",
    "from pandas.core.indexes.frozen import FrozenList\n",
    "\n",
    "column_list = ['State', 'Perpetrator Race']\n",
    "match_series = (homicides_df['Year'] == max_year)\n",
    "homicides_max_year_groupby = homicides_df[match_series].groupby(by=column_list)\n",
    "homicides_max_year_df = homicides_max_year_groupby['Perpetrator Count'].sum()\n",
    "homicides_max_year_df.index.names = FrozenList(['State', 'Race'])\n",
    "homicides_max_year_df.index.names"
   ]
  },
  {
   "cell_type": "code",
   "execution_count": 31,
   "metadata": {},
   "outputs": [],
   "source": [
    "\n",
    "homicides_max_year_df = homicides_max_year_df.reset_index()"
   ]
  },
  {
   "cell_type": "code",
   "execution_count": 32,
   "metadata": {},
   "outputs": [],
   "source": [
    "\n",
    "def f(x):\n",
    "    \n",
    "    return float(x[:-1])/100"
   ]
  },
  {
   "cell_type": "code",
   "execution_count": 33,
   "metadata": {},
   "outputs": [],
   "source": [
    "\n",
    "wiki_url = 'https://en.wikipedia.org/wiki/'\n",
    "tables_url = '{}Historical_racial_and_ethnic_demographics_of_the_United_States'.format(wiki_url)\n",
    "tables_df_list = pd.read_html(tables_url)"
   ]
  },
  {
   "cell_type": "code",
   "execution_count": 61,
   "metadata": {},
   "outputs": [
    {
     "data": {
      "text/plain": [
       "0.233605523171169"
      ]
     },
     "execution_count": 61,
     "metadata": {},
     "output_type": "execute_result"
    }
   ],
   "source": [
    "\n",
    "match_series = (homicides_df['Perpetrator Race'] == 'Black') & (homicides_df['Year'] == max_year)\n",
    "victum_count = homicides_df[match_series]['Victim Count'].sum()\n",
    "pop_count = us_pop_df['Population_{}'.format(max_year)].sum()\n",
    "victum_count*100000/pop_count"
   ]
  },
  {
   "cell_type": "code",
   "execution_count": 34,
   "metadata": {},
   "outputs": [],
   "source": [
    "\n",
    "# African–Americans as percentage of total population (1790–2010) by U.S. state\n",
    "black_pop_df = tables_df_list[27]\n",
    "black_pop_df.columns = black_pop_df.iloc[0]\n",
    "black_pop_df = black_pop_df.iloc[1:].T\n",
    "black_pop_df.columns = black_pop_df.iloc[0]\n",
    "black_pop_df = black_pop_df.iloc[1:].T\n",
    "black_pop_df.columns = [int(column_name) for column_name in black_pop_df.columns]\n",
    "blacks_max_year_df = black_pop_df[max_year].reset_index()\n",
    "blacks_max_year_df.columns = ['State', 'Percent']\n",
    "blacks_max_year_df['Race'] = 'Black'\n",
    "column_list = ['State', 'Race']\n",
    "blacks_max_year_groupby = blacks_max_year_df.groupby(by=column_list)\n",
    "blacks_max_year_df = blacks_max_year_groupby['Percent'].max().map(f).reset_index()"
   ]
  },
  {
   "cell_type": "code",
   "execution_count": 35,
   "metadata": {},
   "outputs": [],
   "source": [
    "\n",
    "wiki_url = 'https://en.wikipedia.org/wiki/'\n",
    "tables_url = '{}White_Americans'.format(wiki_url)\n",
    "tables_df_list = pd.read_html(tables_url)"
   ]
  },
  {
   "cell_type": "code",
   "execution_count": 36,
   "metadata": {},
   "outputs": [],
   "source": [
    "\n",
    "# White American population as of 2000 and 2010 censuses\n",
    "white_pop_df = tables_df_list[2]\n",
    "white_pop_df.columns = white_pop_df.iloc[0]\n",
    "white_pop_df = white_pop_df.iloc[1:].T\n",
    "white_pop_df.columns = white_pop_df.iloc[0]\n",
    "white_pop_df = white_pop_df.iloc[1:].T\n",
    "white_pop_df.columns = ['Population_2000', 'Percent_2000', 'Population_2010',\n",
    "                        'Percent_2010', 'Percent_Growth']\n",
    "whites_max_year_df = white_pop_df['Percent_{}'.format(max_year)].reset_index()\n",
    "whites_max_year_df.columns = ['State', 'Percent']\n",
    "whites_max_year_df['Race'] = 'White'\n",
    "column_list = ['State', 'Race']\n",
    "whites_max_year_groupby = whites_max_year_df.groupby(by=column_list)\n",
    "whites_max_year_df = whites_max_year_groupby['Percent'].max().map(f).reset_index()"
   ]
  },
  {
   "cell_type": "code",
   "execution_count": 37,
   "metadata": {},
   "outputs": [],
   "source": [
    "\n",
    "column_list = ['State', 'Race', 'Percent']\n",
    "percents_df = pd.merge(left=whites_max_year_df, right=blacks_max_year_df, how='outer',\n",
    "                       on=column_list).sort_values(column_list).reset_index(drop=True)\n",
    "column_list = ['State', 'Race']\n",
    "homicides_max_year_df = pd.merge(left=homicides_max_year_df, right=percents_df, how='outer',\n",
    "                                 on=column_list).sort_values(column_list).reset_index(drop=True)"
   ]
  },
  {
   "cell_type": "markdown",
   "metadata": {},
   "source": [
    "\n",
    "We are looking to compute the intentional homicide rate per 100,000 inhabitants for our max year."
   ]
  },
  {
   "cell_type": "code",
   "execution_count": 38,
   "metadata": {},
   "outputs": [
    {
     "data": {
      "text/plain": [
       "11"
      ]
     },
     "execution_count": 38,
     "metadata": {},
     "output_type": "execute_result"
    }
   ],
   "source": [
    "\n",
    "wiki_url = 'https://en.wikipedia.org/wiki/'\n",
    "tables_url = '{}List_of_countries_by_intentional_homicide_rate'.format(wiki_url)\n",
    "tables_df_list = pd.read_html(tables_url)\n",
    "len(tables_df_list)"
   ]
  },
  {
   "cell_type": "code",
   "execution_count": 39,
   "metadata": {},
   "outputs": [],
   "source": [
    "\n",
    "# UNODC murder rates: murders per 100,000 inhabitants\n",
    "country_pop_df = tables_df_list[3]\n",
    "country_pop_df.columns = country_pop_df.iloc[0]\n",
    "country_pop_df = country_pop_df.iloc[2:].T\n",
    "country_pop_df.columns = country_pop_df.iloc[0]\n",
    "country_pop_df = country_pop_df.iloc[1:].T\n",
    "country_pop_df.index.name = 'Country'\n",
    "country_pop_df.columns = ['Region', 'Subregion', 'Rate', 'Count', 'Year', 'Source']\n",
    "country_pop_df['Rate'] = country_pop_df['Rate'].map(lambda x: float(x))"
   ]
  },
  {
   "cell_type": "code",
   "execution_count": 40,
   "metadata": {},
   "outputs": [],
   "source": [
    "\n",
    "match_series = (country_pop_df['Subregion'].isin(['Eastern Africa', 'Middle Africa',\n",
    "                                                  'Southern Africa', 'Western Africa']))\n",
    "african_homicide_rates = country_pop_df[match_series]['Rate'].dropna().tolist()"
   ]
  },
  {
   "cell_type": "code",
   "execution_count": 41,
   "metadata": {},
   "outputs": [],
   "source": [
    "\n",
    "match_series = (country_pop_df['Region'] == 'Europe')\n",
    "european_homicide_rates = country_pop_df[match_series]['Rate'].dropna().tolist()"
   ]
  },
  {
   "cell_type": "code",
   "execution_count": 42,
   "metadata": {},
   "outputs": [],
   "source": [
    "\n",
    "import numpy as np\n",
    "\n",
    "pop_dict = us_pop_df['Population_{}'.format(max_year)].to_dict()\n",
    "\n",
    "def f(row_series):\n",
    "    state = row_series['State']\n",
    "    count = row_series['Perpetrator Count']\n",
    "    percent = row_series['Percent']\n",
    "    if state in pop_dict:\n",
    "        population = pop_dict[state]\n",
    "        rate = 100000*count/(population*percent)\n",
    "    else:\n",
    "        rate = np.nan\n",
    "    \n",
    "    return rate\n",
    "\n",
    "homicides_max_year_df['Rate'] = homicides_max_year_df.apply(f, axis=1)"
   ]
  },
  {
   "cell_type": "code",
   "execution_count": 43,
   "metadata": {},
   "outputs": [],
   "source": [
    "\n",
    "match_series = (homicides_max_year_df['Race'] == 'Black')\n",
    "black_homicide_rates = homicides_max_year_df[match_series]['Rate'].dropna().tolist()"
   ]
  },
  {
   "cell_type": "code",
   "execution_count": 44,
   "metadata": {},
   "outputs": [],
   "source": [
    "\n",
    "match_series = (homicides_max_year_df['Race'] == 'White')\n",
    "white_homicide_rates = homicides_max_year_df[match_series]['Rate'].dropna().tolist()"
   ]
  },
  {
   "cell_type": "code",
   "execution_count": 50,
   "metadata": {},
   "outputs": [
    {
     "name": "stdout",
     "output_type": "stream",
     "text": [
      "\n",
      "Mean African Homicide Rate: 8.654117647058824\n",
      "Mean Black Homicide Rate: 4.943248447172896\n",
      "Mean European Homicide Rate: 1.5747058823529412\n",
      "Mean White Homicide Rate: 0.5119163693316523\n"
     ]
    }
   ],
   "source": [
    "\n",
    "match_series = (homicides_max_year_df['Race'] == 'Black')\n",
    "mean_black_homicide_rate = homicides_max_year_df[match_series]['Rate'].mean()\n",
    "match_series = (homicides_max_year_df['Race'] == 'White')\n",
    "mean_white_homicide_rate = homicides_max_year_df[match_series]['Rate'].mean()\n",
    "match_series = (country_pop_df['Region'] == 'Europe')\n",
    "mean_european_homicide_rate = country_pop_df[match_series]['Rate'].mean()\n",
    "match_series = (country_pop_df['Subregion'].isin(['Eastern Africa', 'Middle Africa',\n",
    "                                                  'Southern Africa', 'Western Africa']))\n",
    "mean_african_homicide_rate = country_pop_df[match_series]['Rate'].mean()\n",
    "print_str = '''\n",
    "Mean African Homicide Rate: {}\n",
    "Mean Black Homicide Rate: {}\n",
    "Mean European Homicide Rate: {}\n",
    "Mean White Homicide Rate: {}'''\n",
    "print(print_str.format(mean_african_homicide_rate, mean_black_homicide_rate,\n",
    "                       mean_european_homicide_rate, mean_white_homicide_rate))"
   ]
  },
  {
   "cell_type": "code",
   "execution_count": 52,
   "metadata": {},
   "outputs": [
    {
     "data": {
      "text/plain": [
       "1531.0"
      ]
     },
     "execution_count": 52,
     "metadata": {},
     "output_type": "execute_result"
    }
   ],
   "source": [
    "\n",
    "match_series = (homicides_max_year_df['Race'] == 'Black')\n",
    "homicides_max_year_df[match_series]['Perpetrator Count'].sum()"
   ]
  },
  {
   "cell_type": "code",
   "execution_count": 171,
   "metadata": {},
   "outputs": [
    {
     "name": "stdout",
     "output_type": "stream",
     "text": [
      "Here are the country groups tested against the murder rate data you agreed to:\n",
      "\n",
      "European countries vs US White: t=3.82; p=0.000\n",
      "We can reject the null hypothesis that the US White population did not come from the same distribution as the European countries population.\n",
      "\n",
      "African countries vs US White: t=7.61; p=0.000\n",
      "We can reject the null hypothesis that the US White population did not come from the same distribution as the African countries population.\n",
      "\n",
      "European countries vs US Black: t=-5.03; p=0.000\n",
      "We can reject the null hypothesis that the US Black population did not come from the same distribution as the European countries population.\n",
      "\n",
      "African countries vs US Black: t=2.85; p=0.005\n",
      "We can reject the null hypothesis that the US Black population did not come from the same distribution as the African countries population.\n",
      "\n"
     ]
    }
   ],
   "source": [
    "\n",
    "from scipy.stats import ttest_ind\n",
    "\n",
    "format_str = 'Here are the country groups tested against the murder rate data you agreed to:'\n",
    "print(format_str)\n",
    "print()\n",
    "\n",
    "hypothesis_format_str = 'We {} reject the null hypothesis that the {} '\n",
    "hypothesis_format_str += 'population did not come from the same distribution as the {} population.'\n",
    "\n",
    "def test_populations(global_data, us_data, country_str, test_race):\n",
    "    t, p = ttest_ind(a=global_data, b=us_data, axis=0, equal_var=True, nan_policy='raise')\n",
    "    print('{} vs {}: t={:0.2f}; p={:0.3f}'.format(country_str, test_race, t[0], p[0]))\n",
    "\n",
    "    # If that probability is small we can reject the null hypothesis\n",
    "    if p[0] < 0.05:\n",
    "        can_cannot = 'can'\n",
    "    else:\n",
    "        can_cannot = 'cannot'\n",
    "    print(hypothesis_format_str.format(can_cannot, test_race, country_str))\n",
    "    print()\n",
    "\n",
    "test_race = 'US White'\n",
    "us_white_data = np.array(white_homicide_rates).reshape((-1, 1))\n",
    "global_european_data = np.array(european_homicide_rates).reshape((-1, 1))\n",
    "global_african_data = np.array(african_homicide_rates).reshape((-1, 1))\n",
    "\n",
    "country_str = 'European countries'\n",
    "test_populations(global_european_data, us_white_data, country_str, test_race)\n",
    "country_str = 'African countries'\n",
    "test_populations(global_african_data, us_white_data, country_str, test_race)\n",
    "\n",
    "test_race = 'US Black'\n",
    "us_black_data = np.array(black_homicide_rates).reshape((-1, 1))\n",
    "\n",
    "country_str = 'European countries'\n",
    "test_populations(global_european_data, us_black_data, country_str, test_race)\n",
    "country_str = 'African countries'\n",
    "test_populations(global_african_data, us_black_data, country_str, test_race)"
   ]
  },
  {
   "cell_type": "code",
   "execution_count": 159,
   "metadata": {},
   "outputs": [],
   "source": [
    "\n",
    "import matplotlib.pyplot as plt\n",
    "%matplotlib inline"
   ]
  },
  {
   "cell_type": "code",
   "execution_count": 172,
   "metadata": {},
   "outputs": [
    {
     "data": {
      "image/png": "[encoded data removed]",
      "text/plain": [
       "<Figure size 1296x288 with 1 Axes>"
      ]
     },
     "metadata": {},
     "output_type": "display_data"
    }
   ],
   "source": [
    "\n",
    "fig = plt.figure(figsize=(18, 4))\n",
    "ax = fig.add_subplot(111, autoscale_on=True)\n",
    "whites_AxesSubplot = pd.Series(white_homicide_rates).hist(ax=ax, bins=10, alpha=0.75, color='green')\n",
    "europeans_AxesSubplot = pd.Series(european_homicide_rates).hist(ax=ax, bins=10, alpha=0.25,\n",
    "                                                                color='red')"
   ]
  },
  {
   "cell_type": "code",
   "execution_count": 173,
   "metadata": {},
   "outputs": [
    {
     "data": {
      "image/png": "[encoded data removed]",
      "text/plain": [
       "<Figure size 1296x288 with 1 Axes>"
      ]
     },
     "metadata": {},
     "output_type": "display_data"
    }
   ],
   "source": [
    "\n",
    "fig = plt.figure(figsize=(18, 4))\n",
    "ax = fig.add_subplot(111, autoscale_on=True)\n",
    "blacks_AxesSubplot = pd.Series(black_homicide_rates).hist(ax=ax, bins=10, alpha=0.75, color='green')\n",
    "africans_AxesSubplot = pd.Series(african_homicide_rates).hist(ax=ax, bins=10, alpha=0.25,\n",
    "                                                                color='red')"
   ]
  },
  {
   "cell_type": "code",
   "execution_count": 1,
   "metadata": {},
   "outputs": [
    {
     "data": {
      "application/javascript": [
       "var kernel = IPython.notebook.kernel;\n",
       "var body = document.body,  \n",
       "    attribs = body.attributes;\n",
       "var command = \"notebook_path = \" + \"'\"+attribs['data-notebook-path'].value+\"'\";\n",
       "kernel.execute(command);\n"
      ],
      "text/plain": [
       "<IPython.core.display.Javascript object>"
      ]
     },
     "metadata": {},
     "output_type": "display_data"
    }
   ],
   "source": [
    "%%javascript\n",
    "var kernel = IPython.notebook.kernel;\n",
    "var body = document.body,  \n",
    "    attribs = body.attributes;\n",
    "var command = \"notebook_path = \" + \"'\"+attribs['data-notebook-path'].value+\"'\";\n",
    "kernel.execute(command);"
   ]
  },
  {
   "cell_type": "code",
   "execution_count": 3,
   "metadata": {},
   "outputs": [
    {
     "data": {
      "text/html": [
       "Click <a href=\"https://nbviewer.jupyter.org/github/dbabbitt/notebooks/blob/master/Miscellaneous/ipynb/Homicide%20by%20Race.ipynb\" target=\"_blank\">here</a> to view notebook in nbviewer."
      ],
      "text/plain": [
       "<IPython.core.display.HTML object>"
      ]
     },
     "execution_count": 3,
     "metadata": {},
     "output_type": "execute_result"
    }
   ],
   "source": [
    "# %load ../../load_magic/nbviewer.py\n",
    "\n",
    "from IPython.display import HTML\n",
    "\n",
    "notebook_viewer_url = 'https://nbviewer.jupyter.org/github/dbabbitt/notebooks/blob/master/'\n",
    "notebook_viewer_url += '/'.join(notebook_path.split('/')[1:])\n",
    "html_str = 'Click <a href=\"{}\" target=\"_blank\">here</a> to view notebook in nbviewer.'\n",
    "HTML(html_str.format(notebook_viewer_url))"
   ]
  },
  {
   "cell_type": "code",
   "execution_count": null,
   "metadata": {},
   "outputs": [],
   "source": []
  }
 ],
 "metadata": {
  "kernelspec": {
   "display_name": "Python 3",
   "language": "python",
   "name": "python3"
  },
  "language_info": {
   "codemirror_mode": {
    "name": "ipython",
    "version": 3
   },
   "file_extension": ".py",
   "mimetype": "text/x-python",
   "name": "python",
   "nbconvert_exporter": "python",
   "pygments_lexer": "ipython3",
   "version": "3.6.4"
  }
 },
 "nbformat": 4,
 "nbformat_minor": 2
}
