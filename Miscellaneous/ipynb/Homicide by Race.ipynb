{
 "cells": [
  {
   "cell_type": "code",
   "execution_count": 124,
   "metadata": {},
   "outputs": [
    {
     "name": "stdout",
     "output_type": "stream",
     "text": [
      "DATA_FOLDER: ../data/\n",
      "SAVES_FOLDER: ../saves/\n",
      "Pretty printing has been turned OFF\n",
      "DATA_FOLDER\t ENCODING_TYPE\t FrozenList\t SAVES_FOLDER\t african_homicide_rates\t africans_AxesSubplot\t asian_pop_df\t asians_max_year_df\t asians_max_year_groupby\t \n",
      "attempt_to_pickle\t ax\t black_himicide_rates\t black_homicide_rates\t black_pop_df\t blacks_AxesSubplot\t blacks_max_year_df\t blacks_max_year_groupby\t column_list\t \n",
      "column_name\t country_pop_df\t country_str\t dtype_df\t european_homicide_rates\t europeans_AxesSubplot\t example_iterrows\t f\t fig\t \n",
      "format_str\t get_column_descriptions\t global_african_data\t global_european_data\t homicides_df\t homicides_max_year_df\t homicides_max_year_groupby\t hypothesis_format_str\t load_csv\t \n",
      "load_dataframes\t load_object\t match_series\t math\t max_year\t np\t os\t pd\t percents_df\t \n",
      "pickle\t plt\t pop_df\t pop_dict\t pop_max_year_series\t save_dataframes\t store_objects\t tables_df_list\t tables_url\t \n",
      "test_populations\t test_race\t ttest_ind\t us_black_data\t us_pop_df\t us_white_data\t white_homicide_rates\t white_pop_df\t whites_AxesSubplot\t \n",
      "whites_max_year_df\t whites_max_year_groupby\t wiki_url\t year\t year_set\t \n"
     ]
    }
   ],
   "source": [
    "\n",
    "%run ../../load_magic/storage.py\n",
    "%run ../../load_magic/dataframes.py\n",
    "%pprint\n",
    "%who\n",
    "\n",
    "# https://www.kaggle.com/jyzaguirre/us-homicide-reports/version/2\n",
    "homicides_df = load_csv('U.S._Homicide_Reports,_1980-2014_Homicides_between_1980_and_2014')"
   ]
  },
  {
   "cell_type": "code",
   "execution_count": 125,
   "metadata": {},
   "outputs": [
    {
     "data": {
      "text/plain": [
       "Index(['Record ID', 'Agency Code', 'Agency Name', 'Agency Type', 'City',\n",
       "       'State', 'Year', 'Month', 'Incident', 'Crime Type', 'Crime Solved',\n",
       "       'Victim Sex', 'Victim Age', 'Victim Race', 'Victim Ethnicity',\n",
       "       'Perpetrator Sex', 'Perpetrator Age', 'Perpetrator Race',\n",
       "       'Perpetrator Ethnicity', 'Relationship', 'Weapon', 'Victim Count',\n",
       "       'Perpetrator Count', 'Record Source'],\n",
       "      dtype='object')"
      ]
     },
     "execution_count": 125,
     "metadata": {},
     "output_type": "execute_result"
    }
   ],
   "source": [
    "\n",
    "homicides_df.columns"
   ]
  },
  {
   "cell_type": "code",
   "execution_count": 126,
   "metadata": {},
   "outputs": [
    {
     "data": {
      "text/plain": [
       "51"
      ]
     },
     "execution_count": 126,
     "metadata": {},
     "output_type": "execute_result"
    }
   ],
   "source": [
    "\n",
    "len(homicides_df['State'].unique())"
   ]
  },
  {
   "cell_type": "code",
   "execution_count": 127,
   "metadata": {},
   "outputs": [],
   "source": [
    "\n",
    "wiki_url = 'https://en.wikipedia.org/wiki/'\n",
    "us_pop_df = pd.DataFrame([])\n",
    "year_set = set([1980, 1990, 2000])\n",
    "for year in year_set:\n",
    "    try:\n",
    "        tables_url = '{}{}_United_States_Census'.format(wiki_url, year)\n",
    "        tables_df_list = pd.read_html(tables_url)\n",
    "\n",
    "        pop_df = tables_df_list[1].dropna(axis=0, how='all').dropna(axis=1, how='all')\n",
    "        pop_df.columns = pop_df.iloc[0]\n",
    "        pop_df = pop_df.iloc[1:].T\n",
    "        pop_df.columns = pop_df.iloc[1]\n",
    "        pop_df = pop_df.iloc[range(0, 3, 2)].T\n",
    "        \n",
    "        pop_df.columns = ['Rank_{}'.format(year), 'Population_{}'.format(year)]\n",
    "        us_pop_df = pd.merge(left=us_pop_df, right=pop_df, how='outer',\n",
    "                             left_index=True, right_index=True)\n",
    "    except Exception as e:\n",
    "        print(e)\n",
    "us_pop_df = us_pop_df.dropna()"
   ]
  },
  {
   "cell_type": "code",
   "execution_count": 128,
   "metadata": {},
   "outputs": [],
   "source": [
    "\n",
    "dtype_df = get_column_descriptions(us_pop_df)\n",
    "match_series = (dtype_df['only_integers'] == True)"
   ]
  },
  {
   "cell_type": "code",
   "execution_count": 129,
   "metadata": {},
   "outputs": [],
   "source": [
    "\n",
    "for column_name in dtype_df[match_series]['column_name']:\n",
    "    us_pop_df[column_name] = us_pop_df[column_name].map(lambda x: int(x))"
   ]
  },
  {
   "cell_type": "code",
   "execution_count": 130,
   "metadata": {},
   "outputs": [],
   "source": [
    "\n",
    "year_set = set([1980, 1990, 2000])\n",
    "max_year = max(set(homicides_df['Year'].unique()) & year_set)"
   ]
  },
  {
   "cell_type": "code",
   "execution_count": 131,
   "metadata": {},
   "outputs": [
    {
     "data": {
      "text/plain": [
       "array(['Murder or Manslaughter', 'Manslaughter by Negligence'],\n",
       "      dtype=object)"
      ]
     },
     "execution_count": 131,
     "metadata": {},
     "output_type": "execute_result"
    }
   ],
   "source": [
    "\n",
    "homicides_df['Crime Type'].unique()"
   ]
  },
  {
   "cell_type": "code",
   "execution_count": 132,
   "metadata": {},
   "outputs": [
    {
     "data": {
      "text/html": [
       "<div>\n",
       "<style scoped>\n",
       "    .dataframe tbody tr th:only-of-type {\n",
       "        vertical-align: middle;\n",
       "    }\n",
       "\n",
       "    .dataframe tbody tr th {\n",
       "        vertical-align: top;\n",
       "    }\n",
       "\n",
       "    .dataframe thead th {\n",
       "        text-align: right;\n",
       "    }\n",
       "</style>\n",
       "<table border=\"1\" class=\"dataframe\">\n",
       "  <thead>\n",
       "    <tr style=\"text-align: right;\">\n",
       "      <th></th>\n",
       "      <th>State</th>\n",
       "      <th>Year</th>\n",
       "      <th>Perpetrator Race</th>\n",
       "    </tr>\n",
       "  </thead>\n",
       "  <tbody>\n",
       "    <tr>\n",
       "      <th>195598</th>\n",
       "      <td>Texas</td>\n",
       "      <td>1989</td>\n",
       "      <td>Unknown</td>\n",
       "    </tr>\n",
       "    <tr>\n",
       "      <th>343879</th>\n",
       "      <td>Massachusetts</td>\n",
       "      <td>1996</td>\n",
       "      <td>Black</td>\n",
       "    </tr>\n",
       "    <tr>\n",
       "      <th>99387</th>\n",
       "      <td>Tennessee</td>\n",
       "      <td>1984</td>\n",
       "      <td>Black</td>\n",
       "    </tr>\n",
       "    <tr>\n",
       "      <th>242077</th>\n",
       "      <td>Wisconsin</td>\n",
       "      <td>1991</td>\n",
       "      <td>White</td>\n",
       "    </tr>\n",
       "    <tr>\n",
       "      <th>583122</th>\n",
       "      <td>Florida</td>\n",
       "      <td>2011</td>\n",
       "      <td>White</td>\n",
       "    </tr>\n",
       "  </tbody>\n",
       "</table>\n",
       "</div>"
      ],
      "text/plain": [
       "                State  Year Perpetrator Race\n",
       "195598          Texas  1989          Unknown\n",
       "343879  Massachusetts  1996            Black\n",
       "99387       Tennessee  1984            Black\n",
       "242077      Wisconsin  1991            White\n",
       "583122        Florida  2011            White"
      ]
     },
     "execution_count": 132,
     "metadata": {},
     "output_type": "execute_result"
    }
   ],
   "source": [
    "\n",
    "column_list = ['State', 'Year', 'Perpetrator Race']\n",
    "homicides_df[column_list].sample(5).T.tail(15).T"
   ]
  },
  {
   "cell_type": "code",
   "execution_count": 133,
   "metadata": {},
   "outputs": [
    {
     "data": {
      "text/html": [
       "<div>\n",
       "<style scoped>\n",
       "    .dataframe tbody tr th:only-of-type {\n",
       "        vertical-align: middle;\n",
       "    }\n",
       "\n",
       "    .dataframe tbody tr th {\n",
       "        vertical-align: top;\n",
       "    }\n",
       "\n",
       "    .dataframe thead th {\n",
       "        text-align: right;\n",
       "    }\n",
       "</style>\n",
       "<table border=\"1\" class=\"dataframe\">\n",
       "  <thead>\n",
       "    <tr style=\"text-align: right;\">\n",
       "      <th></th>\n",
       "      <th>396167</th>\n",
       "      <th>619187</th>\n",
       "      <th>75068</th>\n",
       "      <th>538375</th>\n",
       "      <th>409395</th>\n",
       "    </tr>\n",
       "  </thead>\n",
       "  <tbody>\n",
       "    <tr>\n",
       "      <th>Record ID</th>\n",
       "      <td>396168</td>\n",
       "      <td>619188</td>\n",
       "      <td>75069</td>\n",
       "      <td>538376</td>\n",
       "      <td>409396</td>\n",
       "    </tr>\n",
       "    <tr>\n",
       "      <th>Agency Code</th>\n",
       "      <td>NC03201</td>\n",
       "      <td>NY03030</td>\n",
       "      <td>MOKPD00</td>\n",
       "      <td>GA06702</td>\n",
       "      <td>MI09239</td>\n",
       "    </tr>\n",
       "    <tr>\n",
       "      <th>Agency Name</th>\n",
       "      <td>Durham</td>\n",
       "      <td>New York</td>\n",
       "      <td>Kansas City</td>\n",
       "      <td>Gwinnett County</td>\n",
       "      <td>Bay City</td>\n",
       "    </tr>\n",
       "    <tr>\n",
       "      <th>Agency Type</th>\n",
       "      <td>Municipal Police</td>\n",
       "      <td>Municipal Police</td>\n",
       "      <td>Municipal Police</td>\n",
       "      <td>County Police</td>\n",
       "      <td>Municipal Police</td>\n",
       "    </tr>\n",
       "    <tr>\n",
       "      <th>City</th>\n",
       "      <td>Durham</td>\n",
       "      <td>New York</td>\n",
       "      <td>Jackson</td>\n",
       "      <td>Gwinnett</td>\n",
       "      <td>Bay</td>\n",
       "    </tr>\n",
       "    <tr>\n",
       "      <th>State</th>\n",
       "      <td>North Carolina</td>\n",
       "      <td>New York</td>\n",
       "      <td>Missouri</td>\n",
       "      <td>Georgia</td>\n",
       "      <td>Michigan</td>\n",
       "    </tr>\n",
       "    <tr>\n",
       "      <th>Year</th>\n",
       "      <td>1999</td>\n",
       "      <td>2012</td>\n",
       "      <td>1983</td>\n",
       "      <td>2008</td>\n",
       "      <td>2000</td>\n",
       "    </tr>\n",
       "    <tr>\n",
       "      <th>Month</th>\n",
       "      <td>June</td>\n",
       "      <td>May</td>\n",
       "      <td>February</td>\n",
       "      <td>May</td>\n",
       "      <td>September</td>\n",
       "    </tr>\n",
       "    <tr>\n",
       "      <th>Incident</th>\n",
       "      <td>1</td>\n",
       "      <td>31</td>\n",
       "      <td>8</td>\n",
       "      <td>1</td>\n",
       "      <td>1</td>\n",
       "    </tr>\n",
       "    <tr>\n",
       "      <th>Crime Type</th>\n",
       "      <td>Murder or Manslaughter</td>\n",
       "      <td>Murder or Manslaughter</td>\n",
       "      <td>Murder or Manslaughter</td>\n",
       "      <td>Murder or Manslaughter</td>\n",
       "      <td>Murder or Manslaughter</td>\n",
       "    </tr>\n",
       "    <tr>\n",
       "      <th>Crime Solved</th>\n",
       "      <td>Yes</td>\n",
       "      <td>No</td>\n",
       "      <td>Yes</td>\n",
       "      <td>No</td>\n",
       "      <td>Yes</td>\n",
       "    </tr>\n",
       "    <tr>\n",
       "      <th>Victim Sex</th>\n",
       "      <td>Male</td>\n",
       "      <td>Male</td>\n",
       "      <td>Male</td>\n",
       "      <td>Female</td>\n",
       "      <td>Male</td>\n",
       "    </tr>\n",
       "    <tr>\n",
       "      <th>Victim Age</th>\n",
       "      <td>21</td>\n",
       "      <td>25</td>\n",
       "      <td>26</td>\n",
       "      <td>60</td>\n",
       "      <td>56</td>\n",
       "    </tr>\n",
       "    <tr>\n",
       "      <th>Victim Race</th>\n",
       "      <td>Black</td>\n",
       "      <td>Black</td>\n",
       "      <td>Black</td>\n",
       "      <td>White</td>\n",
       "      <td>White</td>\n",
       "    </tr>\n",
       "    <tr>\n",
       "      <th>Victim Ethnicity</th>\n",
       "      <td>Not Hispanic</td>\n",
       "      <td>Hispanic</td>\n",
       "      <td>Not Hispanic</td>\n",
       "      <td>Not Hispanic</td>\n",
       "      <td>Unknown</td>\n",
       "    </tr>\n",
       "    <tr>\n",
       "      <th>Perpetrator Sex</th>\n",
       "      <td>Female</td>\n",
       "      <td>Unknown</td>\n",
       "      <td>Male</td>\n",
       "      <td>Unknown</td>\n",
       "      <td>Male</td>\n",
       "    </tr>\n",
       "    <tr>\n",
       "      <th>Perpetrator Age</th>\n",
       "      <td>42</td>\n",
       "      <td>0</td>\n",
       "      <td>24</td>\n",
       "      <td>0</td>\n",
       "      <td>39</td>\n",
       "    </tr>\n",
       "    <tr>\n",
       "      <th>Perpetrator Race</th>\n",
       "      <td>Black</td>\n",
       "      <td>Unknown</td>\n",
       "      <td>Black</td>\n",
       "      <td>Unknown</td>\n",
       "      <td>White</td>\n",
       "    </tr>\n",
       "    <tr>\n",
       "      <th>Perpetrator Ethnicity</th>\n",
       "      <td>Not Hispanic</td>\n",
       "      <td>Unknown</td>\n",
       "      <td>Not Hispanic</td>\n",
       "      <td>Unknown</td>\n",
       "      <td>Unknown</td>\n",
       "    </tr>\n",
       "    <tr>\n",
       "      <th>Relationship</th>\n",
       "      <td>Acquaintance</td>\n",
       "      <td>Unknown</td>\n",
       "      <td>Unknown</td>\n",
       "      <td>Stranger</td>\n",
       "      <td>Stranger</td>\n",
       "    </tr>\n",
       "    <tr>\n",
       "      <th>Weapon</th>\n",
       "      <td>Knife</td>\n",
       "      <td>Unknown</td>\n",
       "      <td>Handgun</td>\n",
       "      <td>Knife</td>\n",
       "      <td>Knife</td>\n",
       "    </tr>\n",
       "    <tr>\n",
       "      <th>Victim Count</th>\n",
       "      <td>0</td>\n",
       "      <td>0</td>\n",
       "      <td>0</td>\n",
       "      <td>0</td>\n",
       "      <td>0</td>\n",
       "    </tr>\n",
       "    <tr>\n",
       "      <th>Perpetrator Count</th>\n",
       "      <td>0</td>\n",
       "      <td>0</td>\n",
       "      <td>0</td>\n",
       "      <td>0</td>\n",
       "      <td>0</td>\n",
       "    </tr>\n",
       "    <tr>\n",
       "      <th>Record Source</th>\n",
       "      <td>FBI</td>\n",
       "      <td>FBI</td>\n",
       "      <td>FBI</td>\n",
       "      <td>FBI</td>\n",
       "      <td>FBI</td>\n",
       "    </tr>\n",
       "  </tbody>\n",
       "</table>\n",
       "</div>"
      ],
      "text/plain": [
       "                                       396167                  619187  \\\n",
       "Record ID                              396168                  619188   \n",
       "Agency Code                           NC03201                 NY03030   \n",
       "Agency Name                            Durham                New York   \n",
       "Agency Type                  Municipal Police        Municipal Police   \n",
       "City                                   Durham                New York   \n",
       "State                          North Carolina                New York   \n",
       "Year                                     1999                    2012   \n",
       "Month                                    June                     May   \n",
       "Incident                                    1                      31   \n",
       "Crime Type             Murder or Manslaughter  Murder or Manslaughter   \n",
       "Crime Solved                              Yes                      No   \n",
       "Victim Sex                               Male                    Male   \n",
       "Victim Age                                 21                      25   \n",
       "Victim Race                             Black                   Black   \n",
       "Victim Ethnicity                 Not Hispanic                Hispanic   \n",
       "Perpetrator Sex                        Female                 Unknown   \n",
       "Perpetrator Age                            42                       0   \n",
       "Perpetrator Race                        Black                 Unknown   \n",
       "Perpetrator Ethnicity            Not Hispanic                 Unknown   \n",
       "Relationship                     Acquaintance                 Unknown   \n",
       "Weapon                                  Knife                 Unknown   \n",
       "Victim Count                                0                       0   \n",
       "Perpetrator Count                           0                       0   \n",
       "Record Source                             FBI                     FBI   \n",
       "\n",
       "                                       75068                   538375  \\\n",
       "Record ID                               75069                  538376   \n",
       "Agency Code                           MOKPD00                 GA06702   \n",
       "Agency Name                       Kansas City         Gwinnett County   \n",
       "Agency Type                  Municipal Police           County Police   \n",
       "City                                  Jackson                Gwinnett   \n",
       "State                                Missouri                 Georgia   \n",
       "Year                                     1983                    2008   \n",
       "Month                                February                     May   \n",
       "Incident                                    8                       1   \n",
       "Crime Type             Murder or Manslaughter  Murder or Manslaughter   \n",
       "Crime Solved                              Yes                      No   \n",
       "Victim Sex                               Male                  Female   \n",
       "Victim Age                                 26                      60   \n",
       "Victim Race                             Black                   White   \n",
       "Victim Ethnicity                 Not Hispanic            Not Hispanic   \n",
       "Perpetrator Sex                          Male                 Unknown   \n",
       "Perpetrator Age                            24                       0   \n",
       "Perpetrator Race                        Black                 Unknown   \n",
       "Perpetrator Ethnicity            Not Hispanic                 Unknown   \n",
       "Relationship                          Unknown                Stranger   \n",
       "Weapon                                Handgun                   Knife   \n",
       "Victim Count                                0                       0   \n",
       "Perpetrator Count                           0                       0   \n",
       "Record Source                             FBI                     FBI   \n",
       "\n",
       "                                       409395  \n",
       "Record ID                              409396  \n",
       "Agency Code                           MI09239  \n",
       "Agency Name                          Bay City  \n",
       "Agency Type                  Municipal Police  \n",
       "City                                      Bay  \n",
       "State                                Michigan  \n",
       "Year                                     2000  \n",
       "Month                               September  \n",
       "Incident                                    1  \n",
       "Crime Type             Murder or Manslaughter  \n",
       "Crime Solved                              Yes  \n",
       "Victim Sex                               Male  \n",
       "Victim Age                                 56  \n",
       "Victim Race                             White  \n",
       "Victim Ethnicity                      Unknown  \n",
       "Perpetrator Sex                          Male  \n",
       "Perpetrator Age                            39  \n",
       "Perpetrator Race                        White  \n",
       "Perpetrator Ethnicity                 Unknown  \n",
       "Relationship                         Stranger  \n",
       "Weapon                                  Knife  \n",
       "Victim Count                                0  \n",
       "Perpetrator Count                           0  \n",
       "Record Source                             FBI  "
      ]
     },
     "execution_count": 133,
     "metadata": {},
     "output_type": "execute_result"
    }
   ],
   "source": [
    "\n",
    "homicides_df.sample(5).T"
   ]
  },
  {
   "cell_type": "code",
   "execution_count": 134,
   "metadata": {},
   "outputs": [
    {
     "data": {
      "text/plain": [
       "FrozenList(['State', 'Race'])"
      ]
     },
     "execution_count": 134,
     "metadata": {},
     "output_type": "execute_result"
    }
   ],
   "source": [
    "\n",
    "from pandas.core.indexes.frozen import FrozenList\n",
    "\n",
    "column_list = ['State', 'Perpetrator Race']\n",
    "match_series = (homicides_df['Year'] == max_year)\n",
    "homicides_max_year_groupby = homicides_df[match_series].groupby(by=column_list)\n",
    "homicides_max_year_df = homicides_max_year_groupby['Perpetrator Count'].sum()\n",
    "homicides_max_year_df.index.names = FrozenList(['State', 'Race'])\n",
    "homicides_max_year_df.index.names"
   ]
  },
  {
   "cell_type": "code",
   "execution_count": 135,
   "metadata": {},
   "outputs": [],
   "source": [
    "\n",
    "homicides_max_year_df = homicides_max_year_df.reset_index()"
   ]
  },
  {
   "cell_type": "code",
   "execution_count": 136,
   "metadata": {},
   "outputs": [],
   "source": [
    "\n",
    "def f(x):\n",
    "    \n",
    "    return float(x[:-1])/100"
   ]
  },
  {
   "cell_type": "code",
   "execution_count": 137,
   "metadata": {},
   "outputs": [],
   "source": [
    "\n",
    "wiki_url = 'https://en.wikipedia.org/wiki/'\n",
    "tables_url = '{}Historical_racial_and_ethnic_demographics_of_the_United_States'.format(wiki_url)\n",
    "tables_df_list = pd.read_html(tables_url)"
   ]
  },
  {
   "cell_type": "code",
   "execution_count": 138,
   "metadata": {},
   "outputs": [],
   "source": [
    "\n",
    "# African–Americans as percentage of total population (1790–2010) by U.S. state\n",
    "black_pop_df = tables_df_list[27]\n",
    "black_pop_df.columns = black_pop_df.iloc[0]\n",
    "black_pop_df = black_pop_df.iloc[1:].T\n",
    "black_pop_df.columns = black_pop_df.iloc[0]\n",
    "black_pop_df = black_pop_df.iloc[1:].T\n",
    "black_pop_df.columns = [int(column_name) for column_name in black_pop_df.columns]\n",
    "blacks_max_year_df = black_pop_df[max_year].reset_index()\n",
    "blacks_max_year_df.columns = ['State', 'Percent']\n",
    "blacks_max_year_df['Race'] = 'Black'\n",
    "column_list = ['State', 'Race']\n",
    "blacks_max_year_groupby = blacks_max_year_df.groupby(by=column_list)\n",
    "blacks_max_year_df = blacks_max_year_groupby['Percent'].max().map(f).reset_index()"
   ]
  },
  {
   "cell_type": "code",
   "execution_count": 139,
   "metadata": {},
   "outputs": [],
   "source": [
    "\n",
    "wiki_url = 'https://en.wikipedia.org/wiki/'\n",
    "tables_url = '{}White_Americans'.format(wiki_url)\n",
    "tables_df_list = pd.read_html(tables_url)"
   ]
  },
  {
   "cell_type": "code",
   "execution_count": 140,
   "metadata": {},
   "outputs": [],
   "source": [
    "\n",
    "# White American population as of 2000 and 2010 censuses\n",
    "white_pop_df = tables_df_list[2]\n",
    "white_pop_df.columns = white_pop_df.iloc[0]\n",
    "white_pop_df = white_pop_df.iloc[1:].T\n",
    "white_pop_df.columns = white_pop_df.iloc[0]\n",
    "white_pop_df = white_pop_df.iloc[1:].T\n",
    "white_pop_df.columns = ['Population_2000', 'Percent_2000', 'Population_2010',\n",
    "                        'Percent_2010', 'Percent_Growth']\n",
    "whites_max_year_df = white_pop_df['Percent_{}'.format(max_year)].reset_index()\n",
    "whites_max_year_df.columns = ['State', 'Percent']\n",
    "whites_max_year_df['Race'] = 'White'\n",
    "column_list = ['State', 'Race']\n",
    "whites_max_year_groupby = whites_max_year_df.groupby(by=column_list)\n",
    "whites_max_year_df = whites_max_year_groupby['Percent'].max().map(f).reset_index()"
   ]
  },
  {
   "cell_type": "code",
   "execution_count": 141,
   "metadata": {},
   "outputs": [],
   "source": [
    "\n",
    "column_list = ['State', 'Race', 'Percent']\n",
    "percents_df = pd.merge(left=whites_max_year_df, right=blacks_max_year_df, how='outer',\n",
    "                       on=column_list).sort_values(column_list).reset_index(drop=True)\n",
    "column_list = ['State', 'Race']\n",
    "homicides_max_year_df = pd.merge(left=homicides_max_year_df, right=percents_df, how='outer',\n",
    "                                 on=column_list).sort_values(column_list).reset_index(drop=True)"
   ]
  },
  {
   "cell_type": "markdown",
   "metadata": {},
   "source": [
    "\n",
    "We are looking to compute the intentional homicide rate per 100,000 inhabitants for our max year."
   ]
  },
  {
   "cell_type": "code",
   "execution_count": 145,
   "metadata": {},
   "outputs": [
    {
     "data": {
      "text/plain": [
       "11"
      ]
     },
     "execution_count": 145,
     "metadata": {},
     "output_type": "execute_result"
    }
   ],
   "source": [
    "\n",
    "wiki_url = 'https://en.wikipedia.org/wiki/'\n",
    "tables_url = '{}List_of_countries_by_intentional_homicide_rate'.format(wiki_url)\n",
    "tables_df_list = pd.read_html(tables_url)\n",
    "len(tables_df_list)"
   ]
  },
  {
   "cell_type": "code",
   "execution_count": 146,
   "metadata": {},
   "outputs": [],
   "source": [
    "\n",
    "# UNODC murder rates: murders per 100,000 inhabitants\n",
    "country_pop_df = tables_df_list[3]\n",
    "country_pop_df.columns = country_pop_df.iloc[0]\n",
    "country_pop_df = country_pop_df.iloc[2:].T\n",
    "country_pop_df.columns = country_pop_df.iloc[0]\n",
    "country_pop_df = country_pop_df.iloc[1:].T\n",
    "country_pop_df.index.name = 'Country'\n",
    "country_pop_df.columns = ['Region', 'Subregion', 'Rate', 'Count', 'Year', 'Source']\n",
    "country_pop_df['Rate'] = country_pop_df['Rate'].map(lambda x: float(x))"
   ]
  },
  {
   "cell_type": "code",
   "execution_count": 147,
   "metadata": {},
   "outputs": [],
   "source": [
    "\n",
    "match_series = (country_pop_df['Subregion'].isin(['Eastern Africa', 'Middle Africa',\n",
    "                                                  'Southern Africa', 'Western Africa']))\n",
    "african_homicide_rates = country_pop_df[match_series]['Rate'].dropna().tolist()"
   ]
  },
  {
   "cell_type": "code",
   "execution_count": 148,
   "metadata": {},
   "outputs": [],
   "source": [
    "\n",
    "match_series = (country_pop_df['Region'] == 'Europe')\n",
    "european_homicide_rates = country_pop_df[match_series]['Rate'].dropna().tolist()"
   ]
  },
  {
   "cell_type": "code",
   "execution_count": 168,
   "metadata": {},
   "outputs": [],
   "source": [
    "\n",
    "import numpy as np\n",
    "\n",
    "pop_dict = us_pop_df['Population_{}'.format(max_year)].to_dict()\n",
    "\n",
    "def f(row_series):\n",
    "    state = row_series['State']\n",
    "    count = row_series['Perpetrator Count']\n",
    "    percent = row_series['Percent']\n",
    "    if state in pop_dict:\n",
    "        population = pop_dict[state]\n",
    "        rate = 100000*count/(population*percent)\n",
    "    else:\n",
    "        rate = np.nan\n",
    "    \n",
    "    return rate\n",
    "\n",
    "homicides_max_year_df['Rate'] = homicides_max_year_df.apply(f, axis=1)"
   ]
  },
  {
   "cell_type": "code",
   "execution_count": 169,
   "metadata": {},
   "outputs": [],
   "source": [
    "\n",
    "match_series = (homicides_max_year_df['Race'] == 'Black')\n",
    "black_homicide_rates = homicides_max_year_df[match_series]['Rate'].dropna().tolist()"
   ]
  },
  {
   "cell_type": "code",
   "execution_count": 170,
   "metadata": {},
   "outputs": [],
   "source": [
    "\n",
    "match_series = (homicides_max_year_df['Race'] == 'White')\n",
    "white_homicide_rates = homicides_max_year_df[match_series]['Rate'].dropna().tolist()"
   ]
  },
  {
   "cell_type": "code",
   "execution_count": 171,
   "metadata": {},
   "outputs": [
    {
     "name": "stdout",
     "output_type": "stream",
     "text": [
      "Here are the country groups tested against the murder rate data you agreed to:\n",
      "\n",
      "European countries vs US White: t=3.82; p=0.000\n",
      "We can reject the null hypothesis that the US White population did not come from the same distribution as the European countries population.\n",
      "\n",
      "African countries vs US White: t=7.61; p=0.000\n",
      "We can reject the null hypothesis that the US White population did not come from the same distribution as the African countries population.\n",
      "\n",
      "European countries vs US Black: t=-5.03; p=0.000\n",
      "We can reject the null hypothesis that the US Black population did not come from the same distribution as the European countries population.\n",
      "\n",
      "African countries vs US Black: t=2.85; p=0.005\n",
      "We can reject the null hypothesis that the US Black population did not come from the same distribution as the African countries population.\n",
      "\n"
     ]
    }
   ],
   "source": [
    "\n",
    "from scipy.stats import ttest_ind\n",
    "\n",
    "format_str = 'Here are the country groups tested against the murder rate data you agreed to:'\n",
    "print(format_str)\n",
    "print()\n",
    "\n",
    "hypothesis_format_str = 'We {} reject the null hypothesis that the {} '\n",
    "hypothesis_format_str += 'population did not come from the same distribution as the {} population.'\n",
    "\n",
    "def test_populations(global_data, us_data, country_str, test_race):\n",
    "    t, p = ttest_ind(a=global_data, b=us_data, axis=0, equal_var=True, nan_policy='raise')\n",
    "    print('{} vs {}: t={:0.2f}; p={:0.3f}'.format(country_str, test_race, t[0], p[0]))\n",
    "\n",
    "    # If that probability is small we can reject the null hypothesis\n",
    "    if p[0] < 0.05:\n",
    "        can_cannot = 'can'\n",
    "    else:\n",
    "        can_cannot = 'cannot'\n",
    "    print(hypothesis_format_str.format(can_cannot, test_race, country_str))\n",
    "    print()\n",
    "\n",
    "test_race = 'US White'\n",
    "us_white_data = np.array(white_homicide_rates).reshape((-1, 1))\n",
    "global_european_data = np.array(european_homicide_rates).reshape((-1, 1))\n",
    "global_african_data = np.array(african_homicide_rates).reshape((-1, 1))\n",
    "\n",
    "country_str = 'European countries'\n",
    "test_populations(global_european_data, us_white_data, country_str, test_race)\n",
    "country_str = 'African countries'\n",
    "test_populations(global_african_data, us_white_data, country_str, test_race)\n",
    "\n",
    "test_race = 'US Black'\n",
    "us_black_data = np.array(black_homicide_rates).reshape((-1, 1))\n",
    "\n",
    "country_str = 'European countries'\n",
    "test_populations(global_european_data, us_black_data, country_str, test_race)\n",
    "country_str = 'African countries'\n",
    "test_populations(global_african_data, us_black_data, country_str, test_race)"
   ]
  },
  {
   "cell_type": "code",
   "execution_count": 159,
   "metadata": {},
   "outputs": [],
   "source": [
    "\n",
    "import matplotlib.pyplot as plt\n",
    "%matplotlib inline"
   ]
  },
  {
   "cell_type": "code",
   "execution_count": 172,
   "metadata": {},
   "outputs": [
    {
     "data": {
      "image/png": "[encoded data removed]",
      "text/plain": [
       "<Figure size 1296x288 with 1 Axes>"
      ]
     },
     "metadata": {},
     "output_type": "display_data"
    }
   ],
   "source": [
    "\n",
    "fig = plt.figure(figsize=(18, 4))\n",
    "ax = fig.add_subplot(111, autoscale_on=True)\n",
    "whites_AxesSubplot = pd.Series(white_homicide_rates).hist(ax=ax, bins=10, alpha=0.75, color='green')\n",
    "europeans_AxesSubplot = pd.Series(european_homicide_rates).hist(ax=ax, bins=10, alpha=0.25,\n",
    "                                                                color='red')"
   ]
  },
  {
   "cell_type": "code",
   "execution_count": 173,
   "metadata": {},
   "outputs": [
    {
     "data": {
      "image/png": "[encoded data removed]",
      "text/plain": [
       "<Figure size 1296x288 with 1 Axes>"
      ]
     },
     "metadata": {},
     "output_type": "display_data"
    }
   ],
   "source": [
    "\n",
    "fig = plt.figure(figsize=(18, 4))\n",
    "ax = fig.add_subplot(111, autoscale_on=True)\n",
    "blacks_AxesSubplot = pd.Series(black_homicide_rates).hist(ax=ax, bins=10, alpha=0.75, color='green')\n",
    "africans_AxesSubplot = pd.Series(african_homicide_rates).hist(ax=ax, bins=10, alpha=0.25,\n",
    "                                                                color='red')"
   ]
  },
  {
   "cell_type": "code",
   "execution_count": 1,
   "metadata": {},
   "outputs": [
    {
     "data": {
      "application/javascript": [
       "var kernel = IPython.notebook.kernel;\n",
       "var body = document.body,  \n",
       "    attribs = body.attributes;\n",
       "var command = \"notebook_path = \" + \"'\"+attribs['data-notebook-path'].value+\"'\";\n",
       "kernel.execute(command);\n"
      ],
      "text/plain": [
       "<IPython.core.display.Javascript object>"
      ]
     },
     "metadata": {},
     "output_type": "display_data"
    }
   ],
   "source": [
    "%%javascript\n",
    "var kernel = IPython.notebook.kernel;\n",
    "var body = document.body,  \n",
    "    attribs = body.attributes;\n",
    "var command = \"notebook_path = \" + \"'\"+attribs['data-notebook-path'].value+\"'\";\n",
    "kernel.execute(command);"
   ]
  },
  {
   "cell_type": "code",
   "execution_count": 3,
   "metadata": {},
   "outputs": [
    {
     "data": {
      "text/html": [
       "Click <a href=\"https://nbviewer.jupyter.org/github/dbabbitt/notebooks/blob/master/Miscellaneous/ipynb/Homicide%20by%20Race.ipynb\" target=\"_blank\">here</a> to view notebook in nbviewer."
      ],
      "text/plain": [
       "<IPython.core.display.HTML object>"
      ]
     },
     "execution_count": 3,
     "metadata": {},
     "output_type": "execute_result"
    }
   ],
   "source": [
    "# %load ../../load_magic/nbviewer.py\n",
    "\n",
    "from IPython.display import HTML\n",
    "\n",
    "notebook_viewer_url = 'https://nbviewer.jupyter.org/github/dbabbitt/notebooks/blob/master/'\n",
    "notebook_viewer_url += '/'.join(notebook_path.split('/')[1:])\n",
    "html_str = 'Click <a href=\"{}\" target=\"_blank\">here</a> to view notebook in nbviewer.'\n",
    "HTML(html_str.format(notebook_viewer_url))"
   ]
  },
  {
   "cell_type": "code",
   "execution_count": null,
   "metadata": {},
   "outputs": [],
   "source": []
  }
 ],
 "metadata": {
  "kernelspec": {
   "display_name": "Python 3",
   "language": "python",
   "name": "python3"
  },
  "language_info": {
   "codemirror_mode": {
    "name": "ipython",
    "version": 3
   },
   "file_extension": ".py",
   "mimetype": "text/x-python",
   "name": "python",
   "nbconvert_exporter": "python",
   "pygments_lexer": "ipython3",
   "version": "3.6.4"
  }
 },
 "nbformat": 4,
 "nbformat_minor": 2
}
