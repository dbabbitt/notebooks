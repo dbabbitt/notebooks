{
 "cells": [
  {
   "cell_type": "code",
   "execution_count": null,
   "metadata": {},
   "outputs": [],
   "source": []
  },
  {
   "cell_type": "code",
   "execution_count": null,
   "metadata": {},
   "outputs": [],
   "source": [
    "\n",
    "command_str = '{sys.executable} -m pip install --upgrade statsmodels'.format(sys=sys)\n",
    "print(command_str)\n",
    "!{command_str}"
   ]
  },
  {
   "cell_type": "code",
   "execution_count": 1,
   "metadata": {},
   "outputs": [
    {
     "name": "stdout",
     "output_type": "stream",
     "text": [
      "C:\\Users\\dev\\Documents\\repositories\\notebooks\\Miscellaneous\\ipynb\\Corona Virus Exploration.ipynb\n",
      "['attempt_to_pickle', 'data_csv_folder', 'data_folder', 'encoding_type', 'load_csv', 'load_dataframes', 'load_object', 'save_dataframes', 'saves_csv_folder', 'saves_folder', 'saves_pickle_folder', 'store_objects']\n",
      "Pretty printing has been turned OFF\n",
      "Config\t RandomForestClassifier\t SequenceMatcher\t Storage\t bs\t check_4_doubles\t check_for_typos\t conjunctify_list\t copyfile\t \n",
      "csv\t encoding\t example_iterrows\t get_classifier\t get_column_descriptions\t get_data_structs_df\t get_datastructure_prediction\t get_dir_tree\t get_git_lfs_track_commands\t \n",
      "get_importances\t get_input_sample\t get_max_rsquared_adj\t get_module_version\t get_notebook_path\t get_page_tables\t get_specific_gitignore_files\t get_struct_name\t humanize_bytes\t \n",
      "ipykernel\t json\t jupyter_config_dir\t math\t notebook_path\t notebookapp\t nx\t os\t pd\t \n",
      "pickle\t plt\t preprocess_data\t print_all_files_ending_starting_with\t print_all_files_ending_with\t print_all_files_starting_with\t re\t remove_empty_folders\t s\t \n",
      "similar\t sm\t sns\t stats\t subprocess\t sys\t time\t urllib\t \n"
     ]
    }
   ],
   "source": [
    "\n",
    "%run ../../load_magic/storage.py\n",
    "%run ../../load_magic/paths.py\n",
    "%run ../../load_magic/lists.py\n",
    "%run ../../load_magic/environment.py\n",
    "%run ../../load_magic/dataframes.py\n",
    "\n",
    "from bs4 import BeautifulSoup as bs\n",
    "import networkx as nx\n",
    "import re\n",
    "import urllib.request\n",
    "\n",
    "notebook_path = get_notebook_path()\n",
    "print(notebook_path)\n",
    "s = Storage()\n",
    "print(['s.{}'.format(fn) for fn in dir(s) if not fn.startswith('_')])\n",
    "\n",
    "%pprint\n",
    "dir()"
   ]
  },
  {
   "cell_type": "code",
   "execution_count": 2,
   "metadata": {},
   "outputs": [],
   "source": [
    "\n",
    "def get_page_soup(page_url):\n",
    "    with urllib.request.urlopen(page_url) as response:\n",
    "        page_html = response.read()\n",
    "    page_soup = bs(page_html, 'html.parser')\n",
    "    \n",
    "    return page_soup"
   ]
  },
  {
   "cell_type": "code",
   "execution_count": 21,
   "metadata": {},
   "outputs": [
    {
     "name": "stdout",
     "output_type": "stream",
     "text": [
      "[(0, (13, 7))]\n"
     ]
    }
   ],
   "source": [
    "\n",
    "tables_url = 'https://www.zorinaq.com/pub/ncov-comparison.html'\n",
    "ncov_path = os.path.join(s.data_folder, 'html', 'ncov-comparison.html')\n",
    "#page_soup = get_page_soup(tables_url)\n",
    "tables_list = get_page_tables(tables_url)"
   ]
  },
  {
   "cell_type": "code",
   "execution_count": 54,
   "metadata": {},
   "outputs": [
    {
     "name": "stdout",
     "output_type": "stream",
     "text": [
      "Pickling to C:\\Users\\dev\\Documents\\repositories\\notebooks\\Miscellaneous\\saves\\pickle\\pandemic_df.pickle\n"
     ]
    },
    {
     "data": {
      "text/html": [
       "<div>\n",
       "<style scoped>\n",
       "    .dataframe tbody tr th:only-of-type {\n",
       "        vertical-align: middle;\n",
       "    }\n",
       "\n",
       "    .dataframe tbody tr th {\n",
       "        vertical-align: top;\n",
       "    }\n",
       "\n",
       "    .dataframe thead th {\n",
       "        text-align: right;\n",
       "    }\n",
       "</style>\n",
       "<table border=\"1\" class=\"dataframe\">\n",
       "  <thead>\n",
       "    <tr style=\"text-align: right;\">\n",
       "      <th></th>\n",
       "      <th>9</th>\n",
       "      <th>0</th>\n",
       "      <th>7</th>\n",
       "      <th>4</th>\n",
       "      <th>12</th>\n",
       "    </tr>\n",
       "  </thead>\n",
       "  <tbody>\n",
       "    <tr>\n",
       "      <th>Disease</th>\n",
       "      <td>Seasonal flu</td>\n",
       "      <td>Pertussis</td>\n",
       "      <td>MERS</td>\n",
       "      <td>Rubella</td>\n",
       "      <td>Novel coronavirus (2019-nCoV)</td>\n",
       "    </tr>\n",
       "    <tr>\n",
       "      <th>Transmission</th>\n",
       "      <td>Airborne</td>\n",
       "      <td>Airborne droplet</td>\n",
       "      <td>Airborne droplet</td>\n",
       "      <td>Airborne droplet</td>\n",
       "      <td>Airborne droplet</td>\n",
       "    </tr>\n",
       "    <tr>\n",
       "      <th>R0</th>\n",
       "      <td>1-2</td>\n",
       "      <td>9.9-11.5</td>\n",
       "      <td>&lt;1¹</td>\n",
       "      <td>5-7</td>\n",
       "      <td>1.4-2.5² 2.47-2.86⁶</td>\n",
       "    </tr>\n",
       "    <tr>\n",
       "      <th>Case_fatality_ratio</th>\n",
       "      <td>&lt; 0.1%</td>\n",
       "      <td>4%</td>\n",
       "      <td>34%¹</td>\n",
       "      <td>3-6% (developing world)</td>\n",
       "      <td>1.8%⁴</td>\n",
       "    </tr>\n",
       "    <tr>\n",
       "      <th>Hospitalized_cases_sent_to_ICU</th>\n",
       "      <td>5-10%⁵</td>\n",
       "      <td>NaN</td>\n",
       "      <td>NaN</td>\n",
       "      <td>NaN</td>\n",
       "      <td>23%³</td>\n",
       "    </tr>\n",
       "    <tr>\n",
       "      <th>Asymptomatic_transmission</th>\n",
       "      <td>Yes</td>\n",
       "      <td>NaN</td>\n",
       "      <td>No</td>\n",
       "      <td>NaN</td>\n",
       "      <td>Suspected¹⁰</td>\n",
       "    </tr>\n",
       "    <tr>\n",
       "      <th>Year_vaccine_available</th>\n",
       "      <td>seasonal</td>\n",
       "      <td>1930s</td>\n",
       "      <td>NaN</td>\n",
       "      <td>1970</td>\n",
       "      <td>NaN</td>\n",
       "    </tr>\n",
       "    <tr>\n",
       "      <th>R0_high</th>\n",
       "      <td>2</td>\n",
       "      <td>11.5</td>\n",
       "      <td>1</td>\n",
       "      <td>7</td>\n",
       "      <td>2.86</td>\n",
       "    </tr>\n",
       "    <tr>\n",
       "      <th>R0_low</th>\n",
       "      <td>1</td>\n",
       "      <td>9.9</td>\n",
       "      <td>1</td>\n",
       "      <td>5</td>\n",
       "      <td>2.47</td>\n",
       "    </tr>\n",
       "    <tr>\n",
       "      <th>CFR_high</th>\n",
       "      <td>0.1</td>\n",
       "      <td>4</td>\n",
       "      <td>34</td>\n",
       "      <td>6</td>\n",
       "      <td>1.8</td>\n",
       "    </tr>\n",
       "    <tr>\n",
       "      <th>CFR_low</th>\n",
       "      <td>0.1</td>\n",
       "      <td>4</td>\n",
       "      <td>34</td>\n",
       "      <td>3</td>\n",
       "      <td>1.8</td>\n",
       "    </tr>\n",
       "  </tbody>\n",
       "</table>\n",
       "</div>"
      ],
      "text/plain": [
       "                                          9                 0   \\\n",
       "Disease                         Seasonal flu         Pertussis   \n",
       "Transmission                        Airborne  Airborne droplet   \n",
       "R0                                       1-2          9.9-11.5   \n",
       "Case_fatality_ratio                   < 0.1%                4%   \n",
       "Hospitalized_cases_sent_to_ICU        5-10%⁵               NaN   \n",
       "Asymptomatic_transmission                Yes               NaN   \n",
       "Year_vaccine_available              seasonal             1930s   \n",
       "R0_high                                    2              11.5   \n",
       "R0_low                                     1               9.9   \n",
       "CFR_high                                 0.1                 4   \n",
       "CFR_low                                  0.1                 4   \n",
       "\n",
       "                                              7                        4   \\\n",
       "Disease                                     MERS                  Rubella   \n",
       "Transmission                    Airborne droplet         Airborne droplet   \n",
       "R0                                           <1¹                      5-7   \n",
       "Case_fatality_ratio                         34%¹  3-6% (developing world)   \n",
       "Hospitalized_cases_sent_to_ICU               NaN                      NaN   \n",
       "Asymptomatic_transmission                     No                      NaN   \n",
       "Year_vaccine_available                       NaN                     1970   \n",
       "R0_high                                        1                        7   \n",
       "R0_low                                         1                        5   \n",
       "CFR_high                                      34                        6   \n",
       "CFR_low                                       34                        3   \n",
       "\n",
       "                                                           12  \n",
       "Disease                         Novel coronavirus (2019-nCoV)  \n",
       "Transmission                                 Airborne droplet  \n",
       "R0                                        1.4-2.5² 2.47-2.86⁶  \n",
       "Case_fatality_ratio                                     1.8%⁴  \n",
       "Hospitalized_cases_sent_to_ICU                           23%³  \n",
       "Asymptomatic_transmission                         Suspected¹⁰  \n",
       "Year_vaccine_available                                    NaN  \n",
       "R0_high                                                  2.86  \n",
       "R0_low                                                   2.47  \n",
       "CFR_high                                                  1.8  \n",
       "CFR_low                                                   1.8  "
      ]
     },
     "execution_count": 54,
     "metadata": {},
     "output_type": "execute_result"
    }
   ],
   "source": [
    "\n",
    "import numpy as np\n",
    "\n",
    "pandemic_df = tables_list[0].copy()\n",
    "pandemic_df.columns = ['Disease', 'Transmission', 'R0', 'Case_fatality_ratio', 'Hospitalized_cases_sent_to_ICU',\n",
    "                       'Asymptomatic_transmission', 'Year_vaccine_available']\n",
    "\n",
    "def f(x):\n",
    "    result = re.sub(r' *\\(', ' (', str(x))\n",
    "    \n",
    "    return result\n",
    "\n",
    "pandemic_df.Disease = pandemic_df.Disease.map(f)\n",
    "\n",
    "def f(x):\n",
    "    result = re.sub(r'⁹', '', str(x))\n",
    "    \n",
    "    return result\n",
    "\n",
    "pandemic_df.Transmission = pandemic_df.Transmission.map(f)\n",
    "pandemic_df['R0_high'] = np.nan\n",
    "\n",
    "def f(x):\n",
    "    result = str(x).split('-')[-1]\n",
    "    result = re.sub(r'[^0-9.]+', '', result)\n",
    "    \n",
    "    return float(result)\n",
    "\n",
    "pandemic_df['R0_high'] = pandemic_df.R0.map(f)\n",
    "pandemic_df['R0_low'] = np.nan\n",
    "\n",
    "def f(x):\n",
    "    result_list = str(x).split('-')\n",
    "    if len(result_list) < 3:\n",
    "        result = result_list[0]\n",
    "    else:\n",
    "        result = result_list[1].split(' ')[-1]\n",
    "    result = re.sub(r'[^0-9.]+', '', result)\n",
    "    \n",
    "    return float(result)\n",
    "\n",
    "pandemic_df['R0_low'] = pandemic_df.R0.map(f)\n",
    "pandemic_df['CFR_high'] = np.nan\n",
    "\n",
    "def f(x):\n",
    "    result = str(x).split('-')[-1]\n",
    "    result = re.sub(r'[^0-9.]+', '', result)\n",
    "    \n",
    "    return float(result)\n",
    "\n",
    "pandemic_df['CFR_high'] = pandemic_df.Case_fatality_ratio.map(f)\n",
    "pandemic_df['CFR_low'] = np.nan\n",
    "\n",
    "def f(x):\n",
    "    result_list = str(x).split('-')\n",
    "    result = result_list[0]\n",
    "    result = re.sub(r'[^0-9.]+', '', result)\n",
    "    \n",
    "    return float(result)\n",
    "\n",
    "pandemic_df['CFR_low'] = pandemic_df.Case_fatality_ratio.map(f)\n",
    "#print(pandemic_df.R0.unique().tolist())\n",
    "#print(pandemic_df.R0.map(f).unique().tolist())\n",
    "s.store_objects(pandemic_df=pandemic_df)\n",
    "pandemic_df.sample(5).T"
   ]
  },
  {
   "cell_type": "code",
   "execution_count": 39,
   "metadata": {},
   "outputs": [],
   "source": [
    "\n",
    "!start %windir%\\explorer.exe \"{os.path.abspath(os.path.dirname(notebook_path))}\""
   ]
  },
  {
   "cell_type": "code",
   "execution_count": 40,
   "metadata": {},
   "outputs": [],
   "source": [
    "\n",
    "column_description_dict = s.load_object('column_description_dict')"
   ]
  },
  {
   "cell_type": "code",
   "execution_count": 41,
   "metadata": {},
   "outputs": [],
   "source": [
    "\n",
    "def get_column_description(column_name):\n",
    "    if column_name in column_description_dict:\n",
    "        column_description = column_description_dict[column_name]\n",
    "    else:\n",
    "        column_description = re.sub('^pf_', 'Personal Freedom:_', str(column_name), 1)\n",
    "        column_description = re.sub('^hf_', 'Human Freedom:_', str(column_description), 1)\n",
    "        column_description = re.sub('^ef_', 'Economic Freedom:_', str(column_description), 1)\n",
    "        column_list = column_description.split('_')\n",
    "        descr_list = []\n",
    "        for word in column_list:\n",
    "            descr_list.append(word[0].upper()+word[1:])\n",
    "        column_description = ' '.join(descr_list)\n",
    "        column_description_dict[column_name] = column_description\n",
    "        s.store_objects(column_description_dict=column_description_dict)\n",
    "    \n",
    "    return column_description"
   ]
  },
  {
   "cell_type": "code",
   "execution_count": 53,
   "metadata": {},
   "outputs": [
    {
     "name": "stdout",
     "output_type": "stream",
     "text": [
      "Disease Disease Name\n",
      "Transmission Transmission Method\n",
      "R0 Basic Reproduction Number\n",
      "Case_fatality_ratio Case Fatality Ratio\n",
      "Hospitalized_cases_sent_to_ICU Hospitalized Cases Sent To ICU\n",
      "Asymptomatic_transmission Asymptomatic Transmission\n",
      "Year_vaccine_available Year Vaccine Available\n",
      "R0_high Basic Reproduction Number (High Range)\n",
      "R0_low Basic Reproduction Number (Low Range)\n",
      "CFR_high Case Fatality Ratio (High Range)\n",
      "CFR_low Case Fatality Ratio (Low Range)\n"
     ]
    }
   ],
   "source": [
    "\n",
    "for column_name in pandemic_df.columns:\n",
    "    print(column_name, get_column_description(column_name=column_name))"
   ]
  },
  {
   "cell_type": "code",
   "execution_count": 143,
   "metadata": {},
   "outputs": [],
   "source": [
    "\n",
    "svg_dir = os.path.join(s.saves_folder, 'svg')\n",
    "os.makedirs(name=svg_dir, exist_ok=True)"
   ]
  },
  {
   "cell_type": "code",
   "execution_count": 188,
   "metadata": {},
   "outputs": [],
   "source": [
    "\n",
    "def show_linear_scatterplot(merged_df, columns_list, ev_min_str=None, ev_max_str=None, rv_min_str=None, rv_max_str=None):\n",
    "    ev_column_name = columns_list[0]\n",
    "    rv_column_name = columns_list[1]\n",
    "    explanatory_variable = get_column_description(ev_column_name)\n",
    "    response_variable = get_column_description(rv_column_name)\n",
    "    if (ev_min_str is None):\n",
    "        ev_min_str = 'minimum {}'.format(explanatory_variable)\n",
    "    if (ev_max_str is None):\n",
    "        ev_max_str = 'maximum {}'.format(explanatory_variable)\n",
    "    if (rv_min_str is None):\n",
    "        rv_min_str = 'minimum {}'.format(response_variable)\n",
    "    if (rv_max_str is None):\n",
    "        rv_max_str = 'maximum {}'.format(response_variable)\n",
    "    \n",
    "    df = merged_df.copy()\n",
    "    columns_list = [ev_column_name, rv_column_name]\n",
    "    df = df[columns_list+['Disease']].dropna()\n",
    "    ev_max = df[ev_column_name].max()\n",
    "    ev_min = df[ev_column_name].min()\n",
    "    rv_min = df[rv_column_name].min()\n",
    "    rv_max = df[rv_column_name].max()\n",
    "    ev_max_labeled = False\n",
    "    ev_min_labeled = False\n",
    "    rv_min_labeled = False\n",
    "    rv_max_labeled = False\n",
    "    \n",
    "    # First order (linear) scatterplot\n",
    "    fig1_fig = plt.figure(figsize=(12,8))\n",
    "    merge_axes_subplot = plt.scatter(x=df[ev_column_name].tolist(), y=df[rv_column_name].tolist(), s=None, c=None, marker=None, cmap=None,\n",
    "                                     norm=None, vmin=None, vmax=None, alpha=None, linewidths=None, verts=None, edgecolors=None,\n",
    "                                     plotnonfinite=False, data=df)\n",
    "    xlabel_text = plt.xlabel('{}'.format(explanatory_variable))\n",
    "    ylabel_text = plt.ylabel('{}'.format(response_variable))\n",
    "    \n",
    "    # Add annotations\n",
    "    for label, x, y in zip(df.Disease, df[ev_column_name], df[rv_column_name]):\n",
    "        if (x == ev_min):\n",
    "            if not ev_min_labeled:\n",
    "                ev_min_labeled = True\n",
    "                annotation = plt.annotate('{} ({})'.format(label, ev_min_str), xy=(x, y), xytext=ev_min_xytext, **kwargs)\n",
    "        elif (x == ev_max):\n",
    "            if not ev_max_labeled:\n",
    "                ev_max_labeled = True\n",
    "                annotation = plt.annotate('{} ({})'.format(label, ev_max_str), xy=(x, y), xytext=ev_max_xytext, **kwargs)\n",
    "        elif (y == rv_min):\n",
    "            if not rv_min_labeled:\n",
    "                rv_min_labeled = True\n",
    "                annotation = plt.annotate('{} ({})'.format(label, rv_min_str), xy=(x, y), xytext=rv_min_xytext, **kwargs)\n",
    "        elif (y == rv_max):\n",
    "            if not rv_max_labeled:\n",
    "                rv_max_labeled = True\n",
    "                annotation = plt.annotate('{} ({})'.format(label, rv_max_str), xy=(x, y), xytext=rv_max_xytext, **kwargs)\n",
    "        elif (label == 'SARS'):\n",
    "            annotation = plt.annotate('{}'.format(label), xy=(x, y), xytext=(50, -20), **kwargs)\n",
    "        elif ('Kong' in label):\n",
    "            annotation = plt.annotate('{}'.format(label), xy=(x, y), xytext=(-65, 120), **kwargs)\n",
    "        elif ('Swine' in label):\n",
    "            annotation = plt.annotate('{}'.format(label), xy=(x, y), xytext=(-50, 100-2.7842095), **kwargs)\n",
    "        elif ('Seasonal' in label):\n",
    "            annotation = plt.annotate('{}'.format(label), xy=(x, y), xytext=(-25, 70-1.9397546), **kwargs)\n",
    "        elif ('corona' in label):\n",
    "            annotation = plt.annotate('{}'.format(label), xy=(x, y), xytext=(-85, 20), **red_kwargs)\n",
    "        else:\n",
    "            annotation = plt.annotate('{}'.format(label), xy=(x, y), xytext=ev_min_xytext, **kwargs)\n",
    "    \n",
    "    # Add r-squared\n",
    "    x = df[ev_column_name].values\n",
    "    y = df[rv_column_name].values\n",
    "    plt.text(17.4, 34.4, r'$r^2 = {0:.2}$'.format(stats.pearsonr(x, y)[0] ** 2), fontsize=20, alpha=0.25,\n",
    "             horizontalalignment='center', verticalalignment='center')\n",
    "    plt.suptitle(t='Relative Deadliness and Infectiousness of the Wuhan Flu Pandemic', x=0.5, y=0.91)\n",
    "    left, right = plt.xlim()\n",
    "    bottom, top = plt.ylim()\n",
    "    file_path = os.path.join(svg_dir, 'pandemic.svg')\n",
    "    plt.savefig(file_path)\n",
    "    with open(file_path, 'r') as f:\n",
    "        xml_str = f.read()\n",
    "        d_regex = re.compile('d=\"([^\"\\r\\n]+)[\\r\\n]+')\n",
    "        while d_regex.search(xml_str):\n",
    "            xml_str = d_regex.sub(r'd=\"\\g<1>', xml_str)\n",
    "        with open(file_path, 'w') as f:\n",
    "            print(xml_str.strip(), file=f)\n",
    "    \n",
    "    return file_path, left, right, bottom, top"
   ]
  },
  {
   "cell_type": "code",
   "execution_count": 189,
   "metadata": {},
   "outputs": [
    {
     "data": {
      "image/png": "[encoded data removed]",
      "text/plain": [
       "<Figure size 864x576 with 1 Axes>"
      ]
     },
     "metadata": {
      "needs_background": "light"
     },
     "output_type": "display_data"
    }
   ],
   "source": [
    "\n",
    "pandemic_df = s.load_object('pandemic_df')\n",
    "kwargs = dict(textcoords='offset points', ha='left', va='bottom',\n",
    "              bbox=dict(boxstyle='round,pad=0.5', fc='yellow', alpha=0.5),\n",
    "              arrowprops=dict(arrowstyle='->', connectionstyle='arc3,rad=0'))\n",
    "red_kwargs = dict(textcoords='offset points', ha='left', va='bottom',\n",
    "                  bbox=dict(boxstyle='round,pad=0.5', fc='pink', alpha=0.5),\n",
    "                  arrowprops=dict(arrowstyle='->', connectionstyle='arc3,rad=0'))\n",
    "\n",
    "ev_column_name = 'R0_high'\n",
    "rv_column_name = 'CFR_high'\n",
    "\n",
    "ev_min_str = 'least infectious/most deadly'\n",
    "ev_max_str = 'most infectious'\n",
    "rv_min_str = 'least deadly'\n",
    "rv_max_str = 'most deadly'\n",
    "ev_min_xytext = (50, -10)\n",
    "ev_max_xytext = (-150, -10)\n",
    "rv_min_xytext = (20, -5)\n",
    "rv_max_xytext = (100, -50)\n",
    "columns_list = [ev_column_name, rv_column_name]\n",
    "file_path, left, right, bottom, top = show_linear_scatterplot(pandemic_df, columns_list, ev_min_str=ev_min_str,\n",
    "                                                              ev_max_str=ev_max_str, rv_min_str=rv_min_str,\n",
    "                                                              rv_max_str=rv_max_str)\n",
    "!start %windir%\\explorer.exe \"{os.path.abspath(os.path.dirname(file_path))}\""
   ]
  },
  {
   "cell_type": "code",
   "execution_count": 182,
   "metadata": {},
   "outputs": [
    {
     "data": {
      "image/png": "[encoded data removed]",
      "text/plain": [
       "<Figure size 864x576 with 1 Axes>"
      ]
     },
     "metadata": {
      "needs_background": "light"
     },
     "output_type": "display_data"
    }
   ],
   "source": [
    "\n",
    "columns_list = ['Disease', 'R0_high', 'R0_low', 'CFR_high', 'CFR_low']\n",
    "fig = plt.figure(figsize=(12,8))\n",
    "ax = fig.add_subplot(111)\n",
    "match_series = (pandemic_df.Disease == 'Rubella')\n",
    "for row_index, row_series in pandemic_df[columns_list].iterrows():\n",
    "    Disease = row_series['Disease']\n",
    "    R0_high = row_series['R0_high']\n",
    "    R0_low = row_series['R0_low']\n",
    "    CFR_high = row_series['CFR_high']\n",
    "    CFR_low = row_series['CFR_low']\n",
    "    rect = matplotlib.patches.Rectangle((R0_low, CFR_low), R0_high-R0_low, CFR_high-CFR_low, color='black', alpha=0.5)\n",
    "    ax.add_patch(rect)\n",
    "    annotation = plt.annotate('{}'.format(Disease), xy=(int((R0_high+R0_low)/2), int((CFR_high+CFR_low)/2)), xytext=(-85, 20), **red_kwargs)\n",
    "plt.xlim(left, right)\n",
    "bottom, top = plt.ylim(bottom, top)\n",
    "xlabel_text = plt.xlabel('Basic Reproduction Number')\n",
    "ylabel_text = plt.ylabel('Case Fatality Ratio')"
   ]
  },
  {
   "cell_type": "code",
   "execution_count": 178,
   "metadata": {},
   "outputs": [
    {
     "data": {
      "text/plain": [
       "('Rubella', 7.0, 5.0, 6.0, 3.0)"
      ]
     },
     "execution_count": 178,
     "metadata": {},
     "output_type": "execute_result"
    }
   ],
   "source": [
    "\n",
    "Disease, R0_high, R0_low, CFR_high, CFR_low"
   ]
  },
  {
   "cell_type": "code",
   "execution_count": null,
   "metadata": {},
   "outputs": [],
   "source": [
    "\n",
    "merge_axes_subplot = plt.scatter(x=df[ev_column_name].tolist(), y=df[rv_column_name].tolist(), s=None, c=None, marker=None, cmap=None,\n",
    "                                 norm=None, vmin=None, vmax=None, alpha=None, linewidths=None, verts=None, edgecolors=None,\n",
    "                                 plotnonfinite=False, data=df)"
   ]
  },
  {
   "cell_type": "code",
   "execution_count": 151,
   "metadata": {},
   "outputs": [
    {
     "data": {
      "image/png": "[encoded data removed]",
      "text/plain": [
       "<Figure size 432x288 with 1 Axes>"
      ]
     },
     "metadata": {
      "needs_background": "light"
     },
     "output_type": "display_data"
    }
   ],
   "source": [
    "\n",
    "import matplotlib\n",
    "import matplotlib.pyplot as plt\n",
    "\n",
    "fig = plt.figure()\n",
    "rect1 = matplotlib.patches.Rectangle((-200,-100), 400, 200, color='yellow')\n",
    "rect2 = matplotlib.patches.Rectangle((0,150), 300, 20, color='red')\n",
    "rect3 = matplotlib.patches.Rectangle((-300,-50), 40, 200, color='#0099FF')\n",
    "circle1 = matplotlib.patches.Circle((-200,-250), radius=90, color='#EB70AA')\n",
    "ax.add_patch(rect1)\n",
    "ax.add_patch(rect2)\n",
    "ax.add_patch(rect3)\n",
    "ax.add_patch(circle1)\n",
    "plt.xlim([-400, 400])\n",
    "plt.ylim([-400, 400])\n",
    "plt.show()"
   ]
  },
  {
   "cell_type": "code",
   "execution_count": 153,
   "metadata": {},
   "outputs": [
    {
     "name": "stdout",
     "output_type": "stream",
     "text": [
      "['plt.clim', 'plt.xlim', 'plt.ylim']\n"
     ]
    }
   ],
   "source": [
    "\n",
    "print(['plt.{}'.format(fn) for fn in dir(plt) if 'lim' in fn.lower()])"
   ]
  },
  {
   "cell_type": "code",
   "execution_count": 158,
   "metadata": {},
   "outputs": [
    {
     "data": {
      "text/plain": [
       "\u001b[1;31mSignature:\u001b[0m \u001b[0mplt\u001b[0m\u001b[1;33m.\u001b[0m\u001b[0mylim\u001b[0m\u001b[1;33m(\u001b[0m\u001b[1;33m*\u001b[0m\u001b[0margs\u001b[0m\u001b[1;33m,\u001b[0m \u001b[1;33m**\u001b[0m\u001b[0mkwargs\u001b[0m\u001b[1;33m)\u001b[0m\u001b[1;33m\u001b[0m\u001b[1;33m\u001b[0m\u001b[0m\n",
       "\u001b[1;31mDocstring:\u001b[0m\n",
       "Get or set the y-limits of the current axes.\n",
       "\n",
       "Call signatures::\n",
       "\n",
       "    bottom, top = ylim()  # return the current ylim\n",
       "    ylim((bottom, top))   # set the ylim to bottom, top\n",
       "    ylim(bottom, top)     # set the ylim to bottom, top\n",
       "\n",
       "If you do not specify args, you can alternatively pass *bottom* or\n",
       "*top* as kwargs, i.e.::\n",
       "\n",
       "    ylim(top=3)  # adjust the top leaving bottom unchanged\n",
       "    ylim(bottom=1)  # adjust the bottom leaving top unchanged\n",
       "\n",
       "Setting limits turns autoscaling off for the y-axis.\n",
       "\n",
       "Returns\n",
       "-------\n",
       "bottom, top\n",
       "    A tuple of the new y-axis limits.\n",
       "\n",
       "Notes\n",
       "-----\n",
       "Calling this function with no arguments (e.g. ``ylim()``) is the pyplot\n",
       "equivalent of calling `~.Axes.get_ylim` on the current axes.\n",
       "Calling this function with arguments is the pyplot equivalent of calling\n",
       "`~.Axes.set_ylim` on the current axes. All arguments are passed though.\n",
       "\u001b[1;31mFile:\u001b[0m      c:\\users\\dev\\anaconda3\\lib\\site-packages\\matplotlib\\pyplot.py\n",
       "\u001b[1;31mType:\u001b[0m      function\n"
      ]
     },
     "metadata": {},
     "output_type": "display_data"
    }
   ],
   "source": [
    "\n",
    "plt.ylim?"
   ]
  }
 ],
 "metadata": {
  "kernelspec": {
   "display_name": "Python 3",
   "language": "python",
   "name": "python3"
  },
  "language_info": {
   "codemirror_mode": {
    "name": "ipython",
    "version": 3
   },
   "file_extension": ".py",
   "mimetype": "text/x-python",
   "name": "python",
   "nbconvert_exporter": "python",
   "pygments_lexer": "ipython3",
   "version": "3.6.8"
  }
 },
 "nbformat": 4,
 "nbformat_minor": 2
}
