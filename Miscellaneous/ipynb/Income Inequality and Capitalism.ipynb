{
 "cells": [
  {
   "cell_type": "code",
   "execution_count": null,
   "metadata": {},
   "outputs": [],
   "source": [
    "\n",
    "%run ../../load_magic/storage.py\n",
    "%run ../../load_magic/dataframes.py\n",
    "%pprint\n",
    "%who"
   ]
  },
  {
   "cell_type": "code",
   "execution_count": null,
   "metadata": {},
   "outputs": [],
   "source": [
    "\n",
    "# From https://www.heritage.org/index/ranking\n",
    "file_name = r'../data/html/capitalism_by_country.html'\n",
    "capitalism_df = pd.read_html(file_name)[0]\n",
    "capitalism_df.columns = ['Rank', 'Country', 'Overall Capitalism', 'Change']\n",
    "capitalism_df.sample(10).T"
   ]
  },
  {
   "cell_type": "code",
   "execution_count": null,
   "metadata": {},
   "outputs": [],
   "source": [
    "\n",
    "# From https://en.wikipedia.org/wiki/List_of_countries_by_income_equality\n",
    "file_name = r'../data/html/income_inequality_by_country.html'\n",
    "income_inequality_df = pd.read_html(file_name)[0]\n",
    "income_inequality_df.sample(10).T"
   ]
  },
  {
   "cell_type": "code",
   "execution_count": null,
   "metadata": {},
   "outputs": [],
   "source": [
    "\n",
    "capitalism_country_list = capitalism_df['Country'].tolist()\n",
    "len(capitalism_country_list)"
   ]
  },
  {
   "cell_type": "code",
   "execution_count": null,
   "metadata": {},
   "outputs": [],
   "source": [
    "\n",
    "income_inequality_country_list = income_inequality_df['Country'].tolist()\n",
    "len(income_inequality_country_list)"
   ]
  },
  {
   "cell_type": "code",
   "execution_count": null,
   "metadata": {},
   "outputs": [],
   "source": [
    "\n",
    "common_country_list = list(set.intersection(set(capitalism_country_list),\n",
    "                                            set(income_inequality_country_list)))\n",
    "len(common_country_list)"
   ]
  },
  {
   "cell_type": "code",
   "execution_count": null,
   "metadata": {},
   "outputs": [],
   "source": [
    "\n",
    "%run ../../load_magic/lists.py\n",
    "typos_df = check_for_typos(capitalism_country_list, income_inequality_country_list)\n",
    "match_series = (typos_df['max_similarity'] < 1.0)\n",
    "typos_df[match_series].sort_values('max_similarity', ascending=False).head()"
   ]
  },
  {
   "cell_type": "code",
   "execution_count": null,
   "metadata": {},
   "outputs": [],
   "source": [
    "\n",
    "match_series = (capitalism_df['Country'] == 'SÃ£o TomÃ© and PrÃ\\xadncipe')\n",
    "idx = capitalism_df[match_series].index.tolist()[0]\n",
    "capitalism_df.loc[idx, 'Country'] = 'Sao Tome and Principe'"
   ]
  },
  {
   "cell_type": "code",
   "execution_count": null,
   "metadata": {},
   "outputs": [],
   "source": [
    "\n",
    "match_series = (income_inequality_df['Country'] == 'St. Lucia')\n",
    "idx = income_inequality_df[match_series].index.tolist()[0]\n",
    "income_inequality_df.loc[idx, 'Country'] = 'Saint Lucia'"
   ]
  },
  {
   "cell_type": "code",
   "execution_count": null,
   "metadata": {},
   "outputs": [],
   "source": [
    "\n",
    "match_series = (income_inequality_df['Country'] == 'DR Congo')\n",
    "idx = income_inequality_df[match_series].index.tolist()[0]\n",
    "income_inequality_df.loc[idx, 'Country'] = 'Democratic Republic of Congo'"
   ]
  },
  {
   "cell_type": "code",
   "execution_count": null,
   "metadata": {},
   "outputs": [],
   "source": [
    "\n",
    "match_series = (income_inequality_df['Country'] == 'Congo, Republic of the')\n",
    "idx = income_inequality_df[match_series].index.tolist()[0]\n",
    "income_inequality_df.loc[idx, 'Country'] = 'Republic of Congo'"
   ]
  },
  {
   "cell_type": "code",
   "execution_count": null,
   "metadata": {},
   "outputs": [],
   "source": [
    "\n",
    "match_series = (income_inequality_df['Country'] == 'North Macedonia')\n",
    "idx = income_inequality_df[match_series].index.tolist()[0]\n",
    "income_inequality_df.loc[idx, 'Country'] = 'Macedonia'"
   ]
  },
  {
   "cell_type": "code",
   "execution_count": null,
   "metadata": {},
   "outputs": [],
   "source": [
    "\n",
    "match_series = (capitalism_df['Country'] == 'Kyrgyz Republic')\n",
    "idx = capitalism_df[match_series].index.tolist()[0]\n",
    "capitalism_df.loc[idx, 'Country'] = 'Kyrgyzstan'"
   ]
  },
  {
   "cell_type": "code",
   "execution_count": null,
   "metadata": {},
   "outputs": [],
   "source": [
    "\n",
    "[cn for cn in capitalism_country_list if 'kyrg' in str(cn).lower()]"
   ]
  },
  {
   "cell_type": "code",
   "execution_count": null,
   "metadata": {},
   "outputs": [],
   "source": [
    "\n",
    "[cn for cn in income_inequality_country_list if 'kyrg' in str(cn).lower()]"
   ]
  },
  {
   "cell_type": "code",
   "execution_count": null,
   "metadata": {},
   "outputs": [],
   "source": [
    "\n",
    "capitalism_country_list = capitalism_df['Country'].tolist()\n",
    "income_inequality_country_list = income_inequality_df['Country'].tolist()\n",
    "uncommon_country_list = list(set.symmetric_difference(set(capitalism_country_list),\n",
    "                                                      set(income_inequality_country_list)))\n",
    "sorted([str(cn) for cn in uncommon_country_list])"
   ]
  },
  {
   "cell_type": "code",
   "execution_count": null,
   "metadata": {},
   "outputs": [],
   "source": [
    "\n",
    "capitalism_country_list = capitalism_df['Country'].tolist()\n",
    "income_inequality_country_list = income_inequality_df['Country'].tolist()\n",
    "typos_df = check_for_typos(income_inequality_country_list, capitalism_country_list)\n",
    "match_series = (typos_df['max_similarity'] < 1.0)\n",
    "typos_df[match_series].sort_values('max_similarity', ascending=False).head()"
   ]
  },
  {
   "cell_type": "code",
   "execution_count": null,
   "metadata": {},
   "outputs": [],
   "source": [
    "\n",
    "merge_df = pd.merge(left=capitalism_df, right=income_inequality_df, how='inner', on=['Country'],\n",
    "                    suffixes=('_capitalism', '_income_inequality'))\n",
    "merge_df.sample(10).T"
   ]
  },
  {
   "cell_type": "code",
   "execution_count": null,
   "metadata": {},
   "outputs": [],
   "source": [
    "\n",
    "# Explanatory variable\n",
    "xname = 'Overall Capitalism'\n",
    "\n",
    "# Response variable\n",
    "yname = 'World Bank Gini %'\n",
    "\n",
    "# Remove NaNs\n",
    "columns_list = ['Country', xname, yname]\n",
    "df = merge_df[columns_list].dropna()\n",
    "xdata = df[xname]\n",
    "ydata = df[yname]"
   ]
  },
  {
   "cell_type": "code",
   "execution_count": null,
   "metadata": {},
   "outputs": [],
   "source": [
    "\n",
    "# First order (linear) scatterplot\n",
    "import matplotlib.pyplot as plt\n",
    "import seaborn as sns\n",
    "import random\n",
    "%matplotlib inline\n",
    "\n",
    "fig1_fig = plt.figure(figsize=(12,8))\n",
    "merge_axes_subplot = sns.regplot(x=xname, y=yname, scatter=True, data=df)\n",
    "xlabel_str = 'Overall Capitalism (explanatory variable)'\n",
    "xlabel_text = plt.xlabel(xlabel_str)\n",
    "ylabel_str = 'World Bank Gini % (response variable)'\n",
    "ylabel_text = plt.ylabel(ylabel_str)\n",
    "kwargs = dict(textcoords='offset points', ha='left', va='bottom',\n",
    "              bbox=dict(boxstyle='round,pad=0.5', fc='yellow', alpha=0.5),\n",
    "              arrowprops=dict(arrowstyle='->', connectionstyle='arc3,rad=0'))\n",
    "least_capitalist = xdata.min()\n",
    "most_capitalist = xdata.max()\n",
    "most_unequal = ydata.max()\n",
    "least_unequal = ydata.min()\n",
    "for label, x, y in zip(df['Country'], xdata, ydata):\n",
    "    if (x == least_capitalist):\n",
    "        annotation = plt.annotate('{} (least capitalist)'.format(label),\n",
    "                                  xy=(x, y), xytext=(40, 10), **kwargs)\n",
    "    elif (x == most_capitalist):\n",
    "        annotation = plt.annotate('{} (most capitalist)'.format(label),\n",
    "                                  xy=(x, y), xytext=(-120, 220), **kwargs)\n",
    "    elif (y == most_unequal):\n",
    "        annotation = plt.annotate('{} (most unequal)'.format(label),\n",
    "                                  xy=(x, y), xytext=(45, 0), **kwargs)\n",
    "    elif (y == least_unequal):\n",
    "        annotation = plt.annotate('{} (least unequal)'.format(label),\n",
    "                                  xy=(x, y), xytext=(-200, 0), **kwargs)\n",
    "    elif (label == 'United States'):\n",
    "        annotation = plt.annotate('{} (most evil)'.format(label),\n",
    "                                  xy=(x, y), xytext=(-75, 25), **kwargs)\n",
    "title_obj = fig1_fig.suptitle('\"Wealth inequality is huge in the capitalist societies\"',\n",
    "                              fontsize=24)"
   ]
  },
  {
   "cell_type": "code",
   "execution_count": null,
   "metadata": {},
   "outputs": [],
   "source": [
    "\n",
    "import numpy as np\n",
    "import statsmodels.api as sm\n",
    "import statsmodels.formula.api as smf\n",
    "import matplotlib.pyplot as plt\n",
    "from statsmodels.regression.quantile_regression import QuantReg\n",
    "\n",
    "store_objects(capitalism_gini_df=merge_df)"
   ]
  },
  {
   "cell_type": "markdown",
   "metadata": {},
   "source": [
    "\n",
    "# Least Absolute Deviation\n",
    "\n",
    "The LAD model is a special case of quantile regression where q=0.5"
   ]
  },
  {
   "cell_type": "code",
   "execution_count": null,
   "metadata": {},
   "outputs": [],
   "source": [
    "\n",
    "merge_df.columns = ['capitalism_rank', 'country_name', 'freedom_score',\n",
    "                    'freedom_change_from_2018', 'un_10_percent_ratio', 'un_20_percent_ratio',\n",
    "                    'world_bank_gini_index', 'world_bank_gini year', 'cia_10_percent_ratio',\n",
    "                    'cia_percent_ratio_year', 'cia_gini_percent', 'cia_gini_year']\n",
    "explanatory_variable = 'freedom_score'\n",
    "response_variable = 'world_bank_gini_index'\n",
    "inequality_qr = smf.quantreg('{} ~ {}'.format(response_variable, explanatory_variable), merge_df)\n",
    "inequality_rrw = inequality_qr.fit(q=.5)\n",
    "print(inequality_rrw.summary())"
   ]
  },
  {
   "cell_type": "markdown",
   "metadata": {},
   "source": [
    "\n",
    "# Visualizing the results\n",
    "\n",
    "We estimate the quantile regression model for many quantiles between .05 and .95, and compare best fit line from each of these models to Ordinary Least Squares results.\n",
    "\n",
    "# Prepare data for plotting\n",
    "\n",
    "For convenience, we place the quantile regression results in a Pandas DataFrame, and the OLS results in a dictionary."
   ]
  },
  {
   "cell_type": "code",
   "execution_count": null,
   "metadata": {},
   "outputs": [],
   "source": [
    "\n",
    "quantiles_ndarray = np.arange(.05, .96, .1)\n",
    "def fit_model(q):\n",
    "    rrw = inequality_qr.fit(q=q)\n",
    "    row_dict = {}\n",
    "    row_dict['quantile'] = q\n",
    "    row_dict['intercept'] = rrw.params['Intercept']\n",
    "    row_dict['slope'] = rrw.params[explanatory_variable]\n",
    "    conf_int_list = rrw.conf_int().loc[explanatory_variable].tolist()\n",
    "    row_dict['lower_bound'] = conf_int_list[0]\n",
    "    row_dict['upper_bound'] = conf_int_list[1]\n",
    "    \n",
    "    return row_dict\n",
    "            \n",
    "    \n",
    "models_list = [fit_model(x) for x in quantiles_ndarray]"
   ]
  },
  {
   "cell_type": "code",
   "execution_count": null,
   "metadata": {},
   "outputs": [],
   "source": [
    "\n",
    "models_df = pd.DataFrame(models_list, columns=['quantile', 'intercept', 'slope', 'lower_bound',\n",
    "                                               'upper_bound'])\n",
    "\n",
    "rrw = smf.ols('{} ~ {}'.format(response_variable, explanatory_variable), merge_df).fit()\n",
    "conf_int_list = rrw.conf_int().loc[explanatory_variable].tolist()\n",
    "ols_dict = dict(intercept=rrw.params['Intercept'], slope=rrw.params[explanatory_variable],\n",
    "           lower_bound=conf_int_list[0], upper_bound=conf_int_list[1])\n",
    "\n",
    "print(ols_dict)\n",
    "models_df"
   ]
  },
  {
   "cell_type": "markdown",
   "metadata": {},
   "source": [
    "\n",
    "# First plot\n",
    "\n",
    "This plot compares best fit lines for 10 quantile regression models to the least squares fit. We see that:\n",
    "\n",
    "1. Wealth inequality decreases with freedom\n",
    "2. The least squares estimates fit low inequality observations slightly poorly (i.e. the OLS line passes over low freedom countries)"
   ]
  },
  {
   "cell_type": "code",
   "execution_count": null,
   "metadata": {},
   "outputs": [],
   "source": [
    "\n",
    "match_series = (merge_df[explanatory_variable] == merge_df[explanatory_variable].min())\n",
    "match_series = match_series | (merge_df[explanatory_variable] == merge_df[explanatory_variable].max())\n",
    "merge_df[match_series].T"
   ]
  },
  {
   "cell_type": "code",
   "execution_count": null,
   "metadata": {},
   "outputs": [],
   "source": [
    "\n",
    "x = np.array([merge_df[explanatory_variable].min(), merge_df[explanatory_variable].max()])\n",
    "get_y = lambda intercept, slope: intercept + slope * x\n",
    "\n",
    "fig, ax = plt.subplots(figsize=(8, 6))\n",
    "\n",
    "for i in range(models_df.shape[0]):\n",
    "    y = get_y(models_df.loc[i, 'intercept'], models_df.loc[i, 'slope'])\n",
    "    ax.plot(x, y, linestyle='dotted',\n",
    "            label='{:.2} Quantile'.format(models_df.loc[i, 'quantile']))\n",
    "    \n",
    "y = get_y(ols_dict['intercept'], ols_dict['slope'])\n",
    "\n",
    "ax.plot(x, y, color='red', label='OLS')\n",
    "ax.scatter(merge_df[explanatory_variable], merge_df[response_variable], alpha=.2, label='Countries')\n",
    "legend = ax.legend()\n",
    "xlabel_text = ax.set_xlabel('Freedom Index (explanatory variable)', fontsize=16)\n",
    "ylabel_text = ax.set_ylabel('Gini Index (response variable)', fontsize=16)"
   ]
  },
  {
   "cell_type": "markdown",
   "metadata": {},
   "source": [
    "\n",
    "# Second plot\n",
    "\n",
    "The dotted black lines form 95% point-wise confidence band around 10 quantile regression estimates (solid black line). The red lines represent OLS regression results along with their 95% confindence interval.\n",
    "\n",
    "In only the low inequality observations do the quantile regression point estimates lie outside the OLS confidence interval, which suggests that the effect of freedom on inequality is mostly constant across the distribution."
   ]
  },
  {
   "cell_type": "code",
   "execution_count": null,
   "metadata": {},
   "outputs": [],
   "source": [
    "\n",
    "n = models_df.shape[0]\n",
    "p1 = plt.plot(models_df['quantile'], models_df['slope'], color='black', label='Quantile Regression')\n",
    "p2 = plt.plot(models_df['quantile'], models_df['upper_bound'], linestyle='dotted', color='black',\n",
    "              label='Upper Bound')\n",
    "p3 = plt.plot(models_df['quantile'], models_df['lower_bound'], linestyle='dotted', color='black',\n",
    "              label='Lower Bound')\n",
    "\n",
    "slope = ols_dict['slope']\n",
    "p4 = plt.plot(models_df['quantile'], [slope] * n, color='red', label='OLS')\n",
    "\n",
    "lower_bound = ols_dict['lower_bound']\n",
    "p5 = plt.plot(models_df['quantile'], [lower_bound] * n, linestyle='dotted', color='red')\n",
    "\n",
    "upper_bound = ols_dict['upper_bound']\n",
    "p6 = plt.plot(models_df['quantile'], [upper_bound] * n, linestyle='dotted', color='red')\n",
    "\n",
    "plt.ylabel(r'$\\beta_{{{}}}$'.format(explanatory_variable))\n",
    "plt.xlabel('Quantiles of the conditional wealth inequality distribution')\n",
    "legend_obj = plt.legend(loc='lower left')"
   ]
  },
  {
   "cell_type": "code",
   "execution_count": null,
   "metadata": {},
   "outputs": [],
   "source": [
    "%%javascript\n",
    "var kernel = IPython.notebook.kernel;\n",
    "var body = document.body,  \n",
    "    attribs = body.attributes;\n",
    "var command = \"notebook_path = \" + \"'\"+attribs['data-notebook-path'].value+\"'\";\n",
    "kernel.execute(command);"
   ]
  },
  {
   "cell_type": "code",
   "execution_count": null,
   "metadata": {},
   "outputs": [],
   "source": [
    "# %load ../../load_magic/nbviewer.py\n",
    "\n",
    "from IPython.display import HTML\n",
    "\n",
    "notebook_viewer_url = 'https://nbviewer.jupyter.org/github/dbabbitt/notebooks/blob/master/'\n",
    "notebook_viewer_url += '/'.join(notebook_path.split('/')[1:])\n",
    "html_str = 'Click <a href=\"{}\" target=\"_blank\">here</a> to view notebook in nbviewer.'\n",
    "HTML(html_str.format(notebook_viewer_url))"
   ]
  },
  {
   "cell_type": "code",
   "execution_count": null,
   "metadata": {},
   "outputs": [],
   "source": []
  }
 ],
 "metadata": {
  "kernelspec": {
   "display_name": "Python 3",
   "language": "python",
   "name": "python3"
  },
  "language_info": {
   "codemirror_mode": {
    "name": "ipython",
    "version": 3
   },
   "file_extension": ".py",
   "mimetype": "text/x-python",
   "name": "python",
   "nbconvert_exporter": "python",
   "pygments_lexer": "ipython3",
   "version": "3.6.8"
  }
 },
 "nbformat": 4,
 "nbformat_minor": 2
}
