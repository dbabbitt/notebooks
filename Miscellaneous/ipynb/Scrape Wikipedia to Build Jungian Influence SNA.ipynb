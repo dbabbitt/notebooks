{
 "cells": [
  {
   "cell_type": "code",
   "execution_count": 1,
   "metadata": {},
   "outputs": [
    {
     "name": "stdout",
     "output_type": "stream",
     "text": [
      "Collecting wikipedia\n",
      "  Downloading wikipedia-1.4.0.tar.gz\n",
      "Requirement already satisfied: beautifulsoup4 in c:\\programdata\\anaconda3\\lib\\site-packages (from wikipedia)\n",
      "Requirement already satisfied: requests<3.0.0,>=2.0.0 in c:\\programdata\\anaconda3\\lib\\site-packages (from wikipedia)\n",
      "Requirement already satisfied: chardet<3.1.0,>=3.0.2 in c:\\programdata\\anaconda3\\lib\\site-packages (from requests<3.0.0,>=2.0.0->wikipedia)\n",
      "Requirement already satisfied: idna<2.7,>=2.5 in c:\\programdata\\anaconda3\\lib\\site-packages (from requests<3.0.0,>=2.0.0->wikipedia)\n",
      "Requirement already satisfied: urllib3<1.23,>=1.21.1 in c:\\programdata\\anaconda3\\lib\\site-packages (from requests<3.0.0,>=2.0.0->wikipedia)\n",
      "Requirement already satisfied: certifi>=2017.4.17 in c:\\programdata\\anaconda3\\lib\\site-packages (from requests<3.0.0,>=2.0.0->wikipedia)\n",
      "Building wheels for collected packages: wikipedia\n",
      "  Running setup.py bdist_wheel for wikipedia: started\n",
      "  Running setup.py bdist_wheel for wikipedia: finished with status 'done'\n",
      "  Stored in directory: C:\\Users\\577342\\AppData\\Local\\pip\\Cache\\wheels\\bf\\87\\25\\df698dd7b66a42c1c5f3bd36f8155d4518d210f5e2c128b440\n",
      "Successfully built wikipedia\n",
      "Installing collected packages: wikipedia\n",
      "Successfully installed wikipedia-1.4.0\n"
     ]
    }
   ],
   "source": [
    "\n",
    "!pip install wikipedia"
   ]
  },
  {
   "cell_type": "code",
   "execution_count": 2,
   "metadata": {
    "collapsed": true
   },
   "outputs": [],
   "source": [
    "\n",
    "import wikipedia\n",
    "\n",
    "jung_page = wikipedia.page('Carl Jung')\n",
    "jung_url = r'https://en.wikipedia.org/wiki/Carl_Jung'"
   ]
  },
  {
   "cell_type": "code",
   "execution_count": 4,
   "metadata": {},
   "outputs": [
    {
     "name": "stdout",
     "output_type": "stream",
     "text": [
      "Pretty printing has been turned OFF\n"
     ]
    },
    {
     "data": {
      "text/plain": [
       "['_WikipediaPage__continued_query', '_WikipediaPage__load', '_WikipediaPage__title_query_param', '__class__', '__delattr__', '__dict__', '__dir__', '__doc__', '__eq__', '__format__', '__ge__', '__getattribute__', '__gt__', '__hash__', '__init__', '__init_subclass__', '__le__', '__lt__', '__module__', '__ne__', '__new__', '__reduce__', '__reduce_ex__', '__repr__', '__setattr__', '__sizeof__', '__str__', '__subclasshook__', '__weakref__', 'categories', 'content', 'coordinates', 'html', 'images', 'links', 'original_title', 'pageid', 'parent_id', 'references', 'revision_id', 'section', 'sections', 'summary', 'title', 'url']"
      ]
     },
     "execution_count": 4,
     "metadata": {},
     "output_type": "execute_result"
    }
   ],
   "source": [
    "\n",
    "%pprint\n",
    "\n",
    "dir(jung_page)"
   ]
  },
  {
   "cell_type": "code",
   "execution_count": 15,
   "metadata": {},
   "outputs": [],
   "source": [
    "\n",
    "import os\n",
    "\n",
    "# Handy list of the different types of encodings\n",
    "encoding = ['latin1', 'iso8859-1', 'utf-8'][2]\n",
    "\n",
    "saves_folder = r'../saves/'\n",
    "os.makedirs(name=saves_folder+'html', exist_ok=True)\n",
    "with open(file=saves_folder+'html/jung_page.html', mode='w', encoding=encoding) as text_file:\n",
    "    print(jung_page.html(), file=text_file)"
   ]
  },
  {
   "cell_type": "code",
   "execution_count": 39,
   "metadata": {},
   "outputs": [
    {
     "name": "stdout",
     "output_type": "stream",
     "text": [
      "Eugen Bleuler\n",
      "Sigmund Freud\n",
      "Immanuel Kant\n",
      "Friedrich Nietzsche\n",
      "Arthur Schopenhauer\n",
      "Joseph Campbell\n",
      "Hermann Hesse\n",
      "Erich Neumann (psychologist)\n",
      "Ross Nichols\n",
      "Alan Watts\n",
      "Jordan Peterson\n",
      "Terence McKenna\n",
      "Gaston Bachelard\n"
     ]
    }
   ],
   "source": [
    "\n",
    "from bs4 import BeautifulSoup as bs\n",
    "import networkx as nx\n",
    "\n",
    "jung_digraph = nx.DiGraph()\n",
    "def spider_infoboxes(jung_digraph, jung_page):\n",
    "    jung_soup = bs(jung_page.html(), 'lxml')\n",
    "    jung_digraph.add_node(jung_page.title)\n",
    "    for param_th in jung_soup.find_all('th', scope='row'):\n",
    "        if param_th.text.strip() == 'Influences':\n",
    "            influences_td = param_th.find_next_sibling('td')\n",
    "            for influences_link in influences_td.find_all('a', title=True):\n",
    "                influences_title = influences_link['title']\n",
    "                influences_page = wikipedia.page(influences_title)\n",
    "        if param_th.text.strip() == 'Influenced':\n",
    "            influenced_td = param_th.find_next_sibling('td')\n",
    "            for influenced_link in influenced_td.find_all('a', title=True):\n",
    "                influenced_title = influenced_link['title']"
   ]
  },
  {
   "cell_type": "code",
   "execution_count": null,
   "metadata": {
    "collapsed": true
   },
   "outputs": [],
   "source": []
  }
 ],
 "metadata": {
  "kernelspec": {
   "display_name": "Python 3",
   "language": "python",
   "name": "python3"
  },
  "language_info": {
   "codemirror_mode": {
    "name": "ipython",
    "version": 3
   },
   "file_extension": ".py",
   "mimetype": "text/x-python",
   "name": "python",
   "nbconvert_exporter": "python",
   "pygments_lexer": "ipython3",
   "version": "3.6.3"
  }
 },
 "nbformat": 4,
 "nbformat_minor": 2
}
