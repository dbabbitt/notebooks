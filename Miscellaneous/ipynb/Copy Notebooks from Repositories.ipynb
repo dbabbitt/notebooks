{
 "cells": [
  {
   "cell_type": "code",
   "execution_count": 1,
   "metadata": {
    "scrolled": true
   },
   "outputs": [
    {
     "name": "stdout",
     "output_type": "stream",
     "text": [
      "mkdir: ../data: File exists\n",
      "mkdir: ../data/csv: File exists\n",
      "mkdir: ../saves: File exists\n",
      "mkdir: ../saves/pickle: File exists\n",
      "mkdir: ../saves/csv: File exists\n"
     ]
    }
   ],
   "source": [
    "# %load ../../load_magic/storage.py\n",
    "\n",
    "!mkdir ../data\n",
    "!mkdir ../data/csv\n",
    "!mkdir ../saves\n",
    "!mkdir ../saves/pickle\n",
    "!mkdir ../saves/csv\n",
    "import pickle\n",
    "import os\n",
    "\n",
    "# Handy list of the different types of encodings\n",
    "encoding = ['latin1', 'iso8859-1', 'utf-8'][2]\n",
    "\n",
    "# Change this to your data and saves folders\n",
    "data_folder = r'../data/'\n",
    "saves_folder = r'../saves/'"
   ]
  },
  {
   "cell_type": "code",
   "execution_count": 6,
   "metadata": {
    "collapsed": true,
    "scrolled": false
   },
   "outputs": [],
   "source": [
    "\n",
    "# Copy all notebooks from the repositories\n",
    "import os\n",
    "import re\n",
    "\n",
    "rootdir = '/Users/davebabbitt/Documents/My Repositories/'\n",
    "black_list = ['.ipynb_checkpoints', '.Trash', '/Jupyter/kernel', 'hanscom-afb-data-science', 'ipywidgets',\n",
    "              'reinforcement-learning', 'AndrewTextClassification']\n",
    "\n",
    "for subdir, dirs, files in os.walk(rootdir):\n",
    "    for src_file in files:\n",
    "        if all(map(lambda x: x not in subdir, black_list)):\n",
    "            if src_file.endswith('.ipynb'):\n",
    "                src_path = os.path.join(subdir, src_file)\n",
    "                dst_dir = os.getcwd() + '/'.join(subdir.rsplit(rootdir))\n",
    "                if not os.path.isdir(dst_dir):\n",
    "                    os.makedirs(dst_dir)\n",
    "                dst_path = dst_dir + '/' + src_file\n",
    "                if not os.path.isfile(dst_path):\n",
    "                    copyfile(src_path, dst_path)\n",
    "                    print(dst_path)"
   ]
  },
  {
   "cell_type": "code",
   "execution_count": 5,
   "metadata": {
    "collapsed": true,
    "scrolled": false
   },
   "outputs": [],
   "source": [
    "\n",
    "# Where are any wav files?\n",
    "import os\n",
    "from shutil import copyfile\n",
    "\n",
    "rootdir = '/'\n",
    "black_list = ['.Trash']\n",
    "\n",
    "for subdir, dirs, files in os.walk(rootdir):\n",
    "    for src_file in files:\n",
    "        if all(map(lambda x: x not in subdir, black_list)):\n",
    "            if src_file.endswith('.wave'):\n",
    "                src_path = os.path.join(subdir, src_file)\n",
    "                dst_dir = os.path.normpath(os.getcwd() + '../data/wav' + '/'.join(subdir.rsplit(rootdir)))\n",
    "                if not os.path.isdir(dst_dir):\n",
    "                    os.makedirs(dst_dir)\n",
    "                dst_path = dst_dir + '/' + src_file\n",
    "                if not os.path.isfile(dst_path):\n",
    "                    #copyfile(src_path, dst_path)\n",
    "                    print(dst_path)"
   ]
  },
  {
   "cell_type": "code",
   "execution_count": null,
   "metadata": {
    "collapsed": true
   },
   "outputs": [],
   "source": []
  }
 ],
 "metadata": {
  "kernelspec": {
   "display_name": "Python 2",
   "language": "python",
   "name": "python2"
  },
  "language_info": {
   "codemirror_mode": {
    "name": "ipython",
    "version": 2
   },
   "file_extension": ".py",
   "mimetype": "text/x-python",
   "name": "python",
   "nbconvert_exporter": "python",
   "pygments_lexer": "ipython2",
   "version": "2.7.14"
  }
 },
 "nbformat": 4,
 "nbformat_minor": 2
}
