{
 "cells": [
  {
   "cell_type": "markdown",
   "metadata": {},
   "source": [
    "\n",
    "## Upload YouTube Videos to the Reading Material Folder Manually"
   ]
  },
  {
   "cell_type": "markdown",
   "metadata": {},
   "source": [
    "\n",
    "In this notebook, we will take URLs of videos, convert them to mp3s, upload them to Google Drive, trash them, and delete them."
   ]
  },
  {
   "cell_type": "markdown",
   "metadata": {},
   "source": [
    "\n",
    "We will start by ensuring that all the necessary python libraries are installed."
   ]
  },
  {
   "cell_type": "code",
   "execution_count": null,
   "metadata": {},
   "outputs": [],
   "source": [
    "\n",
    "import sys\n",
    "\n",
    "print('conda update --all --yes --prefix \"{}\"'.format(sys.prefix))"
   ]
  },
  {
   "cell_type": "code",
   "execution_count": null,
   "metadata": {},
   "outputs": [],
   "source": [
    "\n",
    "import sys\n",
    "\n",
    "# youtube-dl-2019.8.2\n",
    "print('{} -m pip install --upgrade youtube_dl'.format(sys.executable))\n",
    "!{sys.executable} -m pip install --upgrade youtube_dl"
   ]
  },
  {
   "cell_type": "code",
   "execution_count": null,
   "metadata": {},
   "outputs": [],
   "source": [
    "\n",
    "import os\n",
    "\n",
    "# https://github.com/ytdl-org/youtube-dl/issues/20758\n",
    "# Just replaced 'token' to 'account_playback_token' in line 1674 of extractor/youtube.py\n",
    "# All seems to work.\n",
    "text_editor_path = r'C:\\Program Files\\Notepad++\\notepad++.exe'\n",
    "#text_editor_path = r'C:\\Program Files\\Sublime Text 3\\sublime_text.exe'\n",
    "for sub_dir, dirs_list, files_list in os.walk(r'{}\\Lib\\site-packages\\youtube_dl'.format(sys.prefix)):\n",
    "    for file_name in files_list:\n",
    "        if 'youtube.py' == file_name:\n",
    "            file_path = os.path.join(sub_dir, file_name)\n",
    "            print(file_path)\n",
    "!\"{text_editor_path}\" \"{file_path}\""
   ]
  },
  {
   "cell_type": "code",
   "execution_count": null,
   "metadata": {},
   "outputs": [],
   "source": [
    "\n",
    "!youtube-dl --version"
   ]
  },
  {
   "cell_type": "code",
   "execution_count": null,
   "metadata": {},
   "outputs": [],
   "source": [
    "\n",
    "!{sys.executable} -m pip install --upgrade PyDrive"
   ]
  },
  {
   "cell_type": "markdown",
   "metadata": {},
   "source": [
    "\n",
    "Next, we will prove to ourselves that we have ffmpeg correctly installed."
   ]
  },
  {
   "cell_type": "code",
   "execution_count": null,
   "metadata": {},
   "outputs": [],
   "source": [
    "\n",
    "# https://github.com/adaptlearning/adapt_authoring/wiki/Installing-FFmpeg\n",
    "!ffmpeg -version"
   ]
  },
  {
   "cell_type": "markdown",
   "metadata": {},
   "source": [
    "\n",
    "Performing authentication with Google Drive requires we keep our client id and consumer secret in a json file. Keep your secrets off the internet!"
   ]
  },
  {
   "cell_type": "code",
   "execution_count": null,
   "metadata": {},
   "outputs": [],
   "source": [
    "\n",
    "!start %windir%\\explorer.exe \"C:\\Users\\dev\\Documents\\repositories\\notebooks\\Miscellaneous\\json\""
   ]
  },
  {
   "cell_type": "markdown",
   "metadata": {},
   "source": [
    "\n",
    "We also make sure line 286 of pydrive's files.py file reads <code>self.content.close()</code> before we run the trash cell."
   ]
  },
  {
   "cell_type": "code",
   "execution_count": null,
   "metadata": {},
   "outputs": [],
   "source": [
    "\n",
    "import sys\n",
    "\n",
    "file_path = r'{}\\Lib\\site-packages\\pydrive\\files.py'.format(sys.prefix)\n",
    "!\"{text_editor_path}\" \"{file_path}\""
   ]
  },
  {
   "cell_type": "markdown",
   "metadata": {},
   "source": [
    "\n",
    "Before we start the download process, let's go over setting a few variables:\n",
    "\n",
    "* **The downloads folder:** This is where all the messy work will be done. All mp3 files and any intermediate files will be deleted out of this folder by the end.\n",
    "* **The URL list:** This is where we place our YouTube video URLs. It doesn't matter if you remove the <code>time_continue=</code> parameter in the URL, the mp3 will just start at zero seconds anyway.\n",
    "* **The target folder ID:** This is the folder in Google Drive where our uploads will end up."
   ]
  },
  {
   "cell_type": "code",
   "execution_count": null,
   "metadata": {},
   "outputs": [],
   "source": [
    "\n",
    "from bs4 import BeautifulSoup as bs\n",
    "import re\n",
    "import requests\n",
    "\n",
    "site_url = 'https://www.youtube.com/'\n",
    "youtube_css = '#items'\n",
    "site_page = requests.get(url=site_url)\n",
    "site_html = site_page.content\n",
    "site_soup = bs(site_html, 'lxml')\n",
    "site_soup.select(youtube_css)"
   ]
  },
  {
   "cell_type": "code",
   "execution_count": 1,
   "metadata": {},
   "outputs": [],
   "source": [
    "\n",
    "import youtube_dl\n",
    "\n",
    "downloads_folder = r'C:\\Users\\577342\\Downloads'\n",
    "youtube_url_list = ['https://www.youtube.com/watch?v=WrqfgoJBVP8', 'https://www.youtube.com/watch?v=H9xjNryZQn0',\n",
    "                    'https://www.youtube.com/watch?v=nF4vVVFyXjI', 'https://www.youtube.com/watch?v=QxnkGymKuuI',\n",
    "                    'https://www.youtube.com/watch?v=wIkGYXdSFNM', 'https://www.youtube.com/watch?v=62Q1NL4k8cI',\n",
    "                    'https://www.youtube.com/watch?v=KDX8zNR22yM', 'https://www.youtube.com/watch?v=EjVzjxihGvU',\n",
    "                    'https://www.youtube.com/watch?v=l_N5WhH_W-o', 'https://www.youtube.com/watch?v=DTwEFa5NW2k',\n",
    "                    'https://www.youtube.com/watch?v=BsUquRO-70w', 'https://www.youtube.com/watch?v=eNLlIXodu6Y',\n",
    "                    'https://www.youtube.com/watch?v=koE-ZQia15E']"
   ]
  },
  {
   "cell_type": "markdown",
   "metadata": {},
   "source": [
    "Now we are ready to start the download process by running <code>youtube_dl</code> on our <code>youtube_url_list</code>."
   ]
  },
  {
   "cell_type": "code",
   "execution_count": 2,
   "metadata": {
    "scrolled": false
   },
   "outputs": [
    {
     "name": "stderr",
     "output_type": "stream",
     "text": [
      "[debug] Encodings: locale cp1252, fs utf-8, out UTF-8, pref cp1252\n",
      "[debug] youtube-dl version 2020.01.01\n",
      "[debug] Python version 3.6.8 (CPython) - Windows-10-10.0.18362-SP0\n",
      "[debug] exe versions: avconv v13_dev0-1440-g34c1133, avprobe v13_dev0-1440-g34c1133, ffmpeg git-2020-01-08-5bd0010, ffprobe git-2020-01-08-5bd0010, phantomjs 2.1.1\n",
      "[debug] Proxy map: {}\n"
     ]
    },
    {
     "name": "stdout",
     "output_type": "stream",
     "text": [
      "[youtube] WrqfgoJBVP8: Downloading webpage\n",
      "[youtube] WrqfgoJBVP8: Downloading video info webpage\n",
      "[debug] Invoking downloader on 'https://r1---sn-p5qlsnd6.googlevideo.com/videoplayback?expire=1581789780&ei=9N1HXu2vNYCC1uUPxc-6mAM&ip=2600%3A6c64%3A657f%3Af499%3A0%3Aab34%3A2e17%3A2a78&id=o-ADRx0UGKPHukgrrbOuNMyO70sdHNQkrjkq9xYWh_3wTy&itag=140&source=youtube&requiressl=yes&mm=31%2C26&mn=sn-p5qlsnd6%2Csn-vgqsrned&ms=au%2Conr&mv=m&mvi=0&pl=32&initcwndbps=2307500&vprv=1&mime=audio%2Fmp4&gir=yes&clen=36797208&dur=2273.651&lmt=1581717576145478&mt=1581768088&fvip=1&keepalive=yes&fexp=23842630%2C23878762&c=WEB&txp=2311222&sparams=expire%2Cei%2Cip%2Cid%2Citag%2Csource%2Crequiressl%2Cvprv%2Cmime%2Cgir%2Cclen%2Cdur%2Clmt&sig=ALgxI2wwRQIhAOlqgNziIpHM0KDeP-2SovgCauxVBAVyd7SytIDECI0IAiBN-pLGWYR5AJtDPsJ0Rgo-rZxAqtPmr3GnUCAac2Z57Q%3D%3D&lsparams=mm%2Cmn%2Cms%2Cmv%2Cmvi%2Cpl%2Cinitcwndbps&lsig=AHylml4wRgIhAIaEDmKraBMk-fdqcLIutQwPo1SouVoVz1Pqsa8HvptjAiEA6Z-181iIPpy2RSPhdWWHITlRB-Z_K7R-g6U3Iv8PcrI%3D&ratebypass=yes'\n",
      "[download] Destination: C:\\Users\\577342\\Downloads\\Lost Ways of Knowing-WrqfgoJBVP8.m4a\n",
      "[download] 100% of 35.09MiB in 00:04                  \n",
      "[ffmpeg] Correcting container in \"C:\\Users\\577342\\Downloads\\Lost Ways of Knowing-WrqfgoJBVP8.m4a\"\n",
      "[debug] ffmpeg command line: ffmpeg -y -loglevel \"repeat+info\" -i \"file:C:\\Users\\577342\\Downloads\\Lost Ways of Knowing-WrqfgoJBVP8.m4a\" -c copy -f mp4 \"file:C:\\Users\\577342\\Downloads\\Lost Ways of Knowing-WrqfgoJBVP8.temp.m4a\"\n",
      "[debug] ffmpeg command line: ffprobe -show_streams \"file:C:\\Users\\577342\\Downloads\\Lost Ways of Knowing-WrqfgoJBVP8.m4a\"\n",
      "[ffmpeg] Destination: C:\\Users\\577342\\Downloads\\Lost Ways of Knowing-WrqfgoJBVP8.mp3\n",
      "[debug] ffmpeg command line: ffmpeg -y -loglevel \"repeat+info\" -i \"file:C:\\Users\\577342\\Downloads\\Lost Ways of Knowing-WrqfgoJBVP8.m4a\" -vn -acodec libmp3lame \"-b:a\" 192k \"file:C:\\Users\\577342\\Downloads\\Lost Ways of Knowing-WrqfgoJBVP8.mp3\"\n",
      "Deleting original file C:\\Users\\577342\\Downloads\\Lost Ways of Knowing-WrqfgoJBVP8.m4a (pass -k to keep)\n",
      "[youtube] H9xjNryZQn0: Downloading webpage\n",
      "[youtube] H9xjNryZQn0: Downloading video info webpage\n",
      "[debug] Invoking downloader on 'https://r2---sn-p5qlsndk.googlevideo.com/videoplayback?expire=1581789911&ei=d95HXuroDdnvigSDtJCgCA&ip=2600%3A6c64%3A657f%3Af499%3A0%3Aab34%3A2e17%3A2a78&id=o-AOlobO2Im4hY0l7jxi6QbQvQPIPqh7dWeyEdoVCIGocG&itag=251&source=youtube&requiressl=yes&mm=31%2C26&mn=sn-p5qlsndk%2Csn-vgqsrnel&ms=au%2Conr&mv=m&mvi=1&pl=32&initcwndbps=2460000&vprv=1&mime=audio%2Fwebm&gir=yes&clen=49042249&dur=2716.361&lmt=1581708472145650&mt=1581768214&fvip=2&keepalive=yes&fexp=23842630%2C23878762&c=WEB&txp=6301222&sparams=expire%2Cei%2Cip%2Cid%2Citag%2Csource%2Crequiressl%2Cvprv%2Cmime%2Cgir%2Cclen%2Cdur%2Clmt&sig=ALgxI2wwRgIhAJqCBTGWgeeb5AWxq6xKh8hVv_JBhl7Of1Zz-DkHoFiJAiEA-g4A5avIjh14TpHNU5d8S-6GixvPG7lkvgMEo32l9RQ%3D&lsparams=mm%2Cmn%2Cms%2Cmv%2Cmvi%2Cpl%2Cinitcwndbps&lsig=AHylml4wRAIgX6n9aPgWi7Mn532l_O6yra5MmF6Q0EeUmZzb6H2mH-8CIBpWXc6xwUKRxN1PZhadP8jvvswOJc4EN3cD3Cdh1McT&ratebypass=yes'\n",
      "[download] Destination: C:\\Users\\577342\\Downloads\\Leandro and I discuss the martial arts and the hero's journey.-H9xjNryZQn0.webm\n",
      "[download] 100% of 46.77MiB in 00:08                   \n",
      "[debug] ffmpeg command line: ffprobe -show_streams \"file:C:\\Users\\577342\\Downloads\\Leandro and I discuss the martial arts and the hero's journey.-H9xjNryZQn0.webm\"\n",
      "[ffmpeg] Destination: C:\\Users\\577342\\Downloads\\Leandro and I discuss the martial arts and the hero's journey.-H9xjNryZQn0.mp3\n",
      "[debug] ffmpeg command line: ffmpeg -y -loglevel \"repeat+info\" -i \"file:C:\\Users\\577342\\Downloads\\Leandro and I discuss the martial arts and the hero's journey.-H9xjNryZQn0.webm\" -vn -acodec libmp3lame \"-b:a\" 192k \"file:C:\\Users\\577342\\Downloads\\Leandro and I discuss the martial arts and the hero's journey.-H9xjNryZQn0.mp3\"\n",
      "Deleting original file C:\\Users\\577342\\Downloads\\Leandro and I discuss the martial arts and the hero's journey.-H9xjNryZQn0.webm (pass -k to keep)\n",
      "[youtube] nF4vVVFyXjI: Downloading webpage\n",
      "[youtube] nF4vVVFyXjI: Downloading video info webpage\n",
      "[debug] Invoking downloader on 'https://r1---sn-p5qlsnz6.googlevideo.com/videoplayback?expire=1581790173&ei=fd9HXsngLYP4NrSXiqAM&ip=2600%3A6c64%3A657f%3Af499%3A0%3Aab34%3A2e17%3A2a78&id=o-AGGc0vyihSSXwQm43Dr9kc4l9HYuWOyvVlX6PLUfqaAD&itag=251&source=youtube&requiressl=yes&mm=31%2C26&mn=sn-p5qlsnz6%2Csn-vgqsknes&ms=au%2Conr&mv=m&mvi=0&pl=32&initcwndbps=2331250&vprv=1&mime=audio%2Fwebm&gir=yes&clen=4248005&dur=233.741&lmt=1581690024832364&mt=1581768517&fvip=1&keepalive=yes&fexp=23842630%2C23878762&c=WEB&txp=6301222&sparams=expire%2Cei%2Cip%2Cid%2Citag%2Csource%2Crequiressl%2Cvprv%2Cmime%2Cgir%2Cclen%2Cdur%2Clmt&sig=ALgxI2wwRQIgX9OEG4P8FnLVZWLkmdZq0SHg8kUgaTRPM3KWA8AqqFsCIQDOEyj4JVrjgV_KNLhPKxUQv8m55jK628u3ZcVoauWICQ%3D%3D&lsparams=mm%2Cmn%2Cms%2Cmv%2Cmvi%2Cpl%2Cinitcwndbps&lsig=AHylml4wRAIgb_r2-5nvz3dRwJvMk2_jmAI3GznhjR2SgFmvZJTbLrkCIByYuyK2Tz7zYU02CtKWk0SFhzSR29UI81EVg7usmXT0&ratebypass=yes'\n",
      "[download] Destination: C:\\Users\\577342\\Downloads\\A discussion with Leandro about the martial arts and the hero's journey.-nF4vVVFyXjI.webm\n",
      "[download] 100% of 4.05MiB in 00:00                  \n",
      "[debug] ffmpeg command line: ffprobe -show_streams \"file:C:\\Users\\577342\\Downloads\\A discussion with Leandro about the martial arts and the hero's journey.-nF4vVVFyXjI.webm\"\n",
      "[ffmpeg] Destination: C:\\Users\\577342\\Downloads\\A discussion with Leandro about the martial arts and the hero's journey.-nF4vVVFyXjI.mp3\n",
      "[debug] ffmpeg command line: ffmpeg -y -loglevel \"repeat+info\" -i \"file:C:\\Users\\577342\\Downloads\\A discussion with Leandro about the martial arts and the hero's journey.-nF4vVVFyXjI.webm\" -vn -acodec libmp3lame \"-b:a\" 192k \"file:C:\\Users\\577342\\Downloads\\A discussion with Leandro about the martial arts and the hero's journey.-nF4vVVFyXjI.mp3\"\n",
      "Deleting original file C:\\Users\\577342\\Downloads\\A discussion with Leandro about the martial arts and the hero's journey.-nF4vVVFyXjI.webm (pass -k to keep)\n",
      "[youtube] QxnkGymKuuI: Downloading webpage\n",
      "[youtube] QxnkGymKuuI: Downloading video info webpage\n",
      "[debug] Invoking downloader on 'https://r2---sn-p5qlsndd.googlevideo.com/videoplayback?expire=1581790198&ei=lt9HXqnuEoOZtQfdvbHgDA&ip=2600%3A6c64%3A657f%3Af499%3A0%3Aab34%3A2e17%3A2a78&id=o-AIDwvWhGiOrQxa2gNvdQlFtHyBzyzCj_er8mbOMcdW3Q&itag=251&source=youtube&requiressl=yes&mm=31%2C26&mn=sn-p5qlsndd%2Csn-vgqsrned&ms=au%2Conr&mv=m&mvi=1&pl=32&initcwndbps=2351250&vprv=1&mime=audio%2Fwebm&gir=yes&clen=55531795&dur=3815.921&lmt=1581698431989879&mt=1581768517&fvip=2&keepalive=yes&fexp=23842630%2C23878762&c=WEB&txp=5531432&sparams=expire%2Cei%2Cip%2Cid%2Citag%2Csource%2Crequiressl%2Cvprv%2Cmime%2Cgir%2Cclen%2Cdur%2Clmt&sig=ALgxI2wwRgIhAKejziT0ygr-kRt4ywtrRd6UZUxNUlmW0ql7tycb0rTIAiEAh4MN2njQxXqov9KhSpwzQxvG-h3IXfV8AFS68iHiaog%3D&lsparams=mm%2Cmn%2Cms%2Cmv%2Cmvi%2Cpl%2Cinitcwndbps&lsig=AHylml4wRAIgVIpM8UcN2PzRL-IeH_8Cyf4mE1XXLqCzb8_BRTI51AUCIHiYewA0ZOmJfzAmTmmJMccrsi79nkCCFIFFVTJVyhdA&ratebypass=yes'\n",
      "[download] Destination: C:\\Users\\577342\\Downloads\\Eric Weinstein (Solo), Ep. #018 of The Portal - Slipping the DISC - State of The Portal_Chapter 2020.-QxnkGymKuuI.webm\n",
      "[download] 100% of 52.96MiB in 00:08                  \n",
      "[debug] ffmpeg command line: ffprobe -show_streams \"file:C:\\Users\\577342\\Downloads\\Eric Weinstein (Solo), Ep. #018 of The Portal - Slipping the DISC - State of The Portal_Chapter 2020.-QxnkGymKuuI.webm\"\n",
      "[ffmpeg] Destination: C:\\Users\\577342\\Downloads\\Eric Weinstein (Solo), Ep. #018 of The Portal - Slipping the DISC - State of The Portal_Chapter 2020.-QxnkGymKuuI.mp3\n",
      "[debug] ffmpeg command line: ffmpeg -y -loglevel \"repeat+info\" -i \"file:C:\\Users\\577342\\Downloads\\Eric Weinstein (Solo), Ep. #018 of The Portal - Slipping the DISC - State of The Portal_Chapter 2020.-QxnkGymKuuI.webm\" -vn -acodec libmp3lame \"-b:a\" 192k \"file:C:\\Users\\577342\\Downloads\\Eric Weinstein (Solo), Ep. #018 of The Portal - Slipping the DISC - State of The Portal_Chapter 2020.-QxnkGymKuuI.mp3\"\n",
      "Deleting original file C:\\Users\\577342\\Downloads\\Eric Weinstein (Solo), Ep. #018 of The Portal - Slipping the DISC - State of The Portal_Chapter 2020.-QxnkGymKuuI.webm (pass -k to keep)\n",
      "[youtube] wIkGYXdSFNM: Downloading webpage\n",
      "[youtube] wIkGYXdSFNM: Downloading video info webpage\n",
      "[debug] Invoking downloader on 'https://r1---sn-p5qs7nek.googlevideo.com/videoplayback?expire=1581790461&ei=neBHXvjpFsvoiwThqKbgAw&ip=2600%3A6c64%3A657f%3Af499%3A0%3Aab34%3A2e17%3A2a78&id=o-AEDjV28t5XnKgAdsilC9COchaK8fYmagUk--y1JLfE0o&itag=251&source=youtube&requiressl=yes&mm=31%2C26&mn=sn-p5qs7nek%2Csn-vgqsrnll&ms=au%2Conr&mv=m&mvi=0&pl=32&initcwndbps=2240000&vprv=1&mime=audio%2Fwebm&gir=yes&clen=30620392&dur=2045.461&lmt=1581460800947401&mt=1581768766&fvip=1&keepalive=yes&fexp=23842630%2C23878762&c=WEB&txp=5431432&sparams=expire%2Cei%2Cip%2Cid%2Citag%2Csource%2Crequiressl%2Cvprv%2Cmime%2Cgir%2Cclen%2Cdur%2Clmt&sig=ALgxI2wwRQIgC-osfu2YT4VwhuR-i3BAgd8mMc1fpiFczt2-Lu8Yo4wCIQCHqatOzKbEBsC41X4PvowQbZIqJKABChZO5WPjoFRj0A%3D%3D&lsparams=mm%2Cmn%2Cms%2Cmv%2Cmvi%2Cpl%2Cinitcwndbps&lsig=AHylml4wRQIhAM5BYsWFDfdEf8lEjUbpUa3PT6ZPzmluy9XonFNisOPtAiA5Bx8jOz-8KJMlKEdK5egAmRYTEshatGMn6e5n3NVXbw%3D%3D&ratebypass=yes'\n",
      "[download] Destination: C:\\Users\\577342\\Downloads\\The Entire Cosmos in the Parable of the Sower-wIkGYXdSFNM.webm\n",
      "[download] 100% of 29.20MiB in 00:02                   \n",
      "[debug] ffmpeg command line: ffprobe -show_streams \"file:C:\\Users\\577342\\Downloads\\The Entire Cosmos in the Parable of the Sower-wIkGYXdSFNM.webm\"\n",
      "[ffmpeg] Destination: C:\\Users\\577342\\Downloads\\The Entire Cosmos in the Parable of the Sower-wIkGYXdSFNM.mp3\n",
      "[debug] ffmpeg command line: ffmpeg -y -loglevel \"repeat+info\" -i \"file:C:\\Users\\577342\\Downloads\\The Entire Cosmos in the Parable of the Sower-wIkGYXdSFNM.webm\" -vn -acodec libmp3lame \"-b:a\" 192k \"file:C:\\Users\\577342\\Downloads\\The Entire Cosmos in the Parable of the Sower-wIkGYXdSFNM.mp3\"\n",
      "Deleting original file C:\\Users\\577342\\Downloads\\The Entire Cosmos in the Parable of the Sower-wIkGYXdSFNM.webm (pass -k to keep)\n",
      "[youtube] 62Q1NL4k8cI: Downloading webpage\n",
      "[youtube] 62Q1NL4k8cI: Downloading video info webpage\n",
      "[debug] Invoking downloader on 'https://r1---sn-p5qlsnd6.googlevideo.com/videoplayback?expire=1581790621&ei=PeFHXvzaMZiYir4Pss6Q2Ao&ip=2600%3A6c64%3A657f%3Af499%3A0%3Aab34%3A2e17%3A2a78&id=o-ABOVNfNQ0IBxabt71uCHVPdNbI3basxMMBcmcyUKNLx6&itag=251&source=youtube&requiressl=yes&mm=31%2C29&mn=sn-p5qlsnd6%2Csn-p5qs7nek&ms=au%2Crdu&mv=m&mvi=0&pl=32&initcwndbps=2290000&vprv=1&mime=audio%2Fwebm&gir=yes&clen=6304879&dur=423.561&lmt=1581442262645683&mt=1581768930&fvip=6&keepalive=yes&fexp=23842630%2C23878762&c=WEB&txp=5531432&sparams=expire%2Cei%2Cip%2Cid%2Citag%2Csource%2Crequiressl%2Cvprv%2Cmime%2Cgir%2Cclen%2Cdur%2Clmt&sig=ALgxI2wwRQIhALdgGqCqD3-qhrR4o7WQQUuSs74d-rtfR9phoBZX10soAiAP8X94RQSkC6tORoOrLfML5BUIaKVHlwgIeDy9hVrPxg%3D%3D&lsparams=mm%2Cmn%2Cms%2Cmv%2Cmvi%2Cpl%2Cinitcwndbps&lsig=AHylml4wRQIhAIq5F7l3-Pohs-QdmKGlB2bpHhBHR80EawzXIMK8Xx6vAiAG4r9EwPEWxjMO0u1IU5VSWdCohKrhbhSpmlJc4nPaJg%3D%3D&ratebypass=yes'\n",
      "[download] Destination: C:\\Users\\577342\\Downloads\\OpenAI Performs Surgery On A Neural Network to Play DOTA 2-62Q1NL4k8cI.webm\n",
      "[download] 100% of 6.01MiB in 00:03                   \n",
      "[debug] ffmpeg command line: ffprobe -show_streams \"file:C:\\Users\\577342\\Downloads\\OpenAI Performs Surgery On A Neural Network to Play DOTA 2-62Q1NL4k8cI.webm\"\n",
      "[ffmpeg] Destination: C:\\Users\\577342\\Downloads\\OpenAI Performs Surgery On A Neural Network to Play DOTA 2-62Q1NL4k8cI.mp3\n",
      "[debug] ffmpeg command line: ffmpeg -y -loglevel \"repeat+info\" -i \"file:C:\\Users\\577342\\Downloads\\OpenAI Performs Surgery On A Neural Network to Play DOTA 2-62Q1NL4k8cI.webm\" -vn -acodec libmp3lame \"-b:a\" 192k \"file:C:\\Users\\577342\\Downloads\\OpenAI Performs Surgery On A Neural Network to Play DOTA 2-62Q1NL4k8cI.mp3\"\n",
      "Deleting original file C:\\Users\\577342\\Downloads\\OpenAI Performs Surgery On A Neural Network to Play DOTA 2-62Q1NL4k8cI.webm (pass -k to keep)\n",
      "[youtube] KDX8zNR22yM: Downloading webpage\n",
      "[youtube] KDX8zNR22yM: Downloading video info webpage\n",
      "[debug] Invoking downloader on 'https://r4---sn-p5qlsndd.googlevideo.com/videoplayback?expire=1581790672&ei=cOFHXpOvF8zLigSG5KeQCg&ip=2600%3A6c64%3A657f%3Af499%3A0%3Aab34%3A2e17%3A2a78&id=o-AGwusqK6hpfeYPGJvASTsKBDQVg9BaelYLWFGA4SeB-o&itag=251&source=youtube&requiressl=yes&mm=31%2C29&mn=sn-p5qlsndd%2Csn-p5qs7ned&ms=au%2Crdu&mv=m&mvi=3&pl=32&initcwndbps=2372500&vprv=1&mime=audio%2Fwebm&gir=yes&clen=1914302&dur=119.261&lmt=1581427767828084&mt=1581768988&fvip=6&keepalive=yes&fexp=23842630%2C23878762&c=WEB&txp=6301222&sparams=expire%2Cei%2Cip%2Cid%2Citag%2Csource%2Crequiressl%2Cvprv%2Cmime%2Cgir%2Cclen%2Cdur%2Clmt&sig=ALgxI2wwRQIhAJjBuKWaNDj97mgBwHDiQtg9xni8L5Me9wHZSG9gsjqkAiAWQlshn5GLXewtBA14rQnfDZ9BJVUxvLd2ZeJzCdoQEg%3D%3D&lsparams=mm%2Cmn%2Cms%2Cmv%2Cmvi%2Cpl%2Cinitcwndbps&lsig=AHylml4wRAIgEZ-VhvLdQ8imNKFRxdZVRuzB2_sDksEJp2lXKQ8BlJACIATBehtISZmOEbimsxHwmU-9nj2irzKsUyrU8LO77ezR&ratebypass=yes'\n",
      "[download] Destination: C:\\Users\\577342\\Downloads\\What is the Cognitive Continuum-KDX8zNR22yM.webm\n",
      "[download] 100% of 1.83MiB in 00:03                   \n",
      "[debug] ffmpeg command line: ffprobe -show_streams \"file:C:\\Users\\577342\\Downloads\\What is the Cognitive Continuum-KDX8zNR22yM.webm\"\n",
      "[ffmpeg] Destination: C:\\Users\\577342\\Downloads\\What is the Cognitive Continuum-KDX8zNR22yM.mp3\n",
      "[debug] ffmpeg command line: ffmpeg -y -loglevel \"repeat+info\" -i \"file:C:\\Users\\577342\\Downloads\\What is the Cognitive Continuum-KDX8zNR22yM.webm\" -vn -acodec libmp3lame \"-b:a\" 192k \"file:C:\\Users\\577342\\Downloads\\What is the Cognitive Continuum-KDX8zNR22yM.mp3\"\n",
      "Deleting original file C:\\Users\\577342\\Downloads\\What is the Cognitive Continuum-KDX8zNR22yM.webm (pass -k to keep)\n",
      "[youtube] EjVzjxihGvU: Downloading webpage\n",
      "[youtube] EjVzjxihGvU: Downloading video info webpage\n",
      "[debug] Invoking downloader on 'https://r6---sn-p5qlsnzd.googlevideo.com/videoplayback?expire=1581790686&ei=fuFHXpWRJoaLir4PsuqKoAs&ip=2600%3A6c64%3A657f%3Af499%3A0%3Aab34%3A2e17%3A2a78&id=o-AL-jjW2QqsMfS3M3Iat8zvo5lxYvWULLrLjpveGkKIWu&itag=251&source=youtube&requiressl=yes&mm=31%2C29&mn=sn-p5qlsnzd%2Csn-p5qs7n7z&ms=au%2Crdu&mv=m&mvi=5&pl=32&initcwndbps=2345000&vprv=1&mime=audio%2Fwebm&gir=yes&clen=3742636&dur=249.941&lmt=1581194902762301&mt=1581768988&fvip=6&keepalive=yes&fexp=23842630%2C23878762&c=WEB&txp=5531432&sparams=expire%2Cei%2Cip%2Cid%2Citag%2Csource%2Crequiressl%2Cvprv%2Cmime%2Cgir%2Cclen%2Cdur%2Clmt&sig=ALgxI2wwRQIhAKTl--_8jIXRWL4Ot7rm_vRClrcd5_VWoQOJLMXVfGAyAiAEob7_WUZTTQUaoixtqqPZBWk9Pw4gX1zUmskjpdwj6A%3D%3D&lsparams=mm%2Cmn%2Cms%2Cmv%2Cmvi%2Cpl%2Cinitcwndbps&lsig=AHylml4wRQIgdwcoYF1rJ2SRrUu9hxxsl5Tkh_EjcnMzw-WdudBZ3ggCIQD5U2VI1B7_-AYHgGVuC9qAEngVFFWsfm1yorO2OVS0hg%3D%3D&ratebypass=yes'\n",
      "[download] Destination: C:\\Users\\577342\\Downloads\\This Neural Network Restores Old Videos-EjVzjxihGvU.webm\n",
      "[download] 100% of 3.57MiB in 00:03                  \n",
      "[debug] ffmpeg command line: ffprobe -show_streams \"file:C:\\Users\\577342\\Downloads\\This Neural Network Restores Old Videos-EjVzjxihGvU.webm\"\n",
      "[ffmpeg] Destination: C:\\Users\\577342\\Downloads\\This Neural Network Restores Old Videos-EjVzjxihGvU.mp3\n",
      "[debug] ffmpeg command line: ffmpeg -y -loglevel \"repeat+info\" -i \"file:C:\\Users\\577342\\Downloads\\This Neural Network Restores Old Videos-EjVzjxihGvU.webm\" -vn -acodec libmp3lame \"-b:a\" 192k \"file:C:\\Users\\577342\\Downloads\\This Neural Network Restores Old Videos-EjVzjxihGvU.mp3\"\n",
      "Deleting original file C:\\Users\\577342\\Downloads\\This Neural Network Restores Old Videos-EjVzjxihGvU.webm (pass -k to keep)\n",
      "[youtube] l_N5WhH_W-o: Downloading webpage\n",
      "[youtube] l_N5WhH_W-o: Downloading video info webpage\n",
      "[debug] Invoking downloader on 'https://r2---sn-p5qlsndk.googlevideo.com/videoplayback?expire=1581790718&ei=nuFHXo2FA5GEir4P4cu1gAI&ip=2600%3A6c64%3A657f%3Af499%3A0%3Aab34%3A2e17%3A2a78&id=o-AFflYTccSu0_gvfPOM3Wrdi0KLv7xgmvDDsTmsMNgSoJ&itag=251&source=youtube&requiressl=yes&mm=31%2C29&mn=sn-p5qlsndk%2Csn-p5qs7n76&ms=au%2Crdu&mv=m&mvi=1&pl=32&initcwndbps=2372500&vprv=1&mime=audio%2Fwebm&gir=yes&clen=41037923&dur=3044.181&lmt=1580406690358177&mt=1581768988&fvip=2&keepalive=yes&fexp=23842630%2C23878762&c=WEB&txp=6301222&sparams=expire%2Cei%2Cip%2Cid%2Citag%2Csource%2Crequiressl%2Cvprv%2Cmime%2Cgir%2Cclen%2Cdur%2Clmt&sig=ALgxI2wwRAIgSYs2b7T-9EoqH1tKA8MhE3m53_ABdIDLorMPdGlPwA0CIFjY-N5kbdGFHUcn-6yA-fbrS5yPZRptoi5ztyQ4eOdM&lsparams=mm%2Cmn%2Cms%2Cmv%2Cmvi%2Cpl%2Cinitcwndbps&lsig=AHylml4wRgIhAL1plT1-2XtK1mOme-jsSknkTSlb_RgC6ONy8quXeW5SAiEA4QZ_lAO00b8WcC48yCrbEQjlyx_iuGjKos0C7OQdz64%3D&ratebypass=yes'\n",
      "[download] Destination: C:\\Users\\577342\\Downloads\\Empathy in Dialogoue - John Vervaeke & Edwin Rutsch-l_N5WhH_W-o.webm\n",
      "[download] 100% of 39.14MiB in 00:07                   \n",
      "[debug] ffmpeg command line: ffprobe -show_streams \"file:C:\\Users\\577342\\Downloads\\Empathy in Dialogoue - John Vervaeke & Edwin Rutsch-l_N5WhH_W-o.webm\"\n",
      "[ffmpeg] Destination: C:\\Users\\577342\\Downloads\\Empathy in Dialogoue - John Vervaeke & Edwin Rutsch-l_N5WhH_W-o.mp3\n",
      "[debug] ffmpeg command line: ffmpeg -y -loglevel \"repeat+info\" -i \"file:C:\\Users\\577342\\Downloads\\Empathy in Dialogoue - John Vervaeke & Edwin Rutsch-l_N5WhH_W-o.webm\" -vn -acodec libmp3lame \"-b:a\" 192k \"file:C:\\Users\\577342\\Downloads\\Empathy in Dialogoue - John Vervaeke & Edwin Rutsch-l_N5WhH_W-o.mp3\"\n",
      "Deleting original file C:\\Users\\577342\\Downloads\\Empathy in Dialogoue - John Vervaeke & Edwin Rutsch-l_N5WhH_W-o.webm (pass -k to keep)\n",
      "[youtube] DTwEFa5NW2k: Downloading webpage\n",
      "[youtube] DTwEFa5NW2k: Downloading video info webpage\n",
      "[debug] Invoking downloader on 'https://r6---sn-p5qs7ned.googlevideo.com/videoplayback?expire=1581790845&ei=HeJHXujBKIr1wQHzmbygDw&ip=2600%3A6c64%3A657f%3Af499%3A0%3Aab34%3A2e17%3A2a78&id=o-AMf_Ip9YlA06Nh4_71LqIW1I0_MPo8DSU9ZhTEXRJvEq&itag=140&source=youtube&requiressl=yes&mm=31%2C26&mn=sn-p5qs7ned%2Csn-vgqsknls&ms=au%2Conr&mv=m&mvi=5&pl=32&initcwndbps=2348750&vprv=1&mime=audio%2Fmp4&gir=yes&clen=2750470&dur=169.900&lmt=1581112298964948&mt=1581769169&fvip=3&keepalive=yes&fexp=23842630%2C23878762&c=WEB&txp=5531432&sparams=expire%2Cei%2Cip%2Cid%2Citag%2Csource%2Crequiressl%2Cvprv%2Cmime%2Cgir%2Cclen%2Cdur%2Clmt&sig=ALgxI2wwRgIhAPvnrqUGxfHkNSQbzv00W460mC6ki-SY52XD4WR2JTrBAiEAsdHmFNQ6nWIffqQd4-o2Jxrx1T8bsqS2AaGrp0W_xss%3D&lsparams=mm%2Cmn%2Cms%2Cmv%2Cmvi%2Cpl%2Cinitcwndbps&lsig=AHylml4wRAIgJb18RiQ3hdW_EkeRAMSussO5Zsz4U1Ky-pEOusoGmxwCIE25HqRw3HQbrUF8OQ-czXuk-cmWWIi-EO8kd0Qhv4t6&ratebypass=yes'\n",
      "[download] Destination: C:\\Users\\577342\\Downloads\\Peterson Family Update - February 2020-DTwEFa5NW2k.m4a\n",
      "[download] 100% of 2.62MiB in 00:03                  \n",
      "[ffmpeg] Correcting container in \"C:\\Users\\577342\\Downloads\\Peterson Family Update - February 2020-DTwEFa5NW2k.m4a\"\n",
      "[debug] ffmpeg command line: ffmpeg -y -loglevel \"repeat+info\" -i \"file:C:\\Users\\577342\\Downloads\\Peterson Family Update - February 2020-DTwEFa5NW2k.m4a\" -c copy -f mp4 \"file:C:\\Users\\577342\\Downloads\\Peterson Family Update - February 2020-DTwEFa5NW2k.temp.m4a\"\n",
      "[debug] ffmpeg command line: ffprobe -show_streams \"file:C:\\Users\\577342\\Downloads\\Peterson Family Update - February 2020-DTwEFa5NW2k.m4a\"\n",
      "[ffmpeg] Destination: C:\\Users\\577342\\Downloads\\Peterson Family Update - February 2020-DTwEFa5NW2k.mp3\n",
      "[debug] ffmpeg command line: ffmpeg -y -loglevel \"repeat+info\" -i \"file:C:\\Users\\577342\\Downloads\\Peterson Family Update - February 2020-DTwEFa5NW2k.m4a\" -vn -acodec libmp3lame \"-b:a\" 192k \"file:C:\\Users\\577342\\Downloads\\Peterson Family Update - February 2020-DTwEFa5NW2k.mp3\"\n",
      "Deleting original file C:\\Users\\577342\\Downloads\\Peterson Family Update - February 2020-DTwEFa5NW2k.m4a (pass -k to keep)\n",
      "[youtube] BsUquRO-70w: Downloading webpage\n",
      "[youtube] BsUquRO-70w: Downloading video info webpage\n",
      "[debug] Invoking downloader on 'https://r6---sn-p5qlsnzd.googlevideo.com/videoplayback?expire=1581790860&ei=LOJHXriyMIHGDYnQmqgI&ip=2600%3A6c64%3A657f%3Af499%3A0%3Aab34%3A2e17%3A2a78&id=o-AD3AYONGxmBTxb6GWVJ3L-BktVsgC4_DNWXPOab6g_Rc&itag=251&source=youtube&requiressl=yes&mm=31%2C26&mn=sn-p5qlsnzd%2Csn-vgqskn7z&ms=au%2Conr&mv=m&mvi=5&pl=32&initcwndbps=2271250&vprv=1&mime=audio%2Fwebm&gir=yes&clen=51204451&dur=3784.901&lmt=1581148579351630&mt=1581769169&fvip=6&keepalive=yes&fexp=23842630%2C23878762&c=WEB&txp=5431432&sparams=expire%2Cei%2Cip%2Cid%2Citag%2Csource%2Crequiressl%2Cvprv%2Cmime%2Cgir%2Cclen%2Cdur%2Clmt&sig=ALgxI2wwRgIhAPbeEH34p5plxhOZrfmfi0JSqlDK56fEp_KXXlXCDPwhAiEAiiQCYQzDL9AfXhd4o5MlN6X2z6YVY-shN3CevaNVJeE%3D&lsparams=mm%2Cmn%2Cms%2Cmv%2Cmvi%2Cpl%2Cinitcwndbps&lsig=AHylml4wRQIgQdzxIpgSqm8_7Uxxavjt59DMz9Mf21btUjfCkF7CuQsCIQC2z98ma2zxUg5Wmfh-OxXCWlPGw4Zyq6I2tDGrS0qXHA%3D%3D&ratebypass=yes'\n",
      "[download] Destination: C:\\Users\\577342\\Downloads\\Anderson Todd Q&A with John Vervaeke - 2020-02-07-BsUquRO-70w.webm\n",
      "[download] 100% of 48.83MiB in 00:05                  \n",
      "[debug] ffmpeg command line: ffprobe -show_streams \"file:C:\\Users\\577342\\Downloads\\Anderson Todd Q&A with John Vervaeke - 2020-02-07-BsUquRO-70w.webm\"\n",
      "[ffmpeg] Destination: C:\\Users\\577342\\Downloads\\Anderson Todd Q&A with John Vervaeke - 2020-02-07-BsUquRO-70w.mp3\n",
      "[debug] ffmpeg command line: ffmpeg -y -loglevel \"repeat+info\" -i \"file:C:\\Users\\577342\\Downloads\\Anderson Todd Q&A with John Vervaeke - 2020-02-07-BsUquRO-70w.webm\" -vn -acodec libmp3lame \"-b:a\" 192k \"file:C:\\Users\\577342\\Downloads\\Anderson Todd Q&A with John Vervaeke - 2020-02-07-BsUquRO-70w.mp3\"\n",
      "Deleting original file C:\\Users\\577342\\Downloads\\Anderson Todd Q&A with John Vervaeke - 2020-02-07-BsUquRO-70w.webm (pass -k to keep)\n",
      "[youtube] eNLlIXodu6Y: Downloading webpage\n",
      "[youtube] eNLlIXodu6Y: Downloading video info webpage\n",
      "[debug] Invoking downloader on 'https://r6---sn-p5qs7n76.googlevideo.com/videoplayback?expire=1581791125&ei=NeNHXvukB4LAiwSembeICg&ip=2600%3A6c64%3A657f%3Af499%3A0%3Aab34%3A2e17%3A2a78&id=o-AEKA5WXwQbmrBgx12yu9_fBk7TvPx7VeGrHNE0TEhYaM&itag=251&source=youtube&requiressl=yes&mm=31%2C26&mn=sn-p5qs7n76%2Csn-vgqskne6&ms=au%2Conr&mv=m&mvi=5&pl=32&initcwndbps=2263750&vprv=1&mime=audio%2Fwebm&gir=yes&clen=45359042&dur=2788.121&lmt=1581092860102561&mt=1581769469&fvip=2&keepalive=yes&fexp=23842630%2C23878762&c=WEB&txp=6301222&sparams=expire%2Cei%2Cip%2Cid%2Citag%2Csource%2Crequiressl%2Cvprv%2Cmime%2Cgir%2Cclen%2Cdur%2Clmt&sig=ALgxI2wwRgIhAN10HeUfrpk-V6gM-qB03a6fYkEqfQeLCAw9CLOMbXTOAiEAx9l6xU2iUM3Zz1Nim5Bssvn_QOGGT1Vm8ZQg3MNKw-c%3D&lsparams=mm%2Cmn%2Cms%2Cmv%2Cmvi%2Cpl%2Cinitcwndbps&lsig=AHylml4wRQIhAKS5h8fc6kMRhIRBmdcFnREPtJhYwnuBgQMmnqkADNPBAiAQqySbvUGSNhNp_sz12kkbjBtAj9aZuKhAstEcQcvTAw%3D%3D&ratebypass=yes'\n",
      "[download] Destination: C:\\Users\\577342\\Downloads\\The Cognitive Continuum-eNLlIXodu6Y.webm\n",
      "[download] 100% of 43.26MiB in 00:07                          \n",
      "[debug] ffmpeg command line: ffprobe -show_streams \"file:C:\\Users\\577342\\Downloads\\The Cognitive Continuum-eNLlIXodu6Y.webm\"\n",
      "[ffmpeg] Destination: C:\\Users\\577342\\Downloads\\The Cognitive Continuum-eNLlIXodu6Y.mp3\n",
      "[debug] ffmpeg command line: ffmpeg -y -loglevel \"repeat+info\" -i \"file:C:\\Users\\577342\\Downloads\\The Cognitive Continuum-eNLlIXodu6Y.webm\" -vn -acodec libmp3lame \"-b:a\" 192k \"file:C:\\Users\\577342\\Downloads\\The Cognitive Continuum-eNLlIXodu6Y.mp3\"\n",
      "Deleting original file C:\\Users\\577342\\Downloads\\The Cognitive Continuum-eNLlIXodu6Y.webm (pass -k to keep)\n",
      "[youtube] koE-ZQia15E: Downloading webpage\n",
      "[youtube] koE-ZQia15E: Downloading video info webpage\n",
      "[debug] Invoking downloader on 'https://r2---sn-p5qs7n76.googlevideo.com/videoplayback?expire=1581791332&ei=BORHXtraJ7aDir4Ptamn-Ac&ip=2600%3A6c64%3A657f%3Af499%3A0%3Aab34%3A2e17%3A2a78&id=o-AMRJSaDqAuWcCeFXchv9sgaR8dyFoOPoC__-SXIZhTi0&itag=140&source=youtube&requiressl=yes&mm=31%2C26&mn=sn-p5qs7n76%2Csn-vgqsknll&ms=au%2Conr&mv=m&mvi=1&pl=32&initcwndbps=2323750&vprv=1&mime=audio%2Fmp4&gir=yes&clen=50194098&dur=3101.442&lmt=1581100250384621&mt=1581769610&fvip=2&keepalive=yes&fexp=23842630%2C23878762&c=WEB&txp=5431432&sparams=expire%2Cei%2Cip%2Cid%2Citag%2Csource%2Crequiressl%2Cvprv%2Cmime%2Cgir%2Cclen%2Cdur%2Clmt&sig=ALgxI2wwRQIgKOBXgtewMvlffGzYzNd2q2UykKkw8lIgqyCbI1WvcEsCIQDOn810oGzp3RORJys7uCHK7iCaFVpQBiT8_I5Fb8puqQ%3D%3D&lsparams=mm%2Cmn%2Cms%2Cmv%2Cmvi%2Cpl%2Cinitcwndbps&lsig=AHylml4wRAIgTYKQGY9AwFZBVE7JB0g358ryWNv4vEtMNTfxr7-m154CIFBBsHCvdiGP3F-Zp5ECrNk8hf-a7a1frvZG_ZSHXT7_&ratebypass=yes'\n",
      "[download] Destination: C:\\Users\\577342\\Downloads\\Tech vs Human, Douglas Rushkoff-koE-ZQia15E.m4a\n",
      "[download] 100% of 47.87MiB in 00:07                   \n",
      "[ffmpeg] Correcting container in \"C:\\Users\\577342\\Downloads\\Tech vs Human, Douglas Rushkoff-koE-ZQia15E.m4a\"\n",
      "[debug] ffmpeg command line: ffmpeg -y -loglevel \"repeat+info\" -i \"file:C:\\Users\\577342\\Downloads\\Tech vs Human, Douglas Rushkoff-koE-ZQia15E.m4a\" -c copy -f mp4 \"file:C:\\Users\\577342\\Downloads\\Tech vs Human, Douglas Rushkoff-koE-ZQia15E.temp.m4a\"\n",
      "[debug] ffmpeg command line: ffprobe -show_streams \"file:C:\\Users\\577342\\Downloads\\Tech vs Human, Douglas Rushkoff-koE-ZQia15E.m4a\"\n",
      "[ffmpeg] Destination: C:\\Users\\577342\\Downloads\\Tech vs Human, Douglas Rushkoff-koE-ZQia15E.mp3\n",
      "[debug] ffmpeg command line: ffmpeg -y -loglevel \"repeat+info\" -i \"file:C:\\Users\\577342\\Downloads\\Tech vs Human, Douglas Rushkoff-koE-ZQia15E.m4a\" -vn -acodec libmp3lame \"-b:a\" 192k \"file:C:\\Users\\577342\\Downloads\\Tech vs Human, Douglas Rushkoff-koE-ZQia15E.mp3\"\n",
      "Deleting original file C:\\Users\\577342\\Downloads\\Tech vs Human, Douglas Rushkoff-koE-ZQia15E.m4a (pass -k to keep)\n",
      "0\n",
      "Conversion completed.\n"
     ]
    }
   ],
   "source": [
    "\n",
    "import os\n",
    "\n",
    "ydl_opts = {\n",
    "    'format': 'bestaudio/best',\n",
    "    'nocheckcertificate': False,\n",
    "    'outtmpl': os.path.join(downloads_folder, youtube_dl.DEFAULT_OUTTMPL),\n",
    "    'postprocessors': [{'key': 'FFmpegExtractAudio',\n",
    "                       'preferredcodec': 'mp3',\n",
    "                       'preferredquality': '192'}],\n",
    "    'verbose': True,\n",
    "    }\n",
    "with youtube_dl.YoutubeDL(ydl_opts) as ydl:\n",
    "    for url in youtube_url_list:\n",
    "        try:\n",
    "            # It also downloads the videos\n",
    "            res = ydl.extract_info(url,\n",
    "                                   force_generic_extractor=ydl.params.get('force_generic_extractor',\n",
    "                                                                          False))\n",
    "        except Exception as e:\n",
    "            print()\n",
    "            print('####################################################')\n",
    "            print('{}: {}'.format(url, e))\n",
    "            print('####################################################')\n",
    "            print()\n",
    "\n",
    "    print(ydl._download_retcode)\n",
    "print('Conversion completed.')"
   ]
  },
  {
   "cell_type": "code",
   "execution_count": 3,
   "metadata": {},
   "outputs": [],
   "source": [
    "\n",
    "!start %windir%\\explorer.exe \"{os.path.abspath(downloads_folder)}\""
   ]
  },
  {
   "cell_type": "code",
   "execution_count": 4,
   "metadata": {},
   "outputs": [],
   "source": [
    "\n",
    "import re\n",
    "\n",
    "files_list = os.listdir(downloads_folder)\n",
    "for file_name in files_list:\n",
    "    if file_name.endswith('.mp3'):\n",
    "        src_path = os.path.join(downloads_folder, file_name)\n",
    "        file_name = re.sub(r'-[A-Z0-9a-z-_]{11}\\.mp3', '.mp3', file_name)\n",
    "        dst_path = os.path.join(downloads_folder, file_name)\n",
    "        os.rename(src_path, dst_path)"
   ]
  },
  {
   "cell_type": "code",
   "execution_count": 5,
   "metadata": {},
   "outputs": [],
   "source": [
    "\n",
    "# ID of the \"Reading Material\" folder\n",
    "tgt_folder_id = '1syfUx6jukbW1CWIEy8xoM9veGGr5MBUh'\n",
    "rm_url = 'https://drive.google.com/drive/u/0/folders/{}'.format(tgt_folder_id)\n",
    "!\"C:\\Program Files (x86)\\Google\\Chrome\\Application\\chrome.exe\" {rm_url}"
   ]
  },
  {
   "cell_type": "markdown",
   "metadata": {},
   "source": [
    "\n",
    "Next, we authenticate with Google by running the builtin web server conveniently provided."
   ]
  },
  {
   "cell_type": "code",
   "execution_count": null,
   "metadata": {},
   "outputs": [],
   "source": [
    "\n",
    "from pydrive.auth import GoogleAuth\n",
    "\n",
    "# The URL that gets displayed here is not suitable for public consumption\n",
    "GoogleAuth.DEFAULT_SETTINGS['client_config_file'] = r'../json/client_secret.json'\n",
    "gauth = GoogleAuth()\n",
    "gauth.LocalWebserverAuth()"
   ]
  },
  {
   "cell_type": "markdown",
   "metadata": {},
   "source": [
    "\n",
    "Before you run the next cell, in the online web page of Google Drive, bring up the share dialog box of the folder you are uploading to and copy its folder id into the <code>tgt_folder_id</code> string. If you right-click on the folder and select **Share...** and then click **Get shareable link**, you will see something like:\n",
    "\n",
    "https://drive.google.com/drive/folders/1syfUx6jukbW1CWIEy8xoM9veGGr5MBUx?usp=sharing\n",
    "\n",
    "It's that **1syfUx6jukbW1CWIEy8xoM9veGGr5MBUx** that you need to copy."
   ]
  },
  {
   "cell_type": "code",
   "execution_count": null,
   "metadata": {},
   "outputs": [],
   "source": [
    "\n",
    "from pydrive.drive import GoogleDrive\n",
    "\n",
    "# Create GoogleDrive instance with authenticated GoogleAuth instance\n",
    "drive = GoogleDrive(gauth)\n",
    "\n",
    "# ID of the \"Reading Material\" folder\n",
    "tgt_folder_id = '1syfUx6jukbW1CWIEy8xoM9veGGr5MBUh'"
   ]
  },
  {
   "cell_type": "markdown",
   "metadata": {},
   "source": [
    "\n",
    "Next, we will upload all the mp3s in our download folder."
   ]
  },
  {
   "cell_type": "code",
   "execution_count": null,
   "metadata": {},
   "outputs": [],
   "source": [
    "\n",
    "import os\n",
    "\n",
    "# Upload all mp3s from the Downloads folder to Google Drive's \"Reading Material\" folder\n",
    "gfile_dict = {}\n",
    "for subdir, dirs, files in os.walk(downloads_folder):\n",
    "    for src_file in files:\n",
    "        if src_file.endswith('.mp3'):\n",
    "            src_path = os.path.join(subdir, src_file)\n",
    "            title = '-'.join(src_file.split('-')[:-1]) + '.mp3'\n",
    "            gfile_dict[src_file] = drive.CreateFile({'title':title, 'mimeType':'audio/mp3',\n",
    "                                                     'parents': [{'kind': 'drive#fileLink',\n",
    "                                                                  'id': tgt_folder_id}]})\n",
    "\n",
    "            # Read mp3 file and set it as a content of this instance\n",
    "            gfile_dict[src_file].SetContentFile(src_path)\n",
    "            \n",
    "            # Upload the file\n",
    "            try:\n",
    "                gfile_dict[src_file].Upload()\n",
    "                print('Uploaded %s (%s)' % (gfile_dict[src_file]['title'],\n",
    "                                            gfile_dict[src_file]['mimeType']))\n",
    "            except Exception as e:\n",
    "                print('Upload failed for %s (%s): %s' % (gfile_dict[src_file]['title'],\n",
    "                                                         gfile_dict[src_file]['mimeType'], e))\n",
    "print('Upload completed.')"
   ]
  },
  {
   "cell_type": "markdown",
   "metadata": {},
   "source": [
    "\n",
    "Download the mp3s to <a href='http://www.voicedream.com/support/user-manual/#file'>Voice Dream</a> before you run the trash cell (below)."
   ]
  },
  {
   "cell_type": "code",
   "execution_count": null,
   "metadata": {},
   "outputs": [],
   "source": [
    "\n",
    "import os\n",
    "\n",
    "# Trash all mp3s from Google Drive's \"Reading Material\" folder\n",
    "for src_file in gfile_dict.keys():\n",
    "\n",
    "    # Trash mp3 file\n",
    "    try:\n",
    "        gfile_dict[src_file].Trash()\n",
    "        print('Trashed %s (%s)' % (gfile_dict[src_file]['title'],\n",
    "                                   gfile_dict[src_file]['mimeType']))\n",
    "    except Exception as e:\n",
    "        print('Trash failed for %s (%s): %s' % (gfile_dict[src_file]['title'],\n",
    "                                                gfile_dict[src_file]['mimeType'], e))\n",
    "    \n",
    "print('Trashing completed.')"
   ]
  },
  {
   "cell_type": "markdown",
   "metadata": {},
   "source": [
    "\n",
    "Lastly, we run the code that will delete all the mp3s out of our downloads folder."
   ]
  },
  {
   "cell_type": "code",
   "execution_count": null,
   "metadata": {},
   "outputs": [],
   "source": [
    "\n",
    "import os\n",
    "\n",
    "# Delete all mp3s in the Downloads folder\n",
    "for src_file in gfile_dict.keys():\n",
    "    src_path = os.path.join(downloads_folder, src_file)\n",
    "\n",
    "    # Delete the file\n",
    "    try:\n",
    "        os.remove(src_path)\n",
    "        print('Deleted %s (%s)' % (src_file,\n",
    "                                   gfile_dict[src_file]['mimeType']))\n",
    "    except Exception as e:\n",
    "        print('Failed to delete %s (%s): %s' % (src_file,\n",
    "                                                gfile_dict[src_file]['mimeType'], e))\n",
    "print('Deleting completed.')"
   ]
  },
  {
   "cell_type": "markdown",
   "metadata": {},
   "source": [
    "\n",
    "If you open the downloads folder with the code below you can see that the deletion is complete."
   ]
  },
  {
   "cell_type": "code",
   "execution_count": null,
   "metadata": {},
   "outputs": [],
   "source": [
    "\n",
    "!start %windir%\\explorer.exe \"{os.path.abspath(downloads_folder)}\""
   ]
  },
  {
   "cell_type": "code",
   "execution_count": null,
   "metadata": {},
   "outputs": [],
   "source": [
    "\n",
    "from IPython.display import HTML\n",
    "\n",
    "rm_url = 'https://drive.google.com/drive/u/0/folders/{}'.format(tgt_folder_id)\n",
    "message_str = 'open up your Google Drive target folder'\n",
    "rm_link = '<a href=\"{}\" target=\"_blank\">{}</a>'.format(rm_url, message_str)\n",
    "message_str = 'If you want to, you can run the code below to {} and'.format(rm_link)\n",
    "message_str += ' check if everything got deleted.'\n",
    "HTML(message_str)"
   ]
  },
  {
   "cell_type": "code",
   "execution_count": null,
   "metadata": {},
   "outputs": [],
   "source": [
    "\n",
    "!\"C:\\Program Files (x86)\\Google\\Chrome\\Application\\chrome.exe\" {rm_url}"
   ]
  },
  {
   "cell_type": "code",
   "execution_count": null,
   "metadata": {},
   "outputs": [],
   "source": []
  }
 ],
 "metadata": {
  "anaconda-cloud": {},
  "kernelspec": {
   "display_name": "Python 3",
   "language": "python",
   "name": "python3"
  },
  "language_info": {
   "codemirror_mode": {
    "name": "ipython",
    "version": 3
   },
   "file_extension": ".py",
   "mimetype": "text/x-python",
   "name": "python",
   "nbconvert_exporter": "python",
   "pygments_lexer": "ipython3",
   "version": "3.6.8"
  }
 },
 "nbformat": 4,
 "nbformat_minor": 2
}
