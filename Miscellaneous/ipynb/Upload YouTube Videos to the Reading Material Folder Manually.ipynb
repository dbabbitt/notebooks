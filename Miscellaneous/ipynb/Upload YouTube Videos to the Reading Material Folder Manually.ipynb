{
 "cells": [
  {
   "cell_type": "markdown",
   "metadata": {},
   "source": [
    "\n",
    "## Upload YouTube Videos to the Reading Material Folder Manually"
   ]
  },
  {
   "cell_type": "markdown",
   "metadata": {},
   "source": [
    "\n",
    "In this notebook, we will take URLs of videos, convert them to mp3s, upload them to Google Drive, trash them, and delete them."
   ]
  },
  {
   "cell_type": "markdown",
   "metadata": {},
   "source": [
    "\n",
    "We will start by ensuring that all the necessary python libraries are installed."
   ]
  },
  {
   "cell_type": "code",
   "execution_count": null,
   "metadata": {},
   "outputs": [],
   "source": [
    "\n",
    "import sys\n",
    "\n",
    "print('conda update --all --yes --prefix \"{}\"'.format(sys.prefix))"
   ]
  },
  {
   "cell_type": "code",
   "execution_count": null,
   "metadata": {},
   "outputs": [],
   "source": [
    "\n",
    "!{sys.executable} -m pip install --upgrade youtube_dl"
   ]
  },
  {
   "cell_type": "code",
   "execution_count": null,
   "metadata": {},
   "outputs": [],
   "source": [
    "\n",
    "!youtube-dl --version"
   ]
  },
  {
   "cell_type": "code",
   "execution_count": null,
   "metadata": {},
   "outputs": [],
   "source": [
    "\n",
    "!{sys.executable} -m pip install --upgrade PyDrive"
   ]
  },
  {
   "cell_type": "markdown",
   "metadata": {},
   "source": [
    "\n",
    "Next, we will prove to ourselves that we have ffmpeg correctly installed."
   ]
  },
  {
   "cell_type": "code",
   "execution_count": null,
   "metadata": {},
   "outputs": [],
   "source": [
    "\n",
    "# https://github.com/adaptlearning/adapt_authoring/wiki/Installing-FFmpeg\n",
    "!ffmpeg -version"
   ]
  },
  {
   "cell_type": "markdown",
   "metadata": {},
   "source": [
    "\n",
    "Performing authentication with Google Drive requires we keep our client id and consumer secret in a json file. Keep your secrets off the internet!"
   ]
  },
  {
   "cell_type": "code",
   "execution_count": null,
   "metadata": {},
   "outputs": [],
   "source": [
    "\n",
    "!start %windir%\\explorer.exe \"C:\\Users\\dev\\Documents\\repositories\\notebooks\\Miscellaneous\\json\""
   ]
  },
  {
   "cell_type": "markdown",
   "metadata": {},
   "source": [
    "\n",
    "We also make sure line 286 of pydrive's files.py file reads <code>self.content.close()</code> before we run the trash cell."
   ]
  },
  {
   "cell_type": "code",
   "execution_count": null,
   "metadata": {},
   "outputs": [],
   "source": [
    "\n",
    "file_path = 'C:\\Users\\dev\\Anaconda3\\Lib\\site-packages\\pydrive\\files.py'\n",
    "!\"C:\\Program Files\\Notepad++\\notepad++.exe\" \"{file_path}\""
   ]
  },
  {
   "cell_type": "markdown",
   "metadata": {},
   "source": [
    "\n",
    "Before we start the download process, let's go over setting a few variables:\n",
    "\n",
    "* **The downloads folder:** This is where all the messy work will be done. All mp3 files and any intermediate files will be deleted out of this folder by the end.\n",
    "* **The URL list:** This is where we place our YouTube video URLs. It doesn't matter if you remove the <code>time_continue=</code> parameter in the URL, the mp3 will just start at zero seconds anyway.\n",
    "* **The target folder ID:** This is the folder in Google Drive where our uploads will end up."
   ]
  },
  {
   "cell_type": "code",
   "execution_count": 1,
   "metadata": {},
   "outputs": [],
   "source": [
    "\n",
    "import youtube_dl\n",
    "\n",
    "downloads_folder = r'C:\\Users\\577342\\Downloads\\\\'\n",
    "youtube_url_list = ['https://www.youtube.com/watch?v=eaG2vTAATDM',\n",
    "                    'https://www.youtube.com/watch?v=kGMI_T1YWaE',\n",
    "                    'https://www.youtube.com/watch?v=e1rai6WoOJU',\n",
    "                    'https://www.youtube.com/watch?v=jkWNBdBDyoE',\n",
    "                    'https://www.youtube.com/watch?v=_9r6QYgYZII',\n",
    "                    'https://www.youtube.com/watch?v=Fcq-pyCvsCU',\n",
    "                    'https://www.youtube.com/watch?v=_NwK_wtWqlM']"
   ]
  },
  {
   "cell_type": "markdown",
   "metadata": {},
   "source": [
    "Now we are ready to start the download process by running <code>youtube_dl</code> on our <code>youtube_url_list</code>."
   ]
  },
  {
   "cell_type": "code",
   "execution_count": null,
   "metadata": {
    "scrolled": false
   },
   "outputs": [
    {
     "name": "stderr",
     "output_type": "stream",
     "text": [
      "[debug] Encodings: locale cp1252, fs utf-8, out UTF-8, pref cp1252\n",
      "[debug] youtube-dl version 2018.12.09\n",
      "[debug] Python version 3.6.8 (CPython) - Windows-10-10.0.17763-SP0\n",
      "[debug] exe versions: ffmpeg N-90173-gfa0c9d69d3, ffprobe N-90173-gfa0c9d69d3, phantomjs 2.1.1\n",
      "[debug] Proxy map: {}\n"
     ]
    },
    {
     "name": "stdout",
     "output_type": "stream",
     "text": [
      "[youtube] eaG2vTAATDM: Downloading webpage\n",
      "[youtube] eaG2vTAATDM: Downloading video info webpage\n",
      "[debug] Invoking downloader on 'https://r2---sn-p5qs7n76.googlevideo.com/videoplayback?key=yt6&mime=audio%2Fwebm&gir=yes&source=youtube&requiressl=yes&initcwndbps=1936250&expire=1552881708&sparams=clen%2Cdur%2Cei%2Cgir%2Cid%2Cinitcwndbps%2Cip%2Cipbits%2Citag%2Ckeepalive%2Clmt%2Cmime%2Cmm%2Cmn%2Cms%2Cmv%2Cpl%2Crequiressl%2Csource%2Cexpire&signature=B02BE434F1A0235F0E1CF03A7861D6C421B178F8.D66A9FB8CF60A21A49FACF58C60F80BF0A465694&txp=5411222&mt=1552859991&itag=251&id=o-APgxeYDY44hzSDjcso3zKp74mXHO8gwzA6BVR8UjmlxR&mn=sn-p5qs7n76%2Csn-vgqsrn76&mm=31%2C26&keepalive=yes&ip=2600%3A6c64%3A657f%3Af499%3A0%3Aab34%3A2e17%3A2a78&ms=au%2Conr&ei=zMOOXMzxDIXSigSfy47QDg&pl=32&mv=m&ipbits=0&dur=1019.101&c=WEB&fvip=2&lmt=1552659592901003&clen=16288248&ratebypass=yes'\n",
      "[download] Destination: C:\\Users\\577342\\Downloads\\The Warrior Archetype - How to Deal With Rejection and Failure-eaG2vTAATDM.webm\n",
      "[download] 100% of 15.53MiB in 00:01                   \n",
      "[debug] ffmpeg command line: ffprobe -show_streams \"file:C:\\Users\\577342\\Downloads\\The Warrior Archetype - How to Deal With Rejection and Failure-eaG2vTAATDM.webm\"\n",
      "[ffmpeg] Destination: C:\\Users\\577342\\Downloads\\The Warrior Archetype - How to Deal With Rejection and Failure-eaG2vTAATDM.mp3\n",
      "[debug] ffmpeg command line: ffmpeg -y -i \"file:C:\\Users\\577342\\Downloads\\The Warrior Archetype - How to Deal With Rejection and Failure-eaG2vTAATDM.webm\" -vn -acodec libmp3lame \"-b:a\" 192k \"file:C:\\Users\\577342\\Downloads\\The Warrior Archetype - How to Deal With Rejection and Failure-eaG2vTAATDM.mp3\"\n",
      "Deleting original file C:\\Users\\577342\\Downloads\\The Warrior Archetype - How to Deal With Rejection and Failure-eaG2vTAATDM.webm (pass -k to keep)\n",
      "[youtube] kGMI_T1YWaE: Downloading webpage\n",
      "[youtube] kGMI_T1YWaE: Downloading video info webpage\n",
      "[debug] Invoking downloader on 'https://r6---sn-p5qlsnsy.googlevideo.com/videoplayback?pl=32&dur=4028.127&expire=1552881914&gir=yes&mime=audio%2Fmp4&c=WEB&lmt=1552676930736947&fvip=1&initcwndbps=1773750&ei=msSOXNKpHMTRwQHV7KeYBQ&id=o-APlsvtXIKWexTQIHc0oMBeLLviO1jg4WNi3ZhEUF8OeL&sparams=clen%2Cdur%2Cei%2Cgir%2Cid%2Cinitcwndbps%2Cip%2Cipbits%2Citag%2Ckeepalive%2Clmt%2Cmime%2Cmm%2Cmn%2Cms%2Cmv%2Cpl%2Crequiressl%2Csource%2Cexpire&ip=2600%3A6c64%3A657f%3Af499%3A0%3Aab34%3A2e17%3A2a78&source=youtube&keepalive=yes&mt=1552860232&mv=m&ms=au%2Conr&mm=31%2C26&txp=5531432&mn=sn-p5qlsnsy%2Csn-vgqsknek&key=yt6&clen=65191509&requiressl=yes&itag=140&signature=2E3B24D5ADD630A212EE4A4A95A820F79F9ABA88.32FEA70F490C15FCCB8DC18759AA9D5F9D0B5B43&ipbits=0&ratebypass=yes'\n",
      "[download] Destination: C:\\Users\\577342\\Downloads\\The story of Rebel Wisdom - Emerge podcast-kGMI_T1YWaE.m4a\n",
      "[download] 100% of 62.17MiB in 00:06                  \n",
      "[ffmpeg] Correcting container in \"C:\\Users\\577342\\Downloads\\The story of Rebel Wisdom - Emerge podcast-kGMI_T1YWaE.m4a\"\n",
      "[debug] ffmpeg command line: ffmpeg -y -i \"file:C:\\Users\\577342\\Downloads\\The story of Rebel Wisdom - Emerge podcast-kGMI_T1YWaE.m4a\" -c copy -f mp4 \"file:C:\\Users\\577342\\Downloads\\The story of Rebel Wisdom - Emerge podcast-kGMI_T1YWaE.temp.m4a\"\n",
      "[debug] ffmpeg command line: ffprobe -show_streams \"file:C:\\Users\\577342\\Downloads\\The story of Rebel Wisdom - Emerge podcast-kGMI_T1YWaE.m4a\"\n",
      "[ffmpeg] Destination: C:\\Users\\577342\\Downloads\\The story of Rebel Wisdom - Emerge podcast-kGMI_T1YWaE.mp3\n",
      "[debug] ffmpeg command line: ffmpeg -y -i \"file:C:\\Users\\577342\\Downloads\\The story of Rebel Wisdom - Emerge podcast-kGMI_T1YWaE.m4a\" -vn -acodec libmp3lame \"-b:a\" 192k \"file:C:\\Users\\577342\\Downloads\\The story of Rebel Wisdom - Emerge podcast-kGMI_T1YWaE.mp3\"\n",
      "Deleting original file C:\\Users\\577342\\Downloads\\The story of Rebel Wisdom - Emerge podcast-kGMI_T1YWaE.m4a (pass -k to keep)\n",
      "[youtube] e1rai6WoOJU: Downloading webpage\n",
      "[youtube] e1rai6WoOJU: Downloading video info webpage\n",
      "[debug] Invoking downloader on 'https://r5---sn-p5qlsnd6.googlevideo.com/videoplayback?initcwndbps=1808750&pl=32&dur=380.021&source=youtube&gcr=us&requiressl=yes&gir=yes&id=o-ABI6vkemXww7A9g3vSM1moOT2OlVVSJl5Ol7hcWN6g8U&keepalive=yes&clen=6750093&ip=2600%3A6c64%3A657f%3Af499%3A0%3Aab34%3A2e17%3A2a78&ei=u8aOXNr_GIaZiwTa7rjgCA&sparams=clen%2Cdur%2Cei%2Cgcr%2Cgir%2Cid%2Cinitcwndbps%2Cip%2Cipbits%2Citag%2Ckeepalive%2Clmt%2Cmime%2Cmm%2Cmn%2Cms%2Cmv%2Cpl%2Crequiressl%2Csource%2Cexpire&signature=5CEC07939409D8CB0F962512351FBB790AE24F60.9A0FF651441272D58DCEF7DD626DBDB33F468235&ms=au%2Crdu&mt=1552860744&txp=5511222&mv=m&mm=31%2C29&mn=sn-p5qlsnd6%2Csn-p5qs7nek&c=WEB&fvip=5&mime=audio%2Fwebm&key=yt6&expire=1552882459&lmt=1552606860492806&ipbits=0&itag=251&ratebypass=yes'\n",
      "[download] Destination: C:\\Users\\577342\\Downloads\\The Divine Council-e1rai6WoOJU.webm\n",
      "[download] 100% of 6.44MiB in 00:00                  \n",
      "[debug] ffmpeg command line: ffprobe -show_streams \"file:C:\\Users\\577342\\Downloads\\The Divine Council-e1rai6WoOJU.webm\"\n",
      "[ffmpeg] Destination: C:\\Users\\577342\\Downloads\\The Divine Council-e1rai6WoOJU.mp3\n",
      "[debug] ffmpeg command line: ffmpeg -y -i \"file:C:\\Users\\577342\\Downloads\\The Divine Council-e1rai6WoOJU.webm\" -vn -acodec libmp3lame \"-b:a\" 192k \"file:C:\\Users\\577342\\Downloads\\The Divine Council-e1rai6WoOJU.mp3\"\n",
      "Deleting original file C:\\Users\\577342\\Downloads\\The Divine Council-e1rai6WoOJU.webm (pass -k to keep)\n",
      "[youtube] jkWNBdBDyoE: Downloading webpage\n",
      "[youtube] jkWNBdBDyoE: Downloading video info webpage\n",
      "[debug] Invoking downloader on 'https://r5---sn-p5qs7nek.googlevideo.com/videoplayback?ip=2600%3A6c64%3A657f%3Af499%3A0%3Aab34%3A2e17%3A2a78&key=yt6&mt=1552860829&mv=m&ms=au%2Crdu&mm=31%2C29&mn=sn-p5qs7nek%2Csn-p5qlsnsr&id=o-AI5jx3xDrJxKjYmDXvUAHNd8ccDFWRks4VnJLB6Bopsj&signature=AA455EEE681511EFAF82C80B57EF64090F937D3D.ADA031363FEB989BC9FE1062D0267BEAE068EC30&clen=47811709&ipbits=0&initcwndbps=1911250&gir=yes&dur=3339.621&itag=251&pl=32&source=youtube&keepalive=yes&c=WEB&expire=1552882539&mime=audio%2Fwebm&lmt=1552777182528958&sparams=clen%2Cdur%2Cei%2Cgir%2Cid%2Cinitcwndbps%2Cip%2Cipbits%2Citag%2Ckeepalive%2Clmt%2Cmime%2Cmm%2Cmn%2Cms%2Cmv%2Cpl%2Crequiressl%2Csource%2Cexpire&ei=C8eOXLvoDL6Pir4PzqmgmAo&fvip=6&requiressl=yes&txp=5511222&ratebypass=yes'\n",
      "[download] Destination: C:\\Users\\577342\\Downloads\\Ep. 9 - Awakening from the Meaning Crisis - Insight-jkWNBdBDyoE.webm\n",
      "[download] 100% of 45.60MiB in 00:04                  \n",
      "[debug] ffmpeg command line: ffprobe -show_streams \"file:C:\\Users\\577342\\Downloads\\Ep. 9 - Awakening from the Meaning Crisis - Insight-jkWNBdBDyoE.webm\"\n",
      "[ffmpeg] Destination: C:\\Users\\577342\\Downloads\\Ep. 9 - Awakening from the Meaning Crisis - Insight-jkWNBdBDyoE.mp3\n",
      "[debug] ffmpeg command line: ffmpeg -y -i \"file:C:\\Users\\577342\\Downloads\\Ep. 9 - Awakening from the Meaning Crisis - Insight-jkWNBdBDyoE.webm\" -vn -acodec libmp3lame \"-b:a\" 192k \"file:C:\\Users\\577342\\Downloads\\Ep. 9 - Awakening from the Meaning Crisis - Insight-jkWNBdBDyoE.mp3\"\n",
      "Deleting original file C:\\Users\\577342\\Downloads\\Ep. 9 - Awakening from the Meaning Crisis - Insight-jkWNBdBDyoE.webm (pass -k to keep)\n",
      "[youtube] _9r6QYgYZII: Downloading webpage\n",
      "[youtube] _9r6QYgYZII: Downloading video info webpage\n"
     ]
    },
    {
     "name": "stderr",
     "output_type": "stream",
     "text": [
      "WARNING: unable to extract html5 player; please report this issue on https://yt-dl.org/bug . Make sure you are using the latest version; see  https://yt-dl.org/update  on how to update. Be sure to call youtube-dl with the --verbose flag and include its complete output.\n"
     ]
    },
    {
     "name": "stdout",
     "output_type": "stream",
     "text": [
      "[youtube] {22} signature length 40.43, html5 player None\n",
      "[youtube] _9r6QYgYZII: Downloading player https://www.youtube.com/yts/jsbin/player_ias-vflhRp6T6/en_US/base.js\n"
     ]
    },
    {
     "name": "stderr",
     "output_type": "stream",
     "text": [
      "ERROR: Signature extraction failed: Traceback (most recent call last):\n",
      "  File \"C:\\Users\\dev\\Anaconda3\\lib\\site-packages\\youtube_dl\\extractor\\youtube.py\", line 1225, in _decrypt_signature\n",
      "    video_id, player_url, s\n",
      "  File \"C:\\Users\\dev\\Anaconda3\\lib\\site-packages\\youtube_dl\\extractor\\youtube.py\", line 1133, in _extract_signature_function\n",
      "    res = self._parse_sig_js(code)\n",
      "  File \"C:\\Users\\dev\\Anaconda3\\lib\\site-packages\\youtube_dl\\extractor\\youtube.py\", line 1200, in _parse_sig_js\n",
      "    initial_function = jsi.extract_function(funcname)\n",
      "  File \"C:\\Users\\dev\\Anaconda3\\lib\\site-packages\\youtube_dl\\jsinterp.py\", line 245, in extract_function\n",
      "    raise ExtractorError('Could not find JS function %r' % funcname)\n",
      "youtube_dl.utils.ExtractorError: Could not find JS function 'encodeURIComponent'; please report this issue on https://yt-dl.org/bug . Make sure you are using the latest version; see  https://yt-dl.org/update  on how to update. Be sure to call youtube-dl with the --verbose flag and include its complete output.\n",
      " (caused by ExtractorError(\"Could not find JS function 'encodeURIComponent'; please report this issue on https://yt-dl.org/bug . Make sure you are using the latest version; see  https://yt-dl.org/update  on how to update. Be sure to call youtube-dl with the --verbose flag and include its complete output.\",)); please report this issue on https://yt-dl.org/bug . Make sure you are using the latest version; see  https://yt-dl.org/update  on how to update. Be sure to call youtube-dl with the --verbose flag and include its complete output.\n",
      "Traceback (most recent call last):\n",
      "  File \"C:\\Users\\dev\\Anaconda3\\lib\\site-packages\\youtube_dl\\extractor\\youtube.py\", line 1225, in _decrypt_signature\n",
      "    video_id, player_url, s\n",
      "  File \"C:\\Users\\dev\\Anaconda3\\lib\\site-packages\\youtube_dl\\extractor\\youtube.py\", line 1133, in _extract_signature_function\n",
      "    res = self._parse_sig_js(code)\n",
      "  File \"C:\\Users\\dev\\Anaconda3\\lib\\site-packages\\youtube_dl\\extractor\\youtube.py\", line 1200, in _parse_sig_js\n",
      "    initial_function = jsi.extract_function(funcname)\n",
      "  File \"C:\\Users\\dev\\Anaconda3\\lib\\site-packages\\youtube_dl\\jsinterp.py\", line 245, in extract_function\n",
      "    raise ExtractorError('Could not find JS function %r' % funcname)\n",
      "youtube_dl.utils.ExtractorError: Could not find JS function 'encodeURIComponent'; please report this issue on https://yt-dl.org/bug . Make sure you are using the latest version; see  https://yt-dl.org/update  on how to update. Be sure to call youtube-dl with the --verbose flag and include its complete output.\n",
      "Traceback (most recent call last):\n",
      "  File \"C:\\Users\\dev\\Anaconda3\\lib\\site-packages\\youtube_dl\\extractor\\youtube.py\", line 1225, in _decrypt_signature\n",
      "    video_id, player_url, s\n",
      "  File \"C:\\Users\\dev\\Anaconda3\\lib\\site-packages\\youtube_dl\\extractor\\youtube.py\", line 1133, in _extract_signature_function\n",
      "    res = self._parse_sig_js(code)\n",
      "  File \"C:\\Users\\dev\\Anaconda3\\lib\\site-packages\\youtube_dl\\extractor\\youtube.py\", line 1200, in _parse_sig_js\n",
      "    initial_function = jsi.extract_function(funcname)\n",
      "  File \"C:\\Users\\dev\\Anaconda3\\lib\\site-packages\\youtube_dl\\jsinterp.py\", line 245, in extract_function\n",
      "    raise ExtractorError('Could not find JS function %r' % funcname)\n",
      "youtube_dl.utils.ExtractorError: Could not find JS function 'encodeURIComponent'; please report this issue on https://yt-dl.org/bug . Make sure you are using the latest version; see  https://yt-dl.org/update  on how to update. Be sure to call youtube-dl with the --verbose flag and include its complete output.\n",
      "\n",
      "During handling of the above exception, another exception occurred:\n",
      "\n",
      "Traceback (most recent call last):\n",
      "  File \"C:\\Users\\dev\\Anaconda3\\lib\\site-packages\\youtube_dl\\YoutubeDL.py\", line 793, in extract_info\n",
      "    ie_result = ie.extract(url)\n",
      "  File \"C:\\Users\\dev\\Anaconda3\\lib\\site-packages\\youtube_dl\\extractor\\common.py\", line 508, in extract\n",
      "    ie_result = self._real_extract(url)\n",
      "  File \"C:\\Users\\dev\\Anaconda3\\lib\\site-packages\\youtube_dl\\extractor\\youtube.py\", line 1837, in _real_extract\n",
      "    encrypted_sig, video_id, player_url, age_gate)\n",
      "  File \"C:\\Users\\dev\\Anaconda3\\lib\\site-packages\\youtube_dl\\extractor\\youtube.py\", line 1235, in _decrypt_signature\n",
      "    'Signature extraction failed: ' + tb, cause=e)\n",
      "youtube_dl.utils.ExtractorError: Signature extraction failed: Traceback (most recent call last):\n",
      "  File \"C:\\Users\\dev\\Anaconda3\\lib\\site-packages\\youtube_dl\\extractor\\youtube.py\", line 1225, in _decrypt_signature\n",
      "    video_id, player_url, s\n",
      "  File \"C:\\Users\\dev\\Anaconda3\\lib\\site-packages\\youtube_dl\\extractor\\youtube.py\", line 1133, in _extract_signature_function\n",
      "    res = self._parse_sig_js(code)\n",
      "  File \"C:\\Users\\dev\\Anaconda3\\lib\\site-packages\\youtube_dl\\extractor\\youtube.py\", line 1200, in _parse_sig_js\n",
      "    initial_function = jsi.extract_function(funcname)\n",
      "  File \"C:\\Users\\dev\\Anaconda3\\lib\\site-packages\\youtube_dl\\jsinterp.py\", line 245, in extract_function\n",
      "    raise ExtractorError('Could not find JS function %r' % funcname)\n",
      "youtube_dl.utils.ExtractorError: Could not find JS function 'encodeURIComponent'; please report this issue on https://yt-dl.org/bug . Make sure you are using the latest version; see  https://yt-dl.org/update  on how to update. Be sure to call youtube-dl with the --verbose flag and include its complete output.\n",
      " (caused by ExtractorError(\"Could not find JS function 'encodeURIComponent'; please report this issue on https://yt-dl.org/bug . Make sure you are using the latest version; see  https://yt-dl.org/update  on how to update. Be sure to call youtube-dl with the --verbose flag and include its complete output.\",)); please report this issue on https://yt-dl.org/bug . Make sure you are using the latest version; see  https://yt-dl.org/update  on how to update. Be sure to call youtube-dl with the --verbose flag and include its complete output.\n",
      "\n"
     ]
    },
    {
     "name": "stdout",
     "output_type": "stream",
     "text": [
      "ERROR: Signature extraction failed: Traceback (most recent call last):\n",
      "  File \"C:\\Users\\dev\\Anaconda3\\lib\\site-packages\\youtube_dl\\extractor\\youtube.py\", line 1225, in _decrypt_signature\n",
      "    video_id, player_url, s\n",
      "  File \"C:\\Users\\dev\\Anaconda3\\lib\\site-packages\\youtube_dl\\extractor\\youtube.py\", line 1133, in _extract_signature_function\n",
      "    res = self._parse_sig_js(code)\n",
      "  File \"C:\\Users\\dev\\Anaconda3\\lib\\site-packages\\youtube_dl\\extractor\\youtube.py\", line 1200, in _parse_sig_js\n",
      "    initial_function = jsi.extract_function(funcname)\n",
      "  File \"C:\\Users\\dev\\Anaconda3\\lib\\site-packages\\youtube_dl\\jsinterp.py\", line 245, in extract_function\n",
      "    raise ExtractorError('Could not find JS function %r' % funcname)\n",
      "youtube_dl.utils.ExtractorError: Could not find JS function 'encodeURIComponent'; please report this issue on https://yt-dl.org/bug . Make sure you are using the latest version; see  https://yt-dl.org/update  on how to update. Be sure to call youtube-dl with the --verbose flag and include its complete output.\n",
      " (caused by ExtractorError(\"Could not find JS function 'encodeURIComponent'; please report this issue on https://yt-dl.org/bug . Make sure you are using the latest version; see  https://yt-dl.org/update  on how to update. Be sure to call youtube-dl with the --verbose flag and include its complete output.\",)); please report this issue on https://yt-dl.org/bug . Make sure you are using the latest version; see  https://yt-dl.org/update  on how to update. Be sure to call youtube-dl with the --verbose flag and include its complete output.\n",
      "Conversion completed.\n"
     ]
    }
   ],
   "source": [
    "ydl_opts = {\n",
    "    'format': 'bestaudio/best',\n",
    "    'nocheckcertificate': False,\n",
    "    'outtmpl': downloads_folder+youtube_dl.DEFAULT_OUTTMPL,\n",
    "    'postprocessors': [{'key': 'FFmpegExtractAudio',\n",
    "                       'preferredcodec': 'mp3',\n",
    "                       'preferredquality': '192'}],\n",
    "    'verbose': True,\n",
    "    }\n",
    "with youtube_dl.YoutubeDL(ydl_opts) as ydl:\n",
    "    try:\n",
    "        result = ydl.download(youtube_url_list)\n",
    "    except Exception as e:\n",
    "        print(e)\n",
    "print('Conversion completed.')"
   ]
  },
  {
   "cell_type": "markdown",
   "metadata": {},
   "source": [
    "\n",
    "Next, we authenticate with Google by running the builtin web server conventiently provided."
   ]
  },
  {
   "cell_type": "code",
   "execution_count": null,
   "metadata": {},
   "outputs": [
    {
     "name": "stdout",
     "output_type": "stream",
     "text": [
      "Your browser has been opened to visit:\n",
      "\n",
      "    https://accounts.google.com/o/oauth2/auth?client_id=756414784841-0nkbgkrice8gae3nc4ojafoukr8kb38e.apps.googleusercontent.com&redirect_uri=http%3A%2F%2Flocalhost%3A8080%2F&scope=https%3A%2F%2Fwww.googleapis.com%2Fauth%2Fdrive&access_type=offline&response_type=code\n",
      "\n"
     ]
    }
   ],
   "source": [
    "\n",
    "from pydrive.auth import GoogleAuth\n",
    "\n",
    "# The URL that gets displayed here is not suitable for public consumption\n",
    "GoogleAuth.DEFAULT_SETTINGS['client_config_file'] = r'../json/client_secrets.json'\n",
    "gauth = GoogleAuth()\n",
    "gauth.LocalWebserverAuth()"
   ]
  },
  {
   "cell_type": "markdown",
   "metadata": {},
   "source": [
    "\n",
    "Before you run the next cell, in the online web page of Google Drive, bring up the share dialog box of the folder you are uploading to and copy its folder id into the <code>tgt_folder_id</code> string. If you right-click on the folder and select **Share...** and then click **Get shareable link**, you will see something like:\n",
    "\n",
    "https://drive.google.com/drive/folders/1syfUx6jukbW1CWIEy8xoM9veGGr5MBUx?usp=sharing\n",
    "\n",
    "It's that **1syfUx6jukbW1CWIEy8xoM9veGGr5MBUx** that you need to copy."
   ]
  },
  {
   "cell_type": "code",
   "execution_count": null,
   "metadata": {},
   "outputs": [],
   "source": [
    "\n",
    "from pydrive.drive import GoogleDrive\n",
    "\n",
    "# Create GoogleDrive instance with authenticated GoogleAuth instance\n",
    "drive = GoogleDrive(gauth)\n",
    "\n",
    "# ID of the \"Reading Material\" folder\n",
    "tgt_folder_id = '1syfUx6jukbW1CWIEy8xoM9veGGr5MBUh'"
   ]
  },
  {
   "cell_type": "markdown",
   "metadata": {},
   "source": [
    "\n",
    "Next, we will upload all the mp3s in our download folder."
   ]
  },
  {
   "cell_type": "code",
   "execution_count": null,
   "metadata": {},
   "outputs": [],
   "source": [
    "\n",
    "import os\n",
    "\n",
    "# Upload all mp3s from the Downloads folder to Google Drive's \"Reading Material\" folder\n",
    "gfile_dict = {}\n",
    "for subdir, dirs, files in os.walk(downloads_folder):\n",
    "    for src_file in files:\n",
    "        if src_file.endswith('.mp3'):\n",
    "            src_path = os.path.join(subdir, src_file)\n",
    "            gfile_dict[src_file] = drive.CreateFile({'title':src_file, 'mimeType':'audio/mp3',\n",
    "                                                     'parents': [{'kind': 'drive#fileLink',\n",
    "                                                                  'id': tgt_folder_id}]})\n",
    "\n",
    "            # Read mp3 file and set it as a content of this instance\n",
    "            gfile_dict[src_file].SetContentFile(src_path)\n",
    "            \n",
    "            # Upload the file\n",
    "            try:\n",
    "                gfile_dict[src_file].Upload()\n",
    "                print('Uploaded %s (%s)' % (gfile_dict[src_file]['title'],\n",
    "                                            gfile_dict[src_file]['mimeType']))\n",
    "            except Exception as e:\n",
    "                print('Upload failed for %s (%s): %s' % (gfile_dict[src_file]['title'],\n",
    "                                                         gfile_dict[src_file]['mimeType'], e))\n",
    "print('Upload completed.')"
   ]
  },
  {
   "cell_type": "markdown",
   "metadata": {},
   "source": [
    "\n",
    "Download the mp3s to <a href='http://www.voicedream.com/support/user-manual/#file'>Voice Dream</a> before you run the trash cell (below)."
   ]
  },
  {
   "cell_type": "code",
   "execution_count": null,
   "metadata": {},
   "outputs": [],
   "source": [
    "\n",
    "import os\n",
    "\n",
    "# Trash all mp3s from Google Drive's \"Reading Material\" folder\n",
    "for src_file in gfile_dict.keys():\n",
    "\n",
    "    # Trash mp3 file\n",
    "    try:\n",
    "        gfile_dict[src_file].Trash()\n",
    "        print('Trashed %s (%s)' % (gfile_dict[src_file]['title'],\n",
    "                                   gfile_dict[src_file]['mimeType']))\n",
    "    except Exception as e:\n",
    "        print('Trash failed for %s (%s): %s' % (gfile_dict[src_file]['title'],\n",
    "                                                gfile_dict[src_file]['mimeType'], e))\n",
    "    \n",
    "print('Trashing completed.')"
   ]
  },
  {
   "cell_type": "markdown",
   "metadata": {},
   "source": [
    "\n",
    "Lastly, we run the code that will delete all the mp3s out of our downloads folder."
   ]
  },
  {
   "cell_type": "code",
   "execution_count": null,
   "metadata": {},
   "outputs": [],
   "source": [
    "\n",
    "import os\n",
    "\n",
    "# Delete all mp3s in the Downloads folder\n",
    "for src_file in gfile_dict.keys():\n",
    "    src_path = os.path.join(downloads_folder, src_file)\n",
    "\n",
    "    # Delete the file\n",
    "    try:\n",
    "        os.remove(src_path)\n",
    "        print('Deleted %s (%s)' % (src_file,\n",
    "                                   gfile_dict[src_file]['mimeType']))\n",
    "    except Exception as e:\n",
    "        print('Failed to delete %s (%s): %s' % (src_file,\n",
    "                                                gfile_dict[src_file]['mimeType'], e))\n",
    "print('Deleting completed.')"
   ]
  },
  {
   "cell_type": "code",
   "execution_count": null,
   "metadata": {},
   "outputs": [],
   "source": [
    "\n",
    "from IPython.display import HTML\n",
    "\n",
    "rm_url = 'https://drive.google.com/drive/u/0/folders/{}'.format(tgt_folder_id)\n",
    "message_str = 'open up your Google Drive target folder'\n",
    "rm_link = '<a href=\"{}\" target=\"_blank\">{}</a>'.format(rm_url, message_str)\n",
    "message_str = 'If you want to you can open up your Google Drive target folder and'\n",
    "message_str += 'check if everything got deleted.'"
   ]
  },
  {
   "cell_type": "code",
   "execution_count": null,
   "metadata": {},
   "outputs": [],
   "source": [
    "\n",
    "!\"C:\\Program Files (x86)\\Google\\Chrome\\Application\\chrome.exe\" {rm_url}"
   ]
  },
  {
   "cell_type": "code",
   "execution_count": null,
   "metadata": {},
   "outputs": [],
   "source": []
  }
 ],
 "metadata": {
  "anaconda-cloud": {},
  "kernelspec": {
   "display_name": "Python 3",
   "language": "python",
   "name": "python3"
  },
  "language_info": {
   "codemirror_mode": {
    "name": "ipython",
    "version": 3
   },
   "file_extension": ".py",
   "mimetype": "text/x-python",
   "name": "python",
   "nbconvert_exporter": "python",
   "pygments_lexer": "ipython3",
   "version": "3.6.8"
  }
 },
 "nbformat": 4,
 "nbformat_minor": 2
}
