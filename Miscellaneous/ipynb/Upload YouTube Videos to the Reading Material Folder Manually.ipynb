{
 "cells": [
  {
   "cell_type": "markdown",
   "metadata": {},
   "source": [
    "\n",
    "## Upload YouTube Videos to the Reading Material Folder Manually"
   ]
  },
  {
   "cell_type": "markdown",
   "metadata": {},
   "source": [
    "\n",
    "In this notebook, we will take URLs of videos, convert them to mp3s, upload them to Google Drive, trash them, and delete them."
   ]
  },
  {
   "cell_type": "markdown",
   "metadata": {},
   "source": [
    "\n",
    "We will start by ensuring that all the necessary python libraries are installed."
   ]
  },
  {
   "cell_type": "code",
   "execution_count": null,
   "metadata": {},
   "outputs": [],
   "source": [
    "\n",
    "import sys\n",
    "\n",
    "print('conda update --all --yes --prefix \"{}\"'.format(sys.prefix))"
   ]
  },
  {
   "cell_type": "code",
   "execution_count": null,
   "metadata": {},
   "outputs": [],
   "source": [
    "\n",
    "import sys\n",
    "\n",
    "# youtube-dl-2019.8.2\n",
    "!{sys.executable} -m pip install --upgrade youtube_dl"
   ]
  },
  {
   "cell_type": "code",
   "execution_count": null,
   "metadata": {},
   "outputs": [],
   "source": [
    "\n",
    "import os\n",
    "\n",
    "# https://github.com/ytdl-org/youtube-dl/issues/20758\n",
    "# Just replaced 'token' to 'account_playback_token' in line 1674 of extractor/youtube.py\n",
    "# All seems to work.\n",
    "text_editor_path = r'C:\\Program Files\\Notepad++\\notepad++.exe'\n",
    "#text_editor_path = r'C:\\Program Files\\Sublime Text 3\\sublime_text.exe'\n",
    "for sub_dir, dirs_list, files_list in os.walk(r'{}\\Lib\\site-packages\\youtube_dl'.format(sys.prefix)):\n",
    "    for file_name in files_list:\n",
    "        if 'youtube.py' == file_name:\n",
    "            file_path = os.path.join(sub_dir, file_name)\n",
    "            print(file_path)\n",
    "!\"{text_editor_path}\" \"{file_path}\""
   ]
  },
  {
   "cell_type": "code",
   "execution_count": null,
   "metadata": {},
   "outputs": [],
   "source": [
    "\n",
    "!youtube-dl --version"
   ]
  },
  {
   "cell_type": "code",
   "execution_count": null,
   "metadata": {},
   "outputs": [],
   "source": [
    "\n",
    "!{sys.executable} -m pip install --upgrade PyDrive"
   ]
  },
  {
   "cell_type": "markdown",
   "metadata": {},
   "source": [
    "\n",
    "Next, we will prove to ourselves that we have ffmpeg correctly installed."
   ]
  },
  {
   "cell_type": "code",
   "execution_count": null,
   "metadata": {},
   "outputs": [],
   "source": [
    "\n",
    "# https://github.com/adaptlearning/adapt_authoring/wiki/Installing-FFmpeg\n",
    "!ffmpeg -version"
   ]
  },
  {
   "cell_type": "markdown",
   "metadata": {},
   "source": [
    "\n",
    "Performing authentication with Google Drive requires we keep our client id and consumer secret in a json file. Keep your secrets off the internet!"
   ]
  },
  {
   "cell_type": "code",
   "execution_count": null,
   "metadata": {},
   "outputs": [],
   "source": [
    "\n",
    "!start %windir%\\explorer.exe \"C:\\Users\\dev\\Documents\\repositories\\notebooks\\Miscellaneous\\json\""
   ]
  },
  {
   "cell_type": "markdown",
   "metadata": {},
   "source": [
    "\n",
    "We also make sure line 286 of pydrive's files.py file reads <code>self.content.close()</code> before we run the trash cell."
   ]
  },
  {
   "cell_type": "code",
   "execution_count": null,
   "metadata": {},
   "outputs": [],
   "source": [
    "\n",
    "import sys\n",
    "\n",
    "file_path = r'{}\\Lib\\site-packages\\pydrive\\files.py'.format(sys.prefix)\n",
    "!\"{text_editor_path}\" \"{file_path}\""
   ]
  },
  {
   "cell_type": "markdown",
   "metadata": {},
   "source": [
    "\n",
    "Before we start the download process, let's go over setting a few variables:\n",
    "\n",
    "* **The downloads folder:** This is where all the messy work will be done. All mp3 files and any intermediate files will be deleted out of this folder by the end.\n",
    "* **The URL list:** This is where we place our YouTube video URLs. It doesn't matter if you remove the <code>time_continue=</code> parameter in the URL, the mp3 will just start at zero seconds anyway.\n",
    "* **The target folder ID:** This is the folder in Google Drive where our uploads will end up."
   ]
  },
  {
   "cell_type": "code",
   "execution_count": null,
   "metadata": {},
   "outputs": [],
   "source": [
    "\n",
    "from bs4 import BeautifulSoup as bs\n",
    "import re\n",
    "import requests\n",
    "\n",
    "site_url = 'https://www.youtube.com/'\n",
    "youtube_css = '#items'\n",
    "site_page = requests.get(url=site_url)\n",
    "site_html = site_page.content\n",
    "site_soup = bs(site_html, 'lxml')\n",
    "site_soup.select(youtube_css)"
   ]
  },
  {
   "cell_type": "code",
   "execution_count": 1,
   "metadata": {},
   "outputs": [],
   "source": [
    "\n",
    "import youtube_dl\n",
    "\n",
    "downloads_folder = r'C:\\Users\\577342\\Downloads'\n",
    "youtube_url_list = ['https://www.youtube.com/watch?v=hYV4-m7_SK8', 'https://www.youtube.com/watch?v=jHGbA5XcjIo',\n",
    "                    'https://www.youtube.com/watch?v=s42Gt-j9ToU', 'https://www.youtube.com/watch?v=O8l4Kn-j-5M',\n",
    "                    'https://www.youtube.com/watch?v=CD3E7ZjgxqQ', 'https://www.youtube.com/watch?v=b6t2Cqam_w4',\n",
    "                    'https://www.youtube.com/watch?v=cpxtd-FKY1Y', 'https://www.youtube.com/watch?v=eXlVUZeZKVo',\n",
    "                    'https://www.youtube.com/watch?v=0J8TLRUOgJo', 'https://www.youtube.com/watch?v=13s-a5-cCPc',\n",
    "                    'https://www.youtube.com/watch?v=iu9fa4TkWE0', 'https://www.youtube.com/watch?v=Vx-PzV7jxrI',\n",
    "                    'https://www.youtube.com/watch?v=yz6qgfjGMAg', 'https://www.youtube.com/watch?v=DvVx3s10vUY',\n",
    "                    'https://www.youtube.com/watch?v=857pPYZfmPk', 'https://www.youtube.com/watch?v=vpQTqhs9xmA',\n",
    "                    'https://www.youtube.com/watch?v=9QGrffjOFko', 'https://www.youtube.com/watch?v=Wtz-bNywXBY',\n",
    "                    'https://www.youtube.com/watch?v=ouH5DQJvT1A', 'https://www.youtube.com/watch?v=L1l7zZjYRhw']"
   ]
  },
  {
   "cell_type": "markdown",
   "metadata": {},
   "source": [
    "Now we are ready to start the download process by running <code>youtube_dl</code> on our <code>youtube_url_list</code>."
   ]
  },
  {
   "cell_type": "code",
   "execution_count": 2,
   "metadata": {
    "scrolled": false
   },
   "outputs": [
    {
     "name": "stderr",
     "output_type": "stream",
     "text": [
      "[debug] Encodings: locale cp1252, fs utf-8, out UTF-8, pref cp1252\n",
      "[debug] youtube-dl version 2019.08.13\n",
      "[debug] Python version 3.6.8 (CPython) - Windows-10-10.0.18362-SP0\n",
      "[debug] exe versions: avconv v13_dev0-1440-g34c1133, avprobe v13_dev0-1440-g34c1133, ffmpeg 4.1.4, ffprobe 4.1.4, phantomjs 2.1.1\n",
      "[debug] Proxy map: {}\n"
     ]
    },
    {
     "name": "stdout",
     "output_type": "stream",
     "text": [
      "[youtube] hYV4-m7_SK8: Downloading webpage\n",
      "[youtube] hYV4-m7_SK8: Downloading video info webpage\n",
      "[debug] Invoking downloader on 'https://r1---sn-p5qs7nek.googlevideo.com/videoplayback?expire=1578452554&ei=6vEUXtG8JIG-igS-2ZfABw&ip=2600%3A6c64%3A657f%3Af499%3A0%3Aab34%3A2e17%3A2a78&id=o-AAhwBsf_bSvNet_FGJ-GM60I_bR6JPkm44hDccFQ3lIH&itag=251&source=youtube&requiressl=yes&mm=31%2C26&mn=sn-p5qs7nek%2Csn-vgqsdn7s&ms=au%2Conr&mv=m&mvi=0&pl=32&initcwndbps=2152500&mime=audio%2Fwebm&gir=yes&clen=4952075&dur=326.981&lmt=1578422553130394&mt=1578430843&fvip=1&keepalive=yes&fexp=23842630&c=WEB&txp=5531432&sparams=expire%2Cei%2Cip%2Cid%2Citag%2Csource%2Crequiressl%2Cmime%2Cgir%2Cclen%2Cdur%2Clmt&sig=ALgxI2wwRgIhANHORK2HVtaGBvqYzmEKwPVIBGlm4xxhZ9Q6BGEpUnF9AiEAzfmoc5YNW2qKTcEbC13GNaXlyLmVBf4b3Hx3Gg2olWs%3D&lsparams=mm%2Cmn%2Cms%2Cmv%2Cmvi%2Cpl%2Cinitcwndbps&lsig=AHylml4wRQIgBVonGkkxrLtbKLqolkGAbEfgr-5aqinvfE0AT9ZMyKcCIQDl2y6cRGLb1cznehmWDiVyKlfUapYo72ZRTeOz_R8KIw%3D%3D&ratebypass=yes'\n",
      "[download] Destination: C:\\Users\\577342\\Downloads\\MuZero - DeepMind’s New AI Mastered More Than 50 Games-hYV4-m7_SK8.webm\n",
      "[download] 100% of 4.72MiB in 00:03                  \n",
      "[debug] ffmpeg command line: ffprobe -show_streams \"file:C:\\Users\\577342\\Downloads\\MuZero - DeepMind’s New AI Mastered More Than 50 Games-hYV4-m7_SK8.webm\"\n",
      "[ffmpeg] Destination: C:\\Users\\577342\\Downloads\\MuZero - DeepMind’s New AI Mastered More Than 50 Games-hYV4-m7_SK8.mp3\n",
      "[debug] ffmpeg command line: ffmpeg -y -loglevel \"repeat+info\" -i \"file:C:\\Users\\577342\\Downloads\\MuZero - DeepMind’s New AI Mastered More Than 50 Games-hYV4-m7_SK8.webm\" -vn -acodec libmp3lame \"-b:a\" 192k \"file:C:\\Users\\577342\\Downloads\\MuZero - DeepMind’s New AI Mastered More Than 50 Games-hYV4-m7_SK8.mp3\"\n",
      "Deleting original file C:\\Users\\577342\\Downloads\\MuZero - DeepMind’s New AI Mastered More Than 50 Games-hYV4-m7_SK8.webm (pass -k to keep)\n",
      "[youtube] jHGbA5XcjIo: Downloading webpage\n",
      "[youtube] jHGbA5XcjIo: Downloading video info webpage\n",
      "[debug] Invoking downloader on 'https://r4---sn-p5qlsnsy.googlevideo.com/videoplayback?expire=1578452589&ei=DfIUXs6uF4jvwQGdoZmYAQ&ip=2600%3A6c64%3A657f%3Af499%3A0%3Aab34%3A2e17%3A2a78&id=o-AJhzF_N250qvFr2rD_bDUd5owVPXfVe6cAIiT650TYoh&itag=140&source=youtube&requiressl=yes&mm=31%2C26&mn=sn-p5qlsnsy%2Csn-vgqsknek&ms=au%2Conr&mv=m&mvi=3&pl=32&initcwndbps=2142500&mime=audio%2Fmp4&gir=yes&clen=26313807&dur=1625.884&lmt=1578413795677860&mt=1578430903&fvip=4&keepalive=yes&fexp=23842630&c=WEB&txp=5431432&sparams=expire%2Cei%2Cip%2Cid%2Citag%2Csource%2Crequiressl%2Cmime%2Cgir%2Cclen%2Cdur%2Clmt&sig=ALgxI2wwRQIgWXJL9REJngHumQb3EFb0L1S3ViQsTdkUFr-39dUbB-UCIQCpG3vhD3XThsyQB7UvelqvBFh-vcM32xk99Lpt-yToQg%3D%3D&lsparams=mm%2Cmn%2Cms%2Cmv%2Cmvi%2Cpl%2Cinitcwndbps&lsig=AHylml4wRgIhAN2iE7ONX6vT9uQo0rBankn9l__F4SDw_0GZIyYlXLuXAiEA4EsRmC721WTWwYecNiPBNU6z__StE_rKEc2ijnfH0CI%3D&ratebypass=yes'\n",
      "[download] Destination: C:\\Users\\577342\\Downloads\\Culture War 2.0, Peter Limberg-jHGbA5XcjIo.m4a\n",
      "[download] 100% of 25.09MiB in 00:06                   \n",
      "[ffmpeg] Correcting container in \"C:\\Users\\577342\\Downloads\\Culture War 2.0, Peter Limberg-jHGbA5XcjIo.m4a\"\n",
      "[debug] ffmpeg command line: ffmpeg -y -loglevel \"repeat+info\" -i \"file:C:\\Users\\577342\\Downloads\\Culture War 2.0, Peter Limberg-jHGbA5XcjIo.m4a\" -c copy -f mp4 \"file:C:\\Users\\577342\\Downloads\\Culture War 2.0, Peter Limberg-jHGbA5XcjIo.temp.m4a\"\n",
      "[debug] ffmpeg command line: ffprobe -show_streams \"file:C:\\Users\\577342\\Downloads\\Culture War 2.0, Peter Limberg-jHGbA5XcjIo.m4a\"\n",
      "[ffmpeg] Destination: C:\\Users\\577342\\Downloads\\Culture War 2.0, Peter Limberg-jHGbA5XcjIo.mp3\n",
      "[debug] ffmpeg command line: ffmpeg -y -loglevel \"repeat+info\" -i \"file:C:\\Users\\577342\\Downloads\\Culture War 2.0, Peter Limberg-jHGbA5XcjIo.m4a\" -vn -acodec libmp3lame \"-b:a\" 192k \"file:C:\\Users\\577342\\Downloads\\Culture War 2.0, Peter Limberg-jHGbA5XcjIo.mp3\"\n",
      "Deleting original file C:\\Users\\577342\\Downloads\\Culture War 2.0, Peter Limberg-jHGbA5XcjIo.m4a (pass -k to keep)\n",
      "[youtube] s42Gt-j9ToU: Downloading webpage\n",
      "[youtube] s42Gt-j9ToU: Downloading video info webpage\n",
      "[debug] Invoking downloader on 'https://r4---sn-p5qs7ner.googlevideo.com/videoplayback?expire=1578452671&ei=X_IUXsDKIILeigTH9K7YBw&ip=2600%3A6c64%3A657f%3Af499%3A0%3Aab34%3A2e17%3A2a78&id=o-ADrs3PgGLIimAv2FhagQe7QDqyTpa5mFwI752Q_bU3YC&itag=140&source=youtube&requiressl=yes&mm=31%2C29&mn=sn-p5qs7ner%2Csn-p5qlsns6&ms=au%2Crdu&mv=m&mvi=3&pl=32&initcwndbps=2223750&mime=audio%2Fmp4&gir=yes&clen=11013260&dur=680.460&lmt=1578243652454917&mt=1578430963&fvip=4&keepalive=yes&fexp=23842630&c=WEB&txp=5531432&sparams=expire%2Cei%2Cip%2Cid%2Citag%2Csource%2Crequiressl%2Cmime%2Cgir%2Cclen%2Cdur%2Clmt&sig=ALgxI2wwRQIhAOMnxQ2hVIe0_vZxmv78BNIzGpibqZX3DBZAjmN_5g_gAiBG8s2UgBz7cOhMm3UOnOKpWzlHyABxXkX_XGzpcqITjQ%3D%3D&lsparams=mm%2Cmn%2Cms%2Cmv%2Cmvi%2Cpl%2Cinitcwndbps&lsig=AHylml4wRQIgdTTtIvn79cus6YniSpo84oBkuXwnFnC8DvfPbnw7maICIQCYrrxt4leknR4isfh4Z5CNBcG0fgwztRNSL3i3xLjftg%3D%3D&ratebypass=yes'\n",
      "[download] Destination: C:\\Users\\577342\\Downloads\\Rule Delta Response to War on Sensemaking-s42Gt-j9ToU.m4a\n",
      "[download] 100% of 10.50MiB in 00:04                          \n",
      "[ffmpeg] Correcting container in \"C:\\Users\\577342\\Downloads\\Rule Delta Response to War on Sensemaking-s42Gt-j9ToU.m4a\"\n",
      "[debug] ffmpeg command line: ffmpeg -y -loglevel \"repeat+info\" -i \"file:C:\\Users\\577342\\Downloads\\Rule Delta Response to War on Sensemaking-s42Gt-j9ToU.m4a\" -c copy -f mp4 \"file:C:\\Users\\577342\\Downloads\\Rule Delta Response to War on Sensemaking-s42Gt-j9ToU.temp.m4a\"\n",
      "[debug] ffmpeg command line: ffprobe -show_streams \"file:C:\\Users\\577342\\Downloads\\Rule Delta Response to War on Sensemaking-s42Gt-j9ToU.m4a\"\n",
      "[ffmpeg] Destination: C:\\Users\\577342\\Downloads\\Rule Delta Response to War on Sensemaking-s42Gt-j9ToU.mp3\n",
      "[debug] ffmpeg command line: ffmpeg -y -loglevel \"repeat+info\" -i \"file:C:\\Users\\577342\\Downloads\\Rule Delta Response to War on Sensemaking-s42Gt-j9ToU.m4a\" -vn -acodec libmp3lame \"-b:a\" 192k \"file:C:\\Users\\577342\\Downloads\\Rule Delta Response to War on Sensemaking-s42Gt-j9ToU.mp3\"\n",
      "Deleting original file C:\\Users\\577342\\Downloads\\Rule Delta Response to War on Sensemaking-s42Gt-j9ToU.m4a (pass -k to keep)\n",
      "[youtube] O8l4Kn-j-5M: Downloading webpage\n",
      "[youtube] O8l4Kn-j-5M: Downloading video info webpage\n"
     ]
    },
    {
     "name": "stderr",
     "output_type": "stream",
     "text": [
      "ERROR: no conn, hlsvp, hlsManifestUrl or url_encoded_fmt_stream_map information found in video info; please report this issue on https://yt-dl.org/bug . Make sure you are using the latest version; see  https://yt-dl.org/update  on how to update. Be sure to call youtube-dl with the --verbose flag and include its complete output.\n",
      "Traceback (most recent call last):\n",
      "  File \"C:\\Users\\dev\\Anaconda3\\lib\\site-packages\\youtube_dl\\YoutubeDL.py\", line 796, in extract_info\n",
      "    ie_result = ie.extract(url)\n",
      "  File \"C:\\Users\\dev\\Anaconda3\\lib\\site-packages\\youtube_dl\\extractor\\common.py\", line 530, in extract\n",
      "    ie_result = self._real_extract(url)\n",
      "  File \"C:\\Users\\dev\\Anaconda3\\lib\\site-packages\\youtube_dl\\extractor\\youtube.py\", line 2109, in _real_extract\n",
      "    raise ExtractorError('no conn, hlsvp, hlsManifestUrl or url_encoded_fmt_stream_map information found in video info')\n",
      "youtube_dl.utils.ExtractorError: no conn, hlsvp, hlsManifestUrl or url_encoded_fmt_stream_map information found in video info; please report this issue on https://yt-dl.org/bug . Make sure you are using the latest version; see  https://yt-dl.org/update  on how to update. Be sure to call youtube-dl with the --verbose flag and include its complete output.\n",
      "\n"
     ]
    },
    {
     "name": "stdout",
     "output_type": "stream",
     "text": [
      "\n",
      "####################################################\n",
      "ERROR: no conn, hlsvp, hlsManifestUrl or url_encoded_fmt_stream_map information found in video info; please report this issue on https://yt-dl.org/bug . Make sure you are using the latest version; see  https://yt-dl.org/update  on how to update. Be sure to call youtube-dl with the --verbose flag and include its complete output.\n",
      "####################################################\n",
      "\n",
      "[youtube] CD3E7ZjgxqQ: Downloading webpage\n",
      "[youtube] CD3E7ZjgxqQ: Downloading video info webpage\n"
     ]
    },
    {
     "name": "stderr",
     "output_type": "stream",
     "text": [
      "ERROR: no conn, hlsvp, hlsManifestUrl or url_encoded_fmt_stream_map information found in video info; please report this issue on https://yt-dl.org/bug . Make sure you are using the latest version; see  https://yt-dl.org/update  on how to update. Be sure to call youtube-dl with the --verbose flag and include its complete output.\n",
      "Traceback (most recent call last):\n",
      "  File \"C:\\Users\\dev\\Anaconda3\\lib\\site-packages\\youtube_dl\\YoutubeDL.py\", line 796, in extract_info\n",
      "    ie_result = ie.extract(url)\n",
      "  File \"C:\\Users\\dev\\Anaconda3\\lib\\site-packages\\youtube_dl\\extractor\\common.py\", line 530, in extract\n",
      "    ie_result = self._real_extract(url)\n",
      "  File \"C:\\Users\\dev\\Anaconda3\\lib\\site-packages\\youtube_dl\\extractor\\youtube.py\", line 2109, in _real_extract\n",
      "    raise ExtractorError('no conn, hlsvp, hlsManifestUrl or url_encoded_fmt_stream_map information found in video info')\n",
      "youtube_dl.utils.ExtractorError: no conn, hlsvp, hlsManifestUrl or url_encoded_fmt_stream_map information found in video info; please report this issue on https://yt-dl.org/bug . Make sure you are using the latest version; see  https://yt-dl.org/update  on how to update. Be sure to call youtube-dl with the --verbose flag and include its complete output.\n",
      "\n"
     ]
    },
    {
     "name": "stdout",
     "output_type": "stream",
     "text": [
      "\n",
      "####################################################\n",
      "ERROR: no conn, hlsvp, hlsManifestUrl or url_encoded_fmt_stream_map information found in video info; please report this issue on https://yt-dl.org/bug . Make sure you are using the latest version; see  https://yt-dl.org/update  on how to update. Be sure to call youtube-dl with the --verbose flag and include its complete output.\n",
      "####################################################\n",
      "\n",
      "[youtube] b6t2Cqam_w4: Downloading webpage\n",
      "[youtube] b6t2Cqam_w4: Downloading video info webpage\n"
     ]
    },
    {
     "name": "stderr",
     "output_type": "stream",
     "text": [
      "ERROR: no conn, hlsvp, hlsManifestUrl or url_encoded_fmt_stream_map information found in video info; please report this issue on https://yt-dl.org/bug . Make sure you are using the latest version; see  https://yt-dl.org/update  on how to update. Be sure to call youtube-dl with the --verbose flag and include its complete output.\n",
      "Traceback (most recent call last):\n",
      "  File \"C:\\Users\\dev\\Anaconda3\\lib\\site-packages\\youtube_dl\\YoutubeDL.py\", line 796, in extract_info\n",
      "    ie_result = ie.extract(url)\n",
      "  File \"C:\\Users\\dev\\Anaconda3\\lib\\site-packages\\youtube_dl\\extractor\\common.py\", line 530, in extract\n",
      "    ie_result = self._real_extract(url)\n",
      "  File \"C:\\Users\\dev\\Anaconda3\\lib\\site-packages\\youtube_dl\\extractor\\youtube.py\", line 2109, in _real_extract\n",
      "    raise ExtractorError('no conn, hlsvp, hlsManifestUrl or url_encoded_fmt_stream_map information found in video info')\n",
      "youtube_dl.utils.ExtractorError: no conn, hlsvp, hlsManifestUrl or url_encoded_fmt_stream_map information found in video info; please report this issue on https://yt-dl.org/bug . Make sure you are using the latest version; see  https://yt-dl.org/update  on how to update. Be sure to call youtube-dl with the --verbose flag and include its complete output.\n",
      "\n"
     ]
    },
    {
     "name": "stdout",
     "output_type": "stream",
     "text": [
      "\n",
      "####################################################\n",
      "ERROR: no conn, hlsvp, hlsManifestUrl or url_encoded_fmt_stream_map information found in video info; please report this issue on https://yt-dl.org/bug . Make sure you are using the latest version; see  https://yt-dl.org/update  on how to update. Be sure to call youtube-dl with the --verbose flag and include its complete output.\n",
      "####################################################\n",
      "\n",
      "[youtube] cpxtd-FKY1Y: Downloading webpage\n",
      "[youtube] cpxtd-FKY1Y: Downloading video info webpage\n"
     ]
    },
    {
     "name": "stderr",
     "output_type": "stream",
     "text": [
      "ERROR: no conn, hlsvp, hlsManifestUrl or url_encoded_fmt_stream_map information found in video info; please report this issue on https://yt-dl.org/bug . Make sure you are using the latest version; see  https://yt-dl.org/update  on how to update. Be sure to call youtube-dl with the --verbose flag and include its complete output.\n",
      "Traceback (most recent call last):\n",
      "  File \"C:\\Users\\dev\\Anaconda3\\lib\\site-packages\\youtube_dl\\YoutubeDL.py\", line 796, in extract_info\n",
      "    ie_result = ie.extract(url)\n",
      "  File \"C:\\Users\\dev\\Anaconda3\\lib\\site-packages\\youtube_dl\\extractor\\common.py\", line 530, in extract\n",
      "    ie_result = self._real_extract(url)\n",
      "  File \"C:\\Users\\dev\\Anaconda3\\lib\\site-packages\\youtube_dl\\extractor\\youtube.py\", line 2109, in _real_extract\n",
      "    raise ExtractorError('no conn, hlsvp, hlsManifestUrl or url_encoded_fmt_stream_map information found in video info')\n",
      "youtube_dl.utils.ExtractorError: no conn, hlsvp, hlsManifestUrl or url_encoded_fmt_stream_map information found in video info; please report this issue on https://yt-dl.org/bug . Make sure you are using the latest version; see  https://yt-dl.org/update  on how to update. Be sure to call youtube-dl with the --verbose flag and include its complete output.\n",
      "\n"
     ]
    },
    {
     "name": "stdout",
     "output_type": "stream",
     "text": [
      "\n",
      "####################################################\n",
      "ERROR: no conn, hlsvp, hlsManifestUrl or url_encoded_fmt_stream_map information found in video info; please report this issue on https://yt-dl.org/bug . Make sure you are using the latest version; see  https://yt-dl.org/update  on how to update. Be sure to call youtube-dl with the --verbose flag and include its complete output.\n",
      "####################################################\n",
      "\n",
      "[youtube] eXlVUZeZKVo: Downloading webpage\n",
      "[youtube] eXlVUZeZKVo: Downloading video info webpage\n"
     ]
    },
    {
     "name": "stderr",
     "output_type": "stream",
     "text": [
      "ERROR: no conn, hlsvp, hlsManifestUrl or url_encoded_fmt_stream_map information found in video info; please report this issue on https://yt-dl.org/bug . Make sure you are using the latest version; see  https://yt-dl.org/update  on how to update. Be sure to call youtube-dl with the --verbose flag and include its complete output.\n",
      "Traceback (most recent call last):\n",
      "  File \"C:\\Users\\dev\\Anaconda3\\lib\\site-packages\\youtube_dl\\YoutubeDL.py\", line 796, in extract_info\n",
      "    ie_result = ie.extract(url)\n",
      "  File \"C:\\Users\\dev\\Anaconda3\\lib\\site-packages\\youtube_dl\\extractor\\common.py\", line 530, in extract\n",
      "    ie_result = self._real_extract(url)\n",
      "  File \"C:\\Users\\dev\\Anaconda3\\lib\\site-packages\\youtube_dl\\extractor\\youtube.py\", line 2109, in _real_extract\n",
      "    raise ExtractorError('no conn, hlsvp, hlsManifestUrl or url_encoded_fmt_stream_map information found in video info')\n",
      "youtube_dl.utils.ExtractorError: no conn, hlsvp, hlsManifestUrl or url_encoded_fmt_stream_map information found in video info; please report this issue on https://yt-dl.org/bug . Make sure you are using the latest version; see  https://yt-dl.org/update  on how to update. Be sure to call youtube-dl with the --verbose flag and include its complete output.\n",
      "\n"
     ]
    },
    {
     "name": "stdout",
     "output_type": "stream",
     "text": [
      "\n",
      "####################################################\n",
      "ERROR: no conn, hlsvp, hlsManifestUrl or url_encoded_fmt_stream_map information found in video info; please report this issue on https://yt-dl.org/bug . Make sure you are using the latest version; see  https://yt-dl.org/update  on how to update. Be sure to call youtube-dl with the --verbose flag and include its complete output.\n",
      "####################################################\n",
      "\n",
      "[youtube] 0J8TLRUOgJo: Downloading webpage\n",
      "[youtube] 0J8TLRUOgJo: Downloading video info webpage\n",
      "[debug] Invoking downloader on 'https://r6---sn-p5qlsnzd.googlevideo.com/videoplayback?expire=1578452718&ei=jvIUXtOzG8KD4AH7ibKIBw&ip=2600%3A6c64%3A657f%3Af499%3A0%3Aab34%3A2e17%3A2a78&id=o-AHb2NPQVbV2GAxDEQPPNGUJDR9Fq-i2qbLOvCj7FVRod&itag=251&source=youtube&requiressl=yes&mm=31%2C29&mn=sn-p5qlsnzd%2Csn-p5qs7n7d&ms=au%2Crdu&mv=m&mvi=5&pl=32&initcwndbps=2223750&mime=audio%2Fwebm&gir=yes&clen=115288442&dur=7190.701&lmt=1577773829938322&mt=1578431024&fvip=6&keepalive=yes&fexp=23842630&c=WEB&txp=5431432&sparams=expire%2Cei%2Cip%2Cid%2Citag%2Csource%2Crequiressl%2Cmime%2Cgir%2Cclen%2Cdur%2Clmt&sig=ALgxI2wwRQIgCRYTDm8QvDQjsrUNGJ4RFZd-Pu5f26PasWzJVlGEprMCIQDS2vKmoRPUHjjl2Eyaevi-_fKKTyaYoEfvyE_VImjFPg%3D%3D&lsparams=mm%2Cmn%2Cms%2Cmv%2Cmvi%2Cpl%2Cinitcwndbps&lsig=AHylml4wRQIgSK6lN6dmP8P5cR96XnJzHDrbBd7_nBVd17z_4PbTnA0CIQDVsV1drmHUgWZdPXqYGNSvK5ZagHL9i_F4n8dULPnQvg%3D%3D&ratebypass=yes'\n",
      "[download] Destination: C:\\Users\\577342\\Downloads\\The Meaning Crisis, and Shadow work, Jordan Peterson on Jung ft. John Vervaeke and Anderson Todd-0J8TLRUOgJo.webm\n",
      "[download] 100% of 109.95MiB in 00:16                          \n",
      "[debug] ffmpeg command line: ffprobe -show_streams \"file:C:\\Users\\577342\\Downloads\\The Meaning Crisis, and Shadow work, Jordan Peterson on Jung ft. John Vervaeke and Anderson Todd-0J8TLRUOgJo.webm\"\n",
      "[ffmpeg] Destination: C:\\Users\\577342\\Downloads\\The Meaning Crisis, and Shadow work, Jordan Peterson on Jung ft. John Vervaeke and Anderson Todd-0J8TLRUOgJo.mp3\n",
      "[debug] ffmpeg command line: ffmpeg -y -loglevel \"repeat+info\" -i \"file:C:\\Users\\577342\\Downloads\\The Meaning Crisis, and Shadow work, Jordan Peterson on Jung ft. John Vervaeke and Anderson Todd-0J8TLRUOgJo.webm\" -vn -acodec libmp3lame \"-b:a\" 192k \"file:C:\\Users\\577342\\Downloads\\The Meaning Crisis, and Shadow work, Jordan Peterson on Jung ft. John Vervaeke and Anderson Todd-0J8TLRUOgJo.mp3\"\n",
      "Deleting original file C:\\Users\\577342\\Downloads\\The Meaning Crisis, and Shadow work, Jordan Peterson on Jung ft. John Vervaeke and Anderson Todd-0J8TLRUOgJo.webm (pass -k to keep)\n",
      "[youtube] 13s-a5-cCPc: Downloading webpage\n",
      "[youtube] 13s-a5-cCPc: Downloading video info webpage\n",
      "[debug] Invoking downloader on 'https://r5---sn-p5qs7nek.googlevideo.com/videoplayback?expire=1578453225&ei=ifQUXs2HKI3VNofAivAI&ip=2600%3A6c64%3A657f%3Af499%3A0%3Aab34%3A2e17%3A2a78&id=o-AI1vRl9J2aFyMUZfEeeEa24aennx-QsSy1fdV2VR2eaf&itag=140&source=youtube&requiressl=yes&mm=31%2C26&mn=sn-p5qs7nek%2Csn-vgqskned&ms=au%2Conr&mv=m&mvi=4&pl=32&initcwndbps=2233750&mime=audio%2Fmp4&gir=yes&clen=67578148&dur=4175.597&lmt=1577580215484559&mt=1578431511&fvip=5&keepalive=yes&fexp=23842630&c=WEB&txp=5431432&sparams=expire%2Cei%2Cip%2Cid%2Citag%2Csource%2Crequiressl%2Cmime%2Cgir%2Cclen%2Cdur%2Clmt&sig=ALgxI2wwRgIhANWb1Dm15fqxZBBflL2AMwNY5ZvIoSvoF-X1kjO7N3KnAiEAjHPsqPPS33YE-o_lDG8FIW3hby_zGp7AT6KbRC7mels%3D&lsparams=mm%2Cmn%2Cms%2Cmv%2Cmvi%2Cpl%2Cinitcwndbps&lsig=AHylml4wRQIgQez14KsENlJNrCUOsE5NVZddfuISneIgJvbgAivPvSMCIQCRonHxrASfYw2EWtqCS_5LHuy0LNMgX4_nKk8WdlWX9w%3D%3D&ratebypass=yes'\n",
      "[download] Destination: C:\\Users\\577342\\Downloads\\Rebel Wisdom Review of 2019-13s-a5-cCPc.m4a\n",
      "[download] 100% of 64.45MiB in 00:08                          \n",
      "[ffmpeg] Correcting container in \"C:\\Users\\577342\\Downloads\\Rebel Wisdom Review of 2019-13s-a5-cCPc.m4a\"\n",
      "[debug] ffmpeg command line: ffmpeg -y -loglevel \"repeat+info\" -i \"file:C:\\Users\\577342\\Downloads\\Rebel Wisdom Review of 2019-13s-a5-cCPc.m4a\" -c copy -f mp4 \"file:C:\\Users\\577342\\Downloads\\Rebel Wisdom Review of 2019-13s-a5-cCPc.temp.m4a\"\n",
      "[debug] ffmpeg command line: ffprobe -show_streams \"file:C:\\Users\\577342\\Downloads\\Rebel Wisdom Review of 2019-13s-a5-cCPc.m4a\"\n",
      "[ffmpeg] Destination: C:\\Users\\577342\\Downloads\\Rebel Wisdom Review of 2019-13s-a5-cCPc.mp3\n",
      "[debug] ffmpeg command line: ffmpeg -y -loglevel \"repeat+info\" -i \"file:C:\\Users\\577342\\Downloads\\Rebel Wisdom Review of 2019-13s-a5-cCPc.m4a\" -vn -acodec libmp3lame \"-b:a\" 192k \"file:C:\\Users\\577342\\Downloads\\Rebel Wisdom Review of 2019-13s-a5-cCPc.mp3\"\n",
      "Deleting original file C:\\Users\\577342\\Downloads\\Rebel Wisdom Review of 2019-13s-a5-cCPc.m4a (pass -k to keep)\n",
      "[youtube] iu9fa4TkWE0: Downloading webpage\n",
      "[youtube] iu9fa4TkWE0: Downloading video info webpage\n",
      "[debug] Invoking downloader on 'https://r1---sn-p5qlsndz.googlevideo.com/videoplayback?expire=1578453403&ei=O_UUXsi8JtjtwQHol4WAAw&ip=2600%3A6c64%3A657f%3Af499%3A0%3Aab34%3A2e17%3A2a78&id=o-ABs_NWJOayMwgVS723f9PQCF_81DgctJIsZ06EuxxChY&itag=251&source=youtube&requiressl=yes&mm=31%2C29&mn=sn-p5qlsndz%2Csn-p5qs7nes&ms=au%2Crdu&mv=m&mvi=0&pl=32&initcwndbps=2240000&mime=audio%2Fwebm&gir=yes&clen=51045228&dur=3778.841&lmt=1577484514077288&mt=1578431716&fvip=1&keepalive=yes&fexp=23842630&c=WEB&txp=5431432&sparams=expire%2Cei%2Cip%2Cid%2Citag%2Csource%2Crequiressl%2Cmime%2Cgir%2Cclen%2Cdur%2Clmt&sig=ALgxI2wwRgIhAJa_QAsW80rwp5DbypSCEUh7lPn9Itzp3KlWh_dQ0vroAiEA-6Ke-Z1gQgkLtAXQ60T8X-L99U7rnJyS74KksLhUtmc%3D&lsparams=mm%2Cmn%2Cms%2Cmv%2Cmvi%2Cpl%2Cinitcwndbps&lsig=AHylml4wRQIhAICNGKNfF0bV52yqWPSyvw4Y8x7-_HhOlyKbTkS_lt0EAiBp0GbjhgpL7PbKQ77BSwxTLLChefMuDvk3hMMlRUOizQ%3D%3D&ratebypass=yes'\n",
      "[download] Destination: C:\\Users\\577342\\Downloads\\Ep. 50 - Awakening from the Meaning Crisis - Tillich and Barfield-iu9fa4TkWE0.webm\n",
      "[download] 100% of 48.68MiB in 00:09                          \n",
      "[debug] ffmpeg command line: ffprobe -show_streams \"file:C:\\Users\\577342\\Downloads\\Ep. 50 - Awakening from the Meaning Crisis - Tillich and Barfield-iu9fa4TkWE0.webm\"\n",
      "[ffmpeg] Destination: C:\\Users\\577342\\Downloads\\Ep. 50 - Awakening from the Meaning Crisis - Tillich and Barfield-iu9fa4TkWE0.mp3\n",
      "[debug] ffmpeg command line: ffmpeg -y -loglevel \"repeat+info\" -i \"file:C:\\Users\\577342\\Downloads\\Ep. 50 - Awakening from the Meaning Crisis - Tillich and Barfield-iu9fa4TkWE0.webm\" -vn -acodec libmp3lame \"-b:a\" 192k \"file:C:\\Users\\577342\\Downloads\\Ep. 50 - Awakening from the Meaning Crisis - Tillich and Barfield-iu9fa4TkWE0.mp3\"\n",
      "Deleting original file C:\\Users\\577342\\Downloads\\Ep. 50 - Awakening from the Meaning Crisis - Tillich and Barfield-iu9fa4TkWE0.webm (pass -k to keep)\n",
      "[youtube] Vx-PzV7jxrI: Downloading webpage\n",
      "[youtube] Vx-PzV7jxrI: Downloading video info webpage\n"
     ]
    },
    {
     "name": "stderr",
     "output_type": "stream",
     "text": [
      "ERROR: no conn, hlsvp, hlsManifestUrl or url_encoded_fmt_stream_map information found in video info; please report this issue on https://yt-dl.org/bug . Make sure you are using the latest version; see  https://yt-dl.org/update  on how to update. Be sure to call youtube-dl with the --verbose flag and include its complete output.\n",
      "Traceback (most recent call last):\n",
      "  File \"C:\\Users\\dev\\Anaconda3\\lib\\site-packages\\youtube_dl\\YoutubeDL.py\", line 796, in extract_info\n",
      "    ie_result = ie.extract(url)\n",
      "  File \"C:\\Users\\dev\\Anaconda3\\lib\\site-packages\\youtube_dl\\extractor\\common.py\", line 530, in extract\n",
      "    ie_result = self._real_extract(url)\n",
      "  File \"C:\\Users\\dev\\Anaconda3\\lib\\site-packages\\youtube_dl\\extractor\\youtube.py\", line 2109, in _real_extract\n",
      "    raise ExtractorError('no conn, hlsvp, hlsManifestUrl or url_encoded_fmt_stream_map information found in video info')\n",
      "youtube_dl.utils.ExtractorError: no conn, hlsvp, hlsManifestUrl or url_encoded_fmt_stream_map information found in video info; please report this issue on https://yt-dl.org/bug . Make sure you are using the latest version; see  https://yt-dl.org/update  on how to update. Be sure to call youtube-dl with the --verbose flag and include its complete output.\n",
      "\n"
     ]
    },
    {
     "name": "stdout",
     "output_type": "stream",
     "text": [
      "\n",
      "####################################################\n",
      "ERROR: no conn, hlsvp, hlsManifestUrl or url_encoded_fmt_stream_map information found in video info; please report this issue on https://yt-dl.org/bug . Make sure you are using the latest version; see  https://yt-dl.org/update  on how to update. Be sure to call youtube-dl with the --verbose flag and include its complete output.\n",
      "####################################################\n",
      "\n",
      "[youtube] yz6qgfjGMAg: Downloading webpage\n",
      "[youtube] yz6qgfjGMAg: Downloading video info webpage\n",
      "[debug] Invoking downloader on 'https://r6---sn-p5qs7nes.googlevideo.com/videoplayback?expire=1578453640&ei=KPYUXqjlBObNjAS32JMw&ip=2600%3A6c64%3A657f%3Af499%3A0%3Aab34%3A2e17%3A2a78&id=o-AFTVydizbW1i-Gqki3xwkqdtmTjBryHv3xkz_X673vZC&itag=140&source=youtube&requiressl=yes&mm=31%2C26&mn=sn-p5qs7nes%2Csn-vgqsrn7l&ms=au%2Conr&mv=m&mvi=5&pl=32&initcwndbps=2067500&mime=audio%2Fmp4&gir=yes&clen=56190551&dur=3471.963&lmt=1577217801366817&mt=1578431917&fvip=6&keepalive=yes&fexp=23842630&c=WEB&txp=5431432&sparams=expire%2Cei%2Cip%2Cid%2Citag%2Csource%2Crequiressl%2Cmime%2Cgir%2Cclen%2Cdur%2Clmt&sig=ALgxI2wwRAIgVCTir2Oj3UlUqzPDCswQYElot4fxWjK2MFrM50YYFakCIE-rPoYY3ljxWfBlX4CfxSTeklMafG2vDbJFP8dYtE_z&lsparams=mm%2Cmn%2Cms%2Cmv%2Cmvi%2Cpl%2Cinitcwndbps&lsig=AHylml4wRQIhAKv5elJTNIClhMc-aF09jKqUMayStydmEDYoGhlWYNraAiB2XNJVPr6fwDhGJU4M1zGeNSegupjm5Um5xlYFwPp2Ew%3D%3D&ratebypass=yes'\n",
      "[download] Destination: C:\\Users\\577342\\Downloads\\After the Meaning Crisis, John Vervaeke-yz6qgfjGMAg.m4a\n",
      "[download] 100% of 53.59MiB in 00:09                          \n",
      "[ffmpeg] Correcting container in \"C:\\Users\\577342\\Downloads\\After the Meaning Crisis, John Vervaeke-yz6qgfjGMAg.m4a\"\n",
      "[debug] ffmpeg command line: ffmpeg -y -loglevel \"repeat+info\" -i \"file:C:\\Users\\577342\\Downloads\\After the Meaning Crisis, John Vervaeke-yz6qgfjGMAg.m4a\" -c copy -f mp4 \"file:C:\\Users\\577342\\Downloads\\After the Meaning Crisis, John Vervaeke-yz6qgfjGMAg.temp.m4a\"\n",
      "[debug] ffmpeg command line: ffprobe -show_streams \"file:C:\\Users\\577342\\Downloads\\After the Meaning Crisis, John Vervaeke-yz6qgfjGMAg.m4a\"\n",
      "[ffmpeg] Destination: C:\\Users\\577342\\Downloads\\After the Meaning Crisis, John Vervaeke-yz6qgfjGMAg.mp3\n",
      "[debug] ffmpeg command line: ffmpeg -y -loglevel \"repeat+info\" -i \"file:C:\\Users\\577342\\Downloads\\After the Meaning Crisis, John Vervaeke-yz6qgfjGMAg.m4a\" -vn -acodec libmp3lame \"-b:a\" 192k \"file:C:\\Users\\577342\\Downloads\\After the Meaning Crisis, John Vervaeke-yz6qgfjGMAg.mp3\"\n",
      "Deleting original file C:\\Users\\577342\\Downloads\\After the Meaning Crisis, John Vervaeke-yz6qgfjGMAg.m4a (pass -k to keep)\n",
      "[youtube] DvVx3s10vUY: Downloading webpage\n",
      "[youtube] DvVx3s10vUY: Downloading video info webpage\n"
     ]
    },
    {
     "name": "stderr",
     "output_type": "stream",
     "text": [
      "ERROR: no conn, hlsvp, hlsManifestUrl or url_encoded_fmt_stream_map information found in video info; please report this issue on https://yt-dl.org/bug . Make sure you are using the latest version; see  https://yt-dl.org/update  on how to update. Be sure to call youtube-dl with the --verbose flag and include its complete output.\n",
      "Traceback (most recent call last):\n",
      "  File \"C:\\Users\\dev\\Anaconda3\\lib\\site-packages\\youtube_dl\\YoutubeDL.py\", line 796, in extract_info\n",
      "    ie_result = ie.extract(url)\n",
      "  File \"C:\\Users\\dev\\Anaconda3\\lib\\site-packages\\youtube_dl\\extractor\\common.py\", line 530, in extract\n",
      "    ie_result = self._real_extract(url)\n",
      "  File \"C:\\Users\\dev\\Anaconda3\\lib\\site-packages\\youtube_dl\\extractor\\youtube.py\", line 2109, in _real_extract\n",
      "    raise ExtractorError('no conn, hlsvp, hlsManifestUrl or url_encoded_fmt_stream_map information found in video info')\n",
      "youtube_dl.utils.ExtractorError: no conn, hlsvp, hlsManifestUrl or url_encoded_fmt_stream_map information found in video info; please report this issue on https://yt-dl.org/bug . Make sure you are using the latest version; see  https://yt-dl.org/update  on how to update. Be sure to call youtube-dl with the --verbose flag and include its complete output.\n",
      "\n"
     ]
    },
    {
     "name": "stdout",
     "output_type": "stream",
     "text": [
      "\n",
      "####################################################\n",
      "ERROR: no conn, hlsvp, hlsManifestUrl or url_encoded_fmt_stream_map information found in video info; please report this issue on https://yt-dl.org/bug . Make sure you are using the latest version; see  https://yt-dl.org/update  on how to update. Be sure to call youtube-dl with the --verbose flag and include its complete output.\n",
      "####################################################\n",
      "\n",
      "[youtube] 857pPYZfmPk: Downloading webpage\n",
      "[youtube] 857pPYZfmPk: Downloading video info webpage\n",
      "[debug] Invoking downloader on 'https://r2---sn-p5qs7nek.googlevideo.com/videoplayback?expire=1578453813&ei=1fYUXtPsNo2Fir4Pgo-n-AU&ip=2600%3A6c64%3A657f%3Af499%3A0%3Aab34%3A2e17%3A2a78&id=o-ALBnmxE_wgrEQ3HHtLdZ1sWKEMpYpbCTHmoa3VeLpnWi&itag=140&source=youtube&requiressl=yes&mm=31%2C26&mn=sn-p5qs7nek%2Csn-vgqsrn7l&ms=au%2Conr&mv=m&mvi=1&pl=32&initcwndbps=2153750&mime=audio%2Fmp4&gir=yes&clen=8537107&dur=527.464&lmt=1576881205245901&mt=1578432126&fvip=2&keepalive=yes&fexp=23842630&c=WEB&txp=5431432&sparams=expire%2Cei%2Cip%2Cid%2Citag%2Csource%2Crequiressl%2Cmime%2Cgir%2Cclen%2Cdur%2Clmt&sig=ALgxI2wwRgIhAOZz2Idhe0V9b_nZejT6aGWhyD9yVScAs_AOUJLE6oBRAiEArOEAXcyT_JMYDM9cVMrBzU59CZPJ3Y0512jbR-Tt0gM%3D&lsparams=mm%2Cmn%2Cms%2Cmv%2Cmvi%2Cpl%2Cinitcwndbps&lsig=AHylml4wRQIgd-NN5nygGT9lCHc7xHktxKzJsc7dMAxqJDlILGRvL64CIQC6gjXLY0U4_uNZdqbS26rKnY-R0goZPh56MRK2s9Jw8w%3D%3D&ratebypass=yes'\n",
      "[download] Destination: C:\\Users\\577342\\Downloads\\Rebel Wisdom - Sensemaking 101-857pPYZfmPk.m4a\n",
      "[download] 100% of 8.14MiB in 00:04                  \n",
      "[ffmpeg] Correcting container in \"C:\\Users\\577342\\Downloads\\Rebel Wisdom - Sensemaking 101-857pPYZfmPk.m4a\"\n",
      "[debug] ffmpeg command line: ffmpeg -y -loglevel \"repeat+info\" -i \"file:C:\\Users\\577342\\Downloads\\Rebel Wisdom - Sensemaking 101-857pPYZfmPk.m4a\" -c copy -f mp4 \"file:C:\\Users\\577342\\Downloads\\Rebel Wisdom - Sensemaking 101-857pPYZfmPk.temp.m4a\"\n",
      "[debug] ffmpeg command line: ffprobe -show_streams \"file:C:\\Users\\577342\\Downloads\\Rebel Wisdom - Sensemaking 101-857pPYZfmPk.m4a\"\n",
      "[ffmpeg] Destination: C:\\Users\\577342\\Downloads\\Rebel Wisdom - Sensemaking 101-857pPYZfmPk.mp3\n",
      "[debug] ffmpeg command line: ffmpeg -y -loglevel \"repeat+info\" -i \"file:C:\\Users\\577342\\Downloads\\Rebel Wisdom - Sensemaking 101-857pPYZfmPk.m4a\" -vn -acodec libmp3lame \"-b:a\" 192k \"file:C:\\Users\\577342\\Downloads\\Rebel Wisdom - Sensemaking 101-857pPYZfmPk.mp3\"\n",
      "Deleting original file C:\\Users\\577342\\Downloads\\Rebel Wisdom - Sensemaking 101-857pPYZfmPk.m4a (pass -k to keep)\n",
      "[youtube] vpQTqhs9xmA: Downloading webpage\n",
      "[youtube] vpQTqhs9xmA: Downloading video info webpage\n",
      "[debug] Invoking downloader on 'https://r4---sn-p5qs7ned.googlevideo.com/videoplayback?expire=1578453845&ei=9fYUXvSCAe-Gir4Pn6mi2AI&ip=2600%3A6c64%3A657f%3Af499%3A0%3Aab34%3A2e17%3A2a78&id=o-AJQgqXuOMmxiPYbgOJE6_p172FOoaSfPjHTSHAtZMxKt&itag=251&source=youtube&requiressl=yes&mm=31%2C29&mn=sn-p5qs7ned%2Csn-p5qlsnsk&ms=au%2Crdu&mv=m&mvi=3&pl=32&initcwndbps=2253750&mime=audio%2Fwebm&gir=yes&clen=89961391&dur=5685.581&lmt=1576714829096736&mt=1578432126&fvip=4&keepalive=yes&fexp=23842630&c=WEB&txp=5531432&sparams=expire%2Cei%2Cip%2Cid%2Citag%2Csource%2Crequiressl%2Cmime%2Cgir%2Cclen%2Cdur%2Clmt&sig=ALgxI2wwRQIgUV5WflDM3rn5Iv7GhtvJMx3pifj8ey63dN0Rqi2KngwCIQC5LJYoxSQKWGsKScEQYw5QAvmVcPUeoEBC8LvxQHw6Fw%3D%3D&lsparams=mm%2Cmn%2Cms%2Cmv%2Cmvi%2Cpl%2Cinitcwndbps&lsig=AHylml4wRgIhALm4OTFiKm4hqvxn1Zp8NrsxnrfO8VlBkASONL9ZpoyOAiEA7jmbWn0Wti_xNFLIfnTpPS6t9NctEDCisYlHfGbv510%3D&ratebypass=yes'\n",
      "[download] Destination: C:\\Users\\577342\\Downloads\\Garry Kasparov on 'The Portal', Ep. #013 - Avoiding Zugzwang in AI and Politics-vpQTqhs9xmA.webm\n",
      "[download] 100% of 85.79MiB in 00:13                   \n",
      "[debug] ffmpeg command line: ffprobe -show_streams \"file:C:\\Users\\577342\\Downloads\\Garry Kasparov on 'The Portal', Ep. #013 - Avoiding Zugzwang in AI and Politics-vpQTqhs9xmA.webm\"\n",
      "[ffmpeg] Destination: C:\\Users\\577342\\Downloads\\Garry Kasparov on 'The Portal', Ep. #013 - Avoiding Zugzwang in AI and Politics-vpQTqhs9xmA.mp3\n",
      "[debug] ffmpeg command line: ffmpeg -y -loglevel \"repeat+info\" -i \"file:C:\\Users\\577342\\Downloads\\Garry Kasparov on 'The Portal', Ep. #013 - Avoiding Zugzwang in AI and Politics-vpQTqhs9xmA.webm\" -vn -acodec libmp3lame \"-b:a\" 192k \"file:C:\\Users\\577342\\Downloads\\Garry Kasparov on 'The Portal', Ep. #013 - Avoiding Zugzwang in AI and Politics-vpQTqhs9xmA.mp3\"\n",
      "Deleting original file C:\\Users\\577342\\Downloads\\Garry Kasparov on 'The Portal', Ep. #013 - Avoiding Zugzwang in AI and Politics-vpQTqhs9xmA.webm (pass -k to keep)\n",
      "[youtube] 9QGrffjOFko: Downloading webpage\n",
      "[youtube] 9QGrffjOFko: Downloading video info webpage\n",
      "[debug] Invoking downloader on 'https://r1---sn-p5qs7n7d.googlevideo.com/videoplayback?expire=1578454211&ei=Y_gUXuKhHN-Qir4P8L2nyAo&ip=2600%3A6c64%3A657f%3Af499%3A0%3Aab34%3A2e17%3A2a78&id=o-AEmJOu21YNEaEmjRyPWC_2hUGAzg28ECSYVqtCPg92Hp&itag=140&source=youtube&requiressl=yes&mm=31%2C26&mn=sn-p5qs7n7d%2Csn-vgqsrnll&ms=au%2Conr&mv=m&mvi=0&pl=32&initcwndbps=2101250&mime=audio%2Fmp4&gir=yes&clen=94565812&dur=5843.161&lmt=1576719612596161&mt=1578432491&fvip=1&keepalive=yes&fexp=23842630&c=WEB&txp=5431432&sparams=expire%2Cei%2Cip%2Cid%2Citag%2Csource%2Crequiressl%2Cmime%2Cgir%2Cclen%2Cdur%2Clmt&sig=ALgxI2wwRQIhAJKU752BXE3HnLfEjgCOTbWkZz7eY_LNWMiHJt5agnb_AiBEyrsiNaUzKWiJ7s8qrrn-EOh7J-z7uKkyyAU8njelPw%3D%3D&lsparams=mm%2Cmn%2Cms%2Cmv%2Cmvi%2Cpl%2Cinitcwndbps&lsig=AHylml4wRQIgftcTvvQYbQWAGD74qXslcWIpHDT9FbQuq6JEea9mUlkCIQDZTn5rZB5SsIfV9gKMH83zMTxL_9d7QhKWKvMjjhSUFg%3D%3D&ratebypass=yes'\n",
      "[download] Destination: C:\\Users\\577342\\Downloads\\War on Sensemaking II, Daniel Schmachtenberger-9QGrffjOFko.m4a\n",
      "[download] 100% of 90.18MiB in 00:14                          \n",
      "[ffmpeg] Correcting container in \"C:\\Users\\577342\\Downloads\\War on Sensemaking II, Daniel Schmachtenberger-9QGrffjOFko.m4a\"\n",
      "[debug] ffmpeg command line: ffmpeg -y -loglevel \"repeat+info\" -i \"file:C:\\Users\\577342\\Downloads\\War on Sensemaking II, Daniel Schmachtenberger-9QGrffjOFko.m4a\" -c copy -f mp4 \"file:C:\\Users\\577342\\Downloads\\War on Sensemaking II, Daniel Schmachtenberger-9QGrffjOFko.temp.m4a\"\n",
      "[debug] ffmpeg command line: ffprobe -show_streams \"file:C:\\Users\\577342\\Downloads\\War on Sensemaking II, Daniel Schmachtenberger-9QGrffjOFko.m4a\"\n",
      "[ffmpeg] Destination: C:\\Users\\577342\\Downloads\\War on Sensemaking II, Daniel Schmachtenberger-9QGrffjOFko.mp3\n",
      "[debug] ffmpeg command line: ffmpeg -y -loglevel \"repeat+info\" -i \"file:C:\\Users\\577342\\Downloads\\War on Sensemaking II, Daniel Schmachtenberger-9QGrffjOFko.m4a\" -vn -acodec libmp3lame \"-b:a\" 192k \"file:C:\\Users\\577342\\Downloads\\War on Sensemaking II, Daniel Schmachtenberger-9QGrffjOFko.mp3\"\n",
      "Deleting original file C:\\Users\\577342\\Downloads\\War on Sensemaking II, Daniel Schmachtenberger-9QGrffjOFko.m4a (pass -k to keep)\n",
      "[youtube] Wtz-bNywXBY: Downloading webpage\n",
      "[youtube] Wtz-bNywXBY: Downloading video info webpage\n"
     ]
    },
    {
     "name": "stderr",
     "output_type": "stream",
     "text": [
      "ERROR: no conn, hlsvp, hlsManifestUrl or url_encoded_fmt_stream_map information found in video info; please report this issue on https://yt-dl.org/bug . Make sure you are using the latest version; see  https://yt-dl.org/update  on how to update. Be sure to call youtube-dl with the --verbose flag and include its complete output.\n",
      "Traceback (most recent call last):\n",
      "  File \"C:\\Users\\dev\\Anaconda3\\lib\\site-packages\\youtube_dl\\YoutubeDL.py\", line 796, in extract_info\n",
      "    ie_result = ie.extract(url)\n",
      "  File \"C:\\Users\\dev\\Anaconda3\\lib\\site-packages\\youtube_dl\\extractor\\common.py\", line 530, in extract\n",
      "    ie_result = self._real_extract(url)\n",
      "  File \"C:\\Users\\dev\\Anaconda3\\lib\\site-packages\\youtube_dl\\extractor\\youtube.py\", line 2109, in _real_extract\n",
      "    raise ExtractorError('no conn, hlsvp, hlsManifestUrl or url_encoded_fmt_stream_map information found in video info')\n",
      "youtube_dl.utils.ExtractorError: no conn, hlsvp, hlsManifestUrl or url_encoded_fmt_stream_map information found in video info; please report this issue on https://yt-dl.org/bug . Make sure you are using the latest version; see  https://yt-dl.org/update  on how to update. Be sure to call youtube-dl with the --verbose flag and include its complete output.\n",
      "\n"
     ]
    },
    {
     "name": "stdout",
     "output_type": "stream",
     "text": [
      "\n",
      "####################################################\n",
      "ERROR: no conn, hlsvp, hlsManifestUrl or url_encoded_fmt_stream_map information found in video info; please report this issue on https://yt-dl.org/bug . Make sure you are using the latest version; see  https://yt-dl.org/update  on how to update. Be sure to call youtube-dl with the --verbose flag and include its complete output.\n",
      "####################################################\n",
      "\n",
      "[youtube] ouH5DQJvT1A: Downloading webpage\n",
      "[youtube] ouH5DQJvT1A: Downloading video info webpage\n",
      "[debug] Invoking downloader on 'https://r6---sn-p5qlsnsk.googlevideo.com/videoplayback?expire=1578454490&ei=evkUXoKZG4aGir4Psu-m-As&ip=2600%3A6c64%3A657f%3Af499%3A0%3Aab34%3A2e17%3A2a78&id=o-AFtEJCzBBV_cYJHuD0FxhWZYGXKKDGXuEJEYvyQJCWI8&itag=251&source=youtube&requiressl=yes&mm=31%2C29&mn=sn-p5qlsnsk%2Csn-p5qs7ner&ms=au%2Crdu&mv=m&mvi=5&pl=32&initcwndbps=2232500&mime=audio%2Fwebm&gir=yes&clen=14048468&dur=946.761&lmt=1576565668688142&mt=1578432815&fvip=6&keepalive=yes&fexp=23842630&c=WEB&txp=5531432&sparams=expire%2Cei%2Cip%2Cid%2Citag%2Csource%2Crequiressl%2Cmime%2Cgir%2Cclen%2Cdur%2Clmt&sig=ALgxI2wwRAIgd_VK_kcEzAFMcTgxRgqltu3NJJQVGpJuC2zVGRnEsxYCID9MDIN9lDhRSyBItZPWwPjevpI8d1dlgx_v0pvg-f60&lsparams=mm%2Cmn%2Cms%2Cmv%2Cmvi%2Cpl%2Cinitcwndbps&lsig=AHylml4wRQIhAPLkzdfHoiCOIyw48C8FHAeVFBaMdZZch0XiGhwyI-VNAiAMSkCA4DvKPiZrpKkRRXrPO9vtWygzXfI4h56QHgDU0g%3D%3D&ratebypass=yes'\n",
      "[download] Destination: C:\\Users\\577342\\Downloads\\The Road From Equality to Inversion-ouH5DQJvT1A.webm\n",
      "[download] 100% of 13.40MiB in 00:05                  \n",
      "[debug] ffmpeg command line: ffprobe -show_streams \"file:C:\\Users\\577342\\Downloads\\The Road From Equality to Inversion-ouH5DQJvT1A.webm\"\n",
      "[ffmpeg] Destination: C:\\Users\\577342\\Downloads\\The Road From Equality to Inversion-ouH5DQJvT1A.mp3\n",
      "[debug] ffmpeg command line: ffmpeg -y -loglevel \"repeat+info\" -i \"file:C:\\Users\\577342\\Downloads\\The Road From Equality to Inversion-ouH5DQJvT1A.webm\" -vn -acodec libmp3lame \"-b:a\" 192k \"file:C:\\Users\\577342\\Downloads\\The Road From Equality to Inversion-ouH5DQJvT1A.mp3\"\n",
      "Deleting original file C:\\Users\\577342\\Downloads\\The Road From Equality to Inversion-ouH5DQJvT1A.webm (pass -k to keep)\n",
      "[youtube] L1l7zZjYRhw: Downloading webpage\n",
      "[youtube] L1l7zZjYRhw: Downloading video info webpage\n"
     ]
    },
    {
     "name": "stderr",
     "output_type": "stream",
     "text": [
      "ERROR: no conn, hlsvp, hlsManifestUrl or url_encoded_fmt_stream_map information found in video info; please report this issue on https://yt-dl.org/bug . Make sure you are using the latest version; see  https://yt-dl.org/update  on how to update. Be sure to call youtube-dl with the --verbose flag and include its complete output.\n",
      "Traceback (most recent call last):\n",
      "  File \"C:\\Users\\dev\\Anaconda3\\lib\\site-packages\\youtube_dl\\YoutubeDL.py\", line 796, in extract_info\n",
      "    ie_result = ie.extract(url)\n",
      "  File \"C:\\Users\\dev\\Anaconda3\\lib\\site-packages\\youtube_dl\\extractor\\common.py\", line 530, in extract\n",
      "    ie_result = self._real_extract(url)\n",
      "  File \"C:\\Users\\dev\\Anaconda3\\lib\\site-packages\\youtube_dl\\extractor\\youtube.py\", line 2109, in _real_extract\n",
      "    raise ExtractorError('no conn, hlsvp, hlsManifestUrl or url_encoded_fmt_stream_map information found in video info')\n",
      "youtube_dl.utils.ExtractorError: no conn, hlsvp, hlsManifestUrl or url_encoded_fmt_stream_map information found in video info; please report this issue on https://yt-dl.org/bug . Make sure you are using the latest version; see  https://yt-dl.org/update  on how to update. Be sure to call youtube-dl with the --verbose flag and include its complete output.\n",
      "\n"
     ]
    },
    {
     "name": "stdout",
     "output_type": "stream",
     "text": [
      "\n",
      "####################################################\n",
      "ERROR: no conn, hlsvp, hlsManifestUrl or url_encoded_fmt_stream_map information found in video info; please report this issue on https://yt-dl.org/bug . Make sure you are using the latest version; see  https://yt-dl.org/update  on how to update. Be sure to call youtube-dl with the --verbose flag and include its complete output.\n",
      "####################################################\n",
      "\n",
      "0\n",
      "Conversion completed.\n"
     ]
    }
   ],
   "source": [
    "\n",
    "import os\n",
    "ydl_opts = {\n",
    "    'format': 'bestaudio/best',\n",
    "    'nocheckcertificate': False,\n",
    "    'outtmpl': os.path.join(downloads_folder, youtube_dl.DEFAULT_OUTTMPL),\n",
    "    'postprocessors': [{'key': 'FFmpegExtractAudio',\n",
    "                       'preferredcodec': 'mp3',\n",
    "                       'preferredquality': '192'}],\n",
    "    'verbose': True,\n",
    "    }\n",
    "with youtube_dl.YoutubeDL(ydl_opts) as ydl:\n",
    "    for url in youtube_url_list:\n",
    "        try:\n",
    "            # It also downloads the videos\n",
    "            res = ydl.extract_info(url,\n",
    "                                   force_generic_extractor=ydl.params.get('force_generic_extractor',\n",
    "                                                                          False))\n",
    "        except Exception as e:\n",
    "            print()\n",
    "            print('####################################################')\n",
    "            print(e)\n",
    "            print('####################################################')\n",
    "            print()\n",
    "\n",
    "    print(ydl._download_retcode)\n",
    "print('Conversion completed.')"
   ]
  },
  {
   "cell_type": "code",
   "execution_count": 3,
   "metadata": {},
   "outputs": [],
   "source": [
    "\n",
    "!start %windir%\\explorer.exe \"{os.path.abspath(downloads_folder)}\""
   ]
  },
  {
   "cell_type": "code",
   "execution_count": 4,
   "metadata": {},
   "outputs": [],
   "source": [
    "\n",
    "import re\n",
    "\n",
    "files_list = os.listdir(downloads_folder)\n",
    "for file_name in files_list:\n",
    "    if file_name.endswith('.mp3'):\n",
    "        src_path = os.path.join(downloads_folder, file_name)\n",
    "        file_name = re.sub(r'-[A-Z0-9a-z-_]{11}\\.mp3', '.mp3', file_name)\n",
    "        dst_path = os.path.join(downloads_folder, file_name)\n",
    "        os.rename(src_path, dst_path)"
   ]
  },
  {
   "cell_type": "code",
   "execution_count": 5,
   "metadata": {},
   "outputs": [],
   "source": [
    "\n",
    "# ID of the \"Reading Material\" folder\n",
    "tgt_folder_id = '1syfUx6jukbW1CWIEy8xoM9veGGr5MBUh'\n",
    "rm_url = 'https://drive.google.com/drive/u/0/folders/{}'.format(tgt_folder_id)\n",
    "!\"C:\\Program Files (x86)\\Google\\Chrome\\Application\\chrome.exe\" {rm_url}"
   ]
  },
  {
   "cell_type": "markdown",
   "metadata": {},
   "source": [
    "\n",
    "Next, we authenticate with Google by running the builtin web server conveniently provided."
   ]
  },
  {
   "cell_type": "code",
   "execution_count": null,
   "metadata": {},
   "outputs": [],
   "source": [
    "\n",
    "from pydrive.auth import GoogleAuth\n",
    "\n",
    "# The URL that gets displayed here is not suitable for public consumption\n",
    "GoogleAuth.DEFAULT_SETTINGS['client_config_file'] = r'../json/client_secret.json'\n",
    "gauth = GoogleAuth()\n",
    "gauth.LocalWebserverAuth()"
   ]
  },
  {
   "cell_type": "markdown",
   "metadata": {},
   "source": [
    "\n",
    "Before you run the next cell, in the online web page of Google Drive, bring up the share dialog box of the folder you are uploading to and copy its folder id into the <code>tgt_folder_id</code> string. If you right-click on the folder and select **Share...** and then click **Get shareable link**, you will see something like:\n",
    "\n",
    "https://drive.google.com/drive/folders/1syfUx6jukbW1CWIEy8xoM9veGGr5MBUx?usp=sharing\n",
    "\n",
    "It's that **1syfUx6jukbW1CWIEy8xoM9veGGr5MBUx** that you need to copy."
   ]
  },
  {
   "cell_type": "code",
   "execution_count": null,
   "metadata": {},
   "outputs": [],
   "source": [
    "\n",
    "from pydrive.drive import GoogleDrive\n",
    "\n",
    "# Create GoogleDrive instance with authenticated GoogleAuth instance\n",
    "drive = GoogleDrive(gauth)\n",
    "\n",
    "# ID of the \"Reading Material\" folder\n",
    "tgt_folder_id = '1syfUx6jukbW1CWIEy8xoM9veGGr5MBUh'"
   ]
  },
  {
   "cell_type": "markdown",
   "metadata": {},
   "source": [
    "\n",
    "Next, we will upload all the mp3s in our download folder."
   ]
  },
  {
   "cell_type": "code",
   "execution_count": null,
   "metadata": {},
   "outputs": [],
   "source": [
    "\n",
    "import os\n",
    "\n",
    "# Upload all mp3s from the Downloads folder to Google Drive's \"Reading Material\" folder\n",
    "gfile_dict = {}\n",
    "for subdir, dirs, files in os.walk(downloads_folder):\n",
    "    for src_file in files:\n",
    "        if src_file.endswith('.mp3'):\n",
    "            src_path = os.path.join(subdir, src_file)\n",
    "            title = '-'.join(src_file.split('-')[:-1]) + '.mp3'\n",
    "            gfile_dict[src_file] = drive.CreateFile({'title':title, 'mimeType':'audio/mp3',\n",
    "                                                     'parents': [{'kind': 'drive#fileLink',\n",
    "                                                                  'id': tgt_folder_id}]})\n",
    "\n",
    "            # Read mp3 file and set it as a content of this instance\n",
    "            gfile_dict[src_file].SetContentFile(src_path)\n",
    "            \n",
    "            # Upload the file\n",
    "            try:\n",
    "                gfile_dict[src_file].Upload()\n",
    "                print('Uploaded %s (%s)' % (gfile_dict[src_file]['title'],\n",
    "                                            gfile_dict[src_file]['mimeType']))\n",
    "            except Exception as e:\n",
    "                print('Upload failed for %s (%s): %s' % (gfile_dict[src_file]['title'],\n",
    "                                                         gfile_dict[src_file]['mimeType'], e))\n",
    "print('Upload completed.')"
   ]
  },
  {
   "cell_type": "markdown",
   "metadata": {},
   "source": [
    "\n",
    "Download the mp3s to <a href='http://www.voicedream.com/support/user-manual/#file'>Voice Dream</a> before you run the trash cell (below)."
   ]
  },
  {
   "cell_type": "code",
   "execution_count": null,
   "metadata": {},
   "outputs": [],
   "source": [
    "\n",
    "import os\n",
    "\n",
    "# Trash all mp3s from Google Drive's \"Reading Material\" folder\n",
    "for src_file in gfile_dict.keys():\n",
    "\n",
    "    # Trash mp3 file\n",
    "    try:\n",
    "        gfile_dict[src_file].Trash()\n",
    "        print('Trashed %s (%s)' % (gfile_dict[src_file]['title'],\n",
    "                                   gfile_dict[src_file]['mimeType']))\n",
    "    except Exception as e:\n",
    "        print('Trash failed for %s (%s): %s' % (gfile_dict[src_file]['title'],\n",
    "                                                gfile_dict[src_file]['mimeType'], e))\n",
    "    \n",
    "print('Trashing completed.')"
   ]
  },
  {
   "cell_type": "markdown",
   "metadata": {},
   "source": [
    "\n",
    "Lastly, we run the code that will delete all the mp3s out of our downloads folder."
   ]
  },
  {
   "cell_type": "code",
   "execution_count": null,
   "metadata": {},
   "outputs": [],
   "source": [
    "\n",
    "import os\n",
    "\n",
    "# Delete all mp3s in the Downloads folder\n",
    "for src_file in gfile_dict.keys():\n",
    "    src_path = os.path.join(downloads_folder, src_file)\n",
    "\n",
    "    # Delete the file\n",
    "    try:\n",
    "        os.remove(src_path)\n",
    "        print('Deleted %s (%s)' % (src_file,\n",
    "                                   gfile_dict[src_file]['mimeType']))\n",
    "    except Exception as e:\n",
    "        print('Failed to delete %s (%s): %s' % (src_file,\n",
    "                                                gfile_dict[src_file]['mimeType'], e))\n",
    "print('Deleting completed.')"
   ]
  },
  {
   "cell_type": "markdown",
   "metadata": {},
   "source": [
    "\n",
    "If you open the downloads folder with the code below you can see that the deletion is complete."
   ]
  },
  {
   "cell_type": "code",
   "execution_count": null,
   "metadata": {},
   "outputs": [],
   "source": [
    "\n",
    "!start %windir%\\explorer.exe \"{os.path.abspath(downloads_folder)}\""
   ]
  },
  {
   "cell_type": "code",
   "execution_count": null,
   "metadata": {},
   "outputs": [],
   "source": [
    "\n",
    "from IPython.display import HTML\n",
    "\n",
    "rm_url = 'https://drive.google.com/drive/u/0/folders/{}'.format(tgt_folder_id)\n",
    "message_str = 'open up your Google Drive target folder'\n",
    "rm_link = '<a href=\"{}\" target=\"_blank\">{}</a>'.format(rm_url, message_str)\n",
    "message_str = 'If you want to, you can run the code below to {} and'.format(rm_link)\n",
    "message_str += ' check if everything got deleted.'\n",
    "HTML(message_str)"
   ]
  },
  {
   "cell_type": "code",
   "execution_count": null,
   "metadata": {},
   "outputs": [],
   "source": [
    "\n",
    "!\"C:\\Program Files (x86)\\Google\\Chrome\\Application\\chrome.exe\" {rm_url}"
   ]
  },
  {
   "cell_type": "code",
   "execution_count": null,
   "metadata": {},
   "outputs": [],
   "source": []
  }
 ],
 "metadata": {
  "anaconda-cloud": {},
  "kernelspec": {
   "display_name": "Python 3",
   "language": "python",
   "name": "python3"
  },
  "language_info": {
   "codemirror_mode": {
    "name": "ipython",
    "version": 3
   },
   "file_extension": ".py",
   "mimetype": "text/x-python",
   "name": "python",
   "nbconvert_exporter": "python",
   "pygments_lexer": "ipython3",
   "version": "3.6.8"
  }
 },
 "nbformat": 4,
 "nbformat_minor": 2
}
