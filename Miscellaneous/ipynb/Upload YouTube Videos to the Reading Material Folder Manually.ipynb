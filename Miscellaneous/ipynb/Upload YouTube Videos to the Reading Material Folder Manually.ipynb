{
 "cells": [
  {
   "cell_type": "markdown",
   "metadata": {},
   "source": [
    "\n",
    "## Upload YouTube Videos to the Reading Material Folder Manually"
   ]
  },
  {
   "cell_type": "markdown",
   "metadata": {},
   "source": [
    "\n",
    "In this notebook, we will take URLs of videos, convert them to mp3s, upload them to Google Drive, trash them, and delete them."
   ]
  },
  {
   "cell_type": "markdown",
   "metadata": {},
   "source": [
    "\n",
    "We will start by ensuring that all the necessary python libraries are installed."
   ]
  },
  {
   "cell_type": "code",
   "execution_count": null,
   "metadata": {},
   "outputs": [],
   "source": [
    "\n",
    "import sys\n",
    "\n",
    "print('conda update --all --yes --prefix \"{}\"'.format(sys.prefix))"
   ]
  },
  {
   "cell_type": "code",
   "execution_count": null,
   "metadata": {},
   "outputs": [],
   "source": [
    "\n",
    "import sys\n",
    "\n",
    "# youtube-dl-2019.8.2\n",
    "!{sys.executable} -m pip install --upgrade youtube_dl"
   ]
  },
  {
   "cell_type": "code",
   "execution_count": null,
   "metadata": {},
   "outputs": [],
   "source": [
    "\n",
    "import os\n",
    "\n",
    "# https://github.com/ytdl-org/youtube-dl/issues/20758\n",
    "# Just replaced 'token' to 'account_playback_token' in line 1674 of extractor/youtube.py\n",
    "# All seems to work.\n",
    "text_editor_path = r'C:\\Program Files\\Notepad++\\notepad++.exe'\n",
    "#text_editor_path = r'C:\\Program Files\\Sublime Text 3\\sublime_text.exe'\n",
    "for sub_dir, dirs_list, files_list in os.walk(r'{}\\Lib\\site-packages\\youtube_dl'.format(sys.prefix)):\n",
    "    for file_name in files_list:\n",
    "        if 'youtube.py' == file_name:\n",
    "            file_path = os.path.join(sub_dir, file_name)\n",
    "            print(file_path)\n",
    "!\"{text_editor_path}\" \"{file_path}\""
   ]
  },
  {
   "cell_type": "code",
   "execution_count": null,
   "metadata": {},
   "outputs": [],
   "source": [
    "\n",
    "!youtube-dl --version"
   ]
  },
  {
   "cell_type": "code",
   "execution_count": null,
   "metadata": {},
   "outputs": [],
   "source": [
    "\n",
    "!{sys.executable} -m pip install --upgrade PyDrive"
   ]
  },
  {
   "cell_type": "markdown",
   "metadata": {},
   "source": [
    "\n",
    "Next, we will prove to ourselves that we have ffmpeg correctly installed."
   ]
  },
  {
   "cell_type": "code",
   "execution_count": null,
   "metadata": {},
   "outputs": [],
   "source": [
    "\n",
    "# https://github.com/adaptlearning/adapt_authoring/wiki/Installing-FFmpeg\n",
    "!ffmpeg -version"
   ]
  },
  {
   "cell_type": "markdown",
   "metadata": {},
   "source": [
    "\n",
    "Performing authentication with Google Drive requires we keep our client id and consumer secret in a json file. Keep your secrets off the internet!"
   ]
  },
  {
   "cell_type": "code",
   "execution_count": null,
   "metadata": {},
   "outputs": [],
   "source": [
    "\n",
    "!start %windir%\\explorer.exe \"C:\\Users\\dev\\Documents\\repositories\\notebooks\\Miscellaneous\\json\""
   ]
  },
  {
   "cell_type": "markdown",
   "metadata": {},
   "source": [
    "\n",
    "We also make sure line 286 of pydrive's files.py file reads <code>self.content.close()</code> before we run the trash cell."
   ]
  },
  {
   "cell_type": "code",
   "execution_count": null,
   "metadata": {},
   "outputs": [],
   "source": [
    "\n",
    "import sys\n",
    "\n",
    "file_path = r'{}\\Lib\\site-packages\\pydrive\\files.py'.format(sys.prefix)\n",
    "!\"{text_editor_path}\" \"{file_path}\""
   ]
  },
  {
   "cell_type": "markdown",
   "metadata": {},
   "source": [
    "\n",
    "Before we start the download process, let's go over setting a few variables:\n",
    "\n",
    "* **The downloads folder:** This is where all the messy work will be done. All mp3 files and any intermediate files will be deleted out of this folder by the end.\n",
    "* **The URL list:** This is where we place our YouTube video URLs. It doesn't matter if you remove the <code>time_continue=</code> parameter in the URL, the mp3 will just start at zero seconds anyway.\n",
    "* **The target folder ID:** This is the folder in Google Drive where our uploads will end up."
   ]
  },
  {
   "cell_type": "code",
   "execution_count": null,
   "metadata": {},
   "outputs": [],
   "source": [
    "\n",
    "from bs4 import BeautifulSoup as bs\n",
    "import re\n",
    "import requests\n",
    "\n",
    "site_url = 'https://www.youtube.com/'\n",
    "youtube_css = '#items'\n",
    "site_page = requests.get(url=site_url)\n",
    "site_html = site_page.content\n",
    "site_soup = bs(site_html, 'lxml')\n",
    "site_soup.select(youtube_css)"
   ]
  },
  {
   "cell_type": "code",
   "execution_count": 13,
   "metadata": {},
   "outputs": [],
   "source": [
    "\n",
    "import youtube_dl\n",
    "\n",
    "downloads_folder = r'C:\\Users\\577342\\Downloads'\n",
    "youtube_url_list = ['https://www.youtube.com/watch?v=YjZ4AZ7hRM0', 'https://www.youtube.com/watch?v=nyX6qL66vos']"
   ]
  },
  {
   "cell_type": "markdown",
   "metadata": {},
   "source": [
    "Now we are ready to start the download process by running <code>youtube_dl</code> on our <code>youtube_url_list</code>."
   ]
  },
  {
   "cell_type": "code",
   "execution_count": 14,
   "metadata": {
    "scrolled": false
   },
   "outputs": [
    {
     "name": "stderr",
     "output_type": "stream",
     "text": [
      "[debug] Encodings: locale cp1252, fs utf-8, out UTF-8, pref cp1252\n",
      "[debug] youtube-dl version 2019.08.13\n",
      "[debug] Python version 3.6.8 (CPython) - Windows-10-10.0.17763-SP0\n",
      "[debug] exe versions: avconv v13_dev0-1440-g34c1133, avprobe v13_dev0-1440-g34c1133, ffmpeg 4.1.4, ffprobe 4.1.4, phantomjs 2.1.1\n",
      "[debug] Proxy map: {}\n"
     ]
    },
    {
     "name": "stdout",
     "output_type": "stream",
     "text": [
      "[youtube] YjZ4AZ7hRM0: Downloading webpage\n",
      "[youtube] YjZ4AZ7hRM0: Downloading video info webpage\n",
      "[debug] Invoking downloader on 'https://r4---sn-p5qs7ner.googlevideo.com/videoplayback?expire=1576102327&ei=VxXxXYGQOMGair4Pva-c-Ak&ip=2600%3A6c64%3A657f%3Af499%3A0%3Aab34%3A2e17%3A2a78&id=o-ADfLFywNpZQUsPOdovBD_xkvHBufuSZoRD_zXcdVkX4b&itag=251&source=youtube&requiressl=yes&mm=31%2C26&mn=sn-p5qs7ner%2Csn-vgqs7nlr&ms=au%2Conr&mv=m&mvi=3&pl=32&initcwndbps=2088750&mime=audio%2Fwebm&gir=yes&clen=40500077&dur=2473.181&lmt=1574535407267008&mt=1576080642&fvip=4&keepalive=yes&fexp=23842630&c=WEB&txp=5301222&sparams=expire%2Cei%2Cip%2Cid%2Citag%2Csource%2Crequiressl%2Cmime%2Cgir%2Cclen%2Cdur%2Clmt&sig=ALgxI2wwRAIgD-6dbRi3Bl1Xw5OnlQEnN18D-k_XvLxmtKlylnvdLTICIEPt2ZybvyAPQcwpCgcsPavNDql2yrK1zOz7f-8NUK01&lsparams=mm%2Cmn%2Cms%2Cmv%2Cmvi%2Cpl%2Cinitcwndbps&lsig=AHylml4wRQIgarKAILoOehUXsZkCaS5jG5wiO9dktATsdtzj1yNPwVQCIQC6esWBTsh_R3FUnv2UFFpUNccHW0bb_zIOYvok-5qsTQ%3D%3D&ratebypass=yes'\n",
      "[download] Destination: C:\\Users\\577342\\Downloads\\How the Department of Defense Moved to Kubernetes and Istio - Nicolas Chaillan-YjZ4AZ7hRM0.webm\n",
      "[download] 100% of 38.62MiB in 00:10                   \n",
      "[debug] ffmpeg command line: ffprobe -show_streams \"file:C:\\Users\\577342\\Downloads\\How the Department of Defense Moved to Kubernetes and Istio - Nicolas Chaillan-YjZ4AZ7hRM0.webm\"\n",
      "[ffmpeg] Destination: C:\\Users\\577342\\Downloads\\How the Department of Defense Moved to Kubernetes and Istio - Nicolas Chaillan-YjZ4AZ7hRM0.mp3\n",
      "[debug] ffmpeg command line: ffmpeg -y -loglevel \"repeat+info\" -i \"file:C:\\Users\\577342\\Downloads\\How the Department of Defense Moved to Kubernetes and Istio - Nicolas Chaillan-YjZ4AZ7hRM0.webm\" -vn -acodec libmp3lame \"-b:a\" 192k \"file:C:\\Users\\577342\\Downloads\\How the Department of Defense Moved to Kubernetes and Istio - Nicolas Chaillan-YjZ4AZ7hRM0.mp3\"\n",
      "Deleting original file C:\\Users\\577342\\Downloads\\How the Department of Defense Moved to Kubernetes and Istio - Nicolas Chaillan-YjZ4AZ7hRM0.webm (pass -k to keep)\n",
      "[youtube] nyX6qL66vos: Downloading webpage\n",
      "[youtube] nyX6qL66vos: Downloading video info webpage\n",
      "[debug] Invoking downloader on 'https://r4---sn-p5qs7nes.googlevideo.com/videoplayback?expire=1576102526&ei=HhbxXcvUKJOSiwSlnIfwDQ&ip=2600%3A6c64%3A657f%3Af499%3A0%3Aab34%3A2e17%3A2a78&id=o-AEdiiCX2M0rfW3TJ7I1XKijUiSbhMZqdX9s2Ocju1jzi&itag=251&source=youtube&requiressl=yes&mm=31%2C26&mn=sn-p5qs7nes%2Csn-vgqsknls&ms=au%2Conr&mv=m&mvi=3&pl=32&initcwndbps=2007500&mime=audio%2Fwebm&gir=yes&clen=4574791&dur=295.121&lmt=1574217472841933&mt=1576080838&fvip=4&keepalive=yes&fexp=23842630&c=WEB&txp=2201222&sparams=expire%2Cei%2Cip%2Cid%2Citag%2Csource%2Crequiressl%2Cmime%2Cgir%2Cclen%2Cdur%2Clmt&sig=ALgxI2wwRQIgLu45EfdkfmDEPU7ifscTh3nkl8dF1ia9yo7upNh6RWECIQDu2Y9LcLJ17ssj7oGL_ZTNwS4viAqjpgjFpRlxTWAzMw%3D%3D&lsparams=mm%2Cmn%2Cms%2Cmv%2Cmvi%2Cpl%2Cinitcwndbps&lsig=AHylml4wRgIhAL5ibzJT1E5WhH9UD0bRRN1AK371QJNUPzGTnYbWdKXkAiEAgVjpgAsLidTsLdZLRaDx2HxpTb_gh6e2m_wYBlsVpOg%3D&ratebypass=yes'\n",
      "[download] Destination: C:\\Users\\577342\\Downloads\\Sponsored Keynote - Bringing Confidential Computing to Kubernetes - Lachlan Evenson, Microsoft Azure-nyX6qL66vos.webm\n",
      "[download] 100% of 4.36MiB in 00:01                  \n",
      "[debug] ffmpeg command line: ffprobe -show_streams \"file:C:\\Users\\577342\\Downloads\\Sponsored Keynote - Bringing Confidential Computing to Kubernetes - Lachlan Evenson, Microsoft Azure-nyX6qL66vos.webm\"\n",
      "[ffmpeg] Destination: C:\\Users\\577342\\Downloads\\Sponsored Keynote - Bringing Confidential Computing to Kubernetes - Lachlan Evenson, Microsoft Azure-nyX6qL66vos.mp3\n",
      "[debug] ffmpeg command line: ffmpeg -y -loglevel \"repeat+info\" -i \"file:C:\\Users\\577342\\Downloads\\Sponsored Keynote - Bringing Confidential Computing to Kubernetes - Lachlan Evenson, Microsoft Azure-nyX6qL66vos.webm\" -vn -acodec libmp3lame \"-b:a\" 192k \"file:C:\\Users\\577342\\Downloads\\Sponsored Keynote - Bringing Confidential Computing to Kubernetes - Lachlan Evenson, Microsoft Azure-nyX6qL66vos.mp3\"\n",
      "Deleting original file C:\\Users\\577342\\Downloads\\Sponsored Keynote - Bringing Confidential Computing to Kubernetes - Lachlan Evenson, Microsoft Azure-nyX6qL66vos.webm (pass -k to keep)\n",
      "0\n",
      "Conversion completed.\n"
     ]
    }
   ],
   "source": [
    "\n",
    "import os\n",
    "ydl_opts = {\n",
    "    'format': 'bestaudio/best',\n",
    "    'nocheckcertificate': False,\n",
    "    'outtmpl': os.path.join(downloads_folder, youtube_dl.DEFAULT_OUTTMPL),\n",
    "    'postprocessors': [{'key': 'FFmpegExtractAudio',\n",
    "                       'preferredcodec': 'mp3',\n",
    "                       'preferredquality': '192'}],\n",
    "    'verbose': True,\n",
    "    }\n",
    "with youtube_dl.YoutubeDL(ydl_opts) as ydl:\n",
    "    for url in youtube_url_list:\n",
    "        try:\n",
    "            # It also downloads the videos\n",
    "            res = ydl.extract_info(url,\n",
    "                                   force_generic_extractor=ydl.params.get('force_generic_extractor',\n",
    "                                                                          False))\n",
    "        except Exception as e:\n",
    "            print()\n",
    "            print('####################################################')\n",
    "            print(e)\n",
    "            print('####################################################')\n",
    "            print()\n",
    "\n",
    "    print(ydl._download_retcode)\n",
    "print('Conversion completed.')"
   ]
  },
  {
   "cell_type": "code",
   "execution_count": 15,
   "metadata": {},
   "outputs": [],
   "source": [
    "\n",
    "!start %windir%\\explorer.exe \"{os.path.abspath(downloads_folder)}\""
   ]
  },
  {
   "cell_type": "code",
   "execution_count": 16,
   "metadata": {},
   "outputs": [],
   "source": [
    "\n",
    "import re\n",
    "\n",
    "files_list = os.listdir(downloads_folder)\n",
    "for file_name in files_list:\n",
    "    if file_name.endswith('.mp3'):\n",
    "        src_path = os.path.join(downloads_folder, file_name)\n",
    "        file_name = re.sub(r'-[A-Z0-9a-z-_]{11}\\.mp3', '.mp3', file_name)\n",
    "        dst_path = os.path.join(downloads_folder, file_name)\n",
    "        os.rename(src_path, dst_path)"
   ]
  },
  {
   "cell_type": "code",
   "execution_count": 17,
   "metadata": {},
   "outputs": [],
   "source": [
    "\n",
    "# ID of the \"Reading Material\" folder\n",
    "tgt_folder_id = '1syfUx6jukbW1CWIEy8xoM9veGGr5MBUh'\n",
    "rm_url = 'https://drive.google.com/drive/u/0/folders/{}'.format(tgt_folder_id)\n",
    "!\"C:\\Program Files (x86)\\Google\\Chrome\\Application\\chrome.exe\" {rm_url}"
   ]
  },
  {
   "cell_type": "markdown",
   "metadata": {},
   "source": [
    "\n",
    "Next, we authenticate with Google by running the builtin web server conveniently provided."
   ]
  },
  {
   "cell_type": "code",
   "execution_count": null,
   "metadata": {},
   "outputs": [
    {
     "name": "stdout",
     "output_type": "stream",
     "text": [
      "Your browser has been opened to visit:\n",
      "\n",
      "    https://accounts.google.com/o/oauth2/auth?client_id=493273913470-37renji2vm668dqbm141l7u5rphmi4ie.apps.googleusercontent.com&redirect_uri=http%3A%2F%2Flocalhost%3A8080%2F&scope=https%3A%2F%2Fwww.googleapis.com%2Fauth%2Fdrive&access_type=offline&response_type=code\n",
      "\n"
     ]
    }
   ],
   "source": [
    "\n",
    "from pydrive.auth import GoogleAuth\n",
    "\n",
    "# The URL that gets displayed here is not suitable for public consumption\n",
    "GoogleAuth.DEFAULT_SETTINGS['client_config_file'] = r'../json/client_secret.json'\n",
    "gauth = GoogleAuth()\n",
    "gauth.LocalWebserverAuth()"
   ]
  },
  {
   "cell_type": "markdown",
   "metadata": {},
   "source": [
    "\n",
    "Before you run the next cell, in the online web page of Google Drive, bring up the share dialog box of the folder you are uploading to and copy its folder id into the <code>tgt_folder_id</code> string. If you right-click on the folder and select **Share...** and then click **Get shareable link**, you will see something like:\n",
    "\n",
    "https://drive.google.com/drive/folders/1syfUx6jukbW1CWIEy8xoM9veGGr5MBUx?usp=sharing\n",
    "\n",
    "It's that **1syfUx6jukbW1CWIEy8xoM9veGGr5MBUx** that you need to copy."
   ]
  },
  {
   "cell_type": "code",
   "execution_count": null,
   "metadata": {},
   "outputs": [],
   "source": [
    "\n",
    "from pydrive.drive import GoogleDrive\n",
    "\n",
    "# Create GoogleDrive instance with authenticated GoogleAuth instance\n",
    "drive = GoogleDrive(gauth)\n",
    "\n",
    "# ID of the \"Reading Material\" folder\n",
    "tgt_folder_id = '1syfUx6jukbW1CWIEy8xoM9veGGr5MBUh'"
   ]
  },
  {
   "cell_type": "markdown",
   "metadata": {},
   "source": [
    "\n",
    "Next, we will upload all the mp3s in our download folder."
   ]
  },
  {
   "cell_type": "code",
   "execution_count": null,
   "metadata": {},
   "outputs": [],
   "source": [
    "\n",
    "import os\n",
    "\n",
    "# Upload all mp3s from the Downloads folder to Google Drive's \"Reading Material\" folder\n",
    "gfile_dict = {}\n",
    "for subdir, dirs, files in os.walk(downloads_folder):\n",
    "    for src_file in files:\n",
    "        if src_file.endswith('.mp3'):\n",
    "            src_path = os.path.join(subdir, src_file)\n",
    "            title = '-'.join(src_file.split('-')[:-1]) + '.mp3'\n",
    "            gfile_dict[src_file] = drive.CreateFile({'title':title, 'mimeType':'audio/mp3',\n",
    "                                                     'parents': [{'kind': 'drive#fileLink',\n",
    "                                                                  'id': tgt_folder_id}]})\n",
    "\n",
    "            # Read mp3 file and set it as a content of this instance\n",
    "            gfile_dict[src_file].SetContentFile(src_path)\n",
    "            \n",
    "            # Upload the file\n",
    "            try:\n",
    "                gfile_dict[src_file].Upload()\n",
    "                print('Uploaded %s (%s)' % (gfile_dict[src_file]['title'],\n",
    "                                            gfile_dict[src_file]['mimeType']))\n",
    "            except Exception as e:\n",
    "                print('Upload failed for %s (%s): %s' % (gfile_dict[src_file]['title'],\n",
    "                                                         gfile_dict[src_file]['mimeType'], e))\n",
    "print('Upload completed.')"
   ]
  },
  {
   "cell_type": "markdown",
   "metadata": {},
   "source": [
    "\n",
    "Download the mp3s to <a href='http://www.voicedream.com/support/user-manual/#file'>Voice Dream</a> before you run the trash cell (below)."
   ]
  },
  {
   "cell_type": "code",
   "execution_count": null,
   "metadata": {},
   "outputs": [],
   "source": [
    "\n",
    "import os\n",
    "\n",
    "# Trash all mp3s from Google Drive's \"Reading Material\" folder\n",
    "for src_file in gfile_dict.keys():\n",
    "\n",
    "    # Trash mp3 file\n",
    "    try:\n",
    "        gfile_dict[src_file].Trash()\n",
    "        print('Trashed %s (%s)' % (gfile_dict[src_file]['title'],\n",
    "                                   gfile_dict[src_file]['mimeType']))\n",
    "    except Exception as e:\n",
    "        print('Trash failed for %s (%s): %s' % (gfile_dict[src_file]['title'],\n",
    "                                                gfile_dict[src_file]['mimeType'], e))\n",
    "    \n",
    "print('Trashing completed.')"
   ]
  },
  {
   "cell_type": "markdown",
   "metadata": {},
   "source": [
    "\n",
    "Lastly, we run the code that will delete all the mp3s out of our downloads folder."
   ]
  },
  {
   "cell_type": "code",
   "execution_count": 6,
   "metadata": {},
   "outputs": [
    {
     "ename": "NameError",
     "evalue": "name 'gfile_dict' is not defined",
     "output_type": "error",
     "traceback": [
      "\u001b[1;31m---------------------------------------------------------------------------\u001b[0m",
      "\u001b[1;31mNameError\u001b[0m                                 Traceback (most recent call last)",
      "\u001b[1;32m<ipython-input-6-65c60fb1774b>\u001b[0m in \u001b[0;36m<module>\u001b[1;34m\u001b[0m\n\u001b[0;32m      3\u001b[0m \u001b[1;33m\u001b[0m\u001b[0m\n\u001b[0;32m      4\u001b[0m \u001b[1;31m# Delete all mp3s in the Downloads folder\u001b[0m\u001b[1;33m\u001b[0m\u001b[1;33m\u001b[0m\u001b[1;33m\u001b[0m\u001b[0m\n\u001b[1;32m----> 5\u001b[1;33m \u001b[1;32mfor\u001b[0m \u001b[0msrc_file\u001b[0m \u001b[1;32min\u001b[0m \u001b[0mgfile_dict\u001b[0m\u001b[1;33m.\u001b[0m\u001b[0mkeys\u001b[0m\u001b[1;33m(\u001b[0m\u001b[1;33m)\u001b[0m\u001b[1;33m:\u001b[0m\u001b[1;33m\u001b[0m\u001b[1;33m\u001b[0m\u001b[0m\n\u001b[0m\u001b[0;32m      6\u001b[0m     \u001b[0msrc_path\u001b[0m \u001b[1;33m=\u001b[0m \u001b[0mos\u001b[0m\u001b[1;33m.\u001b[0m\u001b[0mpath\u001b[0m\u001b[1;33m.\u001b[0m\u001b[0mjoin\u001b[0m\u001b[1;33m(\u001b[0m\u001b[0mdownloads_folder\u001b[0m\u001b[1;33m,\u001b[0m \u001b[0msrc_file\u001b[0m\u001b[1;33m)\u001b[0m\u001b[1;33m\u001b[0m\u001b[1;33m\u001b[0m\u001b[0m\n\u001b[0;32m      7\u001b[0m \u001b[1;33m\u001b[0m\u001b[0m\n",
      "\u001b[1;31mNameError\u001b[0m: name 'gfile_dict' is not defined"
     ]
    }
   ],
   "source": [
    "\n",
    "import os\n",
    "\n",
    "# Delete all mp3s in the Downloads folder\n",
    "for src_file in gfile_dict.keys():\n",
    "    src_path = os.path.join(downloads_folder, src_file)\n",
    "\n",
    "    # Delete the file\n",
    "    try:\n",
    "        os.remove(src_path)\n",
    "        print('Deleted %s (%s)' % (src_file,\n",
    "                                   gfile_dict[src_file]['mimeType']))\n",
    "    except Exception as e:\n",
    "        print('Failed to delete %s (%s): %s' % (src_file,\n",
    "                                                gfile_dict[src_file]['mimeType'], e))\n",
    "print('Deleting completed.')"
   ]
  },
  {
   "cell_type": "markdown",
   "metadata": {},
   "source": [
    "\n",
    "If you open the downloads folder with the code below you can see that the deletion is complete."
   ]
  },
  {
   "cell_type": "code",
   "execution_count": 6,
   "metadata": {},
   "outputs": [],
   "source": [
    "\n",
    "!start %windir%\\explorer.exe \"{os.path.abspath(downloads_folder)}\""
   ]
  },
  {
   "cell_type": "code",
   "execution_count": 4,
   "metadata": {},
   "outputs": [
    {
     "ename": "NameError",
     "evalue": "name 'tgt_folder_id' is not defined",
     "output_type": "error",
     "traceback": [
      "\u001b[1;31m---------------------------------------------------------------------------\u001b[0m",
      "\u001b[1;31mNameError\u001b[0m                                 Traceback (most recent call last)",
      "\u001b[1;32m<ipython-input-4-563d4c2c1518>\u001b[0m in \u001b[0;36m<module>\u001b[1;34m\u001b[0m\n\u001b[0;32m      2\u001b[0m \u001b[1;32mfrom\u001b[0m \u001b[0mIPython\u001b[0m\u001b[1;33m.\u001b[0m\u001b[0mdisplay\u001b[0m \u001b[1;32mimport\u001b[0m \u001b[0mHTML\u001b[0m\u001b[1;33m\u001b[0m\u001b[1;33m\u001b[0m\u001b[0m\n\u001b[0;32m      3\u001b[0m \u001b[1;33m\u001b[0m\u001b[0m\n\u001b[1;32m----> 4\u001b[1;33m \u001b[0mrm_url\u001b[0m \u001b[1;33m=\u001b[0m \u001b[1;34m'https://drive.google.com/drive/u/0/folders/{}'\u001b[0m\u001b[1;33m.\u001b[0m\u001b[0mformat\u001b[0m\u001b[1;33m(\u001b[0m\u001b[0mtgt_folder_id\u001b[0m\u001b[1;33m)\u001b[0m\u001b[1;33m\u001b[0m\u001b[1;33m\u001b[0m\u001b[0m\n\u001b[0m\u001b[0;32m      5\u001b[0m \u001b[0mmessage_str\u001b[0m \u001b[1;33m=\u001b[0m \u001b[1;34m'open up your Google Drive target folder'\u001b[0m\u001b[1;33m\u001b[0m\u001b[1;33m\u001b[0m\u001b[0m\n\u001b[0;32m      6\u001b[0m \u001b[0mrm_link\u001b[0m \u001b[1;33m=\u001b[0m \u001b[1;34m'<a href=\"{}\" target=\"_blank\">{}</a>'\u001b[0m\u001b[1;33m.\u001b[0m\u001b[0mformat\u001b[0m\u001b[1;33m(\u001b[0m\u001b[0mrm_url\u001b[0m\u001b[1;33m,\u001b[0m \u001b[0mmessage_str\u001b[0m\u001b[1;33m)\u001b[0m\u001b[1;33m\u001b[0m\u001b[1;33m\u001b[0m\u001b[0m\n",
      "\u001b[1;31mNameError\u001b[0m: name 'tgt_folder_id' is not defined"
     ]
    }
   ],
   "source": [
    "\n",
    "from IPython.display import HTML\n",
    "\n",
    "rm_url = 'https://drive.google.com/drive/u/0/folders/{}'.format(tgt_folder_id)\n",
    "message_str = 'open up your Google Drive target folder'\n",
    "rm_link = '<a href=\"{}\" target=\"_blank\">{}</a>'.format(rm_url, message_str)\n",
    "message_str = 'If you want to, you can run the code below to {} and'.format(rm_link)\n",
    "message_str += ' check if everything got deleted.'\n",
    "HTML(message_str)"
   ]
  },
  {
   "cell_type": "code",
   "execution_count": null,
   "metadata": {},
   "outputs": [],
   "source": [
    "\n",
    "!\"C:\\Program Files (x86)\\Google\\Chrome\\Application\\chrome.exe\" {rm_url}"
   ]
  },
  {
   "cell_type": "code",
   "execution_count": null,
   "metadata": {},
   "outputs": [],
   "source": []
  }
 ],
 "metadata": {
  "anaconda-cloud": {},
  "kernelspec": {
   "display_name": "Python 3",
   "language": "python",
   "name": "python3"
  },
  "language_info": {
   "codemirror_mode": {
    "name": "ipython",
    "version": 3
   },
   "file_extension": ".py",
   "mimetype": "text/x-python",
   "name": "python",
   "nbconvert_exporter": "python",
   "pygments_lexer": "ipython3",
   "version": "3.6.8"
  }
 },
 "nbformat": 4,
 "nbformat_minor": 2
}
