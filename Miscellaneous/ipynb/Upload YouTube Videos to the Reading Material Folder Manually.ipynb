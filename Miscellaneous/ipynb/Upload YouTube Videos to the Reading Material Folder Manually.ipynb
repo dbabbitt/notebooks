{
 "cells": [
  {
   "cell_type": "markdown",
   "metadata": {},
   "source": [
    "\n",
    "## Upload YouTube Videos to the Reading Material Folder Manually"
   ]
  },
  {
   "cell_type": "markdown",
   "metadata": {},
   "source": [
    "\n",
    "In this notebook, we will take URLs of videos, convert them to mp3s, upload them to Google Drive, trash them, and delete them."
   ]
  },
  {
   "cell_type": "markdown",
   "metadata": {},
   "source": [
    "\n",
    "We will start by ensuring that all the necessary python libraries are installed."
   ]
  },
  {
   "cell_type": "code",
   "execution_count": null,
   "metadata": {},
   "outputs": [],
   "source": [
    "\n",
    "import sys\n",
    "\n",
    "print('conda update --all --yes --prefix \"{}\"'.format(sys.prefix))"
   ]
  },
  {
   "cell_type": "code",
   "execution_count": null,
   "metadata": {},
   "outputs": [],
   "source": [
    "\n",
    "import sys\n",
    "\n",
    "# youtube-dl-2019.8.2\n",
    "!{sys.executable} -m pip install --upgrade youtube_dl"
   ]
  },
  {
   "cell_type": "code",
   "execution_count": null,
   "metadata": {},
   "outputs": [],
   "source": [
    "\n",
    "import os\n",
    "\n",
    "# https://github.com/ytdl-org/youtube-dl/issues/20758\n",
    "# Just replaced 'token' to 'account_playback_token' in line 1674 of extractor/youtube.py\n",
    "# All seems to work.\n",
    "text_editor_path = r'C:\\Program Files\\Notepad++\\notepad++.exe'\n",
    "#text_editor_path = r'C:\\Program Files\\Sublime Text 3\\sublime_text.exe'\n",
    "for sub_dir, dirs_list, files_list in os.walk(r'{}\\Lib\\site-packages\\youtube_dl'.format(sys.prefix)):\n",
    "    for file_name in files_list:\n",
    "        if 'youtube.py' == file_name:\n",
    "            file_path = os.path.join(sub_dir, file_name)\n",
    "            print(file_path)\n",
    "!\"{text_editor_path}\" \"{file_path}\""
   ]
  },
  {
   "cell_type": "code",
   "execution_count": null,
   "metadata": {},
   "outputs": [],
   "source": [
    "\n",
    "!youtube-dl --version"
   ]
  },
  {
   "cell_type": "code",
   "execution_count": null,
   "metadata": {},
   "outputs": [],
   "source": [
    "\n",
    "!{sys.executable} -m pip install --upgrade PyDrive"
   ]
  },
  {
   "cell_type": "markdown",
   "metadata": {},
   "source": [
    "\n",
    "Next, we will prove to ourselves that we have ffmpeg correctly installed."
   ]
  },
  {
   "cell_type": "code",
   "execution_count": null,
   "metadata": {},
   "outputs": [],
   "source": [
    "\n",
    "# https://github.com/adaptlearning/adapt_authoring/wiki/Installing-FFmpeg\n",
    "!ffmpeg -version"
   ]
  },
  {
   "cell_type": "markdown",
   "metadata": {},
   "source": [
    "\n",
    "Performing authentication with Google Drive requires we keep our client id and consumer secret in a json file. Keep your secrets off the internet!"
   ]
  },
  {
   "cell_type": "code",
   "execution_count": null,
   "metadata": {},
   "outputs": [],
   "source": [
    "\n",
    "!start %windir%\\explorer.exe \"C:\\Users\\dev\\Documents\\repositories\\notebooks\\Miscellaneous\\json\""
   ]
  },
  {
   "cell_type": "markdown",
   "metadata": {},
   "source": [
    "\n",
    "We also make sure line 286 of pydrive's files.py file reads <code>self.content.close()</code> before we run the trash cell."
   ]
  },
  {
   "cell_type": "code",
   "execution_count": null,
   "metadata": {},
   "outputs": [],
   "source": [
    "\n",
    "import sys\n",
    "\n",
    "file_path = r'{}\\Lib\\site-packages\\pydrive\\files.py'.format(sys.prefix)\n",
    "!\"{text_editor_path}\" \"{file_path}\""
   ]
  },
  {
   "cell_type": "markdown",
   "metadata": {},
   "source": [
    "\n",
    "Before we start the download process, let's go over setting a few variables:\n",
    "\n",
    "* **The downloads folder:** This is where all the messy work will be done. All mp3 files and any intermediate files will be deleted out of this folder by the end.\n",
    "* **The URL list:** This is where we place our YouTube video URLs. It doesn't matter if you remove the <code>time_continue=</code> parameter in the URL, the mp3 will just start at zero seconds anyway.\n",
    "* **The target folder ID:** This is the folder in Google Drive where our uploads will end up."
   ]
  },
  {
   "cell_type": "code",
   "execution_count": null,
   "metadata": {},
   "outputs": [],
   "source": [
    "\n",
    "from bs4 import BeautifulSoup as bs\n",
    "import re\n",
    "import requests\n",
    "\n",
    "site_url = 'https://www.youtube.com/'\n",
    "youtube_css = '#items'\n",
    "site_page = requests.get(url=site_url)\n",
    "site_html = site_page.content\n",
    "site_soup = bs(site_html, 'lxml')\n",
    "site_soup.select(youtube_css)"
   ]
  },
  {
   "cell_type": "code",
   "execution_count": 1,
   "metadata": {},
   "outputs": [],
   "source": [
    "\n",
    "import youtube_dl\n",
    "\n",
    "downloads_folder = r'C:\\Users\\577342\\Downloads'\n",
    "youtube_url_list = ['https://www.youtube.com/watch?v=HXaBdAhuRE4', 'https://www.youtube.com/watch?v=53uW9Xd_JRU',\n",
    "                    'https://www.youtube.com/watch?v=6AiQNScy13Q', 'https://www.youtube.com/watch?v=ymgoem4v4u4',\n",
    "                    'https://www.youtube.com/watch?v=cTqVhcrilrE', 'https://www.youtube.com/watch?v=O_PWTmiYGvU',\n",
    "                    'https://www.youtube.com/watch?v=4mC4Tndkdv4', 'https://www.youtube.com/watch?v=cK5Npv-OdAE',\n",
    "                    'https://www.youtube.com/watch?v=nl48eFZGRq8', 'https://www.youtube.com/watch?v=-acp9Dk7Ve4',\n",
    "                    'https://www.youtube.com/watch?v=qM_kQjpAK6g', 'https://www.youtube.com/watch?v=OjELREOrtDc',\n",
    "                    'https://www.youtube.com/watch?v=AoCJXjJQwVo', 'https://www.youtube.com/watch?v=S0P6H7cm0E4',\n",
    "                    'https://www.youtube.com/watch?v=0sR1rU3gLzQ', 'https://www.youtube.com/watch?v=CZC9byuBjXA',\n",
    "                    'https://www.youtube.com/watch?v=RYPEBlcbYdI', 'https://www.youtube.com/watch?v=EUcFqb-DxOA',\n",
    "                    'https://www.youtube.com/watch?v=FZZ9rpmVCqE', 'https://www.youtube.com/watch?v=dJbUDAf8COs']"
   ]
  },
  {
   "cell_type": "markdown",
   "metadata": {},
   "source": [
    "Now we are ready to start the download process by running <code>youtube_dl</code> on our <code>youtube_url_list</code>."
   ]
  },
  {
   "cell_type": "code",
   "execution_count": 2,
   "metadata": {
    "scrolled": false
   },
   "outputs": [
    {
     "name": "stderr",
     "output_type": "stream",
     "text": [
      "[debug] Encodings: locale cp1252, fs utf-8, out UTF-8, pref cp1252\n",
      "[debug] youtube-dl version 2019.08.13\n",
      "[debug] Python version 3.6.8 (CPython) - Windows-10-10.0.17763-SP0\n",
      "[debug] exe versions: avconv v13_dev0-1440-g34c1133, avprobe v13_dev0-1440-g34c1133, ffmpeg 4.1.4, ffprobe 4.1.4, phantomjs 2.1.1\n",
      "[debug] Proxy map: {}\n"
     ]
    },
    {
     "name": "stdout",
     "output_type": "stream",
     "text": [
      "[youtube] HXaBdAhuRE4: Downloading webpage\n",
      "[youtube] HXaBdAhuRE4: Downloading video info webpage\n",
      "[debug] Invoking downloader on 'https://r4---sn-p5qs7n7s.googlevideo.com/videoplayback?expire=1574448568&ei=WNnXXdSeBq6Uir4Pytia2AQ&ip=2600%3A6c64%3A657f%3Af499%3A0%3Aca44%3A3ebc%3Af182&id=o-AD3uXsPIp9UzLdjnjkE8gw89HSYRPgM9bwIIGKIlsdM8&itag=140&source=youtube&requiressl=yes&mm=31%2C29&mn=sn-p5qs7n7s%2Csn-p5qlsnz6&ms=au%2Crdu&mv=m&mvi=3&pl=32&initcwndbps=2320000&mime=audio%2Fmp4&gir=yes&clen=35058404&dur=2166.212&lmt=1574267499312879&mt=1574426888&fvip=4&keepalive=yes&fexp=23842630&c=WEB&txp=5431432&sparams=expire%2Cei%2Cip%2Cid%2Citag%2Csource%2Crequiressl%2Cmime%2Cgir%2Cclen%2Cdur%2Clmt&sig=ALgxI2wwRgIhAJd2B0AjFEayEhxgRwzUR4zOYmhkYx5gIrMesa7Dv32NAiEA0avTFx1QrvK3LoaPgza9V_Jtw1kOY7SiXNFBvGXqorI%3D&lsparams=mm%2Cmn%2Cms%2Cmv%2Cmvi%2Cpl%2Cinitcwndbps&lsig=AHylml4wRgIhAIsuw7ABIyhWaihqo2w76nfsSL5qRfU-cFKfpFX2CvZOAiEAlrlIaMtFZ-juJjvbGBxgTSIMzp98pyj94t2MMvzKT-o%3D&ratebypass=yes'\n",
      "[download] Destination: C:\\Users\\577342\\Downloads\\Seeking Out Disagreement, Buster Benson-HXaBdAhuRE4.m4a\n",
      "[download] 100% of 33.43MiB in 00:04                  \n",
      "[ffmpeg] Correcting container in \"C:\\Users\\577342\\Downloads\\Seeking Out Disagreement, Buster Benson-HXaBdAhuRE4.m4a\"\n",
      "[debug] ffmpeg command line: ffmpeg -y -loglevel \"repeat+info\" -i \"file:C:\\Users\\577342\\Downloads\\Seeking Out Disagreement, Buster Benson-HXaBdAhuRE4.m4a\" -c copy -f mp4 \"file:C:\\Users\\577342\\Downloads\\Seeking Out Disagreement, Buster Benson-HXaBdAhuRE4.temp.m4a\"\n",
      "[debug] ffmpeg command line: ffprobe -show_streams \"file:C:\\Users\\577342\\Downloads\\Seeking Out Disagreement, Buster Benson-HXaBdAhuRE4.m4a\"\n",
      "[ffmpeg] Destination: C:\\Users\\577342\\Downloads\\Seeking Out Disagreement, Buster Benson-HXaBdAhuRE4.mp3\n",
      "[debug] ffmpeg command line: ffmpeg -y -loglevel \"repeat+info\" -i \"file:C:\\Users\\577342\\Downloads\\Seeking Out Disagreement, Buster Benson-HXaBdAhuRE4.m4a\" -vn -acodec libmp3lame \"-b:a\" 192k \"file:C:\\Users\\577342\\Downloads\\Seeking Out Disagreement, Buster Benson-HXaBdAhuRE4.mp3\"\n",
      "Deleting original file C:\\Users\\577342\\Downloads\\Seeking Out Disagreement, Buster Benson-HXaBdAhuRE4.m4a (pass -k to keep)\n",
      "[youtube] 53uW9Xd_JRU: Downloading webpage\n",
      "[youtube] 53uW9Xd_JRU: Downloading video info webpage\n",
      "[debug] Invoking downloader on 'https://r3---sn-p5qlsnz6.googlevideo.com/videoplayback?expire=1574448664&ei=uNnXXfjvHuHPigTo9KCgDw&ip=2600%3A6c64%3A657f%3Af499%3A0%3Aca44%3A3ebc%3Af182&id=o-AAL9h_TBdwnjUq8vPz-h7KqyQVo6GQJD2_Q0pmcfXR8s&itag=251&source=youtube&requiressl=yes&mm=31%2C29&mn=sn-p5qlsnz6%2Csn-p5qs7nes&ms=au%2Crdu&mv=m&mvi=2&pl=32&initcwndbps=2250000&mime=audio%2Fwebm&gir=yes&clen=80483042&dur=5450.041&lmt=1574285688307705&mt=1574427021&fvip=3&keepalive=yes&fexp=23842630&c=WEB&txp=2301222&sparams=expire%2Cei%2Cip%2Cid%2Citag%2Csource%2Crequiressl%2Cmime%2Cgir%2Cclen%2Cdur%2Clmt&sig=ALgxI2wwRAIgZqOq86q06Za5KaQBk3JWaXazdXEGVIX15yJoz-gvIHwCIDo50E4t9gl-onJ5BUx46W1YSAmJiiAcrXRenetd-p9G&lsparams=mm%2Cmn%2Cms%2Cmv%2Cmvi%2Cpl%2Cinitcwndbps&lsig=AHylml4wRQIgJlsgYaNT7lEvRuo53m8nR6tbuMCISjFEeG-4RSRjLE8CIQD2ifgaapW5Q8oCGtv9_XXP_-e9_KGEN1akPUGS5kJCTA%3D%3D&ratebypass=yes'\n",
      "[download] Destination: C:\\Users\\577342\\Downloads\\Nassim Nicholas Taleb   Lebanon - From Ponzi to Localism-53uW9Xd_JRU.webm\n",
      "[download] 100% of 76.75MiB in 00:10                  \n",
      "[debug] ffmpeg command line: ffprobe -show_streams \"file:C:\\Users\\577342\\Downloads\\Nassim Nicholas Taleb   Lebanon - From Ponzi to Localism-53uW9Xd_JRU.webm\"\n",
      "[ffmpeg] Destination: C:\\Users\\577342\\Downloads\\Nassim Nicholas Taleb   Lebanon - From Ponzi to Localism-53uW9Xd_JRU.mp3\n",
      "[debug] ffmpeg command line: ffmpeg -y -loglevel \"repeat+info\" -i \"file:C:\\Users\\577342\\Downloads\\Nassim Nicholas Taleb   Lebanon - From Ponzi to Localism-53uW9Xd_JRU.webm\" -vn -acodec libmp3lame \"-b:a\" 192k \"file:C:\\Users\\577342\\Downloads\\Nassim Nicholas Taleb   Lebanon - From Ponzi to Localism-53uW9Xd_JRU.mp3\"\n",
      "Deleting original file C:\\Users\\577342\\Downloads\\Nassim Nicholas Taleb   Lebanon - From Ponzi to Localism-53uW9Xd_JRU.webm (pass -k to keep)\n",
      "[youtube] 6AiQNScy13Q: Downloading webpage\n",
      "[youtube] 6AiQNScy13Q: Downloading video info webpage\n",
      "[debug] Invoking downloader on 'https://r4---sn-p5qs7n7e.googlevideo.com/videoplayback?expire=1574449032&ei=KNvXXfLnHpSTigTGlJ7oDA&ip=2600%3A6c64%3A657f%3Af499%3A0%3Aca44%3A3ebc%3Af182&id=o-AASSdWRPzPT3TWU7Sawukuf_JkMYVV3cHd6EAVr7yhZI&itag=140&source=youtube&requiressl=yes&mm=31%2C26&mn=sn-p5qs7n7e%2Csn-vgqsknls&ms=au%2Conr&mv=m&mvi=3&pl=32&initcwndbps=2367500&mime=audio%2Fmp4&gir=yes&clen=28971826&dur=1790.119&lmt=1574164824195577&mt=1574427357&fvip=4&keepalive=yes&fexp=23842630&c=WEB&txp=5531432&sparams=expire%2Cei%2Cip%2Cid%2Citag%2Csource%2Crequiressl%2Cmime%2Cgir%2Cclen%2Cdur%2Clmt&sig=ALgxI2wwRAIgSq3fXc9k72eYhj-SZGZN4Pg4Rj0-9l68DSfYV65cFq4CICLMqbRiQ12YLw3Ns40jxZ1Gvp_kxTYmfzDRl00gF26I&lsparams=mm%2Cmn%2Cms%2Cmv%2Cmvi%2Cpl%2Cinitcwndbps&lsig=AHylml4wRgIhAKfCxeykHK_pUcWCcmA0pEVAejoiWOJHjG-qv1fcawfGAiEA8IszgZ9XR_vo8VI3PTShGqB_49vBZgJ54X20d1jaXs0%3D&ratebypass=yes'\n",
      "[download] Destination: C:\\Users\\577342\\Downloads\\Douglas Murray, Reflecting on the Strange Death of Europe-6AiQNScy13Q.m4a\n",
      "[download] 100% of 27.63MiB in 00:05                  \n",
      "[ffmpeg] Correcting container in \"C:\\Users\\577342\\Downloads\\Douglas Murray, Reflecting on the Strange Death of Europe-6AiQNScy13Q.m4a\"\n",
      "[debug] ffmpeg command line: ffmpeg -y -loglevel \"repeat+info\" -i \"file:C:\\Users\\577342\\Downloads\\Douglas Murray, Reflecting on the Strange Death of Europe-6AiQNScy13Q.m4a\" -c copy -f mp4 \"file:C:\\Users\\577342\\Downloads\\Douglas Murray, Reflecting on the Strange Death of Europe-6AiQNScy13Q.temp.m4a\"\n",
      "[debug] ffmpeg command line: ffprobe -show_streams \"file:C:\\Users\\577342\\Downloads\\Douglas Murray, Reflecting on the Strange Death of Europe-6AiQNScy13Q.m4a\"\n",
      "[ffmpeg] Destination: C:\\Users\\577342\\Downloads\\Douglas Murray, Reflecting on the Strange Death of Europe-6AiQNScy13Q.mp3\n",
      "[debug] ffmpeg command line: ffmpeg -y -loglevel \"repeat+info\" -i \"file:C:\\Users\\577342\\Downloads\\Douglas Murray, Reflecting on the Strange Death of Europe-6AiQNScy13Q.m4a\" -vn -acodec libmp3lame \"-b:a\" 192k \"file:C:\\Users\\577342\\Downloads\\Douglas Murray, Reflecting on the Strange Death of Europe-6AiQNScy13Q.mp3\"\n",
      "Deleting original file C:\\Users\\577342\\Downloads\\Douglas Murray, Reflecting on the Strange Death of Europe-6AiQNScy13Q.m4a (pass -k to keep)\n",
      "[youtube] ymgoem4v4u4: Downloading webpage\n",
      "[youtube] ymgoem4v4u4: Downloading video info webpage\n",
      "[debug] Invoking downloader on 'https://r1---sn-p5qs7ned.googlevideo.com/videoplayback?expire=1574449115&ei=e9vXXZmbHueDir4Pj6Kr6Aw&ip=2600%3A6c64%3A657f%3Af499%3A0%3Aca44%3A3ebc%3Af182&id=o-AMUxH-BpZybJ-Svoac7l5C2XTxce_aNOze-ADgQ1QZYz&itag=251&source=youtube&requiressl=yes&mm=31%2C26&mn=sn-p5qs7ned%2Csn-vgqsrn7l&ms=au%2Conr&mv=m&mvi=0&pl=32&initcwndbps=2240000&mime=audio%2Fwebm&gir=yes&clen=14991618&dur=911.361&lmt=1573928242883406&mt=1574427479&fvip=1&keepalive=yes&fexp=23842630&c=WEB&txp=5531432&sparams=expire%2Cei%2Cip%2Cid%2Citag%2Csource%2Crequiressl%2Cmime%2Cgir%2Cclen%2Cdur%2Clmt&sig=ALgxI2wwRAIgM4cavnnXwmTehMe_1V3uroc9EUZ6h-ox561-cR0KrwECIEPb-j4oy6R3OPwQuqH2BhCyNIzhwAD6B8F2Ov--Cox8&lsparams=mm%2Cmn%2Cms%2Cmv%2Cmvi%2Cpl%2Cinitcwndbps&lsig=AHylml4wRQIhALvfafFb3sXg7Zy4vey2j7Mmc1PJAEl6LoyxYe9nyDLpAiAj1ImWz4-CRMqA-FNG2xV1PIh7l_xLFNokr4Pj3xVouA%3D%3D&ratebypass=yes'\n",
      "[download] Destination: C:\\Users\\577342\\Downloads\\Fight Club – How (Not) To Become A Space Monkey-ymgoem4v4u4.webm\n",
      "[download] 100% of 14.30MiB in 00:01                  \n",
      "[debug] ffmpeg command line: ffprobe -show_streams \"file:C:\\Users\\577342\\Downloads\\Fight Club – How (Not) To Become A Space Monkey-ymgoem4v4u4.webm\"\n",
      "[ffmpeg] Destination: C:\\Users\\577342\\Downloads\\Fight Club – How (Not) To Become A Space Monkey-ymgoem4v4u4.mp3\n",
      "[debug] ffmpeg command line: ffmpeg -y -loglevel \"repeat+info\" -i \"file:C:\\Users\\577342\\Downloads\\Fight Club – How (Not) To Become A Space Monkey-ymgoem4v4u4.webm\" -vn -acodec libmp3lame \"-b:a\" 192k \"file:C:\\Users\\577342\\Downloads\\Fight Club – How (Not) To Become A Space Monkey-ymgoem4v4u4.mp3\"\n",
      "Deleting original file C:\\Users\\577342\\Downloads\\Fight Club – How (Not) To Become A Space Monkey-ymgoem4v4u4.webm (pass -k to keep)\n",
      "[youtube] cTqVhcrilrE: Downloading webpage\n",
      "[youtube] cTqVhcrilrE: Downloading video info webpage\n",
      "[debug] Invoking downloader on 'https://r2---sn-p5qlsnz6.googlevideo.com/videoplayback?expire=1574449180&ei=vNvXXai9B4O2igSdw4mQDA&ip=2600%3A6c64%3A657f%3Af499%3A0%3Aca44%3A3ebc%3Af182&id=o-AHUkNvbh2bgXpjx8LEntSqk7DoN7E3PGSiwUsEmryXKW&itag=251&source=youtube&requiressl=yes&mm=31%2C26&mn=sn-p5qlsnz6%2Csn-vgqsknls&ms=au%2Conr&mv=m&mvi=1&pl=32&initcwndbps=2207500&mime=audio%2Fwebm&gir=yes&clen=5334013&dur=352.081&lmt=1573931176790274&mt=1574427479&fvip=2&keepalive=yes&fexp=23842630&c=WEB&txp=5531432&sparams=expire%2Cei%2Cip%2Cid%2Citag%2Csource%2Crequiressl%2Cmime%2Cgir%2Cclen%2Cdur%2Clmt&sig=ALgxI2wwRAIgVFgWIxWQ7GzIGsLxp4gETuraXS_kvsi0m_zvvOcMd9ACIH5b4BolQJMeNNTIoVVR9HI2Syc3wUd6wUhqk1-YYeoZ&lsparams=mm%2Cmn%2Cms%2Cmv%2Cmvi%2Cpl%2Cinitcwndbps&lsig=AHylml4wRQIgEAZxElidAgsX7fbNE7TBiivaIheElQkb2nKPRfe53GwCIQDgLuMXwDhIQ_pucLCyStY9SJI2oh4s6hdrrF4FcX7dwg%3D%3D&ratebypass=yes'\n",
      "[download] Destination: C:\\Users\\577342\\Downloads\\This AI Learned To Animate Humanoids🚶-cTqVhcrilrE.webm\n",
      "[download] 100% of 5.09MiB in 00:01                  \n",
      "[debug] ffmpeg command line: ffprobe -show_streams \"file:C:\\Users\\577342\\Downloads\\This AI Learned To Animate Humanoids🚶-cTqVhcrilrE.webm\"\n",
      "[ffmpeg] Destination: C:\\Users\\577342\\Downloads\\This AI Learned To Animate Humanoids🚶-cTqVhcrilrE.mp3\n",
      "[debug] ffmpeg command line: ffmpeg -y -loglevel \"repeat+info\" -i \"file:C:\\Users\\577342\\Downloads\\This AI Learned To Animate Humanoids🚶-cTqVhcrilrE.webm\" -vn -acodec libmp3lame \"-b:a\" 192k \"file:C:\\Users\\577342\\Downloads\\This AI Learned To Animate Humanoids🚶-cTqVhcrilrE.mp3\"\n",
      "Deleting original file C:\\Users\\577342\\Downloads\\This AI Learned To Animate Humanoids🚶-cTqVhcrilrE.webm (pass -k to keep)\n",
      "[youtube] O_PWTmiYGvU: Downloading webpage\n",
      "[youtube] O_PWTmiYGvU: Downloading video info webpage\n",
      "[debug] Invoking downloader on 'https://r6---sn-p5qlsns6.googlevideo.com/videoplayback?expire=1574449214&ei=3tvXXZrtFcSFwQG00byQCQ&ip=2600%3A6c64%3A657f%3Af499%3A0%3Aca44%3A3ebc%3Af182&id=o-AKSVxvkPH7IyxzuQJb2YV2Cs434GVH6jOREvIvMhFb4K&itag=140&source=youtube&requiressl=yes&mm=31%2C29&mn=sn-p5qlsns6%2Csn-p5qs7nek&ms=au%2Crdu&mv=m&mvi=5&pl=32&initcwndbps=2232500&mime=audio%2Fmp4&gir=yes&clen=52345078&dur=3234.353&lmt=1573927644356350&mt=1574427543&fvip=6&keepalive=yes&fexp=23842630&c=WEB&txp=5431432&sparams=expire%2Cei%2Cip%2Cid%2Citag%2Csource%2Crequiressl%2Cmime%2Cgir%2Cclen%2Cdur%2Clmt&sig=ALgxI2wwRQIgbptmcC2IRT-L331qYb_D1EiRWNZA27X7yWAiI5sPLwUCIQDNis6by6-UfKRpV2sxbhLNw5AMeK8D_6b_Msd_BRi7aA%3D%3D&lsparams=mm%2Cmn%2Cms%2Cmv%2Cmvi%2Cpl%2Cinitcwndbps&lsig=AHylml4wRgIhAP-GM_WNO5qK7UJzab97Bru3EBf-s9Ms2oZvd5AuMsBDAiEAlFYjCTtMCBIAxMy1hb3AVYb3qjFxAe7ke8PJg8MKHB4%3D&ratebypass=yes'\n",
      "[download] Destination: C:\\Users\\577342\\Downloads\\Emerging Wisdom, Terry Patten-O_PWTmiYGvU.m4a\n",
      "[download] 100% of 49.92MiB in 00:05                  \n",
      "[ffmpeg] Correcting container in \"C:\\Users\\577342\\Downloads\\Emerging Wisdom, Terry Patten-O_PWTmiYGvU.m4a\"\n",
      "[debug] ffmpeg command line: ffmpeg -y -loglevel \"repeat+info\" -i \"file:C:\\Users\\577342\\Downloads\\Emerging Wisdom, Terry Patten-O_PWTmiYGvU.m4a\" -c copy -f mp4 \"file:C:\\Users\\577342\\Downloads\\Emerging Wisdom, Terry Patten-O_PWTmiYGvU.temp.m4a\"\n",
      "[debug] ffmpeg command line: ffprobe -show_streams \"file:C:\\Users\\577342\\Downloads\\Emerging Wisdom, Terry Patten-O_PWTmiYGvU.m4a\"\n",
      "[ffmpeg] Destination: C:\\Users\\577342\\Downloads\\Emerging Wisdom, Terry Patten-O_PWTmiYGvU.mp3\n",
      "[debug] ffmpeg command line: ffmpeg -y -loglevel \"repeat+info\" -i \"file:C:\\Users\\577342\\Downloads\\Emerging Wisdom, Terry Patten-O_PWTmiYGvU.m4a\" -vn -acodec libmp3lame \"-b:a\" 192k \"file:C:\\Users\\577342\\Downloads\\Emerging Wisdom, Terry Patten-O_PWTmiYGvU.mp3\"\n",
      "Deleting original file C:\\Users\\577342\\Downloads\\Emerging Wisdom, Terry Patten-O_PWTmiYGvU.m4a (pass -k to keep)\n",
      "[youtube] 4mC4Tndkdv4: Downloading webpage\n",
      "[youtube] 4mC4Tndkdv4: Downloading video info webpage\n",
      "[debug] Invoking downloader on 'https://r5---sn-p5qs7nel.googlevideo.com/videoplayback?expire=1574449351&ei=ZtzXXejuOZCXiwSx_q3ADQ&ip=2600%3A6c64%3A657f%3Af499%3A0%3Aca44%3A3ebc%3Af182&id=o-ANIkbzO5siRf-KrFKjPLqbnnNUTNSaEVds5X65eKKk0M&itag=140&source=youtube&requiressl=yes&mm=31%2C26&mn=sn-p5qs7nel%2Csn-vgqs7nlz&ms=au%2Conr&mv=m&mvi=4&pl=32&initcwndbps=2232500&mime=audio%2Fmp4&gir=yes&clen=57276614&dur=3539.069&lmt=1573916802135724&mt=1574427615&fvip=5&keepalive=yes&fexp=23842630&c=WEB&txp=5431432&sparams=expire%2Cei%2Cip%2Cid%2Citag%2Csource%2Crequiressl%2Cmime%2Cgir%2Cclen%2Cdur%2Clmt&sig=ALgxI2wwRAIgSeUuCH8XG_sbxn6pTB6Hg9fht9ZqLAAWf7Pjaf-xVhUCIGeDLV4O-_9vphBDMg_-eHMoR1xqRYxTcQ6yMXXYrpFa&lsparams=mm%2Cmn%2Cms%2Cmv%2Cmvi%2Cpl%2Cinitcwndbps&lsig=AHylml4wRQIgR2vqNJ3qozdW4UzjarP8o242nbt-uetWnsXtyey9G7MCIQC7wTOtJscOKvmtkmaanVYBnqLxDCY04jitpST8l5TPbQ%3D%3D&ratebypass=yes'\n",
      "[download] Destination: C:\\Users\\577342\\Downloads\\John Vervaeke Q&A - 2019-11-15-4mC4Tndkdv4.m4a\n",
      "[download] 100% of 54.62MiB in 00:05                  \n",
      "[ffmpeg] Correcting container in \"C:\\Users\\577342\\Downloads\\John Vervaeke Q&A - 2019-11-15-4mC4Tndkdv4.m4a\"\n",
      "[debug] ffmpeg command line: ffmpeg -y -loglevel \"repeat+info\" -i \"file:C:\\Users\\577342\\Downloads\\John Vervaeke Q&A - 2019-11-15-4mC4Tndkdv4.m4a\" -c copy -f mp4 \"file:C:\\Users\\577342\\Downloads\\John Vervaeke Q&A - 2019-11-15-4mC4Tndkdv4.temp.m4a\"\n",
      "[debug] ffmpeg command line: ffprobe -show_streams \"file:C:\\Users\\577342\\Downloads\\John Vervaeke Q&A - 2019-11-15-4mC4Tndkdv4.m4a\"\n",
      "[ffmpeg] Destination: C:\\Users\\577342\\Downloads\\John Vervaeke Q&A - 2019-11-15-4mC4Tndkdv4.mp3\n",
      "[debug] ffmpeg command line: ffmpeg -y -loglevel \"repeat+info\" -i \"file:C:\\Users\\577342\\Downloads\\John Vervaeke Q&A - 2019-11-15-4mC4Tndkdv4.m4a\" -vn -acodec libmp3lame \"-b:a\" 192k \"file:C:\\Users\\577342\\Downloads\\John Vervaeke Q&A - 2019-11-15-4mC4Tndkdv4.mp3\"\n",
      "Deleting original file C:\\Users\\577342\\Downloads\\John Vervaeke Q&A - 2019-11-15-4mC4Tndkdv4.m4a (pass -k to keep)\n",
      "[youtube] cK5Npv-OdAE: Downloading webpage\n",
      "[youtube] cK5Npv-OdAE: Downloading video info webpage\n",
      "[debug] Invoking downloader on 'https://r6---sn-p5qs7ner.googlevideo.com/videoplayback?expire=1574449499&ei=-9zXXc7_HImHigSY9JOYCw&ip=2600%3A6c64%3A657f%3Af499%3A0%3Aca44%3A3ebc%3Af182&id=o-ACCIw-axvH8OxjjpfYO_lVKtjBw7R18wQC-WG3_heCEn&itag=251&source=youtube&requiressl=yes&mm=31%2C26&mn=sn-p5qs7ner%2Csn-vgqs7nl7&ms=au%2Conr&mv=m&mvi=5&pl=32&initcwndbps=2226250&mime=audio%2Fwebm&gir=yes&clen=44084702&dur=3275.041&lmt=1573861525898408&mt=1574427758&fvip=6&keepalive=yes&fexp=23842630&c=WEB&txp=5431432&sparams=expire%2Cei%2Cip%2Cid%2Citag%2Csource%2Crequiressl%2Cmime%2Cgir%2Cclen%2Cdur%2Clmt&sig=ALgxI2wwRQIgLHTWrL2jY6-8G8qyibVou2W3Y0vhTQtJqvNMU8nnuooCIQDMfz-oODgBXNJQzcvpR58MDKBLKzG422ZUyBr8XIPogg%3D%3D&lsparams=mm%2Cmn%2Cms%2Cmv%2Cmvi%2Cpl%2Cinitcwndbps&lsig=AHylml4wRQIgX5Bf0lMYkTH5n8fpPCA4yyKfbEr_3BgORbRnFiVLTJ4CIQDOKlHvx9phGpubXJrVfu8fZma6t2S6nkaT-oYvPT41Zg%3D%3D&ratebypass=yes'\n",
      "[download] Destination: C:\\Users\\577342\\Downloads\\Ep. 44 - Awakening from the Meaning Crisis - Theories of Wisdom-cK5Npv-OdAE.webm\n",
      "[download] 100% of 42.04MiB in 00:04                  \n",
      "[debug] ffmpeg command line: ffprobe -show_streams \"file:C:\\Users\\577342\\Downloads\\Ep. 44 - Awakening from the Meaning Crisis - Theories of Wisdom-cK5Npv-OdAE.webm\"\n",
      "[ffmpeg] Destination: C:\\Users\\577342\\Downloads\\Ep. 44 - Awakening from the Meaning Crisis - Theories of Wisdom-cK5Npv-OdAE.mp3\n",
      "[debug] ffmpeg command line: ffmpeg -y -loglevel \"repeat+info\" -i \"file:C:\\Users\\577342\\Downloads\\Ep. 44 - Awakening from the Meaning Crisis - Theories of Wisdom-cK5Npv-OdAE.webm\" -vn -acodec libmp3lame \"-b:a\" 192k \"file:C:\\Users\\577342\\Downloads\\Ep. 44 - Awakening from the Meaning Crisis - Theories of Wisdom-cK5Npv-OdAE.mp3\"\n",
      "Deleting original file C:\\Users\\577342\\Downloads\\Ep. 44 - Awakening from the Meaning Crisis - Theories of Wisdom-cK5Npv-OdAE.webm (pass -k to keep)\n",
      "[youtube] nl48eFZGRq8: Downloading webpage\n",
      "[youtube] nl48eFZGRq8: Downloading video info webpage\n",
      "[debug] Invoking downloader on 'https://r6---sn-p5qlsnsr.googlevideo.com/videoplayback?expire=1574449708&ei=zN3XXdXNGtjpigTI1JDYDA&ip=2600%3A6c64%3A657f%3Af499%3A0%3Aca44%3A3ebc%3Af182&id=o-AO0Du0ijL-YJaQFPXJvZ3-xT-pt-jOMTHLxCRCFE27lr&itag=251&source=youtube&requiressl=yes&mm=31%2C26&mn=sn-p5qlsnsr%2Csn-vgqs7nlr&ms=au%2Conr&mv=m&mvi=5&pl=32&initcwndbps=2290000&mime=audio%2Fwebm&gir=yes&clen=41183932&dur=3363.821&lmt=1573841678058918&mt=1574427978&fvip=6&keepalive=yes&fexp=23842630&c=WEB&txp=5431432&sparams=expire%2Cei%2Cip%2Cid%2Citag%2Csource%2Crequiressl%2Cmime%2Cgir%2Cclen%2Cdur%2Clmt&sig=ALgxI2wwRgIhAK1bJoidZfNO6Nz60Zz1Xl_DI-WjOQQ3dpfzEiY5LHV-AiEAxRD5v938a2mo5-7_at5vf39tw9qRSQupr_8Rcn220Os%3D&lsparams=mm%2Cmn%2Cms%2Cmv%2Cmvi%2Cpl%2Cinitcwndbps&lsig=AHylml4wRAIgGptjVYHKLrq_7ZNCFw8WjmzABIzDHaBq9nbbteLNM70CIAwgVa0imZepG4MADPJJlExivJH4fus1JolhDPyp5cih&ratebypass=yes'\n",
      "[download] Destination: C:\\Users\\577342\\Downloads\\Vervaeke and Hall  begin to design the religion that is not a religion-nl48eFZGRq8.webm\n",
      "[download] 100% of 39.28MiB in 00:06                   \n",
      "[debug] ffmpeg command line: ffprobe -show_streams \"file:C:\\Users\\577342\\Downloads\\Vervaeke and Hall  begin to design the religion that is not a religion-nl48eFZGRq8.webm\"\n",
      "[ffmpeg] Destination: C:\\Users\\577342\\Downloads\\Vervaeke and Hall  begin to design the religion that is not a religion-nl48eFZGRq8.mp3\n",
      "[debug] ffmpeg command line: ffmpeg -y -loglevel \"repeat+info\" -i \"file:C:\\Users\\577342\\Downloads\\Vervaeke and Hall  begin to design the religion that is not a religion-nl48eFZGRq8.webm\" -vn -acodec libmp3lame \"-b:a\" 192k \"file:C:\\Users\\577342\\Downloads\\Vervaeke and Hall  begin to design the religion that is not a religion-nl48eFZGRq8.mp3\"\n",
      "Deleting original file C:\\Users\\577342\\Downloads\\Vervaeke and Hall  begin to design the religion that is not a religion-nl48eFZGRq8.webm (pass -k to keep)\n",
      "[youtube] -acp9Dk7Ve4: Downloading webpage\n",
      "[youtube] -acp9Dk7Ve4: Downloading video info webpage\n",
      "[debug] Invoking downloader on 'https://r4---sn-p5qlsndk.googlevideo.com/videoplayback?expire=1574449844&ei=VN7XXc23IIL4NsKbmLgJ&ip=2600%3A6c64%3A657f%3Af499%3A0%3Aca44%3A3ebc%3Af182&id=o-AIwD1ogzxsSVLxr0c1FwCrQDd15K9rqfc7fQQ1r2mqt6&itag=140&source=youtube&requiressl=yes&mm=31%2C26&mn=sn-p5qlsndk%2Csn-vgqsrnll&ms=au%2Conr&mv=m&mvi=3&pl=32&initcwndbps=2146250&mime=audio%2Fmp4&gir=yes&clen=38163264&dur=2358.055&lmt=1573777187291554&mt=1574428187&fvip=4&keepalive=yes&fexp=23842630&c=WEB&txp=5431432&sparams=expire%2Cei%2Cip%2Cid%2Citag%2Csource%2Crequiressl%2Cmime%2Cgir%2Cclen%2Cdur%2Clmt&sig=ALgxI2wwRQIgN5H8-xRpjAVarrAhcGPRM5TR8wC0K5JBrxsy0vaVgoYCIQCfJ15WGzxB3BbY3W18IiI_Oic6uyy71Y44LPaTTrr8dQ%3D%3D&lsparams=mm%2Cmn%2Cms%2Cmv%2Cmvi%2Cpl%2Cinitcwndbps&lsig=AHylml4wRQIgE_BWJLGtJV0gqAogKHpKYeQzJKRQty_1BESVs0kjL9QCIQD0PaNvOYKurAPPtI8wP1nq_WgzX3cd-lTQrhISV0wuQw%3D%3D&ratebypass=yes'\n",
      "[download] Destination: C:\\Users\\577342\\Downloads\\Jordan Peterson vs Alan Watts, with Tim Lott--acp9Dk7Ve4.m4a\n",
      "[download] 100% of 36.40MiB in 00:04                  \n",
      "[ffmpeg] Correcting container in \"C:\\Users\\577342\\Downloads\\Jordan Peterson vs Alan Watts, with Tim Lott--acp9Dk7Ve4.m4a\"\n",
      "[debug] ffmpeg command line: ffmpeg -y -loglevel \"repeat+info\" -i \"file:C:\\Users\\577342\\Downloads\\Jordan Peterson vs Alan Watts, with Tim Lott--acp9Dk7Ve4.m4a\" -c copy -f mp4 \"file:C:\\Users\\577342\\Downloads\\Jordan Peterson vs Alan Watts, with Tim Lott--acp9Dk7Ve4.temp.m4a\"\n",
      "[debug] ffmpeg command line: ffprobe -show_streams \"file:C:\\Users\\577342\\Downloads\\Jordan Peterson vs Alan Watts, with Tim Lott--acp9Dk7Ve4.m4a\"\n",
      "[ffmpeg] Destination: C:\\Users\\577342\\Downloads\\Jordan Peterson vs Alan Watts, with Tim Lott--acp9Dk7Ve4.mp3\n",
      "[debug] ffmpeg command line: ffmpeg -y -loglevel \"repeat+info\" -i \"file:C:\\Users\\577342\\Downloads\\Jordan Peterson vs Alan Watts, with Tim Lott--acp9Dk7Ve4.m4a\" -vn -acodec libmp3lame \"-b:a\" 192k \"file:C:\\Users\\577342\\Downloads\\Jordan Peterson vs Alan Watts, with Tim Lott--acp9Dk7Ve4.mp3\"\n",
      "Deleting original file C:\\Users\\577342\\Downloads\\Jordan Peterson vs Alan Watts, with Tim Lott--acp9Dk7Ve4.m4a (pass -k to keep)\n",
      "[youtube] qM_kQjpAK6g: Downloading webpage\n",
      "[youtube] qM_kQjpAK6g: Downloading video info webpage\n",
      "[debug] Invoking downloader on 'https://r4---sn-p5qlsnsd.googlevideo.com/videoplayback?expire=1574449955&ei=w97XXe2hC4iiwQGplL_IDA&ip=2600%3A6c64%3A657f%3Af499%3A0%3Aca44%3A3ebc%3Af182&id=o-AB-JWUchi1UXMJEozmrLxHzvGj4_z_Hw-f_BJadyzkoz&itag=251&source=youtube&requiressl=yes&mm=31%2C26&mn=sn-p5qlsnsd%2Csn-vgqs7nlr&ms=au%2Conr&mv=m&mvi=3&pl=32&initcwndbps=2146250&mime=audio%2Fwebm&gir=yes&clen=27409679&dur=1913.281&lmt=1573881545100069&mt=1574428187&fvip=4&keepalive=yes&fexp=23842630&c=WEB&txp=5431432&sparams=expire%2Cei%2Cip%2Cid%2Citag%2Csource%2Crequiressl%2Cmime%2Cgir%2Cclen%2Cdur%2Clmt&sig=ALgxI2wwRQIhAOsBrJgfql-rFxVtb8cpX2WtJrdS6x7fhz7EnfeEzkFEAiBuJ5o9A1cpQz6pVBzyjLPXcs-OQQR9aDBa-bRW1ysGeg%3D%3D&lsparams=mm%2Cmn%2Cms%2Cmv%2Cmvi%2Cpl%2Cinitcwndbps&lsig=AHylml4wRQIgdIulvi7C4FKSxutvn8UIbIlBWs8pZ2Vm_zk7fwtvU_sCIQC0gT_qlBe5cTb7jSGQiawjdwyANHACJcUPJQ6uJsiZzQ%3D%3D&ratebypass=yes'\n",
      "[download] Destination: C:\\Users\\577342\\Downloads\\The Surprising Symbolism of 666-qM_kQjpAK6g.webm\n",
      "[download] 100% of 26.14MiB in 00:05                  \n",
      "[debug] ffmpeg command line: ffprobe -show_streams \"file:C:\\Users\\577342\\Downloads\\The Surprising Symbolism of 666-qM_kQjpAK6g.webm\"\n",
      "[ffmpeg] Destination: C:\\Users\\577342\\Downloads\\The Surprising Symbolism of 666-qM_kQjpAK6g.mp3\n",
      "[debug] ffmpeg command line: ffmpeg -y -loglevel \"repeat+info\" -i \"file:C:\\Users\\577342\\Downloads\\The Surprising Symbolism of 666-qM_kQjpAK6g.webm\" -vn -acodec libmp3lame \"-b:a\" 192k \"file:C:\\Users\\577342\\Downloads\\The Surprising Symbolism of 666-qM_kQjpAK6g.mp3\"\n",
      "Deleting original file C:\\Users\\577342\\Downloads\\The Surprising Symbolism of 666-qM_kQjpAK6g.webm (pass -k to keep)\n",
      "[youtube] OjELREOrtDc: Downloading webpage\n",
      "[youtube] OjELREOrtDc: Downloading video info webpage\n",
      "[debug] Invoking downloader on 'https://r4---sn-p5qs7ner.googlevideo.com/videoplayback?expire=1574450081&ei=Qd_XXYGfLfSFir4P-eWG4AI&ip=2600%3A6c64%3A657f%3Af499%3A0%3Aca44%3A3ebc%3Af182&id=o-ABIr4m5oc1FIzLNoeo4NLMl8TiA4autvCJRMnT8LJcR9&itag=251&source=youtube&requiressl=yes&mm=31%2C29&mn=sn-p5qs7ner%2Csn-p5qlsns6&ms=au%2Crdu&mv=m&mvi=3&pl=32&initcwndbps=2210000&mime=audio%2Fwebm&gir=yes&clen=100558817&dur=7586.241&lmt=1573897296803010&mt=1574428330&fvip=4&keepalive=yes&fexp=23842630&c=WEB&txp=5531432&sparams=expire%2Cei%2Cip%2Cid%2Citag%2Csource%2Crequiressl%2Cmime%2Cgir%2Cclen%2Cdur%2Clmt&sig=ALgxI2wwRQIhAKHNemrjrvJqY0xzOoI1E-hpacBOagX6O9VT_4_vF4TaAiBQxHc4NSINemj2BTnx-NuGKaZaJRtrdjYucPQ1I69V1Q%3D%3D&lsparams=mm%2Cmn%2Cms%2Cmv%2Cmvi%2Cpl%2Cinitcwndbps&lsig=AHylml4wRAIgaLuL_28H6C9mEOayhiqyAi9hVC3jRsTz8LhoWLP5e3ACIF6BWvpTmcuE_pgr-TKbwePFpk-qpbkaf9MLzglAJ0Xa&ratebypass=yes'\n",
      "[download] Destination: C:\\Users\\577342\\Downloads\\Katie Herzog _ Bret Weinstein's DarkHorse Podcast #6-OjELREOrtDc.webm\n",
      "[download] 100% of 95.90MiB in 00:12                   \n",
      "[debug] ffmpeg command line: ffprobe -show_streams \"file:C:\\Users\\577342\\Downloads\\Katie Herzog _ Bret Weinstein's DarkHorse Podcast #6-OjELREOrtDc.webm\"\n",
      "[ffmpeg] Destination: C:\\Users\\577342\\Downloads\\Katie Herzog _ Bret Weinstein's DarkHorse Podcast #6-OjELREOrtDc.mp3\n",
      "[debug] ffmpeg command line: ffmpeg -y -loglevel \"repeat+info\" -i \"file:C:\\Users\\577342\\Downloads\\Katie Herzog _ Bret Weinstein's DarkHorse Podcast #6-OjELREOrtDc.webm\" -vn -acodec libmp3lame \"-b:a\" 192k \"file:C:\\Users\\577342\\Downloads\\Katie Herzog _ Bret Weinstein's DarkHorse Podcast #6-OjELREOrtDc.mp3\"\n",
      "Deleting original file C:\\Users\\577342\\Downloads\\Katie Herzog _ Bret Weinstein's DarkHorse Podcast #6-OjELREOrtDc.webm (pass -k to keep)\n",
      "[youtube] AoCJXjJQwVo: Downloading webpage\n",
      "[youtube] AoCJXjJQwVo: Downloading video info webpage\n"
     ]
    },
    {
     "name": "stderr",
     "output_type": "stream",
     "text": [
      "ERROR: no conn, hlsvp, hlsManifestUrl or url_encoded_fmt_stream_map information found in video info; please report this issue on https://yt-dl.org/bug . Make sure you are using the latest version; see  https://yt-dl.org/update  on how to update. Be sure to call youtube-dl with the --verbose flag and include its complete output.\n",
      "Traceback (most recent call last):\n",
      "  File \"C:\\Users\\dev\\Anaconda3\\lib\\site-packages\\youtube_dl\\YoutubeDL.py\", line 796, in extract_info\n",
      "    ie_result = ie.extract(url)\n",
      "  File \"C:\\Users\\dev\\Anaconda3\\lib\\site-packages\\youtube_dl\\extractor\\common.py\", line 530, in extract\n",
      "    ie_result = self._real_extract(url)\n",
      "  File \"C:\\Users\\dev\\Anaconda3\\lib\\site-packages\\youtube_dl\\extractor\\youtube.py\", line 2109, in _real_extract\n",
      "    raise ExtractorError('no conn, hlsvp, hlsManifestUrl or url_encoded_fmt_stream_map information found in video info')\n",
      "youtube_dl.utils.ExtractorError: no conn, hlsvp, hlsManifestUrl or url_encoded_fmt_stream_map information found in video info; please report this issue on https://yt-dl.org/bug . Make sure you are using the latest version; see  https://yt-dl.org/update  on how to update. Be sure to call youtube-dl with the --verbose flag and include its complete output.\n",
      "\n"
     ]
    },
    {
     "name": "stdout",
     "output_type": "stream",
     "text": [
      "ERROR: no conn, hlsvp, hlsManifestUrl or url_encoded_fmt_stream_map information found in video info; please report this issue on https://yt-dl.org/bug . Make sure you are using the latest version; see  https://yt-dl.org/update  on how to update. Be sure to call youtube-dl with the --verbose flag and include its complete output.\n",
      "Conversion completed.\n"
     ]
    }
   ],
   "source": [
    "\n",
    "import os\n",
    "ydl_opts = {\n",
    "    'format': 'bestaudio/best',\n",
    "    'nocheckcertificate': False,\n",
    "    'outtmpl': os.path.join(downloads_folder, youtube_dl.DEFAULT_OUTTMPL),\n",
    "    'postprocessors': [{'key': 'FFmpegExtractAudio',\n",
    "                       'preferredcodec': 'mp3',\n",
    "                       'preferredquality': '192'}],\n",
    "    'verbose': True,\n",
    "    }\n",
    "with youtube_dl.YoutubeDL(ydl_opts) as ydl:\n",
    "    try:\n",
    "        result = ydl.download(youtube_url_list)\n",
    "    except Exception as e:\n",
    "        print(e)\n",
    "print('Conversion completed.')"
   ]
  },
  {
   "cell_type": "code",
   "execution_count": 3,
   "metadata": {},
   "outputs": [],
   "source": [
    "\n",
    "!start %windir%\\explorer.exe \"{os.path.abspath(downloads_folder)}\""
   ]
  },
  {
   "cell_type": "code",
   "execution_count": 4,
   "metadata": {},
   "outputs": [],
   "source": [
    "\n",
    "# ID of the \"Reading Material\" folder\n",
    "tgt_folder_id = '1syfUx6jukbW1CWIEy8xoM9veGGr5MBUh'\n",
    "rm_url = 'https://drive.google.com/drive/u/0/folders/{}'.format(tgt_folder_id)\n",
    "!\"C:\\Program Files (x86)\\Google\\Chrome\\Application\\chrome.exe\" {rm_url}"
   ]
  },
  {
   "cell_type": "markdown",
   "metadata": {},
   "source": [
    "\n",
    "Next, we authenticate with Google by running the builtin web server conveniently provided."
   ]
  },
  {
   "cell_type": "code",
   "execution_count": null,
   "metadata": {},
   "outputs": [
    {
     "name": "stdout",
     "output_type": "stream",
     "text": [
      "Your browser has been opened to visit:\n",
      "\n",
      "    https://accounts.google.com/o/oauth2/auth?client_id=493273913470-37renji2vm668dqbm141l7u5rphmi4ie.apps.googleusercontent.com&redirect_uri=http%3A%2F%2Flocalhost%3A8080%2F&scope=https%3A%2F%2Fwww.googleapis.com%2Fauth%2Fdrive&access_type=offline&response_type=code\n",
      "\n"
     ]
    }
   ],
   "source": [
    "\n",
    "from pydrive.auth import GoogleAuth\n",
    "\n",
    "# The URL that gets displayed here is not suitable for public consumption\n",
    "GoogleAuth.DEFAULT_SETTINGS['client_config_file'] = r'../json/client_secret.json'\n",
    "gauth = GoogleAuth()\n",
    "gauth.LocalWebserverAuth()"
   ]
  },
  {
   "cell_type": "markdown",
   "metadata": {},
   "source": [
    "\n",
    "Before you run the next cell, in the online web page of Google Drive, bring up the share dialog box of the folder you are uploading to and copy its folder id into the <code>tgt_folder_id</code> string. If you right-click on the folder and select **Share...** and then click **Get shareable link**, you will see something like:\n",
    "\n",
    "https://drive.google.com/drive/folders/1syfUx6jukbW1CWIEy8xoM9veGGr5MBUx?usp=sharing\n",
    "\n",
    "It's that **1syfUx6jukbW1CWIEy8xoM9veGGr5MBUx** that you need to copy."
   ]
  },
  {
   "cell_type": "code",
   "execution_count": null,
   "metadata": {},
   "outputs": [],
   "source": [
    "\n",
    "from pydrive.drive import GoogleDrive\n",
    "\n",
    "# Create GoogleDrive instance with authenticated GoogleAuth instance\n",
    "drive = GoogleDrive(gauth)\n",
    "\n",
    "# ID of the \"Reading Material\" folder\n",
    "tgt_folder_id = '1syfUx6jukbW1CWIEy8xoM9veGGr5MBUh'"
   ]
  },
  {
   "cell_type": "markdown",
   "metadata": {},
   "source": [
    "\n",
    "Next, we will upload all the mp3s in our download folder."
   ]
  },
  {
   "cell_type": "code",
   "execution_count": null,
   "metadata": {},
   "outputs": [],
   "source": [
    "\n",
    "import os\n",
    "\n",
    "# Upload all mp3s from the Downloads folder to Google Drive's \"Reading Material\" folder\n",
    "gfile_dict = {}\n",
    "for subdir, dirs, files in os.walk(downloads_folder):\n",
    "    for src_file in files:\n",
    "        if src_file.endswith('.mp3'):\n",
    "            src_path = os.path.join(subdir, src_file)\n",
    "            title = '-'.join(src_file.split('-')[:-1]) + '.mp3'\n",
    "            gfile_dict[src_file] = drive.CreateFile({'title':title, 'mimeType':'audio/mp3',\n",
    "                                                     'parents': [{'kind': 'drive#fileLink',\n",
    "                                                                  'id': tgt_folder_id}]})\n",
    "\n",
    "            # Read mp3 file and set it as a content of this instance\n",
    "            gfile_dict[src_file].SetContentFile(src_path)\n",
    "            \n",
    "            # Upload the file\n",
    "            try:\n",
    "                gfile_dict[src_file].Upload()\n",
    "                print('Uploaded %s (%s)' % (gfile_dict[src_file]['title'],\n",
    "                                            gfile_dict[src_file]['mimeType']))\n",
    "            except Exception as e:\n",
    "                print('Upload failed for %s (%s): %s' % (gfile_dict[src_file]['title'],\n",
    "                                                         gfile_dict[src_file]['mimeType'], e))\n",
    "print('Upload completed.')"
   ]
  },
  {
   "cell_type": "markdown",
   "metadata": {},
   "source": [
    "\n",
    "Download the mp3s to <a href='http://www.voicedream.com/support/user-manual/#file'>Voice Dream</a> before you run the trash cell (below)."
   ]
  },
  {
   "cell_type": "code",
   "execution_count": null,
   "metadata": {},
   "outputs": [],
   "source": [
    "\n",
    "import os\n",
    "\n",
    "# Trash all mp3s from Google Drive's \"Reading Material\" folder\n",
    "for src_file in gfile_dict.keys():\n",
    "\n",
    "    # Trash mp3 file\n",
    "    try:\n",
    "        gfile_dict[src_file].Trash()\n",
    "        print('Trashed %s (%s)' % (gfile_dict[src_file]['title'],\n",
    "                                   gfile_dict[src_file]['mimeType']))\n",
    "    except Exception as e:\n",
    "        print('Trash failed for %s (%s): %s' % (gfile_dict[src_file]['title'],\n",
    "                                                gfile_dict[src_file]['mimeType'], e))\n",
    "    \n",
    "print('Trashing completed.')"
   ]
  },
  {
   "cell_type": "markdown",
   "metadata": {},
   "source": [
    "\n",
    "Lastly, we run the code that will delete all the mp3s out of our downloads folder."
   ]
  },
  {
   "cell_type": "code",
   "execution_count": 6,
   "metadata": {},
   "outputs": [
    {
     "ename": "NameError",
     "evalue": "name 'gfile_dict' is not defined",
     "output_type": "error",
     "traceback": [
      "\u001b[1;31m---------------------------------------------------------------------------\u001b[0m",
      "\u001b[1;31mNameError\u001b[0m                                 Traceback (most recent call last)",
      "\u001b[1;32m<ipython-input-6-65c60fb1774b>\u001b[0m in \u001b[0;36m<module>\u001b[1;34m\u001b[0m\n\u001b[0;32m      3\u001b[0m \u001b[1;33m\u001b[0m\u001b[0m\n\u001b[0;32m      4\u001b[0m \u001b[1;31m# Delete all mp3s in the Downloads folder\u001b[0m\u001b[1;33m\u001b[0m\u001b[1;33m\u001b[0m\u001b[1;33m\u001b[0m\u001b[0m\n\u001b[1;32m----> 5\u001b[1;33m \u001b[1;32mfor\u001b[0m \u001b[0msrc_file\u001b[0m \u001b[1;32min\u001b[0m \u001b[0mgfile_dict\u001b[0m\u001b[1;33m.\u001b[0m\u001b[0mkeys\u001b[0m\u001b[1;33m(\u001b[0m\u001b[1;33m)\u001b[0m\u001b[1;33m:\u001b[0m\u001b[1;33m\u001b[0m\u001b[1;33m\u001b[0m\u001b[0m\n\u001b[0m\u001b[0;32m      6\u001b[0m     \u001b[0msrc_path\u001b[0m \u001b[1;33m=\u001b[0m \u001b[0mos\u001b[0m\u001b[1;33m.\u001b[0m\u001b[0mpath\u001b[0m\u001b[1;33m.\u001b[0m\u001b[0mjoin\u001b[0m\u001b[1;33m(\u001b[0m\u001b[0mdownloads_folder\u001b[0m\u001b[1;33m,\u001b[0m \u001b[0msrc_file\u001b[0m\u001b[1;33m)\u001b[0m\u001b[1;33m\u001b[0m\u001b[1;33m\u001b[0m\u001b[0m\n\u001b[0;32m      7\u001b[0m \u001b[1;33m\u001b[0m\u001b[0m\n",
      "\u001b[1;31mNameError\u001b[0m: name 'gfile_dict' is not defined"
     ]
    }
   ],
   "source": [
    "\n",
    "import os\n",
    "\n",
    "# Delete all mp3s in the Downloads folder\n",
    "for src_file in gfile_dict.keys():\n",
    "    src_path = os.path.join(downloads_folder, src_file)\n",
    "\n",
    "    # Delete the file\n",
    "    try:\n",
    "        os.remove(src_path)\n",
    "        print('Deleted %s (%s)' % (src_file,\n",
    "                                   gfile_dict[src_file]['mimeType']))\n",
    "    except Exception as e:\n",
    "        print('Failed to delete %s (%s): %s' % (src_file,\n",
    "                                                gfile_dict[src_file]['mimeType'], e))\n",
    "print('Deleting completed.')"
   ]
  },
  {
   "cell_type": "markdown",
   "metadata": {},
   "source": [
    "\n",
    "If you open the downloads folder with the code below you can see that the deletion is complete."
   ]
  },
  {
   "cell_type": "code",
   "execution_count": 6,
   "metadata": {},
   "outputs": [],
   "source": [
    "\n",
    "!start %windir%\\explorer.exe \"{os.path.abspath(downloads_folder)}\""
   ]
  },
  {
   "cell_type": "code",
   "execution_count": 4,
   "metadata": {},
   "outputs": [
    {
     "ename": "NameError",
     "evalue": "name 'tgt_folder_id' is not defined",
     "output_type": "error",
     "traceback": [
      "\u001b[1;31m---------------------------------------------------------------------------\u001b[0m",
      "\u001b[1;31mNameError\u001b[0m                                 Traceback (most recent call last)",
      "\u001b[1;32m<ipython-input-4-563d4c2c1518>\u001b[0m in \u001b[0;36m<module>\u001b[1;34m\u001b[0m\n\u001b[0;32m      2\u001b[0m \u001b[1;32mfrom\u001b[0m \u001b[0mIPython\u001b[0m\u001b[1;33m.\u001b[0m\u001b[0mdisplay\u001b[0m \u001b[1;32mimport\u001b[0m \u001b[0mHTML\u001b[0m\u001b[1;33m\u001b[0m\u001b[1;33m\u001b[0m\u001b[0m\n\u001b[0;32m      3\u001b[0m \u001b[1;33m\u001b[0m\u001b[0m\n\u001b[1;32m----> 4\u001b[1;33m \u001b[0mrm_url\u001b[0m \u001b[1;33m=\u001b[0m \u001b[1;34m'https://drive.google.com/drive/u/0/folders/{}'\u001b[0m\u001b[1;33m.\u001b[0m\u001b[0mformat\u001b[0m\u001b[1;33m(\u001b[0m\u001b[0mtgt_folder_id\u001b[0m\u001b[1;33m)\u001b[0m\u001b[1;33m\u001b[0m\u001b[1;33m\u001b[0m\u001b[0m\n\u001b[0m\u001b[0;32m      5\u001b[0m \u001b[0mmessage_str\u001b[0m \u001b[1;33m=\u001b[0m \u001b[1;34m'open up your Google Drive target folder'\u001b[0m\u001b[1;33m\u001b[0m\u001b[1;33m\u001b[0m\u001b[0m\n\u001b[0;32m      6\u001b[0m \u001b[0mrm_link\u001b[0m \u001b[1;33m=\u001b[0m \u001b[1;34m'<a href=\"{}\" target=\"_blank\">{}</a>'\u001b[0m\u001b[1;33m.\u001b[0m\u001b[0mformat\u001b[0m\u001b[1;33m(\u001b[0m\u001b[0mrm_url\u001b[0m\u001b[1;33m,\u001b[0m \u001b[0mmessage_str\u001b[0m\u001b[1;33m)\u001b[0m\u001b[1;33m\u001b[0m\u001b[1;33m\u001b[0m\u001b[0m\n",
      "\u001b[1;31mNameError\u001b[0m: name 'tgt_folder_id' is not defined"
     ]
    }
   ],
   "source": [
    "\n",
    "from IPython.display import HTML\n",
    "\n",
    "rm_url = 'https://drive.google.com/drive/u/0/folders/{}'.format(tgt_folder_id)\n",
    "message_str = 'open up your Google Drive target folder'\n",
    "rm_link = '<a href=\"{}\" target=\"_blank\">{}</a>'.format(rm_url, message_str)\n",
    "message_str = 'If you want to, you can run the code below to {} and'.format(rm_link)\n",
    "message_str += ' check if everything got deleted.'\n",
    "HTML(message_str)"
   ]
  },
  {
   "cell_type": "code",
   "execution_count": null,
   "metadata": {},
   "outputs": [],
   "source": [
    "\n",
    "!\"C:\\Program Files (x86)\\Google\\Chrome\\Application\\chrome.exe\" {rm_url}"
   ]
  },
  {
   "cell_type": "code",
   "execution_count": null,
   "metadata": {},
   "outputs": [],
   "source": []
  }
 ],
 "metadata": {
  "anaconda-cloud": {},
  "kernelspec": {
   "display_name": "Python 3",
   "language": "python",
   "name": "python3"
  },
  "language_info": {
   "codemirror_mode": {
    "name": "ipython",
    "version": 3
   },
   "file_extension": ".py",
   "mimetype": "text/x-python",
   "name": "python",
   "nbconvert_exporter": "python",
   "pygments_lexer": "ipython3",
   "version": "3.6.8"
  }
 },
 "nbformat": 4,
 "nbformat_minor": 2
}
