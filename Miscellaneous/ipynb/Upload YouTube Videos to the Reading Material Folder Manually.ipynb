{
 "cells": [
  {
   "cell_type": "markdown",
   "metadata": {},
   "source": [
    "\n",
    "## Upload YouTube Videos to the Reading Material Folder Manually"
   ]
  },
  {
   "cell_type": "markdown",
   "metadata": {},
   "source": [
    "\n",
    "In this notebook, we will take URLs of videos, convert them to mp3s, upload them to Google Drive, trash them, and delete them."
   ]
  },
  {
   "cell_type": "markdown",
   "metadata": {},
   "source": [
    "\n",
    "We will start by ensuring that all the necessary python libraries are installed."
   ]
  },
  {
   "cell_type": "code",
   "execution_count": null,
   "metadata": {},
   "outputs": [],
   "source": [
    "\n",
    "import sys\n",
    "\n",
    "print('conda update --all --yes --prefix \"{}\"'.format(sys.prefix))"
   ]
  },
  {
   "cell_type": "code",
   "execution_count": null,
   "metadata": {},
   "outputs": [],
   "source": [
    "\n",
    "!{sys.executable} -m pip install --upgrade youtube_dl"
   ]
  },
  {
   "cell_type": "code",
   "execution_count": null,
   "metadata": {},
   "outputs": [],
   "source": [
    "\n",
    "!youtube-dl --version"
   ]
  },
  {
   "cell_type": "code",
   "execution_count": null,
   "metadata": {},
   "outputs": [],
   "source": [
    "\n",
    "!{sys.executable} -m pip install --upgrade PyDrive"
   ]
  },
  {
   "cell_type": "markdown",
   "metadata": {},
   "source": [
    "\n",
    "Next, we will prove to ourselves that we have ffmpeg correctly installed."
   ]
  },
  {
   "cell_type": "code",
   "execution_count": null,
   "metadata": {},
   "outputs": [],
   "source": [
    "\n",
    "# https://github.com/adaptlearning/adapt_authoring/wiki/Installing-FFmpeg\n",
    "!ffmpeg -version"
   ]
  },
  {
   "cell_type": "markdown",
   "metadata": {},
   "source": [
    "\n",
    "Performing authentication with Google Drive requires we keep our client id and consumer secret in a json file. Keep your secrets off the internet!"
   ]
  },
  {
   "cell_type": "code",
   "execution_count": null,
   "metadata": {},
   "outputs": [],
   "source": [
    "\n",
    "!start %windir%\\explorer.exe \"C:\\Users\\dev\\Documents\\repositories\\notebooks\\Miscellaneous\\json\""
   ]
  },
  {
   "cell_type": "markdown",
   "metadata": {},
   "source": [
    "\n",
    "We also make sure line 286 of pydrive's files.py file reads <code>self.content.close()</code> before we run the trash cell."
   ]
  },
  {
   "cell_type": "code",
   "execution_count": null,
   "metadata": {},
   "outputs": [],
   "source": [
    "\n",
    "file_path = 'C:\\Users\\dev\\Anaconda3\\Lib\\site-packages\\pydrive\\files.py'\n",
    "!\"C:\\Program Files\\Notepad++\\notepad++.exe\" \"{file_path}\""
   ]
  },
  {
   "cell_type": "markdown",
   "metadata": {},
   "source": [
    "\n",
    "Before we start the download process, let's go over setting a few variables:\n",
    "\n",
    "* **The downloads folder:** This is where all the messy work will be done. All mp3 files and any intermediate files will be deleted out of this folder by the end.\n",
    "* **The URL list:** This is where we place our YouTube video URLs. It doesn't matter if you remove the <code>time_continue=</code> parameter in the URL, the mp3 will just start at zero seconds anyway.\n",
    "* **The target folder ID:** This is the folder in Google Drive where our uploads will end up."
   ]
  },
  {
   "cell_type": "code",
   "execution_count": 9,
   "metadata": {},
   "outputs": [],
   "source": [
    "\n",
    "import youtube_dl\n",
    "\n",
    "downloads_folder = r'C:\\Users\\577342\\Downloads\\\\'\n",
    "youtube_url_list = ['https://www.youtube.com/watch?v=9smuj4sA1T8',\n",
    "                    'https://www.youtube.com/watch?v=-r71-TMeHcc',\n",
    "                    'https://www.youtube.com/watch?v=VVuFqB0qwys',\n",
    "                    'https://www.youtube.com/watch?v=5jS2AiQEz-E',\n",
    "                    'https://www.youtube.com/watch?v=vGB8k7jk1AQ',\n",
    "                    'https://www.youtube.com/watch?v=LmJEt-8RpRs',\n",
    "                    'https://www.youtube.com/watch?v=4ODKBG5D4xI']"
   ]
  },
  {
   "cell_type": "markdown",
   "metadata": {},
   "source": [
    "Now we are ready to start the download process by running <code>youtube_dl</code> on our <code>youtube_url_list</code>."
   ]
  },
  {
   "cell_type": "code",
   "execution_count": 10,
   "metadata": {
    "scrolled": false
   },
   "outputs": [
    {
     "name": "stderr",
     "output_type": "stream",
     "text": [
      "[debug] Encodings: locale cp1252, fs utf-8, out UTF-8, pref cp1252\n",
      "[debug] youtube-dl version 2018.12.09\n",
      "[debug] Python version 3.6.8 (CPython) - Windows-10-10.0.17763-SP0\n",
      "[debug] exe versions: ffmpeg N-90173-gfa0c9d69d3, ffprobe N-90173-gfa0c9d69d3, phantomjs 2.1.1\n",
      "[debug] Proxy map: {}\n"
     ]
    },
    {
     "name": "stdout",
     "output_type": "stream",
     "text": [
      "[youtube] 9smuj4sA1T8: Downloading webpage\n",
      "[youtube] 9smuj4sA1T8: Downloading video info webpage\n",
      "[debug] Invoking downloader on 'https://r1---sn-p5qs7nek.googlevideo.com/videoplayback?lmt=1554956624842730&fvip=1&initcwndbps=1903750&id=o-AAOqxO8qqU2wJEeXT7LyWyqwvRuCwhPIDgU5gzOULtmU&ei=YxKyXNWFCo3XNqf7t6AD&sparams=clen%2Cdur%2Cei%2Cgir%2Cid%2Cinitcwndbps%2Cip%2Cipbits%2Citag%2Ckeepalive%2Clmt%2Cmime%2Cmm%2Cmn%2Cms%2Cmv%2Cpl%2Crequiressl%2Csource%2Cexpire&ip=2600%3A6c64%3A657f%3Af499%3A0%3Aca44%3A3ebc%3Af182&pl=32&expire=1555195587&dur=989.781&gir=yes&c=WEB&itag=251&signature=2D862D1182C708AAC6D3FDDF10D1FCF461EEBEF4.46B7279FCC87C94F32E7559EB0B5B8CEF37CDBEE&ipbits=0&source=youtube&mime=audio%2Fwebm&keepalive=yes&mv=m&mt=1555173830&ms=au%2Conr&mn=sn-p5qs7nek%2Csn-vgqsknez&txp=5511222&mm=31%2C26&key=yt6&requiressl=yes&clen=15620020&ratebypass=yes'\n",
      "[download] Destination: C:\\Users\\577342\\Downloads\\Mass Shooters and The Tyranny of The Individual-9smuj4sA1T8.webm\n",
      "[download] 100% of 14.90MiB in 00:02                   \n",
      "[debug] ffmpeg command line: ffprobe -show_streams \"file:C:\\Users\\577342\\Downloads\\Mass Shooters and The Tyranny of The Individual-9smuj4sA1T8.webm\"\n",
      "[ffmpeg] Destination: C:\\Users\\577342\\Downloads\\Mass Shooters and The Tyranny of The Individual-9smuj4sA1T8.mp3\n",
      "[debug] ffmpeg command line: ffmpeg -y -i \"file:C:\\Users\\577342\\Downloads\\Mass Shooters and The Tyranny of The Individual-9smuj4sA1T8.webm\" -vn -acodec libmp3lame \"-b:a\" 192k \"file:C:\\Users\\577342\\Downloads\\Mass Shooters and The Tyranny of The Individual-9smuj4sA1T8.mp3\"\n",
      "Deleting original file C:\\Users\\577342\\Downloads\\Mass Shooters and The Tyranny of The Individual-9smuj4sA1T8.webm (pass -k to keep)\n",
      "[youtube] -r71-TMeHcc: Downloading webpage\n",
      "[youtube] -r71-TMeHcc: Downloading video info webpage\n",
      "[debug] Invoking downloader on 'https://r3---sn-p5qs7n7l.googlevideo.com/videoplayback?keepalive=yes&itag=251&ei=UBOyXJdzwp0Pu76K6AI&requiressl=yes&sparams=clen%2Cdur%2Cei%2Cgir%2Cid%2Cinitcwndbps%2Cip%2Cipbits%2Citag%2Ckeepalive%2Clmt%2Cmime%2Cmm%2Cmn%2Cms%2Cmv%2Cpl%2Crequiressl%2Csource%2Cexpire&key=yt6&ipbits=0&initcwndbps=1912500&pl=32&txp=2301222&fvip=3&lmt=1554995873314537&expire=1555195824&ms=au%2Conr&source=youtube&gir=yes&mime=audio%2Fwebm&mn=sn-p5qs7n7l%2Csn-vgqs7nly&c=WEB&id=o-ADn1v8YHqmX8FAO-PQMygd-ai_MESkr_nyWJ1INBzGMM&dur=297.061&mt=1555174112&mv=m&mm=31%2C26&ip=2600%3A6c64%3A657f%3Af499%3A0%3Aca44%3A3ebc%3Af182&clen=5372659&signature=1E7002EE148AD59B51CAC90DD589D7A285F76833.6F2947D6E1511CA958F99437D8E25D2B6252F98B&ratebypass=yes'\n",
      "[download] Destination: C:\\Users\\577342\\Downloads\\The Archetype of The Messiah - The Centerpiece of Your Mind--r71-TMeHcc.webm\n",
      "[download] 100% of 5.12MiB in 00:00                   \n",
      "[debug] ffmpeg command line: ffprobe -show_streams \"file:C:\\Users\\577342\\Downloads\\The Archetype of The Messiah - The Centerpiece of Your Mind--r71-TMeHcc.webm\"\n",
      "[ffmpeg] Destination: C:\\Users\\577342\\Downloads\\The Archetype of The Messiah - The Centerpiece of Your Mind--r71-TMeHcc.mp3\n",
      "[debug] ffmpeg command line: ffmpeg -y -i \"file:C:\\Users\\577342\\Downloads\\The Archetype of The Messiah - The Centerpiece of Your Mind--r71-TMeHcc.webm\" -vn -acodec libmp3lame \"-b:a\" 192k \"file:C:\\Users\\577342\\Downloads\\The Archetype of The Messiah - The Centerpiece of Your Mind--r71-TMeHcc.mp3\"\n",
      "Deleting original file C:\\Users\\577342\\Downloads\\The Archetype of The Messiah - The Centerpiece of Your Mind--r71-TMeHcc.webm (pass -k to keep)\n",
      "[youtube] VVuFqB0qwys: Downloading webpage\n",
      "[youtube] VVuFqB0qwys: Downloading video info webpage\n",
      "[debug] Invoking downloader on 'https://r3---sn-p5qlsndk.googlevideo.com/videoplayback?fvip=3&keepalive=yes&requiressl=yes&gir=yes&mime=audio%2Fmp4&lmt=1555093784725412&expire=1555195892&signature=B6F0607111F689DEBF57DEC9A9644E9C6D0FB116.C7ADAF09A7BD7124E5AD4FEA3DEF0CD5BF652CAA&source=youtube&clen=10431892&ei=lBOyXOLmEsCOir4Pgu-AsAk&txp=5431432&c=WEB&key=yt6&ipbits=0&mm=31%2C29&mn=sn-p5qlsndk%2Csn-p5qs7ned&pl=32&mt=1555174181&ip=2600%3A6c64%3A657f%3Af499%3A0%3Aca44%3A3ebc%3Af182&mv=m&dur=644.539&initcwndbps=2040000&itag=140&ms=au%2Crdu&sparams=clen%2Cdur%2Cei%2Cgir%2Cid%2Cinitcwndbps%2Cip%2Cipbits%2Citag%2Ckeepalive%2Clmt%2Cmime%2Cmm%2Cmn%2Cms%2Cmv%2Cpl%2Crequiressl%2Csource%2Cexpire&id=o-AAdtSj0bAuCO880WCvhCiqxMQlEkb0QX276PU6DXUToh&ratebypass=yes'\n",
      "[download] Destination: C:\\Users\\577342\\Downloads\\Meme Analysis - Black Hole Memes-VVuFqB0qwys.m4a\n",
      "[download] 100% of 9.95MiB in 00:01                  \n",
      "[ffmpeg] Correcting container in \"C:\\Users\\577342\\Downloads\\Meme Analysis - Black Hole Memes-VVuFqB0qwys.m4a\"\n",
      "[debug] ffmpeg command line: ffmpeg -y -i \"file:C:\\Users\\577342\\Downloads\\Meme Analysis - Black Hole Memes-VVuFqB0qwys.m4a\" -c copy -f mp4 \"file:C:\\Users\\577342\\Downloads\\Meme Analysis - Black Hole Memes-VVuFqB0qwys.temp.m4a\"\n",
      "[debug] ffmpeg command line: ffprobe -show_streams \"file:C:\\Users\\577342\\Downloads\\Meme Analysis - Black Hole Memes-VVuFqB0qwys.m4a\"\n",
      "[ffmpeg] Destination: C:\\Users\\577342\\Downloads\\Meme Analysis - Black Hole Memes-VVuFqB0qwys.mp3\n",
      "[debug] ffmpeg command line: ffmpeg -y -i \"file:C:\\Users\\577342\\Downloads\\Meme Analysis - Black Hole Memes-VVuFqB0qwys.m4a\" -vn -acodec libmp3lame \"-b:a\" 192k \"file:C:\\Users\\577342\\Downloads\\Meme Analysis - Black Hole Memes-VVuFqB0qwys.mp3\"\n",
      "Deleting original file C:\\Users\\577342\\Downloads\\Meme Analysis - Black Hole Memes-VVuFqB0qwys.m4a (pass -k to keep)\n",
      "[youtube] 5jS2AiQEz-E: Downloading webpage\n",
      "[youtube] 5jS2AiQEz-E: Downloading video info webpage\n",
      "[debug] Invoking downloader on 'https://r6---sn-p5qlsnsd.googlevideo.com/videoplayback?requiressl=yes&dur=1824.159&id=o-AOTU-2Cdv14Zl39casHaJs6hYF6HsLoHld9lWp9Uu5Nw&mn=sn-p5qlsnsd%2Csn-p5qs7nee&pl=32&mm=31%2C29&ms=au%2Crdu&mv=m&mt=1555174319&ip=2600%3A6c64%3A657f%3Af499%3A0%3Aca44%3A3ebc%3Af182&initcwndbps=1997500&itag=140&lmt=1555101485800873&expire=1555196023&source=youtube&ipbits=0&sparams=clen%2Cdur%2Cei%2Cgir%2Cid%2Cinitcwndbps%2Cip%2Cipbits%2Citag%2Ckeepalive%2Clmt%2Cmime%2Cmm%2Cmn%2Cms%2Cmv%2Cpl%2Crequiressl%2Csource%2Cexpire&keepalive=yes&gir=yes&clen=29522710&signature=56DB88BA41BDEF2517231673A7618584F9C5C63B.9817B1A0D686EF9807265EC2347E08EE9DDF118D&key=yt6&mime=audio%2Fmp4&ei=FxSyXKPoCIX3DZiFtPAI&c=WEB&fvip=5&txp=5531432&ratebypass=yes'\n",
      "[download] Destination: C:\\Users\\577342\\Downloads\\John Vervaeke - Flow States and Wisdom-5jS2AiQEz-E.m4a\n",
      "[download] 100% of 28.16MiB in 00:03                  \n",
      "[ffmpeg] Correcting container in \"C:\\Users\\577342\\Downloads\\John Vervaeke - Flow States and Wisdom-5jS2AiQEz-E.m4a\"\n",
      "[debug] ffmpeg command line: ffmpeg -y -i \"file:C:\\Users\\577342\\Downloads\\John Vervaeke - Flow States and Wisdom-5jS2AiQEz-E.m4a\" -c copy -f mp4 \"file:C:\\Users\\577342\\Downloads\\John Vervaeke - Flow States and Wisdom-5jS2AiQEz-E.temp.m4a\"\n",
      "[debug] ffmpeg command line: ffprobe -show_streams \"file:C:\\Users\\577342\\Downloads\\John Vervaeke - Flow States and Wisdom-5jS2AiQEz-E.m4a\"\n",
      "[ffmpeg] Destination: C:\\Users\\577342\\Downloads\\John Vervaeke - Flow States and Wisdom-5jS2AiQEz-E.mp3\n",
      "[debug] ffmpeg command line: ffmpeg -y -i \"file:C:\\Users\\577342\\Downloads\\John Vervaeke - Flow States and Wisdom-5jS2AiQEz-E.m4a\" -vn -acodec libmp3lame \"-b:a\" 192k \"file:C:\\Users\\577342\\Downloads\\John Vervaeke - Flow States and Wisdom-5jS2AiQEz-E.mp3\"\n",
      "Deleting original file C:\\Users\\577342\\Downloads\\John Vervaeke - Flow States and Wisdom-5jS2AiQEz-E.m4a (pass -k to keep)\n",
      "[youtube] vGB8k7jk1AQ: Downloading webpage\n",
      "[youtube] vGB8k7jk1AQ: Downloading video info webpage\n",
      "[debug] Invoking downloader on 'https://r4---sn-p5qlsnd6.googlevideo.com/videoplayback?ip=2600%3A6c64%3A657f%3Af499%3A0%3Aca44%3A3ebc%3Af182&mime=audio%2Fwebm&requiressl=yes&mn=sn-p5qlsnd6%2Csn-vgqsdn7s&pl=32&source=youtube&mm=31%2C26&mv=m&mt=1555174545&ms=au%2Conr&id=o-AFEQS44-WD8KcH1FKyeUnSKhph5DFMmgZQZudoymQ8k-&expire=1555196283&gir=yes&lmt=1555123745143044&sparams=clen%2Cdur%2Cei%2Cgir%2Cid%2Cinitcwndbps%2Cip%2Cipbits%2Citag%2Ckeepalive%2Clmt%2Cmime%2Cmm%2Cmn%2Cms%2Cmv%2Cpl%2Crequiressl%2Csource%2Cexpire&ei=GxWyXMC_BYOZigTrsI7QCg&initcwndbps=1973750&signature=56F5FB89F9CF7231458D07D123718EDA2C3C07A7.7108ECEE18EBC212AAF2F90215BA03E4944814C3&fvip=4&dur=3301.281&key=yt6&txp=5531432&keepalive=yes&itag=251&clen=41054938&ipbits=0&c=WEB&ratebypass=yes'\n"
     ]
    },
    {
     "name": "stdout",
     "output_type": "stream",
     "text": [
      "[download] Destination: C:\\Users\\577342\\Downloads\\Ep. 13 - Awakening from the Meaning Crisis - Buddhism and Parasitic Processing-vGB8k7jk1AQ.webm\n",
      "[download] 100% of 39.15MiB in 00:05                   \n",
      "[debug] ffmpeg command line: ffprobe -show_streams \"file:C:\\Users\\577342\\Downloads\\Ep. 13 - Awakening from the Meaning Crisis - Buddhism and Parasitic Processing-vGB8k7jk1AQ.webm\"\n",
      "[ffmpeg] Destination: C:\\Users\\577342\\Downloads\\Ep. 13 - Awakening from the Meaning Crisis - Buddhism and Parasitic Processing-vGB8k7jk1AQ.mp3\n",
      "[debug] ffmpeg command line: ffmpeg -y -i \"file:C:\\Users\\577342\\Downloads\\Ep. 13 - Awakening from the Meaning Crisis - Buddhism and Parasitic Processing-vGB8k7jk1AQ.webm\" -vn -acodec libmp3lame \"-b:a\" 192k \"file:C:\\Users\\577342\\Downloads\\Ep. 13 - Awakening from the Meaning Crisis - Buddhism and Parasitic Processing-vGB8k7jk1AQ.mp3\"\n",
      "Deleting original file C:\\Users\\577342\\Downloads\\Ep. 13 - Awakening from the Meaning Crisis - Buddhism and Parasitic Processing-vGB8k7jk1AQ.webm (pass -k to keep)\n",
      "[youtube] LmJEt-8RpRs: Downloading webpage\n",
      "[youtube] LmJEt-8RpRs: Downloading video info webpage\n",
      "[debug] Invoking downloader on 'https://r4---sn-p5qs7n7s.googlevideo.com/videoplayback?key=yt6&mime=audio%2Fwebm&ei=KheyXLjJN4fUD8HzscgP&expire=1555196811&c=WEB&signature=28C0B54436CA564738065DE2344934B2B4B0E68D.469F4E9459E0AE0E7BE529609B9B20888B00385C&initcwndbps=2038750&itag=251&ip=2600%3A6c64%3A657f%3Af499%3A0%3Aca44%3A3ebc%3Af182&mm=31%2C26&ipbits=0&id=o-AIM_j2yrsOWJ9IMDRWOJciPAjmAt9bbqb_nDJ45jwFw8&keepalive=yes&pl=32&ms=au%2Conr&mv=m&mt=1555175085&source=youtube&requiressl=yes&sparams=clen%2Cdur%2Cei%2Cgir%2Cid%2Cinitcwndbps%2Cip%2Cipbits%2Citag%2Ckeepalive%2Clmt%2Cmime%2Cmm%2Cmn%2Cms%2Cmv%2Cpl%2Crequiressl%2Csource%2Cexpire&mn=sn-p5qs7n7s%2Csn-vgqsener&fvip=3&txp=5531432&gir=yes&clen=7255499&dur=477.041&lmt=1555107082654936&ratebypass=yes'\n",
      "[download] Destination: C:\\Users\\577342\\Downloads\\Accelerationism and Dancing with Death-LmJEt-8RpRs.webm\n",
      "[download] 100% of 6.92MiB in 00:00                  \n",
      "[debug] ffmpeg command line: ffprobe -show_streams \"file:C:\\Users\\577342\\Downloads\\Accelerationism and Dancing with Death-LmJEt-8RpRs.webm\"\n",
      "[ffmpeg] Destination: C:\\Users\\577342\\Downloads\\Accelerationism and Dancing with Death-LmJEt-8RpRs.mp3\n",
      "[debug] ffmpeg command line: ffmpeg -y -i \"file:C:\\Users\\577342\\Downloads\\Accelerationism and Dancing with Death-LmJEt-8RpRs.webm\" -vn -acodec libmp3lame \"-b:a\" 192k \"file:C:\\Users\\577342\\Downloads\\Accelerationism and Dancing with Death-LmJEt-8RpRs.mp3\"\n",
      "Deleting original file C:\\Users\\577342\\Downloads\\Accelerationism and Dancing with Death-LmJEt-8RpRs.webm (pass -k to keep)\n",
      "[youtube] 4ODKBG5D4xI: Downloading webpage\n",
      "[youtube] 4ODKBG5D4xI: Downloading video info webpage\n",
      "[debug] Invoking downloader on 'https://r1---sn-p5qs7nes.googlevideo.com/videoplayback?key=yt6&ip=2600%3A6c64%3A657f%3Af499%3A0%3Aca44%3A3ebc%3Af182&mm=31%2C26&signature=42F726E0D2D3F7EB81113690739D17E6A6404266.2F552D687B248659BDE6B9B688037CA6D5516EE1&mn=sn-p5qs7nes%2Csn-vgqsknee&gcr=us&mv=m&ei=iheyXKH5F4zSwQHZ8Z6ADw&id=o-AJrcKHS1P8d1LQrpYptiAYE3tYZCJKDmHWNa7Gi-B3se&ms=au%2Conr&source=youtube&lmt=1555158592587076&dur=6576.215&pl=32&c=WEB&keepalive=yes&sparams=clen%2Cdur%2Cei%2Cgcr%2Cgir%2Cid%2Cinitcwndbps%2Cip%2Cipbits%2Citag%2Ckeepalive%2Clmt%2Cmime%2Cmm%2Cmn%2Cms%2Cmv%2Cpl%2Crequiressl%2Csource%2Cexpire&initcwndbps=1907500&gir=yes&txp=7311222&fvip=1&mime=audio%2Fmp4&clen=106429447&requiressl=yes&ipbits=0&expire=1555196906&mt=1555175164&itag=140&ratebypass=yes'\n",
      "[download] Destination: C:\\Users\\577342\\Downloads\\Aion 22 ~ Carl Jung on The Archetype of Transformation-4ODKBG5D4xI.m4a\n",
      "[download] 100% of 101.50MiB in 00:18                   \n",
      "[ffmpeg] Correcting container in \"C:\\Users\\577342\\Downloads\\Aion 22 ~ Carl Jung on The Archetype of Transformation-4ODKBG5D4xI.m4a\"\n",
      "[debug] ffmpeg command line: ffmpeg -y -i \"file:C:\\Users\\577342\\Downloads\\Aion 22 ~ Carl Jung on The Archetype of Transformation-4ODKBG5D4xI.m4a\" -c copy -f mp4 \"file:C:\\Users\\577342\\Downloads\\Aion 22 ~ Carl Jung on The Archetype of Transformation-4ODKBG5D4xI.temp.m4a\"\n",
      "[debug] ffmpeg command line: ffprobe -show_streams \"file:C:\\Users\\577342\\Downloads\\Aion 22 ~ Carl Jung on The Archetype of Transformation-4ODKBG5D4xI.m4a\"\n",
      "[ffmpeg] Destination: C:\\Users\\577342\\Downloads\\Aion 22 ~ Carl Jung on The Archetype of Transformation-4ODKBG5D4xI.mp3\n",
      "[debug] ffmpeg command line: ffmpeg -y -i \"file:C:\\Users\\577342\\Downloads\\Aion 22 ~ Carl Jung on The Archetype of Transformation-4ODKBG5D4xI.m4a\" -vn -acodec libmp3lame \"-b:a\" 192k \"file:C:\\Users\\577342\\Downloads\\Aion 22 ~ Carl Jung on The Archetype of Transformation-4ODKBG5D4xI.mp3\"\n",
      "Deleting original file C:\\Users\\577342\\Downloads\\Aion 22 ~ Carl Jung on The Archetype of Transformation-4ODKBG5D4xI.m4a (pass -k to keep)\n",
      "Conversion completed.\n"
     ]
    }
   ],
   "source": [
    "ydl_opts = {\n",
    "    'format': 'bestaudio/best',\n",
    "    'nocheckcertificate': False,\n",
    "    'outtmpl': downloads_folder+youtube_dl.DEFAULT_OUTTMPL,\n",
    "    'postprocessors': [{'key': 'FFmpegExtractAudio',\n",
    "                       'preferredcodec': 'mp3',\n",
    "                       'preferredquality': '192'}],\n",
    "    'verbose': True,\n",
    "    }\n",
    "with youtube_dl.YoutubeDL(ydl_opts) as ydl:\n",
    "    try:\n",
    "        result = ydl.download(youtube_url_list)\n",
    "    except Exception as e:\n",
    "        print(e)\n",
    "print('Conversion completed.')"
   ]
  },
  {
   "cell_type": "markdown",
   "metadata": {},
   "source": [
    "\n",
    "Next, we authenticate with Google by running the builtin web server conventiently provided."
   ]
  },
  {
   "cell_type": "code",
   "execution_count": 11,
   "metadata": {},
   "outputs": [
    {
     "name": "stdout",
     "output_type": "stream",
     "text": [
      "Your browser has been opened to visit:\n",
      "\n",
      "    https://accounts.google.com/o/oauth2/auth?client_id=756414784841-0nkbgkrice8gae3nc4ojafoukr8kb38e.apps.googleusercontent.com&redirect_uri=http%3A%2F%2Flocalhost%3A8080%2F&scope=https%3A%2F%2Fwww.googleapis.com%2Fauth%2Fdrive&access_type=offline&response_type=code\n",
      "\n",
      "Authentication successful.\n"
     ]
    }
   ],
   "source": [
    "\n",
    "from pydrive.auth import GoogleAuth\n",
    "\n",
    "# The URL that gets displayed here is not suitable for public consumption\n",
    "GoogleAuth.DEFAULT_SETTINGS['client_config_file'] = r'../json/client_secrets.json'\n",
    "gauth = GoogleAuth()\n",
    "gauth.LocalWebserverAuth()"
   ]
  },
  {
   "cell_type": "markdown",
   "metadata": {},
   "source": [
    "\n",
    "Before you run the next cell, in the online web page of Google Drive, bring up the share dialog box of the folder you are uploading to and copy its folder id into the <code>tgt_folder_id</code> string. If you right-click on the folder and select **Share...** and then click **Get shareable link**, you will see something like:\n",
    "\n",
    "https://drive.google.com/drive/folders/1syfUx6jukbW1CWIEy8xoM9veGGr5MBUx?usp=sharing\n",
    "\n",
    "It's that **1syfUx6jukbW1CWIEy8xoM9veGGr5MBUx** that you need to copy."
   ]
  },
  {
   "cell_type": "code",
   "execution_count": 12,
   "metadata": {},
   "outputs": [],
   "source": [
    "\n",
    "from pydrive.drive import GoogleDrive\n",
    "\n",
    "# Create GoogleDrive instance with authenticated GoogleAuth instance\n",
    "drive = GoogleDrive(gauth)\n",
    "\n",
    "# ID of the \"Reading Material\" folder\n",
    "tgt_folder_id = '1syfUx6jukbW1CWIEy8xoM9veGGr5MBUh'"
   ]
  },
  {
   "cell_type": "markdown",
   "metadata": {},
   "source": [
    "\n",
    "Next, we will upload all the mp3s in our download folder."
   ]
  },
  {
   "cell_type": "code",
   "execution_count": 13,
   "metadata": {},
   "outputs": [
    {
     "name": "stdout",
     "output_type": "stream",
     "text": [
      "Uploaded Accelerationism and Dancing with Death-LmJEt-8RpRs.mp3 (audio/mp3)\n",
      "Uploaded Aion 22 ~ Carl Jung on The Archetype of Transformation-4ODKBG5D4xI.mp3 (audio/mp3)\n",
      "Uploaded Ep. 13 - Awakening from the Meaning Crisis - Buddhism and Parasitic Processing-vGB8k7jk1AQ.mp3 (audio/mp3)\n",
      "Uploaded John Vervaeke - Flow States and Wisdom-5jS2AiQEz-E.mp3 (audio/mp3)\n",
      "Uploaded Mass Shooters and The Tyranny of The Individual-9smuj4sA1T8.mp3 (audio/mp3)\n",
      "Uploaded Meme Analysis - Black Hole Memes-VVuFqB0qwys.mp3 (audio/mp3)\n",
      "Uploaded The Archetype of The Messiah - The Centerpiece of Your Mind--r71-TMeHcc.mp3 (audio/mp3)\n",
      "Upload completed.\n"
     ]
    }
   ],
   "source": [
    "\n",
    "import os\n",
    "\n",
    "# Upload all mp3s from the Downloads folder to Google Drive's \"Reading Material\" folder\n",
    "gfile_dict = {}\n",
    "for subdir, dirs, files in os.walk(downloads_folder):\n",
    "    for src_file in files:\n",
    "        if src_file.endswith('.mp3'):\n",
    "            src_path = os.path.join(subdir, src_file)\n",
    "            gfile_dict[src_file] = drive.CreateFile({'title':src_file, 'mimeType':'audio/mp3',\n",
    "                                                     'parents': [{'kind': 'drive#fileLink',\n",
    "                                                                  'id': tgt_folder_id}]})\n",
    "\n",
    "            # Read mp3 file and set it as a content of this instance\n",
    "            gfile_dict[src_file].SetContentFile(src_path)\n",
    "            \n",
    "            # Upload the file\n",
    "            try:\n",
    "                gfile_dict[src_file].Upload()\n",
    "                print('Uploaded %s (%s)' % (gfile_dict[src_file]['title'],\n",
    "                                            gfile_dict[src_file]['mimeType']))\n",
    "            except Exception as e:\n",
    "                print('Upload failed for %s (%s): %s' % (gfile_dict[src_file]['title'],\n",
    "                                                         gfile_dict[src_file]['mimeType'], e))\n",
    "print('Upload completed.')"
   ]
  },
  {
   "cell_type": "markdown",
   "metadata": {},
   "source": [
    "\n",
    "Download the mp3s to <a href='http://www.voicedream.com/support/user-manual/#file'>Voice Dream</a> before you run the trash cell (below)."
   ]
  },
  {
   "cell_type": "code",
   "execution_count": 6,
   "metadata": {},
   "outputs": [
    {
     "name": "stdout",
     "output_type": "stream",
     "text": [
      "Trashed Aion 21 ~ Carl Jung on The Messiah Archetype-MFNRJBBKcWs.mp3 (audio/mp3)\n",
      "Trashed Ep. 12 - Awakening from the Meaning Crisis - Higher States of Consciousness, Part 2-rvx4_0NAfaY.mp3 (audio/mp3)\n",
      "Trashed Scientists Prove Jesus Was an Alpha Male-zpQRorjLNrM.mp3 (audio/mp3)\n",
      "Trashed The Machine is Just a Whore-xHqY-pFXqFA.mp3 (audio/mp3)\n",
      "Trashed The Polyamorous Professors, Diana Fleischman & Geoffrey Miller-rRC6JYSbgsE.mp3 (audio/mp3)\n",
      "Trashed We Make Stories Out of Totem Poles-RUo6Xz9asgw.mp3 (audio/mp3)\n",
      "Trashing completed.\n"
     ]
    }
   ],
   "source": [
    "\n",
    "import os\n",
    "\n",
    "# Trash all mp3s from Google Drive's \"Reading Material\" folder\n",
    "for src_file in gfile_dict.keys():\n",
    "\n",
    "    # Trash mp3 file\n",
    "    try:\n",
    "        gfile_dict[src_file].Trash()\n",
    "        print('Trashed %s (%s)' % (gfile_dict[src_file]['title'],\n",
    "                                   gfile_dict[src_file]['mimeType']))\n",
    "    except Exception as e:\n",
    "        print('Trash failed for %s (%s): %s' % (gfile_dict[src_file]['title'],\n",
    "                                                gfile_dict[src_file]['mimeType'], e))\n",
    "    \n",
    "print('Trashing completed.')"
   ]
  },
  {
   "cell_type": "markdown",
   "metadata": {},
   "source": [
    "\n",
    "Lastly, we run the code that will delete all the mp3s out of our downloads folder."
   ]
  },
  {
   "cell_type": "code",
   "execution_count": 7,
   "metadata": {},
   "outputs": [
    {
     "name": "stdout",
     "output_type": "stream",
     "text": [
      "Deleted Aion 21 ~ Carl Jung on The Messiah Archetype-MFNRJBBKcWs.mp3 (audio/mp3)\n",
      "Deleted Ep. 12 - Awakening from the Meaning Crisis - Higher States of Consciousness, Part 2-rvx4_0NAfaY.mp3 (audio/mp3)\n",
      "Deleted Scientists Prove Jesus Was an Alpha Male-zpQRorjLNrM.mp3 (audio/mp3)\n",
      "Deleted The Machine is Just a Whore-xHqY-pFXqFA.mp3 (audio/mp3)\n",
      "Deleted The Polyamorous Professors, Diana Fleischman & Geoffrey Miller-rRC6JYSbgsE.mp3 (audio/mp3)\n",
      "Deleted We Make Stories Out of Totem Poles-RUo6Xz9asgw.mp3 (audio/mp3)\n",
      "Deleting completed.\n"
     ]
    }
   ],
   "source": [
    "\n",
    "import os\n",
    "\n",
    "# Delete all mp3s in the Downloads folder\n",
    "for src_file in gfile_dict.keys():\n",
    "    src_path = os.path.join(downloads_folder, src_file)\n",
    "\n",
    "    # Delete the file\n",
    "    try:\n",
    "        os.remove(src_path)\n",
    "        print('Deleted %s (%s)' % (src_file,\n",
    "                                   gfile_dict[src_file]['mimeType']))\n",
    "    except Exception as e:\n",
    "        print('Failed to delete %s (%s): %s' % (src_file,\n",
    "                                                gfile_dict[src_file]['mimeType'], e))\n",
    "print('Deleting completed.')"
   ]
  },
  {
   "cell_type": "code",
   "execution_count": 8,
   "metadata": {},
   "outputs": [
    {
     "data": {
      "text/html": [
       "If you want to, you can <a href=\"https://drive.google.com/drive/u/0/folders/1syfUx6jukbW1CWIEy8xoM9veGGr5MBUh\" target=\"_blank\">open up your Google Drive target folder</a> and check if everything got deleted."
      ],
      "text/plain": [
       "<IPython.core.display.HTML object>"
      ]
     },
     "execution_count": 8,
     "metadata": {},
     "output_type": "execute_result"
    }
   ],
   "source": [
    "\n",
    "from IPython.display import HTML\n",
    "\n",
    "rm_url = 'https://drive.google.com/drive/u/0/folders/{}'.format(tgt_folder_id)\n",
    "message_str = 'open up your Google Drive target folder'\n",
    "rm_link = '<a href=\"{}\" target=\"_blank\">{}</a>'.format(rm_url, message_str)\n",
    "message_str = 'If you want to, you can {} and'.format(rm_link)\n",
    "message_str += ' check if everything got deleted.'\n",
    "HTML(message_str)"
   ]
  },
  {
   "cell_type": "code",
   "execution_count": 25,
   "metadata": {},
   "outputs": [],
   "source": [
    "\n",
    "!\"C:\\Program Files (x86)\\Google\\Chrome\\Application\\chrome.exe\" {rm_url}"
   ]
  },
  {
   "cell_type": "code",
   "execution_count": null,
   "metadata": {},
   "outputs": [],
   "source": []
  }
 ],
 "metadata": {
  "anaconda-cloud": {},
  "kernelspec": {
   "display_name": "Python 3",
   "language": "python",
   "name": "python3"
  },
  "language_info": {
   "codemirror_mode": {
    "name": "ipython",
    "version": 3
   },
   "file_extension": ".py",
   "mimetype": "text/x-python",
   "name": "python",
   "nbconvert_exporter": "python",
   "pygments_lexer": "ipython3",
   "version": "3.6.8"
  }
 },
 "nbformat": 4,
 "nbformat_minor": 2
}
