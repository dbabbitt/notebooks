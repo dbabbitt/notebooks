{
 "cells": [
  {
   "cell_type": "markdown",
   "metadata": {},
   "source": [
    "\n",
    "## Upload YouTube Videos to the Reading Material Folder Manually"
   ]
  },
  {
   "cell_type": "markdown",
   "metadata": {},
   "source": [
    "\n",
    "In this notebook, we will take URLs of videos, convert them to mp3s, upload them to Google Drive, trash them, and delete them."
   ]
  },
  {
   "cell_type": "markdown",
   "metadata": {},
   "source": [
    "\n",
    "We will start by ensuring that all the necessary python libraries are installed."
   ]
  },
  {
   "cell_type": "code",
   "execution_count": null,
   "metadata": {},
   "outputs": [],
   "source": [
    "\n",
    "import sys\n",
    "\n",
    "print('conda update --all --yes --prefix \"{}\"'.format(sys.prefix))"
   ]
  },
  {
   "cell_type": "code",
   "execution_count": null,
   "metadata": {},
   "outputs": [],
   "source": [
    "\n",
    "!{sys.executable} -m pip install --upgrade youtube_dl"
   ]
  },
  {
   "cell_type": "code",
   "execution_count": null,
   "metadata": {},
   "outputs": [],
   "source": [
    "\n",
    "!youtube-dl --version"
   ]
  },
  {
   "cell_type": "code",
   "execution_count": null,
   "metadata": {},
   "outputs": [],
   "source": [
    "\n",
    "!{sys.executable} -m pip install --upgrade PyDrive"
   ]
  },
  {
   "cell_type": "markdown",
   "metadata": {},
   "source": [
    "\n",
    "Next, we will prove to ourselves that we have ffmpeg correctly installed."
   ]
  },
  {
   "cell_type": "code",
   "execution_count": null,
   "metadata": {},
   "outputs": [],
   "source": [
    "\n",
    "# https://github.com/adaptlearning/adapt_authoring/wiki/Installing-FFmpeg\n",
    "!ffmpeg -version"
   ]
  },
  {
   "cell_type": "markdown",
   "metadata": {},
   "source": [
    "\n",
    "Performing authentication with Google Drive requires we keep our client id and consumer secret in a json file. Keep your secrets off the internet!"
   ]
  },
  {
   "cell_type": "code",
   "execution_count": null,
   "metadata": {},
   "outputs": [],
   "source": [
    "\n",
    "!start %windir%\\explorer.exe \"C:\\Users\\dev\\Documents\\repositories\\notebooks\\Miscellaneous\\json\""
   ]
  },
  {
   "cell_type": "markdown",
   "metadata": {},
   "source": [
    "\n",
    "We also make sure line 286 of pydrive's files.py file reads <code>self.content.close()</code> before we run the trash cell."
   ]
  },
  {
   "cell_type": "code",
   "execution_count": null,
   "metadata": {},
   "outputs": [],
   "source": [
    "\n",
    "file_path = 'C:\\Users\\dev\\Anaconda3\\Lib\\site-packages\\pydrive\\files.py'\n",
    "!\"C:\\Program Files\\Notepad++\\notepad++.exe\" \"{file_path}\""
   ]
  },
  {
   "cell_type": "markdown",
   "metadata": {},
   "source": [
    "\n",
    "Before we start the download process, let's go over setting a few variables:\n",
    "\n",
    "* **The downloads folder:** This is where all the messy work will be done. All mp3 files and any intermediate files will be deleted out of this folder by the end.\n",
    "* **The URL list:** This is where we place our YouTube video URLs. It doesn't matter if you remove the <code>time_continue=</code> parameter in the URL, the mp3 will just start at zero seconds anyway.\n",
    "* **The target folder ID:** This is the folder in Google Drive where our uploads will end up."
   ]
  },
  {
   "cell_type": "code",
   "execution_count": 17,
   "metadata": {},
   "outputs": [],
   "source": [
    "\n",
    "import youtube_dl\n",
    "\n",
    "downloads_folder = r'C:\\Users\\577342\\Downloads\\\\'\n",
    "youtube_url_list = ['https://www.youtube.com/watch?v=ce3lGUdC3eI',\n",
    "                    'https://www.youtube.com/watch?v=o2bFzK2EdIo']"
   ]
  },
  {
   "cell_type": "markdown",
   "metadata": {},
   "source": [
    "Now we are ready to start the download process by running <code>youtube_dl</code> on our <code>youtube_url_list</code>."
   ]
  },
  {
   "cell_type": "code",
   "execution_count": 18,
   "metadata": {
    "scrolled": false
   },
   "outputs": [
    {
     "name": "stderr",
     "output_type": "stream",
     "text": [
      "[debug] Encodings: locale cp1252, fs utf-8, out UTF-8, pref cp1252\n",
      "[debug] youtube-dl version 2018.12.09\n",
      "[debug] Python version 3.6.8 (CPython) - Windows-10-10.0.17763-SP0\n",
      "[debug] exe versions: ffmpeg N-90173-gfa0c9d69d3, ffprobe N-90173-gfa0c9d69d3, phantomjs 2.1.1\n",
      "[debug] Proxy map: {}\n"
     ]
    },
    {
     "name": "stdout",
     "output_type": "stream",
     "text": [
      "[youtube] ce3lGUdC3eI: Downloading webpage\n",
      "[youtube] ce3lGUdC3eI: Downloading video info webpage\n",
      "[debug] Invoking downloader on 'https://r3---sn-p5qlsndz.googlevideo.com/videoplayback?mn=sn-p5qlsndz%2Csn-vgqskne6&mm=31%2C26&dur=377.741&gir=yes&lmt=1553642947832383&clen=6142243&mv=m&mt=1553796438&ms=au%2Conr&source=youtube&mime=audio%2Fwebm&keepalive=yes&itag=251&expire=1553818152&fvip=3&sparams=clen%2Cdur%2Cei%2Cgir%2Cid%2Cinitcwndbps%2Cip%2Cipbits%2Citag%2Ckeepalive%2Clmt%2Cmime%2Cmm%2Cmn%2Cms%2Cmv%2Cpl%2Crequiressl%2Csource%2Cexpire&c=WEB&initcwndbps=1917500&txp=5411222&signature=39208905E8AEB732AF91CFCC7EE8024C74FBBCA6.4A15AE3C18E801F530C43C97388D61B17E9A17B8&requiressl=yes&pl=32&ip=2600%3A6c64%3A657f%3Af499%3A0%3Aab34%3A2e17%3A2a78&key=yt6&ipbits=0&id=o-AFJ73832F8j7waJgR7BHaGdQxDHlo-4h7zFO85aZSv7I&ei=yA2dXJyCFYGQir4P3ZKeuAk&ratebypass=yes'\n",
      "[download] Destination: C:\\Users\\577342\\Downloads\\Greek Mythology Explains How Whamen Ruined Everything-ce3lGUdC3eI.webm\n",
      "[download] 100% of 5.86MiB in 00:00                  \n",
      "[debug] ffmpeg command line: ffprobe -show_streams \"file:C:\\Users\\577342\\Downloads\\Greek Mythology Explains How Whamen Ruined Everything-ce3lGUdC3eI.webm\"\n",
      "[ffmpeg] Destination: C:\\Users\\577342\\Downloads\\Greek Mythology Explains How Whamen Ruined Everything-ce3lGUdC3eI.mp3\n",
      "[debug] ffmpeg command line: ffmpeg -y -i \"file:C:\\Users\\577342\\Downloads\\Greek Mythology Explains How Whamen Ruined Everything-ce3lGUdC3eI.webm\" -vn -acodec libmp3lame \"-b:a\" 192k \"file:C:\\Users\\577342\\Downloads\\Greek Mythology Explains How Whamen Ruined Everything-ce3lGUdC3eI.mp3\"\n",
      "Deleting original file C:\\Users\\577342\\Downloads\\Greek Mythology Explains How Whamen Ruined Everything-ce3lGUdC3eI.webm (pass -k to keep)\n",
      "[youtube] o2bFzK2EdIo: Downloading webpage\n",
      "[youtube] o2bFzK2EdIo: Downloading video info webpage\n",
      "[debug] Invoking downloader on 'https://r3---sn-p5qlsnsk.googlevideo.com/videoplayback?requiressl=yes&gir=yes&sparams=clen%2Cdur%2Cei%2Cgir%2Cid%2Cinitcwndbps%2Cip%2Cipbits%2Citag%2Ckeepalive%2Clmt%2Cmime%2Cmm%2Cmn%2Cms%2Cmv%2Cpl%2Crequiressl%2Csource%2Cexpire&txp=4531432&key=yt6&clen=85808471&lmt=1553731454395520&ei=Pw6dXOLQBc_FwQGK07GYDg&ip=2600%3A6c64%3A657f%3Af499%3A0%3Aab34%3A2e17%3A2a78&c=WEB&mt=1553796507&expire=1553818271&mn=sn-p5qlsnsk%2Csn-vgqsrn7d&mm=31%2C26&ipbits=0&itag=140&pl=32&initcwndbps=2008750&id=o-AAArlt_aKIRoAzlIfUg7fdQ9a-HE_8JrDhlcNdVaBYxv&dur=5302.044&fvip=3&ms=au%2Conr&signature=528F1BD2CB2B5AE8155F8016BA866F7069A414F3.377799F51045B6EB4D43FDF71754E1551E23561E&mime=audio%2Fmp4&mv=m&source=youtube&keepalive=yes&ratebypass=yes'\n",
      "[download] Destination: C:\\Users\\577342\\Downloads\\Jamil Jivani - Author of 'Why Young Men'-o2bFzK2EdIo.m4a\n",
      "[download] 100% of 81.83MiB in 00:08                   \n",
      "[ffmpeg] Correcting container in \"C:\\Users\\577342\\Downloads\\Jamil Jivani - Author of 'Why Young Men'-o2bFzK2EdIo.m4a\"\n",
      "[debug] ffmpeg command line: ffmpeg -y -i \"file:C:\\Users\\577342\\Downloads\\Jamil Jivani - Author of 'Why Young Men'-o2bFzK2EdIo.m4a\" -c copy -f mp4 \"file:C:\\Users\\577342\\Downloads\\Jamil Jivani - Author of 'Why Young Men'-o2bFzK2EdIo.temp.m4a\"\n",
      "[debug] ffmpeg command line: ffprobe -show_streams \"file:C:\\Users\\577342\\Downloads\\Jamil Jivani - Author of 'Why Young Men'-o2bFzK2EdIo.m4a\"\n",
      "[ffmpeg] Destination: C:\\Users\\577342\\Downloads\\Jamil Jivani - Author of 'Why Young Men'-o2bFzK2EdIo.mp3\n",
      "[debug] ffmpeg command line: ffmpeg -y -i \"file:C:\\Users\\577342\\Downloads\\Jamil Jivani - Author of 'Why Young Men'-o2bFzK2EdIo.m4a\" -vn -acodec libmp3lame \"-b:a\" 192k \"file:C:\\Users\\577342\\Downloads\\Jamil Jivani - Author of 'Why Young Men'-o2bFzK2EdIo.mp3\"\n",
      "Deleting original file C:\\Users\\577342\\Downloads\\Jamil Jivani - Author of 'Why Young Men'-o2bFzK2EdIo.m4a (pass -k to keep)\n",
      "Conversion completed.\n"
     ]
    }
   ],
   "source": [
    "ydl_opts = {\n",
    "    'format': 'bestaudio/best',\n",
    "    'nocheckcertificate': False,\n",
    "    'outtmpl': downloads_folder+youtube_dl.DEFAULT_OUTTMPL,\n",
    "    'postprocessors': [{'key': 'FFmpegExtractAudio',\n",
    "                       'preferredcodec': 'mp3',\n",
    "                       'preferredquality': '192'}],\n",
    "    'verbose': True,\n",
    "    }\n",
    "with youtube_dl.YoutubeDL(ydl_opts) as ydl:\n",
    "    try:\n",
    "        result = ydl.download(youtube_url_list)\n",
    "    except Exception as e:\n",
    "        print(e)\n",
    "print('Conversion completed.')"
   ]
  },
  {
   "cell_type": "markdown",
   "metadata": {},
   "source": [
    "\n",
    "Next, we authenticate with Google by running the builtin web server conventiently provided."
   ]
  },
  {
   "cell_type": "code",
   "execution_count": 19,
   "metadata": {},
   "outputs": [
    {
     "name": "stdout",
     "output_type": "stream",
     "text": [
      "Your browser has been opened to visit:\n",
      "\n",
      "    https://accounts.google.com/o/oauth2/auth?client_id=756414784841-0nkbgkrice8gae3nc4ojafoukr8kb38e.apps.googleusercontent.com&redirect_uri=http%3A%2F%2Flocalhost%3A8080%2F&scope=https%3A%2F%2Fwww.googleapis.com%2Fauth%2Fdrive&access_type=offline&response_type=code\n",
      "\n",
      "Authentication successful.\n"
     ]
    }
   ],
   "source": [
    "\n",
    "from pydrive.auth import GoogleAuth\n",
    "\n",
    "# The URL that gets displayed here is not suitable for public consumption\n",
    "GoogleAuth.DEFAULT_SETTINGS['client_config_file'] = r'../json/client_secrets.json'\n",
    "gauth = GoogleAuth()\n",
    "gauth.LocalWebserverAuth()"
   ]
  },
  {
   "cell_type": "markdown",
   "metadata": {},
   "source": [
    "\n",
    "Before you run the next cell, in the online web page of Google Drive, bring up the share dialog box of the folder you are uploading to and copy its folder id into the <code>tgt_folder_id</code> string. If you right-click on the folder and select **Share...** and then click **Get shareable link**, you will see something like:\n",
    "\n",
    "https://drive.google.com/drive/folders/1syfUx6jukbW1CWIEy8xoM9veGGr5MBUx?usp=sharing\n",
    "\n",
    "It's that **1syfUx6jukbW1CWIEy8xoM9veGGr5MBUx** that you need to copy."
   ]
  },
  {
   "cell_type": "code",
   "execution_count": 20,
   "metadata": {},
   "outputs": [],
   "source": [
    "\n",
    "from pydrive.drive import GoogleDrive\n",
    "\n",
    "# Create GoogleDrive instance with authenticated GoogleAuth instance\n",
    "drive = GoogleDrive(gauth)\n",
    "\n",
    "# ID of the \"Reading Material\" folder\n",
    "tgt_folder_id = '1syfUx6jukbW1CWIEy8xoM9veGGr5MBUh'"
   ]
  },
  {
   "cell_type": "markdown",
   "metadata": {},
   "source": [
    "\n",
    "Next, we will upload all the mp3s in our download folder."
   ]
  },
  {
   "cell_type": "code",
   "execution_count": 21,
   "metadata": {},
   "outputs": [
    {
     "name": "stdout",
     "output_type": "stream",
     "text": [
      "Uploaded Greek Mythology Explains How Whamen Ruined Everything-ce3lGUdC3eI.mp3 (audio/mp3)\n",
      "Uploaded Jamil Jivani - Author of 'Why Young Men'-o2bFzK2EdIo.mp3 (audio/mp3)\n",
      "Upload completed.\n"
     ]
    }
   ],
   "source": [
    "\n",
    "import os\n",
    "\n",
    "# Upload all mp3s from the Downloads folder to Google Drive's \"Reading Material\" folder\n",
    "gfile_dict = {}\n",
    "for subdir, dirs, files in os.walk(downloads_folder):\n",
    "    for src_file in files:\n",
    "        if src_file.endswith('.mp3'):\n",
    "            src_path = os.path.join(subdir, src_file)\n",
    "            gfile_dict[src_file] = drive.CreateFile({'title':src_file, 'mimeType':'audio/mp3',\n",
    "                                                     'parents': [{'kind': 'drive#fileLink',\n",
    "                                                                  'id': tgt_folder_id}]})\n",
    "\n",
    "            # Read mp3 file and set it as a content of this instance\n",
    "            gfile_dict[src_file].SetContentFile(src_path)\n",
    "            \n",
    "            # Upload the file\n",
    "            try:\n",
    "                gfile_dict[src_file].Upload()\n",
    "                print('Uploaded %s (%s)' % (gfile_dict[src_file]['title'],\n",
    "                                            gfile_dict[src_file]['mimeType']))\n",
    "            except Exception as e:\n",
    "                print('Upload failed for %s (%s): %s' % (gfile_dict[src_file]['title'],\n",
    "                                                         gfile_dict[src_file]['mimeType'], e))\n",
    "print('Upload completed.')"
   ]
  },
  {
   "cell_type": "markdown",
   "metadata": {},
   "source": [
    "\n",
    "Download the mp3s to <a href='http://www.voicedream.com/support/user-manual/#file'>Voice Dream</a> before you run the trash cell (below)."
   ]
  },
  {
   "cell_type": "code",
   "execution_count": 22,
   "metadata": {},
   "outputs": [
    {
     "name": "stdout",
     "output_type": "stream",
     "text": [
      "Your browser has been opened to visit:\n",
      "\n",
      "    https://accounts.google.com/o/oauth2/auth?client_id=756414784841-0nkbgkrice8gae3nc4ojafoukr8kb38e.apps.googleusercontent.com&redirect_uri=http%3A%2F%2Flocalhost%3A8080%2F&scope=https%3A%2F%2Fwww.googleapis.com%2Fauth%2Fdrive&access_type=offline&response_type=code\n",
      "\n",
      "Authentication successful.\n",
      "Trash failed for Greek Mythology Explains How Whamen Ruined Everything-ce3lGUdC3eI.mp3 (audio/mp3): [WinError 10053] An established connection was aborted by the software in your host machine\n",
      "Trashed Jamil Jivani - Author of 'Why Young Men'-o2bFzK2EdIo.mp3 (audio/mp3)\n",
      "Trashing completed.\n"
     ]
    }
   ],
   "source": [
    "\n",
    "import os\n",
    "\n",
    "# Trash all mp3s from Google Drive's \"Reading Material\" folder\n",
    "for src_file in gfile_dict.keys():\n",
    "\n",
    "    # Trash mp3 file\n",
    "    try:\n",
    "        gfile_dict[src_file].Trash()\n",
    "        print('Trashed %s (%s)' % (gfile_dict[src_file]['title'],\n",
    "                                   gfile_dict[src_file]['mimeType']))\n",
    "    except Exception as e:\n",
    "        print('Trash failed for %s (%s): %s' % (gfile_dict[src_file]['title'],\n",
    "                                                gfile_dict[src_file]['mimeType'], e))\n",
    "    \n",
    "print('Trashing completed.')"
   ]
  },
  {
   "cell_type": "markdown",
   "metadata": {},
   "source": [
    "\n",
    "Lastly, we run the code that will delete all the mp3s out of our downloads folder."
   ]
  },
  {
   "cell_type": "code",
   "execution_count": 23,
   "metadata": {},
   "outputs": [
    {
     "name": "stdout",
     "output_type": "stream",
     "text": [
      "Deleted Greek Mythology Explains How Whamen Ruined Everything-ce3lGUdC3eI.mp3 (audio/mp3)\n",
      "Deleted Jamil Jivani - Author of 'Why Young Men'-o2bFzK2EdIo.mp3 (audio/mp3)\n",
      "Deleting completed.\n"
     ]
    }
   ],
   "source": [
    "\n",
    "import os\n",
    "\n",
    "# Delete all mp3s in the Downloads folder\n",
    "for src_file in gfile_dict.keys():\n",
    "    src_path = os.path.join(downloads_folder, src_file)\n",
    "\n",
    "    # Delete the file\n",
    "    try:\n",
    "        os.remove(src_path)\n",
    "        print('Deleted %s (%s)' % (src_file,\n",
    "                                   gfile_dict[src_file]['mimeType']))\n",
    "    except Exception as e:\n",
    "        print('Failed to delete %s (%s): %s' % (src_file,\n",
    "                                                gfile_dict[src_file]['mimeType'], e))\n",
    "print('Deleting completed.')"
   ]
  },
  {
   "cell_type": "code",
   "execution_count": 24,
   "metadata": {},
   "outputs": [
    {
     "data": {
      "text/html": [
       "If you want to, you can <a href=\"https://drive.google.com/drive/u/0/folders/1syfUx6jukbW1CWIEy8xoM9veGGr5MBUh\" target=\"_blank\">open up your Google Drive target folder</a> and check if everything got deleted."
      ],
      "text/plain": [
       "<IPython.core.display.HTML object>"
      ]
     },
     "execution_count": 24,
     "metadata": {},
     "output_type": "execute_result"
    }
   ],
   "source": [
    "\n",
    "from IPython.display import HTML\n",
    "\n",
    "rm_url = 'https://drive.google.com/drive/u/0/folders/{}'.format(tgt_folder_id)\n",
    "message_str = 'open up your Google Drive target folder'\n",
    "rm_link = '<a href=\"{}\" target=\"_blank\">{}</a>'.format(rm_url, message_str)\n",
    "message_str = 'If you want to, you can {} and'.format(rm_link)\n",
    "message_str += ' check if everything got deleted.'\n",
    "HTML(message_str)"
   ]
  },
  {
   "cell_type": "code",
   "execution_count": 25,
   "metadata": {},
   "outputs": [],
   "source": [
    "\n",
    "!\"C:\\Program Files (x86)\\Google\\Chrome\\Application\\chrome.exe\" {rm_url}"
   ]
  },
  {
   "cell_type": "code",
   "execution_count": null,
   "metadata": {},
   "outputs": [],
   "source": []
  }
 ],
 "metadata": {
  "anaconda-cloud": {},
  "kernelspec": {
   "display_name": "Python 3",
   "language": "python",
   "name": "python3"
  },
  "language_info": {
   "codemirror_mode": {
    "name": "ipython",
    "version": 3
   },
   "file_extension": ".py",
   "mimetype": "text/x-python",
   "name": "python",
   "nbconvert_exporter": "python",
   "pygments_lexer": "ipython3",
   "version": "3.6.8"
  }
 },
 "nbformat": 4,
 "nbformat_minor": 2
}
