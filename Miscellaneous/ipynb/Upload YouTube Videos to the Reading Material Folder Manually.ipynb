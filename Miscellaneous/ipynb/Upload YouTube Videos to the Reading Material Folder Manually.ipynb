{
 "cells": [
  {
   "cell_type": "markdown",
   "metadata": {},
   "source": [
    "\n",
    "## Upload YouTube Videos to the Reading Material Folder Manually"
   ]
  },
  {
   "cell_type": "markdown",
   "metadata": {},
   "source": [
    "\n",
    "In this notebook, we will take URLs of videos, convert them to mp3s, upload them to Google Drive, trash them, and delete them."
   ]
  },
  {
   "cell_type": "markdown",
   "metadata": {},
   "source": [
    "\n",
    "We will start by ensuring that all the necessary python libraries are installed."
   ]
  },
  {
   "cell_type": "code",
   "execution_count": null,
   "metadata": {},
   "outputs": [],
   "source": [
    "\n",
    "import sys\n",
    "\n",
    "print('conda update --all --yes --prefix \"{}\"'.format(sys.prefix))"
   ]
  },
  {
   "cell_type": "code",
   "execution_count": null,
   "metadata": {},
   "outputs": [],
   "source": [
    "\n",
    "import sys\n",
    "\n",
    "# youtube-dl-2019.8.2\n",
    "!{sys.executable} -m pip install --upgrade youtube_dl"
   ]
  },
  {
   "cell_type": "code",
   "execution_count": null,
   "metadata": {},
   "outputs": [],
   "source": [
    "\n",
    "import os\n",
    "\n",
    "# https://github.com/ytdl-org/youtube-dl/issues/20758\n",
    "# Just replaced 'token' to 'account_playback_token' in line 1674 of extractor/youtube.py\n",
    "# All seems to work.\n",
    "text_editor_path = r'C:\\Program Files\\Notepad++\\notepad++.exe'\n",
    "#text_editor_path = r'C:\\Program Files\\Sublime Text 3\\sublime_text.exe'\n",
    "for sub_dir, dirs_list, files_list in os.walk(r'{}\\Lib\\site-packages\\youtube_dl'.format(sys.prefix)):\n",
    "    for file_name in files_list:\n",
    "        if 'youtube.py' == file_name:\n",
    "            file_path = os.path.join(sub_dir, file_name)\n",
    "            print(file_path)\n",
    "!\"{text_editor_path}\" \"{file_path}\""
   ]
  },
  {
   "cell_type": "code",
   "execution_count": null,
   "metadata": {},
   "outputs": [],
   "source": [
    "\n",
    "!youtube-dl --version"
   ]
  },
  {
   "cell_type": "code",
   "execution_count": null,
   "metadata": {},
   "outputs": [],
   "source": [
    "\n",
    "!{sys.executable} -m pip install --upgrade PyDrive"
   ]
  },
  {
   "cell_type": "markdown",
   "metadata": {},
   "source": [
    "\n",
    "Next, we will prove to ourselves that we have ffmpeg correctly installed."
   ]
  },
  {
   "cell_type": "code",
   "execution_count": null,
   "metadata": {},
   "outputs": [],
   "source": [
    "\n",
    "# https://github.com/adaptlearning/adapt_authoring/wiki/Installing-FFmpeg\n",
    "!ffmpeg -version"
   ]
  },
  {
   "cell_type": "markdown",
   "metadata": {},
   "source": [
    "\n",
    "Performing authentication with Google Drive requires we keep our client id and consumer secret in a json file. Keep your secrets off the internet!"
   ]
  },
  {
   "cell_type": "code",
   "execution_count": null,
   "metadata": {},
   "outputs": [],
   "source": [
    "\n",
    "!start %windir%\\explorer.exe \"C:\\Users\\dev\\Documents\\repositories\\notebooks\\Miscellaneous\\json\""
   ]
  },
  {
   "cell_type": "markdown",
   "metadata": {},
   "source": [
    "\n",
    "We also make sure line 286 of pydrive's files.py file reads <code>self.content.close()</code> before we run the trash cell."
   ]
  },
  {
   "cell_type": "code",
   "execution_count": null,
   "metadata": {},
   "outputs": [],
   "source": [
    "\n",
    "import sys\n",
    "\n",
    "file_path = r'{}\\Lib\\site-packages\\pydrive\\files.py'.format(sys.prefix)\n",
    "!\"{text_editor_path}\" \"{file_path}\""
   ]
  },
  {
   "cell_type": "markdown",
   "metadata": {},
   "source": [
    "\n",
    "Before we start the download process, let's go over setting a few variables:\n",
    "\n",
    "* **The downloads folder:** This is where all the messy work will be done. All mp3 files and any intermediate files will be deleted out of this folder by the end.\n",
    "* **The URL list:** This is where we place our YouTube video URLs. It doesn't matter if you remove the <code>time_continue=</code> parameter in the URL, the mp3 will just start at zero seconds anyway.\n",
    "* **The target folder ID:** This is the folder in Google Drive where our uploads will end up."
   ]
  },
  {
   "cell_type": "code",
   "execution_count": null,
   "metadata": {},
   "outputs": [],
   "source": [
    "\n",
    "from bs4 import BeautifulSoup as bs\n",
    "import re\n",
    "import requests\n",
    "\n",
    "site_url = 'https://www.youtube.com/'\n",
    "youtube_css = '#items'\n",
    "site_page = requests.get(url=site_url)\n",
    "site_html = site_page.content\n",
    "site_soup = bs(site_html, 'lxml')\n",
    "site_soup.select(youtube_css)"
   ]
  },
  {
   "cell_type": "code",
   "execution_count": 6,
   "metadata": {},
   "outputs": [],
   "source": [
    "\n",
    "import youtube_dl\n",
    "\n",
    "downloads_folder = r'C:\\Users\\577342\\Downloads'\n",
    "youtube_url_list = ['https://www.youtube.com/watch?v=5ZsTxvy8zu8',\n",
    "                    'https://www.youtube.com/watch?v=d2UXrr1oFS0', 'https://www.youtube.com/watch?v=t9_FcnECNS8',\n",
    "                    'https://www.youtube.com/watch?v=iy6cQaGuJHM', 'https://www.youtube.com/watch?v=ZVpKUyXpOrg',\n",
    "                    'https://www.youtube.com/watch?v=78qjQOMfu9c', 'https://www.youtube.com/watch?v=LLyPVgeH-jo',\n",
    "                    'https://www.youtube.com/watch?v=qrkqopjEceU', 'https://www.youtube.com/watch?v=XQEDw6IKTK8',\n",
    "                    'https://www.youtube.com/watch?v=jtlrWblOyP4', 'https://www.youtube.com/watch?v=N1byG4RqoTg',\n",
    "                    'https://www.youtube.com/watch?v=LCie1U4dKO8', 'https://www.youtube.com/watch?v=4J0cpdR7qec',\n",
    "                    'https://www.youtube.com/watch?v=PzqPV6BWVm4', 'https://www.youtube.com/watch?v=nM1kxbmdWwY',\n",
    "                    'https://www.youtube.com/watch?v=POY3p9TpdD0', 'https://www.youtube.com/watch?v=Zscgm1s8qvc',\n",
    "                    'https://www.youtube.com/watch?v=mbIkOx15sLI', 'https://www.youtube.com/watch?v=slJI5r9rltI']"
   ]
  },
  {
   "cell_type": "markdown",
   "metadata": {},
   "source": [
    "Now we are ready to start the download process by running <code>youtube_dl</code> on our <code>youtube_url_list</code>."
   ]
  },
  {
   "cell_type": "code",
   "execution_count": 7,
   "metadata": {
    "scrolled": false
   },
   "outputs": [
    {
     "name": "stderr",
     "output_type": "stream",
     "text": [
      "[debug] Encodings: locale cp1252, fs utf-8, out UTF-8, pref cp1252\n",
      "[debug] youtube-dl version 2019.08.13\n",
      "[debug] Python version 3.6.8 (CPython) - Windows-10-10.0.17763-SP0\n",
      "[debug] exe versions: avconv v13_dev0-1440-g34c1133, avprobe v13_dev0-1440-g34c1133, ffmpeg 4.1.4, ffprobe 4.1.4, phantomjs 2.1.1\n",
      "[debug] Proxy map: {}\n"
     ]
    },
    {
     "name": "stdout",
     "output_type": "stream",
     "text": [
      "[youtube] 5ZsTxvy8zu8: Downloading webpage\n",
      "[youtube] 5ZsTxvy8zu8: Downloading embed webpage\n",
      "[youtube] 5ZsTxvy8zu8: Refetching age-gated info webpage\n"
     ]
    },
    {
     "name": "stderr",
     "output_type": "stream",
     "text": [
      "WARNING: Unable to extract video title\n",
      "WARNING: unable to extract description; please report this issue on https://yt-dl.org/bug . Make sure you are using the latest version; see  https://yt-dl.org/update  on how to update. Be sure to call youtube-dl with the --verbose flag and include its complete output.\n",
      "ERROR: If the owner of this video has granted you access, please sign in.\n",
      "       This video is private.\n",
      "Traceback (most recent call last):\n",
      "  File \"C:\\Users\\dev\\Anaconda3\\lib\\site-packages\\youtube_dl\\YoutubeDL.py\", line 796, in extract_info\n",
      "    ie_result = ie.extract(url)\n",
      "  File \"C:\\Users\\dev\\Anaconda3\\lib\\site-packages\\youtube_dl\\extractor\\common.py\", line 530, in extract\n",
      "    ie_result = self._real_extract(url)\n",
      "  File \"C:\\Users\\dev\\Anaconda3\\lib\\site-packages\\youtube_dl\\extractor\\youtube.py\", line 2108, in _real_extract\n",
      "    raise ExtractorError(error_message, expected=True)\n",
      "youtube_dl.utils.ExtractorError: If the owner of this video has granted you access, please sign in.\n",
      "       This video is private.\n",
      "\n"
     ]
    },
    {
     "name": "stdout",
     "output_type": "stream",
     "text": [
      "\n",
      "####################################################\n",
      "ERROR: If the owner of this video has granted you access, please sign in.\n",
      "       This video is private.\n",
      "####################################################\n",
      "\n",
      "[youtube] d2UXrr1oFS0: Downloading webpage\n",
      "[youtube] d2UXrr1oFS0: Downloading video info webpage\n",
      "[debug] Invoking downloader on 'https://r1---sn-p5qlsndk.googlevideo.com/videoplayback?expire=1576091791&ei=L-zwXeT0BYHNiwTIi7voBw&ip=2600%3A6c64%3A657f%3Af499%3A0%3Aab34%3A2e17%3A2a78&id=o-APNfMC5U4508gMGaknInOQpTgiltw7fbjq2YLHxUeZ3Y&itag=251&source=youtube&requiressl=yes&mm=31%2C26&mn=sn-p5qlsndk%2Csn-vgqsrnel&ms=au%2Conr&mv=m&mvi=0&pl=32&initcwndbps=2228750&mime=audio%2Fwebm&gir=yes&clen=98940665&dur=6003.441&lmt=1576014765177179&mt=1576070023&fvip=1&keepalive=yes&fexp=23842630&c=WEB&txp=5431432&sparams=expire%2Cei%2Cip%2Cid%2Citag%2Csource%2Crequiressl%2Cmime%2Cgir%2Cclen%2Cdur%2Clmt&sig=ALgxI2wwRAIgOnBJo7SSjPRzP_GBXk9oYGlDEc21KcporQ-S4YjnCEACIHS8ldh0kxcK1nIktL3292eTGSmYGp1dlwmpmX__B5WX&lsparams=mm%2Cmn%2Cms%2Cmv%2Cmvi%2Cpl%2Cinitcwndbps&lsig=AHylml4wRQIhALViQdsPlP2S7DVq4NOohIr6umE5P5_hGRQwDVIW9co4AiAN8CzPGN1fSL7eQMFt7hdWGBBmoYQZ1gUWYBxfnkui8g%3D%3D&ratebypass=yes'\n",
      "[download] Destination: C:\\Users\\577342\\Downloads\\Julie Lindahl on 'The Portal', Ep. #010- Shaking the poisoned fruit of shame out of the family tree.-d2UXrr1oFS0.webm\n",
      "[download] 100% of 94.36MiB in 00:12                          \n",
      "[debug] ffmpeg command line: ffprobe -show_streams \"file:C:\\Users\\577342\\Downloads\\Julie Lindahl on 'The Portal', Ep. #010- Shaking the poisoned fruit of shame out of the family tree.-d2UXrr1oFS0.webm\"\n",
      "[ffmpeg] Destination: C:\\Users\\577342\\Downloads\\Julie Lindahl on 'The Portal', Ep. #010- Shaking the poisoned fruit of shame out of the family tree.-d2UXrr1oFS0.mp3\n",
      "[debug] ffmpeg command line: ffmpeg -y -loglevel \"repeat+info\" -i \"file:C:\\Users\\577342\\Downloads\\Julie Lindahl on 'The Portal', Ep. #010- Shaking the poisoned fruit of shame out of the family tree.-d2UXrr1oFS0.webm\" -vn -acodec libmp3lame \"-b:a\" 192k \"file:C:\\Users\\577342\\Downloads\\Julie Lindahl on 'The Portal', Ep. #010- Shaking the poisoned fruit of shame out of the family tree.-d2UXrr1oFS0.mp3\"\n",
      "Deleting original file C:\\Users\\577342\\Downloads\\Julie Lindahl on 'The Portal', Ep. #010- Shaking the poisoned fruit of shame out of the family tree.-d2UXrr1oFS0.webm (pass -k to keep)\n",
      "[youtube] t9_FcnECNS8: Downloading webpage\n",
      "[youtube] t9_FcnECNS8: Downloading video info webpage\n",
      "[debug] Invoking downloader on 'https://r2---sn-p5qlsns6.googlevideo.com/videoplayback?expire=1576092158&ei=nu3wXdPINJaQwQG6oIrYCA&ip=2600%3A6c64%3A657f%3Af499%3A0%3Aab34%3A2e17%3A2a78&id=o-AJ4H66yWwt2VFIgTPK0AxAYweRypWlZtY7GmveClviCI&itag=140&source=youtube&requiressl=yes&mm=31%2C29&mn=sn-p5qlsns6%2Csn-p5qs7n7e&ms=au%2Crdu&mv=m&mvi=1&pl=32&initcwndbps=2253750&mime=audio%2Fmp4&gir=yes&clen=39714076&dur=2453.884&lmt=1575921603278719&mt=1576070399&fvip=2&keepalive=yes&fexp=23842630&c=WEB&txp=5431432&sparams=expire%2Cei%2Cip%2Cid%2Citag%2Csource%2Crequiressl%2Cmime%2Cgir%2Cclen%2Cdur%2Clmt&sig=ALgxI2wwRAIgCQ72Lunw0XohuSbRF1A58jjRJbUIq9sgPmAMzM3Ezo8CIDHJrJeCoCbQITbYbUxdlyb1XhDcw2vAVg4PwFogr4j_&lsparams=mm%2Cmn%2Cms%2Cmv%2Cmvi%2Cpl%2Cinitcwndbps&lsig=AHylml4wRAIgTKUffTU6dg_35PGZMGWL22Y-NYsZiIfMGa0VumBIMJ8CIFnzteKDieFX0iLkVPesGTSNgBgBU9yr3ymrMJpUQei5&ratebypass=yes'\n",
      "[download] Destination: C:\\Users\\577342\\Downloads\\How to spot a cult, Jamie Wheal-t9_FcnECNS8.m4a\n",
      "[download] 100% of 37.87MiB in 00:06                   \n",
      "[ffmpeg] Correcting container in \"C:\\Users\\577342\\Downloads\\How to spot a cult, Jamie Wheal-t9_FcnECNS8.m4a\"\n",
      "[debug] ffmpeg command line: ffmpeg -y -loglevel \"repeat+info\" -i \"file:C:\\Users\\577342\\Downloads\\How to spot a cult, Jamie Wheal-t9_FcnECNS8.m4a\" -c copy -f mp4 \"file:C:\\Users\\577342\\Downloads\\How to spot a cult, Jamie Wheal-t9_FcnECNS8.temp.m4a\"\n",
      "[debug] ffmpeg command line: ffprobe -show_streams \"file:C:\\Users\\577342\\Downloads\\How to spot a cult, Jamie Wheal-t9_FcnECNS8.m4a\"\n",
      "[ffmpeg] Destination: C:\\Users\\577342\\Downloads\\How to spot a cult, Jamie Wheal-t9_FcnECNS8.mp3\n",
      "[debug] ffmpeg command line: ffmpeg -y -loglevel \"repeat+info\" -i \"file:C:\\Users\\577342\\Downloads\\How to spot a cult, Jamie Wheal-t9_FcnECNS8.m4a\" -vn -acodec libmp3lame \"-b:a\" 192k \"file:C:\\Users\\577342\\Downloads\\How to spot a cult, Jamie Wheal-t9_FcnECNS8.mp3\"\n",
      "Deleting original file C:\\Users\\577342\\Downloads\\How to spot a cult, Jamie Wheal-t9_FcnECNS8.m4a (pass -k to keep)\n",
      "[youtube] iy6cQaGuJHM: Downloading webpage\n",
      "[youtube] iy6cQaGuJHM: Downloading video info webpage\n",
      "[debug] Invoking downloader on 'https://r3---sn-p5qs7n7e.googlevideo.com/videoplayback?expire=1576092264&ei=CO7wXciKIcHowQHL8IeQCA&ip=2600%3A6c64%3A657f%3Af499%3A0%3Aab34%3A2e17%3A2a78&id=o-AEQP6JycUX8snfag9uHo0feXyP1QEgTVzbYVYJCcpGs1&itag=251&source=youtube&requiressl=yes&mm=31%2C26&mn=sn-p5qs7n7e%2Csn-vgqsrn7d&ms=au%2Conr&mv=m&mvi=2&pl=32&initcwndbps=2353750&mime=audio%2Fwebm&gir=yes&clen=52034295&dur=3753.661&lmt=1575915351599515&mt=1576070574&fvip=3&keepalive=yes&fexp=23842630&c=WEB&txp=5431432&sparams=expire%2Cei%2Cip%2Cid%2Citag%2Csource%2Crequiressl%2Cmime%2Cgir%2Cclen%2Cdur%2Clmt&sig=ALgxI2wwRAIgPh-FfclRBvpOoybVNzkiM4djk5KV0ky1R09U1xgZsW0CIBYpPCBJtnm35EVPPHZ2VVri-94EvD1oIRv1J3zjHB22&lsparams=mm%2Cmn%2Cms%2Cmv%2Cmvi%2Cpl%2Cinitcwndbps&lsig=AHylml4wRAIgdtB3m_ZZyys28p4HNMPhGQ1S8-RdT_y8aK0lPxMsaa0CIEqe2n-Zr-YQFfdplp85t7SA6iHB0xnUHCdeOkwIz-Wl&ratebypass=yes'\n",
      "[download] Destination: C:\\Users\\577342\\Downloads\\Masculine Actualities, Feminine Possibilities _ with Benjamin Boyce-iy6cQaGuJHM.webm\n",
      "[download] 100% of 49.62MiB in 00:05                          \n",
      "[debug] ffmpeg command line: ffprobe -show_streams \"file:C:\\Users\\577342\\Downloads\\Masculine Actualities, Feminine Possibilities _ with Benjamin Boyce-iy6cQaGuJHM.webm\"\n",
      "[ffmpeg] Destination: C:\\Users\\577342\\Downloads\\Masculine Actualities, Feminine Possibilities _ with Benjamin Boyce-iy6cQaGuJHM.mp3\n",
      "[debug] ffmpeg command line: ffmpeg -y -loglevel \"repeat+info\" -i \"file:C:\\Users\\577342\\Downloads\\Masculine Actualities, Feminine Possibilities _ with Benjamin Boyce-iy6cQaGuJHM.webm\" -vn -acodec libmp3lame \"-b:a\" 192k \"file:C:\\Users\\577342\\Downloads\\Masculine Actualities, Feminine Possibilities _ with Benjamin Boyce-iy6cQaGuJHM.mp3\"\n",
      "Deleting original file C:\\Users\\577342\\Downloads\\Masculine Actualities, Feminine Possibilities _ with Benjamin Boyce-iy6cQaGuJHM.webm (pass -k to keep)\n",
      "[youtube] ZVpKUyXpOrg: Downloading webpage\n",
      "[youtube] ZVpKUyXpOrg: Downloading video info webpage\n",
      "[debug] Invoking downloader on 'https://r6---sn-p5qs7n7d.googlevideo.com/videoplayback?expire=1576092469&ei=1e7wXcuYKpTCiwStka_4DA&ip=2600%3A6c64%3A657f%3Af499%3A0%3Aab34%3A2e17%3A2a78&id=o-ANEvwO-ByCt19aXTgQVPraK58m4F8_RT008vKap1hH81&itag=251&source=youtube&requiressl=yes&mm=31%2C29&mn=sn-p5qs7n7d%2Csn-p5qlsnd6&ms=au%2Crdu&mv=m&mvi=5&pl=32&initcwndbps=2157500&mime=audio%2Fwebm&gir=yes&clen=120587752&dur=8359.721&lmt=1575726671406784&mt=1576070765&fvip=5&keepalive=yes&fexp=23842630&c=WEB&txp=5531432&sparams=expire%2Cei%2Cip%2Cid%2Citag%2Csource%2Crequiressl%2Cmime%2Cgir%2Cclen%2Cdur%2Clmt&sig=ALgxI2wwRgIhAJGPQhZV1ZeeO51zRyZ20l9aqo7a9yUr5sZRfqmI57wEAiEA-_6oasmTmJ29zIaS4zkmzCb-hCo_cbCNIi3C8jI-QgU%3D&lsparams=mm%2Cmn%2Cms%2Cmv%2Cmvi%2Cpl%2Cinitcwndbps&lsig=AHylml4wRQIgNg75kY-IPhZVh65WC80jbVxNpgHgp35eNZ1y8sXbyusCIQCCz5fBHgpcQncwD8bTjw9rfzyeSa0VzzJajsugIXKCfw%3D%3D&ratebypass=yes'\n",
      "[download] Destination: C:\\Users\\577342\\Downloads\\Mike Nayna _ Bret Weinstein's DarkHorse Podcast #7-ZVpKUyXpOrg.webm\n",
      "[download] 100% of 115.00MiB in 00:14                   \n",
      "[debug] ffmpeg command line: ffprobe -show_streams \"file:C:\\Users\\577342\\Downloads\\Mike Nayna _ Bret Weinstein's DarkHorse Podcast #7-ZVpKUyXpOrg.webm\"\n",
      "[ffmpeg] Destination: C:\\Users\\577342\\Downloads\\Mike Nayna _ Bret Weinstein's DarkHorse Podcast #7-ZVpKUyXpOrg.mp3\n",
      "[debug] ffmpeg command line: ffmpeg -y -loglevel \"repeat+info\" -i \"file:C:\\Users\\577342\\Downloads\\Mike Nayna _ Bret Weinstein's DarkHorse Podcast #7-ZVpKUyXpOrg.webm\" -vn -acodec libmp3lame \"-b:a\" 192k \"file:C:\\Users\\577342\\Downloads\\Mike Nayna _ Bret Weinstein's DarkHorse Podcast #7-ZVpKUyXpOrg.mp3\"\n",
      "Deleting original file C:\\Users\\577342\\Downloads\\Mike Nayna _ Bret Weinstein's DarkHorse Podcast #7-ZVpKUyXpOrg.webm (pass -k to keep)\n",
      "[youtube] 78qjQOMfu9c: Downloading webpage\n",
      "[youtube] 78qjQOMfu9c: Downloading video info webpage\n",
      "[debug] Invoking downloader on 'https://r4---sn-p5qs7n7d.googlevideo.com/videoplayback?expire=1576092885&ei=dfDwXbjAFJmMiwTi9rb4Cg&ip=2600%3A6c64%3A657f%3Af499%3A0%3Aab34%3A2e17%3A2a78&id=o-ADC9YhSaBBBdAOlRjUydd7EStM4DFuYUwXiLwEDnTv1b&itag=251&source=youtube&requiressl=yes&mm=31%2C26&mn=sn-p5qs7n7d%2Csn-vgqskned&ms=au%2Conr&mv=m&mvi=3&pl=32&initcwndbps=2276250&mime=audio%2Fwebm&gir=yes&clen=19415472&dur=1346.221&lmt=1575705717106700&mt=1576071213&fvip=4&keepalive=yes&fexp=23842630&c=WEB&txp=5431432&sparams=expire%2Cei%2Cip%2Cid%2Citag%2Csource%2Crequiressl%2Cmime%2Cgir%2Cclen%2Cdur%2Clmt&sig=ALgxI2wwRQIgEOsVA5fY9rI9lj8a9yrxqUGOnCMKxpBUzhzf0Z8-uooCIQCguAZhVaqNzflW9m-CF8LEl_ywicYM3jtuDBPefVozlg%3D%3D&lsparams=mm%2Cmn%2Cms%2Cmv%2Cmvi%2Cpl%2Cinitcwndbps&lsig=AHylml4wRQIgX1aVg6c0Jx8VNicFB7DD_1qMmZk2qk0PeKp2V44qv_gCIQDDc4pskibS8grH3iePZwwvCaWwkAJkQcUMCJK5kc0ckg%3D%3D&ratebypass=yes'\n",
      "[download] Destination: C:\\Users\\577342\\Downloads\\The Apple CEO, 666, and The Garden of Eden-78qjQOMfu9c.webm\n",
      "[download] 100% of 18.52MiB in 00:01                   \n",
      "[debug] ffmpeg command line: ffprobe -show_streams \"file:C:\\Users\\577342\\Downloads\\The Apple CEO, 666, and The Garden of Eden-78qjQOMfu9c.webm\"\n",
      "[ffmpeg] Destination: C:\\Users\\577342\\Downloads\\The Apple CEO, 666, and The Garden of Eden-78qjQOMfu9c.mp3\n",
      "[debug] ffmpeg command line: ffmpeg -y -loglevel \"repeat+info\" -i \"file:C:\\Users\\577342\\Downloads\\The Apple CEO, 666, and The Garden of Eden-78qjQOMfu9c.webm\" -vn -acodec libmp3lame \"-b:a\" 192k \"file:C:\\Users\\577342\\Downloads\\The Apple CEO, 666, and The Garden of Eden-78qjQOMfu9c.mp3\"\n",
      "Deleting original file C:\\Users\\577342\\Downloads\\The Apple CEO, 666, and The Garden of Eden-78qjQOMfu9c.webm (pass -k to keep)\n",
      "[youtube] LLyPVgeH-jo: Downloading webpage\n",
      "[youtube] LLyPVgeH-jo: Downloading video info webpage\n",
      "[debug] Invoking downloader on 'https://r2---sn-p5qs7nek.googlevideo.com/videoplayback?expire=1576092978&ei=0vDwXdDeIeuDir4PsYyQiAQ&ip=2600%3A6c64%3A657f%3Af499%3A0%3Aab34%3A2e17%3A2a78&id=o-AAubFle47OhpIfP7d4_bWVTOjCCcvRBkj6rPjXfgVVW9&itag=140&source=youtube&requiressl=yes&mm=31%2C26&mn=sn-p5qs7nek%2Csn-vgqsrned&ms=au%2Conr&mv=m&mvi=1&pl=32&initcwndbps=2221250&mime=audio%2Fmp4&gir=yes&clen=5353880&dur=330.768&lmt=1575773812767947&mt=1576071273&fvip=2&keepalive=yes&fexp=23842630&c=WEB&txp=5531432&sparams=expire%2Cei%2Cip%2Cid%2Citag%2Csource%2Crequiressl%2Cmime%2Cgir%2Cclen%2Cdur%2Clmt&sig=ALgxI2wwRAIgPsYzKYv0jAv5cU3KvxJ8CvbimMrDkHd95UxF_LvNYSoCIEa7WCDRgfQ0CQIHRU6F2HQrYKQ-vP-XeZHln080LB1X&lsparams=mm%2Cmn%2Cms%2Cmv%2Cmvi%2Cpl%2Cinitcwndbps&lsig=AHylml4wRQIgTWmMvU4WtH0iLXCT1xn9zG3XXC6zzbahZGDaqC5eV3MCIQDlNwXJtL2LkZrIB4TES2JaOUGvk1foWqd08ukIunxoYg%3D%3D&ratebypass=yes'\n",
      "[download] Destination: C:\\Users\\577342\\Downloads\\Men & Women - Personality Differences _ Discovering Personality with Dr. Jordan B. Peterson-LLyPVgeH-jo.m4a\n",
      "[download] 100% of 5.11MiB in 00:03                  \n",
      "[ffmpeg] Correcting container in \"C:\\Users\\577342\\Downloads\\Men & Women - Personality Differences _ Discovering Personality with Dr. Jordan B. Peterson-LLyPVgeH-jo.m4a\"\n",
      "[debug] ffmpeg command line: ffmpeg -y -loglevel \"repeat+info\" -i \"file:C:\\Users\\577342\\Downloads\\Men & Women - Personality Differences _ Discovering Personality with Dr. Jordan B. Peterson-LLyPVgeH-jo.m4a\" -c copy -f mp4 \"file:C:\\Users\\577342\\Downloads\\Men & Women - Personality Differences _ Discovering Personality with Dr. Jordan B. Peterson-LLyPVgeH-jo.temp.m4a\"\n",
      "[debug] ffmpeg command line: ffprobe -show_streams \"file:C:\\Users\\577342\\Downloads\\Men & Women - Personality Differences _ Discovering Personality with Dr. Jordan B. Peterson-LLyPVgeH-jo.m4a\"\n",
      "[ffmpeg] Destination: C:\\Users\\577342\\Downloads\\Men & Women - Personality Differences _ Discovering Personality with Dr. Jordan B. Peterson-LLyPVgeH-jo.mp3\n",
      "[debug] ffmpeg command line: ffmpeg -y -loglevel \"repeat+info\" -i \"file:C:\\Users\\577342\\Downloads\\Men & Women - Personality Differences _ Discovering Personality with Dr. Jordan B. Peterson-LLyPVgeH-jo.m4a\" -vn -acodec libmp3lame \"-b:a\" 192k \"file:C:\\Users\\577342\\Downloads\\Men & Women - Personality Differences _ Discovering Personality with Dr. Jordan B. Peterson-LLyPVgeH-jo.mp3\"\n",
      "Deleting original file C:\\Users\\577342\\Downloads\\Men & Women - Personality Differences _ Discovering Personality with Dr. Jordan B. Peterson-LLyPVgeH-jo.m4a (pass -k to keep)\n",
      "[youtube] qrkqopjEceU: Downloading webpage\n",
      "[youtube] qrkqopjEceU: Downloading video info webpage\n",
      "[debug] Invoking downloader on 'https://r3---sn-p5qs7ner.googlevideo.com/videoplayback?expire=1576092998&ei=5vDwXaybIYXMigS1y5jYBA&ip=2600%3A6c64%3A657f%3Af499%3A0%3Aab34%3A2e17%3A2a78&id=o-AKKuh7wmEdxxb2lW-J3MFZavNKs8Z-HtB-XYnjFd0_ws&itag=251&source=youtube&requiressl=yes&mm=31%2C29&mn=sn-p5qs7ner%2Csn-p5qlsnd6&ms=au%2Crdu&mv=m&mvi=2&pl=32&initcwndbps=2321250&mime=audio%2Fwebm&gir=yes&clen=45701848&dur=3404.181&lmt=1572054802625309&mt=1576071273&fvip=3&keepalive=yes&fexp=23842630&c=WEB&txp=2301222&sparams=expire%2Cei%2Cip%2Cid%2Citag%2Csource%2Crequiressl%2Cmime%2Cgir%2Cclen%2Cdur%2Clmt&sig=ALgxI2wwRQIhAJa5q5y9GN8lnlR17nqHiLhjFjcQPgSfcgMdorHjQqCzAiA4kEYRLkUr0XbYUeeb2mpGKEoUA8dkDhXvnSO0O0ys1A%3D%3D&lsparams=mm%2Cmn%2Cms%2Cmv%2Cmvi%2Cpl%2Cinitcwndbps&lsig=AHylml4wRAIgQmGBeyNbOyrHyG2uZyno4jmIlKbd4zuq1E7jPHP0QIoCIAIi68CKCVb2Ehzu0kRsBYlsqQSDv_N90XT7CwWVPmJd&ratebypass=yes'\n",
      "[download] Destination: C:\\Users\\577342\\Downloads\\Ep. 47 - Awakening from the Meaning Crisis - Heidegger-qrkqopjEceU.webm\n",
      "[download] 100% of 43.58MiB in 00:07                   \n",
      "[debug] ffmpeg command line: ffprobe -show_streams \"file:C:\\Users\\577342\\Downloads\\Ep. 47 - Awakening from the Meaning Crisis - Heidegger-qrkqopjEceU.webm\"\n",
      "[ffmpeg] Destination: C:\\Users\\577342\\Downloads\\Ep. 47 - Awakening from the Meaning Crisis - Heidegger-qrkqopjEceU.mp3\n",
      "[debug] ffmpeg command line: ffmpeg -y -loglevel \"repeat+info\" -i \"file:C:\\Users\\577342\\Downloads\\Ep. 47 - Awakening from the Meaning Crisis - Heidegger-qrkqopjEceU.webm\" -vn -acodec libmp3lame \"-b:a\" 192k \"file:C:\\Users\\577342\\Downloads\\Ep. 47 - Awakening from the Meaning Crisis - Heidegger-qrkqopjEceU.mp3\"\n",
      "Deleting original file C:\\Users\\577342\\Downloads\\Ep. 47 - Awakening from the Meaning Crisis - Heidegger-qrkqopjEceU.webm (pass -k to keep)\n",
      "[youtube] XQEDw6IKTK8: Downloading webpage\n",
      "[youtube] XQEDw6IKTK8: Downloading video info webpage\n",
      "[debug] Invoking downloader on 'https://r3---sn-p5qlsnsr.googlevideo.com/videoplayback?expire=1576093197&ei=rfHwXcD0JsCCir4PkvOI4Ao&ip=2600%3A6c64%3A657f%3Af499%3A0%3Aab34%3A2e17%3A2a78&id=o-AN8sYvE3DVcI0YDWhNlxYoW2S8-cYvBFBSIsRHjYBggj&itag=251&source=youtube&requiressl=yes&mm=31%2C26&mn=sn-p5qlsnsr%2Csn-vgqs7nls&ms=au%2Conr&mv=m&mvi=2&pl=32&initcwndbps=2357500&mime=audio%2Fwebm&gir=yes&clen=4718236&dur=311.741&lmt=1575652596670965&mt=1576071510&fvip=3&keepalive=yes&fexp=23842630&c=WEB&txp=5531432&sparams=expire%2Cei%2Cip%2Cid%2Citag%2Csource%2Crequiressl%2Cmime%2Cgir%2Cclen%2Cdur%2Clmt&sig=ALgxI2wwRgIhALffzCfY-YY-vF-ko01kED3NFTA6GgNsCFU13NtJqfziAiEA8FAqwLpiMQMfr2vWW_W_v8dvBjLi1YgV-c_AO4cVN5o%3D&lsparams=mm%2Cmn%2Cms%2Cmv%2Cmvi%2Cpl%2Cinitcwndbps&lsig=AHylml4wRQIgU1Xq8ZeFIg3_g8UUgEc2VZ9gpVfHyZbIq7vF_TLoy14CIQCnzrnHV4KplqT5U1XOo1bMFTprLxhrCOEn40bXyfWhBw%3D%3D&ratebypass=yes'\n",
      "[download] Destination: C:\\Users\\577342\\Downloads\\AI Research Can Help Us Preserve The Environment! 🌲-XQEDw6IKTK8.webm\n",
      "[download] 100% of 4.50MiB in 00:03                  \n",
      "[debug] ffmpeg command line: ffprobe -show_streams \"file:C:\\Users\\577342\\Downloads\\AI Research Can Help Us Preserve The Environment! 🌲-XQEDw6IKTK8.webm\"\n",
      "[ffmpeg] Destination: C:\\Users\\577342\\Downloads\\AI Research Can Help Us Preserve The Environment! 🌲-XQEDw6IKTK8.mp3\n",
      "[debug] ffmpeg command line: ffmpeg -y -loglevel \"repeat+info\" -i \"file:C:\\Users\\577342\\Downloads\\AI Research Can Help Us Preserve The Environment! 🌲-XQEDw6IKTK8.webm\" -vn -acodec libmp3lame \"-b:a\" 192k \"file:C:\\Users\\577342\\Downloads\\AI Research Can Help Us Preserve The Environment! 🌲-XQEDw6IKTK8.mp3\"\n",
      "Deleting original file C:\\Users\\577342\\Downloads\\AI Research Can Help Us Preserve The Environment! 🌲-XQEDw6IKTK8.webm (pass -k to keep)\n",
      "[youtube] jtlrWblOyP4: Downloading webpage\n",
      "[youtube] jtlrWblOyP4: Downloading video info webpage\n",
      "[debug] Invoking downloader on 'https://r6---sn-p5qs7n7e.googlevideo.com/videoplayback?expire=1576093228&ei=zPHwXbjKComxiwSFsIqoAw&ip=2600%3A6c64%3A657f%3Af499%3A0%3Aab34%3A2e17%3A2a78&id=o-AJZygXo-TOedVq3YqCjpMicmWMGe6raKGISx78Mvryx6&itag=251&source=youtube&requiressl=yes&mm=31%2C26&mn=sn-p5qs7n7e%2Csn-vgqsrnek&ms=au%2Conr&mv=m&mvi=5&pl=32&initcwndbps=2428750&mime=audio%2Fwebm&gir=yes&clen=7781355&dur=513.341&lmt=1575396236699740&mt=1576071510&fvip=1&keepalive=yes&fexp=23842630&c=WEB&txp=5531432&sparams=expire%2Cei%2Cip%2Cid%2Citag%2Csource%2Crequiressl%2Cmime%2Cgir%2Cclen%2Cdur%2Clmt&sig=ALgxI2wwRQIhAO64zIMvjrAmgMkqZYvjT2LZ-vHcpplvLLegv6H3kmkyAiBzIJJRv9HjJLjvyNuZWiT66mrL6KK-oHGUCxf2Z4EVuA%3D%3D&lsparams=mm%2Cmn%2Cms%2Cmv%2Cmvi%2Cpl%2Cinitcwndbps&lsig=AHylml4wRQIgQkj3uRx7E0mtiVl0D40RnLQArKefcvsquX5BdxnGmm8CIQC6vOb5n6CAXO2tZCWnfzo1cDsFnpkmyxOGfxaw_TDM6g%3D%3D&ratebypass=yes'\n",
      "[download] Destination: C:\\Users\\577342\\Downloads\\DeepMind’s AlphaStar - A Grandmaster Level StarCraft 2 AI-jtlrWblOyP4.webm\n",
      "[download] 100% of 7.42MiB in 00:03                  \n",
      "[debug] ffmpeg command line: ffprobe -show_streams \"file:C:\\Users\\577342\\Downloads\\DeepMind’s AlphaStar - A Grandmaster Level StarCraft 2 AI-jtlrWblOyP4.webm\"\n",
      "[ffmpeg] Destination: C:\\Users\\577342\\Downloads\\DeepMind’s AlphaStar - A Grandmaster Level StarCraft 2 AI-jtlrWblOyP4.mp3\n",
      "[debug] ffmpeg command line: ffmpeg -y -loglevel \"repeat+info\" -i \"file:C:\\Users\\577342\\Downloads\\DeepMind’s AlphaStar - A Grandmaster Level StarCraft 2 AI-jtlrWblOyP4.webm\" -vn -acodec libmp3lame \"-b:a\" 192k \"file:C:\\Users\\577342\\Downloads\\DeepMind’s AlphaStar - A Grandmaster Level StarCraft 2 AI-jtlrWblOyP4.mp3\"\n",
      "Deleting original file C:\\Users\\577342\\Downloads\\DeepMind’s AlphaStar - A Grandmaster Level StarCraft 2 AI-jtlrWblOyP4.webm (pass -k to keep)\n",
      "[youtube] N1byG4RqoTg: Downloading webpage\n",
      "[youtube] N1byG4RqoTg: Downloading video info webpage\n",
      "[debug] Invoking downloader on 'https://r6---sn-p5qs7n7d.googlevideo.com/videoplayback?expire=1576093271&ei=9_HwXcfDOJj1jQSliYrQCg&ip=2600%3A6c64%3A657f%3Af499%3A0%3Aab34%3A2e17%3A2a78&id=o-AMY20s4SvlEGbEbZYM3XyeQzKagVDlBbAbmVdFDAwO4E&itag=251&source=youtube&requiressl=yes&mm=31%2C29&mn=sn-p5qs7n7d%2Csn-p5qlsnzd&ms=au%2Crdu&mv=m&mvi=5&pl=32&initcwndbps=2428750&mime=audio%2Fwebm&gir=yes&clen=61026060&dur=4447.501&lmt=1575326413257048&mt=1576071574&fvip=6&keepalive=yes&fexp=23842630&c=WEB&txp=5431432&sparams=expire%2Cei%2Cip%2Cid%2Citag%2Csource%2Crequiressl%2Cmime%2Cgir%2Cclen%2Cdur%2Clmt&sig=ALgxI2wwRAIgW-LuRYdaOrcmr_mQoANyqs2z_glnSNccRY5ghjlZ4AcCIEDjGLH7zFM8vsQp0MQ5ZS85C5JJspbb6iqjMZtgvijJ&lsparams=mm%2Cmn%2Cms%2Cmv%2Cmvi%2Cpl%2Cinitcwndbps&lsig=AHylml4wRAIgLPUt1w_JCPW-TvtJKD7-g-oAB7JFpMXh2b_FMI7JnMUCIALC78l7pYvr2gp79LwyCzceZUa2Lcqf1r6rbo6HCUcN&ratebypass=yes'\n",
      "[download] Destination: C:\\Users\\577342\\Downloads\\God and Relevance Realization _ with John Vervaeke-N1byG4RqoTg.webm\n",
      "[download] 100% of 58.20MiB in 00:08                          \n",
      "[debug] ffmpeg command line: ffprobe -show_streams \"file:C:\\Users\\577342\\Downloads\\God and Relevance Realization _ with John Vervaeke-N1byG4RqoTg.webm\"\n",
      "[ffmpeg] Destination: C:\\Users\\577342\\Downloads\\God and Relevance Realization _ with John Vervaeke-N1byG4RqoTg.mp3\n",
      "[debug] ffmpeg command line: ffmpeg -y -loglevel \"repeat+info\" -i \"file:C:\\Users\\577342\\Downloads\\God and Relevance Realization _ with John Vervaeke-N1byG4RqoTg.webm\" -vn -acodec libmp3lame \"-b:a\" 192k \"file:C:\\Users\\577342\\Downloads\\God and Relevance Realization _ with John Vervaeke-N1byG4RqoTg.mp3\"\n",
      "Deleting original file C:\\Users\\577342\\Downloads\\God and Relevance Realization _ with John Vervaeke-N1byG4RqoTg.webm (pass -k to keep)\n",
      "[youtube] LCie1U4dKO8: Downloading webpage\n",
      "[youtube] LCie1U4dKO8: Downloading video info webpage\n",
      "[debug] Invoking downloader on 'https://r3---sn-p5qlsndr.googlevideo.com/videoplayback?expire=1576093537&ei=AfPwXfeHEouIiwTvrpL4Dg&ip=2600%3A6c64%3A657f%3Af499%3A0%3Aab34%3A2e17%3A2a78&id=o-APIVzdlflG9VtFISkSibhrJLGcBMhN7BjAuAH5Vv5PjY&itag=251&source=youtube&requiressl=yes&mm=31%2C26&mn=sn-p5qlsndr%2Csn-vgqsdn7s&ms=au%2Conr&mv=m&mvi=2&pl=32&initcwndbps=2156250&mime=audio%2Fwebm&gir=yes&clen=10081041&dur=590.481&lmt=1575146150584420&mt=1576071808&fvip=3&keepalive=yes&fexp=23842630&c=WEB&txp=5531432&sparams=expire%2Cei%2Cip%2Cid%2Citag%2Csource%2Crequiressl%2Cmime%2Cgir%2Cclen%2Cdur%2Clmt&sig=ALgxI2wwRQIgYtgXMDTrfS8LrIs5kpeDjHiGVbFBGNSDg04cpbgqq_oCIQDEzUCnw23eeJKw5wYZ2z0QNQjjhDm_bpOLN7XEsPF1Yg%3D%3D&lsparams=mm%2Cmn%2Cms%2Cmv%2Cmvi%2Cpl%2Cinitcwndbps&lsig=AHylml4wRQIhALqbF_d1sQZF2wcxuYiKXmKegbaD0p00gqy0whm3McthAiBpxDNdo_Lbp9I8UKbrXZ0PqhqxBdliRw_d1VtHyATXng%3D%3D&ratebypass=yes'\n",
      "[download] Destination: C:\\Users\\577342\\Downloads\\Your Name – What Makes Us Happy-LCie1U4dKO8.webm\n",
      "[download] 100% of 9.61MiB in 00:01                  \n",
      "[debug] ffmpeg command line: ffprobe -show_streams \"file:C:\\Users\\577342\\Downloads\\Your Name – What Makes Us Happy-LCie1U4dKO8.webm\"\n",
      "[ffmpeg] Destination: C:\\Users\\577342\\Downloads\\Your Name – What Makes Us Happy-LCie1U4dKO8.mp3\n",
      "[debug] ffmpeg command line: ffmpeg -y -loglevel \"repeat+info\" -i \"file:C:\\Users\\577342\\Downloads\\Your Name – What Makes Us Happy-LCie1U4dKO8.webm\" -vn -acodec libmp3lame \"-b:a\" 192k \"file:C:\\Users\\577342\\Downloads\\Your Name – What Makes Us Happy-LCie1U4dKO8.mp3\"\n",
      "Deleting original file C:\\Users\\577342\\Downloads\\Your Name – What Makes Us Happy-LCie1U4dKO8.webm (pass -k to keep)\n",
      "[youtube] 4J0cpdR7qec: Downloading webpage\n",
      "[youtube] 4J0cpdR7qec: Downloading video info webpage\n",
      "[debug] Invoking downloader on 'https://r1---sn-p5qlsndr.googlevideo.com/videoplayback?expire=1576093586&ei=MvPwXfyqLsnYD-H9nagB&ip=2600%3A6c64%3A657f%3Af499%3A0%3Aab34%3A2e17%3A2a78&id=o-ACEPUqu57kxku4SMQJBDydxFDT9zMLNYoMR0_B54TODO&itag=251&source=youtube&requiressl=yes&mm=31%2C29&mn=sn-p5qlsndr%2Csn-p5qs7nes&ms=au%2Crdu&mv=m&mvi=0&pl=32&initcwndbps=2156250&mime=audio%2Fwebm&gir=yes&clen=3927941&dur=262.121&lmt=1575350766072297&mt=1576071808&fvip=1&keepalive=yes&fexp=23842630&c=WEB&txp=5531432&sparams=expire%2Cei%2Cip%2Cid%2Citag%2Csource%2Crequiressl%2Cmime%2Cgir%2Cclen%2Cdur%2Clmt&sig=ALgxI2wwRQIgAg9BYeW-rzx91d3e8jCAT4nT4tpCu7kWYgf2p9tlgQYCIQD74s0yGnJxGgYEV-PCTXF0CPn_H1jAS726C_j-CAuGAg%3D%3D&lsparams=mm%2Cmn%2Cms%2Cmv%2Cmvi%2Cpl%2Cinitcwndbps&lsig=AHylml4wRgIhANopcGiAL5Lmit9Nyx3ODw6Bobp8pyTnKbigcmSRU1RaAiEAmUqkPzGyqg15c-37xS2_xtFQ2cG2OUwpbNw-JadpD8Q%3D&ratebypass=yes'\n",
      "[download] Destination: C:\\Users\\577342\\Downloads\\This AI Makes The Mona Lisa Speak…And More!-4J0cpdR7qec.webm\n",
      "[download] 100% of 3.75MiB in 00:01                  \n",
      "[debug] ffmpeg command line: ffprobe -show_streams \"file:C:\\Users\\577342\\Downloads\\This AI Makes The Mona Lisa Speak…And More!-4J0cpdR7qec.webm\"\n",
      "[ffmpeg] Destination: C:\\Users\\577342\\Downloads\\This AI Makes The Mona Lisa Speak…And More!-4J0cpdR7qec.mp3\n",
      "[debug] ffmpeg command line: ffmpeg -y -loglevel \"repeat+info\" -i \"file:C:\\Users\\577342\\Downloads\\This AI Makes The Mona Lisa Speak…And More!-4J0cpdR7qec.webm\" -vn -acodec libmp3lame \"-b:a\" 192k \"file:C:\\Users\\577342\\Downloads\\This AI Makes The Mona Lisa Speak…And More!-4J0cpdR7qec.mp3\"\n",
      "Deleting original file C:\\Users\\577342\\Downloads\\This AI Makes The Mona Lisa Speak…And More!-4J0cpdR7qec.webm (pass -k to keep)\n",
      "[youtube] PzqPV6BWVm4: Downloading webpage\n",
      "[youtube] PzqPV6BWVm4: Downloading video info webpage\n",
      "[debug] Invoking downloader on 'https://r1---sn-p5qlsnzd.googlevideo.com/videoplayback?expire=1576093616&ei=UPPwXePCBpXIDKH8kcgM&ip=2600%3A6c64%3A657f%3Af499%3A0%3Aab34%3A2e17%3A2a78&id=o-AJEITHT5YRPp4xK2NRXPAvSOjsdlqHRLcjbvSvDEmUka&itag=251&source=youtube&requiressl=yes&mm=31%2C26&mn=sn-p5qlsnzd%2Csn-vgqsrne6&ms=au%2Conr&mv=m&mvi=0&pl=32&initcwndbps=2222500&mime=audio%2Fwebm&gir=yes&clen=121758153&dur=8120.721&lmt=1575091926990919&mt=1576071921&fvip=1&keepalive=yes&fexp=23842630&c=WEB&txp=5531432&sparams=expire%2Cei%2Cip%2Cid%2Citag%2Csource%2Crequiressl%2Cmime%2Cgir%2Cclen%2Cdur%2Clmt&sig=ALgxI2wwRgIhAKoiifnZv6ZzLZ62Y0Ob5Y3RsOpFI1dZt2_ENBlQ3Wj1AiEAmshygKHwJn6Ex-GBLcIbuAzk-2RzxuVek2lCse6qBqc%3D&lsparams=mm%2Cmn%2Cms%2Cmv%2Cmvi%2Cpl%2Cinitcwndbps&lsig=AHylml4wRQIhAOUNpE88dwdc2pujuBEmrplOOJbW9fNTgsOb_h_CyDfvAiBO9yQ5GShM291Rjbgy8AGp4POw1tSswR53dMeAQf6EnA%3D%3D&ratebypass=yes'\n",
      "[download] Destination: C:\\Users\\577342\\Downloads\\Bryan Callen on 'The Portal', Ep. #009 - Cracking Wise.-PzqPV6BWVm4.webm\n",
      "[download] 100% of 116.12MiB in 00:11                   \n",
      "[debug] ffmpeg command line: ffprobe -show_streams \"file:C:\\Users\\577342\\Downloads\\Bryan Callen on 'The Portal', Ep. #009 - Cracking Wise.-PzqPV6BWVm4.webm\"\n",
      "[ffmpeg] Destination: C:\\Users\\577342\\Downloads\\Bryan Callen on 'The Portal', Ep. #009 - Cracking Wise.-PzqPV6BWVm4.mp3\n",
      "[debug] ffmpeg command line: ffmpeg -y -loglevel \"repeat+info\" -i \"file:C:\\Users\\577342\\Downloads\\Bryan Callen on 'The Portal', Ep. #009 - Cracking Wise.-PzqPV6BWVm4.webm\" -vn -acodec libmp3lame \"-b:a\" 192k \"file:C:\\Users\\577342\\Downloads\\Bryan Callen on 'The Portal', Ep. #009 - Cracking Wise.-PzqPV6BWVm4.mp3\"\n",
      "Deleting original file C:\\Users\\577342\\Downloads\\Bryan Callen on 'The Portal', Ep. #009 - Cracking Wise.-PzqPV6BWVm4.webm (pass -k to keep)\n",
      "[youtube] nM1kxbmdWwY: Downloading webpage\n",
      "[youtube] nM1kxbmdWwY: Downloading video info webpage\n",
      "[debug] Invoking downloader on 'https://r6---sn-p5qs7n7e.googlevideo.com/videoplayback?expire=1576094099&ei=M_XwXZroGYv4D7bDqsgO&ip=2600%3A6c64%3A657f%3Af499%3A0%3Aab34%3A2e17%3A2a78&id=o-AEIEXCN9UWE4tXCoMNL4sDlWbr2aD80vjcVyBS_OiMvX&itag=140&source=youtube&requiressl=yes&mm=31%2C29&mn=sn-p5qs7n7e%2Csn-p5qlsndz&ms=au%2Crdu&mv=m&mvi=5&pl=32&initcwndbps=2096250&mime=audio%2Fmp4&gir=yes&clen=6278988&dur=387.935&lmt=1575057871517986&mt=1576072394&fvip=4&keepalive=yes&fexp=23842630&c=WEB&txp=2311222&sparams=expire%2Cei%2Cip%2Cid%2Citag%2Csource%2Crequiressl%2Cmime%2Cgir%2Cclen%2Cdur%2Clmt&sig=ALgxI2wwRQIhAMbc5L-SSMP2a8_sbeNKUfgQ0rbQfB6qr6U4cl8Od2QNAiArMVab2CyIYQijri5fn5RC9KUQ2Umoqbtzsjc4DuiSZQ%3D%3D&lsparams=mm%2Cmn%2Cms%2Cmv%2Cmvi%2Cpl%2Cinitcwndbps&lsig=AHylml4wRAIgFiO3CBfg9o4mqv1bM8hodttut5Or99xf1233xZ072eYCIAMlkgyac9TKl8kHqbVk2YMWs8tYB7faZFC_k10e9nGB&ratebypass=yes'\n",
      "[download] Destination: C:\\Users\\577342\\Downloads\\Trigger Warning & 100,000 Celebration-nM1kxbmdWwY.m4a\n",
      "[download] 100% of 5.99MiB in 00:00                  \n",
      "[ffmpeg] Correcting container in \"C:\\Users\\577342\\Downloads\\Trigger Warning & 100,000 Celebration-nM1kxbmdWwY.m4a\"\n",
      "[debug] ffmpeg command line: ffmpeg -y -loglevel \"repeat+info\" -i \"file:C:\\Users\\577342\\Downloads\\Trigger Warning & 100,000 Celebration-nM1kxbmdWwY.m4a\" -c copy -f mp4 \"file:C:\\Users\\577342\\Downloads\\Trigger Warning & 100,000 Celebration-nM1kxbmdWwY.temp.m4a\"\n",
      "[debug] ffmpeg command line: ffprobe -show_streams \"file:C:\\Users\\577342\\Downloads\\Trigger Warning & 100,000 Celebration-nM1kxbmdWwY.m4a\"\n",
      "[ffmpeg] Destination: C:\\Users\\577342\\Downloads\\Trigger Warning & 100,000 Celebration-nM1kxbmdWwY.mp3\n",
      "[debug] ffmpeg command line: ffmpeg -y -loglevel \"repeat+info\" -i \"file:C:\\Users\\577342\\Downloads\\Trigger Warning & 100,000 Celebration-nM1kxbmdWwY.m4a\" -vn -acodec libmp3lame \"-b:a\" 192k \"file:C:\\Users\\577342\\Downloads\\Trigger Warning & 100,000 Celebration-nM1kxbmdWwY.mp3\"\n",
      "Deleting original file C:\\Users\\577342\\Downloads\\Trigger Warning & 100,000 Celebration-nM1kxbmdWwY.m4a (pass -k to keep)\n",
      "[youtube] POY3p9TpdD0: Downloading webpage\n",
      "[youtube] POY3p9TpdD0: Downloading video info webpage\n",
      "[debug] Invoking downloader on 'https://r5---sn-p5qlsndz.googlevideo.com/videoplayback?expire=1576094120&ei=SPXwXcSwD62Nir4PvIK28Ao&ip=2600%3A6c64%3A657f%3Af499%3A0%3Aab34%3A2e17%3A2a78&id=o-AHEXbN9IMtzNizmPr_qKMAIDIBivBqPs54KMz6et2NbM&itag=251&source=youtube&requiressl=yes&mm=31%2C29&mn=sn-p5qlsndz%2Csn-p5qs7n7z&ms=au%2Crdu&mv=m&mvi=4&pl=32&initcwndbps=2247500&mime=audio%2Fwebm&gir=yes&clen=44302842&dur=3357.421&lmt=1575083874787655&mt=1576072457&fvip=5&keepalive=yes&fexp=23842630&c=WEB&txp=5431432&sparams=expire%2Cei%2Cip%2Cid%2Citag%2Csource%2Crequiressl%2Cmime%2Cgir%2Cclen%2Cdur%2Clmt&sig=ALgxI2wwRQIhAKwIcSrOZyxMXt9uEydRU80pQsQHc1ndszVqQb77lrLkAiBvg3nDRd3xLpdK9-Y0POPwxjDhrQkECpEgQcRIlrA35g%3D%3D&lsparams=mm%2Cmn%2Cms%2Cmv%2Cmvi%2Cpl%2Cinitcwndbps&lsig=AHylml4wRAIgXd7fOQ4pRN7mpD65D3W38rq1kFf05Pc9dSLvArx7SNQCIG6gQlFnhhRSTlIXPK7KSfkhgSvDEJR0RGpxgBtVna0-&ratebypass=yes'\n",
      "[download] Destination: C:\\Users\\577342\\Downloads\\Ep. 46 - Awakening from the Meaning Crisis - Conclusion and the Prophets of the Meaning Crisis-POY3p9TpdD0.webm\n",
      "[download] 100% of 42.25MiB in 00:07                          \n",
      "[debug] ffmpeg command line: ffprobe -show_streams \"file:C:\\Users\\577342\\Downloads\\Ep. 46 - Awakening from the Meaning Crisis - Conclusion and the Prophets of the Meaning Crisis-POY3p9TpdD0.webm\"\n",
      "[ffmpeg] Destination: C:\\Users\\577342\\Downloads\\Ep. 46 - Awakening from the Meaning Crisis - Conclusion and the Prophets of the Meaning Crisis-POY3p9TpdD0.mp3\n",
      "[debug] ffmpeg command line: ffmpeg -y -loglevel \"repeat+info\" -i \"file:C:\\Users\\577342\\Downloads\\Ep. 46 - Awakening from the Meaning Crisis - Conclusion and the Prophets of the Meaning Crisis-POY3p9TpdD0.webm\" -vn -acodec libmp3lame \"-b:a\" 192k \"file:C:\\Users\\577342\\Downloads\\Ep. 46 - Awakening from the Meaning Crisis - Conclusion and the Prophets of the Meaning Crisis-POY3p9TpdD0.mp3\"\n",
      "Deleting original file C:\\Users\\577342\\Downloads\\Ep. 46 - Awakening from the Meaning Crisis - Conclusion and the Prophets of the Meaning Crisis-POY3p9TpdD0.webm (pass -k to keep)\n",
      "[youtube] Zscgm1s8qvc: Downloading webpage\n",
      "[youtube] Zscgm1s8qvc: Downloading video info webpage\n",
      "[debug] Invoking downloader on 'https://r2---sn-p5qs7ned.googlevideo.com/videoplayback?expire=1576094317&ei=DfbwXf62DdnAigSa2oyYCw&ip=2600%3A6c64%3A657f%3Af499%3A0%3Aab34%3A2e17%3A2a78&id=o-AGxamh6NOyXTpH8DuRRzEDgPQD52hg0ms8O7kaOMf45I&itag=140&source=youtube&requiressl=yes&mm=31%2C26&mn=sn-p5qs7ned%2Csn-vgqskn7e&ms=au%2Conr&mv=m&mvi=1&pl=32&initcwndbps=2223750&mime=audio%2Fmp4&gir=yes&clen=26602437&dur=1643.717&lmt=1574959389567501&mt=1576072579&fvip=2&keepalive=yes&fexp=23842630&c=WEB&txp=5431432&sparams=expire%2Cei%2Cip%2Cid%2Citag%2Csource%2Crequiressl%2Cmime%2Cgir%2Cclen%2Cdur%2Clmt&sig=ALgxI2wwRAIgLY5adQlSxLCMIlalPSfsniiSmcYzK_2TbazBVRjMIlECIA4F2ceQEjc5RBpbjq_SN_otSA7ZNkfnqFNeD-sQav6z&lsparams=mm%2Cmn%2Cms%2Cmv%2Cmvi%2Cpl%2Cinitcwndbps&lsig=AHylml4wRgIhAL64CYqnQsqVaoVdnKXbJQji1Od7Du3vZ-ULaKibMPiIAiEAtXTdCKDReSVUuV0pCzbEW_tDynI19S85w8ZMKIQtk4E%3D&ratebypass=yes'\n",
      "[download] Destination: C:\\Users\\577342\\Downloads\\Hacking Consciousness, Joshua Fields-Zscgm1s8qvc.m4a\n",
      "[download] 100% of 25.37MiB in 00:02                   \n",
      "[ffmpeg] Correcting container in \"C:\\Users\\577342\\Downloads\\Hacking Consciousness, Joshua Fields-Zscgm1s8qvc.m4a\"\n",
      "[debug] ffmpeg command line: ffmpeg -y -loglevel \"repeat+info\" -i \"file:C:\\Users\\577342\\Downloads\\Hacking Consciousness, Joshua Fields-Zscgm1s8qvc.m4a\" -c copy -f mp4 \"file:C:\\Users\\577342\\Downloads\\Hacking Consciousness, Joshua Fields-Zscgm1s8qvc.temp.m4a\"\n",
      "[debug] ffmpeg command line: ffprobe -show_streams \"file:C:\\Users\\577342\\Downloads\\Hacking Consciousness, Joshua Fields-Zscgm1s8qvc.m4a\"\n",
      "[ffmpeg] Destination: C:\\Users\\577342\\Downloads\\Hacking Consciousness, Joshua Fields-Zscgm1s8qvc.mp3\n",
      "[debug] ffmpeg command line: ffmpeg -y -loglevel \"repeat+info\" -i \"file:C:\\Users\\577342\\Downloads\\Hacking Consciousness, Joshua Fields-Zscgm1s8qvc.m4a\" -vn -acodec libmp3lame \"-b:a\" 192k \"file:C:\\Users\\577342\\Downloads\\Hacking Consciousness, Joshua Fields-Zscgm1s8qvc.mp3\"\n",
      "Deleting original file C:\\Users\\577342\\Downloads\\Hacking Consciousness, Joshua Fields-Zscgm1s8qvc.m4a (pass -k to keep)\n",
      "[youtube] mbIkOx15sLI: Downloading webpage\n",
      "[youtube] mbIkOx15sLI: Downloading video info webpage\n",
      "[debug] Invoking downloader on 'https://r3---sn-p5qlsndd.googlevideo.com/videoplayback?expire=1576094379&ei=S_bwXYWwIt6Iir4P7P6C6AM&ip=2600%3A6c64%3A657f%3Af499%3A0%3Aab34%3A2e17%3A2a78&id=o-ADuXJ07zLFN46ZNkhlYytVYGyApKsTAhJ_D5g6SD7Rym&itag=140&source=youtube&requiressl=yes&mm=31%2C26&mn=sn-p5qlsndd%2Csn-vgqs7nl7&ms=au%2Conr&mv=m&mvi=2&pl=32&initcwndbps=2153750&mime=audio%2Fmp4&gir=yes&clen=111265836&dur=6875.056&lmt=1574922676976016&mt=1576072686&fvip=3&keepalive=yes&fexp=23842630&c=WEB&txp=5311222&sparams=expire%2Cei%2Cip%2Cid%2Citag%2Csource%2Crequiressl%2Cmime%2Cgir%2Cclen%2Cdur%2Clmt&sig=ALgxI2wwRQIgRoLEmCpmVIl2RBu_BNZyeynXcme1NIt_SvNZd1qZgGMCIQCDaCcN_zNRjFvuPbHcGpEUZLuwny44pMlVcNNTygSO0w%3D%3D&lsparams=mm%2Cmn%2Cms%2Cmv%2Cmvi%2Cpl%2Cinitcwndbps&lsig=AHylml4wRQIgD6na6CJV9y1LGNcVhNK7wAsz1D6iqAvYG-LmHUoJhFgCIQDDJKXVivGdVcpFDp4OD9tvdRbgeExoxn1L7tnjAVQiKQ%3D%3D&ratebypass=yes'\n",
      "[download] Destination: C:\\Users\\577342\\Downloads\\November 2019 - Q&A-mbIkOx15sLI.m4a\n",
      "[download] 100% of 106.11MiB in 00:10                   \n",
      "[ffmpeg] Correcting container in \"C:\\Users\\577342\\Downloads\\November 2019 - Q&A-mbIkOx15sLI.m4a\"\n",
      "[debug] ffmpeg command line: ffmpeg -y -loglevel \"repeat+info\" -i \"file:C:\\Users\\577342\\Downloads\\November 2019 - Q&A-mbIkOx15sLI.m4a\" -c copy -f mp4 \"file:C:\\Users\\577342\\Downloads\\November 2019 - Q&A-mbIkOx15sLI.temp.m4a\"\n",
      "[debug] ffmpeg command line: ffprobe -show_streams \"file:C:\\Users\\577342\\Downloads\\November 2019 - Q&A-mbIkOx15sLI.m4a\"\n",
      "[ffmpeg] Destination: C:\\Users\\577342\\Downloads\\November 2019 - Q&A-mbIkOx15sLI.mp3\n",
      "[debug] ffmpeg command line: ffmpeg -y -loglevel \"repeat+info\" -i \"file:C:\\Users\\577342\\Downloads\\November 2019 - Q&A-mbIkOx15sLI.m4a\" -vn -acodec libmp3lame \"-b:a\" 192k \"file:C:\\Users\\577342\\Downloads\\November 2019 - Q&A-mbIkOx15sLI.mp3\"\n",
      "Deleting original file C:\\Users\\577342\\Downloads\\November 2019 - Q&A-mbIkOx15sLI.m4a (pass -k to keep)\n",
      "[youtube] slJI5r9rltI: Downloading webpage\n",
      "[youtube] slJI5r9rltI: Downloading video info webpage\n",
      "[debug] Invoking downloader on 'https://r5---sn-p5qs7nel.googlevideo.com/videoplayback?expire=1576094687&ei=f_fwXcrQIsiID4_7uIAH&ip=2600%3A6c64%3A657f%3Af499%3A0%3Aab34%3A2e17%3A2a78&id=o-AKPiKklxXZuFQfEAZ5bJb9uD_uFBAo1jk-3Gha3pGUoz&itag=251&source=youtube&requiressl=yes&mm=31%2C26&mn=sn-p5qs7nel%2Csn-vgqsknls&ms=au%2Conr&mv=m&mvi=4&pl=32&initcwndbps=2190000&mime=audio%2Fwebm&gir=yes&clen=3886204&dur=258.621&lmt=1574884283361159&mt=1576072911&fvip=5&keepalive=yes&fexp=23842630&c=WEB&txp=5531432&sparams=expire%2Cei%2Cip%2Cid%2Citag%2Csource%2Crequiressl%2Cmime%2Cgir%2Cclen%2Cdur%2Clmt&sig=ALgxI2wwRAIgfIz6f7R8_utG92XhfdITjHB9YqY16RmIfQiIraRaDTICIDXDl_92BqMxTZhsKOzh00B5LNVGHvuCGMMSma6FY0O1&lsparams=mm%2Cmn%2Cms%2Cmv%2Cmvi%2Cpl%2Cinitcwndbps&lsig=AHylml4wRgIhAM3mF2my8OYkH7oIOLMnonZiOv-Saq0LDJBZHqQcquXXAiEA7-LO4hUWaoskosfdukmPPncSOa1w6hRuQvnn74C78M8%3D&ratebypass=yes'\n",
      "[download] Destination: C:\\Users\\577342\\Downloads\\This AI Captures Your Hair Geometry...From Just One Photo! 👩‍🦱-slJI5r9rltI.webm\n",
      "[download] 100% of 3.71MiB in 00:01                  \n",
      "[debug] ffmpeg command line: ffprobe -show_streams \"file:C:\\Users\\577342\\Downloads\\This AI Captures Your Hair Geometry...From Just One Photo! 👩‍🦱-slJI5r9rltI.webm\"\n",
      "[ffmpeg] Destination: C:\\Users\\577342\\Downloads\\This AI Captures Your Hair Geometry...From Just One Photo! 👩‍🦱-slJI5r9rltI.mp3\n",
      "[debug] ffmpeg command line: ffmpeg -y -loglevel \"repeat+info\" -i \"file:C:\\Users\\577342\\Downloads\\This AI Captures Your Hair Geometry...From Just One Photo! 👩‍🦱-slJI5r9rltI.webm\" -vn -acodec libmp3lame \"-b:a\" 192k \"file:C:\\Users\\577342\\Downloads\\This AI Captures Your Hair Geometry...From Just One Photo! 👩‍🦱-slJI5r9rltI.mp3\"\n",
      "Deleting original file C:\\Users\\577342\\Downloads\\This AI Captures Your Hair Geometry...From Just One Photo! 👩‍🦱-slJI5r9rltI.webm (pass -k to keep)\n",
      "0\n",
      "Conversion completed.\n"
     ]
    }
   ],
   "source": [
    "\n",
    "import os\n",
    "ydl_opts = {\n",
    "    'format': 'bestaudio/best',\n",
    "    'nocheckcertificate': False,\n",
    "    'outtmpl': os.path.join(downloads_folder, youtube_dl.DEFAULT_OUTTMPL),\n",
    "    'postprocessors': [{'key': 'FFmpegExtractAudio',\n",
    "                       'preferredcodec': 'mp3',\n",
    "                       'preferredquality': '192'}],\n",
    "    'verbose': True,\n",
    "    }\n",
    "with youtube_dl.YoutubeDL(ydl_opts) as ydl:\n",
    "    for url in youtube_url_list:\n",
    "        try:\n",
    "            # It also downloads the videos\n",
    "            res = ydl.extract_info(url,\n",
    "                                   force_generic_extractor=ydl.params.get('force_generic_extractor',\n",
    "                                                                          False))\n",
    "        except Exception as e:\n",
    "            print()\n",
    "            print('####################################################')\n",
    "            print(e)\n",
    "            print('####################################################')\n",
    "            print()\n",
    "\n",
    "    print(ydl._download_retcode)\n",
    "print('Conversion completed.')"
   ]
  },
  {
   "cell_type": "code",
   "execution_count": 11,
   "metadata": {},
   "outputs": [],
   "source": [
    "\n",
    "import re\n",
    "\n",
    "files_list = os.listdir(downloads_folder)\n",
    "for file_name in files_list:\n",
    "    if file_name.endswith('.mp3'):\n",
    "        src_path = os.path.join(downloads_folder, file_name)\n",
    "        file_name = re.sub(r'-[A-Z0-9a-z-_]{11}\\.mp3', '.mp3', file_name)\n",
    "        dst_path = os.path.join(downloads_folder, file_name)\n",
    "        os.rename(src_path, dst_path)"
   ]
  },
  {
   "cell_type": "code",
   "execution_count": 3,
   "metadata": {},
   "outputs": [],
   "source": [
    "\n",
    "!start %windir%\\explorer.exe \"{os.path.abspath(downloads_folder)}\""
   ]
  },
  {
   "cell_type": "code",
   "execution_count": 12,
   "metadata": {},
   "outputs": [],
   "source": [
    "\n",
    "# ID of the \"Reading Material\" folder\n",
    "tgt_folder_id = '1syfUx6jukbW1CWIEy8xoM9veGGr5MBUh'\n",
    "rm_url = 'https://drive.google.com/drive/u/0/folders/{}'.format(tgt_folder_id)\n",
    "!\"C:\\Program Files (x86)\\Google\\Chrome\\Application\\chrome.exe\" {rm_url}"
   ]
  },
  {
   "cell_type": "markdown",
   "metadata": {},
   "source": [
    "\n",
    "Next, we authenticate with Google by running the builtin web server conveniently provided."
   ]
  },
  {
   "cell_type": "code",
   "execution_count": null,
   "metadata": {},
   "outputs": [
    {
     "name": "stdout",
     "output_type": "stream",
     "text": [
      "Your browser has been opened to visit:\n",
      "\n",
      "    https://accounts.google.com/o/oauth2/auth?client_id=493273913470-37renji2vm668dqbm141l7u5rphmi4ie.apps.googleusercontent.com&redirect_uri=http%3A%2F%2Flocalhost%3A8080%2F&scope=https%3A%2F%2Fwww.googleapis.com%2Fauth%2Fdrive&access_type=offline&response_type=code\n",
      "\n"
     ]
    }
   ],
   "source": [
    "\n",
    "from pydrive.auth import GoogleAuth\n",
    "\n",
    "# The URL that gets displayed here is not suitable for public consumption\n",
    "GoogleAuth.DEFAULT_SETTINGS['client_config_file'] = r'../json/client_secret.json'\n",
    "gauth = GoogleAuth()\n",
    "gauth.LocalWebserverAuth()"
   ]
  },
  {
   "cell_type": "markdown",
   "metadata": {},
   "source": [
    "\n",
    "Before you run the next cell, in the online web page of Google Drive, bring up the share dialog box of the folder you are uploading to and copy its folder id into the <code>tgt_folder_id</code> string. If you right-click on the folder and select **Share...** and then click **Get shareable link**, you will see something like:\n",
    "\n",
    "https://drive.google.com/drive/folders/1syfUx6jukbW1CWIEy8xoM9veGGr5MBUx?usp=sharing\n",
    "\n",
    "It's that **1syfUx6jukbW1CWIEy8xoM9veGGr5MBUx** that you need to copy."
   ]
  },
  {
   "cell_type": "code",
   "execution_count": null,
   "metadata": {},
   "outputs": [],
   "source": [
    "\n",
    "from pydrive.drive import GoogleDrive\n",
    "\n",
    "# Create GoogleDrive instance with authenticated GoogleAuth instance\n",
    "drive = GoogleDrive(gauth)\n",
    "\n",
    "# ID of the \"Reading Material\" folder\n",
    "tgt_folder_id = '1syfUx6jukbW1CWIEy8xoM9veGGr5MBUh'"
   ]
  },
  {
   "cell_type": "markdown",
   "metadata": {},
   "source": [
    "\n",
    "Next, we will upload all the mp3s in our download folder."
   ]
  },
  {
   "cell_type": "code",
   "execution_count": null,
   "metadata": {},
   "outputs": [],
   "source": [
    "\n",
    "import os\n",
    "\n",
    "# Upload all mp3s from the Downloads folder to Google Drive's \"Reading Material\" folder\n",
    "gfile_dict = {}\n",
    "for subdir, dirs, files in os.walk(downloads_folder):\n",
    "    for src_file in files:\n",
    "        if src_file.endswith('.mp3'):\n",
    "            src_path = os.path.join(subdir, src_file)\n",
    "            title = '-'.join(src_file.split('-')[:-1]) + '.mp3'\n",
    "            gfile_dict[src_file] = drive.CreateFile({'title':title, 'mimeType':'audio/mp3',\n",
    "                                                     'parents': [{'kind': 'drive#fileLink',\n",
    "                                                                  'id': tgt_folder_id}]})\n",
    "\n",
    "            # Read mp3 file and set it as a content of this instance\n",
    "            gfile_dict[src_file].SetContentFile(src_path)\n",
    "            \n",
    "            # Upload the file\n",
    "            try:\n",
    "                gfile_dict[src_file].Upload()\n",
    "                print('Uploaded %s (%s)' % (gfile_dict[src_file]['title'],\n",
    "                                            gfile_dict[src_file]['mimeType']))\n",
    "            except Exception as e:\n",
    "                print('Upload failed for %s (%s): %s' % (gfile_dict[src_file]['title'],\n",
    "                                                         gfile_dict[src_file]['mimeType'], e))\n",
    "print('Upload completed.')"
   ]
  },
  {
   "cell_type": "markdown",
   "metadata": {},
   "source": [
    "\n",
    "Download the mp3s to <a href='http://www.voicedream.com/support/user-manual/#file'>Voice Dream</a> before you run the trash cell (below)."
   ]
  },
  {
   "cell_type": "code",
   "execution_count": null,
   "metadata": {},
   "outputs": [],
   "source": [
    "\n",
    "import os\n",
    "\n",
    "# Trash all mp3s from Google Drive's \"Reading Material\" folder\n",
    "for src_file in gfile_dict.keys():\n",
    "\n",
    "    # Trash mp3 file\n",
    "    try:\n",
    "        gfile_dict[src_file].Trash()\n",
    "        print('Trashed %s (%s)' % (gfile_dict[src_file]['title'],\n",
    "                                   gfile_dict[src_file]['mimeType']))\n",
    "    except Exception as e:\n",
    "        print('Trash failed for %s (%s): %s' % (gfile_dict[src_file]['title'],\n",
    "                                                gfile_dict[src_file]['mimeType'], e))\n",
    "    \n",
    "print('Trashing completed.')"
   ]
  },
  {
   "cell_type": "markdown",
   "metadata": {},
   "source": [
    "\n",
    "Lastly, we run the code that will delete all the mp3s out of our downloads folder."
   ]
  },
  {
   "cell_type": "code",
   "execution_count": 6,
   "metadata": {},
   "outputs": [
    {
     "ename": "NameError",
     "evalue": "name 'gfile_dict' is not defined",
     "output_type": "error",
     "traceback": [
      "\u001b[1;31m---------------------------------------------------------------------------\u001b[0m",
      "\u001b[1;31mNameError\u001b[0m                                 Traceback (most recent call last)",
      "\u001b[1;32m<ipython-input-6-65c60fb1774b>\u001b[0m in \u001b[0;36m<module>\u001b[1;34m\u001b[0m\n\u001b[0;32m      3\u001b[0m \u001b[1;33m\u001b[0m\u001b[0m\n\u001b[0;32m      4\u001b[0m \u001b[1;31m# Delete all mp3s in the Downloads folder\u001b[0m\u001b[1;33m\u001b[0m\u001b[1;33m\u001b[0m\u001b[1;33m\u001b[0m\u001b[0m\n\u001b[1;32m----> 5\u001b[1;33m \u001b[1;32mfor\u001b[0m \u001b[0msrc_file\u001b[0m \u001b[1;32min\u001b[0m \u001b[0mgfile_dict\u001b[0m\u001b[1;33m.\u001b[0m\u001b[0mkeys\u001b[0m\u001b[1;33m(\u001b[0m\u001b[1;33m)\u001b[0m\u001b[1;33m:\u001b[0m\u001b[1;33m\u001b[0m\u001b[1;33m\u001b[0m\u001b[0m\n\u001b[0m\u001b[0;32m      6\u001b[0m     \u001b[0msrc_path\u001b[0m \u001b[1;33m=\u001b[0m \u001b[0mos\u001b[0m\u001b[1;33m.\u001b[0m\u001b[0mpath\u001b[0m\u001b[1;33m.\u001b[0m\u001b[0mjoin\u001b[0m\u001b[1;33m(\u001b[0m\u001b[0mdownloads_folder\u001b[0m\u001b[1;33m,\u001b[0m \u001b[0msrc_file\u001b[0m\u001b[1;33m)\u001b[0m\u001b[1;33m\u001b[0m\u001b[1;33m\u001b[0m\u001b[0m\n\u001b[0;32m      7\u001b[0m \u001b[1;33m\u001b[0m\u001b[0m\n",
      "\u001b[1;31mNameError\u001b[0m: name 'gfile_dict' is not defined"
     ]
    }
   ],
   "source": [
    "\n",
    "import os\n",
    "\n",
    "# Delete all mp3s in the Downloads folder\n",
    "for src_file in gfile_dict.keys():\n",
    "    src_path = os.path.join(downloads_folder, src_file)\n",
    "\n",
    "    # Delete the file\n",
    "    try:\n",
    "        os.remove(src_path)\n",
    "        print('Deleted %s (%s)' % (src_file,\n",
    "                                   gfile_dict[src_file]['mimeType']))\n",
    "    except Exception as e:\n",
    "        print('Failed to delete %s (%s): %s' % (src_file,\n",
    "                                                gfile_dict[src_file]['mimeType'], e))\n",
    "print('Deleting completed.')"
   ]
  },
  {
   "cell_type": "markdown",
   "metadata": {},
   "source": [
    "\n",
    "If you open the downloads folder with the code below you can see that the deletion is complete."
   ]
  },
  {
   "cell_type": "code",
   "execution_count": 6,
   "metadata": {},
   "outputs": [],
   "source": [
    "\n",
    "!start %windir%\\explorer.exe \"{os.path.abspath(downloads_folder)}\""
   ]
  },
  {
   "cell_type": "code",
   "execution_count": 4,
   "metadata": {},
   "outputs": [
    {
     "ename": "NameError",
     "evalue": "name 'tgt_folder_id' is not defined",
     "output_type": "error",
     "traceback": [
      "\u001b[1;31m---------------------------------------------------------------------------\u001b[0m",
      "\u001b[1;31mNameError\u001b[0m                                 Traceback (most recent call last)",
      "\u001b[1;32m<ipython-input-4-563d4c2c1518>\u001b[0m in \u001b[0;36m<module>\u001b[1;34m\u001b[0m\n\u001b[0;32m      2\u001b[0m \u001b[1;32mfrom\u001b[0m \u001b[0mIPython\u001b[0m\u001b[1;33m.\u001b[0m\u001b[0mdisplay\u001b[0m \u001b[1;32mimport\u001b[0m \u001b[0mHTML\u001b[0m\u001b[1;33m\u001b[0m\u001b[1;33m\u001b[0m\u001b[0m\n\u001b[0;32m      3\u001b[0m \u001b[1;33m\u001b[0m\u001b[0m\n\u001b[1;32m----> 4\u001b[1;33m \u001b[0mrm_url\u001b[0m \u001b[1;33m=\u001b[0m \u001b[1;34m'https://drive.google.com/drive/u/0/folders/{}'\u001b[0m\u001b[1;33m.\u001b[0m\u001b[0mformat\u001b[0m\u001b[1;33m(\u001b[0m\u001b[0mtgt_folder_id\u001b[0m\u001b[1;33m)\u001b[0m\u001b[1;33m\u001b[0m\u001b[1;33m\u001b[0m\u001b[0m\n\u001b[0m\u001b[0;32m      5\u001b[0m \u001b[0mmessage_str\u001b[0m \u001b[1;33m=\u001b[0m \u001b[1;34m'open up your Google Drive target folder'\u001b[0m\u001b[1;33m\u001b[0m\u001b[1;33m\u001b[0m\u001b[0m\n\u001b[0;32m      6\u001b[0m \u001b[0mrm_link\u001b[0m \u001b[1;33m=\u001b[0m \u001b[1;34m'<a href=\"{}\" target=\"_blank\">{}</a>'\u001b[0m\u001b[1;33m.\u001b[0m\u001b[0mformat\u001b[0m\u001b[1;33m(\u001b[0m\u001b[0mrm_url\u001b[0m\u001b[1;33m,\u001b[0m \u001b[0mmessage_str\u001b[0m\u001b[1;33m)\u001b[0m\u001b[1;33m\u001b[0m\u001b[1;33m\u001b[0m\u001b[0m\n",
      "\u001b[1;31mNameError\u001b[0m: name 'tgt_folder_id' is not defined"
     ]
    }
   ],
   "source": [
    "\n",
    "from IPython.display import HTML\n",
    "\n",
    "rm_url = 'https://drive.google.com/drive/u/0/folders/{}'.format(tgt_folder_id)\n",
    "message_str = 'open up your Google Drive target folder'\n",
    "rm_link = '<a href=\"{}\" target=\"_blank\">{}</a>'.format(rm_url, message_str)\n",
    "message_str = 'If you want to, you can run the code below to {} and'.format(rm_link)\n",
    "message_str += ' check if everything got deleted.'\n",
    "HTML(message_str)"
   ]
  },
  {
   "cell_type": "code",
   "execution_count": null,
   "metadata": {},
   "outputs": [],
   "source": [
    "\n",
    "!\"C:\\Program Files (x86)\\Google\\Chrome\\Application\\chrome.exe\" {rm_url}"
   ]
  },
  {
   "cell_type": "code",
   "execution_count": null,
   "metadata": {},
   "outputs": [],
   "source": []
  }
 ],
 "metadata": {
  "anaconda-cloud": {},
  "kernelspec": {
   "display_name": "Python 3",
   "language": "python",
   "name": "python3"
  },
  "language_info": {
   "codemirror_mode": {
    "name": "ipython",
    "version": 3
   },
   "file_extension": ".py",
   "mimetype": "text/x-python",
   "name": "python",
   "nbconvert_exporter": "python",
   "pygments_lexer": "ipython3",
   "version": "3.6.8"
  }
 },
 "nbformat": 4,
 "nbformat_minor": 2
}
