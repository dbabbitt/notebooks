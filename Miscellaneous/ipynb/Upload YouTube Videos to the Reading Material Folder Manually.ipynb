{
 "cells": [
  {
   "cell_type": "markdown",
   "metadata": {},
   "source": [
    "\n",
    "## Upload YouTube Videos to the Reading Material Folder Manually"
   ]
  },
  {
   "cell_type": "markdown",
   "metadata": {},
   "source": [
    "\n",
    "In this notebook, we will take URLs of videos, convert them to mp3s, upload them to Google Drive, trash them, and delete them."
   ]
  },
  {
   "cell_type": "markdown",
   "metadata": {},
   "source": [
    "\n",
    "We will start by ensuring that all the necessary python libraries are installed."
   ]
  },
  {
   "cell_type": "code",
   "execution_count": null,
   "metadata": {},
   "outputs": [],
   "source": [
    "\n",
    "import sys\n",
    "\n",
    "print('conda update --all --yes --prefix \"{}\"'.format(sys.prefix))"
   ]
  },
  {
   "cell_type": "code",
   "execution_count": null,
   "metadata": {},
   "outputs": [],
   "source": [
    "\n",
    "!{sys.executable} -m pip install --upgrade youtube_dl"
   ]
  },
  {
   "cell_type": "code",
   "execution_count": null,
   "metadata": {},
   "outputs": [],
   "source": [
    "\n",
    "import os\n",
    "\n",
    "# https://github.com/ytdl-org/youtube-dl/issues/20758\n",
    "# Just replaced 'token' to 'account_playback_token' in line 1674 of extractor/youtube.py\n",
    "# All seems to work.\n",
    "for sub_dir, dirs_list, files_list in os.walk(r'C:\\Users\\dev\\Anaconda3\\Lib\\site-packages\\youtube_dl'):\n",
    "    for file_name in files_list:\n",
    "        if 'youtube.py' == file_name:\n",
    "            print(os.path.join(sub_dir, file_name))"
   ]
  },
  {
   "cell_type": "code",
   "execution_count": null,
   "metadata": {},
   "outputs": [],
   "source": [
    "\n",
    "!youtube-dl --version"
   ]
  },
  {
   "cell_type": "code",
   "execution_count": null,
   "metadata": {},
   "outputs": [],
   "source": [
    "\n",
    "!{sys.executable} -m pip install --upgrade PyDrive"
   ]
  },
  {
   "cell_type": "markdown",
   "metadata": {},
   "source": [
    "\n",
    "Next, we will prove to ourselves that we have ffmpeg correctly installed."
   ]
  },
  {
   "cell_type": "code",
   "execution_count": null,
   "metadata": {},
   "outputs": [],
   "source": [
    "\n",
    "# https://github.com/adaptlearning/adapt_authoring/wiki/Installing-FFmpeg\n",
    "!ffmpeg -version"
   ]
  },
  {
   "cell_type": "markdown",
   "metadata": {},
   "source": [
    "\n",
    "Performing authentication with Google Drive requires we keep our client id and consumer secret in a json file. Keep your secrets off the internet!"
   ]
  },
  {
   "cell_type": "code",
   "execution_count": null,
   "metadata": {},
   "outputs": [],
   "source": [
    "\n",
    "!start %windir%\\explorer.exe \"C:\\Users\\dev\\Documents\\repositories\\notebooks\\Miscellaneous\\json\""
   ]
  },
  {
   "cell_type": "markdown",
   "metadata": {},
   "source": [
    "\n",
    "We also make sure line 286 of pydrive's files.py file reads <code>self.content.close()</code> before we run the trash cell."
   ]
  },
  {
   "cell_type": "code",
   "execution_count": null,
   "metadata": {},
   "outputs": [],
   "source": [
    "\n",
    "file_path = 'C:\\Users\\dev\\Anaconda3\\Lib\\site-packages\\pydrive\\files.py'\n",
    "!\"C:\\Program Files\\Notepad++\\notepad++.exe\" \"{file_path}\""
   ]
  },
  {
   "cell_type": "markdown",
   "metadata": {},
   "source": [
    "\n",
    "Before we start the download process, let's go over setting a few variables:\n",
    "\n",
    "* **The downloads folder:** This is where all the messy work will be done. All mp3 files and any intermediate files will be deleted out of this folder by the end.\n",
    "* **The URL list:** This is where we place our YouTube video URLs. It doesn't matter if you remove the <code>time_continue=</code> parameter in the URL, the mp3 will just start at zero seconds anyway.\n",
    "* **The target folder ID:** This is the folder in Google Drive where our uploads will end up."
   ]
  },
  {
   "cell_type": "code",
   "execution_count": 1,
   "metadata": {},
   "outputs": [],
   "source": [
    "\n",
    "import youtube_dl\n",
    "\n",
    "downloads_folder = r'C:\\Users\\577342\\Downloads\\\\'\n",
    "youtube_url_list = ['https://www.youtube.com/watch?v=4ODKBG5D4xI',\n",
    "                    'https://www.youtube.com/watch?v=TMTrywlKnW4',\n",
    "                    'https://www.youtube.com/watch?v=vgmt5JGVv3I',\n",
    "                    'https://www.youtube.com/watch?v=laai-ve3KaI',\n",
    "                    'https://www.youtube.com/watch?v=rgivGzjZixM',\n",
    "                    'https://www.youtube.com/watch?v=CIP9mc35HQI',\n",
    "                    'https://www.youtube.com/watch?v=rpndwf45nao',\n",
    "                    'https://www.youtube.com/watch?v=FkRSrIfoGlg',\n",
    "                    'https://www.youtube.com/watch?v=-RzA5aNZyIs',\n",
    "                    'https://www.youtube.com/watch?v=nLFFNpTQla0',\n",
    "                    'https://www.youtube.com/watch?v=3p2vobGtS0M']"
   ]
  },
  {
   "cell_type": "markdown",
   "metadata": {},
   "source": [
    "Now we are ready to start the download process by running <code>youtube_dl</code> on our <code>youtube_url_list</code>."
   ]
  },
  {
   "cell_type": "code",
   "execution_count": 2,
   "metadata": {
    "scrolled": false
   },
   "outputs": [
    {
     "name": "stderr",
     "output_type": "stream",
     "text": [
      "[debug] Encodings: locale cp1252, fs utf-8, out UTF-8, pref cp1252\n",
      "[debug] youtube-dl version 2019.04.17\n",
      "[debug] Python version 3.6.8 (CPython) - Windows-10-10.0.17763-SP0\n",
      "[debug] exe versions: ffmpeg N-90173-gfa0c9d69d3, ffprobe N-90173-gfa0c9d69d3, phantomjs 2.1.1\n",
      "[debug] Proxy map: {}\n"
     ]
    },
    {
     "name": "stdout",
     "output_type": "stream",
     "text": [
      "[youtube] 4ODKBG5D4xI: Downloading webpage\n",
      "[youtube] 4ODKBG5D4xI: Downloading video info webpage\n",
      "[debug] Invoking downloader on 'https://r1---sn-p5qlsnd6.googlevideo.com/videoplayback?id=o-AHVWNZz1BOW-zwkWzlYC5J0l7_i9X1_uUfccmuyOLkJY&itag=140&source=youtube&requiressl=yes&mm=31%2C29&mn=sn-p5qlsnd6%2Csn-p5qs7nes&ms=au%2Crdu&mv=m&pl=32&ei=A8O_XLyiDMvUwQHH9Jgg&gcr=us&initcwndbps=1977500&mime=audio%2Fmp4&gir=yes&clen=106429447&dur=6576.215&lmt=1555185092483501&mt=1556071046&fvip=1&keepalive=yes&c=WEB&txp=5431432&ip=2600%3A6c64%3A657f%3Af499%3A0%3Aab34%3A2e17%3A2a78&ipbits=0&expire=1556092771&sparams=ip%2Cipbits%2Cexpire%2Cid%2Citag%2Csource%2Crequiressl%2Cmm%2Cmn%2Cms%2Cmv%2Cpl%2Cei%2Cgcr%2Cinitcwndbps%2Cmime%2Cgir%2Cclen%2Cdur%2Clmt&signature=2863A04C336BEAE164F3AA5C3F73174ED006F06A.9BA32C35EED544E492760DF7BBDBC765210E8A07&key=yt8&ratebypass=yes'\n",
      "[download] Destination: C:\\Users\\577342\\Downloads\\Aion 22 ~ Carl Jung on The Archetype of Transformation-4ODKBG5D4xI.m4a\n",
      "[download] 100% of 101.50MiB in 00:10                          \n",
      "[ffmpeg] Correcting container in \"C:\\Users\\577342\\Downloads\\Aion 22 ~ Carl Jung on The Archetype of Transformation-4ODKBG5D4xI.m4a\"\n",
      "[debug] ffmpeg command line: ffmpeg -y -loglevel \"repeat+info\" -i \"file:C:\\Users\\577342\\Downloads\\Aion 22 ~ Carl Jung on The Archetype of Transformation-4ODKBG5D4xI.m4a\" -c copy -f mp4 \"file:C:\\Users\\577342\\Downloads\\Aion 22 ~ Carl Jung on The Archetype of Transformation-4ODKBG5D4xI.temp.m4a\"\n",
      "[debug] ffmpeg command line: ffprobe -show_streams \"file:C:\\Users\\577342\\Downloads\\Aion 22 ~ Carl Jung on The Archetype of Transformation-4ODKBG5D4xI.m4a\"\n",
      "[ffmpeg] Destination: C:\\Users\\577342\\Downloads\\Aion 22 ~ Carl Jung on The Archetype of Transformation-4ODKBG5D4xI.mp3\n",
      "[debug] ffmpeg command line: ffmpeg -y -loglevel \"repeat+info\" -i \"file:C:\\Users\\577342\\Downloads\\Aion 22 ~ Carl Jung on The Archetype of Transformation-4ODKBG5D4xI.m4a\" -vn -acodec libmp3lame \"-b:a\" 192k \"file:C:\\Users\\577342\\Downloads\\Aion 22 ~ Carl Jung on The Archetype of Transformation-4ODKBG5D4xI.mp3\"\n",
      "Deleting original file C:\\Users\\577342\\Downloads\\Aion 22 ~ Carl Jung on The Archetype of Transformation-4ODKBG5D4xI.m4a (pass -k to keep)\n",
      "[youtube] TMTrywlKnW4: Downloading webpage\n",
      "[youtube] TMTrywlKnW4: Downloading video info webpage\n",
      "[debug] Invoking downloader on 'https://r6---sn-p5qs7ned.googlevideo.com/videoplayback?id=o-ADc1GLI49UISQkttSD8s2ZMe3_5LC3akzjv0b-BARrL0&itag=140&source=youtube&requiressl=yes&mm=31%2C26&mn=sn-p5qs7ned%2Csn-vgqsrn76&ms=au%2Conr&mv=m&pl=32&ei=bifAXNnfGI38NoGDq8AO&initcwndbps=2203750&mime=audio%2Fmp4&gir=yes&clen=33028105&dur=2040.755&lmt=1555520490796144&mt=1556096812&fvip=6&keepalive=yes&c=WEB&txp=5531432&ip=2600%3A6c64%3A657f%3Af499%3A0%3Aab34%3A2e17%3A2a78&ipbits=0&expire=1556118478&sparams=ip%2Cipbits%2Cexpire%2Cid%2Citag%2Csource%2Crequiressl%2Cmm%2Cmn%2Cms%2Cmv%2Cpl%2Cei%2Cinitcwndbps%2Cmime%2Cgir%2Cclen%2Cdur%2Clmt&signature=CE6D4D758A38311DC7E75F897C3E59E0B34C143F.748CF90BC1E43DBE437A56B40424ED8A9C92BED8&key=yt8&ratebypass=yes'\n",
      "[download] Destination: C:\\Users\\577342\\Downloads\\Claire Lehmann & Quillette, Thinking Differently-TMTrywlKnW4.m4a\n",
      "[download] 100% of 31.50MiB in 00:04                          \n",
      "[ffmpeg] Correcting container in \"C:\\Users\\577342\\Downloads\\Claire Lehmann & Quillette, Thinking Differently-TMTrywlKnW4.m4a\"\n",
      "[debug] ffmpeg command line: ffmpeg -y -loglevel \"repeat+info\" -i \"file:C:\\Users\\577342\\Downloads\\Claire Lehmann & Quillette, Thinking Differently-TMTrywlKnW4.m4a\" -c copy -f mp4 \"file:C:\\Users\\577342\\Downloads\\Claire Lehmann & Quillette, Thinking Differently-TMTrywlKnW4.temp.m4a\"\n",
      "[debug] ffmpeg command line: ffprobe -show_streams \"file:C:\\Users\\577342\\Downloads\\Claire Lehmann & Quillette, Thinking Differently-TMTrywlKnW4.m4a\"\n",
      "[ffmpeg] Destination: C:\\Users\\577342\\Downloads\\Claire Lehmann & Quillette, Thinking Differently-TMTrywlKnW4.mp3\n",
      "[debug] ffmpeg command line: ffmpeg -y -loglevel \"repeat+info\" -i \"file:C:\\Users\\577342\\Downloads\\Claire Lehmann & Quillette, Thinking Differently-TMTrywlKnW4.m4a\" -vn -acodec libmp3lame \"-b:a\" 192k \"file:C:\\Users\\577342\\Downloads\\Claire Lehmann & Quillette, Thinking Differently-TMTrywlKnW4.mp3\"\n",
      "Deleting original file C:\\Users\\577342\\Downloads\\Claire Lehmann & Quillette, Thinking Differently-TMTrywlKnW4.m4a (pass -k to keep)\n",
      "[youtube] vgmt5JGVv3I: Downloading webpage\n",
      "[youtube] vgmt5JGVv3I: Downloading video info webpage\n",
      "[debug] Invoking downloader on 'https://r3---sn-p5qs7n7l.googlevideo.com/videoplayback?id=o-AGJ_aFV8zqPu-5j9l9G4AOtrSqfsoR9D6iC8g7N6i_kC&itag=251&source=youtube&requiressl=yes&mm=31%2C26&mn=sn-p5qs7n7l%2Csn-vgqsknll&ms=au%2Conr&mv=m&pl=32&ei=tSjAXMDbBIzVwQGzmp6wBA&initcwndbps=1743750&mime=audio%2Fwebm&gir=yes&clen=27248078&dur=1842.961&lmt=1555631734276569&mt=1556097119&fvip=3&keepalive=yes&c=WEB&txp=5531432&ip=2600%3A6c64%3A657f%3Af499%3A0%3Aab34%3A2e17%3A2a78&ipbits=0&expire=1556118805&sparams=ip%2Cipbits%2Cexpire%2Cid%2Citag%2Csource%2Crequiressl%2Cmm%2Cmn%2Cms%2Cmv%2Cpl%2Cei%2Cinitcwndbps%2Cmime%2Cgir%2Cclen%2Cdur%2Clmt&signature=88E4B69079CD4587EA3CBDB31DD3F3156B6B70FD.95DD891225C2B30FA4298A0D39714ECFECFB5BFA&key=yt8&ratebypass=yes'\n",
      "[download] Destination: C:\\Users\\577342\\Downloads\\Understanding the Icons of Holy Week-vgmt5JGVv3I.webm\n",
      "[download] 100% of 25.99MiB in 00:02                  \n",
      "[debug] ffmpeg command line: ffprobe -show_streams \"file:C:\\Users\\577342\\Downloads\\Understanding the Icons of Holy Week-vgmt5JGVv3I.webm\"\n",
      "[ffmpeg] Destination: C:\\Users\\577342\\Downloads\\Understanding the Icons of Holy Week-vgmt5JGVv3I.mp3\n",
      "[debug] ffmpeg command line: ffmpeg -y -loglevel \"repeat+info\" -i \"file:C:\\Users\\577342\\Downloads\\Understanding the Icons of Holy Week-vgmt5JGVv3I.webm\" -vn -acodec libmp3lame \"-b:a\" 192k \"file:C:\\Users\\577342\\Downloads\\Understanding the Icons of Holy Week-vgmt5JGVv3I.mp3\"\n",
      "Deleting original file C:\\Users\\577342\\Downloads\\Understanding the Icons of Holy Week-vgmt5JGVv3I.webm (pass -k to keep)\n",
      "[youtube] laai-ve3KaI: Downloading webpage\n",
      "[youtube] laai-ve3KaI: Downloading video info webpage\n",
      "[debug] Invoking downloader on 'https://r3---sn-p5qlsnsk.googlevideo.com/videoplayback?id=o-AE_49xkr6kKm51A6JuKmRmiq-IUVrXFGpYl_pYOjOonA&itag=251&source=youtube&requiressl=yes&mm=31%2C26&mn=sn-p5qlsnsk%2Csn-vgqsrnel&ms=au%2Conr&mv=m&pl=32&ei=VSrAXLKQHOLPjAS41Y2QCQ&initcwndbps=2267500&mime=audio%2Fwebm&gir=yes&clen=6992304&dur=409.701&lmt=1555614263364722&mt=1556097457&fvip=1&keepalive=yes&c=WEB&txp=5431432&ip=2600%3A6c64%3A657f%3Af499%3A0%3Aab34%3A2e17%3A2a78&ipbits=0&expire=1556119221&sparams=ip%2Cipbits%2Cexpire%2Cid%2Citag%2Csource%2Crequiressl%2Cmm%2Cmn%2Cms%2Cmv%2Cpl%2Cei%2Cinitcwndbps%2Cmime%2Cgir%2Cclen%2Cdur%2Clmt&signature=7A3B96BE86C911CB96ADD51134873B01127FA955.E0F6C20445C53455272AA6C9A1ED57025848C126&key=yt8&ratebypass=yes'\n",
      "[download] Destination: C:\\Users\\577342\\Downloads\\The Cult of Logos is BRAINWASHING Young Men into Becoming Chad-laai-ve3KaI.webm\n",
      "[download] 100% of 6.67MiB in 00:00                          \n",
      "[debug] ffmpeg command line: ffprobe -show_streams \"file:C:\\Users\\577342\\Downloads\\The Cult of Logos is BRAINWASHING Young Men into Becoming Chad-laai-ve3KaI.webm\"\n",
      "[ffmpeg] Destination: C:\\Users\\577342\\Downloads\\The Cult of Logos is BRAINWASHING Young Men into Becoming Chad-laai-ve3KaI.mp3\n",
      "[debug] ffmpeg command line: ffmpeg -y -loglevel \"repeat+info\" -i \"file:C:\\Users\\577342\\Downloads\\The Cult of Logos is BRAINWASHING Young Men into Becoming Chad-laai-ve3KaI.webm\" -vn -acodec libmp3lame \"-b:a\" 192k \"file:C:\\Users\\577342\\Downloads\\The Cult of Logos is BRAINWASHING Young Men into Becoming Chad-laai-ve3KaI.mp3\"\n",
      "Deleting original file C:\\Users\\577342\\Downloads\\The Cult of Logos is BRAINWASHING Young Men into Becoming Chad-laai-ve3KaI.webm (pass -k to keep)\n",
      "[youtube] rgivGzjZixM: Downloading webpage\n",
      "[youtube] rgivGzjZixM: Downloading video info webpage\n",
      "[debug] Invoking downloader on 'https://r1---sn-p5qlsnd6.googlevideo.com/videoplayback?id=o-AE6Rnk67jcQFdglF8j96IUA0ujRSmBHlu-ZQRCPfeLLp&itag=140&source=youtube&requiressl=yes&mm=31%2C26&mn=sn-p5qlsnd6%2Csn-vgqsrn7l&ms=au%2Conr&mv=m&pl=32&ei=tirAXOhym5KKvg_ZpK6oBg&gcr=us&initcwndbps=2410000&mime=audio%2Fmp4&gir=yes&clen=89644064&dur=5539.050&lmt=1555777010374070&mt=1556097618&fvip=6&keepalive=yes&c=WEB&txp=5531432&ip=2600%3A6c64%3A657f%3Af499%3A0%3Aab34%3A2e17%3A2a78&ipbits=0&expire=1556119318&sparams=ip%2Cipbits%2Cexpire%2Cid%2Citag%2Csource%2Crequiressl%2Cmm%2Cmn%2Cms%2Cmv%2Cpl%2Cei%2Cgcr%2Cinitcwndbps%2Cmime%2Cgir%2Cclen%2Cdur%2Clmt&signature=ACCE92D01BA46F5215D20A6F5BF442F38EE23F9B.B8D5F9C7A32E78C1B8AED33AD1876EC74F92E06C&key=yt8&ratebypass=yes'\n"
     ]
    },
    {
     "name": "stdout",
     "output_type": "stream",
     "text": [
      "[download] Destination: C:\\Users\\577342\\Downloads\\April 2019 Q and A-rgivGzjZixM.m4a\n",
      "[download] 100% of 85.49MiB in 00:08                          \n",
      "[ffmpeg] Correcting container in \"C:\\Users\\577342\\Downloads\\April 2019 Q and A-rgivGzjZixM.m4a\"\n",
      "[debug] ffmpeg command line: ffmpeg -y -loglevel \"repeat+info\" -i \"file:C:\\Users\\577342\\Downloads\\April 2019 Q and A-rgivGzjZixM.m4a\" -c copy -f mp4 \"file:C:\\Users\\577342\\Downloads\\April 2019 Q and A-rgivGzjZixM.temp.m4a\"\n",
      "[debug] ffmpeg command line: ffprobe -show_streams \"file:C:\\Users\\577342\\Downloads\\April 2019 Q and A-rgivGzjZixM.m4a\"\n",
      "[ffmpeg] Destination: C:\\Users\\577342\\Downloads\\April 2019 Q and A-rgivGzjZixM.mp3\n",
      "[debug] ffmpeg command line: ffmpeg -y -loglevel \"repeat+info\" -i \"file:C:\\Users\\577342\\Downloads\\April 2019 Q and A-rgivGzjZixM.m4a\" -vn -acodec libmp3lame \"-b:a\" 192k \"file:C:\\Users\\577342\\Downloads\\April 2019 Q and A-rgivGzjZixM.mp3\"\n",
      "Deleting original file C:\\Users\\577342\\Downloads\\April 2019 Q and A-rgivGzjZixM.m4a (pass -k to keep)\n",
      "[youtube] CIP9mc35HQI: Downloading webpage\n",
      "[youtube] CIP9mc35HQI: Downloading video info webpage\n",
      "[debug] Invoking downloader on 'https://r4---sn-p5qlsnsk.googlevideo.com/videoplayback?id=o-AArTMk5yT_MMmbPN1XujFfkyw6DrnhXi9f9Vs-68Xy8E&itag=140&source=youtube&requiressl=yes&mm=31%2C26&mn=sn-p5qlsnsk%2Csn-vgqsrnll&ms=au%2Conr&mv=m&pl=32&ei=_y3AXJG1K4bxNpeqk-AH&initcwndbps=1981250&mime=audio%2Fmp4&gir=yes&clen=3994982&dur=246.804&lmt=1555641673344798&mt=1556098501&fvip=3&keepalive=yes&c=WEB&txp=2311222&ip=2600%3A6c64%3A657f%3Af499%3A0%3Aab34%3A2e17%3A2a78&ipbits=0&expire=1556120159&sparams=ip%2Cipbits%2Cexpire%2Cid%2Citag%2Csource%2Crequiressl%2Cmm%2Cmn%2Cms%2Cmv%2Cpl%2Cei%2Cinitcwndbps%2Cmime%2Cgir%2Cclen%2Cdur%2Clmt&signature=8A4702A5F7076CA588497354C2CB224E50042B32.9804D56AFBF287F604B8021BD74F1EF6D0768A2E&key=yt8&ratebypass=yes'\n",
      "[download] Destination: C:\\Users\\577342\\Downloads\\Meme Analysis - What Are Memes-CIP9mc35HQI.m4a\n",
      "[download] 100% of 3.81MiB in 00:00                  \n",
      "[ffmpeg] Correcting container in \"C:\\Users\\577342\\Downloads\\Meme Analysis - What Are Memes-CIP9mc35HQI.m4a\"\n",
      "[debug] ffmpeg command line: ffmpeg -y -loglevel \"repeat+info\" -i \"file:C:\\Users\\577342\\Downloads\\Meme Analysis - What Are Memes-CIP9mc35HQI.m4a\" -c copy -f mp4 \"file:C:\\Users\\577342\\Downloads\\Meme Analysis - What Are Memes-CIP9mc35HQI.temp.m4a\"\n",
      "[debug] ffmpeg command line: ffprobe -show_streams \"file:C:\\Users\\577342\\Downloads\\Meme Analysis - What Are Memes-CIP9mc35HQI.m4a\"\n",
      "[ffmpeg] Destination: C:\\Users\\577342\\Downloads\\Meme Analysis - What Are Memes-CIP9mc35HQI.mp3\n",
      "[debug] ffmpeg command line: ffmpeg -y -loglevel \"repeat+info\" -i \"file:C:\\Users\\577342\\Downloads\\Meme Analysis - What Are Memes-CIP9mc35HQI.m4a\" -vn -acodec libmp3lame \"-b:a\" 192k \"file:C:\\Users\\577342\\Downloads\\Meme Analysis - What Are Memes-CIP9mc35HQI.mp3\"\n",
      "Deleting original file C:\\Users\\577342\\Downloads\\Meme Analysis - What Are Memes-CIP9mc35HQI.m4a (pass -k to keep)\n",
      "[youtube] rpndwf45nao: Downloading webpage\n",
      "[youtube] rpndwf45nao: Downloading video info webpage\n",
      "[debug] Invoking downloader on 'https://r1---sn-p5qs7n7s.googlevideo.com/videoplayback?id=o-AAcGzxeDcVYB_6SqDV-zjl22XJz33nVKpF2MakqZCyj5&itag=251&source=youtube&requiressl=yes&mm=31%2C26&mn=sn-p5qs7n7s%2Csn-vgqs7nez&ms=au%2Conr&mv=m&pl=32&ei=Li7AXNy-Oc_FwQHp7bTgBA&initcwndbps=1960000&mime=audio%2Fwebm&gir=yes&clen=41406141&dur=3345.361&lmt=1555718763991808&mt=1556098501&fvip=5&keepalive=yes&c=WEB&txp=5531432&ip=2600%3A6c64%3A657f%3Af499%3A0%3Aab34%3A2e17%3A2a78&ipbits=0&expire=1556120207&sparams=ip%2Cipbits%2Cexpire%2Cid%2Citag%2Csource%2Crequiressl%2Cmm%2Cmn%2Cms%2Cmv%2Cpl%2Cei%2Cinitcwndbps%2Cmime%2Cgir%2Cclen%2Cdur%2Clmt&signature=9F4BD6A7961196CFD3A2E5A09E33C57B9645135F.4CB5BCAE9D104DD6048604DF7912B3B35059ADD0&key=yt8&ratebypass=yes'\n",
      "[download] Destination: C:\\Users\\577342\\Downloads\\Ep. 14 - Awakening from the Meaning Crisis - Epicureans, Cynics, and Stoics-rpndwf45nao.webm\n",
      "[download] 100% of 39.49MiB in 00:04                  \n",
      "[debug] ffmpeg command line: ffprobe -show_streams \"file:C:\\Users\\577342\\Downloads\\Ep. 14 - Awakening from the Meaning Crisis - Epicureans, Cynics, and Stoics-rpndwf45nao.webm\"\n",
      "[ffmpeg] Destination: C:\\Users\\577342\\Downloads\\Ep. 14 - Awakening from the Meaning Crisis - Epicureans, Cynics, and Stoics-rpndwf45nao.mp3\n",
      "[debug] ffmpeg command line: ffmpeg -y -loglevel \"repeat+info\" -i \"file:C:\\Users\\577342\\Downloads\\Ep. 14 - Awakening from the Meaning Crisis - Epicureans, Cynics, and Stoics-rpndwf45nao.webm\" -vn -acodec libmp3lame \"-b:a\" 192k \"file:C:\\Users\\577342\\Downloads\\Ep. 14 - Awakening from the Meaning Crisis - Epicureans, Cynics, and Stoics-rpndwf45nao.mp3\"\n",
      "Deleting original file C:\\Users\\577342\\Downloads\\Ep. 14 - Awakening from the Meaning Crisis - Epicureans, Cynics, and Stoics-rpndwf45nao.webm (pass -k to keep)\n",
      "[youtube] FkRSrIfoGlg: Downloading webpage\n",
      "[youtube] FkRSrIfoGlg: Downloading video info webpage\n",
      "[debug] Invoking downloader on 'https://r3---sn-p5qs7n7z.googlevideo.com/videoplayback?id=o-AJch9rlx8vxJbMVgdu1Gb1EqT44TS7DOrMcnLEAsXfH_&itag=251&source=youtube&requiressl=yes&mm=31%2C29&mn=sn-p5qs7n7z%2Csn-p5qlsndz&ms=au%2Crdu&mv=m&pl=32&ei=TzDAXMHVB6WUtQeasZK4DQ&initcwndbps=2043750&mime=audio%2Fwebm&gir=yes&clen=5763623&dur=356.101&lmt=1555705056532319&mt=1556099051&fvip=3&keepalive=yes&c=WEB&txp=5431432&ip=2600%3A6c64%3A657f%3Af499%3A0%3Aab34%3A2e17%3A2a78&ipbits=0&expire=1556120751&sparams=ip%2Cipbits%2Cexpire%2Cid%2Citag%2Csource%2Crequiressl%2Cmm%2Cmn%2Cms%2Cmv%2Cpl%2Cei%2Cinitcwndbps%2Cmime%2Cgir%2Cclen%2Cdur%2Clmt&signature=55CAE59DCE34C250FAF4AB76189EA637784BC82D.DACBB7F53610C1455AC4490826CF14527B40EE15&key=yt8&ratebypass=yes'\n",
      "[download] Destination: C:\\Users\\577342\\Downloads\\Did Nietzsche Hate Ugly People (Or Simply Love The Beautiful)-FkRSrIfoGlg.webm\n",
      "[download] 100% of 5.50MiB in 00:00                  \n",
      "[debug] ffmpeg command line: ffprobe -show_streams \"file:C:\\Users\\577342\\Downloads\\Did Nietzsche Hate Ugly People (Or Simply Love The Beautiful)-FkRSrIfoGlg.webm\"\n",
      "[ffmpeg] Destination: C:\\Users\\577342\\Downloads\\Did Nietzsche Hate Ugly People (Or Simply Love The Beautiful)-FkRSrIfoGlg.mp3\n",
      "[debug] ffmpeg command line: ffmpeg -y -loglevel \"repeat+info\" -i \"file:C:\\Users\\577342\\Downloads\\Did Nietzsche Hate Ugly People (Or Simply Love The Beautiful)-FkRSrIfoGlg.webm\" -vn -acodec libmp3lame \"-b:a\" 192k \"file:C:\\Users\\577342\\Downloads\\Did Nietzsche Hate Ugly People (Or Simply Love The Beautiful)-FkRSrIfoGlg.mp3\"\n",
      "Deleting original file C:\\Users\\577342\\Downloads\\Did Nietzsche Hate Ugly People (Or Simply Love The Beautiful)-FkRSrIfoGlg.webm (pass -k to keep)\n",
      "[youtube] -RzA5aNZyIs: Downloading webpage\n",
      "[youtube] -RzA5aNZyIs: Downloading video info webpage\n",
      "[debug] Invoking downloader on 'https://r2---sn-p5qs7n7l.googlevideo.com/videoplayback?id=o-AAGtISlgPUPUF-07Lu6zceqqMLY3gry3jr77_pYXLkFj&itag=140&source=youtube&requiressl=yes&mm=31%2C29&mn=sn-p5qs7n7l%2Csn-p5qlsnz6&ms=au%2Crdu&mv=m&pl=32&ei=ljDAXJO9NJ2Nir4P_8iIyAU&gcr=us&initcwndbps=2043750&mime=audio%2Fmp4&gir=yes&clen=106815078&dur=6600.039&lmt=1555802210363620&mt=1556099110&fvip=2&keepalive=yes&c=WEB&txp=5431432&ip=2600%3A6c64%3A657f%3Af499%3A0%3Aab34%3A2e17%3A2a78&ipbits=0&expire=1556120823&sparams=ip%2Cipbits%2Cexpire%2Cid%2Citag%2Csource%2Crequiressl%2Cmm%2Cmn%2Cms%2Cmv%2Cpl%2Cei%2Cgcr%2Cinitcwndbps%2Cmime%2Cgir%2Cclen%2Cdur%2Clmt&signature=10437518E164BDB398E2F3A448B37C16FA7570AE.6F1DA1AAD68F54CDE6190F0B85889331D4726B49&key=yt8&ratebypass=yes'\n",
      "[download] Destination: C:\\Users\\577342\\Downloads\\Aion 23 ~ Carl Jung on The Problem of Evil--RzA5aNZyIs.m4a\n",
      "[download] 100% of 101.87MiB in 00:13                  \n",
      "[ffmpeg] Correcting container in \"C:\\Users\\577342\\Downloads\\Aion 23 ~ Carl Jung on The Problem of Evil--RzA5aNZyIs.m4a\"\n",
      "[debug] ffmpeg command line: ffmpeg -y -loglevel \"repeat+info\" -i \"file:C:\\Users\\577342\\Downloads\\Aion 23 ~ Carl Jung on The Problem of Evil--RzA5aNZyIs.m4a\" -c copy -f mp4 \"file:C:\\Users\\577342\\Downloads\\Aion 23 ~ Carl Jung on The Problem of Evil--RzA5aNZyIs.temp.m4a\"\n",
      "[debug] ffmpeg command line: ffprobe -show_streams \"file:C:\\Users\\577342\\Downloads\\Aion 23 ~ Carl Jung on The Problem of Evil--RzA5aNZyIs.m4a\"\n",
      "[ffmpeg] Destination: C:\\Users\\577342\\Downloads\\Aion 23 ~ Carl Jung on The Problem of Evil--RzA5aNZyIs.mp3\n"
     ]
    },
    {
     "name": "stdout",
     "output_type": "stream",
     "text": [
      "[debug] ffmpeg command line: ffmpeg -y -loglevel \"repeat+info\" -i \"file:C:\\Users\\577342\\Downloads\\Aion 23 ~ Carl Jung on The Problem of Evil--RzA5aNZyIs.m4a\" -vn -acodec libmp3lame \"-b:a\" 192k \"file:C:\\Users\\577342\\Downloads\\Aion 23 ~ Carl Jung on The Problem of Evil--RzA5aNZyIs.mp3\"\n",
      "Deleting original file C:\\Users\\577342\\Downloads\\Aion 23 ~ Carl Jung on The Problem of Evil--RzA5aNZyIs.m4a (pass -k to keep)\n",
      "[youtube] nLFFNpTQla0: Downloading webpage\n",
      "[youtube] nLFFNpTQla0: Downloading video info webpage\n",
      "[debug] Invoking downloader on 'https://r2---sn-p5qs7nel.googlevideo.com/videoplayback?id=o-AKajP-aqS-HyslOGnVvrcmVbSCepEHnyVvcYx_Q8Xmeh&itag=140&source=youtube&requiressl=yes&mm=31%2C29&mn=sn-p5qs7nel%2Csn-p5qlsnzd&ms=au%2Crdu&mv=m&pl=32&ei=sTPAXJCHK8KFwQG7jIbABg&initcwndbps=2883750&mime=audio%2Fmp4&gir=yes&clen=65368119&dur=4039.041&lmt=1555869947577588&mt=1556099923&fvip=2&keepalive=yes&c=WEB&txp=5531432&ip=2600%3A6c64%3A657f%3Af499%3A0%3Aab34%3A2e17%3A2a78&ipbits=0&expire=1556121617&sparams=ip%2Cipbits%2Cexpire%2Cid%2Citag%2Csource%2Crequiressl%2Cmm%2Cmn%2Cms%2Cmv%2Cpl%2Cei%2Cinitcwndbps%2Cmime%2Cgir%2Cclen%2Cdur%2Clmt&signature=84676797C316A518D6A49029B9B61CBB1FECD87C.15D2F5D243A959C29E619C84578D7C61C534222C&key=yt8&ratebypass=yes'\n",
      "[download] Destination: C:\\Users\\577342\\Downloads\\Reality Check 2019, Jordan Greenhall-nLFFNpTQla0.m4a\n",
      "[download] 100% of 62.34MiB in 00:06                  \n",
      "[ffmpeg] Correcting container in \"C:\\Users\\577342\\Downloads\\Reality Check 2019, Jordan Greenhall-nLFFNpTQla0.m4a\"\n",
      "[debug] ffmpeg command line: ffmpeg -y -loglevel \"repeat+info\" -i \"file:C:\\Users\\577342\\Downloads\\Reality Check 2019, Jordan Greenhall-nLFFNpTQla0.m4a\" -c copy -f mp4 \"file:C:\\Users\\577342\\Downloads\\Reality Check 2019, Jordan Greenhall-nLFFNpTQla0.temp.m4a\"\n",
      "[debug] ffmpeg command line: ffprobe -show_streams \"file:C:\\Users\\577342\\Downloads\\Reality Check 2019, Jordan Greenhall-nLFFNpTQla0.m4a\"\n",
      "[ffmpeg] Destination: C:\\Users\\577342\\Downloads\\Reality Check 2019, Jordan Greenhall-nLFFNpTQla0.mp3\n",
      "[debug] ffmpeg command line: ffmpeg -y -loglevel \"repeat+info\" -i \"file:C:\\Users\\577342\\Downloads\\Reality Check 2019, Jordan Greenhall-nLFFNpTQla0.m4a\" -vn -acodec libmp3lame \"-b:a\" 192k \"file:C:\\Users\\577342\\Downloads\\Reality Check 2019, Jordan Greenhall-nLFFNpTQla0.mp3\"\n",
      "Deleting original file C:\\Users\\577342\\Downloads\\Reality Check 2019, Jordan Greenhall-nLFFNpTQla0.m4a (pass -k to keep)\n",
      "[youtube] 3p2vobGtS0M: Downloading webpage\n",
      "[youtube] 3p2vobGtS0M: Downloading video info webpage\n",
      "[debug] Invoking downloader on 'https://r5---sn-p5qlsnz6.googlevideo.com/videoplayback?id=o-AI71eoJfLccxRHTlYwxfAjL1oe38BdSjtW87O3_DB-KX&itag=140&source=youtube&requiressl=yes&mm=31%2C26&mn=sn-p5qlsnz6%2Csn-vgqs7nez&ms=au%2Conr&mv=m&pl=32&ei=WjXAXLvlF4qgiwSZoJDwCg&initcwndbps=2285000&mime=audio%2Fmp4&gir=yes&clen=44656526&dur=2759.273&lmt=1555954336428392&mt=1556100359&fvip=5&keepalive=yes&c=WEB&txp=5531432&ip=2600%3A6c64%3A657f%3Af499%3A0%3Aab34%3A2e17%3A2a78&ipbits=0&expire=1556122042&sparams=ip%2Cipbits%2Cexpire%2Cid%2Citag%2Csource%2Crequiressl%2Cmm%2Cmn%2Cms%2Cmv%2Cpl%2Cei%2Cinitcwndbps%2Cmime%2Cgir%2Cclen%2Cdur%2Clmt&signature=0A504E16580961E068F05FC338CB6FE72481376D.9CAA086ECB4470742941E6EB6ED15F375AC4FC25&key=yt8&ratebypass=yes'\n",
      "[download] Destination: C:\\Users\\577342\\Downloads\\The Heritage Foundation - Socialism & Personal Responsibility-3p2vobGtS0M.m4a\n",
      "[download] 100% of 42.59MiB in 00:04                  \n",
      "[ffmpeg] Correcting container in \"C:\\Users\\577342\\Downloads\\The Heritage Foundation - Socialism & Personal Responsibility-3p2vobGtS0M.m4a\"\n",
      "[debug] ffmpeg command line: ffmpeg -y -loglevel \"repeat+info\" -i \"file:C:\\Users\\577342\\Downloads\\The Heritage Foundation - Socialism & Personal Responsibility-3p2vobGtS0M.m4a\" -c copy -f mp4 \"file:C:\\Users\\577342\\Downloads\\The Heritage Foundation - Socialism & Personal Responsibility-3p2vobGtS0M.temp.m4a\"\n",
      "[debug] ffmpeg command line: ffprobe -show_streams \"file:C:\\Users\\577342\\Downloads\\The Heritage Foundation - Socialism & Personal Responsibility-3p2vobGtS0M.m4a\"\n",
      "[ffmpeg] Destination: C:\\Users\\577342\\Downloads\\The Heritage Foundation - Socialism & Personal Responsibility-3p2vobGtS0M.mp3\n",
      "[debug] ffmpeg command line: ffmpeg -y -loglevel \"repeat+info\" -i \"file:C:\\Users\\577342\\Downloads\\The Heritage Foundation - Socialism & Personal Responsibility-3p2vobGtS0M.m4a\" -vn -acodec libmp3lame \"-b:a\" 192k \"file:C:\\Users\\577342\\Downloads\\The Heritage Foundation - Socialism & Personal Responsibility-3p2vobGtS0M.mp3\"\n",
      "Deleting original file C:\\Users\\577342\\Downloads\\The Heritage Foundation - Socialism & Personal Responsibility-3p2vobGtS0M.m4a (pass -k to keep)\n",
      "Conversion completed.\n"
     ]
    }
   ],
   "source": [
    "ydl_opts = {\n",
    "    'format': 'bestaudio/best',\n",
    "    'nocheckcertificate': False,\n",
    "    'outtmpl': downloads_folder+youtube_dl.DEFAULT_OUTTMPL,\n",
    "    'postprocessors': [{'key': 'FFmpegExtractAudio',\n",
    "                       'preferredcodec': 'mp3',\n",
    "                       'preferredquality': '192'}],\n",
    "    'verbose': True,\n",
    "    }\n",
    "with youtube_dl.YoutubeDL(ydl_opts) as ydl:\n",
    "    try:\n",
    "        result = ydl.download(youtube_url_list)\n",
    "    except Exception as e:\n",
    "        print(e)\n",
    "print('Conversion completed.')"
   ]
  },
  {
   "cell_type": "markdown",
   "metadata": {},
   "source": [
    "\n",
    "Next, we authenticate with Google by running the builtin web server conventiently provided."
   ]
  },
  {
   "cell_type": "code",
   "execution_count": 3,
   "metadata": {},
   "outputs": [
    {
     "name": "stdout",
     "output_type": "stream",
     "text": [
      "Your browser has been opened to visit:\n",
      "\n",
      "    https://accounts.google.com/o/oauth2/auth?client_id=756414784841-0nkbgkrice8gae3nc4ojafoukr8kb38e.apps.googleusercontent.com&redirect_uri=http%3A%2F%2Flocalhost%3A8080%2F&scope=https%3A%2F%2Fwww.googleapis.com%2Fauth%2Fdrive&access_type=offline&response_type=code\n",
      "\n",
      "Authentication successful.\n"
     ]
    }
   ],
   "source": [
    "\n",
    "from pydrive.auth import GoogleAuth\n",
    "\n",
    "# The URL that gets displayed here is not suitable for public consumption\n",
    "GoogleAuth.DEFAULT_SETTINGS['client_config_file'] = r'../json/client_secrets.json'\n",
    "gauth = GoogleAuth()\n",
    "gauth.LocalWebserverAuth()"
   ]
  },
  {
   "cell_type": "markdown",
   "metadata": {},
   "source": [
    "\n",
    "Before you run the next cell, in the online web page of Google Drive, bring up the share dialog box of the folder you are uploading to and copy its folder id into the <code>tgt_folder_id</code> string. If you right-click on the folder and select **Share...** and then click **Get shareable link**, you will see something like:\n",
    "\n",
    "https://drive.google.com/drive/folders/1syfUx6jukbW1CWIEy8xoM9veGGr5MBUx?usp=sharing\n",
    "\n",
    "It's that **1syfUx6jukbW1CWIEy8xoM9veGGr5MBUx** that you need to copy."
   ]
  },
  {
   "cell_type": "code",
   "execution_count": 4,
   "metadata": {},
   "outputs": [],
   "source": [
    "\n",
    "from pydrive.drive import GoogleDrive\n",
    "\n",
    "# Create GoogleDrive instance with authenticated GoogleAuth instance\n",
    "drive = GoogleDrive(gauth)\n",
    "\n",
    "# ID of the \"Reading Material\" folder\n",
    "tgt_folder_id = '1syfUx6jukbW1CWIEy8xoM9veGGr5MBUh'"
   ]
  },
  {
   "cell_type": "markdown",
   "metadata": {},
   "source": [
    "\n",
    "Next, we will upload all the mp3s in our download folder."
   ]
  },
  {
   "cell_type": "code",
   "execution_count": 5,
   "metadata": {},
   "outputs": [
    {
     "name": "stdout",
     "output_type": "stream",
     "text": [
      "Uploaded Aion 22 ~ Carl Jung on The Archetype of Transformation-4ODKBG5D4xI.mp3 (audio/mp3)\n",
      "Uploaded Aion 23 ~ Carl Jung on The Problem of Evil--RzA5aNZyIs.mp3 (audio/mp3)\n",
      "Uploaded April 2019 Q and A-rgivGzjZixM.mp3 (audio/mp3)\n",
      "Uploaded Claire Lehmann & Quillette, Thinking Differently-TMTrywlKnW4.mp3 (audio/mp3)\n",
      "Uploaded Did Nietzsche Hate Ugly People (Or Simply Love The Beautiful)-FkRSrIfoGlg.mp3 (audio/mp3)\n",
      "Uploaded Ep. 14 - Awakening from the Meaning Crisis - Epicureans, Cynics, and Stoics-rpndwf45nao.mp3 (audio/mp3)\n",
      "Uploaded Meme Analysis - What Are Memes-CIP9mc35HQI.mp3 (audio/mp3)\n",
      "Uploaded Reality Check 2019, Jordan Greenhall-nLFFNpTQla0.mp3 (audio/mp3)\n",
      "Uploaded The Cult of Logos is BRAINWASHING Young Men into Becoming Chad-laai-ve3KaI.mp3 (audio/mp3)\n",
      "Uploaded The Heritage Foundation - Socialism & Personal Responsibility-3p2vobGtS0M.mp3 (audio/mp3)\n",
      "Uploaded Understanding the Icons of Holy Week-vgmt5JGVv3I.mp3 (audio/mp3)\n",
      "Upload completed.\n"
     ]
    }
   ],
   "source": [
    "\n",
    "import os\n",
    "\n",
    "# Upload all mp3s from the Downloads folder to Google Drive's \"Reading Material\" folder\n",
    "gfile_dict = {}\n",
    "for subdir, dirs, files in os.walk(downloads_folder):\n",
    "    for src_file in files:\n",
    "        if src_file.endswith('.mp3'):\n",
    "            src_path = os.path.join(subdir, src_file)\n",
    "            gfile_dict[src_file] = drive.CreateFile({'title':src_file, 'mimeType':'audio/mp3',\n",
    "                                                     'parents': [{'kind': 'drive#fileLink',\n",
    "                                                                  'id': tgt_folder_id}]})\n",
    "\n",
    "            # Read mp3 file and set it as a content of this instance\n",
    "            gfile_dict[src_file].SetContentFile(src_path)\n",
    "            \n",
    "            # Upload the file\n",
    "            try:\n",
    "                gfile_dict[src_file].Upload()\n",
    "                print('Uploaded %s (%s)' % (gfile_dict[src_file]['title'],\n",
    "                                            gfile_dict[src_file]['mimeType']))\n",
    "            except Exception as e:\n",
    "                print('Upload failed for %s (%s): %s' % (gfile_dict[src_file]['title'],\n",
    "                                                         gfile_dict[src_file]['mimeType'], e))\n",
    "print('Upload completed.')"
   ]
  },
  {
   "cell_type": "markdown",
   "metadata": {},
   "source": [
    "\n",
    "Download the mp3s to <a href='http://www.voicedream.com/support/user-manual/#file'>Voice Dream</a> before you run the trash cell (below)."
   ]
  },
  {
   "cell_type": "code",
   "execution_count": null,
   "metadata": {},
   "outputs": [],
   "source": [
    "\n",
    "import os\n",
    "\n",
    "# Trash all mp3s from Google Drive's \"Reading Material\" folder\n",
    "for src_file in gfile_dict.keys():\n",
    "\n",
    "    # Trash mp3 file\n",
    "    try:\n",
    "        gfile_dict[src_file].Trash()\n",
    "        print('Trashed %s (%s)' % (gfile_dict[src_file]['title'],\n",
    "                                   gfile_dict[src_file]['mimeType']))\n",
    "    except Exception as e:\n",
    "        print('Trash failed for %s (%s): %s' % (gfile_dict[src_file]['title'],\n",
    "                                                gfile_dict[src_file]['mimeType'], e))\n",
    "    \n",
    "print('Trashing completed.')"
   ]
  },
  {
   "cell_type": "markdown",
   "metadata": {},
   "source": [
    "\n",
    "Lastly, we run the code that will delete all the mp3s out of our downloads folder."
   ]
  },
  {
   "cell_type": "code",
   "execution_count": null,
   "metadata": {},
   "outputs": [],
   "source": [
    "\n",
    "import os\n",
    "\n",
    "# Delete all mp3s in the Downloads folder\n",
    "for src_file in gfile_dict.keys():\n",
    "    src_path = os.path.join(downloads_folder, src_file)\n",
    "\n",
    "    # Delete the file\n",
    "    try:\n",
    "        os.remove(src_path)\n",
    "        print('Deleted %s (%s)' % (src_file,\n",
    "                                   gfile_dict[src_file]['mimeType']))\n",
    "    except Exception as e:\n",
    "        print('Failed to delete %s (%s): %s' % (src_file,\n",
    "                                                gfile_dict[src_file]['mimeType'], e))\n",
    "print('Deleting completed.')"
   ]
  },
  {
   "cell_type": "code",
   "execution_count": null,
   "metadata": {},
   "outputs": [],
   "source": [
    "\n",
    "from IPython.display import HTML\n",
    "\n",
    "rm_url = 'https://drive.google.com/drive/u/0/folders/{}'.format(tgt_folder_id)\n",
    "message_str = 'open up your Google Drive target folder'\n",
    "rm_link = '<a href=\"{}\" target=\"_blank\">{}</a>'.format(rm_url, message_str)\n",
    "message_str = 'If you want to, you can {} and'.format(rm_link)\n",
    "message_str += ' check if everything got deleted.'\n",
    "HTML(message_str)"
   ]
  },
  {
   "cell_type": "code",
   "execution_count": null,
   "metadata": {},
   "outputs": [],
   "source": [
    "\n",
    "!\"C:\\Program Files (x86)\\Google\\Chrome\\Application\\chrome.exe\" {rm_url}"
   ]
  },
  {
   "cell_type": "code",
   "execution_count": null,
   "metadata": {},
   "outputs": [],
   "source": []
  }
 ],
 "metadata": {
  "anaconda-cloud": {},
  "kernelspec": {
   "display_name": "Python 3",
   "language": "python",
   "name": "python3"
  },
  "language_info": {
   "codemirror_mode": {
    "name": "ipython",
    "version": 3
   },
   "file_extension": ".py",
   "mimetype": "text/x-python",
   "name": "python",
   "nbconvert_exporter": "python",
   "pygments_lexer": "ipython3",
   "version": "3.6.8"
  }
 },
 "nbformat": 4,
 "nbformat_minor": 2
}
