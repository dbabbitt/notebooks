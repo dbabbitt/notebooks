{
 "cells": [
  {
   "cell_type": "markdown",
   "metadata": {},
   "source": [
    "\n",
    "## Upload YouTube Videos to the Reading Material Folder Manually"
   ]
  },
  {
   "cell_type": "markdown",
   "metadata": {},
   "source": [
    "\n",
    "In this notebook, we will take URLs of videos, convert them to mp3s, upload them to Google Drive, trash them, and delete them."
   ]
  },
  {
   "cell_type": "markdown",
   "metadata": {},
   "source": [
    "\n",
    "We will start by ensuring that all the necessary python libraries are installed."
   ]
  },
  {
   "cell_type": "code",
   "execution_count": 40,
   "metadata": {
    "collapsed": true
   },
   "outputs": [],
   "source": [
    "\n",
    "!pip install --upgrade --quiet youtube_dl"
   ]
  },
  {
   "cell_type": "code",
   "execution_count": 42,
   "metadata": {
    "collapsed": true
   },
   "outputs": [],
   "source": [
    "\n",
    "!pip install --upgrade --quiet PyDrive"
   ]
  },
  {
   "cell_type": "markdown",
   "metadata": {},
   "source": [
    "\n",
    "Next, we will prove to ourselves that we have ffmpeg correctly installed."
   ]
  },
  {
   "cell_type": "code",
   "execution_count": 35,
   "metadata": {},
   "outputs": [
    {
     "name": "stdout",
     "output_type": "stream",
     "text": [
      "ffmpeg version N-90173-gfa0c9d69d3 Copyright (c) 2000-2018 the FFmpeg developers\n",
      "built with gcc 7.3.0 (GCC)\n",
      "configuration: --enable-gpl --enable-version3 --enable-sdl2 --enable-bzlib --enable-fontconfig --enable-gnutls --enable-iconv --enable-libass --enable-libbluray --enable-libfreetype --enable-libmp3lame --enable-libopencore-amrnb --enable-libopencore-amrwb --enable-libopenjpeg --enable-libopus --enable-libshine --enable-libsnappy --enable-libsoxr --enable-libtheora --enable-libtwolame --enable-libvpx --enable-libwavpack --enable-libwebp --enable-libx264 --enable-libx265 --enable-libxml2 --enable-libzimg --enable-lzma --enable-zlib --enable-gmp --enable-libvidstab --enable-libvorbis --enable-libvo-amrwbenc --enable-libmysofa --enable-libspeex --enable-libxvid --enable-libmfx --enable-amf --enable-cuda --enable-cuvid --enable-d3d11va --enable-nvenc --enable-dxva2 --enable-avisynth\n",
      "libavutil      56.  7.101 / 56.  7.101\n",
      "libavcodec     58. 13.100 / 58. 13.100\n",
      "libavformat    58. 10.100 / 58. 10.100\n",
      "libavdevice    58.  2.100 / 58.  2.100\n",
      "libavfilter     7. 12.100 /  7. 12.100\n",
      "libswscale      5.  0.101 /  5.  0.101\n",
      "libswresample   3.  0.101 /  3.  0.101\n",
      "libpostproc    55.  0.100 / 55.  0.100\n"
     ]
    }
   ],
   "source": [
    "\n",
    "# https://github.com/adaptlearning/adapt_authoring/wiki/Installing-FFmpeg\n",
    "!ffmpeg -version"
   ]
  },
  {
   "cell_type": "markdown",
   "metadata": {},
   "source": [
    "\n",
    "Performing authentication with Google Drive requires we keep our client id and consumer secret in a json file. Keep your secrets off the internet!"
   ]
  },
  {
   "cell_type": "code",
   "execution_count": 6,
   "metadata": {
    "collapsed": true
   },
   "outputs": [],
   "source": [
    "\n",
    "!start %windir%\\explorer.exe \"C:\\Users\\dev\\Documents\\repositories\\notebooks\\Miscellaneous\\json\""
   ]
  },
  {
   "cell_type": "markdown",
   "metadata": {},
   "source": [
    "\n",
    "We also make sure line 286 of pydrive's files.py file reads <code>self.content.close()</code> before we run the trash cell."
   ]
  },
  {
   "cell_type": "code",
   "execution_count": 43,
   "metadata": {
    "collapsed": true
   },
   "outputs": [],
   "source": [
    "\n",
    "!\"C:\\Program Files\\Notepad++\\notepad++.exe\" \"C:\\Users\\dev\\Anaconda3\\Lib\\site-packages\\pydrive\\files.py\""
   ]
  },
  {
   "cell_type": "markdown",
   "metadata": {},
   "source": [
    "\n",
    "Before we start the download process, let's go over setting a few variables:\n",
    "\n",
    "* **The downloads folder:** This is where all the messy work will be done. All mp3 files and any intermediate files will be deleted out of this folder by the end.\n",
    "* **The URL list:** This is where we place our YouTube video URLs. Make sure you remove any <code>time_continue=</code> parameters in the URL or the mp3 will get cut off.\n",
    "* **The target folder ID:** This is the folder in Google Drive where our uploads will end up."
   ]
  },
  {
   "cell_type": "code",
   "execution_count": 3,
   "metadata": {
    "collapsed": true
   },
   "outputs": [],
   "source": [
    "\n",
    "import youtube_dl\n",
    "\n",
    "downloads_folder = r'Downloads\\\\'\n",
    "youtube_url_list = ['https://www.youtube.com/watch?v=_nHCM1D9uwk', 'https://www.youtube.com/watch?v=PkNv4LFpGf4',\n",
    "                    'https://www.youtube.com/watch?v=B2EXSVePg1A', 'https://www.youtube.com/watch?v=s6LlkCsQSq0',\n",
    "                    'https://www.youtube.com/watch?v=0J2QdDbelmY']"
   ]
  },
  {
   "cell_type": "markdown",
   "metadata": {},
   "source": [
    "Now we are ready to start the download process by running <code>youtube_dl</code> on our <code>youtube_url_list</code>."
   ]
  },
  {
   "cell_type": "code",
   "execution_count": 4,
   "metadata": {
    "scrolled": false
   },
   "outputs": [
    {
     "name": "stdout",
     "output_type": "stream",
     "text": [
      "[youtube] _nHCM1D9uwk: Downloading webpage\n",
      "[youtube] _nHCM1D9uwk: Downloading video info webpage\n",
      "[youtube] _nHCM1D9uwk: Extracting video information\n",
      "[download] Destination: Downloads\\Sam Harris on Russel Brand. Does it matter if we suffer and nobody sees Do we want a God to see-_nHCM1D9uwk.webm\n",
      "[download] 100% of 15.10MiB in 00:10                  \n",
      "[ffmpeg] Destination: Downloads\\Sam Harris on Russel Brand. Does it matter if we suffer and nobody sees Do we want a God to see-_nHCM1D9uwk.mp3\n",
      "Deleting original file Downloads\\Sam Harris on Russel Brand. Does it matter if we suffer and nobody sees Do we want a God to see-_nHCM1D9uwk.webm (pass -k to keep)\n",
      "[youtube] PkNv4LFpGf4: Downloading webpage\n",
      "[youtube] PkNv4LFpGf4: Downloading video info webpage\n",
      "[youtube] PkNv4LFpGf4: Extracting video information\n",
      "[download] Destination: Downloads\\The Lindsay Shepherd Affair - Update-PkNv4LFpGf4.m4a\n",
      "[download] 100% of 34.06MiB in 00:17                   \n",
      "[ffmpeg] Correcting container in \"Downloads\\The Lindsay Shepherd Affair - Update-PkNv4LFpGf4.m4a\"\n",
      "[ffmpeg] Destination: Downloads\\The Lindsay Shepherd Affair - Update-PkNv4LFpGf4.mp3\n",
      "Deleting original file Downloads\\The Lindsay Shepherd Affair - Update-PkNv4LFpGf4.m4a (pass -k to keep)\n",
      "[youtube] B2EXSVePg1A: Downloading webpage\n",
      "[youtube] B2EXSVePg1A: Downloading video info webpage\n",
      "[youtube] B2EXSVePg1A: Extracting video information\n",
      "[download] Destination: Downloads\\Can Sam Harris' 'good consciousness' yield objective moral standards-B2EXSVePg1A.webm\n",
      "[download] 100% of 69.28MiB in 00:29                   \n",
      "[ffmpeg] Destination: Downloads\\Can Sam Harris' 'good consciousness' yield objective moral standards-B2EXSVePg1A.mp3\n",
      "Deleting original file Downloads\\Can Sam Harris' 'good consciousness' yield objective moral standards-B2EXSVePg1A.webm (pass -k to keep)\n",
      "[youtube] s6LlkCsQSq0: Downloading webpage\n",
      "[youtube] s6LlkCsQSq0: Downloading video info webpage\n",
      "[youtube] s6LlkCsQSq0: Extracting video information\n",
      "[download] Destination: Downloads\\The secret history of Trump's victory, magic and power-s6LlkCsQSq0.m4a\n",
      "[download] 100% of 21.53MiB in 00:11                   \n",
      "[ffmpeg] Correcting container in \"Downloads\\The secret history of Trump's victory, magic and power-s6LlkCsQSq0.m4a\"\n",
      "[ffmpeg] Destination: Downloads\\The secret history of Trump's victory, magic and power-s6LlkCsQSq0.mp3\n",
      "Deleting original file Downloads\\The secret history of Trump's victory, magic and power-s6LlkCsQSq0.m4a (pass -k to keep)\n",
      "[youtube] 0J2QdDbelmY: Downloading webpage\n",
      "[youtube] 0J2QdDbelmY: Downloading video info webpage\n",
      "[youtube] 0J2QdDbelmY: Extracting video information\n",
      "[youtube] 0J2QdDbelmY: Downloading js player vflT670_e\n",
      "[download] Destination: Downloads\\The White Stripes - 'Seven Nation Army'-0J2QdDbelmY.webm\n",
      "[download] 100% of 3.40MiB in 00:01                  \n",
      "[ffmpeg] Destination: Downloads\\The White Stripes - 'Seven Nation Army'-0J2QdDbelmY.mp3\n",
      "Deleting original file Downloads\\The White Stripes - 'Seven Nation Army'-0J2QdDbelmY.webm (pass -k to keep)\n",
      "Conversion completed.\n"
     ]
    }
   ],
   "source": [
    "ydl_opts = {\n",
    "    'format': 'bestaudio/best',\n",
    "    'nocheckcertificate': False,\n",
    "    'outtmpl': downloads_folder+youtube_dl.DEFAULT_OUTTMPL,\n",
    "    'postprocessors': [{'key': 'FFmpegExtractAudio',\n",
    "                       'preferredcodec': 'mp3',\n",
    "                       'preferredquality': '192'}],\n",
    "    'verbose': False,\n",
    "    }\n",
    "with youtube_dl.YoutubeDL(ydl_opts) as ydl:\n",
    "    try:\n",
    "        result = ydl.download(youtube_url_list)\n",
    "    except Exception as e:\n",
    "        print(e)\n",
    "print('Conversion completed.')"
   ]
  },
  {
   "cell_type": "markdown",
   "metadata": {},
   "source": [
    "\n",
    "Next, we authenticate with Google by running the builtin web server conventiently provided."
   ]
  },
  {
   "cell_type": "code",
   "execution_count": 5,
   "metadata": {},
   "outputs": [
    {
     "ename": "InvalidConfigError",
     "evalue": "Invalid client secrets file ('Error opening file', '../json/client_secrets.json', 'No such file or directory', 2)",
     "output_type": "error",
     "traceback": [
      "\u001b[1;31m---------------------------------------------------------------------------\u001b[0m",
      "\u001b[1;31mFileNotFoundError\u001b[0m                         Traceback (most recent call last)",
      "\u001b[1;32mC:\\ProgramData\\Anaconda3\\lib\\site-packages\\oauth2client\\clientsecrets.py\u001b[0m in \u001b[0;36m_loadfile\u001b[1;34m(filename)\u001b[0m\n\u001b[0;32m    120\u001b[0m     \u001b[1;32mtry\u001b[0m\u001b[1;33m:\u001b[0m\u001b[1;33m\u001b[0m\u001b[0m\n\u001b[1;32m--> 121\u001b[1;33m         \u001b[1;32mwith\u001b[0m \u001b[0mopen\u001b[0m\u001b[1;33m(\u001b[0m\u001b[0mfilename\u001b[0m\u001b[1;33m,\u001b[0m \u001b[1;34m'r'\u001b[0m\u001b[1;33m)\u001b[0m \u001b[1;32mas\u001b[0m \u001b[0mfp\u001b[0m\u001b[1;33m:\u001b[0m\u001b[1;33m\u001b[0m\u001b[0m\n\u001b[0m\u001b[0;32m    122\u001b[0m             \u001b[0mobj\u001b[0m \u001b[1;33m=\u001b[0m \u001b[0mjson\u001b[0m\u001b[1;33m.\u001b[0m\u001b[0mload\u001b[0m\u001b[1;33m(\u001b[0m\u001b[0mfp\u001b[0m\u001b[1;33m)\u001b[0m\u001b[1;33m\u001b[0m\u001b[0m\n",
      "\u001b[1;31mFileNotFoundError\u001b[0m: [Errno 2] No such file or directory: '../json/client_secrets.json'",
      "\nDuring handling of the above exception, another exception occurred:\n",
      "\u001b[1;31mInvalidClientSecretsError\u001b[0m                 Traceback (most recent call last)",
      "\u001b[1;32mC:\\ProgramData\\Anaconda3\\lib\\site-packages\\pydrive\\auth.py\u001b[0m in \u001b[0;36mLoadClientConfigFile\u001b[1;34m(self, client_config_file)\u001b[0m\n\u001b[0;32m    385\u001b[0m     \u001b[1;32mtry\u001b[0m\u001b[1;33m:\u001b[0m\u001b[1;33m\u001b[0m\u001b[0m\n\u001b[1;32m--> 386\u001b[1;33m       \u001b[0mclient_type\u001b[0m\u001b[1;33m,\u001b[0m \u001b[0mclient_info\u001b[0m \u001b[1;33m=\u001b[0m \u001b[0mclientsecrets\u001b[0m\u001b[1;33m.\u001b[0m\u001b[0mloadfile\u001b[0m\u001b[1;33m(\u001b[0m\u001b[0mclient_config_file\u001b[0m\u001b[1;33m)\u001b[0m\u001b[1;33m\u001b[0m\u001b[0m\n\u001b[0m\u001b[0;32m    387\u001b[0m     \u001b[1;32mexcept\u001b[0m \u001b[0mclientsecrets\u001b[0m\u001b[1;33m.\u001b[0m\u001b[0mInvalidClientSecretsError\u001b[0m \u001b[1;32mas\u001b[0m \u001b[0merror\u001b[0m\u001b[1;33m:\u001b[0m\u001b[1;33m\u001b[0m\u001b[0m\n",
      "\u001b[1;32mC:\\ProgramData\\Anaconda3\\lib\\site-packages\\oauth2client\\clientsecrets.py\u001b[0m in \u001b[0;36mloadfile\u001b[1;34m(filename, cache)\u001b[0m\n\u001b[0;32m    164\u001b[0m     \u001b[1;32mif\u001b[0m \u001b[1;32mnot\u001b[0m \u001b[0mcache\u001b[0m\u001b[1;33m:\u001b[0m\u001b[1;33m\u001b[0m\u001b[0m\n\u001b[1;32m--> 165\u001b[1;33m         \u001b[1;32mreturn\u001b[0m \u001b[0m_loadfile\u001b[0m\u001b[1;33m(\u001b[0m\u001b[0mfilename\u001b[0m\u001b[1;33m)\u001b[0m\u001b[1;33m\u001b[0m\u001b[0m\n\u001b[0m\u001b[0;32m    166\u001b[0m \u001b[1;33m\u001b[0m\u001b[0m\n",
      "\u001b[1;32mC:\\ProgramData\\Anaconda3\\lib\\site-packages\\oauth2client\\clientsecrets.py\u001b[0m in \u001b[0;36m_loadfile\u001b[1;34m(filename)\u001b[0m\n\u001b[0;32m    124\u001b[0m         raise InvalidClientSecretsError('Error opening file', exc.filename,\n\u001b[1;32m--> 125\u001b[1;33m                                         exc.strerror, exc.errno)\n\u001b[0m\u001b[0;32m    126\u001b[0m     \u001b[1;32mreturn\u001b[0m \u001b[0m_validate_clientsecrets\u001b[0m\u001b[1;33m(\u001b[0m\u001b[0mobj\u001b[0m\u001b[1;33m)\u001b[0m\u001b[1;33m\u001b[0m\u001b[0m\n",
      "\u001b[1;31mInvalidClientSecretsError\u001b[0m: ('Error opening file', '../json/client_secrets.json', 'No such file or directory', 2)",
      "\nDuring handling of the above exception, another exception occurred:\n",
      "\u001b[1;31mInvalidConfigError\u001b[0m                        Traceback (most recent call last)",
      "\u001b[1;32m<ipython-input-5-a61eb57bf9ec>\u001b[0m in \u001b[0;36m<module>\u001b[1;34m()\u001b[0m\n\u001b[0;32m      5\u001b[0m \u001b[0mGoogleAuth\u001b[0m\u001b[1;33m.\u001b[0m\u001b[0mDEFAULT_SETTINGS\u001b[0m\u001b[1;33m[\u001b[0m\u001b[1;34m'client_config_file'\u001b[0m\u001b[1;33m]\u001b[0m \u001b[1;33m=\u001b[0m \u001b[1;34mr'../json/client_secrets.json'\u001b[0m\u001b[1;33m\u001b[0m\u001b[0m\n\u001b[0;32m      6\u001b[0m \u001b[0mgauth\u001b[0m \u001b[1;33m=\u001b[0m \u001b[0mGoogleAuth\u001b[0m\u001b[1;33m(\u001b[0m\u001b[1;33m)\u001b[0m\u001b[1;33m\u001b[0m\u001b[0m\n\u001b[1;32m----> 7\u001b[1;33m \u001b[0mgauth\u001b[0m\u001b[1;33m.\u001b[0m\u001b[0mLocalWebserverAuth\u001b[0m\u001b[1;33m(\u001b[0m\u001b[1;33m)\u001b[0m\u001b[1;33m\u001b[0m\u001b[0m\n\u001b[0m",
      "\u001b[1;32mC:\\ProgramData\\Anaconda3\\lib\\site-packages\\pydrive\\auth.py\u001b[0m in \u001b[0;36m_decorated\u001b[1;34m(self, *args, **kwargs)\u001b[0m\n\u001b[0;32m    111\u001b[0m       \u001b[0mself\u001b[0m\u001b[1;33m.\u001b[0m\u001b[0mLoadCredentials\u001b[0m\u001b[1;33m(\u001b[0m\u001b[1;33m)\u001b[0m\u001b[1;33m\u001b[0m\u001b[0m\n\u001b[0;32m    112\u001b[0m     \u001b[1;32mif\u001b[0m \u001b[0mself\u001b[0m\u001b[1;33m.\u001b[0m\u001b[0mflow\u001b[0m \u001b[1;32mis\u001b[0m \u001b[1;32mNone\u001b[0m\u001b[1;33m:\u001b[0m\u001b[1;33m\u001b[0m\u001b[0m\n\u001b[1;32m--> 113\u001b[1;33m       \u001b[0mself\u001b[0m\u001b[1;33m.\u001b[0m\u001b[0mGetFlow\u001b[0m\u001b[1;33m(\u001b[0m\u001b[1;33m)\u001b[0m\u001b[1;33m\u001b[0m\u001b[0m\n\u001b[0m\u001b[0;32m    114\u001b[0m     \u001b[1;32mif\u001b[0m \u001b[0mself\u001b[0m\u001b[1;33m.\u001b[0m\u001b[0mcredentials\u001b[0m \u001b[1;32mis\u001b[0m \u001b[1;32mNone\u001b[0m\u001b[1;33m:\u001b[0m\u001b[1;33m\u001b[0m\u001b[0m\n\u001b[0;32m    115\u001b[0m       \u001b[0mcode\u001b[0m \u001b[1;33m=\u001b[0m \u001b[0mdecoratee\u001b[0m\u001b[1;33m(\u001b[0m\u001b[0mself\u001b[0m\u001b[1;33m,\u001b[0m \u001b[1;33m*\u001b[0m\u001b[0margs\u001b[0m\u001b[1;33m,\u001b[0m \u001b[1;33m**\u001b[0m\u001b[0mkwargs\u001b[0m\u001b[1;33m)\u001b[0m\u001b[1;33m\u001b[0m\u001b[0m\n",
      "\u001b[1;32mC:\\ProgramData\\Anaconda3\\lib\\site-packages\\pydrive\\auth.py\u001b[0m in \u001b[0;36mGetFlow\u001b[1;34m(self)\u001b[0m\n\u001b[0;32m    441\u001b[0m     if not all(config in self.client_config \\\n\u001b[0;32m    442\u001b[0m                for config in self.CLIENT_CONFIGS_LIST):\n\u001b[1;32m--> 443\u001b[1;33m       \u001b[0mself\u001b[0m\u001b[1;33m.\u001b[0m\u001b[0mLoadClientConfig\u001b[0m\u001b[1;33m(\u001b[0m\u001b[1;33m)\u001b[0m\u001b[1;33m\u001b[0m\u001b[0m\n\u001b[0m\u001b[0;32m    444\u001b[0m     constructor_kwargs = {\n\u001b[0;32m    445\u001b[0m         \u001b[1;34m'redirect_uri'\u001b[0m\u001b[1;33m:\u001b[0m \u001b[0mself\u001b[0m\u001b[1;33m.\u001b[0m\u001b[0mclient_config\u001b[0m\u001b[1;33m[\u001b[0m\u001b[1;34m'redirect_uri'\u001b[0m\u001b[1;33m]\u001b[0m\u001b[1;33m,\u001b[0m\u001b[1;33m\u001b[0m\u001b[0m\n",
      "\u001b[1;32mC:\\ProgramData\\Anaconda3\\lib\\site-packages\\pydrive\\auth.py\u001b[0m in \u001b[0;36mLoadClientConfig\u001b[1;34m(self, backend)\u001b[0m\n\u001b[0;32m    364\u001b[0m         \u001b[1;32mraise\u001b[0m \u001b[0mInvalidConfigError\u001b[0m\u001b[1;33m(\u001b[0m\u001b[1;34m'Please specify client config backend'\u001b[0m\u001b[1;33m)\u001b[0m\u001b[1;33m\u001b[0m\u001b[0m\n\u001b[0;32m    365\u001b[0m     \u001b[1;32mif\u001b[0m \u001b[0mbackend\u001b[0m \u001b[1;33m==\u001b[0m \u001b[1;34m'file'\u001b[0m\u001b[1;33m:\u001b[0m\u001b[1;33m\u001b[0m\u001b[0m\n\u001b[1;32m--> 366\u001b[1;33m       \u001b[0mself\u001b[0m\u001b[1;33m.\u001b[0m\u001b[0mLoadClientConfigFile\u001b[0m\u001b[1;33m(\u001b[0m\u001b[1;33m)\u001b[0m\u001b[1;33m\u001b[0m\u001b[0m\n\u001b[0m\u001b[0;32m    367\u001b[0m     \u001b[1;32melif\u001b[0m \u001b[0mbackend\u001b[0m \u001b[1;33m==\u001b[0m \u001b[1;34m'settings'\u001b[0m\u001b[1;33m:\u001b[0m\u001b[1;33m\u001b[0m\u001b[0m\n\u001b[0;32m    368\u001b[0m       \u001b[0mself\u001b[0m\u001b[1;33m.\u001b[0m\u001b[0mLoadClientConfigSettings\u001b[0m\u001b[1;33m(\u001b[0m\u001b[1;33m)\u001b[0m\u001b[1;33m\u001b[0m\u001b[0m\n",
      "\u001b[1;32mC:\\ProgramData\\Anaconda3\\lib\\site-packages\\pydrive\\auth.py\u001b[0m in \u001b[0;36mLoadClientConfigFile\u001b[1;34m(self, client_config_file)\u001b[0m\n\u001b[0;32m    386\u001b[0m       \u001b[0mclient_type\u001b[0m\u001b[1;33m,\u001b[0m \u001b[0mclient_info\u001b[0m \u001b[1;33m=\u001b[0m \u001b[0mclientsecrets\u001b[0m\u001b[1;33m.\u001b[0m\u001b[0mloadfile\u001b[0m\u001b[1;33m(\u001b[0m\u001b[0mclient_config_file\u001b[0m\u001b[1;33m)\u001b[0m\u001b[1;33m\u001b[0m\u001b[0m\n\u001b[0;32m    387\u001b[0m     \u001b[1;32mexcept\u001b[0m \u001b[0mclientsecrets\u001b[0m\u001b[1;33m.\u001b[0m\u001b[0mInvalidClientSecretsError\u001b[0m \u001b[1;32mas\u001b[0m \u001b[0merror\u001b[0m\u001b[1;33m:\u001b[0m\u001b[1;33m\u001b[0m\u001b[0m\n\u001b[1;32m--> 388\u001b[1;33m       \u001b[1;32mraise\u001b[0m \u001b[0mInvalidConfigError\u001b[0m\u001b[1;33m(\u001b[0m\u001b[1;34m'Invalid client secrets file %s'\u001b[0m \u001b[1;33m%\u001b[0m \u001b[0merror\u001b[0m\u001b[1;33m)\u001b[0m\u001b[1;33m\u001b[0m\u001b[0m\n\u001b[0m\u001b[0;32m    389\u001b[0m     if not client_type in (clientsecrets.TYPE_WEB,\n\u001b[0;32m    390\u001b[0m                            clientsecrets.TYPE_INSTALLED):\n",
      "\u001b[1;31mInvalidConfigError\u001b[0m: Invalid client secrets file ('Error opening file', '../json/client_secrets.json', 'No such file or directory', 2)"
     ]
    }
   ],
   "source": [
    "\n",
    "from pydrive.auth import GoogleAuth\n",
    "\n",
    "# The URL that gets displeyed here is not suitable for public consumption\n",
    "GoogleAuth.DEFAULT_SETTINGS['client_config_file'] = r'../json/client_secrets.json'\n",
    "gauth = GoogleAuth()\n",
    "gauth.LocalWebserverAuth()"
   ]
  },
  {
   "cell_type": "markdown",
   "metadata": {},
   "source": [
    "\n",
    "Before you run the next cell, in the online web page of Google Drive, bring up the share dialog box of the folder you are uploading to and copy its folder id into the <code>tgt_folder_id</code> string. If you right-click on the folder and select **Share...** and then click **Get shareable link**, you will see something like:\n",
    "\n",
    "https://drive.google.com/drive/folders/1syfUx6jukbW1CWIEy8xoM9veGGr5MBUx?usp=sharing\n",
    "\n",
    "It's that **1syfUx6jukbW1CWIEy8xoM9veGGr5MBUx** that you need to copy."
   ]
  },
  {
   "cell_type": "code",
   "execution_count": 11,
   "metadata": {
    "collapsed": true
   },
   "outputs": [],
   "source": [
    "\n",
    "from pydrive.drive import GoogleDrive\n",
    "\n",
    "# Create GoogleDrive instance with authenticated GoogleAuth instance\n",
    "drive = GoogleDrive(gauth)\n",
    "\n",
    "# ID of the \"Reading Material\" folder\n",
    "tgt_folder_id = '1syfUx6jukbW1CWIEy8xoM9veGGr5MBUh'"
   ]
  },
  {
   "cell_type": "markdown",
   "metadata": {},
   "source": [
    "\n",
    "Next, we will upload all the mp3s in our download folder."
   ]
  },
  {
   "cell_type": "code",
   "execution_count": 12,
   "metadata": {},
   "outputs": [
    {
     "name": "stdout",
     "output_type": "stream",
     "text": [
      "Uploaded A Guide to Turning Postmodernism Against Itself-t5mEijjyce4.mp3 (audio/mp3)\n",
      "Uploaded Political correctness - a force for good A Munk Debate-ST6kj9OEYf0.mp3 (audio/mp3)\n",
      "Upload completed.\n"
     ]
    }
   ],
   "source": [
    "\n",
    "import os\n",
    "\n",
    "# Upload all mp3s from the Downloads folder to Google Drive's \"Reading Material\" folder\n",
    "gfile_dict = {}\n",
    "for subdir, dirs, files in os.walk(downloads_folder):\n",
    "    for src_file in files:\n",
    "        if src_file.endswith('.mp3'):\n",
    "            src_path = os.path.join(subdir, src_file)\n",
    "            gfile_dict[src_file] = drive.CreateFile({'title':src_file, 'mimeType':'audio/mp3',\n",
    "                                                     'parents': [{'kind': 'drive#fileLink',\n",
    "                                                                  'id': tgt_folder_id}]})\n",
    "\n",
    "            # Read mp3 file and set it as a content of this instance.\n",
    "            gfile_dict[src_file].SetContentFile(src_path)\n",
    "            \n",
    "            # Upload the file\n",
    "            try:\n",
    "                gfile_dict[src_file].Upload()\n",
    "                print('Uploaded %s (%s)' % (gfile_dict[src_file]['title'],\n",
    "                                            gfile_dict[src_file]['mimeType']))\n",
    "            except Exception as e:\n",
    "                print('Upload failed for %s (%s): %s' % (gfile_dict[src_file]['title'],\n",
    "                                                         gfile_dict[src_file]['mimeType'], e))\n",
    "print('Upload completed.')"
   ]
  },
  {
   "cell_type": "markdown",
   "metadata": {},
   "source": [
    "\n",
    "Download the mp3s to <a href='http://www.voicedream.com/support/user-manual/#file'>Voice Dream</a> before you run the trash cell (below)."
   ]
  },
  {
   "cell_type": "code",
   "execution_count": 13,
   "metadata": {},
   "outputs": [
    {
     "name": "stdout",
     "output_type": "stream",
     "text": [
      "Trashed A Guide to Turning Postmodernism Against Itself-t5mEijjyce4.mp3 (audio/mp3)\n",
      "Trashed Political correctness - a force for good A Munk Debate-ST6kj9OEYf0.mp3 (audio/mp3)\n",
      "Trashing completed.\n"
     ]
    }
   ],
   "source": [
    "\n",
    "import os\n",
    "\n",
    "# Trash all mp3s from Google Drive's \"Reading Material\" folder\n",
    "for src_file in gfile_dict.keys():\n",
    "\n",
    "    # Trash mp3 file\n",
    "    try:\n",
    "        gfile_dict[src_file].Trash()\n",
    "        print('Trashed %s (%s)' % (gfile_dict[src_file]['title'],\n",
    "                                   gfile_dict[src_file]['mimeType']))\n",
    "    except Exception as e:\n",
    "        print('Trash failed for %s (%s): %s' % (gfile_dict[src_file]['title'],\n",
    "                                                gfile_dict[src_file]['mimeType'], e))\n",
    "    \n",
    "print('Trashing completed.')"
   ]
  },
  {
   "cell_type": "markdown",
   "metadata": {},
   "source": [
    "\n",
    "Lastly, we run the code that will delete all the mp3s out of our downloads folder."
   ]
  },
  {
   "cell_type": "code",
   "execution_count": 14,
   "metadata": {},
   "outputs": [
    {
     "name": "stdout",
     "output_type": "stream",
     "text": [
      "Deleted A Guide to Turning Postmodernism Against Itself-t5mEijjyce4.mp3 (audio/mp3)\n",
      "Deleted Political correctness - a force for good A Munk Debate-ST6kj9OEYf0.mp3 (audio/mp3)\n",
      "Deleting completed.\n"
     ]
    }
   ],
   "source": [
    "\n",
    "import os\n",
    "\n",
    "# Delete all mp3s in the Downloads folder\n",
    "for src_file in gfile_dict.keys():\n",
    "    src_path = os.path.join(downloads_folder, src_file)\n",
    "\n",
    "    # Delete the file\n",
    "    try:\n",
    "        os.remove(src_path)\n",
    "        print('Deleted %s (%s)' % (src_file,\n",
    "                                   gfile_dict[src_file]['mimeType']))\n",
    "    except Exception as e:\n",
    "        print('Failed to delete %s (%s): %s' % (src_file,\n",
    "                                                gfile_dict[src_file]['mimeType'], e))\n",
    "print('Deleting completed.')"
   ]
  },
  {
   "cell_type": "code",
   "execution_count": null,
   "metadata": {
    "collapsed": true
   },
   "outputs": [],
   "source": []
  }
 ],
 "metadata": {
  "anaconda-cloud": {},
  "kernelspec": {
   "display_name": "Python 3",
   "language": "python",
   "name": "python3"
  },
  "language_info": {
   "codemirror_mode": {
    "name": "ipython",
    "version": 3
   },
   "file_extension": ".py",
   "mimetype": "text/x-python",
   "name": "python",
   "nbconvert_exporter": "python",
   "pygments_lexer": "ipython3",
   "version": "3.6.3"
  }
 },
 "nbformat": 4,
 "nbformat_minor": 2
}
