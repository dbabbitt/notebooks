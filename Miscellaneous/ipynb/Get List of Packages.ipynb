{
 "cells": [
  {
   "cell_type": "code",
   "execution_count": 3,
   "metadata": {},
   "outputs": [
    {
     "name": "stdout",
     "output_type": "stream",
     "text": [
      "3.5.2 |Anaconda 4.1.1 (64-bit)| (default, Jul  5 2016, 11:41:13) [MSC v.1900 64 bit (AMD64)]\n"
     ]
    }
   ],
   "source": [
    "import os\n",
    "import sys\n",
    "\n",
    "r_library_folder = r\"C:\\Users\\577342\\Documents\\R\\R-3.1.2\\library\"\n",
    "\n",
    "print(sys.version)"
   ]
  },
  {
   "cell_type": "code",
   "execution_count": 4,
   "metadata": {},
   "outputs": [
    {
     "name": "stdout",
     "output_type": "stream",
     "text": [
      "['abind', 'acepack', 'ada', 'akima', 'amap', 'animation', 'ape', 'arules', 'assertthat', 'base', 'base64enc', 'BH', 'BHH2', 'bit', 'bit64', 'bitops', 'boot', 'brew', 'cairoDevice', 'car', 'caret', 'caTools', 'cem', 'chron', 'CircStats', 'class', 'cluster', 'coda', 'codetools', 'coin', 'colorspace', 'combinat', 'compiler', 'corpcor', 'crayon', 'curl', 'd3Network', 'data.table', 'datasets', 'DBI', 'DEoptimR', 'devtools', 'dichromat', 'digest', 'diptest', 'dplyr', 'dtw', 'e1071', 'ellipse', 'ergm', 'evaluate', 'fBasics', 'fdrtool', 'fields', 'flexmix', 'foreach', 'foreign', 'formatR', 'Formula', 'fpc', 'gdata', 'gender', 'GGally', 'ggdendro', 'ggm', 'ggplot2', 'git2r', 'glasso', 'GPArotation', 'gplots', 'graphics', 'grDevices', 'grid', 'gridExtra', 'gss', 'gtable', 'gtools', 'hflights', 'highr', 'Hmisc', 'htmltools', 'htmlwidgets', 'httr', 'huge', 'igraph', 'igraphdata', 'igraphtosonia', 'installr', 'iterators', 'jpeg', 'jsonlite', 'kernlab', 'KernSmooth', 'knitr', 'labeling', 'latentnet', 'lattice', 'latticeExtra', 'lavaan', 'lazyeval', 'lme4', 'lpSolve', 'magrittr', 'manipulate', 'maps', 'markdown', 'MASS', 'Matching', 'MatchIt', 'Matrix', 'matrixcalc', 'mclust', 'memoise', 'methods', 'mgcv', 'mice', 'mime', 'minqa', 'mnormt', 'modeltools', 'multcomp', 'munsell', 'mvtnorm', 'NetCluster', 'NetData', 'network', 'neuralnet', 'nFactors', 'nlme', 'nloptr', 'NLP', 'nnet', 'numDeriv', 'nycflights13', 'openintro', 'openNLP', 'openNLPdata', 'openNLPmodels.en', 'optmatch', 'parallel', 'pbivnorm', 'pbkrtest', 'pixmap', 'plotly', 'plotrix', 'plyr', 'png', 'polspline', 'prabclus', 'pROC', 'proto', 'proxy', 'psych', 'qdap', 'qdapDictionaries', 'qdapRegex', 'qdapTools', 'qgraph', 'quadprog', 'quantreg', 'R6', 'randomForest', 'rattle', 'RColorBrewer', 'Rcpp', 'RcppEigen', 'Rcsdp', 'RCurl', 'readr', 'readxl', 'reports', 'reshape', 'reshape2', 'rgl', 'Rglpk', 'RGtk2', 'rJava', 'rjson', 'RJSONIO', 'RMongo', 'rmongodb', 'rms', 'ROAuth', 'robustbase', 'ROCR', 'roxygen2', 'rpart', 'rpart.plot', 'RSQLite', 'rstudio', 'rstudioapi', 'rtiff', 'rversions', 'rvest', 'RWeka', 'RWekajars', 'sandwich', 'scales', 'selectr', 'sem', 'sendplot', 'shiny', 'slam', 'sna', 'SnowballC', 'sos', 'sp', 'spam', 'SparseM', 'spatial', 'splines', 'stabledist', 'statnet.common', 'stats', 'stats4', 'stringdist', 'stringi', 'stringr', 'survival', 'swirl', 'tables', 'tcltk', 'testit', 'testthat', 'TH.data', 'tidyr', 'timeDate', 'timeSeries', 'tm', 'tools', 'translations', 'trimcluster', 'trust', 'twitteR', 'Unicode', 'utils', 'vcd', 'venneuler', 'verification', 'viridis', 'WhatIf', 'whisker', 'wordcloud', 'xlsx', 'xlsxjars', 'XML', 'xml2', 'xtable', 'xts', 'yaml', 'zoo']\n"
     ]
    }
   ],
   "source": [
    "print(os.listdir(r_library_folder))"
   ]
  },
  {
   "cell_type": "code",
   "execution_count": 9,
   "metadata": {
    "scrolled": false
   },
   "outputs": [
    {
     "name": "stdout",
     "output_type": "stream",
     "text": [
      "alabaster\t0.7.8\n",
      "anaconda-client\t1.4.0\n",
      "anaconda-navigator\t1.2.1\n",
      "argcomplete\t1.0.0\n",
      "astropy\t1.2.1\n",
      "babel\t2.3.3\n",
      "backports.shutil-get-terminal-size\t1.0.0\n",
      "beautifulsoup4\t4.4.1\n",
      "bitarray\t0.8.1\n",
      "blaze\t0.10.1\n",
      "bokeh\t0.12.0\n",
      "boto\t2.40.0\n",
      "bottleneck\t1.1.0\n",
      "cffi\t1.6.0\n",
      "chest\t0.2.3\n",
      "click\t6.6\n",
      "cloudpickle\t0.2.1\n",
      "clyent\t1.2.2\n",
      "colorama\t0.3.7\n",
      "comtypes\t1.1.2\n",
      "conda\t4.1.6\n",
      "conda-build\t1.21.3\n",
      "conda-env\t2.5.0a0\n",
      "configobj\t5.0.6\n",
      "contextlib2\t0.5.3\n",
      "cryptography\t1.4\n",
      "cycler\t0.10.0\n",
      "cython\t0.24\n",
      "cytoolz\t0.8.0\n",
      "dask\t0.10.0\n",
      "datashape\t0.5.2\n",
      "decorator\t4.0.10\n",
      "dill\t0.2.5\n",
      "docutils\t0.12\n",
      "dynd\tc328ab7\n",
      "et-xmlfile\t1.0.1\n",
      "fastcache\t1.0.2\n",
      "flask\t0.11.1\n",
      "flask-cors\t2.1.2\n",
      "gevent\t1.1.1\n",
      "greenlet\t0.4.10\n",
      "h5py\t2.6.0\n",
      "heapdict\t1.0.0\n",
      "idna\t2.1\n",
      "imagesize\t0.7.1\n",
      "ipykernel\t4.3.1\n",
      "ipython\t4.2.0\n",
      "ipython-genutils\t0.1.0\n",
      "ipywidgets\t4.1.1\n",
      "itsdangerous\t0.24\n",
      "jdcal\t1.2\n",
      "jedi\t0.9.0\n",
      "jinja2\t2.8\n",
      "jsonschema\t2.5.1\n",
      "jupyter\t1.0.0\n",
      "jupyter-client\t4.3.0\n",
      "jupyter-console\t4.1.1\n",
      "jupyter-core\t4.1.0\n",
      "llvmlite\t0.11.0\n",
      "locket\t0.2.0\n",
      "lxml\t3.6.0\n",
      "markupsafe\t0.23\n",
      "matplotlib\t1.5.1\n",
      "menuinst\t1.4.1\n",
      "mistune\t0.7.2\n",
      "mpmath\t0.19\n",
      "multipledispatch\t0.4.8\n",
      "nb-anacondacloud\t1.1.0\n",
      "nb-conda\t1.1.0\n",
      "nb-conda-kernels\t1.0.3\n",
      "nbconvert\t4.2.0\n",
      "nbformat\t4.0.1\n",
      "nbpresent\t3.0.2\n",
      "networkx\t1.11\n",
      "nltk\t3.2.1\n",
      "nose\t1.3.7\n",
      "notebook\t4.2.1\n",
      "numba\t0.26.0\n",
      "numexpr\t2.6.0\n",
      "numpy\t1.11.1\n",
      "odo\t0.5.0\n",
      "openpyxl\t2.3.2\n",
      "pandas\t0.18.1\n",
      "partd\t0.3.4\n",
      "path.py\t0.0.0\n",
      "pathlib2\t2.1.0\n",
      "patsy\t0.4.1\n",
      "pep8\t1.7.0\n",
      "pickleshare\t0.7.2\n",
      "pillow\t3.2.0\n",
      "pip\t8.1.2\n",
      "ply\t3.8\n",
      "psutil\t4.3.0\n",
      "py\t1.4.31\n",
      "pyasn1\t0.1.9\n",
      "pycosat\t0.6.1\n",
      "pycparser\t2.14\n",
      "pycrypto\t2.6.1\n",
      "pycurl\t7.43.0\n",
      "pyflakes\t1.2.3\n",
      "pygments\t2.1.3\n",
      "pyopenssl\t16.0.0\n",
      "pyparsing\t2.1.4\n",
      "pyreadline\t2.1\n",
      "pytest\t2.9.2\n",
      "python-dateutil\t2.5.3\n",
      "pytz\t2016.4\n",
      "pywin32\t220\n",
      "pyyaml\t3.11\n",
      "pyzmq\t15.2.0\n",
      "qtconsole\t4.2.1\n",
      "qtpy\t1.0.2\n",
      "requests\t2.10.0\n",
      "rope-py3k\t0.9.4.post1\n",
      "ruamel-yaml\t-VERSION\n",
      "scikit-image\t0.12.3\n",
      "scikit-learn\t0.17.1\n",
      "scipy\t0.17.1\n",
      "setuptools\t23.0.0\n",
      "simplegeneric\t0.8.1\n",
      "singledispatch\t3.4.0.3\n",
      "six\t1.10.0\n",
      "snowballstemmer\t1.2.1\n",
      "sockjs-tornado\t1.0.3\n",
      "sphinx\t1.3.1\n",
      "sphinx-rtd-theme\t0.1.9\n",
      "spyder\t2.3.9\n",
      "sqlalchemy\t1.0.13\n",
      "statsmodels\t0.6.1\n",
      "sympy\t1.0\n",
      "tables\t3.2.2\n",
      "toolz\t0.8.0\n",
      "tornado\t4.3\n",
      "traitlets\t4.2.1\n",
      "unicodecsv\t0.14.1\n",
      "werkzeug\t0.11.10\n",
      "wheel\t0.29.0\n",
      "xlrd\t1.0.0\n",
      "xlsxwriter\t0.9.2\n",
      "xlwings\t0.7.2\n",
      "xlwt\t1.1.2\n"
     ]
    }
   ],
   "source": [
    "import pip\n",
    "installed_packages = pip.get_installed_distributions()\n",
    "installed_packages_list = sorted([\"%s\\t%s\" % (i.key, i.version)\n",
    "     for i in installed_packages])\n",
    "for i in installed_packages_list:\n",
    "    print(i)"
   ]
  },
  {
   "cell_type": "code",
   "execution_count": null,
   "metadata": {
    "collapsed": true
   },
   "outputs": [],
   "source": []
  }
 ],
 "metadata": {
  "kernelspec": {
   "display_name": "Python 3",
   "language": "python",
   "name": "python3"
  },
  "language_info": {
   "codemirror_mode": {
    "name": "ipython",
    "version": 3
   },
   "file_extension": ".py",
   "mimetype": "text/x-python",
   "name": "python",
   "nbconvert_exporter": "python",
   "pygments_lexer": "ipython3",
   "version": "3.5.4"
  }
 },
 "nbformat": 4,
 "nbformat_minor": 1
}
