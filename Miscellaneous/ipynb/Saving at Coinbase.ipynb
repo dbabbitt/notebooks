{
 "cells": [
  {
   "cell_type": "code",
   "execution_count": 1,
   "metadata": {},
   "outputs": [
    {
     "name": "stdout",
     "output_type": "stream",
     "text": [
      "mkdir: ../data: File exists\n",
      "mkdir: ../data/csv: File exists\n",
      "mkdir: ../saves: File exists\n",
      "mkdir: ../saves/pickle: File exists\n",
      "mkdir: ../saves/csv: File exists\n"
     ]
    }
   ],
   "source": [
    "# %load ../load_magic/storage.py\n",
    "\n",
    "!mkdir ../data\n",
    "!mkdir ../data/csv\n",
    "!mkdir ../saves\n",
    "!mkdir ../saves/pickle\n",
    "!mkdir ../saves/csv\n",
    "import pickle\n",
    "import pandas as pd\n",
    "import os\n",
    "\n",
    "# Handy list of the different types of encodings\n",
    "encoding = ['latin1', 'iso8859-1', 'utf-8'][2]\n",
    "\n",
    "# Change this to your data and saves folders\n",
    "data_folder = r'../data/'\n",
    "saves_folder = r'../saves/'\n",
    "\n",
    "def load_csv(csv_name=None, folder_path=None):\n",
    "    if folder_path is None:\n",
    "        csv_folder = data_folder + 'csv/'\n",
    "    else:\n",
    "        csv_folder = folder_path + 'csv/'\n",
    "    if csv_name is None:\n",
    "        csv_path = max([os.path.join(csv_folder, f) for f in os.listdir(csv_folder)],\n",
    "                       key=os.path.getmtime)\n",
    "    else:\n",
    "        csv_path = csv_folder + csv_name + '.csv'\n",
    "    data_frame = pd.read_csv(csv_path, encoding=encoding)\n",
    "    \n",
    "    return(data_frame)\n",
    "\n",
    "def load_dataframes(**kwargs):\n",
    "    frame_dict = {}\n",
    "    for frame_name in kwargs:\n",
    "        pickle_path = saves_folder + 'pickle/' + frame_name + '.pickle'\n",
    "        if not os.path.isfile(pickle_path):\n",
    "            csv_folder = saves_folder + 'csv/'\n",
    "            csv_path = csv_folder + frame_name + '.csv'\n",
    "            if not os.path.isfile(csv_path):\n",
    "                csv_path = data_folder + 'csv/' + frame_name + '.csv'\n",
    "                if not os.path.isfile(csv_path):\n",
    "                    frame_dict[frame_name] = None\n",
    "                else:\n",
    "                    frame_dict[frame_name] = load_csv(csv_name=frame_name)\n",
    "            else:\n",
    "                frame_dict[frame_name] = load_csv(csv_name=frame_name, folder_path=csv_folder)\n",
    "        else:\n",
    "            frame_dict[frame_name] = load_object(frame_name)\n",
    "\n",
    "def load_object(obj_name):\n",
    "    pickle_path = saves_folder + 'pickle/' + obj_name + '.pickle'\n",
    "    try:\n",
    "        object = pd.read_pickle(pickle_path)\n",
    "    except:\n",
    "        with open(pickle_path, 'rb') as handle:\n",
    "            object = pickle.load(handle)\n",
    "    \n",
    "    return(object)\n",
    "\n",
    "def save_dataframes(include_index=False, **kwargs):\n",
    "    csv_folder = saves_folder + 'csv/'\n",
    "    for frame_name in kwargs:\n",
    "        if isinstance(kwargs[frame_name], pd.DataFrame):\n",
    "            csv_path = csv_folder + frame_name + '.csv'\n",
    "            kwargs[frame_name].to_csv(csv_path, sep=',', encoding=encoding,\n",
    "                                      index=include_index)\n",
    "\n",
    "# Classes, functions, and methods cannot be pickled\n",
    "def store_objects(**kwargs):\n",
    "    for obj_name in kwargs:\n",
    "        if hasattr(kwargs[obj_name], '__call__'):\n",
    "            raise RuntimeError('Functions cannot be pickled.')\n",
    "        obj_path = saves_folder + 'pickle/' + str(obj_name)\n",
    "        pickle_path = obj_path + '.pickle'\n",
    "        if isinstance(kwargs[obj_name], pd.DataFrame):\n",
    "            kwargs[obj_name].to_pickle(pickle_path)\n",
    "        else:\n",
    "            with open(pickle_path, 'wb') as handle:\n",
    "                pickle.dump(kwargs[obj_name], handle, pickle.HIGHEST_PROTOCOL)"
   ]
  },
  {
   "cell_type": "code",
   "execution_count": 4,
   "metadata": {},
   "outputs": [],
   "source": [
    "\n",
    "# Download CoinBase prices\n",
    "from urllib.request import urlretrieve\n",
    "from gzip import GzipFile\n",
    "import os\n",
    "import numpy as np\n",
    "from datetime import datetime\n",
    "\n",
    "# http://api.bitcoincharts.com/v1/csv/\n",
    "def get_price_data(price_history_name, price_history_url, column_list):\n",
    "    frame_name = str(price_history_name) + '_df'\n",
    "    pickle_path = saves_folder + 'pickle/' + frame_name + '.pickle'\n",
    "    if not os.path.isfile(pickle_path):\n",
    "        \n",
    "        csv_path = saves_folder + 'csv/' + frame_name + '.csv'\n",
    "        if not os.path.isfile(csv_path):\n",
    "\n",
    "            out_file_path = data_folder + 'csv/' + str(price_history_name) + '.csv'\n",
    "            if not os.path.isfile(out_file_path):\n",
    "                local_filename, headers = urlretrieve(price_history_url)\n",
    "                with gzip.open(local_filename, 'rb') as f:\n",
    "                    price_history_decompressed = f.read()\n",
    "                with open(out_file_path, 'w') as output:\n",
    "                    size = output.write(price_history_decompressed.decode())\n",
    "\n",
    "            price_history_df = pd.read_csv(out_file_path, encoding=encoding, header=None)\n",
    "\n",
    "            price_history_df.columns = column_list\n",
    "            if 'time_stamp' in column_list:\n",
    "                price_history_df['date'] = price_history_df['time_stamp'].map(lambda x: pd.to_datetime(x, unit='s'))\n",
    "            else:\n",
    "                price_history_df['date'] = price_history_df['date'].map(lambda x: datetime.strptime(str(x).strip(), '%x'))\n",
    "            price_history_df['year'] = price_history_df['date'].map(lambda x: x.year)\n",
    "            price_history_df['month'] = price_history_df['date'].map(lambda x: x.month)\n",
    "            price_history_df['day'] = price_history_df['date'].map(lambda x: x.day)\n",
    "            price_history_df['week_day'] = price_history_df['date'].map(lambda x: x.weekday())\n",
    "            price_history_df['log_price'] = price_history_df['price'].map(lambda x: np.log(x))\n",
    "            price_history_df['log_diff'] = price_history_df.sort_values('date')['price'].diff()\n",
    "\n",
    "            match_series = (price_history_df['log_price'] <= 0)\n",
    "            price_history_df = price_history_df[~match_series]\n",
    "            \n",
    "            try:\n",
    "                price_history_df.to_pickle(pickle_path)\n",
    "            except Exception as e:\n",
    "                print(e, ': Couldn\\'t save ' + str(price_history_df.shape[0]*price_history_df.shape[1]) + ' cells as a pickle. Now saving as a csv.')\n",
    "                price_history_df.to_csv(csv_path, sep=',', encoding=encoding, index=False)\n",
    "                \n",
    "        else:\n",
    "            price_history_df = load_csv(frame_name, folder_path=saves_folder)\n",
    "            price_history_df['date'] = price_history_df['date'].map(lambda x: pd.to_datetime(x))\n",
    "            try:\n",
    "                price_history_df.to_pickle(pickle_path)\n",
    "            except Exception as e:\n",
    "                print(e, ': Couldn\\'t save ' + str(price_history_df.shape[0]*price_history_df.shape[1]) + ' cells as a pickle.')\n",
    "\n",
    "    else:\n",
    "        price_history_df = load_object(frame_name)\n",
    "    \n",
    "    return price_history_df"
   ]
  },
  {
   "cell_type": "code",
   "execution_count": 3,
   "metadata": {
    "scrolled": false
   },
   "outputs": [
    {
     "name": "stdout",
     "output_type": "stream",
     "text": [
      "../saves/csv/coinbaseUSD_df.csv\n",
      "[Errno 22] Invalid argument : Now saving as a csv.\n"
     ]
    },
    {
     "data": {
      "text/html": [
       "<div>\n",
       "<style>\n",
       "    .dataframe thead tr:only-child th {\n",
       "        text-align: right;\n",
       "    }\n",
       "\n",
       "    .dataframe thead th {\n",
       "        text-align: left;\n",
       "    }\n",
       "\n",
       "    .dataframe tbody tr th {\n",
       "        vertical-align: top;\n",
       "    }\n",
       "</style>\n",
       "<table border=\"1\" class=\"dataframe\">\n",
       "  <thead>\n",
       "    <tr style=\"text-align: right;\">\n",
       "      <th></th>\n",
       "      <th>time_stamp</th>\n",
       "      <th>price</th>\n",
       "      <th>idono</th>\n",
       "      <th>date</th>\n",
       "      <th>year</th>\n",
       "      <th>month</th>\n",
       "      <th>day</th>\n",
       "      <th>week_day</th>\n",
       "      <th>log_price</th>\n",
       "      <th>log_diff</th>\n",
       "    </tr>\n",
       "  </thead>\n",
       "  <tbody>\n",
       "    <tr>\n",
       "      <th>0</th>\n",
       "      <td>1417412036</td>\n",
       "      <td>300.0</td>\n",
       "      <td>0.010000</td>\n",
       "      <td>2014-12-01 05:33:56</td>\n",
       "      <td>2014</td>\n",
       "      <td>12</td>\n",
       "      <td>1</td>\n",
       "      <td>0</td>\n",
       "      <td>5.703782</td>\n",
       "      <td>NaN</td>\n",
       "    </tr>\n",
       "    <tr>\n",
       "      <th>1</th>\n",
       "      <td>1417412423</td>\n",
       "      <td>300.0</td>\n",
       "      <td>0.010000</td>\n",
       "      <td>2014-12-01 05:40:23</td>\n",
       "      <td>2014</td>\n",
       "      <td>12</td>\n",
       "      <td>1</td>\n",
       "      <td>0</td>\n",
       "      <td>5.703782</td>\n",
       "      <td>0.0</td>\n",
       "    </tr>\n",
       "    <tr>\n",
       "      <th>2</th>\n",
       "      <td>1417415048</td>\n",
       "      <td>370.0</td>\n",
       "      <td>0.010000</td>\n",
       "      <td>2014-12-01 06:24:08</td>\n",
       "      <td>2014</td>\n",
       "      <td>12</td>\n",
       "      <td>1</td>\n",
       "      <td>0</td>\n",
       "      <td>5.913503</td>\n",
       "      <td>70.0</td>\n",
       "    </tr>\n",
       "    <tr>\n",
       "      <th>3</th>\n",
       "      <td>1417416612</td>\n",
       "      <td>370.0</td>\n",
       "      <td>0.026556</td>\n",
       "      <td>2014-12-01 06:50:12</td>\n",
       "      <td>2014</td>\n",
       "      <td>12</td>\n",
       "      <td>1</td>\n",
       "      <td>0</td>\n",
       "      <td>5.913503</td>\n",
       "      <td>0.0</td>\n",
       "    </tr>\n",
       "    <tr>\n",
       "      <th>4</th>\n",
       "      <td>1417498166</td>\n",
       "      <td>377.0</td>\n",
       "      <td>0.010000</td>\n",
       "      <td>2014-12-02 05:29:26</td>\n",
       "      <td>2014</td>\n",
       "      <td>12</td>\n",
       "      <td>2</td>\n",
       "      <td>1</td>\n",
       "      <td>5.932245</td>\n",
       "      <td>7.0</td>\n",
       "    </tr>\n",
       "  </tbody>\n",
       "</table>\n",
       "</div>"
      ],
      "text/plain": [
       "   time_stamp  price     idono                date  year  month  day  \\\n",
       "0  1417412036  300.0  0.010000 2014-12-01 05:33:56  2014     12    1   \n",
       "1  1417412423  300.0  0.010000 2014-12-01 05:40:23  2014     12    1   \n",
       "2  1417415048  370.0  0.010000 2014-12-01 06:24:08  2014     12    1   \n",
       "3  1417416612  370.0  0.026556 2014-12-01 06:50:12  2014     12    1   \n",
       "4  1417498166  377.0  0.010000 2014-12-02 05:29:26  2014     12    2   \n",
       "\n",
       "   week_day  log_price  log_diff  \n",
       "0         0   5.703782       NaN  \n",
       "1         0   5.703782       0.0  \n",
       "2         0   5.913503      70.0  \n",
       "3         0   5.913503       0.0  \n",
       "4         1   5.932245       7.0  "
      ]
     },
     "execution_count": 3,
     "metadata": {},
     "output_type": "execute_result"
    }
   ],
   "source": [
    "\n",
    "# Validates with https://en.wikipedia.org/wiki/History_of_bitcoin\n",
    "price_history_url = 'http://api.bitcoincharts.com/v1/csv/coinbaseUSD.csv.gz'\n",
    "column_list = ['time_stamp', 'price', 'idono']\n",
    "coinbaseUSD_df = get_price_data('coinbaseUSD', price_history_url, column_list)\n",
    "coinbaseUSD_df.head()"
   ]
  },
  {
   "cell_type": "code",
   "execution_count": 6,
   "metadata": {},
   "outputs": [
    {
     "data": {
      "text/plain": [
       "time_stamp             1512614121\n",
       "price                     13968.7\n",
       "idono                    0.141945\n",
       "date          2017-12-07 02:35:21\n",
       "year                         2017\n",
       "month                          12\n",
       "day                             7\n",
       "week_day                        3\n",
       "log_price                 9.54458\n",
       "log_diff                    -1.22\n",
       "Name: 26285808, dtype: object"
      ]
     },
     "execution_count": 6,
     "metadata": {},
     "output_type": "execute_result"
    }
   ],
   "source": [
    "\n",
    "coinbaseUSD_df.loc[coinbaseUSD_df.shape[0]-1]"
   ]
  },
  {
   "cell_type": "markdown",
   "metadata": {},
   "source": [
    "\n",
    "## Buying Digital Currency\n",
    "\n",
    "Fees are added to the amount entered to arrive at the total for the order. For example, if you enter \\$100 USD as the amount of BTC to buy, and the fee is 1.49%, your total will be \\$101.49. That total will be charged to your payment method and you will receive \\$100 worth of BTC."
   ]
  },
  {
   "cell_type": "code",
   "execution_count": 7,
   "metadata": {},
   "outputs": [
    {
     "data": {
      "text/plain": [
       "dtype('<M8[ns]')"
      ]
     },
     "execution_count": 7,
     "metadata": {},
     "output_type": "execute_result"
    }
   ],
   "source": [
    "\n",
    "coinbaseUSD_df['date'].dtype"
   ]
  },
  {
   "cell_type": "code",
   "execution_count": 8,
   "metadata": {},
   "outputs": [],
   "source": [
    "\n",
    "groupby_list = ['year', 'month', 'day']\n",
    "monday_price_df = coinbaseUSD_df.groupby(groupby_list,\n",
    "                                         as_index=False).apply(lambda x: x.loc[[x.date.idxmax()]]).copy()\n",
    "match_series = (monday_price_df['week_day'] == 0)\n",
    "monday_price_df = monday_price_df[match_series].reset_index(drop=True)"
   ]
  },
  {
   "cell_type": "code",
   "execution_count": 9,
   "metadata": {},
   "outputs": [],
   "source": [
    "\n",
    "from datetime import datetime\n",
    "import pandas as pd\n",
    "\n",
    "trading_fee = 0.0149\n",
    "weekly_budget = 5.0\n",
    "latest_price = coinbaseUSD_df.loc[coinbaseUSD_df.shape[0]-1]['price']\n",
    "def total_saved(weekly_budget, format_result=True):\n",
    "    weekly_amount = weekly_budget - weekly_budget*trading_fee\n",
    "    column_list = ['date_time', 'shares_added']\n",
    "    rows_list = []\n",
    "    trading_date = datetime(monday_price_df.loc[0, 'year'].squeeze(),\n",
    "                            monday_price_df.loc[0, 'month'].squeeze(),\n",
    "                            monday_price_df.loc[0, 'day'].squeeze())\n",
    "    for row_index, row_series in monday_price_df.iterrows():\n",
    "        row_dict = {}\n",
    "        row_dict['date_time'] = row_series['date']\n",
    "        row_dict['shares_added'] = weekly_amount/row_series['price']\n",
    "        rows_list.append(row_dict)\n",
    "\n",
    "    weekly_amount_df = pd.DataFrame(rows_list, columns=column_list)\n",
    "    total_amount = weekly_amount_df['shares_added'].sum()*latest_price\n",
    "    if format_result:\n",
    "        total_amount = '${:,.2f}'.format(total_amount)\n",
    "    \n",
    "    return total_amount"
   ]
  },
  {
   "cell_type": "code",
   "execution_count": 10,
   "metadata": {},
   "outputs": [
    {
     "name": "stdout",
     "output_type": "stream",
     "text": [
      "$43,661.15\n"
     ]
    }
   ],
   "source": [
    "\n",
    "print(total_saved(10.))"
   ]
  },
  {
   "cell_type": "code",
   "execution_count": 11,
   "metadata": {},
   "outputs": [
    {
     "data": {
      "text/html": [
       "<table class=\"simpletable\">\n",
       "<caption>OLS Regression Results</caption>\n",
       "<tr>\n",
       "  <th>Dep. Variable:</th>        <td>log_price</td>    <th>  R-squared:         </th>  <td>   0.903</td>  \n",
       "</tr>\n",
       "<tr>\n",
       "  <th>Model:</th>                   <td>OLS</td>       <th>  Adj. R-squared:    </th>  <td>   0.903</td>  \n",
       "</tr>\n",
       "<tr>\n",
       "  <th>Method:</th>             <td>Least Squares</td>  <th>  F-statistic:       </th>  <td>2.443e+08</td> \n",
       "</tr>\n",
       "<tr>\n",
       "  <th>Date:</th>             <td>Sun, 10 Dec 2017</td> <th>  Prob (F-statistic):</th>   <td>  0.00</td>   \n",
       "</tr>\n",
       "<tr>\n",
       "  <th>Time:</th>                 <td>22:32:35</td>     <th>  Log-Likelihood:    </th> <td>-1.1949e+07</td>\n",
       "</tr>\n",
       "<tr>\n",
       "  <th>No. Observations:</th>     <td>26285809</td>     <th>  AIC:               </th>  <td>2.390e+07</td> \n",
       "</tr>\n",
       "<tr>\n",
       "  <th>Df Residuals:</th>         <td>26285807</td>     <th>  BIC:               </th>  <td>2.390e+07</td> \n",
       "</tr>\n",
       "<tr>\n",
       "  <th>Df Model:</th>              <td>     1</td>      <th>                     </th>      <td> </td>     \n",
       "</tr>\n",
       "<tr>\n",
       "  <th>Covariance Type:</th>      <td>nonrobust</td>    <th>                     </th>      <td> </td>     \n",
       "</tr>\n",
       "</table>\n",
       "<table class=\"simpletable\">\n",
       "<tr>\n",
       "       <td></td>         <th>coef</th>     <th>std err</th>      <th>t</th>      <th>P>|t|</th>  <th>[0.025</th>    <th>0.975]</th>  \n",
       "</tr>\n",
       "<tr>\n",
       "  <th>Intercept</th>  <td>  -55.1951</td> <td>    0.004</td> <td>-1.38e+04</td> <td> 0.000</td> <td>  -55.203</td> <td>  -55.187</td>\n",
       "</tr>\n",
       "<tr>\n",
       "  <th>time_stamp</th> <td> 4.214e-08</td> <td>  2.7e-12</td> <td> 1.56e+04</td> <td> 0.000</td> <td> 4.21e-08</td> <td> 4.21e-08</td>\n",
       "</tr>\n",
       "</table>\n",
       "<table class=\"simpletable\">\n",
       "<tr>\n",
       "  <th>Omnibus:</th>       <td>1145503.607</td> <th>  Durbin-Watson:     </th>  <td>   0.000</td> \n",
       "</tr>\n",
       "<tr>\n",
       "  <th>Prob(Omnibus):</th>   <td> 0.000</td>    <th>  Jarque-Bera (JB):  </th> <td>720583.634</td>\n",
       "</tr>\n",
       "<tr>\n",
       "  <th>Skew:</th>            <td> 0.277</td>    <th>  Prob(JB):          </th>  <td>    0.00</td> \n",
       "</tr>\n",
       "<tr>\n",
       "  <th>Kurtosis:</th>        <td> 2.407</td>    <th>  Cond. No.          </th>  <td>7.93e+10</td> \n",
       "</tr>\n",
       "</table>"
      ],
      "text/plain": [
       "<class 'statsmodels.iolib.summary.Summary'>\n",
       "\"\"\"\n",
       "                            OLS Regression Results                            \n",
       "==============================================================================\n",
       "Dep. Variable:              log_price   R-squared:                       0.903\n",
       "Model:                            OLS   Adj. R-squared:                  0.903\n",
       "Method:                 Least Squares   F-statistic:                 2.443e+08\n",
       "Date:                Sun, 10 Dec 2017   Prob (F-statistic):               0.00\n",
       "Time:                        22:32:35   Log-Likelihood:            -1.1949e+07\n",
       "No. Observations:            26285809   AIC:                         2.390e+07\n",
       "Df Residuals:                26285807   BIC:                         2.390e+07\n",
       "Df Model:                           1                                         \n",
       "Covariance Type:            nonrobust                                         \n",
       "==============================================================================\n",
       "                 coef    std err          t      P>|t|      [0.025      0.975]\n",
       "------------------------------------------------------------------------------\n",
       "Intercept    -55.1951      0.004  -1.38e+04      0.000     -55.203     -55.187\n",
       "time_stamp  4.214e-08    2.7e-12   1.56e+04      0.000    4.21e-08    4.21e-08\n",
       "==============================================================================\n",
       "Omnibus:                  1145503.607   Durbin-Watson:                   0.000\n",
       "Prob(Omnibus):                  0.000   Jarque-Bera (JB):           720583.634\n",
       "Skew:                           0.277   Prob(JB):                         0.00\n",
       "Kurtosis:                       2.407   Cond. No.                     7.93e+10\n",
       "==============================================================================\n",
       "\n",
       "Warnings:\n",
       "[1] Standard Errors assume that the covariance matrix of the errors is correctly specified.\n",
       "[2] The condition number is large, 7.93e+10. This might indicate that there are\n",
       "strong multicollinearity or other numerical problems.\n",
       "\"\"\""
      ]
     },
     "execution_count": 11,
     "metadata": {},
     "output_type": "execute_result"
    }
   ],
   "source": [
    "\n",
    "import statsmodels.formula.api as smf\n",
    "\n",
    "# Use ols function for calculating the F-statistic and associated p value\n",
    "price_history_ols = smf.ols(formula='log_price ~ time_stamp', data=coinbaseUSD_df)\n",
    "price_history_fitted = price_history_ols.fit()\n",
    "price_history_fitted.summary()"
   ]
  },
  {
   "cell_type": "code",
   "execution_count": 12,
   "metadata": {},
   "outputs": [],
   "source": [
    "\n",
    "params_series = price_history_fitted.params\n",
    "\n",
    "def date_when(amount):\n",
    "    time_stamp = (np.log(amount)-params_series.loc['Intercept'])/params_series.loc['time_stamp']\n",
    "    date_time = pd.to_datetime(time_stamp, unit='s')\n",
    "    \n",
    "    return date_time.strftime('%Y-%m-%d')"
   ]
  },
  {
   "cell_type": "code",
   "execution_count": 13,
   "metadata": {},
   "outputs": [
    {
     "data": {
      "text/plain": [
       "'2020-03-25'"
      ]
     },
     "execution_count": 13,
     "metadata": {},
     "output_type": "execute_result"
    }
   ],
   "source": [
    "\n",
    "date_when(110000)"
   ]
  },
  {
   "cell_type": "code",
   "execution_count": 14,
   "metadata": {},
   "outputs": [
    {
     "data": {
      "image/png": "[encoded data removed]",
      "text/plain": [
       "<matplotlib.figure.Figure at 0x127269438>"
      ]
     },
     "metadata": {},
     "output_type": "display_data"
    }
   ],
   "source": [
    "\n",
    "%matplotlib inline\n",
    "\n",
    "axes_sub_plot = coinbaseUSD_df.plot(x='date', y='price', kind='line', figsize=(15, 5), logy=True)"
   ]
  },
  {
   "cell_type": "code",
   "execution_count": 15,
   "metadata": {},
   "outputs": [
    {
     "data": {
      "text/plain": [
       "[]"
      ]
     },
     "execution_count": 15,
     "metadata": {},
     "output_type": "execute_result"
    }
   ],
   "source": [
    "\n",
    "# How do you add a second line to the plot?\n",
    "axes_sub_plot.plot(x=coinbaseUSD_df['date'], y=np.exp(params_series.loc['Intercept']+coinbaseUSD_df['log_price']*params_series.loc['time_stamp']),\n",
    "                   kind='line', figsize=(15, 5), logy=True)"
   ]
  },
  {
   "cell_type": "code",
   "execution_count": 16,
   "metadata": {},
   "outputs": [
    {
     "data": {
      "text/plain": [
       "Timestamp('2014-12-01 05:33:56')"
      ]
     },
     "execution_count": 16,
     "metadata": {},
     "output_type": "execute_result"
    }
   ],
   "source": [
    "\n",
    "coinbaseUSD_df.loc[0, 'date']"
   ]
  },
  {
   "cell_type": "code",
   "execution_count": 17,
   "metadata": {},
   "outputs": [
    {
     "data": {
      "image/png": "[encoded data removed]",
      "text/plain": [
       "<matplotlib.figure.Figure at 0x13b10cd68>"
      ]
     },
     "metadata": {},
     "output_type": "display_data"
    }
   ],
   "source": [
    "\n",
    "column_list = ['amount_per_week', 'total_saved']\n",
    "amount_per_week = range(0, 500)\n",
    "amount_saved = [total_saved(amount, format_result=False) for amount in amount_per_week]\n",
    "rows_list = [dict(zip(column_list, [w, s])) for w, s in zip(amount_per_week, amount_saved)]\n",
    "weekly_amount_df = pd.DataFrame(rows_list, columns=column_list)\n",
    "axes_sub_plot = weekly_amount_df.plot(x='amount_per_week', y='total_saved', kind='line', figsize=(15, 5), logy=False)"
   ]
  },
  {
   "cell_type": "code",
   "execution_count": 18,
   "metadata": {},
   "outputs": [
    {
     "data": {
      "text/html": [
       "<div>\n",
       "<style>\n",
       "    .dataframe thead tr:only-child th {\n",
       "        text-align: right;\n",
       "    }\n",
       "\n",
       "    .dataframe thead th {\n",
       "        text-align: left;\n",
       "    }\n",
       "\n",
       "    .dataframe tbody tr th {\n",
       "        vertical-align: top;\n",
       "    }\n",
       "</style>\n",
       "<table border=\"1\" class=\"dataframe\">\n",
       "  <thead>\n",
       "    <tr style=\"text-align: right;\">\n",
       "      <th></th>\n",
       "      <th>date</th>\n",
       "      <th>close</th>\n",
       "      <th>volume</th>\n",
       "      <th>price</th>\n",
       "      <th>high</th>\n",
       "      <th>low</th>\n",
       "      <th>year</th>\n",
       "      <th>month</th>\n",
       "      <th>day</th>\n",
       "      <th>week_day</th>\n",
       "      <th>log_price</th>\n",
       "      <th>log_diff</th>\n",
       "    </tr>\n",
       "  </thead>\n",
       "  <tbody>\n",
       "    <tr>\n",
       "      <th>0</th>\n",
       "      <td>2017-12-07</td>\n",
       "      <td>96.78</td>\n",
       "      <td>7498316</td>\n",
       "      <td>97.06</td>\n",
       "      <td>97.58</td>\n",
       "      <td>96.6500</td>\n",
       "      <td>2017</td>\n",
       "      <td>12</td>\n",
       "      <td>7</td>\n",
       "      <td>3</td>\n",
       "      <td>4.575329</td>\n",
       "      <td>NaN</td>\n",
       "    </tr>\n",
       "    <tr>\n",
       "      <th>1</th>\n",
       "      <td>2017-12-06</td>\n",
       "      <td>97.28</td>\n",
       "      <td>7138716</td>\n",
       "      <td>97.99</td>\n",
       "      <td>98.14</td>\n",
       "      <td>97.2401</td>\n",
       "      <td>2017</td>\n",
       "      <td>12</td>\n",
       "      <td>6</td>\n",
       "      <td>2</td>\n",
       "      <td>4.584865</td>\n",
       "      <td>0.93</td>\n",
       "    </tr>\n",
       "    <tr>\n",
       "      <th>2</th>\n",
       "      <td>2017-12-05</td>\n",
       "      <td>97.83</td>\n",
       "      <td>9009041</td>\n",
       "      <td>97.00</td>\n",
       "      <td>97.94</td>\n",
       "      <td>96.9200</td>\n",
       "      <td>2017</td>\n",
       "      <td>12</td>\n",
       "      <td>5</td>\n",
       "      <td>1</td>\n",
       "      <td>4.574711</td>\n",
       "      <td>-0.99</td>\n",
       "    </tr>\n",
       "    <tr>\n",
       "      <th>3</th>\n",
       "      <td>2017-12-04</td>\n",
       "      <td>97.01</td>\n",
       "      <td>8954996</td>\n",
       "      <td>97.73</td>\n",
       "      <td>97.96</td>\n",
       "      <td>96.6750</td>\n",
       "      <td>2017</td>\n",
       "      <td>12</td>\n",
       "      <td>4</td>\n",
       "      <td>0</td>\n",
       "      <td>4.582209</td>\n",
       "      <td>0.73</td>\n",
       "    </tr>\n",
       "    <tr>\n",
       "      <th>4</th>\n",
       "      <td>2017-12-01</td>\n",
       "      <td>97.35</td>\n",
       "      <td>8295610</td>\n",
       "      <td>97.61</td>\n",
       "      <td>97.71</td>\n",
       "      <td>96.2300</td>\n",
       "      <td>2017</td>\n",
       "      <td>12</td>\n",
       "      <td>1</td>\n",
       "      <td>4</td>\n",
       "      <td>4.580980</td>\n",
       "      <td>-0.12</td>\n",
       "    </tr>\n",
       "  </tbody>\n",
       "</table>\n",
       "</div>"
      ],
      "text/plain": [
       "        date  close   volume  price   high      low  year  month  day  \\\n",
       "0 2017-12-07  96.78  7498316  97.06  97.58  96.6500  2017     12    7   \n",
       "1 2017-12-06  97.28  7138716  97.99  98.14  97.2401  2017     12    6   \n",
       "2 2017-12-05  97.83  9009041  97.00  97.94  96.9200  2017     12    5   \n",
       "3 2017-12-04  97.01  8954996  97.73  97.96  96.6750  2017     12    4   \n",
       "4 2017-12-01  97.35  8295610  97.61  97.71  96.2300  2017     12    1   \n",
       "\n",
       "   week_day  log_price  log_diff  \n",
       "0         3   4.575329       NaN  \n",
       "1         2   4.584865      0.93  \n",
       "2         1   4.574711     -0.99  \n",
       "3         0   4.582209      0.73  \n",
       "4         4   4.580980     -0.12  "
      ]
     },
     "execution_count": 18,
     "metadata": {},
     "output_type": "execute_result"
    }
   ],
   "source": [
    "\n",
    "price_history_url = None\n",
    "column_list = ['date', 'close', 'volume', 'price', 'high', 'low']\n",
    "WMT_df = get_price_data('WMT', price_history_url, column_list)\n",
    "WMT_df.head()"
   ]
  },
  {
   "cell_type": "code",
   "execution_count": 19,
   "metadata": {},
   "outputs": [
    {
     "data": {
      "text/plain": [
       "2.9770707105243166"
      ]
     },
     "execution_count": 19,
     "metadata": {},
     "output_type": "execute_result"
    }
   ],
   "source": [
    "\n",
    "coinbaseUSD_df['log_diff'].std()"
   ]
  },
  {
   "cell_type": "code",
   "execution_count": 20,
   "metadata": {},
   "outputs": [
    {
     "data": {
      "text/plain": [
       "0.8821374138179162"
      ]
     },
     "execution_count": 20,
     "metadata": {},
     "output_type": "execute_result"
    }
   ],
   "source": [
    "\n",
    "match_series = (WMT_df['date'] < coinbaseUSD_df.loc[0, 'date'])\n",
    "WMT_df[~match_series]['log_diff'].std()"
   ]
  },
  {
   "cell_type": "code",
   "execution_count": 21,
   "metadata": {},
   "outputs": [
    {
     "data": {
      "text/plain": [
       "(26285809, 10)"
      ]
     },
     "execution_count": 21,
     "metadata": {},
     "output_type": "execute_result"
    }
   ],
   "source": [
    "\n",
    "coinbaseUSD_df.shape"
   ]
  },
  {
   "cell_type": "code",
   "execution_count": 25,
   "metadata": {},
   "outputs": [
    {
     "data": {
      "text/html": [
       "<div>\n",
       "<style>\n",
       "    .dataframe thead tr:only-child th {\n",
       "        text-align: right;\n",
       "    }\n",
       "\n",
       "    .dataframe thead th {\n",
       "        text-align: left;\n",
       "    }\n",
       "\n",
       "    .dataframe tbody tr th {\n",
       "        vertical-align: top;\n",
       "    }\n",
       "</style>\n",
       "<table border=\"1\" class=\"dataframe\">\n",
       "  <thead>\n",
       "    <tr style=\"text-align: right;\">\n",
       "      <th></th>\n",
       "      <th>date</th>\n",
       "      <th>price</th>\n",
       "      <th>year</th>\n",
       "      <th>month</th>\n",
       "      <th>day</th>\n",
       "      <th>week_day</th>\n",
       "      <th>log_price</th>\n",
       "      <th>log_diff</th>\n",
       "    </tr>\n",
       "  </thead>\n",
       "  <tbody>\n",
       "    <tr>\n",
       "      <th>21</th>\n",
       "      <td>2016-03-01</td>\n",
       "      <td>2021.95</td>\n",
       "      <td>2016</td>\n",
       "      <td>3</td>\n",
       "      <td>1</td>\n",
       "      <td>1</td>\n",
       "      <td>7.611818</td>\n",
       "      <td>117.53</td>\n",
       "    </tr>\n",
       "    <tr>\n",
       "      <th>12</th>\n",
       "      <td>2016-12-01</td>\n",
       "      <td>2246.63</td>\n",
       "      <td>2016</td>\n",
       "      <td>12</td>\n",
       "      <td>1</td>\n",
       "      <td>3</td>\n",
       "      <td>7.717187</td>\n",
       "      <td>81.64</td>\n",
       "    </tr>\n",
       "    <tr>\n",
       "      <th>26</th>\n",
       "      <td>2015-10-01</td>\n",
       "      <td>2024.81</td>\n",
       "      <td>2015</td>\n",
       "      <td>10</td>\n",
       "      <td>1</td>\n",
       "      <td>3</td>\n",
       "      <td>7.613231</td>\n",
       "      <td>80.40</td>\n",
       "    </tr>\n",
       "    <tr>\n",
       "      <th>17</th>\n",
       "      <td>2016-07-01</td>\n",
       "      <td>2148.90</td>\n",
       "      <td>2016</td>\n",
       "      <td>7</td>\n",
       "      <td>1</td>\n",
       "      <td>4</td>\n",
       "      <td>7.672711</td>\n",
       "      <td>65.01</td>\n",
       "    </tr>\n",
       "    <tr>\n",
       "      <th>1</th>\n",
       "      <td>2017-11-01</td>\n",
       "      <td>2579.36</td>\n",
       "      <td>2017</td>\n",
       "      <td>11</td>\n",
       "      <td>1</td>\n",
       "      <td>2</td>\n",
       "      <td>7.855297</td>\n",
       "      <td>58.16</td>\n",
       "    </tr>\n",
       "  </tbody>\n",
       "</table>\n",
       "</div>"
      ],
      "text/plain": [
       "         date    price  year  month  day  week_day  log_price  log_diff\n",
       "21 2016-03-01  2021.95  2016      3    1         1   7.611818    117.53\n",
       "12 2016-12-01  2246.63  2016     12    1         3   7.717187     81.64\n",
       "26 2015-10-01  2024.81  2015     10    1         3   7.613231     80.40\n",
       "17 2016-07-01  2148.90  2016      7    1         4   7.672711     65.01\n",
       "1  2017-11-01  2579.36  2017     11    1         2   7.855297     58.16"
      ]
     },
     "execution_count": 25,
     "metadata": {},
     "output_type": "execute_result"
    }
   ],
   "source": [
    "\n",
    "SaP_df = pd.read_html(data_folder + 'html/S_and_P_500_by_month.html')[0]\n",
    "SaP_df.columns = ['date', 'price']\n",
    "SaP_df = SaP_df.reindex(SaP_df.index.drop(0))\n",
    "SaP_df['date'] = SaP_df['date'].map(lambda x: pd.to_datetime(x.strip()))\n",
    "match_series = (SaP_df['date'] < coinbaseUSD_df.loc[0, 'date'])\n",
    "SaP_df = SaP_df[~match_series]\n",
    "SaP_df['price'] = SaP_df['price'].map(lambda x: float(x))\n",
    "SaP_df['year'] = SaP_df['date'].map(lambda x: x.year)\n",
    "SaP_df['month'] = SaP_df['date'].map(lambda x: x.month)\n",
    "SaP_df['day'] = SaP_df['date'].map(lambda x: x.day)\n",
    "SaP_df['week_day'] = SaP_df['date'].map(lambda x: x.weekday())\n",
    "SaP_df['log_price'] = SaP_df['price'].map(lambda x: np.log(x))\n",
    "SaP_df['log_diff'] = SaP_df.sort_values('date')['price'].diff()\n",
    "SaP_df.sort_values('log_diff', ascending=False).head()"
   ]
  },
  {
   "cell_type": "code",
   "execution_count": 26,
   "metadata": {},
   "outputs": [
    {
     "data": {
      "text/plain": [
       "49.38312217903735"
      ]
     },
     "execution_count": 26,
     "metadata": {},
     "output_type": "execute_result"
    }
   ],
   "source": [
    "\n",
    "# Why is the S&P 500 volatility so much greater than Coinbase?\n",
    "match_series = (SaP_df['date'] < coinbaseUSD_df.loc[0, 'date'])\n",
    "SaP_df[~match_series]['log_diff'].std()"
   ]
  },
  {
   "cell_type": "code",
   "execution_count": 27,
   "metadata": {},
   "outputs": [],
   "source": [
    "\n",
    "# From https://www.investopedia.com/ask/answers/021015/what-best-measure-given-stocks-volatility.asp"
   ]
  },
  {
   "cell_type": "markdown",
   "metadata": {},
   "source": [
    "\n",
    "When selecting a security for investment, traders look at its historical volatility to help determine the relative risk of a potential trade. There are numerous metrics that measure volatility in differing contexts, and each trader has favorites. Regardless of which metric you utilize, a firm understanding of the concept of volatility and how it is measured is essential to successful investing. Simply put, volatility is a reflection of the degree to which price moves. A stock with a price that fluctuates wildly, hits new highs and lows or moves erratically is considered highly volatile. A stock that maintains a relatively stable price has low volatility. A highly volatile stock is inherently riskier, but that risk cuts both ways. When investing in a volatile security, the risk of success is increased just as much as the risk of failure. For this reason, many traders with a high risk tolerance look to multiple measures of volatility to help inform their trade strategies.\n",
    "\n",
    "The primary measure of volatility used by traders and analysts is standard deviation. This metric reflects the average amount a stock's price has differed from the mean over a period of time. It is calculated by determining the mean price for the established period and then subtracting this figure from each price point. The differences are then squared, summed and averaged to produce the variance. Because the variance is the product of squares, it is no longer in the original unit of measure. Since price is measured in dollars, a metric that uses dollars squared is not very easy to interpret. Therefore, standard deviation is calculated by taking the square root of the variance, which brings it back to the same unit of measure as the underlying data set.\n",
    "\n",
    "Chartists use a technical indicator called Bollinger Bands to analyze standard deviation over time. Bollinger Bands are comprised of three lines: the simple moving average (SMA) and two bands placed one standard deviation above and below the SMA. The SMA is a moving average that changes with each session to incorporate that day's changes, and the outer bands mirror that change to reflect the corresponding adjustment to the standard deviation. Standard deviation is reflected by the width of the Bollinger Bands. The wider the Bollinger Bands, the more volatile a stock's price within the given period. A stock with low volatility has very narrow Bollinger Bands that sit close to the SMA.\n",
    "\n",
    "For a more comprehensive assessment of risk, measure multiple forms of volatility. Where standard deviation measures a security's price movements compared to its average over time, beta measures a security's volatility relative to that of the wider market. A beta of 1 means the security has volatility that mirrors the degree and direction of the market as a whole. This means that if the S&P 500 takes a sharp dip, the stock in question is likely to follow suit. Relatively stable securities, such as utilities, have beta values of less than 1, reflecting their lower volatility. Stocks in rapidly changing fields, especially in the technology sector, have beta values of more than 1. A beta of 0 indicates the underlying security has no volatility. Cash is an excellent example, if no inflation is assumed."
   ]
  },
  {
   "cell_type": "code",
   "execution_count": null,
   "metadata": {},
   "outputs": [],
   "source": []
  }
 ],
 "metadata": {
  "anaconda-cloud": {},
  "kernelspec": {
   "display_name": "Python 3",
   "language": "python",
   "name": "python3"
  },
  "language_info": {
   "codemirror_mode": {
    "name": "ipython",
    "version": 3
   },
   "file_extension": ".py",
   "mimetype": "text/x-python",
   "name": "python",
   "nbconvert_exporter": "python",
   "pygments_lexer": "ipython3",
   "version": "3.5.4"
  }
 },
 "nbformat": 4,
 "nbformat_minor": 2
}
