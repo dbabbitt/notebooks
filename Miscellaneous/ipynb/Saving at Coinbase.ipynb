{
 "cells": [
  {
   "cell_type": "code",
   "execution_count": 1,
   "metadata": {},
   "outputs": [
    {
     "name": "stdout",
     "output_type": "stream",
     "text": [
      "mkdir: ../data: File exists\n",
      "mkdir: ../data/csv: File exists\n",
      "mkdir: ../saves: File exists\n",
      "mkdir: ../saves/pickle: File exists\n",
      "mkdir: ../saves/csv: File exists\n"
     ]
    }
   ],
   "source": [
    "# %load ../load_magic/storage.py\n",
    "\n",
    "!mkdir ../data\n",
    "!mkdir ../data/csv\n",
    "!mkdir ../saves\n",
    "!mkdir ../saves/pickle\n",
    "!mkdir ../saves/csv\n",
    "import pickle\n",
    "import pandas as pd\n",
    "import os\n",
    "\n",
    "# Handy list of the different types of encodings\n",
    "encoding = ['latin1', 'iso8859-1', 'utf-8'][2]\n",
    "\n",
    "# Change this to your data and saves folders\n",
    "data_folder = r'../data/'\n",
    "saves_folder = r'../saves/'\n",
    "\n",
    "def load_csv(csv_name=None):\n",
    "    csv_folder = data_folder + 'csv/'\n",
    "    if csv_name is None:\n",
    "        csv_path = max([os.path.join(csv_folder, f) for f in os.listdir(csv_folder)],\n",
    "                       key=os.path.getmtime)\n",
    "    else:\n",
    "        csv_path = csv_folder + csv_name + '.csv'\n",
    "    data_frame = pd.read_csv(csv_path, encoding=encoding)\n",
    "    \n",
    "    return(data_frame)\n",
    "\n",
    "def load_object(obj_name):\n",
    "    pickle_path = saves_folder + 'pickle/' + obj_name + '.pickle'\n",
    "    try:\n",
    "        object = pd.read_pickle(pickle_path)\n",
    "    except:\n",
    "        with open(pickle_path, 'rb') as handle:\n",
    "            object = pickle.load(handle)\n",
    "    \n",
    "    return(object)\n",
    "\n",
    "def save_dataframes(include_index=False, **kwargs):\n",
    "    csv_folder = saves_folder + 'csv/'\n",
    "    for frame_name in kwargs:\n",
    "        if isinstance(kwargs[frame_name], pd.DataFrame):\n",
    "            csv_path = csv_folder + frame_name + '.csv'\n",
    "            kwargs[frame_name].to_csv(csv_path, sep=',', encoding=encoding,\n",
    "                                      index=include_index)\n",
    "\n",
    "# Classes, functions, and methods cannot be pickled\n",
    "def store_objects(**kwargs):\n",
    "    for obj_name in kwargs:\n",
    "        if hasattr(kwargs[obj_name], '__call__'):\n",
    "            raise RuntimeError('Functions cannot be pickled.')\n",
    "        obj_path = saves_folder + 'pickle/' + str(obj_name)\n",
    "        pickle_path = obj_path + '.pickle'\n",
    "        if isinstance(kwargs[obj_name], pd.DataFrame):\n",
    "            kwargs[obj_name].to_pickle(pickle_path)\n",
    "        else:\n",
    "            with open(pickle_path, 'wb') as handle:\n",
    "                pickle.dump(kwargs[obj_name], handle, pickle.HIGHEST_PROTOCOL)"
   ]
  },
  {
   "cell_type": "code",
   "execution_count": 113,
   "metadata": {},
   "outputs": [],
   "source": [
    "\n",
    "# Download CoinBase prices\n",
    "from urllib.request import urlretrieve\n",
    "from gzip import GzipFile\n",
    "import os\n",
    "\n",
    "# http://api.bitcoincharts.com/v1/csv/\n",
    "out_file_path = data_folder + 'csv/coinbaseUSD.csv'\n",
    "if not os.path.isfile(out_file_path):\n",
    "    price_history_url = 'http://api.bitcoincharts.com/v1/csv/coinbaseUSD.csv.gz'\n",
    "    local_filename, headers = urlretrieve(price_history_url)\n",
    "    with gzip.open(local_filename, 'rb') as f:\n",
    "        price_history_decompressed = f.read()\n",
    "    with open(out_file_path, 'w') as output:\n",
    "        size = output.write(price_history_decompressed.decode())"
   ]
  },
  {
   "cell_type": "code",
   "execution_count": 121,
   "metadata": {
    "scrolled": true
   },
   "outputs": [],
   "source": [
    "\n",
    "price_history_df = pd.read_csv(out_file_path, encoding=encoding, header=None)"
   ]
  },
  {
   "cell_type": "code",
   "execution_count": 122,
   "metadata": {},
   "outputs": [],
   "source": [
    "\n",
    "import numpy as np\n",
    "\n",
    "price_history_df.columns = ['time_stamp', 'price', 'idono']\n",
    "price_history_df['date'] = price_history_df['time_stamp'].map(lambda x: pd.to_datetime(x, unit='s'))\n",
    "price_history_df['year'] = price_history_df['date'].map(lambda x: x.year)\n",
    "price_history_df['month'] = price_history_df['date'].map(lambda x: x.month)\n",
    "price_history_df['day'] = price_history_df['date'].map(lambda x: x.day)\n",
    "price_history_df['week_day'] = price_history_df['date'].map(lambda x: x.weekday())\n",
    "price_history_df['log_price'] = price_history_df['price'].map(lambda x: np.log(x))"
   ]
  },
  {
   "cell_type": "code",
   "execution_count": 123,
   "metadata": {},
   "outputs": [
    {
     "data": {
      "text/html": [
       "<div>\n",
       "<style>\n",
       "    .dataframe thead tr:only-child th {\n",
       "        text-align: right;\n",
       "    }\n",
       "\n",
       "    .dataframe thead th {\n",
       "        text-align: left;\n",
       "    }\n",
       "\n",
       "    .dataframe tbody tr th {\n",
       "        vertical-align: top;\n",
       "    }\n",
       "</style>\n",
       "<table border=\"1\" class=\"dataframe\">\n",
       "  <thead>\n",
       "    <tr style=\"text-align: right;\">\n",
       "      <th></th>\n",
       "      <th>time_stamp</th>\n",
       "      <th>price</th>\n",
       "      <th>idono</th>\n",
       "      <th>date</th>\n",
       "    </tr>\n",
       "  </thead>\n",
       "  <tbody>\n",
       "    <tr>\n",
       "      <th>0</th>\n",
       "      <td>1417412036</td>\n",
       "      <td>300.0</td>\n",
       "      <td>0.010000</td>\n",
       "      <td>2014-12-01 05:33:56</td>\n",
       "    </tr>\n",
       "    <tr>\n",
       "      <th>1</th>\n",
       "      <td>1417412423</td>\n",
       "      <td>300.0</td>\n",
       "      <td>0.010000</td>\n",
       "      <td>2014-12-01 05:40:23</td>\n",
       "    </tr>\n",
       "    <tr>\n",
       "      <th>2</th>\n",
       "      <td>1417415048</td>\n",
       "      <td>370.0</td>\n",
       "      <td>0.010000</td>\n",
       "      <td>2014-12-01 06:24:08</td>\n",
       "    </tr>\n",
       "    <tr>\n",
       "      <th>3</th>\n",
       "      <td>1417416612</td>\n",
       "      <td>370.0</td>\n",
       "      <td>0.026556</td>\n",
       "      <td>2014-12-01 06:50:12</td>\n",
       "    </tr>\n",
       "    <tr>\n",
       "      <th>4</th>\n",
       "      <td>1417498166</td>\n",
       "      <td>377.0</td>\n",
       "      <td>0.010000</td>\n",
       "      <td>2014-12-02 05:29:26</td>\n",
       "    </tr>\n",
       "  </tbody>\n",
       "</table>\n",
       "</div>"
      ],
      "text/plain": [
       "   time_stamp  price     idono                date\n",
       "0  1417412036  300.0  0.010000 2014-12-01 05:33:56\n",
       "1  1417412423  300.0  0.010000 2014-12-01 05:40:23\n",
       "2  1417415048  370.0  0.010000 2014-12-01 06:24:08\n",
       "3  1417416612  370.0  0.026556 2014-12-01 06:50:12\n",
       "4  1417498166  377.0  0.010000 2014-12-02 05:29:26"
      ]
     },
     "execution_count": 123,
     "metadata": {},
     "output_type": "execute_result"
    }
   ],
   "source": [
    "\n",
    "# Validates with https://en.wikipedia.org/wiki/History_of_bitcoin\n",
    "price_history_df.head()"
   ]
  },
  {
   "cell_type": "code",
   "execution_count": 124,
   "metadata": {},
   "outputs": [
    {
     "data": {
      "text/plain": [
       "time_stamp             1512614121\n",
       "price                     13968.7\n",
       "idono                    0.158102\n",
       "date          2017-12-07 02:35:21\n",
       "Name: 26285810, dtype: object"
      ]
     },
     "execution_count": 124,
     "metadata": {},
     "output_type": "execute_result"
    }
   ],
   "source": [
    "\n",
    "price_history_df.loc[price_history_df.shape[0]-1]"
   ]
  },
  {
   "cell_type": "markdown",
   "metadata": {},
   "source": [
    "\n",
    "## Buying Digital Currency\n",
    "\n",
    "Fees are added to the amount entered to arrive at the total for the order. For example, if you enter \\$100 USD as the amount of BTC to buy, and the fee is 1.49%, your total will be \\$101.49. That total will be charged to your payment method and you will receive \\$100 worth of BTC."
   ]
  },
  {
   "cell_type": "code",
   "execution_count": 126,
   "metadata": {},
   "outputs": [],
   "source": [
    "\n",
    "match_series = (price_history_df['log_price'] <= 0)\n",
    "price_history_df = price_history_df[~match_series]"
   ]
  },
  {
   "cell_type": "code",
   "execution_count": 127,
   "metadata": {},
   "outputs": [],
   "source": [
    "\n",
    "store_objects(price_history_df=price_history_df)"
   ]
  },
  {
   "cell_type": "code",
   "execution_count": 128,
   "metadata": {},
   "outputs": [],
   "source": [
    "\n",
    "groupby_list = ['year', 'month', 'day']\n",
    "monday_price_df = price_history_df.groupby(groupby_list,\n",
    "                                           as_index=False).apply(lambda x: x.loc[[x.date.idxmax()]]).copy()\n",
    "match_series = (monday_price_df['week_day'] == 0)\n",
    "monday_price_df = monday_price_df[match_series].reset_index(drop=True)"
   ]
  },
  {
   "cell_type": "code",
   "execution_count": 129,
   "metadata": {},
   "outputs": [],
   "source": [
    "\n",
    "from datetime import datetime\n",
    "import pandas as pd\n",
    "\n",
    "trading_fee = 0.0149\n",
    "weekly_budget = 5.0\n",
    "latest_price = price_history_df.loc[price_history_df.shape[0]-1]['price']\n",
    "def total_saved(weekly_budget, format_result=True):\n",
    "    weekly_amount = weekly_budget - weekly_budget*trading_fee\n",
    "    column_list = ['date_time', 'shares_added']\n",
    "    rows_list = []\n",
    "    trading_date = datetime(monday_price_df.loc[0, 'year'].squeeze(),\n",
    "                            monday_price_df.loc[0, 'month'].squeeze(),\n",
    "                            monday_price_df.loc[0, 'day'].squeeze())\n",
    "    for row_index, row_series in monday_price_df.iterrows():\n",
    "        row_dict = {}\n",
    "        row_dict['date_time'] = row_series['date']\n",
    "        row_dict['shares_added'] = weekly_amount/row_series['price']\n",
    "        rows_list.append(row_dict)\n",
    "\n",
    "    weekly_amount_df = pd.DataFrame(rows_list, columns=column_list)\n",
    "    total_amount = weekly_amount_df['shares_added'].sum()*latest_price\n",
    "    if format_result:\n",
    "        total_amount = '${:,.2f}'.format(total_amount)\n",
    "    \n",
    "    return total_amount"
   ]
  },
  {
   "cell_type": "code",
   "execution_count": 130,
   "metadata": {},
   "outputs": [
    {
     "name": "stdout",
     "output_type": "stream",
     "text": [
      "$43,661.15\n"
     ]
    }
   ],
   "source": [
    "\n",
    "print(total_saved(10.))"
   ]
  },
  {
   "cell_type": "code",
   "execution_count": 131,
   "metadata": {},
   "outputs": [
    {
     "data": {
      "text/html": [
       "<table class=\"simpletable\">\n",
       "<caption>OLS Regression Results</caption>\n",
       "<tr>\n",
       "  <th>Dep. Variable:</th>        <td>log_price</td>    <th>  R-squared:         </th>  <td>   0.903</td>  \n",
       "</tr>\n",
       "<tr>\n",
       "  <th>Model:</th>                   <td>OLS</td>       <th>  Adj. R-squared:    </th>  <td>   0.903</td>  \n",
       "</tr>\n",
       "<tr>\n",
       "  <th>Method:</th>             <td>Least Squares</td>  <th>  F-statistic:       </th>  <td>2.443e+08</td> \n",
       "</tr>\n",
       "<tr>\n",
       "  <th>Date:</th>             <td>Thu, 07 Dec 2017</td> <th>  Prob (F-statistic):</th>   <td>  0.00</td>   \n",
       "</tr>\n",
       "<tr>\n",
       "  <th>Time:</th>                 <td>14:10:55</td>     <th>  Log-Likelihood:    </th> <td>-1.1949e+07</td>\n",
       "</tr>\n",
       "<tr>\n",
       "  <th>No. Observations:</th>     <td>26285809</td>     <th>  AIC:               </th>  <td>2.390e+07</td> \n",
       "</tr>\n",
       "<tr>\n",
       "  <th>Df Residuals:</th>         <td>26285807</td>     <th>  BIC:               </th>  <td>2.390e+07</td> \n",
       "</tr>\n",
       "<tr>\n",
       "  <th>Df Model:</th>              <td>     1</td>      <th>                     </th>      <td> </td>     \n",
       "</tr>\n",
       "<tr>\n",
       "  <th>Covariance Type:</th>      <td>nonrobust</td>    <th>                     </th>      <td> </td>     \n",
       "</tr>\n",
       "</table>\n",
       "<table class=\"simpletable\">\n",
       "<tr>\n",
       "       <td></td>         <th>coef</th>     <th>std err</th>      <th>t</th>      <th>P>|t|</th>  <th>[0.025</th>    <th>0.975]</th>  \n",
       "</tr>\n",
       "<tr>\n",
       "  <th>Intercept</th>  <td>  -55.1951</td> <td>    0.004</td> <td>-1.38e+04</td> <td> 0.000</td> <td>  -55.203</td> <td>  -55.187</td>\n",
       "</tr>\n",
       "<tr>\n",
       "  <th>time_stamp</th> <td> 4.214e-08</td> <td>  2.7e-12</td> <td> 1.56e+04</td> <td> 0.000</td> <td> 4.21e-08</td> <td> 4.21e-08</td>\n",
       "</tr>\n",
       "</table>\n",
       "<table class=\"simpletable\">\n",
       "<tr>\n",
       "  <th>Omnibus:</th>       <td>1145503.607</td> <th>  Durbin-Watson:     </th>  <td>   0.000</td> \n",
       "</tr>\n",
       "<tr>\n",
       "  <th>Prob(Omnibus):</th>   <td> 0.000</td>    <th>  Jarque-Bera (JB):  </th> <td>720583.634</td>\n",
       "</tr>\n",
       "<tr>\n",
       "  <th>Skew:</th>            <td> 0.277</td>    <th>  Prob(JB):          </th>  <td>    0.00</td> \n",
       "</tr>\n",
       "<tr>\n",
       "  <th>Kurtosis:</th>        <td> 2.407</td>    <th>  Cond. No.          </th>  <td>7.93e+10</td> \n",
       "</tr>\n",
       "</table>"
      ],
      "text/plain": [
       "<class 'statsmodels.iolib.summary.Summary'>\n",
       "\"\"\"\n",
       "                            OLS Regression Results                            \n",
       "==============================================================================\n",
       "Dep. Variable:              log_price   R-squared:                       0.903\n",
       "Model:                            OLS   Adj. R-squared:                  0.903\n",
       "Method:                 Least Squares   F-statistic:                 2.443e+08\n",
       "Date:                Thu, 07 Dec 2017   Prob (F-statistic):               0.00\n",
       "Time:                        14:10:55   Log-Likelihood:            -1.1949e+07\n",
       "No. Observations:            26285809   AIC:                         2.390e+07\n",
       "Df Residuals:                26285807   BIC:                         2.390e+07\n",
       "Df Model:                           1                                         \n",
       "Covariance Type:            nonrobust                                         \n",
       "==============================================================================\n",
       "                 coef    std err          t      P>|t|      [0.025      0.975]\n",
       "------------------------------------------------------------------------------\n",
       "Intercept    -55.1951      0.004  -1.38e+04      0.000     -55.203     -55.187\n",
       "time_stamp  4.214e-08    2.7e-12   1.56e+04      0.000    4.21e-08    4.21e-08\n",
       "==============================================================================\n",
       "Omnibus:                  1145503.607   Durbin-Watson:                   0.000\n",
       "Prob(Omnibus):                  0.000   Jarque-Bera (JB):           720583.634\n",
       "Skew:                           0.277   Prob(JB):                         0.00\n",
       "Kurtosis:                       2.407   Cond. No.                     7.93e+10\n",
       "==============================================================================\n",
       "\n",
       "Warnings:\n",
       "[1] Standard Errors assume that the covariance matrix of the errors is correctly specified.\n",
       "[2] The condition number is large, 7.93e+10. This might indicate that there are\n",
       "strong multicollinearity or other numerical problems.\n",
       "\"\"\""
      ]
     },
     "execution_count": 131,
     "metadata": {},
     "output_type": "execute_result"
    }
   ],
   "source": [
    "\n",
    "import statsmodels.formula.api as smf\n",
    "\n",
    "# Use ols function for calculating the F-statistic and associated p value\n",
    "price_history_ols = smf.ols(formula='log_price ~ time_stamp', data=price_history_df)\n",
    "price_history_fitted = price_history_ols.fit()\n",
    "price_history_fitted.summary()"
   ]
  },
  {
   "cell_type": "code",
   "execution_count": 132,
   "metadata": {},
   "outputs": [],
   "source": [
    "\n",
    "params_series = price_history_fitted.params\n",
    "\n",
    "def date_when(amount):\n",
    "    time_stamp = (np.log(amount)-params_series.loc['Intercept'])/params_series.loc['time_stamp']\n",
    "    date_time = pd.to_datetime(time_stamp, unit='s')\n",
    "    \n",
    "    return date_time.strftime('%Y-%m-%d')"
   ]
  },
  {
   "cell_type": "code",
   "execution_count": 135,
   "metadata": {},
   "outputs": [
    {
     "data": {
      "text/plain": [
       "'2018-06-06'"
      ]
     },
     "execution_count": 135,
     "metadata": {},
     "output_type": "execute_result"
    }
   ],
   "source": [
    "\n",
    "date_when(10000)"
   ]
  },
  {
   "cell_type": "code",
   "execution_count": 136,
   "metadata": {},
   "outputs": [
    {
     "data": {
      "image/png": "[encoded data removed]",
      "text/plain": [
       "<matplotlib.figure.Figure object at 0x5df502f28>"
      ]
     },
     "metadata": {},
     "output_type": "display_data"
    }
   ],
   "source": [
    "\n",
    "%matplotlib inline\n",
    "\n",
    "axes_sub_plot = price_history_df.plot(x='date', y='price', kind='line', figsize=(15, 5), logy=True)"
   ]
  },
  {
   "cell_type": "code",
   "execution_count": 142,
   "metadata": {},
   "outputs": [
    {
     "data": {
      "text/plain": [
       "[]"
      ]
     },
     "execution_count": 142,
     "metadata": {},
     "output_type": "execute_result"
    }
   ],
   "source": [
    "\n",
    "axes_sub_plot.plot(x=price_history_df['date'], y=np.exp(params_series.loc['Intercept']+price_history_df['log_price']*params_series.loc['time_stamp']),\n",
    "                   kind='line', figsize=(15, 5), logy=True)"
   ]
  },
  {
   "cell_type": "code",
   "execution_count": 144,
   "metadata": {},
   "outputs": [
    {
     "data": {
      "text/plain": [
       "Timestamp('2014-12-01 05:33:56')"
      ]
     },
     "execution_count": 144,
     "metadata": {},
     "output_type": "execute_result"
    }
   ],
   "source": [
    "\n",
    "price_history_df.loc[0, 'date']"
   ]
  },
  {
   "cell_type": "code",
   "execution_count": 82,
   "metadata": {},
   "outputs": [
    {
     "data": {
      "image/png": "[encoded data removed]",
      "text/plain": [
       "<matplotlib.figure.Figure object at 0x6a6de20b8>"
      ]
     },
     "metadata": {},
     "output_type": "display_data"
    }
   ],
   "source": [
    "\n",
    "column_list = ['amount_per_week', 'total_saved']\n",
    "amount_per_week = range(0, 500)\n",
    "amount_saved = [total_saved(amount, format_result=False) for amount in amount_per_week]\n",
    "rows_list = [dict(zip(column_list, [w, s])) for w, s in zip(amount_per_week, amount_saved)]\n",
    "weekly_amount_df = pd.DataFrame(rows_list, columns=column_list)\n",
    "axes_sub_plot = weekly_amount_df.plot(x='amount_per_week', y='total_saved', kind='line', figsize=(15, 5), logy=False)"
   ]
  },
  {
   "cell_type": "code",
   "execution_count": 147,
   "metadata": {},
   "outputs": [
    {
     "data": {
      "text/html": [
       "<div>\n",
       "<style>\n",
       "    .dataframe thead tr:only-child th {\n",
       "        text-align: right;\n",
       "    }\n",
       "\n",
       "    .dataframe thead th {\n",
       "        text-align: left;\n",
       "    }\n",
       "\n",
       "    .dataframe tbody tr th {\n",
       "        vertical-align: top;\n",
       "    }\n",
       "</style>\n",
       "<table border=\"1\" class=\"dataframe\">\n",
       "  <thead>\n",
       "    <tr style=\"text-align: right;\">\n",
       "      <th></th>\n",
       "      <th>date</th>\n",
       "      <th>close</th>\n",
       "      <th>volume</th>\n",
       "      <th>open</th>\n",
       "      <th>high</th>\n",
       "      <th>low</th>\n",
       "      <th>log_open</th>\n",
       "    </tr>\n",
       "  </thead>\n",
       "  <tbody>\n",
       "    <tr>\n",
       "      <th>0</th>\n",
       "      <td>2017-12-07 16:00:00</td>\n",
       "      <td>96.78</td>\n",
       "      <td>7,495,476</td>\n",
       "      <td>97.09</td>\n",
       "      <td>97.58</td>\n",
       "      <td>96.6500</td>\n",
       "      <td>4.575638</td>\n",
       "    </tr>\n",
       "    <tr>\n",
       "      <th>1</th>\n",
       "      <td>2017-12-07 00:00:00</td>\n",
       "      <td>96.78</td>\n",
       "      <td>7498316.0000</td>\n",
       "      <td>97.06</td>\n",
       "      <td>97.58</td>\n",
       "      <td>96.6500</td>\n",
       "      <td>4.575329</td>\n",
       "    </tr>\n",
       "    <tr>\n",
       "      <th>2</th>\n",
       "      <td>2017-12-06 00:00:00</td>\n",
       "      <td>97.28</td>\n",
       "      <td>7138716.0000</td>\n",
       "      <td>97.99</td>\n",
       "      <td>98.14</td>\n",
       "      <td>97.2401</td>\n",
       "      <td>4.584865</td>\n",
       "    </tr>\n",
       "    <tr>\n",
       "      <th>3</th>\n",
       "      <td>2017-12-05 00:00:00</td>\n",
       "      <td>97.83</td>\n",
       "      <td>9009041.0000</td>\n",
       "      <td>97.00</td>\n",
       "      <td>97.94</td>\n",
       "      <td>96.9200</td>\n",
       "      <td>4.574711</td>\n",
       "    </tr>\n",
       "    <tr>\n",
       "      <th>4</th>\n",
       "      <td>2017-12-04 00:00:00</td>\n",
       "      <td>97.01</td>\n",
       "      <td>8954996.0000</td>\n",
       "      <td>97.73</td>\n",
       "      <td>97.96</td>\n",
       "      <td>96.6750</td>\n",
       "      <td>4.582209</td>\n",
       "    </tr>\n",
       "  </tbody>\n",
       "</table>\n",
       "</div>"
      ],
      "text/plain": [
       "                 date  close        volume   open   high      low  log_open\n",
       "0 2017-12-07 16:00:00  96.78     7,495,476  97.09  97.58  96.6500  4.575638\n",
       "1 2017-12-07 00:00:00  96.78  7498316.0000  97.06  97.58  96.6500  4.575329\n",
       "2 2017-12-06 00:00:00  97.28  7138716.0000  97.99  98.14  97.2401  4.584865\n",
       "3 2017-12-05 00:00:00  97.83  9009041.0000  97.00  97.94  96.9200  4.574711\n",
       "4 2017-12-04 00:00:00  97.01  8954996.0000  97.73  97.96  96.6750  4.582209"
      ]
     },
     "execution_count": 147,
     "metadata": {},
     "output_type": "execute_result"
    }
   ],
   "source": [
    "\n",
    "WMT_df = load_csv('WMTHistoricalQuotes')\n",
    "WMT_df['log_open'] = WMT_df['open'].map(lambda x: np.log(x))\n",
    "WMT_df['date'] = WMT_df['date'].map(lambda x: pd.to_datetime(x.strip()))\n",
    "WMT_df.head()"
   ]
  },
  {
   "cell_type": "code",
   "execution_count": 143,
   "metadata": {},
   "outputs": [
    {
     "data": {
      "text/plain": [
       "1.2231262872455024"
      ]
     },
     "execution_count": 143,
     "metadata": {},
     "output_type": "execute_result"
    }
   ],
   "source": [
    "\n",
    "price_history_df['log_price'].std()"
   ]
  },
  {
   "cell_type": "code",
   "execution_count": 151,
   "metadata": {},
   "outputs": [
    {
     "data": {
      "text/plain": [
       "0.11093116067293594"
      ]
     },
     "execution_count": 151,
     "metadata": {},
     "output_type": "execute_result"
    }
   ],
   "source": [
    "\n",
    "match_series = (WMT_df['date'] < price_history_df.loc[0, 'date'])\n",
    "WMT_df[~match_series]['log_open'].std()"
   ]
  },
  {
   "cell_type": "code",
   "execution_count": 152,
   "metadata": {},
   "outputs": [
    {
     "data": {
      "text/plain": [
       "(26285809, 9)"
      ]
     },
     "execution_count": 152,
     "metadata": {},
     "output_type": "execute_result"
    }
   ],
   "source": [
    "\n",
    "price_history_df.shape"
   ]
  },
  {
   "cell_type": "code",
   "execution_count": 167,
   "metadata": {},
   "outputs": [
    {
     "data": {
      "text/html": [
       "<div>\n",
       "<style>\n",
       "    .dataframe thead tr:only-child th {\n",
       "        text-align: right;\n",
       "    }\n",
       "\n",
       "    .dataframe thead th {\n",
       "        text-align: left;\n",
       "    }\n",
       "\n",
       "    .dataframe tbody tr th {\n",
       "        vertical-align: top;\n",
       "    }\n",
       "</style>\n",
       "<table border=\"1\" class=\"dataframe\">\n",
       "  <thead>\n",
       "    <tr style=\"text-align: right;\">\n",
       "      <th></th>\n",
       "      <th>date</th>\n",
       "      <th>price</th>\n",
       "      <th>log_price</th>\n",
       "    </tr>\n",
       "  </thead>\n",
       "  <tbody>\n",
       "    <tr>\n",
       "      <th>31</th>\n",
       "      <td>2015-05-01</td>\n",
       "      <td>2111.94</td>\n",
       "      <td>7.655362</td>\n",
       "    </tr>\n",
       "    <tr>\n",
       "      <th>32</th>\n",
       "      <td>2015-04-01</td>\n",
       "      <td>2094.86</td>\n",
       "      <td>7.647242</td>\n",
       "    </tr>\n",
       "    <tr>\n",
       "      <th>33</th>\n",
       "      <td>2015-03-01</td>\n",
       "      <td>2079.99</td>\n",
       "      <td>7.640118</td>\n",
       "    </tr>\n",
       "    <tr>\n",
       "      <th>34</th>\n",
       "      <td>2015-02-01</td>\n",
       "      <td>2082.20</td>\n",
       "      <td>7.641180</td>\n",
       "    </tr>\n",
       "    <tr>\n",
       "      <th>35</th>\n",
       "      <td>2015-01-01</td>\n",
       "      <td>2028.18</td>\n",
       "      <td>7.614894</td>\n",
       "    </tr>\n",
       "  </tbody>\n",
       "</table>\n",
       "</div>"
      ],
      "text/plain": [
       "         date    price  log_price\n",
       "31 2015-05-01  2111.94   7.655362\n",
       "32 2015-04-01  2094.86   7.647242\n",
       "33 2015-03-01  2079.99   7.640118\n",
       "34 2015-02-01  2082.20   7.641180\n",
       "35 2015-01-01  2028.18   7.614894"
      ]
     },
     "execution_count": 167,
     "metadata": {},
     "output_type": "execute_result"
    }
   ],
   "source": [
    "\n",
    "SaP_df = pd.read_html(data_folder + 'html/S_and_P_500_by_month.html')[0]\n",
    "SaP_df.columns = ['date', 'price']\n",
    "SaP_df = SaP_df.reindex(SaP_df.index.drop(0))\n",
    "SaP_df['date'] = SaP_df['date'].map(lambda x: pd.to_datetime(x.strip()))\n",
    "match_series = (SaP_df['date'] < price_history_df.loc[0, 'date'])\n",
    "SaP_df = SaP_df[~match_series]\n",
    "SaP_df['price'] = SaP_df['price'].map(lambda x: float(x))\n",
    "SaP_df['log_price'] = SaP_df['price'].map(lambda x: np.log(x))\n",
    "SaP_df.tail()"
   ]
  },
  {
   "cell_type": "code",
   "execution_count": 168,
   "metadata": {},
   "outputs": [
    {
     "data": {
      "text/plain": [
       "0.08153343733940152"
      ]
     },
     "execution_count": 168,
     "metadata": {},
     "output_type": "execute_result"
    }
   ],
   "source": [
    "\n",
    "SaP_df['log_price'].std()"
   ]
  },
  {
   "cell_type": "code",
   "execution_count": null,
   "metadata": {},
   "outputs": [],
   "source": []
  }
 ],
 "metadata": {
  "anaconda-cloud": {},
  "kernelspec": {
   "display_name": "Python 3",
   "language": "python",
   "name": "python3"
  },
  "language_info": {
   "codemirror_mode": {
    "name": "ipython",
    "version": 3
   },
   "file_extension": ".py",
   "mimetype": "text/x-python",
   "name": "python",
   "nbconvert_exporter": "python",
   "pygments_lexer": "ipython3",
   "version": "3.5.4"
  }
 },
 "nbformat": 4,
 "nbformat_minor": 2
}
