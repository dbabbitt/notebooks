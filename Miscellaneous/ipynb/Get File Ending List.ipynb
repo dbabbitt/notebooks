{
 "cells": [
  {
   "cell_type": "code",
   "execution_count": 19,
   "metadata": {
    "collapsed": true
   },
   "outputs": [],
   "source": [
    "\n",
    "os.environ['PATH'] = '/usr/local/git/bin:/Users/davebabbitt/anaconda/bin:/usr/local/bin:/usr/bin:/bin:/usr/sbin:/sbin:/opt/local/sbin:/opt/local/bin:/Library/TeX/texbin:/opt/X11/bin:/usr/local/opt/openssl/bin:/usr/local/opt/openssl/bin'"
   ]
  },
  {
   "cell_type": "code",
   "execution_count": 20,
   "metadata": {
    "collapsed": false
   },
   "outputs": [
    {
     "name": "stdout",
     "output_type": "stream",
     "text": [
      "OCTAVE_EXECUTABLE : /usr/local/bin/octave-cli\n",
      "TERM_PROGRAM : Apple_Terminal\n",
      "SHLVL : 1\n",
      "TERM : xterm-color\n",
      "GIT_PAGER : cat\n",
      "XPC_FLAGS : 0x0\n",
      "_ : /Users/davebabbitt/anaconda/bin/jupyter\n",
      "MPLBACKEND : module://ipykernel.pylab.backend_inline\n",
      "HOME : /Users/davebabbitt\n",
      "XPC_SERVICE_NAME : 0\n",
      "TMPDIR : /var/folders/fr/0vtdl14121v9xzmbhltbh6s00000gn/T/\n",
      "PATH : /usr/local/git/bin:/Users/davebabbitt/anaconda/bin:/usr/local/bin:/usr/bin:/bin:/usr/sbin:/sbin:/opt/local/sbin:/opt/local/bin:/Library/TeX/texbin:/opt/X11/bin:/usr/local/opt/openssl/bin:/usr/local/opt/openssl/bin\n",
      "USER : davebabbitt\n",
      "__CF_USER_TEXT_ENCODING : 0x1F5:0x0:0x0\n",
      "TERM_PROGRAM_VERSION : 388.1.1\n",
      "TERM_SESSION_ID : CED36B93-F5DD-4C38-94B0-A3A033684CB4\n",
      "Apple_PubSub_Socket_Render : /private/tmp/com.apple.launchd.TRO3frbmKS/Render\n",
      "CLICOLOR : 1\n",
      "PAGER : cat\n",
      "SSH_AUTH_SOCK : /private/tmp/com.apple.launchd.EOYGMfGzLk/Listeners\n",
      "LANG : en_US.UTF-8\n",
      "JPY_PARENT_PID : 1396\n",
      "LOGNAME : davebabbitt\n",
      "DISPLAY : /private/tmp/com.apple.launchd.fSKab7rdMy/org.macosforge.xquartz:0\n",
      "SHELL : /bin/bash\n",
      "PWD : /Users/davebabbitt\n"
     ]
    }
   ],
   "source": [
    "\n",
    "import os\n",
    "\n",
    "for env in os.environ:\n",
    "    print(env, ':', os.environ[env])"
   ]
  },
  {
   "cell_type": "code",
   "execution_count": 21,
   "metadata": {
    "collapsed": false
   },
   "outputs": [
    {
     "data": {
      "text/plain": [
       "{'Apple_PubSub_Socket_Render': '/private/tmp/com.apple.launchd.TRO3frbmKS/Render',\n",
       " 'CLICOLOR': '1',\n",
       " 'DISPLAY': '/private/tmp/com.apple.launchd.fSKab7rdMy/org.macosforge.xquartz:0',\n",
       " 'GIT_PAGER': 'cat',\n",
       " 'HOME': '/Users/davebabbitt',\n",
       " 'JPY_PARENT_PID': '1396',\n",
       " 'LANG': 'en_US.UTF-8',\n",
       " 'LOGNAME': 'davebabbitt',\n",
       " 'MPLBACKEND': 'module://ipykernel.pylab.backend_inline',\n",
       " 'OCTAVE_EXECUTABLE': '/usr/local/bin/octave-cli',\n",
       " 'PAGER': 'cat',\n",
       " 'PATH': '/usr/local/git/bin:/Users/davebabbitt/anaconda/bin:/usr/local/bin:/usr/bin:/bin:/usr/sbin:/sbin:/opt/local/sbin:/opt/local/bin:/Library/TeX/texbin:/opt/X11/bin:/usr/local/opt/openssl/bin:/usr/local/opt/openssl/bin',\n",
       " 'PWD': '/Users/davebabbitt',\n",
       " 'SHELL': '/bin/bash',\n",
       " 'SHLVL': '1',\n",
       " 'SSH_AUTH_SOCK': '/private/tmp/com.apple.launchd.EOYGMfGzLk/Listeners',\n",
       " 'TERM': 'xterm-color',\n",
       " 'TERM_PROGRAM': 'Apple_Terminal',\n",
       " 'TERM_PROGRAM_VERSION': '388.1.1',\n",
       " 'TERM_SESSION_ID': 'CED36B93-F5DD-4C38-94B0-A3A033684CB4',\n",
       " 'TMPDIR': '/var/folders/fr/0vtdl14121v9xzmbhltbh6s00000gn/T/',\n",
       " 'USER': 'davebabbitt',\n",
       " 'XPC_FLAGS': '0x0',\n",
       " 'XPC_SERVICE_NAME': '0',\n",
       " '_': '/Users/davebabbitt/anaconda/bin/jupyter',\n",
       " '__CF_USER_TEXT_ENCODING': '0x1F5:0x0:0x0'}"
      ]
     },
     "execution_count": 21,
     "metadata": {},
     "output_type": "execute_result"
    }
   ],
   "source": [
    "\n",
    "%env"
   ]
  },
  {
   "cell_type": "code",
   "execution_count": 34,
   "metadata": {
    "collapsed": false
   },
   "outputs": [
    {
     "name": "stdout",
     "output_type": "stream",
     "text": [
      "Requirement already satisfied: chardet in /Users/davebabbitt/anaconda/lib/python3.5/site-packages\r\n"
     ]
    }
   ],
   "source": [
    "\n",
    "# Install a pip package in the current Jupyter kernel\n",
    "import sys\n",
    "\n",
    "!{sys.executable} -m pip install chardet"   ]
  },
  {
   "cell_type": "code",
   "execution_count": 38,
   "metadata": {
    "collapsed": false
   },
   "outputs": [
    {
     "ename": "TypeError",
     "evalue": "join() argument must be str or bytes, not 'builtin_function_or_method'",
     "output_type": "error",
     "traceback": [
      "\u001b[0;31m---------------------------------------------------------------------------\u001b[0m",
      "\u001b[0;31mTypeError\u001b[0m                                 Traceback (most recent call last)",
      "\u001b[0;32m<ipython-input-38-f214e60bc6c6>\u001b[0m in \u001b[0;36m<module>\u001b[0;34m()\u001b[0m\n\u001b[1;32m     15\u001b[0m             \u001b[0;32mif\u001b[0m \u001b[0mlen\u001b[0m\u001b[0;34m(\u001b[0m\u001b[0mfile_ending\u001b[0m\u001b[0;34m)\u001b[0m \u001b[0;34m<\u001b[0m \u001b[0;36m6\u001b[0m\u001b[0;34m:\u001b[0m\u001b[0;34m\u001b[0m\u001b[0m\n\u001b[1;32m     16\u001b[0m                 \u001b[0;32mif\u001b[0m \u001b[0;32mnot\u001b[0m \u001b[0mnum_regex\u001b[0m\u001b[0;34m.\u001b[0m\u001b[0mmatch\u001b[0m\u001b[0;34m(\u001b[0m\u001b[0mfile_ending\u001b[0m\u001b[0;34m)\u001b[0m\u001b[0;34m:\u001b[0m\u001b[0;34m\u001b[0m\u001b[0m\n\u001b[0;32m---> 17\u001b[0;31m                     \u001b[0mfile_name\u001b[0m \u001b[0;34m=\u001b[0m \u001b[0mos\u001b[0m\u001b[0;34m.\u001b[0m\u001b[0mpath\u001b[0m\u001b[0;34m.\u001b[0m\u001b[0mjoin\u001b[0m\u001b[0;34m(\u001b[0m\u001b[0mdir\u001b[0m\u001b[0;34m,\u001b[0m \u001b[0mfile\u001b[0m\u001b[0;34m)\u001b[0m\u001b[0;34m\u001b[0m\u001b[0m\n\u001b[0m\u001b[1;32m     18\u001b[0m                     \u001b[0;32mif\u001b[0m \u001b[0mos\u001b[0m\u001b[0;34m.\u001b[0m\u001b[0mpath\u001b[0m\u001b[0;34m.\u001b[0m\u001b[0misfile\u001b[0m\u001b[0;34m(\u001b[0m\u001b[0mfile_name\u001b[0m\u001b[0;34m)\u001b[0m\u001b[0;34m:\u001b[0m\u001b[0;34m\u001b[0m\u001b[0m\n\u001b[1;32m     19\u001b[0m                         \u001b[0mdetector\u001b[0m\u001b[0;34m.\u001b[0m\u001b[0mreset\u001b[0m\u001b[0;34m(\u001b[0m\u001b[0;34m)\u001b[0m\u001b[0;34m\u001b[0m\u001b[0m\n",
      "\u001b[0;32m~/anaconda/lib/python3.5/posixpath.py\u001b[0m in \u001b[0;36mjoin\u001b[0;34m(a, *p)\u001b[0m\n\u001b[1;32m     87\u001b[0m                 \u001b[0mpath\u001b[0m \u001b[0;34m+=\u001b[0m \u001b[0msep\u001b[0m \u001b[0;34m+\u001b[0m \u001b[0mb\u001b[0m\u001b[0;34m\u001b[0m\u001b[0m\n\u001b[1;32m     88\u001b[0m     \u001b[0;32mexcept\u001b[0m \u001b[0;34m(\u001b[0m\u001b[0mTypeError\u001b[0m\u001b[0;34m,\u001b[0m \u001b[0mAttributeError\u001b[0m\u001b[0;34m,\u001b[0m \u001b[0mBytesWarning\u001b[0m\u001b[0;34m)\u001b[0m\u001b[0;34m:\u001b[0m\u001b[0;34m\u001b[0m\u001b[0m\n\u001b[0;32m---> 89\u001b[0;31m         \u001b[0mgenericpath\u001b[0m\u001b[0;34m.\u001b[0m\u001b[0m_check_arg_types\u001b[0m\u001b[0;34m(\u001b[0m\u001b[0;34m'join'\u001b[0m\u001b[0;34m,\u001b[0m \u001b[0ma\u001b[0m\u001b[0;34m,\u001b[0m \u001b[0;34m*\u001b[0m\u001b[0mp\u001b[0m\u001b[0;34m)\u001b[0m\u001b[0;34m\u001b[0m\u001b[0m\n\u001b[0m\u001b[1;32m     90\u001b[0m         \u001b[0;32mraise\u001b[0m\u001b[0;34m\u001b[0m\u001b[0m\n\u001b[1;32m     91\u001b[0m     \u001b[0;32mreturn\u001b[0m \u001b[0mpath\u001b[0m\u001b[0;34m\u001b[0m\u001b[0m\n",
      "\u001b[0;32m~/anaconda/lib/python3.5/genericpath.py\u001b[0m in \u001b[0;36m_check_arg_types\u001b[0;34m(funcname, *args)\u001b[0m\n\u001b[1;32m    141\u001b[0m         \u001b[0;32melse\u001b[0m\u001b[0;34m:\u001b[0m\u001b[0;34m\u001b[0m\u001b[0m\n\u001b[1;32m    142\u001b[0m             raise TypeError('%s() argument must be str or bytes, not %r' %\n\u001b[0;32m--> 143\u001b[0;31m                             (funcname, s.__class__.__name__)) from None\n\u001b[0m\u001b[1;32m    144\u001b[0m     \u001b[0;32mif\u001b[0m \u001b[0mhasstr\u001b[0m \u001b[0;32mand\u001b[0m \u001b[0mhasbytes\u001b[0m\u001b[0;34m:\u001b[0m\u001b[0;34m\u001b[0m\u001b[0m\n\u001b[1;32m    145\u001b[0m         \u001b[0;32mraise\u001b[0m \u001b[0mTypeError\u001b[0m\u001b[0;34m(\u001b[0m\u001b[0;34m\"Can't mix strings and bytes in path components\"\u001b[0m\u001b[0;34m)\u001b[0m \u001b[0;32mfrom\u001b[0m \u001b[0;32mNone\u001b[0m\u001b[0;34m\u001b[0m\u001b[0m\n",
      "\u001b[0;31mTypeError\u001b[0m: join() argument must be str or bytes, not 'builtin_function_or_method'"
     ]
    }
   ],
   "source": [
    "\n",
    "import os\n",
    "import re\n",
    "import chardet\n",
    "from chardet.universaldetector import UniversalDetector\n",
    "\n",
    "num_regex = re.compile(r'\\d+')\n",
    "file_ending_list = []\n",
    "encoding_list = []\n",
    "detector = UniversalDetector()\n",
    "for root, dirs, files in os.walk('../../'):\n",
    "    for file in files:\n",
    "        file_ending = file.split('.')[-1]\n",
    "        if file_ending not in file_ending_list:\n",
    "            if len(file_ending) < 6:\n",
    "                if not num_regex.match(file_ending):\n",
    "                    file_name = os.path.join(dir, file)\n",
    "                    if os.path.isfile(file_name):\n",
    "                        detector.reset()\n",
    "                        with open(file, 'rb') as fh:\n",
    "                            for line in fh.readline():\n",
    "                                detector.feed(line)\n",
    "                                if detector.done: break\n",
    "                        detector.close()\n",
    "                        encoding = detector.result['encoding']\n",
    "                        if encoding not in encoding_list:\n",
    "                            encoding_list.append(encoding)\n",
    "                        file_ending_list.append(file_ending)"
   ]
  },
  {
   "cell_type": "code",
   "execution_count": 33,
   "metadata": {
    "collapsed": false,
    "scrolled": true
   },
   "outputs": [
    {
     "name": "stdout",
     "output_type": "stream",
     "text": [
      "Pretty printing has been turned OFF\n"
     ]
    },
    {
     "data": {
      "text/plain": [
       "['md', 'log', 'HEAD', 'index', 'refs', 'packs', 'idx', 'pack', 'csv', 'ipynb', 'jpeg', 'txt', 'gif', 'jpg', 'png', 'npy', 'dat', 'py', 'pdf', 'mjd', 'yml', 'cloc', 'pyx', 'pxd', 'cmake', 'in', 'sh', 'CNAME', 'html', 'css', 'hpp', 'm', 'mat', 'cpp', 'cu', 'proto', 'h5', 'h', 'cc', 'zip', 'lpk', 'cpg', 'dbf', 'prj', 'shp', 'xml', 'shx', 'gz', 'rst', 'stats', 'js', 'json', 'URL', 'tsv', 'xlsx', 'kml', 'qpj', 'dot', 'doc', 'PDF', 'tex', 'neg', 'pos', 'dct', 'bas', 'cls', 'frm', 'frx', 'XLSB', 'xlsm', 'sql', 'z', 'PNG', 'java', 'i', 'cl', 'yaml', 'data', 'svg', 'bat', 'tpl', 'wav', 'xls', 'md~', 'inv', 'map', 'pcss', 'tgz', 'tplx', 'bmp', 'rda', 'pyc', 'm4v', 'info', 'ttf', 'key', 'dl', 'gdf', 'gexf', 'gml', 'net', 'vna', 'dict', 'lsi', 'mm', 'tfidf', 'gv', 'conf', 'p', 'rbg', 'db', 'xfdl', 'docx', 'lnk', 'XLSX', 'pkl', 'pptx', 'RData', 'R', 'Rproj', 'pper', 'INDEX', 'paths', 'Rdata', 'ods', 'ico', 'eot', 'woff', 'less', 'ppm', 'tiff', 'pdb', 'cson', 'frag', 'vert', 'ply', 'slash', 'web', 'glsl', 'silk', 'ipy', 'jinja', 'out', 'BAK', 'table', 'toml', 'lyx', 'TXT', 'css_t', 's', 'asc', 'dta', 'names', 'do', 'mtx', 'c', 'r', 'inp', 'npz', 'ado', 'qt4', 'qt5', 'meta', 'cfg', 'ini', 'sty', 'eps', 'xpi', 'text8', 'bin']"
      ]
     },
     "execution_count": 33,
     "metadata": {},
     "output_type": "execute_result"
    }
   ],
   "source": [
    "\n",
    "%pprint\n",
    "\n",
    "file_ending_list"
   ]
  },
  {
   "cell_type": "code",
   "execution_count": null,
   "metadata": {
    "collapsed": true
   },
   "outputs": [],
   "source": []
  },
  {
   "cell_type": "code",
   "execution_count": 22,
   "metadata": {
    "collapsed": false
   },
   "outputs": [
    {
     "name": "stdout",
     "output_type": "stream",
     "text": [
      "total 184\r\n",
      "11545749 drwxr-xr-x  63    2142 Dec  9 13:16 \u001b[34m.\u001b[m\u001b[m\r\n",
      "  633105 drwxr-xr-x+ 64    2176 Dec  9 13:17 \u001b[34m..\u001b[m\u001b[m\r\n",
      "11545828 -rw-r--r--@  1   43012 Dec  9 14:24 .DS_Store\r\n",
      "11566993 -rw-r--r--@  1     224 Dec  9 13:16 .getignore\r\n",
      "11545750 drwxr-xr-x  17     578 Dec  9 15:05 \u001b[34m.git\u001b[m\u001b[m\r\n",
      "11554587 -rw-r--r--   1     226 Dec  9 14:27 .gitignore\r\n",
      "11566830 drwxr-xr-x   2      68 Dec  9 13:09 \u001b[34m.ipynb_checkpoints\u001b[m\u001b[m\r\n",
      " 9125112 drwxr-xr-x@  9     306 Oct 20 15:03 \u001b[34mAM207 2016\u001b[m\u001b[m\r\n",
      " 1303265 drwxr-xr-x  26     884 Jul 20 06:42 \u001b[34mApollo (Python Deep Learning Codebase)\u001b[m\u001b[m\r\n",
      " 9132351 drwxr-xr-x@  8     272 Oct 20 15:34 \u001b[34mApplied Predictive Modeling with Python\u001b[m\u001b[m\r\n",
      " 7478956 drwxr-xr-x   6     204 Sep 25 11:29 \u001b[34mCMS_DRGs\u001b[m\u001b[m\r\n",
      " 9131086 drwxr-xr-x@ 15     510 Oct 20 15:17 \u001b[34mCopper (Python Package)\u001b[m\u001b[m\r\n",
      " 9125342 drwxr-xr-x@  7     238 Oct 20 15:03 \u001b[34mDBDA-python-master\u001b[m\u001b[m\r\n",
      "10046763 drwxr-xr-x  14     476 Nov 13 18:16 \u001b[34mDRRS\u001b[m\u001b[m\r\n",
      " 9135194 drwxr-xr-x@ 14     476 Oct 20 15:45 \u001b[34mData-Analysis-and-Machine-Learning-Projects-master\u001b[m\u001b[m\r\n",
      " 9137088 drwxr-xr-x@ 13     442 Oct 20 15:48 \u001b[34mETL_with_Python-master\u001b[m\u001b[m\r\n",
      " 4297416 drwxr-xr-x   6     204 Aug 24 14:57 \u001b[34mFavicons\u001b[m\u001b[m\r\n",
      " 9125610 drwxr-xr-x@ 13     442 Oct 20 15:04 \u001b[34mIPython Cookbook\u001b[m\u001b[m\r\n",
      " 9131992 drwxr-xr-x   7     238 Oct 20 16:12 \u001b[34mIntroduction to R\u001b[m\u001b[m\r\n",
      " 9134260 drwxr-xr-x@ 38    1292 Oct 20 15:40 \u001b[34mKalman-and-Bayesian-Filters-in-Python-master\u001b[m\u001b[m\r\n",
      "11545820 -rw-r--r--   1   35147 Dec  8 21:49 LICENSE\r\n",
      " 9126389 drwxr-xr-x@  9     306 Oct 20 15:09 \u001b[34mLearnDataScience-master\u001b[m\u001b[m\r\n",
      " 9130694 drwxr-xr-x@  6     204 Oct 20 15:16 \u001b[34mMeetup-Fall-2013-master\u001b[m\u001b[m\r\n",
      "10805385 drwxr-xr-x   7     238 Dec  7 21:13 \u001b[34mMiscellaneous\u001b[m\u001b[m\r\n",
      " 1303754 drwxr-xr-x  12     408 Jul 20 06:26 \u001b[34mOffutt-AFB-Data-Science\u001b[m\u001b[m\r\n",
      " 2594149 drwxr-xr-x  21     714 Jul 29 16:16 \u001b[34mProbabilistic-Programming-and-Bayesian-Methods-for-Hackers\u001b[m\u001b[m\r\n",
      " 9131274 drwxr-xr-x@ 15     510 Oct 20 15:19 \u001b[34mPsych216-master\u001b[m\u001b[m\r\n",
      " 9135320 drwxr-xr-x@ 12     408 Oct 20 15:45 \u001b[34mPyDataSeattle-master\u001b[m\u001b[m\r\n",
      " 9124543 drwxr-xr-x@ 12     408 Oct 20 15:01 \u001b[34mPythonDataScienceHandbook-master\u001b[m\u001b[m\r\n",
      "11545821 -rw-r--r--   1      49 Dec  8 21:49 README.md\r\n",
      "10501412 drwxr-xr-x   8     272 Nov 28 11:04 \u001b[34mSimulations\u001b[m\u001b[m\r\n",
      " 1310854 drwxr-xr-x  19     646 Jul 29 16:07 \u001b[34mTensorFlow\u001b[m\u001b[m\r\n",
      " 9131828 drwxr-xr-x@ 10     340 Oct 20 15:24 \u001b[34mWelcome to CS109 Data Science\u001b[m\u001b[m\r\n",
      "10502413 drwxr-xr-x   4     136 Nov 21 11:39 \u001b[34mWhimsical\u001b[m\u001b[m\r\n",
      " 1311258 drwxr-xr-x  16     544 Jul 20 06:42 \u001b[34mWord2Vec\u001b[m\u001b[m\r\n",
      " 9133271 drwxr-xr-x@ 10     340 Oct 20 15:39 \u001b[34mcourses-master\u001b[m\u001b[m\r\n",
      " 6192926 drwxr-xr-x  11     374 Dec  3 14:45 \u001b[34mdata-science-5k\u001b[m\u001b[m\r\n",
      " 9136701 drwxr-xr-x@ 24     816 Aug 26 05:47 \u001b[34mdata-science-ipython-notebooks-master\u001b[m\u001b[m\r\n",
      " 9135871 drwxr-xr-x@ 22     748 Oct 20 15:47 \u001b[34mincubator-singa-master\u001b[m\u001b[m\r\n",
      " 3525506 drwxr-xr-x  23     782 Aug 16 16:07 \u001b[34mipwidgets\u001b[m\u001b[m\r\n",
      " 9134671 drwxr-xr-x@  9     306 Oct 20 15:41 \u001b[34mipython-notebooks-master\u001b[m\u001b[m\r\n",
      " 9124854 drwxr-xr-x@  9     306 Oct 20 15:02 \u001b[34mipython-notebooks-master 1\u001b[m\u001b[m\r\n",
      " 9134821 drwxr-xr-x@ 13     442 Apr  9  2017 \u001b[34mipython-notebooks-master 2\u001b[m\u001b[m\r\n",
      " 3671191 drwxr-xr-x@  8     272 Aug 14 07:16 \u001b[34mipywidgets-latest\u001b[m\u001b[m\r\n",
      "10503361 drwxr-xr-x   8     272 Nov 21 15:25 \u001b[34mjob-hunting\u001b[m\u001b[m\r\n",
      " 8283371 drwxr-xr-x   6     204 Oct 13 11:41 \u001b[34mjoy-plots\u001b[m\u001b[m\r\n",
      " 8293555 drwxr-xr-x   8     272 Oct 13 14:24 \u001b[34mlearn-pandas\u001b[m\u001b[m\r\n",
      "10462970 drwxr-xr-x   6     204 Nov 23 10:10 \u001b[34mload_magic\u001b[m\u001b[m\r\n",
      " 9131703 drwxr-xr-x@  5     170 Oct 20 15:22 \u001b[34mmachine-learning-ex3\u001b[m\u001b[m\r\n",
      " 9126645 drwxr-xr-x@ 16     544 Oct 20 15:12 \u001b[34mmachine_learning-master\u001b[m\u001b[m\r\n",
      " 7645754 drwxr-xr-x   9     306 Oct  4 17:31 \u001b[34mmobile-phone-activity\u001b[m\u001b[m\r\n",
      " 5557326 drwxr-xr-x  17     578 Sep  7 16:12 \u001b[34mneat\u001b[m\u001b[m\r\n",
      " 9126806 drwxr-xr-x@  5     170 Oct 20 15:15 \u001b[34mpython-bigdata-master\u001b[m\u001b[m\r\n",
      " 1310775 drwxr-xr-x  16     544 Aug 11 08:17 \u001b[34mreinforcement-learning\u001b[m\u001b[m\r\n",
      " 9132544 drwxr-xr-x@ 17     578 Oct 20 15:37 \u001b[34mscipy4cv-master\u001b[m\u001b[m\r\n",
      " 9131505 drwxr-xr-x@ 21     714 Oct 20 15:20 \u001b[34mseaborn-master\u001b[m\u001b[m\r\n",
      " 9137711 drwxr-xr-x@ 18     612 Oct 20 15:49 \u001b[34mseamless-stable\u001b[m\u001b[m\r\n",
      " 9132256 drwxr-xr-x@  7     238 Oct 20 15:34 \u001b[34mstatlearning-notebooks-master\u001b[m\u001b[m\r\n",
      " 9123999 drwxr-xr-x@ 10     340 Oct 20 15:00 \u001b[34mstatsintro_python-master\u001b[m\u001b[m\r\n",
      " 9128648 drwxr-xr-x@ 26     884 Oct 20 15:15 \u001b[34mstatsmodels-master\u001b[m\u001b[m\r\n",
      " 1272438 drwxr-xr-x  11     374 Jul 20 06:42 \u001b[34mtext-classification\u001b[m\u001b[m\r\n",
      " 9126024 drwxr-xr-x@ 18     612 Oct 20 15:06 \u001b[34mtutorial_ml_gkbionics-master\u001b[m\u001b[m\r\n",
      "10278242 drwxr-xr-x@ 12     408 Nov 13 17:15 \u001b[34mweb-scrapers\u001b[m\u001b[m\r\n"
     ]
    }
   ],
   "source": [
    "\n",
    "!ls -agilno ../../"
   ]
  }
 ],
 "metadata": {
  "anaconda-cloud": {},
  "kernelspec": {
   "display_name": "Python 3",
   "language": "python",
   "name": "python3"
  },
  "language_info": {
   "codemirror_mode": {
    "name": "ipython",
    "version": 3
   },
   "file_extension": ".py",
   "mimetype": "text/x-python",
   "name": "python",
   "nbconvert_exporter": "python",
   "pygments_lexer": "ipython3",
   "version": "3.5.2"
  }
 },
 "nbformat": 4,
 "nbformat_minor": 2
}
