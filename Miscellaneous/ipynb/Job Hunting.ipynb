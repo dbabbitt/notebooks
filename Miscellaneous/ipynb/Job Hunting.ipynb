{
 "cells": [
  {
   "cell_type": "code",
   "execution_count": 2,
   "metadata": {
    "collapsed": false
   },
   "outputs": [
    {
     "name": "stdout",
     "output_type": "stream",
     "text": [
      "[]\n"
     ]
    },
    {
     "data": {
      "text/plain": [
       "0"
      ]
     },
     "execution_count": 2,
     "metadata": {},
     "output_type": "execute_result"
    }
   ],
   "source": [
    "applied_for_JRIDs = ['R0001165', 'R0000078', 'R0000364', '01222651', \n",
    "                     '01221549', '01219721', '01222378', '01222260',\n",
    "                     '01222212', 'R0001799', 'R0001743', 'R0002022']\n",
    "potential_JRIDs = ['01219721', '01222260', '01222378', '01222651', \n",
    "                   'R0001743', 'R0001799', 'R0002022']\n",
    "apply_for_list = list(set(potential_JRIDs) - set(applied_for_JRIDs))\n",
    "print(apply_for_list)\n",
    "len(apply_for_list)"
   ]
  },
  {
   "cell_type": "code",
   "execution_count": 3,
   "metadata": {
    "collapsed": false
   },
   "outputs": [],
   "source": [
    "import pickle\n",
    "\n",
    "dir = u\"../Administrivia/Job Hunting/\"\n",
    "if len(apply_for_list) == 0:\n",
    "    with open(dir + 'applied_for_JRIDs.pickle', 'wb') as handle:\n",
    "        pickle.dump(applied_for_JRIDs, handle, pickle.HIGHEST_PROTOCOL)"
   ]
  },
  {
   "cell_type": "code",
   "execution_count": 1,
   "metadata": {
    "collapsed": true
   },
   "outputs": [],
   "source": [
    "%matplotlib inline\n",
    "import os\n",
    "import pandas as pd\n",
    "\n",
    "#ValueError: time data '3/2/2017' does not match format '%Y-%m-%d %H:%M:%S'\n",
    "date_format = \"%m/%d/%Y\"\n",
    "date_column_list = ['Recruiting Start Date']\n",
    "date_parser = lambda x: None if x == 'nan' else pd.datetime.strptime(str(x), date_format)\n",
    "dir = u\"../Administrivia/Job Hunting/\"\n",
    "\n",
    "encoding = 'latin1'\n",
    "#encoding = 'iso8859-1'\n",
    "#encoding = 'utf-8'\n",
    "column_list = []"
   ]
  },
  {
   "cell_type": "code",
   "execution_count": 2,
   "metadata": {
    "collapsed": false
   },
   "outputs": [],
   "source": [
    "for root, dirs, files in os.walk(dir):\n",
    "    #path = root.split(os.sep)\n",
    "    #print((len(path)-1) * '---', os.path.basename(root))\n",
    "    for file in files:\n",
    "        #print(len(path) * '---', file)\n",
    "        if file.endswith(\".csv\"):\n",
    "            file_name = os.path.join(dir, file)\n",
    "            if os.path.isfile(file_name):\n",
    "                df = pd.read_csv(file_name, parse_dates=date_column_list, date_parser=date_parser, encoding=encoding)\n",
    "                column_list = list(set(column_list) | set(df.columns.tolist()))"
   ]
  },
  {
   "cell_type": "code",
   "execution_count": 3,
   "metadata": {
    "collapsed": true
   },
   "outputs": [],
   "source": [
    "everybody_df = pd.DataFrame([], columns=column_list)\n",
    "\n",
    "for root, dirs, files in os.walk(dir):\n",
    "    for file in files:\n",
    "        if file.endswith(\".csv\"):\n",
    "            file_name = os.path.join(dir, file)\n",
    "            if os.path.isfile(file_name):\n",
    "                df = pd.read_csv(file_name, parse_dates=date_column_list, date_parser=date_parser, encoding=encoding)\n",
    "                everybody_df = pd.concat([everybody_df, df])"
   ]
  },
  {
   "cell_type": "code",
   "execution_count": 4,
   "metadata": {
    "collapsed": false
   },
   "outputs": [
    {
     "data": {
      "text/plain": [
       "['Location',\n",
       " 'Management Level',\n",
       " 'Job Requisition ID',\n",
       " 'Job Posting',\n",
       " 'Required Clearance',\n",
       " 'Clearance Agency',\n",
       " 'Job Profile',\n",
       " 'Account Group',\n",
       " 'Job Description',\n",
       " 'IMT',\n",
       " 'Cluster',\n",
       " 'Resource Manager',\n",
       " 'Primary Recruiter',\n",
       " 'Group',\n",
       " 'Job Requisition Type',\n",
       " 'Recruiting Start Date',\n",
       " 'Hiring Manager',\n",
       " 'Job Family']"
      ]
     },
     "execution_count": 4,
     "metadata": {},
     "output_type": "execute_result"
    }
   ],
   "source": [
    "column_list"
   ]
  },
  {
   "cell_type": "code",
   "execution_count": 11,
   "metadata": {
    "collapsed": false
   },
   "outputs": [
    {
     "data": {
      "text/plain": [
       "array(['IT Project Mgr', 'SD Bus Sys Analyst Mid', 'SD Systems Analyst Sr',\n",
       "       'Network Engineer Sr', 'Learning & Dev Consult Sr',\n",
       "       'SD Test Engineer', 'Cyber Threat Analyst', 'IP Systems Admin',\n",
       "       'SD Bus Sys Analyst Sr', 'SD Web Designer Sr',\n",
       "       'Project Analyst Mid', 'Software Engineer', 'SD Project Analyst Sr',\n",
       "       'Geospatial Analyst Mid', 'Bus Ops Spec Mid', 'Bus Ops Spec Sr',\n",
       "       'Web Developer Mid', 'Security Admin Mid', 'Info Secur Eng Mid',\n",
       "       'Network Ops Sr Mgr', 'Cyber Sec Pol & Comp Analyst',\n",
       "       'Cyber Sec Pol & Comp Analyst Sr', 'Info Secur Eng Sr',\n",
       "       'Foreign Policy Analyst Lead', 'SD Test Engineer Mid',\n",
       "       'Network Systems Design Eng Sr', 'Comm-Cyber Sec Pol&Comp Anl Sr',\n",
       "       'Language Analyst Mid', 'Perf Consultant Mid', 'Systems Admin Lead',\n",
       "       'Comm-Cyber Sec Pol&Comp An Mid', 'Subcontract Admin Mid',\n",
       "       'Network Engineer Mid', 'Fin Sys Analyst Mid', 'SD Bus Sys Analyst',\n",
       "       'A/R Bill/Briefing Spec', 'Systems Engineer Mid',\n",
       "       'Software Engineer Lead', 'Software Engineer Mid',\n",
       "       'SD Web Developer Sr', 'SD Test Engineer Lead',\n",
       "       'Army-Defense Res Analyst', 'Fin Analyst Mid', 'SigInt Analyst Mid',\n",
       "       'Network Analyst Sr', 'All Source Analyst Mid',\n",
       "       'Comm-Emergency Prepare Spec Sr', 'Systems Engineer Sr',\n",
       "       'Systems Admin Mid', 'Program Manager Mid',\n",
       "       'Research Project Specialist', 'Logistics Analyst Sr',\n",
       "       'Comm-Communications Spec Mid', 'Strategy Consultant Lead',\n",
       "       'Environmental Specialist Mid', 'Intelligence Analyst Sr',\n",
       "       'Graphics Designer Mid', 'Intelligence Analyst Mid',\n",
       "       'Drafter/Designer Sr', 'IP Fin Analyst Lead',\n",
       "       'Cyber Security Engineer', 'Communications Spec',\n",
       "       'Program Analyst Lead', 'Document Specialist',\n",
       "       'Systems Engineer Lead', 'People Strategy Spec Lead',\n",
       "       'Project Analyst Sr', 'Ops Res Analyst Sr',\n",
       "       'Facilities Planner Mid', 'Data Scientist-Dom Expertise Sr',\n",
       "       'Data Scientist Sr', 'Healthcare Analyst Lead',\n",
       "       'Healthcare Analyst Mid', 'Programmer Analyst',\n",
       "       'IP Marketing Comm Prof Dir', 'Non-Ex Systems Programmer Mid',\n",
       "       'Bus Sys Analyst Mid', 'Prog Planning Analyst Mid',\n",
       "       'Communications Spec Sr', 'Computer Operations Lead',\n",
       "       'Acquisition Analyst Sr', 'IP Proposal Analyst Mid',\n",
       "       'Human Capital Analyst Mid', 'IP Contract Admin',\n",
       "       'Config/Data Mgmt Analyst Mid', 'Bus Sys Analyst',\n",
       "       'Comm-Emergency Prepare Spec Mid', 'Cyber Security Engineer Sr',\n",
       "       'SD Test Engineer Sr', 'Applications Dev Mid',\n",
       "       'Instructional Dev Sr', 'IT Architect Spec',\n",
       "       'Cyber Security Sol Eng/Arch Sr', 'Comm-IT Strategist Mid',\n",
       "       'Contract Admin Sr', 'Cyber Threat Analyst Sr',\n",
       "       'Def Sys Acquisition Spec Sr', 'SD Web Developer Mid',\n",
       "       'Instructional Dev Mid', 'Prog Planning Analyst Sr',\n",
       "       'Recruiting Spec Mid', 'Tech Support Eng Mid',\n",
       "       'Electrical Engineer Sr', 'IP Strategic Business An Lead',\n",
       "       'Program Analyst Mid', 'Software Engineer Sr', 'Database Admin Mid',\n",
       "       'Logistics Analyst Mid', 'Customer Trainer Mid',\n",
       "       'SD Web Developer Lead', 'Chemical Engineer Sr',\n",
       "       'Database Analyst Sr', 'Technical Trainer Mid',\n",
       "       'Learning Systems Strategist Lead', 'Technical Trainer Sr',\n",
       "       'Data Architect Sr', 'Joint Force-Def Res Analyst Mid',\n",
       "       'SD Project Analyst', 'Cyber Security Tester Sr',\n",
       "       'SD Technical Writer Mid', 'Network Systems Eng Mid',\n",
       "       'Programmer Analyst Sr', 'SD Project Manager Sr',\n",
       "       'Data Scientist Mid', 'Comm-Cyber Secur Pol&Comp Anl',\n",
       "       'Non-Ex Systems Admin Mid', 'Systems Engineer',\n",
       "       'Army-Defense Res Analyst Sr', 'Administrative Asst Sr',\n",
       "       'Data Architect Mid', 'All Source Analyst Sr',\n",
       "       'Joint Force-Def Res Analyst Sr', 'Bus Mgmt An',\n",
       "       'Air Force-Def Res Analyst Mid', 'Applications Prog Mid',\n",
       "       'Tax Analyst Sr', 'Foreign Policy Analyst Sr',\n",
       "       'NMC-Defense Res Analyst Mid', 'Comm-Communications Specialist',\n",
       "       'Data Architect Lead', 'Intelligence Analyst',\n",
       "       'Imagery Remt Sens Scientist Sr', 'Administrative Asst Jr',\n",
       "       'SD Program Manager Lead', 'Program Manager Lead',\n",
       "       'Air Force-Def Res Analyst Sr', 'HR Admin Coordinator',\n",
       "       'Computer/Tech Supp Mid', 'SD Program Manager',\n",
       "       'Engineer Technician', 'Applications Dev Sr',\n",
       "       'People Strategy Sr Mgr', 'Budget Analyst Sr', 'Cost Analyst Sr',\n",
       "       'Ops Res Analyst Mid', 'Database Admin Sr', 'Data Scientist',\n",
       "       'General Mgmt Consultant Sr', 'Cost Analyst Mid',\n",
       "       'IP Recruiting Specialist Sr', 'Systems Programmer Mid',\n",
       "       'Project Assistant Jr', 'Web Designer Mid',\n",
       "       'Communications Spec Mid', 'Network Analyst Mid',\n",
       "       'Intern- Research Asst Entry', 'Info Tech Consultant Mid',\n",
       "       'IT Project Support', 'Procurement Spec Mid',\n",
       "       'Transportation Eng Sr', 'Learning Systems Strategist Mid',\n",
       "       'Editor Mid', 'Facilities Planner Sr', 'Systems Admin Sr',\n",
       "       'Environmental Specialist Sr', 'Program Sr Manager',\n",
       "       'Facilities Sr Mgr', 'Reg/Legislative Analyst Sr',\n",
       "       'IP Recruiting Specialist Lead', 'Facilities Manager',\n",
       "       'Payroll Assistant Mid', 'IP Proposal Analyst Sr',\n",
       "       'Computer Operations Spec Sr', 'Programmer Analyst Mid',\n",
       "       'Electronics/Sys Eng Sr', 'Applied Earth Scientist Sr',\n",
       "       'IP Database Analyst Mid', 'SD Data Visualization Spec Mid',\n",
       "       'Recruiting Specialist Sr', 'Cyber Security Tester Lead',\n",
       "       'Security Analyst Sr', 'Applications Prog', 'IP HR Sr Manager',\n",
       "       'People Strategy Dir', 'Electrical Engineer', 'SD Web Developer',\n",
       "       'GMC Natl Secur Policy Prof Sr', 'Geospatial Analyst Sr',\n",
       "       'Cyber Security Engineer Mid', 'Acquisition Analyst Mid',\n",
       "       'IT Infrastructure Analyst Sr', 'IP Contract Admin Lead',\n",
       "       'Cyber Sec Pol & Comp Analyst Mid', 'Fin Analyst Sr',\n",
       "       'Cyber Security Sol Eng/Arch Mid', 'Program Analyst',\n",
       "       'IP HR Specialist Sr', 'Def Sys Acquisition Spec Mid',\n",
       "       'IP Bus Ops Spec', 'Methods/Procedures An Mid', 'Test Engineer Mid',\n",
       "       'Systems Admin', 'NMC-Defense Res Analyst Sr',\n",
       "       'Technical Editor Mid', 'General Management Consultant',\n",
       "       'Army-Defense Res Analyst Mid', 'Multi-Media Designer Mid',\n",
       "       'IP Fin Analyst Mgr', 'Accountant Mid', 'Accountant Lead',\n",
       "       'Accountant Sr', 'Database Architect Sr', 'Procurement Spec',\n",
       "       'Counterintelligence & HUMINT Spec Sr', 'Telecom/Network Eng Mid',\n",
       "       'IP Project Analyst', 'Telecom/Network Eng Sr',\n",
       "       'Engineer Technician Mid', 'IP IT Architect Spec Sr',\n",
       "       'Applications Prog Sr', 'SD Technical Writer',\n",
       "       'Data Visualization Spec Lead', 'Electrical Engineer Mid',\n",
       "       'Exercise Planner Sr', 'Tech Support Eng Sr', 'IP Recruiting Spec',\n",
       "       'Security Admin Sr', 'Security Ops Spec', 'Info Secur Eng',\n",
       "       'IP Graphics Designer Lead', 'Health Operations Sr',\n",
       "       'Health Industry Practitioner Sr', 'Clinical Psychologist Sr',\n",
       "       'Quality Assur Eng Mid', 'Contract Admin', 'Customer Trainer Sr',\n",
       "       'Quality Assur Eng Sr', 'Cyber Security Sol Eng/Arch Lead',\n",
       "       'Counterintelligence & HUMINT Spec Mid', 'Project Manager Sr',\n",
       "       'IT Project Mgr Lead', 'Contract Admin Sr Mgr',\n",
       "       'Learning & Dev Consult Mid', 'Healthcare Analyst',\n",
       "       'Communications Engineer Lead', 'IP Accountant Mid',\n",
       "       'Help Desk Support Spec Mid', 'General Mgmt Consultant Mid',\n",
       "       'Facilities Planner', 'Civil Engineer Manager',\n",
       "       'Facilities Planner Lead', 'IT Strategist',\n",
       "       'GMC Enterprise Risk Mgr Mid', 'Bus Sys Analyst Sr',\n",
       "       'Human Factors Scientist Mid', 'Document Specialist Mid',\n",
       "       'Network Ops Spec Lead', 'Energy Mgmt Analyst Sr', 'Test Engineer',\n",
       "       'Scientific Programmer Sr', 'Contract Admin Mid',\n",
       "       'Staff Health Scientist Sr', 'Healthcare Analyst Sr',\n",
       "       'Web Designer', 'Tech Support Eng', 'Research Analyst Sr',\n",
       "       'Systems Engineering Manager', 'Mechanical Engineer Mid',\n",
       "       'Open Source Specialist Sr', 'Logistics Analyst',\n",
       "       'IT Infrastructure Analyst Mid', 'IP HR Specialist',\n",
       "       'SD Web Designer', 'IP Tech Support Eng Mid', 'IP Tech Support Eng',\n",
       "       'Info Secur Eng Lead', 'Client Server Ops Analyst Mid',\n",
       "       'Bus Strategy Analyst', 'Learning Administrator',\n",
       "       'Comm-Program Manager Mid', 'Applications Prog Lead',\n",
       "       'Ops Res Analyst', 'SD Systems Analyst', 'All Source Analyst',\n",
       "       'NMC-Defense Res Analyst', 'Cyber Security Sol Eng/Arch',\n",
       "       'Technical Consultant Mid', 'Info Sys Training Spec Mid',\n",
       "       'IT Architect Spec Mid', 'Database Analyst Mid',\n",
       "       'Logistics Engineer Lead', 'Data Mining Analyst Mid',\n",
       "       'IP Systems Engineer Mid', 'Comm-Cyber Sec Sol Eng/Arch Sr Mgr',\n",
       "       'Administrative Asst Mid', 'Config/Data Mgmt Analyst Sr',\n",
       "       'IP Accountant', 'Network Comm Analyst Sr',\n",
       "       'IP Bus Process Consultant Lead', 'Cyber Threat Analyst Mid',\n",
       "       'Software QA Engineer Sr', 'Communications Engineer',\n",
       "       'IT Architect Spec Sr', 'Fin Sys Analyst Sr',\n",
       "       'Cyber Security Tester', 'Emergency Prepare Spec Mid',\n",
       "       'IP Recruiting Sr Mgr', 'Program Analyst Sr',\n",
       "       'Mechanical Engineer Sr', 'SigInt Technical Analyst Mid',\n",
       "       'Health & Safety Specialist Sr', 'Reg Compliance Analyst Mid',\n",
       "       'Communications Engineer Sr', 'Software Des Engr Sr',\n",
       "       'Org Analyst Sr', 'Info Secur Eng Mgr', 'Bus Process Consultant Sr',\n",
       "       'Geospatial Analyst', 'Digital Forensic Analyst Mid',\n",
       "       'Imagery Remt Sens Scientist Mid', 'Cyber Security Engineer Sr Mgr',\n",
       "       'SD Project Analyst Mid', 'Network Planning Analyst Mid',\n",
       "       'General Mgmt Consultant Lead', 'Non-Ex A/R Bll/Brfing Spec Mid',\n",
       "       'SigInt Analyst Sr', 'Network Comm Analyst',\n",
       "       'SD Project Manager Lead', 'IT Architect Lead',\n",
       "       'Strategy Consultant Mid', 'Product Management Sr',\n",
       "       'Export Compl Spec', 'Non-Ex Engineer Technician Mid',\n",
       "       'Electrical Engineer Lead', 'Learning & Dev Consult Lead',\n",
       "       'Instructional Dev', 'Security Analyst Mid',\n",
       "       'Software Architect Sr', 'IT Strategist Sr',\n",
       "       'Cyber Threat Analyst Lead', 'Network Systems Eng', 'Cost Analyst',\n",
       "       'Intern- Research Asst Sr', 'Cyber Sec Pol & Comp Analyst Lead',\n",
       "       'Product Sales Manager', 'Research Assistant Jr',\n",
       "       'Applications Dev', 'Bus Mgmt An Mid',\n",
       "       'Comm-General Mgmt Cons Lead', 'Human Factors Scientist Sr',\n",
       "       'Marketing Coordinator Mid', 'Assoc General Counsel Sr Mgr',\n",
       "       'Learning Systems Strategist', 'Subcontract Admin Sr',\n",
       "       'Cyber Security Engineer Lead', 'Cyber Threat Analyst Sr Mgr',\n",
       "       'Program Manager', 'Project Manager Lead', 'Technical Writer',\n",
       "       'Training Spec Lead', 'Research Analyst',\n",
       "       'Comm-Cyber Security Engineer', 'Database Admin',\n",
       "       'Applied Health Scientist Sr', 'Electronics/Sys Eng Lead',\n",
       "       'SD Systems Analyst/Prog Lead', 'Mechanical Design Eng Sr',\n",
       "       'Attorney Sr Mgr', 'Telecom Hardware Eng Sr',\n",
       "       'Database Architect Mid', 'Database Architect',\n",
       "       'Benefits Spec Lead', 'IT Infra Network Comm Analyst Sr',\n",
       "       'Systems Architect Sr', 'IP Facilities Planner Lead',\n",
       "       'Tech Writer Tech Mid', 'Acquisition Analyst Lead', 'Architect Sr',\n",
       "       'Wargaming Analyst Mid', 'SD Program Sr Manager',\n",
       "       'Aerospace Engineer Mid', 'Data Visualization Spec Sr',\n",
       "       'Civil Engineer Sr', 'Bus Process Consultant Mid',\n",
       "       'Human Capital Analyst', 'Architect Mid',\n",
       "       'Cyber Security Tester Mid', 'Network Ops Mid', 'Network Ops Mgr',\n",
       "       'Comm-Cyber Threat Analyst Mid', 'Drafter/Designer Tech Entry',\n",
       "       'Change Mgmt Consultant Sr', 'Project Manager Mid',\n",
       "       'Fin Analyst Mgr', 'Language Analyst Sr', 'Database Admin Mgr',\n",
       "       'Aviation Aerospace Analyst Mid', 'Environmental Engineer',\n",
       "       'Comm-Communications Spec Sr', 'Network Comm Analyst Mid',\n",
       "       'INTL Bus Ops Spec Mid', 'Aerospace Engineer Sr',\n",
       "       'Intelligence Analyst Lead', 'Training Sr Mgr',\n",
       "       'IP Software Engineer Sr', 'Capture Consultant Lead',\n",
       "       'IP Program Analyst', 'Supply Chain Spec Mid',\n",
       "       'Strategy Consultant Sr', 'Bus Strategy Analyst Sr',\n",
       "       'Benefits Sr Mgr', 'Test Engineer Sr', 'Internal Auditor Lead',\n",
       "       'Research Analyst Mid', 'GMC Learning Professional Sr',\n",
       "       'IT Architect Mgr', 'Budget Analyst Mid',\n",
       "       'Policy Development Spec Mid', 'Tech Pubs Writer/Editor Sr',\n",
       "       'Fin Analyst Lead', 'Fin Analyst', 'Customer Trainer',\n",
       "       'IP Systems Admin Sr', 'Technical Writer Mid',\n",
       "       'Info Serv Analyst Mid', 'Knowledge Spec Sr', 'Systems Analyst Mid',\n",
       "       'Logistics Engineer Sr', 'Telecom Eng/Analyst Sr',\n",
       "       'Systems Analyst Sr', 'Systems Analyst Lead',\n",
       "       'Policy Development Spec Sr', 'Web Developer Sr',\n",
       "       'IP Software Engineer Mid', 'Help Desk Support Spec',\n",
       "       'Electronics/Sys Eng Mid', 'Training Spec Sr', 'Internal Auditor',\n",
       "       'Recruiting Spec', 'Database Analyst',\n",
       "       'Imagery Remt Sens Scientist Lead', 'Web Developer',\n",
       "       'Info Systems Ops Lead', 'Web Designer Sr', 'Data Sec Analyst Lead',\n",
       "       'Civil Engineer Mid', 'Joint Force-Def Res Analyst Lead',\n",
       "       'Naval Engineer Sr', 'Enterprise Architect Sr',\n",
       "       'Office Services Assistant Mid', 'Bus Dev Director',\n",
       "       'Def Sys Acquisition Spec', 'Software QA Engineer Mid',\n",
       "       'Staff Biologist Sr', 'IP Program Analyst Mid', 'Security Director',\n",
       "       'Marketing Comm', 'Research Analyst Lead', 'Budget Analyst Lead',\n",
       "       'Human Capital Analyst Sr', 'Acquisition Mgr', 'Marketing Comm Sr',\n",
       "       'Client Server Ops Analyst Sr', 'Configuration Analyst Mid',\n",
       "       'Market Research An Lead', 'Logistics Analyst Lead',\n",
       "       'Relocation Sr Mgr', 'People Strategy Spec Sr', 'Graphics Designer',\n",
       "       'Training Spec Mid', 'Health & Safety Specialist Mid',\n",
       "       'Vice Pres - Recruiting Service', 'Marketing Comm Sr Mgr',\n",
       "       'Geospatial Analyst Lead', 'Org Analyst Lead',\n",
       "       'Software Engineering Sr Mgr', 'Software Engineer Mgr',\n",
       "       'Strategic Business An Sr', 'Knowledge Spec Mid',\n",
       "       'Engineer Technician Sr', 'Risk Analyst Sr', 'Perf Consultant Sr',\n",
       "       'Aviation Aerospace Analyst', 'Network Control Tech Sr',\n",
       "       'Legal Analyst', 'Capture Consultant Sr Mgr_BL',\n",
       "       'Security Ops Spec Sr', 'Learning & Dev Sr Manager',\n",
       "       'Telecom Engineering Sr Mgr', 'HR Program Coordinator Sr',\n",
       "       'Communications Engineer Mid', 'GMC Industry Strategist Prof Sr',\n",
       "       'GMC Industry Strategist Prf Sr Mgr',\n",
       "       'GMC Industry Strategist Prof', 'GMC Industry Strategist Prof Mid',\n",
       "       'Digital Artistry Spec Mid', 'Applications Dev Lead',\n",
       "       'Pricing Analyst Sr', 'Technical Editor Sr',\n",
       "       'Comm-Cyber Sec Sol Eng/Arch Sr', 'Info Tech Consultant Sr',\n",
       "       'Training Spec', 'Systems Architect Lead', 'Naval Engineer Lead',\n",
       "       'Data Sec Analyst Sr', 'Aviation Aerospace Analyst Sr',\n",
       "       'Logistics Engineer Mid', 'Communications Sr Mgr',\n",
       "       'INTL Resource Mgmt Spec Sr', 'Bus Mgmt An Dir',\n",
       "       'Environmental Engineer Mid', 'Environmental Engineer Sr',\n",
       "       'IT Project Support Sr', 'Translator Mid', 'Data Scientist Sr Mgr',\n",
       "       'Bus Mgmt An Sr', 'Data Sec Analyst Mid',\n",
       "       'Software Architect Sr Mgr', 'Ops Res Analyst Lead',\n",
       "       'Multi-Media Designer Sr'], dtype=object)"
      ]
     },
     "execution_count": 11,
     "metadata": {},
     "output_type": "execute_result"
    }
   ],
   "source": [
    "everybody_df['Job Profile'].unique()"
   ]
  },
  {
   "cell_type": "code",
   "execution_count": null,
   "metadata": {
    "collapsed": true
   },
   "outputs": [],
   "source": [
    "def f(row):\n",
    "    derived_name = str(row['StudentLastName']) + \", \" + str(row['StudentFirstName']) + \" (\" + str(row['derived_event']) + \")\"\n",
    "    derived_name = derived_name.upper()\n",
    "    \n",
    "    return derived_name\n",
    "\n",
    "t0 = time.time()\n",
    "everybody_df['derived_name'] = everybody_df.apply(lambda row: f(row), axis=1)\n",
    "t1 = time.time()\n",
    "print(t1-t0)"
   ]
  },
  {
   "cell_type": "code",
   "execution_count": 10,
   "metadata": {
    "collapsed": false
   },
   "outputs": [
    {
     "data": {
      "text/plain": [
       "array([True, False], dtype=object)"
      ]
     },
     "execution_count": 10,
     "metadata": {},
     "output_type": "execute_result"
    }
   ],
   "source": [
    "match = everybody_df['Required Clearance'].isin(['None', 'Secret', 'Confidential'])"
   ]
  },
  {
   "cell_type": "code",
   "execution_count": 9,
   "metadata": {
    "collapsed": false
   },
   "outputs": [
    {
     "data": {
      "text/plain": [
       "array(['USA, VA, Alexandria (6361 Walker Ln)',\n",
       "       'USA, DC, Washington (901 15th St NW)',\n",
       "       'USA, CA, San Diego (2841 Rendova Rd)',\n",
       "       'USA, NC, Fayetteville (4200 Morganton Rd)',\n",
       "       'USA, MA, Boston (50 Milk St)'], dtype=object)"
      ]
     },
     "execution_count": 9,
     "metadata": {},
     "output_type": "execute_result"
    }
   ],
   "source": [
    "match = everybody_df['Job Requisition ID'].isin(apply_for_list)\n",
    "everybody_df[match]['Location'].unique()"
   ]
  },
  {
   "cell_type": "code",
   "execution_count": null,
   "metadata": {
    "collapsed": true
   },
   "outputs": [],
   "source": [
    "rows_list = []\n",
    "for column_name in blank_columns:\n",
    "    \n",
    "    # Get input row in dictionary format; key = col_name\n",
    "    row_dict = {}\n",
    "    row_dict['column_name'] = column_name\n",
    "    row_dict['count_blanks'] = everybody_df[column_name].isnull().sum()\n",
    "    row_dict['count_uniques'] = len(everybody_df[column_name].unique())\n",
    "    \n",
    "    rows_list.append(row_dict)\n",
    "\n",
    "blank_ranking_df = pd.DataFrame(rows_list, columns=['column_name', 'count_blanks', 'count_uniques'])"
   ]
  }
 ],
 "metadata": {
  "kernelspec": {
   "display_name": "Python [Root]",
   "language": "python",
   "name": "Python [Root]"
  },
  "language_info": {
   "codemirror_mode": {
    "name": "ipython",
    "version": 3
   },
   "file_extension": ".py",
   "mimetype": "text/x-python",
   "name": "python",
   "nbconvert_exporter": "python",
   "pygments_lexer": "ipython3",
   "version": "3.5.2"
  }
 },
 "nbformat": 4,
 "nbformat_minor": 0
}
