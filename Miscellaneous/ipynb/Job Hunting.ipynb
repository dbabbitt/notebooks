{
 "cells": [
  {
   "cell_type": "markdown",
   "metadata": {},
   "source": [
    "\n",
    "---\n",
    "# Load needed libraries and functions"
   ]
  },
  {
   "cell_type": "code",
   "execution_count": 5,
   "metadata": {},
   "outputs": [
    {
     "name": "stdout",
     "output_type": "stream",
     "text": [
      "Pretty printing has been turned OFF\n",
      "D:\\Documents\\Repositories\\notebooks\\Miscellaneous\\ipynb\\Job Hunting.ipynb\n",
      "['s.attempt_to_pickle', 's.data_csv_folder', 's.data_folder', 's.encoding_type', 's.load_csv', 's.load_dataframes', 's.load_object', 's.save_dataframes', 's.saves_csv_folder', 's.saves_folder', 's.saves_pickle_folder', 's.store_objects']\n"
     ]
    },
    {
     "data": {
      "text/plain": [
       "['Config', 'CountVectorizer', 'In', 'Out', 'RandomForestClassifier', 'SequenceMatcher', 'Storage', 'TfidfTransformer', '_', '_2', '_3', '_4', '__', '___', '__builtin__', '__builtins__', '__doc__', '__loader__', '__name__', '__nonzero__', '__package__', '__spec__', '_dh', '_i', '_i1', '_i2', '_i3', '_i4', '_i5', '_ih', '_ii', '_iii', '_oh', 'basic_quals_dict', 'check_4_doubles', 'check_for_typos', 'conjunctify_list', 'copyfile', 'csv', 'encoding', 'exit', 'get_classifier', 'get_data_structs_dataframe', 'get_datastructure_prediction', 'get_dir_tree', 'get_git_lfs_track_commands', 'get_importances', 'get_input_sample', 'get_ipython', 'get_module_version', 'get_notebook_path', 'get_specific_gitignore_files', 'get_struct_name', 'humanize_bytes', 'hunting_df', 'ipykernel', 'json', 'jupyter_config_dir', 'notebook_path', 'notebookapp', 'np', 'os', 'pd', 'pickle', 'preprocess_data', 'print_all_files_ending_starting_with', 'print_all_files_ending_with', 'print_all_files_starting_with', 'quit', 're', 'remove_empty_folders', 's', 'similar', 'subprocess', 'sys', 'time', 'urllib']"
      ]
     },
     "execution_count": 5,
     "metadata": {},
     "output_type": "execute_result"
    }
   ],
   "source": [
    "\n",
    "%run ../../load_magic/storage.py\n",
    "%run ../../load_magic/paths.py\n",
    "%run ../../load_magic/lists.py\n",
    "%run ../../load_magic/environment.py\n",
    "import numpy as np\n",
    "from sklearn.feature_extraction.text import CountVectorizer\n",
    "from sklearn.feature_extraction.text import TfidfTransformer\n",
    "%pprint\n",
    "\n",
    "notebook_path = get_notebook_path()\n",
    "print(notebook_path)\n",
    "\n",
    "s = Storage()\n",
    "print(['s.{}'.format(fn) for fn in dir(s) if not fn.startswith('_')])\n",
    "hunting_df = s.load_object('hunting_df')\n",
    "basic_quals_dict = s.load_object('basic_quals_dict')\n",
    "dir()"
   ]
  },
  {
   "cell_type": "code",
   "execution_count": 6,
   "metadata": {},
   "outputs": [
    {
     "data": {
      "text/plain": [
       "Index(['Hiring Manager', 'Management Level', 'IMT', 'Job Requisition',\n",
       "       'Job Requisition Type', 'Cluster', 'Time Type', 'Job Posting Title',\n",
       "       'Safi Recommendation', 'Recruiting Start Date', 'Account Group',\n",
       "       'Job Requisition ID', 'Job Type', 'Supervisory Organization',\n",
       "       'Clearance Agency', 'Primary Location State/Province', 'Furthest Stage',\n",
       "       'Resource Manager', 'Primary Location', 'Job Description', 'Group',\n",
       "       'Job Profile', 'Job Family Group', 'FSO', 'Job Family',\n",
       "       'Job Requisition Status', 'Business Title', 'Job Posting',\n",
       "       'Primary Location Country', 'Required Clearance', 'Primary Recruiter',\n",
       "       'percent_fit', 'is_opportunity_application_emailed',\n",
       "       'is_remote_delivery', 'manager_notes', 'CS Notes'],\n",
       "      dtype='object')"
      ]
     },
     "execution_count": 6,
     "metadata": {},
     "output_type": "execute_result"
    }
   ],
   "source": [
    "\n",
    "hunting_df.columns"
   ]
  },
  {
   "cell_type": "code",
   "execution_count": null,
   "metadata": {},
   "outputs": [],
   "source": []
  },
  {
   "cell_type": "markdown",
   "metadata": {},
   "source": [
    "\n",
    "---\n",
    "# Needed extra functions"
   ]
  },
  {
   "cell_type": "code",
   "execution_count": 2,
   "metadata": {
    "jupyter": {
     "source_hidden": true
    }
   },
   "outputs": [],
   "source": [
    "\n",
    "# Email prep\n",
    "subject_str = '{}% fit: Internal Candidate, Dave Babbitt, for {}'\n",
    "concerns_str = 'One important question I have is if the work can be supported remotely or if this position is available for remote delivery '\n",
    "concerns_str += '(or something equivalent).'\n",
    "concerns_str += \" I don't want to move my family out of New England.\"\n",
    "text_editor_path = r'C:\\Program Files\\Notepad++\\notepad++.exe'\n",
    "emails_dir = os.path.join(s.saves_folder, 'emails')\n",
    "os.makedirs(name=emails_dir, exist_ok=True)\n",
    "name_regex = re.compile(r'^([^(]+) \\((\\d+)\\)')\n",
    "def clean_email(email_str):\n",
    "    match_obj = name_regex.search(email_str)\n",
    "    if match_obj:\n",
    "        email_str = match_obj.group(1).strip()\n",
    "        employee_id = match_obj.group(2).strip()\n",
    "        names_list = re.split(r'\\s+', email_str, 0)\n",
    "        if len(names_list) >= 2:\n",
    "            first_name = names_list[0]\n",
    "            last_name = names_list[1]\n",
    "            email_str = '{}, {} [USA] <{}@bah.com>'.format(last_name, first_name, employee_id)\n",
    "    \n",
    "    return email_str"
   ]
  },
  {
   "cell_type": "code",
   "execution_count": 3,
   "metadata": {
    "jupyter": {
     "source_hidden": true
    }
   },
   "outputs": [],
   "source": [
    "\n",
    "def get_percent_fit(row_series):\n",
    "    percent_fit = row_series['percent_fit']\n",
    "    if str(percent_fit) == 'nan':\n",
    "        percent_fit = 0\n",
    "    percent_fit = int(percent_fit*100)\n",
    "    \n",
    "    return percent_fit"
   ]
  },
  {
   "cell_type": "code",
   "execution_count": 4,
   "metadata": {
    "jupyter": {
     "source_hidden": true
    }
   },
   "outputs": [],
   "source": [
    "\n",
    "def print_loc_computation(row_index, quals_list, basic_quals_dict):\n",
    "    print()\n",
    "    numerator_str_list = []\n",
    "    for qual_str in quals_list:\n",
    "        if qual_str in basic_quals_dict:\n",
    "            numerator_str_list.append(str(basic_quals_dict[qual_str]))\n",
    "        else:\n",
    "            numerator_str_list.append('000')\n",
    "    numerator_str = '+'.join(numerator_str_list)\n",
    "    print(\"hunting_df.loc[{}, 'percent_fit'] = ({})/{}\".format(row_index, numerator_str, len(quals_list)))"
   ]
  },
  {
   "cell_type": "code",
   "execution_count": 5,
   "metadata": {
    "jupyter": {
     "source_hidden": true
    }
   },
   "outputs": [],
   "source": [
    "\n",
    "def get_predictions_and_counts(prediction_list, quals_list):\n",
    "    qual_count = 0\n",
    "    prediction_str = ''\n",
    "    for pred_array, qual_str in zip(prediction_list, quals_list):\n",
    "        prediction = pred_array[1]\n",
    "        prediction_str += '\\n{} {}'.format(prediction, qual_str)\n",
    "        if prediction > 0.5:\n",
    "            qual_count += 1\n",
    "    \n",
    "    return prediction_str, qual_count"
   ]
  },
  {
   "cell_type": "code",
   "execution_count": 6,
   "metadata": {
    "jupyter": {
     "source_hidden": true
    }
   },
   "outputs": [],
   "source": [
    "\n",
    "def get_quals_str(prediction_list, quals_list, basic_quals_dict):\n",
    "    qual_count = 0\n",
    "    quals_str = ''\n",
    "    for pred_array, (i, qual_str) in zip(prediction_list, enumerate(quals_list)):\n",
    "        if qual_str in basic_quals_dict:\n",
    "            formatted_str = '\\nquals_list[{}] = \"{}\" ({})'\n",
    "        else:\n",
    "            formatted_str = '\\n*quals_list[{}] = \"{}\" ({})'\n",
    "        prediction = pred_array[1]\n",
    "        quals_str += formatted_str.format(i, qual_str, prediction)\n",
    "        if prediction > 0.5:\n",
    "            qual_count += 1\n",
    "    \n",
    "    return quals_str, qual_count"
   ]
  },
  {
   "cell_type": "code",
   "execution_count": 7,
   "metadata": {
    "jupyter": {
     "source_hidden": true
    }
   },
   "outputs": [],
   "source": [
    "\n",
    "def print_fit_job(row_index, row_series, basic_quals_dict):\n",
    "    job_fitness = 0.0\n",
    "    job_description = row_series['Job Description']\n",
    "    quals_list = get_quals_list(job_description)\n",
    "    if len(quals_list):\n",
    "        prediction_list = list(predict_percent_fit(quals_list))\n",
    "        #prediction_str, qual_count = get_predictions_and_counts(prediction_list, quals_list)\n",
    "        quals_str, qual_count = get_quals_str(prediction_list, quals_list, basic_quals_dict)\n",
    "        job_fitness = qual_count/len(prediction_list)\n",
    "        if job_fitness > 0.8:\n",
    "            print('Basic Qualifications:{}'.format(quals_str))\n",
    "            #print(prediction_str)\n",
    "            print(job_fitness)\n",
    "            print_loc_computation(row_index, quals_list, basic_quals_dict)\n",
    "    \n",
    "    return quals_list, job_fitness"
   ]
  },
  {
   "cell_type": "code",
   "execution_count": 8,
   "metadata": {
    "jupyter": {
     "source_hidden": true
    }
   },
   "outputs": [],
   "source": [
    "\n",
    "def qual_sum(qual_str):\n",
    "    results = '\"{}\"'.format(qual_str)\n",
    "    if qual_str in basic_quals_dict:\n",
    "        results = basic_quals_dict[qual_str]\n",
    "    else:\n",
    "        results = predict_percent_fit([qual_str])[0][1]\n",
    "        if results > 0.5:\n",
    "            results = 1.0\n",
    "        else:\n",
    "            results = 0.0\n",
    "    \n",
    "    return str(results)"
   ]
  },
  {
   "cell_type": "code",
   "execution_count": 9,
   "metadata": {
    "jupyter": {
     "source_hidden": true
    }
   },
   "outputs": [],
   "source": [
    "\n",
    "def print_job_description(req_id):\n",
    "    match_series = (hunting_df['Job Requisition ID'] == req_id)\n",
    "    job_description = hunting_df[match_series]['Job Description'].tolist()[0]\n",
    "    print(get_quals_list(job_description))\n",
    "    print(job_description)"
   ]
  },
  {
   "cell_type": "code",
   "execution_count": 10,
   "metadata": {
    "jupyter": {
     "source_hidden": true
    }
   },
   "outputs": [],
   "source": [
    "\n",
    "scanner_regex = re.compile(r'\\b[1-9a-zA-Z][0-9a-zA-Z]*( *[#\\+]{1,2}|\\b)')\n",
    "def regex_tokenizer(corpus):\n",
    "    \n",
    "    return [match.group() for match in re.finditer(scanner_regex, corpus)]"
   ]
  },
  {
   "cell_type": "code",
   "execution_count": 11,
   "metadata": {
    "jupyter": {
     "source_hidden": true
    }
   },
   "outputs": [],
   "source": [
    "\n",
    "import string\n",
    "\n",
    "printable_regex = re.compile('[^{}]+'.format(string.printable))\n",
    "def un_msword_ify(x):\n",
    "    msword_str = str(x)\n",
    "    msword_str = printable_regex.sub(r' ', msword_str).strip()\n",
    "    msword_str = re.sub(r'[^\\x00-\\x7f]+', r' ', msword_str).strip()\n",
    "    msword_str = re.sub(r' +', ' ', msword_str)\n",
    "    msword_str = re.sub(r'::', ':', msword_str)\n",
    "    msword_str = re.sub(r':$', '', msword_str)\n",
    "    msword_str = re.sub(r'^-', '', msword_str)\n",
    "    \n",
    "    return msword_str"
   ]
  },
  {
   "cell_type": "code",
   "execution_count": 12,
   "metadata": {
    "jupyter": {
     "source_hidden": true
    }
   },
   "outputs": [],
   "source": [
    "\n",
    "a_list = ['Additional Qualifications?', 'Nice If You Have', 'Nice if you have', 'Nice if You Have',\n",
    "          'Additional Preferred Qualifications', 'Nice if you Have', 'Additional qualifications', 'Nice to Have']\n",
    "a_str = '({}):?'.format('|'.join(a_list))\n",
    "def get_quals_list(job_description):\n",
    "    job_description = un_msword_ify(job_description)\n",
    "    basic_quals = ''\n",
    "    quals_list = []\n",
    "    items_list = re.split('(Key Role|The Challenge):', job_description, 0)\n",
    "    if len(items_list) > 1:\n",
    "        job_description = items_list[-1].strip()\n",
    "    items_list = re.split('[\\r\\n]+(Basic Qualifications?|You Have|You have):?', job_description, 0)\n",
    "    if len(items_list) > 1:\n",
    "        job_description = items_list[-1].strip()\n",
    "    items_list = re.split(a_str, job_description, 0)\n",
    "    if len(items_list) > 1:\n",
    "        basic_quals = items_list[0].strip()\n",
    "    else:\n",
    "        items_list = re.split('(Clearance|Build Your Career):', job_description, 0)\n",
    "        basic_quals = items_list[0].strip()\n",
    "    if basic_quals != '':\n",
    "        quals_list = [un_msword_ify(q) for q in re.split('[\\r\\n]+', basic_quals, 0)]\n",
    "        quals_list = [x for x in quals_list if x != '']\n",
    "    \n",
    "    return quals_list"
   ]
  },
  {
   "cell_type": "code",
   "execution_count": 13,
   "metadata": {
    "jupyter": {
     "source_hidden": true
    }
   },
   "outputs": [],
   "source": [
    "\n",
    "def print_emails(match_series):\n",
    "    for file_name in os.listdir(emails_dir):\n",
    "        if file_name.endswith('.txt'):\n",
    "            file_path = os.path.join(emails_dir, file_name)\n",
    "            os.remove(file_path)\n",
    "    for row_index, row_series in hunting_df[match_series].sort_values('percent_fit', ascending=False).iterrows():\n",
    "        req_str = row_series['Job Requisition']\n",
    "        percent_fit = get_percent_fit(row_series)\n",
    "        sents_list = ['I’m submitting my resume for {}.'.format(req_str),\n",
    "                      'I’ve reviewed the basic qualifications and believe I’m a good fit for this project.',\n",
    "                      'Below is a breakdown of the requirements and the amount of experience I have with each.',\n",
    "                      'I’m available at your convenience to discuss my qualifications and look forward to hearing from you.']\n",
    "        blurb_str = ' '.join(sents_list)\n",
    "        hm_str = row_series['Hiring Manager']\n",
    "        pr_str = row_series['Primary Recruiter']\n",
    "        job_description = row_series['Job Description']\n",
    "        quals_list = get_quals_list(job_description)\n",
    "        quals_str = '\\n•\\t' + '\\n•\\t'.join(quals_list)\n",
    "        file_path = os.path.join(emails_dir, '{}_email.txt'.format(row_series['Job Requisition ID'].strip()))\n",
    "        if not os.path.isfile(file_path):\n",
    "            with open(file_path, 'w', encoding=s.encoding_type) as io_wrapper:\n",
    "                print('', file=io_wrapper)\n",
    "                print('To: {}; {}'.format(clean_email(hm_str), clean_email(pr_str)), file=io_wrapper)\n",
    "                print('CC: Safi, Claudia [USA] <safi_claudia@bah.com>; Borrelli, Bill [USA] <Borrelli_Bill@bah.com>', file=io_wrapper)\n",
    "                print(subject_str.format(percent_fit, req_str), file=io_wrapper)\n",
    "                print('', file=io_wrapper)\n",
    "                print('Dear {},'.format(hm_str.split(' ')[0]), file=io_wrapper)\n",
    "                print('', file=io_wrapper)\n",
    "                print('{}'.format(blurb_str), file=io_wrapper)\n",
    "                print('', file=io_wrapper)\n",
    "                print('Basic Qualifications:{}'.format(quals_str), file=io_wrapper)\n",
    "                print('', file=io_wrapper)\n",
    "                print(concerns_str, file=io_wrapper)\n",
    "                print('', file=io_wrapper)\n",
    "                print('Attached: Dave_Babbitt_Resume_for_{}.pdf'.format('_'.join(re.split(r'[ \\\\\\/:\\*\\?\"><\\|]+', req_str, 0))),\n",
    "                      file=io_wrapper)\n",
    "            !\"{text_editor_path}\" \"{os.path.abspath(file_path)}\"\n",
    "    !start %windir%\\explorer.exe \"{os.path.abspath(emails_dir)}\""
   ]
  },
  {
   "cell_type": "code",
   "execution_count": 14,
   "metadata": {
    "jupyter": {
     "source_hidden": true
    }
   },
   "outputs": [],
   "source": [
    "\n",
    "# Add new ORR to the hunting dataframe\n",
    "text_editor_path = r'C:\\Program Files\\Notepad++\\notepad++.exe'\n",
    "jd_cn = 'Job Description'\n",
    "reqid_cn = 'Job Requisition ID'\n",
    "dupe_columns_list = ['Hiring Manager', 'Management Level', 'IMT', 'Job Requisition', 'Job Requisition Type', 'Cluster', 'Time Type',\n",
    "                     'Job Posting Title', 'Recruiting Start Date', 'Account Group', reqid_cn, 'Job Type',\n",
    "                     'Supervisory Organization', 'Clearance Agency', 'Primary Location State/Province', 'Furthest Stage',\n",
    "                     'Resource Manager', 'Primary Location', jd_cn, 'Group', 'Job Profile', 'Job Family Group', 'FSO',\n",
    "                     'Job Family', 'Job Requisition Status', 'Business Title', 'Job Posting', 'Primary Location Country',\n",
    "                     'Required Clearance', 'Primary Recruiter']\n",
    "columns_list = ['Job Posting', 'Job Requisition', reqid_cn, 'Job Requisition Status', 'Furthest Stage',\n",
    "                'Supervisory Organization', 'Group', 'Account Group', 'IMT', 'Cluster', 'FSO', 'Primary Recruiter',\n",
    "                'Resource Manager', 'Hiring Manager', 'Job Posting Title', 'Job Profile', 'Job Requisition Type',\n",
    "                'Management Level', 'Primary Location', 'Primary Location State/Province', 'Primary Location Country',\n",
    "                'Required Clearance', 'Clearance Agency', 'Time Type', 'Recruiting Start Date', 'Job Type', 'Job Family',\n",
    "                'Business Title', 'Job Family Group', jd_cn]\n",
    "hunting_dir = r'D:\\Documents\\Administrivia\\Job Hunting\\csv'\n",
    "def add_new_orr(file_name, hunting_df):\n",
    "    file_path = os.path.join(hunting_dir, file_name)\n",
    "    if os.path.isfile(file_path):\n",
    "        df = pd.read_csv(file_path, header=0, skiprows=0, encoding='iso8859-1')\n",
    "        df.columns = columns_list\n",
    "        req_id_list = hunting_df[reqid_cn].unique().tolist()\n",
    "        match_series = (df[reqid_cn].isin(req_id_list))\n",
    "        hunting_df = pd.concat([hunting_df, df[~match_series]]).fillna({'is_opportunity_application_emailed': False})\n",
    "        hunting_df[jd_cn] = hunting_df[jd_cn].map(un_msword_ify)\n",
    "        hunting_df = hunting_df.drop_duplicates(subset=dupe_columns_list, ignore_index=True)\n",
    "        hunting_df.reset_index(drop=True, inplace=True)\n",
    "        \n",
    "        return hunting_df"
   ]
  },
  {
   "cell_type": "code",
   "execution_count": 15,
   "metadata": {
    "jupyter": {
     "source_hidden": true
    }
   },
   "outputs": [],
   "source": [
    "\n",
    "basic_quals_dict = s.load_object('basic_quals_dict')\n",
    "def get_basic_quals(row_index):\n",
    "    match_series = (hunting_df.index == row_index)\n",
    "    for row_index, row_series in hunting_df[match_series].iterrows():\n",
    "        percent_fit = get_percent_fit(row_series)\n",
    "        job_description = row_series['Job Description']\n",
    "        quals_list = get_quals_list(job_description)\n",
    "        quals_str = get_quals_str(quals_list, basic_quals_dict)\n",
    "        if (quals_str != '') and (percent_fit == 0):\n",
    "            print('Basic Qualifications:{}'.format(quals_str))\n",
    "            print_loc_computation(row_index, quals_list, basic_quals_dict)\n",
    "    \n",
    "    return quals_list"
   ]
  },
  {
   "cell_type": "markdown",
   "metadata": {},
   "source": [
    "\n",
    "---\n",
    "# Add Next ORR"
   ]
  },
  {
   "cell_type": "code",
   "execution_count": 16,
   "metadata": {},
   "outputs": [
    {
     "name": "stdout",
     "output_type": "stream",
     "text": [
      "BAH1002 - Open Requisitions Report (ORR) 2020-03-20 09_03 EDT.csv\n"
     ]
    }
   ],
   "source": [
    "\n",
    "file_name = 'BAH1002 - Open Requisitions Report (ORR) 2020-03-20 09_03 EDT.csv'\n",
    "print(file_name)\n",
    "file_path = os.path.join(hunting_dir, file_name)\n",
    "!\"{text_editor_path}\" \"{os.path.abspath(file_path)}\""
   ]
  },
  {
   "cell_type": "code",
   "execution_count": 24,
   "metadata": {},
   "outputs": [],
   "source": [
    "\n",
    "hunting_df = s.load_object('hunting_df')\n",
    "hunting_df = add_new_orr(file_name, hunting_df)"
   ]
  },
  {
   "cell_type": "code",
   "execution_count": 196,
   "metadata": {},
   "outputs": [
    {
     "data": {
      "text/html": [
       "<div>\n",
       "<style scoped>\n",
       "    .dataframe tbody tr th:only-of-type {\n",
       "        vertical-align: middle;\n",
       "    }\n",
       "\n",
       "    .dataframe tbody tr th {\n",
       "        vertical-align: top;\n",
       "    }\n",
       "\n",
       "    .dataframe thead th {\n",
       "        text-align: right;\n",
       "    }\n",
       "</style>\n",
       "<table border=\"1\" class=\"dataframe\">\n",
       "  <thead>\n",
       "    <tr style=\"text-align: right;\">\n",
       "      <th></th>\n",
       "      <th>4788</th>\n",
       "      <th>4789</th>\n",
       "      <th>4790</th>\n",
       "      <th>4791</th>\n",
       "      <th>4792</th>\n",
       "    </tr>\n",
       "  </thead>\n",
       "  <tbody>\n",
       "    <tr>\n",
       "      <th>Hiring Manager</th>\n",
       "      <td>Nicolas Cornelius | Nick Cornelius (595195)</td>\n",
       "      <td>Daniel Russo | Dan Russo (523045)</td>\n",
       "      <td>Jefferey Fiorito | Jeff Fiorito (508386)</td>\n",
       "      <td>Carl Manion (609875)</td>\n",
       "      <td>Kate Knyzewski (520431)</td>\n",
       "    </tr>\n",
       "    <tr>\n",
       "      <th>Management Level</th>\n",
       "      <td>Associate</td>\n",
       "      <td>Associate</td>\n",
       "      <td>Associate</td>\n",
       "      <td>Associate</td>\n",
       "      <td>Senior Consultant</td>\n",
       "    </tr>\n",
       "    <tr>\n",
       "      <th>IMT</th>\n",
       "      <td>NMC ENG &amp; TECH IMT</td>\n",
       "      <td>ARMY WEAPONS IMT</td>\n",
       "      <td>NMC ENG &amp; TECH IMT</td>\n",
       "      <td>COMMERCIAL CONSULTING IMT</td>\n",
       "      <td>CYBER &amp; ENGINEERING IMT</td>\n",
       "    </tr>\n",
       "    <tr>\n",
       "      <th>Job Requisition</th>\n",
       "      <td>R0080720 Test Engineer, Senior (Open)</td>\n",
       "      <td>R0080421 Vehicle Engineer (Open)</td>\n",
       "      <td>R0080703 Virtual Reality Aviation Training Sys...</td>\n",
       "      <td>R0080752 Vulnerability Attack Surface Reductio...</td>\n",
       "      <td>R0081029 Workforce Business Analyst (Open)</td>\n",
       "    </tr>\n",
       "    <tr>\n",
       "      <th>Job Requisition Type</th>\n",
       "      <td>Capability Building</td>\n",
       "      <td>Contingent</td>\n",
       "      <td>Sold and Funded</td>\n",
       "      <td>Capability Building</td>\n",
       "      <td>Sold and Funded</td>\n",
       "    </tr>\n",
       "    <tr>\n",
       "      <th>Cluster</th>\n",
       "      <td>Lexington Park Cluster</td>\n",
       "      <td>Huntsville Cluster</td>\n",
       "      <td>Dayton Cluster</td>\n",
       "      <td>Colorado Springs Cluster</td>\n",
       "      <td>Wash Metro Cluster</td>\n",
       "    </tr>\n",
       "    <tr>\n",
       "      <th>Time Type</th>\n",
       "      <td>Full time</td>\n",
       "      <td>Full time</td>\n",
       "      <td>Full time</td>\n",
       "      <td>Full time</td>\n",
       "      <td>Full time</td>\n",
       "    </tr>\n",
       "    <tr>\n",
       "      <th>Job Posting Title</th>\n",
       "      <td>Test Engineer, Senior</td>\n",
       "      <td>Vehicle Engineer</td>\n",
       "      <td>Virtual Reality Aviation Training Systems Admi...</td>\n",
       "      <td>Vulnerability Attack Surface Reduction, Senior...</td>\n",
       "      <td>Workforce Business Analyst</td>\n",
       "    </tr>\n",
       "    <tr>\n",
       "      <th>Safi Recommendation</th>\n",
       "      <td>NaN</td>\n",
       "      <td>NaN</td>\n",
       "      <td>NaN</td>\n",
       "      <td>NaN</td>\n",
       "      <td>NaN</td>\n",
       "    </tr>\n",
       "    <tr>\n",
       "      <th>Recruiting Start Date</th>\n",
       "      <td>2020-03-16</td>\n",
       "      <td>2020-03-09</td>\n",
       "      <td>2020-03-12</td>\n",
       "      <td>2020-03-12</td>\n",
       "      <td>2020-03-18</td>\n",
       "    </tr>\n",
       "    <tr>\n",
       "      <th>Account Group</th>\n",
       "      <td>NMC ACCT GROUP</td>\n",
       "      <td>ARMY ACCT GROUP</td>\n",
       "      <td>NMC ACCT GROUP</td>\n",
       "      <td>COMMERCIAL ACCT GROUP</td>\n",
       "      <td>FSO ACCT GROUP</td>\n",
       "    </tr>\n",
       "    <tr>\n",
       "      <th>Job Requisition ID</th>\n",
       "      <td>R0080720</td>\n",
       "      <td>R0080421</td>\n",
       "      <td>R0080703</td>\n",
       "      <td>R0080752</td>\n",
       "      <td>R0081029</td>\n",
       "    </tr>\n",
       "    <tr>\n",
       "      <th>Job Type</th>\n",
       "      <td>Regular</td>\n",
       "      <td>Regular</td>\n",
       "      <td>Regular</td>\n",
       "      <td>Regular</td>\n",
       "      <td>Regular</td>\n",
       "    </tr>\n",
       "    <tr>\n",
       "      <th>Supervisory Organization</th>\n",
       "      <td>Supervisory Organization (Nicolas Cornelius | ...</td>\n",
       "      <td>Supervisory Organization (Daniel Russo | Dan R...</td>\n",
       "      <td>Supervisory Organization (Jefferey Fiorito | J...</td>\n",
       "      <td>Supervisory Organization (Carl Manion (609875))</td>\n",
       "      <td>Supervisory Organization (Kate Knyzewski (5204...</td>\n",
       "    </tr>\n",
       "    <tr>\n",
       "      <th>Clearance Agency</th>\n",
       "      <td>DOD</td>\n",
       "      <td>DOD</td>\n",
       "      <td>DOD</td>\n",
       "      <td>None</td>\n",
       "      <td>Other</td>\n",
       "    </tr>\n",
       "    <tr>\n",
       "      <th>Primary Location State/Province</th>\n",
       "      <td>South Carolina</td>\n",
       "      <td>Michigan</td>\n",
       "      <td>Florida</td>\n",
       "      <td>Colorado</td>\n",
       "      <td>Virginia</td>\n",
       "    </tr>\n",
       "    <tr>\n",
       "      <th>Furthest Stage</th>\n",
       "      <td>Review</td>\n",
       "      <td>Review</td>\n",
       "      <td>Review</td>\n",
       "      <td>Review</td>\n",
       "      <td>Review</td>\n",
       "    </tr>\n",
       "    <tr>\n",
       "      <th>Resource Manager</th>\n",
       "      <td>Andrew Campos (594954)</td>\n",
       "      <td>Jessica McCann (602189)</td>\n",
       "      <td>Michael Gallagher (900179)[C]</td>\n",
       "      <td>Kiran Syed | Kiran Zafar (530950)</td>\n",
       "      <td>John Grumbine (523377)</td>\n",
       "    </tr>\n",
       "    <tr>\n",
       "      <th>Primary Location</th>\n",
       "      <td>USA, SC, North Charleston (1141 Remount Road -...</td>\n",
       "      <td>USA, MI, Warren (6501 E 11 Mile Rd)</td>\n",
       "      <td>USA, FL, Milton (7760 Saratoga St)</td>\n",
       "      <td>USA, CO, Denver (1644 Platte St)</td>\n",
       "      <td>USA, VA, Herndon (575 Herndon Pkwy)</td>\n",
       "    </tr>\n",
       "    <tr>\n",
       "      <th>Job Description</th>\n",
       "      <td>The Challenge:\\nHow do we know if systems we d...</td>\n",
       "      <td>The Challenge:\\nWhat if you could use your eng...</td>\n",
       "      <td>The Challenge:\\nYour combination of people ski...</td>\n",
       "      <td>Key Role:\\nWork as a Vulnerability Attack Surf...</td>\n",
       "      <td>Key Role:\\nPerform as an individual contributo...</td>\n",
       "    </tr>\n",
       "    <tr>\n",
       "      <th>Group</th>\n",
       "      <td>GLOBAL DEFENSE GROUP</td>\n",
       "      <td>GLOBAL DEFENSE GROUP</td>\n",
       "      <td>GLOBAL DEFENSE GROUP</td>\n",
       "      <td>GLOBAL DEFENSE GROUP</td>\n",
       "      <td>STRATEGIC INNOVATION GROUP</td>\n",
       "    </tr>\n",
       "    <tr>\n",
       "      <th>Job Profile</th>\n",
       "      <td>Test Engineer Sr</td>\n",
       "      <td>Electrical Engineer Sr</td>\n",
       "      <td>Systems Admin Sr</td>\n",
       "      <td>Comm-Cyber Sec Sol Eng/Arch Sr</td>\n",
       "      <td>Bus Ops Spec Mid</td>\n",
       "    </tr>\n",
       "    <tr>\n",
       "      <th>Job Family Group</th>\n",
       "      <td>Engineering &amp; Science Professional</td>\n",
       "      <td>Engineering &amp; Science Professional</td>\n",
       "      <td>Engineering &amp; Science Professional</td>\n",
       "      <td>Technology</td>\n",
       "      <td>Consulting &amp; Mission Operations</td>\n",
       "    </tr>\n",
       "    <tr>\n",
       "      <th>FSO</th>\n",
       "      <td>E&amp;S</td>\n",
       "      <td>E&amp;S</td>\n",
       "      <td>E&amp;S</td>\n",
       "      <td>Cyber</td>\n",
       "      <td>Analytics</td>\n",
       "    </tr>\n",
       "    <tr>\n",
       "      <th>Job Family</th>\n",
       "      <td>Test &amp; Evaluation Engineer</td>\n",
       "      <td>Electrical and Electronics Engineer</td>\n",
       "      <td>IT Infrastructure Operations Engineer</td>\n",
       "      <td>Cyber Architecture &amp; Engineering</td>\n",
       "      <td>Financial Analyst</td>\n",
       "    </tr>\n",
       "    <tr>\n",
       "      <th>Job Requisition Status</th>\n",
       "      <td>Open</td>\n",
       "      <td>Open</td>\n",
       "      <td>Open</td>\n",
       "      <td>Open</td>\n",
       "      <td>Open</td>\n",
       "    </tr>\n",
       "    <tr>\n",
       "      <th>Business Title</th>\n",
       "      <td>Test Engineer Sr</td>\n",
       "      <td>Electrical Engineer Sr</td>\n",
       "      <td>Systems Admin Sr</td>\n",
       "      <td>Comm-Cyber Sec Sol Eng/Arch Sr</td>\n",
       "      <td>Bus Ops Spec Mid</td>\n",
       "    </tr>\n",
       "    <tr>\n",
       "      <th>Job Posting</th>\n",
       "      <td>Test Engineer, Senior</td>\n",
       "      <td>Vehicle Engineer</td>\n",
       "      <td>Virtual Reality Aviation Training Systems Admi...</td>\n",
       "      <td>Vulnerability Attack Surface Reduction, Senior...</td>\n",
       "      <td>Workforce Business Analyst</td>\n",
       "    </tr>\n",
       "    <tr>\n",
       "      <th>Primary Location Country</th>\n",
       "      <td>United States of America</td>\n",
       "      <td>United States of America</td>\n",
       "      <td>United States of America</td>\n",
       "      <td>United States of America</td>\n",
       "      <td>United States of America</td>\n",
       "    </tr>\n",
       "    <tr>\n",
       "      <th>Required Clearance</th>\n",
       "      <td>Secret</td>\n",
       "      <td>Secret</td>\n",
       "      <td>Secret</td>\n",
       "      <td>None</td>\n",
       "      <td>Eligibility Determination Timeline</td>\n",
       "    </tr>\n",
       "    <tr>\n",
       "      <th>Primary Recruiter</th>\n",
       "      <td>Andrew Campos (594954)</td>\n",
       "      <td>Jessica McCann (602189)</td>\n",
       "      <td>Michael Gallagher (900179)[C]</td>\n",
       "      <td>Daryelis Alvarez (601544)</td>\n",
       "      <td>Emelyn Ortuno (832565)[C]</td>\n",
       "    </tr>\n",
       "    <tr>\n",
       "      <th>percent_fit</th>\n",
       "      <td>0.4</td>\n",
       "      <td>0.4</td>\n",
       "      <td>0.333333</td>\n",
       "      <td>0.5</td>\n",
       "      <td>0.333333</td>\n",
       "    </tr>\n",
       "    <tr>\n",
       "      <th>is_opportunity_application_emailed</th>\n",
       "      <td>False</td>\n",
       "      <td>False</td>\n",
       "      <td>False</td>\n",
       "      <td>False</td>\n",
       "      <td>False</td>\n",
       "    </tr>\n",
       "    <tr>\n",
       "      <th>is_remote_delivery</th>\n",
       "      <td>NaN</td>\n",
       "      <td>NaN</td>\n",
       "      <td>NaN</td>\n",
       "      <td>NaN</td>\n",
       "      <td>NaN</td>\n",
       "    </tr>\n",
       "  </tbody>\n",
       "</table>\n",
       "</div>"
      ],
      "text/plain": [
       "                                                                                 4788  \\\n",
       "Hiring Manager                            Nicolas Cornelius | Nick Cornelius (595195)   \n",
       "Management Level                                                            Associate   \n",
       "IMT                                                                NMC ENG & TECH IMT   \n",
       "Job Requisition                                 R0080720 Test Engineer, Senior (Open)   \n",
       "Job Requisition Type                                              Capability Building   \n",
       "Cluster                                                        Lexington Park Cluster   \n",
       "Time Type                                                                   Full time   \n",
       "Job Posting Title                                               Test Engineer, Senior   \n",
       "Safi Recommendation                                                               NaN   \n",
       "Recruiting Start Date                                                      2020-03-16   \n",
       "Account Group                                                          NMC ACCT GROUP   \n",
       "Job Requisition ID                                                           R0080720   \n",
       "Job Type                                                                      Regular   \n",
       "Supervisory Organization            Supervisory Organization (Nicolas Cornelius | ...   \n",
       "Clearance Agency                                                                  DOD   \n",
       "Primary Location State/Province                                        South Carolina   \n",
       "Furthest Stage                                                                 Review   \n",
       "Resource Manager                                               Andrew Campos (594954)   \n",
       "Primary Location                    USA, SC, North Charleston (1141 Remount Road -...   \n",
       "Job Description                     The Challenge:\\nHow do we know if systems we d...   \n",
       "Group                                                            GLOBAL DEFENSE GROUP   \n",
       "Job Profile                                                          Test Engineer Sr   \n",
       "Job Family Group                                   Engineering & Science Professional   \n",
       "FSO                                                                               E&S   \n",
       "Job Family                                                 Test & Evaluation Engineer   \n",
       "Job Requisition Status                                                           Open   \n",
       "Business Title                                                       Test Engineer Sr   \n",
       "Job Posting                                                     Test Engineer, Senior   \n",
       "Primary Location Country                                     United States of America   \n",
       "Required Clearance                                                             Secret   \n",
       "Primary Recruiter                                              Andrew Campos (594954)   \n",
       "percent_fit                                                                       0.4   \n",
       "is_opportunity_application_emailed                                              False   \n",
       "is_remote_delivery                                                                NaN   \n",
       "\n",
       "                                                                                 4789  \\\n",
       "Hiring Manager                                      Daniel Russo | Dan Russo (523045)   \n",
       "Management Level                                                            Associate   \n",
       "IMT                                                                  ARMY WEAPONS IMT   \n",
       "Job Requisition                                      R0080421 Vehicle Engineer (Open)   \n",
       "Job Requisition Type                                                       Contingent   \n",
       "Cluster                                                            Huntsville Cluster   \n",
       "Time Type                                                                   Full time   \n",
       "Job Posting Title                                                    Vehicle Engineer   \n",
       "Safi Recommendation                                                               NaN   \n",
       "Recruiting Start Date                                                      2020-03-09   \n",
       "Account Group                                                         ARMY ACCT GROUP   \n",
       "Job Requisition ID                                                           R0080421   \n",
       "Job Type                                                                      Regular   \n",
       "Supervisory Organization            Supervisory Organization (Daniel Russo | Dan R...   \n",
       "Clearance Agency                                                                  DOD   \n",
       "Primary Location State/Province                                              Michigan   \n",
       "Furthest Stage                                                                 Review   \n",
       "Resource Manager                                              Jessica McCann (602189)   \n",
       "Primary Location                                  USA, MI, Warren (6501 E 11 Mile Rd)   \n",
       "Job Description                     The Challenge:\\nWhat if you could use your eng...   \n",
       "Group                                                            GLOBAL DEFENSE GROUP   \n",
       "Job Profile                                                    Electrical Engineer Sr   \n",
       "Job Family Group                                   Engineering & Science Professional   \n",
       "FSO                                                                               E&S   \n",
       "Job Family                                        Electrical and Electronics Engineer   \n",
       "Job Requisition Status                                                           Open   \n",
       "Business Title                                                 Electrical Engineer Sr   \n",
       "Job Posting                                                          Vehicle Engineer   \n",
       "Primary Location Country                                     United States of America   \n",
       "Required Clearance                                                             Secret   \n",
       "Primary Recruiter                                             Jessica McCann (602189)   \n",
       "percent_fit                                                                       0.4   \n",
       "is_opportunity_application_emailed                                              False   \n",
       "is_remote_delivery                                                                NaN   \n",
       "\n",
       "                                                                                 4790  \\\n",
       "Hiring Manager                               Jefferey Fiorito | Jeff Fiorito (508386)   \n",
       "Management Level                                                            Associate   \n",
       "IMT                                                                NMC ENG & TECH IMT   \n",
       "Job Requisition                     R0080703 Virtual Reality Aviation Training Sys...   \n",
       "Job Requisition Type                                                  Sold and Funded   \n",
       "Cluster                                                                Dayton Cluster   \n",
       "Time Type                                                                   Full time   \n",
       "Job Posting Title                   Virtual Reality Aviation Training Systems Admi...   \n",
       "Safi Recommendation                                                               NaN   \n",
       "Recruiting Start Date                                                      2020-03-12   \n",
       "Account Group                                                          NMC ACCT GROUP   \n",
       "Job Requisition ID                                                           R0080703   \n",
       "Job Type                                                                      Regular   \n",
       "Supervisory Organization            Supervisory Organization (Jefferey Fiorito | J...   \n",
       "Clearance Agency                                                                  DOD   \n",
       "Primary Location State/Province                                               Florida   \n",
       "Furthest Stage                                                                 Review   \n",
       "Resource Manager                                        Michael Gallagher (900179)[C]   \n",
       "Primary Location                                   USA, FL, Milton (7760 Saratoga St)   \n",
       "Job Description                     The Challenge:\\nYour combination of people ski...   \n",
       "Group                                                            GLOBAL DEFENSE GROUP   \n",
       "Job Profile                                                          Systems Admin Sr   \n",
       "Job Family Group                                   Engineering & Science Professional   \n",
       "FSO                                                                               E&S   \n",
       "Job Family                                      IT Infrastructure Operations Engineer   \n",
       "Job Requisition Status                                                           Open   \n",
       "Business Title                                                       Systems Admin Sr   \n",
       "Job Posting                         Virtual Reality Aviation Training Systems Admi...   \n",
       "Primary Location Country                                     United States of America   \n",
       "Required Clearance                                                             Secret   \n",
       "Primary Recruiter                                       Michael Gallagher (900179)[C]   \n",
       "percent_fit                                                                  0.333333   \n",
       "is_opportunity_application_emailed                                              False   \n",
       "is_remote_delivery                                                                NaN   \n",
       "\n",
       "                                                                                 4791  \\\n",
       "Hiring Manager                                                   Carl Manion (609875)   \n",
       "Management Level                                                            Associate   \n",
       "IMT                                                         COMMERCIAL CONSULTING IMT   \n",
       "Job Requisition                     R0080752 Vulnerability Attack Surface Reductio...   \n",
       "Job Requisition Type                                              Capability Building   \n",
       "Cluster                                                      Colorado Springs Cluster   \n",
       "Time Type                                                                   Full time   \n",
       "Job Posting Title                   Vulnerability Attack Surface Reduction, Senior...   \n",
       "Safi Recommendation                                                               NaN   \n",
       "Recruiting Start Date                                                      2020-03-12   \n",
       "Account Group                                                   COMMERCIAL ACCT GROUP   \n",
       "Job Requisition ID                                                           R0080752   \n",
       "Job Type                                                                      Regular   \n",
       "Supervisory Organization              Supervisory Organization (Carl Manion (609875))   \n",
       "Clearance Agency                                                                 None   \n",
       "Primary Location State/Province                                              Colorado   \n",
       "Furthest Stage                                                                 Review   \n",
       "Resource Manager                                    Kiran Syed | Kiran Zafar (530950)   \n",
       "Primary Location                                     USA, CO, Denver (1644 Platte St)   \n",
       "Job Description                     Key Role:\\nWork as a Vulnerability Attack Surf...   \n",
       "Group                                                            GLOBAL DEFENSE GROUP   \n",
       "Job Profile                                            Comm-Cyber Sec Sol Eng/Arch Sr   \n",
       "Job Family Group                                                           Technology   \n",
       "FSO                                                                             Cyber   \n",
       "Job Family                                           Cyber Architecture & Engineering   \n",
       "Job Requisition Status                                                           Open   \n",
       "Business Title                                         Comm-Cyber Sec Sol Eng/Arch Sr   \n",
       "Job Posting                         Vulnerability Attack Surface Reduction, Senior...   \n",
       "Primary Location Country                                     United States of America   \n",
       "Required Clearance                                                               None   \n",
       "Primary Recruiter                                           Daryelis Alvarez (601544)   \n",
       "percent_fit                                                                       0.5   \n",
       "is_opportunity_application_emailed                                              False   \n",
       "is_remote_delivery                                                                NaN   \n",
       "\n",
       "                                                                                 4792  \n",
       "Hiring Manager                                                Kate Knyzewski (520431)  \n",
       "Management Level                                                    Senior Consultant  \n",
       "IMT                                                           CYBER & ENGINEERING IMT  \n",
       "Job Requisition                            R0081029 Workforce Business Analyst (Open)  \n",
       "Job Requisition Type                                                  Sold and Funded  \n",
       "Cluster                                                            Wash Metro Cluster  \n",
       "Time Type                                                                   Full time  \n",
       "Job Posting Title                                          Workforce Business Analyst  \n",
       "Safi Recommendation                                                               NaN  \n",
       "Recruiting Start Date                                                      2020-03-18  \n",
       "Account Group                                                          FSO ACCT GROUP  \n",
       "Job Requisition ID                                                           R0081029  \n",
       "Job Type                                                                      Regular  \n",
       "Supervisory Organization            Supervisory Organization (Kate Knyzewski (5204...  \n",
       "Clearance Agency                                                                Other  \n",
       "Primary Location State/Province                                              Virginia  \n",
       "Furthest Stage                                                                 Review  \n",
       "Resource Manager                                               John Grumbine (523377)  \n",
       "Primary Location                                  USA, VA, Herndon (575 Herndon Pkwy)  \n",
       "Job Description                     Key Role:\\nPerform as an individual contributo...  \n",
       "Group                                                      STRATEGIC INNOVATION GROUP  \n",
       "Job Profile                                                          Bus Ops Spec Mid  \n",
       "Job Family Group                                      Consulting & Mission Operations  \n",
       "FSO                                                                         Analytics  \n",
       "Job Family                                                          Financial Analyst  \n",
       "Job Requisition Status                                                           Open  \n",
       "Business Title                                                       Bus Ops Spec Mid  \n",
       "Job Posting                                                Workforce Business Analyst  \n",
       "Primary Location Country                                     United States of America  \n",
       "Required Clearance                                 Eligibility Determination Timeline  \n",
       "Primary Recruiter                                           Emelyn Ortuno (832565)[C]  \n",
       "percent_fit                                                                  0.333333  \n",
       "is_opportunity_application_emailed                                              False  \n",
       "is_remote_delivery                                                                NaN  "
      ]
     },
     "execution_count": 196,
     "metadata": {},
     "output_type": "execute_result"
    }
   ],
   "source": [
    "\n",
    "hunting_df.tail(5).T"
   ]
  },
  {
   "cell_type": "code",
   "execution_count": 26,
   "metadata": {},
   "outputs": [
    {
     "name": "stdout",
     "output_type": "stream",
     "text": [
      "Pickling to D:\\Documents\\Repositories\\notebooks\\Miscellaneous\\saves\\pickle\\hunting_df.pickle\n"
     ]
    }
   ],
   "source": [
    "\n",
    "s.store_objects(hunting_df=hunting_df)"
   ]
  },
  {
   "cell_type": "markdown",
   "metadata": {},
   "source": [
    "\n",
    "---\n",
    "# Training"
   ]
  },
  {
   "cell_type": "code",
   "execution_count": 16,
   "metadata": {},
   "outputs": [
    {
     "name": "stdout",
     "output_type": "stream",
     "text": [
      "Pickling to D:\\Documents\\Repositories\\notebooks\\Miscellaneous\\saves\\pickle\\basic_quals_df.pickle\n",
      "Pickling to D:\\Documents\\Repositories\\notebooks\\Miscellaneous\\saves\\pickle\\bq_cv_vocab.pickle\n",
      "Pickling to D:\\Documents\\Repositories\\notebooks\\Miscellaneous\\saves\\pickle\\bq_tt.pickle\n",
      "Pickling to D:\\Documents\\Repositories\\notebooks\\Miscellaneous\\saves\\pickle\\basic_quals_clf.pickle\n"
     ]
    }
   ],
   "source": [
    "\n",
    "# Rebuild the datframe from the dictionary\n",
    "rows_list = [{'qualification_str': qualification_str, 'is_fit': is_fit} for qualification_str, is_fit in basic_quals_dict.items()]\n",
    "basic_quals_df = pd.DataFrame(rows_list)\n",
    "s.store_objects(basic_quals_df=basic_quals_df)\n",
    "\n",
    "# Re-transform the bag-of-words and tf-idf from the new manual scores\n",
    "sents_list = basic_quals_df.qualification_str.tolist()\n",
    "\n",
    "# Bag-of-words\n",
    "cv = CountVectorizer(lowercase=True, tokenizer=regex_tokenizer, token_pattern=r'\\b[1-9a-zA-Z][0-9a-zA-Z]*[#\\+]{0,2}', ngram_range=(1, 3))\n",
    "bow_matrix = cv.fit_transform(sents_list)\n",
    "s.store_objects(bq_cv_vocab=cv.vocabulary_)\n",
    "\n",
    "# Tf-idf, must get from BOW first\n",
    "tt = TfidfTransformer()\n",
    "tfidf_matrix = tt.fit_transform(bow_matrix)\n",
    "s.store_objects(bq_tt=tt)\n",
    "\n",
    "# Re-train the classifier\n",
    "X = tfidf_matrix.toarray()\n",
    "y = basic_quals_df.is_fit.to_numpy()\n",
    "fit_estimators_dict = s.load_object('fit_estimators_dict')\n",
    "#basic_quals_clf = RandomForestClassifier(n_estimators=997)\n",
    "#basic_quals_clf = AdaBoostClassifier(algorithm='SAMME.R', base_estimator=None, learning_rate=1.0, n_estimators=50, random_state=None)\n",
    "basic_quals_clf = fit_estimators_dict['LogisticRegression']\n",
    "basic_quals_clf.fit(X, y)\n",
    "s.store_objects(basic_quals_clf=basic_quals_clf)\n",
    "\n",
    "# Re-calibrate the inference engine\n",
    "bq_cv_vocab = s.load_object('bq_cv_vocab')\n",
    "bq_cv = CountVectorizer(vocabulary=bq_cv_vocab)\n",
    "bq_cv._validate_vocabulary()\n",
    "bq_tt = s.load_object('bq_tt')\n",
    "def predict_percent_fit(quals_list):\n",
    "    y_predict_proba = np.array([])\n",
    "    if len(quals_list):\n",
    "        X_test = bq_tt.transform(bq_cv.transform(quals_list)).toarray()\n",
    "        y_predict_proba = basic_quals_clf.predict_proba(X_test)\n",
    "    \n",
    "    return y_predict_proba"
   ]
  },
  {
   "cell_type": "markdown",
   "metadata": {},
   "source": [
    "\n",
    "---\n",
    "# Inference"
   ]
  },
  {
   "cell_type": "code",
   "execution_count": 17,
   "metadata": {},
   "outputs": [
    {
     "name": "stdout",
     "output_type": "stream",
     "text": [
      "4793/4793 = 100% completed\n"
     ]
    }
   ],
   "source": [
    "\n",
    "# Loop through all the unset %fit values, set them if you can, break for help if you can't\n",
    "match_series = (hunting_df.percent_fit >= 0.0)\n",
    "for row_index, row_series in hunting_df[~match_series].iterrows():\n",
    "    quals_list, job_fitness = print_fit_job(row_index, row_series, basic_quals_dict)\n",
    "    if job_fitness > 0.8:\n",
    "        if all(qual_str in basic_quals_dict for qual_str in quals_list):\n",
    "            hunting_df.loc[row_index, 'percent_fit'] = eval(' + '.join(map(qual_sum, quals_list))) / len(quals_list)\n",
    "            s.store_objects(hunting_df=hunting_df)\n",
    "        else:\n",
    "            break\n",
    "    else:\n",
    "        if len(quals_list):\n",
    "            hunting_df.loc[row_index, 'percent_fit'] = eval(' + '.join(map(qual_sum, quals_list))) / len(quals_list)\n",
    "            s.store_objects(hunting_df=hunting_df)\n",
    "print('{}/{} = {}% completed'.format(hunting_df[match_series].shape[0], hunting_df.shape[0],\n",
    "                                     int(100 * hunting_df[match_series].shape[0] / hunting_df.shape[0])))"
   ]
  },
  {
   "cell_type": "code",
   "execution_count": 170,
   "metadata": {},
   "outputs": [
    {
     "name": "stdout",
     "output_type": "stream",
     "text": [
      "BA or BS degree or 2+ years of experience with developing software\n",
      "Pickling to D:\\Documents\\Repositories\\notebooks\\Miscellaneous\\saves\\pickle\\basic_quals_dict.pickle\n"
     ]
    }
   ],
   "source": [
    "\n",
    "# Manually label the unscored qual\n",
    "qualification_str = quals_list[5]\n",
    "print(qualification_str)\n",
    "basic_quals_dict[qualification_str] = 0\n",
    "s.store_objects(basic_quals_dict=basic_quals_dict)"
   ]
  },
  {
   "cell_type": "markdown",
   "metadata": {},
   "source": [
    "\n",
    "---\n",
    "# Create the emails"
   ]
  },
  {
   "cell_type": "code",
   "execution_count": 18,
   "metadata": {},
   "outputs": [
    {
     "name": "stdout",
     "output_type": "stream",
     "text": [
      "(0, 35)\n",
      "Series([], dtype: float64)\n"
     ]
    }
   ],
   "source": [
    "\n",
    "def f(x):\n",
    "    \n",
    "    return 'python' in str(x).lower()\n",
    "\n",
    "def g(x):\n",
    "    \n",
    "    return 'polygraph' in str(x).lower()\n",
    "\n",
    "ds_regex = re.compile(r'data *scien')\n",
    "ml_regex = re.compile(r'machine *learning|\\bML\\b')\n",
    "def ff(x):\n",
    "    x = str(x).lower()\n",
    "    if ds_regex.search(x) or ml_regex.search(x) or ('python' in x):\n",
    "        match = True\n",
    "    else:\n",
    "        match = False\n",
    "    \n",
    "    return match\n",
    "\n",
    "match_series = hunting_df['Job Requisition Type'].isin(['Sold and Funded', 'Sold & Unfunded'])\n",
    "#match_series = match_series & hunting_df['Job Description'].map(f)\n",
    "match_series = match_series & hunting_df['Job Description'].map(ff)\n",
    "match_series = match_series & (hunting_df.percent_fit >= 0.85) & ~hunting_df['is_opportunity_application_emailed']\n",
    "match_series = match_series & ~(hunting_df.is_remote_delivery == False)\n",
    "match_series = match_series & ~hunting_df['Required Clearance'].isin(['TS/SCI', 'TS/SCI w/CIP', 'TS/SCI w/FSP'])\n",
    "match_series = match_series & ~hunting_df['Job Description'].map(g)\n",
    "print(hunting_df[match_series].shape)\n",
    "print(hunting_df[match_series].groupby('Required Clearance').count().T.max().sort_values(ascending=False))"
   ]
  },
  {
   "cell_type": "code",
   "execution_count": null,
   "metadata": {},
   "outputs": [],
   "source": [
    "\n",
    "hunting_df[match_series].head(5).T"
   ]
  },
  {
   "cell_type": "code",
   "execution_count": 29,
   "metadata": {},
   "outputs": [],
   "source": [
    "\n",
    "print_emails(match_series)"
   ]
  },
  {
   "cell_type": "code",
   "execution_count": 180,
   "metadata": {},
   "outputs": [
    {
     "name": "stdout",
     "output_type": "stream",
     "text": [
      "Pickling to D:\\Documents\\Repositories\\notebooks\\Miscellaneous\\saves\\pickle\\hunting_df.pickle\n"
     ]
    }
   ],
   "source": [
    "\n",
    "# Manually note the email has been sent\n",
    "req_id = 'R0080987'.strip()\n",
    "match_series = (hunting_df['Job Requisition ID'] == req_id)\n",
    "hunting_df.loc[match_series, 'is_opportunity_application_emailed'] = True\n",
    "s.store_objects(hunting_df=hunting_df)"
   ]
  },
  {
   "cell_type": "markdown",
   "metadata": {},
   "source": [
    "\n",
    "---\n",
    "# Flag setting"
   ]
  },
  {
   "cell_type": "code",
   "execution_count": 35,
   "metadata": {},
   "outputs": [
    {
     "name": "stdout",
     "output_type": "stream",
     "text": [
      "Pickling to D:\\Documents\\Repositories\\notebooks\\Miscellaneous\\saves\\pickle\\hunting_df.pickle\n"
     ]
    }
   ],
   "source": [
    "\n",
    "# Set remote delivery for this one job\n",
    "req_id = 'R0080271'\n",
    "match_series = (hunting_df['Job Requisition ID'] == req_id)\n",
    "hunting_df.loc[match_series, 'is_remote_delivery'] = False\n",
    "s.store_objects(hunting_df=hunting_df)"
   ]
  },
  {
   "cell_type": "code",
   "execution_count": 36,
   "metadata": {},
   "outputs": [
    {
     "name": "stdout",
     "output_type": "stream",
     "text": [
      "Pickling to D:\\Documents\\Repositories\\notebooks\\Miscellaneous\\saves\\pickle\\hunting_df.pickle\n"
     ]
    }
   ],
   "source": [
    "\n",
    "# Set notes for this one job\n",
    "req_id = 'R0077253'\n",
    "match_series = (hunting_df['Job Requisition ID'] == req_id)\n",
    "manager_notes = hunting_df.loc[match_series, 'manager_notes'].tolist()[0]\n",
    "if len(manager_notes):\n",
    "    manager_notes += ' '\n",
    "manager_notes += 'We are focusing our recruitment efforts on candidates with specific hands-on Machine Learning experience in the computer '\n",
    "manager_notes += 'vision and text analytics realms with a particular emphasis on tools and techniques from Deep Learning such as '\n",
    "manager_notes += 'Convolutional Neural Networks, Transformer Architectures, and Reinforcement Learning.'\n",
    "hunting_df.loc[match_series, 'manager_notes'] = manager_notes\n",
    "s.store_objects(hunting_df=hunting_df)"
   ]
  },
  {
   "cell_type": "code",
   "execution_count": 208,
   "metadata": {},
   "outputs": [
    {
     "name": "stdout",
     "output_type": "stream",
     "text": [
      "Is she talking about the 121 reqs in her location?\n",
      "Is she talking about the 2 reqs she is managing?\n",
      "Pickling to D:\\Documents\\Repositories\\notebooks\\Miscellaneous\\saves\\pickle\\hunting_df.pickle\n",
      "Thank you for the feedback. I am assuming you are talking about the 2 reqs you are managing at your location (R0071717 and R0079210).\n"
     ]
    }
   ],
   "source": [
    "\n",
    "# Currently all our roles are local to the DC Metro Area.\n",
    "req_id = 'R0079210'\n",
    "match_series = (hunting_df['Job Requisition ID'] == req_id)\n",
    "location = hunting_df[match_series]['Primary Location'].tolist()[0]\n",
    "manager = hunting_df[match_series]['Hiring Manager'].tolist()[0]\n",
    "match_series = (hunting_df['Primary Location'] == location)\n",
    "print('Is she talking about the {} reqs in her location?'.format(hunting_df[match_series].shape[0]))\n",
    "match_series = (hunting_df['Hiring Manager'] == manager)\n",
    "print('Is she talking about the {} reqs she is managing?'.format(hunting_df[match_series].shape[0]))\n",
    "match_series = (hunting_df['Primary Location'] == location) & (hunting_df['Hiring Manager'] == manager)\n",
    "formatted_str = 'Thank you for the feedback. I am assuming you are talking about the {} reqs you are managing at your location ({}).'\n",
    "\n",
    "# Set remote delivery for this list of jobs\n",
    "req_id_list = hunting_df[match_series]['Job Requisition ID'].tolist()\n",
    "match_series = hunting_df['Job Requisition ID'].isin(req_id_list)\n",
    "hunting_df.loc[match_series, 'is_remote_delivery'] = False\n",
    "hunting_df.loc[match_series, 'is_opportunity_application_emailed'] = True\n",
    "s.store_objects(hunting_df=hunting_df)\n",
    "print(formatted_str.format(hunting_df[match_series].shape[0], conjunctify_list(req_id_list)))"
   ]
  },
  {
   "cell_type": "code",
   "execution_count": 189,
   "metadata": {},
   "outputs": [
    {
     "name": "stdout",
     "output_type": "stream",
     "text": [
      "Thanks for the feedback. I have marked all the reqs you are associated with (R0071454, R0074166, and R0080987).\n",
      "Pickling to D:\\Documents\\Repositories\\notebooks\\Miscellaneous\\saves\\pickle\\hunting_df.pickle\n"
     ]
    }
   ],
   "source": [
    "\n",
    "column_name = 'Hiring Manager'\n",
    "last_name = 'Duquette'.lower()\n",
    "first_name = 'Tyler'.lower()\n",
    "\n",
    "def f(x):\n",
    "    x = str(x).lower()\n",
    "    \n",
    "    return (first_name in x) and (last_name in x)\n",
    "\n",
    "match_series = hunting_df[column_name].map(f)\n",
    "req_id_list = hunting_df[match_series]['Job Requisition ID'].tolist()\n",
    "formatted_str = 'Thanks for the feedback. I have marked all the reqs you are associated with ({}).'\n",
    "print(formatted_str.format(conjunctify_list(req_id_list)))\n",
    "match_series = hunting_df['Job Requisition ID'].isin(req_id_list)\n",
    "hunting_df.loc[match_series, 'is_remote_delivery'] = False\n",
    "hunting_df.loc[match_series, 'is_opportunity_application_emailed'] = True\n",
    "s.store_objects(hunting_df=hunting_df)"
   ]
  },
  {
   "cell_type": "code",
   "execution_count": 53,
   "metadata": {},
   "outputs": [
    {
     "name": "stdout",
     "output_type": "stream",
     "text": [
      "Thanks for the feedback. Does this include all the reqs you are associated with (R0080347)?\n",
      "Pickling to D:\\Documents\\Repositories\\notebooks\\Miscellaneous\\saves\\pickle\\hunting_df.pickle\n"
     ]
    }
   ],
   "source": [
    "\n",
    "column_name = 'Hiring Manager'\n",
    "last_name = 'Cofrancesco'.lower()\n",
    "first_name = 'Elaine'.lower()\n",
    "\n",
    "def f(x):\n",
    "    x = str(x).lower()\n",
    "    \n",
    "    return (first_name in x) and (last_name in x)\n",
    "\n",
    "match_series = hunting_df[column_name].map(f)\n",
    "req_id_list = hunting_df[match_series]['Job Requisition ID'].tolist()\n",
    "formatted_str = 'Thanks for the feedback. Does this include all the reqs you are associated with ({})?'\n",
    "print(formatted_str.format(conjunctify_list(req_id_list)))\n",
    "match_series = hunting_df['Job Requisition ID'].isin(req_id_list)\n",
    "hunting_df.loc[match_series, 'is_remote_delivery'] = False\n",
    "hunting_df.loc[match_series, 'is_opportunity_application_emailed'] = True\n",
    "s.store_objects(hunting_df=hunting_df)"
   ]
  },
  {
   "cell_type": "code",
   "execution_count": 289,
   "metadata": {},
   "outputs": [
    {
     "name": "stdout",
     "output_type": "stream",
     "text": [
      "Pickling to D:\\Documents\\Repositories\\notebooks\\Miscellaneous\\saves\\pickle\\hunting_df.pickle\n"
     ]
    }
   ],
   "source": [
    "\n",
    "column_name = 'Hiring Manager'\n",
    "last_name = 'Jendzejec'.lower()\n",
    "first_name = 'Alexander'.lower()\n",
    "\n",
    "def f(x):\n",
    "    x = str(x).lower()\n",
    "    \n",
    "    return (first_name in x) and (last_name in x)\n",
    "\n",
    "match_series = hunting_df[column_name].map(f)\n",
    "hunting_df.loc[match_series, 'is_remote_delivery'] = False\n",
    "hunting_df.loc[match_series, 'is_opportunity_application_emailed'] = True\n",
    "s.store_objects(hunting_df=hunting_df)"
   ]
  },
  {
   "cell_type": "code",
   "execution_count": 89,
   "metadata": {},
   "outputs": [
    {
     "name": "stdout",
     "output_type": "stream",
     "text": [
      "Pickling to D:\\Documents\\Repositories\\notebooks\\Miscellaneous\\saves\\pickle\\hunting_df.pickle\n"
     ]
    }
   ],
   "source": [
    "\n",
    "column_name = 'Hiring Manager'\n",
    "last_name = 'ferraro'\n",
    "first_name = 'mike'\n",
    "\n",
    "def f(x):\n",
    "    x = str(x).lower()\n",
    "    \n",
    "    return (first_name in x) and (last_name in x)\n",
    "\n",
    "match_series = hunting_df[column_name].map(f)\n",
    "hunting_df.loc[match_series, 'is_remote_delivery'] = False\n",
    "hunting_df.loc[match_series, 'is_opportunity_application_emailed'] = True\n",
    "s.store_objects(hunting_df=hunting_df)"
   ]
  },
  {
   "cell_type": "code",
   "execution_count": 81,
   "metadata": {},
   "outputs": [
    {
     "name": "stdout",
     "output_type": "stream",
     "text": [
      "Pickling to D:\\Documents\\Repositories\\notebooks\\Miscellaneous\\saves\\pickle\\hunting_df.pickle\n"
     ]
    }
   ],
   "source": [
    "\n",
    "# Set remote delivery for this list of jobs\n",
    "req_id_list = ['R0072627', 'R0072630', 'R0072685', 'R0072688', 'R0072699', 'R0072700', 'R0078787', 'R0078792', 'R0078793', 'R0072670',\n",
    "               'R0072672', 'R0078798', 'R0078799']\n",
    "match_series = hunting_df['Job Requisition ID'].isin(req_id_list)\n",
    "hunting_df.loc[match_series, 'is_remote_delivery'] = False\n",
    "hunting_df.loc[match_series, 'is_opportunity_application_emailed'] = True\n",
    "s.store_objects(hunting_df=hunting_df)"
   ]
  },
  {
   "cell_type": "code",
   "execution_count": 38,
   "metadata": {},
   "outputs": [
    {
     "name": "stdout",
     "output_type": "stream",
     "text": [
      "Pickling to D:\\Documents\\Repositories\\notebooks\\Miscellaneous\\saves\\pickle\\hunting_df.pickle\n"
     ]
    }
   ],
   "source": [
    "\n",
    "# Set remote delivery for this list of jobs\n",
    "req_id_list = ['R0073564', 'R0073583', 'R0073584', 'R0073585', 'R0073586']\n",
    "match_series = hunting_df['Job Requisition ID'].isin(req_id_list)\n",
    "hunting_df.loc[match_series, 'is_remote_delivery'] = True\n",
    "hunting_df.loc[match_series, 'is_opportunity_application_emailed'] = True\n",
    "s.store_objects(hunting_df=hunting_df)"
   ]
  },
  {
   "cell_type": "code",
   "execution_count": null,
   "metadata": {},
   "outputs": [],
   "source": [
    "\n",
    "# Set university recruiting for this job\n",
    "req_id = 'R0066388'\n",
    "match_series = (hunting_df['Job Requisition ID'] == req_id)\n",
    "hunting_df.loc[match_series, 'is_for_university_recruiting'] = 1\n",
    "s.store_objects(hunting_df=hunting_df)"
   ]
  },
  {
   "cell_type": "code",
   "execution_count": null,
   "metadata": {},
   "outputs": [],
   "source": [
    "\n",
    "# Manually note you can't do this job from home\n",
    "req_id = 'R0064764'\n",
    "match_series = (hunting_df['Job Requisition ID'] == req_id)\n",
    "hunting_df.loc[match_series, 'is_remote_delivery'] = False\n",
    "s.store_objects(hunting_df=hunting_df)"
   ]
  },
  {
   "cell_type": "code",
   "execution_count": null,
   "metadata": {},
   "outputs": [],
   "source": [
    "\n",
    "# Manually note you can't do this job from home\n",
    "hunting_df.loc[83, 'is_remote_delivery'] = False\n",
    "s.store_objects(hunting_df=hunting_df)"
   ]
  },
  {
   "cell_type": "code",
   "execution_count": null,
   "metadata": {},
   "outputs": [],
   "source": [
    "\n",
    "match_series = (hunting_df.index == 2616)\n",
    "hunting_df.loc[match_series, 'is_for_university_recruiting'] = 1\n",
    "hunting_df.loc[match_series, 'percent_fit'] = 0.0\n",
    "s.store_objects(hunting_df=hunting_df)"
   ]
  }
 ],
 "metadata": {
  "kernelspec": {
   "display_name": "Python 3",
   "language": "python",
   "name": "python3"
  },
  "language_info": {
   "codemirror_mode": {
    "name": "ipython",
    "version": 3
   },
   "file_extension": ".py",
   "mimetype": "text/x-python",
   "name": "python",
   "nbconvert_exporter": "python",
   "pygments_lexer": "ipython3",
   "version": "3.7.6"
  }
 },
 "nbformat": 4,
 "nbformat_minor": 4
}
