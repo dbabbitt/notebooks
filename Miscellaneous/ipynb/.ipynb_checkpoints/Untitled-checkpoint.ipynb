{
 "cells": [
  {
   "cell_type": "code",
   "execution_count": 1,
   "metadata": {},
   "outputs": [
    {
     "data": {
      "text/plain": [
       "{'Apple_PubSub_Socket_Render': '/private/tmp/com.apple.launchd.TRO3frbmKS/Render',\n",
       " 'CLICOLOR': '1',\n",
       " 'DISPLAY': '/private/tmp/com.apple.launchd.fSKab7rdMy/org.macosforge.xquartz:0',\n",
       " 'GIT_PAGER': 'cat',\n",
       " 'HOME': '/Users/davebabbitt',\n",
       " 'JPY_PARENT_PID': '1396',\n",
       " 'LANG': 'en_US.UTF-8',\n",
       " 'LOGNAME': 'davebabbitt',\n",
       " 'MPLBACKEND': 'module://ipykernel.pylab.backend_inline',\n",
       " 'OCTAVE_EXECUTABLE': '/usr/local/bin/octave-cli',\n",
       " 'PAGER': 'cat',\n",
       " 'PATH': '/Users/davebabbitt/anaconda/bin:/usr/local/git/bin:/Users/davebabbitt/anaconda/bin:/usr/local/bin:/usr/bin:/bin:/usr/sbin:/sbin:/opt/local/sbin:/opt/local/bin:/Library/TeX/texbin:/opt/X11/bin:/usr/local/opt/openssl/bin:/usr/local/opt/openssl/bin:/usr/local/bin:/usr/bin:/bin:/usr/sbin:/sbin:/opt/X11/bin:/Library/TeX/texbin',\n",
       " 'PWD': '/Users/davebabbitt',\n",
       " 'SHELL': '/bin/bash',\n",
       " 'SHLVL': '1',\n",
       " 'SSH_AUTH_SOCK': '/private/tmp/com.apple.launchd.EOYGMfGzLk/Listeners',\n",
       " 'TERM': 'xterm-color',\n",
       " 'TERM_PROGRAM': 'Apple_Terminal',\n",
       " 'TERM_PROGRAM_VERSION': '388.1.1',\n",
       " 'TERM_SESSION_ID': 'CED36B93-F5DD-4C38-94B0-A3A033684CB4',\n",
       " 'TMPDIR': '/var/folders/fr/0vtdl14121v9xzmbhltbh6s00000gn/T/',\n",
       " 'USER': 'davebabbitt',\n",
       " 'XPC_FLAGS': '0x0',\n",
       " 'XPC_SERVICE_NAME': '0',\n",
       " '_': '/Users/davebabbitt/anaconda/bin/jupyter',\n",
       " '__CF_USER_TEXT_ENCODING': '0x1F5:0x0:0x0'}"
      ]
     },
     "execution_count": 1,
     "metadata": {},
     "output_type": "execute_result"
    }
   ],
   "source": [
    "\n",
    "%env"
   ]
  },
  {
   "cell_type": "code",
   "execution_count": 14,
   "metadata": {},
   "outputs": [
    {
     "name": "stdout",
     "output_type": "stream",
     "text": [
      "total 2832\r\n",
      "11461448 drwxr-xr-x  16      544 Dec  9 13:39 \u001b[34m.\u001b[m\u001b[m\r\n",
      "10805385 drwxr-xr-x   7      238 Dec  7 21:13 \u001b[34m..\u001b[m\u001b[m\r\n",
      "11461475 drwxr-xr-x  11      374 Dec  9 05:50 \u001b[34m.ipynb_checkpoints\u001b[m\u001b[m\r\n",
      " 1303751 -rw-r--r--   1     8397 Dec  6  2016 Get List of Packages.ipynb\r\n",
      " 9126584 -rw-r--r--@  1    55027 Oct 20 15:13 HW2.ipynb\r\n",
      " 5068070 -rw-r--r--@  1   104424 Aug 28 10:55 Linear Regression with Gradient Descent.ipynb\r\n",
      " 1311257 -rw-r--r--   1   577038 Oct 13 13:13 Miscellaneous.ipynb\r\n",
      " 1303753 -rw-r--r--   1     2292 Aug 20  2016 Neo4j.ipynb\r\n",
      "11461349 -rw-r--r--@  1    80860 Dec  8 08:23 Saving at Coinbase.ipynb\r\n",
      "  968991 -rw-r--r--   1    34061 Dec  5 12:43 Troubleshoot.ipynb\r\n",
      "11554940 -rw-r--r--   1     8139 Dec  9 13:39 Untitled.ipynb\r\n",
      " 2402721 -rw-r--r--@  1   185950 Jul 26 14:50 mandelbrot_numbapro.ipynb\r\n",
      " 8287528 -rw-r--r--@  1   106833 Oct 13 13:30 not_so_obvious_python_stuff.ipynb\r\n",
      " 1310774 -rw-r--r--   1     7095 Feb 16  2017 r packages.ipynb\r\n",
      " 1310852 -rw-r--r--   1   205574 Feb 28  2017 spotify_one_dimensional_analysis.ipynb\r\n",
      " 1310853 -rw-r--r--   1    46061 Feb 28  2017 spotify_one_dimensional_blog_post.ipynb\r\n"
     ]
    }
   ],
   "source": [
    "\n",
    "!ls -agilno"
   ]
  },
  {
   "cell_type": "code",
   "execution_count": null,
   "metadata": {},
   "outputs": [],
   "source": []
  }
 ],
 "metadata": {
  "kernelspec": {
   "display_name": "Python 3",
   "language": "python",
   "name": "python3"
  },
  "language_info": {
   "codemirror_mode": {
    "name": "ipython",
    "version": 3
   },
   "file_extension": ".py",
   "mimetype": "text/x-python",
   "name": "python",
   "nbconvert_exporter": "python",
   "pygments_lexer": "ipython3",
   "version": "3.5.4"
  }
 },
 "nbformat": 4,
 "nbformat_minor": 2
}
