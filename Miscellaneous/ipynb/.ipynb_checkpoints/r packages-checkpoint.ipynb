{
 "cells": [
  {
   "cell_type": "code",
   "execution_count": 1,
   "metadata": {
    "collapsed": false
   },
   "outputs": [
    {
     "ename": "NameError",
     "evalue": "name 'package_name' is not defined",
     "output_type": "error",
     "traceback": [
      "\u001b[1;31m---------------------------------------------------------------------------\u001b[0m",
      "\u001b[1;31mNameError\u001b[0m                                 Traceback (most recent call last)",
      "\u001b[1;32m<ipython-input-1-84241766487f>\u001b[0m in \u001b[0;36m<module>\u001b[1;34m()\u001b[0m\n\u001b[0;32m      1\u001b[0m \u001b[0mpackage_url\u001b[0m \u001b[1;33m=\u001b[0m \u001b[1;34mr'https://cran.r-project.org/web/packages/'\u001b[0m\u001b[1;33m\u001b[0m\u001b[0m\n\u001b[1;32m----> 2\u001b[1;33m \u001b[0mpackage_url\u001b[0m \u001b[1;33m+=\u001b[0m \u001b[0mpackage_name\u001b[0m \u001b[1;33m+\u001b[0m \u001b[1;34m'/index.html'\u001b[0m\u001b[1;33m\u001b[0m\u001b[0m\n\u001b[0m",
      "\u001b[1;31mNameError\u001b[0m: name 'package_name' is not defined"
     ]
    }
   ],
   "source": [
    "package_names = ['abind', 'acepack', 'ada', 'akima', 'amap', 'animation', \n",
    "                 'ape', 'arules', 'assertthat', 'base64enc', 'BH', 'BHH2', \n",
    "                 'bit', 'bit64', 'bestglm', 'bitops', 'brew', 'cairoDevice', \n",
    "                 'car', 'caret', 'caTools', 'cem', 'chron', 'CircStats', \n",
    "                 'coda', 'coin', 'colorspace', 'combinat', 'corpcor', 'crayon', \n",
    "                 'curl', 'd3Network', 'data.table', 'DBI', 'DEoptimR', \n",
    "                 'devtools', 'dichromat', 'digest', 'diptest', 'dplyr', 'dtw', \n",
    "                 'e1071', 'ellipse', 'ergm', 'evaluate', 'fBasics', 'fdrtool', \n",
    "                 'fields', 'flexmix', 'flux', 'foreach', 'formatR', 'Formula', \n",
    "                 'fpc', 'gbm', 'gdata', 'gender', 'GGally', 'ggdendro', 'ggm', \n",
    "                 'ggplot2', 'git2r', 'glasso', 'glmnet', 'GPArotation', \n",
    "                 'gplots', 'gridExtra', 'gss', 'gtable', 'gtools', 'hflights', \n",
    "                 'highr', 'Hmisc', 'htmltools', 'htmlwidgets', 'httr', 'huge', \n",
    "                 'ISLR', 'igraph', 'igraphdata', 'igraphtosonia', 'installr', \n",
    "                 'iterators', 'jpeg', 'jsonlite', 'kernlab', 'knitr', \n",
    "                 'labeling', 'lasso2', 'latentnet', 'latticeExtra', 'lavaan', \n",
    "                 'lazyeval', 'leaps', 'lme4', 'LowRankQP', 'lpSolve', \n",
    "                 'magrittr', 'manipulate', 'maps', 'markdown', 'Matching', \n",
    "                 'MatchIt', 'matrixcalc', 'mclust', 'memoise', 'mice', 'mime', \n",
    "                 'minqa', 'mnormt', 'modeltools', 'multcomp', 'munsell', \n",
    "                 'mvtnorm', 'NetCluster', 'NetData', 'network', 'neuralnet', \n",
    "                 'nFactors', 'nloptr', 'NLP', 'numDeriv', 'nycflights13', \n",
    "                 'openintro', 'openNLP', 'openNLPdata', 'openNLPmodels.en', \n",
    "                 'optmatch', 'pbivnorm', 'pbkrtest', 'pixmap', 'plotly', \n",
    "                 'plotrix', 'pls', 'plyr', 'png', 'polspline', 'prabclus', \n",
    "                 'pROC', 'proto', 'proxy', 'psych', 'qdap', 'qdapDictionaries', \n",
    "                 'qdapRegex', 'qdapTools', 'qgraph', 'quadprog', 'quantreg', \n",
    "                 'R.methodsS3', 'R.oo', 'R.utils', 'R6', 'randomForest', \n",
    "                 'rattle', 'RColorBrewer', 'Rcpp', 'RcppEigen', 'Rcsdp', \n",
    "                 'RCurl', 'readr', 'readxl', 'reports', 'reshape', 'reshape2', \n",
    "                 'rgl', 'Rglpk', 'RGtk2', 'rJava', 'rjson', 'RJSONIO', \n",
    "                 'rmarkdown', 'RMongo', 'rmongodb', 'rms', 'ROAuth', \n",
    "                 'robustbase', 'ROCR', 'roxygen2', 'rpart.plot', 'RSQLite', \n",
    "                 'rstudio', 'rstudioapi', 'rtiff', 'rversions', 'rvest', \n",
    "                 'RWeka', 'RWekajars', 'sandwich', 'Scale', 'scales', \n",
    "                 'selectr', 'sem', 'sendplot', 'shiny', 'slam', 'sna', \n",
    "                 'SnowballC', 'sos', 'sp', 'spam', 'SparseM', 'stabledist', \n",
    "                 'statnet.common', 'stringdist', 'stringi', 'stringr', \n",
    "                 'swirl', 'tables', 'testit', 'testthat', 'TH.data', 'tidyr', \n",
    "                 'timeDate', 'timeSeries', 'tm', 'translations', 'tree', \n",
    "                 'trimcluster', 'trust', 'twitteR', 'Unicode', 'vcd', \n",
    "                 'venneuler', 'verification', 'viridis', 'WhatIf', 'whisker', \n",
    "                 'wordcloud', 'xlsx', 'xlsxjars', 'XML', 'xml2', 'xtable', \n",
    "                 'xts', 'yaml', 'ZillowR', 'zoo']\n",
    "\n",
    "for package_name in package_names:\n",
    "    package_url = r'https://cran.r-project.org/web/packages/'\n",
    "    package_url += package_name + '/index.html'"
   ]
  },
  {
   "cell_type": "code",
   "execution_count": null,
   "metadata": {
    "collapsed": true
   },
   "outputs": [],
   "source": []
  }
 ],
 "metadata": {
  "kernelspec": {
   "display_name": "Python [Root]",
   "language": "python",
   "name": "Python [Root]"
  },
  "language_info": {
   "codemirror_mode": {
    "name": "ipython",
    "version": 3
   },
   "file_extension": ".py",
   "mimetype": "text/x-python",
   "name": "python",
   "nbconvert_exporter": "python",
   "pygments_lexer": "ipython3",
   "version": "3.5.2"
  }
 },
 "nbformat": 4,
 "nbformat_minor": 0
}
