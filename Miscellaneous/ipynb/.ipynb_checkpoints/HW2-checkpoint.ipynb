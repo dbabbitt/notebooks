{
 "cells": [
  {
   "cell_type": "markdown",
   "metadata": {},
   "source": [
    "CS194-16 Introduction to Data Science\n",
    "\n",
    "**Name**: *Please put your name*\n",
    "\n",
    "**Student ID**: *Please put your student ID*\n",
    "\n",
    "\n",
    "Assignment 2: Introduction to Machine Learning: Clustering and Regression\n",
    "===\n",
    "\n",
    "## Overview\n",
    "\n",
    "In this assignment, we will use machine learning techniques to perform data analysis and learn models about our data. We will use a real world music dataset from [Last.fm](http://last.fm) for this assignment. There are two parts to this assignment: In the first part we will look at Unsupervised Learning with clustering and in the second part, we will study Supervised Learning. The play data (and user/artist matrix) comes from the [Last.fm 1K Users dataset](http://www.dtic.upf.edu/~ocelma/MusicRecommendationDataset/lastfm-1K.html), while the tags come from [the Last.fm Music Tags dataset](http://musicmachinery.com/2010/11/10/lastfm-artisttags2007/). You won't have to interact with these datasets directly, because we've already preprocessed them for you.\n",
    "\n",
    ">**Note**: Before you begin, you should install pydot by running `sudo apt-get install python-pydot`. Additionally, you should be running on a VM with at least 1GB of RAM allotted to it - less than that and you may run into issues with scikit-learn."
   ]
  },
  {
   "cell_type": "markdown",
   "metadata": {},
   "source": [
    "### Introduction to Machine Learning\n",
    "\n",
    "Machine learning is a branch of artifical intelligence where we try to find hidden structure within data. \n",
    "For example, lets say you are hired as a data scientist at a cool new music playing startup. You are given access to \n",
    "logs from the product and are asked find out what kinds of music are played on your website and how you can promote songs that will be \n",
    "popular. In this case we wish to extract some structure from the raw data we have using machine learning.\n",
    "\n",
    "There are two main kinds of machine learning algorithms:\n",
    "\n",
    "1. Unsupervised Learning - is the branch where we don't have any ground truth (or labeled data) that can help our training process. There are many approaches to unsupervised learning which includes topics like Clustering,  Mixture Models, Hidden Markov Models etc. In this assignment we will predominantly look at clustering.\n",
    "2. Supervised Learning - we have training data which is labeled (either manually or from historical data) and we try to make predictions about those labels on new, unlabeled, data. There are similarly several approaches to supervised learning - various classification and regression techniques all the way up to Support Vector Machines and Convolutional Neural Networks. In this assignment we'll explore two regression algorithms - Least Squares Linear Regression and Regression Trees. \n",
    "\n",
    "Many of the techniques you'll be using (like testing on a validation set) are of critical importance to the modeling process, regardless of the technique you're using, so keep these in mind in your future modeling efforts."
   ]
  },
  {
   "cell_type": "markdown",
   "metadata": {},
   "source": [
    "### Application\n",
    "\n",
    "Your assignment is to use machine learning algorithms for two tasks on a real world music dataset from Last.fm. The goal in the first part is to cluster artists and try to discover all artists that belong a certain genre. In the second part, we'll use the same dataset and attempt to predict how popular a song will be based on a number of features of that song. One component will involve incorporating cluster information into the models."
   ]
  },
  {
   "cell_type": "markdown",
   "metadata": {},
   "source": [
    "### Files\n",
    "\n",
    "Data files for this assignment can be found at:\n",
    "\n",
    "`https://github.com/amplab/datascience-sp14/raw/master/hw2/hw2data.tar.gz`\n",
    "\n",
    "The zip file includes the following files:\n",
    "\n",
    "* **artists-tags.txt**, User-defined tags for top artists\n",
    "* **userart-mat-training.csv**, Training data containing a matrix mapping artist-id to users who have played songs by the artists\n",
    "* **userart-mat-test.csv**, Test data containing a matrix mapping artist-id to users who have played songs by the artists\n",
    "* **train_model_data.csv**, Aggregate statsitstics and features about songs we'll use to train regression models.\n",
    "* **validation_model_data.csv**, Similar statistics computed on a hold-out set of users and songs that we'll use to validate our regression models.\n",
    "\n",
    "We will explain the datasets and how they need to used in the assignment sections."
   ]
  },
  {
   "cell_type": "markdown",
   "metadata": {},
   "source": [
    "### Deliverables\n",
    "\n",
    "Complete the all the exercises below and turn in a write up in the form of an IPython notebook, that is, **an .ipynb file**.\n",
    "The write up should include your code, answers to exercise questions, and plots of results.\n",
    "Complete submission instructions will be posted on Piazza.\n",
    "\n",
    "We recommend that you do your work in a **copy of this notebook**, in case there are changes that need to be made that are pushed out via github. In this notebook, we provide code templates for many of the exercises. They are intended to help with code re-use, since the exercises build on each other, and are highly recommended. Don't forget to include answers to questions that ask for natural language responses, i.e., in English, not code!"
   ]
  },
  {
   "cell_type": "markdown",
   "metadata": {},
   "source": [
    "### Guidelines\n",
    "\n",
    "#### Code\n",
    "\n",
    "This assignment can be done with basic python, matplotlib and scikit-learn.\n",
    "Feel free to use Pandas, too, which you may find well suited to several exercises.\n",
    "As for other libraries, please check with course staff whether they're allowed.\n",
    "\n",
    "You're not required to do your coding in IPython, so feel free to use your favorite editor or IDE.\n",
    "But when you're done, remember to put your code into a notebook for your write up.\n",
    "\n",
    "#### Collaboration\n",
    "\n",
    "This assignment is to be done individually.  Everyone should be getting a hands on experience in this course.  You are free to discuss course material with fellow students, and we encourage you to use Internet resources to aid your understanding, but the work you turn in, including all code and answers, must be your own work."
   ]
  },
  {
   "cell_type": "markdown",
   "metadata": {},
   "source": [
    "## Part 0: Preliminaries\n",
    "\n",
    "### Exercise 0\n",
    "\n",
    "Download the data and unzip it. \n",
    "\n",
    "Read in the file **artists-tags.txt** and store the contents in a DataFrame. The file format for this file is `artist-id|artist-name|tag|count`. The fields mean the following:\n",
    "\n",
    "1. artist-id : a unique id for an artist (Formatted as a [MusicBrainz Identifier](https://musicbrainz.org/doc/MusicBrainz_Identifier))\n",
    "2. artist-name: name of the artist\n",
    "3. tag: user-defined tag for the artist\n",
    "4. count: number of times the tag was applied\n",
    "\n",
    "Similarly, read in the file **userart-mat-training.csv** . The file format for this file is `artist-id, user1, user2, .... user1000`. i.e. There are 846 such columns in this file and each column has a value 1 if the particular user played a song from this artist."
   ]
  },
  {
   "cell_type": "code",
   "execution_count": null,
   "metadata": {},
   "outputs": [],
   "source": [
    "import pandas as pd\n",
    "\n",
    "DATA_PATH = \"/home/saasbook/datascience-sp14/hw2\" # Make this the /path/to/the/data\n",
    "\n",
    "def parse_artists_tags(filename):\n",
    "    df = pd.read_csv(filename, sep=\"|\", names=[\"ArtistID\", \"ArtistName\", \"Tag\", \"Count\"])\n",
    "    return df\n",
    "\n",
    "def parse_user_artists_matrix(filename):\n",
    "    df = pd.read_csv(filename)\n",
    "    return df\n",
    "\n",
    "artists_tags = parse_artists_tags(DATA_PATH + \"/artists-tags.txt\")\n",
    "user_art_mat = parse_user_artists_matrix(DATA_PATH + \"/userart-mat-training.csv\")\n",
    "\n",
    "print \"Number of tags %d\" % 0 # Change this line. Should be 952803\n",
    "print \"Number of artists %d\" % 0 # Change this line. Should be 17119"
   ]
  },
  {
   "cell_type": "markdown",
   "metadata": {},
   "source": [
    "## Part 1: Finding genres by clustering\n",
    "\n",
    "The first task we will look at is how to discover artist genres by only looking at data from plays on Last.fm. One of the ways to do this is to use clustering. To evaluate how well our clustering algorithm performs we will use the user-generated tags and compare those to our clustering results. \n",
    "\n",
    "### 1.1 Data pre-processing\n",
    "\n",
    "Last.fm allows users to associate tags with every artist (See the [top tags](http://www.last.fm/charts/toptags) for a live example). However as there are a number of tags associated with every artists, in the first step we will pre-process the data and get the most popular tag for an artist."
   ]
  },
  {
   "cell_type": "markdown",
   "metadata": {},
   "source": [
    "#### Exercise 1\n",
    "\n",
    "**a**. For every artist in **artists_tags** calculate the most frequently used tag. "
   ]
  },
  {
   "cell_type": "code",
   "execution_count": null,
   "metadata": {},
   "outputs": [],
   "source": [
    "# TODO Implement this. You can change the function arguments if necessary\n",
    "# Return a data structure that contains (artist id, artist name, top tag) for every artist\n",
    "def calculate_top_tag(all_tags):\n",
    "    pass\n",
    "\n",
    "top_tags = calculate_top_tag(artists_tags)\n",
    "\n",
    "# Print the top tag for Nirvana\n",
    "# Artist ID for Nirvana is 5b11f4ce-a62d-471e-81fc-a69a8278c7da\n",
    "# Should be 'Grunge'\n",
    "print \"Top tag for Nirvana is %s\" % \"TODO: Tag goes here\" # Complete this line "
   ]
  },
  {
   "cell_type": "markdown",
   "metadata": {},
   "source": [
    "**b**. To do clustering we will be using `numpy` matrices. Create a matrix from **user_art_mat** with every row in the matrix representing a single artist. The matrix will have 846 columns, one for whether each user listened to the artist."
   ]
  },
  {
   "cell_type": "code",
   "execution_count": null,
   "metadata": {},
   "outputs": [],
   "source": [
    "def create_user_matrix(input_data):\n",
    "    pass\n",
    "\n",
    "user_np_matrix = create_user_matrix(user_art_mat)\n",
    "\n",
    "print user_np_matrix.shape # Should be (17119, 846)"
   ]
  },
  {
   "cell_type": "markdown",
   "metadata": {},
   "source": [
    "### 1.2 K-Means clustering\n",
    "\n",
    "Having pre-processed the data we can now perform clustering on the dataset. In this assignment we will be using the python library \n",
    "[scikit-learn](http://scikit-learn.org/stable/index.html) for our machine learning algorithms. scikit-learn provides an extensive\n",
    "library of machine learning algorithms that can be used for analysis. Here is a [nice flow chart](http://scikit-learn.org/stable/tutorial/machine_learning_map/index.html) that shows various algorithms implemented\n",
    "and when to use any of them. In this part of the assignment we will look at K-Means clustering\n",
    "\n",
    "> **Note on terminology**: \"samples\" and \"features\" are two words you will come across frequently when you look at machine learning papers or documentation. \"samples\" refer to data points that are used as inputs to the machine learning algorithm. For example in our dataset each artist is a \"sample\". \"features\" refers to some representation we have for every sample. For example the list of 1s and 0s we have for each artist are \"features\". Similarly the bag-of-words approach from the previous homework produced \"features\" for each document.\n",
    "\n",
    "#### K-Means algorithm\n",
    "\n",
    "Clustering is the process of automatically grouping data points that are similar to each other. In the [K-Means algorithm](http://en.wikipedia.org/wiki/K-means_clustering) we start with `K` initially chosen cluster centers (or centroids). We then compute the distance of every point from the centroids and assign each point to the centroid. Next we update the centroids by averaging all the points in the cluster. Finally, we repeat the algorithm until the cluster centers are stable.\n",
    "\n",
    "### Running K-Means\n",
    "\n",
    "#### K-Means interface\n",
    "Take a minute to look at the scikit-learn interface for calling [KMeans](http://scikit-learn.org/stable/modules/generated/sklearn.cluster.KMeans.html). The constructor of the KMeans class returns a `estimator` on which you can call [fit](http://scikit-learn.org/stable/modules/generated/sklearn.cluster.KMeans.html#sklearn.cluster.KMeans.fit) to perform clustering.\n",
    "\n",
    "#### K-Means parameters\n",
    "From the above description we can see that there are a few parameters which control the K-Means algorithm. We will look at one parameter specifically, the number of clusters used in the algorithm. The number of clusters needs to be chosen based on domain knowledge of the data. As we do not know how many genres exist we will try different values and compare the results.\n",
    "\n",
    "#### Timing your code\n",
    "We will also measure the performance of clustering algorithms in this section. You can time the code in a cell using the **%%time** [IPython magic](http://nbviewer.ipython.org/github/ipython/ipython/blob/1.x/examples/notebooks/Cell%20Magics.ipynb) as the first line in the cell. \n",
    "\n",
    ">**Note**: By default, the scikit-learn KMeans implementation runs the algorithm 10 times with different center initializations. For this assignment you can run it just once by passing the `n_init` argument as 1."
   ]
  },
  {
   "cell_type": "markdown",
   "metadata": {},
   "source": [
    "#### Exercise 2\n",
    "\n",
    "**a**. Run K-means using *5* cluster centers on the `user_np_matrix`."
   ]
  },
  {
   "cell_type": "code",
   "execution_count": null,
   "metadata": {},
   "outputs": [],
   "source": [
    "%%time\n",
    "from sklearn.cluster import KMeans\n",
    "\n",
    "# Run K-means using 5 cluster centers on user_np_matrix\n",
    "kmeans_5 = None"
   ]
  },
  {
   "cell_type": "markdown",
   "metadata": {},
   "source": [
    "**b**. Run K-means using *25* and *50* cluster centers on the `user_np_matrix`. Also measure the time taken for both cases."
   ]
  },
  {
   "cell_type": "code",
   "execution_count": null,
   "metadata": {},
   "outputs": [],
   "source": [
    "%%time\n",
    "kmeans_25 = None"
   ]
  },
  {
   "cell_type": "code",
   "execution_count": null,
   "metadata": {},
   "outputs": [],
   "source": [
    "%%time\n",
    "kmeans_50 = None"
   ]
  },
  {
   "cell_type": "markdown",
   "metadata": {},
   "source": [
    "**d**. Of the three algorithms, which setting took the longest to run ? Why do you think this is the case ?"
   ]
  },
  {
   "cell_type": "markdown",
   "metadata": {},
   "source": [
    ">TODO - Answer question here."
   ]
  },
  {
   "cell_type": "markdown",
   "metadata": {},
   "source": [
    "### 1.3 Evaluating K-Means\n",
    "\n",
    "In addition to the performance comparisons we also wish to compare how good our clusters are. To do this we are first going to look at internal evaluation metrics. For internal evaluation we only use the input data and the clusters created and try to measure the quality of clusters created. We are going to use two metrics for this:\n",
    "\n",
    "#### Inertia\n",
    "Inertia is a metric that is used to estimate how close the data points in a cluster are. This is calculated as the sum of squared distance for each point to it's closest centroid, i.e., its assigned cluster center. The intution behind inertia is that clusters with lower inertia are better as it means closely related points form a cluster.Inertia is calculated by scikit-learn by default.\n"
   ]
  },
  {
   "cell_type": "markdown",
   "metadata": {},
   "source": [
    "**Exercise 3**"
   ]
  },
  {
   "cell_type": "markdown",
   "metadata": {},
   "source": [
    "**a**. Print inertia for all the kmeans model computed above."
   ]
  },
  {
   "cell_type": "code",
   "execution_count": null,
   "metadata": {},
   "outputs": [],
   "source": [
    "print \"Inertia for KMeans with 5 clusters = %lf \" % 0.0\n",
    "print \"Inertia for KMeans with 25 clusters =  %lf \" % 0.0\n",
    "print \"Inertia for KMeans with 50 clusters = %lf \" % 0.0"
   ]
  },
  {
   "cell_type": "markdown",
   "metadata": {},
   "source": [
    "**b**. Does KMeans run with 25 clusters have lower or greater inertia than the ones with 5 clusters ? Which algorithm is better and why ?"
   ]
  },
  {
   "cell_type": "markdown",
   "metadata": {},
   "source": [
    ">TODO: Answer question"
   ]
  },
  {
   "cell_type": "markdown",
   "metadata": {},
   "source": [
    "#### Silhouette Score: \n",
    "The silhouette score measures how close various clusters created are. A higher silhouette score is better as it means that we dont have too many overlapping clusters. The silhouette score can be computed using [sklearn.metrics.silhouette_score](http://scikit-learn.org/stable/modules/generated/sklearn.metrics.silhouette_score.html#sklearn.metrics.silhouette_score) from scikit learn."
   ]
  },
  {
   "cell_type": "markdown",
   "metadata": {},
   "source": [
    "**c.** Calculate the Silhouette Score using 500 sample points for all the kmeans models."
   ]
  },
  {
   "cell_type": "code",
   "execution_count": null,
   "metadata": {},
   "outputs": [],
   "source": [
    "from sklearn.metrics import silhouette_score\n",
    "\n",
    "# NOTE: Use 500 sample points to calculate the silhouette score\n",
    "def get_silhouette_score(data, model):\n",
    "    pass\n",
    "\n",
    "print \"Silhouette Score for KMeans with 5 clusters = %lf\" % 0.0\n",
    "print \"Silhouette Score for KMeans with 25 clusters = %lf \" % 0.0\n",
    "print \"Silhouette Score for KMeans with 50 clusters = %lf \" % 0.0"
   ]
  },
  {
   "cell_type": "markdown",
   "metadata": {},
   "source": [
    "**d**. How does increasing the number of clusters affect the silhouette score ?"
   ]
  },
  {
   "cell_type": "markdown",
   "metadata": {},
   "source": [
    ">TODO: Answer question"
   ]
  },
  {
   "cell_type": "markdown",
   "metadata": {},
   "source": [
    "### 1.4 External Evaluation\n",
    "While internal evaluation is useful, a better method for measuring clustering quality is to do external evaluation. This might not be possible always as we may not have ground truth data available. In our application we will use `top_tags` from before as our ground truth data for external evaluation. We will first compute purity and accuracy and finally we will predict tags for our **test** dataset.\n",
    "\n",
    "#### Exercise 4\n",
    "\n",
    "**a**. As a first step we will need to **join** the `artist_tags` data with the set of labels generated by K-Means model. That is, for every artist we will now have the top tag, cluster id and artist name in a data structure."
   ]
  },
  {
   "cell_type": "code",
   "execution_count": null,
   "metadata": {},
   "outputs": [],
   "source": [
    "# Return a data structure that contains artist_id, artist_name, top tag, cluster_label for every artist\n",
    "def join_tags_labels(artists_data, user_data, kmeans_model):\n",
    "    pass\n",
    "\n",
    "# Run the function for all the models\n",
    "kmeans_5_joined = None\n",
    "kmeans_25_joined = None\n",
    "kmeans_50_joined = None"
   ]
  },
  {
   "cell_type": "markdown",
   "metadata": {},
   "source": [
    "**b**. Next we need to generate a genre for every cluster id we have (the cluster ids are from 0 to N-1). You can do this by **grouping** the data from the previous exercise on cluster id. \n",
    "\n",
    "One thing you might notice is that we typically get a bunch of different tags associated with every cluster. How do we pick one genre or tag from this ? To cover various tags that are part of the cluster, we will pick the **top 5** tags in each cluster and save the list of top-5 tags as the genre for the cluster.\n"
   ]
  },
  {
   "cell_type": "code",
   "execution_count": null,
   "metadata": {},
   "outputs": [],
   "source": [
    "# Return a data structure that contains cluster_id, list of top 5 tags for every cluster\n",
    "def assign_cluster_tags(joined_data):\n",
    "    pass\n",
    "    \n",
    "kmeans_5_genres = None\n",
    "kmeans_25_genres = None\n",
    "kmeans_50_genres = None"
   ]
  },
  {
   "cell_type": "markdown",
   "metadata": {},
   "source": [
    "#### Purity and Accuracy\n",
    "Two commonly used metrics used for evaluating clustering using external labels are purity and accuracy. **Purity** measures the frequency of data belonging to the same cluster sharing the same class label i.e. if we have a number of items in a cluster how many of those items have the same label ? Meanwhile, **accuracy** measures the frequency of data from the same class appearing in a single cluster i.e. of all the items which have a particular label what fraction appear in the same cluster ?\n",
    "\n",
    ">NOTE: This is similar to precision and recall that we looked at in the previous assignment. Purity here makes sure that our clusters have mostly homogeneous labels while accuracy make sure that our labels are not spread out over too many clusters."
   ]
  },
  {
   "cell_type": "markdown",
   "metadata": {},
   "source": [
    "**d**. Compute the purity for each of our K-Means models. To do this find the top tags of all artists that belong to a cluster. Check what fraction of these tags are covered by the top 5 tags of the cluster. Average this value across all clusters. **HINT**: We used similar ideas to get the top 5 tags in a cluster. "
   ]
  },
  {
   "cell_type": "code",
   "execution_count": null,
   "metadata": {},
   "outputs": [],
   "source": [
    "def get_cluster_purity(joined_data):\n",
    "    pass\n",
    "    \n",
    "print \"Purity for KMeans with 5 centers %lf \" % 0.0\n",
    "print \"Purity for KMeans with 25 centers %lf \" % 0.0\n",
    "print \"Purity for KMeans with 50 centers %lf \" % 0.0"
   ]
  },
  {
   "cell_type": "markdown",
   "metadata": {},
   "source": [
    "**e**. To compute the accuracy first get all the unique tags from *top_tags*. Then for each tag, compute how many artists are found in the largest cluster. We denote these as correct cluster assignments. For example, lets take a tag 'rock'. If there are 100 artists with tag 'rock' and say 90 of them are in one cluster while 10 of them are in another. Then we have 90 correct cluster assignments\n",
    "\n",
    "Add the number of correct cluster assignments for all tags and divide this by the total size of the training data to get the accuracy for a model."
   ]
  },
  {
   "cell_type": "code",
   "execution_count": null,
   "metadata": {},
   "outputs": [],
   "source": [
    "def get_accuracy(joined_data):\n",
    "    pass\n",
    "    \n",
    "print \"Accuracy of KMeans with 5 centers %lf \" % 0.0\n",
    "print \"Accuracy of KMeans with 25 centers %lf \" % 0.0\n",
    "print \"Accuracy of KMeans with 50 centers %lf \" % 0.0"
   ]
  },
  {
   "cell_type": "markdown",
   "metadata": {},
   "source": [
    "**f.** What do the numbers tell you about the models? Do you have a favorite?"
   ]
  },
  {
   "cell_type": "markdown",
   "metadata": {},
   "source": [
    ">TODO: Your answer here."
   ]
  },
  {
   "cell_type": "markdown",
   "metadata": {},
   "source": [
    "### 1.5 Evaluating Test Data\n",
    "Finally we can treat the clustering model as a multi-class classifier and make predictions on external test data. To do this we load the test data file **userart-mat-test.csv** and for every artist in the file we use the K-Means model to predict a cluster. We mark our prediction as successful if the artist's top tag belongs to one of the five tags for the cluster. \n",
    "\n",
    "#### Exercise 5"
   ]
  },
  {
   "cell_type": "markdown",
   "metadata": {},
   "source": [
    "**a** Load the testdata file and create a NumPy matrix named user_np_matrix_test."
   ]
  },
  {
   "cell_type": "code",
   "execution_count": null,
   "metadata": {},
   "outputs": [],
   "source": [
    "user_art_mat_test = parse_user_artists_matrix(DATA_PATH + \"/userart-mat-test.csv\")\n",
    "# NOTE: the astype(float) converts integer to floats here\n",
    "user_np_matrix_test = create_user_matrix(user_art_mat_test).astype(float)\n",
    "\n",
    "user_np_matrix_test.shape # Should be (1902, 846)"
   ]
  },
  {
   "cell_type": "markdown",
   "metadata": {},
   "source": [
    "**b.** For each artist in the test set, call **[predict](http://scikit-learn.org/stable/modules/generated/sklearn.cluster.KMeans.html#sklearn.cluster.KMeans.predict)** to get the predicted cluster. Join the predicted labels with test artist ids. Return 'artist_id', 'predicted_label' for every artist in the test dataset."
   ]
  },
  {
   "cell_type": "code",
   "execution_count": null,
   "metadata": {},
   "outputs": [],
   "source": [
    "# For every artist return a list of labels\n",
    "def predict_cluster(test_data, test_np_matrix, kmeans_model):\n",
    "    pass\n",
    "\n",
    "# Call the function for every model from before\n",
    "kmeans_5_predicted = None\n",
    "kmeans_25_predicted = None\n",
    "kmeans_50_predicted = None"
   ]
  },
  {
   "cell_type": "markdown",
   "metadata": {},
   "source": [
    "**c**. Get the tags for the predicted genre and the tag for the artist from `top_tags`. Output the percentage of artists for whom the top tag is one of the five that describe its cluster. This is the *recall* of our model.\n",
    ">NOTE: Since the tag data is not from the same source as user plays, there are artists in the test set for whom we do not have top tags. You should exclude these artists while making predictions and while computing the recall."
   ]
  },
  {
   "cell_type": "code",
   "execution_count": null,
   "metadata": {},
   "outputs": [],
   "source": [
    "# Calculate recall for our predictions\n",
    "def verify_predictions(predicted_artist_labels, cluster_genres, top_tag_data):\n",
    "    pass"
   ]
  },
  {
   "cell_type": "markdown",
   "metadata": {},
   "source": [
    "**d**. Print the recall for each KMeans model. We define recall as num_correct_predictions / num_artists_in_test_data"
   ]
  },
  {
   "cell_type": "code",
   "execution_count": null,
   "metadata": {},
   "outputs": [],
   "source": [
    "# Use verify_predictions for every model\n",
    "print \"Recall of KMeans with 5 centers %lf \" % 0.0\n",
    "print \"Recall of KMeans with 25 centers %lf \" % 0.0\n",
    "print \"Recall of KMeans with 50 centers %lf \" % 0.0"
   ]
  },
  {
   "cell_type": "markdown",
   "metadata": {},
   "source": [
    "### 1.5 Visualizing Clusters using PCA\n",
    "\n",
    "Another way to evaluate clustering is to visualize the output of clustering. However the data we are working with is in 846 dimensions !, so it is hard to visualize or plot this. Thus the first step for visualization is to reduce the dimensionality of the data. To do this we can use [Prinicipal Component Analysis (PCA)](http://en.wikipedia.org/wiki/Principal_component_analysis). PCA reduces the dimension of data and keeps only the most significant components of it. This is a commonly used technique to visualize data from high dimensional spaces.\n",
    "\n",
    ">**NOTE**: We use [RandomizedPCA](http://scikit-learn.org/stable/modules/decomposition.html#approximate-pca), an approximate version of the algorithm as this has lower memory requirements. The approximate version is good enough when we are reducing to a few dimensions (2 in this case). We also sample the input data before PCA to further reduce memory requirements.\n",
    "\n",
    "#### Exercise 6\n",
    "\n",
    "**a**. Calcluate the RandomizedPCA of the sampled training data set `sampled_data` and reduce it to 2 components. Use the [fit_transform](http://scikit-learn.org/stable/modules/generated/sklearn.decomposition.RandomizedPCA.html#sklearn.decomposition.RandomizedPCA.fit_transform) method to do this."
   ]
  },
  {
   "cell_type": "code",
   "execution_count": null,
   "metadata": {},
   "outputs": [],
   "source": [
    "from sklearn.decomposition import RandomizedPCA\n",
    "import numpy as np\n",
    "\n",
    "sample_percent = 0.20\n",
    "rows_to_sample = int(np.ceil(sample_percent * user_np_matrix.shape[0]))\n",
    "sampled_data = input_data[np.random.choice(input_data.shape[0], rows_to_sample, replace=False),:]\n",
    "\n",
    "# Return the data reduced to 2 principal components\n",
    "def get_reduced_data(input_data):\n",
    "    pass\n",
    "\n",
    "user_np_2d = get_reduced_data(sampled_data)"
   ]
  },
  {
   "cell_type": "markdown",
   "metadata": {},
   "source": [
    "**b**. Fit the reduced data with the KMeans model with 5 cluster centers. Plot the cluster centers and all the points. Make sure to color points in every cluster differently to see a visual separation. You may find [`scatter`](http://matplotlib.org/api/pyplot_api.html#matplotlib.pyplot.scatter) and [`plot`](http://matplotlib.org/api/pyplot_api.html#matplotlib.pyplot.plot) functions from matplotlib to be useful.\n"
   ]
  },
  {
   "cell_type": "code",
   "execution_count": null,
   "metadata": {},
   "outputs": [],
   "source": [
    "# TODO: Write code to fit and plot reduced_data.\n",
    "import pylab as pl\n",
    "%pylab inline"
   ]
  },
  {
   "cell_type": "markdown",
   "metadata": {},
   "source": [
    "# Part 2 - Regression Models - Predicting Song Popularity\n",
    "\n",
    "In this section of the assignment you'll be building a model to predict the number of plays a song will get. Again, we're going to be using scikit-learn to train and evaluate regression models, and pandas to pre-process the data.\n",
    "\n",
    "In the process, you'll encounter some modeling challenges and we'll look at how to deal with them.\n",
    "\n",
    "We've started with the same data as above, but this time we've pre-computed a number of song statistics for you.\n",
    "\n",
    "These are:\n",
    "\n",
    "1. plays - the number of times a song has been played.\n",
    "1. pctmale - percentage of the plays that came from users who self-identified as \"male\".\n",
    "1. age - average age of the listener.\n",
    "1. country1 - the country of the users that listened to this song most.\n",
    "1. country2 - the country of the users that listened to this song second most.\n",
    "1. country3 - the country of the users that listened to this song third most.\n",
    "1. pctgt1 - Percentage of plays that come from a user who's played the song more than once.\n",
    "1. pctgt2 - Percentage of plays that come from a user who's played the song more than twice.\n",
    "1. pctgt5 - Percentage of plays that come from a user who's played the song more than five times.\n",
    "1. cluster - The \"cluster number\" of the artist associated with this song - similar to what you came up with above. We chose 25 clusters fairly arbitrarily.\n",
    "\n",
    "### 2.1 Data Exploration\n",
    "#### Exercise 7\n",
    "\n",
    "**a**. Let's start by loading up the data - we've provided a \"training set\" and a \"validation set\" for you to test your models on. The training set are the examples that we use to create our models, while the validation set is a dataset we \"hold out\" from the model fitting process, we use these examples to test whether our models accurately predict new data.\n"
   ]
  },
  {
   "cell_type": "code",
   "execution_count": null,
   "metadata": {},
   "outputs": [],
   "source": [
    "%pylab inline\n",
    "import pandas as pd\n",
    "\n",
    "train = pd.read_csv(DATA_PATH + \"/train_model_data.csv\")\n",
    "validation = pd.read_csv(DATA_PATH + \"/validation_model_data.csv\")"
   ]
  },
  {
   "cell_type": "markdown",
   "metadata": {},
   "source": [
    "Now that you've got the data loaded, play around with it, generate some descriptive statistics, and get a feel for what's in the data set. For the categorical variables try pandas \".count_values()\" on them to get a sense of the most likely distributions (countries, etc.). \n",
    "\n",
    "**b**. In the next cell put some commands you ran to get a feel for the data."
   ]
  },
  {
   "cell_type": "code",
   "execution_count": null,
   "metadata": {},
   "outputs": [],
   "source": [
    "# TODO: Your commands for data exploration here."
   ]
  },
  {
   "cell_type": "markdown",
   "metadata": {},
   "source": [
    "**c**. Next, create a pairwise scatter plot of the columns: plays, pctmale, age, pctgt1, pctgt2, pctgt5. (_Hint: we did this in lab!_)\n",
    "\n",
    "Do you notice anything about the data in this view? What about the relationship between plays and other columns?"
   ]
  },
  {
   "cell_type": "code",
   "execution_count": null,
   "metadata": {},
   "outputs": [],
   "source": [
    "# TODO: Your commands to generate a scatter plot here."
   ]
  },
  {
   "cell_type": "markdown",
   "metadata": {},
   "source": [
    ">TODO: What do you notice about the data in this view? Write your answer here."
   ]
  },
  {
   "cell_type": "markdown",
   "metadata": {},
   "source": [
    "###2.2 Data Prep and Intro to Linear Regression\n",
    "\n",
    "*scikit-learn* does a number of things very well, but one of the things it doesn't handle easily is categorical or missing data. Categorical data is data that can take on a finite set of values, e.g. a categorical variable might be the color of a stop light (Red, Yellow, Green), this is in contrast with continuous variables like real numbers in the range -Infinity to +Infinity. There is another common type of data called \"ordinal\" that can be thought of as categorical data that has a natural ordering, like: Cold, Warm, Hot. We won't be dealing with this kind of data here, but having that kind of ranking opens up the use of certain other statistical methods.\n",
    "\n",
    "\n",
    "#### Exercise 8\n",
    "\n",
    "**a**. For the first part of the exercise, let's eliminate categorical variables, and *impute* missing values with pandas. Write a function to drop all categorical variables from the data set, and return two pandas data frames:\n",
    "\n",
    "1. A data frame with all categorical items and a user-specified response column removed.\n",
    "2. A data frame that contains only the response column."
   ]
  },
  {
   "cell_type": "code",
   "execution_count": null,
   "metadata": {},
   "outputs": [],
   "source": [
    "def basic_prep(data, col):\n",
    "    #TODO - make a copy of the original dataset but with the categorical variables removed! *Cluster* should be thought of as a \n",
    "    #categorical variable and should be removed! Make use of pandas \".drop\" function.\n",
    "    \n",
    "    #TODO - impute missing values with the mean of those columns, use pandas \".fillna\" function to accomplish this.\n",
    "    \n",
    "    pass\n",
    "\n",
    "#This will create two new data frames, one that contains training data - in this case all the numeric columns,\n",
    "#and one that contains response data - in this case, the \"plays\" column.\n",
    "train_basic_features, train_basic_response = basic_prep(train, 'plays')\n",
    "validation_basic_features, validation_basic_response = basic_prep(validation, 'plays')"
   ]
  },
  {
   "cell_type": "markdown",
   "metadata": {},
   "source": [
    "Now, we're going to train a linear regression model. This is likely the most widely used model for fitting data out there today - you've probably seen it before, maybe even used it in Excel. The goal of linear modeling, is to fit a **linear equation** that maps a set of **input features** to a numerical **response**. This equation is called a **model**, and can be used to make predictions about the response of similar input features. For example, imagine we have a dataset of electricity prices ($p$) and outdoor temperature ($t$), and we want to predict, given temperature, what electricity price will be. A simple way to model this is with an equation that looks something like $p = basePrice + factor*t$. When we **fit** a model, we are estimating the parameters ($basePrice$ and $factor$) that best fit our data. This is a very simple linear model, but you can easily imagine extending this to situations where you need to estimate several parameters.\n",
    "\n",
    ">**Note**: It is possible to fill a semester with linear models (and classes in other departments do!), and there are innumerable issues to be aware of when you fit linear models, so this is just the tip of the iceberg - don't dismiss linear models outright based on your experiences here!\n",
    "\n",
    "A linear model models the data as a **linear combination** of the model and its weights. Typically, the model is written with something like the following form: $y = X\\theta + \\epsilon$, and when we fit the model, we are trying to find the value of $\\theta$ that minimizes the **loss** of the model. In the case of regression models, the loss is often represented as $\\sum (y - X\\theta)^2$ - or the squared distance between the prediction and the actual value.\n",
    "\n",
    "In the code below, `X` refers to the the training features, `y` refers to the training response, `Xv` refers to the validation features and yv refers to the validation response. Note that `X` is a matrix (or a `DataFrame`) with the shape $n \\times d$ where $n$ is the number of examples and $d$ is the number of features in each example, while `y` is a vector of length $n$ (one response per example).\n",
    "\n",
    "Our goal with this assignment is to accurately estimate the number of plays a song will get based on the features we know about it.\n",
    "\n",
    "The score we'll be judging the models on is called $R^2$, which is a measure of how well the model fits the data. It can be thought of roughly as the percentage of the variance that the model explains. \n",
    "\n",
    "#### Exercise 9\n",
    "\n",
    "**a.** Fit a `LinearRegression` model with scikit-learn and return the model score on both the training data and the validation data."
   ]
  },
  {
   "cell_type": "code",
   "execution_count": null,
   "metadata": {},
   "outputs": [],
   "source": [
    "from sklearn import linear_model\n",
    "\n",
    "def fit_model(X, y):\n",
    "    #TODO - Write a function that fits a linear model to a dataset given a column of values to predict.\n",
    "    pass\n",
    "\n",
    "def score_model(model, X, y, Xv, yv):\n",
    "    #TODO - Write a function that returns scores of a model given its training \n",
    "    #features and response and validation features and response. \n",
    "    #The output should be a tuple of two model scores.\n",
    "    pass\n",
    "\n",
    "def fit_model_and_score(data, response, validation, val_response):\n",
    "    #TODO - Given a training dataset, a validation dataset, and the name of a column to predict, \n",
    "    #Using the model's \".score()\" method, return the model score on the training data *and* the validation data\n",
    "    #as a tuple of two doubles.\n",
    "    pass\n",
    "    #END TODO\n",
    "\n",
    "print fit_model_and_score(train_basic_features, train_basic_response, validation_basic_features, validation_basic_response)\n",
    "\n",
    "model = fit_model(train_basic_features, train_basic_response)\n"
   ]
  },
  {
   "cell_type": "markdown",
   "metadata": {},
   "source": [
    "We realize that this may be your first experience with linear models - but that's a pretty low $R^2$ - we're looking for scores significantly higher than 0, and the maximum is a 1. \n",
    "\n",
    "So what happened? Well, we've modeled a **linear** response to our input features, but the variable we're modeling (plays) clearly has a non-linear relationship with respect to the input features. It roughly follows a **power-law** distribution, and so modeling it in linear space yields a model with estimates that are way off.\n",
    "\n",
    "We can verify this by looking at a plot of the model's residuals - that is, the difference between the training responses and the predictions. A good model would have residuals with two properties:\n",
    "\n",
    "1. Small in absolute value. \n",
    "1. Evenly distributed about the true values.\n",
    "\n",
    "**b.** Write a function to calculate the residuals of the model, and plot those with a histogram.\n"
   ]
  },
  {
   "cell_type": "code",
   "execution_count": null,
   "metadata": {},
   "outputs": [],
   "source": [
    "def residuals(features, y, model):\n",
    "    #TODO - Write a function that calculates model residuals given input features, ground truth, and the model.\n",
    "    pass\n",
    "\n",
    "#TODO - Plot the histogram of the residuals of your current model."
   ]
  },
  {
   "cell_type": "markdown",
   "metadata": {},
   "source": [
    "See the structure in the plot? This means we've got more modeling to do before we can call it a day! It satisfies neither of our properties - we're often way wrong with our predictions, and seem to systematically **under** predict the number of plays a song will get.\n",
    "\n",
    "What happens if we try and predict the $log$ of number of plays? This controls the exponential behaviour of plays, and gives less weight to the case where our prediction was off by 100 when the true answer was 1000. \n",
    "\n",
    "#### Exercise 10\n",
    "**a.** Adapt your model fitting from above to fit the **log** of the nubmer of plays as your response variable. Print the scores."
   ]
  },
  {
   "cell_type": "code",
   "execution_count": null,
   "metadata": {},
   "outputs": [],
   "source": [
    "from sklearn import linear_model\n",
    "\n",
    "#TODO - Using what you built above, build a model using the log of the number of plays as the response variable.\n"
   ]
  },
  {
   "cell_type": "markdown",
   "metadata": {},
   "source": [
    "**b.** You should see a significantly better $R^2$ and validation $R^2$, though still pretty low. Take a look at the model residuals again, do they look any better?"
   ]
  },
  {
   "cell_type": "code",
   "execution_count": null,
   "metadata": {},
   "outputs": [],
   "source": [
    "#TODO Plot residuals of your log model. Note - we want to see these on a \"plays\" scale, not a \"log(plays)\" scale!"
   ]
  },
  {
   "cell_type": "markdown",
   "metadata": {},
   "source": [
    "There must be something we can do here to build a better model. Let's try incorporating country and cluster information.\n",
    "\n",
    "###2.3 Linear Modeling with Categorical Variables: One-Hot Encoding\n",
    "\n",
    "Linear models expect **numbers** for input features. But we have some features that we think could be useful that are **discrete** or **categorical**. How do we represent these as numbers?\n",
    "\n",
    "One solution is something called one-hot encoding. Basically, we map a discrete space to a vector of binary indicators, then use these indicators as numbers.\n",
    "\n",
    "For example, if I had an input column that could take on the values {$RED$, $GREEN$, $BLUE$}, and I wanted to model this with one-hot-encoding, I could use a map:\n",
    "\n",
    "* $RED = 001$\n",
    "* $GREEN = 010$\n",
    "* $BLUE = 100$\n",
    "\n",
    "We use this representation instead of traditional binary numbers to keep these features independent of one another.\n",
    "\n",
    "Once we've established this representation, we replace the columns in our dataset with their one-hot-encoded values. Then, we can fit a linear model on the data once it's encoded this way!\n",
    "\n",
    "Statisticians and econometricians call these types of binary variables *dummy variables*, but we're going to call it one-hot encoding, because that sounds cooler.\n",
    "\n",
    "Scikit-learn has functionality to transform values to this encoding built in, so we'll leverage that. The functionality is called `DictVectorizer` in scikit-learn. The idea is that you feed a `DictVectorizer` a bunch of examples of your data (that's the `vec.fit` line), and it builds a map from a categorical variable to a one-hot encoded vector like we have in the color example above. Then, you can use this object to translate from categorical values to sequences of numeric ones as we do with `vec.transform`. In the example below, we fit a vectorizer on the training data and use the same vectorizer on the validation data so that the mapping is consistent and we don't run into issues if the categories don't match perfectly between the two data sets.\n",
    "\n",
    "####Exercise 11\n",
    "**a.** Use the code below to generate new training and validation datasets for the datasets *with* the categorical features in them."
   ]
  },
  {
   "cell_type": "code",
   "execution_count": null,
   "metadata": {},
   "outputs": [],
   "source": [
    "from sklearn import feature_extraction\n",
    "\n",
    "def one_hot_dataframe(data, cols, vec=None):\n",
    "    \"\"\" Takes a dataframe and a list of columns that need to be encoded.\n",
    "        Returns a tuple comprising the data, and the fitted vectorizor.\n",
    "        \n",
    "        Based on https://gist.github.com/kljensen/5452382\n",
    "    \"\"\"\n",
    "    if vec is None:\n",
    "        vec = feature_extraction.DictVectorizer()\n",
    "        vec.fit(data[cols].to_dict(outtype='records'))\n",
    "    \n",
    "    vecData = pd.DataFrame(vec.transform(data[cols].to_dict(outtype='records')).toarray())\n",
    "    vecData.columns = vec.get_feature_names()\n",
    "    vecData.index = data.index\n",
    "    \n",
    "    data = data.drop(cols, axis=1)\n",
    "    data = data.join(vecData)\n",
    "    return (data, vec)\n",
    "\n",
    "def prep_dset(data, col, vec=None):\n",
    "    #Convert the clusters to strings.\n",
    "    new_data = data\n",
    "    new_data['cluster'] = new_data['cluster'].apply(str)\n",
    "    \n",
    "    #Encode the data with OneHot Encoding.\n",
    "    new_data, vec = one_hot_dataframe(new_data, ['country1','cluster'], vec)\n",
    "\n",
    "    #Eliminate features we don't want to use in the model.\n",
    "    badcols = ['country2','country3','artid','key','age']\n",
    "    new_data = new_data.drop(badcols, axis=1)\n",
    "    \n",
    "    new_data = new_data.fillna(new_data.mean())\n",
    "    \n",
    "    return (new_data.drop([col], axis=1), pd.DataFrame(new_data[col]), vec)\n",
    "    "
   ]
  },
  {
   "cell_type": "code",
   "execution_count": null,
   "metadata": {},
   "outputs": [],
   "source": [
    "train_cats_features, train_cats_response, vec = prep_dset(train, 'plays')\n",
    "validation_cats_features, validation_cats_response, _ = prep_dset(validation, 'plays', vec)"
   ]
  },
  {
   "cell_type": "markdown",
   "metadata": {},
   "source": [
    "**b.** Now that you've added the categorical data, let's see how it works with a linear model!"
   ]
  },
  {
   "cell_type": "code",
   "execution_count": null,
   "metadata": {},
   "outputs": [],
   "source": [
    "print fit_model_and_score(train_cats_features, train_cats_response, validation_cats_features, validation_cats_response)"
   ]
  },
  {
   "cell_type": "markdown",
   "metadata": {},
   "source": [
    "You should see a much better $R^2$ for the training data, but a much *worse* one for the validation data. What happened?\n",
    "\n",
    "This is a phenomenon called **overfitting** - our model has too many degrees of freedom (one parameter for each of the 100+ features of this dataset. This means that while our model fits the training data reasonably well, but at the expense of being too specific to that data.\n",
    "\n",
    "John Von Neumann famously said [\"With four parameters I can fit an elephant, and with five I can make him wiggle his trunk!\"](http://www.johndcook.com/blog/2011/06/21/how-to-fit-an-elephant/).\n",
    "\n",
    "### 2.4 Non-linear modeling and Regression Trees\n",
    "So, we're at an impasse. We didn't have enough features and our model performed poorly, we added too many features and our model looked good on training data, but not so good on test data.\n",
    "\n",
    "What's a modeler to do? \n",
    "\n",
    "There are a couple of ways of dealing with this situation - one of them is called **regularization**, which you might try on your own (see `RidgeRegression` or `LassoRegression` in scikit-learn), another is to use a model which captures **non-linear** relationships between the features and the response variable.\n",
    "\n",
    "One such type of model was pioneered here at Berkeley, by the late, great Leo Breiman. These models are called **regression trees**.\n",
    "\n",
    "The basic idea behind regression treees is to recursively partition the dataset into subsets that are *similar with respect to the response variable*. \n",
    "\n",
    "If we take our temperature example, we might observe a non-linear relationship - electricity gets expensive when it's cold outside because we use the heater, but it also gets expensive when it's too hot outside because we run the air conditioning. \n",
    "\n",
    "A decision tree model might dynamically elect to split the data on the temperature feature, and estimate high prices both for hot and cold, with lower prices for more Berkeley-like temperatures. Go read the [scikit-learn decision trees documentation](http://scikit-learn.org/stable/modules/tree.html) for more background.\n",
    "\n",
    "####Exercise 12\n",
    "**a.** Using the scikit learn `DecsionTreeRegressor` API, write a function that fits trees with the parameter 'max_depth' exposed to the user, and set to 10 by default."
   ]
  },
  {
   "cell_type": "code",
   "execution_count": null,
   "metadata": {},
   "outputs": [],
   "source": [
    "from sklearn import tree\n",
    "\n",
    "def fit_tree(X, y, depth=10):\n",
    "    ##TODO: Using the DecisionTreeRegressor, train a model to depth 10.\n",
    "    pass"
   ]
  },
  {
   "cell_type": "markdown",
   "metadata": {},
   "source": [
    "**b.** You should be able to use your same scoring function as above to compute your model scores. Write a function that fits a tree model to your training set and returns the model's score for both the training set and the validation set."
   ]
  },
  {
   "cell_type": "code",
   "execution_count": null,
   "metadata": {},
   "outputs": [],
   "source": [
    "def fit_model_and_score_tree(train_features, train_response, val_features, val_response):\n",
    "    ##TODO: Fit a tree model and report the score on both the training set and test set.\n",
    "    pass"
   ]
  },
  {
   "cell_type": "markdown",
   "metadata": {},
   "source": [
    "**c.** Report the scores on the training and test data for both the basic features and the categorical features."
   ]
  },
  {
   "cell_type": "code",
   "execution_count": null,
   "metadata": {},
   "outputs": [],
   "source": [
    "print fit_model_and_score_tree(train_basic_features, train_basic_response, validation_basic_features, validation_basic_response)\n",
    "print fit_model_and_score_tree(train_cats_features, train_cats_response, validation_cats_features, validation_cats_response)"
   ]
  },
  {
   "cell_type": "markdown",
   "metadata": {},
   "source": [
    "Hooray - we've got a model that performs well on the training data set *and* the validation dataset. Which one is better? Why do you think that is. Try varying the depth of the decision tree (from, say, 2 to 20) and see how either data set does with respect to training and validation error. \n",
    "\n",
    "**d.** Now, let's build a tree to depth 3 and take a look at it."
   ]
  },
  {
   "cell_type": "code",
   "execution_count": null,
   "metadata": {},
   "outputs": [],
   "source": [
    "import StringIO \n",
    "import pydot \n",
    "from IPython.display import Image\n",
    "\n",
    "tmodel = fit_tree(train_basic_features, train_basic_response, 3)\n",
    "\n",
    "def display_tree(tmodel):\n",
    "    dot_data = StringIO.StringIO() \n",
    "    tree.export_graphviz(tmodel, out_file=dot_data) \n",
    "    graph = pydot.graph_from_dot_data(dot_data.getvalue())\n",
    "    return Image(graph.create_png())\n",
    "    \n",
    "display_tree(tmodel)"
   ]
  },
  {
   "cell_type": "markdown",
   "metadata": {},
   "source": [
    "**e.** What is the tree doing? It looks like it's making a decision on variables X[4] and X[2] - can you briefly describe, in words, what the tree is doing?"
   ]
  },
  {
   "cell_type": "markdown",
   "metadata": {},
   "source": [
    ">TODO: Your answer goes here."
   ]
  },
  {
   "cell_type": "markdown",
   "metadata": {},
   "source": [
    "**f.** Finally, let's take a look at variable importance for a tree trained to 10 levels - this is a more formal way of deciding which features are important to the tree. The metric that scikit-learn calculates for feature importance is called GINI importance, and measures how much total 'impurity' is removed by splits from a given node. Variables that are highly discriminitive (e.g. ones that occur frequently throughout the tree) have higher GINI scores. You can read more about these scores [here](http://www.stat.berkeley.edu/~breiman/RandomForests/cc_home.htm#giniimp)."
   ]
  },
  {
   "cell_type": "code",
   "execution_count": null,
   "metadata": {},
   "outputs": [],
   "source": [
    "tmodel = fit_tree(train_basic_features, train_basic_response, 10)\n",
    "\n",
    "pd.DataFrame(tmodel.feature_importances_, train_basic_features.columns)"
   ]
  },
  {
   "cell_type": "markdown",
   "metadata": {},
   "source": [
    "**g.** What do you notice? Is the output interpretable? How would you explain this to someone?"
   ]
  },
  {
   "cell_type": "markdown",
   "metadata": {},
   "source": [
    ">TODO: Your answer goes here."
   ]
  }
 ],
 "metadata": {
  "kernelspec": {
   "display_name": "Python 3",
   "language": "python",
   "name": "python3"
  },
  "language_info": {
   "codemirror_mode": {
    "name": "ipython",
    "version": 3
   },
   "file_extension": ".py",
   "mimetype": "text/x-python",
   "name": "python",
   "nbconvert_exporter": "python",
   "pygments_lexer": "ipython3",
   "version": "3.6.1"
  }
 },
 "nbformat": 4,
 "nbformat_minor": 1
}
