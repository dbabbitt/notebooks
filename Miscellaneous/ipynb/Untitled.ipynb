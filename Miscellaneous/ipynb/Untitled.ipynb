{
 "cells": [
  {
   "cell_type": "code",
   "execution_count": 14,
   "metadata": {},
   "outputs": [],
   "source": []
  },
  {
   "cell_type": "code",
   "execution_count": 1,
   "metadata": {},
   "outputs": [
    {
     "name": "stdout",
     "output_type": "stream",
     "text": [
      "Pretty printing has been turned OFF\n",
      "D:\\Documents\\Repositories\\notebooks\\Miscellaneous\\ipynb\\Untitled.ipynb\n",
      "['s.attempt_to_pickle', 's.data_csv_folder', 's.data_folder', 's.encoding_type', 's.load_csv', 's.load_dataframes', 's.load_object', 's.save_dataframes', 's.saves_csv_folder', 's.saves_folder', 's.saves_pickle_folder', 's.store_objects']\n"
     ]
    },
    {
     "data": {
      "text/plain": [
       "['Config', 'In', 'Out', 'RandomForestClassifier', 'SequenceMatcher', 'Storage', '_', '__', '___', '__builtin__', '__builtins__', '__doc__', '__loader__', '__name__', '__nonzero__', '__package__', '__spec__', '_dh', '_i', '_i1', '_ih', '_ii', '_iii', '_oh', 'check_4_doubles', 'check_for_typos', 'conjunctify_list', 'copyfile', 'csv', 'encoding', 'exit', 'get_classifier', 'get_data_structs_df', 'get_datastructure_prediction', 'get_dir_tree', 'get_git_lfs_track_commands', 'get_importances', 'get_input_sample', 'get_ipython', 'get_module_version', 'get_notebook_path', 'get_specific_gitignore_files', 'get_struct_name', 'humanize_bytes', 'ipykernel', 'json', 'jupyter_config_dir', 'notebook_path', 'notebookapp', 'np', 'os', 'pd', 'pickle', 'preprocess_data', 'print_all_files_ending_starting_with', 'print_all_files_ending_with', 'print_all_files_starting_with', 'quit', 're', 'remove_empty_folders', 's', 'similar', 'subprocess', 'sys', 'time', 'urllib']"
      ]
     },
     "execution_count": 1,
     "metadata": {},
     "output_type": "execute_result"
    }
   ],
   "source": [
    "\n",
    "%run ../../load_magic/storage.py\n",
    "%run ../../load_magic/paths.py\n",
    "%run ../../load_magic/lists.py\n",
    "%run ../../load_magic/environment.py\n",
    "import numpy as np\n",
    "%pprint\n",
    "\n",
    "notebook_path = get_notebook_path()\n",
    "print(notebook_path)\n",
    "\n",
    "s = Storage()\n",
    "print(['s.{}'.format(fn) for fn in dir(s) if not fn.startswith('_')])\n",
    "dir()"
   ]
  },
  {
   "cell_type": "code",
   "execution_count": 2,
   "metadata": {},
   "outputs": [],
   "source": [
    "\n",
    "!start %windir%\\explorer.exe \"{os.path.abspath(s.data_folder)}\""
   ]
  },
  {
   "cell_type": "code",
   "execution_count": 3,
   "metadata": {},
   "outputs": [
    {
     "name": "stdout",
     "output_type": "stream",
     "text": [
      "['json_data.clear', 'json_data.copy', 'json_data.fromkeys', 'json_data.get', 'json_data.items', 'json_data.keys', 'json_data.pop', 'json_data.popitem', 'json_data.setdefault', 'json_data.update', 'json_data.values']\n"
     ]
    }
   ],
   "source": [
    "\n",
    "import json\n",
    "\n",
    "json_dir = os.path.join(s.data_folder, 'json')\n",
    "file_path = os.path.join(json_dir, 'full-analysis2.json')\n",
    "with open(file_path) as fh:\n",
    "    json_data = json.loads(fh.read())\n",
    "print(['json_data.{}'.format(fn) for fn in dir(json_data) if not fn.startswith('_')])"
   ]
  },
  {
   "cell_type": "code",
   "execution_count": 6,
   "metadata": {},
   "outputs": [],
   "source": [
    "\n",
    "twelve_list = json_data['12']"
   ]
  },
  {
   "cell_type": "code",
   "execution_count": 9,
   "metadata": {},
   "outputs": [
    {
     "name": "stdout",
     "output_type": "stream",
     "text": [
      "Opening in existing browser session.\n"
     ]
    },
    {
     "name": "stderr",
     "output_type": "stream",
     "text": [
      "C:\\Program Files (x86)\\Google\\Chrome\\Application\\chrome.exe: invalid option -- `-u'\n",
      "Try 'chrome.exe --help' for more information.\n",
      "[0319/160432.156:ERROR:registration_protocol_win.cc(84)] TransactNamedPipe: The pipe has been ended. (0x6D)\n",
      "[203740:200932:0319/160432.459:ERROR:cache_util_win.cc(21)] Unable to move the cache: Access is denied. (0x5)\n",
      "[203740:200932:0319/160432.459:ERROR:cache_util.cc(135)] Unable to move cache folder C:\\Users\\577342\\AppData\\Local\\Google\\Chrome\\User Data\\ShaderCache\\GPUCache to C:\\Users\\577342\\AppData\\Local\\Google\\Chrome\\User Data\\ShaderCache\\old_GPUCache_000\n",
      "[203740:200932:0319/160432.459:ERROR:disk_cache.cc(184)] Unable to create cache\n",
      "[203740:200932:0319/160432.459:ERROR:shader_disk_cache.cc(606)] Shader Cache Creation failed: -2\n"
     ]
    },
    {
     "name": "stdout",
     "output_type": "stream",
     "text": [
      "Opening in existing browser session.\n"
     ]
    },
    {
     "name": "stderr",
     "output_type": "stream",
     "text": [
      "C:\\Program Files (x86)\\Google\\Chrome\\Application\\chrome.exe: invalid option -- `-u'\n",
      "Try 'chrome.exe --help' for more information.\n",
      "[0319/160433.887:ERROR:registration_protocol_win.cc(84)] TransactNamedPipe: The pipe has been ended. (0x6D)\n",
      "[3812:2676:0319/160434.143:ERROR:cache_util_win.cc(21)] Unable to move the cache: Access is denied. (0x5)\n",
      "[3812:2676:0319/160434.144:ERROR:cache_util.cc(135)] Unable to move cache folder C:\\Users\\577342\\AppData\\Local\\Google\\Chrome\\User Data\\ShaderCache\\GPUCache to C:\\Users\\577342\\AppData\\Local\\Google\\Chrome\\User Data\\ShaderCache\\old_GPUCache_000\n",
      "[3812:2676:0319/160434.144:ERROR:disk_cache.cc(184)] Unable to create cache\n",
      "[3812:2676:0319/160434.144:ERROR:shader_disk_cache.cc(606)] Shader Cache Creation failed: -2\n"
     ]
    },
    {
     "name": "stdout",
     "output_type": "stream",
     "text": [
      "Opening in existing browser session.\n"
     ]
    },
    {
     "name": "stderr",
     "output_type": "stream",
     "text": [
      "C:\\Program Files (x86)\\Google\\Chrome\\Application\\chrome.exe: invalid option -- `-u'\n",
      "Try 'chrome.exe --help' for more information.\n",
      "[0319/160435.708:ERROR:registration_protocol_win.cc(84)] TransactNamedPipe: The pipe has been ended. (0x6D)\n",
      "[200764:204472:0319/160436.021:ERROR:cache_util_win.cc(21)] Unable to move the cache: Access is denied. (0x5)\n",
      "[200764:204472:0319/160436.021:ERROR:cache_util.cc(135)] Unable to move cache folder C:\\Users\\577342\\AppData\\Local\\Google\\Chrome\\User Data\\ShaderCache\\GPUCache to C:\\Users\\577342\\AppData\\Local\\Google\\Chrome\\User Data\\ShaderCache\\old_GPUCache_000\n",
      "[200764:204472:0319/160436.021:ERROR:disk_cache.cc(184)] Unable to create cache\n",
      "[200764:204472:0319/160436.021:ERROR:shader_disk_cache.cc(606)] Shader Cache Creation failed: -2\n"
     ]
    },
    {
     "name": "stdout",
     "output_type": "stream",
     "text": [
      "Opening in existing browser session.\n"
     ]
    },
    {
     "name": "stderr",
     "output_type": "stream",
     "text": [
      "C:\\Program Files (x86)\\Google\\Chrome\\Application\\chrome.exe: invalid option -- `-u'\n",
      "Try 'chrome.exe --help' for more information.\n",
      "[0319/160437.722:ERROR:registration_protocol_win.cc(84)] TransactNamedPipe: The pipe has been ended. (0x6D)\n",
      "[416:189544:0319/160438.019:ERROR:cache_util_win.cc(21)] Unable to move the cache: Access is denied. (0x5)\n",
      "[416:189544:0319/160438.019:ERROR:cache_util.cc(135)] Unable to move cache folder C:\\Users\\577342\\AppData\\Local\\Google\\Chrome\\User Data\\ShaderCache\\GPUCache to C:\\Users\\577342\\AppData\\Local\\Google\\Chrome\\User Data\\ShaderCache\\old_GPUCache_000\n",
      "[416:189544:0319/160438.019:ERROR:disk_cache.cc(184)] Unable to create cache\n",
      "[416:189544:0319/160438.019:ERROR:shader_disk_cache.cc(606)] Shader Cache Creation failed: -2\n"
     ]
    },
    {
     "name": "stdout",
     "output_type": "stream",
     "text": [
      "Opening in existing browser session.\n"
     ]
    },
    {
     "name": "stderr",
     "output_type": "stream",
     "text": [
      "C:\\Program Files (x86)\\Google\\Chrome\\Application\\chrome.exe: invalid option -- `-u'\n",
      "Try 'chrome.exe --help' for more information.\n",
      "[0319/160439.590:ERROR:registration_protocol_win.cc(84)] TransactNamedPipe: The pipe has been ended. (0x6D)\n",
      "[199500:2940:0319/160439.869:ERROR:cache_util_win.cc(21)] Unable to move the cache: Access is denied. (0x5)\n",
      "[199500:2940:0319/160439.869:ERROR:cache_util.cc(135)] Unable to move cache folder C:\\Users\\577342\\AppData\\Local\\Google\\Chrome\\User Data\\ShaderCache\\GPUCache to C:\\Users\\577342\\AppData\\Local\\Google\\Chrome\\User Data\\ShaderCache\\old_GPUCache_000\n",
      "[199500:2940:0319/160439.869:ERROR:disk_cache.cc(184)] Unable to create cache\n",
      "[199500:2940:0319/160439.869:ERROR:shader_disk_cache.cc(606)] Shader Cache Creation failed: -2\n"
     ]
    },
    {
     "name": "stdout",
     "output_type": "stream",
     "text": [
      "Opening in existing browser session.\n"
     ]
    },
    {
     "name": "stderr",
     "output_type": "stream",
     "text": [
      "C:\\Program Files (x86)\\Google\\Chrome\\Application\\chrome.exe: invalid option -- `-u'\n",
      "Try 'chrome.exe --help' for more information.\n",
      "[0319/160441.583:ERROR:registration_protocol_win.cc(84)] TransactNamedPipe: The pipe has been ended. (0x6D)\n",
      "[202708:13164:0319/160441.933:ERROR:cache_util_win.cc(21)] Unable to move the cache: Access is denied. (0x5)\n",
      "[202708:13164:0319/160441.933:ERROR:cache_util.cc(135)] Unable to move cache folder C:\\Users\\577342\\AppData\\Local\\Google\\Chrome\\User Data\\ShaderCache\\GPUCache to C:\\Users\\577342\\AppData\\Local\\Google\\Chrome\\User Data\\ShaderCache\\old_GPUCache_000\n",
      "[202708:13164:0319/160441.933:ERROR:disk_cache.cc(184)] Unable to create cache\n",
      "[202708:13164:0319/160441.933:ERROR:shader_disk_cache.cc(606)] Shader Cache Creation failed: -2\n"
     ]
    },
    {
     "name": "stdout",
     "output_type": "stream",
     "text": [
      "Opening in existing browser session.\n"
     ]
    },
    {
     "name": "stderr",
     "output_type": "stream",
     "text": [
      "C:\\Program Files (x86)\\Google\\Chrome\\Application\\chrome.exe: invalid option -- `-u'\n",
      "Try 'chrome.exe --help' for more information.\n",
      "[0319/160443.982:ERROR:registration_protocol_win.cc(84)] TransactNamedPipe: The pipe has been ended. (0x6D)\n",
      "[200036:186784:0319/160444.381:ERROR:cache_util_win.cc(21)] Unable to move the cache: Access is denied. (0x5)\n",
      "[200036:186784:0319/160444.381:ERROR:cache_util.cc(135)] Unable to move cache folder C:\\Users\\577342\\AppData\\Local\\Google\\Chrome\\User Data\\ShaderCache\\GPUCache to C:\\Users\\577342\\AppData\\Local\\Google\\Chrome\\User Data\\ShaderCache\\old_GPUCache_000\n",
      "[200036:186784:0319/160444.381:ERROR:disk_cache.cc(184)] Unable to create cache\n",
      "[200036:186784:0319/160444.381:ERROR:shader_disk_cache.cc(606)] Shader Cache Creation failed: -2\n"
     ]
    },
    {
     "name": "stdout",
     "output_type": "stream",
     "text": [
      "Opening in existing browser session.\n"
     ]
    },
    {
     "name": "stderr",
     "output_type": "stream",
     "text": [
      "C:\\Program Files (x86)\\Google\\Chrome\\Application\\chrome.exe: invalid option -- `-u'\n",
      "Try 'chrome.exe --help' for more information.\n",
      "[0319/160446.236:ERROR:registration_protocol_win.cc(84)] TransactNamedPipe: The pipe has been ended. (0x6D)\n",
      "[186968:193016:0319/160446.567:ERROR:cache_util_win.cc(21)] Unable to move the cache: Access is denied. (0x5)\n",
      "[186968:193016:0319/160446.567:ERROR:cache_util.cc(135)] Unable to move cache folder C:\\Users\\577342\\AppData\\Local\\Google\\Chrome\\User Data\\ShaderCache\\GPUCache to C:\\Users\\577342\\AppData\\Local\\Google\\Chrome\\User Data\\ShaderCache\\old_GPUCache_000\n",
      "[186968:193016:0319/160446.567:ERROR:disk_cache.cc(184)] Unable to create cache\n",
      "[186968:193016:0319/160446.567:ERROR:shader_disk_cache.cc(606)] Shader Cache Creation failed: -2\n"
     ]
    },
    {
     "name": "stdout",
     "output_type": "stream",
     "text": [
      "Opening in existing browser session.\n"
     ]
    },
    {
     "name": "stderr",
     "output_type": "stream",
     "text": [
      "C:\\Program Files (x86)\\Google\\Chrome\\Application\\chrome.exe: invalid option -- `-u'\n",
      "Try 'chrome.exe --help' for more information.\n",
      "[0319/160448.452:ERROR:registration_protocol_win.cc(84)] TransactNamedPipe: The pipe has been ended. (0x6D)\n",
      "[4504:203952:0319/160448.759:ERROR:cache_util_win.cc(21)] Unable to move the cache: Access is denied. (0x5)\n",
      "[4504:203952:0319/160448.759:ERROR:cache_util.cc(135)] Unable to move cache folder C:\\Users\\577342\\AppData\\Local\\Google\\Chrome\\User Data\\ShaderCache\\GPUCache to C:\\Users\\577342\\AppData\\Local\\Google\\Chrome\\User Data\\ShaderCache\\old_GPUCache_000\n",
      "[4504:203952:0319/160448.759:ERROR:disk_cache.cc(184)] Unable to create cache\n",
      "[4504:203952:0319/160448.759:ERROR:shader_disk_cache.cc(606)] Shader Cache Creation failed: -2\n"
     ]
    },
    {
     "name": "stdout",
     "output_type": "stream",
     "text": [
      "Opening in existing browser session.\n"
     ]
    },
    {
     "name": "stderr",
     "output_type": "stream",
     "text": [
      "C:\\Program Files (x86)\\Google\\Chrome\\Application\\chrome.exe: invalid option -- `-u'\n",
      "Try 'chrome.exe --help' for more information.\n",
      "[0319/160450.693:ERROR:registration_protocol_win.cc(84)] TransactNamedPipe: The pipe has been ended. (0x6D)\n",
      "[190816:200952:0319/160451.007:ERROR:cache_util_win.cc(21)] Unable to move the cache: Access is denied. (0x5)\n",
      "[190816:200952:0319/160451.007:ERROR:cache_util.cc(135)] Unable to move cache folder C:\\Users\\577342\\AppData\\Local\\Google\\Chrome\\User Data\\ShaderCache\\GPUCache to C:\\Users\\577342\\AppData\\Local\\Google\\Chrome\\User Data\\ShaderCache\\old_GPUCache_000\n",
      "[190816:200952:0319/160451.007:ERROR:disk_cache.cc(184)] Unable to create cache\n",
      "[190816:200952:0319/160451.007:ERROR:shader_disk_cache.cc(606)] Shader Cache Creation failed: -2\n"
     ]
    }
   ],
   "source": [
    "\n",
    "for user_dict in twelve_list:\n",
    "    screen_name = user_dict['screen_name']\n",
    "    twitter_url = 'https://twitter.com/{}'.format(screen_name)\n",
    "    !\"C:\\Program Files (x86)\\Google\\Chrome\\Application\\chrome.exe\" {twitter_url}"
   ]
  },
  {
   "cell_type": "code",
   "execution_count": 8,
   "metadata": {},
   "outputs": [
    {
     "data": {
      "text/plain": [
       "{'short_id': '25396', 'id': 799645, 'communities': 12, 'degree': 687, 'degree_c': 0.41389728096676737, 'katz_c': 0.6809489551399306, 'screen_name': 'kenyatta', 'followers_count': 7459, 'friends_count': 3316, 'verified': False, 'statuses_count': 16429, 'created_at': 'Wed Feb 28 00:21:10 +0000 2007', 'description': 'aka @ea1co @knowyourmeme @urbanjustice @ellecheese @eyebeamnyc\\nA++++! Great communication, fast shipping! Would do business with again!'}"
      ]
     },
     "execution_count": 8,
     "metadata": {},
     "output_type": "execute_result"
    }
   ],
   "source": [
    "\n",
    "twelve_list[0]"
   ]
  }
 ],
 "metadata": {
  "kernelspec": {
   "display_name": "Python 3",
   "language": "python",
   "name": "python3"
  },
  "language_info": {
   "codemirror_mode": {
    "name": "ipython",
    "version": 3
   },
   "file_extension": ".py",
   "mimetype": "text/x-python",
   "name": "python",
   "nbconvert_exporter": "python",
   "pygments_lexer": "ipython3",
   "version": "3.7.6"
  }
 },
 "nbformat": 4,
 "nbformat_minor": 4
}
