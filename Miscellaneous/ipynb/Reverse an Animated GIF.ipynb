{
 "cells": [
  {
   "cell_type": "code",
   "execution_count": null,
   "metadata": {},
   "outputs": [],
   "source": [
    "\n",
    "from PIL import Image\n",
    "%pprint"
   ]
  },
  {
   "cell_type": "code",
   "execution_count": null,
   "metadata": {},
   "outputs": [],
   "source": [
    "\n",
    "[fn for fn in dir(Image) if 'open' in fn]"
   ]
  },
  {
   "cell_type": "code",
   "execution_count": null,
   "metadata": {},
   "outputs": [],
   "source": [
    "\n",
    "import sys\n",
    "\n",
    "!{sys.executable} -m pip install imageio-ffmpeg"
   ]
  },
  {
   "cell_type": "code",
   "execution_count": null,
   "metadata": {},
   "outputs": [],
   "source": [
    "\n",
    "import os\n",
    "import pylab\n",
    "import imageio\n",
    "\n",
    "mp4_dir = r'D:\\Documents\\Repositories\\notebooks\\Miscellaneous\\saves\\mp4'\n",
    "file_path = os.path.join(mp4_dir, 'Q2tbQEo.mp4')\n",
    "vid = imageio.get_reader(file_path, 'ffmpeg')"
   ]
  },
  {
   "cell_type": "code",
   "execution_count": null,
   "metadata": {},
   "outputs": [],
   "source": [
    "\n",
    "dir(vid)"
   ]
  },
  {
   "cell_type": "code",
   "execution_count": null,
   "metadata": {},
   "outputs": [],
   "source": [
    "\n",
    "import numpy as np\n",
    "\n",
    "meta_data_dict = vid.get_meta_data()\n",
    "image_count = vid.get_length()\n",
    "if image_count == np.inf:\n",
    "    image_count = int(meta_data_dict['fps'] * meta_data_dict['duration'])\n",
    "image_count"
   ]
  },
  {
   "cell_type": "code",
   "execution_count": null,
   "metadata": {},
   "outputs": [],
   "source": [
    "\n",
    "from IPython.display import Image\n",
    "\n",
    "images_list = []\n",
    "gif_dir = '../saves/gif'\n",
    "os.makedirs(name=gif_dir, exist_ok=True)\n",
    "for i in range(image_count-1, -1, -1):\n",
    "    mp4_img = vid.get_data(i)\n",
    "    images_list.append(mp4_img)\n",
    "file_path = os.path.join(gif_dir, 'Q2tbQEo.gif')\n",
    "imageio.mimsave(file_path, images_list)\n",
    "Image(file_path)"
   ]
  },
  {
   "cell_type": "code",
   "execution_count": null,
   "metadata": {},
   "outputs": [],
   "source": []
  }
 ],
 "metadata": {
  "kernelspec": {
   "display_name": "Python 3",
   "language": "python",
   "name": "python3"
  },
  "language_info": {
   "codemirror_mode": {
    "name": "ipython",
    "version": 3
   },
   "file_extension": ".py",
   "mimetype": "text/x-python",
   "name": "python",
   "nbconvert_exporter": "python",
   "pygments_lexer": "ipython3",
   "version": "3.7.3"
  }
 },
 "nbformat": 4,
 "nbformat_minor": 2
}
