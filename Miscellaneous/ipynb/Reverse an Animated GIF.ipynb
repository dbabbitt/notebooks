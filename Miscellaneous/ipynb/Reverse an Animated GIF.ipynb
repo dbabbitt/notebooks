{
 "cells": [
  {
   "cell_type": "code",
   "execution_count": 1,
   "metadata": {},
   "outputs": [
    {
     "name": "stdout",
     "output_type": "stream",
     "text": [
      "Pretty printing has been turned OFF\n",
      "C:\\Users\\dev\\Documents\\repositories\\notebooks\\Miscellaneous\\ipynb\\Reverse an Animated GIF.ipynb\n",
      "data_folder: ../data/\n",
      "saves_folder: ../saves/\n",
      "['attempt_to_pickle', 'data_csv_folder', 'data_folder', 'encoding_type', 'load_csv', 'load_dataframes', 'load_object', 'save_dataframes', 'saves_csv_folder', 'saves_folder', 'saves_pickle_folder', 'store_objects']\n"
     ]
    },
    {
     "data": {
      "text/plain": [
       "['Config', 'Image', 'In', 'Out', 'Storage', '_', '__', '___', '__builtin__', '__builtins__', '__doc__', '__loader__', '__name__', '__nonzero__', '__package__', '__spec__', '_dh', '_i', '_i1', '_ih', '_ii', '_iii', '_oh', 'csv', 'exit', 'get_ipython', 'get_module_version', 'get_notebook_path', 'gif_dir', 'imageio', 'ipykernel', 'json', 'jupyter_config_dir', 'mp4_dir', 'notebook_path', 'notebookapp', 'np', 'os', 'pd', 'pickle', 'pylab', 'quit', 's', 'sys', 'urllib']"
      ]
     },
     "execution_count": 1,
     "metadata": {},
     "output_type": "execute_result"
    }
   ],
   "source": [
    "\n",
    "%run ../../load_magic/storage.py\n",
    "%run ../../load_magic/environment.py\n",
    "%pprint\n",
    "notebook_path = get_notebook_path()\n",
    "print(notebook_path)\n",
    "from PIL import Image\n",
    "import sys\n",
    "import os\n",
    "import pylab\n",
    "import imageio\n",
    "import numpy as np\n",
    "from IPython.display import Image\n",
    "\n",
    "s = Storage()\n",
    "mp4_dir = os.path.join(s.saves_folder, 'mp4')\n",
    "gif_dir = os.path.join(s.saves_folder, 'gif')\n",
    "print([fn for fn in dir(s) if not fn.startswith('_')])\n",
    "dir()"
   ]
  },
  {
   "cell_type": "code",
   "execution_count": 2,
   "metadata": {},
   "outputs": [
    {
     "name": "stdout",
     "output_type": "stream",
     "text": [
      "Requirement already satisfied: imageio-ffmpeg in c:\\users\\dev\\anaconda3\\lib\\site-packages (0.3.0)\n"
     ]
    }
   ],
   "source": [
    "\n",
    "!{sys.executable} -m pip install imageio-ffmpeg"
   ]
  },
  {
   "cell_type": "code",
   "execution_count": 9,
   "metadata": {},
   "outputs": [],
   "source": [
    "\n",
    "file_path = os.path.join(mp4_dir, 'butter.mp4')\n",
    "vid = imageio.get_reader(file_path, 'ffmpeg')"
   ]
  },
  {
   "cell_type": "code",
   "execution_count": 10,
   "metadata": {},
   "outputs": [
    {
     "data": {
      "text/plain": [
       "504"
      ]
     },
     "execution_count": 10,
     "metadata": {},
     "output_type": "execute_result"
    }
   ],
   "source": [
    "\n",
    "meta_data_dict = vid.get_meta_data()\n",
    "image_count = vid.get_length()\n",
    "if image_count == np.inf:\n",
    "    image_count = int(meta_data_dict['fps'] * meta_data_dict['duration'])\n",
    "image_count"
   ]
  },
  {
   "cell_type": "code",
   "execution_count": null,
   "metadata": {},
   "outputs": [],
   "source": [
    "\n",
    "images_list = []\n",
    "os.makedirs(name=gif_dir, exist_ok=True)\n",
    "for i in range(image_count-1, -1, -1):\n",
    "    mp4_img = vid.get_data(i)\n",
    "    images_list.append(mp4_img)\n",
    "file_path = os.path.join(gif_dir, 'butter.gif')\n",
    "imageio.mimsave(file_path, images_list)\n",
    "Image(file_path)"
   ]
  },
  {
   "cell_type": "code",
   "execution_count": null,
   "metadata": {},
   "outputs": [],
   "source": []
  }
 ],
 "metadata": {
  "kernelspec": {
   "display_name": "Python 3",
   "language": "python",
   "name": "python3"
  },
  "language_info": {
   "codemirror_mode": {
    "name": "ipython",
    "version": 3
   },
   "file_extension": ".py",
   "mimetype": "text/x-python",
   "name": "python",
   "nbconvert_exporter": "python",
   "pygments_lexer": "ipython3",
   "version": "3.6.8"
  }
 },
 "nbformat": 4,
 "nbformat_minor": 2
}
