{
 "cells": [
  {
   "cell_type": "code",
   "execution_count": 4,
   "metadata": {},
   "outputs": [
    {
     "name": "stdout",
     "output_type": "stream",
     "text": [
      "C:\\Users\\dev\\AppData\\Roaming\\Microsoft\\Windows\\Recent\\SpaceTrader_normal_10_08_01_01.sav.lnk\n",
      "C:\\Users\\dev\\Downloads\\SpaceTrader201\\save\\SpaceTrader_normal_10_08_01_01.sav\n"
     ]
    }
   ],
   "source": [
    "\n",
    "import os\n",
    "\n",
    "ROOR_DIR = 'C:\\\\'\n",
    "for sub_dir, dirs_list, files_list in os.walk(ROOR_DIR):\n",
    "    for file_name in files_list:\n",
    "        if ('xxxqqqxxx' in file_name) or ('normal_10_08_01_01' in file_name):\n",
    "            file_path = os.path.join(sub_dir, file_name)\n",
    "            print(file_path)"
   ]
  },
  {
   "cell_type": "code",
   "execution_count": null,
   "metadata": {},
   "outputs": [],
   "source": []
  }
 ],
 "metadata": {
  "kernelspec": {
   "display_name": "Python 3",
   "language": "python",
   "name": "python3"
  },
  "language_info": {
   "codemirror_mode": {
    "name": "ipython",
    "version": 3
   },
   "file_extension": ".py",
   "mimetype": "text/x-python",
   "name": "python",
   "nbconvert_exporter": "python",
   "pygments_lexer": "ipython3",
   "version": "3.6.8"
  }
 },
 "nbformat": 4,
 "nbformat_minor": 2
}
