{
 "cells": [
  {
   "cell_type": "code",
   "execution_count": 1,
   "metadata": {},
   "outputs": [
    {
     "name": "stdout",
     "output_type": "stream",
     "text": [
      "Requirement already satisfied: youtube_dl in c:\\programdata\\anaconda3\\lib\\site-packages\n"
     ]
    }
   ],
   "source": [
    "\n",
    "# Install a pip package in the current Jupyter kernel\n",
    "import sys\n",
    "\n",
    "!{sys.executable} -m pip install youtube_dl"   ]
  },
  {
   "cell_type": "code",
   "execution_count": 2,
   "metadata": {},
   "outputs": [
    {
     "name": "stdout",
     "output_type": "stream",
     "text": [
      "Requirement already satisfied: ffprobe in c:\\programdata\\anaconda3\\lib\\site-packages\n"
     ]
    }
   ],
   "source": [
    "\n",
    "# Install a pip package in the current Jupyter kernel\n",
    "import sys\n",
    "\n",
    "!{sys.executable} -m pip install ffprobe"   ]
  },
  {
   "cell_type": "code",
   "execution_count": 3,
   "metadata": {},
   "outputs": [
    {
     "name": "stderr",
     "output_type": "stream",
     "text": [
      "ffmpeg version N-90140-ga246701e9a Copyright (c) 2000-2018 the FFmpeg developers\n",
      "  built with gcc 7.3.0 (GCC)\n",
      "  configuration: --enable-gpl --enable-version3 --enable-sdl2 --enable-bzlib --enable-fontconfig --enable-gnutls --enable-iconv --enable-libass --enable-libbluray --enable-libfreetype --enable-libmp3lame --enable-libopencore-amrnb --enable-libopencore-amrwb --enable-libopenjpeg --enable-libopus --enable-libshine --enable-libsnappy --enable-libsoxr --enable-libtheora --enable-libtwolame --enable-libvpx --enable-libwavpack --enable-libwebp --enable-libx264 --enable-libx265 --enable-libxml2 --enable-libzimg --enable-lzma --enable-zlib --enable-gmp --enable-libvidstab --enable-libvorbis --enable-libvo-amrwbenc --enable-libmysofa --enable-libspeex --enable-libxvid --enable-libmfx --enable-amf --enable-cuda --enable-cuvid --enable-d3d11va --enable-nvenc --enable-dxva2 --enable-avisynth\n",
      "  libavutil      56.  7.101 / 56.  7.101\n",
      "  libavcodec     58. 12.102 / 58. 12.102\n",
      "  libavformat    58.  9.100 / 58.  9.100\n",
      "  libavdevice    58.  2.100 / 58.  2.100\n",
      "  libavfilter     7. 12.100 /  7. 12.100\n",
      "  libswscale      5.  0.101 /  5.  0.101\n",
      "  libswresample   3.  0.101 /  3.  0.101\n",
      "  libpostproc    55.  0.100 / 55.  0.100\n",
      "Hyper fast Audio and Video encoder\n",
      "usage: ffmpeg [options] [[infile options] -i infile]... {[outfile options] outfile}...\n",
      "\n",
      "Use -h to get full help or, even better, run 'man ffmpeg'\n"
     ]
    }
   ],
   "source": [
    "\n",
    "!ffmpeg"
   ]
  },
  {
   "cell_type": "code",
   "execution_count": 1,
   "metadata": {
    "scrolled": false
   },
   "outputs": [
    {
     "name": "stdout",
     "output_type": "stream",
     "text": [
      "[youtube] Nyw4rTywyY0: Downloading webpage\n",
      "[youtube] Nyw4rTywyY0: Downloading video info webpage\n",
      "[youtube] Nyw4rTywyY0: Extracting video information\n",
      "[download] Destination: C:\\Users\\577342\\Downloads\\2017_06_15 - 12 principles for a 21st century conservatism-Nyw4rTywyY0.m4a\n",
      "[download] 100% of 110.73MiB in 00:13                          \n",
      "[ffmpeg] Correcting container in \"C:\\Users\\577342\\Downloads\\2017_06_15 - 12 principles for a 21st century conservatism-Nyw4rTywyY0.m4a\"\n",
      "[ffmpeg] Destination: C:\\Users\\577342\\Downloads\\2017_06_15 - 12 principles for a 21st century conservatism-Nyw4rTywyY0.mp3\n",
      "Deleting original file C:\\Users\\577342\\Downloads\\2017_06_15 - 12 principles for a 21st century conservatism-Nyw4rTywyY0.m4a (pass -k to keep)\n"
     ]
    }
   ],
   "source": [
    "\n",
    "import youtube_dl\n",
    "\n",
    "ydl_opts = {\n",
    "    'format': 'bestaudio/best',\n",
    "    'nocheckcertificate': False,\n",
    "    'outtmpl': 'C:\\\\Users\\\\577342\\\\Downloads\\\\'+youtube_dl.DEFAULT_OUTTMPL,\n",
    "    'postprocessors': [{'key': 'FFmpegExtractAudio',\n",
    "                       'preferredcodec': 'mp3',\n",
    "                       'preferredquality': '192'}],\n",
    "    'verbose': False,\n",
    "    }\n",
    "with youtube_dl.YoutubeDL(ydl_opts) as ydl:\n",
    "    result = ydl.download(['https://www.youtube.com/watch?v=Nyw4rTywyY0'])"
   ]
  },
  {
   "cell_type": "code",
   "execution_count": null,
   "metadata": {
    "collapsed": true
   },
   "outputs": [],
   "source": []
  }
 ],
 "metadata": {
  "anaconda-cloud": {},
  "kernelspec": {
   "display_name": "Python 3",
   "language": "python",
   "name": "python3"
  },
  "language_info": {
   "codemirror_mode": {
    "name": "ipython",
    "version": 3
   },
   "file_extension": ".py",
   "mimetype": "text/x-python",
   "name": "python",
   "nbconvert_exporter": "python",
   "pygments_lexer": "ipython3",
   "version": "3.6.3"
  }
 },
 "nbformat": 4,
 "nbformat_minor": 2
}
