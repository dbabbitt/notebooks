{
 "cells": [
  {
   "cell_type": "code",
   "execution_count": 1,
   "metadata": {},
   "outputs": [
    {
     "name": "stdout",
     "output_type": "stream",
     "text": [
      "Requirement already satisfied: youtube_dl in c:\\programdata\\anaconda3\\lib\\site-packages\n"
     ]
    }
   ],
   "source": [
    "\n",
    "!pip install youtube_dl"
   ]
  },
  {
   "cell_type": "code",
   "execution_count": 2,
   "metadata": {},
   "outputs": [
    {
     "name": "stdout",
     "output_type": "stream",
     "text": [
      "Requirement already satisfied: ffprobe in c:\\programdata\\anaconda3\\lib\\site-packages\n"
     ]
    }
   ],
   "source": [
    "\n",
    "!pip install ffprobe"
   ]
  },
  {
   "cell_type": "code",
   "execution_count": 3,
   "metadata": {},
   "outputs": [
    {
     "name": "stderr",
     "output_type": "stream",
     "text": [
      "ffmpeg version N-90140-ga246701e9a Copyright (c) 2000-2018 the FFmpeg developers\n",
      "  built with gcc 7.3.0 (GCC)\n",
      "  configuration: --enable-gpl --enable-version3 --enable-sdl2 --enable-bzlib --enable-fontconfig --enable-gnutls --enable-iconv --enable-libass --enable-libbluray --enable-libfreetype --enable-libmp3lame --enable-libopencore-amrnb --enable-libopencore-amrwb --enable-libopenjpeg --enable-libopus --enable-libshine --enable-libsnappy --enable-libsoxr --enable-libtheora --enable-libtwolame --enable-libvpx --enable-libwavpack --enable-libwebp --enable-libx264 --enable-libx265 --enable-libxml2 --enable-libzimg --enable-lzma --enable-zlib --enable-gmp --enable-libvidstab --enable-libvorbis --enable-libvo-amrwbenc --enable-libmysofa --enable-libspeex --enable-libxvid --enable-libmfx --enable-amf --enable-cuda --enable-cuvid --enable-d3d11va --enable-nvenc --enable-dxva2 --enable-avisynth\n",
      "  libavutil      56.  7.101 / 56.  7.101\n",
      "  libavcodec     58. 12.102 / 58. 12.102\n",
      "  libavformat    58.  9.100 / 58.  9.100\n",
      "  libavdevice    58.  2.100 / 58.  2.100\n",
      "  libavfilter     7. 12.100 /  7. 12.100\n",
      "  libswscale      5.  0.101 /  5.  0.101\n",
      "  libswresample   3.  0.101 /  3.  0.101\n",
      "  libpostproc    55.  0.100 / 55.  0.100\n",
      "Hyper fast Audio and Video encoder\n",
      "usage: ffmpeg [options] [[infile options] -i infile]... {[outfile options] outfile}...\n",
      "\n",
      "Use -h to get full help or, even better, run 'man ffmpeg'\n"
     ]
    }
   ],
   "source": [
    "\n",
    "!ffmpeg"
   ]
  },
  {
   "cell_type": "code",
   "execution_count": 27,
   "metadata": {
    "scrolled": false
   },
   "outputs": [
    {
     "name": "stderr",
     "output_type": "stream",
     "text": [
      "[debug] Encodings: locale cp1252, fs utf-8, out UTF-8, pref cp1252\n",
      "[debug] youtube-dl version 2018.02.22\n",
      "[debug] Python version 3.6.3 (CPython) - Windows-10-10.0.14393-SP0\n",
      "[debug] exe versions: ffmpeg N-90140-ga246701e9a, ffprobe N-90140-ga246701e9a\n",
      "[debug] Proxy map: {}\n"
     ]
    },
    {
     "name": "stdout",
     "output_type": "stream",
     "text": [
      "[youtube] rBEaRJhLUWo: Downloading webpage\n",
      "[youtube] rBEaRJhLUWo: Downloading video info webpage\n",
      "[youtube] rBEaRJhLUWo: Extracting video information\n",
      "[debug] Invoking downloader on 'https://r1---sn-p5qlsnsk.googlevideo.com/videoplayback?expire=1519354999&pcm2=no&gir=yes&fvip=1&requiressl=yes&pl=17&keepalive=yes&ipbits=0&key=yt6&itag=140&mime=audio%2Fmp4&signature=90FD230BFBD13E772FC08617F136C2AB6FB3B9A8.87E44A734B3380EFE0F7F3264A9B0FBE43F29DF5&lmt=1518911863645677&c=WEB&usequic=no&mn=sn-p5qlsnsk%2Csn-vgqs7ns7&mm=31%2C26&source=youtube&ms=au%2Conr&clen=5087681&mt=1519333268&dur=320.272&ei=FzCPWpuzLI7G4QSElLHADg&ip=66.189.115.65&initcwndbps=1525000&sparams=clen%2Cdur%2Cei%2Cgir%2Cid%2Cinitcwndbps%2Cip%2Cipbits%2Citag%2Ckeepalive%2Clmt%2Cmime%2Cmm%2Cmn%2Cms%2Cmv%2Cpcm2%2Cpl%2Crequiressl%2Csource%2Cusequic%2Cexpire&id=o-AHhvFVVk6-LCY_QSfNcEqwcqviTa_2-OuzpZojoWp0Rx&mv=m&ratebypass=yes'\n",
      "[download] Destination: C:\\Users\\577342\\Downloads\\Sam Harris questions Jordan Peterson's fixation on Christianity-rBEaRJhLUWo.m4a\n",
      "[download] 100% of 4.85MiB in 00:01                  \n",
      "[ffmpeg] Correcting container in \"C:\\Users\\577342\\Downloads\\Sam Harris questions Jordan Peterson's fixation on Christianity-rBEaRJhLUWo.m4a\"\n",
      "[debug] ffmpeg command line: ffmpeg -y -i \"file:C:\\Users\\577342\\Downloads\\Sam Harris questions Jordan Peterson's fixation on Christianity-rBEaRJhLUWo.m4a\" -c copy -f mp4 \"file:C:\\Users\\577342\\Downloads\\Sam Harris questions Jordan Peterson's fixation on Christianity-rBEaRJhLUWo.temp.m4a\"\n",
      "[debug] ffmpeg command line: ffprobe -show_streams \"file:C:\\Users\\577342\\Downloads\\Sam Harris questions Jordan Peterson's fixation on Christianity-rBEaRJhLUWo.m4a\"\n",
      "[ffmpeg] Destination: C:\\Users\\577342\\Downloads\\Sam Harris questions Jordan Peterson's fixation on Christianity-rBEaRJhLUWo.mp3\n",
      "[debug] ffmpeg command line: ffmpeg -y -i \"file:C:\\Users\\577342\\Downloads\\Sam Harris questions Jordan Peterson's fixation on Christianity-rBEaRJhLUWo.m4a\" -vn -acodec libmp3lame \"-b:a\" 192k \"file:C:\\Users\\577342\\Downloads\\Sam Harris questions Jordan Peterson's fixation on Christianity-rBEaRJhLUWo.mp3\"\n",
      "Deleting original file C:\\Users\\577342\\Downloads\\Sam Harris questions Jordan Peterson's fixation on Christianity-rBEaRJhLUWo.m4a (pass -k to keep)\n"
     ]
    }
   ],
   "source": [
    "\n",
    "import youtube_dl\n",
    "\n",
    "\n",
    "ydl_opts = {\n",
    "    'verbose': False,\n",
    "    'outtmpl': 'C:\\\\Users\\\\577342\\\\Downloads\\\\'+youtube_dl.DEFAULT_OUTTMPL,\n",
    "    'format': 'bestaudio/best',\n",
    "    'postprocessors': [{\n",
    "        'key': 'FFmpegExtractAudio',\n",
    "        'preferredcodec': 'mp3',\n",
    "        'preferredquality': '192',\n",
    "    }],\n",
    "}\n",
    "with youtube_dl.YoutubeDL(ydl_opts) as ydl:\n",
    "    result = ydl.download(['https://www.youtube.com/watch?v=rBEaRJhLUWo'])"
   ]
  },
  {
   "cell_type": "code",
   "execution_count": 24,
   "metadata": {},
   "outputs": [
    {
     "name": "stdout",
     "output_type": "stream",
     "text": [
      "Pretty printing has been turned OFF\n"
     ]
    }
   ],
   "source": [
    "\n",
    "%pprint\n",
    "\n",
    "ydl?"
   ]
  },
  {
   "cell_type": "code",
   "execution_count": 26,
   "metadata": {},
   "outputs": [
    {
     "data": {
      "text/plain": [
       "{'nocheckcertificate': False, 'verbose': True, 'format': 'bestaudio/best', 'postprocessors': [{'key': 'FFmpegExtractAudio', 'preferredcodec': 'mp3', 'preferredquality': '192'}]}"
      ]
     },
     "execution_count": 26,
     "metadata": {},
     "output_type": "execute_result"
    }
   ],
   "source": [
    "\n",
    "ydl.params"
   ]
  },
  {
   "cell_type": "code",
   "execution_count": null,
   "metadata": {
    "collapsed": true
   },
   "outputs": [],
   "source": []
  }
 ],
 "metadata": {
  "anaconda-cloud": {},
  "kernelspec": {
   "display_name": "Python 3",
   "language": "python",
   "name": "python3"
  },
  "language_info": {
   "codemirror_mode": {
    "name": "ipython",
    "version": 3
   },
   "file_extension": ".py",
   "mimetype": "text/x-python",
   "name": "python",
   "nbconvert_exporter": "python",
   "pygments_lexer": "ipython3",
   "version": "3.6.3"
  }
 },
 "nbformat": 4,
 "nbformat_minor": 2
}
