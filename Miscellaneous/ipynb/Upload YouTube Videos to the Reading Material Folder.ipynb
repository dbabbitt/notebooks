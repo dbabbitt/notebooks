{
 "cells": [
  {
   "cell_type": "code",
   "execution_count": 1,
   "metadata": {},
   "outputs": [
    {
     "name": "stdout",
     "output_type": "stream",
     "text": [
      "Collecting praw\n",
      "  Downloading praw-5.3.0-py2.py3-none-any.whl (88kB)\n",
      "Collecting update-checker>=0.16 (from praw)\n",
      "  Downloading update_checker-0.16-py2.py3-none-any.whl\n",
      "Collecting prawcore<0.14,>=0.13.0 (from praw)\n",
      "  Downloading prawcore-0.13.0-py2.py3-none-any.whl\n",
      "Requirement already satisfied: requests>=2.3.0 in c:\\users\\dev\\anaconda3\\lib\\site-packages (from update-checker>=0.16->praw)\n",
      "Requirement already satisfied: chardet<3.1.0,>=3.0.2 in c:\\users\\dev\\anaconda3\\lib\\site-packages (from requests>=2.3.0->update-checker>=0.16->praw)\n",
      "Requirement already satisfied: idna<2.7,>=2.5 in c:\\users\\dev\\anaconda3\\lib\\site-packages (from requests>=2.3.0->update-checker>=0.16->praw)\n",
      "Requirement already satisfied: urllib3<1.23,>=1.21.1 in c:\\users\\dev\\anaconda3\\lib\\site-packages (from requests>=2.3.0->update-checker>=0.16->praw)\n",
      "Requirement already satisfied: certifi>=2017.4.17 in c:\\users\\dev\\anaconda3\\lib\\site-packages (from requests>=2.3.0->update-checker>=0.16->praw)\n",
      "Installing collected packages: update-checker, prawcore, praw\n",
      "Successfully installed praw-5.3.0 prawcore-0.13.0 update-checker-0.16\n"
     ]
    }
   ],
   "source": [
    "\n",
    "!pip install praw"
   ]
  },
  {
   "cell_type": "code",
   "execution_count": 1,
   "metadata": {
    "collapsed": true
   },
   "outputs": [],
   "source": [
    "\n",
    "reddit_oauth_scope_dict = {\n",
    "    'creddits': {'description': 'Spend my reddit gold creddits on giving gold to other users.',\n",
    "                 'id': 'creddits',\n",
    "                 'name': 'Spend reddit gold creddits'},\n",
    "    'modcontributors': {'description': 'Add/remove users to approved submitter lists and ban/unban or mute/unmute users from subreddits I moderate.',\n",
    "                        'id': 'modcontributors',\n",
    "                        'name': 'Approve submitters and ban users'},\n",
    "    'modmail': {'description': 'Access and manage modmail via mod.reddit.com.',\n",
    "                'id': 'modmail', 'name': 'New Modmail'},\n",
    "    'modconfig': {'description': 'Manage the configuration, sidebar, and CSS of subreddits I moderate.',\n",
    "                  'id': 'modconfig',\n",
    "                  'name': 'Moderate Subreddit Configuration'},\n",
    "    'subscribe': {'description': 'Manage my subreddit subscriptions. Manage \"friends\" - users whose content I follow.',\n",
    "                  'id': 'subscribe', 'name': 'Edit My Subscriptions'},\n",
    "    'structuredstyles': {'description': 'Edit structured styles for a subreddit I moderate.',\n",
    "                         'id': 'structuredstyles',\n",
    "                         'name': 'Edit structured styles'},\n",
    "    'vote': {'description': 'Submit and change my votes on comments and submissions.',\n",
    "             'id': 'vote', 'name': 'Vote'},\n",
    "    'wikiedit': {'description': 'Edit wiki pages on my behalf',\n",
    "                 'id': 'wiki', 'name': 'Wiki Editing'},\n",
    "    'mysubreddits': {'description': 'Access the list of subreddits I moderate, contribute to, and subscribe to.',\n",
    "                     'id': 'mysubreddits', 'name': 'My Subreddits'},\n",
    "    'submit': {'description': 'Submit links and comments from my account.',\n",
    "               'id': 'submit', 'name': 'Submit Content'},\n",
    "    'modlog': {'description': 'Access the moderation log in subreddits I moderate.',\n",
    "               'id': 'modlog', 'name': 'Moderation Log'},\n",
    "    'modposts': {'description': 'Approve, remove, mark nsfw, and distinguish content in subreddits I moderate.',\n",
    "                 'id': 'modposts', 'name': 'Moderate Posts'},\n",
    "    'modflair': {'description': 'Manage and assign flair in subreddits I moderate.',\n",
    "                 'id': 'modflair', 'name': 'Moderate Flair'},\n",
    "    'save': {'description': 'Save and unsave comments and submissions.',\n",
    "             'id': 'save', 'name': 'Save Content'},\n",
    "    'modothers': {'description': 'Invite or remove other moderators from subreddits I moderate.',\n",
    "                  'id': 'modothers',\n",
    "                  'name': 'Invite or remove other moderators'},\n",
    "    'read': {'description': 'Access posts and comments through my account.',\n",
    "             'id': 'read', 'name': 'Read Content'},\n",
    "    'privatemessages': {'description': 'Access my inbox and send private messages to other users.',\n",
    "                        'id': 'privatemessages',\n",
    "                        'name': 'Private Messages'},\n",
    "    'report': {'description': 'Report content for rules violations. Hide & show individual submissions.',\n",
    "               'id': 'report', 'name': 'Report content'},\n",
    "    'identity': {'description': 'Access my reddit username and signup date.',\n",
    "                 'id': 'identity', 'name': 'My Identity'},\n",
    "    'livemanage': {'description': 'Manage settings and contributors of live threads I contribute to.',\n",
    "                   'id': 'livemanage', 'name': 'Manage live threads'},\n",
    "    'account': {'description': 'Update preferences and related account information. Will not have access to your email or password.',\n",
    "                'id': 'account', 'name': 'Update account information'},\n",
    "    'modtraffic': {'description': 'Access traffic stats in subreddits I moderate.',\n",
    "                   'id': 'modtraffic', 'name': 'Subreddit Traffic'},\n",
    "    'wikiread': {'description': 'Read wiki pages through my account',\n",
    "                 'id': 'wikiread', 'name': 'Read Wiki Pages'},\n",
    "    'edit': {'description': 'Edit and delete my comments and submissions.',\n",
    "             'id': 'edit', 'name': 'Edit Posts'},\n",
    "    'modwiki': {'description': 'Change editors and visibility of wiki pages in subreddits I moderate.',\n",
    "                'id': 'modwiki', 'name': 'Moderate Wiki'},\n",
    "    'modself': {'description': 'Accept invitations to moderate a subreddit. Remove myself as a moderator or contributor of subreddits I moderate or contribute to.',\n",
    "                'id': 'modself',\n",
    "                'name': 'Make changes to your subreddit moderator and contributor status'},\n",
    "    'history': {'description': \"Access my voting history and comments or submissions I've saved or hidden.\",\n",
    "                'id': 'history', 'name': 'History'},\n",
    "    'flair': {'description': 'Select my subreddit flair. Change link flair on my submissions.',\n",
    "              'id': 'flair', 'name': 'Manage My Flair'},\n",
    "    }"
   ]
  },
  {
   "cell_type": "code",
   "execution_count": 2,
   "metadata": {
    "collapsed": true
   },
   "outputs": [],
   "source": [
    "\n",
    "from oauth2client.client import OAuth2WebServerFlow\n",
    "\n",
    "OAuth2WebServerFlow?"
   ]
  },
  {
   "cell_type": "code",
   "execution_count": null,
   "metadata": {},
   "outputs": [
    {
     "name": "stdout",
     "output_type": "stream",
     "text": [
      "Your browser has been opened to visit:\n",
      "\n",
      "    https://www.reddit.com/api/v1/authorize?client_id=Akg1f6QYE3XONw&redirect_uri=http%3A%2F%2Flocalhost%3A8080%2F&scope=read&access_type=offline&response_type=code\n",
      "\n"
     ]
    }
   ],
   "source": [
    "\n",
    "from pydrive.auth import GoogleAuth\n",
    "\n",
    "# Was:\n",
    "# https://www.reddit.com/api/v1/authorize?\n",
    "# client_id=Akg1f6QYE3XONw&\n",
    "# redirect_uri=http%3A%2F%2Flocalhost%3A8080%2F&\n",
    "# scope=read&\n",
    "# access_type=offline&\n",
    "# response_type=code\n",
    "\n",
    "# Should be:\n",
    "# https://www.reddit.com/api/v1/authorize?\n",
    "# client_id=Akg1f6QYE3XONw&\n",
    "# response_type=code&\n",
    "# state=anything&\n",
    "# redirect_uri=http%3A%2F%2Flocalhost%3A8080%2F&&\n",
    "# duration=10&\n",
    "# scope=read\n",
    "  CLIENT_CONFIGS_LIST = ['client_id', 'client_secret', 'auth_uri',\n",
    "                         'token_uri', 'revoke_uri', 'redirect_uri']\n",
    "GoogleAuth.DEFAULT_SETTINGS['client_config_file'] = r'../json/reddit_web_app_client_secrets.json'\n",
    "GoogleAuth.DEFAULT_SETTINGS['oauth_scope'] = r'read'\n",
    "rauth = GoogleAuth()\n",
    "rauth.LocalWebserverAuth()"
   ]
  },
  {
   "cell_type": "code",
   "execution_count": null,
   "metadata": {},
   "outputs": [],
   "source": [
    "import requests\n",
    "import requests.auth\n",
    "\n",
    "client_id = r'bkoo0zu4n35tDA'\n",
    "client_secret = r'64qNJjsSKKxYfsMy--Gvn0M06B0'\n",
    "client_auth = requests.auth.HTTPBasicAuth(client_id, client_secret)\n",
    "\n",
    "username = 'dbabbitt'\n",
    "password = 'Genesis11'\n",
    "post_data = {'grant_type': 'password', 'username': username, 'password': password}\n",
    "\n",
    "user_agent = 'win10:org.babbitt.dbabbitt_scraper_script:v0.0.1 (by /u/dbabbitt)'\n",
    "headers = {'User-Agent': user_agent}\n",
    "redirect_authorization_url = 'https://www.reddit.com/api/v1/authorize'\n",
    "response = requests.post(redirect_authorization_url, auth=client_auth, data=post_data, headers=headers)\n",
    "\n",
    "response.json()"
   ]
  },
  {
   "cell_type": "code",
   "execution_count": 39,
   "metadata": {},
   "outputs": [
    {
     "data": {
      "text/plain": [
       "{'error': 'invalid_grant'}"
      ]
     },
     "execution_count": 39,
     "metadata": {},
     "output_type": "execute_result"
    }
   ],
   "source": [
    "import requests\n",
    "import requests.auth\n",
    "\n",
    "client_id = r'bkoo0zu4n35tDA'\n",
    "client_secret = r'64qNJjsSKKxYfsMy--Gvn0M06B0'\n",
    "client_auth = requests.auth.HTTPBasicAuth(client_id, client_secret)\n",
    "\n",
    "username = 'dbabbitt'\n",
    "password = 'Genesis11'\n",
    "post_data = {'grant_type': 'password', 'username': username, 'password': password}\n",
    "\n",
    "user_agent = 'win10:org.babbitt.dbabbitt_scraper_script:v0.0.1 (by /u/dbabbitt)'\n",
    "headers = {'User-Agent': user_agent}\n",
    "authorization_url = 'https://www.reddit.com/api/v1/access_token'\n",
    "response = requests.post(authorization_url, auth=client_auth, data=post_data, headers=headers)\n",
    "\n",
    "response.json()"
   ]
  },
  {
   "cell_type": "code",
   "execution_count": 17,
   "metadata": {
    "collapsed": true
   },
   "outputs": [],
   "source": [
    "\n",
    "import praw\n",
    "\n",
    "reddit = praw.Reddit(client_id=client_id, client_secret=client_secret,\n",
    "                     password=password, user_agent=user_agent,\n",
    "                     username=username)"
   ]
  },
  {
   "cell_type": "code",
   "execution_count": 19,
   "metadata": {},
   "outputs": [
    {
     "name": "stdout",
     "output_type": "stream",
     "text": [
      "Pretty printing has been turned OFF\n"
     ]
    },
    {
     "data": {
      "text/plain": [
       "['__class__', '__delattr__', '__dict__', '__dir__', '__doc__', '__enter__', '__eq__', '__exit__', '__format__', '__ge__', '__getattribute__', '__gt__', '__hash__', '__init__', '__init_subclass__', '__le__', '__lt__', '__module__', '__ne__', '__new__', '__reduce__', '__reduce_ex__', '__repr__', '__setattr__', '__sizeof__', '__str__', '__subclasshook__', '__weakref__', '_authorized_core', '_check_for_update', '_core', '_next_unique', '_objector', '_prepare_objector', '_prepare_prawcore', '_prepare_trusted_prawcore', '_prepare_untrusted_prawcore', '_read_only_core', '_unique_counter', 'auth', 'comment', 'config', 'domain', 'front', 'get', 'inbox', 'info', 'live', 'multireddit', 'post', 'random_subreddit', 'read_only', 'redditor', 'request', 'submission', 'subreddit', 'subreddits', 'update_checked', 'user']"
      ]
     },
     "execution_count": 19,
     "metadata": {},
     "output_type": "execute_result"
    }
   ],
   "source": [
    "%pprint\n",
    "\n",
    "dir(reddit)"
   ]
  },
  {
   "cell_type": "code",
   "execution_count": 38,
   "metadata": {},
   "outputs": [
    {
     "ename": "OAuthException",
     "evalue": "invalid_grant error processing request",
     "output_type": "error",
     "traceback": [
      "\u001b[1;31m---------------------------------------------------------------------------\u001b[0m",
      "\u001b[1;31mOAuthException\u001b[0m                            Traceback (most recent call last)",
      "\u001b[1;32m<ipython-input-38-8e823cb4f6a4>\u001b[0m in \u001b[0;36m<module>\u001b[1;34m()\u001b[0m\n\u001b[0;32m      1\u001b[0m \u001b[1;33m\u001b[0m\u001b[0m\n\u001b[1;32m----> 2\u001b[1;33m \u001b[1;32mfor\u001b[0m \u001b[0msubmission\u001b[0m \u001b[1;32min\u001b[0m \u001b[0mreddit\u001b[0m\u001b[1;33m.\u001b[0m\u001b[0msubreddit\u001b[0m\u001b[1;33m(\u001b[0m\u001b[1;34m'learnpython'\u001b[0m\u001b[1;33m)\u001b[0m\u001b[1;33m.\u001b[0m\u001b[0mhot\u001b[0m\u001b[1;33m(\u001b[0m\u001b[0mlimit\u001b[0m\u001b[1;33m=\u001b[0m\u001b[1;36m10\u001b[0m\u001b[1;33m)\u001b[0m\u001b[1;33m:\u001b[0m\u001b[1;33m\u001b[0m\u001b[0m\n\u001b[0m\u001b[0;32m      3\u001b[0m     \u001b[0mprint\u001b[0m\u001b[1;33m(\u001b[0m\u001b[0msubmission\u001b[0m\u001b[1;33m.\u001b[0m\u001b[0mtitle\u001b[0m\u001b[1;33m)\u001b[0m\u001b[1;33m\u001b[0m\u001b[0m\n",
      "\u001b[1;32mC:\\ProgramData\\Anaconda3\\lib\\site-packages\\praw\\models\\listing\\generator.py\u001b[0m in \u001b[0;36m__next__\u001b[1;34m(self)\u001b[0m\n\u001b[0;32m     50\u001b[0m \u001b[1;33m\u001b[0m\u001b[0m\n\u001b[0;32m     51\u001b[0m         \u001b[1;32mif\u001b[0m \u001b[0mself\u001b[0m\u001b[1;33m.\u001b[0m\u001b[0m_listing\u001b[0m \u001b[1;32mis\u001b[0m \u001b[1;32mNone\u001b[0m \u001b[1;32mor\u001b[0m \u001b[0mself\u001b[0m\u001b[1;33m.\u001b[0m\u001b[0m_list_index\u001b[0m \u001b[1;33m>=\u001b[0m \u001b[0mlen\u001b[0m\u001b[1;33m(\u001b[0m\u001b[0mself\u001b[0m\u001b[1;33m.\u001b[0m\u001b[0m_listing\u001b[0m\u001b[1;33m)\u001b[0m\u001b[1;33m:\u001b[0m\u001b[1;33m\u001b[0m\u001b[0m\n\u001b[1;32m---> 52\u001b[1;33m             \u001b[0mself\u001b[0m\u001b[1;33m.\u001b[0m\u001b[0m_next_batch\u001b[0m\u001b[1;33m(\u001b[0m\u001b[1;33m)\u001b[0m\u001b[1;33m\u001b[0m\u001b[0m\n\u001b[0m\u001b[0;32m     53\u001b[0m \u001b[1;33m\u001b[0m\u001b[0m\n\u001b[0;32m     54\u001b[0m         \u001b[0mself\u001b[0m\u001b[1;33m.\u001b[0m\u001b[0m_list_index\u001b[0m \u001b[1;33m+=\u001b[0m \u001b[1;36m1\u001b[0m\u001b[1;33m\u001b[0m\u001b[0m\n",
      "\u001b[1;32mC:\\ProgramData\\Anaconda3\\lib\\site-packages\\praw\\models\\listing\\generator.py\u001b[0m in \u001b[0;36m_next_batch\u001b[1;34m(self)\u001b[0m\n\u001b[0;32m     60\u001b[0m             \u001b[1;32mraise\u001b[0m \u001b[0mStopIteration\u001b[0m\u001b[1;33m(\u001b[0m\u001b[1;33m)\u001b[0m\u001b[1;33m\u001b[0m\u001b[0m\n\u001b[0;32m     61\u001b[0m \u001b[1;33m\u001b[0m\u001b[0m\n\u001b[1;32m---> 62\u001b[1;33m         \u001b[0mself\u001b[0m\u001b[1;33m.\u001b[0m\u001b[0m_listing\u001b[0m \u001b[1;33m=\u001b[0m \u001b[0mself\u001b[0m\u001b[1;33m.\u001b[0m\u001b[0m_reddit\u001b[0m\u001b[1;33m.\u001b[0m\u001b[0mget\u001b[0m\u001b[1;33m(\u001b[0m\u001b[0mself\u001b[0m\u001b[1;33m.\u001b[0m\u001b[0murl\u001b[0m\u001b[1;33m,\u001b[0m \u001b[0mparams\u001b[0m\u001b[1;33m=\u001b[0m\u001b[0mself\u001b[0m\u001b[1;33m.\u001b[0m\u001b[0mparams\u001b[0m\u001b[1;33m)\u001b[0m\u001b[1;33m\u001b[0m\u001b[0m\n\u001b[0m\u001b[0;32m     63\u001b[0m         \u001b[1;32mif\u001b[0m \u001b[0misinstance\u001b[0m\u001b[1;33m(\u001b[0m\u001b[0mself\u001b[0m\u001b[1;33m.\u001b[0m\u001b[0m_listing\u001b[0m\u001b[1;33m,\u001b[0m \u001b[0mlist\u001b[0m\u001b[1;33m)\u001b[0m\u001b[1;33m:\u001b[0m\u001b[1;33m\u001b[0m\u001b[0m\n\u001b[0;32m     64\u001b[0m             \u001b[0mself\u001b[0m\u001b[1;33m.\u001b[0m\u001b[0m_listing\u001b[0m \u001b[1;33m=\u001b[0m \u001b[0mself\u001b[0m\u001b[1;33m.\u001b[0m\u001b[0m_listing\u001b[0m\u001b[1;33m[\u001b[0m\u001b[1;36m1\u001b[0m\u001b[1;33m]\u001b[0m  \u001b[1;31m# for submission duplicates\u001b[0m\u001b[1;33m\u001b[0m\u001b[0m\n",
      "\u001b[1;32mC:\\ProgramData\\Anaconda3\\lib\\site-packages\\praw\\reddit.py\u001b[0m in \u001b[0;36mget\u001b[1;34m(self, path, params)\u001b[0m\n\u001b[0;32m    365\u001b[0m \u001b[1;33m\u001b[0m\u001b[0m\n\u001b[0;32m    366\u001b[0m         \"\"\"\n\u001b[1;32m--> 367\u001b[1;33m         \u001b[0mdata\u001b[0m \u001b[1;33m=\u001b[0m \u001b[0mself\u001b[0m\u001b[1;33m.\u001b[0m\u001b[0mrequest\u001b[0m\u001b[1;33m(\u001b[0m\u001b[1;34m'GET'\u001b[0m\u001b[1;33m,\u001b[0m \u001b[0mpath\u001b[0m\u001b[1;33m,\u001b[0m \u001b[0mparams\u001b[0m\u001b[1;33m=\u001b[0m\u001b[0mparams\u001b[0m\u001b[1;33m)\u001b[0m\u001b[1;33m\u001b[0m\u001b[0m\n\u001b[0m\u001b[0;32m    368\u001b[0m         \u001b[1;32mreturn\u001b[0m \u001b[0mself\u001b[0m\u001b[1;33m.\u001b[0m\u001b[0m_objector\u001b[0m\u001b[1;33m.\u001b[0m\u001b[0mobjectify\u001b[0m\u001b[1;33m(\u001b[0m\u001b[0mdata\u001b[0m\u001b[1;33m)\u001b[0m\u001b[1;33m\u001b[0m\u001b[0m\n\u001b[0;32m    369\u001b[0m \u001b[1;33m\u001b[0m\u001b[0m\n",
      "\u001b[1;32mC:\\ProgramData\\Anaconda3\\lib\\site-packages\\praw\\reddit.py\u001b[0m in \u001b[0;36mrequest\u001b[1;34m(self, method, path, params, data, files)\u001b[0m\n\u001b[0;32m    470\u001b[0m         \"\"\"\n\u001b[0;32m    471\u001b[0m         return self._core.request(method, path, data=data, files=files,\n\u001b[1;32m--> 472\u001b[1;33m                                   params=params)\n\u001b[0m\u001b[0;32m    473\u001b[0m \u001b[1;33m\u001b[0m\u001b[0m\n\u001b[0;32m    474\u001b[0m     def submission(  # pylint: disable=invalid-name,redefined-builtin\n",
      "\u001b[1;32mC:\\ProgramData\\Anaconda3\\lib\\site-packages\\prawcore\\sessions.py\u001b[0m in \u001b[0;36mrequest\u001b[1;34m(self, method, path, data, files, json, params)\u001b[0m\n\u001b[0;32m    179\u001b[0m         return self._request_with_retries(\n\u001b[0;32m    180\u001b[0m             \u001b[0mdata\u001b[0m\u001b[1;33m=\u001b[0m\u001b[0mdata\u001b[0m\u001b[1;33m,\u001b[0m \u001b[0mfiles\u001b[0m\u001b[1;33m=\u001b[0m\u001b[0mfiles\u001b[0m\u001b[1;33m,\u001b[0m \u001b[0mjson\u001b[0m\u001b[1;33m=\u001b[0m\u001b[0mjson\u001b[0m\u001b[1;33m,\u001b[0m \u001b[0mmethod\u001b[0m\u001b[1;33m=\u001b[0m\u001b[0mmethod\u001b[0m\u001b[1;33m,\u001b[0m\u001b[1;33m\u001b[0m\u001b[0m\n\u001b[1;32m--> 181\u001b[1;33m             params=params, url=url)\n\u001b[0m\u001b[0;32m    182\u001b[0m \u001b[1;33m\u001b[0m\u001b[0m\n\u001b[0;32m    183\u001b[0m \u001b[1;33m\u001b[0m\u001b[0m\n",
      "\u001b[1;32mC:\\ProgramData\\Anaconda3\\lib\\site-packages\\prawcore\\sessions.py\u001b[0m in \u001b[0;36m_request_with_retries\u001b[1;34m(self, data, files, json, method, params, url, retries)\u001b[0m\n\u001b[0;32m    110\u001b[0m         \u001b[0mself\u001b[0m\u001b[1;33m.\u001b[0m\u001b[0m_log_request\u001b[0m\u001b[1;33m(\u001b[0m\u001b[0mdata\u001b[0m\u001b[1;33m,\u001b[0m \u001b[0mmethod\u001b[0m\u001b[1;33m,\u001b[0m \u001b[0mparams\u001b[0m\u001b[1;33m,\u001b[0m \u001b[0murl\u001b[0m\u001b[1;33m)\u001b[0m\u001b[1;33m\u001b[0m\u001b[0m\n\u001b[0;32m    111\u001b[0m         response, saved_exception = self._make_request(\n\u001b[1;32m--> 112\u001b[1;33m             data, files, json, method, params, retries, url)\n\u001b[0m\u001b[0;32m    113\u001b[0m \u001b[1;33m\u001b[0m\u001b[0m\n\u001b[0;32m    114\u001b[0m         \u001b[0mdo_retry\u001b[0m \u001b[1;33m=\u001b[0m \u001b[1;32mFalse\u001b[0m\u001b[1;33m\u001b[0m\u001b[0m\n",
      "\u001b[1;32mC:\\ProgramData\\Anaconda3\\lib\\site-packages\\prawcore\\sessions.py\u001b[0m in \u001b[0;36m_make_request\u001b[1;34m(self, data, files, json, method, params, retries, url)\u001b[0m\n\u001b[0;32m     95\u001b[0m                 \u001b[0mself\u001b[0m\u001b[1;33m.\u001b[0m\u001b[0m_requestor\u001b[0m\u001b[1;33m.\u001b[0m\u001b[0mrequest\u001b[0m\u001b[1;33m,\u001b[0m \u001b[0mself\u001b[0m\u001b[1;33m.\u001b[0m\u001b[0m_set_header_callback\u001b[0m\u001b[1;33m,\u001b[0m \u001b[0mmethod\u001b[0m\u001b[1;33m,\u001b[0m\u001b[1;33m\u001b[0m\u001b[0m\n\u001b[0;32m     96\u001b[0m                 \u001b[0murl\u001b[0m\u001b[1;33m,\u001b[0m \u001b[0mallow_redirects\u001b[0m\u001b[1;33m=\u001b[0m\u001b[1;32mFalse\u001b[0m\u001b[1;33m,\u001b[0m \u001b[0mdata\u001b[0m\u001b[1;33m=\u001b[0m\u001b[0mdata\u001b[0m\u001b[1;33m,\u001b[0m \u001b[0mfiles\u001b[0m\u001b[1;33m=\u001b[0m\u001b[0mfiles\u001b[0m\u001b[1;33m,\u001b[0m \u001b[0mjson\u001b[0m\u001b[1;33m=\u001b[0m\u001b[0mjson\u001b[0m\u001b[1;33m,\u001b[0m\u001b[1;33m\u001b[0m\u001b[0m\n\u001b[1;32m---> 97\u001b[1;33m                 params=params)\n\u001b[0m\u001b[0;32m     98\u001b[0m             log.debug('Response: {} ({} bytes)'.format(\n\u001b[0;32m     99\u001b[0m                 response.status_code, response.headers.get('content-length')))\n",
      "\u001b[1;32mC:\\ProgramData\\Anaconda3\\lib\\site-packages\\prawcore\\rate_limit.py\u001b[0m in \u001b[0;36mcall\u001b[1;34m(self, request_function, set_header_callback, *args, **kwargs)\u001b[0m\n\u001b[0;32m     30\u001b[0m         \"\"\"\n\u001b[0;32m     31\u001b[0m         \u001b[0mself\u001b[0m\u001b[1;33m.\u001b[0m\u001b[0mdelay\u001b[0m\u001b[1;33m(\u001b[0m\u001b[1;33m)\u001b[0m\u001b[1;33m\u001b[0m\u001b[0m\n\u001b[1;32m---> 32\u001b[1;33m         \u001b[0mkwargs\u001b[0m\u001b[1;33m[\u001b[0m\u001b[1;34m'headers'\u001b[0m\u001b[1;33m]\u001b[0m \u001b[1;33m=\u001b[0m \u001b[0mset_header_callback\u001b[0m\u001b[1;33m(\u001b[0m\u001b[1;33m)\u001b[0m\u001b[1;33m\u001b[0m\u001b[0m\n\u001b[0m\u001b[0;32m     33\u001b[0m         \u001b[0mresponse\u001b[0m \u001b[1;33m=\u001b[0m \u001b[0mrequest_function\u001b[0m\u001b[1;33m(\u001b[0m\u001b[1;33m*\u001b[0m\u001b[0margs\u001b[0m\u001b[1;33m,\u001b[0m \u001b[1;33m**\u001b[0m\u001b[0mkwargs\u001b[0m\u001b[1;33m)\u001b[0m\u001b[1;33m\u001b[0m\u001b[0m\n\u001b[0;32m     34\u001b[0m         \u001b[0mself\u001b[0m\u001b[1;33m.\u001b[0m\u001b[0mupdate\u001b[0m\u001b[1;33m(\u001b[0m\u001b[0mresponse\u001b[0m\u001b[1;33m.\u001b[0m\u001b[0mheaders\u001b[0m\u001b[1;33m)\u001b[0m\u001b[1;33m\u001b[0m\u001b[0m\n",
      "\u001b[1;32mC:\\ProgramData\\Anaconda3\\lib\\site-packages\\prawcore\\sessions.py\u001b[0m in \u001b[0;36m_set_header_callback\u001b[1;34m(self)\u001b[0m\n\u001b[0;32m    139\u001b[0m         if not self._authorizer.is_valid() and hasattr(self._authorizer,\n\u001b[0;32m    140\u001b[0m                                                        'refresh'):\n\u001b[1;32m--> 141\u001b[1;33m             \u001b[0mself\u001b[0m\u001b[1;33m.\u001b[0m\u001b[0m_authorizer\u001b[0m\u001b[1;33m.\u001b[0m\u001b[0mrefresh\u001b[0m\u001b[1;33m(\u001b[0m\u001b[1;33m)\u001b[0m\u001b[1;33m\u001b[0m\u001b[0m\n\u001b[0m\u001b[0;32m    142\u001b[0m         return {'Authorization': 'bearer {}'\n\u001b[0;32m    143\u001b[0m                 .format(self._authorizer.access_token)}\n",
      "\u001b[1;32mC:\\ProgramData\\Anaconda3\\lib\\site-packages\\prawcore\\auth.py\u001b[0m in \u001b[0;36mrefresh\u001b[1;34m(self)\u001b[0m\n\u001b[0;32m    326\u001b[0m         \u001b[1;34m\"\"\"Obtain a new personal-use script type access token.\"\"\"\u001b[0m\u001b[1;33m\u001b[0m\u001b[0m\n\u001b[0;32m    327\u001b[0m         self._request_token(grant_type='password', username=self._username,\n\u001b[1;32m--> 328\u001b[1;33m                             password=self._password)\n\u001b[0m",
      "\u001b[1;32mC:\\ProgramData\\Anaconda3\\lib\\site-packages\\prawcore\\auth.py\u001b[0m in \u001b[0;36m_request_token\u001b[1;34m(self, **data)\u001b[0m\n\u001b[0;32m    140\u001b[0m         \u001b[1;32mif\u001b[0m \u001b[1;34m'error'\u001b[0m \u001b[1;32min\u001b[0m \u001b[0mpayload\u001b[0m\u001b[1;33m:\u001b[0m  \u001b[1;31m# Why are these OKAY responses?\u001b[0m\u001b[1;33m\u001b[0m\u001b[0m\n\u001b[0;32m    141\u001b[0m             raise OAuthException(response, payload['error'],\n\u001b[1;32m--> 142\u001b[1;33m                                  payload.get('error_description'))\n\u001b[0m\u001b[0;32m    143\u001b[0m \u001b[1;33m\u001b[0m\u001b[0m\n\u001b[0;32m    144\u001b[0m         self._expiration_timestamp = (pre_request_time - 10\n",
      "\u001b[1;31mOAuthException\u001b[0m: invalid_grant error processing request"
     ]
    }
   ],
   "source": [
    "\n",
    "for submission in reddit.subreddit('learnpython').hot(limit=10):\n",
    "    print(submission.title)"
   ]
  },
  {
   "cell_type": "code",
   "execution_count": 37,
   "metadata": {},
   "outputs": [
    {
     "ename": "OAuthException",
     "evalue": "invalid_grant error processing request",
     "output_type": "error",
     "traceback": [
      "\u001b[1;31m---------------------------------------------------------------------------\u001b[0m",
      "\u001b[1;31mOAuthException\u001b[0m                            Traceback (most recent call last)",
      "\u001b[1;32m<ipython-input-37-8080f7d5a690>\u001b[0m in \u001b[0;36m<module>\u001b[1;34m()\u001b[0m\n\u001b[0;32m      2\u001b[0m \u001b[0mjbp_sr\u001b[0m \u001b[1;33m=\u001b[0m \u001b[0mreddit\u001b[0m\u001b[1;33m.\u001b[0m\u001b[0msubreddit\u001b[0m\u001b[1;33m(\u001b[0m\u001b[0mdisplay_name\u001b[0m\u001b[1;33m=\u001b[0m\u001b[1;34m'jordanpeterson'\u001b[0m\u001b[1;33m)\u001b[0m\u001b[1;33m\u001b[0m\u001b[0m\n\u001b[0;32m      3\u001b[0m \u001b[0mlisting_generator\u001b[0m \u001b[1;33m=\u001b[0m \u001b[0mjbp_sr\u001b[0m\u001b[1;33m.\u001b[0m\u001b[0mhot\u001b[0m\u001b[1;33m(\u001b[0m\u001b[1;33m)\u001b[0m\u001b[1;33m\u001b[0m\u001b[0m\n\u001b[1;32m----> 4\u001b[1;33m \u001b[1;32mfor\u001b[0m \u001b[0mlisting\u001b[0m \u001b[1;32min\u001b[0m \u001b[0mlisting_generator\u001b[0m\u001b[1;33m:\u001b[0m\u001b[1;33m\u001b[0m\u001b[0m\n\u001b[0m\u001b[0;32m      5\u001b[0m     \u001b[0mget_ipython\u001b[0m\u001b[1;33m(\u001b[0m\u001b[1;33m)\u001b[0m\u001b[1;33m.\u001b[0m\u001b[0mmagic\u001b[0m\u001b[1;33m(\u001b[0m\u001b[1;34m'pinfo listing'\u001b[0m\u001b[1;33m)\u001b[0m\u001b[1;33m\u001b[0m\u001b[0m\n\u001b[0;32m      6\u001b[0m     \u001b[1;32mbreak\u001b[0m\u001b[1;33m\u001b[0m\u001b[0m\n",
      "\u001b[1;32mC:\\ProgramData\\Anaconda3\\lib\\site-packages\\praw\\models\\listing\\generator.py\u001b[0m in \u001b[0;36m__next__\u001b[1;34m(self)\u001b[0m\n\u001b[0;32m     50\u001b[0m \u001b[1;33m\u001b[0m\u001b[0m\n\u001b[0;32m     51\u001b[0m         \u001b[1;32mif\u001b[0m \u001b[0mself\u001b[0m\u001b[1;33m.\u001b[0m\u001b[0m_listing\u001b[0m \u001b[1;32mis\u001b[0m \u001b[1;32mNone\u001b[0m \u001b[1;32mor\u001b[0m \u001b[0mself\u001b[0m\u001b[1;33m.\u001b[0m\u001b[0m_list_index\u001b[0m \u001b[1;33m>=\u001b[0m \u001b[0mlen\u001b[0m\u001b[1;33m(\u001b[0m\u001b[0mself\u001b[0m\u001b[1;33m.\u001b[0m\u001b[0m_listing\u001b[0m\u001b[1;33m)\u001b[0m\u001b[1;33m:\u001b[0m\u001b[1;33m\u001b[0m\u001b[0m\n\u001b[1;32m---> 52\u001b[1;33m             \u001b[0mself\u001b[0m\u001b[1;33m.\u001b[0m\u001b[0m_next_batch\u001b[0m\u001b[1;33m(\u001b[0m\u001b[1;33m)\u001b[0m\u001b[1;33m\u001b[0m\u001b[0m\n\u001b[0m\u001b[0;32m     53\u001b[0m \u001b[1;33m\u001b[0m\u001b[0m\n\u001b[0;32m     54\u001b[0m         \u001b[0mself\u001b[0m\u001b[1;33m.\u001b[0m\u001b[0m_list_index\u001b[0m \u001b[1;33m+=\u001b[0m \u001b[1;36m1\u001b[0m\u001b[1;33m\u001b[0m\u001b[0m\n",
      "\u001b[1;32mC:\\ProgramData\\Anaconda3\\lib\\site-packages\\praw\\models\\listing\\generator.py\u001b[0m in \u001b[0;36m_next_batch\u001b[1;34m(self)\u001b[0m\n\u001b[0;32m     60\u001b[0m             \u001b[1;32mraise\u001b[0m \u001b[0mStopIteration\u001b[0m\u001b[1;33m(\u001b[0m\u001b[1;33m)\u001b[0m\u001b[1;33m\u001b[0m\u001b[0m\n\u001b[0;32m     61\u001b[0m \u001b[1;33m\u001b[0m\u001b[0m\n\u001b[1;32m---> 62\u001b[1;33m         \u001b[0mself\u001b[0m\u001b[1;33m.\u001b[0m\u001b[0m_listing\u001b[0m \u001b[1;33m=\u001b[0m \u001b[0mself\u001b[0m\u001b[1;33m.\u001b[0m\u001b[0m_reddit\u001b[0m\u001b[1;33m.\u001b[0m\u001b[0mget\u001b[0m\u001b[1;33m(\u001b[0m\u001b[0mself\u001b[0m\u001b[1;33m.\u001b[0m\u001b[0murl\u001b[0m\u001b[1;33m,\u001b[0m \u001b[0mparams\u001b[0m\u001b[1;33m=\u001b[0m\u001b[0mself\u001b[0m\u001b[1;33m.\u001b[0m\u001b[0mparams\u001b[0m\u001b[1;33m)\u001b[0m\u001b[1;33m\u001b[0m\u001b[0m\n\u001b[0m\u001b[0;32m     63\u001b[0m         \u001b[1;32mif\u001b[0m \u001b[0misinstance\u001b[0m\u001b[1;33m(\u001b[0m\u001b[0mself\u001b[0m\u001b[1;33m.\u001b[0m\u001b[0m_listing\u001b[0m\u001b[1;33m,\u001b[0m \u001b[0mlist\u001b[0m\u001b[1;33m)\u001b[0m\u001b[1;33m:\u001b[0m\u001b[1;33m\u001b[0m\u001b[0m\n\u001b[0;32m     64\u001b[0m             \u001b[0mself\u001b[0m\u001b[1;33m.\u001b[0m\u001b[0m_listing\u001b[0m \u001b[1;33m=\u001b[0m \u001b[0mself\u001b[0m\u001b[1;33m.\u001b[0m\u001b[0m_listing\u001b[0m\u001b[1;33m[\u001b[0m\u001b[1;36m1\u001b[0m\u001b[1;33m]\u001b[0m  \u001b[1;31m# for submission duplicates\u001b[0m\u001b[1;33m\u001b[0m\u001b[0m\n",
      "\u001b[1;32mC:\\ProgramData\\Anaconda3\\lib\\site-packages\\praw\\reddit.py\u001b[0m in \u001b[0;36mget\u001b[1;34m(self, path, params)\u001b[0m\n\u001b[0;32m    365\u001b[0m \u001b[1;33m\u001b[0m\u001b[0m\n\u001b[0;32m    366\u001b[0m         \"\"\"\n\u001b[1;32m--> 367\u001b[1;33m         \u001b[0mdata\u001b[0m \u001b[1;33m=\u001b[0m \u001b[0mself\u001b[0m\u001b[1;33m.\u001b[0m\u001b[0mrequest\u001b[0m\u001b[1;33m(\u001b[0m\u001b[1;34m'GET'\u001b[0m\u001b[1;33m,\u001b[0m \u001b[0mpath\u001b[0m\u001b[1;33m,\u001b[0m \u001b[0mparams\u001b[0m\u001b[1;33m=\u001b[0m\u001b[0mparams\u001b[0m\u001b[1;33m)\u001b[0m\u001b[1;33m\u001b[0m\u001b[0m\n\u001b[0m\u001b[0;32m    368\u001b[0m         \u001b[1;32mreturn\u001b[0m \u001b[0mself\u001b[0m\u001b[1;33m.\u001b[0m\u001b[0m_objector\u001b[0m\u001b[1;33m.\u001b[0m\u001b[0mobjectify\u001b[0m\u001b[1;33m(\u001b[0m\u001b[0mdata\u001b[0m\u001b[1;33m)\u001b[0m\u001b[1;33m\u001b[0m\u001b[0m\n\u001b[0;32m    369\u001b[0m \u001b[1;33m\u001b[0m\u001b[0m\n",
      "\u001b[1;32mC:\\ProgramData\\Anaconda3\\lib\\site-packages\\praw\\reddit.py\u001b[0m in \u001b[0;36mrequest\u001b[1;34m(self, method, path, params, data, files)\u001b[0m\n\u001b[0;32m    470\u001b[0m         \"\"\"\n\u001b[0;32m    471\u001b[0m         return self._core.request(method, path, data=data, files=files,\n\u001b[1;32m--> 472\u001b[1;33m                                   params=params)\n\u001b[0m\u001b[0;32m    473\u001b[0m \u001b[1;33m\u001b[0m\u001b[0m\n\u001b[0;32m    474\u001b[0m     def submission(  # pylint: disable=invalid-name,redefined-builtin\n",
      "\u001b[1;32mC:\\ProgramData\\Anaconda3\\lib\\site-packages\\prawcore\\sessions.py\u001b[0m in \u001b[0;36mrequest\u001b[1;34m(self, method, path, data, files, json, params)\u001b[0m\n\u001b[0;32m    179\u001b[0m         return self._request_with_retries(\n\u001b[0;32m    180\u001b[0m             \u001b[0mdata\u001b[0m\u001b[1;33m=\u001b[0m\u001b[0mdata\u001b[0m\u001b[1;33m,\u001b[0m \u001b[0mfiles\u001b[0m\u001b[1;33m=\u001b[0m\u001b[0mfiles\u001b[0m\u001b[1;33m,\u001b[0m \u001b[0mjson\u001b[0m\u001b[1;33m=\u001b[0m\u001b[0mjson\u001b[0m\u001b[1;33m,\u001b[0m \u001b[0mmethod\u001b[0m\u001b[1;33m=\u001b[0m\u001b[0mmethod\u001b[0m\u001b[1;33m,\u001b[0m\u001b[1;33m\u001b[0m\u001b[0m\n\u001b[1;32m--> 181\u001b[1;33m             params=params, url=url)\n\u001b[0m\u001b[0;32m    182\u001b[0m \u001b[1;33m\u001b[0m\u001b[0m\n\u001b[0;32m    183\u001b[0m \u001b[1;33m\u001b[0m\u001b[0m\n",
      "\u001b[1;32mC:\\ProgramData\\Anaconda3\\lib\\site-packages\\prawcore\\sessions.py\u001b[0m in \u001b[0;36m_request_with_retries\u001b[1;34m(self, data, files, json, method, params, url, retries)\u001b[0m\n\u001b[0;32m    110\u001b[0m         \u001b[0mself\u001b[0m\u001b[1;33m.\u001b[0m\u001b[0m_log_request\u001b[0m\u001b[1;33m(\u001b[0m\u001b[0mdata\u001b[0m\u001b[1;33m,\u001b[0m \u001b[0mmethod\u001b[0m\u001b[1;33m,\u001b[0m \u001b[0mparams\u001b[0m\u001b[1;33m,\u001b[0m \u001b[0murl\u001b[0m\u001b[1;33m)\u001b[0m\u001b[1;33m\u001b[0m\u001b[0m\n\u001b[0;32m    111\u001b[0m         response, saved_exception = self._make_request(\n\u001b[1;32m--> 112\u001b[1;33m             data, files, json, method, params, retries, url)\n\u001b[0m\u001b[0;32m    113\u001b[0m \u001b[1;33m\u001b[0m\u001b[0m\n\u001b[0;32m    114\u001b[0m         \u001b[0mdo_retry\u001b[0m \u001b[1;33m=\u001b[0m \u001b[1;32mFalse\u001b[0m\u001b[1;33m\u001b[0m\u001b[0m\n",
      "\u001b[1;32mC:\\ProgramData\\Anaconda3\\lib\\site-packages\\prawcore\\sessions.py\u001b[0m in \u001b[0;36m_make_request\u001b[1;34m(self, data, files, json, method, params, retries, url)\u001b[0m\n\u001b[0;32m     95\u001b[0m                 \u001b[0mself\u001b[0m\u001b[1;33m.\u001b[0m\u001b[0m_requestor\u001b[0m\u001b[1;33m.\u001b[0m\u001b[0mrequest\u001b[0m\u001b[1;33m,\u001b[0m \u001b[0mself\u001b[0m\u001b[1;33m.\u001b[0m\u001b[0m_set_header_callback\u001b[0m\u001b[1;33m,\u001b[0m \u001b[0mmethod\u001b[0m\u001b[1;33m,\u001b[0m\u001b[1;33m\u001b[0m\u001b[0m\n\u001b[0;32m     96\u001b[0m                 \u001b[0murl\u001b[0m\u001b[1;33m,\u001b[0m \u001b[0mallow_redirects\u001b[0m\u001b[1;33m=\u001b[0m\u001b[1;32mFalse\u001b[0m\u001b[1;33m,\u001b[0m \u001b[0mdata\u001b[0m\u001b[1;33m=\u001b[0m\u001b[0mdata\u001b[0m\u001b[1;33m,\u001b[0m \u001b[0mfiles\u001b[0m\u001b[1;33m=\u001b[0m\u001b[0mfiles\u001b[0m\u001b[1;33m,\u001b[0m \u001b[0mjson\u001b[0m\u001b[1;33m=\u001b[0m\u001b[0mjson\u001b[0m\u001b[1;33m,\u001b[0m\u001b[1;33m\u001b[0m\u001b[0m\n\u001b[1;32m---> 97\u001b[1;33m                 params=params)\n\u001b[0m\u001b[0;32m     98\u001b[0m             log.debug('Response: {} ({} bytes)'.format(\n\u001b[0;32m     99\u001b[0m                 response.status_code, response.headers.get('content-length')))\n",
      "\u001b[1;32mC:\\ProgramData\\Anaconda3\\lib\\site-packages\\prawcore\\rate_limit.py\u001b[0m in \u001b[0;36mcall\u001b[1;34m(self, request_function, set_header_callback, *args, **kwargs)\u001b[0m\n\u001b[0;32m     30\u001b[0m         \"\"\"\n\u001b[0;32m     31\u001b[0m         \u001b[0mself\u001b[0m\u001b[1;33m.\u001b[0m\u001b[0mdelay\u001b[0m\u001b[1;33m(\u001b[0m\u001b[1;33m)\u001b[0m\u001b[1;33m\u001b[0m\u001b[0m\n\u001b[1;32m---> 32\u001b[1;33m         \u001b[0mkwargs\u001b[0m\u001b[1;33m[\u001b[0m\u001b[1;34m'headers'\u001b[0m\u001b[1;33m]\u001b[0m \u001b[1;33m=\u001b[0m \u001b[0mset_header_callback\u001b[0m\u001b[1;33m(\u001b[0m\u001b[1;33m)\u001b[0m\u001b[1;33m\u001b[0m\u001b[0m\n\u001b[0m\u001b[0;32m     33\u001b[0m         \u001b[0mresponse\u001b[0m \u001b[1;33m=\u001b[0m \u001b[0mrequest_function\u001b[0m\u001b[1;33m(\u001b[0m\u001b[1;33m*\u001b[0m\u001b[0margs\u001b[0m\u001b[1;33m,\u001b[0m \u001b[1;33m**\u001b[0m\u001b[0mkwargs\u001b[0m\u001b[1;33m)\u001b[0m\u001b[1;33m\u001b[0m\u001b[0m\n\u001b[0;32m     34\u001b[0m         \u001b[0mself\u001b[0m\u001b[1;33m.\u001b[0m\u001b[0mupdate\u001b[0m\u001b[1;33m(\u001b[0m\u001b[0mresponse\u001b[0m\u001b[1;33m.\u001b[0m\u001b[0mheaders\u001b[0m\u001b[1;33m)\u001b[0m\u001b[1;33m\u001b[0m\u001b[0m\n",
      "\u001b[1;32mC:\\ProgramData\\Anaconda3\\lib\\site-packages\\prawcore\\sessions.py\u001b[0m in \u001b[0;36m_set_header_callback\u001b[1;34m(self)\u001b[0m\n\u001b[0;32m    139\u001b[0m         if not self._authorizer.is_valid() and hasattr(self._authorizer,\n\u001b[0;32m    140\u001b[0m                                                        'refresh'):\n\u001b[1;32m--> 141\u001b[1;33m             \u001b[0mself\u001b[0m\u001b[1;33m.\u001b[0m\u001b[0m_authorizer\u001b[0m\u001b[1;33m.\u001b[0m\u001b[0mrefresh\u001b[0m\u001b[1;33m(\u001b[0m\u001b[1;33m)\u001b[0m\u001b[1;33m\u001b[0m\u001b[0m\n\u001b[0m\u001b[0;32m    142\u001b[0m         return {'Authorization': 'bearer {}'\n\u001b[0;32m    143\u001b[0m                 .format(self._authorizer.access_token)}\n",
      "\u001b[1;32mC:\\ProgramData\\Anaconda3\\lib\\site-packages\\prawcore\\auth.py\u001b[0m in \u001b[0;36mrefresh\u001b[1;34m(self)\u001b[0m\n\u001b[0;32m    326\u001b[0m         \u001b[1;34m\"\"\"Obtain a new personal-use script type access token.\"\"\"\u001b[0m\u001b[1;33m\u001b[0m\u001b[0m\n\u001b[0;32m    327\u001b[0m         self._request_token(grant_type='password', username=self._username,\n\u001b[1;32m--> 328\u001b[1;33m                             password=self._password)\n\u001b[0m",
      "\u001b[1;32mC:\\ProgramData\\Anaconda3\\lib\\site-packages\\prawcore\\auth.py\u001b[0m in \u001b[0;36m_request_token\u001b[1;34m(self, **data)\u001b[0m\n\u001b[0;32m    140\u001b[0m         \u001b[1;32mif\u001b[0m \u001b[1;34m'error'\u001b[0m \u001b[1;32min\u001b[0m \u001b[0mpayload\u001b[0m\u001b[1;33m:\u001b[0m  \u001b[1;31m# Why are these OKAY responses?\u001b[0m\u001b[1;33m\u001b[0m\u001b[0m\n\u001b[0;32m    141\u001b[0m             raise OAuthException(response, payload['error'],\n\u001b[1;32m--> 142\u001b[1;33m                                  payload.get('error_description'))\n\u001b[0m\u001b[0;32m    143\u001b[0m \u001b[1;33m\u001b[0m\u001b[0m\n\u001b[0;32m    144\u001b[0m         self._expiration_timestamp = (pre_request_time - 10\n",
      "\u001b[1;31mOAuthException\u001b[0m: invalid_grant error processing request"
     ]
    }
   ],
   "source": [
    "\n",
    "jbp_sr = reddit.subreddit(display_name='jordanpeterson')\n",
    "listing_generator = jbp_sr.hot()\n",
    "for listing in listing_generator:\n",
    "    listing?\n",
    "    break"
   ]
  },
  {
   "cell_type": "code",
   "execution_count": 7,
   "metadata": {},
   "outputs": [
    {
     "name": "stderr",
     "output_type": "stream",
     "text": [
      "C:\\ProgramData\\Anaconda3\\lib\\site-packages\\urllib3\\connectionpool.py:858: InsecureRequestWarning: Unverified HTTPS request is being made. Adding certificate verification is strongly advised. See: https://urllib3.readthedocs.io/en/latest/advanced-usage.html#ssl-warnings\n",
      "  InsecureRequestWarning)\n"
     ]
    }
   ],
   "source": [
    "\n",
    "import requests\n",
    "import os\n",
    "from bs4 import BeautifulSoup\n",
    "import re\n",
    "\n",
    "# Get youtube urls off the front page of /r/jordanpeterson\n",
    "tag_page_url = r'https://www.reddit.com/r/JordanPeterson/'\n",
    "tag_page = requests.get(url=tag_page_url, verify=False)\n",
    "tag_page_soup = BeautifulSoup(tag_page.content, 'lxml')"
   ]
  },
  {
   "cell_type": "code",
   "execution_count": 14,
   "metadata": {
    "collapsed": true
   },
   "outputs": [],
   "source": [
    "\n",
    "# <a class=\"title may-blank loggedin outbound\" data-event-action=\"title\"\n",
    "# href=\"https://youtu.be/9UD3ooc380o\" tabindex=\"1\" data-href-url=\"https://youtu.be/9UD3ooc380o\"\n",
    "# data-outbound-url=\"https://out.reddit.com/t3_7zrc09?url=https%3A%2F%2Fyoutu.be%2F9UD3ooc380o&amp;\n",
    "# token=AQAAy_iQWuYjXj0KZaTl4U8UJ0qNHHYpSP55t6YWAO-72Xma8mIH&amp;app_name=reddit.com\"\n",
    "# data-outbound-expiration=\"1519450315000\" rel=\"\" title=\"YouTube title: Jordan Peterson Z: A Necessary Message\"\n",
    "# >New Genre: \"Philosophical Anime Videos,\" ft. Jordan Peterson</a>\n",
    "url_tags = tag_page_soup.find_all('a')"
   ]
  },
  {
   "cell_type": "code",
   "execution_count": 15,
   "metadata": {},
   "outputs": [
    {
     "data": {
      "text/plain": [
       "[<a href=\"http://github.com/reddit/reddit/wiki/API\">one\n",
       "     request every two seconds</a>]"
      ]
     },
     "execution_count": 15,
     "metadata": {},
     "output_type": "execute_result"
    }
   ],
   "source": [
    "url_tags"
   ]
  },
  {
   "cell_type": "code",
   "execution_count": 1,
   "metadata": {
    "scrolled": false
   },
   "outputs": [
    {
     "name": "stdout",
     "output_type": "stream",
     "text": [
      "[youtube] 64wOsTIhQuk: Downloading webpage\n",
      "[youtube] 64wOsTIhQuk: Downloading video info webpage\n",
      "[youtube] 64wOsTIhQuk: Extracting video information\n",
      "[download] Destination: C:\\Users\\577342\\Downloads\\12 Rules_12 Cities - Tickets Now Available-64wOsTIhQuk.webm\n",
      "[download] 100% of 1.88MiB in 00:00                  \n",
      "[ffmpeg] Destination: C:\\Users\\577342\\Downloads\\12 Rules_12 Cities - Tickets Now Available-64wOsTIhQuk.mp3\n",
      "Deleting original file C:\\Users\\577342\\Downloads\\12 Rules_12 Cities - Tickets Now Available-64wOsTIhQuk.webm (pass -k to keep)\n"
     ]
    }
   ],
   "source": [
    "\n",
    "import youtube_dl\n",
    "\n",
    "youtube_url_list = ['https://youtu.be/64wOsTIhQuk']\n",
    "downloads_folder = 'C:\\\\Users\\\\577342\\\\Downloads\\\\'\n",
    "ydl_opts = {\n",
    "    'format': 'bestaudio/best',\n",
    "    'nocheckcertificate': False,\n",
    "    'outtmpl': downloads_folder+youtube_dl.DEFAULT_OUTTMPL,\n",
    "    'postprocessors': [{'key': 'FFmpegExtractAudio',\n",
    "                       'preferredcodec': 'mp3',\n",
    "                       'preferredquality': '192'}],\n",
    "    'verbose': False,\n",
    "    }\n",
    "with youtube_dl.YoutubeDL(ydl_opts) as ydl:\n",
    "    result = ydl.download(youtube_url_list)"
   ]
  },
  {
   "cell_type": "code",
   "execution_count": 2,
   "metadata": {},
   "outputs": [
    {
     "name": "stdout",
     "output_type": "stream",
     "text": [
      "Your browser has been opened to visit:\n",
      "\n",
      "    https://accounts.google.com/o/oauth2/auth?client_id=756414784841-0nkbgkrice8gae3nc4ojafoukr8kb38e.apps.googleusercontent.com&redirect_uri=http%3A%2F%2Flocalhost%3A8080%2F&scope=https%3A%2F%2Fwww.googleapis.com%2Fauth%2Fdrive&access_type=offline&response_type=code\n",
      "\n",
      "Authentication successful.\n"
     ]
    }
   ],
   "source": [
    "\n",
    "from pydrive.auth import GoogleAuth\n",
    "\n",
    "GoogleAuth.DEFAULT_SETTINGS['client_config_file'] = r'../json/client_secrets.json'\n",
    "gauth = GoogleAuth()\n",
    "gauth.LocalWebserverAuth()"
   ]
  },
  {
   "cell_type": "code",
   "execution_count": 3,
   "metadata": {
    "collapsed": true
   },
   "outputs": [],
   "source": [
    "\n",
    "from pydrive.drive import GoogleDrive\n",
    "\n",
    "# Create GoogleDrive instance with authenticated GoogleAuth instance\n",
    "drive = GoogleDrive(gauth)\n",
    "\n",
    "# ID of the \"Reading Material\" folder\n",
    "tgt_folder_id = '1syfUx6jukbW1CWIEy8xoM9veGGr5MBUh'"
   ]
  },
  {
   "cell_type": "code",
   "execution_count": 4,
   "metadata": {},
   "outputs": [
    {
     "name": "stdout",
     "output_type": "stream",
     "text": [
      "Uploaded 12 Rules_12 Cities - Tickets Now Available-64wOsTIhQuk.mp3 (audio/mp3)\n"
     ]
    }
   ],
   "source": [
    "\n",
    "import os\n",
    "\n",
    "# Upload all mp3s from the Downloads folder to Google Drive's \"Reading Material\" folder\n",
    "gfile_dict = {}\n",
    "for subdir, dirs, files in os.walk(downloads_folder):\n",
    "    for src_file in files:\n",
    "        if src_file.endswith('.mp3'):\n",
    "            src_path = os.path.join(subdir, src_file)\n",
    "            gfile_dict[src_file] = drive.CreateFile({'title':src_file, 'mimeType':'audio/mp3',\n",
    "                                                     'parents': [{'kind': 'drive#fileLink',\n",
    "                                                                  'id': tgt_folder_id}]})\n",
    "\n",
    "            # Read mp3 file and set it as a content of this instance.\n",
    "            gfile_dict[src_file].SetContentFile(src_path)\n",
    "            \n",
    "            # Upload the file\n",
    "            try:\n",
    "                gfile_dict[src_file].Upload()\n",
    "                print('Uploaded %s (%s)' % (gfile_dict[src_file]['title'],\n",
    "                                            gfile_dict[src_file]['mimeType']))\n",
    "            except Exception as e:\n",
    "                print('Upload failed for %s (%s): %s' % (gfile_dict[src_file]['title'],\n",
    "                                                         gfile_dict[src_file]['mimeType'], e))"
   ]
  },
  {
   "cell_type": "markdown",
   "metadata": {},
   "source": [
    "\n",
    "Download the mp3s to Voice Dream before you run the next cell."
   ]
  },
  {
   "cell_type": "code",
   "execution_count": 5,
   "metadata": {},
   "outputs": [
    {
     "name": "stdout",
     "output_type": "stream",
     "text": [
      "Trashed 12 Rules_12 Cities - Tickets Now Available-64wOsTIhQuk.mp3 (audio/mp3)\n"
     ]
    }
   ],
   "source": [
    "\n",
    "import os\n",
    "\n",
    "# Trash all mp3s from Google Drive's \"Reading Material\" folder\n",
    "for subdir, dirs, files in os.walk(downloads_folder):\n",
    "    for src_file in files:\n",
    "        if src_file.endswith('.mp3'):\n",
    "            src_path = os.path.join(subdir, src_file)\n",
    "\n",
    "            # Trash mp3 file\n",
    "            try:\n",
    "                gfile_dict[src_file].Trash()\n",
    "                print('Trashed %s (%s)' % (gfile_dict[src_file]['title'],\n",
    "                                           gfile_dict[src_file]['mimeType']))\n",
    "            except Exception as e:\n",
    "                print('Trash failed for %s (%s): %s' % (gfile_dict[src_file]['title'],\n",
    "                                                        gfile_dict[src_file]['mimeType'], e))"
   ]
  },
  {
   "cell_type": "markdown",
   "metadata": {},
   "source": [
    "\n",
    "Make sure line 286 of C:\\ProgramData\\Anaconda3\\Lib\\site-packages\\pydrive\\files.py reads <code>self.content.close()</code> before you run the next cell."
   ]
  },
  {
   "cell_type": "code",
   "execution_count": 6,
   "metadata": {},
   "outputs": [
    {
     "name": "stdout",
     "output_type": "stream",
     "text": [
      "Deleted 12 Rules_12 Cities - Tickets Now Available-64wOsTIhQuk.mp3\n"
     ]
    }
   ],
   "source": [
    "\n",
    "import os\n",
    "\n",
    "# Delete all mp3s in the Downloads folder\n",
    "downloads_folder = 'C:\\\\Users\\\\577342\\\\Downloads\\\\'\n",
    "for subdir, dirs, files in os.walk(downloads_folder):\n",
    "    for src_file in files:\n",
    "        if src_file.endswith('.mp3'):\n",
    "            src_path = os.path.join(subdir, src_file)\n",
    "            \n",
    "            # Delete the file\n",
    "            try:\n",
    "                os.remove(src_path)\n",
    "                print('Deleted %s' % src_file)\n",
    "            except Exception as e:\n",
    "                print('Failed to delete %s: %s' % (src_file, e))"
   ]
  },
  {
   "cell_type": "code",
   "execution_count": null,
   "metadata": {
    "collapsed": true
   },
   "outputs": [],
   "source": []
  }
 ],
 "metadata": {
  "anaconda-cloud": {},
  "kernelspec": {
   "display_name": "Python 3",
   "language": "python",
   "name": "python3"
  },
  "language_info": {
   "codemirror_mode": {
    "name": "ipython",
    "version": 3
   },
   "file_extension": ".py",
   "mimetype": "text/x-python",
   "name": "python",
   "nbconvert_exporter": "python",
   "pygments_lexer": "ipython3",
   "version": "3.6.4"
  }
 },
 "nbformat": 4,
 "nbformat_minor": 2
}
