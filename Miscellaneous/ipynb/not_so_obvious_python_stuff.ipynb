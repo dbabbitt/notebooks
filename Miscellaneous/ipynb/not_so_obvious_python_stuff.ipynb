{
 "cells": [
  {
   "cell_type": "markdown",
   "metadata": {},
   "source": [
    "[Sebastian Raschka](http://sebastianraschka.com)  \n",
    "\n",
    "- [Link to this IPython Notebook on GitHub](https://github.com/rasbt/python_reference/blob/master/tutorials/not_so_obvious_python_stuff.ipynb)  \n",
    "- [Link to the GitHub repository](https://github.com/rasbt/python_reference)  \n",
    "\n"
   ]
  },
  {
   "cell_type": "code",
   "execution_count": 1,
   "metadata": {},
   "outputs": [],
   "source": [
    "\n",
    "%load_ext watermark"
   ]
  },
  {
   "cell_type": "code",
   "execution_count": 2,
   "metadata": {},
   "outputs": [
    {
     "name": "stdout",
     "output_type": "stream",
     "text": [
      "last updated: 2017-10-13 \n",
      "\n",
      "CPython 3.6.1\n",
      "IPython 6.1.0\n"
     ]
    }
   ],
   "source": [
    "\n",
    "%watermark -d -u -v"
   ]
  },
  {
   "cell_type": "markdown",
   "metadata": {},
   "source": [
    "<font size=\"1.5em\">[More information](http://nbviewer.ipython.org/github/rasbt/python_reference/blob/master/ipython_magic/watermark.ipynb) about the `watermark` magic command extension.</font>\n",
    "\n",
    "([Changelog](#changelog))"
   ]
  },
  {
   "cell_type": "markdown",
   "metadata": {},
   "source": [
    "<br>\n",
    "<br>"
   ]
  },
  {
   "cell_type": "markdown",
   "metadata": {},
   "source": [
    "# A collection of not-so-obvious Python stuff you should know!"
   ]
  },
  {
   "cell_type": "markdown",
   "metadata": {},
   "source": [
    "<hr>\n",
    "I am really looking forward to your comments and suggestions to improve and  \n",
    "extend this little collection! Just send me a quick note   \n",
    "via Twitter: [&#64;rasbt](https://twitter.com/rasbt)  \n",
    "or Email: [bluewoodtree@gmail.com](mailto:bluewoodtree@gmail.com)\n",
    "<hr>"
   ]
  },
  {
   "cell_type": "markdown",
   "metadata": {},
   "source": [
    "<a name=\"sections\"></a>"
   ]
  },
  {
   "cell_type": "markdown",
   "metadata": {},
   "source": [
    "# Sections\n",
    "- [The C3 class resolution algorithm for multiple class inheritance](#c3_class_res)\n",
    "\n",
    "- [Assignment operators and lists - simple-add vs. add-AND operators](#pm_in_lists)\n",
    "\n",
    "- [`True` and `False` in the datetime module](#datetime_module)\n",
    "\n",
    "- [Python reuses objects for small integers - always use \"==\" for equality, \"is\" for identity](#python_small_int)\n",
    "\n",
    "- [Shallow vs. deep copies if list contains other structures and objects](#shallow_vs_deep)\n",
    "\n",
    "- [Picking `True` values from logical `and`s and `or`s](#false_true_expressions)\n",
    "\n",
    "- [Don't use mutable objects as default arguments for functions!](#def_mutable_func)\n",
    "\n",
    "- [Be aware of the consuming generator](#consuming_generator)\n",
    "\n",
    "- [`bool` is a subclass of `int`](#bool_int)\n",
    "\n",
    "- [About lambda-in-closures and-a-loop pitfall](#lambda_closure)\n",
    "\n",
    "- [Python's LEGB scope resolution and the keywords `global` and `nonlocal`](#python_legb)\n",
    "\n",
    "- [When mutable contents of immutable tuples aren't so mutable](#immutable_tuple)\n",
    "\n",
    "- [List comprehensions are fast, but generators are faster!?](#list_generator)\n",
    "\n",
    "- [Public vs. private class methods and name mangling](#private_class)\n",
    "\n",
    "- [The consequences of modifying a list when looping through it](#looping_pitfall)\n",
    "\n",
    "- [Dynamic binding and typos in variable names](#dynamic_binding)\n",
    "\n",
    "- [List slicing using indexes that are \"out of range](#out_of_range_slicing)\n",
    "\n",
    "- [Reusing global variable names and UnboundLocalErrors](#unboundlocalerror)\n",
    "\n",
    "- [Creating copies of mutable objects](#copy_mutable)\n",
    "\n",
    "- [Key differences between Python 2 and 3](#python_differences)\n",
    "\n",
    "- [Function annotations - What are those `->`'s in my Python code?](#function_annotation)\n",
    "\n",
    "- [Abortive statements in `finally` blocks](#finally_blocks)\n",
    "\n",
    "- [Assigning types to variables as values](#variable_types)\n",
    "\n",
    "- [Only the first clause of generators is evaluated immediately](#generator_rhs)\n",
    "\n",
    "- [Keyword argument unpacking syntax - `*args`  and `**kwargs`](#splat_op)\n",
    "\n",
    "- [Metaclasses - What creates a new instance of a class?](#new_instance)\n",
    "\n",
    "- [Else-clauses: \"conditional else\" and \"completion else\"](#else_clauses)\n",
    "\n",
    "- [Interning of compile-time constants vs. run-time expressions](#string_interning)"
   ]
  },
  {
   "cell_type": "markdown",
   "metadata": {},
   "source": [
    "<a name='c3_class_res'></a>\n",
    "<br>\n",
    "<br>"
   ]
  },
  {
   "cell_type": "markdown",
   "metadata": {},
   "source": [
    "## The C3 class resolution algorithm for multiple class inheritance"
   ]
  },
  {
   "cell_type": "markdown",
   "metadata": {},
   "source": [
    "[[back to top](#sections)]"
   ]
  },
  {
   "cell_type": "markdown",
   "metadata": {},
   "source": [
    "If we are dealing with multiple inheritance, according to the newer C3 class resolution algorithm, the following applies:  \n",
    "Assuming that child class C inherits from two parent classes A and B, \"class A should be checked before class B\".\n",
    "\n",
    "If you want to learn more, please read the [original blog](http://python-history.blogspot.ru/2010/06/method-resolution-order.html) post by Guido van Rossum.\n",
    "\n",
    "(Original source: [http://gistroll.com/rolls/21/horizontal_assessments/new](http://gistroll.com/rolls/21/horizontal_assessments/new))"
   ]
  },
  {
   "cell_type": "code",
   "execution_count": 3,
   "metadata": {},
   "outputs": [
    {
     "name": "stdout",
     "output_type": "stream",
     "text": [
      "class A\n"
     ]
    }
   ],
   "source": [
    "\n",
    "class A(object):\n",
    "    def foo(self):\n",
    "        print(\"class A\")\n",
    "\n",
    "class B(object):\n",
    "    def foo(self):\n",
    "        print(\"class B\")\n",
    "\n",
    "class C(A, B):\n",
    "    pass\n",
    "\n",
    "C().foo()"
   ]
  },
  {
   "cell_type": "markdown",
   "metadata": {},
   "source": [
    "So what actually happened above was that class `C` looked in the scope of the parent class `A` for the method `.foo()` first (and found it)!"
   ]
  },
  {
   "cell_type": "markdown",
   "metadata": {},
   "source": [
    "I received an email containing a suggestion which uses a more nested example to illustrate Guido van Rossum's point a little bit better:"
   ]
  },
  {
   "cell_type": "code",
   "execution_count": 4,
   "metadata": {},
   "outputs": [
    {
     "name": "stdout",
     "output_type": "stream",
     "text": [
      "class C\n"
     ]
    }
   ],
   "source": [
    "\n",
    "class A(object):\n",
    "   def foo(self):\n",
    "      print(\"class A\")\n",
    "\n",
    "class B(A):\n",
    "   pass\n",
    "\n",
    "class C(A):\n",
    "   def foo(self):\n",
    "      print(\"class C\")\n",
    "\n",
    "class D(B,C):\n",
    "   pass\n",
    "\n",
    "D().foo()"
   ]
  },
  {
   "cell_type": "markdown",
   "metadata": {},
   "source": [
    "Here, class `D` searches in `B` first, which in turn inherits from `A` (note that class `C` also inherits from `A`, but has its own `.foo()` method) so that we come up with the search order: `D, B, C, A`. "
   ]
  },
  {
   "cell_type": "markdown",
   "metadata": {},
   "source": [
    "<a name='pm_in_lists'></a>\n",
    "<br>\n",
    "<br>"
   ]
  },
  {
   "cell_type": "markdown",
   "metadata": {},
   "source": [
    "## Assignment operators and lists - simple-add vs. add-AND operators"
   ]
  },
  {
   "cell_type": "markdown",
   "metadata": {},
   "source": [
    "[[back to top](#sections)]"
   ]
  },
  {
   "cell_type": "markdown",
   "metadata": {},
   "source": [
    "Python `list`s are mutable objects as we all know. So, if we are using the `+=` operator on `list`s, we extend the `list` by directly modifying the object directly.  \n",
    "\n",
    "However, if we use the assigment via `my_list = my_list + ...`, we create a new list object, which can be demonstrated by the following code:"
   ]
  },
  {
   "cell_type": "code",
   "execution_count": 5,
   "metadata": {},
   "outputs": [
    {
     "name": "stdout",
     "output_type": "stream",
     "text": [
      "ID: 4556393416\n",
      "ID (+=): 4556393416\n",
      "ID (list = list + ...): 4556884296\n"
     ]
    }
   ],
   "source": [
    "\n",
    "a_list = []\n",
    "print('ID:', id(a_list))\n",
    "\n",
    "a_list += [1]\n",
    "print('ID (+=):', id(a_list))\n",
    "\n",
    "a_list = a_list + [2]\n",
    "print('ID (list = list + ...):', id(a_list))"
   ]
  },
  {
   "cell_type": "markdown",
   "metadata": {},
   "source": [
    "Just for reference, the `.append()` and `.extends()` methods are modifying the `list` object in place, just as expected."
   ]
  },
  {
   "cell_type": "code",
   "execution_count": 6,
   "metadata": {},
   "outputs": [
    {
     "name": "stdout",
     "output_type": "stream",
     "text": [
      "[] \n",
      "ID (initial): 4543379208 \n",
      "\n",
      "[1] \n",
      "ID (append): 4543379208 \n",
      "\n",
      "[1, 2] \n",
      "ID (extend): 4543379208\n"
     ]
    }
   ],
   "source": [
    "\n",
    "a_list = []\n",
    "print(a_list, '\\nID (initial):',id(a_list), '\\n')\n",
    "\n",
    "a_list.append(1)\n",
    "print(a_list, '\\nID (append):',id(a_list), '\\n')\n",
    "\n",
    "a_list.extend([2])\n",
    "print(a_list, '\\nID (extend):',id(a_list))"
   ]
  },
  {
   "cell_type": "markdown",
   "metadata": {},
   "source": [
    "<br>\n",
    "<br>\n",
    "<a name='datetime_module'></a>"
   ]
  },
  {
   "cell_type": "markdown",
   "metadata": {},
   "source": [
    "\n",
    "## `True` and `False` in the datetime module\n",
    "\n"
   ]
  },
  {
   "cell_type": "markdown",
   "metadata": {},
   "source": [
    "\"It often comes as a big surprise for programmers to find (sometimes by way of a hard-to-reproduce bug) that, unlike any other time value, midnight (i.e. `datetime.time(0,0,0)`) is False. A long discussion on the python-ideas mailing list shows that, while surprising, that behavior is desirable—at least in some quarters.\"  \n",
    "\n",
    "(Original source: [http://lwn.net/SubscriberLink/590299/bf73fe823974acea/](http://lwn.net/SubscriberLink/590299/bf73fe823974acea/))"
   ]
  },
  {
   "cell_type": "markdown",
   "metadata": {},
   "source": [
    "[[back to top](#sections)]"
   ]
  },
  {
   "cell_type": "code",
   "execution_count": 7,
   "metadata": {},
   "outputs": [
    {
     "name": "stdout",
     "output_type": "stream",
     "text": [
      "\"datetime.time(0,0,0)\" (Midnight) -> True\n",
      "\"datetime.time(1,0,0)\" (1 am) -> True\n"
     ]
    }
   ],
   "source": [
    "\n",
    "import datetime\n",
    "\n",
    "print('\"datetime.time(0,0,0)\" (Midnight) ->', bool(datetime.time(0,0,0)))\n",
    "\n",
    "print('\"datetime.time(1,0,0)\" (1 am) ->', bool(datetime.time(1,0,0)))"
   ]
  },
  {
   "cell_type": "markdown",
   "metadata": {},
   "source": [
    "<br>\n",
    "<br>\n",
    "<a name='python_small_int'></a>"
   ]
  },
  {
   "cell_type": "markdown",
   "metadata": {},
   "source": [
    "\n",
    "## Python reuses objects for small integers - use \"==\" for equality, \"is\" for identity\n",
    "\n"
   ]
  },
  {
   "cell_type": "markdown",
   "metadata": {},
   "source": [
    "[[back to top](#sections)]"
   ]
  },
  {
   "cell_type": "markdown",
   "metadata": {},
   "source": [
    "This oddity occurs, because Python keeps an array of small integer objects (i.e., integers between -5 and 256, [see the doc](https://docs.python.org/2/c-api/int.html#PyInt_FromLong))."
   ]
  },
  {
   "cell_type": "code",
   "execution_count": 8,
   "metadata": {},
   "outputs": [
    {
     "name": "stdout",
     "output_type": "stream",
     "text": [
      "a is b True\n"
     ]
    },
    {
     "data": {
      "text/plain": [
       "True"
      ]
     },
     "execution_count": 8,
     "metadata": {},
     "output_type": "execute_result"
    },
    {
     "name": "stdout",
     "output_type": "stream",
     "text": [
      "c is d False\n"
     ]
    }
   ],
   "source": [
    "\n",
    "a = 1\n",
    "b = 1\n",
    "print('a is b', bool(a is b))\n",
    "True\n",
    "\n",
    "c = 999\n",
    "d = 999\n",
    "print('c is d', bool(c is d))"
   ]
  },
  {
   "cell_type": "markdown",
   "metadata": {},
   "source": [
    "(*I received a comment that this is in fact a CPython artefact and **must not necessarily be true** in all implementations of Python!*)\n",
    "\n",
    "So the take home message is: always use \"==\" for equality, \"is\" for identity!\n",
    "\n",
    "Here is a [nice article](http://python.net/%7Egoodger/projects/pycon/2007/idiomatic/handout.html#other-languages-have-variables) explaining it by comparing \"boxes\" (C language) with \"name tags\" (Python)."
   ]
  },
  {
   "cell_type": "markdown",
   "metadata": {},
   "source": [
    "This example demonstrates that this applies  indeed for integers in the range in -5 to 256:"
   ]
  },
  {
   "cell_type": "code",
   "execution_count": 9,
   "metadata": {},
   "outputs": [
    {
     "name": "stdout",
     "output_type": "stream",
     "text": [
      "256 is 257-1 True\n",
      "257 is 258-1 False\n",
      "-5 is -6+1 True\n",
      "-7 is -6-1 False\n"
     ]
    }
   ],
   "source": [
    "\n",
    "print('256 is 257-1', 256 is 257-1)\n",
    "print('257 is 258-1', 257 is 258 - 1)\n",
    "print('-5 is -6+1', -5 is -6+1)\n",
    "print('-7 is -6-1', -7 is -6-1)"
   ]
  },
  {
   "cell_type": "markdown",
   "metadata": {},
   "source": [
    "#### And to illustrate the test for equality (`==`) vs. identity (`is`):"
   ]
  },
  {
   "cell_type": "code",
   "execution_count": 10,
   "metadata": {},
   "outputs": [
    {
     "name": "stdout",
     "output_type": "stream",
     "text": [
      "a is b, False\n",
      "a == b, True\n"
     ]
    }
   ],
   "source": [
    "\n",
    "a = 'hello world!'\n",
    "b = 'hello world!'\n",
    "print('a is b,', a is b)\n",
    "print('a == b,', a == b)"
   ]
  },
  {
   "cell_type": "markdown",
   "metadata": {},
   "source": [
    "We would think that identity would always imply equality, but this is not always true, as we can see in the next example:"
   ]
  },
  {
   "cell_type": "code",
   "execution_count": 11,
   "metadata": {},
   "outputs": [
    {
     "name": "stdout",
     "output_type": "stream",
     "text": [
      "a is a, True\n",
      "a == a, False\n"
     ]
    }
   ],
   "source": [
    "\n",
    "a = float('nan')\n",
    "print('a is a,', a is a)\n",
    "print('a == a,', a == a)"
   ]
  },
  {
   "cell_type": "markdown",
   "metadata": {},
   "source": [
    "<br>\n",
    "<br>\n",
    "<a name='shallow_vs_deep'></a>"
   ]
  },
  {
   "cell_type": "markdown",
   "metadata": {},
   "source": [
    "## Shallow vs. deep copies if list contains other structures and objects\n",
    "\n"
   ]
  },
  {
   "cell_type": "markdown",
   "metadata": {},
   "source": [
    "[[back to top](#sections)]"
   ]
  },
  {
   "cell_type": "markdown",
   "metadata": {},
   "source": [
    "**Shallow copy**:  \n",
    "If we use the assignment operator to assign one list to another list, we just create a new name reference to the original list. If we want to create a new list object, we have to make a copy of the original list. This can be done via `a_list[:]` or `a_list.copy()`."
   ]
  },
  {
   "cell_type": "code",
   "execution_count": 12,
   "metadata": {},
   "outputs": [
    {
     "name": "stdout",
     "output_type": "stream",
     "text": [
      "IDs:\n",
      "list1: 4556885576\n",
      "list2: 4556885576\n",
      "list3: 4556883848\n",
      "list4: 4555089288\n",
      "\n",
      "list1: [3, 2]\n",
      "list1: [3, 2]\n"
     ]
    }
   ],
   "source": [
    "\n",
    "list1 = [1,2]\n",
    "list2 = list1        # reference\n",
    "list3 = list1[:]     # shallow copy\n",
    "list4 = list1.copy() # shallow copy\n",
    "\n",
    "print('IDs:\\nlist1: {}\\nlist2: {}\\nlist3: {}\\nlist4: {}\\n'\n",
    "      .format(id(list1), id(list2), id(list3), id(list4)))\n",
    "\n",
    "list2[0] = 3\n",
    "print('list1:', list1)\n",
    "\n",
    "list3[0] = 4\n",
    "list4[1] = 4\n",
    "print('list1:', list1)"
   ]
  },
  {
   "cell_type": "markdown",
   "metadata": {},
   "source": [
    "**Deep copy**  \n",
    "As we have seen above, a shallow copy works fine if we want to create a new list with contents of the original list which we want to modify independently.  \n",
    "\n",
    "However, if we are dealing with compound objects (e.g., lists that contain other lists, [read here](https://docs.python.org/2/library/copy.html) for more information) it becomes a little trickier.\n",
    "\n",
    "In the case of compound objects, a shallow copy would create a new compound object, but it would just insert the references to the contained objects into the new compound object. In contrast, a deep copy would go \"deeper\" and create also new objects   \n",
    "for the objects found in the original compound object. \n",
    "If you follow the code, the concept should become more clear:"
   ]
  },
  {
   "cell_type": "code",
   "execution_count": 13,
   "metadata": {},
   "outputs": [
    {
     "name": "stdout",
     "output_type": "stream",
     "text": [
      "IDs:\n",
      "list1: 4556293640\n",
      "list2: 4556292616\n",
      "list3: 4556920200\n",
      "\n",
      "list1: [[3], [2]]\n",
      "list1: [[3], [2]]\n"
     ]
    }
   ],
   "source": [
    "\n",
    "from copy import deepcopy\n",
    "\n",
    "list1 = [[1],[2]]\n",
    "list2 = list1.copy()    # shallow copy\n",
    "list3 = deepcopy(list1) # deep copy\n",
    "\n",
    "print('IDs:\\nlist1: {}\\nlist2: {}\\nlist3: {}\\n'\n",
    "      .format(id(list1), id(list2), id(list3)))\n",
    "\n",
    "list2[0][0] = 3\n",
    "print('list1:', list1)\n",
    "\n",
    "list3[0][0] = 5\n",
    "print('list1:', list1)"
   ]
  },
  {
   "cell_type": "markdown",
   "metadata": {},
   "source": [
    "<br>\n",
    "<br>\n",
    "<a name='false_true_expressions'></a>"
   ]
  },
  {
   "cell_type": "markdown",
   "metadata": {},
   "source": [
    "## Picking `True` values from logical `and`s and `or`s"
   ]
  },
  {
   "cell_type": "markdown",
   "metadata": {},
   "source": [
    "[[back to top](#sections)]"
   ]
  },
  {
   "cell_type": "markdown",
   "metadata": {},
   "source": [
    "**Logical `or`:**  \n",
    "\n",
    "`a or b == a if a else b`  \n",
    "- If both values in `or` expressions are `True`, Python will select the first value (e.g., select `\"a\"` in `\"a\" or \"b\"`), and the second one in `and` expressions.  \n",
    "This is also called **short-circuiting** - we already know that the logical `or` must be `True` if the first value is `True` and therefore can omit the evaluation of the second value.\n",
    "\n",
    "**Logical `and`:** \n",
    "\n",
    "`a and b == b if a else a`  \n",
    "- If both values in `and` expressions are `True`, Python will select the second value, since for a logical `and`, both values must be true.\n"
   ]
  },
  {
   "cell_type": "code",
   "execution_count": 14,
   "metadata": {},
   "outputs": [
    {
     "name": "stdout",
     "output_type": "stream",
     "text": [
      "2 * 7 = 14\n"
     ]
    }
   ],
   "source": [
    "\n",
    "result = (2 or 3) * (5 and 7)\n",
    "print('2 * 7 =', result)"
   ]
  },
  {
   "cell_type": "markdown",
   "metadata": {},
   "source": [
    "<br>\n",
    "<br>\n",
    "<a name='def_mutable_func'></a>"
   ]
  },
  {
   "cell_type": "markdown",
   "metadata": {},
   "source": [
    "## Don't use mutable objects as default arguments for functions!"
   ]
  },
  {
   "cell_type": "markdown",
   "metadata": {},
   "source": [
    "[[back to top](#sections)]"
   ]
  },
  {
   "cell_type": "markdown",
   "metadata": {},
   "source": [
    "Don't use mutable objects (e.g., dictionaries, lists, sets, etc.) as default arguments for functions! You might expect that a new list is created every time when we call the function without providing an argument for the default parameter, but this is not the case: **Python will create the mutable object (default parameter) the first time the function is defined - not when it is called**, see the following code:\n",
    "\n",
    "(Original source: [http://docs.python-guide.org/en/latest/writing/gotchas/](http://docs.python-guide.org/en/latest/writing/gotchas/)"
   ]
  },
  {
   "cell_type": "code",
   "execution_count": 15,
   "metadata": {},
   "outputs": [
    {
     "name": "stdout",
     "output_type": "stream",
     "text": [
      "[1]\n",
      "[1, 2]\n"
     ]
    }
   ],
   "source": [
    "\n",
    "def append_to_list(value, def_list=[]):\n",
    "    def_list.append(value)\n",
    "    return def_list\n",
    "\n",
    "my_list = append_to_list(1)\n",
    "print(my_list)\n",
    "\n",
    "my_other_list = append_to_list(2)\n",
    "print(my_other_list)"
   ]
  },
  {
   "cell_type": "markdown",
   "metadata": {},
   "source": [
    "Another good example showing that demonstrates that default arguments are created when the function is created (**and not when it is called!**):"
   ]
  },
  {
   "cell_type": "code",
   "execution_count": 16,
   "metadata": {},
   "outputs": [
    {
     "name": "stdout",
     "output_type": "stream",
     "text": [
      "1507919170.07638\n",
      "1507919170.07638\n"
     ]
    }
   ],
   "source": [
    "\n",
    "import time\n",
    "\n",
    "def report_arg(my_default=time.time()):\n",
    "    print(my_default)\n",
    "\n",
    "report_arg()\n",
    "\n",
    "time.sleep(5)\n",
    "\n",
    "report_arg()"
   ]
  },
  {
   "cell_type": "markdown",
   "metadata": {},
   "source": [
    "<br>\n",
    "<br>\n",
    "<a name='consuming_generator'></a>\n"
   ]
  },
  {
   "cell_type": "markdown",
   "metadata": {},
   "source": [
    "## Be aware of the consuming generator"
   ]
  },
  {
   "cell_type": "markdown",
   "metadata": {},
   "source": [
    "[[back to top](#sections)]"
   ]
  },
  {
   "cell_type": "markdown",
   "metadata": {},
   "source": [
    "Be aware of what is happening when combining \"`in`\" checks with generators, since they won't evaluate from the beginning once a position is \"consumed\"."
   ]
  },
  {
   "cell_type": "code",
   "execution_count": 17,
   "metadata": {},
   "outputs": [
    {
     "name": "stdout",
     "output_type": "stream",
     "text": [
      "2 in gen, True\n",
      "3 in gen, True\n",
      "1 in gen, False\n"
     ]
    }
   ],
   "source": [
    "\n",
    "gen = (i for i in range(5))\n",
    "print('2 in gen,', 2 in gen)\n",
    "print('3 in gen,', 3 in gen)\n",
    "print('1 in gen,', 1 in gen) "
   ]
  },
  {
   "cell_type": "markdown",
   "metadata": {},
   "source": [
    "Although this defeats the purpose of an generator (in most cases), we can convert a generator into a list to circumvent the problem. "
   ]
  },
  {
   "cell_type": "code",
   "execution_count": 18,
   "metadata": {},
   "outputs": [
    {
     "name": "stdout",
     "output_type": "stream",
     "text": [
      "2 in l, True\n",
      "3 in l, True\n",
      "1 in l, True\n"
     ]
    }
   ],
   "source": [
    "\n",
    "gen = (i for i in range(5))\n",
    "a_list = list(gen)\n",
    "print('2 in l,', 2 in a_list)\n",
    "print('3 in l,', 3 in a_list)\n",
    "print('1 in l,', 1 in a_list) "
   ]
  },
  {
   "cell_type": "markdown",
   "metadata": {},
   "source": [
    "<br>\n",
    "<br>\n",
    "<a name='bool_int'></a>\n"
   ]
  },
  {
   "cell_type": "markdown",
   "metadata": {},
   "source": [
    "\n",
    "## `bool` is a subclass of `int`\n",
    "\n"
   ]
  },
  {
   "cell_type": "markdown",
   "metadata": {},
   "source": [
    "[[back to top](#sections)]"
   ]
  },
  {
   "cell_type": "markdown",
   "metadata": {},
   "source": [
    "Chicken or egg? In the history of Python (Python 2.2 to be specific) truth values were implemented via 1 and 0 (similar to the old C). In order to avoid syntax errors in old (but perfectly working) Python code, `bool` was added as a subclass of `int` in Python 2.3.\n",
    "\n",
    "Original source: [http://www.peterbe.com/plog/bool-is-int](http://www.peterbe.com/plog/bool-is-int)"
   ]
  },
  {
   "cell_type": "code",
   "execution_count": 19,
   "metadata": {},
   "outputs": [
    {
     "name": "stdout",
     "output_type": "stream",
     "text": [
      "isinstance(True, int): True\n",
      "True + True: 2\n",
      "3*True + True: 4\n",
      "3*True - False: 3\n"
     ]
    }
   ],
   "source": [
    "\n",
    "print('isinstance(True, int):', isinstance(True, int))\n",
    "print('True + True:', True + True)\n",
    "print('3*True + True:', 3*True + True)\n",
    "print('3*True - False:', 3*True - False)"
   ]
  },
  {
   "cell_type": "markdown",
   "metadata": {},
   "source": [
    "<br>\n",
    "<br>\n",
    "<a name='lambda_closure'></a>"
   ]
  },
  {
   "cell_type": "markdown",
   "metadata": {},
   "source": [
    "## About lambda-in-closures-and-a-loop pitfall"
   ]
  },
  {
   "cell_type": "markdown",
   "metadata": {},
   "source": [
    "[[back to top](#sections)]"
   ]
  },
  {
   "cell_type": "markdown",
   "metadata": {},
   "source": [
    "Remember the section about the [\"consuming generators\"](consuming_generators)? This example is somewhat related, but the result might still come unexpected. \n",
    "\n",
    "(Original source: [http://openhome.cc/eGossip/Blog/UnderstandingLambdaClosure3.html](http://openhome.cc/eGossip/Blog/UnderstandingLambdaClosure3.html))\n",
    "\n",
    "In the first example below, we call a `lambda` function in a list comprehension, and the value `i` will be dereferenced every time we call `lambda` within the scope of the list comprehension. Since the list comprehension has already been constructed and evaluated when we for-loop through the list, the closure-variable will be set to the last value 4."
   ]
  },
  {
   "cell_type": "code",
   "execution_count": 20,
   "metadata": {},
   "outputs": [
    {
     "name": "stdout",
     "output_type": "stream",
     "text": [
      "4\n",
      "4\n",
      "4\n",
      "4\n",
      "4\n"
     ]
    }
   ],
   "source": [
    "\n",
    "my_list = [lambda: i for i in range(5)]\n",
    "for l in my_list:\n",
    "    print(l())"
   ]
  },
  {
   "cell_type": "markdown",
   "metadata": {},
   "source": [
    "However, by using a generator expression, we can make use of its stepwise evaluation (note that the returned variable still stems from the same closure, but the value changes as we iterate over the generator)."
   ]
  },
  {
   "cell_type": "code",
   "execution_count": 9,
   "metadata": {},
   "outputs": [
    {
     "name": "stdout",
     "output_type": "stream",
     "text": [
      "0\n",
      "1\n",
      "2\n",
      "3\n",
      "4\n"
     ]
    }
   ],
   "source": [
    "my_gen = (lambda: n for n in range(5))\n",
    "for l in my_gen:\n",
    "    print(l())"
   ]
  },
  {
   "cell_type": "markdown",
   "metadata": {},
   "source": [
    "And if you are really keen on using lists, there is a nifty trick that circumvents this problem as a reader nicely pointed out in the comments: We can simply pass the loop variable `i` as a default argument to the lambdas."
   ]
  },
  {
   "cell_type": "code",
   "execution_count": 10,
   "metadata": {},
   "outputs": [
    {
     "name": "stdout",
     "output_type": "stream",
     "text": [
      "0\n",
      "1\n",
      "2\n",
      "3\n",
      "4\n"
     ]
    }
   ],
   "source": [
    "my_list = [lambda x=i: x for i in range(5)]\n",
    "for l in my_list:\n",
    "    print(l())"
   ]
  },
  {
   "cell_type": "markdown",
   "metadata": {},
   "source": [
    "<br>\n",
    "<br>\n",
    "<a name='python_legb'></a>"
   ]
  },
  {
   "cell_type": "markdown",
   "metadata": {},
   "source": [
    "## Python's LEGB scope resolution and the keywords `global` and `nonlocal`"
   ]
  },
  {
   "cell_type": "markdown",
   "metadata": {},
   "source": [
    "[[back to top](#sections)]"
   ]
  },
  {
   "cell_type": "markdown",
   "metadata": {},
   "source": [
    "There is nothing particularly surprising about Python's LEGB scope resolution (Local -> Enclosed -> Global -> Built-in), but it is still useful to take a look at some examples!"
   ]
  },
  {
   "cell_type": "markdown",
   "metadata": {},
   "source": [
    "### `global` vs. `local`\n",
    "\n",
    "According to the LEGB rule, Python will first look for a variable in the local scope. So if we set the variable `x = 1` `local`ly in the function's scope, it won't have an effect on the `global` `x`."
   ]
  },
  {
   "cell_type": "code",
   "execution_count": 31,
   "metadata": {},
   "outputs": [
    {
     "name": "stdout",
     "output_type": "stream",
     "text": [
      "in_func: 1\n",
      "global: 0\n"
     ]
    }
   ],
   "source": [
    "x = 0\n",
    "def in_func():\n",
    "    x = 1\n",
    "    print('in_func:', x)\n",
    "    \n",
    "in_func()\n",
    "print('global:', x)"
   ]
  },
  {
   "cell_type": "markdown",
   "metadata": {},
   "source": [
    "If we want to modify the `global` x via a function, we can simply use the `global` keyword to import the variable into the function's scope:"
   ]
  },
  {
   "cell_type": "code",
   "execution_count": 34,
   "metadata": {},
   "outputs": [
    {
     "name": "stdout",
     "output_type": "stream",
     "text": [
      "in_func: 1\n",
      "global: 1\n"
     ]
    }
   ],
   "source": [
    "x = 0\n",
    "def in_func():\n",
    "    global x\n",
    "    x = 1\n",
    "    print('in_func:', x)\n",
    "    \n",
    "in_func()\n",
    "print('global:', x)"
   ]
  },
  {
   "cell_type": "markdown",
   "metadata": {},
   "source": [
    "### `local` vs. `enclosed`\n",
    "\n",
    "Now, let us take a look at `local` vs. `enclosed`. Here, we set the variable `x = 1` in the `outer` function and set `x = 1` in the enclosed function `inner`. Since `inner` looks in the local scope first, it won't modify `outer`'s `x`."
   ]
  },
  {
   "cell_type": "code",
   "execution_count": 36,
   "metadata": {},
   "outputs": [
    {
     "name": "stdout",
     "output_type": "stream",
     "text": [
      "outer before: 1\n",
      "inner: 2\n",
      "outer after: 1\n"
     ]
    }
   ],
   "source": [
    "def outer():\n",
    "       x = 1\n",
    "       print('outer before:', x)\n",
    "       def inner():\n",
    "           x = 2\n",
    "           print(\"inner:\", x)\n",
    "       inner()\n",
    "       print(\"outer after:\", x)\n",
    "outer()"
   ]
  },
  {
   "cell_type": "markdown",
   "metadata": {},
   "source": [
    "Here is where the `nonlocal` keyword comes in handy - it allows us to modify the `x` variable in the `enclosed` scope:"
   ]
  },
  {
   "cell_type": "code",
   "execution_count": 35,
   "metadata": {},
   "outputs": [
    {
     "name": "stdout",
     "output_type": "stream",
     "text": [
      "outer before: 1\n",
      "inner: 2\n",
      "outer after: 2\n"
     ]
    }
   ],
   "source": [
    "def outer():\n",
    "       x = 1\n",
    "       print('outer before:', x)\n",
    "       def inner():\n",
    "           nonlocal x\n",
    "           x = 2\n",
    "           print(\"inner:\", x)\n",
    "       inner()\n",
    "       print(\"outer after:\", x)\n",
    "outer()"
   ]
  },
  {
   "cell_type": "markdown",
   "metadata": {},
   "source": [
    "<br>\n",
    "<br>\n",
    "<a name='immutable_tuple'></a>"
   ]
  },
  {
   "cell_type": "markdown",
   "metadata": {},
   "source": [
    "## When mutable contents of immutable tuples aren't so mutable"
   ]
  },
  {
   "cell_type": "markdown",
   "metadata": {},
   "source": [
    "[[back to top](#sections)]"
   ]
  },
  {
   "cell_type": "markdown",
   "metadata": {},
   "source": [
    "As we all know, tuples are immutable objects in Python, right!? But what happens if they contain mutable objects? \n",
    "\n",
    "First, let us have a look at the expected behavior: a `TypeError` is raised if we try to modify immutable types in a tuple: "
   ]
  },
  {
   "cell_type": "code",
   "execution_count": 41,
   "metadata": {},
   "outputs": [
    {
     "ename": "TypeError",
     "evalue": "'tuple' object does not support item assignment",
     "output_type": "error",
     "traceback": [
      "\u001b[0;31m---------------------------------------------------------------------------\u001b[0m\n\u001b[0;31mTypeError\u001b[0m                                 Traceback (most recent call last)",
      "\u001b[0;32m<ipython-input-41-c3bec6c3fe6f>\u001b[0m in \u001b[0;36m<module>\u001b[0;34m()\u001b[0m\n\u001b[1;32m      1\u001b[0m \u001b[0mtup\u001b[0m \u001b[0;34m=\u001b[0m \u001b[0;34m(\u001b[0m\u001b[0;36m1\u001b[0m\u001b[0;34m,\u001b[0m\u001b[0;34m)\u001b[0m\u001b[0;34m\u001b[0m\u001b[0m\n\u001b[0;32m----> 2\u001b[0;31m \u001b[0mtup\u001b[0m\u001b[0;34m[\u001b[0m\u001b[0;36m0\u001b[0m\u001b[0;34m]\u001b[0m \u001b[0;34m+=\u001b[0m \u001b[0;36m1\u001b[0m\u001b[0;34m\u001b[0m\u001b[0m\n\u001b[0m",
      "\u001b[0;31mTypeError\u001b[0m: 'tuple' object does not support item assignment"
     ]
    }
   ],
   "source": [
    "tup = (1,)\n",
    "tup[0] += 1"
   ]
  },
  {
   "cell_type": "markdown",
   "metadata": {},
   "source": [
    "#### But what if we put a mutable object into the immutable tuple? Well, modification works, but we **also** get a `TypeError` at the same time."
   ]
  },
  {
   "cell_type": "code",
   "execution_count": 42,
   "metadata": {},
   "outputs": [
    {
     "name": "stdout",
     "output_type": "stream",
     "text": [
      "tup before:  ([],)\n"
     ]
    },
    {
     "ename": "TypeError",
     "evalue": "'tuple' object does not support item assignment",
     "output_type": "error",
     "traceback": [
      "\u001b[0;31m---------------------------------------------------------------------------\u001b[0m\n\u001b[0;31mTypeError\u001b[0m                                 Traceback (most recent call last)",
      "\u001b[0;32m<ipython-input-42-aebe9a31dbeb>\u001b[0m in \u001b[0;36m<module>\u001b[0;34m()\u001b[0m\n\u001b[1;32m      1\u001b[0m \u001b[0mtup\u001b[0m \u001b[0;34m=\u001b[0m \u001b[0;34m(\u001b[0m\u001b[0;34m[\u001b[0m\u001b[0;34m]\u001b[0m\u001b[0;34m,\u001b[0m\u001b[0;34m)\u001b[0m\u001b[0;34m\u001b[0m\u001b[0m\n\u001b[1;32m      2\u001b[0m \u001b[0mprint\u001b[0m\u001b[0;34m(\u001b[0m\u001b[0;34m'tup before: '\u001b[0m\u001b[0;34m,\u001b[0m \u001b[0mtup\u001b[0m\u001b[0;34m)\u001b[0m\u001b[0;34m\u001b[0m\u001b[0m\n\u001b[0;32m----> 3\u001b[0;31m \u001b[0mtup\u001b[0m\u001b[0;34m[\u001b[0m\u001b[0;36m0\u001b[0m\u001b[0;34m]\u001b[0m \u001b[0;34m+=\u001b[0m \u001b[0;34m[\u001b[0m\u001b[0;36m1\u001b[0m\u001b[0;34m]\u001b[0m\u001b[0;34m\u001b[0m\u001b[0m\n\u001b[0m",
      "\u001b[0;31mTypeError\u001b[0m: 'tuple' object does not support item assignment"
     ]
    }
   ],
   "source": [
    "tup = ([],)\n",
    "print('tup before: ', tup)\n",
    "tup[0] += [1]"
   ]
  },
  {
   "cell_type": "code",
   "execution_count": 43,
   "metadata": {},
   "outputs": [
    {
     "name": "stdout",
     "output_type": "stream",
     "text": [
      "tup after:  ([1],)\n"
     ]
    }
   ],
   "source": [
    "print('tup after: ', tup)"
   ]
  },
  {
   "cell_type": "markdown",
   "metadata": {},
   "source": [
    "<br>\n",
    "<br>\n",
    "However, **there are ways** to modify the mutable contents of the tuple without raising the `TypeError`, the solution is the `.extend()` method, or alternatively `.append()` (for lists):"
   ]
  },
  {
   "cell_type": "code",
   "execution_count": 44,
   "metadata": {},
   "outputs": [
    {
     "name": "stdout",
     "output_type": "stream",
     "text": [
      "tup before:  ([],)\n",
      "tup after:  ([1],)\n"
     ]
    }
   ],
   "source": [
    "tup = ([],)\n",
    "print('tup before: ', tup)\n",
    "tup[0].extend([1])\n",
    "print('tup after: ', tup)"
   ]
  },
  {
   "cell_type": "code",
   "execution_count": 5,
   "metadata": {},
   "outputs": [
    {
     "name": "stdout",
     "output_type": "stream",
     "text": [
      "tup before:  ([],)\n",
      "tup after:  ([1],)\n"
     ]
    }
   ],
   "source": [
    "tup = ([],)\n",
    "print('tup before: ', tup)\n",
    "tup[0].append(1)\n",
    "print('tup after: ', tup)"
   ]
  },
  {
   "cell_type": "markdown",
   "metadata": {},
   "source": [
    "### Explanation\n",
    "\n",
    "**A. Jesse Jiryu Davis** has a nice explanation for this phenomenon (Original source: [http://emptysqua.re/blog/python-increment-is-weird-part-ii/](http://emptysqua.re/blog/python-increment-is-weird-part-ii/))\n",
    "\n",
    "If we try to extend the list via `+=` *\"then the statement executes `STORE_SUBSCR`, which calls the C function `PyObject_SetItem`, which checks if the object supports item assignment. In our case the object is a tuple, so `PyObject_SetItem` throws the `TypeError`. Mystery solved.\"*"
   ]
  },
  {
   "cell_type": "markdown",
   "metadata": {},
   "source": [
    "#### One more note about the `immutable` status of tuples. Tuples are famous for being immutable. However, how comes that this code works?"
   ]
  },
  {
   "cell_type": "code",
   "execution_count": 6,
   "metadata": {},
   "outputs": [
    {
     "name": "stdout",
     "output_type": "stream",
     "text": [
      "(1, 4, 5)\n"
     ]
    }
   ],
   "source": [
    "my_tup = (1,)\n",
    "my_tup += (4,)\n",
    "my_tup = my_tup + (5,)\n",
    "print(my_tup)"
   ]
  },
  {
   "cell_type": "markdown",
   "metadata": {},
   "source": [
    "What happens \"behind\" the curtains is that the tuple is not modified, but every time a new object is generated, which will inherit the old \"name tag\":"
   ]
  },
  {
   "cell_type": "code",
   "execution_count": 8,
   "metadata": {},
   "outputs": [
    {
     "name": "stdout",
     "output_type": "stream",
     "text": [
      "4337381840\n",
      "4357415496\n",
      "4357289952\n"
     ]
    }
   ],
   "source": [
    "my_tup = (1,)\n",
    "print(id(my_tup))\n",
    "my_tup += (4,)\n",
    "print(id(my_tup))\n",
    "my_tup = my_tup + (5,)\n",
    "print(id(my_tup))"
   ]
  },
  {
   "cell_type": "markdown",
   "metadata": {},
   "source": [
    "<br>\n",
    "<br>\n",
    "<a name='list_generator'></a>\n"
   ]
  },
  {
   "cell_type": "markdown",
   "metadata": {},
   "source": [
    "## List comprehensions are fast, but generators are faster!?"
   ]
  },
  {
   "cell_type": "markdown",
   "metadata": {},
   "source": [
    "[[back to top](#sections)]"
   ]
  },
  {
   "cell_type": "markdown",
   "metadata": {},
   "source": [
    "\"List comprehensions are fast, but generators are faster!?\" - No, not really (or significantly, see the benchmarks below). So what's the reason to prefer one over the other?\n",
    "- use lists if you want to use the plethora of list methods  \n",
    "- use generators when you are dealing with huge collections to avoid memory issues"
   ]
  },
  {
   "cell_type": "code",
   "execution_count": 11,
   "metadata": {},
   "outputs": [],
   "source": [
    "import timeit\n",
    "\n",
    "def plainlist(n=100000):\n",
    "    my_list = []\n",
    "    for i in range(n):\n",
    "        if i % 5 == 0:\n",
    "            my_list.append(i)\n",
    "    return my_list\n",
    "\n",
    "def listcompr(n=100000):\n",
    "    my_list = [i for i in range(n) if i % 5 == 0]\n",
    "    return my_list\n",
    "\n",
    "def generator(n=100000):\n",
    "    my_gen = (i for i in range(n) if i % 5 == 0)\n",
    "    return my_gen\n",
    "\n",
    "def generator_yield(n=100000):\n",
    "    for i in range(n):\n",
    "        if i % 5 == 0:\n",
    "            yield i"
   ]
  },
  {
   "cell_type": "markdown",
   "metadata": {},
   "source": [
    "#### To be fair to the list, let us exhaust the generators:"
   ]
  },
  {
   "cell_type": "code",
   "execution_count": 13,
   "metadata": {},
   "outputs": [
    {
     "name": "stdout",
     "output_type": "stream",
     "text": [
      "plain_list:     10 loops, best of 3: 22.4 ms per loop\n",
      "\n",
      "listcompr:     10 loops, best of 3: 20.8 ms per loop\n",
      "\n",
      "generator:     10 loops, best of 3: 22 ms per loop\n",
      "\n",
      "generator_yield:     10 loops, best of 3: 21.9 ms per loop\n"
     ]
    }
   ],
   "source": [
    "def test_plainlist(plain_list):\n",
    "    for i in plain_list():\n",
    "        pass\n",
    "\n",
    "def test_listcompr(listcompr):\n",
    "    for i in listcompr():\n",
    "        pass\n",
    "\n",
    "def test_generator(generator):\n",
    "    for i in generator():\n",
    "        pass\n",
    "\n",
    "def test_generator_yield(generator_yield):\n",
    "    for i in generator_yield():\n",
    "        pass\n",
    "\n",
    "print('plain_list:     ', end = '')\n",
    "%timeit test_plainlist(plainlist)\n",
    "print('\\nlistcompr:     ', end = '')\n",
    "%timeit test_listcompr(listcompr)\n",
    "print('\\ngenerator:     ', end = '')\n",
    "%timeit test_generator(generator)\n",
    "print('\\ngenerator_yield:     ', end = '')\n",
    "%timeit test_generator_yield(generator_yield)"
   ]
  },
  {
   "cell_type": "markdown",
   "metadata": {},
   "source": [
    "<br>\n",
    "<br>\n",
    "<a name='private_class'></a>"
   ]
  },
  {
   "cell_type": "markdown",
   "metadata": {},
   "source": [
    "## Public vs. private class methods and name mangling\n",
    "\n"
   ]
  },
  {
   "cell_type": "markdown",
   "metadata": {},
   "source": [
    "[[back to top](#sections)]"
   ]
  },
  {
   "cell_type": "markdown",
   "metadata": {},
   "source": [
    "Who has not stumbled across this quote \"we are all consenting adults here\" in the Python community, yet? Unlike in other languages like C++ (sorry, there are many more, but that's one I am most familiar with), we can't really protect class methods from being used outside the class (i.e., by the API user).  \n",
    "All we can do is to indicate methods as private to make clear that they are better not used outside the class, but it is really up to the class user, since \"we are all consenting adults here\"!  \n",
    "So, when we want to mark a class method as private, we can put a single underscore in front of it.  \n",
    "If we additionally want to avoid name clashes with other classes that might use the same method names, we can prefix the name with a double-underscore to invoke the name mangling.\n",
    "\n",
    "This doesn't prevent the class user to access this class member though, but he has to know the trick and also knows that it his own risk...\n",
    "\n",
    "Let the following example illustrate what I mean:"
   ]
  },
  {
   "cell_type": "code",
   "execution_count": 11,
   "metadata": {},
   "outputs": [
    {
     "name": "stdout",
     "output_type": "stream",
     "text": [
      "Hello public world!\n",
      "Hello private world!\n",
      "Hello private world!\n"
     ]
    }
   ],
   "source": [
    "class my_class():\n",
    "    def public_method(self):\n",
    "        print('Hello public world!')\n",
    "    def __private_method(self):\n",
    "        print('Hello private world!')\n",
    "    def call_private_method_in_class(self):\n",
    "        self.__private_method()\n",
    "        \n",
    "my_instance = my_class()\n",
    "\n",
    "my_instance.public_method()\n",
    "my_instance._my_class__private_method()\n",
    "my_instance.call_private_method_in_class()"
   ]
  },
  {
   "cell_type": "markdown",
   "metadata": {},
   "source": [
    "<br>\n",
    "<br>\n",
    "<a name='looping_pitfall'></a>"
   ]
  },
  {
   "cell_type": "markdown",
   "metadata": {},
   "source": [
    "## The consequences of modifying a list when looping through it"
   ]
  },
  {
   "cell_type": "markdown",
   "metadata": {},
   "source": [
    "[[back to top](#sections)]"
   ]
  },
  {
   "cell_type": "markdown",
   "metadata": {},
   "source": [
    "It can be really dangerous to modify a list when iterating through it - this is a very common pitfall that can cause unintended behavior!  \n",
    "Look at the following examples, and for a fun exercise: try to figure out what is going on before you skip to the solution!"
   ]
  },
  {
   "cell_type": "code",
   "execution_count": 3,
   "metadata": {},
   "outputs": [
    {
     "name": "stdout",
     "output_type": "stream",
     "text": [
      "[1, 3, 5]\n"
     ]
    }
   ],
   "source": [
    "a = [1, 2, 3, 4, 5]\n",
    "for i in a:\n",
    "    if not i % 2:\n",
    "        a.remove(i)\n",
    "print(a)"
   ]
  },
  {
   "cell_type": "code",
   "execution_count": 4,
   "metadata": {},
   "outputs": [
    {
     "name": "stdout",
     "output_type": "stream",
     "text": [
      "[4, 5]\n"
     ]
    }
   ],
   "source": [
    "b = [2, 4, 5, 6]\n",
    "for i in b:\n",
    "     if not i % 2:\n",
    "         b.remove(i)\n",
    "print(b)"
   ]
  },
  {
   "cell_type": "markdown",
   "metadata": {},
   "source": [
    "<br>\n",
    "<br>\n",
    "**The solution** is that we are iterating through the list index by index, and if we remove one of the items in-between, we inevitably mess around with the indexing, look at the following example, and it will become clear:"
   ]
  },
  {
   "cell_type": "code",
   "execution_count": 7,
   "metadata": {},
   "outputs": [
    {
     "name": "stdout",
     "output_type": "stream",
     "text": [
      "0 2\n",
      "1 5\n",
      "2 6\n",
      "[4, 5]\n"
     ]
    }
   ],
   "source": [
    "b = [2, 4, 5, 6]\n",
    "for index, item in enumerate(b):\n",
    "    print(index, item)\n",
    "    if not item % 2:\n",
    "        b.remove(item)\n",
    "print(b)"
   ]
  },
  {
   "cell_type": "markdown",
   "metadata": {},
   "source": [
    "<br>\n",
    "<br>\n",
    "<a name='dynamic_binding'></a>"
   ]
  },
  {
   "cell_type": "markdown",
   "metadata": {},
   "source": [
    "## Dynamic binding and typos in variable names\n"
   ]
  },
  {
   "cell_type": "markdown",
   "metadata": {},
   "source": [
    "[[back to top](#sections)]"
   ]
  },
  {
   "cell_type": "markdown",
   "metadata": {},
   "source": [
    "Be careful, dynamic binding is convenient, but can also quickly become dangerous!"
   ]
  },
  {
   "cell_type": "code",
   "execution_count": 14,
   "metadata": {},
   "outputs": [
    {
     "name": "stdout",
     "output_type": "stream",
     "text": [
      "first list:\n",
      "0\n",
      "1\n",
      "2\n",
      "\n",
      "second list:\n",
      "2\n",
      "2\n",
      "2\n"
     ]
    }
   ],
   "source": [
    "print('first list:')\n",
    "for i in range(3):\n",
    "    print(i)\n",
    "    \n",
    "print('\\nsecond list:')\n",
    "for j in range(3):\n",
    "    print(i) # I (intentionally) made typo here!"
   ]
  },
  {
   "cell_type": "markdown",
   "metadata": {},
   "source": [
    "<br>\n",
    "<br>\n",
    "<a name='out_of_range_slicing'></a>"
   ]
  },
  {
   "cell_type": "markdown",
   "metadata": {},
   "source": [
    "\n",
    "## List slicing using indexes that are \"out of range\""
   ]
  },
  {
   "cell_type": "markdown",
   "metadata": {},
   "source": [
    "[[back to top](#sections)]"
   ]
  },
  {
   "cell_type": "markdown",
   "metadata": {},
   "source": [
    "As we have all encountered it 1 (x10000) time(s) in our live, the infamous `IndexError`:"
   ]
  },
  {
   "cell_type": "code",
   "execution_count": 15,
   "metadata": {},
   "outputs": [
    {
     "ename": "IndexError",
     "evalue": "list index out of range",
     "output_type": "error",
     "traceback": [
      "\u001b[0;31m---------------------------------------------------------------------------\u001b[0m\n\u001b[0;31mIndexError\u001b[0m                                Traceback (most recent call last)",
      "\u001b[0;32m<ipython-input-15-eb273dc36fdc>\u001b[0m in \u001b[0;36m<module>\u001b[0;34m()\u001b[0m\n\u001b[1;32m      1\u001b[0m \u001b[0mmy_list\u001b[0m \u001b[0;34m=\u001b[0m \u001b[0;34m[\u001b[0m\u001b[0;36m1\u001b[0m\u001b[0;34m,\u001b[0m \u001b[0;36m2\u001b[0m\u001b[0;34m,\u001b[0m \u001b[0;36m3\u001b[0m\u001b[0;34m,\u001b[0m \u001b[0;36m4\u001b[0m\u001b[0;34m,\u001b[0m \u001b[0;36m5\u001b[0m\u001b[0;34m]\u001b[0m\u001b[0;34m\u001b[0m\u001b[0m\n\u001b[0;32m----> 2\u001b[0;31m \u001b[0mprint\u001b[0m\u001b[0;34m(\u001b[0m\u001b[0mmy_list\u001b[0m\u001b[0;34m[\u001b[0m\u001b[0;36m5\u001b[0m\u001b[0;34m]\u001b[0m\u001b[0;34m)\u001b[0m\u001b[0;34m\u001b[0m\u001b[0m\n\u001b[0m",
      "\u001b[0;31mIndexError\u001b[0m: list index out of range"
     ]
    }
   ],
   "source": [
    "my_list = [1, 2, 3, 4, 5]\n",
    "print(my_list[5])"
   ]
  },
  {
   "cell_type": "markdown",
   "metadata": {},
   "source": [
    "But suprisingly, it is not raised when we are doing list slicing, which can be a really pain for debugging:"
   ]
  },
  {
   "cell_type": "code",
   "execution_count": 16,
   "metadata": {},
   "outputs": [
    {
     "name": "stdout",
     "output_type": "stream",
     "text": [
      "[]\n"
     ]
    }
   ],
   "source": [
    "my_list = [1, 2, 3, 4, 5]\n",
    "print(my_list[5:])"
   ]
  },
  {
   "cell_type": "markdown",
   "metadata": {},
   "source": [
    "<br>\n",
    "<br>\n",
    "<a name='unboundlocalerror'></a>"
   ]
  },
  {
   "cell_type": "markdown",
   "metadata": {},
   "source": [
    "\n",
    "## Reusing global variable names and `UnboundLocalErrors`"
   ]
  },
  {
   "cell_type": "markdown",
   "metadata": {},
   "source": [
    "[[back to top](#sections)]"
   ]
  },
  {
   "cell_type": "markdown",
   "metadata": {},
   "source": [
    "Usually, it is no problem to access global variables in the local scope of a function:"
   ]
  },
  {
   "cell_type": "code",
   "execution_count": 37,
   "metadata": {},
   "outputs": [
    {
     "name": "stdout",
     "output_type": "stream",
     "text": [
      "global\n"
     ]
    }
   ],
   "source": [
    "def my_func():\n",
    "    print(var)\n",
    "\n",
    "var = 'global'\n",
    "my_func()"
   ]
  },
  {
   "cell_type": "markdown",
   "metadata": {},
   "source": [
    "And is also no problem to use the same variable name in the local scope without affecting the local counterpart: "
   ]
  },
  {
   "cell_type": "code",
   "execution_count": 38,
   "metadata": {},
   "outputs": [
    {
     "name": "stdout",
     "output_type": "stream",
     "text": [
      "global\n"
     ]
    }
   ],
   "source": [
    "def my_func():\n",
    "    var = 'locally changed'\n",
    "\n",
    "var = 'global'\n",
    "my_func()\n",
    "print(var)"
   ]
  },
  {
   "cell_type": "markdown",
   "metadata": {},
   "source": [
    "But we have to be careful if we use a variable name that occurs in the global scope, and we want to access it in the local function scope if we want to reuse this name:"
   ]
  },
  {
   "cell_type": "code",
   "execution_count": 40,
   "metadata": {},
   "outputs": [
    {
     "ename": "UnboundLocalError",
     "evalue": "local variable 'var' referenced before assignment",
     "output_type": "error",
     "traceback": [
      "\u001b[0;31m---------------------------------------------------------------------------\u001b[0m\n\u001b[0;31mUnboundLocalError\u001b[0m                         Traceback (most recent call last)",
      "\u001b[0;32m<ipython-input-40-3afd870b7c35>\u001b[0m in \u001b[0;36m<module>\u001b[0;34m()\u001b[0m\n\u001b[1;32m      4\u001b[0m \u001b[0;34m\u001b[0m\u001b[0m\n\u001b[1;32m      5\u001b[0m \u001b[0mvar\u001b[0m \u001b[0;34m=\u001b[0m \u001b[0;34m'global'\u001b[0m\u001b[0;34m\u001b[0m\u001b[0m\n\u001b[0;32m----> 6\u001b[0;31m \u001b[0mmy_func\u001b[0m\u001b[0;34m(\u001b[0m\u001b[0;34m)\u001b[0m\u001b[0;34m\u001b[0m\u001b[0m\n\u001b[0m",
      "\u001b[0;32m<ipython-input-40-3afd870b7c35>\u001b[0m in \u001b[0;36mmy_func\u001b[0;34m()\u001b[0m\n\u001b[1;32m      1\u001b[0m \u001b[0;32mdef\u001b[0m \u001b[0mmy_func\u001b[0m\u001b[0;34m(\u001b[0m\u001b[0;34m)\u001b[0m\u001b[0;34m:\u001b[0m\u001b[0;34m\u001b[0m\u001b[0m\n\u001b[0;32m----> 2\u001b[0;31m     \u001b[0mprint\u001b[0m\u001b[0;34m(\u001b[0m\u001b[0mvar\u001b[0m\u001b[0;34m)\u001b[0m \u001b[0;31m# want to access global variable\u001b[0m\u001b[0;34m\u001b[0m\u001b[0m\n\u001b[0m\u001b[1;32m      3\u001b[0m     \u001b[0mvar\u001b[0m \u001b[0;34m=\u001b[0m \u001b[0;34m'locally changed'\u001b[0m\u001b[0;34m\u001b[0m\u001b[0m\n\u001b[1;32m      4\u001b[0m \u001b[0;34m\u001b[0m\u001b[0m\n\u001b[1;32m      5\u001b[0m \u001b[0mvar\u001b[0m \u001b[0;34m=\u001b[0m \u001b[0;34m'global'\u001b[0m\u001b[0;34m\u001b[0m\u001b[0m\n",
      "\u001b[0;31mUnboundLocalError\u001b[0m: local variable 'var' referenced before assignment"
     ]
    }
   ],
   "source": [
    "def my_func():\n",
    "    print(var) # want to access global variable\n",
    "    var = 'locally changed' # but Python thinks we forgot to define the local variable!\n",
    "    \n",
    "var = 'global'\n",
    "my_func()"
   ]
  },
  {
   "cell_type": "markdown",
   "metadata": {},
   "source": [
    "In this case, we have to use the `global` keyword!"
   ]
  },
  {
   "cell_type": "code",
   "execution_count": 43,
   "metadata": {},
   "outputs": [
    {
     "name": "stdout",
     "output_type": "stream",
     "text": [
      "global\n",
      "locally changed\n"
     ]
    }
   ],
   "source": [
    "def my_func():\n",
    "    global var\n",
    "    print(var) # want to access global variable\n",
    "    var = 'locally changed' # changes the gobal variable\n",
    "\n",
    "var = 'global'\n",
    "\n",
    "my_func()\n",
    "print(var)"
   ]
  },
  {
   "cell_type": "markdown",
   "metadata": {},
   "source": [
    "<br>\n",
    "<br>\n",
    "<a name='copy_mutable'></a>"
   ]
  },
  {
   "cell_type": "markdown",
   "metadata": {},
   "source": [
    "## Creating copies of mutable objects\n",
    "\n"
   ]
  },
  {
   "cell_type": "markdown",
   "metadata": {},
   "source": [
    "[[back to top](#sections)]"
   ]
  },
  {
   "cell_type": "markdown",
   "metadata": {},
   "source": [
    "Let's assume a scenario where we want to duplicate sub`list`s of values stored in another list. If we want to create independent sub`list` object, using the arithmetic multiplication operator could lead to rather unexpected (or undesired) results:"
   ]
  },
  {
   "cell_type": "code",
   "execution_count": 24,
   "metadata": {},
   "outputs": [
    {
     "name": "stdout",
     "output_type": "stream",
     "text": [
      "initially --->  [[1, 2, 3], [1, 2, 3]]\n",
      "after my_list1[1][0] = 'a' --->  [['a', 2, 3], ['a', 2, 3]]\n"
     ]
    }
   ],
   "source": [
    "my_list1 = [[1, 2, 3]] * 2\n",
    "\n",
    "print('initially ---> ', my_list1)\n",
    "\n",
    "# modify the 1st element of the 2nd sublist\n",
    "my_list1[1][0] = 'a'\n",
    "print(\"after my_list1[1][0] = 'a' ---> \", my_list1)"
   ]
  },
  {
   "cell_type": "markdown",
   "metadata": {},
   "source": [
    "<br>\n",
    "<br>\n",
    "In this case, we should better create \"new\" objects:"
   ]
  },
  {
   "cell_type": "code",
   "execution_count": 25,
   "metadata": {},
   "outputs": [
    {
     "name": "stdout",
     "output_type": "stream",
     "text": [
      "initially:  --->  [[1, 2, 3], [1, 2, 3]]\n",
      "after my_list2[1][0] = 'a':  --->  [[1, 2, 3], ['a', 2, 3]]\n"
     ]
    }
   ],
   "source": [
    "my_list2 = [[1, 2, 3] for i in range(2)]\n",
    "\n",
    "print('initially:  ---> ', my_list2)\n",
    "\n",
    "# modify the 1st element of the 2nd sublist\n",
    "my_list2[1][0] = 'a'\n",
    "print(\"after my_list2[1][0] = 'a':  ---> \", my_list2)"
   ]
  },
  {
   "cell_type": "markdown",
   "metadata": {},
   "source": [
    "<br>\n",
    "And here is the proof:"
   ]
  },
  {
   "cell_type": "code",
   "execution_count": 26,
   "metadata": {},
   "outputs": [
    {
     "name": "stdout",
     "output_type": "stream",
     "text": [
      "id my_list1: 4350764680, id my_list2: 4350766472\n",
      "id my_list1: 4350764680, id my_list2: 4350766664\n"
     ]
    }
   ],
   "source": [
    "for a,b in zip(my_list1, my_list2):\n",
    "    print('id my_list1: {}, id my_list2: {}'.format(id(a), id(b)))"
   ]
  },
  {
   "cell_type": "markdown",
   "metadata": {},
   "source": [
    "<br>\n",
    "<br>\n",
    "<a name='python_differences'></a>"
   ]
  },
  {
   "cell_type": "markdown",
   "metadata": {},
   "source": [
    "\n",
    "## Key differences between Python 2 and 3\n",
    "\n"
   ]
  },
  {
   "cell_type": "markdown",
   "metadata": {},
   "source": [
    "[[back to top](#sections)]"
   ]
  },
  {
   "cell_type": "markdown",
   "metadata": {},
   "source": [
    "There are some good articles already that are summarizing the differences between Python 2 and 3, e.g.,  \n",
    "- [https://wiki.python.org/moin/Python2orPython3](https://wiki.python.org/moin/Python2orPython3)\n",
    "- [https://docs.python.org/3.0/whatsnew/3.0.html](https://docs.python.org/3.0/whatsnew/3.0.html)\n",
    "- [http://python3porting.com/differences.html](http://python3porting.com/differences.html)\n",
    "- [https://docs.python.org/3/howto/pyporting.html](https://docs.python.org/3/howto/pyporting.html)  \n",
    "etc.\n",
    "\n",
    "But it might be still worthwhile, especially for Python newcomers, to take a look at some of those!\n",
    "(Note: the the code was executed in Python 3.4.0 and Python 2.7.5 and copied from interactive shell sessions.)"
   ]
  },
  {
   "cell_type": "markdown",
   "metadata": {},
   "source": [
    "<a id='py23_overview'></a>"
   ]
  },
  {
   "cell_type": "markdown",
   "metadata": {},
   "source": [
    "### Overview - Key differences between Python 2 and 3"
   ]
  },
  {
   "cell_type": "markdown",
   "metadata": {},
   "source": [
    "\n",
    "\n",
    "- [Unicode](#unicode)\n",
    "- [The print statement](#print)\n",
    "- [Integer division](#integer_div)\n",
    "- [xrange()](#xrange)\n",
    "- [Raising exceptions](#raising_exceptions)\n",
    "- [Handling exceptions](#handling_exceptions)\n",
    "- [next() function and .next() method](#next_next)\n",
    "- [Loop variables and leaking into the global scope](#loop_leak)\n",
    "- [Comparing unorderable types](#compare_unorder)\n",
    "\n",
    "<br>\n",
    "<br>\n",
    "\n"
   ]
  },
  {
   "cell_type": "markdown",
   "metadata": {},
   "source": [
    "<a id='unicode'></a>\n",
    "<br>\n",
    "<br>"
   ]
  },
  {
   "cell_type": "markdown",
   "metadata": {},
   "source": [
    "### Unicode..."
   ]
  },
  {
   "cell_type": "markdown",
   "metadata": {},
   "source": [
    "[[back to Python 2.x vs 3.x overview](#py23_overview)]"
   ]
  },
  {
   "cell_type": "markdown",
   "metadata": {},
   "source": [
    "\n",
    "####- Python 2: \n",
    "We have ASCII `str()` types, separate `unicode()`, but no `byte` type\n",
    "####- Python 3: \n",
    "Now, we finally have Unicode (utf-8) `str`ings, and 2 byte classes: `byte` and `bytearray`s"
   ]
  },
  {
   "cell_type": "code",
   "execution_count": null,
   "metadata": {},
   "outputs": [],
   "source": [
    "#############\n",
    "# Python 2\n",
    "#############\n",
    "\n",
    ">>> type(unicode('is like a python3 str()'))\n",
    "<type 'unicode'>\n",
    "\n",
    ">>> type(b'byte type does not exist')\n",
    "<type 'str'>\n",
    "\n",
    ">>> 'they are really' + b' the same'\n",
    "'they are really the same'\n",
    "\n",
    ">>> type(bytearray(b'bytearray oddly does exist though'))\n",
    "<type 'bytearray'>\n",
    "\n",
    "#############\n",
    "# Python 3\n",
    "#############\n",
    "\n",
    ">>> print('strings are now utf-8 \\u03BCnico\\u0394é!')\n",
    "strings are now utf-8 μnicoΔé!\n",
    "\n",
    "\n",
    ">>> type(b' and we have byte types for storing data')\n",
    "<class 'bytes'>\n",
    "\n",
    ">>> type(bytearray(b'but also bytearrays for those who prefer them over strings'))\n",
    "<class 'bytearray'>\n",
    "\n",
    ">>> 'string' + b'bytes for data'\n",
    "Traceback (most recent call last):s\n",
    "  File \"<stdin>\", line 1, in <module>\n",
    "TypeError: Can't convert 'bytes' object to str implicitly"
   ]
  },
  {
   "cell_type": "markdown",
   "metadata": {},
   "source": [
    "<a id='print'></a>\n",
    "<br>\n",
    "<br>"
   ]
  },
  {
   "cell_type": "markdown",
   "metadata": {},
   "source": [
    "### The print statement"
   ]
  },
  {
   "cell_type": "markdown",
   "metadata": {},
   "source": [
    "[[back to Python 2.x vs 3.x overview](#py23_overview)]"
   ]
  },
  {
   "cell_type": "markdown",
   "metadata": {},
   "source": [
    "Very trivial, but this change makes sense, Python 3 now only accepts `print`s with proper parentheses - just like the other function calls ..."
   ]
  },
  {
   "cell_type": "code",
   "execution_count": null,
   "metadata": {},
   "outputs": [],
   "source": [
    "# Python 2\n",
    ">>> print 'Hello, World!'\n",
    "Hello, World!\n",
    ">>> print('Hello, World!')\n",
    "Hello, World!\n",
    "\n",
    "# Python 3\n",
    ">>> print('Hello, World!')\n",
    "Hello, World!\n",
    ">>> print 'Hello, World!'\n",
    "  File \"<stdin>\", line 1\n",
    "    print 'Hello, World!'\n",
    "                        ^\n",
    "SyntaxError: invalid syntax"
   ]
  },
  {
   "cell_type": "markdown",
   "metadata": {},
   "source": [
    "And if we want to print the output of 2 consecutive print functions on the same line, you would use a comma in Python 2, and a `end=\"\"` in Python 3:"
   ]
  },
  {
   "cell_type": "code",
   "execution_count": null,
   "metadata": {},
   "outputs": [],
   "source": [
    "# Python 2\n",
    ">>> print \"line 1\", ; print 'same line'\n",
    "line 1 same line\n",
    "\n",
    "# Python 3\n",
    ">>> print(\"line 1\", end=\"\") ; print (\" same line\")\n",
    "line 1 same line"
   ]
  },
  {
   "cell_type": "markdown",
   "metadata": {},
   "source": [
    "<a id='integer_div'></a>\n",
    "<br>\n",
    "<br>"
   ]
  },
  {
   "cell_type": "markdown",
   "metadata": {},
   "source": [
    "### Integer division"
   ]
  },
  {
   "cell_type": "markdown",
   "metadata": {},
   "source": [
    "[[back to Python 2.x vs 3.x overview](#py23_overview)]"
   ]
  },
  {
   "cell_type": "markdown",
   "metadata": {},
   "source": [
    "This is a pretty dangerous thing if you are porting code, or executing Python 3 code in Python 2 since the change in integer-division behavior can often go unnoticed.  \n",
    "So, I still tend to use a `float(3)/2` or `3/2.0` instead of a `3/2` in my Python 3 scripts to save the Python 2 guys some trouble ... (PS: and vice versa, you can `from __future__ import division` in your Python 2 scripts)."
   ]
  },
  {
   "cell_type": "code",
   "execution_count": null,
   "metadata": {},
   "outputs": [],
   "source": [
    "# Python 2\n",
    ">>> 3 / 2\n",
    "1\n",
    ">>> 3 // 2\n",
    "1\n",
    ">>> 3 / 2.0\n",
    "1.5\n",
    ">>> 3 // 2.0\n",
    "1.0\n",
    "\n",
    "# Python 3\n",
    ">>> 3 / 2\n",
    "1.5\n",
    ">>> 3 // 2\n",
    "1\n",
    ">>> 3 / 2.0\n",
    "1.5\n",
    ">>> 3 // 2.0\n",
    "1.0"
   ]
  },
  {
   "cell_type": "markdown",
   "metadata": {},
   "source": [
    "<a id='xrange'></a>\n",
    "<br>\n",
    "<br>"
   ]
  },
  {
   "cell_type": "markdown",
   "metadata": {},
   "source": [
    "###`xrange()` "
   ]
  },
  {
   "cell_type": "markdown",
   "metadata": {},
   "source": [
    "[[back to Python 2.x vs 3.x overview](#py23_overview)]"
   ]
  },
  {
   "cell_type": "markdown",
   "metadata": {},
   "source": [
    " \n",
    "`xrange()` was pretty popular in Python 2.x if you wanted to create an iterable object. The behavior was quite similar to a generator ('lazy evaluation'), but you could iterate over it infinitely. The advantage was that it was generally faster than `range()` (e.g., in a for-loop) - not if you had to iterate over the list multiple times, since the generation happens every time from scratch!  \n",
    "In Python 3, the `range()` was implemented like the `xrange()` function so that a dedicated `xrange()` function does not exist anymore."
   ]
  },
  {
   "cell_type": "code",
   "execution_count": null,
   "metadata": {},
   "outputs": [],
   "source": [
    "# Python 2\n",
    "> python -m timeit 'for i in range(1000000):' ' pass'\n",
    "10 loops, best of 3: 66 msec per loop\n",
    "\n",
    "    > python -m timeit 'for i in xrange(1000000):' ' pass'\n",
    "10 loops, best of 3: 27.8 msec per loop\n",
    "\n",
    "# Python 3\n",
    "> python3 -m timeit 'for i in range(1000000):' ' pass'\n",
    "10 loops, best of 3: 51.1 msec per loop\n",
    "\n",
    "> python3 -m timeit 'for i in xrange(1000000):' ' pass'\n",
    "Traceback (most recent call last):\n",
    "  File \"/Library/Frameworks/Python.framework/Versions/3.4/lib/python3.4/timeit.py\", line 292, in main\n",
    "    x = t.timeit(number)\n",
    "  File \"/Library/Frameworks/Python.framework/Versions/3.4/lib/python3.4/timeit.py\", line 178, in timeit\n",
    "    timing = self.inner(it, self.timer)\n",
    "  File \"<timeit-src>\", line 6, in inner\n",
    "    for i in xrange(1000000):\n",
    "NameError: name 'xrange' is not defined"
   ]
  },
  {
   "cell_type": "markdown",
   "metadata": {},
   "source": [
    "<a id='raising_exceptions'></a>\n",
    "<br>\n",
    "<br>"
   ]
  },
  {
   "cell_type": "markdown",
   "metadata": {},
   "source": [
    "### Raising exceptions"
   ]
  },
  {
   "cell_type": "markdown",
   "metadata": {},
   "source": [
    "[[back to Python 2.x vs 3.x overview](#py23_overview)]"
   ]
  },
  {
   "cell_type": "markdown",
   "metadata": {},
   "source": [
    "\n",
    "\n",
    "Where Python 2 accepts both notations, the 'old' and the 'new' way, Python 3 chokes (and raises a `SyntaxError` in turn) if we don't enclose the exception argument in parentheses:"
   ]
  },
  {
   "cell_type": "code",
   "execution_count": null,
   "metadata": {},
   "outputs": [],
   "source": [
    "# Python 2\n",
    ">>> raise IOError, \"file error\"\n",
    "Traceback (most recent call last):\n",
    "  File \"<stdin>\", line 1, in <module>\n",
    "IOError: file error\n",
    ">>> raise IOError(\"file error\")\n",
    "Traceback (most recent call last):\n",
    "  File \"<stdin>\", line 1, in <module>\n",
    "IOError: file error\n",
    "\n",
    "    \n",
    "# Python 3    \n",
    ">>> raise IOError, \"file error\"\n",
    "  File \"<stdin>\", line 1\n",
    "    raise IOError, \"file error\"\n",
    "                 ^\n",
    "SyntaxError: invalid syntax\n",
    ">>> raise IOError(\"file error\")\n",
    "Traceback (most recent call last):\n",
    "  File \"<stdin>\", line 1, in <module>\n",
    "OSError: file error"
   ]
  },
  {
   "cell_type": "markdown",
   "metadata": {},
   "source": [
    "<a id='handling_exceptions'></a>\n",
    "<br>\n",
    "<br>"
   ]
  },
  {
   "cell_type": "markdown",
   "metadata": {},
   "source": [
    "### Handling exceptions"
   ]
  },
  {
   "cell_type": "markdown",
   "metadata": {},
   "source": [
    "[[back to Python 2.x vs 3.x overview](#py23_overview)]"
   ]
  },
  {
   "cell_type": "markdown",
   "metadata": {},
   "source": [
    "\n",
    "\n",
    "Also the handling of exceptions has slightly changed in Python 3. Now, we have to use the `as` keyword!"
   ]
  },
  {
   "cell_type": "code",
   "execution_count": null,
   "metadata": {},
   "outputs": [],
   "source": [
    "# Python 2\n",
    ">>> try:\n",
    "...     blabla\n",
    "... except NameError, err:\n",
    "...     print err, '--> our error msg'\n",
    "... \n",
    "name 'blabla' is not defined --> our error msg\n",
    "\n",
    "# Python 3\n",
    ">>> try:\n",
    "...     blabla\n",
    "... except NameError as err:\n",
    "...     print(err, '--> our error msg')\n",
    "... \n",
    "name 'blabla' is not defined --> our error msg"
   ]
  },
  {
   "cell_type": "code",
   "execution_count": null,
   "metadata": {},
   "outputs": [],
   "source": [
    "<a id='next_next'></a>\n",
    "<br>\n",
    "<br>"
   ]
  },
  {
   "cell_type": "markdown",
   "metadata": {},
   "source": [
    "### The `next()` function and `.next()` method"
   ]
  },
  {
   "cell_type": "markdown",
   "metadata": {},
   "source": [
    "[[back to Python 2.x vs 3.x overview](#py23_overview)]"
   ]
  },
  {
   "cell_type": "markdown",
   "metadata": {},
   "source": [
    "\n",
    "\n",
    "Where you can use both function and method in Python 2.7.5, the `next()` function is all that remain in Python 3!"
   ]
  },
  {
   "cell_type": "code",
   "execution_count": null,
   "metadata": {},
   "outputs": [],
   "source": [
    "# Python 2\n",
    ">>> my_generator = (letter for letter in 'abcdefg')\n",
    ">>> my_generator.next()\n",
    "'a'\n",
    ">>> next(my_generator)\n",
    "'b'\n",
    "\n",
    "# Python 3\n",
    ">>> my_generator = (letter for letter in 'abcdefg')\n",
    ">>> next(my_generator)\n",
    "'a'\n",
    ">>> my_generator.next()\n",
    "Traceback (most recent call last):\n",
    "  File \"<stdin>\", line 1, in <module>\n",
    "AttributeError: 'generator' object has no attribute 'next'"
   ]
  },
  {
   "cell_type": "markdown",
   "metadata": {},
   "source": [
    "<a id='loop_leak'></a>\n",
    "<br>\n",
    "<br>"
   ]
  },
  {
   "cell_type": "markdown",
   "metadata": {},
   "source": [
    "### In Python 3.x for-loop variables don't leak into the global namespace anymore"
   ]
  },
  {
   "cell_type": "markdown",
   "metadata": {},
   "source": [
    "[[back to Python 2.x vs 3.x overview](#py23_overview)]"
   ]
  },
  {
   "cell_type": "markdown",
   "metadata": {},
   "source": [
    "This goes back to a change that was made in Python 3.x and is described in [What’s New In Python 3.0](https://docs.python.org/3/whatsnew/3.0.html) as follows:\n",
    "\n",
    "\"List comprehensions no longer support the syntactic form `[... for var in item1, item2, ...]`. Use `[... for var in (item1, item2, ...)]` instead. Also note that list comprehensions have different semantics: they are closer to syntactic sugar for a generator expression inside a `list()` constructor, and in particular the loop control variables are no longer leaked into the surrounding scope.\""
   ]
  },
  {
   "cell_type": "code",
   "execution_count": 4,
   "metadata": {},
   "outputs": [
    {
     "name": "stdout",
     "output_type": "stream",
     "text": [
      "This code cell was executed in Python 3.3.5\n",
      "[0, 1, 2, 3, 4]\n",
      "1 -> i in global\n"
     ]
    }
   ],
   "source": [
    "from platform import python_version\n",
    "print('This code cell was executed in Python', python_version())\n",
    "\n",
    "i = 1\n",
    "print([i for i in range(5)])\n",
    "print(i, '-> i in global')"
   ]
  },
  {
   "cell_type": "code",
   "execution_count": 9,
   "metadata": {},
   "outputs": [
    {
     "name": "stdout",
     "output_type": "stream",
     "text": [
      "This code cell was executed in Python 2.7.6\n",
      "[0, 1, 2, 3, 4]\n",
      "4 -> i in global\n"
     ]
    }
   ],
   "source": [
    "from platform import python_version\n",
    "print 'This code cell was executed in Python', python_version()\n",
    "\n",
    "i = 1\n",
    "print [i for i in range(5)]\n",
    "print i, '-> i in global' "
   ]
  },
  {
   "cell_type": "markdown",
   "metadata": {},
   "source": [
    "<a id='compare_unorder'></a>\n",
    "<br>\n",
    "<br>"
   ]
  },
  {
   "cell_type": "markdown",
   "metadata": {},
   "source": [
    "#### Python 3.x prevents us from comparing unorderable types"
   ]
  },
  {
   "cell_type": "markdown",
   "metadata": {},
   "source": [
    "[[back to Python 2.x vs 3.x overview](#py23_overview)]"
   ]
  },
  {
   "cell_type": "code",
   "execution_count": 8,
   "metadata": {},
   "outputs": [
    {
     "name": "stdout",
     "output_type": "stream",
     "text": [
      "This code cell was executed in Python 2.7.6\n",
      "False\n",
      "True\n",
      "False\n"
     ]
    }
   ],
   "source": [
    "from platform import python_version\n",
    "print 'This code cell was executed in Python', python_version()\n",
    "\n",
    "print [1, 2] > 'foo'\n",
    "print (1, 2) > 'foo'\n",
    "print [1, 2] > (1, 2)"
   ]
  },
  {
   "cell_type": "code",
   "execution_count": 3,
   "metadata": {},
   "outputs": [
    {
     "name": "stdout",
     "output_type": "stream",
     "text": [
      "This code cell was executed in Python 3.3.5\n"
     ]
    },
    {
     "ename": "TypeError",
     "evalue": "unorderable types: list() > str()",
     "output_type": "error",
     "traceback": [
      "\u001b[0;31m---------------------------------------------------------------------------\u001b[0m\n\u001b[0;31mTypeError\u001b[0m                                 Traceback (most recent call last)",
      "\u001b[0;32m<ipython-input-3-1d774c677f73>\u001b[0m in \u001b[0;36m<module>\u001b[0;34m()\u001b[0m\n\u001b[1;32m      2\u001b[0m \u001b[0mprint\u001b[0m\u001b[0;34m(\u001b[0m\u001b[0;34m'This code cell was executed in Python'\u001b[0m\u001b[0;34m,\u001b[0m \u001b[0mpython_version\u001b[0m\u001b[0;34m(\u001b[0m\u001b[0;34m)\u001b[0m\u001b[0;34m)\u001b[0m\u001b[0;34m\u001b[0m\u001b[0m\n\u001b[1;32m      3\u001b[0m \u001b[0;34m\u001b[0m\u001b[0m\n\u001b[0;32m----> 4\u001b[0;31m \u001b[0;34m[\u001b[0m\u001b[0;36m1\u001b[0m\u001b[0;34m,\u001b[0m \u001b[0;36m2\u001b[0m\u001b[0;34m]\u001b[0m \u001b[0;34m>\u001b[0m \u001b[0;34m'foo'\u001b[0m\u001b[0;34m\u001b[0m\u001b[0m\n\u001b[0m\u001b[1;32m      5\u001b[0m \u001b[0;34m(\u001b[0m\u001b[0;36m1\u001b[0m\u001b[0;34m,\u001b[0m \u001b[0;36m2\u001b[0m\u001b[0;34m)\u001b[0m \u001b[0;34m>\u001b[0m \u001b[0;34m'foo'\u001b[0m\u001b[0;34m\u001b[0m\u001b[0m\n\u001b[1;32m      6\u001b[0m \u001b[0;34m[\u001b[0m\u001b[0;36m1\u001b[0m\u001b[0;34m,\u001b[0m \u001b[0;36m2\u001b[0m\u001b[0;34m]\u001b[0m \u001b[0;34m>\u001b[0m \u001b[0;34m(\u001b[0m\u001b[0;36m1\u001b[0m\u001b[0;34m,\u001b[0m \u001b[0;36m2\u001b[0m\u001b[0;34m)\u001b[0m\u001b[0;34m\u001b[0m\u001b[0m\n",
      "\u001b[0;31mTypeError\u001b[0m: unorderable types: list() > str()"
     ]
    }
   ],
   "source": [
    "from platform import python_version\n",
    "print('This code cell was executed in Python', python_version())\n",
    "\n",
    "print([1, 2] > 'foo')\n",
    "print((1, 2) > 'foo')\n",
    "print([1, 2] > (1, 2))"
   ]
  },
  {
   "cell_type": "markdown",
   "metadata": {},
   "source": [
    "<br>\n",
    "<br>\n",
    "<a name='function_annotation'></a>"
   ]
  },
  {
   "cell_type": "markdown",
   "metadata": {},
   "source": [
    "\n",
    "## Function annotations - What are those `->`'s in my Python code?\n"
   ]
  },
  {
   "cell_type": "markdown",
   "metadata": {},
   "source": [
    "[[back to top](#sections)]"
   ]
  },
  {
   "cell_type": "markdown",
   "metadata": {},
   "source": [
    "Have you ever seen any Python code that used colons inside the parantheses of a function definition?"
   ]
  },
  {
   "cell_type": "code",
   "execution_count": 8,
   "metadata": {},
   "outputs": [],
   "source": [
    "def foo1(x: 'insert x here', y: 'insert x^2 here'):\n",
    "    print('Hello, World')\n",
    "    return"
   ]
  },
  {
   "cell_type": "markdown",
   "metadata": {},
   "source": [
    "And what about the fancy arrow here?"
   ]
  },
  {
   "cell_type": "code",
   "execution_count": 10,
   "metadata": {},
   "outputs": [],
   "source": [
    "def foo2(x, y) -> 'Hi!':\n",
    "    print('Hello, World')\n",
    "    return"
   ]
  },
  {
   "cell_type": "markdown",
   "metadata": {},
   "source": [
    "Q: Is this valid Python syntax?  \n",
    "A: Yes!\n",
    "    \n",
    "    \n",
    "Q: So, what happens if I *just call* the function?  \n",
    "A: Nothing!\n",
    "    \n",
    "Here is the proof!"
   ]
  },
  {
   "cell_type": "code",
   "execution_count": 9,
   "metadata": {},
   "outputs": [
    {
     "name": "stdout",
     "output_type": "stream",
     "text": [
      "Hello, World\n"
     ]
    }
   ],
   "source": [
    "foo1(1,2)"
   ]
  },
  {
   "cell_type": "code",
   "execution_count": 11,
   "metadata": {},
   "outputs": [
    {
     "name": "stdout",
     "output_type": "stream",
     "text": [
      "Hello, World\n"
     ]
    }
   ],
   "source": [
    "foo2(1,2)    "
   ]
  },
  {
   "cell_type": "markdown",
   "metadata": {},
   "source": [
    "**So, those are function annotations ... **  \n",
    "- the colon for the function parameters  \n",
    "- the arrow for the return value  \n",
    "\n",
    "You probably will never make use of them (or at least very rarely). Usually, we write good function documentations below the function as a docstring - or at least this is how I would do it (okay this case is a little bit extreme, I have to admit):"
   ]
  },
  {
   "cell_type": "code",
   "execution_count": null,
   "metadata": {},
   "outputs": [],
   "source": [
    "def is_palindrome(a):\n",
    "    \"\"\"\n",
    "    Case-and punctuation insensitive check if a string is a palindrom.\n",
    "    \n",
    "    Keyword arguments:\n",
    "        a (str): The string to be checked if it is a palindrome.\n",
    "        \n",
    "    Returns `True` if input string is a palindrome, else False.\n",
    "    \n",
    "    \"\"\"\n",
    "    stripped_str = [l for l in my_str.lower() if l.isalpha()]\n",
    "    return stripped_str == stripped_str[::-1]\n",
    "    "
   ]
  },
  {
   "cell_type": "markdown",
   "metadata": {},
   "source": [
    "However, function annotations can be useful to indicate that work is still in progress in some cases. But they are optional and I see them very very rarely.\n",
    "\n",
    "As it is stated in [PEP3107](http://legacy.python.org/dev/peps/pep-3107/#fundamentals-of-function-annotations):\n",
    "\n",
    "1. Function annotations, both for parameters and return values, are completely optional.\n",
    "\n",
    "2. Function annotations are nothing more than a way of associating arbitrary Python expressions with various parts of a function at compile-time.\n"
   ]
  },
  {
   "cell_type": "markdown",
   "metadata": {},
   "source": [
    "The nice thing about function annotations is their `__annotations__` attribute, which is dictionary of all the parameters and/or the `return` value you annotated."
   ]
  },
  {
   "cell_type": "code",
   "execution_count": 17,
   "metadata": {},
   "outputs": [
    {
     "data": {
      "text/plain": [
       "{'y': 'insert x^2 here', 'x': 'insert x here'}"
      ]
     },
     "execution_count": 17,
     "metadata": {},
     "output_type": "execute_result"
    }
   ],
   "source": [
    "foo1.__annotations__"
   ]
  },
  {
   "cell_type": "code",
   "execution_count": 18,
   "metadata": {},
   "outputs": [
    {
     "data": {
      "text/plain": [
       "{'return': 'Hi!'}"
      ]
     },
     "execution_count": 18,
     "metadata": {},
     "output_type": "execute_result"
    }
   ],
   "source": [
    "foo2.__annotations__"
   ]
  },
  {
   "cell_type": "markdown",
   "metadata": {},
   "source": [
    "**When are they useful?**"
   ]
  },
  {
   "cell_type": "markdown",
   "metadata": {},
   "source": [
    "Function annotations can be useful for a couple of things \n",
    "- Documentation in general\n",
    "- pre-condition testing\n",
    "- [type checking](http://legacy.python.org/dev/peps/pep-0362/#annotation-checker)\n",
    "     \n",
    "..."
   ]
  },
  {
   "cell_type": "markdown",
   "metadata": {},
   "source": [
    "<br>\n",
    "<br>\n",
    "<a name=\"finally_blocks\"></a>"
   ]
  },
  {
   "cell_type": "markdown",
   "metadata": {},
   "source": [
    "## Abortive statements in `finally` blocks"
   ]
  },
  {
   "cell_type": "markdown",
   "metadata": {},
   "source": [
    "Python's `try-except-finally` blocks are very handy for catching and handling errors. The `finally` block is always executed whether an `exception` has been raised or not as illustrated in the following example."
   ]
  },
  {
   "cell_type": "code",
   "execution_count": 24,
   "metadata": {},
   "outputs": [
    {
     "name": "stdout",
     "output_type": "stream",
     "text": [
      "in try:\n",
      "do some stuff\n",
      "an error occurred\n",
      "always execute finally\n"
     ]
    }
   ],
   "source": [
    "def try_finally1():\n",
    "    try:\n",
    "        print('in try:')\n",
    "        print('do some stuff')\n",
    "        float('abc')\n",
    "    except ValueError:\n",
    "        print('an error occurred')\n",
    "    else:\n",
    "        print('no error occurred')\n",
    "    finally:\n",
    "        print('always execute finally')\n",
    "        \n",
    "try_finally1()"
   ]
  },
  {
   "cell_type": "markdown",
   "metadata": {},
   "source": [
    "<br>\n",
    "<br>\n",
    "But can you also guess what will be printed in the next code cell?"
   ]
  },
  {
   "cell_type": "code",
   "execution_count": 21,
   "metadata": {},
   "outputs": [
    {
     "name": "stdout",
     "output_type": "stream",
     "text": [
      "do some stuff in try block\n",
      "do some stuff in finally block\n",
      "always execute finally\n"
     ]
    }
   ],
   "source": [
    "def try_finally2():\n",
    "    try:\n",
    "        print(\"do some stuff in try block\")\n",
    "        return \"return from try block\"\n",
    "    finally:\n",
    "        print(\"do some stuff in finally block\")\n",
    "        return \"always execute finally\"\n",
    "    \n",
    "print(try_finally2())"
   ]
  },
  {
   "cell_type": "markdown",
   "metadata": {},
   "source": [
    "<br>\n",
    "Here, the abortive `return` statement in the `finally` block simply overrules the `return` in the `try` block, since **`finally` is guaranteed to always be executed.** So, be careful using abortive statements in `finally` blocks!"
   ]
  },
  {
   "cell_type": "markdown",
   "metadata": {},
   "source": [
    "<br>\n",
    "<br>\n",
    "<a name=\"variable_types\">"
   ]
  },
  {
   "cell_type": "markdown",
   "metadata": {},
   "source": [
    "#Assigning types to variables as values"
   ]
  },
  {
   "cell_type": "markdown",
   "metadata": {},
   "source": [
    "[[back to top](#sections)]"
   ]
  },
  {
   "cell_type": "markdown",
   "metadata": {},
   "source": [
    "I am not yet sure in which context this can be useful, but it is a nice fun fact to know that we can assign types as values to variables."
   ]
  },
  {
   "cell_type": "code",
   "execution_count": 1,
   "metadata": {},
   "outputs": [
    {
     "data": {
      "text/plain": [
       "'123'"
      ]
     },
     "execution_count": 1,
     "metadata": {},
     "output_type": "execute_result"
    }
   ],
   "source": [
    "a_var = str\n",
    "a_var(123)"
   ]
  },
  {
   "cell_type": "code",
   "execution_count": 4,
   "metadata": {},
   "outputs": [
    {
     "name": "stdout",
     "output_type": "stream",
     "text": [
      "0 <class 'int'>\n",
      "1 <class 'int'>\n",
      "2.0 <class 'float'>\n",
      "3 <class 'str'>\n",
      "4 <class 'int'>\n"
     ]
    }
   ],
   "source": [
    "from random import choice\n",
    "\n",
    "a, b, c = float, int, str\n",
    "for i in range(5):\n",
    "    j = choice([a,b,c])(i)\n",
    "    print(j, type(j))"
   ]
  },
  {
   "cell_type": "markdown",
   "metadata": {},
   "source": [
    "<br>\n",
    "<br>\n",
    "<a name='generator_rhs'></a>"
   ]
  },
  {
   "cell_type": "markdown",
   "metadata": {},
   "source": [
    "# Only the first clause of generators is evaluated immediately"
   ]
  },
  {
   "cell_type": "markdown",
   "metadata": {},
   "source": [
    "[[back to top](#sections)]"
   ]
  },
  {
   "cell_type": "markdown",
   "metadata": {},
   "source": [
    "The main reason why we love to use generators in certain cases (i.e., when we are dealing with large numbers of computations) is that it only computes the next value when it is needed, which is also known as \"lazy\" evaluation.\n",
    "However, the first clause of an generator is already checked upon it's creation, as the following example demonstrates:"
   ]
  },
  {
   "cell_type": "code",
   "execution_count": 18,
   "metadata": {},
   "outputs": [
    {
     "ename": "ZeroDivisionError",
     "evalue": "division by zero",
     "output_type": "error",
     "traceback": [
      "\u001b[0;31m---------------------------------------------------------------------------\u001b[0m\n\u001b[0;31mZeroDivisionError\u001b[0m                         Traceback (most recent call last)",
      "\u001b[0;32m<ipython-input-18-29312e1ece8d>\u001b[0m in \u001b[0;36m<module>\u001b[0;34m()\u001b[0m\n\u001b[0;32m----> 1\u001b[0;31m \u001b[0mgen_fails\u001b[0m \u001b[0;34m=\u001b[0m \u001b[0;34m(\u001b[0m\u001b[0mi\u001b[0m \u001b[0;32mfor\u001b[0m \u001b[0mi\u001b[0m \u001b[0;32min\u001b[0m \u001b[0;36m1\u001b[0m\u001b[0;34m/\u001b[0m\u001b[0;36m0\u001b[0m\u001b[0;34m)\u001b[0m\u001b[0;34m\u001b[0m\u001b[0m\n\u001b[0m",
      "\u001b[0;31mZeroDivisionError\u001b[0m: division by zero"
     ]
    }
   ],
   "source": [
    "gen_fails = (i for i in 1/0)"
   ]
  },
  {
   "cell_type": "markdown",
   "metadata": {},
   "source": [
    "Certainly, this is a nice feature, since it notifies us about syntax erros immediately. However, this is (unfortunately) not the case if we have multiple cases in our generator."
   ]
  },
  {
   "cell_type": "code",
   "execution_count": 19,
   "metadata": {},
   "outputs": [],
   "source": [
    "gen_succeeds = (i for i in range(5) for j in 1/0)"
   ]
  },
  {
   "cell_type": "code",
   "execution_count": 20,
   "metadata": {},
   "outputs": [
    {
     "ename": "ZeroDivisionError",
     "evalue": "division by zero",
     "output_type": "error",
     "traceback": [
      "\u001b[0;31m---------------------------------------------------------------------------\u001b[0m\n\u001b[0;31mZeroDivisionError\u001b[0m                         Traceback (most recent call last)",
      "\u001b[0;32m<ipython-input-20-8a83a1022971>\u001b[0m in \u001b[0;36m<module>\u001b[0;34m()\u001b[0m\n\u001b[1;32m      1\u001b[0m \u001b[0mprint\u001b[0m\u001b[0;34m(\u001b[0m\u001b[0;34m'But obviously fails when we iterate ...'\u001b[0m\u001b[0;34m)\u001b[0m\u001b[0;34m\u001b[0m\u001b[0m\n\u001b[0;32m----> 2\u001b[0;31m \u001b[0;32mfor\u001b[0m \u001b[0mi\u001b[0m \u001b[0;32min\u001b[0m \u001b[0mgen_succeeds\u001b[0m\u001b[0;34m:\u001b[0m\u001b[0;34m\u001b[0m\u001b[0m\n\u001b[0m\u001b[1;32m      3\u001b[0m     \u001b[0mprint\u001b[0m\u001b[0;34m(\u001b[0m\u001b[0mi\u001b[0m\u001b[0;34m)\u001b[0m\u001b[0;34m\u001b[0m\u001b[0m\n",
      "\u001b[0;32m<ipython-input-19-c54c53f2218a>\u001b[0m in \u001b[0;36m<genexpr>\u001b[0;34m(.0)\u001b[0m\n\u001b[0;32m----> 1\u001b[0;31m \u001b[0mgen_succeeds\u001b[0m \u001b[0;34m=\u001b[0m \u001b[0;34m(\u001b[0m\u001b[0mi\u001b[0m \u001b[0;32mfor\u001b[0m \u001b[0mi\u001b[0m \u001b[0;32min\u001b[0m \u001b[0mrange\u001b[0m\u001b[0;34m(\u001b[0m\u001b[0;36m5\u001b[0m\u001b[0;34m)\u001b[0m \u001b[0;32mfor\u001b[0m \u001b[0mj\u001b[0m \u001b[0;32min\u001b[0m \u001b[0;36m1\u001b[0m\u001b[0;34m/\u001b[0m\u001b[0;36m0\u001b[0m\u001b[0;34m)\u001b[0m\u001b[0;34m\u001b[0m\u001b[0m\n\u001b[0m",
      "\u001b[0;31mZeroDivisionError\u001b[0m: division by zero"
     ]
    },
    {
     "name": "stdout",
     "output_type": "stream",
     "text": [
      "But obviously fails when we iterate ...\n"
     ]
    }
   ],
   "source": [
    "print('But obviously fails when we iterate ...')\n",
    "for i in gen_succeeds:\n",
    "    print(i)"
   ]
  },
  {
   "cell_type": "markdown",
   "metadata": {},
   "source": [
    "<a name=\"splat_op\"></a>\n",
    "<br>\n",
    "<br>"
   ]
  },
  {
   "cell_type": "markdown",
   "metadata": {},
   "source": [
    "##Keyword argument unpacking syntax - `*args` and `**kwargs`"
   ]
  },
  {
   "cell_type": "markdown",
   "metadata": {},
   "source": [
    "[[back to top](#sections)]"
   ]
  },
  {
   "cell_type": "markdown",
   "metadata": {},
   "source": [
    "Python has a very convenient \"keyword argument unpacking syntax\" (often also referred to as \"splat\"-operators). This is particularly useful, if we want to define a function that can take a arbitrary number of input arguments."
   ]
  },
  {
   "cell_type": "markdown",
   "metadata": {},
   "source": [
    "#### Single-asterisk (*args)"
   ]
  },
  {
   "cell_type": "code",
   "execution_count": 55,
   "metadata": {},
   "outputs": [
    {
     "name": "stdout",
     "output_type": "stream",
     "text": [
      "type of args: <class 'tuple'>\n",
      "args contents: (0, 1, 'a', 'b', 'c')\n",
      "1st argument: 0\n"
     ]
    }
   ],
   "source": [
    "def a_func(*args):\n",
    "    print('type of args:', type(args))\n",
    "    print('args contents:', args)\n",
    "    print('1st argument:', args[0])\n",
    "\n",
    "a_func(0, 1, 'a', 'b', 'c')"
   ]
  },
  {
   "cell_type": "markdown",
   "metadata": {},
   "source": [
    "#### Double-asterisk (**kwargs)"
   ]
  },
  {
   "cell_type": "code",
   "execution_count": 56,
   "metadata": {},
   "outputs": [
    {
     "name": "stdout",
     "output_type": "stream",
     "text": [
      "type of kwargs: <class 'dict'>\n",
      "kwargs contents:  {'d': 4, 'a': 1, 'c': 3, 'b': 2}\n",
      "value of argument a: 1\n"
     ]
    }
   ],
   "source": [
    "def b_func(**kwargs):\n",
    "    print('type of kwargs:', type(kwargs))\n",
    "    print('kwargs contents: ', kwargs)\n",
    "    print('value of argument a:', kwargs['a'])\n",
    "    \n",
    "b_func(a=1, b=2, c=3, d=4)"
   ]
  },
  {
   "cell_type": "markdown",
   "metadata": {},
   "source": [
    "#### (Partially) unpacking of iterables\n",
    "Another useful application of the \"unpacking\"-operator is the unpacking of lists and other other iterables."
   ]
  },
  {
   "cell_type": "code",
   "execution_count": 57,
   "metadata": {},
   "outputs": [
    {
     "name": "stdout",
     "output_type": "stream",
     "text": [
      "val1: 1\n",
      "vals: [2, 3, 4, 5]\n"
     ]
    }
   ],
   "source": [
    "val1, *vals = [1, 2, 3, 4, 5]\n",
    "print('val1:', val1)\n",
    "print('vals:', vals)"
   ]
  },
  {
   "cell_type": "markdown",
   "metadata": {},
   "source": [
    "<a name=\"new_instance\"></a>\n",
    "<br>\n",
    "<br>"
   ]
  },
  {
   "cell_type": "markdown",
   "metadata": {},
   "source": [
    "## Metaclasses - What creates a new instance of a class?"
   ]
  },
  {
   "cell_type": "markdown",
   "metadata": {},
   "source": [
    "[[back to top](#sections)]"
   ]
  },
  {
   "cell_type": "markdown",
   "metadata": {},
   "source": [
    "Usually, it is the `__init__` method when we think of instanciating a new object from a class. However, it is the static method `__new__` (it is not a class method!) that creates and returns a new instance before `__init__()` is called. \n",
    "More specifically, this is what is returned:  \n",
    "`return super(<currentclass>, cls).__new__(subcls, *args, **kwargs)`  \n",
    "\n",
    "For more information about the `__new__` method, please see the [documentation](https://www.python.org/download/releases/2.2/descrintro/#__new__).\n",
    "\n",
    "As a little experiment, let us screw with `__new__` so that it returns `None` and see if `__init__` will be executed:"
   ]
  },
  {
   "cell_type": "code",
   "execution_count": 53,
   "metadata": {},
   "outputs": [
    {
     "name": "stdout",
     "output_type": "stream",
     "text": [
      "excecuted __new__\n",
      "Type of a_object: <class 'NoneType'>\n"
     ]
    }
   ],
   "source": [
    "class a_class(object):\n",
    "    def __new__(clss, *args, **kwargs):\n",
    "        print('excecuted __new__')\n",
    "        return None\n",
    "    def __init__(self, an_arg):\n",
    "        print('excecuted __init__')\n",
    "        self.an_arg = an_arg\n",
    "        \n",
    "a_object = a_class(1)\n",
    "print('Type of a_object:', type(a_object))"
   ]
  },
  {
   "cell_type": "markdown",
   "metadata": {},
   "source": [
    "As we can see in the code above, `__init__` requires the returned instance from `__new__` in order to called. So, here we just created a `NoneType` object.  \n",
    "Let us override the `__new__`, now and let us confirm that `__init__` is called now to instantiate the new object\":"
   ]
  },
  {
   "cell_type": "code",
   "execution_count": 54,
   "metadata": {},
   "outputs": [
    {
     "name": "stdout",
     "output_type": "stream",
     "text": [
      "excecuted __new__\n",
      "excecuted __init__\n",
      "Type of a_object: <class '__main__.a_class'>\n",
      "a_object.an_arg:  1\n"
     ]
    }
   ],
   "source": [
    "class a_class(object):\n",
    "    def __new__(cls, *args, **kwargs):\n",
    "        print('excecuted __new__')\n",
    "        inst = super(a_class, cls).__new__(cls)\n",
    "        return inst\n",
    "    def __init__(self, an_arg):\n",
    "        print('excecuted __init__')\n",
    "        self.an_arg = an_arg\n",
    "        \n",
    "a_object = a_class(1)\n",
    "print('Type of a_object:', type(a_object))\n",
    "print('a_object.an_arg: ', a_object.an_arg)"
   ]
  },
  {
   "cell_type": "code",
   "execution_count": 5,
   "metadata": {},
   "outputs": [
    {
     "name": "stdout",
     "output_type": "stream",
     "text": [
      "in for\n",
      "in else\n",
      "after for-loop\n"
     ]
    }
   ],
   "source": [
    "for i in range(5):\n",
    "    if i == 1:\n",
    "        print('in for')\n",
    "else:\n",
    "    print('in else')\n",
    "print('after for-loop')"
   ]
  },
  {
   "cell_type": "code",
   "execution_count": 6,
   "metadata": {},
   "outputs": [
    {
     "name": "stdout",
     "output_type": "stream",
     "text": [
      "after for-loop\n"
     ]
    }
   ],
   "source": [
    "for i in range(5):\n",
    "    if i == 1:\n",
    "        break\n",
    "else:\n",
    "    print('in else')\n",
    "print('after for-loop')"
   ]
  },
  {
   "cell_type": "markdown",
   "metadata": {},
   "source": [
    "<a name=\"else_clauses\"></a>\n",
    "<br>\n",
    "<br>"
   ]
  },
  {
   "cell_type": "markdown",
   "metadata": {},
   "source": [
    "## Else-clauses: \"conditional else\" and \"completion else\""
   ]
  },
  {
   "cell_type": "markdown",
   "metadata": {},
   "source": [
    "[[back to top](#sections)]"
   ]
  },
  {
   "cell_type": "markdown",
   "metadata": {},
   "source": [
    "I would claim that the conditional \"else\" is every programmer's daily bread and butter. However, there is a second flavor of \"else\"-clauses in Python, which I will call \"completion else\" (for reason that will become clear later).  \n",
    "But first, let us take a look at our \"traditional\" conditional else that we all are familiar with.  \n"
   ]
  },
  {
   "cell_type": "markdown",
   "metadata": {},
   "source": [
    "###Conditional else:"
   ]
  },
  {
   "cell_type": "code",
   "execution_count": 3,
   "metadata": {},
   "outputs": [
    {
     "name": "stdout",
     "output_type": "stream",
     "text": [
      "Hello, World!\n"
     ]
    }
   ],
   "source": [
    "# conditional else\n",
    "\n",
    "a_list = [1,2]\n",
    "if a_list[0] == 1:\n",
    "    print('Hello, World!')\n",
    "else:\n",
    "    print('Bye, World!')"
   ]
  },
  {
   "cell_type": "code",
   "execution_count": 4,
   "metadata": {},
   "outputs": [
    {
     "name": "stdout",
     "output_type": "stream",
     "text": [
      "Bye, World!\n"
     ]
    }
   ],
   "source": [
    "# conditional else\n",
    "\n",
    "a_list = [1,2]\n",
    "if a_list[0] == 2:\n",
    "    print('Hello, World!')\n",
    "else:\n",
    "    print('Bye, World!')"
   ]
  },
  {
   "cell_type": "markdown",
   "metadata": {},
   "source": [
    "Why am I showing those simple examples? I think they are good to highlight some of the key points: It is **either** the code under the `if` clause that is executed, **or** the code under the `else` block, but not both.  \n",
    "If the condition of the `if` clause evaluates to `True`, the `if`-block is exectured, and if it evaluated to `False`, it is the `else` block.  \n",
    "\n",
    "### Completion else\n",
    "**In contrast** to the **either...or*** situation that we know from the conditional `else`, the completion `else` is executed if a code block finished.  \n",
    "To show you an example, let us use `else` for error-handling:"
   ]
  },
  {
   "cell_type": "markdown",
   "metadata": {},
   "source": [
    "#### Completion else (try-except)"
   ]
  },
  {
   "cell_type": "code",
   "execution_count": 5,
   "metadata": {},
   "outputs": [
    {
     "name": "stdout",
     "output_type": "stream",
     "text": [
      "first element: 1\n",
      "no error in try-block\n"
     ]
    }
   ],
   "source": [
    "try:\n",
    "    print('first element:', a_list[0])\n",
    "except IndexError:\n",
    "    print('raised IndexError')\n",
    "else:\n",
    "    print('no error in try-block')"
   ]
  },
  {
   "cell_type": "code",
   "execution_count": 6,
   "metadata": {},
   "outputs": [
    {
     "name": "stdout",
     "output_type": "stream",
     "text": [
      "raised IndexError\n"
     ]
    }
   ],
   "source": [
    "try:\n",
    "    print('third element:', a_list[2])\n",
    "except IndexError:\n",
    "    print('raised IndexError')\n",
    "else:\n",
    "    print('no error in try-block')"
   ]
  },
  {
   "cell_type": "markdown",
   "metadata": {},
   "source": [
    "<br>\n",
    "In the code above, we can see that the code under the **`else`-clause is only executed if the `try-block` was executed without encountering an error, i.e., if the `try`-block is \"complete\".**  \n",
    "The same rule applies to the \"completion\" `else` in while- and for-loops, which you can confirm in the following samples below."
   ]
  },
  {
   "cell_type": "markdown",
   "metadata": {},
   "source": [
    "#### Completion else (while-loop)"
   ]
  },
  {
   "cell_type": "code",
   "execution_count": 7,
   "metadata": {},
   "outputs": [
    {
     "name": "stdout",
     "output_type": "stream",
     "text": [
      "0\n",
      "1\n",
      "in else\n"
     ]
    }
   ],
   "source": [
    "i = 0\n",
    "while i < 2:\n",
    "    print(i)\n",
    "    i += 1\n",
    "else:\n",
    "    print('in else')"
   ]
  },
  {
   "cell_type": "code",
   "execution_count": 8,
   "metadata": {},
   "outputs": [
    {
     "name": "stdout",
     "output_type": "stream",
     "text": [
      "0\n"
     ]
    }
   ],
   "source": [
    "i = 0\n",
    "while i < 2:\n",
    "    print(i)\n",
    "    i += 1\n",
    "    break\n",
    "else:\n",
    "    print('completed while-loop')"
   ]
  },
  {
   "cell_type": "markdown",
   "metadata": {},
   "source": [
    "#### Completion else (for-loop)"
   ]
  },
  {
   "cell_type": "code",
   "execution_count": 9,
   "metadata": {},
   "outputs": [
    {
     "name": "stdout",
     "output_type": "stream",
     "text": [
      "0\n",
      "1\n",
      "completed for-loop\n"
     ]
    }
   ],
   "source": [
    "for i in range(2):\n",
    "    print(i)\n",
    "else:\n",
    "    print('completed for-loop')"
   ]
  },
  {
   "cell_type": "code",
   "execution_count": 10,
   "metadata": {},
   "outputs": [
    {
     "name": "stdout",
     "output_type": "stream",
     "text": [
      "0\n"
     ]
    }
   ],
   "source": [
    "for i in range(2):\n",
    "    print(i)\n",
    "    break\n",
    "else:\n",
    "    print('completed for-loop')"
   ]
  },
  {
   "cell_type": "markdown",
   "metadata": {},
   "source": [
    "<a name=\"string_interning\"></a>\n",
    "<br>\n",
    "<br>"
   ]
  },
  {
   "cell_type": "markdown",
   "metadata": {},
   "source": [
    "## Interning of compile-time constants vs. run-time expressions"
   ]
  },
  {
   "cell_type": "markdown",
   "metadata": {},
   "source": [
    "[[back to top](#sections)]"
   ]
  },
  {
   "cell_type": "markdown",
   "metadata": {},
   "source": [
    "This might not be particularly useful, but it is nonetheless interesting: Python's interpreter is interning compile-time constants but not run-time expressions (note that this is implementation-specific).\n",
    "\n",
    "(Original source: [Stackoverflow](http://stackoverflow.com/questions/15541404/python-string-interning))"
   ]
  },
  {
   "cell_type": "markdown",
   "metadata": {},
   "source": [
    "Let us have a look at the simple example below. Here we are creating 3 variables and assign the value \"Hello\" to them in different ways before we test them for identity."
   ]
  },
  {
   "cell_type": "code",
   "execution_count": 34,
   "metadata": {},
   "outputs": [
    {
     "name": "stdout",
     "output_type": "stream",
     "text": [
      "hello1 is hello2: True\n",
      "hello1 is hello3: False\n"
     ]
    }
   ],
   "source": [
    "hello1 = 'Hello'\n",
    "\n",
    "hello2 = 'Hell' + 'o'\n",
    "\n",
    "hello3 = 'Hell'\n",
    "hello3 = hello3 + 'o'\n",
    "\n",
    "print('hello1 is hello2:', hello1 is hello2)\n",
    "print('hello1 is hello3:', hello1 is hello3)"
   ]
  },
  {
   "cell_type": "markdown",
   "metadata": {},
   "source": [
    "Now, how does it come that the first expression evaluates to true, but the second does not?  To answer this question, we need to take a closer look at the underlying byte codes:"
   ]
  },
  {
   "cell_type": "code",
   "execution_count": 38,
   "metadata": {},
   "outputs": [
    {
     "name": "stdout",
     "output_type": "stream",
     "text": [
      "  3           0 LOAD_CONST               1 ('Hello')\n",
      "              3 STORE_FAST               0 (s)\n",
      "\n",
      "  4           6 LOAD_FAST                0 (s)\n",
      "              9 RETURN_VALUE\n"
     ]
    }
   ],
   "source": [
    "import dis\n",
    "def hello1_func():\n",
    "    s = 'Hello'\n",
    "    return s\n",
    "dis.dis(hello1_func)"
   ]
  },
  {
   "cell_type": "code",
   "execution_count": 39,
   "metadata": {},
   "outputs": [
    {
     "name": "stdout",
     "output_type": "stream",
     "text": [
      "  2           0 LOAD_CONST               3 ('Hello')\n",
      "              3 STORE_FAST               0 (s)\n",
      "\n",
      "  3           6 LOAD_FAST                0 (s)\n",
      "              9 RETURN_VALUE\n"
     ]
    }
   ],
   "source": [
    "def hello2_func():\n",
    "    s = 'Hell' + 'o'\n",
    "    return s\n",
    "dis.dis(hello2_func)"
   ]
  },
  {
   "cell_type": "code",
   "execution_count": 40,
   "metadata": {},
   "outputs": [
    {
     "name": "stdout",
     "output_type": "stream",
     "text": [
      "  2           0 LOAD_CONST               1 ('Hell')\n",
      "              3 STORE_FAST               0 (s)\n",
      "\n",
      "  3           6 LOAD_FAST                0 (s)\n",
      "              9 LOAD_CONST               2 ('o')\n",
      "             12 BINARY_ADD\n",
      "             13 STORE_FAST               0 (s)\n",
      "\n",
      "  4          16 LOAD_FAST                0 (s)\n",
      "             19 RETURN_VALUE\n"
     ]
    }
   ],
   "source": [
    "def hello3_func():\n",
    "    s = 'Hell'\n",
    "    s = s + 'o'\n",
    "    return s\n",
    "dis.dis(hello3_func)"
   ]
  },
  {
   "cell_type": "markdown",
   "metadata": {},
   "source": [
    "<br>\n",
    "It looks like that `'Hello'` and `'Hell'` + `'o'` are both evaluated and stored as `'Hello'` at compile-time, whereas the third version   \n",
    "`s = 'Hell'`  \n",
    "`s = s + 'o'` seems to be not interned.  Let us quickly confirm the behavior with the following code:"
   ]
  },
  {
   "cell_type": "code",
   "execution_count": 42,
   "metadata": {},
   "outputs": [
    {
     "name": "stdout",
     "output_type": "stream",
     "text": [
      "True\n",
      "False\n"
     ]
    }
   ],
   "source": [
    "print(hello1_func() is hello2_func())\n",
    "print(hello1_func() is hello3_func())"
   ]
  },
  {
   "cell_type": "markdown",
   "metadata": {},
   "source": [
    "Finally, to show that this hypothesis is the answer to this rather unexpected observation, let us `intern` the value manually:"
   ]
  },
  {
   "cell_type": "code",
   "execution_count": 45,
   "metadata": {},
   "outputs": [
    {
     "name": "stdout",
     "output_type": "stream",
     "text": [
      "True\n"
     ]
    }
   ],
   "source": [
    "import sys\n",
    "\n",
    "print(hello1_func() is sys.intern(hello3_func()))"
   ]
  },
  {
   "cell_type": "markdown",
   "metadata": {},
   "source": [
    "<a name=\"changelog\"></a>\n",
    "<br>\n",
    "<br>\n",
    "<br>\n",
    "<br>\n"
   ]
  },
  {
   "cell_type": "markdown",
   "metadata": {},
   "source": [
    "# Changelog"
   ]
  },
  {
   "cell_type": "markdown",
   "metadata": {},
   "source": [
    "[[back to top](#sections)]"
   ]
  },
  {
   "cell_type": "markdown",
   "metadata": {},
   "source": [
    "#### 07/16/2014\n",
    "- slight change of wording in the [lambda-closure section](#lambda_closure)\n",
    "\n",
    "#### 05/24/2014\n",
    "- new section: unorderable types in Python 2\n",
    "- table of contents for the Python 2 vs. Python 3 topic\n",
    "    \n",
    "#### 05/03/2014\n",
    "- new section: else clauses: conditional vs. completion\n",
    "- new section: Interning of compile-time constants vs. run-time expressions\n",
    "\n",
    "#### 05/02/2014\n",
    "- new section in Python 3.x and Python 2.x key differences: for-loop leak\n",
    "- new section: Metaclasses - What creates a new instance of a class?  \n",
    "\n",
    "#### 05/01/2014\n",
    "- new section: keyword argument unpacking syntax\n",
    "\n",
    "#### 04/27/2014\n",
    "- minor fixes of typos  \n",
    "- new section: \"Only the first clause of generators is evaluated immediately\""
   ]
  },
  {
   "cell_type": "code",
   "execution_count": null,
   "metadata": {},
   "outputs": [],
   "source": []
  }
 ],
 "metadata": {
  "kernelspec": {
   "display_name": "Python 3",
   "language": "python",
   "name": "python3"
  },
  "language_info": {
   "codemirror_mode": {
    "name": "ipython",
    "version": 3
   },
   "file_extension": ".py",
   "mimetype": "text/x-python",
   "name": "python",
   "nbconvert_exporter": "python",
   "pygments_lexer": "ipython3",
   "version": "3.6.1"
  }
 },
 "nbformat": 4,
 "nbformat_minor": 1
}
