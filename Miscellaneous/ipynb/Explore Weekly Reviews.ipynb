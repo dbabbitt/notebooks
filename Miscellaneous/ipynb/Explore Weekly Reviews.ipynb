{
 "cells": [
  {
   "cell_type": "code",
   "execution_count": 1,
   "metadata": {},
   "outputs": [
    {
     "name": "stdout",
     "output_type": "stream",
     "text": [
      "Pretty printing has been turned OFF\n",
      "C:\\Users\\dev\\Documents\\repositories\\notebooks\\Miscellaneous\\ipynb\\Untitled.ipynb\n",
      "data_folder: ../data/\n",
      "saves_folder: ../saves/\n",
      "['attempt_to_pickle', 'data_csv_folder', 'data_folder', 'encoding_type', 'load_csv', 'load_dataframes', 'load_object', 'save_dataframes', 'saves_csv_folder', 'saves_folder', 'saves_pickle_folder', 'store_objects']\n",
      "Config\t SequenceMatcher\t Storage\t check_4_doubles\t check_for_typos\t conjunctify_list\t copyfile\t csv\t encoding\t \n",
      "get_git_lfs_track_commands\t get_module_version\t get_notebook_path\t get_specific_gitignore_files\t humanize_bytes\t ipykernel\t json\t jupyter_config_dir\t notebook_path\t \n",
      "notebookapp\t os\t pd\t pickle\t print_all_files_ending_starting_with\t print_all_files_ending_with\t print_all_files_starting_with\t re\t remove_empty_folders\t \n",
      "s\t similar\t subprocess\t sys\t time\t urllib\t \n"
     ]
    }
   ],
   "source": [
    "\n",
    "%run ../../load_magic/storage.py\n",
    "%run ../../load_magic/paths.py\n",
    "%run ../../load_magic/lists.py\n",
    "%run ../../load_magic/environment.py\n",
    "%pprint\n",
    "notebook_path = get_notebook_path()\n",
    "print(notebook_path)\n",
    "s = Storage()\n",
    "print([fn for fn in dir(s) if not fn.startswith('_')])\n",
    "%who"
   ]
  },
  {
   "cell_type": "code",
   "execution_count": 39,
   "metadata": {},
   "outputs": [],
   "source": [
    "\n",
    "txt_dir = os.path.join(s.data_folder, 'txt')\n",
    "file_path = os.path.join(txt_dir, 'Past_Week_Reviews.txt')\n",
    "with open(file_path, 'r', encoding=s.encoding_type) as f:\n",
    "    reviews_str = f.read()\n",
    "reviews_list = re.split('^( +)- ', reviews_str, 0, re.MULTILINE)"
   ]
  },
  {
   "cell_type": "code",
   "execution_count": 60,
   "metadata": {},
   "outputs": [],
   "source": [
    "\n",
    "from datetime import datetime\n",
    "\n",
    "date_format = '%A, %B %d, %Y'\n",
    "rows_list = []\n",
    "test_set = set()\n",
    "columns_list = ['review_date', 'review_sign', 'review_type', 'review_item']\n",
    "row_dict = {}\n",
    "for i in range(1, len(reviews_list), 2):\n",
    "    indentation_level = len(reviews_list[i])\n",
    "    review_item = reviews_list[i+1].strip()\n",
    "    if indentation_level == 2:\n",
    "        review_date = datetime.strptime(review_item, date_format)\n",
    "        row_dict['review_date'] = review_date\n",
    "    elif indentation_level == 4:\n",
    "        if 'positive' in review_item.lower():\n",
    "            review_sign = 1\n",
    "        elif 'negative' in review_item.lower():\n",
    "            review_sign = -1\n",
    "        elif 'outrage' in review_item.lower():\n",
    "            review_sign = 1\n",
    "        row_dict['review_sign'] = review_sign\n",
    "    elif indentation_level == 6:\n",
    "        row_dict['review_type'] = review_item\n",
    "    elif indentation_level > 6:\n",
    "        if indentation_level == 8:\n",
    "            prefix_str = '{}: '.format(review_item)\n",
    "        elif indentation_level > 8:\n",
    "            review_item = '{}{}'.format(prefix_str, review_item)\n",
    "        row_dict['review_item'] = review_item\n",
    "        rows_list.append(row_dict.copy())\n",
    "reviews_df = pd.DataFrame(rows_list, columns=columns_list).set_index('review_date')"
   ]
  },
  {
   "cell_type": "code",
   "execution_count": 61,
   "metadata": {},
   "outputs": [
    {
     "data": {
      "image/png": "[encoded data removed]",
      "text/plain": [
       "<Figure size 432x288 with 1 Axes>"
      ]
     },
     "metadata": {
      "needs_background": "light"
     },
     "output_type": "display_data"
    }
   ],
   "source": [
    "\n",
    "%matplotlib inline\n",
    "\n",
    "#print([fn for fn in dir(reviews_df) if 'cum' in fn.lower()])\n",
    "axes_subplot_obj = reviews_df.review_sign.cumsum().plot.line()"
   ]
  },
  {
   "cell_type": "code",
   "execution_count": 66,
   "metadata": {},
   "outputs": [
    {
     "name": "stdout",
     "output_type": "stream",
     "text": [
      "Dealing with Jay and his problems\n",
      "Jay’s Arraignment\n",
      "Jay’s car hunting\n",
      "Jay\n",
      "Jay: Jay spent all our grocery money\n",
      "Jay: Jay is making us pay for his bad choices\n",
      "Jay got super angry and refused to do YNAB\n",
      "Jay still hasn't completed YNAB\n",
      "Jay still doesn't have his own car\n",
      "Jay wants us to buy him a new engine\n",
      "Jay is economically dependent and blames everyone but himself\n",
      "Jay is threatening to kill himself\n",
      "Jay Babbitt always in catastrophic mode\n",
      "Gianna doesn’t want to go to a biblical church\n",
      "Jay accused me of stealing and went on a rant\n"
     ]
    }
   ],
   "source": [
    "\n",
    "match_series = (reviews_df.review_sign < 0)\n",
    "for r in reviews_df[match_series].review_item.tolist():\n",
    "    if ('Jay' in r) or ('Gianna' in r):\n",
    "        print(r)"
   ]
  },
  {
   "cell_type": "code",
   "execution_count": 67,
   "metadata": {},
   "outputs": [
    {
     "name": "stdout",
     "output_type": "stream",
     "text": [
      "Megan Hopkins' telling me that the other interviewers thought I was \"one f**ing smart dude\"\n",
      "Had lunch with Steve\n",
      "Helped Jay push his car\n",
      "Booked a flight to AZ for our vacation\n",
      "Booked a flight to AZ for our vacation: Steve booked one too\n",
      "Listened to some great podcasts\n",
      "Listened to some great podcasts: Paul VanderKlay\n",
      "Listened to some great podcasts: Jordan Peterson\n",
      "Made some great comments on Twitter\n",
      "Didn't click any NSFW links on Reddit\n",
      "Watched Nassim Taleb take down the whole cabal of Twitter IQ racists in one go\n",
      "YouTube\n",
      "“The energy evident in a body of work is the most honest signal about it that makes people trust you to do things for them.” @vgr\n",
      "Eating\n",
      "Watching Amazon Prime\n",
      "Watching Agadmator's chess channel on YouTube\n",
      "Facebook\n",
      "Facebook: Oops! You added too much SOCIALISM\n",
      "Twitter\n",
      "Chess on lichess.org\n",
      "Jupyter notebooks\n",
      "Jupyter notebooks: speedtest.net stats\n",
      "J.Sack @JayTSack Woke Economics Thread:\n",
      "YouTube\n",
      "YouTube: PART ONE: Bret Weinstein, Heather Heying & the Evergreen Equity Council\n",
      "YouTube: @SIRIUSXM Patriot Host @davidwebbshow mistakenly accused for his \"White Privilege\" by @CNN Analyst @ArevaMartin.\n",
      "Got blender to create images\n",
      "Eating\n",
      "Watching Amazon Prime\n",
      "Watching Amazon Prime: True Grit\n",
      "Watching Agadmator's chess channel on YouTube\n",
      "Facebook\n",
      "Facebook: JBP's Amor Fati quote\n",
      "Facebook: \"If it becomes clear that your comment is simply spleen-venting, scapegoating, or virtue-signalling, shut up\"\n",
      "Twitter\n",
      "Twitter: \"In any case, to wear an improper expression on your face (to look incredulous when a victory was announced, for example) was itself a punishable offense. There was even a word for it in Newspeak: facecrime, it was called.\" (Orwell, 1984)\n",
      "Chess on lichess.org\n",
      "Jupyter notebooks\n",
      "Jupyter notebooks: Blender stuff\n",
      "Viola Chisum and her family\n",
      "Mickey and Don Rash\n",
      "Steve Babbitt\n",
      "Mimi Babbitt\n",
      "Pizza Party\n",
      "Matthew Kerr, et al, at church\n",
      "Earned money\n",
      "https://www.quora.com/I-am-26-and-have-a-nonexistent-social-circle-What-can-I-do-to-change-that/answer/Andrew-Ferebee\n",
      "Mimi and I went to Northborough Fitness Center together\n",
      "I learned how to make Sankey diagrams with matplotlib\n",
      "2+1 Bullet Chess\n",
      "Converted BSV to BTC and added to my Coinbase stash\n",
      "Mimi figured out how to distribute the $1000 we have left every month to various categories so as to minimize going more into debt\n",
      "Fixed some Blender bugs\n",
      "Researched Norway economics statistics\n",
      "Venkatesh Rao\n",
      "Venkatesh Rao: Alternate interpretation of Dunbar’s number\n",
      "I felt like I was getting somewhere with Jay's commitment to use YNAB and get his finances in order.\n",
      "Church luncheon\n",
      "Still married\n",
      "Jay almost completely finished setting up YNAB\n",
      "Completed a genetic program that created a successfully running C++ program\n",
      "Got a competent C++ programmer to join our project\n",
      "Converted python program to class-based code\n",
      "Wrote some amazing tweets\n",
      "Found a rental property that we can use to pay down our debt\n",
      "Jay is no longer borrowing my car\n",
      "Mimi no longer has any clients and can find a better job without feeling like she is abandoning them\n",
      "Made an offer on a house\n",
      "Got back on the diet\n",
      "Still in the running with the house\n",
      "Mimi has more time to get things done\n",
      "Mimi is coming with me to Virginia\n",
      "Saw our friends in VA: Shea, Quinton, et al\n",
      "The guest speaker filled me with hope\n",
      "I was able to explain Jungian Shadow rationalizations in Christian terminology at the Men’s Breakfast\n",
      "Had a good time visiting small shops with Mimi\n",
      "Passed my Security+ exam\n",
      "Got the okay to spend a payed week in VA\n",
      "Mimi's Interview\n",
      "Babbitt Family Savings Club/Dynasty startup kit\n",
      "Great conversations at church\n",
      "Worked with Dr. Bill\n",
      "Introduced to Chris Brigg's friends at his birthday party\n",
      "Introduced to Jon Ehle's church at their picnic\n",
      "Drove from Hamilton, VA to Friendship, ME\n",
      "Invited to a party by a smart person\n",
      "Tweeted a half a dozen times Discovered Micah Reddng, Luxury Beliefs, etc.\n",
      "Strength Training\n",
      "Made a commitment not to ignore boring people\n",
      "Got to work with Dr. Bill all week\n",
      "Got to drive down to VA and stay in a hotel for 5 days and drive back\n",
      "Helped Jay push his car\n",
      "Jay is getting his act together\n",
      "Steve is spotting me in strength training\n",
      "Mimi’s mentor made her feel good about her job\n",
      "Big E for Mimi\n",
      "Full flexibility and mobility in my hips!\n",
      "Visited White Mountains with Mimi\n",
      "Ate steak and drank water all week\n",
      "Jay got a raise\n",
      "I’m chummy with everyone, feel comfortable talking to them, etc.\n",
      "Still getting along with Jay\n",
      "Talking lazily, comfortably with people at church\n",
      "Coding a simulation at work\n",
      "Thanksgiving with the Ehles\n",
      "Mimi got lab work done\n",
      "I studied for a automated testing exam\n",
      "Got a lot closer to people at church by attending a wedding\n",
      "Closed a ticket at work\n",
      "Helped Mimi with problems at work\n",
      "Guillermo said “you think you’re not fast, but you are fast, man!”\n"
     ]
    }
   ],
   "source": [
    "\n",
    "match_series = (reviews_df.review_sign > 0)\n",
    "for r in reviews_df[match_series].review_item.tolist():\n",
    "    print(r)"
   ]
  },
  {
   "cell_type": "code",
   "execution_count": null,
   "metadata": {},
   "outputs": [],
   "source": []
  }
 ],
 "metadata": {
  "kernelspec": {
   "display_name": "Python 3",
   "language": "python",
   "name": "python3"
  },
  "language_info": {
   "codemirror_mode": {
    "name": "ipython",
    "version": 3
   },
   "file_extension": ".py",
   "mimetype": "text/x-python",
   "name": "python",
   "nbconvert_exporter": "python",
   "pygments_lexer": "ipython3",
   "version": "3.6.8"
  }
 },
 "nbformat": 4,
 "nbformat_minor": 2
}
