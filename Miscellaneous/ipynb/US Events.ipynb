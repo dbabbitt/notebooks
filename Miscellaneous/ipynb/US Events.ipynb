{
 "cells": [
  {
   "cell_type": "code",
   "execution_count": null,
   "metadata": {},
   "outputs": [],
   "source": []
  },
  {
   "cell_type": "code",
   "execution_count": 1,
   "metadata": {},
   "outputs": [],
   "source": [
    "\n",
    "import sys\n",
    "\n",
    "# Insert at 1, 0 is the script path (or '' in REPL)\n",
    "sys.path.insert(1, '../py')"
   ]
  },
  {
   "cell_type": "code",
   "execution_count": 2,
   "metadata": {},
   "outputs": [
    {
     "name": "stdout",
     "output_type": "stream",
     "text": [
      "Pretty printing has been turned OFF\n",
      "C:\\Users\\dev\\Documents\\repositories\\notebooks\\Miscellaneous\\ipynb\\US Events.ipynb\n",
      "['s.attempt_to_pickle', 's.data_csv_folder', 's.data_folder', 's.encoding_type', 's.load_csv', 's.load_dataframes', 's.load_object', 's.save_dataframes', 's.saves_csv_folder', 's.saves_folder', 's.saves_pickle_folder', 's.store_objects']\n",
      "['wikipedia.API_URL', 'wikipedia.BeautifulSoup', 'wikipedia.Decimal', 'wikipedia.DisambiguationError', 'wikipedia.HTTPTimeoutError', 'wikipedia.ODD_ERROR_MESSAGE', 'wikipedia.PageError', 'wikipedia.RATE_LIMIT', 'wikipedia.RATE_LIMIT_LAST_CALL', 'wikipedia.RATE_LIMIT_MIN_WAIT', 'wikipedia.RedirectError', 'wikipedia.USER_AGENT', 'wikipedia.WikipediaException', 'wikipedia.WikipediaPage', 'wikipedia.cache', 'wikipedia.datetime', 'wikipedia.debug', 'wikipedia.donate', 'wikipedia.exceptions', 'wikipedia.geosearch', 'wikipedia.languages', 'wikipedia.page', 'wikipedia.random', 'wikipedia.re', 'wikipedia.requests', 'wikipedia.search', 'wikipedia.set_lang', 'wikipedia.set_rate_limiting', 'wikipedia.set_user_agent', 'wikipedia.stdout_encode', 'wikipedia.suggest', 'wikipedia.summary', 'wikipedia.sys', 'wikipedia.time', 'wikipedia.timedelta', 'wikipedia.unicode_literals', 'wikipedia.util', 'wikipedia.wikipedia']\n"
     ]
    },
    {
     "data": {
      "text/plain": [
       "['Config', 'In', 'Out', 'RandomForestClassifier', 'SequenceMatcher', 'Storage', '_', '__', '___', '__builtin__', '__builtins__', '__doc__', '__loader__', '__name__', '__nonzero__', '__package__', '__spec__', '_dh', '_i', '_i1', '_i2', '_ih', '_ii', '_iii', '_oh', 'bs', 'check_4_doubles', 'check_for_typos', 'conjunctify_list', 'copyfile', 'csv', 'encoding', 'example_iterrows', 'exit', 'filepath_regex', 'get_classifier', 'get_column_descriptions', 'get_data_structs_dataframe', 'get_datastructure_prediction', 'get_dir_tree', 'get_git_lfs_track_commands', 'get_importances', 'get_input_sample', 'get_ipython', 'get_max_rsquared_adj', 'get_module_version', 'get_notebook_path', 'get_page_tables', 'get_specific_gitignore_files', 'get_struct_name', 'humanize_bytes', 'io', 'ipykernel', 'json', 'jupyter_config_dir', 'math', 'notebook_path', 'notebookapp', 'nx', 'os', 'pd', 'pickle', 'plt', 'preprocess_data', 'print_all_files_ending_starting_with', 'print_all_files_ending_with', 'print_all_files_starting_with', 'quit', 're', 'remove_empty_folders', 's', 'scraping_utils', 'similar', 'sm', 'sns', 'stats', 'subprocess', 'sys', 'time', 'url_regex', 'urllib', 'wikipedia']"
      ]
     },
     "execution_count": 2,
     "metadata": {},
     "output_type": "execute_result"
    }
   ],
   "source": [
    "\n",
    "%pprint\n",
    "%run ../../load_magic/storage.py\n",
    "%run ../../load_magic/paths.py\n",
    "%run ../../load_magic/lists.py\n",
    "%run ../../load_magic/environment.py\n",
    "%run ../../load_magic/dataframes.py\n",
    "\n",
    "import scraping_utils\n",
    "wikipedia = scraping_utils.wikipedia\n",
    "\n",
    "from bs4 import BeautifulSoup as bs\n",
    "import networkx as nx\n",
    "import re\n",
    "import urllib.request\n",
    "\n",
    "notebook_path = get_notebook_path()\n",
    "print(notebook_path)\n",
    "s = Storage()\n",
    "#pandemic_df = s.load_object('pandemic_df')\n",
    "print(['s.{}'.format(fn) for fn in dir(s) if not fn.startswith('_')])\n",
    "print(['wikipedia.{}'.format(fn) for fn in dir(wikipedia) if not fn.startswith('_')])\n",
    "\n",
    "dir()"
   ]
  },
  {
   "cell_type": "code",
   "execution_count": 3,
   "metadata": {},
   "outputs": [
    {
     "name": "stdout",
     "output_type": "stream",
     "text": [
      "[(0, (4, 4)), (4, (4, 2)), (5, (3, 2)), (1, (1, 4)), (6, (2, 2)), (3, (1, 2)), (2, (1, 1))]\n"
     ]
    }
   ],
   "source": [
    "\n",
    "tables_url = 'https://en.wikipedia.org/wiki/2020_in_the_United_States#Events_by_month'\n",
    "tables_list = get_page_tables(tables_url)"
   ]
  },
  {
   "cell_type": "code",
   "execution_count": 201,
   "metadata": {},
   "outputs": [],
   "source": [
    "\n",
    "page_obj = wikipedia.page(title='2020 in the United States')\n",
    "#print(['page_obj.{}'.format(fn) for fn in dir(page_obj) if not fn.startswith('_')])\n",
    "\n",
    "\n",
    "page_html = page_obj.html()\n",
    "#print(['bs.{}'.format(fn) for fn in dir(bs) if not fn.startswith('_')])\n",
    "\n",
    "\n",
    "page_soup = bs(page_html, 'html.parser')\n",
    "#print(['page_soup.{}'.format(fn) for fn in dir(page_soup) if 'parent' in fn.lower()])\n",
    "\n",
    "\n",
    "headline_soup = page_soup.select(selector='#Events_by_month')[0].parent\n",
    "#print(['headline_soup.{}'.format(fn) for fn in dir(headline_soup) if 'next' in fn.lower()])"
   ]
  },
  {
   "cell_type": "code",
   "execution_count": 202,
   "metadata": {},
   "outputs": [],
   "source": [
    "\n",
    "import nltk.data\n",
    "from datetime import date\n",
    "\n",
    "brackets_regex = re.compile(r'\\[\\d+\\]\\s*', re.MULTILINE)\n",
    "dc_regex = re.compile(r'D\\.C\\.', re.MULTILINE)\n",
    "us_regex = re.compile(r'U\\.S\\.', re.MULTILINE)\n",
    "sent_regex = re.compile(r'\\.([A-Z]|2020)', re.MULTILINE)\n",
    "html_regex = re.compile(r'<[^>]+>', re.MULTILINE)\n",
    "ws_regex = re.compile(r'\\s+', re.MULTILINE)\n",
    "tokenizer = nltk.data.load('tokenizers/punkt/english.pickle')\n",
    "\n",
    "def clean_text(html_str):\n",
    "    text_str = html_regex.sub(' ', html_str)\n",
    "    text_str = ws_regex.sub(' ', text_str)\n",
    "    text_str = brackets_regex.sub('', text_str)\n",
    "    text_str = month_regex.sub('', text_str)\n",
    "    text_str = dc_regex.sub(r'DC. ', text_str)\n",
    "    text_str = us_regex.sub(r'US ', text_str)\n",
    "    text_str = sent_regex.sub(r'. \\1', text_str)\n",
    "    \n",
    "    return text_str"
   ]
  },
  {
   "cell_type": "code",
   "execution_count": 203,
   "metadata": {},
   "outputs": [],
   "source": [
    "\n",
    "punct_regex = re.compile(r' (:|,|\\.)')\n",
    "sq_regex = re.compile(r\" '(s| )\")\n",
    "sitat_regex = re.compile(r'\\[ *citation needed *\\] *')\n",
    "\n",
    "def clean_sent(sent_str):\n",
    "    sent_str = punct_regex.sub(r'\\1', sent_str)\n",
    "    sent_str = sq_regex.sub(r\"'\\1\", sent_str)\n",
    "    sent_str = sitat_regex.sub('', sent_str)\n",
    "    \n",
    "    return sent_str"
   ]
  },
  {
   "cell_type": "code",
   "execution_count": 204,
   "metadata": {},
   "outputs": [],
   "source": [
    "\n",
    "month_dict = {}\n",
    "text_dict = {}\n",
    "for month_soup in headline_soup.find_next_siblings(name='h3')[0:10]:\n",
    "    month_name = month_soup.select(selector='span.mw-headline')[0].text.strip()\n",
    "    month_regex = re.compile(month_name + r'\\s+\\d+(–\\d+)?:?\\s+(–\\s+)?', re.MULTILINE)\n",
    "    month_set = set()\n",
    "    content_soup = month_soup.find_next_siblings(name='ul')[0]\n",
    "    for link in content_soup.select(selector='a'):\n",
    "        attrs_dict = link.attrs\n",
    "        if 'title' in attrs_dict:\n",
    "            title = attrs_dict['title']\n",
    "            if not title.startswith(month_name):\n",
    "                month_set.add(title)\n",
    "    month_dict[month_name] = sorted(list(month_set), key=lambda x: len(x))\n",
    "    \n",
    "    html_str = str(content_soup.extract())\n",
    "    text_str = clean_text(html_str)\n",
    "    sent_list = []\n",
    "    for sent_str in tokenizer.tokenize(text_str):\n",
    "        cleaned_str = clean_sent(sent_str.strip())\n",
    "        sent_list.append(cleaned_str)\n",
    "    text_dict[month_name] = sorted(sent_list, key=lambda x: len(x))"
   ]
  },
  {
   "cell_type": "code",
   "execution_count": 205,
   "metadata": {},
   "outputs": [
    {
     "name": "stdout",
     "output_type": "stream",
     "text": [
      "\n",
      "January\n",
      "Donald Trump becomes the first sitting president to personally attend the annual March for Life anti-abortion protest in Washington, DC.\n",
      "2019–20 Persian Gulf crisis: Iraqi militiamen and protesters disperse from the site of the US  embassy in Baghdad a day after attacking it.\n",
      "A helicopter crash in Calabasas, California kills nine people, including basketball star Kobe Bryant and his 13-year-old daughter Gianna Bryant.\n",
      "Several new regulations take effect in the United States, including new regulations on retirement funds, new minimum wage rules, and new overtime rules.\n",
      "COVID-19 pandemic: The first case of the COVID-19 coronavirus in the United States is confirmed by the Centers for Disease Control and Prevention (CDC).\n",
      "The Women's National Basketball Association and its players' union reach an eight-year agreement allowing top players to earn $500,000 with an average salary of $130,000.\n",
      "2019–20 Persian Gulf crisis: President Donald Trump approves the targeted killing of Iranian general Qasem Soleimani and Iraqi paramilitary leader Abu Mahdi al-Muhandis in Baghdad, Iraq.\n",
      "Puerto Rico is hit by a 5.9M w earthquake and several earthquakes of 5.0M w, following the 7 January 6.4M w that left one dead and several wounded in addition to thousands without electric power.\n",
      "COVID-19 pandemic: The CDC confirms the first case of human-to-human transmission of the COVID-19 coronavirus in the US  COVID-19 pandemic: President Donald Trump imposes travel restrictions preventing foreign nationals from entering the US  if they visited China within the previous two weeks.\n",
      "The American Cancer Society reports a 2.2% drop in the cancer death rate between 2016 and 2017, the largest single-year decline in mortality for this disease ever recorded in the US  Persian Gulf crisis: The House of Representatives votes 224–194 to pass a non-binding War Powers Resolution to limit the president's ability to pursue military actions against Iran without congressional consent.\n",
      "\n",
      "February\n",
      "Among the guests are Venezuelan opposition leader Juan Guaidó and conservative radio host Rush Limbaugh, who is awarded the Presidential Medal of Freedom.\n",
      "COVID-19 pandemic: The first death from COVID-19 in the US  is reported by officials in Washington state, as the total number of cases nationwide reaches 66.\n",
      "The National Highway Traffic Safety Administration (NHTSA) gives permission for Nuro Inc. to deploy up to 5,000 driverless delivery vehicles across the country.\n",
      "The impeachment trial of President Donald Trump concludes with the Senate voting 52–48 to acquit on the first article of impeachment and 53–47 on the second charge.\n",
      "Bong Joon-ho's Parasite becomes the first South Korean film to receive Academy Award recognition, as well as the first non-English-language film to win Best Picture.\n",
      "Former Baltimore mayor Catherine Pugh is sentenced to three years in prison and three years probation after pleading guilty to tax evasion and conspiracy to defraud the government.\n",
      "Persian Gulf crisis: The Pentagon confirms that more than 100 US  troops were diagnosed with traumatic brain injuries following the January Iranian ballistic missile attack in Iraq.\n",
      "COVID-19 pandemic: More than 300 Americans are evacuated from the quarantined Diamond Princess cruise ship in Japan, including 14 who have tested positive for the COVID-19 coronavirus.\n",
      "Political consultant Roger Stone is sentenced to 40 months in prison after being found guilty of witness tampering, obstructing an official proceeding, and five counts of making false statements.\n",
      "COVID-19 pandemic: Growing fear of the COVID-19 coronavirus pandemic causes the Dow Jones Industrial Average to plunge by 1,190.95 points (4.4%), closing at 25,766.64—its largest one-day points decline in history.\n",
      "\n",
      "March\n",
      "The first Phase 1 clinical trial evaluating a potential COVID-19 vaccine begins at Kaiser Permanente Washington Health Research Institute in Seattle.\n",
      "COVID-19 pandemic: President Trump declares a national emergency in response to the COVID-19 pandemic, freeing up $50 billion in disaster relief funds.\n",
      "The annual South by Southwest (SXSW) festival is canceled due to COVID-19 fears; it is the first time the event has been canceled in its 34-year history.\n",
      "The Justice Department and the Drug Enforcement Administration announce the arrest of more than 600 alleged members of the Jalisco New Generation Cartel.\n",
      "Black Thursday 2020: Following a series of recent major falls, the Dow Jones plunges yet again, this time by over 9.5%, along with markets around the world.\n",
      "Online retail giant Amazon announces that it will hire an extra 100,000 workers to cope with the surge in demand for online deliveries triggered by COVID-19.\n",
      "Breonna Taylor, a 26-year-old emergency medical technician, is shot eight times by Louisville police during a no-knock warrant as part of a narcotics investigation.\n",
      "COVID-19 pandemic: The number of COVID-19 cases in the United States exceeds 1,000, with a 50% increase within a 24-hour period and infections reported in 35 states.\n",
      "COVID-19 pandemic: President Trump announces a 30-day ban on incoming travel from Europe (with the exception of the United Kingdom ), effective midnight EDT (0400 GMT) on March 13.\n",
      "The Dow Jones falls by −2,997.10, the single largest point drop in history and the second largest percentage drop ever at −12.93%, an even greater crash than the Wall Street Crash of 1929.\n",
      "\n",
      "April\n",
      "The Pentagon officially releases three short videos showing \"unidentified aerial phenomena\" ( UFOs ) that had previously been released by The New York Times in 2019.\n",
      "COVID-19 pandemic: Michigan Governor Gretchen Whitmer faces two federal lawsuits accusing her of violating constitutional rights during the state's containment efforts.\n",
      "Governor of New York, Andrew Cuomo, signs an executive order requiring everyone in the state to wear a mask or a mouth/nose covering in public when not social distancing.\n",
      "COVID-19 pandemic: The US  records the most COVID-19 deaths in a single day to date, with more than 1,800 fatalities reported, taking the cumulative total to nearly 13,000.\n",
      "The Trump administration deploys anti-drug Navy ships and AWACS planes near Venezuela in reportedly the largest military build-up in the region since the 1989 invasion of Panama.\n",
      "Florida's Duval County is the first in the state to ease restrictions, with Jacksonville, Atlantic, and Neptune being the first beaches in the state to reopen, on a limited basis.\n",
      "COVID-19 pandemic: President Trump announces that he will suspend US  funding of the World Health Organization (WHO) pending an investigation into its early response to the outbreak.\n",
      "COVID-19 pandemic: It is revealed that nearly 22 million Americans have filed for unemployment in a single month due to COVID-19 lockdowns, the worst unemployment crisis since the Great Depression.\n",
      "NASA selects three US  companies— Blue Origin, Dynetics, and SpaceX —to design and develop human landing systems (HLS) for the agency's Artemis program, one of which is planned to deliver the first woman and next man on the Moon by 2024.\n",
      "COVID-19 pandemic: The state of Missouri challenges China's sovereign immunity in US  district court by suing three Chinese government ministries, two local governments, two laboratories and the Chinese Communist Party over its handling of the COVID-19 outbreak.\n",
      "\n",
      "May\n",
      "Minneapolis police officer Derek Chauvin is videotaped kneeling on the neck of George Floyd, 46, until he dies, as three others watch.\n",
      "COVID-19 pandemic: The national unemployment level reaches 14.7%, with more than 33 million jobless claims having been filed since mid-March.\n",
      "The Senate Intelligence Committee submits the fifth and final volume of its report on Russian election meddling to the ODNI for classification review.\n",
      "COVID-19 pandemic: Paul Manafort, the former election campaign chairman for Trump, is released to home confinement due to threats of COVID-19 infection.\n",
      "Two dams in Midland County, Michigan, fail, resulting in extensive evacuations and the declaration of a state of emergency by Governor Gretchen Whitmer.\n",
      "COVID-19 pandemic: The Trump administration formally announces Operation Warp Speed, a public–private partnership for accelerating the development of a COVID-19 vaccine.\n",
      "The Congressional Budget Office reports a 38% fall in GDP on an annualized basis in the second quarter of 2020, with 26 million more unemployed Americans than in Q4 2019.\n",
      "James Jamal Curry, 31, who spat and coughed on a police officer in Miami, Florida, after claiming to have COVID-19, is indicted for committing a biological weapon hoax (terrorism).\n",
      "The FBI confirms that the Naval Air Station Pensacola shooting in 2019 was the first terrorist attack on American territory that had been directed by a foreign actor since September 11, 2001.\n",
      "On May 11, nearly 2,000 former Justice Department officials sign a letter calling for Attorney General William Barr to resign over what they describe as his improper intervention in the Flynn case.\n",
      "\n",
      "June\n",
      "The Supreme Court rules that Title VII of the Civil Rights Act of 1964, which makes it illegal for employers to discriminate because of a person's sex, also covers sexual orientation.\n",
      "President Trump signs an executive order on ensuring that anyone who destroys or vandalizes a public monument, memorial, or statue is prosecuted to the fullest extent under federal law.\n",
      "COVID-19 pandemic: The FDA withdraws emergency use authorization for hydroxychloroquine to treat hospitalized COVID-19 patients, saying the drug carries too many risks without any apparent benefit.\n",
      "The Environmental Protection Agency (EPA) drops the introduction of federal limits for perchlorate —a component of rocket fuel, ammunition, and explosives—which has been linked to infant brain damage.\n",
      "The Trump administration authorizes sanctions and additional visa restrictions against the International Criminal Court in retaliation for their investigation into potential war crimes by US  officials.\n",
      "The Minneapolis City Council votes unanimously to disband the Minneapolis Police Department and replace it with a \"community\" safety department, however it is prevented from doing so by the city charter.\n",
      "The Trump administration requests that a federal judge block publication of John Bolton's new book, The Room Where It Happened, a memoir of the former national security adviser's time in the Trump White House.\n",
      "Following a vote by the state legislature, Mississippi governor Tate Reeves signs a bill retiring the official Mississippi state flag, the last state flag incorporating the Confederate Battle Flag of the Army of Northern Virginia into its design.\n",
      "Amid renewed national debate over Confederate monuments, Army Secretary Ryan D. McCarthy says he will consider renaming the service's 10 bases and facilities that are named after Confederate leaders, a reversal of the Army's previous position on the issue.\n",
      "The New York Times, citing unnamed sources, reports that a Russian military intelligence unit offered bounties to Taliban -linked militants for the killing of US  soldiers in Afghanistan and that President Trump was briefed on the findings in late March 2020, but did not authorize any response.\n",
      "\n",
      "July\n",
      "White supremacist and murderer Daniel Lewis Lee is executed by lethal injection in Terre Haute, Indiana, becoming the first federal execution since 2003.\n",
      "Hurricane Hanna makes two landfalls in South Texas with 90 mph winds (145 km/h), one in Padre Island, Texas and another landfall in Kennedy County, Texas.\n",
      "COVID-19 pandemic: Pharmaceutical company Moderna announces that its vaccine will begin the final phase of testing, with approximately 30,000 human volunteers.\n",
      "Oregon Governor Kate Brown and Vice President Mike Pence agree to a phased withdrawal of deployed federal law enforcement from Portland following recent protests.\n",
      "Secretary of Defense Mark Esper issues a memorandum to the military on the appropriate display of flags, which excludes the Confederate flag, thereby effectively banning it.\n",
      "COVID-19 pandemic: President Trump is seen publicly wearing a face mask for the first time while visiting wounded soldiers and health care workers at Walter Reed military hospital.\n",
      "COVID-19 pandemic: The Trump administration orders hospitals to bypass the Centers for Disease Control and Prevention and send all COVID-19 patient information to a central database in Washington.\n",
      "The House Armed Services Committee votes for a National Defense Authorization Act amendment to restrict President Trump's ongoing troop withdrawal from Afghanistan and prospective withdrawal from Germany.\n",
      "COVID-19 pandemic: Florida reports 10,000 new coronavirus cases in a single day, the biggest one-day increase in the state since the pandemic started, and more than any European country had at the height of their outbreaks.\n",
      "Oregon Attorney General Ellen Rosenblum files a lawsuit against the federal government, accusing it of unlawfully detaining protesters, after footage emerges of agents in unmarked vehicles appearing to forcefully seize protesters without justification.\n",
      "\n",
      "August\n",
      "Facebook founder Mark Zuckerberg reaches a net worth exceeding $100 billion, becoming only the third centibillionaire, alongside Jeff Bezos and Bill Gates.\n",
      "The Attorney General of New York, Letitia James, announces a lawsuit aimed at dissolving the National Rifle Association over alleged financial mismanagement.\n",
      "President Trump is escorted from a news briefing by the Secret Service following a shooting outside the White House, after which a 51-year-old male suspect is taken to hospital.\n",
      "This follows public statements by President Trump that he intends to block funding for the USPS so that Democrats are unable to expand mail-in voting ahead of the November election.\n",
      "Delegates of the United States Republican Party formally nominate incumbent President Donald Trump and Vice President Mike Pence as the party's nominees for the 2020 United States presidential election.\n",
      "President Trump signs an executive order banning any US  companies or citizens from making transactions with ByteDance, the parent company of the video-sharing social networking service TikTok, in 45 days.\n",
      "Reports emerge that the Pentagon is establishing a new task force to investigate UFO sightings, particularly over military bases, similar to that of the US  Navy's Unidentified Aerial Phenomenon Task Force.\n",
      "COVID-19 pandemic: Health officials express concern as 250,000 people, many without face masks and who do not abide by social distancing guidelines, participate in the Sturgis Motorcycle Rally in South Dakota.\n",
      "August 10-11 - A powerful derecho with winds recorded at up to 140mph strikes the Midwest, resulting in hundreds of injuries, 4 deaths, widespread power and other utility outages, flattened crops, and severe property damage.\n",
      "Delegates of the United States Democratic Party formally chose former Vice President Joe Biden and Senator Kamala Harris of California as the party's nominees for president and vice president, respectively, in the 2020 United States presidential election.\n",
      "\n",
      "September\n",
      "The New York Times, having obtained more than two decades of data from President Trump's personal and business tax returns, reveals \"chronic losses and years of tax avoidance.\"\n",
      "2020 Stanley Cup Finals: The Tampa Bay Lightning defeat the Dallas Stars four games to two, to win their second Stanley Cup championship, in a season upended by the coronavirus pandemic.\n",
      "A memo to government agencies from the Trump administration calls on all executive branch agencies to cease funding for diversity and sensitivity training and teachings of critical race theory.\n",
      "2020 United States Supreme Court vacancy: President Donald Trump chooses Seventh Circuit Court of Appeals Judge Amy Coney Barrett to take the seat vacated by the death of Ruth Bader Ginsburg on the United States Supreme Court.\n",
      "Among its various allegations, the paper reports that he paid just $750 in tax during 2016 and again in 2017, holds $421 million in debt, claimed $70,000 for hair-styling costs, and could owe the IRS $100 million in penalties.\n",
      "Microsoft agrees to buy ZeniMax Media holding company, including Bethesda Softworks and their following subsidiaries for US$7.5 billion, in what is the biggest and most expensive takeover in the history of the video game industry.\n",
      "The publication of a book and tape recording by investigative journalist Bob Woodward suggests that President Trump knew in February that COVID-19 was \"deadly stuff\", but intentionally downplayed the severity of the virus to the public.\n",
      "At a White House press conference, President Trump refuses to commit to a peaceful transfer of power if he loses the November election, saying only: \"We're going to have to see what happens,\" while citing his concerns about potential voter fraud during postal voting.\n",
      "two deputies of the Los Angeles County Sheriff's Department were shot and critically injured while sitting in their patrol car in Compton, California in an ambush -style attack Hurricane Sally brings historic and catastrophic flooding to the southern US after making landfall.\n",
      "President Trump pitches his \"Platinum Plan\" at a campaign rally in Atlanta, in which he proposes making Juneteenth a federal holiday, labeling the Ku Klux Klan and Antifa as terrorist organizations, and making lynching a national hate crime, among other socioeconomic initiatives aimed at African Americans.\n",
      "\n",
      "October\n",
      "– The White House COVID-19 outbreak is first announced, as both President Trump and First Lady Melania Trump test positive for COVID-19 and enter quarantine.\n",
      "Using the \"body and process called for in the 25th Amendment \", this would give power to Congress to evaluate the health and mental stability of the President.\n",
      "The Trump administration announces that it plans to slash refugee admissions to US  for 2021 to a record low, 15,000 refugees down from a cap of 18,000 for 2020.\n",
      "Counselors to the President Hope Hicks and Kellyanne Conway and several other White House staffers, along with multiple members of Congress, also tested positive.\n",
      "In an unprecedented move, all 34 editors of top medical journal, The New England Journal of Medicine, condemn President Trump's handling of the coronavirus crisis.\n",
      "Trump returns to the White House after three days at Walter Reed National Military Medical Center, during which time he received a number of experimental treatments.\n",
      "Second United States presidential debate: President Donald Trump and former Vice President Joe Biden face off in Nashville, Tennessee, for a final debate before the election.\n",
      "Gretchen Whitmer kidnapping plot: The FBI announces that 13 men from militia group Wolverine Watchmen have been charged in a plot to kidnap Michigan Governor Gretchen Whitmer at her vacation home.\n",
      ": White House COVID-19 outbreak: US  Senator Ron Johnson from Wisconsin tests positive for COVID-19, joining US  Senators Thom Tillis from North Carolina and Mike Lee from Utah as high-profile politicians infected with COVID-19 who attended recent events with President Trump.\n",
      "Protesters in Portland, Oregon, topple the statue of former President Theodore Roosevelt and the statue of Abraham Lincoln on an Indigenous Peoples' Day of Rage against Lincoln's execution of 38 Dakota and Roosevelt's opinion that America would be better without Native Americans.\n"
     ]
    }
   ],
   "source": [
    "\n",
    "for month_name, event_list in text_dict.items():\n",
    "    print()\n",
    "    print(month_name)\n",
    "    for event_name in event_list[-10:]:\n",
    "        print(event_name)"
   ]
  },
  {
   "cell_type": "code",
   "execution_count": null,
   "metadata": {},
   "outputs": [],
   "source": []
  }
 ],
 "metadata": {
  "kernelspec": {
   "display_name": "Python 3",
   "language": "python",
   "name": "python3"
  },
  "language_info": {
   "codemirror_mode": {
    "name": "ipython",
    "version": 3
   },
   "file_extension": ".py",
   "mimetype": "text/x-python",
   "name": "python",
   "nbconvert_exporter": "python",
   "pygments_lexer": "ipython3",
   "version": "3.7.6"
  }
 },
 "nbformat": 4,
 "nbformat_minor": 4
}
