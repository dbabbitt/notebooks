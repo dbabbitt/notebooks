{
 "cells": [
  {
   "cell_type": "code",
   "execution_count": 10,
   "metadata": {
    "collapsed": false
   },
   "outputs": [],
   "source": [
    "\n",
    "import os\n",
    "from shutil import copyfile\n",
    "\n",
    "root_dir = 'C:\\\\Users\\\\Dave\\\\Documents\\\\Python Scripts\\\\py_ipynb_files\\\\py_ipynb_files\\\\'\n",
    "py_path = 'C:\\\\Users\\\\Dave\\\\Documents\\\\Python Scripts\\\\py\\\\'\n",
    "ipynb_path = 'C:\\\\Users\\\\Dave\\\\Documents\\\\Python Scripts\\\\ipynb\\\\'\n",
    "for sub_dir, dirs, files in os.walk(root_dir):\n",
    "    for src_file in files:\n",
    "        file_path = os.path.join(sub_dir, src_file)\n",
    "        part_list = src_file.split('.')\n",
    "        dst_file = '.'.join(part_list[:-2] + [part_list[-1]] + [part_list[-2]])\n",
    "        file_ext = part_list[-2]\n",
    "        if file_ext == 'py':\n",
    "            dest_path = os.path.join(py_path, dst_file)\n",
    "        elif file_ext == 'ipynb':\n",
    "            dest_path = os.path.join(ipynb_path, dst_file)\n",
    "        copyfile(file_path, dest_path)"
   ]
  },
  {
   "cell_type": "code",
   "execution_count": 9,
   "metadata": {
    "collapsed": false
   },
   "outputs": [
    {
     "data": {
      "text/plain": [
       "'init.HGFYTH.py'"
      ]
     },
     "execution_count": 9,
     "metadata": {},
     "output_type": "execute_result"
    }
   ],
   "source": [
    "\n",
    "part_list = ['init', 'py', 'HGFYTH']\n",
    "'.'.join(part_list[:-2] + [part_list[-1]] + [part_list[-2]])"
   ]
  },
  {
   "cell_type": "code",
   "execution_count": null,
   "metadata": {
    "collapsed": true
   },
   "outputs": [],
   "source": []
  }
 ],
 "metadata": {
  "anaconda-cloud": {},
  "kernelspec": {
   "display_name": "Python [default]",
   "language": "python",
   "name": "python3"
  },
  "language_info": {
   "codemirror_mode": {
    "name": "ipython",
    "version": 3
   },
   "file_extension": ".py",
   "mimetype": "text/x-python",
   "name": "python",
   "nbconvert_exporter": "python",
   "pygments_lexer": "ipython3",
   "version": "3.5.2"
  }
 },
 "nbformat": 4,
 "nbformat_minor": 2
}
