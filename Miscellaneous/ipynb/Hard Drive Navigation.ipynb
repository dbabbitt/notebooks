{
 "cells": [
  {
   "cell_type": "code",
   "execution_count": 2,
   "metadata": {},
   "outputs": [
    {
     "name": "stdout",
     "output_type": "stream",
     "text": [
      "Pretty printing has been turned OFF\n"
     ]
    }
   ],
   "source": [
    "\n",
    "import os\n",
    "import subprocess\n",
    "%pprint"
   ]
  },
  {
   "cell_type": "code",
   "execution_count": 3,
   "metadata": {},
   "outputs": [
    {
     "name": "stdout",
     "output_type": "stream",
     "text": [
      "C:\\$WINDOWS.~BT\\NewOS\\Program Files\\WindowsApps\\Microsoft.SkypeApp_14.35.152.0_x64__kzf8qxf38zg5c\\Assets\\Audio\\Skype_Video_Msg_Stop.m4a\n",
      "C:\\$WINDOWS.~BT\\NewOS\\Program Files\\WindowsApps\\Microsoft.WindowsAlarms_10.1812.10043.0_neutral_split.scale-100_8wekyb3d8bbwe\\Assets\\StopwatchLargeTile.contrast-black_scale-100.png\n",
      "C:\\$WINDOWS.~BT\\NewOS\\Program Files\\WindowsApps\\Microsoft.WindowsAlarms_10.1812.10043.0_neutral_split.scale-100_8wekyb3d8bbwe\\Assets\\StopwatchLargeTile.contrast-white_scale-100.png\n",
      "C:\\$WINDOWS.~BT\\NewOS\\Program Files\\WindowsApps\\Microsoft.WindowsAlarms_10.1812.10043.0_neutral_split.scale-100_8wekyb3d8bbwe\\Assets\\StopwatchMedTile.contrast-black_scale-100.png\n",
      "C:\\$WINDOWS.~BT\\NewOS\\Program Files\\WindowsApps\\Microsoft.WindowsAlarms_10.1812.10043.0_neutral_split.scale-100_8wekyb3d8bbwe\\Assets\\StopwatchMedTile.contrast-white_scale-100.png\n",
      "C:\\$WINDOWS.~BT\\NewOS\\Program Files\\WindowsApps\\Microsoft.WindowsAlarms_10.1812.10043.0_neutral_split.scale-100_8wekyb3d8bbwe\\Assets\\StopwatchSmallTile.contrast-black_scale-100.png\n",
      "C:\\$WINDOWS.~BT\\NewOS\\Program Files\\WindowsApps\\Microsoft.WindowsAlarms_10.1812.10043.0_neutral_split.scale-100_8wekyb3d8bbwe\\Assets\\StopwatchSmallTile.contrast-white_scale-100.png\n",
      "C:\\$WINDOWS.~BT\\NewOS\\Program Files\\WindowsApps\\Microsoft.WindowsAlarms_10.1812.10043.0_neutral_split.scale-100_8wekyb3d8bbwe\\Assets\\StopwatchWideTile.contrast-black_scale-100.png\n",
      "C:\\$WINDOWS.~BT\\NewOS\\Program Files\\WindowsApps\\Microsoft.WindowsAlarms_10.1812.10043.0_neutral_split.scale-100_8wekyb3d8bbwe\\Assets\\StopwatchWideTile.contrast-white_scale-100.png\n",
      "C:\\$WINDOWS.~BT\\NewOS\\Program Files\\WindowsApps\\Microsoft.WindowsAlarms_10.1812.10043.0_neutral_split.scale-125_8wekyb3d8bbwe\\Assets\\StopwatchLargeTile.contrast-black_scale-125.png\n",
      "C:\\$WINDOWS.~BT\\NewOS\\Program Files\\WindowsApps\\Microsoft.WindowsAlarms_10.1812.10043.0_neutral_split.scale-125_8wekyb3d8bbwe\\Assets\\StopwatchLargeTile.contrast-white_scale-125.png\n",
      "C:\\$WINDOWS.~BT\\NewOS\\Program Files\\WindowsApps\\Microsoft.WindowsAlarms_10.1812.10043.0_neutral_split.scale-125_8wekyb3d8bbwe\\Assets\\StopwatchMedTile.contrast-black_scale-125.png\n",
      "C:\\$WINDOWS.~BT\\NewOS\\Program Files\\WindowsApps\\Microsoft.WindowsAlarms_10.1812.10043.0_neutral_split.scale-125_8wekyb3d8bbwe\\Assets\\StopwatchMedTile.contrast-white_scale-125.png\n",
      "C:\\$WINDOWS.~BT\\NewOS\\Program Files\\WindowsApps\\Microsoft.WindowsAlarms_10.1812.10043.0_neutral_split.scale-125_8wekyb3d8bbwe\\Assets\\StopwatchSmallTile.contrast-black_scale-125.png\n",
      "C:\\$WINDOWS.~BT\\NewOS\\Program Files\\WindowsApps\\Microsoft.WindowsAlarms_10.1812.10043.0_neutral_split.scale-125_8wekyb3d8bbwe\\Assets\\StopwatchSmallTile.contrast-white_scale-125.png\n",
      "C:\\$WINDOWS.~BT\\NewOS\\Program Files\\WindowsApps\\Microsoft.WindowsAlarms_10.1812.10043.0_neutral_split.scale-125_8wekyb3d8bbwe\\Assets\\StopwatchWideTile.contrast-black_scale-125.png\n",
      "C:\\$WINDOWS.~BT\\NewOS\\Program Files\\WindowsApps\\Microsoft.WindowsAlarms_10.1812.10043.0_neutral_split.scale-125_8wekyb3d8bbwe\\Assets\\StopwatchWideTile.contrast-white_scale-125.png\n",
      "C:\\$WINDOWS.~BT\\NewOS\\Program Files\\WindowsApps\\Microsoft.WindowsAlarms_10.1812.10043.0_x64__8wekyb3d8bbwe\\Assets\\StopwatchLargeTile.contrast-black_scale-200.png\n",
      "C:\\$WINDOWS.~BT\\NewOS\\Program Files\\WindowsApps\\Microsoft.WindowsAlarms_10.1812.10043.0_x64__8wekyb3d8bbwe\\Assets\\StopwatchLargeTile.contrast-white_scale-200.png\n",
      "C:\\$WINDOWS.~BT\\NewOS\\Program Files\\WindowsApps\\Microsoft.WindowsAlarms_10.1812.10043.0_x64__8wekyb3d8bbwe\\Assets\\StopwatchMedTile.contrast-black_scale-200.png\n",
      "C:\\$WINDOWS.~BT\\NewOS\\Program Files\\WindowsApps\\Microsoft.WindowsAlarms_10.1812.10043.0_x64__8wekyb3d8bbwe\\Assets\\StopwatchMedTile.contrast-white_scale-200.png\n",
      "C:\\$WINDOWS.~BT\\NewOS\\Program Files\\WindowsApps\\Microsoft.WindowsAlarms_10.1812.10043.0_x64__8wekyb3d8bbwe\\Assets\\StopwatchSmallTile.contrast-black_scale-200.png\n",
      "C:\\$WINDOWS.~BT\\NewOS\\Program Files\\WindowsApps\\Microsoft.WindowsAlarms_10.1812.10043.0_x64__8wekyb3d8bbwe\\Assets\\StopwatchSmallTile.contrast-white_scale-200.png\n",
      "C:\\$WINDOWS.~BT\\NewOS\\Program Files\\WindowsApps\\Microsoft.WindowsAlarms_10.1812.10043.0_x64__8wekyb3d8bbwe\\Assets\\StopwatchWideTile.contrast-black_scale-200.png\n",
      "C:\\$WINDOWS.~BT\\NewOS\\Program Files\\WindowsApps\\Microsoft.WindowsAlarms_10.1812.10043.0_x64__8wekyb3d8bbwe\\Assets\\StopwatchWideTile.contrast-white_scale-200.png\n",
      "C:\\$WINDOWS.~BT\\NewOS\\Program Files\\WindowsApps\\Microsoft.WindowsFeedbackHub_1.1811.10571.0_x64__8wekyb3d8bbwe\\Assets\\StopReproTraceIcon-glyph-e916.png\n",
      "C:\\$WINDOWS.~BT\\NewOS\\Users\\Dave Babbitt\\Favorites\\HP\\Virginia Dog Fences - Richmond VA Pet Stop dog fence installations and service.url\n",
      "C:\\$WINDOWS.~BT\\NewOS\\Users\\MBabbitt\\AppData\\Roaming\\Microsoft\\Windows\\Recent\\How to stop yelling.docx.lnk\n",
      "C:\\$WINDOWS.~BT\\NewOS\\Windows\\Media\\onestop.mid\n",
      "C:\\$WINDOWS.~BT\\NewOS\\Windows\\Media\\Windows Critical Stop.wav\n",
      "C:\\$WINDOWS.~BT\\NewOS\\Windows\\System32\\downlevel\\api-ms-win-core-processtopology-obsolete-l1-1-0.dll\n",
      "C:\\$WINDOWS.~BT\\NewOS\\Windows\\System32\\WindowsPowerShell\\v1.0\\Modules\\PSDesiredStateConfiguration\\Stop-DscConfiguration.cdxml\n",
      "C:\\$WINDOWS.~BT\\NewOS\\Windows\\SystemApps\\Microsoft.MicrosoftEdgeDevToolsClient_8wekyb3d8bbwe\\23\\common\\perftools\\images\\i_stop.png\n",
      "C:\\$WINDOWS.~BT\\NewOS\\Windows\\SystemApps\\Microsoft.XboxGameCallableUI_cw5n1h2txyewy\\Pages\\ConnectedStorage\\StopOrKeepSyncingPage.xbf\n",
      "C:\\$WINDOWS.~BT\\NewOS\\Windows\\SysWOW64\\downlevel\\api-ms-win-core-processtopology-obsolete-l1-1-0.dll\n",
      "C:\\$WINDOWS.~BT\\NewOS\\Windows\\SysWOW64\\WindowsPowerShell\\v1.0\\Modules\\PSDesiredStateConfiguration\\Stop-DscConfiguration.cdxml\n",
      "C:\\$WINDOWS.~BT\\NewOS\\Windows\\WinSxS\\amd64_microsoft-windows-m..namespace-downlevel_31bf3856ad364e35_10.0.18362.1_none_0df087b112ea8249\\api-ms-win-core-processtopology-obsolete-l1-1-0.dll\n",
      "C:\\$WINDOWS.~BT\\NewOS\\Windows\\WinSxS\\amd64_microsoft-windows-m..oolsclient.appxmain_31bf3856ad364e35_10.0.18362.1_none_92399784a690c434\\i_stop.png\n",
      "C:\\$WINDOWS.~BT\\NewOS\\Windows\\WinSxS\\amd64_microsoft-windows-m..oolsclient.appxmain_31bf3856ad364e35_10.0.18362.267_none_15a0876cbb008dc2\\i_stop.png\n",
      "C:\\$WINDOWS.~BT\\NewOS\\Windows\\WinSxS\\amd64_microsoft-windows-shell-sounds_31bf3856ad364e35_10.0.18362.1_none_e96fec2e32c20607\\onestop.mid\n",
      "C:\\$WINDOWS.~BT\\NewOS\\Windows\\WinSxS\\amd64_microsoft-windows-shell-sounds_31bf3856ad364e35_10.0.18362.1_none_e96fec2e32c20607\\Windows Critical Stop.wav\n",
      "C:\\$WINDOWS.~BT\\NewOS\\Windows\\WinSxS\\amd64_microsoft-xbox-gamecallableui.appxmain_31bf3856ad364e35_10.0.18362.1_none_f57d4ec6648b3d90\\StopOrKeepSyncingPage.xbf\n",
      "C:\\$WINDOWS.~BT\\NewOS\\Windows\\WinSxS\\amd64_microsoft-xbox-gamecallableui.appxmain_31bf3856ad364e35_10.0.18362.267_none_78e43eae78fb071e\\StopOrKeepSyncingPage.xbf\n",
      "C:\\$WINDOWS.~BT\\NewOS\\Windows\\WinSxS\\amd64_microsoft-xbox-gamecallableui.appxmain_31bf3856ad364e35_10.0.18362.267_none_78e43eae78fb071e\\f\\StopOrKeepSyncingPage.xbf\n",
      "C:\\$WINDOWS.~BT\\NewOS\\Windows\\WinSxS\\amd64_microsoft-xbox-gamecallableui.appxmain_31bf3856ad364e35_10.0.18362.267_none_78e43eae78fb071e\\r\\StopOrKeepSyncingPage.xbf\n",
      "C:\\$WINDOWS.~BT\\NewOS\\Windows\\WinSxS\\amd64_microsoft.powershell.dsc_31bf3856ad364e35_10.0.18362.1_none_b7f63d74c614731a\\Stop-DscConfiguration.cdxml\n",
      "C:\\$WINDOWS.~BT\\NewOS\\Windows\\WinSxS\\wow64_microsoft.powershell.dsc_31bf3856ad364e35_10.0.18362.1_none_c24ae7c6fa753515\\Stop-DscConfiguration.cdxml\n",
      "C:\\$WINDOWS.~BT\\NewOS\\Windows\\WinSxS\\x86_microsoft-windows-m..namespace-downlevel_31bf3856ad364e35_10.0.18362.1_none_b1d1ec2d5a8d1113\\api-ms-win-core-processtopology-obsolete-l1-1-0.dll\n",
      "C:\\AsusVibeData\\skin\\default\\bgPlayer\\stop_down.png\n",
      "C:\\AsusVibeData\\skin\\default\\bgPlayer\\stop_normal.png\n",
      "C:\\AsusVibeData\\skin\\default\\bgPlayer\\stop_over.png\n",
      "C:\\AsusVibeData\\skin\\default\\content playlist\\stop_down.png\n",
      "C:\\AsusVibeData\\skin\\default\\content playlist\\stop_normal.png\n",
      "C:\\AsusVibeData\\skin\\default\\content playlist\\stop_over.png\n",
      "C:\\AsusVibeData\\skin\\default\\player\\stop_down.png\n",
      "C:\\AsusVibeData\\skin\\default\\player\\stop_normal.png\n",
      "C:\\AsusVibeData\\skin\\default\\player\\stop_over.png\n",
      "C:\\CocosCreator\\resources\\app.asar.unpacked\\editor\\builtin\\anysdk\\panel\\resources\\tool\\win\\Python\\site-packages\\nuitka\\build\\inline_copy\\lib\\scons-2.3.2\\SCons\\Options\\ListOption.py\n",
      "C:\\Program Files\\Common Files\\Apple\\Apple Application Support\\WebKit.resources\\WebInspectorUI\\Images\\AuditStop.svg\n",
      "C:\\Program Files\\Common Files\\Apple\\Apple Application Support\\WebKit.resources\\WebInspectorUI\\Images\\EventStop.svg\n",
      "C:\\Program Files\\Common Files\\Apple\\Apple Application Support\\WebKit.resources\\WebInspectorUI\\Images\\GradientStop.png\n",
      "C:\\Program Files\\Common Files\\Apple\\Apple Application Support\\WebKit.resources\\WebInspectorUI\\Images\\GradientStop@2x.png\n",
      "C:\\Program Files\\Common Files\\Apple\\Apple Application Support\\WebKit.resources\\WebInspectorUI\\Images\\GradientStopSelected.png\n",
      "C:\\Program Files\\Common Files\\Apple\\Apple Application Support\\WebKit.resources\\WebInspectorUI\\Images\\GradientStopSelected@2x.png\n",
      "C:\\Program Files\\Common Files\\Apple\\Apple Application Support\\WebKit.resources\\WebInspectorUI\\Images\\Stop.svg\n",
      "C:\\Program Files\\Common Files\\Apple\\Apple Application Support\\WebKit.resources\\WebInspectorUI\\Images\\Stopwatch.svg\n",
      "C:\\Program Files\\GIMP 2\\share\\gimp\\2.0\\icons\\Color\\scalable\\apps\\process-stop.svg\n",
      "C:\\Program Files\\GIMP 2\\share\\gimp\\2.0\\icons\\Symbolic\\scalable\\apps\\process-stop.svg\n",
      "C:\\Program Files\\GIMP 2\\share\\gimp\\2.0\\icons\\Symbolic-Inverted\\scalable\\apps\\process-stop.svg\n",
      "C:\\Program Files\\iTunes\\WebKit.resources\\WebInspectorUI\\Images\\AuditStop.svg\n",
      "C:\\Program Files\\iTunes\\WebKit.resources\\WebInspectorUI\\Images\\EventStop.svg\n",
      "C:\\Program Files\\iTunes\\WebKit.resources\\WebInspectorUI\\Images\\GradientStop.png\n",
      "C:\\Program Files\\iTunes\\WebKit.resources\\WebInspectorUI\\Images\\GradientStop@2x.png\n",
      "C:\\Program Files\\iTunes\\WebKit.resources\\WebInspectorUI\\Images\\GradientStopSelected.png\n",
      "C:\\Program Files\\iTunes\\WebKit.resources\\WebInspectorUI\\Images\\GradientStopSelected@2x.png\n",
      "C:\\Program Files\\iTunes\\WebKit.resources\\WebInspectorUI\\Images\\Stop.svg\n",
      "C:\\Program Files\\iTunes\\WebKit.resources\\WebInspectorUI\\Images\\Stopwatch.svg\n",
      "C:\\Program Files\\Microsoft VS Code\\resources\\app\\extensions\\ms-vscode.node-debug2\\node_modules\\vscode-chrome-debug-core\\i18n\\chs\\out\\src\\chrome\\stoppedEvent.i18n.json\n",
      "C:\\Program Files\\Microsoft VS Code\\resources\\app\\extensions\\ms-vscode.node-debug2\\node_modules\\vscode-chrome-debug-core\\i18n\\cht\\out\\src\\chrome\\stoppedEvent.i18n.json\n",
      "C:\\Program Files\\Microsoft VS Code\\resources\\app\\extensions\\ms-vscode.node-debug2\\node_modules\\vscode-chrome-debug-core\\i18n\\deu\\out\\src\\chrome\\stoppedEvent.i18n.json\n",
      "C:\\Program Files\\Microsoft VS Code\\resources\\app\\extensions\\ms-vscode.node-debug2\\node_modules\\vscode-chrome-debug-core\\i18n\\esn\\out\\src\\chrome\\stoppedEvent.i18n.json\n",
      "C:\\Program Files\\Microsoft VS Code\\resources\\app\\extensions\\ms-vscode.node-debug2\\node_modules\\vscode-chrome-debug-core\\i18n\\fra\\out\\src\\chrome\\stoppedEvent.i18n.json\n",
      "C:\\Program Files\\Microsoft VS Code\\resources\\app\\extensions\\ms-vscode.node-debug2\\node_modules\\vscode-chrome-debug-core\\i18n\\hun\\out\\src\\chrome\\stoppedEvent.i18n.json\n",
      "C:\\Program Files\\Microsoft VS Code\\resources\\app\\extensions\\ms-vscode.node-debug2\\node_modules\\vscode-chrome-debug-core\\i18n\\ita\\out\\src\\chrome\\stoppedEvent.i18n.json\n",
      "C:\\Program Files\\Microsoft VS Code\\resources\\app\\extensions\\ms-vscode.node-debug2\\node_modules\\vscode-chrome-debug-core\\i18n\\jpn\\out\\src\\chrome\\stoppedEvent.i18n.json\n",
      "C:\\Program Files\\Microsoft VS Code\\resources\\app\\extensions\\ms-vscode.node-debug2\\node_modules\\vscode-chrome-debug-core\\i18n\\kor\\out\\src\\chrome\\stoppedEvent.i18n.json\n",
      "C:\\Program Files\\Microsoft VS Code\\resources\\app\\extensions\\ms-vscode.node-debug2\\node_modules\\vscode-chrome-debug-core\\i18n\\ptb\\out\\src\\chrome\\stoppedEvent.i18n.json\n",
      "C:\\Program Files\\Microsoft VS Code\\resources\\app\\extensions\\ms-vscode.node-debug2\\node_modules\\vscode-chrome-debug-core\\i18n\\rus\\out\\src\\chrome\\stoppedEvent.i18n.json\n",
      "C:\\Program Files\\Microsoft VS Code\\resources\\app\\extensions\\ms-vscode.node-debug2\\node_modules\\vscode-chrome-debug-core\\i18n\\trk\\out\\src\\chrome\\stoppedEvent.i18n.json\n",
      "C:\\Program Files\\Microsoft VS Code\\resources\\app\\extensions\\ms-vscode.node-debug2\\node_modules\\vscode-chrome-debug-core\\out\\src\\chrome\\stoppedEvent.js\n",
      "C:\\Program Files\\Microsoft VS Code\\resources\\app\\extensions\\ms-vscode.node-debug2\\node_modules\\vscode-chrome-debug-core\\out\\src\\chrome\\stoppedEvent.nls.de.json\n",
      "C:\\Program Files\\Microsoft VS Code\\resources\\app\\extensions\\ms-vscode.node-debug2\\node_modules\\vscode-chrome-debug-core\\out\\src\\chrome\\stoppedEvent.nls.es.json\n",
      "C:\\Program Files\\Microsoft VS Code\\resources\\app\\extensions\\ms-vscode.node-debug2\\node_modules\\vscode-chrome-debug-core\\out\\src\\chrome\\stoppedEvent.nls.fr.json\n",
      "C:\\Program Files\\Microsoft VS Code\\resources\\app\\extensions\\ms-vscode.node-debug2\\node_modules\\vscode-chrome-debug-core\\out\\src\\chrome\\stoppedEvent.nls.it.json\n",
      "C:\\Program Files\\Microsoft VS Code\\resources\\app\\extensions\\ms-vscode.node-debug2\\node_modules\\vscode-chrome-debug-core\\out\\src\\chrome\\stoppedEvent.nls.ja.json\n",
      "C:\\Program Files\\Microsoft VS Code\\resources\\app\\extensions\\ms-vscode.node-debug2\\node_modules\\vscode-chrome-debug-core\\out\\src\\chrome\\stoppedEvent.nls.json\n",
      "C:\\Program Files\\Microsoft VS Code\\resources\\app\\extensions\\ms-vscode.node-debug2\\node_modules\\vscode-chrome-debug-core\\out\\src\\chrome\\stoppedEvent.nls.ko.json\n",
      "C:\\Program Files\\Microsoft VS Code\\resources\\app\\extensions\\ms-vscode.node-debug2\\node_modules\\vscode-chrome-debug-core\\out\\src\\chrome\\stoppedEvent.nls.ru.json\n",
      "C:\\Program Files\\Microsoft VS Code\\resources\\app\\extensions\\ms-vscode.node-debug2\\node_modules\\vscode-chrome-debug-core\\out\\src\\chrome\\stoppedEvent.nls.zh-cn.json\n",
      "C:\\Program Files\\Microsoft VS Code\\resources\\app\\extensions\\ms-vscode.node-debug2\\node_modules\\vscode-chrome-debug-core\\out\\src\\chrome\\stoppedEvent.nls.zh-tw.json\n",
      "C:\\Program Files\\Microsoft VS Code\\resources\\app\\out\\vs\\workbench\\parts\\debug\\electron-browser\\media\\stop-tb.png\n",
      "C:\\Program Files\\MiKTeX 2.9\\doc\\latex\\oberdiek\\epstopdf.pdf\n",
      "C:\\Program Files\\MiKTeX 2.9\\doc\\latex\\oberdiek\\hypdestopt.pdf\n",
      "C:\\Program Files\\MiKTeX 2.9\\doc\\latex\\oberdiek\\test\\epstopdf-test1.tex\n",
      "C:\\Program Files\\MiKTeX 2.9\\miktex\\bin\\x64\\epstopdf.exe\n",
      "C:\\Program Files\\MiKTeX 2.9\\miktex\\bin\\x64\\miktex-epstopdf.exe\n",
      "C:\\Program Files\\MiKTeX 2.9\\miktex\\bin\\x64\\miktex-pstops.exe\n",
      "C:\\Program Files\\MiKTeX 2.9\\miktex\\bin\\x64\\pstops.exe\n",
      "C:\\Program Files\\MiKTeX 2.9\\tex\\latex\\oberdiek\\epstopdf-base.sty\n",
      "C:\\Program Files\\MiKTeX 2.9\\tex\\latex\\oberdiek\\epstopdf.sty\n",
      "C:\\Program Files\\MiKTeX 2.9\\tex\\latex\\oberdiek\\hypdestopt.sty\n",
      "C:\\Program Files\\MiKTeX 2.9\\tpm\\packages\\exp-testopt.tpm\n",
      "C:\\Program Files\\MiKTeX 2.9\\tpm\\packages\\miktex-epstopdf-bin-2.9.tpm\n",
      "C:\\Program Files\\MiKTeX 2.9\\tpm\\packages\\miktex-epstopdf-bin-x64-2.9.tpm\n",
      "C:\\Program Files\\R\\R-3.5.0\\library\\base\\html\\stop.html\n",
      "C:\\Program Files\\R\\R-3.5.0\\library\\base\\html\\stopifnot.html\n",
      "C:\\Program Files\\Unity\\Editor\\Data\\il2cpp\\external\\boehmgc\\darwin_stop_world.c\n",
      "C:\\Program Files\\Unity\\Editor\\Data\\il2cpp\\external\\boehmgc\\pthread_stop_world.c\n",
      "C:\\Program Files\\Unity\\Editor\\Data\\il2cpp\\external\\boehmgc\\include\\private\\darwin_stop_world.h\n",
      "C:\\Program Files\\Unity\\Editor\\Data\\il2cpp\\external\\boehmgc\\include\\private\\pthread_stop_world.h\n",
      "C:\\Program Files\\Unity\\Editor\\Data\\il2cpp\\libil2cpp\\icalls\\System\\System.Diagnostics\\Stopwatch.cpp\n",
      "C:\\Program Files\\Unity\\Editor\\Data\\il2cpp\\libil2cpp\\icalls\\System\\System.Diagnostics\\Stopwatch.h\n",
      "C:\\Program Files\\Unity\\Editor\\Data\\Tools\\nodejs\\node_modules\\npm\\doc\\cli\\npm-stop.md\n",
      "C:\\Program Files\\Unity\\Editor\\Data\\Tools\\nodejs\\node_modules\\npm\\html\\doc\\cli\\npm-stop.html\n",
      "C:\\Program Files\\Unity\\Editor\\Data\\Tools\\nodejs\\node_modules\\npm\\lib\\stop.js\n",
      "C:\\Program Files\\Unity\\Editor\\Data\\Tools\\nodejs\\node_modules\\npm\\man\\man1\\npm-stop.1\n",
      "C:\\Program Files\\Unity\\Editor\\Data\\Tools\\nodejs\\node_modules\\npm\\node_modules\\retry\\example\\stop.js\n",
      "C:\\Program Files\\Unity\\Editor\\Data\\Tools\\nodejs\\node_modules\\npm\\test\\tap\\startstop.js\n",
      "C:\\Program Files\\WindowsApps\\89006A2E.AutodeskSketchBook_5.0.2.0_x64__tf1gferkr813w\\Assets\\Toolbar\\Symmetry\\Symmetry_stopCenter_off.scale-100.png\n",
      "C:\\Program Files\\WindowsApps\\89006A2E.AutodeskSketchBook_5.0.2.0_x64__tf1gferkr813w\\Assets\\Toolbar\\Symmetry\\Symmetry_stopCenter_off.scale-200.png\n",
      "C:\\Program Files\\WindowsApps\\89006A2E.AutodeskSketchBook_5.0.2.0_x64__tf1gferkr813w\\Assets\\Toolbar\\Symmetry\\Symmetry_stopCenter_on.scale-100.png\n",
      "C:\\Program Files\\WindowsApps\\89006A2E.AutodeskSketchBook_5.0.2.0_x64__tf1gferkr813w\\Assets\\Toolbar\\Symmetry\\Symmetry_stopCenter_on.scale-200.png\n",
      "C:\\Program Files\\WindowsApps\\king.com.CandyCrushSodaSaga_1.142.300.0_x86__kgqvnymyfvs32\\res_output\\shared\\bootstrap\\particles\\candy_cone_stop.xml\n",
      "C:\\Program Files\\WindowsApps\\king.com.CandyCrushSodaSaga_1.150.300.0_x86__kgqvnymyfvs32\\res_output\\shared\\bootstrap\\particles\\candy_cone_stop.xml\n",
      "C:\\Program Files\\WindowsApps\\Microsoft.MinecraftUWP_1.13.34.0_x64__8wekyb3d8bbwe\\data\\resource_packs\\vanilla\\sounds\\random\\chestopen.fsb\n",
      "C:\\Program Files\\WindowsApps\\Microsoft.SkypeApp_14.53.85.0_x64__kzf8qxf38zg5c\\Assets\\Audio\\Skype_Video_Msg_Stop.m4a\n",
      "C:\\Program Files\\WindowsApps\\Microsoft.WindowsAlarms_10.1909.2812.0_neutral_split.scale-100_8wekyb3d8bbwe\\Assets\\StopwatchLargeTile.contrast-black_scale-100.png\n",
      "C:\\Program Files\\WindowsApps\\Microsoft.WindowsAlarms_10.1909.2812.0_neutral_split.scale-100_8wekyb3d8bbwe\\Assets\\StopwatchLargeTile.contrast-white_scale-100.png\n",
      "C:\\Program Files\\WindowsApps\\Microsoft.WindowsAlarms_10.1909.2812.0_neutral_split.scale-100_8wekyb3d8bbwe\\Assets\\StopwatchMedTile.contrast-black_scale-100.png\n",
      "C:\\Program Files\\WindowsApps\\Microsoft.WindowsAlarms_10.1909.2812.0_neutral_split.scale-100_8wekyb3d8bbwe\\Assets\\StopwatchMedTile.contrast-white_scale-100.png\n",
      "C:\\Program Files\\WindowsApps\\Microsoft.WindowsAlarms_10.1909.2812.0_neutral_split.scale-100_8wekyb3d8bbwe\\Assets\\StopwatchSmallTile.contrast-black_scale-100.png\n",
      "C:\\Program Files\\WindowsApps\\Microsoft.WindowsAlarms_10.1909.2812.0_neutral_split.scale-100_8wekyb3d8bbwe\\Assets\\StopwatchSmallTile.contrast-white_scale-100.png\n",
      "C:\\Program Files\\WindowsApps\\Microsoft.WindowsAlarms_10.1909.2812.0_neutral_split.scale-100_8wekyb3d8bbwe\\Assets\\StopwatchWideTile.contrast-black_scale-100.png\n",
      "C:\\Program Files\\WindowsApps\\Microsoft.WindowsAlarms_10.1909.2812.0_neutral_split.scale-100_8wekyb3d8bbwe\\Assets\\StopwatchWideTile.contrast-white_scale-100.png\n",
      "C:\\Program Files\\WindowsApps\\Microsoft.WindowsAlarms_10.1909.2812.0_x64__8wekyb3d8bbwe\\Assets\\StopwatchLargeTile.contrast-black_scale-200.png\n",
      "C:\\Program Files\\WindowsApps\\Microsoft.WindowsAlarms_10.1909.2812.0_x64__8wekyb3d8bbwe\\Assets\\StopwatchLargeTile.contrast-white_scale-200.png\n",
      "C:\\Program Files\\WindowsApps\\Microsoft.WindowsAlarms_10.1909.2812.0_x64__8wekyb3d8bbwe\\Assets\\StopwatchMedTile.contrast-black_scale-200.png\n",
      "C:\\Program Files\\WindowsApps\\Microsoft.WindowsAlarms_10.1909.2812.0_x64__8wekyb3d8bbwe\\Assets\\StopwatchMedTile.contrast-white_scale-200.png\n",
      "C:\\Program Files\\WindowsApps\\Microsoft.WindowsAlarms_10.1909.2812.0_x64__8wekyb3d8bbwe\\Assets\\StopwatchSmallTile.contrast-black_scale-200.png\n",
      "C:\\Program Files\\WindowsApps\\Microsoft.WindowsAlarms_10.1909.2812.0_x64__8wekyb3d8bbwe\\Assets\\StopwatchSmallTile.contrast-white_scale-200.png\n",
      "C:\\Program Files\\WindowsApps\\Microsoft.WindowsAlarms_10.1909.2812.0_x64__8wekyb3d8bbwe\\Assets\\StopwatchWideTile.contrast-black_scale-200.png\n",
      "C:\\Program Files\\WindowsApps\\Microsoft.WindowsAlarms_10.1909.2812.0_x64__8wekyb3d8bbwe\\Assets\\StopwatchWideTile.contrast-white_scale-200.png\n",
      "C:\\Program Files\\WindowsApps\\Microsoft.WindowsFeedbackHub_1.1903.2331.0_x64__8wekyb3d8bbwe\\Assets\\StopReproTraceIcon-glyph-e916.png\n",
      "C:\\Program Files (x86)\\Adobe\\Acrobat Reader DC\\Reader\\Locale\\en_US\\stopwords.ENU\n",
      "C:\\Program Files (x86)\\Adobe\\Acrobat Reader DC\\Reader\\Tracker\\stop_collection_data.gif\n",
      "C:\\Program Files (x86)\\Adobe\\Acrobat Reader DC\\Reader\\WebResources\\Resource0\\static\\js\\misc\\altDekstopCopyPasteHelper.js\n",
      "C:\\Program Files (x86)\\Common Files\\Apple\\Apple Application Support\\WebKit.resources\\WebInspectorUI\\Images\\AuditStop.svg\n",
      "C:\\Program Files (x86)\\Common Files\\Apple\\Apple Application Support\\WebKit.resources\\WebInspectorUI\\Images\\EventStop.svg\n",
      "C:\\Program Files (x86)\\Common Files\\Apple\\Apple Application Support\\WebKit.resources\\WebInspectorUI\\Images\\GradientStop.png\n",
      "C:\\Program Files (x86)\\Common Files\\Apple\\Apple Application Support\\WebKit.resources\\WebInspectorUI\\Images\\GradientStop@2x.png\n",
      "C:\\Program Files (x86)\\Common Files\\Apple\\Apple Application Support\\WebKit.resources\\WebInspectorUI\\Images\\GradientStopSelected.png\n",
      "C:\\Program Files (x86)\\Common Files\\Apple\\Apple Application Support\\WebKit.resources\\WebInspectorUI\\Images\\GradientStopSelected@2x.png\n",
      "C:\\Program Files (x86)\\Common Files\\Apple\\Apple Application Support\\WebKit.resources\\WebInspectorUI\\Images\\Stop.svg\n",
      "C:\\Program Files (x86)\\Common Files\\Apple\\Apple Application Support\\WebKit.resources\\WebInspectorUI\\Images\\Stopwatch.svg\n",
      "C:\\Program Files (x86)\\CyberLink\\Power2Go\\AuthoringPage_Skin\\Common\\playbackbtn\\Btn_Stop.PNG\n",
      "C:\\Program Files (x86)\\CyberLink\\Power2Go\\AuthoringPage_Skin\\Common\\playbackbtn\\btn_stop_black.png\n",
      "C:\\Program Files (x86)\\CyberLink\\Power2Go\\Image\\btn_stop.png\n",
      "C:\\Program Files (x86)\\CyberLink\\Power2Go\\Image\\HDPI\\btn_stop.png\n",
      "C:\\Program Files (x86)\\CyberLink\\Power2Go\\Image\\HDPI\\Video\\btn_stop.png\n",
      "C:\\Program Files (x86)\\CyberLink\\Power2Go\\Image\\Video\\btn_stop.png\n",
      "C:\\Program Files (x86)\\CyberLink\\PowerDVD10\\PowerDVD Cinema\\Customizations\\Cyberlink\\Style\\Standard\\Media\\Standard\\DVD\\DVD_stop.png\n",
      "C:\\Program Files (x86)\\CyberLink\\PowerDVD10\\PowerDVD Cinema\\Customizations\\Cyberlink\\Style\\Standard\\Media\\Standard\\Toolbar\\btn_stop_D.png\n",
      "C:\\Program Files (x86)\\CyberLink\\PowerDVD10\\PowerDVD Cinema\\Customizations\\Cyberlink\\Style\\Standard\\Media\\Standard\\Toolbar\\btn_stop_H.png\n",
      "C:\\Program Files (x86)\\CyberLink\\PowerDVD10\\PowerDVD Cinema\\Customizations\\Cyberlink\\Style\\Standard\\Media\\Standard\\Toolbar\\btn_stop_N.png\n",
      "C:\\Program Files (x86)\\CyberLink\\PowerDVD10\\PowerDVD Cinema\\Customizations\\Cyberlink\\Style\\Standard\\Media\\Standard\\Toolbar\\btn_stop_P.png\n",
      "C:\\Program Files (x86)\\Microsoft SDKs\\NuGetPackages\\Microsoft.NETCore.Windows.ApiSets-x64\\1.0.0\\runtimes\\win7-x64\\native\\API-MS-Win-Core-ProcessTopology-Obsolete-L1-1-0.dll\n",
      "C:\\Program Files (x86)\\Microsoft SDKs\\NuGetPackages\\Microsoft.NETCore.Windows.ApiSets-x86\\1.0.0\\runtimes\\win7-x86\\native\\API-MS-Win-Core-ProcessTopology-Obsolete-L1-1-0.dll\n"
     ]
    },
    {
     "ename": "KeyboardInterrupt",
     "evalue": "",
     "output_type": "error",
     "traceback": [
      "\u001b[1;31m---------------------------------------------------------------------------\u001b[0m",
      "\u001b[1;31mKeyboardInterrupt\u001b[0m                         Traceback (most recent call last)",
      "\u001b[1;32m<ipython-input-3-793489c8090d>\u001b[0m in \u001b[0;36m<module>\u001b[1;34m\u001b[0m\n\u001b[0;32m      1\u001b[0m \u001b[1;33m\u001b[0m\u001b[0m\n\u001b[0;32m      2\u001b[0m \u001b[1;32mfor\u001b[0m \u001b[0mroot_dir\u001b[0m \u001b[1;32min\u001b[0m \u001b[1;33m[\u001b[0m\u001b[1;34m'C:\\\\'\u001b[0m\u001b[1;33m,\u001b[0m \u001b[1;34m'E:\\\\'\u001b[0m\u001b[1;33m]\u001b[0m\u001b[1;33m:\u001b[0m\u001b[1;33m\u001b[0m\u001b[1;33m\u001b[0m\u001b[0m\n\u001b[1;32m----> 3\u001b[1;33m     \u001b[1;32mfor\u001b[0m \u001b[0msub_directory\u001b[0m\u001b[1;33m,\u001b[0m \u001b[0mdirectories_list\u001b[0m\u001b[1;33m,\u001b[0m \u001b[0mfiles_list\u001b[0m \u001b[1;32min\u001b[0m \u001b[0mos\u001b[0m\u001b[1;33m.\u001b[0m\u001b[0mwalk\u001b[0m\u001b[1;33m(\u001b[0m\u001b[0mroot_dir\u001b[0m\u001b[1;33m)\u001b[0m\u001b[1;33m:\u001b[0m\u001b[1;33m\u001b[0m\u001b[1;33m\u001b[0m\u001b[0m\n\u001b[0m\u001b[0;32m      4\u001b[0m         \u001b[1;32mfor\u001b[0m \u001b[0mfile_name\u001b[0m \u001b[1;32min\u001b[0m \u001b[0mfiles_list\u001b[0m\u001b[1;33m:\u001b[0m\u001b[1;33m\u001b[0m\u001b[1;33m\u001b[0m\u001b[0m\n\u001b[0;32m      5\u001b[0m             \u001b[1;32mif\u001b[0m \u001b[1;33m(\u001b[0m\u001b[1;34m'stop'\u001b[0m \u001b[1;32min\u001b[0m \u001b[0mfile_name\u001b[0m\u001b[1;33m.\u001b[0m\u001b[0mlower\u001b[0m\u001b[1;33m(\u001b[0m\u001b[1;33m)\u001b[0m\u001b[1;33m)\u001b[0m\u001b[1;33m:\u001b[0m\u001b[1;33m\u001b[0m\u001b[1;33m\u001b[0m\u001b[0m\n",
      "\u001b[1;32m~\\Anaconda3\\lib\\os.py\u001b[0m in \u001b[0;36mwalk\u001b[1;34m(top, topdown, onerror, followlinks)\u001b[0m\n\u001b[0;32m    407\u001b[0m             \u001b[1;31m# above.\u001b[0m\u001b[1;33m\u001b[0m\u001b[1;33m\u001b[0m\u001b[1;33m\u001b[0m\u001b[0m\n\u001b[0;32m    408\u001b[0m             \u001b[1;32mif\u001b[0m \u001b[0mfollowlinks\u001b[0m \u001b[1;32mor\u001b[0m \u001b[1;32mnot\u001b[0m \u001b[0mislink\u001b[0m\u001b[1;33m(\u001b[0m\u001b[0mnew_path\u001b[0m\u001b[1;33m)\u001b[0m\u001b[1;33m:\u001b[0m\u001b[1;33m\u001b[0m\u001b[1;33m\u001b[0m\u001b[0m\n\u001b[1;32m--> 409\u001b[1;33m                 \u001b[1;32myield\u001b[0m \u001b[1;32mfrom\u001b[0m \u001b[0mwalk\u001b[0m\u001b[1;33m(\u001b[0m\u001b[0mnew_path\u001b[0m\u001b[1;33m,\u001b[0m \u001b[0mtopdown\u001b[0m\u001b[1;33m,\u001b[0m \u001b[0monerror\u001b[0m\u001b[1;33m,\u001b[0m \u001b[0mfollowlinks\u001b[0m\u001b[1;33m)\u001b[0m\u001b[1;33m\u001b[0m\u001b[1;33m\u001b[0m\u001b[0m\n\u001b[0m\u001b[0;32m    410\u001b[0m     \u001b[1;32melse\u001b[0m\u001b[1;33m:\u001b[0m\u001b[1;33m\u001b[0m\u001b[1;33m\u001b[0m\u001b[0m\n\u001b[0;32m    411\u001b[0m         \u001b[1;31m# Recurse into sub-directories\u001b[0m\u001b[1;33m\u001b[0m\u001b[1;33m\u001b[0m\u001b[1;33m\u001b[0m\u001b[0m\n",
      "\u001b[1;32m~\\Anaconda3\\lib\\os.py\u001b[0m in \u001b[0;36mwalk\u001b[1;34m(top, topdown, onerror, followlinks)\u001b[0m\n\u001b[0;32m    407\u001b[0m             \u001b[1;31m# above.\u001b[0m\u001b[1;33m\u001b[0m\u001b[1;33m\u001b[0m\u001b[1;33m\u001b[0m\u001b[0m\n\u001b[0;32m    408\u001b[0m             \u001b[1;32mif\u001b[0m \u001b[0mfollowlinks\u001b[0m \u001b[1;32mor\u001b[0m \u001b[1;32mnot\u001b[0m \u001b[0mislink\u001b[0m\u001b[1;33m(\u001b[0m\u001b[0mnew_path\u001b[0m\u001b[1;33m)\u001b[0m\u001b[1;33m:\u001b[0m\u001b[1;33m\u001b[0m\u001b[1;33m\u001b[0m\u001b[0m\n\u001b[1;32m--> 409\u001b[1;33m                 \u001b[1;32myield\u001b[0m \u001b[1;32mfrom\u001b[0m \u001b[0mwalk\u001b[0m\u001b[1;33m(\u001b[0m\u001b[0mnew_path\u001b[0m\u001b[1;33m,\u001b[0m \u001b[0mtopdown\u001b[0m\u001b[1;33m,\u001b[0m \u001b[0monerror\u001b[0m\u001b[1;33m,\u001b[0m \u001b[0mfollowlinks\u001b[0m\u001b[1;33m)\u001b[0m\u001b[1;33m\u001b[0m\u001b[1;33m\u001b[0m\u001b[0m\n\u001b[0m\u001b[0;32m    410\u001b[0m     \u001b[1;32melse\u001b[0m\u001b[1;33m:\u001b[0m\u001b[1;33m\u001b[0m\u001b[1;33m\u001b[0m\u001b[0m\n\u001b[0;32m    411\u001b[0m         \u001b[1;31m# Recurse into sub-directories\u001b[0m\u001b[1;33m\u001b[0m\u001b[1;33m\u001b[0m\u001b[1;33m\u001b[0m\u001b[0m\n",
      "\u001b[1;32m~\\Anaconda3\\lib\\os.py\u001b[0m in \u001b[0;36mwalk\u001b[1;34m(top, topdown, onerror, followlinks)\u001b[0m\n\u001b[0;32m    407\u001b[0m             \u001b[1;31m# above.\u001b[0m\u001b[1;33m\u001b[0m\u001b[1;33m\u001b[0m\u001b[1;33m\u001b[0m\u001b[0m\n\u001b[0;32m    408\u001b[0m             \u001b[1;32mif\u001b[0m \u001b[0mfollowlinks\u001b[0m \u001b[1;32mor\u001b[0m \u001b[1;32mnot\u001b[0m \u001b[0mislink\u001b[0m\u001b[1;33m(\u001b[0m\u001b[0mnew_path\u001b[0m\u001b[1;33m)\u001b[0m\u001b[1;33m:\u001b[0m\u001b[1;33m\u001b[0m\u001b[1;33m\u001b[0m\u001b[0m\n\u001b[1;32m--> 409\u001b[1;33m                 \u001b[1;32myield\u001b[0m \u001b[1;32mfrom\u001b[0m \u001b[0mwalk\u001b[0m\u001b[1;33m(\u001b[0m\u001b[0mnew_path\u001b[0m\u001b[1;33m,\u001b[0m \u001b[0mtopdown\u001b[0m\u001b[1;33m,\u001b[0m \u001b[0monerror\u001b[0m\u001b[1;33m,\u001b[0m \u001b[0mfollowlinks\u001b[0m\u001b[1;33m)\u001b[0m\u001b[1;33m\u001b[0m\u001b[1;33m\u001b[0m\u001b[0m\n\u001b[0m\u001b[0;32m    410\u001b[0m     \u001b[1;32melse\u001b[0m\u001b[1;33m:\u001b[0m\u001b[1;33m\u001b[0m\u001b[1;33m\u001b[0m\u001b[0m\n\u001b[0;32m    411\u001b[0m         \u001b[1;31m# Recurse into sub-directories\u001b[0m\u001b[1;33m\u001b[0m\u001b[1;33m\u001b[0m\u001b[1;33m\u001b[0m\u001b[0m\n",
      "\u001b[1;32m~\\Anaconda3\\lib\\os.py\u001b[0m in \u001b[0;36mwalk\u001b[1;34m(top, topdown, onerror, followlinks)\u001b[0m\n\u001b[0;32m    407\u001b[0m             \u001b[1;31m# above.\u001b[0m\u001b[1;33m\u001b[0m\u001b[1;33m\u001b[0m\u001b[1;33m\u001b[0m\u001b[0m\n\u001b[0;32m    408\u001b[0m             \u001b[1;32mif\u001b[0m \u001b[0mfollowlinks\u001b[0m \u001b[1;32mor\u001b[0m \u001b[1;32mnot\u001b[0m \u001b[0mislink\u001b[0m\u001b[1;33m(\u001b[0m\u001b[0mnew_path\u001b[0m\u001b[1;33m)\u001b[0m\u001b[1;33m:\u001b[0m\u001b[1;33m\u001b[0m\u001b[1;33m\u001b[0m\u001b[0m\n\u001b[1;32m--> 409\u001b[1;33m                 \u001b[1;32myield\u001b[0m \u001b[1;32mfrom\u001b[0m \u001b[0mwalk\u001b[0m\u001b[1;33m(\u001b[0m\u001b[0mnew_path\u001b[0m\u001b[1;33m,\u001b[0m \u001b[0mtopdown\u001b[0m\u001b[1;33m,\u001b[0m \u001b[0monerror\u001b[0m\u001b[1;33m,\u001b[0m \u001b[0mfollowlinks\u001b[0m\u001b[1;33m)\u001b[0m\u001b[1;33m\u001b[0m\u001b[1;33m\u001b[0m\u001b[0m\n\u001b[0m\u001b[0;32m    410\u001b[0m     \u001b[1;32melse\u001b[0m\u001b[1;33m:\u001b[0m\u001b[1;33m\u001b[0m\u001b[1;33m\u001b[0m\u001b[0m\n\u001b[0;32m    411\u001b[0m         \u001b[1;31m# Recurse into sub-directories\u001b[0m\u001b[1;33m\u001b[0m\u001b[1;33m\u001b[0m\u001b[1;33m\u001b[0m\u001b[0m\n",
      "\u001b[1;32m~\\Anaconda3\\lib\\os.py\u001b[0m in \u001b[0;36mwalk\u001b[1;34m(top, topdown, onerror, followlinks)\u001b[0m\n\u001b[0;32m    407\u001b[0m             \u001b[1;31m# above.\u001b[0m\u001b[1;33m\u001b[0m\u001b[1;33m\u001b[0m\u001b[1;33m\u001b[0m\u001b[0m\n\u001b[0;32m    408\u001b[0m             \u001b[1;32mif\u001b[0m \u001b[0mfollowlinks\u001b[0m \u001b[1;32mor\u001b[0m \u001b[1;32mnot\u001b[0m \u001b[0mislink\u001b[0m\u001b[1;33m(\u001b[0m\u001b[0mnew_path\u001b[0m\u001b[1;33m)\u001b[0m\u001b[1;33m:\u001b[0m\u001b[1;33m\u001b[0m\u001b[1;33m\u001b[0m\u001b[0m\n\u001b[1;32m--> 409\u001b[1;33m                 \u001b[1;32myield\u001b[0m \u001b[1;32mfrom\u001b[0m \u001b[0mwalk\u001b[0m\u001b[1;33m(\u001b[0m\u001b[0mnew_path\u001b[0m\u001b[1;33m,\u001b[0m \u001b[0mtopdown\u001b[0m\u001b[1;33m,\u001b[0m \u001b[0monerror\u001b[0m\u001b[1;33m,\u001b[0m \u001b[0mfollowlinks\u001b[0m\u001b[1;33m)\u001b[0m\u001b[1;33m\u001b[0m\u001b[1;33m\u001b[0m\u001b[0m\n\u001b[0m\u001b[0;32m    410\u001b[0m     \u001b[1;32melse\u001b[0m\u001b[1;33m:\u001b[0m\u001b[1;33m\u001b[0m\u001b[1;33m\u001b[0m\u001b[0m\n\u001b[0;32m    411\u001b[0m         \u001b[1;31m# Recurse into sub-directories\u001b[0m\u001b[1;33m\u001b[0m\u001b[1;33m\u001b[0m\u001b[1;33m\u001b[0m\u001b[0m\n",
      "\u001b[1;32m~\\Anaconda3\\lib\\os.py\u001b[0m in \u001b[0;36mwalk\u001b[1;34m(top, topdown, onerror, followlinks)\u001b[0m\n\u001b[0;32m    407\u001b[0m             \u001b[1;31m# above.\u001b[0m\u001b[1;33m\u001b[0m\u001b[1;33m\u001b[0m\u001b[1;33m\u001b[0m\u001b[0m\n\u001b[0;32m    408\u001b[0m             \u001b[1;32mif\u001b[0m \u001b[0mfollowlinks\u001b[0m \u001b[1;32mor\u001b[0m \u001b[1;32mnot\u001b[0m \u001b[0mislink\u001b[0m\u001b[1;33m(\u001b[0m\u001b[0mnew_path\u001b[0m\u001b[1;33m)\u001b[0m\u001b[1;33m:\u001b[0m\u001b[1;33m\u001b[0m\u001b[1;33m\u001b[0m\u001b[0m\n\u001b[1;32m--> 409\u001b[1;33m                 \u001b[1;32myield\u001b[0m \u001b[1;32mfrom\u001b[0m \u001b[0mwalk\u001b[0m\u001b[1;33m(\u001b[0m\u001b[0mnew_path\u001b[0m\u001b[1;33m,\u001b[0m \u001b[0mtopdown\u001b[0m\u001b[1;33m,\u001b[0m \u001b[0monerror\u001b[0m\u001b[1;33m,\u001b[0m \u001b[0mfollowlinks\u001b[0m\u001b[1;33m)\u001b[0m\u001b[1;33m\u001b[0m\u001b[1;33m\u001b[0m\u001b[0m\n\u001b[0m\u001b[0;32m    410\u001b[0m     \u001b[1;32melse\u001b[0m\u001b[1;33m:\u001b[0m\u001b[1;33m\u001b[0m\u001b[1;33m\u001b[0m\u001b[0m\n\u001b[0;32m    411\u001b[0m         \u001b[1;31m# Recurse into sub-directories\u001b[0m\u001b[1;33m\u001b[0m\u001b[1;33m\u001b[0m\u001b[1;33m\u001b[0m\u001b[0m\n",
      "\u001b[1;32m~\\Anaconda3\\lib\\os.py\u001b[0m in \u001b[0;36mwalk\u001b[1;34m(top, topdown, onerror, followlinks)\u001b[0m\n\u001b[0;32m    407\u001b[0m             \u001b[1;31m# above.\u001b[0m\u001b[1;33m\u001b[0m\u001b[1;33m\u001b[0m\u001b[1;33m\u001b[0m\u001b[0m\n\u001b[0;32m    408\u001b[0m             \u001b[1;32mif\u001b[0m \u001b[0mfollowlinks\u001b[0m \u001b[1;32mor\u001b[0m \u001b[1;32mnot\u001b[0m \u001b[0mislink\u001b[0m\u001b[1;33m(\u001b[0m\u001b[0mnew_path\u001b[0m\u001b[1;33m)\u001b[0m\u001b[1;33m:\u001b[0m\u001b[1;33m\u001b[0m\u001b[1;33m\u001b[0m\u001b[0m\n\u001b[1;32m--> 409\u001b[1;33m                 \u001b[1;32myield\u001b[0m \u001b[1;32mfrom\u001b[0m \u001b[0mwalk\u001b[0m\u001b[1;33m(\u001b[0m\u001b[0mnew_path\u001b[0m\u001b[1;33m,\u001b[0m \u001b[0mtopdown\u001b[0m\u001b[1;33m,\u001b[0m \u001b[0monerror\u001b[0m\u001b[1;33m,\u001b[0m \u001b[0mfollowlinks\u001b[0m\u001b[1;33m)\u001b[0m\u001b[1;33m\u001b[0m\u001b[1;33m\u001b[0m\u001b[0m\n\u001b[0m\u001b[0;32m    410\u001b[0m     \u001b[1;32melse\u001b[0m\u001b[1;33m:\u001b[0m\u001b[1;33m\u001b[0m\u001b[1;33m\u001b[0m\u001b[0m\n\u001b[0;32m    411\u001b[0m         \u001b[1;31m# Recurse into sub-directories\u001b[0m\u001b[1;33m\u001b[0m\u001b[1;33m\u001b[0m\u001b[1;33m\u001b[0m\u001b[0m\n",
      "\u001b[1;32m~\\Anaconda3\\lib\\os.py\u001b[0m in \u001b[0;36mwalk\u001b[1;34m(top, topdown, onerror, followlinks)\u001b[0m\n\u001b[0;32m    356\u001b[0m             \u001b[1;32mtry\u001b[0m\u001b[1;33m:\u001b[0m\u001b[1;33m\u001b[0m\u001b[1;33m\u001b[0m\u001b[0m\n\u001b[0;32m    357\u001b[0m                 \u001b[1;32mtry\u001b[0m\u001b[1;33m:\u001b[0m\u001b[1;33m\u001b[0m\u001b[1;33m\u001b[0m\u001b[0m\n\u001b[1;32m--> 358\u001b[1;33m                     \u001b[0mentry\u001b[0m \u001b[1;33m=\u001b[0m \u001b[0mnext\u001b[0m\u001b[1;33m(\u001b[0m\u001b[0mscandir_it\u001b[0m\u001b[1;33m)\u001b[0m\u001b[1;33m\u001b[0m\u001b[1;33m\u001b[0m\u001b[0m\n\u001b[0m\u001b[0;32m    359\u001b[0m                 \u001b[1;32mexcept\u001b[0m \u001b[0mStopIteration\u001b[0m\u001b[1;33m:\u001b[0m\u001b[1;33m\u001b[0m\u001b[1;33m\u001b[0m\u001b[0m\n\u001b[0;32m    360\u001b[0m                     \u001b[1;32mbreak\u001b[0m\u001b[1;33m\u001b[0m\u001b[1;33m\u001b[0m\u001b[0m\n",
      "\u001b[1;31mKeyboardInterrupt\u001b[0m: "
     ]
    }
   ],
   "source": [
    "\n",
    "for root_dir in ['C:\\\\', 'E:\\\\']:\n",
    "    for sub_directory, directories_list, files_list in os.walk(root_dir):\n",
    "        for file_name in files_list:\n",
    "            if ('stop' in file_name.lower()):\n",
    "                file_path = os.path.join(sub_directory, file_name)\n",
    "                print(file_path)"
   ]
  },
  {
   "cell_type": "code",
   "execution_count": 4,
   "metadata": {},
   "outputs": [
    {
     "name": "stdout",
     "output_type": "stream",
     "text": [
      "C:\\Users\\dev\\Documents\\repositories\\notebooks\\courses-master\\databases-2015\\stoplist-multilingual\n",
      "C:\\Users\\dev\\Documents\\repositories\\notebooks\\Offutt-AFB-Data-Science\\saves\\simulations\\stop_date.pickle\n"
     ]
    }
   ],
   "source": [
    "\n",
    "for root_dir in [r'C:\\Users\\dev\\Documents\\repositories\\notebooks']:\n",
    "    for sub_directory, directories_list, files_list in os.walk(root_dir):\n",
    "        for file_name in files_list:\n",
    "            if 'stop' in file_name:\n",
    "                file_path = os.path.join(sub_directory, file_name)\n",
    "                print(file_path)"
   ]
  },
  {
   "cell_type": "code",
   "execution_count": 5,
   "metadata": {},
   "outputs": [],
   "source": [
    "\n",
    "file_path = r'C:\\Users\\dev\\Documents\\repositories\\notebooks\\courses-master\\databases-2015\\stoplist-multilingual'\n",
    "stop_word_list = [i.strip() for i in open(file_path).readlines()]"
   ]
  },
  {
   "cell_type": "code",
   "execution_count": 6,
   "metadata": {},
   "outputs": [
    {
     "data": {
      "text/plain": [
       "['In', 'computing,', 'Puppet', 'is', 'an', 'open-core', 'software', 'configuration', 'manag']"
      ]
     },
     "execution_count": 6,
     "metadata": {},
     "output_type": "execute_result"
    }
   ],
   "source": [
    "\n",
    "'In computing, Puppet is an open-core software configuration manag'.split()"
   ]
  },
  {
   "cell_type": "code",
   "execution_count": 2,
   "metadata": {},
   "outputs": [
    {
     "data": {
      "text/plain": [
       "'using Pkg; ENV[\"PYTHON\"] = \"C:\\\\Users\\\\dev\\\\Anaconda3\\\\python.exe\"; Pkg.build(\"PyCall\"); Pkg.add(\"PyCall\"); Pkg.resolve();'"
      ]
     },
     "execution_count": 2,
     "metadata": {},
     "output_type": "execute_result"
    }
   ],
   "source": [
    "\n",
    "import sys\n",
    "\n",
    "'using Pkg; ENV[\"PYTHON\"] = \"{}\"; Pkg.build(\"PyCall\"); Pkg.add(\"PyCall\"); Pkg.resolve();'.format(sys.executable)"
   ]
  },
  {
   "cell_type": "code",
   "execution_count": 6,
   "metadata": {},
   "outputs": [
    {
     "name": "stdout",
     "output_type": "stream",
     "text": [
      "C:\\Users\\dev\\Anaconda3\\python.exe -m pip install --upgrade tensorflow\n"
     ]
    }
   ],
   "source": [
    "\n",
    "import sys\n",
    "\n",
    "# tensorflow.nn\n",
    "print('{} -m pip install --upgrade tensorflow'.format(sys.executable))"
   ]
  },
  {
   "cell_type": "code",
   "execution_count": 5,
   "metadata": {},
   "outputs": [],
   "source": [
    "\n",
    "# GitHub will warn you when pushing files larger than 50 MB. You will not be allowed to push files larger than 100 MB.\n",
    "# Tip: If you regularly push large files to GitHub, consider introducing Git Large File Storage (Git LFS)\n",
    "# as part of your workflow.\n",
    "repository_dir = r'C:\\Users\\dev\\Documents\\repositories'\n",
    "def get_specific_gitignore_files(repository_name):\n",
    "    print('# Ignore big files')\n",
    "    repository_path = os.path.join(repository_dir, repository_name)\n",
    "    black_list = [os.path.join(repository_path, '.git')]\n",
    "    for sub_directory, directories_list, files_list in os.walk(repository_path):\n",
    "            if all(map(lambda x: x not in sub_directory, black_list)):\n",
    "                for file_name in files_list:\n",
    "                    file_path = os.path.join(sub_directory, file_name)\n",
    "                    bytes_count = os.path.getsize(file_path)\n",
    "                    if bytes_count > 50000000:\n",
    "                        print('/'.join(os.path.relpath(file_path, repository_path).split(os.sep)))\n",
    "    file_path = os.path.join(repository_dir, repository_name, '.gitignore')\n",
    "    get_ipython().system(r'\"C:\\Program Files\\Notepad++\\notepad++.exe\" \"{}\"'.format(os.path.abspath(file_path)))"
   ]
  },
  {
   "cell_type": "code",
   "execution_count": null,
   "metadata": {
    "scrolled": false
   },
   "outputs": [],
   "source": [
    "\n",
    "get_specific_gitignore_files('notebooks')"
   ]
  },
  {
   "cell_type": "code",
   "execution_count": null,
   "metadata": {},
   "outputs": [],
   "source": []
  }
 ],
 "metadata": {
  "kernelspec": {
   "display_name": "Python 3",
   "language": "python",
   "name": "python3"
  },
  "language_info": {
   "codemirror_mode": {
    "name": "ipython",
    "version": 3
   },
   "file_extension": ".py",
   "mimetype": "text/x-python",
   "name": "python",
   "nbconvert_exporter": "python",
   "pygments_lexer": "ipython3",
   "version": "3.6.8"
  }
 },
 "nbformat": 4,
 "nbformat_minor": 2
}
