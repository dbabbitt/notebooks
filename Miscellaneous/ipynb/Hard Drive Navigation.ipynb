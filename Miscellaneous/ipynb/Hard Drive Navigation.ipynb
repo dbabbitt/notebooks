{
 "cells": [
  {
   "cell_type": "code",
   "execution_count": 1,
   "metadata": {},
   "outputs": [
    {
     "name": "stdout",
     "output_type": "stream",
     "text": [
      "Pretty printing has been turned OFF\n"
     ]
    }
   ],
   "source": [
    "\n",
    "import os\n",
    "import subprocess\n",
    "%pprint"
   ]
  },
  {
   "cell_type": "code",
   "execution_count": 2,
   "metadata": {},
   "outputs": [
    {
     "data": {
      "text/plain": [
       "'using Pkg; ENV[\"PYTHON\"] = \"C:\\\\Users\\\\dev\\\\Anaconda3\\\\python.exe\"; Pkg.build(\"PyCall\"); Pkg.add(\"PyCall\"); Pkg.resolve();'"
      ]
     },
     "execution_count": 2,
     "metadata": {},
     "output_type": "execute_result"
    }
   ],
   "source": [
    "\n",
    "import sys\n",
    "\n",
    "'using Pkg; ENV[\"PYTHON\"] = \"{}\"; Pkg.build(\"PyCall\"); Pkg.add(\"PyCall\"); Pkg.resolve();'.format(sys.executable)"
   ]
  },
  {
   "cell_type": "code",
   "execution_count": 6,
   "metadata": {},
   "outputs": [
    {
     "name": "stdout",
     "output_type": "stream",
     "text": [
      "C:\\Users\\dev\\Anaconda3\\python.exe -m pip install --upgrade tensorflow\n"
     ]
    }
   ],
   "source": [
    "\n",
    "import sys\n",
    "\n",
    "# tensorflow.nn\n",
    "print('{} -m pip install --upgrade tensorflow'.format(sys.executable))"
   ]
  },
  {
   "cell_type": "code",
   "execution_count": 3,
   "metadata": {},
   "outputs": [
    {
     "name": "stdout",
     "output_type": "stream",
     "text": [
      "C:\\Users\\dev\\Documents\\repositories\\gen-quickstart\\Gen Quick Start.ipynb\n",
      "C:\\Users\\dev\\Documents\\repositories\\gen-quickstart\\tutorials\\A Bottom-Up Introduction to Gen.ipynb\n",
      "C:\\Users\\dev\\Documents\\repositories\\gen-quickstart\\tutorials\\Data-Driven Proposals in Gen.ipynb\n",
      "C:\\Users\\dev\\Documents\\repositories\\gen-quickstart\\tutorials\\Introduction to Modeling in Gen.ipynb\n",
      "C:\\Users\\dev\\Documents\\repositories\\gen-quickstart\\tutorials\\Iterative inference in Gen.ipynb\n",
      "C:\\Users\\dev\\Documents\\repositories\\gen-quickstart\\tutorials\\Modeling with Black-Box Julia Code.ipynb\n",
      "C:\\Users\\dev\\Documents\\repositories\\gen-quickstart\\tutorials\\Modeling with TensorFlow Code.ipynb\n",
      "C:\\Users\\dev\\Documents\\repositories\\gen-quickstart\\tutorials\\Particle Filtering in Gen.ipynb\n",
      "C:\\Users\\dev\\Documents\\repositories\\gen-quickstart\\tutorials\\Reasoning About Regenerate.ipynb\n",
      "C:\\Users\\dev\\Documents\\repositories\\gen-quickstart\\tutorials\\Scaling with Combinators and the Static Modeling Language.ipynb\n"
     ]
    }
   ],
   "source": [
    "\n",
    "for root_dir in [r'C:\\Users\\dev\\Documents\\repositories\\Gen', r'C:\\Users\\dev\\Documents\\repositories\\gen-quickstart']:\n",
    "    for sub_directory, directories_list, files_list in os.walk(root_dir):\n",
    "        for file_name in files_list:\n",
    "            if file_name.endswith('.ipynb'):\n",
    "                file_path = os.path.join(sub_directory, file_name)\n",
    "                print(file_path)"
   ]
  },
  {
   "cell_type": "code",
   "execution_count": null,
   "metadata": {},
   "outputs": [],
   "source": [
    "\n",
    "for root_dir in ['C:\\\\', 'E:\\\\']:\n",
    "    for sub_directory, directories_list, files_list in os.walk(root_dir):\n",
    "        for file_name in files_list:\n",
    "            if file_name.endswith('.jl'):\n",
    "                file_path = os.path.join(sub_directory, file_name)\n",
    "                print(file_path)"
   ]
  },
  {
   "cell_type": "code",
   "execution_count": 5,
   "metadata": {},
   "outputs": [],
   "source": [
    "\n",
    "# GitHub will warn you when pushing files larger than 50 MB. You will not be allowed to push files larger than 100 MB.\n",
    "# Tip: If you regularly push large files to GitHub, consider introducing Git Large File Storage (Git LFS)\n",
    "# as part of your workflow.\n",
    "repository_dir = r'C:\\Users\\dev\\Documents\\repositories'\n",
    "def get_specific_gitignore_files(repository_name):\n",
    "    print('# Ignore big files')\n",
    "    repository_path = os.path.join(repository_dir, repository_name)\n",
    "    black_list = [os.path.join(repository_path, '.git')]\n",
    "    for sub_directory, directories_list, files_list in os.walk(repository_path):\n",
    "            if all(map(lambda x: x not in sub_directory, black_list)):\n",
    "                for file_name in files_list:\n",
    "                    file_path = os.path.join(sub_directory, file_name)\n",
    "                    bytes_count = os.path.getsize(file_path)\n",
    "                    if bytes_count > 50000000:\n",
    "                        print('/'.join(os.path.relpath(file_path, repository_path).split(os.sep)))\n",
    "    file_path = os.path.join(repository_dir, repository_name, '.gitignore')\n",
    "    get_ipython().system(r'\"C:\\Program Files\\Notepad++\\notepad++.exe\" \"{}\"'.format(os.path.abspath(file_path)))"
   ]
  },
  {
   "cell_type": "code",
   "execution_count": null,
   "metadata": {
    "scrolled": false
   },
   "outputs": [],
   "source": [
    "\n",
    "get_specific_gitignore_files('notebooks')"
   ]
  },
  {
   "cell_type": "code",
   "execution_count": null,
   "metadata": {},
   "outputs": [],
   "source": []
  }
 ],
 "metadata": {
  "kernelspec": {
   "display_name": "Python 3",
   "language": "python",
   "name": "python3"
  },
  "language_info": {
   "codemirror_mode": {
    "name": "ipython",
    "version": 3
   },
   "file_extension": ".py",
   "mimetype": "text/x-python",
   "name": "python",
   "nbconvert_exporter": "python",
   "pygments_lexer": "ipython3",
   "version": "3.6.8"
  }
 },
 "nbformat": 4,
 "nbformat_minor": 2
}
