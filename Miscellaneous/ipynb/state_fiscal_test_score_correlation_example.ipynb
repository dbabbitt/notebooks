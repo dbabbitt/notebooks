{
 "cells": [
  {
   "cell_type": "code",
   "execution_count": 3,
   "metadata": {},
   "outputs": [
    {
     "data": {
      "text/html": [
       "<ol class=list-inline>\n",
       "\t<li>'C:/Users/dev/Documents/R/win-library/3.5'</li>\n",
       "\t<li>'C:/Program Files/R/R-3.5.0/library'</li>\n",
       "</ol>\n"
      ],
      "text/latex": [
       "\\begin{enumerate*}\n",
       "\\item 'C:/Users/dev/Documents/R/win-library/3.5'\n",
       "\\item 'C:/Program Files/R/R-3.5.0/library'\n",
       "\\end{enumerate*}\n"
      ],
      "text/markdown": [
       "1. 'C:/Users/dev/Documents/R/win-library/3.5'\n",
       "2. 'C:/Program Files/R/R-3.5.0/library'\n",
       "\n",
       "\n"
      ],
      "text/plain": [
       "[1] \"C:/Users/dev/Documents/R/win-library/3.5\"\n",
       "[2] \"C:/Program Files/R/R-3.5.0/library\"      "
      ]
     },
     "metadata": {},
     "output_type": "display_data"
    }
   ],
   "source": [
    "\n",
    ".libPaths()"
   ]
  },
  {
   "cell_type": "code",
   "execution_count": 6,
   "metadata": {},
   "outputs": [
    {
     "name": "stderr",
     "output_type": "stream",
     "text": [
      "Installing package into 'C:/Users/dev/Documents/R/win-library/3.5'\n",
      "(as 'lib' is unspecified)\n",
      "Warning message:\n",
      "\"package 'dplyr' is in use and will not be installed\"Installing package into 'C:/Users/dev/Documents/R/win-library/3.5'\n",
      "(as 'lib' is unspecified)\n",
      "Warning message:\n",
      "\"package 'reshape2' is in use and will not be installed\"Installing package into 'C:/Users/dev/Documents/R/win-library/3.5'\n",
      "(as 'lib' is unspecified)\n",
      "also installing the dependencies 'colorspace', 'RColorBrewer', 'dichromat', 'munsell', 'labeling', 'viridisLite', 'gtable', 'scales', 'lazyeval'\n",
      "\n"
     ]
    },
    {
     "name": "stdout",
     "output_type": "stream",
     "text": [
      "package 'colorspace' successfully unpacked and MD5 sums checked\n",
      "package 'RColorBrewer' successfully unpacked and MD5 sums checked\n",
      "package 'dichromat' successfully unpacked and MD5 sums checked\n",
      "package 'munsell' successfully unpacked and MD5 sums checked\n",
      "package 'labeling' successfully unpacked and MD5 sums checked\n",
      "package 'viridisLite' successfully unpacked and MD5 sums checked\n",
      "package 'gtable' successfully unpacked and MD5 sums checked\n",
      "package 'scales' successfully unpacked and MD5 sums checked\n",
      "package 'lazyeval' successfully unpacked and MD5 sums checked\n",
      "package 'ggplot2' successfully unpacked and MD5 sums checked\n",
      "\n",
      "The downloaded binary packages are in\n",
      "\tC:\\Users\\dev\\AppData\\Local\\Temp\\Rtmp23E8gA\\downloaded_packages\n"
     ]
    }
   ],
   "source": [
    "\n",
    "install.packages('dplyr')\n",
    "library(dplyr)\n",
    "install.packages('reshape2')\n",
    "library(reshape2)\n",
    "install.packages('ggplot2')\n",
    "library(ggplot2)"
   ]
  },
  {
   "cell_type": "code",
   "execution_count": 13,
   "metadata": {},
   "outputs": [],
   "source": [
    "\n",
    "DataPath=\"../data/csv/\" # you may need to update this if not working from same path\n",
    "setwd(DataPath)"
   ]
  },
  {
   "cell_type": "markdown",
   "metadata": {},
   "source": [
    "\n",
    "# Data from version 2.0 of covariates and pooled score estimates from SEDA\n",
    "# https://cepa.stanford.edu/seda/data-archive"
   ]
  },
  {
   "cell_type": "code",
   "execution_count": 14,
   "metadata": {},
   "outputs": [
    {
     "data": {
      "text/html": [
       "<ol class=list-inline>\n",
       "\t<li>'coinbaseUSD.csv'</li>\n",
       "\t<li>'SEDA_cov_geodist_pool_v20.csv'</li>\n",
       "\t<li>'SEDA_geodist_pool_CS_v20.csv'</li>\n",
       "</ol>\n"
      ],
      "text/latex": [
       "\\begin{enumerate*}\n",
       "\\item 'coinbaseUSD.csv'\n",
       "\\item 'SEDA\\_cov\\_geodist\\_pool\\_v20.csv'\n",
       "\\item 'SEDA\\_geodist\\_pool\\_CS\\_v20.csv'\n",
       "\\end{enumerate*}\n"
      ],
      "text/markdown": [
       "1. 'coinbaseUSD.csv'\n",
       "2. 'SEDA_cov_geodist_pool_v20.csv'\n",
       "3. 'SEDA_geodist_pool_CS_v20.csv'\n",
       "\n",
       "\n"
      ],
      "text/plain": [
       "[1] \"coinbaseUSD.csv\"               \"SEDA_cov_geodist_pool_v20.csv\"\n",
       "[3] \"SEDA_geodist_pool_CS_v20.csv\" "
      ]
     },
     "metadata": {},
     "output_type": "display_data"
    }
   ],
   "source": [
    "\n",
    "list.files()"
   ]
  },
  {
   "cell_type": "code",
   "execution_count": 15,
   "metadata": {},
   "outputs": [],
   "source": [
    "\n",
    "# https://stacks.stanford.edu/file/druid:db586ns4974/SEDA_geodist_pool_CS_v20.csv\n",
    "sedaScores = read.csv(\"SEDA_geodist_pool_CS_v20.csv\",stringsAsFactors = F)"
   ]
  },
  {
   "cell_type": "code",
   "execution_count": 16,
   "metadata": {},
   "outputs": [],
   "source": [
    "\n",
    "# https://stacks.stanford.edu/file/druid:db586ns4974/SEDA_cov_geodist_pool_v20.csv\n",
    "# (This one is pooled by across years and grades)\n",
    "sedaCovars=read.csv(\"SEDA_cov_geodist_pool_v20.csv\",stringsAsFactors = F)"
   ]
  },
  {
   "cell_type": "markdown",
   "metadata": {},
   "source": [
    "\n",
    "# 1: merge scores and covariate data\n",
    "# 2: retain only rows with mean for all students (not disaggregated by race/ethnicity)\n",
    "# 3: duplicate some columns with easier to find name and some combinations"
   ]
  },
  {
   "cell_type": "code",
   "execution_count": 17,
   "metadata": {},
   "outputs": [],
   "source": [
    "\n",
    "sedaMerged = merge(sedaScores,sedaCovars,by='leaidC') %>%\n",
    "  filter(\n",
    "    subgroup=='all'\n",
    "  ) %>%\n",
    "  mutate(\n",
    "    score=mn_avg_ol, \n",
    "    expenditure_total = ppexp_tot,\n",
    "    expenditure_instructional = ppexp_inst,\n",
    "    revenue=pprev_tot,\n",
    "    state=stateabb.y,\n",
    "    enrollment=totenrl,\n",
    "    pct_white_or_asian =perasn+perwht,\n",
    "    pct_underrepresented_minority=perblk + perind + perhsp,\n",
    "    median_income=inc50all,\n",
    "    pct_ba_or_higher = baplus_all,\n",
    "    pct_single_mom=singmom_all,\n",
    "    SES=sesall,\n",
    "    pct_special_ed = perspeced,\n",
    "    median_income_10k = median_income / 10000\n",
    "  )"
   ]
  },
  {
   "cell_type": "markdown",
   "metadata": {},
   "source": [
    "\n",
    "# I included some extra variables I'm not using in this brief example but have used for related analysis"
   ]
  },
  {
   "cell_type": "code",
   "execution_count": 18,
   "metadata": {},
   "outputs": [],
   "source": [
    "\n",
    "# 'melt' selected expenditure measures so that we can analyze them quickly via grouping\n",
    "sedaMelted = sedaMerged %>%\n",
    "  mutate(\n",
    "    log_income=log(inc50all),\n",
    "    `total expenditure per pupil`=expenditure_total,\n",
    "    `instructional expenditure per pupil`=expenditure_instructional,\n",
    "    `revenue per pupil`=revenue\n",
    "  ) %>%\n",
    "  melt(\n",
    "    measure.vars=c(\n",
    "      'total expenditure per pupil',\n",
    "      'instructional expenditure per pupil',\n",
    "      'revenue per pupil'\n",
    "    )\n",
    "  )"
   ]
  },
  {
   "cell_type": "code",
   "execution_count": 19,
   "metadata": {},
   "outputs": [],
   "source": [
    "\n",
    "# group by state and fiscal variables\n",
    "sedaCors = sedaMelted %>%\n",
    "  group_by(state,variable) %>%\n",
    "  mutate(\n",
    "    n=n()\n",
    "  ) %>%\n",
    "  filter(\n",
    "    n > 3  # exclude groups with fewer than 3 rows since this causes errors\n",
    "           # in this case, excludes groups with DC as a 'state' since it only 1 school district\n",
    "  ) %>%\n",
    "  summarise(\n",
    "    cor=cor.test(value,score)$estimate,\n",
    "    cor_lo=cor.test(value,score)$conf.int[1],\n",
    "    cor_hi=cor.test(value,score)$conf.int[2],\n",
    "    enrollment=sum(enrollment,na.rm=T)\n",
    "  ) %>%\n",
    "  ungroup()"
   ]
  },
  {
   "cell_type": "code",
   "execution_count": 20,
   "metadata": {},
   "outputs": [
    {
     "data": {},
     "metadata": {},
     "output_type": "display_data"
    },
    {
     "data": {
      "image/png": "[encoded data removed]",
      "text/plain": [
       "plot without title"
      ]
     },
     "metadata": {},
     "output_type": "display_data"
    }
   ],
   "source": [
    "\n",
    "sedaCors %>%\n",
    "  group_by(variable) %>%\n",
    "  mutate(\n",
    "    # create factor for state, ordered by mean correlation\n",
    "    state_lab=reorder(state,cor,mean,na.rm=T) \n",
    "  ) %>%\n",
    "  ungroup() %>% {\n",
    "    \n",
    "    ggplot(.,aes(cor,state_lab,color=variable)) +\n",
    "      geom_vline(xintercept=0) +\n",
    "      geom_point(size=3) +\n",
    "      geom_errorbarh(aes(xmin=cor_lo,xmax=cor_hi)) +\n",
    "      facet_wrap(~ variable,ncol=3) +\n",
    "      theme(legend.position='none') +\n",
    "      labs(\n",
    "        y=NULL,\n",
    "        x='Correlation coefficient between school $ measure and mean student test scores at district level'\n",
    "      ) +\n",
    "      coord_cartesian(xlim=c(-.7,.7))\n",
    "  }"
   ]
  },
  {
   "cell_type": "code",
   "execution_count": null,
   "metadata": {},
   "outputs": [],
   "source": []
  }
 ],
 "metadata": {
  "kernelspec": {
   "display_name": "R 3.5",
   "language": "R",
   "name": "ir35"
  },
  "language_info": {
   "codemirror_mode": "r",
   "file_extension": ".r",
   "mimetype": "text/x-r-source",
   "name": "R",
   "pygments_lexer": "r",
   "version": "3.5.0"
  }
 },
 "nbformat": 4,
 "nbformat_minor": 2
}
