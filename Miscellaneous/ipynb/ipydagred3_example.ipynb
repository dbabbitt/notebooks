{
 "cells": [
  {
   "cell_type": "code",
   "execution_count": null,
   "metadata": {},
   "outputs": [],
   "source": [
    "\n",
    "import sys\n",
    "\n",
    "command_str = '{sys.executable} -m pip install --upgrade ipydagred3'.format(sys=sys)\n",
    "print(command_str)\n",
    "!{command_str}"
   ]
  },
  {
   "cell_type": "code",
   "execution_count": 17,
   "metadata": {},
   "outputs": [],
   "source": [
    "\n",
    "import ipydagred3"
   ]
  },
  {
   "cell_type": "code",
   "execution_count": 18,
   "metadata": {},
   "outputs": [],
   "source": [
    "\n",
    "# Instantiate new graph\n",
    "g = ipydagred3.Graph()"
   ]
  },
  {
   "cell_type": "code",
   "execution_count": 19,
   "metadata": {},
   "outputs": [],
   "source": [
    "\n",
    "states = [\"CLOSED\", \"LISTEN\", \"SYN RCVD\", \"SYN SENT\",\n",
    "          \"ESTAB\", \"FINWAIT-1\", \"CLOSE WAIT\", \"FINWAIT-2\",\n",
    "          \"CLOSING\", \"LAST-ACK\", \"TIME WAIT\"]"
   ]
  },
  {
   "cell_type": "code",
   "execution_count": 20,
   "metadata": {},
   "outputs": [],
   "source": [
    "\n",
    "for state in states:\n",
    "    g.setNode(state, tooltip='tooltip1 of ' + state)"
   ]
  },
  {
   "cell_type": "code",
   "execution_count": 21,
   "metadata": {},
   "outputs": [],
   "source": [
    "\n",
    "g.setEdge(\"CLOSED\",     \"LISTEN\",     label=\"open\")\n",
    "g.setEdge(\"LISTEN\",     \"SYN RCVD\",   label=\"rcv SYN\")\n",
    "g.setEdge(\"LISTEN\",     \"SYN SENT\",   label=\"send\")\n",
    "g.setEdge(\"LISTEN\",     \"CLOSED\",     label=\"close\")\n",
    "g.setEdge(\"SYN RCVD\",   \"FINWAIT-1\",  label=\"close\")\n",
    "g.setEdge(\"SYN RCVD\",   \"ESTAB\",      label=\"rcv ACK of SYN\")\n",
    "g.setEdge(\"SYN SENT\",   \"SYN RCVD\",   label=\"rcv SYN\")\n",
    "g.setEdge(\"SYN SENT\",   \"ESTAB\",      label=\"rcv SYN, ACK\")\n",
    "g.setEdge(\"SYN SENT\",   \"CLOSED\",     label=\"close\")\n",
    "g.setEdge(\"ESTAB\",      \"FINWAIT-1\",  label=\"close\")\n",
    "g.setEdge(\"ESTAB\",      \"CLOSE WAIT\", label=\"rcv FIN\")\n",
    "g.setEdge(\"FINWAIT-1\",  \"FINWAIT-2\",  label=\"rcv ACK of FIN\")\n",
    "g.setEdge(\"FINWAIT-1\",  \"CLOSING\",    label=\"rcv FIN\")\n",
    "g.setEdge(\"CLOSE WAIT\", \"LAST-ACK\",   label=\"close\")\n",
    "g.setEdge(\"FINWAIT-2\",  \"TIME WAIT\",  label=\"rcv FIN\")\n",
    "g.setEdge(\"CLOSING\",    \"TIME WAIT\",  label=\"rcv ACK of FIN\")\n",
    "g.setEdge(\"LAST-ACK\",   \"CLOSED\",     label=\"rcv ACK of FIN\")\n",
    "g.setEdge(\"TIME WAIT\",  \"CLOSED\",     label=\"timeout=2MSL\");"
   ]
  },
  {
   "cell_type": "code",
   "execution_count": 22,
   "metadata": {},
   "outputs": [
    {
     "data": {
      "application/vnd.jupyter.widget-view+json": {
       "model_id": "f67eecb402b4447d9cb3d5e6e2b16c8a",
       "version_major": 2,
       "version_minor": 0
      },
      "text/plain": [
       "DagreD3Widget()"
      ]
     },
     "metadata": {},
     "output_type": "display_data"
    }
   ],
   "source": [
    "\n",
    "widget = ipydagred3.DagreD3Widget(graph=g)\n",
    "widget"
   ]
  },
  {
   "cell_type": "code",
   "execution_count": 10,
   "metadata": {},
   "outputs": [
    {
     "data": {
      "text/plain": [
       "<ipydagred3.node.Node at 0x217cefeb9c8>"
      ]
     },
     "execution_count": 10,
     "metadata": {},
     "output_type": "execute_result"
    }
   ],
   "source": [
    "\n",
    "# Add some custom colors based on state\n",
    "g.setNode('CLOSED', style=\"fill: #f77\")\n",
    "g.setNode('ESTAB', style=\"fill: #7f7\")"
   ]
  },
  {
   "cell_type": "code",
   "execution_count": 11,
   "metadata": {},
   "outputs": [
    {
     "data": {
      "text/plain": [
       "<ipydagred3.node.Node at 0x217cee2fa08>"
      ]
     },
     "execution_count": 11,
     "metadata": {},
     "output_type": "execute_result"
    }
   ],
   "source": [
    "\n",
    "# Add new nodes\n",
    "g.setNode(\"test\")\n",
    "g.setNode(\"test2\")"
   ]
  },
  {
   "cell_type": "code",
   "execution_count": 12,
   "metadata": {},
   "outputs": [
    {
     "data": {
      "text/plain": [
       "<ipydagred3.edge.Edge at 0x217cefe8088>"
      ]
     },
     "execution_count": 12,
     "metadata": {},
     "output_type": "execute_result"
    }
   ],
   "source": [
    "\n",
    "# Add new edges\n",
    "g.setEdge(\"test\", \"test2\")"
   ]
  },
  {
   "cell_type": "code",
   "execution_count": 13,
   "metadata": {},
   "outputs": [
    {
     "name": "stdout",
     "output_type": "stream",
     "text": [
      "['g.add_traits', 'g.attrs', 'g.class_own_trait_events', 'g.class_own_traits', 'g.class_trait_names', 'g.class_traits', 'g.compound', 'g.cross_validation_lock', 'g.directed', 'g.edgeCount', 'g.edges', 'g.hasEdge', 'g.hasNode', 'g.has_trait', 'g.hold_trait_notifications', 'g.isDirected', 'g.isMultiGraph', 'g.multigraph', 'g.nodeCount', 'g.nodes', 'g.notify_change', 'g.observe', 'g.on_trait_change', 'g.post', 'g.setEdge', 'g.setGraph', 'g.setNode', 'g.set_trait', 'g.setup_instance', 'g.to_dict', 'g.trait_events', 'g.trait_metadata', 'g.trait_names', 'g.traits', 'g.unobserve', 'g.unobserve_all']\n"
     ]
    }
   ],
   "source": [
    "\n",
    "print(['g.{}'.format(fn) for fn in dir(g) if not fn.startswith('_')])"
   ]
  },
  {
   "cell_type": "code",
   "execution_count": 14,
   "metadata": {},
   "outputs": [
    {
     "name": "stdout",
     "output_type": "stream",
     "text": [
      "['ipydagred3.DagreD3Widget', 'ipydagred3.Edge', 'ipydagred3.Graph', 'ipydagred3.Node', 'ipydagred3.edge', 'ipydagred3.graph', 'ipydagred3.nbextension', 'ipydagred3.node', 'ipydagred3.widget']\n"
     ]
    }
   ],
   "source": [
    "\n",
    "print(['ipydagred3.{}'.format(fn) for fn in dir(ipydagred3) if not fn.startswith('_')])"
   ]
  },
  {
   "cell_type": "code",
   "execution_count": null,
   "metadata": {},
   "outputs": [],
   "source": []
  }
 ],
 "metadata": {
  "kernelspec": {
   "display_name": "Python 3",
   "language": "python",
   "name": "python3"
  },
  "language_info": {
   "codemirror_mode": {
    "name": "ipython",
    "version": 3
   },
   "file_extension": ".py",
   "mimetype": "text/x-python",
   "name": "python",
   "nbconvert_exporter": "python",
   "pygments_lexer": "ipython3",
   "version": "3.7.7"
  }
 },
 "nbformat": 4,
 "nbformat_minor": 4
}
