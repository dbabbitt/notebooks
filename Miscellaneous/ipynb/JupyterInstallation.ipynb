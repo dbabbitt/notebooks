{
 "cells": [
  {
   "cell_type": "markdown",
   "metadata": {},
   "source": [
    "# Installing Python Packages from a Jupyter Notebook"
   ]
  },
  {
   "cell_type": "markdown",
   "metadata": {},
   "source": [
    "*This notebook originally appeared as a [post](http://jakevdp.github.io/blog/2017/12/05/installing-python-packages-from-jupyter/) on the blog [Pythonic Perambulations](http://jakevdp.github.io).*"
   ]
  },
  {
   "cell_type": "markdown",
   "metadata": {},
   "source": [
    "<!-- PELICAN_BEGIN_SUMMARY -->\n",
    "\n",
    "In software, it's said that [all abstractions are leaky](https://www.joelonsoftware.com/2002/11/11/the-law-of-leaky-abstractions/), and this is true for the Jupyter notebook as it is for any other software.\n",
    "I most often see this manifest itself with the following issue:\n",
    "\n",
    "> I installed *package X* and now I can't import it in the notebook. Help!\n",
    "    \n",
    "This issue is a perrennial source of StackOverflow questions (e.g. [this](https://stackoverflow.com/questions/39007571/running-jupyter-with-multiple-python-and-ipython-paths/), [that](https://stackoverflow.com/questions/42500142/importerror-no-module-named-jwt-in-jupyter), [here](https://stackoverflow.com/questions/32777807/importerror-no-module-named-cv2-using-jupyter), [there](https://stackoverflow.com/questions/42500649/failed-to-import-numpy-as-np-when-i-worked-with-jupyter-notebook), [another](https://stackoverflow.com/questions/46634660/jupyter-notebook-wrong-sys-path-and-sys-executable), [this one](https://stackoverflow.com/questions/44222513/cannot-import-datashader-installed-using-miniconda), [that one](https://stackoverflow.com/questions/42178070/jupyter-notebook-importerror-no-module-named-sklearn), [and this](https://stackoverflow.com/questions/42034508/fail-pandas-in-python3-jupyter-notebook)... etc.).\n",
    "\n",
    "Fundamentally the problem is usually rooted in the fact that the **Jupyter kernels are disconnected from Jupyter's shell**; in other words, the installer points to a different Python version than is being used in the notebook.\n",
    "In the simplest contexts this issue does not arise, but when it does, debugging the problem requires knowledge of the intricacies of the operating system, the intricacies of Python package installation, and the intricacies of Jupyter itself.\n",
    "In other words, the Jupyter notebook, like all abstractions, is leaky.\n",
    "\n",
    "In the wake of several discussions on this topic with colleagues, some online ([exhibit A](https://twitter.com/amuellerml/status/932637063748444160), [exhibit B](https://twitter.com/jakevdp/status/922846245848150016)) and some off, I decided to treat this issue in depth here.\n",
    "This post will address a couple things:\n",
    "\n",
    "- **First**, I'll provide a quick, bare-bones answer to the general question, *how can I install a Python package so it works with my jupyter notebook, using pip and/or conda?*.\n",
    "\n",
    "- **Second**, I'll dive into some of the background of exactly *what* the Jupyter notebook abstraction is doing, how it interacts with the complexities of the operating system, and how you can think about where the \"leaks\" are, and thus better understand what's happening when things stop working.\n",
    "\n",
    "- **Third**, I'll talk about some ideas the community might consider to help smooth-over these issues, including some changes that the Jupyter, Pip, and Conda developers might consider to ease the cognitive load on users.\n",
    "\n",
    "This post will focus on two approaches to installing Python packages: [pip](https://pip.pypa.io/en/stable/) and [conda](https://conda.io/docs/).\n",
    "Other package managers exist (including platform-specific tools like [yum](http://yum.baseurl.org/), [apt](https://help.ubuntu.com/community/AptGet/Howto#Package_management_with_APT), [homebrew](https://brew.sh/), etc., as well as cross-platform tools like [enstaller](http://enstaller.readthedocs.io/en/latest/)), but I'm less familiar with them and won't be remarking on them further.\n",
    "\n",
    "<!-- PELICAN_END_SUMMARY -->"
   ]
  },
  {
   "cell_type": "markdown",
   "metadata": {},
   "source": [
    "## Quick Fix: How To Install Packages from the Jupyter Notebook\n",
    "\n",
    "If you're just looking for a quick answer to the question, *how do I install packages so they work with the notebook*, then look no further."
   ]
  },
  {
   "cell_type": "markdown",
   "metadata": {},
   "source": [
    "### pip vs. conda\n",
    "\n",
    "First, a few words on ``pip`` vs. ``conda``.\n",
    "For many users, the choice between pip and conda can be a confusing one.\n",
    "I wrote [way more than you ever want to know](https://jakevdp.github.io/blog/2016/08/25/conda-myths-and-misconceptions/) about these in a post last year, but the essential difference between the two is this:\n",
    "\n",
    "- *pip* installs **python** packages in **any environment**.\n",
    "- *conda* installs **any** package in **conda environments**.\n",
    "\n",
    "If you already have a Python installation that you're using, then the choice of which to use is easy:\n",
    "\n",
    "- If you installed Python using Anaconda or Miniconda, then use ``conda`` to install Python packages. If conda tells you the package you want doesn't exist, then use pip (or try [conda-forge](https://conda-forge.org/), which has more packages available than the default conda channel).\n",
    "  \n",
    "- If you installed Python any other way (from source, using pyenv, virtualenv, etc.), then use ``pip`` to install Python packages\n",
    "\n",
    "Finally, because it often comes up, I should mention that you should **never** use ``sudo pip install``.\n",
    "\n",
    "*NEVER.*\n",
    "\n",
    "It will always lead to problems in the long term, even if it seems to solve them in the short-term.\n",
    "For example, if ``pip install`` gives you a permission error, it likely means you're trying to install/update packages in a system python, such as ``/usr/bin/python``. Doing this can have bad consequences, as often the operating system itself depends on particular versions of packages within that Python installation.\n",
    "For day-to-day Python usage, you should isolate your packages from the system Python, using either [virtual environments](https://virtualenv.pypa.io/en/stable/) or [Anaconda/Miniconda](https://conda.io/docs/user-guide/install/download.html) — I personally prefer conda for this, but I know many colleagues who prefer virtualenv."
   ]
  },
  {
   "cell_type": "markdown",
   "metadata": {},
   "source": [
    "### How to use Conda from the Jupyter Notebook\n",
    "\n",
    "If you're in the jupyter notebook and you want to install a package with conda, you might be tempted to use the ``!`` notation to run conda directly as a shell command from the notebook:"
   ]
  },
  {
   "cell_type": "code",
   "execution_count": null,
   "metadata": {},
   "outputs": [],
   "source": [
    "# DON'T DO THIS!\n",
    "!conda install --yes numpy"
   ]
  },
  {
   "cell_type": "markdown",
   "metadata": {},
   "source": [
    "(Note that we use ``--yes`` to automatically answer ``y`` if and when conda asks for user confirmation)\n",
    "\n",
    "For various reasons that I'll outline more fully below, this **will not generally work** if you want to use these installed packages from the current notebook, though it may work in the simplest cases.\n",
    "\n",
    "Here is a short snippet that should work in general:"
   ]
  },
  {
   "cell_type": "code",
   "execution_count": 3,
   "metadata": {},
   "outputs": [
    {
     "name": "stdout",
     "output_type": "stream",
     "text": [
      "conda install --yes --prefix \"C:\\Users\\dev\\Anaconda3\" numpy\n"
     ]
    }
   ],
   "source": [
    "\n",
    "import sys\n",
    "\n",
    "print('conda install --yes --prefix \"{}\" numpy'.format(sys.prefix))"
   ]
  },
  {
   "cell_type": "code",
   "execution_count": null,
   "metadata": {},
   "outputs": [],
   "source": [
    "\n",
    "# Install a conda package in the current Jupyter kernel\n",
    "import sys\n",
    "\n",
    "!conda install --yes --prefix {sys.prefix} numpy"
   ]
  },
  {
   "cell_type": "markdown",
   "metadata": {},
   "source": [
    "That bit of extra boiler-plate makes certain that conda installs the package in the currently-running Jupyter kernel (thanks to [Min Ragan-Kelley](https://twitter.com/minrk/status/842067777150169088) for suggesting this approach).\n",
    "I'll discuss why this is needed momentarily."
   ]
  },
  {
   "cell_type": "markdown",
   "metadata": {},
   "source": [
    "### How to use Pip from the Jupyter Notebook\n",
    "\n",
    "If you're using the Jupyter notebook and want to install a package with ``pip``, you similarly might be inclined to run pip directly in the shell:"
   ]
  },
  {
   "cell_type": "code",
   "execution_count": null,
   "metadata": {},
   "outputs": [],
   "source": [
    "# DON'T DO THIS\n",
    "!pip install numpy"
   ]
  },
  {
   "cell_type": "markdown",
   "metadata": {},
   "source": [
    "For various reasons that I'll outline more fully below, this **will not generally work** if you want to use these installed packages from the current notebook, though it may work in the simplest cases.\n",
    "\n",
    "Here is a short snippet that should generally work:"
   ]
  },
  {
   "cell_type": "code",
   "execution_count": null,
   "metadata": {},
   "outputs": [],
   "source": [
    "# Install a pip package in the current Jupyter kernel\n",
    "import sys\n",
    "!{sys.executable} -m pip install numpy"
   ]
  },
  {
   "cell_type": "markdown",
   "metadata": {},
   "source": [
    "That bit of extra boiler-plate makes certain that you are running the ``pip`` version associated with the current Python kernel, so that the installed packages can be used in the current notebook.\n",
    "This is related to the fact that, even setting Jupyter notebooks aside, it's better to install packages using\n",
    "\n",
    "    $ python -m pip install <package>\n",
    "    \n",
    "rather than\n",
    "\n",
    "    $ pip install <package>\n",
    "    \n",
    "because the former is more explicit about where the package will be installed (more on this below)."
   ]
  },
  {
   "cell_type": "markdown",
   "metadata": {},
   "source": [
    "## The Details: Why is Installation from Jupyter so Messy?\n",
    "\n",
    "Those above solutions should work in all cases... but why is that additional boilerplate necessary?\n",
    "In short, it's because in Jupyter, **the shell environment and the Python executable are disconnected**.\n",
    "Understanding why that matters depends on a basic understanding of a few different concepts:\n",
    "\n",
    "1. how your operating system locates executable programs,\n",
    "2. how Python installs and locates packages\n",
    "3. how Jupyter decides which Python executable to use.\n",
    "\n",
    "For completeness, I'm going to delve briefly into each of these topics (this discussion is partly drawn from [This StackOverflow answer](https://stackoverflow.com/questions/39007571/running-jupyter-with-multiple-python-and-ipython-paths/39022003#39022003) that I wrote last year).\n",
    "\n",
    "*Note: the following discussion assumes Linux, Unix, MacOSX and similar operating systems. Windows has a slightly different architecture, and so some details will differ.*"
   ]
  },
  {
   "cell_type": "markdown",
   "metadata": {},
   "source": [
    "### How your operating system locates executables\n",
    "\n",
    "When you're using the terminal and type a command like ``python``, ``jupyter``, ``ipython``, ``pip``, ``conda``, etc., your operating system contains a well-defined mechanism to find the executable file the name refers to.\n",
    "\n",
    "On Linux & Mac systems, the system will first check for an [alias](http://tldp.org/LDP/abs/html/aliases.html) matching the command; if this fails it references the ``$PATH`` environment variable:"
   ]
  },
  {
   "cell_type": "code",
   "execution_count": null,
   "metadata": {},
   "outputs": [],
   "source": [
    "!echo $PATH"
   ]
  },
  {
   "cell_type": "markdown",
   "metadata": {},
   "source": [
    "``$PATH`` lists the directories, in order, that will be searched for any executable: for example, if I type ``python`` on my system with the above ``$PATH``, it will first look for ``/Users/jakevdp/anaconda/envs/python3.6/bin/python``, and if that doesn't exist it will look for ``/Users/jakevdp/anaconda/bin/python``, and so on.\n",
    "\n",
    "(Parenthetical note: why is the first entry of ``$PATH`` repeated twice here? Because every time you launch ``jupyter notebook``, Jupyter prepends the location of the ``jupyter`` executable to the beginning of the ``$PATH``. In this case, the location was already at the beginning of the path, and the result is that the entry is duplicated. Duplicate entries add clutter, but cause no harm).\n",
    "\n",
    "If you want to know what is actually executed when you type ``python``, you can use the ``type`` shell command:"
   ]
  },
  {
   "cell_type": "code",
   "execution_count": null,
   "metadata": {},
   "outputs": [],
   "source": [
    "!type python"
   ]
  },
  {
   "cell_type": "markdown",
   "metadata": {},
   "source": [
    "Note that this is true of *any* command you use from the terminal:"
   ]
  },
  {
   "cell_type": "code",
   "execution_count": null,
   "metadata": {},
   "outputs": [],
   "source": [
    "!type ls"
   ]
  },
  {
   "cell_type": "markdown",
   "metadata": {},
   "source": [
    "Even built-in commands like ``type`` itself:"
   ]
  },
  {
   "cell_type": "code",
   "execution_count": null,
   "metadata": {},
   "outputs": [],
   "source": [
    "!type type"
   ]
  },
  {
   "cell_type": "markdown",
   "metadata": {},
   "source": [
    "You can optionally add the ``-a`` tag to see *all available* versions of the command in your current shell environment; for example:"
   ]
  },
  {
   "cell_type": "code",
   "execution_count": null,
   "metadata": {},
   "outputs": [],
   "source": [
    "!type -a python"
   ]
  },
  {
   "cell_type": "code",
   "execution_count": null,
   "metadata": {},
   "outputs": [],
   "source": [
    "!type -a conda"
   ]
  },
  {
   "cell_type": "code",
   "execution_count": null,
   "metadata": {},
   "outputs": [],
   "source": [
    "!type -a pip"
   ]
  },
  {
   "cell_type": "markdown",
   "metadata": {},
   "source": [
    "When you have multiple available versions of any command, it is important to keep in mind the role of ``$PATH`` in choosing which will be used."
   ]
  },
  {
   "cell_type": "markdown",
   "metadata": {},
   "source": [
    "### How Python locates packages\n",
    "\n",
    "Python uses a similar mechanism to locate imported packages.\n",
    "The list of paths searched by Python on import is found in ``sys.path``:"
   ]
  },
  {
   "cell_type": "code",
   "execution_count": null,
   "metadata": {},
   "outputs": [],
   "source": [
    "import sys\n",
    "sys.path"
   ]
  },
  {
   "cell_type": "markdown",
   "metadata": {},
   "source": [
    "By default, the first place Python looks for a module is an empty path, meaning the current working directory.\n",
    "If the module is not found there, it goes down the list of locations until the module is found.\n",
    "You can find out which location has been used using the ``__path__`` attribute of an imported module:"
   ]
  },
  {
   "cell_type": "code",
   "execution_count": null,
   "metadata": {},
   "outputs": [],
   "source": [
    "import numpy\n",
    "numpy.__path__"
   ]
  },
  {
   "cell_type": "markdown",
   "metadata": {},
   "source": [
    "In most cases, a Python package you install with ``pip`` or with ``conda`` will be put in a directory called ``site-packages``.\n",
    "The important thing to realize is that each Python executable has **its own ``site-packages``**: what this means is that when you install a package, it is **associated with particular python executable** and by default can only be used with that Python installation!\n",
    "\n",
    "We can see this by printing the ``sys.path`` variables for each of the available ``python`` executables in my path, using Jupyter's delightful ability to mix Python and bash commands in a single code block:"
   ]
  },
  {
   "cell_type": "code",
   "execution_count": null,
   "metadata": {},
   "outputs": [],
   "source": [
    "paths = !type -a python\n",
    "for path in set(paths):\n",
    "    path = path.split()[-1]\n",
    "    print(path)\n",
    "    !{path} -c \"import sys; print(sys.path)\"\n",
    "    print()"
   ]
  },
  {
   "cell_type": "markdown",
   "metadata": {},
   "source": [
    "The full details here are not particularly important, but it is important to emphasize that *each Python executable has its own distinct paths*, and unless you modify ``sys.path`` (which should only be done with great care) you cannot import packages installed in a different Python environment.\n",
    "\n",
    "When you run ``pip install`` or ``conda install``, these commands are associated with a particular Python version:\n",
    "\n",
    "- ``pip`` installs packages in the Python in its same path\n",
    "- ``conda`` installs packages in the current active conda environment\n",
    "\n",
    "So, for example we see that ``pip install`` will install to the conda environment named ``python3.6``:"
   ]
  },
  {
   "cell_type": "code",
   "execution_count": null,
   "metadata": {},
   "outputs": [],
   "source": [
    "!type pip"
   ]
  },
  {
   "cell_type": "markdown",
   "metadata": {},
   "source": [
    "And ``conda install`` will do the same, because ``python3.6`` is the current active environment (notice the ``*`` indicating the active environment):"
   ]
  },
  {
   "cell_type": "code",
   "execution_count": null,
   "metadata": {},
   "outputs": [],
   "source": [
    "!conda env list"
   ]
  },
  {
   "cell_type": "markdown",
   "metadata": {},
   "source": [
    "The reason both ``pip`` and ``conda`` default to the conda ``python3.6`` environment is that this is the Python environment I used to launch the notebook.\n",
    "\n",
    "I'll say this again for emphasis: **the shell environment in Jupyter notebook matches the Python version used to *launch* the notebook.**"
   ]
  },
  {
   "cell_type": "markdown",
   "metadata": {},
   "source": [
    "### How Jupyter executes code: Jupyter Kernels\n",
    "\n",
    "The next relevant question is how Jupyter chooses to execute Python code, and this brings us to the concept of a *Jupyter Kernel*.\n",
    "\n",
    "A Jupyter kernel is a set of files that point Jupyter to some means of executing code within the notebook.\n",
    "For Python kernels, this will point to a particular Python version, but Jupyter is designed to be much more general than this: Jupyter has [dozens of available kernels](https://github.com/jupyter/jupyter/wiki/Jupyter-kernels) for languages including Python 2, Python 3, Julia, R, Ruby, Haskell, and even C++ and Fortran!\n",
    "\n",
    "If you're using the Jupyter notebook, you can change your kernel at any time using the *Kernel → Choose Kernel* menu item.\n",
    "\n",
    "To see the kernels you have available on your system, you can run the following command in the shell:"
   ]
  },
  {
   "cell_type": "code",
   "execution_count": null,
   "metadata": {},
   "outputs": [],
   "source": [
    "!jupyter kernelspec list"
   ]
  },
  {
   "cell_type": "markdown",
   "metadata": {},
   "source": [
    "Each of these listed kernels is a directory that contains a file called ``kernel.json`` which specifies, among other things, which language and executable the kernel should use.\n",
    "For example:"
   ]
  },
  {
   "cell_type": "code",
   "execution_count": null,
   "metadata": {},
   "outputs": [],
   "source": [
    "!cat /Users/jakevdp/Library/Jupyter/kernels/conda-root/kernel.json"
   ]
  },
  {
   "cell_type": "markdown",
   "metadata": {},
   "source": [
    "If you'd like to create a new kernel, you can do so using the [jupyter ipykernel command](http://ipython.readthedocs.io/en/stable/install/kernel_install.html#kernels-for-different-environments);\n",
    "for example, I created the above kernels for my primary conda environments using the following as a template:\n",
    "```\n",
    "$ source activate myenv\n",
    "$ python -m ipykernel install --user --name myenv --display-name \"Python (myenv)\"\n",
    "```"
   ]
  },
  {
   "cell_type": "markdown",
   "metadata": {},
   "source": [
    "## The Root of the Issue"
   ]
  },
  {
   "cell_type": "markdown",
   "metadata": {},
   "source": [
    "Now we have the full background to answer our question: *Why don't ``!pip install`` or ``!conda install`` always work from the notebook*?\n",
    "\n",
    "The root of the issue is this: the shell environment is determined when the Jupyter notebook is launched, while the Python executable is determined by the kernel, and the two do not necessarily match.\n",
    "In other words, there is no guarantee that the ``python``, ``pip``, and ``conda`` in your ``$PATH`` will be compatible with the ``python`` executable used by the notebook.\n",
    "\n",
    "Recall that the ``python`` in your path can be determined using"
   ]
  },
  {
   "cell_type": "code",
   "execution_count": null,
   "metadata": {},
   "outputs": [],
   "source": [
    "!type python"
   ]
  },
  {
   "cell_type": "markdown",
   "metadata": {},
   "source": [
    "The Python executable being used in the notebook can be determined using"
   ]
  },
  {
   "cell_type": "code",
   "execution_count": null,
   "metadata": {},
   "outputs": [],
   "source": [
    "sys.executable"
   ]
  },
  {
   "cell_type": "markdown",
   "metadata": {},
   "source": [
    "In my current notebook environment, the two differ.\n",
    "This is why a simple ``!pip install`` or ``!conda install`` does not work: the commands install packages in the ``site-packages`` of the wrong Python installation.\n",
    "\n",
    "As noted above, we can get around this by explicitly identifying where we want packages to be installed.\n",
    "\n",
    "For **conda**, you can set the prefix manually in the shell command:\n",
    "\n",
    "```\n",
    "$ conda install --yes --prefix /Users/jakevdp/anaconda numpy\n",
    "```\n",
    "\n",
    "or, to automatically use the correct prefix (using syntax available in the notebook)\n",
    "\n",
    "```\n",
    "!conda install --yes --prefix {sys.prefix} numpy\n",
    "```\n",
    "\n",
    "For **pip**, you can specify the Python executable explicitly:\n",
    "\n",
    "```\n",
    "$ /Users/jakevdp/anaconda/bin/python -m pip install numpy\n",
    "```\n",
    "\n",
    "or, to automatically use the correct executable (again using notebook shell syntax)\n",
    "\n",
    "```\n",
    "!{sys.executable} -m pip install numpy\n",
    "```\n",
    "\n",
    "Remember: you need your *installation command* to match the *current python kernel* if you want installed packages to be available in the notebook."
   ]
  },
  {
   "cell_type": "markdown",
   "metadata": {},
   "source": [
    "## Some Modest Proposals"
   ]
  },
  {
   "cell_type": "markdown",
   "metadata": {},
   "source": [
    "So, in summary, the reason that installation of packages in the Jupyter notebook is fraught with difficulty is fundamentally that **Jupyter's shell environment and Python kernel are mismatched**, and that means that you have to do more than simply ``pip install`` or ``conda install`` to make things work.\n",
    "The exception is the special case where you run ``jupyter notebook`` from the same Python environment to which your kernel points; in that case the simple installation approach should work.\n",
    "\n",
    "But that leaves us in an undesireable place, as it increases the learning curve for novice users who may want to do something they (rightly) presume should be simple: install a package and then use it.\n",
    "So what can we as a community do to smooth-out this issue?\n",
    "\n",
    "I have a few ideas, some of which might even be useful:"
   ]
  },
  {
   "cell_type": "markdown",
   "metadata": {},
   "source": [
    "### Potential Changes to Jupyter\n",
    "\n",
    "As I mentioned, the fundamental issue is a mismatch between Jupyter's shell environment and compute kernel.\n",
    "So, could we massage kernel specifications such that they force the two to match?\n",
    "\n",
    "Perhaps: for example, [this github issue](https://github.com/jupyterhub/jupyterhub/issues/847) shows an approach to modifying shell variables as part of kernel startup.\n",
    "\n",
    "Basically, in your kernel directory, you can add a script ``kernel-startup.sh`` that looks something like this (and make sure you change the permissions so that it's executable):\n",
    "\n",
    "```\n",
    "#!/usr/bin/env bash\n",
    "\n",
    "# activate anaconda env\n",
    "source activate myenv\n",
    "\n",
    "# this is the critical part, and should be at the end of your script:\n",
    "exec python -m ipykernel $@\n",
    "```\n",
    "\n",
    "Then in your ``kernel.json`` file, modify the ``argv`` field to look like this:\n",
    "\n",
    "```\n",
    "\"argv\": [\n",
    "   \"/path/to/kernel-startup.sh\",\n",
    "   \"-f\",\n",
    "   \"{connection_file}\"\n",
    " ]\n",
    "```\n",
    "\n",
    "Once you do this, switching to the ``myenv`` kernel will automatically activate the ``myenv`` conda environment, which changes your ``$CONDA_PREFIX``, ``$PATH`` and other system variables such that ``!conda install XXX`` and ``!pip install XXX`` will work correctly. A similar approach could work for virtualenvs or other Python environments.\n",
    "\n",
    "There is one tricky issue here: this approach will fail if your ``myenv`` environment does not have the ``ipykernel`` package installed, and probably also requires it to have a jupyter version compatible with that used to launch the notebook. So it's not a full solution to the problem by any means, but if Python kernels could be designed to do this sort of shell initialization by default, it would be far less confusing to users: ``!pip install`` and ``!conda install`` would simply work."
   ]
  },
  {
   "cell_type": "markdown",
   "metadata": {},
   "source": [
    "### Potential Changes to pip\n",
    "\n",
    "One source of installation confusion, even outside of Jupyter, is the fact that, depending on the nature of your system's aliases and ``$PATH`` variable, ``pip`` and ``python`` might point to different paths.\n",
    "In this case ``pip install`` will install packages to a path inaccessible to the ``python`` executable.\n",
    "For this reason, it is safer to use ``python -m pip install``, which explicitly specifies the desired Python version ([explicit is better than implicit](https://www.python.org/dev/peps/pep-0020/), after all).\n",
    "\n",
    "This is one reason that ``pip install`` no longer appears in [Python's docs](https://docs.python.org/3/installing/index.html#basic-usage), and experienced Python educators like David Beazley [never teach bare pip](https://twitter.com/dabeaz/status/922859605247643649).\n",
    "CPython developer Nick Coghlan has even [indicated](https://twitter.com/ncoghlan_dev/status/922979220711661568) that the ``pip`` executable may someday be deprecated in favor of ``python -m pip``.\n",
    "Even though it's more verbose, I think forcing users to be explicit would be a useful change, particularly as the use of virtualenvs and conda envs becomes more common."
   ]
  },
  {
   "cell_type": "markdown",
   "metadata": {},
   "source": [
    "### Changes to Conda\n",
    "\n",
    "I can think of a couple modifications to conda's API that may be helpful to users"
   ]
  },
  {
   "cell_type": "markdown",
   "metadata": {},
   "source": [
    "#### Explicit invocation\n",
    "For symmetry with ``pip``, it would be nice if ``python -m conda install`` could be expected to work in the same way the ``pip`` counterpart does.\n",
    "You can call ``conda`` this way in the root environment, but the conda Python package (as opposed to the conda executable) cannot currently be installed anywhere but the root environment:\n",
    "```\n",
    "(myenv) jakevdp$ conda install conda\n",
    "Fetching package metadata ...........\n",
    "\n",
    "InstallError: Error: 'conda' can only be installed into the root environment\n",
    "```\n",
    "I suspect that allowing ``python -m conda install`` in all conda environments would require a fairly significant redesign of conda's installation model, so it may not be worth the change just for symmetry with ``pip``'s API.\n",
    "That said, such a symmetry would certainly be a help to users."
   ]
  },
  {
   "cell_type": "markdown",
   "metadata": {},
   "source": [
    "#### A pip channel for conda?\n",
    "\n",
    "Another useful change conda could make would be to add a channel that essentially mirrors the [Python Package Index](https://pypi.python.org/pypi), so that when you do ``conda install some-package`` it will automatically draw from packages available to ``pip`` as well.\n",
    "\n",
    "I don't have a deep enough knowledge of conda's architecture to know how easy such a feature would be to implement, but I *do* have loads of experiences helping newcomers to Python and/or conda: I can say with certainty that such a feature would go a long way toward softening their learning curve."
   ]
  },
  {
   "cell_type": "markdown",
   "metadata": {},
   "source": [
    "### New Jupyter Magic Functions\n",
    "\n",
    "Even if the above changes to the stack are not possible or desirable, we could simplify the user experience somewhat by introducing ``%pip`` and ``%conda`` magic functions within the Jupyter notebook that detect the current kernel and make certain packages are installed in the correct location."
   ]
  },
  {
   "cell_type": "markdown",
   "metadata": {},
   "source": [
    "#### pip magic\n",
    "\n",
    "For example, here's how you can define a ``%pip`` magic function that works in the current kernel:"
   ]
  },
  {
   "cell_type": "code",
   "execution_count": null,
   "metadata": {},
   "outputs": [],
   "source": [
    "from IPython.core.magic import register_line_magic\n",
    "\n",
    "@register_line_magic\n",
    "def pip(args):\n",
    "    \"\"\"Use pip from the current kernel\"\"\"\n",
    "    from pip import main\n",
    "    main(args.split())"
   ]
  },
  {
   "cell_type": "markdown",
   "metadata": {},
   "source": [
    "Running it as follows will install packages in the expected location"
   ]
  },
  {
   "cell_type": "code",
   "execution_count": null,
   "metadata": {},
   "outputs": [],
   "source": [
    "%pip install numpy"
   ]
  },
  {
   "cell_type": "markdown",
   "metadata": {},
   "source": [
    "Note that Jupyter developer Matthias Bussonnier has published essentially this in his [pip_magic](https://github.com/Carreau/pip_magic) repository, so you can do\n",
    "```\n",
    "$ python -m pip install pip_magic\n",
    "```\n",
    "and use this right now (that is, assuming you install ``pip_magic`` in the right place!)"
   ]
  },
  {
   "cell_type": "markdown",
   "metadata": {},
   "source": [
    "#### conda magic\n",
    "\n",
    "Similarly, we can define a conda magic that will do the right thing if you type ``%conda install XXX``.\n",
    "This is a bit more involved than the ``pip`` magic, because it must first confirm that the environment is conda-compatible, and then (related to the lack of ``python -m conda install``) must call a subprocess to execute the appropriate shell command:"
   ]
  },
  {
   "cell_type": "code",
   "execution_count": null,
   "metadata": {},
   "outputs": [],
   "source": [
    "from IPython.core.magic import register_line_magic\n",
    "import sys\n",
    "import os\n",
    "from subprocess import Popen, PIPE\n",
    "\n",
    "\n",
    "def is_conda_environment():\n",
    "    \"\"\"Return True if the current Python executable is in a conda env\"\"\"\n",
    "    # TODO: make this work with Conda.exe in Windows\n",
    "    conda_exec = os.path.join(os.path.dirname(sys.executable), 'conda')\n",
    "    conda_history = os.path.join(sys.prefix, 'conda-meta', 'history')\n",
    "    return os.path.exists(conda_exec) and os.path.exists(conda_history)\n",
    "\n",
    "\n",
    "@register_line_magic\n",
    "def conda(args):\n",
    "    \"\"\"Use conda from the current kernel\"\"\"\n",
    "    # TODO: make this work with Conda.exe in Windows\n",
    "    # TODO: fix string encoding to work with Python 2\n",
    "    if not is_conda_environment():\n",
    "        raise ValueError(\"The python kernel does not appear to be a conda environment.  \"\n",
    "                         \"Please use ``%pip install`` instead.\")\n",
    "    \n",
    "    conda_executable = os.path.join(os.path.dirname(sys.executable), 'conda')\n",
    "    args = [conda_executable] + args.split()\n",
    "    \n",
    "    # Add --prefix to point conda installation to the current environment\n",
    "    if args[1] in ['install', 'update', 'upgrade', 'remove', 'uninstall', 'list']:\n",
    "        if '-p' not in args and '--prefix' not in args:\n",
    "            args.insert(2, '--prefix')\n",
    "            args.insert(3, sys.prefix)\n",
    "            \n",
    "    # Because the notebook does not allow us to respond \"yes\" during the\n",
    "    # installation, we need to insert --yes in the argument list for some commands\n",
    "    if args[1] in ['install', 'update', 'upgrade', 'remove', 'uninstall', 'create']:\n",
    "        if '-y' not in args and '--yes' not in args:\n",
    "            args.insert(2, '--yes')\n",
    "            \n",
    "    # Call conda from command line with subprocess & send results to stdout & stderr\n",
    "    with Popen(args, stdout=PIPE, stderr=PIPE) as process:\n",
    "        # Read stdout character by character, as it includes real-time progress updates\n",
    "        for c in iter(lambda: process.stdout.read(1), b''):\n",
    "            sys.stdout.write(c.decode(sys.stdout.encoding))\n",
    "        # Read stderr line by line, because real-time does not matter\n",
    "        for line in iter(process.stderr.readline, b''):\n",
    "            sys.stderr.write(line.decode(sys.stderr.encoding))"
   ]
  },
  {
   "cell_type": "markdown",
   "metadata": {},
   "source": [
    "You can now use ``%conda install`` and it will install packages to the correct environment:"
   ]
  },
  {
   "cell_type": "code",
   "execution_count": null,
   "metadata": {},
   "outputs": [],
   "source": [
    "%conda install numpy"
   ]
  },
  {
   "cell_type": "markdown",
   "metadata": {},
   "source": [
    "This conda magic still needs some work to be a general solution (cf. the TODO comments in the code), but I think this is a useful start.\n",
    "\n",
    "If a pip magic and conda magic similar to the above were added to Jupyter's default set of magic commands, I think it could go a long way toward solving the common problems that users have when trying to install Python packages for use with Jupyter notebooks.\n",
    "This approach is not without its own dangers, though: these magics are yet another layer of abstraction that, like all abstractions, will inevitably leak.\n",
    "But if they are implemented carefully, I think it would lead to a much nicer overall user experience."
   ]
  },
  {
   "cell_type": "markdown",
   "metadata": {},
   "source": [
    "## Summary\n",
    "\n",
    "In this post, I tried to answer once and for all the perennial question, *how do I install Python packages in the Jupyter notebook*.\n",
    "\n",
    "After proposing some simple solutions that can be used today, I went into a detailed explanation of *why* these solutions are necessary: it comes down to the fact that in Jupyter, the kernel is disconnected from the shell.\n",
    "The kernel environment can be changed at runtime, while the shell environment is determined when the notebook is launched.\n",
    "The fact that a full explanation took so many words and touched so many concepts, I think, indicates a real usability issue for the Jupyter ecosystem, and so I proposed a few possible avenues that the community might adopt to try to streamline the experience for users.\n",
    "\n",
    "One final addendum: I have a huge amount of respect and appreciation for the developers of Jupyter, conda, pip, and related tools that form the foundations of the Python data science ecosystem.\n",
    "I'm fairly certain those developers have already considered these issues and weighed some of these potential fixes – if any of you are reading this, please feel free to comment and set me straight on anything I've overlooked!\n",
    "And, finally, thanks for all that you do for the open source community."
   ]
  },
  {
   "cell_type": "markdown",
   "metadata": {},
   "source": [
    "*Thanks to Andy Mueller, Craig Citro, and Matthias Bussonnier for helpful comments on an early draft of this post*."
   ]
  },
  {
   "cell_type": "markdown",
   "metadata": {},
   "source": [
    "*This post was written within a Jupyter notebook; you can view a static version [here](http://nbviewer.jupyter.org/url/jakevdp.github.com/downloads/notebooks/JupyterInstallation.ipynb) or download the full notebook [here](http://jakevdp.github.com/downloads/notebooks/JupyterInstallation.ipynb).*"
   ]
  }
 ],
 "metadata": {
  "kernelspec": {
   "display_name": "Python 3",
   "language": "python",
   "name": "python3"
  },
  "language_info": {
   "codemirror_mode": {
    "name": "ipython",
    "version": 3
   },
   "file_extension": ".py",
   "mimetype": "text/x-python",
   "name": "python",
   "nbconvert_exporter": "python",
   "pygments_lexer": "ipython3",
   "version": "3.6.4"
  }
 },
 "nbformat": 4,
 "nbformat_minor": 2
}
