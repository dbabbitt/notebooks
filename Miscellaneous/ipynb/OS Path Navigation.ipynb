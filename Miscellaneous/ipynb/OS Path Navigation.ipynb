{
 "cells": [
  {
   "cell_type": "code",
   "execution_count": 1,
   "metadata": {},
   "outputs": [
    {
     "name": "stdout",
     "output_type": "stream",
     "text": [
      "Pretty printing has been turned OFF\n",
      "C:\\Users\\dev\\Documents\\repositories\\notebooks\\Miscellaneous\\ipynb\\OS Path Navigation.ipynb\n",
      "data_folder: ../data/\n",
      "saves_folder: ../saves/\n",
      "['attempt_to_pickle', 'data_csv_folder', 'data_folder', 'encoding_type', 'load_csv', 'load_dataframes', 'load_object', 'save_dataframes', 'saves_csv_folder', 'saves_folder', 'saves_pickle_folder', 'store_objects']\n",
      "Config\t SequenceMatcher\t Storage\t check_4_doubles\t check_for_typos\t conjunctify_list\t copy_all_notebooks_from_the_repositories\t copyfile\t csv\t \n",
      "encoding\t get_git_lfs_track_commands\t get_module_version\t get_notebook_path\t get_specific_gitignore_files\t humanize_bytes\t ipykernel\t json\t jupyter_config_dir\t \n",
      "notebook_path\t notebookapp\t os\t pd\t pickle\t print_all_files_ending_starting_with\t print_all_files_ending_with\t print_all_files_starting_with\t re\t \n",
      "remove_empty_folders\t s\t similar\t subprocess\t sys\t time\t urllib\t where_are_any_wav_files\t \n"
     ]
    }
   ],
   "source": [
    "\n",
    "%run ../../load_magic/storage.py\n",
    "%run ../../load_magic/paths.py\n",
    "%run ../../load_magic/lists.py\n",
    "%run ../../load_magic/environment.py\n",
    "%pprint\n",
    "notebook_path = get_notebook_path()\n",
    "print(notebook_path)\n",
    "s = Storage()\n",
    "print([fn for fn in dir(s) if not fn.startswith('_')])\n",
    "%who"
   ]
  },
  {
   "cell_type": "code",
   "execution_count": 2,
   "metadata": {},
   "outputs": [
    {
     "name": "stdout",
     "output_type": "stream",
     "text": [
      "C:\\Users\\Dave Babbitt\\.jupyter\\jupyter_notebook_config.py\n",
      "C:\\Users\\Dave Babbitt\\Anaconda3\\etc\\jupyter\\jupyter_notebook_config.json\n",
      "C:\\Users\\Dave Babbitt\\AppData\\Roaming\\Microsoft\\Windows\\Recent\\jupyter_notebook_config.json.lnk\n",
      "C:\\Users\\Dave Babbitt\\AppData\\Roaming\\Microsoft\\Windows\\Recent\\jupyter_notebook_config.py.lnk\n",
      "C:\\Users\\dev\\.jupyter\\jupyter_notebook_config.py\n",
      "C:\\Users\\dev\\Anaconda3\\etc\\jupyter\\jupyter_notebook_config.json\n",
      "C:\\Users\\dev\\Anaconda3\\pkgs\\_ipyw_jlab_nb_ext_conf-0.1.0-py36he6757f0_0\\etc\\jupyter\\jupyter_notebook_config.json\n",
      "C:\\Users\\dev\\Anaconda3\\pkgs\\_ipyw_jlab_nb_ext_conf-0.1.0-py36_0\\etc\\jupyter\\jupyter_notebook_config.json\n",
      "C:\\Users\\dev\\AppData\\Roaming\\Microsoft\\Windows\\Recent\\jupyter_notebook_config.json.lnk\n",
      "C:\\Users\\dev\\AppData\\Roaming\\Microsoft\\Windows\\Recent\\jupyter_notebook_config.py.lnk\n"
     ]
    }
   ],
   "source": [
    "\n",
    "print_all_files_starting_with(root_dir=['C:\\\\', 'D:\\\\'], starts_with='jupyter_notebook_config')"
   ]
  },
  {
   "cell_type": "code",
   "execution_count": 4,
   "metadata": {},
   "outputs": [
    {
     "name": "stdout",
     "output_type": "stream",
     "text": [
      "C:\\Users\\dev\\Documents\\repositories\\notebooks\\Miscellaneous\\ipynb\\Hard Drive Navigation.ipynb\n",
      "C:\\Users\\dev\\Documents\\repositories\\notebooks\\Miscellaneous\\ipynb\\OS Path Navigation.ipynb\n"
     ]
    }
   ],
   "source": [
    "\n",
    "print_all_files_ending_with(root_dir=r'C:\\Users\\dev\\Documents\\repositories', ends_with='Navigation.ipynb')"
   ]
  },
  {
   "cell_type": "code",
   "execution_count": 5,
   "metadata": {},
   "outputs": [
    {
     "name": "stdout",
     "output_type": "stream",
     "text": [
      "C:\\Users\\dev\\Documents\\repositories\\notebooks\\Miscellaneous\\ipynb\\OS Path Navigation.ipynb\n"
     ]
    }
   ],
   "source": [
    "\n",
    "black_list = ['.ipynb_checkpoints']\n",
    "print_all_files_ending_starting_with(root_dir=r'C:\\Users\\dev\\Documents\\repositories', ends_with=notebook_path.split('.')[1],\n",
    "                                     starts_with=notebook_path.split('.')[0].split(os.sep)[-1],\n",
    "                                     black_list=black_list)"
   ]
  },
  {
   "cell_type": "code",
   "execution_count": 13,
   "metadata": {},
   "outputs": [
    {
     "name": "stdout",
     "output_type": "stream",
     "text": [
      "dict_keys(['charts.py', 'dataframes.py', 'environment.py', 'images.py', 'javascript.py', 'lists.py', 'nbviewer.py', 'paths.py', 'storage.py', 'test.py'])\n"
     ]
    }
   ],
   "source": [
    "\n",
    "f_list = []\n",
    "magic_dir = r'C:\\Users\\dev\\Documents\\repositories\\notebooks\\load_magic'\n",
    "for file_name in os.listdir(magic_dir):\n",
    "    if file_name.endswith('.py'):\n",
    "        f_list.append(file_name)\n",
    "root_dir_list = [r'C:\\Users\\dev\\Documents\\repositories']\n",
    "dir_list = ['py', 'load_magic']\n",
    "magic_dict = {file_name: [] for file_name in f_list}\n",
    "for root_dir in root_dir_list:\n",
    "    for sub_directory, directories_list, files_list in os.walk(root_dir):\n",
    "        if sub_directory.split(os.sep)[-1] in dir_list:\n",
    "            for file_name in files_list:\n",
    "                if file_name in f_list:\n",
    "                    file_path = os.path.join(sub_directory, file_name)\n",
    "                    magic_dict_list = magic_dict[file_name]\n",
    "                    magic_dict_list.append(file_path)\n",
    "                    magic_dict[file_name] = magic_dict_list\n",
    "comparator_path = r'C:\\Program Files (x86)\\Compare It!\\wincmp3.exe'\n",
    "print(magic_dict.keys())"
   ]
  },
  {
   "cell_type": "code",
   "execution_count": 37,
   "metadata": {},
   "outputs": [
    {
     "name": "stdout",
     "output_type": "stream",
     "text": [
      "2\n"
     ]
    },
    {
     "data": {
      "text/plain": [
       "CompletedProcess(args=['C:\\\\Program Files (x86)\\\\Compare It!\\\\wincmp3.exe', 'C:\\\\Users\\\\dev\\\\Documents\\\\repositories\\\\notebooks\\\\CompTIA_Security_plus_Certification\\\\load_magic\\\\test.py', 'C:\\\\Users\\\\dev\\\\Documents\\\\repositories\\\\notebooks\\\\load_magic\\\\test.py'], returncode=0)"
      ]
     },
     "execution_count": 37,
     "metadata": {},
     "output_type": "execute_result"
    }
   ],
   "source": [
    "\n",
    "magic_dict_list = magic_dict['test.py']\n",
    "print(len(magic_dict_list))\n",
    "subprocess.run([comparator_path, os.path.abspath(magic_dict_list[0]), os.path.abspath(magic_dict_list[1])])"
   ]
  },
  {
   "cell_type": "code",
   "execution_count": 39,
   "metadata": {},
   "outputs": [
    {
     "name": "stdout",
     "output_type": "stream",
     "text": [
      "Removing empty folder: C:\\\\$Recycle.Bin\\S-1-5-18\\$RNB6RGI\\Tmp\n",
      "Removing empty folder: C:\\\\$Recycle.Bin\\S-1-5-21-1955095253-1968160673-3670694241-1004\\$R341UG0\\Projects\\Notebooks\\incubator-singa-master\n",
      "Removing empty folder: C:\\\\$Recycle.Bin\\S-1-5-21-1955095253-1968160673-3670694241-1004\\$R341UG0\\Projects\\Notebooks\\Offutt-AFB-Data-Science\n",
      "Removing empty folder: C:\\\\$Recycle.Bin\\S-1-5-21-1955095253-1968160673-3670694241-1004\\$RMZSKYY.0_231\\lib\n",
      "Removing empty folder: C:\\\\$Recycle.Bin\\S-1-5-21-1955095253-1968160673-3670694241-1004\\$RMZSKYY.0_231\n",
      "Removing empty folder: C:\\\\AsusVibeData\\AsusVibeSetup\\ÐÂ½¨ÎÄ¼þ¼Ð\n",
      "Removing empty folder: C:\\\\AsusVibeData\\AsusVibeSetup\n",
      "Removing empty folder: C:\\\\AsusVibeData\\FIX_lnk\n",
      "Removing empty folder: C:\\\\AsusVibeData\\FRG32\n",
      "Removing empty folder: C:\\\\AsusVibeData\\Frg32EXE\n",
      "Removing empty folder: C:\\\\AsusVibeData\\icons\n",
      "Removing empty folder: C:\\\\AsusVibeData\\lnk\n",
      "Removing empty folder: C:\\\\CocosCreator\\resources\\engine\\.git\n",
      "Removing empty folder: C:\\\\CocosCreator\\resources\\engine\\node_modules\n",
      "Removing empty folder: C:\\\\CocosCreator\\resources\\engine\\test\n"
     ]
    },
    {
     "ename": "PermissionError",
     "evalue": "[WinError 5] Access is denied: 'C:\\\\\\\\Documents and Settings'",
     "output_type": "error",
     "traceback": [
      "\u001b[1;31m---------------------------------------------------------------------------\u001b[0m",
      "\u001b[1;31mPermissionError\u001b[0m                           Traceback (most recent call last)",
      "\u001b[1;32m<ipython-input-39-abf71365dc70>\u001b[0m in \u001b[0;36m<module>\u001b[1;34m\u001b[0m\n\u001b[0;32m      1\u001b[0m \u001b[1;33m\u001b[0m\u001b[0m\n\u001b[1;32m----> 2\u001b[1;33m \u001b[0mremove_empty_folders\u001b[0m\u001b[1;33m(\u001b[0m\u001b[0mfolder_path\u001b[0m\u001b[1;33m=\u001b[0m\u001b[1;34mr'C:\\\\'\u001b[0m\u001b[1;33m)\u001b[0m\u001b[1;33m\u001b[0m\u001b[1;33m\u001b[0m\u001b[0m\n\u001b[0m",
      "\u001b[1;32m~\\Documents\\repositories\\notebooks\\load_magic\\paths.py\u001b[0m in \u001b[0;36mremove_empty_folders\u001b[1;34m(folder_path, remove_root)\u001b[0m\n\u001b[0;32m    176\u001b[0m             \u001b[0mfull_path\u001b[0m \u001b[1;33m=\u001b[0m \u001b[0mos\u001b[0m\u001b[1;33m.\u001b[0m\u001b[0mpath\u001b[0m\u001b[1;33m.\u001b[0m\u001b[0mjoin\u001b[0m\u001b[1;33m(\u001b[0m\u001b[0mfolder_path\u001b[0m\u001b[1;33m,\u001b[0m \u001b[0mf\u001b[0m\u001b[1;33m)\u001b[0m\u001b[1;33m\u001b[0m\u001b[1;33m\u001b[0m\u001b[0m\n\u001b[0;32m    177\u001b[0m             \u001b[1;32mif\u001b[0m \u001b[0mos\u001b[0m\u001b[1;33m.\u001b[0m\u001b[0mpath\u001b[0m\u001b[1;33m.\u001b[0m\u001b[0misdir\u001b[0m\u001b[1;33m(\u001b[0m\u001b[0mfull_path\u001b[0m\u001b[1;33m)\u001b[0m\u001b[1;33m:\u001b[0m\u001b[1;33m\u001b[0m\u001b[1;33m\u001b[0m\u001b[0m\n\u001b[1;32m--> 178\u001b[1;33m                 \u001b[0mremove_empty_folders\u001b[0m\u001b[1;33m(\u001b[0m\u001b[0mfull_path\u001b[0m\u001b[1;33m)\u001b[0m\u001b[1;33m\u001b[0m\u001b[1;33m\u001b[0m\u001b[0m\n\u001b[0m\u001b[0;32m    179\u001b[0m \u001b[1;33m\u001b[0m\u001b[0m\n\u001b[0;32m    180\u001b[0m     \u001b[1;31m# If folder empty, delete it\u001b[0m\u001b[1;33m\u001b[0m\u001b[1;33m\u001b[0m\u001b[1;33m\u001b[0m\u001b[0m\n",
      "\u001b[1;32m~\\Documents\\repositories\\notebooks\\load_magic\\paths.py\u001b[0m in \u001b[0;36mremove_empty_folders\u001b[1;34m(folder_path, remove_root)\u001b[0m\n\u001b[0;32m    171\u001b[0m \u001b[1;33m\u001b[0m\u001b[0m\n\u001b[0;32m    172\u001b[0m     \u001b[1;31m# Remove empty subfolders\u001b[0m\u001b[1;33m\u001b[0m\u001b[1;33m\u001b[0m\u001b[1;33m\u001b[0m\u001b[0m\n\u001b[1;32m--> 173\u001b[1;33m     \u001b[0mfiles\u001b[0m \u001b[1;33m=\u001b[0m \u001b[0mos\u001b[0m\u001b[1;33m.\u001b[0m\u001b[0mlistdir\u001b[0m\u001b[1;33m(\u001b[0m\u001b[0mfolder_path\u001b[0m\u001b[1;33m)\u001b[0m\u001b[1;33m\u001b[0m\u001b[1;33m\u001b[0m\u001b[0m\n\u001b[0m\u001b[0;32m    174\u001b[0m     \u001b[1;32mif\u001b[0m \u001b[0mlen\u001b[0m\u001b[1;33m(\u001b[0m\u001b[0mfiles\u001b[0m\u001b[1;33m)\u001b[0m\u001b[1;33m:\u001b[0m\u001b[1;33m\u001b[0m\u001b[1;33m\u001b[0m\u001b[0m\n\u001b[0;32m    175\u001b[0m         \u001b[1;32mfor\u001b[0m \u001b[0mf\u001b[0m \u001b[1;32min\u001b[0m \u001b[0mfiles\u001b[0m\u001b[1;33m:\u001b[0m\u001b[1;33m\u001b[0m\u001b[1;33m\u001b[0m\u001b[0m\n",
      "\u001b[1;31mPermissionError\u001b[0m: [WinError 5] Access is denied: 'C:\\\\\\\\Documents and Settings'"
     ]
    }
   ],
   "source": [
    "\n",
    "remove_empty_folders(folder_path=r'C:\\\\')"
   ]
  },
  {
   "cell_type": "code",
   "execution_count": 40,
   "metadata": {},
   "outputs": [
    {
     "name": "stdout",
     "output_type": "stream",
     "text": [
      "# Ignore big files (GitHub will warn you when pushing files larger than 50 MB. You will not be allowed to\n",
      "# push files larger than 100 MB.) Tip: If you regularly push large files to GitHub, consider introducing\n",
      "# Git Large File Storage (Git LFS) as part of your workflow.\n",
      "AndrewTextClassification/data/csv/ACLED.csv\n",
      "AndrewTextClassification/data/csv/acled_df.csv\n",
      "AndrewTextClassification/data/csv/GTDB.csv\n",
      "AndrewTextClassification/data/csv/gtdb_df.csv\n",
      "AndrewTextClassification/data/csv/UCDP.csv\n",
      "AndrewTextClassification/data/csv/ucdp_df.csv\n",
      "AndrewTextClassification/data/xlsx/all_source.xlsx\n",
      "AndrewTextClassification/data/xlsx/GTDB.xlsx\n",
      "AndrewTextClassification/data/xlsx/gtdb_df.xlsx\n",
      "CMS_DRGs/data/shapefiles/cb_2016_us_zcta510_500k.zip\n",
      "CMS_DRGs/data/shapefiles/tl_2015_us_zcta510.zip\n",
      "CMS_DRGs/data/shapefiles/tl_2016_us_county.zip\n",
      "CMS_DRGs/data/shapefiles/USA_Counties.lpk\n",
      "CMS_DRGs/data/shapefiles/cb_2016_us_zcta510_500k/cb_2016_us_zcta510_500k.shp\n",
      "CMS_DRGs/data/shapefiles/tl_2015_us_zcta510/tl_2015_us_zcta510.shp\n",
      "CMS_DRGs/data/shapefiles/tl_2016_us_county/tl_2016_us_county.shp\n",
      "coin-analytics/data/csv/coinbaseUSD.csv\n",
      "coin-analytics/saves/pickle/coinbaseUSD_df.pickle\n",
      "courses-master/algorithms/nifty-onegram/all_words.tsv\n",
      "courses-master/platforms/bokeh/baby_names/yob.pickle\n",
      "data/natural-earth-vector-master/10m_cultural/ne_10m_roads_north_america.shp\n",
      "data/natural-earth-vector-master/updates/version_1d2/10m_cultural/10m_roads_north_america.shp\n",
      "data/natural-earth-vector-master/updates/version_1d3/10m_cultural/10m_roads_north_america.shp\n",
      "data/pickle/model-013.pickle\n",
      "data/pickle/X-011.pickle\n",
      "data-science-5k/data/csv/nesarc_pds.csv\n",
      "Favicons/data/full-0.z\n",
      "Favicons/data/full-0.z.zip\n",
      "Favicons/data/full-1.z\n",
      "Favicons/data/full-1.z.zip\n",
      "Favicons/data/full-2.z\n",
      "Favicons/data/full-2.z.zip\n",
      "Favicons/data/full-3.z\n",
      "Favicons/data/full-3.z.zip\n",
      "Favicons/data/full-4.z\n",
      "Favicons/data/full-4.z.zip\n",
      "Favicons/data/full-5.z\n",
      "Favicons/data/full-5.z.zip\n",
      "handson-ml-master/my_mnist.data\n",
      "LearnDataScience-master/datasets/ucihar/train/X_train.txt\n",
      "Miscellaneous/data/csv/Offender_Race_data.csv\n",
      "Miscellaneous/data/csv/U.S._Homicide_Reports,_1980-2014_Homicides_between_1980_and_2014.csv\n",
      "Miscellaneous/data/gz/coinbaseUSD.csv.gz\n",
      "Miscellaneous/saves/gif/Q2tbQEo.gif\n",
      "mobile-phone-activity/data/csv/mi-to-provinces-2013-11-01.csv\n",
      "mobile-phone-activity/data/csv/mi-to-provinces-2013-11-02.csv\n",
      "mobile-phone-activity/data/csv/mi-to-provinces-2013-11-03.csv\n",
      "mobile-phone-activity/data/csv/mi-to-provinces-2013-11-04.csv\n",
      "mobile-phone-activity/data/csv/mi-to-provinces-2013-11-05.csv\n",
      "mobile-phone-activity/data/csv/mi-to-provinces-2013-11-06.csv\n",
      "mobile-phone-activity/data/csv/mi-to-provinces-2013-11-07.csv\n",
      "mobile-phone-activity/data/csv/sms-call-internet-mi-2013-11-01.csv\n",
      "mobile-phone-activity/data/csv/sms-call-internet-mi-2013-11-02.csv\n",
      "mobile-phone-activity/data/csv/sms-call-internet-mi-2013-11-03.csv\n",
      "mobile-phone-activity/data/csv/sms-call-internet-mi-2013-11-04.csv\n",
      "mobile-phone-activity/data/csv/sms-call-internet-mi-2013-11-05.csv\n",
      "mobile-phone-activity/data/csv/sms-call-internet-mi-2013-11-06.csv\n",
      "mobile-phone-activity/data/csv/sms-call-internet-mi-2013-11-07.csv\n",
      "mobile-phone-activity/data/zip/mobile-phone-activity.zip\n",
      "mobile-phone-activity/saves/csv/correlation_df.csv\n",
      "mobile-phone-activity/saves/csv/internet_df.csv\n",
      "mobile-phone-activity/saves/csv/mi_to_provinces_2013_11_01_df.csv\n",
      "mobile-phone-activity/saves/csv/mi_to_provinces_2013_11_02_df.csv\n",
      "mobile-phone-activity/saves/csv/mi_to_provinces_2013_11_03_df.csv\n",
      "mobile-phone-activity/saves/csv/mi_to_provinces_2013_11_04_df.csv\n",
      "mobile-phone-activity/saves/csv/mi_to_provinces_2013_11_05_df.csv\n",
      "mobile-phone-activity/saves/csv/mi_to_provinces_2013_11_06_df.csv\n",
      "mobile-phone-activity/saves/csv/mi_to_provinces_2013_11_07_df.csv\n",
      "mobile-phone-activity/saves/csv/provinces_df.csv\n",
      "mobile-phone-activity/saves/csv/sms_call_internet_mi_2013_11_01_df.csv\n",
      "mobile-phone-activity/saves/csv/sms_call_internet_mi_2013_11_02_df.csv\n",
      "mobile-phone-activity/saves/csv/sms_call_internet_mi_2013_11_03_df.csv\n",
      "mobile-phone-activity/saves/csv/sms_call_internet_mi_2013_11_04_df.csv\n",
      "mobile-phone-activity/saves/csv/sms_call_internet_mi_2013_11_05_df.csv\n",
      "mobile-phone-activity/saves/csv/sms_call_internet_mi_2013_11_06_df.csv\n",
      "mobile-phone-activity/saves/csv/sms_call_internet_mi_2013_11_07_df.csv\n",
      "mobile-phone-activity/saves/pickle/correlation_df.pickle\n",
      "mobile-phone-activity/saves/pickle/internet_df.pickle\n",
      "mobile-phone-activity/saves/pickle/mi_to_provinces_2013_11_01_df.pickle\n",
      "mobile-phone-activity/saves/pickle/mi_to_provinces_2013_11_02_df.pickle\n",
      "mobile-phone-activity/saves/pickle/mi_to_provinces_2013_11_03_df.pickle\n",
      "mobile-phone-activity/saves/pickle/mi_to_provinces_2013_11_04_df.pickle\n",
      "mobile-phone-activity/saves/pickle/mi_to_provinces_2013_11_05_df.pickle\n",
      "mobile-phone-activity/saves/pickle/mi_to_provinces_2013_11_06_df.pickle\n",
      "mobile-phone-activity/saves/pickle/mi_to_provinces_2013_11_07_df.pickle\n",
      "mobile-phone-activity/saves/pickle/provinces_cellId_sequence.pickle\n",
      "mobile-phone-activity/saves/pickle/provinces_df.pickle\n",
      "mobile-phone-activity/saves/pickle/sms_call_internet_mi_2013_11_01_df.pickle\n",
      "mobile-phone-activity/saves/pickle/sms_call_internet_mi_2013_11_02_df.pickle\n",
      "mobile-phone-activity/saves/pickle/sms_call_internet_mi_2013_11_03_df.pickle\n",
      "mobile-phone-activity/saves/pickle/sms_call_internet_mi_2013_11_04_df.pickle\n",
      "mobile-phone-activity/saves/pickle/sms_call_internet_mi_2013_11_05_df.pickle\n",
      "mobile-phone-activity/saves/pickle/sms_call_internet_mi_2013_11_06_df.pickle\n",
      "mobile-phone-activity/saves/pickle/sms_call_internet_mi_2013_11_07_df.pickle\n",
      "Offutt-AFB-Data-Science/data/csv/events/CO_TransformedData - 20170223 1418_TTLs.csv\n",
      "Offutt-AFB-Data-Science/saves/ACLA/aclas_df (Clean up student rank).csv\n",
      "Offutt-AFB-Data-Science/saves/ACLA/aclas_df (Clean up student rank).pickle\n",
      "Offutt-AFB-Data-Science/saves/ACLA/aclas_df (Concatonate Datasets).csv\n",
      "Offutt-AFB-Data-Science/saves/ACLA/aclas_df (Concatonate Datasets).pickle\n",
      "Offutt-AFB-Data-Science/saves/ACLA/acla_events_df (Clean up student rank).csv\n",
      "Offutt-AFB-Data-Science/saves/ACLA/acla_events_df (Clean up student rank).pickle\n",
      "Offutt-AFB-Data-Science/saves/ACLA/acla_events_df (Fix ClassPulled).csv\n",
      "Offutt-AFB-Data-Science/saves/ACLA/acla_events_df (Fix ClassPulled).pickle\n",
      "Offutt-AFB-Data-Science/saves/csv/everybody_df (Clean up student names).csv\n",
      "Offutt-AFB-Data-Science/saves/csv/everybody_df (Clean up student rank).csv\n",
      "Offutt-AFB-Data-Science/saves/csv/everybody_df (Concatonate Datasets).csv\n",
      "Offutt-AFB-Data-Science/saves/csv/everybody_df (Finish cleaning up student names).csv\n",
      "Offutt-AFB-Data-Science/saves/csv/everybody_df (Fix blank first names).csv\n",
      "Offutt-AFB-Data-Science/saves/csv/everybody_df (Fix blank last names).csv\n",
      "Offutt-AFB-Data-Science/saves/csv/everybody_df (Redo student names).csv\n",
      "Offutt-AFB-Data-Science/saves/txt/random_pool_list.txt\n",
      "Offutt-AFB-Data-Science/saves/xlsx/everybody_df.xlsx\n",
      "Probabilistic-Programming-and-Bayesian-Methods-for-Hackers/.git/objects/pack/pack-199ce58360653f5ff55df22a1e283e3b90a8bd95.pack\n",
      "RPC/data/compressed/2018_01_07_Redeemer_Sermon_Kerr.mp3\n",
      "RPC/data/compressed/2018_01_21_Redeemer_Sermon_Kerr.mp3\n",
      "RPC/data/compressed/2018_02_11_Redeemer_Sermon_Kerr.mp3\n",
      "RPC/data/compressed/2018_02_18_Redeemer_Sermon_Kerr.mp3\n",
      "RPC/data/compressed/2018_02_25_Redeemer_SS_Kerr.mp3\n",
      "RPC/data/compressed/2018_03_04_Redeemer_Sermon_Kerr.mp3\n",
      "RPC/data/compressed/2018_03_04_Redeemer_SS_Kerr.mp3\n",
      "RPC/data/compressed/2018_03_11_Redeemer_Sermon_Kerr.mp3\n",
      "RPC/data/compressed/2018_03_11_Redeemer_SS_Kerr.mp3\n",
      "RPC/data/compressed/2018_03_18_Redeemer_Sermon_Kerr.mp3\n",
      "RPC/data/compressed/2018_03_18_Redeemer_SS_Kerr.mp3\n",
      "RPC/data/compressed/2018_03_25_Redeemer_Sermon_Atkinson.mp3\n",
      "RPC/data/compressed/2018_04_01_Redeemer_Sermon_Kerr.mp3\n",
      "RPC/data/compressed/2018_04_15_Redeemer_Sermon_Kerr.mp3\n",
      "RPC/data/compressed/2018_04_22_Redeemer_Sermon_Kerr.mp3\n",
      "RPC/data/compressed/2018_04_29_Redeemer_Sermon_Kerr.mp3\n",
      "RPC/data/compressed/2018_05_06_Redeemer_Sermon_Kerr.mp3\n",
      "RPC/data/compressed/2018_05_13_Redeemer_Sermon_Kerr.mp3\n",
      "RPC/data/compressed/2018_05_20_Redeemer_Sermon_Kerr.mp3\n",
      "RPC/data/compressed/2018_05_27_Redeemer_Sermon_Kerr.mp3\n",
      "RPC/data/compressed/2018_06_03_Redeemer_Sermon_Carneiro.mp3\n",
      "RPC/data/compressed/2018_06_10_Redeemer_Sermon_Kerr.mp3\n",
      "RPC/data/compressed/2018_06_24_Redeemer_Sermon_Kerr2.mp3\n",
      "RPC/data/compressed/2018_07_01_Redeemer_Sermon_Kerr.mp3\n",
      "RPC/data/compressed/2018_07_08_Redeemer_Sermon_Kerr.mp3\n",
      "RPC/data/compressed/2018_07_15_Redeemer_Sermon_Kerr.mp3\n",
      "RPC/data/compressed/2018_07_22_Sermon_Hoke.mp3\n",
      "RPC/data/compressed/2018_07_29_Redeemer_Sermon_Kerr.mp3\n",
      "RPC/data/compressed/2018_08_05_Redeemer_Sermon_Kim.mp3\n",
      "RPC/data/compressed/2018_08_12_Redeemer_Sermon_Kerr.mp3\n",
      "RPC/data/compressed/2018_08_19_Redeemer_Sermon_Kerr.mp3\n",
      "RPC/data/compressed/2018_08_26_Redeemer_Sermon_Kerr.mp3\n",
      "RPC/data/compressed/2018_09_02_Redeemer_Sermon_Kerr.mp3\n",
      "RPC/data/compressed/2018_09_09_Redeemer_Sermon_Kerr.mp3\n",
      "RPC/data/compressed/2018_09_16_Redeemer_Sermon_Kerr.mp3\n",
      "RPC/data/compressed/2018_09_23_Redeemer_Sermon_Kerr.mp3\n",
      "RPC/data/compressed/2018_09_30_Redeemer_Sermon_Owens.mp3\n",
      "RPC/data/compressed/2018_10_07_Redeemer_Sermon_Kerr.mp3\n",
      "RPC/data/compressed/2018_10_21_Redeemer_Sermon_Kerr.mp3\n",
      "RPC/data/compressed/2018_10_28_Redeemer_Sermon_Kerr.mp3\n",
      "RPC/data/compressed/2018_11_04_Redeemer_Sermon_Kerr.mp3\n",
      "RPC/data/compressed/2018_11_11_Redeemer_Sermon_Kerr.mp3\n",
      "RPC/data/compressed/2018_11_18_Redeemer_Sermon_Kerr.mp3\n",
      "RPC/data/compressed/2018_11_25_Redeemer_Sermon_Kerr.mp3\n",
      "RPC/data/compressed/2018_12_02_Redeemer_Sermon_Kerr.mp3\n",
      "RPC/data/compressed/2018_12_09_Redeemer_Sermon_Kerr.mp3\n",
      "RPC/data/compressed/2018_12_16_Redeemer_Semon_Kerr.mp3\n",
      "RPC/data/compressed/2018_12_23_Redeemer_Sermon_Kerr.mp3\n",
      "RPC/data/compressed/2018_12_30_Redeemer_Sermon_Gray.mp3\n",
      "RPC/data/compressed/2019_01_06_Redeemer_Sermon_Kerr.mp3\n",
      "RPC/data/compressed/2019_01_13_Redeemer_Sermon_Kerr.mp3\n",
      "RPC/data/compressed/2019_01_27_Redeemer_Sermon_Kerr.mp3\n",
      "RPC/data/compressed/2019_02_03_Redeemer_Sermon_Kerr.mp3\n",
      "RPC/data/compressed/2019_02_17_Redeemer_Sermon_Kerr.mp3\n",
      "RPC/data/compressed/2019_02_24_Redeemer_Sermon_Kerr.mp3\n",
      "RPC/data/compressed/2019_03_03_Redeemer_Sermon_Kerr.mp3\n",
      "RPC/data/compressed/2019_03_10_Redeemer_Sermon_Kerr.mp3\n",
      "RPC/data/compressed/2019_03_17_Redeemer_Sermon_Kerr.mp3\n",
      "RPC/data/compressed/2019_03_31_Redeemer_Sermon_Ortiz.mp3\n",
      "RPC/data/compressed/2019_04_07_Redeemer_Sermon_Kerr.mp3\n",
      "RPC/data/compressed/2019_04_14_Redeemer_Sermon_Kerr.mp3\n",
      "RPC/data/compressed/2019_04_21_Redeemer_Sermon_Kerr.mp3\n",
      "RPC/data/compressed/2019_04_28_Redeemer_Sermon_Kerr.mp3\n",
      "RPC/data/compressed/2019_05_05_Redeemer_Sermon_Kerr.mp3\n",
      "RPC/data/compressed/2019_05_12_Redeemer_Sermon_Kerr.mp3\n",
      "RPC/data/compressed/2019_05_19_Redeemer_Sermon_Anderson.mp3\n",
      "RPC/data/compressed/2019_05_26_Redeemer_Sermon_Kerr.mp3\n",
      "RPC/data/compressed/2019_06_02_Redeemer_Sermon_Kerr.mp3\n",
      "RPC/data/compressed/2019_06_09_Redeemer_Sermon_Kerr.mp3\n",
      "RPC/data/compressed/2019_06_16_Redeemer_Sermon_Kerr.mp3\n",
      "RPC/data/compressed/2019_06_23_Redeemer_Sermon_Kerr.mp3\n",
      "RPC/data/compressed/2019_07_07_Redeemer_Sermon_Hoke.mp3\n",
      "RPC/data/compressed/2019_07_14_Redeemer_Sermon_Kerr.mp3\n",
      "RPC/data/compressed/2019_07_21_Redeemer_Sermon_Kerr.mp3\n",
      "RPC/data/compressed/2019_07_28_Redeemer_Sermon_Kerr.mp3\n",
      "RPC/data/compressed/2019_08_04_Redeemer_Sermon_Kerr.mp3\n",
      "RPC/data/compressed/2019_08_18_Redeemer_Sermon_Kerr.mp3\n",
      "RPC/data/compressed/2019_08_25_Redeemer_Sermon_Kerr.mp3\n",
      "RPC/data/compressed/2019_09_08_Redeemer_Sermon_Kerr.mp3\n",
      "RPC/data/compressed/2019_09_22_Redeemer_Sermon_Kerr.mp3\n",
      "RPC/data/compressed/2019_09_29_Redeemer_Sermon_Kerr (1).mp3\n",
      "RPC/data/compressed/2019_09_29_Redeemer_Sermon_Kerr.mp3\n",
      "RPC/data/compressed/2019_10_06_Redeemer_Sermon_Kerr.mp3\n",
      "RPC/data/compressed/2019_10_13_Redeemer_Sermon_Kerr.mp3\n",
      "RPC/data/compressed/2019_10_20_Redeemer_Sermon_Atkinson.mp3\n",
      "RPC/data/compressed/2019_10_27_Redeemer_Sermon_Kerr.mp3\n",
      "RPC/data/mp3/20120624%20RedeemerSermon%20Maguire.mp3\n",
      "RPC/data/mp3/20120701%20RedeemerSermon%20Maguire.mp3\n",
      "RPC/data/mp3/20120708%20RedeemerSermon%20Hoke.mp3\n",
      "RPC/data/mp3/20121014%20RedeemerSermon%20Maguire.mp3\n",
      "RPC/data/mp3/20130908%20RedeemerSermon%20Maguire.mp3\n",
      "RPC/data/mp3/20141005_Redeemer_Sermon_Maguire.mp3\n",
      "RPC/data/mp3/20141130_Redeemer_Sermon_Kerr.mp3\n",
      "RPC/data/mp3/20170219%20Redeemer%20Sermon%20Kerr.mp3\n",
      "RPC/data/mp3/20170226%20Redeemer%20Sermon%20Kerr.mp3\n",
      "RPC/data/mp3/20170305%20Redeemer%20Sermon%20England.mp3\n",
      "RPC/data/mp3/20170319%20Redeemer%20Sermon%20Kerr.mp3\n",
      "RPC/data/mp3/20170326%20Redeemer%20Sermon%20Kerr.mp3\n",
      "RPC/data/mp3/20170402%20Redeemer%20Sermon%20Kerr.mp3\n",
      "RPC/data/mp3/20170409%20Redeemer%20Sermon%20Kerr.mp3\n",
      "RPC/data/mp3/20170423%20Redeemer%20Sermon%20Kerr.mp3\n",
      "RPC/data/mp3/20170430%20Redeemer%20Sermon%20Kerr.mp3\n",
      "RPC/data/mp3/20170514%20Redeemer%20Sermon%20England.mp3\n",
      "RPC/data/mp3/20170521%20Redeemer%20Sermon%20Kerr.mp3\n",
      "RPC/data/mp3/20170528%20Redeemer%20Sermon%20Kerr.mp3\n",
      "RPC/data/mp3/20170611%20Redeemer%20Sermon%20Dourado.mp3\n",
      "RPC/data/mp3/20170618%20Redeemer%20Sermon%20England.mp3\n",
      "RPC/data/mp3/20170625%20Redeemer%20Sermon%20Kerr.mp3\n",
      "RPC/data/mp3/20170702%20Redeemer%20Sermon%20Kerr.mp3\n",
      "RPC/data/mp3/20170709%20Redeemer%20Sermon%20Kerr.mp3\n",
      "RPC/data/mp3/20170723%20redeemer%20sermon%20kerr.mp3\n",
      "RPC/data/mp3/20170730%20Redeemer%20Sermon%20Hoke.mp3\n",
      "RPC/data/mp3/20170806%20Redeemer%20Sermon%20Kerr.mp3\n",
      "RPC/data/mp3/20170813%20Redeemer%20Sermon%20Kerr.mp3\n",
      "RPC/data/mp3/20170820%20Redeemer%20Sermon%20England.mp3\n",
      "RPC/data/mp3/20170827%20Redeemer%20Sermon%20Kerr.mp3\n",
      "RPC/data/mp3/20170903%20Redeemer%20Sermon%20Kerr.mp3\n",
      "RPC/data/mp3/20170910%20Redeemer%20Sermon%20Kerr.mp3\n",
      "RPC/data/mp3/20170917%20Redeemer%20Sermon%20Kerr.mp3\n",
      "RPC/data/mp3/20170924%20Redeemer%20Sermon%20Kerr.mp3\n",
      "RPC/data/mp3/20171001_Redeemer_Sermon_Kerr.mp3\n",
      "RPC/data/mp3/20171008_Redeemer_Sermon_Kerr.mp3\n",
      "RPC/data/mp3/20171015_Redeemer_Sermon_England.mp3\n",
      "RPC/data/mp3/20171029_Redeemer_Sermon_Kerr.mp3\n",
      "RPC/data/mp3/20171105_Redeemer_Sermon_Kerr.mp3\n",
      "RPC/data/mp3/20171112_Redeemer_Sermon_Davis.mp3\n",
      "RPC/data/mp3/20171119_Redeemer_Sermon_Kerr.mp3\n",
      "RPC/data/mp3/20171203_Redeemer_Sermon_Kerr.mp3\n",
      "RPC/data/mp3/20171217_Redeemer_Sermon_Kerr.mp3\n",
      "RPC/data/mp3/2017_12_31_Redeemer_Sermon_Kerr.mp3\n",
      "RPC/data/mp3/2018_01_07_Redeemer_Sermon_Kerr.mp3\n",
      "RPC/data/mp3/2018_01_21_Redeemer_Sermon_Kerr.mp3\n",
      "RPC/data/mp3/2018_02_11_Redeemer_Sermon_Kerr.mp3\n",
      "RPC/data/mp3/2018_02_18_Redeemer_Sermon_Kerr.mp3\n",
      "RPC/data/mp3/2018_03_04_Redeemer_Sermon_Kerr.mp3\n",
      "RPC/data/mp3/2018_03_11_Reedemer_Sermon_Kerr.mp3\n",
      "RPC/data/mp3/2018_03_18_Redeemer_Sermon_Kerr.mp3\n",
      "RPC/data/mp3/2018_03_25_Redeemer_Sermon_Atkinson.mp3\n",
      "RPC/data/mp3/2018_04_01_Redeemer_Sermon_Kerr%20%281%29.mp3\n",
      "RPC/data/mp3/2018_04_22_Redeemer_Sermon_Kerr.mp3\n",
      "RPC/data/mp3/2018_04_29_Redeemer_Sermon_Kerr.mp3\n",
      "RPC/data/mp3/2018_05_06_Redeemer_Sermon_Kerr.mp3\n",
      "RPC/data/mp3/2018_05_13_Redeemer_Sermon_Kerr.mp3\n",
      "RPC/data/mp3/2018_05_20_Redeemer_Sermon_Kerr.mp3\n",
      "RPC/data/mp3/2018_05_27_Redeemer_Sermon_Kerr.mp3\n",
      "RPC/data/mp3/2018_06_03_Redeemer_Sermon_Carneiro.mp3\n",
      "RPC/data/mp3/2018_06_10_Redeemer_Sermon_Kerr.mp3\n",
      "RPC/data/mp3/2018_06_24_Redeemer_Sermon_Kerr2.mp3\n",
      "RPC/data/mp3/2018_07_01_Redeemer_Sermon_Kerr.mp3\n",
      "RPC/data/mp3/2018_07_08_Redeemer_Sermon_Kerr.mp3\n",
      "RPC/data/mp3/2018_07_15_Redeemer_Sermon_Kerr.mp3\n",
      "RPC/data/mp3/2018_07_22_Sermon_Hoke.mp3\n",
      "RPC/data/mp3/2018_07_29_Redeemer_Sermon_Kerr.mp3\n",
      "RPC/data/mp3/2018_08_05_Redeemer_Sermon_Kim.mp3\n",
      "RPC/data/mp3/2018_08_12_Redeemer_Sermon_Kerr.mp3\n",
      "RPC/data/mp3/2018_08_19_Redeemer_Sermon_Kerr.mp3\n",
      "RPC/data/mp3/2018_08_26_Redeemer_Sermon_Kerr.mp3\n",
      "RPC/data/mp3/2018_09_02_Redeemer_Sermon_Kerr.mp3\n",
      "RPC/data/mp3/2018_09_09_Redeemer_Sermon_Kerr.mp3\n",
      "RPC/data/mp3/2018_09_16_Redeemer_Sermon_Kerr.mp3\n",
      "RPC/data/mp3/2018_09_30_Redeemer_Sermon_Owens.mp3\n",
      "RPC/data/mp3/2018_10_07_Redeemer_Sermon_Kerr.mp3\n",
      "RPC/data/mp3/2018_10_21_Redeemer_Sermon_Kerr.mp3\n",
      "RPC/data/mp3/2018_10_28_Redeemer_Sermon_Kerr.mp3\n",
      "RPC/data/mp3/2018_11_04_Redeemer_Sermon_Kerr.mp3\n",
      "RPC/data/mp3/2018_11_11_Redeemer_Sermon_Kerr.mp3\n",
      "RPC/data/mp3/2018_11_18_Redeemer_Sermon_Kerr.mp3\n",
      "RPC/data/mp3/2018_11_25_Redeemer_Sermon_Kerr.mp3\n",
      "RPC/data/mp3/2018_12_02_Redeemer_Sermon_Kerr.mp3\n",
      "RPC/data/mp3/2018_12_09_Redeemer_Sermon_Kerr.mp3\n",
      "RPC/data/mp3/2018_12_16_Redeemer_Semon_Kerr.mp3\n",
      "RPC/data/mp3/2018_12_23_Redeemer_Sermon_Kerr.mp3\n",
      "RPC/data/mp3/2018_12_30_Redeemer_Sermon_Gray.mp3\n",
      "RPC/data/mp3/2019_01_06_Redeemer_Sermon_Kerr.mp3\n",
      "RPC/data/mp3/2019_01_13_Redeemer_Sermon_Kerr.mp3\n",
      "RPC/data/mp3/2019_01_27_Redeemer_Sermon_Kerr.mp3\n",
      "RPC/data/mp3/2019_02_03_Redeemer_Sermon_Kerr.mp3\n",
      "RPC/data/mp3/2019_02_17_Redeemer_Sermon_Kerr.mp3\n",
      "RPC/data/mp3/2019_02_24_Redeemer_Sermon_Kerr.mp3\n",
      "RPC/data/mp3/2019_03_03_Redeemer_Sermon_Kerr.mp3\n",
      "RPC/data/mp3/2019_03_10_Redeemer_Sermon_Kerr.mp3\n",
      "RPC/data/mp3/2019_03_17_Redeemer_Sermon_Kerr.mp3\n",
      "RPC/data/mp3/2019_03_31_Redeemer_Sermon_Ortiz.mp3\n",
      "RPC/data/mp3/2019_04_07_Redeemer_Sermon_Kerr.mp3\n",
      "RPC/data/mp3/2019_04_14_Redeemer_Sermon_Kerr.mp3\n",
      "RPC/data/mp3/2019_04_21_Redeemer_Sermon_Kerr.mp3\n",
      "RPC/data/mp3/2019_04_28_Redeemer_Sermon_Kerr.mp3\n",
      "RPC/data/mp3/2019_05_05_Redeemer_Sermon_Kerr.mp3\n",
      "RPC/data/mp3/2019_05_19_Redeemer_Sermon_Anderson.mp3\n",
      "RPC/data/mp3/2019_06_02_Redeemer_Sermon_Kerr.mp3\n",
      "RPC/data/mp3/2019_06_09_Redeemer_Sermon_Kerr.mp3\n",
      "RPC/data/mp3/2019_06_16_Redeemer_Sermon_Kerr.mp3\n",
      "RPC/data/mp3/2019_06_23_Redeemer_Sermon_Kerr.mp3\n",
      "RPC/data/mp3/2019_07_07_Redeemer_Sermon_Hoke.mp3\n",
      "RPC/data/mp3/2019_07_14_Redeemer_Sermon_Kerr.mp3\n",
      "RPC/data/mp3/2019_07_21_Redeemer_Sermon_Kerr.mp3\n",
      "RPC/data/mp3/2019_07_28_Redeemer_Sermon_Kerr.mp3\n",
      "RPC/data/mp3/2019_08_04_Redeemer_Sermon_Kerr.mp3\n",
      "RPC/data/mp3/2019_09_08_redeemer_sermon_kerr.mp3\n",
      "RPC/data/mp3/2019_09_29_Redeemer_Sermon_Kerr.mp3\n",
      "scikit_learn_data/mldata/mnist-original.mat\n",
      "Strauss–Howe/saves/movies/movie.gif\n",
      "Strauss–Howe/saves/movies/saeculum_movie.gif\n",
      "Strauss–Howe/saves/movies/bare/_movie.gif\n",
      "Strauss–Howe/saves/movies/saeculum/saeculum_movie.gif\n",
      "Strauss–Howe/saves/movies/saeculum_fashionable/movie_to_2020.gif\n",
      "Strauss–Howe/saves/movies/saeculum_fashionable/saeculum_fashionable_movie.gif\n",
      "Strauss–Howe/saves/movies/saeculum_fashionable/stephen_movie.gif\n",
      "Web Scrapers/log/geckodriver.log\n",
      "Word2Vec/data/glove.840B.300d-014.txt\n",
      "Word2Vec/data/GoogleNews-vectors-negative300.bin.gz\n",
      "Word2Vec/data/GoogleNews-vectors-negative300.saved_gensim_model\n",
      "Word2Vec/data/GoogleNews-vectors-negative300.saved_gensim_model.vectors.npy\n",
      "Word2Vec/data/text8\n",
      "Word2Vec/data/text8-phrases\n",
      "Word2Vec/data/glove.6B/glove.6B.100d.txt\n",
      "Word2Vec/data/glove.6B/glove.6B.200d.txt\n",
      "Word2Vec/data/glove.6B/glove.6B.300d.txt\n",
      "Word2Vec/data/glove.6B/glove.6B.50d.txt\n",
      "\n"
     ]
    }
   ],
   "source": [
    "\n",
    "get_specific_gitignore_files('notebooks', repository_dir=r'C:\\Users\\dev\\Documents\\repositories')"
   ]
  },
  {
   "cell_type": "code",
   "execution_count": null,
   "metadata": {},
   "outputs": [],
   "source": [
    "\n",
    "print_all_files_ending_with(root_dir=r'D:\\\\', ends_with='.box')"
   ]
  },
  {
   "cell_type": "code",
   "execution_count": null,
   "metadata": {},
   "outputs": [],
   "source": [
    "\n",
    "print_all_files_ending_starting_with(root_dir=r'D:\\Documents\\Repositories', ends_with='.yml', starts_with='install_config_')"
   ]
  },
  {
   "cell_type": "code",
   "execution_count": null,
   "metadata": {},
   "outputs": [],
   "source": [
    "\n",
    "print_all_files_ending_with(root_dir=r'D:\\Vagrant_Projects\\local-vagrant', ends_with=['sh', 'bash'])"
   ]
  },
  {
   "cell_type": "code",
   "execution_count": null,
   "metadata": {},
   "outputs": [],
   "source": [
    "\n",
    "print_all_files_ending_starting_with(root_dir=['C:\\\\', 'D:\\\\'], ends_with='.yaml', starts_with='common')"
   ]
  },
  {
   "cell_type": "code",
   "execution_count": null,
   "metadata": {},
   "outputs": [],
   "source": [
    "\n",
    "print('The support modules are:')\n",
    "mov_dir = r'D:\\Vagrant_Projects\\local-vagrant\\afdcgscicd-1323-setup\\osif\\support\\modules'\n",
    "for file_name in os.listdir(mov_dir):\n",
    "    if file_name.endswith('.tar.gz'):\n",
    "        print(file_name)"
   ]
  },
  {
   "cell_type": "code",
   "execution_count": null,
   "metadata": {},
   "outputs": [],
   "source": [
    "\n",
    "print('The puppet modules are:')\n",
    "mov_dir = r'D:\\Vagrant_Projects\\local-vagrant\\afdcgscicd-1323-setup\\osif\\puppet\\modules'\n",
    "for sub_directory, directories_list, files_list in os.walk('../osif/puppet/modules'):\n",
    "    for file_name in files_list:\n",
    "        if file_name.endswith('.tar.gz'):\n",
    "            print('{}'.format(file_name))"
   ]
  },
  {
   "cell_type": "code",
   "execution_count": null,
   "metadata": {},
   "outputs": [],
   "source": [
    "\n",
    "import sys\n",
    "\n",
    "for key, value in sys.modules.items():\n",
    "    if 'xdist' in key.lower():\n",
    "        #print('{}: {}'.format(key, value))\n",
    "        print('{}'.format(key))"
   ]
  },
  {
   "cell_type": "code",
   "execution_count": null,
   "metadata": {},
   "outputs": [],
   "source": [
    "\n",
    "test_name = 'test'\n",
    "'{}.xlsx'.format('_'.join([test_name, 'keywords']))"
   ]
  },
  {
   "cell_type": "code",
   "execution_count": null,
   "metadata": {},
   "outputs": [],
   "source": [
    "\n",
    "import re\n",
    "\n",
    "black_list = ['$RECYCLE.BIN', '$Recycle.Bin']\n",
    "s = '^Configuration '\n",
    "encoding = ['ISO-8859-1', 'utf8'][0]\n",
    "ps1_list = []\n",
    "for root_dir in ['C:\\\\', 'D:\\\\']:\n",
    "    for sub_directory, directories_list, files_list in os.walk(root_dir):\n",
    "        if all(map(lambda x: x not in sub_directory, black_list)):\n",
    "            for file_name in files_list:\n",
    "                if file_name.endswith('.ps1'):\n",
    "                    file_path = os.path.join(sub_directory, file_name)\n",
    "                    ps1_list.append(file_path)\n",
    "                    with open(file_path, 'r', encoding=encoding) as myfile:\n",
    "                        data_str = myfile.read().strip()\n",
    "                        if re.search(s, data_str, re.MULTILINE):\n",
    "                            print('{}'.format(file_path))"
   ]
  },
  {
   "cell_type": "code",
   "execution_count": null,
   "metadata": {},
   "outputs": [],
   "source": [
    "\n",
    "len(ps1_list)"
   ]
  },
  {
   "cell_type": "code",
   "execution_count": null,
   "metadata": {},
   "outputs": [],
   "source": [
    "\n",
    "black_list = ['$RECYCLE.BIN', '$Recycle.Bin']\n",
    "for root_dir in ['C:\\\\', 'D:\\\\']:\n",
    "    for sub_directory, directories_list, files_list in os.walk(root_dir):\n",
    "        if all(map(lambda x: x not in sub_directory, black_list)):\n",
    "            for file_name in files_list:\n",
    "                if ('wusa.exe' == file_name):\n",
    "                    file_path = os.path.join(sub_directory, file_name)\n",
    "                    print('{}'.format(file_path))"
   ]
  },
  {
   "cell_type": "code",
   "execution_count": null,
   "metadata": {},
   "outputs": [],
   "source": [
    "\n",
    "dir(os)"
   ]
  },
  {
   "cell_type": "code",
   "execution_count": null,
   "metadata": {},
   "outputs": [],
   "source": [
    "\n",
    "os.listdir()"
   ]
  },
  {
   "cell_type": "code",
   "execution_count": null,
   "metadata": {},
   "outputs": [],
   "source": [
    "\n",
    "modules_list = []\n",
    "for sub_directory, directories_list, files_list in os.walk('../osif/puppet/modules'):\n",
    "    for directory in directories_list:\n",
    "        if directory != 'facts':\n",
    "            modules_list.append(directory)\n",
    "    break\n",
    "modules_list"
   ]
  },
  {
   "cell_type": "code",
   "execution_count": null,
   "metadata": {},
   "outputs": [],
   "source": [
    "\n",
    "import re\n",
    "\n",
    "root_dir = r'D:\\Documents\\Repositories\\af-dcgs-cie'\n",
    "file_set = set()\n",
    "black_list = ['.git', '.gitkeep', 'README.md', '.ipynb_checkpoints']\n",
    "for sub_directory, directories_list, files_list in os.walk(root_dir):\n",
    "    if all(map(lambda x: x not in sub_directory, black_list)):\n",
    "        for wrong_file_name in files_list:\n",
    "            if ('jira' in wrong_file_name.lower()) and (wrong_file_name.endswith('.py') or wrong_file_name.endswith('.ipynb')):\n",
    "                wrong_file_path = os.path.join(sub_directory, wrong_file_name)\n",
    "                correct_file_name = re.sub('jira', 'Jira', wrong_file_name, 0, re.IGNORECASE)\n",
    "                correct_file_path = os.path.join(sub_directory, correct_file_name)\n",
    "                print('{}'.format(correct_file_path))\n",
    "                os.rename(wrong_file_path, correct_file_path)"
   ]
  },
  {
   "cell_type": "code",
   "execution_count": null,
   "metadata": {},
   "outputs": [],
   "source": [
    "\n",
    "black_list = ['$RECYCLE.BIN', '$Recycle.Bin']\n",
    "for root_dir in ['C:\\\\', 'D:\\\\']:\n",
    "    for sub_directory, directories_list, files_list in os.walk(root_dir):\n",
    "        if all(map(lambda x: x not in sub_directory, black_list)):\n",
    "            if ('packer' in sub_directory.lower().split(os.sep)[-1]):\n",
    "                black_list.append(sub_directory)\n",
    "                print(sub_directory)\n",
    "            else:\n",
    "                for file_name in files_list:\n",
    "                    if ('packer' in file_name.lower()):\n",
    "                        file_path = os.path.join(sub_directory, file_name)\n",
    "                        print('{}'.format(file_path))"
   ]
  },
  {
   "cell_type": "code",
   "execution_count": null,
   "metadata": {},
   "outputs": [],
   "source": [
    "\n",
    "black_list = ['$RECYCLE.BIN', '$Recycle.Bin']\n",
    "for root_dir in ['C:\\\\', 'D:\\\\']:\n",
    "    for sub_directory, directories_list, files_list in os.walk(root_dir):\n",
    "        if all(map(lambda x: x not in sub_directory, black_list)):\n",
    "            if ('ec2-api-tools' in sub_directory.lower()):\n",
    "                black_list.append(sub_directory)\n",
    "                print(sub_directory)"
   ]
  },
  {
   "cell_type": "code",
   "execution_count": null,
   "metadata": {},
   "outputs": [],
   "source": [
    "\n",
    "black_list = ['$RECYCLE.BIN', '$Recycle.Bin']\n",
    "for root_dir in ['C:\\\\', 'D:\\\\']:\n",
    "    for sub_directory, directories_list, files_list in os.walk(root_dir):\n",
    "        if all(map(lambda x: x not in sub_directory, black_list)):\n",
    "            for file_name in files_list:\n",
    "                if ('ec2-api-tools' in file_name.lower()):\n",
    "                    file_path = os.path.join(sub_directory, file_name)\n",
    "                    print('{}'.format(file_path))"
   ]
  },
  {
   "cell_type": "code",
   "execution_count": null,
   "metadata": {},
   "outputs": [],
   "source": [
    "\n",
    "black_list = ['$RECYCLE.BIN', '$Recycle.Bin']\n",
    "for root_dir in ['C:\\\\', 'D:\\\\']:\n",
    "    for sub_directory, directories_list, files_list in os.walk(root_dir):\n",
    "        if all(map(lambda x: x not in sub_directory, black_list)):\n",
    "            for file_name in files_list:\n",
    "                if (file_name == 'java.exe'):\n",
    "                    file_path = os.path.join(sub_directory, file_name)\n",
    "                    print('{}'.format(file_path))"
   ]
  },
  {
   "cell_type": "code",
   "execution_count": null,
   "metadata": {},
   "outputs": [],
   "source": [
    "\n",
    "for root_dir in ['C:\\\\', 'D:\\\\']:\n",
    "    for sub_directory, directories_list, files_list in os.walk(root_dir):\n",
    "        for file_name in files_list:\n",
    "            if (file_name.startswith('vagrant-aws-')) and (file_name.endswith('.gem')):\n",
    "                file_path = os.path.join(sub_directory, file_name)\n",
    "                print('vagrant plugin install {}'.format(file_path))"
   ]
  },
  {
   "cell_type": "code",
   "execution_count": null,
   "metadata": {},
   "outputs": [],
   "source": [
    "\n",
    "file_path = r'D:\\Vagrant_Projects\\local-vagrant\\nexus-setup\\populate_artifacts.sh'\n",
    "list_regex = 'MODULE_LIST=\"([^\"]+)\"'\n",
    "package_list = list(set(['device-mapper-persistent-data', 'selinux-policy-targeted', 'policycoreutils-python',\n",
    "                         'selinux-policy-base', 'java-1.8.0-openjdk', 'container-selinux', 'iptables-services',\n",
    "                         'bind-libs-lite', 'openssh-server', 'selinux-policy', 'containerd.io', 'docker-ce-cli',\n",
    "                         'gitlab-runner', 'bind-license', 'epel-release', 'bind-utils', 'libseccomp', 'python-pip',\n",
    "                         'bind-libs', 'docker-ce', 'gitlab-ce', 'yum-utils', 'dos2unix', 'iptables', 'ansible', 'postfix',\n",
    "                         'pygpgme', 'unzip', 'bind', 'curl', 'lvm2', 'nano', 'wget', 'git', 'vim', 'zip', 'network-manager',\n",
    "                         'nss-tools', 'setools-libs', 'nss-sysinit', 'selinux-policy-targeted', 'bind-license', 'curl',\n",
    "                         'nss', 'openssl-libs', 'libcurl', 'policycoreutils-python', 'libselinux-python', 'bind-libs-lite',\n",
    "                         'nss-softokn-freebl', 'freetype', 'libselinux-utils', 'libdrm', 'dhcp-libs', 'selinux-policy',\n",
    "                         'policycoreutils-devel', 'dhclient', 'libselinux', 'nspr', 'device-mapper-persistent-data',\n",
    "                         'openssl', 'dhcp-common', 'policycoreutils', 'nss-util', 'libsepol', 'libsemanage',\n",
    "                         'nss-softokn', 'glib2', 'libsemanage-python']))\n",
    "package_list.sort(key=lambda x: len(x), reverse=True)\n",
    "' '.join(package_list)"
   ]
  },
  {
   "cell_type": "code",
   "execution_count": null,
   "metadata": {},
   "outputs": [],
   "source": [
    "\n",
    "root_dir = r'D:\\Vagrant_Projects\\local-vagrant'\n",
    "file_set = set()\n",
    "black_list = ['.git', '.gitkeep', 'README.md']\n",
    "for sub_directory, directories_list, files_list in os.walk(root_dir):\n",
    "    if all(map(lambda x: x not in sub_directory, black_list)):\n",
    "        for file_name in files_list:\n",
    "            if all(map(lambda x: x not in file_name, black_list)):\n",
    "                file_set.add(file_name)"
   ]
  },
  {
   "cell_type": "code",
   "execution_count": null,
   "metadata": {},
   "outputs": [],
   "source": [
    "\n",
    "file_set"
   ]
  },
  {
   "cell_type": "code",
   "execution_count": null,
   "metadata": {},
   "outputs": [],
   "source": [
    "\n",
    "'5.1.26'"
   ]
  },
  {
   "cell_type": "code",
   "execution_count": null,
   "metadata": {},
   "outputs": [],
   "source": [
    "\n",
    "root_dir = r'D:\\Vagrant_Projects\\local-vagrant'\n",
    "for sub_directory, directories_list, files_list in os.walk(root_dir):\n",
    "    for file_name in files_list:\n",
    "        if 'NetworkManager' in file_name:\n",
    "            print(os.path.join(sub_directory, file_name))"
   ]
  },
  {
   "cell_type": "code",
   "execution_count": null,
   "metadata": {},
   "outputs": [],
   "source": [
    "\n",
    "root_dir = r'D:\\w4d'\n",
    "for sub_directory, directories_list, files_list in os.walk(root_dir):\n",
    "    for file_name in files_list:\n",
    "        if file_name in file_set:\n",
    "            print(os.path.join(sub_directory, file_name))"
   ]
  },
  {
   "cell_type": "code",
   "execution_count": null,
   "metadata": {},
   "outputs": [],
   "source": [
    "\n",
    "root_dir = r'D:\\w4d'\n",
    "for sub_directory, directories_list, files_list in os.walk(root_dir):\n",
    "    for file_name in files_list:\n",
    "        if file_name.endswith('.sh'):\n",
    "            print(os.path.join(sub_directory, file_name))"
   ]
  },
  {
   "cell_type": "code",
   "execution_count": null,
   "metadata": {},
   "outputs": [],
   "source": [
    "\n",
    "'ansi32432ble.sh' in file_set"
   ]
  },
  {
   "cell_type": "code",
   "execution_count": null,
   "metadata": {},
   "outputs": [],
   "source": [
    "\n",
    "for root_dir in ['C:\\\\', 'D:\\\\']:\n",
    "    for sub_directory, directories_list, files_list in os.walk(root_dir):\n",
    "        for file_name in files_list:\n",
    "            if file_name == 'git.exe':\n",
    "                file_path = os.path.join(sub_directory, file_name)\n",
    "                print('Write-Host \"#################################################################################\"')\n",
    "                print('Write-Host \"    Configuring {}\"'.format(file_path))\n",
    "                print('Write-Host \"#################################################################################\"')\n",
    "                print('cd \"{}\"'.format(sub_directory))\n",
    "                print('git.exe config --global core.autocrlf input')"
   ]
  },
  {
   "cell_type": "code",
   "execution_count": null,
   "metadata": {},
   "outputs": [],
   "source": [
    "\n",
    "root_dir = r'D:\\Vagrant_Projects\\Local Installation\\local-vagrant\\artifacts'\n",
    "print_str = '[ -f /vagrant/artifacts/{} ] && sudo pip install /vagrant/artifacts/{}'\n",
    "for sub_directory, directories_list, files_list in os.walk(root_dir):\n",
    "    for file_name in files_list:\n",
    "        if file_name.endswith('.whl'):\n",
    "            print(print_str.format(file_name, file_name))"
   ]
  },
  {
   "cell_type": "code",
   "execution_count": null,
   "metadata": {},
   "outputs": [],
   "source": [
    "\n",
    "import os\n",
    "\n",
    "for root_dir in [r'C:\\Users\\577342\\.gimp-2.8\\scripts', r'C:\\Program Files\\GIMP 2\\share\\gimp\\2.0\\scripts']:\n",
    "    for sub_directory, directories_list, files_list in os.walk(root_dir):\n",
    "        for file_name in files_list:\n",
    "            if 'duplicate' in file_name:\n",
    "                file_path = os.path.join(sub_directory, file_name)\n",
    "                print(file_path)"
   ]
  },
  {
   "cell_type": "code",
   "execution_count": null,
   "metadata": {},
   "outputs": [],
   "source": [
    "\n",
    "for root_dir in ['C:\\\\', 'D:\\\\']:\n",
    "    for sub_directory, directories_list, files_list in os.walk(root_dir):\n",
    "        for file_name in files_list:\n",
    "            if file_name.endswith('.repo'):\n",
    "                file_path = os.path.join(sub_directory, file_name)\n",
    "                print(file_path)"
   ]
  },
  {
   "cell_type": "code",
   "execution_count": null,
   "metadata": {},
   "outputs": [],
   "source": [
    "\n",
    "for sub_directory, directories_list, files_list in os.walk(r'D:\\Vagrant_Projects\\Local Installation\\local-vagrant'):\n",
    "    if 'artifacts' in sub_directory.lower():\n",
    "        print(sub_directory)"
   ]
  },
  {
   "cell_type": "markdown",
   "metadata": {},
   "source": [
    "\n",
    "Where a numeric latitude or longitude is given, the two digits immediately to the left of the decimal point are whole minutes, to the right are decimals of minutes, and the remaining digits to the left of the whole minutes are whole degrees.\n",
    "Eg. 4533.35 is 45 degrees and 33.35 minutes. \".35\" of a minute is exactly 21 seconds.\n",
    "Eg. 16708.033 is 167 degrees and 8.033 minutes. \".033\" of a minute is about 2 seconds."
   ]
  },
  {
   "cell_type": "code",
   "execution_count": null,
   "metadata": {},
   "outputs": [],
   "source": [
    "\n",
    "get_specific_gitignore_files('stark')"
   ]
  },
  {
   "cell_type": "code",
   "execution_count": null,
   "metadata": {},
   "outputs": [],
   "source": [
    "\n",
    "!\"C:\\Program Files\\Sublime Text 3\\sublime_text.exe\" \"D:\\Documents\\Repositories\\stark\\.gitignore\""
   ]
  },
  {
   "cell_type": "code",
   "execution_count": null,
   "metadata": {},
   "outputs": [],
   "source": [
    "\n",
    "print('\\n'.join(sorted('''**/.ipynb_checkpoints/\n",
    "*.ipynb_checkpoints\n",
    "*/.ipynb_checkpoints\n",
    ".ipynb_checkpoints\n",
    ".ipynb_checkpoints*\n",
    ".ipynb_checkpoints/\n",
    ".ipynb_checkpoints/*\n",
    "/.ipynb_checkpoints'''.split('\\n'), key=lambda x: x[::-1])))"
   ]
  },
  {
   "cell_type": "code",
   "execution_count": null,
   "metadata": {},
   "outputs": [],
   "source": [
    "\n",
    "for root_dir in ['C:\\\\', 'D:\\\\']:\n",
    "    for sub_directory, directories_list, files_list in os.walk(root_dir):\n",
    "        for file_name in files_list:\n",
    "            if file_name == 'geos_c.dll':\n",
    "                file_path = os.path.join(sub_directory, file_name)\n",
    "                print(file_path)"
   ]
  },
  {
   "cell_type": "code",
   "execution_count": null,
   "metadata": {},
   "outputs": [],
   "source": [
    "\n",
    "!\"C:\\Program Files\\Sublime Text 3\\sublime_text.exe\" \"D:\\Documents\\Repositories\\stark\\.gitignore\""
   ]
  },
  {
   "cell_type": "code",
   "execution_count": null,
   "metadata": {},
   "outputs": [],
   "source": [
    "\n",
    "get_specific_gitignore_files('af-dcgs-cie')"
   ]
  },
  {
   "cell_type": "code",
   "execution_count": null,
   "metadata": {},
   "outputs": [],
   "source": [
    "\n",
    "!\"C:\\Program Files\\Sublime Text 3\\sublime_text.exe\" \"D:\\Documents\\Repositories\\af-dcgs-cie\\.gitignore\""
   ]
  },
  {
   "cell_type": "code",
   "execution_count": null,
   "metadata": {},
   "outputs": [],
   "source": [
    "\n",
    "txt_dir = '../data/txt'\n",
    "file_list = [fn for fn in os.listdir(txt_dir) if fn.startswith('Note_20190613_')]"
   ]
  },
  {
   "cell_type": "code",
   "execution_count": null,
   "metadata": {},
   "outputs": [],
   "source": [
    "\n",
    "outfile_path = os.path.join(txt_dir, 'output.txt')\n",
    "with open(outfile_path, 'w') as outfile:\n",
    "    for fname in file_list:\n",
    "        file_path = os.path.join(txt_dir, fname)\n",
    "        with open(file_path) as infile:\n",
    "            outfile.write(infile.read())"
   ]
  },
  {
   "cell_type": "code",
   "execution_count": null,
   "metadata": {},
   "outputs": [],
   "source": [
    "\n",
    "'Note_20190613_1630_otter.ai.txt'"
   ]
  },
  {
   "cell_type": "code",
   "execution_count": null,
   "metadata": {},
   "outputs": [],
   "source": [
    "\n",
    "import sys\n",
    "\n",
    "!{sys.executable} -m pip install pycrypto"
   ]
  },
  {
   "cell_type": "code",
   "execution_count": null,
   "metadata": {},
   "outputs": [],
   "source": []
  },
  {
   "cell_type": "code",
   "execution_count": null,
   "metadata": {},
   "outputs": [],
   "source": [
    "\n",
    "get_specific_gitignore_files('hanscom-afb-data-science')"
   ]
  },
  {
   "cell_type": "code",
   "execution_count": null,
   "metadata": {},
   "outputs": [],
   "source": [
    "\n",
    "import os\n",
    "\n",
    "for root_dir in ['C:\\\\', 'D:\\\\']:\n",
    "    for sub_directory, directories_list, files_list in os.walk(root_dir):\n",
    "        for file_name in files_list:\n",
    "            if file_name.endswith('.ppk'):\n",
    "                file_path = os.path.join(sub_directory, file_name)\n",
    "                print(file_path)"
   ]
  },
  {
   "cell_type": "code",
   "execution_count": null,
   "metadata": {},
   "outputs": [],
   "source": [
    "\n",
    "import os\n",
    "\n",
    "vagrant_dir = r'C:\\HashiCorp\\Vagrant'\n",
    "black_list = [vagrant_dir, r'C:\\Users\\577342\\.vagrant.d']\n",
    "for root_dir in ['C:\\\\', 'D:\\\\']:\n",
    "    for sub_directory, directories_list, files_list in os.walk(root_dir):\n",
    "        if all(map(lambda x: x not in sub_directory, black_list)):\n",
    "            if ('vagrant' in sub_directory):\n",
    "                print(sub_directory)"
   ]
  },
  {
   "cell_type": "code",
   "execution_count": null,
   "metadata": {},
   "outputs": [],
   "source": [
    "\n",
    "import os\n",
    "\n",
    "nexus_dir = r'C:\\nexus'\n",
    "black_list = [nexus_dir]\n",
    "for root_dir in ['C:\\\\', 'D:\\\\']:\n",
    "    for sub_directory, directories_list, files_list in os.walk(root_dir):\n",
    "        if all(map(lambda x: x not in sub_directory, black_list)):\n",
    "            if ('nexus' in sub_directory) or ('sonatype' in sub_directory):\n",
    "                print(sub_directory)"
   ]
  },
  {
   "cell_type": "code",
   "execution_count": null,
   "metadata": {},
   "outputs": [],
   "source": [
    "\n",
    "for sub_directory, directories_list, files_list in os.walk(nexus_dir):\n",
    "    if ('nexus3' in sub_directory):\n",
    "        print(sub_directory)"
   ]
  },
  {
   "cell_type": "code",
   "execution_count": null,
   "metadata": {},
   "outputs": [],
   "source": [
    "\n",
    "import shutil\n",
    "for the_file in os.listdir(r'C:\\nexus\\sonatype-work\\nexus3'):\n",
    "    file_path = os.path.join(nexus_dir, the_file)\n",
    "    try:\n",
    "        if os.path.isfile(file_path):\n",
    "            os.unlink(file_path)\n",
    "        elif os.path.isdir(file_path): shutil.rmtree(file_path)\n",
    "    except Exception as e:\n",
    "        print(e)"
   ]
  },
  {
   "cell_type": "code",
   "execution_count": null,
   "metadata": {},
   "outputs": [],
   "source": []
  },
  {
   "cell_type": "code",
   "execution_count": null,
   "metadata": {},
   "outputs": [],
   "source": [
    "\n",
    "get_git_lfs_track_commands('hanscom-afb-data-science')"
   ]
  },
  {
   "cell_type": "code",
   "execution_count": null,
   "metadata": {},
   "outputs": [],
   "source": [
    "\n",
    "os.path.join?"
   ]
  },
  {
   "cell_type": "code",
   "execution_count": null,
   "metadata": {
    "scrolled": false
   },
   "outputs": [],
   "source": [
    "\n",
    "repository_dir = r'D:\\Documents\\Repositories'\n",
    "black_list = ['Ansible_Stuff', '.ipynb_checkpoints']\n",
    "for repository_name in os.listdir(repository_dir):\n",
    "    repository_path = os.path.join(repository_dir, repository_name)\n",
    "    if not os.path.isfile(repository_path) and all(map(lambda x: x not in repository_name, black_list)):\n",
    "        is_header = True\n",
    "        local_black_list = [os.path.join(repository_dir, repository_name, '.git')]\n",
    "        for sub_directory, directories_list, files_list in os.walk(repository_path):\n",
    "                if all(map(lambda x: x not in sub_directory, local_black_list)):\n",
    "                    for file_name in files_list:\n",
    "                        file_path = os.path.join(sub_directory, file_name)\n",
    "                        bytes_count = os.path.getsize(file_path)\n",
    "                        if bytes_count > 5*10**7:\n",
    "                            if is_header:\n",
    "                                is_header = False\n",
    "                                print()\n",
    "                                print(repository_name)\n",
    "                            print('{}: {} ({})'.format(file_name, bytes_count, humanize_bytes(bytes_count, precision=1)))"
   ]
  },
  {
   "cell_type": "code",
   "execution_count": null,
   "metadata": {},
   "outputs": [],
   "source": [
    "\n",
    "get_specific_gitignore_files('af-dcgs-cie')"
   ]
  },
  {
   "cell_type": "code",
   "execution_count": null,
   "metadata": {},
   "outputs": [],
   "source": [
    "\n",
    "!\"C:\\Program Files\\Sublime Text 3\\sublime_text.exe\" \"D:\\Documents\\Repositories\\af-dcgs-cie\\.gitignore\""
   ]
  },
  {
   "cell_type": "code",
   "execution_count": null,
   "metadata": {},
   "outputs": [],
   "source": []
  }
 ],
 "metadata": {
  "kernelspec": {
   "display_name": "Python 3",
   "language": "python",
   "name": "python3"
  },
  "language_info": {
   "codemirror_mode": {
    "name": "ipython",
    "version": 3
   },
   "file_extension": ".py",
   "mimetype": "text/x-python",
   "name": "python",
   "nbconvert_exporter": "python",
   "pygments_lexer": "ipython3",
   "version": "3.6.8"
  }
 },
 "nbformat": 4,
 "nbformat_minor": 2
}
