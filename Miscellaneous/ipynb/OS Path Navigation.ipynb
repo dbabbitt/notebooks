{
 "cells": [
  {
   "cell_type": "code",
   "execution_count": 8,
   "metadata": {},
   "outputs": [
    {
     "name": "stdout",
     "output_type": "stream",
     "text": [
      "Pretty printing has been turned OFF\n",
      "D:\\Documents\\Repositories\\notebooks\\Miscellaneous\\ipynb\\OS Path Navigation.ipynb\n",
      "data_folder: ../data/\n",
      "saves_folder: ../saves/\n",
      "['attempt_to_pickle', 'data_csv_folder', 'data_folder', 'encoding_type', 'load_csv', 'load_dataframes', 'load_object', 'save_dataframes', 'saves_csv_folder', 'saves_folder', 'saves_pickle_folder', 'store_objects']\n",
      "SequenceMatcher\t Storage\t check_4_doubles\t check_for_typos\t conjunctify_list\t copy_all_notebooks_from_the_repositories\t copyfile\t csv\t encoding\t \n",
      "get_git_lfs_track_commands\t get_module_version\t get_notebook_path\t get_specific_gitignore_files\t gi\t humanize_bytes\t ipykernel\t json\t notebook_path\t \n",
      "notebookapp\t os\t pd\t pickle\t print_all_files_ending_starting_with\t print_all_files_ending_with\t print_all_files_starting_with\t re\t remove_empty_folders\t \n",
      "s\t similar\t subprocess\t sys\t time\t urllib\t where_are_any_wav_files\t \n"
     ]
    }
   ],
   "source": [
    "\n",
    "%run ../py/storage.py\n",
    "%run ../py/paths.py\n",
    "%run ../py/lists.py\n",
    "%run ../py/environment.py\n",
    "%pprint\n",
    "notebook_path = get_notebook_path()\n",
    "print(notebook_path)\n",
    "s = Storage()\n",
    "print([fn for fn in dir(s) if not fn.startswith('_')])\n",
    "%who"
   ]
  },
  {
   "cell_type": "code",
   "execution_count": null,
   "metadata": {},
   "outputs": [],
   "source": [
    "\n",
    "gi = get_ipython()\n",
    "#print([fn for fn in dir(gi) if not fn.startswith('_')])\n",
    "gi.run_line_magic??"
   ]
  },
  {
   "cell_type": "code",
   "execution_count": 16,
   "metadata": {},
   "outputs": [
    {
     "name": "stdout",
     "output_type": "stream",
     "text": [
      "D:\\Documents\\Repositories\\af-dcgs-cie\\ipynb\\OS Path Navigation.ipynb\n",
      "D:\\Documents\\Repositories\\notebooks\\Miscellaneous\\ipynb\\OS Path Navigation.ipynb\n"
     ]
    }
   ],
   "source": [
    "\n",
    "black_list = ['.ipynb_checkpoints']\n",
    "print_all_files_ending_starting_with(root_dir=r'D:\\Documents\\Repositories', ends_with=notebook_path.split('.')[1],\n",
    "                                     starts_with=notebook_path.split('.')[0].split(os.sep)[-1],\n",
    "                                     black_list=black_list)"
   ]
  },
  {
   "cell_type": "code",
   "execution_count": 17,
   "metadata": {},
   "outputs": [
    {
     "name": "stdout",
     "output_type": "stream",
     "text": [
      "dict_keys(['charts.py', 'dataframes.py', 'environment.py', 'images.py', 'javascript.py', 'lists.py', 'nbviewer.py', 'paths.py', 'storage.py', 'test.py'])\n"
     ]
    }
   ],
   "source": [
    "\n",
    "f_list = []\n",
    "magic_dir = r'D:\\Documents\\Repositories\\notebooks\\load_magic'\n",
    "for file_name in os.listdir(magic_dir):\n",
    "    if file_name.endswith('.py'):\n",
    "        f_list.append(file_name)\n",
    "root_dir_list = ['D:\\Documents\\Repositories']\n",
    "dir_list = ['py', 'load_magic']\n",
    "magic_dict = {file_name: [] for file_name in f_list}\n",
    "for root_dir in root_dir_list:\n",
    "    for sub_directory, directories_list, files_list in os.walk(root_dir):\n",
    "        if sub_directory.split(os.sep)[-1] in dir_list:\n",
    "            for file_name in files_list:\n",
    "                if file_name in f_list:\n",
    "                    file_path = os.path.join(sub_directory, file_name)\n",
    "                    magic_dict_list = magic_dict[file_name]\n",
    "                    magic_dict_list.append(file_path)\n",
    "                    magic_dict[file_name] = magic_dict_list\n",
    "comparator_path = 'wincmp3.exe'\n",
    "print(magic_dict.keys())"
   ]
  },
  {
   "cell_type": "code",
   "execution_count": 18,
   "metadata": {},
   "outputs": [
    {
     "name": "stdout",
     "output_type": "stream",
     "text": [
      "4\n"
     ]
    },
    {
     "data": {
      "text/plain": [
       "CompletedProcess(args=['wincmp3.exe', 'D:\\\\Documents\\\\Repositories\\\\af-dcgs-cie\\\\py\\\\environment.py', 'D:\\\\Documents\\\\Repositories\\\\notebooks\\\\load_magic\\\\environment.py'], returncode=0)"
      ]
     },
     "execution_count": 18,
     "metadata": {},
     "output_type": "execute_result"
    }
   ],
   "source": [
    "\n",
    "magic_dict_list = magic_dict['environment.py']\n",
    "print(len(magic_dict_list))\n",
    "subprocess.run([comparator_path, os.path.abspath(magic_dict_list[0]), os.path.abspath(magic_dict_list[3])])"
   ]
  },
  {
   "cell_type": "code",
   "execution_count": 19,
   "metadata": {},
   "outputs": [],
   "source": [
    "\n",
    "remove_empty_folders(folder_path=r'D:\\VirtualBox VMs')"
   ]
  },
  {
   "cell_type": "code",
   "execution_count": 20,
   "metadata": {},
   "outputs": [
    {
     "name": "stdout",
     "output_type": "stream",
     "text": [
      "# Ignore big files (GitHub will warn you when pushing files larger than 50 MB. You will not be allowed to\n",
      "# push files larger than 100 MB.) Tip: If you regularly push large files to GitHub, consider introducing\n",
      "# Git Large File Storage (Git LFS) as part of your workflow.\n",
      "338th/saves/txt/random_pool_list.txt\n",
      "\n"
     ]
    }
   ],
   "source": [
    "\n",
    "get_specific_gitignore_files('Offutt-AFB-Data-Science', repository_dir=r'D:\\Documents\\Repositories')"
   ]
  },
  {
   "cell_type": "code",
   "execution_count": 21,
   "metadata": {},
   "outputs": [
    {
     "name": "stdout",
     "output_type": "stream",
     "text": [
      "D:\\\\Documents\\Repositories\\build-packer-images\\box\\Windows_Server_2016-64_vmware.box\n",
      "D:\\\\Vagrant_Projects\\vagrant-aws\\dummy.box\n",
      "D:\\\\VirtualBox VMs\\Windows_Server_2016.box\n"
     ]
    }
   ],
   "source": [
    "\n",
    "print_all_files_ending_with(root_dir=r'D:\\\\', ends_with='.box')"
   ]
  },
  {
   "cell_type": "code",
   "execution_count": null,
   "metadata": {},
   "outputs": [],
   "source": [
    "\n",
    "print_all_files_starting_with(root_dir=r'D:\\Vagrant_Projects\\local-vagrant', starts_with='host')"
   ]
  },
  {
   "cell_type": "code",
   "execution_count": null,
   "metadata": {},
   "outputs": [],
   "source": [
    "\n",
    "print_all_files_ending_with(root_dir=r'D:\\Vagrant_Projects\\local-vagrant', ends_with=['.yml', '.yaml'])"
   ]
  },
  {
   "cell_type": "code",
   "execution_count": null,
   "metadata": {},
   "outputs": [],
   "source": [
    "\n",
    "print_all_files_ending_starting_with(root_dir=r'D:\\Documents\\Repositories', ends_with='.yml', starts_with='install_config_')"
   ]
  },
  {
   "cell_type": "code",
   "execution_count": null,
   "metadata": {},
   "outputs": [],
   "source": [
    "\n",
    "print_all_files_ending_with(root_dir=r'D:\\Vagrant_Projects\\local-vagrant', ends_with=['sh', 'bash'])"
   ]
  },
  {
   "cell_type": "code",
   "execution_count": null,
   "metadata": {},
   "outputs": [],
   "source": [
    "\n",
    "print_all_files_ending_starting_with(root_dir=['C:\\\\', 'D:\\\\'], ends_with='.yaml', starts_with='common')"
   ]
  },
  {
   "cell_type": "code",
   "execution_count": null,
   "metadata": {},
   "outputs": [],
   "source": [
    "\n",
    "print('The support modules are:')\n",
    "mov_dir = r'D:\\Vagrant_Projects\\local-vagrant\\afdcgscicd-1323-setup\\osif\\support\\modules'\n",
    "for file_name in os.listdir(mov_dir):\n",
    "    if file_name.endswith('.tar.gz'):\n",
    "        print(file_name)"
   ]
  },
  {
   "cell_type": "code",
   "execution_count": null,
   "metadata": {},
   "outputs": [],
   "source": [
    "\n",
    "print('The puppet modules are:')\n",
    "mov_dir = r'D:\\Vagrant_Projects\\local-vagrant\\afdcgscicd-1323-setup\\osif\\puppet\\modules'\n",
    "for sub_directory, directories_list, files_list in os.walk('../osif/puppet/modules'):\n",
    "    for file_name in files_list:\n",
    "        if file_name.endswith('.tar.gz'):\n",
    "            print('{}'.format(file_name))"
   ]
  },
  {
   "cell_type": "code",
   "execution_count": null,
   "metadata": {},
   "outputs": [],
   "source": [
    "\n",
    "import sys\n",
    "\n",
    "for key, value in sys.modules.items():\n",
    "    if 'xdist' in key.lower():\n",
    "        #print('{}: {}'.format(key, value))\n",
    "        print('{}'.format(key))"
   ]
  },
  {
   "cell_type": "code",
   "execution_count": null,
   "metadata": {},
   "outputs": [],
   "source": [
    "\n",
    "test_name = 'test'\n",
    "'{}.xlsx'.format('_'.join([test_name, 'keywords']))"
   ]
  },
  {
   "cell_type": "code",
   "execution_count": null,
   "metadata": {},
   "outputs": [],
   "source": [
    "\n",
    "import re\n",
    "\n",
    "black_list = ['$RECYCLE.BIN', '$Recycle.Bin']\n",
    "s = '^Configuration '\n",
    "encoding = ['ISO-8859-1', 'utf8'][0]\n",
    "ps1_list = []\n",
    "for root_dir in ['C:\\\\', 'D:\\\\']:\n",
    "    for sub_directory, directories_list, files_list in os.walk(root_dir):\n",
    "        if all(map(lambda x: x not in sub_directory, black_list)):\n",
    "            for file_name in files_list:\n",
    "                if file_name.endswith('.ps1'):\n",
    "                    file_path = os.path.join(sub_directory, file_name)\n",
    "                    ps1_list.append(file_path)\n",
    "                    with open(file_path, 'r', encoding=encoding) as myfile:\n",
    "                        data_str = myfile.read().strip()\n",
    "                        if re.search(s, data_str, re.MULTILINE):\n",
    "                            print('{}'.format(file_path))"
   ]
  },
  {
   "cell_type": "code",
   "execution_count": null,
   "metadata": {},
   "outputs": [],
   "source": [
    "\n",
    "len(ps1_list)"
   ]
  },
  {
   "cell_type": "code",
   "execution_count": null,
   "metadata": {},
   "outputs": [],
   "source": [
    "\n",
    "black_list = ['$RECYCLE.BIN', '$Recycle.Bin']\n",
    "for root_dir in ['C:\\\\', 'D:\\\\']:\n",
    "    for sub_directory, directories_list, files_list in os.walk(root_dir):\n",
    "        if all(map(lambda x: x not in sub_directory, black_list)):\n",
    "            for file_name in files_list:\n",
    "                if ('wusa.exe' == file_name):\n",
    "                    file_path = os.path.join(sub_directory, file_name)\n",
    "                    print('{}'.format(file_path))"
   ]
  },
  {
   "cell_type": "code",
   "execution_count": null,
   "metadata": {},
   "outputs": [],
   "source": [
    "\n",
    "dir(os)"
   ]
  },
  {
   "cell_type": "code",
   "execution_count": null,
   "metadata": {},
   "outputs": [],
   "source": [
    "\n",
    "os.listdir()"
   ]
  },
  {
   "cell_type": "code",
   "execution_count": null,
   "metadata": {},
   "outputs": [],
   "source": [
    "\n",
    "modules_list = []\n",
    "for sub_directory, directories_list, files_list in os.walk('../osif/puppet/modules'):\n",
    "    for directory in directories_list:\n",
    "        if directory != 'facts':\n",
    "            modules_list.append(directory)\n",
    "    break\n",
    "modules_list"
   ]
  },
  {
   "cell_type": "code",
   "execution_count": null,
   "metadata": {},
   "outputs": [],
   "source": [
    "\n",
    "import re\n",
    "\n",
    "root_dir = r'D:\\Documents\\Repositories\\af-dcgs-cie'\n",
    "file_set = set()\n",
    "black_list = ['.git', '.gitkeep', 'README.md', '.ipynb_checkpoints']\n",
    "for sub_directory, directories_list, files_list in os.walk(root_dir):\n",
    "    if all(map(lambda x: x not in sub_directory, black_list)):\n",
    "        for wrong_file_name in files_list:\n",
    "            if ('jira' in wrong_file_name.lower()) and (wrong_file_name.endswith('.py') or wrong_file_name.endswith('.ipynb')):\n",
    "                wrong_file_path = os.path.join(sub_directory, wrong_file_name)\n",
    "                correct_file_name = re.sub('jira', 'Jira', wrong_file_name, 0, re.IGNORECASE)\n",
    "                correct_file_path = os.path.join(sub_directory, correct_file_name)\n",
    "                print('{}'.format(correct_file_path))\n",
    "                os.rename(wrong_file_path, correct_file_path)"
   ]
  },
  {
   "cell_type": "code",
   "execution_count": null,
   "metadata": {},
   "outputs": [],
   "source": [
    "\n",
    "black_list = ['$RECYCLE.BIN', '$Recycle.Bin']\n",
    "for root_dir in ['C:\\\\', 'D:\\\\']:\n",
    "    for sub_directory, directories_list, files_list in os.walk(root_dir):\n",
    "        if all(map(lambda x: x not in sub_directory, black_list)):\n",
    "            if ('packer' in sub_directory.lower().split(os.sep)[-1]):\n",
    "                black_list.append(sub_directory)\n",
    "                print(sub_directory)\n",
    "            else:\n",
    "                for file_name in files_list:\n",
    "                    if ('packer' in file_name.lower()):\n",
    "                        file_path = os.path.join(sub_directory, file_name)\n",
    "                        print('{}'.format(file_path))"
   ]
  },
  {
   "cell_type": "code",
   "execution_count": null,
   "metadata": {},
   "outputs": [],
   "source": [
    "\n",
    "black_list = ['$RECYCLE.BIN', '$Recycle.Bin']\n",
    "for root_dir in ['C:\\\\', 'D:\\\\']:\n",
    "    for sub_directory, directories_list, files_list in os.walk(root_dir):\n",
    "        if all(map(lambda x: x not in sub_directory, black_list)):\n",
    "            if ('ec2-api-tools' in sub_directory.lower()):\n",
    "                black_list.append(sub_directory)\n",
    "                print(sub_directory)"
   ]
  },
  {
   "cell_type": "code",
   "execution_count": null,
   "metadata": {},
   "outputs": [],
   "source": [
    "\n",
    "black_list = ['$RECYCLE.BIN', '$Recycle.Bin']\n",
    "for root_dir in ['C:\\\\', 'D:\\\\']:\n",
    "    for sub_directory, directories_list, files_list in os.walk(root_dir):\n",
    "        if all(map(lambda x: x not in sub_directory, black_list)):\n",
    "            for file_name in files_list:\n",
    "                if ('ec2-api-tools' in file_name.lower()):\n",
    "                    file_path = os.path.join(sub_directory, file_name)\n",
    "                    print('{}'.format(file_path))"
   ]
  },
  {
   "cell_type": "code",
   "execution_count": null,
   "metadata": {},
   "outputs": [],
   "source": [
    "\n",
    "black_list = ['$RECYCLE.BIN', '$Recycle.Bin']\n",
    "for root_dir in ['C:\\\\', 'D:\\\\']:\n",
    "    for sub_directory, directories_list, files_list in os.walk(root_dir):\n",
    "        if all(map(lambda x: x not in sub_directory, black_list)):\n",
    "            for file_name in files_list:\n",
    "                if (file_name == 'java.exe'):\n",
    "                    file_path = os.path.join(sub_directory, file_name)\n",
    "                    print('{}'.format(file_path))"
   ]
  },
  {
   "cell_type": "code",
   "execution_count": null,
   "metadata": {},
   "outputs": [],
   "source": [
    "\n",
    "for root_dir in ['C:\\\\', 'D:\\\\']:\n",
    "    for sub_directory, directories_list, files_list in os.walk(root_dir):\n",
    "        for file_name in files_list:\n",
    "            if (file_name.startswith('vagrant-aws-')) and (file_name.endswith('.gem')):\n",
    "                file_path = os.path.join(sub_directory, file_name)\n",
    "                print('vagrant plugin install {}'.format(file_path))"
   ]
  },
  {
   "cell_type": "code",
   "execution_count": null,
   "metadata": {},
   "outputs": [],
   "source": [
    "\n",
    "file_path = r'D:\\Vagrant_Projects\\local-vagrant\\nexus-setup\\populate_artifacts.sh'\n",
    "list_regex = 'MODULE_LIST=\"([^\"]+)\"'\n",
    "package_list = list(set(['device-mapper-persistent-data', 'selinux-policy-targeted', 'policycoreutils-python',\n",
    "                         'selinux-policy-base', 'java-1.8.0-openjdk', 'container-selinux', 'iptables-services',\n",
    "                         'bind-libs-lite', 'openssh-server', 'selinux-policy', 'containerd.io', 'docker-ce-cli',\n",
    "                         'gitlab-runner', 'bind-license', 'epel-release', 'bind-utils', 'libseccomp', 'python-pip',\n",
    "                         'bind-libs', 'docker-ce', 'gitlab-ce', 'yum-utils', 'dos2unix', 'iptables', 'ansible', 'postfix',\n",
    "                         'pygpgme', 'unzip', 'bind', 'curl', 'lvm2', 'nano', 'wget', 'git', 'vim', 'zip', 'network-manager',\n",
    "                         'nss-tools', 'setools-libs', 'nss-sysinit', 'selinux-policy-targeted', 'bind-license', 'curl',\n",
    "                         'nss', 'openssl-libs', 'libcurl', 'policycoreutils-python', 'libselinux-python', 'bind-libs-lite',\n",
    "                         'nss-softokn-freebl', 'freetype', 'libselinux-utils', 'libdrm', 'dhcp-libs', 'selinux-policy',\n",
    "                         'policycoreutils-devel', 'dhclient', 'libselinux', 'nspr', 'device-mapper-persistent-data',\n",
    "                         'openssl', 'dhcp-common', 'policycoreutils', 'nss-util', 'libsepol', 'libsemanage',\n",
    "                         'nss-softokn', 'glib2', 'libsemanage-python']))\n",
    "package_list.sort(key=lambda x: len(x), reverse=True)\n",
    "' '.join(package_list)"
   ]
  },
  {
   "cell_type": "code",
   "execution_count": null,
   "metadata": {},
   "outputs": [],
   "source": [
    "\n",
    "root_dir = r'D:\\Vagrant_Projects\\local-vagrant'\n",
    "file_set = set()\n",
    "black_list = ['.git', '.gitkeep', 'README.md']\n",
    "for sub_directory, directories_list, files_list in os.walk(root_dir):\n",
    "    if all(map(lambda x: x not in sub_directory, black_list)):\n",
    "        for file_name in files_list:\n",
    "            if all(map(lambda x: x not in file_name, black_list)):\n",
    "                file_set.add(file_name)"
   ]
  },
  {
   "cell_type": "code",
   "execution_count": null,
   "metadata": {},
   "outputs": [],
   "source": [
    "\n",
    "file_set"
   ]
  },
  {
   "cell_type": "code",
   "execution_count": null,
   "metadata": {},
   "outputs": [],
   "source": [
    "\n",
    "'5.1.26'"
   ]
  },
  {
   "cell_type": "code",
   "execution_count": null,
   "metadata": {},
   "outputs": [],
   "source": [
    "\n",
    "root_dir = r'D:\\Vagrant_Projects\\local-vagrant'\n",
    "for sub_directory, directories_list, files_list in os.walk(root_dir):\n",
    "    for file_name in files_list:\n",
    "        if 'NetworkManager' in file_name:\n",
    "            print(os.path.join(sub_directory, file_name))"
   ]
  },
  {
   "cell_type": "code",
   "execution_count": null,
   "metadata": {},
   "outputs": [],
   "source": [
    "\n",
    "root_dir = r'D:\\w4d'\n",
    "for sub_directory, directories_list, files_list in os.walk(root_dir):\n",
    "    for file_name in files_list:\n",
    "        if file_name in file_set:\n",
    "            print(os.path.join(sub_directory, file_name))"
   ]
  },
  {
   "cell_type": "code",
   "execution_count": null,
   "metadata": {},
   "outputs": [],
   "source": [
    "\n",
    "root_dir = r'D:\\w4d'\n",
    "for sub_directory, directories_list, files_list in os.walk(root_dir):\n",
    "    for file_name in files_list:\n",
    "        if file_name.endswith('.sh'):\n",
    "            print(os.path.join(sub_directory, file_name))"
   ]
  },
  {
   "cell_type": "code",
   "execution_count": null,
   "metadata": {},
   "outputs": [],
   "source": [
    "\n",
    "'ansi32432ble.sh' in file_set"
   ]
  },
  {
   "cell_type": "code",
   "execution_count": null,
   "metadata": {},
   "outputs": [],
   "source": [
    "\n",
    "for root_dir in ['C:\\\\', 'D:\\\\']:\n",
    "    for sub_directory, directories_list, files_list in os.walk(root_dir):\n",
    "        for file_name in files_list:\n",
    "            if file_name == 'git.exe':\n",
    "                file_path = os.path.join(sub_directory, file_name)\n",
    "                print('Write-Host \"#################################################################################\"')\n",
    "                print('Write-Host \"    Configuring {}\"'.format(file_path))\n",
    "                print('Write-Host \"#################################################################################\"')\n",
    "                print('cd \"{}\"'.format(sub_directory))\n",
    "                print('git.exe config --global core.autocrlf input')"
   ]
  },
  {
   "cell_type": "code",
   "execution_count": null,
   "metadata": {},
   "outputs": [],
   "source": [
    "\n",
    "root_dir = r'D:\\Vagrant_Projects\\Local Installation\\local-vagrant\\artifacts'\n",
    "print_str = '[ -f /vagrant/artifacts/{} ] && sudo pip install /vagrant/artifacts/{}'\n",
    "for sub_directory, directories_list, files_list in os.walk(root_dir):\n",
    "    for file_name in files_list:\n",
    "        if file_name.endswith('.whl'):\n",
    "            print(print_str.format(file_name, file_name))"
   ]
  },
  {
   "cell_type": "code",
   "execution_count": null,
   "metadata": {},
   "outputs": [],
   "source": [
    "\n",
    "import os\n",
    "\n",
    "for root_dir in [r'C:\\Users\\577342\\.gimp-2.8\\scripts', r'C:\\Program Files\\GIMP 2\\share\\gimp\\2.0\\scripts']:\n",
    "    for sub_directory, directories_list, files_list in os.walk(root_dir):\n",
    "        for file_name in files_list:\n",
    "            if 'duplicate' in file_name:\n",
    "                file_path = os.path.join(sub_directory, file_name)\n",
    "                print(file_path)"
   ]
  },
  {
   "cell_type": "code",
   "execution_count": null,
   "metadata": {},
   "outputs": [],
   "source": [
    "\n",
    "for root_dir in ['C:\\\\', 'D:\\\\']:\n",
    "    for sub_directory, directories_list, files_list in os.walk(root_dir):\n",
    "        for file_name in files_list:\n",
    "            if file_name.endswith('.repo'):\n",
    "                file_path = os.path.join(sub_directory, file_name)\n",
    "                print(file_path)"
   ]
  },
  {
   "cell_type": "code",
   "execution_count": null,
   "metadata": {},
   "outputs": [],
   "source": [
    "\n",
    "for sub_directory, directories_list, files_list in os.walk(r'D:\\Vagrant_Projects\\Local Installation\\local-vagrant'):\n",
    "    if 'artifacts' in sub_directory.lower():\n",
    "        print(sub_directory)"
   ]
  },
  {
   "cell_type": "markdown",
   "metadata": {},
   "source": [
    "\n",
    "Where a numeric latitude or longitude is given, the two digits immediately to the left of the decimal point are whole minutes, to the right are decimals of minutes, and the remaining digits to the left of the whole minutes are whole degrees.\n",
    "Eg. 4533.35 is 45 degrees and 33.35 minutes. \".35\" of a minute is exactly 21 seconds.\n",
    "Eg. 16708.033 is 167 degrees and 8.033 minutes. \".033\" of a minute is about 2 seconds."
   ]
  },
  {
   "cell_type": "code",
   "execution_count": null,
   "metadata": {},
   "outputs": [],
   "source": [
    "\n",
    "get_specific_gitignore_files('stark')"
   ]
  },
  {
   "cell_type": "code",
   "execution_count": null,
   "metadata": {},
   "outputs": [],
   "source": [
    "\n",
    "!\"C:\\Program Files\\Sublime Text 3\\sublime_text.exe\" \"D:\\Documents\\Repositories\\stark\\.gitignore\""
   ]
  },
  {
   "cell_type": "code",
   "execution_count": null,
   "metadata": {},
   "outputs": [],
   "source": [
    "\n",
    "print('\\n'.join(sorted('''**/.ipynb_checkpoints/\n",
    "*.ipynb_checkpoints\n",
    "*/.ipynb_checkpoints\n",
    ".ipynb_checkpoints\n",
    ".ipynb_checkpoints*\n",
    ".ipynb_checkpoints/\n",
    ".ipynb_checkpoints/*\n",
    "/.ipynb_checkpoints'''.split('\\n'), key=lambda x: x[::-1])))"
   ]
  },
  {
   "cell_type": "code",
   "execution_count": null,
   "metadata": {},
   "outputs": [],
   "source": [
    "\n",
    "for root_dir in ['C:\\\\', 'D:\\\\']:\n",
    "    for sub_directory, directories_list, files_list in os.walk(root_dir):\n",
    "        for file_name in files_list:\n",
    "            if file_name == 'geos_c.dll':\n",
    "                file_path = os.path.join(sub_directory, file_name)\n",
    "                print(file_path)"
   ]
  },
  {
   "cell_type": "code",
   "execution_count": null,
   "metadata": {},
   "outputs": [],
   "source": [
    "\n",
    "!\"C:\\Program Files\\Sublime Text 3\\sublime_text.exe\" \"D:\\Documents\\Repositories\\stark\\.gitignore\""
   ]
  },
  {
   "cell_type": "code",
   "execution_count": null,
   "metadata": {},
   "outputs": [],
   "source": [
    "\n",
    "get_specific_gitignore_files('af-dcgs-cie')"
   ]
  },
  {
   "cell_type": "code",
   "execution_count": null,
   "metadata": {},
   "outputs": [],
   "source": [
    "\n",
    "!\"C:\\Program Files\\Sublime Text 3\\sublime_text.exe\" \"D:\\Documents\\Repositories\\af-dcgs-cie\\.gitignore\""
   ]
  },
  {
   "cell_type": "code",
   "execution_count": null,
   "metadata": {},
   "outputs": [],
   "source": [
    "\n",
    "txt_dir = '../data/txt'\n",
    "file_list = [fn for fn in os.listdir(txt_dir) if fn.startswith('Note_20190613_')]"
   ]
  },
  {
   "cell_type": "code",
   "execution_count": null,
   "metadata": {},
   "outputs": [],
   "source": [
    "\n",
    "outfile_path = os.path.join(txt_dir, 'output.txt')\n",
    "with open(outfile_path, 'w') as outfile:\n",
    "    for fname in file_list:\n",
    "        file_path = os.path.join(txt_dir, fname)\n",
    "        with open(file_path) as infile:\n",
    "            outfile.write(infile.read())"
   ]
  },
  {
   "cell_type": "code",
   "execution_count": null,
   "metadata": {},
   "outputs": [],
   "source": [
    "\n",
    "'Note_20190613_1630_otter.ai.txt'"
   ]
  },
  {
   "cell_type": "code",
   "execution_count": null,
   "metadata": {},
   "outputs": [],
   "source": [
    "\n",
    "import sys\n",
    "\n",
    "!{sys.executable} -m pip install pycrypto"
   ]
  },
  {
   "cell_type": "code",
   "execution_count": null,
   "metadata": {},
   "outputs": [],
   "source": []
  },
  {
   "cell_type": "code",
   "execution_count": null,
   "metadata": {},
   "outputs": [],
   "source": [
    "\n",
    "get_specific_gitignore_files('hanscom-afb-data-science')"
   ]
  },
  {
   "cell_type": "code",
   "execution_count": null,
   "metadata": {},
   "outputs": [],
   "source": [
    "\n",
    "import os\n",
    "\n",
    "for root_dir in ['C:\\\\', 'D:\\\\']:\n",
    "    for sub_directory, directories_list, files_list in os.walk(root_dir):\n",
    "        for file_name in files_list:\n",
    "            if file_name.endswith('.ppk'):\n",
    "                file_path = os.path.join(sub_directory, file_name)\n",
    "                print(file_path)"
   ]
  },
  {
   "cell_type": "code",
   "execution_count": null,
   "metadata": {},
   "outputs": [],
   "source": [
    "\n",
    "import os\n",
    "\n",
    "vagrant_dir = r'C:\\HashiCorp\\Vagrant'\n",
    "black_list = [vagrant_dir, r'C:\\Users\\577342\\.vagrant.d']\n",
    "for root_dir in ['C:\\\\', 'D:\\\\']:\n",
    "    for sub_directory, directories_list, files_list in os.walk(root_dir):\n",
    "        if all(map(lambda x: x not in sub_directory, black_list)):\n",
    "            if ('vagrant' in sub_directory):\n",
    "                print(sub_directory)"
   ]
  },
  {
   "cell_type": "code",
   "execution_count": null,
   "metadata": {},
   "outputs": [],
   "source": [
    "\n",
    "import os\n",
    "\n",
    "nexus_dir = r'C:\\nexus'\n",
    "black_list = [nexus_dir]\n",
    "for root_dir in ['C:\\\\', 'D:\\\\']:\n",
    "    for sub_directory, directories_list, files_list in os.walk(root_dir):\n",
    "        if all(map(lambda x: x not in sub_directory, black_list)):\n",
    "            if ('nexus' in sub_directory) or ('sonatype' in sub_directory):\n",
    "                print(sub_directory)"
   ]
  },
  {
   "cell_type": "code",
   "execution_count": null,
   "metadata": {},
   "outputs": [],
   "source": [
    "\n",
    "for sub_directory, directories_list, files_list in os.walk(nexus_dir):\n",
    "    if ('nexus3' in sub_directory):\n",
    "        print(sub_directory)"
   ]
  },
  {
   "cell_type": "code",
   "execution_count": null,
   "metadata": {},
   "outputs": [],
   "source": [
    "\n",
    "import shutil\n",
    "for the_file in os.listdir(r'C:\\nexus\\sonatype-work\\nexus3'):\n",
    "    file_path = os.path.join(nexus_dir, the_file)\n",
    "    try:\n",
    "        if os.path.isfile(file_path):\n",
    "            os.unlink(file_path)\n",
    "        elif os.path.isdir(file_path): shutil.rmtree(file_path)\n",
    "    except Exception as e:\n",
    "        print(e)"
   ]
  },
  {
   "cell_type": "code",
   "execution_count": null,
   "metadata": {},
   "outputs": [],
   "source": []
  },
  {
   "cell_type": "code",
   "execution_count": null,
   "metadata": {},
   "outputs": [],
   "source": [
    "\n",
    "get_git_lfs_track_commands('hanscom-afb-data-science')"
   ]
  },
  {
   "cell_type": "code",
   "execution_count": null,
   "metadata": {},
   "outputs": [],
   "source": [
    "\n",
    "os.path.join?"
   ]
  },
  {
   "cell_type": "code",
   "execution_count": null,
   "metadata": {
    "scrolled": false
   },
   "outputs": [],
   "source": [
    "\n",
    "repository_dir = r'D:\\Documents\\Repositories'\n",
    "black_list = ['Ansible_Stuff', '.ipynb_checkpoints']\n",
    "for repository_name in os.listdir(repository_dir):\n",
    "    repository_path = os.path.join(repository_dir, repository_name)\n",
    "    if not os.path.isfile(repository_path) and all(map(lambda x: x not in repository_name, black_list)):\n",
    "        is_header = True\n",
    "        local_black_list = [os.path.join(repository_dir, repository_name, '.git')]\n",
    "        for sub_directory, directories_list, files_list in os.walk(repository_path):\n",
    "                if all(map(lambda x: x not in sub_directory, local_black_list)):\n",
    "                    for file_name in files_list:\n",
    "                        file_path = os.path.join(sub_directory, file_name)\n",
    "                        bytes_count = os.path.getsize(file_path)\n",
    "                        if bytes_count > 5*10**7:\n",
    "                            if is_header:\n",
    "                                is_header = False\n",
    "                                print()\n",
    "                                print(repository_name)\n",
    "                            print('{}: {} ({})'.format(file_name, bytes_count, humanize_bytes(bytes_count, precision=1)))"
   ]
  },
  {
   "cell_type": "code",
   "execution_count": null,
   "metadata": {},
   "outputs": [],
   "source": [
    "\n",
    "get_specific_gitignore_files('af-dcgs-cie')"
   ]
  },
  {
   "cell_type": "code",
   "execution_count": null,
   "metadata": {},
   "outputs": [],
   "source": [
    "\n",
    "!\"C:\\Program Files\\Sublime Text 3\\sublime_text.exe\" \"D:\\Documents\\Repositories\\af-dcgs-cie\\.gitignore\""
   ]
  },
  {
   "cell_type": "code",
   "execution_count": null,
   "metadata": {},
   "outputs": [],
   "source": []
  }
 ],
 "metadata": {
  "kernelspec": {
   "display_name": "Python 3",
   "language": "python",
   "name": "python3"
  },
  "language_info": {
   "codemirror_mode": {
    "name": "ipython",
    "version": 3
   },
   "file_extension": ".py",
   "mimetype": "text/x-python",
   "name": "python",
   "nbconvert_exporter": "python",
   "pygments_lexer": "ipython3",
   "version": "3.7.3"
  }
 },
 "nbformat": 4,
 "nbformat_minor": 2
}
