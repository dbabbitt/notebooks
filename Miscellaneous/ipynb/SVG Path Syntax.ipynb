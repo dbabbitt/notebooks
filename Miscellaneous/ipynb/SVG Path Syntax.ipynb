{
 "cells": [
  {
   "cell_type": "code",
   "execution_count": 15,
   "metadata": {},
   "outputs": [
    {
     "name": "stdout",
     "output_type": "stream",
     "text": [
      "[(0, (19, 2))]\n"
     ]
    }
   ],
   "source": [
    "\n",
    "%run ../../load_magic/dataframes.py\n",
    "tables_url = 'https://css-tricks.com/svg-path-syntax-illustrated-guide/'\n",
    "file_path = r'D:\\Documents\\Repositories\\notebooks\\Miscellaneous\\data\\html\\svg_path_syntax.html'\n",
    "tables_list = get_page_tables(file_path)"
   ]
  },
  {
   "cell_type": "code",
   "execution_count": 16,
   "metadata": {},
   "outputs": [
    {
     "name": "stdout",
     "output_type": "stream",
     "text": [
      "C: Draw a bezier curve based on two bezier control points and end at specified coordinates\n",
      "L: Draw a straight line to the absolute coordinates x,y\n",
      "Z: Draw a straight line back to the start of the path\n",
      "c: Draw a bezier curve based on two bezier control points and end at specified coordinates using all relative values\n",
      "l: Draw a straight line to a point that is relatively right x and down y (or left and up if negative values)\n",
      "m: Move to the right x and down y (or left and up if negative values)\n"
     ]
    }
   ],
   "source": [
    "\n",
    "svg_syntax_df = tables_list[0].copy()\n",
    "svg_syntax_df.columns = ['character', 'explanation']\n",
    "svg_syntax_df.set_index('character', drop=True, inplace=True)\n",
    "syntax_dict = svg_syntax_df.explanation.to_dict()\n",
    "for symbol in ['C', 'L', 'Z', 'c', 'l', 'm']:\n",
    "    print('{}: {}'.format(symbol, syntax_dict[symbol]))"
   ]
  },
  {
   "cell_type": "code",
   "execution_count": null,
   "metadata": {},
   "outputs": [],
   "source": []
  }
 ],
 "metadata": {
  "kernelspec": {
   "display_name": "Python 3",
   "language": "python",
   "name": "python3"
  },
  "language_info": {
   "codemirror_mode": {
    "name": "ipython",
    "version": 3
   },
   "file_extension": ".py",
   "mimetype": "text/x-python",
   "name": "python",
   "nbconvert_exporter": "python",
   "pygments_lexer": "ipython3",
   "version": "3.7.7"
  }
 },
 "nbformat": 4,
 "nbformat_minor": 4
}
