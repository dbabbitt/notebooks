{
 "cells": [
  {
   "cell_type": "code",
   "execution_count": 1,
   "metadata": {},
   "outputs": [
    {
     "name": "stdout",
     "output_type": "stream",
     "text": [
      "converting\n",
      "\tC:\\Users\\dev\\Downloads\\\\DASH_600_K.mp4\n",
      "to\n",
      "\tC:\\Users\\dev\\Downloads\\\\DASH_600_K.gif\n",
      "frame 252\n",
      "Finalizing...\n",
      "Done.\n"
     ]
    }
   ],
   "source": [
    "\n",
    "import imageio\n",
    "import os, sys\n",
    "\n",
    "class TargetFormat(object):\n",
    "    GIF = '.gif'\n",
    "    MP4 = '.mp4'\n",
    "    AVI = '.avi'\n",
    "\n",
    "def convertFile(inputpath, targetFormat):\n",
    "    \n",
    "    '''Reference: http://imageio.readthedocs.io/en/latest/examples.html#convert-a-movie'''\n",
    "    outputpath = os.path.splitext(inputpath)[0] + targetFormat\n",
    "    print('converting\\r\\n\\t{0}\\r\\nto\\r\\n\\t{1}'.format(inputpath, outputpath))\n",
    "\n",
    "    reader = imageio.get_reader(inputpath)\n",
    "    fps = reader.get_meta_data()['fps']\n",
    "\n",
    "    writer = imageio.get_writer(outputpath, fps=fps)\n",
    "    for i, im in enumerate(reader):\n",
    "        sys.stdout.write('\\rframe {0}'.format(i))\n",
    "        sys.stdout.flush()\n",
    "        writer.append_data(im)\n",
    "    print('\\r\\nFinalizing...')\n",
    "    writer.close()\n",
    "    print('Done.')\n",
    "\n",
    "downloads_folder = r'C:\\Users\\dev\\Downloads\\\\'\n",
    "file_path = os.path.join(downloads_folder, 'DASH_600_K.mp4')\n",
    "convertFile(file_path, TargetFormat.GIF)"
   ]
  },
  {
   "cell_type": "code",
   "execution_count": 6,
   "metadata": {},
   "outputs": [
    {
     "name": "stdout",
     "output_type": "stream",
     "text": [
      "Collecting opencv-python\n",
      "  Downloading https://files.pythonhosted.org/packages/f2/f8/42f3ac356fae2500148b7a64b55169212d841987141a3f730708ae128cee/opencv_python-3.4.2.17-cp36-cp36m-win_amd64.whl (33.8MB)\n",
      "Requirement already satisfied: numpy>=1.11.3 in c:\\users\\dev\\anaconda3\\lib\\site-packages (from opencv-python) (1.15.0)\n",
      "Installing collected packages: opencv-python\n",
      "Successfully installed opencv-python-3.4.2.17\n"
     ]
    }
   ],
   "source": [
    "\n",
    "# Install a pip package in the current Jupyter kernel\n",
    "import sys\n",
    "\n",
    "!{sys.executable} -m pip install opencv-python"   ]
  },
  {
   "cell_type": "code",
   "execution_count": 16,
   "metadata": {},
   "outputs": [
    {
     "name": "stdout",
     "output_type": "stream",
     "text": [
      "Read a new frame 527: False"
     ]
    }
   ],
   "source": [
    "\n",
    "import cv2\n",
    "\n",
    "# https://stackoverflow.com/questions/33311153/python-extracting-and-saving-video-frames\n",
    "downloads_folder = r'C:\\Users\\dev\\Downloads\\\\'\n",
    "file_path = os.path.join(downloads_folder, 'bKRPjtT.mp4')\n",
    "vidcap = cv2.VideoCapture(file_path)\n",
    "success, image = vidcap.read()\n",
    "count = 0\n",
    "while success:\n",
    "    cv2.imwrite(os.path.join(downloads_folder, 'frame{}.png'.format(str(count).zfill(3))), image)\n",
    "    success,image = vidcap.read()\n",
    "    sys.stdout.write('\\rRead a new frame {}: {}'.format(count, success))\n",
    "    sys.stdout.flush()\n",
    "    count += 1"
   ]
  },
  {
   "cell_type": "code",
   "execution_count": null,
   "metadata": {},
   "outputs": [],
   "source": [
    "\n",
    "images_list = []\n",
    "for count in range(111, 528):\n",
    "    file_name = 'frame{}.png'.format(str(count).zfill(3))\n",
    "    file_path = os.path.join(downloads_folder, file_name)\n",
    "    images_list.append(imageio.imread(file_path))\n",
    "imageio.mimsave(os.path.join(downloads_folder, 'movie.gif'), images_list)"
   ]
  },
  {
   "cell_type": "code",
   "execution_count": null,
   "metadata": {},
   "outputs": [],
   "source": [
    "\n",
    "from IPython.display import Image\n",
    "\n",
    "Image(os.path.join(downloads_folder, 'movie.gif'))"
   ]
  },
  {
   "cell_type": "code",
   "execution_count": 15,
   "metadata": {},
   "outputs": [],
   "source": [
    "\n",
    "cv2.imwrite?"
   ]
  },
  {
   "cell_type": "code",
   "execution_count": null,
   "metadata": {},
   "outputs": [],
   "source": []
  }
 ],
 "metadata": {
  "kernelspec": {
   "display_name": "Python 3",
   "language": "python",
   "name": "python3"
  },
  "language_info": {
   "codemirror_mode": {
    "name": "ipython",
    "version": 3
   },
   "file_extension": ".py",
   "mimetype": "text/x-python",
   "name": "python",
   "nbconvert_exporter": "python",
   "pygments_lexer": "ipython3",
   "version": "3.6.4"
  }
 },
 "nbformat": 4,
 "nbformat_minor": 2
}
