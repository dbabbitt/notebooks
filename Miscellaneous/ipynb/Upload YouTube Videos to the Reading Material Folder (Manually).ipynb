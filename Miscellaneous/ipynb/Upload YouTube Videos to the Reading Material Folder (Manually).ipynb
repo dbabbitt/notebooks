{
 "cells": [
  {
   "cell_type": "code",
   "execution_count": 1,
   "metadata": {},
   "outputs": [
    {
     "name": "stdout",
     "output_type": "stream",
     "text": [
      "Requirement already satisfied: youtube_dl in c:\\users\\dev\\anaconda3\\lib\\site-packages\n"
     ]
    }
   ],
   "source": [
    "\n",
    "!pip install youtube_dl"
   ]
  },
  {
   "cell_type": "code",
   "execution_count": 3,
   "metadata": {},
   "outputs": [
    {
     "name": "stdout",
     "output_type": "stream",
     "text": [
      "ffmpeg version N-90173-gfa0c9d69d3 Copyright (c) 2000-2018 the FFmpeg developers\n",
      "built with gcc 7.3.0 (GCC)\n",
      "configuration: --enable-gpl --enable-version3 --enable-sdl2 --enable-bzlib --enable-fontconfig --enable-gnutls --enable-iconv --enable-libass --enable-libbluray --enable-libfreetype --enable-libmp3lame --enable-libopencore-amrnb --enable-libopencore-amrwb --enable-libopenjpeg --enable-libopus --enable-libshine --enable-libsnappy --enable-libsoxr --enable-libtheora --enable-libtwolame --enable-libvpx --enable-libwavpack --enable-libwebp --enable-libx264 --enable-libx265 --enable-libxml2 --enable-libzimg --enable-lzma --enable-zlib --enable-gmp --enable-libvidstab --enable-libvorbis --enable-libvo-amrwbenc --enable-libmysofa --enable-libspeex --enable-libxvid --enable-libmfx --enable-amf --enable-cuda --enable-cuvid --enable-d3d11va --enable-nvenc --enable-dxva2 --enable-avisynth\n",
      "libavutil      56.  7.101 / 56.  7.101\n",
      "libavcodec     58. 13.100 / 58. 13.100\n",
      "libavformat    58. 10.100 / 58. 10.100\n",
      "libavdevice    58.  2.100 / 58.  2.100\n",
      "libavfilter     7. 12.100 /  7. 12.100\n",
      "libswscale      5.  0.101 /  5.  0.101\n",
      "libswresample   3.  0.101 /  3.  0.101\n",
      "libpostproc    55.  0.100 / 55.  0.100\n"
     ]
    }
   ],
   "source": [
    "\n",
    "# https://github.com/adaptlearning/adapt_authoring/wiki/Installing-FFmpeg\n",
    "!ffmpeg -version"
   ]
  },
  {
   "cell_type": "code",
   "execution_count": 2,
   "metadata": {
    "scrolled": false
   },
   "outputs": [
    {
     "name": "stdout",
     "output_type": "stream",
     "text": [
      "[youtube] YWoHLcHC0oM: Downloading webpage\n",
      "[youtube] YWoHLcHC0oM: Downloading video info webpage\n",
      "[youtube] YWoHLcHC0oM: Extracting video information\n",
      "[download] Destination: C:\\Users\\dev\\Downloads\\Address To The Jung Society (Terence McKenna) [FULL]-YWoHLcHC0oM.m4a\n",
      "[download]   9.0% of 195.92MiB at  4.41MiB/s ETA 00:40 "
     ]
    },
    {
     "ename": "KeyboardInterrupt",
     "evalue": "",
     "output_type": "error",
     "traceback": [
      "\u001b[1;31m---------------------------------------------------------------------------\u001b[0m",
      "\u001b[1;31mKeyboardInterrupt\u001b[0m                         Traceback (most recent call last)",
      "\u001b[1;32m<ipython-input-2-84444845cf92>\u001b[0m in \u001b[0;36m<module>\u001b[1;34m()\u001b[0m\n\u001b[0;32m     18\u001b[0m     }\n\u001b[0;32m     19\u001b[0m \u001b[1;32mwith\u001b[0m \u001b[0myoutube_dl\u001b[0m\u001b[1;33m.\u001b[0m\u001b[0mYoutubeDL\u001b[0m\u001b[1;33m(\u001b[0m\u001b[0mydl_opts\u001b[0m\u001b[1;33m)\u001b[0m \u001b[1;32mas\u001b[0m \u001b[0mydl\u001b[0m\u001b[1;33m:\u001b[0m\u001b[1;33m\u001b[0m\u001b[0m\n\u001b[1;32m---> 20\u001b[1;33m     \u001b[0mresult\u001b[0m \u001b[1;33m=\u001b[0m \u001b[0mydl\u001b[0m\u001b[1;33m.\u001b[0m\u001b[0mdownload\u001b[0m\u001b[1;33m(\u001b[0m\u001b[0myoutube_url_list\u001b[0m\u001b[1;33m)\u001b[0m\u001b[1;33m\u001b[0m\u001b[0m\n\u001b[0m",
      "\u001b[1;32m~\\Anaconda3\\lib\\site-packages\\youtube_dl\\YoutubeDL.py\u001b[0m in \u001b[0;36mdownload\u001b[1;34m(self, url_list)\u001b[0m\n\u001b[0;32m   1987\u001b[0m                 \u001b[1;31m# It also downloads the videos\u001b[0m\u001b[1;33m\u001b[0m\u001b[1;33m\u001b[0m\u001b[0m\n\u001b[0;32m   1988\u001b[0m                 res = self.extract_info(\n\u001b[1;32m-> 1989\u001b[1;33m                     url, force_generic_extractor=self.params.get('force_generic_extractor', False))\n\u001b[0m\u001b[0;32m   1990\u001b[0m             \u001b[1;32mexcept\u001b[0m \u001b[0mUnavailableVideoError\u001b[0m\u001b[1;33m:\u001b[0m\u001b[1;33m\u001b[0m\u001b[0m\n\u001b[0;32m   1991\u001b[0m                 \u001b[0mself\u001b[0m\u001b[1;33m.\u001b[0m\u001b[0mreport_error\u001b[0m\u001b[1;33m(\u001b[0m\u001b[1;34m'unable to download video'\u001b[0m\u001b[1;33m)\u001b[0m\u001b[1;33m\u001b[0m\u001b[0m\n",
      "\u001b[1;32m~\\Anaconda3\\lib\\site-packages\\youtube_dl\\YoutubeDL.py\u001b[0m in \u001b[0;36mextract_info\u001b[1;34m(self, url, download, ie_key, extra_info, process, force_generic_extractor)\u001b[0m\n\u001b[0;32m    794\u001b[0m                 \u001b[0mself\u001b[0m\u001b[1;33m.\u001b[0m\u001b[0madd_default_extra_info\u001b[0m\u001b[1;33m(\u001b[0m\u001b[0mie_result\u001b[0m\u001b[1;33m,\u001b[0m \u001b[0mie\u001b[0m\u001b[1;33m,\u001b[0m \u001b[0murl\u001b[0m\u001b[1;33m)\u001b[0m\u001b[1;33m\u001b[0m\u001b[0m\n\u001b[0;32m    795\u001b[0m                 \u001b[1;32mif\u001b[0m \u001b[0mprocess\u001b[0m\u001b[1;33m:\u001b[0m\u001b[1;33m\u001b[0m\u001b[0m\n\u001b[1;32m--> 796\u001b[1;33m                     \u001b[1;32mreturn\u001b[0m \u001b[0mself\u001b[0m\u001b[1;33m.\u001b[0m\u001b[0mprocess_ie_result\u001b[0m\u001b[1;33m(\u001b[0m\u001b[0mie_result\u001b[0m\u001b[1;33m,\u001b[0m \u001b[0mdownload\u001b[0m\u001b[1;33m,\u001b[0m \u001b[0mextra_info\u001b[0m\u001b[1;33m)\u001b[0m\u001b[1;33m\u001b[0m\u001b[0m\n\u001b[0m\u001b[0;32m    797\u001b[0m                 \u001b[1;32melse\u001b[0m\u001b[1;33m:\u001b[0m\u001b[1;33m\u001b[0m\u001b[0m\n\u001b[0;32m    798\u001b[0m                     \u001b[1;32mreturn\u001b[0m \u001b[0mie_result\u001b[0m\u001b[1;33m\u001b[0m\u001b[0m\n",
      "\u001b[1;32m~\\Anaconda3\\lib\\site-packages\\youtube_dl\\YoutubeDL.py\u001b[0m in \u001b[0;36mprocess_ie_result\u001b[1;34m(self, ie_result, download, extra_info)\u001b[0m\n\u001b[0;32m    848\u001b[0m         \u001b[1;32mif\u001b[0m \u001b[0mresult_type\u001b[0m \u001b[1;33m==\u001b[0m \u001b[1;34m'video'\u001b[0m\u001b[1;33m:\u001b[0m\u001b[1;33m\u001b[0m\u001b[0m\n\u001b[0;32m    849\u001b[0m             \u001b[0mself\u001b[0m\u001b[1;33m.\u001b[0m\u001b[0madd_extra_info\u001b[0m\u001b[1;33m(\u001b[0m\u001b[0mie_result\u001b[0m\u001b[1;33m,\u001b[0m \u001b[0mextra_info\u001b[0m\u001b[1;33m)\u001b[0m\u001b[1;33m\u001b[0m\u001b[0m\n\u001b[1;32m--> 850\u001b[1;33m             \u001b[1;32mreturn\u001b[0m \u001b[0mself\u001b[0m\u001b[1;33m.\u001b[0m\u001b[0mprocess_video_result\u001b[0m\u001b[1;33m(\u001b[0m\u001b[0mie_result\u001b[0m\u001b[1;33m,\u001b[0m \u001b[0mdownload\u001b[0m\u001b[1;33m=\u001b[0m\u001b[0mdownload\u001b[0m\u001b[1;33m)\u001b[0m\u001b[1;33m\u001b[0m\u001b[0m\n\u001b[0m\u001b[0;32m    851\u001b[0m         \u001b[1;32melif\u001b[0m \u001b[0mresult_type\u001b[0m \u001b[1;33m==\u001b[0m \u001b[1;34m'url'\u001b[0m\u001b[1;33m:\u001b[0m\u001b[1;33m\u001b[0m\u001b[0m\n\u001b[0;32m    852\u001b[0m             \u001b[1;31m# We have to add extra_info to the results because it may be\u001b[0m\u001b[1;33m\u001b[0m\u001b[1;33m\u001b[0m\u001b[0m\n",
      "\u001b[1;32m~\\Anaconda3\\lib\\site-packages\\youtube_dl\\YoutubeDL.py\u001b[0m in \u001b[0;36mprocess_video_result\u001b[1;34m(self, info_dict, download)\u001b[0m\n\u001b[0;32m   1621\u001b[0m                 \u001b[0mnew_info\u001b[0m \u001b[1;33m=\u001b[0m \u001b[0mdict\u001b[0m\u001b[1;33m(\u001b[0m\u001b[0minfo_dict\u001b[0m\u001b[1;33m)\u001b[0m\u001b[1;33m\u001b[0m\u001b[0m\n\u001b[0;32m   1622\u001b[0m                 \u001b[0mnew_info\u001b[0m\u001b[1;33m.\u001b[0m\u001b[0mupdate\u001b[0m\u001b[1;33m(\u001b[0m\u001b[0mformat\u001b[0m\u001b[1;33m)\u001b[0m\u001b[1;33m\u001b[0m\u001b[0m\n\u001b[1;32m-> 1623\u001b[1;33m                 \u001b[0mself\u001b[0m\u001b[1;33m.\u001b[0m\u001b[0mprocess_info\u001b[0m\u001b[1;33m(\u001b[0m\u001b[0mnew_info\u001b[0m\u001b[1;33m)\u001b[0m\u001b[1;33m\u001b[0m\u001b[0m\n\u001b[0m\u001b[0;32m   1624\u001b[0m         \u001b[1;31m# We update the info dict with the best quality format (backwards compatibility)\u001b[0m\u001b[1;33m\u001b[0m\u001b[1;33m\u001b[0m\u001b[0m\n\u001b[0;32m   1625\u001b[0m         \u001b[0minfo_dict\u001b[0m\u001b[1;33m.\u001b[0m\u001b[0mupdate\u001b[0m\u001b[1;33m(\u001b[0m\u001b[0mformats_to_download\u001b[0m\u001b[1;33m[\u001b[0m\u001b[1;33m-\u001b[0m\u001b[1;36m1\u001b[0m\u001b[1;33m]\u001b[0m\u001b[1;33m)\u001b[0m\u001b[1;33m\u001b[0m\u001b[0m\n",
      "\u001b[1;32m~\\Anaconda3\\lib\\site-packages\\youtube_dl\\YoutubeDL.py\u001b[0m in \u001b[0;36mprocess_info\u001b[1;34m(self, info_dict)\u001b[0m\n\u001b[0;32m   1894\u001b[0m                 \u001b[1;32melse\u001b[0m\u001b[1;33m:\u001b[0m\u001b[1;33m\u001b[0m\u001b[0m\n\u001b[0;32m   1895\u001b[0m                     \u001b[1;31m# Just a single file\u001b[0m\u001b[1;33m\u001b[0m\u001b[1;33m\u001b[0m\u001b[0m\n\u001b[1;32m-> 1896\u001b[1;33m                     \u001b[0msuccess\u001b[0m \u001b[1;33m=\u001b[0m \u001b[0mdl\u001b[0m\u001b[1;33m(\u001b[0m\u001b[0mfilename\u001b[0m\u001b[1;33m,\u001b[0m \u001b[0minfo_dict\u001b[0m\u001b[1;33m)\u001b[0m\u001b[1;33m\u001b[0m\u001b[0m\n\u001b[0m\u001b[0;32m   1897\u001b[0m             \u001b[1;32mexcept\u001b[0m \u001b[1;33m(\u001b[0m\u001b[0mcompat_urllib_error\u001b[0m\u001b[1;33m.\u001b[0m\u001b[0mURLError\u001b[0m\u001b[1;33m,\u001b[0m \u001b[0mcompat_http_client\u001b[0m\u001b[1;33m.\u001b[0m\u001b[0mHTTPException\u001b[0m\u001b[1;33m,\u001b[0m \u001b[0msocket\u001b[0m\u001b[1;33m.\u001b[0m\u001b[0merror\u001b[0m\u001b[1;33m)\u001b[0m \u001b[1;32mas\u001b[0m \u001b[0merr\u001b[0m\u001b[1;33m:\u001b[0m\u001b[1;33m\u001b[0m\u001b[0m\n\u001b[0;32m   1898\u001b[0m                 \u001b[0mself\u001b[0m\u001b[1;33m.\u001b[0m\u001b[0mreport_error\u001b[0m\u001b[1;33m(\u001b[0m\u001b[1;34m'unable to download video data: %s'\u001b[0m \u001b[1;33m%\u001b[0m \u001b[0merror_to_compat_str\u001b[0m\u001b[1;33m(\u001b[0m\u001b[0merr\u001b[0m\u001b[1;33m)\u001b[0m\u001b[1;33m)\u001b[0m\u001b[1;33m\u001b[0m\u001b[0m\n",
      "\u001b[1;32m~\\Anaconda3\\lib\\site-packages\\youtube_dl\\YoutubeDL.py\u001b[0m in \u001b[0;36mdl\u001b[1;34m(name, info)\u001b[0m\n\u001b[0;32m   1833\u001b[0m                     \u001b[1;32mif\u001b[0m \u001b[0mself\u001b[0m\u001b[1;33m.\u001b[0m\u001b[0mparams\u001b[0m\u001b[1;33m.\u001b[0m\u001b[0mget\u001b[0m\u001b[1;33m(\u001b[0m\u001b[1;34m'verbose'\u001b[0m\u001b[1;33m)\u001b[0m\u001b[1;33m:\u001b[0m\u001b[1;33m\u001b[0m\u001b[0m\n\u001b[0;32m   1834\u001b[0m                         \u001b[0mself\u001b[0m\u001b[1;33m.\u001b[0m\u001b[0mto_stdout\u001b[0m\u001b[1;33m(\u001b[0m\u001b[1;34m'[debug] Invoking downloader on %r'\u001b[0m \u001b[1;33m%\u001b[0m \u001b[0minfo\u001b[0m\u001b[1;33m.\u001b[0m\u001b[0mget\u001b[0m\u001b[1;33m(\u001b[0m\u001b[1;34m'url'\u001b[0m\u001b[1;33m)\u001b[0m\u001b[1;33m)\u001b[0m\u001b[1;33m\u001b[0m\u001b[0m\n\u001b[1;32m-> 1835\u001b[1;33m                     \u001b[1;32mreturn\u001b[0m \u001b[0mfd\u001b[0m\u001b[1;33m.\u001b[0m\u001b[0mdownload\u001b[0m\u001b[1;33m(\u001b[0m\u001b[0mname\u001b[0m\u001b[1;33m,\u001b[0m \u001b[0minfo\u001b[0m\u001b[1;33m)\u001b[0m\u001b[1;33m\u001b[0m\u001b[0m\n\u001b[0m\u001b[0;32m   1836\u001b[0m \u001b[1;33m\u001b[0m\u001b[0m\n\u001b[0;32m   1837\u001b[0m                 \u001b[1;32mif\u001b[0m \u001b[0minfo_dict\u001b[0m\u001b[1;33m.\u001b[0m\u001b[0mget\u001b[0m\u001b[1;33m(\u001b[0m\u001b[1;34m'requested_formats'\u001b[0m\u001b[1;33m)\u001b[0m \u001b[1;32mis\u001b[0m \u001b[1;32mnot\u001b[0m \u001b[1;32mNone\u001b[0m\u001b[1;33m:\u001b[0m\u001b[1;33m\u001b[0m\u001b[0m\n",
      "\u001b[1;32m~\\Anaconda3\\lib\\site-packages\\youtube_dl\\downloader\\common.py\u001b[0m in \u001b[0;36mdownload\u001b[1;34m(self, filename, info_dict)\u001b[0m\n\u001b[0;32m    362\u001b[0m             \u001b[0mtime\u001b[0m\u001b[1;33m.\u001b[0m\u001b[0msleep\u001b[0m\u001b[1;33m(\u001b[0m\u001b[0msleep_interval\u001b[0m\u001b[1;33m)\u001b[0m\u001b[1;33m\u001b[0m\u001b[0m\n\u001b[0;32m    363\u001b[0m \u001b[1;33m\u001b[0m\u001b[0m\n\u001b[1;32m--> 364\u001b[1;33m         \u001b[1;32mreturn\u001b[0m \u001b[0mself\u001b[0m\u001b[1;33m.\u001b[0m\u001b[0mreal_download\u001b[0m\u001b[1;33m(\u001b[0m\u001b[0mfilename\u001b[0m\u001b[1;33m,\u001b[0m \u001b[0minfo_dict\u001b[0m\u001b[1;33m)\u001b[0m\u001b[1;33m\u001b[0m\u001b[0m\n\u001b[0m\u001b[0;32m    365\u001b[0m \u001b[1;33m\u001b[0m\u001b[0m\n\u001b[0;32m    366\u001b[0m     \u001b[1;32mdef\u001b[0m \u001b[0mreal_download\u001b[0m\u001b[1;33m(\u001b[0m\u001b[0mself\u001b[0m\u001b[1;33m,\u001b[0m \u001b[0mfilename\u001b[0m\u001b[1;33m,\u001b[0m \u001b[0minfo_dict\u001b[0m\u001b[1;33m)\u001b[0m\u001b[1;33m:\u001b[0m\u001b[1;33m\u001b[0m\u001b[0m\n",
      "\u001b[1;32m~\\Anaconda3\\lib\\site-packages\\youtube_dl\\downloader\\http.py\u001b[0m in \u001b[0;36mreal_download\u001b[1;34m(self, filename, info_dict)\u001b[0m\n\u001b[0;32m    339\u001b[0m             \u001b[1;32mtry\u001b[0m\u001b[1;33m:\u001b[0m\u001b[1;33m\u001b[0m\u001b[0m\n\u001b[0;32m    340\u001b[0m                 \u001b[0mestablish_connection\u001b[0m\u001b[1;33m(\u001b[0m\u001b[1;33m)\u001b[0m\u001b[1;33m\u001b[0m\u001b[0m\n\u001b[1;32m--> 341\u001b[1;33m                 \u001b[1;32mreturn\u001b[0m \u001b[0mdownload\u001b[0m\u001b[1;33m(\u001b[0m\u001b[1;33m)\u001b[0m\u001b[1;33m\u001b[0m\u001b[0m\n\u001b[0m\u001b[0;32m    342\u001b[0m             \u001b[1;32mexcept\u001b[0m \u001b[0mRetryDownload\u001b[0m \u001b[1;32mas\u001b[0m \u001b[0me\u001b[0m\u001b[1;33m:\u001b[0m\u001b[1;33m\u001b[0m\u001b[0m\n\u001b[0;32m    343\u001b[0m                 \u001b[0mcount\u001b[0m \u001b[1;33m+=\u001b[0m \u001b[1;36m1\u001b[0m\u001b[1;33m\u001b[0m\u001b[0m\n",
      "\u001b[1;32m~\\Anaconda3\\lib\\site-packages\\youtube_dl\\downloader\\http.py\u001b[0m in \u001b[0;36mdownload\u001b[1;34m()\u001b[0m\n\u001b[0;32m    227\u001b[0m                 \u001b[1;32mtry\u001b[0m\u001b[1;33m:\u001b[0m\u001b[1;33m\u001b[0m\u001b[0m\n\u001b[0;32m    228\u001b[0m                     \u001b[1;31m# Download and write\u001b[0m\u001b[1;33m\u001b[0m\u001b[1;33m\u001b[0m\u001b[0m\n\u001b[1;32m--> 229\u001b[1;33m                     \u001b[0mdata_block\u001b[0m \u001b[1;33m=\u001b[0m \u001b[0mctx\u001b[0m\u001b[1;33m.\u001b[0m\u001b[0mdata\u001b[0m\u001b[1;33m.\u001b[0m\u001b[0mread\u001b[0m\u001b[1;33m(\u001b[0m\u001b[0mblock_size\u001b[0m \u001b[1;32mif\u001b[0m \u001b[1;32mnot\u001b[0m \u001b[0mis_test\u001b[0m \u001b[1;32melse\u001b[0m \u001b[0mmin\u001b[0m\u001b[1;33m(\u001b[0m\u001b[0mblock_size\u001b[0m\u001b[1;33m,\u001b[0m \u001b[0mdata_len\u001b[0m \u001b[1;33m-\u001b[0m \u001b[0mbyte_counter\u001b[0m\u001b[1;33m)\u001b[0m\u001b[1;33m)\u001b[0m\u001b[1;33m\u001b[0m\u001b[0m\n\u001b[0m\u001b[0;32m    230\u001b[0m                 \u001b[1;31m# socket.timeout is a subclass of socket.error but may not have\u001b[0m\u001b[1;33m\u001b[0m\u001b[1;33m\u001b[0m\u001b[0m\n\u001b[0;32m    231\u001b[0m                 \u001b[1;31m# errno set\u001b[0m\u001b[1;33m\u001b[0m\u001b[1;33m\u001b[0m\u001b[0m\n",
      "\u001b[1;32m~\\Anaconda3\\lib\\http\\client.py\u001b[0m in \u001b[0;36mread\u001b[1;34m(self, amt)\u001b[0m\n\u001b[0;32m    447\u001b[0m             \u001b[1;31m# Amount is given, implement using readinto\u001b[0m\u001b[1;33m\u001b[0m\u001b[1;33m\u001b[0m\u001b[0m\n\u001b[0;32m    448\u001b[0m             \u001b[0mb\u001b[0m \u001b[1;33m=\u001b[0m \u001b[0mbytearray\u001b[0m\u001b[1;33m(\u001b[0m\u001b[0mamt\u001b[0m\u001b[1;33m)\u001b[0m\u001b[1;33m\u001b[0m\u001b[0m\n\u001b[1;32m--> 449\u001b[1;33m             \u001b[0mn\u001b[0m \u001b[1;33m=\u001b[0m \u001b[0mself\u001b[0m\u001b[1;33m.\u001b[0m\u001b[0mreadinto\u001b[0m\u001b[1;33m(\u001b[0m\u001b[0mb\u001b[0m\u001b[1;33m)\u001b[0m\u001b[1;33m\u001b[0m\u001b[0m\n\u001b[0m\u001b[0;32m    450\u001b[0m             \u001b[1;32mreturn\u001b[0m \u001b[0mmemoryview\u001b[0m\u001b[1;33m(\u001b[0m\u001b[0mb\u001b[0m\u001b[1;33m)\u001b[0m\u001b[1;33m[\u001b[0m\u001b[1;33m:\u001b[0m\u001b[0mn\u001b[0m\u001b[1;33m]\u001b[0m\u001b[1;33m.\u001b[0m\u001b[0mtobytes\u001b[0m\u001b[1;33m(\u001b[0m\u001b[1;33m)\u001b[0m\u001b[1;33m\u001b[0m\u001b[0m\n\u001b[0;32m    451\u001b[0m         \u001b[1;32melse\u001b[0m\u001b[1;33m:\u001b[0m\u001b[1;33m\u001b[0m\u001b[0m\n",
      "\u001b[1;32m~\\Anaconda3\\lib\\http\\client.py\u001b[0m in \u001b[0;36mreadinto\u001b[1;34m(self, b)\u001b[0m\n\u001b[0;32m    491\u001b[0m         \u001b[1;31m# connection, and the user is reading more bytes than will be provided\u001b[0m\u001b[1;33m\u001b[0m\u001b[1;33m\u001b[0m\u001b[0m\n\u001b[0;32m    492\u001b[0m         \u001b[1;31m# (for example, reading in 1k chunks)\u001b[0m\u001b[1;33m\u001b[0m\u001b[1;33m\u001b[0m\u001b[0m\n\u001b[1;32m--> 493\u001b[1;33m         \u001b[0mn\u001b[0m \u001b[1;33m=\u001b[0m \u001b[0mself\u001b[0m\u001b[1;33m.\u001b[0m\u001b[0mfp\u001b[0m\u001b[1;33m.\u001b[0m\u001b[0mreadinto\u001b[0m\u001b[1;33m(\u001b[0m\u001b[0mb\u001b[0m\u001b[1;33m)\u001b[0m\u001b[1;33m\u001b[0m\u001b[0m\n\u001b[0m\u001b[0;32m    494\u001b[0m         \u001b[1;32mif\u001b[0m \u001b[1;32mnot\u001b[0m \u001b[0mn\u001b[0m \u001b[1;32mand\u001b[0m \u001b[0mb\u001b[0m\u001b[1;33m:\u001b[0m\u001b[1;33m\u001b[0m\u001b[0m\n\u001b[0;32m    495\u001b[0m             \u001b[1;31m# Ideally, we would raise IncompleteRead if the content-length\u001b[0m\u001b[1;33m\u001b[0m\u001b[1;33m\u001b[0m\u001b[0m\n",
      "\u001b[1;32m~\\Anaconda3\\lib\\socket.py\u001b[0m in \u001b[0;36mreadinto\u001b[1;34m(self, b)\u001b[0m\n\u001b[0;32m    584\u001b[0m         \u001b[1;32mwhile\u001b[0m \u001b[1;32mTrue\u001b[0m\u001b[1;33m:\u001b[0m\u001b[1;33m\u001b[0m\u001b[0m\n\u001b[0;32m    585\u001b[0m             \u001b[1;32mtry\u001b[0m\u001b[1;33m:\u001b[0m\u001b[1;33m\u001b[0m\u001b[0m\n\u001b[1;32m--> 586\u001b[1;33m                 \u001b[1;32mreturn\u001b[0m \u001b[0mself\u001b[0m\u001b[1;33m.\u001b[0m\u001b[0m_sock\u001b[0m\u001b[1;33m.\u001b[0m\u001b[0mrecv_into\u001b[0m\u001b[1;33m(\u001b[0m\u001b[0mb\u001b[0m\u001b[1;33m)\u001b[0m\u001b[1;33m\u001b[0m\u001b[0m\n\u001b[0m\u001b[0;32m    587\u001b[0m             \u001b[1;32mexcept\u001b[0m \u001b[0mtimeout\u001b[0m\u001b[1;33m:\u001b[0m\u001b[1;33m\u001b[0m\u001b[0m\n\u001b[0;32m    588\u001b[0m                 \u001b[0mself\u001b[0m\u001b[1;33m.\u001b[0m\u001b[0m_timeout_occurred\u001b[0m \u001b[1;33m=\u001b[0m \u001b[1;32mTrue\u001b[0m\u001b[1;33m\u001b[0m\u001b[0m\n",
      "\u001b[1;32m~\\Anaconda3\\lib\\ssl.py\u001b[0m in \u001b[0;36mrecv_into\u001b[1;34m(self, buffer, nbytes, flags)\u001b[0m\n\u001b[0;32m   1007\u001b[0m                   \u001b[1;34m\"non-zero flags not allowed in calls to recv_into() on %s\"\u001b[0m \u001b[1;33m%\u001b[0m\u001b[1;33m\u001b[0m\u001b[0m\n\u001b[0;32m   1008\u001b[0m                   self.__class__)\n\u001b[1;32m-> 1009\u001b[1;33m             \u001b[1;32mreturn\u001b[0m \u001b[0mself\u001b[0m\u001b[1;33m.\u001b[0m\u001b[0mread\u001b[0m\u001b[1;33m(\u001b[0m\u001b[0mnbytes\u001b[0m\u001b[1;33m,\u001b[0m \u001b[0mbuffer\u001b[0m\u001b[1;33m)\u001b[0m\u001b[1;33m\u001b[0m\u001b[0m\n\u001b[0m\u001b[0;32m   1010\u001b[0m         \u001b[1;32melse\u001b[0m\u001b[1;33m:\u001b[0m\u001b[1;33m\u001b[0m\u001b[0m\n\u001b[0;32m   1011\u001b[0m             \u001b[1;32mreturn\u001b[0m \u001b[0msocket\u001b[0m\u001b[1;33m.\u001b[0m\u001b[0mrecv_into\u001b[0m\u001b[1;33m(\u001b[0m\u001b[0mself\u001b[0m\u001b[1;33m,\u001b[0m \u001b[0mbuffer\u001b[0m\u001b[1;33m,\u001b[0m \u001b[0mnbytes\u001b[0m\u001b[1;33m,\u001b[0m \u001b[0mflags\u001b[0m\u001b[1;33m)\u001b[0m\u001b[1;33m\u001b[0m\u001b[0m\n",
      "\u001b[1;32m~\\Anaconda3\\lib\\ssl.py\u001b[0m in \u001b[0;36mread\u001b[1;34m(self, len, buffer)\u001b[0m\n\u001b[0;32m    869\u001b[0m             \u001b[1;32mraise\u001b[0m \u001b[0mValueError\u001b[0m\u001b[1;33m(\u001b[0m\u001b[1;34m\"Read on closed or unwrapped SSL socket.\"\u001b[0m\u001b[1;33m)\u001b[0m\u001b[1;33m\u001b[0m\u001b[0m\n\u001b[0;32m    870\u001b[0m         \u001b[1;32mtry\u001b[0m\u001b[1;33m:\u001b[0m\u001b[1;33m\u001b[0m\u001b[0m\n\u001b[1;32m--> 871\u001b[1;33m             \u001b[1;32mreturn\u001b[0m \u001b[0mself\u001b[0m\u001b[1;33m.\u001b[0m\u001b[0m_sslobj\u001b[0m\u001b[1;33m.\u001b[0m\u001b[0mread\u001b[0m\u001b[1;33m(\u001b[0m\u001b[0mlen\u001b[0m\u001b[1;33m,\u001b[0m \u001b[0mbuffer\u001b[0m\u001b[1;33m)\u001b[0m\u001b[1;33m\u001b[0m\u001b[0m\n\u001b[0m\u001b[0;32m    872\u001b[0m         \u001b[1;32mexcept\u001b[0m \u001b[0mSSLError\u001b[0m \u001b[1;32mas\u001b[0m \u001b[0mx\u001b[0m\u001b[1;33m:\u001b[0m\u001b[1;33m\u001b[0m\u001b[0m\n\u001b[0;32m    873\u001b[0m             \u001b[1;32mif\u001b[0m \u001b[0mx\u001b[0m\u001b[1;33m.\u001b[0m\u001b[0margs\u001b[0m\u001b[1;33m[\u001b[0m\u001b[1;36m0\u001b[0m\u001b[1;33m]\u001b[0m \u001b[1;33m==\u001b[0m \u001b[0mSSL_ERROR_EOF\u001b[0m \u001b[1;32mand\u001b[0m \u001b[0mself\u001b[0m\u001b[1;33m.\u001b[0m\u001b[0msuppress_ragged_eofs\u001b[0m\u001b[1;33m:\u001b[0m\u001b[1;33m\u001b[0m\u001b[0m\n",
      "\u001b[1;32m~\\Anaconda3\\lib\\ssl.py\u001b[0m in \u001b[0;36mread\u001b[1;34m(self, len, buffer)\u001b[0m\n\u001b[0;32m    629\u001b[0m         \"\"\"\n\u001b[0;32m    630\u001b[0m         \u001b[1;32mif\u001b[0m \u001b[0mbuffer\u001b[0m \u001b[1;32mis\u001b[0m \u001b[1;32mnot\u001b[0m \u001b[1;32mNone\u001b[0m\u001b[1;33m:\u001b[0m\u001b[1;33m\u001b[0m\u001b[0m\n\u001b[1;32m--> 631\u001b[1;33m             \u001b[0mv\u001b[0m \u001b[1;33m=\u001b[0m \u001b[0mself\u001b[0m\u001b[1;33m.\u001b[0m\u001b[0m_sslobj\u001b[0m\u001b[1;33m.\u001b[0m\u001b[0mread\u001b[0m\u001b[1;33m(\u001b[0m\u001b[0mlen\u001b[0m\u001b[1;33m,\u001b[0m \u001b[0mbuffer\u001b[0m\u001b[1;33m)\u001b[0m\u001b[1;33m\u001b[0m\u001b[0m\n\u001b[0m\u001b[0;32m    632\u001b[0m         \u001b[1;32melse\u001b[0m\u001b[1;33m:\u001b[0m\u001b[1;33m\u001b[0m\u001b[0m\n\u001b[0;32m    633\u001b[0m             \u001b[0mv\u001b[0m \u001b[1;33m=\u001b[0m \u001b[0mself\u001b[0m\u001b[1;33m.\u001b[0m\u001b[0m_sslobj\u001b[0m\u001b[1;33m.\u001b[0m\u001b[0mread\u001b[0m\u001b[1;33m(\u001b[0m\u001b[0mlen\u001b[0m\u001b[1;33m)\u001b[0m\u001b[1;33m\u001b[0m\u001b[0m\n",
      "\u001b[1;31mKeyboardInterrupt\u001b[0m: "
     ]
    }
   ],
   "source": [
    "\n",
    "import youtube_dl\n",
    "\n",
    "youtube_url_list = ['https://www.youtube.com/watch?v=YWoHLcHC0oM', 'https://www.youtube.com/watch?v=uZuXiJrAwq4',\n",
    "                    'https://www.youtube.com/watch?v=FL6756VlU7E', 'https://www.youtube.com/watch?v=WU4TwE7us3k',\n",
    "                    'https://www.youtube.com/watch?v=tA0lHjh174k', 'https://www.youtube.com/watch?v=tA0lHjh174k',\n",
    "                    'https://www.youtube.com/watch?v=jizlM2z3QkE', 'https://www.youtube.com/watch?v=HujAcJ-OF5M',\n",
    "                    'https://www.youtube.com/watch?v=w0TwPma4A2c', 'https://www.youtube.com/watch?v=oUcdDfmjoTQ']\n",
    "downloads_folder = 'C:\\\\Users\\\\dev\\\\Downloads\\\\'\n",
    "ydl_opts = {\n",
    "    'format': 'bestaudio/best',\n",
    "    'nocheckcertificate': False,\n",
    "    'outtmpl': downloads_folder+youtube_dl.DEFAULT_OUTTMPL,\n",
    "    'postprocessors': [{'key': 'FFmpegExtractAudio',\n",
    "                       'preferredcodec': 'mp3',\n",
    "                       'preferredquality': '192'}],\n",
    "    'verbose': False,\n",
    "    }\n",
    "with youtube_dl.YoutubeDL(ydl_opts) as ydl:\n",
    "    result = ydl.download(youtube_url_list)"
   ]
  },
  {
   "cell_type": "code",
   "execution_count": 5,
   "metadata": {},
   "outputs": [
    {
     "name": "stdout",
     "output_type": "stream",
     "text": [
      "Collecting pydrive\n",
      "  Downloading PyDrive-1.3.1.tar.gz (987kB)\n",
      "Collecting google-api-python-client>=1.2 (from pydrive)\n",
      "  Downloading google_api_python_client-1.6.5-py2.py3-none-any.whl (53kB)\n",
      "Collecting oauth2client>=4.0.0 (from pydrive)\n",
      "  Downloading oauth2client-4.1.2-py2.py3-none-any.whl (99kB)\n",
      "Requirement already satisfied: PyYAML>=3.0 in c:\\users\\dev\\anaconda3\\lib\\site-packages (from pydrive)\n",
      "Requirement already satisfied: six<2dev,>=1.6.1 in c:\\users\\dev\\anaconda3\\lib\\site-packages (from google-api-python-client>=1.2->pydrive)\n",
      "Collecting uritemplate<4dev,>=3.0.0 (from google-api-python-client>=1.2->pydrive)\n",
      "  Downloading uritemplate-3.0.0-py2.py3-none-any.whl\n",
      "Collecting httplib2<1dev,>=0.9.2 (from google-api-python-client>=1.2->pydrive)\n",
      "  Downloading httplib2-0.10.3.tar.gz (204kB)\n",
      "Collecting pyasn1-modules>=0.0.5 (from oauth2client>=4.0.0->pydrive)\n",
      "  Downloading pyasn1_modules-0.2.1-py2.py3-none-any.whl (60kB)\n",
      "Collecting pyasn1>=0.1.7 (from oauth2client>=4.0.0->pydrive)\n",
      "  Downloading pyasn1-0.4.2-py2.py3-none-any.whl (71kB)\n",
      "Collecting rsa>=3.1.4 (from oauth2client>=4.0.0->pydrive)\n",
      "  Downloading rsa-3.4.2-py2.py3-none-any.whl (46kB)\n",
      "Building wheels for collected packages: pydrive, httplib2\n",
      "  Running setup.py bdist_wheel for pydrive: started\n",
      "  Running setup.py bdist_wheel for pydrive: finished with status 'done'\n",
      "  Stored in directory: C:\\Users\\dev\\AppData\\Local\\pip\\Cache\\wheels\\ea\\bd\\b1\\14e948c56cce2c7ac1589346cb54d7efb659fa2ddfa6abba88\n",
      "  Running setup.py bdist_wheel for httplib2: started\n",
      "  Running setup.py bdist_wheel for httplib2: finished with status 'done'\n",
      "  Stored in directory: C:\\Users\\dev\\AppData\\Local\\pip\\Cache\\wheels\\ca\\ac\\5f\\749651f7925b231103f5316cacca82a487810c22d30f011c0c\n",
      "Successfully built pydrive httplib2\n",
      "Installing collected packages: pyasn1, pyasn1-modules, rsa, httplib2, oauth2client, uritemplate, google-api-python-client, pydrive\n",
      "Successfully installed google-api-python-client-1.6.5 httplib2-0.10.3 oauth2client-4.1.2 pyasn1-0.4.2 pyasn1-modules-0.2.1 pydrive-1.3.1 rsa-3.4.2 uritemplate-3.0.0\n"
     ]
    }
   ],
   "source": [
    "\n",
    "!pip install pydrive"
   ]
  },
  {
   "cell_type": "code",
   "execution_count": 6,
   "metadata": {},
   "outputs": [],
   "source": [
    "\n",
    "!start %windir%\\explorer.exe \"C:\\Users\\dev\\Documents\\repositories\\notebooks\\Miscellaneous\\json\""
   ]
  },
  {
   "cell_type": "code",
   "execution_count": 3,
   "metadata": {},
   "outputs": [
    {
     "name": "stdout",
     "output_type": "stream",
     "text": [
      "Your browser has been opened to visit:\n",
      "\n",
      "    https://accounts.google.com/o/oauth2/auth?redirect_uri=http%3A%2F%2Flocalhost%3A8080%2F&scope=https%3A%2F%2Fwww.googleapis.com%2Fauth%2Fdrive&access_type=offline&response_type=code\n",
      "\n",
      "Authentication successful.\n"
     ]
    }
   ],
   "source": [
    "\n",
    "from pydrive.auth import GoogleAuth\n",
    "\n",
    "# The URL that gets displeyed here is not suitable for public consumption\n",
    "GoogleAuth.DEFAULT_SETTINGS['client_config_file'] = r'../json/client_secrets.json'\n",
    "gauth = GoogleAuth()\n",
    "gauth.LocalWebserverAuth()"
   ]
  },
  {
   "cell_type": "code",
   "execution_count": 4,
   "metadata": {},
   "outputs": [],
   "source": [
    "\n",
    "from pydrive.drive import GoogleDrive\n",
    "\n",
    "# Create GoogleDrive instance with authenticated GoogleAuth instance\n",
    "drive = GoogleDrive(gauth)\n",
    "\n",
    "# ID of the \"Reading Material\" folder\n",
    "tgt_folder_id = '1syfUx6jukbW1CWIEy8xoM9veGGr5MBUh'"
   ]
  },
  {
   "cell_type": "code",
   "execution_count": 5,
   "metadata": {},
   "outputs": [
    {
     "name": "stdout",
     "output_type": "stream",
     "text": [
      "Uploaded How Jordan Peterson Undermines the Subtraction story and leaves the door open for God-HujAcJ-OF5M.mp3 (audio/mp3)\n"
     ]
    }
   ],
   "source": [
    "\n",
    "import os\n",
    "\n",
    "# Upload all mp3s from the Downloads folder to Google Drive's \"Reading Material\" folder\n",
    "gfile_dict = {}\n",
    "for subdir, dirs, files in os.walk(downloads_folder):\n",
    "    for src_file in files:\n",
    "        if src_file.endswith('.mp3'):\n",
    "            src_path = os.path.join(subdir, src_file)\n",
    "            gfile_dict[src_file] = drive.CreateFile({'title':src_file, 'mimeType':'audio/mp3',\n",
    "                                                     'parents': [{'kind': 'drive#fileLink',\n",
    "                                                                  'id': tgt_folder_id}]})\n",
    "\n",
    "            # Read mp3 file and set it as a content of this instance.\n",
    "            gfile_dict[src_file].SetContentFile(src_path)\n",
    "            \n",
    "            # Upload the file\n",
    "            try:\n",
    "                gfile_dict[src_file].Upload()\n",
    "                print('Uploaded %s (%s)' % (gfile_dict[src_file]['title'],\n",
    "                                            gfile_dict[src_file]['mimeType']))\n",
    "            except Exception as e:\n",
    "                print('Upload failed for %s (%s): %s' % (gfile_dict[src_file]['title'],\n",
    "                                                         gfile_dict[src_file]['mimeType'], e))"
   ]
  },
  {
   "cell_type": "markdown",
   "metadata": {},
   "source": [
    "\n",
    "Download the mp3s to Voice Dream before you run the next cell."
   ]
  },
  {
   "cell_type": "code",
   "execution_count": 10,
   "metadata": {},
   "outputs": [
    {
     "name": "stdout",
     "output_type": "stream",
     "text": [
      "Trashed Address To The Jung Society (Terence McKenna) [FULL]-YWoHLcHC0oM.mp3 (audio/mp3)\n",
      "Trashed Ben Shapiro - This Guy Has Got To Go!-FL6756VlU7E.mp3 (audio/mp3)\n",
      "Trashed Discussing Free Speech and Pepe the Frog with D. Jared Brown-WU4TwE7us3k.mp3 (audio/mp3)\n",
      "Trash failed for How Jordan Peterson Undermines the Subtraction story and leaves the door open for God-HujAcJ-OF5M.mp3 (audio/mp3): \n",
      "Trashed Jordan Peterson - Engineering your life-jizlM2z3QkE.mp3 (audio/mp3)\n",
      "Trashed Sacred Art in Secular Terms-oUcdDfmjoTQ.mp3 (audio/mp3)\n",
      "Trashed Symbolism in Folk Stories _ The Cosmic Significance of Puss in Boots.-uZuXiJrAwq4.mp3 (audio/mp3)\n",
      "Trashed Waking Up with Sam Harris # 118 - The View From Trumpistan (with Preet Bharara)-tA0lHjh174k.mp3 (audio/mp3)\n",
      "Trashed Waking Up with Sam Harris #117 - Networks, Power, and Chaos (with Niall Ferguson)-w0TwPma4A2c.mp3 (audio/mp3)\n"
     ]
    }
   ],
   "source": [
    "\n",
    "import os\n",
    "\n",
    "# Trash all mp3s from Google Drive's \"Reading Material\" folder\n",
    "for subdir, dirs, files in os.walk(downloads_folder):\n",
    "    for src_file in files:\n",
    "        if src_file.endswith('.mp3'):\n",
    "            src_path = os.path.join(subdir, src_file)\n",
    "\n",
    "            # Trash mp3 file\n",
    "            try:\n",
    "                gfile_dict[src_file].Trash()\n",
    "                print('Trashed %s (%s)' % (gfile_dict[src_file]['title'],\n",
    "                                           gfile_dict[src_file]['mimeType']))\n",
    "            except Exception as e:\n",
    "                print('Trash failed for %s (%s): %s' % (gfile_dict[src_file]['title'],\n",
    "                                                        gfile_dict[src_file]['mimeType'], e))"
   ]
  },
  {
   "cell_type": "markdown",
   "metadata": {},
   "source": [
    "\n",
    "Make sure line 286 of C:\\Users\\dev\\Anaconda3\\Lib\\site-packages\\pydrive\\files.py reads <code>self.content.close()</code> before you run the next cell."
   ]
  },
  {
   "cell_type": "code",
   "execution_count": null,
   "metadata": {},
   "outputs": [],
   "source": [
    "\n",
    "!\"C:\\Program Files\\Notepad++\\notepad++.exe\" \"C:\\Users\\dev\\Anaconda3\\Lib\\site-packages\\pydrive\\files.py\""
   ]
  },
  {
   "cell_type": "code",
   "execution_count": 1,
   "metadata": {},
   "outputs": [],
   "source": [
    "\n",
    "import os\n",
    "\n",
    "# Delete all mp3s in the Downloads folder\n",
    "downloads_folder = 'C:\\\\Users\\\\dev\\\\Downloads\\\\'\n",
    "for subdir, dirs, files in os.walk(downloads_folder):\n",
    "    for src_file in files:\n",
    "        if src_file.endswith('.mp3'):\n",
    "            src_path = os.path.join(subdir, src_file)\n",
    "            \n",
    "            # Delete the file\n",
    "            try:\n",
    "                os.remove(src_path)\n",
    "                print('Deleted %s' % src_file)\n",
    "            except Exception as e:\n",
    "                print('Failed to delete %s: %s' % (src_file, e))"
   ]
  },
  {
   "cell_type": "code",
   "execution_count": null,
   "metadata": {
    "collapsed": true
   },
   "outputs": [],
   "source": []
  }
 ],
 "metadata": {
  "anaconda-cloud": {},
  "kernelspec": {
   "display_name": "Python 3",
   "language": "python",
   "name": "python3"
  },
  "language_info": {
   "codemirror_mode": {
    "name": "ipython",
    "version": 3
   },
   "file_extension": ".py",
   "mimetype": "text/x-python",
   "name": "python",
   "nbconvert_exporter": "python",
   "pygments_lexer": "ipython3",
   "version": "3.6.4"
  }
 },
 "nbformat": 4,
 "nbformat_minor": 2
}
