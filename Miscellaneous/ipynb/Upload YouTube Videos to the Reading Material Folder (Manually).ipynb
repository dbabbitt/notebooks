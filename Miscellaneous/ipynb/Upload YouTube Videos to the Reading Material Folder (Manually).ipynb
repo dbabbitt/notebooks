{
 "cells": [
  {
   "cell_type": "code",
   "execution_count": 28,
   "metadata": {},
   "outputs": [],
   "source": [
    "\n",
    "!pip install --quiet youtube_dl"
   ]
  },
  {
   "cell_type": "code",
   "execution_count": 3,
   "metadata": {},
   "outputs": [
    {
     "name": "stdout",
     "output_type": "stream",
     "text": [
      "ffmpeg version N-90173-gfa0c9d69d3 Copyright (c) 2000-2018 the FFmpeg developers\n",
      "built with gcc 7.3.0 (GCC)\n",
      "configuration: --enable-gpl --enable-version3 --enable-sdl2 --enable-bzlib --enable-fontconfig --enable-gnutls --enable-iconv --enable-libass --enable-libbluray --enable-libfreetype --enable-libmp3lame --enable-libopencore-amrnb --enable-libopencore-amrwb --enable-libopenjpeg --enable-libopus --enable-libshine --enable-libsnappy --enable-libsoxr --enable-libtheora --enable-libtwolame --enable-libvpx --enable-libwavpack --enable-libwebp --enable-libx264 --enable-libx265 --enable-libxml2 --enable-libzimg --enable-lzma --enable-zlib --enable-gmp --enable-libvidstab --enable-libvorbis --enable-libvo-amrwbenc --enable-libmysofa --enable-libspeex --enable-libxvid --enable-libmfx --enable-amf --enable-cuda --enable-cuvid --enable-d3d11va --enable-nvenc --enable-dxva2 --enable-avisynth\n",
      "libavutil      56.  7.101 / 56.  7.101\n",
      "libavcodec     58. 13.100 / 58. 13.100\n",
      "libavformat    58. 10.100 / 58. 10.100\n",
      "libavdevice    58.  2.100 / 58.  2.100\n",
      "libavfilter     7. 12.100 /  7. 12.100\n",
      "libswscale      5.  0.101 /  5.  0.101\n",
      "libswresample   3.  0.101 /  3.  0.101\n",
      "libpostproc    55.  0.100 / 55.  0.100\n"
     ]
    }
   ],
   "source": [
    "\n",
    "# https://github.com/adaptlearning/adapt_authoring/wiki/Installing-FFmpeg\n",
    "!ffmpeg -version"
   ]
  },
  {
   "cell_type": "code",
   "execution_count": 15,
   "metadata": {
    "scrolled": false
   },
   "outputs": [
    {
     "name": "stdout",
     "output_type": "stream",
     "text": [
      "[youtube] Sc_7yFqrkyM: Downloading webpage\n",
      "[youtube] Sc_7yFqrkyM: Downloading video info webpage\n",
      "[youtube] Sc_7yFqrkyM: Extracting video information\n",
      "[download] Destination: C:\\Users\\dev\\Downloads\\Why You Need to Identify your Failures in Order to Succeed _ Jordan B Peterson on the Jocko Podcast-Sc_7yFqrkyM.m4a\n",
      "[download] 100% of 2.35MiB in 00:00                  \n",
      "[ffmpeg] Correcting container in \"C:\\Users\\dev\\Downloads\\Why You Need to Identify your Failures in Order to Succeed _ Jordan B Peterson on the Jocko Podcast-Sc_7yFqrkyM.m4a\"\n",
      "[ffmpeg] Destination: C:\\Users\\dev\\Downloads\\Why You Need to Identify your Failures in Order to Succeed _ Jordan B Peterson on the Jocko Podcast-Sc_7yFqrkyM.mp3\n",
      "Deleting original file C:\\Users\\dev\\Downloads\\Why You Need to Identify your Failures in Order to Succeed _ Jordan B Peterson on the Jocko Podcast-Sc_7yFqrkyM.m4a (pass -k to keep)\n",
      "[youtube] qyYHCxznWY8: Downloading webpage\n",
      "[youtube] qyYHCxznWY8: Downloading video info webpage\n",
      "[youtube] qyYHCxznWY8: Extracting video information\n",
      "[download] Destination: C:\\Users\\dev\\Downloads\\Adam Neely on YouTube and the Future of Music-qyYHCxznWY8.webm\n",
      "[download] 100% of 55.12MiB in 00:07                  \n",
      "[ffmpeg] Destination: C:\\Users\\dev\\Downloads\\Adam Neely on YouTube and the Future of Music-qyYHCxznWY8.mp3\n",
      "Deleting original file C:\\Users\\dev\\Downloads\\Adam Neely on YouTube and the Future of Music-qyYHCxznWY8.webm (pass -k to keep)\n",
      "Conversion completed.\n"
     ]
    }
   ],
   "source": [
    "\n",
    "import youtube_dl\n",
    "\n",
    "youtube_url_list = ['https://www.youtube.com/watch?v=Sc_7yFqrkyM', 'https://www.youtube.com/watch?v=qyYHCxznWY8']\n",
    "downloads_folder = 'C:\\\\Users\\\\dev\\\\Downloads\\\\'\n",
    "ydl_opts = {\n",
    "    'format': 'bestaudio/best',\n",
    "    'nocheckcertificate': False,\n",
    "    'outtmpl': downloads_folder+youtube_dl.DEFAULT_OUTTMPL,\n",
    "    'postprocessors': [{'key': 'FFmpegExtractAudio',\n",
    "                       'preferredcodec': 'mp3',\n",
    "                       'preferredquality': '192'}],\n",
    "    'verbose': False,\n",
    "    }\n",
    "with youtube_dl.YoutubeDL(ydl_opts) as ydl:\n",
    "    try:\n",
    "        result = ydl.download(youtube_url_list)\n",
    "    except Exception as e:\n",
    "        print(e)\n",
    "print('Conversion completed.')"
   ]
  },
  {
   "cell_type": "code",
   "execution_count": 27,
   "metadata": {},
   "outputs": [],
   "source": [
    "\n",
    "!pip install --quiet pydrive"
   ]
  },
  {
   "cell_type": "code",
   "execution_count": 6,
   "metadata": {},
   "outputs": [],
   "source": [
    "\n",
    "!start %windir%\\explorer.exe \"C:\\Users\\dev\\Documents\\repositories\\notebooks\\Miscellaneous\\json\""
   ]
  },
  {
   "cell_type": "code",
   "execution_count": 16,
   "metadata": {},
   "outputs": [
    {
     "name": "stdout",
     "output_type": "stream",
     "text": [
      "Your browser has been opened to visit:\n",
      "\n",
      "    https://accounts.google.com/o/oauth2/auth?client_id=do-not-show-this-to-anyone&redirect_uri=http%3A%2F%2Flocalhost%3A8080%2F&scope=https%3A%2F%2Fwww.googleapis.com%2Fauth%2Fdrive&access_type=offline&response_type=code\n",
      "\n",
      "Authentication successful.\n"
     ]
    }
   ],
   "source": [
    "\n",
    "from pydrive.auth import GoogleAuth\n",
    "\n",
    "# The URL that gets displeyed here is not suitable for public consumption\n",
    "GoogleAuth.DEFAULT_SETTINGS['client_config_file'] = r'../json/client_secrets.json'\n",
    "gauth = GoogleAuth()\n",
    "gauth.LocalWebserverAuth()"
   ]
  },
  {
   "cell_type": "code",
   "execution_count": 17,
   "metadata": {},
   "outputs": [],
   "source": [
    "\n",
    "from pydrive.drive import GoogleDrive\n",
    "\n",
    "# Create GoogleDrive instance with authenticated GoogleAuth instance\n",
    "drive = GoogleDrive(gauth)\n",
    "\n",
    "# ID of the \"Reading Material\" folder\n",
    "tgt_folder_id = '1syfUx6jukbW1CWIEy8xoM9veGGr5MBUh'"
   ]
  },
  {
   "cell_type": "code",
   "execution_count": 18,
   "metadata": {},
   "outputs": [
    {
     "name": "stdout",
     "output_type": "stream",
     "text": [
      "Uploaded Adam Neely on YouTube and the Future of Music-qyYHCxznWY8.mp3 (audio/mp3)\n",
      "Uploaded Why You Need to Identify your Failures in Order to Succeed _ Jordan B Peterson on the Jocko Podcast-Sc_7yFqrkyM.mp3 (audio/mp3)\n",
      "Upload completed.\n"
     ]
    }
   ],
   "source": [
    "\n",
    "import os\n",
    "\n",
    "# Upload all mp3s from the Downloads folder to Google Drive's \"Reading Material\" folder\n",
    "gfile_dict = {}\n",
    "for subdir, dirs, files in os.walk(downloads_folder):\n",
    "    for src_file in files:\n",
    "        if src_file.endswith('.mp3'):\n",
    "            src_path = os.path.join(subdir, src_file)\n",
    "            gfile_dict[src_file] = drive.CreateFile({'title':src_file, 'mimeType':'audio/mp3',\n",
    "                                                     'parents': [{'kind': 'drive#fileLink',\n",
    "                                                                  'id': tgt_folder_id}]})\n",
    "\n",
    "            # Read mp3 file and set it as a content of this instance.\n",
    "            gfile_dict[src_file].SetContentFile(src_path)\n",
    "            \n",
    "            # Upload the file\n",
    "            try:\n",
    "                gfile_dict[src_file].Upload()\n",
    "                print('Uploaded %s (%s)' % (gfile_dict[src_file]['title'],\n",
    "                                            gfile_dict[src_file]['mimeType']))\n",
    "            except Exception as e:\n",
    "                print('Upload failed for %s (%s): %s' % (gfile_dict[src_file]['title'],\n",
    "                                                         gfile_dict[src_file]['mimeType'], e))\n",
    "print('Upload completed.')"
   ]
  },
  {
   "cell_type": "markdown",
   "metadata": {},
   "source": [
    "\n",
    "Download the mp3s to <a href='http://www.voicedream.com/support/user-manual/#file'>Voice Dream</a> before you run the next cell."
   ]
  },
  {
   "cell_type": "markdown",
   "metadata": {},
   "source": [
    "\n",
    "Make sure line 286 of C:\\Users\\dev\\Anaconda3\\Lib\\site-packages\\pydrive\\files.py reads <code>self.content.close()</code> before you run the next cell."
   ]
  },
  {
   "cell_type": "code",
   "execution_count": 6,
   "metadata": {},
   "outputs": [],
   "source": [
    "\n",
    "!\"C:\\Program Files\\Notepad++\\notepad++.exe\" \"C:\\Users\\dev\\Anaconda3\\Lib\\site-packages\\pydrive\\files.py\""
   ]
  },
  {
   "cell_type": "code",
   "execution_count": 19,
   "metadata": {},
   "outputs": [
    {
     "name": "stdout",
     "output_type": "stream",
     "text": [
      "Trashed Adam Neely on YouTube and the Future of Music-qyYHCxznWY8.mp3 (audio/mp3)\n",
      "Trashed Why You Need to Identify your Failures in Order to Succeed _ Jordan B Peterson on the Jocko Podcast-Sc_7yFqrkyM.mp3 (audio/mp3)\n",
      "Trashing completed.\n"
     ]
    }
   ],
   "source": [
    "\n",
    "import os\n",
    "\n",
    "# Trash all mp3s from Google Drive's \"Reading Material\" folder\n",
    "for subdir, dirs, files in os.walk(downloads_folder):\n",
    "    for src_file in files:\n",
    "        if src_file.endswith('.mp3'):\n",
    "            src_path = os.path.join(subdir, src_file)\n",
    "\n",
    "            # Trash mp3 file\n",
    "            try:\n",
    "                gfile_dict[src_file].Trash()\n",
    "                print('Trashed %s (%s)' % (gfile_dict[src_file]['title'],\n",
    "                                           gfile_dict[src_file]['mimeType']))\n",
    "            except Exception as e:\n",
    "                print('Trash failed for %s (%s): %s' % (gfile_dict[src_file]['title'],\n",
    "                                                        gfile_dict[src_file]['mimeType'], e))\n",
    "print('Trashing completed.')"
   ]
  },
  {
   "cell_type": "code",
   "execution_count": 20,
   "metadata": {},
   "outputs": [
    {
     "name": "stdout",
     "output_type": "stream",
     "text": [
      "Deleted Adam Neely on YouTube and the Future of Music-qyYHCxznWY8.mp3\n",
      "Deleted Why You Need to Identify your Failures in Order to Succeed _ Jordan B Peterson on the Jocko Podcast-Sc_7yFqrkyM.mp3\n",
      "Deleting completed.\n"
     ]
    }
   ],
   "source": [
    "\n",
    "import os\n",
    "\n",
    "# Delete all mp3s in the Downloads folder\n",
    "downloads_folder = 'C:\\\\Users\\\\dev\\\\Downloads\\\\'\n",
    "for subdir, dirs, files in os.walk(downloads_folder):\n",
    "    for src_file in files:\n",
    "        if src_file.endswith('.mp3'):\n",
    "            src_path = os.path.join(subdir, src_file)\n",
    "            \n",
    "            # Delete the file\n",
    "            try:\n",
    "                os.remove(src_path)\n",
    "                print('Deleted %s' % src_file)\n",
    "            except Exception as e:\n",
    "                print('Failed to delete %s: %s' % (src_file, e))\n",
    "print('Deleting completed.')"
   ]
  },
  {
   "cell_type": "code",
   "execution_count": null,
   "metadata": {},
   "outputs": [],
   "source": []
  }
 ],
 "metadata": {
  "anaconda-cloud": {},
  "kernelspec": {
   "display_name": "Python 3",
   "language": "python",
   "name": "python3"
  },
  "language_info": {
   "codemirror_mode": {
    "name": "ipython",
    "version": 3
   },
   "file_extension": ".py",
   "mimetype": "text/x-python",
   "name": "python",
   "nbconvert_exporter": "python",
   "pygments_lexer": "ipython3",
   "version": "3.6.4"
  }
 },
 "nbformat": 4,
 "nbformat_minor": 2
}
