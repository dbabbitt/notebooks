{
 "cells": [
  {
   "cell_type": "markdown",
   "metadata": {},
   "source": [
    "# MIPS Assembly Kernel for Jupyter\n",
    "\n",
    "## Example 1 (Tag Functions):\n",
    "\n",
    "This program prints a string, and uses some of the kernel's tag functions to show you information before and after."
   ]
  },
  {
   "cell_type": "code",
   "execution_count": 1,
   "metadata": {},
   "outputs": [
    {
     "name": "stdout",
     "output_type": "stream",
     "text": [
      "print $v0\n",
      "Reg 2 = 0x00000000 (0)\n",
      "print $a0\n",
      "Reg 4 = 0x00000000 (0)\n",
      "print $ra\n",
      "Reg 31 = 0x00000000 (0)\n",
      "\n",
      "SPIM Output:\n",
      "Hello,\n",
      "World!\n",
      "\n",
      "print $v0\n",
      "Reg 2 = 0x0000000a (10)\n",
      "print $a0\n",
      "Reg 4 = 0x10010000 (268500992)\n",
      "print $ra\n",
      "Reg 31 = 0x00400018 (4194328)\n",
      "\n",
      "print 0x00400024\n",
      "[0x00400024]\t0x34020004  ori $2, $0, 4                   ; 8: li $v0, 4\n",
      "\n",
      "(!) Interpreter reinitialized.\n"
     ]
    }
   ],
   "source": [
    "#!AUTO\n",
    ".data\n",
    "msg:\n",
    "    .asciiz \"Hello,\\nWorld!\"\n",
    "    .text\n",
    "    .globl main\n",
    "main:\n",
    "    li $v0, 4\n",
    "    la $a0, msg\n",
    "    syscall\n",
    "    jr $ra\n",
    "#!AUTO 0x00400024 RESET"
   ]
  },
  {
   "cell_type": "markdown",
   "metadata": {},
   "source": [
    "## Example 2 (User Input):\n",
    "\n",
    "This program asks for an integer and prints it, then shows you what is in the registers you used."
   ]
  },
  {
   "cell_type": "code",
   "execution_count": 2,
   "metadata": {},
   "outputs": [
    {
     "name": "stdout",
     "output_type": "stream",
     "text": [
      "SPIM Output:\n"
     ]
    },
    {
     "name": "stdin",
     "output_type": "stream",
     "text": [
      "Enter a number:  56\n"
     ]
    },
    {
     "name": "stdout",
     "output_type": "stream",
     "text": [
      "56\n",
      "\n",
      "print $v0\n",
      "Reg 2 = 0x0000000a (10)\n",
      "print $a0\n",
      "Reg 4 = 0x00000038 (56)\n",
      "print $t0\n",
      "Reg 8 = 0x00000038 (56)\n",
      "\n",
      "(!) Interpreter reinitialized.\n"
     ]
    }
   ],
   "source": [
    ".data\n",
    "     text:  .asciiz \"Enter a number: \"\n",
    ".text\n",
    " main:\n",
    "    li $v0, 4      # string print instruction\n",
    "    la $a0, text   # load string to arg register\n",
    "    syscall\n",
    "    li $v0, 5      # integer input instruction\n",
    "    syscall\n",
    "    move $t0, $v0  # move input out\n",
    "    li $v0, 1      # print instruction\n",
    "    move $a0, $t0  # move input in\n",
    "    syscall\n",
    "    li $v0, 10     # exit instruction\n",
    "    syscall\n",
    "#!AUTO RESET"
   ]
  },
  {
   "cell_type": "markdown",
   "metadata": {},
   "source": [
    "## Example 3 (Errors and Multiple Cells)\n",
    "\n",
    "This program runs across 2 cells."
   ]
  },
  {
   "cell_type": "code",
   "execution_count": 3,
   "metadata": {},
   "outputs": [
    {
     "name": "stdout",
     "output_type": "stream",
     "text": [
      "SPIM Output:\n",
      "The following symbols are undefined:\n",
      "a_\n",
      "s_\n",
      "main\n",
      "\n",
      "Instruction references undefined symbol at 0x00400014\n",
      "[0x00400014]\t0x0c000000  jal 0x00000000 [main]           ; 188: jal main\n",
      "\n",
      "\n"
     ]
    }
   ],
   "source": [
    "    .globl sum\n",
    "sum:\t\n",
    "    sw $fp, -12($sp)\n",
    "    sw $ra, -16($sp)\n",
    "    sub $fp, $sp, 8\n",
    "    sub $sp, $fp, 12\n",
    "    sw $0, s_\n",
    "    lw $t5, 4($fp)\n",
    "    sw $t5, -12($fp)\n",
    "L1:\t\n",
    "    lw $t4, -12($fp)\n",
    "    lw $t2, 0($fp)\n",
    "    bgt $t4, $t2, L2\n",
    "L3:\t\n",
    "    lw $t7, -12($fp)\n",
    "    mul $t7, $t7, 4\n",
    "    lw $t8, s_\n",
    "    lw $t3, a_($t7)\n",
    "    add $t8, $t8, $t3\n",
    "    sw $t8, s_\n",
    "    lw $t1, -12($fp)\n",
    "    add $t1, $t1, 1\n",
    "    sw $t1, -12($fp)\n",
    "    b, L1\n",
    "L2:\t\n",
    "    add $sp, $fp, 8\n",
    "    lw $ra, -8($fp)\n",
    "    lw $fp, -4($fp)\n",
    "    jr $ra"
   ]
  },
  {
   "cell_type": "code",
   "execution_count": 4,
   "metadata": {},
   "outputs": [
    {
     "name": "stdout",
     "output_type": "stream",
     "text": [
      "SPIM Output:\n",
      "12\n",
      "\n",
      "g\tprintsum at 0x004000a0\n",
      "g\tsum at 0x00400024\n",
      "g\t__eoth at 0x00400024\n",
      "g\t__start at 0x00400000\n",
      "g\tmain at 0x004000a0\n",
      "\n",
      "(!) Interpreter reinitialized.\n"
     ]
    }
   ],
   "source": [
    "    .data\n",
    "a_:\t.space 40\n",
    "s_:\t.space 4\n",
    "    .text\n",
    "    .globl main\n",
    "main:\t\n",
    "    .globl printsum\n",
    "printsum:\t\n",
    "    sw $fp, -4($sp)\n",
    "    sw $ra, -8($sp)\n",
    "    sub $fp, $sp, 0\n",
    "    sub $sp, $fp, 8\n",
    "    addi $t0, $0, 5\n",
    "    sw $t0, a_+0\n",
    "    addi $t6, $0, 7\n",
    "    sw $t6, a_+4\n",
    "    sw $0, -4($sp)\n",
    "    addi $t5, $0, 1\n",
    "    sw $t5, -8($sp)\n",
    "    jal, sum\n",
    "    lw $t4, s_\n",
    "    sw $t4, -4($sp)\n",
    "    lw $a0, s_\n",
    "    li $v0, 1\n",
    "    syscall\n",
    "    add $sp, $fp, 0\n",
    "    lw $ra, -8($fp)\n",
    "    lw $fp, -4($fp)\n",
    "    jr $ra\n",
    "    li $v0, 10\n",
    "    syscall\n",
    "    .end main\n",
    "#!SYM RESET"
   ]
  },
  {
   "cell_type": "markdown",
   "metadata": {},
   "source": [
    "## Example 4 (Gibberish)\n",
    "\n",
    "What happens when you run nonsense?"
   ]
  },
  {
   "cell_type": "code",
   "execution_count": 5,
   "metadata": {},
   "outputs": [
    {
     "name": "stdout",
     "output_type": "stream",
     "text": [
      "SPIM Output:\n",
      "spim: (parser) syntax error on line 2 of file .temp.s\n",
      "\t  sdfgfsdgsfd\n",
      "\t             ^\n",
      "The following symbols are undefined:\n",
      "main\n",
      "\n",
      "Instruction references undefined symbol at 0x00400014\n",
      "[0x00400014]\t0x0c000000  jal 0x00000000 [main]           ; 188: jal main\n",
      "\n",
      "\n",
      "(!) Interpreter reinitialized.\n"
     ]
    }
   ],
   "source": [
    "sdfgfsdgsfd\n",
    "#!RESET"
   ]
  },
  {
   "cell_type": "code",
   "execution_count": null,
   "metadata": {},
   "outputs": [],
   "source": []
  }
 ],
 "metadata": {
  "kernelspec": {
   "display_name": "MIPS",
   "language": "",
   "name": "mips"
  },
  "language_info": {
   "extension": ".s",
   "mimetype": "text/plain",
   "name": "cmake"
  }
 },
 "nbformat": 4,
 "nbformat_minor": 4
}
