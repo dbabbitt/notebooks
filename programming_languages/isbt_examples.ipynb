{
 "cells": [
  {
   "cell_type": "code",
   "execution_count": 1,
   "metadata": {},
   "outputs": [
    {
     "name": "stdout",
     "output_type": "stream",
     "text": [
      "[\u001b[33;1mwarn\u001b[30m] This notebook's directory has no build.sbt, so the following help is shown.\n",
      "[help] 1. sbt-server\n",
      "[help]    Is a \"build.sbt\" right under the notebook directory?\n",
      "[help]    If so, run sbt server and connect it.\n",
      "[help]    If not, show help texts.\n",
      "[help] 2. sbt-server (sbt project root directory)\n",
      "[help]    run sbt server and connect it\n",
      "[help]    ex. \"sbt-server /Users/ilham/IdeaProjects/FelisCatusZero\"\n",
      "[help]    Note that a \"build.sbt\" needs to be right under the root directory\n",
      "[help] 3. sbt-server (host) (port)\n",
      "[help]    connect to sbt server, but do not run it\n",
      "[help]    ex. \"sbt-server localhost 12700\"\n",
      "[help]    Note that sbt server has to be run beforehand\n",
      "[help]    Note that you can add a dedicated port as \"serverPort := 12700\" in your build.sbt\n",
      "[help] 4. sbt-server help\n",
      "[help]    show help texts\n"
     ]
    }
   ],
   "source": [
    "sbt-server"
   ]
  },
  {
   "cell_type": "code",
   "execution_count": 2,
   "metadata": {},
   "outputs": [
    {
     "name": "stdout",
     "output_type": "stream",
     "text": [
      "[help] 1. sbt-server\n",
      "[help]    Is a \"build.sbt\" right under the notebook directory?\n",
      "[help]    If so, run sbt server and connect it.\n",
      "[help]    If not, show help texts.\n",
      "[help] 2. sbt-server (sbt project root directory)\n",
      "[help]    run sbt server and connect it\n",
      "[help]    ex. \"sbt-server /Users/ilham/IdeaProjects/FelisCatusZero\"\n",
      "[help]    Note that a \"build.sbt\" needs to be right under the root directory\n",
      "[help] 3. sbt-server (host) (port)\n",
      "[help]    connect to sbt server, but do not run it\n",
      "[help]    ex. \"sbt-server localhost 12700\"\n",
      "[help]    Note that sbt server has to be run beforehand\n",
      "[help]    Note that you can add a dedicated port as \"serverPort := 12700\" in your build.sbt\n",
      "[help] 4. sbt-server help\n",
      "[help]    show help texts\n"
     ]
    }
   ],
   "source": [
    "sbt-server help"
   ]
  },
  {
   "cell_type": "code",
   "execution_count": 3,
   "metadata": {},
   "outputs": [
    {
     "name": "stdout",
     "output_type": "stream",
     "text": [
      "[info] Trying to run \"telnet localhost 12700\" to connect to sbt server\n",
      "[\u001b[32;1msuccess\u001b[30m] Connected!\n"
     ]
    }
   ],
   "source": [
    "sbt-server localhost 12700"
   ]
  },
  {
   "cell_type": "code",
   "execution_count": 4,
   "metadata": {},
   "outputs": [
    {
     "name": "stdout",
     "output_type": "stream",
     "text": [
      "[\u001b[32;1msuccess\u001b[30m] Total time: 0:00:00.031057, completed 2017-09-20 00:16:24.950880\n"
     ]
    }
   ],
   "source": [
    "project libraries"
   ]
  },
  {
   "cell_type": "code",
   "execution_count": 5,
   "metadata": {},
   "outputs": [
    {
     "name": "stdout",
     "output_type": "stream",
     "text": [
      "[\u001b[32;1msuccess\u001b[30m] Total time: 0:00:00.058440, completed 2017-09-20 00:16:27.485265\n"
     ]
    }
   ],
   "source": [
    "project root"
   ]
  },
  {
   "cell_type": "code",
   "execution_count": 6,
   "metadata": {},
   "outputs": [
    {
     "name": "stdout",
     "output_type": "stream",
     "text": [
      "[\u001b[32;1msuccess\u001b[30m] Total time: 0:00:00.025482, completed 2017-09-20 00:16:30.113772\n"
     ]
    }
   ],
   "source": [
    "exit"
   ]
  },
  {
   "cell_type": "code",
   "execution_count": 7,
   "metadata": {},
   "outputs": [
    {
     "name": "stdout",
     "output_type": "stream",
     "text": [
      "\u001b[0m[\u001b[0m\u001b[0minfo\u001b[0m] \u001b[0m\u001b[0mLoading settings from idea.sbt ...\u001b[0m\n",
      "\u001b[0m[\u001b[0m\u001b[0minfo\u001b[0m] \u001b[0m\u001b[0mLoading global plugins from /Users/ilham/.sbt/1.0/plugins\u001b[0m\n",
      "\u001b[0m[\u001b[0m\u001b[0minfo\u001b[0m] \u001b[0m\u001b[0mLoading settings from plugins.sbt ...\u001b[0m\n",
      "\u001b[0m[\u001b[0m\u001b[0minfo\u001b[0m] \u001b[0m\u001b[0mLoading project definition from /Users/ilham/IdeaProjects/FelisCatusZero/project\u001b[0m\n",
      "\u001b[0m[\u001b[0m\u001b[0minfo\u001b[0m] \u001b[0m\u001b[0mLoading settings from build.sbt ...\u001b[0m\n",
      "\u001b[0m[\u001b[0m\u001b[0minfo\u001b[0m] \u001b[0m\u001b[0mSet current project to FelisCatusZero (in build file:/Users/ilham/IdeaProjects/FelisCatusZero/)\u001b[0m\n",
      "\u001b[0m[\u001b[0m\u001b[0minfo\u001b[0m] \u001b[0m\u001b[0msbt server started at 127.0.0.1:12700\u001b[0m\n",
      "sbt:FelisCatusZero\u001b[36m> \u001b[0m\n",
      "[info] Trying to run \"telnet 127.0.0.1 12700\" to connect to sbt server\n",
      "\u001b[0m[\u001b[0m\u001b[0minfo\u001b[0m] \u001b[0m\u001b[0mnew client connected from: 49783\n",
      "[\u001b[32;1msuccess\u001b[30m] Connected!\n"
     ]
    }
   ],
   "source": [
    "sbt-server /Users/ilham/IdeaProjects/FelisCatusZero"
   ]
  },
  {
   "cell_type": "code",
   "execution_count": 8,
   "metadata": {},
   "outputs": [
    {
     "name": "stdout",
     "output_type": "stream",
     "text": [
      "[info] Compiling 114 Scala sources to /Users/ilham/IdeaProjects/FelisCatusZero/target/scala-2.12/classes ...\n",
      "[\u001b[31;1merror\u001b[30m] object IndriIndexer is not a member of package us.feliscat.ir.fulltext.indri\n",
      "line: 5\n",
      "line content: import us.feliscat.ir.fulltext.indri.{IndriIndexer, MultiLingualTrecTextFileFormatReviser}\n",
      "offset: 78\n",
      "pointer: 7\n",
      "pointer space: \"       \"\n",
      "source path: /Users/ilham/IdeaProjects/FelisCatusZero/src/main/scala/modules/ir/fulltext/indri/MultiLingualIndriIndexer.scala\n",
      "source file: /Users/ilham/IdeaProjects/FelisCatusZero/src/main/scala/modules/ir/fulltext/indri/MultiLingualIndriIndexer.scala\n",
      "[\u001b[31;1merror\u001b[30m] not found: type IndriIndexer\n",
      "line: 43\n",
      "line content:         val indexer = new IndriIndexer(segmentation, indexPath)\n",
      "offset: 1416\n",
      "pointer: 26\n",
      "pointer space: \"                          \"\n",
      "source path: /Users/ilham/IdeaProjects/FelisCatusZero/src/main/scala/modules/ir/fulltext/indri/MultiLingualIndriIndexer.scala\n",
      "source file: /Users/ilham/IdeaProjects/FelisCatusZero/src/main/scala/modules/ir/fulltext/indri/MultiLingualIndriIndexer.scala\n",
      "[\u001b[33;1mwarn\u001b[30m] Unused import\n",
      "line: 5\n",
      "line content: import us.feliscat.ir.fulltext.indri.{IndriIndexer, MultiLingualTrecTextFileFormatReviser}\n",
      "offset: 109\n",
      "pointer: 38\n",
      "pointer space: \"                                      \"\n",
      "source path: /Users/ilham/IdeaProjects/FelisCatusZero/src/main/scala/modules/ir/fulltext/indri/MultiLingualIndriIndexer.scala\n",
      "source file: /Users/ilham/IdeaProjects/FelisCatusZero/src/main/scala/modules/ir/fulltext/indri/MultiLingualIndriIndexer.scala\n",
      "[\u001b[31;1merror\u001b[30m] value fastTextGeneratorTimeout is not a member of object us.feliscat.util.LibrariesConfig\n",
      "line: 145\n",
      "line content:       LibrariesConfig.fastTextGeneratorTimeout.minute\n",
      "offset: 4726\n",
      "pointer: 22\n",
      "pointer space: \"                      \"\n",
      "source path: /Users/ilham/IdeaProjects/FelisCatusZero/src/main/scala/modules/text/vector/wordembedding/fastText/MultiLingualFastTextVectorGenerator.scala\n",
      "source file: /Users/ilham/IdeaProjects/FelisCatusZero/src/main/scala/modules/text/vector/wordembedding/fastText/MultiLingualFastTextVectorGenerator.scala\n",
      "[\u001b[33;1mwarn\u001b[30m] Unused import\n",
      "line: 12\n",
      "line content: import us.feliscat.util.process._\n",
      "offset: 499\n",
      "pointer: 32\n",
      "pointer space: \"                                \"\n",
      "source path: /Users/ilham/IdeaProjects/FelisCatusZero/src/main/scala/modules/text/vector/wordembedding/fastText/MultiLingualFastTextVectorGenerator.scala\n",
      "source file: /Users/ilham/IdeaProjects/FelisCatusZero/src/main/scala/modules/text/vector/wordembedding/fastText/MultiLingualFastTextVectorGenerator.scala\n",
      "[\u001b[33;1mwarn\u001b[30m] Unused import\n",
      "line: 16\n",
      "line content: import scala.concurrent.duration._\n",
      "offset: 610\n",
      "pointer: 33\n",
      "pointer space: \"                                 \"\n",
      "source path: /Users/ilham/IdeaProjects/FelisCatusZero/src/main/scala/modules/text/vector/wordembedding/fastText/MultiLingualFastTextVectorGenerator.scala\n",
      "source file: /Users/ilham/IdeaProjects/FelisCatusZero/src/main/scala/modules/text/vector/wordembedding/fastText/MultiLingualFastTextVectorGenerator.scala\n",
      "[\u001b[31;1merror\u001b[30m] value fastTextEnglishResource is not a member of object us.feliscat.util.LibrariesConfig\n",
      "line: 19\n",
      "line content:   override protected val fastTextResource: String = LibrariesConfig.fastTextEnglishResource\n",
      "offset: 698\n",
      "pointer: 68\n",
      "pointer space: \"                                                                    \"\n",
      "source path: /Users/ilham/IdeaProjects/FelisCatusZero/src/main/scala/modules/text/vector/wordembedding/fastText/en/EnglishFastTextVectorGenerator.scala\n",
      "source file: /Users/ilham/IdeaProjects/FelisCatusZero/src/main/scala/modules/text/vector/wordembedding/fastText/en/EnglishFastTextVectorGenerator.scala\n",
      "[\u001b[31;1merror\u001b[30m] value fastTextEnglishModel is not a member of object us.feliscat.util.LibrariesConfig\n",
      "line: 20\n",
      "line content:   override protected val fastTextModel: String = LibrariesConfig.fastTextEnglishModel\n",
      "offset: 787\n",
      "pointer: 65\n",
      "pointer space: \"                                                                 \"\n",
      "source path: /Users/ilham/IdeaProjects/FelisCatusZero/src/main/scala/modules/text/vector/wordembedding/fastText/en/EnglishFastTextVectorGenerator.scala\n",
      "source file: /Users/ilham/IdeaProjects/FelisCatusZero/src/main/scala/modules/text/vector/wordembedding/fastText/en/EnglishFastTextVectorGenerator.scala\n",
      "[\u001b[31;1merror\u001b[30m] value fastTextJapaneseResource is not a member of object us.feliscat.util.LibrariesConfig\n",
      "line: 21\n",
      "line content:   override protected val fastTextResource: String = LibrariesConfig.fastTextJapaneseResource\n",
      "offset: 813\n",
      "pointer: 68\n",
      "pointer space: \"                                                                    \"\n",
      "source path: /Users/ilham/IdeaProjects/FelisCatusZero/src/main/scala/modules/text/vector/wordembedding/fastText/ja/JapaneseFastTextVectorGenerator.scala\n",
      "source file: /Users/ilham/IdeaProjects/FelisCatusZero/src/main/scala/modules/text/vector/wordembedding/fastText/ja/JapaneseFastTextVectorGenerator.scala\n",
      "[\u001b[31;1merror\u001b[30m] value fastTextJapaneseModel is not a member of object us.feliscat.util.LibrariesConfig\n",
      "line: 22\n",
      "line content:   override protected val fastTextModel: String = LibrariesConfig.fastTextJapaneseModel\n",
      "offset: 903\n",
      "pointer: 65\n",
      "pointer space: \"                                                                 \"\n",
      "source path: /Users/ilham/IdeaProjects/FelisCatusZero/src/main/scala/modules/text/vector/wordembedding/fastText/ja/JapaneseFastTextVectorGenerator.scala\n",
      "source file: /Users/ilham/IdeaProjects/FelisCatusZero/src/main/scala/modules/text/vector/wordembedding/fastText/ja/JapaneseFastTextVectorGenerator.scala\n",
      "[\u001b[31;1merror\u001b[30m] value indriKnowledgeSourceHome is not a member of object us.feliscat.util.LibrariesConfig\n",
      "line: 26\n",
      "line content:     LibrariesConfig.indriKnowledgeSourceHome.concat(relativePath)\n",
      "offset: 648\n",
      "pointer: 20\n",
      "pointer space: \"                    \"\n",
      "source path: /Users/ilham/IdeaProjects/FelisCatusZero/src/main/scala/modules/util/ModulesConfig.scala\n",
      "source file: /Users/ilham/IdeaProjects/FelisCatusZero/src/main/scala/modules/util/ModulesConfig.scala\n",
      "[\u001b[31;1merror\u001b[30m] object EnglishPunctuations is not a member of package us.feliscat.text.normalizer.en\n",
      "line: 12\n",
      "line content: import us.feliscat.text.normalizer.en.{EnglishPunctuations, EnglishStopWords}\n",
      "offset: 330\n",
      "pointer: 7\n",
      "pointer space: \"       \"\n",
      "source path: /Users/ilham/IdeaProjects/FelisCatusZero/src/main/scala/uima/cr/en/EnglishQuestionReader.scala\n",
      "source file: /Users/ilham/IdeaProjects/FelisCatusZero/src/main/scala/uima/cr/en/EnglishQuestionReader.scala\n",
      "[\u001b[31;1merror\u001b[30m] not found: value EnglishStopWords\n",
      "line: 89\n",
      "line content:             instructionOpt = EnglishStopWords.remove(instructionOpt)\n",
      "offset: 3566\n",
      "pointer: 29\n",
      "pointer space: \"                             \"\n",
      "source path: /Users/ilham/IdeaProjects/FelisCatusZero/src/main/scala/uima/cr/en/EnglishQuestionReader.scala\n",
      "source file: /Users/ilham/IdeaProjects/FelisCatusZero/src/main/scala/uima/cr/en/EnglishQuestionReader.scala\n",
      "[\u001b[31;1merror\u001b[30m] not found: value EnglishPunctuations\n",
      "line: 90\n",
      "line content:             instructionOpt = EnglishPunctuations.remove(instructionOpt)\n",
      "offset: 3635\n",
      "pointer: 29\n",
      "pointer space: \"                             \"\n",
      "source path: /Users/ilham/IdeaProjects/FelisCatusZero/src/main/scala/uima/cr/en/EnglishQuestionReader.scala\n",
      "source file: /Users/ilham/IdeaProjects/FelisCatusZero/src/main/scala/uima/cr/en/EnglishQuestionReader.scala\n",
      "[\u001b[31;1merror\u001b[30m] value tagPOS is not a member of object us.feliscat.text.analyzer.CoreNLP4English\n",
      "line: 95\n",
      "line content:             val wordsWithPOSes = CoreNLP4English.tagPOS(instructionOpt)\n",
      "offset: 3869\n",
      "pointer: 49\n",
      "pointer space: \"                                                 \"\n",
      "source path: /Users/ilham/IdeaProjects/FelisCatusZero/src/main/scala/uima/cr/en/EnglishQuestionReader.scala\n",
      "source file: /Users/ilham/IdeaProjects/FelisCatusZero/src/main/scala/uima/cr/en/EnglishQuestionReader.scala\n",
      "[\u001b[33;1mwarn\u001b[30m] Unused import\n",
      "line: 12\n",
      "line content: import us.feliscat.text.normalizer.en.{EnglishPunctuations, EnglishStopWords}\n",
      "offset: 362\n",
      "pointer: 39\n",
      "pointer space: \"                                       \"\n",
      "source path: /Users/ilham/IdeaProjects/FelisCatusZero/src/main/scala/uima/cr/en/EnglishQuestionReader.scala\n",
      "source file: /Users/ilham/IdeaProjects/FelisCatusZero/src/main/scala/uima/cr/en/EnglishQuestionReader.scala\n"
     ]
    },
    {
     "name": "stdout",
     "output_type": "stream",
     "text": [
      "[\u001b[33;1mwarn\u001b[30m] Unused import\n",
      "line: 12\n",
      "line content: import us.feliscat.text.normalizer.en.{EnglishPunctuations, EnglishStopWords}\n",
      "offset: 383\n",
      "pointer: 60\n",
      "pointer space: \"                                                            \"\n",
      "source path: /Users/ilham/IdeaProjects/FelisCatusZero/src/main/scala/uima/cr/en/EnglishQuestionReader.scala\n",
      "source file: /Users/ilham/IdeaProjects/FelisCatusZero/src/main/scala/uima/cr/en/EnglishQuestionReader.scala\n",
      "[\u001b[33;1mwarn\u001b[30m] private val jumandicMecabMorphemeCache in trait JapaneseDocumentAnalyzer is never used\n",
      "line: 246\n",
      "line content:   private lazy val jumandicMecabMorphemeCache = mutable.Map.empty[(String, String, String), Morpheme]\n",
      "offset: 8080\n",
      "pointer: 19\n",
      "pointer space: \"                   \"\n",
      "source path: /Users/ilham/IdeaProjects/FelisCatusZero/src/main/scala/uima/modules/common/ja/JapaneseDocumentAnalyzer.scala\n",
      "source file: /Users/ilham/IdeaProjects/FelisCatusZero/src/main/scala/uima/modules/common/ja/JapaneseDocumentAnalyzer.scala\n",
      "[\u001b[33;1mwarn\u001b[30m] private val ipadicChasenMorphemeCache in trait JapaneseDocumentAnalyzer is never used\n",
      "line: 257\n",
      "line content:   private lazy val ipadicChasenMorphemeCache = mutable.Map.empty[(String, String, String), Morpheme]\n",
      "offset: 8538\n",
      "pointer: 19\n",
      "pointer space: \"                   \"\n",
      "source path: /Users/ilham/IdeaProjects/FelisCatusZero/src/main/scala/uima/modules/common/ja/JapaneseDocumentAnalyzer.scala\n",
      "source file: /Users/ilham/IdeaProjects/FelisCatusZero/src/main/scala/uima/modules/common/ja/JapaneseDocumentAnalyzer.scala\n",
      "[\u001b[33;1mwarn\u001b[30m] private val unidicChasenMorphemeCache in trait JapaneseDocumentAnalyzer is never used\n",
      "line: 268\n",
      "line content:   private lazy val unidicChasenMorphemeCache = mutable.Map.empty[(String, String, String), Morpheme]\n",
      "offset: 8993\n",
      "pointer: 19\n",
      "pointer space: \"                   \"\n",
      "source path: /Users/ilham/IdeaProjects/FelisCatusZero/src/main/scala/uima/modules/common/ja/JapaneseDocumentAnalyzer.scala\n",
      "source file: /Users/ilham/IdeaProjects/FelisCatusZero/src/main/scala/uima/modules/common/ja/JapaneseDocumentAnalyzer.scala\n",
      "[\u001b[33;1mwarn\u001b[30m] private val naistdicChasenMorphemeCache in trait JapaneseDocumentAnalyzer is never used\n",
      "line: 279\n",
      "line content:   private lazy val naistdicChasenMorphemeCache = mutable.Map.empty[(String, String, String), Morpheme]\n",
      "offset: 9448\n",
      "pointer: 19\n",
      "pointer space: \"                   \"\n",
      "source path: /Users/ilham/IdeaProjects/FelisCatusZero/src/main/scala/uima/modules/common/ja/JapaneseDocumentAnalyzer.scala\n",
      "source file: /Users/ilham/IdeaProjects/FelisCatusZero/src/main/scala/uima/modules/common/ja/JapaneseDocumentAnalyzer.scala\n",
      "[\u001b[33;1mwarn\u001b[30m] private val jumanMorphemeCache in trait JapaneseDocumentAnalyzer is never used\n",
      "line: 290\n",
      "line content:   private lazy val jumanMorphemeCache = mutable.Map.empty[(String, String, String), Morpheme]\n",
      "offset: 9909\n",
      "pointer: 19\n",
      "pointer space: \"                   \"\n",
      "source path: /Users/ilham/IdeaProjects/FelisCatusZero/src/main/scala/uima/modules/common/ja/JapaneseDocumentAnalyzer.scala\n",
      "source file: /Users/ilham/IdeaProjects/FelisCatusZero/src/main/scala/uima/modules/common/ja/JapaneseDocumentAnalyzer.scala\n",
      "[\u001b[33;1mwarn\u001b[30m] private val jumanPlusPlusMorphemeCache in trait JapaneseDocumentAnalyzer is never used\n",
      "line: 301\n",
      "line content:   private lazy val jumanPlusPlusMorphemeCache = mutable.Map.empty[(String, String, String), Morpheme]\n",
      "offset: 10343\n",
      "pointer: 19\n",
      "pointer space: \"                   \"\n",
      "source path: /Users/ilham/IdeaProjects/FelisCatusZero/src/main/scala/uima/modules/common/ja/JapaneseDocumentAnalyzer.scala\n",
      "source file: /Users/ilham/IdeaProjects/FelisCatusZero/src/main/scala/uima/modules/common/ja/JapaneseDocumentAnalyzer.scala\n",
      "[\u001b[33;1mwarn\u001b[30m] private val kyteaMorphemeCache in trait JapaneseDocumentAnalyzer is never used\n",
      "line: 312\n",
      "line content:   private lazy val kyteaMorphemeCache = mutable.Map.empty[(String, String, String), Morpheme]\n",
      "offset: 10795\n",
      "pointer: 19\n",
      "pointer space: \"                   \"\n",
      "source path: /Users/ilham/IdeaProjects/FelisCatusZero/src/main/scala/uima/modules/common/ja/JapaneseDocumentAnalyzer.scala\n",
      "source file: /Users/ilham/IdeaProjects/FelisCatusZero/src/main/scala/uima/modules/common/ja/JapaneseDocumentAnalyzer.scala\n",
      "[\u001b[33;1mwarn\u001b[30m] 12 warnings found\n",
      "[\u001b[31;1merror\u001b[30m] 22 errors found\n",
      "[\u001b[31;1merror\u001b[30m] Total time: 0:00:34.087648, completed 2017-09-20 00:18:53.542091\n"
     ]
    }
   ],
   "source": [
    "compile"
   ]
  },
  {
   "cell_type": "code",
   "execution_count": null,
   "metadata": {
    "collapsed": true
   },
   "outputs": [],
   "source": []
  }
 ],
 "metadata": {
  "kernelspec": {
   "display_name": "sbt",
   "language": "sbt",
   "name": "sbt"
  },
  "language_info": {
   "codemirror_mode": "scheme",
   "file_extension": ".sbt",
   "mimetype": "text/plain",
   "name": "sbt"
  }
 },
 "nbformat": 4,
 "nbformat_minor": 2
}
