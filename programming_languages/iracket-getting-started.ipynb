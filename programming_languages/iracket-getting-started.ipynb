{
 "cells": [
  {
   "cell_type": "markdown",
   "metadata": {},
   "source": [
    "# Getting Started with IRacket with Pictures\n",
    "\n",
    "This follows the examples from Racket's [Quick tutorial](http://docs.racket-lang.org/quick/index.html).\n",
    "\n",
    "IRacket is like a REPL; it doesn't support treating the whole notebook as one module, so we can't use `#lang slideshow`.\n",
    "We use `require` instead."
   ]
  },
  {
   "cell_type": "code",
   "execution_count": 1,
   "metadata": {},
   "outputs": [],
   "source": [
    "(require pict)"
   ]
  },
  {
   "cell_type": "markdown",
   "metadata": {},
   "source": [
    "## Ready, Set, Go!"
   ]
  },
  {
   "cell_type": "code",
   "execution_count": 2,
   "metadata": {},
   "outputs": [
    {
     "data": {
      "text/html": [
       "<code><img style=\"display: inline; vertical-align: baseline; padding: 0pt; margin: 0pt; border: 0pt\" src=\"data:image/png;base64,iVBORw0KGgoAAAANSUhEUgAAAAoAAAAKCAYAAACNMs+9AAAAkUlEQVQYlX3QOwrCYBBF4S9p\r\n",
       "AkGxdyepleAmxLg23YaijS+00h24AdEF/BZOEYJk4DTDYR5XSgkyzLHFM9hELwtHjjWumGEc\r\n",
       "zHDDKgZpcEaZUtIGJS5YwAmTrtSSpzjAB4MecYh3Hvt/1/6vhCzHA1WPWOEOy7iz+LO2iEeb\r\n",
       "djxH1BgFdQz4xdMJfI9XsGsH/gXFpmPzcTw5IAAAAABJRU5ErkJggg==\r\n",
       "\"/></code>"
      ],
      "text/plain": [
       "(pict '(prog #<procedure:...rivate/utils.rkt:282:8> 10) 10 10 10 0 '() #f #f)"
      ]
     },
     "execution_count": 2,
     "metadata": {},
     "output_type": "execute_result"
    }
   ],
   "source": [
    "(circle 10)"
   ]
  },
  {
   "cell_type": "markdown",
   "metadata": {},
   "source": [
    "Did you know that the area of a circle is given by\n",
    "\n",
    "$$ A = \\pi r^2 $$\n",
    "\n",
    "where $A$ is the area and $r$ is the radius? And did you know that you could have math inside of markdown cells?"
   ]
  },
  {
   "cell_type": "code",
   "execution_count": 3,
   "metadata": {},
   "outputs": [
    {
     "data": {
      "text/html": [
       "<code><img style=\"display: inline; vertical-align: baseline; padding: 0pt; margin: 0pt; border: 0pt\" src=\"data:image/png;base64,iVBORw0KGgoAAAANSUhEUgAAAAoAAAAUCAYAAAC07qxWAAAANElEQVQoke3KoQ0AIBDF0Jaw\r\n",
       "/6jcCB+LOiyCJnUPYAG5vASSRJrUjA6cffjhS3ACpebiagMdXBHbyCSJsgAAAABJRU5ErkJg\r\n",
       "gg==\r\n",
       "\"/></code>"
      ],
      "text/plain": [
       "(pict '(prog #<procedure:...rivate/utils.rkt:282:8> 20) 10 20 20 0 '() #f #f)"
      ]
     },
     "execution_count": 3,
     "metadata": {},
     "output_type": "execute_result"
    }
   ],
   "source": [
    "(rectangle 10 20)"
   ]
  },
  {
   "cell_type": "code",
   "execution_count": 4,
   "metadata": {},
   "outputs": [
    {
     "data": {
      "text/html": [
       "<code><img style=\"display: inline; vertical-align: baseline; padding: 0pt; margin: 0pt; border: 0pt\" src=\"data:image/png;base64,iVBORw0KGgoAAAANSUhEUgAAABQAAAAUCAYAAACNiR0NAAAA2ElEQVQ4je3UTUoDQRDF8V8F\r\n",
       "IRAUcetNslZCLhGMZ9NrKLrxi7jSG7h3RA9QLqazizPduBIseNAUj3/Tr4qOzFRTEfGOoxFb\r\n",
       "Fw3AzMwY80yqaA31R4DR1yoiriPireiq9AZz+wl6iQ2WOC5a4hkXCGRmGhIS1njEbIdhhiec\r\n",
       "tQAfcDJgOsVdC/AL+wOmA3zWAifbfAYyzuKpHsgr5gOeOV5qgXCuz3G64wlT/cDWGjLcrs09\r\n",
       "FjgsWpSL2tamHAIr3OKj6Kb0th9IFfD/t/l97TV4u4gYC7z7BiyWK0sbbuq2AAAAAElFTkSu\r\n",
       "QmCC\r\n",
       "\"/></code>"
      ],
      "text/plain": [
       "(pict '(picture 20 20 (put 0 5 #1=(prog #<procedure:...rivate/utils.rkt:282:8> 10)) (put 10 0 #2=(prog #<procedure:...rivate/utils.rkt:282:8> 20))) 20 20 15 0 (list (child (pict #1# 10 10 10 0 '() #f #f) 0 5 1 1 0 0) (child #0=(pict #2# 10 20 20 0 '() #f #f) 10 0 1 1 0 0)) #f #0#)"
      ]
     },
     "execution_count": 4,
     "metadata": {},
     "output_type": "execute_result"
    }
   ],
   "source": [
    "(hc-append (circle 10) (rectangle 10 20))"
   ]
  },
  {
   "cell_type": "code",
   "execution_count": 5,
   "metadata": {},
   "outputs": [
    {
     "data": {
      "text/html": [
       "<code><img style=\"display: inline; vertical-align: baseline; padding: 0pt; margin: 0pt; border: 0pt\" src=\"data:image/png;base64,iVBORw0KGgoAAAANSUhEUgAAAAoAAAAUCAYAAAC07qxWAAAANElEQVQoke3KoQ0AIBDF0Jaw\r\n",
       "/6jcCB+LOiyCJnUPYAG5vASSRJrUjA6cffjhS3ACpebiagMdXBHbyCSJsgAAAABJRU5ErkJg\r\n",
       "gg==\r\n",
       "\"/></code>"
      ],
      "text/plain": [
       "(pict '(prog #<procedure:...rivate/utils.rkt:282:8> 20) 10 20 20 0 '() #f #f)"
      ]
     },
     "execution_count": 5,
     "metadata": {},
     "output_type": "execute_result"
    }
   ],
   "source": [
    ";; LIMITATION: IRacket evaluates everything in a cell, but only returns the last result:\n",
    "(circle 10) ;; doesn't show up\n",
    "(rectangle 10 20)"
   ]
  },
  {
   "cell_type": "code",
   "execution_count": 6,
   "metadata": {},
   "outputs": [
    {
     "data": {
      "text/html": [
       "<code>(list <img style=\"display: inline; vertical-align: baseline; padding: 0pt; margin: 0pt; border: 0pt\" src=\"data:image/png;base64,iVBORw0KGgoAAAANSUhEUgAAAAoAAAAKCAYAAACNMs+9AAAAkUlEQVQYlX3QOwrCYBBF4S9p\r\n",
       "AkGxdyepleAmxLg23YaijS+00h24AdEF/BZOEYJk4DTDYR5XSgkyzLHFM9hELwtHjjWumGEc\r\n",
       "zHDDKgZpcEaZUtIGJS5YwAmTrtSSpzjAB4MecYh3Hvt/1/6vhCzHA1WPWOEOy7iz+LO2iEeb\r\n",
       "djxH1BgFdQz4xdMJfI9XsGsH/gXFpmPzcTw5IAAAAABJRU5ErkJggg==\r\n",
       "\"/> <img style=\"display: inline; vertical-align: baseline; padding: 0pt; margin: 0pt; border: 0pt\" src=\"data:image/png;base64,iVBORw0KGgoAAAANSUhEUgAAAAoAAAAUCAYAAAC07qxWAAAANElEQVQoke3KoQ0AIBDF0Jaw\r\n",
       "/6jcCB+LOiyCJnUPYAG5vASSRJrUjA6cffjhS3ACpebiagMdXBHbyCSJsgAAAABJRU5ErkJg\r\n",
       "gg==\r\n",
       "\"/>)</code>"
      ],
      "text/plain": [
       "(list (pict '(prog #<procedure:...rivate/utils.rkt:282:8> 10) 10 10 10 0 '() #f #f) (pict '(prog #<procedure:...rivate/utils.rkt:282:8> 20) 10 20 20 0 '() #f #f))"
      ]
     },
     "execution_count": 6,
     "metadata": {},
     "output_type": "execute_result"
    }
   ],
   "source": [
    "(list (circle 10) (rectangle 10 20))"
   ]
  },
  {
   "cell_type": "code",
   "execution_count": 7,
   "metadata": {},
   "outputs": [
    {
     "data": {
      "text/html": [
       "<code><img style=\"display: inline; vertical-align: baseline; padding: 0pt; margin: 0pt; border: 0pt\" src=\"data:image/png;base64,iVBORw0KGgoAAAANSUhEUgAAABQAAAAUCAYAAACNiR0NAAAAIklEQVQ4jWNkYGD4z0BFwERN\r\n",
       "w0YNHDVw1MBRA0cNHEoGAgDO7gEnhnkkVwAAAABJRU5ErkJggg==\r\n",
       "\"/></code>"
      ],
      "text/plain": [
       "(pict '(prog #<procedure:...rivate/utils.rkt:282:8> 20) 20 20 20 0 '() #f #f)"
      ]
     },
     "execution_count": 7,
     "metadata": {},
     "output_type": "execute_result"
    }
   ],
   "source": [
    "(define (square n)\n",
    "  ; A semi-colon starts a line comment.\n",
    "  ; The expression below is the function body.\n",
    "  (filled-rectangle n n))\n",
    "\n",
    "(square 20)"
   ]
  },
  {
   "cell_type": "code",
   "execution_count": 8,
   "metadata": {},
   "outputs": [
    {
     "data": {
      "text/html": [
       "<code><img style=\"display: inline; vertical-align: baseline; padding: 0pt; margin: 0pt; border: 0pt\" src=\"data:image/png;base64,iVBORw0KGgoAAAANSUhEUgAAABQAAAAUCAYAAACNiR0NAAAAxElEQVQ4je3TS2oCURCF4c9G\r\n",
       "EMTg3J04NoibCNG16TaUZGJUdBR34AZCMg7XQZcijd10T8WCA5fLT1GPU1JK0MIbVjiFlvHX\r\n",
       "Simpy0GGBfaYYBCa4IB5JKrLmWKL7qWSm4q62OG9AWeDURG6gV+xbsD5Q68CfMFvXS6LvvNp\r\n",
       "3o8UTC0uwxHDCnCI7wacmXw+nTttdOSLmDbgrnb4whj90DgSFG1TzRUM+4mf0IdyY5dy7cIc\r\n",
       "/uXbvLzLopJ7XsrzUh7uUs4fAIHAyfYRygAAAABJRU5ErkJggg==\r\n",
       "\"/></code>"
      ],
      "text/plain": [
       "(pict '(picture 20 20 (put 0 10 #3=(picture 20 10 (put 0 0 #1=(prog #<procedure:...rivate/utils.rkt:282:8> 10)) (put 10 0 #1#))) (put 0 0 #3#)) 20 20 10 0 (list (child #2=(pict #3# 20 10 10 0 (list (child #0=(pict #1# 10 10 10 0 '() #f #f) 0 0 1 1 0 0) (child #0# 10 0 1 1 0 0)) #f #0#) 0 10 1 1 0 0) (child #2# 0 0 1 1 0 0)) #f (list #2# #0#))"
      ]
     },
     "execution_count": 8,
     "metadata": {},
     "output_type": "execute_result"
    }
   ],
   "source": [
    "(define (four p)\n",
    "  (define two-p (hc-append p p))\n",
    "  (vc-append two-p two-p))\n",
    "\n",
    "(four (circle 10))"
   ]
  },
  {
   "cell_type": "code",
   "execution_count": 9,
   "metadata": {},
   "outputs": [
    {
     "data": {
      "text/html": [
       "<code><img style=\"display: inline; vertical-align: baseline; padding: 0pt; margin: 0pt; border: 0pt\" src=\"data:image/png;base64,iVBORw0KGgoAAAANSUhEUgAAABQAAAAUCAYAAACNiR0NAAAANElEQVQ4jWP8z8Dwn4EIwEiM\r\n",
       "IgYGBiYi1RENRg0cNXAwGMjIQGROIUoRw1Dw8qiBowaSAQBAOAQklfK8SQAAAABJRU5ErkJg\r\n",
       "gg==\r\n",
       "\"/></code>"
      ],
      "text/plain": [
       "(pict '(picture 20 20 (put 0 10 #7=(picture 20 10 (put 0 0 #4=(color \"red\" #0=(prog #<procedure:...rivate/utils.rkt:282:8> 10))) (put 10 0 #3=(color \"black\" #1=(prog #<procedure:...rivate/utils.rkt:282:8> 10))))) (put 0 0 #8=(picture 20 10 (put 0 0 #3#) (put 10 0 #4#)))) 20 20 10 0 (list (child (pict #7# 20 10 10 0 (list (child #2=(pict #4# 10 10 10 0 (list (child (pict #0# 10 10 10 0 '() #f #f) 0 0 1 1 0 0)) #f #f) 0 0 1 1 0 0) (child #5=(pict #3# 10 10 10 0 (list (child (pict #1# 10 10 10 0 '() #f #f) 0 0 1 1 0 0)) #f #f) 10 0 1 1 0 0)) #f #5#) 0 10 1 1 0 0) (child #6=(pict #8# 20 10 10 0 (list (child #5# 0 0 1 1 0 0) (child #2# 10 0 1 1 0 0)) #f #2#) 0 0 1 1 0 0)) #f (list #6# #2#))"
      ]
     },
     "execution_count": 9,
     "metadata": {},
     "output_type": "execute_result"
    }
   ],
   "source": [
    "(define (checker p1 p2)\n",
    "  (let ([p12 (hc-append p1 p2)]\n",
    "        [p21 (hc-append p2 p1)])\n",
    "    (vc-append p12 p21)))\n",
    "\n",
    "(checker (colorize (square 10) \"red\")\n",
    "         (colorize (square 10) \"black\"))"
   ]
  },
  {
   "cell_type": "code",
   "execution_count": 10,
   "metadata": {},
   "outputs": [
    {
     "data": {
      "text/html": [
       "<code><img style=\"display: inline; vertical-align: baseline; padding: 0pt; margin: 0pt; border: 0pt\" src=\"data:image/png;base64,iVBORw0KGgoAAAANSUhEUgAAAFAAAABQCAYAAACOEfKtAAAA5klEQVR4nO3ZMQrDQAwAQV3w\r\n",
       "/7/svCAg2CKJmakPFYsKG5175p6Fs3k0y2EPmvdavuMDASMBIwEjASMBIwEjASMBozPLj/Nf\r\n",
       "/yP41jwbGAkYCRgJGAkYCRgJGAkYCRhdT/kjcBP5UwJGAkYCRgJGAkYCRgJGAkZuInGeDYwE\r\n",
       "jASMBIwEjASMBIwEjASM3ETiPBsYCRgJGAkYCRgJGAkYCRgJGLmJxHk2MBIwEjASMBIwEjAS\r\n",
       "MBIwEjByE4nzbGAkYCRgJGAkYCRgJGAkYCRg5CYS59nASMBIwEjASMBIwEjASMBIwOgNhFEl\r\n",
       "mcy6CRYAAAAASUVORK5CYII=\r\n",
       "\"/></code>"
      ],
      "text/plain": [
       "(pict '(picture 80 80 (put 0 40 #20=(picture 80 40 (put 0 0 #17=(picture 40 40 (put 0 20 #14=(picture 40 20 (put 0 0 #11=(picture 20 20 (put 0 10 #7=(picture 20 10 (put 0 0 #4=(color \"red\" #0=(prog #<procedure:...rivate/utils.rkt:282:8> 10))) (put 10 0 #3=(color \"black\" #0#)))) (put 0 0 #8=(picture 20 10 (put 0 0 #3#) (put 10 0 #4#))))) (put 20 0 #11#))) (put 0 0 #14#))) (put 40 0 #17#))) (put 0 0 #20#)) 80 80 10 0 (list (child #19=(pict #20# 80 40 10 0 (list (child #16=(pict #17# 40 40 10 0 (list (child #13=(pict #14# 40 20 10 0 (list (child #10=(pict #11# 20 20 10 0 (list (child (pict #7# 20 10 10 0 (list (child #2=(pict #4# 10 10 10 0 (list (child #1=(pict #0# 10 10 10 0 '() #f #f) 0 0 1 1 0 0)) #f #f) 0 0 1 1 0 0) (child #5=(pict #3# 10 10 10 0 (list (child #1# 0 0 1 1 0 0)) #f #f) 10 0 1 1 0 0)) #f #5#) 0 10 1 1 0 0) (child #6=(pict #8# 20 10 10 0 (list (child #5# 0 0 1 1 0 0) (child #2# 10 0 1 1 0 0)) #f #2#) 0 0 1 1 0 0)) #f #9=(list #6# #2#)) 0 0 1 1 0 0) (child #10# 20 0 1 1 0 0)) #f #12=(list #10# #9#)) 0 20 1 1 0 0) (child #13# 0 0 1 1 0 0)) #f #15=(list #13# #12#)) 0 0 1 1 0 0) (child #16# 40 0 1 1 0 0)) #f #18=(list #16# #15#)) 0 40 1 1 0 0) (child #19# 0 0 1 1 0 0)) #f (list #19# #18#))"
      ]
     },
     "execution_count": 10,
     "metadata": {},
     "output_type": "execute_result"
    }
   ],
   "source": [
    "(define (checkerboard p)\n",
    "  (let* ([rp (colorize p \"red\")]\n",
    "         [bp (colorize p \"black\")]\n",
    "         [c (checker rp bp)]\n",
    "         [c4 (four c)])\n",
    "    (four c4)))\n",
    "\n",
    "(checkerboard (square 10))"
   ]
  },
  {
   "cell_type": "markdown",
   "metadata": {},
   "source": [
    "## Functions as values"
   ]
  },
  {
   "cell_type": "code",
   "execution_count": 11,
   "metadata": {
    "collapsed": true
   },
   "outputs": [],
   "source": [
    "(define (series mk)\n",
    "  (hc-append 4 (mk 5) (mk 10) (mk 20)))"
   ]
  },
  {
   "cell_type": "code",
   "execution_count": 12,
   "metadata": {},
   "outputs": [
    {
     "data": {
      "text/html": [
       "<code><img style=\"display: inline; vertical-align: baseline; padding: 0pt; margin: 0pt; border: 0pt\" src=\"data:image/png;base64,iVBORw0KGgoAAAANSUhEUgAAACsAAAAUCAYAAAAUccS4AAAAWklEQVRIie2TQQoAIAgE2/D/\r\n",
       "X94+ECHlQgvOWWQYESSHCgCly2flMjUtq8JKNjJD2UchiTedM1ZlrWRjd2L1OW+xKtuyKqxk\r\n",
       "49dn2uFVNjP0S32rsi2rwkp2AWWoEittLTZuAAAAAElFTkSuQmCC\r\n",
       "\"/></code>"
      ],
      "text/plain": [
       "(pict '(picture 43 20 (put 0 7 #4=(prog #<procedure:...rivate/utils.rkt:282:8> 5)) (put 9 0 #5=(picture 34 20 (put 0 5 #1=(prog #<procedure:...rivate/utils.rkt:282:8> 10)) (put 14 0 #2=(prog #<procedure:...rivate/utils.rkt:282:8> 20))))) 43 20 13 0 (list (child (pict #4# 5 5 5 0 '() #f #f) 0 7 1 1 0 0) (child #3=(pict #5# 34 20 15 0 (list (child (pict #1# 10 10 10 0 '() #f #f) 0 5 1 1 0 0) (child #0=(pict #2# 20 20 20 0 '() #f #f) 14 0 1 1 0 0)) #f #0#) 9 0 1 1 0 0)) #f (list #3# #0#))"
      ]
     },
     "execution_count": 12,
     "metadata": {},
     "output_type": "execute_result"
    }
   ],
   "source": [
    "(series square)"
   ]
  },
  {
   "cell_type": "code",
   "execution_count": 13,
   "metadata": {
    "scrolled": true
   },
   "outputs": [
    {
     "data": {
      "text/html": [
       "<code><img style=\"display: inline; vertical-align: baseline; padding: 0pt; margin: 0pt; border: 0pt\" src=\"data:image/png;base64,iVBORw0KGgoAAAANSUhEUgAAACsAAAAUCAYAAAAUccS4AAAB6klEQVRIic3XO2sUURQH8N9k\r\n",
       "hZWY1ZiAhekMEWsRMWJnXGIh+CBYiXmItd9DovgZFGztfBGzWvjWxhcRjIVoYaUbC63GYs/C\r\n",
       "mswOu+46eOAwM+ec/73/O3PuPWeSNE0VKUmSlHEC09iLHeH6ipe4iRtpmv7aAE7TtDDFDD7i\r\n",
       "FuYwgdHQCczjNlZxagO+IJIlXMEbHOgg/iDe4TJKRZNdRA3DXWCG8QAXCyOL41jB9r/AjuA9\r\n",
       "jnVFFgnO4B4+hS6FLWmD2Rw5ur+HxR6KHC53ChjANTyPXbwzdBovcDWLME7jbh++zhJmOg2e\r\n",
       "xRMMZvgG8RRnM3zXsdAHsufjZRnHMn7GdTwj+DEO5ww2hYcZ9hXs7gPZPXE6qOECynFdzghe\r\n",
       "w1DOYBXUM+x1VPpAdiu+/0EkZ9If2JIz2BDW2iyyLa4LshXUB2KDnIsyuBDP6+U1JjPsTZnE\r\n",
       "qwz7F4zl4DqVMXymkbM1+Tk7p5G35QxfWWPzzf7zDdZhcPPoeoQqtoVWYxH/z9EVgGZRuI9v\r\n",
       "oTX5RWET3mKqB6JVjTQs9bTiDicrvtz2SHgxvshIF5hRRTcyMXGzRfwgp7i0xB/R6AcuKbpF\r\n",
       "bCHRbL7vaDTau+I0Kcf9fPhWcXI9PolBCpOW35qj2BckBcFncn5rfgMGUdRPwifmXgAAAABJ\r\n",
       "RU5ErkJggg==\r\n",
       "\"/></code>"
      ],
      "text/plain": [
       "(pict '(picture 43 20 (put 0 7 #4=(prog #<procedure:...rivate/utils.rkt:282:8> 5)) (put 9 0 #5=(picture 34 20 (put 0 5 #1=(prog #<procedure:...rivate/utils.rkt:282:8> 10)) (put 14 0 #2=(prog #<procedure:...rivate/utils.rkt:282:8> 20))))) 43 20 13 0 (list (child (pict #4# 5 5 5 0 '() #f #f) 0 7 1 1 0 0) (child #3=(pict #5# 34 20 15 0 (list (child (pict #1# 10 10 10 0 '() #f #f) 0 5 1 1 0 0) (child #0=(pict #2# 20 20 20 0 '() #f #f) 14 0 1 1 0 0)) #f #0#) 9 0 1 1 0 0)) #f (list #3# #0#))"
      ]
     },
     "execution_count": 13,
     "metadata": {},
     "output_type": "execute_result"
    }
   ],
   "source": [
    "(series circle)"
   ]
  },
  {
   "cell_type": "code",
   "execution_count": 14,
   "metadata": {},
   "outputs": [
    {
     "data": {
      "text/html": [
       "<code><img style=\"display: inline; vertical-align: baseline; padding: 0pt; margin: 0pt; border: 0pt\" src=\"data:image/png;base64,iVBORw0KGgoAAAANSUhEUgAAASAAAACgCAYAAACsRLHsAAAC5klEQVR4nO3cwWrDMBQAwaj4\r\n",
       "/39ZPRdycGvRleOZY0nFO4RFhIfGnPPFg42x9AswVh72er1WfzvNd83q+b4WnwdwmgABGQEC\r\n",
       "MgIEZAQIyAgQkBEgICNAQEaAgIwAARkBAjICBGQECMgIEJARICAjQEBGgICMAAEZAQIyRz0A\r\n",
       "rae9QWy+a1bP5wYEZAQIyAgQkBEgICNAQEaAgIwAARkBAjICBGQECMgIEJARICAjQEBGgICM\r\n",
       "AAEZAQIyAgRkBAjICBCQud+b0GOcepb27Fu4Z9+4/Zjz5vzx0ae9QWy+a1bP5wYEZAQIyAgQ\r\n",
       "kBEgICNAQEaAgIwAARkBAjICBGRutwn9MRvJ0XmwEzcgICNAQEaAgIwAARkBAjICBGQECMgI\r\n",
       "EJARICBzvHtj+d327btN23/53B/fMN59I3mX8572BrH5rlk9nxsQkBEgICNAQEaAgMyx1Q/O\r\n",
       "b/4GfC43ICAjQEBGgICMAAGZY6cfnM98bpcN4rueBztxAwIyAgRkBAjICBCQsQkNZNyAgIwA\r\n",
       "ARkBAjICBGRutwn9KRvJu5z3tDeIzXfN6vncgICMAAEZAQIyAgRkbEIDGTcgICNAQEaAgIwA\r\n",
       "AZnbbULvskF81/NgJ25AQEaAgIwAARkBAjI2oYGMGxCQESAgI0BARoCAzDHnPLVse/YH4tWf\r\n",
       "++v/7b6RvMt5T3uD2HzXrJ7PDQjICBCQESAgI0BARoCAjAABGQECMgIEZAQIyBz1AL+1ywbx\r\n",
       "Xc+DnbgBARkBAjICBGQECMgIEJARICAjQEBGgICMAAGZMacd2kcbY+kXYPc3iM13zer53ICA\r\n",
       "jAABGQECMgIEZAQIyAgQkBEgICNAQEaAgIwAARkBAjICBGQECMgIEJARICAjQEBGgICMAAEZ\r\n",
       "AQIyRz0Arae9QWy+a1bP5wYEZAQIyAgQkBEgICNAQEaAgIwAARkBAjICBGQECMgIEJARICAj\r\n",
       "QEBGgICMAAEZAQIyAgRkBAjICBCQ+QYUynlOwUlzMAAAAABJRU5ErkJggg==\r\n",
       "\"/></code>"
      ],
      "text/plain": [
       "(pict '(picture 288 160 (put 0 60 #69=(picture 40 40 (put 0 20 #67=(picture 40 20 (put 0 0 #64=(picture 20 20 (put 0 10 #61=(picture 20 10 (put 0 0 #58=(picture 10 10 (put 0 5 #54=(picture 10 5 (put 0 0 #51=(color \"red\" #47=(prog #<procedure:...rivate/utils.rkt:282:8> 5))) (put 5 0 #50=(color \"black\" #47#)))) (put 0 0 #55=(picture 10 5 (put 0 0 #50#) (put 5 0 #51#))))) (put 10 0 #58#))) (put 0 0 #61#))) (put 20 0 #64#))) (put 0 0 #67#))) (put 44 0 #70=(picture 244 160 (put 0 40 #44=(picture 80 80 (put 0 40 #42=(picture 80 40 (put 0 0 #39=(picture 40 40 (put 0 20 #36=(picture 40 20 (put 0 0 #33=(picture 20 20 (put 0 10 #29=(picture 20 10 (put 0 0 #26=(color \"red\" #22=(prog #<procedure:...rivate/utils.rkt:282:8> 10))) (put 10 0 #25=(color \"black\" #22#)))) (put 0 0 #30=(picture 20 10 (put 0 0 #25#) (put 10 0 #26#))))) (put 20 0 #33#))) (put 0 0 #36#))) (put 40 0 #39#))) (put 0 0 #42#))) (put 84 0 #45=(picture 160 160 (put 0 80 #20=(picture 160 80 (put 0 0 #17=(picture 80 80 (put 0 40 #14=(picture 80 40 (put 0 0 #11=(picture 40 40 (put 0 20 #7=(picture 40 20 (put 0 0 #4=(color \"red\" #0=(prog #<procedure:...rivate/utils.rkt:282:8> 20))) (put 20 0 #3=(color \"black\" #0#)))) (put 0 0 #8=(picture 40 20 (put 0 0 #3#) (put 20 0 #4#))))) (put 40 0 #11#))) (put 0 0 #14#))) (put 80 0 #17#))) (put 0 0 #20#)))))) 288 160 20 0 (list (child (pict #69# 40 40 5 0 (list (child #66=(pict #67# 40 20 5 0 (list (child #63=(pict #64# 20 20 5 0 (list (child #60=(pict #61# 20 10 5 0 (list (child #57=(pict #58# 10 10 5 0 (list (child (pict #54# 10 5 5 0 (list (child #49=(pict #51# 5 5 5 0 (list (child #48=(pict #47# 5 5 5 0 '() #f #f) 0 0 1 1 0 0)) #f #f) 0 0 1 1 0 0) (child #52=(pict #50# 5 5 5 0 (list (child #48# 0 0 1 1 0 0)) #f #f) 5 0 1 1 0 0)) #f #52#) 0 5 1 1 0 0) (child #53=(pict #55# 10 5 5 0 (list (child #52# 0 0 1 1 0 0) (child #49# 5 0 1 1 0 0)) #f #49#) 0 0 1 1 0 0)) #f #56=(list #53# #49#)) 0 0 1 1 0 0) (child #57# 10 0 1 1 0 0)) #f #59=(list #57# #56#)) 0 10 1 1 0 0) (child #60# 0 0 1 1 0 0)) #f #62=(list #60# #59#)) 0 0 1 1 0 0) (child #63# 20 0 1 1 0 0)) #f #65=(list #63# #62#)) 0 20 1 1 0 0) (child #66# 0 0 1 1 0 0)) #f (list #66# #65#)) 0 60 1 1 0 0) (child #68=(pict #70# 244 160 20 0 (list (child (pict #44# 80 80 10 0 (list (child #41=(pict #42# 80 40 10 0 (list (child #38=(pict #39# 40 40 10 0 (list (child #35=(pict #36# 40 20 10 0 (list (child #32=(pict #33# 20 20 10 0 (list (child (pict #29# 20 10 10 0 (list (child #24=(pict #26# 10 10 10 0 (list (child #23=(pict #22# 10 10 10 0 '() #f #f) 0 0 1 1 0 0)) #f #f) 0 0 1 1 0 0) (child #27=(pict #25# 10 10 10 0 (list (child #23# 0 0 1 1 0 0)) #f #f) 10 0 1 1 0 0)) #f #27#) 0 10 1 1 0 0) (child #28=(pict #30# 20 10 10 0 (list (child #27# 0 0 1 1 0 0) (child #24# 10 0 1 1 0 0)) #f #24#) 0 0 1 1 0 0)) #f #31=(list #28# #24#)) 0 0 1 1 0 0) (child #32# 20 0 1 1 0 0)) #f #34=(list #32# #31#)) 0 20 1 1 0 0) (child #35# 0 0 1 1 0 0)) #f #37=(list #35# #34#)) 0 0 1 1 0 0) (child #38# 40 0 1 1 0 0)) #f #40=(list #38# #37#)) 0 40 1 1 0 0) (child #41# 0 0 1 1 0 0)) #f (list #41# #40#)) 0 40 1 1 0 0) (child #43=(pict #45# 160 160 20 0 (list (child #19=(pict #20# 160 80 20 0 (list (child #16=(pict #17# 80 80 20 0 (list (child #13=(pict #14# 80 40 20 0 (list (child #10=(pict #11# 40 40 20 0 (list (child (pict #7# 40 20 20 0 (list (child #2=(pict #4# 20 20 20 0 (list (child #1=(pict #0# 20 20 20 0 '() #f #f) 0 0 1 1 0 0)) #f #f) 0 0 1 1 0 0) (child #5=(pict #3# 20 20 20 0 (list (child #1# 0 0 1 1 0 0)) #f #f) 20 0 1 1 0 0)) #f #5#) 0 20 1 1 0 0) (child #6=(pict #8# 40 20 20 0 (list (child #5# 0 0 1 1 0 0) (child #2# 20 0 1 1 0 0)) #f #2#) 0 0 1 1 0 0)) #f #9=(list #6# #2#)) 0 0 1 1 0 0) (child #10# 40 0 1 1 0 0)) #f #12=(list #10# #9#)) 0 40 1 1 0 0) (child #13# 0 0 1 1 0 0)) #f #15=(list #13# #12#)) 0 0 1 1 0 0) (child #16# 80 0 1 1 0 0)) #f #18=(list #16# #15#)) 0 80 1 1 0 0) (child #19# 0 0 1 1 0 0)) #f #21=(list #19# #18#)) 84 0 1 1 0 0)) #f #46=(list #43# #21#)) 44 0 1 1 0 0)) #f (list #68# #46#))"
      ]
     },
     "execution_count": 14,
     "metadata": {},
     "output_type": "execute_result"
    }
   ],
   "source": [
    "(series (lambda (size) (checkerboard (square size))))"
   ]
  },
  {
   "cell_type": "code",
   "execution_count": 15,
   "metadata": {},
   "outputs": [
    {
     "data": {
      "text/html": [
       "<code><img style=\"display: inline; vertical-align: baseline; padding: 0pt; margin: 0pt; border: 0pt\" src=\"data:image/png;base64,iVBORw0KGgoAAAANSUhEUgAAACsAAAA8CAYAAAD/jkPjAAAE70lEQVRogdWXz08VVxTHPw9I\r\n",
       "nqGgFJIudAehcd00TTXuii900cS2Ia6MgI1r/o8GjX+DJG6780eDPF1UsdJNUYKJuDDtoisB\r\n",
       "F3ZhPl3MmYLOvPfmMTjgJCfz3tx7555759xzvp+aSqVXrVYHvgcmgS+Az6LlH+AP4CbwC/pv\r\n",
       "ZqxancGU8EK4JcwI48JI2LgwK9wWNoQf3x9flZO9wjXhifB1gf6nhTXhqtBbtbPzQlMY6mLM\r\n",
       "kHBf+Lk6Z+GcsC58uoexw8Iz4bvunIWacEG4K7wMW4xntRZjjkSMflVisWcihutFB/QIC8Jj\r\n",
       "YVI4HjYprAjXcx2G88Kv+/B1FoWpop2nhWWhP6etX3gkXMxpuyFc2gdnLwsLCGPCkvAm7mM5\r\n",
       "nR8K37R52YTwW87zdeHzfXD2pLBGnNI5oR73pZzO28JAm5cNCls5z7eEwX1w9qiw+a4jrSd9\r\n",
       "LXzS5mUDwnaLRbYeV9zZQWGrB1gBfooyeCn+v3+tAqfaFNFTwJ85z/8GThQqw+2vE8Bfacw2\r\n",
       "O8TsTMRtPaetHodv+sMfsGKd09T1QGgIx8IasYhDlLqSAWlRuCe8Cmt2KAp9wlNhooSjDWFV\r\n",
       "6C234mKTHUC5LefwfHyR4S7GjFi5kEkmTiXi87bFZaf/2dADV6xcIu44kYrvOyZCezSyST1+\r\n",
       "z0bbhvDD++Nr6j6kwS6uHaz5FvgSGI2WDeB32mBNX1U+pldtZ28E3gKb8f/t7n65W1hlGCBT\r\n",
       "yAvkFjKDjCMjYePILHIb2cADYjCkF7mGPMHODIacRtaQq1jxAUPmkSYWZzBkCLmPFaYu5Byy\r\n",
       "jt0XBWQYeYZdFgWkhlxA7iIvwxbjWW65RY5EjO6ZwZAzEcPFGAzpQRaQx8gkcjxsEllBruc5\r\n",
       "jJzH8kImNqWYkEGmkWXMMhjSjzzCLIMhN7C8REQuIwsgY8gS8ibuGT2LPMTWZRKZwCyDRayW\r\n",
       "ZjDkJLJGnNK5JCaYwyyDIdvYmsGQQcziELKF5RkMOYpsvuNIm0lfY2uWQgYwy2Dx7tIMlvr1\r\n",
       "P4PV+AgYLGK22SFmZyJuMwwW4bOMWQbb9wNWsHOauh4gDeRYWCMWcXhSVwxIi8I95FVYs0NR\r\n",
       "6EOe4t4ZLDZkFStgsAMptyUdno8vUpjBSGRjtUImJk4l4vN2xWVX/7OhB65QtUTc5UQqvu+Q\r\n",
       "CO3RyCb1+D0bbRt4CBgs8nlHBpNDwGC7IKwtg5G3h5WGAU6BL8Bb4Aw4Do6EjYOz4G1wAzwg\r\n",
       "BsNe8Br4BOzMYHgaXAOvghUzGM6DTbA4g+EQeB+skMHwHLgOdl8UcBh8BnbJYFgDL4B3wZdh\r\n",
       "i/Esv9zikYjRvTMYnokYLshg2AMugI/BSfB42CS4Al7Pcxg8D5YXMsmmFGQwnAaXwSyDYT/4\r\n",
       "CLyY03YDLC8R8XKyWTgGLoFv4p7Vs/gQbM1gOAFmGSyJ1fIMhieT7JCc0jmwHvelnM7bYGsG\r\n",
       "w0Ewi0O4BZZnMDwKbr7jSJtJX4OtGQwHwCyDJe8uz2Dh1w6D1fgIGCyJ2WaHmJ2JuM0yWBI+\r\n",
       "y+D0Bz9gBTunqesB2ACPhTViEYcndcWAtCjcA1+FNTsUhT7wKbh3Bks2ZBWsgMEOotyWdHg+\r\n",
       "vkhxBktkY7VCJiZOJeLzdsVlV/+zoQeuULVE3OVEKr7vkAjt0cgm9fg9G20b4CFgsCSfd2Yw\r\n",
       "yTDYf3qckd3A6mLEAAAAAElFTkSuQmCC\r\n",
       "\"/></code>"
      ],
      "text/plain": [
       "(pict '(picture 43 60 (put 0 40 #33=(picture 43 20 (put 0 7 #30=(color \"red\" #28=(prog #<procedure:...rivate/utils.rkt:282:8> 5))) (put 9 0 #31=(picture 34 20 (put 0 5 #26=(color \"red\" #24=(prog #<procedure:...rivate/utils.rkt:282:8> 10))) (put 14 0 #27=(color \"red\" #23=(prog #<procedure:...rivate/utils.rkt:282:8> 20))))))) (put 0 0 #34=(picture 43 40 (put 0 20 #20=(picture 43 20 (put 0 7 #17=(color \"green\" #15=(prog #<procedure:...rivate/utils.rkt:282:8> 5))) (put 9 0 #18=(picture 34 20 (put 0 5 #13=(color \"green\" #11=(prog #<procedure:...rivate/utils.rkt:282:8> 10))) (put 14 0 #14=(color \"green\" #10=(prog #<procedure:...rivate/utils.rkt:282:8> 20))))))) (put 0 0 #21=(picture 43 20 (put 0 7 #7=(color \"blue\" #5=(prog #<procedure:...rivate/utils.rkt:282:8> 5))) (put 9 0 #8=(picture 34 20 (put 0 5 #3=(color \"blue\" #1=(prog #<procedure:...rivate/utils.rkt:282:8> 10))) (put 14 0 #4=(color \"blue\" #0=(prog #<procedure:...rivate/utils.rkt:282:8> 20)))))))))) 43 60 13 0 (list (child (pict #33# 43 20 13 0 (list (child (pict #30# 5 5 5 0 (list (child (pict #28# 5 5 5 0 '() #f #f) 0 0 1 1 0 0)) #f #f) 0 7 1 1 0 0) (child #29=(pict #31# 34 20 15 0 (list (child (pict #26# 10 10 10 0 (list (child (pict #24# 10 10 10 0 '() #f #f) 0 0 1 1 0 0)) #f #f) 0 5 1 1 0 0) (child #25=(pict #27# 20 20 20 0 (list (child (pict #23# 20 20 20 0 '() #f #f) 0 0 1 1 0 0)) #f #f) 14 0 1 1 0 0)) #f #25#) 9 0 1 1 0 0)) #f (list #29# #25#)) 0 40 1 1 0 0) (child #32=(pict #34# 43 40 13 0 (list (child (pict #20# 43 20 13 0 (list (child (pict #17# 5 5 5 0 (list (child (pict #15# 5 5 5 0 '() #f #f) 0 0 1 1 0 0)) #f #f) 0 7 1 1 0 0) (child #16=(pict #18# 34 20 15 0 (list (child (pict #13# 10 10 10 0 (list (child (pict #11# 10 10 10 0 '() #f #f) 0 0 1 1 0 0)) #f #f) 0 5 1 1 0 0) (child #12=(pict #14# 20 20 20 0 (list (child (pict #10# 20 20 20 0 '() #f #f) 0 0 1 1 0 0)) #f #f) 14 0 1 1 0 0)) #f #12#) 9 0 1 1 0 0)) #f (list #16# #12#)) 0 20 1 1 0 0) (child #19=(pict #21# 43 20 13 0 (list (child (pict #7# 5 5 5 0 (list (child (pict #5# 5 5 5 0 '() #f #f) 0 0 1 1 0 0)) #f #f) 0 7 1 1 0 0) (child #6=(pict #8# 34 20 15 0 (list (child (pict #3# 10 10 10 0 (list (child (pict #1# 10 10 10 0 '() #f #f) 0 0 1 1 0 0)) #f #f) 0 5 1 1 0 0) (child #2=(pict #4# 20 20 20 0 (list (child (pict #0# 20 20 20 0 '() #f #f) 0 0 1 1 0 0)) #f #f) 14 0 1 1 0 0)) #f #2#) 9 0 1 1 0 0)) #f #9=(list #6# #2#)) 0 0 1 1 0 0)) #f #22=(list #19# #9#)) 0 0 1 1 0 0)) #f (list #32# #22#))"
      ]
     },
     "execution_count": 15,
     "metadata": {},
     "output_type": "execute_result"
    }
   ],
   "source": [
    "(define (rgb-series mk)\n",
    "  (vc-append\n",
    "   (series (lambda (sz) (colorize (mk sz) \"red\")))\n",
    "   (series (lambda (sz) (colorize (mk sz) \"green\")))\n",
    "   (series (lambda (sz) (colorize (mk sz) \"blue\")))))\n",
    "\n",
    "(rgb-series circle)"
   ]
  },
  {
   "cell_type": "code",
   "execution_count": 16,
   "metadata": {},
   "outputs": [
    {
     "data": {
      "text/html": [
       "<code><img style=\"display: inline; vertical-align: baseline; padding: 0pt; margin: 0pt; border: 0pt\" src=\"data:image/png;base64,iVBORw0KGgoAAAANSUhEUgAAACsAAAA8CAYAAAD/jkPjAAAAyUlEQVRoge2XMQoEMQzEksP/\r\n",
       "/7K3uqsMZ7IZsGBUhyBkXHhn5pKx99XPPzc/U2NZFSjZaL3qLkrmfiPzD1RZlGyUIxaP8xRU\r\n",
       "WcuqQMnG1GWqgJXtMKQ+qqxlVaBkewt2yN0LDFbWsipQsq0F281VyeUb7AdKNqoRq8d5Cqqs\r\n",
       "ZVWgZGPqMlWwynYeTamPKmtZFShZ6Q12+whDlbWsCpRs7wbbq3eD5fIN9gUlG9WI1eM8BVXW\r\n",
       "sipQsjF1mSpYZTuPptRHlbWsCpTsA3eyJIwNAVEZAAAAAElFTkSuQmCC\r\n",
       "\"/></code>"
      ],
      "text/plain": [
       "(pict '(picture 43 60 (put 0 40 #33=(picture 43 20 (put 0 7 #30=(color \"red\" #28=(prog #<procedure:...rivate/utils.rkt:282:8> 5))) (put 9 0 #31=(picture 34 20 (put 0 5 #26=(color \"red\" #24=(prog #<procedure:...rivate/utils.rkt:282:8> 10))) (put 14 0 #27=(color \"red\" #23=(prog #<procedure:...rivate/utils.rkt:282:8> 20))))))) (put 0 0 #34=(picture 43 40 (put 0 20 #20=(picture 43 20 (put 0 7 #17=(color \"green\" #15=(prog #<procedure:...rivate/utils.rkt:282:8> 5))) (put 9 0 #18=(picture 34 20 (put 0 5 #13=(color \"green\" #11=(prog #<procedure:...rivate/utils.rkt:282:8> 10))) (put 14 0 #14=(color \"green\" #10=(prog #<procedure:...rivate/utils.rkt:282:8> 20))))))) (put 0 0 #21=(picture 43 20 (put 0 7 #7=(color \"blue\" #5=(prog #<procedure:...rivate/utils.rkt:282:8> 5))) (put 9 0 #8=(picture 34 20 (put 0 5 #3=(color \"blue\" #1=(prog #<procedure:...rivate/utils.rkt:282:8> 10))) (put 14 0 #4=(color \"blue\" #0=(prog #<procedure:...rivate/utils.rkt:282:8> 20)))))))))) 43 60 13 0 (list (child (pict #33# 43 20 13 0 (list (child (pict #30# 5 5 5 0 (list (child (pict #28# 5 5 5 0 '() #f #f) 0 0 1 1 0 0)) #f #f) 0 7 1 1 0 0) (child #29=(pict #31# 34 20 15 0 (list (child (pict #26# 10 10 10 0 (list (child (pict #24# 10 10 10 0 '() #f #f) 0 0 1 1 0 0)) #f #f) 0 5 1 1 0 0) (child #25=(pict #27# 20 20 20 0 (list (child (pict #23# 20 20 20 0 '() #f #f) 0 0 1 1 0 0)) #f #f) 14 0 1 1 0 0)) #f #25#) 9 0 1 1 0 0)) #f (list #29# #25#)) 0 40 1 1 0 0) (child #32=(pict #34# 43 40 13 0 (list (child (pict #20# 43 20 13 0 (list (child (pict #17# 5 5 5 0 (list (child (pict #15# 5 5 5 0 '() #f #f) 0 0 1 1 0 0)) #f #f) 0 7 1 1 0 0) (child #16=(pict #18# 34 20 15 0 (list (child (pict #13# 10 10 10 0 (list (child (pict #11# 10 10 10 0 '() #f #f) 0 0 1 1 0 0)) #f #f) 0 5 1 1 0 0) (child #12=(pict #14# 20 20 20 0 (list (child (pict #10# 20 20 20 0 '() #f #f) 0 0 1 1 0 0)) #f #f) 14 0 1 1 0 0)) #f #12#) 9 0 1 1 0 0)) #f (list #16# #12#)) 0 20 1 1 0 0) (child #19=(pict #21# 43 20 13 0 (list (child (pict #7# 5 5 5 0 (list (child (pict #5# 5 5 5 0 '() #f #f) 0 0 1 1 0 0)) #f #f) 0 7 1 1 0 0) (child #6=(pict #8# 34 20 15 0 (list (child (pict #3# 10 10 10 0 (list (child (pict #1# 10 10 10 0 '() #f #f) 0 0 1 1 0 0)) #f #f) 0 5 1 1 0 0) (child #2=(pict #4# 20 20 20 0 (list (child (pict #0# 20 20 20 0 '() #f #f) 0 0 1 1 0 0)) #f #f) 14 0 1 1 0 0)) #f #2#) 9 0 1 1 0 0)) #f #9=(list #6# #2#)) 0 0 1 1 0 0)) #f #22=(list #19# #9#)) 0 0 1 1 0 0)) #f (list #32# #22#))"
      ]
     },
     "execution_count": 16,
     "metadata": {},
     "output_type": "execute_result"
    }
   ],
   "source": [
    "(rgb-series square)"
   ]
  },
  {
   "cell_type": "code",
   "execution_count": 17,
   "metadata": {
    "scrolled": true
   },
   "outputs": [
    {
     "data": {
      "text/html": [
       "<code><img style=\"display: inline; vertical-align: baseline; padding: 0pt; margin: 0pt; border: 0pt\" src=\"data:image/png;base64,iVBORw0KGgoAAAANSUhEUgAAACsAAAA8CAYAAAD/jkPjAAAE+UlEQVRoge3ZzW+U1xUG8N9r\r\n",
       "Iw2iOBCQKgE7o6yyS6MqINpNwXIXLbQIJRsU40Rtll7zL0QG8SdUICXd0VVbKsCmVYMpzqZ8\r\n",
       "FBTsBSKVugKMKrIgTxZzR5l6xvPFjEUlrnQ0M+9977nP+8455zmPbpXEpo6qquFXmMY7+GGZ\r\n",
       "+Q++xB9xUfJNy9okm2ecCKvhT+FUeCvsLvZWmA1/Divh+Pr1mwVyPJwLt8N7Pdx/MNwNZ8P4\r\n",
       "ZoOdDwthZx9rdoZr4dPNA8uxcC+8OcDaXeF++MXowbK1xOiPX8LHoRLDtbER5/5RfCW5MbCH\r\n",
       "5G9YxS9HDfYYPh+Cn9/j6KjBvoO/DsHPNfxo1GD34N9D8PM19o4abIVvh+AnqEYN9mvsG4Kf\r\n",
       "fXg0arBf4idD8PNTLI8a7EV8MAQ/7+MPoyaFLeFOOPwSPqbCrTDez6IqnAxXwsNil8u16tWh\r\n",
       "W8bChXAzTIe9xabDcjjfBfB8WAy7+gC6e7BGhpmwFLa1mdsWboQPO6xvtIgPws962O9I6QfO\r\n",
       "9N8icr3jJhwOf+/BT6P5vlQa7clQKzZZrl0qQH+9fn2V9CBrqmoNeyTPNpifwCPJGz34asia\r\n",
       "n+NdTJaZFfxDB1mzpTvS+hbqLLLRSLmnu6PvvQQv8KT8frHe4frRa529hQMd5g/gn92cVKoT\r\n",
       "+BdmsIjjeLvYcfWGZRZ3K9XxFgc9xuypEre1NnO1knwzG60X4+KcuC3dNZg4KO6Ks9KcYOwP\r\n",
       "V8Pz8rm/Q+n6ohTpHcWmykN0LF1iXixI7xpM7BTXpLl01YXcXHlDc+HqBm+3QQqL4XGxhW6k\r\n",
       "II6Je9I/KYhd4r40SIG1sL0AmghPN1hYiZPiinhY7HK51has2CpWZXANJg6JFVHr6c2KMXFB\r\n",
       "3BTTYm+xabEszrcDLN4XfxkUaJOfy+JEI2YXOsWsmBFL0spgYpu4Ia0MJj4THw0B7G/EhbGq\r\n",
       "Howpn811sHl8gtOR/7ZUk/q10/htm3VD1WBKls6VmJiTtmGwJiWu2z/5hLTGungqJobwZt8Q\r\n",
       "T/4HSIdNn4kfdHC2Xaxt8JAbrusD7IR4OoZlfFypavio/F4/BmWwoWowYn8JhefiqrRNsFPi\r\n",
       "urQyWAmfJWllsKEnWMmq6Jxhv8NXWKhUU5VqR7EpdY6/X+5ZP4arwcgCmSO18tmSYOXpGqSw\r\n",
       "KB4XW+hCClvEHRlcg4kpcUuMI2uknmAyQdozmFTkJLlCHha7XK5tDt328mbJGLlAbpJpsrfY\r\n",
       "NFkm57sAni//SM8aTOxuaWTI/gL4OblKWhNMZsgSaWUw2UZukA87bNxoER9Idw0mjpR+4Iz0\r\n",
       "qcHIdbLhJuQw6arBCr+viktiVkyWalIr32fL3IoMqMGqyhr2JNpqsKoygUeJrhqs1POuGixe\r\n",
       "AQ3WVBo7arB2u22uBqv0rsEqg2kwcqrEbSuD1avIEpnpsH6cnCO3SXcNJgfJXXKW9J1gjdL1\r\n",
       "BZkiO4pNlYfoXLpkvlSc3jWY7CTXSP/nYE2ksEgeF1voSgpyjNwj/ZOC7CL3yejPwchWskoG\r\n",
       "12ByiKyQzTkHSwx8DpZ4fQ7Wbrw+BxvVeH0ONqrx+hxsVKSwhdwhg2uwOqXfIn2cgw2+2f8H\r\n",
       "3TZtOl96it41mOweuJF5SbCNFvFBJ3nUdP+R0g+c6btFHCLoE6WxuURmyWTph2vl+2yZWyED\r\n",
       "noMNcVSV3jRYtGiw7wB4y5dhQ7UPtwAAAABJRU5ErkJggg==\r\n",
       "\"/></code>"
      ],
      "text/plain": [
       "(pict '(picture 43 60 (put 0 22 #33=(picture 5 15 (put 0 10 #30=(color \"red\" #28=(prog #<procedure:...rivate/utils.rkt:282:8> 5))) (put 0 0 #31=(picture 5 10 (put 0 5 #26=(color \"green\" #24=(prog #<procedure:...rivate/utils.rkt:282:8> 5))) (put 0 0 #27=(color \"blue\" #23=(prog #<procedure:...rivate/utils.rkt:282:8> 5))))))) (put 9 0 #34=(picture 34 60 (put 0 15 #20=(picture 10 30 (put 0 20 #17=(color \"red\" #15=(prog #<procedure:...rivate/utils.rkt:282:8> 10))) (put 0 0 #18=(picture 10 20 (put 0 10 #13=(color \"green\" #11=(prog #<procedure:...rivate/utils.rkt:282:8> 10))) (put 0 0 #14=(color \"blue\" #10=(prog #<procedure:...rivate/utils.rkt:282:8> 10))))))) (put 14 0 #21=(picture 20 60 (put 0 40 #7=(color \"red\" #5=(prog #<procedure:...rivate/utils.rkt:282:8> 20))) (put 0 0 #8=(picture 20 40 (put 0 20 #3=(color \"green\" #1=(prog #<procedure:...rivate/utils.rkt:282:8> 20))) (put 0 0 #4=(color \"blue\" #0=(prog #<procedure:...rivate/utils.rkt:282:8> 20)))))))))) 43 60 20 0 (list (child (pict #33# 5 15 5 0 (list (child (pict #30# 5 5 5 0 (list (child (pict #28# 5 5 5 0 '() #f #f) 0 0 1 1 0 0)) #f #f) 0 10 1 1 0 0) (child #29=(pict #31# 5 10 5 0 (list (child (pict #26# 5 5 5 0 (list (child (pict #24# 5 5 5 0 '() #f #f) 0 0 1 1 0 0)) #f #f) 0 5 1 1 0 0) (child #25=(pict #27# 5 5 5 0 (list (child (pict #23# 5 5 5 0 '() #f #f) 0 0 1 1 0 0)) #f #f) 0 0 1 1 0 0)) #f #25#) 0 0 1 1 0 0)) #f (list #29# #25#)) 0 22 1 1 0 0) (child #32=(pict #34# 34 60 20 0 (list (child (pict #20# 10 30 10 0 (list (child (pict #17# 10 10 10 0 (list (child (pict #15# 10 10 10 0 '() #f #f) 0 0 1 1 0 0)) #f #f) 0 20 1 1 0 0) (child #16=(pict #18# 10 20 10 0 (list (child (pict #13# 10 10 10 0 (list (child (pict #11# 10 10 10 0 '() #f #f) 0 0 1 1 0 0)) #f #f) 0 10 1 1 0 0) (child #12=(pict #14# 10 10 10 0 (list (child (pict #10# 10 10 10 0 '() #f #f) 0 0 1 1 0 0)) #f #f) 0 0 1 1 0 0)) #f #12#) 0 0 1 1 0 0)) #f (list #16# #12#)) 0 15 1 1 0 0) (child #19=(pict #21# 20 60 20 0 (list (child (pict #7# 20 20 20 0 (list (child (pict #5# 20 20 20 0 '() #f #f) 0 0 1 1 0 0)) #f #f) 0 40 1 1 0 0) (child #6=(pict #8# 20 40 20 0 (list (child (pict #3# 20 20 20 0 (list (child (pict #1# 20 20 20 0 '() #f #f) 0 0 1 1 0 0)) #f #f) 0 20 1 1 0 0) (child #2=(pict #4# 20 20 20 0 (list (child (pict #0# 20 20 20 0 '() #f #f) 0 0 1 1 0 0)) #f #f) 0 0 1 1 0 0)) #f #2#) 0 0 1 1 0 0)) #f #9=(list #6# #2#)) 14 0 1 1 0 0)) #f #22=(list #19# #9#)) 9 0 1 1 0 0)) #f (list #32# #22#))"
      ]
     },
     "execution_count": 17,
     "metadata": {},
     "output_type": "execute_result"
    }
   ],
   "source": [
    "(define (rgb-maker mk)\n",
    "  (lambda (sz)\n",
    "    (vc-append (colorize (mk sz) \"red\")\n",
    "               (colorize (mk sz) \"green\")\n",
    "               (colorize (mk sz) \"blue\"))))\n",
    "\n",
    "(series (rgb-maker circle))"
   ]
  }
 ],
 "metadata": {
  "kernelspec": {
   "display_name": "Racket",
   "language": "racket",
   "name": "racket"
  },
  "language_info": {
   "codemirror_mode": "scheme",
   "file_extension": ".rkt",
   "mimetype": "text/x-racket",
   "name": "Racket",
   "pygments_lexer": "racket",
   "version": "6.11"
  }
 },
 "nbformat": 4,
 "nbformat_minor": 1
}
