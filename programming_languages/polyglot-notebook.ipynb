{
 "cells": [
  {
   "cell_type": "markdown",
   "metadata": {},
   "source": [
    "## Polyglot Jupyter Notebook: Conference Contributions per Country"
   ]
  },
  {
   "cell_type": "markdown",
   "metadata": {},
   "source": [
    "#### Scraping the conference data from a web table using `ruby's nokogiri` library"
   ]
  },
  {
   "cell_type": "code",
   "execution_count": 1,
   "metadata": {
    "scrolled": true
   },
   "outputs": [
    {
     "data": {
      "text/plain": [
       "998"
      ]
     },
     "execution_count": 1,
     "metadata": {},
     "output_type": "execute_result"
    }
   ],
   "source": [
    "%polyglot ruby\n",
    "\n",
    "require \"nokogiri\"; require \"open-uri\"\n",
    "url = \"https://2018.splashcon.org/people-index\" # \"https://2019.programming-conference.org/people-index\"\n",
    "doc = Nokogiri::HTML(open(url))\n",
    "$rows = doc.css(\"#results-table .row\").map { |row| row.css(\"div\").map(&:content) }\n",
    "$rows.length"
   ]
  },
  {
   "cell_type": "markdown",
   "metadata": {},
   "source": [
    "#### Compiling a list of all contributing countries using `python's pycountry` library"
   ]
  },
  {
   "cell_type": "code",
   "execution_count": 2,
   "metadata": {},
   "outputs": [
    {
     "data": {
      "text/plain": [
       "576"
      ]
     },
     "execution_count": 2,
     "metadata": {},
     "output_type": "execute_result"
    }
   ],
   "source": [
    "%polyglot python\n",
    "\n",
    "import pycountry\n",
    "\n",
    "countries = [c.name for c in pycountry.countries for row in rows if c.name in str(row[2]) or c.name in str(row[1])]\n",
    "len(countries)"
   ]
  },
  {
   "cell_type": "markdown",
   "metadata": {},
   "source": [
    "#### Plotting the conference contributions per country using `R's ggplot2` library"
   ]
  },
  {
   "cell_type": "code",
   "execution_count": 3,
   "metadata": {
    "scrolled": false
   },
   "outputs": [
    {
     "data": {},
     "execution_count": 3,
     "metadata": {},
     "output_type": "execute_result"
    }
   ],
   "source": [
    "%polyglot R\n",
    "\n",
    "library(ggplot2)\n",
    "\n",
    "values <- data.frame(contributors = countries)\n",
    "data <- aggregate(x = values, by = list(countries = values$contributors), FUN = length)\n",
    "\n",
    "svg()\n",
    "plt <- ggplot(data, aes(x = reorder(countries, +contributors), contributors)) +\n",
    "  geom_bar(stat = \"identity\") + xlab(\"\") + ylab(\"\") + coord_flip() +\n",
    "  geom_hline(aes(yintercept = mean(contributors)))\n",
    "print(plt)\n",
    "svg <- svg.off()"
   ]
  },
  {
   "cell_type": "markdown",
   "metadata": {},
   "source": [
    "#### Display `ggplot2's` svg code"
   ]
  },
  {
   "cell_type": "code",
   "execution_count": 4,
   "metadata": {},
   "outputs": [
    {
     "data": {
      "image/svg+xml": [
       "<?xml version=\"1.0\" encoding=\"utf-8\"?>\n",
       "<!DOCTYPE svg PUBLIC \"-//W3C//DTD SVG 1.1//EN\" \"http://www.w3.org/Graphics/SVG/1.1/DTD/svg11.dtd\">\n",
       "<svg xmlns='http://www.w3.org/2000/svg' xmlns:xlink='http://www.w3.org/1999/xlink' version='1.1' viewBox='0 0 506 506' style='fill:transparent'>\n",
       "<g style='stroke-width:1.4226377952755906;stroke-linejoin:round;stroke-linecap:round'>\n",
       "<rect x='0' y='0' width='506' height='506' style='stroke:#FFFFFF;fill:#FFFFFF'/>\n",
       "<rect x='97' y='6' width='404' height='473' style='stroke:rgb(0,0,0);stroke-opacity:0.000;fill:#EBEBEB'/>\n",
       "</g><g style='stroke-width:0.7113188976377953;stroke-linejoin:round;stroke-linecap:butt'>\n",
       "<polyline points='162,479 162,6' style='stroke:#FFFFFF'/>\n",
       "<polyline points='257,479 257,6' style='stroke:#FFFFFF'/>\n",
       "<polyline points='351,479 351,6' style='stroke:#FFFFFF'/>\n",
       "<polyline points='446,479 446,6' style='stroke:#FFFFFF'/>\n",
       "</g><g style='stroke-width:1.4226377952755906;stroke-linejoin:round;stroke-linecap:butt'>\n",
       "<polyline points='97,471 500,471' style='stroke:#FFFFFF'/>\n",
       "<polyline points='97,457 500,457' style='stroke:#FFFFFF'/>\n",
       "<polyline points='97,443 500,443' style='stroke:#FFFFFF'/>\n",
       "<polyline points='97,429 500,429' style='stroke:#FFFFFF'/>\n",
       "<polyline points='97,415 500,415' style='stroke:#FFFFFF'/>\n",
       "<polyline points='97,401 500,401' style='stroke:#FFFFFF'/>\n",
       "<polyline points='97,387 500,387' style='stroke:#FFFFFF'/>\n",
       "<polyline points='97,374 500,374' style='stroke:#FFFFFF'/>\n",
       "<polyline points='97,360 500,360' style='stroke:#FFFFFF'/>\n",
       "<polyline points='97,346 500,346' style='stroke:#FFFFFF'/>\n",
       "<polyline points='97,332 500,332' style='stroke:#FFFFFF'/>\n",
       "<polyline points='97,318 500,318' style='stroke:#FFFFFF'/>\n",
       "<polyline points='97,304 500,304' style='stroke:#FFFFFF'/>\n",
       "<polyline points='97,291 500,291' style='stroke:#FFFFFF'/>\n",
       "<polyline points='97,277 500,277' style='stroke:#FFFFFF'/>\n",
       "<polyline points='97,263 500,263' style='stroke:#FFFFFF'/>\n",
       "<polyline points='97,249 500,249' style='stroke:#FFFFFF'/>\n",
       "<polyline points='97,235 500,235' style='stroke:#FFFFFF'/>\n",
       "<polyline points='97,221 500,221' style='stroke:#FFFFFF'/>\n",
       "<polyline points='97,208 500,208' style='stroke:#FFFFFF'/>\n",
       "<polyline points='97,194 500,194' style='stroke:#FFFFFF'/>\n",
       "<polyline points='97,180 500,180' style='stroke:#FFFFFF'/>\n",
       "<polyline points='97,166 500,166' style='stroke:#FFFFFF'/>\n",
       "<polyline points='97,152 500,152' style='stroke:#FFFFFF'/>\n",
       "<polyline points='97,138 500,138' style='stroke:#FFFFFF'/>\n",
       "<polyline points='97,125 500,125' style='stroke:#FFFFFF'/>\n",
       "<polyline points='97,111 500,111' style='stroke:#FFFFFF'/>\n",
       "<polyline points='97,97 500,97' style='stroke:#FFFFFF'/>\n",
       "<polyline points='97,83 500,83' style='stroke:#FFFFFF'/>\n",
       "<polyline points='97,69 500,69' style='stroke:#FFFFFF'/>\n",
       "<polyline points='97,55 500,55' style='stroke:#FFFFFF'/>\n",
       "<polyline points='97,41 500,41' style='stroke:#FFFFFF'/>\n",
       "<polyline points='97,28 500,28' style='stroke:#FFFFFF'/>\n",
       "<polyline points='97,14 500,14' style='stroke:#FFFFFF'/>\n",
       "<polyline points='115,479 115,6' style='stroke:#FFFFFF'/>\n",
       "<polyline points='210,479 210,6' style='stroke:#FFFFFF'/>\n",
       "<polyline points='304,479 304,6' style='stroke:#FFFFFF'/>\n",
       "<polyline points='399,479 399,6' style='stroke:#FFFFFF'/>\n",
       "<polyline points='493,479 493,6' style='stroke:#FFFFFF'/>\n",
       "<rect x='115' y='464' width='2' height='12' style='stroke:rgb(0,0,0);stroke-opacity:0.000;fill:#595959'/>\n",
       "<rect x='115' y='450' width='2' height='12' style='stroke:rgb(0,0,0);stroke-opacity:0.000;fill:#595959'/>\n",
       "<rect x='115' y='437' width='2' height='12' style='stroke:rgb(0,0,0);stroke-opacity:0.000;fill:#595959'/>\n",
       "<rect x='115' y='423' width='2' height='12' style='stroke:rgb(0,0,0);stroke-opacity:0.000;fill:#595959'/>\n",
       "<rect x='115' y='409' width='2' height='12' style='stroke:rgb(0,0,0);stroke-opacity:0.000;fill:#595959'/>\n",
       "<rect x='115' y='395' width='2' height='12' style='stroke:rgb(0,0,0);stroke-opacity:0.000;fill:#595959'/>\n",
       "<rect x='115' y='381' width='4' height='12' style='stroke:rgb(0,0,0);stroke-opacity:0.000;fill:#595959'/>\n",
       "<rect x='115' y='367' width='4' height='12' style='stroke:rgb(0,0,0);stroke-opacity:0.000;fill:#595959'/>\n",
       "<rect x='115' y='354' width='4' height='12' style='stroke:rgb(0,0,0);stroke-opacity:0.000;fill:#595959'/>\n",
       "<rect x='115' y='340' width='4' height='12' style='stroke:rgb(0,0,0);stroke-opacity:0.000;fill:#595959'/>\n",
       "<rect x='115' y='326' width='4' height='12' style='stroke:rgb(0,0,0);stroke-opacity:0.000;fill:#595959'/>\n",
       "<rect x='115' y='312' width='6' height='12' style='stroke:rgb(0,0,0);stroke-opacity:0.000;fill:#595959'/>\n",
       "<rect x='115' y='298' width='6' height='12' style='stroke:rgb(0,0,0);stroke-opacity:0.000;fill:#595959'/>\n",
       "<rect x='115' y='284' width='6' height='12' style='stroke:rgb(0,0,0);stroke-opacity:0.000;fill:#595959'/>\n",
       "<rect x='115' y='271' width='8' height='12' style='stroke:rgb(0,0,0);stroke-opacity:0.000;fill:#595959'/>\n",
       "<rect x='115' y='257' width='11' height='12' style='stroke:rgb(0,0,0);stroke-opacity:0.000;fill:#595959'/>\n",
       "<rect x='115' y='243' width='13' height='12' style='stroke:rgb(0,0,0);stroke-opacity:0.000;fill:#595959'/>\n",
       "<rect x='115' y='229' width='15' height='12' style='stroke:rgb(0,0,0);stroke-opacity:0.000;fill:#595959'/>\n",
       "<rect x='115' y='215' width='15' height='12' style='stroke:rgb(0,0,0);stroke-opacity:0.000;fill:#595959'/>\n",
       "<rect x='115' y='201' width='17' height='12' style='stroke:rgb(0,0,0);stroke-opacity:0.000;fill:#595959'/>\n",
       "<rect x='115' y='187' width='19' height='12' style='stroke:rgb(0,0,0);stroke-opacity:0.000;fill:#595959'/>\n",
       "<rect x='115' y='174' width='19' height='12' style='stroke:rgb(0,0,0);stroke-opacity:0.000;fill:#595959'/>\n",
       "<rect x='115' y='160' width='26' height='12' style='stroke:rgb(0,0,0);stroke-opacity:0.000;fill:#595959'/>\n",
       "<rect x='115' y='146' width='28' height='12' style='stroke:rgb(0,0,0);stroke-opacity:0.000;fill:#595959'/>\n",
       "<rect x='115' y='132' width='30' height='12' style='stroke:rgb(0,0,0);stroke-opacity:0.000;fill:#595959'/>\n",
       "<rect x='115' y='118' width='32' height='12' style='stroke:rgb(0,0,0);stroke-opacity:0.000;fill:#595959'/>\n",
       "<rect x='115' y='104' width='38' height='12' style='stroke:rgb(0,0,0);stroke-opacity:0.000;fill:#595959'/>\n",
       "<rect x='115' y='91' width='42' height='12' style='stroke:rgb(0,0,0);stroke-opacity:0.000;fill:#595959'/>\n",
       "<rect x='115' y='77' width='49' height='12' style='stroke:rgb(0,0,0);stroke-opacity:0.000;fill:#595959'/>\n",
       "<rect x='115' y='63' width='49' height='12' style='stroke:rgb(0,0,0);stroke-opacity:0.000;fill:#595959'/>\n",
       "<rect x='115' y='49' width='62' height='12' style='stroke:rgb(0,0,0);stroke-opacity:0.000;fill:#595959'/>\n",
       "<rect x='115' y='35' width='83' height='12' style='stroke:rgb(0,0,0);stroke-opacity:0.000;fill:#595959'/>\n",
       "<rect x='115' y='21' width='117' height='12' style='stroke:rgb(0,0,0);stroke-opacity:0.000;fill:#595959'/>\n",
       "<rect x='115' y='8' width='367' height='12' style='stroke:rgb(0,0,0);stroke-opacity:0.000;fill:#595959'/>\n",
       "<polyline points='147,479 147,6' style='stroke:#000000'/>\n",
       "</g><text x='54' y='474' lengthAdjust='spacingAndGlyphs' textLength='38px' style='font-size:8.8px;fill:#4D4D4D'>Czechia</text>\n",
       "<text x='55' y='460' lengthAdjust='spacingAndGlyphs' textLength='37px' style='font-size:8.8px;fill:#4D4D4D'>Hungary</text>\n",
       "<text x='60' y='446' lengthAdjust='spacingAndGlyphs' textLength='32px' style='font-size:8.8px;fill:#4D4D4D'>Poland</text>\n",
       "<text x='44' y='432' lengthAdjust='spacingAndGlyphs' textLength='48px' style='font-size:8.8px;fill:#4D4D4D'>Singapore</text>\n",
       "<text x='49' y='418' lengthAdjust='spacingAndGlyphs' textLength='43px' style='font-size:8.8px;fill:#4D4D4D'>Slovenia</text>\n",
       "<text x='28' y='404' lengthAdjust='spacingAndGlyphs' textLength='63px' style='font-size:8.8px;fill:#4D4D4D'>South Africa</text>\n",
       "<text x='44' y='391' lengthAdjust='spacingAndGlyphs' textLength='48px' style='font-size:8.8px;fill:#4D4D4D'>Argentina</text>\n",
       "<text x='65' y='377' lengthAdjust='spacingAndGlyphs' textLength='26px' style='font-size:8.8px;fill:#4D4D4D'>Chile</text>\n",
       "<text x='55' y='363' lengthAdjust='spacingAndGlyphs' textLength='37px' style='font-size:8.8px;fill:#4D4D4D'>Ireland</text>\n",
       "<text x='58' y='349' lengthAdjust='spacingAndGlyphs' textLength='33px' style='font-size:8.8px;fill:#4D4D4D'>Norway</text>\n",
       "<text x='49' y='335' lengthAdjust='spacingAndGlyphs' textLength='42px' style='font-size:8.8px;fill:#4D4D4D'>Portugal</text>\n",
       "<text x='60' y='321' lengthAdjust='spacingAndGlyphs' textLength='32px' style='font-size:8.8px;fill:#4D4D4D'>Greece</text>\n",
       "<text x='44' y='308' lengthAdjust='spacingAndGlyphs' textLength='48px' style='font-size:8.8px;fill:#4D4D4D'>Hong Kong</text>\n",
       "<text x='37' y='294' lengthAdjust='spacingAndGlyphs' textLength='55px' style='font-size:8.8px;fill:#4D4D4D'>Luxembourg</text>\n",
       "<text x='65' y='280' lengthAdjust='spacingAndGlyphs' textLength='26px' style='font-size:8.8px;fill:#4D4D4D'>Spain</text>\n",
       "<text x='44' y='266' lengthAdjust='spacingAndGlyphs' textLength='48px' style='font-size:8.8px;fill:#4D4D4D'>Australia</text>\n",
       "<text x='65' y='252' lengthAdjust='spacingAndGlyphs' textLength='26px' style='font-size:8.8px;fill:#4D4D4D'>China</text>\n",
       "<text x='55' y='238' lengthAdjust='spacingAndGlyphs' textLength='37px' style='font-size:8.8px;fill:#4D4D4D'>Austria</text>\n",
       "<text x='60' y='224' lengthAdjust='spacingAndGlyphs' textLength='32px' style='font-size:8.8px;fill:#4D4D4D'>Israel</text>\n",
       "<text x='32' y='211' lengthAdjust='spacingAndGlyphs' textLength='60px' style='font-size:8.8px;fill:#4D4D4D'>New Zealand</text>\n",
       "<text x='59' y='197' lengthAdjust='spacingAndGlyphs' textLength='33px' style='font-size:8.8px;fill:#4D4D4D'>Brazil</text>\n",
       "<text x='53' y='183' lengthAdjust='spacingAndGlyphs' textLength='39px' style='font-size:8.8px;fill:#4D4D4D'>Denmark</text>\n",
       "<text x='65' y='169' lengthAdjust='spacingAndGlyphs' textLength='26px' style='font-size:8.8px;fill:#4D4D4D'>India</text>\n",
       "<text x='58' y='155' lengthAdjust='spacingAndGlyphs' textLength='33px' style='font-size:8.8px;fill:#4D4D4D'>Sweden</text>\n",
       "<text x='65' y='141' lengthAdjust='spacingAndGlyphs' textLength='26px' style='font-size:8.8px;fill:#4D4D4D'>Japan</text>\n",
       "<text x='65' y='128' lengthAdjust='spacingAndGlyphs' textLength='26px' style='font-size:8.8px;fill:#4D4D4D'>Italy</text>\n",
       "<text x='53' y='114' lengthAdjust='spacingAndGlyphs' textLength='39px' style='font-size:8.8px;fill:#4D4D4D'>Belgium</text>\n",
       "<text x='34' y='100' lengthAdjust='spacingAndGlyphs' textLength='58px' style='font-size:8.8px;fill:#4D4D4D'>Netherlands</text>\n",
       "<text x='60' y='86' lengthAdjust='spacingAndGlyphs' textLength='32px' style='font-size:8.8px;fill:#4D4D4D'>France</text>\n",
       "<text x='31' y='72' lengthAdjust='spacingAndGlyphs' textLength='61px' style='font-size:8.8px;fill:#4D4D4D'>Switzerland</text>\n",
       "<text x='16' y='58' lengthAdjust='spacingAndGlyphs' textLength='76px' style='font-size:8.8px;fill:#4D4D4D'>United Kingdom</text>\n",
       "<text x='60' y='45' lengthAdjust='spacingAndGlyphs' textLength='32px' style='font-size:8.8px;fill:#4D4D4D'>Canada</text>\n",
       "<text x='53' y='31' lengthAdjust='spacingAndGlyphs' textLength='39px' style='font-size:8.8px;fill:#4D4D4D'>Germany</text>\n",
       "<text x='23' y='17' lengthAdjust='spacingAndGlyphs' textLength='69px' style='font-size:8.8px;fill:#4D4D4D'>United States</text>\n",
       "<g style='stroke-width:1.4226377952755906;stroke-linejoin:round;stroke-linecap:butt'>\n",
       "<polyline points='94,471 97,471' style='stroke:#333333'/>\n",
       "<polyline points='94,457 97,457' style='stroke:#333333'/>\n",
       "<polyline points='94,443 97,443' style='stroke:#333333'/>\n",
       "<polyline points='94,429 97,429' style='stroke:#333333'/>\n",
       "<polyline points='94,415 97,415' style='stroke:#333333'/>\n",
       "<polyline points='94,401 97,401' style='stroke:#333333'/>\n",
       "<polyline points='94,387 97,387' style='stroke:#333333'/>\n",
       "<polyline points='94,374 97,374' style='stroke:#333333'/>\n",
       "<polyline points='94,360 97,360' style='stroke:#333333'/>\n",
       "<polyline points='94,346 97,346' style='stroke:#333333'/>\n",
       "<polyline points='94,332 97,332' style='stroke:#333333'/>\n",
       "<polyline points='94,318 97,318' style='stroke:#333333'/>\n",
       "<polyline points='94,304 97,304' style='stroke:#333333'/>\n",
       "<polyline points='94,291 97,291' style='stroke:#333333'/>\n",
       "<polyline points='94,277 97,277' style='stroke:#333333'/>\n",
       "<polyline points='94,263 97,263' style='stroke:#333333'/>\n",
       "<polyline points='94,249 97,249' style='stroke:#333333'/>\n",
       "<polyline points='94,235 97,235' style='stroke:#333333'/>\n",
       "<polyline points='94,221 97,221' style='stroke:#333333'/>\n",
       "<polyline points='94,208 97,208' style='stroke:#333333'/>\n",
       "<polyline points='94,194 97,194' style='stroke:#333333'/>\n",
       "<polyline points='94,180 97,180' style='stroke:#333333'/>\n",
       "<polyline points='94,166 97,166' style='stroke:#333333'/>\n",
       "<polyline points='94,152 97,152' style='stroke:#333333'/>\n",
       "<polyline points='94,138 97,138' style='stroke:#333333'/>\n",
       "<polyline points='94,125 97,125' style='stroke:#333333'/>\n",
       "<polyline points='94,111 97,111' style='stroke:#333333'/>\n",
       "<polyline points='94,97 97,97' style='stroke:#333333'/>\n",
       "<polyline points='94,83 97,83' style='stroke:#333333'/>\n",
       "<polyline points='94,69 97,69' style='stroke:#333333'/>\n",
       "<polyline points='94,55 97,55' style='stroke:#333333'/>\n",
       "<polyline points='94,41 97,41' style='stroke:#333333'/>\n",
       "<polyline points='94,28 97,28' style='stroke:#333333'/>\n",
       "<polyline points='94,14 97,14' style='stroke:#333333'/>\n",
       "<polyline points='115,482 115,479' style='stroke:#333333'/>\n",
       "<polyline points='210,482 210,479' style='stroke:#333333'/>\n",
       "<polyline points='304,482 304,479' style='stroke:#333333'/>\n",
       "<polyline points='399,482 399,479' style='stroke:#333333'/>\n",
       "<polyline points='493,482 493,479' style='stroke:#333333'/>\n",
       "</g><text x='112' y='490' lengthAdjust='spacingAndGlyphs' textLength='5px' style='font-size:8.8px;fill:#4D4D4D'>0</text>\n",
       "<text x='204' y='490' lengthAdjust='spacingAndGlyphs' textLength='11px' style='font-size:8.8px;fill:#4D4D4D'>50</text>\n",
       "<text x='296' y='490' lengthAdjust='spacingAndGlyphs' textLength='16px' style='font-size:8.8px;fill:#4D4D4D'>100</text>\n",
       "<text x='391' y='490' lengthAdjust='spacingAndGlyphs' textLength='16px' style='font-size:8.8px;fill:#4D4D4D'>150</text>\n",
       "<text x='485' y='490' lengthAdjust='spacingAndGlyphs' textLength='16px' style='font-size:8.8px;fill:#4D4D4D'>200</text>\n",
       "<text x='298' y='500' lengthAdjust='spacingAndGlyphs' textLength='0px' style='font-size:11.0px;fill:#000000'></text>\n",
       "<text x='13' y='242' lengthAdjust='spacingAndGlyphs' textLength='0px' style='font-size:11.0px;fill:#000000' transform='rotate(-90,13,242)'></text>\n",
       "</svg>"
      ]
     },
     "execution_count": 4,
     "metadata": {},
     "output_type": "execute_result"
    }
   ],
   "source": [
    "%polyglot js\n",
    "\n",
    "$$.svg(svg)"
   ]
  },
  {
   "cell_type": "code",
   "execution_count": null,
   "metadata": {},
   "outputs": [],
   "source": []
  }
 ],
 "metadata": {
  "kernelspec": {
   "display_name": "Polyglot (GraalJS)",
   "language": "polyglot",
   "name": "polyglot"
  },
  "language_info": {
   "file_extension": ".js",
   "mimetype": "application/javascript",
   "name": "javascript",
   "version": "10.15.2"
  }
 },
 "nbformat": 4,
 "nbformat_minor": 2
}
