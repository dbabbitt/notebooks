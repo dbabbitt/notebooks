{
 "cells": [
  {
   "cell_type": "markdown",
   "id": "040b37ec",
   "metadata": {},
   "source": [
    "<table><tr><td>\n",
    "<img width=\"300\" src=\"http://calicoproject.org/wiki/images/d/d1/CalicoLogo.gif\">\n",
    "</td>\n",
    "<td>\n",
    "The [Calico Project](http://calicoproject.org/) was designed to allow the easy exploration of computing ideas in a variety of programming languages. It is the product of NSF DUE grant #0920539 supporting the [Institute for Personal Robots in Education](http://wiki.roboteducation.org/).\n",
    "<br>\n",
    "<br>\n",
    "You can find out more about these notebooks here: [ICalico](http://calicoproject.org/ICalico).\n",
    "</td></tr></table>\n",
    "\n"
   ]
  },
  {
   "cell_type": "markdown",
   "id": "fc9bed80",
   "metadata": {},
   "source": [
    "Calico Notebooks\n",
    "----------------\n",
    "\n",
    "You can find these notebooks statically viewable on the web here: \n",
    "\n",
    "http://nbviewer.ipython.org/urls/bitbucket.org/ipre/calico/raw/master/notebooks/Index.ipynb\n",
    "\n"
   ]
  },
  {
   "cell_type": "markdown",
   "id": "ed291210",
   "metadata": {},
   "source": [
    "Subfolders in <b>top folder</b>:\n",
    "\n",
    "* [Boo](Boo/Index.ipynb)\n",
    "* [BrainScrew](BrainScrew/Index.ipynb)\n",
    "* [FSharp](FSharp/Index.ipynb)\n",
    "* [Java](Java/Index.ipynb)\n",
    "* [LC3](LC3/Index.ipynb)\n",
    "* [Logo](Logo/Index.ipynb)\n",
    "* [Magic](Magic/Index.ipynb)\n",
    "* [Python](Python/Index.ipynb)\n",
    "* [Ruby](Ruby/Index.ipynb)\n",
    "* [SIGCSE](SIGCSE/Index.ipynb)\n",
    "* [Scheme](Scheme/Index.ipynb)\n",
    "* [Z_Advanced](Z_Advanced/Index.ipynb)\n"
   ]
  },
  {
   "cell_type": "markdown",
   "id": "a1193cb2",
   "metadata": {},
   "source": [
    "Notebooks in <b>top folder</b>:\n",
    "\n",
    "*  [Calico Overview](Calico Overview.ipynb)\n",
    "*  [SiteMap](SiteMap.ipynb)\n"
   ]
  }
 ],
 "metadata": {
  "kernelspec": {
   "display_name": "",
   "name": ""
  },
  "language_info": {
   "name": ""
  }
 },
 "nbformat": 4,
 "nbformat_minor": 5
}
