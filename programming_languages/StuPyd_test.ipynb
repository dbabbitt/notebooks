{
 "cells": [
  {
   "cell_type": "code",
   "execution_count": 3,
   "metadata": {},
   "outputs": [
    {
     "name": "stdout",
     "output_type": "stream",
     "text": [
      "while-loop test\n",
      "\n",
      "1.0:\n",
      "hello, stupyd\n",
      "2.0:\n",
      "hello, stupyd\n",
      "hello, stupyd\n",
      "3.0:\n",
      "hello, stupyd\n",
      "hello, stupyd\n",
      "hello, stupyd\n",
      "\n",
      "END\n"
     ]
    }
   ],
   "source": [
    "print(\"while-loop test\\n\\n\")\n",
    "\n",
    "num a, b\n",
    "1 -> a\n",
    "while a<4:\n",
    "    0 -> b\n",
    "    print(a)\n",
    "    print(\":\\n\")\n",
    "    while b<a:\n",
    "        string hello\n",
    "        \"hello, \" -> hello\n",
    "        hello+\"stupyd\\n\" -> hello\n",
    "        print(hello)\n",
    "        \n",
    "        b+1 -> b\n",
    "    a+1 -> a\n",
    "print(\"\\nEND\\n\")"
   ]
  },
  {
   "cell_type": "code",
   "execution_count": 5,
   "metadata": {
    "scrolled": true
   },
   "outputs": [
    {
     "name": "stdout",
     "output_type": "stream",
     "text": [
      "fibonacci test\n",
      "\n",
      "Fibonacci: \n",
      "1.0\t\t2.0\t\t3.0\t\t5.0\t\t8.0\t\t13.0\t\t21.0\t\t34.0\t\t"
     ]
    }
   ],
   "source": [
    "print(\"fibonacci test\\n\\n\")\n",
    "\n",
    "num a, b, c, d\n",
    "1 -> b\n",
    "print(\"Fibonacci: \\n\")\n",
    "while d<8:\n",
    "    a+b -> c\n",
    "    print(c)\n",
    "    print(\"\\t\\t\")\n",
    "    b -> a\n",
    "    c -> b\n",
    "    d+1 -> d"
   ]
  },
  {
   "cell_type": "code",
   "execution_count": null,
   "metadata": {},
   "outputs": [],
   "source": []
  }
 ],
 "metadata": {
  "kernelspec": {
   "display_name": "Demo",
   "language": "",
   "name": "demo"
  },
  "language_info": {
   "file_extension": ".py",
   "mimetype": "text/python",
   "name": "python"
  }
 },
 "nbformat": 4,
 "nbformat_minor": 2
}
