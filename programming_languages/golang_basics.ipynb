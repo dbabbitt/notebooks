{
 "cells": [
  {
   "cell_type": "markdown",
   "metadata": {},
   "source": [
    "# Welcome to lgo\n",
    "This notebook demostrates the basic usage of lgo. You can use all Go (golang) language features with lgo.\n",
    "\n",
    "## More examples\n",
    "After you learn this notebook, see these notebooks to understand advanced topics.\n",
    "\n",
    "- [interrupt.ipynb](interrupt.ipynb)\n",
    " - This demostrates you can interrupt execution with lgo.\n",
    "- [game_of_life.ipynb](game_of_life.ipynb)\n",
    " - More practical and advanced example with [Conway's Game of Life](https://en.wikipedia.org/wiki/Conway%27s_Game_of_Life)\n",
    "- [bugs.ipynb](bugs.ipynb)\n",
    " - A notebook to demostrate fixed/open known issues.\n",
    "- [many_cells.ipynb](many_cells.ipynb), [make_many_cells.ipynb](make_many_cells.ipynb)\n",
    " - These notebooks demostrate lgo can handle thousands of code snippets.\n",
    "- [gonum.ipynb](gonum.ipynb)\n",
    "  - [gonum](https://github.com/gonum) examples in lgo\n",
    "- [plot_libraries.ipynb](plot_libraries.ipynb)\n",
    "  - Demos of plot libraries in lgo"
   ]
  },
  {
   "cell_type": "markdown",
   "metadata": {},
   "source": [
    "# Environments\n",
    "Displays the environment where this notebook is executed."
   ]
  },
  {
   "cell_type": "code",
   "execution_count": null,
   "metadata": {},
   "outputs": [
    {
     "name": "stdout",
     "output_type": "stream",
     "text": [
      "Go: go1.9.2 (linux_amd64)\n",
      "User: gopher\n",
      "Working dir: /examples\n",
      "NumCPU: 2\n"
     ]
    }
   ],
   "source": [
    "import (\n",
    "    \"fmt\"\n",
    "    \"os\"\n",
    "    \"os/user\"\n",
    "    \"runtime\"\n",
    ")\n",
    "\n",
    "{\n",
    "    user, _ := user.Current()\n",
    "    fmt.Printf(\"Go: %s (%s_%s)\\n\", runtime.Version(), runtime.GOOS, runtime.GOARCH)\n",
    "    fmt.Printf(\"User: %s\\n\", user.Username)\n",
    "    wd, _ := os.Getwd()\n",
    "    fmt.Printf(\"Working dir: %s\\n\", wd)\n",
    "    fmt.Printf(\"NumCPU: %d\\n\", runtime.NumCPU())\n",
    "}"
   ]
  },
  {
   "cell_type": "markdown",
   "metadata": {},
   "source": [
    "# Simple functions"
   ]
  },
  {
   "cell_type": "code",
   "execution_count": null,
   "metadata": {},
   "outputs": [],
   "source": [
    "// naiveFib calculates the n-th fibonacci number\n",
    "func naiveFib(n int) int {\n",
    "    if n > 1 {\n",
    "        return naiveFib(n - 1) + naiveFib(n - 2)\n",
    "    }\n",
    "    return 1\n",
    "}"
   ]
  },
  {
   "cell_type": "code",
   "execution_count": null,
   "metadata": {},
   "outputs": [
    {
     "name": "stdout",
     "output_type": "stream",
     "text": [
      "10946\n"
     ]
    }
   ],
   "source": [
    "naiveFib(20)"
   ]
  },
  {
   "cell_type": "markdown",
   "metadata": {},
   "source": [
    "# if, for, etc.."
   ]
  },
  {
   "cell_type": "code",
   "execution_count": null,
   "metadata": {},
   "outputs": [
    {
     "name": "stdout",
     "output_type": "stream",
     "text": [
      "n is positive: 10\n"
     ]
    }
   ],
   "source": [
    "import \"fmt\"\n",
    "\n",
    "n := 10\n",
    "\n",
    "if n > 0 {\n",
    "    fmt.Println(\"n is positive:\", n)\n",
    "} else {\n",
    "    fmt.Println(\"n is not positive:\", n)\n",
    "}"
   ]
  },
  {
   "cell_type": "code",
   "execution_count": null,
   "metadata": {},
   "outputs": [
    {
     "name": "stdout",
     "output_type": "stream",
     "text": [
      "55\n"
     ]
    }
   ],
   "source": [
    "sum := 0\n",
    "for i := 1; i <= n; i++ {\n",
    "    sum += i\n",
    "}\n",
    "sum"
   ]
  },
  {
   "cell_type": "code",
   "execution_count": null,
   "metadata": {},
   "outputs": [
    {
     "name": "stdout",
     "output_type": "stream",
     "text": [
      "OK\n"
     ]
    }
   ],
   "source": [
    "switch sum {\n",
    "case 55:\n",
    "    fmt.Println(\"OK\")\n",
    "default:\n",
    "    fmt.Println(\"Fail\")\n",
    "}"
   ]
  },
  {
   "cell_type": "markdown",
   "metadata": {},
   "source": [
    "# Use standard libraries"
   ]
  },
  {
   "cell_type": "code",
   "execution_count": null,
   "metadata": {},
   "outputs": [],
   "source": [
    "import (\n",
    "    \"fmt\"\n",
    "    \"math\"\n",
    ")"
   ]
  },
  {
   "cell_type": "code",
   "execution_count": null,
   "metadata": {},
   "outputs": [
    {
     "name": "stdout",
     "output_type": "stream",
     "text": [
      "sin(pi/3) == 0.866025\n",
      "cos(pi/3) == 0.500000\n",
      "sqrt(3)/2 == 0.866025\n",
      "log(e^2) == 2.000000\n",
      "21\n",
      "<nil>\n"
     ]
    }
   ],
   "source": [
    "fmt.Printf(\"sin(pi/3) == %f\\n\", math.Sin(math.Pi/3))\n",
    "fmt.Printf(\"cos(pi/3) == %f\\n\", math.Cos(math.Pi/3))\n",
    "fmt.Printf(\"sqrt(3)/2 == %f\\n\", math.Sqrt(3)/2)\n",
    "fmt.Printf(\"log(e^2) == %f\\n\", math.Log(math.E * math.E))"
   ]
  },
  {
   "cell_type": "markdown",
   "metadata": {},
   "source": [
    "# Non-deterministic code"
   ]
  },
  {
   "cell_type": "code",
   "execution_count": null,
   "metadata": {},
   "outputs": [],
   "source": [
    "import (\n",
    "    \"math/rand\"\n",
    "    \"time\"\n",
    ")"
   ]
  },
  {
   "cell_type": "code",
   "execution_count": null,
   "metadata": {},
   "outputs": [
    {
     "name": "stdout",
     "output_type": "stream",
     "text": [
      "636250466556259171\n"
     ]
    }
   ],
   "source": [
    "rand.Seed(time.Now().UnixNano())\n",
    "r := rand.Int()\n",
    "r"
   ]
  },
  {
   "cell_type": "code",
   "execution_count": null,
   "metadata": {},
   "outputs": [
    {
     "name": "stdout",
     "output_type": "stream",
     "text": [
      "9171\n"
     ]
    }
   ],
   "source": [
    "r % 10000"
   ]
  },
  {
   "cell_type": "code",
   "execution_count": null,
   "metadata": {},
   "outputs": [
    {
     "name": "stdout",
     "output_type": "stream",
     "text": [
      "2017-10-16 13:17:47.637999781 +0000 UTC m=+6.138424087\n"
     ]
    }
   ],
   "source": [
    "start := time.Now()\n",
    "start"
   ]
  },
  {
   "cell_type": "code",
   "execution_count": null,
   "metadata": {},
   "outputs": [
    {
     "name": "stdout",
     "output_type": "stream",
     "text": [
      "2017-10-16 13:17:48.311503905 +0000 UTC m=+6.811928266\n"
     ]
    }
   ],
   "source": [
    "end := time.Now()\n",
    "end"
   ]
  },
  {
   "cell_type": "code",
   "execution_count": null,
   "metadata": {},
   "outputs": [
    {
     "name": "stdout",
     "output_type": "stream",
     "text": [
      "end - start = 673.504179ms26\n",
      "<nil>\n"
     ]
    }
   ],
   "source": [
    "fmt.Printf(\"end - start = %v\", end.Sub(start))"
   ]
  },
  {
   "cell_type": "markdown",
   "metadata": {},
   "source": [
    "# struct and interface"
   ]
  },
  {
   "cell_type": "code",
   "execution_count": null,
   "metadata": {},
   "outputs": [],
   "source": [
    "type person struct {\n",
    "    name string\n",
    "    age int\n",
    "}\n",
    "\n",
    "func (p *person) Hello() string {\n",
    "    return fmt.Sprintf(\"Hello! Name: %s, Age: %d\", p.name, p.age)\n",
    "}"
   ]
  },
  {
   "cell_type": "code",
   "execution_count": null,
   "metadata": {},
   "outputs": [
    {
     "name": "stdout",
     "output_type": "stream",
     "text": [
      "p.name = \"Alice\"\n",
      "p.Hello() == \"Hello! Name: Alice, Age: 12\"\n",
      "43\n",
      "<nil>\n"
     ]
    }
   ],
   "source": [
    "p := person{\"Alice\", 12}\n",
    "fmt.Printf(\"p.name = %q\\n\", p.name)\n",
    "fmt.Printf(\"p.Hello() == %q\\n\", p.Hello())"
   ]
  },
  {
   "cell_type": "code",
   "execution_count": null,
   "metadata": {},
   "outputs": [
    {
     "name": "stdout",
     "output_type": "stream",
     "text": [
      "h is *person\n",
      "h.Hello() == \"Hello! Name: Alice, Age: 12\"\n"
     ]
    }
   ],
   "source": [
    "type hello interface {\n",
    "    Hello() string\n",
    "}\n",
    "\n",
    "func printHello(h hello) {\n",
    "    if _, ok := h.(*person); ok {\n",
    "        fmt.Println(\"h is *person\")\n",
    "    }\n",
    "    fmt.Printf(\"h.Hello() == %q\\n\", h.Hello())\n",
    "}\n",
    "\n",
    "p := person{\"Alice\", 12}\n",
    "printHello(&p)"
   ]
  },
  {
   "cell_type": "markdown",
   "metadata": {},
   "source": [
    "# Go libraries and interfaces\n",
    "Of course, you can interacts with Go libraries using interfaces"
   ]
  },
  {
   "cell_type": "code",
   "execution_count": null,
   "metadata": {},
   "outputs": [
    {
     "name": "stdout",
     "output_type": "stream",
     "text": [
      "Read 'H'\n",
      "Read 'e'\n",
      "Read 'l'\n",
      "Read 'l'\n",
      "Read 'o'\n",
      "Read '!'\n",
      "buf == \"Hello!\"\n"
     ]
    }
   ],
   "source": [
    "// You can pass a type defined in lgo as an interface defined in Go.\n",
    "\n",
    "import (\n",
    "    \"bytes\"\n",
    "    \"fmt\"\n",
    "    \"io\"\n",
    ")\n",
    "\n",
    "type myReader struct {\n",
    "    content string\n",
    "    idx int\n",
    "}\n",
    "\n",
    "func (r *myReader) Read(p []byte) (n int, err error) {\n",
    "    if len(p) == 0 {\n",
    "        return 0, nil\n",
    "    }\n",
    "    if r.idx >= len(r.content) {\n",
    "        return 0, io.EOF\n",
    "    }\n",
    "    p[0] = r.content[r.idx]\n",
    "    fmt.Printf(\"Read %q\\n\", r.content[r.idx])\n",
    "    r.idx++\n",
    "    return 1, nil\n",
    "}\n",
    "\n",
    "{\n",
    "    r := myReader{content: \"Hello!\"}\n",
    "    var buf bytes.Buffer\n",
    "    io.Copy(&buf, &r)\n",
    "    fmt.Printf(\"buf == %q\\n\", buf.String())\n",
    "}"
   ]
  },
  {
   "cell_type": "code",
   "execution_count": null,
   "metadata": {},
   "outputs": [
    {
     "name": "stdout",
     "output_type": "stream",
     "text": [
      "Len(01234) == 5\n",
      "Len(0123456789) == 10\n"
     ]
    }
   ],
   "source": [
    "// You can pass a struct defined in Go as an interface defined in lgo too.\n",
    "\n",
    "import (\n",
    "    \"bytes\"\n",
    "    \"fmt\"\n",
    ")\n",
    "\n",
    "type withLen interface {\n",
    "    Len() int\n",
    "}\n",
    "\n",
    "func printLen(l withLen) {\n",
    "    fmt.Printf(\"Len(%v) == %d\\n\", l, l.Len())\n",
    "}\n",
    "\n",
    "{\n",
    "    var buf bytes.Buffer\n",
    "    buf.WriteString(\"01234\")\n",
    "    printLen(&buf)\n",
    "    buf.WriteString(\"56789\")\n",
    "    printLen(&buf)\n",
    "}"
   ]
  },
  {
   "cell_type": "markdown",
   "metadata": {},
   "source": [
    "# return & defer\n",
    "A code block in lgo is executed code inside a function with no return value.\n",
    "You can exit code by `return` statement. Also, you can use `defer` to execute functions after a code block."
   ]
  },
  {
   "cell_type": "code",
   "execution_count": null,
   "metadata": {},
   "outputs": [
    {
     "name": "stdout",
     "output_type": "stream",
     "text": [
      "return!\n"
     ]
    }
   ],
   "source": [
    "// return\n",
    "if true {\n",
    "    fmt.Println(\"return!\")\n",
    "    return\n",
    "}\n",
    "fmt.Println(\"continue!\")"
   ]
  },
  {
   "cell_type": "code",
   "execution_count": null,
   "metadata": {},
   "outputs": [
    {
     "name": "stdout",
     "output_type": "stream",
     "text": [
      "start\n",
      "end\n",
      "4\n",
      "<nil>\n",
      "defer (2)\n",
      "defer (1)\n"
     ]
    }
   ],
   "source": [
    "fmt.Println(\"start\")\n",
    "defer fmt.Println(\"defer (1)\")\n",
    "defer fmt.Println(\"defer (2)\")\n",
    "fmt.Println(\"end\")"
   ]
  },
  {
   "cell_type": "markdown",
   "metadata": {},
   "source": [
    "# channel and goroutine"
   ]
  },
  {
   "cell_type": "code",
   "execution_count": null,
   "metadata": {},
   "outputs": [
    {
     "name": "stdout",
     "output_type": "stream",
     "text": [
      "i == 0\n",
      "i == 1\n",
      "i == 4\n",
      "i == 9\n",
      "i == 16\n",
      "i == 25\n",
      "i == 36\n",
      "i == 49\n",
      "i == 64\n",
      "i == 81\n"
     ]
    }
   ],
   "source": [
    "import \"fmt\"\n",
    "\n",
    "{\n",
    "    done := make(chan struct{})\n",
    "    ch := make(chan int)\n",
    "    // producer\n",
    "    go func(){\n",
    "        for i := 0; i < 10; i++ {\n",
    "            ch <- i * i\n",
    "        }\n",
    "        close(ch)\n",
    "    }()\n",
    "    // consumer\n",
    "    go func() {\n",
    "        for i := range ch {\n",
    "            fmt.Printf(\"i == %d\\n\", i)\n",
    "        }\n",
    "        close(done)\n",
    "    }()\n",
    "    <-done\n",
    "}"
   ]
  },
  {
   "cell_type": "markdown",
   "metadata": {},
   "source": [
    "# panic"
   ]
  },
  {
   "cell_type": "code",
   "execution_count": null,
   "metadata": {},
   "outputs": [
    {
     "name": "stderr",
     "output_type": "stream",
     "text": [
      "panic: failed!\n",
      "\n",
      "goroutine 41 [running]:\n",
      "runtime/debug.Stack(0xc400000008, 0x7f257d12a338, 0xc4204301a0)\n",
      "\t/usr/lib/go-1.9/src/runtime/debug/stack.go:24 +0xa9\n",
      "github.com/yunabe/lgo/core.(*resultCounter).recordResult(0xc420430188, 0x7f257cf4f140, 0x7f25705f3970)\n",
      "\t/home/yunabe/local/gocode/src/github.com/yunabe/lgo/core/core.go:182 +0xce\n",
      "github.com/yunabe/lgo/core.(*resultCounter).recordResultInDefer(0xc420430188)\n",
      "\t/home/yunabe/local/gocode/src/github.com/yunabe/lgo/core/core.go:187 +0x3b\n",
      "panic(0x7f257cf4f140, 0x7f25705f3970)\n",
      "\t/usr/lib/go-1.9/src/runtime/panic.go:491 +0x294\n",
      "github.com/yunabe/lgo/sess7b2274696d65223a313531333332343933303133383031353930307d/exec3.lgo_init()\n",
      "\t/home/yunabe/local/gocode/src/github.com/yunabe/lgo/sess7b2274696d65223a313531333332343933303133383031353930307d/exec3/src.go:6 +0x40\n",
      "github.com/yunabe/lgo/cmd/runner.loadShared.func3()\n",
      "\t/home/yunabe/local/gocode/src/github.com/yunabe/lgo/cmd/runner/runner.go:60 +0x26\n",
      "github.com/yunabe/lgo/core.newRoutineManager.func1(0xc420430180, 0xc42042aad0)\n",
      "\t/home/yunabe/local/gocode/src/github.com/yunabe/lgo/core/core.go:205 +0x83\n",
      "created by github.com/yunabe/lgo/core.newRoutineManager\n",
      "\t/home/yunabe/local/gocode/src/github.com/yunabe/lgo/core/core.go:202 +0xc5\n",
      "main routine failed\n"
     ]
    }
   ],
   "source": [
    "panic(\"failed!\")"
   ]
  },
  {
   "cell_type": "code",
   "execution_count": null,
   "metadata": {},
   "outputs": [
    {
     "name": "stderr",
     "output_type": "stream",
     "text": [
      "panic: goroutine failed\n",
      "\n",
      "goroutine 67 [running]:\n",
      "runtime/debug.Stack(0xc400000008, 0x7f257d12a338, 0xc4204181c0)\n",
      "\t/usr/lib/go-1.9/src/runtime/debug/stack.go:24 +0xa9\n",
      "github.com/yunabe/lgo/core.(*resultCounter).recordResult(0xc4204181a8, 0x7f257cf4f140, 0x7f25703ef760)\n",
      "\t/home/yunabe/local/gocode/src/github.com/yunabe/lgo/core/core.go:182 +0xce\n",
      "github.com/yunabe/lgo/core.FinalizeGoroutine(0xc42032e2c0)\n",
      "\t/home/yunabe/local/gocode/src/github.com/yunabe/lgo/core/core.go:283 +0x4f\n",
      "panic(0x7f257cf4f140, 0x7f25703ef760)\n",
      "\t/usr/lib/go-1.9/src/runtime/panic.go:491 +0x294\n",
      "github.com/yunabe/lgo/sess7b2274696d65223a313531333332343933303133383031353930307d/exec4.lgo_init.func1.1()\n",
      "\t/home/yunabe/local/gocode/src/github.com/yunabe/lgo/sess7b2274696d65223a313531333332343933303133383031353930307d/exec4/src.go:12 +0x40\n",
      "github.com/yunabe/lgo/sess7b2274696d65223a313531333332343933303133383031353930307d/exec4.lgo_init.func1(0xc42032e2c0)\n",
      "\t/home/yunabe/local/gocode/src/github.com/yunabe/lgo/sess7b2274696d65223a313531333332343933303133383031353930307d/exec4/src.go:13 +0x4a\n",
      "created by github.com/yunabe/lgo/sess7b2274696d65223a313531333332343933303133383031353930307d/exec4.lgo_init\n",
      "\t/home/yunabe/local/gocode/src/github.com/yunabe/lgo/sess7b2274696d65223a313531333332343933303133383031353930307d/exec4/src.go:8 +0x4a\n",
      "1 goroutine failed\n"
     ]
    }
   ],
   "source": [
    "go func() {\n",
    "    panic(\"goroutine failed\")\n",
    "}()"
   ]
  },
  {
   "cell_type": "markdown",
   "metadata": {},
   "source": [
    "# reflect\n",
    "`reflect` package works with lgo properly.\n",
    "Note that unexported fields are renamed with `LgoExport_` prefix in lgo."
   ]
  },
  {
   "cell_type": "code",
   "execution_count": null,
   "metadata": {},
   "outputs": [],
   "source": [
    "import (\n",
    "    \"reflect\"\n",
    ")\n",
    "\n",
    "type person struct {\n",
    "    Name string\n",
    "    Age int\n",
    "    secret string\n",
    "}\n",
    "\n",
    "func (p *person) GetSecret() string {\n",
    "    return p.secret\n",
    "}\n",
    "\n",
    "p := &person{Name:\"Alice\", Age: 12, secret: \"1234\"}"
   ]
  },
  {
   "cell_type": "code",
   "execution_count": null,
   "metadata": {},
   "outputs": [
    {
     "name": "stdout",
     "output_type": "stream",
     "text": [
      "--- fields ---\n",
      "field[0] = Name\n",
      "field[1] = Age\n",
      "field[2] = LgoExport_secret\n",
      "--- methods ---\n",
      "method[0] = GetSecret\n",
      "------------\n",
      "p == &lgo_exec.LgoExport_person{Name:\"Alice\", Age:34, LgoExport_secret:\"1234\"}\n"
     ]
    }
   ],
   "source": [
    "{\n",
    "    t := reflect.TypeOf(p)\n",
    "    fmt.Println(\"--- fields ---\")\n",
    "    for i := 0; i < t.Elem().NumField(); i++ {\n",
    "        fmt.Printf(\"field[%d] = %s\\n\", i, t.Elem().Field(i).Name)\n",
    "    }\n",
    "    \n",
    "    fmt.Println(\"--- methods ---\")\n",
    "    for i := 0; i < t.NumMethod(); i++ {\n",
    "        fmt.Printf(\"method[%d] = %s\\n\", i, t.Method(i).Name)\n",
    "    }\n",
    "\n",
    "    // Set \"Age\" via reflect.\n",
    "    v := reflect.ValueOf(p)\n",
    "    v.Elem().Field(1).Set(reflect.ValueOf(34))\n",
    "    \n",
    "    fmt.Println(\"------------\")\n",
    "    fmt.Printf(\"p == %#v\\n\", p)\n",
    "}"
   ]
  },
  {
   "cell_type": "markdown",
   "metadata": {},
   "source": [
    "# Display\n",
    "To display non-text content like HTML, MarkDown and images, use `_ctx.Display`."
   ]
  },
  {
   "cell_type": "code",
   "execution_count": null,
   "metadata": {},
   "outputs": [
    {
     "data": {
      "text/html": [
       "Hello <b>lgo</b>: <a target=\"_blank\" href=\"https://github.com/yunabe/lgo\" >GitHub lgo</a>\n",
       "<div style=\"width:50px;height:50px;background-color:red\"></div>"
      ]
     },
     "metadata": {},
     "output_type": "display_data"
    }
   ],
   "source": [
    "// Display HTML\n",
    "_ctx.Display.HTML(\n",
    "    `Hello <b>lgo</b>: <a target=\"_blank\" href=\"https://github.com/yunabe/lgo\" >GitHub lgo</a>\n",
    "<div style=\"width:50px;height:50px;background-color:red\"></div>`,\n",
    "    nil)"
   ]
  },
  {
   "cell_type": "code",
   "execution_count": null,
   "metadata": {},
   "outputs": [
    {
     "data": {
      "text/plain": [
       "PNG Gopher"
      ]
     },
     "metadata": {},
     "output_type": "display_data"
    },
    {
     "data": {
      "image/png": "[encoded data removed]"
     },
     "metadata": {},
     "output_type": "display_data"
    }
   ],
   "source": [
    "import (\n",
    "    \"fmt\"\n",
    "    \"io/ioutil\"\n",
    "    \"net/http\"    \n",
    ")\n",
    "\n",
    "var gopherPNG []byte\n",
    "{\n",
    "    res, err := http.Get(\"https://golang.org/doc/gopher/frontpage.png\")\n",
    "    if err != nil {\n",
    "        fmt.Printf(\"Failed to get: %v\\n\", err)\n",
    "        return\n",
    "    }\n",
    "    defer res.Body.Close()\n",
    "    gopherPNG, err = ioutil.ReadAll(res.Body)\n",
    "    if err != nil {\n",
    "        fmt.Printf(\"Failed to read: %v\\n\", err)\n",
    "        return\n",
    "    }\n",
    "    _ctx.Display.Text(\"PNG Gopher\", nil)\n",
    "    _ctx.Display.PNG(gopherPNG, nil)\n",
    "}"
   ]
  },
  {
   "cell_type": "code",
   "execution_count": null,
   "metadata": {},
   "outputs": [
    {
     "data": {
      "text/plain": [
       "Resized and highly compressed JPEG"
      ]
     },
     "metadata": {},
     "output_type": "display_data"
    },
    {
     "data": {
      "image/jpeg": "[encoded data removed]"
     },
     "metadata": {},
     "output_type": "display_data"
    }
   ],
   "source": [
    "import (\n",
    "    \"bytes\"\n",
    "    \"image\"\n",
    "    jpeg \"image/jpeg\"\n",
    "    _ \"image/png\"\n",
    "    \"os\"\n",
    "    \n",
    "    \"github.com/nfnt/resize\"\n",
    ")\n",
    "\n",
    "{\n",
    "    img, _, err := image.Decode(bytes.NewBuffer(gopherPNG))\n",
    "    if err != nil {\n",
    "        fmt.Fprintf(os.Stderr, \"Failed to decode: %v\", err)\n",
    "        return\n",
    "    }\n",
    "    img = resize.Resize(100, 0, img, resize.Lanczos3)\n",
    "    var buf bytes.Buffer\n",
    "    jpeg.Encode(&buf, img, &jpeg.Options{Quality: 1})\n",
    "    _ctx.Display.Text(\"Resized and highly compressed JPEG\", nil)\n",
    "    _ctx.Display.JPEG(buf.Bytes(), nil)\n",
    "}"
   ]
  },
  {
   "cell_type": "markdown",
   "metadata": {},
   "source": [
    "# Display ID\n",
    "You can use the second paramter of display methods to overwrite the existing results.\n",
    "See [DataDisplayer](https://godoc.org/github.com/yunabe/lgo/core#DataDisplayer) for details."
   ]
  },
  {
   "cell_type": "code",
   "execution_count": null,
   "metadata": {},
   "outputs": [
    {
     "data": {
      "text/plain": [
       "Quality: 1\n",
       "Size: 1.28kB"
      ]
     },
     "metadata": {},
     "output_type": "display_data"
    },
    {
     "data": {
      "image/jpeg": "[encoded data removed]"
     },
     "metadata": {},
     "output_type": "display_data"
    }
   ],
   "source": [
    "import (\n",
    "    \"bytes\"\n",
    "    \"fmt\"\n",
    "    \"image\"\n",
    "    png \"image/png\"\n",
    "    jpeg \"image/jpeg\"\n",
    "    \"os\"\n",
    "    \"time\"\n",
    "    \n",
    "    \"github.com/nfnt/resize\"\n",
    ")\n",
    "\n",
    "{\n",
    "    img, err := png.Decode(bytes.NewBuffer(gopherPNG))\n",
    "    if err != nil {\n",
    "        fmt.Fprintf(os.Stderr, \"Failed to decode:\", err)\n",
    "        return\n",
    "    }\n",
    "    img = resize.Resize(100, 0, img, resize.Lanczos3)\n",
    "    var labelID, imgID string\n",
    "    for quality := 25; quality > 0; quality -= 1 {\n",
    "        var buf bytes.Buffer\n",
    "        jpeg.Encode(&buf, img, &jpeg.Options{Quality: quality})\n",
    "        size := float32(len(buf.Bytes()))/1000\n",
    "        _ctx.Display.Text(fmt.Sprintf(\"Quality: %d\\nSize: %.2fkB\", quality, size), &labelID)\n",
    "        _ctx.Display.JPEG(buf.Bytes(), &imgID)\n",
    "        time.Sleep(200*time.Millisecond)\n",
    "    }\n",
    "}"
   ]
  },
  {
   "cell_type": "markdown",
   "metadata": {},
   "source": [
    "# Compile errors"
   ]
  },
  {
   "cell_type": "markdown",
   "metadata": {},
   "source": [
    "## syntax errors"
   ]
  },
  {
   "cell_type": "code",
   "execution_count": null,
   "metadata": {},
   "outputs": [
    {
     "name": "stderr",
     "output_type": "stream",
     "text": [
      "3:1: expected operand, found '}'\n",
      "5:5: expected ';', found 'for'\n"
     ]
    }
   ],
   "source": [
    "{\n",
    "    x := 10 + 3.4 +\n",
    "}\n",
    "{\n",
    "    for i := 0 {}\n",
    "}"
   ]
  },
  {
   "cell_type": "markdown",
   "metadata": {},
   "source": [
    "## type errors"
   ]
  },
  {
   "cell_type": "code",
   "execution_count": null,
   "metadata": {},
   "outputs": [
    {
     "name": "stderr",
     "output_type": "stream",
     "text": [
      "2:10: undeclared name: undefined\n",
      "6:10: invalid operation: mismatched types int and float64\n",
      "10:17: non-boolean condition in for statement\n",
      "8:5: unused declared but not used\n"
     ]
    }
   ],
   "source": [
    "{  // L.1\n",
    "    a := undefined\n",
    "    \n",
    "    x := 10\n",
    "    y := 3.4  // L.5\n",
    "    z := x + y\n",
    "\n",
    "    unused := 10\n",
    "    \n",
    "    for i := 0; i; i++ {}  // L.10\n",
    "    \n",
    "    _, _ = a, z\n",
    "}"
   ]
  }
 ],
 "metadata": {
  "kernelspec": {
   "display_name": "Go (lgo)",
   "language": "go",
   "name": "lgo"
  },
  "language_info": {
   "file_extension": "",
   "mimetype": "",
   "name": "go",
   "version": ""
  }
 },
 "nbformat": 4,
 "nbformat_minor": 2
}
