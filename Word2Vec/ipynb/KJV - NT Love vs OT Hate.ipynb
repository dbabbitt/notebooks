{
 "cells": [
  {
   "cell_type": "markdown",
   "metadata": {},
   "source": [
    "\n",
    "# KJV - NT Love vs OT Hate"
   ]
  },
  {
   "cell_type": "code",
   "execution_count": 2,
   "metadata": {},
   "outputs": [],
   "source": [
    "\n",
    "!pip install gensim --upgrade --quiet"
   ]
  },
  {
   "cell_type": "code",
   "execution_count": 3,
   "metadata": {},
   "outputs": [
    {
     "name": "stderr",
     "output_type": "stream",
     "text": [
      "C:\\Users\\dev\\Anaconda3\\lib\\site-packages\\gensim\\utils.py:1197: UserWarning: detected Windows; aliasing chunkize to chunkize_serial\n",
      "  warnings.warn(\"detected Windows; aliasing chunkize to chunkize_serial\")\n"
     ]
    }
   ],
   "source": [
    "\n",
    "# import modules & set up logging\n",
    "import gensim, logging\n",
    "\n",
    "logging.basicConfig(format='%(asctime)s : %(levelname)s : %(message)s', level=logging.INFO)"
   ]
  },
  {
   "cell_type": "code",
   "execution_count": 4,
   "metadata": {},
   "outputs": [
    {
     "ename": "FileNotFoundError",
     "evalue": "[Errno 2] No such file or directory: '../data/pg30.txt'",
     "output_type": "error",
     "traceback": [
      "\u001b[1;31m---------------------------------------------------------------------------\u001b[0m",
      "\u001b[1;31mFileNotFoundError\u001b[0m                         Traceback (most recent call last)",
      "\u001b[1;32m<ipython-input-4-1818c9a5e4ea>\u001b[0m in \u001b[0;36m<module>\u001b[1;34m()\u001b[0m\n\u001b[0;32m      2\u001b[0m \u001b[1;32mimport\u001b[0m \u001b[0mcsv\u001b[0m\u001b[1;33m\u001b[0m\u001b[0m\n\u001b[0;32m      3\u001b[0m \u001b[1;33m\u001b[0m\u001b[0m\n\u001b[1;32m----> 4\u001b[1;33m \u001b[1;32mwith\u001b[0m \u001b[0mopen\u001b[0m\u001b[1;33m(\u001b[0m\u001b[1;34m'../data/pg30.txt'\u001b[0m\u001b[1;33m,\u001b[0m \u001b[1;34m'r'\u001b[0m\u001b[1;33m)\u001b[0m \u001b[1;32mas\u001b[0m \u001b[0minfile\u001b[0m\u001b[1;33m:\u001b[0m\u001b[1;33m\u001b[0m\u001b[0m\n\u001b[0m\u001b[0;32m      5\u001b[0m     \u001b[0mreader\u001b[0m \u001b[1;33m=\u001b[0m \u001b[0mcsv\u001b[0m\u001b[1;33m.\u001b[0m\u001b[0mreader\u001b[0m\u001b[1;33m(\u001b[0m\u001b[0minfile\u001b[0m\u001b[1;33m)\u001b[0m\u001b[1;33m\u001b[0m\u001b[0m\n\u001b[0;32m      6\u001b[0m     \u001b[0msentences\u001b[0m \u001b[1;33m=\u001b[0m \u001b[1;33m[\u001b[0m\u001b[1;34m' '\u001b[0m\u001b[1;33m.\u001b[0m\u001b[0mjoin\u001b[0m\u001b[1;33m(\u001b[0m\u001b[0mrow\u001b[0m\u001b[1;33m)\u001b[0m \u001b[1;32mfor\u001b[0m \u001b[0mrow\u001b[0m \u001b[1;32min\u001b[0m \u001b[0mreader\u001b[0m\u001b[1;33m]\u001b[0m\u001b[1;33m\u001b[0m\u001b[0m\n",
      "\u001b[1;31mFileNotFoundError\u001b[0m: [Errno 2] No such file or directory: '../data/pg30.txt'"
     ]
    }
   ],
   "source": [
    "\n",
    "import csv\n",
    "\n",
    "with open('../data/pg30.txt', 'r') as infile:\n",
    "    reader = csv.reader(infile)\n",
    "    sentences = [' '.join(row) for row in reader]"
   ]
  },
  {
   "cell_type": "code",
   "execution_count": 4,
   "metadata": {},
   "outputs": [
    {
     "name": "stdout",
     "output_type": "stream",
     "text": [
      "['In the beginning God created the heaven and the earth.', 'And the earth was without form and void; and darkness was', 'upon the face of the deep. And the Spirit of God moved upon', 'the face of the waters.']\n",
      "['The book of the generation of Jesus Christ the son of David', 'the son of Abraham.', 'Abraham begat Isaac; and Isaac begat Jacob; and Jacob begat', 'Judas and his brethren;']\n"
     ]
    }
   ],
   "source": [
    "\n",
    "import re\n",
    "\n",
    "start = 94\n",
    "stop = 114194\n",
    "bible = sentences[start:stop]\n",
    "ot_list = []\n",
    "nt_list = []\n",
    "book_regex = re.compile(r\"^Book +(\\d+)\")\n",
    "verse_regex = re.compile(r\"^\\d+:\\d+:\\d+\\s+\")\n",
    "space_regex = re.compile(r\" +\")\n",
    "line_list = ot_list\n",
    "\n",
    "for line in bible:\n",
    "    line = space_regex.sub(r\" \", line)\n",
    "    results = book_regex.search(line)\n",
    "    if results:\n",
    "        book_number = int(results.group(1))\n",
    "        if book_number < 40:\n",
    "            line_list = ot_list\n",
    "        else:\n",
    "            line_list = nt_list\n",
    "    elif line == \"\":\n",
    "        pass\n",
    "    elif verse_regex.search(line):\n",
    "        line_list.append(verse_regex.split(line)[-1].strip())\n",
    "    else:\n",
    "        line_list.append(line.strip())\n",
    "print(ot_list[:4])\n",
    "print(nt_list[:4])"
   ]
  },
  {
   "cell_type": "code",
   "execution_count": 5,
   "metadata": {},
   "outputs": [
    {
     "name": "stdout",
     "output_type": "stream",
     "text": [
      "1.2061727046966553 Thu Jun 29 20:52:14 2017\n"
     ]
    }
   ],
   "source": [
    "\n",
    "import nltk.data\n",
    "import time\n",
    "import string\n",
    "\n",
    "t0 = time.time()\n",
    "tokenizer = nltk.data.load('tokenizers/punkt/english.pickle')\n",
    "translate_table = dict((ord(char), None) for char in string.punctuation)\n",
    "ot_sentences = [s.translate(translate_table).split(' ') for s in tokenizer.tokenize(\" \".join(ot_list))]\n",
    "nt_sentences = [s.translate(translate_table).split(' ') for s in tokenizer.tokenize(\" \".join(nt_list))]\n",
    "t1 = time.time()\n",
    "print(t1-t0, time.ctime(t1))"
   ]
  },
  {
   "cell_type": "code",
   "execution_count": 6,
   "metadata": {},
   "outputs": [
    {
     "name": "stdout",
     "output_type": "stream",
     "text": [
      "2.60988712310791 Thu Jun 29 20:52:17 2017\n"
     ]
    }
   ],
   "source": [
    "\n",
    "import gensim\n",
    "import time\n",
    "\n",
    "# train word2vec on the OT sentences\n",
    "t0 = time.time()\n",
    "ot_model = gensim.models.Word2Vec(ot_sentences, min_count=1)\n",
    "nt_model = gensim.models.Word2Vec(nt_sentences, min_count=1)\n",
    "t1 = time.time()\n",
    "print(t1-t0, time.ctime(t1))"
   ]
  },
  {
   "cell_type": "code",
   "execution_count": 7,
   "metadata": {},
   "outputs": [
    {
     "name": "stdout",
     "output_type": "stream",
     "text": [
      "70\n",
      "129\n",
      "16\n",
      "174\n"
     ]
    }
   ],
   "source": [
    "\n",
    "ot_hate_count = ot_model.wv.vocab['hate'].count\n",
    "print(ot_hate_count)\n",
    "ot_love_count = ot_model.wv.vocab['love'].count\n",
    "print(ot_love_count)\n",
    "nt_hate_count = nt_model.wv.vocab['hate'].count\n",
    "print(nt_hate_count)\n",
    "nt_love_count = nt_model.wv.vocab['love'].count\n",
    "print(nt_love_count)"
   ]
  },
  {
   "cell_type": "code",
   "execution_count": 8,
   "metadata": {},
   "outputs": [
    {
     "data": {
      "text/plain": [
       "609275"
      ]
     },
     "execution_count": 8,
     "metadata": {},
     "output_type": "execute_result"
    }
   ],
   "source": [
    "\n",
    "ot_total_words = 0\n",
    "for word in ot_model.wv.vocab:\n",
    "    ot_total_words += ot_model.wv.vocab[word].count\n",
    "ot_total_words"
   ]
  },
  {
   "cell_type": "code",
   "execution_count": 9,
   "metadata": {},
   "outputs": [
    {
     "data": {
      "text/plain": [
       "180402"
      ]
     },
     "execution_count": 9,
     "metadata": {},
     "output_type": "execute_result"
    }
   ],
   "source": [
    "\n",
    "nt_total_words = 0\n",
    "for word in nt_model.wv.vocab:\n",
    "    nt_total_words += nt_model.wv.vocab[word].count\n",
    "nt_total_words"
   ]
  },
  {
   "cell_type": "code",
   "execution_count": 10,
   "metadata": {},
   "outputs": [
    {
     "data": {
      "text/plain": [
       "114"
      ]
     },
     "execution_count": 10,
     "metadata": {},
     "output_type": "execute_result"
    }
   ],
   "source": [
    "\n",
    "int(1000000*ot_hate_count/ot_total_words)"
   ]
  },
  {
   "cell_type": "code",
   "execution_count": 11,
   "metadata": {},
   "outputs": [
    {
     "data": {
      "image/png": "[encoded data removed]",
      "text/plain": [
       "<matplotlib.figure.Figure at 0x13bb6550>"
      ]
     },
     "metadata": {},
     "output_type": "display_data"
    }
   ],
   "source": [
    "\n",
    "# Make a really fancy plot of the proportions of the OT and NT devoted to \"hate\" and \"love\"\n",
    "%matplotlib inline\n",
    "import matplotlib.pyplot as plt\n",
    "\n",
    "fig = plt.figure(figsize=(5, 5))\n",
    "\n",
    "ax = fig.add_subplot(111, autoscale_on=True)\n",
    " \n",
    "# Data to plot\n",
    "labels = 'OT \"hate\"', 'OT \"love\"', 'NT \"hate\"', 'NT \"love\"'\n",
    "sizes = [int(1000000*ot_hate_count/ot_total_words), \n",
    "         int(1000000*ot_love_count/ot_total_words), \n",
    "         int(1000000*nt_hate_count/nt_total_words), \n",
    "         int(1000000*nt_love_count/nt_total_words)]\n",
    "colors = ['gold', 'yellowgreen', 'lightcoral', 'lightskyblue']\n",
    "explode = (0.1, 0, 0, 0)  # explode 1st slice\n",
    " \n",
    "# Plot\n",
    "ax.pie(sizes, explode=explode, labels=labels, colors=colors, autopct='%1.1f%%', shadow=True, startangle=140)\n",
    "ax.axis('equal')\n",
    "\n",
    "# Set labels\n",
    "ax.set_title('Proportions of the OT and NT devoted to hate and love')\n",
    "\n",
    "plt.savefig('./saves/' + plt.gca().get_title() + '.png')"
   ]
  },
  {
   "cell_type": "code",
   "execution_count": 23,
   "metadata": {},
   "outputs": [
    {
     "name": "stdout",
     "output_type": "stream",
     "text": [
      "[('suffered', 0.8765943050384521), ('abhor', 0.8745307326316833), ('cannot', 0.869989812374115), ('exalt', 0.8650345802307129), ('tear', 0.8566441535949707)]\n",
      "[('forgive', 0.9033170342445374), ('desire', 0.8980228304862976), ('remember', 0.8803461790084839), ('forget', 0.8780404329299927), ('perform', 0.8738855123519897)]\n",
      "[('accuse', 0.9978832006454468), ('follow', 0.9978269338607788), ('cannot', 0.9976128339767456), ('count', 0.9976098537445068), ('hypocrites', 0.9975418448448181)]\n",
      "[('witness', 0.9970943331718445), ('truth', 0.9957135319709778), ('O', 0.9948419332504272), ('chosen', 0.994783878326416), ('serve', 0.994746744632721)]\n"
     ]
    }
   ],
   "source": [
    "\n",
    "print(ot_model.wv.most_similar(positive=['hate'], topn=5))\n",
    "print(ot_model.wv.most_similar(positive=['love'], topn=5))\n",
    "print(nt_model.wv.most_similar(positive=['hate'], topn=5))\n",
    "print(nt_model.wv.most_similar(positive=['love'], topn=5))"
   ]
  },
  {
   "cell_type": "code",
   "execution_count": 24,
   "metadata": {},
   "outputs": [
    {
     "data": {
      "text/plain": [
       "'cannot'"
      ]
     },
     "execution_count": 24,
     "metadata": {},
     "output_type": "execute_result"
    }
   ],
   "source": [
    "\n",
    "ot_model.wv.doesnt_match(\"suffered abhor cannot exalt tear\".split())"
   ]
  },
  {
   "cell_type": "code",
   "execution_count": 26,
   "metadata": {},
   "outputs": [
    {
     "name": "stdout",
     "output_type": "stream",
     "text": [
      "0.760830941708\n",
      "0.977272672274\n"
     ]
    }
   ],
   "source": [
    "\n",
    "print(ot_model.wv.similarity('hate', 'love'))\n",
    "print(nt_model.wv.similarity('hate', 'love'))"
   ]
  },
  {
   "cell_type": "code",
   "execution_count": 95,
   "metadata": {},
   "outputs": [
    {
     "data": {
      "text/plain": [
       "33"
      ]
     },
     "execution_count": 95,
     "metadata": {},
     "output_type": "execute_result"
    }
   ],
   "source": [
    "\n",
    "model.train([['this', 'is', 'a', 'sentence'], ['this', 'is', 'another', 'sentence']], total_examples=model.corpus_count,\n",
    "           epochs=model.iter)"
   ]
  },
  {
   "cell_type": "code",
   "execution_count": null,
   "metadata": {
    "collapsed": true
   },
   "outputs": [],
   "source": []
  }
 ],
 "metadata": {
  "anaconda-cloud": {},
  "kernelspec": {
   "display_name": "Python 3",
   "language": "python",
   "name": "python3"
  },
  "language_info": {
   "codemirror_mode": {
    "name": "ipython",
    "version": 3
   },
   "file_extension": ".py",
   "mimetype": "text/x-python",
   "name": "python",
   "nbconvert_exporter": "python",
   "pygments_lexer": "ipython3",
   "version": "3.6.4"
  }
 },
 "nbformat": 4,
 "nbformat_minor": 1
}
