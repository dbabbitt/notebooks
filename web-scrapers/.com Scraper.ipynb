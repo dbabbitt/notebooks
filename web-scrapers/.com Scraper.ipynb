{
 "cells": [
  {
   "cell_type": "code",
   "execution_count": 25,
   "metadata": {
    "collapsed": true
   },
   "outputs": [],
   "source": [
    "import requests\n",
    "import os\n",
    "from bs4 import BeautifulSoup\n",
    "import re\n",
    "\n",
    "from selenium import webdriver\n",
    "from base64 import b64encode\n",
    "from selenium.webdriver.common.keys import Keys\n",
    "from selenium.common.exceptions import NoSuchElementException\n",
    "\n",
    "import urllib.parse"
   ]
  },
  {
   "cell_type": "code",
   "execution_count": 26,
   "metadata": {
    "collapsed": true
   },
   "outputs": [],
   "source": [
    "tagPageUrl = \"http://www.collectorcarads.com/advancedsearch.asp\""
   ]
  },
  {
   "cell_type": "code",
   "execution_count": 27,
   "metadata": {
    "collapsed": false
   },
   "outputs": [],
   "source": [
    "bigFile = open('fossilcars.txt', 'a', encoding='utf-8')"
   ]
  },
  {
   "cell_type": "code",
   "execution_count": 28,
   "metadata": {
    "collapsed": true
   },
   "outputs": [],
   "source": [
    "# Retrieve the page with tag results and set it up to be scraped\n",
    "tagPage = requests.get(url=tagPageUrl)\n",
    "tagPageSoup = BeautifulSoup(tagPage.content, 'lxml')\n",
    "\n",
    "# Get the year links\n",
    "tds = tagPageSoup.find_all('td', class_='makelist')\n",
    "yearLinkSoup = tds[2]\n",
    "yearLinks = yearLinkSoup.find_all(\"a\", class_=\"sidelinks\")"
   ]
  },
  {
   "cell_type": "code",
   "execution_count": 29,
   "metadata": {
    "collapsed": false
   },
   "outputs": [],
   "source": [
    "# Retrieve the page with tag results and set it up to be scraped\n",
    "tagPage = requests.get(url=tagPageUrl)\n",
    "tagPageSoup = BeautifulSoup(tagPage.content, 'lxml')\n",
    "\n",
    "# Get the year column\n",
    "tds = tagPageSoup.find_all('td', class_='makelist')\n",
    "yearLinkSoup = tds[2]\n",
    "yearLinks = yearLinkSoup.find_all(\"a\", class_=\"sidelinks\")\n",
    "\n",
    "for yearLink in yearLinks:\n",
    "    url = urllib.parse.urljoin(tagPageUrl, re.sub(' ', '%20', yearLink['href']))\n",
    "    carPage = requests.get(url=url)\n",
    "    carTdSoup = BeautifulSoup(carPage.content, 'lxml')\n",
    "    carTds = carTdSoup.find_all(\"td\", class_=\"lines\")\n",
    "    if len(carTds):\n",
    "        carLink = carTds[1].find_all(\"a\")\n",
    "        if len(carLink):\n",
    "            carLinkUrl = urllib.parse.urljoin(tagPageUrl, re.sub(' ', '%20', carLink[0]['href']))\n",
    "            page = requests.get(url=carLinkUrl)\n",
    "            soup = BeautifulSoup(page.content, 'lxml')\n",
    "\n",
    "            model = soup.find_all(\"h1\")\n",
    "            if len(model):\n",
    "                model = model[0].get_text().strip()\n",
    "            else:\n",
    "                model = \"Unknown\"\n",
    "\n",
    "            price = soup.find_all(\"span\", class_=\"pricebold\")\n",
    "            if len(price):\n",
    "                price = price[0].get_text().strip()\n",
    "            else:\n",
    "                price = \"Unknown\"\n",
    "\n",
    "            try:\n",
    "                phone = soup.select(\"span.adtext > strong\")\n",
    "                if len(phone):\n",
    "                    phone = phone[0].get_text().strip()\n",
    "                if len(phone):\n",
    "                    bigFile.write(model + '\\t' + price + '\\t' + phone + '\\n')\n",
    "            except:\n",
    "                pass"
   ]
  },
  {
   "cell_type": "code",
   "execution_count": 30,
   "metadata": {
    "collapsed": false
   },
   "outputs": [],
   "source": [
    "bigFile.close()"
   ]
  },
  {
   "cell_type": "code",
   "execution_count": null,
   "metadata": {
    "collapsed": true
   },
   "outputs": [],
   "source": []
  }
 ],
 "metadata": {
  "anaconda-cloud": {},
  "kernelspec": {
   "display_name": "Python [conda root]",
   "language": "python",
   "name": "conda-root-py"
  },
  "language_info": {
   "codemirror_mode": {
    "name": "ipython",
    "version": 3
   },
   "file_extension": ".py",
   "mimetype": "text/x-python",
   "name": "python",
   "nbconvert_exporter": "python",
   "pygments_lexer": "ipython3",
   "version": "3.5.2"
  }
 },
 "nbformat": 4,
 "nbformat_minor": 1
}
