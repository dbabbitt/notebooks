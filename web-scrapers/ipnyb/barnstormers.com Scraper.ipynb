{
 "cells": [
  {
   "cell_type": "code",
   "execution_count": 2,
   "metadata": {},
   "outputs": [
    {
     "name": "stdout",
     "output_type": "stream",
     "text": [
      "http://www.barnstormers.com/cat.php?mode=search\n"
     ]
    }
   ],
   "source": [
    "from random import randint\n",
    "\n",
    "homeUrl = \"http://www.barnstormers.com/\"\n",
    "frameUrl = homeUrl + \"cat_search.php\"\n",
    "siteUrl = homeUrl + \"cat.php\"\n",
    "siteUrl = \"?\".join([siteUrl, \"mode=search\"])\n",
    "print(siteUrl)\n",
    "\n",
    "proxies_array = [\n",
    "    {'host': '64.120.85.192', 'port': '56597', 'usr': '<<USERID>>', 'pwd': '<<PASSWORD>>', 'loc': 'Chicago Ilinois'},\n",
    "    {'host': '8.29.125.84', 'port': '56597', 'usr': '<<USERID>>', 'pwd': '<<PASSWORD>>', 'loc': 'Columbus Ohio'},\n",
    "    {'host': '173.234.204.209', 'port': '56597', 'usr': '<<USERID>>', 'pwd': '<<PASSWORD>>', 'loc': 'Dallas Texas'},\n",
    "    {'host': '8.29.124.215', 'port': '56597', 'usr': '<<USERID>>', 'pwd': '<<PASSWORD>>', 'loc': 'Denver Colorado'},\n",
    "    {'host': '167.160.106.72', 'port': '56597', 'usr': '<<USERID>>', 'pwd': '<<PASSWORD>>', 'loc': 'Houston Texas'},\n",
    "    {'host': '192.171.229.113', 'port': '56597', 'usr': '<<USERID>>', 'pwd': '<<PASSWORD>>', 'loc': 'Irvine California'},\n",
    "    {'host': '45.59.21.72', 'port': '56597', 'usr': '<<USERID>>', 'pwd': '<<PASSWORD>>', 'loc': 'Las Vegas Nevada'},\n",
    "    {'host': '142.91.235.188', 'port': '56597', 'usr': '<<USERID>>', 'pwd': '<<PASSWORD>>', 'loc': 'Los Angeles California'},\n",
    "    {'host': '108.62.137.20', 'port': '56597', 'usr': '<<USERID>>', 'pwd': '<<PASSWORD>>', 'loc': 'New York City New York'},\n",
    "    {'host': '216.107.136.72', 'port': '56597', 'usr': '<<USERID>>', 'pwd': '<<PASSWORD>>', 'loc': 'Oklahoma City Oklahoma'},\n",
    "    {'host': '23.19.213.86', 'port': '56597', 'usr': '<<USERID>>', 'pwd': '<<PASSWORD>>', 'loc': 'Phoenix Arizona'},\n",
    "    {'host': '23.19.36.245', 'port': '56597', 'usr': '<<USERID>>', 'pwd': '<<PASSWORD>>', 'loc': 'Seattle Washington'},\n",
    "]\n",
    "proxy = proxies_array[randint(0, len(proxies_array)-1)]"
   ]
  },
  {
   "cell_type": "code",
   "execution_count": 3,
   "metadata": {
    "collapsed": true
   },
   "outputs": [],
   "source": [
    "from selenium import webdriver\n",
    "from selenium.webdriver.chrome.options import Options\n",
    "import zipfile\n",
    "\n",
    "def get_chrome_options(proxy):\n",
    "    manifest_json = \"\"\"\n",
    "    {\n",
    "        \"version\": \"1.0.0\",\n",
    "        \"manifest_version\": 2,\n",
    "        \"name\": \"Chrome Proxy\",\n",
    "        \"permissions\": [\n",
    "            \"proxy\",\n",
    "            \"tabs\",\n",
    "            \"unlimitedStorage\",\n",
    "            \"storage\",\n",
    "            \"<all_urls>\",\n",
    "            \"webRequest\",\n",
    "            \"webRequestBlocking\"\n",
    "        ],\n",
    "        \"background\": {\n",
    "            \"scripts\": [\"background.js\"]\n",
    "        },\n",
    "        \"minimum_chrome_version\":\"22.0.0\"\n",
    "    }\n",
    "    \"\"\"\n",
    "\n",
    "    background_js = \"\"\"\n",
    "    var config = {{\n",
    "            mode: \"fixed_servers\",\n",
    "            rules: {{\n",
    "              singleProxy: {{\n",
    "                scheme: \"http\",\n",
    "                host: \"{host}\",\n",
    "                port: parseInt({port})\n",
    "              }},\n",
    "              bypassList: [\"foobar.com\"]\n",
    "            }}\n",
    "          }};\n",
    "\n",
    "    chrome.proxy.settings.set({{value: config, scope: \"regular\"}}, function() {{}});\n",
    "\n",
    "    function callbackFn(details) {{\n",
    "        return {{\n",
    "            authCredentials: {{\n",
    "                username: \"{usr}\",\n",
    "                password: \"{pwd}\"\n",
    "            }}\n",
    "        }};\n",
    "    }}\n",
    "\n",
    "    chrome.webRequest.onAuthRequired.addListener(\n",
    "                callbackFn,\n",
    "                {{urls: [\"<all_urls>\"]}},\n",
    "                ['blocking']\n",
    "    );\n",
    "    \"\"\".format(**proxy)\n",
    "\n",
    "\n",
    "    pluginfile = 'proxy_auth_plugin.zip'\n",
    "\n",
    "    with zipfile.ZipFile(pluginfile, 'w') as zp:\n",
    "        zp.writestr(\"manifest.json\", manifest_json)\n",
    "        zp.writestr(\"background.js\", background_js)\n",
    "\n",
    "    co = Options()\n",
    "    co.add_argument(\"--start-maximized\")\n",
    "    co.add_argument('--dns-prefetch-disable')\n",
    "    #co.add_argument('--disable-extensions')\n",
    "    co.add_extension(pluginfile)\n",
    "    \n",
    "    return(co)"
   ]
  },
  {
   "cell_type": "code",
   "execution_count": 4,
   "metadata": {},
   "outputs": [],
   "source": [
    "co = get_chrome_options(proxy)\n",
    "driver = webdriver.Chrome(chrome_options=co)"
   ]
  },
  {
   "cell_type": "code",
   "execution_count": 5,
   "metadata": {},
   "outputs": [],
   "source": [
    "import time\n",
    "from bs4 import BeautifulSoup\n",
    "\n",
    "# set timeout information\n",
    "driver.set_page_load_timeout(50)\n",
    "\n",
    "finished = 0\n",
    "fails = 0\n",
    "while finished == 0 and fails < 8:\n",
    "    try:\n",
    "        driver.get(frameUrl)\n",
    "        finished = 1\n",
    "    except Exception as e:\n",
    "        print(str(e))\n",
    "        fails = fails + 1\n",
    "        time.sleep(5)"
   ]
  },
  {
   "cell_type": "code",
   "execution_count": 6,
   "metadata": {},
   "outputs": [
    {
     "name": "stdout",
     "output_type": "stream",
     "text": [
      "filters[Keyword]\n",
      "filters[Description]\n",
      "filters[Headline]\n",
      "filters[PartNumber]\n",
      "filters[Manufacturer]\n",
      "filters[Model]\n",
      "filters[Company]\n",
      "filters[LastName]\n",
      "filters[FirstName]\n",
      "filters[Country]\n",
      "filters[State]\n",
      "filters[City]\n",
      "filters[Zip]\n",
      "filters[Phone]\n",
      "filters[Email]\n",
      "filters[CompanyEmail]\n",
      "filters[Category]\n",
      "filters[PriceMin]\n",
      "filters[PriceMax]\n"
     ]
    }
   ],
   "source": [
    "siteSoup = BeautifulSoup(driver.page_source, 'lxml')\n",
    "siteInputs = siteSoup.select('input[type=\"text\"]')\n",
    "for siteInput in siteInputs:\n",
    "    print(siteInput['name'])"
   ]
  },
  {
   "cell_type": "code",
   "execution_count": 7,
   "metadata": {},
   "outputs": [],
   "source": [
    "from selenium.webdriver.common.by import By\n",
    "from selenium.webdriver.support.ui import WebDriverWait\n",
    "from selenium.webdriver.support import expected_conditions as EC\n",
    "\n",
    "try:\n",
    "    #<input type=\"text\" name=\"filters[Keyword]\" value=\"\" size=\"50\">\n",
    "    inputCss = 'input[type=\"text\"]'\n",
    "    \n",
    "    # Wait for search to show up\n",
    "    inputTag = WebDriverWait(driver, 10).until(\n",
    "        EC.presence_of_element_located((By.CSS_SELECTOR, inputCss))\n",
    "    )\n",
    "    \n",
    "    #print(driver.find_element_by_css_selector(inputCss).get_attribute('outerHTML'))\n",
    "    inputTag.clear()\n",
    "    inputTag.send_keys('plane')\n",
    "except Exception as e:\n",
    "    print(str(e))"
   ]
  },
  {
   "cell_type": "code",
   "execution_count": 8,
   "metadata": {},
   "outputs": [],
   "source": [
    "from selenium.webdriver.common.by import By\n",
    "from selenium.webdriver.support.ui import WebDriverWait\n",
    "from selenium.webdriver.support import expected_conditions as EC\n",
    "\n",
    "try:\n",
    "    #<input type=\"checkbox\" name=\"summary\" value=\"1\">\n",
    "    checkboxCss = 'input[type=\"checkbox\"]'\n",
    "    \n",
    "    # Wait for search to show up\n",
    "    checkboxTag = WebDriverWait(driver, 10).until(\n",
    "        EC.presence_of_element_located((By.CSS_SELECTOR, checkboxCss))\n",
    "    )\n",
    "    \n",
    "    #print(driver.find_element_by_css_selector(checkboxCss).get_attribute('outerHTML'))\n",
    "    checkboxTag.click()\n",
    "except Exception as e:\n",
    "    print(str(e))"
   ]
  },
  {
   "cell_type": "code",
   "execution_count": 9,
   "metadata": {
    "collapsed": true
   },
   "outputs": [],
   "source": [
    "from selenium.webdriver.common.by import By\n",
    "from selenium.webdriver.support.ui import WebDriverWait\n",
    "from selenium.webdriver.support import expected_conditions as EC\n",
    "\n",
    "try:\n",
    "    #<input type=\"submit\" value=\" Search \">\n",
    "    buttonCss = 'form > center > p > input[type=\"submit\"]'\n",
    "    \n",
    "    # Wait for search to show up\n",
    "    buttonTag = WebDriverWait(driver, 10).until(\n",
    "        EC.presence_of_element_located((By.CSS_SELECTOR, buttonCss))\n",
    "    )\n",
    "    \n",
    "    buttonTag.click()\n",
    "except Exception as e:\n",
    "    print(str(e))"
   ]
  },
  {
   "cell_type": "code",
   "execution_count": 10,
   "metadata": {},
   "outputs": [],
   "source": [
    "from selenium.common.exceptions import NoSuchElementException\n",
    "from selenium.common.exceptions import TimeoutException\n",
    "\n",
    "def wait_for(condition_function):\n",
    "    start_time = time.time()\n",
    "    while time.time() < start_time + 3:\n",
    "        if condition_function():\n",
    "            return True\n",
    "        else:\n",
    "            time.sleep(0.1)\n",
    "    raise Exception(\n",
    "        'Timeout waiting for {}'.format(condition_function.__name__)\n",
    "    )\n",
    "\n",
    "class wait_for_page_load(object):\n",
    "\n",
    "    def __init__(self, browser):\n",
    "        self.driver = driver\n",
    "\n",
    "    def __enter__(self):\n",
    "        self.old_page = self.driver.find_element_by_tag_name('html')\n",
    "\n",
    "    def page_has_loaded(self):\n",
    "        new_page = self.driver.find_element_by_tag_name('html')\n",
    "        time.sleep(0.1)\n",
    "        return new_page.id != self.old_page.id\n",
    "\n",
    "    def __exit__(self, *_):\n",
    "        wait_for(self.page_has_loaded)\n",
    "\n",
    "def get_page_urls(driver):\n",
    "    page_source = driver.page_source\n",
    "    current_url = driver.current_url\n",
    "    \n",
    "    # Retrieve the page with tag results and set it up to be scraped\n",
    "    soup = BeautifulSoup(page_source, 'lxml')\n",
    "    \n",
    "    #<a href=\"ad_detail.php?ID=1212950\"><font color=\"#000000\" size=\"2\"><b>GREAT LAKES AEROBATIC BIPLANE</b></font></a>\n",
    "    pageLinks = soup.select('td.cellleft > a')\n",
    "    for pageLink in pageLinks:\n",
    "        pageUrl = urllib.parse.urljoin(current_url, re.sub(' ', '%20', pageLink['href']))\n",
    "        if pageUrl not in seen_urls_array:\n",
    "            seen_urls_array.append(pageUrl)"
   ]
  },
  {
   "cell_type": "code",
   "execution_count": 11,
   "metadata": {
    "collapsed": true
   },
   "outputs": [],
   "source": [
    "from bs4 import BeautifulSoup\n",
    "import urllib.parse\n",
    "import re\n",
    "\n",
    "seen_urls_array = []\n",
    "get_page_urls(driver)\n",
    "while True:\n",
    "    try:\n",
    "        with wait_for_page_load(driver):\n",
    "            #<a href=\"/listing.php?mode=search&amp;summary=1&amp;\n",
    "            #page=2#topofpage\" class=\"pagination next\">Next Page &gt;</a>\n",
    "            driver.find_element_by_css_selector('a[class=\"pagination next\"]').click()\n",
    "        get_page_urls(driver)\n",
    "    except NoSuchElementException as e:\n",
    "        print('The class=\"pagination next\" link is missing: ' + str(e))\n",
    "        break  # cannot click the link anymore\n",
    "    except TimeoutException as e:\n",
    "        print('We timed out: ' + str(e))\n",
    "        break  # cannot click the link anymore\n",
    "    except Exception as e:\n",
    "        if re.search(r\"Timeout\", str(e)):\n",
    "            break # cannot click the link any more\n",
    "        else:\n",
    "            print(str(e))"
   ]
  },
  {
   "cell_type": "code",
   "execution_count": 13,
   "metadata": {},
   "outputs": [
    {
     "name": "stdout",
     "output_type": "stream",
     "text": [
      "695\n"
     ]
    }
   ],
   "source": [
    "print(len(seen_urls_array))"
   ]
  },
  {
   "cell_type": "code",
   "execution_count": 12,
   "metadata": {
    "collapsed": true
   },
   "outputs": [],
   "source": [
    "import pickle\n",
    "\n",
    "with open('barnstormers.pickle', 'wb') as handle:\n",
    "    pickle.dump(seen_urls_array, handle, protocol=pickle.HIGHEST_PROTOCOL)"
   ]
  },
  {
   "cell_type": "code",
   "execution_count": null,
   "metadata": {
    "collapsed": true
   },
   "outputs": [],
   "source": [
    "import pickle\n",
    "\n",
    "with open('barnstormers.pickle', 'rb') as handle:\n",
    "    seen_urls_array = pickle.load(handle)"
   ]
  },
  {
   "cell_type": "code",
   "execution_count": 19,
   "metadata": {},
   "outputs": [
    {
     "name": "stdout",
     "output_type": "stream",
     "text": [
      "http://www.barnstormers.com/ad_detail.php?ID=1217871\n",
      "http://<<USERID>>:<<PASSWORD>>@64.120.85.192:56597/ HTTPConnectionPool(host='64.120.85.192', port=56597): Max retries exceeded with url: http://www.barnstormers.com/ad_detail.php?ID=1217871 (Caused by ProxyError('Cannot connect to proxy.', NewConnectionError('<requests.packages.urllib3.connection.HTTPConnection object at 0x000001F2784F62B0>: Failed to establish a new connection: [WinError 10061] No connection could be made because the target machine actively refused it',)))\n",
      "http://<<USERID>>:<<PASSWORD>>@8.29.125.84:56597/ HTTPConnectionPool(host='8.29.125.84', port=56597): Max retries exceeded with url: http://www.barnstormers.com/ad_detail.php?ID=1217871 (Caused by ProxyError('Cannot connect to proxy.', NewConnectionError('<requests.packages.urllib3.connection.HTTPConnection object at 0x000001F2784F69B0>: Failed to establish a new connection: [WinError 10061] No connection could be made because the target machine actively refused it',)))\n",
      "http://<<USERID>>:<<PASSWORD>>@173.234.204.209:56597/ HTTPConnectionPool(host='173.234.204.209', port=56597): Max retries exceeded with url: http://www.barnstormers.com/ad_detail.php?ID=1217871 (Caused by ProxyError('Cannot connect to proxy.', NewConnectionError('<requests.packages.urllib3.connection.HTTPConnection object at 0x000001F2784FC1D0>: Failed to establish a new connection: [WinError 10061] No connection could be made because the target machine actively refused it',)))\n",
      "http://<<USERID>>:<<PASSWORD>>@8.29.124.215:56597/ HTTPConnectionPool(host='8.29.124.215', port=56597): Max retries exceeded with url: http://www.barnstormers.com/ad_detail.php?ID=1217871 (Caused by ProxyError('Cannot connect to proxy.', NewConnectionError('<requests.packages.urllib3.connection.HTTPConnection object at 0x000001F2784F6DA0>: Failed to establish a new connection: [WinError 10061] No connection could be made because the target machine actively refused it',)))\n",
      "http://<<USERID>>:<<PASSWORD>>@167.160.106.72:56597/ HTTPConnectionPool(host='167.160.106.72', port=56597): Max retries exceeded with url: http://www.barnstormers.com/ad_detail.php?ID=1217871 (Caused by ProxyError('Cannot connect to proxy.', NewConnectionError('<requests.packages.urllib3.connection.HTTPConnection object at 0x000001F2784F65C0>: Failed to establish a new connection: [WinError 10061] No connection could be made because the target machine actively refused it',)))\n",
      "http://<<USERID>>:<<PASSWORD>>@192.171.229.113:56597/ HTTPConnectionPool(host='192.171.229.113', port=56597): Max retries exceeded with url: http://www.barnstormers.com/ad_detail.php?ID=1217871 (Caused by ProxyError('Cannot connect to proxy.', NewConnectionError('<requests.packages.urllib3.connection.HTTPConnection object at 0x000001F2784F3CC0>: Failed to establish a new connection: [WinError 10061] No connection could be made because the target machine actively refused it',)))\n",
      "http://<<USERID>>:<<PASSWORD>>@45.59.21.72:56597/ HTTPConnectionPool(host='45.59.21.72', port=56597): Max retries exceeded with url: http://www.barnstormers.com/ad_detail.php?ID=1217871 (Caused by ProxyError('Cannot connect to proxy.', NewConnectionError('<requests.packages.urllib3.connection.HTTPConnection object at 0x000001F2782089E8>: Failed to establish a new connection: [WinError 10061] No connection could be made because the target machine actively refused it',)))\n",
      "http://<<USERID>>:<<PASSWORD>>@142.91.235.188:56597/ HTTPConnectionPool(host='142.91.235.188', port=56597): Max retries exceeded with url: http://www.barnstormers.com/ad_detail.php?ID=1217871 (Caused by ProxyError('Cannot connect to proxy.', NewConnectionError('<requests.packages.urllib3.connection.HTTPConnection object at 0x000001F2784FCE10>: Failed to establish a new connection: [WinError 10061] No connection could be made because the target machine actively refused it',)))\n",
      "http://<<USERID>>:<<PASSWORD>>@108.62.137.20:56597/ HTTPConnectionPool(host='108.62.137.20', port=56597): Max retries exceeded with url: http://www.barnstormers.com/ad_detail.php?ID=1217871 (Caused by ProxyError('Cannot connect to proxy.', NewConnectionError('<requests.packages.urllib3.connection.HTTPConnection object at 0x000001F278504630>: Failed to establish a new connection: [WinError 10061] No connection could be made because the target machine actively refused it',)))\n",
      "http://<<USERID>>:<<PASSWORD>>@216.107.136.72:56597/ HTTPConnectionPool(host='216.107.136.72', port=56597): Max retries exceeded with url: http://www.barnstormers.com/ad_detail.php?ID=1217871 (Caused by ProxyError('Cannot connect to proxy.', NewConnectionError('<requests.packages.urllib3.connection.HTTPConnection object at 0x000001F2784F3B38>: Failed to establish a new connection: [WinError 10061] No connection could be made because the target machine actively refused it',)))\n",
      "http://<<USERID>>:<<PASSWORD>>@23.19.213.86:56597/ HTTPConnectionPool(host='23.19.213.86', port=56597): Max retries exceeded with url: http://www.barnstormers.com/ad_detail.php?ID=1217871 (Caused by ProxyError('Cannot connect to proxy.', NewConnectionError('<requests.packages.urllib3.connection.HTTPConnection object at 0x000001F2784FCC18>: Failed to establish a new connection: [WinError 10061] No connection could be made because the target machine actively refused it',)))\n",
      "http://<<USERID>>:<<PASSWORD>>@23.19.36.245:56597/ HTTPConnectionPool(host='23.19.36.245', port=56597): Max retries exceeded with url: http://www.barnstormers.com/ad_detail.php?ID=1217871 (Caused by ProxyError('Cannot connect to proxy.', NewConnectionError('<requests.packages.urllib3.connection.HTTPConnection object at 0x000001F2784FC4E0>: Failed to establish a new connection: [WinError 10061] No connection could be made because the target machine actively refused it',)))\n"
     ]
    }
   ],
   "source": [
    "from random import randint\n",
    "import requests\n",
    "\n",
    "pageUrl = seen_urls_array[randint(0,len(seen_urls_array)-1)]\n",
    "print(pageUrl)\n",
    "\n",
    "for proxy in proxies_array:\n",
    "    proxy_url = 'http://{usr}:{pwd}@{host}:{port}/'.format(**proxy)\n",
    "    proxies = {'http': proxy_url}\n",
    "    \n",
    "    try:\n",
    "        page = requests.get(url=pageUrl, proxies=proxies)\n",
    "        soup = BeautifulSoup(page.content, 'lxml')\n",
    "    except Exception as e:\n",
    "        print(proxy_url, str(e))"
   ]
  },
  {
   "cell_type": "code",
   "execution_count": 26,
   "metadata": {},
   "outputs": [
    {
     "name": "stdout",
     "output_type": "stream",
     "text": [
      "$8,900\n",
      "6183156111\n",
      "Daniel Settle\n",
      "2-Place Quicksilver - N number\n"
     ]
    }
   ],
   "source": [
    "import re\n",
    "\n",
    "#<font size=\"4\"><a href=\"/classified_1217529_Cherokee+140.html\" style=\"text-decoration:none;color:black\"><b>CHEROKEE 140</b>\n",
    "#</a> • $23,500 • <font color=\"Red\"><b>FOR IMMEDIATE SALE</b></font> • </font>\n",
    "price = \"$Unknown\"\n",
    "priceCss = 'p[align=\"left\"] > font[size=\"4\"]'\n",
    "priceString = \"\"\n",
    "priceTag = soup.select(priceCss)\n",
    "if len(priceTag):\n",
    "    priceString = priceTag[0].get_text().strip()\n",
    "if len(priceString):\n",
    "    match = re.search(r\"\\$ *[0-9,]+\", str(priceString))\n",
    "    if match:\n",
    "        price = match.group()\n",
    "print(price)\n",
    "\n",
    "phoneRe = re.compile(r\"\\(?[0-9]{3}\\)?[-. ]?[0-9]{3}[-. ]?[0-9]{4}\")\n",
    "price = \"\"\n",
    "phoneTag = priceTag[0].parent\n",
    "if len(phoneTag):\n",
    "    phoneString = phoneTag.get_text().strip()\n",
    "if len(phoneString):\n",
    "    match = phoneRe.search(phoneString)\n",
    "    if match:\n",
    "        phone = match.group()\n",
    "print(phone)\n",
    "\n",
    "if len(phone):\n",
    "    \n",
    "    #<a href=\"/contact_seller.php?to=64465&amp;id=1217529&amp;title=Cherokee+140&amp;return=%2Fad_manager%2Fmy_ads.php\"\n",
    "    #>STEPHEN SEARLE </a>\n",
    "    seller = soup.select('a[href*=contact_seller]')\n",
    "    if(len(seller)):\n",
    "        seller = seller[0].get_text().strip()\n",
    "    else:\n",
    "        seller = \"Unknown\"\n",
    "    print(seller)\n",
    "\n",
    "    #<font face=\"Arial, Helvetica, sans-serif\" color=\"#000099\" size=\"5\">Cherokee 140<br><img src=\"/images/1x1.gif\" \n",
    "    #width=\"1\" height=\"10\" border=\"0\"><br></font>\n",
    "    model = soup.select('div[align=\"center\"] > font[size=\"5\"]')\n",
    "    if(len(model)):\n",
    "        model = model[0].get_text().strip()\n",
    "    else:\n",
    "        model = \"Unknown\"\n",
    "    print(model)"
   ]
  },
  {
   "cell_type": "code",
   "execution_count": 20,
   "metadata": {
    "collapsed": true
   },
   "outputs": [],
   "source": [
    "driver.quit()"
   ]
  },
  {
   "cell_type": "code",
   "execution_count": 30,
   "metadata": {},
   "outputs": [
    {
     "name": "stdout",
     "output_type": "stream",
     "text": [
      "<p align=\"left\" style=\"margin-bottom: 0pt;\"><font size=\"4\"><a href=\"/classified_1202906_NEW+SPORT+AIRCRAFT.html\" style=\"text-decoration:none;color:black\"><b>NEW SPORT AIRCRAFT</b></a>  <font color=\"Green\"><b>PARTNER WANTED</b></font>  </font>\n",
      "Developing new cheap, keep at home, car towable, fun plane. Need distribtors / business partners.\n",
      " Contact <a href=\"/contact_seller.php?to=60693&amp;id=1202906&amp;title=NEW+SPORT+AIRCRAFT&amp;return=%2Fad_manager%2Fmy_ads.php\">Neale T. Dunstan</a> - <a href=\"/contact_seller.php?to=60693&amp;id=1202906&amp;title=NEW SPORT AIRCRAFT&amp;return=%2Fad_manager%2Fmy_ads.php\">SERENITY AVIATION</a>, Owner - located Singapore, SI Singapore\n",
      " Telephone: 65 85746876 .\n",
      "+65 85746876\n",
      " Posted February 3, 2017\n",
      "<span style=\"font-size:8pt;\">  <a href=\"listing.php?mode=usersearch&amp;user=60693\">Show all Ads posted by this Advertiser</a>\n",
      " <a href=\"/recommend.php?id=1202906&amp;title=NEW+SPORT+AIRCRAFT\">Recommend This Ad to a Friend</a>\n",
      " <a href=\"/contact_seller.php?to=60693&amp;id=1202906&amp;title=NEW+SPORT+AIRCRAFT&amp;return=%2Fad_manager%2Fmy_ads.php\">Email Advertiser</a>\n",
      " <a href=\"/ad_manager/watchlist.php?ADD=1202906\">Save to Watchlist</a>\n",
      " <a href=\"/report_ad.php?id=1202906&amp;title=NEW+SPORT+AIRCRAFT\">Report This Ad</a>\n",
      "</span></p>\n",
      "<p align=\"left\" style=\"margin-bottom: 0pt;\"><font size=\"4\"><a href=\"/classified_1088819_SKYBOLT.html\" style=\"text-decoration:none;color:black\"><b>SKYBOLT</b></a>  $49,000  <font color=\"Red\"><b>SALE PENDING</b></font>  </font>\n",
      "One of the best Skybolts out there!!\n",
      "If you looking to buy a Skybolt this aircraft is for you! Totally refurbished. Aircraft was completely disassembled, inspected and reassembled. Work done: Prop O/H, Mags O/H, all new hoses, baffling new, new canopy, new interior, new radio, panel and floors all redone, paint touch ups to new condition.\n",
      "An exceptionally well built aircraft featured in Kitplanes USA. Trade ins considered?\n",
      "Aircraft in South Africa ready to ship world wide.\n",
      " Contact <a href=\"/contact_seller.php?to=147481&amp;id=1088819&amp;title=SKYBOLT&amp;return=%2Fad_manager%2Fmy_ads.php\">Nico Van Staden</a> - <a href=\"/contact_seller.php?to=147481&amp;id=1088819&amp;title=SKYBOLT&amp;return=%2Fad_manager%2Fmy_ads.php\">AEROSTRATUS</a>, Owner - located Kyalami, GP South Africa\n",
      " Telephone: +27 83 321 0916 .\n",
      " Posted January 29, 2017\n",
      " <b><a href=\"/classified_files/1/0/8/8/8/1/9/1088819-Skybolt_Spec_barnstormers.pdf\" onclick=\"openPopWin(this.href,500,400,'resizable,location,scrollbars,status',20,20);return false;\">Display Specs Page</a></b>\n",
      " <b><a href=\"/classified_files/1/0/8/8/8/1/9/1088819-Kitplanes.pdf\" onclick=\"openPopWin(this.href,500,400,'resizable,location,scrollbars,status',20,20);return false;\">Display Inventory Page</a></b>\n",
      "<span style=\"font-size:8pt;\">  <a href=\"listing.php?mode=usersearch&amp;user=147481\">Show all Ads posted by this Advertiser</a>\n",
      " <a href=\"/recommend.php?id=1088819&amp;title=SKYBOLT\">Recommend This Ad to a Friend</a>\n",
      " <a href=\"/contact_seller.php?to=147481&amp;id=1088819&amp;title=SKYBOLT&amp;return=%2Fad_manager%2Fmy_ads.php\">Email Advertiser</a>\n",
      " <a href=\"/ad_manager/watchlist.php?ADD=1088819\">Save to Watchlist</a>\n",
      " <a href=\"/report_ad.php?id=1088819&amp;title=SKYBOLT\">Report This Ad</a>\n",
      " <a href=\"ad_detail.php?ID=1088819&amp;go_to_images=1\" onclick=\"openPopWin(this.href ,500,400,'resizable,scrollbars,toolbar',20,20);return false;\">View Larger Pictures</a>\n",
      "</span></p>\n"
     ]
    }
   ],
   "source": [
    "import re\n",
    "import requests\n",
    "\n",
    "phoneRe = re.compile(r\"\\(?[0-9]{3}\\)? *[-. ]? *[0-9]{3} *[-. ]? *[0-9]{4}\")\n",
    "otherPhoneRe = re.compile(r\"Telephone: *[+0-9 ]+\")\n",
    "priceCss = 'p[align=\"left\"] > font[size=\"4\"]'\n",
    "for pageUrl in seen_urls_array:\n",
    "    try:\n",
    "\n",
    "        page = requests.get(url=pageUrl, proxies=proxies)\n",
    "        soup = BeautifulSoup(page.content, 'lxml')\n",
    "\n",
    "        price = \"$Unknown\"\n",
    "        priceString = \"\"\n",
    "        priceTag = soup.select(priceCss)\n",
    "        if len(priceTag):\n",
    "            priceString = priceTag[0].get_text().strip()\n",
    "        if len(priceString):\n",
    "            match = re.search(r\"\\$ *[0-9,]+\", str(priceString))\n",
    "            if match:\n",
    "                price = match.group()\n",
    "\n",
    "        phone = \"\"\n",
    "        phoneTag = priceTag[0].parent\n",
    "        if len(phoneTag):\n",
    "            phoneString = phoneTag.get_text().strip()\n",
    "        if len(phoneString):\n",
    "            match = phoneRe.search(phoneString)\n",
    "            if match:\n",
    "                phone = match.group()\n",
    "            else:\n",
    "                match = otherPhoneRe.search(phoneString)\n",
    "                if match:\n",
    "                    phone = match.group().strip()\n",
    "\n",
    "        if len(phone):\n",
    "\n",
    "            seller = soup.select('a[href*=contact_seller]')\n",
    "            if(len(seller)):\n",
    "                seller = seller[0].get_text().strip()\n",
    "            else:\n",
    "                seller = \"Unknown\"\n",
    "\n",
    "            model = soup.select('div[align=\"center\"] > font[size=\"5\"]')\n",
    "            if(len(model)):\n",
    "                model = model[0].get_text().strip()\n",
    "            else:\n",
    "                model = \"Unknown\"\n",
    "\n",
    "            bigFile = open('barnstormers.txt', 'a', encoding='utf-8')\n",
    "            bigFile.write(seller + ': ' + model + '\\t' + price + '\\t' + phone + '\\n')\n",
    "            bigFile.close()\n",
    "\n",
    "        else:\n",
    "            print(phoneTag)\n",
    "\n",
    "    except Exception as e:\n",
    "        print(str(e))"
   ]
  },
  {
   "cell_type": "code",
   "execution_count": null,
   "metadata": {
    "collapsed": true
   },
   "outputs": [],
   "source": []
  }
 ],
 "metadata": {
  "anaconda-cloud": {},
  "kernelspec": {
   "display_name": "Python 3",
   "language": "python",
   "name": "python3"
  },
  "language_info": {
   "codemirror_mode": {
    "name": "ipython",
    "version": 3
   },
   "file_extension": ".py",
   "mimetype": "text/x-python",
   "name": "python",
   "nbconvert_exporter": "python",
   "pygments_lexer": "ipython3",
   "version": "3.6.3"
  }
 },
 "nbformat": 4,
 "nbformat_minor": 1
}
