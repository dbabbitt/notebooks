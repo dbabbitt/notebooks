{
 "cells": [
  {
   "cell_type": "code",
   "execution_count": 4,
   "metadata": {
    "collapsed": false
   },
   "outputs": [
    {
     "name": "stdout",
     "output_type": "stream",
     "text": [
      "http://www.rvt.com/New-and-Used-RVs-For-Sale-On-RVT.com/results?private_only=1\n"
     ]
    }
   ],
   "source": [
    "\n",
    "from base64 import b64encode\n",
    "from bs4 import BeautifulSoup\n",
    "from random import randint\n",
    "\n",
    "from selenium import webdriver\n",
    "from selenium.common.exceptions import NoSuchElementException\n",
    "from selenium.webdriver.common.by import By\n",
    "from selenium.webdriver.support import expected_conditions as EC\n",
    "from selenium.webdriver.support.expected_conditions import _find_element\n",
    "from selenium.webdriver.support.ui import WebDriverWait\n",
    "\n",
    "#import pandas as pd\n",
    "import pickle\n",
    "import random\n",
    "import re\n",
    "import requests\n",
    "import time\n",
    "import urllib.parse\n",
    "\n",
    "proxies_array = [\n",
    "    {'host': '64.120.85.192', 'port': '56597', 'usr': '<<USERID>>', 'pwd': '<<PASSWORD>>', 'loc': 'Chicago Ilinois'},\n",
    "    {'host': '8.29.125.84', 'port': '56597', 'usr': '<<USERID>>', 'pwd': '<<PASSWORD>>', 'loc': 'Columbus Ohio'},\n",
    "    {'host': '173.234.204.209', 'port': '56597', 'usr': '<<USERID>>', 'pwd': '<<PASSWORD>>', 'loc': 'Dallas Texas'},\n",
    "    {'host': '8.29.124.215', 'port': '56597', 'usr': '<<USERID>>', 'pwd': '<<PASSWORD>>', 'loc': 'Denver Colorado'},\n",
    "    {'host': '167.160.106.72', 'port': '56597', 'usr': '<<USERID>>', 'pwd': '<<PASSWORD>>', 'loc': 'Houston Texas'},\n",
    "    {'host': '192.171.229.113', 'port': '56597', 'usr': '<<USERID>>', 'pwd': '<<PASSWORD>>', 'loc': 'Irvine California'},\n",
    "    {'host': '45.59.21.72', 'port': '56597', 'usr': '<<USERID>>', 'pwd': '<<PASSWORD>>', 'loc': 'Las Vegas Nevada'},\n",
    "    {'host': '142.91.235.188', 'port': '56597', 'usr': '<<USERID>>', 'pwd': '<<PASSWORD>>', 'loc': 'Los Angeles California'},\n",
    "    {'host': '108.62.137.20', 'port': '56597', 'usr': '<<USERID>>', 'pwd': '<<PASSWORD>>', 'loc': 'New York City New York'},\n",
    "    {'host': '216.107.136.72', 'port': '56597', 'usr': '<<USERID>>', 'pwd': '<<PASSWORD>>', 'loc': 'Oklahoma City Oklahoma'},\n",
    "    {'host': '23.19.213.86', 'port': '56597', 'usr': '<<USERID>>', 'pwd': '<<PASSWORD>>', 'loc': 'Phoenix Arizona'},\n",
    "]\n",
    "\n",
    "def get_firefox_credentials(proxy):\n",
    "    credentials = '{usr}:{pwd}'.format(**proxy)\n",
    "    credentials = b64encode(credentials.encode('ascii')).decode('utf-8')\n",
    "    \n",
    "    return(credentials)\n",
    "\n",
    "def get_firefox_profile(credentials):\n",
    "    fp = webdriver.FirefoxProfile()\n",
    "    fp.set_preference('network.proxy.type', 1)\n",
    "    fp.set_preference('network.proxy.http', proxy['host'])\n",
    "    fp.set_preference('network.proxy.http_port', int(proxy['port']))\n",
    "    fp.set_preference('network.proxy.no_proxies_on', 'localhost, 127.0.0.1')\n",
    "    fp.add_extension('closeproxy.xpi')\n",
    "\n",
    "    # Set up the credentials\n",
    "    fp.set_preference('extensions.closeproxyauth.authtoken', credentials)\n",
    "\n",
    "    #set some privacy settings\n",
    "    fp.set_preference( \"places.history.enabled\", False )\n",
    "    fp.set_preference( \"privacy.clearOnShutdown.offlineApps\", True )\n",
    "    fp.set_preference( \"privacy.clearOnShutdown.passwords\", True )\n",
    "    fp.set_preference( \"privacy.clearOnShutdown.siteSettings\", True )\n",
    "    fp.set_preference( \"privacy.sanitize.sanitizeOnShutdown\", True )\n",
    "    fp.set_preference( \"signon.rememberSignons\", False )\n",
    "    fp.set_preference( \"network.cookie.lifetimePolicy\", 2 )\n",
    "    fp.set_preference( \"network.dns.disablePrefetch\", True )\n",
    "    fp.set_preference( \"network.http.sendRefererHeader\", 0 )\n",
    "\n",
    "    #if you're really hardcore about your security\n",
    "    #js can be used to reveal your true i.p.\n",
    "    #fp.set_preference( \"javascript.enabled\", False )\n",
    "\n",
    "    #get a huge speed increase by not downloading images\n",
    "    #fp.set_preference( \"permissions.default.image\", 2 )\n",
    "    \n",
    "    return(fp)\n",
    "\n",
    "def get_firefox_page(proxy, url):\n",
    "    credentials = get_firefox_credentials(proxy)\n",
    "    fp = get_firefox_profile(credentials)\n",
    "    driver = webdriver.Firefox(fp)\n",
    "\n",
    "    # Set the timeout information\n",
    "    driver.set_page_load_timeout(50)\n",
    "\n",
    "    finished = 0\n",
    "    fails = 0\n",
    "    while finished == 0 and fails < 8:\n",
    "        try:\n",
    "            driver.get(url)\n",
    "            finished = 1\n",
    "        except Exception as e:\n",
    "            print(str(e))\n",
    "            fails = fails + 1\n",
    "            time.sleep(5)\n",
    "    \n",
    "    return(driver)\n",
    "\n",
    "class text_to_change(object):\n",
    "    def __init__(self, locator, text):\n",
    "        self.locator = locator\n",
    "        self.text = text\n",
    "\n",
    "    def __call__(self, driver):\n",
    "        actual_text = _find_element(driver, self.locator).text\n",
    "        return actual_text != self.text"
   ]
  },
  {
   "cell_type": "code",
   "execution_count": 5,
   "metadata": {
    "collapsed": false
   },
   "outputs": [
    {
     "name": "stdout",
     "output_type": "stream",
     "text": [
      "http://www.rvt.com/rvsearchform.php\n",
      "Message: Error loading page, timed out (checkLoad)\n",
      "\n",
      "Message: Error loading page, timed out (checkLoad)\n",
      "\n",
      "Message: Error loading page, timed out (checkLoad)\n",
      "\n"
     ]
    }
   ],
   "source": [
    "siteUrl = \"http://www.rvt.com/rvsearchform.php\"\n",
    "print(siteUrl)\n",
    "\n",
    "proxy = proxies_array[randint(0, len(proxies_array)-1)]\n",
    "\n",
    "driver = get_firefox_page(proxy, siteUrl)"
   ]
  },
  {
   "cell_type": "code",
   "execution_count": 6,
   "metadata": {
    "collapsed": false
   },
   "outputs": [
    {
     "name": "stdout",
     "output_type": "stream",
     "text": [
      "<input id=\"private\" class=\"std-formcheck clear\" name=\"private_only\" value=\"1\" type=\"checkbox\">\n"
     ]
    }
   ],
   "source": [
    "from selenium.webdriver.common.by import By\n",
    "from selenium.webdriver.support.ui import WebDriverWait\n",
    "from selenium.webdriver.support import expected_conditions as EC\n",
    "\n",
    "try:\n",
    "    #<input id=\"private\" class=\"std-formcheck clear\" name=\"private_only\" type=\"checkbox\" value=\"1\">\n",
    "    checkboxCss = '#private'\n",
    "    \n",
    "    # Wait for search to show up\n",
    "    checkboxTag = WebDriverWait(driver, 10).until(\n",
    "        EC.presence_of_element_located((By.CSS_SELECTOR, checkboxCss))\n",
    "    )\n",
    "    \n",
    "    print(driver.find_element_by_css_selector(checkboxCss).get_attribute('outerHTML'))\n",
    "    checkboxTag.click()\n",
    "except Exception as e:\n",
    "    print(str(e))"
   ]
  },
  {
   "cell_type": "code",
   "execution_count": 7,
   "metadata": {
    "collapsed": false
   },
   "outputs": [
    {
     "name": "stdout",
     "output_type": "stream",
     "text": [
      "<button type=\"submit\" class=\"btn\" name=\"submit\" value=\"Search Now\">Search Now</button>\n"
     ]
    }
   ],
   "source": [
    "from selenium.webdriver.common.by import By\n",
    "from selenium.webdriver.support.ui import WebDriverWait\n",
    "from selenium.webdriver.support import expected_conditions as EC\n",
    "\n",
    "try:\n",
    "    #<button type=\"submit\" class=\"btn\" name=\"submit\" value=\"Search Now\">Search Now</button>\n",
    "    buttonCss = '#searchform > button.btn'\n",
    "    \n",
    "    # Wait for search to show up\n",
    "    buttonTag = WebDriverWait(driver, 10).until(\n",
    "        EC.presence_of_element_located((By.CSS_SELECTOR, buttonCss))\n",
    "    )\n",
    "    \n",
    "    print(driver.find_element_by_css_selector(buttonCss).get_attribute('outerHTML'))\n",
    "    buttonTag.click()\n",
    "except Exception as e:\n",
    "    print(str(e))"
   ]
  },
  {
   "cell_type": "code",
   "execution_count": 8,
   "metadata": {
    "collapsed": false
   },
   "outputs": [
    {
     "name": "stdout",
     "output_type": "stream",
     "text": [
      "<a class=\"mdwd cboxElement\" href=\"http://www.rvt.com/search-top-type.php?&amp;private_only=1&amp;show=all\">+ Show All</a>\n"
     ]
    }
   ],
   "source": [
    "from selenium.webdriver.common.by import By\n",
    "from selenium.webdriver.support.ui import WebDriverWait\n",
    "from selenium.webdriver.support import expected_conditions as EC\n",
    "\n",
    "try:\n",
    "    #<a class=\"mdwd cboxElement\" href=\"http://www.rvt.com/search-top-type.php?&amp;private_only=1&amp;show=all\">+ Show All</a>\n",
    "    showCss = 'li.filters > ul > li > a.mdwd.cboxElement'\n",
    "    \n",
    "    # Wait for \"+ Show All\" to show up\n",
    "    showTag = WebDriverWait(driver, 10).until(\n",
    "        EC.presence_of_element_located((By.CSS_SELECTOR, showCss))\n",
    "    )\n",
    "    \n",
    "    print(driver.find_element_by_css_selector(showCss).get_attribute('outerHTML'))\n",
    "    showTag.click()\n",
    "except Exception as e:\n",
    "    print(str(e))"
   ]
  },
  {
   "cell_type": "code",
   "execution_count": 8,
   "metadata": {
    "collapsed": false
   },
   "outputs": [
    {
     "name": "stdout",
     "output_type": "stream",
     "text": [
      "<a class=\"mdwd cboxElement\" href=\"http://www.rvt.com/search-top-type.php?&amp;private_only=1&amp;show=all\">+ Show All</a>\n"
     ]
    }
   ],
   "source": [
    "from selenium.webdriver.common.by import By\n",
    "from selenium.webdriver.support.ui import WebDriverWait\n",
    "from selenium.webdriver.support import expected_conditions as EC\n",
    "\n",
    "try:\n",
    "    #<ul>\n",
    "  <li><a href=\"JavaScript:void(0);\" onclick=\"openInParent('http://www.rvt.com/New-and-Used-5th-Wheel-RVs-For-Sale-On-RVT.com/results?private_only=1&amp;type=5th Wheels');\">5th Wheels <span>(593)</span></a></li>\n",
    "  <li><a href=\"JavaScript:void(0);\" onclick=\"openInParent('http://www.rvt.com/New-and-Used-Bus-Conversion-RVs-For-Sale-On-RVT.com/results?private_only=1&amp;type=Bus Conversions');\">Bus Conversions <span>(26)</span></a></li>\n",
    "  <li><a href=\"JavaScript:void(0);\" onclick=\"openInParent('http://www.rvt.com/New-and-Used-Cargo-Trailer-RVs-For-Sale-On-RVT.com/results?private_only=1&amp;type=Cargo Trailers');\">Cargo Trailers <span>(1)</span></a></li>\n",
    "  <li><a href=\"JavaScript:void(0);\" onclick=\"openInParent('http://www.rvt.com/New-and-Used-Class-A---Diesel-RVs-For-Sale-On-RVT.com/results?private_only=1&amp;type=Class A - Diesel');\">Class A - Diesel <span>(738)</span></a></li>\n",
    "  <li><a href=\"JavaScript:void(0);\" onclick=\"openInParent('http://www.rvt.com/New-and-Used-Class-A---Gas-RVs-For-Sale-On-RVT.com/results?private_only=1&amp;type=Class A - Gas');\">Class A - Gas <span>(481)</span></a></li>\n",
    "  <li><a href=\"JavaScript:void(0);\" onclick=\"openInParent('http://www.rvt.com/New-and-Used-Class-B-RVs-For-Sale-On-RVT.com/results?private_only=1&amp;type=Class B');\">Class B <span>(71)</span></a></li>\n",
    "  <li><a href=\"JavaScript:void(0);\" onclick=\"openInParent('http://www.rvt.com/New-and-Used-Class-B-RVs-For-Sale-On-RVT.com/results?private_only=1&amp;type=Class B');\">Class B <span>(27)</span></a></li>\n",
    "  <li><a href=\"JavaScript:void(0);\" onclick=\"openInParent('http://www.rvt.com/New-and-Used-Class-C-RVs-For-Sale-On-RVT.com/results?private_only=1&amp;type=Class C');\">Class C <span>(274)</span></a></li>\n",
    "  <li><a href=\"JavaScript:void(0);\" onclick=\"openInParent('http://www.rvt.com/New-and-Used-Conversion-Van-RVs-For-Sale-On-RVT.com/results?private_only=1&amp;type=Conversion Van');\">Conversion Van <span>(3)</span></a></li>\n",
    "  <li><a href=\"JavaScript:void(0);\" onclick=\"openInParent('http://www.rvt.com/New-and-Used-Folding-Trailer-RVs-For-Sale-On-RVT.com/results?private_only=1&amp;type=Folding Trailers');\">Folding Trailers <span>(18)</span></a></li>\n",
    "  <li><a href=\"JavaScript:void(0);\" onclick=\"openInParent('http://www.rvt.com/New-and-Used-Ice-Fish-House-RVs-For-Sale-On-RVT.com/results?private_only=1&amp;type=Ice Fish House');\">Ice Fish House <span>(1)</span></a></li>\n",
    "  <li><a href=\"JavaScript:void(0);\" onclick=\"openInParent('http://www.rvt.com/New-and-Used-Park-Model-RVs-For-Sale-On-RVT.com/results?private_only=1&amp;type=Park Models');\">Park Models <span>(20)</span></a></li>\n",
    "  <li><a href=\"JavaScript:void(0);\" onclick=\"openInParent('http://www.rvt.com/New-and-Used-SUV-RVs-For-Sale-On-RVT.com/results?private_only=1&amp;type=SUV');\">Suv <span>(13)</span></a></li>\n",
    "  <li><a href=\"JavaScript:void(0);\" onclick=\"openInParent('http://www.rvt.com/New-and-Used-Toterhome-RVs-For-Sale-On-RVT.com/results?private_only=1&amp;type=Toterhomes');\">Toterhomes <span>(9)</span></a></li>\n",
    "  <li><a href=\"JavaScript:void(0);\" onclick=\"openInParent('http://www.rvt.com/New-and-Used-Tow-Behind-Cars-For-Sale-On-RVT.com/results?private_only=1&amp;type=Tow Behind Cars');\">Tow Behind Cars <span>(29)</span></a></li>\n",
    "  <li><a href=\"JavaScript:void(0);\" onclick=\"openInParent('http://www.rvt.com/New-and-Used-Toy-Hauler-RVs-For-Sale-On-RVT.com/results?private_only=1&amp;type=Toy Haulers');\">Toy Haulers <span>(28)</span></a></li>\n",
    "  <li><a href=\"JavaScript:void(0);\" onclick=\"openInParent('http://www.rvt.com/New-and-Used-Toy-Haulers-5th-Wheel-RVs-For-Sale-On-RVT.com/results?private_only=1&amp;type=Toy Haulers 5th Wheels');\">Toy Haulers 5th Wheels <span>(92)</span></a></li>\n",
    "  <li><a href=\"JavaScript:void(0);\" onclick=\"openInParent('http://www.rvt.com/New-and-Used-Toy-Haulers-Travel-Trailer-RVs-For-Sale-On-RVT.com/results?private_only=1&amp;type=Toy Haulers Travel Trailers');\">Toy Haulers Travel Trailers <span>(33)</span></a></li>\n",
    "  <li><a href=\"JavaScript:void(0);\" onclick=\"openInParent('http://www.rvt.com/New-and-Used-Travel-Trailer-RVs-For-Sale-On-RVT.com/results?private_only=1&amp;type=Travel Trailers');\">Travel Trailers <span>(464)</span></a></li>\n",
    "  <li><a href=\"JavaScript:void(0);\" onclick=\"openInParent('http://www.rvt.com/New-and-Used-Travel-Trailers---Hybrid-RVs-For-Sale-On-RVT.com/results?private_only=1&amp;type=Travel Trailers - Hybrid');\">Travel Trailers - Hybrid <span>(14)</span></a></li>\n",
    "  <li><a href=\"JavaScript:void(0);\" onclick=\"openInParent('http://www.rvt.com/New-and-Used-Truck-Camper-RVs-For-Sale-On-RVT.com/results?private_only=1&amp;type=Truck Campers');\">Truck Campers <span>(32)</span></a></li>\n",
    "  <li><a href=\"JavaScript:void(0);\" onclick=\"openInParent('http://www.rvt.com/New-and-Used-Trucks-For-Sale-On-RVT.com/results?private_only=1&amp;type=Trucks');\">Trucks <span>(42)</span></a></li>\n",
    "  <li><a href=\"JavaScript:void(0);\" onclick=\"openInParent('http://www.rvt.com/New-and-Used-Utility-Trailer-RVs-For-Sale-On-RVT.com/results?private_only=1&amp;type=Utility Trailers');\">Utility Trailers <span>(2)</span></a></li>\n",
    "</ul>\n",
    "    showCss = 'li.filters > ul > li > a.mdwd.cboxElement'\n",
    "    \n",
    "    # Wait for \"+ Show All\" to show up\n",
    "    showTag = WebDriverWait(driver, 10).until(\n",
    "        EC.presence_of_element_located((By.CSS_SELECTOR, showCss))\n",
    "    )\n",
    "    \n",
    "    print(driver.find_element_by_css_selector(showCss).get_attribute('outerHTML'))\n",
    "    showTag.click()\n",
    "except Exception as e:\n",
    "    print(str(e))"
   ]
  },
  {
   "cell_type": "code",
   "execution_count": null,
   "metadata": {
    "collapsed": true
   },
   "outputs": [],
   "source": [
    "# Retrieve the page with tag results and set it up to be scraped\n",
    "proxy_url = 'http://{usr}:{pwd}@{host}:{port}/'.format(**proxy)\n",
    "#sitePage = requests.get(url=siteUrl, proxies={'http': proxy_url})\n",
    "#siteSoup = BeautifulSoup(sitePage.content, 'lxml')\n",
    "\n",
    "links = siteSoup.select('div.result-col > div.post-search > ul > li > a')\n",
    "#print(sitePage.content)"
   ]
  }
 ],
 "metadata": {
  "anaconda-cloud": {},
  "kernelspec": {
   "display_name": "Python [conda root]",
   "language": "python",
   "name": "conda-root-py"
  },
  "language_info": {
   "codemirror_mode": {
    "name": "ipython",
    "version": 3
   },
   "file_extension": ".py",
   "mimetype": "text/x-python",
   "name": "python",
   "nbconvert_exporter": "python",
   "pygments_lexer": "ipython3",
   "version": "3.5.2"
  }
 },
 "nbformat": 4,
 "nbformat_minor": 1
}
