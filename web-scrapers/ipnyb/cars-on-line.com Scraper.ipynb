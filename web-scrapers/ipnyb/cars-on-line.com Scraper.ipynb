{
 "cells": [
  {
   "cell_type": "code",
   "execution_count": 1,
   "metadata": {
    "collapsed": true
   },
   "outputs": [],
   "source": [
    "import requests\n",
    "import os\n",
    "from bs4 import BeautifulSoup\n",
    "import re\n",
    "\n",
    "import urllib.parse"
   ]
  },
  {
   "cell_type": "code",
   "execution_count": 2,
   "metadata": {
    "collapsed": false
   },
   "outputs": [
    {
     "name": "stdout",
     "output_type": "stream",
     "text": [
      "http://carsonline-ads.com/colsite/col?cmd=&do_search=Search+Now&make_id=0&member_id=-1&model_id=0&section_id=0&sortByDesc=year%2Cmake_id%2Cmodel_id%2Cdate_online&state_id=-1&type_id=0&use=UC2_SearchSite\n"
     ]
    }
   ],
   "source": [
    "siteUrl = \"http://carsonline-ads.com/colsite/col\"\n",
    "siteUrl = \"?\".join([siteUrl, \"cmd=\"])\n",
    "siteUrl = \"&\".join([siteUrl, \"do_search=Search+Now\"])\n",
    "siteUrl = \"&\".join([siteUrl, \"make_id=0\"])\n",
    "siteUrl = \"&\".join([siteUrl, \"member_id=-1\"])\n",
    "siteUrl = \"&\".join([siteUrl, \"model_id=0\"])\n",
    "siteUrl = \"&\".join([siteUrl, \"section_id=0\"])\n",
    "siteUrl = \"&\".join([siteUrl, \"sortByDesc=year%2Cmake_id%2Cmodel_id%2Cdate_online\"])\n",
    "siteUrl = \"&\".join([siteUrl, \"state_id=-1\"])\n",
    "siteUrl = \"&\".join([siteUrl, \"type_id=0\"])\n",
    "siteUrl = \"&\".join([siteUrl, \"use=UC2_SearchSite\"])\n",
    "print(siteUrl)\n",
    "seen_urls_array = []"
   ]
  },
  {
   "cell_type": "code",
   "execution_count": null,
   "metadata": {
    "collapsed": false
   },
   "outputs": [],
   "source": [
    "for i in range(1900, 2017):\n",
    "    tagPageUrl = \"&\".join([siteUrl, \"year_max=\" + str(i+1)])\n",
    "    tagPageUrl = \"&\".join([tagPageUrl, \"year_min=\" + str(i)])\n",
    "    \n",
    "    # Retrieve the page with tag results and set it up to be scraped\n",
    "    tagPage = requests.get(url=tagPageUrl)\n",
    "    tagPageSoup = BeautifulSoup(tagPage.content, 'lxml')\n",
    "\n",
    "    links = tagPageSoup.find_all(\"a\", class_=\"TD-POSTING\")\n",
    "    \n",
    "    for link in links:\n",
    "        url = urllib.parse.urljoin(siteUrl, re.sub(' ', '%20', link['href']))\n",
    "        match = re.search(r\"cmd=redirect\", url)\n",
    "        if not match:\n",
    "            if url not in seen_urls_array:\n",
    "                seen_urls_array.append(url)\n",
    "                try:\n",
    "                    page = requests.get(url=url)\n",
    "                    soup = BeautifulSoup(page.content, 'lxml')\n",
    "                    model = soup.select(\"#ctl00_cphBody_inv1_lblYearMakeModel\")\n",
    "                    if(len(model)):\n",
    "                        model = model[0].get_text().strip()\n",
    "                    else:\n",
    "                        model = soup.select('#yearMakeModel')\n",
    "                        if(len(model)):\n",
    "                            model = model[0].get_text().strip()\n",
    "                        else:\n",
    "                            model = \"Unknown\"\n",
    "                    price = soup.select(\"#vehiclePrice > p:nth-of-type(1)\")\n",
    "                    if(len(price)):\n",
    "                        price = price[0].get_text().strip()\n",
    "                    else:\n",
    "                        price = \"Unknown\"\n",
    "                    description = soup.select('#vehicleDescription > p')\n",
    "                    if(len(description)):\n",
    "                        description = description[0].get_text().strip()\n",
    "                    else:\n",
    "                        description = \"\"\n",
    "                    if(len(description)):\n",
    "                        match = re.search(r\"\\(?[0-9]{3}\\)?[-. ]?[0-9]{3}[-. ]?[0-9]{4}\", description)\n",
    "                        if match:\n",
    "                            phone = match.group()\n",
    "                        else:\n",
    "                            phone = \"\"\n",
    "                    if not len(phone):\n",
    "                        description = soup.select('#vehicleLocation')\n",
    "                        if(len(description)):\n",
    "                            description = description[0].get_text().strip()\n",
    "                        else:\n",
    "                            description = \"\"\n",
    "                        if(len(description)):\n",
    "                            match = re.search(r\"\\(?[0-9]{3}\\)?[-. ]?[0-9]{3}[-. ]?[0-9]{4}\", description)\n",
    "                            if match:\n",
    "                                phone = match.group()\n",
    "                            else:\n",
    "                                phone = \"\"\n",
    "                    if len(phone):\n",
    "                        bigFile = open('carsonline-ads.txt', 'a')\n",
    "                        bigFile.write(model + '\\t' + price + '\\t' + phone + '\\n')\n",
    "                        bigFile.close()\n",
    "                except:\n",
    "                    pass\n",
    "        else:\n",
    "            seen_urls_array.append(url)"
   ]
  },
  {
   "cell_type": "code",
   "execution_count": 6,
   "metadata": {
    "collapsed": false
   },
   "outputs": [],
   "source": []
  }
 ],
 "metadata": {
  "anaconda-cloud": {},
  "kernelspec": {
   "display_name": "Python [conda root]",
   "language": "python",
   "name": "conda-root-py"
  },
  "language_info": {
   "codemirror_mode": {
    "name": "ipython",
    "version": 3
   },
   "file_extension": ".py",
   "mimetype": "text/x-python",
   "name": "python",
   "nbconvert_exporter": "python",
   "pygments_lexer": "ipython3",
   "version": "3.5.2"
  }
 },
 "nbformat": 4,
 "nbformat_minor": 1
}
