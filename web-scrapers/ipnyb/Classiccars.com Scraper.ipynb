{
 "cells": [
  {
   "cell_type": "code",
   "execution_count": 11,
   "metadata": {
    "collapsed": true
   },
   "outputs": [],
   "source": [
    "import requests\n",
    "import os\n",
    "from bs4 import BeautifulSoup\n",
    "import re\n",
    "\n",
    "import urllib.parse"
   ]
  },
  {
   "cell_type": "code",
   "execution_count": 12,
   "metadata": {
    "collapsed": false
   },
   "outputs": [
    {
     "name": "stdout",
     "output_type": "stream",
     "text": [
      "https://classiccars.com/listings/find?auction=false&dealer=false&private=true&ps=60\n"
     ]
    }
   ],
   "source": [
    "siteUrl = \"https://classiccars.com/listings/find\"\n",
    "siteUrl = \"?\".join([siteUrl, \"auction=false\"])\n",
    "siteUrl = \"&\".join([siteUrl, \"dealer=false\"])\n",
    "siteUrl = \"&\".join([siteUrl, \"private=true\"])\n",
    "siteUrl = \"&\".join([siteUrl, \"ps=60\"])\n",
    "print(siteUrl)"
   ]
  },
  {
   "cell_type": "code",
   "execution_count": 13,
   "metadata": {
    "collapsed": true
   },
   "outputs": [],
   "source": [
    "# Retrieve the page with tag results and set it up to be scraped\n",
    "tagPage = requests.get(url=siteUrl)\n",
    "tagPageSoup = BeautifulSoup(tagPage.content, 'lxml')"
   ]
  },
  {
   "cell_type": "code",
   "execution_count": 22,
   "metadata": {
    "collapsed": false
   },
   "outputs": [
    {
     "name": "stdout",
     "output_type": "stream",
     "text": [
      "5\n"
     ]
    }
   ],
   "source": [
    "#<p class=\"search-result-info\">Now showing page 1 of 5. 60 results per page.</p>\n",
    "max_page_css = \"#search-results-header > div.hidden-xs > p:nth-of-type(2)\"\n",
    "max_page_selector = tagPageSoup.select(max_page_css)\n",
    "max_page_string = max_page_selector[0].get_text()\n",
    "match = re.search(r'Now showing page \\d+ of (\\d+)\\.', max_page_string)\n",
    "if match:\n",
    "    max_page = int(match.group(1))\n",
    "else:\n",
    "    max_page = 0\n",
    "print(max_page)"
   ]
  },
  {
   "cell_type": "code",
   "execution_count": 30,
   "metadata": {
    "collapsed": false
   },
   "outputs": [
    {
     "name": "stdout",
     "output_type": "stream",
     "text": [
      "https://classiccars.com/listings/find?auction=false&dealer=false&private=true&ps=60&p=3\n",
      "60\n",
      "https://classiccars.com/listings/view/900526/1996-mercedes-benz-sl500-for-sale-in-ft-myers-florida-33908\n"
     ]
    }
   ],
   "source": [
    "from random import randint\n",
    "\n",
    "i = randint(0,max_page)\n",
    "tagPageUrl = siteUrl+\"&p=\"+str(i)\n",
    "print(tagPageUrl)\n",
    "\n",
    "# Retrieve the page with tag results and set it up to be scraped\n",
    "tagPage = requests.get(url=tagPageUrl)\n",
    "tagPageSoup = BeautifulSoup(tagPage.content, 'lxml')\n",
    "\n",
    "links = tagPageSoup.find_all(\"a\", class_=\"img-cell\")\n",
    "print(len(links))\n",
    "\n",
    "link = links[randint(0,len(links)-1)]\n",
    "url = urllib.parse.urljoin(siteUrl, re.sub(' ', '%20', link['href']))\n",
    "print(url)"
   ]
  },
  {
   "cell_type": "code",
   "execution_count": 31,
   "metadata": {
    "collapsed": false
   },
   "outputs": [
    {
     "name": "stdout",
     "output_type": "stream",
     "text": [
      "For Sale: 1996 Mercedes-Benz SL500 in Ft Myers, Florida\n",
      "$18,000 (OBO)\n",
      "\n"
     ]
    }
   ],
   "source": [
    "page = requests.get(url=url)\n",
    "soup = BeautifulSoup(page.content, 'lxml')\n",
    "\n",
    "model = soup.find_all(\"h1\")\n",
    "if(len(model)):\n",
    "    model = model[0].get_text()\n",
    "else:\n",
    "    model = \"Unknown\"\n",
    "print(model)\n",
    "\n",
    "price = soup.select('span.seller-price-label > span:nth-of-type(1)')\n",
    "if(len(price)):\n",
    "    price = price[0].get_text()\n",
    "else:\n",
    "    price = \"Unknown\"\n",
    "print(price)\n",
    "\n",
    "description_css = \"#listing-detail-content > div.vehicle-description > p:nth-of-type(2)\"\n",
    "description = soup.select(description_css)\n",
    "if(len(description)):\n",
    "    description = description[0].get_text()\n",
    "else:\n",
    "    description = \"\"\n",
    "if(len(description)):\n",
    "    match = re.search(r\"\\(?[0-9]{3}\\)?[-. ]?[0-9]{3}[-. ]?[0-9]{4}\", description)\n",
    "    if match:\n",
    "        phone = match.group()\n",
    "    else:\n",
    "        phone = \"\"\n",
    "print(phone)"
   ]
  },
  {
   "cell_type": "code",
   "execution_count": 32,
   "metadata": {
    "collapsed": false
   },
   "outputs": [],
   "source": [
    "for i in range(1, max_page):\n",
    "    tagPageUrl = siteUrl+\"&p=\"+str(i)\n",
    "\n",
    "    # Retrieve the page with tag results and set it up to be scraped\n",
    "    tagPage = requests.get(url=tagPageUrl)\n",
    "    tagPageSoup = BeautifulSoup(tagPage.content, 'lxml')\n",
    "\n",
    "    links = tagPageSoup.find_all(\"a\", class_=\"img-cell\")\n",
    "    for link in links:\n",
    "        url = urllib.parse.urljoin(siteUrl, re.sub(' ', '%20', link['href']))\n",
    "        try:\n",
    "            page = requests.get(url=url)\n",
    "            soup = BeautifulSoup(page.content, 'lxml')\n",
    "\n",
    "            model = soup.find_all(\"h1\")\n",
    "            if(len(model)):\n",
    "                model = model[0].get_text()\n",
    "            else:\n",
    "                model = \"Unknown\"\n",
    "            #print(model)\n",
    "\n",
    "            price = soup.select('span.seller-price-label > span:nth-of-type(1)')\n",
    "            if(len(price)):\n",
    "                price = price[0].get_text()\n",
    "            else:\n",
    "                price = \"Unknown\"\n",
    "            #print(price)\n",
    "\n",
    "            description_css = \"#listing-detail-content > div.vehicle-description > p:nth-of-type(2)\"\n",
    "            description = soup.select(description_css)\n",
    "            if(len(description)):\n",
    "                description = description[0].get_text()\n",
    "            else:\n",
    "                description = \"\"\n",
    "            if(len(description)):\n",
    "                match = re.search(r\"\\(?[0-9]{3}\\)?[-. ]?[0-9]{3}[-. ]?[0-9]{4}\", description)\n",
    "                if match:\n",
    "                    phone = match.group()\n",
    "                else:\n",
    "                    phone = \"\"\n",
    "                if len(phone):\n",
    "                    bigFile = open('classiccars.txt', 'a')\n",
    "                    bigFile.write(model + '\\t' + price + '\\t' + phone + '\\n')\n",
    "                    bigFile.close()\n",
    "        except:\n",
    "            pass"
   ]
  },
  {
   "cell_type": "code",
   "execution_count": null,
   "metadata": {
    "collapsed": true
   },
   "outputs": [],
   "source": []
  }
 ],
 "metadata": {
  "anaconda-cloud": {},
  "kernelspec": {
   "display_name": "Python [conda root]",
   "language": "python",
   "name": "conda-root-py"
  },
  "language_info": {
   "codemirror_mode": {
    "name": "ipython",
    "version": 3
   },
   "file_extension": ".py",
   "mimetype": "text/x-python",
   "name": "python",
   "nbconvert_exporter": "python",
   "pygments_lexer": "ipython3",
   "version": "3.5.2"
  }
 },
 "nbformat": 4,
 "nbformat_minor": 1
}
