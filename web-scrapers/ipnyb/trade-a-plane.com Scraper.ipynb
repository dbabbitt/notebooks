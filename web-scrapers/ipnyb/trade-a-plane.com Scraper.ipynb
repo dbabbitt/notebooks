{
 "cells": [
  {
   "cell_type": "code",
   "execution_count": 3,
   "metadata": {
    "collapsed": false
   },
   "outputs": [
    {
     "name": "stdout",
     "output_type": "stream",
     "text": [
      "http://www.trade-a-plane.com/filtered/search?s-type=aircraft&s-keyword-search=\n"
     ]
    }
   ],
   "source": [
    "siteUrl = \"http://www.trade-a-plane.com/filtered/search\"\n",
    "siteUrl = \"?\".join([siteUrl, \"s-type=aircraft\"])\n",
    "siteUrl = \"&\".join([siteUrl, \"s-keyword-search=\"])\n",
    "print(siteUrl)\n",
    "\n",
    "proxies = {'http': 'http://<<USERID>>:<<PASSWORD>>@23.19.51.245:40791/'}"
   ]
  },
  {
   "cell_type": "code",
   "execution_count": 8,
   "metadata": {
    "collapsed": false
   },
   "outputs": [
    {
     "name": "stdout",
     "output_type": "stream",
     "text": [
      "137\n"
     ]
    }
   ],
   "source": [
    "import requests\n",
    "from bs4 import BeautifulSoup\n",
    "\n",
    "# Retrieve the page with tag results and set it up to be scraped\n",
    "sitePage = requests.get(url=siteUrl, proxies=proxies)\n",
    "siteSoup = BeautifulSoup(sitePage.content, 'lxml')\n",
    "\n",
    "#<a href=\"/search?s-type=aircraft&amp;s-keyword-search=&amp;s-page=137\"> &gt;&gt; </a>\n",
    "siteLinks = siteSoup.select('a[href*=s-page]')\n",
    "#print(siteLinks)\n",
    "\n",
    "# Get the max page link\n",
    "max_page = 0\n",
    "if len(siteLinks):\n",
    "    max_page = int(siteLinks[-1]['href'].split('=')[-1])\n",
    "print(max_page)"
   ]
  },
  {
   "cell_type": "code",
   "execution_count": 18,
   "metadata": {
    "collapsed": false
   },
   "outputs": [
    {
     "name": "stdout",
     "output_type": "stream",
     "text": [
      "http://www.trade-a-plane.com/filtered/search?s-type=aircraft&s-keyword-search=&s-page=44\n",
      "Aircraft For Sale - Used & New 1076 - 1100\n"
     ]
    }
   ],
   "source": [
    "from random import randint\n",
    "\n",
    "i = randint(1, max_page)\n",
    "tagUrl = \"&\".join([siteUrl, \"s-page=\"+str(i)])\n",
    "print(tagUrl)\n",
    "\n",
    "tagPage = requests.get(url=tagUrl, proxies=proxies)\n",
    "tagSoup = BeautifulSoup(tagPage.content, 'lxml')\n",
    "\n",
    "# Get the title of the page to prove we are progressing\n",
    "tagTitle = tagSoup.select(\"head > title\")\n",
    "titleString = tagTitle[0].get_text().strip()\n",
    "print(titleString)"
   ]
  },
  {
   "cell_type": "code",
   "execution_count": 21,
   "metadata": {
    "collapsed": true
   },
   "outputs": [],
   "source": [
    "#<span itemprop=\"telephone\">(260) 238-5828 </span>\n",
    "phoneLinks = tagSoup.select('span[itemprop=\"telephone\"]')\n",
    "\n",
    "phoneLink = phoneLinks[randint(0,len(phoneLinks)-1)]"
   ]
  },
  {
   "cell_type": "code",
   "execution_count": 25,
   "metadata": {
    "collapsed": false
   },
   "outputs": [
    {
     "name": "stdout",
     "output_type": "stream",
     "text": [
      "(403) 547-1024  Main Ofc\n",
      "Aircraft Canada\n",
      "1988 BEECHCRAFT KING AIR B200 (For Sale)\n",
      "$1,295,000 USD\n"
     ]
    }
   ],
   "source": [
    "import re\n",
    "\n",
    "phone = phoneLink.get_text().strip()\n",
    "print(phone)\n",
    "\n",
    "if len(phone):\n",
    "\n",
    "    ##result_listing > div > div.result_info > div > p.center > span\n",
    "    phoneSoup = phoneLink.parent.parent.parent.parent.parent\n",
    "    #print(phoneSoup)\n",
    "\n",
    "    #<a href=\"/company-search/details?id=46862\" title=\"Aircraft Canada\" itemprop=\"name\">Aircraft Canada</a>\n",
    "    seller = phoneSoup.select('a[itemprop=\"name\"]')\n",
    "    if(len(seller)):\n",
    "        seller = seller[0].get_text().strip()\n",
    "        seller = re.sub(r'\\s+', ' ', seller)\n",
    "    else:\n",
    "        seller = \"Unknown\"\n",
    "    print(seller)\n",
    "\n",
    "    model = phoneSoup.select('#title')\n",
    "    if(len(model)):\n",
    "        model = model[0].get_text().strip()\n",
    "        model = re.sub(r'\\s+', ' ', model)\n",
    "    else:\n",
    "        model = \"Unknown\"\n",
    "    print(model)\n",
    "\n",
    "    price = phoneSoup.select('ul.result_header > li.price')\n",
    "    if(len(price)):\n",
    "        price = price[0].get_text().strip()\n",
    "    else:\n",
    "        price = \"Unknown\"\n",
    "    print(price)"
   ]
  },
  {
   "cell_type": "code",
   "execution_count": 16,
   "metadata": {
    "collapsed": true
   },
   "outputs": [],
   "source": [
    "for i in range(1, max_page+1):\n",
    "    tagUrl = \"&\".join([siteUrl, \"s-page=\"+str(i)])\n",
    "\n",
    "    tagPage = requests.get(url=tagUrl, proxies=proxies)\n",
    "    tagSoup = BeautifulSoup(tagPage.content, 'lxml')\n",
    "    \n",
    "    phoneLinks = tagSoup.select('span[itemprop=\"telephone\"]')\n",
    "    for phoneLink in phoneLinks:\n",
    "        \n",
    "        phone = phoneLink.get_text().strip()\n",
    "        if len(phone):\n",
    "\n",
    "            phoneSoup = phoneLink.parent.parent.parent.parent.parent\n",
    "            \n",
    "            seller = phoneSoup.select('a[itemprop=\"name\"]')\n",
    "            if(len(seller)):\n",
    "                seller = seller[0].get_text().strip()\n",
    "                seller = re.sub(r'\\s+', ' ', seller)\n",
    "            else:\n",
    "                seller = \"Unknown\"\n",
    "\n",
    "            model = phoneSoup.select('#title')\n",
    "            if(len(model)):\n",
    "                model = model[0].get_text().strip()\n",
    "                model = re.sub(r'\\s+', ' ', model)\n",
    "            else:\n",
    "                model = \"Unknown\"\n",
    "\n",
    "            price = phoneSoup.select('ul.result_header > li.price')\n",
    "            if(len(price)):\n",
    "                price = price[0].get_text().strip()\n",
    "            else:\n",
    "                price = \"Unknown\"\n",
    "            \n",
    "            bigFile = open('trade-a-plane.txt', 'a', encoding='utf-8')\n",
    "            bigFile.write(seller + ': ' + model + '\\t' + price + '\\t' + phone + '\\n')\n",
    "            bigFile.close()"
   ]
  },
  {
   "cell_type": "code",
   "execution_count": null,
   "metadata": {
    "collapsed": true
   },
   "outputs": [],
   "source": []
  }
 ],
 "metadata": {
  "anaconda-cloud": {},
  "kernelspec": {
   "display_name": "Python [conda root]",
   "language": "python",
   "name": "conda-root-py"
  },
  "language_info": {
   "codemirror_mode": {
    "name": "ipython",
    "version": 3
   },
   "file_extension": ".py",
   "mimetype": "text/x-python",
   "name": "python",
   "nbconvert_exporter": "python",
   "pygments_lexer": "ipython3",
   "version": "3.5.2"
  }
 },
 "nbformat": 4,
 "nbformat_minor": 1
}
