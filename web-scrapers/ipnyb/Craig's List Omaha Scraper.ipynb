{
 "cells": [
  {
   "cell_type": "code",
   "execution_count": 43,
   "metadata": {
    "collapsed": true
   },
   "outputs": [],
   "source": [
    "import requests\n",
    "import os\n",
    "from bs4 import BeautifulSoup\n",
    "import re\n",
    "from selenium import webdriver\n",
    "from selenium.webdriver.firefox.firefox_binary import FirefoxBinary"
   ]
  },
  {
   "cell_type": "code",
   "execution_count": 44,
   "metadata": {
    "collapsed": true
   },
   "outputs": [],
   "source": [
    "bigFile = open('crigslistomaha.txt', 'a')"
   ]
  },
  {
   "cell_type": "code",
   "execution_count": 45,
   "metadata": {
    "collapsed": false
   },
   "outputs": [],
   "source": [
    "tagPageUrl = \"https://omaha.craigslist.org/search/cto\"\n",
    "\n",
    "# Retrieve the page with tag results and set it up to be scraped\n",
    "tagPage = requests.get(url=tagPageUrl)\n",
    "tagPageSoup = BeautifulSoup(tagPage.content, 'lxml')\n",
    "\n",
    "links = tagPageSoup.find_all(\"a\", class_=\"result-image\")"
   ]
  },
  {
   "cell_type": "code",
   "execution_count": 46,
   "metadata": {
    "collapsed": false
   },
   "outputs": [],
   "source": [
    "binary = FirefoxBinary(\"C:\\\\Program Files (x86)\\\\Mozilla Firefox\\\\firefox.exe\")\n",
    "browser = webdriver.Firefox(firefox_binary=binary)"
   ]
  },
  {
   "cell_type": "code",
   "execution_count": 47,
   "metadata": {
    "collapsed": false
   },
   "outputs": [
    {
     "name": "stdout",
     "output_type": "stream",
     "text": [
      "<a class=\"result-image gallery\" data-ids=\"1:00A0A_3p9CpMjpXWl,1:00505_jDkYBTcmuep,1:00v0v_eRcf58ZXf2V,1:00J0J_5et345ulkJF,1:00909_65v74nZUfUi,1:00404_g6E2Bko6j6K\" href=\"/cto/5942251141.html\">\n",
      "<span class=\"result-price\">$2200</span>\n",
      "</a>\n",
      "v10 Dodge 1995\n",
      "$2200\n"
     ]
    }
   ],
   "source": [
    "link = links[1]\n",
    "url = \"https://omaha.craigslist.org\" + link['href']\n",
    "print(link)\n",
    "page = requests.get(url=url)\n",
    "soup = BeautifulSoup(page.content, 'lxml')\n",
    "model = soup.select(\"#titletextonly\")\n",
    "if(len(model)):\n",
    "    model = model[0].get_text().strip()\n",
    "else:\n",
    "    model = \"Unknown\"\n",
    "print(model)\n",
    "price = soup.find_all(\"span\", class_=\"price\")\n",
    "if(len(price)):\n",
    "    price = price[0].get_text().strip()\n",
    "else:\n",
    "    price = \"Unknown\"\n",
    "print(price)"
   ]
  },
  {
   "cell_type": "code",
   "execution_count": 48,
   "metadata": {
    "collapsed": true
   },
   "outputs": [],
   "source": [
    "browser.get(url)\n",
    "elem = browser.find_element_by_tag_name('button')\n",
    "elem.click()\n",
    "time.sleep(3)"
   ]
  },
  {
   "cell_type": "code",
   "execution_count": 52,
   "metadata": {
    "collapsed": false
   },
   "outputs": [],
   "source": [
    "browser.switch_to_frame(browser.find_element_by_tag_name(\"iframe\"))\n",
    "checkbox = browser.find_element_by_class_name('recaptcha-checkbox-checkmark')\n",
    "checkbox.click()"
   ]
  },
  {
   "cell_type": "code",
   "execution_count": 57,
   "metadata": {
    "collapsed": true
   },
   "outputs": [],
   "source": [
    "from selenium.common.exceptions import NoSuchElementException        \n",
    "def check_exists_by_class_name(class_name):\n",
    "    try:\n",
    "        browser.find_element_by_class_name(class_name)\n",
    "    except NoSuchElementException:\n",
    "        return False\n",
    "    return True"
   ]
  },
  {
   "cell_type": "code",
   "execution_count": 58,
   "metadata": {
    "collapsed": false
   },
   "outputs": [],
   "source": [
    "phone = \"\"\n",
    "class_name = 'reply-tel-number'\n",
    "if check_exists_by_class_name(class_name):\n",
    "    phone = browser.find_element_by_class_name(class_name).text\n",
    "phone = re.sub('\\D+', '', phone)\n",
    "if len(phone):\n",
    "    print(phone)"
   ]
  },
  {
   "cell_type": "code",
   "execution_count": null,
   "metadata": {
    "collapsed": true
   },
   "outputs": [],
   "source": [
    "for link in links:\n",
    "    url = \"https://omaha.craigslist.org\" + link['href']\n",
    "    try:\n",
    "        page = requests.get(url=url)\n",
    "        soup = BeautifulSoup(page.content, 'lxml')\n",
    "        model = soup.select(\"#titletextonly\")\n",
    "        if(len(model)):\n",
    "            model = model[0].get_text().strip()\n",
    "        else:\n",
    "            model = \"Unknown\"\n",
    "        price = soup.find_all(\"span\", class_=\"price\")\n",
    "        if(len(price)):\n",
    "            price = price[0].get_text().strip()\n",
    "        else:\n",
    "            price = \"Unknown\"\n",
    "        browser.get(url)\n",
    "        elem = browser.find_element_by_tag_name('button')\n",
    "        elem.click()\n",
    "        time.sleep(3)\n",
    "        browser.switch_to_frame(browser.find_element_by_tag_name(\"iframe\"))\n",
    "        checkbox = browser.find_element_by_class_name('recaptcha-checkbox-checkmark')\n",
    "        checkbox.click()\n",
    "        phone = browser.find_element_by_class_name('reply-tel-number').text\n",
    "        phone = re.sub('\\D+', '', phone)\n",
    "        if len(phone):\n",
    "            bigFile.write(model + '\\t' + price + '\\t' + phone + '\\n')\n",
    "    except:\n",
    "        pass"
   ]
  },
  {
   "cell_type": "code",
   "execution_count": 54,
   "metadata": {
    "collapsed": false
   },
   "outputs": [],
   "source": [
    "bigFile.close()"
   ]
  },
  {
   "cell_type": "code",
   "execution_count": null,
   "metadata": {
    "collapsed": true
   },
   "outputs": [],
   "source": []
  }
 ],
 "metadata": {
  "anaconda-cloud": {},
  "kernelspec": {
   "display_name": "Python [conda root]",
   "language": "python",
   "name": "conda-root-py"
  },
  "language_info": {
   "codemirror_mode": {
    "name": "ipython",
    "version": 3
   },
   "file_extension": ".py",
   "mimetype": "text/x-python",
   "name": "python",
   "nbconvert_exporter": "python",
   "pygments_lexer": "ipython3",
   "version": "3.5.2"
  }
 },
 "nbformat": 4,
 "nbformat_minor": 1
}
