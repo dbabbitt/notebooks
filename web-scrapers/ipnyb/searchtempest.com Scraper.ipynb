{
 "cells": [
  {
   "cell_type": "code",
   "execution_count": 30,
   "metadata": {
    "collapsed": true
   },
   "outputs": [],
   "source": [
    "import requests\n",
    "import os\n",
    "from bs4 import BeautifulSoup\n",
    "import re\n",
    "\n",
    "from selenium import webdriver\n",
    "from base64 import b64encode\n",
    "from selenium.webdriver.common.keys import Keys\n",
    "from selenium.common.exceptions import NoSuchElementException\n",
    "import selenium.webdriver.support.ui as ui"
   ]
  },
  {
   "cell_type": "code",
   "execution_count": 31,
   "metadata": {
    "collapsed": true
   },
   "outputs": [],
   "source": [
    "siteUrl = \"http://www.searchtempest.com/search?search_string=peterbilt&category=8&Region=na&cityselect=zip&location=68105&maxDist=50000&region_us=1&srchType=&hasPic=&keytype=adv&minAsk=20000&maxAsk=5000000000&subcat=cto\"\n",
    "proxy = {'host': '23.19.51.245', 'port': '40791', 'usr': '<<USERID>>', 'pwd': '<<PASSWORD>>'}"
   ]
  },
  {
   "cell_type": "code",
   "execution_count": 32,
   "metadata": {
    "collapsed": false
   },
   "outputs": [],
   "source": [
    "# Retrieve the page with tag results and set it up to be scraped\n",
    "fp = webdriver.FirefoxProfile()\n",
    "fp.set_preference('network.proxy.type', 1)\n",
    "fp.set_preference('network.proxy.http', proxy['host'])\n",
    "fp.set_preference('network.proxy.http_port', int(proxy['port']))\n",
    "fp.set_preference('network.proxy.no_proxies_on', 'localhost, 127.0.0.1')\n",
    "fp.add_extension('closeproxy.xpi')\n",
    "credentials = '{usr}:{pwd}'.format(**proxy)\n",
    "credentials = b64encode(credentials.encode('ascii')).decode('utf-8')\n",
    "fp.set_preference('extensions.closeproxyauth.authtoken', credentials)\n",
    "driver = webdriver.Firefox(fp)\n",
    "driver.get(siteUrl)\n",
    "\n",
    "wait = ui.WebDriverWait(driver, 10)\n",
    "\n",
    "driver.find_element_by_id('search-mode-full-label').click()\n",
    "results = wait.until(lambda driver: driver.find_elements_by_class_name('gs-result'))\n",
    "\n",
    "tagPageSoup = BeautifulSoup(driver.page_source, 'lxml')"
   ]
  },
  {
   "cell_type": "code",
   "execution_count": 36,
   "metadata": {
    "collapsed": false
   },
   "outputs": [],
   "source": [
    "links = tagPageSoup.find_all('a', class_='gs-title')\n",
    "for link in links:\n",
    "    url = link['href']\n",
    "driver.get(links[1]['href'])\n",
    "results = wait.until(lambda driver: driver.find_elements_by_class_name('reply_button'))\n",
    "driver.find_element_by_class_name('reply_button').click()\n",
    "try:\n",
    "    results = wait.until(lambda driver: driver.find_elements_by_class_name('reply-tel-number'))\n",
    "    phone = driver.find_elements_by_class_name('reply-tel-number').text\n",
    "except:\n",
    "    phone = \"\""
   ]
  },
  {
   "cell_type": "code",
   "execution_count": 35,
   "metadata": {
    "collapsed": false
   },
   "outputs": [
    {
     "name": "stdout",
     "output_type": "stream",
     "text": [
      "\n"
     ]
    }
   ],
   "source": [
    "print(phone)"
   ]
  },
  {
   "cell_type": "code",
   "execution_count": 29,
   "metadata": {
    "collapsed": false
   },
   "outputs": [
    {
     "name": "stdout",
     "output_type": "stream",
     "text": [
      "[WinError 3] The system cannot find the path specified: 'C:\\\\Users\\\\Dave\\\\AppData\\\\Local\\\\Temp\\\\tmpxj2fps7r'\n"
     ]
    }
   ],
   "source": [
    "driver.quit()"
   ]
  },
  {
   "cell_type": "code",
   "execution_count": 4,
   "metadata": {
    "collapsed": false
   },
   "outputs": [
    {
     "name": "stdout",
     "output_type": "stream",
     "text": [
      "318\n"
     ]
    }
   ],
   "source": [
    "driver.find_element_by_id('search-mode-full-label').click()\n",
    "results = wait.until(lambda driver: driver.find_elements_by_class_name('extrainnerdiv'))\n",
    "links = tagPageSoup.select('div.extrainnerdiv a')\n",
    "print(len(links))"
   ]
  },
  {
   "cell_type": "code",
   "execution_count": 49,
   "metadata": {
    "collapsed": false
   },
   "outputs": [
    {
     "name": "stdout",
     "output_type": "stream",
     "text": [
      "['header-button']\n",
      "['header-button']\n",
      "['shd-toggle-loaded']\n",
      "['sh-info']\n",
      "['load']\n",
      "['tog-fav']\n",
      "['remove']\n",
      "['header-button', 'hide']\n",
      "['close']\n",
      "['share-cta-convert', 'fb']\n",
      "['share-cta-convert', 'fb']\n",
      "['share-cta-convert']\n",
      "['share-cta-convert']\n",
      "['share-cta-convert']\n",
      "['rol-clear']\n",
      "['rol-link']\n",
      "['rol-submit']\n",
      "['etrack']\n",
      "['display-options-link']\n",
      "['prevlink', 'seq']\n",
      "['nextlink', 'seq']\n",
      "['hide']\n",
      "['name']\n",
      "['name']\n",
      "['name']\n",
      "['name']\n",
      "['name']\n",
      "['name']\n",
      "['name']\n",
      "['name']\n",
      "['name']\n",
      "['name']\n",
      "['name']\n",
      "['name']\n",
      "['name']\n",
      "['name']\n",
      "['name']\n",
      "['name']\n",
      "['name']\n",
      "['name']\n",
      "['name']\n",
      "['name']\n",
      "['name']\n",
      "['name']\n",
      "['name']\n",
      "['name']\n",
      "['name']\n",
      "['name']\n",
      "['name']\n",
      "['close']\n",
      "['hide']\n",
      "['hide']\n",
      "['prevlink', 'seq']\n",
      "['nextlink', 'seq']\n",
      "['display-options-link']\n",
      "['bin']\n",
      "['bin']\n",
      "['bin']\n",
      "['bin']\n",
      "['bin']\n",
      "['bin']\n",
      "['bin']\n",
      "['bin']\n",
      "['bin']\n",
      "['bin']\n",
      "['bin']\n",
      "['bin']\n",
      "['bin']\n",
      "['bin']\n",
      "['bin']\n",
      "['bin']\n",
      "['bin']\n",
      "['bin']\n",
      "['bin']\n",
      "['bin']\n",
      "['bin']\n",
      "['bin']\n",
      "['bin']\n",
      "['bin']\n",
      "['bin']\n",
      "['bin']\n",
      "['bin']\n",
      "['bin']\n",
      "['bin']\n",
      "['bin']\n",
      "['bin']\n",
      "['bin']\n",
      "['bin']\n",
      "['bin']\n",
      "['bin']\n",
      "['bin']\n",
      "['bin']\n",
      "['bin']\n",
      "['bin']\n",
      "['bin']\n",
      "['bin']\n",
      "['bin']\n",
      "['bin']\n",
      "['bin']\n",
      "['bin']\n",
      "['bin']\n",
      "['bin']\n",
      "['bin']\n",
      "['bin']\n",
      "['bin']\n",
      "['bin']\n",
      "['bin']\n",
      "['bin']\n",
      "['bin']\n",
      "['bin']\n",
      "['bin']\n",
      "['bin']\n",
      "['bin']\n",
      "['bin']\n",
      "['bin']\n",
      "['bin']\n",
      "['bin']\n",
      "['bin']\n",
      "['bin']\n",
      "['bin']\n",
      "['bin']\n",
      "['bin']\n",
      "['bin']\n",
      "['bin']\n",
      "['bin']\n",
      "['bin']\n",
      "['bin']\n",
      "['bin']\n",
      "['bin']\n",
      "['bin']\n",
      "['bin']\n",
      "['bin']\n",
      "['bin']\n",
      "['bin']\n",
      "['bin']\n",
      "['bin']\n",
      "['bin']\n",
      "['bin']\n",
      "['bin']\n",
      "['bin']\n",
      "['bin']\n",
      "['bin']\n",
      "['bin']\n",
      "['bin']\n",
      "['bin']\n",
      "['bin']\n",
      "['bin']\n",
      "['bin']\n",
      "['bin']\n",
      "['bin']\n",
      "['bin']\n",
      "['bin']\n",
      "['bin']\n",
      "['bin']\n",
      "['bin']\n",
      "['bin']\n",
      "['bin']\n",
      "['bin']\n",
      "['bin']\n",
      "['bin']\n",
      "['open-results', 'htmlUrl']\n",
      "['htmlUrl']\n",
      "['close']\n",
      "['help-icon']\n",
      "['help-icon']\n",
      "['']\n",
      "['']\n",
      "['']\n",
      "['']\n",
      "['']\n",
      "['']\n",
      "['']\n",
      "['cat_link_on']\n",
      "['']\n",
      "['cat_link_on']\n",
      "['cat_link_on']\n",
      "['cat_link_on']\n",
      "['cat_link_on']\n",
      "['cat_link_on']\n",
      "['more_control']\n",
      "['cat_link_on']\n",
      "['cat_link_on']\n",
      "['']\n",
      "['']\n",
      "['']\n",
      "['']\n",
      "['']\n",
      "['cat_link_on']\n",
      "['']\n",
      "['']\n",
      "['']\n",
      "['']\n",
      "['']\n",
      "['']\n",
      "['']\n",
      "['']\n",
      "['']\n",
      "['']\n",
      "['more_control']\n",
      "['']\n",
      "['']\n",
      "['']\n",
      "['']\n",
      "['']\n",
      "['']\n",
      "['']\n",
      "['']\n",
      "['']\n",
      "['']\n",
      "['']\n",
      "['']\n",
      "['']\n",
      "['']\n",
      "['']\n",
      "['']\n",
      "['']\n",
      "['']\n",
      "['']\n",
      "['']\n",
      "['']\n",
      "['']\n",
      "['']\n",
      "['']\n",
      "['']\n",
      "['']\n",
      "['']\n",
      "['']\n",
      "['']\n",
      "['cat_link_on']\n",
      "['header', '']\n",
      "['close']\n",
      "['help-icon']\n",
      "['help-icon']\n",
      "['help-icon']\n"
     ]
    }
   ],
   "source": [
    "links = tagPageSoup.find_all(\"a\")\n",
    "for link in links:\n",
    "    try:\n",
    "        print(link['class'])\n",
    "    except:\n",
    "        pass"
   ]
  },
  {
   "cell_type": "code",
   "execution_count": 105,
   "metadata": {
    "collapsed": false
   },
   "outputs": [],
   "source": [
    "bigFile = open('searchtempest.txt', 'a')"
   ]
  },
  {
   "cell_type": "code",
   "execution_count": 106,
   "metadata": {
    "collapsed": true
   },
   "outputs": [],
   "source": [
    "num = 0"
   ]
  },
  {
   "cell_type": "code",
   "execution_count": 107,
   "metadata": {
    "collapsed": false
   },
   "outputs": [
    {
     "ename": "WebDriverException",
     "evalue": "Message: Failed to decode response from marionette\n",
     "output_type": "error",
     "traceback": [
      "\u001b[0;31m---------------------------------------------------------------------------\u001b[0m",
      "\u001b[0;31mWebDriverException\u001b[0m                        Traceback (most recent call last)",
      "\u001b[0;32m<ipython-input-107-b33a8f10d9b0>\u001b[0m in \u001b[0;36m<module>\u001b[0;34m()\u001b[0m\n\u001b[1;32m     30\u001b[0m     \u001b[1;32melse\u001b[0m\u001b[1;33m:\u001b[0m\u001b[1;33m\u001b[0m\u001b[0m\n\u001b[1;32m     31\u001b[0m         \u001b[0mdriver\u001b[0m \u001b[1;33m=\u001b[0m \u001b[0mwebdriver\u001b[0m\u001b[1;33m.\u001b[0m\u001b[0mChrome\u001b[0m\u001b[1;33m(\u001b[0m\u001b[1;34m'C:\\\\Users\\\\Dave\\\\Documents\\\\Jupyter Notebooks\\\\Web Scrapers\\\\chromedriver.exe'\u001b[0m\u001b[1;33m)\u001b[0m\u001b[1;33m\u001b[0m\u001b[0m\n\u001b[0;32m---> 32\u001b[0;31m     \u001b[0mdriver\u001b[0m\u001b[1;33m.\u001b[0m\u001b[0mget\u001b[0m\u001b[1;33m(\u001b[0m\u001b[0murl\u001b[0m\u001b[1;33m)\u001b[0m\u001b[1;33m\u001b[0m\u001b[0m\n\u001b[0m\u001b[1;32m     33\u001b[0m     \u001b[1;32mtry\u001b[0m\u001b[1;33m:\u001b[0m\u001b[1;33m\u001b[0m\u001b[0m\n\u001b[1;32m     34\u001b[0m         \u001b[0mdriver\u001b[0m\u001b[1;33m.\u001b[0m\u001b[0mfind_element_by_css_selector\u001b[0m\u001b[1;33m(\u001b[0m\u001b[1;34m\"#sp1 > a:nth-child(1)\"\u001b[0m\u001b[1;33m)\u001b[0m\u001b[1;33m.\u001b[0m\u001b[0mclick\u001b[0m\u001b[1;33m(\u001b[0m\u001b[1;33m)\u001b[0m\u001b[1;33m\u001b[0m\u001b[0m\n",
      "\u001b[0;32mC:\\Users\\Dave\\Anaconda3\\lib\\site-packages\\selenium\\webdriver\\remote\\webdriver.py\u001b[0m in \u001b[0;36mget\u001b[0;34m(self, url)\u001b[0m\n\u001b[1;32m    246\u001b[0m         \u001b[0mLoads\u001b[0m \u001b[0ma\u001b[0m \u001b[0mweb\u001b[0m \u001b[0mpage\u001b[0m \u001b[1;32min\u001b[0m \u001b[0mthe\u001b[0m \u001b[0mcurrent\u001b[0m \u001b[0mbrowser\u001b[0m \u001b[0msession\u001b[0m\u001b[1;33m.\u001b[0m\u001b[1;33m\u001b[0m\u001b[0m\n\u001b[1;32m    247\u001b[0m         \"\"\"\n\u001b[0;32m--> 248\u001b[0;31m         \u001b[0mself\u001b[0m\u001b[1;33m.\u001b[0m\u001b[0mexecute\u001b[0m\u001b[1;33m(\u001b[0m\u001b[0mCommand\u001b[0m\u001b[1;33m.\u001b[0m\u001b[0mGET\u001b[0m\u001b[1;33m,\u001b[0m \u001b[1;33m{\u001b[0m\u001b[1;34m'url'\u001b[0m\u001b[1;33m:\u001b[0m \u001b[0murl\u001b[0m\u001b[1;33m}\u001b[0m\u001b[1;33m)\u001b[0m\u001b[1;33m\u001b[0m\u001b[0m\n\u001b[0m\u001b[1;32m    249\u001b[0m \u001b[1;33m\u001b[0m\u001b[0m\n\u001b[1;32m    250\u001b[0m     \u001b[1;33m@\u001b[0m\u001b[0mproperty\u001b[0m\u001b[1;33m\u001b[0m\u001b[0m\n",
      "\u001b[0;32mC:\\Users\\Dave\\Anaconda3\\lib\\site-packages\\selenium\\webdriver\\remote\\webdriver.py\u001b[0m in \u001b[0;36mexecute\u001b[0;34m(self, driver_command, params)\u001b[0m\n\u001b[1;32m    234\u001b[0m         \u001b[0mresponse\u001b[0m \u001b[1;33m=\u001b[0m \u001b[0mself\u001b[0m\u001b[1;33m.\u001b[0m\u001b[0mcommand_executor\u001b[0m\u001b[1;33m.\u001b[0m\u001b[0mexecute\u001b[0m\u001b[1;33m(\u001b[0m\u001b[0mdriver_command\u001b[0m\u001b[1;33m,\u001b[0m \u001b[0mparams\u001b[0m\u001b[1;33m)\u001b[0m\u001b[1;33m\u001b[0m\u001b[0m\n\u001b[1;32m    235\u001b[0m         \u001b[1;32mif\u001b[0m \u001b[0mresponse\u001b[0m\u001b[1;33m:\u001b[0m\u001b[1;33m\u001b[0m\u001b[0m\n\u001b[0;32m--> 236\u001b[0;31m             \u001b[0mself\u001b[0m\u001b[1;33m.\u001b[0m\u001b[0merror_handler\u001b[0m\u001b[1;33m.\u001b[0m\u001b[0mcheck_response\u001b[0m\u001b[1;33m(\u001b[0m\u001b[0mresponse\u001b[0m\u001b[1;33m)\u001b[0m\u001b[1;33m\u001b[0m\u001b[0m\n\u001b[0m\u001b[1;32m    237\u001b[0m             response['value'] = self._unwrap_value(\n\u001b[1;32m    238\u001b[0m                 response.get('value', None))\n",
      "\u001b[0;32mC:\\Users\\Dave\\Anaconda3\\lib\\site-packages\\selenium\\webdriver\\remote\\errorhandler.py\u001b[0m in \u001b[0;36mcheck_response\u001b[0;34m(self, response)\u001b[0m\n\u001b[1;32m    190\u001b[0m         \u001b[1;32melif\u001b[0m \u001b[0mexception_class\u001b[0m \u001b[1;33m==\u001b[0m \u001b[0mUnexpectedAlertPresentException\u001b[0m \u001b[1;32mand\u001b[0m \u001b[1;34m'alert'\u001b[0m \u001b[1;32min\u001b[0m \u001b[0mvalue\u001b[0m\u001b[1;33m:\u001b[0m\u001b[1;33m\u001b[0m\u001b[0m\n\u001b[1;32m    191\u001b[0m             \u001b[1;32mraise\u001b[0m \u001b[0mexception_class\u001b[0m\u001b[1;33m(\u001b[0m\u001b[0mmessage\u001b[0m\u001b[1;33m,\u001b[0m \u001b[0mscreen\u001b[0m\u001b[1;33m,\u001b[0m \u001b[0mstacktrace\u001b[0m\u001b[1;33m,\u001b[0m \u001b[0mvalue\u001b[0m\u001b[1;33m[\u001b[0m\u001b[1;34m'alert'\u001b[0m\u001b[1;33m]\u001b[0m\u001b[1;33m.\u001b[0m\u001b[0mget\u001b[0m\u001b[1;33m(\u001b[0m\u001b[1;34m'text'\u001b[0m\u001b[1;33m)\u001b[0m\u001b[1;33m)\u001b[0m\u001b[1;33m\u001b[0m\u001b[0m\n\u001b[0;32m--> 192\u001b[0;31m         \u001b[1;32mraise\u001b[0m \u001b[0mexception_class\u001b[0m\u001b[1;33m(\u001b[0m\u001b[0mmessage\u001b[0m\u001b[1;33m,\u001b[0m \u001b[0mscreen\u001b[0m\u001b[1;33m,\u001b[0m \u001b[0mstacktrace\u001b[0m\u001b[1;33m)\u001b[0m\u001b[1;33m\u001b[0m\u001b[0m\n\u001b[0m\u001b[1;32m    193\u001b[0m \u001b[1;33m\u001b[0m\u001b[0m\n\u001b[1;32m    194\u001b[0m     \u001b[1;32mdef\u001b[0m \u001b[0m_value_or_default\u001b[0m\u001b[1;33m(\u001b[0m\u001b[0mself\u001b[0m\u001b[1;33m,\u001b[0m \u001b[0mobj\u001b[0m\u001b[1;33m,\u001b[0m \u001b[0mkey\u001b[0m\u001b[1;33m,\u001b[0m \u001b[0mdefault\u001b[0m\u001b[1;33m)\u001b[0m\u001b[1;33m:\u001b[0m\u001b[1;33m\u001b[0m\u001b[0m\n",
      "\u001b[0;31mWebDriverException\u001b[0m: Message: Failed to decode response from marionette\n"
     ]
    }
   ],
   "source": [
    "for i in range(1, max_page+1):\n",
    "    tagPageUrl = tagPageUrlArray[2]+\"&page=\"+str(i)\n",
    "    bigFile.write(tagPageUrl + '\\n')\n",
    "    num = num + 1\n",
    "\n",
    "    # Retrieve the page with tag results and set it up to be scraped\n",
    "    tagPage = requests.get(url=tagPageUrl)\n",
    "    tagPageSoup = BeautifulSoup(tagPage.content, 'lxml')\n",
    "\n",
    "    links = tagPageSoup.find_all(\"a\", class_=\"gs-title\")\n",
    "    #for link in links:\n",
    "    link = links[0]\n",
    "    url = link['href']\n",
    "    page = requests.get(url=url)\n",
    "    soup = BeautifulSoup(page.content, 'lxml')\n",
    "    model = soup.find_all(\"h1\", itemprop=\"name\")[0].get_text()\n",
    "    price = soup.find_all(\"span\", class_=\"rvd-price\")[0].get_text()\n",
    "    \n",
    "    if (num % 2 == 0):\n",
    "        fp = webdriver.FirefoxProfile()\n",
    "        fp.set_preference('network.proxy.type', 1)\n",
    "        fp.set_preference('network.proxy.http', proxy['host'])\n",
    "        fp.set_preference('network.proxy.http_port', int(proxy['port']))\n",
    "        fp.set_preference('network.proxy.no_proxies_on', 'localhost, 127.0.0.1')\n",
    "        fp.add_extension('closeproxy.xpi')\n",
    "        credentials = '{usr}:{pwd}'.format(**proxy)\n",
    "        credentials = b64encode(credentials.encode('ascii')).decode('utf-8')\n",
    "        fp.set_preference('extensions.closeproxyauth.authtoken', credentials)\n",
    "        driver = webdriver.Firefox(fp)\n",
    "    else:\n",
    "        driver = webdriver.Chrome('C:\\\\Users\\\\Dave\\\\Documents\\\\Jupyter Notebooks\\\\Web Scrapers\\\\chromedriver.exe')\n",
    "    driver.get(url)\n",
    "    try:\n",
    "        driver.find_element_by_css_selector(\"#sp1 > a:nth-child(1)\").click()\n",
    "        phone = driver.find_element_by_css_selector('#sp1 > a:nth-child(1)').text\n",
    "        driver.quit()\n",
    "        if len(phone):\n",
    "            bigFile.write(model + '\\t' + price + '\\t' + phone + '\\n')\n",
    "    except:\n",
    "        pass"
   ]
  },
  {
   "cell_type": "code",
   "execution_count": 108,
   "metadata": {
    "collapsed": true
   },
   "outputs": [],
   "source": [
    "bigFile.close()"
   ]
  },
  {
   "cell_type": "code",
   "execution_count": null,
   "metadata": {
    "collapsed": true
   },
   "outputs": [],
   "source": []
  }
 ],
 "metadata": {
  "anaconda-cloud": {},
  "kernelspec": {
   "display_name": "Python [conda root]",
   "language": "python",
   "name": "conda-root-py"
  },
  "language_info": {
   "codemirror_mode": {
    "name": "ipython",
    "version": 3
   },
   "file_extension": ".py",
   "mimetype": "text/x-python",
   "name": "python",
   "nbconvert_exporter": "python",
   "pygments_lexer": "ipython3",
   "version": "3.5.2"
  }
 },
 "nbformat": 4,
 "nbformat_minor": 1
}
