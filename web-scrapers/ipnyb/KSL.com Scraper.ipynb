{
 "cells": [
  {
   "cell_type": "code",
   "execution_count": 21,
   "metadata": {
    "collapsed": true
   },
   "outputs": [],
   "source": [
    "import requests\n",
    "import os\n",
    "from bs4 import BeautifulSoup\n",
    "import re"
   ]
  },
  {
   "cell_type": "code",
   "execution_count": 22,
   "metadata": {
    "collapsed": true
   },
   "outputs": [],
   "source": [
    "tagPageUrlArray = [\"https://classics.autotrader.com/classic-cars-for-sale?seller_type=seller&distance=100\",\n",
    "                   \"https://classiccars.com/listings/find?auction=false&dealer=false&private=true\",\n",
    "                   \"http://www.rvt.com/New-and-Used-RVs-For-Sale-On-RVT.com/results?private_only=1\",\n",
    "                   \"https://www.cars.com/for-sale/searchresults.action/?zc=60606&rd=99999&slrTypeId=28879&yrId=58487&yrId=56007&yrId=51683&yrId=47272&yrId=39723&yrId=34923&yrId=27381&yrId=20201&yrId=20145&yrId=20200&yrId=20144&yrId=20199&yrId=20143&yrId=20198&yrId=20142&yrId=20197&yrId=20141&yrId=20180&stkTypId=28881&sf1Nm=price&sf1Dir=DESC&sf2Nm=miles&sf2Dir=ASC&perPage=50&sortFeatures=buryUsedLowPrice&sortFeatures=buryNewLowPrice&sortFeatures=buryLowPriceOlderThanSix&sortFeatures=buryNoPrice&sortFeatures=buryUsedLowMileage&searchSource=GN_BREADCRUMB\",\n",
    "                   \"http://www.ksl.com/auto/search/index?keyword=&yearFrom=&yearTo=&mileageFrom=&mileageTo=&priceFrom=25000&priceTo=1000000&zip=&miles=25&newUsed%5B%5D=All&sellerType%5B%5D=For+Sale+By+Owner&postedTime%5B%5D=&titleType%5B%5D=&body%5B%5D=&transmission%5B%5D=&cylinders%5B%5D=&liters%5B%5D=&fuel%5B%5D=&drive%5B%5D=&numberDoors%5B%5D=&exteriorCondition%5B%5D=&interiorCondition%5B%5D=&cx_navSource=hp_search\",\n",
    "                   \"http://www.cars-on-line.com/search.html\"]\n",
    "max_page = 41"
   ]
  },
  {
   "cell_type": "code",
   "execution_count": 23,
   "metadata": {},
   "outputs": [],
   "source": [
    "bigFile = open('ksl.txt', 'a')"
   ]
  },
  {
   "cell_type": "code",
   "execution_count": 24,
   "metadata": {},
   "outputs": [],
   "source": [
    "for i in range(1, max_page):\n",
    "    tagPageUrl = tagPageUrlArray[4]+\"&page=\"+str(i)\n",
    "\n",
    "    # Retrieve the page with tag results and set it up to be scraped\n",
    "    tagPage = requests.get(url=tagPageUrl)\n",
    "    tagPageSoup = BeautifulSoup(tagPage.content, 'lxml')\n",
    "\n",
    "    links = tagPageSoup.find_all(\"div.photo-block > a\")\n",
    "    for link in links:\n",
    "        url = \"http://www.ksl.com\" + link['href']\n",
    "        page = requests.get(url=url)\n",
    "        soup = BeautifulSoup(page.content, 'lxml')\n",
    "        model = soup.select(\"#titleMain > h1 > div\")\n",
    "        if(len(model)):\n",
    "            model = model[0].get_text().strip()\n",
    "        else:\n",
    "            model = \"Unknown\"\n",
    "        price = soup.select(\"#titleMain > h3\")\n",
    "        if(len(price)):\n",
    "            price = price[0].get_text().strip()\n",
    "        else:\n",
    "            price = \"Unknown\"\n",
    "        description = soup.select('#widgetDescription > div.short.cXenseParse')\n",
    "        if(len(description)):\n",
    "            description = description[0].get_text().strip()\n",
    "        else:\n",
    "            description = \"\"\n",
    "        if(len(description)):\n",
    "            match = re.search(r\"\\(?[0-9]{3}\\)?[-. ]?[0-9]{3}[-. ]?[0-9]{4}\", description)\n",
    "            if match:\n",
    "                phone = match.group()\n",
    "            else:\n",
    "                phone = \"\"\n",
    "            if len(phone):\n",
    "                bigFile.write(model + '\\t' + price + '\\t' + phone + '\\n')"
   ]
  },
  {
   "cell_type": "code",
   "execution_count": 47,
   "metadata": {
    "collapsed": true
   },
   "outputs": [],
   "source": [
    "bigFile.close()"
   ]
  }
 ],
 "metadata": {
  "anaconda-cloud": {},
  "kernelspec": {
   "display_name": "Python 3",
   "language": "python",
   "name": "python3"
  },
  "language_info": {
   "codemirror_mode": {
    "name": "ipython",
    "version": 3
   },
   "file_extension": ".py",
   "mimetype": "text/x-python",
   "name": "python",
   "nbconvert_exporter": "python",
   "pygments_lexer": "ipython3",
   "version": "3.6.3"
  }
 },
 "nbformat": 4,
 "nbformat_minor": 1
}
