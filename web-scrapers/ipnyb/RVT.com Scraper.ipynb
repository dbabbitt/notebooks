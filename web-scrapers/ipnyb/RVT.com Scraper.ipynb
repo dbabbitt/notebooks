{
 "cells": [
  {
   "cell_type": "code",
   "execution_count": 1,
   "metadata": {
    "collapsed": true
   },
   "outputs": [],
   "source": [
    "import os\n",
    "\n",
    "from selenium import webdriver\n",
    "from base64 import b64encode\n",
    "from selenium.webdriver.common.keys import Keys\n",
    "from selenium.common.exceptions import NoSuchElementException"
   ]
  },
  {
   "cell_type": "code",
   "execution_count": 2,
   "metadata": {
    "collapsed": false
   },
   "outputs": [
    {
     "name": "stdout",
     "output_type": "stream",
     "text": [
      "{'pwd': '<<PASSWORD>>', 'port': '56597', 'loc': 'Columbus Ohio', 'usr': '<<USERID>>', 'host': '8.29.125.84'}\n"
     ]
    }
   ],
   "source": [
    "from random import randint\n",
    "\n",
    "proxies_array = [\n",
    "    {'host': '64.120.85.192', 'port': '56597', 'usr': '<<USERID>>', 'pwd': '<<PASSWORD>>', 'loc': 'Chicago Ilinois'},\n",
    "    {'host': '8.29.125.84', 'port': '56597', 'usr': '<<USERID>>', 'pwd': '<<PASSWORD>>', 'loc': 'Columbus Ohio'},\n",
    "    {'host': '173.234.204.209', 'port': '56597', 'usr': '<<USERID>>', 'pwd': '<<PASSWORD>>', 'loc': 'Dallas Texas'},\n",
    "    {'host': '8.29.124.215', 'port': '56597', 'usr': '<<USERID>>', 'pwd': '<<PASSWORD>>', 'loc': 'Denver Colorado'},\n",
    "    {'host': '167.160.106.72', 'port': '56597', 'usr': '<<USERID>>', 'pwd': '<<PASSWORD>>', 'loc': 'Houston Texas'},\n",
    "    {'host': '192.171.229.113', 'port': '56597', 'usr': '<<USERID>>', 'pwd': '<<PASSWORD>>', 'loc': 'Irvine California'},\n",
    "    {'host': '45.59.21.72', 'port': '56597', 'usr': '<<USERID>>', 'pwd': '<<PASSWORD>>', 'loc': 'Las Vegas Nevada'},\n",
    "    {'host': '142.91.235.188', 'port': '56597', 'usr': '<<USERID>>', 'pwd': '<<PASSWORD>>', 'loc': 'Los Angeles California'},\n",
    "    {'host': '108.62.137.20', 'port': '56597', 'usr': '<<USERID>>', 'pwd': '<<PASSWORD>>', 'loc': 'New York City New York'},\n",
    "    {'host': '216.107.136.72', 'port': '56597', 'usr': '<<USERID>>', 'pwd': '<<PASSWORD>>', 'loc': 'Oklahoma City Oklahoma'},\n",
    "    {'host': '23.19.213.86', 'port': '56597', 'usr': '<<USERID>>', 'pwd': '<<PASSWORD>>', 'loc': 'Phoenix Arizona'},\n",
    "]\n",
    "proxy = proxies_array[randint(0, len(proxies_array)-1)]\n",
    "print(proxy)"
   ]
  },
  {
   "cell_type": "code",
   "execution_count": 3,
   "metadata": {
    "collapsed": false
   },
   "outputs": [
    {
     "name": "stdout",
     "output_type": "stream",
     "text": [
      "http://www.rvt.com/New-and-Used-RVs-For-Sale-On-RVT.com/results?private_only=1\n"
     ]
    }
   ],
   "source": [
    "siteUrl = \"http://www.rvt.com/New-and-Used-RVs-For-Sale-On-RVT.com/results\"\n",
    "siteUrl = \"?\".join([siteUrl, \"private_only=1\"])\n",
    "print(siteUrl)"
   ]
  },
  {
   "cell_type": "code",
   "execution_count": 4,
   "metadata": {
    "collapsed": false
   },
   "outputs": [],
   "source": [
    "import requests\n",
    "from bs4 import BeautifulSoup\n",
    "\n",
    "# Retrieve the page with tag results and set it up to be scraped\n",
    "proxy = proxies_array[randint(0, len(proxies_array)-1)]\n",
    "proxy_url = 'http://{usr}:{pwd}@{host}:{port}/'.format(**proxy)\n",
    "sitePage = requests.get(url=siteUrl, proxies={'http': proxy_url})\n",
    "siteSoup = BeautifulSoup(sitePage.content, 'lxml')"
   ]
  },
  {
   "cell_type": "code",
   "execution_count": 5,
   "metadata": {
    "collapsed": false
   },
   "outputs": [
    {
     "name": "stdout",
     "output_type": "stream",
     "text": [
      "http://<<USERID>>:<<PASSWORD>>@8.29.124.215:56597/\n"
     ]
    }
   ],
   "source": [
    "print(proxy_url)"
   ]
  },
  {
   "cell_type": "code",
   "execution_count": 6,
   "metadata": {
    "collapsed": false
   },
   "outputs": [
    {
     "name": "stdout",
     "output_type": "stream",
     "text": [
      "11\n"
     ]
    }
   ],
   "source": [
    "links = siteSoup.select('div.result-col > div.post-search > ul > li > a')\n",
    "max_page = int(links[-2]['href'].split('=')[-1])\n",
    "print(max_page)"
   ]
  },
  {
   "cell_type": "code",
   "execution_count": 7,
   "metadata": {
    "collapsed": false
   },
   "outputs": [],
   "source": [
    "from selenium import webdriver\n",
    "from base64 import b64encode\n",
    "\n",
    "# Retrieve the page with tag results and set it up to be scraped\n",
    "fp = webdriver.FirefoxProfile()\n",
    "fp.set_preference('network.proxy.type', 1)\n",
    "fp.set_preference('network.proxy.http', proxy['host'])\n",
    "fp.set_preference('network.proxy.http_port', int(proxy['port']))\n",
    "fp.set_preference('network.proxy.no_proxies_on', 'localhost, 127.0.0.1')\n",
    "fp.add_extension('closeproxy.xpi')\n",
    "credentials = '{usr}:{pwd}'.format(**proxy)\n",
    "credentials = b64encode(credentials.encode('ascii')).decode('utf-8')\n",
    "fp.set_preference('extensions.closeproxyauth.authtoken', credentials)\n",
    "\n",
    "#set some privacy settings\n",
    "fp.set_preference( \"places.history.enabled\", False )\n",
    "fp.set_preference( \"privacy.clearOnShutdown.offlineApps\", True )\n",
    "fp.set_preference( \"privacy.clearOnShutdown.passwords\", True )\n",
    "fp.set_preference( \"privacy.clearOnShutdown.siteSettings\", True )\n",
    "fp.set_preference( \"privacy.sanitize.sanitizeOnShutdown\", True )\n",
    "fp.set_preference( \"signon.rememberSignons\", False )\n",
    "fp.set_preference( \"network.cookie.lifetimePolicy\", 2 )\n",
    "fp.set_preference( \"network.dns.disablePrefetch\", True )\n",
    "fp.set_preference( \"network.http.sendRefererHeader\", 0 )\n",
    "\n",
    "#if you're really hardcore about your security\n",
    "#js can be used to reveal your true i.p.\n",
    "fp.set_preference( \"javascript.enabled\", False )\n",
    "\n",
    "#get a huge speed increase by not downloading images\n",
    "fp.set_preference( \"permissions.default.image\", 2 )"
   ]
  },
  {
   "cell_type": "code",
   "execution_count": 19,
   "metadata": {
    "collapsed": false
   },
   "outputs": [
    {
     "name": "stdout",
     "output_type": "stream",
     "text": [
      "http://www.rvt.com/Tiffin-Phaeton-36GH-2015-Phoenix-AZ-IDns7305812-UX213523\n",
      "http://www.rvt.com/Dutchmen-Infinity-3570RL-2012-Georgetown-TX-IDs7290117-UX212475\n",
      "http://www.rvt.com/Dutchmen-Aerolite-282DBHS-2014-San-antonio-TX-IDs7290097-UX212453\n",
      "http://www.rvt.com/Starcraft-Pine-Mountain-2005-Denver-CO-ID7318347-UX214305\n",
      "http://www.rvt.com/Dodge-Ram--2014-Fairview-WV-ID7318346-UX214297\n",
      "http://www.rvt.com/Forest-River-Vengeance-M377V-2016-Fairview-WV-ID7318332-UX214297\n",
      "http://www.rvt.com/Jayco-Jay-Flight-31BHS-2003-Hemet-CA-ID7318316-UX214293\n",
      "http://www.rvt.com/Keystone-Montana-High-Country-343RL-2015-Gig-harbor-WA-ID7318312-UX214288\n",
      "http://www.rvt.com/Forest-River-Cherokee-315L-2004-Canton-GA-ID7318301-UX214286\n",
      "http://www.rvt.com/Open-Range-413RLL-2014-Corpus-christi-TX-ID7318300-UX214284\n",
      "http://www.rvt.com/Tiffin-Allegro-Bus-40QDP-2005-St-george-UT-ID7318299-UX214280\n",
      "http://www.rvt.com/Newmar-All-Star-4154-Family-Edition-2007-Plano-TX-ID7318296-UX214277\n",
      "http://www.rvt.com/Travel-Lite-900-SBSL-2013-Bonita-beach-FL-ID7318295-UX214276\n",
      "http://www.rvt.com/Holiday-Rambler-Alumascape-29RLT-2002-Yellow-jacket-CO-ID7318294-UX214262\n",
      "http://www.rvt.com/Fleetwood-Pace-Arrow-35G-2002-Perryville-MO-ID7318293-UX214270\n",
      "http://www.rvt.com/Palomino-RealLite-SS1603-1975-Venice-CA-ID7318288-UX214251\n",
      "http://www.rvt.com/Jayco-Jay-Feather-23B-2008-North-wales-PA-ID7318286-UX214112\n",
      "http://www.rvt.com/Jayco-Jay-Feather-Baja-RB145-2016-Pocatello-ID-ID7318284-UX214242\n",
      "http://www.rvt.com/Fleetwood-Revolution-LE-40E-2006-New-port-richey-FL-ID7318282-UX214238\n",
      "http://www.rvt.com/Prevost-Le-Mirage-XL-XL-1996-Daytona-beach-FL-ID7318280-UX214231\n",
      "http://www.rvt.com/Augusta-RV-Flex-33DBTS-2014-Lewiston-MI-ID7318278-UX214228\n",
      "http://www.rvt.com/Keystone-Montana-Mountaineer-303RLD-2007-Leesburg-NJ-ID7318277-UX179596\n",
      "http://www.rvt.com/Coachmen-Clipper-Sport-806-2011-Carmel-IN-ID7318275-UX209309\n",
      "http://www.rvt.com/Forest-River-Vengeance-311A13-2017-Lancaster-OH-ID7318274-UX214226\n",
      "http://www.rvt.com/Dutchmen-Voltage-VSeries-3805-2015-Copper-canyon-TX-ID7318273-UX123316\n",
      "http://www.rvt.com/Winnebago-Vista-35F-2014-Ormond-Beach-FL-ID7318270-UX214221\n",
      "http://www.rvt.com/Heartland-North-Trail-31QBS-2009-Saginaw-MI-ID7318269-UX214220\n",
      "http://www.rvt.com/Gulf-Stream-AmeriLite-24BH-2014-Summerfield-FL-ID7318266-UX214216\n",
      "http://www.rvt.com/Keystone-Montana-3400-RL-2008-Colorado-Springs-CO-ID7318265-UX214215\n",
      "http://www.rvt.com/Prime-Time-Avenger-27RLS-2013-Wonder-lake-IL-ID7318264-UX214214\n",
      "http://www.rvt.com/Monaco-Monarch-30PDD-2005-Tarpon-Springs-FL-ID7318263-UX206718\n",
      "http://www.rvt.com/Winnebago-Navion-24J-2016-Thousand-oaks-ca-CA-ID7318262-UX79922\n",
      "http://www.rvt.com/5-Mars-Carrie-lite-2000-Plymouth-ME-ID7318261-UX214211\n"
     ]
    }
   ],
   "source": [
    "from random import randint\n",
    "import urllib.parse\n",
    "import re\n",
    "\n",
    "i = randint(1, max_page)\n",
    "url = siteUrl+\"&page=\"+str(i)\n",
    "\n",
    "# Retrieve the page with tag results and set it up to be scraped\n",
    "proxy = proxies_array[randint(0, len(proxies_array)-1)]\n",
    "proxy_url = 'http://{usr}:{pwd}@{host}:{port}/'.format(**proxy)\n",
    "page = requests.get(url=url, proxies={'http': proxy_url})\n",
    "soup = BeautifulSoup(page.content, 'lxml')\n",
    "\n",
    "pageLinks = soup.find_all(\"a\", class_=\"result-link\")\n",
    "for pageLink in pageLinks:\n",
    "    pageUrl = urllib.parse.urljoin(url, re.sub(' ', '%20', pageLink['href']))\n",
    "    print(pageUrl)"
   ]
  },
  {
   "cell_type": "code",
   "execution_count": 8,
   "metadata": {
    "collapsed": false
   },
   "outputs": [],
   "source": [
    "from random import randint\n",
    "import urllib.parse\n",
    "import re\n",
    "\n",
    "seen_urls_array = []\n",
    "for i in range(1, max_page+1):\n",
    "    url = siteUrl+\"&page=\"+str(i)\n",
    "\n",
    "    # Retrieve the page with tag results and set it up to be scraped\n",
    "    proxy = proxies_array[randint(0, len(proxies_array)-1)]\n",
    "    proxy_url = 'http://{usr}:{pwd}@{host}:{port}/'.format(**proxy)\n",
    "    page = requests.get(url=url, proxies={'http': proxy_url})\n",
    "    soup = BeautifulSoup(page.content, 'lxml')\n",
    "    \n",
    "    # Get links\n",
    "    pageLinks = soup.find_all(\"a\", class_=\"result-link\")\n",
    "    for pageLink in pageLinks:\n",
    "        pageUrl = urllib.parse.urljoin(url, re.sub(' ', '%20', pageLink['href']))\n",
    "        if pageUrl not in seen_urls_array:\n",
    "            seen_urls_array.append(pageUrl)"
   ]
  },
  {
   "cell_type": "code",
   "execution_count": 24,
   "metadata": {
    "collapsed": false
   },
   "outputs": [
    {
     "name": "stdout",
     "output_type": "stream",
     "text": [
      "http://www.rvt.com/Tiffin-Phaeton-40-QBH-2012-Zellwood-FL-ID7321681-UX214452\n"
     ]
    }
   ],
   "source": [
    "url = seen_urls_array[randint(0,len(seen_urls_array)-1)]\n",
    "print(url)\n",
    "\n",
    "# Retrieve the page with tag results and set it up to be scraped\n",
    "proxy = proxies_array[randint(0, len(proxies_array)-1)]\n",
    "proxy_url = 'http://{usr}:{pwd}@{host}:{port}/'.format(**proxy)\n",
    "page = requests.get(url=url, proxies={'http': proxy_url})\n",
    "soup = BeautifulSoup(page.content, 'lxml')"
   ]
  },
  {
   "cell_type": "code",
   "execution_count": 25,
   "metadata": {
    "collapsed": false
   },
   "outputs": [
    {
     "name": "stdout",
     "output_type": "stream",
     "text": [
      "2012 Tiffin Phaeton 40 QBH for sale by Owner - Zellwood, FL\n",
      "$179,900 USD\n"
     ]
    }
   ],
   "source": [
    "modelCss = \"div.detail-header > h1\"\n",
    "model = soup.select(modelCss)\n",
    "if(len(model)):\n",
    "    model = model[0].get_text().strip()\n",
    "else:\n",
    "    model = \"Unknown\"\n",
    "print(model)\n",
    "\n",
    "#<span itemprop=\"price\"><a href=\"#price-history\" title=\"Price History\">$24,999</a></span>\n",
    "priceCss = 'li.bold > span.rv-item-data'\n",
    "priceTag = soup.select(priceCss)\n",
    "if(len(priceTag)):\n",
    "    price = priceTag[0].get_text().strip()\n",
    "else:\n",
    "    price = \"Unknown\"\n",
    "print(price)"
   ]
  },
  {
   "cell_type": "code",
   "execution_count": 9,
   "metadata": {
    "collapsed": true
   },
   "outputs": [],
   "source": [
    "from selenium import webdriver\n",
    "from selenium.common.exceptions import NoSuchElementException\n",
    "from selenium.webdriver.common.by import By\n",
    "from selenium.webdriver.support import expected_conditions as EC\n",
    "from selenium.webdriver.support.expected_conditions import _find_element\n",
    "from selenium.webdriver.support.ui import WebDriverWait\n",
    "\n",
    "import pandas as pd\n",
    "import re\n",
    "import time"
   ]
  },
  {
   "cell_type": "code",
   "execution_count": 10,
   "metadata": {
    "collapsed": true
   },
   "outputs": [],
   "source": [
    "def get_firefox_credentials(proxy):\n",
    "    credentials = '{usr}:{pwd}'.format(**proxy)\n",
    "    credentials = b64encode(credentials.encode('ascii')).decode('utf-8')\n",
    "    \n",
    "    return(credentials)\n",
    "\n",
    "def get_firefox_profile(credentials):\n",
    "    fp = webdriver.FirefoxProfile()\n",
    "    fp.set_preference('network.proxy.type', 1)\n",
    "    fp.set_preference('network.proxy.http', proxy['host'])\n",
    "    fp.set_preference('network.proxy.http_port', int(proxy['port']))\n",
    "    fp.set_preference('network.proxy.no_proxies_on', 'localhost, 127.0.0.1')\n",
    "    fp.add_extension('closeproxy.xpi')\n",
    "\n",
    "    # Set up the credentials\n",
    "    fp.set_preference('extensions.closeproxyauth.authtoken', credentials)\n",
    "\n",
    "    #set some privacy settings\n",
    "    fp.set_preference( \"places.history.enabled\", False )\n",
    "    fp.set_preference( \"privacy.clearOnShutdown.offlineApps\", True )\n",
    "    fp.set_preference( \"privacy.clearOnShutdown.passwords\", True )\n",
    "    fp.set_preference( \"privacy.clearOnShutdown.siteSettings\", True )\n",
    "    fp.set_preference( \"privacy.sanitize.sanitizeOnShutdown\", True )\n",
    "    fp.set_preference( \"signon.rememberSignons\", False )\n",
    "    fp.set_preference( \"network.cookie.lifetimePolicy\", 2 )\n",
    "    fp.set_preference( \"network.dns.disablePrefetch\", True )\n",
    "    fp.set_preference( \"network.http.sendRefererHeader\", 0 )\n",
    "\n",
    "    #if you're really hardcore about your security\n",
    "    #js can be used to reveal your true i.p.\n",
    "    fp.set_preference( \"javascript.enabled\", False )\n",
    "\n",
    "    #get a huge speed increase by not downloading images\n",
    "    fp.set_preference( \"permissions.default.image\", 2 )\n",
    "    \n",
    "    return(fp)\n",
    "\n",
    "def get_firefox_page(proxy, url):\n",
    "    credentials = get_firefox_credentials(proxy)\n",
    "    fp = get_firefox_profile(credentials)\n",
    "    driver = webdriver.Firefox(fp)\n",
    "\n",
    "    # Set the timeout information\n",
    "    driver.set_page_load_timeout(50)\n",
    "\n",
    "    finished = 0\n",
    "    fails = 0\n",
    "    while finished == 0 and fails < 8:\n",
    "        try:\n",
    "            driver.get(url)\n",
    "            finished = 1\n",
    "        except Exception as e:\n",
    "            print(str(e))\n",
    "            fails = fails + 1\n",
    "            time.sleep(5)\n",
    "    \n",
    "    return(driver)\n",
    "\n",
    "class text_to_change(object):\n",
    "    def __init__(self, locator, text):\n",
    "        self.locator = locator\n",
    "        self.text = text\n",
    "\n",
    "    def __call__(self, driver):\n",
    "        actual_text = _find_element(driver, self.locator).text\n",
    "        return actual_text != self.text"
   ]
  },
  {
   "cell_type": "markdown",
   "metadata": {},
   "source": [
    "## Try a random URL with a random proxy"
   ]
  },
  {
   "cell_type": "code",
   "execution_count": 11,
   "metadata": {
    "collapsed": false
   },
   "outputs": [
    {
     "name": "stdout",
     "output_type": "stream",
     "text": [
      "http://www.rvt.com/Jayco-Greyhawk-31FS-2013-Huron-SD-ID7316506-UX212952\n",
      "Columbus Ohio\n",
      "Message: Error loading page, timed out (onDOMContentLoaded)\n",
      "\n",
      "text_before: 'Click to Show'\n",
      "phone: '605-354-1118'\n",
      "model: '2013 Jayco Greyhawk 31FS for sale by Owner - Huron, SD'\n",
      "price: '$62,000 $61,000 USD'\n",
      "name 'pickle' is not defined\n"
     ]
    }
   ],
   "source": [
    "pickle\n",
    "\n",
    "# Get a random URL\n",
    "url = seen_urls_array[randint(0,len(seen_urls_array)-1)]\n",
    "print(url)\n",
    "\n",
    "# Get random proxy\n",
    "proxy = proxies_array[randint(0, len(proxies_array)-1)]\n",
    "print(proxy['loc'])\n",
    "\n",
    "driver = get_firefox_page(proxy, url)\n",
    "phoneRe = re.compile(r\"\\(?[0-9]{3}\\)?[-. ]?[0-9]{3}[-. ]?[0-9]{4}\")\n",
    "\n",
    "# Get the \"Click to Show\"\n",
    "phoneID = 'sc1'\n",
    "try: \n",
    "    text_before = driver.find_element_by_id(phoneID).text \n",
    "except NoSuchElementException: \n",
    "    text_before = \"\"\n",
    "print(\"text_before: '\" + text_before + \"'\")\n",
    "\n",
    "try:\n",
    "    \n",
    "    # Wait for the button to show up\n",
    "    #<a href=\"#contact-seller\">Call<br>Seller</a>\n",
    "    buttonCss = 'li.call-seller-pr > a[href=\"#contact-seller\"]'\n",
    "    buttonTag = WebDriverWait(driver, 10).until(\n",
    "        EC.presence_of_element_located((By.CSS_SELECTOR, buttonCss))\n",
    "    )\n",
    "    buttonTag.click()\n",
    "    \n",
    "    # Wait for the phone number to show up\n",
    "    WebDriverWait(driver, 10).until(\n",
    "        text_to_change((By.ID, phoneID), text_before)\n",
    "    )\n",
    "    pageSoup = BeautifulSoup(driver.page_source, 'lxml')\n",
    "    \n",
    "    phoneTag = pageSoup.select('span.show-phone > a')\n",
    "    if(len(phoneTag)):\n",
    "        match = phoneRe.search(phoneTag[0].get_text().strip())\n",
    "        if match:\n",
    "            phone = match.group()\n",
    "        else:\n",
    "            phone = \"\"\n",
    "    else:\n",
    "        phone = \"\"\n",
    "    print(\"phone: '\" + phone + \"'\")\n",
    "    \n",
    "    if len(phone):\n",
    "\n",
    "        modelCss = \"div.detail-header > h1\"\n",
    "        model = pageSoup.select(modelCss)\n",
    "        if(len(model)):\n",
    "            model = model[0].get_text().strip()\n",
    "        else:\n",
    "            model = \"Unknown\"\n",
    "        print(\"model: '\" + model + \"'\")\n",
    "\n",
    "        priceCss = 'li.bold > span.rv-item-data'\n",
    "        priceTag = pageSoup.select(priceCss)\n",
    "        if(len(priceTag)):\n",
    "            price = priceTag[0].get_text().strip()\n",
    "        else:\n",
    "            price = \"Unknown\"\n",
    "        print(\"price: '\" + price + \"'\")\n",
    "        \n",
    "        bigFile = open('rvt.txt', 'a', encoding='utf-8')\n",
    "        bigFile.write(model + '\\t' + price + '\\t' + phone + '\\n')\n",
    "        bigFile.close()\n",
    "\n",
    "    # Destroy the tree when you're done working with it\n",
    "    pageSoup.decompose()\n",
    "\n",
    "except Exception as e:\n",
    "    print(str(e))\n",
    "finally:\n",
    "    if url not in seen_urls_array:\n",
    "        seen_urls_array.append(url)\n",
    "    try:\n",
    "        with open('rvt.pickle', 'wb') as handle:\n",
    "            pickle.dump(seen_urls_array, handle, protocol=pickle.HIGHEST_PROTOCOL)\n",
    "    except Exception as e:\n",
    "        print(str(e))\n",
    "    try:\n",
    "        driver.quit()\n",
    "    except Exception as e:\n",
    "        print(str(e))"
   ]
  },
  {
   "cell_type": "code",
   "execution_count": 49,
   "metadata": {
    "collapsed": false
   },
   "outputs": [
    {
     "name": "stdout",
     "output_type": "stream",
     "text": [
      "[<span class=\"show-phone\" id=\"sc1\" title=\"It's NOT OK to contact this seller with services or commercial interests\"><a href=\"tel:507-438-2710\">507-438-2710</a><br/><a href=\"sms:507-438-2710;?&amp;body=Hello%2C%20I%20am%20interested%20in%20your%202017%20Rockwood%202109S%20on%20RVT.com.%20Is%20it%20still%20available%3F\">Send Text</a> <b></b></span>]\n"
     ]
    }
   ],
   "source": [
    "print(phoneTag)"
   ]
  },
  {
   "cell_type": "code",
   "execution_count": 59,
   "metadata": {
    "collapsed": false
   },
   "outputs": [],
   "source": [
    "driver.quit()"
   ]
  },
  {
   "cell_type": "code",
   "execution_count": 64,
   "metadata": {
    "collapsed": false
   },
   "outputs": [],
   "source": [
    "import pickle\n",
    "\n",
    "with open('rvt.pickle', 'wb') as handle:\n",
    "    pickle.dump(seen_urls_array, handle, protocol=pickle.HIGHEST_PROTOCOL)"
   ]
  },
  {
   "cell_type": "code",
   "execution_count": null,
   "metadata": {
    "collapsed": true
   },
   "outputs": [],
   "source": [
    "with open('rvt.pickle', 'rb') as handle:\n",
    "    seen_urls_array = pickle.load(handle)"
   ]
  },
  {
   "cell_type": "code",
   "execution_count": null,
   "metadata": {
    "collapsed": true
   },
   "outputs": [],
   "source": []
  },
  {
   "cell_type": "code",
   "execution_count": null,
   "metadata": {
    "collapsed": false
   },
   "outputs": [],
   "source": [
    "import time\n",
    "import random\n",
    "\n",
    "scrambled_urls_array = sorted(seen_urls_array, key = lambda x: random.random())\n",
    "for url in scrambled_urls_array:\n",
    "\n",
    "    # Get random proxy\n",
    "    proxy = proxies_array[randint(0, len(proxies_array)-1)]\n",
    "    print(proxy['loc'])\n",
    "\n",
    "    driver = get_firefox_page(proxy, url)\n",
    "    phoneRe = re.compile(r\"\\(?[0-9]{3}\\)?[-. ]?[0-9]{3}[-. ]?[0-9]{4}\")\n",
    "\n",
    "    # Get the \"Click to Show\"\n",
    "    phoneID = 'sc1'\n",
    "    try: \n",
    "        text_before = driver.find_element_by_id(phoneID).text \n",
    "    except NoSuchElementException: \n",
    "        text_before = \"\"\n",
    "    print(\"text_before: '\" + text_before + \"'\")\n",
    "\n",
    "    try:\n",
    "\n",
    "        # Wait for the button to show up\n",
    "        #<a href=\"#contact-seller\">Call<br>Seller</a>\n",
    "        buttonCss = 'li.call-seller-pr > a[href=\"#contact-seller\"]'\n",
    "        buttonTag = WebDriverWait(driver, 10).until(\n",
    "            EC.presence_of_element_located((By.CSS_SELECTOR, buttonCss))\n",
    "        )\n",
    "        buttonTag.click()\n",
    "\n",
    "        # Wait for the phone number to show up\n",
    "        WebDriverWait(driver, 10).until(\n",
    "            text_to_change((By.ID, phoneID), text_before)\n",
    "        )\n",
    "        pageSoup = BeautifulSoup(driver.page_source, 'lxml')\n",
    "\n",
    "        phoneTag = pageSoup.select('span.show-phone > a')\n",
    "        if(len(phoneTag)):\n",
    "            match = phoneRe.search(phoneTag[0].get_text().strip())\n",
    "            if match:\n",
    "                phone = match.group()\n",
    "            else:\n",
    "                phone = \"\"\n",
    "        else:\n",
    "            phone = \"\"\n",
    "        print(\"phone: '\" + phone + \"'\")\n",
    "\n",
    "        if len(phone):\n",
    "\n",
    "            modelCss = \"div.detail-header > h1\"\n",
    "            model = pageSoup.select(modelCss)\n",
    "            if(len(model)):\n",
    "                model = model[0].get_text().strip()\n",
    "            else:\n",
    "                model = \"Unknown\"\n",
    "            print(\"model: '\" + model + \"'\")\n",
    "\n",
    "            priceCss = 'li.bold > span.rv-item-data'\n",
    "            priceTag = pageSoup.select(priceCss)\n",
    "            if(len(priceTag)):\n",
    "                price = priceTag[0].get_text().strip()\n",
    "            else:\n",
    "                price = \"Unknown\"\n",
    "            print(\"price: '\" + price + \"'\")\n",
    "\n",
    "            bigFile = open('rvt.txt', 'a', encoding='utf-8')\n",
    "            bigFile.write(model + '\\t' + price + '\\t' + phone + '\\n')\n",
    "            bigFile.close()\n",
    "\n",
    "        # Destroy the tree when you're done working with it\n",
    "        pageSoup.decompose()\n",
    "\n",
    "    except Exception as e:\n",
    "        print(str(e))\n",
    "    finally:\n",
    "        try:\n",
    "            driver.quit()\n",
    "        except Exception as e:\n",
    "            print(str(e))"
   ]
  },
  {
   "cell_type": "code",
   "execution_count": null,
   "metadata": {
    "collapsed": true
   },
   "outputs": [],
   "source": []
  }
 ],
 "metadata": {
  "anaconda-cloud": {},
  "kernelspec": {
   "display_name": "Python [conda root]",
   "language": "python",
   "name": "conda-root-py"
  },
  "language_info": {
   "codemirror_mode": {
    "name": "ipython",
    "version": 3
   },
   "file_extension": ".py",
   "mimetype": "text/x-python",
   "name": "python",
   "nbconvert_exporter": "python",
   "pygments_lexer": "ipython3",
   "version": "3.5.2"
  }
 },
 "nbformat": 4,
 "nbformat_minor": 1
}
