{
 "cells": [
  {
   "cell_type": "code",
   "execution_count": 1,
   "metadata": {},
   "outputs": [],
   "source": [
    "\n",
    "import requests\n",
    "import os\n",
    "from bs4 import BeautifulSoup\n",
    "import re\n",
    "\n",
    "from selenium import webdriver\n",
    "from base64 import b64encode\n",
    "from selenium.webdriver.common.keys import Keys\n",
    "from selenium.common.exceptions import NoSuchElementException\n",
    "import selenium.webdriver.support.ui as ui\n",
    "%pprint"
   ]
  },
  {
   "cell_type": "code",
   "execution_count": null,
   "metadata": {},
   "outputs": [],
   "source": [
    "\n",
    "# Retrieve the page with tag results and set it up to be scraped\n",
    "fp = webdriver.FirefoxProfile()\n",
    "#fp.set_preference(key, value)\n",
    "driver = webdriver.Firefox(\n",
    "    firefox_profile=fp,\n",
    "    firefox_binary=None,\n",
    "    timeout=30,\n",
    "    capabilities=None,\n",
    "    proxy=None,\n",
    "    executable_path='../exe/geckodriver.exe',\n",
    "    options=None,\n",
    "    log_path='../log/geckodriver.log',\n",
    "    firefox_options=None,\n",
    "    service_args=None,\n",
    "    desired_capabilities=None,\n",
    ")\n",
    "\n",
    "# set timeout information\n",
    "driver.set_page_load_timeout(10)"
   ]
  },
  {
   "cell_type": "code",
   "execution_count": 20,
   "metadata": {},
   "outputs": [],
   "source": [
    "\n",
    "finished = 0\n",
    "fails = 0\n",
    "site_url = 'https://www.aetna.com/about-us/login.html'\n",
    "while finished == 0 and fails < 8:\n",
    "    try:\n",
    "        driver.get(site_url)\n",
    "        finished = 1\n",
    "    except Exception as e:\n",
    "        print(str(e))\n",
    "        fails = fails + 1\n",
    "        time.sleep(5)"
   ]
  },
  {
   "cell_type": "markdown",
   "metadata": {},
   "source": [
    "\n",
    "<div class=\"content col-lg-8 col-sm-7\">\n",
    "<h1>Unable To Identify Your Browser</h1>\n",
    "<p>\n",
    "  As you were browsing <strong>https://member.aetna.com</strong> something prevented us from identifying your browser. There are a few reasons this might happen:\n",
    "</p>\n",
    "<ul>\n",
    "  <li>You've disabled JavaScript or cookies in your web browser.</li>\n",
    "  <li>A third-party browser plugin, such as Ghostery or  NoScript, is preventing JavaScript from running. Additional information is available in this <a title=\"Third party browser plugins that block javascript\" href=\"http://ds.tl/help-third-party-plugins\" target=\"_blank\">support article</a>.</li>\n",
    "  <li>A browser plugin, such as Google Chrome's Data Saver, is routing your network traffic through a data center or other proxy. Additional information is available in this <a title=\"Plugins Incorrectly Routing Traffic - Unable to Identify\" href=\"http://ds.tl/help-plugin-routing-traffic\" target=\"_blank\">support article</a>.</li>\n",
    "</ul>\n",
    "<p>\n",
    "  Resolving these issues should restore your access to member.aetna.com.\n",
    "</p>\n",
    "\n",
    "\n",
    "  <p id=\"extraUnblock\">\n",
    "      <small style=\"font-size: 8pt\">\n",
    "        You reached this page when attempting to access https://member.aetna.com/appConfig/login/login.fcc\n",
    "        from 68.187.211.147 on 2019-05-01 22:24:58 GMT.<br>\n",
    "        Trace: 37c7e9b5-0c18-4d14-a53d-b73bc4d551f0 (409) via 91d28a75-6d72-4807-8d85-ca7a0c2c33d0; \n",
    "        0.001 / 2168\n",
    "      </small>\n",
    "    </p>\n",
    "</div>"
   ]
  },
  {
   "cell_type": "code",
   "execution_count": 22,
   "metadata": {},
   "outputs": [],
   "source": [
    "\n",
    "from selenium.webdriver.common.by import By\n",
    "from selenium.webdriver.support import expected_conditions as EC\n",
    "from selenium.webdriver.support.ui import WebDriverWait\n",
    "\n",
    "# Click the login button\n",
    "try:\n",
    "    button_css = '.btn'\n",
    "    \n",
    "    # Wait for button to show up\n",
    "    button_tag = WebDriverWait(driver, 10).until(\n",
    "        EC.presence_of_element_located((By.CSS_SELECTOR, button_css))\n",
    "    )\n",
    "    button_tag.click()\n",
    "    \n",
    "except Exception as e:\n",
    "    print('Wait for button to show up: {}'.format(e))"
   ]
  },
  {
   "cell_type": "code",
   "execution_count": 23,
   "metadata": {},
   "outputs": [],
   "source": [
    "\n",
    "driver.quit()"
   ]
  },
  {
   "cell_type": "code",
   "execution_count": null,
   "metadata": {},
   "outputs": [],
   "source": [
    "\n",
    "page_html = driver.page_source\n",
    "for parser in ['lxml', 'html5lib', 'html.parser']:\n",
    "    aetna_soup = BeautifulSoup(page_html, parser)\n",
    "    print(parser, len(aetna_soup.find('body').text))"
   ]
  },
  {
   "cell_type": "code",
   "execution_count": null,
   "metadata": {},
   "outputs": [],
   "source": [
    "\n",
    "soup = BeautifulSoup(page_html, 'html5lib')\n",
    "result = soup.find('a')\n",
    "print(result)"
   ]
  },
  {
   "cell_type": "code",
   "execution_count": null,
   "metadata": {},
   "outputs": [],
   "source": [
    "\n",
    "soup = BeautifulSoup(page_html, 'lxml')\n",
    "for anchor in soup.find_all(\"a\"):\n",
    "    if \"apply\" in anchor.text:\n",
    "        print(anchor)\n",
    "        driver2 = webdriver.Firefox(fp)\n",
    "        driver2.get(siteUrl)\n",
    "        wait2 = ui.WebDriverWait(driver, 10)\n",
    "        page_html2 = driver2.page_source\n",
    "        driver2.quit()"
   ]
  },
  {
   "cell_type": "code",
   "execution_count": null,
   "metadata": {},
   "outputs": [],
   "source": [
    "\n",
    "soup = BeautifulSoup(page_html2, 'lxml')\n",
    "result = soup.find('body')\n",
    "print(result.text)"
   ]
  },
  {
   "cell_type": "code",
   "execution_count": null,
   "metadata": {},
   "outputs": [],
   "source": []
  }
 ],
 "metadata": {
  "anaconda-cloud": {},
  "kernelspec": {
   "display_name": "Python 3",
   "language": "python",
   "name": "python3"
  },
  "language_info": {
   "codemirror_mode": {
    "name": "ipython",
    "version": 3
   },
   "file_extension": ".py",
   "mimetype": "text/x-python",
   "name": "python",
   "nbconvert_exporter": "python",
   "pygments_lexer": "ipython3",
   "version": "3.6.8"
  }
 },
 "nbformat": 4,
 "nbformat_minor": 2
}
