{
 "cells": [
  {
   "cell_type": "code",
   "execution_count": 1,
   "metadata": {
    "collapsed": true
   },
   "outputs": [],
   "source": [
    "import os\n",
    "\n",
    "import time"
   ]
  },
  {
   "cell_type": "code",
   "execution_count": 3,
   "metadata": {
    "collapsed": false
   },
   "outputs": [
    {
     "name": "stdout",
     "output_type": "stream",
     "text": [
      "http://www.boattrader.com/search-results/NewOrUsed-used/Type-any/Category-all/Zip-68046/Radius-4000/sourcecode-nt/Sort-Length:DESC\n"
     ]
    }
   ],
   "source": [
    "siteUrl = \"http://www.boattrader.com\"\n",
    "siteUrl = \"/\".join([siteUrl, \"search-results\"])\n",
    "siteUrl = \"/\".join([siteUrl, \"NewOrUsed-used\"])\n",
    "siteUrl = \"/\".join([siteUrl, \"Type-any\"])\n",
    "siteUrl = \"/\".join([siteUrl, \"Category-all\"])\n",
    "siteUrl = \"/\".join([siteUrl, \"Zip-68046\"])\n",
    "siteUrl = \"/\".join([siteUrl, \"Radius-4000\"])\n",
    "siteUrl = \"/\".join([siteUrl, \"sourcecode-nt\"])\n",
    "siteUrl = \"/\".join([siteUrl, \"Sort-Length:DESC\"])\n",
    "print(siteUrl)\n",
    "\n",
    "proxies = {'http': 'http://<<USERID>>:<<PASSWORD>>@23.19.51.245:40791/'}"
   ]
  },
  {
   "cell_type": "code",
   "execution_count": 7,
   "metadata": {
    "collapsed": false
   },
   "outputs": [
    {
     "name": "stdout",
     "output_type": "stream",
     "text": [
      "[<a class=\"last\" href=\"/search-results/NewOrUsed-used/Type-any/Category-all/Zip-68046/Radius-4000/sourcecode-nt/Sort-Length:DESC/Page-173,28\">&amp;Gt;</a>]\n",
      "173\n"
     ]
    }
   ],
   "source": [
    "import requests\n",
    "from bs4 import BeautifulSoup\n",
    "\n",
    "# Retrieve the page with tag results and set it up to be scraped\n",
    "sitePage = requests.get(url=siteUrl, proxies=proxies)\n",
    "sitePageSoup = BeautifulSoup(sitePage.content, 'lxml')\n",
    "\n",
    "#<a href=\"/.../Page-173,28\" class=\"last\">≫</a>\n",
    "siteCss = 'div.results-footer > ul.pagination > li > a.last'\n",
    "siteLinks = sitePageSoup.select(siteCss)\n",
    "print(siteLinks)\n",
    "\n",
    "max_page = 0\n",
    "if len(siteLinks):\n",
    "    max_page = int(siteLinks[0][\"href\"].split('/')[-1].split('-')[1].split(',')[0])\n",
    "print(max_page)"
   ]
  },
  {
   "cell_type": "code",
   "execution_count": 9,
   "metadata": {
    "collapsed": false
   },
   "outputs": [
    {
     "name": "stdout",
     "output_type": "stream",
     "text": [
      "http://www.boattrader.com/search-results/NewOrUsed-used/Type-any/Category-all/Zip-68046/Radius-4000/sourcecode-nt/Sort-Length:DESC/Page-49,28\n",
      "Page 49 of 173 - Boats for sale near Papillion, NE - BoatTrader.com\n"
     ]
    }
   ],
   "source": [
    "from random import randint\n",
    "\n",
    "i = randint(1, max_page)\n",
    "tagUrl = \"/\".join([siteUrl, \"Page-\"+str(i)+\",28\"])\n",
    "print(tagUrl)\n",
    "\n",
    "tagPage = requests.get(url=tagUrl)\n",
    "tagSoup = BeautifulSoup(tagPage.content, 'lxml')"
   ]
  },
  {
   "cell_type": "code",
   "execution_count": 14,
   "metadata": {
    "collapsed": false
   },
   "outputs": [
    {
     "name": "stdout",
     "output_type": "stream",
     "text": [
      "Page 49 of 173 - Boats for sale near Papillion, NE - BoatTrader.com\n",
      "http://www.boattrader.com/listing/1983-j-boats-j-30-705568/\n",
      "http://www.boattrader.com/listing/1974-creekmore-boats-cruiser-102944732/\n",
      "http://www.boattrader.com/listing/1974-creekmore-boats-cruiser-102944732/\n",
      "http://www.boattrader.com/listing/2002-j-c-mfg-inc-tritoon-306-102942129/\n",
      "http://www.boattrader.com/listing/2002-j-c-mfg-inc-tritoon-306-102942129/\n",
      "http://www.boattrader.com/listing/2002-bond-yachts-mc30-102938876/\n",
      "http://www.boattrader.com/listing/2001-boston-whaler-28-conquest-102945635/\n",
      "http://www.boattrader.com/listing/2011-boston-whaler-285-conquest-706487/\n",
      "http://www.boattrader.com/listing/2006-boston-whaler-305-conquest-703781/\n",
      "http://www.boattrader.com/listing/1999-campion-chase-910-102938901/\n",
      "http://www.boattrader.com/listing/1999-campion-chase-910-102938901/\n",
      "http://www.boattrader.com/listing/1982-carver-3007-aft-cabin-my-102960562/\n",
      "http://www.boattrader.com/listing/1982-carver-3007-aft-cabin-my-102960562/\n",
      "http://www.boattrader.com/listing/1993-carver-300-sedan-cruising-695441/\n",
      "http://www.boattrader.com/listing/2001-maine-cat-mc-30-702790/\n",
      "http://www.boattrader.com/listing/1990-catalina-30-wing-keel-684353/\n",
      "http://www.boattrader.com/listing/1989-catalina-30-102939539/\n",
      "http://www.boattrader.com/listing/1989-catalina-30-102939539/\n",
      "http://www.boattrader.com/listing/1988-catalina-30-102944136/\n",
      "http://www.boattrader.com/listing/1988-catalina-30-102944136/\n",
      "http://www.boattrader.com/listing/1986-catalina-c-30-703524/\n",
      "http://www.boattrader.com/listing/1980-catalina-30-tall-rig-703424/\n",
      "http://www.boattrader.com/listing/1988-catalina-sloop-691623/\n",
      "http://www.boattrader.com/listing/1988-catalina-sloop-691623/\n",
      "http://www.boattrader.com/listing/1980-catalina-sloop-702216/\n",
      "http://www.boattrader.com/listing/1980-catalina-sloop-702216/\n",
      "http://www.boattrader.com/listing/2001-catamaran-cruisers-lil-hobo-102924887/\n",
      "http://www.boattrader.com/listing/2001-catamaran-cruisers-lil-hobo-102924887/\n",
      "http://www.boattrader.com/listing/1999-chaparral-signature-300-700230/\n",
      "http://www.boattrader.com/listing/1999-chaparral-signature-300-700230/\n",
      "http://www.boattrader.com/listing/2006-chaparral-280-signature-704510/\n",
      "http://www.boattrader.com/listing/2006-chaparral-290-683841/\n",
      "http://www.boattrader.com/listing/2005-chaparral-290-signature-693480/\n",
      "http://www.boattrader.com/listing/2001-chris-craft-express-308-700233/\n",
      "http://www.boattrader.com/listing/1977-chris-craft-commander-sport-fish-102915695/\n",
      "http://www.boattrader.com/listing/1977-chris-craft-commander-sport-fish-102915695/\n",
      "http://www.boattrader.com/listing/2003-cobalt-226-702048/\n",
      "http://www.boattrader.com/listing/2003-cobalt-226-702048/\n",
      "http://www.boattrader.com/listing/2006-cigarette-racing-vice-30-102924907/\n",
      "http://www.boattrader.com/listing/2011-cobalt-296-685486/\n"
     ]
    }
   ],
   "source": [
    "import urllib.parse\n",
    "import re\n",
    "\n",
    "# Get the title of the page to prove we are progressing\n",
    "tagTitle = tagSoup.select(\"head > title\")\n",
    "titleString = tagTitle[0].get_text().strip()\n",
    "print(titleString)\n",
    "\n",
    "# Get the links to the individual pages\n",
    "pageLinks = tagSoup.select('a[href*=/listing/]')\n",
    "for pageLink in pageLinks:\n",
    "    pageUrl = urllib.parse.urljoin(siteUrl, re.sub(' ', '%20', pageLink['href']))\n",
    "    print(pageUrl)"
   ]
  },
  {
   "cell_type": "code",
   "execution_count": 15,
   "metadata": {
    "collapsed": false
   },
   "outputs": [
    {
     "name": "stdout",
     "output_type": "stream",
     "text": [
      "4807\n"
     ]
    }
   ],
   "source": [
    "seen_urls_array = []\n",
    "for i in range(1, max_page+1):\n",
    "    tagUrl = \"/\".join([siteUrl, \"Page-\"+str(i)+\",28\"])\n",
    "    #print(tagUrl)\n",
    "\n",
    "    tagPage = requests.get(url=tagUrl)\n",
    "    tagSoup = BeautifulSoup(tagPage.content, 'lxml')\n",
    "\n",
    "    # Get the title of the page to prove we are progressing\n",
    "    tagTitle = tagSoup.select(\"head > title\")\n",
    "    titleString = tagTitle[0].get_text().strip()\n",
    "    #print(titleString)\n",
    "\n",
    "    # Get the links to the individual pages\n",
    "    pageLinks = tagSoup.select('a[href*=/listing/]')\n",
    "    for pageLink in pageLinks:\n",
    "        pageUrl = urllib.parse.urljoin(siteUrl, re.sub(' ', '%20', pageLink['href']))\n",
    "        #print(pageUrl)\n",
    "        if pageUrl not in seen_urls_array:\n",
    "            seen_urls_array.append(pageUrl)\n",
    "    \n",
    "    # Destroy the tree when you're done working with it\n",
    "    tagSoup.decompose()\n",
    "\n",
    "# Show the number of individual page links you have\n",
    "print(len(seen_urls_array))"
   ]
  },
  {
   "cell_type": "code",
   "execution_count": 17,
   "metadata": {
    "collapsed": false
   },
   "outputs": [],
   "source": [
    "import pickle\n",
    "\n",
    "with open('boattrader.pickle', 'wb') as handle:\n",
    "    pickle.dump(seen_urls_array, handle, protocol=pickle.HIGHEST_PROTOCOL)"
   ]
  },
  {
   "cell_type": "code",
   "execution_count": 18,
   "metadata": {
    "collapsed": false
   },
   "outputs": [],
   "source": [
    "import pickle\n",
    "\n",
    "with open('boattrader.pickle', 'rb') as handle:\n",
    "    seen_urls_array = pickle.load(handle)"
   ]
  },
  {
   "cell_type": "code",
   "execution_count": null,
   "metadata": {
    "collapsed": true
   },
   "outputs": [],
   "source": [
    "pageUrl = seen_urls_array[randint(0,len(seen_urls_array)-1)]\n",
    "print(pageUrl)\n",
    "\n",
    "page = requests.get(url=pageUrl)\n",
    "soup = BeautifulSoup(page.content, 'lxml')"
   ]
  },
  {
   "cell_type": "code",
   "execution_count": 24,
   "metadata": {
    "collapsed": false
   },
   "outputs": [
    {
     "name": "stdout",
     "output_type": "stream",
     "text": [
      "Private Seller\n",
      "2016 Yellowfin 26 Offshore\n",
      "$128,000\n",
      "(813) 226-7402\n"
     ]
    }
   ],
   "source": [
    "dealerCss = \"#seller-name\"\n",
    "dealerLink = soup.select(dealerCss)\n",
    "if len(dealerLink):\n",
    "    dealerName = dealerLink[0].get_text().strip()\n",
    "    print(dealerName)\n",
    "\n",
    "    if dealerName == \"Private Seller\":\n",
    "        model = soup.select(\"header > h1\")\n",
    "        if len(model):\n",
    "            model = model[0].get_text().strip()\n",
    "            model = re.sub(r'\\s+', ' ', model)\n",
    "        else:\n",
    "            model = \"Unknown\"\n",
    "        print(model)\n",
    "        price = soup.select(\"div.bd-price-location > span\")\n",
    "        if len(price):\n",
    "            price = price[0].get_text().strip()\n",
    "        else:\n",
    "            price = \"Unknown\"\n",
    "        print(price)\n",
    "        phone = soup.select(\"#call-now-details\")\n",
    "        if len(phone):\n",
    "            phone = phone[0].get_text().strip()\n",
    "        else:\n",
    "            phone = \"\"\n",
    "        print(phone)"
   ]
  },
  {
   "cell_type": "code",
   "execution_count": null,
   "metadata": {
    "collapsed": false
   },
   "outputs": [],
   "source": [
    "for pageUrl in seen_urls_array:\n",
    "    try:\n",
    "        page = requests.get(url=pageUrl, proxies=proxies)\n",
    "        soup = BeautifulSoup(page.content, 'lxml')\n",
    "\n",
    "        dealerCss = \"#seller-name\"\n",
    "        dealerLink = soup.select(dealerCss)\n",
    "        if len(dealerLink):\n",
    "            dealerName = dealerLink[0].get_text().strip()\n",
    "            #print(dealerName)\n",
    "\n",
    "            if dealerName == \"Private Seller\":\n",
    "                model = soup.select(\"header > h1\")\n",
    "                if len(model):\n",
    "                    model = model[0].get_text().strip()\n",
    "                    model = re.sub(r'\\s+', ' ', model)\n",
    "                else:\n",
    "                    model = \"Unknown\"\n",
    "                #print(model)\n",
    "                price = soup.select(\"div.bd-price-location > span\")\n",
    "                if len(price):\n",
    "                    price = price[0].get_text().strip()\n",
    "                else:\n",
    "                    price = \"Unknown\"\n",
    "                #print(price)\n",
    "                phone = soup.select(\"#call-now-details\")\n",
    "                if len(phone):\n",
    "                    phone = phone[0].get_text().strip()\n",
    "                else:\n",
    "                    phone = \"\"\n",
    "                #print(phone)\n",
    "                if len(phone):\n",
    "                    bigFile = open('boattrader.txt', 'a', encoding='utf-8')\n",
    "                    bigFile.write(model + '\\t' + price + '\\t' + phone + '\\n')\n",
    "                    bigFile.close()\n",
    "    \n",
    "        # Destroy the tree when you're done working with it\n",
    "        soup.decompose()\n",
    "        \n",
    "    except Exception as e:\n",
    "        print(str(e))"
   ]
  },
  {
   "cell_type": "code",
   "execution_count": null,
   "metadata": {
    "collapsed": true
   },
   "outputs": [],
   "source": []
  }
 ],
 "metadata": {
  "anaconda-cloud": {},
  "kernelspec": {
   "display_name": "Python [conda root]",
   "language": "python",
   "name": "conda-root-py"
  },
  "language_info": {
   "codemirror_mode": {
    "name": "ipython",
    "version": 3
   },
   "file_extension": ".py",
   "mimetype": "text/x-python",
   "name": "python",
   "nbconvert_exporter": "python",
   "pygments_lexer": "ipython3",
   "version": "3.5.2"
  }
 },
 "nbformat": 4,
 "nbformat_minor": 1
}
