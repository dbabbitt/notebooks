{
 "cells": [
  {
   "cell_type": "code",
   "execution_count": 1,
   "metadata": {
    "collapsed": true
   },
   "outputs": [],
   "source": [
    "import requests\n",
    "import os\n",
    "from bs4 import BeautifulSoup"
   ]
  },
  {
   "cell_type": "code",
   "execution_count": 2,
   "metadata": {
    "collapsed": true
   },
   "outputs": [],
   "source": [
    "tagPageUrlArray = [\"https://classics.autotrader.com/classic-cars-for-sale?seller_type=seller&distance=100\",\n",
    "                   \"https://classiccars.com/listings/find?auction=false&dealer=false&private=true\",\n",
    "                   \"http://www.rvt.com/New-and-Used-RVs-For-Sale-On-RVT.com/results?private_only=1\",\n",
    "                   \"https://www.cars.com/for-sale/searchresults.action/?zc=60606&rd=99999&slrTypeId=28879&yrId=58487&yrId=56007&yrId=51683&yrId=47272&yrId=39723&yrId=34923&yrId=27381&yrId=20201&yrId=20145&yrId=20200&yrId=20144&yrId=20199&yrId=20143&yrId=20198&yrId=20142&yrId=20197&yrId=20141&yrId=20180&stkTypId=28881&sf1Nm=price&sf1Dir=DESC&sf2Nm=miles&sf2Dir=ASC&page=1&perPage=50&sortFeatures=buryUsedLowPrice&sortFeatures=buryNewLowPrice&sortFeatures=buryLowPriceOlderThanSix&sortFeatures=buryNoPrice&sortFeatures=buryUsedLowMileage&searchSource=GN_BREADCRUMB\",\n",
    "                   \"http://www.ksl.com/auto/search/index?keyword=&yearFrom=&yearTo=&mileageFrom=&mileageTo=&priceFrom=25000&priceTo=1000000&zip=&miles=25&newUsed%5B%5D=All&sellerType%5B%5D=For+Sale+By+Owner&postedTime%5B%5D=&titleType%5B%5D=&body%5B%5D=&transmission%5B%5D=&cylinders%5B%5D=&liters%5B%5D=&fuel%5B%5D=&drive%5B%5D=&numberDoors%5B%5D=&exteriorCondition%5B%5D=&interiorCondition%5B%5D=&cx_navSource=hp_search\",\n",
    "                   \"http://www.cars-on-line.com/search.html\"]\n",
    "tagPageUrl = tagPageUrlArray[0]"
   ]
  },
  {
   "cell_type": "code",
   "execution_count": 3,
   "metadata": {
    "collapsed": true
   },
   "outputs": [],
   "source": [
    "# Retrieve the page with tag results and set it up to be scraped\n",
    "tagPage = requests.get(url=tagPageUrl)\n",
    "tagPageSoup = BeautifulSoup(tagPage.content, 'lxml')"
   ]
  },
  {
   "cell_type": "code",
   "execution_count": 4,
   "metadata": {
    "collapsed": false
   },
   "outputs": [],
   "source": [
    "links = tagPageSoup.select('div.pagination > ul > li > a')\n",
    "max_page = int(links[len(links)-2].get_text())"
   ]
  },
  {
   "cell_type": "code",
   "execution_count": 5,
   "metadata": {
    "collapsed": false
   },
   "outputs": [],
   "source": [
    "def has_data_phone_attr(tag):\n",
    "    return tag.has_attr('data-phone')"
   ]
  },
  {
   "cell_type": "code",
   "execution_count": 6,
   "metadata": {
    "collapsed": false
   },
   "outputs": [],
   "source": [
    "for i in range(1, max_page+1):\n",
    "    tagPageUrl = tagPageUrlArray[0]+\"&page=\"+str(i)\n",
    "    \n",
    "    # Retrieve the page with tag results and set it up to be scraped\n",
    "    tagPage = requests.get(url=tagPageUrl)\n",
    "    tagPageSoup = BeautifulSoup(tagPage.content, 'lxml')\n",
    "    \n",
    "    links = tagPageSoup.find_all(has_data_phone_attr)\n",
    "    for link in links:\n",
    "        details = link.parent.parent.parent.parent\n",
    "        name = details.select('a.name')[0]\n",
    "        model = name.select('h3.model')\n",
    "        if(len(model)):\n",
    "            model = model[0].get_text()\n",
    "        else:\n",
    "            model = \"Unknown\"\n",
    "        price = name.select('h4.price')\n",
    "        if(len(price)):\n",
    "            price = price[0].get_text()\n",
    "        else:\n",
    "            price = \"Unknown\"\n",
    "        phone = link['data-phone']\n",
    "        bigFile = open('autotrader.txt', 'a')\n",
    "        bigFile.write(model + '\\t' + price + '\\t' + phone + '\\n')\n",
    "        bigFile.close()"
   ]
  },
  {
   "cell_type": "code",
   "execution_count": null,
   "metadata": {
    "collapsed": true
   },
   "outputs": [],
   "source": []
  }
 ],
 "metadata": {
  "kernelspec": {
   "display_name": "Python [conda root]",
   "language": "python",
   "name": "conda-root-py"
  },
  "language_info": {
   "codemirror_mode": {
    "name": "ipython",
    "version": 3
   },
   "file_extension": ".py",
   "mimetype": "text/x-python",
   "name": "python",
   "nbconvert_exporter": "python",
   "pygments_lexer": "ipython3",
   "version": "3.5.2"
  }
 },
 "nbformat": 4,
 "nbformat_minor": 1
}
