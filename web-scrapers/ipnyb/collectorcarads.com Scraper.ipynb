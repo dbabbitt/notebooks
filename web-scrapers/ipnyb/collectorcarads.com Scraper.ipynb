{
 "cells": [
  {
   "cell_type": "code",
   "execution_count": 1,
   "metadata": {
    "collapsed": true
   },
   "outputs": [],
   "source": [
    "import requests\n",
    "import os\n",
    "from bs4 import BeautifulSoup\n",
    "import re\n",
    "\n",
    "import urllib.parse"
   ]
  },
  {
   "cell_type": "code",
   "execution_count": 2,
   "metadata": {
    "collapsed": false
   },
   "outputs": [
    {
     "name": "stdout",
     "output_type": "stream",
     "text": [
      "http://www.collectorcarads.com/advancedsearch.asp\n"
     ]
    }
   ],
   "source": [
    "siteUrl = \"http://www.collectorcarads.com/advancedsearch.asp\"\n",
    "print(siteUrl)"
   ]
  },
  {
   "cell_type": "code",
   "execution_count": 3,
   "metadata": {
    "collapsed": true
   },
   "outputs": [],
   "source": [
    "# Retrieve the page with tag results and set it up to be scraped\n",
    "tagPage = requests.get(url=siteUrl)\n",
    "tagPageSoup = BeautifulSoup(tagPage.content, 'lxml')"
   ]
  },
  {
   "cell_type": "code",
   "execution_count": 4,
   "metadata": {
    "collapsed": false
   },
   "outputs": [
    {
     "name": "stdout",
     "output_type": "stream",
     "text": [
      "112\n",
      "http://www.collectorcarads.com/year/1975\n",
      "2\n",
      "39\n",
      "http://www.collectorcarads.com/Mercedes-450SL/79258\n"
     ]
    }
   ],
   "source": [
    "from random import randint\n",
    "\n",
    "# Get the year links\n",
    "tds = tagPageSoup.find_all('td', class_='makelist')\n",
    "yearLinkSoup = tds[2]\n",
    "yearLinks = yearLinkSoup.find_all(\"a\", class_=\"sidelinks\")\n",
    "print(len(yearLinks))\n",
    "\n",
    "yearLink = yearLinks[randint(0,len(yearLinks)-1)]\n",
    "url = urllib.parse.urljoin(siteUrl, re.sub(' ', '%20', yearLink['href']))\n",
    "print(url)\n",
    "\n",
    "carPage = requests.get(url=url)\n",
    "carTdSoup = BeautifulSoup(carPage.content, 'lxml')\n",
    "carTds = carTdSoup.find_all(\"td\", class_=\"lines\")\n",
    "print(len(carTds))\n",
    "carLinks = carTds[1].find_all(\"a\")\n",
    "print(len(carLinks))\n",
    "\n",
    "carLink = carLinks[randint(0,len(carLinks)-1)]\n",
    "carLinkUrl = urllib.parse.urljoin(siteUrl, re.sub(' ', '%20', carLink['href']))\n",
    "print(carLinkUrl)"
   ]
  },
  {
   "cell_type": "code",
   "execution_count": 5,
   "metadata": {
    "collapsed": false
   },
   "outputs": [
    {
     "name": "stdout",
     "output_type": "stream",
     "text": [
      "Private Seller\n",
      "1902 Other Ache Freres\n",
      "$115,000\n",
      "909-436-8814\n"
     ]
    }
   ],
   "source": [
    "dealerUrl = \"http://www.collectorcarads.com/Ford-Thunderbird/78172\"\n",
    "privateUrl = \"http://www.collectorcarads.com/Other-Ache-Freres/78965\"\n",
    "page = requests.get(url=privateUrl)\n",
    "soup = BeautifulSoup(page.content, 'lxml')\n",
    "\n",
    "dealer_css = \"td.adtext > p:nth-of-type(1) > a\"\n",
    "dealer_link_text = \"View all the ads by this advertiser\"\n",
    "dealer_link = soup.select(dealer_css)\n",
    "is_dealer = True\n",
    "if len(dealer_link):\n",
    "    match = re.search(dealer_link_text, dealer_link[0].get_text().strip())\n",
    "    if match:\n",
    "        is_dealer = True\n",
    "    else:\n",
    "        is_dealer = False\n",
    "else:\n",
    "    is_dealer = False\n",
    "if not is_dealer:\n",
    "    print(\"Private Seller\")\n",
    "else:\n",
    "    print(\"Dealer\")\n",
    "\n",
    "model = soup.find_all(\"h1\")\n",
    "if len(model):\n",
    "    model = model[0].get_text().strip()\n",
    "else:\n",
    "    model = \"Unknown\"\n",
    "print(model)\n",
    "\n",
    "price = soup.find_all(\"span\", class_=\"pricebold\")\n",
    "if len(price):\n",
    "    price = price[0].get_text().strip()\n",
    "else:\n",
    "    price = \"Unknown\"\n",
    "print(price)\n",
    "\n",
    "phone = soup.select(\"span.adtext > strong\")\n",
    "if len(phone):\n",
    "    phone = phone[0].get_text().strip()\n",
    "print(phone)"
   ]
  },
  {
   "cell_type": "code",
   "execution_count": 6,
   "metadata": {
    "collapsed": false
   },
   "outputs": [],
   "source": [
    "dealer_css = \"td.adtext > p:nth-of-type(1) > a\"\n",
    "dealer_link_text = \"View all the ads by this advertiser\""
   ]
  },
  {
   "cell_type": "code",
   "execution_count": 7,
   "metadata": {
    "collapsed": false
   },
   "outputs": [
    {
     "name": "stdout",
     "output_type": "stream",
     "text": [
      "1560 phone numbers written to file\n"
     ]
    }
   ],
   "source": [
    "# Retrieve the page with tag results and set it up to be scraped\n",
    "tagPage = requests.get(url=siteUrl)\n",
    "tagPageSoup = BeautifulSoup(tagPage.content, 'lxml')\n",
    "\n",
    "# Get the year column\n",
    "tds = tagPageSoup.find_all('td', class_='makelist')\n",
    "yearLinkSoup = tds[2]\n",
    "yearLinks = yearLinkSoup.find_all(\"a\", class_=\"sidelinks\")\n",
    "\n",
    "n = 0\n",
    "for yearLink in yearLinks:\n",
    "    url = urllib.parse.urljoin(siteUrl, re.sub(' ', '%20', yearLink['href']))\n",
    "    #print('url: ' + url)\n",
    "    carPage = requests.get(url=url)\n",
    "    carTdSoup = BeautifulSoup(carPage.content, 'lxml')\n",
    "    carTds = carTdSoup.find_all(\"td\", class_=\"lines\")\n",
    "    #print('carTds: ' + str(len(carTds)))\n",
    "    if len(carTds):\n",
    "        carLinks = carTds[1].select(\"p > b:nth-of-type(1) > font > a\")\n",
    "        #print('carLinks: ' + str(carLinks))\n",
    "        for carLink in carLinks:\n",
    "            carLinkUrl = urllib.parse.urljoin(siteUrl, re.sub(' ', '%20', carLink['href']))\n",
    "            #print('carLinkUrl: ' + carLinkUrl)\n",
    "            try:\n",
    "                page = requests.get(url=carLinkUrl)\n",
    "                soup = BeautifulSoup(page.content, 'lxml')\n",
    "\n",
    "                dealer_link = soup.select(dealer_css)\n",
    "                #print('dealer_link: ' + str(dealer_link))\n",
    "                is_dealer = True\n",
    "                if len(dealer_link):\n",
    "                    match = re.search(dealer_link_text, dealer_link[0].get_text().strip())\n",
    "                    if match:\n",
    "                        is_dealer = True\n",
    "                    else:\n",
    "                        is_dealer = False\n",
    "                else:\n",
    "                    is_dealer = False\n",
    "                if not is_dealer:\n",
    "                    suffix = \"Private Seller\"\n",
    "                else:\n",
    "                    suffix = \"Dealer\"\n",
    "                #print('suffix: ' + suffix)\n",
    "\n",
    "                model = soup.find_all(\"h1\")\n",
    "                if len(model):\n",
    "                    model = model[0].get_text().strip()\n",
    "                else:\n",
    "                    model = \"Unknown\"\n",
    "                #print('model: ' + model)\n",
    "                model = model + \" (\" + suffix + \")\"\n",
    "\n",
    "                price = soup.find_all(\"span\", class_=\"pricebold\")\n",
    "                if len(price):\n",
    "                    price = price[0].get_text().strip()\n",
    "                else:\n",
    "                    price = \"Unknown\"\n",
    "                #print('price: ' + price)\n",
    "\n",
    "                phone = soup.select(\"span.adtext > strong\")\n",
    "                if len(phone):\n",
    "                    phone = phone[0].get_text().strip()\n",
    "                if len(phone):\n",
    "                    #print('phone: ' + str(phone))\n",
    "                    bigFile = open('collectorcarads.txt', 'a')\n",
    "                    bigFile.write(model + '\\t' + price + '\\t' + phone + '\\n')\n",
    "                    n = n + 1\n",
    "                    bigFile.close()\n",
    "            except Exception as e:\n",
    "                print(str(e))\n",
    "print(str(n) + \" phone numbers written to file\")"
   ]
  },
  {
   "cell_type": "code",
   "execution_count": null,
   "metadata": {
    "collapsed": true
   },
   "outputs": [],
   "source": []
  }
 ],
 "metadata": {
  "anaconda-cloud": {},
  "kernelspec": {
   "display_name": "Python [conda root]",
   "language": "python",
   "name": "conda-root-py"
  },
  "language_info": {
   "codemirror_mode": {
    "name": "ipython",
    "version": 3
   },
   "file_extension": ".py",
   "mimetype": "text/x-python",
   "name": "python",
   "nbconvert_exporter": "python",
   "pygments_lexer": "ipython3",
   "version": "3.5.2"
  }
 },
 "nbformat": 4,
 "nbformat_minor": 1
}
