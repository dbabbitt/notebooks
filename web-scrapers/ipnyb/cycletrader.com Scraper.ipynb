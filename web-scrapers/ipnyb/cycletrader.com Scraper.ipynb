{
 "cells": [
  {
   "cell_type": "code",
   "execution_count": 9,
   "metadata": {
    "collapsed": false
   },
   "outputs": [
    {
     "name": "stdout",
     "output_type": "stream",
     "text": [
      "https://www.cycletrader.com/search-results?sort=featured%3Aasc&radius=150&seller_type=NT%2CCSNT%2CPM\n"
     ]
    }
   ],
   "source": [
    "siteUrl = \"https://www.cycletrader.com/search-results\"\n",
    "siteUrl = \"?\".join([siteUrl, \"sort=featured%3Aasc\"])\n",
    "siteUrl = \"&\".join([siteUrl, \"radius=150\"])\n",
    "siteUrl = \"&\".join([siteUrl, \"seller_type=NT%2CCSNT%2CPM\"])\n",
    "print(siteUrl)\n",
    "\n",
    "proxies = {'http': 'http://<<USERID>>:<<PASSWORD>>@23.19.51.245:40791/'}"
   ]
  },
  {
   "cell_type": "code",
   "execution_count": 10,
   "metadata": {
    "collapsed": false
   },
   "outputs": [
    {
     "name": "stdout",
     "output_type": "stream",
     "text": [
      "[<a class=\"btn pageJump btn-default disabled\" data-page=\"1\" data-track=\"Search - Pagination - Bottom - First Link\">First<span class=\"hidden-xs hidden-md\"> Page</span></a>, <a class=\"btn btn-default disabled pageJump\" data-page=\"1\" data-track=\"Search - Pagination - Bottom - Page 1 Link\">1</a>, <a class=\"btn btn-inverse pageJump\" data-page=\"2\" data-track=\"Search - Pagination - Bottom - Page 2 Link\">2</a>, <a class=\"btn btn-inverse pageJump\" data-page=\"3\" data-track=\"Search - Pagination - Bottom - Page 3 Link\">3</a>, <a class=\"btn btn-inverse pageJump\" data-page=\"4\" data-track=\"Search - Pagination - Bottom - Page 4 Link\">4</a>, <a class=\"btn btn-inverse pageJump\" data-page=\"5\" data-track=\"Search - Pagination - Bottom - Page 5 Link\">5</a>, <a class=\"btn pageJump btn-inverse\" data-page=\"254\" data-track=\"Search - Pagination - Bottom - Last Link\">Last<span class=\"hidden-xs hidden-md\"> Page</span></a>]\n",
      "254\n"
     ]
    }
   ],
   "source": [
    "import requests\n",
    "from bs4 import BeautifulSoup\n",
    "\n",
    "# Retrieve the page with tag results and set it up to be scraped\n",
    "sitePage = requests.get(url=siteUrl, proxies=proxies)\n",
    "siteSoup = BeautifulSoup(sitePage.content, 'lxml')\n",
    "\n",
    "#<a class=\"btn pageJump btn-inverse\" data-track=\"Search - Pagination - Bottom - Last Link\" data-page=\"254\">Last<span class=\"hidden-xs hidden-md\"> Page</span></a>\n",
    "siteCss = 'a[data-page]'\n",
    "siteLinks = siteSoup.select(siteCss)\n",
    "#print(siteLinks)\n",
    "\n",
    "max_page = 0\n",
    "if len(siteLinks):\n",
    "    max_page = int(siteLinks[-1][\"data-page\"])\n",
    "print(max_page)"
   ]
  },
  {
   "cell_type": "code",
   "execution_count": 26,
   "metadata": {
    "collapsed": false
   },
   "outputs": [
    {
     "name": "stdout",
     "output_type": "stream",
     "text": [
      "https://www.cycletrader.com/search-results?sort=featured%3Aasc&radius=150&seller_type=NT%2CCSNT%2CPM&page=192\n",
      "Page 192 of 256 - New or Used Motorcycles - Harley-Davidson, Honda, Yamaha, Suzuki, Kawasaki, and More - CycleTrader.com\n"
     ]
    }
   ],
   "source": [
    "from random import randint\n",
    "\n",
    "i = randint(1, max_page)\n",
    "tagUrl = \"&\".join([siteUrl, \"page=\"+str(i)])\n",
    "print(tagUrl)\n",
    "\n",
    "tagPage = requests.get(url=tagUrl, proxies=proxies)\n",
    "tagSoup = BeautifulSoup(tagPage.content, 'lxml')\n",
    "\n",
    "# Get the title of the page to prove we are progressing\n",
    "tagTitle = tagSoup.select(\"head > title\")\n",
    "titleString = tagTitle[0].get_text().strip()\n",
    "print(titleString)"
   ]
  },
  {
   "cell_type": "code",
   "execution_count": 27,
   "metadata": {
    "collapsed": false
   },
   "outputs": [
    {
     "name": "stdout",
     "output_type": "stream",
     "text": [
      "https://www.cycletrader.com/listing/2006-Honda-VTX-1800-120985082\n",
      "https://www.cycletrader.com/listing/2006-Harley-Davidson-NIGHT-TRAIN-120953642\n",
      "https://www.cycletrader.com/listing/2006-Kawasaki-KX-450F-118610443\n",
      "https://www.cycletrader.com/listing/2006-Honda-CRF-250-120907075\n"
     ]
    }
   ],
   "source": [
    "import urllib.parse\n",
    "import re\n",
    "\n",
    "seen_urls_array = []\n",
    "phoneLinks = tagSoup.select('a[data-track=\"Show Phone Number Click\"]')\n",
    "for phoneLink in phoneLinks:\n",
    "    phoneDiv = phoneLink.parent.parent.parent.parent.parent\n",
    "    #print(phoneDiv)\n",
    "\n",
    "    # Get the links to the individual pages\n",
    "    pageLinks = phoneDiv.select('a[data-dlrid=\"private seller\"]')\n",
    "    for pageLink in pageLinks:\n",
    "        pageUrl = urllib.parse.urljoin(tagUrl, re.sub(' ', '%20', pageLink['href']))\n",
    "        #print(pageUrl)\n",
    "        if pageUrl not in seen_urls_array:\n",
    "            seen_urls_array.append(pageUrl)\n",
    "\n",
    "for pageUrl in seen_urls_array:\n",
    "    print(pageUrl)"
   ]
  },
  {
   "cell_type": "code",
   "execution_count": 28,
   "metadata": {
    "collapsed": false
   },
   "outputs": [
    {
     "name": "stdout",
     "output_type": "stream",
     "text": [
      "914\n"
     ]
    }
   ],
   "source": [
    "seen_urls_array = []\n",
    "for i in range(1, max_page+1):\n",
    "    tagUrl = \"&\".join([siteUrl, \"page=\"+str(i)])\n",
    "    #print(tagUrl)\n",
    "\n",
    "    tagPage = requests.get(url=tagUrl, proxies=proxies)\n",
    "    tagSoup = BeautifulSoup(tagPage.content, 'lxml')\n",
    "\n",
    "    # Get the title of the page to prove we are progressing\n",
    "    tagTitle = tagSoup.select(\"head > title\")\n",
    "    titleString = tagTitle[0].get_text().strip()\n",
    "    #print(titleString)\n",
    "\n",
    "    phoneLinks = tagSoup.select('a[data-track=\"Show Phone Number Click\"]')\n",
    "    for phoneLink in phoneLinks:\n",
    "        phoneDiv = phoneLink.parent.parent.parent.parent.parent\n",
    "        #print(phoneDiv)\n",
    "\n",
    "        # Get the links to the individual pages\n",
    "        pageLinks = phoneDiv.select('a[data-dlrid=\"private seller\"]')\n",
    "        for pageLink in pageLinks:\n",
    "            pageUrl = urllib.parse.urljoin(tagUrl, re.sub(' ', '%20', pageLink['href']))\n",
    "            #print(pageUrl)\n",
    "            if pageUrl not in seen_urls_array:\n",
    "                seen_urls_array.append(pageUrl)\n",
    "    \n",
    "    # Destroy the tree when you're done working with it\n",
    "    tagSoup.decompose()\n",
    "\n",
    "# Show the number of individual page links you have\n",
    "print(len(seen_urls_array))"
   ]
  },
  {
   "cell_type": "code",
   "execution_count": 29,
   "metadata": {
    "collapsed": false
   },
   "outputs": [],
   "source": [
    "import pickle\n",
    "\n",
    "with open('cycletrader.pickle', 'wb') as handle:\n",
    "    pickle.dump(seen_urls_array, handle, protocol=pickle.HIGHEST_PROTOCOL)"
   ]
  },
  {
   "cell_type": "code",
   "execution_count": 1,
   "metadata": {
    "collapsed": false
   },
   "outputs": [],
   "source": [
    "import pickle\n",
    "\n",
    "with open('cycletrader.pickle', 'rb') as handle:\n",
    "    seen_urls_array = pickle.load(handle)"
   ]
  },
  {
   "cell_type": "code",
   "execution_count": 50,
   "metadata": {
    "collapsed": false
   },
   "outputs": [
    {
     "name": "stdout",
     "output_type": "stream",
     "text": [
      "https://www.cycletrader.com/listing/2005-Harley-Davidson-DYNA-WIDE-GLIDE-120979067\n"
     ]
    }
   ],
   "source": [
    "from random import randint\n",
    "import requests\n",
    "from bs4 import BeautifulSoup\n",
    "\n",
    "proxies = {'http': 'http://<<USERID>>:<<PASSWORD>>@23.19.51.245:40791/'}\n",
    "pageUrl = seen_urls_array[randint(0,len(seen_urls_array)-1)]\n",
    "print(pageUrl)\n",
    "\n",
    "page = requests.get(url=pageUrl, proxies=proxies)\n",
    "soup = BeautifulSoup(page.content, 'lxml')"
   ]
  },
  {
   "cell_type": "code",
   "execution_count": 51,
   "metadata": {
    "collapsed": false
   },
   "outputs": [
    {
     "name": "stdout",
     "output_type": "stream",
     "text": [
      "2005 Harley-Davidson DYNA WIDE GLIDE\n",
      "$7,500\n",
      "Show Phone Number\n"
     ]
    }
   ],
   "source": [
    "import re\n",
    "\n",
    "model = soup.select(\"div.detail-title.lfloat > h1\")\n",
    "if len(model):\n",
    "    model = model[0].get_text().strip()\n",
    "    model = re.sub(r'\\s+', ' ', model)\n",
    "else:\n",
    "    model = \"Unknown\"\n",
    "print(model)\n",
    "\n",
    "price = soup.select(\"div.detail-price.rfloat > h2 > span\")\n",
    "if len(price):\n",
    "    price = price[0].get_text().strip()\n",
    "else:\n",
    "    price = \"Unknown\"\n",
    "print(price)\n",
    "\n",
    "phone = soup.select(\"div.seller-info-telephone > button\")\n",
    "if len(phone):\n",
    "    phone = phone[0].get_text().strip()\n",
    "else:\n",
    "    phone = \"\"\n",
    "print(phone)"
   ]
  },
  {
   "cell_type": "code",
   "execution_count": 4,
   "metadata": {
    "collapsed": true
   },
   "outputs": [],
   "source": [
    "from selenium import webdriver\n",
    "from base64 import b64encode\n",
    "\n",
    "proxy = {'host': '23.19.51.245', 'port': '40791', 'usr': '<<USERID>>', 'pwd': '<<PASSWORD>>'}\n",
    "# Retrieve the page with tag results and set it up to be scraped\n",
    "fp = webdriver.FirefoxProfile()\n",
    "fp.set_preference('network.proxy.type', 1)\n",
    "fp.set_preference('network.proxy.http', proxy['host'])\n",
    "fp.set_preference('network.proxy.http_port', int(proxy['port']))\n",
    "fp.set_preference('network.proxy.no_proxies_on', 'localhost, 127.0.0.1')\n",
    "fp.add_extension('closeproxy.xpi')\n",
    "credentials = '{usr}:{pwd}'.format(**proxy)\n",
    "credentials = b64encode(credentials.encode('ascii')).decode('utf-8')\n",
    "fp.set_preference('extensions.closeproxyauth.authtoken', credentials)\n",
    "\n",
    "#set some privacy settings\n",
    "fp.set_preference( \"places.history.enabled\", False )\n",
    "fp.set_preference( \"privacy.clearOnShutdown.offlineApps\", True )\n",
    "fp.set_preference( \"privacy.clearOnShutdown.passwords\", True )\n",
    "fp.set_preference( \"privacy.clearOnShutdown.siteSettings\", True )\n",
    "fp.set_preference( \"privacy.sanitize.sanitizeOnShutdown\", True )\n",
    "fp.set_preference( \"signon.rememberSignons\", False )\n",
    "fp.set_preference( \"network.cookie.lifetimePolicy\", 2 )\n",
    "fp.set_preference( \"network.dns.disablePrefetch\", True )\n",
    "fp.set_preference( \"network.http.sendRefererHeader\", 0 )\n",
    "\n",
    "#if you're really hardcore about your security\n",
    "#js can be used to reveal your true i.p.\n",
    "fp.set_preference( \"javascript.enabled\", False )\n",
    "\n",
    "#get a huge speed increase by not downloading images\n",
    "fp.set_preference( \"permissions.default.image\", 2 )"
   ]
  },
  {
   "cell_type": "code",
   "execution_count": 2,
   "metadata": {
    "collapsed": false
   },
   "outputs": [],
   "source": [
    "from selenium import webdriver\n",
    "from selenium.webdriver.chrome.options import Options\n",
    "import zipfile\n",
    "\n",
    "manifest_json = \"\"\"\n",
    "{\n",
    "    \"version\": \"1.0.0\",\n",
    "    \"manifest_version\": 2,\n",
    "    \"name\": \"Chrome Proxy\",\n",
    "    \"permissions\": [\n",
    "        \"proxy\",\n",
    "        \"tabs\",\n",
    "        \"unlimitedStorage\",\n",
    "        \"storage\",\n",
    "        \"<all_urls>\",\n",
    "        \"webRequest\",\n",
    "        \"webRequestBlocking\"\n",
    "    ],\n",
    "    \"background\": {\n",
    "        \"scripts\": [\"background.js\"]\n",
    "    },\n",
    "    \"minimum_chrome_version\":\"22.0.0\"\n",
    "}\n",
    "\"\"\"\n",
    "\n",
    "background_js = \"\"\"\n",
    "var config = {\n",
    "        mode: \"fixed_servers\",\n",
    "        rules: {\n",
    "          singleProxy: {\n",
    "            scheme: \"http\",\n",
    "            host: \"23.19.51.245\",\n",
    "            port: parseInt(40791)\n",
    "          },\n",
    "          bypassList: [\"foobar.com\"]\n",
    "        }\n",
    "      };\n",
    "\n",
    "chrome.proxy.settings.set({value: config, scope: \"regular\"}, function() {});\n",
    "\n",
    "function callbackFn(details) {\n",
    "    return {\n",
    "        authCredentials: {\n",
    "            username: \"<<USERID>>\",\n",
    "            password: \"<<PASSWORD>>\"\n",
    "        }\n",
    "    };\n",
    "}\n",
    "\n",
    "chrome.webRequest.onAuthRequired.addListener(\n",
    "            callbackFn,\n",
    "            {urls: [\"<all_urls>\"]},\n",
    "            ['blocking']\n",
    ");\n",
    "\"\"\"\n",
    "\n",
    "\n",
    "pluginfile = 'proxy_auth_plugin.zip'\n",
    "\n",
    "with zipfile.ZipFile(pluginfile, 'w') as zp:\n",
    "    zp.writestr(\"manifest.json\", manifest_json)\n",
    "    zp.writestr(\"background.js\", background_js)\n",
    "\n",
    "co = Options()\n",
    "co.add_argument(\"--start-maximized\")\n",
    "co.add_argument('--dns-prefetch-disable')\n",
    "#co.add_argument('--disable-extensions')\n",
    "co.add_extension(pluginfile)"
   ]
  },
  {
   "cell_type": "code",
   "execution_count": 17,
   "metadata": {
    "collapsed": false
   },
   "outputs": [],
   "source": [
    "driver = webdriver.Chrome(chrome_options=co)\n",
    "\n",
    "#driver = webdriver.Firefox(fp)"
   ]
  },
  {
   "cell_type": "code",
   "execution_count": 18,
   "metadata": {
    "collapsed": false
   },
   "outputs": [
    {
     "name": "stdout",
     "output_type": "stream",
     "text": [
      "https://www.cycletrader.com/listing/2001-Harley-Davidson-ELECTRA-GLIDE-ULTRA-CLASSIC-119866161\n"
     ]
    }
   ],
   "source": [
    "from random import randint\n",
    "\n",
    "pageUrl = seen_urls_array[randint(0,len(seen_urls_array)-1)]\n",
    "print(pageUrl)"
   ]
  },
  {
   "cell_type": "code",
   "execution_count": 19,
   "metadata": {
    "collapsed": true
   },
   "outputs": [],
   "source": [
    "import time\n",
    "\n",
    "# set timeout information\n",
    "driver.set_page_load_timeout(50)\n",
    "\n",
    "finished = 0\n",
    "fails = 0\n",
    "while finished == 0 and fails < 8:\n",
    "    try:\n",
    "        driver.get(pageUrl)\n",
    "        finished = 1\n",
    "    except Exception as e:\n",
    "        print(str(e))\n",
    "        fails = fails + 1\n",
    "        time.sleep(5)"
   ]
  },
  {
   "cell_type": "code",
   "execution_count": 20,
   "metadata": {
    "collapsed": false
   },
   "outputs": [
    {
     "data": {
      "text/plain": [
       "True"
      ]
     },
     "execution_count": 20,
     "metadata": {},
     "output_type": "execute_result"
    }
   ],
   "source": [
    "from selenium.webdriver.common.by import By\n",
    "from selenium.webdriver.support.ui import WebDriverWait\n",
    "from selenium.webdriver.support import expected_conditions as EC\n",
    "\n",
    "try:\n",
    "    buttonCss = \"div.seller-info-telephone > button\"\n",
    "    \n",
    "    # Wait for button to show up\n",
    "    buttonTag = WebDriverWait(driver, 5).until(\n",
    "        EC.presence_of_element_located((By.CSS_SELECTOR, buttonCss))\n",
    "    )\n",
    "    \n",
    "    buttonTag.click()\n",
    "except Exception as e:\n",
    "    print(str(e))\n",
    "    try:\n",
    "        clickJs = \"document.querySelectorAll('\" + buttonCss + \"')[0].click()\"\n",
    "        driver.execute_script(clickJs)\n",
    "    except Exception as e:\n",
    "        print(str(e))\n",
    "driver.save_screenshot('cycletrader.png')"
   ]
  },
  {
   "cell_type": "code",
   "execution_count": 26,
   "metadata": {
    "collapsed": false
   },
   "outputs": [
    {
     "name": "stdout",
     "output_type": "stream",
     "text": [
      "<button data-dlrid=\"\" data-custid=\"8286316\" data-adid=\"119866161\" data-track=\"Show Phone Number Click\" class=\"btn btn-primary callButton hidden-xs hidden-md hidden-sm\"><i class=\"fa fa-phone\"></i> <span>Show Phone Number</span></button>\n",
      "&nbsp;-&nbsp;<i class=\"fa fa-phone\"></i> 1-561-719-4273\n",
      "561-719-4273\n"
     ]
    }
   ],
   "source": [
    "from selenium.webdriver.common.by import By\n",
    "from selenium.webdriver.support.ui import WebDriverWait\n",
    "from selenium.webdriver.support import expected_conditions as EC\n",
    "import re\n",
    "\n",
    "phoneRe = re.compile(r\"\\(?[0-9]{3}\\)?[-. ]?[0-9]{3}[-. ]?[0-9]{4}\")\n",
    "\n",
    "#<div class=\"seller-info-telephone\">&nbsp;-&nbsp;<i class=\"fa fa-phone\"></i> 1-509-366-1185</div>\n",
    "phoneCss = 'div.sellerOverview > div.seller-info-telephone'\n",
    "\n",
    "# Wait for button to disappear\n",
    "print(driver.find_element_by_css_selector(buttonCss).get_attribute('outerHTML'))\n",
    "WebDriverWait(driver, 30).until_not(\n",
    "    EC.visibility_of_element_located((By.CSS_SELECTOR, buttonCss))\n",
    ")\n",
    "\n",
    "phoneHTML = driver.find_element_by_css_selector(phoneCss).get_attribute('innerHTML')\n",
    "print(phoneHTML)\n",
    "match = phoneRe.search(phoneHTML)\n",
    "if match:\n",
    "    phone = match.group()\n",
    "else:\n",
    "    phone = \"\"\n",
    "print(phone)"
   ]
  },
  {
   "cell_type": "code",
   "execution_count": 27,
   "metadata": {
    "collapsed": false
   },
   "outputs": [
    {
     "name": "stdout",
     "output_type": "stream",
     "text": [
      "2001 HARLEY-DAVIDSON ELECTRA GLIDE ULTRA CLASSIC\n",
      "$7,199\n"
     ]
    }
   ],
   "source": [
    "try:\n",
    "\n",
    "    model = driver.find_element_by_css_selector(\"div.detail-title.lfloat > h1\").text.strip()\n",
    "    if len(model):\n",
    "        model = re.sub(r'\\s+', ' ', model)\n",
    "    else:\n",
    "        model = \"Unknown\"\n",
    "    print(model)\n",
    "\n",
    "    price = driver.find_element_by_css_selector(\"div.detail-price.rfloat > h2 > span\").text.strip()\n",
    "    if not len(price):\n",
    "        price = \"Unknown\"\n",
    "    print(price)\n",
    "\n",
    "except Exception as e:\n",
    "    print(str(e))\n",
    "finally:\n",
    "    driver.quit()"
   ]
  },
  {
   "cell_type": "code",
   "execution_count": 28,
   "metadata": {
    "collapsed": false
   },
   "outputs": [
    {
     "name": "stdout",
     "output_type": "stream",
     "text": [
      "561-719-4273\n"
     ]
    }
   ],
   "source": [
    "import time\n",
    "import re\n",
    "from selenium.webdriver.common.by import By\n",
    "from selenium.webdriver.support.ui import WebDriverWait\n",
    "from selenium.webdriver.support import expected_conditions as EC\n",
    "\n",
    "phoneRe = re.compile(r\"\\(?[0-9]{3}\\)?[-. ]?[0-9]{3}[-. ]?[0-9]{4}\")\n",
    "driver = webdriver.Chrome(chrome_options=co)\n",
    "\n",
    "# Set timeout information\n",
    "driver.set_page_load_timeout(50)\n",
    "\n",
    "# Bring up the page\n",
    "finished = 0\n",
    "fails = 0\n",
    "while finished == 0 and fails < 8:\n",
    "    try:\n",
    "        driver.get(pageUrl)\n",
    "        finished = 1\n",
    "    except Exception as e:\n",
    "        print(str(e))\n",
    "        fails = fails + 1\n",
    "        time.sleep(5)\n",
    "\n",
    "# Click the phone button\n",
    "try:\n",
    "    buttonCss = \"div.seller-info-telephone > button\"\n",
    "    \n",
    "    # Wait for button to show up\n",
    "    buttonTag = WebDriverWait(driver, 5).until(\n",
    "        EC.presence_of_element_located((By.CSS_SELECTOR, buttonCss))\n",
    "    )\n",
    "    \n",
    "    buttonTag.click()\n",
    "except Exception as e:\n",
    "    print(str(e))\n",
    "\n",
    "# Get the phone number\n",
    "phoneCss = 'div.sellerOverview > div.seller-info-telephone'\n",
    "\n",
    "# Wait for button to disappear\n",
    "WebDriverWait(driver, 30).until_not(\n",
    "    EC.visibility_of_element_located((By.CSS_SELECTOR, buttonCss))\n",
    ")\n",
    "\n",
    "phoneHTML = driver.find_element_by_css_selector(phoneCss).get_attribute('innerHTML')\n",
    "match = phoneRe.search(phoneHTML)\n",
    "if match:\n",
    "    phone = match.group()\n",
    "else:\n",
    "    phone = \"\"\n",
    "print(phone)\n",
    "\n",
    "if len(phone):\n",
    "\n",
    "    model = driver.find_element_by_css_selector(\"div.detail-title.lfloat > h1\").text.strip()\n",
    "    if len(model):\n",
    "        model = re.sub(r'\\s+', ' ', model)\n",
    "    else:\n",
    "        model = \"Unknown\"\n",
    "    #print(model)\n",
    "\n",
    "    price = driver.find_element_by_css_selector(\"div.detail-price.rfloat > h2 > span\").text.strip()\n",
    "    if not len(price):\n",
    "        price = \"Unknown\"\n",
    "    #print(price)\n",
    "\n",
    "    bigFile = open('cycletrader.txt', 'a', encoding='utf-8')\n",
    "    bigFile.write(model + '\\t' + price + '\\t' + phone + '\\n')\n",
    "    bigFile.close()\n",
    "\n",
    "else:\n",
    "    print(phoneHTML)\n",
    "    driver.save_screenshot('cycletrader.png')"
   ]
  },
  {
   "cell_type": "code",
   "execution_count": 29,
   "metadata": {
    "collapsed": true
   },
   "outputs": [],
   "source": [
    "driver.quit()"
   ]
  },
  {
   "cell_type": "code",
   "execution_count": 30,
   "metadata": {
    "collapsed": false
   },
   "outputs": [
    {
     "name": "stdout",
     "output_type": "stream",
     "text": [
      "561-719-4273\n"
     ]
    }
   ],
   "source": [
    "import time\n",
    "import re\n",
    "from selenium.webdriver.common.by import By\n",
    "from selenium.webdriver.support.ui import WebDriverWait\n",
    "from selenium.webdriver.support import expected_conditions as EC\n",
    "\n",
    "phoneRe = re.compile(r\"\\(?[0-9]{3}\\)?[-. ]?[0-9]{3}[-. ]?[0-9]{4}\")\n",
    "try:\n",
    "    driver = webdriver.Chrome(chrome_options=co)\n",
    "\n",
    "    # Set timeout information\n",
    "    driver.set_page_load_timeout(50)\n",
    "\n",
    "    # Bring up the page\n",
    "    finished = 0\n",
    "    fails = 0\n",
    "    while finished == 0 and fails < 8:\n",
    "        try:\n",
    "            driver.get(pageUrl)\n",
    "            finished = 1\n",
    "        except Exception as e:\n",
    "            print(str(e))\n",
    "            fails = fails + 1\n",
    "            time.sleep(5)\n",
    "\n",
    "    # Click the phone button\n",
    "    try:\n",
    "        buttonCss = \"div.seller-info-telephone > button\"\n",
    "\n",
    "        # Wait for button to show up\n",
    "        buttonTag = WebDriverWait(driver, 5).until(\n",
    "            EC.presence_of_element_located((By.CSS_SELECTOR, buttonCss))\n",
    "        )\n",
    "\n",
    "        buttonTag.click()\n",
    "    except Exception as e:\n",
    "        print(str(e))\n",
    "\n",
    "    # Get the phone number\n",
    "    phoneCss = 'div.sellerOverview > div.seller-info-telephone'\n",
    "\n",
    "    # Wait for button to disappear\n",
    "    WebDriverWait(driver, 30).until_not(\n",
    "        EC.visibility_of_element_located((By.CSS_SELECTOR, buttonCss))\n",
    "    )\n",
    "\n",
    "    phoneHTML = driver.find_element_by_css_selector(phoneCss).get_attribute('innerHTML')\n",
    "    match = phoneRe.search(phoneHTML)\n",
    "    if match:\n",
    "        phone = match.group()\n",
    "    else:\n",
    "        phone = \"\"\n",
    "    #print(phone)\n",
    "\n",
    "    if len(phone):\n",
    "\n",
    "        model = driver.find_element_by_css_selector(\"div.detail-title.lfloat > h1\").text.strip()\n",
    "        if len(model):\n",
    "            model = re.sub(r'\\s+', ' ', model)\n",
    "        else:\n",
    "            model = \"Unknown\"\n",
    "        #print(model)\n",
    "\n",
    "        price = driver.find_element_by_css_selector(\"div.detail-price.rfloat > h2 > span\").text.strip()\n",
    "        if not len(price):\n",
    "            price = \"Unknown\"\n",
    "        #print(price)\n",
    "\n",
    "        bigFile = open('cycletrader.txt', 'a', encoding='utf-8')\n",
    "        bigFile.write(model + '\\t' + price + '\\t' + phone + '\\n')\n",
    "        bigFile.close()\n",
    "\n",
    "    else:\n",
    "        print(phoneHTML)\n",
    "        driver.save_screenshot('cycletrader.png')\n",
    "\n",
    "except Exception as e:\n",
    "    print(str(e))\n",
    "finally:\n",
    "    driver.quit()"
   ]
  },
  {
   "cell_type": "code",
   "execution_count": 5,
   "metadata": {
    "collapsed": false
   },
   "outputs": [
    {
     "name": "stdout",
     "output_type": "stream",
     "text": [
      " <button data-dlrid=\"\" data-custid=\"10507682\" data-adid=\"120804644\" data-track=\"Show Phone Number Click\" class=\"btn btn-primary callButton hidden-xs hidden-md hidden-sm\"><i class=\"fa fa-phone\"></i> <span>Show Phone Number</span></button> \n",
      " <button data-dlrid=\"\" data-custid=\"10536484\" data-adid=\"120874933\" data-track=\"Show Phone Number Click\" class=\"btn btn-primary callButton hidden-xs hidden-md hidden-sm\"><i class=\"fa fa-phone\"></i> <span>Show Phone Number</span></button> \n"
     ]
    },
    {
     "ename": "KeyboardInterrupt",
     "evalue": "",
     "output_type": "error",
     "traceback": [
      "\u001b[0;31m---------------------------------------------------------------------------\u001b[0m",
      "\u001b[0;31mtimeout\u001b[0m                                   Traceback (most recent call last)",
      "\u001b[0;32mC:\\Users\\Dave\\Anaconda3\\lib\\socket.py\u001b[0m in \u001b[0;36mcreate_connection\u001b[0;34m(address, timeout, source_address)\u001b[0m\n\u001b[1;32m    701\u001b[0m                 \u001b[0msock\u001b[0m\u001b[1;33m.\u001b[0m\u001b[0mbind\u001b[0m\u001b[1;33m(\u001b[0m\u001b[0msource_address\u001b[0m\u001b[1;33m)\u001b[0m\u001b[1;33m\u001b[0m\u001b[0m\n\u001b[0;32m--> 702\u001b[0;31m             \u001b[0msock\u001b[0m\u001b[1;33m.\u001b[0m\u001b[0mconnect\u001b[0m\u001b[1;33m(\u001b[0m\u001b[0msa\u001b[0m\u001b[1;33m)\u001b[0m\u001b[1;33m\u001b[0m\u001b[0m\n\u001b[0m\u001b[1;32m    703\u001b[0m             \u001b[1;32mreturn\u001b[0m \u001b[0msock\u001b[0m\u001b[1;33m\u001b[0m\u001b[0m\n",
      "\u001b[0;31mtimeout\u001b[0m: timed out",
      "\nDuring handling of the above exception, another exception occurred:\n",
      "\u001b[0;31mKeyboardInterrupt\u001b[0m                         Traceback (most recent call last)",
      "\u001b[0;32m<ipython-input-5-49ac6e58f396>\u001b[0m in \u001b[0;36m<module>\u001b[0;34m()\u001b[0m\n\u001b[1;32m     66\u001b[0m         \u001b[0mprint\u001b[0m\u001b[1;33m(\u001b[0m\u001b[0mstr\u001b[0m\u001b[1;33m(\u001b[0m\u001b[0me\u001b[0m\u001b[1;33m)\u001b[0m\u001b[1;33m)\u001b[0m\u001b[1;33m\u001b[0m\u001b[0m\n\u001b[1;32m     67\u001b[0m     \u001b[1;32mfinally\u001b[0m\u001b[1;33m:\u001b[0m\u001b[1;33m\u001b[0m\u001b[0m\n\u001b[0;32m---> 68\u001b[0;31m         \u001b[0mdriver\u001b[0m\u001b[1;33m.\u001b[0m\u001b[0mquit\u001b[0m\u001b[1;33m(\u001b[0m\u001b[1;33m)\u001b[0m\u001b[1;33m\u001b[0m\u001b[0m\n\u001b[0m",
      "\u001b[0;32mC:\\Users\\Dave\\Anaconda3\\lib\\site-packages\\selenium\\webdriver\\chrome\\webdriver.py\u001b[0m in \u001b[0;36mquit\u001b[0;34m(self)\u001b[0m\n\u001b[1;32m     88\u001b[0m             \u001b[1;32mpass\u001b[0m\u001b[1;33m\u001b[0m\u001b[0m\n\u001b[1;32m     89\u001b[0m         \u001b[1;32mfinally\u001b[0m\u001b[1;33m:\u001b[0m\u001b[1;33m\u001b[0m\u001b[0m\n\u001b[0;32m---> 90\u001b[0;31m             \u001b[0mself\u001b[0m\u001b[1;33m.\u001b[0m\u001b[0mservice\u001b[0m\u001b[1;33m.\u001b[0m\u001b[0mstop\u001b[0m\u001b[1;33m(\u001b[0m\u001b[1;33m)\u001b[0m\u001b[1;33m\u001b[0m\u001b[0m\n\u001b[0m\u001b[1;32m     91\u001b[0m \u001b[1;33m\u001b[0m\u001b[0m\n\u001b[1;32m     92\u001b[0m     \u001b[1;32mdef\u001b[0m \u001b[0mcreate_options\u001b[0m\u001b[1;33m(\u001b[0m\u001b[0mself\u001b[0m\u001b[1;33m)\u001b[0m\u001b[1;33m:\u001b[0m\u001b[1;33m\u001b[0m\u001b[0m\n",
      "\u001b[0;32mC:\\Users\\Dave\\Anaconda3\\lib\\site-packages\\selenium\\webdriver\\common\\service.py\u001b[0m in \u001b[0;36mstop\u001b[0;34m(self)\u001b[0m\n\u001b[1;32m    147\u001b[0m \u001b[1;33m\u001b[0m\u001b[0m\n\u001b[1;32m    148\u001b[0m         \u001b[1;32mtry\u001b[0m\u001b[1;33m:\u001b[0m\u001b[1;33m\u001b[0m\u001b[0m\n\u001b[0;32m--> 149\u001b[0;31m             \u001b[0mself\u001b[0m\u001b[1;33m.\u001b[0m\u001b[0msend_remote_shutdown_command\u001b[0m\u001b[1;33m(\u001b[0m\u001b[1;33m)\u001b[0m\u001b[1;33m\u001b[0m\u001b[0m\n\u001b[0m\u001b[1;32m    150\u001b[0m         \u001b[1;32mexcept\u001b[0m \u001b[0mTypeError\u001b[0m\u001b[1;33m:\u001b[0m\u001b[1;33m\u001b[0m\u001b[0m\n\u001b[1;32m    151\u001b[0m             \u001b[1;32mpass\u001b[0m\u001b[1;33m\u001b[0m\u001b[0m\n",
      "\u001b[0;32mC:\\Users\\Dave\\Anaconda3\\lib\\site-packages\\selenium\\webdriver\\common\\service.py\u001b[0m in \u001b[0;36msend_remote_shutdown_command\u001b[0;34m(self)\u001b[0m\n\u001b[1;32m    127\u001b[0m             \u001b[1;32mreturn\u001b[0m\u001b[1;33m\u001b[0m\u001b[0m\n\u001b[1;32m    128\u001b[0m         \u001b[0mcount\u001b[0m \u001b[1;33m=\u001b[0m \u001b[1;36m0\u001b[0m\u001b[1;33m\u001b[0m\u001b[0m\n\u001b[0;32m--> 129\u001b[0;31m         \u001b[1;32mwhile\u001b[0m \u001b[0mself\u001b[0m\u001b[1;33m.\u001b[0m\u001b[0mis_connectable\u001b[0m\u001b[1;33m(\u001b[0m\u001b[1;33m)\u001b[0m\u001b[1;33m:\u001b[0m\u001b[1;33m\u001b[0m\u001b[0m\n\u001b[0m\u001b[1;32m    130\u001b[0m             \u001b[1;32mif\u001b[0m \u001b[0mcount\u001b[0m \u001b[1;33m==\u001b[0m \u001b[1;36m30\u001b[0m\u001b[1;33m:\u001b[0m\u001b[1;33m\u001b[0m\u001b[0m\n\u001b[1;32m    131\u001b[0m                 \u001b[1;32mbreak\u001b[0m\u001b[1;33m\u001b[0m\u001b[0m\n",
      "\u001b[0;32mC:\\Users\\Dave\\Anaconda3\\lib\\site-packages\\selenium\\webdriver\\common\\service.py\u001b[0m in \u001b[0;36mis_connectable\u001b[0;34m(self)\u001b[0m\n\u001b[1;32m    111\u001b[0m \u001b[1;33m\u001b[0m\u001b[0m\n\u001b[1;32m    112\u001b[0m     \u001b[1;32mdef\u001b[0m \u001b[0mis_connectable\u001b[0m\u001b[1;33m(\u001b[0m\u001b[0mself\u001b[0m\u001b[1;33m)\u001b[0m\u001b[1;33m:\u001b[0m\u001b[1;33m\u001b[0m\u001b[0m\n\u001b[0;32m--> 113\u001b[0;31m         \u001b[1;32mreturn\u001b[0m \u001b[0mutils\u001b[0m\u001b[1;33m.\u001b[0m\u001b[0mis_connectable\u001b[0m\u001b[1;33m(\u001b[0m\u001b[0mself\u001b[0m\u001b[1;33m.\u001b[0m\u001b[0mport\u001b[0m\u001b[1;33m)\u001b[0m\u001b[1;33m\u001b[0m\u001b[0m\n\u001b[0m\u001b[1;32m    114\u001b[0m \u001b[1;33m\u001b[0m\u001b[0m\n\u001b[1;32m    115\u001b[0m     \u001b[1;32mdef\u001b[0m \u001b[0msend_remote_shutdown_command\u001b[0m\u001b[1;33m(\u001b[0m\u001b[0mself\u001b[0m\u001b[1;33m)\u001b[0m\u001b[1;33m:\u001b[0m\u001b[1;33m\u001b[0m\u001b[0m\n",
      "\u001b[0;32mC:\\Users\\Dave\\Anaconda3\\lib\\site-packages\\selenium\\webdriver\\common\\utils.py\u001b[0m in \u001b[0;36mis_connectable\u001b[0;34m(port, host)\u001b[0m\n\u001b[1;32m    104\u001b[0m     \u001b[0msocket_\u001b[0m \u001b[1;33m=\u001b[0m \u001b[1;32mNone\u001b[0m\u001b[1;33m\u001b[0m\u001b[0m\n\u001b[1;32m    105\u001b[0m     \u001b[1;32mtry\u001b[0m\u001b[1;33m:\u001b[0m\u001b[1;33m\u001b[0m\u001b[0m\n\u001b[0;32m--> 106\u001b[0;31m         \u001b[0msocket_\u001b[0m \u001b[1;33m=\u001b[0m \u001b[0msocket\u001b[0m\u001b[1;33m.\u001b[0m\u001b[0mcreate_connection\u001b[0m\u001b[1;33m(\u001b[0m\u001b[1;33m(\u001b[0m\u001b[0mhost\u001b[0m\u001b[1;33m,\u001b[0m \u001b[0mport\u001b[0m\u001b[1;33m)\u001b[0m\u001b[1;33m,\u001b[0m \u001b[1;36m1\u001b[0m\u001b[1;33m)\u001b[0m\u001b[1;33m\u001b[0m\u001b[0m\n\u001b[0m\u001b[1;32m    107\u001b[0m         \u001b[0mresult\u001b[0m \u001b[1;33m=\u001b[0m \u001b[1;32mTrue\u001b[0m\u001b[1;33m\u001b[0m\u001b[0m\n\u001b[1;32m    108\u001b[0m     \u001b[1;32mexcept\u001b[0m \u001b[0msocket\u001b[0m\u001b[1;33m.\u001b[0m\u001b[0merror\u001b[0m\u001b[1;33m:\u001b[0m\u001b[1;33m\u001b[0m\u001b[0m\n",
      "\u001b[0;32mC:\\Users\\Dave\\Anaconda3\\lib\\socket.py\u001b[0m in \u001b[0;36mcreate_connection\u001b[0;34m(address, timeout, source_address)\u001b[0m\n\u001b[1;32m    700\u001b[0m             \u001b[1;32mif\u001b[0m \u001b[0msource_address\u001b[0m\u001b[1;33m:\u001b[0m\u001b[1;33m\u001b[0m\u001b[0m\n\u001b[1;32m    701\u001b[0m                 \u001b[0msock\u001b[0m\u001b[1;33m.\u001b[0m\u001b[0mbind\u001b[0m\u001b[1;33m(\u001b[0m\u001b[0msource_address\u001b[0m\u001b[1;33m)\u001b[0m\u001b[1;33m\u001b[0m\u001b[0m\n\u001b[0;32m--> 702\u001b[0;31m             \u001b[0msock\u001b[0m\u001b[1;33m.\u001b[0m\u001b[0mconnect\u001b[0m\u001b[1;33m(\u001b[0m\u001b[0msa\u001b[0m\u001b[1;33m)\u001b[0m\u001b[1;33m\u001b[0m\u001b[0m\n\u001b[0m\u001b[1;32m    703\u001b[0m             \u001b[1;32mreturn\u001b[0m \u001b[0msock\u001b[0m\u001b[1;33m\u001b[0m\u001b[0m\n\u001b[1;32m    704\u001b[0m \u001b[1;33m\u001b[0m\u001b[0m\n",
      "\u001b[0;31mKeyboardInterrupt\u001b[0m: "
     ]
    }
   ],
   "source": [
    "import time\n",
    "import re\n",
    "from selenium.webdriver.common.by import By\n",
    "from selenium.webdriver.support.ui import WebDriverWait\n",
    "from selenium.webdriver.support import expected_conditions as EC\n",
    "\n",
    "phoneRe = re.compile(r\"\\(?[0-9]{3}\\)?[-. ]?[0-9]{3}[-. ]?[0-9]{4}\")\n",
    "for pageUrl in seen_urls_array:\n",
    "    try:\n",
    "        driver = webdriver.Chrome(chrome_options=co)\n",
    "\n",
    "        # Set timeout information\n",
    "        driver.set_page_load_timeout(50)\n",
    "\n",
    "        # Bring up the page\n",
    "        finished = 0\n",
    "        fails = 0\n",
    "        while finished == 0 and fails < 8:\n",
    "            try:\n",
    "                driver.get(pageUrl)\n",
    "                finished = 1\n",
    "            except Exception as e:\n",
    "                print(str(e))\n",
    "                fails = fails + 1\n",
    "                time.sleep(5)\n",
    "\n",
    "        # Click the phone button\n",
    "        try:\n",
    "            buttonCss = \"div.seller-info-telephone > button\"\n",
    "\n",
    "            # Wait for button to show up\n",
    "            buttonTag = WebDriverWait(driver, 5).until(\n",
    "                EC.presence_of_element_located((By.CSS_SELECTOR, buttonCss))\n",
    "            )\n",
    "\n",
    "            buttonTag.click()\n",
    "        except Exception as e:\n",
    "            print(str(e))\n",
    "\n",
    "        # Get the phone number\n",
    "        phoneCss = 'div.sellerOverview > div.seller-info-telephone'\n",
    "\n",
    "        # Wait for button to disappear\n",
    "        WebDriverWait(driver, 30).until_not(\n",
    "            EC.visibility_of_element_located((By.CSS_SELECTOR, buttonCss))\n",
    "        )\n",
    "\n",
    "        phoneHTML = driver.find_element_by_css_selector(phoneCss).get_attribute('innerHTML')\n",
    "        match = phoneRe.search(phoneHTML)\n",
    "        if match:\n",
    "            phone = match.group()\n",
    "        else:\n",
    "            phone = \"\"\n",
    "        #print(phone)\n",
    "\n",
    "        if len(phone):\n",
    "\n",
    "            model = driver.find_element_by_css_selector(\"div.detail-title.lfloat > h1\").text.strip()\n",
    "            if len(model):\n",
    "                model = re.sub(r'\\s+', ' ', model)\n",
    "            else:\n",
    "                model = \"Unknown\"\n",
    "            #print(model)\n",
    "\n",
    "            price = driver.find_element_by_css_selector(\"div.detail-price.rfloat > h2 > span\").text.strip()\n",
    "            if not len(price):\n",
    "                price = \"Unknown\"\n",
    "            #print(price)\n",
    "\n",
    "            bigFile = open('cycletrader.txt', 'a', encoding='utf-8')\n",
    "            bigFile.write(model + '\\t' + price + '\\t' + phone + '\\n')\n",
    "            bigFile.close()\n",
    "\n",
    "        else:\n",
    "            print(phoneHTML)\n",
    "            driver.save_screenshot('cycletrader.png')\n",
    "\n",
    "    except Exception as e:\n",
    "        print(str(e))\n",
    "    finally:\n",
    "        driver.quit()"
   ]
  },
  {
   "cell_type": "code",
   "execution_count": null,
   "metadata": {
    "collapsed": true
   },
   "outputs": [],
   "source": []
  }
 ],
 "metadata": {
  "anaconda-cloud": {},
  "kernelspec": {
   "display_name": "Python [conda root]",
   "language": "python",
   "name": "conda-root-py"
  },
  "language_info": {
   "codemirror_mode": {
    "name": "ipython",
    "version": 3
   },
   "file_extension": ".py",
   "mimetype": "text/x-python",
   "name": "python",
   "nbconvert_exporter": "python",
   "pygments_lexer": "ipython3",
   "version": "3.5.2"
  }
 },
 "nbformat": 4,
 "nbformat_minor": 1
}
