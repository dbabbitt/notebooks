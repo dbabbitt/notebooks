{
 "cells": [
  {
   "cell_type": "code",
   "execution_count": 2,
   "metadata": {
    "collapsed": false
   },
   "outputs": [
    {
     "name": "stdout",
     "output_type": "stream",
     "text": [
      "https://www.rvtrader.com/search-results?sort=featured%3Aasc&radius=150&seller_type=NT%2CCSNT%2CPM&layoutView=listView\n"
     ]
    }
   ],
   "source": [
    "siteUrl = \"https://www.rvtrader.com/search-results\"\n",
    "siteUrl = \"?\".join([siteUrl, \"sort=featured%3Aasc\"])\n",
    "siteUrl = \"&\".join([siteUrl, \"radius=150\"])\n",
    "siteUrl = \"&\".join([siteUrl, \"seller_type=NT%2CCSNT%2CPM\"])\n",
    "siteUrl = \"&\".join([siteUrl, \"layoutView=listView\"])\n",
    "print(siteUrl)\n",
    "\n",
    "proxies = {'http': 'http://<<USERID>>:<<PASSWORD>>@23.19.51.245:40791/'}"
   ]
  },
  {
   "cell_type": "code",
   "execution_count": 4,
   "metadata": {
    "collapsed": false
   },
   "outputs": [
    {
     "name": "stdout",
     "output_type": "stream",
     "text": [
      "218\n"
     ]
    }
   ],
   "source": [
    "import requests\n",
    "from bs4 import BeautifulSoup\n",
    "\n",
    "# Retrieve the page with tag results and set it up to be scraped\n",
    "sitePage = requests.get(url=siteUrl, proxies=proxies)\n",
    "siteSoup = BeautifulSoup(sitePage.content, 'lxml')\n",
    "\n",
    "#<a class=\"btn pageJump btn-inverse\" data-track=\"Search - Pagination - Bottom - Last Link\" data-page=\"218\"\n",
    "#>Last<span class=\"hidden-xs hidden-md\"> Page</span></a>\n",
    "siteLinks = siteSoup.find_all('a', class_='btn pageJump btn-inverse')\n",
    "\n",
    "# Get the max page link\n",
    "max_page = 0\n",
    "if len(siteLinks):\n",
    "    max_page = int(siteLinks[0]['data-page'])\n",
    "print(max_page)"
   ]
  },
  {
   "cell_type": "code",
   "execution_count": 5,
   "metadata": {
    "collapsed": false
   },
   "outputs": [
    {
     "name": "stdout",
     "output_type": "stream",
     "text": [
      "https://www.rvtrader.com/search-results?sort=featured%3Aasc&radius=150&seller_type=NT%2CCSNT%2CPM&layoutView=listView&page=56\n",
      "Page 56 of 218 - New or Used RVs For Sale - Fleetwood, Airstream, Winnebago, Keystone, Forest River, Newmar - RVTrader.com\n"
     ]
    }
   ],
   "source": [
    "from random import randint\n",
    "\n",
    "i = randint(1, max_page)\n",
    "tagUrl = \"&\".join([siteUrl, \"page=\"+str(i)])\n",
    "print(tagUrl)\n",
    "\n",
    "tagPage = requests.get(url=tagUrl, proxies=proxies)\n",
    "tagSoup = BeautifulSoup(tagPage.content, 'lxml')\n",
    "\n",
    "# Get the title of the page to prove we are progressing\n",
    "tagTitle = tagSoup.select(\"head > title\")\n",
    "titleString = tagTitle[0].get_text().strip()\n",
    "print(titleString)"
   ]
  },
  {
   "cell_type": "code",
   "execution_count": 7,
   "metadata": {
    "collapsed": false
   },
   "outputs": [
    {
     "name": "stdout",
     "output_type": "stream",
     "text": [
      "https://www.rvtrader.com/listing/2011-Tiffin-Motorhomes-ALLEGRO-RED-38QBA-120819449\n",
      "https://www.rvtrader.com/listing/2011-Gulf-Stream-Endura-Max-MAX-3912-118814062\n",
      "https://www.rvtrader.com/listing/2011-Jayco-GREYHAWK-31FS-120750297\n",
      "https://www.rvtrader.com/listing/2011-American-Coach-AMERICAN-EAGLE-117686630\n",
      "https://www.rvtrader.com/listing/2011-Tiffin-Motorhomes-Allegro-Bus-43QBP-117361402\n"
     ]
    }
   ],
   "source": [
    "import urllib.parse\n",
    "import re\n",
    "\n",
    "seen_urls_array = []\n",
    "\n",
    "#<a data-dlrid=\"\" data-custid=\"10372090\" data-adid=\"120364049\" data-track=\"Show Phone Number Click\" \n",
    "#class=\"callButton\"><i class=\"fa fa-phone\"></i> Show Phone Number</a>\n",
    "phoneLinks = tagSoup.select('a[data-track=\"Show Phone Number Click\"]')\n",
    "\n",
    "for phoneLink in phoneLinks:\n",
    "    \n",
    "    phoneDiv = phoneLink.parent.parent.parent.parent.parent\n",
    "    #print(phoneDiv)\n",
    "\n",
    "    # Get the links to the individual pages\n",
    "    pageLinks = phoneDiv.select('a[data-dlrid=\"private seller\"]')\n",
    "    for pageLink in pageLinks:\n",
    "        pageUrl = urllib.parse.urljoin(tagUrl, re.sub(' ', '%20', pageLink['href']))\n",
    "        if pageUrl not in seen_urls_array:\n",
    "            seen_urls_array.append(pageUrl)\n",
    "\n",
    "for pageUrl in seen_urls_array:\n",
    "    print(pageUrl)"
   ]
  },
  {
   "cell_type": "code",
   "execution_count": 8,
   "metadata": {
    "collapsed": false
   },
   "outputs": [
    {
     "name": "stdout",
     "output_type": "stream",
     "text": [
      "1236\n"
     ]
    }
   ],
   "source": [
    "seen_urls_array = []\n",
    "for i in range(1, max_page+1):\n",
    "    tagUrl = \"&\".join([siteUrl, \"page=\"+str(i)])\n",
    "    #print(tagUrl)\n",
    "\n",
    "    tagPage = requests.get(url=tagUrl, proxies=proxies)\n",
    "    tagSoup = BeautifulSoup(tagPage.content, 'lxml')\n",
    "\n",
    "    # Get the title of the page to prove we are progressing\n",
    "    tagTitle = tagSoup.select(\"head > title\")\n",
    "    titleString = tagTitle[0].get_text().strip()\n",
    "    #print(titleString)\n",
    "\n",
    "    phoneLinks = tagSoup.select('a[data-track=\"Show Phone Number Click\"]')\n",
    "    for phoneLink in phoneLinks:\n",
    "        phoneDiv = phoneLink.parent.parent.parent.parent.parent\n",
    "        #print(phoneDiv)\n",
    "\n",
    "        # Get the links to the individual pages\n",
    "        pageLinks = phoneDiv.select('a[data-dlrid=\"private seller\"]')\n",
    "        for pageLink in pageLinks:\n",
    "            pageUrl = urllib.parse.urljoin(tagUrl, re.sub(' ', '%20', pageLink['href']))\n",
    "            #print(pageUrl)\n",
    "            if pageUrl not in seen_urls_array:\n",
    "                seen_urls_array.append(pageUrl)\n",
    "    \n",
    "    # Destroy the tree when you're done working with it\n",
    "    tagSoup.decompose()\n",
    "\n",
    "# Show the number of individual page links you have\n",
    "print(len(seen_urls_array))"
   ]
  },
  {
   "cell_type": "code",
   "execution_count": 9,
   "metadata": {
    "collapsed": true
   },
   "outputs": [],
   "source": [
    "import pickle\n",
    "\n",
    "with open('rvtrader.pickle', 'wb') as handle:\n",
    "    pickle.dump(seen_urls_array, handle, protocol=pickle.HIGHEST_PROTOCOL)"
   ]
  },
  {
   "cell_type": "code",
   "execution_count": null,
   "metadata": {
    "collapsed": true
   },
   "outputs": [],
   "source": [
    "import pickle\n",
    "\n",
    "with open('rvtrader.pickle', 'rb') as handle:\n",
    "    seen_urls_array = pickle.load(handle)"
   ]
  },
  {
   "cell_type": "code",
   "execution_count": 10,
   "metadata": {
    "collapsed": true
   },
   "outputs": [],
   "source": [
    "from selenium import webdriver\n",
    "from base64 import b64encode\n",
    "\n",
    "proxy = {'host': '23.19.51.245', 'port': '40791', 'usr': '<<USERID>>', 'pwd': '<<PASSWORD>>'}\n",
    "# Retrieve the page with tag results and set it up to be scraped\n",
    "fp = webdriver.FirefoxProfile()\n",
    "fp.set_preference('network.proxy.type', 1)\n",
    "fp.set_preference('network.proxy.http', proxy['host'])\n",
    "fp.set_preference('network.proxy.http_port', int(proxy['port']))\n",
    "fp.set_preference('network.proxy.no_proxies_on', 'localhost, 127.0.0.1')\n",
    "fp.add_extension('closeproxy.xpi')\n",
    "credentials = '{usr}:{pwd}'.format(**proxy)\n",
    "credentials = b64encode(credentials.encode('ascii')).decode('utf-8')\n",
    "fp.set_preference('extensions.closeproxyauth.authtoken', credentials)\n",
    "\n",
    "#set some privacy settings\n",
    "fp.set_preference( \"places.history.enabled\", False )\n",
    "fp.set_preference( \"privacy.clearOnShutdown.offlineApps\", True )\n",
    "fp.set_preference( \"privacy.clearOnShutdown.passwords\", True )\n",
    "fp.set_preference( \"privacy.clearOnShutdown.siteSettings\", True )\n",
    "fp.set_preference( \"privacy.sanitize.sanitizeOnShutdown\", True )\n",
    "fp.set_preference( \"signon.rememberSignons\", False )\n",
    "fp.set_preference( \"network.cookie.lifetimePolicy\", 2 )\n",
    "fp.set_preference( \"network.dns.disablePrefetch\", True )\n",
    "fp.set_preference( \"network.http.sendRefererHeader\", 0 )\n",
    "\n",
    "#if you're really hardcore about your security\n",
    "#js can be used to reveal your true i.p.\n",
    "fp.set_preference( \"javascript.enabled\", False )\n",
    "\n",
    "#get a huge speed increase by not downloading images\n",
    "fp.set_preference( \"permissions.default.image\", 2 )"
   ]
  },
  {
   "cell_type": "code",
   "execution_count": 32,
   "metadata": {
    "collapsed": true
   },
   "outputs": [],
   "source": [
    "from selenium import webdriver\n",
    "from selenium.webdriver.chrome.options import Options\n",
    "import zipfile\n",
    "\n",
    "manifest_json = \"\"\"\n",
    "{\n",
    "    \"version\": \"1.0.0\",\n",
    "    \"manifest_version\": 2,\n",
    "    \"name\": \"Chrome Proxy\",\n",
    "    \"permissions\": [\n",
    "        \"proxy\",\n",
    "        \"tabs\",\n",
    "        \"unlimitedStorage\",\n",
    "        \"storage\",\n",
    "        \"<all_urls>\",\n",
    "        \"webRequest\",\n",
    "        \"webRequestBlocking\"\n",
    "    ],\n",
    "    \"background\": {\n",
    "        \"scripts\": [\"background.js\"]\n",
    "    },\n",
    "    \"minimum_chrome_version\":\"22.0.0\"\n",
    "}\n",
    "\"\"\"\n",
    "\n",
    "background_js = \"\"\"\n",
    "var config = {\n",
    "        mode: \"fixed_servers\",\n",
    "        rules: {\n",
    "          singleProxy: {\n",
    "            scheme: \"http\",\n",
    "            host: \"23.19.51.245\",\n",
    "            port: parseInt(40791)\n",
    "          },\n",
    "          bypassList: [\"foobar.com\"]\n",
    "        }\n",
    "      };\n",
    "\n",
    "chrome.proxy.settings.set({value: config, scope: \"regular\"}, function() {});\n",
    "\n",
    "function callbackFn(details) {\n",
    "    return {\n",
    "        authCredentials: {\n",
    "            username: \"<<USERID>>\",\n",
    "            password: \"<<PASSWORD>>\"\n",
    "        }\n",
    "    };\n",
    "}\n",
    "\n",
    "chrome.webRequest.onAuthRequired.addListener(\n",
    "            callbackFn,\n",
    "            {urls: [\"<all_urls>\"]},\n",
    "            ['blocking']\n",
    ");\n",
    "\"\"\"\n",
    "\n",
    "\n",
    "pluginfile = 'proxy_auth_plugin.zip'\n",
    "\n",
    "with zipfile.ZipFile(pluginfile, 'w') as zp:\n",
    "    zp.writestr(\"manifest.json\", manifest_json)\n",
    "    zp.writestr(\"background.js\", background_js)\n",
    "\n",
    "co = Options()\n",
    "co.add_argument(\"--start-maximized\")\n",
    "co.add_argument('--dns-prefetch-disable')\n",
    "#co.add_argument('--disable-extensions')\n",
    "co.add_extension(pluginfile)"
   ]
  },
  {
   "cell_type": "code",
   "execution_count": 33,
   "metadata": {
    "collapsed": true
   },
   "outputs": [],
   "source": [
    "driver = webdriver.Chrome(chrome_options=co)\n",
    "\n",
    "#driver = webdriver.Firefox(fp)"
   ]
  },
  {
   "cell_type": "code",
   "execution_count": 34,
   "metadata": {
    "collapsed": false
   },
   "outputs": [
    {
     "name": "stdout",
     "output_type": "stream",
     "text": [
      "https://www.rvtrader.com/listing/2014-Grand-Design-MOMENTUM-385TH-120038994\n"
     ]
    }
   ],
   "source": [
    "from random import randint\n",
    "\n",
    "pageUrl = seen_urls_array[randint(0,len(seen_urls_array)-1)]\n",
    "print(pageUrl)"
   ]
  },
  {
   "cell_type": "code",
   "execution_count": 35,
   "metadata": {
    "collapsed": false
   },
   "outputs": [],
   "source": [
    "import time\n",
    "\n",
    "# set timeout information\n",
    "driver.set_page_load_timeout(50)\n",
    "\n",
    "finished = 0\n",
    "fails = 0\n",
    "while finished == 0 and fails < 8:\n",
    "    try:\n",
    "        driver.get(pageUrl)\n",
    "        finished = 1\n",
    "    except Exception as e:\n",
    "        print(str(e))\n",
    "        fails = fails + 1\n",
    "        time.sleep(5)"
   ]
  },
  {
   "cell_type": "code",
   "execution_count": 31,
   "metadata": {
    "collapsed": true
   },
   "outputs": [],
   "source": [
    "driver.quit()"
   ]
  },
  {
   "cell_type": "code",
   "execution_count": 36,
   "metadata": {
    "collapsed": false
   },
   "outputs": [],
   "source": [
    "from selenium.webdriver.common.by import By\n",
    "from selenium.webdriver.support.ui import WebDriverWait\n",
    "from selenium.webdriver.support import expected_conditions as EC\n",
    "\n",
    "try:\n",
    "    buttonCss = \"div.seller-info-telephone > button\"\n",
    "    \n",
    "    # Wait for button to show up\n",
    "    buttonTag = WebDriverWait(driver, 10).until(\n",
    "        EC.presence_of_element_located((By.CSS_SELECTOR, buttonCss))\n",
    "    )\n",
    "    \n",
    "    buttonTag.click()\n",
    "except Exception as e:\n",
    "    print(str(e))\n",
    "#driver.save_screenshot('cycletrader.png')"
   ]
  },
  {
   "cell_type": "code",
   "execution_count": 37,
   "metadata": {
    "collapsed": false
   },
   "outputs": [
    {
     "name": "stdout",
     "output_type": "stream",
     "text": [
      "<button data-dlrid=\"\" data-custid=\"10273732\" data-adid=\"120038994\" data-track=\"Show Phone Number Click\" class=\"btn btn-primary callButton hidden-xs hidden-md hidden-sm\"><i class=\"fa fa-phone\"></i> <span>Show Phone Number</span></button>\n",
      "&nbsp;-&nbsp;<i class=\"fa fa-phone\"></i> 1-574-971-6834\n",
      "574-971-6834\n"
     ]
    }
   ],
   "source": [
    "from selenium.webdriver.common.by import By\n",
    "from selenium.webdriver.support.ui import WebDriverWait\n",
    "from selenium.webdriver.support import expected_conditions as EC\n",
    "import re\n",
    "\n",
    "phoneRe = re.compile(r\"\\(?[0-9]{3}\\)?[-. ]?[0-9]{3}[-. ]?[0-9]{4}\")\n",
    "\n",
    "#<div class=\"seller-info-telephone\">&nbsp;-&nbsp;<i class=\"fa fa-phone\"></i> 1-574-971-6834</div>\n",
    "phoneCss = 'div.sellerOverview > div.seller-info-telephone'\n",
    "\n",
    "# Wait for button to disappear\n",
    "#print(driver.find_element_by_css_selector(buttonCss).get_attribute('outerHTML'))\n",
    "WebDriverWait(driver, 30).until_not(\n",
    "    EC.visibility_of_element_located((By.CSS_SELECTOR, buttonCss))\n",
    ")\n",
    "\n",
    "phoneHTML = driver.find_element_by_css_selector(phoneCss).get_attribute('innerHTML')\n",
    "#print(phoneHTML)\n",
    "match = phoneRe.search(phoneHTML)\n",
    "if match:\n",
    "    phone = match.group()\n",
    "else:\n",
    "    phone = \"\"\n",
    "print(phone)"
   ]
  },
  {
   "cell_type": "code",
   "execution_count": 38,
   "metadata": {
    "collapsed": false
   },
   "outputs": [
    {
     "name": "stdout",
     "output_type": "stream",
     "text": [
      "2014 GRAND DESIGN MOMENTUM 385TH\n",
      "$55,900\n"
     ]
    }
   ],
   "source": [
    "try:\n",
    "\n",
    "    model = driver.find_element_by_css_selector(\"div.detail-title.lfloat > h1\").text.strip()\n",
    "    if len(model):\n",
    "        model = re.sub(r'\\s+', ' ', model)\n",
    "    else:\n",
    "        model = \"Unknown\"\n",
    "    print(model)\n",
    "\n",
    "    price = driver.find_element_by_css_selector(\"div.detail-price.rfloat > h2 > span\").text.strip()\n",
    "    if not len(price):\n",
    "        price = \"Unknown\"\n",
    "    print(price)\n",
    "\n",
    "except Exception as e:\n",
    "    print(str(e))\n",
    "finally:\n",
    "    driver.quit()"
   ]
  },
  {
   "cell_type": "code",
   "execution_count": 39,
   "metadata": {
    "collapsed": false
   },
   "outputs": [
    {
     "name": "stdout",
     "output_type": "stream",
     "text": [
      "&nbsp;-&nbsp;<i class=\"fa fa-phone\"></i> null\n",
      "&nbsp;-&nbsp;<i class=\"fa fa-phone\"></i> null\n",
      "&nbsp;-&nbsp;<i class=\"fa fa-phone\"></i> null\n",
      "&nbsp;-&nbsp;<i class=\"fa fa-phone\"></i> null\n",
      "&nbsp;-&nbsp;<i class=\"fa fa-phone\"></i> null\n",
      "&nbsp;-&nbsp;<i class=\"fa fa-phone\"></i> null\n",
      "&nbsp;-&nbsp;<i class=\"fa fa-phone\"></i> null\n",
      "&nbsp;-&nbsp;<i class=\"fa fa-phone\"></i> null\n",
      "&nbsp;-&nbsp;<i class=\"fa fa-phone\"></i> null\n",
      "&nbsp;-&nbsp;<i class=\"fa fa-phone\"></i> null\n",
      "&nbsp;-&nbsp;<i class=\"fa fa-phone\"></i> null\n",
      "Message: \n",
      "\n",
      "Message: no such element: Unable to locate element: {\"method\":\"css selector\",\"selector\":\"div.sellerOverview > div.seller-info-telephone\"}\n",
      "  (Session info: chrome=56.0.2924.87)\n",
      "  (Driver info: chromedriver=2.27.440174 (e97a722caafc2d3a8b807ee115bfb307f7d2cfd9),platform=Windows NT 10.0.14393 x86_64)\n",
      "\n",
      "&nbsp;-&nbsp;<i class=\"fa fa-phone\"></i> null\n",
      "&nbsp;-&nbsp;<i class=\"fa fa-phone\"></i> null\n",
      "&nbsp;-&nbsp;<i class=\"fa fa-phone\"></i> null\n",
      "Message: \n",
      "\n",
      "&nbsp;-&nbsp;<i class=\"fa fa-phone\"></i> null\n",
      "&nbsp;-&nbsp;<i class=\"fa fa-phone\"></i> null\n",
      "&nbsp;-&nbsp;<i class=\"fa fa-phone\"></i> null\n",
      "Message: timeout: cannot determine loading status\n",
      "from timeout: Timed out receiving message from renderer: -0.047\n",
      "  (Session info: chrome=56.0.2924.87)\n",
      "  (Driver info: chromedriver=2.27.440174 (e97a722caafc2d3a8b807ee115bfb307f7d2cfd9),platform=Windows NT 10.0.14393 x86_64)\n",
      "\n"
     ]
    }
   ],
   "source": [
    "import time\n",
    "import re\n",
    "from selenium.webdriver.common.by import By\n",
    "from selenium.webdriver.support.ui import WebDriverWait\n",
    "from selenium.webdriver.support import expected_conditions as EC\n",
    "\n",
    "phoneRe = re.compile(r\"\\(?[0-9]{3}\\)?[-. ]?[0-9]{3}[-. ]?[0-9]{4}\")\n",
    "for pageUrl in seen_urls_array:\n",
    "    try:\n",
    "        driver = webdriver.Chrome(chrome_options=co)\n",
    "\n",
    "        # Set timeout information\n",
    "        driver.set_page_load_timeout(50)\n",
    "\n",
    "        # Bring up the page\n",
    "        finished = 0\n",
    "        fails = 0\n",
    "        while finished == 0 and fails < 8:\n",
    "            try:\n",
    "                driver.get(pageUrl)\n",
    "                finished = 1\n",
    "            except Exception as e:\n",
    "                print(str(e))\n",
    "                fails = fails + 1\n",
    "                time.sleep(5)\n",
    "\n",
    "        # Click the phone button\n",
    "        try:\n",
    "            buttonCss = \"div.seller-info-telephone > button\"\n",
    "\n",
    "            # Wait for button to show up\n",
    "            buttonTag = WebDriverWait(driver, 5).until(\n",
    "                EC.presence_of_element_located((By.CSS_SELECTOR, buttonCss))\n",
    "            )\n",
    "\n",
    "            buttonTag.click()\n",
    "        except Exception as e:\n",
    "            print(str(e))\n",
    "\n",
    "        # Get the phone number\n",
    "        phoneCss = 'div.sellerOverview > div.seller-info-telephone'\n",
    "\n",
    "        # Wait for button to disappear\n",
    "        WebDriverWait(driver, 30).until_not(\n",
    "            EC.visibility_of_element_located((By.CSS_SELECTOR, buttonCss))\n",
    "        )\n",
    "\n",
    "        phoneHTML = driver.find_element_by_css_selector(phoneCss).get_attribute('innerHTML')\n",
    "        match = phoneRe.search(phoneHTML)\n",
    "        if match:\n",
    "            phone = match.group()\n",
    "        else:\n",
    "            phone = \"\"\n",
    "        #print(phone)\n",
    "\n",
    "        if len(phone):\n",
    "\n",
    "            model = driver.find_element_by_css_selector(\"div.detail-title.lfloat > h1\").text.strip()\n",
    "            if len(model):\n",
    "                model = re.sub(r'\\s+', ' ', model)\n",
    "            else:\n",
    "                model = \"Unknown\"\n",
    "            #print(model)\n",
    "\n",
    "            price = driver.find_element_by_css_selector(\"div.detail-price.rfloat > h2 > span\").text.strip()\n",
    "            if not len(price):\n",
    "                price = \"Unknown\"\n",
    "            #print(price)\n",
    "\n",
    "            bigFile = open('rvtrader.txt', 'a', encoding='utf-8')\n",
    "            bigFile.write(model + '\\t' + price + '\\t' + phone + '\\n')\n",
    "            bigFile.close()\n",
    "\n",
    "        else:\n",
    "            print(phoneHTML)\n",
    "            driver.save_screenshot('rvtrader.png')\n",
    "\n",
    "    except Exception as e:\n",
    "        print(str(e))\n",
    "    finally:\n",
    "        driver.quit()"
   ]
  },
  {
   "cell_type": "code",
   "execution_count": null,
   "metadata": {
    "collapsed": true
   },
   "outputs": [],
   "source": []
  }
 ],
 "metadata": {
  "anaconda-cloud": {},
  "kernelspec": {
   "display_name": "Python [conda root]",
   "language": "python",
   "name": "conda-root-py"
  },
  "language_info": {
   "codemirror_mode": {
    "name": "ipython",
    "version": 3
   },
   "file_extension": ".py",
   "mimetype": "text/x-python",
   "name": "python",
   "nbconvert_exporter": "python",
   "pygments_lexer": "ipython3",
   "version": "3.5.2"
  }
 },
 "nbformat": 4,
 "nbformat_minor": 1
}
