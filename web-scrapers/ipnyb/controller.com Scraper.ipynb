{
 "cells": [
  {
   "cell_type": "code",
   "execution_count": 11,
   "metadata": {
    "collapsed": false
   },
   "outputs": [
    {
     "name": "stdout",
     "output_type": "stream",
     "text": [
      "http://www.controller.com/listings/aircraft/for-sale/list/\n"
     ]
    }
   ],
   "source": [
    "homeUrl = \"http://www.controller.com/\"\n",
    "siteUrl = homeUrl + \"listings/aircraft/for-sale/list/\"\n",
    "print(siteUrl)\n",
    "\n",
    "proxies = {'http': 'http://<<USERID>>:<<PASSWORD>>@23.19.51.245:40791/'}"
   ]
  },
  {
   "cell_type": "code",
   "execution_count": 6,
   "metadata": {
    "collapsed": true
   },
   "outputs": [],
   "source": [
    "from selenium import webdriver\n",
    "from selenium.webdriver.chrome.options import Options\n",
    "import zipfile\n",
    "\n",
    "manifest_json = \"\"\"\n",
    "{\n",
    "    \"version\": \"1.0.0\",\n",
    "    \"manifest_version\": 2,\n",
    "    \"name\": \"Chrome Proxy\",\n",
    "    \"permissions\": [\n",
    "        \"proxy\",\n",
    "        \"tabs\",\n",
    "        \"unlimitedStorage\",\n",
    "        \"storage\",\n",
    "        \"<all_urls>\",\n",
    "        \"webRequest\",\n",
    "        \"webRequestBlocking\"\n",
    "    ],\n",
    "    \"background\": {\n",
    "        \"scripts\": [\"background.js\"]\n",
    "    },\n",
    "    \"minimum_chrome_version\":\"22.0.0\"\n",
    "}\n",
    "\"\"\"\n",
    "\n",
    "background_js = \"\"\"\n",
    "var config = {\n",
    "        mode: \"fixed_servers\",\n",
    "        rules: {\n",
    "          singleProxy: {\n",
    "            scheme: \"http\",\n",
    "            host: \"23.19.51.245\",\n",
    "            port: parseInt(40791)\n",
    "          },\n",
    "          bypassList: [\"foobar.com\"]\n",
    "        }\n",
    "      };\n",
    "\n",
    "chrome.proxy.settings.set({value: config, scope: \"regular\"}, function() {});\n",
    "\n",
    "function callbackFn(details) {\n",
    "    return {\n",
    "        authCredentials: {\n",
    "            username: \"<<USERID>>\",\n",
    "            password: \"<<PASSWORD>>\"\n",
    "        }\n",
    "    };\n",
    "}\n",
    "\n",
    "chrome.webRequest.onAuthRequired.addListener(\n",
    "            callbackFn,\n",
    "            {urls: [\"<all_urls>\"]},\n",
    "            ['blocking']\n",
    ");\n",
    "\"\"\"\n",
    "\n",
    "\n",
    "pluginfile = 'proxy_auth_plugin.zip'\n",
    "\n",
    "with zipfile.ZipFile(pluginfile, 'w') as zp:\n",
    "    zp.writestr(\"manifest.json\", manifest_json)\n",
    "    zp.writestr(\"background.js\", background_js)\n",
    "\n",
    "co = Options()\n",
    "co.add_argument(\"--start-maximized\")\n",
    "co.add_argument('--dns-prefetch-disable')\n",
    "#co.add_argument('--disable-extensions')\n",
    "co.add_extension(pluginfile)"
   ]
  },
  {
   "cell_type": "code",
   "execution_count": 7,
   "metadata": {
    "collapsed": true
   },
   "outputs": [],
   "source": [
    "driver = webdriver.Chrome(chrome_options=co)"
   ]
  },
  {
   "cell_type": "code",
   "execution_count": 12,
   "metadata": {
    "collapsed": true
   },
   "outputs": [],
   "source": [
    "import time\n",
    "from bs4 import BeautifulSoup\n",
    "\n",
    "# set timeout information\n",
    "driver.set_page_load_timeout(50)\n",
    "\n",
    "finished = 0\n",
    "fails = 0\n",
    "while finished == 0 and fails < 8:\n",
    "    try:\n",
    "        driver.get(homeUrl)\n",
    "        finished = 1\n",
    "    except Exception as e:\n",
    "        print(str(e))\n",
    "        fails = fails + 1\n",
    "        time.sleep(5)"
   ]
  },
  {
   "cell_type": "code",
   "execution_count": 14,
   "metadata": {
    "collapsed": true
   },
   "outputs": [],
   "source": [
    "from selenium.webdriver.common.by import By\n",
    "from selenium.webdriver.support.ui import WebDriverWait\n",
    "from selenium.webdriver.support import expected_conditions as EC\n",
    "\n",
    "try:\n",
    "    #<input type=\"submit\" value=\"Search\" alt=\"Search Aircraft For Sale at Controller.com.\" class=\"span12  m-bottom-10\">\n",
    "    buttonCss = 'input[alt=\"Search Aircraft For Sale at Controller.com.\"]'\n",
    "    \n",
    "    # Wait for button to show up\n",
    "    buttonTag = WebDriverWait(driver, 10).until(\n",
    "        EC.presence_of_element_located((By.CSS_SELECTOR, buttonCss))\n",
    "    )\n",
    "    \n",
    "    buttonTag.click()\n",
    "except Exception as e:\n",
    "    print(str(e))"
   ]
  },
  {
   "cell_type": "code",
   "execution_count": 15,
   "metadata": {
    "collapsed": true
   },
   "outputs": [],
   "source": [
    "# Wait for button to disappear\n",
    "WebDriverWait(driver, 30).until_not(\n",
    "    EC.visibility_of_element_located((By.CSS_SELECTOR, buttonCss))\n",
    ")\n",
    "\n",
    "siteSoup = BeautifulSoup(driver.page_source, 'lxml')"
   ]
  },
  {
   "cell_type": "code",
   "execution_count": 16,
   "metadata": {
    "collapsed": false
   },
   "outputs": [
    {
     "name": "stdout",
     "output_type": "stream",
     "text": [
      "[<span id=\"listings-total-pages\"> 265</span>]\n",
      "265\n"
     ]
    }
   ],
   "source": [
    "#<span id=\"listings-total-pages\"> 265</span>\n",
    "siteLinks = siteSoup.select('#listings-total-pages')\n",
    "#print(siteLinks)\n",
    "\n",
    "# Get the max page link\n",
    "max_page = 0\n",
    "if len(siteLinks):\n",
    "    max_page = int(siteLinks[0].get_text().strip())\n",
    "print(max_page)"
   ]
  },
  {
   "cell_type": "code",
   "execution_count": 20,
   "metadata": {
    "collapsed": false
   },
   "outputs": [
    {
     "name": "stdout",
     "output_type": "stream",
     "text": [
      "http://www.controller.com/listings/aircraft/for-sale/list/?page=191\n",
      "Controller.com | FOKKER 50 For Sale - 6571 Listings - Page 191.\n"
     ]
    }
   ],
   "source": [
    "from random import randint\n",
    "\n",
    "i = randint(1, max_page)\n",
    "tagUrl = \"?\".join([siteUrl, \"page=\"+str(i)])\n",
    "print(tagUrl)\n",
    "\n",
    "finished = 0\n",
    "fails = 0\n",
    "while finished == 0 and fails < 8:\n",
    "    try:\n",
    "        driver.get(tagUrl)\n",
    "        finished = 1\n",
    "    except Exception as e:\n",
    "        print(str(e))\n",
    "        fails = fails + 1\n",
    "        time.sleep(5)\n",
    "tagSoup = BeautifulSoup(driver.page_source, 'lxml')\n",
    "\n",
    "# Get the title of the page to prove we are progressing\n",
    "tagTitle = tagSoup.select(\"head > title\")\n",
    "titleString = tagTitle[0].get_text().strip()\n",
    "print(titleString)"
   ]
  },
  {
   "cell_type": "code",
   "execution_count": 24,
   "metadata": {
    "collapsed": true
   },
   "outputs": [],
   "source": [
    "#<div>Phone:   (225) 454-2117</div>\n",
    "infoSoups = tagSoup.select('div.col.dealer-info.cf')\n",
    "\n",
    "infoSoup = infoSoups[randint(0,len(infoSoups)-1)]"
   ]
  },
  {
   "cell_type": "code",
   "execution_count": 31,
   "metadata": {
    "collapsed": false
   },
   "outputs": [
    {
     "name": "stdout",
     "output_type": "stream",
     "text": [
      "(907) 486-5155\n",
      "Kingfisher Air Inc\n",
      "2000 FOUND AIRCRAFT CO BUSH HAWK XP\n",
      "USD $229,000\n"
     ]
    }
   ],
   "source": [
    "import re\n",
    "\n",
    "phoneRe = re.compile(r\"\\(?[0-9]{3}\\)?[-. ]?[0-9]{3}[-. ]?[0-9]{4}\")\n",
    "phoneTag = infoSoup.select('div:nth-of-type(3)')\n",
    "match = phoneRe.search(phoneTag[0].get_text().strip())\n",
    "if match:\n",
    "    phone = match.group()\n",
    "else:\n",
    "    phone = \"\"\n",
    "print(phone)\n",
    "\n",
    "if len(phone):\n",
    "    \n",
    "    itemSoup = infoSoup.parent\n",
    "    #print(itemSoup)\n",
    "\n",
    "    #<span class=\"\">Aviation Advisors Intl</span>\n",
    "    seller = infoSoup.select('div:nth-of-type(1) > span')\n",
    "    if(len(seller)):\n",
    "        seller = seller[0].get_text().strip()\n",
    "        seller = re.sub(r'\\s+', ' ', seller)\n",
    "    else:\n",
    "        seller = \"Unknown\"\n",
    "    print(seller)\n",
    "    \n",
    "    #<a href=\"/listings/aircraft/for-sale/1453947/2008-learjet-60xr\">2008 LEARJET 60XR</a>\n",
    "    model = itemSoup.select('div.listing-name > a')\n",
    "    if(len(model)):\n",
    "        model = model[0].get_text().strip()\n",
    "        model = re.sub(r'\\s+', ' ', model)\n",
    "    else:\n",
    "        model = \"Unknown\"\n",
    "    print(model)\n",
    "    \n",
    "    #<span class=\"nobr\">USD $3,495,000</span>\n",
    "    price = itemSoup.select('div.price.column7.right.fluid-mobile > div > span.nobr')\n",
    "    if(len(price)):\n",
    "        price = price[0].get_text().strip()\n",
    "    else:\n",
    "        price = \"Unknown\"\n",
    "    print(price)"
   ]
  },
  {
   "cell_type": "code",
   "execution_count": 32,
   "metadata": {
    "collapsed": true
   },
   "outputs": [],
   "source": [
    "import re\n",
    "\n",
    "phoneRe = re.compile(r\"\\(?[0-9]{3}\\)?[-. ]?[0-9]{3}[-. ]?[0-9]{4}\")\n",
    "for i in range(1, max_page+1):\n",
    "    tagUrl = \"?\".join([siteUrl, \"page=\"+str(i)])\n",
    "\n",
    "    finished = 0\n",
    "    fails = 0\n",
    "    while finished == 0 and fails < 8:\n",
    "        try:\n",
    "            driver.get(tagUrl)\n",
    "            finished = 1\n",
    "        except Exception as e:\n",
    "            print(str(e))\n",
    "            fails = fails + 1\n",
    "            time.sleep(5)\n",
    "    tagSoup = BeautifulSoup(driver.page_source, 'lxml')\n",
    "    \n",
    "    infoSoups = tagSoup.select('div.col.dealer-info.cf')\n",
    "    for infoSoup in infoSoups:\n",
    "        \n",
    "        phoneTag = infoSoup.select('div:nth-of-type(3)')\n",
    "        match = phoneRe.search(phoneTag[0].get_text().strip())\n",
    "        if match:\n",
    "            phone = match.group()\n",
    "        else:\n",
    "            phone = \"\"\n",
    "        if len(phone):\n",
    "\n",
    "            itemSoup = infoSoup.parent\n",
    "            \n",
    "            seller = infoSoup.select('div:nth-of-type(1) > span')\n",
    "            if(len(seller)):\n",
    "                seller = seller[0].get_text().strip()\n",
    "                seller = re.sub(r'\\s+', ' ', seller)\n",
    "            else:\n",
    "                seller = \"Unknown\"\n",
    "\n",
    "            model = itemSoup.select('div.listing-name > a')\n",
    "            if(len(model)):\n",
    "                model = model[0].get_text().strip()\n",
    "                model = re.sub(r'\\s+', ' ', model)\n",
    "            else:\n",
    "                model = \"Unknown\"\n",
    "\n",
    "            price = itemSoup.select('div.price.column7.right.fluid-mobile > div > span.nobr')\n",
    "            if(len(price)):\n",
    "                price = price[0].get_text().strip()\n",
    "            else:\n",
    "                price = \"Unknown\"\n",
    "            \n",
    "            bigFile = open('controller.txt', 'a', encoding='utf-8')\n",
    "            bigFile.write(seller + ': ' + model + '\\t' + price + '\\t' + phone + '\\n')\n",
    "            bigFile.close()"
   ]
  },
  {
   "cell_type": "code",
   "execution_count": 33,
   "metadata": {
    "collapsed": true
   },
   "outputs": [],
   "source": [
    "driver.quit()"
   ]
  },
  {
   "cell_type": "code",
   "execution_count": null,
   "metadata": {
    "collapsed": true
   },
   "outputs": [],
   "source": []
  }
 ],
 "metadata": {
  "anaconda-cloud": {},
  "kernelspec": {
   "display_name": "Python [conda root]",
   "language": "python",
   "name": "conda-root-py"
  },
  "language_info": {
   "codemirror_mode": {
    "name": "ipython",
    "version": 3
   },
   "file_extension": ".py",
   "mimetype": "text/x-python",
   "name": "python",
   "nbconvert_exporter": "python",
   "pygments_lexer": "ipython3",
   "version": "3.5.2"
  }
 },
 "nbformat": 4,
 "nbformat_minor": 1
}
