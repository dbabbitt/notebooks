{
 "cells": [
  {
   "cell_type": "code",
   "execution_count": 1,
   "metadata": {
    "collapsed": true
   },
   "outputs": [],
   "source": [
    "\n",
    "# https://www.kaggle.com/andrewfager/mobile-phone-activity-exploratory-analysis\n",
    "# https://www.kaggle.com/marcodena/mobile-phone-activity/data\n",
    "# https://www.nature.com/articles/sdata201555\n",
    "import pickle\n",
    "import pandas as pd\n",
    "from gensim import corpora, models, similarities\n",
    "\n",
    "# Handy list of the different types of encodings\n",
    "encoding = ['latin1', 'iso8859-1', 'utf-8'][1]\n",
    "\n",
    "def load_object(obj_name):\n",
    "    pickle_path = '../saves/pickle/' + obj_name + '.pickle'\n",
    "    try:\n",
    "        object = pd.read_pickle(pickle_path)\n",
    "    except:\n",
    "        with open(pickle_path, 'rb') as handle:\n",
    "            object = pickle.load(handle)\n",
    "    \n",
    "    return(object)\n",
    "\n",
    "def save_dataframes(**kwargs):\n",
    "    csv_folder = '../saves/csv/'\n",
    "    for frame_name in kwargs:\n",
    "        csv_path = csv_folder + frame_name + '.csv'\n",
    "        kwargs[frame_name].to_csv(csv_path, sep=',', encoding=encoding, index=False)\n",
    "\n",
    "# Classes, functions, and methods cannot be pickled\n",
    "def store_objects(**kwargs):\n",
    "    for obj_name in kwargs:\n",
    "        if hasattr(kwargs[obj_name], '__call__'):\n",
    "            raise RuntimeError('Functions cannot be pickled.')\n",
    "        obj_path = '../saves/pickle/' + str(obj_name)\n",
    "        pickle_path = obj_path + '.pickle'\n",
    "        if isinstance(kwargs[obj_name], pd.DataFrame):\n",
    "            kwargs[obj_name].to_pickle(pickle_path)\n",
    "        else:\n",
    "            with open(pickle_path, 'wb') as handle:\n",
    "                pickle.dump(kwargs[obj_name], handle, pickle.HIGHEST_PROTOCOL)\n",
    "\n",
    "correlation_df = load_object('correlation_df')"
   ]
  },
  {
   "cell_type": "code",
   "execution_count": null,
   "metadata": {
    "collapsed": true
   },
   "outputs": [],
   "source": [
    "\n",
    "# Source,Target,Type,Id,Label,timeset,Weight\n",
    "# 1,0,Undirected,0,,,1\n",
    "temp_links_list = []\n",
    "i = 0\n",
    "for source, row_series in correlation_df.iterrows():\n",
    "    for target, value in row_series.iteritems():\n",
    "        if(source != target):\n",
    "            temp_links_list.append({'Source': source, 'Target': target, 'Type': 'Undirected',\n",
    "                                    'Id': i, 'Label': '', 'timeset': '', 'Weight': value})\n",
    "            i += 1\n",
    "store_objects(temp_links_list=temp_links_list)\n",
    "print(temp_links_list[:3])"
   ]
  },
  {
   "cell_type": "code",
   "execution_count": null,
   "metadata": {
    "collapsed": true
   },
   "outputs": [],
   "source": [
    "\n",
    "temp_links_df = pd.DataFrame(temp_links_list, columns=['source', 'target', 'value'])\n",
    "save_dataframes(temp_links_df=temp_links_df)"
   ]
  },
  {
   "cell_type": "code",
   "execution_count": null,
   "metadata": {
    "collapsed": true
   },
   "outputs": [],
   "source": [
    "\n",
    "len(correlation_df.columns)"
   ]
  },
  {
   "cell_type": "code",
   "execution_count": null,
   "metadata": {
    "collapsed": true
   },
   "outputs": [],
   "source": [
    "\n",
    "unique_cellIDs = pd.Index(correlation_df.columns.tolist())\n",
    "links_list = []\n",
    "for link in temp_links_list:\n",
    "    record = {\"value\": link['value'], \"source\": unique_cellIDs.get_loc(link['source']),\n",
    "              \"target\": unique_cellIDs.get_loc(link['target'])}\n",
    "    links_list.append(record)"
   ]
  },
  {
   "cell_type": "code",
   "execution_count": null,
   "metadata": {
    "collapsed": true
   },
   "outputs": [],
   "source": [
    "\n",
    "group_dict = {}\n",
    "counter = 0\n",
    "for cellID in unique_cellIDs:\n",
    "    if cellID not in group_dict:\n",
    "        counter += 1\n",
    "        group_dict[cellID] = counter\n",
    "    else:\n",
    "        pass"
   ]
  },
  {
   "cell_type": "code",
   "execution_count": null,
   "metadata": {
    "collapsed": true
   },
   "outputs": [],
   "source": [
    "\n",
    "nodes_list = []\n",
    "for cellID in unique_cellIDs:\n",
    "    nodes_list.append({\"name\": cellID, \"group\": group_dict.get(cellID)})"
   ]
  },
  {
   "cell_type": "code",
   "execution_count": null,
   "metadata": {
    "collapsed": true
   },
   "outputs": [],
   "source": [
    "\n",
    "links_list[:5]"
   ]
  },
  {
   "cell_type": "code",
   "execution_count": null,
   "metadata": {
    "collapsed": true
   },
   "outputs": [],
   "source": [
    "\n",
    "nodes_list[:5]"
   ]
  },
  {
   "cell_type": "code",
   "execution_count": null,
   "metadata": {
    "collapsed": true
   },
   "outputs": [],
   "source": [
    "\n",
    "json_prep = {'links': links_list, 'nodes': nodes_list}\n",
    "json_prep.keys()"
   ]
  },
  {
   "cell_type": "code",
   "execution_count": null,
   "metadata": {
    "collapsed": true
   },
   "outputs": [],
   "source": [
    "\n",
    "from json import dumps, loads, JSONEncoder, JSONDecoder\n",
    "import pickle\n",
    "\n",
    "class PythonObjectEncoder(JSONEncoder):\n",
    "    def default(self, obj):\n",
    "        if isinstance(obj, (list, dict, str, int, float, bool, type(None))):\n",
    "            return JSONEncoder.default(self, obj)\n",
    "        return {'_python_object': pickle.dumps(obj)}\n",
    "\n",
    "def as_python_object(dct):\n",
    "    if '_python_object' in dct:\n",
    "        return pickle.loads(str(dct['_python_object']))\n",
    "    return dct"
   ]
  },
  {
   "cell_type": "code",
   "execution_count": null,
   "metadata": {
    "collapsed": true
   },
   "outputs": [],
   "source": [
    "\n",
    "j = dumps(json_prep, cls=PythonObjectEncoder)\n",
    "loads(j, object_hook=as_python_object)"
   ]
  },
  {
   "cell_type": "code",
   "execution_count": null,
   "metadata": {
    "collapsed": true
   },
   "outputs": [],
   "source": [
    "\n",
    "import json\n",
    "\n",
    "json_dump = json.dumps(json_prep, indent=1, sort_keys=True)"
   ]
  },
  {
   "cell_type": "code",
   "execution_count": null,
   "metadata": {
    "collapsed": true
   },
   "outputs": [],
   "source": []
  }
 ],
 "metadata": {
  "kernelspec": {
   "display_name": "Python 3",
   "language": "python",
   "name": "python3"
  },
  "language_info": {
   "codemirror_mode": {
    "name": "ipython",
    "version": 3
   },
   "file_extension": ".py",
   "mimetype": "text/x-python",
   "name": "python",
   "nbconvert_exporter": "python",
   "pygments_lexer": "ipython3",
   "version": "3.6.1"
  }
 },
 "nbformat": 4,
 "nbformat_minor": 2
}
