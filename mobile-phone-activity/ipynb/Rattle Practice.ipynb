{
 "cells": [
  {
   "cell_type": "code",
   "execution_count": 1,
   "metadata": {},
   "outputs": [
    {
     "name": "stderr",
     "output_type": "stream",
     "text": [
      "Loading required package: rattle\n",
      "Warning message in library(package, lib.loc = lib.loc, character.only = TRUE, logical.return = TRUE, :\n",
      "“there is no package called ‘rattle’”Warning message:\n",
      "“unable to access index for repository https://cran.r-project.org/src/contrib:\n",
      "  internet routines cannot be loaded”Warning message:\n",
      "“package ‘rattle’ is not available (for R version 3.4.1)”Loading required package: rattle\n",
      "Warning message in library(package, lib.loc = lib.loc, character.only = TRUE, logical.return = TRUE, :\n",
      "“there is no package called ‘rattle’”Loading required package: magrittr\n"
     ]
    }
   ],
   "source": [
    "\n",
    "# Access weather dataset and utilities\n",
    "if (!require('rattle')) install.packages('rattle'); require('rattle')\n",
    "\n",
    "# For the %>% and %<>% pipeline operators\n",
    "if (!require('magrittr')) install.packages('magrittr'); require('magrittr')"
   ]
  },
  {
   "cell_type": "code",
   "execution_count": 2,
   "metadata": {
    "collapsed": true
   },
   "outputs": [],
   "source": [
    "\n",
    "# Load the dataset from file\n",
    "fname <- \"../data/csv/mi-to-provinces-2013-11-06.csv\" \n",
    "dataset <- read.csv(fname, na.strings=c(\".\", \"NA\", \"\", \"?\"), strip.white=TRUE, encoding=\"UTF-8\")"
   ]
  },
  {
   "cell_type": "code",
   "execution_count": 3,
   "metadata": {
    "collapsed": true
   },
   "outputs": [],
   "source": [
    "\n",
    "# Build the train/validate/test datasets\n",
    "nobs <- nrow(dataset)\n",
    "train <- sample <- sample(nobs, 0.7*nobs)\n",
    "validate <- sample(setdiff(seq_len(nobs), train), 0.15*nobs)\n",
    "test <- setdiff(setdiff(seq_len(nobs), train), validate)"
   ]
  },
  {
   "cell_type": "code",
   "execution_count": 4,
   "metadata": {
    "collapsed": true
   },
   "outputs": [],
   "source": [
    "\n",
    "# The following variable selections have been noted\n",
    "input <- c(\"datetime\", \"CellID\", \"provinceName\", \"cell2Province\", \"Province2cell\")\n",
    "numeric <- c(\"CellID\", \"cell2Province\", \"Province2cell\")\n",
    "categoric <- c(\"datetime\", \"provinceName\")"
   ]
  },
  {
   "cell_type": "code",
   "execution_count": 5,
   "metadata": {},
   "outputs": [
    {
     "name": "stderr",
     "output_type": "stream",
     "text": [
      "Loading required package: Hmisc\n",
      "Warning message in library(package, lib.loc = lib.loc, character.only = TRUE, logical.return = TRUE, :\n",
      "“there is no package called ‘Hmisc’”Warning message:\n",
      "“unable to access index for repository https://cran.r-project.org/src/contrib:\n",
      "  internet routines cannot be loaded”Warning message:\n",
      "“package ‘Hmisc’ is not available (for R version 3.4.1)”Loading required package: Hmisc\n",
      "Warning message in library(package, lib.loc = lib.loc, character.only = TRUE, logical.return = TRUE, :\n",
      "“there is no package called ‘Hmisc’”"
     ]
    }
   ],
   "source": [
    "\n",
    "# The 'Hmisc' package provides the 'contents' function\n",
    "if (!require('Hmisc')) install.packages('Hmisc'); require('Hmisc')"
   ]
  },
  {
   "cell_type": "code",
   "execution_count": 7,
   "metadata": {},
   "outputs": [
    {
     "ename": "ERROR",
     "evalue": "Error in contents(dataset[, c(input, risk, target)]): could not find function \"contents\"\n",
     "output_type": "error",
     "traceback": [
      "Error in contents(dataset[, c(input, risk, target)]): could not find function \"contents\"\nTraceback:\n"
     ]
    }
   ],
   "source": [
    "\n",
    "contents(dataset[, c(input, risk, target)])"
   ]
  },
  {
   "cell_type": "code",
   "execution_count": null,
   "metadata": {
    "collapsed": true
   },
   "outputs": [],
   "source": []
  }
 ],
 "metadata": {
  "kernelspec": {
   "display_name": "R",
   "language": "R",
   "name": "ir"
  },
  "language_info": {
   "codemirror_mode": "r",
   "file_extension": ".r",
   "mimetype": "text/x-r-source",
   "name": "R",
   "pygments_lexer": "r",
   "version": "3.4.1"
  }
 },
 "nbformat": 4,
 "nbformat_minor": 2
}
