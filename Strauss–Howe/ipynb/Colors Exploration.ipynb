{
 "cells": [
  {
   "cell_type": "code",
   "execution_count": 1,
   "metadata": {},
   "outputs": [
    {
     "name": "stdout",
     "output_type": "stream",
     "text": [
      "DATA_FOLDER: ../data/\n",
      "SAVES_FOLDER: ../saves/\n",
      "Pretty printing has been turned OFF\n",
      "Axes3D\t DATA_CSV_FOLDER\t DATA_FOLDER\t DBSCAN\t ENCODING_TYPE\t PCA\t SAVES_CSV_FOLDER\t SAVES_FOLDER\t SAVES_PICKLE_FOLDER\t \n",
      "atan\t attempt_to_pickle\t combinations\t cos\t csv\t load_csv\t load_dataframes\t load_object\t mcolors\t \n",
      "np\t os\t pd\t pi\t pickle\t plt\t save_dataframes\t sin\t sqrt\t \n",
      "store_objects\t sys\t \n"
     ]
    }
   ],
   "source": [
    "\n",
    "%run ../../load_magic/storage.py\n",
    "%pprint\n",
    "%matplotlib inline\n",
    "from itertools import combinations\n",
    "from math import cos, sin, pi, sqrt, atan\n",
    "from mpl_toolkits.mplot3d import Axes3D\n",
    "from sklearn.cluster import DBSCAN\n",
    "from sklearn.decomposition import PCA\n",
    "import matplotlib.colors as mcolors\n",
    "import matplotlib.pyplot as plt\n",
    "import numpy as np\n",
    "%who"
   ]
  },
  {
   "cell_type": "code",
   "execution_count": 2,
   "metadata": {},
   "outputs": [],
   "source": [
    "\n",
    "columns_list = ['Red', 'Green', 'Blue']\n",
    "def colors_dict_to_df(colors_dict):\n",
    "    rows_list = []\n",
    "    index_list = []\n",
    "    for base_name, color_tuple in colors_dict.items():\n",
    "        row_dict = {}\n",
    "        index_list.append(base_name)\n",
    "        for i, color_value in enumerate(columns_list):\n",
    "            row_dict[color_value] = color_tuple[i]\n",
    "        rows_list.append(row_dict)\n",
    "    df = pd.DataFrame(rows_list, columns=columns_list, index=index_list)\n",
    "    \n",
    "    return df"
   ]
  },
  {
   "cell_type": "code",
   "execution_count": 3,
   "metadata": {},
   "outputs": [],
   "source": [
    "\n",
    "def show_3d_plot(three_d_df, z_column='Red', x_column='Green', y_column='Blue'):\n",
    "    fig = plt.figure(figsize=(18, 8))\n",
    "    ax = fig.add_subplot(111, projection='3d', autoscale_on=True)\n",
    "    xlabel_text = ax.set_xlabel(x_column)\n",
    "    ylabel_text = ax.set_ylabel(y_column)\n",
    "    zlabel_text = ax.set_zlabel(z_column)\n",
    "    columns_list = [x_column, y_column, z_column]\n",
    "    df = three_d_df[columns_list].dropna(axis='index', how='any')\n",
    "    pca_ndarray = df.values\n",
    "    path_collection = ax.scatter(pca_ndarray[:, 0], pca_ndarray[:, 1],\n",
    "                                 pca_ndarray[:, 2], alpha=0.75, c=df.index)\n",
    "    title_text = 'Scatterplot of the {}, {}, and {} Data'\n",
    "    text_obj = ax.set_title(title_text.format(x_column, y_column, z_column))"
   ]
  },
  {
   "cell_type": "code",
   "execution_count": 4,
   "metadata": {},
   "outputs": [],
   "source": [
    "\n",
    "def distance_from_white(old_tuple):\n",
    "    green_diff = 1.0 - old_tuple[0]\n",
    "    blue_diff = 1.0 - old_tuple[1]\n",
    "    red_diff = 1.0 - old_tuple[2]\n",
    "    \n",
    "    return sqrt(green_diff**2 + blue_diff**2 + red_diff**2)"
   ]
  },
  {
   "cell_type": "code",
   "execution_count": 5,
   "metadata": {},
   "outputs": [],
   "source": [
    "\n",
    "def distance_from_black(old_tuple):\n",
    "    \n",
    "    return sqrt(old_tuple[0]**2 + old_tuple[1]**2 + old_tuple[2]**2)"
   ]
  },
  {
   "cell_type": "code",
   "execution_count": 6,
   "metadata": {},
   "outputs": [],
   "source": [
    "\n",
    "def distance_from_red(old_tuple):\n",
    "    red_diff = 1.0 - old_tuple[2]\n",
    "    \n",
    "    return sqrt(old_tuple[0]**2 + old_tuple[1]**2 + red_diff**2)"
   ]
  },
  {
   "cell_type": "code",
   "execution_count": 7,
   "metadata": {},
   "outputs": [],
   "source": [
    "\n",
    "def distance_from_green(old_tuple):\n",
    "    green_diff = 1.0 - old_tuple[0]\n",
    "    \n",
    "    return sqrt(green_diff**2 + old_tuple[1]**2 + old_tuple[2]**2)"
   ]
  },
  {
   "cell_type": "code",
   "execution_count": 8,
   "metadata": {},
   "outputs": [],
   "source": [
    "\n",
    "def distance_from_blue(old_tuple):\n",
    "    blue_diff = 1.0 - old_tuple[1]\n",
    "    \n",
    "    return sqrt(old_tuple[0]**2 + blue_diff**2 + old_tuple[2]**2)"
   ]
  },
  {
   "cell_type": "code",
   "execution_count": 9,
   "metadata": {},
   "outputs": [],
   "source": [
    "\n",
    "def distance_from_magenta(old_tuple):\n",
    "    blue_diff = 1.0 - old_tuple[1]\n",
    "    red_diff = 1.0 - old_tuple[2]\n",
    "    \n",
    "    return sqrt(old_tuple[0]**2 + blue_diff**2 + red_diff**2)"
   ]
  },
  {
   "cell_type": "code",
   "execution_count": 10,
   "metadata": {},
   "outputs": [],
   "source": [
    "\n",
    "def distance_from_yellow(old_tuple):\n",
    "    green_diff = 1.0 - old_tuple[0]\n",
    "    red_diff = 1.0 - old_tuple[2]\n",
    "    \n",
    "    return sqrt(green_diff**2 + old_tuple[1]**2 + red_diff**2)"
   ]
  },
  {
   "cell_type": "code",
   "execution_count": 11,
   "metadata": {},
   "outputs": [],
   "source": [
    "\n",
    "def distance_from_cyan(old_tuple):\n",
    "    green_diff = 1.0 - old_tuple[0]\n",
    "    blue_diff = 1.0 - old_tuple[1]\n",
    "    \n",
    "    return sqrt(green_diff**2 + blue_diff**2 + old_tuple[2]**2)"
   ]
  },
  {
   "cell_type": "code",
   "execution_count": 12,
   "metadata": {},
   "outputs": [],
   "source": [
    "\n",
    "def get_distance_df(colors_df):\n",
    "    rows_list = []\n",
    "    columns_list = ['distance_from_white', 'distance_from_black', 'distance_from_red', 'distance_from_green', 'distance_from_blue',\n",
    "                    'distance_from_magenta', 'distance_from_yellow', 'distance_from_cyan']\n",
    "    index_list = []\n",
    "    for row_index, row_series in colors_df.iterrows():\n",
    "        green_value = row_series['Green']\n",
    "        blue_value = row_series['Blue']\n",
    "        red_value = row_series['Red']\n",
    "        row_tuple = (green_value, blue_value, red_value)\n",
    "        row_dict = {}\n",
    "        row_dict['distance_from_white'] = distance_from_white(row_tuple)\n",
    "        row_dict['distance_from_black'] = distance_from_black(row_tuple)\n",
    "        row_dict['distance_from_red'] = distance_from_red(row_tuple)\n",
    "        row_dict['distance_from_green'] = distance_from_green(row_tuple)\n",
    "        row_dict['distance_from_blue'] = distance_from_blue(row_tuple)\n",
    "        row_dict['distance_from_magenta'] = distance_from_magenta(row_tuple)\n",
    "        row_dict['distance_from_yellow'] = distance_from_yellow(row_tuple)\n",
    "        row_dict['distance_from_cyan'] = distance_from_cyan(row_tuple)\n",
    "        rows_list.append(row_dict)\n",
    "        index_list.append(row_index)\n",
    "    distance_df = pd.DataFrame(rows_list, columns=columns_list, index=index_list)\n",
    "    \n",
    "    return distance_df"
   ]
  },
  {
   "cell_type": "code",
   "execution_count": 14,
   "metadata": {},
   "outputs": [],
   "source": [
    "\n",
    "full_corner_list = ['white', 'black', 'red', 'green', 'blue', 'magenta', 'yellow', 'cyan']\n",
    "def get_face_set_list(combinations_list):\n",
    "    combs_obj = combinations(combinations_list, 3)\n",
    "    face_set_list = []\n",
    "    for color_tuple in combs_obj:\n",
    "        face_set_list.append(set(color_tuple))\n",
    "    \n",
    "    return face_set_list"
   ]
  },
  {
   "cell_type": "code",
   "execution_count": 15,
   "metadata": {},
   "outputs": [],
   "source": [
    "\n",
    "def plot_colortable(colors_dict, title, sort_colors=True, emptycols=0):\n",
    "\n",
    "    cell_width = 212\n",
    "    cell_height = 22\n",
    "    swatch_width = 48\n",
    "    margin = 12\n",
    "    topmargin = 40\n",
    "\n",
    "    # Sort colors_dict by hue, saturation, value and name.\n",
    "    if sort_colors is True:\n",
    "        by_hsv = sorted((tuple(mcolors.rgb_to_hsv(mcolors.to_rgb(color))),\n",
    "                         name)\n",
    "                        for name, color in colors_dict.items())\n",
    "        names = [name for hsv, name in by_hsv]\n",
    "    else:\n",
    "        names = list(colors_dict)\n",
    "\n",
    "    n = len(names)\n",
    "    ncols = 4 - emptycols\n",
    "    nrows = n // ncols + int(n % ncols > 0)\n",
    "\n",
    "    width = cell_width * 4 + 2 * margin\n",
    "    height = cell_height * nrows + margin + topmargin\n",
    "    dpi = 72\n",
    "\n",
    "    fig, ax = plt.subplots(figsize=(width / dpi, height / dpi), dpi=dpi)\n",
    "    fig.subplots_adjust(margin/width, margin/height,\n",
    "                        (width-margin)/width, (height-topmargin)/height)\n",
    "    ax.set_xlim(0, cell_width * 4)\n",
    "    ax.set_ylim(cell_height * (nrows-0.5), -cell_height/2.)\n",
    "    ax.yaxis.set_visible(False)\n",
    "    ax.xaxis.set_visible(False)\n",
    "    ax.set_axis_off()\n",
    "    ax.set_title(title, fontsize=24, loc=\"left\", pad=10)\n",
    "\n",
    "    for i, name in enumerate(names):\n",
    "        row = i % nrows\n",
    "        col = i // nrows\n",
    "        y = row * cell_height\n",
    "\n",
    "        swatch_start_x = cell_width * col\n",
    "        swatch_end_x = cell_width * col + swatch_width\n",
    "        text_pos_x = cell_width * col + swatch_width + 7\n",
    "\n",
    "        ax.text(text_pos_x, y, name, fontsize=14,\n",
    "                horizontalalignment='left',\n",
    "                verticalalignment='center')\n",
    "\n",
    "        ax.hlines(y, swatch_start_x, swatch_end_x,\n",
    "                  color=colors_dict[name], linewidth=18)"
   ]
  },
  {
   "cell_type": "code",
   "execution_count": 16,
   "metadata": {},
   "outputs": [],
   "source": [
    "\n",
    "# Hue, Saturation, Value\n",
    "def get_hsv_dict(colors_dict):\n",
    "    \n",
    "    return {name: tuple(mcolors.rgb_to_hsv(mcolors.to_rgb(color))) for name, color in colors_dict.items()}"
   ]
  },
  {
   "cell_type": "code",
   "execution_count": null,
   "metadata": {},
   "outputs": [],
   "source": [
    "\n",
    "colors_dict = {name: mcolors.to_rgb(color) for name, color in mcolors.XKCD_COLORS.items()}\n",
    "xkcd_colors_df = colors_dict_to_df(colors_dict)\n",
    "show_3d_plot(xkcd_colors_df)"
   ]
  },
  {
   "cell_type": "code",
   "execution_count": null,
   "metadata": {},
   "outputs": [],
   "source": [
    "\n",
    "colors_dict = {name: mcolors.to_rgb(color) for name, color in mcolors.BASE_COLORS.items()}\n",
    "base_colors_df = colors_dict_to_df(colors_dict)\n",
    "show_3d_plot(base_colors_df)"
   ]
  },
  {
   "cell_type": "code",
   "execution_count": null,
   "metadata": {},
   "outputs": [],
   "source": [
    "\n",
    "colors_dict = {name: mcolors.to_rgb(color) for name, color in mcolors.TABLEAU_COLORS.items()}\n",
    "tab_colors_df = colors_dict_to_df(colors_dict)\n",
    "show_3d_plot(tab_colors_df)"
   ]
  },
  {
   "cell_type": "code",
   "execution_count": null,
   "metadata": {},
   "outputs": [],
   "source": [
    "\n",
    "colors_dict = {name: mcolors.to_rgb(color) for name, color in mcolors.CSS4_COLORS.items()}\n",
    "css4_colors_df = colors_dict_to_df(colors_dict)\n",
    "show_3d_plot(css4_colors_df)"
   ]
  },
  {
   "cell_type": "code",
   "execution_count": null,
   "metadata": {},
   "outputs": [],
   "source": [
    "\n",
    "base_distance_df = get_distance_df(base_colors_df)\n",
    "bryg_face_set_list = get_face_set_list(['black', 'red', 'green', 'yellow'])\n",
    "for row_index, row_series in base_distance_df.iterrows():\n",
    "    tuple_list = sorted(row_series.to_dict().items(), key=lambda x: x[1])\n",
    "    if tuple_list[0][1] == 0.0:\n",
    "        print('{} is in the {} corner'.format(row_index, tuple_list[0][0].split('_')[2]))\n",
    "    else:\n",
    "        corners_list = tuple_list[:3]\n",
    "        face_set = set([corners_list[0][0].split('_')[2], corners_list[1][0].split('_')[2], corners_list[2][0].split('_')[2]])\n",
    "        if face_set in bryg_face_set_list:\n",
    "            print('{} is nearest the black-red-yellow-green face'.format(row_index))\n",
    "        else:\n",
    "            print('{} is nearest the {} face'.format(row_index, '-'.join(list(face_set))))"
   ]
  },
  {
   "cell_type": "code",
   "execution_count": null,
   "metadata": {},
   "outputs": [],
   "source": [
    "\n",
    "plot_colortable(mcolors.BASE_COLORS, \"Base Colors\",\n",
    "                sort_colors=True, emptycols=1)"
   ]
  },
  {
   "cell_type": "code",
   "execution_count": null,
   "metadata": {},
   "outputs": [],
   "source": [
    "\n",
    "plot_colortable(mcolors.TABLEAU_COLORS, \"Tableau Palette\",\n",
    "                sort_colors=True, emptycols=2)"
   ]
  },
  {
   "cell_type": "code",
   "execution_count": null,
   "metadata": {},
   "outputs": [],
   "source": [
    "\n",
    "#sphinx_gallery_thumbnail_number = 3\n",
    "plot_colortable(mcolors.CSS4_COLORS, \"CSS Colors\")"
   ]
  },
  {
   "cell_type": "code",
   "execution_count": null,
   "metadata": {},
   "outputs": [],
   "source": [
    "\n",
    "colors_dict = {name: mcolors.to_rgb(color) for name, color in mcolors.XKCD_COLORS.items()}\n",
    "xkcd_colors_df = colors_dict_to_df(colors_dict)\n",
    "X = xkcd_colors_df.values\n",
    "X2D = PCA(n_components=2).fit_transform(X)\n",
    "fig = plt.figure()\n",
    "ax = fig.add_subplot(111, aspect='equal')\n",
    "\n",
    "ax.plot(X2D[:, 0], X2D[:, 1], 'k+')\n",
    "ax.plot(X2D[:, 0], X2D[:, 1], 'k.')\n",
    "ax.plot([0], [0], 'ko')\n",
    "ax.arrow(0, 0, 0, 1, head_width=0.05, length_includes_head=True, head_length=0.1, fc='k', ec='k')\n",
    "ax.arrow(0, 0, 1, 0, head_width=0.05, length_includes_head=True, head_length=0.1, fc='k', ec='k')\n",
    "ax.set_xlabel('$z_1$', fontsize=18)\n",
    "ax.set_ylabel('$z_2$', fontsize=18, rotation=0)\n",
    "ax.axis([-1.5, 1.3, -1.2, 1.2])\n",
    "ax.grid(True)"
   ]
  },
  {
   "cell_type": "code",
   "execution_count": null,
   "metadata": {},
   "outputs": [],
   "source": [
    "\n",
    "eps = 0.09\n",
    "min_samples = 1\n",
    "db = DBSCAN(eps=eps, min_samples=min_samples).fit(X2D)\n",
    "labels_ndarray = db.labels_\n",
    "unique_labels = np.unique(labels_ndarray)\n",
    "unique_labels_count = len(unique_labels)\n",
    "if (unique_labels_count > 4) and (unique_labels_count < 8):\n",
    "    print('np.unique(DBSCAN(eps={}, min_samples={}).fit(pca_ndarray).labels_) = {}'.format(eps, min_samples, unique_labels))"
   ]
  },
  {
   "cell_type": "code",
   "execution_count": null,
   "metadata": {},
   "outputs": [],
   "source": [
    "\n",
    "fig = plt.figure(figsize=(8, 8))\n",
    "ax = fig.add_subplot(111, autoscale_on=True)\n",
    "cmap = plt.get_cmap('viridis_r')\n",
    "path_collection = ax.scatter(X2D[:, 0], X2D[:, 1],\n",
    "                             c=labels_ndarray, edgecolors=(0, 0, 0), cmap=cmap)\n",
    "title_text = 'Dimension Reduced Scatterplot of the XKCD Colors'\n",
    "text = plt.title(title_text)\n",
    "xticklabel_obj = plt.xticks([])\n",
    "yticklabel_obj = plt.yticks([])"
   ]
  },
  {
   "cell_type": "code",
   "execution_count": null,
   "metadata": {},
   "outputs": [],
   "source": [
    "\n",
    "# Optionally plot the XKCD colors (Caution: will produce large figure)\n",
    "file_name = 'XKCD_Colors.png'\n",
    "png_folder = os.path.join(SAVES_FOLDER, 'png')\n",
    "file_path = os.path.join(png_folder, file_name)\n",
    "xkcd_fig = plot_colortable(mcolors.XKCD_COLORS, \"XKCD Colors\")\n",
    "xkcd_fig.savefig(file_path)"
   ]
  },
  {
   "cell_type": "code",
   "execution_count": null,
   "metadata": {},
   "outputs": [],
   "source": [
    "\n",
    "patriline_df = load_object('patriline_df')\n",
    "min_year = patriline_df['Year of Birth'].min()\n",
    "generations_df = load_object('generations_df')\n",
    "match_series = (generations_df['birth_year_begin'] >= min_year)\n",
    "generations_df[match_series]['saeculum_name'].unique()"
   ]
  },
  {
   "cell_type": "code",
   "execution_count": null,
   "metadata": {},
   "outputs": [],
   "source": [
    "\n",
    "unique_color_groups_count = len(generations_df[match_series]['saeculum_name'].unique())\n",
    "print(type(mcolors.XKCD_COLORS))\n",
    "dir(mcolors.XKCD_COLORS)"
   ]
  },
  {
   "cell_type": "code",
   "execution_count": null,
   "metadata": {},
   "outputs": [],
   "source": []
  }
 ],
 "metadata": {
  "kernelspec": {
   "display_name": "Python 3",
   "language": "python",
   "name": "python3"
  },
  "language_info": {
   "codemirror_mode": {
    "name": "ipython",
    "version": 3
   },
   "file_extension": ".py",
   "mimetype": "text/x-python",
   "name": "python",
   "nbconvert_exporter": "python",
   "pygments_lexer": "ipython3",
   "version": "3.6.8"
  }
 },
 "nbformat": 4,
 "nbformat_minor": 2
}
