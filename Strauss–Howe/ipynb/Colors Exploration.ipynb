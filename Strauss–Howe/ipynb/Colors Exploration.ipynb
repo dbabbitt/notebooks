{
 "cells": [
  {
   "cell_type": "code",
   "execution_count": null,
   "metadata": {},
   "outputs": [],
   "source": [
    "\n",
    "%run ../../load_magic/storage.py\n",
    "%pprint\n",
    "%matplotlib inline\n",
    "import matplotlib.pyplot as plt\n",
    "import matplotlib.colors as mcolors\n",
    "%who"
   ]
  },
  {
   "cell_type": "code",
   "execution_count": null,
   "metadata": {},
   "outputs": [],
   "source": [
    "\n",
    "def plot_colortable(colors_dict, title, sort_colors=True, emptycols=0):\n",
    "\n",
    "    cell_width = 212\n",
    "    cell_height = 22\n",
    "    swatch_width = 48\n",
    "    margin = 12\n",
    "    topmargin = 40\n",
    "\n",
    "    # Sort colors_dict by hue, saturation, value and name.\n",
    "    if sort_colors is True:\n",
    "        by_hsv = sorted((tuple(mcolors.rgb_to_hsv(mcolors.to_rgb(color))),\n",
    "                         name)\n",
    "                        for name, color in colors_dict.items())\n",
    "        names = [name for hsv, name in by_hsv]\n",
    "    else:\n",
    "        names = list(colors_dict)\n",
    "\n",
    "    n = len(names)\n",
    "    ncols = 4 - emptycols\n",
    "    nrows = n // ncols + int(n % ncols > 0)\n",
    "\n",
    "    width = cell_width * 4 + 2 * margin\n",
    "    height = cell_height * nrows + margin + topmargin\n",
    "    dpi = 72\n",
    "\n",
    "    fig, ax = plt.subplots(figsize=(width / dpi, height / dpi), dpi=dpi)\n",
    "    fig.subplots_adjust(margin/width, margin/height,\n",
    "                        (width-margin)/width, (height-topmargin)/height)\n",
    "    ax.set_xlim(0, cell_width * 4)\n",
    "    ax.set_ylim(cell_height * (nrows-0.5), -cell_height/2.)\n",
    "    ax.yaxis.set_visible(False)\n",
    "    ax.xaxis.set_visible(False)\n",
    "    ax.set_axis_off()\n",
    "    ax.set_title(title, fontsize=24, loc=\"left\", pad=10)\n",
    "\n",
    "    for i, name in enumerate(names):\n",
    "        row = i % nrows\n",
    "        col = i // nrows\n",
    "        y = row * cell_height\n",
    "\n",
    "        swatch_start_x = cell_width * col\n",
    "        swatch_end_x = cell_width * col + swatch_width\n",
    "        text_pos_x = cell_width * col + swatch_width + 7\n",
    "\n",
    "        ax.text(text_pos_x, y, name, fontsize=14,\n",
    "                horizontalalignment='left',\n",
    "                verticalalignment='center')\n",
    "\n",
    "        ax.hlines(y, swatch_start_x, swatch_end_x,\n",
    "                  color=colors_dict[name], linewidth=18)"
   ]
  },
  {
   "cell_type": "code",
   "execution_count": null,
   "metadata": {},
   "outputs": [],
   "source": [
    "\n",
    "plot_colortable(mcolors.BASE_COLORS, \"Base Colors\",\n",
    "                sort_colors=True, emptycols=1)"
   ]
  },
  {
   "cell_type": "code",
   "execution_count": null,
   "metadata": {},
   "outputs": [],
   "source": [
    "\n",
    "colors_dict = mcolors.BASE_COLORS\n",
    "colors_dict"
   ]
  },
  {
   "cell_type": "code",
   "execution_count": null,
   "metadata": {},
   "outputs": [],
   "source": [
    "\n",
    "# Red, Green, Blue\n",
    "{name: mcolors.to_rgb(color) for name, color in colors_dict.items()}"
   ]
  },
  {
   "cell_type": "code",
   "execution_count": null,
   "metadata": {},
   "outputs": [],
   "source": [
    "\n",
    "# Hue, Saturation, Value\n",
    "{name: tuple(mcolors.rgb_to_hsv(mcolors.to_rgb(color))) for name, color in colors_dict.items()}"
   ]
  },
  {
   "cell_type": "code",
   "execution_count": null,
   "metadata": {},
   "outputs": [],
   "source": [
    "\n",
    "columns_list = ['Red', 'Green', 'Blue']\n",
    "def colors_dict_to_df(colors_dict):\n",
    "    rows_list = []\n",
    "    index_list = []\n",
    "    for base_name, color_tuple in colors_dict.items():\n",
    "        row_dict = {}\n",
    "        index_list.append(base_name)\n",
    "        for i, color_value in enumerate(columns_list):\n",
    "            row_dict[color_value] = color_tuple[i]\n",
    "        rows_list.append(row_dict)\n",
    "    df = pd.DataFrame(rows_list, columns=columns_list, index=index_list)\n",
    "    \n",
    "    return df"
   ]
  },
  {
   "cell_type": "code",
   "execution_count": null,
   "metadata": {},
   "outputs": [],
   "source": [
    "\n",
    "base_colors_df"
   ]
  },
  {
   "cell_type": "code",
   "execution_count": null,
   "metadata": {},
   "outputs": [],
   "source": [
    "\n",
    "from sklearn.decomposition import PCA\n",
    "\n",
    "pca = PCA(n_components = 2)\n",
    "X2D = pca.fit_transform(X)\n",
    "fig = plt.figure()\n",
    "ax = fig.add_subplot(111, aspect='equal')\n",
    "\n",
    "ax.plot(X2D[:, 0], X2D[:, 1], 'k+')\n",
    "ax.plot(X2D[:, 0], X2D[:, 1], 'k.')\n",
    "ax.plot([0], [0], 'ko')\n",
    "ax.arrow(0, 0, 0, 1, head_width=0.05, length_includes_head=True, head_length=0.1, fc='k', ec='k')\n",
    "ax.arrow(0, 0, 1, 0, head_width=0.05, length_includes_head=True, head_length=0.1, fc='k', ec='k')\n",
    "ax.set_xlabel('$z_1$', fontsize=18)\n",
    "ax.set_ylabel('$z_2$', fontsize=18, rotation=0)\n",
    "ax.axis([-1.5, 1.3, -1.2, 1.2])\n",
    "ax.grid(True)\n",
    "save_fig('dataset_2d_plot')"
   ]
  },
  {
   "cell_type": "code",
   "execution_count": null,
   "metadata": {},
   "outputs": [],
   "source": [
    "\n",
    "plot_colortable(mcolors.TABLEAU_COLORS, \"Tableau Palette\",\n",
    "                sort_colors=True, emptycols=2)"
   ]
  },
  {
   "cell_type": "code",
   "execution_count": null,
   "metadata": {},
   "outputs": [],
   "source": [
    "\n",
    "#sphinx_gallery_thumbnail_number = 3\n",
    "plot_colortable(mcolors.CSS4_COLORS, \"CSS Colors\")"
   ]
  },
  {
   "cell_type": "code",
   "execution_count": null,
   "metadata": {},
   "outputs": [],
   "source": [
    "\n",
    "for name, color in mcolors.XKCD_COLORS.items():\n",
    "    print(name, color)\n",
    "    print(mcolors.to_rgb(color))\n",
    "    break"
   ]
  },
  {
   "cell_type": "code",
   "execution_count": null,
   "metadata": {},
   "outputs": [],
   "source": [
    "\n",
    "import numpy as np\n",
    "from sklearn.decomposition import PCA\n",
    "from sklearn.cluster import DBSCAN\n",
    "\n",
    "colors_dict = {name: mcolors.to_rgb(color) for name, color in mcolors.XKCD_COLORS.items()}\n",
    "xkcd_colors_df = colors_dict_to_df(colors_dict)\n",
    "X = xkcd_colors_df.values\n",
    "pca_ndarray = PCA(n_components=2).fit_transform(X)"
   ]
  },
  {
   "cell_type": "code",
   "execution_count": null,
   "metadata": {},
   "outputs": [],
   "source": [
    "\n",
    "eps = 0.09\n",
    "min_samples = 1\n",
    "db = DBSCAN(eps=eps, min_samples=min_samples).fit(pca_ndarray)\n",
    "labels_ndarray = db.labels_\n",
    "unique_labels = np.unique(labels_ndarray)\n",
    "unique_labels_count = len(unique_labels)\n",
    "if (unique_labels_count > 4) and (unique_labels_count < 8):\n",
    "    print('np.unique(DBSCAN(eps={}, min_samples={}).fit(pca_ndarray).labels_) = {}'.format(eps, min_samples, unique_labels))"
   ]
  },
  {
   "cell_type": "code",
   "execution_count": null,
   "metadata": {},
   "outputs": [],
   "source": [
    "\n",
    "kwargs = dict(textcoords='offset points', ha='left', va='bottom',\n",
    "              bbox=dict(boxstyle='round,pad=0.5', fc='yellow', alpha=0.5),\n",
    "              arrowprops=dict(arrowstyle='->', connectionstyle='arc3,rad=0'))\n",
    "for col, label, x, y in zip(labels_ndarray, merge_df.index,\n",
    "                            pca_ndarray[:, 0], pca_ndarray[:, 1]):\n",
    "    if (label == 'Franks'):\n",
    "        annotation = plt.annotate('{} (and everyone else)'.format(label), xy=(x, y),\n",
    "                                  xytext=(20, 10), **kwargs)\n",
    "    elif (col == 1):\n",
    "        annotation = plt.annotate(label, xy=(x, y), xytext=(10, -20), **kwargs)\n",
    "    elif (col == 2):\n",
    "        annotation = plt.annotate(label, xy=(x, y), xytext=(-10, 20), **kwargs)\n",
    "    elif (col == 3):\n",
    "        annotation = plt.annotate(label, xy=(x, y), xytext=(-20, 20), **kwargs)\n",
    "    elif (col == 4):\n",
    "        annotation = plt.annotate(label, xy=(x, y), xytext=(-10, 20), **kwargs)"
   ]
  },
  {
   "cell_type": "code",
   "execution_count": null,
   "metadata": {},
   "outputs": [],
   "source": [
    "\n",
    "fig = plt.figure(figsize=(8, 8))\n",
    "ax = fig.add_subplot(111, autoscale_on=True)\n",
    "cmap = plt.get_cmap('viridis_r')\n",
    "path_collection = ax.scatter(pca_ndarray[:, 0], pca_ndarray[:, 1],\n",
    "                             c=labels_ndarray, edgecolors=(0, 0, 0), cmap=cmap)\n",
    "title_text = 'Dimension Reduced Scatterplot of the XKCD Colors'\n",
    "text = plt.title(title_text)\n",
    "xticklabel_obj = plt.xticks([])\n",
    "yticklabel_obj = plt.yticks([])"
   ]
  },
  {
   "cell_type": "code",
   "execution_count": null,
   "metadata": {},
   "outputs": [],
   "source": [
    "\n",
    "# Optionally plot the XKCD colors (Caution: will produce large figure)\n",
    "file_name = 'XKCD_Colors.png'\n",
    "png_folder = os.path.join(SAVES_FOLDER, 'png')\n",
    "file_path = os.path.join(png_folder, file_name)\n",
    "xkcd_fig = plot_colortable(mcolors.XKCD_COLORS, \"XKCD Colors\")\n",
    "xkcd_fig.savefig(file_path)"
   ]
  },
  {
   "cell_type": "code",
   "execution_count": null,
   "metadata": {},
   "outputs": [],
   "source": [
    "\n",
    "patriline_df = load_object('patriline_df')\n",
    "min_year = patriline_df['Year of Birth'].min()\n",
    "generations_df = load_object('generations_df')\n",
    "match_series = (generations_df['birth_year_begin'] >= min_year)\n",
    "generations_df[match_series]['saeculum_name'].unique()"
   ]
  },
  {
   "cell_type": "code",
   "execution_count": null,
   "metadata": {},
   "outputs": [],
   "source": [
    "\n",
    "unique_color_groups_count = len(generations_df[match_series]['saeculum_name'].unique())\n",
    "print(type(mcolors.XKCD_COLORS))\n",
    "dir(mcolors.XKCD_COLORS)"
   ]
  },
  {
   "cell_type": "code",
   "execution_count": null,
   "metadata": {},
   "outputs": [],
   "source": []
  }
 ],
 "metadata": {
  "kernelspec": {
   "display_name": "Python 3",
   "language": "python",
   "name": "python3"
  },
  "language_info": {
   "codemirror_mode": {
    "name": "ipython",
    "version": 3
   },
   "file_extension": ".py",
   "mimetype": "text/x-python",
   "name": "python",
   "nbconvert_exporter": "python",
   "pygments_lexer": "ipython3",
   "version": "3.6.8"
  }
 },
 "nbformat": 4,
 "nbformat_minor": 2
}
