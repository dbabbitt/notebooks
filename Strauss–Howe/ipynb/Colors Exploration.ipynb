{
 "cells": [
  {
   "cell_type": "code",
   "execution_count": null,
   "metadata": {},
   "outputs": [],
   "source": [
    "\n",
    "%run ../../load_magic/storage.py\n",
    "%pprint\n",
    "%matplotlib inline\n",
    "from itertools import combinations\n",
    "from math import cos, sin, pi, sqrt, atan\n",
    "from mpl_toolkits.mplot3d import Axes3D\n",
    "from sklearn.cluster import DBSCAN\n",
    "from sklearn.decomposition import PCA\n",
    "import matplotlib.colors as mcolors\n",
    "import matplotlib.pyplot as plt\n",
    "import numpy as np\n",
    "%who"
   ]
  },
  {
   "cell_type": "code",
   "execution_count": null,
   "metadata": {},
   "outputs": [],
   "source": [
    "\n",
    "columns_list = ['Red', 'Green', 'Blue']\n",
    "def colors_dict_to_df(colors_dict):\n",
    "    rows_list = []\n",
    "    index_list = []\n",
    "    for base_name, color_tuple in colors_dict.items():\n",
    "        row_dict = {}\n",
    "        index_list.append(base_name)\n",
    "        for i, color_value in enumerate(columns_list):\n",
    "            row_dict[color_value] = color_tuple[i]\n",
    "        rows_list.append(row_dict)\n",
    "    df = pd.DataFrame(rows_list, columns=columns_list, index=index_list)\n",
    "    \n",
    "    return df"
   ]
  },
  {
   "cell_type": "code",
   "execution_count": null,
   "metadata": {},
   "outputs": [],
   "source": [
    "\n",
    "def show_3d_plot(three_d_df, z_column='Red', x_column='Green', y_column='Blue'):\n",
    "    fig = plt.figure(figsize=(18, 8))\n",
    "    ax = fig.add_subplot(111, projection='3d', autoscale_on=True)\n",
    "    xlabel_text = ax.set_xlabel(x_column)\n",
    "    ylabel_text = ax.set_ylabel(y_column)\n",
    "    zlabel_text = ax.set_zlabel(z_column)\n",
    "    columns_list = [x_column, y_column, z_column]\n",
    "    df = three_d_df[columns_list].dropna(axis='index', how='any')\n",
    "    pca_ndarray = df.values\n",
    "    path_collection = ax.scatter(pca_ndarray[:, 0], pca_ndarray[:, 1],\n",
    "                                 pca_ndarray[:, 2], alpha=0.75, c=df.index)\n",
    "    title_text = 'Scatterplot of the {}, {}, and {} Data'\n",
    "    text_obj = ax.set_title(title_text.format(x_column, y_column, z_column))"
   ]
  },
  {
   "cell_type": "code",
   "execution_count": null,
   "metadata": {},
   "outputs": [],
   "source": [
    "\n",
    "def distance_from_white(old_tuple):\n",
    "    green_diff = 1.0 - old_tuple[0]\n",
    "    blue_diff = 1.0 - old_tuple[1]\n",
    "    red_diff = 1.0 - old_tuple[2]\n",
    "    \n",
    "    return sqrt(green_diff**2 + blue_diff**2 + red_diff**2)"
   ]
  },
  {
   "cell_type": "code",
   "execution_count": null,
   "metadata": {},
   "outputs": [],
   "source": [
    "\n",
    "def distance_from_black(old_tuple):\n",
    "    \n",
    "    return sqrt(old_tuple[0]**2 + old_tuple[1]**2 + old_tuple[2]**2)"
   ]
  },
  {
   "cell_type": "code",
   "execution_count": null,
   "metadata": {},
   "outputs": [],
   "source": [
    "\n",
    "def distance_from_red(old_tuple):\n",
    "    red_diff = 1.0 - old_tuple[2]\n",
    "    \n",
    "    return sqrt(old_tuple[0]**2 + old_tuple[1]**2 + red_diff**2)"
   ]
  },
  {
   "cell_type": "code",
   "execution_count": null,
   "metadata": {},
   "outputs": [],
   "source": [
    "\n",
    "def distance_from_green(old_tuple):\n",
    "    green_diff = 1.0 - old_tuple[0]\n",
    "    \n",
    "    return sqrt(green_diff**2 + old_tuple[1]**2 + old_tuple[2]**2)"
   ]
  },
  {
   "cell_type": "code",
   "execution_count": null,
   "metadata": {},
   "outputs": [],
   "source": [
    "\n",
    "def distance_from_blue(old_tuple):\n",
    "    blue_diff = 1.0 - old_tuple[1]\n",
    "    \n",
    "    return sqrt(old_tuple[0]**2 + blue_diff**2 + old_tuple[2]**2)"
   ]
  },
  {
   "cell_type": "code",
   "execution_count": null,
   "metadata": {},
   "outputs": [],
   "source": [
    "\n",
    "def distance_from_magenta(old_tuple):\n",
    "    blue_diff = 1.0 - old_tuple[1]\n",
    "    red_diff = 1.0 - old_tuple[2]\n",
    "    \n",
    "    return sqrt(old_tuple[0]**2 + blue_diff**2 + red_diff**2)"
   ]
  },
  {
   "cell_type": "code",
   "execution_count": null,
   "metadata": {},
   "outputs": [],
   "source": [
    "\n",
    "def distance_from_yellow(old_tuple):\n",
    "    green_diff = 1.0 - old_tuple[0]\n",
    "    red_diff = 1.0 - old_tuple[2]\n",
    "    \n",
    "    return sqrt(green_diff**2 + old_tuple[1]**2 + red_diff**2)"
   ]
  },
  {
   "cell_type": "code",
   "execution_count": null,
   "metadata": {},
   "outputs": [],
   "source": [
    "\n",
    "def distance_from_cyan(old_tuple):\n",
    "    green_diff = 1.0 - old_tuple[0]\n",
    "    blue_diff = 1.0 - old_tuple[1]\n",
    "    \n",
    "    return sqrt(green_diff**2 + blue_diff**2 + old_tuple[2]**2)"
   ]
  },
  {
   "cell_type": "code",
   "execution_count": null,
   "metadata": {},
   "outputs": [],
   "source": [
    "\n",
    "def get_distance_df(colors_df):\n",
    "    rows_list = []\n",
    "    columns_list = ['distance_from_white', 'distance_from_black', 'distance_from_red', 'distance_from_green', 'distance_from_blue',\n",
    "                    'distance_from_magenta', 'distance_from_yellow', 'distance_from_cyan']\n",
    "    index_list = []\n",
    "    for row_index, row_series in colors_df.iterrows():\n",
    "        green_value = row_series['Green']\n",
    "        blue_value = row_series['Blue']\n",
    "        red_value = row_series['Red']\n",
    "        row_tuple = (green_value, blue_value, red_value)\n",
    "        row_dict = {}\n",
    "        row_dict['distance_from_white'] = distance_from_white(row_tuple)\n",
    "        row_dict['distance_from_black'] = distance_from_black(row_tuple)\n",
    "        row_dict['distance_from_red'] = distance_from_red(row_tuple)\n",
    "        row_dict['distance_from_green'] = distance_from_green(row_tuple)\n",
    "        row_dict['distance_from_blue'] = distance_from_blue(row_tuple)\n",
    "        row_dict['distance_from_magenta'] = distance_from_magenta(row_tuple)\n",
    "        row_dict['distance_from_yellow'] = distance_from_yellow(row_tuple)\n",
    "        row_dict['distance_from_cyan'] = distance_from_cyan(row_tuple)\n",
    "        rows_list.append(row_dict)\n",
    "        index_list.append(row_index)\n",
    "    distance_df = pd.DataFrame(rows_list, columns=columns_list, index=index_list)\n",
    "    \n",
    "    return distance_df"
   ]
  },
  {
   "cell_type": "code",
   "execution_count": null,
   "metadata": {},
   "outputs": [],
   "source": [
    "\n",
    "full_corner_list = ['white', 'black', 'red', 'green', 'blue', 'magenta', 'yellow', 'cyan']\n",
    "def get_face_set_list(combinations_list):\n",
    "    combs_obj = combinations(combinations_list, 3)\n",
    "    face_set_list = []\n",
    "    for color_tuple in combs_obj:\n",
    "        face_set_list.append(set(color_tuple))\n",
    "    \n",
    "    return face_set_list"
   ]
  },
  {
   "cell_type": "code",
   "execution_count": null,
   "metadata": {},
   "outputs": [],
   "source": [
    "\n",
    "def plot_colortable(colors_dict, title, sort_colors=True, emptycols=0):\n",
    "    if len(colors_dict):\n",
    "\n",
    "        cell_width = 212\n",
    "        cell_height = 22\n",
    "        swatch_width = 48\n",
    "        margin = 12\n",
    "        topmargin = 40\n",
    "\n",
    "        # Sort colors_dict by hue, saturation, value and name.\n",
    "        if sort_colors is True:\n",
    "            by_hsv = sorted((tuple(mcolors.rgb_to_hsv(mcolors.to_rgb(color))),\n",
    "                             name)\n",
    "                            for name, color in colors_dict.items())\n",
    "            names = [name for hsv, name in by_hsv]\n",
    "        else:\n",
    "            names = list(colors_dict)\n",
    "\n",
    "        n = len(names)\n",
    "        ncols = 4 - emptycols\n",
    "        nrows = n // ncols + int(n % ncols > 0)\n",
    "\n",
    "        width = cell_width * 4 + 2 * margin\n",
    "        height = cell_height * nrows + margin + topmargin\n",
    "        dpi = 72\n",
    "\n",
    "        fig, ax = plt.subplots(figsize=(width / dpi, height / dpi), dpi=dpi)\n",
    "        fig.subplots_adjust(margin/width, margin/height,\n",
    "                            (width-margin)/width, (height-topmargin)/height)\n",
    "        ax.set_xlim(0, cell_width * 4)\n",
    "        ax.set_ylim(cell_height * (nrows-0.5), -cell_height/2.)\n",
    "        ax.yaxis.set_visible(False)\n",
    "        ax.xaxis.set_visible(False)\n",
    "        ax.set_axis_off()\n",
    "        ax.set_title(title, fontsize=24, loc=\"left\", pad=10)\n",
    "\n",
    "        for i, name in enumerate(names):\n",
    "            row = i % nrows\n",
    "            col = i // nrows\n",
    "            y = row * cell_height\n",
    "\n",
    "            swatch_start_x = cell_width * col\n",
    "            swatch_end_x = cell_width * col + swatch_width\n",
    "            text_pos_x = cell_width * col + swatch_width + 7\n",
    "\n",
    "            ax.text(text_pos_x, y, name, fontsize=14,\n",
    "                    horizontalalignment='left',\n",
    "                    verticalalignment='center')\n",
    "\n",
    "            ax.hlines(y, swatch_start_x, swatch_end_x,\n",
    "                      color=colors_dict[name], linewidth=18)"
   ]
  },
  {
   "cell_type": "code",
   "execution_count": null,
   "metadata": {},
   "outputs": [],
   "source": [
    "\n",
    "# Hue, Saturation, Value\n",
    "def get_hsv_dict(colors_dict):\n",
    "    \n",
    "    return {name: tuple(mcolors.rgb_to_hsv(mcolors.to_rgb(color))) for name, color in colors_dict.items()}"
   ]
  },
  {
   "cell_type": "code",
   "execution_count": null,
   "metadata": {},
   "outputs": [],
   "source": [
    "\n",
    "def show_face_proximity(distance_df):\n",
    "    for row_index, row_series in distance_df.iterrows():\n",
    "        tuple_list = sorted(row_series.to_dict().items(), key=lambda x: x[1])\n",
    "        if tuple_list[0][1] == 0.0:\n",
    "            print('{} is in the {} corner'.format(row_index, tuple_list[0][0].split('_')[2]))\n",
    "        else:\n",
    "            corners_list = tuple_list[:3]\n",
    "            face_set = set([corners_list[0][0].split('_')[2], corners_list[1][0].split('_')[2], corners_list[2][0].split('_')[2]])\n",
    "            if face_set in kryg_face_set_list:\n",
    "                print('{} is nearest the black-red-yellow-green face'.format(row_index))\n",
    "            elif face_set in krmb_face_set_list:\n",
    "                print('{} is nearest the black-red-magenta-blue face'.format(row_index))\n",
    "            elif face_set in kbcg_face_set_list:\n",
    "                print('{} is nearest the black-blue-cyan-green face'.format(row_index))\n",
    "            elif face_set in wcgy_face_set_list:\n",
    "                print('{} is nearest the white-cyan-green-yellow face'.format(row_index))\n",
    "            elif face_set in wcbm_face_set_list:\n",
    "                print('{} is nearest the white-cyan-blue-magenta face'.format(row_index))\n",
    "            elif face_set in wyrm_face_set_list:\n",
    "                print('{} is nearest the white-yellow-red-magenta face'.format(row_index))\n",
    "            else:\n",
    "                print('{} is nearest the {} face'.format(row_index, '-'.join(list(face_set))))"
   ]
  },
  {
   "cell_type": "code",
   "execution_count": null,
   "metadata": {},
   "outputs": [],
   "source": [
    "\n",
    "def get_face_dictionary(distance_df):\n",
    "    face_dictionary = {}\n",
    "    for row_index, row_series in distance_df.iterrows():\n",
    "        tuple_list = sorted(row_series.to_dict().items(), key=lambda x: x[1])\n",
    "        if tuple_list[0][1] == 0.0:\n",
    "            face_dictionary[row_index] = tuple_list[0][0].split('_')[2]\n",
    "        else:\n",
    "            corners_list = tuple_list[:3]\n",
    "            face_set = set([corners_list[0][0].split('_')[2], corners_list[1][0].split('_')[2], corners_list[2][0].split('_')[2]])\n",
    "            if face_set in kryg_face_set_list:\n",
    "                face_dictionary[row_index] = 'black-red-yellow-green'\n",
    "            elif face_set in krmb_face_set_list:\n",
    "                face_dictionary[row_index] = 'black-red-magenta-blue'\n",
    "            elif face_set in kbcg_face_set_list:\n",
    "                face_dictionary[row_index] = 'black-blue-cyan-green'\n",
    "            elif face_set in wcgy_face_set_list:\n",
    "                face_dictionary[row_index] = 'white-cyan-green-yellow'\n",
    "            elif face_set in wcbm_face_set_list:\n",
    "                face_dictionary[row_index] = 'white-cyan-blue-magenta'\n",
    "            elif face_set in wyrm_face_set_list:\n",
    "                face_dictionary[row_index] = 'white-yellow-red-magenta'\n",
    "            else:\n",
    "                face_dictionary[row_index] = '-'.join(list(face_set))\n",
    "    \n",
    "    return face_dictionary"
   ]
  },
  {
   "cell_type": "code",
   "execution_count": null,
   "metadata": {},
   "outputs": [],
   "source": [
    "\n",
    "def distance_from_kryg_face(old_tuple):\n",
    "    green_diff = 0.5 - old_tuple[0]\n",
    "    red_diff = 0.5 - old_tuple[2]\n",
    "    \n",
    "    return sqrt(green_diff**2 + old_tuple[1]**2 + red_diff**2)"
   ]
  },
  {
   "cell_type": "code",
   "execution_count": null,
   "metadata": {},
   "outputs": [],
   "source": [
    "\n",
    "def distance_from_krmb_face(old_tuple):\n",
    "    blue_diff = 0.5 - old_tuple[1]\n",
    "    red_diff = 0.5 - old_tuple[2]\n",
    "    \n",
    "    return sqrt(old_tuple[0]**2 + blue_diff**2 + red_diff**2)"
   ]
  },
  {
   "cell_type": "code",
   "execution_count": null,
   "metadata": {},
   "outputs": [],
   "source": [
    "\n",
    "def distance_from_kbcg_face(old_tuple):\n",
    "    green_diff = 0.5 - old_tuple[0]\n",
    "    blue_diff = 0.5 - old_tuple[1]\n",
    "    \n",
    "    return sqrt(green_diff**2 + blue_diff**2 + old_tuple[2]**2)"
   ]
  },
  {
   "cell_type": "code",
   "execution_count": null,
   "metadata": {},
   "outputs": [],
   "source": [
    "\n",
    "def distance_from_wcgy_face(old_tuple):\n",
    "    green_diff = 1.0 - old_tuple[0]\n",
    "    blue_diff = 0.5 - old_tuple[1]\n",
    "    red_diff = 0.5 - old_tuple[2]\n",
    "    \n",
    "    return sqrt(green_diff**2 + blue_diff**2 + red_diff**2)"
   ]
  },
  {
   "cell_type": "code",
   "execution_count": null,
   "metadata": {},
   "outputs": [],
   "source": [
    "\n",
    "def distance_from_wcbm_face(old_tuple):\n",
    "    green_diff = 0.5 - old_tuple[0]\n",
    "    blue_diff = 1.0 - old_tuple[1]\n",
    "    red_diff = 0.5 - old_tuple[2]\n",
    "    \n",
    "    return sqrt(green_diff**2 + blue_diff**2 + red_diff**2)"
   ]
  },
  {
   "cell_type": "code",
   "execution_count": null,
   "metadata": {},
   "outputs": [],
   "source": [
    "\n",
    "def distance_from_wyrm_face(old_tuple):\n",
    "    green_diff = 0.5 - old_tuple[0]\n",
    "    blue_diff = 0.5 - old_tuple[1]\n",
    "    red_diff = 1.0 - old_tuple[2]\n",
    "    \n",
    "    return sqrt(green_diff**2 + blue_diff**2 + red_diff**2)"
   ]
  },
  {
   "cell_type": "code",
   "execution_count": null,
   "metadata": {},
   "outputs": [],
   "source": [
    "\n",
    "def display_test_colors(test_list, saeculum_title, face_title, nearness_str='far from', color_dict=mcolors.XKCD_COLORS, color_title='XKCD'):\n",
    "    print(test_list)\n",
    "    plot_colortable(colors_dict={name: color for name, color in color_dict.items() if name in [name for distance, name in test_list]},\n",
    "                    title='{} {} Colors, {} the {} Face'.format(color_title, saeculum_title, nearness_str, face_title),\n",
    "                    sort_colors=True, emptycols=0)"
   ]
  },
  {
   "cell_type": "code",
   "execution_count": null,
   "metadata": {},
   "outputs": [],
   "source": [
    "\n",
    "kryg_face_set_list = get_face_set_list(['black', 'red', 'yellow', 'green'])\n",
    "krmb_face_set_list = get_face_set_list(['black', 'red', 'magenta', 'blue'])\n",
    "kbcg_face_set_list = get_face_set_list(['black', 'blue', 'cyan', 'green'])\n",
    "wcgy_face_set_list = get_face_set_list(['white', 'cyan', 'green', 'yellow'])\n",
    "wcbm_face_set_list = get_face_set_list(['white', 'cyan', 'blue', 'magenta'])\n",
    "wyrm_face_set_list = get_face_set_list(['white', 'yellow', 'red', 'magenta'])"
   ]
  },
  {
   "cell_type": "markdown",
   "metadata": {},
   "source": [
    "\n",
    "# XKCD"
   ]
  },
  {
   "cell_type": "code",
   "execution_count": null,
   "metadata": {},
   "outputs": [],
   "source": [
    "\n",
    "colors_dict = {name: mcolors.to_rgb(color) for name, color in mcolors.XKCD_COLORS.items()}\n",
    "xkcd_colors_df = colors_dict_to_df(colors_dict)\n",
    "show_3d_plot(xkcd_colors_df)"
   ]
  },
  {
   "cell_type": "code",
   "execution_count": null,
   "metadata": {},
   "outputs": [],
   "source": [
    "\n",
    "xkcd_distance_df = get_distance_df(xkcd_colors_df)\n",
    "xkcd_face_dictionary = get_face_dictionary(xkcd_distance_df)\n",
    "#show_face_proximity(xkcd_distance_df)"
   ]
  },
  {
   "cell_type": "code",
   "execution_count": null,
   "metadata": {},
   "outputs": [],
   "source": [
    "\n",
    "np.unique(list(xkcd_face_dictionary.values()))"
   ]
  },
  {
   "cell_type": "code",
   "execution_count": null,
   "metadata": {},
   "outputs": [],
   "source": [
    "\n",
    "patriline_df = load_object('patriline_df')\n",
    "min_year = patriline_df['Year of Birth'].min()\n",
    "generations_df = load_object('generations_df')\n",
    "match_series = (generations_df['birth_year_begin'] >= min_year)\n",
    "generations_df[match_series]['saeculum_name'].unique()"
   ]
  },
  {
   "cell_type": "code",
   "execution_count": null,
   "metadata": {},
   "outputs": [],
   "source": [
    "\n",
    "for saeculum_name in generations_df[match_series]['saeculum_name'].unique():\n",
    "    saeculum_name = '_'.join(saeculum_name.lower().split(' '))\n",
    "    print('xkcd_{}_list = []'.format(saeculum_name))"
   ]
  },
  {
   "cell_type": "code",
   "execution_count": null,
   "metadata": {},
   "outputs": [],
   "source": [
    "\n",
    "xkcd_reformation_list = []\n",
    "xkcd_new_world_list = []\n",
    "xkcd_revolutionary_list = []\n",
    "xkcd_civil_war_list = []\n",
    "xkcd_great_power_list = []\n",
    "xkcd_millennial_list = []\n",
    "for key, value in xkcd_face_dictionary.items():\n",
    "    if value == 'black-blue-cyan-green':\n",
    "        xkcd_reformation_list.append(key)\n",
    "    elif value == 'black-red-magenta-blue':\n",
    "        xkcd_new_world_list.append(key)\n",
    "    elif value == 'black-red-yellow-green':\n",
    "        xkcd_revolutionary_list.append(key)\n",
    "    elif value == 'white-cyan-blue-magenta':\n",
    "        xkcd_civil_war_list.append(key)\n",
    "    elif value == 'white-cyan-green-yellow':\n",
    "        xkcd_great_power_list.append(key)\n",
    "    elif value == 'white-yellow-red-magenta':\n",
    "        xkcd_millennial_list.append(key)"
   ]
  },
  {
   "cell_type": "code",
   "execution_count": null,
   "metadata": {},
   "outputs": [],
   "source": [
    "\n",
    "xkcd_kbcg_reformation_dict = {name: distance_from_kbcg_face(mcolors.to_rgb(color)) for name,\n",
    "                              color in mcolors.XKCD_COLORS.items() if name in xkcd_reformation_list}\n",
    "color_tuple_list = sorted((distance, name) for name, distance in xkcd_kbcg_reformation_dict.items())"
   ]
  },
  {
   "cell_type": "code",
   "execution_count": null,
   "metadata": {},
   "outputs": [],
   "source": [
    "\n",
    "test_list = color_tuple_list[:4]\n",
    "saeculum_title = 'Reformation'\n",
    "face_title = 'KBCG'\n",
    "nearness_str = 'close to'\n",
    "display_test_colors(test_list, saeculum_title, face_title, nearness_str)"
   ]
  },
  {
   "cell_type": "code",
   "execution_count": null,
   "metadata": {},
   "outputs": [],
   "source": [
    "\n",
    "test_list = color_tuple_list[-4:]\n",
    "saeculum_title = 'Reformation'\n",
    "face_title = 'KBCG'\n",
    "nearness_str = 'far from'\n",
    "display_test_colors(test_list, saeculum_title, face_title, nearness_str)"
   ]
  },
  {
   "cell_type": "code",
   "execution_count": null,
   "metadata": {},
   "outputs": [],
   "source": [
    "\n",
    "xkcd_krmb_new_world_dict = {name: distance_from_krmb_face(mcolors.to_rgb(color)) for name,\n",
    "                            color in mcolors.XKCD_COLORS.items() if name in xkcd_new_world_list}\n",
    "color_tuple_list = sorted((distance, name) for name, distance in xkcd_krmb_new_world_dict.items())"
   ]
  },
  {
   "cell_type": "code",
   "execution_count": null,
   "metadata": {},
   "outputs": [],
   "source": [
    "\n",
    "test_list = color_tuple_list[:4]\n",
    "saeculum_title = 'New World'\n",
    "face_title = 'KRMB'\n",
    "nearness_str = 'close to'\n",
    "display_test_colors(test_list, saeculum_title, face_title, nearness_str)"
   ]
  },
  {
   "cell_type": "code",
   "execution_count": null,
   "metadata": {},
   "outputs": [],
   "source": [
    "\n",
    "test_list = color_tuple_list[-4:]\n",
    "saeculum_title = 'New World'\n",
    "face_title = 'KRMB'\n",
    "nearness_str = 'far from'\n",
    "display_test_colors(test_list, saeculum_title, face_title, nearness_str)"
   ]
  },
  {
   "cell_type": "code",
   "execution_count": null,
   "metadata": {},
   "outputs": [],
   "source": [
    "\n",
    "xkcd_kryg_revolutionary_dict = {name: distance_from_kryg_face(mcolors.to_rgb(color)) for name,\n",
    "                                color in mcolors.XKCD_COLORS.items() if name in xkcd_revolutionary_list}\n",
    "color_tuple_list = sorted((distance, name) for name, distance in xkcd_kryg_revolutionary_dict.items())"
   ]
  },
  {
   "cell_type": "code",
   "execution_count": null,
   "metadata": {},
   "outputs": [],
   "source": [
    "\n",
    "test_list = color_tuple_list[:4]\n",
    "saeculum_title = 'Revolutionary'\n",
    "face_title = 'KRYG'\n",
    "nearness_str = 'close to'\n",
    "display_test_colors(test_list, saeculum_title, face_title, nearness_str)"
   ]
  },
  {
   "cell_type": "code",
   "execution_count": null,
   "metadata": {},
   "outputs": [],
   "source": [
    "\n",
    "test_list = color_tuple_list[-4:]\n",
    "saeculum_title = 'Revolutionary'\n",
    "face_title = 'KRYG'\n",
    "nearness_str = 'far from'\n",
    "display_test_colors(test_list, saeculum_title, face_title, nearness_str)"
   ]
  },
  {
   "cell_type": "code",
   "execution_count": null,
   "metadata": {},
   "outputs": [],
   "source": [
    "\n",
    "xkcd_wcbm_civil_war_dict = {name: distance_from_wcbm_face(mcolors.to_rgb(color)) for name,\n",
    "                            color in mcolors.XKCD_COLORS.items() if name in xkcd_civil_war_list}\n",
    "color_tuple_list = sorted((distance, name) for name, distance in xkcd_wcbm_civil_war_dict.items())"
   ]
  },
  {
   "cell_type": "code",
   "execution_count": null,
   "metadata": {},
   "outputs": [],
   "source": [
    "\n",
    "test_list = color_tuple_list[:4]\n",
    "saeculum_title = 'Civil War'\n",
    "face_title = 'WCBM'\n",
    "nearness_str = 'close to'\n",
    "display_test_colors(test_list, saeculum_title, face_title, nearness_str)"
   ]
  },
  {
   "cell_type": "code",
   "execution_count": null,
   "metadata": {},
   "outputs": [],
   "source": [
    "\n",
    "test_list = color_tuple_list[-4:]\n",
    "saeculum_title = 'Civil War'\n",
    "face_title = 'WCBM'\n",
    "nearness_str = 'far from'\n",
    "display_test_colors(test_list, saeculum_title, face_title, nearness_str)"
   ]
  },
  {
   "cell_type": "code",
   "execution_count": null,
   "metadata": {},
   "outputs": [],
   "source": [
    "\n",
    "xkcd_wcgy_great_power_dict = {name: distance_from_wcgy_face(mcolors.to_rgb(color)) for name,\n",
    "                              color in mcolors.XKCD_COLORS.items() if name in xkcd_great_power_list}\n",
    "color_tuple_list = sorted((distance, name) for name, distance in xkcd_wcgy_great_power_dict.items())"
   ]
  },
  {
   "cell_type": "code",
   "execution_count": null,
   "metadata": {},
   "outputs": [],
   "source": [
    "\n",
    "test_list = color_tuple_list[:4]\n",
    "saeculum_title = 'Great Power'\n",
    "face_title = 'WCGY'\n",
    "nearness_str = 'close to'\n",
    "display_test_colors(test_list, saeculum_title, face_title, nearness_str)"
   ]
  },
  {
   "cell_type": "code",
   "execution_count": null,
   "metadata": {},
   "outputs": [],
   "source": [
    "\n",
    "test_list = color_tuple_list[-4:]\n",
    "saeculum_title = 'Great Power'\n",
    "face_title = 'WCGY'\n",
    "nearness_str = 'far from'\n",
    "display_test_colors(test_list, saeculum_title, face_title, nearness_str)"
   ]
  },
  {
   "cell_type": "code",
   "execution_count": null,
   "metadata": {},
   "outputs": [],
   "source": [
    "\n",
    "xkcd_wyrm_millennial_dict = {name: distance_from_wyrm_face(mcolors.to_rgb(color)) for name,\n",
    "                             color in mcolors.XKCD_COLORS.items() if name in xkcd_millennial_list}\n",
    "color_tuple_list = sorted((distance, name) for name, distance in xkcd_wyrm_millennial_dict.items())"
   ]
  },
  {
   "cell_type": "code",
   "execution_count": null,
   "metadata": {},
   "outputs": [],
   "source": [
    "\n",
    "test_list = color_tuple_list[:4]\n",
    "saeculum_title = 'Millenial'\n",
    "face_title = 'WYRM'\n",
    "nearness_str = 'close to'\n",
    "display_test_colors(test_list, saeculum_title, face_title, nearness_str)"
   ]
  },
  {
   "cell_type": "code",
   "execution_count": null,
   "metadata": {},
   "outputs": [],
   "source": [
    "\n",
    "test_list = color_tuple_list[-4:]\n",
    "saeculum_title = 'Millenial'\n",
    "face_title = 'WYRM'\n",
    "nearness_str = 'far from'\n",
    "display_test_colors(test_list, saeculum_title, face_title, nearness_str)"
   ]
  },
  {
   "cell_type": "code",
   "execution_count": null,
   "metadata": {},
   "outputs": [],
   "source": [
    "\n",
    "test_list = color_tuple_list[:20:5]\n",
    "saeculum_title = 'Millenial'\n",
    "face_title = 'WYRM'\n",
    "nearness_str = 'close to'\n",
    "display_test_colors(test_list, saeculum_title, face_title, nearness_str)"
   ]
  },
  {
   "cell_type": "code",
   "execution_count": null,
   "metadata": {},
   "outputs": [],
   "source": [
    "\n",
    "plot_colortable(colors_dict={name: color for name, color in mcolors.XKCD_COLORS.items() if name in xkcd_reformation_list},\n",
    "                title='XKCD Reformation Colors', sort_colors=True, emptycols=0)"
   ]
  },
  {
   "cell_type": "code",
   "execution_count": null,
   "metadata": {},
   "outputs": [],
   "source": [
    "\n",
    "plot_colortable(colors_dict={name: color for name, color in mcolors.XKCD_COLORS.items() if name in xkcd_new_world_list},\n",
    "                title='XKCD New World Colors', sort_colors=True, emptycols=0)"
   ]
  },
  {
   "cell_type": "code",
   "execution_count": null,
   "metadata": {},
   "outputs": [],
   "source": [
    "\n",
    "plot_colortable(colors_dict={name: color for name, color in mcolors.XKCD_COLORS.items() if name in xkcd_revolutionary_list},\n",
    "                title='XKCD Revolutionary Colors', sort_colors=True, emptycols=0)"
   ]
  },
  {
   "cell_type": "code",
   "execution_count": null,
   "metadata": {},
   "outputs": [],
   "source": [
    "\n",
    "plot_colortable(colors_dict={name: color for name, color in mcolors.XKCD_COLORS.items() if name in xkcd_civil_war_list},\n",
    "                title='XKCD Civil War Colors', sort_colors=True, emptycols=0)"
   ]
  },
  {
   "cell_type": "code",
   "execution_count": null,
   "metadata": {},
   "outputs": [],
   "source": [
    "\n",
    "plot_colortable(colors_dict={name: color for name, color in mcolors.XKCD_COLORS.items() if name in xkcd_great_power_list},\n",
    "                title='XKCD Great Power Colors', sort_colors=True, emptycols=0)"
   ]
  },
  {
   "cell_type": "code",
   "execution_count": null,
   "metadata": {},
   "outputs": [],
   "source": [
    "\n",
    "plot_colortable(colors_dict={name: color for name, color in mcolors.XKCD_COLORS.items() if name in xkcd_millennial_list},\n",
    "                title='XKCD Millennial Colors', sort_colors=True, emptycols=0)"
   ]
  },
  {
   "cell_type": "markdown",
   "metadata": {},
   "source": [
    "\n",
    "# CSS4"
   ]
  },
  {
   "cell_type": "code",
   "execution_count": null,
   "metadata": {},
   "outputs": [],
   "source": [
    "\n",
    "colors_dict = {name: mcolors.to_rgb(color) for name, color in mcolors.CSS4_COLORS.items()}\n",
    "css4_colors_df = colors_dict_to_df(colors_dict)\n",
    "show_3d_plot(css4_colors_df)"
   ]
  },
  {
   "cell_type": "code",
   "execution_count": null,
   "metadata": {},
   "outputs": [],
   "source": [
    "\n",
    "css4_reformation_list = []\n",
    "css4_new_world_list = []\n",
    "css4_revolutionary_list = []\n",
    "css4_civil_war_list = []\n",
    "css4_great_power_list = []\n",
    "css4_millennial_list = []\n",
    "css4_distance_df = get_distance_df(css4_colors_df)\n",
    "css4_face_dictionary = get_face_dictionary(css4_distance_df)\n",
    "for key, value in css4_face_dictionary.items():\n",
    "    if value == 'black-blue-cyan-green':\n",
    "        css4_reformation_list .append(key)\n",
    "    elif value == 'black-red-magenta-blue':\n",
    "        css4_new_world_list .append(key)\n",
    "    elif value == 'black-red-yellow-green':\n",
    "        css4_revolutionary_list .append(key)\n",
    "    elif value == 'white-cyan-blue-magenta':\n",
    "        css4_civil_war_list .append(key)\n",
    "    elif value == 'white-cyan-green-yellow':\n",
    "        css4_great_power_list .append(key)\n",
    "    elif value == 'white-yellow-red-magenta':\n",
    "        css4_millennial_list .append(key)"
   ]
  },
  {
   "cell_type": "code",
   "execution_count": null,
   "metadata": {},
   "outputs": [],
   "source": [
    "\n",
    "css4_kbcg_reformation_dict = {name: distance_from_kbcg_face(mcolors.to_rgb(color)) for name,\n",
    "                              color in mcolors.CSS4_COLORS.items() if name in css4_reformation_list}"
   ]
  },
  {
   "cell_type": "code",
   "execution_count": null,
   "metadata": {},
   "outputs": [],
   "source": [
    "\n",
    "plot_colortable(colors_dict={name: color for name, color in mcolors.CSS4_COLORS.items() if name in css4_reformation_list},\n",
    "                title='CSS4 Reformation Colors', sort_colors=True, emptycols=1)"
   ]
  },
  {
   "cell_type": "code",
   "execution_count": null,
   "metadata": {},
   "outputs": [],
   "source": [
    "\n",
    "color_tuple_list = sorted((distance, name) for name, distance in css4_kbcg_reformation_dict.items())\n",
    "test_list = color_tuple_list[:8]\n",
    "saeculum_title = 'Reformation'\n",
    "face_title = 'KBCG'\n",
    "nearness_str = 'close to'\n",
    "display_test_colors(test_list, saeculum_title, face_title, nearness_str, color_dict=mcolors.CSS4_COLORS, color_title='CSS4')"
   ]
  },
  {
   "cell_type": "code",
   "execution_count": null,
   "metadata": {},
   "outputs": [],
   "source": [
    "\n",
    "color_tuple_list = sorted((distance, name) for name, distance in css4_kbcg_reformation_dict.items())\n",
    "test_list = color_tuple_list[-4:]\n",
    "saeculum_title = 'Reformation'\n",
    "face_title = 'KBCG'\n",
    "nearness_str = 'far from'\n",
    "display_test_colors(test_list, saeculum_title, face_title, nearness_str, color_dict=mcolors.CSS4_COLORS, color_title='CSS4')"
   ]
  },
  {
   "cell_type": "code",
   "execution_count": null,
   "metadata": {},
   "outputs": [],
   "source": [
    "\n",
    "css4_krmb_new_world_dict = {name: distance_from_krmb_face(mcolors.to_rgb(color)) for name,\n",
    "                            color in mcolors.CSS4_COLORS.items() if name in css4_new_world_list}"
   ]
  },
  {
   "cell_type": "code",
   "execution_count": null,
   "metadata": {},
   "outputs": [],
   "source": [
    "\n",
    "plot_colortable(colors_dict={name: color for name, color in mcolors.CSS4_COLORS.items() if name in css4_new_world_list},\n",
    "                title='CSS4 New World Colors', sort_colors=True, emptycols=1)"
   ]
  },
  {
   "cell_type": "code",
   "execution_count": null,
   "metadata": {},
   "outputs": [],
   "source": [
    "\n",
    "color_tuple_list = sorted((distance, name) for name, distance in css4_krmb_new_world_dict.items())\n",
    "test_list = color_tuple_list[:12]\n",
    "saeculum_title = 'New World'\n",
    "face_title = 'KRMB'\n",
    "nearness_str = 'close to'\n",
    "display_test_colors(test_list, saeculum_title, face_title, nearness_str, color_dict=mcolors.CSS4_COLORS, color_title='CSS4')"
   ]
  },
  {
   "cell_type": "code",
   "execution_count": null,
   "metadata": {},
   "outputs": [],
   "source": [
    "\n",
    "color_tuple_list = sorted((distance, name) for name, distance in css4_krmb_new_world_dict.items())\n",
    "test_list = color_tuple_list[-4:]\n",
    "saeculum_title = 'New World'\n",
    "face_title = 'KRMB'\n",
    "nearness_str = 'far from'\n",
    "display_test_colors(test_list, saeculum_title, face_title, nearness_str, color_dict=mcolors.CSS4_COLORS, color_title='CSS4')"
   ]
  },
  {
   "cell_type": "code",
   "execution_count": null,
   "metadata": {},
   "outputs": [],
   "source": [
    "\n",
    "css4_kryg_revolutionary_dict = {name: distance_from_kryg_face(mcolors.to_rgb(color)) for name,\n",
    "                                color in mcolors.CSS4_COLORS.items() if name in css4_revolutionary_list}"
   ]
  },
  {
   "cell_type": "code",
   "execution_count": null,
   "metadata": {},
   "outputs": [],
   "source": [
    "\n",
    "plot_colortable(colors_dict={name: color for name, color in mcolors.CSS4_COLORS.items() if name in css4_revolutionary_list},\n",
    "                title='CSS4 Revolutionary Colors', sort_colors=True, emptycols=1)"
   ]
  },
  {
   "cell_type": "code",
   "execution_count": null,
   "metadata": {},
   "outputs": [],
   "source": [
    "\n",
    "color_tuple_list = sorted((distance, name) for name, distance in css4_kryg_revolutionary_dict.items())\n",
    "test_list = color_tuple_list[:12]\n",
    "saeculum_title = 'Revolutionary'\n",
    "face_title = 'KRYG'\n",
    "nearness_str = 'close to'\n",
    "display_test_colors(test_list, saeculum_title, face_title, nearness_str, color_dict=mcolors.CSS4_COLORS, color_title='CSS4')"
   ]
  },
  {
   "cell_type": "code",
   "execution_count": null,
   "metadata": {},
   "outputs": [],
   "source": [
    "\n",
    "color_tuple_list = sorted((distance, name) for name, distance in css4_kryg_revolutionary_dict.items())\n",
    "test_list = color_tuple_list[-4:]\n",
    "saeculum_title = 'Revolutionary'\n",
    "face_title = 'KRYG'\n",
    "nearness_str = 'far from'\n",
    "display_test_colors(test_list, saeculum_title, face_title, nearness_str, color_dict=mcolors.CSS4_COLORS, color_title='CSS4')"
   ]
  },
  {
   "cell_type": "code",
   "execution_count": null,
   "metadata": {},
   "outputs": [],
   "source": [
    "\n",
    "css4_wcbm_civil_war_dict = {name: distance_from_wcbm_face(mcolors.to_rgb(color)) for name,\n",
    "                            color in mcolors.CSS4_COLORS.items() if name in css4_civil_war_list}"
   ]
  },
  {
   "cell_type": "code",
   "execution_count": null,
   "metadata": {},
   "outputs": [],
   "source": [
    "\n",
    "plot_colortable(colors_dict={name: color for name, color in mcolors.CSS4_COLORS.items() if name in css4_civil_war_list},\n",
    "                title='CSS4 Civil War Colors', sort_colors=True, emptycols=1)"
   ]
  },
  {
   "cell_type": "code",
   "execution_count": null,
   "metadata": {},
   "outputs": [],
   "source": [
    "\n",
    "color_tuple_list = sorted((distance, name) for name, distance in css4_wcbm_civil_war_dict.items())\n",
    "test_list = color_tuple_list[:4]\n",
    "saeculum_title = 'Civil War'\n",
    "face_title = 'WCBM'\n",
    "nearness_str = 'close to'\n",
    "display_test_colors(test_list, saeculum_title, face_title, nearness_str, color_dict=mcolors.CSS4_COLORS, color_title='CSS4')"
   ]
  },
  {
   "cell_type": "code",
   "execution_count": null,
   "metadata": {},
   "outputs": [],
   "source": [
    "\n",
    "color_tuple_list = sorted((distance, name) for name, distance in css4_wcbm_civil_war_dict.items())\n",
    "test_list = color_tuple_list[:12]\n",
    "saeculum_title = 'Civil War'\n",
    "face_title = 'WCBM'\n",
    "nearness_str = 'close to'\n",
    "display_test_colors(test_list, saeculum_title, face_title, nearness_str, color_dict=mcolors.CSS4_COLORS, color_title='CSS4')"
   ]
  },
  {
   "cell_type": "code",
   "execution_count": null,
   "metadata": {},
   "outputs": [],
   "source": [
    "\n",
    "color_tuple_list = sorted((distance, name) for name, distance in css4_wcbm_civil_war_dict.items())\n",
    "test_list = color_tuple_list[-12:]\n",
    "saeculum_title = 'Civil War'\n",
    "face_title = 'WCBM'\n",
    "nearness_str = 'far from'\n",
    "display_test_colors(test_list, saeculum_title, face_title, nearness_str, color_dict=mcolors.CSS4_COLORS, color_title='CSS4')"
   ]
  },
  {
   "cell_type": "code",
   "execution_count": null,
   "metadata": {},
   "outputs": [],
   "source": [
    "\n",
    "css4_wcgy_great_power_dict = {name: distance_from_wcgy_face(mcolors.to_rgb(color)) for name,\n",
    "                              color in mcolors.CSS4_COLORS.items() if name in css4_great_power_list}\n",
    "color_tuple_list = sorted((distance, name) for name, distance in css4_wcgy_great_power_dict.items())"
   ]
  },
  {
   "cell_type": "code",
   "execution_count": null,
   "metadata": {},
   "outputs": [],
   "source": [
    "\n",
    "plot_colortable(colors_dict={name: color for name, color in mcolors.CSS4_COLORS.items() if name in css4_great_power_list},\n",
    "                title='CSS4 Great Power Colors', sort_colors=True, emptycols=1)"
   ]
  },
  {
   "cell_type": "code",
   "execution_count": null,
   "metadata": {},
   "outputs": [],
   "source": [
    "\n",
    "test_list = color_tuple_list[:4]\n",
    "saeculum_title = 'Great Power'\n",
    "face_title = 'WCGY'\n",
    "nearness_str = 'close to'\n",
    "display_test_colors(test_list, saeculum_title, face_title, nearness_str, color_dict=mcolors.CSS4_COLORS, color_title='CSS4')"
   ]
  },
  {
   "cell_type": "code",
   "execution_count": null,
   "metadata": {},
   "outputs": [],
   "source": [
    "\n",
    "test_list = color_tuple_list[-4:]\n",
    "saeculum_title = 'Great Power'\n",
    "face_title = 'WCGY'\n",
    "nearness_str = 'far from'\n",
    "display_test_colors(test_list, saeculum_title, face_title, nearness_str, color_dict=mcolors.CSS4_COLORS, color_title='CSS4')"
   ]
  },
  {
   "cell_type": "code",
   "execution_count": null,
   "metadata": {},
   "outputs": [],
   "source": [
    "\n",
    "css4_wyrm_millennial_dict = {name: distance_from_wyrm_face(mcolors.to_rgb(color)) for name,\n",
    "                             color in mcolors.CSS4_COLORS.items() if name in css4_millennial_list}\n",
    "color_tuple_list = sorted((distance, name) for name, distance in css4_wyrm_millennial_dict.items())"
   ]
  },
  {
   "cell_type": "code",
   "execution_count": null,
   "metadata": {},
   "outputs": [],
   "source": [
    "\n",
    "plot_colortable(colors_dict={name: color for name, color in mcolors.CSS4_COLORS.items() if name in css4_millennial_list},\n",
    "                title='CSS4 Millennial Colors', sort_colors=True, emptycols=1)"
   ]
  },
  {
   "cell_type": "code",
   "execution_count": null,
   "metadata": {},
   "outputs": [],
   "source": [
    "\n",
    "test_list = color_tuple_list[:4]\n",
    "saeculum_title = 'Millenial'\n",
    "face_title = 'WYRM'\n",
    "nearness_str = 'close to'\n",
    "display_test_colors(test_list, saeculum_title, face_title, nearness_str, color_dict=mcolors.CSS4_COLORS, color_title='CSS4')"
   ]
  },
  {
   "cell_type": "code",
   "execution_count": null,
   "metadata": {},
   "outputs": [],
   "source": [
    "\n",
    "test_list = color_tuple_list[-4:]\n",
    "saeculum_title = 'Millenial'\n",
    "face_title = 'WYRM'\n",
    "nearness_str = 'far from'\n",
    "display_test_colors(test_list, saeculum_title, face_title, nearness_str, color_dict=mcolors.CSS4_COLORS, color_title='CSS4')"
   ]
  },
  {
   "cell_type": "code",
   "execution_count": null,
   "metadata": {},
   "outputs": [],
   "source": [
    "\n",
    "test_list = color_tuple_list[:20:5]\n",
    "saeculum_title = 'Millenial'\n",
    "face_title = 'WYRM'\n",
    "nearness_str = 'close to'\n",
    "display_test_colors(test_list, saeculum_title, face_title, nearness_str, color_dict=mcolors.CSS4_COLORS, color_title='CSS4')"
   ]
  },
  {
   "cell_type": "code",
   "execution_count": null,
   "metadata": {},
   "outputs": [],
   "source": [
    "\n",
    "colors_dict = {name: mcolors.to_rgb(color) for name, color in mcolors.BASE_COLORS.items()}\n",
    "base_colors_df = colors_dict_to_df(colors_dict)\n",
    "show_3d_plot(base_colors_df)"
   ]
  },
  {
   "cell_type": "code",
   "execution_count": null,
   "metadata": {},
   "outputs": [],
   "source": [
    "\n",
    "base_reformation_list = []\n",
    "base_new_world_list = []\n",
    "base_revolutionary_list = []\n",
    "base_civil_war_list = []\n",
    "base_great_power_list = []\n",
    "base_millennial_list = []\n",
    "base_distance_df = get_distance_df(base_colors_df)\n",
    "base_face_dictionary = get_face_dictionary(base_distance_df)\n",
    "for key, value in base_face_dictionary.items():\n",
    "    if value == 'black-blue-cyan-green':\n",
    "        base_reformation_list .append(key)\n",
    "    elif value == 'black-red-magenta-blue':\n",
    "        base_new_world_list .append(key)\n",
    "    elif value == 'black-red-yellow-green':\n",
    "        base_revolutionary_list .append(key)\n",
    "    elif value == 'white-cyan-blue-magenta':\n",
    "        base_civil_war_list .append(key)\n",
    "    elif value == 'white-cyan-green-yellow':\n",
    "        base_great_power_list .append(key)\n",
    "    elif value == 'white-yellow-red-magenta':\n",
    "        base_millennial_list .append(key)"
   ]
  },
  {
   "cell_type": "code",
   "execution_count": null,
   "metadata": {},
   "outputs": [],
   "source": [
    "\n",
    "plot_colortable(colors_dict={name: color for name, color in mcolors.BASE_COLORS.items() if name in base_reformation_list},\n",
    "                title='Base Reformation Colors', sort_colors=True, emptycols=1)"
   ]
  },
  {
   "cell_type": "code",
   "execution_count": null,
   "metadata": {},
   "outputs": [],
   "source": [
    "\n",
    "plot_colortable(colors_dict={name: color for name, color in mcolors.BASE_COLORS.items() if name in base_new_world_list},\n",
    "                title='Base New_world Colors', sort_colors=True, emptycols=1)"
   ]
  },
  {
   "cell_type": "code",
   "execution_count": null,
   "metadata": {},
   "outputs": [],
   "source": [
    "\n",
    "plot_colortable(colors_dict={name: color for name, color in mcolors.BASE_COLORS.items() if name in base_revolutionary_list},\n",
    "                title='Base Revolutionary Colors', sort_colors=True, emptycols=1)"
   ]
  },
  {
   "cell_type": "code",
   "execution_count": null,
   "metadata": {},
   "outputs": [],
   "source": [
    "\n",
    "plot_colortable(colors_dict={name: color for name, color in mcolors.BASE_COLORS.items() if name in base_civil_war_list},\n",
    "                title='Base Civil_war Colors', sort_colors=True, emptycols=1)"
   ]
  },
  {
   "cell_type": "code",
   "execution_count": null,
   "metadata": {},
   "outputs": [],
   "source": [
    "\n",
    "plot_colortable(colors_dict={name: color for name, color in mcolors.BASE_COLORS.items() if name in base_great_power_list},\n",
    "                title='Base Great_power Colors', sort_colors=True, emptycols=1)"
   ]
  },
  {
   "cell_type": "code",
   "execution_count": null,
   "metadata": {},
   "outputs": [],
   "source": [
    "\n",
    "plot_colortable(colors_dict={name: color for name, color in mcolors.BASE_COLORS.items() if name in base_millennial_list},\n",
    "                title='Base Millennial Colors', sort_colors=True, emptycols=1)"
   ]
  },
  {
   "cell_type": "code",
   "execution_count": null,
   "metadata": {},
   "outputs": [],
   "source": [
    "\n",
    "show_face_proximity(base_distance_df)"
   ]
  },
  {
   "cell_type": "code",
   "execution_count": null,
   "metadata": {},
   "outputs": [],
   "source": [
    "\n",
    "colors_dict = {name: mcolors.to_rgb(color) for name, color in mcolors.TABLEAU_COLORS.items()}\n",
    "tab_colors_df = colors_dict_to_df(colors_dict)\n",
    "show_3d_plot(tab_colors_df)"
   ]
  },
  {
   "cell_type": "code",
   "execution_count": null,
   "metadata": {},
   "outputs": [],
   "source": [
    "\n",
    "tab_reformation_list = []\n",
    "tab_new_world_list = []\n",
    "tab_revolutionary_list = []\n",
    "tab_civil_war_list = []\n",
    "tab_great_power_list = []\n",
    "tab_millennial_list = []\n",
    "tab_distance_df = get_distance_df(tab_colors_df)\n",
    "tab_face_dictionary = get_face_dictionary(tab_distance_df)\n",
    "for key, value in tab_face_dictionary.items():\n",
    "    if value == 'black-blue-cyan-green':\n",
    "        tab_reformation_list .append(key)\n",
    "    elif value == 'black-red-magenta-blue':\n",
    "        tab_new_world_list .append(key)\n",
    "    elif value == 'black-red-yellow-green':\n",
    "        tab_revolutionary_list .append(key)\n",
    "    elif value == 'white-cyan-blue-magenta':\n",
    "        tab_civil_war_list .append(key)\n",
    "    elif value == 'white-cyan-green-yellow':\n",
    "        tab_great_power_list .append(key)\n",
    "    elif value == 'white-yellow-red-magenta':\n",
    "        tab_millennial_list .append(key)"
   ]
  },
  {
   "cell_type": "code",
   "execution_count": null,
   "metadata": {},
   "outputs": [],
   "source": [
    "\n",
    "plot_colortable(colors_dict={name: color for name, color in mcolors.TABLEAU_COLORS.items() if name in tab_reformation_list},\n",
    "                title='Tableau Reformation Colors', sort_colors=True, emptycols=1)"
   ]
  },
  {
   "cell_type": "code",
   "execution_count": null,
   "metadata": {},
   "outputs": [],
   "source": [
    "\n",
    "plot_colortable(colors_dict={name: color for name, color in mcolors.TABLEAU_COLORS.items() if name in tab_new_world_list},\n",
    "                title='Tableau New World Colors', sort_colors=True, emptycols=1)"
   ]
  },
  {
   "cell_type": "code",
   "execution_count": null,
   "metadata": {},
   "outputs": [],
   "source": [
    "\n",
    "plot_colortable(colors_dict={name: color for name, color in mcolors.TABLEAU_COLORS.items() if name in tab_revolutionary_list},\n",
    "                title='Tableau Revolutionary Colors', sort_colors=True, emptycols=1)"
   ]
  },
  {
   "cell_type": "code",
   "execution_count": null,
   "metadata": {},
   "outputs": [],
   "source": [
    "\n",
    "plot_colortable(colors_dict={name: color for name, color in mcolors.TABLEAU_COLORS.items() if name in tab_civil_war_list},\n",
    "                title='Tableau Civil War Colors', sort_colors=True, emptycols=1)"
   ]
  },
  {
   "cell_type": "code",
   "execution_count": null,
   "metadata": {},
   "outputs": [],
   "source": [
    "\n",
    "plot_colortable(colors_dict={name: color for name, color in mcolors.TABLEAU_COLORS.items() if name in tab_great_power_list},\n",
    "                title='Tableau Great Power Colors', sort_colors=True, emptycols=1)"
   ]
  },
  {
   "cell_type": "code",
   "execution_count": null,
   "metadata": {},
   "outputs": [],
   "source": [
    "\n",
    "plot_colortable(colors_dict={name: color for name, color in mcolors.TABLEAU_COLORS.items() if name in tab_millennial_list},\n",
    "                title='Tableau Millennial Colors', sort_colors=True, emptycols=1)"
   ]
  },
  {
   "cell_type": "code",
   "execution_count": null,
   "metadata": {},
   "outputs": [],
   "source": [
    "\n",
    "X = xkcd_colors_df.values\n",
    "X2D = PCA(n_components=2).fit_transform(X)\n",
    "fig = plt.figure()\n",
    "ax = fig.add_subplot(111, aspect='equal')\n",
    "\n",
    "ax.plot(X2D[:, 0], X2D[:, 1], 'k+')\n",
    "ax.plot(X2D[:, 0], X2D[:, 1], 'k.')\n",
    "ax.plot([0], [0], 'ko')\n",
    "ax.arrow(0, 0, 0, 1, head_width=0.05, length_includes_head=True, head_length=0.1, fc='k', ec='k')\n",
    "ax.arrow(0, 0, 1, 0, head_width=0.05, length_includes_head=True, head_length=0.1, fc='k', ec='k')\n",
    "ax.set_xlabel('$z_1$', fontsize=18)\n",
    "ax.set_ylabel('$z_2$', fontsize=18, rotation=0)\n",
    "ax.axis([-1.5, 1.3, -1.2, 1.2])\n",
    "ax.grid(True)"
   ]
  },
  {
   "cell_type": "code",
   "execution_count": null,
   "metadata": {},
   "outputs": [],
   "source": [
    "\n",
    "eps = 0.09\n",
    "min_samples = 1\n",
    "db = DBSCAN(eps=eps, min_samples=min_samples).fit(X2D)\n",
    "labels_ndarray = db.labels_\n",
    "unique_labels = np.unique(labels_ndarray)\n",
    "unique_labels_count = len(unique_labels)\n",
    "if (unique_labels_count > 4) and (unique_labels_count < 8):\n",
    "    print('np.unique(DBSCAN(eps={}, min_samples={}).fit(pca_ndarray).labels_) = {}'.format(eps, min_samples, unique_labels))"
   ]
  },
  {
   "cell_type": "code",
   "execution_count": null,
   "metadata": {},
   "outputs": [],
   "source": [
    "\n",
    "fig = plt.figure(figsize=(8, 8))\n",
    "ax = fig.add_subplot(111, autoscale_on=True)\n",
    "cmap = plt.get_cmap('viridis_r')\n",
    "path_collection = ax.scatter(X2D[:, 0], X2D[:, 1],\n",
    "                             c=labels_ndarray, edgecolors=(0, 0, 0), cmap=cmap)\n",
    "title_text = 'Dimension Reduced Scatterplot of the XKCD Colors'\n",
    "text = plt.title(title_text)\n",
    "xticklabel_obj = plt.xticks([])\n",
    "yticklabel_obj = plt.yticks([])"
   ]
  },
  {
   "cell_type": "code",
   "execution_count": null,
   "metadata": {},
   "outputs": [],
   "source": [
    "\n",
    "# Optionally plot the XKCD colors (Caution: will produce large figure)\n",
    "file_name = 'XKCD_Colors.png'\n",
    "png_folder = os.path.join(SAVES_FOLDER, 'png')\n",
    "file_path = os.path.join(png_folder, file_name)\n",
    "xkcd_fig = plot_colortable(mcolors.XKCD_COLORS, \"XKCD Colors\")\n",
    "xkcd_fig.savefig(file_path)"
   ]
  },
  {
   "cell_type": "code",
   "execution_count": null,
   "metadata": {},
   "outputs": [],
   "source": []
  }
 ],
 "metadata": {
  "kernelspec": {
   "display_name": "Python 3",
   "language": "python",
   "name": "python3"
  },
  "language_info": {
   "codemirror_mode": {
    "name": "ipython",
    "version": 3
   },
   "file_extension": ".py",
   "mimetype": "text/x-python",
   "name": "python",
   "nbconvert_exporter": "python",
   "pygments_lexer": "ipython3",
   "version": "3.7.3"
  }
 },
 "nbformat": 4,
 "nbformat_minor": 2
}
