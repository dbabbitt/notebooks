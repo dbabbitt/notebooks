{
 "cells": [
  {
   "cell_type": "code",
   "execution_count": null,
   "metadata": {},
   "outputs": [],
   "source": []
  },
  {
   "cell_type": "code",
   "execution_count": 1,
   "metadata": {},
   "outputs": [],
   "source": [
    "\n",
    "import sys\n",
    "\n",
    "# Insert at 1, 0 is the script path (or '' in REPL)\n",
    "sys.path.insert(1, '../py')"
   ]
  },
  {
   "cell_type": "code",
   "execution_count": 2,
   "metadata": {},
   "outputs": [
    {
     "name": "stdout",
     "output_type": "stream",
     "text": [
      "Pretty printing has been turned OFF\n",
      "C:\\Users\\dev\\Documents\\repositories\\notebooks\\Strauss–Howe\\ipynb\\The Twenties.ipynb\n",
      "['s.attempt_to_pickle', 's.data_csv_folder', 's.data_folder', 's.encoding_type', 's.load_csv', 's.load_dataframes', 's.load_object', 's.save_dataframes', 's.saves_csv_folder', 's.saves_folder', 's.saves_pickle_folder', 's.store_objects']\n",
      "['u.add_fashion_image', 'u.add_fashion_saeculum_image', 'u.add_guide', 'u.add_saeculum_image', 'u.add_spiral_labels', 'u.archetypes_df', 'u.archimedes_spiral', 'u.babbitt_min_year', 'u.babbitt_random_year', 'u.babbitt_years_tuple', 'u.bare_movie_folder', 'u.bernoulli_spiral', 'u.black_tuple', 'u.colors_dict_to_dataframe', 'u.conjunctify_list', 'u.convert_age_to_y', 'u.convert_years_to_x', 'u.create_xy_list', 'u.cycles_image', 'u.diagonal_movie_folder', 'u.display_test_colors', 'u.distance_between', 'u.distance_from_black', 'u.distance_from_blue', 'u.distance_from_cyan', 'u.distance_from_green', 'u.distance_from_kbcg_face', 'u.distance_from_krmb_face', 'u.distance_from_kryg_face', 'u.distance_from_magenta', 'u.distance_from_red', 'u.distance_from_wcbm_face', 'u.distance_from_wcgy_face', 'u.distance_from_white', 'u.distance_from_wyrm_face', 'u.distance_from_yellow', 'u.draw_hl', 'u.draw_life_line', 'u.draw_spiral', 'u.dresses_file_dict', 'u.eras_df', 'u.exists', 'u.fermat_spiral', 'u.full_corner_list', 'u.generations_df', 'u.get_distance_dataframe', 'u.get_face_dictionary', 'u.get_face_set_list', 'u.get_hsv_dict', 'u.get_image_array', 'u.get_one_arc', 'u.get_one_stopped_arc', 'u.get_page_tables', 'u.get_row_label', 'u.get_shortest_distance', 'u.get_zoom_in', 'u.history_radius_dict', 'u.history_year_dict', 'u.jpg_dir', 'u.label_arc', 'u.label_life_line', 'u.make_a_movie', 'u.make_transparent', 'u.min_year', 'u.movie_folder', 'u.now_year', 'u.patriline_df', 'u.plot_colortable', 'u.plot_patriarch', 'u.png_folder', 'u.polar_to_cartesian', 'u.print_turnings', 'u.s', 'u.saecula_df', 'u.saeculum_cmap_dict', 'u.saeculum_dir', 'u.saeculum_fashionable_movie_folder', 'u.saeculum_movie_folder', 'u.save_stopped_babbitt_plot', 'u.show_babbitt_plot', 'u.show_color_proximity', 'u.show_face_proximity', 'u.show_generation_blurb', 'u.show_saeculum_image', 'u.show_stopped_babbitt_plot', 'u.show_turning_image', 'u.show_year_image', 'u.spirals', 'u.translate_upper_left_to_center', 'u.turning_numbers_df', 'u.turnings_df', 'u.us_presidents_df', 'u.white_tuple', 'u.zoom_image']\n"
     ]
    },
    {
     "data": {
      "text/plain": [
       "['Config', 'In', 'Out', 'RandomForestClassifier', '_', '__', '___', '__builtin__', '__builtins__', '__doc__', '__loader__', '__name__', '__nonzero__', '__package__', '__spec__', '_dh', '_i', '_i1', '_i2', '_ih', '_ii', '_iii', '_oh', 'exit', 'get_classifier', 'get_data_structs_dataframe', 'get_datastructure_prediction', 'get_dir_tree', 'get_importances', 'get_input_sample', 'get_ipython', 'get_module_version', 'get_notebook_path', 'get_struct_name', 'ipykernel', 'json', 'jupyter_config_dir', 'notebook_path', 'notebookapp', 'os', 'pd', 'preprocess_data', 'quit', 're', 's', 'spiral_utils', 'sys', 'u', 'urllib']"
      ]
     },
     "execution_count": 2,
     "metadata": {},
     "output_type": "execute_result"
    }
   ],
   "source": [
    "\n",
    "%run ../../load_magic/environment.py\n",
    "import spiral_utils\n",
    "u = spiral_utils.StraussHoweUtilities()\n",
    "pd = spiral_utils.pd\n",
    "s = u.s\n",
    "%pprint\n",
    "notebook_path = get_notebook_path()\n",
    "print(notebook_path)\n",
    "print(['s.{}'.format(fn) for fn in dir(s) if not fn.startswith('_')])\n",
    "print(['u.{}'.format(fn) for fn in dir(u) if not fn.startswith('_')])\n",
    "dir()"
   ]
  },
  {
   "cell_type": "code",
   "execution_count": 35,
   "metadata": {},
   "outputs": [
    {
     "name": "stdout",
     "output_type": "stream",
     "text": [
      "\n",
      "u.archetypes_df ['Hero', 'Artist', 'Prophet', 'Nomad'] ['generations', 'reputation_as_child', 'coming_of_age', 'primary_focus_coming_of_age', 'young_adulthood', 'transition_in_midlife', 'leadership_style_entering_elderhood', 'reputation_as_elder', 'treatment_as_elder', 'how_it_is_nurtured', 'how_it_nurtures', 'positive_reputation', 'negative_reputation', 'endowments']\n",
      "\n",
      "u.colors_dict_to_dataframe 'function' object has no attribute 'columns'\n",
      "\n",
      "u.eras_df ['1908–1929(Unraveling)', '1929–1946 (Crisis)', '1946–1964 (High)', '1964–1984(Awakening)', '1984–2008(Unraveling)'] ['Key Events', 'Entering Elderhood (Age 63–83)', 'Entering Midlife (Ages 42–62)', 'Entering Young Adulthood (Ages 21–41)', 'Entering Childhood (Ages 0–20)']\n",
      "\n",
      "u.generations_df ['childhood_turning_entered', 'saeculum_name', 'turnings_archetype', 'generations_archetype', 'birth_year_begin', 'birth_year_end', 'childhood_turning_description', 'turning_year_begin', 'turning_year_end'] ['Arthurian', 'Humanist', 'Reformation', 'Reprisal', 'Elizabethan', 'Parliamentary', 'Puritan', 'Cavalier', 'Glorious', 'Enlightenment', 'Awakening', 'Liberty', 'Republican', 'Compromise', 'Transcendental', 'Gilded', 'Civil War', 'Progressive', 'Missionary', 'Lost', 'G.I.', 'Silent', 'Baby Boom', '13th', 'Millennial', 'Homeland']\n",
      "\n",
      "u.get_distance_dataframe 'function' object has no attribute 'columns'\n",
      "\n",
      "u.patriline_df ['year_of_birth', 'year_of_death', 'generation_name', 'date_of_birth', 'place_of_birth', 'birth_longitude', 'birth_latitude', 'date_of_death', 'place_of_death', 'death_longitude', 'death_latitude', 'saeculum_name', 'xkcd_color', 'css4_color', 'xkcd_text_color', 'css4_text_color', 'map_link', 'birth_coordinates'] ['Stephen Elkanah Babbitt', 'David George Babbitt', 'Joseph Robert Babbitt, Jr.', 'Joseph Robert Babbitt, Sr.', 'David William Babbitt, Jr.', 'David William Babbitt, Sr.', 'William David Babbitt', 'David Babbitt', 'Elkanah Babbitt, IV', 'Elkanah Babbitt, III', 'Elkanah Babbitt, II', 'Elkanah Babbitt, I', 'Edward Bobet', 'Thomas Bobbet', '(No Name), Jr.', '(No Name), Sr.']\n",
      "\n",
      "u.saecula_df ['awakening_name', 'awakening_climax_year', 'awakening_year_begin', 'awakening_year_end', 'crisis_name', 'crisis_climax_year', 'crisis_year_begin', 'crisis_year_end', 'years_from_crisis_to_awakening', 'years_from_awakening_to_crisis', 'years_from_crisis_to_crisis'] ['Late Medieval', 'Reformation', 'New World', 'Revolutionary', 'Civil War', 'Great Power', 'Millennial']\n",
      "\n",
      "u.turning_numbers_df ['elderhoood', 'midlife', 'young_adulthood', 'childhood', 'families', 'child_nurture', 'gap_between_gender_roles', 'ideals', 'institutions', 'culture', 'social_structure', 'worldview', 'special_priority', 'social_motivator', 'sense_of_greatest_need', 'vision_of_future', 'wars', 'turning_type'] [1, 2, 3, 4]\n",
      "\n",
      "u.turnings_df ['turning_number', 'turning_year_begin', 'turning_year_end', 'saeculum_name', 'entering_elderhood', 'entering_midlife', 'entering_young_adulthood', 'entering_childhood', 'turning_notes'] ['Retreat from France', 'The War of the Roses', 'The Tudor Renaissance', 'The Protestant Reformation', 'Intolerance and Martyrdom', 'The Armada Crisis', 'Merrie England', 'The Puritan Awakening', 'Reaction and Restoration', 'The colonial Glorious Revolution', 'The Augustan Age of Empire', 'The Great Awakening', 'French & Indian Wars', 'American Revolution', 'The Era of Good Feelings', 'The Transcendental Awakening', 'The Mexican War & Sectionalism', 'The Civil War', 'Reconstruction & Gilded Age', 'The Third Great Awakening', 'World War I & Prohibition', 'The Great Depression & World War II', 'The American High', 'The Consciousness Revolution', 'The Long Boom & Culture Wars', 'The Global Financial Crisis']\n",
      "\n",
      "u.us_presidents_df ['date_of_birth', 'birthplace', 'state_of_birth', 'office_rank', 'reign_begin', 'reign_end', 'generation_name', 'turning_name', 'turning_number'] ['George Washington', 'John Adams', 'Thomas Jefferson', 'James Madison', 'James Monroe', 'Andrew Jackson', 'John Quincy Adams', 'William Henry Harrison', 'Martin Van Buren', 'Zachary Taylor', 'John Tyler', 'James Buchanan', 'James K. Polk', 'Millard Fillmore', 'Franklin Pierce', 'Andrew Johnson', 'Abraham Lincoln', 'Ulysses S. Grant', 'Rutherford B. Hayes', 'Chester A. Arthur', 'James A. Garfield', 'Benjamin Harrison', 'Grover Cleveland', 'Grover Cleveland', 'William McKinley', 'Woodrow Wilson', 'William H. Taft', 'Theodore Roosevelt', 'Warren G. Harding', 'Calvin Coolidge', 'Herbert Hoover', 'Franklin D. Roosevelt', 'Harry S. Truman', 'Dwight D. Eisenhower', 'Lyndon B. Johnson', 'Ronald Reagan', 'Richard Nixon', 'Gerald Ford', 'John F. Kennedy', 'George H. W. Bush', 'Jimmy Carter', 'Donald Trump', 'George W. Bush', 'Bill Clinton', 'Barack H. Obama']\n"
     ]
    }
   ],
   "source": [
    "\n",
    "for df_str in ['u.{}'.format(fn) for fn in dir(u) if fn.endswith('_df')]:\n",
    "    print()\n",
    "    try:\n",
    "        print(df_str, eval('[cn for cn in {}.columns.tolist()]'.format(df_str)),\n",
    "              eval('[idx for idx in {}.index.tolist()]'.format(df_str)))\n",
    "    except Exception as e:\n",
    "        print(df_str, e)"
   ]
  },
  {
   "cell_type": "code",
   "execution_count": 34,
   "metadata": {},
   "outputs": [
    {
     "name": "stdout",
     "output_type": "stream",
     "text": [
      "Pickling to C:\\Users\\dev\\Documents\\repositories\\notebooks\\Strauss–Howe\\saves\\pickle\\archetypes_df.pickle\n"
     ]
    }
   ],
   "source": [
    "\n",
    "def f(x):\n",
    "    \n",
    "    return '_'.join(str(x).lower().split(' '))\n",
    "\n",
    "u.archetypes_df.index = u.archetypes_df.index.map(f)\n",
    "s.store_objects(archetypes_df=u.archetypes_df)"
   ]
  },
  {
   "cell_type": "code",
   "execution_count": null,
   "metadata": {},
   "outputs": [],
   "source": []
  },
  {
   "cell_type": "code",
   "execution_count": 24,
   "metadata": {},
   "outputs": [
    {
     "name": "stdout",
     "output_type": "stream",
     "text": [
      "Pickling to C:\\Users\\dev\\Documents\\repositories\\notebooks\\Strauss–Howe\\saves\\pickle\\saecula_df.pickle\n"
     ]
    }
   ],
   "source": [
    "\n",
    "u.saecula_df.columns = ['awakening_name', 'awakening_climax_year', 'awakening_year_begin', 'awakening_year_end', 'crisis_name',\n",
    "                        'crisis_climax_year', 'crisis_year_begin', 'crisis_year_end',\n",
    "                        'years_from_crisis_to_awakening', 'years_from_awakening_to_crisis', 'years_from_crisis_to_crisis']\n",
    "s.store_objects(saecula_df=u.saecula_df)"
   ]
  },
  {
   "cell_type": "code",
   "execution_count": 21,
   "metadata": {},
   "outputs": [
    {
     "name": "stdout",
     "output_type": "stream",
     "text": [
      "Pickling to C:\\Users\\dev\\Documents\\repositories\\notebooks\\Strauss–Howe\\saves\\pickle\\turnings_df.pickle\n"
     ]
    }
   ],
   "source": [
    "\n",
    "u.turnings_df.columns = ['turning_number', 'turning_year_begin', 'turning_year_end', 'saeculum_name', 'entering_elderhood',\n",
    "                         'entering_midlife', 'entering_young_adulthood', 'entering_childhood', 'turning_notes']\n",
    "s.store_objects(turnings_df=u.turnings_df)"
   ]
  },
  {
   "cell_type": "code",
   "execution_count": 19,
   "metadata": {},
   "outputs": [
    {
     "name": "stdout",
     "output_type": "stream",
     "text": [
      "\n",
      "1920\n",
      "turning_name                                      World War I & Prohibition\n",
      "turning_number                                                            3\n",
      "turning_begin_year                                                     1908\n",
      "turning_end_year                                                       1929\n",
      "saeculum_name                                                   Great Power\n",
      "entering_elderhood                                             Progressives\n",
      "entering_midlife                                               Missionaries\n",
      "entering_young_adulthood                                               Lost\n",
      "entering_childhood                                                    G.I.s\n",
      "turning_notes             World War I & Prohibition (Third Turning, 1908...\n",
      "                                              3\n",
      "elderhoood                               Artist\n",
      "midlife                                 Prophet\n",
      "young_adulthood                           Nomad\n",
      "childhood                                  Hero\n",
      "families                                   Weak\n",
      "child_nurture                        Tightening\n",
      "gap_between_gender_roles                Minimum\n",
      "ideals                                  Debated\n",
      "institutions                             Eroded\n",
      "culture                                 Cynical\n",
      "social_structure                    Diversified\n",
      "worldview                               Complex\n",
      "special_priority          Maximum Individualism\n",
      "social_motivator                          Guilt\n",
      "sense_of_greatest_need      Do What Feels Right\n",
      "vision_of_future                      Darkening\n",
      "wars                               Inconclusive\n",
      "turning_type                         Unraveling\n",
      "\n",
      "1820\n",
      "turning_name                                       The Era of Good Feelings\n",
      "turning_number                                                            1\n",
      "turning_begin_year                                                     1794\n",
      "turning_end_year                                                       1822\n",
      "saeculum_name                                                     Civil War\n",
      "entering_elderhood                                                  Liberty\n",
      "entering_midlife                                                Republicans\n",
      "entering_young_adulthood                                       Compromisers\n",
      "entering_childhood                                          Transcendentals\n",
      "turning_notes             The Era of Good Feelings (First Turning, 1794–...\n",
      "                                          1\n",
      "elderhoood                            Nomad\n",
      "midlife                                Hero\n",
      "young_adulthood                      Artist\n",
      "childhood                           Prophet\n",
      "families                             Strong\n",
      "child_nurture                     Loosening\n",
      "gap_between_gender_roles            Maximum\n",
      "ideals                              Settled\n",
      "institutions                     Reinforced\n",
      "culture                            Innocent\n",
      "social_structure                    Unified\n",
      "worldview                            Simple\n",
      "special_priority          Maximum Community\n",
      "social_motivator                      Shame\n",
      "sense_of_greatest_need        Do What Works\n",
      "vision_of_future                Brightening\n",
      "wars                            Restorative\n",
      "turning_type                           High\n",
      "\n",
      "1720\n",
      "turning_name                                     The Augustan Age of Empire\n",
      "turning_number                                                            1\n",
      "turning_begin_year                                                     1704\n",
      "turning_end_year                                                       1727\n",
      "saeculum_name                                                 Revolutionary\n",
      "entering_elderhood                                                Cavaliers\n",
      "entering_midlife                                                   Glorious\n",
      "entering_young_adulthood                                       Enlighteners\n",
      "entering_childhood                                                Awakeners\n",
      "turning_notes             The Augustan Age of Empire (First Turning, 170...\n",
      "                                          1\n",
      "elderhoood                            Nomad\n",
      "midlife                                Hero\n",
      "young_adulthood                      Artist\n",
      "childhood                           Prophet\n",
      "families                             Strong\n",
      "child_nurture                     Loosening\n",
      "gap_between_gender_roles            Maximum\n",
      "ideals                              Settled\n",
      "institutions                     Reinforced\n",
      "culture                            Innocent\n",
      "social_structure                    Unified\n",
      "worldview                            Simple\n",
      "special_priority          Maximum Community\n",
      "social_motivator                      Shame\n",
      "sense_of_greatest_need        Do What Works\n",
      "vision_of_future                Brightening\n",
      "wars                            Restorative\n",
      "turning_type                           High\n"
     ]
    }
   ],
   "source": [
    "\n",
    "for i in range(1900, 1600, -100):\n",
    "    year_begin = i + 20\n",
    "    year_end = i + 29\n",
    "    turnings_match_series = (u.turnings_df.turning_begin_year <= year_begin) & (year_begin <= u.turnings_df.turning_end_year)\n",
    "    print()\n",
    "    print(year_begin)\n",
    "    print(u.turnings_df[turnings_match_series].T)\n",
    "    turning_numbers_match_series = (u.turning_numbers_df.index == u.turnings_df[turnings_match_series].turning_number.tolist()[0])\n",
    "    print(u.turning_numbers_df[turning_numbers_match_series].T)"
   ]
  },
  {
   "cell_type": "code",
   "execution_count": 16,
   "metadata": {},
   "outputs": [
    {
     "name": "stdout",
     "output_type": "stream",
     "text": [
      "1920\n",
      "generation_name                                                      G.I.\n",
      "childhood_turning_entered                                               3\n",
      "saeculum_name                                                 Great Power\n",
      "turnings_archetype                                                   Hero\n",
      "generations_archetype                                               Civic\n",
      "birth_year_begin                                                     1901\n",
      "birth_year_end                                                       1924\n",
      "childhood_turning_description  World War I, Prohibition, Roaring Twenties\n",
      "turning_year_begin                                                   1908\n",
      "turning_year_end                                                     1929\n",
      "1820\n",
      "generation_name                      Transcendental\n",
      "childhood_turning_entered                         1\n",
      "saeculum_name                             Civil War\n",
      "turnings_archetype                          Prophet\n",
      "generations_archetype                      Idealist\n",
      "birth_year_begin                               1792\n",
      "birth_year_end                                 1821\n",
      "childhood_turning_description  Era of Good Feelings\n",
      "turning_year_begin                             1794\n",
      "turning_year_end                               1822\n",
      "1720\n",
      "generation_name                             Awakening\n",
      "childhood_turning_entered                           1\n",
      "saeculum_name                           Revolutionary\n",
      "turnings_archetype                            Prophet\n",
      "generations_archetype                        Idealist\n",
      "birth_year_begin                                 1701\n",
      "birth_year_end                                   1723\n",
      "childhood_turning_description  Augustan Age of Empire\n",
      "turning_year_begin                               1704\n",
      "turning_year_end                                 1727\n"
     ]
    }
   ],
   "source": [
    "\n",
    "for i in range(1900, 1600, -100):\n",
    "    year_begin = i + 20\n",
    "    year_end = i + 29\n",
    "    generations_match_series = (u.generations_df.turning_year_begin <= year_begin) & (year_begin <= u.generations_df.turning_year_end)\n",
    "    print(year_begin)\n",
    "    print(u.generations_df[generations_match_series].T)"
   ]
  },
  {
   "cell_type": "code",
   "execution_count": null,
   "metadata": {},
   "outputs": [],
   "source": []
  }
 ],
 "metadata": {
  "kernelspec": {
   "display_name": "Python 3",
   "language": "python",
   "name": "python3"
  },
  "language_info": {
   "codemirror_mode": {
    "name": "ipython",
    "version": 3
   },
   "file_extension": ".py",
   "mimetype": "text/x-python",
   "name": "python",
   "nbconvert_exporter": "python",
   "pygments_lexer": "ipython3",
   "version": "3.6.8"
  }
 },
 "nbformat": 4,
 "nbformat_minor": 2
}
