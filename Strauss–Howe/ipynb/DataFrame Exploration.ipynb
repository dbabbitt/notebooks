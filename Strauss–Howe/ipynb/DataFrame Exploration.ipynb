{
 "cells": [
  {
   "cell_type": "code",
   "execution_count": null,
   "metadata": {},
   "outputs": [],
   "source": []
  },
  {
   "cell_type": "code",
   "execution_count": 1,
   "metadata": {},
   "outputs": [],
   "source": [
    "\n",
    "import sys\n",
    "\n",
    "# Insert at 1, 0 is the script path (or '' in REPL)\n",
    "sys.path.insert(1, '../py')"
   ]
  },
  {
   "cell_type": "code",
   "execution_count": 2,
   "metadata": {},
   "outputs": [
    {
     "name": "stdout",
     "output_type": "stream",
     "text": [
      "Pretty printing has been turned OFF\n",
      "C:\\Users\\dev\\Documents\\repositories\\notebooks\\Strauss–Howe\\ipynb\\DataFrame Exploration.ipynb\n",
      "['s.attempt_to_pickle', 's.data_csv_folder', 's.data_folder', 's.encoding_type', 's.load_csv', 's.load_dataframes', 's.load_object', 's.save_dataframes', 's.saves_csv_folder', 's.saves_folder', 's.saves_pickle_folder', 's.store_objects']\n"
     ]
    },
    {
     "data": {
      "text/plain": [
       "['Config', 'In', 'Out', 'Path', 'RandomForestClassifier', 'SequenceMatcher', 'Storage', '_', '__', '___', '__builtin__', '__builtins__', '__doc__', '__loader__', '__name__', '__nonzero__', '__package__', '__spec__', '_dh', '_i', '_i1', '_i2', '_ih', '_ii', '_iii', '_oh', 'bs', 'check_4_doubles', 'check_for_typos', 'conjunctify_list', 'copyfile', 'csv', 'encoding', 'exit', 'get_classifier', 'get_data_structs_df', 'get_datastructure_prediction', 'get_dir_tree', 'get_git_lfs_track_commands', 'get_importances', 'get_input_sample', 'get_ipython', 'get_module_version', 'get_notebook_path', 'get_page_soup', 'get_specific_gitignore_files', 'get_struct_name', 'humanize_bytes', 'ipykernel', 'json', 'jupyter_config_dir', 'notebook_path', 'notebookapp', 'np', 'os', 'pd', 'pickle', 'preprocess_data', 'print_all_files_ending_starting_with', 'print_all_files_ending_with', 'print_all_files_starting_with', 'quit', 'random', 're', 'remove_empty_folders', 's', 'similar', 'subprocess', 'sys', 'time', 'url_regex', 'urllib', 'urlretrieve', 'wikipedia']"
      ]
     },
     "execution_count": 2,
     "metadata": {},
     "output_type": "execute_result"
    }
   ],
   "source": [
    "\n",
    "%run ../../load_magic/environment.py\n",
    "%run ../../load_magic/paths.py\n",
    "%run ../../load_magic/lists.py\n",
    "%run ../../load_magic/soup.py\n",
    "%run ../../load_magic/storage.py\n",
    "%pprint\n",
    "import wikipedia\n",
    "import numpy as np\n",
    "\n",
    "notebook_path = get_notebook_path()\n",
    "print(notebook_path)\n",
    "s = Storage()\n",
    "print(['s.{}'.format(fn) for fn in dir(s) if not fn.startswith('_')])\n",
    "dir()"
   ]
  },
  {
   "cell_type": "code",
   "execution_count": 3,
   "metadata": {},
   "outputs": [
    {
     "name": "stdout",
     "output_type": "stream",
     "text": [
      "['os.DirEntry', 'os.chdir', 'os.curdir', 'os.listdir', 'os.makedirs', 'os.mkdir', 'os.pardir', 'os.removedirs', 'os.rmdir', 'os.scandir', 'os.supports_dir_fd']\n"
     ]
    }
   ],
   "source": [
    "\n",
    "print(['os.{}'.format(fn) for fn in dir(os) if 'dir' in fn.lower()])"
   ]
  },
  {
   "cell_type": "code",
   "execution_count": 7,
   "metadata": {},
   "outputs": [
    {
     "name": "stdout",
     "output_type": "stream",
     "text": [
      "archetypes_df = s.load_object('archetypes_df')\n",
      "archetypes_df\n",
      "calvinists_df = s.load_object('calvinists_df')\n",
      "calvinists_df\n",
      "colors_distance_df = s.load_object('colors_distance_df')\n",
      "colors_distance_df\n",
      "eras_df = s.load_object('eras_df')\n",
      "eras_df\n",
      "generations_df = s.load_object('generations_df')\n",
      "generations_df\n",
      "patriline_df = s.load_object('patriline_df')\n",
      "patriline_df\n",
      "presbyterians_df = s.load_object('presbyterians_df')\n",
      "presbyterians_df\n",
      "saecula_df = s.load_object('saecula_df')\n",
      "saecula_df\n",
      "saeculums_df = s.load_object('saeculums_df')\n",
      "saeculums_df\n",
      "turnings_df = s.load_object('turnings_df')\n",
      "turnings_df\n",
      "turning_numbers_df = s.load_object('turning_numbers_df')\n",
      "turning_numbers_df\n",
      "us_presidents_df = s.load_object('us_presidents_df')\n",
      "us_presidents_df\n"
     ]
    }
   ],
   "source": [
    "\n",
    "for file_name in os.listdir(s.saves_pickle_folder):\n",
    "    if file_name.endswith('_df.pickle'):\n",
    "        df_name = file_name.split('.')[0]\n",
    "        print(\"{} = s.load_object('{}')\".format(df_name, df_name))\n",
    "        print(\"{}\".format(df_name))"
   ]
  },
  {
   "cell_type": "code",
   "execution_count": 16,
   "metadata": {},
   "outputs": [
    {
     "name": "stdout",
     "output_type": "stream",
     "text": [
      "According to Strauss-Howe generational theory, the life slaps are different for each generation: for the Hero generation, the slap has an outer-world focus, for the Artist generation, the slap has an inter-dependency focus, for the Prophet generation, the slap has an inner-world focus, and for the Nomad generation, the slap has a self-sufficiency focus.\n"
     ]
    }
   ],
   "source": [
    "\n",
    "archetypes_df = s.load_object('archetypes_df')\n",
    "gen_list = []\n",
    "for column_name, column_value in archetypes_df.T.primary_focus_coming_of_age.iteritems():\n",
    "    n = ''\n",
    "    if column_value[0] in list('aeiou'):\n",
    "        n = 'n'\n",
    "    gen_list.append('for the {} generation, the slap has a{} {} focus'.format(column_name, n, column_value))\n",
    "print('According to Strauss-Howe generational theory, the life slaps are different for each generation: {}.'.format(conjunctify_list(gen_list)))"
   ]
  },
  {
   "cell_type": "code",
   "execution_count": null,
   "metadata": {},
   "outputs": [],
   "source": []
  }
 ],
 "metadata": {
  "kernelspec": {
   "display_name": "Python 3",
   "language": "python",
   "name": "python3"
  },
  "language_info": {
   "codemirror_mode": {
    "name": "ipython",
    "version": 3
   },
   "file_extension": ".py",
   "mimetype": "text/x-python",
   "name": "python",
   "nbconvert_exporter": "python",
   "pygments_lexer": "ipython3",
   "version": "3.6.8"
  }
 },
 "nbformat": 4,
 "nbformat_minor": 2
}
