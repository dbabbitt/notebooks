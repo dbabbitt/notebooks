{
 "cells": [
  {
   "cell_type": "code",
   "execution_count": 1,
   "metadata": {},
   "outputs": [
    {
     "name": "stdout",
     "output_type": "stream",
     "text": [
      "DATA_FOLDER: ../data/\n",
      "SAVES_FOLDER: ../saves/\n",
      "Pretty printing has been turned OFF\n",
      "DATA_CSV_FOLDER\t DATA_FOLDER\t ENCODING_TYPE\t ImageEnhance\t SAVES_CSV_FOLDER\t SAVES_FOLDER\t SAVES_PICKLE_FOLDER\t atan\t attempt_to_pickle\t \n",
      "cos\t csv\t example_iterrows\t get_column_descriptions\t load_csv\t load_dataframes\t load_object\t math\t np\t \n",
      "os\t pd\t pi\t pickle\t plt\t re\t save_dataframes\t sin\t sqrt\t \n",
      "store_objects\t sys\t \n"
     ]
    },
    {
     "data": {
      "text/plain": [
       "['Brightness', 'Color', 'Contrast', 'Image', 'ImageFilter', 'ImageStat', 'Sharpness', '_Enhance', '__builtins__', '__cached__', '__doc__', '__file__', '__loader__', '__name__', '__package__', '__spec__']"
      ]
     },
     "execution_count": 1,
     "metadata": {},
     "output_type": "execute_result"
    }
   ],
   "source": [
    "\n",
    "%run ../../load_magic/storage.py\n",
    "%run ../../load_magic/dataframes.py\n",
    "%pprint\n",
    "%matplotlib inline\n",
    "import matplotlib.pyplot as plt\n",
    "\n",
    "# Use the following only if you are on a high definition device\n",
    "from IPython.display import set_matplotlib_formats\n",
    "set_matplotlib_formats('retina')\n",
    "\n",
    "import re\n",
    "from math import cos, sin, pi, sqrt, atan\n",
    "import numpy as np\n",
    "from PIL import ImageEnhance\n",
    "%who\n",
    "\n",
    "dir(ImageEnhance)"
   ]
  },
  {
   "cell_type": "code",
   "execution_count": 1,
   "metadata": {},
   "outputs": [
    {
     "data": {
      "text/plain": [
       "array([199.        , 217.66666667, 236.33333333, 255.        ])"
      ]
     },
     "execution_count": 1,
     "metadata": {},
     "output_type": "execute_result"
    }
   ],
   "source": [
    "\n",
    "import numpy as np\n",
    "\n",
    "np.linspace(start=199, stop=255, num=4)"
   ]
  },
  {
   "cell_type": "code",
   "execution_count": 1,
   "metadata": {},
   "outputs": [
    {
     "data": {
      "image/png": "[encoded data removed]",
      "text/plain": [
       "<Figure size 1296x288 with 1 Axes>"
      ]
     },
     "metadata": {
      "needs_background": "light"
     },
     "output_type": "display_data"
    }
   ],
   "source": [
    "\n",
    "import matplotlib.pyplot as plt\n",
    "\n",
    "# Use the following only if you are on a high definition device\n",
    "from IPython.display import set_matplotlib_formats\n",
    "set_matplotlib_formats('retina')\n",
    "\n",
    "import os\n",
    "%matplotlib inline\n",
    "\n",
    "svg_folder = '../saves/svg'\n",
    "file_name = os.path.join(svg_folder, 'strauss_howe_babbitt.svg')\n",
    "png_folder = '../saves/png'\n",
    "file_name = os.path.join(png_folder, 'strauss_howe_babbitt.png')\n",
    "img = plt.imread(file_name)\n",
    "fig = plt.figure(figsize=(18, 4))\n",
    "ax = fig.add_subplot(111, autoscale_on=True)\n",
    "AxesImage_obj = ax.imshow(img, extent=[0, 5000, 0, 5500])"
   ]
  },
  {
   "cell_type": "code",
   "execution_count": null,
   "metadata": {},
   "outputs": [],
   "source": [
    "\n",
    "!\"C:\\Program Files\\Notepad++\\notepad++.exe\" {os.path.expanduser('~\\Anaconda3\\lib\\site-packages\\matplotlib\\image.py')}"
   ]
  },
  {
   "cell_type": "code",
   "execution_count": null,
   "metadata": {},
   "outputs": [],
   "source": []
  }
 ],
 "metadata": {
  "kernelspec": {
   "display_name": "Python 3",
   "language": "python",
   "name": "python3"
  },
  "language_info": {
   "codemirror_mode": {
    "name": "ipython",
    "version": 3
   },
   "file_extension": ".py",
   "mimetype": "text/x-python",
   "name": "python",
   "nbconvert_exporter": "python",
   "pygments_lexer": "ipython3",
   "version": "3.6.8"
  }
 },
 "nbformat": 4,
 "nbformat_minor": 2
}
