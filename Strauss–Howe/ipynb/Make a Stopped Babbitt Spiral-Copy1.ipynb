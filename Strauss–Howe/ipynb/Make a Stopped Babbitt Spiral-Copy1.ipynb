{
 "cells": [
  {
   "cell_type": "code",
   "execution_count": 4,
   "metadata": {},
   "outputs": [
    {
     "name": "stdout",
     "output_type": "stream",
     "text": [
      "DATA_FOLDER: ../data/\n",
      "SAVES_FOLDER: ../saves/\n",
      "Pretty printing has been turned OFF\n",
      "DATA_CSV_FOLDER\t DATA_FOLDER\t ENCODING_TYPE\t SAVES_CSV_FOLDER\t SAVES_FOLDER\t SAVES_PICKLE_FOLDER\t atan\t attempt_to_pickle\t cos\t \n",
      "csv\t example_iterrows\t get_column_descriptions\t label_arc\t load_csv\t load_dataframes\t load_object\t logging\t math\t \n",
      "np\t os\t pd\t pi\t pickle\t plt\t re\t save_dataframes\t sin\t \n",
      "sqrt\t store_objects\t sys\t \n"
     ]
    }
   ],
   "source": [
    "\n",
    "%run ../../load_magic/storage.py\n",
    "%run ../../load_magic/dataframes.py\n",
    "%pprint\n",
    "%matplotlib inline\n",
    "import matplotlib.pyplot as plt\n",
    "import re\n",
    "from math import cos, sin, pi, sqrt, atan\n",
    "import numpy as np\n",
    "%who"
   ]
  },
  {
   "cell_type": "code",
   "execution_count": 2,
   "metadata": {},
   "outputs": [],
   "source": [
    "\n",
    "ccw_history_radius_dict = load_object('ccw_history_radius_dict')\n",
    "cw_history_radius_dict = load_object('cw_history_radius_dict')\n",
    "ccw_history_year_dict = load_object('ccw_history_year_dict')\n",
    "cw_history_year_dict = load_object('cw_history_year_dict')\n",
    "ccw_history_theta_dict = load_object('ccw_history_theta_dict')\n",
    "cw_history_theta_dict = load_object('cw_history_theta_dict')\n",
    "saeculum_cmap_dict = load_object('saeculum_cmap_dict')\n",
    "dataframes_dict = load_dataframes(generations_df='generations_df', patriline_df='patriline_df',\n",
    "                                  turnings_df='turnings_df')"
   ]
  },
  {
   "cell_type": "code",
   "execution_count": null,
   "metadata": {},
   "outputs": [],
   "source": [
    "\n",
    "index_name = 'Patriarch Name'\n",
    "patriline_df = dataframes_dict['patriline_df']\n",
    "if 'Unnamed: 0' in patriline_df.columns:\n",
    "    patriline_df = patriline_df.set_index('Unnamed: 0')\n",
    "elif index_name in patriline_df.columns:\n",
    "    patriline_df = patriline_df.set_index(index_name)\n",
    "patriline_df.index.name = 'patriarch_name'"
   ]
  },
  {
   "cell_type": "code",
   "execution_count": null,
   "metadata": {},
   "outputs": [],
   "source": [
    "\n",
    "patriline_df.sample(5).T"
   ]
  },
  {
   "cell_type": "code",
   "execution_count": null,
   "metadata": {},
   "outputs": [],
   "source": [
    "\n",
    "index_name = 'generation_name'\n",
    "generations_df = dataframes_dict['generations_df']\n",
    "if 'Unnamed: 0' in generations_df.columns:\n",
    "    generations_df = generations_df.set_index('Unnamed: 0')\n",
    "elif index_name in generations_df.columns:\n",
    "    generations_df = generations_df.set_index(index_name)\n",
    "generations_df.index.name = index_name"
   ]
  },
  {
   "cell_type": "code",
   "execution_count": null,
   "metadata": {},
   "outputs": [],
   "source": [
    "\n",
    "generations_df.sample(5).T"
   ]
  },
  {
   "cell_type": "code",
   "execution_count": null,
   "metadata": {},
   "outputs": [],
   "source": [
    "\n",
    "min_year = patriline_df['Year of Birth'].min()\n",
    "match_series = (generations_df['birth_year_begin'] >= min_year)\n",
    "store_objects(patriline_df=patriline_df, generations_df=generations_df, turnings_df=turnings_df)\n",
    "generations_df[match_series]['saeculum_name'].unique()"
   ]
  },
  {
   "cell_type": "code",
   "execution_count": null,
   "metadata": {},
   "outputs": [],
   "source": [
    "\n",
    "index_name = 'turning_name'\n",
    "turnings_df = dataframes_dict['turnings_df']\n",
    "if 'Unnamed: 0' in turnings_df.columns:\n",
    "    turnings_df = turnings_df.set_index('Unnamed: 0')\n",
    "elif index_name in turnings_df.columns:\n",
    "    turnings_df = turnings_df.set_index(index_name)\n",
    "turnings_df.index.name = index_name"
   ]
  },
  {
   "cell_type": "code",
   "execution_count": null,
   "metadata": {},
   "outputs": [],
   "source": [
    "\n",
    "turnings_df.sample(5).T"
   ]
  },
  {
   "cell_type": "code",
   "execution_count": null,
   "metadata": {},
   "outputs": [],
   "source": [
    "\n",
    "min_year = patriline_df['Year of Birth'].min()\n",
    "match_series = (turnings_df['turning_begin_year'] >= min_year)\n",
    "turnings_df[match_series]['saeculum_name'].unique()"
   ]
  },
  {
   "cell_type": "code",
   "execution_count": null,
   "metadata": {},
   "outputs": [],
   "source": [
    "\n",
    "turnings_df['turning_end_year'].unique()"
   ]
  },
  {
   "cell_type": "code",
   "execution_count": null,
   "metadata": {},
   "outputs": [],
   "source": [
    "\n",
    "columns_list = ['turning_begin_year', 'turning_end_year']\n",
    "turnings_df[columns_list].apply(lambda row_series: int((row_series['turning_begin_year']+row_series['turning_end_year'])/2), axis=1)"
   ]
  },
  {
   "cell_type": "code",
   "execution_count": null,
   "metadata": {},
   "outputs": [],
   "source": [
    "\n",
    "from pathlib import Path\n",
    "\n",
    "png_folder = os.path.join(SAVES_FOLDER, 'png')\n",
    "year = 1961\n",
    "match_series = (turnings_df['turning_begin_year'] <= year) & (turnings_df['turning_end_year'] >= year)\n",
    "saeculum_name = turnings_df[match_series].index.tolist()[0]\n",
    "saeculum_file = '{}.jpg'.format(saeculum_name)\n",
    "saeculum_path = Path(os.path.join(png_folder, saeculum_file))\n",
    "dir(saeculum_path)"
   ]
  },
  {
   "cell_type": "code",
   "execution_count": null,
   "metadata": {},
   "outputs": [],
   "source": [
    "\n",
    "os.path.abspath(saeculum_path)"
   ]
  },
  {
   "cell_type": "code",
   "execution_count": null,
   "metadata": {},
   "outputs": [],
   "source": []
  },
  {
   "cell_type": "code",
   "execution_count": null,
   "metadata": {},
   "outputs": [],
   "source": [
    "\n",
    "def polar_to_cartesian(r, theta):\n",
    "    radians = theta*(pi/180)\n",
    "    \n",
    "    return int(r*cos(radians)), int(r*sin(radians))"
   ]
  },
  {
   "cell_type": "code",
   "execution_count": null,
   "metadata": {},
   "outputs": [],
   "source": [
    "\n",
    "def create_xy_list(history_radius_dict):\n",
    "    xy_list = []\n",
    "    for radius in sorted(history_radius_dict.keys()):\n",
    "        year, theta = history_radius_dict[radius]\n",
    "        cartesian_tuple = polar_to_cartesian(radius, theta)\n",
    "        if len(xy_list):\n",
    "            if (cartesian_tuple != xy_list[-1]):\n",
    "                xy_list.append(cartesian_tuple)\n",
    "        else:\n",
    "            xy_list.append(cartesian_tuple)\n",
    "    \n",
    "    return xy_list"
   ]
  },
  {
   "cell_type": "code",
   "execution_count": null,
   "metadata": {},
   "outputs": [],
   "source": [
    "\n",
    "def get_one_stopped_arc(history_year_dict, start_year, stop_year, stopped_year, i=0):\n",
    "    xy_list = []\n",
    "    i = i % 4\n",
    "    if stop_year > stopped_year:\n",
    "        stop_year = stopped_year\n",
    "    start_radius = history_year_dict[start_year][0]\n",
    "    start_radius += 25*i\n",
    "    stop_radius = history_year_dict[stop_year][0]\n",
    "    stop_radius += 25*i\n",
    "    increment_count = int(2*pi*start_radius)\n",
    "    radius_array = np.linspace(start=start_radius, stop=stop_radius,\n",
    "                               num=increment_count)\n",
    "    start_theta = history_year_dict[start_year][1]\n",
    "    stop_theta = history_year_dict[stop_year][1]\n",
    "    theta_array = np.linspace(start=start_theta, stop=stop_theta,\n",
    "                              num=increment_count)\n",
    "    for radius, theta in zip(radius_array, theta_array):\n",
    "        cartesian_tuple = polar_to_cartesian(radius, theta)\n",
    "        if len(xy_list):\n",
    "            if (cartesian_tuple != xy_list[-1]):\n",
    "                xy_list.append(cartesian_tuple)\n",
    "        else:\n",
    "            xy_list.append(cartesian_tuple)\n",
    "    \n",
    "    return xy_list"
   ]
  },
  {
   "cell_type": "code",
   "execution_count": null,
   "metadata": {},
   "outputs": [],
   "source": [
    "\n",
    "from PIL import Image\n",
    "from matplotlib.pyplot import imshow\n",
    "\n",
    "jpg_dir = os.path.join(SAVES_FOLDER, 'jpg')\n",
    "MAX_WIDTH = 936\n",
    "MAX_HEIGHT = 936\n",
    "def show_year_image(year):\n",
    "    file_name = '{}.jpg'.format(year)\n",
    "    file_path = os.path.join(jpg_dir, file_name)\n",
    "    jpg_image = Image.open(fp=file_path, mode='r')\n",
    "    jpg_image = jpg_image.rotate(angle=180)\n",
    "    width, height = jpg_image.size\n",
    "    if (width > MAX_WIDTH) or (height > MAX_HEIGHT):\n",
    "        if (width > MAX_WIDTH):\n",
    "            multiple = MAX_WIDTH / width\n",
    "            width *= multiple\n",
    "            height *= multiple\n",
    "        if (height > MAX_HEIGHT):\n",
    "            multiple = MAX_HEIGHT / height\n",
    "            width *= multiple\n",
    "            height *= multiple\n",
    "        jpg_image = jpg_image.resize(size=(int(width), int(height)), resample=0, box=None)\n",
    "        '''\n",
    "        width, height = jpg_image.size\n",
    "    left = 0 - int(width/2)\n",
    "    right = int(width/2)\n",
    "    top = 0 - int(height/2)\n",
    "    bottom = int(height/2)\n",
    "    AxesImage_obj = imshow(X=np.asarray(jpg_image), origin='upper', extent=(left, right, bottom, top))'''\n",
    "    \n",
    "    return jpg_image"
   ]
  },
  {
   "cell_type": "code",
   "execution_count": null,
   "metadata": {},
   "outputs": [],
   "source": [
    "\n",
    "def show_turning_image(year):\n",
    "    match_series = (turnings_df['turning_begin_year'] <= year) & (turnings_df['turning_end_year'] >= year)\n",
    "    turning_name_list = turnings_df[match_series].index.tolist()\n",
    "    if len(turning_name_list):\n",
    "        turning_name = turning_name_list[0]\n",
    "        file_name = '{}.jpg'.format(turning_name)\n",
    "        file_path = os.path.join(jpg_dir, file_name)\n",
    "        jpg_image = Image.open(fp=file_path, mode='r')\n",
    "        jpg_image = jpg_image.rotate(angle=180)\n",
    "        width, height = jpg_image.size\n",
    "        if (width > MAX_WIDTH) or (height > MAX_HEIGHT):\n",
    "            if (width > MAX_WIDTH):\n",
    "                multiple = MAX_WIDTH / width\n",
    "                width *= multiple\n",
    "                height *= multiple\n",
    "            if (height > MAX_HEIGHT):\n",
    "                multiple = MAX_HEIGHT / height\n",
    "                width *= multiple\n",
    "                height *= multiple\n",
    "            jpg_image = jpg_image.resize(size=(int(width), int(height)), resample=0, box=None)\n",
    "        '''\n",
    "        width, height = jpg_image.size\n",
    "    left = 0 - int(width/2)\n",
    "    right = int(width/2)\n",
    "    top = 0 - int(height/2)\n",
    "    bottom = int(height/2)\n",
    "    AxesImage_obj = imshow(X=np.asarray(jpg_image), origin='upper', extent=(left, right, bottom, top))'''\n",
    "    \n",
    "    return jpg_image"
   ]
  },
  {
   "cell_type": "code",
   "execution_count": null,
   "metadata": {},
   "outputs": [],
   "source": [
    "\n",
    "def show_saeculum_image(saeculum_name):\n",
    "    file_name = '{}.jpg'.format(saeculum_name)\n",
    "    file_path = os.path.join(jpg_dir, file_name)\n",
    "    jpg_image = Image.open(fp=file_path, mode='r')\n",
    "    jpg_image = jpg_image.rotate(angle=180)\n",
    "    width, height = jpg_image.size\n",
    "    if (width > MAX_WIDTH) or (height > MAX_HEIGHT):\n",
    "        if (width > MAX_WIDTH):\n",
    "            multiple = MAX_WIDTH / width\n",
    "            width *= multiple\n",
    "            height *= multiple\n",
    "        if (height > MAX_HEIGHT):\n",
    "            multiple = MAX_HEIGHT / height\n",
    "            width *= multiple\n",
    "            height *= multiple\n",
    "        jpg_image = jpg_image.resize(size=(int(width), int(height)), resample=0, box=None)\n",
    "        '''\n",
    "        width, height = jpg_image.size\n",
    "    left = 0 - int(width/2)\n",
    "    right = int(width/2)\n",
    "    top = 0 - int(height/2)\n",
    "    bottom = int(height/2)\n",
    "    AxesImage_obj = imshow(X=np.asarray(jpg_image), origin='upper', extent=(left, right, bottom, top))'''\n",
    "    \n",
    "    return jpg_image"
   ]
  },
  {
   "cell_type": "code",
   "execution_count": null,
   "metadata": {},
   "outputs": [],
   "source": [
    "\n",
    "import re\n",
    "\n",
    "dresses_list = []\n",
    "dresses_regex = re.compile(r'(\\d{4})-(\\d{4})\\.png')\n",
    "first_date_dict = {}\n",
    "second_date_dict = {}\n",
    "for sub_dir, dirs_list, files_list in os.walk(png_dir):\n",
    "    for file_name in files_list:\n",
    "        if dresses_regex.fullmatch(file_name):\n",
    "            match_obj = dresses_regex.search(file_name)\n",
    "            if match_obj:\n",
    "                first_date = int(match_obj.group(1))\n",
    "                second_date = int(match_obj.group(2))\n",
    "                diff = second_date - first_date\n",
    "                print('{}: {}'.format(file_name, diff))\n",
    "                if diff < 10:\n",
    "                    dresses_list.append(file_name)\n",
    "                    first_date_dict[first_date] = file_name\n",
    "                    second_date_dict[second_date] = file_name"
   ]
  },
  {
   "cell_type": "code",
   "execution_count": null,
   "metadata": {},
   "outputs": [],
   "source": [
    "\n",
    "store_objects(dresses_list=dresses_list, first_date_dict=first_date_dict, second_date_dict=second_date_dict)\n",
    "dresses_list"
   ]
  },
  {
   "cell_type": "code",
   "execution_count": null,
   "metadata": {},
   "outputs": [],
   "source": [
    "\n",
    "max(last_years_list)"
   ]
  },
  {
   "cell_type": "code",
   "execution_count": null,
   "metadata": {},
   "outputs": [],
   "source": [
    "\n",
    "first_years_list = list(first_date_dict.keys())\n",
    "last_years_list = list(second_date_dict.keys())\n",
    "dresses_file_dict = {}\n",
    "for stopped_year in range(min_year, 2031):\n",
    "    if stopped_year < min(first_years_list):\n",
    "        dresses_file = None\n",
    "    elif (stopped_year in first_years_list):\n",
    "        dresses_file = first_date_dict[stopped_year]\n",
    "    elif (stopped_year in last_years_list):\n",
    "        dresses_file = second_date_dict[stopped_year]\n",
    "    elif stopped_year > max(last_years_list):\n",
    "        dresses_file = None\n",
    "    dresses_file_dict[stopped_year] = dresses_file\n",
    "store_objects(dresses_file_dict=dresses_file_dict)"
   ]
  },
  {
   "cell_type": "code",
   "execution_count": null,
   "metadata": {},
   "outputs": [],
   "source": [
    "\n",
    "white_tuple = (255, 255, 255, 0)\n",
    "def add_fashion_image(year):\n",
    "    \n",
    "    # Get old image data\n",
    "    old_path = os.path.join(png_folder, 'plot_{}.png'.format(year))\n",
    "    foreground = Image.open(old_path)\n",
    "    foreground = foreground.convert('RGBA')\n",
    "    old_data_list = foreground.getdata()\n",
    "    \n",
    "    # Get new image data\n",
    "    new_data_list = []\n",
    "    for old_tuple in old_data_list:\n",
    "        if (old_tuple[0] == 255) and (old_tuple[1] == 255) and (old_tuple[2] == 255):\n",
    "            new_data_list.append(white_tuple)\n",
    "        else:\n",
    "            new_data_list.append(old_tuple)\n",
    "    \n",
    "    # Replace old with new\n",
    "    foreground.putdata(new_data_list)\n",
    "    \n",
    "    # Get dresses image\n",
    "    dresses_file = dresses_file_dict[year]\n",
    "    if dresses_file is None:\n",
    "        file_path = os.path.join(png_folder, 'plot_{}_fashionable.png'.format(year))\n",
    "        foreground.save(file_path, 'PNG')\n",
    "    else:\n",
    "        file_path = os.path.join(png_folder, dresses_file)\n",
    "        dresses_img = Image.open(file_path)\n",
    "        dresses_img = dresses_img.convert('RGBA')\n",
    "\n",
    "        dresses_img.paste(foreground, (0, 0), foreground)\n",
    "\n",
    "        file_path = os.path.join(png_folder, 'plot_{}_fashionable.png'.format(year))\n",
    "        dresses_img.save(file_path, 'PNG')"
   ]
  },
  {
   "cell_type": "code",
   "execution_count": null,
   "metadata": {},
   "outputs": [],
   "source": [
    "\n",
    "from pathlib import Path\n",
    "\n",
    "saeculum_dir = os.path.join(DATA_FOLDER, 'saeculum')\n",
    "movie_folder = os.path.join(SAVES_FOLDER, 'movies')\n",
    "saeculum_movie_folder = os.path.join(movie_folder, 'saeculum')\n",
    "bare_movie_folder = os.path.join(movie_folder, 'bare')\n",
    "os.makedirs(name=saeculum_movie_folder, exist_ok=True)\n",
    "MAX_WIDTH = 936\n",
    "MAX_HEIGHT = 936\n",
    "def add_saeculum_image(year):\n",
    "    \n",
    "    # Get old image data\n",
    "    old_path = os.path.join(bare_movie_folder, 'plot_{}.png'.format(year))\n",
    "    foreground = Image.open(old_path)\n",
    "    foreground = foreground.convert('RGBA')\n",
    "    old_data_list = foreground.getdata()\n",
    "    \n",
    "    # Get new image data\n",
    "    new_data_list = []\n",
    "    for old_tuple in old_data_list:\n",
    "        if (old_tuple[0] == 255) and (old_tuple[1] == 255) and (old_tuple[2] == 255):\n",
    "            new_data_list.append(white_tuple)\n",
    "        else:\n",
    "            new_data_list.append(old_tuple)\n",
    "    \n",
    "    # Replace old with new\n",
    "    foreground.putdata(new_data_list)\n",
    "    \n",
    "    # Get saeculum image\n",
    "    match_series = (turnings_df['turning_begin_year'] <= year) & (turnings_df['turning_end_year'] >= year)\n",
    "    saeculum_list = turnings_df[match_series].index.tolist()\n",
    "    if len(saeculum_list):\n",
    "        saeculum_name = saeculum_list[0]\n",
    "        saeculum_file = '{}.png'.format(saeculum_name)\n",
    "        saeculum_path = Path(os.path.join(saeculum_dir, saeculum_file))\n",
    "        new_path = os.path.join(saeculum_movie_folder, 'plot_{}_saeculum.png'.format(year))\n",
    "        if saeculum_path.is_file():\n",
    "            saeculum_img = Image.open(saeculum_path, mode='r')\n",
    "            saeculum_img = saeculum_img.convert('RGBA')\n",
    "            saeculum_img.paste(foreground, (0, 0), foreground)\n",
    "            saeculum_img.save(new_path, 'PNG')\n",
    "        else:\n",
    "            foreground.save(new_path, 'PNG')"
   ]
  },
  {
   "cell_type": "code",
   "execution_count": null,
   "metadata": {},
   "outputs": [],
   "source": [
    "\n",
    "dresses_list = load_object('dresses_list')\n",
    "first_date_dict = load_object('first_date_dict')\n",
    "second_date_dict = load_object('second_date_dict')\n",
    "dresses_file_dict = load_object('dresses_file_dict')"
   ]
  },
  {
   "cell_type": "code",
   "execution_count": null,
   "metadata": {},
   "outputs": [],
   "source": [
    "\n",
    "movie_folder = os.path.join(SAVES_FOLDER, 'movies')\n",
    "bare_movie_folder = os.path.join(movie_folder, 'bare')"
   ]
  },
  {
   "cell_type": "code",
   "execution_count": 5,
   "metadata": {},
   "outputs": [],
   "source": [
    "\n",
    "patriline_df = load_object('patriline_df')\n",
    "def show_stopped_babbitt_plot(history_year_dict, history_theta_dict, stopped_year):\n",
    "\n",
    "    # Turn interactive plotting off\n",
    "    plt.ioff()\n",
    "    \n",
    "    # Create a new figure, plot into it, then close it so it never gets displayed\n",
    "    fig = plt.figure(figsize=(13, 13))\n",
    "    ax = fig.add_subplot(111, autoscale_on=False)\n",
    "    ax.set_xlim(-1000, 1000)\n",
    "    ax.set_ylim(-1000, 1000)\n",
    "    match_series = (patriline_df['Year of Birth'] <= stopped_year)\n",
    "    i = patriline_df[match_series].shape[0]-1\n",
    "    d = 5\n",
    "    previous_saeculum = patriline_df[match_series].head(1)['Saeculum Name'].tolist()[0]\n",
    "    for patriarch_name, row_series in patriline_df[match_series].iterrows():\n",
    "        start_year = int(row_series['Year of Birth'])\n",
    "        stop_year = row_series['Year of Death']\n",
    "        try:\n",
    "            stop_year = int(stop_year)\n",
    "        except:\n",
    "            stop_year = start_year + 80\n",
    "            if stop_year > max(history_year_dict.keys()):\n",
    "                stop_year = max(history_year_dict.keys())\n",
    "        xy_list = get_one_stopped_arc(history_year_dict, start_year, stop_year, stopped_year, i)\n",
    "        years_list = [year for year in [start_year, stop_year] if year <= stopped_year]\n",
    "        add_spiral_labels(years_list, history_year_dict, i)\n",
    "        if stop_year > stopped_year:\n",
    "            stop_year = stopped_year\n",
    "        text_color = row_series['xkcd_color']\n",
    "        label_arc(start_year, stop_year, history_year_dict, history_theta_dict, patriarch_name, 13, i, text_color)\n",
    "        saeculum = row_series['Saeculum Name']\n",
    "        if saeculum != previous_saeculum:\n",
    "            previous_saeculum = saeculum\n",
    "            d = 5\n",
    "        #print(patriarch_name, i, d, saeculum)\n",
    "        cmap = saeculum_cmap_dict[saeculum]\n",
    "        c = plt.get_cmap(cmap)(np.linspace(0, 1, 6))[d]\n",
    "        PathCollection_obj = plt.plot([xy[0] for xy in xy_list], [xy[1] for xy in xy_list],\n",
    "                                      alpha=0.75, label=patriarch_name, c=c, linewidth=9)\n",
    "        i -= 1\n",
    "        d -= 1\n",
    "    \n",
    "    #show_turning_image(stopped_year)\n",
    "    legend_obj = ax.legend()\n",
    "    frame_obj = legend_obj.get_frame()\n",
    "    frame_obj.set_facecolor('whitesmoke')\n",
    "    ax.get_xaxis().set_visible(False)\n",
    "    ax.get_yaxis().set_visible(False)\n",
    "    \n",
    "    # Close it so it never gets displayed\n",
    "    file_name = 'plot_{}.png'.format(stopped_year)\n",
    "    file_path = os.path.join(bare_movie_folder, file_name)\n",
    "    plt.savefig(file_path, format='png')\n",
    "    plt.close(fig)"
   ]
  },
  {
   "cell_type": "code",
   "execution_count": null,
   "metadata": {},
   "outputs": [],
   "source": [
    "\n",
    "def add_spiral_labels(years_list, history_year_dict, i=0):\n",
    "    i = i % 4\n",
    "    for year in years_list:\n",
    "        radius, theta = history_year_dict[year]\n",
    "        radius += 25*i\n",
    "        radius -= 25/2\n",
    "        x, y = polar_to_cartesian(radius, theta)\n",
    "        text_obj = plt.text(x, y, year, fontsize=10, color='gray',\n",
    "                            rotation=theta-90, rotation_mode='anchor')"
   ]
  },
  {
   "cell_type": "code",
   "execution_count": 1,
   "metadata": {},
   "outputs": [],
   "source": [
    "\n",
    "import logging\n",
    "\n",
    "logging.basicConfig(filename='label_arc.log', filemode='a', format='%(asctime)s,%(msecs)d %(name)s %(levelname)s %(message)s',\n",
    "                    datefmt='%H:%M:%S', level=logging.DEBUG)\n",
    "logging.info('Running Label Arc')\n",
    "def label_arc(start_year, stopped_year, history_year_dict, history_theta_dict,\n",
    "              arc_label, ideal_distance=13, i=0, label_color='black'):\n",
    "    i = i % 4\n",
    "    starting_year = int(((start_year + stopped_year) / 2) - (len(arc_label) / 2))\n",
    "    starting_radius, starting_theta = history_year_dict[starting_year]\n",
    "    next_radius, next_theta = history_year_dict[starting_year+1]\n",
    "    \n",
    "\n",
    "    # Tan(A) = Opposite/Adjacent\n",
    "    radians = atan(ideal_distance/starting_radius)\n",
    "    theta_sign = np.sign(next_theta-starting_theta)\n",
    "    \n",
    "    # Increment the theta so that it spaces the letters the same regardless of the radius\n",
    "    theta_increment = theta_sign*(radians*180/pi)\n",
    "    \n",
    "    # Figure out if you have to flip the characters upside-down and place them backwards\n",
    "    if (starting_theta%360) < 200:\n",
    "        logging.info('')\n",
    "        logging.info('Right-side up thetas:')\n",
    "        theta = starting_theta\n",
    "        radius = starting_radius + 25*i\n",
    "        radius -= 25/2\n",
    "        for c in arc_label[::int(-theta_sign)]:\n",
    "            logging.info('c: \"{}\", radius: \"{}\", theta: \"{}\"'.format(c, radius, theta % 360))\n",
    "            x, y = polar_to_cartesian(radius, theta)\n",
    "            text_obj = plt.text(x, y, c, fontsize=12, color=label_color,\n",
    "                                rotation=theta-90, rotation_mode='anchor')\n",
    "            theta += theta_increment\n",
    "            if int(theta) in history_theta_dict:\n",
    "                radius = history_theta_dict[int(theta)][1]\n",
    "                radius += 25*i\n",
    "                radius -= 25/2\n",
    "    else:\n",
    "        logging.info('')\n",
    "        logging.info('Upside-down thetas:')\n",
    "        theta = starting_theta + theta_increment*len(arc_label)\n",
    "        radius = starting_radius + 25*i\n",
    "        radius += 25/2\n",
    "        for c in arc_label[::int(-theta_sign)]:\n",
    "            logging.info('c: \"{}\", radius: \"{}\", theta: \"{}\"'.format(c, radius, theta % 360))\n",
    "            x, y = polar_to_cartesian(radius, theta)\n",
    "            text_obj = plt.text(x, y, c, fontsize=12, color=label_color,\n",
    "                                rotation=theta+90, rotation_mode='anchor')\n",
    "            theta -= theta_increment\n",
    "            if int(theta) in history_theta_dict:\n",
    "                radius = history_theta_dict[int(theta)][1]\n",
    "                radius += 25*i\n",
    "                radius += 25/2"
   ]
  },
  {
   "cell_type": "code",
   "execution_count": null,
   "metadata": {},
   "outputs": [],
   "source": [
    "\n",
    "show_stopped_babbitt_plot(cw_history_year_dict, cw_history_theta_dict, 2020)"
   ]
  },
  {
   "cell_type": "code",
   "execution_count": null,
   "metadata": {},
   "outputs": [],
   "source": [
    "\n",
    "logging.getLogger().setLevel(logging.CRITICAL)"
   ]
  },
  {
   "cell_type": "code",
   "execution_count": null,
   "metadata": {},
   "outputs": [],
   "source": [
    "\n",
    "png_dir = os.path.join(SAVES_FOLDER, 'png')\n",
    "os.makedirs(name=png_dir, exist_ok=True)\n",
    "min_year = patriline_df['Year of Birth'].min()\n",
    "for stopped_year in range(min_year, 2031):\n",
    "    show_stopped_babbitt_plot(cw_history_year_dict, cw_history_theta_dict, stopped_year)"
   ]
  },
  {
   "cell_type": "code",
   "execution_count": null,
   "metadata": {},
   "outputs": [],
   "source": [
    "\n",
    "def distance_from_white(old_tuple):\n",
    "    x_diff = 255 - old_tuple[0]\n",
    "    y_diff = 255 - old_tuple[1]\n",
    "    z_diff = 255 - old_tuple[2]\n",
    "    \n",
    "    return sqrt(x_diff**2 + y_diff**2 + z_diff**2)"
   ]
  },
  {
   "cell_type": "code",
   "execution_count": null,
   "metadata": {},
   "outputs": [],
   "source": [
    "\n",
    "def distance_from_black(old_tuple):\n",
    "    \n",
    "    return sqrt(old_tuple[0]**2 + old_tuple[1]**2 + old_tuple[2]**2)"
   ]
  },
  {
   "cell_type": "code",
   "execution_count": null,
   "metadata": {},
   "outputs": [],
   "source": [
    "\n",
    "white_tuple = (255, 255, 255, 0)\n",
    "black_tuple = (0, 0, 0, 255)\n",
    "margin = 255/distance_from_white(black_tuple)\n",
    "def make_transparent(img, threshold=38):\n",
    "    old_data_list = img.getdata()\n",
    "    \n",
    "    # Get new image data\n",
    "    new_data_list = []\n",
    "    for old_tuple in old_data_list:\n",
    "        transparency = int(margin * distance_from_white(old_tuple))\n",
    "        if transparency > threshold:\n",
    "            transparency = 255\n",
    "        elif transparency < 0:\n",
    "            transparency = 0\n",
    "        old_tuple = (old_tuple[0], old_tuple[1], old_tuple[2], transparency)\n",
    "        new_data_list.append(old_tuple)\n",
    "    \n",
    "    # Replace old with new\n",
    "    img.putdata(new_data_list)\n",
    "    \n",
    "    return img"
   ]
  },
  {
   "cell_type": "code",
   "execution_count": null,
   "metadata": {},
   "outputs": [],
   "source": [
    "\n",
    "for i in range(1971, 1980):\n",
    "    dresses_file_dict[i] = '1971-1979.png'"
   ]
  },
  {
   "cell_type": "code",
   "execution_count": null,
   "metadata": {},
   "outputs": [],
   "source": [
    "\n",
    "from pathlib import Path\n",
    "\n",
    "saeculum_fashionable_movie_folder = os.path.join(movie_folder, 'saeculum_fashionable')\n",
    "os.makedirs(name=saeculum_fashionable_movie_folder, exist_ok=True)\n",
    "def add_fashion_saeculum_image(year):\n",
    "    \n",
    "    # Get old image data\n",
    "    old_path = os.path.join(bare_movie_folder, 'plot_{}.png'.format(year))\n",
    "    foreground = Image.open(old_path)\n",
    "    foreground = foreground.convert('RGBA')\n",
    "    foreground = make_transparent(foreground, threshold=6)\n",
    "    \n",
    "    # Get dresses image\n",
    "    dresses_file = dresses_file_dict[year]\n",
    "    if dresses_file is None:\n",
    "        dresses_img = foreground\n",
    "    else:\n",
    "        file_path = os.path.join(png_folder, dresses_file)\n",
    "        dresses_img = Image.open(file_path)\n",
    "        dresses_img = dresses_img.convert('RGBA')\n",
    "        dresses_img = make_transparent(dresses_img, threshold=5)\n",
    "        dresses_img.paste(foreground, (0, 0), foreground)\n",
    "    \n",
    "    # Get saeculum image\n",
    "    match_series = (turnings_df['turning_begin_year'] <= year) & (turnings_df['turning_end_year'] >= year)\n",
    "    saeculum_list = turnings_df[match_series].index.tolist()\n",
    "    if len(saeculum_list):\n",
    "        saeculum_name = saeculum_list[0]\n",
    "        saeculum_file = '{}.png'.format(saeculum_name)\n",
    "        saeculum_path = Path(os.path.join(saeculum_dir, saeculum_file))\n",
    "        if saeculum_path.is_file():\n",
    "            saeculum_img = Image.open(saeculum_path, mode='r')\n",
    "            saeculum_img = saeculum_img.convert('RGBA')\n",
    "            saeculum_img.paste(dresses_img, (0, 0), dresses_img)\n",
    "        else:\n",
    "            saeculum_img = dresses_img\n",
    "        file_path = os.path.join(saeculum_fashionable_movie_folder, 'plot_{}_saeculum_fashionable.png'.format(year))\n",
    "        saeculum_img.save(file_path, 'PNG')"
   ]
  },
  {
   "cell_type": "code",
   "execution_count": null,
   "metadata": {},
   "outputs": [],
   "source": [
    "\n",
    "add_fashion_saeculum_image(1971)"
   ]
  },
  {
   "cell_type": "code",
   "execution_count": null,
   "metadata": {},
   "outputs": [],
   "source": [
    "\n",
    "for stopped_year in range(1972, 2031):\n",
    "    add_fashion_saeculum_image(stopped_year)"
   ]
  },
  {
   "cell_type": "code",
   "execution_count": null,
   "metadata": {},
   "outputs": [],
   "source": [
    "\n",
    "min_year = patriline_df['Year of Birth'].min()\n",
    "for stopped_year in range(min_year, 2031):\n",
    "    add_fashion_saeculum_image(stopped_year)"
   ]
  },
  {
   "cell_type": "code",
   "execution_count": null,
   "metadata": {},
   "outputs": [],
   "source": [
    "\n",
    "def make_a_movie(stop_year=2020, png_suffix='', movie_folder=bare_movie_folder, movie_name=None):\n",
    "    images_list = []\n",
    "    for stopped_year in range(min_year, stop_year):\n",
    "        png_name = 'plot_{}{}.png'.format(stopped_year, png_suffix)\n",
    "        png_path = os.path.join(movie_folder, png_name)\n",
    "        images_list.append(imageio.imread(png_path))\n",
    "    png_name = 'plot_{}{}.png'.format(stop_year, png_suffix)\n",
    "    png_path = os.path.join(movie_folder, png_name)\n",
    "    for i in range(200):\n",
    "        images_list.append(imageio.imread(png_path))\n",
    "    if movie_name is None:\n",
    "        movie_name = '_'.join(png_suffix.split('_')[1:] + ['movie']) + '.gif'\n",
    "    gif_path = os.path.join(movie_folder, movie_name)\n",
    "    imageio.mimsave(gif_path, images_list)"
   ]
  },
  {
   "cell_type": "code",
   "execution_count": null,
   "metadata": {},
   "outputs": [],
   "source": [
    "\n",
    "make_a_movie(2020, png_suffix='_saeculum_fashionable', movie_folder=saeculum_fashionable_movie_folder, movie_name='movie_to_2020.gif')"
   ]
  },
  {
   "cell_type": "code",
   "execution_count": null,
   "metadata": {},
   "outputs": [],
   "source": [
    "\n",
    "make_a_movie(1989, png_suffix='_saeculum_fashionable', movie_folder=saeculum_fashionable_movie_folder, movie_name='stephen_movie.gif')"
   ]
  },
  {
   "cell_type": "code",
   "execution_count": null,
   "metadata": {},
   "outputs": [],
   "source": [
    "\n",
    "import requests\n",
    "\n",
    "def exists(path):\n",
    "    r = requests.head(path)\n",
    "    \n",
    "    return r.status_code == requests.codes.ok\n",
    "\n",
    "min_decade = 10 * (min_year//10)\n",
    "for i in range(min_decade, 2020, 10):\n",
    "    url = 'https://en.wikipedia.org/wiki/{}s_in_fashion'.format(i)\n",
    "    if exists(url):\n",
    "        print('{} exists'.format(i))"
   ]
  },
  {
   "cell_type": "code",
   "execution_count": null,
   "metadata": {},
   "outputs": [],
   "source": [
    "\n",
    "plt.savefig?"
   ]
  },
  {
   "cell_type": "code",
   "execution_count": null,
   "metadata": {},
   "outputs": [],
   "source": [
    "\n",
    "make_a_movie(1989)"
   ]
  },
  {
   "cell_type": "code",
   "execution_count": null,
   "metadata": {},
   "outputs": [],
   "source": [
    "\n",
    "images_list = []\n",
    "for stopped_year in range(min_year, 2020):\n",
    "    png_name = 'plot_{}_saeculum_fashionable.png'.format(stopped_year)\n",
    "    png_path = os.path.join(saeculum_fashionable_movie_folder, png_name)\n",
    "    images_list.append(imageio.imread(png_path))\n",
    "png_name = 'plot_{}_saeculum_fashionable.png'.format(2020)\n",
    "png_path = os.path.join(saeculum_fashionable_movie_folder, png_name)\n",
    "for i in range(100):\n",
    "    images_list.append(imageio.imread(png_path))\n",
    "gif_path = os.path.join(saeculum_fashionable_movie_folder, 'saeculum_fashionable_movie.gif')\n",
    "imageio.mimsave(gif_path, images_list)\n",
    "# Too busy to display in this cell\n",
    "#display.Image(gif_path)"
   ]
  },
  {
   "cell_type": "code",
   "execution_count": null,
   "metadata": {},
   "outputs": [],
   "source": [
    "\n",
    "import os\n",
    "import imageio\n",
    "from IPython import display\n",
    "\n",
    "gif_dir = os.path.join(SAVES_FOLDER, 'gif')\n",
    "os.makedirs(name=gif_dir, exist_ok=True)\n",
    "images_list = []\n",
    "for stopped_year in range(min_year, 2020):\n",
    "    png_name = 'plot_{}_saeculum.png'.format(stopped_year)\n",
    "    png_path = os.path.join(saeculum_movie_folder, png_name)\n",
    "    images_list.append(imageio.imread(png_path))\n",
    "png_name = 'plot_{}_saeculum.png'.format(2020)\n",
    "png_path = os.path.join(saeculum_movie_folder, png_name)\n",
    "for i in range(100):\n",
    "    images_list.append(imageio.imread(png_path))\n",
    "gif_path = os.path.join(saeculum_movie_folder, 'saeculum_movie.gif')\n",
    "imageio.mimsave(gif_path, images_list)\n",
    "# Too busy to display in this cell\n",
    "#display.Image(gif_path)"
   ]
  },
  {
   "cell_type": "code",
   "execution_count": null,
   "metadata": {},
   "outputs": [],
   "source": [
    "\n",
    "print(os.path.abspath(os.path.join(saeculum_movie_folder, 'plot_{}_saeculum.png'.format(2020))))"
   ]
  },
  {
   "cell_type": "code",
   "execution_count": null,
   "metadata": {},
   "outputs": [],
   "source": [
    "\n",
    "import imageio\n",
    "from IPython import display\n",
    "\n",
    "gif_dir = os.path.join(SAVES_FOLDER, 'gif')\n",
    "os.makedirs(name=gif_dir, exist_ok=True)\n",
    "images = []\n",
    "for stopped_year in range(min_year, 2020):\n",
    "    file_name = 'plot_{}_fashionable.png'.format(stopped_year)\n",
    "    file_path = os.path.join(SAVES_FOLDER, 'png', file_name)\n",
    "    images.append(imageio.imread(file_path))\n",
    "file_name = 'plot_{}_fashionable.png'.format(2020)\n",
    "file_path = os.path.join(SAVES_FOLDER, 'png', file_name)\n",
    "for i in range(100):\n",
    "    images.append(imageio.imread(file_path))\n",
    "file_path = os.path.join(gif_dir, 'fashionable_movie.gif')\n",
    "imageio.mimsave(file_path, images)\n",
    "display.Image(file_path)"
   ]
  },
  {
   "cell_type": "code",
   "execution_count": null,
   "metadata": {},
   "outputs": [],
   "source": [
    "\n",
    "import sys\n",
    "\n",
    "# Pillow\n",
    "!{sys.executable} -m pip install --upgrade Pillow"
   ]
  },
  {
   "cell_type": "code",
   "execution_count": null,
   "metadata": {},
   "outputs": [],
   "source": [
    "\n",
    "print('{} -m pip install --upgrade Pillow'.format(sys.executable))"
   ]
  },
  {
   "cell_type": "code",
   "execution_count": null,
   "metadata": {},
   "outputs": [],
   "source": [
    "\n",
    "from PIL import Image, ImageFont, ImageDraw\n",
    "\n",
    "png_folder = os.path.join(SAVES_FOLDER, 'png')\n",
    "file_path = os.path.join(png_folder, 'plot_2019.png')\n",
    "img_2019 = Image.open(file_path)\n",
    "print(type(img_2019))\n",
    "print([fn for fn in dir(img_2019) if 'get' in fn.lower()])"
   ]
  },
  {
   "cell_type": "code",
   "execution_count": null,
   "metadata": {},
   "outputs": [],
   "source": [
    "\n",
    "img_2019.getbbox()"
   ]
  },
  {
   "cell_type": "code",
   "execution_count": null,
   "metadata": {},
   "outputs": [],
   "source": [
    "\n",
    "exif_obj = img_1784_1866.getexif()\n",
    "print(dir(exif_obj))\n",
    "for key, value in exif_obj.items():\n",
    "    print(key, value)"
   ]
  },
  {
   "cell_type": "code",
   "execution_count": null,
   "metadata": {},
   "outputs": [],
   "source": [
    "\n",
    "items_view = exif_obj.items()\n",
    "dir(items_view)"
   ]
  },
  {
   "cell_type": "code",
   "execution_count": null,
   "metadata": {},
   "outputs": [],
   "source": [
    "\n",
    "bbox_tuple = img_1784_1866.getbbox()"
   ]
  },
  {
   "cell_type": "code",
   "execution_count": null,
   "metadata": {},
   "outputs": [],
   "source": [
    "\n",
    "file_path = r'C:\\Users\\dev\\Downloads\\1784-1866.png'\n",
    "img_1784_1866 = Image.open(file_path)\n",
    "bbox_left, bbox_top, bbox_right, bbox_bottom = img_1784_1866.getbbox()\n",
    "slice_count = int(bbox_bottom / 12)\n",
    "for i in range(0, bbox_bottom, slice_count):\n",
    "    crop_tuple = (bbox_left, i, bbox_right, i+slice_count)\n",
    "    img_1784_1866.crop(crop_tuple).save(fp='{}_{}.png'.format(file_path.split('.')[0], i))"
   ]
  },
  {
   "cell_type": "code",
   "execution_count": null,
   "metadata": {},
   "outputs": [],
   "source": [
    "\n",
    "'{}_{}.png'.format(file_path.split('.')[0], i)"
   ]
  },
  {
   "cell_type": "code",
   "execution_count": null,
   "metadata": {},
   "outputs": [],
   "source": []
  },
  {
   "cell_type": "code",
   "execution_count": null,
   "metadata": {},
   "outputs": [],
   "source": [
    "\n",
    "img_2019.getextrema()"
   ]
  },
  {
   "cell_type": "code",
   "execution_count": null,
   "metadata": {},
   "outputs": [],
   "source": [
    "\n",
    "exif_obj = img_2019.getexif()\n",
    "print(dir(exif_obj))\n",
    "for key, value in exif_obj.items():\n",
    "    print(key, value)"
   ]
  },
  {
   "cell_type": "code",
   "execution_count": null,
   "metadata": {},
   "outputs": [],
   "source": [
    "\n",
    "img_2019.getdata(band=img_2019.getbands().index('A'))"
   ]
  },
  {
   "cell_type": "code",
   "execution_count": null,
   "metadata": {},
   "outputs": [],
   "source": [
    "\n",
    "img_2019.getbands()"
   ]
  },
  {
   "cell_type": "code",
   "execution_count": null,
   "metadata": {},
   "outputs": [],
   "source": [
    "\n",
    "img_2019.get_format_mimetype()"
   ]
  },
  {
   "cell_type": "code",
   "execution_count": null,
   "metadata": {},
   "outputs": [],
   "source": []
  },
  {
   "cell_type": "code",
   "execution_count": null,
   "metadata": {},
   "outputs": [],
   "source": [
    "\n",
    "w,h= img.size\n",
    "\n",
    "# put pixels into 2D array for ease of use\n",
    "data = list(img.getdata())\n",
    "xy_data = []\n",
    "for y in xrange(h):\n",
    "    temp = []\n",
    "    for x in xrange(w):\n",
    "        temp.append(data[y*w + x])\n",
    "    xy_data.append(temp)\n",
    "\n",
    "# get the title\n",
    "title = raw_input(\"Title:\")\n",
    "\n",
    "# load the font\n",
    "font_size = 20\n",
    "font = ImageFont.truetype(\"/path/to/font.ttf\",font_size)\n",
    "\n",
    "#  Get the required height for you images\n",
    "height_needed = font.getsize(title)[1] + 2  # 2 px for padding\n",
    "\n",
    "# get the upperleft pixel to match color\n",
    "bg = xy_data[0][0]\n",
    "\n",
    "# add rows to the data to prepare for the text\n",
    "xy_data = [[bg]*w for i in range(height_needed+5)] + xy_data  # +5 for more padding\n",
    "\n",
    "# resize image\n",
    "img = img.resize((w,h+height_needed+5))\n",
    "\n",
    "# convert data back to 1D array\n",
    "data = []\n",
    "for line in xy_data:\n",
    "    data += line\n",
    "\n",
    "# put the image back in the data\n",
    "img.putdata(data)\n",
    "\n",
    "# get the ImageDraw item for this image\n",
    "draw = ImageDraw.Draw(img)\n",
    "\n",
    "# draw the text\n",
    "draw.text((5,0),title,font=font,fill=(0,0,0))  # fill is black\n",
    "\n",
    "img.save('titled_plot.png')"
   ]
  },
  {
   "cell_type": "code",
   "execution_count": null,
   "metadata": {},
   "outputs": [],
   "source": [
    "%%javascript\n",
    "var kernel = IPython.notebook.kernel;\n",
    "var body = document.body;\n",
    "var attribs = body.attributes;\n",
    "var command = \"notebook_path = \" + \"'\"+attribs['data-notebook-path'].value+\"'\";\n",
    "kernel.execute(command);"
   ]
  },
  {
   "cell_type": "code",
   "execution_count": null,
   "metadata": {},
   "outputs": [],
   "source": [
    "# %load ../../load_magic/nbviewer.py\n",
    "\n",
    "from IPython.display import HTML\n",
    "\n",
    "notebook_viewer_url = 'https://nbviewer.jupyter.org/github/dbabbitt/notebooks/blob/master/'\n",
    "notebook_viewer_url += '/'.join(notebook_path.split('/')[1:])\n",
    "html_str = 'Click <a href=\"{}\" target=\"_blank\">here</a> to view notebook in nbviewer.'\n",
    "HTML(html_str.format(notebook_viewer_url))"
   ]
  },
  {
   "cell_type": "code",
   "execution_count": null,
   "metadata": {},
   "outputs": [],
   "source": []
  }
 ],
 "metadata": {
  "kernelspec": {
   "display_name": "Python 3",
   "language": "python",
   "name": "python3"
  },
  "language_info": {
   "codemirror_mode": {
    "name": "ipython",
    "version": 3
   },
   "file_extension": ".py",
   "mimetype": "text/x-python",
   "name": "python",
   "nbconvert_exporter": "python",
   "pygments_lexer": "ipython3",
   "version": "3.7.3"
  }
 },
 "nbformat": 4,
 "nbformat_minor": 2
}
