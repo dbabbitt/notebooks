{
 "cells": [
  {
   "cell_type": "code",
   "execution_count": 1,
   "metadata": {},
   "outputs": [
    {
     "name": "stdout",
     "output_type": "stream",
     "text": [
      "DATA_FOLDER: ../data/\n",
      "SAVES_FOLDER: ../saves/\n",
      "Pretty printing has been turned OFF\n",
      "DATA_CSV_FOLDER\t DATA_FOLDER\t ENCODING_TYPE\t Image\t SAVES_CSV_FOLDER\t SAVES_FOLDER\t SAVES_PICKLE_FOLDER\t atan\t attempt_to_pickle\t \n",
      "cos\t example_iterrows\t get_column_descriptions\t imshow\t load_csv\t load_dataframes\t load_object\t math\t np\t \n",
      "os\t pd\t pi\t pickle\t plt\t re\t save_dataframes\t sin\t sqrt\t \n",
      "store_objects\t sys\t \n"
     ]
    }
   ],
   "source": [
    "\n",
    "%run ../../load_magic/storage.py\n",
    "%run ../../load_magic/dataframes.py\n",
    "%pprint\n",
    "%matplotlib inline\n",
    "import matplotlib.pyplot as plt\n",
    "\n",
    "# Use the following only if you are on a high definition device\n",
    "from IPython.display import set_matplotlib_formats\n",
    "set_matplotlib_formats('retina')\n",
    "\n",
    "import re\n",
    "from math import cos, sin, pi, sqrt, atan\n",
    "import numpy as np\n",
    "from PIL import Image\n",
    "from matplotlib.pyplot import imshow\n",
    "\n",
    "%who"
   ]
  },
  {
   "cell_type": "code",
   "execution_count": 2,
   "metadata": {},
   "outputs": [
    {
     "name": "stdout",
     "output_type": "stream",
     "text": [
      "Attempting to load C:\\Users\\dev\\Documents\\repositories\\notebooks\\Strauss–Howe\\saves\\pickle\\patriline_df.pickle.\n",
      "No pickle exists - attempting to load C:\\Users\\dev\\Documents\\repositories\\notebooks\\Strauss–Howe\\saves\\csv\\patriline_df.csv.\n",
      "Attempting to load C:\\Users\\dev\\Documents\\repositories\\notebooks\\Strauss–Howe\\saves\\pickle\\turnings_df.pickle.\n",
      "No pickle exists - attempting to load C:\\Users\\dev\\Documents\\repositories\\notebooks\\Strauss–Howe\\saves\\csv\\turnings_df.csv.\n"
     ]
    }
   ],
   "source": [
    "\n",
    "cw_history_year_dict = load_object('cw_history_year_dict')\n",
    "dataframes_dict = load_dataframes(patriline_df='patriline_df', turnings_df='turnings_df')"
   ]
  },
  {
   "cell_type": "code",
   "execution_count": 3,
   "metadata": {},
   "outputs": [],
   "source": [
    "\n",
    "index_name = 'Patriarch Name'\n",
    "patriline_df = dataframes_dict['patriline_df']\n",
    "if 'Unnamed: 0' in patriline_df.columns:\n",
    "    patriline_df = patriline_df.set_index('Unnamed: 0')\n",
    "elif index_name in patriline_df.columns:\n",
    "    patriline_df = patriline_df.set_index(index_name)\n",
    "patriline_df.index.name = index_name"
   ]
  },
  {
   "cell_type": "code",
   "execution_count": 4,
   "metadata": {},
   "outputs": [],
   "source": [
    "\n",
    "index_name = 'turning_name'\n",
    "turnings_df = dataframes_dict['turnings_df']\n",
    "if 'Unnamed: 0' in turnings_df.columns:\n",
    "    turnings_df = turnings_df.set_index('Unnamed: 0')\n",
    "elif index_name in turnings_df.columns:\n",
    "    turnings_df = turnings_df.set_index(index_name)\n",
    "turnings_df.index.name = index_name"
   ]
  },
  {
   "cell_type": "code",
   "execution_count": 5,
   "metadata": {},
   "outputs": [],
   "source": [
    "\n",
    "def polar_to_cartesian(r, theta):\n",
    "    radians = theta*(pi/180)\n",
    "    \n",
    "    return int(r*cos(radians)), int(r*sin(radians))"
   ]
  },
  {
   "cell_type": "code",
   "execution_count": 6,
   "metadata": {},
   "outputs": [],
   "source": [
    "\n",
    "def get_one_stopped_arc(history_year_dict, start_year, stop_year, stopped_year, i=0):\n",
    "    xy_list = []\n",
    "    i = i % 4\n",
    "    if stop_year > stopped_year:\n",
    "        stop_year = stopped_year\n",
    "    start_radius = history_year_dict[start_year][0]\n",
    "    start_radius += 25*i\n",
    "    stop_radius = history_year_dict[stop_year][0]\n",
    "    stop_radius += 25*i\n",
    "    increment_count = int(2*pi*start_radius)\n",
    "    radius_array = np.linspace(start=start_radius, stop=stop_radius,\n",
    "                               num=increment_count)\n",
    "    start_theta = history_year_dict[start_year][1]\n",
    "    stop_theta = history_year_dict[stop_year][1]\n",
    "    theta_array = np.linspace(start=start_theta, stop=stop_theta,\n",
    "                              num=increment_count)\n",
    "    for radius, theta in zip(radius_array, theta_array):\n",
    "        cartesian_tuple = polar_to_cartesian(radius, theta)\n",
    "        if len(xy_list):\n",
    "            if (cartesian_tuple != xy_list[-1]):\n",
    "                xy_list.append(cartesian_tuple)\n",
    "        else:\n",
    "            xy_list.append(cartesian_tuple)\n",
    "    \n",
    "    return xy_list"
   ]
  },
  {
   "cell_type": "code",
   "execution_count": 7,
   "metadata": {},
   "outputs": [],
   "source": [
    "\n",
    "py_file_header_str = '''\n",
    "import bpy\n",
    "\n",
    "# Get spiral data\n",
    "patriarch_coords_dict = {}\n",
    "'''"
   ]
  },
  {
   "cell_type": "code",
   "execution_count": 8,
   "metadata": {},
   "outputs": [],
   "source": [
    "\n",
    "py_file_footer_str = \"\"\"\n",
    "\n",
    "for patriarch_name, coords in patriarch_coords_dict.items():\n",
    "    \n",
    "    # create the Curve Datablock\n",
    "    curveData = bpy.data.curves.new(patriarch_name, type='CURVE')\n",
    "    curveData.dimensions = '3D'\n",
    "    curveData.resolution_u = 2\n",
    "    \n",
    "    # map coords to spline\n",
    "    polyline = curveData.splines.new('NURBS')\n",
    "    polyline.points.add(len(coords))\n",
    "    for i, coord in enumerate(coords):\n",
    "        x,y,z = coord\n",
    "        polyline.points[i].co = (x, y, z, 1)\n",
    "\n",
    "    # create Object\n",
    "    curveOB = bpy.data.objects.new(patriarch_name, curveData)\n",
    "\n",
    "    # attach to scene and validate context\n",
    "    scn = bpy.context.scene\n",
    "    scn.objects.link(curveOB)\n",
    "    scn.objects.active = curveOB\n",
    "    curveOB.select = True\"\"\""
   ]
  },
  {
   "cell_type": "code",
   "execution_count": 18,
   "metadata": {},
   "outputs": [],
   "source": [
    "\n",
    "py_bezier_file_footer_str = \"\"\"\n",
    "\n",
    "for patriarch_name, coords in patriarch_coords_dict.items():\n",
    "    \n",
    "    # create the Curve Datablock\n",
    "    curveData = bpy.data.curves.new(patriarch_name, type='CURVE')\n",
    "    curveData.dimensions = '3D'\n",
    "    curveData.resolution_u = 2\n",
    "    \n",
    "    # map coords to spline\n",
    "    polyline = curveData.splines.new('BEZIER')\n",
    "    coords_count = len(coords)\n",
    "    polyline.bezier_points.add(coords_count-1)\n",
    "    for i, coord in enumerate(coords):\n",
    "        x, y, z = coord\n",
    "        polyline.bezier_points[i].co = (x, y, z)\n",
    "    for i in range(coords_count):\n",
    "        if (i == 0) or (i == coords_count-1):\n",
    "            polyline.bezier_points[i].handle_left = polyline.bezier_points[i].handle_right = polyline.bezier_points[i].co\n",
    "        else:\n",
    "            x, y, z = coords[i-1]\n",
    "            polyline.bezier_points[i].handle_left = (x, y, z)\n",
    "            x, y, z = coords[i+1]\n",
    "            polyline.bezier_points[i].handle_right = (x, y, z)\n",
    "\n",
    "    # create Object\n",
    "    curveOB = bpy.data.objects.new(patriarch_name, curveData)\n",
    "\n",
    "    # attach to scene and validate context\n",
    "    scn = bpy.context.scene\n",
    "    scn.objects.link(curveOB)\n",
    "    scn.objects.active = curveOB\n",
    "    curveOB.select = True\"\"\""
   ]
  },
  {
   "cell_type": "code",
   "execution_count": 14,
   "metadata": {},
   "outputs": [],
   "source": [
    "\n",
    "def save_stopped_babbitt_plot(history_year_dict, stopped_year, out_file_path, footer_str):\n",
    "    mask_series = (patriline_df['Year of Birth'] <= stopped_year)\n",
    "    i = patriline_df[mask_series].shape[0]-1\n",
    "    with open(out_file_path, 'w') as output:\n",
    "        size = output.write(py_file_header_str)\n",
    "        for patriarch_name, row_series in patriline_df[mask_series].iterrows():\n",
    "            start_year = int(row_series['Year of Birth'])\n",
    "            stop_year = row_series['Year of Death']\n",
    "            try:\n",
    "                stop_year = int(stop_year)\n",
    "            except:\n",
    "                stop_year = start_year + 80\n",
    "                if stop_year > max(history_year_dict.keys()):\n",
    "                    stop_year = max(history_year_dict.keys())\n",
    "            xy_list = get_one_stopped_arc(history_year_dict, start_year, stop_year, stopped_year, i)\n",
    "            size = output.write(\"patriarch_coords_dict['{}'] = {}\\n\".format(patriarch_name,\n",
    "                                                                            str([(x,y,1) for (x, y) in xy_list])))\n",
    "            i -= 1\n",
    "        size = output.write(footer_str)"
   ]
  },
  {
   "cell_type": "code",
   "execution_count": 19,
   "metadata": {},
   "outputs": [],
   "source": [
    "\n",
    "stopped_year = 2030\n",
    "out_file_path = os.path.join(py_dir, 'output_{}.py'.format(stopped_year))\n",
    "save_stopped_babbitt_plot(cw_history_year_dict, stopped_year, out_file_path, py_bezier_file_footer_str)"
   ]
  },
  {
   "cell_type": "code",
   "execution_count": 13,
   "metadata": {},
   "outputs": [],
   "source": [
    "\n",
    "py_dir = os.path.join('..', 'py')\n",
    "os.makedirs(name=py_dir, exist_ok=True)\n",
    "min_year = patriline_df['Year of Birth'].min()\n",
    "for stopped_year in range(min_year, 2031):\n",
    "    out_file_path = os.path.join(py_dir, 'output_{}.py'.format(stopped_year))\n",
    "    save_stopped_babbitt_plot(cw_history_year_dict, stopped_year, out_file_path, py_file_footer_str)"
   ]
  },
  {
   "cell_type": "code",
   "execution_count": null,
   "metadata": {},
   "outputs": [],
   "source": [
    "%%javascript\n",
    "var kernel = IPython.notebook.kernel;\n",
    "var body = document.body;\n",
    "var attribs = body.attributes;\n",
    "var command = \"notebook_path = \" + \"'\"+attribs['data-notebook-path'].value+\"'\";\n",
    "kernel.execute(command);"
   ]
  },
  {
   "cell_type": "code",
   "execution_count": null,
   "metadata": {},
   "outputs": [],
   "source": [
    "# %load ../../load_magic/nbviewer.py\n",
    "\n",
    "from IPython.display import HTML\n",
    "\n",
    "notebook_viewer_url = 'https://nbviewer.jupyter.org/github/dbabbitt/notebooks/blob/master/'\n",
    "notebook_viewer_url += '/'.join(notebook_path.split('/')[1:])\n",
    "html_str = 'Click <a href=\"{}\" target=\"_blank\">here</a> to view notebook in nbviewer.'\n",
    "HTML(html_str.format(notebook_viewer_url))"
   ]
  },
  {
   "cell_type": "code",
   "execution_count": null,
   "metadata": {},
   "outputs": [],
   "source": []
  }
 ],
 "metadata": {
  "kernelspec": {
   "display_name": "Python 3",
   "language": "python",
   "name": "python3"
  },
  "language_info": {
   "codemirror_mode": {
    "name": "ipython",
    "version": 3
   },
   "file_extension": ".py",
   "mimetype": "text/x-python",
   "name": "python",
   "nbconvert_exporter": "python",
   "pygments_lexer": "ipython3",
   "version": "3.6.8"
  }
 },
 "nbformat": 4,
 "nbformat_minor": 2
}
