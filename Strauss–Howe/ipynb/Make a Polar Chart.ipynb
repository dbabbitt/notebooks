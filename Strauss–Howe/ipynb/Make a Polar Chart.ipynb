{
 "cells": [
  {
   "cell_type": "code",
   "execution_count": 1,
   "metadata": {},
   "outputs": [
    {
     "name": "stdout",
     "output_type": "stream",
     "text": [
      "DATA_FOLDER: ../data/\n",
      "SAVES_FOLDER: ../saves/\n",
      "Pretty printing has been turned OFF\n",
      "DATA_CSV_FOLDER\t DATA_FOLDER\t ENCODING_TYPE\t SAVES_CSV_FOLDER\t SAVES_FOLDER\t SAVES_PICKLE_FOLDER\t attempt_to_pickle\t example_iterrows\t get_column_descriptions\t \n",
      "load_csv\t load_dataframes\t load_object\t math\t os\t pd\t pickle\t re\t save_dataframes\t \n",
      "store_objects\t sys\t \n"
     ]
    }
   ],
   "source": [
    "\n",
    "%run ../../load_magic/storage.py\n",
    "%run ../../load_magic/dataframes.py\n",
    "%pprint\n",
    "import re\n",
    "%who"
   ]
  },
  {
   "cell_type": "code",
   "execution_count": 2,
   "metadata": {},
   "outputs": [
    {
     "name": "stdout",
     "output_type": "stream",
     "text": [
      "Attempting to load C:\\Users\\dev\\Documents\\repositories\\notebooks\\Miscellaneous\\saves\\pickle\\strauss_howe_df.pickle.\n",
      "No pickle exists - attempting to load C:\\Users\\dev\\Documents\\repositories\\notebooks\\Miscellaneous\\saves\\csv\\strauss_howe_df.csv.\n",
      "Attempting to load C:\\Users\\dev\\Documents\\repositories\\notebooks\\Miscellaneous\\saves\\pickle\\patriline_df.pickle.\n",
      "No pickle exists - attempting to load C:\\Users\\dev\\Documents\\repositories\\notebooks\\Miscellaneous\\saves\\csv\\patriline_df.csv.\n"
     ]
    }
   ],
   "source": [
    "\n",
    "dataframes_dict = load_dataframes(strauss_howe_df='strauss_howe_df', patriline_df='patriline_df')"
   ]
  },
  {
   "cell_type": "code",
   "execution_count": 3,
   "metadata": {},
   "outputs": [],
   "source": [
    "\n",
    "index_name = 'generation_name'\n",
    "strauss_howe_df = dataframes_dict['strauss_howe_df']\n",
    "if 'Unnamed: 0' in strauss_howe_df.columns:\n",
    "    strauss_howe_df = strauss_howe_df.set_index('Unnamed: 0')\n",
    "elif index_name in strauss_howe_df.columns:\n",
    "    strauss_howe_df = strauss_howe_df.set_index(index_name)\n",
    "strauss_howe_df.index.name = index_name"
   ]
  },
  {
   "cell_type": "code",
   "execution_count": 4,
   "metadata": {},
   "outputs": [
    {
     "data": {
      "text/html": [
       "<div>\n",
       "<style scoped>\n",
       "    .dataframe tbody tr th:only-of-type {\n",
       "        vertical-align: middle;\n",
       "    }\n",
       "\n",
       "    .dataframe tbody tr th {\n",
       "        vertical-align: top;\n",
       "    }\n",
       "\n",
       "    .dataframe thead th {\n",
       "        text-align: right;\n",
       "    }\n",
       "</style>\n",
       "<table border=\"1\" class=\"dataframe\">\n",
       "  <thead>\n",
       "    <tr style=\"text-align: right;\">\n",
       "      <th>generation_name</th>\n",
       "      <th>Baby Boom</th>\n",
       "      <th>Reformation</th>\n",
       "      <th>Silent</th>\n",
       "      <th>Glorious</th>\n",
       "      <th>Cavalier</th>\n",
       "    </tr>\n",
       "  </thead>\n",
       "  <tbody>\n",
       "    <tr>\n",
       "      <th>childhood_turning_entered</th>\n",
       "      <td>1</td>\n",
       "      <td>1</td>\n",
       "      <td>4</td>\n",
       "      <td>3</td>\n",
       "      <td>2</td>\n",
       "    </tr>\n",
       "    <tr>\n",
       "      <th>saeculum_name</th>\n",
       "      <td>Millennial</td>\n",
       "      <td>Reformation</td>\n",
       "      <td>Great Power</td>\n",
       "      <td>New World</td>\n",
       "      <td>New World</td>\n",
       "    </tr>\n",
       "    <tr>\n",
       "      <th>turnings_archetype</th>\n",
       "      <td>Prophet</td>\n",
       "      <td>Prophet</td>\n",
       "      <td>Artist</td>\n",
       "      <td>Hero</td>\n",
       "      <td>Nomad</td>\n",
       "    </tr>\n",
       "    <tr>\n",
       "      <th>generations_archetype</th>\n",
       "      <td>Idealist</td>\n",
       "      <td>Idealist</td>\n",
       "      <td>Adaptive</td>\n",
       "      <td>Civic</td>\n",
       "      <td>Reactive</td>\n",
       "    </tr>\n",
       "    <tr>\n",
       "      <th>birth_year_begin</th>\n",
       "      <td>1943</td>\n",
       "      <td>1483</td>\n",
       "      <td>1925</td>\n",
       "      <td>1648</td>\n",
       "      <td>1618</td>\n",
       "    </tr>\n",
       "    <tr>\n",
       "      <th>birth_year_end</th>\n",
       "      <td>1960</td>\n",
       "      <td>1511</td>\n",
       "      <td>1942</td>\n",
       "      <td>1673</td>\n",
       "      <td>1647</td>\n",
       "    </tr>\n",
       "    <tr>\n",
       "      <th>childhood_turning_description</th>\n",
       "      <td>Superpower America, Golden Age of Capitalism</td>\n",
       "      <td>Tudor Renaissance</td>\n",
       "      <td>Great Depression, World War II, Dust Bowl</td>\n",
       "      <td>English Civil War, Republic, Restoration</td>\n",
       "      <td>Puritan Awakening,Antinomian Controversy</td>\n",
       "    </tr>\n",
       "    <tr>\n",
       "      <th>turning_year_begin</th>\n",
       "      <td>1946</td>\n",
       "      <td>1497</td>\n",
       "      <td>1929</td>\n",
       "      <td>1649</td>\n",
       "      <td>1621</td>\n",
       "    </tr>\n",
       "    <tr>\n",
       "      <th>turning_year_end</th>\n",
       "      <td>1963</td>\n",
       "      <td>1517</td>\n",
       "      <td>1946</td>\n",
       "      <td>1675</td>\n",
       "      <td>1649</td>\n",
       "    </tr>\n",
       "  </tbody>\n",
       "</table>\n",
       "</div>"
      ],
      "text/plain": [
       "generation_name                                                   Baby Boom  \\\n",
       "childhood_turning_entered                                                 1   \n",
       "saeculum_name                                                    Millennial   \n",
       "turnings_archetype                                                  Prophet   \n",
       "generations_archetype                                              Idealist   \n",
       "birth_year_begin                                                       1943   \n",
       "birth_year_end                                                         1960   \n",
       "childhood_turning_description  Superpower America, Golden Age of Capitalism   \n",
       "turning_year_begin                                                     1946   \n",
       "turning_year_end                                                       1963   \n",
       "\n",
       "generation_name                      Reformation  \\\n",
       "childhood_turning_entered                      1   \n",
       "saeculum_name                        Reformation   \n",
       "turnings_archetype                       Prophet   \n",
       "generations_archetype                   Idealist   \n",
       "birth_year_begin                            1483   \n",
       "birth_year_end                              1511   \n",
       "childhood_turning_description  Tudor Renaissance   \n",
       "turning_year_begin                          1497   \n",
       "turning_year_end                            1517   \n",
       "\n",
       "generation_name                                                   Silent  \\\n",
       "childhood_turning_entered                                              4   \n",
       "saeculum_name                                                Great Power   \n",
       "turnings_archetype                                                Artist   \n",
       "generations_archetype                                           Adaptive   \n",
       "birth_year_begin                                                    1925   \n",
       "birth_year_end                                                      1942   \n",
       "childhood_turning_description  Great Depression, World War II, Dust Bowl   \n",
       "turning_year_begin                                                  1929   \n",
       "turning_year_end                                                    1946   \n",
       "\n",
       "generation_name                                                Glorious  \\\n",
       "childhood_turning_entered                                             3   \n",
       "saeculum_name                                                 New World   \n",
       "turnings_archetype                                                 Hero   \n",
       "generations_archetype                                             Civic   \n",
       "birth_year_begin                                                   1648   \n",
       "birth_year_end                                                     1673   \n",
       "childhood_turning_description  English Civil War, Republic, Restoration   \n",
       "turning_year_begin                                                 1649   \n",
       "turning_year_end                                                   1675   \n",
       "\n",
       "generation_name                                                Cavalier  \n",
       "childhood_turning_entered                                             2  \n",
       "saeculum_name                                                 New World  \n",
       "turnings_archetype                                                Nomad  \n",
       "generations_archetype                                          Reactive  \n",
       "birth_year_begin                                                   1618  \n",
       "birth_year_end                                                     1647  \n",
       "childhood_turning_description  Puritan Awakening,Antinomian Controversy  \n",
       "turning_year_begin                                                 1621  \n",
       "turning_year_end                                                   1649  "
      ]
     },
     "execution_count": 4,
     "metadata": {},
     "output_type": "execute_result"
    }
   ],
   "source": [
    "\n",
    "strauss_howe_df.sample(5).T"
   ]
  },
  {
   "cell_type": "code",
   "execution_count": 5,
   "metadata": {},
   "outputs": [],
   "source": [
    "\n",
    "index_name = 'Patriarch Name'\n",
    "patriline_df = dataframes_dict['patriline_df']\n",
    "if 'Unnamed: 0' in patriline_df.columns:\n",
    "    patriline_df = patriline_df.set_index('Unnamed: 0')\n",
    "elif index_name in patriline_df.columns:\n",
    "    patriline_df = patriline_df.set_index(index_name)\n",
    "patriline_df.index.name = index_name"
   ]
  },
  {
   "cell_type": "code",
   "execution_count": 6,
   "metadata": {},
   "outputs": [
    {
     "data": {
      "text/html": [
       "<div>\n",
       "<style scoped>\n",
       "    .dataframe tbody tr th:only-of-type {\n",
       "        vertical-align: middle;\n",
       "    }\n",
       "\n",
       "    .dataframe tbody tr th {\n",
       "        vertical-align: top;\n",
       "    }\n",
       "\n",
       "    .dataframe thead th {\n",
       "        text-align: right;\n",
       "    }\n",
       "</style>\n",
       "<table border=\"1\" class=\"dataframe\">\n",
       "  <thead>\n",
       "    <tr style=\"text-align: right;\">\n",
       "      <th>Patriarch Name</th>\n",
       "      <th>Joseph Robert Babbitt, Jr.</th>\n",
       "      <th>(No Name), Sr.</th>\n",
       "      <th>David Babbitt</th>\n",
       "      <th>William David Babbitt</th>\n",
       "      <th>David William Babbitt, Sr.</th>\n",
       "    </tr>\n",
       "  </thead>\n",
       "  <tbody>\n",
       "    <tr>\n",
       "      <th>Year of Birth</th>\n",
       "      <td>1932</td>\n",
       "      <td>1518</td>\n",
       "      <td>1766</td>\n",
       "      <td>1791</td>\n",
       "      <td>1821</td>\n",
       "    </tr>\n",
       "    <tr>\n",
       "      <th>Year of Death</th>\n",
       "      <td>2002</td>\n",
       "      <td>1585</td>\n",
       "      <td>1816</td>\n",
       "      <td>1861</td>\n",
       "      <td>1868</td>\n",
       "    </tr>\n",
       "    <tr>\n",
       "      <th>Generation Name</th>\n",
       "      <td>Silent</td>\n",
       "      <td>Reprisal</td>\n",
       "      <td>Republican</td>\n",
       "      <td>Compromise</td>\n",
       "      <td>Transcendental</td>\n",
       "    </tr>\n",
       "    <tr>\n",
       "      <th>Date of Birth</th>\n",
       "      <td>6-Apr-32</td>\n",
       "      <td>estimated between 1485 and 1545</td>\n",
       "      <td>1766</td>\n",
       "      <td>October 26, 1791</td>\n",
       "      <td>May 04, 1821</td>\n",
       "    </tr>\n",
       "    <tr>\n",
       "      <th>Place of Birth</th>\n",
       "      <td>Mesa, Maricopa County, Arizona, United States</td>\n",
       "      <td>Unknown Place of Birth</td>\n",
       "      <td>Lanesborough, Berkshire, MA, United States</td>\n",
       "      <td>Berkshire, Berkshire, MA, United States</td>\n",
       "      <td>Berkshire, Berkshire, MA, United States</td>\n",
       "    </tr>\n",
       "    <tr>\n",
       "      <th>Birth Longitude</th>\n",
       "      <td>33.3956</td>\n",
       "      <td>NaN</td>\n",
       "      <td>42.537</td>\n",
       "      <td>42.3931</td>\n",
       "      <td>42.3931</td>\n",
       "    </tr>\n",
       "    <tr>\n",
       "      <th>Birth Latitude</th>\n",
       "      <td>-111.808</td>\n",
       "      <td>NaN</td>\n",
       "      <td>-73.2739</td>\n",
       "      <td>-73.5086</td>\n",
       "      <td>-73.5086</td>\n",
       "    </tr>\n",
       "    <tr>\n",
       "      <th>Date of Death</th>\n",
       "      <td>March 31, 2002 (69)</td>\n",
       "      <td>Unknown Date of Death</td>\n",
       "      <td>September 08, 1816 (50)</td>\n",
       "      <td>May 28, 1861 (69)</td>\n",
       "      <td>October 13, 1868 (47)</td>\n",
       "    </tr>\n",
       "    <tr>\n",
       "      <th>Place of Death</th>\n",
       "      <td>NM, United States (Multiple Myloma (Cancer))</td>\n",
       "      <td>Unknown Place of Death</td>\n",
       "      <td>Lanesborough, Berkshire, MA</td>\n",
       "      <td>Berkshire, Berkshire, MA, United States</td>\n",
       "      <td>Cinncinnati, Hamilton, OH, United States</td>\n",
       "    </tr>\n",
       "    <tr>\n",
       "      <th>Death Longitude</th>\n",
       "      <td>35.6826</td>\n",
       "      <td>NaN</td>\n",
       "      <td>42.537</td>\n",
       "      <td>42.3931</td>\n",
       "      <td>39.1365</td>\n",
       "    </tr>\n",
       "    <tr>\n",
       "      <th>Death Latitude</th>\n",
       "      <td>-106.053</td>\n",
       "      <td>NaN</td>\n",
       "      <td>-73.2739</td>\n",
       "      <td>-73.5086</td>\n",
       "      <td>-84.6104</td>\n",
       "    </tr>\n",
       "  </tbody>\n",
       "</table>\n",
       "</div>"
      ],
      "text/plain": [
       "Patriarch Name                      Joseph Robert Babbitt, Jr.  \\\n",
       "Year of Birth                                             1932   \n",
       "Year of Death                                             2002   \n",
       "Generation Name                                         Silent   \n",
       "Date of Birth                                         6-Apr-32   \n",
       "Place of Birth   Mesa, Maricopa County, Arizona, United States   \n",
       "Birth Longitude                                        33.3956   \n",
       "Birth Latitude                                        -111.808   \n",
       "Date of Death                              March 31, 2002 (69)   \n",
       "Place of Death    NM, United States (Multiple Myloma (Cancer))   \n",
       "Death Longitude                                        35.6826   \n",
       "Death Latitude                                        -106.053   \n",
       "\n",
       "Patriarch Name                    (No Name), Sr.  \\\n",
       "Year of Birth                               1518   \n",
       "Year of Death                               1585   \n",
       "Generation Name                         Reprisal   \n",
       "Date of Birth    estimated between 1485 and 1545   \n",
       "Place of Birth            Unknown Place of Birth   \n",
       "Birth Longitude                              NaN   \n",
       "Birth Latitude                               NaN   \n",
       "Date of Death              Unknown Date of Death   \n",
       "Place of Death            Unknown Place of Death   \n",
       "Death Longitude                              NaN   \n",
       "Death Latitude                               NaN   \n",
       "\n",
       "Patriarch Name                                David Babbitt  \\\n",
       "Year of Birth                                          1766   \n",
       "Year of Death                                          1816   \n",
       "Generation Name                                  Republican   \n",
       "Date of Birth                                          1766   \n",
       "Place of Birth   Lanesborough, Berkshire, MA, United States   \n",
       "Birth Longitude                                      42.537   \n",
       "Birth Latitude                                     -73.2739   \n",
       "Date of Death                       September 08, 1816 (50)   \n",
       "Place of Death                  Lanesborough, Berkshire, MA   \n",
       "Death Longitude                                      42.537   \n",
       "Death Latitude                                     -73.2739   \n",
       "\n",
       "Patriarch Name                     William David Babbitt  \\\n",
       "Year of Birth                                       1791   \n",
       "Year of Death                                       1861   \n",
       "Generation Name                               Compromise   \n",
       "Date of Birth                           October 26, 1791   \n",
       "Place of Birth   Berkshire, Berkshire, MA, United States   \n",
       "Birth Longitude                                  42.3931   \n",
       "Birth Latitude                                  -73.5086   \n",
       "Date of Death                          May 28, 1861 (69)   \n",
       "Place of Death   Berkshire, Berkshire, MA, United States   \n",
       "Death Longitude                                  42.3931   \n",
       "Death Latitude                                  -73.5086   \n",
       "\n",
       "Patriarch Name                 David William Babbitt, Sr.  \n",
       "Year of Birth                                        1821  \n",
       "Year of Death                                        1868  \n",
       "Generation Name                            Transcendental  \n",
       "Date of Birth                                May 04, 1821  \n",
       "Place of Birth    Berkshire, Berkshire, MA, United States  \n",
       "Birth Longitude                                   42.3931  \n",
       "Birth Latitude                                   -73.5086  \n",
       "Date of Death                       October 13, 1868 (47)  \n",
       "Place of Death   Cinncinnati, Hamilton, OH, United States  \n",
       "Death Longitude                                   39.1365  \n",
       "Death Latitude                                   -84.6104  "
      ]
     },
     "execution_count": 6,
     "metadata": {},
     "output_type": "execute_result"
    }
   ],
   "source": [
    "\n",
    "patriline_df.sample(5).T"
   ]
  },
  {
   "cell_type": "code",
   "execution_count": 24,
   "metadata": {},
   "outputs": [
    {
     "data": {
      "text/plain": [
       "['Column', 'ColumnDataSource', 'DEFAULT_TOOLS', 'Document', 'Figure', 'GMap', 'GridSpec', 'Row', '__all__', '__builtins__', '__cached__', '__doc__', '__file__', '__loader__', '__name__', '__package__', '__path__', '__spec__', '_figure', 'absolute_import', 'curdoc', 'division', 'figure', 'gmap', 'gridplot', 'helpers', 'log', 'logging', 'markers', 'output_file', 'output_notebook', 'print_function', 'reset_output', 'save', 'show']"
      ]
     },
     "execution_count": 24,
     "metadata": {},
     "output_type": "execute_result"
    }
   ],
   "source": [
    "\n",
    "import numpy as np\n",
    "from bokeh import plotting"
   ]
  },
  {
   "cell_type": "code",
   "execution_count": 27,
   "metadata": {},
   "outputs": [
    {
     "data": {
      "text/plain": [
       "['__cached_all__properties__', '__class__', '__container_props__', '__delattr__', '__dict__', '__dir__', '__doc__', '__eq__', '__format__', '__ge__', '__getattribute__', '__gt__', '__hash__', '__init__', '__init_subclass__', '__le__', '__lt__', '__module__', '__ne__', '__new__', '__properties__', '__properties_with_refs__', '__reduce__', '__reduce_ex__', '__repr__', '__setattr__', '__sizeof__', '__str__', '__subclasshook__', '__view_model__', '__weakref__', '_attach_document', '_clear_extensions', '_clone', '_data_from_df', '_data_from_groupby', '_detach_document', '_df_index_name', '_overridden_defaults', '_repr_html_', '_stream', '_to_json_like', '_trigger_event', '_update_event_callbacks', 'add', 'apply_theme', 'callback', 'column_names', 'data', 'dataspecs', 'dataspecs_with_props', 'document', 'equals', 'from_df', 'from_groupby', 'id', 'js_event_callbacks', 'js_link', 'js_on_change', 'js_on_event', 'js_property_callbacks', 'layout', 'lookup', 'name', 'on_change', 'on_event', 'patch', 'properties', 'properties_containers', 'properties_with_refs', 'properties_with_values', 'query_properties_with_values', 'ref', 'references', 'remove', 'remove_on_change', 'select', 'select_one', 'selected', 'selection_policy', 'set_from_json', 'set_select', 'stream', 'subscribed_events', 'tags', 'themed_values', 'to_df', 'to_json', 'to_json_string', 'trigger', 'unapply_theme', 'update', 'update_from_json']"
      ]
     },
     "execution_count": 27,
     "metadata": {},
     "output_type": "execute_result"
    }
   ],
   "source": [
    "\n",
    "dir(bokeh.models.ColumnDataSource)"
   ]
  },
  {
   "cell_type": "code",
   "execution_count": 8,
   "metadata": {},
   "outputs": [],
   "source": [
    "\n",
    "# Data in polar coordinates\n",
    "azimuths = np.linspace(0, 2 * np.pi, 20)\n",
    "ranges = np.array([2, 4, 6, 8])"
   ]
  },
  {
   "cell_type": "code",
   "execution_count": 9,
   "metadata": {},
   "outputs": [],
   "source": [
    "\n",
    "# Convert to x and y meshes\n",
    "azimuths_m, ranges_m = np.meshgrid(azimuths, ranges)\n",
    "xx = ranges_m * np.cos(azimuths_m)\n",
    "yy = ranges_m * np.sin(azimuths_m)"
   ]
  },
  {
   "cell_type": "code",
   "execution_count": 18,
   "metadata": {},
   "outputs": [],
   "source": [
    "\n",
    "from bokeh.palettes import brewer\n",
    "\n",
    "# Array of color values\n",
    "C = np.random.randint(0, 10, xx.shape)\n",
    "colors = brewer['Spectral'][10]"
   ]
  },
  {
   "cell_type": "code",
   "execution_count": 32,
   "metadata": {},
   "outputs": [],
   "source": [
    "\n",
    "import bokeh\n",
    "from bokeh import models\n",
    "from bokeh.models import ColumnDataSource\n",
    "\n",
    "def pcolor(C, xx, yy):\n",
    "    '''Create a pseudocolor like-plot. Note the last points in C ignored.'''\n",
    "    xx_count, yy_count = xx.shape\n",
    "\n",
    "    for j in range(yy_count-1):\n",
    "        for i in range(xx_count-1):\n",
    "\n",
    "            ys = (yy[i, j], yy[i, j+1], yy[i+1, j+1], yy[i+1, j])\n",
    "            xs = (xx[i, j], xx[i, j+1], xx[i+1, j+1], xx[i+1, j])\n",
    "            fill_color = colors[C[i, j]]\n",
    "            ColumnDataSource.patch(ys, xs, fill_color=fill_color)"
   ]
  },
  {
   "cell_type": "code",
   "execution_count": 33,
   "metadata": {},
   "outputs": [
    {
     "ename": "TypeError",
     "evalue": "patch() got an unexpected keyword argument 'fill_color'",
     "output_type": "error",
     "traceback": [
      "\u001b[1;31m---------------------------------------------------------------------------\u001b[0m",
      "\u001b[1;31mTypeError\u001b[0m                                 Traceback (most recent call last)",
      "\u001b[1;32m<ipython-input-33-9582f0b0e5a4>\u001b[0m in \u001b[0;36m<module>\u001b[1;34m\u001b[0m\n\u001b[0;32m      7\u001b[0m \u001b[0mfile_path\u001b[0m \u001b[1;33m=\u001b[0m \u001b[0mos\u001b[0m\u001b[1;33m.\u001b[0m\u001b[0mpath\u001b[0m\u001b[1;33m.\u001b[0m\u001b[0mjoin\u001b[0m\u001b[1;33m(\u001b[0m\u001b[0mhtml_folder\u001b[0m\u001b[1;33m,\u001b[0m \u001b[1;34m'sample.html'\u001b[0m\u001b[1;33m)\u001b[0m\u001b[1;33m\u001b[0m\u001b[1;33m\u001b[0m\u001b[0m\n\u001b[0;32m      8\u001b[0m \u001b[0moutput_file\u001b[0m\u001b[1;33m(\u001b[0m\u001b[0mfile_path\u001b[0m\u001b[1;33m,\u001b[0m \u001b[0mtitle\u001b[0m\u001b[1;33m=\u001b[0m\u001b[1;34m'Sample example'\u001b[0m\u001b[1;33m)\u001b[0m\u001b[1;33m\u001b[0m\u001b[1;33m\u001b[0m\u001b[0m\n\u001b[1;32m----> 9\u001b[1;33m \u001b[0mpcolor\u001b[0m\u001b[1;33m(\u001b[0m\u001b[0mC\u001b[0m\u001b[1;33m,\u001b[0m \u001b[0mxx\u001b[0m\u001b[1;33m,\u001b[0m \u001b[0myy\u001b[0m\u001b[1;33m)\u001b[0m\u001b[1;33m\u001b[0m\u001b[1;33m\u001b[0m\u001b[0m\n\u001b[0m\u001b[0;32m     10\u001b[0m \u001b[0mshow\u001b[0m\u001b[1;33m(\u001b[0m\u001b[1;33m)\u001b[0m\u001b[1;33m\u001b[0m\u001b[1;33m\u001b[0m\u001b[0m\n",
      "\u001b[1;32m<ipython-input-32-200c0b60aaa6>\u001b[0m in \u001b[0;36mpcolor\u001b[1;34m(C, xx, yy)\u001b[0m\n\u001b[0;32m     14\u001b[0m             \u001b[0mxs\u001b[0m \u001b[1;33m=\u001b[0m \u001b[1;33m(\u001b[0m\u001b[0mxx\u001b[0m\u001b[1;33m[\u001b[0m\u001b[0mi\u001b[0m\u001b[1;33m,\u001b[0m \u001b[0mj\u001b[0m\u001b[1;33m]\u001b[0m\u001b[1;33m,\u001b[0m \u001b[0mxx\u001b[0m\u001b[1;33m[\u001b[0m\u001b[0mi\u001b[0m\u001b[1;33m,\u001b[0m \u001b[0mj\u001b[0m\u001b[1;33m+\u001b[0m\u001b[1;36m1\u001b[0m\u001b[1;33m]\u001b[0m\u001b[1;33m,\u001b[0m \u001b[0mxx\u001b[0m\u001b[1;33m[\u001b[0m\u001b[0mi\u001b[0m\u001b[1;33m+\u001b[0m\u001b[1;36m1\u001b[0m\u001b[1;33m,\u001b[0m \u001b[0mj\u001b[0m\u001b[1;33m+\u001b[0m\u001b[1;36m1\u001b[0m\u001b[1;33m]\u001b[0m\u001b[1;33m,\u001b[0m \u001b[0mxx\u001b[0m\u001b[1;33m[\u001b[0m\u001b[0mi\u001b[0m\u001b[1;33m+\u001b[0m\u001b[1;36m1\u001b[0m\u001b[1;33m,\u001b[0m \u001b[0mj\u001b[0m\u001b[1;33m]\u001b[0m\u001b[1;33m)\u001b[0m\u001b[1;33m\u001b[0m\u001b[1;33m\u001b[0m\u001b[0m\n\u001b[0;32m     15\u001b[0m             \u001b[0mfill_color\u001b[0m \u001b[1;33m=\u001b[0m \u001b[0mcolors\u001b[0m\u001b[1;33m[\u001b[0m\u001b[0mC\u001b[0m\u001b[1;33m[\u001b[0m\u001b[0mi\u001b[0m\u001b[1;33m,\u001b[0m \u001b[0mj\u001b[0m\u001b[1;33m]\u001b[0m\u001b[1;33m]\u001b[0m\u001b[1;33m\u001b[0m\u001b[1;33m\u001b[0m\u001b[0m\n\u001b[1;32m---> 16\u001b[1;33m             \u001b[0mColumnDataSource\u001b[0m\u001b[1;33m.\u001b[0m\u001b[0mpatch\u001b[0m\u001b[1;33m(\u001b[0m\u001b[0mys\u001b[0m\u001b[1;33m,\u001b[0m \u001b[0mxs\u001b[0m\u001b[1;33m,\u001b[0m \u001b[0mfill_color\u001b[0m\u001b[1;33m=\u001b[0m\u001b[0mfill_color\u001b[0m\u001b[1;33m)\u001b[0m\u001b[1;33m\u001b[0m\u001b[1;33m\u001b[0m\u001b[0m\n\u001b[0m",
      "\u001b[1;31mTypeError\u001b[0m: patch() got an unexpected keyword argument 'fill_color'"
     ]
    }
   ],
   "source": [
    "\n",
    "from bokeh.plotting import output_file\n",
    "\n",
    "# Create plot\n",
    "html_folder = os.path.join(SAVES_FOLDER, 'html')\n",
    "os.makedirs(name=html_folder, exist_ok=True)\n",
    "file_path = os.path.join(html_folder, 'sample.html')\n",
    "output_file(file_path, title='Sample example')\n",
    "pcolor(C, xx, yy)\n",
    "show()"
   ]
  },
  {
   "cell_type": "code",
   "execution_count": 52,
   "metadata": {},
   "outputs": [
    {
     "data": {
      "application/javascript": [
       "var kernel = IPython.notebook.kernel;\n",
       "var body = document.body,  \n",
       "    attribs = body.attributes;\n",
       "var command = \"notebook_path = \" + \"'\"+attribs['data-notebook-path'].value+\"'\";\n",
       "kernel.execute(command);\n"
      ],
      "text/plain": [
       "<IPython.core.display.Javascript object>"
      ]
     },
     "metadata": {},
     "output_type": "display_data"
    }
   ],
   "source": [
    "%%javascript\n",
    "var kernel = IPython.notebook.kernel;\n",
    "var body = document.body,  \n",
    "    attribs = body.attributes;\n",
    "var command = \"notebook_path = \" + \"'\"+attribs['data-notebook-path'].value+\"'\";\n",
    "kernel.execute(command);"
   ]
  },
  {
   "cell_type": "code",
   "execution_count": 53,
   "metadata": {},
   "outputs": [
    {
     "data": {
      "text/html": [
       "Click <a href=\"https://nbviewer.jupyter.org/github/dbabbitt/notebooks/blob/master/Miscellaneous/ipynb/Make%20a%20Generational%20Map.ipynb\" target=\"_blank\">here</a> to view notebook in nbviewer."
      ],
      "text/plain": [
       "<IPython.core.display.HTML object>"
      ]
     },
     "execution_count": 53,
     "metadata": {},
     "output_type": "execute_result"
    }
   ],
   "source": [
    "# %load ../../load_magic/nbviewer.py\n",
    "\n",
    "from IPython.display import HTML\n",
    "\n",
    "notebook_viewer_url = 'https://nbviewer.jupyter.org/github/dbabbitt/notebooks/blob/master/'\n",
    "notebook_viewer_url += '/'.join(notebook_path.split('/')[1:])\n",
    "html_str = 'Click <a href=\"{}\" target=\"_blank\">here</a> to view notebook in nbviewer.'\n",
    "HTML(html_str.format(notebook_viewer_url))"
   ]
  },
  {
   "cell_type": "code",
   "execution_count": null,
   "metadata": {},
   "outputs": [],
   "source": []
  }
 ],
 "metadata": {
  "kernelspec": {
   "display_name": "Python 3",
   "language": "python",
   "name": "python3"
  },
  "language_info": {
   "codemirror_mode": {
    "name": "ipython",
    "version": 3
   },
   "file_extension": ".py",
   "mimetype": "text/x-python",
   "name": "python",
   "nbconvert_exporter": "python",
   "pygments_lexer": "ipython3",
   "version": "3.6.8"
  }
 },
 "nbformat": 4,
 "nbformat_minor": 2
}
