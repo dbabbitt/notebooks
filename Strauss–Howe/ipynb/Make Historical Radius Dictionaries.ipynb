{
 "cells": [
  {
   "cell_type": "code",
   "execution_count": 1,
   "metadata": {},
   "outputs": [
    {
     "name": "stdout",
     "output_type": "stream",
     "text": [
      "DATA_FOLDER: ../data/\n",
      "SAVES_FOLDER: ../saves/\n",
      "Pretty printing has been turned OFF\n",
      "DATA_CSV_FOLDER\t DATA_FOLDER\t ENCODING_TYPE\t SAVES_CSV_FOLDER\t SAVES_FOLDER\t SAVES_PICKLE_FOLDER\t attempt_to_pickle\t cos\t example_iterrows\t \n",
      "get_column_descriptions\t load_csv\t load_dataframes\t load_object\t math\t np\t os\t pd\t pi\t \n",
      "pickle\t re\t save_dataframes\t sin\t store_objects\t sys\t \n"
     ]
    }
   ],
   "source": [
    "\n",
    "%run ../../load_magic/storage.py\n",
    "%run ../../load_magic/dataframes.py\n",
    "%pprint\n",
    "import re\n",
    "from math import cos, sin, pi\n",
    "import numpy as np\n",
    "%who"
   ]
  },
  {
   "cell_type": "code",
   "execution_count": 2,
   "metadata": {},
   "outputs": [
    {
     "name": "stdout",
     "output_type": "stream",
     "text": [
      "Attempting to load C:\\Users\\dev\\Documents\\repositories\\notebooks\\Strauss–Howe\\saves\\pickle\\generations_df.pickle.\n",
      "No pickle exists - attempting to load C:\\Users\\dev\\Documents\\repositories\\notebooks\\Strauss–Howe\\saves\\csv\\generations_df.csv.\n",
      "Attempting to load C:\\Users\\dev\\Documents\\repositories\\notebooks\\Strauss–Howe\\saves\\pickle\\patriline_df.pickle.\n",
      "No pickle exists - attempting to load C:\\Users\\dev\\Documents\\repositories\\notebooks\\Strauss–Howe\\saves\\csv\\patriline_df.csv.\n",
      "Attempting to load C:\\Users\\dev\\Documents\\repositories\\notebooks\\Strauss–Howe\\saves\\pickle\\turnings_df.pickle.\n",
      "No pickle exists - attempting to load C:\\Users\\dev\\Documents\\repositories\\notebooks\\Strauss–Howe\\saves\\csv\\turnings_df.csv.\n"
     ]
    }
   ],
   "source": [
    "\n",
    "dataframes_dict = load_dataframes(generations_df='generations_df', patriline_df='patriline_df',\n",
    "                                  turnings_df='turnings_df')"
   ]
  },
  {
   "cell_type": "code",
   "execution_count": 3,
   "metadata": {},
   "outputs": [],
   "source": [
    "\n",
    "index_name = 'Patriarch Name'\n",
    "patriline_df = dataframes_dict['patriline_df']\n",
    "if 'Unnamed: 0' in patriline_df.columns:\n",
    "    patriline_df = patriline_df.set_index('Unnamed: 0')\n",
    "elif index_name in patriline_df.columns:\n",
    "    patriline_df = patriline_df.set_index(index_name)\n",
    "patriline_df.index.name = index_name"
   ]
  },
  {
   "cell_type": "code",
   "execution_count": 4,
   "metadata": {},
   "outputs": [],
   "source": [
    "\n",
    "index_name = 'generation_name'\n",
    "generations_df = dataframes_dict['generations_df']\n",
    "if 'Unnamed: 0' in generations_df.columns:\n",
    "    generations_df = generations_df.set_index('Unnamed: 0')\n",
    "elif index_name in generations_df.columns:\n",
    "    generations_df = generations_df.set_index(index_name)\n",
    "generations_df.index.name = index_name"
   ]
  },
  {
   "cell_type": "code",
   "execution_count": 5,
   "metadata": {},
   "outputs": [],
   "source": [
    "\n",
    "index_name = 'turning_name'\n",
    "turnings_df = dataframes_dict['turnings_df']\n",
    "if 'Unnamed: 0' in turnings_df.columns:\n",
    "    turnings_df = turnings_df.set_index('Unnamed: 0')\n",
    "elif index_name in turnings_df.columns:\n",
    "    turnings_df = turnings_df.set_index(index_name)\n",
    "turnings_df.index.name = index_name"
   ]
  },
  {
   "cell_type": "code",
   "execution_count": 6,
   "metadata": {},
   "outputs": [],
   "source": [
    "\n",
    "# Remove Late Medeival Saeculum\n",
    "mask_series = (turnings_df['saeculum_name'] == 'Late Medeival')\n",
    "turnings_df = turnings_df[~mask_series]"
   ]
  },
  {
   "cell_type": "code",
   "execution_count": 7,
   "metadata": {},
   "outputs": [
    {
     "data": {
      "text/plain": [
       "[{'Tudor': [1487, 1517, 1542, 1569]}, {'New World': [1594, 1621, 1649, 1675]}, {'Revolutionary': [1704, 1727, 1746, 1773]}, {'Civil War': [1794, 1822, 1844, 1860]}, {'Great Power': [1865, 1886, 1908, 1929]}, {'Millennial': [1946, 1964, 1984, 2008]}]"
      ]
     },
     "execution_count": 7,
     "metadata": {},
     "output_type": "execute_result"
    }
   ],
   "source": [
    "\n",
    "# Make balanced saeculum list\n",
    "turnings_group = turnings_df.groupby(by='saeculum_name', axis='index')\n",
    "saeculum_list = []\n",
    "for key_str, group_df in turnings_group:\n",
    "    saeculum_list.append({key_str: group_df['turning_begin_year'].tolist()})\n",
    "saeculum_list.sort(key=lambda x: list(x.values())[0][0], reverse=False)\n",
    "saeculum_list"
   ]
  },
  {
   "cell_type": "code",
   "execution_count": 8,
   "metadata": {},
   "outputs": [
    {
     "name": "stdout",
     "output_type": "stream",
     "text": [
      "25 [100.0, 125.0, 150.0, 175.0, 200.0, 225.0, 250.0, 275.0, 300.0, 325.0, 350.0, 375.0, 400.0, 425.0, 450.0, 475.0, 500.0, 525.0, 550.0, 575.0, 600.0, 625.0, 650.0, 675.0, 700.0]\n"
     ]
    }
   ],
   "source": [
    "\n",
    "# Interpolate missing radii\n",
    "interpolated_radius_list = []\n",
    "saeculum_radius = 0\n",
    "for saeculum_dict in saeculum_list:\n",
    "    saeculum_radius += 100\n",
    "    interpolated_radius_list.append(saeculum_radius)\n",
    "    for saeculum_name, year_list in saeculum_dict.items():\n",
    "        for i, year in enumerate(year_list):\n",
    "            if i > 0:\n",
    "                interpolated_radius_list.append(pd.np.nan)\n",
    "interpolated_radius_list = interpolated_radius_list + [len(saeculum_list)*100+100]\n",
    "interpolated_radius_list = pd.Series(interpolated_radius_list).interpolate().tolist()\n",
    "print(len(interpolated_radius_list), interpolated_radius_list)"
   ]
  },
  {
   "cell_type": "code",
   "execution_count": 9,
   "metadata": {},
   "outputs": [
    {
     "name": "stdout",
     "output_type": "stream",
     "text": [
      "25 [1487, 1517, 1542, 1569, 1594, 1621, 1649, 1675, 1704, 1727, 1746, 1773, 1794, 1822, 1844, 1860, 1865, 1886, 1908, 1929, 1946, 1964, 1984, 2008, 2030]\n"
     ]
    }
   ],
   "source": [
    "\n",
    "begin_year_list = sorted(turnings_df['turning_begin_year'])\n",
    "begin_year_list += [turnings_df['turning_end_year'].max()+1]\n",
    "print(len(begin_year_list), begin_year_list)"
   ]
  },
  {
   "cell_type": "code",
   "execution_count": 10,
   "metadata": {},
   "outputs": [
    {
     "name": "stdout",
     "output_type": "stream",
     "text": [
      "25 [270, 180, 90, 0, -90, -180, -270, -360, -450, -540, -630, -720, -810, -900, -990, -1080, -1170, -1260, -1350, -1440, -1530, -1620, -1710, -1800, -1890]\n"
     ]
    }
   ],
   "source": [
    "\n",
    "ccw_theta_list = [270 - i*90 for i in range(len(begin_year_list))]\n",
    "print(len(ccw_theta_list), ccw_theta_list)"
   ]
  },
  {
   "cell_type": "code",
   "execution_count": 11,
   "metadata": {},
   "outputs": [
    {
     "name": "stdout",
     "output_type": "stream",
     "text": [
      "25 [270, 360, 450, 540, 630, 720, 810, 900, 990, 1080, 1170, 1260, 1350, 1440, 1530, 1620, 1710, 1800, 1890, 1980, 2070, 2160, 2250, 2340, 2430]\n"
     ]
    }
   ],
   "source": [
    "\n",
    "cw_theta_list = [270 + i*90 for i in range(len(begin_year_list))]\n",
    "print(len(cw_theta_list), cw_theta_list)"
   ]
  },
  {
   "cell_type": "code",
   "execution_count": 12,
   "metadata": {},
   "outputs": [],
   "source": [
    "\n",
    "year_tuple_list = [(y1, y2) for y1, y2 in zip(begin_year_list[:-1],\n",
    "                                              begin_year_list[1:])]\n",
    "radius_tuple_list = [(r1, r2) for r1, r2 in zip(interpolated_radius_list[:-1],\n",
    "                                                interpolated_radius_list[1:])]\n",
    "cw_theta_tuple_list = [(t1, t2) for t1, t2 in zip(cw_theta_list[:-1],\n",
    "                                                  cw_theta_list[1:])]\n",
    "ccw_theta_tuple_list = [(t1, t2) for t1, t2 in zip(ccw_theta_list[:-1],\n",
    "                                                   ccw_theta_list[1:])]"
   ]
  },
  {
   "cell_type": "code",
   "execution_count": 13,
   "metadata": {},
   "outputs": [
    {
     "name": "stdout",
     "output_type": "stream",
     "text": [
      "Pickling to C:\\Users\\dev\\Documents\\repositories\\notebooks\\Strauss–Howe\\saves\\pickle\\ccw_history_radius_dict.pickle\n",
      "Pickling to C:\\Users\\dev\\Documents\\repositories\\notebooks\\Strauss–Howe\\saves\\pickle\\ccw_history_year_dict.pickle\n",
      "Pickling to C:\\Users\\dev\\Documents\\repositories\\notebooks\\Strauss–Howe\\saves\\pickle\\ccw_history_theta_dict.pickle\n"
     ]
    }
   ],
   "source": [
    "\n",
    "# Create counter-clockwse dictionary\n",
    "ccw_history_radius_dict = {}\n",
    "ccw_history_year_dict = {}\n",
    "ccw_history_theta_dict = {}\n",
    "for year, radius, theta in zip(begin_year_list, interpolated_radius_list, ccw_theta_list):\n",
    "    ccw_history_radius_dict[int(radius)] = (year, theta)\n",
    "    ccw_history_year_dict[int(year)] = (radius, theta)\n",
    "    ccw_history_theta_dict[int(theta)] = (year, radius)\n",
    "for year_tuple, radius_tuple, theta_tuple in zip(year_tuple_list, radius_tuple_list,\n",
    "                                                 ccw_theta_tuple_list):\n",
    "    start_radius, stop_radius = radius_tuple\n",
    "    increment_count = int(2*pi*start_radius)\n",
    "    radius_array = np.linspace(start=start_radius, stop=stop_radius,\n",
    "                               num=increment_count)\n",
    "    start_year, stop_year = year_tuple\n",
    "    year_array = np.linspace(start=start_year, stop=stop_year,\n",
    "                             num=increment_count)\n",
    "    start_theta, stop_theta = theta_tuple\n",
    "    theta_array = np.linspace(start=start_theta, stop=stop_theta,\n",
    "                              num=increment_count)\n",
    "    for radius, theta, year in zip(radius_array, theta_array, year_array):\n",
    "        if int(radius) not in ccw_history_radius_dict:\n",
    "            ccw_history_radius_dict[int(radius)] = (year, theta)\n",
    "        if int(year) not in ccw_history_year_dict:\n",
    "            ccw_history_year_dict[int(year)] = (radius, theta)\n",
    "        if int(theta) not in ccw_history_theta_dict:\n",
    "            ccw_history_theta_dict[int(theta)] = (year, radius)\n",
    "store_objects(ccw_history_radius_dict=ccw_history_radius_dict,\n",
    "              ccw_history_year_dict=ccw_history_year_dict,\n",
    "              ccw_history_theta_dict=ccw_history_theta_dict)"
   ]
  },
  {
   "cell_type": "code",
   "execution_count": 14,
   "metadata": {},
   "outputs": [
    {
     "name": "stdout",
     "output_type": "stream",
     "text": [
      "Pickling to C:\\Users\\dev\\Documents\\repositories\\notebooks\\Strauss–Howe\\saves\\pickle\\cw_history_radius_dict.pickle\n",
      "Pickling to C:\\Users\\dev\\Documents\\repositories\\notebooks\\Strauss–Howe\\saves\\pickle\\cw_history_year_dict.pickle\n",
      "Pickling to C:\\Users\\dev\\Documents\\repositories\\notebooks\\Strauss–Howe\\saves\\pickle\\cw_history_theta_dict.pickle\n"
     ]
    }
   ],
   "source": [
    "\n",
    "# Create clockwse dictionary\n",
    "cw_history_radius_dict = {}\n",
    "cw_history_year_dict = {}\n",
    "cw_history_theta_dict = {}\n",
    "for year, radius, theta in zip(begin_year_list, interpolated_radius_list, cw_theta_list):\n",
    "    cw_history_radius_dict[int(radius)] = (year, theta)\n",
    "    cw_history_year_dict[int(year)] = (radius, theta)\n",
    "    cw_history_theta_dict[int(theta)] = (year, radius)\n",
    "for year_tuple, radius_tuple, theta_tuple in zip(year_tuple_list, radius_tuple_list,\n",
    "                                                 cw_theta_tuple_list):\n",
    "    start_radius, stop_radius = radius_tuple\n",
    "    increment_count = int(2*pi*start_radius)\n",
    "    radius_array = np.linspace(start=start_radius, stop=stop_radius,\n",
    "                               num=increment_count)\n",
    "    start_year, stop_year = year_tuple\n",
    "    year_array = np.linspace(start=start_year, stop=stop_year,\n",
    "                             num=increment_count)\n",
    "    start_theta, stop_theta = theta_tuple\n",
    "    theta_array = np.linspace(start=start_theta, stop=stop_theta,\n",
    "                              num=increment_count)\n",
    "    for radius, theta, year in zip(radius_array, theta_array, year_array):\n",
    "        if int(radius) not in cw_history_radius_dict:\n",
    "            cw_history_radius_dict[int(radius)] = (year, theta)\n",
    "        if int(year) not in cw_history_year_dict:\n",
    "            cw_history_year_dict[int(year)] = (radius, theta)\n",
    "        if int(theta) not in cw_history_theta_dict:\n",
    "            cw_history_theta_dict[int(theta)] = (year, radius)\n",
    "store_objects(cw_history_radius_dict=cw_history_radius_dict,\n",
    "              cw_history_year_dict=cw_history_year_dict,\n",
    "              cw_history_theta_dict=cw_history_theta_dict)"
   ]
  },
  {
   "cell_type": "code",
   "execution_count": 15,
   "metadata": {},
   "outputs": [
    {
     "data": {
      "application/javascript": [
       "var kernel = IPython.notebook.kernel;\n",
       "var body = document.body,  \n",
       "    attribs = body.attributes;\n",
       "var command = \"notebook_path = \" + \"'\"+attribs['data-notebook-path'].value+\"'\";\n",
       "kernel.execute(command);\n"
      ],
      "text/plain": [
       "<IPython.core.display.Javascript object>"
      ]
     },
     "metadata": {},
     "output_type": "display_data"
    }
   ],
   "source": [
    "%%javascript\n",
    "var kernel = IPython.notebook.kernel;\n",
    "var body = document.body,  \n",
    "    attribs = body.attributes;\n",
    "var command = \"notebook_path = \" + \"'\"+attribs['data-notebook-path'].value+\"'\";\n",
    "kernel.execute(command);"
   ]
  },
  {
   "cell_type": "code",
   "execution_count": 16,
   "metadata": {},
   "outputs": [
    {
     "data": {
      "text/html": [
       "Click <a href=\"https://nbviewer.jupyter.org/github/dbabbitt/notebooks/blob/master/Strauss%E2%80%93Howe/ipynb/Make%20a%20Generational%20Spiral-Copy1.ipynb\" target=\"_blank\">here</a> to view notebook in nbviewer."
      ],
      "text/plain": [
       "<IPython.core.display.HTML object>"
      ]
     },
     "execution_count": 16,
     "metadata": {},
     "output_type": "execute_result"
    }
   ],
   "source": [
    "# %load ../../load_magic/nbviewer.py\n",
    "\n",
    "from IPython.display import HTML\n",
    "\n",
    "notebook_viewer_url = 'https://nbviewer.jupyter.org/github/dbabbitt/notebooks/blob/master/'\n",
    "notebook_viewer_url += '/'.join(notebook_path.split('/')[1:])\n",
    "html_str = 'Click <a href=\"{}\" target=\"_blank\">here</a> to view notebook in nbviewer.'\n",
    "HTML(html_str.format(notebook_viewer_url))"
   ]
  },
  {
   "cell_type": "code",
   "execution_count": null,
   "metadata": {},
   "outputs": [],
   "source": []
  }
 ],
 "metadata": {
  "kernelspec": {
   "display_name": "Python 3",
   "language": "python",
   "name": "python3"
  },
  "language_info": {
   "codemirror_mode": {
    "name": "ipython",
    "version": 3
   },
   "file_extension": ".py",
   "mimetype": "text/x-python",
   "name": "python",
   "nbconvert_exporter": "python",
   "pygments_lexer": "ipython3",
   "version": "3.6.8"
  }
 },
 "nbformat": 4,
 "nbformat_minor": 2
}
