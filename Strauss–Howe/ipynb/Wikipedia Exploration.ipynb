{
 "cells": [
  {
   "cell_type": "code",
   "execution_count": null,
   "metadata": {},
   "outputs": [],
   "source": [
    "\n",
    "guf_path = r'C:\\Users\\dev\\Documents\\repositories\\pywikibot\\generate_user_files.py'\n",
    "uc_path = r'C:\\Users\\dev\\Documents\\repositories\\notebooks\\Miscellaneous\\py\\user-config.py'\n",
    "print('cd {}'.format(os.path.abspath(os.path.join(uc_path, '../'))))\n",
    "print('{} {}'.format(sys.executable, guf_path))"
   ]
  },
  {
   "cell_type": "code",
   "execution_count": null,
   "metadata": {},
   "outputs": [],
   "source": [
    "\n",
    "import sys\n",
    "\n",
    "# wikipedia 1.4.0\n",
    "print('{} -m pip install --upgrade wikipedia'.format(sys.executable))\n",
    "!{sys.executable} -m pip install --upgrade wikipedia"
   ]
  },
  {
   "cell_type": "code",
   "execution_count": null,
   "metadata": {},
   "outputs": [],
   "source": [
    "\n",
    "import sys\n",
    "\n",
    "# pywikibot-3.0.20200111\n",
    "print('{} -m pip install --upgrade pywikibot'.format(sys.executable))\n",
    "!{sys.executable} -m pip install --upgrade pywikibot"
   ]
  },
  {
   "cell_type": "code",
   "execution_count": null,
   "metadata": {},
   "outputs": [],
   "source": [
    "\n",
    "import sys\n",
    "\n",
    "# Insert at 1, 0 is the script path (or '' in REPL)\n",
    "sys.path.insert(1, '../py')"
   ]
  },
  {
   "cell_type": "code",
   "execution_count": null,
   "metadata": {},
   "outputs": [],
   "source": [
    "\n",
    "%run ../../load_magic/environment.py\n",
    "%pprint\n",
    "\n",
    "notebook_path = get_notebook_path()\n",
    "print(notebook_path)\n",
    "s = Storage()\n",
    "print(['s.{}'.format(fn) for fn in dir(s) if not fn.startswith('_')])"
   ]
  },
  {
   "cell_type": "code",
   "execution_count": null,
   "metadata": {},
   "outputs": [],
   "source": [
    "\n",
    "import spiral_utils\n",
    "\n",
    "u = spiral_utils.StraussHoweUtilities()\n",
    "print(['u.{}'.format(fn) for fn in dir(u) if not fn.startswith('_')])\n",
    "dir()"
   ]
  },
  {
   "cell_type": "code",
   "execution_count": null,
   "metadata": {},
   "outputs": [],
   "source": [
    "\n",
    "import pywikibot\n",
    "\n",
    "print(['pywikibot.{}'.format(fn) for fn in dir(pywikibot) if not fn.startswith('_')])"
   ]
  },
  {
   "cell_type": "code",
   "execution_count": null,
   "metadata": {},
   "outputs": [],
   "source": [
    "\n",
    "edit_url = 'https://en.wikipedia.org/w/index.php?title=Judith_Butler&action=edit&editintro=Template:BLP_editintro'\n",
    "xpath_str = '/html/body/div/table[1]/tbody/tr[14]/td/div/div'\n",
    "css_str = 'body > div > table.infobox.biography.vcard > tbody > tr:nth-child(14) > td > div > div'\n",
    "outerHTML_str = '<div class=\"NavHead\" style=\"font-size: 105%; background: transparent; text-align: left;\">Influences</div>'"
   ]
  },
  {
   "cell_type": "code",
   "execution_count": null,
   "metadata": {},
   "outputs": [],
   "source": [
    "\n",
    "butler_digraph = build_graph(influences_digraph=butler_digraph, page_title='Judith Butler')"
   ]
  },
  {
   "cell_type": "code",
   "execution_count": null,
   "metadata": {},
   "outputs": [],
   "source": [
    "\n",
    "for eval_str in ['\"Influences\" in page_obj.{}'.format(fn) for fn in dir(page_obj) if not fn.startswith('_')]:\n",
    "    try:\n",
    "        result_bool = eval(eval_str)\n",
    "        print('{} = {}'.format(eval_str, result_bool))\n",
    "    except:\n",
    "        eval_str += '()'\n",
    "        try:\n",
    "            result_bool = eval(eval_str)\n",
    "            print('{} = {}'.format(eval_str, result_bool))\n",
    "        except Exception as e:\n",
    "            print('{}: {}'.format(eval_str, e))"
   ]
  },
  {
   "cell_type": "code",
   "execution_count": null,
   "metadata": {},
   "outputs": [],
   "source": [
    "\n",
    "page_obj.summary"
   ]
  },
  {
   "cell_type": "code",
   "execution_count": null,
   "metadata": {},
   "outputs": [],
   "source": [
    "\n",
    "text_editor_path = r'C:\\Program Files\\Notepad++\\notepad++.exe'\n",
    "file_path = os.path.join(s.saves_folder, 'html', 'judith_butler.html')\n",
    "with open(file_path, 'w') as f:\n",
    "    print(page_html.encode(s.encoding_type), file=f)\n",
    "!\"{text_editor_path}\" \"{file_path}\""
   ]
  },
  {
   "cell_type": "code",
   "execution_count": null,
   "metadata": {},
   "outputs": [],
   "source": [
    "\n",
    "# Draw the graph using the spring layout\n",
    "plt.figure(figsize=(18, 9))\n",
    "spring_pos = nx.spring_layout(butler_digraph)\n",
    "nx.draw_networkx(butler_digraph, spring_pos)"
   ]
  },
  {
   "cell_type": "code",
   "execution_count": null,
   "metadata": {},
   "outputs": [],
   "source": []
  },
  {
   "cell_type": "code",
   "execution_count": null,
   "metadata": {},
   "outputs": [],
   "source": []
  }
 ],
 "metadata": {
  "kernelspec": {
   "display_name": "Python 3",
   "language": "python",
   "name": "python3"
  },
  "language_info": {
   "codemirror_mode": {
    "name": "ipython",
    "version": 3
   },
   "file_extension": ".py",
   "mimetype": "text/x-python",
   "name": "python",
   "nbconvert_exporter": "python",
   "pygments_lexer": "ipython3",
   "version": "3.6.8"
  }
 },
 "nbformat": 4,
 "nbformat_minor": 2
}
