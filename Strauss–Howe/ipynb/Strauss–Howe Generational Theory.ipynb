{
 "cells": [
  {
   "cell_type": "code",
   "execution_count": 1,
   "metadata": {},
   "outputs": [
    {
     "name": "stdout",
     "output_type": "stream",
     "text": [
      "DATA_FOLDER: ../data/\n",
      "SAVES_FOLDER: ../saves/\n",
      "Pretty printing has been turned OFF\n",
      "DATA_CSV_FOLDER\t DATA_FOLDER\t ENCODING_TYPE\t SAVES_CSV_FOLDER\t SAVES_FOLDER\t SAVES_PICKLE_FOLDER\t attempt_to_pickle\t example_iterrows\t get_column_descriptions\t \n",
      "load_csv\t load_dataframes\t load_object\t math\t os\t pd\t pickle\t save_dataframes\t store_objects\t \n",
      "sys\t \n"
     ]
    }
   ],
   "source": [
    "\n",
    "%run ../../load_magic/storage.py\n",
    "%run ../../load_magic/dataframes.py\n",
    "%pprint\n",
    "%who"
   ]
  },
  {
   "cell_type": "code",
   "execution_count": 37,
   "metadata": {
    "scrolled": false
   },
   "outputs": [
    {
     "data": {
      "text/plain": [
       "8"
      ]
     },
     "execution_count": 37,
     "metadata": {},
     "output_type": "execute_result"
    }
   ],
   "source": [
    "\n",
    "table_url = r'https://en.wikipedia.org/wiki/Strauss%E2%80%93Howe_generational_theory'\n",
    "strauss_howe_df_list = pd.read_html(table_url)\n",
    "len(strauss_howe_df_list)"
   ]
  },
  {
   "cell_type": "code",
   "execution_count": 38,
   "metadata": {},
   "outputs": [],
   "source": [
    "\n",
    "import re\n",
    "\n",
    "strauss_howe_df = strauss_howe_df_list[5]\n",
    "strauss_howe_df.columns = ['generation_name', 'generation_archetype', 'birth_year_span',\n",
    "                           'childhood_turning_entered', 'turning_year_span']\n",
    "index_list = []\n",
    "strauss_howe_df['saeculum_name'] = pd.np.nan\n",
    "saeculum_regex = re.compile(r'Saeculum \\(')\n",
    "for row_index, row_series in strauss_howe_df.iterrows():\n",
    "    childhood = row_series['childhood_turning_entered']\n",
    "    if saeculum_regex.search(childhood):\n",
    "        index_list.append(row_index)\n",
    "        strauss_howe_df.loc[row_index, 'saeculum_name'] = childhood\n",
    "strauss_howe_df.fillna(method='ffill', axis=0, inplace=True)\n",
    "strauss_howe_df.fillna(value='Late Medieval Saeculum', axis=0, inplace=True)\n",
    "strauss_howe_df.drop(index_list, axis=0, inplace=True)"
   ]
  },
  {
   "cell_type": "code",
   "execution_count": 43,
   "metadata": {},
   "outputs": [],
   "source": [
    "\n",
    "generation_regex = re.compile('(.+) Generation.*')\n",
    "\n",
    "def f(x):\n",
    "    generation_name = str(x)\n",
    "    match_obj = generation_regex.search(generation_name)\n",
    "    if match_obj:\n",
    "        generation_name = match_obj.group(1)\n",
    "    else:\n",
    "        generation_name = ''\n",
    "    \n",
    "    return generation_name\n",
    "\n",
    "strauss_howe_df['generation_name'] = strauss_howe_df['generation_name'].map(f)"
   ]
  },
  {
   "cell_type": "code",
   "execution_count": 48,
   "metadata": {},
   "outputs": [],
   "source": [
    "\n",
    "archetype_regex = re.compile(r'(Hero|Artist|Prophet|Nomad) \\((Civic|Adaptive|Idealist|Reactive)\\)\\d*')\n",
    "\n",
    "def f(x):\n",
    "    archetype_name = str(x)\n",
    "    match_obj = archetype_regex.search(archetype_name)\n",
    "    if match_obj:\n",
    "        archetype_name = match_obj.group(1)\n",
    "    else:\n",
    "        archetype_name = ''\n",
    "    \n",
    "    return archetype_name\n",
    "\n",
    "strauss_howe_df['turnings_archetype'] = strauss_howe_df['generation_archetype'].map(f)"
   ]
  },
  {
   "cell_type": "code",
   "execution_count": 49,
   "metadata": {},
   "outputs": [],
   "source": [
    "\n",
    "def f(x):\n",
    "    archetype_name = str(x)\n",
    "    match_obj = archetype_regex.search(archetype_name)\n",
    "    if match_obj:\n",
    "        archetype_name = match_obj.group(2)\n",
    "    else:\n",
    "        archetype_name = ''\n",
    "    \n",
    "    return archetype_name\n",
    "\n",
    "strauss_howe_df['generations_archetype'] = strauss_howe_df['generation_archetype'].map(f)"
   ]
  },
  {
   "cell_type": "code",
   "execution_count": 51,
   "metadata": {},
   "outputs": [],
   "source": [
    "\n",
    "strauss_howe_df.drop('generation_archetype', axis=1, inplace=True)"
   ]
  },
  {
   "cell_type": "code",
   "execution_count": 55,
   "metadata": {},
   "outputs": [],
   "source": [
    "\n",
    "birth_regex = re.compile(r'(\\d+)[\\-\\–](\\d+|present)')\n",
    "\n",
    "def f(x):\n",
    "    birth_year = str(x)\n",
    "    match_obj = birth_regex.search(birth_year)\n",
    "    if match_obj:\n",
    "        birth_year_begin = int(match_obj.group(1))\n",
    "    else:\n",
    "        birth_year_begin = pd.np.nan\n",
    "    \n",
    "    return birth_year_begin\n",
    "\n",
    "strauss_howe_df['birth_year_begin'] = strauss_howe_df['birth_year_span'].map(f)"
   ]
  },
  {
   "cell_type": "code",
   "execution_count": 56,
   "metadata": {},
   "outputs": [],
   "source": [
    "\n",
    "def f(x):\n",
    "    birth_year = str(x)\n",
    "    match_obj = birth_regex.search(birth_year)\n",
    "    if match_obj:\n",
    "        birth_year_end = match_obj.group(2)\n",
    "        if birth_year_end == 'present':\n",
    "            birth_year_end = pd.np.nan\n",
    "        else:\n",
    "            birth_year_end = int(birth_year_end)\n",
    "    else:\n",
    "        birth_year_end = pd.np.nan\n",
    "    \n",
    "    return birth_year_end\n",
    "\n",
    "strauss_howe_df['birth_year_end'] = strauss_howe_df['birth_year_span'].map(f)"
   ]
  },
  {
   "cell_type": "code",
   "execution_count": 57,
   "metadata": {},
   "outputs": [],
   "source": [
    "\n",
    "strauss_howe_df.drop('birth_year_span', axis=1, inplace=True)"
   ]
  },
  {
   "cell_type": "code",
   "execution_count": 63,
   "metadata": {},
   "outputs": [],
   "source": [
    "\n",
    "turning_regex = re.compile('(1st|2nd|3rd|4th) Turning: (High|Awakening|Unraveling|Crisis): (.+)')\n",
    "\n",
    "def f(x):\n",
    "    childhood_turning_entered = str(x)\n",
    "    match_obj = turning_regex.search(childhood_turning_entered)\n",
    "    if match_obj:\n",
    "        childhood_turning_entered = match_obj.group(3)\n",
    "    else:\n",
    "        childhood_turning_entered = pd.np.nan\n",
    "    \n",
    "    return childhood_turning_entered\n",
    "\n",
    "strauss_howe_df['childhood_turning_description'] = strauss_howe_df['childhood_turning_entered'].map(f)"
   ]
  },
  {
   "cell_type": "code",
   "execution_count": 64,
   "metadata": {},
   "outputs": [],
   "source": [
    "\n",
    "def f(x):\n",
    "    childhood_turning_entered = str(x)\n",
    "    match_obj = turning_regex.search(childhood_turning_entered)\n",
    "    if match_obj:\n",
    "        childhood_turning_entered = int(match_obj.group(1)[0])\n",
    "    else:\n",
    "        childhood_turning_entered = pd.np.nan\n",
    "    \n",
    "    return childhood_turning_entered\n",
    "\n",
    "strauss_howe_df['childhood_turning_entered'] = strauss_howe_df['childhood_turning_entered'].map(f)"
   ]
  },
  {
   "cell_type": "code",
   "execution_count": 68,
   "metadata": {},
   "outputs": [],
   "source": [
    "\n",
    "turning_year_regex = re.compile(r'(\\d+)[\\-\\–](\\d*)')\n",
    "\n",
    "def f(x):\n",
    "    turning_year = str(x)\n",
    "    match_obj = turning_year_regex.search(turning_year)\n",
    "    if match_obj:\n",
    "        turning_year_begin = int(match_obj.group(1))\n",
    "    else:\n",
    "        turning_year_begin = pd.np.nan\n",
    "    \n",
    "    return turning_year_begin\n",
    "\n",
    "strauss_howe_df['turning_year_begin'] = strauss_howe_df['turning_year_span'].map(f)"
   ]
  },
  {
   "cell_type": "code",
   "execution_count": 72,
   "metadata": {},
   "outputs": [],
   "source": [
    "\n",
    "def f(x):\n",
    "    turning_year = str(x)\n",
    "    match_obj = turning_year_regex.search(turning_year)\n",
    "    if match_obj:\n",
    "        turning_year_end = match_obj.group(2)\n",
    "        if turning_year_end == '':\n",
    "            turning_year_end = pd.np.nan\n",
    "        else:\n",
    "            turning_year_end = int(turning_year_end)\n",
    "    else:\n",
    "        turning_year_end = pd.np.nan\n",
    "    \n",
    "    return turning_year_end\n",
    "\n",
    "strauss_howe_df['turning_year_end'] = strauss_howe_df['turning_year_span'].map(f)"
   ]
  },
  {
   "cell_type": "code",
   "execution_count": 74,
   "metadata": {},
   "outputs": [],
   "source": [
    "\n",
    "strauss_howe_df.drop('turning_year_span', axis=1, inplace=True)"
   ]
  },
  {
   "cell_type": "code",
   "execution_count": 78,
   "metadata": {},
   "outputs": [],
   "source": [
    "\n",
    "saeculum_regex = re.compile(r'([^\\r\\n]+) Saeculum')\n",
    "\n",
    "def f(x):\n",
    "    saeculum_name = str(x)\n",
    "    match_obj = saeculum_regex.search(saeculum_name)\n",
    "    if match_obj:\n",
    "        saeculum_name = match_obj.group(1)\n",
    "    else:\n",
    "        saeculum_name = ''\n",
    "    \n",
    "    return saeculum_name\n",
    "\n",
    "strauss_howe_df['saeculum_name'] = strauss_howe_df['saeculum_name'].map(f)"
   ]
  },
  {
   "cell_type": "code",
   "execution_count": 79,
   "metadata": {},
   "outputs": [
    {
     "data": {
      "text/html": [
       "<div>\n",
       "<style scoped>\n",
       "    .dataframe tbody tr th:only-of-type {\n",
       "        vertical-align: middle;\n",
       "    }\n",
       "\n",
       "    .dataframe tbody tr th {\n",
       "        vertical-align: top;\n",
       "    }\n",
       "\n",
       "    .dataframe thead th {\n",
       "        text-align: right;\n",
       "    }\n",
       "</style>\n",
       "<table border=\"1\" class=\"dataframe\">\n",
       "  <thead>\n",
       "    <tr style=\"text-align: right;\">\n",
       "      <th></th>\n",
       "      <th>24</th>\n",
       "      <th>11</th>\n",
       "      <th>15</th>\n",
       "      <th>8</th>\n",
       "      <th>5</th>\n",
       "    </tr>\n",
       "  </thead>\n",
       "  <tbody>\n",
       "    <tr>\n",
       "      <th>generation_name</th>\n",
       "      <td>Lost</td>\n",
       "      <td>Enlightenment</td>\n",
       "      <td>Republican</td>\n",
       "      <td>Puritan</td>\n",
       "      <td>Elizabethan</td>\n",
       "    </tr>\n",
       "    <tr>\n",
       "      <th>childhood_turning_entered</th>\n",
       "      <td>2</td>\n",
       "      <td>4</td>\n",
       "      <td>3</td>\n",
       "      <td>1</td>\n",
       "      <td>3</td>\n",
       "    </tr>\n",
       "    <tr>\n",
       "      <th>saeculum_name</th>\n",
       "      <td>Great Power</td>\n",
       "      <td>New World</td>\n",
       "      <td>Revolutionary</td>\n",
       "      <td>New World</td>\n",
       "      <td>Reformation</td>\n",
       "    </tr>\n",
       "    <tr>\n",
       "      <th>turnings_archetype</th>\n",
       "      <td>Nomad</td>\n",
       "      <td>Artist</td>\n",
       "      <td>Hero</td>\n",
       "      <td>Prophet</td>\n",
       "      <td>Hero</td>\n",
       "    </tr>\n",
       "    <tr>\n",
       "      <th>generations_archetype</th>\n",
       "      <td>Reactive</td>\n",
       "      <td>Adaptive</td>\n",
       "      <td>Civic</td>\n",
       "      <td>Idealist</td>\n",
       "      <td>Civic</td>\n",
       "    </tr>\n",
       "    <tr>\n",
       "      <th>birth_year_begin</th>\n",
       "      <td>1883</td>\n",
       "      <td>1674</td>\n",
       "      <td>1742</td>\n",
       "      <td>1588</td>\n",
       "      <td>1541</td>\n",
       "    </tr>\n",
       "    <tr>\n",
       "      <th>birth_year_end</th>\n",
       "      <td>1900</td>\n",
       "      <td>1700</td>\n",
       "      <td>1766</td>\n",
       "      <td>1617</td>\n",
       "      <td>1565</td>\n",
       "    </tr>\n",
       "    <tr>\n",
       "      <th>childhood_turning_description</th>\n",
       "      <td>Missionary Awakening, Progressive era</td>\n",
       "      <td>Salem Witch Trials, King Philip's War, Gloriou...</td>\n",
       "      <td>French and Indian War, British Imperialism</td>\n",
       "      <td>Merrie England</td>\n",
       "      <td>Marian Restoration, Counter-Reformation</td>\n",
       "    </tr>\n",
       "    <tr>\n",
       "      <th>turning_year_begin</th>\n",
       "      <td>1886</td>\n",
       "      <td>1675</td>\n",
       "      <td>1746</td>\n",
       "      <td>1594</td>\n",
       "      <td>1542</td>\n",
       "    </tr>\n",
       "    <tr>\n",
       "      <th>turning_year_end</th>\n",
       "      <td>1908</td>\n",
       "      <td>1704</td>\n",
       "      <td>1773</td>\n",
       "      <td>1621</td>\n",
       "      <td>1569</td>\n",
       "    </tr>\n",
       "  </tbody>\n",
       "</table>\n",
       "</div>"
      ],
      "text/plain": [
       "                                                                  24  \\\n",
       "generation_name                                                 Lost   \n",
       "childhood_turning_entered                                          2   \n",
       "saeculum_name                                            Great Power   \n",
       "turnings_archetype                                             Nomad   \n",
       "generations_archetype                                       Reactive   \n",
       "birth_year_begin                                                1883   \n",
       "birth_year_end                                                  1900   \n",
       "childhood_turning_description  Missionary Awakening, Progressive era   \n",
       "turning_year_begin                                              1886   \n",
       "turning_year_end                                                1908   \n",
       "\n",
       "                                                                              11  \\\n",
       "generation_name                                                    Enlightenment   \n",
       "childhood_turning_entered                                                      4   \n",
       "saeculum_name                                                          New World   \n",
       "turnings_archetype                                                        Artist   \n",
       "generations_archetype                                                   Adaptive   \n",
       "birth_year_begin                                                            1674   \n",
       "birth_year_end                                                              1700   \n",
       "childhood_turning_description  Salem Witch Trials, King Philip's War, Gloriou...   \n",
       "turning_year_begin                                                          1675   \n",
       "turning_year_end                                                            1704   \n",
       "\n",
       "                                                                       15  \\\n",
       "generation_name                                                Republican   \n",
       "childhood_turning_entered                                               3   \n",
       "saeculum_name                                               Revolutionary   \n",
       "turnings_archetype                                                   Hero   \n",
       "generations_archetype                                               Civic   \n",
       "birth_year_begin                                                     1742   \n",
       "birth_year_end                                                       1766   \n",
       "childhood_turning_description  French and Indian War, British Imperialism   \n",
       "turning_year_begin                                                   1746   \n",
       "turning_year_end                                                     1773   \n",
       "\n",
       "                                           8   \\\n",
       "generation_name                       Puritan   \n",
       "childhood_turning_entered                   1   \n",
       "saeculum_name                       New World   \n",
       "turnings_archetype                    Prophet   \n",
       "generations_archetype                Idealist   \n",
       "birth_year_begin                         1588   \n",
       "birth_year_end                           1617   \n",
       "childhood_turning_description  Merrie England   \n",
       "turning_year_begin                       1594   \n",
       "turning_year_end                         1621   \n",
       "\n",
       "                                                                    5   \n",
       "generation_name                                            Elizabethan  \n",
       "childhood_turning_entered                                            3  \n",
       "saeculum_name                                              Reformation  \n",
       "turnings_archetype                                                Hero  \n",
       "generations_archetype                                            Civic  \n",
       "birth_year_begin                                                  1541  \n",
       "birth_year_end                                                    1565  \n",
       "childhood_turning_description  Marian Restoration, Counter-Reformation  \n",
       "turning_year_begin                                                1542  \n",
       "turning_year_end                                                  1569  "
      ]
     },
     "execution_count": 79,
     "metadata": {},
     "output_type": "execute_result"
    }
   ],
   "source": [
    "\n",
    "strauss_howe_df.sample(5).T"
   ]
  },
  {
   "cell_type": "code",
   "execution_count": 104,
   "metadata": {},
   "outputs": [
    {
     "name": "stdout",
     "output_type": "stream",
     "text": [
      "Saving to C:\\Users\\dev\\Documents\\repositories\\notebooks\\Miscellaneous\\data\\csv\\strauss_howe_df.csv\n",
      "Saving to C:\\Users\\dev\\Documents\\repositories\\notebooks\\Miscellaneous\\saves\\csv\\strauss_howe_df.csv\n",
      "Saving to C:\\Users\\dev\\Documents\\repositories\\notebooks\\Miscellaneous\\data\\xlsx\\strauss_howe_df.xlsx\n"
     ]
    }
   ],
   "source": [
    "\n",
    "index_name = 'generation_name'\n",
    "strauss_howe_df = strauss_howe_df.set_index(index_name)\n",
    "strauss_howe_df.index.name = index_name\n",
    "columns_list = strauss_howe_df.columns\n",
    "file_path = os.path.join(DATA_CSV_FOLDER, 'strauss_howe_df.csv')\n",
    "print('Saving to {}'.format(os.path.abspath(file_path)))\n",
    "strauss_howe_df[columns_list].to_csv(file_path)\n",
    "save_dataframes(include_index=True,\n",
    "                strauss_howe_df=strauss_howe_df[columns_list])\n",
    "xlsx_folder = os.path.join(DATA_FOLDER, 'xlsx')\n",
    "os.makedirs(name=xlsx_folder, exist_ok=True)\n",
    "file_path = os.path.join(xlsx_folder, 'strauss_howe_df.xlsx')\n",
    "print('Saving to {}'.format(os.path.abspath(file_path)))\n",
    "strauss_howe_df[columns_list].to_excel(file_path)"
   ]
  },
  {
   "cell_type": "code",
   "execution_count": 92,
   "metadata": {},
   "outputs": [
    {
     "name": "stdout",
     "output_type": "stream",
     "text": [
      "Attempting to load C:\\Users\\dev\\Documents\\repositories\\notebooks\\Miscellaneous\\saves\\pickle\\patriline_df.pickle.\n",
      "No pickle exists - attempting to load C:\\Users\\dev\\Documents\\repositories\\notebooks\\Miscellaneous\\saves\\csv\\patriline_df.csv.\n"
     ]
    }
   ],
   "source": [
    "\n",
    "index_name = 'Patriarch Name'\n",
    "dataframes_dict = load_dataframes(patriline_df='patriline_df')\n",
    "patriline_df = dataframes_dict['patriline_df']\n",
    "if 'Unnamed: 0' in patriline_df.columns:\n",
    "    patriline_df = patriline_df.set_index('Unnamed: 0')\n",
    "elif index_name in patriline_df.columns:\n",
    "    patriline_df = patriline_df.set_index(index_name)\n",
    "patriline_df.index.name = index_name"
   ]
  },
  {
   "cell_type": "code",
   "execution_count": 93,
   "metadata": {},
   "outputs": [],
   "source": [
    "\n",
    "patriline_df['Generation Name'] = pd.np.nan\n",
    "for row_index, row_series in patriline_df.iterrows():\n",
    "    birth_year = row_series['Year of Birth']\n",
    "    mask_series = (birth_year >= strauss_howe_df['birth_year_begin'])\n",
    "    mask_series = mask_series & (birth_year <= strauss_howe_df['birth_year_end'])\n",
    "    generation_name = strauss_howe_df[mask_series]['generation_name'].tolist()[0]\n",
    "    patriline_df.loc[row_index, 'Generation Name'] = generation_name"
   ]
  },
  {
   "cell_type": "code",
   "execution_count": 94,
   "metadata": {},
   "outputs": [
    {
     "data": {
      "text/html": [
       "<div>\n",
       "<style scoped>\n",
       "    .dataframe tbody tr th:only-of-type {\n",
       "        vertical-align: middle;\n",
       "    }\n",
       "\n",
       "    .dataframe tbody tr th {\n",
       "        vertical-align: top;\n",
       "    }\n",
       "\n",
       "    .dataframe thead th {\n",
       "        text-align: right;\n",
       "    }\n",
       "</style>\n",
       "<table border=\"1\" class=\"dataframe\">\n",
       "  <thead>\n",
       "    <tr style=\"text-align: right;\">\n",
       "      <th>Patriarch Name</th>\n",
       "      <th>Elkanah Babbitt, II</th>\n",
       "      <th>Joseph Robert Babbitt, Sr.</th>\n",
       "      <th>Joseph Robert Babbitt, Jr.</th>\n",
       "      <th>David William Babbitt, Jr.</th>\n",
       "      <th>William David Babbitt</th>\n",
       "    </tr>\n",
       "  </thead>\n",
       "  <tbody>\n",
       "    <tr>\n",
       "      <th>Year of Birth</th>\n",
       "      <td>1690</td>\n",
       "      <td>1891</td>\n",
       "      <td>1932</td>\n",
       "      <td>1858</td>\n",
       "      <td>1791</td>\n",
       "    </tr>\n",
       "    <tr>\n",
       "      <th>Date of Birth</th>\n",
       "      <td>April 22, 1690</td>\n",
       "      <td>May 04, 1891</td>\n",
       "      <td>6-Apr-32</td>\n",
       "      <td>May 14, 1858</td>\n",
       "      <td>October 26, 1791</td>\n",
       "    </tr>\n",
       "    <tr>\n",
       "      <th>Place of Birth</th>\n",
       "      <td>Berkley, Bristol County, New Plymouth Colony</td>\n",
       "      <td>Flagstaff, Coconino, AZ, United States</td>\n",
       "      <td>Mesa, Maricopa County, Arizona, United States</td>\n",
       "      <td>Cincinnati, Hamilton, OH, United States</td>\n",
       "      <td>Berkshire, Berkshire, MA, United States</td>\n",
       "    </tr>\n",
       "    <tr>\n",
       "      <th>Year of Death</th>\n",
       "      <td>1754</td>\n",
       "      <td>1968</td>\n",
       "      <td>2002</td>\n",
       "      <td>1929</td>\n",
       "      <td>1861</td>\n",
       "    </tr>\n",
       "    <tr>\n",
       "      <th>Date of Death</th>\n",
       "      <td>April 01, 1754 (63)</td>\n",
       "      <td>March 19, 1968 (76)</td>\n",
       "      <td>March 31, 2002 (69)</td>\n",
       "      <td>November 08, 1929 (71)</td>\n",
       "      <td>May 28, 1861 (69)</td>\n",
       "    </tr>\n",
       "    <tr>\n",
       "      <th>Place of Death</th>\n",
       "      <td>Berkley, Bristol County, Province of Massachsutts</td>\n",
       "      <td>Flagstaff, Coconino, AZ, U</td>\n",
       "      <td>NM, United States (Multiple Myloma (Cancer))</td>\n",
       "      <td>Flagstaff, Coconino, AZ, United States</td>\n",
       "      <td>Berkshire, Berkshire, MA, United States</td>\n",
       "    </tr>\n",
       "    <tr>\n",
       "      <th>Generation Name</th>\n",
       "      <td>Enlightenment</td>\n",
       "      <td>Lost</td>\n",
       "      <td>Silent</td>\n",
       "      <td>Progressive</td>\n",
       "      <td>Compromise</td>\n",
       "    </tr>\n",
       "  </tbody>\n",
       "</table>\n",
       "</div>"
      ],
      "text/plain": [
       "Patriarch Name                                 Elkanah Babbitt, II  \\\n",
       "Year of Birth                                                 1690   \n",
       "Date of Birth                                       April 22, 1690   \n",
       "Place of Birth        Berkley, Bristol County, New Plymouth Colony   \n",
       "Year of Death                                                 1754   \n",
       "Date of Death                                  April 01, 1754 (63)   \n",
       "Place of Death   Berkley, Bristol County, Province of Massachsutts   \n",
       "Generation Name                                      Enlightenment   \n",
       "\n",
       "Patriarch Name               Joseph Robert Babbitt, Sr.  \\\n",
       "Year of Birth                                      1891   \n",
       "Date of Birth                              May 04, 1891   \n",
       "Place of Birth   Flagstaff, Coconino, AZ, United States   \n",
       "Year of Death                                      1968   \n",
       "Date of Death                       March 19, 1968 (76)   \n",
       "Place of Death               Flagstaff, Coconino, AZ, U   \n",
       "Generation Name                                    Lost   \n",
       "\n",
       "Patriarch Name                      Joseph Robert Babbitt, Jr.  \\\n",
       "Year of Birth                                             1932   \n",
       "Date of Birth                                         6-Apr-32   \n",
       "Place of Birth   Mesa, Maricopa County, Arizona, United States   \n",
       "Year of Death                                             2002   \n",
       "Date of Death                              March 31, 2002 (69)   \n",
       "Place of Death    NM, United States (Multiple Myloma (Cancer))   \n",
       "Generation Name                                         Silent   \n",
       "\n",
       "Patriarch Name                David William Babbitt, Jr.  \\\n",
       "Year of Birth                                       1858   \n",
       "Date of Birth                               May 14, 1858   \n",
       "Place of Birth   Cincinnati, Hamilton, OH, United States   \n",
       "Year of Death                                       1929   \n",
       "Date of Death                     November 08, 1929 (71)   \n",
       "Place of Death    Flagstaff, Coconino, AZ, United States   \n",
       "Generation Name                              Progressive   \n",
       "\n",
       "Patriarch Name                     William David Babbitt  \n",
       "Year of Birth                                       1791  \n",
       "Date of Birth                           October 26, 1791  \n",
       "Place of Birth   Berkshire, Berkshire, MA, United States  \n",
       "Year of Death                                       1861  \n",
       "Date of Death                          May 28, 1861 (69)  \n",
       "Place of Death   Berkshire, Berkshire, MA, United States  \n",
       "Generation Name                               Compromise  "
      ]
     },
     "execution_count": 94,
     "metadata": {},
     "output_type": "execute_result"
    }
   ],
   "source": [
    "\n",
    "patriline_df.sample(5).T"
   ]
  },
  {
   "cell_type": "code",
   "execution_count": 95,
   "metadata": {},
   "outputs": [
    {
     "name": "stdout",
     "output_type": "stream",
     "text": [
      "Saving to C:\\Users\\dev\\Documents\\repositories\\notebooks\\Miscellaneous\\data\\csv\\patriline_df.csv\n",
      "Saving to C:\\Users\\dev\\Documents\\repositories\\notebooks\\Miscellaneous\\saves\\csv\\patriline_df.csv\n",
      "Saving to C:\\Users\\dev\\Documents\\repositories\\notebooks\\Miscellaneous\\data\\xlsx\\patriline_df.xlsx\n"
     ]
    }
   ],
   "source": [
    "\n",
    "columns_list = patriline_df.columns\n",
    "file_path = os.path.join(DATA_CSV_FOLDER, 'patriline_df.csv')\n",
    "print('Saving to {}'.format(os.path.abspath(file_path)))\n",
    "patriline_df[columns_list].to_csv(file_path)\n",
    "save_dataframes(include_index=True,\n",
    "                patriline_df=patriline_df[columns_list])\n",
    "xlsx_folder = os.path.join(DATA_FOLDER, 'xlsx')\n",
    "os.makedirs(name=xlsx_folder, exist_ok=True)\n",
    "file_path = os.path.join(xlsx_folder, 'patriline_df.xlsx')\n",
    "print('Saving to {}'.format(os.path.abspath(file_path)))\n",
    "patriline_df[columns_list].to_excel(file_path)"
   ]
  },
  {
   "cell_type": "code",
   "execution_count": 100,
   "metadata": {},
   "outputs": [
    {
     "name": "stdout",
     "output_type": "stream",
     "text": [
      "Collecting turtle\n",
      "  Using cached https://files.pythonhosted.org/packages/ff/f0/21a42e9e424d24bdd0e509d5ed3c7dfb8f47d962d9c044dba903b0b4a26f/turtle-0.0.2.tar.gz\n"
     ]
    },
    {
     "name": "stderr",
     "output_type": "stream",
     "text": [
      "    ERROR: Complete output from command python setup.py egg_info:\n",
      "    ERROR: Traceback (most recent call last):\n",
      "      File \"<string>\", line 1, in <module>\n",
      "      File \"C:\\Users\\dev\\AppData\\Local\\Temp\\pip-install-j3jwy_fu\\turtle\\setup.py\", line 40\n",
      "        except ValueError, ve:\n",
      "                         ^\n",
      "    SyntaxError: invalid syntax\n",
      "    ----------------------------------------\n",
      "ERROR: Command \"python setup.py egg_info\" failed with error code 1 in C:\\Users\\dev\\AppData\\Local\\Temp\\pip-install-j3jwy_fu\\turtle\\\n"
     ]
    }
   ],
   "source": [
    "\n",
    "import sys\n",
    "\n",
    "!{sys.executable} -m pip install turtle"
   ]
  },
  {
   "cell_type": "code",
   "execution_count": 103,
   "metadata": {},
   "outputs": [
    {
     "name": "stdout",
     "output_type": "stream",
     "text": [
      "C:\\Users\\dev\\Anaconda3\\python.exe setup.py install\n"
     ]
    }
   ],
   "source": [
    "\n",
    "print('{} setup.py install'.format(sys.executable))"
   ]
  },
  {
   "cell_type": "code",
   "execution_count": 81,
   "metadata": {},
   "outputs": [
    {
     "data": {
      "application/javascript": [
       "var kernel = IPython.notebook.kernel;\n",
       "var body = document.body,  \n",
       "    attribs = body.attributes;\n",
       "var command = \"notebook_path = \" + \"'\"+attribs['data-notebook-path'].value+\"'\";\n",
       "kernel.execute(command);\n"
      ],
      "text/plain": [
       "<IPython.core.display.Javascript object>"
      ]
     },
     "metadata": {},
     "output_type": "display_data"
    }
   ],
   "source": [
    "%%javascript\n",
    "var kernel = IPython.notebook.kernel;\n",
    "var body = document.body,  \n",
    "    attribs = body.attributes;\n",
    "var command = \"notebook_path = \" + \"'\"+attribs['data-notebook-path'].value+\"'\";\n",
    "kernel.execute(command);"
   ]
  },
  {
   "cell_type": "code",
   "execution_count": 82,
   "metadata": {},
   "outputs": [
    {
     "data": {
      "text/html": [
       "Click <a href=\"https://nbviewer.jupyter.org/github/dbabbitt/notebooks/blob/master/Miscellaneous/ipynb/Income%20Inequality%20and%20Capitalism-Copy1.ipynb\" target=\"_blank\">here</a> to view notebook in nbviewer."
      ],
      "text/plain": [
       "<IPython.core.display.HTML object>"
      ]
     },
     "execution_count": 82,
     "metadata": {},
     "output_type": "execute_result"
    }
   ],
   "source": [
    "# %load ../../load_magic/nbviewer.py\n",
    "\n",
    "from IPython.display import HTML\n",
    "\n",
    "notebook_viewer_url = 'https://nbviewer.jupyter.org/github/dbabbitt/notebooks/blob/master/'\n",
    "notebook_viewer_url += '/'.join(notebook_path.split('/')[1:])\n",
    "html_str = 'Click <a href=\"{}\" target=\"_blank\">here</a> to view notebook in nbviewer.'\n",
    "HTML(html_str.format(notebook_viewer_url))"
   ]
  },
  {
   "cell_type": "code",
   "execution_count": null,
   "metadata": {},
   "outputs": [],
   "source": []
  }
 ],
 "metadata": {
  "kernelspec": {
   "display_name": "Python 3",
   "language": "python",
   "name": "python3"
  },
  "language_info": {
   "codemirror_mode": {
    "name": "ipython",
    "version": 3
   },
   "file_extension": ".py",
   "mimetype": "text/x-python",
   "name": "python",
   "nbconvert_exporter": "python",
   "pygments_lexer": "ipython3",
   "version": "3.6.8"
  }
 },
 "nbformat": 4,
 "nbformat_minor": 2
}
