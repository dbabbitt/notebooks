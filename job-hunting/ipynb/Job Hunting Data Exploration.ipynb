{
 "cells": [
  {
   "cell_type": "markdown",
   "metadata": {},
   "source": [
    "\n",
    "---\n",
    "# Load needed libraries and functions"
   ]
  },
  {
   "cell_type": "code",
   "execution_count": 1,
   "metadata": {},
   "outputs": [
    {
     "name": "stdout",
     "output_type": "stream",
     "text": [
      "Pretty printing has been turned OFF\n",
      "D:\\Documents\\Repositories\\notebooks\\Miscellaneous\\ipynb\\Job Hunting Data Exploration.ipynb\n",
      "['s.attempt_to_pickle', 's.data_csv_folder', 's.data_folder', 's.encoding_type', 's.load_csv', 's.load_dataframes', 's.load_object', 's.save_dataframes', 's.saves_csv_folder', 's.saves_folder', 's.saves_pickle_folder', 's.store_objects']\n"
     ]
    },
    {
     "data": {
      "text/plain": [
       "['Config', 'CountVectorizer', 'In', 'Out', 'RandomForestClassifier', 'SequenceMatcher', 'Storage', 'TfidfTransformer', '_', '__', '___', '__builtin__', '__builtins__', '__doc__', '__loader__', '__name__', '__nonzero__', '__package__', '__spec__', '_dh', '_i', '_i1', '_ih', '_ii', '_iii', '_oh', 'basic_quals_dict', 'check_4_doubles', 'check_for_typos', 'conjunctify_list', 'copyfile', 'csv', 'encoding', 'exit', 'get_classifier', 'get_data_structs_dataframe', 'get_datastructure_prediction', 'get_dir_tree', 'get_git_lfs_track_commands', 'get_importances', 'get_input_sample', 'get_ipython', 'get_module_version', 'get_notebook_path', 'get_specific_gitignore_files', 'get_struct_name', 'humanize_bytes', 'hunting_df', 'ipykernel', 'json', 'jupyter_config_dir', 'notebook_path', 'notebookapp', 'np', 'os', 'pd', 'pickle', 'preprocess_data', 'print_all_files_ending_starting_with', 'print_all_files_ending_with', 'print_all_files_starting_with', 'quit', 're', 'remove_empty_folders', 's', 'similar', 'subprocess', 'sys', 'time', 'urllib']"
      ]
     },
     "execution_count": 1,
     "metadata": {},
     "output_type": "execute_result"
    }
   ],
   "source": [
    "\n",
    "%run ../../load_magic/storage.py\n",
    "%run ../../load_magic/paths.py\n",
    "%run ../../load_magic/lists.py\n",
    "%run ../../load_magic/environment.py\n",
    "import numpy as np\n",
    "from sklearn.feature_extraction.text import CountVectorizer\n",
    "from sklearn.feature_extraction.text import TfidfTransformer\n",
    "%pprint\n",
    "\n",
    "notebook_path = get_notebook_path()\n",
    "print(notebook_path)\n",
    "\n",
    "s = Storage()\n",
    "print(['s.{}'.format(fn) for fn in dir(s) if not fn.startswith('_')])\n",
    "hunting_df = s.load_object('hunting_df')\n",
    "basic_quals_dict = s.load_object('basic_quals_dict')\n",
    "dir()"
   ]
  },
  {
   "cell_type": "markdown",
   "metadata": {},
   "source": [
    "\n",
    "---\n",
    "# Needed extra functions"
   ]
  },
  {
   "cell_type": "code",
   "execution_count": 2,
   "metadata": {},
   "outputs": [],
   "source": [
    "\n",
    "def print_loc_computation(row_index, quals_list, basic_quals_dict):\n",
    "    print()\n",
    "    numerator_str_list = []\n",
    "    for qual_str in quals_list:\n",
    "        if qual_str in basic_quals_dict:\n",
    "            numerator_str_list.append(str(basic_quals_dict[qual_str]))\n",
    "        else:\n",
    "            numerator_str_list.append('000')\n",
    "    numerator_str = '+'.join(numerator_str_list)\n",
    "    print(\"hunting_df.loc[{}, 'percent_fit'] = ({})/{}\".format(row_index, numerator_str, len(quals_list)))"
   ]
  },
  {
   "cell_type": "code",
   "execution_count": 3,
   "metadata": {},
   "outputs": [],
   "source": [
    "\n",
    "def get_predictions_and_counts(prediction_list, quals_list):\n",
    "    qual_count = 0\n",
    "    prediction_str = ''\n",
    "    for pred_array, qual_str in zip(prediction_list, quals_list):\n",
    "        prediction = pred_array[1]\n",
    "        prediction_str += '\\n{} {}'.format(prediction, qual_str)\n",
    "        if prediction > 0.5:\n",
    "            qual_count += 1\n",
    "    \n",
    "    return prediction_str, qual_count"
   ]
  },
  {
   "cell_type": "code",
   "execution_count": 4,
   "metadata": {},
   "outputs": [],
   "source": [
    "\n",
    "def get_quals_str(prediction_list, quals_list, basic_quals_dict):\n",
    "    qual_count = 0\n",
    "    quals_str = ''\n",
    "    for pred_array, (i, qual_str) in zip(prediction_list, enumerate(quals_list)):\n",
    "        if qual_str in basic_quals_dict:\n",
    "            formatted_str = '\\nquals_list[{}] = \"{}\" ({})'\n",
    "        else:\n",
    "            formatted_str = '\\n*quals_list[{}] = \"{}\" ({})'\n",
    "        prediction = pred_array[1]\n",
    "        quals_str += formatted_str.format(i, qual_str, prediction)\n",
    "        if prediction > 0.5:\n",
    "            qual_count += 1\n",
    "    \n",
    "    return quals_str, qual_count"
   ]
  },
  {
   "cell_type": "code",
   "execution_count": 5,
   "metadata": {},
   "outputs": [],
   "source": [
    "\n",
    "def print_fit_job(row_index, row_series, basic_quals_dict):\n",
    "    job_fitness = 0.0\n",
    "    job_description = row_series['Job Description']\n",
    "    quals_list = get_quals_list(job_description)\n",
    "    if len(quals_list):\n",
    "        prediction_list = list(predict_percent_fit(quals_list))\n",
    "        #prediction_str, qual_count = get_predictions_and_counts(prediction_list, quals_list)\n",
    "        quals_str, qual_count = get_quals_str(prediction_list, quals_list, basic_quals_dict)\n",
    "        job_fitness = qual_count/len(prediction_list)\n",
    "        if job_fitness > 0.8:\n",
    "            print('Basic Qualifications:{}'.format(quals_str))\n",
    "            #print(prediction_str)\n",
    "            print(job_fitness)\n",
    "            print_loc_computation(row_index, quals_list, basic_quals_dict)\n",
    "    \n",
    "    return quals_list, job_fitness"
   ]
  },
  {
   "cell_type": "code",
   "execution_count": 6,
   "metadata": {},
   "outputs": [],
   "source": [
    "\n",
    "def print_job_description(req_id):\n",
    "    mask_series = (hunting_df['Job Requisition ID'] == req_id)\n",
    "    job_description = hunting_df[mask_series]['Job Description'].tolist()[0]\n",
    "    print(get_quals_list(job_description))\n",
    "    print(job_description)"
   ]
  },
  {
   "cell_type": "code",
   "execution_count": 7,
   "metadata": {},
   "outputs": [],
   "source": [
    "\n",
    "scanner_regex = re.compile(r'\\b[1-9a-zA-Z][0-9a-zA-Z]*( *[#\\+]{1,2}|\\b)')\n",
    "def regex_tokenizer(corpus):\n",
    "    \n",
    "    return [match.group() for match in re.finditer(scanner_regex, corpus)]"
   ]
  },
  {
   "cell_type": "code",
   "execution_count": 8,
   "metadata": {},
   "outputs": [],
   "source": [
    "\n",
    "import string\n",
    "\n",
    "printable_regex = re.compile('[^{}]+'.format(string.printable))\n",
    "def un_msword_ify(x):\n",
    "    msword_str = str(x)\n",
    "    msword_str = printable_regex.sub(r' ', msword_str).strip()\n",
    "    msword_str = re.sub(r'[^\\x00-\\x7f]+', r' ', msword_str).strip()\n",
    "    msword_str = re.sub(r' +', ' ', msword_str)\n",
    "    msword_str = re.sub(r'::', ':', msword_str)\n",
    "    msword_str = re.sub(r':$', '', msword_str)\n",
    "    msword_str = re.sub(r'^-', '', msword_str)\n",
    "    \n",
    "    return msword_str"
   ]
  },
  {
   "cell_type": "code",
   "execution_count": 9,
   "metadata": {},
   "outputs": [],
   "source": [
    "\n",
    "a_list = ['Additional Qualifications?', 'Nice If You Have', 'Nice if you have', 'Nice if You Have',\n",
    "          'Additional Preferred Qualifications', 'Nice if you Have', 'Additional qualifications', 'Nice to Have']\n",
    "a_str = '({}):?'.format('|'.join(a_list))\n",
    "def get_quals_list(job_description):\n",
    "    job_description = un_msword_ify(job_description)\n",
    "    basic_quals = ''\n",
    "    quals_list = []\n",
    "    items_list = re.split('(Key Role|The Challenge):', job_description, 0)\n",
    "    if len(items_list) > 1:\n",
    "        job_description = items_list[-1].strip()\n",
    "    items_list = re.split('[\\r\\n]+(Basic Qualifications?|You Have|You have):?', job_description, 0)\n",
    "    if len(items_list) > 1:\n",
    "        job_description = items_list[-1].strip()\n",
    "    items_list = re.split(a_str, job_description, 0)\n",
    "    if len(items_list) > 1:\n",
    "        basic_quals = items_list[0].strip()\n",
    "    else:\n",
    "        items_list = re.split('(Clearance|Build Your Career):', job_description, 0)\n",
    "        basic_quals = items_list[0].strip()\n",
    "    if basic_quals != '':\n",
    "        quals_list = [un_msword_ify(q) for q in re.split('[\\r\\n]+', basic_quals, 0)]\n",
    "        quals_list = [x for x in quals_list if x != '']\n",
    "    \n",
    "    return quals_list"
   ]
  },
  {
   "cell_type": "markdown",
   "metadata": {},
   "source": [
    "\n",
    "---\n",
    "# Data Exploration"
   ]
  },
  {
   "cell_type": "code",
   "execution_count": 10,
   "metadata": {},
   "outputs": [
    {
     "name": "stdout",
     "output_type": "stream",
     "text": [
      "1\n"
     ]
    }
   ],
   "source": [
    "\n",
    "req_id = 'R0073583'\n",
    "mask_series = (hunting_df['Job Requisition ID'] == req_id)\n",
    "print(hunting_df[mask_series].shape[0])\n",
    "Supervisory_Organization = hunting_df.loc[mask_series,\n",
    "                                          'Supervisory Organization'].squeeze()\n",
    "mask_series = (hunting_df['Supervisory Organization'] == Supervisory_Organization)\n",
    "df = hunting_df[mask_series].sort_values('percent_fit')\n",
    "req_id_list = df['Job Requisition ID'].tolist()"
   ]
  },
  {
   "cell_type": "code",
   "execution_count": 14,
   "metadata": {},
   "outputs": [
    {
     "data": {
      "text/plain": [
       "{'Job Requisition ID': {190: 'R0073576', 191: 'R0073575', 426: 'R0073583', 427: 'R0073584', 428: 'R0073564', 475: 'R0073585', 860: 'R0073581', 1048: 'R0073556', 1049: 'R0073559', 1390: 'R0073586', 4238: 'R0078875'}, 'Job Posting Title': {190: 'Cloud Engineer', 191: 'Cloud Engineer', 426: 'Data Engineer', 427: 'Data Engineer', 428: 'Data Engineer', 475: 'Data Scientist', 860: 'Information Security Engineer, Mid', 1048: 'Mobile Technology Specialist', 1049: 'Mobile Technology Specialist', 1390: 'Software Developer', 4238: 'UI, UX, Front-end Developer'}}"
      ]
     },
     "execution_count": 14,
     "metadata": {},
     "output_type": "execute_result"
    }
   ],
   "source": [
    "\n",
    "mask_series = hunting_df['Job Requisition ID'].isin(req_id_list)\n",
    "columns_list = ['Job Requisition ID', 'Job Posting Title']\n",
    "hunting_df[mask_series][columns_list].to_dict()"
   ]
  },
  {
   "cell_type": "code",
   "execution_count": 17,
   "metadata": {},
   "outputs": [
    {
     "name": "stdout",
     "output_type": "stream",
     "text": [
      "Job Posting: Data Scientist\n",
      "Job Requisition: R0073585 Data Scientist (Open)\n",
      "Job Requisition ID: R0073585\n",
      "Job Requisition Status: Open\n",
      "Furthest Stage: Interview\n",
      "Supervisory Organization: Supervisory Organization (John Brandom (568067))\n",
      "Group: GLOBAL DEFENSE GROUP\n",
      "Account Group: JCC ACCT GROUP\n",
      "IMT: JCC IMT\n",
      "Cluster: Fayetteville Cluster\n",
      "Primary Recruiter: Alexander Mosiniak (900620)[C]\n",
      "Resource Manager: Beth Mellott (510067)\n",
      "Hiring Manager: John Brandom (568067)\n",
      "Job Posting Title: Data Scientist\n",
      "Job Profile: Data Scientist Mid\n",
      "Job Requisition Type: Sold and Funded\n",
      "Management Level: Senior Consultant\n",
      "Primary Location: USA, NC, Fayetteville (4200 Morganton Rd Suite 300)\n",
      "Primary Location State/Province: North Carolina\n",
      "Primary Location Country: United States of America\n",
      "Required Clearance: Secret\n",
      "Clearance Agency: DOD\n",
      "Time Type: Full time\n",
      "Recruiting Start Date: 11/20/2019\n",
      "Job Type: Regular\n",
      "Job Family: Data Scientist\n",
      "Business Title: Data Scientist Mid\n",
      "Job Family Group: Technology\n",
      "Job Description: The Challenge:\n",
      "Are you excited at the prospect of unlocking the secrets held by a data set? Are you fascinated by the possibilities presented by the IoT, machine learning, and artificial intelligence advances? In an increasingly connected world, massive amounts of structured and unstructured data open up new opportunities. As a data scientist, you can turn these complex data sets into useful information to solve global challenges. Across private and public sectors from fraud detection, to cancer research, to national intelligence you know the answers are in the data.\n",
      "\n",
      "We have an opportunity for you to use your analytical skills to improve the warfighters capabilities. You'll work closely with your customer to understand their questions and needs, and then dig into their data-rich environment to find the pieces of their information puzzle. You'll support processing of structured, unstructured, and semi-structured data to derive patterns, trends, and correlations and enable entity extraction, disambiguation and other data-related support using appropriate data science tools and techniques. Employ techniques and theories drawn from many fields within the broad areas of mathematics, statistics, operations research, information science, and computer science, including signal processing, probability models, machine learning, statistical learning, pattern recognition and learning, predictive analytics, uncertainty modeling, and artificial intelligence. You'll provide your customer with a deep understanding of their data, what it all means, and how they can use it. Join us as we use data science for good to assist in accomplishing the mission. This position includes work that will be completed internationally, including the MENA region.\n",
      "\n",
      "Empower change with us.\n",
      "\n",
      "You Have:\n",
      "-Experience with creating Web-based visualizations\n",
      "-Experience with developing front-end software for data visualizations or data entry\n",
      "-Ability to forward deploy for up to 12 months\n",
      "-Secret clearance\n",
      "-BA or BS degree\n",
      "\n",
      "Nice If You Have:\n",
      "-3+ years of experience as a data scientist\n",
      "-Experience with development, modification, and application of computer modeling and programming applications to analyze and solve mathematical and scientific problems\n",
      "-Experience with building statistical models and developing machine learning algorithms\n",
      "-Experience in working with a Data Scientist team\n",
      "-Experience with programming languages, including Python, R, Scala, and Java\n",
      "-Experience with big data technologies, including HDFS, Hadoop, and Spark\n",
      "-Experience with deep learning paradigms and frameworks\n",
      "-Ability to convert data into a business story\n",
      "-Possession of excellent data visualization skills\n",
      "\n",
      "Clearance:\n",
      "Applicants selected will be subject to a security investigation and may need to meet eligibility requirements for access to classified information; Secret clearance is required.\n",
      "\n",
      "Build Your Career:\n",
      " At Booz Allen, we know the power of analytics and we're dedicated to helping you grow as a data analysis professional. When you join Booz Allen, you'll have the chance to:\n",
      "access online and onsite training in data analysis and presentation methodologies, and tools like Hortonworks, Docker, Tableau, and Splunk\n",
      "change the world with the Data Science Bowl the world's premier data science for social good competition\n",
      "participate in partnerships with data science leaders, like our partnership with NVIDIA to deliver Deep Learning Institute (DLI) training to the federal government\n",
      "\n",
      "You'll have access to a wealth of training resources through our Analytics University, an online learning portal specifically geared towards data science and analytics skills, where you can access more than 5000 functional and technical courses, certifications, and books. Build your technical skills through hands-on training on the latest tools and state-of-the-art tech from our in-house experts. Pursuing certifications that directly impact your role? You may be able to take advantage of our tuition assistance, onsite boot camps, certification training, academic programs, vendor relationships, and a network of professionals who can give you helpful tips. We'll help you develop the career you want as you chart your own course for success.\n",
      "Job Profile Skills: nan\n",
      "percent_fit: 1.0\n",
      "is_opportunity_application_emailed: True\n",
      "opportunity_application_email_date: 2020-03-31 13:16:56.705354\n",
      "is_remote_delivery: True\n",
      "manager_notes: \n",
      "CS Notes: \n"
     ]
    }
   ],
   "source": [
    "\n",
    "for column_name, column_value in hunting_df.iloc[475].iteritems():\n",
    "    print('{}: {}'.format(column_name, column_value))"
   ]
  },
  {
   "cell_type": "code",
   "execution_count": 14,
   "metadata": {},
   "outputs": [
    {
     "data": {
      "text/plain": [
       "{'R0081872'}"
      ]
     },
     "execution_count": 14,
     "metadata": {},
     "output_type": "execute_result"
    }
   ],
   "source": [
    "\n",
    "req_id_list = ['R0064735', 'R0076820', 'R0077058', 'R0077542', 'R0077706', 'R0078198', 'R0078199', 'R0078288', 'R0080075', 'R0080544',\n",
    "               'R0080747', 'R0080789', 'R0081143', 'R0081872']\n",
    "mask_series = hunting_df['Job Requisition ID'].isin(req_id_list)\n",
    "set(req_id_list) - set(hunting_df[mask_series]['Job Requisition ID'])"
   ]
  },
  {
   "cell_type": "code",
   "execution_count": 39,
   "metadata": {},
   "outputs": [
    {
     "name": "stdout",
     "output_type": "stream",
     "text": [
      "\n",
      "-------------------------\n",
      "\n",
      "Mobile Technology Specialist (Back End Developer Mid)\n",
      "The Challenge:\n",
      "Are you looking for an opportunity to build a powerhouse system that will modernize mobile technology systems? You know a good iOS application is more than just a nice looking interface + data. You use the right combination of clean code, APIs, analytics, and infrastructure to build a user focused solution.\n",
      "\n",
      "As a mobile technology developer on our team, you'll execute on solutions that will help your customer overcome their most difficult challenges using the latest architectural approaches open architecture with web services and mobile applications capable of geospatially rendering, visualizing, and searching connected data repositories. As part of our development team, you'll create custom applications with consistent performance and scalability. You'll directly impact forward deployed soldiers by developing capabilities that enable organizations to use mobile platforms to achieve their missions. With mentoring, positive code reviews, and opportunities to learn new tools and skills, we focus on growing as a team to make the best solutions for our customers. Join us as we build systems to change deployed mobile technology for the better. This position includes work that will be completed internationally, including the MENA region. \n",
      "\n",
      "Empower change with us.\n",
      "\n",
      "You Have:\n",
      "4+ years of experience with developing mobile technology solutions\n",
      "Experience with iOS development\n",
      "Ability to develop in a XAMARIN coding environment \n",
      "Ability to code in C#\n",
      "Ability to deploy internationally for up to 12 months at the time\n",
      "Secret clearance\n",
      "HS diploma or GED\n",
      "\n",
      "Nice If You Have:\n",
      "BA or BS degree in a Science, Technology, Engineering, or Mathematics field preferred\n",
      "Mobile Development Certification, including MTA Mobile Development Fundamentals\n",
      "\n",
      "Clearance:\n",
      "Applicants selected will be subject to a security investigation and may need to meet eligibility requirements for access to classified information; Secret clearance is required.\n",
      " \n",
      "Build Your Career:\n",
      "A challenging and dynamic work environment isn't all we have to offer. When you join Booz Allen, you'll have access to:\n",
      "experts in virtually every field\n",
      "a culture that focuses on supporting our employees\n",
      "opportunities that provide stability while offering variety\n",
      " \n",
      "You'll also be exposed to a wealth of training resources through our Digital University, an online learning portal featuring more than 5000 functional and technical courses, certifications, and books. Build your technical skills through hands-on training on the latest tools and tech from our in-house experts. Pursuing certifications that directly impact your role? You may be able to take advantage of our tuition assistance, on-site bootcamps, certification training, academic programs, vendor relationships, and a network of professionals who can give you helpful tips. We'll help you develop the career you want as you chart your own course for success.\n",
      "\n",
      "-------------------------\n",
      "\n",
      "Mobile Technology Specialist (Back End Developer Mid)\n",
      "The Challenge:\n",
      "Are you looking for an opportunity to build a powerhouse system that will modernize mobile technology systems? You know a good Android application is more than just a nice looking interface + data. You use the right combination of clean code, APIs, analytics, and infrastructure to build a user focused solution.\n",
      "\n",
      "As a mobile technology developer on our team, you'll execute on solutions that will help your customer overcome their most difficult challenges using the latest architectural approaches open architecture with web services and mobile applications capable of geospatially rendering, visualizing, and searching connected data repositories. As part of our development team, you'll create custom applications with consistent performance and scalability. You'll directly impact forward deployed soldiers by developing capabilities that enable organizations to use mobile platforms to achieve their missions. With mentoring, positive code reviews, and opportunities to learn new tools and skills, we focus on growing as a team to make the best solutions for our customers. Join us as we build systems to change deployed mobile technology for the better. This position includes work that will be completed internationally, including the MENA region.\n",
      "\n",
      "Empower change with us.\n",
      "\n",
      "You Have:\n",
      "-4+ years of experience with developing mobile technology solutions\n",
      "-Experience with Android development\n",
      "-Ability to develop in XAMARIN coding environment \n",
      "-Ability to code in C#\n",
      "-Ability to deploy internationally for up to 12 months at the time\n",
      "-Secret clearance\n",
      "-High school diploma or GED\n",
      "\n",
      "Nice If You Have:\n",
      "-BA or BS degree in a Science, Technology, Engineering, or Mathematics field preferred\n",
      "-Mobile Development Certification, including MTA Mobile Development Fundamentals\n",
      "\n",
      "Clearance:\n",
      "Applicants selected will be subject to a security investigation and may need to meet eligibility requirements for access to classified information.\n",
      "\n",
      "Build Your Career:\n",
      "A challenging and dynamic work environment isn't all we have to offer. When you join Booz Allen, you'll have access to:\n",
      "experts in virtually every field\n",
      "a culture that focuses on supporting our employees\n",
      "opportunities that provide stability while offering variety\n",
      "You'll also be exposed to a wealth of training resources through our Digital University, an online learning portal featuring more than 5000 functional and technical courses, certifications, and books. Build your technical skills through hands-on training on the latest tools and tech from our in-house experts. Pursuing certifications that directly impact your role? You may be able to take advantage of our tuition assistance, on-site bootcamps, certification training, academic programs, vendor relationships, and a network of professionals who can give you helpful tips. We'll help you develop the career you want as you chart your own course for success.\n",
      "\n",
      "-------------------------\n",
      "\n",
      "Information Security Engineer, Mid (Cyber Compliance & Risk Management Mid)\n",
      "Key Role:\n",
      "Conduct and support the missions' Cyber risk assessments and provide guidance to the networks to remain compliant. Work with experts to identify the right mix of tools and techniques to translate the client's needs and future goals into a plan that will enable secure and effective solutions. Take a critical approach to network and system design, providing alternatives and customizing solutions to maintain a balance of security and mission needs. Assist the client with overcoming difficult challenges by integrating secure practices, including risk management and mitigation, defense-in-depth, threat analysis, and Cyber continuous monitoring while making a difference in the security of the modern warfighter. Gain experience in C4I, Cyber engineering, enterprise networks and systems, Cyber test and evaluation, and Cyber risk assessment while building peace of mind in a critical infrastructure. This position requires work that will be completed internationally, including the MENA region.\n",
      "\n",
      "Basic Qualifications:\n",
      "-Knowledge of the Government Authorization and Accreditation process, including the Risk Management Framework (RMF)\n",
      "-Knowledge of mobile and software development processes to conduct security reviews\n",
      "-Knowledge of vulnerability scanners and associated reports\n",
      "-Ability to deploy internationally for up to 12 months at the time\n",
      "-Secret clearance\n",
      "-HS diploma or GED\n",
      "\n",
      "Additional Qualifications:\n",
      "-4+ years of experience as an information security engineer\n",
      "-Experience with authentications methods, including Kerberos, ADFS, and PKI and establishing two-way LDAP, Forrest Trust, ADFS, or PKI\n",
      "-Experience with performing analysis, design, and development of security features for system architectures\n",
      "-Experience with designing, developing, engineering, and implementing solutions that meet security requirements\n",
      "-Experience with developing and implementing information assurance and security standards and procedures\n",
      "-Experience with coordinating, developing, and evaluating security programs for an organization\n",
      "-Experience with recommending information assurance and security solutions to support the client's requirements\n",
      "-Experience with resolving security violations\n",
      "-Experience with establishing and satisfying information assurance and security requirements based on the analysis of user, policy, regulatory, and resource demands\n",
      "-Experience with performing vulnerability and risk analyses of computer systems and applications during all phases of the system development life cycle\n",
      "-Knowledge of Cybersecurity specifications, including RMF, DIACAP, STIGs, and other government security specifications and guidelines\n",
      "-BA or BS degree preferred\n",
      "-8570, Systems Security Certified Practitioner (SSCP), or CompTIA Advance Security Practitioner (CASP) Certification\n",
      "\n",
      "Clearance:\n",
      "Applicants selected will be subject to a security investigation and may need to meet eligibility requirements for access to classified information; Secret clearance is required.\n",
      "\n",
      "-------------------------\n",
      "\n",
      "UI, UX, Front-end Developer (Front End Developer Mid)\n",
      "The Challenge:\n",
      "Are you looking for an opportunity to create an amazing user experience? The right interface can make an application easy to use, encourage early adoption, and save time and resources. We re looking for you, a developer who will use equal parts skill and vision to build an experience that delivers functionality and efficiency.\n",
      "\n",
      "This is an opportunity to contribute to a project that meets customer challenges by collaborating with the development team to build applications with user centric design. You ll work with a team of UI/UX designers and developers to create a seamless user experience. You ll develop your skills and learn how to ensure accessibility for all users by developing a front-end that functions across browsers, platforms, and devices while meeting accessibility and security requirements. With mentoring, positive code reviews, and opportunities to learn new tools and skills, we focus on growing as a team to make the best solutions for our customers. Join us as we build systems to change client missions for the better. This position may have an overseas work location requiring a one-year commitment.\n",
      "\n",
      "Empower change with us.\n",
      "\n",
      "You Have:\n",
      "-Experience with designing, building, and maintaining highly reusable JavaScript, HTML, and CSS code\n",
      "-Experience with proposing UI and UX strategies based on clients goals\n",
      "-Experience with creating and maintaining digital assets, including interface design files, wireframes, and interactive mockups\n",
      "-Knowledge of CSS, CSS extension languages, including Less and Sass, and CSS preprocessor tools\n",
      "-Knowledge of HTML5 and its best practices\n",
      "-Knowledge of the limitations of technologies and provide technical advice for overcoming them\n",
      "-Secret clearance\n",
      "-HS diploma or GED\n",
      "\n",
      "Nice If You Have:\n",
      "-3+ years of experience as a UI/UX designer\n",
      "-Knowledge of HTML5 and its best practices\n",
      "-Experience with JavaScript and design principles, including plugins and node packages\n",
      " \n",
      "Clearance:\n",
      "Applicants selected will be subject to a security investigation and may need to meet eligibility requirements for access to classified information; Secret clearance is required.\n",
      "\n",
      "Build Your Career:\n",
      "A challenging and dynamic work environment isn t all we have to offer. When you join Booz Allen, you ll have access to:\n",
      "experts in virtually every field\n",
      "a culture that focuses on supporting our employees\n",
      "opportunities that provide stability while offering variety\n",
      "You ll also be exposed to a wealth of training resources through our Digital University, an online learning portal featuring more than 5000 functional and technical courses, certifications, and books. Build your technical skills through hands-on training on the latest tools and tech from our in-house experts. Pursuing certifications that directly impact your role? You may be able to take advantage of our tuition assistance, onsite boot camps, certification training, academic programs, vendor relationships, and a network of professionals who can give you helpful tips. We ll help you develop the career you want as you chart your own course for success.\n",
      "\n",
      "-------------------------\n",
      "\n",
      "Cloud Engineer (Cloud Engineer Mid)\n",
      "The Challenge:\n",
      "We have the technology, but do we know how to use it? In an industry where cloud is sometimes synonymous with genie, it's important to have someone on your team who knows how to engineer cloud based and hybrid on-premise/cloud based solutions. That's why we need you, an engineer who knows how hardware and software components fit together and integrate with cloud based resources, to help us modernize warfighter communication.\n",
      "\n",
      "As a cloud engineer on our team, you'll manage and maintain Microsoft Azure cloud computing solutions. Obtain, connect, secure, develop, and optimize resources and applications in cloud environments. Develop and implement secure, compliant, and scalable cloud computing environments. Design, implement, schedule, test, and deploy full features and components of solutions. Responsible for quality delivery of software through thorough testing and reviews. You'll recommend tools and capabilities based on your research of the current environment and knowledge of various on-premise, cloud-based, and hybrid resources. You'll work with team to inform strategy and architecture design. This is an opportunity to stay on top of the latest cloud resources as you prototype using multiple techniques and new technologies. You'll be able to gain experience in cloud technologies while developing critical systems for the warfighter. Join our team as we transform the warfighters tools by taking advantage of cloud technology. This position will be completed in CONUS and may require international travel, including travel to the MENA region.\n",
      "\n",
      "Empower change with us.\n",
      "\n",
      "You Have:\n",
      "3+ years experience with designing and implementing enterprise infrastructure and platforms required for Cloud computing\n",
      "Experience with Cloud solutions, including Microsoft Azure\n",
      "Ability to travel internationally\n",
      "Active Secret clearance\n",
      "HS diploma or GED\n",
      "\n",
      "Nice If You Have:\n",
      "Experience with Cloud SDKs, Cloud CLIs, Cloud Services, OS level scripting, Jenkins, Configuration Management tools, including Ansible, Messaging/Service bus, API Management Services, Serverless, Service-oriented Architecture implementations, including SOA and microservices, containers, database as a service, including SQL and NoSQL, Platform Services (PaaS), continuous integration, or quality assurance\n",
      "Experience with cloud automation tools, including Chef, Puppet, PowerShell, or AWS\n",
      "Experience with developing security compliant solutions in accordance with DoD IA standards\n",
      "Experience with developing and implementing Cloud computing environments.\n",
      "\n",
      "Clearance:\n",
      "Applicants selected will be subject to a security investigation and may need to meet eligibility requirements for access to classified information; Secret clearance is required.\n",
      "\n",
      "Build Your Career:\n",
      "A challenging and dynamic work environment isn't all we have to offer. When you join Booz Allen, you'll have access to:\n",
      "experts in virtually every field\n",
      "a culture that focuses on supporting our employees\n",
      "opportunities that provide stability while offering variety\n",
      "\n",
      "You'll also be exposed to a wealth of training resources through our Digital University, an online learning portal featuring more than 5000 functional and technical courses, certifications, and books. Build your technical skills through hands-on training on the latest tools and tech from our in-house experts. Pursuing certifications that directly impact your role? You may be able to take advantage of our tuition assistance, on-site bootcamps, certification training, academic programs, vendor relationships, and a network of professionals who can give you helpful tips. We'll help you develop the career you want as you chart your own course for success.\n",
      "\n",
      "-------------------------\n",
      "\n",
      "Cloud Engineer (Cloud Engineer Mid)\n",
      "The Challenge:\n",
      "We have the technology, but do we know how to use it? In an industry where Cloud is sometimes synonymous with genie, it's important to have someone on your team who knows how to engineer Cloud based and hybrid on-premise/Cloud based solutions. That's why we need you, an engineer who knows how hardware and software components fit together and integrate with Cloud based resources, to help us modernize warfighter communication.\n",
      "\n",
      "As a Cloud Engineer on our team, you'll manage and maintain Microsoft Azure Cloud computing solutions. Obtain, connect, secure, develop, and optimize resources and applications in Cloud environments. Develop and implement secure, compliant, and scalable Cloud computing environments. Design, implement, schedule, test, and deploy full features and components of solutions. Responsible for quality delivery of software through thorough testing and reviews. You'll recommend tools and capabilities based on your research of the current environment and knowledge of various on-premise, Cloud-based, and hybrid resources. You'll work with team to inform strategy and architecture design. This is an opportunity to stay on top of the latest Cloud resources as you prototype using multiple techniques and new technologies. You'll be able to gain experience in Cloud technologies while developing critical systems for the warfighter. Join our team as we transform the warfighters tools by taking advantage of Cloud technology. This position will be completed in the CONUS and may require international travel, including travel to the MENA region.\n",
      "\n",
      "Empower change with us.\n",
      "\n",
      "You Have:\n",
      "3+ years of experience with designing and implementing enterprise infrastructure and platforms required for Cloud computing\n",
      "Experience with Microsoft Azure or other Cloud solutions\n",
      "Ability to travel internationally\n",
      "Secret clearance\n",
      "HS diploma or GED\n",
      "\n",
      "Nice If You Have:\n",
      "Experience with Cloud SDKs, Cloud CLIs, Cloud Services, OS level scripting, Jenkins, Configuration Management tools, including Ansible, Messaging and Service bus, API Management Services, Serverless, Service-Oriented Architecture (SOA) and microservices implementations, containers, database-as-a-service (DBaaS), including SQL and NoSQL, Platform-a- a-service (PaaS), Continuous Integration, and quality assurance (QA)\n",
      "Experience with Cloud automation tools, including Chef, Puppet, PowerShell, and AWS\n",
      "Experience with developing security compliant solutions in accordance with DoD IA standards\n",
      "Experience developing and implementing Cloud computing environments\n",
      "\n",
      "Clearance:\n",
      "Applicants selected will be subject to a security investigation and may need to meet eligibility requirements for access to classified information; Secret clearance is required.\n",
      "\n",
      "Build Your Career:\n",
      "A challenging and dynamic work environment isn't all we have to offer. When you join Booz Allen, you'll have access to:\n",
      "experts in virtually every field\n",
      "a culture that focuses on supporting our employees\n",
      "opportunities that provide stability while offering variety\n",
      "\n",
      "You'll also be exposed to a wealth of training resources through our Digital University, an online learning portal featuring more than 5000 functional and technical courses, certifications, and books. Build your technical skills through hands-on training on the latest tools and tech from our in-house experts. Pursuing certifications that directly impact your role? You may be able to take advantage of our tuition assistance, on-site bootcamps, certification training, academic programs, vendor relationships, and a network of professionals who can give you helpful tips. We'll help you develop the career you want as you chart your own course for success.\n",
      "\n",
      "-------------------------\n",
      "\n",
      "Data Engineer (Data Engineer Mid)\n",
      "Key Role:\n",
      "Support configuration and ingestion of designated structured, unstructured, and semi-structured data repositories into capabilities to satisfy mission partner requirements. Support design, implementation, and management of databases and data delivery systems for insights, analysis, and reporting. Use database design and implementation tools, such as entity-relationship data modelling and SQL, distributed computing architectures, operating systems, storage technologies, memory management and networking. Work with structured, unstructured, and semi-structured data, streaming and batch data processing, ETL, data wrangling, data ingest, and data access. This position includes work that will be completed internationally, including the MENA region.\n",
      "\n",
      "Basic Qualifications:\n",
      "-Experience with integration and visualization\n",
      "-Experience with visualization tools, including Tableau or PowerBI\n",
      "-Knowledge of Operational with SQL, NoSQL, or COSMOS databases\n",
      "-Ability to forward deploy for up to 12 months\n",
      "-TS/SCI clearance\n",
      "-HS diploma or GED\n",
      "\n",
      "Additional Qualifications:\n",
      "-4+ years of experience with analyzing and identifying data and meta data requirements\n",
      "-Experience with COSMOS\n",
      "-Experience in a Microsoft Azure Cloud environment\n",
      "-Experience with SQL, ETL, Java, Python, Elasticsearch, Hive, HBase, Business Intelligence (BI), Data Analytics, Data Architecture, Data Integration, Database Design, Database Development, Database Management, or NoSQL Databases\n",
      "-BA or BS degree in Science, Technology, Engineering, Mathematics, or a related field\n",
      "\n",
      "Clearance\n",
      "Applicants selected will be subject to a security investigation and may need to meet eligibility requirements for access to classified information; TS/SCI clearance is required.\n",
      "\n",
      "-------------------------\n",
      "\n",
      "Data Engineer (Data Engineer Mid)\n",
      "Key Role:\n",
      "Support configuration and ingestion of designated structured, unstructured, and semi-structured data repositories into capabilities to satisfy mission partner requirements. Support the design, implementation, and management of databases and data delivery systems for insights, analysis, and reporting. Use database design and implementation tools, such as entity-relationship data modelling and SQL, distributed computing architectures, operating systems, storage technologies, memory management and networking. Work with structured, unstructured, and semi-structured data, streaming and batch data processing, ETL, data wrangling, data ingest, and data access. This position includes work that will be completed internationally, including the MENA region.\n",
      "\n",
      "Basic Qualifications:\n",
      "-Experience with integration and visualization\n",
      "-Experience with visualization tools, including Tableau or PowerBI\n",
      "-Knowledge of Operational with SQL, NoSQL, or COSMOS databases\n",
      "-Ability to forward deploy for up to 12 months\n",
      "-Secret clearance\n",
      "-HS diploma or GED\n",
      "\n",
      "Additional Qualifications:\n",
      "-4+ years of experience with analyzing and identifying data and meta data requirements\n",
      "-Experience with COSMOS\n",
      "-Experience in a Microsoft Azure Cloud environment\n",
      "-Experience with SQL, ETL, Java, Python, Elasticsearch, Hive, HBase, Business Intelligence (BI), Data Analytics, Data Architecture, Data Integration, Database Design, Database Development, Database Management, or NoSQL Databases\n",
      "-BA or BS degree preferred\n",
      "\n",
      "Clearance\n",
      "Applicants selected will be subject to a security investigation and may need to meet eligibility requirements for access to classified information; Secret clearance is required.\n",
      "\n",
      "-------------------------\n",
      "\n",
      "Data Engineer (Data Engineer Mid)\n",
      "Key Role:\n",
      "Support the configuration and ingestion of designated structured, unstructured, and semi-structured data repositories into capabilities to satisfy mission partner requirements. Support design, implementation, and management of databases and data delivery systems for insights, analysis, and reporting. Leverage expertise in database design and implementation tools, including entity-relationship data modelling and SQL, distributed computing architectures, operating systems, storage technologies, memory management and networking. Apply expertise in structured, unstructured, and semi-structured data, streaming and batch data processing, extract, transform, load (ETL), data wrangling, data ingest, and data access. This position includes work that will be completed internationally, including the MENA region.\n",
      "\n",
      "Basic Qualifications:\n",
      "4+ years of experience with analyzing and identifying data and meta data requirements\n",
      "Experience with integration and visualization\n",
      "Experience with producing web-based data visualization based on customer requirements \n",
      "Experience with capabilities that include SQL, ETL, Java, Python, Elasticsearch, Hive, HBase, Business Intelligence (BI), Data Analytics, Data Architecture, Data Integration, Database Design, Database Development, Database Management, or NoSQL Database\n",
      "Ability to deploy internationally for up to 12 months at the time\n",
      "Active Secret clearance\n",
      "BA or BS degree\n",
      "\n",
      "Additional Qualifications:\n",
      "Knowledge of COSMOS\n",
      "Knowledge of the Microsoft Azure Cloud environment\n",
      "\n",
      "Clearance:\n",
      "Applicants selected will be subject to a security investigation and may need to meet eligibility requirements for access to classified information; Secret clearance is required.\n",
      "\n",
      "-------------------------\n",
      "\n",
      "Data Scientist (Data Scientist Mid)\n",
      "The Challenge:\n",
      "Are you excited at the prospect of unlocking the secrets held by a data set? Are you fascinated by the possibilities presented by the IoT, machine learning, and artificial intelligence advances? In an increasingly connected world, massive amounts of structured and unstructured data open up new opportunities. As a data scientist, you can turn these complex data sets into useful information to solve global challenges. Across private and public sectors from fraud detection, to cancer research, to national intelligence you know the answers are in the data.\n",
      "\n",
      "We have an opportunity for you to use your analytical skills to improve the warfighters capabilities. You'll work closely with your customer to understand their questions and needs, and then dig into their data-rich environment to find the pieces of their information puzzle. You'll support processing of structured, unstructured, and semi-structured data to derive patterns, trends, and correlations and enable entity extraction, disambiguation and other data-related support using appropriate data science tools and techniques. Employ techniques and theories drawn from many fields within the broad areas of mathematics, statistics, operations research, information science, and computer science, including signal processing, probability models, machine learning, statistical learning, pattern recognition and learning, predictive analytics, uncertainty modeling, and artificial intelligence. You'll provide your customer with a deep understanding of their data, what it all means, and how they can use it. Join us as we use data science for good to assist in accomplishing the mission. This position includes work that will be completed internationally, including the MENA region.\n",
      "\n",
      "Empower change with us.\n",
      "\n",
      "You Have:\n",
      "-Experience with creating Web-based visualizations\n",
      "-Experience with developing front-end software for data visualizations or data entry\n",
      "-Ability to forward deploy for up to 12 months\n",
      "-Secret clearance\n",
      "-BA or BS degree\n",
      "\n",
      "Nice If You Have:\n",
      "-3+ years of experience as a data scientist\n",
      "-Experience with development, modification, and application of computer modeling and programming applications to analyze and solve mathematical and scientific problems\n",
      "-Experience with building statistical models and developing machine learning algorithms\n",
      "-Experience in working with a Data Scientist team\n",
      "-Experience with programming languages, including Python, R, Scala, and Java\n",
      "-Experience with big data technologies, including HDFS, Hadoop, and Spark\n",
      "-Experience with deep learning paradigms and frameworks\n",
      "-Ability to convert data into a business story\n",
      "-Possession of excellent data visualization skills\n",
      "\n",
      "Clearance:\n",
      "Applicants selected will be subject to a security investigation and may need to meet eligibility requirements for access to classified information; Secret clearance is required.\n",
      "\n",
      "Build Your Career:\n",
      " At Booz Allen, we know the power of analytics and we're dedicated to helping you grow as a data analysis professional. When you join Booz Allen, you'll have the chance to:\n",
      "access online and onsite training in data analysis and presentation methodologies, and tools like Hortonworks, Docker, Tableau, and Splunk\n",
      "change the world with the Data Science Bowl the world's premier data science for social good competition\n",
      "participate in partnerships with data science leaders, like our partnership with NVIDIA to deliver Deep Learning Institute (DLI) training to the federal government\n",
      "\n",
      "You'll have access to a wealth of training resources through our Analytics University, an online learning portal specifically geared towards data science and analytics skills, where you can access more than 5000 functional and technical courses, certifications, and books. Build your technical skills through hands-on training on the latest tools and state-of-the-art tech from our in-house experts. Pursuing certifications that directly impact your role? You may be able to take advantage of our tuition assistance, onsite boot camps, certification training, academic programs, vendor relationships, and a network of professionals who can give you helpful tips. We'll help you develop the career you want as you chart your own course for success.\n",
      "\n",
      "-------------------------\n",
      "\n",
      "Software Developer (Full Stack Developer Mid)\n",
      "The Challenge:\n",
      "Are you looking for an opportunity to not just develop software, but to build a system that will have a positive impact? As a software developer, you can solve a problem with a complete end-to-end solution in a fast-paced, agile environment. We're looking for a developer with the skills needed to Develop and integrate mission IT solutions. Facilitate collaboration, development, integration and testing support. Design and build product deliverables according to specifications, escalate technical design or specification issues to task manager, and work within a given time frame to complete coding. Execute good development practices and software development life cycle methodologies throughout product development. This position includes work that will be completed internationally, including the MENA region.\n",
      "\n",
      "Empower change with us.\n",
      "\n",
      "You Have:\n",
      "4+ years of experience as a software developer\n",
      "Knowledge of statistical analysis tools such as R, Python, and Pandas\n",
      "Ability to deploy internationally for up to 12 months at the time\n",
      "Secret clearance\n",
      "HS diploma or GED\n",
      "\n",
      "Nice If You Have:\n",
      "Experience with Web Application Development using Java or similar technologies\n",
      "Experience with RDBMS/NoSQL database development using SQL and REST APIs\n",
      "Knowledge of user interface design using technologies such as HTML, XML, JavaScript and Angular/React\n",
      "Ability to diagnose application issues in source code, network communication, web-service processing, relational database design, and web-service interactions\n",
      "Possession of excellent analytical skills and technical skills to develop web applications\n",
      "BA or BS degree preferred\n",
      "\n",
      "Clearance: \n",
      "Applicants selected will be subject to a security investigation and may need to meet eligibility requirements for access to classified information.\n",
      "\n",
      "Build Your Career:\n",
      "A challenging and dynamic work environment isn't all we have to offer. When you join Booz Allen, you'll have access to:\n",
      "experts in virtually every field\n",
      "a culture that focuses on supporting our employees\n",
      "opportunities that provide stability while offering variety\n",
      "\n",
      "You'll also be exposed to a wealth of training resources through our Digital University, an online learning portal featuring more than 5000 functional and technical courses, certifications, and books. Build your technical skills through hands-on training on the latest tools and tech from our in-house experts. Pursuing certifications that directly impact your role? You may be able to take advantage of our tuition assistance, on-site bootcamps, certification training, academic programs, vendor relationships, and a network of professionals who can give you helpful tips. We'll help you develop the career you want as you chart your own course for success.\n"
     ]
    }
   ],
   "source": [
    "\n",
    "for req_id in req_id_list:\n",
    "    mask_series = (hunting_df['Job Requisition ID'] == req_id)\n",
    "    Job_Posting_Title = hunting_df[mask_series]['Job Posting Title'].squeeze()\n",
    "    Business_Title = hunting_df[mask_series]['Business Title'].squeeze()\n",
    "    job_description = hunting_df[mask_series]['Job Description'].squeeze()\n",
    "    print()\n",
    "    print('-------------------------')\n",
    "    print()\n",
    "    print('{} ({})'.format(Job_Posting_Title, Business_Title))\n",
    "    print(job_description)"
   ]
  },
  {
   "cell_type": "code",
   "execution_count": 42,
   "metadata": {},
   "outputs": [
    {
     "name": "stdout",
     "output_type": "stream",
     "text": [
      "\n",
      "Job Posting\n",
      "{'Data Scientist', 'Data Engineer', 'UI, UX, Front-end Developer', 'Software Developer', 'Information Security Engineer, Mid', 'Mobile Technology Specialist', 'Cloud Engineer'}\n",
      "\n",
      "Job Requisition\n",
      "{'R0073575 Cloud Engineer (Open)', 'R0073585 Data Scientist (Open)', 'R0073581 Information Security Engineer, Mid (Open)', 'R0073556 Mobile Technology Specialist (Open)', 'R0073559 Mobile Technology Specialist (Open)', 'R0073586 Software Developer (Open)', 'R0073564 Data Engineer (Open)', 'R0073584 Data Engineer (Open)', 'R0073583 Data Engineer (Open)', 'R0073576 Cloud Engineer (Open)', 'R0078875 UI, UX, Front-end Developer (Open)'}\n",
      "\n",
      "Job Requisition Status\n",
      "{'Open'}\n",
      "\n",
      "Furthest Stage\n",
      "{'Interview', 'Review'}\n",
      "\n",
      "Supervisory Organization\n",
      "{'Supervisory Organization (John Brandom (568067))'}\n",
      "\n",
      "Group\n",
      "{'GLOBAL DEFENSE GROUP'}\n",
      "\n",
      "Account Group\n",
      "{'JCC ACCT GROUP'}\n",
      "\n",
      "IMT\n",
      "{'JCC IMT'}\n",
      "\n",
      "Cluster\n",
      "{'Fayetteville Cluster'}\n",
      "\n",
      "Primary Recruiter\n",
      "{'Alexander Mosiniak (900620)[C]'}\n",
      "\n",
      "Resource Manager\n",
      "{'Beth Mellott (510067)', 'Georgina Young (571669)'}\n",
      "\n",
      "Hiring Manager\n",
      "{'John Brandom (568067)'}\n",
      "\n",
      "Job Posting Title\n",
      "{'Data Scientist', 'Data Engineer', 'UI, UX, Front-end Developer', 'Software Developer', 'Information Security Engineer, Mid', 'Mobile Technology Specialist', 'Cloud Engineer'}\n",
      "\n",
      "Job Profile\n",
      "{'Data Scientist Mid', 'Front End Developer Mid', 'Cyber Compliance & Risk Management Mid', 'Full Stack Developer Mid', 'Cloud Engineer Mid', 'Back End Developer Mid', 'Data Engineer Mid'}\n",
      "\n",
      "Job Requisition Type\n",
      "{'Sold and Funded'}\n",
      "\n",
      "Management Level\n",
      "{'Senior Consultant'}\n",
      "\n",
      "Primary Location\n",
      "{'USA, NC, Fayetteville (4140 Ramsey St)', 'USA, NC, Fayetteville (4200 Morganton Rd Suite 300)'}\n",
      "\n",
      "Primary Location State/Province\n",
      "{'North Carolina'}\n",
      "\n",
      "Primary Location Country\n",
      "{'United States of America'}\n",
      "\n",
      "Required Clearance\n",
      "{'Secret', 'TS/SCI'}\n",
      "\n",
      "Clearance Agency\n",
      "{'DOD SCI', 'DOD'}\n",
      "\n",
      "Time Type\n",
      "{'Full time'}\n",
      "\n",
      "Recruiting Start Date\n",
      "{'11/20/2019', '2020-02-14'}\n",
      "\n",
      "Job Type\n",
      "{'Regular'}\n",
      "\n",
      "Job Family\n",
      "{'Data Scientist', 'Software Engineering', 'Digital Platforms', 'Data Engineering', 'Cyber Compliance & Risk Management'}\n",
      "\n",
      "Business Title\n",
      "{'Data Scientist Mid', 'Front End Developer Mid', 'Cyber Compliance & Risk Management Mid', 'Full Stack Developer Mid', 'Cloud Engineer Mid', 'Back End Developer Mid', 'Data Engineer Mid'}\n",
      "\n",
      "Job Family Group\n",
      "{'Consulting & Mission Operations', 'Technology'}\n"
     ]
    }
   ],
   "source": [
    "\n",
    "mask_series = hunting_df['Job Requisition ID'].isin(req_id_list)\n",
    "columns_list = ['Job Description', 'Job Requisition ID', 'Job Profile Skills',\n",
    "                'is_opportunity_application_emailed',\n",
    "                'opportunity_application_email_date', 'is_remote_delivery',\n",
    "                'manager_notes', 'CS Notes', 'percent_fit']\n",
    "for column_name, idx_dict in hunting_df[mask_series].to_dict().items():\n",
    "    if column_name not in columns_list:\n",
    "        print()\n",
    "        print(column_name)\n",
    "        print(set(idx_dict.values()))"
   ]
  },
  {
   "cell_type": "code",
   "execution_count": 41,
   "metadata": {},
   "outputs": [
    {
     "data": {
      "text/html": [
       "<div>\n",
       "<style scoped>\n",
       "    .dataframe tbody tr th:only-of-type {\n",
       "        vertical-align: middle;\n",
       "    }\n",
       "\n",
       "    .dataframe tbody tr th {\n",
       "        vertical-align: top;\n",
       "    }\n",
       "\n",
       "    .dataframe thead th {\n",
       "        text-align: right;\n",
       "    }\n",
       "</style>\n",
       "<table border=\"1\" class=\"dataframe\">\n",
       "  <thead>\n",
       "    <tr style=\"text-align: right;\">\n",
       "      <th></th>\n",
       "      <th>Job Posting Title</th>\n",
       "      <th>percent_fit</th>\n",
       "      <th>Furthest Stage</th>\n",
       "    </tr>\n",
       "  </thead>\n",
       "  <tbody>\n",
       "    <tr>\n",
       "      <th>1048</th>\n",
       "      <td>Mobile Technology Specialist</td>\n",
       "      <td>0.428571</td>\n",
       "      <td>Review</td>\n",
       "    </tr>\n",
       "    <tr>\n",
       "      <th>1049</th>\n",
       "      <td>Mobile Technology Specialist</td>\n",
       "      <td>0.428571</td>\n",
       "      <td>Review</td>\n",
       "    </tr>\n",
       "    <tr>\n",
       "      <th>860</th>\n",
       "      <td>Information Security Engineer, Mid</td>\n",
       "      <td>0.500000</td>\n",
       "      <td>Review</td>\n",
       "    </tr>\n",
       "    <tr>\n",
       "      <th>4238</th>\n",
       "      <td>UI, UX, Front-end Developer</td>\n",
       "      <td>0.500000</td>\n",
       "      <td>Review</td>\n",
       "    </tr>\n",
       "    <tr>\n",
       "      <th>191</th>\n",
       "      <td>Cloud Engineer</td>\n",
       "      <td>0.600000</td>\n",
       "      <td>Interview</td>\n",
       "    </tr>\n",
       "    <tr>\n",
       "      <th>190</th>\n",
       "      <td>Cloud Engineer</td>\n",
       "      <td>0.800000</td>\n",
       "      <td>Review</td>\n",
       "    </tr>\n",
       "    <tr>\n",
       "      <th>426</th>\n",
       "      <td>Data Engineer</td>\n",
       "      <td>0.833333</td>\n",
       "      <td>Review</td>\n",
       "    </tr>\n",
       "    <tr>\n",
       "      <th>427</th>\n",
       "      <td>Data Engineer</td>\n",
       "      <td>0.833333</td>\n",
       "      <td>Review</td>\n",
       "    </tr>\n",
       "    <tr>\n",
       "      <th>428</th>\n",
       "      <td>Data Engineer</td>\n",
       "      <td>0.857143</td>\n",
       "      <td>Review</td>\n",
       "    </tr>\n",
       "    <tr>\n",
       "      <th>475</th>\n",
       "      <td>Data Scientist</td>\n",
       "      <td>1.000000</td>\n",
       "      <td>Interview</td>\n",
       "    </tr>\n",
       "    <tr>\n",
       "      <th>1390</th>\n",
       "      <td>Software Developer</td>\n",
       "      <td>1.000000</td>\n",
       "      <td>Interview</td>\n",
       "    </tr>\n",
       "  </tbody>\n",
       "</table>\n",
       "</div>"
      ],
      "text/plain": [
       "                       Job Posting Title  percent_fit Furthest Stage\n",
       "1048        Mobile Technology Specialist     0.428571         Review\n",
       "1049        Mobile Technology Specialist     0.428571         Review\n",
       "860   Information Security Engineer, Mid     0.500000         Review\n",
       "4238         UI, UX, Front-end Developer     0.500000         Review\n",
       "191                       Cloud Engineer     0.600000      Interview\n",
       "190                       Cloud Engineer     0.800000         Review\n",
       "426                        Data Engineer     0.833333         Review\n",
       "427                        Data Engineer     0.833333         Review\n",
       "428                        Data Engineer     0.857143         Review\n",
       "475                       Data Scientist     1.000000      Interview\n",
       "1390                  Software Developer     1.000000      Interview"
      ]
     },
     "execution_count": 41,
     "metadata": {},
     "output_type": "execute_result"
    }
   ],
   "source": [
    "\n",
    "columns_list = ['Job Posting Title', 'percent_fit', 'Furthest Stage']\n",
    "hunting_df[mask_series][columns_list].sort_values('percent_fit')"
   ]
  },
  {
   "cell_type": "code",
   "execution_count": null,
   "metadata": {},
   "outputs": [],
   "source": [
    "\n",
    "from datetime import datetime\n",
    "\n",
    "# Manually note when the email has been sent\n",
    "req_id = 'R0071707'.strip()\n",
    "mask_series = (hunting_df['Job Requisition ID'] == req_id)\n",
    "date_str = '3/16/2020 11:58 AM'\n",
    "date_format = '%m/%d/%Y %H:%M %p'\n",
    "date_obj = datetime.strptime(date_str, date_format)\n",
    "print((datetime.now() - date_obj).days)\n",
    "hunting_df.loc[mask_series, 'opportunity_application_email_date'] = pd.Timestamp(date_obj)\n",
    "s.store_objects(hunting_df=hunting_df)\n",
    "last_emailed_dict = s.load_object('last_emailed_dict')\n",
    "row_series = hunting_df.loc[mask_series].iloc[0]\n",
    "hm_str = row_series['Hiring Manager']\n",
    "hm_email = clean_email(hm_str)\n",
    "pr_str = row_series['Primary Recruiter']\n",
    "pr_email = clean_email(pr_str)\n",
    "email_tuple = (hm_email, pr_email)\n",
    "print(email_tuple)\n",
    "for email in email_tuple:\n",
    "    if not email in last_emailed_dict:\n",
    "        last_emailed_dict[email] = pd.Timestamp(date_obj)\n",
    "s.store_objects(last_emailed_dict=last_emailed_dict)"
   ]
  },
  {
   "cell_type": "code",
   "execution_count": null,
   "metadata": {},
   "outputs": [],
   "source": [
    "\n",
    "print(\"Here's the managers and recruiters I have spammed in the last two weeks (and the last time I spammed them):\")\n",
    "emails_list = sorted(['{}: {}'.format(key, value.strftime('%B %d')) for key, value in last_emailed_dict.items()])\n",
    "print('\\n'.join(emails_list))"
   ]
  },
  {
   "cell_type": "code",
   "execution_count": null,
   "metadata": {},
   "outputs": [],
   "source": [
    "\n",
    "last_emailed_dict['Lee, David [USA] <544006@bah.com>'] = pd.Timestamp(date_obj)\n",
    "last_emailed_dict['Nida, Lori [USA] <594683@bah.com>'] = pd.Timestamp(date_obj)\n",
    "s.store_objects(last_emailed_dict=last_emailed_dict)"
   ]
  },
  {
   "cell_type": "code",
   "execution_count": null,
   "metadata": {},
   "outputs": [],
   "source": [
    "\n",
    "print_emails(mask_series)"
   ]
  },
  {
   "cell_type": "code",
   "execution_count": null,
   "metadata": {},
   "outputs": [],
   "source": [
    "\n",
    "req_id = 'R0080544'\n",
    "mask_series = (hunting_df['Job Requisition ID'] == req_id)\n",
    "hunting_df.loc[mask_series, 'manager_notes'].tolist()[0]"
   ]
  },
  {
   "cell_type": "code",
   "execution_count": null,
   "metadata": {},
   "outputs": [],
   "source": [
    "\n",
    "print(hunting_df.groupby('is_opportunity_application_emailed').count().T.max().sort_values(ascending=False))"
   ]
  },
  {
   "cell_type": "code",
   "execution_count": null,
   "metadata": {},
   "outputs": [],
   "source": [
    "\n",
    "print(hunting_df.groupby('is_remote_delivery').count().T.max().sort_values(ascending=False))"
   ]
  },
  {
   "cell_type": "code",
   "execution_count": null,
   "metadata": {},
   "outputs": [],
   "source": [
    "\n",
    "def f(x):\n",
    "    if ('RAZOR' in x):\n",
    "        match = True\n",
    "    else:\n",
    "        match = False\n",
    "    \n",
    "    return match\n",
    "mask_series = hunting_df['Job Description'].map(f)\n",
    "if hunting_df[mask_series].shape[0] > 0:\n",
    "    print(hunting_df[mask_series].shape)\n",
    "    print(hunting_df[mask_series].groupby('Required Clearance').count().T.max().sort_values(ascending=False))\n",
    "    hunting_df[mask_series].head(5).T"
   ]
  },
  {
   "cell_type": "code",
   "execution_count": null,
   "metadata": {},
   "outputs": [],
   "source": [
    "\n",
    "hunting_df.columns.tolist()"
   ]
  },
  {
   "cell_type": "code",
   "execution_count": null,
   "metadata": {},
   "outputs": [],
   "source": [
    "\n",
    "mask_series = (hunting_df['is_remote_delivery'] == True) & (hunting_df['is_opportunity_application_emailed'] == True)\n",
    "columns_list = ['Management Level', 'Job Posting Title', 'Job Profile', 'Job Family Group', 'Primary Location',\n",
    "                'percent_fit']\n",
    "df = hunting_df[mask_series][columns_list].copy()\n",
    "df.columns = ['Level', 'Title', 'Profile', 'Group', 'Location', 'Fit']\n",
    "df.sort_values(['Fit', 'Title'], ascending=[False, True])"
   ]
  },
  {
   "cell_type": "code",
   "execution_count": null,
   "metadata": {},
   "outputs": [],
   "source": [
    "\n",
    "req_id = 'R0079210'\n",
    "print_job_description(req_id)"
   ]
  },
  {
   "cell_type": "code",
   "execution_count": null,
   "metadata": {},
   "outputs": [],
   "source": [
    "\n",
    "def f(x):\n",
    "    if re.search(r'\\bIAT\\b', str(x)):\n",
    "        results = True\n",
    "    else:\n",
    "        results = False\n",
    "    \n",
    "    return results\n",
    "\n",
    "mask_series = basic_quals_df.qualification_str.map(f)\n",
    "for qual in basic_quals_df[mask_series].qualification_str.tolist():\n",
    "    print('•\\t{} = {}'.format(qual, basic_quals_dict[qual]))"
   ]
  },
  {
   "cell_type": "code",
   "execution_count": null,
   "metadata": {},
   "outputs": [],
   "source": [
    "\n",
    "basic_quals_dict['Ability to operate independently and manage staff'] = 0\n",
    "s.store_objects(basic_quals_dict=basic_quals_dict)"
   ]
  },
  {
   "cell_type": "code",
   "execution_count": null,
   "metadata": {},
   "outputs": [],
   "source": [
    "\n",
    "req_id = 'R0079210'\n",
    "mask_series = (hunting_df['Job Requisition ID'] == req_id)\n",
    "print(hunting_df[mask_series]['percent_fit'].tolist())\n",
    "for row_index, row_series in hunting_df[mask_series].iterrows():\n",
    "    quals_list, job_fitness = print_fit_job(row_index, row_series, basic_quals_dict)"
   ]
  },
  {
   "cell_type": "code",
   "execution_count": null,
   "metadata": {},
   "outputs": [],
   "source": [
    "\n",
    "hunting_df.loc[504, 'percent_fit'] = (1+1+1+1+0+1+1)/7\n",
    "s.store_objects(hunting_df=hunting_df)"
   ]
  },
  {
   "cell_type": "code",
   "execution_count": null,
   "metadata": {},
   "outputs": [],
   "source": [
    "\n",
    "req_id_list = ['R0073564', 'R0073583', 'R0073584', 'R0073585', 'R0073586']\n",
    "mask_series = hunting_df['Job Requisition ID'].isin(req_id_list)\n",
    "hunting_df[mask_series].T"
   ]
  },
  {
   "cell_type": "code",
   "execution_count": null,
   "metadata": {},
   "outputs": [],
   "source": [
    "\n",
    "mask_series = (hunting_df.index == 437)\n",
    "print(hunting_df[mask_series]['Job Description'].tolist()[0])"
   ]
  },
  {
   "cell_type": "code",
   "execution_count": null,
   "metadata": {},
   "outputs": [],
   "source": [
    "\n",
    "mask_series = (hunting_df.percent_fit >= 0.0)\n",
    "print(hunting_df[~mask_series].sample(1)['Job Description'].tolist()[0])"
   ]
  },
  {
   "cell_type": "code",
   "execution_count": null,
   "metadata": {},
   "outputs": [],
   "source": [
    "\n",
    "#print(['hunting_df.{}'.format(fn) for fn in dir(hunting_df) if 'dup' in fn.lower()])\n",
    "mask_series = hunting_df.duplicated(subset='Job Requisition ID', keep=False)\n",
    "print(hunting_df[mask_series].shape)"
   ]
  },
  {
   "cell_type": "code",
   "execution_count": null,
   "metadata": {},
   "outputs": [],
   "source": [
    "\n",
    "columns_list = ['Hiring Manager', 'Management Level', 'IMT', 'Job Requisition', 'Job Requisition Type', 'Cluster', 'Time Type',\n",
    "                'Job Posting Title', 'Recruiting Start Date', 'Account Group', 'Job Requisition ID', 'Job Type',\n",
    "                'Supervisory Organization', 'Clearance Agency', 'Primary Location State/Province', 'Furthest Stage',\n",
    "                'Resource Manager', 'Primary Location', 'Job Description', 'Group', 'Job Profile', 'Job Family Group', 'FSO',\n",
    "                'Job Family', 'Job Requisition Status', 'Business Title', 'Job Posting', 'Primary Location Country',\n",
    "                'Required Clearance', 'Primary Recruiter']\n",
    "hunting_df = hunting_df.drop_duplicates(subset=columns_list, ignore_index=True)\n",
    "s.store_objects(hunting_df=hunting_df)"
   ]
  },
  {
   "cell_type": "code",
   "execution_count": null,
   "metadata": {},
   "outputs": [],
   "source": [
    "\n",
    "idx_list = hunting_df[mask_series].index.tolist()\n",
    "first = idx_list[0]\n",
    "second = idx_list[1]\n",
    "columns_list = []\n",
    "for column_name in hunting_df.columns:\n",
    "    if hunting_df.loc[first, column_name] == hunting_df.loc[second, column_name]:\n",
    "        columns_list.append(column_name)\n",
    "columns_list"
   ]
  },
  {
   "cell_type": "code",
   "execution_count": null,
   "metadata": {},
   "outputs": [],
   "source": [
    "\n",
    "mask_series = hunting_df.percent_fit.isnull()\n",
    "print(hunting_df[mask_series].shape)\n",
    "req_id = hunting_df.loc[481, 'Job Requisition ID']\n",
    "print_job_description(req_id)"
   ]
  },
  {
   "cell_type": "code",
   "execution_count": null,
   "metadata": {},
   "outputs": [],
   "source": [
    "\n",
    "print(['{}'.format(fn) for fn in hunting_df.columns if 'req' in fn.lower()])"
   ]
  },
  {
   "cell_type": "code",
   "execution_count": null,
   "metadata": {},
   "outputs": [],
   "source": [
    "\n",
    "key_regex = re.compile(r'([^0-9A-Za-z\\+ \\/)(:,]+)-')\n",
    "for old_key in basic_quals_dict.keys():\n",
    "    match_obj = key_regex.search(old_key)\n",
    "    if match_obj:\n",
    "        print('\"{}\": {}'.format(match_obj.group(1), old_key))\n",
    "        #new_key = re.sub('^[?â-]+', '', old_key)\n",
    "        #print(new_key)\n",
    "        #basic_quals_dict[new_key] = basic_quals_dict.pop(old_key)\n",
    "        break"
   ]
  },
  {
   "cell_type": "code",
   "execution_count": null,
   "metadata": {},
   "outputs": [],
   "source": [
    "\n",
    "key_regex = re.compile(r'\\s+$')\n",
    "old_key_list = basic_quals_dict.copy().keys()\n",
    "for old_key in old_key_list:\n",
    "    match_obj = key_regex.search(old_key)\n",
    "    if match_obj:\n",
    "        #print('\"{}\": {}'.format(match_obj.group(1), old_key))\n",
    "        new_key = re.sub(r'\\s+$', '', old_key)\n",
    "        #print(new_key)\n",
    "        basic_quals_dict[new_key] = basic_quals_dict.pop(old_key)\n",
    "        #print(old_key)\n",
    "        #break"
   ]
  },
  {
   "cell_type": "markdown",
   "metadata": {},
   "source": [
    "\n",
    "---\n",
    "# Run these to clear out the dataset for the demo"
   ]
  },
  {
   "cell_type": "code",
   "execution_count": null,
   "metadata": {
    "jupyter": {
     "source_hidden": true
    }
   },
   "outputs": [],
   "source": [
    "\n",
    "columns_list = ['Hiring Manager', 'Management Level', 'IMT', 'Job Requisition', 'Job Requisition Type', 'Cluster', 'Time Type',\n",
    "                'Job Posting Title', 'Safi Recommendation', 'Recruiting Start Date', 'Account Group', 'Job Requisition ID',\n",
    "                'Job Type', 'Supervisory Organization', 'Clearance Agency', 'Primary Location State/Province', 'Furthest Stage',\n",
    "                'Resource Manager', 'Primary Location', 'Job Description', 'Group', 'Job Profile', 'Job Family Group', 'FSO',\n",
    "                'Job Family', 'Job Requisition Status', 'Business Title', 'Job Posting', 'Primary Location Country',\n",
    "                'Required Clearance', 'Primary Recruiter', 'percent_fit', 'is_opportunity_application_emailed', 'opportunity_application_email_date',\n",
    "                'is_remote_delivery', 'manager_notes', 'CS Notes']\n",
    "hunting_df = pd.DataFrame([], columns=columns_list)"
   ]
  },
  {
   "cell_type": "code",
   "execution_count": null,
   "metadata": {
    "jupyter": {
     "source_hidden": true
    }
   },
   "outputs": [],
   "source": [
    "\n",
    "[qual_str for qual_str in basic_quals_dict if 'python' in qual_str.lower()][0]"
   ]
  },
  {
   "cell_type": "code",
   "execution_count": null,
   "metadata": {
    "jupyter": {
     "source_hidden": true
    }
   },
   "outputs": [],
   "source": [
    "\n",
    "old_key = '3 years of experience with developing software in object-oriented and scripting languages, including MATLAB, C/C++, and Python'\n",
    "if old_key in basic_quals_dict:\n",
    "    basic_quals_dict.pop(old_key)\n",
    "req_id_list = ['R0069317']\n",
    "mask_series = hunting_df['Job Requisition ID'].isin(req_id_list)\n",
    "hunting_df.loc[mask_series, 'percent_fit'] = np.nan"
   ]
  },
  {
   "cell_type": "markdown",
   "metadata": {},
   "source": [
    "\n",
    "---\n",
    "# Emailing"
   ]
  },
  {
   "cell_type": "code",
   "execution_count": null,
   "metadata": {},
   "outputs": [],
   "source": [
    "\n",
    "import win32com.client\n",
    "\n",
    "outlook = win32com.client.Dispatch('Outlook.Application').GetNamespace('MAPI')\n",
    "print(['outlook.{}'.format(fn) for fn in dir(outlook) if not fn.startswith('_')])"
   ]
  },
  {
   "cell_type": "markdown",
   "metadata": {},
   "source": [
    "\n",
    "---\n",
    "# Manually score unscored jobs"
   ]
  },
  {
   "cell_type": "code",
   "execution_count": null,
   "metadata": {},
   "outputs": [],
   "source": [
    "\n",
    "hunting_df.loc[436, 'percent_fit'] = (0+1+1+1+1+1)/6\n",
    "s.store_objects(hunting_df=hunting_df)"
   ]
  },
  {
   "cell_type": "markdown",
   "metadata": {},
   "source": [
    "\n",
    "---\n",
    "# Study of the Safi recommendations"
   ]
  },
  {
   "cell_type": "code",
   "execution_count": null,
   "metadata": {},
   "outputs": [],
   "source": [
    "\n",
    "import random\n",
    "\n",
    "mask_series = (hunting_df['Safi Recommendation'] == 1)\n",
    "[c[10:100].strip() for c in random.choices(population=hunting_df[mask_series]['Job Description'].unique(), k=10)]"
   ]
  },
  {
   "cell_type": "code",
   "execution_count": null,
   "metadata": {},
   "outputs": [],
   "source": [
    "\n",
    "s.store_objects(hunting_df=hunting_df)\n",
    "mask_series = (hunting_df['Safi Recommendation'] == 1)\n",
    "hunting_df[mask_series]['Primary Location State/Province'].unique().tolist()"
   ]
  },
  {
   "cell_type": "code",
   "execution_count": null,
   "metadata": {},
   "outputs": [],
   "source": [
    "\n",
    "hunting_df[mask_series]['Job Requisition'].unique()[:10].tolist()"
   ]
  },
  {
   "cell_type": "code",
   "execution_count": null,
   "metadata": {},
   "outputs": [],
   "source": [
    "\n",
    "hunting_df[mask_series]['Cluster'].unique()[:10].tolist()"
   ]
  },
  {
   "cell_type": "code",
   "execution_count": null,
   "metadata": {},
   "outputs": [],
   "source": [
    "\n",
    "hunting_df[mask_series]['Job Family'].unique()[:10].tolist()"
   ]
  },
  {
   "cell_type": "code",
   "execution_count": null,
   "metadata": {},
   "outputs": [],
   "source": [
    "\n",
    "hunting_df[mask_series]['Account Group'].unique()[:10].tolist()"
   ]
  },
  {
   "cell_type": "code",
   "execution_count": null,
   "metadata": {},
   "outputs": [],
   "source": [
    "\n",
    "hunting_df[mask_series]['Resource Manager'].unique()[:10].tolist()"
   ]
  },
  {
   "cell_type": "code",
   "execution_count": null,
   "metadata": {},
   "outputs": [],
   "source": [
    "\n",
    "hunting_df[mask_series]['Job Requisition Type'].unique()[:10].tolist()"
   ]
  },
  {
   "cell_type": "code",
   "execution_count": null,
   "metadata": {},
   "outputs": [],
   "source": [
    "\n",
    "hunting_df[mask_series]['Job Posting'].unique()[:10].tolist()"
   ]
  },
  {
   "cell_type": "code",
   "execution_count": null,
   "metadata": {},
   "outputs": [],
   "source": [
    "\n",
    "item_list = population=hunting_df[mask_series]['Hiring Manager'].unique().tolist()\n",
    "if len(item_list) > 10:\n",
    "    print(random.choices(item_list, k=10))\n",
    "else:\n",
    "    print(item_list[:10])"
   ]
  },
  {
   "cell_type": "code",
   "execution_count": null,
   "metadata": {},
   "outputs": [],
   "source": [
    "\n",
    "item_list = population=hunting_df[mask_series]['IMT'].unique().tolist()\n",
    "if len(item_list) > 10:\n",
    "    print(random.choices(item_list, k=10))\n",
    "else:\n",
    "    print(item_list[:10])"
   ]
  },
  {
   "cell_type": "code",
   "execution_count": null,
   "metadata": {},
   "outputs": [],
   "source": [
    "\n",
    "item_list = population=hunting_df[mask_series]['Required Clearance'].unique().tolist()\n",
    "if len(item_list) > 10:\n",
    "    print(random.choices(item_list, k=10))\n",
    "else:\n",
    "    print(item_list[:10])"
   ]
  },
  {
   "cell_type": "code",
   "execution_count": null,
   "metadata": {},
   "outputs": [],
   "source": [
    "\n",
    "item_list = population=hunting_df[mask_series]['Job Profile'].unique().tolist()\n",
    "if len(item_list) > 10:\n",
    "    print(random.choices(item_list, k=10))\n",
    "else:\n",
    "    print(item_list[:10])"
   ]
  },
  {
   "cell_type": "code",
   "execution_count": null,
   "metadata": {},
   "outputs": [],
   "source": [
    "\n",
    "item_list = population=hunting_df[mask_series]['Management Level'].unique().tolist()\n",
    "if len(item_list) > 10:\n",
    "    print(random.choices(item_list, k=10))\n",
    "else:\n",
    "    print(item_list[:10])"
   ]
  },
  {
   "cell_type": "code",
   "execution_count": null,
   "metadata": {},
   "outputs": [],
   "source": [
    "\n",
    "item_list = population=hunting_df[mask_series]['Clearance Agency'].unique().tolist()\n",
    "if len(item_list) > 10:\n",
    "    print(random.choices(item_list, k=10))\n",
    "else:\n",
    "    print(item_list[:10])"
   ]
  },
  {
   "cell_type": "code",
   "execution_count": null,
   "metadata": {},
   "outputs": [],
   "source": [
    "\n",
    "item_list = population=hunting_df[mask_series]['Group'].unique().tolist()\n",
    "if len(item_list) > 10:\n",
    "    print(random.choices(item_list, k=10))\n",
    "else:\n",
    "    print(item_list[:10])"
   ]
  },
  {
   "cell_type": "code",
   "execution_count": null,
   "metadata": {},
   "outputs": [],
   "source": [
    "\n",
    "item_list = population=hunting_df[mask_series]['Job Profile'].unique().tolist()\n",
    "if len(item_list) > 10:\n",
    "    print(random.choices(item_list, k=10))\n",
    "else:\n",
    "    print(item_list[:10])"
   ]
  },
  {
   "cell_type": "code",
   "execution_count": null,
   "metadata": {},
   "outputs": [],
   "source": [
    "\n",
    "[cn for cn in columns_list if 'loca' in cn.lower()]"
   ]
  },
  {
   "cell_type": "code",
   "execution_count": null,
   "metadata": {},
   "outputs": [],
   "source": [
    "\n",
    "item_list = population=hunting_df[mask_series]['Primary Location'].unique().tolist()\n",
    "if len(item_list) > 10:\n",
    "    print(random.choices(item_list, k=10))\n",
    "else:\n",
    "    print(item_list[:10])"
   ]
  },
  {
   "cell_type": "code",
   "execution_count": null,
   "metadata": {},
   "outputs": [],
   "source": [
    "\n",
    "item_list = population=hunting_df[mask_series]['Primary Recruiter'].unique().tolist()\n",
    "if len(item_list) > 10:\n",
    "    print(random.choices(item_list, k=10))\n",
    "else:\n",
    "    print(item_list[:10])"
   ]
  },
  {
   "cell_type": "markdown",
   "metadata": {},
   "source": [
    "\n",
    "---\n",
    "# Initial dataframe creation (don't run again)"
   ]
  },
  {
   "cell_type": "code",
   "execution_count": null,
   "metadata": {},
   "outputs": [],
   "source": [
    "\n",
    "hunting_dir = r'D:\\Documents\\Administrivia\\Job Hunting'\n",
    "file_name = 'Copy of Reqs Babbitt Applied to_Need Follow Up.3.19.2020.xlsx'\n",
    "file_path = os.path.join(hunting_dir, file_name)\n",
    "safi_df = pd.read_excel(file_path)\n",
    "hunting_df['CS Notes'] = ''\n",
    "for row_index, row_series in safi_df.iterrows():\n",
    "    req_id = row_series['Job Requisition ID']\n",
    "    cs_notes = row_series['CS Notes']\n",
    "    mask_series = (hunting_df['Job Requisition ID'] == req_id)\n",
    "    hunting_df.loc[mask_series, 'CS Notes'] = cs_notes\n",
    "s.store_objects(hunting_df=hunting_df)"
   ]
  },
  {
   "cell_type": "code",
   "execution_count": null,
   "metadata": {},
   "outputs": [],
   "source": [
    "\n",
    "mask_series = (hunting_df.is_opportunity_application_emailed == True) & hunting_df.is_remote_delivery.isnull()\n",
    "s.save_dataframes(unresponses_df=hunting_df[mask_series])"
   ]
  },
  {
   "cell_type": "code",
   "execution_count": null,
   "metadata": {},
   "outputs": [],
   "source": [
    "\n",
    "mask_series = hunting_df.manager_notes.isnull()\n",
    "hunting_df.loc[mask_series, 'manager_notes'] = ''\n",
    "s.store_objects(hunting_df=hunting_df)"
   ]
  },
  {
   "cell_type": "code",
   "execution_count": null,
   "metadata": {},
   "outputs": [],
   "source": [
    "\n",
    "for old_key in basic_quals_dict.keys():\n",
    "    basic_quals_dict[re.sub(r':$', '', str(old_key))] = basic_quals_dict.pop(old_key)"
   ]
  },
  {
   "cell_type": "code",
   "execution_count": null,
   "metadata": {},
   "outputs": [],
   "source": [
    "\n",
    "mask_series = (hunting_df.is_for_university_recruiting == 1)\n",
    "hunting_df.loc[mask_series, 'is_opportunity_application_emailed'] = True\n",
    "s.store_objects(hunting_df=hunting_df)"
   ]
  },
  {
   "cell_type": "code",
   "execution_count": null,
   "metadata": {},
   "outputs": [],
   "source": [
    "\n",
    "columns_list = ['Hiring Manager', 'Management Level', 'IMT', 'Job Requisition', 'Job Requisition Type', 'Cluster', 'Time Type',\n",
    "                'Job Posting Title', 'Safi Recommendation', 'Recruiting Start Date', 'Account Group', 'Job Requisition ID',\n",
    "                'Job Type', 'Supervisory Organization', 'Clearance Agency', 'Primary Location State/Province', 'Furthest Stage',\n",
    "                'Resource Manager', 'Primary Location', 'Job Description', 'Group', 'Job Profile', 'Job Family Group', 'FSO',\n",
    "                'Job Family', 'Job Requisition Status', 'Business Title', 'Job Posting', 'Primary Location Country',\n",
    "                'Required Clearance', 'Primary Recruiter', 'percent_fit', 'is_opportunity_application_emailed', 'opportunity_application_email_date', 'is_remote_delivery']\n",
    "hunting_df = hunting_df[columns_list]\n",
    "s.store_objects(hunting_df=hunting_df)"
   ]
  },
  {
   "cell_type": "code",
   "execution_count": null,
   "metadata": {},
   "outputs": [],
   "source": [
    "\n",
    "hunting_dir = r'D:\\Documents\\Administrivia\\Job Hunting'\n",
    "columns_list = []\n",
    "for root, dirs, files in os.walk(hunting_dir):\n",
    "    #path = root.split(os.sep)\n",
    "    #print((len(path)-1) * '---', os.path.basename(root))\n",
    "    for file in files:\n",
    "        #print(len(path) * '---', file)\n",
    "        if file.endswith('.csv'):\n",
    "            print(file)\n",
    "            file_name = os.path.join(hunting_dir, file)\n",
    "            if os.path.isfile(file_name):\n",
    "                df = pd.read_csv(file_name, encoding='iso8859-1')\n",
    "                columns_list = list(set(columns_list) | set(df.columns.tolist()))"
   ]
  },
  {
   "cell_type": "code",
   "execution_count": null,
   "metadata": {},
   "outputs": [],
   "source": [
    "\n",
    "hunting_df = pd.DataFrame([], columns=columns_list)\n",
    "\n",
    "for root, dirs, files in os.walk(hunting_dir):\n",
    "    for file in files:\n",
    "        if file.endswith('.csv'):\n",
    "            file_name = os.path.join(hunting_dir, file)\n",
    "            if os.path.isfile(file_name):\n",
    "                df = pd.read_csv(file_name, encoding='iso8859-1')\n",
    "                hunting_df = pd.concat([hunting_df, df])"
   ]
  },
  {
   "cell_type": "markdown",
   "metadata": {},
   "source": [
    "\n",
    "---"
   ]
  },
  {
   "cell_type": "code",
   "execution_count": null,
   "metadata": {},
   "outputs": [],
   "source": [
    "\n",
    "command_str = '{sys.executable} -m pip install pyOutlook'.format(sys=sys)\n",
    "print(command_str)\n",
    "!{command_str}"
   ]
  },
  {
   "cell_type": "markdown",
   "metadata": {},
   "source": [
    "\n",
    "---\n",
    "# Flag setting"
   ]
  },
  {
   "cell_type": "code",
   "execution_count": 22,
   "metadata": {},
   "outputs": [
    {
     "data": {
      "text/plain": [
       "Index(['Job Posting', 'Job Requisition', 'Job Requisition ID',\n",
       "       'Job Requisition Status', 'Furthest Stage', 'Supervisory Organization',\n",
       "       'Group', 'Account Group', 'IMT', 'Cluster', 'Primary Recruiter',\n",
       "       'Resource Manager', 'Hiring Manager', 'Job Posting Title',\n",
       "       'Job Profile', 'Job Requisition Type', 'Management Level',\n",
       "       'Primary Location', 'Primary Location State/Province',\n",
       "       'Primary Location Country', 'Required Clearance', 'Clearance Agency',\n",
       "       'Time Type', 'Recruiting Start Date', 'Job Type', 'Job Family',\n",
       "       'Business Title', 'Job Family Group', 'Job Description',\n",
       "       'Job Profile Skills', 'percent_fit',\n",
       "       'is_opportunity_application_emailed',\n",
       "       'opportunity_application_email_date', 'is_remote_delivery',\n",
       "       'manager_notes', 'CS Notes'],\n",
       "      dtype='object')"
      ]
     },
     "execution_count": 22,
     "metadata": {},
     "output_type": "execute_result"
    }
   ],
   "source": [
    "\n",
    "hunting_df.columns"
   ]
  },
  {
   "cell_type": "code",
   "execution_count": null,
   "metadata": {},
   "outputs": [],
   "source": [
    "\n",
    "column_name = 'Primary Recruiter'\n",
    "last_name = 'Sallis'.lower()\n",
    "first_name = 'Michael'.lower()\n",
    "\n",
    "def f(x):\n",
    "    x = str(x).lower()\n",
    "    \n",
    "    return (first_name in x) and (last_name in x)\n",
    "\n",
    "column_name = 'Hiring Manager'\n",
    "last_name = 'Arunachalam'.lower()\n",
    "first_name = 'Siva'.lower()\n",
    "\n",
    "def g(x):\n",
    "    x = str(x).lower()\n",
    "    \n",
    "    return (first_name in x) and (last_name in x)\n",
    "\n",
    "mask_series = hunting_df[column_name].map(f) & hunting_df[column_name].map(g)\n",
    "req_id_list = hunting_df[mask_series]['Job Requisition ID'].tolist()\n",
    "formatted_str = 'Thanks for the feedback. I have marked all the reqs you are associated with ({}).'\n",
    "print(formatted_str.format(conjunctify_list(req_id_list)))\n",
    "mask_series = hunting_df['Job Requisition ID'].isin(req_id_list)\n",
    "hunting_df.loc[mask_series, 'is_remote_delivery'] = False\n",
    "hunting_df.loc[mask_series, 'is_opportunity_application_emailed'] = True\n",
    "s.store_objects(hunting_df=hunting_df)"
   ]
  },
  {
   "cell_type": "code",
   "execution_count": null,
   "metadata": {},
   "outputs": [],
   "source": [
    "\n",
    "# Currently all our roles are local to the DC Metro Area.\n",
    "req_id = 'R0079210'\n",
    "mask_series = (hunting_df['Job Requisition ID'] == req_id)\n",
    "location = hunting_df[mask_series]['Primary Location'].tolist()[0]\n",
    "manager = hunting_df[mask_series]['Hiring Manager'].tolist()[0]\n",
    "mask_series = (hunting_df['Primary Location'] == location)\n",
    "print('Is she talking about the {} reqs in her location?'.format(hunting_df[mask_series].shape[0]))\n",
    "mask_series = (hunting_df['Hiring Manager'] == manager)\n",
    "print('Is she talking about the {} reqs she is managing?'.format(hunting_df[mask_series].shape[0]))\n",
    "mask_series = (hunting_df['Primary Location'] == location) & (hunting_df['Hiring Manager'] == manager)\n",
    "formatted_str = 'Thank you for the feedback. I am assuming you are talking about the {} reqs you are managing at your location ({}).'\n",
    "\n",
    "# Set remote delivery for this list of jobs\n",
    "req_id_list = hunting_df[mask_series]['Job Requisition ID'].tolist()\n",
    "mask_series = hunting_df['Job Requisition ID'].isin(req_id_list)\n",
    "hunting_df.loc[mask_series, 'is_remote_delivery'] = False\n",
    "hunting_df.loc[mask_series, 'is_opportunity_application_emailed'] = True\n",
    "s.store_objects(hunting_df=hunting_df)\n",
    "print(formatted_str.format(hunting_df[mask_series].shape[0], conjunctify_list(req_id_list)))"
   ]
  },
  {
   "cell_type": "code",
   "execution_count": null,
   "metadata": {},
   "outputs": [],
   "source": [
    "\n",
    "column_name = 'Hiring Manager'\n",
    "last_name = 'Cofrancesco'.lower()\n",
    "first_name = 'Elaine'.lower()\n",
    "\n",
    "def f(x):\n",
    "    x = str(x).lower()\n",
    "    \n",
    "    return (first_name in x) and (last_name in x)\n",
    "\n",
    "mask_series = hunting_df[column_name].map(f)\n",
    "req_id_list = hunting_df[mask_series]['Job Requisition ID'].tolist()\n",
    "formatted_str = 'Thanks for the feedback. Does this include all the reqs you are associated with ({})?'\n",
    "print(formatted_str.format(conjunctify_list(req_id_list)))\n",
    "mask_series = hunting_df['Job Requisition ID'].isin(req_id_list)\n",
    "hunting_df.loc[mask_series, 'is_remote_delivery'] = False\n",
    "hunting_df.loc[mask_series, 'is_opportunity_application_emailed'] = True\n",
    "s.store_objects(hunting_df=hunting_df)"
   ]
  },
  {
   "cell_type": "code",
   "execution_count": 289,
   "metadata": {},
   "outputs": [
    {
     "name": "stdout",
     "output_type": "stream",
     "text": [
      "Pickling to D:\\Documents\\Repositories\\notebooks\\Miscellaneous\\saves\\pickle\\hunting_df.pickle\n"
     ]
    }
   ],
   "source": [
    "\n",
    "column_name = 'Hiring Manager'\n",
    "last_name = 'Jendzejec'.lower()\n",
    "first_name = 'Alexander'.lower()\n",
    "\n",
    "def f(x):\n",
    "    x = str(x).lower()\n",
    "    \n",
    "    return (first_name in x) and (last_name in x)\n",
    "\n",
    "mask_series = hunting_df[column_name].map(f)\n",
    "hunting_df.loc[mask_series, 'is_remote_delivery'] = False\n",
    "hunting_df.loc[mask_series, 'is_opportunity_application_emailed'] = True\n",
    "s.store_objects(hunting_df=hunting_df)"
   ]
  },
  {
   "cell_type": "code",
   "execution_count": 89,
   "metadata": {},
   "outputs": [
    {
     "name": "stdout",
     "output_type": "stream",
     "text": [
      "Pickling to D:\\Documents\\Repositories\\notebooks\\Miscellaneous\\saves\\pickle\\hunting_df.pickle\n"
     ]
    }
   ],
   "source": [
    "\n",
    "column_name = 'Hiring Manager'\n",
    "last_name = 'ferraro'\n",
    "first_name = 'mike'\n",
    "\n",
    "def f(x):\n",
    "    x = str(x).lower()\n",
    "    \n",
    "    return (first_name in x) and (last_name in x)\n",
    "\n",
    "mask_series = hunting_df[column_name].map(f)\n",
    "hunting_df.loc[mask_series, 'is_remote_delivery'] = False\n",
    "hunting_df.loc[mask_series, 'is_opportunity_application_emailed'] = True\n",
    "s.store_objects(hunting_df=hunting_df)"
   ]
  },
  {
   "cell_type": "code",
   "execution_count": 81,
   "metadata": {},
   "outputs": [
    {
     "name": "stdout",
     "output_type": "stream",
     "text": [
      "Pickling to D:\\Documents\\Repositories\\notebooks\\Miscellaneous\\saves\\pickle\\hunting_df.pickle\n"
     ]
    }
   ],
   "source": [
    "\n",
    "# Set remote delivery for this list of jobs\n",
    "req_id_list = ['R0072627', 'R0072630', 'R0072685', 'R0072688', 'R0072699', 'R0072700', 'R0078787', 'R0078792', 'R0078793', 'R0072670',\n",
    "               'R0072672', 'R0078798', 'R0078799']\n",
    "mask_series = hunting_df['Job Requisition ID'].isin(req_id_list)\n",
    "hunting_df.loc[mask_series, 'is_remote_delivery'] = False\n",
    "hunting_df.loc[mask_series, 'is_opportunity_application_emailed'] = True\n",
    "s.store_objects(hunting_df=hunting_df)"
   ]
  },
  {
   "cell_type": "code",
   "execution_count": 38,
   "metadata": {},
   "outputs": [
    {
     "name": "stdout",
     "output_type": "stream",
     "text": [
      "Pickling to D:\\Documents\\Repositories\\notebooks\\Miscellaneous\\saves\\pickle\\hunting_df.pickle\n"
     ]
    }
   ],
   "source": [
    "\n",
    "# Set remote delivery for this list of jobs\n",
    "req_id_list = ['R0073564', 'R0073583', 'R0073584', 'R0073585', 'R0073586']\n",
    "mask_series = hunting_df['Job Requisition ID'].isin(req_id_list)\n",
    "hunting_df.loc[mask_series, 'is_remote_delivery'] = True\n",
    "hunting_df.loc[mask_series, 'is_opportunity_application_emailed'] = True\n",
    "s.store_objects(hunting_df=hunting_df)"
   ]
  },
  {
   "cell_type": "code",
   "execution_count": null,
   "metadata": {},
   "outputs": [],
   "source": [
    "\n",
    "# Set university recruiting for this job\n",
    "req_id = 'R0066388'\n",
    "mask_series = (hunting_df['Job Requisition ID'] == req_id)\n",
    "hunting_df.loc[mask_series, 'is_for_university_recruiting'] = 1\n",
    "s.store_objects(hunting_df=hunting_df)"
   ]
  },
  {
   "cell_type": "code",
   "execution_count": null,
   "metadata": {},
   "outputs": [],
   "source": [
    "\n",
    "# Manually note you can't do this job from home\n",
    "req_id = 'R0064764'\n",
    "mask_series = (hunting_df['Job Requisition ID'] == req_id)\n",
    "hunting_df.loc[mask_series, 'is_remote_delivery'] = False\n",
    "s.store_objects(hunting_df=hunting_df)"
   ]
  },
  {
   "cell_type": "code",
   "execution_count": null,
   "metadata": {},
   "outputs": [],
   "source": [
    "\n",
    "# Manually note you can't do this job from home\n",
    "hunting_df.loc[83, 'is_remote_delivery'] = False\n",
    "s.store_objects(hunting_df=hunting_df)"
   ]
  },
  {
   "cell_type": "code",
   "execution_count": null,
   "metadata": {},
   "outputs": [],
   "source": [
    "\n",
    "mask_series = (hunting_df.index == 2616)\n",
    "hunting_df.loc[mask_series, 'is_for_university_recruiting'] = 1\n",
    "hunting_df.loc[mask_series, 'percent_fit'] = 0.0\n",
    "s.store_objects(hunting_df=hunting_df)"
   ]
  }
 ],
 "metadata": {
  "kernelspec": {
   "display_name": "Python 3",
   "language": "python",
   "name": "python3"
  },
  "language_info": {
   "codemirror_mode": {
    "name": "ipython",
    "version": 3
   },
   "file_extension": ".py",
   "mimetype": "text/x-python",
   "name": "python",
   "nbconvert_exporter": "python",
   "pygments_lexer": "ipython3",
   "version": "3.7.6"
  }
 },
 "nbformat": 4,
 "nbformat_minor": 4
}
