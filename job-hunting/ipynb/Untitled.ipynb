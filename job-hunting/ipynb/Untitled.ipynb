{
 "cells": [
  {
   "cell_type": "code",
   "execution_count": 1,
   "metadata": {},
   "outputs": [
    {
     "name": "stdout",
     "output_type": "stream",
     "text": [
      "!jupyter --version and --path\n",
      "4.4.0\n",
      "config:\n",
      "    /Users/davebabbitt/.jupyter\n",
      "    /Users/davebabbitt/anaconda/etc/jupyter\n",
      "    /usr/local/etc/jupyter\n",
      "    /etc/jupyter\n",
      "data:\n",
      "    /Users/davebabbitt/Library/Jupyter\n",
      "    /Users/davebabbitt/anaconda/share/jupyter\n",
      "    /usr/local/share/jupyter\n",
      "    /usr/share/jupyter\n",
      "runtime:\n",
      "    /Users/davebabbitt/Library/Jupyter/runtime\n",
      "\n",
      "!cat /usr/etc/jupyter/nbconfig/notebook.json\n",
      "cat: /usr/etc/jupyter/nbconfig/notebook.json: No such file or directory\n",
      "\n",
      "!ls /usr/local/share/jupyter/nbextensions/jupyter-js-widgets\n",
      "ls: /usr/local/share/jupyter/nbextensions/jupyter-js-widgets: No such file or directory\n",
      "\n",
      "version: 4.4.0\n",
      "config: /Users/davebabbitt/.jupyter\n",
      "config: /Users/davebabbitt/anaconda/etc/jupyter\n",
      "config: /usr/local/etc/jupyter\n",
      "config: /etc/jupyter\n",
      "jupyter_path: /Users/davebabbitt/Library/Jupyter\n",
      "jupyter_path: /Users/davebabbitt/anaconda/share/jupyter\n",
      "jupyter_path: /usr/local/share/jupyter\n",
      "jupyter_path: /usr/share/jupyter\n",
      "jupyter_data_dir: /Users/davebabbitt/Library/Jupyter\n",
      "jupyter_runtime_dir: /Users/davebabbitt/Library/Jupyter/runtime\n"
     ]
    },
    {
     "data": {
      "application/vnd.jupyter.widget-view+json": {
       "model_id": "6fa5264f3fe140c793ee5207c8325ba7",
       "version_major": 2,
       "version_minor": 0
      },
      "text/html": [
       "<p>Failed to display Jupyter Widget of type <code>HTML</code>.</p>\n",
       "<p>\n",
       "  If you're reading this message in the Jupyter Notebook or JupyterLab Notebook, it may mean\n",
       "  that the widgets JavaScript is still loading. If this message persists, it\n",
       "  likely means that the widgets JavaScript library is either not installed or\n",
       "  not enabled. See the <a href=\"https://ipywidgets.readthedocs.io/en/stable/user_install.html\">Jupyter\n",
       "  Widgets Documentation</a> for setup instructions.\n",
       "</p>\n",
       "<p>\n",
       "  If you're reading this message in another frontend (for example, a static\n",
       "  rendering on GitHub or <a href=\"https://nbviewer.jupyter.org/\">NBViewer</a>),\n",
       "  it may mean that your frontend doesn't currently support widgets.\n",
       "</p>\n"
      ],
      "text/plain": [
       "HTML(value='Hello <b>World</b>')"
      ]
     },
     "metadata": {},
     "output_type": "display_data"
    }
   ],
   "source": [
    "\n",
    "from jupyter_core.paths import jupyter_config_path, jupyter_data_dir, jupyter_runtime_dir, jupyter_path\n",
    "import jupyter_core.version\n",
    "\n",
    "!echo !jupyter --version and --path\n",
    "!jupyter --version\n",
    "!jupyter --path\n",
    "!echo\n",
    "\n",
    "!echo !cat /usr/etc/jupyter/nbconfig/notebook.json\n",
    "!cat /usr/etc/jupyter/nbconfig/notebook.json\n",
    "!echo\n",
    "!echo !ls /usr/local/share/jupyter/nbextensions/jupyter-js-widgets\n",
    "!ls /usr/local/share/jupyter/nbextensions/jupyter-js-widgets\n",
    "!echo\n",
    "\n",
    "print('version:', jupyter_core.version.__version__)\n",
    "for p in jupyter_config_path():\n",
    "    print('config:', p)\n",
    "\n",
    "# list of directories to search for data files...\n",
    "for p in jupyter_path():\n",
    "    print('jupyter_path:', p)\n",
    "\n",
    "print('jupyter_data_dir:', jupyter_data_dir())\n",
    "print('jupyter_runtime_dir:', jupyter_runtime_dir())\n",
    "\n",
    "import ipywidgets as widgets\n",
    "widgets.HTML(value=\"Hello <b>World</b>\")"
   ]
  },
  {
   "cell_type": "code",
   "execution_count": null,
   "metadata": {},
   "outputs": [],
   "source": []
  }
 ],
 "metadata": {
  "kernelspec": {
   "display_name": "Python 3",
   "language": "python",
   "name": "python3"
  },
  "language_info": {
   "codemirror_mode": {
    "name": "ipython",
    "version": 3
   },
   "file_extension": ".py",
   "mimetype": "text/x-python",
   "name": "python",
   "nbconvert_exporter": "python",
   "pygments_lexer": "ipython3",
   "version": "3.5.4"
  }
 },
 "nbformat": 4,
 "nbformat_minor": 2
}
