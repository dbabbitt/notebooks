{
 "cells": [
  {
   "cell_type": "code",
   "execution_count": 1,
   "metadata": {},
   "outputs": [
    {
     "name": "stdout",
     "output_type": "stream",
     "text": [
      "data_folder = ../../data/\n",
      "saves_folder = ../../saves/\n",
      "attempt_to_pickle\t data_folder\t encoding\t load_csv\t load_dataframes\t load_object\t os\t pd\t pickle\t \n",
      "save_dataframes\t saves_folder\t store_objects\t sys\t \n"
     ]
    }
   ],
   "source": [
    "%run ../../load_magic/storage2.py 2\n",
    "%who"
   ]
  },
  {
   "cell_type": "code",
   "execution_count": 4,
   "metadata": {},
   "outputs": [],
   "source": [
    "\n",
    "role_list = ['Leverage technical and analytical expertise to explore and ' +\n",
    "             'examine data from multiple disparate sources and types, including natural ' +\n",
    "             'language and image and video with the goal of discovering patterns and ' +\n",
    "             'previously hidden insights that can provide a competitive advantage or address ' +\n",
    "             'a pressing business problem.',\n",
    "             'Apply expertise in computer science, software development, and ' +\n",
    "             'the latest technologies to analyze and implement analysis infrastructure and ' +\n",
    "             'tools, analytic workflow processes, image analysis, and complex data ' +\n",
    "             'visualizations.',\n",
    "             'Perform advanced research into the use of machine learning, ' +\n",
    "             'numerical optimization, and data science problems and convey results at ' +\n",
    "             'technical and non–technical levels, including writing journal articles, ' +\n",
    "             'presenting at academic conferences, and producing whitepapers and briefings to ' +\n",
    "             'non–technical audiences.',\n",
    "             'Serve as the client interface with responsibilities across the ' +\n",
    "             'entire life cycle, including requirements gathering and analysis, process and ' +\n",
    "             'systems definition, data analysis, and presentation of analysis to clients in ' +\n",
    "             'a format they can digest.',\n",
    "             'Develop algorithm-driven products and solutions.',\n",
    "             'Selecting features, building and optimizing classifiers using machine learning techniques.',\n",
    "             'Data mining using state-of-the-art methods.',\n",
    "             'Extending company’s data with third party sources of information when needed.',\n",
    "             'Enhancing data collection procedures to include information that is relevant for building analytic systems.',\n",
    "             'Processing, cleansing, and verifying the integrity of data used for analysis.',\n",
    "             'Doing ad-hoc analysis and presenting results in a clear manner.',\n",
    "             'Creating automated anomaly detection systems and constant tracking of its performance',\n",
    "             'Work with stakeholders throughout the organization to identify opportunities ' +\n",
    "             'for leveraging company data to drive business solutions.',\n",
    "             'Mine and analyze data from company databases to drive optimization and ' +\n",
    "             'improvement of product development, marketing techniques and business ' +\n",
    "             'strategies.',\n",
    "             'Assess the effectiveness and accuracy of new data sources and data gathering ' +\n",
    "             'techniques.',\n",
    "             'Develop custom data models and algorithms to apply to data sets.',\n",
    "             'Use predictive modeling to increase and optimize customer experiences, ' +\n",
    "             'revenue generation, ad targeting and other business outcomes.',\n",
    "             'Develop company A/B testing framework and test model quality.',\n",
    "             'Coordinate with different functional teams to implement models and monitor outcomes.',\n",
    "             'Develop processes and tools to monitor and analyze model performance and data accuracy.']"
   ]
  },
  {
   "cell_type": "code",
   "execution_count": 3,
   "metadata": {
    "collapsed": true
   },
   "outputs": [],
   "source": [
    "\n",
    "# Create the qual ratings widget dataset\n",
    "bqs_df = pd.DataFrame(role_list, columns=['qual_description'])\n",
    "bqs_df['qual_rating'] = -1"
   ]
  },
  {
   "cell_type": "code",
   "execution_count": 5,
   "metadata": {
    "collapsed": true
   },
   "outputs": [],
   "source": [
    "\n",
    "# Define the qual rating business logic for the interactive widget app\n",
    "def get_req(**kwargs):\n",
    "    if kwargs['rating_buttons'] is not None:\n",
    "        qual_rating = rating_options.index(kwargs['rating_buttons'])\n",
    "        qual_description = kwargs['rating_text']\n",
    "        match_series = (bqs_df['qual_description'] == qual_description)\n",
    "        bqs_df.loc[match_series, 'qual_rating'] = qual_rating\n",
    "        \n",
    "        match_series = (bqs_df['qual_rating'] == -1)\n",
    "        display(bqs_df[match_series].shape)\n",
    "        df = bqs_df[match_series]\n",
    "        if df.shape[0] > 0:\n",
    "            row_series = df.sample(1)\n",
    "            qual_description = row_series['qual_description'].squeeze()\n",
    "            rating_text.value = qual_description\n",
    "            rating_buttons.value = None\n",
    "        else:\n",
    "            rating_text.value = 'Finished'\n",
    "            rating_buttons.value = None\n",
    "    display(kwargs)"
   ]
  },
  {
   "cell_type": "code",
   "execution_count": 6,
   "metadata": {
    "collapsed": true
   },
   "outputs": [],
   "source": [
    "\n",
    "# Prep the widget app for first use\n",
    "match_series = (bqs_df['qual_rating'] == -1)\n",
    "df = bqs_df[match_series]\n",
    "if df.shape[0] > 0:\n",
    "    row_series = df.sample(1)\n",
    "    qual_description = row_series['qual_description'].squeeze()\n",
    "else:\n",
    "    qual_description = 'Finished'"
   ]
  },
  {
   "cell_type": "code",
   "execution_count": 7,
   "metadata": {
    "collapsed": true
   },
   "outputs": [],
   "source": [
    "\n",
    "# Prep the widgets themselves for first use\n",
    "import ipywidgets\n",
    "from ipywidgets import HTML, RadioButtons, Label, Layout, interactive\n",
    "from IPython.display import display\n",
    "\n",
    "kwargs = {}\n",
    "kwargs['rating_text'] = HTML(\n",
    "    value=qual_description\n",
    "    )\n",
    "rating_options = ['Not at all', 'Very little', 'Neither', 'Very much', 'Completely']\n",
    "kwargs['rating_buttons'] = RadioButtons(\n",
    "    options=rating_options,\n",
    "    description='Applicability:',\n",
    "    disabled=False,\n",
    "    button_style='',\n",
    "    tooltips=rating_options,\n",
    "    value=None\n",
    "    )\n",
    "ip = interactive(get_req, {'manual': True}, **kwargs)\n",
    "for i, widget in enumerate(ip.children):\n",
    "    if type(widget) == ipywidgets.widgets.widget_selection.RadioButtons:\n",
    "        rating_buttons = ip.children[i]\n",
    "    elif type(widget) == ipywidgets.widgets.widget_string.HTML:\n",
    "        rating_text = ip.children[i]\n",
    "    elif type(widget) == ipywidgets.widgets.widget_string.Label:\n",
    "        hidden_label = ip.children[i]\n",
    "    elif type(widget) == ipywidgets.widgets.widget_button.Button:\n",
    "        submit_button = ip.children[i]\n",
    "        submit_button.description = 'Submit'\n",
    "    elif type(widget) == ipywidgets.widgets.widget_output.Output:\n",
    "        out = ip.children[i]"
   ]
  },
  {
   "cell_type": "code",
   "execution_count": 8,
   "metadata": {},
   "outputs": [
    {
     "data": {
      "application/vnd.jupyter.widget-view+json": {
       "model_id": "95b795b1d51946b59e928e137ea40f48",
       "version_major": 2,
       "version_minor": 0
      },
      "text/plain": [
       "A Jupyter Widget"
      ]
     },
     "metadata": {},
     "output_type": "display_data"
    }
   ],
   "source": [
    "\n",
    "# Display the app\n",
    "from ipywidgets import VBox, HBox\n",
    "\n",
    "display(VBox([rating_text, HBox([rating_buttons, submit_button]), out]))"
   ]
  },
  {
   "cell_type": "code",
   "execution_count": 14,
   "metadata": {},
   "outputs": [
    {
     "name": "stdout",
     "output_type": "stream",
     "text": [
      "Leverage technical and analytical expertise to explore and examine data from multiple disparate sources and types, including natural language and image and video with the goal of discovering patterns and previously hidden insights that can provide a competitive advantage or address a pressing business problem.\n",
      "Serve as the client interface with responsibilities across the entire life cycle, including requirements gathering and analysis, process and systems definition, data analysis, and presentation of analysis to clients in a format they can digest.\n",
      "Develop algorithm-driven products and solutions.\n",
      "Selecting features, building and optimizing classifiers using machine learning techniques.\n",
      "Data mining using state-of-the-art methods.\n",
      "Extending company’s data with third party sources of information when needed.\n",
      "Enhancing data collection procedures to include information that is relevant for building analytic systems.\n",
      "Processing, cleansing, and verifying the integrity of data used for analysis.\n",
      "Doing ad-hoc analysis and presenting results in a clear manner.\n",
      "Creating automated anomaly detection systems and constant tracking of its performance\n",
      "Mine and analyze data from company databases to drive optimization and improvement of product development, marketing techniques and business strategies.\n",
      "Assess the effectiveness and accuracy of new data sources and data gathering techniques.\n",
      "Develop custom data models and algorithms to apply to data sets.\n",
      "Use predictive modeling to increase and optimize customer experiences, revenue generation, ad targeting and other business outcomes.\n",
      "Coordinate with different functional teams to implement models and monitor outcomes.\n",
      "Develop processes and tools to monitor and analyze model performance and data accuracy.\n"
     ]
    }
   ],
   "source": [
    "\n",
    "match_series = (bqs_df['qual_rating'] >= 4)\n",
    "print('\\n'.join(bqs_df[match_series]['qual_description'].tolist()))"
   ]
  },
  {
   "cell_type": "code",
   "execution_count": 11,
   "metadata": {
    "collapsed": true
   },
   "outputs": [],
   "source": [
    "bqs_df.sort_values?"
   ]
  }
 ],
 "metadata": {
  "kernelspec": {
   "display_name": "Python 3",
   "language": "python",
   "name": "python3"
  },
  "language_info": {
   "codemirror_mode": {
    "name": "ipython",
    "version": 3
   },
   "file_extension": ".py",
   "mimetype": "text/x-python",
   "name": "python",
   "nbconvert_exporter": "python",
   "pygments_lexer": "ipython3",
   "version": "3.6.3"
  }
 },
 "nbformat": 4,
 "nbformat_minor": 1
}
