{
 "cells": [
  {
   "cell_type": "code",
   "execution_count": 1,
   "metadata": {},
   "outputs": [
    {
     "name": "stdout",
     "output_type": "stream",
     "text": [
      "C:\\Users\\dev\\Anaconda3\\envs\\pt\\python.exe -m pip freeze\n",
      "absl-py==0.11.0\n",
      "argon2-cffi @ file:///C:/ci/argon2-cffi_1596828549974/work\n",
      "async-generator==1.10\n",
      "attrs @ file:///tmp/build/80754af9/attrs_1600298409949/work\n",
      "backcall==0.2.0\n",
      "bleach @ file:///tmp/build/80754af9/bleach_1600439572647/work\n",
      "boto3==1.16.10\n",
      "botocore==1.19.10\n",
      "cachetools==4.1.1\n",
      "certifi==2020.6.20\n",
      "cffi @ file:///C:/ci/cffi_1600699250966/work\n",
      "chardet==3.0.4\n",
      "click==7.1.2\n",
      "colorama @ file:///tmp/build/80754af9/colorama_1603211150991/work\n",
      "Cython @ file:///C:/ci/cython_1594834055134/work\n",
      "decorator==4.4.2\n",
      "defusedxml==0.6.0\n",
      "entrypoints==0.3\n",
      "fairseq @ git+https://github.com/pytorch/fairseq@e6422528dae0b899848469efe2dc404c1e639ce9\n",
      "fasttext==0.8.3\n",
      "filelock==3.0.12\n",
      "future==0.18.2\n",
      "google-auth==1.23.0\n",
      "google-auth-oauthlib==0.4.2\n",
      "grpcio==1.33.2\n",
      "hypothesis==3.88.3\n",
      "idna==2.10\n",
      "importlib-metadata @ file:///tmp/build/80754af9/importlib-metadata_1602276842396/work\n",
      "ipykernel @ file:///C:/ci/ipykernel_1596208728219/work/dist/ipykernel-5.3.4-py3-none-any.whl\n",
      "ipython @ file:///C:/ci/ipython_1598883894321/work\n",
      "ipython-genutils==0.2.0\n",
      "ipywidgets @ file:///tmp/build/80754af9/ipywidgets_1601490159889/work\n",
      "iterable-queue==1.2.2\n",
      "jedi @ file:///C:/ci/jedi_1596472767194/work\n",
      "Jinja2==2.11.2\n",
      "jmespath==0.10.0\n",
      "joblib==0.17.0\n",
      "jsonschema @ file:///tmp/build/80754af9/jsonschema_1602607155483/work\n",
      "jupyter==1.0.0\n",
      "jupyter-client @ file:///tmp/build/80754af9/jupyter_client_1601311786391/work\n",
      "jupyter-console @ file:///tmp/build/80754af9/jupyter_console_1598884538475/work\n",
      "jupyter-core==4.6.3\n",
      "jupyterlab-pygments @ file:///tmp/build/80754af9/jupyterlab_pygments_1601490720602/work\n",
      "Markdown==3.3.3\n",
      "MarkupSafe @ file:///C:/ci/markupsafe_1594405949945/work\n",
      "mistune @ file:///C:/ci/mistune_1594373272338/work\n",
      "mkl-fft==1.2.0\n",
      "mkl-random==1.1.1\n",
      "mkl-service==2.3.0\n",
      "mldc @ git+https://github.com/microsoft/dstc8-meta-dialog.git@28b0406c28806e97093b0c3d6391ce48e1d16261\n",
      "nbclient @ file:///tmp/build/80754af9/nbclient_1602783176460/work\n",
      "nbconvert @ file:///C:/ci/nbconvert_1601914921407/work\n",
      "nbformat @ file:///tmp/build/80754af9/nbformat_1602783287752/work\n",
      "nest-asyncio @ file:///tmp/build/80754af9/nest-asyncio_1601499549014/work\n",
      "nltk==3.5\n",
      "notebook @ file:///C:/ci/notebook_1601494955742/work\n",
      "numpy @ file:///C:/ci/numpy_and_numpy_base_1603468620949/work\n",
      "oauthlib==3.1.0\n",
      "olefile==0.46\n",
      "onnx==1.7.0\n",
      "packaging==20.4\n",
      "pandas==1.1.4\n",
      "pandocfilters==1.4.2\n",
      "parso==0.7.0\n",
      "pickleshare @ file:///C:/ci/pickleshare_1594374056827/work\n",
      "Pillow @ file:///C:/ci/pillow_1603821929285/work\n",
      "portalocker==2.0.0\n",
      "prometheus-client==0.8.0\n",
      "prompt-toolkit @ file:///tmp/build/80754af9/prompt-toolkit_1602688806899/work\n",
      "protobuf==3.13.0\n",
      "pyasn1==0.4.8\n",
      "pyasn1-modules==0.2.8\n",
      "pycparser @ file:///tmp/build/80754af9/pycparser_1594388511720/work\n",
      "pydantic==1.7.2\n",
      "Pygments @ file:///tmp/build/80754af9/pygments_1604103097372/work\n",
      "pyparsing==2.4.7\n",
      "pyrsistent @ file:///C:/ci/pyrsistent_1600123688363/work\n",
      "pytext-nlp @ git+https://github.com/facebookresearch/pytext.git@8a73c72b0fa9296ee3e50479466df633c878742c\n",
      "python-dateutil==2.8.1\n",
      "python-rapidjson==0.9.3\n",
      "pytorch-pretrained-bert==0.6.2\n",
      "pytorch-transformers==1.2.0\n",
      "pytz==2020.4\n",
      "pywin32==228\n",
      "pywinpty==0.5.7\n",
      "pyzmq==19.0.2\n",
      "qtconsole @ file:///tmp/build/80754af9/qtconsole_1600870028330/work\n",
      "QtPy==1.9.0\n",
      "regex==2020.10.28\n",
      "requests==2.24.0\n",
      "requests-oauthlib==1.3.0\n",
      "rsa==4.6\n",
      "runstats==1.8.0\n",
      "s3transfer==0.3.3\n",
      "sacrebleu==1.4.14\n",
      "sacremoses==0.0.43\n",
      "scikit-learn==0.23.2\n",
      "scipy==1.5.3\n",
      "Send2Trash==1.5.0\n",
      "sentencepiece==0.1.94\n",
      "six==1.15.0\n",
      "sklearn==0.0\n",
      "tabulate==0.8.7\n",
      "tb-nightly==2.4.0a20201103\n",
      "tensorboard-plugin-wit==1.7.0\n",
      "tensorboardX==2.1\n",
      "terminado==0.9.1\n",
      "testpath==0.4.4\n",
      "threadpoolctl==2.1.0\n",
      "tokenizers==0.9.2\n",
      "torch==1.3.1\n",
      "torchtext==0.6.0\n",
      "torchvision==0.3.0\n",
      "tornado==6.0.4\n",
      "tqdm==4.51.0\n",
      "traitlets @ file:///tmp/build/80754af9/traitlets_1602787416690/work\n",
      "transformers==3.4.0\n",
      "typing-extensions==3.7.4.3\n",
      "urllib3==1.25.11\n",
      "wcwidth @ file:///tmp/build/80754af9/wcwidth_1593447189090/work\n",
      "webencodings==0.5.1\n",
      "Werkzeug==1.0.1\n",
      "widgetsnbextension==3.5.1\n",
      "wincertstore==0.2\n",
      "zipp @ file:///tmp/build/80754af9/zipp_1604001098328/work\n"
     ]
    }
   ],
   "source": [
    "\n",
    "import sys\n",
    "\n",
    "command_str = '{sys.executable} -m pip freeze'.format(sys=sys)\n",
    "print(command_str)\n",
    "!{command_str}"
   ]
  },
  {
   "cell_type": "code",
   "execution_count": 2,
   "metadata": {},
   "outputs": [
    {
     "name": "stdout",
     "output_type": "stream",
     "text": [
      "__version__: 3.4.0\n"
     ]
    }
   ],
   "source": [
    "\n",
    "%run ../../load_magic/environment.py\n",
    "import transformers\n",
    "\n",
    "get_module_version(transformers)"
   ]
  },
  {
   "cell_type": "code",
   "execution_count": 4,
   "metadata": {},
   "outputs": [
    {
     "data": {
      "application/vnd.jupyter.widget-view+json": {
       "model_id": "3ddf9a41fcbf4f759eb4920f957d1fd4",
       "version_major": 2,
       "version_minor": 0
      },
      "text/plain": [
       "HBox(children=(HTML(value='Downloading'), FloatProgress(value=0.0, max=629.0), HTML(value='')))"
      ]
     },
     "metadata": {},
     "output_type": "display_data"
    },
    {
     "name": "stdout",
     "output_type": "stream",
     "text": [
      "\n"
     ]
    },
    {
     "data": {
      "application/vnd.jupyter.widget-view+json": {
       "model_id": "43fb7353f3f24a699fda0a7877b61cf9",
       "version_major": 2,
       "version_minor": 0
      },
      "text/plain": [
       "HBox(children=(HTML(value='Downloading'), FloatProgress(value=0.0, max=267844284.0), HTML(value='')))"
      ]
     },
     "metadata": {},
     "output_type": "display_data"
    },
    {
     "name": "stdout",
     "output_type": "stream",
     "text": [
      "\n"
     ]
    },
    {
     "data": {
      "application/vnd.jupyter.widget-view+json": {
       "model_id": "7bfa196a477e4e20b1ab0acad1826d9c",
       "version_major": 2,
       "version_minor": 0
      },
      "text/plain": [
       "HBox(children=(HTML(value='Downloading'), FloatProgress(value=0.0, max=231508.0), HTML(value='')))"
      ]
     },
     "metadata": {},
     "output_type": "display_data"
    },
    {
     "name": "stdout",
     "output_type": "stream",
     "text": [
      "\n"
     ]
    },
    {
     "data": {
      "application/vnd.jupyter.widget-view+json": {
       "model_id": "dbcd159af83a45918afd3a7da254d3a0",
       "version_major": 2,
       "version_minor": 0
      },
      "text/plain": [
       "HBox(children=(HTML(value='Downloading'), FloatProgress(value=0.0, max=230.0), HTML(value='')))"
      ]
     },
     "metadata": {},
     "output_type": "display_data"
    },
    {
     "name": "stdout",
     "output_type": "stream",
     "text": [
      "\n"
     ]
    },
    {
     "data": {
      "text/plain": [
       "[{'label': 'POSITIVE', 'score': 0.9978193640708923}]"
      ]
     },
     "execution_count": 4,
     "metadata": {},
     "output_type": "execute_result"
    }
   ],
   "source": [
    "\n",
    "from transformers import pipeline\n",
    "\n",
    "# Allocate a pipeline for sentiment-analysis\n",
    "classifier = pipeline('sentiment-analysis')\n",
    "classifier('We are very happy to include pipeline into the transformers repository.')"
   ]
  },
  {
   "cell_type": "code",
   "execution_count": 11,
   "metadata": {},
   "outputs": [
    {
     "data": {
      "text/plain": [
       "{'score': 0.00240802182815969,\n",
       " 'start': 1979,\n",
       " 'end': 2014,\n",
       " 'answer': 'www.clockfoundation.org. Job Type:'}"
      ]
     },
     "execution_count": 11,
     "metadata": {},
     "output_type": "execute_result"
    }
   ],
   "source": [
    "\n",
    "from transformers import pipeline\n",
    "\n",
    "# Allocate a pipeline for question-answering\n",
    "question_answerer = pipeline('question-answering')\n",
    "question_answerer({\n",
    "    'question': 'What is the header text of the basic job requirements section?',\n",
    "    'context': \"\"\"Data Scientist\n",
    "\n",
    "The Clock Foundation seeks a highly motivated individual to join our dynamic team developing epigenetic aging clocks applying them to our mission of speeding the availability of treatments that prolong health and life expectancy.\n",
    "\n",
    "Essential\n",
    "\n",
    "A PhD (or equivalent experience) in a relevant scientific subject including but not limited to bioinformatics, biostatistics, or computational biology, with research experience in academia or industry\n",
    "Proficiency with R for statistical programming\n",
    "Proven ability to deliver high quality novel research in bioinformatics, biostatistics, or computational biology, for example through journal publications\n",
    "Interest in the biology of aging\n",
    "Desirable\n",
    "\n",
    "Experience working alongside experimental personnel to gather appropriate data, validate methodologies and test hypotheses\n",
    "Experience analyzing clinical or survey data using statistical approaches such as longitudinal analysis, mixed effect modeling, logistic regression analyses, and model building techniques\n",
    "Experience with array or sequencing technologies for epigenetic data (such as targeted bisulfite sequencing and whole genome bisulfite sequencing)\n",
    "Experience with machine learning techniques\n",
    "Experience with Python and full-stack development efforts\n",
    "Familiarity with DNA methylation and epigenetic aging clocks\n",
    "This position has competitive compensation and benefits. If this position is of interest, please send your resume/CV and any supporting materials to us for immediate consideration.\n",
    "\n",
    "About the Clock Foundation\n",
    "\n",
    "The Epigenetic Clock Development Foundation (“Clock Foundation”) is a California non-profit that is dedicated to speeding the availability of treatments that prolong health and life expectancy. Epigenetic aging clocks based on DNA methylation are strong indicators of biological age, the reversal of which promises to lower the risk of multiple chronic diseases and to preserve the immune system. For more information, please see our website: www.clockfoundation.org.\n",
    "\n",
    "Job Type: Full-time\n",
    "\n",
    "Pay: $83,000.00 - $117,883.00 per year\n",
    "\n",
    "Benefits:\n",
    "\n",
    "Dental insurance\n",
    "Health insurance\n",
    "Paid time off\n",
    "Schedule:\n",
    "\n",
    "Monday to Friday\n",
    "Work Remotely:\n",
    "\n",
    "Yes\"\"\"\n",
    "})"
   ]
  },
  {
   "cell_type": "code",
   "execution_count": null,
   "metadata": {},
   "outputs": [],
   "source": []
  }
 ],
 "metadata": {
  "kernelspec": {
   "display_name": "PyTorch (Python 3.7.5)",
   "language": "python",
   "name": "pt"
  },
  "language_info": {
   "codemirror_mode": {
    "name": "ipython",
    "version": 3
   },
   "file_extension": ".py",
   "mimetype": "text/x-python",
   "name": "python",
   "nbconvert_exporter": "python",
   "pygments_lexer": "ipython3",
   "version": "3.7.5"
  }
 },
 "nbformat": 4,
 "nbformat_minor": 4
}
