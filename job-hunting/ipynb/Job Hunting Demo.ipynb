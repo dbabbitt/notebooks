{
 "cells": [
  {
   "cell_type": "markdown",
   "metadata": {},
   "source": [
    "\n",
    "---\n",
    "# Load needed libraries and functions"
   ]
  },
  {
   "cell_type": "code",
   "execution_count": 1,
   "metadata": {},
   "outputs": [
    {
     "name": "stdout",
     "output_type": "stream",
     "text": [
      "Pretty printing has been turned OFF\n",
      "D:\\Documents\\Repositories\\notebooks\\Miscellaneous\\ipynb\\Job Hunting.ipynb\n",
      "['s.attempt_to_pickle', 's.data_csv_folder', 's.data_folder', 's.encoding_type', 's.load_csv', 's.load_dataframes', 's.load_object', 's.save_dataframes', 's.saves_csv_folder', 's.saves_folder', 's.saves_pickle_folder', 's.store_objects']\n"
     ]
    },
    {
     "data": {
      "text/plain": [
       "['Config', 'CountVectorizer', 'In', 'Out', 'RandomForestClassifier', 'SequenceMatcher', 'Storage', 'TfidfTransformer', '_', '__', '___', '__builtin__', '__builtins__', '__doc__', '__loader__', '__name__', '__nonzero__', '__package__', '__spec__', '_dh', '_i', '_i1', '_ih', '_ii', '_iii', '_oh', 'basic_quals_dict', 'check_4_doubles', 'check_for_typos', 'conjunctify_list', 'copyfile', 'csv', 'encoding', 'exit', 'get_classifier', 'get_data_structs_dataframe', 'get_datastructure_prediction', 'get_dir_tree', 'get_git_lfs_track_commands', 'get_importances', 'get_input_sample', 'get_ipython', 'get_module_version', 'get_notebook_path', 'get_specific_gitignore_files', 'get_struct_name', 'humanize_bytes', 'hunting_df', 'ipykernel', 'json', 'jupyter_config_dir', 'notebook_path', 'notebookapp', 'np', 'os', 'pd', 'pickle', 'preprocess_data', 'print_all_files_ending_starting_with', 'print_all_files_ending_with', 'print_all_files_starting_with', 'quit', 're', 'remove_empty_folders', 's', 'similar', 'subprocess', 'sys', 'time', 'urllib']"
      ]
     },
     "execution_count": 1,
     "metadata": {},
     "output_type": "execute_result"
    }
   ],
   "source": [
    "\n",
    "%run ../../load_magic/storage.py\n",
    "%run ../../load_magic/paths.py\n",
    "%run ../../load_magic/lists.py\n",
    "%run ../../load_magic/environment.py\n",
    "import numpy as np\n",
    "from sklearn.feature_extraction.text import CountVectorizer\n",
    "from sklearn.feature_extraction.text import TfidfTransformer\n",
    "%pprint\n",
    "\n",
    "notebook_path = get_notebook_path()\n",
    "print(notebook_path)\n",
    "\n",
    "s = Storage()\n",
    "print(['s.{}'.format(fn) for fn in dir(s) if not fn.startswith('_')])\n",
    "hunting_df = s.load_object('hunting_df')\n",
    "basic_quals_dict = s.load_object('basic_quals_dict')\n",
    "dir()"
   ]
  },
  {
   "cell_type": "code",
   "execution_count": 69,
   "metadata": {},
   "outputs": [],
   "source": [
    "\n",
    "!start %windir%\\explorer.exe \"{os.path.abspath(os.path.dirname(notebook_path))}\""
   ]
  },
  {
   "cell_type": "markdown",
   "metadata": {},
   "source": [
    "\n",
    "---\n",
    "# Run these to clear out the dataset for the demo"
   ]
  },
  {
   "cell_type": "code",
   "execution_count": 58,
   "metadata": {},
   "outputs": [],
   "source": [
    "\n",
    "columns_list = ['Hiring Manager', 'Management Level', 'IMT', 'Job Requisition', 'Job Requisition Type', 'Cluster', 'Time Type',\n",
    "                'Job Posting Title', 'Safi Recommendation', 'Recruiting Start Date', 'Account Group', 'Job Requisition ID',\n",
    "                'Job Type', 'Supervisory Organization', 'Clearance Agency', 'Primary Location State/Province', 'Furthest Stage',\n",
    "                'Resource Manager', 'Primary Location', 'Job Description', 'Group', 'Job Profile', 'Job Family Group', 'FSO',\n",
    "                'Job Family', 'Job Requisition Status', 'Business Title', 'Job Posting', 'Primary Location Country',\n",
    "                'Required Clearance', 'Primary Recruiter', 'percent_fit', 'is_opportunity_application_emailed', 'opportunity_application_email_date',\n",
    "                'is_remote_delivery', 'manager_notes', 'CS Notes']\n",
    "hunting_df = pd.DataFrame([], columns=columns_list)"
   ]
  },
  {
   "cell_type": "code",
   "execution_count": 65,
   "metadata": {},
   "outputs": [
    {
     "data": {
      "text/plain": [
       "'3+ years of experience with developing software in object-oriented and scripting languages, including MATLAB, C/C++, and Python'"
      ]
     },
     "execution_count": 65,
     "metadata": {},
     "output_type": "execute_result"
    }
   ],
   "source": [
    "\n",
    "[qual_str for qual_str in basic_quals_dict if 'python' in qual_str.lower()][0]"
   ]
  },
  {
   "cell_type": "code",
   "execution_count": 53,
   "metadata": {},
   "outputs": [],
   "source": [
    "\n",
    "old_key = '3 years of experience with developing software in object-oriented and scripting languages, including MATLAB, C/C++, and Python'\n",
    "if old_key in basic_quals_dict:\n",
    "    basic_quals_dict.pop(old_key)\n",
    "req_id_list = ['R0069317']\n",
    "mask_series = hunting_df['Job Requisition ID'].isin(req_id_list)\n",
    "hunting_df.loc[mask_series, 'percent_fit'] = np.nan"
   ]
  },
  {
   "cell_type": "markdown",
   "metadata": {},
   "source": [
    "\n",
    "---\n",
    "# Needed extra functions"
   ]
  },
  {
   "cell_type": "code",
   "execution_count": 3,
   "metadata": {},
   "outputs": [],
   "source": [
    "\n",
    "# Email prep\n",
    "subject_str = '{}% fit: Internal Candidate, Dave Babbitt, for {}'\n",
    "concerns_str = 'One important question I have is if the work can be supported remotely or if this position is available for remote delivery '\n",
    "concerns_str += '(or something equivalent).'\n",
    "concerns_str += \" I don't want to move my family out of New England.\"\n",
    "text_editor_path = r'C:\\Program Files\\Notepad++\\notepad++.exe'\n",
    "emails_dir = os.path.join(s.saves_folder, 'emails')\n",
    "os.makedirs(name=emails_dir, exist_ok=True)\n",
    "name_regex = re.compile(r'^([^(]+) \\((\\d+)\\)')\n",
    "def clean_email(email_str):\n",
    "    match_obj = name_regex.search(email_str)\n",
    "    if match_obj:\n",
    "        email_str = match_obj.group(1).strip()\n",
    "        employee_id = match_obj.group(2).strip()\n",
    "        names_list = re.split(r'\\s+', email_str, 0)\n",
    "        if len(names_list) >= 2:\n",
    "            first_name = names_list[0]\n",
    "            last_name = names_list[1]\n",
    "            email_str = '{}, {} [USA] <{}@bah.com>'.format(last_name, first_name, employee_id)\n",
    "    \n",
    "    return email_str"
   ]
  },
  {
   "cell_type": "code",
   "execution_count": 4,
   "metadata": {},
   "outputs": [],
   "source": [
    "\n",
    "def get_percent_fit(row_series):\n",
    "    percent_fit = row_series['percent_fit']\n",
    "    if str(percent_fit) == 'nan':\n",
    "        percent_fit = 0\n",
    "    percent_fit = int(percent_fit*100)\n",
    "    \n",
    "    return percent_fit"
   ]
  },
  {
   "cell_type": "code",
   "execution_count": 5,
   "metadata": {},
   "outputs": [],
   "source": [
    "\n",
    "def print_loc_computation(row_index, quals_list, basic_quals_dict):\n",
    "    print()\n",
    "    numerator_str_list = []\n",
    "    for qual_str in quals_list:\n",
    "        if qual_str in basic_quals_dict:\n",
    "            numerator_str_list.append(str(basic_quals_dict[qual_str]))\n",
    "        else:\n",
    "            numerator_str_list.append('000')\n",
    "    numerator_str = '+'.join(numerator_str_list)\n",
    "    print(\"hunting_df.loc[{}, 'percent_fit'] = ({})/{}\".format(row_index, numerator_str, len(quals_list)))"
   ]
  },
  {
   "cell_type": "code",
   "execution_count": 6,
   "metadata": {},
   "outputs": [],
   "source": [
    "\n",
    "def get_predictions_and_counts(prediction_list, quals_list):\n",
    "    qual_count = 0\n",
    "    prediction_str = ''\n",
    "    for pred_array, qual_str in zip(prediction_list, quals_list):\n",
    "        prediction = pred_array[1]\n",
    "        prediction_str += '\\n{} {}'.format(prediction, qual_str)\n",
    "        if prediction > 0.5:\n",
    "            qual_count += 1\n",
    "    \n",
    "    return prediction_str, qual_count"
   ]
  },
  {
   "cell_type": "code",
   "execution_count": 7,
   "metadata": {},
   "outputs": [],
   "source": [
    "\n",
    "def get_quals_str(prediction_list, quals_list, basic_quals_dict):\n",
    "    qual_count = 0\n",
    "    quals_str = ''\n",
    "    for pred_array, (i, qual_str) in zip(prediction_list, enumerate(quals_list)):\n",
    "        if qual_str in basic_quals_dict:\n",
    "            formatted_str = '\\nquals_list[{}] = \"{}\" ({})'\n",
    "        else:\n",
    "            formatted_str = '\\n*quals_list[{}] = \"{}\" ({})'\n",
    "        prediction = pred_array[1]\n",
    "        quals_str += formatted_str.format(i, qual_str, prediction)\n",
    "        if prediction > 0.5:\n",
    "            qual_count += 1\n",
    "    \n",
    "    return quals_str, qual_count"
   ]
  },
  {
   "cell_type": "code",
   "execution_count": 8,
   "metadata": {},
   "outputs": [],
   "source": [
    "\n",
    "def print_fit_job(row_index, row_series, basic_quals_dict):\n",
    "    job_fitness = 0.0\n",
    "    job_description = row_series['Job Description']\n",
    "    quals_list = get_quals_list(job_description)\n",
    "    if len(quals_list):\n",
    "        prediction_list = list(predict_percent_fit(quals_list))\n",
    "        #prediction_str, qual_count = get_predictions_and_counts(prediction_list, quals_list)\n",
    "        quals_str, qual_count = get_quals_str(prediction_list, quals_list, basic_quals_dict)\n",
    "        job_fitness = qual_count/len(prediction_list)\n",
    "        if job_fitness > 0.8:\n",
    "            print('Basic Qualifications:{}'.format(quals_str))\n",
    "            #print(prediction_str)\n",
    "            print(job_fitness)\n",
    "            print_loc_computation(row_index, quals_list, basic_quals_dict)\n",
    "    \n",
    "    return quals_list, job_fitness"
   ]
  },
  {
   "cell_type": "code",
   "execution_count": 9,
   "metadata": {},
   "outputs": [],
   "source": [
    "\n",
    "def qual_sum(qual_str):\n",
    "    results = '\"{}\"'.format(qual_str)\n",
    "    if qual_str in basic_quals_dict:\n",
    "        results = basic_quals_dict[qual_str]\n",
    "    else:\n",
    "        results = predict_percent_fit([qual_str])[0][1]\n",
    "        if results > 0.5:\n",
    "            results = 1.0\n",
    "        else:\n",
    "            results = 0.0\n",
    "    \n",
    "    return str(results)"
   ]
  },
  {
   "cell_type": "code",
   "execution_count": 10,
   "metadata": {},
   "outputs": [],
   "source": [
    "\n",
    "def print_job_description(req_id):\n",
    "    mask_series = (hunting_df['Job Requisition ID'] == req_id)\n",
    "    job_description = hunting_df[mask_series]['Job Description'].tolist()[0]\n",
    "    print(get_quals_list(job_description))\n",
    "    print(job_description)"
   ]
  },
  {
   "cell_type": "code",
   "execution_count": 11,
   "metadata": {},
   "outputs": [],
   "source": [
    "\n",
    "scanner_regex = re.compile(r'\\b[1-9a-zA-Z][0-9a-zA-Z]*( *[#\\+]{1,2}|\\b)')\n",
    "def regex_tokenizer(corpus):\n",
    "    \n",
    "    return [match.group() for match in re.finditer(scanner_regex, corpus)]"
   ]
  },
  {
   "cell_type": "code",
   "execution_count": 12,
   "metadata": {},
   "outputs": [],
   "source": [
    "\n",
    "import string\n",
    "\n",
    "printable_regex = re.compile('[^{}]+'.format(string.printable))\n",
    "def un_msword_ify(x):\n",
    "    msword_str = str(x)\n",
    "    msword_str = printable_regex.sub(r' ', msword_str).strip()\n",
    "    msword_str = re.sub(r'[^\\x00-\\x7f]+', r' ', msword_str).strip()\n",
    "    msword_str = re.sub(r' +', ' ', msword_str)\n",
    "    msword_str = re.sub(r'::', ':', msword_str)\n",
    "    msword_str = re.sub(r':$', '', msword_str)\n",
    "    msword_str = re.sub(r'^-', '', msword_str)\n",
    "    \n",
    "    return msword_str"
   ]
  },
  {
   "cell_type": "code",
   "execution_count": 13,
   "metadata": {},
   "outputs": [],
   "source": [
    "\n",
    "a_list = ['Additional Qualifications?', 'Nice If You Have', 'Nice if you have', 'Nice if You Have',\n",
    "          'Additional Preferred Qualifications', 'Nice if you Have', 'Additional qualifications', 'Nice to Have']\n",
    "a_str = '({}):?'.format('|'.join(a_list))\n",
    "def get_quals_list(job_description):\n",
    "    job_description = un_msword_ify(job_description)\n",
    "    basic_quals = ''\n",
    "    quals_list = []\n",
    "    items_list = re.split('(Key Role|The Challenge):', job_description, 0)\n",
    "    if len(items_list) > 1:\n",
    "        job_description = items_list[-1].strip()\n",
    "    items_list = re.split('[\\r\\n]+(Basic Qualifications?|You Have|You have):?', job_description, 0)\n",
    "    if len(items_list) > 1:\n",
    "        job_description = items_list[-1].strip()\n",
    "    items_list = re.split(a_str, job_description, 0)\n",
    "    if len(items_list) > 1:\n",
    "        basic_quals = items_list[0].strip()\n",
    "    else:\n",
    "        items_list = re.split('(Clearance|Build Your Career):', job_description, 0)\n",
    "        basic_quals = items_list[0].strip()\n",
    "    if basic_quals != '':\n",
    "        quals_list = [un_msword_ify(q) for q in re.split('[\\r\\n]+', basic_quals, 0)]\n",
    "        quals_list = [x for x in quals_list if x != '']\n",
    "    quals_list = [x.strip() for x in quals_list if x.strip() != '']\n",
    "    \n",
    "    return quals_list"
   ]
  },
  {
   "cell_type": "code",
   "execution_count": 14,
   "metadata": {},
   "outputs": [],
   "source": [
    "\n",
    "def print_emails(mask_series):\n",
    "    for file_name in os.listdir(emails_dir):\n",
    "        if file_name.endswith('.txt'):\n",
    "            file_path = os.path.join(emails_dir, file_name)\n",
    "            os.remove(file_path)\n",
    "    for row_index, row_series in hunting_df[mask_series].sort_values('percent_fit', ascending=False).iterrows():\n",
    "        req_str = row_series['Job Requisition']\n",
    "        percent_fit = get_percent_fit(row_series)\n",
    "        sents_list = ['I’m submitting my resume for {}.'.format(req_str),\n",
    "                      'I’ve reviewed the basic qualifications and believe I’m a good fit for this project.',\n",
    "                      'Below is a breakdown of the requirements and the amount of experience I have with each.',\n",
    "                      'I’m available at your convenience to discuss my qualifications and look forward to hearing from you.']\n",
    "        blurb_str = ' '.join(sents_list)\n",
    "        hm_str = row_series['Hiring Manager']\n",
    "        pr_str = row_series['Primary Recruiter']\n",
    "        job_description = row_series['Job Description']\n",
    "        quals_list = get_quals_list(job_description)\n",
    "        quals_str = '\\n•\\t' + '\\n•\\t'.join(quals_list)\n",
    "        file_path = os.path.join(emails_dir, '{}_email.txt'.format(row_series['Job Requisition ID'].strip()))\n",
    "        if not os.path.isfile(file_path):\n",
    "            with open(file_path, 'w', encoding=s.encoding_type) as io_wrapper:\n",
    "                print('', file=io_wrapper)\n",
    "                print('To: {}; {}'.format(clean_email(hm_str), clean_email(pr_str)), file=io_wrapper)\n",
    "                print('CC: Safi, Claudia [USA] <safi_claudia@bah.com>; Borrelli, Bill [USA] <Borrelli_Bill@bah.com>', file=io_wrapper)\n",
    "                print(subject_str.format(percent_fit, req_str), file=io_wrapper)\n",
    "                print('', file=io_wrapper)\n",
    "                print('Dear {},'.format(hm_str.split(' ')[0]), file=io_wrapper)\n",
    "                print('', file=io_wrapper)\n",
    "                print('{}'.format(blurb_str), file=io_wrapper)\n",
    "                print('', file=io_wrapper)\n",
    "                print('Basic Qualifications:{}'.format(quals_str), file=io_wrapper)\n",
    "                print('', file=io_wrapper)\n",
    "                print(concerns_str, file=io_wrapper)\n",
    "                print('', file=io_wrapper)\n",
    "                print('Attached: Dave_Babbitt_Resume_for_{}.pdf'.format('_'.join(re.split(r'[ \\\\\\/:\\*\\?\"><\\|]+', req_str, 0))),\n",
    "                      file=io_wrapper)\n",
    "            !\"{text_editor_path}\" \"{os.path.abspath(file_path)}\"\n",
    "    !start %windir%\\explorer.exe \"{os.path.abspath(emails_dir)}\""
   ]
  },
  {
   "cell_type": "code",
   "execution_count": 61,
   "metadata": {},
   "outputs": [],
   "source": [
    "\n",
    "# Add new ORR to the hunting dataframe\n",
    "text_editor_path = r'C:\\Program Files\\Notepad++\\notepad++.exe'\n",
    "jd_cn = 'Job Description'\n",
    "reqid_cn = 'Job Requisition ID'\n",
    "dupe_columns_list = ['Hiring Manager', 'Management Level', 'IMT', 'Job Requisition', 'Job Requisition Type', 'Cluster', 'Time Type',\n",
    "                     'Job Posting Title', 'Recruiting Start Date', 'Account Group', reqid_cn, 'Job Type',\n",
    "                     'Supervisory Organization', 'Clearance Agency', 'Primary Location State/Province', 'Furthest Stage',\n",
    "                     'Resource Manager', 'Primary Location', jd_cn, 'Group', 'Job Profile', 'Job Family Group', 'FSO',\n",
    "                     'Job Family', 'Job Requisition Status', 'Business Title', 'Job Posting', 'Primary Location Country',\n",
    "                     'Required Clearance', 'Primary Recruiter']\n",
    "import_columns_list = ['Job Posting', 'Job Requisition', reqid_cn, 'Job Requisition Status', 'Furthest Stage',\n",
    "                       'Supervisory Organization', 'Group', 'Account Group', 'IMT', 'Cluster', 'FSO', 'Primary Recruiter',\n",
    "                       'Resource Manager', 'Hiring Manager', 'Job Posting Title', 'Job Profile', 'Job Requisition Type',\n",
    "                       'Management Level', 'Primary Location', 'Primary Location State/Province', 'Primary Location Country',\n",
    "                       'Required Clearance', 'Clearance Agency', 'Time Type', 'Recruiting Start Date', 'Job Type', 'Job Family',\n",
    "                       'Business Title', 'Job Family Group', jd_cn]\n",
    "hunting_dir = r'D:\\Documents\\Administrivia\\Job Hunting\\csv'\n",
    "def add_new_orr(file_name, hunting_df):\n",
    "    file_path = os.path.join(hunting_dir, file_name)\n",
    "    if os.path.isfile(file_path):\n",
    "        df = pd.read_csv(file_path, header=0, skiprows=0, encoding='iso8859-1')\n",
    "        df.columns = import_columns_list\n",
    "        req_id_list = hunting_df[reqid_cn].unique().tolist()\n",
    "        mask_series = (df[reqid_cn].isin(req_id_list))\n",
    "        hunting_df = pd.concat([hunting_df, df[~mask_series]]).fillna({'is_opportunity_application_emailed': False})\n",
    "        hunting_df[jd_cn] = hunting_df[jd_cn].map(un_msword_ify)\n",
    "        hunting_df = hunting_df.drop_duplicates(subset=dupe_columns_list, ignore_index=True)\n",
    "        hunting_df.reset_index(drop=True, inplace=True)\n",
    "        \n",
    "        return hunting_df"
   ]
  },
  {
   "cell_type": "code",
   "execution_count": 16,
   "metadata": {},
   "outputs": [],
   "source": [
    "\n",
    "basic_quals_dict = s.load_object('basic_quals_dict')\n",
    "def get_basic_quals(row_index):\n",
    "    mask_series = (hunting_df.index == row_index)\n",
    "    for row_index, row_series in hunting_df[mask_series].iterrows():\n",
    "        percent_fit = get_percent_fit(row_series)\n",
    "        job_description = row_series['Job Description']\n",
    "        quals_list = get_quals_list(job_description)\n",
    "        quals_str = get_quals_str(quals_list, basic_quals_dict)\n",
    "        if (quals_str != '') and (percent_fit == 0):\n",
    "            print('Basic Qualifications:{}'.format(quals_str))\n",
    "            print_loc_computation(row_index, quals_list, basic_quals_dict)\n",
    "    \n",
    "    return quals_list"
   ]
  },
  {
   "cell_type": "markdown",
   "metadata": {},
   "source": [
    "\n",
    "---\n",
    "# Add Next ORR"
   ]
  },
  {
   "cell_type": "code",
   "execution_count": 59,
   "metadata": {},
   "outputs": [
    {
     "name": "stdout",
     "output_type": "stream",
     "text": [
      "Open Requisitions Report (ORR) 2020-03-27 09_02 EDT.csv\n"
     ]
    }
   ],
   "source": [
    "\n",
    "file_name = 'Open Requisitions Report (ORR) 2020-03-27 09_02 EDT.csv'\n",
    "print(file_name)\n",
    "file_path = os.path.join(hunting_dir, file_name)\n",
    "#!\"{text_editor_path}\" \"{os.path.abspath(file_path)}\""
   ]
  },
  {
   "cell_type": "code",
   "execution_count": 62,
   "metadata": {},
   "outputs": [],
   "source": [
    "\n",
    "hunting_df = s.load_object('hunting_df')\n",
    "hunting_df = add_new_orr(file_name, hunting_df)"
   ]
  },
  {
   "cell_type": "code",
   "execution_count": 63,
   "metadata": {},
   "outputs": [
    {
     "data": {
      "text/html": [
       "<div>\n",
       "<style scoped>\n",
       "    .dataframe tbody tr th:only-of-type {\n",
       "        vertical-align: middle;\n",
       "    }\n",
       "\n",
       "    .dataframe tbody tr th {\n",
       "        vertical-align: top;\n",
       "    }\n",
       "\n",
       "    .dataframe thead th {\n",
       "        text-align: right;\n",
       "    }\n",
       "</style>\n",
       "<table border=\"1\" class=\"dataframe\">\n",
       "  <thead>\n",
       "    <tr style=\"text-align: right;\">\n",
       "      <th></th>\n",
       "      <th>3099</th>\n",
       "      <th>3100</th>\n",
       "      <th>3101</th>\n",
       "      <th>3102</th>\n",
       "      <th>3103</th>\n",
       "    </tr>\n",
       "  </thead>\n",
       "  <tbody>\n",
       "    <tr>\n",
       "      <th>Hiring Manager</th>\n",
       "      <td>Sanjeevani Iyer (554498)</td>\n",
       "      <td>Kate Knyzewski (520431)</td>\n",
       "      <td>Kelly O'Fallon (545583)</td>\n",
       "      <td>Kelly O'Fallon (545583)</td>\n",
       "      <td>Kate Knyzewski (520431)</td>\n",
       "    </tr>\n",
       "    <tr>\n",
       "      <th>Management Level</th>\n",
       "      <td>Lead Associate</td>\n",
       "      <td>Senior Consultant</td>\n",
       "      <td>Senior Consultant</td>\n",
       "      <td>Associate</td>\n",
       "      <td>Associate</td>\n",
       "    </tr>\n",
       "    <tr>\n",
       "      <th>IMT</th>\n",
       "      <td>IS STRATEGY ANALYTICS &amp;PS TECH</td>\n",
       "      <td>CYBER &amp; ENGINEERING IMT</td>\n",
       "      <td>NA CONSULTING IMT</td>\n",
       "      <td>NA CONSULTING IMT</td>\n",
       "      <td>CYBER &amp; ENGINEERING IMT</td>\n",
       "    </tr>\n",
       "    <tr>\n",
       "      <th>Job Requisition</th>\n",
       "      <td>R0067408 Workday Solutions Architect (Open)</td>\n",
       "      <td>R0081029 Workforce Business Analyst (Open)</td>\n",
       "      <td>R0076955 Workforce Planner, Mid (Open)</td>\n",
       "      <td>R0076954 Workforce Planner, Senior (Open)</td>\n",
       "      <td>R0081215 Workforce Training Developer, Senior ...</td>\n",
       "    </tr>\n",
       "    <tr>\n",
       "      <th>Job Requisition Type</th>\n",
       "      <td>ESG</td>\n",
       "      <td>Sold and Funded</td>\n",
       "      <td>Sold and Funded</td>\n",
       "      <td>Sold and Funded</td>\n",
       "      <td>Evergreen</td>\n",
       "    </tr>\n",
       "    <tr>\n",
       "      <th>Cluster</th>\n",
       "      <td>Wash Metro Cluster</td>\n",
       "      <td>Wash Metro Cluster</td>\n",
       "      <td>Wash Metro Cluster</td>\n",
       "      <td>Wash Metro Cluster</td>\n",
       "      <td>Wash Metro Cluster</td>\n",
       "    </tr>\n",
       "    <tr>\n",
       "      <th>Time Type</th>\n",
       "      <td>Full time</td>\n",
       "      <td>Full time</td>\n",
       "      <td>Full time</td>\n",
       "      <td>Full time</td>\n",
       "      <td>Full time</td>\n",
       "    </tr>\n",
       "    <tr>\n",
       "      <th>Job Posting Title</th>\n",
       "      <td>Workday Solutions Architect</td>\n",
       "      <td>Workforce Business Analyst</td>\n",
       "      <td>Workforce Planner, Mid</td>\n",
       "      <td>Workforce Planner, Senior</td>\n",
       "      <td>Workforce Training Developer, Senior</td>\n",
       "    </tr>\n",
       "    <tr>\n",
       "      <th>Safi Recommendation</th>\n",
       "      <td>NaN</td>\n",
       "      <td>NaN</td>\n",
       "      <td>NaN</td>\n",
       "      <td>NaN</td>\n",
       "      <td>NaN</td>\n",
       "    </tr>\n",
       "    <tr>\n",
       "      <th>Recruiting Start Date</th>\n",
       "      <td>2019-08-29</td>\n",
       "      <td>2020-03-20</td>\n",
       "      <td>2020-01-27</td>\n",
       "      <td>2020-01-27</td>\n",
       "      <td>2020-03-23</td>\n",
       "    </tr>\n",
       "    <tr>\n",
       "      <th>Account Group</th>\n",
       "      <td>INFORMATION SERVICES</td>\n",
       "      <td>FSO ACCT GROUP</td>\n",
       "      <td>NATL AGENCIES ACCT GROUP</td>\n",
       "      <td>NATL AGENCIES ACCT GROUP</td>\n",
       "      <td>FSO ACCT GROUP</td>\n",
       "    </tr>\n",
       "    <tr>\n",
       "      <th>Job Requisition ID</th>\n",
       "      <td>R0067408</td>\n",
       "      <td>R0081029</td>\n",
       "      <td>R0076955</td>\n",
       "      <td>R0076954</td>\n",
       "      <td>R0081215</td>\n",
       "    </tr>\n",
       "    <tr>\n",
       "      <th>Job Type</th>\n",
       "      <td>Regular</td>\n",
       "      <td>Regular</td>\n",
       "      <td>Regular</td>\n",
       "      <td>Regular</td>\n",
       "      <td>Regular</td>\n",
       "    </tr>\n",
       "    <tr>\n",
       "      <th>Supervisory Organization</th>\n",
       "      <td>Supervisory Organization (Sanjeevani Iyer (554...</td>\n",
       "      <td>Supervisory Organization (Kate Knyzewski (5204...</td>\n",
       "      <td>Supervisory Organization (Kelly O'Fallon (5455...</td>\n",
       "      <td>Supervisory Organization (Kelly O'Fallon (5455...</td>\n",
       "      <td>Supervisory Organization (Kate Knyzewski (5204...</td>\n",
       "    </tr>\n",
       "    <tr>\n",
       "      <th>Clearance Agency</th>\n",
       "      <td>Other</td>\n",
       "      <td>Other</td>\n",
       "      <td>Other</td>\n",
       "      <td>Other</td>\n",
       "      <td>Other</td>\n",
       "    </tr>\n",
       "    <tr>\n",
       "      <th>Primary Location State/Province</th>\n",
       "      <td>Virginia</td>\n",
       "      <td>Virginia</td>\n",
       "      <td>Virginia</td>\n",
       "      <td>Virginia</td>\n",
       "      <td>Virginia</td>\n",
       "    </tr>\n",
       "    <tr>\n",
       "      <th>Furthest Stage</th>\n",
       "      <td>Review</td>\n",
       "      <td>Review</td>\n",
       "      <td>Review</td>\n",
       "      <td>Review</td>\n",
       "      <td>Review</td>\n",
       "    </tr>\n",
       "    <tr>\n",
       "      <th>Resource Manager</th>\n",
       "      <td>Heather Kelleher (606460)</td>\n",
       "      <td>John Grumbine (523377)</td>\n",
       "      <td>Sofia Putrino (584012)</td>\n",
       "      <td>Sofia Putrino (584012)</td>\n",
       "      <td>John Grumbine (523377)</td>\n",
       "    </tr>\n",
       "    <tr>\n",
       "      <th>Primary Location</th>\n",
       "      <td>USA, VA, McLean (8283 Greensboro Dr, Hamilton)</td>\n",
       "      <td>USA, VA, Herndon (575 Herndon Pkwy)</td>\n",
       "      <td>USA, VA, Chantilly (14675 Lee Rd)</td>\n",
       "      <td>USA, VA, Chantilly (14675 Lee Rd)</td>\n",
       "      <td>USA, VA, Herndon (575 Herndon Pkwy)</td>\n",
       "    </tr>\n",
       "    <tr>\n",
       "      <th>Job Description</th>\n",
       "      <td>Key Role:\\nApply subject matter expertise in W...</td>\n",
       "      <td>Key Role:\\nPerform as an individual contributo...</td>\n",
       "      <td>Key Role:\\nServe as a workforce planning consu...</td>\n",
       "      <td>Key Role:\\nSupport enterprise-wide strategic w...</td>\n",
       "      <td>Key Role:\\nApply expertise in change managemen...</td>\n",
       "    </tr>\n",
       "    <tr>\n",
       "      <th>Group</th>\n",
       "      <td>CORPORATE CORE</td>\n",
       "      <td>STRATEGIC INNOVATION GROUP</td>\n",
       "      <td>NATIONAL SECURITY GROUP</td>\n",
       "      <td>NATIONAL SECURITY GROUP</td>\n",
       "      <td>STRATEGIC INNOVATION GROUP</td>\n",
       "    </tr>\n",
       "    <tr>\n",
       "      <th>Job Profile</th>\n",
       "      <td>HRIS Specialist Lead</td>\n",
       "      <td>Bus Ops Spec Mid</td>\n",
       "      <td>Human Capital Analyst Mid</td>\n",
       "      <td>Human Capital Analyst Sr</td>\n",
       "      <td>Technical Trainer Sr</td>\n",
       "    </tr>\n",
       "    <tr>\n",
       "      <th>Job Family Group</th>\n",
       "      <td>Internal Professional</td>\n",
       "      <td>Consulting &amp; Mission Operations</td>\n",
       "      <td>Consulting &amp; Mission Operations</td>\n",
       "      <td>Consulting &amp; Mission Operations</td>\n",
       "      <td>Consulting &amp; Mission Operations</td>\n",
       "    </tr>\n",
       "    <tr>\n",
       "      <th>FSO</th>\n",
       "      <td>Other - IP</td>\n",
       "      <td>Analytics</td>\n",
       "      <td>Consulting</td>\n",
       "      <td>Consulting</td>\n",
       "      <td>Consulting</td>\n",
       "    </tr>\n",
       "    <tr>\n",
       "      <th>Job Family</th>\n",
       "      <td>IP - HR Technology Professional</td>\n",
       "      <td>Financial Analyst</td>\n",
       "      <td>Strategic Human Capital Management Consultant</td>\n",
       "      <td>Strategic Human Capital Management Consultant</td>\n",
       "      <td>Learning Systems Instructional Designer</td>\n",
       "    </tr>\n",
       "    <tr>\n",
       "      <th>Job Requisition Status</th>\n",
       "      <td>Open</td>\n",
       "      <td>Open</td>\n",
       "      <td>Open</td>\n",
       "      <td>Open</td>\n",
       "      <td>Open</td>\n",
       "    </tr>\n",
       "    <tr>\n",
       "      <th>Business Title</th>\n",
       "      <td>HRIS Specialist Lead</td>\n",
       "      <td>Bus Ops Spec Mid</td>\n",
       "      <td>Human Capital Analyst Mid</td>\n",
       "      <td>Human Capital Analyst Sr</td>\n",
       "      <td>Technical Trainer Sr</td>\n",
       "    </tr>\n",
       "    <tr>\n",
       "      <th>Job Posting</th>\n",
       "      <td>Workday Solutions Architect</td>\n",
       "      <td>Workforce Business Analyst</td>\n",
       "      <td>Workforce Planner, Mid</td>\n",
       "      <td>Workforce Planner, Senior</td>\n",
       "      <td>Workforce Training Developer, Senior</td>\n",
       "    </tr>\n",
       "    <tr>\n",
       "      <th>Primary Location Country</th>\n",
       "      <td>United States of America</td>\n",
       "      <td>United States of America</td>\n",
       "      <td>United States of America</td>\n",
       "      <td>United States of America</td>\n",
       "      <td>United States of America</td>\n",
       "    </tr>\n",
       "    <tr>\n",
       "      <th>Required Clearance</th>\n",
       "      <td>Eligibility Determination Timeline</td>\n",
       "      <td>Eligibility Determination Timeline</td>\n",
       "      <td>TS/SCI w/CIP</td>\n",
       "      <td>TS/SCI w/CIP</td>\n",
       "      <td>Eligibility Determination Timeline</td>\n",
       "    </tr>\n",
       "    <tr>\n",
       "      <th>Primary Recruiter</th>\n",
       "      <td>Heather Kelleher (606460)</td>\n",
       "      <td>Emelyn Ortuno (832565)[C]</td>\n",
       "      <td>Amanda Slyper (591000)</td>\n",
       "      <td>Amanda Slyper (591000)</td>\n",
       "      <td>Emelyn Ortuno (832565)[C]</td>\n",
       "    </tr>\n",
       "    <tr>\n",
       "      <th>percent_fit</th>\n",
       "      <td>NaN</td>\n",
       "      <td>NaN</td>\n",
       "      <td>NaN</td>\n",
       "      <td>NaN</td>\n",
       "      <td>NaN</td>\n",
       "    </tr>\n",
       "    <tr>\n",
       "      <th>is_opportunity_application_emailed</th>\n",
       "      <td>False</td>\n",
       "      <td>False</td>\n",
       "      <td>False</td>\n",
       "      <td>False</td>\n",
       "      <td>False</td>\n",
       "    </tr>\n",
       "    <tr>\n",
       "      <th>is_remote_delivery</th>\n",
       "      <td>NaN</td>\n",
       "      <td>NaN</td>\n",
       "      <td>NaN</td>\n",
       "      <td>NaN</td>\n",
       "      <td>NaN</td>\n",
       "    </tr>\n",
       "    <tr>\n",
       "      <th>manager_notes</th>\n",
       "      <td>NaN</td>\n",
       "      <td>NaN</td>\n",
       "      <td>NaN</td>\n",
       "      <td>NaN</td>\n",
       "      <td>NaN</td>\n",
       "    </tr>\n",
       "    <tr>\n",
       "      <th>CS Notes</th>\n",
       "      <td>NaN</td>\n",
       "      <td>NaN</td>\n",
       "      <td>NaN</td>\n",
       "      <td>NaN</td>\n",
       "      <td>NaN</td>\n",
       "    </tr>\n",
       "  </tbody>\n",
       "</table>\n",
       "</div>"
      ],
      "text/plain": [
       "                                                                                 3099  \\\n",
       "Hiring Manager                                               Sanjeevani Iyer (554498)   \n",
       "Management Level                                                       Lead Associate   \n",
       "IMT                                                    IS STRATEGY ANALYTICS &PS TECH   \n",
       "Job Requisition                           R0067408 Workday Solutions Architect (Open)   \n",
       "Job Requisition Type                                                              ESG   \n",
       "Cluster                                                            Wash Metro Cluster   \n",
       "Time Type                                                                   Full time   \n",
       "Job Posting Title                                         Workday Solutions Architect   \n",
       "Safi Recommendation                                                               NaN   \n",
       "Recruiting Start Date                                                      2019-08-29   \n",
       "Account Group                                                    INFORMATION SERVICES   \n",
       "Job Requisition ID                                                           R0067408   \n",
       "Job Type                                                                      Regular   \n",
       "Supervisory Organization            Supervisory Organization (Sanjeevani Iyer (554...   \n",
       "Clearance Agency                                                                Other   \n",
       "Primary Location State/Province                                              Virginia   \n",
       "Furthest Stage                                                                 Review   \n",
       "Resource Manager                                            Heather Kelleher (606460)   \n",
       "Primary Location                       USA, VA, McLean (8283 Greensboro Dr, Hamilton)   \n",
       "Job Description                     Key Role:\\nApply subject matter expertise in W...   \n",
       "Group                                                                  CORPORATE CORE   \n",
       "Job Profile                                                      HRIS Specialist Lead   \n",
       "Job Family Group                                                Internal Professional   \n",
       "FSO                                                                        Other - IP   \n",
       "Job Family                                            IP - HR Technology Professional   \n",
       "Job Requisition Status                                                           Open   \n",
       "Business Title                                                   HRIS Specialist Lead   \n",
       "Job Posting                                               Workday Solutions Architect   \n",
       "Primary Location Country                                     United States of America   \n",
       "Required Clearance                                 Eligibility Determination Timeline   \n",
       "Primary Recruiter                                           Heather Kelleher (606460)   \n",
       "percent_fit                                                                       NaN   \n",
       "is_opportunity_application_emailed                                              False   \n",
       "is_remote_delivery                                                                NaN   \n",
       "manager_notes                                                                     NaN   \n",
       "CS Notes                                                                          NaN   \n",
       "\n",
       "                                                                                 3100  \\\n",
       "Hiring Manager                                                Kate Knyzewski (520431)   \n",
       "Management Level                                                    Senior Consultant   \n",
       "IMT                                                           CYBER & ENGINEERING IMT   \n",
       "Job Requisition                            R0081029 Workforce Business Analyst (Open)   \n",
       "Job Requisition Type                                                  Sold and Funded   \n",
       "Cluster                                                            Wash Metro Cluster   \n",
       "Time Type                                                                   Full time   \n",
       "Job Posting Title                                          Workforce Business Analyst   \n",
       "Safi Recommendation                                                               NaN   \n",
       "Recruiting Start Date                                                      2020-03-20   \n",
       "Account Group                                                          FSO ACCT GROUP   \n",
       "Job Requisition ID                                                           R0081029   \n",
       "Job Type                                                                      Regular   \n",
       "Supervisory Organization            Supervisory Organization (Kate Knyzewski (5204...   \n",
       "Clearance Agency                                                                Other   \n",
       "Primary Location State/Province                                              Virginia   \n",
       "Furthest Stage                                                                 Review   \n",
       "Resource Manager                                               John Grumbine (523377)   \n",
       "Primary Location                                  USA, VA, Herndon (575 Herndon Pkwy)   \n",
       "Job Description                     Key Role:\\nPerform as an individual contributo...   \n",
       "Group                                                      STRATEGIC INNOVATION GROUP   \n",
       "Job Profile                                                          Bus Ops Spec Mid   \n",
       "Job Family Group                                      Consulting & Mission Operations   \n",
       "FSO                                                                         Analytics   \n",
       "Job Family                                                          Financial Analyst   \n",
       "Job Requisition Status                                                           Open   \n",
       "Business Title                                                       Bus Ops Spec Mid   \n",
       "Job Posting                                                Workforce Business Analyst   \n",
       "Primary Location Country                                     United States of America   \n",
       "Required Clearance                                 Eligibility Determination Timeline   \n",
       "Primary Recruiter                                           Emelyn Ortuno (832565)[C]   \n",
       "percent_fit                                                                       NaN   \n",
       "is_opportunity_application_emailed                                              False   \n",
       "is_remote_delivery                                                                NaN   \n",
       "manager_notes                                                                     NaN   \n",
       "CS Notes                                                                          NaN   \n",
       "\n",
       "                                                                                 3101  \\\n",
       "Hiring Manager                                                Kelly O'Fallon (545583)   \n",
       "Management Level                                                    Senior Consultant   \n",
       "IMT                                                                 NA CONSULTING IMT   \n",
       "Job Requisition                                R0076955 Workforce Planner, Mid (Open)   \n",
       "Job Requisition Type                                                  Sold and Funded   \n",
       "Cluster                                                            Wash Metro Cluster   \n",
       "Time Type                                                                   Full time   \n",
       "Job Posting Title                                              Workforce Planner, Mid   \n",
       "Safi Recommendation                                                               NaN   \n",
       "Recruiting Start Date                                                      2020-01-27   \n",
       "Account Group                                                NATL AGENCIES ACCT GROUP   \n",
       "Job Requisition ID                                                           R0076955   \n",
       "Job Type                                                                      Regular   \n",
       "Supervisory Organization            Supervisory Organization (Kelly O'Fallon (5455...   \n",
       "Clearance Agency                                                                Other   \n",
       "Primary Location State/Province                                              Virginia   \n",
       "Furthest Stage                                                                 Review   \n",
       "Resource Manager                                               Sofia Putrino (584012)   \n",
       "Primary Location                                    USA, VA, Chantilly (14675 Lee Rd)   \n",
       "Job Description                     Key Role:\\nServe as a workforce planning consu...   \n",
       "Group                                                         NATIONAL SECURITY GROUP   \n",
       "Job Profile                                                 Human Capital Analyst Mid   \n",
       "Job Family Group                                      Consulting & Mission Operations   \n",
       "FSO                                                                        Consulting   \n",
       "Job Family                              Strategic Human Capital Management Consultant   \n",
       "Job Requisition Status                                                           Open   \n",
       "Business Title                                              Human Capital Analyst Mid   \n",
       "Job Posting                                                    Workforce Planner, Mid   \n",
       "Primary Location Country                                     United States of America   \n",
       "Required Clearance                                                       TS/SCI w/CIP   \n",
       "Primary Recruiter                                              Amanda Slyper (591000)   \n",
       "percent_fit                                                                       NaN   \n",
       "is_opportunity_application_emailed                                              False   \n",
       "is_remote_delivery                                                                NaN   \n",
       "manager_notes                                                                     NaN   \n",
       "CS Notes                                                                          NaN   \n",
       "\n",
       "                                                                                 3102  \\\n",
       "Hiring Manager                                                Kelly O'Fallon (545583)   \n",
       "Management Level                                                            Associate   \n",
       "IMT                                                                 NA CONSULTING IMT   \n",
       "Job Requisition                             R0076954 Workforce Planner, Senior (Open)   \n",
       "Job Requisition Type                                                  Sold and Funded   \n",
       "Cluster                                                            Wash Metro Cluster   \n",
       "Time Type                                                                   Full time   \n",
       "Job Posting Title                                           Workforce Planner, Senior   \n",
       "Safi Recommendation                                                               NaN   \n",
       "Recruiting Start Date                                                      2020-01-27   \n",
       "Account Group                                                NATL AGENCIES ACCT GROUP   \n",
       "Job Requisition ID                                                           R0076954   \n",
       "Job Type                                                                      Regular   \n",
       "Supervisory Organization            Supervisory Organization (Kelly O'Fallon (5455...   \n",
       "Clearance Agency                                                                Other   \n",
       "Primary Location State/Province                                              Virginia   \n",
       "Furthest Stage                                                                 Review   \n",
       "Resource Manager                                               Sofia Putrino (584012)   \n",
       "Primary Location                                    USA, VA, Chantilly (14675 Lee Rd)   \n",
       "Job Description                     Key Role:\\nSupport enterprise-wide strategic w...   \n",
       "Group                                                         NATIONAL SECURITY GROUP   \n",
       "Job Profile                                                  Human Capital Analyst Sr   \n",
       "Job Family Group                                      Consulting & Mission Operations   \n",
       "FSO                                                                        Consulting   \n",
       "Job Family                              Strategic Human Capital Management Consultant   \n",
       "Job Requisition Status                                                           Open   \n",
       "Business Title                                               Human Capital Analyst Sr   \n",
       "Job Posting                                                 Workforce Planner, Senior   \n",
       "Primary Location Country                                     United States of America   \n",
       "Required Clearance                                                       TS/SCI w/CIP   \n",
       "Primary Recruiter                                              Amanda Slyper (591000)   \n",
       "percent_fit                                                                       NaN   \n",
       "is_opportunity_application_emailed                                              False   \n",
       "is_remote_delivery                                                                NaN   \n",
       "manager_notes                                                                     NaN   \n",
       "CS Notes                                                                          NaN   \n",
       "\n",
       "                                                                                 3103  \n",
       "Hiring Manager                                                Kate Knyzewski (520431)  \n",
       "Management Level                                                            Associate  \n",
       "IMT                                                           CYBER & ENGINEERING IMT  \n",
       "Job Requisition                     R0081215 Workforce Training Developer, Senior ...  \n",
       "Job Requisition Type                                                        Evergreen  \n",
       "Cluster                                                            Wash Metro Cluster  \n",
       "Time Type                                                                   Full time  \n",
       "Job Posting Title                                Workforce Training Developer, Senior  \n",
       "Safi Recommendation                                                               NaN  \n",
       "Recruiting Start Date                                                      2020-03-23  \n",
       "Account Group                                                          FSO ACCT GROUP  \n",
       "Job Requisition ID                                                           R0081215  \n",
       "Job Type                                                                      Regular  \n",
       "Supervisory Organization            Supervisory Organization (Kate Knyzewski (5204...  \n",
       "Clearance Agency                                                                Other  \n",
       "Primary Location State/Province                                              Virginia  \n",
       "Furthest Stage                                                                 Review  \n",
       "Resource Manager                                               John Grumbine (523377)  \n",
       "Primary Location                                  USA, VA, Herndon (575 Herndon Pkwy)  \n",
       "Job Description                     Key Role:\\nApply expertise in change managemen...  \n",
       "Group                                                      STRATEGIC INNOVATION GROUP  \n",
       "Job Profile                                                      Technical Trainer Sr  \n",
       "Job Family Group                                      Consulting & Mission Operations  \n",
       "FSO                                                                        Consulting  \n",
       "Job Family                                    Learning Systems Instructional Designer  \n",
       "Job Requisition Status                                                           Open  \n",
       "Business Title                                                   Technical Trainer Sr  \n",
       "Job Posting                                      Workforce Training Developer, Senior  \n",
       "Primary Location Country                                     United States of America  \n",
       "Required Clearance                                 Eligibility Determination Timeline  \n",
       "Primary Recruiter                                           Emelyn Ortuno (832565)[C]  \n",
       "percent_fit                                                                       NaN  \n",
       "is_opportunity_application_emailed                                              False  \n",
       "is_remote_delivery                                                                NaN  \n",
       "manager_notes                                                                     NaN  \n",
       "CS Notes                                                                          NaN  "
      ]
     },
     "execution_count": 63,
     "metadata": {},
     "output_type": "execute_result"
    }
   ],
   "source": [
    "\n",
    "hunting_df.tail(5).T"
   ]
  },
  {
   "cell_type": "code",
   "execution_count": 64,
   "metadata": {},
   "outputs": [
    {
     "name": "stdout",
     "output_type": "stream",
     "text": [
      "Pickling to D:\\Documents\\Repositories\\notebooks\\Miscellaneous\\saves\\pickle\\hunting_df.pickle\n"
     ]
    }
   ],
   "source": [
    "\n",
    "s.store_objects(hunting_df=hunting_df)"
   ]
  },
  {
   "cell_type": "markdown",
   "metadata": {},
   "source": [
    "\n",
    "---\n",
    "# Training"
   ]
  },
  {
   "cell_type": "code",
   "execution_count": 66,
   "metadata": {},
   "outputs": [
    {
     "name": "stdout",
     "output_type": "stream",
     "text": [
      "Pickling to D:\\Documents\\Repositories\\notebooks\\Miscellaneous\\saves\\pickle\\basic_quals_df.pickle\n",
      "Pickling to D:\\Documents\\Repositories\\notebooks\\Miscellaneous\\saves\\pickle\\bq_cv_vocab.pickle\n",
      "Pickling to D:\\Documents\\Repositories\\notebooks\\Miscellaneous\\saves\\pickle\\bq_tt.pickle\n",
      "Pickling to D:\\Documents\\Repositories\\notebooks\\Miscellaneous\\saves\\pickle\\basic_quals_clf.pickle\n",
      "Retraining complete\n"
     ]
    }
   ],
   "source": [
    "\n",
    "# Rebuild the datframe from the dictionary\n",
    "rows_list = [{'qualification_str': qualification_str, 'is_fit': is_fit} for qualification_str, is_fit in basic_quals_dict.items()]\n",
    "basic_quals_df = pd.DataFrame(rows_list)\n",
    "s.store_objects(basic_quals_df=basic_quals_df)\n",
    "\n",
    "# Re-transform the bag-of-words and tf-idf from the new manual scores\n",
    "sents_list = basic_quals_df.qualification_str.tolist()\n",
    "\n",
    "# Bag-of-words\n",
    "cv = CountVectorizer(lowercase=True, tokenizer=regex_tokenizer, token_pattern=r'\\b[1-9a-zA-Z][0-9a-zA-Z]*[#\\+]{0,2}', ngram_range=(1, 3))\n",
    "bow_matrix = cv.fit_transform(sents_list)\n",
    "s.store_objects(bq_cv_vocab=cv.vocabulary_)\n",
    "\n",
    "# Tf-idf, must get from BOW first\n",
    "tt = TfidfTransformer()\n",
    "tfidf_matrix = tt.fit_transform(bow_matrix)\n",
    "s.store_objects(bq_tt=tt)\n",
    "\n",
    "# Re-train the classifier\n",
    "X = tfidf_matrix.toarray()\n",
    "y = basic_quals_df.is_fit.to_numpy()\n",
    "fit_estimators_dict = s.load_object('fit_estimators_dict')\n",
    "#basic_quals_clf = RandomForestClassifier(n_estimators=997)\n",
    "#basic_quals_clf = AdaBoostClassifier(algorithm='SAMME.R', base_estimator=None, learning_rate=1.0, n_estimators=50, random_state=None)\n",
    "basic_quals_clf = fit_estimators_dict['LogisticRegression']\n",
    "basic_quals_clf.fit(X, y)\n",
    "s.store_objects(basic_quals_clf=basic_quals_clf)\n",
    "\n",
    "# Re-calibrate the inference engine\n",
    "bq_cv_vocab = s.load_object('bq_cv_vocab')\n",
    "bq_cv = CountVectorizer(vocabulary=bq_cv_vocab)\n",
    "bq_cv._validate_vocabulary()\n",
    "bq_tt = s.load_object('bq_tt')\n",
    "def predict_percent_fit(quals_list):\n",
    "    y_predict_proba = np.array([])\n",
    "    if len(quals_list):\n",
    "        X_test = bq_tt.transform(bq_cv.transform(quals_list)).toarray()\n",
    "        y_predict_proba = basic_quals_clf.predict_proba(X_test)\n",
    "    \n",
    "    return y_predict_proba\n",
    "print('Retraining complete')"
   ]
  },
  {
   "cell_type": "markdown",
   "metadata": {},
   "source": [
    "\n",
    "---\n",
    "# Inference"
   ]
  },
  {
   "cell_type": "code",
   "execution_count": 67,
   "metadata": {},
   "outputs": [
    {
     "name": "stdout",
     "output_type": "stream",
     "text": [
      "Pickling to D:\\Documents\\Repositories\\notebooks\\Miscellaneous\\saves\\pickle\\hunting_df.pickle\n",
      "Basic Qualifications:\n",
      "quals_list[0] = \"1+ years of experience with developing in C# using Visual Studio and .NET\" (0.319948487016373)\n",
      "quals_list[1] = \"1+ years of experience with HTML, CSS, and JavaScript\" (0.8416043522764212)\n",
      "quals_list[2] = \"Experience with developing in Microsoft Windows environments\" (0.6370598790661617)\n",
      "quals_list[3] = \"Experience with SQL Server or Oracle\" (0.8617958560698085)\n",
      "quals_list[4] = \"Ability to learn Pega\" (0.6929794779538007)\n",
      "quals_list[5] = \"Active Top Secret clearance\" (0.759169523493344)\n",
      "quals_list[6] = \"BA or BS degree\" (0.8020448455208821)\n",
      "0.8571428571428571\n",
      "\n",
      "hunting_df.loc[1, 'percent_fit'] = (0+1+1+1+1+1+1)/7\n",
      "Pickling to D:\\Documents\\Repositories\\notebooks\\Miscellaneous\\saves\\pickle\\hunting_df.pickle\n",
      "Basic Qualifications:\n",
      "quals_list[0] = \"5+ years of experience with developing in C# using Visual Studio and .NET\" (0.319948487016373)\n",
      "quals_list[1] = \"5+ years of experience with HTML, CSS, and JavaScript\" (0.8416043522764212)\n",
      "quals_list[2] = \"Experience with developing in Microsoft Windows environments\" (0.6370598790661617)\n",
      "quals_list[3] = \"Experience with SQL Server or Oracle\" (0.8617958560698085)\n",
      "quals_list[4] = \"Ability to learn Pega\" (0.6929794779538007)\n",
      "quals_list[5] = \"Active Top Secret clearance\" (0.759169523493344)\n",
      "quals_list[6] = \"BA or BS degree\" (0.8020448455208821)\n",
      "0.8571428571428571\n",
      "\n",
      "hunting_df.loc[2, 'percent_fit'] = (0+1+1+1+1+1+1)/7\n",
      "Pickling to D:\\Documents\\Repositories\\notebooks\\Miscellaneous\\saves\\pickle\\hunting_df.pickle\n",
      "Basic Qualifications:\n",
      "quals_list[0] = \"5 years of experience with developing solutions for C# and ASP.NET, the .NET Framework, LINQ, JavaScript, JSON, or jQuery and database technologies, including SQL Server\" (0.5045578216620129)\n",
      "quals_list[1] = \"Knowledge of Model-View Controller (MVC)\" (0.5209420671308578)\n",
      "quals_list[2] = \"Knowledge of developing applications on MVC with Razor and WebForms\" (0.4510084672680071)\n",
      "quals_list[3] = \"Ability to develop complex SQL, including stored procedures, triggers, functions, or complex queries\" (0.8149039987604532)\n",
      "quals_list[4] = \"Ability to be professional, mature, and maintain a positive attitude\" (0.6451180355902476)\n",
      "quals_list[5] = \"Ability to be a self-starter and work as part of a team and independently with minimal supervision\" (0.8011240891627274)\n",
      "quals_list[6] = \"Secret clearance\" (0.7910254037977458)\n",
      "quals_list[7] = \"BA or BS degree\" (0.8020448455208821)\n",
      "0.875\n",
      "\n",
      "hunting_df.loc[3, 'percent_fit'] = (0+1+0+1+1+1+1+1)/8\n",
      "Pickling to D:\\Documents\\Repositories\\notebooks\\Miscellaneous\\saves\\pickle\\hunting_df.pickle\n",
      "Pickling to D:\\Documents\\Repositories\\notebooks\\Miscellaneous\\saves\\pickle\\hunting_df.pickle\n",
      "Pickling to D:\\Documents\\Repositories\\notebooks\\Miscellaneous\\saves\\pickle\\hunting_df.pickle\n",
      "Pickling to D:\\Documents\\Repositories\\notebooks\\Miscellaneous\\saves\\pickle\\hunting_df.pickle\n",
      "Pickling to D:\\Documents\\Repositories\\notebooks\\Miscellaneous\\saves\\pickle\\hunting_df.pickle\n",
      "Pickling to D:\\Documents\\Repositories\\notebooks\\Miscellaneous\\saves\\pickle\\hunting_df.pickle\n",
      "Pickling to D:\\Documents\\Repositories\\notebooks\\Miscellaneous\\saves\\pickle\\hunting_df.pickle\n",
      "Pickling to D:\\Documents\\Repositories\\notebooks\\Miscellaneous\\saves\\pickle\\hunting_df.pickle\n",
      "Basic Qualifications:\n",
      "quals_list[0] = \"Experience with digital web production or in an operations environment\" (0.6333816171388243)\n",
      "quals_list[1] = \"Experience with Microsoft Office, including Word, Excel, and PowerPoint\" (0.9137126943101546)\n",
      "quals_list[2] = \"Ability to learn and apply Search Engine Optimization techniques\" (0.6696628123711967)\n",
      "quals_list[3] = \"Ability to work with minimal supervision\" (0.8040806453825392)\n",
      "quals_list[4] = \"Scheduled to obtain a BA or BS degree by May 2022\" (0.7879581925602632)\n",
      "1.0\n",
      "\n",
      "hunting_df.loc[11, 'percent_fit'] = (1+1+1+1+1)/5\n",
      "Pickling to D:\\Documents\\Repositories\\notebooks\\Miscellaneous\\saves\\pickle\\hunting_df.pickle\n",
      "Pickling to D:\\Documents\\Repositories\\notebooks\\Miscellaneous\\saves\\pickle\\hunting_df.pickle\n",
      "Basic Qualifications:\n",
      "quals_list[0] = \"Experience with using social media for professional purposes\" (0.510982736636749)\n",
      "quals_list[1] = \"Experience with Microsoft Office, including Word, Excel, and PowerPoint\" (0.9137126943101546)\n",
      "quals_list[2] = \"Ability to work with minimal supervision and conduct research\" (0.7122040211593484)\n",
      "*quals_list[3] = \"Scheduled to obtain a BA or BS degree by December 2020 or May or June 2021\" (0.779028146871425)\n",
      "1.0\n",
      "\n",
      "hunting_df.loc[13, 'percent_fit'] = (0+1+1+000)/4\n",
      "0/3104 = 0% completed\n"
     ]
    }
   ],
   "source": [
    "\n",
    "# Loop through all the unset %fit values, set them if you can, break for help if you can't\n",
    "mask_series = (hunting_df.percent_fit >= 0.0)\n",
    "for row_index, row_series in hunting_df[~mask_series].iterrows():\n",
    "    quals_list, job_fitness = print_fit_job(row_index, row_series, basic_quals_dict)\n",
    "    if job_fitness > 0.8:\n",
    "        if all(qual_str in basic_quals_dict for qual_str in quals_list):\n",
    "            hunting_df.loc[row_index, 'percent_fit'] = eval(' + '.join(map(qual_sum, quals_list))) / len(quals_list)\n",
    "            s.store_objects(hunting_df=hunting_df)\n",
    "        else:\n",
    "            break\n",
    "    else:\n",
    "        if len(quals_list):\n",
    "            hunting_df.loc[row_index, 'percent_fit'] = eval(' + '.join(map(qual_sum, quals_list))) / len(quals_list)\n",
    "            s.store_objects(hunting_df=hunting_df)\n",
    "print('{}/{} = {}% completed'.format(hunting_df[mask_series].shape[0], hunting_df.shape[0],\n",
    "                                     int(100 * hunting_df[mask_series].shape[0] / hunting_df.shape[0])))"
   ]
  },
  {
   "cell_type": "code",
   "execution_count": 181,
   "metadata": {},
   "outputs": [
    {
     "name": "stdout",
     "output_type": "stream",
     "text": [
      "Scheduled to obtain a BA or BS degree in Spring or Fall 2020, Spring or Fall 2021 or Spring or Fall 2022\n",
      "Pickling to D:\\Documents\\Repositories\\notebooks\\Miscellaneous\\saves\\pickle\\basic_quals_dict.pickle\n"
     ]
    }
   ],
   "source": [
    "\n",
    "# Manually label the unscored qual\n",
    "qualification_str = quals_list[6]\n",
    "print(qualification_str)\n",
    "basic_quals_dict[qualification_str] = 1\n",
    "s.store_objects(basic_quals_dict=basic_quals_dict)"
   ]
  },
  {
   "cell_type": "markdown",
   "metadata": {},
   "source": [
    "\n",
    "---\n",
    "# Create the emails"
   ]
  },
  {
   "cell_type": "code",
   "execution_count": 19,
   "metadata": {},
   "outputs": [
    {
     "name": "stdout",
     "output_type": "stream",
     "text": [
      "(0, 36)\n",
      "Series([], dtype: float64)\n"
     ]
    }
   ],
   "source": [
    "\n",
    "def f(x):\n",
    "    \n",
    "    return 'python' in str(x).lower()\n",
    "\n",
    "def g(x):\n",
    "    \n",
    "    return 'polygraph' in str(x).lower()\n",
    "\n",
    "ds_regex = re.compile(r'data *scien')\n",
    "ml_regex = re.compile(r'machine *learning|\\bML\\b')\n",
    "def ff(x):\n",
    "    x = str(x).lower()\n",
    "    if ds_regex.search(x) or ml_regex.search(x) or ('python' in x):\n",
    "        match = True\n",
    "    else:\n",
    "        match = False\n",
    "    \n",
    "    return match\n",
    "\n",
    "mask_series = hunting_df['Job Requisition Type'].isin(['Sold and Funded', 'Sold & Unfunded'])\n",
    "#mask_series = mask_series & hunting_df['Job Description'].map(f)\n",
    "mask_series = mask_series & hunting_df['Job Description'].map(ff)\n",
    "mask_series = mask_series & (hunting_df.percent_fit >= 0.85) & ~hunting_df['is_opportunity_application_emailed']\n",
    "mask_series = mask_series & ~(hunting_df.is_remote_delivery == False)\n",
    "mask_series = mask_series & ~hunting_df['Required Clearance'].isin(['TS/SCI', 'TS/SCI w/CIP', 'TS/SCI w/FSP'])\n",
    "mask_series = mask_series & ~hunting_df['Job Description'].map(g)\n",
    "print(hunting_df[mask_series].shape)\n",
    "print(hunting_df[mask_series].groupby('Required Clearance').count().T.max().sort_values(ascending=False))"
   ]
  },
  {
   "cell_type": "code",
   "execution_count": null,
   "metadata": {},
   "outputs": [],
   "source": [
    "\n",
    "hunting_df[mask_series].head(5).T"
   ]
  },
  {
   "cell_type": "code",
   "execution_count": 20,
   "metadata": {},
   "outputs": [],
   "source": [
    "\n",
    "print_emails(mask_series)"
   ]
  },
  {
   "cell_type": "code",
   "execution_count": 194,
   "metadata": {},
   "outputs": [
    {
     "name": "stdout",
     "output_type": "stream",
     "text": [
      "Pickling to D:\\Documents\\Repositories\\notebooks\\Miscellaneous\\saves\\pickle\\hunting_df.pickle\n"
     ]
    }
   ],
   "source": [
    "\n",
    "# Manually note the email has been sent\n",
    "req_id = 'R0081074'.strip()\n",
    "mask_series = (hunting_df['Job Requisition ID'] == req_id)\n",
    "hunting_df.loc[mask_series, 'is_opportunity_application_emailed'] = True\n",
    "s.store_objects(hunting_df=hunting_df)"
   ]
  },
  {
   "cell_type": "markdown",
   "metadata": {},
   "source": [
    "\n",
    "---\n",
    "# Flag setting"
   ]
  },
  {
   "cell_type": "code",
   "execution_count": 34,
   "metadata": {},
   "outputs": [
    {
     "name": "stdout",
     "output_type": "stream",
     "text": [
      "Pickling to D:\\Documents\\Repositories\\notebooks\\Miscellaneous\\saves\\pickle\\hunting_df.pickle\n"
     ]
    }
   ],
   "source": [
    "\n",
    "# Set notes for this one job\n",
    "req_id = 'R0063024'\n",
    "mask_series = (hunting_df['Job Requisition ID'] == req_id)\n",
    "manager_notes = hunting_df.loc[mask_series, 'manager_notes'].tolist()[0]\n",
    "if len(manager_notes):\n",
    "    manager_notes += ' '\n",
    "manager_notes += 'Due to the hiring freeze that job req was recently taken down.'\n",
    "manager_notes += ''\n",
    "hunting_df.loc[mask_series, 'manager_notes'] = manager_notes\n",
    "s.store_objects(hunting_df=hunting_df)"
   ]
  },
  {
   "cell_type": "code",
   "execution_count": 35,
   "metadata": {},
   "outputs": [
    {
     "name": "stdout",
     "output_type": "stream",
     "text": [
      "Pickling to D:\\Documents\\Repositories\\notebooks\\Miscellaneous\\saves\\pickle\\hunting_df.pickle\n"
     ]
    }
   ],
   "source": [
    "\n",
    "# Set remote delivery for this one job\n",
    "req_id = 'R0063024'\n",
    "mask_series = (hunting_df['Job Requisition ID'] == req_id)\n",
    "hunting_df.loc[mask_series, 'is_remote_delivery'] = False\n",
    "s.store_objects(hunting_df=hunting_df)"
   ]
  },
  {
   "cell_type": "code",
   "execution_count": 2,
   "metadata": {},
   "outputs": [
    {
     "data": {
      "text/plain": [
       "Index(['Hiring Manager', 'Management Level', 'IMT', 'Job Requisition',\n",
       "       'Job Requisition Type', 'Cluster', 'Time Type', 'Job Posting Title',\n",
       "       'Safi Recommendation', 'Recruiting Start Date', 'Account Group',\n",
       "       'Job Requisition ID', 'Job Type', 'Supervisory Organization',\n",
       "       'Clearance Agency', 'Primary Location State/Province', 'Furthest Stage',\n",
       "       'Resource Manager', 'Primary Location', 'Job Description', 'Group',\n",
       "       'Job Profile', 'Job Family Group', 'FSO', 'Job Family',\n",
       "       'Job Requisition Status', 'Business Title', 'Job Posting',\n",
       "       'Primary Location Country', 'Required Clearance', 'Primary Recruiter',\n",
       "       'percent_fit', 'is_opportunity_application_emailed', 'opportunity_application_email_date',\n",
       "       'is_remote_delivery', 'manager_notes', 'CS Notes'],\n",
       "      dtype='object')"
      ]
     },
     "execution_count": 2,
     "metadata": {},
     "output_type": "execute_result"
    }
   ],
   "source": [
    "\n",
    "hunting_df.columns"
   ]
  },
  {
   "cell_type": "code",
   "execution_count": 25,
   "metadata": {},
   "outputs": [
    {
     "name": "stdout",
     "output_type": "stream",
     "text": [
      "Thanks for the feedback. I have marked all the reqs you are associated with (R0073719, R0073918, R0074423, R0073696, R0073709, R0073944, R0073943, R0073942, R0073940, R0073939, R0073718, R0073808, R0074424, R0073711, R0076554, R0079010, R0079006, and R0081219).\n",
      "Pickling to D:\\Documents\\Repositories\\notebooks\\Miscellaneous\\saves\\pickle\\hunting_df.pickle\n"
     ]
    }
   ],
   "source": [
    "\n",
    "column_name = 'Primary Recruiter'\n",
    "last_name = 'Sallis'.lower()\n",
    "first_name = 'Michael'.lower()\n",
    "\n",
    "def f(x):\n",
    "    x = str(x).lower()\n",
    "    \n",
    "    return (first_name in x) and (last_name in x)\n",
    "\n",
    "column_name = 'Hiring Manager'\n",
    "last_name = 'Arunachalam'.lower()\n",
    "first_name = 'Siva'.lower()\n",
    "\n",
    "def g(x):\n",
    "    x = str(x).lower()\n",
    "    \n",
    "    return (first_name in x) and (last_name in x)\n",
    "\n",
    "mask_series = hunting_df[column_name].map(f) & hunting_df[column_name].map(g)\n",
    "req_id_list = hunting_df[mask_series]['Job Requisition ID'].tolist()\n",
    "formatted_str = 'Thanks for the feedback. I have marked all the reqs you are associated with ({}).'\n",
    "print(formatted_str.format(conjunctify_list(req_id_list)))\n",
    "mask_series = hunting_df['Job Requisition ID'].isin(req_id_list)\n",
    "hunting_df.loc[mask_series, 'is_remote_delivery'] = False\n",
    "hunting_df.loc[mask_series, 'is_opportunity_application_emailed'] = True\n",
    "s.store_objects(hunting_df=hunting_df)"
   ]
  },
  {
   "cell_type": "code",
   "execution_count": 208,
   "metadata": {},
   "outputs": [
    {
     "name": "stdout",
     "output_type": "stream",
     "text": [
      "Is she talking about the 121 reqs in her location?\n",
      "Is she talking about the 2 reqs she is managing?\n",
      "Pickling to D:\\Documents\\Repositories\\notebooks\\Miscellaneous\\saves\\pickle\\hunting_df.pickle\n",
      "Thank you for the feedback. I am assuming you are talking about the 2 reqs you are managing at your location (R0071717 and R0079210).\n"
     ]
    }
   ],
   "source": [
    "\n",
    "# Currently all our roles are local to the DC Metro Area.\n",
    "req_id = 'R0079210'\n",
    "mask_series = (hunting_df['Job Requisition ID'] == req_id)\n",
    "location = hunting_df[mask_series]['Primary Location'].tolist()[0]\n",
    "manager = hunting_df[mask_series]['Hiring Manager'].tolist()[0]\n",
    "mask_series = (hunting_df['Primary Location'] == location)\n",
    "print('Is she talking about the {} reqs in her location?'.format(hunting_df[mask_series].shape[0]))\n",
    "mask_series = (hunting_df['Hiring Manager'] == manager)\n",
    "print('Is she talking about the {} reqs she is managing?'.format(hunting_df[mask_series].shape[0]))\n",
    "mask_series = (hunting_df['Primary Location'] == location) & (hunting_df['Hiring Manager'] == manager)\n",
    "formatted_str = 'Thank you for the feedback. I am assuming you are talking about the {} reqs you are managing at your location ({}).'\n",
    "\n",
    "# Set remote delivery for this list of jobs\n",
    "req_id_list = hunting_df[mask_series]['Job Requisition ID'].tolist()\n",
    "mask_series = hunting_df['Job Requisition ID'].isin(req_id_list)\n",
    "hunting_df.loc[mask_series, 'is_remote_delivery'] = False\n",
    "hunting_df.loc[mask_series, 'is_opportunity_application_emailed'] = True\n",
    "s.store_objects(hunting_df=hunting_df)\n",
    "print(formatted_str.format(hunting_df[mask_series].shape[0], conjunctify_list(req_id_list)))"
   ]
  },
  {
   "cell_type": "code",
   "execution_count": 53,
   "metadata": {},
   "outputs": [
    {
     "name": "stdout",
     "output_type": "stream",
     "text": [
      "Thanks for the feedback. Does this include all the reqs you are associated with (R0080347)?\n",
      "Pickling to D:\\Documents\\Repositories\\notebooks\\Miscellaneous\\saves\\pickle\\hunting_df.pickle\n"
     ]
    }
   ],
   "source": [
    "\n",
    "column_name = 'Hiring Manager'\n",
    "last_name = 'Cofrancesco'.lower()\n",
    "first_name = 'Elaine'.lower()\n",
    "\n",
    "def f(x):\n",
    "    x = str(x).lower()\n",
    "    \n",
    "    return (first_name in x) and (last_name in x)\n",
    "\n",
    "mask_series = hunting_df[column_name].map(f)\n",
    "req_id_list = hunting_df[mask_series]['Job Requisition ID'].tolist()\n",
    "formatted_str = 'Thanks for the feedback. Does this include all the reqs you are associated with ({})?'\n",
    "print(formatted_str.format(conjunctify_list(req_id_list)))\n",
    "mask_series = hunting_df['Job Requisition ID'].isin(req_id_list)\n",
    "hunting_df.loc[mask_series, 'is_remote_delivery'] = False\n",
    "hunting_df.loc[mask_series, 'is_opportunity_application_emailed'] = True\n",
    "s.store_objects(hunting_df=hunting_df)"
   ]
  },
  {
   "cell_type": "code",
   "execution_count": 289,
   "metadata": {},
   "outputs": [
    {
     "name": "stdout",
     "output_type": "stream",
     "text": [
      "Pickling to D:\\Documents\\Repositories\\notebooks\\Miscellaneous\\saves\\pickle\\hunting_df.pickle\n"
     ]
    }
   ],
   "source": [
    "\n",
    "column_name = 'Hiring Manager'\n",
    "last_name = 'Jendzejec'.lower()\n",
    "first_name = 'Alexander'.lower()\n",
    "\n",
    "def f(x):\n",
    "    x = str(x).lower()\n",
    "    \n",
    "    return (first_name in x) and (last_name in x)\n",
    "\n",
    "mask_series = hunting_df[column_name].map(f)\n",
    "hunting_df.loc[mask_series, 'is_remote_delivery'] = False\n",
    "hunting_df.loc[mask_series, 'is_opportunity_application_emailed'] = True\n",
    "s.store_objects(hunting_df=hunting_df)"
   ]
  },
  {
   "cell_type": "code",
   "execution_count": 89,
   "metadata": {},
   "outputs": [
    {
     "name": "stdout",
     "output_type": "stream",
     "text": [
      "Pickling to D:\\Documents\\Repositories\\notebooks\\Miscellaneous\\saves\\pickle\\hunting_df.pickle\n"
     ]
    }
   ],
   "source": [
    "\n",
    "column_name = 'Hiring Manager'\n",
    "last_name = 'ferraro'\n",
    "first_name = 'mike'\n",
    "\n",
    "def f(x):\n",
    "    x = str(x).lower()\n",
    "    \n",
    "    return (first_name in x) and (last_name in x)\n",
    "\n",
    "mask_series = hunting_df[column_name].map(f)\n",
    "hunting_df.loc[mask_series, 'is_remote_delivery'] = False\n",
    "hunting_df.loc[mask_series, 'is_opportunity_application_emailed'] = True\n",
    "s.store_objects(hunting_df=hunting_df)"
   ]
  },
  {
   "cell_type": "code",
   "execution_count": 81,
   "metadata": {},
   "outputs": [
    {
     "name": "stdout",
     "output_type": "stream",
     "text": [
      "Pickling to D:\\Documents\\Repositories\\notebooks\\Miscellaneous\\saves\\pickle\\hunting_df.pickle\n"
     ]
    }
   ],
   "source": [
    "\n",
    "# Set remote delivery for this list of jobs\n",
    "req_id_list = ['R0072627', 'R0072630', 'R0072685', 'R0072688', 'R0072699', 'R0072700', 'R0078787', 'R0078792', 'R0078793', 'R0072670',\n",
    "               'R0072672', 'R0078798', 'R0078799']\n",
    "mask_series = hunting_df['Job Requisition ID'].isin(req_id_list)\n",
    "hunting_df.loc[mask_series, 'is_remote_delivery'] = False\n",
    "hunting_df.loc[mask_series, 'is_opportunity_application_emailed'] = True\n",
    "s.store_objects(hunting_df=hunting_df)"
   ]
  },
  {
   "cell_type": "code",
   "execution_count": 38,
   "metadata": {},
   "outputs": [
    {
     "name": "stdout",
     "output_type": "stream",
     "text": [
      "Pickling to D:\\Documents\\Repositories\\notebooks\\Miscellaneous\\saves\\pickle\\hunting_df.pickle\n"
     ]
    }
   ],
   "source": [
    "\n",
    "# Set remote delivery for this list of jobs\n",
    "req_id_list = ['R0073564', 'R0073583', 'R0073584', 'R0073585', 'R0073586']\n",
    "mask_series = hunting_df['Job Requisition ID'].isin(req_id_list)\n",
    "hunting_df.loc[mask_series, 'is_remote_delivery'] = True\n",
    "hunting_df.loc[mask_series, 'is_opportunity_application_emailed'] = True\n",
    "s.store_objects(hunting_df=hunting_df)"
   ]
  },
  {
   "cell_type": "code",
   "execution_count": null,
   "metadata": {},
   "outputs": [],
   "source": [
    "\n",
    "# Set university recruiting for this job\n",
    "req_id = 'R0066388'\n",
    "mask_series = (hunting_df['Job Requisition ID'] == req_id)\n",
    "hunting_df.loc[mask_series, 'is_for_university_recruiting'] = 1\n",
    "s.store_objects(hunting_df=hunting_df)"
   ]
  },
  {
   "cell_type": "code",
   "execution_count": null,
   "metadata": {},
   "outputs": [],
   "source": [
    "\n",
    "# Manually note you can't do this job from home\n",
    "req_id = 'R0064764'\n",
    "mask_series = (hunting_df['Job Requisition ID'] == req_id)\n",
    "hunting_df.loc[mask_series, 'is_remote_delivery'] = False\n",
    "s.store_objects(hunting_df=hunting_df)"
   ]
  },
  {
   "cell_type": "code",
   "execution_count": null,
   "metadata": {},
   "outputs": [],
   "source": [
    "\n",
    "# Manually note you can't do this job from home\n",
    "hunting_df.loc[83, 'is_remote_delivery'] = False\n",
    "s.store_objects(hunting_df=hunting_df)"
   ]
  },
  {
   "cell_type": "code",
   "execution_count": null,
   "metadata": {},
   "outputs": [],
   "source": [
    "\n",
    "mask_series = (hunting_df.index == 2616)\n",
    "hunting_df.loc[mask_series, 'is_for_university_recruiting'] = 1\n",
    "hunting_df.loc[mask_series, 'percent_fit'] = 0.0\n",
    "s.store_objects(hunting_df=hunting_df)"
   ]
  }
 ],
 "metadata": {
  "kernelspec": {
   "display_name": "Python 3",
   "language": "python",
   "name": "python3"
  },
  "language_info": {
   "codemirror_mode": {
    "name": "ipython",
    "version": 3
   },
   "file_extension": ".py",
   "mimetype": "text/x-python",
   "name": "python",
   "nbconvert_exporter": "python",
   "pygments_lexer": "ipython3",
   "version": "3.7.6"
  }
 },
 "nbformat": 4,
 "nbformat_minor": 4
}
