{
 "cells": [
  {
   "cell_type": "code",
   "execution_count": 2,
   "metadata": {
    "collapsed": false,
    "scrolled": true
   },
   "outputs": [
    {
     "name": "stderr",
     "output_type": "stream",
     "text": [
      "A subdirectory or file ..\\data already exists.\n",
      "A subdirectory or file ..\\data\\csv already exists.\n",
      "A subdirectory or file ..\\saves already exists.\n",
      "A subdirectory or file ..\\saves\\pickle already exists.\n",
      "A subdirectory or file ..\\saves\\csv already exists.\n"
     ]
    }
   ],
   "source": [
    "# %load ../../load_magic/storage.py\n",
    "\n",
    "!mkdir ..\\data\n",
    "!mkdir ..\\data\\csv\n",
    "!mkdir ..\\saves\n",
    "!mkdir ..\\saves\\pickle\n",
    "!mkdir ..\\saves\\csv\n",
    "import pickle\n",
    "import os\n",
    "\n",
    "# Handy list of the different types of encodings\n",
    "encoding = ['latin1', 'iso8859-1', 'utf-8'][2]\n",
    "\n",
    "# Change this to your data and saves folders\n",
    "data_folder = r'../data/'\n",
    "saves_folder = r'../saves/'"
   ]
  },
  {
   "cell_type": "code",
   "execution_count": 4,
   "metadata": {
    "collapsed": false,
    "scrolled": false
   },
   "outputs": [
    {
     "name": "stdout",
     "output_type": "stream",
     "text": [
      "C:\\Users\\Dave\\Documents\\notebooks\\Skills\\ipynb\\tutorial.ipynb\n",
      "C:\\Users\\Dave\\Documents\\notebooks\\Skills\\ipynb\\basic\\properties.ipynb\n",
      "C:\\Users\\Dave\\Documents\\notebooks\\Skills\\ipynb\\basic\\read_write.ipynb\n",
      "C:\\Users\\Dave\\Documents\\notebooks\\Skills\\ipynb\\drawing\\degree_histogram.ipynb\n",
      "C:\\Users\\Dave\\Documents\\notebooks\\Skills\\ipynb\\drawing\\edge_colormap.ipynb\n",
      "C:\\Users\\Dave\\Documents\\notebooks\\Skills\\ipynb\\drawing\\ego_graph.ipynb\n",
      "C:\\Users\\Dave\\Documents\\notebooks\\Skills\\ipynb\\drawing\\four_grids.ipynb\n",
      "C:\\Users\\Dave\\Documents\\notebooks\\Skills\\ipynb\\drawing\\node_colormap.ipynb\n",
      "C:\\Users\\Dave\\Documents\\notebooks\\Skills\\ipynb\\drawing\\simple_path.ipynb\n",
      "C:\\Users\\Dave\\Documents\\notebooks\\Skills\\ipynb\\graph\\atlas.ipynb\n",
      "C:\\Users\\Dave\\Documents\\notebooks\\Skills\\ipynb\\graph\\degree_seq.ipynb\n",
      "C:\\Users\\Dave\\Documents\\notebooks\\Skills\\ipynb\\graph\\erdos_renyi.ipynb\n",
      "C:\\Users\\Dave\\Documents\\notebooks\\Skills\\ipynb\\graph\\expected_degree_sequence.ipynb\n",
      "C:\\Users\\Dave\\Documents\\notebooks\\Skills\\ipynb\\graph\\football.ipynb\n",
      "C:\\Users\\Dave\\Documents\\notebooks\\Skills\\ipynb\\subclass\\antigraph.ipynb\n",
      "C:\\Users\\Dave\\Documents\\notebooks\\Skills\\ipynb\\subclass\\printgraph.ipynb\n"
     ]
    }
   ],
   "source": [
    "\n",
    "# Copy all notebooks from the repositories\n",
    "import os\n",
    "import re\n",
    "\n",
    "rootdir = r'C:\\Users\\Dave\\Documents\\My Repositories\\networkx_notebooks'\n",
    "black_list = ['.ipynb_checkpoints']\n",
    "\n",
    "for subdir, dirs, files in os.walk(rootdir):\n",
    "    for src_file in files:\n",
    "        if all(map(lambda x: x not in subdir, black_list)):\n",
    "            if src_file.endswith('.ipynb'):\n",
    "                src_path = os.path.join(subdir, src_file)\n",
    "                dst_dir = os.path.normpath(os.getcwd() + '\\\\'.join(subdir.rsplit(rootdir)))\n",
    "                if not os.path.isdir(dst_dir):\n",
    "                    os.makedirs(dst_dir)\n",
    "                dst_path = dst_dir + '\\\\' + src_file\n",
    "                if not os.path.isfile(dst_path):\n",
    "                    copyfile(src_path, dst_path)\n",
    "                    print(dst_path)"
   ]
  },
  {
   "cell_type": "code",
   "execution_count": 5,
   "metadata": {
    "collapsed": true,
    "scrolled": false
   },
   "outputs": [],
   "source": [
    "\n",
    "# Where are any wav files?\n",
    "import os\n",
    "from shutil import copyfile\n",
    "\n",
    "rootdir = '/'\n",
    "black_list = ['.Trash']\n",
    "\n",
    "for subdir, dirs, files in os.walk(rootdir):\n",
    "    for src_file in files:\n",
    "        if all(map(lambda x: x not in subdir, black_list)):\n",
    "            if src_file.endswith('.wave'):\n",
    "                src_path = os.path.join(subdir, src_file)\n",
    "                dst_dir = os.path.normpath(os.getcwd() + '../data/wav' + '/'.join(subdir.rsplit(rootdir)))\n",
    "                if not os.path.isdir(dst_dir):\n",
    "                    os.makedirs(dst_dir)\n",
    "                dst_path = dst_dir + '/' + src_file\n",
    "                if not os.path.isfile(dst_path):\n",
    "                    #copyfile(src_path, dst_path)\n",
    "                    print(dst_path)"
   ]
  },
  {
   "cell_type": "code",
   "execution_count": null,
   "metadata": {
    "collapsed": true
   },
   "outputs": [],
   "source": []
  }
 ],
 "metadata": {
  "anaconda-cloud": {},
  "kernelspec": {
   "display_name": "Python 3",
   "language": "python",
   "name": "python3"
  },
  "language_info": {
   "codemirror_mode": {
    "name": "ipython",
    "version": 3
   },
   "file_extension": ".py",
   "mimetype": "text/x-python",
   "name": "python",
   "nbconvert_exporter": "python",
   "pygments_lexer": "ipython3",
   "version": "3.5.2"
  }
 },
 "nbformat": 4,
 "nbformat_minor": 2
}
